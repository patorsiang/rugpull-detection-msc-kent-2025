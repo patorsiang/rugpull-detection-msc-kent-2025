{
 "cells": [
  {
   "cell_type": "markdown",
   "id": "c5f60bf5",
   "metadata": {},
   "source": [
    "# Exploratory Data Analysis (EDA)"
   ]
  },
  {
   "cell_type": "markdown",
   "id": "cfeb9190",
   "metadata": {},
   "source": [
    "## Set up"
   ]
  },
  {
   "cell_type": "code",
   "execution_count": 1,
   "id": "fd2f38bb",
   "metadata": {},
   "outputs": [],
   "source": [
    "import warnings\n",
    "warnings.filterwarnings(\"ignore\")"
   ]
  },
  {
   "cell_type": "code",
   "execution_count": 2,
   "id": "b46db397",
   "metadata": {},
   "outputs": [],
   "source": [
    "import pandas as pd\n",
    "import matplotlib.pyplot as plt\n",
    "import seaborn as sns\n",
    "import re\n",
    "import os\n",
    "from pathlib import Path\n",
    "from matplotlib_venn import venn3\n",
    "from sklearn.preprocessing import MultiLabelBinarizer\n"
   ]
  },
  {
   "cell_type": "code",
   "execution_count": 3,
   "id": "00a4b6cd",
   "metadata": {},
   "outputs": [],
   "source": [
    "PATH = Path.cwd().parents[1]\n",
    "DATA_PATH = os.path.join(PATH, 'data/external')\n",
    "CRPWARNER_PATH = os.path.join(DATA_PATH, 'crpwarner/dataset')\n",
    "CRP_LARGE_PATH = os.path.join(CRPWARNER_PATH, 'large/sample')"
   ]
  },
  {
   "cell_type": "code",
   "execution_count": 4,
   "id": "3767232c",
   "metadata": {},
   "outputs": [],
   "source": [
    "# Normalize address columns\n",
    "def clean_addresses(df):\n",
    "    df['Address'] = df['Address'].astype(str).str.lower().str.strip()\n",
    "    return set(df['Address'])"
   ]
  },
  {
   "cell_type": "markdown",
   "id": "d91a3e6e",
   "metadata": {},
   "source": [
    "## Load Data"
   ]
  },
  {
   "cell_type": "code",
   "execution_count": 5,
   "id": "4d0ae8a2",
   "metadata": {},
   "outputs": [
    {
     "data": {
      "application/vnd.microsoft.datawrangler.viewer.v0+json": {
       "columns": [
        {
         "name": "index",
         "rawType": "int64",
         "type": "integer"
        },
        {
         "name": "address",
         "rawType": "object",
         "type": "string"
        },
        {
         "name": "Mint",
         "rawType": "int64",
         "type": "integer"
        },
        {
         "name": "Leak",
         "rawType": "int64",
         "type": "integer"
        },
        {
         "name": "Limit",
         "rawType": "int64",
         "type": "integer"
        }
       ],
       "ref": "e23c589e-bd69-4c41-8da0-f7d0e9600ff9",
       "rows": [
        [
         "0",
         "0x93023F1D3525E273F291B6f76d2F5027A39BF302",
         "1",
         "0",
         "1"
        ],
        [
         "1",
         "0x2753dcE37A7eDB052a77832039bcc9aA49Ad8b25",
         "0",
         "0",
         "1"
        ],
        [
         "2",
         "0x94b7D24552933F50A5A5705C446528806dCeA381",
         "0",
         "0",
         "0"
        ],
        [
         "3",
         "0xE0b9d4146AaD6936cBfcBE4dAE47e34aAb96b093",
         "0",
         "0",
         "0"
        ],
        [
         "4",
         "0x10f6f2b97F3aB29583D9D38BaBF2994dF7220C21",
         "1",
         "0",
         "1"
        ]
       ],
       "shape": {
        "columns": 4,
        "rows": 5
       }
      },
      "text/html": [
       "<div>\n",
       "<style scoped>\n",
       "    .dataframe tbody tr th:only-of-type {\n",
       "        vertical-align: middle;\n",
       "    }\n",
       "\n",
       "    .dataframe tbody tr th {\n",
       "        vertical-align: top;\n",
       "    }\n",
       "\n",
       "    .dataframe thead th {\n",
       "        text-align: right;\n",
       "    }\n",
       "</style>\n",
       "<table border=\"1\" class=\"dataframe\">\n",
       "  <thead>\n",
       "    <tr style=\"text-align: right;\">\n",
       "      <th></th>\n",
       "      <th>address</th>\n",
       "      <th>Mint</th>\n",
       "      <th>Leak</th>\n",
       "      <th>Limit</th>\n",
       "    </tr>\n",
       "  </thead>\n",
       "  <tbody>\n",
       "    <tr>\n",
       "      <th>0</th>\n",
       "      <td>0x93023F1D3525E273F291B6f76d2F5027A39BF302</td>\n",
       "      <td>1</td>\n",
       "      <td>0</td>\n",
       "      <td>1</td>\n",
       "    </tr>\n",
       "    <tr>\n",
       "      <th>1</th>\n",
       "      <td>0x2753dcE37A7eDB052a77832039bcc9aA49Ad8b25</td>\n",
       "      <td>0</td>\n",
       "      <td>0</td>\n",
       "      <td>1</td>\n",
       "    </tr>\n",
       "    <tr>\n",
       "      <th>2</th>\n",
       "      <td>0x94b7D24552933F50A5A5705C446528806dCeA381</td>\n",
       "      <td>0</td>\n",
       "      <td>0</td>\n",
       "      <td>0</td>\n",
       "    </tr>\n",
       "    <tr>\n",
       "      <th>3</th>\n",
       "      <td>0xE0b9d4146AaD6936cBfcBE4dAE47e34aAb96b093</td>\n",
       "      <td>0</td>\n",
       "      <td>0</td>\n",
       "      <td>0</td>\n",
       "    </tr>\n",
       "    <tr>\n",
       "      <th>4</th>\n",
       "      <td>0x10f6f2b97F3aB29583D9D38BaBF2994dF7220C21</td>\n",
       "      <td>1</td>\n",
       "      <td>0</td>\n",
       "      <td>1</td>\n",
       "    </tr>\n",
       "  </tbody>\n",
       "</table>\n",
       "</div>"
      ],
      "text/plain": [
       "                                      address  Mint  Leak  Limit\n",
       "0  0x93023F1D3525E273F291B6f76d2F5027A39BF302     1     0      1\n",
       "1  0x2753dcE37A7eDB052a77832039bcc9aA49Ad8b25     0     0      1\n",
       "2  0x94b7D24552933F50A5A5705C446528806dCeA381     0     0      0\n",
       "3  0xE0b9d4146AaD6936cBfcBE4dAE47e34aAb96b093     0     0      0\n",
       "4  0x10f6f2b97F3aB29583D9D38BaBF2994dF7220C21     1     0      1"
      ]
     },
     "execution_count": 5,
     "metadata": {},
     "output_type": "execute_result"
    }
   ],
   "source": [
    "ground_df = pd.read_excel(os.path.join(CRPWARNER_PATH, 'groundtruth/groundTruth.xlsx'))\n",
    "ground_df.head()"
   ]
  },
  {
   "cell_type": "code",
   "execution_count": 6,
   "id": "cb5164aa",
   "metadata": {},
   "outputs": [
    {
     "data": {
      "application/vnd.microsoft.datawrangler.viewer.v0+json": {
       "columns": [
        {
         "name": "index",
         "rawType": "object",
         "type": "string"
        },
        {
         "name": "0",
         "rawType": "int64",
         "type": "integer"
        }
       ],
       "ref": "9794e6ec-761e-4341-a000-9993c3a44c73",
       "rows": [
        [
         "Mint",
         "20"
        ],
        [
         "Leak",
         "9"
        ],
        [
         "Limit",
         "30"
        ]
       ],
       "shape": {
        "columns": 1,
        "rows": 3
       }
      },
      "text/plain": [
       "Mint     20\n",
       "Leak      9\n",
       "Limit    30\n",
       "dtype: int64"
      ]
     },
     "execution_count": 6,
     "metadata": {},
     "output_type": "execute_result"
    }
   ],
   "source": [
    "label_counts = ground_df[[\"Mint\", \"Leak\", \"Limit\"]].sum()\n",
    "label_counts"
   ]
  },
  {
   "cell_type": "code",
   "execution_count": 7,
   "id": "e619a866",
   "metadata": {},
   "outputs": [
    {
     "data": {
      "image/png": "[encoded data removed]",
      "text/plain": [
       "<Figure size 640x480 with 1 Axes>"
      ]
     },
     "metadata": {},
     "output_type": "display_data"
    }
   ],
   "source": [
    "sns.barplot(x=label_counts.index, y=label_counts.values, palette=\"Set2\")\n",
    "plt.title(\"Multi-label Distribution per Scam Type\")\n",
    "plt.xlabel(\"Label\")\n",
    "plt.ylabel(\"Number of Addresses\")\n",
    "plt.show()"
   ]
  },
  {
   "cell_type": "code",
   "execution_count": 8,
   "id": "ecfc6a67",
   "metadata": {},
   "outputs": [
    {
     "data": {
      "application/vnd.microsoft.datawrangler.viewer.v0+json": {
       "columns": [
        {
         "name": "label_combo",
         "rawType": "object",
         "type": "string"
        },
        {
         "name": "count",
         "rawType": "int64",
         "type": "integer"
        }
       ],
       "ref": "b0bb0468-7608-4879-a838-bedda888ecb2",
       "rows": [
        [
         "None",
         "27"
        ],
        [
         "Limit",
         "15"
        ],
        [
         "Mint+Limit",
         "10"
        ],
        [
         "Mint",
         "8"
        ],
        [
         "Leak+Limit",
         "4"
        ],
        [
         "Leak",
         "3"
        ],
        [
         "Mint+Leak",
         "1"
        ],
        [
         "Mint+Leak+Limit",
         "1"
        ]
       ],
       "shape": {
        "columns": 1,
        "rows": 8
       }
      },
      "text/plain": [
       "label_combo\n",
       "None               27\n",
       "Limit              15\n",
       "Mint+Limit         10\n",
       "Mint                8\n",
       "Leak+Limit          4\n",
       "Leak                3\n",
       "Mint+Leak           1\n",
       "Mint+Leak+Limit     1\n",
       "Name: count, dtype: int64"
      ]
     },
     "execution_count": 8,
     "metadata": {},
     "output_type": "execute_result"
    }
   ],
   "source": [
    "label_cols = ['Mint', 'Leak', 'Limit']\n",
    "ground_df['label_combo'] = ground_df[label_cols].apply(\n",
    "    lambda row: '+'.join([label for label in label_cols if row[label] == 1]) or 'None',\n",
    "    axis=1\n",
    ")\n",
    "\n",
    "# Count combinations\n",
    "combo_counts = ground_df['label_combo'].value_counts()\n",
    "combo_counts"
   ]
  },
  {
   "cell_type": "code",
   "execution_count": 9,
   "id": "f1fe359c",
   "metadata": {},
   "outputs": [
    {
     "data": {
      "image/png": "[encoded data removed]",
      "text/plain": [
       "<Figure size 640x480 with 1 Axes>"
      ]
     },
     "metadata": {},
     "output_type": "display_data"
    }
   ],
   "source": [
    "sns.barplot(x=combo_counts.index, y=combo_counts.values, palette=\"Set3\")\n",
    "plt.title(\"Label Combinations per Address\")\n",
    "plt.xlabel(\"Label Combo\")\n",
    "plt.ylabel(\"Count\")\n",
    "plt.xticks(rotation=90)\n",
    "plt.show()"
   ]
  },
  {
   "cell_type": "code",
   "execution_count": 10,
   "id": "777d73e6",
   "metadata": {},
   "outputs": [
    {
     "data": {
      "application/vnd.microsoft.datawrangler.viewer.v0+json": {
       "columns": [
        {
         "name": "index",
         "rawType": "int64",
         "type": "integer"
        },
        {
         "name": "Address",
         "rawType": "object",
         "type": "string"
        },
        {
         "name": "TP?",
         "rawType": "object",
         "type": "string"
        }
       ],
       "ref": "3adf1bcc-414e-434f-b791-9b7da91748a3",
       "rows": [
        [
         "0",
         "0x0fef20d2c4ee011fa0389e69e9fa92a2291b63c8",
         "Yes"
        ],
        [
         "1",
         "0xd7cc0deb9dd11be95068bf2d7a3d082b8ba9bf04",
         "Yes"
        ],
        [
         "2",
         "0xa1b756be589441519b1a08e16bc4f60ab177d916",
         "Yes"
        ],
        [
         "3",
         "0x514bc174df04a4b04ae2be81ee8c788c3796b06b",
         "Yes"
        ],
        [
         "4",
         "0x1354c8c1a66c2573ce9cc3e92e98d17869501a46",
         "Yes"
        ]
       ],
       "shape": {
        "columns": 2,
        "rows": 5
       }
      },
      "text/html": [
       "<div>\n",
       "<style scoped>\n",
       "    .dataframe tbody tr th:only-of-type {\n",
       "        vertical-align: middle;\n",
       "    }\n",
       "\n",
       "    .dataframe tbody tr th {\n",
       "        vertical-align: top;\n",
       "    }\n",
       "\n",
       "    .dataframe thead th {\n",
       "        text-align: right;\n",
       "    }\n",
       "</style>\n",
       "<table border=\"1\" class=\"dataframe\">\n",
       "  <thead>\n",
       "    <tr style=\"text-align: right;\">\n",
       "      <th></th>\n",
       "      <th>Address</th>\n",
       "      <th>TP?</th>\n",
       "    </tr>\n",
       "  </thead>\n",
       "  <tbody>\n",
       "    <tr>\n",
       "      <th>0</th>\n",
       "      <td>0x0fef20d2c4ee011fa0389e69e9fa92a2291b63c8</td>\n",
       "      <td>Yes</td>\n",
       "    </tr>\n",
       "    <tr>\n",
       "      <th>1</th>\n",
       "      <td>0xd7cc0deb9dd11be95068bf2d7a3d082b8ba9bf04</td>\n",
       "      <td>Yes</td>\n",
       "    </tr>\n",
       "    <tr>\n",
       "      <th>2</th>\n",
       "      <td>0xa1b756be589441519b1a08e16bc4f60ab177d916</td>\n",
       "      <td>Yes</td>\n",
       "    </tr>\n",
       "    <tr>\n",
       "      <th>3</th>\n",
       "      <td>0x514bc174df04a4b04ae2be81ee8c788c3796b06b</td>\n",
       "      <td>Yes</td>\n",
       "    </tr>\n",
       "    <tr>\n",
       "      <th>4</th>\n",
       "      <td>0x1354c8c1a66c2573ce9cc3e92e98d17869501a46</td>\n",
       "      <td>Yes</td>\n",
       "    </tr>\n",
       "  </tbody>\n",
       "</table>\n",
       "</div>"
      ],
      "text/plain": [
       "                                      Address  TP?\n",
       "0  0x0fef20d2c4ee011fa0389e69e9fa92a2291b63c8  Yes\n",
       "1  0xd7cc0deb9dd11be95068bf2d7a3d082b8ba9bf04  Yes\n",
       "2  0xa1b756be589441519b1a08e16bc4f60ab177d916  Yes\n",
       "3  0x514bc174df04a4b04ae2be81ee8c788c3796b06b  Yes\n",
       "4  0x1354c8c1a66c2573ce9cc3e92e98d17869501a46  Yes"
      ]
     },
     "execution_count": 10,
     "metadata": {},
     "output_type": "execute_result"
    }
   ],
   "source": [
    "mint_df = pd.read_excel(os.path.join(CRP_LARGE_PATH, 'mint.xlsx'))\n",
    "mint_df.head()"
   ]
  },
  {
   "cell_type": "code",
   "execution_count": 11,
   "id": "846bc21e",
   "metadata": {},
   "outputs": [
    {
     "data": {
      "text/plain": [
       "<Axes: xlabel='TP?', ylabel='count'>"
      ]
     },
     "execution_count": 11,
     "metadata": {},
     "output_type": "execute_result"
    },
    {
     "data": {
      "image/png": "[encoded data removed]",
      "text/plain": [
       "<Figure size 640x480 with 1 Axes>"
      ]
     },
     "metadata": {},
     "output_type": "display_data"
    }
   ],
   "source": [
    "sns.countplot(mint_df, x='TP?')"
   ]
  },
  {
   "cell_type": "code",
   "execution_count": 12,
   "id": "0fbe871c",
   "metadata": {},
   "outputs": [
    {
     "data": {
      "application/vnd.microsoft.datawrangler.viewer.v0+json": {
       "columns": [
        {
         "name": "index",
         "rawType": "int64",
         "type": "integer"
        },
        {
         "name": "Address",
         "rawType": "object",
         "type": "string"
        },
        {
         "name": "TP?",
         "rawType": "object",
         "type": "string"
        }
       ],
       "ref": "e5f479d7-98a5-4827-8911-b97ae98b4ca3",
       "rows": [
        [
         "0",
         "0x0290ea3c728981725689187763f6c63a68e192b8",
         "Yes"
        ],
        [
         "1",
         "0x054ad3cd4a66f14bf5c0de2548a53be66995a4f6",
         "Yes"
        ],
        [
         "2",
         "0x0566c17dc2a9efcaa2f63e04cf06a69e8fc77f60",
         "No"
        ],
        [
         "3",
         "0x10c8324b20b7266c445944f043f53f6a77ea0bd4",
         "Yes"
        ],
        [
         "4",
         "0x10cc060f6f9b2e5dcdb23f1361e4b368a7daec73",
         "Yes"
        ]
       ],
       "shape": {
        "columns": 2,
        "rows": 5
       }
      },
      "text/html": [
       "<div>\n",
       "<style scoped>\n",
       "    .dataframe tbody tr th:only-of-type {\n",
       "        vertical-align: middle;\n",
       "    }\n",
       "\n",
       "    .dataframe tbody tr th {\n",
       "        vertical-align: top;\n",
       "    }\n",
       "\n",
       "    .dataframe thead th {\n",
       "        text-align: right;\n",
       "    }\n",
       "</style>\n",
       "<table border=\"1\" class=\"dataframe\">\n",
       "  <thead>\n",
       "    <tr style=\"text-align: right;\">\n",
       "      <th></th>\n",
       "      <th>Address</th>\n",
       "      <th>TP?</th>\n",
       "    </tr>\n",
       "  </thead>\n",
       "  <tbody>\n",
       "    <tr>\n",
       "      <th>0</th>\n",
       "      <td>0x0290ea3c728981725689187763f6c63a68e192b8</td>\n",
       "      <td>Yes</td>\n",
       "    </tr>\n",
       "    <tr>\n",
       "      <th>1</th>\n",
       "      <td>0x054ad3cd4a66f14bf5c0de2548a53be66995a4f6</td>\n",
       "      <td>Yes</td>\n",
       "    </tr>\n",
       "    <tr>\n",
       "      <th>2</th>\n",
       "      <td>0x0566c17dc2a9efcaa2f63e04cf06a69e8fc77f60</td>\n",
       "      <td>No</td>\n",
       "    </tr>\n",
       "    <tr>\n",
       "      <th>3</th>\n",
       "      <td>0x10c8324b20b7266c445944f043f53f6a77ea0bd4</td>\n",
       "      <td>Yes</td>\n",
       "    </tr>\n",
       "    <tr>\n",
       "      <th>4</th>\n",
       "      <td>0x10cc060f6f9b2e5dcdb23f1361e4b368a7daec73</td>\n",
       "      <td>Yes</td>\n",
       "    </tr>\n",
       "  </tbody>\n",
       "</table>\n",
       "</div>"
      ],
      "text/plain": [
       "                                      Address  TP?\n",
       "0  0x0290ea3c728981725689187763f6c63a68e192b8  Yes\n",
       "1  0x054ad3cd4a66f14bf5c0de2548a53be66995a4f6  Yes\n",
       "2  0x0566c17dc2a9efcaa2f63e04cf06a69e8fc77f60   No\n",
       "3  0x10c8324b20b7266c445944f043f53f6a77ea0bd4  Yes\n",
       "4  0x10cc060f6f9b2e5dcdb23f1361e4b368a7daec73  Yes"
      ]
     },
     "execution_count": 12,
     "metadata": {},
     "output_type": "execute_result"
    }
   ],
   "source": [
    "leak_df = pd.read_excel(os.path.join(CRP_LARGE_PATH, 'leak.xlsx'))\n",
    "leak_df.head()"
   ]
  },
  {
   "cell_type": "code",
   "execution_count": 13,
   "id": "405e93b5",
   "metadata": {},
   "outputs": [
    {
     "data": {
      "text/plain": [
       "<Axes: xlabel='TP?', ylabel='count'>"
      ]
     },
     "execution_count": 13,
     "metadata": {},
     "output_type": "execute_result"
    },
    {
     "data": {
      "image/png": "[encoded data removed]",
      "text/plain": [
       "<Figure size 640x480 with 1 Axes>"
      ]
     },
     "metadata": {},
     "output_type": "display_data"
    }
   ],
   "source": [
    "sns.countplot(mint_df, x='TP?')"
   ]
  },
  {
   "cell_type": "code",
   "execution_count": 14,
   "id": "b2c2bf7b",
   "metadata": {},
   "outputs": [
    {
     "data": {
      "application/vnd.microsoft.datawrangler.viewer.v0+json": {
       "columns": [
        {
         "name": "index",
         "rawType": "int64",
         "type": "integer"
        },
        {
         "name": "Address",
         "rawType": "object",
         "type": "string"
        },
        {
         "name": "TP?",
         "rawType": "object",
         "type": "string"
        }
       ],
       "ref": "5213f2f5-0f1f-43b7-a9a8-6fd85cf071f6",
       "rows": [
        [
         "0",
         "0xe5f3c6d2b47cbe2cf936b9521466bac2422ebef8",
         "Yes"
        ],
        [
         "1",
         "0xa623b5a542c0d7daadef321042a04c600b03a8cb",
         "Yes"
        ],
        [
         "2",
         "0xe412189da2dfa188a1a61633114b8732bbbfba19",
         "Yes"
        ],
        [
         "3",
         "0x9fcf7acdc11fd904c4b73a009909c7f00efc4844",
         "Yes"
        ],
        [
         "4",
         "0x921a5dce3dfed5cccfbb2e593f2978533bc66110",
         "Yes"
        ]
       ],
       "shape": {
        "columns": 2,
        "rows": 5
       }
      },
      "text/html": [
       "<div>\n",
       "<style scoped>\n",
       "    .dataframe tbody tr th:only-of-type {\n",
       "        vertical-align: middle;\n",
       "    }\n",
       "\n",
       "    .dataframe tbody tr th {\n",
       "        vertical-align: top;\n",
       "    }\n",
       "\n",
       "    .dataframe thead th {\n",
       "        text-align: right;\n",
       "    }\n",
       "</style>\n",
       "<table border=\"1\" class=\"dataframe\">\n",
       "  <thead>\n",
       "    <tr style=\"text-align: right;\">\n",
       "      <th></th>\n",
       "      <th>Address</th>\n",
       "      <th>TP?</th>\n",
       "    </tr>\n",
       "  </thead>\n",
       "  <tbody>\n",
       "    <tr>\n",
       "      <th>0</th>\n",
       "      <td>0xe5f3c6d2b47cbe2cf936b9521466bac2422ebef8</td>\n",
       "      <td>Yes</td>\n",
       "    </tr>\n",
       "    <tr>\n",
       "      <th>1</th>\n",
       "      <td>0xa623b5a542c0d7daadef321042a04c600b03a8cb</td>\n",
       "      <td>Yes</td>\n",
       "    </tr>\n",
       "    <tr>\n",
       "      <th>2</th>\n",
       "      <td>0xe412189da2dfa188a1a61633114b8732bbbfba19</td>\n",
       "      <td>Yes</td>\n",
       "    </tr>\n",
       "    <tr>\n",
       "      <th>3</th>\n",
       "      <td>0x9fcf7acdc11fd904c4b73a009909c7f00efc4844</td>\n",
       "      <td>Yes</td>\n",
       "    </tr>\n",
       "    <tr>\n",
       "      <th>4</th>\n",
       "      <td>0x921a5dce3dfed5cccfbb2e593f2978533bc66110</td>\n",
       "      <td>Yes</td>\n",
       "    </tr>\n",
       "  </tbody>\n",
       "</table>\n",
       "</div>"
      ],
      "text/plain": [
       "                                      Address  TP?\n",
       "0  0xe5f3c6d2b47cbe2cf936b9521466bac2422ebef8  Yes\n",
       "1  0xa623b5a542c0d7daadef321042a04c600b03a8cb  Yes\n",
       "2  0xe412189da2dfa188a1a61633114b8732bbbfba19  Yes\n",
       "3  0x9fcf7acdc11fd904c4b73a009909c7f00efc4844  Yes\n",
       "4  0x921a5dce3dfed5cccfbb2e593f2978533bc66110  Yes"
      ]
     },
     "execution_count": 14,
     "metadata": {},
     "output_type": "execute_result"
    }
   ],
   "source": [
    "limit_df = pd.read_excel(os.path.join(CRP_LARGE_PATH, 'limit.xlsx'))\n",
    "limit_df.head()"
   ]
  },
  {
   "cell_type": "code",
   "execution_count": 15,
   "id": "eada050d",
   "metadata": {},
   "outputs": [
    {
     "data": {
      "text/plain": [
       "<Axes: xlabel='TP?', ylabel='count'>"
      ]
     },
     "execution_count": 15,
     "metadata": {},
     "output_type": "execute_result"
    },
    {
     "data": {
      "image/png": "[encoded data removed]",
      "text/plain": [
       "<Figure size 640x480 with 1 Axes>"
      ]
     },
     "metadata": {},
     "output_type": "display_data"
    }
   ],
   "source": [
    "sns.countplot(limit_df, x='TP?')"
   ]
  },
  {
   "cell_type": "code",
   "execution_count": 16,
   "id": "2b31acd6",
   "metadata": {},
   "outputs": [
    {
     "data": {
      "application/vnd.microsoft.datawrangler.viewer.v0+json": {
       "columns": [
        {
         "name": "index",
         "rawType": "int64",
         "type": "integer"
        },
        {
         "name": "address",
         "rawType": "object",
         "type": "string"
        },
        {
         "name": "PUSH14",
         "rawType": "int64",
         "type": "integer"
        },
        {
         "name": "AND",
         "rawType": "int64",
         "type": "integer"
        },
        {
         "name": "CALLER",
         "rawType": "int64",
         "type": "integer"
        },
        {
         "name": "JUMPI",
         "rawType": "int64",
         "type": "integer"
        },
        {
         "name": "CALLDATACOPY",
         "rawType": "int64",
         "type": "integer"
        },
        {
         "name": "PUSH11",
         "rawType": "int64",
         "type": "integer"
        },
        {
         "name": "DIFFICULTY",
         "rawType": "int64",
         "type": "integer"
        },
        {
         "name": "CALL",
         "rawType": "int64",
         "type": "integer"
        },
        {
         "name": "DUP4",
         "rawType": "int64",
         "type": "integer"
        },
        {
         "name": "DUP7",
         "rawType": "int64",
         "type": "integer"
        },
        {
         "name": "PUSH30",
         "rawType": "int64",
         "type": "integer"
        },
        {
         "name": "DUP9",
         "rawType": "int64",
         "type": "integer"
        },
        {
         "name": "STOP",
         "rawType": "int64",
         "type": "integer"
        },
        {
         "name": "RETURNDATACOPY",
         "rawType": "int64",
         "type": "integer"
        },
        {
         "name": "PUSH29",
         "rawType": "int64",
         "type": "integer"
        },
        {
         "name": "PUSH27",
         "rawType": "int64",
         "type": "integer"
        },
        {
         "name": "CREATE",
         "rawType": "int64",
         "type": "integer"
        },
        {
         "name": "SLOAD",
         "rawType": "int64",
         "type": "integer"
        },
        {
         "name": "SWAP1",
         "rawType": "int64",
         "type": "integer"
        },
        {
         "name": "PUSH13",
         "rawType": "int64",
         "type": "integer"
        },
        {
         "name": "CHAINID",
         "rawType": "int64",
         "type": "integer"
        },
        {
         "name": "SLT",
         "rawType": "int64",
         "type": "integer"
        },
        {
         "name": "SELFDESTRUCT",
         "rawType": "int64",
         "type": "integer"
        },
        {
         "name": "SWAP8",
         "rawType": "int64",
         "type": "integer"
        },
        {
         "name": "SWAP4",
         "rawType": "int64",
         "type": "integer"
        },
        {
         "name": "PUSH17",
         "rawType": "int64",
         "type": "integer"
        },
        {
         "name": "PUSH19",
         "rawType": "int64",
         "type": "integer"
        },
        {
         "name": "GT",
         "rawType": "int64",
         "type": "integer"
        },
        {
         "name": "LOG2",
         "rawType": "int64",
         "type": "integer"
        },
        {
         "name": "SELFBALANCE",
         "rawType": "int64",
         "type": "integer"
        },
        {
         "name": "MOD",
         "rawType": "int64",
         "type": "integer"
        },
        {
         "name": "PUSH5",
         "rawType": "int64",
         "type": "integer"
        },
        {
         "name": "SHR",
         "rawType": "int64",
         "type": "integer"
        },
        {
         "name": "MUL",
         "rawType": "int64",
         "type": "integer"
        },
        {
         "name": "NOT",
         "rawType": "int64",
         "type": "integer"
        },
        {
         "name": "PUSH2",
         "rawType": "int64",
         "type": "integer"
        },
        {
         "name": "SWAP5",
         "rawType": "int64",
         "type": "integer"
        },
        {
         "name": "SWAP16",
         "rawType": "int64",
         "type": "integer"
        },
        {
         "name": "PUSH1",
         "rawType": "int64",
         "type": "integer"
        },
        {
         "name": "EQ",
         "rawType": "int64",
         "type": "integer"
        },
        {
         "name": "SWAP15",
         "rawType": "int64",
         "type": "integer"
        },
        {
         "name": "SAR",
         "rawType": "int64",
         "type": "integer"
        },
        {
         "name": "DUP11",
         "rawType": "int64",
         "type": "integer"
        },
        {
         "name": "BLOCKHASH",
         "rawType": "int64",
         "type": "integer"
        },
        {
         "name": "PUSH9",
         "rawType": "int64",
         "type": "integer"
        },
        {
         "name": "DUP5",
         "rawType": "int64",
         "type": "integer"
        },
        {
         "name": "PUSH7",
         "rawType": "int64",
         "type": "integer"
        },
        {
         "name": "SWAP13",
         "rawType": "int64",
         "type": "integer"
        },
        {
         "name": "CALLVALUE",
         "rawType": "int64",
         "type": "integer"
        },
        {
         "name": "PUSH22",
         "rawType": "int64",
         "type": "integer"
        },
        {
         "name": "SWAP3",
         "rawType": "int64",
         "type": "integer"
        },
        {
         "name": "ORIGIN",
         "rawType": "int64",
         "type": "integer"
        },
        {
         "name": "DUP6",
         "rawType": "int64",
         "type": "integer"
        },
        {
         "name": "SWAP2",
         "rawType": "int64",
         "type": "integer"
        },
        {
         "name": "NUMBER",
         "rawType": "int64",
         "type": "integer"
        },
        {
         "name": "EXP",
         "rawType": "int64",
         "type": "integer"
        },
        {
         "name": "SWAP11",
         "rawType": "int64",
         "type": "integer"
        },
        {
         "name": "STATICCALL",
         "rawType": "int64",
         "type": "integer"
        },
        {
         "name": "BALANCE",
         "rawType": "int64",
         "type": "integer"
        },
        {
         "name": "DUP3",
         "rawType": "int64",
         "type": "integer"
        },
        {
         "name": "SWAP9",
         "rawType": "int64",
         "type": "integer"
        },
        {
         "name": "SUB",
         "rawType": "int64",
         "type": "integer"
        },
        {
         "name": "LOG3",
         "rawType": "int64",
         "type": "integer"
        },
        {
         "name": "RETURNDATASIZE",
         "rawType": "int64",
         "type": "integer"
        },
        {
         "name": "SGT",
         "rawType": "int64",
         "type": "integer"
        },
        {
         "name": "SWAP7",
         "rawType": "int64",
         "type": "integer"
        },
        {
         "name": "MSIZE",
         "rawType": "int64",
         "type": "integer"
        },
        {
         "name": "SDIV",
         "rawType": "int64",
         "type": "integer"
        },
        {
         "name": "PUSH32",
         "rawType": "int64",
         "type": "integer"
        },
        {
         "name": "PUSH16",
         "rawType": "int64",
         "type": "integer"
        },
        {
         "name": "JUMPDEST",
         "rawType": "int64",
         "type": "integer"
        },
        {
         "name": "PUSH12",
         "rawType": "int64",
         "type": "integer"
        },
        {
         "name": "BASEFEE",
         "rawType": "int64",
         "type": "integer"
        },
        {
         "name": "DIV",
         "rawType": "int64",
         "type": "integer"
        },
        {
         "name": "DUP13",
         "rawType": "int64",
         "type": "integer"
        },
        {
         "name": "CALLCODE",
         "rawType": "int64",
         "type": "integer"
        },
        {
         "name": "DUP2",
         "rawType": "int64",
         "type": "integer"
        },
        {
         "name": "MULMOD",
         "rawType": "int64",
         "type": "integer"
        },
        {
         "name": "PUSH23",
         "rawType": "int64",
         "type": "integer"
        },
        {
         "name": "EXTCODECOPY",
         "rawType": "int64",
         "type": "integer"
        },
        {
         "name": "ADDMOD",
         "rawType": "int64",
         "type": "integer"
        },
        {
         "name": "DUP10",
         "rawType": "int64",
         "type": "integer"
        },
        {
         "name": "PUSH4",
         "rawType": "int64",
         "type": "integer"
        },
        {
         "name": "CODECOPY",
         "rawType": "int64",
         "type": "integer"
        },
        {
         "name": "MSTORE",
         "rawType": "int64",
         "type": "integer"
        },
        {
         "name": "XOR",
         "rawType": "int64",
         "type": "integer"
        },
        {
         "name": "GAS",
         "rawType": "int64",
         "type": "integer"
        },
        {
         "name": "PUSH20",
         "rawType": "int64",
         "type": "integer"
        },
        {
         "name": "COINBASE",
         "rawType": "int64",
         "type": "integer"
        },
        {
         "name": "MLOAD",
         "rawType": "int64",
         "type": "integer"
        },
        {
         "name": "DUP1",
         "rawType": "int64",
         "type": "integer"
        },
        {
         "name": "LOG0",
         "rawType": "int64",
         "type": "integer"
        },
        {
         "name": "CALLDATASIZE",
         "rawType": "int64",
         "type": "integer"
        },
        {
         "name": "LOG1",
         "rawType": "int64",
         "type": "integer"
        },
        {
         "name": "PUSH28",
         "rawType": "int64",
         "type": "integer"
        },
        {
         "name": "PUSH15",
         "rawType": "int64",
         "type": "integer"
        },
        {
         "name": "PUSH24",
         "rawType": "int64",
         "type": "integer"
        },
        {
         "name": "PUSH10",
         "rawType": "int64",
         "type": "integer"
        },
        {
         "name": "SIGNEXTEND",
         "rawType": "int64",
         "type": "integer"
        },
        {
         "name": "SMOD",
         "rawType": "int64",
         "type": "integer"
        },
        {
         "name": "ISZERO",
         "rawType": "int64",
         "type": "integer"
        },
        {
         "name": "ADD",
         "rawType": "int64",
         "type": "integer"
        },
        {
         "name": "POP",
         "rawType": "int64",
         "type": "integer"
        },
        {
         "name": "GASPRICE",
         "rawType": "int64",
         "type": "integer"
        },
        {
         "name": "EXTCODESIZE",
         "rawType": "int64",
         "type": "integer"
        },
        {
         "name": "SWAP6",
         "rawType": "int64",
         "type": "integer"
        },
        {
         "name": "LOG4",
         "rawType": "int64",
         "type": "integer"
        },
        {
         "name": "DUP16",
         "rawType": "int64",
         "type": "integer"
        },
        {
         "name": "DUP15",
         "rawType": "int64",
         "type": "integer"
        },
        {
         "name": "TIMESTAMP",
         "rawType": "int64",
         "type": "integer"
        },
        {
         "name": "SWAP10",
         "rawType": "int64",
         "type": "integer"
        },
        {
         "name": "SWAP12",
         "rawType": "int64",
         "type": "integer"
        },
        {
         "name": "SSTORE",
         "rawType": "int64",
         "type": "integer"
        },
        {
         "name": "DUP14",
         "rawType": "int64",
         "type": "integer"
        },
        {
         "name": "BYTE",
         "rawType": "int64",
         "type": "integer"
        },
        {
         "name": "PUSH18",
         "rawType": "int64",
         "type": "integer"
        },
        {
         "name": "PUSH8",
         "rawType": "int64",
         "type": "integer"
        },
        {
         "name": "PUSH26",
         "rawType": "int64",
         "type": "integer"
        },
        {
         "name": "SHL",
         "rawType": "int64",
         "type": "integer"
        },
        {
         "name": "MSTORE8",
         "rawType": "int64",
         "type": "integer"
        },
        {
         "name": "ADDRESS",
         "rawType": "int64",
         "type": "integer"
        },
        {
         "name": "JUMP",
         "rawType": "int64",
         "type": "integer"
        },
        {
         "name": "PC",
         "rawType": "int64",
         "type": "integer"
        },
        {
         "name": "PUSH3",
         "rawType": "int64",
         "type": "integer"
        },
        {
         "name": "PUSH6",
         "rawType": "int64",
         "type": "integer"
        },
        {
         "name": "SWAP14",
         "rawType": "int64",
         "type": "integer"
        },
        {
         "name": "LT",
         "rawType": "int64",
         "type": "integer"
        },
        {
         "name": "RETURN",
         "rawType": "int64",
         "type": "integer"
        },
        {
         "name": "PUSH31",
         "rawType": "int64",
         "type": "integer"
        },
        {
         "name": "DELEGATECALL",
         "rawType": "int64",
         "type": "integer"
        },
        {
         "name": "PUSH21",
         "rawType": "int64",
         "type": "integer"
        },
        {
         "name": "DUP8",
         "rawType": "int64",
         "type": "integer"
        },
        {
         "name": "CALLDATALOAD",
         "rawType": "int64",
         "type": "integer"
        },
        {
         "name": "GASLIMIT",
         "rawType": "int64",
         "type": "integer"
        },
        {
         "name": "CODESIZE",
         "rawType": "int64",
         "type": "integer"
        },
        {
         "name": "SHA3",
         "rawType": "int64",
         "type": "integer"
        },
        {
         "name": "DUP12",
         "rawType": "int64",
         "type": "integer"
        },
        {
         "name": "OR",
         "rawType": "int64",
         "type": "integer"
        },
        {
         "name": "PUSH25",
         "rawType": "int64",
         "type": "integer"
        },
        {
         "name": "CREATE2",
         "rawType": "int64",
         "type": "integer"
        },
        {
         "name": "EXTCODEHASH",
         "rawType": "int64",
         "type": "integer"
        },
        {
         "name": "REVERT",
         "rawType": "int64",
         "type": "integer"
        },
        {
         "name": "label",
         "rawType": "int64",
         "type": "integer"
        }
       ],
       "ref": "9b01b866-5bcc-47a1-8bd8-33b6285da4a7",
       "rows": [
        [
         "0",
         "0x5674d4536fcd7a924696078b15865c4fab9f3597",
         "0",
         "243",
         "7",
         "102",
         "4",
         "0",
         "0",
         "0",
         "76",
         "36",
         "0",
         "12",
         "7",
         "0",
         "0",
         "0",
         "0",
         "60",
         "358",
         "0",
         "0",
         "1",
         "0",
         "0",
         "6",
         "0",
         "4",
         "22",
         "1",
         "0",
         "1",
         "10",
         "1",
         "46",
         "16",
         "277",
         "0",
         "0",
         "764",
         "48",
         "0",
         "0",
         "6",
         "1",
         "0",
         "57",
         "0",
         "0",
         "1",
         "1",
         "48",
         "2",
         "14",
         "179",
         "3",
         "36",
         "0",
         "0",
         "0",
         "109",
         "0",
         "92",
         "8",
         "0",
         "0",
         "0",
         "0",
         "0",
         "38",
         "0",
         "180",
         "0",
         "0",
         "32",
         "0",
         "0",
         "326",
         "0",
         "0",
         "0",
         "0",
         "1",
         "33",
         "23",
         "224",
         "0",
         "0",
         "198",
         "0",
         "126",
         "331",
         "0",
         "11",
         "0",
         "1",
         "1",
         "0",
         "0",
         "0",
         "0",
         "92",
         "333",
         "284",
         "3",
         "0",
         "0",
         "0",
         "0",
         "0",
         "0",
         "0",
         "0",
         "25",
         "0",
         "0",
         "0",
         "0",
         "0",
         "0",
         "0",
         "4",
         "83",
         "1",
         "0",
         "1",
         "0",
         "30",
         "10",
         "0",
         "0",
         "2",
         "6",
         "23",
         "2",
         "0",
         "49",
         "1",
         "13",
         "0",
         "0",
         "0",
         "47",
         "1"
        ],
        [
         "1",
         "0xbb7f05aa2dd33425ea0848cda8e4ea54718c6336",
         "0",
         "243",
         "7",
         "103",
         "4",
         "0",
         "0",
         "0",
         "72",
         "38",
         "0",
         "12",
         "6",
         "0",
         "0",
         "0",
         "0",
         "60",
         "362",
         "0",
         "0",
         "1",
         "0",
         "0",
         "6",
         "0",
         "4",
         "22",
         "1",
         "0",
         "0",
         "10",
         "2",
         "46",
         "16",
         "279",
         "0",
         "0",
         "770",
         "48",
         "0",
         "0",
         "6",
         "0",
         "0",
         "57",
         "0",
         "0",
         "1",
         "1",
         "48",
         "2",
         "17",
         "179",
         "2",
         "36",
         "0",
         "0",
         "0",
         "107",
         "0",
         "92",
         "8",
         "0",
         "0",
         "0",
         "0",
         "0",
         "38",
         "0",
         "180",
         "0",
         "0",
         "32",
         "0",
         "0",
         "325",
         "0",
         "0",
         "0",
         "0",
         "0",
         "34",
         "23",
         "224",
         "0",
         "0",
         "198",
         "0",
         "127",
         "331",
         "0",
         "11",
         "0",
         "0",
         "1",
         "1",
         "0",
         "0",
         "0",
         "92",
         "333",
         "292",
         "3",
         "0",
         "0",
         "0",
         "0",
         "0",
         "0",
         "0",
         "0",
         "25",
         "0",
         "0",
         "0",
         "0",
         "0",
         "0",
         "0",
         "3",
         "83",
         "0",
         "0",
         "2",
         "0",
         "30",
         "10",
         "0",
         "0",
         "2",
         "8",
         "23",
         "2",
         "0",
         "48",
         "1",
         "13",
         "0",
         "0",
         "0",
         "47",
         "1"
        ],
        [
         "2",
         "0x801427e0b00c5aa46f96550e1e33ad7f00077e19",
         "0",
         "243",
         "7",
         "102",
         "4",
         "0",
         "0",
         "0",
         "76",
         "36",
         "0",
         "12",
         "7",
         "0",
         "0",
         "0",
         "0",
         "60",
         "358",
         "0",
         "0",
         "1",
         "1",
         "0",
         "7",
         "0",
         "5",
         "22",
         "1",
         "0",
         "1",
         "11",
         "1",
         "46",
         "16",
         "277",
         "0",
         "0",
         "764",
         "48",
         "0",
         "1",
         "6",
         "0",
         "0",
         "57",
         "0",
         "0",
         "1",
         "1",
         "49",
         "2",
         "14",
         "179",
         "2",
         "36",
         "0",
         "1",
         "0",
         "109",
         "0",
         "92",
         "8",
         "0",
         "0",
         "0",
         "0",
         "0",
         "38",
         "0",
         "180",
         "0",
         "0",
         "32",
         "0",
         "0",
         "326",
         "0",
         "0",
         "0",
         "0",
         "0",
         "33",
         "23",
         "225",
         "0",
         "0",
         "198",
         "0",
         "126",
         "331",
         "0",
         "11",
         "0",
         "0",
         "1",
         "0",
         "0",
         "0",
         "0",
         "92",
         "333",
         "285",
         "3",
         "1",
         "0",
         "0",
         "0",
         "0",
         "0",
         "0",
         "0",
         "25",
         "0",
         "0",
         "0",
         "0",
         "0",
         "0",
         "0",
         "3",
         "83",
         "0",
         "0",
         "1",
         "0",
         "30",
         "10",
         "0",
         "0",
         "2",
         "6",
         "23",
         "2",
         "0",
         "48",
         "1",
         "13",
         "0",
         "0",
         "0",
         "47",
         "1"
        ],
        [
         "3",
         "0x1b49dc534fa67d0c23f6bd0601f8c8142f8306d0",
         "0",
         "243",
         "7",
         "102",
         "4",
         "0",
         "0",
         "0",
         "76",
         "36",
         "0",
         "12",
         "6",
         "0",
         "0",
         "0",
         "0",
         "60",
         "358",
         "0",
         "0",
         "1",
         "0",
         "0",
         "6",
         "0",
         "4",
         "22",
         "1",
         "0",
         "0",
         "10",
         "1",
         "46",
         "16",
         "277",
         "0",
         "0",
         "764",
         "48",
         "0",
         "0",
         "6",
         "0",
         "0",
         "57",
         "0",
         "1",
         "2",
         "1",
         "49",
         "2",
         "15",
         "179",
         "2",
         "36",
         "0",
         "0",
         "0",
         "109",
         "0",
         "92",
         "8",
         "0",
         "0",
         "1",
         "0",
         "0",
         "38",
         "1",
         "180",
         "0",
         "0",
         "32",
         "0",
         "0",
         "327",
         "0",
         "0",
         "0",
         "0",
         "0",
         "33",
         "23",
         "224",
         "0",
         "0",
         "198",
         "0",
         "126",
         "331",
         "1",
         "11",
         "0",
         "0",
         "1",
         "0",
         "1",
         "0",
         "0",
         "92",
         "333",
         "284",
         "3",
         "1",
         "0",
         "0",
         "0",
         "0",
         "0",
         "0",
         "0",
         "25",
         "0",
         "0",
         "0",
         "0",
         "0",
         "0",
         "0",
         "3",
         "83",
         "0",
         "0",
         "1",
         "0",
         "30",
         "10",
         "0",
         "0",
         "2",
         "6",
         "23",
         "2",
         "0",
         "48",
         "1",
         "13",
         "0",
         "0",
         "0",
         "48",
         "1"
        ],
        [
         "4",
         "0xf3afd0feac711f754d430de41ec0c7314a397ca1",
         "0",
         "243",
         "7",
         "102",
         "4",
         "0",
         "0",
         "0",
         "77",
         "36",
         "0",
         "12",
         "7",
         "0",
         "0",
         "0",
         "0",
         "60",
         "358",
         "0",
         "0",
         "1",
         "0",
         "1",
         "6",
         "0",
         "4",
         "22",
         "1",
         "0",
         "1",
         "11",
         "1",
         "46",
         "16",
         "277",
         "0",
         "0",
         "764",
         "48",
         "0",
         "0",
         "6",
         "0",
         "0",
         "57",
         "0",
         "0",
         "1",
         "2",
         "48",
         "2",
         "14",
         "179",
         "2",
         "36",
         "0",
         "0",
         "0",
         "109",
         "0",
         "92",
         "8",
         "0",
         "0",
         "0",
         "0",
         "0",
         "38",
         "0",
         "180",
         "0",
         "0",
         "32",
         "0",
         "0",
         "326",
         "0",
         "0",
         "0",
         "0",
         "0",
         "33",
         "23",
         "224",
         "0",
         "0",
         "198",
         "0",
         "126",
         "331",
         "0",
         "11",
         "0",
         "0",
         "1",
         "0",
         "0",
         "0",
         "0",
         "92",
         "333",
         "284",
         "3",
         "0",
         "0",
         "0",
         "0",
         "1",
         "0",
         "0",
         "0",
         "25",
         "0",
         "0",
         "0",
         "0",
         "0",
         "0",
         "0",
         "3",
         "83",
         "0",
         "0",
         "1",
         "0",
         "30",
         "10",
         "0",
         "0",
         "2",
         "6",
         "23",
         "2",
         "0",
         "48",
         "1",
         "13",
         "0",
         "0",
         "0",
         "47",
         "1"
        ]
       ],
       "shape": {
        "columns": 144,
        "rows": 5
       }
      },
      "text/html": [
       "<div>\n",
       "<style scoped>\n",
       "    .dataframe tbody tr th:only-of-type {\n",
       "        vertical-align: middle;\n",
       "    }\n",
       "\n",
       "    .dataframe tbody tr th {\n",
       "        vertical-align: top;\n",
       "    }\n",
       "\n",
       "    .dataframe thead th {\n",
       "        text-align: right;\n",
       "    }\n",
       "</style>\n",
       "<table border=\"1\" class=\"dataframe\">\n",
       "  <thead>\n",
       "    <tr style=\"text-align: right;\">\n",
       "      <th></th>\n",
       "      <th>address</th>\n",
       "      <th>PUSH14</th>\n",
       "      <th>AND</th>\n",
       "      <th>CALLER</th>\n",
       "      <th>JUMPI</th>\n",
       "      <th>CALLDATACOPY</th>\n",
       "      <th>PUSH11</th>\n",
       "      <th>DIFFICULTY</th>\n",
       "      <th>CALL</th>\n",
       "      <th>DUP4</th>\n",
       "      <th>...</th>\n",
       "      <th>GASLIMIT</th>\n",
       "      <th>CODESIZE</th>\n",
       "      <th>SHA3</th>\n",
       "      <th>DUP12</th>\n",
       "      <th>OR</th>\n",
       "      <th>PUSH25</th>\n",
       "      <th>CREATE2</th>\n",
       "      <th>EXTCODEHASH</th>\n",
       "      <th>REVERT</th>\n",
       "      <th>label</th>\n",
       "    </tr>\n",
       "  </thead>\n",
       "  <tbody>\n",
       "    <tr>\n",
       "      <th>0</th>\n",
       "      <td>0x5674d4536fcd7a924696078b15865c4fab9f3597</td>\n",
       "      <td>0</td>\n",
       "      <td>243</td>\n",
       "      <td>7</td>\n",
       "      <td>102</td>\n",
       "      <td>4</td>\n",
       "      <td>0</td>\n",
       "      <td>0</td>\n",
       "      <td>0</td>\n",
       "      <td>76</td>\n",
       "      <td>...</td>\n",
       "      <td>2</td>\n",
       "      <td>0</td>\n",
       "      <td>49</td>\n",
       "      <td>1</td>\n",
       "      <td>13</td>\n",
       "      <td>0</td>\n",
       "      <td>0</td>\n",
       "      <td>0</td>\n",
       "      <td>47</td>\n",
       "      <td>1</td>\n",
       "    </tr>\n",
       "    <tr>\n",
       "      <th>1</th>\n",
       "      <td>0xbb7f05aa2dd33425ea0848cda8e4ea54718c6336</td>\n",
       "      <td>0</td>\n",
       "      <td>243</td>\n",
       "      <td>7</td>\n",
       "      <td>103</td>\n",
       "      <td>4</td>\n",
       "      <td>0</td>\n",
       "      <td>0</td>\n",
       "      <td>0</td>\n",
       "      <td>72</td>\n",
       "      <td>...</td>\n",
       "      <td>2</td>\n",
       "      <td>0</td>\n",
       "      <td>48</td>\n",
       "      <td>1</td>\n",
       "      <td>13</td>\n",
       "      <td>0</td>\n",
       "      <td>0</td>\n",
       "      <td>0</td>\n",
       "      <td>47</td>\n",
       "      <td>1</td>\n",
       "    </tr>\n",
       "    <tr>\n",
       "      <th>2</th>\n",
       "      <td>0x801427e0b00c5aa46f96550e1e33ad7f00077e19</td>\n",
       "      <td>0</td>\n",
       "      <td>243</td>\n",
       "      <td>7</td>\n",
       "      <td>102</td>\n",
       "      <td>4</td>\n",
       "      <td>0</td>\n",
       "      <td>0</td>\n",
       "      <td>0</td>\n",
       "      <td>76</td>\n",
       "      <td>...</td>\n",
       "      <td>2</td>\n",
       "      <td>0</td>\n",
       "      <td>48</td>\n",
       "      <td>1</td>\n",
       "      <td>13</td>\n",
       "      <td>0</td>\n",
       "      <td>0</td>\n",
       "      <td>0</td>\n",
       "      <td>47</td>\n",
       "      <td>1</td>\n",
       "    </tr>\n",
       "    <tr>\n",
       "      <th>3</th>\n",
       "      <td>0x1b49dc534fa67d0c23f6bd0601f8c8142f8306d0</td>\n",
       "      <td>0</td>\n",
       "      <td>243</td>\n",
       "      <td>7</td>\n",
       "      <td>102</td>\n",
       "      <td>4</td>\n",
       "      <td>0</td>\n",
       "      <td>0</td>\n",
       "      <td>0</td>\n",
       "      <td>76</td>\n",
       "      <td>...</td>\n",
       "      <td>2</td>\n",
       "      <td>0</td>\n",
       "      <td>48</td>\n",
       "      <td>1</td>\n",
       "      <td>13</td>\n",
       "      <td>0</td>\n",
       "      <td>0</td>\n",
       "      <td>0</td>\n",
       "      <td>48</td>\n",
       "      <td>1</td>\n",
       "    </tr>\n",
       "    <tr>\n",
       "      <th>4</th>\n",
       "      <td>0xf3afd0feac711f754d430de41ec0c7314a397ca1</td>\n",
       "      <td>0</td>\n",
       "      <td>243</td>\n",
       "      <td>7</td>\n",
       "      <td>102</td>\n",
       "      <td>4</td>\n",
       "      <td>0</td>\n",
       "      <td>0</td>\n",
       "      <td>0</td>\n",
       "      <td>77</td>\n",
       "      <td>...</td>\n",
       "      <td>2</td>\n",
       "      <td>0</td>\n",
       "      <td>48</td>\n",
       "      <td>1</td>\n",
       "      <td>13</td>\n",
       "      <td>0</td>\n",
       "      <td>0</td>\n",
       "      <td>0</td>\n",
       "      <td>47</td>\n",
       "      <td>1</td>\n",
       "    </tr>\n",
       "  </tbody>\n",
       "</table>\n",
       "<p>5 rows × 144 columns</p>\n",
       "</div>"
      ],
      "text/plain": [
       "                                      address  PUSH14  AND  CALLER  JUMPI  \\\n",
       "0  0x5674d4536fcd7a924696078b15865c4fab9f3597       0  243       7    102   \n",
       "1  0xbb7f05aa2dd33425ea0848cda8e4ea54718c6336       0  243       7    103   \n",
       "2  0x801427e0b00c5aa46f96550e1e33ad7f00077e19       0  243       7    102   \n",
       "3  0x1b49dc534fa67d0c23f6bd0601f8c8142f8306d0       0  243       7    102   \n",
       "4  0xf3afd0feac711f754d430de41ec0c7314a397ca1       0  243       7    102   \n",
       "\n",
       "   CALLDATACOPY  PUSH11  DIFFICULTY  CALL  DUP4  ...  GASLIMIT  CODESIZE  \\\n",
       "0             4       0           0     0    76  ...         2         0   \n",
       "1             4       0           0     0    72  ...         2         0   \n",
       "2             4       0           0     0    76  ...         2         0   \n",
       "3             4       0           0     0    76  ...         2         0   \n",
       "4             4       0           0     0    77  ...         2         0   \n",
       "\n",
       "   SHA3  DUP12  OR  PUSH25  CREATE2  EXTCODEHASH  REVERT  label  \n",
       "0    49      1  13       0        0            0      47      1  \n",
       "1    48      1  13       0        0            0      47      1  \n",
       "2    48      1  13       0        0            0      47      1  \n",
       "3    48      1  13       0        0            0      48      1  \n",
       "4    48      1  13       0        0            0      47      1  \n",
       "\n",
       "[5 rows x 144 columns]"
      ]
     },
     "execution_count": 16,
     "metadata": {},
     "output_type": "execute_result"
    }
   ],
   "source": [
    "opcode_df = pd.read_csv(os.path.join(DATA_PATH, 'trapdoordata/feature_dataset/opcode_feature_dataset.csv'))\n",
    "opcode_df.head()"
   ]
  },
  {
   "cell_type": "code",
   "execution_count": 17,
   "id": "40f005da",
   "metadata": {},
   "outputs": [
    {
     "data": {
      "text/plain": [
       "<Axes: xlabel='label', ylabel='count'>"
      ]
     },
     "execution_count": 17,
     "metadata": {},
     "output_type": "execute_result"
    },
    {
     "data": {
      "image/png": "[encoded data removed]",
      "text/plain": [
       "<Figure size 640x480 with 1 Axes>"
      ]
     },
     "metadata": {},
     "output_type": "display_data"
    }
   ],
   "source": [
    "sns.countplot(opcode_df, x='label')"
   ]
  },
  {
   "cell_type": "code",
   "execution_count": 18,
   "id": "2201871c",
   "metadata": {},
   "outputs": [
    {
     "data": {
      "application/vnd.microsoft.datawrangler.viewer.v0+json": {
       "columns": [
        {
         "name": "index",
         "rawType": "int64",
         "type": "integer"
        },
        {
         "name": "Project Name",
         "rawType": "object",
         "type": "string"
        },
        {
         "name": "Chain",
         "rawType": "object",
         "type": "string"
        },
        {
         "name": "Address",
         "rawType": "object",
         "type": "string"
        },
        {
         "name": "Open Source",
         "rawType": "object",
         "type": "string"
        },
        {
         "name": "Sale Restrict",
         "rawType": "object",
         "type": "unknown"
        },
        {
         "name": "Variable Manipulation",
         "rawType": "object",
         "type": "unknown"
        },
        {
         "name": "Balance Tamper",
         "rawType": "object",
         "type": "unknown"
        },
        {
         "name": "Source",
         "rawType": "object",
         "type": "string"
        }
       ],
       "ref": "c6cc0cb8-253c-4095-baed-00ace5b443cd",
       "rows": [
        [
         "0",
         "GMETA",
         "BSC",
         "0X93023F1D3525E273F291B6F76D2F5027A39BF302",
         "Yes",
         null,
         "Modifiable Tax Rate",
         "Hidden Mint/Burn",
         "https://twitter.com/BeosinAlert/status/1681240663868973056"
        ],
        [
         "1",
         "PokémonFi",
         "BSC",
         "0X2753DCE37A7EDB052A77832039BCC9AA49AD8B25",
         "Yes",
         "Address Restrict",
         null,
         null,
         "https://twitter.com/CertiKAlert/status/1562555089306685440"
        ],
        [
         "2",
         "PokémonFi",
         "BSC",
         "0X0AA5CAE4D1C9230543542E998E04EA795EEDF738",
         "Yes",
         "Address Restrict",
         null,
         null,
         "https://twitter.com/CertiKAlert/status/1562555089306685440"
        ],
        [
         "3",
         "Sudorare",
         "ETH",
         "0X5404EFAFDD8CC30053069DF2A1B0C4BA881B3E1E",
         "Yes",
         null,
         null,
         "Hidden Mint/Burn",
         "https://x.com/PeckShieldAlert/status/1561967493912363008"
        ],
        [
         "4",
         "DRAC Network",
         "ETH",
         "0X10F6F2B97F3AB29583D9D38BABF2994DF7220C21",
         "Yes",
         null,
         "Modifiable Tax Rate",
         "Hidden Mint/Burn",
         "https://twitter.com/PeckShieldAlert/status/1551409593397350401"
        ]
       ],
       "shape": {
        "columns": 8,
        "rows": 5
       }
      },
      "text/html": [
       "<div>\n",
       "<style scoped>\n",
       "    .dataframe tbody tr th:only-of-type {\n",
       "        vertical-align: middle;\n",
       "    }\n",
       "\n",
       "    .dataframe tbody tr th {\n",
       "        vertical-align: top;\n",
       "    }\n",
       "\n",
       "    .dataframe thead th {\n",
       "        text-align: right;\n",
       "    }\n",
       "</style>\n",
       "<table border=\"1\" class=\"dataframe\">\n",
       "  <thead>\n",
       "    <tr style=\"text-align: right;\">\n",
       "      <th></th>\n",
       "      <th>Project Name</th>\n",
       "      <th>Chain</th>\n",
       "      <th>Address</th>\n",
       "      <th>Open Source</th>\n",
       "      <th>Sale Restrict</th>\n",
       "      <th>Variable Manipulation</th>\n",
       "      <th>Balance Tamper</th>\n",
       "      <th>Source</th>\n",
       "    </tr>\n",
       "  </thead>\n",
       "  <tbody>\n",
       "    <tr>\n",
       "      <th>0</th>\n",
       "      <td>GMETA</td>\n",
       "      <td>BSC</td>\n",
       "      <td>0X93023F1D3525E273F291B6F76D2F5027A39BF302</td>\n",
       "      <td>Yes</td>\n",
       "      <td>NaN</td>\n",
       "      <td>Modifiable Tax Rate</td>\n",
       "      <td>Hidden Mint/Burn</td>\n",
       "      <td>https://twitter.com/BeosinAlert/status/1681240...</td>\n",
       "    </tr>\n",
       "    <tr>\n",
       "      <th>1</th>\n",
       "      <td>PokémonFi</td>\n",
       "      <td>BSC</td>\n",
       "      <td>0X2753DCE37A7EDB052A77832039BCC9AA49AD8B25</td>\n",
       "      <td>Yes</td>\n",
       "      <td>Address Restrict</td>\n",
       "      <td>NaN</td>\n",
       "      <td>NaN</td>\n",
       "      <td>https://twitter.com/CertiKAlert/status/1562555...</td>\n",
       "    </tr>\n",
       "    <tr>\n",
       "      <th>2</th>\n",
       "      <td>PokémonFi</td>\n",
       "      <td>BSC</td>\n",
       "      <td>0X0AA5CAE4D1C9230543542E998E04EA795EEDF738</td>\n",
       "      <td>Yes</td>\n",
       "      <td>Address Restrict</td>\n",
       "      <td>NaN</td>\n",
       "      <td>NaN</td>\n",
       "      <td>https://twitter.com/CertiKAlert/status/1562555...</td>\n",
       "    </tr>\n",
       "    <tr>\n",
       "      <th>3</th>\n",
       "      <td>Sudorare</td>\n",
       "      <td>ETH</td>\n",
       "      <td>0X5404EFAFDD8CC30053069DF2A1B0C4BA881B3E1E</td>\n",
       "      <td>Yes</td>\n",
       "      <td>NaN</td>\n",
       "      <td>NaN</td>\n",
       "      <td>Hidden Mint/Burn</td>\n",
       "      <td>https://x.com/PeckShieldAlert/status/156196749...</td>\n",
       "    </tr>\n",
       "    <tr>\n",
       "      <th>4</th>\n",
       "      <td>DRAC Network</td>\n",
       "      <td>ETH</td>\n",
       "      <td>0X10F6F2B97F3AB29583D9D38BABF2994DF7220C21</td>\n",
       "      <td>Yes</td>\n",
       "      <td>NaN</td>\n",
       "      <td>Modifiable Tax Rate</td>\n",
       "      <td>Hidden Mint/Burn</td>\n",
       "      <td>https://twitter.com/PeckShieldAlert/status/155...</td>\n",
       "    </tr>\n",
       "  </tbody>\n",
       "</table>\n",
       "</div>"
      ],
      "text/plain": [
       "   Project Name Chain                                     Address Open Source  \\\n",
       "0         GMETA   BSC  0X93023F1D3525E273F291B6F76D2F5027A39BF302         Yes   \n",
       "1     PokémonFi   BSC  0X2753DCE37A7EDB052A77832039BCC9AA49AD8B25         Yes   \n",
       "2     PokémonFi   BSC  0X0AA5CAE4D1C9230543542E998E04EA795EEDF738         Yes   \n",
       "3      Sudorare   ETH  0X5404EFAFDD8CC30053069DF2A1B0C4BA881B3E1E         Yes   \n",
       "4  DRAC Network   ETH  0X10F6F2B97F3AB29583D9D38BABF2994DF7220C21         Yes   \n",
       "\n",
       "      Sale Restrict Variable Manipulation    Balance Tamper  \\\n",
       "0               NaN   Modifiable Tax Rate  Hidden Mint/Burn   \n",
       "1  Address Restrict                   NaN               NaN   \n",
       "2  Address Restrict                   NaN               NaN   \n",
       "3               NaN                   NaN  Hidden Mint/Burn   \n",
       "4               NaN   Modifiable Tax Rate  Hidden Mint/Burn   \n",
       "\n",
       "                                              Source  \n",
       "0  https://twitter.com/BeosinAlert/status/1681240...  \n",
       "1  https://twitter.com/CertiKAlert/status/1562555...  \n",
       "2  https://twitter.com/CertiKAlert/status/1562555...  \n",
       "3  https://x.com/PeckShieldAlert/status/156196749...  \n",
       "4  https://twitter.com/PeckShieldAlert/status/155...  "
      ]
     },
     "execution_count": 18,
     "metadata": {},
     "output_type": "execute_result"
    }
   ],
   "source": [
    "trapdoor_path = os.path.join(DATA_PATH, 'rphunter/Rug-Pull-incidents.xlsx')\n",
    "trapdoor_total_df = pd.read_excel(trapdoor_path, engine='openpyxl', sheet_name=\"Total\")\n",
    "trapdoor_experiment_df = pd.read_excel(trapdoor_path, engine='openpyxl', sheet_name=\"Experiment\")\n",
    "trapdoor_total_df.head()"
   ]
  },
  {
   "cell_type": "code",
   "execution_count": 19,
   "id": "5d594aef",
   "metadata": {},
   "outputs": [
    {
     "data": {
      "application/vnd.microsoft.datawrangler.viewer.v0+json": {
       "columns": [
        {
         "name": "index",
         "rawType": "int64",
         "type": "integer"
        },
        {
         "name": "Project Name",
         "rawType": "object",
         "type": "string"
        },
        {
         "name": "Chain",
         "rawType": "object",
         "type": "string"
        },
        {
         "name": "Address",
         "rawType": "object",
         "type": "string"
        },
        {
         "name": "Open Source",
         "rawType": "object",
         "type": "string"
        },
        {
         "name": "Sale Restrict",
         "rawType": "object",
         "type": "unknown"
        },
        {
         "name": "Variable Manipulation",
         "rawType": "object",
         "type": "unknown"
        },
        {
         "name": "Balance Tamper",
         "rawType": "object",
         "type": "unknown"
        },
        {
         "name": "Source",
         "rawType": "object",
         "type": "string"
        }
       ],
       "ref": "f877ec44-c58b-4645-8d77-e1e4564ff03f",
       "rows": [
        [
         "0",
         "GMETA",
         "BSC",
         "0X93023F1D3525E273F291B6F76D2F5027A39BF302",
         "Yes",
         null,
         "Modifiable Tax Rate",
         "Hidden Mint/Burn",
         "https://twitter.com/BeosinAlert/status/1681240663868973056"
        ],
        [
         "1",
         "Sudorare",
         "ETH",
         "0X5404EFAFDD8CC30053069DF2A1B0C4BA881B3E1E",
         "Yes",
         null,
         null,
         "Hidden Mint/Burn",
         "https://x.com/PeckShieldAlert/status/1561967493912363008"
        ],
        [
         "2",
         "DRAC Network",
         "ETH",
         "0X10F6F2B97F3AB29583D9D38BABF2994DF7220C21",
         "Yes",
         null,
         "Modifiable Tax Rate",
         "Hidden Mint/Burn",
         "https://twitter.com/PeckShieldAlert/status/1551409593397350401"
        ],
        [
         "3",
         "DHE",
         "BSC",
         "0X11CBC781DADAAD13FC3A361772C80B1C027820AF",
         "Yes",
         "Address Restrict",
         null,
         null,
         "https://twitter.com/CertiKAlert/status/1539031511114063873"
        ],
        [
         "4",
         "ElonMVP",
         "BSC",
         "0X3E597EA168A85AA2AE5E2C4333665BCD875ED10F",
         "Yes",
         "Address Restrict",
         null,
         null,
         "https://twitter.com/PeckShieldAlert/status/1536223027717111808"
        ]
       ],
       "shape": {
        "columns": 8,
        "rows": 5
       }
      },
      "text/html": [
       "<div>\n",
       "<style scoped>\n",
       "    .dataframe tbody tr th:only-of-type {\n",
       "        vertical-align: middle;\n",
       "    }\n",
       "\n",
       "    .dataframe tbody tr th {\n",
       "        vertical-align: top;\n",
       "    }\n",
       "\n",
       "    .dataframe thead th {\n",
       "        text-align: right;\n",
       "    }\n",
       "</style>\n",
       "<table border=\"1\" class=\"dataframe\">\n",
       "  <thead>\n",
       "    <tr style=\"text-align: right;\">\n",
       "      <th></th>\n",
       "      <th>Project Name</th>\n",
       "      <th>Chain</th>\n",
       "      <th>Address</th>\n",
       "      <th>Open Source</th>\n",
       "      <th>Sale Restrict</th>\n",
       "      <th>Variable Manipulation</th>\n",
       "      <th>Balance Tamper</th>\n",
       "      <th>Source</th>\n",
       "    </tr>\n",
       "  </thead>\n",
       "  <tbody>\n",
       "    <tr>\n",
       "      <th>0</th>\n",
       "      <td>GMETA</td>\n",
       "      <td>BSC</td>\n",
       "      <td>0X93023F1D3525E273F291B6F76D2F5027A39BF302</td>\n",
       "      <td>Yes</td>\n",
       "      <td>NaN</td>\n",
       "      <td>Modifiable Tax Rate</td>\n",
       "      <td>Hidden Mint/Burn</td>\n",
       "      <td>https://twitter.com/BeosinAlert/status/1681240...</td>\n",
       "    </tr>\n",
       "    <tr>\n",
       "      <th>1</th>\n",
       "      <td>Sudorare</td>\n",
       "      <td>ETH</td>\n",
       "      <td>0X5404EFAFDD8CC30053069DF2A1B0C4BA881B3E1E</td>\n",
       "      <td>Yes</td>\n",
       "      <td>NaN</td>\n",
       "      <td>NaN</td>\n",
       "      <td>Hidden Mint/Burn</td>\n",
       "      <td>https://x.com/PeckShieldAlert/status/156196749...</td>\n",
       "    </tr>\n",
       "    <tr>\n",
       "      <th>2</th>\n",
       "      <td>DRAC Network</td>\n",
       "      <td>ETH</td>\n",
       "      <td>0X10F6F2B97F3AB29583D9D38BABF2994DF7220C21</td>\n",
       "      <td>Yes</td>\n",
       "      <td>NaN</td>\n",
       "      <td>Modifiable Tax Rate</td>\n",
       "      <td>Hidden Mint/Burn</td>\n",
       "      <td>https://twitter.com/PeckShieldAlert/status/155...</td>\n",
       "    </tr>\n",
       "    <tr>\n",
       "      <th>3</th>\n",
       "      <td>DHE</td>\n",
       "      <td>BSC</td>\n",
       "      <td>0X11CBC781DADAAD13FC3A361772C80B1C027820AF</td>\n",
       "      <td>Yes</td>\n",
       "      <td>Address Restrict</td>\n",
       "      <td>NaN</td>\n",
       "      <td>NaN</td>\n",
       "      <td>https://twitter.com/CertiKAlert/status/1539031...</td>\n",
       "    </tr>\n",
       "    <tr>\n",
       "      <th>4</th>\n",
       "      <td>ElonMVP</td>\n",
       "      <td>BSC</td>\n",
       "      <td>0X3E597EA168A85AA2AE5E2C4333665BCD875ED10F</td>\n",
       "      <td>Yes</td>\n",
       "      <td>Address Restrict</td>\n",
       "      <td>NaN</td>\n",
       "      <td>NaN</td>\n",
       "      <td>https://twitter.com/PeckShieldAlert/status/153...</td>\n",
       "    </tr>\n",
       "  </tbody>\n",
       "</table>\n",
       "</div>"
      ],
      "text/plain": [
       "   Project Name Chain                                     Address Open Source  \\\n",
       "0         GMETA   BSC  0X93023F1D3525E273F291B6F76D2F5027A39BF302         Yes   \n",
       "1      Sudorare   ETH  0X5404EFAFDD8CC30053069DF2A1B0C4BA881B3E1E         Yes   \n",
       "2  DRAC Network   ETH  0X10F6F2B97F3AB29583D9D38BABF2994DF7220C21         Yes   \n",
       "3           DHE   BSC  0X11CBC781DADAAD13FC3A361772C80B1C027820AF         Yes   \n",
       "4       ElonMVP   BSC  0X3E597EA168A85AA2AE5E2C4333665BCD875ED10F         Yes   \n",
       "\n",
       "      Sale Restrict Variable Manipulation    Balance Tamper  \\\n",
       "0               NaN   Modifiable Tax Rate  Hidden Mint/Burn   \n",
       "1               NaN                   NaN  Hidden Mint/Burn   \n",
       "2               NaN   Modifiable Tax Rate  Hidden Mint/Burn   \n",
       "3  Address Restrict                   NaN               NaN   \n",
       "4  Address Restrict                   NaN               NaN   \n",
       "\n",
       "                                              Source  \n",
       "0  https://twitter.com/BeosinAlert/status/1681240...  \n",
       "1  https://x.com/PeckShieldAlert/status/156196749...  \n",
       "2  https://twitter.com/PeckShieldAlert/status/155...  \n",
       "3  https://twitter.com/CertiKAlert/status/1539031...  \n",
       "4  https://twitter.com/PeckShieldAlert/status/153...  "
      ]
     },
     "execution_count": 19,
     "metadata": {},
     "output_type": "execute_result"
    }
   ],
   "source": [
    "trapdoor_experiment_df.head()"
   ]
  },
  {
   "cell_type": "code",
   "execution_count": 20,
   "id": "47a1e53e",
   "metadata": {},
   "outputs": [
    {
     "name": "stdout",
     "output_type": "stream",
     "text": [
      "<class 'pandas.core.frame.DataFrame'>\n",
      "RangeIndex: 1047 entries, 0 to 1046\n",
      "Data columns (total 8 columns):\n",
      " #   Column                 Non-Null Count  Dtype \n",
      "---  ------                 --------------  ----- \n",
      " 0   Project Name           1047 non-null   object\n",
      " 1   Chain                  1046 non-null   object\n",
      " 2   Address                1035 non-null   object\n",
      " 3   Open Source            1047 non-null   object\n",
      " 4   Sale Restrict          290 non-null    object\n",
      " 5   Variable Manipulation  160 non-null    object\n",
      " 6   Balance Tamper         436 non-null    object\n",
      " 7   Source                 1046 non-null   object\n",
      "dtypes: object(8)\n",
      "memory usage: 65.6+ KB\n"
     ]
    }
   ],
   "source": [
    "trapdoor_total_df.info()"
   ]
  },
  {
   "cell_type": "code",
   "execution_count": 21,
   "id": "c80f2296",
   "metadata": {},
   "outputs": [
    {
     "data": {
      "application/vnd.microsoft.datawrangler.viewer.v0+json": {
       "columns": [
        {
         "name": "index",
         "rawType": "int64",
         "type": "integer"
        },
        {
         "name": "Project Name",
         "rawType": "object",
         "type": "string"
        },
        {
         "name": "Chain",
         "rawType": "object",
         "type": "string"
        },
        {
         "name": "Address",
         "rawType": "object",
         "type": "string"
        },
        {
         "name": "Open Source",
         "rawType": "object",
         "type": "string"
        },
        {
         "name": "Sale Restrict",
         "rawType": "object",
         "type": "unknown"
        },
        {
         "name": "Variable Manipulation",
         "rawType": "object",
         "type": "unknown"
        },
        {
         "name": "Balance Tamper",
         "rawType": "object",
         "type": "unknown"
        },
        {
         "name": "Source",
         "rawType": "object",
         "type": "string"
        }
       ],
       "ref": "e2664545-b3ce-4308-b2ad-8da45c10c22e",
       "rows": [
        [
         "0",
         "GMETA",
         "BSC",
         "0X93023F1D3525E273F291B6F76D2F5027A39BF302",
         "Yes",
         null,
         "Modifiable Tax Rate",
         "Hidden Mint/Burn",
         "https://twitter.com/BeosinAlert/status/1681240663868973056"
        ],
        [
         "1",
         "Sudorare",
         "ETH",
         "0X5404EFAFDD8CC30053069DF2A1B0C4BA881B3E1E",
         "Yes",
         null,
         null,
         "Hidden Mint/Burn",
         "https://x.com/PeckShieldAlert/status/1561967493912363008"
        ],
        [
         "2",
         "DRAC Network",
         "ETH",
         "0X10F6F2B97F3AB29583D9D38BABF2994DF7220C21",
         "Yes",
         null,
         "Modifiable Tax Rate",
         "Hidden Mint/Burn",
         "https://twitter.com/PeckShieldAlert/status/1551409593397350401"
        ],
        [
         "3",
         "DHE",
         "BSC",
         "0X11CBC781DADAAD13FC3A361772C80B1C027820AF",
         "Yes",
         "Address Restrict",
         null,
         null,
         "https://twitter.com/CertiKAlert/status/1539031511114063873"
        ],
        [
         "4",
         "ElonMVP",
         "BSC",
         "0X3E597EA168A85AA2AE5E2C4333665BCD875ED10F",
         "Yes",
         "Address Restrict",
         null,
         null,
         "https://twitter.com/PeckShieldAlert/status/1536223027717111808"
        ]
       ],
       "shape": {
        "columns": 8,
        "rows": 5
       }
      },
      "text/html": [
       "<div>\n",
       "<style scoped>\n",
       "    .dataframe tbody tr th:only-of-type {\n",
       "        vertical-align: middle;\n",
       "    }\n",
       "\n",
       "    .dataframe tbody tr th {\n",
       "        vertical-align: top;\n",
       "    }\n",
       "\n",
       "    .dataframe thead th {\n",
       "        text-align: right;\n",
       "    }\n",
       "</style>\n",
       "<table border=\"1\" class=\"dataframe\">\n",
       "  <thead>\n",
       "    <tr style=\"text-align: right;\">\n",
       "      <th></th>\n",
       "      <th>Project Name</th>\n",
       "      <th>Chain</th>\n",
       "      <th>Address</th>\n",
       "      <th>Open Source</th>\n",
       "      <th>Sale Restrict</th>\n",
       "      <th>Variable Manipulation</th>\n",
       "      <th>Balance Tamper</th>\n",
       "      <th>Source</th>\n",
       "    </tr>\n",
       "  </thead>\n",
       "  <tbody>\n",
       "    <tr>\n",
       "      <th>0</th>\n",
       "      <td>GMETA</td>\n",
       "      <td>BSC</td>\n",
       "      <td>0X93023F1D3525E273F291B6F76D2F5027A39BF302</td>\n",
       "      <td>Yes</td>\n",
       "      <td>NaN</td>\n",
       "      <td>Modifiable Tax Rate</td>\n",
       "      <td>Hidden Mint/Burn</td>\n",
       "      <td>https://twitter.com/BeosinAlert/status/1681240...</td>\n",
       "    </tr>\n",
       "    <tr>\n",
       "      <th>1</th>\n",
       "      <td>Sudorare</td>\n",
       "      <td>ETH</td>\n",
       "      <td>0X5404EFAFDD8CC30053069DF2A1B0C4BA881B3E1E</td>\n",
       "      <td>Yes</td>\n",
       "      <td>NaN</td>\n",
       "      <td>NaN</td>\n",
       "      <td>Hidden Mint/Burn</td>\n",
       "      <td>https://x.com/PeckShieldAlert/status/156196749...</td>\n",
       "    </tr>\n",
       "    <tr>\n",
       "      <th>2</th>\n",
       "      <td>DRAC Network</td>\n",
       "      <td>ETH</td>\n",
       "      <td>0X10F6F2B97F3AB29583D9D38BABF2994DF7220C21</td>\n",
       "      <td>Yes</td>\n",
       "      <td>NaN</td>\n",
       "      <td>Modifiable Tax Rate</td>\n",
       "      <td>Hidden Mint/Burn</td>\n",
       "      <td>https://twitter.com/PeckShieldAlert/status/155...</td>\n",
       "    </tr>\n",
       "    <tr>\n",
       "      <th>3</th>\n",
       "      <td>DHE</td>\n",
       "      <td>BSC</td>\n",
       "      <td>0X11CBC781DADAAD13FC3A361772C80B1C027820AF</td>\n",
       "      <td>Yes</td>\n",
       "      <td>Address Restrict</td>\n",
       "      <td>NaN</td>\n",
       "      <td>NaN</td>\n",
       "      <td>https://twitter.com/CertiKAlert/status/1539031...</td>\n",
       "    </tr>\n",
       "    <tr>\n",
       "      <th>4</th>\n",
       "      <td>ElonMVP</td>\n",
       "      <td>BSC</td>\n",
       "      <td>0X3E597EA168A85AA2AE5E2C4333665BCD875ED10F</td>\n",
       "      <td>Yes</td>\n",
       "      <td>Address Restrict</td>\n",
       "      <td>NaN</td>\n",
       "      <td>NaN</td>\n",
       "      <td>https://twitter.com/PeckShieldAlert/status/153...</td>\n",
       "    </tr>\n",
       "  </tbody>\n",
       "</table>\n",
       "</div>"
      ],
      "text/plain": [
       "   Project Name Chain                                     Address Open Source  \\\n",
       "0         GMETA   BSC  0X93023F1D3525E273F291B6F76D2F5027A39BF302         Yes   \n",
       "1      Sudorare   ETH  0X5404EFAFDD8CC30053069DF2A1B0C4BA881B3E1E         Yes   \n",
       "2  DRAC Network   ETH  0X10F6F2B97F3AB29583D9D38BABF2994DF7220C21         Yes   \n",
       "3           DHE   BSC  0X11CBC781DADAAD13FC3A361772C80B1C027820AF         Yes   \n",
       "4       ElonMVP   BSC  0X3E597EA168A85AA2AE5E2C4333665BCD875ED10F         Yes   \n",
       "\n",
       "      Sale Restrict Variable Manipulation    Balance Tamper  \\\n",
       "0               NaN   Modifiable Tax Rate  Hidden Mint/Burn   \n",
       "1               NaN                   NaN  Hidden Mint/Burn   \n",
       "2               NaN   Modifiable Tax Rate  Hidden Mint/Burn   \n",
       "3  Address Restrict                   NaN               NaN   \n",
       "4  Address Restrict                   NaN               NaN   \n",
       "\n",
       "                                              Source  \n",
       "0  https://twitter.com/BeosinAlert/status/1681240...  \n",
       "1  https://x.com/PeckShieldAlert/status/156196749...  \n",
       "2  https://twitter.com/PeckShieldAlert/status/155...  \n",
       "3  https://twitter.com/CertiKAlert/status/1539031...  \n",
       "4  https://twitter.com/PeckShieldAlert/status/153...  "
      ]
     },
     "execution_count": 21,
     "metadata": {},
     "output_type": "execute_result"
    }
   ],
   "source": [
    "trapdoor_experiment_df.head()"
   ]
  },
  {
   "cell_type": "code",
   "execution_count": 22,
   "id": "75fc1d25",
   "metadata": {},
   "outputs": [
    {
     "name": "stdout",
     "output_type": "stream",
     "text": [
      "<class 'pandas.core.frame.DataFrame'>\n",
      "RangeIndex: 645 entries, 0 to 644\n",
      "Data columns (total 8 columns):\n",
      " #   Column                 Non-Null Count  Dtype \n",
      "---  ------                 --------------  ----- \n",
      " 0   Project Name           645 non-null    object\n",
      " 1   Chain                  645 non-null    object\n",
      " 2   Address                645 non-null    object\n",
      " 3   Open Source            645 non-null    object\n",
      " 4   Sale Restrict          203 non-null    object\n",
      " 5   Variable Manipulation  145 non-null    object\n",
      " 6   Balance Tamper         190 non-null    object\n",
      " 7   Source                 644 non-null    object\n",
      "dtypes: object(8)\n",
      "memory usage: 40.4+ KB\n"
     ]
    }
   ],
   "source": [
    "trapdoor_experiment_df.info()"
   ]
  },
  {
   "cell_type": "code",
   "execution_count": 23,
   "id": "ba96eb8b",
   "metadata": {},
   "outputs": [],
   "source": [
    "trapdoor_df = pd.concat([trapdoor_total_df, trapdoor_experiment_df])"
   ]
  },
  {
   "cell_type": "code",
   "execution_count": 24,
   "id": "96c15d0b",
   "metadata": {},
   "outputs": [
    {
     "data": {
      "application/vnd.microsoft.datawrangler.viewer.v0+json": {
       "columns": [
        {
         "name": "index",
         "rawType": "bool",
         "type": "boolean"
        },
        {
         "name": "count",
         "rawType": "int64",
         "type": "integer"
        }
       ],
       "ref": "6e372bec-027c-4815-9350-9aa0fb42d7af",
       "rows": [
        [
         "True",
         "1162"
        ],
        [
         "False",
         "530"
        ]
       ],
       "shape": {
        "columns": 1,
        "rows": 2
       }
      },
      "text/plain": [
       "True     1162\n",
       "False     530\n",
       "Name: count, dtype: int64"
      ]
     },
     "execution_count": 24,
     "metadata": {},
     "output_type": "execute_result"
    }
   ],
   "source": [
    "trapdoor_df.duplicated(keep=False).value_counts()"
   ]
  },
  {
   "cell_type": "code",
   "execution_count": 25,
   "id": "3cc923ff",
   "metadata": {},
   "outputs": [],
   "source": [
    "trapdoor_df = trapdoor_df.drop_duplicates(keep='first')"
   ]
  },
  {
   "cell_type": "code",
   "execution_count": 26,
   "id": "85d1df51",
   "metadata": {},
   "outputs": [
    {
     "data": {
      "application/vnd.microsoft.datawrangler.viewer.v0+json": {
       "columns": [
        {
         "name": "Sale Restrict",
         "rawType": "object",
         "type": "string"
        },
        {
         "name": "count",
         "rawType": "int64",
         "type": "integer"
        }
       ],
       "ref": "b7b001a2-7b3b-436c-bf4e-af092eb65efd",
       "rows": [
        [
         "Address Restrict",
         "147"
        ],
        [
         "Amount Restrict",
         "93"
        ],
        [
         "Address Restrict,Amount Restrict",
         "38"
        ],
        [
         "Address Restrict,TimeStamp Restrict",
         "6"
        ],
        [
         "Address Restrict,Amount Restrict,TimeStamp Restrict",
         "4"
        ],
        [
         "\nAddress Restrict,Amount Restrict",
         "4"
        ],
        [
         "TimeStamp Restrict",
         "2"
        ],
        [
         "\nAddress Restrict",
         "2"
        ],
        [
         "Amount Restrict,TimeStamp Restrict",
         "1"
        ],
        [
         "Modifiable External Call",
         "1"
        ],
        [
         "Address Restrict ",
         "1"
        ],
        [
         "Address Restrict,Address Restrict*3",
         "1"
        ],
        [
         "\n\nAddress Restrict,Amount Restrict,TimeStamp Restrict",
         "1"
        ],
        [
         "\nAmount Restrict",
         "1"
        ],
        [
         "TimeStanp Restrict",
         "1"
        ]
       ],
       "shape": {
        "columns": 1,
        "rows": 15
       }
      },
      "text/plain": [
       "Sale Restrict\n",
       "Address Restrict                                           147\n",
       "Amount Restrict                                             93\n",
       "Address Restrict,Amount Restrict                            38\n",
       "Address Restrict,TimeStamp Restrict                          6\n",
       "Address Restrict,Amount Restrict,TimeStamp Restrict          4\n",
       "\\nAddress Restrict,Amount Restrict                           4\n",
       "TimeStamp Restrict                                           2\n",
       "\\nAddress Restrict                                           2\n",
       "Amount Restrict,TimeStamp Restrict                           1\n",
       "Modifiable External Call                                     1\n",
       "Address Restrict                                             1\n",
       "Address Restrict,Address Restrict*3                          1\n",
       "\\n\\nAddress Restrict,Amount Restrict,TimeStamp Restrict      1\n",
       "\\nAmount Restrict                                            1\n",
       "TimeStanp Restrict                                           1\n",
       "Name: count, dtype: int64"
      ]
     },
     "execution_count": 26,
     "metadata": {},
     "output_type": "execute_result"
    }
   ],
   "source": [
    "trapdoor_df['Sale Restrict'].value_counts()"
   ]
  },
  {
   "cell_type": "code",
   "execution_count": 27,
   "id": "6fa32f4c",
   "metadata": {},
   "outputs": [
    {
     "data": {
      "application/vnd.microsoft.datawrangler.viewer.v0+json": {
       "columns": [
        {
         "name": "Variable Manipulation",
         "rawType": "object",
         "type": "string"
        },
        {
         "name": "count",
         "rawType": "int64",
         "type": "integer"
        }
       ],
       "ref": "ddab8ee5-6bce-44ca-8df1-53873d05834c",
       "rows": [
        [
         "Modifiable Tax Rate",
         "87"
        ],
        [
         "Modifiable External Call",
         "46"
        ],
        [
         "Modifiable Tax Address",
         "18"
        ],
        [
         "Modifiable Tax Rate,Modifiable Tax Address",
         "6"
        ],
        [
         "Modifibale Tax Rate",
         "4"
        ],
        [
         "\nModifiable Tax Rate",
         "2"
        ],
        [
         "Modifuable Tax Rate",
         "1"
        ],
        [
         "Modifibale Tax Rate,Modifiable Tax Address",
         "1"
        ],
        [
         "Modifiable Tax Address,Hidden Balance Modification",
         "1"
        ],
        [
         "\n",
         "1"
        ],
        [
         "Modifiable Tax Address,Hidden Balance Modify",
         "1"
        ]
       ],
       "shape": {
        "columns": 1,
        "rows": 11
       }
      },
      "text/plain": [
       "Variable Manipulation\n",
       "Modifiable Tax Rate                                   87\n",
       "Modifiable External Call                              46\n",
       "Modifiable Tax Address                                18\n",
       "Modifiable Tax Rate,Modifiable Tax Address             6\n",
       "Modifibale Tax Rate                                    4\n",
       "\\nModifiable Tax Rate                                  2\n",
       "Modifuable Tax Rate                                    1\n",
       "Modifibale Tax Rate,Modifiable Tax Address             1\n",
       "Modifiable Tax Address,Hidden Balance Modification     1\n",
       "\\n                                                     1\n",
       "Modifiable Tax Address,Hidden Balance Modify           1\n",
       "Name: count, dtype: int64"
      ]
     },
     "execution_count": 27,
     "metadata": {},
     "output_type": "execute_result"
    }
   ],
   "source": [
    "trapdoor_df['Variable Manipulation'].value_counts()"
   ]
  },
  {
   "cell_type": "code",
   "execution_count": 28,
   "id": "7e1d5ed1",
   "metadata": {},
   "outputs": [
    {
     "data": {
      "application/vnd.microsoft.datawrangler.viewer.v0+json": {
       "columns": [
        {
         "name": "Balance Tamper",
         "rawType": "object",
         "type": "string"
        },
        {
         "name": "count",
         "rawType": "int64",
         "type": "integer"
        }
       ],
       "ref": "928532bb-4e53-4007-bfd1-f729b15d24f3",
       "rows": [
        [
         "Hidden Mint/Burn",
         "334"
        ],
        [
         "Hidden Balance Modification",
         "54"
        ],
        [
         "Hidden Balance Modify",
         "46"
        ],
        [
         "\nHidden Mint/Burn",
         "35"
        ],
        [
         "Hidden Mint/Burn,Hidden Balance Modification",
         "6"
        ],
        [
         "Hidden Mint/Burn,Hidden Balance Modify",
         "5"
        ],
        [
         "\n\nHidden Mint/Burn",
         "2"
        ],
        [
         "\n",
         "2"
        ],
        [
         "Hidden Mint/Eurn",
         "1"
        ],
        [
         "Hidden Mint/Burn茂录聦Hidden Balance Modification",
         "1"
        ],
        [
         "\n\n",
         "1"
        ],
        [
         "Hidden Mint/Burn脙炉脗录脗聦Hidden Balance Modify",
         "1"
        ]
       ],
       "shape": {
        "columns": 1,
        "rows": 12
       }
      },
      "text/plain": [
       "Balance Tamper\n",
       "Hidden Mint/Burn                                  334\n",
       "Hidden Balance Modification                        54\n",
       "Hidden Balance Modify                              46\n",
       "\\nHidden Mint/Burn                                 35\n",
       "Hidden Mint/Burn,Hidden Balance Modification        6\n",
       "Hidden Mint/Burn,Hidden Balance Modify              5\n",
       "\\n\\nHidden Mint/Burn                                2\n",
       "\\n                                                  2\n",
       "Hidden Mint/Eurn                                    1\n",
       "Hidden Mint/Burn茂录聦Hidden Balance Modification      1\n",
       "\\n\\n                                                1\n",
       "Hidden Mint/Burn脙炉脗录脗聦Hidden Balance Modify         1\n",
       "Name: count, dtype: int64"
      ]
     },
     "execution_count": 28,
     "metadata": {},
     "output_type": "execute_result"
    }
   ],
   "source": [
    "trapdoor_df['Balance Tamper'].value_counts()"
   ]
  },
  {
   "cell_type": "code",
   "execution_count": 29,
   "id": "f7c6ee8e",
   "metadata": {},
   "outputs": [],
   "source": [
    "empty_cond = ((trapdoor_df['Balance Tamper'].isna())&(trapdoor_df['Variable Manipulation'].isna() )&(trapdoor_df['Sale Restrict'].isna() ))\n",
    "trapdoor_df = trapdoor_df[~empty_cond]"
   ]
  },
  {
   "cell_type": "code",
   "execution_count": 30,
   "id": "e2ea397b",
   "metadata": {},
   "outputs": [
    {
     "data": {
      "application/vnd.microsoft.datawrangler.viewer.v0+json": {
       "columns": [
        {
         "name": "Chain",
         "rawType": "object",
         "type": "string"
        },
        {
         "name": "count",
         "rawType": "int64",
         "type": "integer"
        }
       ],
       "ref": "a0d00dd7-7453-4bb2-bd6b-c797fc191d09",
       "rows": [
        [
         "BSC",
         "383"
        ],
        [
         "ETH",
         "269"
        ],
        [
         "Polygon",
         "72"
        ],
        [
         "Fantom",
         "10"
        ],
        [
         "Arbitrum",
         "4"
        ],
        [
         "OP.ETH",
         "1"
        ],
        [
         "Cchain",
         "1"
        ],
        [
         "BASE",
         "1"
        ],
        [
         "Avax",
         "1"
        ]
       ],
       "shape": {
        "columns": 1,
        "rows": 9
       }
      },
      "text/plain": [
       "Chain\n",
       "BSC         383\n",
       "ETH         269\n",
       "Polygon      72\n",
       "Fantom       10\n",
       "Arbitrum      4\n",
       "OP.ETH        1\n",
       "Cchain        1\n",
       "BASE          1\n",
       "Avax          1\n",
       "Name: count, dtype: int64"
      ]
     },
     "execution_count": 30,
     "metadata": {},
     "output_type": "execute_result"
    }
   ],
   "source": [
    "trapdoor_df['Chain'].value_counts()"
   ]
  },
  {
   "cell_type": "code",
   "execution_count": 31,
   "id": "9f184df0",
   "metadata": {},
   "outputs": [
    {
     "name": "stdout",
     "output_type": "stream",
     "text": [
      "<class 'pandas.core.frame.DataFrame'>\n",
      "Index: 742 entries, 0 to 407\n",
      "Data columns (total 8 columns):\n",
      " #   Column                 Non-Null Count  Dtype \n",
      "---  ------                 --------------  ----- \n",
      " 0   Project Name           742 non-null    object\n",
      " 1   Chain                  742 non-null    object\n",
      " 2   Address                742 non-null    object\n",
      " 3   Open Source            742 non-null    object\n",
      " 4   Sale Restrict          303 non-null    object\n",
      " 5   Variable Manipulation  168 non-null    object\n",
      " 6   Balance Tamper         488 non-null    object\n",
      " 7   Source                 742 non-null    object\n",
      "dtypes: object(8)\n",
      "memory usage: 52.2+ KB\n"
     ]
    }
   ],
   "source": [
    "trapdoor_df.info()"
   ]
  },
  {
   "cell_type": "code",
   "execution_count": 32,
   "id": "b2e52158",
   "metadata": {},
   "outputs": [],
   "source": [
    "def clean_balance_tamper(value):\n",
    "    if pd.isna(value):\n",
    "        return ''\n",
    "\n",
    "    # Strip whitespace and linebreaks\n",
    "    value = value.strip()\n",
    "\n",
    "    # Replace multiple linebreaks or strange characters with a comma\n",
    "    value = re.sub(r'[\\n\\r]+', ',', value)\n",
    "    value = re.sub(r'[茂录聦]', ',', value)  # Remove strange unicode artifacts\n",
    "    value = re.sub(r'[脙炉脗录脗聦]', ',', value)  # Remove strange unicode artifacts\n",
    "\n",
    "    # Correct known typos\n",
    "    value = value.replace(\"Hidden Mint/Eurn\", \"Hidden Mint/Burn\")\n",
    "    value = value.replace(\"Hidden Balance Modify\", \"Hidden Balance Modification\")\n",
    "\n",
    "    # Split by comma and normalize each part\n",
    "    parts = [p.strip() for p in value.split(',') if p.strip()]\n",
    "\n",
    "    # Deduplicate and sort for consistency\n",
    "    parts = sorted(set(parts))\n",
    "\n",
    "    return list(set(parts))\n",
    "\n",
    "# Apply to both dataframes\n",
    "trapdoor_df['Balance Tamper'] = trapdoor_df['Balance Tamper'].apply(clean_balance_tamper)\n",
    "\n",
    "# Optional: show cleaned value counts\n",
    "mlb = MultiLabelBinarizer()\n",
    "tamper_encoded = pd.DataFrame(mlb.fit_transform(trapdoor_df['Balance Tamper']),\n",
    "                              columns=mlb.classes_,\n",
    "                              index=trapdoor_df.index)\n",
    "\n",
    "trapdoor_df = pd.concat([trapdoor_df.drop(columns=['Balance Tamper']), tamper_encoded], axis=1)"
   ]
  },
  {
   "cell_type": "code",
   "execution_count": 33,
   "id": "69a93235",
   "metadata": {},
   "outputs": [
    {
     "name": "stdout",
     "output_type": "stream",
     "text": [
      "<class 'pandas.core.frame.DataFrame'>\n",
      "Index: 742 entries, 0 to 407\n",
      "Data columns (total 9 columns):\n",
      " #   Column                       Non-Null Count  Dtype \n",
      "---  ------                       --------------  ----- \n",
      " 0   Project Name                 742 non-null    object\n",
      " 1   Chain                        742 non-null    object\n",
      " 2   Address                      742 non-null    object\n",
      " 3   Open Source                  742 non-null    object\n",
      " 4   Sale Restrict                303 non-null    object\n",
      " 5   Variable Manipulation        168 non-null    object\n",
      " 6   Source                       742 non-null    object\n",
      " 7   Hidden Balance Modification  742 non-null    int64 \n",
      " 8   Hidden Mint/Burn             742 non-null    int64 \n",
      "dtypes: int64(2), object(7)\n",
      "memory usage: 58.0+ KB\n"
     ]
    }
   ],
   "source": [
    "trapdoor_df.info()"
   ]
  },
  {
   "cell_type": "code",
   "execution_count": 34,
   "id": "b17c2823",
   "metadata": {},
   "outputs": [],
   "source": [
    "def extract_sale_restrict_labels(value):\n",
    "    if pd.isna(value) or not str(value).strip():\n",
    "        return []\n",
    "\n",
    "    value = re.sub(r'[\\n\\r]+', ',', value)\n",
    "\n",
    "    # Fix known typos\n",
    "    value = value.replace(\"TimeStanp Restrict\", \"TimeStamp Restrict\")\n",
    "\n",
    "    # Remove suffix like \"*3\" (e.g. Address Restrict*3)\n",
    "    value = re.sub(r'\\*[\\d]+', '', value)\n",
    "\n",
    "    # Split and clean\n",
    "    parts = [p.strip() for p in value.split(',') if p.strip()]\n",
    "\n",
    "    # Normalize duplicates\n",
    "    parts = sorted(set(parts))\n",
    "    return parts\n",
    "\n",
    "# Apply label extraction\n",
    "trapdoor_df['Sale Restrict'] = trapdoor_df['Sale Restrict'].apply(extract_sale_restrict_labels)\n",
    "\n",
    "# Binarize\n",
    "mlb_sale = MultiLabelBinarizer()\n",
    "\n",
    "sale_encoded = pd.DataFrame(mlb_sale.fit_transform(trapdoor_df['Sale Restrict']),\n",
    "                            columns=mlb_sale.classes_,\n",
    "                            index=trapdoor_df.index)\n",
    "\n",
    "# Drop original and concat\n",
    "trapdoor_df = pd.concat([trapdoor_df.drop(columns=['Sale Restrict']), sale_encoded], axis=1)"
   ]
  },
  {
   "cell_type": "code",
   "execution_count": 35,
   "id": "b47ef37c",
   "metadata": {},
   "outputs": [
    {
     "name": "stdout",
     "output_type": "stream",
     "text": [
      "<class 'pandas.core.frame.DataFrame'>\n",
      "Index: 742 entries, 0 to 407\n",
      "Data columns (total 12 columns):\n",
      " #   Column                       Non-Null Count  Dtype \n",
      "---  ------                       --------------  ----- \n",
      " 0   Project Name                 742 non-null    object\n",
      " 1   Chain                        742 non-null    object\n",
      " 2   Address                      742 non-null    object\n",
      " 3   Open Source                  742 non-null    object\n",
      " 4   Variable Manipulation        168 non-null    object\n",
      " 5   Source                       742 non-null    object\n",
      " 6   Hidden Balance Modification  742 non-null    int64 \n",
      " 7   Hidden Mint/Burn             742 non-null    int64 \n",
      " 8   Address Restrict             742 non-null    int64 \n",
      " 9   Amount Restrict              742 non-null    int64 \n",
      " 10  Modifiable External Call     742 non-null    int64 \n",
      " 11  TimeStamp Restrict           742 non-null    int64 \n",
      "dtypes: int64(6), object(6)\n",
      "memory usage: 75.4+ KB\n"
     ]
    }
   ],
   "source": [
    "trapdoor_df.info()"
   ]
  },
  {
   "cell_type": "code",
   "execution_count": 36,
   "id": "2bf76079",
   "metadata": {},
   "outputs": [],
   "source": [
    "def extract_variable_manipulation_labels(value):\n",
    "    if pd.isna(value) or not str(value).strip():\n",
    "        return []\n",
    "\n",
    "    value = re.sub(r'[\\n\\r]+', ',', value)\n",
    "\n",
    "    # Correct typos\n",
    "    value = value.replace(\"Modifibale Tax Rate\", \"Modifiable Tax Rate\")\n",
    "    value = value.replace(\"Modifuable Tax Rate\", \"Modifiable Tax Rate\")\n",
    "    value = value.replace(\"Hidden Balance Modify\", \"\")  # strip unrelated label\n",
    "\n",
    "    # Split and clean\n",
    "    parts = [p.strip() for p in value.split(',') if p.strip()]\n",
    "\n",
    "    # Deduplicate\n",
    "    parts = sorted(set(parts))\n",
    "    return parts\n",
    "\n",
    "# Apply function\n",
    "trapdoor_df['Variable Manipulation'] = trapdoor_df['Variable Manipulation'].apply(extract_variable_manipulation_labels)\n",
    "\n",
    "# Binarize\n",
    "mlb_var = MultiLabelBinarizer()\n",
    "var_encoded = pd.DataFrame(mlb_var.fit_transform(trapdoor_df['Variable Manipulation']),\n",
    "                           columns=mlb_var.classes_,\n",
    "                           index=trapdoor_df.index)\n",
    "\n",
    "# Merge and drop\n",
    "trapdoor_df = pd.concat([trapdoor_df.drop(columns=['Variable Manipulation']), var_encoded], axis=1)"
   ]
  },
  {
   "cell_type": "code",
   "execution_count": 37,
   "id": "22f3b5db",
   "metadata": {},
   "outputs": [
    {
     "name": "stdout",
     "output_type": "stream",
     "text": [
      "<class 'pandas.core.frame.DataFrame'>\n",
      "Index: 742 entries, 0 to 407\n",
      "Data columns (total 15 columns):\n",
      " #   Column                       Non-Null Count  Dtype \n",
      "---  ------                       --------------  ----- \n",
      " 0   Project Name                 742 non-null    object\n",
      " 1   Chain                        742 non-null    object\n",
      " 2   Address                      742 non-null    object\n",
      " 3   Open Source                  742 non-null    object\n",
      " 4   Source                       742 non-null    object\n",
      " 5   Hidden Balance Modification  742 non-null    int64 \n",
      " 6   Hidden Mint/Burn             742 non-null    int64 \n",
      " 7   Address Restrict             742 non-null    int64 \n",
      " 8   Amount Restrict              742 non-null    int64 \n",
      " 9   Modifiable External Call     742 non-null    int64 \n",
      " 10  TimeStamp Restrict           742 non-null    int64 \n",
      " 11  Hidden Balance Modification  742 non-null    int64 \n",
      " 12  Modifiable External Call     742 non-null    int64 \n",
      " 13  Modifiable Tax Address       742 non-null    int64 \n",
      " 14  Modifiable Tax Rate          742 non-null    int64 \n",
      "dtypes: int64(10), object(5)\n",
      "memory usage: 92.8+ KB\n"
     ]
    }
   ],
   "source": [
    "trapdoor_df.info()"
   ]
  },
  {
   "cell_type": "code",
   "execution_count": 38,
   "id": "d571063b",
   "metadata": {},
   "outputs": [],
   "source": [
    "trapdoor_df = trapdoor_df.loc[:,~trapdoor_df.columns.duplicated()].copy()"
   ]
  },
  {
   "cell_type": "code",
   "execution_count": 39,
   "id": "8d044ab0",
   "metadata": {},
   "outputs": [
    {
     "name": "stdout",
     "output_type": "stream",
     "text": [
      "<class 'pandas.core.frame.DataFrame'>\n",
      "Index: 742 entries, 0 to 407\n",
      "Data columns (total 13 columns):\n",
      " #   Column                       Non-Null Count  Dtype \n",
      "---  ------                       --------------  ----- \n",
      " 0   Project Name                 742 non-null    object\n",
      " 1   Chain                        742 non-null    object\n",
      " 2   Address                      742 non-null    object\n",
      " 3   Open Source                  742 non-null    object\n",
      " 4   Source                       742 non-null    object\n",
      " 5   Hidden Balance Modification  742 non-null    int64 \n",
      " 6   Hidden Mint/Burn             742 non-null    int64 \n",
      " 7   Address Restrict             742 non-null    int64 \n",
      " 8   Amount Restrict              742 non-null    int64 \n",
      " 9   Modifiable External Call     742 non-null    int64 \n",
      " 10  TimeStamp Restrict           742 non-null    int64 \n",
      " 11  Modifiable Tax Address       742 non-null    int64 \n",
      " 12  Modifiable Tax Rate          742 non-null    int64 \n",
      "dtypes: int64(8), object(5)\n",
      "memory usage: 81.2+ KB\n"
     ]
    }
   ],
   "source": [
    "trapdoor_df.info()"
   ]
  },
  {
   "cell_type": "code",
   "execution_count": 40,
   "id": "af94d79f",
   "metadata": {},
   "outputs": [
    {
     "data": {
      "text/plain": [
       "Index(['Hidden Balance Modification', 'Hidden Mint/Burn', 'Address Restrict',\n",
       "       'Amount Restrict', 'Modifiable External Call', 'TimeStamp Restrict',\n",
       "       'Modifiable Tax Address', 'Modifiable Tax Rate'],\n",
       "      dtype='object')"
      ]
     },
     "execution_count": 40,
     "metadata": {},
     "output_type": "execute_result"
    }
   ],
   "source": [
    "trapdoor_df.select_dtypes('int64').columns"
   ]
  },
  {
   "cell_type": "code",
   "execution_count": 41,
   "id": "4f7758df",
   "metadata": {},
   "outputs": [],
   "source": [
    "label_cols = trapdoor_df.select_dtypes('int64').columns.tolist()"
   ]
  },
  {
   "cell_type": "code",
   "execution_count": 42,
   "id": "74bfb6c5",
   "metadata": {},
   "outputs": [],
   "source": [
    "trapdoor_df.to_csv(os.path.join(PATH, 'data/interim/trapdoor.csv'), columns=['Address']+label_cols)"
   ]
  },
  {
   "cell_type": "code",
   "execution_count": 50,
   "id": "2f55705a",
   "metadata": {},
   "outputs": [
    {
     "data": {
      "image/png": "[encoded data removed]",
      "text/plain": [
       "<Figure size 640x480 with 1 Axes>"
      ]
     },
     "metadata": {},
     "output_type": "display_data"
    },
    {
     "data": {
      "image/png": "[encoded data removed]",
      "text/plain": [
       "<Figure size 640x480 with 1 Axes>"
      ]
     },
     "metadata": {},
     "output_type": "display_data"
    },
    {
     "data": {
      "image/png": "[encoded data removed]",
      "text/plain": [
       "<Figure size 640x480 with 1 Axes>"
      ]
     },
     "metadata": {},
     "output_type": "display_data"
    },
    {
     "data": {
      "image/png": "[encoded data removed]",
      "text/plain": [
       "<Figure size 640x480 with 1 Axes>"
      ]
     },
     "metadata": {},
     "output_type": "display_data"
    },
    {
     "data": {
      "image/png": "[encoded data removed]",
      "text/plain": [
       "<Figure size 640x480 with 1 Axes>"
      ]
     },
     "metadata": {},
     "output_type": "display_data"
    },
    {
     "data": {
      "image/png": "[encoded data removed]",
      "text/plain": [
       "<Figure size 640x480 with 1 Axes>"
      ]
     },
     "metadata": {},
     "output_type": "display_data"
    },
    {
     "data": {
      "image/png": "[encoded data removed]",
      "text/plain": [
       "<Figure size 640x480 with 1 Axes>"
      ]
     },
     "metadata": {},
     "output_type": "display_data"
    },
    {
     "data": {
      "image/png": "[encoded data removed]",
      "text/plain": [
       "<Figure size 640x480 with 1 Axes>"
      ]
     },
     "metadata": {},
     "output_type": "display_data"
    }
   ],
   "source": [
    "for label in label_cols:\n",
    "    sns.countplot(trapdoor_df, x=label)\n",
    "    plt.show()"
   ]
  },
  {
   "cell_type": "code",
   "execution_count": 44,
   "id": "f99cc3fc",
   "metadata": {},
   "outputs": [],
   "source": [
    "ground_df = ground_df.rename(columns={'address': 'Address'})\n",
    "opcode_df = opcode_df.rename(columns={'address': 'Address'})"
   ]
  },
  {
   "cell_type": "code",
   "execution_count": 45,
   "id": "c4c91f1c",
   "metadata": {},
   "outputs": [
    {
     "data": {
      "text/plain": [
       "Index(['Address', 'Mint', 'Leak', 'Limit', 'label_combo'], dtype='object')"
      ]
     },
     "execution_count": 45,
     "metadata": {},
     "output_type": "execute_result"
    }
   ],
   "source": [
    "ground_df.columns"
   ]
  },
  {
   "cell_type": "code",
   "execution_count": 46,
   "id": "e3705a97",
   "metadata": {},
   "outputs": [
    {
     "data": {
      "application/vnd.microsoft.datawrangler.viewer.v0+json": {
       "columns": [
        {
         "name": "index",
         "rawType": "int64",
         "type": "integer"
        },
        {
         "name": "address",
         "rawType": "object",
         "type": "string"
        },
        {
         "name": "PUSH14",
         "rawType": "int64",
         "type": "integer"
        },
        {
         "name": "AND",
         "rawType": "int64",
         "type": "integer"
        },
        {
         "name": "CALLER",
         "rawType": "int64",
         "type": "integer"
        },
        {
         "name": "JUMPI",
         "rawType": "int64",
         "type": "integer"
        },
        {
         "name": "CALLDATACOPY",
         "rawType": "int64",
         "type": "integer"
        },
        {
         "name": "PUSH11",
         "rawType": "int64",
         "type": "integer"
        },
        {
         "name": "DIFFICULTY",
         "rawType": "int64",
         "type": "integer"
        },
        {
         "name": "CALL",
         "rawType": "int64",
         "type": "integer"
        },
        {
         "name": "DUP4",
         "rawType": "int64",
         "type": "integer"
        },
        {
         "name": "DUP7",
         "rawType": "int64",
         "type": "integer"
        },
        {
         "name": "PUSH30",
         "rawType": "int64",
         "type": "integer"
        },
        {
         "name": "DUP9",
         "rawType": "int64",
         "type": "integer"
        },
        {
         "name": "STOP",
         "rawType": "int64",
         "type": "integer"
        },
        {
         "name": "RETURNDATACOPY",
         "rawType": "int64",
         "type": "integer"
        },
        {
         "name": "PUSH29",
         "rawType": "int64",
         "type": "integer"
        },
        {
         "name": "PUSH27",
         "rawType": "int64",
         "type": "integer"
        },
        {
         "name": "CREATE",
         "rawType": "int64",
         "type": "integer"
        },
        {
         "name": "SLOAD",
         "rawType": "int64",
         "type": "integer"
        },
        {
         "name": "SWAP1",
         "rawType": "int64",
         "type": "integer"
        },
        {
         "name": "PUSH13",
         "rawType": "int64",
         "type": "integer"
        },
        {
         "name": "CHAINID",
         "rawType": "int64",
         "type": "integer"
        },
        {
         "name": "SLT",
         "rawType": "int64",
         "type": "integer"
        },
        {
         "name": "SELFDESTRUCT",
         "rawType": "int64",
         "type": "integer"
        },
        {
         "name": "SWAP8",
         "rawType": "int64",
         "type": "integer"
        },
        {
         "name": "SWAP4",
         "rawType": "int64",
         "type": "integer"
        },
        {
         "name": "PUSH17",
         "rawType": "int64",
         "type": "integer"
        },
        {
         "name": "PUSH19",
         "rawType": "int64",
         "type": "integer"
        },
        {
         "name": "GT",
         "rawType": "int64",
         "type": "integer"
        },
        {
         "name": "LOG2",
         "rawType": "int64",
         "type": "integer"
        },
        {
         "name": "SELFBALANCE",
         "rawType": "int64",
         "type": "integer"
        },
        {
         "name": "MOD",
         "rawType": "int64",
         "type": "integer"
        },
        {
         "name": "PUSH5",
         "rawType": "int64",
         "type": "integer"
        },
        {
         "name": "SHR",
         "rawType": "int64",
         "type": "integer"
        },
        {
         "name": "MUL",
         "rawType": "int64",
         "type": "integer"
        },
        {
         "name": "NOT",
         "rawType": "int64",
         "type": "integer"
        },
        {
         "name": "PUSH2",
         "rawType": "int64",
         "type": "integer"
        },
        {
         "name": "SWAP5",
         "rawType": "int64",
         "type": "integer"
        },
        {
         "name": "SWAP16",
         "rawType": "int64",
         "type": "integer"
        },
        {
         "name": "PUSH1",
         "rawType": "int64",
         "type": "integer"
        },
        {
         "name": "EQ",
         "rawType": "int64",
         "type": "integer"
        },
        {
         "name": "SWAP15",
         "rawType": "int64",
         "type": "integer"
        },
        {
         "name": "SAR",
         "rawType": "int64",
         "type": "integer"
        },
        {
         "name": "DUP11",
         "rawType": "int64",
         "type": "integer"
        },
        {
         "name": "BLOCKHASH",
         "rawType": "int64",
         "type": "integer"
        },
        {
         "name": "PUSH9",
         "rawType": "int64",
         "type": "integer"
        },
        {
         "name": "DUP5",
         "rawType": "int64",
         "type": "integer"
        },
        {
         "name": "PUSH7",
         "rawType": "int64",
         "type": "integer"
        },
        {
         "name": "SWAP13",
         "rawType": "int64",
         "type": "integer"
        },
        {
         "name": "CALLVALUE",
         "rawType": "int64",
         "type": "integer"
        },
        {
         "name": "PUSH22",
         "rawType": "int64",
         "type": "integer"
        },
        {
         "name": "SWAP3",
         "rawType": "int64",
         "type": "integer"
        },
        {
         "name": "ORIGIN",
         "rawType": "int64",
         "type": "integer"
        },
        {
         "name": "DUP6",
         "rawType": "int64",
         "type": "integer"
        },
        {
         "name": "SWAP2",
         "rawType": "int64",
         "type": "integer"
        },
        {
         "name": "NUMBER",
         "rawType": "int64",
         "type": "integer"
        },
        {
         "name": "EXP",
         "rawType": "int64",
         "type": "integer"
        },
        {
         "name": "SWAP11",
         "rawType": "int64",
         "type": "integer"
        },
        {
         "name": "STATICCALL",
         "rawType": "int64",
         "type": "integer"
        },
        {
         "name": "BALANCE",
         "rawType": "int64",
         "type": "integer"
        },
        {
         "name": "DUP3",
         "rawType": "int64",
         "type": "integer"
        },
        {
         "name": "SWAP9",
         "rawType": "int64",
         "type": "integer"
        },
        {
         "name": "SUB",
         "rawType": "int64",
         "type": "integer"
        },
        {
         "name": "LOG3",
         "rawType": "int64",
         "type": "integer"
        },
        {
         "name": "RETURNDATASIZE",
         "rawType": "int64",
         "type": "integer"
        },
        {
         "name": "SGT",
         "rawType": "int64",
         "type": "integer"
        },
        {
         "name": "SWAP7",
         "rawType": "int64",
         "type": "integer"
        },
        {
         "name": "MSIZE",
         "rawType": "int64",
         "type": "integer"
        },
        {
         "name": "SDIV",
         "rawType": "int64",
         "type": "integer"
        },
        {
         "name": "PUSH32",
         "rawType": "int64",
         "type": "integer"
        },
        {
         "name": "PUSH16",
         "rawType": "int64",
         "type": "integer"
        },
        {
         "name": "JUMPDEST",
         "rawType": "int64",
         "type": "integer"
        },
        {
         "name": "PUSH12",
         "rawType": "int64",
         "type": "integer"
        },
        {
         "name": "BASEFEE",
         "rawType": "int64",
         "type": "integer"
        },
        {
         "name": "DIV",
         "rawType": "int64",
         "type": "integer"
        },
        {
         "name": "DUP13",
         "rawType": "int64",
         "type": "integer"
        },
        {
         "name": "CALLCODE",
         "rawType": "int64",
         "type": "integer"
        },
        {
         "name": "DUP2",
         "rawType": "int64",
         "type": "integer"
        },
        {
         "name": "MULMOD",
         "rawType": "int64",
         "type": "integer"
        },
        {
         "name": "PUSH23",
         "rawType": "int64",
         "type": "integer"
        },
        {
         "name": "EXTCODECOPY",
         "rawType": "int64",
         "type": "integer"
        },
        {
         "name": "ADDMOD",
         "rawType": "int64",
         "type": "integer"
        },
        {
         "name": "DUP10",
         "rawType": "int64",
         "type": "integer"
        },
        {
         "name": "PUSH4",
         "rawType": "int64",
         "type": "integer"
        },
        {
         "name": "CODECOPY",
         "rawType": "int64",
         "type": "integer"
        },
        {
         "name": "MSTORE",
         "rawType": "int64",
         "type": "integer"
        },
        {
         "name": "XOR",
         "rawType": "int64",
         "type": "integer"
        },
        {
         "name": "GAS",
         "rawType": "int64",
         "type": "integer"
        },
        {
         "name": "PUSH20",
         "rawType": "int64",
         "type": "integer"
        },
        {
         "name": "COINBASE",
         "rawType": "int64",
         "type": "integer"
        },
        {
         "name": "MLOAD",
         "rawType": "int64",
         "type": "integer"
        },
        {
         "name": "DUP1",
         "rawType": "int64",
         "type": "integer"
        },
        {
         "name": "LOG0",
         "rawType": "int64",
         "type": "integer"
        },
        {
         "name": "CALLDATASIZE",
         "rawType": "int64",
         "type": "integer"
        },
        {
         "name": "LOG1",
         "rawType": "int64",
         "type": "integer"
        },
        {
         "name": "PUSH28",
         "rawType": "int64",
         "type": "integer"
        },
        {
         "name": "PUSH15",
         "rawType": "int64",
         "type": "integer"
        },
        {
         "name": "PUSH24",
         "rawType": "int64",
         "type": "integer"
        },
        {
         "name": "PUSH10",
         "rawType": "int64",
         "type": "integer"
        },
        {
         "name": "SIGNEXTEND",
         "rawType": "int64",
         "type": "integer"
        },
        {
         "name": "SMOD",
         "rawType": "int64",
         "type": "integer"
        },
        {
         "name": "ISZERO",
         "rawType": "int64",
         "type": "integer"
        },
        {
         "name": "ADD",
         "rawType": "int64",
         "type": "integer"
        },
        {
         "name": "POP",
         "rawType": "int64",
         "type": "integer"
        },
        {
         "name": "GASPRICE",
         "rawType": "int64",
         "type": "integer"
        },
        {
         "name": "EXTCODESIZE",
         "rawType": "int64",
         "type": "integer"
        },
        {
         "name": "SWAP6",
         "rawType": "int64",
         "type": "integer"
        },
        {
         "name": "LOG4",
         "rawType": "int64",
         "type": "integer"
        },
        {
         "name": "DUP16",
         "rawType": "int64",
         "type": "integer"
        },
        {
         "name": "DUP15",
         "rawType": "int64",
         "type": "integer"
        },
        {
         "name": "TIMESTAMP",
         "rawType": "int64",
         "type": "integer"
        },
        {
         "name": "SWAP10",
         "rawType": "int64",
         "type": "integer"
        },
        {
         "name": "SWAP12",
         "rawType": "int64",
         "type": "integer"
        },
        {
         "name": "SSTORE",
         "rawType": "int64",
         "type": "integer"
        },
        {
         "name": "DUP14",
         "rawType": "int64",
         "type": "integer"
        },
        {
         "name": "BYTE",
         "rawType": "int64",
         "type": "integer"
        },
        {
         "name": "PUSH18",
         "rawType": "int64",
         "type": "integer"
        },
        {
         "name": "PUSH8",
         "rawType": "int64",
         "type": "integer"
        },
        {
         "name": "PUSH26",
         "rawType": "int64",
         "type": "integer"
        },
        {
         "name": "SHL",
         "rawType": "int64",
         "type": "integer"
        },
        {
         "name": "MSTORE8",
         "rawType": "int64",
         "type": "integer"
        },
        {
         "name": "ADDRESS",
         "rawType": "int64",
         "type": "integer"
        },
        {
         "name": "JUMP",
         "rawType": "int64",
         "type": "integer"
        },
        {
         "name": "PC",
         "rawType": "int64",
         "type": "integer"
        },
        {
         "name": "PUSH3",
         "rawType": "int64",
         "type": "integer"
        },
        {
         "name": "PUSH6",
         "rawType": "int64",
         "type": "integer"
        },
        {
         "name": "SWAP14",
         "rawType": "int64",
         "type": "integer"
        },
        {
         "name": "LT",
         "rawType": "int64",
         "type": "integer"
        },
        {
         "name": "RETURN",
         "rawType": "int64",
         "type": "integer"
        },
        {
         "name": "PUSH31",
         "rawType": "int64",
         "type": "integer"
        },
        {
         "name": "DELEGATECALL",
         "rawType": "int64",
         "type": "integer"
        },
        {
         "name": "PUSH21",
         "rawType": "int64",
         "type": "integer"
        },
        {
         "name": "DUP8",
         "rawType": "int64",
         "type": "integer"
        },
        {
         "name": "CALLDATALOAD",
         "rawType": "int64",
         "type": "integer"
        },
        {
         "name": "GASLIMIT",
         "rawType": "int64",
         "type": "integer"
        },
        {
         "name": "CODESIZE",
         "rawType": "int64",
         "type": "integer"
        },
        {
         "name": "SHA3",
         "rawType": "int64",
         "type": "integer"
        },
        {
         "name": "DUP12",
         "rawType": "int64",
         "type": "integer"
        },
        {
         "name": "OR",
         "rawType": "int64",
         "type": "integer"
        },
        {
         "name": "PUSH25",
         "rawType": "int64",
         "type": "integer"
        },
        {
         "name": "CREATE2",
         "rawType": "int64",
         "type": "integer"
        },
        {
         "name": "EXTCODEHASH",
         "rawType": "int64",
         "type": "integer"
        },
        {
         "name": "REVERT",
         "rawType": "int64",
         "type": "integer"
        },
        {
         "name": "label",
         "rawType": "int64",
         "type": "integer"
        }
       ],
       "ref": "8c1f1429-ac02-423d-902f-a3444b491ccf",
       "rows": [
        [
         "0",
         "0x5674d4536fcd7a924696078b15865c4fab9f3597",
         "0",
         "243",
         "7",
         "102",
         "4",
         "0",
         "0",
         "0",
         "76",
         "36",
         "0",
         "12",
         "7",
         "0",
         "0",
         "0",
         "0",
         "60",
         "358",
         "0",
         "0",
         "1",
         "0",
         "0",
         "6",
         "0",
         "4",
         "22",
         "1",
         "0",
         "1",
         "10",
         "1",
         "46",
         "16",
         "277",
         "0",
         "0",
         "764",
         "48",
         "0",
         "0",
         "6",
         "1",
         "0",
         "57",
         "0",
         "0",
         "1",
         "1",
         "48",
         "2",
         "14",
         "179",
         "3",
         "36",
         "0",
         "0",
         "0",
         "109",
         "0",
         "92",
         "8",
         "0",
         "0",
         "0",
         "0",
         "0",
         "38",
         "0",
         "180",
         "0",
         "0",
         "32",
         "0",
         "0",
         "326",
         "0",
         "0",
         "0",
         "0",
         "1",
         "33",
         "23",
         "224",
         "0",
         "0",
         "198",
         "0",
         "126",
         "331",
         "0",
         "11",
         "0",
         "1",
         "1",
         "0",
         "0",
         "0",
         "0",
         "92",
         "333",
         "284",
         "3",
         "0",
         "0",
         "0",
         "0",
         "0",
         "0",
         "0",
         "0",
         "25",
         "0",
         "0",
         "0",
         "0",
         "0",
         "0",
         "0",
         "4",
         "83",
         "1",
         "0",
         "1",
         "0",
         "30",
         "10",
         "0",
         "0",
         "2",
         "6",
         "23",
         "2",
         "0",
         "49",
         "1",
         "13",
         "0",
         "0",
         "0",
         "47",
         "0"
        ],
        [
         "1",
         "0xbb7f05aa2dd33425ea0848cda8e4ea54718c6336",
         "0",
         "243",
         "7",
         "103",
         "4",
         "0",
         "0",
         "0",
         "72",
         "38",
         "0",
         "12",
         "6",
         "0",
         "0",
         "0",
         "0",
         "60",
         "362",
         "0",
         "0",
         "1",
         "0",
         "0",
         "6",
         "0",
         "4",
         "22",
         "1",
         "0",
         "0",
         "10",
         "2",
         "46",
         "16",
         "279",
         "0",
         "0",
         "770",
         "48",
         "0",
         "0",
         "6",
         "0",
         "0",
         "57",
         "0",
         "0",
         "1",
         "1",
         "48",
         "2",
         "17",
         "179",
         "2",
         "36",
         "0",
         "0",
         "0",
         "107",
         "0",
         "92",
         "8",
         "0",
         "0",
         "0",
         "0",
         "0",
         "38",
         "0",
         "180",
         "0",
         "0",
         "32",
         "0",
         "0",
         "325",
         "0",
         "0",
         "0",
         "0",
         "0",
         "34",
         "23",
         "224",
         "0",
         "0",
         "198",
         "0",
         "127",
         "331",
         "0",
         "11",
         "0",
         "0",
         "1",
         "1",
         "0",
         "0",
         "0",
         "92",
         "333",
         "292",
         "3",
         "0",
         "0",
         "0",
         "0",
         "0",
         "0",
         "0",
         "0",
         "25",
         "0",
         "0",
         "0",
         "0",
         "0",
         "0",
         "0",
         "3",
         "83",
         "0",
         "0",
         "2",
         "0",
         "30",
         "10",
         "0",
         "0",
         "2",
         "8",
         "23",
         "2",
         "0",
         "48",
         "1",
         "13",
         "0",
         "0",
         "0",
         "47",
         "0"
        ],
        [
         "2",
         "0x801427e0b00c5aa46f96550e1e33ad7f00077e19",
         "0",
         "243",
         "7",
         "102",
         "4",
         "0",
         "0",
         "0",
         "76",
         "36",
         "0",
         "12",
         "7",
         "0",
         "0",
         "0",
         "0",
         "60",
         "358",
         "0",
         "0",
         "1",
         "1",
         "0",
         "7",
         "0",
         "5",
         "22",
         "1",
         "0",
         "1",
         "11",
         "1",
         "46",
         "16",
         "277",
         "0",
         "0",
         "764",
         "48",
         "0",
         "1",
         "6",
         "0",
         "0",
         "57",
         "0",
         "0",
         "1",
         "1",
         "49",
         "2",
         "14",
         "179",
         "2",
         "36",
         "0",
         "1",
         "0",
         "109",
         "0",
         "92",
         "8",
         "0",
         "0",
         "0",
         "0",
         "0",
         "38",
         "0",
         "180",
         "0",
         "0",
         "32",
         "0",
         "0",
         "326",
         "0",
         "0",
         "0",
         "0",
         "0",
         "33",
         "23",
         "225",
         "0",
         "0",
         "198",
         "0",
         "126",
         "331",
         "0",
         "11",
         "0",
         "0",
         "1",
         "0",
         "0",
         "0",
         "0",
         "92",
         "333",
         "285",
         "3",
         "1",
         "0",
         "0",
         "0",
         "0",
         "0",
         "0",
         "0",
         "25",
         "0",
         "0",
         "0",
         "0",
         "0",
         "0",
         "0",
         "3",
         "83",
         "0",
         "0",
         "1",
         "0",
         "30",
         "10",
         "0",
         "0",
         "2",
         "6",
         "23",
         "2",
         "0",
         "48",
         "1",
         "13",
         "0",
         "0",
         "0",
         "47",
         "0"
        ],
        [
         "3",
         "0x1b49dc534fa67d0c23f6bd0601f8c8142f8306d0",
         "0",
         "243",
         "7",
         "102",
         "4",
         "0",
         "0",
         "0",
         "76",
         "36",
         "0",
         "12",
         "6",
         "0",
         "0",
         "0",
         "0",
         "60",
         "358",
         "0",
         "0",
         "1",
         "0",
         "0",
         "6",
         "0",
         "4",
         "22",
         "1",
         "0",
         "0",
         "10",
         "1",
         "46",
         "16",
         "277",
         "0",
         "0",
         "764",
         "48",
         "0",
         "0",
         "6",
         "0",
         "0",
         "57",
         "0",
         "1",
         "2",
         "1",
         "49",
         "2",
         "15",
         "179",
         "2",
         "36",
         "0",
         "0",
         "0",
         "109",
         "0",
         "92",
         "8",
         "0",
         "0",
         "1",
         "0",
         "0",
         "38",
         "1",
         "180",
         "0",
         "0",
         "32",
         "0",
         "0",
         "327",
         "0",
         "0",
         "0",
         "0",
         "0",
         "33",
         "23",
         "224",
         "0",
         "0",
         "198",
         "0",
         "126",
         "331",
         "1",
         "11",
         "0",
         "0",
         "1",
         "0",
         "1",
         "0",
         "0",
         "92",
         "333",
         "284",
         "3",
         "1",
         "0",
         "0",
         "0",
         "0",
         "0",
         "0",
         "0",
         "25",
         "0",
         "0",
         "0",
         "0",
         "0",
         "0",
         "0",
         "3",
         "83",
         "0",
         "0",
         "1",
         "0",
         "30",
         "10",
         "0",
         "0",
         "2",
         "6",
         "23",
         "2",
         "0",
         "48",
         "1",
         "13",
         "0",
         "0",
         "0",
         "48",
         "0"
        ],
        [
         "4",
         "0xf3afd0feac711f754d430de41ec0c7314a397ca1",
         "0",
         "243",
         "7",
         "102",
         "4",
         "0",
         "0",
         "0",
         "77",
         "36",
         "0",
         "12",
         "7",
         "0",
         "0",
         "0",
         "0",
         "60",
         "358",
         "0",
         "0",
         "1",
         "0",
         "1",
         "6",
         "0",
         "4",
         "22",
         "1",
         "0",
         "1",
         "11",
         "1",
         "46",
         "16",
         "277",
         "0",
         "0",
         "764",
         "48",
         "0",
         "0",
         "6",
         "0",
         "0",
         "57",
         "0",
         "0",
         "1",
         "2",
         "48",
         "2",
         "14",
         "179",
         "2",
         "36",
         "0",
         "0",
         "0",
         "109",
         "0",
         "92",
         "8",
         "0",
         "0",
         "0",
         "0",
         "0",
         "38",
         "0",
         "180",
         "0",
         "0",
         "32",
         "0",
         "0",
         "326",
         "0",
         "0",
         "0",
         "0",
         "0",
         "33",
         "23",
         "224",
         "0",
         "0",
         "198",
         "0",
         "126",
         "331",
         "0",
         "11",
         "0",
         "0",
         "1",
         "0",
         "0",
         "0",
         "0",
         "92",
         "333",
         "284",
         "3",
         "0",
         "0",
         "0",
         "0",
         "1",
         "0",
         "0",
         "0",
         "25",
         "0",
         "0",
         "0",
         "0",
         "0",
         "0",
         "0",
         "3",
         "83",
         "0",
         "0",
         "1",
         "0",
         "30",
         "10",
         "0",
         "0",
         "2",
         "6",
         "23",
         "2",
         "0",
         "48",
         "1",
         "13",
         "0",
         "0",
         "0",
         "47",
         "0"
        ]
       ],
       "shape": {
        "columns": 144,
        "rows": 5
       }
      },
      "text/html": [
       "<div>\n",
       "<style scoped>\n",
       "    .dataframe tbody tr th:only-of-type {\n",
       "        vertical-align: middle;\n",
       "    }\n",
       "\n",
       "    .dataframe tbody tr th {\n",
       "        vertical-align: top;\n",
       "    }\n",
       "\n",
       "    .dataframe thead th {\n",
       "        text-align: right;\n",
       "    }\n",
       "</style>\n",
       "<table border=\"1\" class=\"dataframe\">\n",
       "  <thead>\n",
       "    <tr style=\"text-align: right;\">\n",
       "      <th></th>\n",
       "      <th>address</th>\n",
       "      <th>PUSH14</th>\n",
       "      <th>AND</th>\n",
       "      <th>CALLER</th>\n",
       "      <th>JUMPI</th>\n",
       "      <th>CALLDATACOPY</th>\n",
       "      <th>PUSH11</th>\n",
       "      <th>DIFFICULTY</th>\n",
       "      <th>CALL</th>\n",
       "      <th>DUP4</th>\n",
       "      <th>...</th>\n",
       "      <th>GASLIMIT</th>\n",
       "      <th>CODESIZE</th>\n",
       "      <th>SHA3</th>\n",
       "      <th>DUP12</th>\n",
       "      <th>OR</th>\n",
       "      <th>PUSH25</th>\n",
       "      <th>CREATE2</th>\n",
       "      <th>EXTCODEHASH</th>\n",
       "      <th>REVERT</th>\n",
       "      <th>label</th>\n",
       "    </tr>\n",
       "  </thead>\n",
       "  <tbody>\n",
       "    <tr>\n",
       "      <th>0</th>\n",
       "      <td>0x5674d4536fcd7a924696078b15865c4fab9f3597</td>\n",
       "      <td>0</td>\n",
       "      <td>243</td>\n",
       "      <td>7</td>\n",
       "      <td>102</td>\n",
       "      <td>4</td>\n",
       "      <td>0</td>\n",
       "      <td>0</td>\n",
       "      <td>0</td>\n",
       "      <td>76</td>\n",
       "      <td>...</td>\n",
       "      <td>2</td>\n",
       "      <td>0</td>\n",
       "      <td>49</td>\n",
       "      <td>1</td>\n",
       "      <td>13</td>\n",
       "      <td>0</td>\n",
       "      <td>0</td>\n",
       "      <td>0</td>\n",
       "      <td>47</td>\n",
       "      <td>0</td>\n",
       "    </tr>\n",
       "    <tr>\n",
       "      <th>1</th>\n",
       "      <td>0xbb7f05aa2dd33425ea0848cda8e4ea54718c6336</td>\n",
       "      <td>0</td>\n",
       "      <td>243</td>\n",
       "      <td>7</td>\n",
       "      <td>103</td>\n",
       "      <td>4</td>\n",
       "      <td>0</td>\n",
       "      <td>0</td>\n",
       "      <td>0</td>\n",
       "      <td>72</td>\n",
       "      <td>...</td>\n",
       "      <td>2</td>\n",
       "      <td>0</td>\n",
       "      <td>48</td>\n",
       "      <td>1</td>\n",
       "      <td>13</td>\n",
       "      <td>0</td>\n",
       "      <td>0</td>\n",
       "      <td>0</td>\n",
       "      <td>47</td>\n",
       "      <td>0</td>\n",
       "    </tr>\n",
       "    <tr>\n",
       "      <th>2</th>\n",
       "      <td>0x801427e0b00c5aa46f96550e1e33ad7f00077e19</td>\n",
       "      <td>0</td>\n",
       "      <td>243</td>\n",
       "      <td>7</td>\n",
       "      <td>102</td>\n",
       "      <td>4</td>\n",
       "      <td>0</td>\n",
       "      <td>0</td>\n",
       "      <td>0</td>\n",
       "      <td>76</td>\n",
       "      <td>...</td>\n",
       "      <td>2</td>\n",
       "      <td>0</td>\n",
       "      <td>48</td>\n",
       "      <td>1</td>\n",
       "      <td>13</td>\n",
       "      <td>0</td>\n",
       "      <td>0</td>\n",
       "      <td>0</td>\n",
       "      <td>47</td>\n",
       "      <td>0</td>\n",
       "    </tr>\n",
       "    <tr>\n",
       "      <th>3</th>\n",
       "      <td>0x1b49dc534fa67d0c23f6bd0601f8c8142f8306d0</td>\n",
       "      <td>0</td>\n",
       "      <td>243</td>\n",
       "      <td>7</td>\n",
       "      <td>102</td>\n",
       "      <td>4</td>\n",
       "      <td>0</td>\n",
       "      <td>0</td>\n",
       "      <td>0</td>\n",
       "      <td>76</td>\n",
       "      <td>...</td>\n",
       "      <td>2</td>\n",
       "      <td>0</td>\n",
       "      <td>48</td>\n",
       "      <td>1</td>\n",
       "      <td>13</td>\n",
       "      <td>0</td>\n",
       "      <td>0</td>\n",
       "      <td>0</td>\n",
       "      <td>48</td>\n",
       "      <td>0</td>\n",
       "    </tr>\n",
       "    <tr>\n",
       "      <th>4</th>\n",
       "      <td>0xf3afd0feac711f754d430de41ec0c7314a397ca1</td>\n",
       "      <td>0</td>\n",
       "      <td>243</td>\n",
       "      <td>7</td>\n",
       "      <td>102</td>\n",
       "      <td>4</td>\n",
       "      <td>0</td>\n",
       "      <td>0</td>\n",
       "      <td>0</td>\n",
       "      <td>77</td>\n",
       "      <td>...</td>\n",
       "      <td>2</td>\n",
       "      <td>0</td>\n",
       "      <td>48</td>\n",
       "      <td>1</td>\n",
       "      <td>13</td>\n",
       "      <td>0</td>\n",
       "      <td>0</td>\n",
       "      <td>0</td>\n",
       "      <td>47</td>\n",
       "      <td>0</td>\n",
       "    </tr>\n",
       "  </tbody>\n",
       "</table>\n",
       "<p>5 rows × 144 columns</p>\n",
       "</div>"
      ],
      "text/plain": [
       "                                      address  PUSH14  AND  CALLER  JUMPI  \\\n",
       "0  0x5674d4536fcd7a924696078b15865c4fab9f3597       0  243       7    102   \n",
       "1  0xbb7f05aa2dd33425ea0848cda8e4ea54718c6336       0  243       7    103   \n",
       "2  0x801427e0b00c5aa46f96550e1e33ad7f00077e19       0  243       7    102   \n",
       "3  0x1b49dc534fa67d0c23f6bd0601f8c8142f8306d0       0  243       7    102   \n",
       "4  0xf3afd0feac711f754d430de41ec0c7314a397ca1       0  243       7    102   \n",
       "\n",
       "   CALLDATACOPY  PUSH11  DIFFICULTY  CALL  DUP4  ...  GASLIMIT  CODESIZE  \\\n",
       "0             4       0           0     0    76  ...         2         0   \n",
       "1             4       0           0     0    72  ...         2         0   \n",
       "2             4       0           0     0    76  ...         2         0   \n",
       "3             4       0           0     0    76  ...         2         0   \n",
       "4             4       0           0     0    77  ...         2         0   \n",
       "\n",
       "   SHA3  DUP12  OR  PUSH25  CREATE2  EXTCODEHASH  REVERT  label  \n",
       "0    49      1  13       0        0            0      47      0  \n",
       "1    48      1  13       0        0            0      47      0  \n",
       "2    48      1  13       0        0            0      47      0  \n",
       "3    48      1  13       0        0            0      48      0  \n",
       "4    48      1  13       0        0            0      47      0  \n",
       "\n",
       "[5 rows x 144 columns]"
      ]
     },
     "execution_count": 46,
     "metadata": {},
     "output_type": "execute_result"
    }
   ],
   "source": [
    "df_opcode = pd.read_csv(os.path.join(DATA_PATH, 'trapdoordata/feature_dataset/AL_opcode_feature_dataset.csv'))\n",
    "df_opcode.head()\n"
   ]
  },
  {
   "cell_type": "markdown",
   "id": "036fba7a",
   "metadata": {},
   "source": [
    "## Show overlap of addresses across datasets"
   ]
  },
  {
   "cell_type": "code",
   "execution_count": 47,
   "id": "150c377d",
   "metadata": {},
   "outputs": [],
   "source": [
    "addr_ground = clean_addresses(ground_df)\n",
    "addr_mint = clean_addresses(mint_df)\n",
    "addr_leak = clean_addresses(leak_df)\n",
    "addr_limit = clean_addresses(limit_df)\n",
    "addr_opcode = clean_addresses(opcode_df)\n",
    "addr_trapdoor = clean_addresses(trapdoor_df)\n"
   ]
  },
  {
   "cell_type": "code",
   "execution_count": 48,
   "id": "e9d2ddcc",
   "metadata": {},
   "outputs": [
    {
     "name": "stdout",
     "output_type": "stream",
     "text": [
      "Total groundTruth: 69\n",
      "Total mint: 92\n",
      "Total leak: 87\n",
      "Total limit: 91\n",
      "Total rphunter: 42172\n",
      "Total trapdoor: 689\n",
      "\n",
      "Overlaps:\n",
      "ground ∩ rphunter: 1\n",
      "mint ∩ rphunter: 1\n",
      "leak ∩ rphunter: 0\n",
      "limit ∩ rphunter: 0\n",
      "trapdoor ∩ rphunter: 76\n",
      "mint ∩ ground: 0\n",
      "leak ∩ ground: 0\n",
      "limit ∩ ground: 0\n",
      "trapdoor ∩ ground: 28\n",
      "leak ∩ mint: 2\n",
      "limit ∩ mint: 2\n",
      "trapdoor ∩ mint: 0\n",
      "limit ∩ leak: 1\n",
      "trapdoor ∩ leak: 0\n"
     ]
    }
   ],
   "source": [
    "print(\"Total groundTruth:\", len(addr_ground))\n",
    "print(\"Total mint:\", len(addr_mint))\n",
    "print(\"Total leak:\", len(addr_leak))\n",
    "print(\"Total limit:\", len(addr_limit))\n",
    "print(\"Total rphunter:\", len(addr_opcode))\n",
    "print(\"Total trapdoor:\", len(addr_trapdoor))\n",
    "\n",
    "print(\"\\nOverlaps:\")\n",
    "print(\"ground ∩ rphunter:\", len(addr_ground & addr_opcode))\n",
    "print(\"mint ∩ rphunter:\", len(addr_mint & addr_opcode))\n",
    "print(\"leak ∩ rphunter:\", len(addr_leak & addr_opcode))\n",
    "print(\"limit ∩ rphunter:\", len(addr_limit & addr_opcode))\n",
    "print(\"trapdoor ∩ rphunter:\", len(addr_trapdoor & addr_opcode))\n",
    "\n",
    "print(\"mint ∩ ground:\", len(addr_mint & addr_ground))\n",
    "print(\"leak ∩ ground:\", len(addr_leak & addr_ground))\n",
    "print(\"limit ∩ ground:\", len(addr_limit & addr_ground))\n",
    "print(\"trapdoor ∩ ground:\", len(addr_trapdoor & addr_ground))\n",
    "\n",
    "print(\"leak ∩ mint:\", len(addr_leak & addr_mint))\n",
    "print(\"limit ∩ mint:\", len(addr_limit & addr_mint))\n",
    "print(\"trapdoor ∩ mint:\", len(addr_trapdoor & addr_mint))\n",
    "\n",
    "print(\"limit ∩ leak:\", len(addr_limit & addr_leak))\n",
    "print(\"trapdoor ∩ leak:\", len(addr_trapdoor & addr_leak))"
   ]
  },
  {
   "cell_type": "code",
   "execution_count": 49,
   "id": "d4803a7b",
   "metadata": {},
   "outputs": [
    {
     "data": {
      "image/png": "[encoded data removed]",
      "text/plain": [
       "<Figure size 640x480 with 1 Axes>"
      ]
     },
     "metadata": {},
     "output_type": "display_data"
    }
   ],
   "source": [
    "venn3([addr_mint, addr_leak, addr_limit], ('Mint', 'Leak', 'Limit'))\n",
    "plt.title(\"Mint / Leak / Limit Address Overlap\")\n",
    "plt.show()"
   ]
  },
  {
   "cell_type": "code",
   "execution_count": null,
   "id": "41b88d39",
   "metadata": {},
   "outputs": [
    {
     "name": "stdout",
     "output_type": "stream",
     "text": [
      "✅ Total unique addresses (no duplicates): 43089\n"
     ]
    }
   ],
   "source": [
    "# All sets (assumed already lowercase & stripped)\n",
    "all_sets = [\n",
    "    addr_ground,\n",
    "    addr_mint,\n",
    "    addr_leak,\n",
    "    addr_limit,\n",
    "    addr_opcode,\n",
    "    addr_trapdoor,\n",
    "]\n",
    "\n",
    "# Combine them using set union\n",
    "all_unique_addresses = set().union(*all_sets)\n",
    "\n",
    "print(f\"Total unique addresses (no duplicates): {len(all_unique_addresses)}\")\n"
   ]
  }
 ],
 "metadata": {
  "kernelspec": {
   "display_name": "ml-algo",
   "language": "python",
   "name": "python3"
  },
  "language_info": {
   "codemirror_mode": {
    "name": "ipython",
    "version": 3
   },
   "file_extension": ".py",
   "mimetype": "text/x-python",
   "name": "python",
   "nbconvert_exporter": "python",
   "pygments_lexer": "ipython3",
   "version": "3.12.7"
  }
 },
 "nbformat": 4,
 "nbformat_minor": 5
}
