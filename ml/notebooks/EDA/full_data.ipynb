{
 "cells": [
  {
   "cell_type": "markdown",
   "id": "1273bb34",
   "metadata": {},
   "source": [
    "# Inspect for Sheets, Bytecode Files, Solidity Files"
   ]
  },
  {
   "cell_type": "code",
   "execution_count": 13,
   "id": "3da5423d",
   "metadata": {},
   "outputs": [],
   "source": [
    "import os\n",
    "from pathlib import Path"
   ]
  },
  {
   "cell_type": "markdown",
   "id": "90e1aa4c",
   "metadata": {},
   "source": [
    "## The total number of Bytecode files for CRPWarner, RPHunter, and Trapdoor"
   ]
  },
  {
   "cell_type": "code",
   "execution_count": 14,
   "id": "1c9a5b7e",
   "metadata": {},
   "outputs": [],
   "source": [
    "PATH = Path.cwd().parents[1]\n",
    "DATA_PATH = os.path.join(PATH, 'data/external')\n",
    "CRP_PATH = os.path.join(DATA_PATH, 'crpwarner')\n",
    "CRP_GROUND_PATH = os.path.join(CRP_PATH, 'groundtruth/hex')\n",
    "CRP_LARGE_PATH = os.path.join(CRP_PATH, 'large/hex')\n",
    "RP_PATH = os.path.join(DATA_PATH, 'rphunter')\n",
    "RP_NOR_PATH = os.path.join(RP_PATH, 'Normal-Bytecode')\n",
    "RP_RUG_PATH = os.path.join(RP_PATH, 'Rug-Bytecode')\n",
    "TRAPDOOE_PATH = os.path.join(DATA_PATH, 'trapdoordata/hex')"
   ]
  },
  {
   "cell_type": "code",
   "execution_count": 15,
   "id": "e52fbb0f",
   "metadata": {},
   "outputs": [
    {
     "data": {
      "text/plain": [
       "(27825, 27768)"
      ]
     },
     "execution_count": 15,
     "metadata": {},
     "output_type": "execute_result"
    }
   ],
   "source": [
    "hex_files = os.listdir(CRP_GROUND_PATH) + os.listdir(CRP_LARGE_PATH) + os.listdir(RP_NOR_PATH) + os.listdir(RP_RUG_PATH) + os.listdir(TRAPDOOE_PATH)\n",
    "# Extract unique addresses from files ending with .hex or .txt\n",
    "address_set = set()\n",
    "for f in hex_files:\n",
    "  if f.endswith('.hex') or f.endswith('.txt'):\n",
    "    address = f.rsplit('.', 1)[0]\n",
    "    address_set.add(address)\n",
    "address_list = list(address_set)\n",
    "\n",
    "len(hex_files), len(address_list)"
   ]
  },
  {
   "cell_type": "code",
   "execution_count": null,
   "id": "81eeb575",
   "metadata": {},
   "outputs": [],
   "source": []
  }
 ],
 "metadata": {
  "kernelspec": {
   "display_name": "ml-algo",
   "language": "python",
   "name": "python3"
  },
  "language_info": {
   "codemirror_mode": {
    "name": "ipython",
    "version": 3
   },
   "file_extension": ".py",
   "mimetype": "text/x-python",
   "name": "python",
   "nbconvert_exporter": "python",
   "pygments_lexer": "ipython3",
   "version": "3.12.7"
  }
 },
 "nbformat": 4,
 "nbformat_minor": 5
}
