{
 "cells": [
  {
   "cell_type": "markdown",
   "id": "d3026105",
   "metadata": {},
   "source": [
    "# Exploratory Data Analysis (EDA)"
   ]
  },
  {
   "cell_type": "markdown",
   "id": "b27e705f",
   "metadata": {},
   "source": [
    "In this notebook, we perform exploratory data analysis to understand:\n",
    "\n",
    "- class distributions\n",
    "- missing values\n",
    "- data quality issues\n",
    "\n",
    "The data is from [rphunter](https://figshare.com/s/e6e7cce0b6574770e7ce)."
   ]
  },
  {
   "cell_type": "markdown",
   "id": "e1176eb6",
   "metadata": {},
   "source": [
    "## Imports & Configuration"
   ]
  },
  {
   "cell_type": "code",
   "execution_count": null,
   "id": "fbbbcd83",
   "metadata": {},
   "outputs": [],
   "source": [
    "import warnings\n",
    "warnings.filterwarnings(\"ignore\")\n",
    "\n",
    "import pandas as pd\n",
    "import matplotlib.pyplot as plt\n",
    "import os\n",
    "import seaborn as sns\n",
    "import requests\n",
    "from dotenv import load_dotenv\n",
    "from pathlib import Path\n",
    "\n",
    "%matplotlib inline\n",
    "sns.set(style=\"whitegrid\")\n"
   ]
  },
  {
   "cell_type": "code",
   "execution_count": null,
   "id": "b97aa02c",
   "metadata": {},
   "outputs": [],
   "source": [
    "PATH = \"../../data/external/rphunter\"\n"
   ]
  },
  {
   "cell_type": "markdown",
   "id": "04c3bc1c",
   "metadata": {},
   "source": [
    "## Load Dataset"
   ]
  },
  {
   "cell_type": "code",
   "execution_count": null,
   "id": "4d229c08",
   "metadata": {},
   "outputs": [],
   "source": [
    "total_df = pd.read_excel(os.path.join(PATH, \"Rug-Pull-Incidents.xlsx\"), engine='openpyxl', sheet_name=\"Total\")\n",
    "experiment_df = pd.read_excel(os.path.join(PATH, \"Rug-Pull-Incidents.xlsx\"), engine='openpyxl', sheet_name=\"Experiment\")\n",
    "normal_list = os.listdir(os.path.join(PATH, \"Normal-Bytecode\"))\n",
    "rug_list = os.listdir(os.path.join(PATH, \"Rug-Bytecode\"))"
   ]
  }
 ],
 "metadata": {
  "kernelspec": {
   "display_name": "ml-algo",
   "language": "python",
   "name": "python3"
  },
  "language_info": {
   "codemirror_mode": {
    "name": "ipython",
    "version": 3
   },
   "file_extension": ".py",
   "mimetype": "text/x-python",
   "name": "python",
   "nbconvert_exporter": "python",
   "pygments_lexer": "ipython3",
   "version": "3.12.7"
  }
 },
 "nbformat": 4,
 "nbformat_minor": 5
}
