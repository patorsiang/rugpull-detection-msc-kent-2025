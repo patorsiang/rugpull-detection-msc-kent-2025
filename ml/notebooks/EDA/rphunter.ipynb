{
 "cells": [
  {
   "cell_type": "markdown",
   "id": "d3026105",
   "metadata": {},
   "source": [
    "# Exploratory Data Analysis (EDA)"
   ]
  },
  {
   "cell_type": "markdown",
   "id": "b27e705f",
   "metadata": {},
   "source": [
    "In this notebook, we perform exploratory data analysis to understand:\n",
    "\n",
    "- class distributions\n",
    "- missing values\n",
    "- data quality issues\n",
    "\n",
    "The data is from [rphunter](https://figshare.com/s/e6e7cce0b6574770e7ce)."
   ]
  },
  {
   "cell_type": "markdown",
   "id": "e1176eb6",
   "metadata": {},
   "source": [
    "## Imports & Configuration"
   ]
  },
  {
   "cell_type": "code",
   "execution_count": null,
   "id": "fbbbcd83",
   "metadata": {},
   "outputs": [],
   "source": [
    "\n",
    "import warnings\n",
    "warnings.filterwarnings(\"ignore\")\n",
    "\n",
    "import pandas as pd\n",
    "import os\n",
    "import seaborn as sns\n",
    "import re\n",
    "from sklearn.preprocessing import MultiLabelBinarizer\n",
    "from pathlib import Path\n",
    "import subprocess\n",
    "\n",
    "%matplotlib inline\n",
    "sns.set(style=\"whitegrid\")\n"
   ]
  },
  {
   "cell_type": "code",
   "execution_count": 76,
   "id": "b97aa02c",
   "metadata": {},
   "outputs": [],
   "source": [
    "PATH = \"../../data/external/rphunter\"\n"
   ]
  },
  {
   "cell_type": "markdown",
   "id": "04c3bc1c",
   "metadata": {},
   "source": [
    "## Load Dataset"
   ]
  },
  {
   "cell_type": "code",
   "execution_count": 77,
   "id": "4d229c08",
   "metadata": {},
   "outputs": [],
   "source": [
    "total_df = pd.read_excel(os.path.join(PATH, \"Rug-Pull-Incidents.xlsx\"), engine='openpyxl', sheet_name=\"Total\")\n",
    "experiment_df = pd.read_excel(os.path.join(PATH, \"Rug-Pull-Incidents.xlsx\"), engine='openpyxl', sheet_name=\"Experiment\")\n",
    "normal_list = os.listdir(os.path.join(PATH, \"Normal-Bytecode\"))\n",
    "rug_list = os.listdir(os.path.join(PATH, \"Rug-Bytecode\"))"
   ]
  },
  {
   "cell_type": "markdown",
   "id": "cf0cb6b2",
   "metadata": {},
   "source": [
    "## Initial Data Check"
   ]
  },
  {
   "cell_type": "code",
   "execution_count": 78,
   "id": "619f6bd3",
   "metadata": {},
   "outputs": [
    {
     "name": "stdout",
     "output_type": "stream",
     "text": [
      "total_df shape: (1047, 8) | experiment_df shape: (645, 8)\n",
      "Number of normal bytecode files: 1675 | Number of rug bytecode files: 645\n"
     ]
    }
   ],
   "source": [
    "print(f\"total_df shape: {total_df.shape} | experiment_df shape: {experiment_df.shape}\")\n",
    "print(f\"Number of normal bytecode files: {len(normal_list)} | Number of rug bytecode files: {len(rug_list)}\")"
   ]
  },
  {
   "cell_type": "code",
   "execution_count": 79,
   "id": "0c201fa3",
   "metadata": {},
   "outputs": [
    {
     "name": "stdout",
     "output_type": "stream",
     "text": [
      "<class 'pandas.core.frame.DataFrame'>\n",
      "RangeIndex: 1047 entries, 0 to 1046\n",
      "Data columns (total 8 columns):\n",
      " #   Column                 Non-Null Count  Dtype \n",
      "---  ------                 --------------  ----- \n",
      " 0   Project Name           1047 non-null   object\n",
      " 1   Chain                  1046 non-null   object\n",
      " 2   Address                1035 non-null   object\n",
      " 3   Open Source            1047 non-null   object\n",
      " 4   Sale Restrict          291 non-null    object\n",
      " 5   Variable Manipulation  160 non-null    object\n",
      " 6   Balance Tamper         436 non-null    object\n",
      " 7   Source                 1046 non-null   object\n",
      "dtypes: object(8)\n",
      "memory usage: 65.6+ KB\n"
     ]
    }
   ],
   "source": [
    "total_df.info()"
   ]
  },
  {
   "cell_type": "code",
   "execution_count": 80,
   "id": "7663241a",
   "metadata": {},
   "outputs": [
    {
     "name": "stdout",
     "output_type": "stream",
     "text": [
      "<class 'pandas.core.frame.DataFrame'>\n",
      "RangeIndex: 645 entries, 0 to 644\n",
      "Data columns (total 8 columns):\n",
      " #   Column                 Non-Null Count  Dtype \n",
      "---  ------                 --------------  ----- \n",
      " 0   Project Name           645 non-null    object\n",
      " 1   Chain                  645 non-null    object\n",
      " 2   Address                645 non-null    object\n",
      " 3   Open Source            645 non-null    object\n",
      " 4   Sale Restrict          204 non-null    object\n",
      " 5   Variable Manipulation  145 non-null    object\n",
      " 6   Balance Tamper         190 non-null    object\n",
      " 7   Source                 644 non-null    object\n",
      "dtypes: object(8)\n",
      "memory usage: 40.4+ KB\n"
     ]
    }
   ],
   "source": [
    "experiment_df.info()"
   ]
  },
  {
   "cell_type": "code",
   "execution_count": 81,
   "id": "78b9b993",
   "metadata": {},
   "outputs": [
    {
     "data": {
      "application/vnd.microsoft.datawrangler.viewer.v0+json": {
       "columns": [
        {
         "name": "index",
         "rawType": "int64",
         "type": "integer"
        },
        {
         "name": "Project Name",
         "rawType": "object",
         "type": "string"
        },
        {
         "name": "Chain",
         "rawType": "object",
         "type": "string"
        },
        {
         "name": "Address",
         "rawType": "object",
         "type": "string"
        },
        {
         "name": "Open Source",
         "rawType": "object",
         "type": "string"
        },
        {
         "name": "Sale Restrict",
         "rawType": "object",
         "type": "unknown"
        },
        {
         "name": "Variable Manipulation",
         "rawType": "object",
         "type": "unknown"
        },
        {
         "name": "Balance Tamper",
         "rawType": "object",
         "type": "unknown"
        },
        {
         "name": "Source",
         "rawType": "object",
         "type": "string"
        }
       ],
       "ref": "e43b9c0c-8094-4a45-9f7e-68ec6de3b5e0",
       "rows": [
        [
         "0",
         "GMETA",
         "BSC",
         "0X93023F1D3525E273F291B6F76D2F5027A39BF302",
         "Yes",
         null,
         "Modifiable Tax Rate",
         "Hidden Mint/Burn",
         "https://twitter.com/BeosinAlert/status/1681240663868973056"
        ],
        [
         "1",
         "PokémonFi",
         "BSC",
         "0X2753DCE37A7EDB052A77832039BCC9AA49AD8B25",
         "Yes",
         "Address Restrict",
         null,
         null,
         "https://twitter.com/CertiKAlert/status/1562555089306685440"
        ],
        [
         "2",
         "PokémonFi",
         "BSC",
         "0X0AA5CAE4D1C9230543542E998E04EA795EEDF738",
         "Yes",
         "Address Restrict",
         null,
         null,
         "https://twitter.com/CertiKAlert/status/1562555089306685440"
        ],
        [
         "3",
         "Sudorare",
         "ETH",
         "0X5404EFAFDD8CC30053069DF2A1B0C4BA881B3E1E",
         "Yes",
         null,
         null,
         "Hidden Mint/Burn",
         "https://x.com/PeckShieldAlert/status/1561967493912363008"
        ],
        [
         "4",
         "DRAC Network",
         "ETH",
         "0X10F6F2B97F3AB29583D9D38BABF2994DF7220C21",
         "Yes",
         null,
         "Modifiable Tax Rate",
         "Hidden Mint/Burn",
         "https://twitter.com/PeckShieldAlert/status/1551409593397350401"
        ]
       ],
       "shape": {
        "columns": 8,
        "rows": 5
       }
      },
      "text/html": [
       "<div>\n",
       "<style scoped>\n",
       "    .dataframe tbody tr th:only-of-type {\n",
       "        vertical-align: middle;\n",
       "    }\n",
       "\n",
       "    .dataframe tbody tr th {\n",
       "        vertical-align: top;\n",
       "    }\n",
       "\n",
       "    .dataframe thead th {\n",
       "        text-align: right;\n",
       "    }\n",
       "</style>\n",
       "<table border=\"1\" class=\"dataframe\">\n",
       "  <thead>\n",
       "    <tr style=\"text-align: right;\">\n",
       "      <th></th>\n",
       "      <th>Project Name</th>\n",
       "      <th>Chain</th>\n",
       "      <th>Address</th>\n",
       "      <th>Open Source</th>\n",
       "      <th>Sale Restrict</th>\n",
       "      <th>Variable Manipulation</th>\n",
       "      <th>Balance Tamper</th>\n",
       "      <th>Source</th>\n",
       "    </tr>\n",
       "  </thead>\n",
       "  <tbody>\n",
       "    <tr>\n",
       "      <th>0</th>\n",
       "      <td>GMETA</td>\n",
       "      <td>BSC</td>\n",
       "      <td>0X93023F1D3525E273F291B6F76D2F5027A39BF302</td>\n",
       "      <td>Yes</td>\n",
       "      <td>NaN</td>\n",
       "      <td>Modifiable Tax Rate</td>\n",
       "      <td>Hidden Mint/Burn</td>\n",
       "      <td>https://twitter.com/BeosinAlert/status/1681240...</td>\n",
       "    </tr>\n",
       "    <tr>\n",
       "      <th>1</th>\n",
       "      <td>PokémonFi</td>\n",
       "      <td>BSC</td>\n",
       "      <td>0X2753DCE37A7EDB052A77832039BCC9AA49AD8B25</td>\n",
       "      <td>Yes</td>\n",
       "      <td>Address Restrict</td>\n",
       "      <td>NaN</td>\n",
       "      <td>NaN</td>\n",
       "      <td>https://twitter.com/CertiKAlert/status/1562555...</td>\n",
       "    </tr>\n",
       "    <tr>\n",
       "      <th>2</th>\n",
       "      <td>PokémonFi</td>\n",
       "      <td>BSC</td>\n",
       "      <td>0X0AA5CAE4D1C9230543542E998E04EA795EEDF738</td>\n",
       "      <td>Yes</td>\n",
       "      <td>Address Restrict</td>\n",
       "      <td>NaN</td>\n",
       "      <td>NaN</td>\n",
       "      <td>https://twitter.com/CertiKAlert/status/1562555...</td>\n",
       "    </tr>\n",
       "    <tr>\n",
       "      <th>3</th>\n",
       "      <td>Sudorare</td>\n",
       "      <td>ETH</td>\n",
       "      <td>0X5404EFAFDD8CC30053069DF2A1B0C4BA881B3E1E</td>\n",
       "      <td>Yes</td>\n",
       "      <td>NaN</td>\n",
       "      <td>NaN</td>\n",
       "      <td>Hidden Mint/Burn</td>\n",
       "      <td>https://x.com/PeckShieldAlert/status/156196749...</td>\n",
       "    </tr>\n",
       "    <tr>\n",
       "      <th>4</th>\n",
       "      <td>DRAC Network</td>\n",
       "      <td>ETH</td>\n",
       "      <td>0X10F6F2B97F3AB29583D9D38BABF2994DF7220C21</td>\n",
       "      <td>Yes</td>\n",
       "      <td>NaN</td>\n",
       "      <td>Modifiable Tax Rate</td>\n",
       "      <td>Hidden Mint/Burn</td>\n",
       "      <td>https://twitter.com/PeckShieldAlert/status/155...</td>\n",
       "    </tr>\n",
       "  </tbody>\n",
       "</table>\n",
       "</div>"
      ],
      "text/plain": [
       "   Project Name Chain                                     Address Open Source  \\\n",
       "0         GMETA   BSC  0X93023F1D3525E273F291B6F76D2F5027A39BF302         Yes   \n",
       "1     PokémonFi   BSC  0X2753DCE37A7EDB052A77832039BCC9AA49AD8B25         Yes   \n",
       "2     PokémonFi   BSC  0X0AA5CAE4D1C9230543542E998E04EA795EEDF738         Yes   \n",
       "3      Sudorare   ETH  0X5404EFAFDD8CC30053069DF2A1B0C4BA881B3E1E         Yes   \n",
       "4  DRAC Network   ETH  0X10F6F2B97F3AB29583D9D38BABF2994DF7220C21         Yes   \n",
       "\n",
       "      Sale Restrict Variable Manipulation    Balance Tamper  \\\n",
       "0               NaN   Modifiable Tax Rate  Hidden Mint/Burn   \n",
       "1  Address Restrict                   NaN               NaN   \n",
       "2  Address Restrict                   NaN               NaN   \n",
       "3               NaN                   NaN  Hidden Mint/Burn   \n",
       "4               NaN   Modifiable Tax Rate  Hidden Mint/Burn   \n",
       "\n",
       "                                              Source  \n",
       "0  https://twitter.com/BeosinAlert/status/1681240...  \n",
       "1  https://twitter.com/CertiKAlert/status/1562555...  \n",
       "2  https://twitter.com/CertiKAlert/status/1562555...  \n",
       "3  https://x.com/PeckShieldAlert/status/156196749...  \n",
       "4  https://twitter.com/PeckShieldAlert/status/155...  "
      ]
     },
     "execution_count": 81,
     "metadata": {},
     "output_type": "execute_result"
    }
   ],
   "source": [
    "total_df.head()"
   ]
  },
  {
   "cell_type": "code",
   "execution_count": 82,
   "id": "067c71dc",
   "metadata": {},
   "outputs": [
    {
     "data": {
      "application/vnd.microsoft.datawrangler.viewer.v0+json": {
       "columns": [
        {
         "name": "index",
         "rawType": "int64",
         "type": "integer"
        },
        {
         "name": "Project Name",
         "rawType": "object",
         "type": "string"
        },
        {
         "name": "Chain",
         "rawType": "object",
         "type": "string"
        },
        {
         "name": "Address",
         "rawType": "object",
         "type": "string"
        },
        {
         "name": "Open Source",
         "rawType": "object",
         "type": "string"
        },
        {
         "name": "Sale Restrict",
         "rawType": "object",
         "type": "unknown"
        },
        {
         "name": "Variable Manipulation",
         "rawType": "object",
         "type": "unknown"
        },
        {
         "name": "Balance Tamper",
         "rawType": "object",
         "type": "unknown"
        },
        {
         "name": "Source",
         "rawType": "object",
         "type": "string"
        }
       ],
       "ref": "99b27a41-2039-4b9a-9a1c-b29c04d2ac96",
       "rows": [
        [
         "0",
         "GMETA",
         "BSC",
         "0X93023F1D3525E273F291B6F76D2F5027A39BF302",
         "Yes",
         null,
         "Modifiable Tax Rate",
         "Hidden Mint/Burn",
         "https://twitter.com/BeosinAlert/status/1681240663868973056"
        ],
        [
         "1",
         "Sudorare",
         "ETH",
         "0X5404EFAFDD8CC30053069DF2A1B0C4BA881B3E1E",
         "Yes",
         null,
         null,
         "Hidden Mint/Burn",
         "https://x.com/PeckShieldAlert/status/1561967493912363008"
        ],
        [
         "2",
         "DRAC Network",
         "ETH",
         "0X10F6F2B97F3AB29583D9D38BABF2994DF7220C21",
         "Yes",
         null,
         "Modifiable Tax Rate",
         "Hidden Mint/Burn",
         "https://twitter.com/PeckShieldAlert/status/1551409593397350401"
        ],
        [
         "3",
         "DHE",
         "BSC",
         "0X11CBC781DADAAD13FC3A361772C80B1C027820AF",
         "Yes",
         "Address Restrict",
         null,
         null,
         "https://twitter.com/CertiKAlert/status/1539031511114063873"
        ],
        [
         "4",
         "ElonMVP",
         "BSC",
         "0X3E597EA168A85AA2AE5E2C4333665BCD875ED10F",
         "Yes",
         "Address Restrict",
         null,
         null,
         "https://twitter.com/PeckShieldAlert/status/1536223027717111808"
        ]
       ],
       "shape": {
        "columns": 8,
        "rows": 5
       }
      },
      "text/html": [
       "<div>\n",
       "<style scoped>\n",
       "    .dataframe tbody tr th:only-of-type {\n",
       "        vertical-align: middle;\n",
       "    }\n",
       "\n",
       "    .dataframe tbody tr th {\n",
       "        vertical-align: top;\n",
       "    }\n",
       "\n",
       "    .dataframe thead th {\n",
       "        text-align: right;\n",
       "    }\n",
       "</style>\n",
       "<table border=\"1\" class=\"dataframe\">\n",
       "  <thead>\n",
       "    <tr style=\"text-align: right;\">\n",
       "      <th></th>\n",
       "      <th>Project Name</th>\n",
       "      <th>Chain</th>\n",
       "      <th>Address</th>\n",
       "      <th>Open Source</th>\n",
       "      <th>Sale Restrict</th>\n",
       "      <th>Variable Manipulation</th>\n",
       "      <th>Balance Tamper</th>\n",
       "      <th>Source</th>\n",
       "    </tr>\n",
       "  </thead>\n",
       "  <tbody>\n",
       "    <tr>\n",
       "      <th>0</th>\n",
       "      <td>GMETA</td>\n",
       "      <td>BSC</td>\n",
       "      <td>0X93023F1D3525E273F291B6F76D2F5027A39BF302</td>\n",
       "      <td>Yes</td>\n",
       "      <td>NaN</td>\n",
       "      <td>Modifiable Tax Rate</td>\n",
       "      <td>Hidden Mint/Burn</td>\n",
       "      <td>https://twitter.com/BeosinAlert/status/1681240...</td>\n",
       "    </tr>\n",
       "    <tr>\n",
       "      <th>1</th>\n",
       "      <td>Sudorare</td>\n",
       "      <td>ETH</td>\n",
       "      <td>0X5404EFAFDD8CC30053069DF2A1B0C4BA881B3E1E</td>\n",
       "      <td>Yes</td>\n",
       "      <td>NaN</td>\n",
       "      <td>NaN</td>\n",
       "      <td>Hidden Mint/Burn</td>\n",
       "      <td>https://x.com/PeckShieldAlert/status/156196749...</td>\n",
       "    </tr>\n",
       "    <tr>\n",
       "      <th>2</th>\n",
       "      <td>DRAC Network</td>\n",
       "      <td>ETH</td>\n",
       "      <td>0X10F6F2B97F3AB29583D9D38BABF2994DF7220C21</td>\n",
       "      <td>Yes</td>\n",
       "      <td>NaN</td>\n",
       "      <td>Modifiable Tax Rate</td>\n",
       "      <td>Hidden Mint/Burn</td>\n",
       "      <td>https://twitter.com/PeckShieldAlert/status/155...</td>\n",
       "    </tr>\n",
       "    <tr>\n",
       "      <th>3</th>\n",
       "      <td>DHE</td>\n",
       "      <td>BSC</td>\n",
       "      <td>0X11CBC781DADAAD13FC3A361772C80B1C027820AF</td>\n",
       "      <td>Yes</td>\n",
       "      <td>Address Restrict</td>\n",
       "      <td>NaN</td>\n",
       "      <td>NaN</td>\n",
       "      <td>https://twitter.com/CertiKAlert/status/1539031...</td>\n",
       "    </tr>\n",
       "    <tr>\n",
       "      <th>4</th>\n",
       "      <td>ElonMVP</td>\n",
       "      <td>BSC</td>\n",
       "      <td>0X3E597EA168A85AA2AE5E2C4333665BCD875ED10F</td>\n",
       "      <td>Yes</td>\n",
       "      <td>Address Restrict</td>\n",
       "      <td>NaN</td>\n",
       "      <td>NaN</td>\n",
       "      <td>https://twitter.com/PeckShieldAlert/status/153...</td>\n",
       "    </tr>\n",
       "  </tbody>\n",
       "</table>\n",
       "</div>"
      ],
      "text/plain": [
       "   Project Name Chain                                     Address Open Source  \\\n",
       "0         GMETA   BSC  0X93023F1D3525E273F291B6F76D2F5027A39BF302         Yes   \n",
       "1      Sudorare   ETH  0X5404EFAFDD8CC30053069DF2A1B0C4BA881B3E1E         Yes   \n",
       "2  DRAC Network   ETH  0X10F6F2B97F3AB29583D9D38BABF2994DF7220C21         Yes   \n",
       "3           DHE   BSC  0X11CBC781DADAAD13FC3A361772C80B1C027820AF         Yes   \n",
       "4       ElonMVP   BSC  0X3E597EA168A85AA2AE5E2C4333665BCD875ED10F         Yes   \n",
       "\n",
       "      Sale Restrict Variable Manipulation    Balance Tamper  \\\n",
       "0               NaN   Modifiable Tax Rate  Hidden Mint/Burn   \n",
       "1               NaN                   NaN  Hidden Mint/Burn   \n",
       "2               NaN   Modifiable Tax Rate  Hidden Mint/Burn   \n",
       "3  Address Restrict                   NaN               NaN   \n",
       "4  Address Restrict                   NaN               NaN   \n",
       "\n",
       "                                              Source  \n",
       "0  https://twitter.com/BeosinAlert/status/1681240...  \n",
       "1  https://x.com/PeckShieldAlert/status/156196749...  \n",
       "2  https://twitter.com/PeckShieldAlert/status/155...  \n",
       "3  https://twitter.com/CertiKAlert/status/1539031...  \n",
       "4  https://twitter.com/PeckShieldAlert/status/153...  "
      ]
     },
     "execution_count": 82,
     "metadata": {},
     "output_type": "execute_result"
    }
   ],
   "source": [
    "experiment_df.head()"
   ]
  },
  {
   "cell_type": "code",
   "execution_count": 83,
   "id": "692246c9",
   "metadata": {},
   "outputs": [
    {
     "data": {
      "application/vnd.microsoft.datawrangler.viewer.v0+json": {
       "columns": [
        {
         "name": "index",
         "rawType": "object",
         "type": "string"
        },
        {
         "name": "Project Name",
         "rawType": "object",
         "type": "unknown"
        },
        {
         "name": "Chain",
         "rawType": "object",
         "type": "unknown"
        },
        {
         "name": "Address",
         "rawType": "object",
         "type": "unknown"
        },
        {
         "name": "Open Source",
         "rawType": "object",
         "type": "unknown"
        },
        {
         "name": "Sale Restrict",
         "rawType": "object",
         "type": "unknown"
        },
        {
         "name": "Variable Manipulation",
         "rawType": "object",
         "type": "unknown"
        },
        {
         "name": "Balance Tamper",
         "rawType": "object",
         "type": "unknown"
        },
        {
         "name": "Source",
         "rawType": "object",
         "type": "unknown"
        }
       ],
       "ref": "3da12eb4-839e-477e-a01f-1abcec1e25a5",
       "rows": [
        [
         "count",
         "1047",
         "1046",
         "1035",
         "1047",
         "291",
         "160",
         "436",
         "1046"
        ],
        [
         "unique",
         "1029",
         "15",
         "1035",
         "2",
         "15",
         "10",
         "9",
         "1025"
        ],
        [
         "top",
         "IDO rug pulls",
         "BSC",
         "0xD2fC424fF0196c3Fb2b3D2A3b29dDEe94e025aee",
         "Yes",
         "Address Restrict",
         "Modifiable Tax Rate",
         "Hidden Mint/Burn",
         "https://hacked.slowmist.io/search/"
        ],
        [
         "freq",
         "5",
         "522",
         "1",
         "916",
         "140",
         "80",
         "334",
         "6"
        ]
       ],
       "shape": {
        "columns": 8,
        "rows": 4
       }
      },
      "text/html": [
       "<div>\n",
       "<style scoped>\n",
       "    .dataframe tbody tr th:only-of-type {\n",
       "        vertical-align: middle;\n",
       "    }\n",
       "\n",
       "    .dataframe tbody tr th {\n",
       "        vertical-align: top;\n",
       "    }\n",
       "\n",
       "    .dataframe thead th {\n",
       "        text-align: right;\n",
       "    }\n",
       "</style>\n",
       "<table border=\"1\" class=\"dataframe\">\n",
       "  <thead>\n",
       "    <tr style=\"text-align: right;\">\n",
       "      <th></th>\n",
       "      <th>Project Name</th>\n",
       "      <th>Chain</th>\n",
       "      <th>Address</th>\n",
       "      <th>Open Source</th>\n",
       "      <th>Sale Restrict</th>\n",
       "      <th>Variable Manipulation</th>\n",
       "      <th>Balance Tamper</th>\n",
       "      <th>Source</th>\n",
       "    </tr>\n",
       "  </thead>\n",
       "  <tbody>\n",
       "    <tr>\n",
       "      <th>count</th>\n",
       "      <td>1047</td>\n",
       "      <td>1046</td>\n",
       "      <td>1035</td>\n",
       "      <td>1047</td>\n",
       "      <td>291</td>\n",
       "      <td>160</td>\n",
       "      <td>436</td>\n",
       "      <td>1046</td>\n",
       "    </tr>\n",
       "    <tr>\n",
       "      <th>unique</th>\n",
       "      <td>1029</td>\n",
       "      <td>15</td>\n",
       "      <td>1035</td>\n",
       "      <td>2</td>\n",
       "      <td>15</td>\n",
       "      <td>10</td>\n",
       "      <td>9</td>\n",
       "      <td>1025</td>\n",
       "    </tr>\n",
       "    <tr>\n",
       "      <th>top</th>\n",
       "      <td>IDO rug pulls</td>\n",
       "      <td>BSC</td>\n",
       "      <td>0xD2fC424fF0196c3Fb2b3D2A3b29dDEe94e025aee</td>\n",
       "      <td>Yes</td>\n",
       "      <td>Address Restrict</td>\n",
       "      <td>Modifiable Tax Rate</td>\n",
       "      <td>Hidden Mint/Burn</td>\n",
       "      <td>https://hacked.slowmist.io/search/</td>\n",
       "    </tr>\n",
       "    <tr>\n",
       "      <th>freq</th>\n",
       "      <td>5</td>\n",
       "      <td>522</td>\n",
       "      <td>1</td>\n",
       "      <td>916</td>\n",
       "      <td>140</td>\n",
       "      <td>80</td>\n",
       "      <td>334</td>\n",
       "      <td>6</td>\n",
       "    </tr>\n",
       "  </tbody>\n",
       "</table>\n",
       "</div>"
      ],
      "text/plain": [
       "         Project Name Chain                                     Address  \\\n",
       "count            1047  1046                                        1035   \n",
       "unique           1029    15                                        1035   \n",
       "top     IDO rug pulls   BSC  0xD2fC424fF0196c3Fb2b3D2A3b29dDEe94e025aee   \n",
       "freq                5   522                                           1   \n",
       "\n",
       "       Open Source     Sale Restrict Variable Manipulation    Balance Tamper  \\\n",
       "count         1047               291                   160               436   \n",
       "unique           2                15                    10                 9   \n",
       "top            Yes  Address Restrict   Modifiable Tax Rate  Hidden Mint/Burn   \n",
       "freq           916               140                    80               334   \n",
       "\n",
       "                                    Source  \n",
       "count                                 1046  \n",
       "unique                                1025  \n",
       "top     https://hacked.slowmist.io/search/  \n",
       "freq                                     6  "
      ]
     },
     "execution_count": 83,
     "metadata": {},
     "output_type": "execute_result"
    }
   ],
   "source": [
    "total_df.describe()"
   ]
  },
  {
   "cell_type": "code",
   "execution_count": 84,
   "id": "90725e54",
   "metadata": {},
   "outputs": [
    {
     "data": {
      "application/vnd.microsoft.datawrangler.viewer.v0+json": {
       "columns": [
        {
         "name": "index",
         "rawType": "object",
         "type": "string"
        },
        {
         "name": "Project Name",
         "rawType": "object",
         "type": "unknown"
        },
        {
         "name": "Chain",
         "rawType": "object",
         "type": "unknown"
        },
        {
         "name": "Address",
         "rawType": "object",
         "type": "unknown"
        },
        {
         "name": "Open Source",
         "rawType": "object",
         "type": "unknown"
        },
        {
         "name": "Sale Restrict",
         "rawType": "object",
         "type": "unknown"
        },
        {
         "name": "Variable Manipulation",
         "rawType": "object",
         "type": "unknown"
        },
        {
         "name": "Balance Tamper",
         "rawType": "object",
         "type": "unknown"
        },
        {
         "name": "Source",
         "rawType": "object",
         "type": "unknown"
        }
       ],
       "ref": "f740cfd9-e272-45ec-a343-feb81948e16c",
       "rows": [
        [
         "count",
         "645",
         "645",
         "645",
         "645",
         "204",
         "145",
         "190",
         "644"
        ],
        [
         "unique",
         "638",
         "7",
         "645",
         "2",
         "14",
         "10",
         "7",
         "631"
        ],
        [
         "top",
         "Apache NFT SalesRoom",
         "BSC",
         "0xabe776435f7459e2f5ba773bfb753ed19a053dd0",
         "Yes",
         "Address Restrict",
         "Modifiable Tax Rate",
         "Hidden Mint/Burn",
         "https://hacked.slowmist.io/search/"
        ],
        [
         "freq",
         "2",
         "324",
         "1",
         "643",
         "92",
         "69",
         "132",
         "6"
        ]
       ],
       "shape": {
        "columns": 8,
        "rows": 4
       }
      },
      "text/html": [
       "<div>\n",
       "<style scoped>\n",
       "    .dataframe tbody tr th:only-of-type {\n",
       "        vertical-align: middle;\n",
       "    }\n",
       "\n",
       "    .dataframe tbody tr th {\n",
       "        vertical-align: top;\n",
       "    }\n",
       "\n",
       "    .dataframe thead th {\n",
       "        text-align: right;\n",
       "    }\n",
       "</style>\n",
       "<table border=\"1\" class=\"dataframe\">\n",
       "  <thead>\n",
       "    <tr style=\"text-align: right;\">\n",
       "      <th></th>\n",
       "      <th>Project Name</th>\n",
       "      <th>Chain</th>\n",
       "      <th>Address</th>\n",
       "      <th>Open Source</th>\n",
       "      <th>Sale Restrict</th>\n",
       "      <th>Variable Manipulation</th>\n",
       "      <th>Balance Tamper</th>\n",
       "      <th>Source</th>\n",
       "    </tr>\n",
       "  </thead>\n",
       "  <tbody>\n",
       "    <tr>\n",
       "      <th>count</th>\n",
       "      <td>645</td>\n",
       "      <td>645</td>\n",
       "      <td>645</td>\n",
       "      <td>645</td>\n",
       "      <td>204</td>\n",
       "      <td>145</td>\n",
       "      <td>190</td>\n",
       "      <td>644</td>\n",
       "    </tr>\n",
       "    <tr>\n",
       "      <th>unique</th>\n",
       "      <td>638</td>\n",
       "      <td>7</td>\n",
       "      <td>645</td>\n",
       "      <td>2</td>\n",
       "      <td>14</td>\n",
       "      <td>10</td>\n",
       "      <td>7</td>\n",
       "      <td>631</td>\n",
       "    </tr>\n",
       "    <tr>\n",
       "      <th>top</th>\n",
       "      <td>Apache NFT SalesRoom</td>\n",
       "      <td>BSC</td>\n",
       "      <td>0xabe776435f7459e2f5ba773bfb753ed19a053dd0</td>\n",
       "      <td>Yes</td>\n",
       "      <td>Address Restrict</td>\n",
       "      <td>Modifiable Tax Rate</td>\n",
       "      <td>Hidden Mint/Burn</td>\n",
       "      <td>https://hacked.slowmist.io/search/</td>\n",
       "    </tr>\n",
       "    <tr>\n",
       "      <th>freq</th>\n",
       "      <td>2</td>\n",
       "      <td>324</td>\n",
       "      <td>1</td>\n",
       "      <td>643</td>\n",
       "      <td>92</td>\n",
       "      <td>69</td>\n",
       "      <td>132</td>\n",
       "      <td>6</td>\n",
       "    </tr>\n",
       "  </tbody>\n",
       "</table>\n",
       "</div>"
      ],
      "text/plain": [
       "                Project Name Chain  \\\n",
       "count                    645   645   \n",
       "unique                   638     7   \n",
       "top     Apache NFT SalesRoom   BSC   \n",
       "freq                       2   324   \n",
       "\n",
       "                                           Address Open Source  \\\n",
       "count                                          645         645   \n",
       "unique                                         645           2   \n",
       "top     0xabe776435f7459e2f5ba773bfb753ed19a053dd0         Yes   \n",
       "freq                                             1         643   \n",
       "\n",
       "           Sale Restrict Variable Manipulation    Balance Tamper  \\\n",
       "count                204                   145               190   \n",
       "unique                14                    10                 7   \n",
       "top     Address Restrict   Modifiable Tax Rate  Hidden Mint/Burn   \n",
       "freq                  92                    69               132   \n",
       "\n",
       "                                    Source  \n",
       "count                                  644  \n",
       "unique                                 631  \n",
       "top     https://hacked.slowmist.io/search/  \n",
       "freq                                     6  "
      ]
     },
     "execution_count": 84,
     "metadata": {},
     "output_type": "execute_result"
    }
   ],
   "source": [
    "experiment_df.describe()"
   ]
  },
  {
   "cell_type": "markdown",
   "id": "a37900cd",
   "metadata": {},
   "source": [
    "## Labels Distribution"
   ]
  },
  {
   "cell_type": "markdown",
   "id": "c223630c",
   "metadata": {},
   "source": [
    "### Chain"
   ]
  },
  {
   "cell_type": "code",
   "execution_count": 85,
   "id": "ddb79fb6",
   "metadata": {},
   "outputs": [
    {
     "data": {
      "application/vnd.microsoft.datawrangler.viewer.v0+json": {
       "columns": [
        {
         "name": "Chain",
         "rawType": "object",
         "type": "string"
        },
        {
         "name": "count",
         "rawType": "int64",
         "type": "integer"
        }
       ],
       "ref": "e7b69706-e9b1-4c9b-a28a-8ed1344c0c46",
       "rows": [
        [
         "BSC",
         "522"
        ],
        [
         "ETH",
         "400"
        ],
        [
         "Polygon",
         "84"
        ],
        [
         "Arbitrum",
         "11"
        ],
        [
         "Fantom",
         "11"
        ],
        [
         "Avax",
         "4"
        ],
        [
         "BASE",
         "2"
        ],
        [
         "Cronos",
         "2"
        ],
        [
         "Heco",
         "2"
        ],
        [
         "AVAX",
         "2"
        ],
        [
         "KuCoin",
         "2"
        ],
        [
         "Cchain",
         "1"
        ],
        [
         "OP.ETH",
         "1"
        ],
        [
         "SnowTrace",
         "1"
        ],
        [
         "Blast",
         "1"
        ]
       ],
       "shape": {
        "columns": 1,
        "rows": 15
       }
      },
      "text/plain": [
       "Chain\n",
       "BSC          522\n",
       "ETH          400\n",
       "Polygon       84\n",
       "Arbitrum      11\n",
       "Fantom        11\n",
       "Avax           4\n",
       "BASE           2\n",
       "Cronos         2\n",
       "Heco           2\n",
       "AVAX           2\n",
       "KuCoin         2\n",
       "Cchain         1\n",
       "OP.ETH         1\n",
       "SnowTrace      1\n",
       "Blast          1\n",
       "Name: count, dtype: int64"
      ]
     },
     "execution_count": 85,
     "metadata": {},
     "output_type": "execute_result"
    }
   ],
   "source": [
    "total_df['Chain'].value_counts()"
   ]
  },
  {
   "cell_type": "code",
   "execution_count": 86,
   "id": "9330e411",
   "metadata": {},
   "outputs": [
    {
     "data": {
      "application/vnd.microsoft.datawrangler.viewer.v0+json": {
       "columns": [
        {
         "name": "Chain",
         "rawType": "object",
         "type": "string"
        },
        {
         "name": "count",
         "rawType": "int64",
         "type": "integer"
        }
       ],
       "ref": "e8388604-256d-42f5-baae-15c017a0d8e9",
       "rows": [
        [
         "BSC",
         "324"
        ],
        [
         "ETH",
         "294"
        ],
        [
         "Polygon",
         "15"
        ],
        [
         "Arbitrum",
         "8"
        ],
        [
         "Fantom",
         "2"
        ],
        [
         "OP.ETH",
         "1"
        ],
        [
         "BASE",
         "1"
        ]
       ],
       "shape": {
        "columns": 1,
        "rows": 7
       }
      },
      "text/plain": [
       "Chain\n",
       "BSC         324\n",
       "ETH         294\n",
       "Polygon      15\n",
       "Arbitrum      8\n",
       "Fantom        2\n",
       "OP.ETH        1\n",
       "BASE          1\n",
       "Name: count, dtype: int64"
      ]
     },
     "execution_count": 86,
     "metadata": {},
     "output_type": "execute_result"
    }
   ],
   "source": [
    "experiment_df['Chain'].value_counts()"
   ]
  },
  {
   "cell_type": "markdown",
   "id": "4a324e05",
   "metadata": {},
   "source": [
    "### Open Source"
   ]
  },
  {
   "cell_type": "code",
   "execution_count": 87,
   "id": "629b00ef",
   "metadata": {},
   "outputs": [
    {
     "data": {
      "application/vnd.microsoft.datawrangler.viewer.v0+json": {
       "columns": [
        {
         "name": "Open Source",
         "rawType": "object",
         "type": "string"
        },
        {
         "name": "count",
         "rawType": "int64",
         "type": "integer"
        }
       ],
       "ref": "7b7b4ab3-d640-49e5-8949-aee93efc0697",
       "rows": [
        [
         "Yes",
         "916"
        ],
        [
         "No",
         "131"
        ]
       ],
       "shape": {
        "columns": 1,
        "rows": 2
       }
      },
      "text/plain": [
       "Open Source\n",
       "Yes    916\n",
       "No     131\n",
       "Name: count, dtype: int64"
      ]
     },
     "execution_count": 87,
     "metadata": {},
     "output_type": "execute_result"
    }
   ],
   "source": [
    "total_df['Open Source'].value_counts()"
   ]
  },
  {
   "cell_type": "code",
   "execution_count": 88,
   "id": "20cf1f79",
   "metadata": {},
   "outputs": [
    {
     "data": {
      "application/vnd.microsoft.datawrangler.viewer.v0+json": {
       "columns": [
        {
         "name": "Open Source",
         "rawType": "object",
         "type": "string"
        },
        {
         "name": "count",
         "rawType": "int64",
         "type": "integer"
        }
       ],
       "ref": "6349f494-7300-4d5d-884d-5d71bb0886a1",
       "rows": [
        [
         "Yes",
         "643"
        ],
        [
         "No",
         "2"
        ]
       ],
       "shape": {
        "columns": 1,
        "rows": 2
       }
      },
      "text/plain": [
       "Open Source\n",
       "Yes    643\n",
       "No       2\n",
       "Name: count, dtype: int64"
      ]
     },
     "execution_count": 88,
     "metadata": {},
     "output_type": "execute_result"
    }
   ],
   "source": [
    "experiment_df['Open Source'].value_counts()"
   ]
  },
  {
   "cell_type": "markdown",
   "id": "68ea87ed",
   "metadata": {},
   "source": [
    "### Sale Restrict"
   ]
  },
  {
   "cell_type": "code",
   "execution_count": 89,
   "id": "6cc75cf9",
   "metadata": {},
   "outputs": [
    {
     "data": {
      "application/vnd.microsoft.datawrangler.viewer.v0+json": {
       "columns": [
        {
         "name": "Sale Restrict",
         "rawType": "object",
         "type": "string"
        },
        {
         "name": "count",
         "rawType": "int64",
         "type": "integer"
        }
       ],
       "ref": "a065e561-a772-4aa5-8e20-572ac7cfde48",
       "rows": [
        [
         "Address Restrict",
         "140"
        ],
        [
         "Amount Restrict",
         "90"
        ],
        [
         "Address Restrict,Amount Restrict",
         "36"
        ],
        [
         "Address Restrict,TimeStamp Restrict",
         "7"
        ],
        [
         "\nAddress Restrict,Amount Restrict",
         "4"
        ],
        [
         "Address Restrict,Amount Restrict,TimeStamp Restrict",
         "3"
        ],
        [
         "TimeStamp Restrict",
         "2"
        ],
        [
         "\nAddress Restrict",
         "2"
        ],
        [
         "Amount Restrict,TimeStamp Restrict",
         "1"
        ],
        [
         "Modifiable External Call",
         "1"
        ],
        [
         "Address Restrict ",
         "1"
        ],
        [
         "Address Restrict,Address Restrict*3",
         "1"
        ],
        [
         "\n\nAddress Restrict,Amount Restrict,TimeStamp Restrict",
         "1"
        ],
        [
         "\nAmount Restrict",
         "1"
        ],
        [
         "TimeStanp Restrict",
         "1"
        ]
       ],
       "shape": {
        "columns": 1,
        "rows": 15
       }
      },
      "text/plain": [
       "Sale Restrict\n",
       "Address Restrict                                           140\n",
       "Amount Restrict                                             90\n",
       "Address Restrict,Amount Restrict                            36\n",
       "Address Restrict,TimeStamp Restrict                          7\n",
       "\\nAddress Restrict,Amount Restrict                           4\n",
       "Address Restrict,Amount Restrict,TimeStamp Restrict          3\n",
       "TimeStamp Restrict                                           2\n",
       "\\nAddress Restrict                                           2\n",
       "Amount Restrict,TimeStamp Restrict                           1\n",
       "Modifiable External Call                                     1\n",
       "Address Restrict                                             1\n",
       "Address Restrict,Address Restrict*3                          1\n",
       "\\n\\nAddress Restrict,Amount Restrict,TimeStamp Restrict      1\n",
       "\\nAmount Restrict                                            1\n",
       "TimeStanp Restrict                                           1\n",
       "Name: count, dtype: int64"
      ]
     },
     "execution_count": 89,
     "metadata": {},
     "output_type": "execute_result"
    }
   ],
   "source": [
    "total_df['Sale Restrict'].value_counts()"
   ]
  },
  {
   "cell_type": "code",
   "execution_count": 90,
   "id": "5119b5de",
   "metadata": {},
   "outputs": [
    {
     "data": {
      "application/vnd.microsoft.datawrangler.viewer.v0+json": {
       "columns": [
        {
         "name": "Sale Restrict",
         "rawType": "object",
         "type": "string"
        },
        {
         "name": "count",
         "rawType": "int64",
         "type": "integer"
        }
       ],
       "ref": "41ab20b1-ea86-420c-bc78-3086a454b1fd",
       "rows": [
        [
         "Address Restrict",
         "92"
        ],
        [
         "Amount Restrict",
         "62"
        ],
        [
         "Address Restrict,Amount Restrict",
         "27"
        ],
        [
         "Address Restrict,TimeStamp Restrict",
         "7"
        ],
        [
         "\nAddress Restrict,Amount Restrict",
         "4"
        ],
        [
         "Address Restrict,Amount Restrict,TimeStamp Restrict",
         "3"
        ],
        [
         "TimeStamp Restrict",
         "2"
        ],
        [
         "Modifiable External Call",
         "1"
        ],
        [
         "Amount Restrict,TimeStamp Restrict",
         "1"
        ],
        [
         "Address Restrict ",
         "1"
        ],
        [
         "Address Restrict,Address Restrict*3",
         "1"
        ],
        [
         "\nAddress Restrict",
         "1"
        ],
        [
         "\n\nAddress Restrict,Amount Restrict,TimeStamp Restrict",
         "1"
        ],
        [
         "\nAmount Restrict",
         "1"
        ]
       ],
       "shape": {
        "columns": 1,
        "rows": 14
       }
      },
      "text/plain": [
       "Sale Restrict\n",
       "Address Restrict                                           92\n",
       "Amount Restrict                                            62\n",
       "Address Restrict,Amount Restrict                           27\n",
       "Address Restrict,TimeStamp Restrict                         7\n",
       "\\nAddress Restrict,Amount Restrict                          4\n",
       "Address Restrict,Amount Restrict,TimeStamp Restrict         3\n",
       "TimeStamp Restrict                                          2\n",
       "Modifiable External Call                                    1\n",
       "Amount Restrict,TimeStamp Restrict                          1\n",
       "Address Restrict                                            1\n",
       "Address Restrict,Address Restrict*3                         1\n",
       "\\nAddress Restrict                                          1\n",
       "\\n\\nAddress Restrict,Amount Restrict,TimeStamp Restrict     1\n",
       "\\nAmount Restrict                                           1\n",
       "Name: count, dtype: int64"
      ]
     },
     "execution_count": 90,
     "metadata": {},
     "output_type": "execute_result"
    }
   ],
   "source": [
    "experiment_df['Sale Restrict'].value_counts()"
   ]
  },
  {
   "cell_type": "markdown",
   "id": "b7dc7eaa",
   "metadata": {},
   "source": [
    "### Variable Manipulation"
   ]
  },
  {
   "cell_type": "code",
   "execution_count": 91,
   "id": "badc8b53",
   "metadata": {},
   "outputs": [
    {
     "data": {
      "application/vnd.microsoft.datawrangler.viewer.v0+json": {
       "columns": [
        {
         "name": "Variable Manipulation",
         "rawType": "object",
         "type": "string"
        },
        {
         "name": "count",
         "rawType": "int64",
         "type": "integer"
        }
       ],
       "ref": "9c097d82-cbb5-4c32-9e74-cde738692a48",
       "rows": [
        [
         "Modifiable Tax Rate",
         "80"
        ],
        [
         "Modifiable External Call",
         "46"
        ],
        [
         "Modifiable Tax Address",
         "18"
        ],
        [
         "Modifiable Tax Rate,Modifiable Tax Address",
         "6"
        ],
        [
         "Modifibale Tax Rate",
         "4"
        ],
        [
         "\nModifiable Tax Rate",
         "2"
        ],
        [
         "Modifuable Tax Rate",
         "1"
        ],
        [
         "Modifibale Tax Rate,Modifiable Tax Address",
         "1"
        ],
        [
         "Modifiable Tax Address,Hidden Balance Modification",
         "1"
        ],
        [
         "\n",
         "1"
        ]
       ],
       "shape": {
        "columns": 1,
        "rows": 10
       }
      },
      "text/plain": [
       "Variable Manipulation\n",
       "Modifiable Tax Rate                                   80\n",
       "Modifiable External Call                              46\n",
       "Modifiable Tax Address                                18\n",
       "Modifiable Tax Rate,Modifiable Tax Address             6\n",
       "Modifibale Tax Rate                                    4\n",
       "\\nModifiable Tax Rate                                  2\n",
       "Modifuable Tax Rate                                    1\n",
       "Modifibale Tax Rate,Modifiable Tax Address             1\n",
       "Modifiable Tax Address,Hidden Balance Modification     1\n",
       "\\n                                                     1\n",
       "Name: count, dtype: int64"
      ]
     },
     "execution_count": 91,
     "metadata": {},
     "output_type": "execute_result"
    }
   ],
   "source": [
    "total_df['Variable Manipulation'].value_counts()"
   ]
  },
  {
   "cell_type": "code",
   "execution_count": 92,
   "id": "c470ebee",
   "metadata": {},
   "outputs": [
    {
     "data": {
      "application/vnd.microsoft.datawrangler.viewer.v0+json": {
       "columns": [
        {
         "name": "Variable Manipulation",
         "rawType": "object",
         "type": "string"
        },
        {
         "name": "count",
         "rawType": "int64",
         "type": "integer"
        }
       ],
       "ref": "392e5519-646a-4d73-b8df-4e149d983b94",
       "rows": [
        [
         "Modifiable Tax Rate",
         "69"
        ],
        [
         "Modifiable External Call",
         "43"
        ],
        [
         "Modifiable Tax Address",
         "17"
        ],
        [
         "Modifiable Tax Rate,Modifiable Tax Address",
         "6"
        ],
        [
         "Modifibale Tax Rate",
         "4"
        ],
        [
         "\nModifiable Tax Rate",
         "2"
        ],
        [
         "Modifuable Tax Rate",
         "1"
        ],
        [
         "Modifibale Tax Rate,Modifiable Tax Address",
         "1"
        ],
        [
         "Modifiable Tax Address,Hidden Balance Modify",
         "1"
        ],
        [
         "\n",
         "1"
        ]
       ],
       "shape": {
        "columns": 1,
        "rows": 10
       }
      },
      "text/plain": [
       "Variable Manipulation\n",
       "Modifiable Tax Rate                             69\n",
       "Modifiable External Call                        43\n",
       "Modifiable Tax Address                          17\n",
       "Modifiable Tax Rate,Modifiable Tax Address       6\n",
       "Modifibale Tax Rate                              4\n",
       "\\nModifiable Tax Rate                            2\n",
       "Modifuable Tax Rate                              1\n",
       "Modifibale Tax Rate,Modifiable Tax Address       1\n",
       "Modifiable Tax Address,Hidden Balance Modify     1\n",
       "\\n                                               1\n",
       "Name: count, dtype: int64"
      ]
     },
     "execution_count": 92,
     "metadata": {},
     "output_type": "execute_result"
    }
   ],
   "source": [
    "experiment_df['Variable Manipulation'].value_counts()"
   ]
  },
  {
   "cell_type": "markdown",
   "id": "4d8ed796",
   "metadata": {},
   "source": [
    "### Balance Tamper"
   ]
  },
  {
   "cell_type": "code",
   "execution_count": 93,
   "id": "a9cb09da",
   "metadata": {},
   "outputs": [
    {
     "data": {
      "application/vnd.microsoft.datawrangler.viewer.v0+json": {
       "columns": [
        {
         "name": "Balance Tamper",
         "rawType": "object",
         "type": "string"
        },
        {
         "name": "count",
         "rawType": "int64",
         "type": "integer"
        }
       ],
       "ref": "641b19b5-dd22-4852-bfbd-b58bf1a4f1eb",
       "rows": [
        [
         "Hidden Mint/Burn",
         "334"
        ],
        [
         "Hidden Balance Modification",
         "54"
        ],
        [
         "\nHidden Mint/Burn",
         "35"
        ],
        [
         "Hidden Mint/Burn,Hidden Balance Modification",
         "6"
        ],
        [
         "\n",
         "2"
        ],
        [
         "\n\nHidden Mint/Burn",
         "2"
        ],
        [
         "Hidden Mint/Eurn",
         "1"
        ],
        [
         "Hidden Mint/Burn茂录聦Hidden Balance Modification",
         "1"
        ],
        [
         "\n\n",
         "1"
        ]
       ],
       "shape": {
        "columns": 1,
        "rows": 9
       }
      },
      "text/plain": [
       "Balance Tamper\n",
       "Hidden Mint/Burn                                  334\n",
       "Hidden Balance Modification                        54\n",
       "\\nHidden Mint/Burn                                 35\n",
       "Hidden Mint/Burn,Hidden Balance Modification        6\n",
       "\\n                                                  2\n",
       "\\n\\nHidden Mint/Burn                                2\n",
       "Hidden Mint/Eurn                                    1\n",
       "Hidden Mint/Burn茂录聦Hidden Balance Modification      1\n",
       "\\n\\n                                                1\n",
       "Name: count, dtype: int64"
      ]
     },
     "execution_count": 93,
     "metadata": {},
     "output_type": "execute_result"
    }
   ],
   "source": [
    "total_df['Balance Tamper'].value_counts()"
   ]
  },
  {
   "cell_type": "code",
   "execution_count": 94,
   "id": "3a07124d",
   "metadata": {},
   "outputs": [
    {
     "data": {
      "application/vnd.microsoft.datawrangler.viewer.v0+json": {
       "columns": [
        {
         "name": "Balance Tamper",
         "rawType": "object",
         "type": "string"
        },
        {
         "name": "count",
         "rawType": "int64",
         "type": "integer"
        }
       ],
       "ref": "746e3968-fe91-421c-a9bd-808c1bdb1a0b",
       "rows": [
        [
         "Hidden Mint/Burn",
         "132"
        ],
        [
         "Hidden Balance Modify",
         "46"
        ],
        [
         "Hidden Mint/Burn,Hidden Balance Modify",
         "5"
        ],
        [
         "\nHidden Mint/Burn",
         "4"
        ],
        [
         "Hidden Mint/Burn脙炉脗录脗聦Hidden Balance Modify",
         "1"
        ],
        [
         "\n\nHidden Mint/Burn",
         "1"
        ],
        [
         "\n",
         "1"
        ]
       ],
       "shape": {
        "columns": 1,
        "rows": 7
       }
      },
      "text/plain": [
       "Balance Tamper\n",
       "Hidden Mint/Burn                               132\n",
       "Hidden Balance Modify                           46\n",
       "Hidden Mint/Burn,Hidden Balance Modify           5\n",
       "\\nHidden Mint/Burn                               4\n",
       "Hidden Mint/Burn脙炉脗录脗聦Hidden Balance Modify      1\n",
       "\\n\\nHidden Mint/Burn                             1\n",
       "\\n                                               1\n",
       "Name: count, dtype: int64"
      ]
     },
     "execution_count": 94,
     "metadata": {},
     "output_type": "execute_result"
    }
   ],
   "source": [
    "experiment_df['Balance Tamper'].value_counts()"
   ]
  },
  {
   "cell_type": "markdown",
   "id": "f1814589",
   "metadata": {},
   "source": [
    "## Cleaning"
   ]
  },
  {
   "cell_type": "code",
   "execution_count": 95,
   "id": "b2ddcbd8",
   "metadata": {},
   "outputs": [
    {
     "name": "stdout",
     "output_type": "stream",
     "text": [
      "Normal Bytecode Addresses: 1675\n",
      "Rug Bytecode Addresses: 645\n"
     ]
    }
   ],
   "source": [
    "# check if 'Address' column exists in Noremal-Bytecode and Rug-Bytecode directories or not\n",
    "normal_bytecode_df = pd.DataFrame({'Address': normal_list})\n",
    "rug_bytecode_df = pd.DataFrame({'Address': rug_list})\n",
    "normal_bytecode_df['Address'] = normal_bytecode_df['Address'].apply(lambda x: x.split('.')[0])\n",
    "rug_bytecode_df['Address'] = rug_bytecode_df['Address'].apply(lambda x: x.split('.')[0])\n",
    "print(f\"Normal Bytecode Addresses: {normal_bytecode_df['Address'].nunique()}\")\n",
    "print(f\"Rug Bytecode Addresses: {rug_bytecode_df['Address'].nunique()}\")"
   ]
  },
  {
   "cell_type": "code",
   "execution_count": 96,
   "id": "c07464cc",
   "metadata": {},
   "outputs": [
    {
     "data": {
      "application/vnd.microsoft.datawrangler.viewer.v0+json": {
       "columns": [
        {
         "name": "index",
         "rawType": "int64",
         "type": "integer"
        },
        {
         "name": "Address",
         "rawType": "object",
         "type": "string"
        }
       ],
       "ref": "0fcf4a00-dd56-44e9-8398-8bfbf3a1c34b",
       "rows": [
        [
         "0",
         "0x6B466B0232640382950c45440Ea5b630744eCa99"
        ],
        [
         "1",
         "0x4E15361FD6b4BB609Fa63C81A2be19d873717870"
        ],
        [
         "2",
         "0xa95c4f2e0d6455637f67F655Da4AFAe5d50d859B"
        ],
        [
         "3",
         "0x35dd2ebf20746C6e658fac75cd80D4722fae62f6"
        ],
        [
         "4",
         "0x264Dc2DedCdcbb897561A57CBa5085CA416fb7b4"
        ]
       ],
       "shape": {
        "columns": 1,
        "rows": 5
       }
      },
      "text/html": [
       "<div>\n",
       "<style scoped>\n",
       "    .dataframe tbody tr th:only-of-type {\n",
       "        vertical-align: middle;\n",
       "    }\n",
       "\n",
       "    .dataframe tbody tr th {\n",
       "        vertical-align: top;\n",
       "    }\n",
       "\n",
       "    .dataframe thead th {\n",
       "        text-align: right;\n",
       "    }\n",
       "</style>\n",
       "<table border=\"1\" class=\"dataframe\">\n",
       "  <thead>\n",
       "    <tr style=\"text-align: right;\">\n",
       "      <th></th>\n",
       "      <th>Address</th>\n",
       "    </tr>\n",
       "  </thead>\n",
       "  <tbody>\n",
       "    <tr>\n",
       "      <th>0</th>\n",
       "      <td>0x6B466B0232640382950c45440Ea5b630744eCa99</td>\n",
       "    </tr>\n",
       "    <tr>\n",
       "      <th>1</th>\n",
       "      <td>0x4E15361FD6b4BB609Fa63C81A2be19d873717870</td>\n",
       "    </tr>\n",
       "    <tr>\n",
       "      <th>2</th>\n",
       "      <td>0xa95c4f2e0d6455637f67F655Da4AFAe5d50d859B</td>\n",
       "    </tr>\n",
       "    <tr>\n",
       "      <th>3</th>\n",
       "      <td>0x35dd2ebf20746C6e658fac75cd80D4722fae62f6</td>\n",
       "    </tr>\n",
       "    <tr>\n",
       "      <th>4</th>\n",
       "      <td>0x264Dc2DedCdcbb897561A57CBa5085CA416fb7b4</td>\n",
       "    </tr>\n",
       "  </tbody>\n",
       "</table>\n",
       "</div>"
      ],
      "text/plain": [
       "                                      Address\n",
       "0  0x6B466B0232640382950c45440Ea5b630744eCa99\n",
       "1  0x4E15361FD6b4BB609Fa63C81A2be19d873717870\n",
       "2  0xa95c4f2e0d6455637f67F655Da4AFAe5d50d859B\n",
       "3  0x35dd2ebf20746C6e658fac75cd80D4722fae62f6\n",
       "4  0x264Dc2DedCdcbb897561A57CBa5085CA416fb7b4"
      ]
     },
     "execution_count": 96,
     "metadata": {},
     "output_type": "execute_result"
    }
   ],
   "source": [
    "normal_bytecode_df.head()"
   ]
  },
  {
   "cell_type": "code",
   "execution_count": 97,
   "id": "e2b913cc",
   "metadata": {},
   "outputs": [
    {
     "name": "stdout",
     "output_type": "stream",
     "text": [
      "Number of addresses in total_df that are in normal_bytecode_df: 2\n"
     ]
    }
   ],
   "source": [
    "print(f\"Number of addresses in total_df that are in normal_bytecode_df: {total_df[total_df['Address'].str.lower().isin(normal_bytecode_df['Address'].str.lower())].shape[0]}\")"
   ]
  },
  {
   "cell_type": "code",
   "execution_count": 98,
   "id": "a93e4e23",
   "metadata": {},
   "outputs": [
    {
     "name": "stdout",
     "output_type": "stream",
     "text": [
      "Number of addresses in experiment_df that are in normal_bytecode_df: 0\n"
     ]
    }
   ],
   "source": [
    "print(f\"Number of addresses in experiment_df that are in normal_bytecode_df: {experiment_df[experiment_df['Address'].str.lower().isin(normal_bytecode_df['Address'].str.lower())].shape[0]}\")"
   ]
  },
  {
   "cell_type": "code",
   "execution_count": 99,
   "id": "a10d8b6a",
   "metadata": {},
   "outputs": [
    {
     "name": "stdout",
     "output_type": "stream",
     "text": [
      "Number of addresses in total_df that are in rug_bytecode_df: 634\n"
     ]
    }
   ],
   "source": [
    "print(f\"Number of addresses in total_df that are in rug_bytecode_df: {total_df[total_df['Address'].str.lower().isin(rug_bytecode_df['Address'].str.lower())].shape[0]}\")"
   ]
  },
  {
   "cell_type": "code",
   "execution_count": 100,
   "id": "6f29f817",
   "metadata": {},
   "outputs": [
    {
     "name": "stdout",
     "output_type": "stream",
     "text": [
      "Number of addresses in experiment_df that are in rug_bytecode_df: 644\n"
     ]
    }
   ],
   "source": [
    "print(f\"Number of addresses in experiment_df that are in rug_bytecode_df: {experiment_df[experiment_df['Address'].str.lower().isin(rug_bytecode_df['Address'].str.lower())].shape[0]}\")"
   ]
  },
  {
   "cell_type": "code",
   "execution_count": 101,
   "id": "d8b24a47",
   "metadata": {},
   "outputs": [
    {
     "name": "stdout",
     "output_type": "stream",
     "text": [
      "Number of rows with empty or NaN values in 'Balance Tamper', 'Variable Manipulation', and 'Sale Restrict': 359\n"
     ]
    }
   ],
   "source": [
    "empty_cond = ((total_df['Balance Tamper'].isna() | (total_df['Balance Tamper'].str.strip() == '')) &\n",
    "    (total_df['Variable Manipulation'].isna() | (total_df['Variable Manipulation'].str.strip() == '')) &\n",
    "    (total_df['Sale Restrict'].isna() | (total_df['Sale Restrict'].str.strip() == '')))\n",
    "\n",
    "empty_or_nan_rows = total_df[empty_cond].shape[0]\n",
    "\n",
    "print(f\"Number of rows with empty or NaN values in 'Balance Tamper', 'Variable Manipulation', and 'Sale Restrict': {empty_or_nan_rows}\")"
   ]
  },
  {
   "cell_type": "code",
   "execution_count": 102,
   "id": "3a96c919",
   "metadata": {},
   "outputs": [
    {
     "name": "stdout",
     "output_type": "stream",
     "text": [
      "<class 'pandas.core.frame.DataFrame'>\n",
      "Index: 688 entries, 0 to 688\n",
      "Data columns (total 8 columns):\n",
      " #   Column                 Non-Null Count  Dtype \n",
      "---  ------                 --------------  ----- \n",
      " 0   Project Name           688 non-null    object\n",
      " 1   Chain                  688 non-null    object\n",
      " 2   Address                688 non-null    object\n",
      " 3   Open Source            688 non-null    object\n",
      " 4   Sale Restrict          291 non-null    object\n",
      " 5   Variable Manipulation  160 non-null    object\n",
      " 6   Balance Tamper         435 non-null    object\n",
      " 7   Source                 688 non-null    object\n",
      "dtypes: object(8)\n",
      "memory usage: 48.4+ KB\n"
     ]
    }
   ],
   "source": [
    "# remove empty_or_nan_rows from total_df\n",
    "total_df = total_df[~empty_cond]\n",
    "\n",
    "total_df.info()"
   ]
  },
  {
   "cell_type": "code",
   "execution_count": 103,
   "id": "aaf6f303",
   "metadata": {},
   "outputs": [
    {
     "data": {
      "application/vnd.microsoft.datawrangler.viewer.v0+json": {
       "columns": [
        {
         "name": "index",
         "rawType": "int64",
         "type": "integer"
        },
        {
         "name": "Project Name",
         "rawType": "object",
         "type": "string"
        },
        {
         "name": "Chain",
         "rawType": "object",
         "type": "string"
        },
        {
         "name": "Address",
         "rawType": "object",
         "type": "string"
        },
        {
         "name": "Open Source",
         "rawType": "object",
         "type": "string"
        },
        {
         "name": "Sale Restrict",
         "rawType": "object",
         "type": "unknown"
        },
        {
         "name": "Variable Manipulation",
         "rawType": "object",
         "type": "unknown"
        },
        {
         "name": "Balance Tamper",
         "rawType": "object",
         "type": "unknown"
        },
        {
         "name": "Source",
         "rawType": "object",
         "type": "string"
        }
       ],
       "ref": "c1e3f4cd-249c-4ea9-bad0-4b3907c1d713",
       "rows": [
        [
         "0",
         "GMETA",
         "BSC",
         "0X93023F1D3525E273F291B6F76D2F5027A39BF302",
         "Yes",
         null,
         "Modifiable Tax Rate",
         "Hidden Mint/Burn",
         "https://twitter.com/BeosinAlert/status/1681240663868973056"
        ],
        [
         "1",
         "PokémonFi",
         "BSC",
         "0X2753DCE37A7EDB052A77832039BCC9AA49AD8B25",
         "Yes",
         "Address Restrict",
         null,
         null,
         "https://twitter.com/CertiKAlert/status/1562555089306685440"
        ],
        [
         "2",
         "PokémonFi",
         "BSC",
         "0X0AA5CAE4D1C9230543542E998E04EA795EEDF738",
         "Yes",
         "Address Restrict",
         null,
         null,
         "https://twitter.com/CertiKAlert/status/1562555089306685440"
        ],
        [
         "3",
         "Sudorare",
         "ETH",
         "0X5404EFAFDD8CC30053069DF2A1B0C4BA881B3E1E",
         "Yes",
         null,
         null,
         "Hidden Mint/Burn",
         "https://x.com/PeckShieldAlert/status/1561967493912363008"
        ],
        [
         "4",
         "DRAC Network",
         "ETH",
         "0X10F6F2B97F3AB29583D9D38BABF2994DF7220C21",
         "Yes",
         null,
         "Modifiable Tax Rate",
         "Hidden Mint/Burn",
         "https://twitter.com/PeckShieldAlert/status/1551409593397350401"
        ]
       ],
       "shape": {
        "columns": 8,
        "rows": 5
       }
      },
      "text/html": [
       "<div>\n",
       "<style scoped>\n",
       "    .dataframe tbody tr th:only-of-type {\n",
       "        vertical-align: middle;\n",
       "    }\n",
       "\n",
       "    .dataframe tbody tr th {\n",
       "        vertical-align: top;\n",
       "    }\n",
       "\n",
       "    .dataframe thead th {\n",
       "        text-align: right;\n",
       "    }\n",
       "</style>\n",
       "<table border=\"1\" class=\"dataframe\">\n",
       "  <thead>\n",
       "    <tr style=\"text-align: right;\">\n",
       "      <th></th>\n",
       "      <th>Project Name</th>\n",
       "      <th>Chain</th>\n",
       "      <th>Address</th>\n",
       "      <th>Open Source</th>\n",
       "      <th>Sale Restrict</th>\n",
       "      <th>Variable Manipulation</th>\n",
       "      <th>Balance Tamper</th>\n",
       "      <th>Source</th>\n",
       "    </tr>\n",
       "  </thead>\n",
       "  <tbody>\n",
       "    <tr>\n",
       "      <th>0</th>\n",
       "      <td>GMETA</td>\n",
       "      <td>BSC</td>\n",
       "      <td>0X93023F1D3525E273F291B6F76D2F5027A39BF302</td>\n",
       "      <td>Yes</td>\n",
       "      <td>NaN</td>\n",
       "      <td>Modifiable Tax Rate</td>\n",
       "      <td>Hidden Mint/Burn</td>\n",
       "      <td>https://twitter.com/BeosinAlert/status/1681240...</td>\n",
       "    </tr>\n",
       "    <tr>\n",
       "      <th>1</th>\n",
       "      <td>PokémonFi</td>\n",
       "      <td>BSC</td>\n",
       "      <td>0X2753DCE37A7EDB052A77832039BCC9AA49AD8B25</td>\n",
       "      <td>Yes</td>\n",
       "      <td>Address Restrict</td>\n",
       "      <td>NaN</td>\n",
       "      <td>NaN</td>\n",
       "      <td>https://twitter.com/CertiKAlert/status/1562555...</td>\n",
       "    </tr>\n",
       "    <tr>\n",
       "      <th>2</th>\n",
       "      <td>PokémonFi</td>\n",
       "      <td>BSC</td>\n",
       "      <td>0X0AA5CAE4D1C9230543542E998E04EA795EEDF738</td>\n",
       "      <td>Yes</td>\n",
       "      <td>Address Restrict</td>\n",
       "      <td>NaN</td>\n",
       "      <td>NaN</td>\n",
       "      <td>https://twitter.com/CertiKAlert/status/1562555...</td>\n",
       "    </tr>\n",
       "    <tr>\n",
       "      <th>3</th>\n",
       "      <td>Sudorare</td>\n",
       "      <td>ETH</td>\n",
       "      <td>0X5404EFAFDD8CC30053069DF2A1B0C4BA881B3E1E</td>\n",
       "      <td>Yes</td>\n",
       "      <td>NaN</td>\n",
       "      <td>NaN</td>\n",
       "      <td>Hidden Mint/Burn</td>\n",
       "      <td>https://x.com/PeckShieldAlert/status/156196749...</td>\n",
       "    </tr>\n",
       "    <tr>\n",
       "      <th>4</th>\n",
       "      <td>DRAC Network</td>\n",
       "      <td>ETH</td>\n",
       "      <td>0X10F6F2B97F3AB29583D9D38BABF2994DF7220C21</td>\n",
       "      <td>Yes</td>\n",
       "      <td>NaN</td>\n",
       "      <td>Modifiable Tax Rate</td>\n",
       "      <td>Hidden Mint/Burn</td>\n",
       "      <td>https://twitter.com/PeckShieldAlert/status/155...</td>\n",
       "    </tr>\n",
       "  </tbody>\n",
       "</table>\n",
       "</div>"
      ],
      "text/plain": [
       "   Project Name Chain                                     Address Open Source  \\\n",
       "0         GMETA   BSC  0X93023F1D3525E273F291B6F76D2F5027A39BF302         Yes   \n",
       "1     PokémonFi   BSC  0X2753DCE37A7EDB052A77832039BCC9AA49AD8B25         Yes   \n",
       "2     PokémonFi   BSC  0X0AA5CAE4D1C9230543542E998E04EA795EEDF738         Yes   \n",
       "3      Sudorare   ETH  0X5404EFAFDD8CC30053069DF2A1B0C4BA881B3E1E         Yes   \n",
       "4  DRAC Network   ETH  0X10F6F2B97F3AB29583D9D38BABF2994DF7220C21         Yes   \n",
       "\n",
       "      Sale Restrict Variable Manipulation    Balance Tamper  \\\n",
       "0               NaN   Modifiable Tax Rate  Hidden Mint/Burn   \n",
       "1  Address Restrict                   NaN               NaN   \n",
       "2  Address Restrict                   NaN               NaN   \n",
       "3               NaN                   NaN  Hidden Mint/Burn   \n",
       "4               NaN   Modifiable Tax Rate  Hidden Mint/Burn   \n",
       "\n",
       "                                              Source  \n",
       "0  https://twitter.com/BeosinAlert/status/1681240...  \n",
       "1  https://twitter.com/CertiKAlert/status/1562555...  \n",
       "2  https://twitter.com/CertiKAlert/status/1562555...  \n",
       "3  https://x.com/PeckShieldAlert/status/156196749...  \n",
       "4  https://twitter.com/PeckShieldAlert/status/155...  "
      ]
     },
     "execution_count": 103,
     "metadata": {},
     "output_type": "execute_result"
    }
   ],
   "source": [
    "total_df.head()"
   ]
  },
  {
   "cell_type": "code",
   "execution_count": 104,
   "id": "eb1ef165",
   "metadata": {},
   "outputs": [],
   "source": [
    "total_df.drop_duplicates()\n",
    "experiment_df.drop_duplicates()\n",
    "total_df.dropna(subset=['Address'], inplace=True)\n",
    "experiment_df.dropna(subset=['Address'], inplace=True)"
   ]
  },
  {
   "cell_type": "code",
   "execution_count": 105,
   "id": "a8df4fc0",
   "metadata": {},
   "outputs": [
    {
     "name": "stdout",
     "output_type": "stream",
     "text": [
      "Number of rows with empty or NaN values in 'Balance Tamper', 'Variable Manipulation', and 'Sale Restrict': 229\n"
     ]
    }
   ],
   "source": [
    "empty_cond_exp = ((experiment_df['Balance Tamper'].isna() | (experiment_df['Balance Tamper'].str.strip() == '')) &\n",
    "    (experiment_df['Variable Manipulation'].isna() | (experiment_df['Variable Manipulation'].str.strip() == '')) &\n",
    "    (experiment_df['Sale Restrict'].isna() | (experiment_df['Sale Restrict'].str.strip() == '')))\n",
    "empty_or_nan_rows_exp = experiment_df[\n",
    "    empty_cond_exp\n",
    "].shape[0]\n",
    "\n",
    "print(f\"Number of rows with empty or NaN values in 'Balance Tamper', 'Variable Manipulation', and 'Sale Restrict': {empty_or_nan_rows_exp}\")"
   ]
  },
  {
   "cell_type": "code",
   "execution_count": 106,
   "id": "492b5237",
   "metadata": {},
   "outputs": [
    {
     "name": "stdout",
     "output_type": "stream",
     "text": [
      "<class 'pandas.core.frame.DataFrame'>\n",
      "Index: 416 entries, 0 to 415\n",
      "Data columns (total 8 columns):\n",
      " #   Column                 Non-Null Count  Dtype \n",
      "---  ------                 --------------  ----- \n",
      " 0   Project Name           416 non-null    object\n",
      " 1   Chain                  416 non-null    object\n",
      " 2   Address                416 non-null    object\n",
      " 3   Open Source            416 non-null    object\n",
      " 4   Sale Restrict          204 non-null    object\n",
      " 5   Variable Manipulation  145 non-null    object\n",
      " 6   Balance Tamper         190 non-null    object\n",
      " 7   Source                 416 non-null    object\n",
      "dtypes: object(8)\n",
      "memory usage: 29.2+ KB\n"
     ]
    }
   ],
   "source": [
    "experiment_df = experiment_df[~empty_cond_exp]\n",
    "experiment_df.info()"
   ]
  },
  {
   "cell_type": "code",
   "execution_count": 107,
   "id": "5f7235c8",
   "metadata": {},
   "outputs": [
    {
     "data": {
      "application/vnd.microsoft.datawrangler.viewer.v0+json": {
       "columns": [
        {
         "name": "index",
         "rawType": "int64",
         "type": "integer"
        },
        {
         "name": "Project Name",
         "rawType": "object",
         "type": "string"
        },
        {
         "name": "Chain",
         "rawType": "object",
         "type": "string"
        },
        {
         "name": "Address",
         "rawType": "object",
         "type": "string"
        },
        {
         "name": "Open Source",
         "rawType": "object",
         "type": "string"
        },
        {
         "name": "Sale Restrict",
         "rawType": "object",
         "type": "unknown"
        },
        {
         "name": "Variable Manipulation",
         "rawType": "object",
         "type": "unknown"
        },
        {
         "name": "Balance Tamper",
         "rawType": "object",
         "type": "unknown"
        },
        {
         "name": "Source",
         "rawType": "object",
         "type": "string"
        }
       ],
       "ref": "391ce8a9-ff94-483b-9faa-e73045839853",
       "rows": [
        [
         "0",
         "GMETA",
         "BSC",
         "0X93023F1D3525E273F291B6F76D2F5027A39BF302",
         "Yes",
         null,
         "Modifiable Tax Rate",
         "Hidden Mint/Burn",
         "https://twitter.com/BeosinAlert/status/1681240663868973056"
        ],
        [
         "1",
         "Sudorare",
         "ETH",
         "0X5404EFAFDD8CC30053069DF2A1B0C4BA881B3E1E",
         "Yes",
         null,
         null,
         "Hidden Mint/Burn",
         "https://x.com/PeckShieldAlert/status/1561967493912363008"
        ],
        [
         "2",
         "DRAC Network",
         "ETH",
         "0X10F6F2B97F3AB29583D9D38BABF2994DF7220C21",
         "Yes",
         null,
         "Modifiable Tax Rate",
         "Hidden Mint/Burn",
         "https://twitter.com/PeckShieldAlert/status/1551409593397350401"
        ],
        [
         "3",
         "DHE",
         "BSC",
         "0X11CBC781DADAAD13FC3A361772C80B1C027820AF",
         "Yes",
         "Address Restrict",
         null,
         null,
         "https://twitter.com/CertiKAlert/status/1539031511114063873"
        ],
        [
         "4",
         "ElonMVP",
         "BSC",
         "0X3E597EA168A85AA2AE5E2C4333665BCD875ED10F",
         "Yes",
         "Address Restrict",
         null,
         null,
         "https://twitter.com/PeckShieldAlert/status/1536223027717111808"
        ]
       ],
       "shape": {
        "columns": 8,
        "rows": 5
       }
      },
      "text/html": [
       "<div>\n",
       "<style scoped>\n",
       "    .dataframe tbody tr th:only-of-type {\n",
       "        vertical-align: middle;\n",
       "    }\n",
       "\n",
       "    .dataframe tbody tr th {\n",
       "        vertical-align: top;\n",
       "    }\n",
       "\n",
       "    .dataframe thead th {\n",
       "        text-align: right;\n",
       "    }\n",
       "</style>\n",
       "<table border=\"1\" class=\"dataframe\">\n",
       "  <thead>\n",
       "    <tr style=\"text-align: right;\">\n",
       "      <th></th>\n",
       "      <th>Project Name</th>\n",
       "      <th>Chain</th>\n",
       "      <th>Address</th>\n",
       "      <th>Open Source</th>\n",
       "      <th>Sale Restrict</th>\n",
       "      <th>Variable Manipulation</th>\n",
       "      <th>Balance Tamper</th>\n",
       "      <th>Source</th>\n",
       "    </tr>\n",
       "  </thead>\n",
       "  <tbody>\n",
       "    <tr>\n",
       "      <th>0</th>\n",
       "      <td>GMETA</td>\n",
       "      <td>BSC</td>\n",
       "      <td>0X93023F1D3525E273F291B6F76D2F5027A39BF302</td>\n",
       "      <td>Yes</td>\n",
       "      <td>NaN</td>\n",
       "      <td>Modifiable Tax Rate</td>\n",
       "      <td>Hidden Mint/Burn</td>\n",
       "      <td>https://twitter.com/BeosinAlert/status/1681240...</td>\n",
       "    </tr>\n",
       "    <tr>\n",
       "      <th>1</th>\n",
       "      <td>Sudorare</td>\n",
       "      <td>ETH</td>\n",
       "      <td>0X5404EFAFDD8CC30053069DF2A1B0C4BA881B3E1E</td>\n",
       "      <td>Yes</td>\n",
       "      <td>NaN</td>\n",
       "      <td>NaN</td>\n",
       "      <td>Hidden Mint/Burn</td>\n",
       "      <td>https://x.com/PeckShieldAlert/status/156196749...</td>\n",
       "    </tr>\n",
       "    <tr>\n",
       "      <th>2</th>\n",
       "      <td>DRAC Network</td>\n",
       "      <td>ETH</td>\n",
       "      <td>0X10F6F2B97F3AB29583D9D38BABF2994DF7220C21</td>\n",
       "      <td>Yes</td>\n",
       "      <td>NaN</td>\n",
       "      <td>Modifiable Tax Rate</td>\n",
       "      <td>Hidden Mint/Burn</td>\n",
       "      <td>https://twitter.com/PeckShieldAlert/status/155...</td>\n",
       "    </tr>\n",
       "    <tr>\n",
       "      <th>3</th>\n",
       "      <td>DHE</td>\n",
       "      <td>BSC</td>\n",
       "      <td>0X11CBC781DADAAD13FC3A361772C80B1C027820AF</td>\n",
       "      <td>Yes</td>\n",
       "      <td>Address Restrict</td>\n",
       "      <td>NaN</td>\n",
       "      <td>NaN</td>\n",
       "      <td>https://twitter.com/CertiKAlert/status/1539031...</td>\n",
       "    </tr>\n",
       "    <tr>\n",
       "      <th>4</th>\n",
       "      <td>ElonMVP</td>\n",
       "      <td>BSC</td>\n",
       "      <td>0X3E597EA168A85AA2AE5E2C4333665BCD875ED10F</td>\n",
       "      <td>Yes</td>\n",
       "      <td>Address Restrict</td>\n",
       "      <td>NaN</td>\n",
       "      <td>NaN</td>\n",
       "      <td>https://twitter.com/PeckShieldAlert/status/153...</td>\n",
       "    </tr>\n",
       "  </tbody>\n",
       "</table>\n",
       "</div>"
      ],
      "text/plain": [
       "   Project Name Chain                                     Address Open Source  \\\n",
       "0         GMETA   BSC  0X93023F1D3525E273F291B6F76D2F5027A39BF302         Yes   \n",
       "1      Sudorare   ETH  0X5404EFAFDD8CC30053069DF2A1B0C4BA881B3E1E         Yes   \n",
       "2  DRAC Network   ETH  0X10F6F2B97F3AB29583D9D38BABF2994DF7220C21         Yes   \n",
       "3           DHE   BSC  0X11CBC781DADAAD13FC3A361772C80B1C027820AF         Yes   \n",
       "4       ElonMVP   BSC  0X3E597EA168A85AA2AE5E2C4333665BCD875ED10F         Yes   \n",
       "\n",
       "      Sale Restrict Variable Manipulation    Balance Tamper  \\\n",
       "0               NaN   Modifiable Tax Rate  Hidden Mint/Burn   \n",
       "1               NaN                   NaN  Hidden Mint/Burn   \n",
       "2               NaN   Modifiable Tax Rate  Hidden Mint/Burn   \n",
       "3  Address Restrict                   NaN               NaN   \n",
       "4  Address Restrict                   NaN               NaN   \n",
       "\n",
       "                                              Source  \n",
       "0  https://twitter.com/BeosinAlert/status/1681240...  \n",
       "1  https://x.com/PeckShieldAlert/status/156196749...  \n",
       "2  https://twitter.com/PeckShieldAlert/status/155...  \n",
       "3  https://twitter.com/CertiKAlert/status/1539031...  \n",
       "4  https://twitter.com/PeckShieldAlert/status/153...  "
      ]
     },
     "execution_count": 107,
     "metadata": {},
     "output_type": "execute_result"
    }
   ],
   "source": [
    "experiment_df.head()"
   ]
  },
  {
   "cell_type": "code",
   "execution_count": 108,
   "id": "c3394b79",
   "metadata": {},
   "outputs": [
    {
     "name": "stdout",
     "output_type": "stream",
     "text": [
      "Number of addresses in total_df that are in normal_bytecode_df: 0\n"
     ]
    }
   ],
   "source": [
    "print(f\"Number of addresses in total_df that are in normal_bytecode_df: {total_df[total_df['Address'].str.lower().isin(normal_bytecode_df['Address'].str.lower())].shape[0]}\")"
   ]
  },
  {
   "cell_type": "code",
   "execution_count": 109,
   "id": "17a032fd",
   "metadata": {},
   "outputs": [
    {
     "name": "stdout",
     "output_type": "stream",
     "text": [
      "Number of addresses in experiment_df that are in normal_bytecode_df: 0\n"
     ]
    }
   ],
   "source": [
    "print(f\"Number of addresses in experiment_df that are in normal_bytecode_df: {experiment_df[experiment_df['Address'].str.lower().isin(normal_bytecode_df['Address'].str.lower())].shape[0]}\")"
   ]
  },
  {
   "cell_type": "code",
   "execution_count": 110,
   "id": "a659307e",
   "metadata": {},
   "outputs": [
    {
     "name": "stdout",
     "output_type": "stream",
     "text": [
      "Number of addresses in total_df that are in rug_bytecode_df: 415\n",
      "<class 'pandas.core.frame.DataFrame'>\n",
      "Index: 688 entries, 0 to 688\n",
      "Data columns (total 8 columns):\n",
      " #   Column                 Non-Null Count  Dtype \n",
      "---  ------                 --------------  ----- \n",
      " 0   Project Name           688 non-null    object\n",
      " 1   Chain                  688 non-null    object\n",
      " 2   Address                688 non-null    object\n",
      " 3   Open Source            688 non-null    object\n",
      " 4   Sale Restrict          291 non-null    object\n",
      " 5   Variable Manipulation  160 non-null    object\n",
      " 6   Balance Tamper         435 non-null    object\n",
      " 7   Source                 688 non-null    object\n",
      "dtypes: object(8)\n",
      "memory usage: 48.4+ KB\n"
     ]
    }
   ],
   "source": [
    "print(f\"Number of addresses in total_df that are in rug_bytecode_df: {total_df[total_df['Address'].str.lower().isin(rug_bytecode_df['Address'].str.lower())].shape[0]}\")\n",
    "total_df.info()"
   ]
  },
  {
   "cell_type": "code",
   "execution_count": 112,
   "id": "934c3683",
   "metadata": {},
   "outputs": [
    {
     "name": "stdout",
     "output_type": "stream",
     "text": [
      "Number of addresses in experiment_df that are in rug_bytecode_df: 415\n",
      "<class 'pandas.core.frame.DataFrame'>\n",
      "Index: 416 entries, 0 to 415\n",
      "Data columns (total 8 columns):\n",
      " #   Column                 Non-Null Count  Dtype \n",
      "---  ------                 --------------  ----- \n",
      " 0   Project Name           416 non-null    object\n",
      " 1   Chain                  416 non-null    object\n",
      " 2   Address                416 non-null    object\n",
      " 3   Open Source            416 non-null    object\n",
      " 4   Sale Restrict          204 non-null    object\n",
      " 5   Variable Manipulation  145 non-null    object\n",
      " 6   Balance Tamper         190 non-null    object\n",
      " 7   Source                 416 non-null    object\n",
      "dtypes: object(8)\n",
      "memory usage: 29.2+ KB\n"
     ]
    }
   ],
   "source": [
    "print(f\"Number of addresses in experiment_df that are in rug_bytecode_df: {experiment_df[experiment_df['Address'].str.lower().isin(rug_bytecode_df['Address'].str.lower())].shape[0]}\")\n",
    "experiment_df.info()"
   ]
  },
  {
   "cell_type": "code",
   "execution_count": 113,
   "id": "626b0c9f",
   "metadata": {},
   "outputs": [
    {
     "data": {
      "application/vnd.microsoft.datawrangler.viewer.v0+json": {
       "columns": [
        {
         "name": "index",
         "rawType": "int64",
         "type": "integer"
        },
        {
         "name": "Project Name",
         "rawType": "object",
         "type": "string"
        },
        {
         "name": "Chain",
         "rawType": "object",
         "type": "string"
        },
        {
         "name": "Address",
         "rawType": "object",
         "type": "string"
        },
        {
         "name": "Open Source",
         "rawType": "object",
         "type": "string"
        },
        {
         "name": "Sale Restrict",
         "rawType": "object",
         "type": "unknown"
        },
        {
         "name": "Variable Manipulation",
         "rawType": "object",
         "type": "unknown"
        },
        {
         "name": "Balance Tamper",
         "rawType": "object",
         "type": "unknown"
        },
        {
         "name": "Source",
         "rawType": "object",
         "type": "string"
        }
       ],
       "ref": "cd901408-4f39-4fb0-ab61-a4d6d0ee7ba5",
       "rows": [
        [
         "1",
         "PokémonFi",
         "BSC",
         "0X2753DCE37A7EDB052A77832039BCC9AA49AD8B25",
         "Yes",
         "Address Restrict",
         null,
         null,
         "https://twitter.com/CertiKAlert/status/1562555089306685440"
        ],
        [
         "2",
         "PokémonFi",
         "BSC",
         "0X0AA5CAE4D1C9230543542E998E04EA795EEDF738",
         "Yes",
         "Address Restrict",
         null,
         null,
         "https://twitter.com/CertiKAlert/status/1562555089306685440"
        ],
        [
         "12",
         "NEKOGOLD",
         "BSC",
         "0X4534A3DF5BFCEDAABD2F3F557271F42B7BD57543",
         "No",
         null,
         null,
         "Hidden Mint/Burn",
         "https://twitter.com/PeckShieldAlert/status/1530122357125181441"
        ],
        [
         "17",
         "NFTflow",
         "ETH",
         "0X253954D29386E174ED4BC69902391A8ED3FD51CA",
         "Yes",
         null,
         null,
         "Hidden Mint/Burn",
         "https://de.fi/rekt-database/nftflow"
        ],
        [
         "19",
         "Lucky star Currency Token",
         "BSC",
         "0X2B3559C3DBDB294CBB71F2B30A693F4C6BE6132D",
         "Yes",
         "Address Restrict",
         null,
         "Hidden Balance Modification",
         "https://x.com/BeosinAlert/status/1711268989450772968"
        ],
        [
         "23",
         "Pixel Penguin",
         "ETH",
         "0X7172B87400B850069C425ECD18F2C2553B7FB479",
         "Yes",
         "Address Restrict,Amount Restrict",
         null,
         null,
         "https://twitter.com/zachxbt/status/1663708430274551808"
        ],
        [
         "35",
         "AFKSystem",
         "Polygon",
         "0XBC7CB585346F4F59D07121BB9ED7358076243539",
         "Yes",
         null,
         null,
         "Hidden Mint/Burn",
         "https://de.fi/rekt-database/afksystem"
        ],
        [
         "36",
         "Bored Bunny",
         "ETH",
         "0X9372B371196751DD2F603729AE8D8014BBEB07F6",
         "Yes",
         null,
         null,
         "Hidden Mint/Burn",
         "https://twitter.com/chanceweb3/status/1478549762219466752?ref_src=twsrc%5Etfw%7Ctwcamp%5Etweetembed%7Ctwterm%5E1478549762219466752%7Ctwgr%5E%7Ctwcon%5Es1"
        ],
        [
         "37",
         "MetaDAO",
         "ETH",
         "0X6795A9603E9992417560479B07BA04C5F0DD79E4",
         "Yes",
         "Amount Restrict",
         null,
         null,
         "https://de.fi/rekt-database/metadao"
        ],
        [
         "38",
         "Snowdog DAO",
         "Cchain",
         "0XDE9E52F1838951E4D2BB6C59723B003C353979B6",
         "Yes",
         null,
         null,
         "Hidden Mint/Burn",
         "https://de.fi/rekt-database/snowdog"
        ],
        [
         "39",
         "METAMOONMARS",
         "BSC",
         "0X8ED9C7E4D8DFE480584CC7EF45742AC302BA27D7",
         "Yes",
         null,
         "Modifiable Tax Rate",
         null,
         "https://de.fi/rekt-database/metamoonmars"
        ],
        [
         "41",
         "Jumpnfinance",
         "BSC",
         "0X3CCBCB3668D409672454D267402622FBE59A1315",
         "Yes",
         "Amount Restrict",
         "Modifiable Tax Rate",
         null,
         "https://twitter.com/PeckShieldAlert/status/1579049576451174400"
        ],
        [
         "43",
         "Magnate Finance",
         "BASE",
         "0X2DC1CDA9186A4993BD36DE60D08787C0C382BEAD",
         "Yes",
         null,
         null,
         "Hidden Mint/Burn",
         "https://de.fi/rekt-database/magnate_finance"
        ],
        [
         "46",
         "PIPI",
         "BSC",
         "0X158F194CE44954AD8B6161ACD1802898716D0B84",
         "Yes",
         "Address Restrict,Amount Restrict",
         null,
         null,
         "https://de.fi/rekt-database/pipi"
        ],
        [
         "51",
         "Frosties",
         "ETH",
         "0X3C99F2A4B366D46BCF2277639A135A6D1288ECEB",
         "Yes",
         "Address Restrict",
         null,
         "Hidden Mint/Eurn",
         "https://de.fi/rekt-database/frosties"
        ],
        [
         "83",
         "LoopXNetwork",
         "BSC",
         "0XB3B361BA28B1058F2DBDFBBB5BB3B98CF46B4540",
         "Yes",
         null,
         "Modifiable Tax Rate",
         null,
         "https://de.fi/rekt-database/Loop%20X%20Network"
        ],
        [
         "93",
         "NFTCrossChain",
         "BSC",
         "0X0ED30FE8FD51C593B077315A6CB60A9FB9B15155",
         "Yes",
         null,
         "Modifiable Tax Rate",
         null,
         "https://de.fi/rekt-database/NFT%20Cross%20Chain"
        ],
        [
         "121",
         "BOB",
         "ETH",
         "0XDF347911910B6C9A4286BA8E2EE5EA4A39EB2134",
         "Yes",
         null,
         "Modifiable Tax Rate",
         null,
         "https://de.fi/rekt-database/Bob%60s%20repair"
        ],
        [
         "123",
         "poolz",
         "BSC",
         "0X77018282FD033DAF370337A5367E62D8811BC885",
         "Yes",
         "Amount Restrict",
         null,
         null,
         "https://de.fi/rekt-database/Poolz%20Finance"
        ],
        [
         "124",
         "DOGE Twitter Token",
         "BSC",
         "0X1F528EA4D5D0BF9E78A15DB65AE07953EDC6EDF6",
         "No",
         "Address Restrict,Amount Restrict",
         "Modifiable Tax Rate",
         null,
         "https://de.fi/rekt-database/Doge%20Twitter%20Token"
        ],
        [
         "131",
         "DefiWzToken(DEFIWZ)",
         "BSC",
         "0X4ADDRESS RESTRICT0B4F1CF33565C459CFB6D838BBBBFF8F9",
         "Yes",
         null,
         "Modifiable Tax Rate",
         null,
         "https://de.fi/rekt-database/DeFi%20WZ%20Token"
        ],
        [
         "141",
         "Fake ether.fi",
         "ETH",
         "0X7C86CCF95355CDAE1CC5C435114D84E9BEDB0841",
         "No",
         null,
         null,
         "Hidden Mint/Burn",
         "https://de.fi/rekt-database/Fake ether.fi"
        ],
        [
         "144",
         "Not Found",
         "ETH",
         "0X070669E366727369064633EF5702107D73CEE0E5",
         "Yes",
         null,
         null,
         "Hidden Mint/Burn",
         "https://de.fi/rekt-database/Not Found"
        ],
        [
         "178",
         "Friendchips.tech",
         "ETH",
         "0X082D7215FDFA70D969D7FB5E783F8FE86A463330",
         "No",
         null,
         "Modifiable Tax Rate",
         "Hidden Mint/Burn",
         "https://de.fi/rekt-database/Friendchips.tech"
        ],
        [
         "180",
         "BabyShia",
         "ETH",
         "0X846422103B109EFBE7DD15F541C3DFC838FC1848",
         "Yes",
         null,
         null,
         "Hidden Mint/Burn",
         "https://de.fi/rekt-database/BabyShia"
        ],
        [
         "193",
         "BabyShiba2.0",
         "BSC",
         "0XC8CBE83ED79CF762B74518BE313EA5C1DA0FFF6C",
         "No",
         null,
         null,
         "Hidden Balance Modification",
         "https://de.fi/rekt-database/BabyShiba2.0"
        ],
        [
         "229",
         "Dogecoin 3.0",
         "ETH",
         "0X820BA67398C3EA745EB8766FD3F444A92D4DE316",
         "No",
         "Amount Restrict",
         null,
         null,
         "https://de.fi/rekt-database/Dogecoin 3.0"
        ],
        [
         "230",
         "Boring Nakas",
         "ETH",
         "0XF30A9CD4CD1FD9EA3270AFCECDE5FECE34BC4ACA",
         "Yes",
         "Address Restrict,Amount Restrict",
         null,
         null,
         "https://de.fi/rekt-database/Boring Nakas"
        ],
        [
         "234",
         "CLOUD NFT",
         "BSC",
         "0X4A4ED2069ACE9D0835A03716174C3C8F8882DC93",
         "Yes",
         "Address Restrict",
         null,
         "Hidden Mint/Burn,Hidden Balance Modification",
         "https://de.fi/rekt-database/CLOUD NFT"
        ],
        [
         "235",
         "TWEETY-MEGA-FUMO",
         "ETH",
         "0X6F5BAFFFC6BF7E17E9FDB2DDAE79AEE976CA0DD1",
         "Yes",
         "Address Restrict",
         null,
         "Hidden Mint/Burn",
         "https://de.fi/rekt-database/TWEETY-MEGA-FUMO"
        ],
        [
         "240",
         "Midgets Token",
         "ETH",
         "0X917216459430B99034767416C21F54F82ABB5DB6",
         "Yes",
         null,
         null,
         "Hidden Mint/Burn",
         "https://de.fi/rekt-database/Midgets Token"
        ],
        [
         "247",
         "Mother",
         "BSC",
         "0XC3602D8D7301A69B8E36AC438B911FBE4F8A37B3",
         "Yes",
         "Address Restrict",
         null,
         "Hidden Mint/Burn",
         "https://de.fi/rekt-database/Mother"
        ],
        [
         "248",
         "Linda Yaccarino",
         "BSC",
         "0X8883FA1D06B1653B08557F90F19C92B86C382CFB",
         "Yes",
         "Address Restrict",
         null,
         "Hidden Mint/Burn",
         "https://de.fi/rekt-database/Linda Yaccarino"
        ],
        [
         "251",
         "Void.Cash",
         "ETH",
         "0X37CD4E8875E3EDAFFDFE9BE63958F07EFFBD0BFD",
         "No",
         "Amount Restrict",
         null,
         "Hidden Mint/Burn",
         "https://de.fi/rekt-database/Void.Cash"
        ],
        [
         "276",
         "Friendsies",
         "ETH",
         "0XE5AF63234F93AFD72A8B9114803E33F6D9766956",
         "Yes",
         null,
         "Modifiable External Call",
         null,
         "https://de.fi/rekt-database/Friendsies"
        ],
        [
         "280",
         "AkiInuToken",
         "BSC",
         "0X4B6CB2BF1F0B594D0211C4DF2B0DD1AA4C7A1892",
         "Yes",
         "Amount Restrict",
         "Modifiable Tax Rate",
         null,
         "https://de.fi/rekt-database/AkiInuToken"
        ],
        [
         "286",
         "BONK Inu",
         "Polygon",
         "0X5F594C5FE7D5688F1CC5DF2869D6019DFD99A208",
         "Yes",
         "Address Restrict,Amount Restrict",
         null,
         "Hidden Mint/Burn",
         "https://de.fi/rekt-database/BONK Inu"
        ],
        [
         "304",
         "AniMoon",
         "ETH",
         "0X988A3E9834F1A4977E6F727E18EA167089349BA2",
         "Yes",
         null,
         null,
         "Hidden Mint/Burn",
         "https://de.fi/rekt-database/AniMoon"
        ],
        [
         "305",
         "Blizz Finance",
         "Avax",
         "0X0F34919404A290E71FC6A510CB4A6ACB8D764B24",
         "Yes",
         null,
         null,
         "Hidden Mint/Burn",
         "https://de.fi/rekt-database/Blizz Finance"
        ],
        [
         "308",
         "Miss Universe NFT",
         "ETH",
         "0XA048C212449C68EAAF866309C1202DB7AB512C5C",
         "Yes",
         "Amount Restrict",
         null,
         "\n",
         "https://de.fi/rekt-database/Miss Universe NFT"
        ],
        [
         "313",
         "Squid Game",
         "BSC",
         " 0X9531C509A24CEEC710529645FC347341FF9F15EA",
         "Yes",
         null,
         "Modifiable External Call",
         null,
         "https://de.fi/rekt-database/Squid Game"
        ],
        [
         "315",
         "Mystery",
         "Fantom",
         "0X3308CECCE12518ED1A075BBD4ECA20273B5B8FF1",
         "Yes",
         null,
         null,
         "\nHidden Mint/Burn",
         "https://de.fi/rekt-database/Mystery"
        ],
        [
         "316",
         "FlokiFarmToken",
         "Fantom",
         "0X710122026BF280F3C99A829F33E9FA4D8DF73DC0",
         "Yes",
         null,
         null,
         "Hidden Mint/Burn",
         "https://de.fi/rekt-database/FlokiFarmToken"
        ],
        [
         "318",
         "AwakenedToken",
         "Fantom",
         "0X98CB26FC9BC01FABEAE0A6ACD661D8BBBBB863BE",
         "Yes",
         null,
         null,
         "Hidden Mint/Burn",
         "https://de.fi/rekt-database/AwakenedToken"
        ],
        [
         "319",
         "LionKingToken",
         "Fantom",
         "0XBDCFC20EB75D52E6A408ABA5E16E8999B18A2653",
         "Yes",
         null,
         null,
         "\nHidden Mint/Burn",
         "https://de.fi/rekt-database/LionKingToken"
        ],
        [
         "320",
         "Polyrock Finance",
         "Polygon",
         "0X72F9EBC0BA6D64603621469258E6687F2C4921DA",
         "Yes",
         null,
         null,
         "\nHidden Mint/Burn",
         "https://de.fi/rekt-database/Polyrock Finance"
        ],
        [
         "321",
         "PolyRainbowToken",
         "Polygon",
         "0XF093B0E654EC92BF0C2ABC0D94E4A7E673FD03D4",
         "Yes",
         null,
         null,
         "Hidden Mint/Burn",
         "https://de.fi/rekt-database/PolyRainbowToken"
        ],
        [
         "322",
         "Evolved Apes",
         "ETH",
         "0X233A65B06EF83CCF2FD58832086DD782F9DA1642",
         "Yes",
         null,
         null,
         "Hidden Mint/Burn",
         "https://de.fi/rekt-database/Evolved Apes"
        ],
        [
         "323",
         "Symmetry.Markets",
         "BSC",
         "0X67B537ABE7187E357D67593AA7A46806D0275389",
         "Yes",
         null,
         null,
         "\nHidden Mint/Burn",
         "https://de.fi/rekt-database/Symmetry.Markets"
        ],
        [
         "324",
         "PolarBearToken",
         "Polygon",
         "0XA2EB9E826D66D8399AD4B75D01DA8F30AE29EF8B",
         "Yes",
         null,
         null,
         "Hidden Mint/Burn",
         "https://de.fi/rekt-database/PolarBearToken"
        ]
       ],
       "shape": {
        "columns": 8,
        "rows": 273
       }
      },
      "text/html": [
       "<div>\n",
       "<style scoped>\n",
       "    .dataframe tbody tr th:only-of-type {\n",
       "        vertical-align: middle;\n",
       "    }\n",
       "\n",
       "    .dataframe tbody tr th {\n",
       "        vertical-align: top;\n",
       "    }\n",
       "\n",
       "    .dataframe thead th {\n",
       "        text-align: right;\n",
       "    }\n",
       "</style>\n",
       "<table border=\"1\" class=\"dataframe\">\n",
       "  <thead>\n",
       "    <tr style=\"text-align: right;\">\n",
       "      <th></th>\n",
       "      <th>Project Name</th>\n",
       "      <th>Chain</th>\n",
       "      <th>Address</th>\n",
       "      <th>Open Source</th>\n",
       "      <th>Sale Restrict</th>\n",
       "      <th>Variable Manipulation</th>\n",
       "      <th>Balance Tamper</th>\n",
       "      <th>Source</th>\n",
       "    </tr>\n",
       "  </thead>\n",
       "  <tbody>\n",
       "    <tr>\n",
       "      <th>1</th>\n",
       "      <td>PokémonFi</td>\n",
       "      <td>BSC</td>\n",
       "      <td>0X2753DCE37A7EDB052A77832039BCC9AA49AD8B25</td>\n",
       "      <td>Yes</td>\n",
       "      <td>Address Restrict</td>\n",
       "      <td>NaN</td>\n",
       "      <td>NaN</td>\n",
       "      <td>https://twitter.com/CertiKAlert/status/1562555...</td>\n",
       "    </tr>\n",
       "    <tr>\n",
       "      <th>2</th>\n",
       "      <td>PokémonFi</td>\n",
       "      <td>BSC</td>\n",
       "      <td>0X0AA5CAE4D1C9230543542E998E04EA795EEDF738</td>\n",
       "      <td>Yes</td>\n",
       "      <td>Address Restrict</td>\n",
       "      <td>NaN</td>\n",
       "      <td>NaN</td>\n",
       "      <td>https://twitter.com/CertiKAlert/status/1562555...</td>\n",
       "    </tr>\n",
       "    <tr>\n",
       "      <th>12</th>\n",
       "      <td>NEKOGOLD</td>\n",
       "      <td>BSC</td>\n",
       "      <td>0X4534A3DF5BFCEDAABD2F3F557271F42B7BD57543</td>\n",
       "      <td>No</td>\n",
       "      <td>NaN</td>\n",
       "      <td>NaN</td>\n",
       "      <td>Hidden Mint/Burn</td>\n",
       "      <td>https://twitter.com/PeckShieldAlert/status/153...</td>\n",
       "    </tr>\n",
       "    <tr>\n",
       "      <th>17</th>\n",
       "      <td>NFTflow</td>\n",
       "      <td>ETH</td>\n",
       "      <td>0X253954D29386E174ED4BC69902391A8ED3FD51CA</td>\n",
       "      <td>Yes</td>\n",
       "      <td>NaN</td>\n",
       "      <td>NaN</td>\n",
       "      <td>Hidden Mint/Burn</td>\n",
       "      <td>https://de.fi/rekt-database/nftflow</td>\n",
       "    </tr>\n",
       "    <tr>\n",
       "      <th>19</th>\n",
       "      <td>Lucky star Currency Token</td>\n",
       "      <td>BSC</td>\n",
       "      <td>0X2B3559C3DBDB294CBB71F2B30A693F4C6BE6132D</td>\n",
       "      <td>Yes</td>\n",
       "      <td>Address Restrict</td>\n",
       "      <td>NaN</td>\n",
       "      <td>Hidden Balance Modification</td>\n",
       "      <td>https://x.com/BeosinAlert/status/1711268989450...</td>\n",
       "    </tr>\n",
       "    <tr>\n",
       "      <th>...</th>\n",
       "      <td>...</td>\n",
       "      <td>...</td>\n",
       "      <td>...</td>\n",
       "      <td>...</td>\n",
       "      <td>...</td>\n",
       "      <td>...</td>\n",
       "      <td>...</td>\n",
       "      <td>...</td>\n",
       "    </tr>\n",
       "    <tr>\n",
       "      <th>672</th>\n",
       "      <td>Yearn Prometheus</td>\n",
       "      <td>ETH</td>\n",
       "      <td>0X528FF33BF5BF96B5392C10BC4748D9E9FB5386B2</td>\n",
       "      <td>Yes</td>\n",
       "      <td>Address Restrict</td>\n",
       "      <td>NaN</td>\n",
       "      <td>NaN</td>\n",
       "      <td>https://de.fi/rekt-database/Yearn Prometheus</td>\n",
       "    </tr>\n",
       "    <tr>\n",
       "      <th>673</th>\n",
       "      <td>Goblin Town</td>\n",
       "      <td>ETH</td>\n",
       "      <td>0XBB7F05AA2DD33425EA0848CDA8E4EA54718C6336</td>\n",
       "      <td>Yes</td>\n",
       "      <td>Address Restrict</td>\n",
       "      <td>NaN</td>\n",
       "      <td>NaN</td>\n",
       "      <td>https://de.fi/rekt-database/Goblin Town</td>\n",
       "    </tr>\n",
       "    <tr>\n",
       "      <th>674</th>\n",
       "      <td>NoVASHIBA.COM</td>\n",
       "      <td>BSC</td>\n",
       "      <td>0X68CA1321BF1BF6B243F57C5EDBEE62304FD8CB30</td>\n",
       "      <td>No</td>\n",
       "      <td>Address Restrict</td>\n",
       "      <td>NaN</td>\n",
       "      <td>NaN</td>\n",
       "      <td>https://de.fi/rekt-database/NoVASHIBA.COM</td>\n",
       "    </tr>\n",
       "    <tr>\n",
       "      <th>675</th>\n",
       "      <td>Moonwalk</td>\n",
       "      <td>BSC</td>\n",
       "      <td>0XE64F4A5C364A92AB62E27076907D55334609C8AD</td>\n",
       "      <td>Yes</td>\n",
       "      <td>Address Restrict</td>\n",
       "      <td>NaN</td>\n",
       "      <td>NaN</td>\n",
       "      <td>https://de.fi/rekt-database/Moonwalk</td>\n",
       "    </tr>\n",
       "    <tr>\n",
       "      <th>679</th>\n",
       "      <td>Uranus Token</td>\n",
       "      <td>ETH</td>\n",
       "      <td>0X68B48E978FB4748B9D67F520DB1DF2E9CBD437AB</td>\n",
       "      <td>Yes</td>\n",
       "      <td>Address Restrict</td>\n",
       "      <td>NaN</td>\n",
       "      <td>NaN</td>\n",
       "      <td>https://de.fi/rekt-database/Uranus Token</td>\n",
       "    </tr>\n",
       "  </tbody>\n",
       "</table>\n",
       "<p>273 rows × 8 columns</p>\n",
       "</div>"
      ],
      "text/plain": [
       "                  Project Name Chain  \\\n",
       "1                    PokémonFi   BSC   \n",
       "2                    PokémonFi   BSC   \n",
       "12                    NEKOGOLD   BSC   \n",
       "17                     NFTflow   ETH   \n",
       "19   Lucky star Currency Token   BSC   \n",
       "..                         ...   ...   \n",
       "672           Yearn Prometheus   ETH   \n",
       "673                Goblin Town   ETH   \n",
       "674              NoVASHIBA.COM   BSC   \n",
       "675                   Moonwalk   BSC   \n",
       "679               Uranus Token   ETH   \n",
       "\n",
       "                                        Address Open Source     Sale Restrict  \\\n",
       "1    0X2753DCE37A7EDB052A77832039BCC9AA49AD8B25         Yes  Address Restrict   \n",
       "2    0X0AA5CAE4D1C9230543542E998E04EA795EEDF738         Yes  Address Restrict   \n",
       "12   0X4534A3DF5BFCEDAABD2F3F557271F42B7BD57543          No               NaN   \n",
       "17   0X253954D29386E174ED4BC69902391A8ED3FD51CA         Yes               NaN   \n",
       "19   0X2B3559C3DBDB294CBB71F2B30A693F4C6BE6132D         Yes  Address Restrict   \n",
       "..                                          ...         ...               ...   \n",
       "672  0X528FF33BF5BF96B5392C10BC4748D9E9FB5386B2         Yes  Address Restrict   \n",
       "673  0XBB7F05AA2DD33425EA0848CDA8E4EA54718C6336         Yes  Address Restrict   \n",
       "674  0X68CA1321BF1BF6B243F57C5EDBEE62304FD8CB30          No  Address Restrict   \n",
       "675  0XE64F4A5C364A92AB62E27076907D55334609C8AD         Yes  Address Restrict   \n",
       "679  0X68B48E978FB4748B9D67F520DB1DF2E9CBD437AB         Yes  Address Restrict   \n",
       "\n",
       "    Variable Manipulation               Balance Tamper  \\\n",
       "1                     NaN                          NaN   \n",
       "2                     NaN                          NaN   \n",
       "12                    NaN             Hidden Mint/Burn   \n",
       "17                    NaN             Hidden Mint/Burn   \n",
       "19                    NaN  Hidden Balance Modification   \n",
       "..                    ...                          ...   \n",
       "672                   NaN                          NaN   \n",
       "673                   NaN                          NaN   \n",
       "674                   NaN                          NaN   \n",
       "675                   NaN                          NaN   \n",
       "679                   NaN                          NaN   \n",
       "\n",
       "                                                Source  \n",
       "1    https://twitter.com/CertiKAlert/status/1562555...  \n",
       "2    https://twitter.com/CertiKAlert/status/1562555...  \n",
       "12   https://twitter.com/PeckShieldAlert/status/153...  \n",
       "17                 https://de.fi/rekt-database/nftflow  \n",
       "19   https://x.com/BeosinAlert/status/1711268989450...  \n",
       "..                                                 ...  \n",
       "672       https://de.fi/rekt-database/Yearn Prometheus  \n",
       "673            https://de.fi/rekt-database/Goblin Town  \n",
       "674          https://de.fi/rekt-database/NoVASHIBA.COM  \n",
       "675               https://de.fi/rekt-database/Moonwalk  \n",
       "679           https://de.fi/rekt-database/Uranus Token  \n",
       "\n",
       "[273 rows x 8 columns]"
      ]
     },
     "execution_count": 113,
     "metadata": {},
     "output_type": "execute_result"
    }
   ],
   "source": [
    "address_is_not_in_normal_n_rug = total_df[~total_df['Address'].str.lower().isin(normal_bytecode_df['Address'].str.lower()) & ~total_df['Address'].str.lower().isin(rug_bytecode_df['Address'].str.lower())]\n",
    "address_is_not_in_normal_n_rug"
   ]
  },
  {
   "cell_type": "code",
   "execution_count": 115,
   "id": "8f529705",
   "metadata": {},
   "outputs": [
    {
     "data": {
      "application/vnd.microsoft.datawrangler.viewer.v0+json": {
       "columns": [
        {
         "name": "index",
         "rawType": "int64",
         "type": "integer"
        },
        {
         "name": "Project Name",
         "rawType": "object",
         "type": "string"
        },
        {
         "name": "Chain",
         "rawType": "object",
         "type": "string"
        },
        {
         "name": "Address",
         "rawType": "object",
         "type": "string"
        },
        {
         "name": "Open Source",
         "rawType": "object",
         "type": "string"
        },
        {
         "name": "Sale Restrict",
         "rawType": "object",
         "type": "unknown"
        },
        {
         "name": "Variable Manipulation",
         "rawType": "object",
         "type": "string"
        },
        {
         "name": "Balance Tamper",
         "rawType": "object",
         "type": "unknown"
        },
        {
         "name": "Source",
         "rawType": "object",
         "type": "string"
        }
       ],
       "ref": "c056f788-e95a-4df7-b79a-caf8e663d04b",
       "rows": [
        [
         "414",
         "Squid Game",
         "BSC",
         " 0X9531C509A24CEEC710529645FC347341FF9F15EA",
         "Yes",
         null,
         "Modifiable External Call",
         null,
         "https://de.fi/rekt-database/Squid Game"
        ]
       ],
       "shape": {
        "columns": 8,
        "rows": 1
       }
      },
      "text/html": [
       "<div>\n",
       "<style scoped>\n",
       "    .dataframe tbody tr th:only-of-type {\n",
       "        vertical-align: middle;\n",
       "    }\n",
       "\n",
       "    .dataframe tbody tr th {\n",
       "        vertical-align: top;\n",
       "    }\n",
       "\n",
       "    .dataframe thead th {\n",
       "        text-align: right;\n",
       "    }\n",
       "</style>\n",
       "<table border=\"1\" class=\"dataframe\">\n",
       "  <thead>\n",
       "    <tr style=\"text-align: right;\">\n",
       "      <th></th>\n",
       "      <th>Project Name</th>\n",
       "      <th>Chain</th>\n",
       "      <th>Address</th>\n",
       "      <th>Open Source</th>\n",
       "      <th>Sale Restrict</th>\n",
       "      <th>Variable Manipulation</th>\n",
       "      <th>Balance Tamper</th>\n",
       "      <th>Source</th>\n",
       "    </tr>\n",
       "  </thead>\n",
       "  <tbody>\n",
       "    <tr>\n",
       "      <th>414</th>\n",
       "      <td>Squid Game</td>\n",
       "      <td>BSC</td>\n",
       "      <td>0X9531C509A24CEEC710529645FC347341FF9F15EA</td>\n",
       "      <td>Yes</td>\n",
       "      <td>NaN</td>\n",
       "      <td>Modifiable External Call</td>\n",
       "      <td>NaN</td>\n",
       "      <td>https://de.fi/rekt-database/Squid Game</td>\n",
       "    </tr>\n",
       "  </tbody>\n",
       "</table>\n",
       "</div>"
      ],
      "text/plain": [
       "    Project Name Chain                                      Address  \\\n",
       "414   Squid Game   BSC   0X9531C509A24CEEC710529645FC347341FF9F15EA   \n",
       "\n",
       "    Open Source Sale Restrict     Variable Manipulation Balance Tamper  \\\n",
       "414         Yes           NaN  Modifiable External Call            NaN   \n",
       "\n",
       "                                     Source  \n",
       "414  https://de.fi/rekt-database/Squid Game  "
      ]
     },
     "execution_count": 115,
     "metadata": {},
     "output_type": "execute_result"
    }
   ],
   "source": [
    "address_is_not_in_normal_n_rug_exp = experiment_df[~experiment_df['Address'].str.lower().isin(normal_bytecode_df['Address'].str.lower()) & ~experiment_df['Address'].str.lower().isin(rug_bytecode_df['Address'].str.lower())]\n",
    "address_is_not_in_normal_n_rug_exp"
   ]
  },
  {
   "cell_type": "code",
   "execution_count": 141,
   "id": "036fec34",
   "metadata": {},
   "outputs": [
    {
     "name": "stdout",
     "output_type": "stream",
     "text": [
      "🔍 Searching for: 0x9531c509a24ceec710529645fc347341ff9f15ea.hex\n",
      "🔍 Searching for: 0x2753dce37a7edb052a77832039bcc9aa49ad8b25.hex\n",
      "📦 Copying: /Users/napatcholthaipanich/Dev/master/dissertation/workspace/ml/data/external/crpwarner/groundtruth/hex/0x2753dcE37A7eDB052a77832039bcc9aA49Ad8b25.hex → /Users/napatcholthaipanich/Dev/master/dissertation/workspace/ml/data/external/rphunter/Rug-Bytecode/0x2753dcE37A7eDB052a77832039bcc9aA49Ad8b25.hex\n",
      "📦 Copying: /Users/napatcholthaipanich/Dev/master/dissertation/EarlyDeliverable/sandbox/CRPWarner/complete_dataset/CRPWarner/dataset/groundtruth/hex/0x2753dcE37A7eDB052a77832039bcc9aA49Ad8b25.hex → /Users/napatcholthaipanich/Dev/master/dissertation/workspace/ml/data/external/rphunter/Rug-Bytecode/0x2753dcE37A7eDB052a77832039bcc9aA49Ad8b25.hex\n",
      "🔍 Searching for: 0x0aa5cae4d1c9230543542e998e04ea795eedf738.hex\n",
      "🔍 Searching for: 0x4534a3df5bfcedaabd2f3f557271f42b7bd57543.hex\n",
      "🔍 Searching for: 0x253954d29386e174ed4bc69902391a8ed3fd51ca.hex\n",
      "🔍 Searching for: 0x2b3559c3dbdb294cbb71f2b30a693f4c6be6132d.hex\n",
      "🔍 Searching for: 0x7172b87400b850069c425ecd18f2c2553b7fb479.hex\n",
      "🔍 Searching for: 0xbc7cb585346f4f59d07121bb9ed7358076243539.hex\n",
      "🔍 Searching for: 0x9372b371196751dd2f603729ae8d8014bbeb07f6.hex\n",
      "📦 Copying: /Users/napatcholthaipanich/Dev/master/dissertation/workspace/ml/data/external/crpwarner/groundtruth/hex/0x9372b371196751dd2F603729Ae8D8014BbeB07f6.hex → /Users/napatcholthaipanich/Dev/master/dissertation/workspace/ml/data/external/rphunter/Rug-Bytecode/0x9372b371196751dd2F603729Ae8D8014BbeB07f6.hex\n",
      "📦 Copying: /Users/napatcholthaipanich/Dev/master/dissertation/EarlyDeliverable/sandbox/CRPWarner/complete_dataset/CRPWarner/dataset/groundtruth/hex/0x9372b371196751dd2F603729Ae8D8014BbeB07f6.hex → /Users/napatcholthaipanich/Dev/master/dissertation/workspace/ml/data/external/rphunter/Rug-Bytecode/0x9372b371196751dd2F603729Ae8D8014BbeB07f6.hex\n",
      "🔍 Searching for: 0x6795a9603e9992417560479b07ba04c5f0dd79e4.hex\n",
      "🔍 Searching for: 0xde9e52f1838951e4d2bb6c59723b003c353979b6.hex\n",
      "📦 Copying: /Users/napatcholthaipanich/Dev/master/dissertation/workspace/ml/data/external/crpwarner/groundtruth/hex/0xdE9E52F1838951e4d2bb6C59723B003c353979b6.hex → /Users/napatcholthaipanich/Dev/master/dissertation/workspace/ml/data/external/rphunter/Rug-Bytecode/0xdE9E52F1838951e4d2bb6C59723B003c353979b6.hex\n",
      "📦 Copying: /Users/napatcholthaipanich/Dev/master/dissertation/EarlyDeliverable/sandbox/CRPWarner/complete_dataset/CRPWarner/dataset/groundtruth/hex/0xdE9E52F1838951e4d2bb6C59723B003c353979b6.hex → /Users/napatcholthaipanich/Dev/master/dissertation/workspace/ml/data/external/rphunter/Rug-Bytecode/0xdE9E52F1838951e4d2bb6C59723B003c353979b6.hex\n",
      "🔍 Searching for: 0x8ed9c7e4d8dfe480584cc7ef45742ac302ba27d7.hex\n",
      "📦 Copying: /Users/napatcholthaipanich/Dev/master/dissertation/workspace/ml/data/external/crpwarner/groundtruth/hex/0x8ed9c7e4d8dfe480584cc7ef45742ac302ba27d7.hex → /Users/napatcholthaipanich/Dev/master/dissertation/workspace/ml/data/external/rphunter/Rug-Bytecode/0x8ed9c7e4d8dfe480584cc7ef45742ac302ba27d7.hex\n",
      "📦 Copying: /Users/napatcholthaipanich/Dev/master/dissertation/EarlyDeliverable/sandbox/CRPWarner/complete_dataset/CRPWarner/dataset/groundtruth/hex/0x8ed9c7e4d8dfe480584cc7ef45742ac302ba27d7.hex → /Users/napatcholthaipanich/Dev/master/dissertation/workspace/ml/data/external/rphunter/Rug-Bytecode/0x8ed9c7e4d8dfe480584cc7ef45742ac302ba27d7.hex\n",
      "🔍 Searching for: 0x3ccbcb3668d409672454d267402622fbe59a1315.hex\n",
      "🔍 Searching for: 0x2dc1cda9186a4993bd36de60d08787c0c382bead.hex\n",
      "🔍 Searching for: 0x158f194ce44954ad8b6161acd1802898716d0b84.hex\n",
      "🔍 Searching for: 0x3c99f2a4b366d46bcf2277639a135a6d1288eceb.hex\n",
      "🔍 Searching for: 0xb3b361ba28b1058f2dbdfbbb5bb3b98cf46b4540.hex\n",
      "🔍 Searching for: 0x0ed30fe8fd51c593b077315a6cb60a9fb9b15155.hex\n",
      "🔍 Searching for: 0xdf347911910b6c9a4286ba8e2ee5ea4a39eb2134.hex\n",
      "🔍 Searching for: 0x77018282fd033daf370337a5367e62d8811bc885.hex\n",
      "🔍 Searching for: 0x1f528ea4d5d0bf9e78a15db65ae07953edc6edf6.hex\n",
      "🔍 Searching for: 0x4address restrict0b4f1cf33565c459cfb6d838bbbbff8f9.hex\n",
      "🔍 Searching for: 0x7c86ccf95355cdae1cc5c435114d84e9bedb0841.hex\n",
      "🔍 Searching for: 0x070669e366727369064633ef5702107d73cee0e5.hex\n",
      "🔍 Searching for: 0x082d7215fdfa70d969d7fb5e783f8fe86a463330.hex\n",
      "🔍 Searching for: 0x846422103b109efbe7dd15f541c3dfc838fc1848.hex\n",
      "🔍 Searching for: 0xc8cbe83ed79cf762b74518be313ea5c1da0fff6c.hex\n",
      "🔍 Searching for: 0x820ba67398c3ea745eb8766fd3f444a92d4de316.hex\n",
      "🔍 Searching for: 0xf30a9cd4cd1fd9ea3270afcecde5fece34bc4aca.hex\n",
      "🔍 Searching for: 0x4a4ed2069ace9d0835a03716174c3c8f8882dc93.hex\n",
      "🔍 Searching for: 0x6f5bafffc6bf7e17e9fdb2ddae79aee976ca0dd1.hex\n",
      "🔍 Searching for: 0x917216459430b99034767416c21f54f82abb5db6.hex\n",
      "🔍 Searching for: 0xc3602d8d7301a69b8e36ac438b911fbe4f8a37b3.hex\n",
      "🔍 Searching for: 0x8883fa1d06b1653b08557f90f19c92b86c382cfb.hex\n",
      "🔍 Searching for: 0x37cd4e8875e3edaffdfe9be63958f07effbd0bfd.hex\n",
      "🔍 Searching for: 0xe5af63234f93afd72a8b9114803e33f6d9766956.hex\n",
      "🔍 Searching for: 0x4b6cb2bf1f0b594d0211c4df2b0dd1aa4c7a1892.hex\n",
      "🔍 Searching for: 0x5f594c5fe7d5688f1cc5df2869d6019dfd99a208.hex\n",
      "🔍 Searching for: 0x988a3e9834f1a4977e6f727e18ea167089349ba2.hex\n",
      "🔍 Searching for: 0x0f34919404a290e71fc6a510cb4a6acb8d764b24.hex\n",
      "🔍 Searching for: 0xa048c212449c68eaaf866309c1202db7ab512c5c.hex\n",
      "🔍 Searching for: 0x3308cecce12518ed1a075bbd4eca20273b5b8ff1.hex\n",
      "🔍 Searching for: 0x710122026bf280f3c99a829f33e9fa4d8df73dc0.hex\n",
      "🔍 Searching for: 0x98cb26fc9bc01fabeae0a6acd661d8bbbbb863be.hex\n",
      "🔍 Searching for: 0xbdcfc20eb75d52e6a408aba5e16e8999b18a2653.hex\n",
      "🔍 Searching for: 0x72f9ebc0ba6d64603621469258e6687f2c4921da.hex\n",
      "🔍 Searching for: 0xf093b0e654ec92bf0c2abc0d94e4a7e673fd03d4.hex\n",
      "🔍 Searching for: 0x233a65b06ef83ccf2fd58832086dd782f9da1642.hex\n",
      "🔍 Searching for: 0x67b537abe7187e357d67593aa7a46806d0275389.hex\n",
      "🔍 Searching for: 0xa2eb9e826d66d8399ad4b75d01da8f30ae29ef8b.hex\n",
      "🔍 Searching for: 0x15f203e0bf4f86f9c3b4a35be5433f2f9daf2188.hex\n",
      "🔍 Searching for: 0x9da9dc22c7b7d1d38a01ee074ed46a8e10e129ad.hex\n",
      "🔍 Searching for: 0x1193b7059d65873efd8f781d77c60f1b81fe2ab2.hex\n",
      "🔍 Searching for: 0x454329a3a3f7e2b98c47fd0392e863dc6f51567f.hex\n",
      "🔍 Searching for: 0x78aa8f4c712d2be19e75472737e5e0d9ca43763e.hex\n",
      "🔍 Searching for: 0xaf6193aeaffdd9c89d7b3a2bc9a96676328df230.hex\n",
      "🔍 Searching for: 0x4fbdfb60ec6123821d09d645fb94511a93c49f13.hex\n",
      "🔍 Searching for: 0xe007e72142217204041c6bf08e8dc0c9387d3cca.hex\n",
      "🔍 Searching for: 0x7a2efb71a36b387e35e2cc683435727e35c1e978.hex\n",
      "🔍 Searching for: 0x967e7ef78afbb658f1894f4d48fbe82899d5c4e8.hex\n",
      "🔍 Searching for: 0xb183814602773f3156fc149016800f3b913b4c29.hex\n",
      "🔍 Searching for: 0xc38a62ecfcb31a69c9f7e5a39e9d0320d2f6729f.hex\n",
      "🔍 Searching for: 0xe62ae6bf3817196d1122683df1ae4019014dd0b5.hex\n",
      "🔍 Searching for: 0x1c738fc81d6dd69ad0bbc86b23f43265d65d92ce.hex\n",
      "🔍 Searching for: 0x4a6569ff2ca81a37342875d684aeb95e0a6d0534.hex\n",
      "🔍 Searching for: 0x4d0b6356605e6fa95c025a6f6092eccf0cf4317b.hex\n",
      "🔍 Searching for: 0x94ee788d976c680ca22e8782e4584ac60005d033.hex\n",
      "🔍 Searching for: 0xaa7be9e55ca3a1b48dcbe4712e75a95a7d8aac9f.hex\n",
      "🔍 Searching for: 0x9ae2a45c924af622b5155859920fedb469e7faf9.hex\n",
      "🔍 Searching for: 0x9ad36aff5c08f5007e5f1c168f2b958db77ef7c4.hex\n",
      "🔍 Searching for: 0xcfe7127212ff9b45c0bed4aed32aaf30e34e6aca.hex\n",
      "🔍 Searching for: 0x3583c4b76b02e953f0d07bff6603c5f09f439443.hex\n",
      "🔍 Searching for: 0x9c994bd7df0fbda6f3fe3178783face2b18e4dbe.hex\n",
      "🔍 Searching for: 0x65ff69c76f8be20ea4dede0455e89ec456694483.hex\n",
      "🔍 Searching for: 0x4b10b781d7a60c3308359c1f95f12b4d1913892f.hex\n",
      "🔍 Searching for: 0x07e903a1acb9f1d186f284fd4e769c6426791443.hex\n",
      "🔍 Searching for: 0xdca9c8810d8a7bdce68c0aec7d803584a842d3a3.hex\n",
      "🔍 Searching for: 0x387ab2f298937ace3ee44c01f543107768991c0d.hex\n",
      "🔍 Searching for: 0x2d18050ad9d8bb3e760f60d534e13a4c1681385a.hex\n",
      "🔍 Searching for: 0x77df72b1d05bf8f523a59191281619005500f74b.hex\n",
      "🔍 Searching for: 0x96e53d16888e537695d718171d8ebcadc456bbca.hex\n",
      "🔍 Searching for: 0x8319ce36f8cbb1e1dc9e8ea42c166b22ce0c5f99.hex\n",
      "🔍 Searching for: 0xf10e339d581a42a1e456d600b7eec4a88d277234.hex\n",
      "🔍 Searching for: 0x0b667aee8afe91d30e21e44b11fb737426bc3d9a.hex\n",
      "🔍 Searching for: 0xe4a927f41c4708ff4087e12e4acc4301972356af.hex\n",
      "🔍 Searching for: 0x8f30c8cc5c254b2922e50be564beb88a21c4d9d1.hex\n",
      "🔍 Searching for: 0x3d275cb965868c23bb7fa0fd5170239cd31b01cb.hex\n",
      "🔍 Searching for: 0x8c38fb7ab9a344805ecff0294458377fed112e57.hex\n",
      "🔍 Searching for: 0x3a58aa4a8899fd437e87d21b87832e1b743e891c.hex\n",
      "🔍 Searching for: 0x68f33bc57aae271c5d6b75bd95172743bd4d35eb.hex\n",
      "🔍 Searching for: 0x7c5894dc72bca37bb6eed8a9c78adc4ddae482d7.hex\n",
      "🔍 Searching for: 0x815f7f190a472618be2c3dbc54523bdb03faa187.hex\n",
      "🔍 Searching for: 0xb7869e379aaa7c7d30b67ba01ced5da2bb7be14d.hex\n",
      "🔍 Searching for: 0x8e6898d3854e0a2cd3790173be9091b30339d717.hex\n",
      "🔍 Searching for: 0x6710f8085f2eaf9fea2db0008cdc1e1fe7699e5b.hex\n",
      "🔍 Searching for: 0x489e1d5538702f72f0f0a5f764eab50ba8f93cce.hex\n",
      "🔍 Searching for: 0xfb38cf1a9bb63a4936a0a11e4e8b6d076f6110b0.hex\n",
      "🔍 Searching for: 0x318a611c512cdbd65a7a98d93ef82125420ee652.hex\n",
      "🔍 Searching for: 0x5ee8446b060755256002ab40cd24482e12d8a96f.hex\n",
      "🔍 Searching for: 0x569610567f5262b6a9bfdf6b04793a407d8e97c7.hex\n",
      "🔍 Searching for: 0x3b74e4eebdf79d85fe16fd5437d9136fe5232be9.hex\n",
      "🔍 Searching for: 0xdd3f44d093f581370557c2a433529a4a6649c556.hex\n",
      "🔍 Searching for: 0xdf4fe3c10049ee6017ba4a6f6363479187986748.hex\n",
      "🔍 Searching for: 0xa356097644cb4e0bcf939ace69a719849521cd8b.hex\n",
      "🔍 Searching for: 0x84900a5c08ae0201940d76c72ea56f836bd8d8f4.hex\n",
      "🔍 Searching for: 0xf2aa50d892bf476aca7b14c8bf590a8ce65b3282.hex\n",
      "🔍 Searching for: 0x75bd46ff3e3f0bfa1e3400156f91461909a555c6.hex\n",
      "🔍 Searching for: 0xc6cc722b0fcf11ff55b4c329b76d5124b24e18fb.hex\n",
      "🔍 Searching for: 0x67749e090fc7258982fc00d27a2ad708d6f97f44.hex\n",
      "🔍 Searching for: 0x740676fef9f13d499ef890028b065d6282e472e3.hex\n",
      "🔍 Searching for: 0x731812990c96e96060d782a9f1fd1f68650ef1eb.hex\n",
      "🔍 Searching for: 0x4912b5fee159a2073df3566be41610ed0969e7df.hex\n",
      "🔍 Searching for: 0xb63bf77619133edc879e75326c867dc6926b7d2a.hex\n",
      "🔍 Searching for: 0xfa00505ac5ef3b2bb37e421d9146c167d4c3c741.hex\n",
      "🔍 Searching for: 0x7801542a76b116b2d358ada1f5b094bc052f1cb4.hex\n",
      "🔍 Searching for: 0xf9ef4932c713c30345fcc6467a0d855ec8090e0a.hex\n",
      "🔍 Searching for: 0xdf4a607e1f402f4ecd29c45d1347ddfa003b76ac.hex\n",
      "🔍 Searching for: 0x9eaacd7d41fdde61314eeeb61326c06402b9bfe3.hex\n",
      "🔍 Searching for: 0xac8071a2d6b2347751db4b380deb798af95860bc.hex\n",
      "🔍 Searching for: 0x205c23bd79d134f0f76f0b8b58d618c4b9449e84.hex\n",
      "🔍 Searching for: 0x7706ea9d7c59316436660efebb06a428d0c8954d.hex\n",
      "🔍 Searching for: 0x77f7518e4da5240eccc7e5a673e5ff3759ead795.hex\n",
      "🔍 Searching for: 0xb3aec2a1737a94b8458a1b6940412fb9cc41f2b9.hex\n",
      "🔍 Searching for: 0xceb54b80ac921d0de3133d0047b8f75dd1742a9a.hex\n",
      "🔍 Searching for: 0xf573f6cfa6ba5100776a334c24c644b2785794f0.hex\n",
      "🔍 Searching for: 0xa6226c90b58c64611fcc8551228b20557e34f1a9.hex\n",
      "🔍 Searching for: 0x9e3571fbf2c4199c7e4e4167fa897891c56576e0.hex\n",
      "🔍 Searching for: 0xc8e763d7d1fb08e1249a046bbc9e1ca45ff7b9f2.hex\n",
      "🔍 Searching for: 0xedaf4a8e3ca36035094223b37ca9da7f7dde6b1b.hex\n",
      "🔍 Searching for: 0x9b7cf9ec7c92a57858a517824eb57775105dbb9e.hex\n",
      "🔍 Searching for: 0xdff5ae6213b65ad7355c72d19c3c1a3d8c2c78fd.hex\n",
      "🔍 Searching for: 0x702638277cf7464fd815d73322bc6b4d7c6cf3b1.hex\n",
      "🔍 Searching for: 0xd8204b91e4504b132557a055317294b39d96275a.hex\n",
      "🔍 Searching for: 0x8d2fad82aa2962c6a4cd4d172ac74e0f2b64ec8d.hex\n",
      "🔍 Searching for: 0xc5a10bfadc3c4efb317f4cf01a4af9fc83db755f.hex\n",
      "🔍 Searching for: 0xc07afe7d2e7689ada0d0de668b6fc3c981967bde.hex\n",
      "🔍 Searching for: 0x0fabd04f68ff13a72eb1542201a211ee70feba5f.hex\n",
      "🔍 Searching for: 0xf0168d40aafaa078deb86b321941ce35ae5661e9.hex\n",
      "🔍 Searching for: 0x90d7219bfe2dedca9ef5bdf599141f2c6eb36248.hex\n",
      "🔍 Searching for: 0x3c37a717bc49469a9f3adf562dedbdcf3a94a6de.hex\n",
      "🔍 Searching for: 0x2a1c844d7479ba8f9536abc5db680a7c021bcd99.hex\n",
      "🔍 Searching for: 0xfb5833f486679f3e3df0c93c33e6d21fc312913a.hex\n",
      "🔍 Searching for: 0xcfc86a2cf04c3e7c6789540dc796b9c238293945.hex\n",
      "🔍 Searching for: 0x8933864eb758c3f6e02f099e578055d7b1ae85bd.hex\n",
      "🔍 Searching for: 0x55642e8df0153010df8415f0d2e6e4679a1d5d88.hex\n",
      "🔍 Searching for: 0xe0e400617a20adee7b2034324c3fa4c37bce97e8.hex\n",
      "🔍 Searching for: 0x1053fa642c14a9a0f67910fa31819acb48859627.hex\n",
      "🔍 Searching for: 0x703418a72fc982ec157b6388e6e9f2c9e09d96d3.hex\n",
      "🔍 Searching for: 0x77f4977e71b7a9f9d47d895c838136e7cc670c82.hex\n",
      "🔍 Searching for: 0xa12005eda0eb0f83462d39a8452b3b976f926a76.hex\n",
      "🔍 Searching for: 0x26ebcc14842dcc8ab75c09284707e2bbcaddfe5c.hex\n",
      "🔍 Searching for: 0x750363605a07e198bf8ce242e7c522ba6997a29c.hex\n",
      "🔍 Searching for: 0x5512d41616c839042459babb3f969b2c90323633.hex\n",
      "🔍 Searching for: 0xb44d111a55fa1737b8ac7dd8f10b8abb4541d053.hex\n",
      "🔍 Searching for: 0x0725518b659c3640969fc45d891cb845041ed5df.hex\n",
      "🔍 Searching for: 0x4270ca010388f4d119593a9a609669eb2e0fee1a.hex\n",
      "🔍 Searching for: 0x2da04e42d171a720382917cb35966ed45c7039da.hex\n",
      "🔍 Searching for: 0xd66f33f7a51baca6d3d41fe316baadd8622c8131.hex\n",
      "🔍 Searching for: 0x2c082a245d472d9b4f396d11937ffacd5570a486.hex\n",
      "🔍 Searching for: 0x6067042494860178dacb0ab200d5a92f409a2256.hex\n",
      "🔍 Searching for: 0xbb1477d0cf1430b15ed7bf056a7e9de87441fdaf.hex\n",
      "🔍 Searching for: 0x1697198726858f52dd5b1380421f27d567797850.hex\n",
      "🔍 Searching for: 0x6e6fb3a10f73827ceea365543d985493709abc4b.hex\n",
      "🔍 Searching for: 0xa1632f4dae2919634670264aa6e6b7b61b52908c.hex\n",
      "🔍 Searching for: 0x8c2d08ae44e25caad9de36aa726fbc5671e2b081.hex\n",
      "🔍 Searching for: 0x9905c2383008c1c2e5c0650d23ff6f940fa32a28.hex\n",
      "🔍 Searching for: 0xa8a9a6b2a7c4b1ff1e3d2e35cf745d6f6d062e99.hex\n",
      "🔍 Searching for: 0x141ccd27bbca7524dc6b7eea1eb41e097d7e832d.hex\n",
      "🔍 Searching for: 0x23e794d2fa4983c635efd0c02b6ecb8e99ce6879.hex\n",
      "🔍 Searching for: 0x1bfc7d1748843f490f8fcecaa44d608881535cc1.hex\n",
      "🔍 Searching for: 0xf882413338a88f3d41f0df4c31d8ca5d33e3e3d1.hex\n",
      "🔍 Searching for: 0x175ab41e2cedf3919b2e4426c19851223cf51046.hex\n",
      "🔍 Searching for: 0x7c89b9ee3adea9ffb0a25a9f45e2e962b47cb931.hex\n",
      "🔍 Searching for: 0x152ce3dddfabc381ad14c3d1fde07a93eb03f169.hex\n",
      "🔍 Searching for: 0xf3ca45633b2b2c062282ab38de74ead2b76e8800.hex\n",
      "🔍 Searching for: 0xa24c6991ae8bfe3ddb9e00a078455819e85637ff.hex\n",
      "🔍 Searching for: 0x64a27e640f1c2283c803fc10e3181459e2975695.hex\n",
      "🔍 Searching for: 0xa465814a44747fa366bce8d65666b0f39123a99b.hex\n",
      "🔍 Searching for: 0x2210412eb1a95b391b0cd4b475c508a1088c8a55.hex\n",
      "🔍 Searching for: 0x159aad97c625c7eac5ddddbc088c639490b9c55a.hex\n",
      "🔍 Searching for: 0x84e9885be04e14ce7c66a3b270c3e804bf91732e.hex\n",
      "🔍 Searching for: 0xee61921ca013dd3fdc09965e239a9f0035453109.hex\n",
      "🔍 Searching for: 0xffad3dcefa6ac11d2aca3a8bda27e0650b3c1c3e.hex\n",
      "🔍 Searching for: 0xb1f5b0e504c46c1c0d115e4e1ee4c6bdf63f252e.hex\n",
      "🔍 Searching for: 0xfdf9cae8b8b496e7e6145de80821e58fa12747bd.hex\n",
      "🔍 Searching for: 0x558d9e1bd77b22c9ba31222a68f173f55cf55813.hex\n",
      "🔍 Searching for: 0x01fd5ccc564bb79b168f152fb8f1aac76124a018.hex\n",
      "🔍 Searching for: 0x36eea950eb74ca6639f64fb4b16f0adb6844ec72.hex\n",
      "🔍 Searching for: 0x9ce5ffa03e263505547042d2febc11531eb7aa71.hex\n",
      "🔍 Searching for: 0x24b9822aacc8986b2d8f5d4df7fc900a4c108295.hex\n",
      "🔍 Searching for: 0xea04c94ed49327cb52b142eb3aa1c2a656e9a5bc.hex\n",
      "📦 Copying: /Users/napatcholthaipanich/Dev/master/dissertation/workspace/ml/data/external/crpwarner/large/hex/0xea04c94ed49327cb52b142eb3aa1c2a656e9a5bc.hex → /Users/napatcholthaipanich/Dev/master/dissertation/workspace/ml/data/external/rphunter/Rug-Bytecode/0xea04c94ed49327cb52b142eb3aa1c2a656e9a5bc.hex\n",
      "🔍 Searching for: 0x9e0bc04dad42429523fd375b9a0a2384d1738fa0.hex\n",
      "🔍 Searching for: 0x95fc8747eb0246eeb59d9c5df76ec806d77f7b2d.hex\n",
      "🔍 Searching for: 0xfb19cef55cfbb082489a4a79a484353198fec099.hex\n",
      "🔍 Searching for: 0xe5e28532614ec9fc81b1b83404fabb09e6b2b591.hex\n",
      "🔍 Searching for: 0x5e46aa897f7545628fde5aeba7a202547572eb9e.hex\n",
      "🔍 Searching for: 0xf5d0fefaab749d8b14c27f0de60cc6e9e7f848d1.hex\n",
      "🔍 Searching for: 0x2d4effc84fabb4aba0bc16582cd9931498af10e4.hex\n",
      "🔍 Searching for: 0x48445110edc612cd2520f3f48f877817800e792a.hex\n",
      "🔍 Searching for: 0x1ef43a30b70628d0bfe676d036d3b7147b250b51.hex\n",
      "🔍 Searching for: 0x9096236747706f7bffab31578615534ad62ef5c5.hex\n",
      "🔍 Searching for: 0xd9d4467f115effaa0dd3af9749768ebb5d9f06e1.hex\n",
      "🔍 Searching for: 0x099c7ff2783cd9bef5942352084a9d4d5669285d.hex\n",
      "🔍 Searching for: 0xefbb2129a700eb79ad7babe2eab477bcfc95dc38.hex\n",
      "🔍 Searching for: 0x002e53436696821ec06b177ebc24d1765aec08ec.hex\n",
      "🔍 Searching for: 0x485a1703506acbca235d87266322f66694cbc781.hex\n",
      "🔍 Searching for: 0x4846239fdf4d4c1aeb26729fa064b0205aca90e1.hex\n",
      "🔍 Searching for: 0x1b0cf55e3f9f82b9d24deaa4e6cd7239d41f4657.hex\n",
      "🔍 Searching for: 0x1b732a0fa37795aa1833625ec8f66e3b2c2845ac.hex\n",
      "🔍 Searching for: 0x0473033c26ba5e5055b1e2d9fe6916d95922de3b.hex\n",
      "🔍 Searching for: 0x8e1d3ab094c1ee517b34cb2defd0ee9fe7658cea.hex\n",
      "🔍 Searching for: 0xadd1077851588300c8c7d0313e71f4d68e2414d6.hex\n",
      "🔍 Searching for: 0x0209ce3516587cc4a22b54c024b2ee724c117036.hex\n",
      "🔍 Searching for: 0xdba87d3b55fb2ed762d3b43b663ebbe21a8167a6.hex\n",
      "🔍 Searching for: 0x24673e71c9be517d3fa2ff6eef421f7bc0e23b38.hex\n",
      "🔍 Searching for: 0x02f92a9c381bdea49bde29a8277666c73e60c88d.hex\n",
      "🔍 Searching for: 0xccab7c83b1ed8a209130d7ed6ce24a23889b4910.hex\n",
      "🔍 Searching for: 0x81726558d317f234a39b40ef9d6d3bbbcc92cd4a.hex\n",
      "🔍 Searching for: 0x56b52f384ffd3cea09730b04d9342d23b3212ef3.hex\n",
      "🔍 Searching for: 0x735c98ae8cd26b732a23c3889f237c5633b9f997.hex\n",
      "🔍 Searching for: 0xcfe21c71b71ead41cde416cf85f5bb1a8cbbac5e.hex\n",
      "🔍 Searching for: 0xb8acec42a049bceb738928c705eb200e7ebbdade.hex\n",
      "🔍 Searching for: 0xf5a8830d3dacc3d3d53c16ed09e6f808477e592e.hex\n",
      "🔍 Searching for: 0x75e016abe8ed1d1337d24a434bfbc12e7b638e1e.hex\n",
      "🔍 Searching for: 0x66c0dd5a710ba1d9d7ceb51285bc7a93f8f9f9e2.hex\n",
      "🔍 Searching for: 0x066f114ded7685ed047d5fef07b403125a530ddd.hex\n",
      "🔍 Searching for: 0x2df306333b558ffff41cd359d89f952c3d0ff0a1.hex\n",
      "🔍 Searching for: 0x660d00bcb57274c137a8eecbde2c635f0edee91f.hex\n",
      "🔍 Searching for: 0x393eeed02fabca105e74dbaba61b31423e213723.hex\n",
      "🔍 Searching for: 0xc08db636dd6bab586e16b02c8b866511548aa814.hex\n",
      "🔍 Searching for: 0x7a07c67a3b9b6ab30a2ac5cf3a0dbff284613a32.hex\n",
      "🔍 Searching for: 0x0257ffa79592ebffd8fab13ef50f83c2ae7050f0.hex\n",
      "🔍 Searching for: 0x0d2cdfdb3ffd1c866cd4453b985f57f207ee8238.hex\n",
      "🔍 Searching for: 0xfc20df587485748b6f1f764de50d5ce92908d271.hex\n",
      "🔍 Searching for: 0x117bc8f9ce583282a413d90d492ef6ac08723834.hex\n",
      "🔍 Searching for: 0xbb8a43af111b59c7742f36e9cd245357d04059fd.hex\n",
      "📦 Copying: /Users/napatcholthaipanich/Dev/master/dissertation/workspace/ml/data/external/crpwarner/large/hex/0xbb8a43af111b59c7742f36e9cd245357d04059fd.hex → /Users/napatcholthaipanich/Dev/master/dissertation/workspace/ml/data/external/rphunter/Rug-Bytecode/0xbb8a43af111b59c7742f36e9cd245357d04059fd.hex\n",
      "🔍 Searching for: 0xfd0df7b58bd53d1dd4835ecd69a703b4b26f7816.hex\n",
      "🔍 Searching for: 0xa7d51a4c85487d065257d0330eeccdadf93550fe.hex\n",
      "🔍 Searching for: 0x3d3d5cce38afb7a379b2c3175ee56e2dc72cd7c8.hex\n",
      "🔍 Searching for: 0xad3f6438bbf0cd94e42b58ecb461732b03deec69.hex\n",
      "🔍 Searching for: 0x0cc77e575ba11af68743fe5b24d733c2aad9defb.hex\n",
      "🔍 Searching for: 0x6f450f117114075d1d1c91dd64a61c0ba72ca68f.hex\n",
      "🔍 Searching for: 0x78b039921e84e726eb72e7b1212bb35504c645ca.hex\n",
      "📦 Copying: /Users/napatcholthaipanich/Dev/master/dissertation/workspace/ml/data/external/crpwarner/large/hex/0x78b039921e84e726eb72e7b1212bb35504c645ca.hex → /Users/napatcholthaipanich/Dev/master/dissertation/workspace/ml/data/external/rphunter/Rug-Bytecode/0x78b039921e84e726eb72e7b1212bb35504c645ca.hex\n",
      "📦 Copying: /Users/napatcholthaipanich/Dev/master/dissertation/EarlyDeliverable/sandbox/CRPWarner/complete_dataset/CRPWarner/dataset/large/hex/0x78b039921e84e726eb72e7b1212bb35504c645ca.hex → /Users/napatcholthaipanich/Dev/master/dissertation/workspace/ml/data/external/rphunter/Rug-Bytecode/0x78b039921e84e726eb72e7b1212bb35504c645ca.hex\n",
      "🔍 Searching for: 0x541e88059a4eff35edc8c38bb5a1e7495472288c.hex\n",
      "🔍 Searching for: 0x38facb2a78e0956146450d7a727495820f29782b.hex\n",
      "🔍 Searching for: 0x8b7d11bd5640ee5c3503b38b5fcd3f50f7a6e08c.hex\n",
      "🔍 Searching for: 0x2c9539d6eaf866ecd0ce3f41172da3c59baf3037.hex\n",
      "🔍 Searching for: 0x96f4c9e40af2fe5d78f3f41d06208146573ffb8f.hex\n",
      "🔍 Searching for: 0x8fa269b6da92482c49849140a415beb279aaf2d2.hex\n",
      "🔍 Searching for: 0xc1872ad6b6bf2953fdd6e07c3437cbe64eddb030.hex\n",
      "🔍 Searching for: 0x6cc3e5f6f8909d0b45a97c13366321b2029af8f0.hex\n",
      "🔍 Searching for: 0x55e86b96e37d41bb10bd145541daf7a46a8c8296.hex\n",
      "🔍 Searching for: 0xd16404d3e5bda0ec647806121e9c73dbbafec105.hex\n",
      "🔍 Searching for: 0x35485a8182cd2ea9b7007c35d79f5b17d3699a58.hex\n",
      "🔍 Searching for: 0xc9941547630feed27426a00cb513469fecfc5ec9.hex\n",
      "🔍 Searching for: 0xfcb8e535320ab4592b8d9d773a61ee40cd35e434.hex\n",
      "🔍 Searching for: 0xb67053a31e3b9075859d8d3d807667bc27fe7544.hex\n",
      "🔍 Searching for: 0xd62ba48bee2ecfb4955a871c77c755f1c2f48a7c.hex\n",
      "🔍 Searching for: 0x8afbe61b793b327dda8d94b9caadd1974cad411a.hex\n",
      "🔍 Searching for: 0x7789970d45cee071f4cbf158f9d0555298bf36e5.hex\n",
      "🔍 Searching for: 0x7dddcb8d93438500c42c199b6b02ba3f74c7cb8c.hex\n",
      "🔍 Searching for: 0x64ad2e053c1b0546381bc4fa06ea3e74c791d9d5.hex\n",
      "🔍 Searching for: 0x5d762f76b9e91f71cc4f94391bdfe6333db8519c.hex\n",
      "🔍 Searching for: 0xa9c4a2852eeb43b0a27592e5e86b64db55040d79.hex\n",
      "🔍 Searching for: 0x93393b446f3073eb0ba5f85524ca04030ba5d39a.hex\n",
      "🔍 Searching for: 0x675f6e3a0abe9014d7d1dbe0ae565b9256b45303.hex\n",
      "🔍 Searching for: 0x5551a1db922b90bffb881241ef6c681fc9bdfb2b.hex\n",
      "🔍 Searching for: 0x6efa299eb78161aca289f97b5410b343cce38c05.hex\n",
      "🔍 Searching for: 0x528ff33bf5bf96b5392c10bc4748d9e9fb5386b2.hex\n",
      "🔍 Searching for: 0xbb7f05aa2dd33425ea0848cda8e4ea54718c6336.hex\n",
      "🔍 Searching for: 0x68ca1321bf1bf6b243f57c5edbee62304fd8cb30.hex\n",
      "🔍 Searching for: 0xe64f4a5c364a92ab62e27076907d55334609c8ad.hex\n",
      "🔍 Searching for: 0x68b48e978fb4748b9d67f520db1df2e9cbd437ab.hex\n"
     ]
    }
   ],
   "source": [
    "import shutil\n",
    "\n",
    "# Set source search root and destination folder\n",
    "project_root = Path.home() / \"Dev/master/dissertation\"  # update if needed\n",
    "destination_dir = Path.home() / \"Dev/master/dissertation/workspace/ml/data/external/rphunter/Rug-Bytecode\"\n",
    "\n",
    "# Combine both address lists\n",
    "all_addresses = pd.concat([\n",
    "    address_is_not_in_normal_n_rug_exp['Address'],\n",
    "    address_is_not_in_normal_n_rug['Address']\n",
    "]).drop_duplicates().str.lower().str.strip()\n",
    "\n",
    "for address in all_addresses:\n",
    "    print(f\"🔍 Searching for: {address}.hex\")\n",
    "\n",
    "    result = subprocess.run(\n",
    "        ['find', str(project_root), '-iname', f'*{address}*.hex'],\n",
    "        stdout=subprocess.PIPE,\n",
    "        stderr=subprocess.PIPE,\n",
    "        text=True\n",
    "    )\n",
    "\n",
    "\n",
    "    found_paths = [p for p in result.stdout.strip().split('\\n') if p]\n",
    "    for path in found_paths:\n",
    "        src_path = Path(path)\n",
    "        dest_path = destination_dir / src_path.name\n",
    "        print(f\"📦 Copying: {src_path} → {dest_path}\")\n",
    "        shutil.copy(src_path, dest_path)"
   ]
  },
  {
   "cell_type": "markdown",
   "id": "a027cb38",
   "metadata": {},
   "source": [
    "## Encode Label"
   ]
  },
  {
   "cell_type": "code",
   "execution_count": 304,
   "id": "05eaa0de",
   "metadata": {},
   "outputs": [],
   "source": [
    "total_df = pd.read_excel(os.path.join(PATH, \"Rug-Pull-Incidents.xlsx\"), engine='openpyxl', sheet_name=\"Total\")\n",
    "experiment_df = pd.read_excel(os.path.join(PATH, \"Rug-Pull-Incidents.xlsx\"), engine='openpyxl', sheet_name=\"Experiment\")"
   ]
  },
  {
   "cell_type": "code",
   "execution_count": 305,
   "id": "4e27e29b",
   "metadata": {},
   "outputs": [],
   "source": [
    "# drop 'Address' column from total_df and experiment_df\n",
    "total_df.dropna(subset=['Address'],axis=0, inplace=True)\n",
    "experiment_df.dropna(subset=['Address'],axis=0, inplace=True)"
   ]
  },
  {
   "cell_type": "code",
   "execution_count": 306,
   "id": "7e146b16",
   "metadata": {},
   "outputs": [],
   "source": [
    "# drop duplicate rows\n",
    "total_df.drop_duplicates(inplace=True)\n",
    "experiment_df.drop_duplicates(inplace=True)"
   ]
  },
  {
   "cell_type": "code",
   "execution_count": 307,
   "id": "c27b75de",
   "metadata": {},
   "outputs": [],
   "source": [
    "# drop missing labels of 'Balance Tamper', 'Variable Manipulation', and 'Sale Restrict' from total_df and experiment_df\n",
    "missing_condition = ((total_df['Balance Tamper'].isna() | (total_df['Balance Tamper'].str.strip() == '')) &\n",
    "                     (total_df['Variable Manipulation'].isna() | (total_df['Variable Manipulation'].str.strip() == '')) &\n",
    "                     (total_df['Sale Restrict'].isna() | (total_df['Sale Restrict'].str.strip() == '')))\n",
    "total_df = total_df[~missing_condition]\n",
    "\n",
    "missing_condition_exp = ((experiment_df['Balance Tamper'].isna() | (experiment_df['Balance Tamper'].str.strip() == '')) &\n",
    "                         (experiment_df['Variable Manipulation'].isna() | (experiment_df['Variable Manipulation'].str.strip() == '')) &\n",
    "                         (experiment_df['Sale Restrict'].isna() | (experiment_df['Sale Restrict'].str.strip() == '')))\n",
    "experiment_df = experiment_df[~missing_condition_exp]"
   ]
  },
  {
   "cell_type": "markdown",
   "id": "2635ee41",
   "metadata": {},
   "source": [
    "### Balance Tamper"
   ]
  },
  {
   "cell_type": "code",
   "execution_count": 308,
   "id": "93279e76",
   "metadata": {},
   "outputs": [
    {
     "data": {
      "application/vnd.microsoft.datawrangler.viewer.v0+json": {
       "columns": [
        {
         "name": "Balance Tamper",
         "rawType": "object",
         "type": "string"
        },
        {
         "name": "count",
         "rawType": "int64",
         "type": "integer"
        }
       ],
       "ref": "81e9a5ad-614b-4836-8428-153958e2b485",
       "rows": [
        [
         "Hidden Mint/Burn",
         "334"
        ],
        [
         "Hidden Balance Modification",
         "54"
        ],
        [
         "\nHidden Mint/Burn",
         "35"
        ],
        [
         "Hidden Mint/Burn,Hidden Balance Modification",
         "6"
        ],
        [
         "\n\nHidden Mint/Burn",
         "2"
        ],
        [
         "\n",
         "2"
        ],
        [
         "Hidden Mint/Eurn",
         "1"
        ],
        [
         "Hidden Mint/Burn茂录聦Hidden Balance Modification",
         "1"
        ]
       ],
       "shape": {
        "columns": 1,
        "rows": 8
       }
      },
      "text/plain": [
       "Balance Tamper\n",
       "Hidden Mint/Burn                                  334\n",
       "Hidden Balance Modification                        54\n",
       "\\nHidden Mint/Burn                                 35\n",
       "Hidden Mint/Burn,Hidden Balance Modification        6\n",
       "\\n\\nHidden Mint/Burn                                2\n",
       "\\n                                                  2\n",
       "Hidden Mint/Eurn                                    1\n",
       "Hidden Mint/Burn茂录聦Hidden Balance Modification      1\n",
       "Name: count, dtype: int64"
      ]
     },
     "execution_count": 308,
     "metadata": {},
     "output_type": "execute_result"
    }
   ],
   "source": [
    "total_df['Balance Tamper'].value_counts()"
   ]
  },
  {
   "cell_type": "code",
   "execution_count": 309,
   "id": "2ab10ecf",
   "metadata": {},
   "outputs": [
    {
     "data": {
      "application/vnd.microsoft.datawrangler.viewer.v0+json": {
       "columns": [
        {
         "name": "Balance Tamper",
         "rawType": "object",
         "type": "string"
        },
        {
         "name": "count",
         "rawType": "int64",
         "type": "integer"
        }
       ],
       "ref": "48c0cd8d-d80c-46e3-8ce7-bb338eec3ee1",
       "rows": [
        [
         "Hidden Mint/Burn",
         "132"
        ],
        [
         "Hidden Balance Modify",
         "46"
        ],
        [
         "Hidden Mint/Burn,Hidden Balance Modify",
         "5"
        ],
        [
         "\nHidden Mint/Burn",
         "4"
        ],
        [
         "Hidden Mint/Burn脙炉脗录脗聦Hidden Balance Modify",
         "1"
        ],
        [
         "\n\nHidden Mint/Burn",
         "1"
        ],
        [
         "\n",
         "1"
        ]
       ],
       "shape": {
        "columns": 1,
        "rows": 7
       }
      },
      "text/plain": [
       "Balance Tamper\n",
       "Hidden Mint/Burn                               132\n",
       "Hidden Balance Modify                           46\n",
       "Hidden Mint/Burn,Hidden Balance Modify           5\n",
       "\\nHidden Mint/Burn                               4\n",
       "Hidden Mint/Burn脙炉脗录脗聦Hidden Balance Modify      1\n",
       "\\n\\nHidden Mint/Burn                             1\n",
       "\\n                                               1\n",
       "Name: count, dtype: int64"
      ]
     },
     "execution_count": 309,
     "metadata": {},
     "output_type": "execute_result"
    }
   ],
   "source": [
    "experiment_df['Balance Tamper'].value_counts()"
   ]
  },
  {
   "cell_type": "code",
   "execution_count": 310,
   "id": "87234fe3",
   "metadata": {},
   "outputs": [],
   "source": [
    "def clean_balance_tamper(value):\n",
    "    if pd.isna(value):\n",
    "        return ''\n",
    "\n",
    "    # Strip whitespace and linebreaks\n",
    "    value = value.strip()\n",
    "\n",
    "    # Replace multiple linebreaks or strange characters with a comma\n",
    "    value = re.sub(r'[\\n\\r]+', ',', value)\n",
    "    value = re.sub(r'[茂录聦]', ',', value)  # Remove strange unicode artifacts\n",
    "    value = re.sub(r'[脙炉脗录脗聦]', ',', value)  # Remove strange unicode artifacts\n",
    "\n",
    "    # Correct known typos\n",
    "    value = value.replace(\"Hidden Mint/Eurn\", \"Hidden Mint/Burn\")\n",
    "    value = value.replace(\"Hidden Balance Modify\", \"Hidden Balance Modification\")\n",
    "\n",
    "    # Split by comma and normalize each part\n",
    "    parts = [p.strip() for p in value.split(',') if p.strip()]\n",
    "\n",
    "    # Deduplicate and sort for consistency\n",
    "    parts = sorted(set(parts))\n",
    "\n",
    "    return list(set(parts))\n",
    "\n",
    "# Apply to both dataframes\n",
    "total_df['Balance Tamper'] = total_df['Balance Tamper'].apply(clean_balance_tamper)\n",
    "experiment_df['Balance Tamper'] = experiment_df['Balance Tamper'].apply(clean_balance_tamper)\n",
    "\n",
    "# Optional: show cleaned value counts\n",
    "mlb = MultiLabelBinarizer()\n",
    "tamper_encoded = pd.DataFrame(mlb.fit_transform(total_df['Balance Tamper']),\n",
    "                              columns=mlb.classes_,\n",
    "                              index=total_df.index)\n",
    "\n",
    "total_df = pd.concat([total_df.drop(columns=['Balance Tamper']), tamper_encoded], axis=1)\n",
    "\n",
    "amper_encoded = pd.DataFrame(mlb.fit_transform(experiment_df['Balance Tamper']),\n",
    "                              columns=mlb.classes_,\n",
    "                              index=experiment_df.index)\n",
    "experiment_df = pd.concat([experiment_df.drop(columns=['Balance Tamper']), tamper_encoded], axis=1)"
   ]
  },
  {
   "cell_type": "code",
   "execution_count": 311,
   "id": "0580ef56",
   "metadata": {},
   "outputs": [
    {
     "name": "stdout",
     "output_type": "stream",
     "text": [
      "<class 'pandas.core.frame.DataFrame'>\n",
      "Index: 688 entries, 0 to 688\n",
      "Data columns (total 9 columns):\n",
      " #   Column                       Non-Null Count  Dtype \n",
      "---  ------                       --------------  ----- \n",
      " 0   Project Name                 688 non-null    object\n",
      " 1   Chain                        688 non-null    object\n",
      " 2   Address                      688 non-null    object\n",
      " 3   Open Source                  688 non-null    object\n",
      " 4   Sale Restrict                291 non-null    object\n",
      " 5   Variable Manipulation        160 non-null    object\n",
      " 6   Source                       688 non-null    object\n",
      " 7   Hidden Balance Modification  688 non-null    int64 \n",
      " 8   Hidden Mint/Burn             688 non-null    int64 \n",
      "dtypes: int64(2), object(7)\n",
      "memory usage: 69.9+ KB\n"
     ]
    }
   ],
   "source": [
    "total_df.info()"
   ]
  },
  {
   "cell_type": "code",
   "execution_count": 312,
   "id": "a71b4032",
   "metadata": {},
   "outputs": [
    {
     "name": "stdout",
     "output_type": "stream",
     "text": [
      "<class 'pandas.core.frame.DataFrame'>\n",
      "Index: 689 entries, 0 to 688\n",
      "Data columns (total 9 columns):\n",
      " #   Column                       Non-Null Count  Dtype  \n",
      "---  ------                       --------------  -----  \n",
      " 0   Project Name                 416 non-null    object \n",
      " 1   Chain                        416 non-null    object \n",
      " 2   Address                      416 non-null    object \n",
      " 3   Open Source                  416 non-null    object \n",
      " 4   Sale Restrict                204 non-null    object \n",
      " 5   Variable Manipulation        145 non-null    object \n",
      " 6   Source                       416 non-null    object \n",
      " 7   Hidden Balance Modification  688 non-null    float64\n",
      " 8   Hidden Mint/Burn             688 non-null    float64\n",
      "dtypes: float64(2), object(7)\n",
      "memory usage: 53.8+ KB\n"
     ]
    }
   ],
   "source": [
    "experiment_df.info()"
   ]
  },
  {
   "cell_type": "markdown",
   "id": "5f8a3dcf",
   "metadata": {},
   "source": [
    "### Sale Restrict"
   ]
  },
  {
   "cell_type": "code",
   "execution_count": 313,
   "id": "db15b349",
   "metadata": {},
   "outputs": [
    {
     "data": {
      "application/vnd.microsoft.datawrangler.viewer.v0+json": {
       "columns": [
        {
         "name": "Sale Restrict",
         "rawType": "object",
         "type": "string"
        },
        {
         "name": "count",
         "rawType": "int64",
         "type": "integer"
        }
       ],
       "ref": "63b02b9a-c3c3-4709-bb38-b86d448e6075",
       "rows": [
        [
         "Address Restrict",
         "140"
        ],
        [
         "Amount Restrict",
         "90"
        ],
        [
         "Address Restrict,Amount Restrict",
         "36"
        ],
        [
         "Address Restrict,TimeStamp Restrict",
         "7"
        ],
        [
         "\nAddress Restrict,Amount Restrict",
         "4"
        ],
        [
         "Address Restrict,Amount Restrict,TimeStamp Restrict",
         "3"
        ],
        [
         "TimeStamp Restrict",
         "2"
        ],
        [
         "\nAddress Restrict",
         "2"
        ],
        [
         "Amount Restrict,TimeStamp Restrict",
         "1"
        ],
        [
         "Modifiable External Call",
         "1"
        ],
        [
         "Address Restrict ",
         "1"
        ],
        [
         "Address Restrict,Address Restrict*3",
         "1"
        ],
        [
         "\n\nAddress Restrict,Amount Restrict,TimeStamp Restrict",
         "1"
        ],
        [
         "\nAmount Restrict",
         "1"
        ],
        [
         "TimeStanp Restrict",
         "1"
        ]
       ],
       "shape": {
        "columns": 1,
        "rows": 15
       }
      },
      "text/plain": [
       "Sale Restrict\n",
       "Address Restrict                                           140\n",
       "Amount Restrict                                             90\n",
       "Address Restrict,Amount Restrict                            36\n",
       "Address Restrict,TimeStamp Restrict                          7\n",
       "\\nAddress Restrict,Amount Restrict                           4\n",
       "Address Restrict,Amount Restrict,TimeStamp Restrict          3\n",
       "TimeStamp Restrict                                           2\n",
       "\\nAddress Restrict                                           2\n",
       "Amount Restrict,TimeStamp Restrict                           1\n",
       "Modifiable External Call                                     1\n",
       "Address Restrict                                             1\n",
       "Address Restrict,Address Restrict*3                          1\n",
       "\\n\\nAddress Restrict,Amount Restrict,TimeStamp Restrict      1\n",
       "\\nAmount Restrict                                            1\n",
       "TimeStanp Restrict                                           1\n",
       "Name: count, dtype: int64"
      ]
     },
     "execution_count": 313,
     "metadata": {},
     "output_type": "execute_result"
    }
   ],
   "source": [
    "total_df['Sale Restrict'].value_counts()"
   ]
  },
  {
   "cell_type": "code",
   "execution_count": 314,
   "id": "b9798b45",
   "metadata": {},
   "outputs": [
    {
     "data": {
      "application/vnd.microsoft.datawrangler.viewer.v0+json": {
       "columns": [
        {
         "name": "Sale Restrict",
         "rawType": "object",
         "type": "string"
        },
        {
         "name": "count",
         "rawType": "int64",
         "type": "integer"
        }
       ],
       "ref": "0d95588f-75f8-4e0e-b9d1-2e2a73ca545d",
       "rows": [
        [
         "Address Restrict",
         "92"
        ],
        [
         "Amount Restrict",
         "62"
        ],
        [
         "Address Restrict,Amount Restrict",
         "27"
        ],
        [
         "Address Restrict,TimeStamp Restrict",
         "7"
        ],
        [
         "\nAddress Restrict,Amount Restrict",
         "4"
        ],
        [
         "Address Restrict,Amount Restrict,TimeStamp Restrict",
         "3"
        ],
        [
         "TimeStamp Restrict",
         "2"
        ],
        [
         "Modifiable External Call",
         "1"
        ],
        [
         "Amount Restrict,TimeStamp Restrict",
         "1"
        ],
        [
         "Address Restrict ",
         "1"
        ],
        [
         "Address Restrict,Address Restrict*3",
         "1"
        ],
        [
         "\nAddress Restrict",
         "1"
        ],
        [
         "\n\nAddress Restrict,Amount Restrict,TimeStamp Restrict",
         "1"
        ],
        [
         "\nAmount Restrict",
         "1"
        ]
       ],
       "shape": {
        "columns": 1,
        "rows": 14
       }
      },
      "text/plain": [
       "Sale Restrict\n",
       "Address Restrict                                           92\n",
       "Amount Restrict                                            62\n",
       "Address Restrict,Amount Restrict                           27\n",
       "Address Restrict,TimeStamp Restrict                         7\n",
       "\\nAddress Restrict,Amount Restrict                          4\n",
       "Address Restrict,Amount Restrict,TimeStamp Restrict         3\n",
       "TimeStamp Restrict                                          2\n",
       "Modifiable External Call                                    1\n",
       "Amount Restrict,TimeStamp Restrict                          1\n",
       "Address Restrict                                            1\n",
       "Address Restrict,Address Restrict*3                         1\n",
       "\\nAddress Restrict                                          1\n",
       "\\n\\nAddress Restrict,Amount Restrict,TimeStamp Restrict     1\n",
       "\\nAmount Restrict                                           1\n",
       "Name: count, dtype: int64"
      ]
     },
     "execution_count": 314,
     "metadata": {},
     "output_type": "execute_result"
    }
   ],
   "source": [
    "experiment_df['Sale Restrict'].value_counts()"
   ]
  },
  {
   "cell_type": "code",
   "execution_count": 315,
   "id": "e81f751b",
   "metadata": {},
   "outputs": [],
   "source": [
    "def extract_sale_restrict_labels(value):\n",
    "    if pd.isna(value) or not str(value).strip():\n",
    "        return []\n",
    "\n",
    "    value = re.sub(r'[\\n\\r]+', ',', value)\n",
    "\n",
    "    # Fix known typos\n",
    "    value = value.replace(\"TimeStanp Restrict\", \"TimeStamp Restrict\")\n",
    "\n",
    "    # Remove suffix like \"*3\" (e.g. Address Restrict*3)\n",
    "    value = re.sub(r'\\*[\\d]+', '', value)\n",
    "\n",
    "    # Split and clean\n",
    "    parts = [p.strip() for p in value.split(',') if p.strip()]\n",
    "\n",
    "    # Normalize duplicates\n",
    "    parts = sorted(set(parts))\n",
    "    return parts\n",
    "\n",
    "# Apply label extraction\n",
    "total_df['Sale Restrict'] = total_df['Sale Restrict'].apply(extract_sale_restrict_labels)\n",
    "experiment_df['Sale Restrict'] = experiment_df['Sale Restrict'].apply(extract_sale_restrict_labels)\n",
    "\n",
    "# Binarize\n",
    "mlb_sale = MultiLabelBinarizer()\n",
    "\n",
    "sale_encoded = pd.DataFrame(mlb_sale.fit_transform(total_df['Sale Restrict']),\n",
    "                            columns=mlb_sale.classes_,\n",
    "                            index=total_df.index)\n",
    "\n",
    "# Drop original and concat\n",
    "total_df = pd.concat([total_df.drop(columns=['Sale Restrict']), sale_encoded], axis=1)\n",
    "\n",
    "# Do same for experiment_df\n",
    "exp_sale_encoded = pd.DataFrame(mlb_sale.transform(experiment_df['Sale Restrict']),\n",
    "                                columns=mlb_sale.classes_,\n",
    "                                index=experiment_df.index)\n",
    "\n",
    "experiment_df = pd.concat([experiment_df.drop(columns=['Sale Restrict']), exp_sale_encoded], axis=1)\n"
   ]
  },
  {
   "cell_type": "code",
   "execution_count": 316,
   "id": "b58215ab",
   "metadata": {},
   "outputs": [
    {
     "name": "stdout",
     "output_type": "stream",
     "text": [
      "<class 'pandas.core.frame.DataFrame'>\n",
      "Index: 688 entries, 0 to 688\n",
      "Data columns (total 12 columns):\n",
      " #   Column                       Non-Null Count  Dtype \n",
      "---  ------                       --------------  ----- \n",
      " 0   Project Name                 688 non-null    object\n",
      " 1   Chain                        688 non-null    object\n",
      " 2   Address                      688 non-null    object\n",
      " 3   Open Source                  688 non-null    object\n",
      " 4   Variable Manipulation        160 non-null    object\n",
      " 5   Source                       688 non-null    object\n",
      " 6   Hidden Balance Modification  688 non-null    int64 \n",
      " 7   Hidden Mint/Burn             688 non-null    int64 \n",
      " 8   Address Restrict             688 non-null    int64 \n",
      " 9   Amount Restrict              688 non-null    int64 \n",
      " 10  Modifiable External Call     688 non-null    int64 \n",
      " 11  TimeStamp Restrict           688 non-null    int64 \n",
      "dtypes: int64(6), object(6)\n",
      "memory usage: 86.0+ KB\n"
     ]
    }
   ],
   "source": [
    "total_df.info()"
   ]
  },
  {
   "cell_type": "code",
   "execution_count": 317,
   "id": "b8eb80f6",
   "metadata": {},
   "outputs": [
    {
     "name": "stdout",
     "output_type": "stream",
     "text": [
      "<class 'pandas.core.frame.DataFrame'>\n",
      "Index: 689 entries, 0 to 688\n",
      "Data columns (total 12 columns):\n",
      " #   Column                       Non-Null Count  Dtype  \n",
      "---  ------                       --------------  -----  \n",
      " 0   Project Name                 416 non-null    object \n",
      " 1   Chain                        416 non-null    object \n",
      " 2   Address                      416 non-null    object \n",
      " 3   Open Source                  416 non-null    object \n",
      " 4   Variable Manipulation        145 non-null    object \n",
      " 5   Source                       416 non-null    object \n",
      " 6   Hidden Balance Modification  688 non-null    float64\n",
      " 7   Hidden Mint/Burn             688 non-null    float64\n",
      " 8   Address Restrict             689 non-null    int64  \n",
      " 9   Amount Restrict              689 non-null    int64  \n",
      " 10  Modifiable External Call     689 non-null    int64  \n",
      " 11  TimeStamp Restrict           689 non-null    int64  \n",
      "dtypes: float64(2), int64(4), object(6)\n",
      "memory usage: 70.0+ KB\n"
     ]
    }
   ],
   "source": [
    "experiment_df.info()"
   ]
  },
  {
   "cell_type": "markdown",
   "id": "1040d5b9",
   "metadata": {},
   "source": [
    "### Variable Manipulation"
   ]
  },
  {
   "cell_type": "code",
   "execution_count": 318,
   "id": "2840cd72",
   "metadata": {},
   "outputs": [
    {
     "data": {
      "application/vnd.microsoft.datawrangler.viewer.v0+json": {
       "columns": [
        {
         "name": "Variable Manipulation",
         "rawType": "object",
         "type": "string"
        },
        {
         "name": "count",
         "rawType": "int64",
         "type": "integer"
        }
       ],
       "ref": "52724c1e-7b32-4c73-8896-bb69bd0aeefe",
       "rows": [
        [
         "Modifiable Tax Rate",
         "80"
        ],
        [
         "Modifiable External Call",
         "46"
        ],
        [
         "Modifiable Tax Address",
         "18"
        ],
        [
         "Modifiable Tax Rate,Modifiable Tax Address",
         "6"
        ],
        [
         "Modifibale Tax Rate",
         "4"
        ],
        [
         "\nModifiable Tax Rate",
         "2"
        ],
        [
         "Modifuable Tax Rate",
         "1"
        ],
        [
         "Modifibale Tax Rate,Modifiable Tax Address",
         "1"
        ],
        [
         "Modifiable Tax Address,Hidden Balance Modification",
         "1"
        ],
        [
         "\n",
         "1"
        ]
       ],
       "shape": {
        "columns": 1,
        "rows": 10
       }
      },
      "text/plain": [
       "Variable Manipulation\n",
       "Modifiable Tax Rate                                   80\n",
       "Modifiable External Call                              46\n",
       "Modifiable Tax Address                                18\n",
       "Modifiable Tax Rate,Modifiable Tax Address             6\n",
       "Modifibale Tax Rate                                    4\n",
       "\\nModifiable Tax Rate                                  2\n",
       "Modifuable Tax Rate                                    1\n",
       "Modifibale Tax Rate,Modifiable Tax Address             1\n",
       "Modifiable Tax Address,Hidden Balance Modification     1\n",
       "\\n                                                     1\n",
       "Name: count, dtype: int64"
      ]
     },
     "execution_count": 318,
     "metadata": {},
     "output_type": "execute_result"
    }
   ],
   "source": [
    "total_df['Variable Manipulation'].value_counts()"
   ]
  },
  {
   "cell_type": "code",
   "execution_count": 319,
   "id": "fae8acc2",
   "metadata": {},
   "outputs": [
    {
     "data": {
      "application/vnd.microsoft.datawrangler.viewer.v0+json": {
       "columns": [
        {
         "name": "Variable Manipulation",
         "rawType": "object",
         "type": "string"
        },
        {
         "name": "count",
         "rawType": "int64",
         "type": "integer"
        }
       ],
       "ref": "6d039fae-e58e-4043-8967-a99ca768201f",
       "rows": [
        [
         "Modifiable Tax Rate",
         "69"
        ],
        [
         "Modifiable External Call",
         "43"
        ],
        [
         "Modifiable Tax Address",
         "17"
        ],
        [
         "Modifiable Tax Rate,Modifiable Tax Address",
         "6"
        ],
        [
         "Modifibale Tax Rate",
         "4"
        ],
        [
         "\nModifiable Tax Rate",
         "2"
        ],
        [
         "Modifuable Tax Rate",
         "1"
        ],
        [
         "Modifibale Tax Rate,Modifiable Tax Address",
         "1"
        ],
        [
         "Modifiable Tax Address,Hidden Balance Modify",
         "1"
        ],
        [
         "\n",
         "1"
        ]
       ],
       "shape": {
        "columns": 1,
        "rows": 10
       }
      },
      "text/plain": [
       "Variable Manipulation\n",
       "Modifiable Tax Rate                             69\n",
       "Modifiable External Call                        43\n",
       "Modifiable Tax Address                          17\n",
       "Modifiable Tax Rate,Modifiable Tax Address       6\n",
       "Modifibale Tax Rate                              4\n",
       "\\nModifiable Tax Rate                            2\n",
       "Modifuable Tax Rate                              1\n",
       "Modifibale Tax Rate,Modifiable Tax Address       1\n",
       "Modifiable Tax Address,Hidden Balance Modify     1\n",
       "\\n                                               1\n",
       "Name: count, dtype: int64"
      ]
     },
     "execution_count": 319,
     "metadata": {},
     "output_type": "execute_result"
    }
   ],
   "source": [
    "experiment_df['Variable Manipulation'].value_counts()"
   ]
  },
  {
   "cell_type": "code",
   "execution_count": 320,
   "id": "47c0005f",
   "metadata": {},
   "outputs": [],
   "source": [
    "def extract_variable_manipulation_labels(value):\n",
    "    if pd.isna(value) or not str(value).strip():\n",
    "        return []\n",
    "\n",
    "    value = re.sub(r'[\\n\\r]+', ',', value)\n",
    "\n",
    "    # Correct typos\n",
    "    value = value.replace(\"Modifibale Tax Rate\", \"Modifiable Tax Rate\")\n",
    "    value = value.replace(\"Modifuable Tax Rate\", \"Modifiable Tax Rate\")\n",
    "    value = value.replace(\"Hidden Balance Modify\", \"\")  # strip unrelated label\n",
    "\n",
    "    # Split and clean\n",
    "    parts = [p.strip() for p in value.split(',') if p.strip()]\n",
    "\n",
    "    # Deduplicate\n",
    "    parts = sorted(set(parts))\n",
    "    return parts\n",
    "\n",
    "# Apply function\n",
    "total_df['Variable Manipulation'] = total_df['Variable Manipulation'].apply(extract_variable_manipulation_labels)\n",
    "experiment_df['Variable Manipulation'] = experiment_df['Variable Manipulation'].apply(extract_variable_manipulation_labels)\n",
    "\n",
    "# Binarize\n",
    "mlb_var = MultiLabelBinarizer()\n",
    "var_encoded = pd.DataFrame(mlb_var.fit_transform(total_df['Variable Manipulation']),\n",
    "                           columns=mlb_var.classes_,\n",
    "                           index=total_df.index)\n",
    "\n",
    "# Merge and drop\n",
    "total_df = pd.concat([total_df.drop(columns=['Variable Manipulation']), var_encoded], axis=1)\n",
    "\n",
    "# Repeat for experiment_df\n",
    "exp_var_encoded = pd.DataFrame(mlb_var.transform(experiment_df['Variable Manipulation']),\n",
    "                               columns=mlb_var.classes_,\n",
    "                               index=experiment_df.index)\n",
    "\n",
    "experiment_df = pd.concat([experiment_df.drop(columns=['Variable Manipulation']), exp_var_encoded], axis=1)"
   ]
  },
  {
   "cell_type": "code",
   "execution_count": 321,
   "id": "48058ab4",
   "metadata": {},
   "outputs": [
    {
     "name": "stdout",
     "output_type": "stream",
     "text": [
      "<class 'pandas.core.frame.DataFrame'>\n",
      "Index: 688 entries, 0 to 688\n",
      "Data columns (total 15 columns):\n",
      " #   Column                       Non-Null Count  Dtype \n",
      "---  ------                       --------------  ----- \n",
      " 0   Project Name                 688 non-null    object\n",
      " 1   Chain                        688 non-null    object\n",
      " 2   Address                      688 non-null    object\n",
      " 3   Open Source                  688 non-null    object\n",
      " 4   Source                       688 non-null    object\n",
      " 5   Hidden Balance Modification  688 non-null    int64 \n",
      " 6   Hidden Mint/Burn             688 non-null    int64 \n",
      " 7   Address Restrict             688 non-null    int64 \n",
      " 8   Amount Restrict              688 non-null    int64 \n",
      " 9   Modifiable External Call     688 non-null    int64 \n",
      " 10  TimeStamp Restrict           688 non-null    int64 \n",
      " 11  Hidden Balance Modification  688 non-null    int64 \n",
      " 12  Modifiable External Call     688 non-null    int64 \n",
      " 13  Modifiable Tax Address       688 non-null    int64 \n",
      " 14  Modifiable Tax Rate          688 non-null    int64 \n",
      "dtypes: int64(10), object(5)\n",
      "memory usage: 102.2+ KB\n"
     ]
    }
   ],
   "source": [
    "total_df.info()"
   ]
  },
  {
   "cell_type": "code",
   "execution_count": 322,
   "id": "a1ff7f15",
   "metadata": {},
   "outputs": [
    {
     "name": "stdout",
     "output_type": "stream",
     "text": [
      "<class 'pandas.core.frame.DataFrame'>\n",
      "Index: 689 entries, 0 to 688\n",
      "Data columns (total 15 columns):\n",
      " #   Column                       Non-Null Count  Dtype  \n",
      "---  ------                       --------------  -----  \n",
      " 0   Project Name                 416 non-null    object \n",
      " 1   Chain                        416 non-null    object \n",
      " 2   Address                      416 non-null    object \n",
      " 3   Open Source                  416 non-null    object \n",
      " 4   Source                       416 non-null    object \n",
      " 5   Hidden Balance Modification  688 non-null    float64\n",
      " 6   Hidden Mint/Burn             688 non-null    float64\n",
      " 7   Address Restrict             689 non-null    int64  \n",
      " 8   Amount Restrict              689 non-null    int64  \n",
      " 9   Modifiable External Call     689 non-null    int64  \n",
      " 10  TimeStamp Restrict           689 non-null    int64  \n",
      " 11  Hidden Balance Modification  689 non-null    int64  \n",
      " 12  Modifiable External Call     689 non-null    int64  \n",
      " 13  Modifiable Tax Address       689 non-null    int64  \n",
      " 14  Modifiable Tax Rate          689 non-null    int64  \n",
      "dtypes: float64(2), int64(8), object(5)\n",
      "memory usage: 86.1+ KB\n"
     ]
    }
   ],
   "source": [
    "experiment_df.info()"
   ]
  },
  {
   "cell_type": "code",
   "execution_count": 323,
   "id": "6e248952",
   "metadata": {},
   "outputs": [
    {
     "data": {
      "application/vnd.microsoft.datawrangler.viewer.v0+json": {
       "columns": [
        {
         "name": "index",
         "rawType": "int64",
         "type": "integer"
        },
        {
         "name": "Project Name",
         "rawType": "object",
         "type": "string"
        },
        {
         "name": "Chain",
         "rawType": "object",
         "type": "string"
        },
        {
         "name": "Address",
         "rawType": "object",
         "type": "string"
        },
        {
         "name": "Open Source",
         "rawType": "object",
         "type": "string"
        },
        {
         "name": "Source",
         "rawType": "object",
         "type": "string"
        },
        {
         "name": "Hidden Balance Modification",
         "rawType": "int64",
         "type": "integer"
        },
        {
         "name": "Hidden Mint/Burn",
         "rawType": "int64",
         "type": "integer"
        },
        {
         "name": "Address Restrict",
         "rawType": "int64",
         "type": "integer"
        },
        {
         "name": "Amount Restrict",
         "rawType": "int64",
         "type": "integer"
        },
        {
         "name": "Modifiable External Call",
         "rawType": "int64",
         "type": "integer"
        },
        {
         "name": "TimeStamp Restrict",
         "rawType": "int64",
         "type": "integer"
        },
        {
         "name": "Hidden Balance Modification",
         "rawType": "int64",
         "type": "integer"
        },
        {
         "name": "Modifiable External Call",
         "rawType": "int64",
         "type": "integer"
        },
        {
         "name": "Modifiable Tax Address",
         "rawType": "int64",
         "type": "integer"
        },
        {
         "name": "Modifiable Tax Rate",
         "rawType": "int64",
         "type": "integer"
        }
       ],
       "ref": "74c42cb1-542f-4d75-a618-f1a5040d70c0",
       "rows": [
        [
         "0",
         "GMETA",
         "BSC",
         "0X93023F1D3525E273F291B6F76D2F5027A39BF302",
         "Yes",
         "https://twitter.com/BeosinAlert/status/1681240663868973056",
         "0",
         "1",
         "0",
         "0",
         "0",
         "0",
         "0",
         "0",
         "0",
         "1"
        ],
        [
         "1",
         "PokémonFi",
         "BSC",
         "0X2753DCE37A7EDB052A77832039BCC9AA49AD8B25",
         "Yes",
         "https://twitter.com/CertiKAlert/status/1562555089306685440",
         "0",
         "0",
         "1",
         "0",
         "0",
         "0",
         "0",
         "0",
         "0",
         "0"
        ],
        [
         "2",
         "PokémonFi",
         "BSC",
         "0X0AA5CAE4D1C9230543542E998E04EA795EEDF738",
         "Yes",
         "https://twitter.com/CertiKAlert/status/1562555089306685440",
         "0",
         "0",
         "1",
         "0",
         "0",
         "0",
         "0",
         "0",
         "0",
         "0"
        ],
        [
         "3",
         "Sudorare",
         "ETH",
         "0X5404EFAFDD8CC30053069DF2A1B0C4BA881B3E1E",
         "Yes",
         "https://x.com/PeckShieldAlert/status/1561967493912363008",
         "0",
         "1",
         "0",
         "0",
         "0",
         "0",
         "0",
         "0",
         "0",
         "0"
        ],
        [
         "4",
         "DRAC Network",
         "ETH",
         "0X10F6F2B97F3AB29583D9D38BABF2994DF7220C21",
         "Yes",
         "https://twitter.com/PeckShieldAlert/status/1551409593397350401",
         "0",
         "1",
         "0",
         "0",
         "0",
         "0",
         "0",
         "0",
         "0",
         "1"
        ]
       ],
       "shape": {
        "columns": 15,
        "rows": 5
       }
      },
      "text/html": [
       "<div>\n",
       "<style scoped>\n",
       "    .dataframe tbody tr th:only-of-type {\n",
       "        vertical-align: middle;\n",
       "    }\n",
       "\n",
       "    .dataframe tbody tr th {\n",
       "        vertical-align: top;\n",
       "    }\n",
       "\n",
       "    .dataframe thead th {\n",
       "        text-align: right;\n",
       "    }\n",
       "</style>\n",
       "<table border=\"1\" class=\"dataframe\">\n",
       "  <thead>\n",
       "    <tr style=\"text-align: right;\">\n",
       "      <th></th>\n",
       "      <th>Project Name</th>\n",
       "      <th>Chain</th>\n",
       "      <th>Address</th>\n",
       "      <th>Open Source</th>\n",
       "      <th>Source</th>\n",
       "      <th>Hidden Balance Modification</th>\n",
       "      <th>Hidden Mint/Burn</th>\n",
       "      <th>Address Restrict</th>\n",
       "      <th>Amount Restrict</th>\n",
       "      <th>Modifiable External Call</th>\n",
       "      <th>TimeStamp Restrict</th>\n",
       "      <th>Hidden Balance Modification</th>\n",
       "      <th>Modifiable External Call</th>\n",
       "      <th>Modifiable Tax Address</th>\n",
       "      <th>Modifiable Tax Rate</th>\n",
       "    </tr>\n",
       "  </thead>\n",
       "  <tbody>\n",
       "    <tr>\n",
       "      <th>0</th>\n",
       "      <td>GMETA</td>\n",
       "      <td>BSC</td>\n",
       "      <td>0X93023F1D3525E273F291B6F76D2F5027A39BF302</td>\n",
       "      <td>Yes</td>\n",
       "      <td>https://twitter.com/BeosinAlert/status/1681240...</td>\n",
       "      <td>0</td>\n",
       "      <td>1</td>\n",
       "      <td>0</td>\n",
       "      <td>0</td>\n",
       "      <td>0</td>\n",
       "      <td>0</td>\n",
       "      <td>0</td>\n",
       "      <td>0</td>\n",
       "      <td>0</td>\n",
       "      <td>1</td>\n",
       "    </tr>\n",
       "    <tr>\n",
       "      <th>1</th>\n",
       "      <td>PokémonFi</td>\n",
       "      <td>BSC</td>\n",
       "      <td>0X2753DCE37A7EDB052A77832039BCC9AA49AD8B25</td>\n",
       "      <td>Yes</td>\n",
       "      <td>https://twitter.com/CertiKAlert/status/1562555...</td>\n",
       "      <td>0</td>\n",
       "      <td>0</td>\n",
       "      <td>1</td>\n",
       "      <td>0</td>\n",
       "      <td>0</td>\n",
       "      <td>0</td>\n",
       "      <td>0</td>\n",
       "      <td>0</td>\n",
       "      <td>0</td>\n",
       "      <td>0</td>\n",
       "    </tr>\n",
       "    <tr>\n",
       "      <th>2</th>\n",
       "      <td>PokémonFi</td>\n",
       "      <td>BSC</td>\n",
       "      <td>0X0AA5CAE4D1C9230543542E998E04EA795EEDF738</td>\n",
       "      <td>Yes</td>\n",
       "      <td>https://twitter.com/CertiKAlert/status/1562555...</td>\n",
       "      <td>0</td>\n",
       "      <td>0</td>\n",
       "      <td>1</td>\n",
       "      <td>0</td>\n",
       "      <td>0</td>\n",
       "      <td>0</td>\n",
       "      <td>0</td>\n",
       "      <td>0</td>\n",
       "      <td>0</td>\n",
       "      <td>0</td>\n",
       "    </tr>\n",
       "    <tr>\n",
       "      <th>3</th>\n",
       "      <td>Sudorare</td>\n",
       "      <td>ETH</td>\n",
       "      <td>0X5404EFAFDD8CC30053069DF2A1B0C4BA881B3E1E</td>\n",
       "      <td>Yes</td>\n",
       "      <td>https://x.com/PeckShieldAlert/status/156196749...</td>\n",
       "      <td>0</td>\n",
       "      <td>1</td>\n",
       "      <td>0</td>\n",
       "      <td>0</td>\n",
       "      <td>0</td>\n",
       "      <td>0</td>\n",
       "      <td>0</td>\n",
       "      <td>0</td>\n",
       "      <td>0</td>\n",
       "      <td>0</td>\n",
       "    </tr>\n",
       "    <tr>\n",
       "      <th>4</th>\n",
       "      <td>DRAC Network</td>\n",
       "      <td>ETH</td>\n",
       "      <td>0X10F6F2B97F3AB29583D9D38BABF2994DF7220C21</td>\n",
       "      <td>Yes</td>\n",
       "      <td>https://twitter.com/PeckShieldAlert/status/155...</td>\n",
       "      <td>0</td>\n",
       "      <td>1</td>\n",
       "      <td>0</td>\n",
       "      <td>0</td>\n",
       "      <td>0</td>\n",
       "      <td>0</td>\n",
       "      <td>0</td>\n",
       "      <td>0</td>\n",
       "      <td>0</td>\n",
       "      <td>1</td>\n",
       "    </tr>\n",
       "  </tbody>\n",
       "</table>\n",
       "</div>"
      ],
      "text/plain": [
       "   Project Name Chain                                     Address Open Source  \\\n",
       "0         GMETA   BSC  0X93023F1D3525E273F291B6F76D2F5027A39BF302         Yes   \n",
       "1     PokémonFi   BSC  0X2753DCE37A7EDB052A77832039BCC9AA49AD8B25         Yes   \n",
       "2     PokémonFi   BSC  0X0AA5CAE4D1C9230543542E998E04EA795EEDF738         Yes   \n",
       "3      Sudorare   ETH  0X5404EFAFDD8CC30053069DF2A1B0C4BA881B3E1E         Yes   \n",
       "4  DRAC Network   ETH  0X10F6F2B97F3AB29583D9D38BABF2994DF7220C21         Yes   \n",
       "\n",
       "                                              Source  \\\n",
       "0  https://twitter.com/BeosinAlert/status/1681240...   \n",
       "1  https://twitter.com/CertiKAlert/status/1562555...   \n",
       "2  https://twitter.com/CertiKAlert/status/1562555...   \n",
       "3  https://x.com/PeckShieldAlert/status/156196749...   \n",
       "4  https://twitter.com/PeckShieldAlert/status/155...   \n",
       "\n",
       "   Hidden Balance Modification  Hidden Mint/Burn  Address Restrict  \\\n",
       "0                            0                 1                 0   \n",
       "1                            0                 0                 1   \n",
       "2                            0                 0                 1   \n",
       "3                            0                 1                 0   \n",
       "4                            0                 1                 0   \n",
       "\n",
       "   Amount Restrict  Modifiable External Call  TimeStamp Restrict  \\\n",
       "0                0                         0                   0   \n",
       "1                0                         0                   0   \n",
       "2                0                         0                   0   \n",
       "3                0                         0                   0   \n",
       "4                0                         0                   0   \n",
       "\n",
       "   Hidden Balance Modification  Modifiable External Call  \\\n",
       "0                            0                         0   \n",
       "1                            0                         0   \n",
       "2                            0                         0   \n",
       "3                            0                         0   \n",
       "4                            0                         0   \n",
       "\n",
       "   Modifiable Tax Address  Modifiable Tax Rate  \n",
       "0                       0                    1  \n",
       "1                       0                    0  \n",
       "2                       0                    0  \n",
       "3                       0                    0  \n",
       "4                       0                    1  "
      ]
     },
     "execution_count": 323,
     "metadata": {},
     "output_type": "execute_result"
    }
   ],
   "source": [
    "total_df.head()"
   ]
  },
  {
   "cell_type": "code",
   "execution_count": 324,
   "id": "f4e062db",
   "metadata": {},
   "outputs": [
    {
     "data": {
      "application/vnd.microsoft.datawrangler.viewer.v0+json": {
       "columns": [
        {
         "name": "index",
         "rawType": "int64",
         "type": "integer"
        },
        {
         "name": "Project Name",
         "rawType": "object",
         "type": "string"
        },
        {
         "name": "Chain",
         "rawType": "object",
         "type": "string"
        },
        {
         "name": "Address",
         "rawType": "object",
         "type": "string"
        },
        {
         "name": "Open Source",
         "rawType": "object",
         "type": "string"
        },
        {
         "name": "Source",
         "rawType": "object",
         "type": "string"
        },
        {
         "name": "Hidden Balance Modification",
         "rawType": "float64",
         "type": "float"
        },
        {
         "name": "Hidden Mint/Burn",
         "rawType": "float64",
         "type": "float"
        },
        {
         "name": "Address Restrict",
         "rawType": "int64",
         "type": "integer"
        },
        {
         "name": "Amount Restrict",
         "rawType": "int64",
         "type": "integer"
        },
        {
         "name": "Modifiable External Call",
         "rawType": "int64",
         "type": "integer"
        },
        {
         "name": "TimeStamp Restrict",
         "rawType": "int64",
         "type": "integer"
        },
        {
         "name": "Hidden Balance Modification",
         "rawType": "int64",
         "type": "integer"
        },
        {
         "name": "Modifiable External Call",
         "rawType": "int64",
         "type": "integer"
        },
        {
         "name": "Modifiable Tax Address",
         "rawType": "int64",
         "type": "integer"
        },
        {
         "name": "Modifiable Tax Rate",
         "rawType": "int64",
         "type": "integer"
        }
       ],
       "ref": "079905e5-80f8-473b-b98d-09a6098f5899",
       "rows": [
        [
         "0",
         "GMETA",
         "BSC",
         "0X93023F1D3525E273F291B6F76D2F5027A39BF302",
         "Yes",
         "https://twitter.com/BeosinAlert/status/1681240663868973056",
         "0.0",
         "1.0",
         "0",
         "0",
         "0",
         "0",
         "0",
         "0",
         "0",
         "1"
        ],
        [
         "1",
         "Sudorare",
         "ETH",
         "0X5404EFAFDD8CC30053069DF2A1B0C4BA881B3E1E",
         "Yes",
         "https://x.com/PeckShieldAlert/status/1561967493912363008",
         "0.0",
         "0.0",
         "0",
         "0",
         "0",
         "0",
         "0",
         "0",
         "0",
         "0"
        ],
        [
         "2",
         "DRAC Network",
         "ETH",
         "0X10F6F2B97F3AB29583D9D38BABF2994DF7220C21",
         "Yes",
         "https://twitter.com/PeckShieldAlert/status/1551409593397350401",
         "0.0",
         "0.0",
         "0",
         "0",
         "0",
         "0",
         "0",
         "0",
         "0",
         "1"
        ],
        [
         "3",
         "DHE",
         "BSC",
         "0X11CBC781DADAAD13FC3A361772C80B1C027820AF",
         "Yes",
         "https://twitter.com/CertiKAlert/status/1539031511114063873",
         "0.0",
         "1.0",
         "1",
         "0",
         "0",
         "0",
         "0",
         "0",
         "0",
         "0"
        ],
        [
         "4",
         "ElonMVP",
         "BSC",
         "0X3E597EA168A85AA2AE5E2C4333665BCD875ED10F",
         "Yes",
         "https://twitter.com/PeckShieldAlert/status/1536223027717111808",
         "0.0",
         "1.0",
         "1",
         "0",
         "0",
         "0",
         "0",
         "0",
         "0",
         "0"
        ]
       ],
       "shape": {
        "columns": 15,
        "rows": 5
       }
      },
      "text/html": [
       "<div>\n",
       "<style scoped>\n",
       "    .dataframe tbody tr th:only-of-type {\n",
       "        vertical-align: middle;\n",
       "    }\n",
       "\n",
       "    .dataframe tbody tr th {\n",
       "        vertical-align: top;\n",
       "    }\n",
       "\n",
       "    .dataframe thead th {\n",
       "        text-align: right;\n",
       "    }\n",
       "</style>\n",
       "<table border=\"1\" class=\"dataframe\">\n",
       "  <thead>\n",
       "    <tr style=\"text-align: right;\">\n",
       "      <th></th>\n",
       "      <th>Project Name</th>\n",
       "      <th>Chain</th>\n",
       "      <th>Address</th>\n",
       "      <th>Open Source</th>\n",
       "      <th>Source</th>\n",
       "      <th>Hidden Balance Modification</th>\n",
       "      <th>Hidden Mint/Burn</th>\n",
       "      <th>Address Restrict</th>\n",
       "      <th>Amount Restrict</th>\n",
       "      <th>Modifiable External Call</th>\n",
       "      <th>TimeStamp Restrict</th>\n",
       "      <th>Hidden Balance Modification</th>\n",
       "      <th>Modifiable External Call</th>\n",
       "      <th>Modifiable Tax Address</th>\n",
       "      <th>Modifiable Tax Rate</th>\n",
       "    </tr>\n",
       "  </thead>\n",
       "  <tbody>\n",
       "    <tr>\n",
       "      <th>0</th>\n",
       "      <td>GMETA</td>\n",
       "      <td>BSC</td>\n",
       "      <td>0X93023F1D3525E273F291B6F76D2F5027A39BF302</td>\n",
       "      <td>Yes</td>\n",
       "      <td>https://twitter.com/BeosinAlert/status/1681240...</td>\n",
       "      <td>0.0</td>\n",
       "      <td>1.0</td>\n",
       "      <td>0</td>\n",
       "      <td>0</td>\n",
       "      <td>0</td>\n",
       "      <td>0</td>\n",
       "      <td>0</td>\n",
       "      <td>0</td>\n",
       "      <td>0</td>\n",
       "      <td>1</td>\n",
       "    </tr>\n",
       "    <tr>\n",
       "      <th>1</th>\n",
       "      <td>Sudorare</td>\n",
       "      <td>ETH</td>\n",
       "      <td>0X5404EFAFDD8CC30053069DF2A1B0C4BA881B3E1E</td>\n",
       "      <td>Yes</td>\n",
       "      <td>https://x.com/PeckShieldAlert/status/156196749...</td>\n",
       "      <td>0.0</td>\n",
       "      <td>0.0</td>\n",
       "      <td>0</td>\n",
       "      <td>0</td>\n",
       "      <td>0</td>\n",
       "      <td>0</td>\n",
       "      <td>0</td>\n",
       "      <td>0</td>\n",
       "      <td>0</td>\n",
       "      <td>0</td>\n",
       "    </tr>\n",
       "    <tr>\n",
       "      <th>2</th>\n",
       "      <td>DRAC Network</td>\n",
       "      <td>ETH</td>\n",
       "      <td>0X10F6F2B97F3AB29583D9D38BABF2994DF7220C21</td>\n",
       "      <td>Yes</td>\n",
       "      <td>https://twitter.com/PeckShieldAlert/status/155...</td>\n",
       "      <td>0.0</td>\n",
       "      <td>0.0</td>\n",
       "      <td>0</td>\n",
       "      <td>0</td>\n",
       "      <td>0</td>\n",
       "      <td>0</td>\n",
       "      <td>0</td>\n",
       "      <td>0</td>\n",
       "      <td>0</td>\n",
       "      <td>1</td>\n",
       "    </tr>\n",
       "    <tr>\n",
       "      <th>3</th>\n",
       "      <td>DHE</td>\n",
       "      <td>BSC</td>\n",
       "      <td>0X11CBC781DADAAD13FC3A361772C80B1C027820AF</td>\n",
       "      <td>Yes</td>\n",
       "      <td>https://twitter.com/CertiKAlert/status/1539031...</td>\n",
       "      <td>0.0</td>\n",
       "      <td>1.0</td>\n",
       "      <td>1</td>\n",
       "      <td>0</td>\n",
       "      <td>0</td>\n",
       "      <td>0</td>\n",
       "      <td>0</td>\n",
       "      <td>0</td>\n",
       "      <td>0</td>\n",
       "      <td>0</td>\n",
       "    </tr>\n",
       "    <tr>\n",
       "      <th>4</th>\n",
       "      <td>ElonMVP</td>\n",
       "      <td>BSC</td>\n",
       "      <td>0X3E597EA168A85AA2AE5E2C4333665BCD875ED10F</td>\n",
       "      <td>Yes</td>\n",
       "      <td>https://twitter.com/PeckShieldAlert/status/153...</td>\n",
       "      <td>0.0</td>\n",
       "      <td>1.0</td>\n",
       "      <td>1</td>\n",
       "      <td>0</td>\n",
       "      <td>0</td>\n",
       "      <td>0</td>\n",
       "      <td>0</td>\n",
       "      <td>0</td>\n",
       "      <td>0</td>\n",
       "      <td>0</td>\n",
       "    </tr>\n",
       "  </tbody>\n",
       "</table>\n",
       "</div>"
      ],
      "text/plain": [
       "   Project Name Chain                                     Address Open Source  \\\n",
       "0         GMETA   BSC  0X93023F1D3525E273F291B6F76D2F5027A39BF302         Yes   \n",
       "1      Sudorare   ETH  0X5404EFAFDD8CC30053069DF2A1B0C4BA881B3E1E         Yes   \n",
       "2  DRAC Network   ETH  0X10F6F2B97F3AB29583D9D38BABF2994DF7220C21         Yes   \n",
       "3           DHE   BSC  0X11CBC781DADAAD13FC3A361772C80B1C027820AF         Yes   \n",
       "4       ElonMVP   BSC  0X3E597EA168A85AA2AE5E2C4333665BCD875ED10F         Yes   \n",
       "\n",
       "                                              Source  \\\n",
       "0  https://twitter.com/BeosinAlert/status/1681240...   \n",
       "1  https://x.com/PeckShieldAlert/status/156196749...   \n",
       "2  https://twitter.com/PeckShieldAlert/status/155...   \n",
       "3  https://twitter.com/CertiKAlert/status/1539031...   \n",
       "4  https://twitter.com/PeckShieldAlert/status/153...   \n",
       "\n",
       "   Hidden Balance Modification  Hidden Mint/Burn  Address Restrict  \\\n",
       "0                          0.0               1.0                 0   \n",
       "1                          0.0               0.0                 0   \n",
       "2                          0.0               0.0                 0   \n",
       "3                          0.0               1.0                 1   \n",
       "4                          0.0               1.0                 1   \n",
       "\n",
       "   Amount Restrict  Modifiable External Call  TimeStamp Restrict  \\\n",
       "0                0                         0                   0   \n",
       "1                0                         0                   0   \n",
       "2                0                         0                   0   \n",
       "3                0                         0                   0   \n",
       "4                0                         0                   0   \n",
       "\n",
       "   Hidden Balance Modification  Modifiable External Call  \\\n",
       "0                            0                         0   \n",
       "1                            0                         0   \n",
       "2                            0                         0   \n",
       "3                            0                         0   \n",
       "4                            0                         0   \n",
       "\n",
       "   Modifiable Tax Address  Modifiable Tax Rate  \n",
       "0                       0                    1  \n",
       "1                       0                    0  \n",
       "2                       0                    1  \n",
       "3                       0                    0  \n",
       "4                       0                    0  "
      ]
     },
     "execution_count": 324,
     "metadata": {},
     "output_type": "execute_result"
    }
   ],
   "source": [
    "experiment_df.head()"
   ]
  },
  {
   "cell_type": "markdown",
   "id": "808efc20",
   "metadata": {},
   "source": [
    "### Filter only have bytecode file"
   ]
  },
  {
   "cell_type": "code",
   "execution_count": 325,
   "id": "00f23c3a",
   "metadata": {},
   "outputs": [],
   "source": [
    "normal_list = [f.replace('.txt', \"\") for f in os.listdir(os.path.join(PATH, \"Normal-Bytecode\"))]\n",
    "rug_list = [f.replace('.txt', \"\") for f in os.listdir(os.path.join(PATH, \"Rug-Bytecode\"))]\n",
    "combined_list = list(set(normal_list + rug_list))\n",
    "hex_df = pd.DataFrame({'Address': combined_list})"
   ]
  },
  {
   "cell_type": "code",
   "execution_count": 326,
   "id": "8d423218",
   "metadata": {},
   "outputs": [],
   "source": [
    "hex_address_set = set(hex_df['Address'].str.lower())\n",
    "total_df = total_df[total_df['Address'].str.lower().isin(hex_address_set)]\n",
    "experiment_df = experiment_df[experiment_df['Address'].str.lower().isin(hex_address_set)]"
   ]
  },
  {
   "cell_type": "code",
   "execution_count": 329,
   "id": "18e1de03",
   "metadata": {},
   "outputs": [
    {
     "name": "stdout",
     "output_type": "stream",
     "text": [
      "<class 'pandas.core.frame.DataFrame'>\n",
      "Index: 415 entries, 0 to 688\n",
      "Data columns (total 15 columns):\n",
      " #   Column                       Non-Null Count  Dtype \n",
      "---  ------                       --------------  ----- \n",
      " 0   Project Name                 415 non-null    object\n",
      " 1   Chain                        415 non-null    object\n",
      " 2   Address                      415 non-null    object\n",
      " 3   Open Source                  415 non-null    object\n",
      " 4   Source                       415 non-null    object\n",
      " 5   Hidden Balance Modification  415 non-null    int64 \n",
      " 6   Hidden Mint/Burn             415 non-null    int64 \n",
      " 7   Address Restrict             415 non-null    int64 \n",
      " 8   Amount Restrict              415 non-null    int64 \n",
      " 9   Modifiable External Call     415 non-null    int64 \n",
      " 10  TimeStamp Restrict           415 non-null    int64 \n",
      " 11  Hidden Balance Modification  415 non-null    int64 \n",
      " 12  Modifiable External Call     415 non-null    int64 \n",
      " 13  Modifiable Tax Address       415 non-null    int64 \n",
      " 14  Modifiable Tax Rate          415 non-null    int64 \n",
      "dtypes: int64(10), object(5)\n",
      "memory usage: 51.9+ KB\n"
     ]
    }
   ],
   "source": [
    "total_df.info()"
   ]
  },
  {
   "cell_type": "code",
   "execution_count": 330,
   "id": "a428fc9e",
   "metadata": {},
   "outputs": [
    {
     "name": "stdout",
     "output_type": "stream",
     "text": [
      "<class 'pandas.core.frame.DataFrame'>\n",
      "Index: 415 entries, 0 to 415\n",
      "Data columns (total 15 columns):\n",
      " #   Column                       Non-Null Count  Dtype  \n",
      "---  ------                       --------------  -----  \n",
      " 0   Project Name                 415 non-null    object \n",
      " 1   Chain                        415 non-null    object \n",
      " 2   Address                      415 non-null    object \n",
      " 3   Open Source                  415 non-null    object \n",
      " 4   Source                       415 non-null    object \n",
      " 5   Hidden Balance Modification  414 non-null    float64\n",
      " 6   Hidden Mint/Burn             414 non-null    float64\n",
      " 7   Address Restrict             415 non-null    int64  \n",
      " 8   Amount Restrict              415 non-null    int64  \n",
      " 9   Modifiable External Call     415 non-null    int64  \n",
      " 10  TimeStamp Restrict           415 non-null    int64  \n",
      " 11  Hidden Balance Modification  415 non-null    int64  \n",
      " 12  Modifiable External Call     415 non-null    int64  \n",
      " 13  Modifiable Tax Address       415 non-null    int64  \n",
      " 14  Modifiable Tax Rate          415 non-null    int64  \n",
      "dtypes: float64(2), int64(8), object(5)\n",
      "memory usage: 51.9+ KB\n"
     ]
    }
   ],
   "source": [
    "experiment_df.info()"
   ]
  },
  {
   "cell_type": "markdown",
   "id": "19abd965",
   "metadata": {},
   "source": [
    "## Save the clean file"
   ]
  },
  {
   "cell_type": "code",
   "execution_count": 334,
   "id": "f0e727d1",
   "metadata": {},
   "outputs": [],
   "source": [
    "SAVE_PATH = f\"{Path.cwd().parents[1]}/data/interim/rphunter\"\n",
    "total_df.to_csv(f\"{SAVE_PATH}/total.csv\")\n",
    "experiment_df.to_csv(f\"{SAVE_PATH}/experiment.csv\")"
   ]
  },
  {
   "cell_type": "code",
   "execution_count": null,
   "id": "a594c0fe",
   "metadata": {},
   "outputs": [],
   "source": []
  }
 ],
 "metadata": {
  "kernelspec": {
   "display_name": "ml-algo",
   "language": "python",
   "name": "python3"
  },
  "language_info": {
   "codemirror_mode": {
    "name": "ipython",
    "version": 3
   },
   "file_extension": ".py",
   "mimetype": "text/x-python",
   "name": "python",
   "nbconvert_exporter": "python",
   "pygments_lexer": "ipython3",
   "version": "3.12.7"
  }
 },
 "nbformat": 4,
 "nbformat_minor": 5
}
