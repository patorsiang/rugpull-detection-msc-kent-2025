{
 "cells": [
  {
   "cell_type": "markdown",
   "id": "a50da0fd",
   "metadata": {},
   "source": [
    "# Exploratory Data Analysis (EDA)"
   ]
  },
  {
   "cell_type": "markdown",
   "id": "008639ca",
   "metadata": {},
   "source": [
    "In this notebook, we perform exploratory data analysis to understand:\n",
    "\n",
    "- class distributions\n",
    "- missing values\n",
    "- data quality issues"
   ]
  },
  {
   "cell_type": "markdown",
   "id": "f39e46ce",
   "metadata": {},
   "source": [
    "## Imports & Configuration"
   ]
  },
  {
   "cell_type": "code",
   "execution_count": 1,
   "id": "ea3ae275",
   "metadata": {},
   "outputs": [],
   "source": [
    "import warnings\n",
    "warnings.filterwarnings(\"ignore\")\n",
    "\n",
    "import pandas as pd\n",
    "import matplotlib.pyplot as plt\n",
    "import os\n",
    "import seaborn as sns\n",
    "from pathlib import Path\n",
    "\n",
    "%matplotlib inline\n",
    "sns.set(style=\"whitegrid\")\n"
   ]
  },
  {
   "cell_type": "code",
   "execution_count": 2,
   "id": "62d7089c",
   "metadata": {},
   "outputs": [
    {
     "data": {
      "text/plain": [
       "PosixPath('/Users/napatcholthaipanich/Dev/master/dissertation/workspace/ml')"
      ]
     },
     "execution_count": 2,
     "metadata": {},
     "output_type": "execute_result"
    }
   ],
   "source": [
    "Path.cwd().parents[1]"
   ]
  },
  {
   "cell_type": "code",
   "execution_count": 3,
   "id": "b15e950a",
   "metadata": {},
   "outputs": [],
   "source": [
    "PATH = os.path.join(Path.cwd().parents[1], \"data/interim/rphunter\")"
   ]
  },
  {
   "cell_type": "markdown",
   "id": "88ad5537",
   "metadata": {},
   "source": [
    "## Load Data"
   ]
  },
  {
   "cell_type": "code",
   "execution_count": 4,
   "id": "f95e7851",
   "metadata": {},
   "outputs": [],
   "source": [
    "total_df = pd.read_csv(os.path.join(PATH, 'total.csv'))\n",
    "experiment_df = pd.read_csv(os.path.join(PATH, 'experiment.csv'))\n",
    "combined_df = pd.concat([total_df, experiment_df], ignore_index=True)\n",
    "combined_df = combined_df.drop_duplicates(ignore_index=True)"
   ]
  },
  {
   "cell_type": "markdown",
   "id": "ebc15feb",
   "metadata": {},
   "source": [
    "## Initial Inspection"
   ]
  },
  {
   "cell_type": "code",
   "execution_count": 5,
   "id": "6aa469ac",
   "metadata": {},
   "outputs": [
    {
     "name": "stdout",
     "output_type": "stream",
     "text": [
      "<class 'pandas.core.frame.DataFrame'>\n",
      "RangeIndex: 616 entries, 0 to 615\n",
      "Data columns (total 18 columns):\n",
      " #   Column                         Non-Null Count  Dtype \n",
      "---  ------                         --------------  ----- \n",
      " 0   Project Name                   614 non-null    object\n",
      " 1   Chain                          614 non-null    object\n",
      " 2   Address                        614 non-null    object\n",
      " 3   Open Source                    614 non-null    object\n",
      " 4   Source                         614 non-null    object\n",
      " 5   Address_lower                  614 non-null    object\n",
      " 6   in_normal                      614 non-null    object\n",
      " 7   in_rug                         614 non-null    object\n",
      " 8   Hidden Balance Modification    616 non-null    int64 \n",
      " 9   Hidden Mint/Burn               616 non-null    int64 \n",
      " 10  Address Restrict               616 non-null    int64 \n",
      " 11  Amount Restrict                616 non-null    int64 \n",
      " 12  Modifiable External Call       616 non-null    int64 \n",
      " 13  TimeStamp Restrict             616 non-null    int64 \n",
      " 14  Hidden Balance Modification.1  616 non-null    int64 \n",
      " 15  Modifiable External Call.1     616 non-null    int64 \n",
      " 16  Modifiable Tax Address         616 non-null    int64 \n",
      " 17  Modifiable Tax Rate            616 non-null    int64 \n",
      "dtypes: int64(10), object(8)\n",
      "memory usage: 86.8+ KB\n"
     ]
    }
   ],
   "source": [
    "combined_df.info()"
   ]
  },
  {
   "cell_type": "code",
   "execution_count": 6,
   "id": "c648246e",
   "metadata": {},
   "outputs": [
    {
     "data": {
      "application/vnd.microsoft.datawrangler.viewer.v0+json": {
       "columns": [
        {
         "name": "index",
         "rawType": "int64",
         "type": "integer"
        },
        {
         "name": "Project Name",
         "rawType": "object",
         "type": "string"
        },
        {
         "name": "Chain",
         "rawType": "object",
         "type": "string"
        },
        {
         "name": "Address",
         "rawType": "object",
         "type": "string"
        },
        {
         "name": "Open Source",
         "rawType": "object",
         "type": "string"
        },
        {
         "name": "Source",
         "rawType": "object",
         "type": "string"
        },
        {
         "name": "Address_lower",
         "rawType": "object",
         "type": "string"
        },
        {
         "name": "in_normal",
         "rawType": "object",
         "type": "unknown"
        },
        {
         "name": "in_rug",
         "rawType": "object",
         "type": "unknown"
        },
        {
         "name": "Hidden Balance Modification",
         "rawType": "int64",
         "type": "integer"
        },
        {
         "name": "Hidden Mint/Burn",
         "rawType": "int64",
         "type": "integer"
        },
        {
         "name": "Address Restrict",
         "rawType": "int64",
         "type": "integer"
        },
        {
         "name": "Amount Restrict",
         "rawType": "int64",
         "type": "integer"
        },
        {
         "name": "Modifiable External Call",
         "rawType": "int64",
         "type": "integer"
        },
        {
         "name": "TimeStamp Restrict",
         "rawType": "int64",
         "type": "integer"
        },
        {
         "name": "Hidden Balance Modification.1",
         "rawType": "int64",
         "type": "integer"
        },
        {
         "name": "Modifiable External Call.1",
         "rawType": "int64",
         "type": "integer"
        },
        {
         "name": "Modifiable Tax Address",
         "rawType": "int64",
         "type": "integer"
        },
        {
         "name": "Modifiable Tax Rate",
         "rawType": "int64",
         "type": "integer"
        }
       ],
       "ref": "4f373afd-e5a4-4178-bf73-f03c6fa230fa",
       "rows": [
        [
         "0",
         "GMETA",
         "BSC",
         "0X93023F1D3525E273F291B6F76D2F5027A39BF302",
         "Yes",
         "https://twitter.com/BeosinAlert/status/1681240663868973056",
         "0x93023f1d3525e273f291b6f76d2f5027a39bf302",
         "False",
         "True",
         "0",
         "1",
         "0",
         "0",
         "0",
         "0",
         "0",
         "0",
         "0",
         "1"
        ],
        [
         "1",
         "PokémonFi",
         "BSC",
         "0X2753DCE37A7EDB052A77832039BCC9AA49AD8B25",
         "Yes",
         "https://twitter.com/CertiKAlert/status/1562555089306685440",
         "0x2753dce37a7edb052a77832039bcc9aa49ad8b25",
         "False",
         "True",
         "0",
         "0",
         "1",
         "0",
         "0",
         "0",
         "0",
         "0",
         "0",
         "0"
        ],
        [
         "2",
         "Sudorare",
         "ETH",
         "0X5404EFAFDD8CC30053069DF2A1B0C4BA881B3E1E",
         "Yes",
         "https://x.com/PeckShieldAlert/status/1561967493912363008",
         "0x5404efafdd8cc30053069df2a1b0c4ba881b3e1e",
         "False",
         "True",
         "0",
         "1",
         "0",
         "0",
         "0",
         "0",
         "0",
         "0",
         "0",
         "0"
        ],
        [
         "3",
         "DRAC Network",
         "ETH",
         "0X10F6F2B97F3AB29583D9D38BABF2994DF7220C21",
         "Yes",
         "https://twitter.com/PeckShieldAlert/status/1551409593397350401",
         "0x10f6f2b97f3ab29583d9d38babf2994df7220c21",
         "False",
         "True",
         "0",
         "1",
         "0",
         "0",
         "0",
         "0",
         "0",
         "0",
         "0",
         "1"
        ],
        [
         "4",
         "DHE",
         "BSC",
         "0X11CBC781DADAAD13FC3A361772C80B1C027820AF",
         "Yes",
         "https://twitter.com/CertiKAlert/status/1539031511114063873",
         "0x11cbc781dadaad13fc3a361772c80b1c027820af",
         "False",
         "True",
         "0",
         "0",
         "1",
         "0",
         "0",
         "0",
         "0",
         "0",
         "0",
         "0"
        ]
       ],
       "shape": {
        "columns": 18,
        "rows": 5
       }
      },
      "text/html": [
       "<div>\n",
       "<style scoped>\n",
       "    .dataframe tbody tr th:only-of-type {\n",
       "        vertical-align: middle;\n",
       "    }\n",
       "\n",
       "    .dataframe tbody tr th {\n",
       "        vertical-align: top;\n",
       "    }\n",
       "\n",
       "    .dataframe thead th {\n",
       "        text-align: right;\n",
       "    }\n",
       "</style>\n",
       "<table border=\"1\" class=\"dataframe\">\n",
       "  <thead>\n",
       "    <tr style=\"text-align: right;\">\n",
       "      <th></th>\n",
       "      <th>Project Name</th>\n",
       "      <th>Chain</th>\n",
       "      <th>Address</th>\n",
       "      <th>Open Source</th>\n",
       "      <th>Source</th>\n",
       "      <th>Address_lower</th>\n",
       "      <th>in_normal</th>\n",
       "      <th>in_rug</th>\n",
       "      <th>Hidden Balance Modification</th>\n",
       "      <th>Hidden Mint/Burn</th>\n",
       "      <th>Address Restrict</th>\n",
       "      <th>Amount Restrict</th>\n",
       "      <th>Modifiable External Call</th>\n",
       "      <th>TimeStamp Restrict</th>\n",
       "      <th>Hidden Balance Modification.1</th>\n",
       "      <th>Modifiable External Call.1</th>\n",
       "      <th>Modifiable Tax Address</th>\n",
       "      <th>Modifiable Tax Rate</th>\n",
       "    </tr>\n",
       "  </thead>\n",
       "  <tbody>\n",
       "    <tr>\n",
       "      <th>0</th>\n",
       "      <td>GMETA</td>\n",
       "      <td>BSC</td>\n",
       "      <td>0X93023F1D3525E273F291B6F76D2F5027A39BF302</td>\n",
       "      <td>Yes</td>\n",
       "      <td>https://twitter.com/BeosinAlert/status/1681240...</td>\n",
       "      <td>0x93023f1d3525e273f291b6f76d2f5027a39bf302</td>\n",
       "      <td>False</td>\n",
       "      <td>True</td>\n",
       "      <td>0</td>\n",
       "      <td>1</td>\n",
       "      <td>0</td>\n",
       "      <td>0</td>\n",
       "      <td>0</td>\n",
       "      <td>0</td>\n",
       "      <td>0</td>\n",
       "      <td>0</td>\n",
       "      <td>0</td>\n",
       "      <td>1</td>\n",
       "    </tr>\n",
       "    <tr>\n",
       "      <th>1</th>\n",
       "      <td>PokémonFi</td>\n",
       "      <td>BSC</td>\n",
       "      <td>0X2753DCE37A7EDB052A77832039BCC9AA49AD8B25</td>\n",
       "      <td>Yes</td>\n",
       "      <td>https://twitter.com/CertiKAlert/status/1562555...</td>\n",
       "      <td>0x2753dce37a7edb052a77832039bcc9aa49ad8b25</td>\n",
       "      <td>False</td>\n",
       "      <td>True</td>\n",
       "      <td>0</td>\n",
       "      <td>0</td>\n",
       "      <td>1</td>\n",
       "      <td>0</td>\n",
       "      <td>0</td>\n",
       "      <td>0</td>\n",
       "      <td>0</td>\n",
       "      <td>0</td>\n",
       "      <td>0</td>\n",
       "      <td>0</td>\n",
       "    </tr>\n",
       "    <tr>\n",
       "      <th>2</th>\n",
       "      <td>Sudorare</td>\n",
       "      <td>ETH</td>\n",
       "      <td>0X5404EFAFDD8CC30053069DF2A1B0C4BA881B3E1E</td>\n",
       "      <td>Yes</td>\n",
       "      <td>https://x.com/PeckShieldAlert/status/156196749...</td>\n",
       "      <td>0x5404efafdd8cc30053069df2a1b0c4ba881b3e1e</td>\n",
       "      <td>False</td>\n",
       "      <td>True</td>\n",
       "      <td>0</td>\n",
       "      <td>1</td>\n",
       "      <td>0</td>\n",
       "      <td>0</td>\n",
       "      <td>0</td>\n",
       "      <td>0</td>\n",
       "      <td>0</td>\n",
       "      <td>0</td>\n",
       "      <td>0</td>\n",
       "      <td>0</td>\n",
       "    </tr>\n",
       "    <tr>\n",
       "      <th>3</th>\n",
       "      <td>DRAC Network</td>\n",
       "      <td>ETH</td>\n",
       "      <td>0X10F6F2B97F3AB29583D9D38BABF2994DF7220C21</td>\n",
       "      <td>Yes</td>\n",
       "      <td>https://twitter.com/PeckShieldAlert/status/155...</td>\n",
       "      <td>0x10f6f2b97f3ab29583d9d38babf2994df7220c21</td>\n",
       "      <td>False</td>\n",
       "      <td>True</td>\n",
       "      <td>0</td>\n",
       "      <td>1</td>\n",
       "      <td>0</td>\n",
       "      <td>0</td>\n",
       "      <td>0</td>\n",
       "      <td>0</td>\n",
       "      <td>0</td>\n",
       "      <td>0</td>\n",
       "      <td>0</td>\n",
       "      <td>1</td>\n",
       "    </tr>\n",
       "    <tr>\n",
       "      <th>4</th>\n",
       "      <td>DHE</td>\n",
       "      <td>BSC</td>\n",
       "      <td>0X11CBC781DADAAD13FC3A361772C80B1C027820AF</td>\n",
       "      <td>Yes</td>\n",
       "      <td>https://twitter.com/CertiKAlert/status/1539031...</td>\n",
       "      <td>0x11cbc781dadaad13fc3a361772c80b1c027820af</td>\n",
       "      <td>False</td>\n",
       "      <td>True</td>\n",
       "      <td>0</td>\n",
       "      <td>0</td>\n",
       "      <td>1</td>\n",
       "      <td>0</td>\n",
       "      <td>0</td>\n",
       "      <td>0</td>\n",
       "      <td>0</td>\n",
       "      <td>0</td>\n",
       "      <td>0</td>\n",
       "      <td>0</td>\n",
       "    </tr>\n",
       "  </tbody>\n",
       "</table>\n",
       "</div>"
      ],
      "text/plain": [
       "   Project Name Chain                                     Address Open Source  \\\n",
       "0         GMETA   BSC  0X93023F1D3525E273F291B6F76D2F5027A39BF302         Yes   \n",
       "1     PokémonFi   BSC  0X2753DCE37A7EDB052A77832039BCC9AA49AD8B25         Yes   \n",
       "2      Sudorare   ETH  0X5404EFAFDD8CC30053069DF2A1B0C4BA881B3E1E         Yes   \n",
       "3  DRAC Network   ETH  0X10F6F2B97F3AB29583D9D38BABF2994DF7220C21         Yes   \n",
       "4           DHE   BSC  0X11CBC781DADAAD13FC3A361772C80B1C027820AF         Yes   \n",
       "\n",
       "                                              Source  \\\n",
       "0  https://twitter.com/BeosinAlert/status/1681240...   \n",
       "1  https://twitter.com/CertiKAlert/status/1562555...   \n",
       "2  https://x.com/PeckShieldAlert/status/156196749...   \n",
       "3  https://twitter.com/PeckShieldAlert/status/155...   \n",
       "4  https://twitter.com/CertiKAlert/status/1539031...   \n",
       "\n",
       "                                Address_lower in_normal in_rug  \\\n",
       "0  0x93023f1d3525e273f291b6f76d2f5027a39bf302     False   True   \n",
       "1  0x2753dce37a7edb052a77832039bcc9aa49ad8b25     False   True   \n",
       "2  0x5404efafdd8cc30053069df2a1b0c4ba881b3e1e     False   True   \n",
       "3  0x10f6f2b97f3ab29583d9d38babf2994df7220c21     False   True   \n",
       "4  0x11cbc781dadaad13fc3a361772c80b1c027820af     False   True   \n",
       "\n",
       "   Hidden Balance Modification  Hidden Mint/Burn  Address Restrict  \\\n",
       "0                            0                 1                 0   \n",
       "1                            0                 0                 1   \n",
       "2                            0                 1                 0   \n",
       "3                            0                 1                 0   \n",
       "4                            0                 0                 1   \n",
       "\n",
       "   Amount Restrict  Modifiable External Call  TimeStamp Restrict  \\\n",
       "0                0                         0                   0   \n",
       "1                0                         0                   0   \n",
       "2                0                         0                   0   \n",
       "3                0                         0                   0   \n",
       "4                0                         0                   0   \n",
       "\n",
       "   Hidden Balance Modification.1  Modifiable External Call.1  \\\n",
       "0                              0                           0   \n",
       "1                              0                           0   \n",
       "2                              0                           0   \n",
       "3                              0                           0   \n",
       "4                              0                           0   \n",
       "\n",
       "   Modifiable Tax Address  Modifiable Tax Rate  \n",
       "0                       0                    1  \n",
       "1                       0                    0  \n",
       "2                       0                    0  \n",
       "3                       0                    1  \n",
       "4                       0                    0  "
      ]
     },
     "execution_count": 6,
     "metadata": {},
     "output_type": "execute_result"
    }
   ],
   "source": [
    "combined_df.head()"
   ]
  },
  {
   "cell_type": "code",
   "execution_count": 7,
   "id": "16c08a75",
   "metadata": {},
   "outputs": [
    {
     "data": {
      "application/vnd.microsoft.datawrangler.viewer.v0+json": {
       "columns": [
        {
         "name": "index",
         "rawType": "object",
         "type": "string"
        },
        {
         "name": "Hidden Balance Modification",
         "rawType": "float64",
         "type": "float"
        },
        {
         "name": "Hidden Mint/Burn",
         "rawType": "float64",
         "type": "float"
        },
        {
         "name": "Address Restrict",
         "rawType": "float64",
         "type": "float"
        },
        {
         "name": "Amount Restrict",
         "rawType": "float64",
         "type": "float"
        },
        {
         "name": "Modifiable External Call",
         "rawType": "float64",
         "type": "float"
        },
        {
         "name": "TimeStamp Restrict",
         "rawType": "float64",
         "type": "float"
        },
        {
         "name": "Hidden Balance Modification.1",
         "rawType": "float64",
         "type": "float"
        },
        {
         "name": "Modifiable External Call.1",
         "rawType": "float64",
         "type": "float"
        },
        {
         "name": "Modifiable Tax Address",
         "rawType": "float64",
         "type": "float"
        },
        {
         "name": "Modifiable Tax Rate",
         "rawType": "float64",
         "type": "float"
        }
       ],
       "ref": "385371a9-5c96-4211-b379-c4c91ebbc089",
       "rows": [
        [
         "count",
         "616.0",
         "616.0",
         "616.0",
         "616.0",
         "616.0",
         "616.0",
         "616.0",
         "616.0",
         "616.0",
         "616.0"
        ],
        [
         "mean",
         "0.14935064935064934",
         "0.3717532467532468",
         "0.30194805194805197",
         "0.22564935064935066",
         "0.003246753246753247",
         "0.030844155844155844",
         "0.0016233766233766235",
         "0.09415584415584416",
         "0.06493506493506493",
         "0.18993506493506493"
        ],
        [
         "std",
         "0.3567234365421474",
         "0.4836657222542759",
         "0.4594759516476791",
         "0.41834894265519046",
         "0.05693394394542933",
         "0.17303583462205532",
         "0.040291148201269014",
         "0.29228274827878575",
         "0.24661149922284417",
         "0.3925683564371537"
        ],
        [
         "min",
         "0.0",
         "0.0",
         "0.0",
         "0.0",
         "0.0",
         "0.0",
         "0.0",
         "0.0",
         "0.0",
         "0.0"
        ],
        [
         "25%",
         "0.0",
         "0.0",
         "0.0",
         "0.0",
         "0.0",
         "0.0",
         "0.0",
         "0.0",
         "0.0",
         "0.0"
        ],
        [
         "50%",
         "0.0",
         "0.0",
         "0.0",
         "0.0",
         "0.0",
         "0.0",
         "0.0",
         "0.0",
         "0.0",
         "0.0"
        ],
        [
         "75%",
         "0.0",
         "1.0",
         "1.0",
         "0.0",
         "0.0",
         "0.0",
         "0.0",
         "0.0",
         "0.0",
         "0.0"
        ],
        [
         "max",
         "1.0",
         "1.0",
         "1.0",
         "1.0",
         "1.0",
         "1.0",
         "1.0",
         "1.0",
         "1.0",
         "1.0"
        ]
       ],
       "shape": {
        "columns": 10,
        "rows": 8
       }
      },
      "text/html": [
       "<div>\n",
       "<style scoped>\n",
       "    .dataframe tbody tr th:only-of-type {\n",
       "        vertical-align: middle;\n",
       "    }\n",
       "\n",
       "    .dataframe tbody tr th {\n",
       "        vertical-align: top;\n",
       "    }\n",
       "\n",
       "    .dataframe thead th {\n",
       "        text-align: right;\n",
       "    }\n",
       "</style>\n",
       "<table border=\"1\" class=\"dataframe\">\n",
       "  <thead>\n",
       "    <tr style=\"text-align: right;\">\n",
       "      <th></th>\n",
       "      <th>Hidden Balance Modification</th>\n",
       "      <th>Hidden Mint/Burn</th>\n",
       "      <th>Address Restrict</th>\n",
       "      <th>Amount Restrict</th>\n",
       "      <th>Modifiable External Call</th>\n",
       "      <th>TimeStamp Restrict</th>\n",
       "      <th>Hidden Balance Modification.1</th>\n",
       "      <th>Modifiable External Call.1</th>\n",
       "      <th>Modifiable Tax Address</th>\n",
       "      <th>Modifiable Tax Rate</th>\n",
       "    </tr>\n",
       "  </thead>\n",
       "  <tbody>\n",
       "    <tr>\n",
       "      <th>count</th>\n",
       "      <td>616.000000</td>\n",
       "      <td>616.000000</td>\n",
       "      <td>616.000000</td>\n",
       "      <td>616.000000</td>\n",
       "      <td>616.000000</td>\n",
       "      <td>616.000000</td>\n",
       "      <td>616.000000</td>\n",
       "      <td>616.000000</td>\n",
       "      <td>616.000000</td>\n",
       "      <td>616.000000</td>\n",
       "    </tr>\n",
       "    <tr>\n",
       "      <th>mean</th>\n",
       "      <td>0.149351</td>\n",
       "      <td>0.371753</td>\n",
       "      <td>0.301948</td>\n",
       "      <td>0.225649</td>\n",
       "      <td>0.003247</td>\n",
       "      <td>0.030844</td>\n",
       "      <td>0.001623</td>\n",
       "      <td>0.094156</td>\n",
       "      <td>0.064935</td>\n",
       "      <td>0.189935</td>\n",
       "    </tr>\n",
       "    <tr>\n",
       "      <th>std</th>\n",
       "      <td>0.356723</td>\n",
       "      <td>0.483666</td>\n",
       "      <td>0.459476</td>\n",
       "      <td>0.418349</td>\n",
       "      <td>0.056934</td>\n",
       "      <td>0.173036</td>\n",
       "      <td>0.040291</td>\n",
       "      <td>0.292283</td>\n",
       "      <td>0.246611</td>\n",
       "      <td>0.392568</td>\n",
       "    </tr>\n",
       "    <tr>\n",
       "      <th>min</th>\n",
       "      <td>0.000000</td>\n",
       "      <td>0.000000</td>\n",
       "      <td>0.000000</td>\n",
       "      <td>0.000000</td>\n",
       "      <td>0.000000</td>\n",
       "      <td>0.000000</td>\n",
       "      <td>0.000000</td>\n",
       "      <td>0.000000</td>\n",
       "      <td>0.000000</td>\n",
       "      <td>0.000000</td>\n",
       "    </tr>\n",
       "    <tr>\n",
       "      <th>25%</th>\n",
       "      <td>0.000000</td>\n",
       "      <td>0.000000</td>\n",
       "      <td>0.000000</td>\n",
       "      <td>0.000000</td>\n",
       "      <td>0.000000</td>\n",
       "      <td>0.000000</td>\n",
       "      <td>0.000000</td>\n",
       "      <td>0.000000</td>\n",
       "      <td>0.000000</td>\n",
       "      <td>0.000000</td>\n",
       "    </tr>\n",
       "    <tr>\n",
       "      <th>50%</th>\n",
       "      <td>0.000000</td>\n",
       "      <td>0.000000</td>\n",
       "      <td>0.000000</td>\n",
       "      <td>0.000000</td>\n",
       "      <td>0.000000</td>\n",
       "      <td>0.000000</td>\n",
       "      <td>0.000000</td>\n",
       "      <td>0.000000</td>\n",
       "      <td>0.000000</td>\n",
       "      <td>0.000000</td>\n",
       "    </tr>\n",
       "    <tr>\n",
       "      <th>75%</th>\n",
       "      <td>0.000000</td>\n",
       "      <td>1.000000</td>\n",
       "      <td>1.000000</td>\n",
       "      <td>0.000000</td>\n",
       "      <td>0.000000</td>\n",
       "      <td>0.000000</td>\n",
       "      <td>0.000000</td>\n",
       "      <td>0.000000</td>\n",
       "      <td>0.000000</td>\n",
       "      <td>0.000000</td>\n",
       "    </tr>\n",
       "    <tr>\n",
       "      <th>max</th>\n",
       "      <td>1.000000</td>\n",
       "      <td>1.000000</td>\n",
       "      <td>1.000000</td>\n",
       "      <td>1.000000</td>\n",
       "      <td>1.000000</td>\n",
       "      <td>1.000000</td>\n",
       "      <td>1.000000</td>\n",
       "      <td>1.000000</td>\n",
       "      <td>1.000000</td>\n",
       "      <td>1.000000</td>\n",
       "    </tr>\n",
       "  </tbody>\n",
       "</table>\n",
       "</div>"
      ],
      "text/plain": [
       "       Hidden Balance Modification  Hidden Mint/Burn  Address Restrict  \\\n",
       "count                   616.000000        616.000000        616.000000   \n",
       "mean                      0.149351          0.371753          0.301948   \n",
       "std                       0.356723          0.483666          0.459476   \n",
       "min                       0.000000          0.000000          0.000000   \n",
       "25%                       0.000000          0.000000          0.000000   \n",
       "50%                       0.000000          0.000000          0.000000   \n",
       "75%                       0.000000          1.000000          1.000000   \n",
       "max                       1.000000          1.000000          1.000000   \n",
       "\n",
       "       Amount Restrict  Modifiable External Call  TimeStamp Restrict  \\\n",
       "count       616.000000                616.000000          616.000000   \n",
       "mean          0.225649                  0.003247            0.030844   \n",
       "std           0.418349                  0.056934            0.173036   \n",
       "min           0.000000                  0.000000            0.000000   \n",
       "25%           0.000000                  0.000000            0.000000   \n",
       "50%           0.000000                  0.000000            0.000000   \n",
       "75%           0.000000                  0.000000            0.000000   \n",
       "max           1.000000                  1.000000            1.000000   \n",
       "\n",
       "       Hidden Balance Modification.1  Modifiable External Call.1  \\\n",
       "count                     616.000000                  616.000000   \n",
       "mean                        0.001623                    0.094156   \n",
       "std                         0.040291                    0.292283   \n",
       "min                         0.000000                    0.000000   \n",
       "25%                         0.000000                    0.000000   \n",
       "50%                         0.000000                    0.000000   \n",
       "75%                         0.000000                    0.000000   \n",
       "max                         1.000000                    1.000000   \n",
       "\n",
       "       Modifiable Tax Address  Modifiable Tax Rate  \n",
       "count              616.000000           616.000000  \n",
       "mean                 0.064935             0.189935  \n",
       "std                  0.246611             0.392568  \n",
       "min                  0.000000             0.000000  \n",
       "25%                  0.000000             0.000000  \n",
       "50%                  0.000000             0.000000  \n",
       "75%                  0.000000             0.000000  \n",
       "max                  1.000000             1.000000  "
      ]
     },
     "execution_count": 7,
     "metadata": {},
     "output_type": "execute_result"
    }
   ],
   "source": [
    "combined_df.describe()"
   ]
  },
  {
   "cell_type": "code",
   "execution_count": 8,
   "id": "5e974b43",
   "metadata": {},
   "outputs": [
    {
     "data": {
      "text/plain": [
       "Index(['Project Name', 'Chain', 'Address', 'Open Source', 'Source',\n",
       "       'Address_lower', 'in_normal', 'in_rug', 'Hidden Balance Modification',\n",
       "       'Hidden Mint/Burn', 'Address Restrict', 'Amount Restrict',\n",
       "       'Modifiable External Call', 'TimeStamp Restrict',\n",
       "       'Hidden Balance Modification.1', 'Modifiable External Call.1',\n",
       "       'Modifiable Tax Address', 'Modifiable Tax Rate'],\n",
       "      dtype='object')"
      ]
     },
     "execution_count": 8,
     "metadata": {},
     "output_type": "execute_result"
    }
   ],
   "source": [
    "combined_df.columns"
   ]
  },
  {
   "cell_type": "code",
   "execution_count": 9,
   "id": "0bab2780",
   "metadata": {},
   "outputs": [],
   "source": [
    "column_merge_map = {\n",
    "    \"Hidden Balance Modification\": [\"Hidden Balance Modification\", \"Hidden Balance Modification.1\"],\n",
    "    \"Modifiable External Call\": [\"Modifiable External Call\", \"Modifiable External Call.1\"],\n",
    "}\n",
    "\n",
    "# Merge by summing values across duplicates\n",
    "for new_col, col_variants in column_merge_map.items():\n",
    "    combined_df[new_col] = combined_df[col_variants].sum(axis=1)\n",
    "    combined_df.drop(columns=[col for col in col_variants if col != new_col], inplace=True)"
   ]
  },
  {
   "cell_type": "code",
   "execution_count": 10,
   "id": "dbe8c191",
   "metadata": {},
   "outputs": [
    {
     "data": {
      "text/plain": [
       "Index(['Project Name', 'Chain', 'Address', 'Open Source', 'Source',\n",
       "       'Address_lower', 'in_normal', 'in_rug', 'Hidden Balance Modification',\n",
       "       'Hidden Mint/Burn', 'Address Restrict', 'Amount Restrict',\n",
       "       'Modifiable External Call', 'TimeStamp Restrict',\n",
       "       'Modifiable Tax Address', 'Modifiable Tax Rate'],\n",
       "      dtype='object')"
      ]
     },
     "execution_count": 10,
     "metadata": {},
     "output_type": "execute_result"
    }
   ],
   "source": [
    "combined_df.columns"
   ]
  },
  {
   "cell_type": "markdown",
   "id": "6b8ea882",
   "metadata": {},
   "source": [
    "## Labels Distribution"
   ]
  },
  {
   "cell_type": "code",
   "execution_count": 11,
   "id": "94a9131f",
   "metadata": {},
   "outputs": [
    {
     "data": {
      "application/vnd.microsoft.datawrangler.viewer.v0+json": {
       "columns": [
        {
         "name": "index",
         "rawType": "object",
         "type": "string"
        },
        {
         "name": "0",
         "rawType": "int64",
         "type": "integer"
        }
       ],
       "ref": "cada59ff-c52b-400b-99e4-16f615420b19",
       "rows": [
        [
         "Hidden Balance Modification",
         "93"
        ],
        [
         "Hidden Mint/Burn",
         "229"
        ],
        [
         "Address Restrict",
         "186"
        ],
        [
         "Amount Restrict",
         "139"
        ],
        [
         "Modifiable External Call",
         "60"
        ],
        [
         "TimeStamp Restrict",
         "19"
        ],
        [
         "Modifiable Tax Address",
         "40"
        ],
        [
         "Modifiable Tax Rate",
         "117"
        ]
       ],
       "shape": {
        "columns": 1,
        "rows": 8
       }
      },
      "text/plain": [
       "Hidden Balance Modification     93\n",
       "Hidden Mint/Burn               229\n",
       "Address Restrict               186\n",
       "Amount Restrict                139\n",
       "Modifiable External Call        60\n",
       "TimeStamp Restrict              19\n",
       "Modifiable Tax Address          40\n",
       "Modifiable Tax Rate            117\n",
       "dtype: int64"
      ]
     },
     "execution_count": 11,
     "metadata": {},
     "output_type": "execute_result"
    }
   ],
   "source": [
    "target_labels = [   'Hidden Balance Modification', 'Hidden Mint/Burn', 'Address Restrict',\n",
    "       'Amount Restrict', 'Modifiable External Call', 'TimeStamp Restrict',\n",
    "       'Modifiable Tax Address', 'Modifiable Tax Rate']\n",
    "label_counts = combined_df[target_labels].sum()\n",
    "label_counts"
   ]
  },
  {
   "cell_type": "markdown",
   "id": "6912528b",
   "metadata": {},
   "source": [
    "#### Bar Plot of Multi-Label Frequency"
   ]
  },
  {
   "cell_type": "code",
   "execution_count": 12,
   "id": "543a8267",
   "metadata": {},
   "outputs": [
    {
     "data": {
      "image/png": "[encoded data removed]",
      "text/plain": [
       "<Figure size 640x480 with 1 Axes>"
      ]
     },
     "metadata": {},
     "output_type": "display_data"
    }
   ],
   "source": [
    "sns.barplot(x=label_counts.index, y=label_counts.values, palette=\"Set2\")\n",
    "plt.title(\"Multi-label Distribution per Scam Type\")\n",
    "plt.xlabel(\"Label\")\n",
    "plt.ylabel(\"Number of Addresses\")\n",
    "plt.xticks(rotation=90)\n",
    "plt.show()"
   ]
  },
  {
   "cell_type": "markdown",
   "id": "75a16947",
   "metadata": {},
   "source": [
    "#### Plot Count of Label Combinations"
   ]
  },
  {
   "cell_type": "code",
   "execution_count": 13,
   "id": "e5ebaf98",
   "metadata": {},
   "outputs": [
    {
     "data": {
      "application/vnd.microsoft.datawrangler.viewer.v0+json": {
       "columns": [
        {
         "name": "label_combo",
         "rawType": "object",
         "type": "string"
        },
        {
         "name": "count",
         "rawType": "int64",
         "type": "integer"
        }
       ],
       "ref": "02b1230c-e645-44cc-bcdb-645fb4cbdc66",
       "rows": [
        [
         "Hidden Mint/Burn",
         "103"
        ],
        [
         "None",
         "53"
        ],
        [
         "Address Restrict",
         "52"
        ],
        [
         "Amount Restrict",
         "46"
        ],
        [
         "Hidden Balance Modification",
         "44"
        ],
        [
         "Modifiable External Call",
         "40"
        ],
        [
         "Hidden Mint/Burn,Address Restrict",
         "32"
        ],
        [
         "Modifiable Tax Rate",
         "23"
        ],
        [
         "Hidden Mint/Burn,Amount Restrict",
         "21"
        ],
        [
         "Address Restrict,Modifiable Tax Rate",
         "19"
        ],
        [
         "Address Restrict,Amount Restrict",
         "17"
        ],
        [
         "Hidden Mint/Burn,Modifiable External Call",
         "14"
        ],
        [
         "Hidden Mint/Burn,Modifiable Tax Rate",
         "11"
        ],
        [
         "Hidden Balance Modification,Address Restrict",
         "10"
        ],
        [
         "Address Restrict,Amount Restrict,Modifiable Tax Rate",
         "10"
        ],
        [
         "Modifiable Tax Address",
         "10"
        ],
        [
         "Amount Restrict,Modifiable Tax Rate",
         "9"
        ],
        [
         "Hidden Mint/Burn,Address Restrict,Amount Restrict",
         "8"
        ],
        [
         "Hidden Balance Modification,Hidden Mint/Burn",
         "6"
        ],
        [
         "Hidden Balance Modification,Amount Restrict",
         "6"
        ],
        [
         "Hidden Balance Modification,Modifiable Tax Rate",
         "6"
        ],
        [
         "Hidden Mint/Burn,Modifiable Tax Address",
         "5"
        ],
        [
         "Modifiable Tax Address,Modifiable Tax Rate",
         "5"
        ],
        [
         "Address Restrict,Modifiable Tax Address",
         "5"
        ],
        [
         "Hidden Mint/Burn,Modifiable Tax Address,Modifiable Tax Rate",
         "5"
        ],
        [
         "Hidden Mint/Burn,Amount Restrict,Modifiable Tax Rate",
         "4"
        ],
        [
         "Hidden Mint/Burn,Address Restrict,Modifiable Tax Rate",
         "4"
        ],
        [
         "Hidden Balance Modification,Modifiable External Call",
         "4"
        ],
        [
         "Address Restrict,TimeStamp Restrict,Modifiable Tax Rate",
         "4"
        ],
        [
         "Hidden Mint/Burn,Address Restrict,Modifiable Tax Address",
         "4"
        ],
        [
         "Address Restrict,TimeStamp Restrict",
         "3"
        ],
        [
         "Hidden Balance Modification,Hidden Mint/Burn,Modifiable Tax Rate",
         "2"
        ],
        [
         "Hidden Mint/Burn,TimeStamp Restrict",
         "2"
        ],
        [
         "Hidden Balance Modification,Hidden Mint/Burn,Amount Restrict",
         "2"
        ],
        [
         "Hidden Mint/Burn,Address Restrict,Amount Restrict,Modifiable Tax Rate",
         "2"
        ],
        [
         "Hidden Balance Modification,Address Restrict,Amount Restrict",
         "2"
        ],
        [
         "Address Restrict,Amount Restrict,TimeStamp Restrict,Modifiable Tax Rate",
         "2"
        ],
        [
         "Address Restrict,Amount Restrict,TimeStamp Restrict",
         "2"
        ],
        [
         "Hidden Balance Modification,Modifiable Tax Address",
         "2"
        ],
        [
         "Hidden Balance Modification,Address Restrict,Amount Restrict,Modifiable Tax Rate",
         "2"
        ],
        [
         "Amount Restrict,TimeStamp Restrict,Modifiable Tax Rate",
         "1"
        ],
        [
         "Hidden Balance Modification,Address Restrict,Modifiable Tax Rate",
         "1"
        ],
        [
         "Hidden Balance Modification,Amount Restrict,Modifiable Tax Rate",
         "1"
        ],
        [
         "Hidden Balance Modification,Address Restrict,Amount Restrict,TimeStamp Restrict,Modifiable Tax Rate",
         "1"
        ],
        [
         "Hidden Mint/Burn,Address Restrict,Modifiable Tax Address,Modifiable Tax Rate",
         "1"
        ],
        [
         "TimeStamp Restrict,Modifiable Tax Rate",
         "1"
        ],
        [
         "Address Restrict,Amount Restrict,Modifiable Tax Address",
         "1"
        ],
        [
         "TimeStamp Restrict",
         "1"
        ],
        [
         "Address Restrict,Modifiable External Call",
         "1"
        ],
        [
         "Hidden Mint/Burn,Amount Restrict,TimeStamp Restrict,Modifiable Tax Rate",
         "1"
        ]
       ],
       "shape": {
        "columns": 1,
        "rows": 55
       }
      },
      "text/plain": [
       "label_combo\n",
       "Hidden Mint/Burn                                                                                       103\n",
       "None                                                                                                    53\n",
       "Address Restrict                                                                                        52\n",
       "Amount Restrict                                                                                         46\n",
       "Hidden Balance Modification                                                                             44\n",
       "Modifiable External Call                                                                                40\n",
       "Hidden Mint/Burn,Address Restrict                                                                       32\n",
       "Modifiable Tax Rate                                                                                     23\n",
       "Hidden Mint/Burn,Amount Restrict                                                                        21\n",
       "Address Restrict,Modifiable Tax Rate                                                                    19\n",
       "Address Restrict,Amount Restrict                                                                        17\n",
       "Hidden Mint/Burn,Modifiable External Call                                                               14\n",
       "Hidden Mint/Burn,Modifiable Tax Rate                                                                    11\n",
       "Hidden Balance Modification,Address Restrict                                                            10\n",
       "Address Restrict,Amount Restrict,Modifiable Tax Rate                                                    10\n",
       "Modifiable Tax Address                                                                                  10\n",
       "Amount Restrict,Modifiable Tax Rate                                                                      9\n",
       "Hidden Mint/Burn,Address Restrict,Amount Restrict                                                        8\n",
       "Hidden Balance Modification,Hidden Mint/Burn                                                             6\n",
       "Hidden Balance Modification,Amount Restrict                                                              6\n",
       "Hidden Balance Modification,Modifiable Tax Rate                                                          6\n",
       "Hidden Mint/Burn,Modifiable Tax Address                                                                  5\n",
       "Modifiable Tax Address,Modifiable Tax Rate                                                               5\n",
       "Address Restrict,Modifiable Tax Address                                                                  5\n",
       "Hidden Mint/Burn,Modifiable Tax Address,Modifiable Tax Rate                                              5\n",
       "Hidden Mint/Burn,Amount Restrict,Modifiable Tax Rate                                                     4\n",
       "Hidden Mint/Burn,Address Restrict,Modifiable Tax Rate                                                    4\n",
       "Hidden Balance Modification,Modifiable External Call                                                     4\n",
       "Address Restrict,TimeStamp Restrict,Modifiable Tax Rate                                                  4\n",
       "Hidden Mint/Burn,Address Restrict,Modifiable Tax Address                                                 4\n",
       "Address Restrict,TimeStamp Restrict                                                                      3\n",
       "Hidden Balance Modification,Hidden Mint/Burn,Modifiable Tax Rate                                         2\n",
       "Hidden Mint/Burn,TimeStamp Restrict                                                                      2\n",
       "Hidden Balance Modification,Hidden Mint/Burn,Amount Restrict                                             2\n",
       "Hidden Mint/Burn,Address Restrict,Amount Restrict,Modifiable Tax Rate                                    2\n",
       "Hidden Balance Modification,Address Restrict,Amount Restrict                                             2\n",
       "Address Restrict,Amount Restrict,TimeStamp Restrict,Modifiable Tax Rate                                  2\n",
       "Address Restrict,Amount Restrict,TimeStamp Restrict                                                      2\n",
       "Hidden Balance Modification,Modifiable Tax Address                                                       2\n",
       "Hidden Balance Modification,Address Restrict,Amount Restrict,Modifiable Tax Rate                         2\n",
       "Amount Restrict,TimeStamp Restrict,Modifiable Tax Rate                                                   1\n",
       "Hidden Balance Modification,Address Restrict,Modifiable Tax Rate                                         1\n",
       "Hidden Balance Modification,Amount Restrict,Modifiable Tax Rate                                          1\n",
       "Hidden Balance Modification,Address Restrict,Amount Restrict,TimeStamp Restrict,Modifiable Tax Rate      1\n",
       "Hidden Mint/Burn,Address Restrict,Modifiable Tax Address,Modifiable Tax Rate                             1\n",
       "TimeStamp Restrict,Modifiable Tax Rate                                                                   1\n",
       "Address Restrict,Amount Restrict,Modifiable Tax Address                                                  1\n",
       "TimeStamp Restrict                                                                                       1\n",
       "Address Restrict,Modifiable External Call                                                                1\n",
       "Hidden Mint/Burn,Amount Restrict,TimeStamp Restrict,Modifiable Tax Rate                                  1\n",
       "Hidden Balance Modification,Modifiable Tax Address,Modifiable Tax Rate                                   1\n",
       "Hidden Balance Modification,Address Restrict,TimeStamp Restrict                                          1\n",
       "Address Restrict,Modifiable Tax Address,Modifiable Tax Rate                                              1\n",
       "Hidden Balance Modification,Hidden Mint/Burn,Modifiable External Call                                    1\n",
       "Hidden Balance Modification,Hidden Mint/Burn,Address Restrict,Amount Restrict                            1\n",
       "Name: count, dtype: int64"
      ]
     },
     "execution_count": 13,
     "metadata": {},
     "output_type": "execute_result"
    }
   ],
   "source": [
    "# Convert one-hot columns to label strings\n",
    "def get_labels(row):\n",
    "    return ','.join([\n",
    "        label for label in target_labels\n",
    "        if row[label] == 1\n",
    "    ])\n",
    "\n",
    "combined_df['label_combo'] = combined_df.apply(get_labels, axis=1)\n",
    "combined_df['label_combo'] = combined_df['label_combo'].replace('', 'None')  # Replace empty with 'None'\n",
    "# Count combinations\n",
    "combo_counts = combined_df['label_combo'].value_counts()\n",
    "combo_counts"
   ]
  },
  {
   "cell_type": "code",
   "execution_count": 14,
   "id": "e99b43ce",
   "metadata": {},
   "outputs": [
    {
     "data": {
      "image/png": "[encoded data removed]",
      "text/plain": [
       "<Figure size 640x480 with 1 Axes>"
      ]
     },
     "metadata": {},
     "output_type": "display_data"
    }
   ],
   "source": [
    "# Plot\n",
    "sns.barplot(x=combo_counts.values, y=combo_counts.index, palette=\"Set3\")\n",
    "plt.title(\"Label Combinations per Address\")\n",
    "plt.xlabel(\"Count\")\n",
    "plt.ylabel(\"Label Combo\")\n",
    "plt.yticks(fontsize=5)\n",
    "plt.show()\n"
   ]
  },
  {
   "cell_type": "markdown",
   "id": "bb45b24c",
   "metadata": {},
   "source": [
    "## Save Data"
   ]
  },
  {
   "cell_type": "code",
   "execution_count": 15,
   "id": "4617d084",
   "metadata": {},
   "outputs": [],
   "source": [
    "combined_df.to_csv(os.path.join(PATH, 'dataset.csv'), index=False)"
   ]
  },
  {
   "cell_type": "code",
   "execution_count": null,
   "id": "3c015c39",
   "metadata": {},
   "outputs": [],
   "source": []
  }
 ],
 "metadata": {
  "kernelspec": {
   "display_name": "ml-algo",
   "language": "python",
   "name": "python3"
  },
  "language_info": {
   "codemirror_mode": {
    "name": "ipython",
    "version": 3
   },
   "file_extension": ".py",
   "mimetype": "text/x-python",
   "name": "python",
   "nbconvert_exporter": "python",
   "pygments_lexer": "ipython3",
   "version": "3.12.7"
  }
 },
 "nbformat": 4,
 "nbformat_minor": 5
}
