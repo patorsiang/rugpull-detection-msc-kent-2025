{
 "cells": [
  {
   "cell_type": "markdown",
   "id": "a50da0fd",
   "metadata": {},
   "source": [
    "# Exploratory Data Analysis (EDA)"
   ]
  },
  {
   "cell_type": "markdown",
   "id": "008639ca",
   "metadata": {},
   "source": [
    "In this notebook, we perform exploratory data analysis to understand:\n",
    "\n",
    "- class distributions\n",
    "- missing values\n",
    "- data quality issues"
   ]
  },
  {
   "cell_type": "markdown",
   "id": "f39e46ce",
   "metadata": {},
   "source": [
    "## Imports & Configuration"
   ]
  },
  {
   "cell_type": "code",
   "execution_count": 40,
   "id": "ea3ae275",
   "metadata": {},
   "outputs": [],
   "source": [
    "import warnings\n",
    "warnings.filterwarnings(\"ignore\")\n",
    "\n",
    "import pandas as pd\n",
    "import matplotlib.pyplot as plt\n",
    "import os\n",
    "import seaborn as sns\n",
    "from pathlib import Path\n",
    "\n",
    "%matplotlib inline\n",
    "sns.set(style=\"whitegrid\")\n"
   ]
  },
  {
   "cell_type": "code",
   "execution_count": 41,
   "id": "62d7089c",
   "metadata": {},
   "outputs": [
    {
     "data": {
      "text/plain": [
       "PosixPath('/Users/napatcholthaipanich/Dev/master/dissertation/workspace/ml')"
      ]
     },
     "execution_count": 41,
     "metadata": {},
     "output_type": "execute_result"
    }
   ],
   "source": [
    "Path.cwd().parents[1]"
   ]
  },
  {
   "cell_type": "code",
   "execution_count": 42,
   "id": "b15e950a",
   "metadata": {},
   "outputs": [],
   "source": [
    "PATH = os.path.join(Path.cwd().parents[1], \"data/interim/rphunter\")"
   ]
  },
  {
   "cell_type": "markdown",
   "id": "88ad5537",
   "metadata": {},
   "source": [
    "## Load Data"
   ]
  },
  {
   "cell_type": "code",
   "execution_count": 43,
   "id": "f95e7851",
   "metadata": {},
   "outputs": [],
   "source": [
    "total_df = pd.read_csv(os.path.join(PATH, 'total.csv'))\n",
    "experiment_df = pd.read_csv(os.path.join(PATH, 'experiment.csv'))\n",
    "combined_df = pd.concat([total_df, experiment_df], ignore_index=True)\n",
    "combined_df = combined_df.drop_duplicates(ignore_index=True)"
   ]
  },
  {
   "cell_type": "markdown",
   "id": "ebc15feb",
   "metadata": {},
   "source": [
    "## Initial Inspection"
   ]
  },
  {
   "cell_type": "code",
   "execution_count": 44,
   "id": "6aa469ac",
   "metadata": {},
   "outputs": [
    {
     "name": "stdout",
     "output_type": "stream",
     "text": [
      "<class 'pandas.core.frame.DataFrame'>\n",
      "RangeIndex: 643 entries, 0 to 642\n",
      "Data columns (total 15 columns):\n",
      " #   Column                         Non-Null Count  Dtype  \n",
      "---  ------                         --------------  -----  \n",
      " 0   Project Name                   643 non-null    object \n",
      " 1   Chain                          643 non-null    object \n",
      " 2   Address                        643 non-null    object \n",
      " 3   Open Source                    643 non-null    object \n",
      " 4   Source                         643 non-null    object \n",
      " 5   Hidden Balance Modification    642 non-null    float64\n",
      " 6   Hidden Mint/Burn               642 non-null    float64\n",
      " 7   Address Restrict               643 non-null    int64  \n",
      " 8   Amount Restrict                643 non-null    int64  \n",
      " 9   Modifiable External Call       643 non-null    int64  \n",
      " 10  TimeStamp Restrict             643 non-null    int64  \n",
      " 11  Hidden Balance Modification.1  643 non-null    int64  \n",
      " 12  Modifiable External Call.1     643 non-null    int64  \n",
      " 13  Modifiable Tax Address         643 non-null    int64  \n",
      " 14  Modifiable Tax Rate            643 non-null    int64  \n",
      "dtypes: float64(2), int64(8), object(5)\n",
      "memory usage: 75.5+ KB\n"
     ]
    }
   ],
   "source": [
    "combined_df.info()"
   ]
  },
  {
   "cell_type": "code",
   "execution_count": 45,
   "id": "c648246e",
   "metadata": {},
   "outputs": [
    {
     "data": {
      "application/vnd.microsoft.datawrangler.viewer.v0+json": {
       "columns": [
        {
         "name": "index",
         "rawType": "int64",
         "type": "integer"
        },
        {
         "name": "Project Name",
         "rawType": "object",
         "type": "string"
        },
        {
         "name": "Chain",
         "rawType": "object",
         "type": "string"
        },
        {
         "name": "Address",
         "rawType": "object",
         "type": "string"
        },
        {
         "name": "Open Source",
         "rawType": "object",
         "type": "string"
        },
        {
         "name": "Source",
         "rawType": "object",
         "type": "string"
        },
        {
         "name": "Hidden Balance Modification",
         "rawType": "float64",
         "type": "float"
        },
        {
         "name": "Hidden Mint/Burn",
         "rawType": "float64",
         "type": "float"
        },
        {
         "name": "Address Restrict",
         "rawType": "int64",
         "type": "integer"
        },
        {
         "name": "Amount Restrict",
         "rawType": "int64",
         "type": "integer"
        },
        {
         "name": "Modifiable External Call",
         "rawType": "int64",
         "type": "integer"
        },
        {
         "name": "TimeStamp Restrict",
         "rawType": "int64",
         "type": "integer"
        },
        {
         "name": "Hidden Balance Modification.1",
         "rawType": "int64",
         "type": "integer"
        },
        {
         "name": "Modifiable External Call.1",
         "rawType": "int64",
         "type": "integer"
        },
        {
         "name": "Modifiable Tax Address",
         "rawType": "int64",
         "type": "integer"
        },
        {
         "name": "Modifiable Tax Rate",
         "rawType": "int64",
         "type": "integer"
        }
       ],
       "ref": "48ea591f-d06b-4b53-b750-d77a11793944",
       "rows": [
        [
         "0",
         "GMETA",
         "BSC",
         "0X93023F1D3525E273F291B6F76D2F5027A39BF302",
         "Yes",
         "https://twitter.com/BeosinAlert/status/1681240663868973056",
         "0.0",
         "1.0",
         "0",
         "0",
         "0",
         "0",
         "0",
         "0",
         "0",
         "1"
        ],
        [
         "1",
         "Sudorare",
         "ETH",
         "0X5404EFAFDD8CC30053069DF2A1B0C4BA881B3E1E",
         "Yes",
         "https://x.com/PeckShieldAlert/status/1561967493912363008",
         "0.0",
         "1.0",
         "0",
         "0",
         "0",
         "0",
         "0",
         "0",
         "0",
         "0"
        ],
        [
         "2",
         "DRAC Network",
         "ETH",
         "0X10F6F2B97F3AB29583D9D38BABF2994DF7220C21",
         "Yes",
         "https://twitter.com/PeckShieldAlert/status/1551409593397350401",
         "0.0",
         "1.0",
         "0",
         "0",
         "0",
         "0",
         "0",
         "0",
         "0",
         "1"
        ],
        [
         "3",
         "DHE",
         "BSC",
         "0X11CBC781DADAAD13FC3A361772C80B1C027820AF",
         "Yes",
         "https://twitter.com/CertiKAlert/status/1539031511114063873",
         "0.0",
         "0.0",
         "1",
         "0",
         "0",
         "0",
         "0",
         "0",
         "0",
         "0"
        ],
        [
         "4",
         "ElonMVP",
         "BSC",
         "0X3E597EA168A85AA2AE5E2C4333665BCD875ED10F",
         "Yes",
         "https://twitter.com/PeckShieldAlert/status/1536223027717111808",
         "0.0",
         "0.0",
         "1",
         "0",
         "0",
         "0",
         "0",
         "0",
         "0",
         "0"
        ]
       ],
       "shape": {
        "columns": 15,
        "rows": 5
       }
      },
      "text/html": [
       "<div>\n",
       "<style scoped>\n",
       "    .dataframe tbody tr th:only-of-type {\n",
       "        vertical-align: middle;\n",
       "    }\n",
       "\n",
       "    .dataframe tbody tr th {\n",
       "        vertical-align: top;\n",
       "    }\n",
       "\n",
       "    .dataframe thead th {\n",
       "        text-align: right;\n",
       "    }\n",
       "</style>\n",
       "<table border=\"1\" class=\"dataframe\">\n",
       "  <thead>\n",
       "    <tr style=\"text-align: right;\">\n",
       "      <th></th>\n",
       "      <th>Project Name</th>\n",
       "      <th>Chain</th>\n",
       "      <th>Address</th>\n",
       "      <th>Open Source</th>\n",
       "      <th>Source</th>\n",
       "      <th>Hidden Balance Modification</th>\n",
       "      <th>Hidden Mint/Burn</th>\n",
       "      <th>Address Restrict</th>\n",
       "      <th>Amount Restrict</th>\n",
       "      <th>Modifiable External Call</th>\n",
       "      <th>TimeStamp Restrict</th>\n",
       "      <th>Hidden Balance Modification.1</th>\n",
       "      <th>Modifiable External Call.1</th>\n",
       "      <th>Modifiable Tax Address</th>\n",
       "      <th>Modifiable Tax Rate</th>\n",
       "    </tr>\n",
       "  </thead>\n",
       "  <tbody>\n",
       "    <tr>\n",
       "      <th>0</th>\n",
       "      <td>GMETA</td>\n",
       "      <td>BSC</td>\n",
       "      <td>0X93023F1D3525E273F291B6F76D2F5027A39BF302</td>\n",
       "      <td>Yes</td>\n",
       "      <td>https://twitter.com/BeosinAlert/status/1681240...</td>\n",
       "      <td>0.0</td>\n",
       "      <td>1.0</td>\n",
       "      <td>0</td>\n",
       "      <td>0</td>\n",
       "      <td>0</td>\n",
       "      <td>0</td>\n",
       "      <td>0</td>\n",
       "      <td>0</td>\n",
       "      <td>0</td>\n",
       "      <td>1</td>\n",
       "    </tr>\n",
       "    <tr>\n",
       "      <th>1</th>\n",
       "      <td>Sudorare</td>\n",
       "      <td>ETH</td>\n",
       "      <td>0X5404EFAFDD8CC30053069DF2A1B0C4BA881B3E1E</td>\n",
       "      <td>Yes</td>\n",
       "      <td>https://x.com/PeckShieldAlert/status/156196749...</td>\n",
       "      <td>0.0</td>\n",
       "      <td>1.0</td>\n",
       "      <td>0</td>\n",
       "      <td>0</td>\n",
       "      <td>0</td>\n",
       "      <td>0</td>\n",
       "      <td>0</td>\n",
       "      <td>0</td>\n",
       "      <td>0</td>\n",
       "      <td>0</td>\n",
       "    </tr>\n",
       "    <tr>\n",
       "      <th>2</th>\n",
       "      <td>DRAC Network</td>\n",
       "      <td>ETH</td>\n",
       "      <td>0X10F6F2B97F3AB29583D9D38BABF2994DF7220C21</td>\n",
       "      <td>Yes</td>\n",
       "      <td>https://twitter.com/PeckShieldAlert/status/155...</td>\n",
       "      <td>0.0</td>\n",
       "      <td>1.0</td>\n",
       "      <td>0</td>\n",
       "      <td>0</td>\n",
       "      <td>0</td>\n",
       "      <td>0</td>\n",
       "      <td>0</td>\n",
       "      <td>0</td>\n",
       "      <td>0</td>\n",
       "      <td>1</td>\n",
       "    </tr>\n",
       "    <tr>\n",
       "      <th>3</th>\n",
       "      <td>DHE</td>\n",
       "      <td>BSC</td>\n",
       "      <td>0X11CBC781DADAAD13FC3A361772C80B1C027820AF</td>\n",
       "      <td>Yes</td>\n",
       "      <td>https://twitter.com/CertiKAlert/status/1539031...</td>\n",
       "      <td>0.0</td>\n",
       "      <td>0.0</td>\n",
       "      <td>1</td>\n",
       "      <td>0</td>\n",
       "      <td>0</td>\n",
       "      <td>0</td>\n",
       "      <td>0</td>\n",
       "      <td>0</td>\n",
       "      <td>0</td>\n",
       "      <td>0</td>\n",
       "    </tr>\n",
       "    <tr>\n",
       "      <th>4</th>\n",
       "      <td>ElonMVP</td>\n",
       "      <td>BSC</td>\n",
       "      <td>0X3E597EA168A85AA2AE5E2C4333665BCD875ED10F</td>\n",
       "      <td>Yes</td>\n",
       "      <td>https://twitter.com/PeckShieldAlert/status/153...</td>\n",
       "      <td>0.0</td>\n",
       "      <td>0.0</td>\n",
       "      <td>1</td>\n",
       "      <td>0</td>\n",
       "      <td>0</td>\n",
       "      <td>0</td>\n",
       "      <td>0</td>\n",
       "      <td>0</td>\n",
       "      <td>0</td>\n",
       "      <td>0</td>\n",
       "    </tr>\n",
       "  </tbody>\n",
       "</table>\n",
       "</div>"
      ],
      "text/plain": [
       "   Project Name Chain                                     Address Open Source  \\\n",
       "0         GMETA   BSC  0X93023F1D3525E273F291B6F76D2F5027A39BF302         Yes   \n",
       "1      Sudorare   ETH  0X5404EFAFDD8CC30053069DF2A1B0C4BA881B3E1E         Yes   \n",
       "2  DRAC Network   ETH  0X10F6F2B97F3AB29583D9D38BABF2994DF7220C21         Yes   \n",
       "3           DHE   BSC  0X11CBC781DADAAD13FC3A361772C80B1C027820AF         Yes   \n",
       "4       ElonMVP   BSC  0X3E597EA168A85AA2AE5E2C4333665BCD875ED10F         Yes   \n",
       "\n",
       "                                              Source  \\\n",
       "0  https://twitter.com/BeosinAlert/status/1681240...   \n",
       "1  https://x.com/PeckShieldAlert/status/156196749...   \n",
       "2  https://twitter.com/PeckShieldAlert/status/155...   \n",
       "3  https://twitter.com/CertiKAlert/status/1539031...   \n",
       "4  https://twitter.com/PeckShieldAlert/status/153...   \n",
       "\n",
       "   Hidden Balance Modification  Hidden Mint/Burn  Address Restrict  \\\n",
       "0                          0.0               1.0                 0   \n",
       "1                          0.0               1.0                 0   \n",
       "2                          0.0               1.0                 0   \n",
       "3                          0.0               0.0                 1   \n",
       "4                          0.0               0.0                 1   \n",
       "\n",
       "   Amount Restrict  Modifiable External Call  TimeStamp Restrict  \\\n",
       "0                0                         0                   0   \n",
       "1                0                         0                   0   \n",
       "2                0                         0                   0   \n",
       "3                0                         0                   0   \n",
       "4                0                         0                   0   \n",
       "\n",
       "   Hidden Balance Modification.1  Modifiable External Call.1  \\\n",
       "0                              0                           0   \n",
       "1                              0                           0   \n",
       "2                              0                           0   \n",
       "3                              0                           0   \n",
       "4                              0                           0   \n",
       "\n",
       "   Modifiable Tax Address  Modifiable Tax Rate  \n",
       "0                       0                    1  \n",
       "1                       0                    0  \n",
       "2                       0                    1  \n",
       "3                       0                    0  \n",
       "4                       0                    0  "
      ]
     },
     "execution_count": 45,
     "metadata": {},
     "output_type": "execute_result"
    }
   ],
   "source": [
    "combined_df.head()"
   ]
  },
  {
   "cell_type": "code",
   "execution_count": 46,
   "id": "16c08a75",
   "metadata": {},
   "outputs": [
    {
     "data": {
      "application/vnd.microsoft.datawrangler.viewer.v0+json": {
       "columns": [
        {
         "name": "index",
         "rawType": "object",
         "type": "string"
        },
        {
         "name": "Hidden Balance Modification",
         "rawType": "float64",
         "type": "float"
        },
        {
         "name": "Hidden Mint/Burn",
         "rawType": "float64",
         "type": "float"
        },
        {
         "name": "Address Restrict",
         "rawType": "float64",
         "type": "float"
        },
        {
         "name": "Amount Restrict",
         "rawType": "float64",
         "type": "float"
        },
        {
         "name": "Modifiable External Call",
         "rawType": "float64",
         "type": "float"
        },
        {
         "name": "TimeStamp Restrict",
         "rawType": "float64",
         "type": "float"
        },
        {
         "name": "Hidden Balance Modification.1",
         "rawType": "float64",
         "type": "float"
        },
        {
         "name": "Modifiable External Call.1",
         "rawType": "float64",
         "type": "float"
        },
        {
         "name": "Modifiable Tax Address",
         "rawType": "float64",
         "type": "float"
        },
        {
         "name": "Modifiable Tax Rate",
         "rawType": "float64",
         "type": "float"
        }
       ],
       "ref": "71f7f43c-0dfd-4cf1-81f9-b47f8e3c635b",
       "rows": [
        [
         "count",
         "642.0",
         "642.0",
         "643.0",
         "643.0",
         "643.0",
         "643.0",
         "643.0",
         "643.0",
         "643.0",
         "643.0"
        ],
        [
         "mean",
         "0.13395638629283488",
         "0.397196261682243",
         "0.3234836702954899",
         "0.2332814930015552",
         "0.003110419906687403",
         "0.03265940902021773",
         "0.0015552099533437014",
         "0.10108864696734059",
         "0.06220839813374806",
         "0.18351477449455678"
        ],
        [
         "std",
         "0.3408710297712476",
         "0.4896988046744404",
         "0.46816969222092303",
         "0.423249144220929",
         "0.055727686259766936",
         "0.17788193260681873",
         "0.03943615033625495",
         "0.3016807485752762",
         "0.24172170629434064",
         "0.38738933021114125"
        ],
        [
         "min",
         "0.0",
         "0.0",
         "0.0",
         "0.0",
         "0.0",
         "0.0",
         "0.0",
         "0.0",
         "0.0",
         "0.0"
        ],
        [
         "25%",
         "0.0",
         "0.0",
         "0.0",
         "0.0",
         "0.0",
         "0.0",
         "0.0",
         "0.0",
         "0.0",
         "0.0"
        ],
        [
         "50%",
         "0.0",
         "0.0",
         "0.0",
         "0.0",
         "0.0",
         "0.0",
         "0.0",
         "0.0",
         "0.0",
         "0.0"
        ],
        [
         "75%",
         "0.0",
         "1.0",
         "1.0",
         "0.0",
         "0.0",
         "0.0",
         "0.0",
         "0.0",
         "0.0",
         "0.0"
        ],
        [
         "max",
         "1.0",
         "1.0",
         "1.0",
         "1.0",
         "1.0",
         "1.0",
         "1.0",
         "1.0",
         "1.0",
         "1.0"
        ]
       ],
       "shape": {
        "columns": 10,
        "rows": 8
       }
      },
      "text/html": [
       "<div>\n",
       "<style scoped>\n",
       "    .dataframe tbody tr th:only-of-type {\n",
       "        vertical-align: middle;\n",
       "    }\n",
       "\n",
       "    .dataframe tbody tr th {\n",
       "        vertical-align: top;\n",
       "    }\n",
       "\n",
       "    .dataframe thead th {\n",
       "        text-align: right;\n",
       "    }\n",
       "</style>\n",
       "<table border=\"1\" class=\"dataframe\">\n",
       "  <thead>\n",
       "    <tr style=\"text-align: right;\">\n",
       "      <th></th>\n",
       "      <th>Hidden Balance Modification</th>\n",
       "      <th>Hidden Mint/Burn</th>\n",
       "      <th>Address Restrict</th>\n",
       "      <th>Amount Restrict</th>\n",
       "      <th>Modifiable External Call</th>\n",
       "      <th>TimeStamp Restrict</th>\n",
       "      <th>Hidden Balance Modification.1</th>\n",
       "      <th>Modifiable External Call.1</th>\n",
       "      <th>Modifiable Tax Address</th>\n",
       "      <th>Modifiable Tax Rate</th>\n",
       "    </tr>\n",
       "  </thead>\n",
       "  <tbody>\n",
       "    <tr>\n",
       "      <th>count</th>\n",
       "      <td>642.000000</td>\n",
       "      <td>642.000000</td>\n",
       "      <td>643.000000</td>\n",
       "      <td>643.000000</td>\n",
       "      <td>643.000000</td>\n",
       "      <td>643.000000</td>\n",
       "      <td>643.000000</td>\n",
       "      <td>643.000000</td>\n",
       "      <td>643.000000</td>\n",
       "      <td>643.000000</td>\n",
       "    </tr>\n",
       "    <tr>\n",
       "      <th>mean</th>\n",
       "      <td>0.133956</td>\n",
       "      <td>0.397196</td>\n",
       "      <td>0.323484</td>\n",
       "      <td>0.233281</td>\n",
       "      <td>0.003110</td>\n",
       "      <td>0.032659</td>\n",
       "      <td>0.001555</td>\n",
       "      <td>0.101089</td>\n",
       "      <td>0.062208</td>\n",
       "      <td>0.183515</td>\n",
       "    </tr>\n",
       "    <tr>\n",
       "      <th>std</th>\n",
       "      <td>0.340871</td>\n",
       "      <td>0.489699</td>\n",
       "      <td>0.468170</td>\n",
       "      <td>0.423249</td>\n",
       "      <td>0.055728</td>\n",
       "      <td>0.177882</td>\n",
       "      <td>0.039436</td>\n",
       "      <td>0.301681</td>\n",
       "      <td>0.241722</td>\n",
       "      <td>0.387389</td>\n",
       "    </tr>\n",
       "    <tr>\n",
       "      <th>min</th>\n",
       "      <td>0.000000</td>\n",
       "      <td>0.000000</td>\n",
       "      <td>0.000000</td>\n",
       "      <td>0.000000</td>\n",
       "      <td>0.000000</td>\n",
       "      <td>0.000000</td>\n",
       "      <td>0.000000</td>\n",
       "      <td>0.000000</td>\n",
       "      <td>0.000000</td>\n",
       "      <td>0.000000</td>\n",
       "    </tr>\n",
       "    <tr>\n",
       "      <th>25%</th>\n",
       "      <td>0.000000</td>\n",
       "      <td>0.000000</td>\n",
       "      <td>0.000000</td>\n",
       "      <td>0.000000</td>\n",
       "      <td>0.000000</td>\n",
       "      <td>0.000000</td>\n",
       "      <td>0.000000</td>\n",
       "      <td>0.000000</td>\n",
       "      <td>0.000000</td>\n",
       "      <td>0.000000</td>\n",
       "    </tr>\n",
       "    <tr>\n",
       "      <th>50%</th>\n",
       "      <td>0.000000</td>\n",
       "      <td>0.000000</td>\n",
       "      <td>0.000000</td>\n",
       "      <td>0.000000</td>\n",
       "      <td>0.000000</td>\n",
       "      <td>0.000000</td>\n",
       "      <td>0.000000</td>\n",
       "      <td>0.000000</td>\n",
       "      <td>0.000000</td>\n",
       "      <td>0.000000</td>\n",
       "    </tr>\n",
       "    <tr>\n",
       "      <th>75%</th>\n",
       "      <td>0.000000</td>\n",
       "      <td>1.000000</td>\n",
       "      <td>1.000000</td>\n",
       "      <td>0.000000</td>\n",
       "      <td>0.000000</td>\n",
       "      <td>0.000000</td>\n",
       "      <td>0.000000</td>\n",
       "      <td>0.000000</td>\n",
       "      <td>0.000000</td>\n",
       "      <td>0.000000</td>\n",
       "    </tr>\n",
       "    <tr>\n",
       "      <th>max</th>\n",
       "      <td>1.000000</td>\n",
       "      <td>1.000000</td>\n",
       "      <td>1.000000</td>\n",
       "      <td>1.000000</td>\n",
       "      <td>1.000000</td>\n",
       "      <td>1.000000</td>\n",
       "      <td>1.000000</td>\n",
       "      <td>1.000000</td>\n",
       "      <td>1.000000</td>\n",
       "      <td>1.000000</td>\n",
       "    </tr>\n",
       "  </tbody>\n",
       "</table>\n",
       "</div>"
      ],
      "text/plain": [
       "       Hidden Balance Modification  Hidden Mint/Burn  Address Restrict  \\\n",
       "count                   642.000000        642.000000        643.000000   \n",
       "mean                      0.133956          0.397196          0.323484   \n",
       "std                       0.340871          0.489699          0.468170   \n",
       "min                       0.000000          0.000000          0.000000   \n",
       "25%                       0.000000          0.000000          0.000000   \n",
       "50%                       0.000000          0.000000          0.000000   \n",
       "75%                       0.000000          1.000000          1.000000   \n",
       "max                       1.000000          1.000000          1.000000   \n",
       "\n",
       "       Amount Restrict  Modifiable External Call  TimeStamp Restrict  \\\n",
       "count       643.000000                643.000000          643.000000   \n",
       "mean          0.233281                  0.003110            0.032659   \n",
       "std           0.423249                  0.055728            0.177882   \n",
       "min           0.000000                  0.000000            0.000000   \n",
       "25%           0.000000                  0.000000            0.000000   \n",
       "50%           0.000000                  0.000000            0.000000   \n",
       "75%           0.000000                  0.000000            0.000000   \n",
       "max           1.000000                  1.000000            1.000000   \n",
       "\n",
       "       Hidden Balance Modification.1  Modifiable External Call.1  \\\n",
       "count                     643.000000                  643.000000   \n",
       "mean                        0.001555                    0.101089   \n",
       "std                         0.039436                    0.301681   \n",
       "min                         0.000000                    0.000000   \n",
       "25%                         0.000000                    0.000000   \n",
       "50%                         0.000000                    0.000000   \n",
       "75%                         0.000000                    0.000000   \n",
       "max                         1.000000                    1.000000   \n",
       "\n",
       "       Modifiable Tax Address  Modifiable Tax Rate  \n",
       "count              643.000000           643.000000  \n",
       "mean                 0.062208             0.183515  \n",
       "std                  0.241722             0.387389  \n",
       "min                  0.000000             0.000000  \n",
       "25%                  0.000000             0.000000  \n",
       "50%                  0.000000             0.000000  \n",
       "75%                  0.000000             0.000000  \n",
       "max                  1.000000             1.000000  "
      ]
     },
     "execution_count": 46,
     "metadata": {},
     "output_type": "execute_result"
    }
   ],
   "source": [
    "combined_df.describe()"
   ]
  },
  {
   "cell_type": "code",
   "execution_count": 47,
   "id": "5e974b43",
   "metadata": {},
   "outputs": [
    {
     "data": {
      "text/plain": [
       "Index(['Project Name', 'Chain', 'Address', 'Open Source', 'Source',\n",
       "       'Hidden Balance Modification', 'Hidden Mint/Burn', 'Address Restrict',\n",
       "       'Amount Restrict', 'Modifiable External Call', 'TimeStamp Restrict',\n",
       "       'Hidden Balance Modification.1', 'Modifiable External Call.1',\n",
       "       'Modifiable Tax Address', 'Modifiable Tax Rate'],\n",
       "      dtype='object')"
      ]
     },
     "execution_count": 47,
     "metadata": {},
     "output_type": "execute_result"
    }
   ],
   "source": [
    "combined_df.columns"
   ]
  },
  {
   "cell_type": "code",
   "execution_count": 48,
   "id": "0bab2780",
   "metadata": {},
   "outputs": [],
   "source": [
    "column_merge_map = {\n",
    "    \"Hidden Balance Modification\": [\"Hidden Balance Modification\", \"Hidden Balance Modification.1\"],\n",
    "    \"Modifiable External Call\": [\"Modifiable External Call\", \"Modifiable External Call.1\"],\n",
    "}\n",
    "\n",
    "# Merge by summing values across duplicates\n",
    "for new_col, col_variants in column_merge_map.items():\n",
    "    combined_df[new_col] = combined_df[col_variants].sum(axis=1)\n",
    "    combined_df.drop(columns=[col for col in col_variants if col != new_col], inplace=True)"
   ]
  },
  {
   "cell_type": "code",
   "execution_count": 49,
   "id": "dbe8c191",
   "metadata": {},
   "outputs": [
    {
     "data": {
      "text/plain": [
       "Index(['Project Name', 'Chain', 'Address', 'Open Source', 'Source',\n",
       "       'Hidden Balance Modification', 'Hidden Mint/Burn', 'Address Restrict',\n",
       "       'Amount Restrict', 'Modifiable External Call', 'TimeStamp Restrict',\n",
       "       'Modifiable Tax Address', 'Modifiable Tax Rate'],\n",
       "      dtype='object')"
      ]
     },
     "execution_count": 49,
     "metadata": {},
     "output_type": "execute_result"
    }
   ],
   "source": [
    "combined_df.columns"
   ]
  },
  {
   "cell_type": "markdown",
   "id": "6b8ea882",
   "metadata": {},
   "source": [
    "## Labels Distribution"
   ]
  },
  {
   "cell_type": "code",
   "execution_count": 50,
   "id": "94a9131f",
   "metadata": {},
   "outputs": [
    {
     "data": {
      "application/vnd.microsoft.datawrangler.viewer.v0+json": {
       "columns": [
        {
         "name": "index",
         "rawType": "object",
         "type": "string"
        },
        {
         "name": "0",
         "rawType": "float64",
         "type": "float"
        }
       ],
       "ref": "7b04c2f3-d01c-4714-9b8d-b88cba83cdf9",
       "rows": [
        [
         "Hidden Balance Modification",
         "87.0"
        ],
        [
         "Hidden Mint/Burn",
         "255.0"
        ],
        [
         "Address Restrict",
         "208.0"
        ],
        [
         "Amount Restrict",
         "150.0"
        ],
        [
         "Modifiable External Call",
         "67.0"
        ],
        [
         "TimeStamp Restrict",
         "21.0"
        ],
        [
         "Modifiable Tax Address",
         "40.0"
        ],
        [
         "Modifiable Tax Rate",
         "118.0"
        ]
       ],
       "shape": {
        "columns": 1,
        "rows": 8
       }
      },
      "text/plain": [
       "Hidden Balance Modification     87.0\n",
       "Hidden Mint/Burn               255.0\n",
       "Address Restrict               208.0\n",
       "Amount Restrict                150.0\n",
       "Modifiable External Call        67.0\n",
       "TimeStamp Restrict              21.0\n",
       "Modifiable Tax Address          40.0\n",
       "Modifiable Tax Rate            118.0\n",
       "dtype: float64"
      ]
     },
     "execution_count": 50,
     "metadata": {},
     "output_type": "execute_result"
    }
   ],
   "source": [
    "target_labels = [   'Hidden Balance Modification', 'Hidden Mint/Burn', 'Address Restrict',\n",
    "       'Amount Restrict', 'Modifiable External Call', 'TimeStamp Restrict',\n",
    "       'Modifiable Tax Address', 'Modifiable Tax Rate']\n",
    "label_counts = combined_df[target_labels].sum()\n",
    "label_counts"
   ]
  },
  {
   "cell_type": "markdown",
   "id": "6912528b",
   "metadata": {},
   "source": [
    "#### Bar Plot of Multi-Label Frequency"
   ]
  },
  {
   "cell_type": "code",
   "execution_count": 51,
   "id": "543a8267",
   "metadata": {},
   "outputs": [
    {
     "data": {
      "image/png": "[encoded data removed]",
      "text/plain": [
       "<Figure size 640x480 with 1 Axes>"
      ]
     },
     "metadata": {},
     "output_type": "display_data"
    }
   ],
   "source": [
    "sns.barplot(x=label_counts.index, y=label_counts.values, palette=\"Set2\")\n",
    "plt.title(\"Multi-label Distribution per Scam Type\")\n",
    "plt.xlabel(\"Label\")\n",
    "plt.ylabel(\"Number of Addresses\")\n",
    "plt.xticks(rotation=90)\n",
    "plt.show()"
   ]
  },
  {
   "cell_type": "markdown",
   "id": "75a16947",
   "metadata": {},
   "source": [
    "#### Plot Count of Label Combinations"
   ]
  },
  {
   "cell_type": "code",
   "execution_count": 52,
   "id": "e5ebaf98",
   "metadata": {},
   "outputs": [
    {
     "data": {
      "application/vnd.microsoft.datawrangler.viewer.v0+json": {
       "columns": [
        {
         "name": "label_combo",
         "rawType": "object",
         "type": "string"
        },
        {
         "name": "count",
         "rawType": "int64",
         "type": "integer"
        }
       ],
       "ref": "277446a6-5315-4558-a2b6-6e1b1dbd8bfa",
       "rows": [
        [
         "Hidden Mint/Burn",
         "109"
        ],
        [
         "Address Restrict",
         "52"
        ],
        [
         "None",
         "52"
        ],
        [
         "Amount Restrict",
         "46"
        ],
        [
         "Modifiable External Call",
         "41"
        ],
        [
         "Hidden Balance Modification",
         "37"
        ],
        [
         "Hidden Mint/Burn,Address Restrict",
         "35"
        ],
        [
         "Hidden Mint/Burn,Amount Restrict",
         "25"
        ],
        [
         "Modifiable Tax Rate",
         "23"
        ],
        [
         "Hidden Mint/Burn,Modifiable External Call",
         "22"
        ],
        [
         "Address Restrict,Modifiable Tax Rate",
         "21"
        ],
        [
         "Address Restrict,Amount Restrict",
         "18"
        ],
        [
         "Hidden Balance Modification,Address Restrict",
         "15"
        ],
        [
         "Modifiable Tax Address",
         "11"
        ],
        [
         "Hidden Mint/Burn,Modifiable Tax Rate",
         "10"
        ],
        [
         "Amount Restrict,Modifiable Tax Rate",
         "10"
        ],
        [
         "Address Restrict,Amount Restrict,Modifiable Tax Rate",
         "10"
        ],
        [
         "Hidden Mint/Burn,Address Restrict,Amount Restrict",
         "10"
        ],
        [
         "Hidden Balance Modification,Amount Restrict",
         "8"
        ],
        [
         "Hidden Mint/Burn,Address Restrict,Modifiable Tax Rate",
         "7"
        ],
        [
         "Hidden Balance Modification,Hidden Mint/Burn",
         "7"
        ],
        [
         "Hidden Mint/Burn,Modifiable Tax Address",
         "6"
        ],
        [
         "Hidden Balance Modification,Modifiable Tax Rate",
         "5"
        ],
        [
         "Modifiable Tax Address,Modifiable Tax Rate",
         "5"
        ],
        [
         "Address Restrict,Modifiable Tax Address",
         "5"
        ],
        [
         "Hidden Mint/Burn,Address Restrict,Modifiable Tax Address",
         "5"
        ],
        [
         "Hidden Mint/Burn,Modifiable Tax Address,Modifiable Tax Rate",
         "4"
        ],
        [
         "Address Restrict,TimeStamp Restrict,Modifiable Tax Rate",
         "4"
        ],
        [
         "Hidden Balance Modification,Address Restrict,Amount Restrict",
         "3"
        ],
        [
         "Address Restrict,TimeStamp Restrict",
         "3"
        ],
        [
         "Hidden Mint/Burn,Amount Restrict,Modifiable Tax Rate",
         "3"
        ],
        [
         "Hidden Balance Modification,Hidden Mint/Burn,Amount Restrict",
         "2"
        ],
        [
         "Hidden Balance Modification,Modifiable External Call",
         "2"
        ],
        [
         "Address Restrict,Amount Restrict,TimeStamp Restrict",
         "2"
        ],
        [
         "Hidden Balance Modification,Amount Restrict,Modifiable Tax Rate",
         "2"
        ],
        [
         "Address Restrict,Amount Restrict,TimeStamp Restrict,Modifiable Tax Rate",
         "2"
        ],
        [
         "Hidden Mint/Burn,Address Restrict,Amount Restrict,Modifiable Tax Rate",
         "2"
        ],
        [
         "Hidden Mint/Burn,Address Restrict,TimeStamp Restrict,Modifiable Tax Rate",
         "2"
        ],
        [
         "Hidden Balance Modification,Address Restrict,Modifiable Tax Rate",
         "1"
        ],
        [
         "Hidden Balance Modification,Address Restrict,Amount Restrict,TimeStamp Restrict,Modifiable Tax Rate",
         "1"
        ],
        [
         "Amount Restrict,TimeStamp Restrict,Modifiable Tax Rate",
         "1"
        ],
        [
         "TimeStamp Restrict",
         "1"
        ],
        [
         "Address Restrict,Amount Restrict,Modifiable Tax Address",
         "1"
        ],
        [
         "Hidden Balance Modification,Modifiable Tax Address",
         "1"
        ],
        [
         "Hidden Mint/Burn,Address Restrict,Modifiable Tax Address,Modifiable Tax Rate",
         "1"
        ],
        [
         "TimeStamp Restrict,Modifiable Tax Rate",
         "1"
        ],
        [
         "Address Restrict,Modifiable External Call",
         "1"
        ],
        [
         "Hidden Balance Modification,Address Restrict,Amount Restrict,Modifiable Tax Rate",
         "1"
        ],
        [
         "Hidden Mint/Burn,Amount Restrict,TimeStamp Restrict,Modifiable Tax Rate",
         "1"
        ],
        [
         "Hidden Mint/Burn,Address Restrict,TimeStamp Restrict",
         "1"
        ]
       ],
       "shape": {
        "columns": 1,
        "rows": 55
       }
      },
      "text/plain": [
       "label_combo\n",
       "Hidden Mint/Burn                                                                                       109\n",
       "Address Restrict                                                                                        52\n",
       "None                                                                                                    52\n",
       "Amount Restrict                                                                                         46\n",
       "Modifiable External Call                                                                                41\n",
       "Hidden Balance Modification                                                                             37\n",
       "Hidden Mint/Burn,Address Restrict                                                                       35\n",
       "Hidden Mint/Burn,Amount Restrict                                                                        25\n",
       "Modifiable Tax Rate                                                                                     23\n",
       "Hidden Mint/Burn,Modifiable External Call                                                               22\n",
       "Address Restrict,Modifiable Tax Rate                                                                    21\n",
       "Address Restrict,Amount Restrict                                                                        18\n",
       "Hidden Balance Modification,Address Restrict                                                            15\n",
       "Modifiable Tax Address                                                                                  11\n",
       "Hidden Mint/Burn,Modifiable Tax Rate                                                                    10\n",
       "Amount Restrict,Modifiable Tax Rate                                                                     10\n",
       "Address Restrict,Amount Restrict,Modifiable Tax Rate                                                    10\n",
       "Hidden Mint/Burn,Address Restrict,Amount Restrict                                                       10\n",
       "Hidden Balance Modification,Amount Restrict                                                              8\n",
       "Hidden Mint/Burn,Address Restrict,Modifiable Tax Rate                                                    7\n",
       "Hidden Balance Modification,Hidden Mint/Burn                                                             7\n",
       "Hidden Mint/Burn,Modifiable Tax Address                                                                  6\n",
       "Hidden Balance Modification,Modifiable Tax Rate                                                          5\n",
       "Modifiable Tax Address,Modifiable Tax Rate                                                               5\n",
       "Address Restrict,Modifiable Tax Address                                                                  5\n",
       "Hidden Mint/Burn,Address Restrict,Modifiable Tax Address                                                 5\n",
       "Hidden Mint/Burn,Modifiable Tax Address,Modifiable Tax Rate                                              4\n",
       "Address Restrict,TimeStamp Restrict,Modifiable Tax Rate                                                  4\n",
       "Hidden Balance Modification,Address Restrict,Amount Restrict                                             3\n",
       "Address Restrict,TimeStamp Restrict                                                                      3\n",
       "Hidden Mint/Burn,Amount Restrict,Modifiable Tax Rate                                                     3\n",
       "Hidden Balance Modification,Hidden Mint/Burn,Amount Restrict                                             2\n",
       "Hidden Balance Modification,Modifiable External Call                                                     2\n",
       "Address Restrict,Amount Restrict,TimeStamp Restrict                                                      2\n",
       "Hidden Balance Modification,Amount Restrict,Modifiable Tax Rate                                          2\n",
       "Address Restrict,Amount Restrict,TimeStamp Restrict,Modifiable Tax Rate                                  2\n",
       "Hidden Mint/Burn,Address Restrict,Amount Restrict,Modifiable Tax Rate                                    2\n",
       "Hidden Mint/Burn,Address Restrict,TimeStamp Restrict,Modifiable Tax Rate                                 2\n",
       "Hidden Balance Modification,Address Restrict,Modifiable Tax Rate                                         1\n",
       "Hidden Balance Modification,Address Restrict,Amount Restrict,TimeStamp Restrict,Modifiable Tax Rate      1\n",
       "Amount Restrict,TimeStamp Restrict,Modifiable Tax Rate                                                   1\n",
       "TimeStamp Restrict                                                                                       1\n",
       "Address Restrict,Amount Restrict,Modifiable Tax Address                                                  1\n",
       "Hidden Balance Modification,Modifiable Tax Address                                                       1\n",
       "Hidden Mint/Burn,Address Restrict,Modifiable Tax Address,Modifiable Tax Rate                             1\n",
       "TimeStamp Restrict,Modifiable Tax Rate                                                                   1\n",
       "Address Restrict,Modifiable External Call                                                                1\n",
       "Hidden Balance Modification,Address Restrict,Amount Restrict,Modifiable Tax Rate                         1\n",
       "Hidden Mint/Burn,Amount Restrict,TimeStamp Restrict,Modifiable Tax Rate                                  1\n",
       "Hidden Mint/Burn,Address Restrict,TimeStamp Restrict                                                     1\n",
       "Address Restrict,Modifiable Tax Address,Modifiable Tax Rate                                              1\n",
       "Hidden Balance Modification,Address Restrict,Amount Restrict,TimeStamp Restrict                          1\n",
       "Hidden Balance Modification,Hidden Mint/Burn,Address Restrict                                            1\n",
       "Hidden Mint/Burn,Address Restrict,Amount Restrict,TimeStamp Restrict                                     1\n",
       "Hidden Mint/Burn,Address Restrict,Modifiable External Call                                               1\n",
       "Name: count, dtype: int64"
      ]
     },
     "execution_count": 52,
     "metadata": {},
     "output_type": "execute_result"
    }
   ],
   "source": [
    "# Convert one-hot columns to label strings\n",
    "def get_labels(row):\n",
    "    return ','.join([\n",
    "        label for label in target_labels\n",
    "        if row[label] == 1\n",
    "    ])\n",
    "\n",
    "combined_df['label_combo'] = combined_df.apply(get_labels, axis=1)\n",
    "combined_df['label_combo'] = combined_df['label_combo'].replace('', 'None')  # Replace empty with 'None'\n",
    "# Count combinations\n",
    "combo_counts = combined_df['label_combo'].value_counts()\n",
    "combo_counts"
   ]
  },
  {
   "cell_type": "code",
   "execution_count": 53,
   "id": "e99b43ce",
   "metadata": {},
   "outputs": [
    {
     "data": {
      "image/png": "[encoded data removed]",
      "text/plain": [
       "<Figure size 640x480 with 1 Axes>"
      ]
     },
     "metadata": {},
     "output_type": "display_data"
    }
   ],
   "source": [
    "# Plot\n",
    "sns.barplot(x=combo_counts.values, y=combo_counts.index, palette=\"Set3\")\n",
    "plt.title(\"Label Combinations per Address\")\n",
    "plt.xlabel(\"Count\")\n",
    "plt.ylabel(\"Label Combo\")\n",
    "plt.yticks(fontsize=5)\n",
    "plt.show()\n"
   ]
  },
  {
   "cell_type": "markdown",
   "id": "bb45b24c",
   "metadata": {},
   "source": [
    "## Save Data"
   ]
  },
  {
   "cell_type": "code",
   "execution_count": 54,
   "id": "4617d084",
   "metadata": {},
   "outputs": [],
   "source": [
    "combined_df.to_csv(os.path.join(PATH, 'dataset.csv'), index=False)"
   ]
  },
  {
   "cell_type": "code",
   "execution_count": null,
   "id": "3c015c39",
   "metadata": {},
   "outputs": [],
   "source": []
  }
 ],
 "metadata": {
  "kernelspec": {
   "display_name": "ml-algo",
   "language": "python",
   "name": "python3"
  },
  "language_info": {
   "codemirror_mode": {
    "name": "ipython",
    "version": 3
   },
   "file_extension": ".py",
   "mimetype": "text/x-python",
   "name": "python",
   "nbconvert_exporter": "python",
   "pygments_lexer": "ipython3",
   "version": "3.12.7"
  }
 },
 "nbformat": 4,
 "nbformat_minor": 5
}
