{
 "cells": [
  {
   "cell_type": "markdown",
   "id": "3c52fae2",
   "metadata": {},
   "source": [
    "# Exploratory Data Analysis (EDA) -- RPHunter -- rechecking"
   ]
  },
  {
   "cell_type": "markdown",
   "id": "cf300bd7",
   "metadata": {},
   "source": [
    "## Imports & Configuration"
   ]
  },
  {
   "cell_type": "code",
   "execution_count": null,
   "id": "c7248b24",
   "metadata": {},
   "outputs": [],
   "source": [
    "import warnings\n",
    "warnings.filterwarnings(\"ignore\")\n",
    "\n",
    "import pandas as pd\n",
    "import os\n",
    "import seaborn as sns\n",
    "import re\n",
    "from sklearn.preprocessing import MultiLabelBinarizer\n",
    "from pathlib import Path\n",
    "\n",
    "%matplotlib inline\n",
    "sns.set(style=\"whitegrid\")"
   ]
  },
  {
   "cell_type": "code",
   "execution_count": 2,
   "id": "5a1b9bee",
   "metadata": {},
   "outputs": [],
   "source": [
    "PATH = os.path.join(Path.cwd().parents[1],'data/external/rphunter')\n"
   ]
  },
  {
   "cell_type": "markdown",
   "id": "a7034dd7",
   "metadata": {},
   "source": [
    "## Load Dataset"
   ]
  },
  {
   "cell_type": "code",
   "execution_count": 3,
   "id": "e2e942f2",
   "metadata": {},
   "outputs": [],
   "source": [
    "total_df = pd.read_excel(os.path.join(PATH, \"Rug-Pull-Incidents.xlsx\"), engine='openpyxl', sheet_name=\"Total\")\n",
    "experiment_df = pd.read_excel(os.path.join(PATH, \"Rug-Pull-Incidents.xlsx\"), engine='openpyxl', sheet_name=\"Experiment\")\n",
    "normal_list = os.listdir(os.path.join(PATH, \"Normal-Bytecode\"))\n",
    "rug_list = os.listdir(os.path.join(PATH, \"Rug-Bytecode\"))\n",
    "normal_bytecode_df = pd.DataFrame({'Address': normal_list})\n",
    "rug_bytecode_df = pd.DataFrame({'Address': rug_list})\n",
    "normal_bytecode_df['Address'] = normal_bytecode_df['Address'].apply(lambda x: x.split('.')[0])\n",
    "rug_bytecode_df['Address'] = rug_bytecode_df['Address'].apply(lambda x: x.split('.')[0])"
   ]
  },
  {
   "cell_type": "markdown",
   "id": "43d61898",
   "metadata": {},
   "source": [
    "## Missing Data"
   ]
  },
  {
   "cell_type": "code",
   "execution_count": 4,
   "id": "66c3c78f",
   "metadata": {
    "vscode": {
     "languageId": "ruby"
    }
   },
   "outputs": [
    {
     "name": "stdout",
     "output_type": "stream",
     "text": [
      "<class 'pandas.core.frame.DataFrame'>\n",
      "RangeIndex: 643 entries, 0 to 642\n",
      "Data columns (total 11 columns):\n",
      " #   Column                 Non-Null Count  Dtype \n",
      "---  ------                 --------------  ----- \n",
      " 0   Project Name           643 non-null    object\n",
      " 1   Chain                  643 non-null    object\n",
      " 2   Address                643 non-null    object\n",
      " 3   Open Source            643 non-null    object\n",
      " 4   Sale Restrict          206 non-null    object\n",
      " 5   Variable Manipulation  145 non-null    object\n",
      " 6   Balance Tamper         195 non-null    object\n",
      " 7   Source                 642 non-null    object\n",
      " 8   Address_lower          643 non-null    object\n",
      " 9   in_normal              643 non-null    bool  \n",
      " 10  in_rug                 643 non-null    bool  \n",
      "dtypes: bool(2), object(9)\n",
      "memory usage: 46.6+ KB\n"
     ]
    }
   ],
   "source": [
    "# Convert all addresses to lower case for comparison\n",
    "total_df['Address_lower'] = total_df['Address'].str.lower()\n",
    "normal_bytecode_df['Address_lower'] = normal_bytecode_df['Address'].str.lower()\n",
    "rug_bytecode_df['Address_lower'] = rug_bytecode_df['Address'].str.lower()\n",
    "\n",
    "# Check if Address in total_df exists in normal_bytecode_df or rug_bytecode_df\n",
    "total_df['in_normal'] = total_df['Address_lower'].isin(normal_bytecode_df['Address_lower'])\n",
    "total_df['in_rug'] = total_df['Address_lower'].isin(rug_bytecode_df['Address_lower'])\n",
    "# Keep only rows where the address exists in either normal_bytecode_df or rug_bytecode_df\n",
    "total_df = total_df[total_df['in_normal'] | total_df['in_rug']].reset_index(drop=True)\n",
    "total_df.info()"
   ]
  },
  {
   "cell_type": "code",
   "execution_count": 5,
   "id": "61133b24",
   "metadata": {},
   "outputs": [
    {
     "name": "stdout",
     "output_type": "stream",
     "text": [
      "<class 'pandas.core.frame.DataFrame'>\n",
      "RangeIndex: 645 entries, 0 to 644\n",
      "Data columns (total 11 columns):\n",
      " #   Column                 Non-Null Count  Dtype \n",
      "---  ------                 --------------  ----- \n",
      " 0   Project Name           645 non-null    object\n",
      " 1   Chain                  645 non-null    object\n",
      " 2   Address                645 non-null    object\n",
      " 3   Open Source            645 non-null    object\n",
      " 4   Sale Restrict          204 non-null    object\n",
      " 5   Variable Manipulation  145 non-null    object\n",
      " 6   Balance Tamper         190 non-null    object\n",
      " 7   Source                 644 non-null    object\n",
      " 8   Address_lower          645 non-null    object\n",
      " 9   in_normal              645 non-null    bool  \n",
      " 10  in_rug                 645 non-null    bool  \n",
      "dtypes: bool(2), object(9)\n",
      "memory usage: 46.7+ KB\n"
     ]
    }
   ],
   "source": [
    "experiment_df['Address_lower'] = experiment_df['Address'].str.lower()\n",
    "# Check if Address in experiment_df exists in normal_bytecode_df or rug_bytecode_df\n",
    "experiment_df['in_normal'] = experiment_df['Address_lower'].isin(normal_bytecode_df['Address_lower'])\n",
    "experiment_df['in_rug'] = experiment_df['Address_lower'].isin(rug_bytecode_df['Address_lower'])\n",
    "# Keep only rows where the address exists in either normal_bytecode_df or rug_bytecode_df\n",
    "experiment_df = experiment_df[experiment_df['in_normal'] | experiment_df['in_rug']].reset_index(drop=True)\n",
    "experiment_df.info()"
   ]
  },
  {
   "cell_type": "code",
   "execution_count": 6,
   "id": "7de22337",
   "metadata": {},
   "outputs": [
    {
     "name": "stdout",
     "output_type": "stream",
     "text": [
      "Number of rows with empty or NaN values in 'Balance Tamper', 'Variable Manipulation', and 'Sale Restrict': 221\n"
     ]
    }
   ],
   "source": [
    "empty_cond = ((total_df['Balance Tamper'].isna() | (total_df['Balance Tamper'].str.strip() == '')) &\n",
    "    (total_df['Variable Manipulation'].isna() | (total_df['Variable Manipulation'].str.strip() == '')) &\n",
    "    (total_df['Sale Restrict'].isna() | (total_df['Sale Restrict'].str.strip() == '')))\n",
    "\n",
    "empty_or_nan_rows = total_df[empty_cond].shape[0]\n",
    "\n",
    "print(f\"Number of rows with empty or NaN values in 'Balance Tamper', 'Variable Manipulation', and 'Sale Restrict': {empty_or_nan_rows}\")"
   ]
  },
  {
   "cell_type": "code",
   "execution_count": 7,
   "id": "444367c9",
   "metadata": {},
   "outputs": [
    {
     "name": "stdout",
     "output_type": "stream",
     "text": [
      "Number of rows with empty or NaN values in 'Balance Tamper', 'Variable Manipulation', and 'Sale Restrict': 229\n"
     ]
    }
   ],
   "source": [
    "empty_cond_exp = ((experiment_df['Balance Tamper'].isna() | (experiment_df['Balance Tamper'].str.strip() == '')) &\n",
    "    (experiment_df['Variable Manipulation'].isna() | (experiment_df['Variable Manipulation'].str.strip() == '')) &\n",
    "    (experiment_df['Sale Restrict'].isna() | (experiment_df['Sale Restrict'].str.strip() == '')))\n",
    "empty_or_nan_rows_exp = experiment_df[\n",
    "    empty_cond_exp\n",
    "].shape[0]\n",
    "\n",
    "print(f\"Number of rows with empty or NaN values in 'Balance Tamper', 'Variable Manipulation', and 'Sale Restrict': {empty_or_nan_rows_exp}\")"
   ]
  },
  {
   "cell_type": "code",
   "execution_count": 8,
   "id": "f62e9f67",
   "metadata": {},
   "outputs": [
    {
     "name": "stdout",
     "output_type": "stream",
     "text": [
      "<class 'pandas.core.frame.DataFrame'>\n",
      "Index: 422 entries, 0 to 421\n",
      "Data columns (total 11 columns):\n",
      " #   Column                 Non-Null Count  Dtype \n",
      "---  ------                 --------------  ----- \n",
      " 0   Project Name           422 non-null    object\n",
      " 1   Chain                  422 non-null    object\n",
      " 2   Address                422 non-null    object\n",
      " 3   Open Source            422 non-null    object\n",
      " 4   Sale Restrict          206 non-null    object\n",
      " 5   Variable Manipulation  145 non-null    object\n",
      " 6   Balance Tamper         195 non-null    object\n",
      " 7   Source                 422 non-null    object\n",
      " 8   Address_lower          422 non-null    object\n",
      " 9   in_normal              422 non-null    bool  \n",
      " 10  in_rug                 422 non-null    bool  \n",
      "dtypes: bool(2), object(9)\n",
      "memory usage: 33.8+ KB\n"
     ]
    }
   ],
   "source": [
    "# remove empty_or_nan_rows from total_df\n",
    "total_df = total_df[~empty_cond]\n",
    "\n",
    "total_df.info()"
   ]
  },
  {
   "cell_type": "code",
   "execution_count": 9,
   "id": "0315187a",
   "metadata": {},
   "outputs": [
    {
     "data": {
      "application/vnd.microsoft.datawrangler.viewer.v0+json": {
       "columns": [
        {
         "name": "index",
         "rawType": "int64",
         "type": "integer"
        },
        {
         "name": "Project Name",
         "rawType": "object",
         "type": "unknown"
        },
        {
         "name": "Chain",
         "rawType": "object",
         "type": "string"
        },
        {
         "name": "Address",
         "rawType": "object",
         "type": "string"
        },
        {
         "name": "Open Source",
         "rawType": "object",
         "type": "string"
        },
        {
         "name": "Sale Restrict",
         "rawType": "object",
         "type": "unknown"
        },
        {
         "name": "Variable Manipulation",
         "rawType": "object",
         "type": "unknown"
        },
        {
         "name": "Balance Tamper",
         "rawType": "object",
         "type": "unknown"
        },
        {
         "name": "Source",
         "rawType": "object",
         "type": "string"
        }
       ],
       "ref": "97254552-eaa4-4fe2-9a12-e7009451a611",
       "rows": [
        [
         "0",
         "GMETA",
         "BSC",
         "0X93023F1D3525E273F291B6F76D2F5027A39BF302",
         "Yes",
         null,
         "Modifiable Tax Rate",
         "Hidden Mint/Burn",
         "https://twitter.com/BeosinAlert/status/1681240663868973056"
        ],
        [
         "1",
         "PokémonFi",
         "BSC",
         "0X2753DCE37A7EDB052A77832039BCC9AA49AD8B25",
         "Yes",
         "Address Restrict",
         null,
         null,
         "https://twitter.com/CertiKAlert/status/1562555089306685440"
        ],
        [
         "2",
         "Sudorare",
         "ETH",
         "0X5404EFAFDD8CC30053069DF2A1B0C4BA881B3E1E",
         "Yes",
         null,
         null,
         "Hidden Mint/Burn",
         "https://x.com/PeckShieldAlert/status/1561967493912363008"
        ],
        [
         "3",
         "DRAC Network",
         "ETH",
         "0X10F6F2B97F3AB29583D9D38BABF2994DF7220C21",
         "Yes",
         null,
         "Modifiable Tax Rate",
         "Hidden Mint/Burn",
         "https://twitter.com/PeckShieldAlert/status/1551409593397350401"
        ],
        [
         "4",
         "DHE",
         "BSC",
         "0X11CBC781DADAAD13FC3A361772C80B1C027820AF",
         "Yes",
         "Address Restrict",
         null,
         null,
         "https://twitter.com/CertiKAlert/status/1539031511114063873"
        ],
        [
         "5",
         "ElonMVP",
         "BSC",
         "0X3E597EA168A85AA2AE5E2C4333665BCD875ED10F",
         "Yes",
         "Address Restrict",
         null,
         null,
         "https://twitter.com/PeckShieldAlert/status/1536223027717111808"
        ],
        [
         "6",
         "BabyElon",
         "BSC",
         "0X292E89D5D5BDAB3AF2F5838C194C1983F0140B43",
         "Yes",
         "Address Restrict",
         null,
         null,
         "https://de.fi/rekt-database/babyelon"
        ],
        [
         "7",
         "StarMan",
         "BSC",
         "0XEF20505C8B343D12DA174BF9D8495C1CE2670989",
         "Yes",
         "Address Restrict",
         null,
         null,
         "https://de.fi/rekt-database/starman"
        ],
        [
         "8",
         "Armadillo Coin",
         "BSC",
         "0XC71D244F7AD6C869ECBF13CBD9ACAE31718BE4F8",
         "Yes",
         "Address Restrict",
         null,
         null,
         "https://x.com/PeckShieldAlert/status/1531880431947481093"
        ],
        [
         "9",
         "LV PLUS",
         "BSC",
         "0X5927B72440D8A8B8C6CA5A8BE60E88975F9063FC",
         "Yes",
         "Address Restrict,Amount Restrict",
         "Modifiable Tax Rate",
         null,
         "https://de.fi/rekt-database/lv_metaverse"
        ],
        [
         "10",
         "Pokemoney",
         "BSC",
         "0X32FF5B4C3B1744F0344D96FA2F87799ED2805749",
         "No",
         null,
         null,
         "Hidden Mint/Burn",
         "https://twitter.com/PeckShieldAlert/status/1530122357125181441"
        ],
        [
         "11",
         "Hunter",
         "BSC",
         "0X1E4402FA427A7A835FC64EA6D051404CE767A569",
         "Yes",
         null,
         "Modifiable Tax Rate",
         null,
         "https://twitter.com/CertiKAlert/status/1523153063875575809"
        ],
        [
         "12",
         "MaxAPY Finance",
         "BSC",
         "0XCB6CD204D783DC8D66896A6DEF5867D332228D7B",
         "Yes",
         "Address Restrict",
         "Modifiable Tax Rate",
         null,
         "https://twitter.com/PeckShieldAlert/status/1516676658350428160"
        ],
        [
         "13",
         "BNB DEFI",
         "BSC",
         "0X455DEDACBE41C178953119847F2B95E2D9AD0A1D",
         "Yes",
         null,
         "Modifiable Tax Rate",
         "Hidden Balance Modification",
         "https://twitter.com/PeckShieldAlert/status/1508626057913520128"
        ],
        [
         "14",
         "BuccaneerFi",
         "BSC",
         "0X831467B7B6BF9C705DC87899D48B57EE55C8D5CC",
         "Yes",
         null,
         null,
         "Hidden Mint/Burn",
         "https://twitter.com/PeckShieldAlert/status/1508337292020445187"
        ],
        [
         "15",
         "BabyMuskCoin",
         "BSC",
         "0XAF507F297B5EFF8339315C4226977972734438B0",
         "Yes",
         "Address Restrict",
         "Modifiable Tax Rate",
         "Hidden Balance Modification",
         "https://twitter.com/CertiKCommunity/status/1491483014467047437?s=19"
        ],
        [
         "16",
         "IEGT",
         "BSC",
         "0X8D07F605926837EA0F9E1E24DBA0FB348CB3E97D",
         "Yes",
         "Address Restrict,Amount Restrict",
         "Modifiable Tax Rate",
         null,
         "https://slowmist.medium.com/beware-of-covert-rug-pulls-exit-scams-driven-by-contract-storage-manipulation-3631c8cbe1a"
        ],
        [
         "17",
         "VPANDA DAO",
         "BSC",
         "0X2A8DBA970BA9750FA1C81B1BE4C0E19C1AACCA9D",
         "Yes",
         "Amount Restrict",
         null,
         null,
         "https://twitter.com/PeckShieldAlert/status/1670745691440943106"
        ],
        [
         "18",
         "USEA",
         "BSC",
         "0XDF7FF95AA3D855A6FB21399432166A92FDCF1B1A",
         "Yes",
         null,
         null,
         "Hidden Mint/Burn",
         "https://de.fi/rekt-database/usea"
        ],
        [
         "19",
         "Swaprum",
         "Arbitrum",
         "0X2AE25460C44D578E6F41AB900A7A5425B6492C16",
         "Yes",
         null,
         null,
         "Hidden Mint/Burn",
         "https://twitter.com/hackenclub/status/1659499442041417729?s=46&t=DLwbX9Nw4QECiyZQ0av-fg"
        ],
        [
         "20",
         "DMAN",
         "ETH",
         "0X9A3FB36BF72A387FCC821A38EE9F50F1A0EB8CBD",
         "Yes",
         "Amount Restrict",
         null,
         null,
         "https://hacked.slowmist.io/search/"
        ],
        [
         "21",
         "GNS",
         "ETH",
         "0XE7E63E244C52B2230666E263657BA8DB2B6B3705",
         "Yes",
         null,
         "Modifiable Tax Rate",
         "Hidden Balance Modification",
         "https://hacked.slowmist.io/search/"
        ],
        [
         "22",
         "PEPG",
         "ETH",
         "0X25D8F027FD25EECBCD812521FB2F75F175807A91",
         "Yes",
         null,
         "Modifiable Tax Rate",
         "Hidden Balance Modification",
         "https://hacked.slowmist.io/search/"
        ],
        [
         "23",
         "Art Coin",
         "ETH",
         "0X1250B98CBDE9F99F4C42DCDACEE193221F17EB50",
         "Yes",
         null,
         null,
         "Hidden Mint/Burn",
         "https://bitcoinist.com/project-losses-over-331000-setup-flaw-on-uniswap-v3/"
        ],
        [
         "24",
         "WSB Coin",
         "ETH",
         "0X0414D8C87B271266A5864329FB4932BBE19C0C49",
         "Yes",
         null,
         null,
         "Hidden Mint/Burn",
         "https://de.fi/rekt-database/wsb"
        ],
        [
         "25",
         "Arbtomb",
         "Arbitrum",
         "0XAF391EAA53FB34AE2E83E975F03461A936991245",
         "Yes",
         null,
         null,
         "Hidden Mint/Burn",
         "https://de.fi/rekt-database/arbtomb"
        ],
        [
         "26",
         "Kokomo Finance",
         "OP.ETH",
         "0X7DA25BC4CFAED3F29414C6779676E53B19A356F5",
         "Yes",
         null,
         null,
         "Hidden Mint/Burn",
         "https://de.fi/rekt-database/kokomo_finance"
        ],
        [
         "27",
         "ArbiSwap",
         "Arbitrum",
         "0X9DB8A10C7FE60D84397860B3AF2E686D4F90C2B7",
         "Yes",
         null,
         null,
         "Hidden Mint/Burn",
         "https://arbiscan.io/tx/0x54ca307057b38110f60fce515ba35321fde82b876b4a2abf77368924903216e1"
        ],
        [
         "28",
         "Wegrocoin",
         "BSC",
         "0X5946FE65AB9DC66A961234502EE96776E4FA9F52",
         "Yes",
         "Address Restrict,Amount Restrict",
         null,
         "Hidden Balance Modification",
         "https://twitter.com/PeckShieldAlert/status/1486500426174189573"
        ],
        [
         "29",
         "InfinityToken",
         "BSC",
         "0X52E4339B4B9FF254738D6E971E83440F60DC029C",
         "Yes",
         "Amount Restrict",
         null,
         "Hidden Mint/Burn",
         "https://coincodecap.com/infinity-token-rugged-more-than-1390-wbnb"
        ],
        [
         "30",
         "Bored Bunny",
         "ETH",
         "0X9372B371196751DD2F603729AE8D8014BBEB07F6",
         "Yes",
         null,
         null,
         "Hidden Mint/Burn",
         "https://twitter.com/chanceweb3/status/1478549762219466752?ref_src=twsrc%5Etfw%7Ctwcamp%5Etweetembed%7Ctwterm%5E1478549762219466752%7Ctwgr%5E%7Ctwcon%5Es1"
        ],
        [
         "31",
         "Snowdog DAO",
         "Cchain",
         "0XDE9E52F1838951E4D2BB6C59723B003C353979B6",
         "Yes",
         null,
         null,
         "Hidden Mint/Burn",
         "https://de.fi/rekt-database/snowdog"
        ],
        [
         "32",
         "METAMOONMARS",
         "BSC",
         "0X8ED9C7E4D8DFE480584CC7EF45742AC302BA27D7",
         "Yes",
         null,
         "Modifiable Tax Rate",
         null,
         "https://de.fi/rekt-database/metamoonmars"
        ],
        [
         "33",
         "Flare",
         "BSC",
         "0X85AA3F04E539E426CBB55C0D584EA99CFE1D96A1",
         "Yes",
         "Amount Restrict",
         null,
         null,
         "https://de.fi/rekt-database/flare"
        ],
        [
         "34",
         "Blur Finance",
         "BSC",
         "0X4165084A6E5388CE53C9D9892F904A2712DD943A",
         "Yes",
         null,
         null,
         "Hidden Mint/Burn",
         "https://twitter.com/PeckShieldAlert/status/1557259094058102785"
        ],
        [
         "35",
         "Julia",
         "ETH",
         "0XA7CD93ED3133D82781CC17460FE1500B69A1B514",
         "Yes",
         "Modifiable External Call",
         null,
         null,
         "https://de.fi/rekt-database/julia"
        ],
        [
         "36",
         "Memecoin",
         "ETH",
         "0X3417D4FA067806F8F70C2A692548048962B7AC45",
         "Yes",
         "Amount Restrict",
         null,
         "Hidden Balance Modification",
         "https://de.fi/rekt-database/memecoin"
        ],
        [
         "37",
         "Jewels",
         "ETH",
         "0XA2E8B27500D3BAE6DAAD122BDD8F405B65752175",
         "Yes",
         "Amount Restrict",
         null,
         null,
         "https://de.fi/rekt-database/jewels"
        ],
        [
         "38",
         "Gemini Ai",
         "ETH",
         "0XDBC0E0C94707256AC2DE70F0B0E182C9287663F6",
         "Yes",
         null,
         null,
         "Hidden Balance Modification",
         "https://twitter.com/PeckShieldAlert/status/1732735122452201617"
        ],
        [
         "39",
         "TITANX",
         "ETH",
         "0XAF3302F7A83CB4E66B8F9450B00E7644E605878D",
         "Yes",
         "Amount Restrict",
         null,
         null,
         "https://de.fi/rekt-database/titanx"
        ],
        [
         "40",
         "Arbix Finance",
         "BSC",
         "0XD20EF93050C0943F74F5F8FF0CC97C74139D6437",
         "Yes",
         null,
         null,
         "Hidden Mint/Burn",
         "https://de.fi/rekt-database/arbix"
        ],
        [
         "41",
         "BNB HEROES",
         "BSC",
         "0XD25631648E3AD4863332319E8E0D6F2A8EC6F267",
         "Yes",
         "Address Restrict,Amount Restrict",
         "Modifiable Tax Rate",
         null,
         "https://de.fi/rekt-database/bnb_heroes"
        ],
        [
         "42",
         "Mercenary",
         "BSC",
         "0XE0E279EE10E3BDC9B7577F5548DD46FCA2E7E111",
         "Yes",
         null,
         null,
         "Hidden Mint/Burn",
         "https://de.fi/rekt-database/mercenary"
        ],
        [
         "43",
         "FileSystemVideo",
         "BSC",
         "0XE9C7A827A4BA133B338B844C19241C864E95D75F",
         "Yes",
         null,
         "Modifiable Tax Rate",
         "Hidden Mint/Burn",
         "https://de.fi/rekt-database/filesystemvideo"
        ],
        [
         "44",
         "DollarDoge",
         "BSC",
         "0X454876D97098528D83E661ED3DDF19B10E397352",
         "Yes",
         "Amount Restrict",
         "Modifiable Tax Rate",
         "Hidden Balance Modification",
         "https://de.fi/rekt-database/dollardoge"
        ],
        [
         "45",
         "Raptor2",
         "BSC",
         "0XC51B24E6809B4E4578BE862C4BE19D8D767755BA",
         "Yes",
         "Address Restrict",
         null,
         null,
         "https://de.fi/rekt-database/raptor2"
        ],
        [
         "46",
         "Web3Memes",
         "BSC",
         "0XBAD6EA539B1B9F150D6D0B95EF4F45AF70BF0BCD",
         "Yes",
         "Address Restrict",
         null,
         null,
         "https://de.fi/rekt-database/web3memes"
        ],
        [
         "47",
         "TheCatWorld",
         "BSC",
         "0XF22807575D019A0192395D8A5244A8BFC51D9C58",
         "Yes",
         "Amount Restrict,TimeStamp Restrict",
         "Modifiable Tax Rate",
         null,
         "https://de.fi/rekt-database/thecatworld"
        ],
        [
         "48",
         "Peace doge X",
         "BSC",
         "0X06FA8DEB5E82D2C05C7CE51F8C82E5E3DE3F2A29",
         "Yes",
         "Address Restrict,Amount Restrict",
         "Modifiable Tax Rate",
         null,
         "https://de.fi/rekt-database/peace%20doge"
        ],
        [
         "49",
         "Elonmoon",
         "BSC",
         "0X6F8A43AF478C3991572D655A994CCDD6405D8CDE",
         "Yes",
         "Address Restrict",
         null,
         null,
         "https://de.fi/rekt-database/elonmoon"
        ]
       ],
       "shape": {
        "columns": 8,
        "rows": 422
       }
      },
      "text/html": [
       "<div>\n",
       "<style scoped>\n",
       "    .dataframe tbody tr th:only-of-type {\n",
       "        vertical-align: middle;\n",
       "    }\n",
       "\n",
       "    .dataframe tbody tr th {\n",
       "        vertical-align: top;\n",
       "    }\n",
       "\n",
       "    .dataframe thead th {\n",
       "        text-align: right;\n",
       "    }\n",
       "</style>\n",
       "<table border=\"1\" class=\"dataframe\">\n",
       "  <thead>\n",
       "    <tr style=\"text-align: right;\">\n",
       "      <th></th>\n",
       "      <th>Project Name</th>\n",
       "      <th>Chain</th>\n",
       "      <th>Address</th>\n",
       "      <th>Open Source</th>\n",
       "      <th>Sale Restrict</th>\n",
       "      <th>Variable Manipulation</th>\n",
       "      <th>Balance Tamper</th>\n",
       "      <th>Source</th>\n",
       "    </tr>\n",
       "  </thead>\n",
       "  <tbody>\n",
       "    <tr>\n",
       "      <th>0</th>\n",
       "      <td>GMETA</td>\n",
       "      <td>BSC</td>\n",
       "      <td>0X93023F1D3525E273F291B6F76D2F5027A39BF302</td>\n",
       "      <td>Yes</td>\n",
       "      <td>NaN</td>\n",
       "      <td>Modifiable Tax Rate</td>\n",
       "      <td>Hidden Mint/Burn</td>\n",
       "      <td>https://twitter.com/BeosinAlert/status/1681240...</td>\n",
       "    </tr>\n",
       "    <tr>\n",
       "      <th>1</th>\n",
       "      <td>PokémonFi</td>\n",
       "      <td>BSC</td>\n",
       "      <td>0X2753DCE37A7EDB052A77832039BCC9AA49AD8B25</td>\n",
       "      <td>Yes</td>\n",
       "      <td>Address Restrict</td>\n",
       "      <td>NaN</td>\n",
       "      <td>NaN</td>\n",
       "      <td>https://twitter.com/CertiKAlert/status/1562555...</td>\n",
       "    </tr>\n",
       "    <tr>\n",
       "      <th>2</th>\n",
       "      <td>Sudorare</td>\n",
       "      <td>ETH</td>\n",
       "      <td>0X5404EFAFDD8CC30053069DF2A1B0C4BA881B3E1E</td>\n",
       "      <td>Yes</td>\n",
       "      <td>NaN</td>\n",
       "      <td>NaN</td>\n",
       "      <td>Hidden Mint/Burn</td>\n",
       "      <td>https://x.com/PeckShieldAlert/status/156196749...</td>\n",
       "    </tr>\n",
       "    <tr>\n",
       "      <th>3</th>\n",
       "      <td>DRAC Network</td>\n",
       "      <td>ETH</td>\n",
       "      <td>0X10F6F2B97F3AB29583D9D38BABF2994DF7220C21</td>\n",
       "      <td>Yes</td>\n",
       "      <td>NaN</td>\n",
       "      <td>Modifiable Tax Rate</td>\n",
       "      <td>Hidden Mint/Burn</td>\n",
       "      <td>https://twitter.com/PeckShieldAlert/status/155...</td>\n",
       "    </tr>\n",
       "    <tr>\n",
       "      <th>4</th>\n",
       "      <td>DHE</td>\n",
       "      <td>BSC</td>\n",
       "      <td>0X11CBC781DADAAD13FC3A361772C80B1C027820AF</td>\n",
       "      <td>Yes</td>\n",
       "      <td>Address Restrict</td>\n",
       "      <td>NaN</td>\n",
       "      <td>NaN</td>\n",
       "      <td>https://twitter.com/CertiKAlert/status/1539031...</td>\n",
       "    </tr>\n",
       "    <tr>\n",
       "      <th>...</th>\n",
       "      <td>...</td>\n",
       "      <td>...</td>\n",
       "      <td>...</td>\n",
       "      <td>...</td>\n",
       "      <td>...</td>\n",
       "      <td>...</td>\n",
       "      <td>...</td>\n",
       "      <td>...</td>\n",
       "    </tr>\n",
       "    <tr>\n",
       "      <th>417</th>\n",
       "      <td>Wealthfront</td>\n",
       "      <td>ETH</td>\n",
       "      <td>0XA837EFD4500966A45148073F57FA855205597612</td>\n",
       "      <td>Yes</td>\n",
       "      <td>NaN</td>\n",
       "      <td>NaN</td>\n",
       "      <td>Hidden Mint/Burn</td>\n",
       "      <td>https://de.fi/rekt-database/Wealthfront</td>\n",
       "    </tr>\n",
       "    <tr>\n",
       "      <th>418</th>\n",
       "      <td>ANT1GOON</td>\n",
       "      <td>ETH</td>\n",
       "      <td>0X61DB2FB090D890EA9FC09DD837FD47CF2F92EE26</td>\n",
       "      <td>Yes</td>\n",
       "      <td>Address Restrict</td>\n",
       "      <td>Modifiable External Call</td>\n",
       "      <td>NaN</td>\n",
       "      <td>https://de.fi/rekt-database/ANT1GOON</td>\n",
       "    </tr>\n",
       "    <tr>\n",
       "      <th>419</th>\n",
       "      <td>Exbase Finance</td>\n",
       "      <td>ETH</td>\n",
       "      <td>0X15C5339954A1016C77732EA626CC714B0D37DD6A</td>\n",
       "      <td>Yes</td>\n",
       "      <td>NaN</td>\n",
       "      <td>Modifiable Tax Rate</td>\n",
       "      <td>NaN</td>\n",
       "      <td>https://de.fi/rekt-database/Exbase Finance</td>\n",
       "    </tr>\n",
       "    <tr>\n",
       "      <th>420</th>\n",
       "      <td>Xdef finance</td>\n",
       "      <td>ETH</td>\n",
       "      <td>0X5166D4CE79B9BF7DF477DA110C560CE3045AA889</td>\n",
       "      <td>Yes</td>\n",
       "      <td>Address Restrict</td>\n",
       "      <td>Modifiable Tax Rate</td>\n",
       "      <td>NaN</td>\n",
       "      <td>https://de.fi/rekt-database/Xdef finance</td>\n",
       "    </tr>\n",
       "    <tr>\n",
       "      <th>421</th>\n",
       "      <td>Kanva</td>\n",
       "      <td>ETH</td>\n",
       "      <td>0X2D176650B1D3E69E80C2DD8ACF4E7D590A16BDA7</td>\n",
       "      <td>Yes</td>\n",
       "      <td>Address Restrict</td>\n",
       "      <td>NaN</td>\n",
       "      <td>NaN</td>\n",
       "      <td>https://de.fi/rekt-database/Kanva</td>\n",
       "    </tr>\n",
       "  </tbody>\n",
       "</table>\n",
       "<p>422 rows × 8 columns</p>\n",
       "</div>"
      ],
      "text/plain": [
       "       Project Name Chain                                     Address  \\\n",
       "0             GMETA   BSC  0X93023F1D3525E273F291B6F76D2F5027A39BF302   \n",
       "1         PokémonFi   BSC  0X2753DCE37A7EDB052A77832039BCC9AA49AD8B25   \n",
       "2          Sudorare   ETH  0X5404EFAFDD8CC30053069DF2A1B0C4BA881B3E1E   \n",
       "3      DRAC Network   ETH  0X10F6F2B97F3AB29583D9D38BABF2994DF7220C21   \n",
       "4               DHE   BSC  0X11CBC781DADAAD13FC3A361772C80B1C027820AF   \n",
       "..              ...   ...                                         ...   \n",
       "417     Wealthfront   ETH  0XA837EFD4500966A45148073F57FA855205597612   \n",
       "418        ANT1GOON   ETH  0X61DB2FB090D890EA9FC09DD837FD47CF2F92EE26   \n",
       "419  Exbase Finance   ETH  0X15C5339954A1016C77732EA626CC714B0D37DD6A   \n",
       "420    Xdef finance   ETH  0X5166D4CE79B9BF7DF477DA110C560CE3045AA889   \n",
       "421           Kanva   ETH  0X2D176650B1D3E69E80C2DD8ACF4E7D590A16BDA7   \n",
       "\n",
       "    Open Source     Sale Restrict     Variable Manipulation    Balance Tamper  \\\n",
       "0           Yes               NaN       Modifiable Tax Rate  Hidden Mint/Burn   \n",
       "1           Yes  Address Restrict                       NaN               NaN   \n",
       "2           Yes               NaN                       NaN  Hidden Mint/Burn   \n",
       "3           Yes               NaN       Modifiable Tax Rate  Hidden Mint/Burn   \n",
       "4           Yes  Address Restrict                       NaN               NaN   \n",
       "..          ...               ...                       ...               ...   \n",
       "417         Yes               NaN                       NaN  Hidden Mint/Burn   \n",
       "418         Yes  Address Restrict  Modifiable External Call               NaN   \n",
       "419         Yes               NaN       Modifiable Tax Rate               NaN   \n",
       "420         Yes  Address Restrict       Modifiable Tax Rate               NaN   \n",
       "421         Yes  Address Restrict                       NaN               NaN   \n",
       "\n",
       "                                                Source  \n",
       "0    https://twitter.com/BeosinAlert/status/1681240...  \n",
       "1    https://twitter.com/CertiKAlert/status/1562555...  \n",
       "2    https://x.com/PeckShieldAlert/status/156196749...  \n",
       "3    https://twitter.com/PeckShieldAlert/status/155...  \n",
       "4    https://twitter.com/CertiKAlert/status/1539031...  \n",
       "..                                                 ...  \n",
       "417            https://de.fi/rekt-database/Wealthfront  \n",
       "418               https://de.fi/rekt-database/ANT1GOON  \n",
       "419         https://de.fi/rekt-database/Exbase Finance  \n",
       "420           https://de.fi/rekt-database/Xdef finance  \n",
       "421                  https://de.fi/rekt-database/Kanva  \n",
       "\n",
       "[422 rows x 8 columns]"
      ]
     },
     "execution_count": 9,
     "metadata": {},
     "output_type": "execute_result"
    }
   ],
   "source": [
    "total_df.drop(columns=[\"Address_lower\", \"in_normal\", \"in_rug\"])"
   ]
  },
  {
   "cell_type": "code",
   "execution_count": 10,
   "id": "ff9c7378",
   "metadata": {},
   "outputs": [
    {
     "name": "stdout",
     "output_type": "stream",
     "text": [
      "<class 'pandas.core.frame.DataFrame'>\n",
      "Index: 416 entries, 0 to 415\n",
      "Data columns (total 11 columns):\n",
      " #   Column                 Non-Null Count  Dtype \n",
      "---  ------                 --------------  ----- \n",
      " 0   Project Name           416 non-null    object\n",
      " 1   Chain                  416 non-null    object\n",
      " 2   Address                416 non-null    object\n",
      " 3   Open Source            416 non-null    object\n",
      " 4   Sale Restrict          204 non-null    object\n",
      " 5   Variable Manipulation  145 non-null    object\n",
      " 6   Balance Tamper         190 non-null    object\n",
      " 7   Source                 416 non-null    object\n",
      " 8   Address_lower          416 non-null    object\n",
      " 9   in_normal              416 non-null    bool  \n",
      " 10  in_rug                 416 non-null    bool  \n",
      "dtypes: bool(2), object(9)\n",
      "memory usage: 33.3+ KB\n"
     ]
    }
   ],
   "source": [
    "experiment_df = experiment_df[~empty_cond_exp]\n",
    "experiment_df.info()"
   ]
  },
  {
   "cell_type": "code",
   "execution_count": 11,
   "id": "c01a5992",
   "metadata": {},
   "outputs": [
    {
     "data": {
      "application/vnd.microsoft.datawrangler.viewer.v0+json": {
       "columns": [
        {
         "name": "index",
         "rawType": "int64",
         "type": "integer"
        },
        {
         "name": "Project Name",
         "rawType": "object",
         "type": "unknown"
        },
        {
         "name": "Chain",
         "rawType": "object",
         "type": "string"
        },
        {
         "name": "Address",
         "rawType": "object",
         "type": "string"
        },
        {
         "name": "Open Source",
         "rawType": "object",
         "type": "string"
        },
        {
         "name": "Sale Restrict",
         "rawType": "object",
         "type": "unknown"
        },
        {
         "name": "Variable Manipulation",
         "rawType": "object",
         "type": "unknown"
        },
        {
         "name": "Balance Tamper",
         "rawType": "object",
         "type": "unknown"
        },
        {
         "name": "Source",
         "rawType": "object",
         "type": "string"
        }
       ],
       "ref": "851224da-8148-40b3-8593-8a95109abdd0",
       "rows": [
        [
         "0",
         "GMETA",
         "BSC",
         "0X93023F1D3525E273F291B6F76D2F5027A39BF302",
         "Yes",
         null,
         "Modifiable Tax Rate",
         "Hidden Mint/Burn",
         "https://twitter.com/BeosinAlert/status/1681240663868973056"
        ],
        [
         "1",
         "PokémonFi",
         "BSC",
         "0X2753DCE37A7EDB052A77832039BCC9AA49AD8B25",
         "Yes",
         "Address Restrict",
         null,
         null,
         "https://twitter.com/CertiKAlert/status/1562555089306685440"
        ],
        [
         "2",
         "Sudorare",
         "ETH",
         "0X5404EFAFDD8CC30053069DF2A1B0C4BA881B3E1E",
         "Yes",
         null,
         null,
         "Hidden Mint/Burn",
         "https://x.com/PeckShieldAlert/status/1561967493912363008"
        ],
        [
         "3",
         "DRAC Network",
         "ETH",
         "0X10F6F2B97F3AB29583D9D38BABF2994DF7220C21",
         "Yes",
         null,
         "Modifiable Tax Rate",
         "Hidden Mint/Burn",
         "https://twitter.com/PeckShieldAlert/status/1551409593397350401"
        ],
        [
         "4",
         "DHE",
         "BSC",
         "0X11CBC781DADAAD13FC3A361772C80B1C027820AF",
         "Yes",
         "Address Restrict",
         null,
         null,
         "https://twitter.com/CertiKAlert/status/1539031511114063873"
        ],
        [
         "5",
         "ElonMVP",
         "BSC",
         "0X3E597EA168A85AA2AE5E2C4333665BCD875ED10F",
         "Yes",
         "Address Restrict",
         null,
         null,
         "https://twitter.com/PeckShieldAlert/status/1536223027717111808"
        ],
        [
         "6",
         "BabyElon",
         "BSC",
         "0X292E89D5D5BDAB3AF2F5838C194C1983F0140B43",
         "Yes",
         "Address Restrict",
         null,
         null,
         "https://de.fi/rekt-database/babyelon"
        ],
        [
         "7",
         "StarMan",
         "BSC",
         "0XEF20505C8B343D12DA174BF9D8495C1CE2670989",
         "Yes",
         "Address Restrict",
         null,
         null,
         "https://de.fi/rekt-database/starman"
        ],
        [
         "8",
         "Armadillo Coin",
         "BSC",
         "0XC71D244F7AD6C869ECBF13CBD9ACAE31718BE4F8",
         "Yes",
         "Address Restrict",
         null,
         null,
         "https://x.com/PeckShieldAlert/status/1531880431947481093"
        ],
        [
         "9",
         "LV PLUS",
         "BSC",
         "0X5927B72440D8A8B8C6CA5A8BE60E88975F9063FC",
         "Yes",
         "Address Restrict,Amount Restrict",
         "Modifiable Tax Rate",
         null,
         "https://de.fi/rekt-database/lv_metaverse"
        ],
        [
         "10",
         "Pokemoney",
         "BSC",
         "0X32FF5B4C3B1744F0344D96FA2F87799ED2805749",
         "No",
         null,
         null,
         "Hidden Mint/Burn",
         "https://twitter.com/PeckShieldAlert/status/1530122357125181441"
        ],
        [
         "11",
         "Hunter",
         "BSC",
         "0X1E4402FA427A7A835FC64EA6D051404CE767A569",
         "Yes",
         null,
         "Modifiable Tax Rate",
         null,
         "https://twitter.com/CertiKAlert/status/1523153063875575809"
        ],
        [
         "12",
         "MaxAPY Finance",
         "BSC",
         "0XCB6CD204D783DC8D66896A6DEF5867D332228D7B",
         "Yes",
         "Address Restrict",
         "Modifiable Tax Rate",
         null,
         "https://twitter.com/PeckShieldAlert/status/1516676658350428160"
        ],
        [
         "13",
         "BNB DEFI",
         "BSC",
         "0X455DEDACBE41C178953119847F2B95E2D9AD0A1D",
         "Yes",
         null,
         "Modifiable Tax Rate",
         "Hidden Balance Modification",
         "https://twitter.com/PeckShieldAlert/status/1508626057913520128"
        ],
        [
         "14",
         "BuccaneerFi",
         "BSC",
         "0X831467B7B6BF9C705DC87899D48B57EE55C8D5CC",
         "Yes",
         null,
         null,
         "Hidden Mint/Burn",
         "https://twitter.com/PeckShieldAlert/status/1508337292020445187"
        ],
        [
         "15",
         "BabyMuskCoin",
         "BSC",
         "0XAF507F297B5EFF8339315C4226977972734438B0",
         "Yes",
         "Address Restrict",
         "Modifiable Tax Rate",
         "Hidden Balance Modification",
         "https://twitter.com/CertiKCommunity/status/1491483014467047437?s=19"
        ],
        [
         "16",
         "IEGT",
         "BSC",
         "0X8D07F605926837EA0F9E1E24DBA0FB348CB3E97D",
         "Yes",
         "Address Restrict,Amount Restrict",
         "Modifiable Tax Rate",
         null,
         "https://slowmist.medium.com/beware-of-covert-rug-pulls-exit-scams-driven-by-contract-storage-manipulation-3631c8cbe1a"
        ],
        [
         "17",
         "VPANDA DAO",
         "BSC",
         "0X2A8DBA970BA9750FA1C81B1BE4C0E19C1AACCA9D",
         "Yes",
         "Amount Restrict",
         null,
         null,
         "https://twitter.com/PeckShieldAlert/status/1670745691440943106"
        ],
        [
         "18",
         "USEA",
         "BSC",
         "0XDF7FF95AA3D855A6FB21399432166A92FDCF1B1A",
         "Yes",
         null,
         null,
         "Hidden Mint/Burn",
         "https://de.fi/rekt-database/usea"
        ],
        [
         "19",
         "Swaprum",
         "Arbitrum",
         "0X2AE25460C44D578E6F41AB900A7A5425B6492C16",
         "Yes",
         null,
         null,
         "Hidden Mint/Burn",
         "https://twitter.com/hackenclub/status/1659499442041417729?s=46&t=DLwbX9Nw4QECiyZQ0av-fg"
        ],
        [
         "20",
         "DMAN",
         "ETH",
         "0X9A3FB36BF72A387FCC821A38EE9F50F1A0EB8CBD",
         "Yes",
         "Amount Restrict",
         null,
         null,
         "https://hacked.slowmist.io/search/"
        ],
        [
         "21",
         "GNS",
         "ETH",
         "0XE7E63E244C52B2230666E263657BA8DB2B6B3705",
         "Yes",
         null,
         "Modifiable Tax Rate",
         "Hidden Balance Modification",
         "https://hacked.slowmist.io/search/"
        ],
        [
         "22",
         "PEPG",
         "ETH",
         "0X25D8F027FD25EECBCD812521FB2F75F175807A91",
         "Yes",
         null,
         "Modifiable Tax Rate",
         "Hidden Balance Modification",
         "https://hacked.slowmist.io/search/"
        ],
        [
         "23",
         "Art Coin",
         "ETH",
         "0X1250B98CBDE9F99F4C42DCDACEE193221F17EB50",
         "Yes",
         null,
         null,
         "Hidden Mint/Burn",
         "https://bitcoinist.com/project-losses-over-331000-setup-flaw-on-uniswap-v3/"
        ],
        [
         "24",
         "WSB Coin",
         "ETH",
         "0X0414D8C87B271266A5864329FB4932BBE19C0C49",
         "Yes",
         null,
         null,
         "Hidden Mint/Burn",
         "https://de.fi/rekt-database/wsb"
        ],
        [
         "25",
         "Arbtomb",
         "Arbitrum",
         "0XAF391EAA53FB34AE2E83E975F03461A936991245",
         "Yes",
         null,
         null,
         "Hidden Mint/Burn",
         "https://de.fi/rekt-database/arbtomb"
        ],
        [
         "26",
         "Kokomo Finance",
         "OP.ETH",
         "0X7DA25BC4CFAED3F29414C6779676E53B19A356F5",
         "Yes",
         null,
         null,
         "Hidden Mint/Burn",
         "https://de.fi/rekt-database/kokomo_finance"
        ],
        [
         "27",
         "ArbiSwap",
         "Arbitrum",
         "0X9DB8A10C7FE60D84397860B3AF2E686D4F90C2B7",
         "Yes",
         null,
         null,
         "Hidden Mint/Burn",
         "https://arbiscan.io/tx/0x54ca307057b38110f60fce515ba35321fde82b876b4a2abf77368924903216e1"
        ],
        [
         "28",
         "Wegrocoin",
         "BSC",
         "0X5946FE65AB9DC66A961234502EE96776E4FA9F52",
         "Yes",
         "Address Restrict,Amount Restrict",
         null,
         "Hidden Balance Modification",
         "https://twitter.com/PeckShieldAlert/status/1486500426174189573"
        ],
        [
         "29",
         "InfinityToken",
         "BSC",
         "0X52E4339B4B9FF254738D6E971E83440F60DC029C",
         "Yes",
         "Amount Restrict",
         null,
         "Hidden Mint/Burn",
         "https://coincodecap.com/infinity-token-rugged-more-than-1390-wbnb"
        ],
        [
         "30",
         "Bored Bunny",
         "ETH",
         "0X9372B371196751DD2F603729AE8D8014BBEB07F6",
         "Yes",
         null,
         null,
         "Hidden Mint/Burn",
         "https://twitter.com/chanceweb3/status/1478549762219466752?ref_src=twsrc%5Etfw%7Ctwcamp%5Etweetembed%7Ctwterm%5E1478549762219466752%7Ctwgr%5E%7Ctwcon%5Es1"
        ],
        [
         "31",
         "Snowdog DAO",
         "Cchain",
         "0XDE9E52F1838951E4D2BB6C59723B003C353979B6",
         "Yes",
         null,
         null,
         "Hidden Mint/Burn",
         "https://de.fi/rekt-database/snowdog"
        ],
        [
         "32",
         "METAMOONMARS",
         "BSC",
         "0X8ED9C7E4D8DFE480584CC7EF45742AC302BA27D7",
         "Yes",
         null,
         "Modifiable Tax Rate",
         null,
         "https://de.fi/rekt-database/metamoonmars"
        ],
        [
         "33",
         "Flare",
         "BSC",
         "0X85AA3F04E539E426CBB55C0D584EA99CFE1D96A1",
         "Yes",
         "Amount Restrict",
         null,
         null,
         "https://de.fi/rekt-database/flare"
        ],
        [
         "34",
         "Blur Finance",
         "BSC",
         "0X4165084A6E5388CE53C9D9892F904A2712DD943A",
         "Yes",
         null,
         null,
         "Hidden Mint/Burn",
         "https://twitter.com/PeckShieldAlert/status/1557259094058102785"
        ],
        [
         "35",
         "Julia",
         "ETH",
         "0XA7CD93ED3133D82781CC17460FE1500B69A1B514",
         "Yes",
         "Modifiable External Call",
         null,
         null,
         "https://de.fi/rekt-database/julia"
        ],
        [
         "36",
         "Memecoin",
         "ETH",
         "0X3417D4FA067806F8F70C2A692548048962B7AC45",
         "Yes",
         "Amount Restrict",
         null,
         "Hidden Balance Modification",
         "https://de.fi/rekt-database/memecoin"
        ],
        [
         "37",
         "Jewels",
         "ETH",
         "0XA2E8B27500D3BAE6DAAD122BDD8F405B65752175",
         "Yes",
         "Amount Restrict",
         null,
         null,
         "https://de.fi/rekt-database/jewels"
        ],
        [
         "38",
         "Gemini Ai",
         "ETH",
         "0XDBC0E0C94707256AC2DE70F0B0E182C9287663F6",
         "Yes",
         null,
         null,
         "Hidden Balance Modification",
         "https://twitter.com/PeckShieldAlert/status/1732735122452201617"
        ],
        [
         "39",
         "TITANX",
         "ETH",
         "0XAF3302F7A83CB4E66B8F9450B00E7644E605878D",
         "Yes",
         "Amount Restrict",
         null,
         null,
         "https://de.fi/rekt-database/titanx"
        ],
        [
         "40",
         "Arbix Finance",
         "BSC",
         "0XD20EF93050C0943F74F5F8FF0CC97C74139D6437",
         "Yes",
         null,
         null,
         "Hidden Mint/Burn",
         "https://de.fi/rekt-database/arbix"
        ],
        [
         "41",
         "BNB HEROES",
         "BSC",
         "0XD25631648E3AD4863332319E8E0D6F2A8EC6F267",
         "Yes",
         "Address Restrict,Amount Restrict",
         "Modifiable Tax Rate",
         null,
         "https://de.fi/rekt-database/bnb_heroes"
        ],
        [
         "42",
         "Mercenary",
         "BSC",
         "0XE0E279EE10E3BDC9B7577F5548DD46FCA2E7E111",
         "Yes",
         null,
         null,
         "Hidden Mint/Burn",
         "https://de.fi/rekt-database/mercenary"
        ],
        [
         "43",
         "FileSystemVideo",
         "BSC",
         "0XE9C7A827A4BA133B338B844C19241C864E95D75F",
         "Yes",
         null,
         "Modifiable Tax Rate",
         "Hidden Mint/Burn",
         "https://de.fi/rekt-database/filesystemvideo"
        ],
        [
         "44",
         "DollarDoge",
         "BSC",
         "0X454876D97098528D83E661ED3DDF19B10E397352",
         "Yes",
         "Amount Restrict",
         "Modifiable Tax Rate",
         "Hidden Balance Modification",
         "https://de.fi/rekt-database/dollardoge"
        ],
        [
         "45",
         "Raptor2",
         "BSC",
         "0XC51B24E6809B4E4578BE862C4BE19D8D767755BA",
         "Yes",
         "Address Restrict",
         null,
         null,
         "https://de.fi/rekt-database/raptor2"
        ],
        [
         "46",
         "Web3Memes",
         "BSC",
         "0XBAD6EA539B1B9F150D6D0B95EF4F45AF70BF0BCD",
         "Yes",
         "Address Restrict",
         null,
         null,
         "https://de.fi/rekt-database/web3memes"
        ],
        [
         "47",
         "TheCatWorld",
         "BSC",
         "0XF22807575D019A0192395D8A5244A8BFC51D9C58",
         "Yes",
         "Amount Restrict,TimeStamp Restrict",
         "Modifiable Tax Rate",
         null,
         "https://de.fi/rekt-database/thecatworld"
        ],
        [
         "48",
         "Peace doge X",
         "BSC",
         "0X06FA8DEB5E82D2C05C7CE51F8C82E5E3DE3F2A29",
         "Yes",
         "Address Restrict,Amount Restrict",
         "Modifiable Tax Rate",
         null,
         "https://de.fi/rekt-database/peace%20doge"
        ],
        [
         "49",
         "Elonmoon",
         "BSC",
         "0X6F8A43AF478C3991572D655A994CCDD6405D8CDE",
         "Yes",
         "Address Restrict",
         null,
         null,
         "https://de.fi/rekt-database/elonmoon"
        ]
       ],
       "shape": {
        "columns": 8,
        "rows": 422
       }
      },
      "text/html": [
       "<div>\n",
       "<style scoped>\n",
       "    .dataframe tbody tr th:only-of-type {\n",
       "        vertical-align: middle;\n",
       "    }\n",
       "\n",
       "    .dataframe tbody tr th {\n",
       "        vertical-align: top;\n",
       "    }\n",
       "\n",
       "    .dataframe thead th {\n",
       "        text-align: right;\n",
       "    }\n",
       "</style>\n",
       "<table border=\"1\" class=\"dataframe\">\n",
       "  <thead>\n",
       "    <tr style=\"text-align: right;\">\n",
       "      <th></th>\n",
       "      <th>Project Name</th>\n",
       "      <th>Chain</th>\n",
       "      <th>Address</th>\n",
       "      <th>Open Source</th>\n",
       "      <th>Sale Restrict</th>\n",
       "      <th>Variable Manipulation</th>\n",
       "      <th>Balance Tamper</th>\n",
       "      <th>Source</th>\n",
       "    </tr>\n",
       "  </thead>\n",
       "  <tbody>\n",
       "    <tr>\n",
       "      <th>0</th>\n",
       "      <td>GMETA</td>\n",
       "      <td>BSC</td>\n",
       "      <td>0X93023F1D3525E273F291B6F76D2F5027A39BF302</td>\n",
       "      <td>Yes</td>\n",
       "      <td>NaN</td>\n",
       "      <td>Modifiable Tax Rate</td>\n",
       "      <td>Hidden Mint/Burn</td>\n",
       "      <td>https://twitter.com/BeosinAlert/status/1681240...</td>\n",
       "    </tr>\n",
       "    <tr>\n",
       "      <th>1</th>\n",
       "      <td>PokémonFi</td>\n",
       "      <td>BSC</td>\n",
       "      <td>0X2753DCE37A7EDB052A77832039BCC9AA49AD8B25</td>\n",
       "      <td>Yes</td>\n",
       "      <td>Address Restrict</td>\n",
       "      <td>NaN</td>\n",
       "      <td>NaN</td>\n",
       "      <td>https://twitter.com/CertiKAlert/status/1562555...</td>\n",
       "    </tr>\n",
       "    <tr>\n",
       "      <th>2</th>\n",
       "      <td>Sudorare</td>\n",
       "      <td>ETH</td>\n",
       "      <td>0X5404EFAFDD8CC30053069DF2A1B0C4BA881B3E1E</td>\n",
       "      <td>Yes</td>\n",
       "      <td>NaN</td>\n",
       "      <td>NaN</td>\n",
       "      <td>Hidden Mint/Burn</td>\n",
       "      <td>https://x.com/PeckShieldAlert/status/156196749...</td>\n",
       "    </tr>\n",
       "    <tr>\n",
       "      <th>3</th>\n",
       "      <td>DRAC Network</td>\n",
       "      <td>ETH</td>\n",
       "      <td>0X10F6F2B97F3AB29583D9D38BABF2994DF7220C21</td>\n",
       "      <td>Yes</td>\n",
       "      <td>NaN</td>\n",
       "      <td>Modifiable Tax Rate</td>\n",
       "      <td>Hidden Mint/Burn</td>\n",
       "      <td>https://twitter.com/PeckShieldAlert/status/155...</td>\n",
       "    </tr>\n",
       "    <tr>\n",
       "      <th>4</th>\n",
       "      <td>DHE</td>\n",
       "      <td>BSC</td>\n",
       "      <td>0X11CBC781DADAAD13FC3A361772C80B1C027820AF</td>\n",
       "      <td>Yes</td>\n",
       "      <td>Address Restrict</td>\n",
       "      <td>NaN</td>\n",
       "      <td>NaN</td>\n",
       "      <td>https://twitter.com/CertiKAlert/status/1539031...</td>\n",
       "    </tr>\n",
       "    <tr>\n",
       "      <th>...</th>\n",
       "      <td>...</td>\n",
       "      <td>...</td>\n",
       "      <td>...</td>\n",
       "      <td>...</td>\n",
       "      <td>...</td>\n",
       "      <td>...</td>\n",
       "      <td>...</td>\n",
       "      <td>...</td>\n",
       "    </tr>\n",
       "    <tr>\n",
       "      <th>417</th>\n",
       "      <td>Wealthfront</td>\n",
       "      <td>ETH</td>\n",
       "      <td>0XA837EFD4500966A45148073F57FA855205597612</td>\n",
       "      <td>Yes</td>\n",
       "      <td>NaN</td>\n",
       "      <td>NaN</td>\n",
       "      <td>Hidden Mint/Burn</td>\n",
       "      <td>https://de.fi/rekt-database/Wealthfront</td>\n",
       "    </tr>\n",
       "    <tr>\n",
       "      <th>418</th>\n",
       "      <td>ANT1GOON</td>\n",
       "      <td>ETH</td>\n",
       "      <td>0X61DB2FB090D890EA9FC09DD837FD47CF2F92EE26</td>\n",
       "      <td>Yes</td>\n",
       "      <td>Address Restrict</td>\n",
       "      <td>Modifiable External Call</td>\n",
       "      <td>NaN</td>\n",
       "      <td>https://de.fi/rekt-database/ANT1GOON</td>\n",
       "    </tr>\n",
       "    <tr>\n",
       "      <th>419</th>\n",
       "      <td>Exbase Finance</td>\n",
       "      <td>ETH</td>\n",
       "      <td>0X15C5339954A1016C77732EA626CC714B0D37DD6A</td>\n",
       "      <td>Yes</td>\n",
       "      <td>NaN</td>\n",
       "      <td>Modifiable Tax Rate</td>\n",
       "      <td>NaN</td>\n",
       "      <td>https://de.fi/rekt-database/Exbase Finance</td>\n",
       "    </tr>\n",
       "    <tr>\n",
       "      <th>420</th>\n",
       "      <td>Xdef finance</td>\n",
       "      <td>ETH</td>\n",
       "      <td>0X5166D4CE79B9BF7DF477DA110C560CE3045AA889</td>\n",
       "      <td>Yes</td>\n",
       "      <td>Address Restrict</td>\n",
       "      <td>Modifiable Tax Rate</td>\n",
       "      <td>NaN</td>\n",
       "      <td>https://de.fi/rekt-database/Xdef finance</td>\n",
       "    </tr>\n",
       "    <tr>\n",
       "      <th>421</th>\n",
       "      <td>Kanva</td>\n",
       "      <td>ETH</td>\n",
       "      <td>0X2D176650B1D3E69E80C2DD8ACF4E7D590A16BDA7</td>\n",
       "      <td>Yes</td>\n",
       "      <td>Address Restrict</td>\n",
       "      <td>NaN</td>\n",
       "      <td>NaN</td>\n",
       "      <td>https://de.fi/rekt-database/Kanva</td>\n",
       "    </tr>\n",
       "  </tbody>\n",
       "</table>\n",
       "<p>422 rows × 8 columns</p>\n",
       "</div>"
      ],
      "text/plain": [
       "       Project Name Chain                                     Address  \\\n",
       "0             GMETA   BSC  0X93023F1D3525E273F291B6F76D2F5027A39BF302   \n",
       "1         PokémonFi   BSC  0X2753DCE37A7EDB052A77832039BCC9AA49AD8B25   \n",
       "2          Sudorare   ETH  0X5404EFAFDD8CC30053069DF2A1B0C4BA881B3E1E   \n",
       "3      DRAC Network   ETH  0X10F6F2B97F3AB29583D9D38BABF2994DF7220C21   \n",
       "4               DHE   BSC  0X11CBC781DADAAD13FC3A361772C80B1C027820AF   \n",
       "..              ...   ...                                         ...   \n",
       "417     Wealthfront   ETH  0XA837EFD4500966A45148073F57FA855205597612   \n",
       "418        ANT1GOON   ETH  0X61DB2FB090D890EA9FC09DD837FD47CF2F92EE26   \n",
       "419  Exbase Finance   ETH  0X15C5339954A1016C77732EA626CC714B0D37DD6A   \n",
       "420    Xdef finance   ETH  0X5166D4CE79B9BF7DF477DA110C560CE3045AA889   \n",
       "421           Kanva   ETH  0X2D176650B1D3E69E80C2DD8ACF4E7D590A16BDA7   \n",
       "\n",
       "    Open Source     Sale Restrict     Variable Manipulation    Balance Tamper  \\\n",
       "0           Yes               NaN       Modifiable Tax Rate  Hidden Mint/Burn   \n",
       "1           Yes  Address Restrict                       NaN               NaN   \n",
       "2           Yes               NaN                       NaN  Hidden Mint/Burn   \n",
       "3           Yes               NaN       Modifiable Tax Rate  Hidden Mint/Burn   \n",
       "4           Yes  Address Restrict                       NaN               NaN   \n",
       "..          ...               ...                       ...               ...   \n",
       "417         Yes               NaN                       NaN  Hidden Mint/Burn   \n",
       "418         Yes  Address Restrict  Modifiable External Call               NaN   \n",
       "419         Yes               NaN       Modifiable Tax Rate               NaN   \n",
       "420         Yes  Address Restrict       Modifiable Tax Rate               NaN   \n",
       "421         Yes  Address Restrict                       NaN               NaN   \n",
       "\n",
       "                                                Source  \n",
       "0    https://twitter.com/BeosinAlert/status/1681240...  \n",
       "1    https://twitter.com/CertiKAlert/status/1562555...  \n",
       "2    https://x.com/PeckShieldAlert/status/156196749...  \n",
       "3    https://twitter.com/PeckShieldAlert/status/155...  \n",
       "4    https://twitter.com/CertiKAlert/status/1539031...  \n",
       "..                                                 ...  \n",
       "417            https://de.fi/rekt-database/Wealthfront  \n",
       "418               https://de.fi/rekt-database/ANT1GOON  \n",
       "419         https://de.fi/rekt-database/Exbase Finance  \n",
       "420           https://de.fi/rekt-database/Xdef finance  \n",
       "421                  https://de.fi/rekt-database/Kanva  \n",
       "\n",
       "[422 rows x 8 columns]"
      ]
     },
     "execution_count": 11,
     "metadata": {},
     "output_type": "execute_result"
    }
   ],
   "source": [
    "total_df.drop(columns=[\"Address_lower\", \"in_normal\", \"in_rug\"])"
   ]
  },
  {
   "cell_type": "code",
   "execution_count": 12,
   "id": "306bfe36",
   "metadata": {},
   "outputs": [
    {
     "data": {
      "application/vnd.microsoft.datawrangler.viewer.v0+json": {
       "columns": [
        {
         "name": "Balance Tamper",
         "rawType": "object",
         "type": "string"
        },
        {
         "name": "count",
         "rawType": "int64",
         "type": "integer"
        }
       ],
       "ref": "cb295cd7-1f35-491c-883f-0c523022f3c7",
       "rows": [
        [
         "Hidden Mint/Burn",
         "136"
        ],
        [
         "Hidden Balance Modification",
         "47"
        ],
        [
         "Hidden Mint/Burn,Hidden Balance Modification",
         "5"
        ],
        [
         "\nHidden Mint/Burn",
         "4"
        ],
        [
         "Hidden Mint/Burn茂录聦Hidden Balance Modification",
         "1"
        ],
        [
         "\n\nHidden Mint/Burn",
         "1"
        ],
        [
         "\n",
         "1"
        ]
       ],
       "shape": {
        "columns": 1,
        "rows": 7
       }
      },
      "text/plain": [
       "Balance Tamper\n",
       "Hidden Mint/Burn                                  136\n",
       "Hidden Balance Modification                        47\n",
       "Hidden Mint/Burn,Hidden Balance Modification        5\n",
       "\\nHidden Mint/Burn                                  4\n",
       "Hidden Mint/Burn茂录聦Hidden Balance Modification      1\n",
       "\\n\\nHidden Mint/Burn                                1\n",
       "\\n                                                  1\n",
       "Name: count, dtype: int64"
      ]
     },
     "execution_count": 12,
     "metadata": {},
     "output_type": "execute_result"
    }
   ],
   "source": [
    "total_df['Balance Tamper'].value_counts()"
   ]
  },
  {
   "cell_type": "code",
   "execution_count": 13,
   "id": "1b1c8181",
   "metadata": {},
   "outputs": [
    {
     "data": {
      "application/vnd.microsoft.datawrangler.viewer.v0+json": {
       "columns": [
        {
         "name": "Balance Tamper",
         "rawType": "object",
         "type": "string"
        },
        {
         "name": "count",
         "rawType": "int64",
         "type": "integer"
        }
       ],
       "ref": "c2cb1b30-88c3-4c17-ad43-18f0a921faa7",
       "rows": [
        [
         "Hidden Mint/Burn",
         "132"
        ],
        [
         "Hidden Balance Modify",
         "46"
        ],
        [
         "Hidden Mint/Burn,Hidden Balance Modify",
         "5"
        ],
        [
         "\nHidden Mint/Burn",
         "4"
        ],
        [
         "Hidden Mint/Burn脙炉脗录脗聦Hidden Balance Modify",
         "1"
        ],
        [
         "\n\nHidden Mint/Burn",
         "1"
        ],
        [
         "\n",
         "1"
        ]
       ],
       "shape": {
        "columns": 1,
        "rows": 7
       }
      },
      "text/plain": [
       "Balance Tamper\n",
       "Hidden Mint/Burn                               132\n",
       "Hidden Balance Modify                           46\n",
       "Hidden Mint/Burn,Hidden Balance Modify           5\n",
       "\\nHidden Mint/Burn                               4\n",
       "Hidden Mint/Burn脙炉脗录脗聦Hidden Balance Modify      1\n",
       "\\n\\nHidden Mint/Burn                             1\n",
       "\\n                                               1\n",
       "Name: count, dtype: int64"
      ]
     },
     "execution_count": 13,
     "metadata": {},
     "output_type": "execute_result"
    }
   ],
   "source": [
    "experiment_df['Balance Tamper'].value_counts()"
   ]
  },
  {
   "cell_type": "code",
   "execution_count": 14,
   "id": "6994e9f8",
   "metadata": {},
   "outputs": [],
   "source": [
    "def clean_balance_tamper(value):\n",
    "    if pd.isna(value):\n",
    "        return ''\n",
    "\n",
    "    # Strip whitespace and linebreaks\n",
    "    value = value.strip()\n",
    "\n",
    "    # Replace multiple linebreaks or strange characters with a comma\n",
    "    value = re.sub(r'[\\n\\r]+', ',', value)\n",
    "    value = re.sub(r'[茂录聦]', ',', value)  # Remove strange unicode artifacts\n",
    "    value = re.sub(r'[脙炉脗录脗聦]', ',', value)  # Remove strange unicode artifacts\n",
    "\n",
    "    # Correct known typos\n",
    "    value = value.replace(\"Hidden Mint/Eurn\", \"Hidden Mint/Burn\")\n",
    "    value = value.replace(\"Hidden Balance Modify\", \"Hidden Balance Modification\")\n",
    "\n",
    "    # Split by comma and normalize each part\n",
    "    parts = [p.strip() for p in value.split(',') if p.strip()]\n",
    "\n",
    "    # Deduplicate and sort for consistency\n",
    "    parts = sorted(set(parts))\n",
    "\n",
    "    return list(set(parts))\n",
    "\n",
    "# Apply to both dataframes\n",
    "total_df['Balance Tamper'] = total_df['Balance Tamper'].apply(clean_balance_tamper)\n",
    "experiment_df['Balance Tamper'] = experiment_df['Balance Tamper'].apply(clean_balance_tamper)\n",
    "\n",
    "# Optional: show cleaned value counts\n",
    "mlb = MultiLabelBinarizer()\n",
    "tamper_encoded = pd.DataFrame(mlb.fit_transform(total_df['Balance Tamper']),\n",
    "                              columns=mlb.classes_,\n",
    "                              index=total_df.index)\n",
    "\n",
    "total_df = pd.concat([total_df.drop(columns=['Balance Tamper']), tamper_encoded], axis=1)\n",
    "\n",
    "amper_encoded = pd.DataFrame(mlb.fit_transform(experiment_df['Balance Tamper']),\n",
    "                              columns=mlb.classes_,\n",
    "                              index=experiment_df.index)\n",
    "experiment_df = pd.concat([experiment_df.drop(columns=['Balance Tamper']), tamper_encoded], axis=1)"
   ]
  },
  {
   "cell_type": "code",
   "execution_count": 15,
   "id": "51b4ed7c",
   "metadata": {},
   "outputs": [
    {
     "name": "stdout",
     "output_type": "stream",
     "text": [
      "<class 'pandas.core.frame.DataFrame'>\n",
      "Index: 422 entries, 0 to 421\n",
      "Data columns (total 12 columns):\n",
      " #   Column                       Non-Null Count  Dtype \n",
      "---  ------                       --------------  ----- \n",
      " 0   Project Name                 422 non-null    object\n",
      " 1   Chain                        422 non-null    object\n",
      " 2   Address                      422 non-null    object\n",
      " 3   Open Source                  422 non-null    object\n",
      " 4   Sale Restrict                206 non-null    object\n",
      " 5   Variable Manipulation        145 non-null    object\n",
      " 6   Source                       422 non-null    object\n",
      " 7   Address_lower                422 non-null    object\n",
      " 8   in_normal                    422 non-null    bool  \n",
      " 9   in_rug                       422 non-null    bool  \n",
      " 10  Hidden Balance Modification  422 non-null    int64 \n",
      " 11  Hidden Mint/Burn             422 non-null    int64 \n",
      "dtypes: bool(2), int64(2), object(8)\n",
      "memory usage: 37.1+ KB\n"
     ]
    }
   ],
   "source": [
    "total_df.info()"
   ]
  },
  {
   "cell_type": "code",
   "execution_count": 16,
   "id": "f6e3567f",
   "metadata": {},
   "outputs": [
    {
     "name": "stdout",
     "output_type": "stream",
     "text": [
      "<class 'pandas.core.frame.DataFrame'>\n",
      "Index: 422 entries, 0 to 421\n",
      "Data columns (total 12 columns):\n",
      " #   Column                       Non-Null Count  Dtype \n",
      "---  ------                       --------------  ----- \n",
      " 0   Project Name                 416 non-null    object\n",
      " 1   Chain                        416 non-null    object\n",
      " 2   Address                      416 non-null    object\n",
      " 3   Open Source                  416 non-null    object\n",
      " 4   Sale Restrict                204 non-null    object\n",
      " 5   Variable Manipulation        145 non-null    object\n",
      " 6   Source                       416 non-null    object\n",
      " 7   Address_lower                416 non-null    object\n",
      " 8   in_normal                    416 non-null    object\n",
      " 9   in_rug                       416 non-null    object\n",
      " 10  Hidden Balance Modification  422 non-null    int64 \n",
      " 11  Hidden Mint/Burn             422 non-null    int64 \n",
      "dtypes: int64(2), object(10)\n",
      "memory usage: 42.9+ KB\n"
     ]
    }
   ],
   "source": [
    "experiment_df.info()"
   ]
  },
  {
   "cell_type": "code",
   "execution_count": 17,
   "id": "ad6e985c",
   "metadata": {},
   "outputs": [
    {
     "data": {
      "application/vnd.microsoft.datawrangler.viewer.v0+json": {
       "columns": [
        {
         "name": "Sale Restrict",
         "rawType": "object",
         "type": "string"
        },
        {
         "name": "count",
         "rawType": "int64",
         "type": "integer"
        }
       ],
       "ref": "75e6b61d-e602-47ce-b710-1d5857a4a3b6",
       "rows": [
        [
         "Address Restrict",
         "93"
        ],
        [
         "Amount Restrict",
         "62"
        ],
        [
         "Address Restrict,Amount Restrict",
         "27"
        ],
        [
         "Address Restrict,TimeStamp Restrict",
         "7"
        ],
        [
         "\nAddress Restrict,Amount Restrict",
         "4"
        ],
        [
         "Address Restrict,Amount Restrict,TimeStamp Restrict",
         "3"
        ],
        [
         "TimeStamp Restrict",
         "2"
        ],
        [
         "Modifiable External Call",
         "1"
        ],
        [
         "Amount Restrict,TimeStamp Restrict",
         "1"
        ],
        [
         "Address Restrict,Address Restrict*3",
         "1"
        ],
        [
         "Address Restrict ",
         "1"
        ],
        [
         "\nAddress Restrict",
         "1"
        ],
        [
         "\n\nAddress Restrict,Amount Restrict,TimeStamp Restrict",
         "1"
        ],
        [
         "\nAmount Restrict",
         "1"
        ],
        [
         "TimeStanp Restrict",
         "1"
        ]
       ],
       "shape": {
        "columns": 1,
        "rows": 15
       }
      },
      "text/plain": [
       "Sale Restrict\n",
       "Address Restrict                                           93\n",
       "Amount Restrict                                            62\n",
       "Address Restrict,Amount Restrict                           27\n",
       "Address Restrict,TimeStamp Restrict                         7\n",
       "\\nAddress Restrict,Amount Restrict                          4\n",
       "Address Restrict,Amount Restrict,TimeStamp Restrict         3\n",
       "TimeStamp Restrict                                          2\n",
       "Modifiable External Call                                    1\n",
       "Amount Restrict,TimeStamp Restrict                          1\n",
       "Address Restrict,Address Restrict*3                         1\n",
       "Address Restrict                                            1\n",
       "\\nAddress Restrict                                          1\n",
       "\\n\\nAddress Restrict,Amount Restrict,TimeStamp Restrict     1\n",
       "\\nAmount Restrict                                           1\n",
       "TimeStanp Restrict                                          1\n",
       "Name: count, dtype: int64"
      ]
     },
     "execution_count": 17,
     "metadata": {},
     "output_type": "execute_result"
    }
   ],
   "source": [
    "total_df['Sale Restrict'].value_counts()"
   ]
  },
  {
   "cell_type": "code",
   "execution_count": 18,
   "id": "e2704abb",
   "metadata": {},
   "outputs": [
    {
     "data": {
      "application/vnd.microsoft.datawrangler.viewer.v0+json": {
       "columns": [
        {
         "name": "Sale Restrict",
         "rawType": "object",
         "type": "string"
        },
        {
         "name": "count",
         "rawType": "int64",
         "type": "integer"
        }
       ],
       "ref": "aa06806b-2789-4a3f-adca-dd74b710c280",
       "rows": [
        [
         "Address Restrict",
         "92"
        ],
        [
         "Amount Restrict",
         "62"
        ],
        [
         "Address Restrict,Amount Restrict",
         "27"
        ],
        [
         "Address Restrict,TimeStamp Restrict",
         "7"
        ],
        [
         "\nAddress Restrict,Amount Restrict",
         "4"
        ],
        [
         "Address Restrict,Amount Restrict,TimeStamp Restrict",
         "3"
        ],
        [
         "TimeStamp Restrict",
         "2"
        ],
        [
         "Modifiable External Call",
         "1"
        ],
        [
         "Amount Restrict,TimeStamp Restrict",
         "1"
        ],
        [
         "Address Restrict ",
         "1"
        ],
        [
         "Address Restrict,Address Restrict*3",
         "1"
        ],
        [
         "\nAddress Restrict",
         "1"
        ],
        [
         "\n\nAddress Restrict,Amount Restrict,TimeStamp Restrict",
         "1"
        ],
        [
         "\nAmount Restrict",
         "1"
        ]
       ],
       "shape": {
        "columns": 1,
        "rows": 14
       }
      },
      "text/plain": [
       "Sale Restrict\n",
       "Address Restrict                                           92\n",
       "Amount Restrict                                            62\n",
       "Address Restrict,Amount Restrict                           27\n",
       "Address Restrict,TimeStamp Restrict                         7\n",
       "\\nAddress Restrict,Amount Restrict                          4\n",
       "Address Restrict,Amount Restrict,TimeStamp Restrict         3\n",
       "TimeStamp Restrict                                          2\n",
       "Modifiable External Call                                    1\n",
       "Amount Restrict,TimeStamp Restrict                          1\n",
       "Address Restrict                                            1\n",
       "Address Restrict,Address Restrict*3                         1\n",
       "\\nAddress Restrict                                          1\n",
       "\\n\\nAddress Restrict,Amount Restrict,TimeStamp Restrict     1\n",
       "\\nAmount Restrict                                           1\n",
       "Name: count, dtype: int64"
      ]
     },
     "execution_count": 18,
     "metadata": {},
     "output_type": "execute_result"
    }
   ],
   "source": [
    "experiment_df['Sale Restrict'].value_counts()"
   ]
  },
  {
   "cell_type": "code",
   "execution_count": 19,
   "id": "33a91283",
   "metadata": {},
   "outputs": [],
   "source": [
    "def extract_sale_restrict_labels(value):\n",
    "    if pd.isna(value) or not str(value).strip():\n",
    "        return []\n",
    "\n",
    "    value = re.sub(r'[\\n\\r]+', ',', value)\n",
    "\n",
    "    # Fix known typos\n",
    "    value = value.replace(\"TimeStanp Restrict\", \"TimeStamp Restrict\")\n",
    "\n",
    "    # Remove suffix like \"*3\" (e.g. Address Restrict*3)\n",
    "    value = re.sub(r'\\*[\\d]+', '', value)\n",
    "\n",
    "    # Split and clean\n",
    "    parts = [p.strip() for p in value.split(',') if p.strip()]\n",
    "\n",
    "    # Normalize duplicates\n",
    "    parts = sorted(set(parts))\n",
    "    return parts\n",
    "\n",
    "# Apply label extraction\n",
    "total_df['Sale Restrict'] = total_df['Sale Restrict'].apply(extract_sale_restrict_labels)\n",
    "experiment_df['Sale Restrict'] = experiment_df['Sale Restrict'].apply(extract_sale_restrict_labels)\n",
    "\n",
    "# Binarize\n",
    "mlb_sale = MultiLabelBinarizer()\n",
    "\n",
    "sale_encoded = pd.DataFrame(mlb_sale.fit_transform(total_df['Sale Restrict']),\n",
    "                            columns=mlb_sale.classes_,\n",
    "                            index=total_df.index)\n",
    "\n",
    "# Drop original and concat\n",
    "total_df = pd.concat([total_df.drop(columns=['Sale Restrict']), sale_encoded], axis=1)\n",
    "\n",
    "# Do same for experiment_df\n",
    "exp_sale_encoded = pd.DataFrame(mlb_sale.transform(experiment_df['Sale Restrict']),\n",
    "                                columns=mlb_sale.classes_,\n",
    "                                index=experiment_df.index)\n",
    "\n",
    "experiment_df = pd.concat([experiment_df.drop(columns=['Sale Restrict']), exp_sale_encoded], axis=1)\n"
   ]
  },
  {
   "cell_type": "code",
   "execution_count": 20,
   "id": "62c63df3",
   "metadata": {},
   "outputs": [
    {
     "name": "stdout",
     "output_type": "stream",
     "text": [
      "<class 'pandas.core.frame.DataFrame'>\n",
      "Index: 422 entries, 0 to 421\n",
      "Data columns (total 15 columns):\n",
      " #   Column                       Non-Null Count  Dtype \n",
      "---  ------                       --------------  ----- \n",
      " 0   Project Name                 422 non-null    object\n",
      " 1   Chain                        422 non-null    object\n",
      " 2   Address                      422 non-null    object\n",
      " 3   Open Source                  422 non-null    object\n",
      " 4   Variable Manipulation        145 non-null    object\n",
      " 5   Source                       422 non-null    object\n",
      " 6   Address_lower                422 non-null    object\n",
      " 7   in_normal                    422 non-null    bool  \n",
      " 8   in_rug                       422 non-null    bool  \n",
      " 9   Hidden Balance Modification  422 non-null    int64 \n",
      " 10  Hidden Mint/Burn             422 non-null    int64 \n",
      " 11  Address Restrict             422 non-null    int64 \n",
      " 12  Amount Restrict              422 non-null    int64 \n",
      " 13  Modifiable External Call     422 non-null    int64 \n",
      " 14  TimeStamp Restrict           422 non-null    int64 \n",
      "dtypes: bool(2), int64(6), object(7)\n",
      "memory usage: 47.0+ KB\n"
     ]
    }
   ],
   "source": [
    "total_df.info()"
   ]
  },
  {
   "cell_type": "code",
   "execution_count": 21,
   "id": "26493fc1",
   "metadata": {},
   "outputs": [
    {
     "name": "stdout",
     "output_type": "stream",
     "text": [
      "<class 'pandas.core.frame.DataFrame'>\n",
      "Index: 422 entries, 0 to 421\n",
      "Data columns (total 15 columns):\n",
      " #   Column                       Non-Null Count  Dtype \n",
      "---  ------                       --------------  ----- \n",
      " 0   Project Name                 416 non-null    object\n",
      " 1   Chain                        416 non-null    object\n",
      " 2   Address                      416 non-null    object\n",
      " 3   Open Source                  416 non-null    object\n",
      " 4   Variable Manipulation        145 non-null    object\n",
      " 5   Source                       416 non-null    object\n",
      " 6   Address_lower                416 non-null    object\n",
      " 7   in_normal                    416 non-null    object\n",
      " 8   in_rug                       416 non-null    object\n",
      " 9   Hidden Balance Modification  422 non-null    int64 \n",
      " 10  Hidden Mint/Burn             422 non-null    int64 \n",
      " 11  Address Restrict             422 non-null    int64 \n",
      " 12  Amount Restrict              422 non-null    int64 \n",
      " 13  Modifiable External Call     422 non-null    int64 \n",
      " 14  TimeStamp Restrict           422 non-null    int64 \n",
      "dtypes: int64(6), object(9)\n",
      "memory usage: 52.8+ KB\n"
     ]
    }
   ],
   "source": [
    "experiment_df.info()"
   ]
  },
  {
   "cell_type": "code",
   "execution_count": 22,
   "id": "7f926469",
   "metadata": {},
   "outputs": [
    {
     "data": {
      "application/vnd.microsoft.datawrangler.viewer.v0+json": {
       "columns": [
        {
         "name": "Variable Manipulation",
         "rawType": "object",
         "type": "string"
        },
        {
         "name": "count",
         "rawType": "int64",
         "type": "integer"
        }
       ],
       "ref": "e9d91d61-2cc6-4d1b-830e-6ad5c42a4c5e",
       "rows": [
        [
         "Modifiable Tax Rate",
         "70"
        ],
        [
         "Modifiable External Call",
         "42"
        ],
        [
         "Modifiable Tax Address",
         "17"
        ],
        [
         "Modifiable Tax Rate,Modifiable Tax Address",
         "6"
        ],
        [
         "Modifibale Tax Rate",
         "4"
        ],
        [
         "\nModifiable Tax Rate",
         "2"
        ],
        [
         "Modifuable Tax Rate",
         "1"
        ],
        [
         "Modifibale Tax Rate,Modifiable Tax Address",
         "1"
        ],
        [
         "Modifiable Tax Address,Hidden Balance Modification",
         "1"
        ],
        [
         "\n",
         "1"
        ]
       ],
       "shape": {
        "columns": 1,
        "rows": 10
       }
      },
      "text/plain": [
       "Variable Manipulation\n",
       "Modifiable Tax Rate                                   70\n",
       "Modifiable External Call                              42\n",
       "Modifiable Tax Address                                17\n",
       "Modifiable Tax Rate,Modifiable Tax Address             6\n",
       "Modifibale Tax Rate                                    4\n",
       "\\nModifiable Tax Rate                                  2\n",
       "Modifuable Tax Rate                                    1\n",
       "Modifibale Tax Rate,Modifiable Tax Address             1\n",
       "Modifiable Tax Address,Hidden Balance Modification     1\n",
       "\\n                                                     1\n",
       "Name: count, dtype: int64"
      ]
     },
     "execution_count": 22,
     "metadata": {},
     "output_type": "execute_result"
    }
   ],
   "source": [
    "total_df['Variable Manipulation'].value_counts()"
   ]
  },
  {
   "cell_type": "code",
   "execution_count": 23,
   "id": "d0546de4",
   "metadata": {},
   "outputs": [
    {
     "data": {
      "application/vnd.microsoft.datawrangler.viewer.v0+json": {
       "columns": [
        {
         "name": "Variable Manipulation",
         "rawType": "object",
         "type": "string"
        },
        {
         "name": "count",
         "rawType": "int64",
         "type": "integer"
        }
       ],
       "ref": "40c37fd5-aba8-4e9d-bd41-11d431af3bd6",
       "rows": [
        [
         "Modifiable Tax Rate",
         "69"
        ],
        [
         "Modifiable External Call",
         "43"
        ],
        [
         "Modifiable Tax Address",
         "17"
        ],
        [
         "Modifiable Tax Rate,Modifiable Tax Address",
         "6"
        ],
        [
         "Modifibale Tax Rate",
         "4"
        ],
        [
         "\nModifiable Tax Rate",
         "2"
        ],
        [
         "Modifuable Tax Rate",
         "1"
        ],
        [
         "Modifibale Tax Rate,Modifiable Tax Address",
         "1"
        ],
        [
         "Modifiable Tax Address,Hidden Balance Modify",
         "1"
        ],
        [
         "\n",
         "1"
        ]
       ],
       "shape": {
        "columns": 1,
        "rows": 10
       }
      },
      "text/plain": [
       "Variable Manipulation\n",
       "Modifiable Tax Rate                             69\n",
       "Modifiable External Call                        43\n",
       "Modifiable Tax Address                          17\n",
       "Modifiable Tax Rate,Modifiable Tax Address       6\n",
       "Modifibale Tax Rate                              4\n",
       "\\nModifiable Tax Rate                            2\n",
       "Modifuable Tax Rate                              1\n",
       "Modifibale Tax Rate,Modifiable Tax Address       1\n",
       "Modifiable Tax Address,Hidden Balance Modify     1\n",
       "\\n                                               1\n",
       "Name: count, dtype: int64"
      ]
     },
     "execution_count": 23,
     "metadata": {},
     "output_type": "execute_result"
    }
   ],
   "source": [
    "experiment_df['Variable Manipulation'].value_counts()"
   ]
  },
  {
   "cell_type": "code",
   "execution_count": 24,
   "id": "cce95dcd",
   "metadata": {},
   "outputs": [],
   "source": [
    "def extract_variable_manipulation_labels(value):\n",
    "    if pd.isna(value) or not str(value).strip():\n",
    "        return []\n",
    "\n",
    "    value = re.sub(r'[\\n\\r]+', ',', value)\n",
    "\n",
    "    # Correct typos\n",
    "    value = value.replace(\"Modifibale Tax Rate\", \"Modifiable Tax Rate\")\n",
    "    value = value.replace(\"Modifuable Tax Rate\", \"Modifiable Tax Rate\")\n",
    "    value = value.replace(\"Hidden Balance Modify\", \"\")  # strip unrelated label\n",
    "\n",
    "    # Split and clean\n",
    "    parts = [p.strip() for p in value.split(',') if p.strip()]\n",
    "\n",
    "    # Deduplicate\n",
    "    parts = sorted(set(parts))\n",
    "    return parts\n",
    "\n",
    "# Apply function\n",
    "total_df['Variable Manipulation'] = total_df['Variable Manipulation'].apply(extract_variable_manipulation_labels)\n",
    "experiment_df['Variable Manipulation'] = experiment_df['Variable Manipulation'].apply(extract_variable_manipulation_labels)\n",
    "\n",
    "# Binarize\n",
    "mlb_var = MultiLabelBinarizer()\n",
    "var_encoded = pd.DataFrame(mlb_var.fit_transform(total_df['Variable Manipulation']),\n",
    "                           columns=mlb_var.classes_,\n",
    "                           index=total_df.index)\n",
    "\n",
    "# Merge and drop\n",
    "total_df = pd.concat([total_df.drop(columns=['Variable Manipulation']), var_encoded], axis=1)\n",
    "\n",
    "# Repeat for experiment_df\n",
    "exp_var_encoded = pd.DataFrame(mlb_var.transform(experiment_df['Variable Manipulation']),\n",
    "                               columns=mlb_var.classes_,\n",
    "                               index=experiment_df.index)\n",
    "\n",
    "experiment_df = pd.concat([experiment_df.drop(columns=['Variable Manipulation']), exp_var_encoded], axis=1)"
   ]
  },
  {
   "cell_type": "code",
   "execution_count": 25,
   "id": "e45f5515",
   "metadata": {},
   "outputs": [],
   "source": [
    "SAVE_PATH = os.path.join(Path.cwd().parents[1], \"data/interim/rphunter\")\n",
    "total_df.to_csv(os.path.join(SAVE_PATH, 'total.csv'), index=False)\n",
    "experiment_df.to_csv(os.path.join(SAVE_PATH, 'experiment.csv'), index=False)"
   ]
  },
  {
   "cell_type": "code",
   "execution_count": null,
   "id": "bc5848ee",
   "metadata": {},
   "outputs": [],
   "source": []
  }
 ],
 "metadata": {
  "kernelspec": {
   "display_name": "ml-algo",
   "language": "python",
   "name": "python3"
  },
  "language_info": {
   "codemirror_mode": {
    "name": "ipython",
    "version": 3
   },
   "file_extension": ".py",
   "mimetype": "text/x-python",
   "name": "python",
   "nbconvert_exporter": "python",
   "pygments_lexer": "ipython3",
   "version": "3.12.7"
  }
 },
 "nbformat": 4,
 "nbformat_minor": 5
}
