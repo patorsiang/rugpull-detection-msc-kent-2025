{
 "cells": [
  {
   "cell_type": "markdown",
   "id": "f5522b31",
   "metadata": {},
   "source": [
    "# Baseline Model using Opcode N-Grams for Binary"
   ]
  },
  {
   "cell_type": "markdown",
   "id": "c618ae76",
   "metadata": {},
   "source": [
    "## Set up"
   ]
  },
  {
   "cell_type": "code",
   "execution_count": 1,
   "id": "4c98a8df",
   "metadata": {},
   "outputs": [],
   "source": [
    "import warnings\n",
    "warnings.filterwarnings(\"ignore\")"
   ]
  },
  {
   "cell_type": "code",
   "execution_count": 2,
   "id": "04893973",
   "metadata": {},
   "outputs": [],
   "source": [
    "import os\n",
    "import json\n",
    "import pandas as pd\n",
    "import numpy as np\n",
    "from pathlib import Path\n",
    "\n",
    "from sklearn.model_selection import train_test_split\n",
    "from sklearn.metrics import classification_report, confusion_matrix, ConfusionMatrixDisplay\n",
    "import matplotlib.pyplot as plt\n",
    "from sklearn.metrics import f1_score\n"
   ]
  },
  {
   "cell_type": "code",
   "execution_count": 3,
   "id": "ed2e63a2",
   "metadata": {},
   "outputs": [],
   "source": [
    "PATH = Path.cwd().parents[2]\n",
    "DATA_PATH = os.path.join(PATH, 'data/processed/ir_gigahorse')"
   ]
  },
  {
   "cell_type": "markdown",
   "id": "d77dea9b",
   "metadata": {},
   "source": [
    "## List Traditional ML model to compare"
   ]
  },
  {
   "cell_type": "code",
   "execution_count": 4,
   "id": "30ab6b3f",
   "metadata": {},
   "outputs": [],
   "source": [
    "from sklearn.linear_model import LogisticRegression\n",
    "from sklearn.tree import DecisionTreeClassifier\n",
    "from sklearn.ensemble import RandomForestClassifier, AdaBoostClassifier, ExtraTreesClassifier\n",
    "from xgboost import XGBClassifier\n",
    "from lightgbm import LGBMClassifier\n",
    "from sklearn.svm import SVC\n",
    "from sklearn.naive_bayes import GaussianNB\n",
    "from sklearn.neighbors import KNeighborsClassifier\n",
    "from sklearn.linear_model import SGDClassifier\n",
    "from sklearn.neural_network import MLPClassifier\n",
    "\n",
    "models = {\n",
    "  \"LogisticRegression()\": LogisticRegression(),\n",
    "  \"DecisionTreeClassifier()\": DecisionTreeClassifier(),\n",
    "  \"RandomForestClassifier()\": RandomForestClassifier(),\n",
    "  \"AdaBoostClassifier()\": AdaBoostClassifier(),\n",
    "  \"ExtraTreesClassifier()\": ExtraTreesClassifier(),\n",
    "  \"XGBClassifier()\": XGBClassifier(),\n",
    "  \"LGBMClassifier()\": LGBMClassifier(),\n",
    "  \"SVC()\": SVC(),\n",
    "  \"GaussianNB()\": GaussianNB(),\n",
    "  \"KNeighborsClassifier()\": KNeighborsClassifier(),\n",
    "  \"SGDClassifier()\": SGDClassifier(),\n",
    "  \"MLPClassifier()\": MLPClassifier(),\n",
    "}"
   ]
  },
  {
   "cell_type": "markdown",
   "id": "f5732d05",
   "metadata": {},
   "source": [
    "## Load Dataset"
   ]
  },
  {
   "cell_type": "code",
   "execution_count": 5,
   "id": "44d0a85c",
   "metadata": {},
   "outputs": [],
   "source": [
    "df = pd.read_csv(os.path.join(DATA_PATH, 'n_grams_dataset.csv')).set_index('address')\n",
    "grouping_df = pd.read_csv(os.path.join(DATA_PATH, 'grouping_n_grams_dataset.csv')).set_index('address')\n",
    "\n",
    "with open(os.path.join(DATA_PATH, 'n_grams_features.json'), \"r\") as f:\n",
    "    features = json.load(f)\n",
    "\n",
    "with open(os.path.join(DATA_PATH, 'grouping_n_grams_features.json'), \"r\") as f:\n",
    "    grouping_features = json.load(f)\n",
    "\n",
    "with open(os.path.join(DATA_PATH, 'labels.json'), \"r\") as f:\n",
    "    labels = json.load(f)"
   ]
  },
  {
   "cell_type": "code",
   "execution_count": 6,
   "id": "4714201c",
   "metadata": {},
   "outputs": [
    {
     "data": {
      "application/vnd.microsoft.datawrangler.viewer.v0+json": {
       "columns": [
        {
         "name": "address",
         "rawType": "object",
         "type": "string"
        },
        {
         "name": "mint",
         "rawType": "int64",
         "type": "integer"
        },
        {
         "name": "leak",
         "rawType": "int64",
         "type": "integer"
        },
        {
         "name": "limit",
         "rawType": "int64",
         "type": "integer"
        },
        {
         "name": "add add",
         "rawType": "int64",
         "type": "integer"
        },
        {
         "name": "add and",
         "rawType": "int64",
         "type": "integer"
        },
        {
         "name": "add and dup3",
         "rawType": "int64",
         "type": "integer"
        },
        {
         "name": "add calldataload",
         "rawType": "int64",
         "type": "integer"
        },
        {
         "name": "add calldataload push2",
         "rawType": "int64",
         "type": "integer"
        },
        {
         "name": "add dup1",
         "rawType": "int64",
         "type": "integer"
        },
        {
         "name": "add dup1 dup1",
         "rawType": "int64",
         "type": "integer"
        },
        {
         "name": "add dup1 dup4",
         "rawType": "int64",
         "type": "integer"
        },
        {
         "name": "add dup1 push1",
         "rawType": "int64",
         "type": "integer"
        },
        {
         "name": "add dup1 push2",
         "rawType": "int64",
         "type": "integer"
        },
        {
         "name": "add dup1 push32",
         "rawType": "int64",
         "type": "integer"
        },
        {
         "name": "add dup2",
         "rawType": "int64",
         "type": "integer"
        },
        {
         "name": "add dup2 swap1",
         "rawType": "int64",
         "type": "integer"
        },
        {
         "name": "add dup3",
         "rawType": "int64",
         "type": "integer"
        },
        {
         "name": "add dup3 dup2",
         "rawType": "int64",
         "type": "integer"
        },
        {
         "name": "add dup4",
         "rawType": "int64",
         "type": "integer"
        },
        {
         "name": "add dup5",
         "rawType": "int64",
         "type": "integer"
        },
        {
         "name": "add mload",
         "rawType": "int64",
         "type": "integer"
        },
        {
         "name": "add mstore",
         "rawType": "int64",
         "type": "integer"
        },
        {
         "name": "add mstore pop",
         "rawType": "int64",
         "type": "integer"
        },
        {
         "name": "add mstore push1",
         "rawType": "int64",
         "type": "integer"
        },
        {
         "name": "add mstore push2",
         "rawType": "int64",
         "type": "integer"
        },
        {
         "name": "add mstore push32",
         "rawType": "int64",
         "type": "integer"
        },
        {
         "name": "add push1",
         "rawType": "int64",
         "type": "integer"
        },
        {
         "name": "add push1 mload",
         "rawType": "int64",
         "type": "integer"
        },
        {
         "name": "add push1 mstore",
         "rawType": "int64",
         "type": "integer"
        },
        {
         "name": "add push1 push1",
         "rawType": "int64",
         "type": "integer"
        },
        {
         "name": "add push1 sha3",
         "rawType": "int64",
         "type": "integer"
        },
        {
         "name": "add push2",
         "rawType": "int64",
         "type": "integer"
        },
        {
         "name": "add push2 jump",
         "rawType": "int64",
         "type": "integer"
        },
        {
         "name": "add push2 push1",
         "rawType": "int64",
         "type": "integer"
        },
        {
         "name": "add push2 swap1",
         "rawType": "int64",
         "type": "integer"
        },
        {
         "name": "add push3",
         "rawType": "int64",
         "type": "integer"
        },
        {
         "name": "add sload",
         "rawType": "int64",
         "type": "integer"
        },
        {
         "name": "add swap1",
         "rawType": "int64",
         "type": "integer"
        },
        {
         "name": "add swap1 dup1",
         "rawType": "int64",
         "type": "integer"
        },
        {
         "name": "add swap1 dup2",
         "rawType": "int64",
         "type": "integer"
        },
        {
         "name": "add swap1 jump",
         "rawType": "int64",
         "type": "integer"
        },
        {
         "name": "add swap1 pop",
         "rawType": "int64",
         "type": "integer"
        },
        {
         "name": "add swap1 push1",
         "rawType": "int64",
         "type": "integer"
        },
        {
         "name": "add swap1 push2",
         "rawType": "int64",
         "type": "integer"
        },
        {
         "name": "add swap1 swap3",
         "rawType": "int64",
         "type": "integer"
        },
        {
         "name": "add swap2",
         "rawType": "int64",
         "type": "integer"
        },
        {
         "name": "add swap2 pop",
         "rawType": "int64",
         "type": "integer"
        },
        {
         "name": "add swap2 push2",
         "rawType": "int64",
         "type": "integer"
        },
        {
         "name": "add swap2 swap1",
         "rawType": "int64",
         "type": "integer"
        },
        {
         "name": "add swap3",
         "rawType": "int64",
         "type": "integer"
        },
        {
         "name": "add swap4",
         "rawType": "int64",
         "type": "integer"
        },
        {
         "name": "and caller",
         "rawType": "int64",
         "type": "integer"
        },
        {
         "name": "and caller eq",
         "rawType": "int64",
         "type": "integer"
        },
        {
         "name": "and dup1",
         "rawType": "int64",
         "type": "integer"
        },
        {
         "name": "and dup2",
         "rawType": "int64",
         "type": "integer"
        },
        {
         "name": "and dup2 jump",
         "rawType": "int64",
         "type": "integer"
        },
        {
         "name": "and dup2 mstore",
         "rawType": "int64",
         "type": "integer"
        },
        {
         "name": "and dup3",
         "rawType": "int64",
         "type": "integer"
        },
        {
         "name": "and dup3 add",
         "rawType": "int64",
         "type": "integer"
        },
        {
         "name": "and dup3 mstore",
         "rawType": "int64",
         "type": "integer"
        },
        {
         "name": "and dup4",
         "rawType": "int64",
         "type": "integer"
        },
        {
         "name": "and dup5",
         "rawType": "int64",
         "type": "integer"
        },
        {
         "name": "and eq",
         "rawType": "int64",
         "type": "integer"
        },
        {
         "name": "and eq iszero",
         "rawType": "int64",
         "type": "integer"
        },
        {
         "name": "and eq push2",
         "rawType": "int64",
         "type": "integer"
        },
        {
         "name": "and iszero",
         "rawType": "int64",
         "type": "integer"
        },
        {
         "name": "and iszero push2",
         "rawType": "int64",
         "type": "integer"
        },
        {
         "name": "and jump",
         "rawType": "int64",
         "type": "integer"
        },
        {
         "name": "and jump jumpdest",
         "rawType": "int64",
         "type": "integer"
        },
        {
         "name": "and push1",
         "rawType": "int64",
         "type": "integer"
        },
        {
         "name": "and push1 dup2",
         "rawType": "int64",
         "type": "integer"
        },
        {
         "name": "and push1 push1",
         "rawType": "int64",
         "type": "integer"
        },
        {
         "name": "and push1 shl",
         "rawType": "int64",
         "type": "integer"
        },
        {
         "name": "and push1 swap1",
         "rawType": "int64",
         "type": "integer"
        },
        {
         "name": "and push2",
         "rawType": "int64",
         "type": "integer"
        },
        {
         "name": "and push2 jump",
         "rawType": "int64",
         "type": "integer"
        },
        {
         "name": "and push2 jumpi",
         "rawType": "int64",
         "type": "integer"
        },
        {
         "name": "and push20",
         "rawType": "int64",
         "type": "integer"
        },
        {
         "name": "and push20 and",
         "rawType": "int64",
         "type": "integer"
        },
        {
         "name": "and push32",
         "rawType": "int64",
         "type": "integer"
        },
        {
         "name": "and push4",
         "rawType": "int64",
         "type": "integer"
        },
        {
         "name": "and swap1",
         "rawType": "int64",
         "type": "integer"
        },
        {
         "name": "and swap1 dup4",
         "rawType": "int64",
         "type": "integer"
        },
        {
         "name": "and swap1 pop",
         "rawType": "int64",
         "type": "integer"
        },
        {
         "name": "and swap1 push1",
         "rawType": "int64",
         "type": "integer"
        },
        {
         "name": "and swap2",
         "rawType": "int64",
         "type": "integer"
        },
        {
         "name": "and swap2 and",
         "rawType": "int64",
         "type": "integer"
        },
        {
         "name": "and swap3",
         "rawType": "int64",
         "type": "integer"
        },
        {
         "name": "call iszero",
         "rawType": "int64",
         "type": "integer"
        },
        {
         "name": "call iszero dup1",
         "rawType": "int64",
         "type": "integer"
        },
        {
         "name": "calldataload push1",
         "rawType": "int64",
         "type": "integer"
        },
        {
         "name": "calldataload push2",
         "rawType": "int64",
         "type": "integer"
        },
        {
         "name": "calldataload push20",
         "rawType": "int64",
         "type": "integer"
        },
        {
         "name": "calldataload push20 and",
         "rawType": "int64",
         "type": "integer"
        },
        {
         "name": "calldataload swap1",
         "rawType": "int64",
         "type": "integer"
        },
        {
         "name": "calldataload swap1 push1",
         "rawType": "int64",
         "type": "integer"
        },
        {
         "name": "calldatasize push1",
         "rawType": "int64",
         "type": "integer"
        },
        {
         "name": "calldatasize push1 push2",
         "rawType": "int64",
         "type": "integer"
        },
        {
         "name": "calldatasize sub",
         "rawType": "int64",
         "type": "integer"
        },
        {
         "name": "calldatasize sub dup2",
         "rawType": "int64",
         "type": "integer"
        },
        {
         "name": "calldatasize sub push1",
         "rawType": "int64",
         "type": "integer"
        },
        {
         "name": "caller eq",
         "rawType": "int64",
         "type": "integer"
        },
        {
         "name": "caller eq push2",
         "rawType": "int64",
         "type": "integer"
        },
        {
         "name": "caller push2",
         "rawType": "int64",
         "type": "integer"
        },
        {
         "name": "callvalue dup1",
         "rawType": "int64",
         "type": "integer"
        },
        {
         "name": "callvalue dup1 iszero",
         "rawType": "int64",
         "type": "integer"
        },
        {
         "name": "codecopy push1",
         "rawType": "int64",
         "type": "integer"
        },
        {
         "name": "codecopy push1 add",
         "rawType": "int64",
         "type": "integer"
        },
        {
         "name": "div mul",
         "rawType": "int64",
         "type": "integer"
        },
        {
         "name": "div mul dup4",
         "rawType": "int64",
         "type": "integer"
        },
        {
         "name": "div push1",
         "rawType": "int64",
         "type": "integer"
        },
        {
         "name": "div push1 and",
         "rawType": "int64",
         "type": "integer"
        },
        {
         "name": "div push20",
         "rawType": "int64",
         "type": "integer"
        },
        {
         "name": "div push20 and",
         "rawType": "int64",
         "type": "integer"
        },
        {
         "name": "dup1 calldataload",
         "rawType": "int64",
         "type": "integer"
        },
        {
         "name": "dup1 calldataload push20",
         "rawType": "int64",
         "type": "integer"
        },
        {
         "name": "dup1 calldataload swap1",
         "rawType": "int64",
         "type": "integer"
        },
        {
         "name": "dup1 calldatasize",
         "rawType": "int64",
         "type": "integer"
        },
        {
         "name": "dup1 calldatasize sub",
         "rawType": "int64",
         "type": "integer"
        },
        {
         "name": "dup1 dup1",
         "rawType": "int64",
         "type": "integer"
        },
        {
         "name": "dup1 dup1 calldataload",
         "rawType": "int64",
         "type": "integer"
        },
        {
         "name": "dup1 dup1 push1",
         "rawType": "int64",
         "type": "integer"
        },
        {
         "name": "dup1 dup3",
         "rawType": "int64",
         "type": "integer"
        },
        {
         "name": "dup1 dup3 add",
         "rawType": "int64",
         "type": "integer"
        },
        {
         "name": "dup1 dup3 dup2",
         "rawType": "int64",
         "type": "integer"
        },
        {
         "name": "dup1 dup3 mstore",
         "rawType": "int64",
         "type": "integer"
        },
        {
         "name": "dup1 dup4",
         "rawType": "int64",
         "type": "integer"
        },
        {
         "name": "dup1 dup4 gt",
         "rawType": "int64",
         "type": "integer"
        },
        {
         "name": "dup1 dup4 sha3",
         "rawType": "int64",
         "type": "integer"
        },
        {
         "name": "dup1 dup4 sload",
         "rawType": "int64",
         "type": "integer"
        },
        {
         "name": "dup1 dup4 sub",
         "rawType": "int64",
         "type": "integer"
        },
        {
         "name": "dup1 dup5",
         "rawType": "int64",
         "type": "integer"
        },
        {
         "name": "dup1 dup6",
         "rawType": "int64",
         "type": "integer"
        },
        {
         "name": "dup1 extcodesize",
         "rawType": "int64",
         "type": "integer"
        },
        {
         "name": "dup1 extcodesize iszero",
         "rawType": "int64",
         "type": "integer"
        },
        {
         "name": "dup1 iszero",
         "rawType": "int64",
         "type": "integer"
        },
        {
         "name": "dup1 iszero push2",
         "rawType": "int64",
         "type": "integer"
        },
        {
         "name": "dup1 mload",
         "rawType": "int64",
         "type": "integer"
        },
        {
         "name": "dup1 mload push1",
         "rawType": "int64",
         "type": "integer"
        },
        {
         "name": "dup1 mload swap1",
         "rawType": "int64",
         "type": "integer"
        },
        {
         "name": "dup1 push1",
         "rawType": "int64",
         "type": "integer"
        },
        {
         "name": "dup1 push1 add",
         "rawType": "int64",
         "type": "integer"
        },
        {
         "name": "dup1 push1 dup2",
         "rawType": "int64",
         "type": "integer"
        },
        {
         "name": "dup1 push1 dup4",
         "rawType": "int64",
         "type": "integer"
        },
        {
         "name": "dup1 push1 lt",
         "rawType": "int64",
         "type": "integer"
        },
        {
         "name": "dup1 push1 mstore",
         "rawType": "int64",
         "type": "integer"
        },
        {
         "name": "dup1 push1 push1",
         "rawType": "int64",
         "type": "integer"
        },
        {
         "name": "dup1 push2",
         "rawType": "int64",
         "type": "integer"
        },
        {
         "name": "dup1 push2 jumpi",
         "rawType": "int64",
         "type": "integer"
        },
        {
         "name": "dup1 push2 push1",
         "rawType": "int64",
         "type": "integer"
        },
        {
         "name": "dup1 push32",
         "rawType": "int64",
         "type": "integer"
        },
        {
         "name": "dup1 push32 dup2",
         "rawType": "int64",
         "type": "integer"
        },
        {
         "name": "dup1 push4",
         "rawType": "int64",
         "type": "integer"
        },
        {
         "name": "dup1 push4 eq",
         "rawType": "int64",
         "type": "integer"
        },
        {
         "name": "dup1 push4 gt",
         "rawType": "int64",
         "type": "integer"
        },
        {
         "name": "dup1 returndatacopy",
         "rawType": "int64",
         "type": "integer"
        },
        {
         "name": "dup1 returndatacopy returndatasize",
         "rawType": "int64",
         "type": "integer"
        },
        {
         "name": "dup1 revert",
         "rawType": "int64",
         "type": "integer"
        },
        {
         "name": "dup1 revert jumpdest",
         "rawType": "int64",
         "type": "integer"
        },
        {
         "name": "dup1 sload",
         "rawType": "int64",
         "type": "integer"
        },
        {
         "name": "dup1 sload push1",
         "rawType": "int64",
         "type": "integer"
        },
        {
         "name": "dup1 sload push2",
         "rawType": "int64",
         "type": "integer"
        },
        {
         "name": "dup1 swap2",
         "rawType": "int64",
         "type": "integer"
        },
        {
         "name": "dup1 swap2 sub",
         "rawType": "int64",
         "type": "integer"
        },
        {
         "name": "dup1 swap3",
         "rawType": "int64",
         "type": "integer"
        },
        {
         "name": "dup2 add",
         "rawType": "int64",
         "type": "integer"
        },
        {
         "name": "dup2 add push1",
         "rawType": "int64",
         "type": "integer"
        },
        {
         "name": "dup2 add swap1",
         "rawType": "int64",
         "type": "integer"
        },
        {
         "name": "dup2 and",
         "rawType": "int64",
         "type": "integer"
        },
        {
         "name": "dup2 and push1",
         "rawType": "int64",
         "type": "integer"
        },
        {
         "name": "dup2 and swap2",
         "rawType": "int64",
         "type": "integer"
        },
        {
         "name": "dup2 calldataload",
         "rawType": "int64",
         "type": "integer"
        },
        {
         "name": "dup2 dup2",
         "rawType": "int64",
         "type": "integer"
        },
        {
         "name": "dup2 dup2 lt",
         "rawType": "int64",
         "type": "integer"
        },
        {
         "name": "dup2 dup2 mstore",
         "rawType": "int64",
         "type": "integer"
        },
        {
         "name": "dup2 dup2 sub",
         "rawType": "int64",
         "type": "integer"
        },
        {
         "name": "dup2 dup4",
         "rawType": "int64",
         "type": "integer"
        },
        {
         "name": "dup2 dup5",
         "rawType": "int64",
         "type": "integer"
        },
        {
         "name": "dup2 dup6",
         "rawType": "int64",
         "type": "integer"
        },
        {
         "name": "dup2 dup7",
         "rawType": "int64",
         "type": "integer"
        },
        {
         "name": "dup2 eq",
         "rawType": "int64",
         "type": "integer"
        },
        {
         "name": "dup2 eq push2",
         "rawType": "int64",
         "type": "integer"
        },
        {
         "name": "dup2 gt",
         "rawType": "int64",
         "type": "integer"
        },
        {
         "name": "dup2 gt iszero",
         "rawType": "int64",
         "type": "integer"
        },
        {
         "name": "dup2 jump",
         "rawType": "int64",
         "type": "integer"
        },
        {
         "name": "dup2 jump jumpdest",
         "rawType": "int64",
         "type": "integer"
        },
        {
         "name": "dup2 lt",
         "rawType": "int64",
         "type": "integer"
        },
        {
         "name": "dup2 lt iszero",
         "rawType": "int64",
         "type": "integer"
        },
        {
         "name": "dup2 lt push2",
         "rawType": "int64",
         "type": "integer"
        },
        {
         "name": "dup2 mload",
         "rawType": "int64",
         "type": "integer"
        },
        {
         "name": "dup2 mload dup2",
         "rawType": "int64",
         "type": "integer"
        },
        {
         "name": "dup2 mstore",
         "rawType": "int64",
         "type": "integer"
        },
        {
         "name": "dup2 mstore pop",
         "rawType": "int64",
         "type": "integer"
        },
        {
         "name": "dup2 mstore push1",
         "rawType": "int64",
         "type": "integer"
        },
        {
         "name": "dup2 mstore swap1",
         "rawType": "int64",
         "type": "integer"
        },
        {
         "name": "dup2 push1",
         "rawType": "int64",
         "type": "integer"
        },
        {
         "name": "dup2 push1 dup8",
         "rawType": "int64",
         "type": "integer"
        },
        {
         "name": "dup2 push1 push1",
         "rawType": "int64",
         "type": "integer"
        },
        {
         "name": "dup2 push2",
         "rawType": "int64",
         "type": "integer"
        },
        {
         "name": "dup2 push2 jump",
         "rawType": "int64",
         "type": "integer"
        },
        {
         "name": "dup2 push20",
         "rawType": "int64",
         "type": "integer"
        },
        {
         "name": "dup2 push20 and",
         "rawType": "int64",
         "type": "integer"
        },
        {
         "name": "dup2 sha3",
         "rawType": "int64",
         "type": "integer"
        },
        {
         "name": "dup2 sload",
         "rawType": "int64",
         "type": "integer"
        },
        {
         "name": "dup2 sload dup2",
         "rawType": "int64",
         "type": "integer"
        },
        {
         "name": "dup2 sub",
         "rawType": "int64",
         "type": "integer"
        },
        {
         "name": "dup2 sub dup3",
         "rawType": "int64",
         "type": "integer"
        },
        {
         "name": "dup2 sub push1",
         "rawType": "int64",
         "type": "integer"
        },
        {
         "name": "dup2 swap1",
         "rawType": "int64",
         "type": "integer"
        },
        {
         "name": "dup2 swap1 mstore",
         "rawType": "int64",
         "type": "integer"
        },
        {
         "name": "dup2 swap1 sstore",
         "rawType": "int64",
         "type": "integer"
        },
        {
         "name": "dup2 swap1 sub",
         "rawType": "int64",
         "type": "integer"
        },
        {
         "name": "dup3 add",
         "rawType": "int64",
         "type": "integer"
        },
        {
         "name": "dup3 add and",
         "rawType": "int64",
         "type": "integer"
        },
        {
         "name": "dup3 add dup1",
         "rawType": "int64",
         "type": "integer"
        },
        {
         "name": "dup3 add mstore",
         "rawType": "int64",
         "type": "integer"
        },
        {
         "name": "dup3 add swap1",
         "rawType": "int64",
         "type": "integer"
        },
        {
         "name": "dup3 add swap2",
         "rawType": "int64",
         "type": "integer"
        },
        {
         "name": "dup3 and",
         "rawType": "int64",
         "type": "integer"
        },
        {
         "name": "dup3 and push1",
         "rawType": "int64",
         "type": "integer"
        },
        {
         "name": "dup3 and push2",
         "rawType": "int64",
         "type": "integer"
        },
        {
         "name": "dup3 dup1",
         "rawType": "int64",
         "type": "integer"
        },
        {
         "name": "dup3 dup1 sload",
         "rawType": "int64",
         "type": "integer"
        },
        {
         "name": "dup3 dup2",
         "rawType": "int64",
         "type": "integer"
        },
        {
         "name": "dup3 dup2 mstore",
         "rawType": "int64",
         "type": "integer"
        },
        {
         "name": "dup3 dup2 sub",
         "rawType": "int64",
         "type": "integer"
        },
        {
         "name": "dup3 dup3",
         "rawType": "int64",
         "type": "integer"
        },
        {
         "name": "dup3 dup5",
         "rawType": "int64",
         "type": "integer"
        },
        {
         "name": "dup3 dup5 sub",
         "rawType": "int64",
         "type": "integer"
        },
        {
         "name": "dup3 dup6",
         "rawType": "int64",
         "type": "integer"
        },
        {
         "name": "dup3 dup7",
         "rawType": "int64",
         "type": "integer"
        },
        {
         "name": "dup3 dup7 add",
         "rawType": "int64",
         "type": "integer"
        },
        {
         "name": "dup3 gt",
         "rawType": "int64",
         "type": "integer"
        },
        {
         "name": "dup3 gt iszero",
         "rawType": "int64",
         "type": "integer"
        },
        {
         "name": "dup3 iszero",
         "rawType": "int64",
         "type": "integer"
        },
        {
         "name": "dup3 iszero iszero",
         "rawType": "int64",
         "type": "integer"
        },
        {
         "name": "dup3 lt",
         "rawType": "int64",
         "type": "integer"
        },
        {
         "name": "dup3 mstore",
         "rawType": "int64",
         "type": "integer"
        },
        {
         "name": "dup3 mstore push1",
         "rawType": "int64",
         "type": "integer"
        },
        {
         "name": "dup3 mstore swap2",
         "rawType": "int64",
         "type": "integer"
        },
        {
         "name": "dup3 push1",
         "rawType": "int64",
         "type": "integer"
        },
        {
         "name": "dup3 push2",
         "rawType": "int64",
         "type": "integer"
        },
        {
         "name": "dup3 push2 jump",
         "rawType": "int64",
         "type": "integer"
        },
        {
         "name": "dup3 push20",
         "rawType": "int64",
         "type": "integer"
        },
        {
         "name": "dup3 push20 and",
         "rawType": "int64",
         "type": "integer"
        },
        {
         "name": "dup3 swap1",
         "rawType": "int64",
         "type": "integer"
        },
        {
         "name": "dup3 swap1 sub",
         "rawType": "int64",
         "type": "integer"
        },
        {
         "name": "dup4 add",
         "rawType": "int64",
         "type": "integer"
        },
        {
         "name": "dup4 add dup5",
         "rawType": "int64",
         "type": "integer"
        },
        {
         "name": "dup4 add mstore",
         "rawType": "int64",
         "type": "integer"
        },
        {
         "name": "dup4 and",
         "rawType": "int64",
         "type": "integer"
        },
        {
         "name": "dup4 and push1",
         "rawType": "int64",
         "type": "integer"
        },
        {
         "name": "dup4 and push2",
         "rawType": "int64",
         "type": "integer"
        },
        {
         "name": "dup4 dup2",
         "rawType": "int64",
         "type": "integer"
        },
        {
         "name": "dup4 dup2 lt",
         "rawType": "int64",
         "type": "integer"
        },
        {
         "name": "dup4 dup4",
         "rawType": "int64",
         "type": "integer"
        },
        {
         "name": "dup4 dup4 push1",
         "rawType": "int64",
         "type": "integer"
        },
        {
         "name": "dup4 dup4 push2",
         "rawType": "int64",
         "type": "integer"
        },
        {
         "name": "dup4 dup6",
         "rawType": "int64",
         "type": "integer"
        },
        {
         "name": "dup4 dup6 sub",
         "rawType": "int64",
         "type": "integer"
        },
        {
         "name": "dup4 gt",
         "rawType": "int64",
         "type": "integer"
        },
        {
         "name": "dup4 gt push2",
         "rawType": "int64",
         "type": "integer"
        },
        {
         "name": "dup4 mstore",
         "rawType": "int64",
         "type": "integer"
        },
        {
         "name": "dup4 mstore swap2",
         "rawType": "int64",
         "type": "integer"
        },
        {
         "name": "dup4 push1",
         "rawType": "int64",
         "type": "integer"
        },
        {
         "name": "dup4 push1 mload",
         "rawType": "int64",
         "type": "integer"
        },
        {
         "name": "dup4 push2",
         "rawType": "int64",
         "type": "integer"
        },
        {
         "name": "dup4 push2 jump",
         "rawType": "int64",
         "type": "integer"
        },
        {
         "name": "dup4 push20",
         "rawType": "int64",
         "type": "integer"
        },
        {
         "name": "dup4 push20 and",
         "rawType": "int64",
         "type": "integer"
        },
        {
         "name": "dup4 sha3",
         "rawType": "int64",
         "type": "integer"
        },
        {
         "name": "dup4 sload",
         "rawType": "int64",
         "type": "integer"
        },
        {
         "name": "dup4 sload div",
         "rawType": "int64",
         "type": "integer"
        },
        {
         "name": "dup4 sub",
         "rawType": "int64",
         "type": "integer"
        },
        {
         "name": "dup4 sub dup2",
         "rawType": "int64",
         "type": "integer"
        },
        {
         "name": "dup5 add",
         "rawType": "int64",
         "type": "integer"
        },
        {
         "name": "dup5 add mstore",
         "rawType": "int64",
         "type": "integer"
        },
        {
         "name": "dup5 and",
         "rawType": "int64",
         "type": "integer"
        },
        {
         "name": "dup5 dup2",
         "rawType": "int64",
         "type": "integer"
        },
        {
         "name": "dup5 dup5",
         "rawType": "int64",
         "type": "integer"
        },
        {
         "name": "dup5 dup5 dup5",
         "rawType": "int64",
         "type": "integer"
        },
        {
         "name": "dup5 dup5 push2",
         "rawType": "int64",
         "type": "integer"
        },
        {
         "name": "dup5 dup7",
         "rawType": "int64",
         "type": "integer"
        },
        {
         "name": "dup5 mstore",
         "rawType": "int64",
         "type": "integer"
        },
        {
         "name": "dup5 push1",
         "rawType": "int64",
         "type": "integer"
        },
        {
         "name": "dup5 push2",
         "rawType": "int64",
         "type": "integer"
        },
        {
         "name": "dup5 push2 jump",
         "rawType": "int64",
         "type": "integer"
        },
        {
         "name": "dup5 push20",
         "rawType": "int64",
         "type": "integer"
        },
        {
         "name": "dup5 push20 and",
         "rawType": "int64",
         "type": "integer"
        },
        {
         "name": "dup5 sub",
         "rawType": "int64",
         "type": "integer"
        },
        {
         "name": "dup5 sub slt",
         "rawType": "int64",
         "type": "integer"
        },
        {
         "name": "dup5 swap1",
         "rawType": "int64",
         "type": "integer"
        },
        {
         "name": "dup6 add",
         "rawType": "int64",
         "type": "integer"
        },
        {
         "name": "dup6 and",
         "rawType": "int64",
         "type": "integer"
        },
        {
         "name": "dup6 dup2",
         "rawType": "int64",
         "type": "integer"
        },
        {
         "name": "dup6 dup3",
         "rawType": "int64",
         "type": "integer"
        },
        {
         "name": "dup6 dup6",
         "rawType": "int64",
         "type": "integer"
        },
        {
         "name": "dup6 dup6 push2",
         "rawType": "int64",
         "type": "integer"
        },
        {
         "name": "dup6 push1",
         "rawType": "int64",
         "type": "integer"
        },
        {
         "name": "dup6 push2",
         "rawType": "int64",
         "type": "integer"
        },
        {
         "name": "dup6 push2 jump",
         "rawType": "int64",
         "type": "integer"
        },
        {
         "name": "dup6 push20",
         "rawType": "int64",
         "type": "integer"
        },
        {
         "name": "dup6 push20 and",
         "rawType": "int64",
         "type": "integer"
        },
        {
         "name": "dup6 sub",
         "rawType": "int64",
         "type": "integer"
        },
        {
         "name": "dup6 sub slt",
         "rawType": "int64",
         "type": "integer"
        },
        {
         "name": "dup6 swap1",
         "rawType": "int64",
         "type": "integer"
        },
        {
         "name": "dup7 add",
         "rawType": "int64",
         "type": "integer"
        },
        {
         "name": "dup7 add push2",
         "rawType": "int64",
         "type": "integer"
        },
        {
         "name": "dup7 and",
         "rawType": "int64",
         "type": "integer"
        },
        {
         "name": "dup7 push2",
         "rawType": "int64",
         "type": "integer"
        },
        {
         "name": "dup7 push2 jump",
         "rawType": "int64",
         "type": "integer"
        },
        {
         "name": "dup7 sub",
         "rawType": "int64",
         "type": "integer"
        },
        {
         "name": "dup8 add",
         "rawType": "int64",
         "type": "integer"
        },
        {
         "name": "dup8 and",
         "rawType": "int64",
         "type": "integer"
        },
        {
         "name": "dup8 dup1",
         "rawType": "int64",
         "type": "integer"
        },
        {
         "name": "eq dup1",
         "rawType": "int64",
         "type": "integer"
        },
        {
         "name": "eq iszero",
         "rawType": "int64",
         "type": "integer"
        },
        {
         "name": "eq iszero push2",
         "rawType": "int64",
         "type": "integer"
        },
        {
         "name": "eq push2",
         "rawType": "int64",
         "type": "integer"
        },
        {
         "name": "eq push2 jumpi",
         "rawType": "int64",
         "type": "integer"
        },
        {
         "name": "eq push3",
         "rawType": "int64",
         "type": "integer"
        },
        {
         "name": "eq push3 jumpi",
         "rawType": "int64",
         "type": "integer"
        },
        {
         "name": "exp dup2",
         "rawType": "int64",
         "type": "integer"
        },
        {
         "name": "exp dup2 sload",
         "rawType": "int64",
         "type": "integer"
        },
        {
         "name": "exp swap1",
         "rawType": "int64",
         "type": "integer"
        },
        {
         "name": "exp swap1 div",
         "rawType": "int64",
         "type": "integer"
        },
        {
         "name": "extcodesize iszero",
         "rawType": "int64",
         "type": "integer"
        },
        {
         "name": "extcodesize iszero dup1",
         "rawType": "int64",
         "type": "integer"
        },
        {
         "name": "gas call",
         "rawType": "int64",
         "type": "integer"
        },
        {
         "name": "gas call iszero",
         "rawType": "int64",
         "type": "integer"
        },
        {
         "name": "gas staticcall",
         "rawType": "int64",
         "type": "integer"
        },
        {
         "name": "gas staticcall iszero",
         "rawType": "int64",
         "type": "integer"
        },
        {
         "name": "gasprice sha3",
         "rawType": "int64",
         "type": "integer"
        },
        {
         "name": "gt iszero",
         "rawType": "int64",
         "type": "integer"
        },
        {
         "name": "gt iszero push2",
         "rawType": "int64",
         "type": "integer"
        },
        {
         "name": "gt push2",
         "rawType": "int64",
         "type": "integer"
        },
        {
         "name": "gt push2 jumpi",
         "rawType": "int64",
         "type": "integer"
        },
        {
         "name": "iszero dup1",
         "rawType": "int64",
         "type": "integer"
        },
        {
         "name": "iszero dup1 iszero",
         "rawType": "int64",
         "type": "integer"
        },
        {
         "name": "iszero dup2",
         "rawType": "int64",
         "type": "integer"
        },
        {
         "name": "iszero dup2 mstore",
         "rawType": "int64",
         "type": "integer"
        },
        {
         "name": "iszero iszero",
         "rawType": "int64",
         "type": "integer"
        },
        {
         "name": "iszero iszero dup2",
         "rawType": "int64",
         "type": "integer"
        },
        {
         "name": "iszero jumpdest",
         "rawType": "int64",
         "type": "integer"
        },
        {
         "name": "iszero push2",
         "rawType": "int64",
         "type": "integer"
        },
        {
         "name": "iszero push2 jumpi",
         "rawType": "int64",
         "type": "integer"
        },
        {
         "name": "iszero push3",
         "rawType": "int64",
         "type": "integer"
        },
        {
         "name": "iszero push3 jumpi",
         "rawType": "int64",
         "type": "integer"
        },
        {
         "name": "jump jumpdest",
         "rawType": "int64",
         "type": "integer"
        },
        {
         "name": "jump jumpdest callvalue",
         "rawType": "int64",
         "type": "integer"
        },
        {
         "name": "jump jumpdest dup1",
         "rawType": "int64",
         "type": "integer"
        },
        {
         "name": "jump jumpdest dup2",
         "rawType": "int64",
         "type": "integer"
        },
        {
         "name": "jump jumpdest dup3",
         "rawType": "int64",
         "type": "integer"
        },
        {
         "name": "jump jumpdest dup5",
         "rawType": "int64",
         "type": "integer"
        },
        {
         "name": "jump jumpdest jumpdest",
         "rawType": "int64",
         "type": "integer"
        },
        {
         "name": "jump jumpdest missing",
         "rawType": "int64",
         "type": "integer"
        },
        {
         "name": "jump jumpdest pop",
         "rawType": "int64",
         "type": "integer"
        },
        {
         "name": "jump jumpdest push1",
         "rawType": "int64",
         "type": "integer"
        },
        {
         "name": "jump jumpdest push2",
         "rawType": "int64",
         "type": "integer"
        },
        {
         "name": "jump jumpdest push20",
         "rawType": "int64",
         "type": "integer"
        },
        {
         "name": "jump jumpdest push3",
         "rawType": "int64",
         "type": "integer"
        },
        {
         "name": "jump jumpdest push32",
         "rawType": "int64",
         "type": "integer"
        },
        {
         "name": "jump jumpdest stop",
         "rawType": "int64",
         "type": "integer"
        },
        {
         "name": "jump jumpdest swap1",
         "rawType": "int64",
         "type": "integer"
        },
        {
         "name": "jump jumpdest swap2",
         "rawType": "int64",
         "type": "integer"
        },
        {
         "name": "jump jumpdest swap3",
         "rawType": "int64",
         "type": "integer"
        },
        {
         "name": "jump jumpdest swap4",
         "rawType": "int64",
         "type": "integer"
        },
        {
         "name": "jumpdest callvalue",
         "rawType": "int64",
         "type": "integer"
        },
        {
         "name": "jumpdest callvalue dup1",
         "rawType": "int64",
         "type": "integer"
        },
        {
         "name": "jumpdest dup1",
         "rawType": "int64",
         "type": "integer"
        },
        {
         "name": "jumpdest dup1 iszero",
         "rawType": "int64",
         "type": "integer"
        },
        {
         "name": "jumpdest dup1 push1",
         "rawType": "int64",
         "type": "integer"
        },
        {
         "name": "jumpdest dup1 push4",
         "rawType": "int64",
         "type": "integer"
        },
        {
         "name": "jumpdest dup2",
         "rawType": "int64",
         "type": "integer"
        },
        {
         "name": "jumpdest dup2 add",
         "rawType": "int64",
         "type": "integer"
        },
        {
         "name": "jumpdest dup2 dup2",
         "rawType": "int64",
         "type": "integer"
        },
        {
         "name": "jumpdest dup2 sload",
         "rawType": "int64",
         "type": "integer"
        },
        {
         "name": "jumpdest dup3",
         "rawType": "int64",
         "type": "integer"
        },
        {
         "name": "jumpdest dup3 add",
         "rawType": "int64",
         "type": "integer"
        },
        {
         "name": "jumpdest dup4",
         "rawType": "int64",
         "type": "integer"
        },
        {
         "name": "jumpdest dup4 dup2",
         "rawType": "int64",
         "type": "integer"
        },
        {
         "name": "jumpdest dup5",
         "rawType": "int64",
         "type": "integer"
        },
        {
         "name": "jumpdest iszero",
         "rawType": "int64",
         "type": "integer"
        },
        {
         "name": "jumpdest iszero push2",
         "rawType": "int64",
         "type": "integer"
        },
        {
         "name": "jumpdest jumpdest",
         "rawType": "int64",
         "type": "integer"
        },
        {
         "name": "jumpdest jumpdest push1",
         "rawType": "int64",
         "type": "integer"
        },
        {
         "name": "jumpdest missing",
         "rawType": "int64",
         "type": "integer"
        },
        {
         "name": "jumpdest pop",
         "rawType": "int64",
         "type": "integer"
        },
        {
         "name": "jumpdest pop gas",
         "rawType": "int64",
         "type": "integer"
        },
        {
         "name": "jumpdest pop jump",
         "rawType": "int64",
         "type": "integer"
        },
        {
         "name": "jumpdest pop pop",
         "rawType": "int64",
         "type": "integer"
        },
        {
         "name": "jumpdest pop push1",
         "rawType": "int64",
         "type": "integer"
        },
        {
         "name": "jumpdest pop push2",
         "rawType": "int64",
         "type": "integer"
        },
        {
         "name": "jumpdest push1",
         "rawType": "int64",
         "type": "integer"
        },
        {
         "name": "jumpdest push1 dup1",
         "rawType": "int64",
         "type": "integer"
        },
        {
         "name": "jumpdest push1 dup2",
         "rawType": "int64",
         "type": "integer"
        },
        {
         "name": "jumpdest push1 dup3",
         "rawType": "int64",
         "type": "integer"
        },
        {
         "name": "jumpdest push1 mload",
         "rawType": "int64",
         "type": "integer"
        },
        {
         "name": "jumpdest push1 push1",
         "rawType": "int64",
         "type": "integer"
        },
        {
         "name": "jumpdest push1 push2",
         "rawType": "int64",
         "type": "integer"
        },
        {
         "name": "jumpdest push1 push20",
         "rawType": "int64",
         "type": "integer"
        },
        {
         "name": "jumpdest push1 sload",
         "rawType": "int64",
         "type": "integer"
        },
        {
         "name": "jumpdest push1 swap1",
         "rawType": "int64",
         "type": "integer"
        },
        {
         "name": "jumpdest push1 swap2",
         "rawType": "int64",
         "type": "integer"
        },
        {
         "name": "jumpdest push2",
         "rawType": "int64",
         "type": "integer"
        },
        {
         "name": "jumpdest push2 dup2",
         "rawType": "int64",
         "type": "integer"
        },
        {
         "name": "jumpdest push2 dup3",
         "rawType": "int64",
         "type": "integer"
        },
        {
         "name": "jumpdest push2 dup4",
         "rawType": "int64",
         "type": "integer"
        },
        {
         "name": "jumpdest push2 dup5",
         "rawType": "int64",
         "type": "integer"
        },
        {
         "name": "jumpdest push2 jump",
         "rawType": "int64",
         "type": "integer"
        },
        {
         "name": "jumpdest push2 jumpi",
         "rawType": "int64",
         "type": "integer"
        },
        {
         "name": "jumpdest push2 push1",
         "rawType": "int64",
         "type": "integer"
        },
        {
         "name": "jumpdest push2 push2",
         "rawType": "int64",
         "type": "integer"
        },
        {
         "name": "jumpdest push2 swap1",
         "rawType": "int64",
         "type": "integer"
        },
        {
         "name": "jumpdest push2 swap2",
         "rawType": "int64",
         "type": "integer"
        },
        {
         "name": "jumpdest push20",
         "rawType": "int64",
         "type": "integer"
        },
        {
         "name": "jumpdest push20 and",
         "rawType": "int64",
         "type": "integer"
        },
        {
         "name": "jumpdest push3",
         "rawType": "int64",
         "type": "integer"
        },
        {
         "name": "jumpdest push3 push3",
         "rawType": "int64",
         "type": "integer"
        },
        {
         "name": "jumpdest push32",
         "rawType": "int64",
         "type": "integer"
        },
        {
         "name": "jumpdest push32 push1",
         "rawType": "int64",
         "type": "integer"
        },
        {
         "name": "jumpdest stop",
         "rawType": "int64",
         "type": "integer"
        },
        {
         "name": "jumpdest stop jumpdest",
         "rawType": "int64",
         "type": "integer"
        },
        {
         "name": "jumpdest swap1",
         "rawType": "int64",
         "type": "integer"
        },
        {
         "name": "jumpdest swap1 pop",
         "rawType": "int64",
         "type": "integer"
        },
        {
         "name": "jumpdest swap2",
         "rawType": "int64",
         "type": "integer"
        },
        {
         "name": "jumpdest swap2 pop",
         "rawType": "int64",
         "type": "integer"
        },
        {
         "name": "jumpdest swap3",
         "rawType": "int64",
         "type": "integer"
        },
        {
         "name": "jumpdest swap3 pop",
         "rawType": "int64",
         "type": "integer"
        },
        {
         "name": "jumpdest swap3 swap2",
         "rawType": "int64",
         "type": "integer"
        },
        {
         "name": "jumpdest swap4",
         "rawType": "int64",
         "type": "integer"
        },
        {
         "name": "jumpi dup1",
         "rawType": "int64",
         "type": "integer"
        },
        {
         "name": "jumpi dup1 dup3",
         "rawType": "int64",
         "type": "integer"
        },
        {
         "name": "jumpi dup1 push1",
         "rawType": "int64",
         "type": "integer"
        },
        {
         "name": "jumpi dup1 push4",
         "rawType": "int64",
         "type": "integer"
        },
        {
         "name": "jumpi dup2",
         "rawType": "int64",
         "type": "integer"
        },
        {
         "name": "jumpi dup3",
         "rawType": "int64",
         "type": "integer"
        },
        {
         "name": "jumpi missing",
         "rawType": "int64",
         "type": "integer"
        },
        {
         "name": "jumpi missing dup1",
         "rawType": "int64",
         "type": "integer"
        },
        {
         "name": "jumpi pop",
         "rawType": "int64",
         "type": "integer"
        },
        {
         "name": "jumpi pop push1",
         "rawType": "int64",
         "type": "integer"
        },
        {
         "name": "jumpi push1",
         "rawType": "int64",
         "type": "integer"
        },
        {
         "name": "jumpi push1 dup1",
         "rawType": "int64",
         "type": "integer"
        },
        {
         "name": "jumpi push1 mload",
         "rawType": "int64",
         "type": "integer"
        },
        {
         "name": "jumpi push1 push1",
         "rawType": "int64",
         "type": "integer"
        },
        {
         "name": "jumpi push2",
         "rawType": "int64",
         "type": "integer"
        },
        {
         "name": "jumpi push2 dup1",
         "rawType": "int64",
         "type": "integer"
        },
        {
         "name": "jumpi push2 jump",
         "rawType": "int64",
         "type": "integer"
        },
        {
         "name": "jumpi push2 push2",
         "rawType": "int64",
         "type": "integer"
        },
        {
         "name": "jumpi returndatasize",
         "rawType": "int64",
         "type": "integer"
        },
        {
         "name": "jumpi returndatasize push1",
         "rawType": "int64",
         "type": "integer"
        },
        {
         "name": "log3 pop",
         "rawType": "int64",
         "type": "integer"
        },
        {
         "name": "log3 pop pop",
         "rawType": "int64",
         "type": "integer"
        },
        {
         "name": "lt iszero",
         "rawType": "int64",
         "type": "integer"
        },
        {
         "name": "lt iszero push2",
         "rawType": "int64",
         "type": "integer"
        },
        {
         "name": "lt push2",
         "rawType": "int64",
         "type": "integer"
        },
        {
         "name": "lt push2 jumpi",
         "rawType": "int64",
         "type": "integer"
        },
        {
         "name": "missing dup1",
         "rawType": "int64",
         "type": "integer"
        },
        {
         "name": "missing dup1 revert",
         "rawType": "int64",
         "type": "integer"
        },
        {
         "name": "missing missing",
         "rawType": "int64",
         "type": "integer"
        },
        {
         "name": "missing swap1",
         "rawType": "int64",
         "type": "integer"
        },
        {
         "name": "missing swap1 dup2",
         "rawType": "int64",
         "type": "integer"
        },
        {
         "name": "mload dup1",
         "rawType": "int64",
         "type": "integer"
        },
        {
         "name": "mload dup1 dup3",
         "rawType": "int64",
         "type": "integer"
        },
        {
         "name": "mload dup1 dup4",
         "rawType": "int64",
         "type": "integer"
        },
        {
         "name": "mload dup1 push1",
         "rawType": "int64",
         "type": "integer"
        },
        {
         "name": "mload dup1 swap2",
         "rawType": "int64",
         "type": "integer"
        },
        {
         "name": "mload dup2",
         "rawType": "int64",
         "type": "integer"
        },
        {
         "name": "mload push1",
         "rawType": "int64",
         "type": "integer"
        },
        {
         "name": "mload push1 push1",
         "rawType": "int64",
         "type": "integer"
        },
        {
         "name": "mload push2",
         "rawType": "int64",
         "type": "integer"
        },
        {
         "name": "mload push2 swap2",
         "rawType": "int64",
         "type": "integer"
        },
        {
         "name": "mload push3",
         "rawType": "int64",
         "type": "integer"
        },
        {
         "name": "mload push3 push1",
         "rawType": "int64",
         "type": "integer"
        },
        {
         "name": "mload push32",
         "rawType": "int64",
         "type": "integer"
        },
        {
         "name": "mload push32 dup2",
         "rawType": "int64",
         "type": "integer"
        },
        {
         "name": "mload push4",
         "rawType": "int64",
         "type": "integer"
        },
        {
         "name": "mload push4 push1",
         "rawType": "int64",
         "type": "integer"
        },
        {
         "name": "mload returndatasize",
         "rawType": "int64",
         "type": "integer"
        },
        {
         "name": "mload returndatasize push1",
         "rawType": "int64",
         "type": "integer"
        },
        {
         "name": "mload swap1",
         "rawType": "int64",
         "type": "integer"
        },
        {
         "name": "mload swap1 dup2",
         "rawType": "int64",
         "type": "integer"
        },
        {
         "name": "mload swap1 push1",
         "rawType": "int64",
         "type": "integer"
        },
        {
         "name": "mload swap2",
         "rawType": "int64",
         "type": "integer"
        },
        {
         "name": "mstore dup1",
         "rawType": "int64",
         "type": "integer"
        },
        {
         "name": "mstore dup1 push1",
         "rawType": "int64",
         "type": "integer"
        },
        {
         "name": "mstore dup2",
         "rawType": "int64",
         "type": "integer"
        },
        {
         "name": "mstore dup3",
         "rawType": "int64",
         "type": "integer"
        },
        {
         "name": "mstore dup4",
         "rawType": "int64",
         "type": "integer"
        },
        {
         "name": "mstore pop",
         "rawType": "int64",
         "type": "integer"
        },
        {
         "name": "mstore pop dup2",
         "rawType": "int64",
         "type": "integer"
        },
        {
         "name": "mstore pop jump",
         "rawType": "int64",
         "type": "integer"
        },
        {
         "name": "mstore pop pop",
         "rawType": "int64",
         "type": "integer"
        },
        {
         "name": "mstore pop push1",
         "rawType": "int64",
         "type": "integer"
        },
        {
         "name": "mstore push1",
         "rawType": "int64",
         "type": "integer"
        },
        {
         "name": "mstore push1 add",
         "rawType": "int64",
         "type": "integer"
        },
        {
         "name": "mstore push1 dup1",
         "rawType": "int64",
         "type": "integer"
        },
        {
         "name": "mstore push1 dup2",
         "rawType": "int64",
         "type": "integer"
        },
        {
         "name": "mstore push1 dup3",
         "rawType": "int64",
         "type": "integer"
        },
        {
         "name": "mstore push1 push1",
         "rawType": "int64",
         "type": "integer"
        },
        {
         "name": "mstore push1 swap1",
         "rawType": "int64",
         "type": "integer"
        },
        {
         "name": "mstore push2",
         "rawType": "int64",
         "type": "integer"
        },
        {
         "name": "mstore push2 dup2",
         "rawType": "int64",
         "type": "integer"
        },
        {
         "name": "mstore push32",
         "rawType": "int64",
         "type": "integer"
        },
        {
         "name": "mstore push32 push1",
         "rawType": "int64",
         "type": "integer"
        },
        {
         "name": "mstore sha3",
         "rawType": "int64",
         "type": "integer"
        },
        {
         "name": "mstore sha3 sload",
         "rawType": "int64",
         "type": "integer"
        },
        {
         "name": "mstore swap1",
         "rawType": "int64",
         "type": "integer"
        },
        {
         "name": "mstore swap1 mload",
         "rawType": "int64",
         "type": "integer"
        },
        {
         "name": "mstore swap1 push1",
         "rawType": "int64",
         "type": "integer"
        },
        {
         "name": "mstore swap1 swap2",
         "rawType": "int64",
         "type": "integer"
        },
        {
         "name": "mstore swap2",
         "rawType": "int64",
         "type": "integer"
        },
        {
         "name": "mstore swap2 push1",
         "rawType": "int64",
         "type": "integer"
        },
        {
         "name": "mul dup4",
         "rawType": "int64",
         "type": "integer"
        },
        {
         "name": "mul dup4 mstore",
         "rawType": "int64",
         "type": "integer"
        },
        {
         "name": "mul not",
         "rawType": "int64",
         "type": "integer"
        },
        {
         "name": "mul not and",
         "rawType": "int64",
         "type": "integer"
        },
        {
         "name": "mul or",
         "rawType": "int64",
         "type": "integer"
        },
        {
         "name": "mul or swap1",
         "rawType": "int64",
         "type": "integer"
        },
        {
         "name": "mul push1",
         "rawType": "int64",
         "type": "integer"
        },
        {
         "name": "mul push1 add",
         "rawType": "int64",
         "type": "integer"
        },
        {
         "name": "not and",
         "rawType": "int64",
         "type": "integer"
        },
        {
         "name": "not and push1",
         "rawType": "int64",
         "type": "integer"
        },
        {
         "name": "not and swap1",
         "rawType": "int64",
         "type": "integer"
        },
        {
         "name": "not push1",
         "rawType": "int64",
         "type": "integer"
        },
        {
         "name": "not push1 dup3",
         "rawType": "int64",
         "type": "integer"
        },
        {
         "name": "or swap1",
         "rawType": "int64",
         "type": "integer"
        },
        {
         "name": "or swap1 sstore",
         "rawType": "int64",
         "type": "integer"
        },
        {
         "name": "pop dup1",
         "rawType": "int64",
         "type": "integer"
        },
        {
         "name": "pop dup2",
         "rawType": "int64",
         "type": "integer"
        },
        {
         "name": "pop dup2 add",
         "rawType": "int64",
         "type": "integer"
        },
        {
         "name": "pop dup2 dup2",
         "rawType": "int64",
         "type": "integer"
        },
        {
         "name": "pop dup3",
         "rawType": "int64",
         "type": "integer"
        },
        {
         "name": "pop gas",
         "rawType": "int64",
         "type": "integer"
        },
        {
         "name": "pop gas call",
         "rawType": "int64",
         "type": "integer"
        },
        {
         "name": "pop jump",
         "rawType": "int64",
         "type": "integer"
        },
        {
         "name": "pop jump jumpdest",
         "rawType": "int64",
         "type": "integer"
        },
        {
         "name": "pop jumpdest",
         "rawType": "int64",
         "type": "integer"
        },
        {
         "name": "pop jumpdest pop",
         "rawType": "int64",
         "type": "integer"
        },
        {
         "name": "pop jumpdest push1",
         "rawType": "int64",
         "type": "integer"
        },
        {
         "name": "pop pop",
         "rawType": "int64",
         "type": "integer"
        },
        {
         "name": "pop pop jump",
         "rawType": "int64",
         "type": "integer"
        },
        {
         "name": "pop pop pop",
         "rawType": "int64",
         "type": "integer"
        },
        {
         "name": "pop pop push1",
         "rawType": "int64",
         "type": "integer"
        },
        {
         "name": "pop pop push2",
         "rawType": "int64",
         "type": "integer"
        },
        {
         "name": "pop pop swap1",
         "rawType": "int64",
         "type": "integer"
        },
        {
         "name": "pop pop swap3",
         "rawType": "int64",
         "type": "integer"
        },
        {
         "name": "pop push1",
         "rawType": "int64",
         "type": "integer"
        },
        {
         "name": "pop push1 add",
         "rawType": "int64",
         "type": "integer"
        },
        {
         "name": "pop push1 mload",
         "rawType": "int64",
         "type": "integer"
        },
        {
         "name": "pop push1 push1",
         "rawType": "int64",
         "type": "integer"
        },
        {
         "name": "pop push1 push2",
         "rawType": "int64",
         "type": "integer"
        },
        {
         "name": "pop push1 sload",
         "rawType": "int64",
         "type": "integer"
        },
        {
         "name": "pop push2",
         "rawType": "int64",
         "type": "integer"
        },
        {
         "name": "pop push2 dup2",
         "rawType": "int64",
         "type": "integer"
        },
        {
         "name": "pop push2 dup3",
         "rawType": "int64",
         "type": "integer"
        },
        {
         "name": "pop push2 dup4",
         "rawType": "int64",
         "type": "integer"
        },
        {
         "name": "pop push2 jump",
         "rawType": "int64",
         "type": "integer"
        },
        {
         "name": "pop push2 push1",
         "rawType": "int64",
         "type": "integer"
        },
        {
         "name": "pop push2 push2",
         "rawType": "int64",
         "type": "integer"
        },
        {
         "name": "pop swap1",
         "rawType": "int64",
         "type": "integer"
        },
        {
         "name": "pop swap1 jump",
         "rawType": "int64",
         "type": "integer"
        },
        {
         "name": "pop swap1 pop",
         "rawType": "int64",
         "type": "integer"
        },
        {
         "name": "pop swap2",
         "rawType": "int64",
         "type": "integer"
        },
        {
         "name": "pop swap2 swap1",
         "rawType": "int64",
         "type": "integer"
        },
        {
         "name": "pop swap3",
         "rawType": "int64",
         "type": "integer"
        },
        {
         "name": "pop swap3 pop",
         "rawType": "int64",
         "type": "integer"
        },
        {
         "name": "pop swap3 swap1",
         "rawType": "int64",
         "type": "integer"
        },
        {
         "name": "pop swap3 swap2",
         "rawType": "int64",
         "type": "integer"
        },
        {
         "name": "pop swap4",
         "rawType": "int64",
         "type": "integer"
        },
        {
         "name": "push1 add",
         "rawType": "int64",
         "type": "integer"
        },
        {
         "name": "push1 add dup1",
         "rawType": "int64",
         "type": "integer"
        },
        {
         "name": "push1 add dup3",
         "rawType": "int64",
         "type": "integer"
        },
        {
         "name": "push1 add push1",
         "rawType": "int64",
         "type": "integer"
        },
        {
         "name": "push1 add push2",
         "rawType": "int64",
         "type": "integer"
        },
        {
         "name": "push1 add sload",
         "rawType": "int64",
         "type": "integer"
        },
        {
         "name": "push1 add swap1",
         "rawType": "int64",
         "type": "integer"
        },
        {
         "name": "push1 add swap2",
         "rawType": "int64",
         "type": "integer"
        },
        {
         "name": "push1 and",
         "rawType": "int64",
         "type": "integer"
        },
        {
         "name": "push1 and dup1",
         "rawType": "int64",
         "type": "integer"
        },
        {
         "name": "push1 and iszero",
         "rawType": "int64",
         "type": "integer"
        },
        {
         "name": "push1 caller",
         "rawType": "int64",
         "type": "integer"
        },
        {
         "name": "push1 dup1",
         "rawType": "int64",
         "type": "integer"
        },
        {
         "name": "push1 dup1 calldatasize",
         "rawType": "int64",
         "type": "integer"
        },
        {
         "name": "push1 dup1 dup3",
         "rawType": "int64",
         "type": "integer"
        },
        {
         "name": "push1 dup1 dup4",
         "rawType": "int64",
         "type": "integer"
        },
        {
         "name": "push1 dup1 mload",
         "rawType": "int64",
         "type": "integer"
        },
        {
         "name": "push1 dup1 push1",
         "rawType": "int64",
         "type": "integer"
        },
        {
         "name": "push1 dup1 returndatacopy",
         "rawType": "int64",
         "type": "integer"
        },
        {
         "name": "push1 dup1 revert",
         "rawType": "int64",
         "type": "integer"
        },
        {
         "name": "push1 dup1 sload",
         "rawType": "int64",
         "type": "integer"
        },
        {
         "name": "push1 dup2",
         "rawType": "int64",
         "type": "integer"
        },
        {
         "name": "push1 dup2 add",
         "rawType": "int64",
         "type": "integer"
        },
        {
         "name": "push1 dup2 dup2",
         "rawType": "int64",
         "type": "integer"
        },
        {
         "name": "push1 dup2 gt",
         "rawType": "int64",
         "type": "integer"
        },
        {
         "name": "push1 dup2 lt",
         "rawType": "int64",
         "type": "integer"
        },
        {
         "name": "push1 dup2 mstore",
         "rawType": "int64",
         "type": "integer"
        },
        {
         "name": "push1 dup2 push1",
         "rawType": "int64",
         "type": "integer"
        },
        {
         "name": "push1 dup2 sha3",
         "rawType": "int64",
         "type": "integer"
        },
        {
         "name": "push1 dup2 swap1",
         "rawType": "int64",
         "type": "integer"
        },
        {
         "name": "push1 dup3",
         "rawType": "int64",
         "type": "integer"
        },
        {
         "name": "push1 dup3 add",
         "rawType": "int64",
         "type": "integer"
        },
        {
         "name": "push1 dup3 dup3",
         "rawType": "int64",
         "type": "integer"
        },
        {
         "name": "push1 dup3 dup5",
         "rawType": "int64",
         "type": "integer"
        },
        {
         "name": "push1 dup4",
         "rawType": "int64",
         "type": "integer"
        },
        {
         "name": "push1 dup4 add",
         "rawType": "int64",
         "type": "integer"
        },
        {
         "name": "push1 dup4 dup6",
         "rawType": "int64",
         "type": "integer"
        },
        {
         "name": "push1 dup4 push2",
         "rawType": "int64",
         "type": "integer"
        },
        {
         "name": "push1 dup5",
         "rawType": "int64",
         "type": "integer"
        },
        {
         "name": "push1 dup5 add",
         "rawType": "int64",
         "type": "integer"
        },
        {
         "name": "push1 dup5 push20",
         "rawType": "int64",
         "type": "integer"
        },
        {
         "name": "push1 dup6",
         "rawType": "int64",
         "type": "integer"
        },
        {
         "name": "push1 dup6 push20",
         "rawType": "int64",
         "type": "integer"
        },
        {
         "name": "push1 dup7",
         "rawType": "int64",
         "type": "integer"
        },
        {
         "name": "push1 dup8",
         "rawType": "int64",
         "type": "integer"
        },
        {
         "name": "push1 jumpdest",
         "rawType": "int64",
         "type": "integer"
        },
        {
         "name": "push1 jumpdest dup4",
         "rawType": "int64",
         "type": "integer"
        },
        {
         "name": "push1 lt",
         "rawType": "int64",
         "type": "integer"
        },
        {
         "name": "push1 lt push2",
         "rawType": "int64",
         "type": "integer"
        },
        {
         "name": "push1 mload",
         "rawType": "int64",
         "type": "integer"
        },
        {
         "name": "push1 mload dup1",
         "rawType": "int64",
         "type": "integer"
        },
        {
         "name": "push1 mload push1",
         "rawType": "int64",
         "type": "integer"
        },
        {
         "name": "push1 mload push2",
         "rawType": "int64",
         "type": "integer"
        },
        {
         "name": "push1 mload push3",
         "rawType": "int64",
         "type": "integer"
        },
        {
         "name": "push1 mload push32",
         "rawType": "int64",
         "type": "integer"
        },
        {
         "name": "push1 mload push4",
         "rawType": "int64",
         "type": "integer"
        },
        {
         "name": "push1 mload returndatasize",
         "rawType": "int64",
         "type": "integer"
        },
        {
         "name": "push1 mload swap1",
         "rawType": "int64",
         "type": "integer"
        },
        {
         "name": "push1 mstore",
         "rawType": "int64",
         "type": "integer"
        },
        {
         "name": "push1 mstore dup1",
         "rawType": "int64",
         "type": "integer"
        },
        {
         "name": "push1 mstore pop",
         "rawType": "int64",
         "type": "integer"
        },
        {
         "name": "push1 mstore push1",
         "rawType": "int64",
         "type": "integer"
        },
        {
         "name": "push1 mul",
         "rawType": "int64",
         "type": "integer"
        },
        {
         "name": "push1 not",
         "rawType": "int64",
         "type": "integer"
        },
        {
         "name": "push1 not and",
         "rawType": "int64",
         "type": "integer"
        },
        {
         "name": "push1 not push1",
         "rawType": "int64",
         "type": "integer"
        },
        {
         "name": "push1 push1",
         "rawType": "int64",
         "type": "integer"
        },
        {
         "name": "push1 push1 dup1",
         "rawType": "int64",
         "type": "integer"
        },
        {
         "name": "push1 push1 dup3",
         "rawType": "int64",
         "type": "integer"
        },
        {
         "name": "push1 push1 dup5",
         "rawType": "int64",
         "type": "integer"
        },
        {
         "name": "push1 push1 dup6",
         "rawType": "int64",
         "type": "integer"
        },
        {
         "name": "push1 push1 mload",
         "rawType": "int64",
         "type": "integer"
        },
        {
         "name": "push1 push1 mstore",
         "rawType": "int64",
         "type": "integer"
        },
        {
         "name": "push1 push1 push1",
         "rawType": "int64",
         "type": "integer"
        },
        {
         "name": "push1 push1 push2",
         "rawType": "int64",
         "type": "integer"
        },
        {
         "name": "push1 push1 revert",
         "rawType": "int64",
         "type": "integer"
        },
        {
         "name": "push1 push1 sha3",
         "rawType": "int64",
         "type": "integer"
        },
        {
         "name": "push1 push1 shl",
         "rawType": "int64",
         "type": "integer"
        },
        {
         "name": "push1 push1 swap1",
         "rawType": "int64",
         "type": "integer"
        },
        {
         "name": "push1 push2",
         "rawType": "int64",
         "type": "integer"
        },
        {
         "name": "push1 push2 dup3",
         "rawType": "int64",
         "type": "integer"
        },
        {
         "name": "push1 push2 dup4",
         "rawType": "int64",
         "type": "integer"
        },
        {
         "name": "push1 push2 dup5",
         "rawType": "int64",
         "type": "integer"
        },
        {
         "name": "push1 push2 exp",
         "rawType": "int64",
         "type": "integer"
        },
        {
         "name": "push1 push2 jump",
         "rawType": "int64",
         "type": "integer"
        },
        {
         "name": "push1 push2 push1",
         "rawType": "int64",
         "type": "integer"
        },
        {
         "name": "push1 push2 push2",
         "rawType": "int64",
         "type": "integer"
        },
        {
         "name": "push1 push20",
         "rawType": "int64",
         "type": "integer"
        },
        {
         "name": "push1 push20 and",
         "rawType": "int64",
         "type": "integer"
        },
        {
         "name": "push1 revert",
         "rawType": "int64",
         "type": "integer"
        },
        {
         "name": "push1 revert jumpdest",
         "rawType": "int64",
         "type": "integer"
        },
        {
         "name": "push1 sha3",
         "rawType": "int64",
         "type": "integer"
        },
        {
         "name": "push1 sha3 dup2",
         "rawType": "int64",
         "type": "integer"
        },
        {
         "name": "push1 sha3 push1",
         "rawType": "int64",
         "type": "integer"
        },
        {
         "name": "push1 sha3 sload",
         "rawType": "int64",
         "type": "integer"
        },
        {
         "name": "push1 sha3 swap1",
         "rawType": "int64",
         "type": "integer"
        },
        {
         "name": "push1 shl",
         "rawType": "int64",
         "type": "integer"
        },
        {
         "name": "push1 shl dup2",
         "rawType": "int64",
         "type": "integer"
        },
        {
         "name": "push1 shl push1",
         "rawType": "int64",
         "type": "integer"
        },
        {
         "name": "push1 shl sub",
         "rawType": "int64",
         "type": "integer"
        },
        {
         "name": "push1 shl swap1",
         "rawType": "int64",
         "type": "integer"
        },
        {
         "name": "push1 shr",
         "rawType": "int64",
         "type": "integer"
        },
        {
         "name": "push1 sload",
         "rawType": "int64",
         "type": "integer"
        },
        {
         "name": "push1 sload dup2",
         "rawType": "int64",
         "type": "integer"
        },
        {
         "name": "push1 sload push1",
         "rawType": "int64",
         "type": "integer"
        },
        {
         "name": "push1 sload push2",
         "rawType": "int64",
         "type": "integer"
        },
        {
         "name": "push1 sstore",
         "rawType": "int64",
         "type": "integer"
        },
        {
         "name": "push1 swap1",
         "rawType": "int64",
         "type": "integer"
        },
        {
         "name": "push1 swap1 dup2",
         "rawType": "int64",
         "type": "integer"
        },
        {
         "name": "push1 swap1 pop",
         "rawType": "int64",
         "type": "integer"
        },
        {
         "name": "push1 swap1 sha3",
         "rawType": "int64",
         "type": "integer"
        },
        {
         "name": "push1 swap1 sload",
         "rawType": "int64",
         "type": "integer"
        },
        {
         "name": "push1 swap2",
         "rawType": "int64",
         "type": "integer"
        },
        {
         "name": "push1 swap2 codecopy",
         "rawType": "int64",
         "type": "integer"
        },
        {
         "name": "push1 swap2 dup3",
         "rawType": "int64",
         "type": "integer"
        },
        {
         "name": "push1 swap2 pop",
         "rawType": "int64",
         "type": "integer"
        },
        {
         "name": "push1 swap3",
         "rawType": "int64",
         "type": "integer"
        },
        {
         "name": "push1 swap4",
         "rawType": "int64",
         "type": "integer"
        },
        {
         "name": "push2 calldatasize",
         "rawType": "int64",
         "type": "integer"
        },
        {
         "name": "push2 calldatasize push1",
         "rawType": "int64",
         "type": "integer"
        },
        {
         "name": "push2 caller",
         "rawType": "int64",
         "type": "integer"
        },
        {
         "name": "push2 dup1",
         "rawType": "int64",
         "type": "integer"
        },
        {
         "name": "push2 dup1 dup4",
         "rawType": "int64",
         "type": "integer"
        },
        {
         "name": "push2 dup2",
         "rawType": "int64",
         "type": "integer"
        },
        {
         "name": "push2 dup2 dup6",
         "rawType": "int64",
         "type": "integer"
        },
        {
         "name": "push2 dup2 push1",
         "rawType": "int64",
         "type": "integer"
        },
        {
         "name": "push2 dup2 push2",
         "rawType": "int64",
         "type": "integer"
        },
        {
         "name": "push2 dup3",
         "rawType": "int64",
         "type": "integer"
        },
        {
         "name": "push2 dup3 push2",
         "rawType": "int64",
         "type": "integer"
        },
        {
         "name": "push2 dup4",
         "rawType": "int64",
         "type": "integer"
        },
        {
         "name": "push2 dup4 dup4",
         "rawType": "int64",
         "type": "integer"
        },
        {
         "name": "push2 dup4 push2",
         "rawType": "int64",
         "type": "integer"
        },
        {
         "name": "push2 dup5",
         "rawType": "int64",
         "type": "integer"
        },
        {
         "name": "push2 dup5 dup5",
         "rawType": "int64",
         "type": "integer"
        },
        {
         "name": "push2 dup5 push2",
         "rawType": "int64",
         "type": "integer"
        },
        {
         "name": "push2 dup6",
         "rawType": "int64",
         "type": "integer"
        },
        {
         "name": "push2 dup6 dup3",
         "rawType": "int64",
         "type": "integer"
        },
        {
         "name": "push2 dup6 push1",
         "rawType": "int64",
         "type": "integer"
        },
        {
         "name": "push2 dup7",
         "rawType": "int64",
         "type": "integer"
        },
        {
         "name": "push2 exp",
         "rawType": "int64",
         "type": "integer"
        },
        {
         "name": "push2 exp dup2",
         "rawType": "int64",
         "type": "integer"
        },
        {
         "name": "push2 exp swap1",
         "rawType": "int64",
         "type": "integer"
        },
        {
         "name": "push2 jump",
         "rawType": "int64",
         "type": "integer"
        },
        {
         "name": "push2 jump jumpdest",
         "rawType": "int64",
         "type": "integer"
        },
        {
         "name": "push2 jumpi",
         "rawType": "int64",
         "type": "integer"
        },
        {
         "name": "push2 jumpi dup1",
         "rawType": "int64",
         "type": "integer"
        },
        {
         "name": "push2 jumpi dup2",
         "rawType": "int64",
         "type": "integer"
        },
        {
         "name": "push2 jumpi dup3",
         "rawType": "int64",
         "type": "integer"
        },
        {
         "name": "push2 jumpi missing",
         "rawType": "int64",
         "type": "integer"
        },
        {
         "name": "push2 jumpi pop",
         "rawType": "int64",
         "type": "integer"
        },
        {
         "name": "push2 jumpi push1",
         "rawType": "int64",
         "type": "integer"
        },
        {
         "name": "push2 jumpi push2",
         "rawType": "int64",
         "type": "integer"
        },
        {
         "name": "push2 jumpi returndatasize",
         "rawType": "int64",
         "type": "integer"
        },
        {
         "name": "push2 push1",
         "rawType": "int64",
         "type": "integer"
        },
        {
         "name": "push2 push1 dup1",
         "rawType": "int64",
         "type": "integer"
        },
        {
         "name": "push2 push1 dup4",
         "rawType": "int64",
         "type": "integer"
        },
        {
         "name": "push2 push1 sload",
         "rawType": "int64",
         "type": "integer"
        },
        {
         "name": "push2 push1 swap2",
         "rawType": "int64",
         "type": "integer"
        },
        {
         "name": "push2 push2",
         "rawType": "int64",
         "type": "integer"
        },
        {
         "name": "push2 push2 calldatasize",
         "rawType": "int64",
         "type": "integer"
        },
        {
         "name": "push2 push2 jump",
         "rawType": "int64",
         "type": "integer"
        },
        {
         "name": "push2 push2 push2",
         "rawType": "int64",
         "type": "integer"
        },
        {
         "name": "push2 swap1",
         "rawType": "int64",
         "type": "integer"
        },
        {
         "name": "push2 swap1 push1",
         "rawType": "int64",
         "type": "integer"
        },
        {
         "name": "push2 swap1 push2",
         "rawType": "int64",
         "type": "integer"
        },
        {
         "name": "push2 swap1 swap2",
         "rawType": "int64",
         "type": "integer"
        },
        {
         "name": "push2 swap1 swap3",
         "rawType": "int64",
         "type": "integer"
        },
        {
         "name": "push2 swap2",
         "rawType": "int64",
         "type": "integer"
        },
        {
         "name": "push2 swap2 swap1",
         "rawType": "int64",
         "type": "integer"
        },
        {
         "name": "push20 and",
         "rawType": "int64",
         "type": "integer"
        },
        {
         "name": "push20 and dup2",
         "rawType": "int64",
         "type": "integer"
        },
        {
         "name": "push20 and dup4",
         "rawType": "int64",
         "type": "integer"
        },
        {
         "name": "push20 and eq",
         "rawType": "int64",
         "type": "integer"
        },
        {
         "name": "push20 and push1",
         "rawType": "int64",
         "type": "integer"
        },
        {
         "name": "push20 and push20",
         "rawType": "int64",
         "type": "integer"
        },
        {
         "name": "push20 and push32",
         "rawType": "int64",
         "type": "integer"
        },
        {
         "name": "push20 and swap1",
         "rawType": "int64",
         "type": "integer"
        },
        {
         "name": "push3 jump",
         "rawType": "int64",
         "type": "integer"
        },
        {
         "name": "push3 jump jumpdest",
         "rawType": "int64",
         "type": "integer"
        },
        {
         "name": "push3 jumpi",
         "rawType": "int64",
         "type": "integer"
        },
        {
         "name": "push3 jumpi dup1",
         "rawType": "int64",
         "type": "integer"
        },
        {
         "name": "push3 jumpi push1",
         "rawType": "int64",
         "type": "integer"
        },
        {
         "name": "push3 push1",
         "rawType": "int64",
         "type": "integer"
        },
        {
         "name": "push3 push1 shl",
         "rawType": "int64",
         "type": "integer"
        },
        {
         "name": "push3 push3",
         "rawType": "int64",
         "type": "integer"
        },
        {
         "name": "push3 push3 jump",
         "rawType": "int64",
         "type": "integer"
        },
        {
         "name": "push3 swap1",
         "rawType": "int64",
         "type": "integer"
        },
        {
         "name": "push32 dup2",
         "rawType": "int64",
         "type": "integer"
        },
        {
         "name": "push32 dup2 mstore",
         "rawType": "int64",
         "type": "integer"
        },
        {
         "name": "push32 push1",
         "rawType": "int64",
         "type": "integer"
        },
        {
         "name": "push32 push1 dup3",
         "rawType": "int64",
         "type": "integer"
        },
        {
         "name": "push32 swap1",
         "rawType": "int64",
         "type": "integer"
        },
        {
         "name": "push32 swap2",
         "rawType": "int64",
         "type": "integer"
        },
        {
         "name": "push4 and",
         "rawType": "int64",
         "type": "integer"
        },
        {
         "name": "push4 and jump",
         "rawType": "int64",
         "type": "integer"
        },
        {
         "name": "push4 and push1",
         "rawType": "int64",
         "type": "integer"
        },
        {
         "name": "push4 eq",
         "rawType": "int64",
         "type": "integer"
        },
        {
         "name": "push4 eq push2",
         "rawType": "int64",
         "type": "integer"
        },
        {
         "name": "push4 gt",
         "rawType": "int64",
         "type": "integer"
        },
        {
         "name": "push4 gt push2",
         "rawType": "int64",
         "type": "integer"
        },
        {
         "name": "push4 push1",
         "rawType": "int64",
         "type": "integer"
        },
        {
         "name": "push4 push1 shl",
         "rawType": "int64",
         "type": "integer"
        },
        {
         "name": "push4 swap1",
         "rawType": "int64",
         "type": "integer"
        },
        {
         "name": "return jumpdest",
         "rawType": "int64",
         "type": "integer"
        },
        {
         "name": "return jumpdest callvalue",
         "rawType": "int64",
         "type": "integer"
        },
        {
         "name": "return jumpdest push2",
         "rawType": "int64",
         "type": "integer"
        },
        {
         "name": "returndatacopy returndatasize",
         "rawType": "int64",
         "type": "integer"
        },
        {
         "name": "returndatacopy returndatasize push1",
         "rawType": "int64",
         "type": "integer"
        },
        {
         "name": "returndatasize push1",
         "rawType": "int64",
         "type": "integer"
        },
        {
         "name": "returndatasize push1 dup1",
         "rawType": "int64",
         "type": "integer"
        },
        {
         "name": "returndatasize push1 not",
         "rawType": "int64",
         "type": "integer"
        },
        {
         "name": "returndatasize push1 revert",
         "rawType": "int64",
         "type": "integer"
        },
        {
         "name": "revert jumpdest",
         "rawType": "int64",
         "type": "integer"
        },
        {
         "name": "revert jumpdest dup1",
         "rawType": "int64",
         "type": "integer"
        },
        {
         "name": "revert jumpdest dup2",
         "rawType": "int64",
         "type": "integer"
        },
        {
         "name": "revert jumpdest pop",
         "rawType": "int64",
         "type": "integer"
        },
        {
         "name": "revert jumpdest push1",
         "rawType": "int64",
         "type": "integer"
        },
        {
         "name": "revert jumpdest push2",
         "rawType": "int64",
         "type": "integer"
        },
        {
         "name": "sha3 dup1",
         "rawType": "int64",
         "type": "integer"
        },
        {
         "name": "sha3 dup1 sload",
         "rawType": "int64",
         "type": "integer"
        },
        {
         "name": "sha3 dup2",
         "rawType": "int64",
         "type": "integer"
        },
        {
         "name": "sha3 dup2 swap1",
         "rawType": "int64",
         "type": "integer"
        },
        {
         "name": "sha3 push1",
         "rawType": "int64",
         "type": "integer"
        },
        {
         "name": "sha3 sload",
         "rawType": "int64",
         "type": "integer"
        },
        {
         "name": "sha3 sload push1",
         "rawType": "int64",
         "type": "integer"
        },
        {
         "name": "sha3 sload push2",
         "rawType": "int64",
         "type": "integer"
        },
        {
         "name": "sha3 sload swap1",
         "rawType": "int64",
         "type": "integer"
        },
        {
         "name": "sha3 swap1",
         "rawType": "int64",
         "type": "integer"
        },
        {
         "name": "sha3 swap1 jumpdest",
         "rawType": "int64",
         "type": "integer"
        },
        {
         "name": "sha3 swap4",
         "rawType": "int64",
         "type": "integer"
        },
        {
         "name": "sha3 swap4 swap1",
         "rawType": "int64",
         "type": "integer"
        },
        {
         "name": "shl dup2",
         "rawType": "int64",
         "type": "integer"
        },
        {
         "name": "shl dup2 mstore",
         "rawType": "int64",
         "type": "integer"
        },
        {
         "name": "shl push1",
         "rawType": "int64",
         "type": "integer"
        },
        {
         "name": "shl push1 dup3",
         "rawType": "int64",
         "type": "integer"
        },
        {
         "name": "shl push1 mstore",
         "rawType": "int64",
         "type": "integer"
        },
        {
         "name": "shl sub",
         "rawType": "int64",
         "type": "integer"
        },
        {
         "name": "shl sub and",
         "rawType": "int64",
         "type": "integer"
        },
        {
         "name": "shl sub dup1",
         "rawType": "int64",
         "type": "integer"
        },
        {
         "name": "shl sub dup2",
         "rawType": "int64",
         "type": "integer"
        },
        {
         "name": "shl sub dup3",
         "rawType": "int64",
         "type": "integer"
        },
        {
         "name": "shl sub dup4",
         "rawType": "int64",
         "type": "integer"
        },
        {
         "name": "shl sub dup5",
         "rawType": "int64",
         "type": "integer"
        },
        {
         "name": "shl sub dup6",
         "rawType": "int64",
         "type": "integer"
        },
        {
         "name": "shl sub not",
         "rawType": "int64",
         "type": "integer"
        },
        {
         "name": "shl sub swap1",
         "rawType": "int64",
         "type": "integer"
        },
        {
         "name": "shl swap1",
         "rawType": "int64",
         "type": "integer"
        },
        {
         "name": "shl swap1 div",
         "rawType": "int64",
         "type": "integer"
        },
        {
         "name": "sload div",
         "rawType": "int64",
         "type": "integer"
        },
        {
         "name": "sload div mul",
         "rawType": "int64",
         "type": "integer"
        },
        {
         "name": "sload dup2",
         "rawType": "int64",
         "type": "integer"
        },
        {
         "name": "sload dup2 jump",
         "rawType": "int64",
         "type": "integer"
        },
        {
         "name": "sload push1",
         "rawType": "int64",
         "type": "integer"
        },
        {
         "name": "sload push1 and",
         "rawType": "int64",
         "type": "integer"
        },
        {
         "name": "sload push1 mload",
         "rawType": "int64",
         "type": "integer"
        },
        {
         "name": "sload push1 not",
         "rawType": "int64",
         "type": "integer"
        },
        {
         "name": "sload push1 push1",
         "rawType": "int64",
         "type": "integer"
        },
        {
         "name": "sload push1 sload",
         "rawType": "int64",
         "type": "integer"
        },
        {
         "name": "sload push2",
         "rawType": "int64",
         "type": "integer"
        },
        {
         "name": "sload push2 swap1",
         "rawType": "int64",
         "type": "integer"
        },
        {
         "name": "sload push2 swap2",
         "rawType": "int64",
         "type": "integer"
        },
        {
         "name": "sload swap1",
         "rawType": "int64",
         "type": "integer"
        },
        {
         "name": "sload swap1 jump",
         "rawType": "int64",
         "type": "integer"
        },
        {
         "name": "sload swap1 pop",
         "rawType": "int64",
         "type": "integer"
        },
        {
         "name": "sload swap1 push2",
         "rawType": "int64",
         "type": "integer"
        },
        {
         "name": "slt iszero",
         "rawType": "int64",
         "type": "integer"
        },
        {
         "name": "slt iszero push2",
         "rawType": "int64",
         "type": "integer"
        },
        {
         "name": "sstore jump",
         "rawType": "int64",
         "type": "integer"
        },
        {
         "name": "sstore jump jumpdest",
         "rawType": "int64",
         "type": "integer"
        },
        {
         "name": "sstore pop",
         "rawType": "int64",
         "type": "integer"
        },
        {
         "name": "sstore pop pop",
         "rawType": "int64",
         "type": "integer"
        },
        {
         "name": "sstore pop push2",
         "rawType": "int64",
         "type": "integer"
        },
        {
         "name": "sstore push1",
         "rawType": "int64",
         "type": "integer"
        },
        {
         "name": "staticcall iszero",
         "rawType": "int64",
         "type": "integer"
        },
        {
         "name": "staticcall iszero dup1",
         "rawType": "int64",
         "type": "integer"
        },
        {
         "name": "stop jumpdest",
         "rawType": "int64",
         "type": "integer"
        },
        {
         "name": "stop stop",
         "rawType": "int64",
         "type": "integer"
        },
        {
         "name": "stop stop stop",
         "rawType": "int64",
         "type": "integer"
        },
        {
         "name": "sub and",
         "rawType": "int64",
         "type": "integer"
        },
        {
         "name": "sub and caller",
         "rawType": "int64",
         "type": "integer"
        },
        {
         "name": "sub and dup2",
         "rawType": "int64",
         "type": "integer"
        },
        {
         "name": "sub and push1",
         "rawType": "int64",
         "type": "integer"
        },
        {
         "name": "sub and push2",
         "rawType": "int64",
         "type": "integer"
        },
        {
         "name": "sub dup1",
         "rawType": "int64",
         "type": "integer"
        },
        {
         "name": "sub dup2",
         "rawType": "int64",
         "type": "integer"
        },
        {
         "name": "sub dup2 add",
         "rawType": "int64",
         "type": "integer"
        },
        {
         "name": "sub dup2 and",
         "rawType": "int64",
         "type": "integer"
        },
        {
         "name": "sub dup2 dup7",
         "rawType": "int64",
         "type": "integer"
        },
        {
         "name": "sub dup2 push1",
         "rawType": "int64",
         "type": "integer"
        },
        {
         "name": "sub dup3",
         "rawType": "int64",
         "type": "integer"
        },
        {
         "name": "sub dup3 and",
         "rawType": "int64",
         "type": "integer"
        },
        {
         "name": "sub dup3 mstore",
         "rawType": "int64",
         "type": "integer"
        },
        {
         "name": "sub dup4",
         "rawType": "int64",
         "type": "integer"
        },
        {
         "name": "sub dup4 and",
         "rawType": "int64",
         "type": "integer"
        },
        {
         "name": "sub dup5",
         "rawType": "int64",
         "type": "integer"
        },
        {
         "name": "sub dup6",
         "rawType": "int64",
         "type": "integer"
        },
        {
         "name": "sub not",
         "rawType": "int64",
         "type": "integer"
        },
        {
         "name": "sub not and",
         "rawType": "int64",
         "type": "integer"
        },
        {
         "name": "sub push1",
         "rawType": "int64",
         "type": "integer"
        },
        {
         "name": "sub push1 add",
         "rawType": "int64",
         "type": "integer"
        },
        {
         "name": "sub push1 dup2",
         "rawType": "int64",
         "type": "integer"
        },
        {
         "name": "sub push1 dup4",
         "rawType": "int64",
         "type": "integer"
        },
        {
         "name": "sub push2",
         "rawType": "int64",
         "type": "integer"
        },
        {
         "name": "sub push2 jumpi",
         "rawType": "int64",
         "type": "integer"
        },
        {
         "name": "sub slt",
         "rawType": "int64",
         "type": "integer"
        },
        {
         "name": "sub slt iszero",
         "rawType": "int64",
         "type": "integer"
        },
        {
         "name": "sub swap1",
         "rawType": "int64",
         "type": "integer"
        },
        {
         "name": "sub swap1 log3",
         "rawType": "int64",
         "type": "integer"
        },
        {
         "name": "sub swap1 return",
         "rawType": "int64",
         "type": "integer"
        },
        {
         "name": "sub swap1 revert",
         "rawType": "int64",
         "type": "integer"
        },
        {
         "name": "sub swap1 swap2",
         "rawType": "int64",
         "type": "integer"
        },
        {
         "name": "swap1 div",
         "rawType": "int64",
         "type": "integer"
        },
        {
         "name": "swap1 div push1",
         "rawType": "int64",
         "type": "integer"
        },
        {
         "name": "swap1 div push20",
         "rawType": "int64",
         "type": "integer"
        },
        {
         "name": "swap1 dup1",
         "rawType": "int64",
         "type": "integer"
        },
        {
         "name": "swap1 dup1 calldataload",
         "rawType": "int64",
         "type": "integer"
        },
        {
         "name": "swap1 dup1 dup1",
         "rawType": "int64",
         "type": "integer"
        },
        {
         "name": "swap1 dup2",
         "rawType": "int64",
         "type": "integer"
        },
        {
         "name": "swap1 dup2 add",
         "rawType": "int64",
         "type": "integer"
        },
        {
         "name": "swap1 dup2 and",
         "rawType": "int64",
         "type": "integer"
        },
        {
         "name": "swap1 dup2 dup2",
         "rawType": "int64",
         "type": "integer"
        },
        {
         "name": "swap1 dup2 mstore",
         "rawType": "int64",
         "type": "integer"
        },
        {
         "name": "swap1 dup2 swap1",
         "rawType": "int64",
         "type": "integer"
        },
        {
         "name": "swap1 dup3",
         "rawType": "int64",
         "type": "integer"
        },
        {
         "name": "swap1 dup4",
         "rawType": "int64",
         "type": "integer"
        },
        {
         "name": "swap1 dup5",
         "rawType": "int64",
         "type": "integer"
        },
        {
         "name": "swap1 jump",
         "rawType": "int64",
         "type": "integer"
        },
        {
         "name": "swap1 jump jumpdest",
         "rawType": "int64",
         "type": "integer"
        },
        {
         "name": "swap1 jumpdest",
         "rawType": "int64",
         "type": "integer"
        },
        {
         "name": "swap1 jumpdest dup2",
         "rawType": "int64",
         "type": "integer"
        },
        {
         "name": "swap1 log3",
         "rawType": "int64",
         "type": "integer"
        },
        {
         "name": "swap1 log3 pop",
         "rawType": "int64",
         "type": "integer"
        },
        {
         "name": "swap1 mload",
         "rawType": "int64",
         "type": "integer"
        },
        {
         "name": "swap1 mstore",
         "rawType": "int64",
         "type": "integer"
        },
        {
         "name": "swap1 mstore push1",
         "rawType": "int64",
         "type": "integer"
        },
        {
         "name": "swap1 pop",
         "rawType": "int64",
         "type": "integer"
        },
        {
         "name": "swap1 pop dup1",
         "rawType": "int64",
         "type": "integer"
        },
        {
         "name": "swap1 pop dup2",
         "rawType": "int64",
         "type": "integer"
        },
        {
         "name": "swap1 pop jump",
         "rawType": "int64",
         "type": "integer"
        },
        {
         "name": "swap1 pop pop",
         "rawType": "int64",
         "type": "integer"
        },
        {
         "name": "swap1 pop push1",
         "rawType": "int64",
         "type": "integer"
        },
        {
         "name": "swap1 pop push2",
         "rawType": "int64",
         "type": "integer"
        },
        {
         "name": "swap1 pop swap1",
         "rawType": "int64",
         "type": "integer"
        },
        {
         "name": "swap1 pop swap2",
         "rawType": "int64",
         "type": "integer"
        },
        {
         "name": "swap1 pop swap3",
         "rawType": "int64",
         "type": "integer"
        },
        {
         "name": "swap1 push1",
         "rawType": "int64",
         "type": "integer"
        },
        {
         "name": "swap1 push1 add",
         "rawType": "int64",
         "type": "integer"
        },
        {
         "name": "swap1 push1 mstore",
         "rawType": "int64",
         "type": "integer"
        },
        {
         "name": "swap1 push1 push1",
         "rawType": "int64",
         "type": "integer"
        },
        {
         "name": "swap1 push2",
         "rawType": "int64",
         "type": "integer"
        },
        {
         "name": "swap1 push2 exp",
         "rawType": "int64",
         "type": "integer"
        },
        {
         "name": "swap1 push2 jump",
         "rawType": "int64",
         "type": "integer"
        },
        {
         "name": "swap1 push2 swap1",
         "rawType": "int64",
         "type": "integer"
        },
        {
         "name": "swap1 push2 swap2",
         "rawType": "int64",
         "type": "integer"
        },
        {
         "name": "swap1 push3",
         "rawType": "int64",
         "type": "integer"
        },
        {
         "name": "swap1 push3 jump",
         "rawType": "int64",
         "type": "integer"
        },
        {
         "name": "swap1 push4",
         "rawType": "int64",
         "type": "integer"
        },
        {
         "name": "swap1 push4 and",
         "rawType": "int64",
         "type": "integer"
        },
        {
         "name": "swap1 return",
         "rawType": "int64",
         "type": "integer"
        },
        {
         "name": "swap1 return jumpdest",
         "rawType": "int64",
         "type": "integer"
        },
        {
         "name": "swap1 revert",
         "rawType": "int64",
         "type": "integer"
        },
        {
         "name": "swap1 revert jumpdest",
         "rawType": "int64",
         "type": "integer"
        },
        {
         "name": "swap1 sha3",
         "rawType": "int64",
         "type": "integer"
        },
        {
         "name": "swap1 sha3 sload",
         "rawType": "int64",
         "type": "integer"
        },
        {
         "name": "swap1 sload",
         "rawType": "int64",
         "type": "integer"
        },
        {
         "name": "swap1 sload swap1",
         "rawType": "int64",
         "type": "integer"
        },
        {
         "name": "swap1 sstore",
         "rawType": "int64",
         "type": "integer"
        },
        {
         "name": "swap1 sstore jump",
         "rawType": "int64",
         "type": "integer"
        },
        {
         "name": "swap1 sstore pop",
         "rawType": "int64",
         "type": "integer"
        },
        {
         "name": "swap1 sub",
         "rawType": "int64",
         "type": "integer"
        },
        {
         "name": "swap1 sub push1",
         "rawType": "int64",
         "type": "integer"
        },
        {
         "name": "swap1 swap2",
         "rawType": "int64",
         "type": "integer"
        },
        {
         "name": "swap1 swap2 add",
         "rawType": "int64",
         "type": "integer"
        },
        {
         "name": "swap1 swap2 and",
         "rawType": "int64",
         "type": "integer"
        },
        {
         "name": "swap1 swap2 mstore",
         "rawType": "int64",
         "type": "integer"
        },
        {
         "name": "swap1 swap2 or",
         "rawType": "int64",
         "type": "integer"
        },
        {
         "name": "swap1 swap2 sstore",
         "rawType": "int64",
         "type": "integer"
        },
        {
         "name": "swap1 swap2 swap1",
         "rawType": "int64",
         "type": "integer"
        },
        {
         "name": "swap1 swap3",
         "rawType": "int64",
         "type": "integer"
        },
        {
         "name": "swap1 swap3 and",
         "rawType": "int64",
         "type": "integer"
        },
        {
         "name": "swap1 swap3 swap2",
         "rawType": "int64",
         "type": "integer"
        },
        {
         "name": "swap1 swap4",
         "rawType": "int64",
         "type": "integer"
        },
        {
         "name": "swap1 swap5",
         "rawType": "int64",
         "type": "integer"
        },
        {
         "name": "swap2 add",
         "rawType": "int64",
         "type": "integer"
        },
        {
         "name": "swap2 and",
         "rawType": "int64",
         "type": "integer"
        },
        {
         "name": "swap2 and eq",
         "rawType": "int64",
         "type": "integer"
        },
        {
         "name": "swap2 codecopy",
         "rawType": "int64",
         "type": "integer"
        },
        {
         "name": "swap2 codecopy push1",
         "rawType": "int64",
         "type": "integer"
        },
        {
         "name": "swap2 div",
         "rawType": "int64",
         "type": "integer"
        },
        {
         "name": "swap2 dup3",
         "rawType": "int64",
         "type": "integer"
        },
        {
         "name": "swap2 dup3 swap1",
         "rawType": "int64",
         "type": "integer"
        },
        {
         "name": "swap2 mstore",
         "rawType": "int64",
         "type": "integer"
        },
        {
         "name": "swap2 or",
         "rawType": "int64",
         "type": "integer"
        },
        {
         "name": "swap2 or swap1",
         "rawType": "int64",
         "type": "integer"
        },
        {
         "name": "swap2 pop",
         "rawType": "int64",
         "type": "integer"
        },
        {
         "name": "swap2 pop jumpdest",
         "rawType": "int64",
         "type": "integer"
        },
        {
         "name": "swap2 pop pop",
         "rawType": "int64",
         "type": "integer"
        },
        {
         "name": "swap2 pop push1",
         "rawType": "int64",
         "type": "integer"
        },
        {
         "name": "swap2 pop push2",
         "rawType": "int64",
         "type": "integer"
        },
        {
         "name": "swap2 push1",
         "rawType": "int64",
         "type": "integer"
        },
        {
         "name": "swap2 push1 add",
         "rawType": "int64",
         "type": "integer"
        },
        {
         "name": "swap2 push2",
         "rawType": "int64",
         "type": "integer"
        },
        {
         "name": "swap2 push2 jump",
         "rawType": "int64",
         "type": "integer"
        },
        {
         "name": "swap2 sstore",
         "rawType": "int64",
         "type": "integer"
        },
        {
         "name": "swap2 sub",
         "rawType": "int64",
         "type": "integer"
        },
        {
         "name": "swap2 sub swap1",
         "rawType": "int64",
         "type": "integer"
        },
        {
         "name": "swap2 swap1",
         "rawType": "int64",
         "type": "integer"
        },
        {
         "name": "swap2 swap1 dup1",
         "rawType": "int64",
         "type": "integer"
        },
        {
         "name": "swap2 swap1 dup2",
         "rawType": "int64",
         "type": "integer"
        },
        {
         "name": "swap2 swap1 pop",
         "rawType": "int64",
         "type": "integer"
        },
        {
         "name": "swap2 swap1 push1",
         "rawType": "int64",
         "type": "integer"
        },
        {
         "name": "swap2 swap1 push2",
         "rawType": "int64",
         "type": "integer"
        },
        {
         "name": "swap2 swap1 push4",
         "rawType": "int64",
         "type": "integer"
        },
        {
         "name": "swap2 swap1 swap2",
         "rawType": "int64",
         "type": "integer"
        },
        {
         "name": "swap3 and",
         "rawType": "int64",
         "type": "integer"
        },
        {
         "name": "swap3 dup4",
         "rawType": "int64",
         "type": "integer"
        },
        {
         "name": "swap3 mstore",
         "rawType": "int64",
         "type": "integer"
        },
        {
         "name": "swap3 pop",
         "rawType": "int64",
         "type": "integer"
        },
        {
         "name": "swap3 pop pop",
         "rawType": "int64",
         "type": "integer"
        },
        {
         "name": "swap3 pop swap3",
         "rawType": "int64",
         "type": "integer"
        },
        {
         "name": "swap3 swap1",
         "rawType": "int64",
         "type": "integer"
        },
        {
         "name": "swap3 swap1 pop",
         "rawType": "int64",
         "type": "integer"
        },
        {
         "name": "swap3 swap1 swap3",
         "rawType": "int64",
         "type": "integer"
        },
        {
         "name": "swap3 swap2",
         "rawType": "int64",
         "type": "integer"
        },
        {
         "name": "swap3 swap2 pop",
         "rawType": "int64",
         "type": "integer"
        },
        {
         "name": "swap3 swap2 swap1",
         "rawType": "int64",
         "type": "integer"
        },
        {
         "name": "swap4 pop",
         "rawType": "int64",
         "type": "integer"
        },
        {
         "name": "swap4 pop pop",
         "rawType": "int64",
         "type": "integer"
        },
        {
         "name": "swap4 swap1",
         "rawType": "int64",
         "type": "integer"
        },
        {
         "name": "swap4 swap1 swap4",
         "rawType": "int64",
         "type": "integer"
        },
        {
         "name": "swap4 swap3",
         "rawType": "int64",
         "type": "integer"
        },
        {
         "name": "swap4 swap3 pop",
         "rawType": "int64",
         "type": "integer"
        },
        {
         "name": "swap5 pop",
         "rawType": "int64",
         "type": "integer"
        }
       ],
       "ref": "b72adc92-b5f6-4e09-8245-86a4161db2f6",
       "rows": [
        [
         "0x2753dce37a7edb052a77832039bcc9aa49ad8b25",
         "0",
         "0",
         "1",
         "3",
         "0",
         "0",
         "2",
         "0",
         "1",
         "0",
         "1",
         "0",
         "0",
         "0",
         "6",
         "4",
         "2",
         "0",
         "0",
         "0",
         "1",
         "65",
         "0",
         "34",
         "3",
         "16",
         "14",
         "4",
         "2",
         "0",
         "0",
         "39",
         "28",
         "0",
         "10",
         "0",
         "3",
         "10",
         "0",
         "0",
         "5",
         "1",
         "4",
         "0",
         "0",
         "4",
         "0",
         "1",
         "1",
         "1",
         "0",
         "8",
         "8",
         "4",
         "6",
         "0",
         "3",
         "2",
         "1",
         "1",
         "1",
         "5",
         "1",
         "0",
         "0",
         "4",
         "4",
         "0",
         "0",
         "14",
         "2",
         "2",
         "0",
         "7",
         "11",
         "2",
         "8",
         "0",
         "0",
         "1",
         "1",
         "9",
         "0",
         "0",
         "0",
         "4",
         "0",
         "1",
         "0",
         "0",
         "3",
         "0",
         "0",
         "0",
         "1",
         "0",
         "21",
         "21",
         "0",
         "0",
         "0",
         "8",
         "8",
         "8",
         "1",
         "1",
         "0",
         "0",
         "2",
         "1",
         "1",
         "0",
         "0",
         "0",
         "1",
         "0",
         "0",
         "1",
         "0",
         "0",
         "0",
         "0",
         "5",
         "1",
         "0",
         "3",
         "9",
         "1",
         "7",
         "1",
         "0",
         "4",
         "2",
         "0",
         "0",
         "3",
         "3",
         "1",
         "1",
         "0",
         "11",
         "2",
         "0",
         "3",
         "1",
         "0",
         "4",
         "2",
         "2",
         "0",
         "0",
         "0",
         "40",
         "33",
         "7",
         "0",
         "0",
         "18",
         "18",
         "12",
         "7",
         "3",
         "7",
         "6",
         "1",
         "3",
         "1",
         "0",
         "10",
         "3",
         "0",
         "1",
         "11",
         "3",
         "5",
         "0",
         "0",
         "1",
         "2",
         "0",
         "4",
         "3",
         "3",
         "3",
         "1",
         "1",
         "9",
         "5",
         "4",
         "3",
         "3",
         "64",
         "0",
         "60",
         "3",
         "10",
         "0",
         "1",
         "3",
         "2",
         "0",
         "0",
         "4",
         "1",
         "1",
         "0",
         "0",
         "0",
         "8",
         "7",
         "1",
         "0",
         "70",
         "0",
         "0",
         "62",
         "0",
         "2",
         "8",
         "2",
         "3",
         "1",
         "1",
         "6",
         "5",
         "0",
         "7",
         "3",
         "3",
         "1",
         "1",
         "0",
         "1",
         "1",
         "1",
         "1",
         "2",
         "7",
         "2",
         "2",
         "2",
         "8",
         "8",
         "0",
         "0",
         "4",
         "1",
         "0",
         "0",
         "0",
         "6",
         "2",
         "2",
         "6",
         "2",
         "5",
         "0",
         "3",
         "3",
         "3",
         "2",
         "1",
         "2",
         "1",
         "2",
         "0",
         "8",
         "8",
         "0",
         "0",
         "7",
         "1",
         "1",
         "1",
         "0",
         "6",
         "1",
         "0",
         "1",
         "4",
         "2",
         "1",
         "1",
         "4",
         "3",
         "2",
         "2",
         "0",
         "0",
         "6",
         "3",
         "2",
         "3",
         "4",
         "0",
         "1",
         "5",
         "3",
         "1",
         "4",
         "4",
         "0",
         "0",
         "4",
         "3",
         "1",
         "0",
         "0",
         "2",
         "0",
         "0",
         "1",
         "1",
         "3",
         "0",
         "1",
         "1",
         "1",
         "44",
         "44",
         "0",
         "0",
         "0",
         "0",
         "0",
         "0",
         "2",
         "0",
         "0",
         "0",
         "0",
         "0",
         "0",
         "4",
         "4",
         "8",
         "8",
         "0",
         "0",
         "1",
         "1",
         "2",
         "1",
         "0",
         "29",
         "29",
         "0",
         "0",
         "185",
         "0",
         "5",
         "0",
         "1",
         "0",
         "0",
         "0",
         "13",
         "71",
         "70",
         "0",
         "0",
         "3",
         "1",
         "4",
         "2",
         "2",
         "1",
         "0",
         "0",
         "13",
         "1",
         "4",
         "7",
         "2",
         "0",
         "0",
         "1",
         "2",
         "1",
         "2",
         "2",
         "0",
         "1",
         "1",
         "0",
         "0",
         "0",
         "19",
         "0",
         "1",
         "5",
         "6",
         "0",
         "82",
         "11",
         "5",
         "5",
         "11",
         "22",
         "0",
         "0",
         "17",
         "1",
         "1",
         "76",
         "1",
         "10",
         "6",
         "2",
         "19",
         "2",
         "2",
         "29",
         "2",
         "0",
         "0",
         "0",
         "0",
         "0",
         "3",
         "0",
         "1",
         "1",
         "4",
         "3",
         "3",
         "2",
         "3",
         "2",
         "1",
         "1",
         "33",
         "0",
         "1",
         "32",
         "2",
         "1",
         "0",
         "0",
         "2",
         "0",
         "49",
         "17",
         "27",
         "0",
         "11",
         "1",
         "0",
         "9",
         "0",
         "0",
         "3",
         "3",
         "6",
         "6",
         "6",
         "6",
         "0",
         "0",
         "6",
         "0",
         "0",
         "7",
         "0",
         "0",
         "1",
         "6",
         "3",
         "5",
         "2",
         "4",
         "2",
         "27",
         "27",
         "0",
         "0",
         "0",
         "0",
         "0",
         "0",
         "4",
         "2",
         "0",
         "1",
         "5",
         "1",
         "3",
         "0",
         "1",
         "0",
         "0",
         "0",
         "0",
         "0",
         "117",
         "37",
         "10",
         "1",
         "5",
         "55",
         "8",
         "4",
         "1",
         "17",
         "16",
         "2",
         "2",
         "6",
         "0",
         "1",
         "2",
         "4",
         "1",
         "1",
         "1",
         "0",
         "0",
         "0",
         "0",
         "1",
         "1",
         "10",
         "3",
         "6",
         "0",
         "0",
         "4",
         "3",
         "0",
         "1",
         "0",
         "0",
         "1",
         "0",
         "0",
         "20",
         "20",
         "3",
         "1",
         "2",
         "35",
         "15",
         "15",
         "3",
         "0",
         "1",
         "0",
         "14",
         "0",
         "1",
         "2",
         "1",
         "1",
         "4",
         "0",
         "0",
         "0",
         "1",
         "3",
         "0",
         "3",
         "1",
         "2",
         "1",
         "1",
         "5",
         "3",
         "1",
         "0",
         "0",
         "53",
         "1",
         "2",
         "6",
         "33",
         "0",
         "4",
         "1",
         "9",
         "0",
         "3",
         "3",
         "44",
         "0",
         "4",
         "6",
         "1",
         "4",
         "0",
         "18",
         "8",
         "18",
         "0",
         "5",
         "1",
         "1",
         "2",
         "1",
         "1",
         "3",
         "75",
         "63",
         "1",
         "3",
         "5",
         "0",
         "3",
         "1",
         "6",
         "5",
         "0",
         "3",
         "0",
         "0",
         "1",
         "1",
         "1",
         "1",
         "1",
         "45",
         "6",
         "4",
         "2",
         "27",
         "0",
         "0",
         "0",
         "4",
         "17",
         "2",
         "0",
         "14",
         "0",
         "10",
         "6",
         "0",
         "171",
         "2",
         "32",
         "1",
         "0",
         "0",
         "10",
         "53",
         "1",
         "4",
         "1",
         "56",
         "7",
         "30",
         "0",
         "1",
         "1",
         "0",
         "28",
         "0",
         "0",
         "0",
         "0",
         "4",
         "4",
         "1",
         "0",
         "0",
         "0",
         "1",
         "105",
         "29",
         "19",
         "53",
         "0",
         "1",
         "18",
         "0",
         "15",
         "2",
         "0",
         "23",
         "15",
         "0",
         "3",
         "0",
         "3",
         "0",
         "1",
         "0",
         "0",
         "2",
         "21",
         "21",
         "2",
         "1",
         "1",
         "13",
         "2",
         "4",
         "2",
         "10",
         "2",
         "7",
         "3",
         "2",
         "3",
         "1",
         "1",
         "2",
         "1",
         "0",
         "0",
         "0",
         "0",
         "0",
         "145",
         "145",
         "101",
         "33",
         "2",
         "1",
         "0",
         "2",
         "49",
         "11",
         "0",
         "8",
         "0",
         "0",
         "0",
         "0",
         "38",
         "21",
         "17",
         "0",
         "21",
         "3",
         "13",
         "0",
         "0",
         "3",
         "1",
         "0",
         "0",
         "0",
         "0",
         "0",
         "0",
         "0",
         "0",
         "0",
         "0",
         "0",
         "0",
         "0",
         "29",
         "29",
         "0",
         "0",
         "0",
         "1",
         "1",
         "16",
         "16",
         "1",
         "4",
         "0",
         "0",
         "0",
         "33",
         "33",
         "7",
         "7",
         "7",
         "7",
         "0",
         "1",
         "0",
         "1",
         "0",
         "0",
         "0",
         "0",
         "0",
         "0",
         "23",
         "8",
         "1",
         "3",
         "3",
         "5",
         "3",
         "3",
         "0",
         "0",
         "5",
         "8",
         "2",
         "0",
         "4",
         "1",
         "1",
         "2",
         "1",
         "29",
         "27",
         "19",
         "13",
         "4",
         "53",
         "15",
         "1",
         "6",
         "4",
         "7",
         "0",
         "2",
         "9",
         "3",
         "0",
         "0",
         "1",
         "1",
         "3",
         "0",
         "24",
         "7",
         "0",
         "5",
         "12",
         "0",
         "7",
         "5",
         "0",
         "5",
         "3",
         "0",
         "0",
         "7",
         "7",
         "2",
         "2",
         "2",
         "1",
         "0",
         "2",
         "0",
         "0",
         "1",
         "0",
         "0",
         "15",
         "7",
         "0",
         "2",
         "1",
         "1",
         "6",
         "0",
         "6",
         "0",
         "0",
         "4",
         "4",
         "0",
         "7",
         "4",
         "0",
         "2",
         "9",
         "4",
         "1",
         "0",
         "0",
         "0",
         "2",
         "0",
         "7",
         "7",
         "12",
         "3",
         "1",
         "1",
         "2",
         "1",
         "1",
         "0",
         "1",
         "0",
         "0",
         "22",
         "1",
         "0",
         "1",
         "16",
         "0",
         "4",
         "1",
         "2",
         "14",
         "13",
         "1",
         "1",
         "4",
         "3",
         "2",
         "10",
         "7",
         "11",
         "0",
         "0",
         "4",
         "0",
         "1",
         "1",
         "1",
         "0",
         "2",
         "11",
         "3",
         "1",
         "5",
         "22",
         "0",
         "18",
         "4",
         "0",
         "0",
         "0",
         "0",
         "0",
         "1",
         "1",
         "1",
         "1",
         "5",
         "4",
         "0",
         "0",
         "9",
         "2",
         "1",
         "1",
         "1",
         "14",
         "1",
         "2",
         "3",
         "2",
         "1",
         "2",
         "5",
         "4",
         "0",
         "3",
         "2",
         "3",
         "2",
         "0",
         "0",
         "0",
         "1",
         "4",
         "1",
         "3",
         "2",
         "2",
         "6",
         "1",
         "2",
         "1",
         "2",
         "2",
         "2",
         "1",
         "1",
         "1",
         "6",
         "6",
         "18",
         "0",
         "1",
         "3",
         "1",
         "3",
         "0",
         "4",
         "4",
         "1",
         "2",
         "7",
         "3",
         "3",
         "5",
         "1",
         "1",
         "4",
         "2",
         "2",
         "3",
         "3",
         "3",
         "2",
         "2",
         "2",
         "0"
        ],
        [
         "0x94b7d24552933f50a5a5705c446528806dcea381",
         "0",
         "0",
         "0",
         "0",
         "0",
         "0",
         "0",
         "0",
         "0",
         "0",
         "0",
         "0",
         "0",
         "0",
         "0",
         "0",
         "0",
         "0",
         "0",
         "0",
         "0",
         "0",
         "0",
         "0",
         "0",
         "0",
         "0",
         "0",
         "0",
         "0",
         "0",
         "0",
         "0",
         "0",
         "0",
         "0",
         "0",
         "0",
         "0",
         "0",
         "0",
         "0",
         "0",
         "0",
         "0",
         "0",
         "0",
         "0",
         "0",
         "0",
         "0",
         "0",
         "0",
         "0",
         "0",
         "0",
         "0",
         "0",
         "0",
         "0",
         "0",
         "0",
         "0",
         "0",
         "0",
         "0",
         "0",
         "0",
         "0",
         "0",
         "0",
         "0",
         "0",
         "0",
         "0",
         "0",
         "0",
         "0",
         "0",
         "1",
         "0",
         "0",
         "0",
         "0",
         "0",
         "0",
         "0",
         "0",
         "0",
         "0",
         "0",
         "0",
         "0",
         "0",
         "0",
         "0",
         "2",
         "0",
         "0",
         "0",
         "0",
         "0",
         "0",
         "0",
         "0",
         "0",
         "0",
         "0",
         "0",
         "0",
         "0",
         "0",
         "0",
         "0",
         "0",
         "0",
         "0",
         "1",
         "0",
         "0",
         "0",
         "0",
         "0",
         "0",
         "0",
         "0",
         "0",
         "0",
         "0",
         "0",
         "0",
         "0",
         "0",
         "0",
         "0",
         "0",
         "0",
         "0",
         "0",
         "0",
         "1",
         "0",
         "0",
         "0",
         "0",
         "1",
         "0",
         "0",
         "0",
         "0",
         "0",
         "0",
         "0",
         "0",
         "0",
         "1",
         "0",
         "0",
         "0",
         "0",
         "0",
         "0",
         "0",
         "0",
         "0",
         "0",
         "0",
         "0",
         "0",
         "0",
         "0",
         "0",
         "0",
         "0",
         "0",
         "0",
         "0",
         "0",
         "0",
         "0",
         "1",
         "0",
         "0",
         "0",
         "0",
         "0",
         "0",
         "0",
         "0",
         "0",
         "0",
         "0",
         "0",
         "0",
         "0",
         "0",
         "0",
         "0",
         "0",
         "0",
         "0",
         "0",
         "0",
         "0",
         "0",
         "0",
         "0",
         "0",
         "0",
         "0",
         "0",
         "0",
         "0",
         "0",
         "0",
         "0",
         "0",
         "0",
         "0",
         "0",
         "0",
         "0",
         "0",
         "0",
         "0",
         "0",
         "0",
         "0",
         "0",
         "0",
         "0",
         "0",
         "0",
         "0",
         "0",
         "0",
         "0",
         "0",
         "0",
         "0",
         "0",
         "0",
         "0",
         "0",
         "0",
         "0",
         "0",
         "0",
         "0",
         "0",
         "0",
         "0",
         "0",
         "0",
         "0",
         "0",
         "0",
         "0",
         "0",
         "0",
         "0",
         "0",
         "0",
         "0",
         "0",
         "0",
         "0",
         "0",
         "0",
         "0",
         "0",
         "0",
         "0",
         "0",
         "0",
         "0",
         "0",
         "0",
         "0",
         "0",
         "0",
         "0",
         "0",
         "0",
         "0",
         "0",
         "0",
         "0",
         "0",
         "0",
         "0",
         "0",
         "0",
         "0",
         "0",
         "0",
         "0",
         "0",
         "0",
         "0",
         "0",
         "0",
         "0",
         "0",
         "0",
         "0",
         "0",
         "0",
         "0",
         "0",
         "0",
         "0",
         "0",
         "0",
         "0",
         "0",
         "2",
         "0",
         "0",
         "0",
         "0",
         "0",
         "0",
         "0",
         "0",
         "0",
         "0",
         "0",
         "0",
         "0",
         "0",
         "0",
         "0",
         "0",
         "0",
         "0",
         "0",
         "0",
         "0",
         "0",
         "0",
         "0",
         "0",
         "0",
         "0",
         "0",
         "0",
         "0",
         "0",
         "0",
         "0",
         "0",
         "0",
         "0",
         "0",
         "0",
         "0",
         "0",
         "0",
         "0",
         "0",
         "0",
         "0",
         "0",
         "0",
         "0",
         "0",
         "0",
         "0",
         "0",
         "0",
         "0",
         "0",
         "0",
         "0",
         "0",
         "0",
         "0",
         "0",
         "0",
         "0",
         "0",
         "0",
         "0",
         "0",
         "0",
         "0",
         "0",
         "0",
         "0",
         "0",
         "0",
         "0",
         "0",
         "0",
         "0",
         "0",
         "0",
         "0",
         "0",
         "0",
         "0",
         "0",
         "0",
         "0",
         "0",
         "0",
         "0",
         "0",
         "0",
         "0",
         "0",
         "0",
         "0",
         "0",
         "0",
         "0",
         "0",
         "0",
         "0",
         "0",
         "0",
         "0",
         "0",
         "0",
         "0",
         "0",
         "0",
         "0",
         "0",
         "0",
         "1",
         "0",
         "1",
         "0",
         "0",
         "0",
         "0",
         "0",
         "0",
         "0",
         "0",
         "0",
         "0",
         "0",
         "0",
         "0",
         "0",
         "0",
         "1",
         "1",
         "0",
         "0",
         "0",
         "0",
         "0",
         "0",
         "0",
         "0",
         "0",
         "0",
         "0",
         "0",
         "0",
         "0",
         "0",
         "0",
         "0",
         "0",
         "0",
         "0",
         "0",
         "0",
         "0",
         "0",
         "0",
         "0",
         "0",
         "0",
         "0",
         "0",
         "0",
         "0",
         "0",
         "0",
         "0",
         "0",
         "0",
         "0",
         "0",
         "0",
         "0",
         "0",
         "0",
         "1",
         "0",
         "0",
         "0",
         "0",
         "1",
         "0",
         "0",
         "0",
         "0",
         "0",
         "0",
         "0",
         "0",
         "0",
         "0",
         "0",
         "0",
         "0",
         "0",
         "0",
         "0",
         "0",
         "0",
         "0",
         "0",
         "0",
         "0",
         "0",
         "0",
         "0",
         "0",
         "0",
         "0",
         "0",
         "0",
         "0",
         "0",
         "0",
         "0",
         "0",
         "0",
         "0",
         "0",
         "0",
         "0",
         "0",
         "0",
         "0",
         "0",
         "0",
         "0",
         "0",
         "0",
         "0",
         "0",
         "0",
         "0",
         "0",
         "0",
         "0",
         "0",
         "0",
         "0",
         "0",
         "0",
         "0",
         "0",
         "0",
         "0",
         "0",
         "0",
         "0",
         "0",
         "0",
         "0",
         "0",
         "0",
         "0",
         "0",
         "0",
         "0",
         "0",
         "0",
         "0",
         "0",
         "0",
         "0",
         "3",
         "1",
         "0",
         "0",
         "0",
         "0",
         "1",
         "0",
         "0",
         "1",
         "0",
         "0",
         "0",
         "0",
         "0",
         "0",
         "0",
         "0",
         "0",
         "0",
         "0",
         "0",
         "0",
         "0",
         "0",
         "0",
         "1",
         "0",
         "0",
         "0",
         "0",
         "0",
         "0",
         "0",
         "0",
         "0",
         "0",
         "0",
         "0",
         "0",
         "0",
         "0",
         "0",
         "0",
         "0",
         "0",
         "2",
         "0",
         "0",
         "1",
         "0",
         "0",
         "0",
         "0",
         "2",
         "0",
         "0",
         "0",
         "0",
         "0",
         "1",
         "0",
         "0",
         "0",
         "0",
         "0",
         "0",
         "0",
         "0",
         "0",
         "0",
         "0",
         "0",
         "0",
         "0",
         "0",
         "0",
         "1",
         "1",
         "0",
         "0",
         "0",
         "0",
         "0",
         "0",
         "0",
         "0",
         "0",
         "0",
         "0",
         "1",
         "0",
         "0",
         "0",
         "0",
         "0",
         "0",
         "0",
         "0",
         "0",
         "0",
         "0",
         "0",
         "0",
         "0",
         "0",
         "0",
         "0",
         "0",
         "0",
         "0",
         "0",
         "0",
         "0",
         "0",
         "0",
         "0",
         "0",
         "0",
         "0",
         "0",
         "0",
         "0",
         "0",
         "0",
         "0",
         "0",
         "0",
         "0",
         "0",
         "0",
         "0",
         "0",
         "0",
         "0",
         "0",
         "0",
         "0",
         "0",
         "0",
         "0",
         "0",
         "0",
         "0",
         "0",
         "0",
         "0",
         "0",
         "0",
         "0",
         "0",
         "0",
         "0",
         "0",
         "0",
         "0",
         "0",
         "0",
         "0",
         "0",
         "0",
         "0",
         "0",
         "0",
         "0",
         "0",
         "0",
         "0",
         "0",
         "0",
         "0",
         "0",
         "0",
         "0",
         "0",
         "0",
         "0",
         "1",
         "0",
         "0",
         "0",
         "0",
         "0",
         "0",
         "0",
         "0",
         "0",
         "0",
         "0",
         "0",
         "0",
         "1",
         "0",
         "0",
         "0",
         "0",
         "3",
         "1",
         "0",
         "1",
         "1",
         "0",
         "0",
         "0",
         "0",
         "0",
         "0",
         "0",
         "0",
         "0",
         "0",
         "0",
         "0",
         "0",
         "0",
         "0",
         "0",
         "0",
         "0",
         "0",
         "0",
         "0",
         "0",
         "0",
         "0",
         "0",
         "0",
         "0",
         "0",
         "0",
         "0",
         "0",
         "0",
         "0",
         "0",
         "0",
         "0",
         "0",
         "0",
         "0",
         "0",
         "0",
         "0",
         "0",
         "0",
         "0",
         "0",
         "0",
         "0",
         "0",
         "0",
         "0",
         "0",
         "0",
         "0",
         "0",
         "0",
         "0",
         "0",
         "0",
         "0",
         "0",
         "0",
         "0",
         "0",
         "0",
         "0",
         "0",
         "0",
         "0",
         "0",
         "0",
         "0",
         "0",
         "0",
         "0",
         "0",
         "0",
         "0",
         "0",
         "0",
         "0",
         "0",
         "0",
         "0",
         "0",
         "0",
         "0",
         "0",
         "0",
         "0",
         "0",
         "0",
         "0",
         "0",
         "0",
         "0",
         "0",
         "0",
         "0",
         "0",
         "0",
         "0",
         "0",
         "0",
         "0",
         "0",
         "0",
         "0",
         "0",
         "0",
         "0",
         "0",
         "0",
         "0",
         "0",
         "0",
         "0",
         "0",
         "0",
         "0",
         "0",
         "0",
         "0",
         "0",
         "0",
         "0",
         "0",
         "0",
         "0",
         "0",
         "0",
         "0",
         "0",
         "0",
         "0",
         "0",
         "0",
         "0",
         "0",
         "0",
         "0",
         "0",
         "0",
         "0",
         "0",
         "0",
         "0",
         "0",
         "0",
         "0",
         "0",
         "0",
         "0",
         "0",
         "0",
         "0",
         "0",
         "0",
         "0",
         "0",
         "0",
         "0",
         "0",
         "0",
         "0",
         "0",
         "0",
         "0",
         "0",
         "0",
         "0",
         "0",
         "0",
         "0",
         "0",
         "0",
         "0",
         "0",
         "0",
         "0",
         "0",
         "0",
         "0",
         "0",
         "0",
         "0",
         "0",
         "0",
         "0",
         "0",
         "0",
         "0",
         "0",
         "0",
         "0",
         "0",
         "0",
         "0",
         "0",
         "0",
         "0",
         "0",
         "0",
         "0",
         "0",
         "0",
         "0",
         "0",
         "0",
         "0",
         "0",
         "0",
         "0",
         "0",
         "0",
         "0",
         "0",
         "0",
         "0",
         "0"
        ],
        [
         "0xe0b9d4146aad6936cbfcbe4dae47e34aab96b093",
         "0",
         "0",
         "0",
         "0",
         "4",
         "3",
         "0",
         "0",
         "2",
         "0",
         "0",
         "2",
         "0",
         "0",
         "0",
         "0",
         "0",
         "0",
         "0",
         "5",
         "1",
         "18",
         "5",
         "1",
         "6",
         "5",
         "34",
         "0",
         "5",
         "1",
         "28",
         "19",
         "13",
         "0",
         "5",
         "0",
         "0",
         "57",
         "0",
         "28",
         "0",
         "20",
         "0",
         "9",
         "0",
         "1",
         "1",
         "0",
         "0",
         "0",
         "0",
         "0",
         "0",
         "0",
         "29",
         "0",
         "28",
         "6",
         "3",
         "0",
         "4",
         "0",
         "8",
         "6",
         "2",
         "2",
         "2",
         "0",
         "0",
         "3",
         "0",
         "0",
         "2",
         "0",
         "0",
         "0",
         "0",
         "33",
         "30",
         "5",
         "2",
         "3",
         "0",
         "3",
         "0",
         "0",
         "0",
         "0",
         "1",
         "1",
         "1",
         "0",
         "0",
         "0",
         "2",
         "0",
         "0",
         "0",
         "7",
         "7",
         "0",
         "0",
         "0",
         "0",
         "21",
         "21",
         "0",
         "0",
         "0",
         "0",
         "0",
         "0",
         "2",
         "2",
         "0",
         "0",
         "0",
         "7",
         "7",
         "0",
         "0",
         "0",
         "3",
         "1",
         "0",
         "0",
         "3",
         "0",
         "0",
         "0",
         "3",
         "0",
         "0",
         "2",
         "2",
         "28",
         "28",
         "0",
         "0",
         "0",
         "28",
         "4",
         "5",
         "2",
         "0",
         "2",
         "13",
         "0",
         "0",
         "0",
         "0",
         "0",
         "24",
         "21",
         "3",
         "2",
         "2",
         "29",
         "29",
         "0",
         "0",
         "0",
         "31",
         "31",
         "0",
         "10",
         "0",
         "10",
         "0",
         "0",
         "0",
         "2",
         "7",
         "0",
         "0",
         "6",
         "0",
         "3",
         "3",
         "1",
         "6",
         "6",
         "7",
         "6",
         "10",
         "10",
         "3",
         "3",
         "0",
         "4",
         "0",
         "71",
         "4",
         "67",
         "0",
         "3",
         "1",
         "0",
         "19",
         "18",
         "3",
         "3",
         "0",
         "0",
         "0",
         "6",
         "0",
         "6",
         "12",
         "0",
         "9",
         "0",
         "35",
         "2",
         "2",
         "10",
         "19",
         "0",
         "2",
         "0",
         "0",
         "1",
         "0",
         "2",
         "0",
         "0",
         "9",
         "2",
         "2",
         "2",
         "4",
         "4",
         "2",
         "2",
         "1",
         "1",
         "1",
         "6",
         "1",
         "0",
         "0",
         "16",
         "14",
         "3",
         "3",
         "0",
         "0",
         "14",
         "5",
         "6",
         "0",
         "0",
         "0",
         "3",
         "1",
         "2",
         "0",
         "1",
         "2",
         "2",
         "1",
         "0",
         "0",
         "0",
         "6",
         "5",
         "12",
         "12",
         "6",
         "6",
         "0",
         "0",
         "0",
         "3",
         "3",
         "4",
         "2",
         "0",
         "0",
         "9",
         "2",
         "4",
         "2",
         "0",
         "2",
         "12",
         "10",
         "4",
         "4",
         "2",
         "2",
         "0",
         "2",
         "1",
         "0",
         "4",
         "1",
         "0",
         "1",
         "3",
         "3",
         "5",
         "5",
         "2",
         "2",
         "0",
         "5",
         "5",
         "0",
         "1",
         "1",
         "2",
         "6",
         "0",
         "1",
         "0",
         "6",
         "4",
         "29",
         "29",
         "0",
         "0",
         "0",
         "0",
         "3",
         "2",
         "2",
         "2",
         "2",
         "1",
         "1",
         "1",
         "0",
         "10",
         "10",
         "3",
         "3",
         "5",
         "5",
         "0",
         "0",
         "2",
         "0",
         "2",
         "57",
         "57",
         "0",
         "0",
         "278",
         "0",
         "3",
         "7",
         "4",
         "4",
         "15",
         "0",
         "3",
         "143",
         "23",
         "7",
         "0",
         "6",
         "0",
         "12",
         "18",
         "22",
         "3",
         "21",
         "21",
         "6",
         "0",
         "2",
         "3",
         "9",
         "0",
         "1",
         "0",
         "8",
         "0",
         "3",
         "2",
         "4",
         "1",
         "1",
         "17",
         "8",
         "0",
         "37",
         "2",
         "4",
         "7",
         "1",
         "22",
         "156",
         "8",
         "13",
         "8",
         "54",
         "33",
         "24",
         "4",
         "0",
         "3",
         "4",
         "29",
         "9",
         "0",
         "0",
         "1",
         "12",
         "2",
         "2",
         "1",
         "0",
         "1",
         "9",
         "2",
         "0",
         "0",
         "7",
         "7",
         "0",
         "0",
         "12",
         "12",
         "18",
         "18",
         "22",
         "13",
         "9",
         "4",
         "26",
         "2",
         "2",
         "20",
         "0",
         "1",
         "0",
         "0",
         "3",
         "2",
         "42",
         "28",
         "6",
         "1",
         "20",
         "0",
         "5",
         "15",
         "2",
         "2",
         "2",
         "1",
         "5",
         "4",
         "2",
         "1",
         "0",
         "0",
         "3",
         "0",
         "0",
         "38",
         "0",
         "3",
         "4",
         "31",
         "2",
         "0",
         "0",
         "27",
         "26",
         "0",
         "0",
         "5",
         "5",
         "0",
         "0",
         "2",
         "2",
         "4",
         "0",
         "0",
         "1",
         "4",
         "4",
         "0",
         "0",
         "0",
         "15",
         "4",
         "5",
         "4",
         "0",
         "74",
         "67",
         "0",
         "1",
         "1",
         "4",
         "0",
         "6",
         "6",
         "5",
         "5",
         "0",
         "0",
         "0",
         "0",
         "0",
         "0",
         "0",
         "0",
         "0",
         "0",
         "0",
         "0",
         "0",
         "0",
         "0",
         "0",
         "0",
         "0",
         "0",
         "4",
         "2",
         "0",
         "0",
         "6",
         "17",
         "2",
         "6",
         "6",
         "2",
         "1",
         "69",
         "68",
         "8",
         "3",
         "1",
         "77",
         "37",
         "17",
         "8",
         "1",
         "0",
         "8",
         "13",
         "0",
         "2",
         "1",
         "6",
         "0",
         "51",
         "6",
         "6",
         "5",
         "6",
         "12",
         "14",
         "9",
         "6",
         "3",
         "21",
         "21",
         "28",
         "8",
         "2",
         "16",
         "1",
         "71",
         "0",
         "0",
         "33",
         "6",
         "0",
         "28",
         "0",
         "0",
         "0",
         "0",
         "2",
         "46",
         "7",
         "1",
         "0",
         "0",
         "7",
         "2",
         "29",
         "0",
         "22",
         "1",
         "0",
         "3",
         "0",
         "4",
         "1",
         "0",
         "2",
         "37",
         "30",
         "3",
         "2",
         "25",
         "14",
         "2",
         "6",
         "11",
         "1",
         "4",
         "7",
         "5",
         "2",
         "1",
         "1",
         "1",
         "0",
         "0",
         "75",
         "38",
         "0",
         "27",
         "0",
         "5",
         "0",
         "2",
         "0",
         "12",
         "4",
         "2",
         "5",
         "0",
         "4",
         "0",
         "4",
         "65",
         "0",
         "14",
         "6",
         "4",
         "5",
         "3",
         "9",
         "5",
         "2",
         "0",
         "0",
         "2",
         "37",
         "8",
         "0",
         "3",
         "0",
         "1",
         "6",
         "6",
         "18",
         "5",
         "4",
         "4",
         "28",
         "7",
         "7",
         "14",
         "0",
         "2",
         "2",
         "0",
         "0",
         "0",
         "2",
         "0",
         "0",
         "0",
         "0",
         "0",
         "8",
         "0",
         "6",
         "0",
         "2",
         "4",
         "0",
         "0",
         "4",
         "0",
         "0",
         "0",
         "0",
         "0",
         "0",
         "0",
         "21",
         "2",
         "0",
         "18",
         "14",
         "14",
         "7",
         "1",
         "5",
         "4",
         "2",
         "0",
         "6",
         "4",
         "0",
         "6",
         "2",
         "0",
         "2",
         "192",
         "192",
         "96",
         "26",
         "0",
         "1",
         "0",
         "3",
         "42",
         "20",
         "2",
         "20",
         "7",
         "13",
         "0",
         "0",
         "40",
         "0",
         "36",
         "4",
         "6",
         "0",
         "6",
         "0",
         "0",
         "53",
         "53",
         "87",
         "29",
         "4",
         "8",
         "0",
         "33",
         "5",
         "0",
         "0",
         "0",
         "0",
         "0",
         "0",
         "0",
         "0",
         "0",
         "0",
         "0",
         "9",
         "9",
         "12",
         "10",
         "0",
         "0",
         "2",
         "0",
         "2",
         "21",
         "21",
         "3",
         "3",
         "1",
         "0",
         "0",
         "21",
         "20",
         "0",
         "2",
         "2",
         "7",
         "2",
         "2",
         "2",
         "38",
         "2",
         "0",
         "28",
         "3",
         "2",
         "0",
         "0",
         "7",
         "7",
         "7",
         "14",
         "0",
         "8",
         "4",
         "0",
         "0",
         "0",
         "0",
         "2",
         "2",
         "0",
         "0",
         "0",
         "0",
         "0",
         "0",
         "0",
         "0",
         "0",
         "0",
         "0",
         "0",
         "0",
         "0",
         "0",
         "0",
         "0",
         "0",
         "0",
         "0",
         "0",
         "0",
         "0",
         "0",
         "0",
         "10",
         "0",
         "10",
         "6",
         "0",
         "4",
         "2",
         "6",
         "6",
         "0",
         "0",
         "9",
         "0",
         "0",
         "0",
         "1",
         "1",
         "1",
         "0",
         "0",
         "0",
         "0",
         "0",
         "0",
         "0",
         "0",
         "10",
         "7",
         "0",
         "1",
         "1",
         "1",
         "0",
         "0",
         "0",
         "0",
         "0",
         "0",
         "0",
         "0",
         "6",
         "0",
         "0",
         "6",
         "0",
         "0",
         "6",
         "6",
         "32",
         "5",
         "21",
         "5",
         "0",
         "2",
         "0",
         "2",
         "0",
         "0",
         "0",
         "28",
         "0",
         "0",
         "0",
         "28",
         "0",
         "0",
         "0",
         "0",
         "6",
         "6",
         "0",
         "0",
         "5",
         "2",
         "0",
         "0",
         "0",
         "90",
         "1",
         "7",
         "23",
         "0",
         "1",
         "14",
         "6",
         "21",
         "12",
         "0",
         "0",
         "0",
         "0",
         "71",
         "2",
         "60",
         "0",
         "9",
         "0",
         "0",
         "0",
         "0",
         "21",
         "21",
         "5",
         "5",
         "0",
         "0",
         "2",
         "2",
         "9",
         "0",
         "9",
         "0",
         "0",
         "0",
         "0",
         "0",
         "0",
         "0",
         "0",
         "0",
         "0",
         "0",
         "0",
         "0",
         "0",
         "0",
         "0",
         "0",
         "0",
         "0",
         "0",
         "0",
         "0",
         "0",
         "0",
         "0",
         "52",
         "2",
         "35",
         "1",
         "11",
         "0",
         "0",
         "0",
         "0",
         "0",
         "31",
         "31",
         "75",
         "0",
         "0",
         "21",
         "0",
         "54",
         "0",
         "0",
         "0",
         "0",
         "0",
         "25",
         "10",
         "8",
         "2",
         "2",
         "0",
         "26",
         "25",
         "1",
         "5",
         "3",
         "0",
         "0",
         "3",
         "2",
         "2"
        ],
        [
         "0x10f6f2b97f3ab29583d9d38babf2994df7220c21",
         "1",
         "0",
         "1",
         "4",
         "4",
         "3",
         "1",
         "0",
         "3",
         "0",
         "0",
         "3",
         "0",
         "0",
         "2",
         "0",
         "2",
         "0",
         "0",
         "8",
         "2",
         "26",
         "7",
         "1",
         "10",
         "7",
         "42",
         "0",
         "6",
         "2",
         "32",
         "28",
         "17",
         "0",
         "7",
         "0",
         "0",
         "92",
         "0",
         "32",
         "0",
         "41",
         "0",
         "17",
         "0",
         "3",
         "3",
         "0",
         "0",
         "0",
         "1",
         "0",
         "0",
         "1",
         "37",
         "3",
         "34",
         "5",
         "3",
         "0",
         "3",
         "0",
         "7",
         "3",
         "4",
         "7",
         "2",
         "3",
         "3",
         "8",
         "0",
         "4",
         "4",
         "0",
         "0",
         "0",
         "0",
         "37",
         "37",
         "6",
         "4",
         "12",
         "7",
         "3",
         "0",
         "0",
         "0",
         "0",
         "2",
         "2",
         "1",
         "1",
         "0",
         "0",
         "3",
         "0",
         "0",
         "0",
         "14",
         "14",
         "0",
         "0",
         "0",
         "0",
         "22",
         "22",
         "0",
         "0",
         "0",
         "0",
         "12",
         "12",
         "7",
         "7",
         "0",
         "0",
         "0",
         "16",
         "14",
         "2",
         "0",
         "0",
         "5",
         "3",
         "0",
         "2",
         "6",
         "1",
         "0",
         "0",
         "4",
         "0",
         "2",
         "1",
         "1",
         "35",
         "35",
         "0",
         "0",
         "0",
         "31",
         "4",
         "4",
         "3",
         "0",
         "5",
         "7",
         "3",
         "1",
         "0",
         "0",
         "0",
         "25",
         "22",
         "3",
         "4",
         "4",
         "35",
         "35",
         "0",
         "0",
         "0",
         "36",
         "33",
         "0",
         "23",
         "0",
         "22",
         "0",
         "0",
         "0",
         "4",
         "16",
         "4",
         "1",
         "11",
         "0",
         "3",
         "5",
         "3",
         "3",
         "3",
         "5",
         "5",
         "5",
         "5",
         "15",
         "9",
         "5",
         "11",
         "4",
         "88",
         "7",
         "81",
         "0",
         "13",
         "1",
         "1",
         "24",
         "24",
         "4",
         "4",
         "0",
         "7",
         "7",
         "11",
         "0",
         "11",
         "14",
         "0",
         "9",
         "0",
         "60",
         "3",
         "3",
         "14",
         "34",
         "2",
         "2",
         "0",
         "0",
         "0",
         "0",
         "3",
         "0",
         "0",
         "17",
         "6",
         "5",
         "6",
         "4",
         "4",
         "3",
         "2",
         "1",
         "1",
         "2",
         "14",
         "4",
         "0",
         "2",
         "27",
         "26",
         "3",
         "3",
         "3",
         "0",
         "33",
         "8",
         "10",
         "0",
         "0",
         "0",
         "5",
         "3",
         "5",
         "2",
         "2",
         "4",
         "2",
         "3",
         "0",
         "0",
         "0",
         "5",
         "4",
         "19",
         "18",
         "11",
         "11",
         "0",
         "0",
         "0",
         "4",
         "4",
         "4",
         "2",
         "0",
         "0",
         "6",
         "1",
         "3",
         "2",
         "1",
         "2",
         "22",
         "18",
         "3",
         "3",
         "7",
         "5",
         "0",
         "5",
         "0",
         "1",
         "4",
         "1",
         "0",
         "4",
         "9",
         "6",
         "10",
         "10",
         "2",
         "2",
         "0",
         "6",
         "6",
         "0",
         "5",
         "3",
         "2",
         "6",
         "0",
         "1",
         "0",
         "5",
         "5",
         "29",
         "29",
         "0",
         "0",
         "7",
         "7",
         "19",
         "19",
         "1",
         "1",
         "2",
         "2",
         "2",
         "2",
         "0",
         "8",
         "7",
         "3",
         "3",
         "5",
         "5",
         "0",
         "0",
         "11",
         "0",
         "4",
         "71",
         "71",
         "0",
         "0",
         "409",
         "0",
         "6",
         "6",
         "9",
         "5",
         "26",
         "0",
         "6",
         "175",
         "59",
         "7",
         "0",
         "14",
         "5",
         "26",
         "24",
         "27",
         "5",
         "22",
         "22",
         "14",
         "5",
         "6",
         "3",
         "9",
         "1",
         "3",
         "0",
         "14",
         "0",
         "6",
         "4",
         "5",
         "2",
         "2",
         "26",
         "18",
         "0",
         "43",
         "1",
         "5",
         "8",
         "2",
         "22",
         "207",
         "17",
         "15",
         "15",
         "55",
         "45",
         "40",
         "4",
         "0",
         "3",
         "2",
         "63",
         "15",
         "1",
         "0",
         "1",
         "21",
         "0",
         "9",
         "6",
         "0",
         "8",
         "7",
         "7",
         "0",
         "0",
         "16",
         "11",
         "5",
         "5",
         "26",
         "26",
         "24",
         "23",
         "27",
         "17",
         "10",
         "5",
         "23",
         "1",
         "0",
         "21",
         "4",
         "0",
         "0",
         "0",
         "7",
         "7",
         "46",
         "31",
         "9",
         "3",
         "30",
         "0",
         "4",
         "25",
         "4",
         "4",
         "3",
         "3",
         "11",
         "10",
         "6",
         "6",
         "0",
         "0",
         "0",
         "0",
         "0",
         "41",
         "0",
         "4",
         "4",
         "33",
         "8",
         "0",
         "0",
         "26",
         "23",
         "0",
         "0",
         "9",
         "9",
         "0",
         "0",
         "3",
         "3",
         "8",
         "0",
         "0",
         "0",
         "9",
         "7",
         "0",
         "0",
         "0",
         "26",
         "3",
         "7",
         "12",
         "0",
         "97",
         "81",
         "0",
         "1",
         "4",
         "9",
         "0",
         "10",
         "10",
         "7",
         "7",
         "0",
         "0",
         "0",
         "0",
         "0",
         "0",
         "0",
         "0",
         "1",
         "0",
         "7",
         "7",
         "7",
         "7",
         "6",
         "6",
         "7",
         "0",
         "7",
         "4",
         "3",
         "7",
         "7",
         "7",
         "23",
         "3",
         "11",
         "5",
         "1",
         "1",
         "115",
         "115",
         "6",
         "4",
         "1",
         "153",
         "63",
         "45",
         "13",
         "2",
         "2",
         "14",
         "34",
         "0",
         "3",
         "9",
         "8",
         "1",
         "65",
         "6",
         "8",
         "10",
         "9",
         "23",
         "8",
         "12",
         "6",
         "6",
         "37",
         "37",
         "37",
         "6",
         "2",
         "27",
         "4",
         "93",
         "0",
         "2",
         "40",
         "11",
         "0",
         "32",
         "0",
         "12",
         "1",
         "6",
         "1",
         "71",
         "14",
         "0",
         "1",
         "0",
         "10",
         "4",
         "35",
         "0",
         "26",
         "5",
         "0",
         "0",
         "0",
         "4",
         "0",
         "0",
         "5",
         "73",
         "51",
         "9",
         "5",
         "52",
         "32",
         "4",
         "8",
         "12",
         "1",
         "3",
         "5",
         "5",
         "7",
         "4",
         "4",
         "4",
         "0",
         "0",
         "84",
         "41",
         "0",
         "24",
         "0",
         "9",
         "0",
         "3",
         "3",
         "21",
         "7",
         "4",
         "10",
         "13",
         "4",
         "0",
         "4",
         "97",
         "0",
         "28",
         "6",
         "3",
         "7",
         "6",
         "8",
         "5",
         "4",
         "1",
         "0",
         "12",
         "58",
         "13",
         "4",
         "5",
         "7",
         "0",
         "8",
         "10",
         "5",
         "4",
         "8",
         "8",
         "33",
         "3",
         "22",
         "8",
         "0",
         "4",
         "4",
         "0",
         "0",
         "0",
         "1",
         "3",
         "1",
         "0",
         "0",
         "0",
         "22",
         "0",
         "4",
         "0",
         "18",
         "3",
         "0",
         "0",
         "3",
         "0",
         "0",
         "0",
         "0",
         "0",
         "0",
         "0",
         "31",
         "4",
         "0",
         "24",
         "23",
         "20",
         "14",
         "4",
         "9",
         "10",
         "1",
         "3",
         "6",
         "4",
         "1",
         "6",
         "26",
         "7",
         "19",
         "279",
         "279",
         "115",
         "23",
         "4",
         "0",
         "0",
         "7",
         "46",
         "30",
         "4",
         "40",
         "14",
         "26",
         "0",
         "0",
         "57",
         "0",
         "47",
         "7",
         "11",
         "0",
         "8",
         "3",
         "0",
         "67",
         "67",
         "105",
         "35",
         "3",
         "7",
         "4",
         "37",
         "6",
         "2",
         "0",
         "0",
         "0",
         "0",
         "0",
         "0",
         "0",
         "0",
         "0",
         "0",
         "15",
         "13",
         "21",
         "14",
         "0",
         "0",
         "7",
         "3",
         "4",
         "22",
         "22",
         "3",
         "3",
         "2",
         "0",
         "0",
         "17",
         "16",
         "0",
         "4",
         "4",
         "11",
         "4",
         "3",
         "4",
         "52",
         "2",
         "1",
         "32",
         "11",
         "3",
         "0",
         "0",
         "3",
         "3",
         "22",
         "8",
         "0",
         "1",
         "6",
         "0",
         "0",
         "0",
         "0",
         "4",
         "4",
         "0",
         "0",
         "0",
         "0",
         "0",
         "0",
         "0",
         "0",
         "0",
         "0",
         "0",
         "0",
         "0",
         "0",
         "0",
         "0",
         "0",
         "8",
         "0",
         "0",
         "0",
         "0",
         "0",
         "0",
         "0",
         "7",
         "0",
         "7",
         "27",
         "0",
         "8",
         "19",
         "9",
         "9",
         "0",
         "0",
         "16",
         "3",
         "2",
         "0",
         "2",
         "2",
         "6",
         "0",
         "0",
         "0",
         "0",
         "0",
         "0",
         "0",
         "0",
         "18",
         "14",
         "0",
         "2",
         "1",
         "1",
         "0",
         "0",
         "0",
         "0",
         "0",
         "0",
         "0",
         "0",
         "12",
         "0",
         "0",
         "10",
         "2",
         "0",
         "9",
         "9",
         "34",
         "6",
         "17",
         "9",
         "0",
         "19",
         "12",
         "7",
         "2",
         "0",
         "0",
         "34",
         "0",
         "0",
         "0",
         "32",
         "0",
         "0",
         "7",
         "0",
         "6",
         "6",
         "0",
         "0",
         "6",
         "3",
         "0",
         "0",
         "0",
         "151",
         "4",
         "11",
         "40",
         "0",
         "10",
         "21",
         "6",
         "36",
         "17",
         "0",
         "0",
         "0",
         "0",
         "116",
         "19",
         "78",
         "0",
         "17",
         "0",
         "0",
         "3",
         "3",
         "17",
         "17",
         "9",
         "9",
         "0",
         "0",
         "18",
         "18",
         "16",
         "0",
         "16",
         "0",
         "0",
         "3",
         "0",
         "0",
         "0",
         "0",
         "0",
         "3",
         "0",
         "0",
         "0",
         "0",
         "0",
         "0",
         "0",
         "0",
         "0",
         "0",
         "0",
         "0",
         "0",
         "0",
         "0",
         "0",
         "69",
         "0",
         "56",
         "0",
         "11",
         "0",
         "0",
         "0",
         "0",
         "0",
         "33",
         "33",
         "111",
         "0",
         "0",
         "38",
         "0",
         "70",
         "3",
         "0",
         "0",
         "0",
         "0",
         "27",
         "17",
         "6",
         "2",
         "2",
         "0",
         "40",
         "37",
         "3",
         "9",
         "6",
         "0",
         "0",
         "7",
         "4",
         "0"
        ],
        [
         "0x11cbc781dadaad13fc3a361772c80b1c027820af",
         "0",
         "0",
         "0",
         "1",
         "4",
         "4",
         "3",
         "0",
         "8",
         "0",
         "1",
         "4",
         "0",
         "0",
         "0",
         "0",
         "1",
         "0",
         "1",
         "1",
         "1",
         "42",
         "0",
         "22",
         "1",
         "11",
         "15",
         "1",
         "5",
         "4",
         "0",
         "28",
         "15",
         "2",
         "9",
         "0",
         "4",
         "12",
         "0",
         "0",
         "5",
         "0",
         "1",
         "4",
         "0",
         "3",
         "0",
         "1",
         "1",
         "1",
         "1",
         "9",
         "9",
         "4",
         "13",
         "6",
         "5",
         "7",
         "5",
         "1",
         "4",
         "4",
         "6",
         "2",
         "0",
         "8",
         "4",
         "1",
         "1",
         "39",
         "4",
         "7",
         "1",
         "21",
         "12",
         "4",
         "8",
         "0",
         "0",
         "0",
         "2",
         "10",
         "0",
         "0",
         "0",
         "8",
         "2",
         "3",
         "0",
         "0",
         "2",
         "0",
         "0",
         "0",
         "1",
         "0",
         "18",
         "18",
         "0",
         "0",
         "0",
         "9",
         "9",
         "1",
         "35",
         "35",
         "1",
         "0",
         "2",
         "1",
         "3",
         "3",
         "0",
         "0",
         "1",
         "0",
         "0",
         "0",
         "0",
         "0",
         "0",
         "0",
         "5",
         "1",
         "0",
         "1",
         "15",
         "1",
         "8",
         "1",
         "4",
         "2",
         "2",
         "4",
         "4",
         "55",
         "54",
         "0",
         "0",
         "0",
         "18",
         "5",
         "4",
         "3",
         "1",
         "4",
         "1",
         "8",
         "5",
         "0",
         "0",
         "0",
         "42",
         "35",
         "7",
         "4",
         "4",
         "57",
         "57",
         "29",
         "19",
         "4",
         "6",
         "4",
         "1",
         "9",
         "2",
         "4",
         "10",
         "5",
         "2",
         "0",
         "10",
         "1",
         "6",
         "0",
         "1",
         "1",
         "0",
         "4",
         "3",
         "2",
         "2",
         "2",
         "13",
         "13",
         "9",
         "3",
         "5",
         "0",
         "0",
         "81",
         "2",
         "75",
         "1",
         "2",
         "0",
         "1",
         "2",
         "2",
         "0",
         "0",
         "4",
         "5",
         "5",
         "0",
         "0",
         "0",
         "2",
         "0",
         "0",
         "0",
         "49",
         "4",
         "4",
         "36",
         "0",
         "2",
         "8",
         "4",
         "2",
         "1",
         "1",
         "3",
         "1",
         "0",
         "1",
         "3",
         "3",
         "1",
         "0",
         "0",
         "1",
         "1",
         "1",
         "1",
         "2",
         "8",
         "5",
         "2",
         "0",
         "10",
         "7",
         "0",
         "0",
         "3",
         "1",
         "5",
         "1",
         "2",
         "11",
         "7",
         "2",
         "2",
         "1",
         "4",
         "2",
         "2",
         "5",
         "3",
         "2",
         "1",
         "3",
         "1",
         "3",
         "2",
         "12",
         "11",
         "0",
         "0",
         "8",
         "1",
         "1",
         "4",
         "4",
         "2",
         "0",
         "3",
         "3",
         "5",
         "1",
         "3",
         "3",
         "5",
         "2",
         "6",
         "5",
         "0",
         "0",
         "3",
         "3",
         "0",
         "2",
         "5",
         "3",
         "1",
         "2",
         "1",
         "4",
         "3",
         "3",
         "0",
         "0",
         "3",
         "3",
         "4",
         "0",
         "0",
         "1",
         "3",
         "3",
         "1",
         "1",
         "4",
         "0",
         "1",
         "5",
         "2",
         "47",
         "47",
         "0",
         "0",
         "0",
         "0",
         "0",
         "0",
         "4",
         "4",
         "0",
         "0",
         "4",
         "4",
         "1",
         "5",
         "4",
         "8",
         "8",
         "11",
         "11",
         "2",
         "1",
         "4",
         "2",
         "6",
         "85",
         "85",
         "0",
         "0",
         "197",
         "32",
         "3",
         "4",
         "1",
         "0",
         "0",
         "0",
         "11",
         "89",
         "24",
         "0",
         "0",
         "0",
         "1",
         "7",
         "5",
         "3",
         "2",
         "35",
         "35",
         "15",
         "5",
         "1",
         "7",
         "6",
         "0",
         "2",
         "3",
         "1",
         "1",
         "0",
         "0",
         "0",
         "8",
         "8",
         "0",
         "0",
         "0",
         "62",
         "4",
         "1",
         "9",
         "13",
         "28",
         "98",
         "13",
         "4",
         "6",
         "9",
         "31",
         "10",
         "0",
         "17",
         "0",
         "5",
         "30",
         "1",
         "1",
         "4",
         "2",
         "15",
         "2",
         "1",
         "1",
         "0",
         "0",
         "0",
         "0",
         "0",
         "0",
         "0",
         "0",
         "1",
         "1",
         "7",
         "6",
         "6",
         "3",
         "4",
         "3",
         "1",
         "2",
         "35",
         "0",
         "1",
         "34",
         "0",
         "1",
         "0",
         "0",
         "17",
         "8",
         "90",
         "60",
         "21",
         "3",
         "15",
         "1",
         "0",
         "10",
         "4",
         "4",
         "2",
         "2",
         "6",
         "5",
         "8",
         "8",
         "0",
         "0",
         "0",
         "0",
         "0",
         "13",
         "1",
         "4",
         "4",
         "4",
         "1",
         "4",
         "3",
         "1",
         "1",
         "20",
         "20",
         "0",
         "0",
         "2",
         "2",
         "4",
         "4",
         "4",
         "2",
         "0",
         "1",
         "5",
         "4",
         "2",
         "2",
         "1",
         "6",
         "4",
         "0",
         "0",
         "0",
         "147",
         "34",
         "11",
         "3",
         "0",
         "64",
         "32",
         "1",
         "0",
         "13",
         "9",
         "3",
         "3",
         "6",
         "0",
         "1",
         "3",
         "3",
         "1",
         "1",
         "1",
         "0",
         "0",
         "0",
         "0",
         "1",
         "1",
         "17",
         "9",
         "5",
         "4",
         "4",
         "13",
         "12",
         "0",
         "7",
         "4",
         "0",
         "1",
         "5",
         "0",
         "23",
         "23",
         "2",
         "0",
         "1",
         "62",
         "14",
         "40",
         "4",
         "2",
         "1",
         "1",
         "30",
         "2",
         "4",
         "4",
         "4",
         "10",
         "36",
         "0",
         "0",
         "0",
         "4",
         "7",
         "21",
         "2",
         "1",
         "1",
         "1",
         "1",
         "7",
         "4",
         "2",
         "0",
         "0",
         "49",
         "1",
         "1",
         "11",
         "25",
         "0",
         "6",
         "1",
         "17",
         "2",
         "7",
         "0",
         "99",
         "0",
         "4",
         "9",
         "0",
         "4",
         "4",
         "57",
         "19",
         "16",
         "0",
         "6",
         "0",
         "0",
         "4",
         "1",
         "3",
         "0",
         "49",
         "39",
         "1",
         "3",
         "9",
         "4",
         "3",
         "0",
         "3",
         "2",
         "0",
         "1",
         "0",
         "0",
         "0",
         "4",
         "0",
         "1",
         "1",
         "47",
         "12",
         "4",
         "1",
         "20",
         "0",
         "2",
         "4",
         "3",
         "50",
         "5",
         "4",
         "41",
         "0",
         "14",
         "7",
         "4",
         "268",
         "3",
         "20",
         "1",
         "0",
         "4",
         "35",
         "91",
         "0",
         "5",
         "1",
         "97",
         "5",
         "38",
         "0",
         "6",
         "3",
         "0",
         "21",
         "2",
         "0",
         "0",
         "0",
         "9",
         "8",
         "1",
         "0",
         "0",
         "0",
         "1",
         "132",
         "23",
         "13",
         "91",
         "3",
         "1",
         "44",
         "8",
         "18",
         "10",
         "6",
         "67",
         "36",
         "0",
         "24",
         "0",
         "8",
         "2",
         "6",
         "0",
         "0",
         "2",
         "18",
         "18",
         "3",
         "1",
         "1",
         "2",
         "0",
         "0",
         "2",
         "1",
         "1",
         "12",
         "4",
         "5",
         "5",
         "1",
         "1",
         "6",
         "0",
         "3",
         "1",
         "0",
         "0",
         "0",
         "136",
         "136",
         "167",
         "35",
         "0",
         "1",
         "0",
         "17",
         "90",
         "15",
         "4",
         "16",
         "0",
         "0",
         "8",
         "2",
         "32",
         "18",
         "13",
         "0",
         "32",
         "8",
         "14",
         "1",
         "0",
         "9",
         "8",
         "0",
         "0",
         "0",
         "0",
         "0",
         "0",
         "0",
         "0",
         "0",
         "0",
         "0",
         "0",
         "0",
         "22",
         "22",
         "0",
         "0",
         "0",
         "4",
         "2",
         "17",
         "9",
         "3",
         "2",
         "2",
         "1",
         "1",
         "35",
         "35",
         "7",
         "7",
         "10",
         "8",
         "2",
         "1",
         "1",
         "0",
         "4",
         "4",
         "12",
         "4",
         "4",
         "4",
         "66",
         "8",
         "0",
         "47",
         "1",
         "5",
         "6",
         "6",
         "1",
         "0",
         "2",
         "26",
         "14",
         "4",
         "4",
         "3",
         "1",
         "3",
         "3",
         "23",
         "23",
         "14",
         "8",
         "5",
         "91",
         "39",
         "3",
         "3",
         "7",
         "10",
         "2",
         "1",
         "10",
         "5",
         "3",
         "3",
         "1",
         "1",
         "14",
         "5",
         "55",
         "12",
         "3",
         "6",
         "30",
         "1",
         "18",
         "16",
         "0",
         "6",
         "2",
         "0",
         "0",
         "7",
         "7",
         "11",
         "11",
         "3",
         "0",
         "0",
         "6",
         "4",
         "4",
         "2",
         "0",
         "0",
         "39",
         "9",
         "4",
         "8",
         "5",
         "3",
         "7",
         "0",
         "3",
         "4",
         "0",
         "7",
         "5",
         "0",
         "10",
         "9",
         "2",
         "1",
         "10",
         "9",
         "1",
         "0",
         "0",
         "0",
         "0",
         "0",
         "7",
         "7",
         "10",
         "2",
         "1",
         "1",
         "3",
         "3",
         "3",
         "0",
         "1",
         "0",
         "0",
         "42",
         "2",
         "2",
         "1",
         "35",
         "2",
         "5",
         "1",
         "1",
         "12",
         "12",
         "1",
         "1",
         "3",
         "2",
         "2",
         "1",
         "1",
         "17",
         "0",
         "0",
         "6",
         "0",
         "2",
         "1",
         "1",
         "0",
         "2",
         "17",
         "4",
         "1",
         "8",
         "37",
         "0",
         "30",
         "3",
         "4",
         "0",
         "0",
         "3",
         "1",
         "1",
         "1",
         "1",
         "1",
         "30",
         "19",
         "0",
         "0",
         "19",
         "8",
         "1",
         "1",
         "1",
         "22",
         "3",
         "5",
         "4",
         "5",
         "0",
         "1",
         "10",
         "2",
         "0",
         "4",
         "1",
         "4",
         "7",
         "2",
         "2",
         "1",
         "1",
         "8",
         "2",
         "4",
         "5",
         "5",
         "7",
         "1",
         "2",
         "2",
         "2",
         "1",
         "1",
         "3",
         "1",
         "0",
         "4",
         "4",
         "26",
         "0",
         "1",
         "6",
         "1",
         "10",
         "1",
         "7",
         "3",
         "1",
         "3",
         "10",
         "4",
         "4",
         "11",
         "2",
         "7",
         "4",
         "1",
         "1",
         "2",
         "1",
         "4",
         "3",
         "5",
         "3",
         "3"
        ]
       ],
       "shape": {
        "columns": 1003,
        "rows": 5
       }
      },
      "text/html": [
       "<div>\n",
       "<style scoped>\n",
       "    .dataframe tbody tr th:only-of-type {\n",
       "        vertical-align: middle;\n",
       "    }\n",
       "\n",
       "    .dataframe tbody tr th {\n",
       "        vertical-align: top;\n",
       "    }\n",
       "\n",
       "    .dataframe thead th {\n",
       "        text-align: right;\n",
       "    }\n",
       "</style>\n",
       "<table border=\"1\" class=\"dataframe\">\n",
       "  <thead>\n",
       "    <tr style=\"text-align: right;\">\n",
       "      <th></th>\n",
       "      <th>mint</th>\n",
       "      <th>leak</th>\n",
       "      <th>limit</th>\n",
       "      <th>add add</th>\n",
       "      <th>add and</th>\n",
       "      <th>add and dup3</th>\n",
       "      <th>add calldataload</th>\n",
       "      <th>add calldataload push2</th>\n",
       "      <th>add dup1</th>\n",
       "      <th>add dup1 dup1</th>\n",
       "      <th>...</th>\n",
       "      <th>swap3 swap2</th>\n",
       "      <th>swap3 swap2 pop</th>\n",
       "      <th>swap3 swap2 swap1</th>\n",
       "      <th>swap4 pop</th>\n",
       "      <th>swap4 pop pop</th>\n",
       "      <th>swap4 swap1</th>\n",
       "      <th>swap4 swap1 swap4</th>\n",
       "      <th>swap4 swap3</th>\n",
       "      <th>swap4 swap3 pop</th>\n",
       "      <th>swap5 pop</th>\n",
       "    </tr>\n",
       "    <tr>\n",
       "      <th>address</th>\n",
       "      <th></th>\n",
       "      <th></th>\n",
       "      <th></th>\n",
       "      <th></th>\n",
       "      <th></th>\n",
       "      <th></th>\n",
       "      <th></th>\n",
       "      <th></th>\n",
       "      <th></th>\n",
       "      <th></th>\n",
       "      <th></th>\n",
       "      <th></th>\n",
       "      <th></th>\n",
       "      <th></th>\n",
       "      <th></th>\n",
       "      <th></th>\n",
       "      <th></th>\n",
       "      <th></th>\n",
       "      <th></th>\n",
       "      <th></th>\n",
       "      <th></th>\n",
       "    </tr>\n",
       "  </thead>\n",
       "  <tbody>\n",
       "    <tr>\n",
       "      <th>0x2753dce37a7edb052a77832039bcc9aa49ad8b25</th>\n",
       "      <td>0</td>\n",
       "      <td>0</td>\n",
       "      <td>1</td>\n",
       "      <td>3</td>\n",
       "      <td>0</td>\n",
       "      <td>0</td>\n",
       "      <td>2</td>\n",
       "      <td>0</td>\n",
       "      <td>1</td>\n",
       "      <td>0</td>\n",
       "      <td>...</td>\n",
       "      <td>4</td>\n",
       "      <td>2</td>\n",
       "      <td>2</td>\n",
       "      <td>3</td>\n",
       "      <td>3</td>\n",
       "      <td>3</td>\n",
       "      <td>2</td>\n",
       "      <td>2</td>\n",
       "      <td>2</td>\n",
       "      <td>0</td>\n",
       "    </tr>\n",
       "    <tr>\n",
       "      <th>0x94b7d24552933f50a5a5705c446528806dcea381</th>\n",
       "      <td>0</td>\n",
       "      <td>0</td>\n",
       "      <td>0</td>\n",
       "      <td>0</td>\n",
       "      <td>0</td>\n",
       "      <td>0</td>\n",
       "      <td>0</td>\n",
       "      <td>0</td>\n",
       "      <td>0</td>\n",
       "      <td>0</td>\n",
       "      <td>...</td>\n",
       "      <td>0</td>\n",
       "      <td>0</td>\n",
       "      <td>0</td>\n",
       "      <td>0</td>\n",
       "      <td>0</td>\n",
       "      <td>0</td>\n",
       "      <td>0</td>\n",
       "      <td>0</td>\n",
       "      <td>0</td>\n",
       "      <td>0</td>\n",
       "    </tr>\n",
       "    <tr>\n",
       "      <th>0xe0b9d4146aad6936cbfcbe4dae47e34aab96b093</th>\n",
       "      <td>0</td>\n",
       "      <td>0</td>\n",
       "      <td>0</td>\n",
       "      <td>0</td>\n",
       "      <td>4</td>\n",
       "      <td>3</td>\n",
       "      <td>0</td>\n",
       "      <td>0</td>\n",
       "      <td>2</td>\n",
       "      <td>0</td>\n",
       "      <td>...</td>\n",
       "      <td>26</td>\n",
       "      <td>25</td>\n",
       "      <td>1</td>\n",
       "      <td>5</td>\n",
       "      <td>3</td>\n",
       "      <td>0</td>\n",
       "      <td>0</td>\n",
       "      <td>3</td>\n",
       "      <td>2</td>\n",
       "      <td>2</td>\n",
       "    </tr>\n",
       "    <tr>\n",
       "      <th>0x10f6f2b97f3ab29583d9d38babf2994df7220c21</th>\n",
       "      <td>1</td>\n",
       "      <td>0</td>\n",
       "      <td>1</td>\n",
       "      <td>4</td>\n",
       "      <td>4</td>\n",
       "      <td>3</td>\n",
       "      <td>1</td>\n",
       "      <td>0</td>\n",
       "      <td>3</td>\n",
       "      <td>0</td>\n",
       "      <td>...</td>\n",
       "      <td>40</td>\n",
       "      <td>37</td>\n",
       "      <td>3</td>\n",
       "      <td>9</td>\n",
       "      <td>6</td>\n",
       "      <td>0</td>\n",
       "      <td>0</td>\n",
       "      <td>7</td>\n",
       "      <td>4</td>\n",
       "      <td>0</td>\n",
       "    </tr>\n",
       "    <tr>\n",
       "      <th>0x11cbc781dadaad13fc3a361772c80b1c027820af</th>\n",
       "      <td>0</td>\n",
       "      <td>0</td>\n",
       "      <td>0</td>\n",
       "      <td>1</td>\n",
       "      <td>4</td>\n",
       "      <td>4</td>\n",
       "      <td>3</td>\n",
       "      <td>0</td>\n",
       "      <td>8</td>\n",
       "      <td>0</td>\n",
       "      <td>...</td>\n",
       "      <td>4</td>\n",
       "      <td>1</td>\n",
       "      <td>1</td>\n",
       "      <td>2</td>\n",
       "      <td>1</td>\n",
       "      <td>4</td>\n",
       "      <td>3</td>\n",
       "      <td>5</td>\n",
       "      <td>3</td>\n",
       "      <td>3</td>\n",
       "    </tr>\n",
       "  </tbody>\n",
       "</table>\n",
       "<p>5 rows × 1003 columns</p>\n",
       "</div>"
      ],
      "text/plain": [
       "                                            mint  leak  limit  add add  \\\n",
       "address                                                                  \n",
       "0x2753dce37a7edb052a77832039bcc9aa49ad8b25     0     0      1        3   \n",
       "0x94b7d24552933f50a5a5705c446528806dcea381     0     0      0        0   \n",
       "0xe0b9d4146aad6936cbfcbe4dae47e34aab96b093     0     0      0        0   \n",
       "0x10f6f2b97f3ab29583d9d38babf2994df7220c21     1     0      1        4   \n",
       "0x11cbc781dadaad13fc3a361772c80b1c027820af     0     0      0        1   \n",
       "\n",
       "                                            add and  add and dup3  \\\n",
       "address                                                             \n",
       "0x2753dce37a7edb052a77832039bcc9aa49ad8b25        0             0   \n",
       "0x94b7d24552933f50a5a5705c446528806dcea381        0             0   \n",
       "0xe0b9d4146aad6936cbfcbe4dae47e34aab96b093        4             3   \n",
       "0x10f6f2b97f3ab29583d9d38babf2994df7220c21        4             3   \n",
       "0x11cbc781dadaad13fc3a361772c80b1c027820af        4             4   \n",
       "\n",
       "                                            add calldataload  \\\n",
       "address                                                        \n",
       "0x2753dce37a7edb052a77832039bcc9aa49ad8b25                 2   \n",
       "0x94b7d24552933f50a5a5705c446528806dcea381                 0   \n",
       "0xe0b9d4146aad6936cbfcbe4dae47e34aab96b093                 0   \n",
       "0x10f6f2b97f3ab29583d9d38babf2994df7220c21                 1   \n",
       "0x11cbc781dadaad13fc3a361772c80b1c027820af                 3   \n",
       "\n",
       "                                            add calldataload push2  add dup1  \\\n",
       "address                                                                        \n",
       "0x2753dce37a7edb052a77832039bcc9aa49ad8b25                       0         1   \n",
       "0x94b7d24552933f50a5a5705c446528806dcea381                       0         0   \n",
       "0xe0b9d4146aad6936cbfcbe4dae47e34aab96b093                       0         2   \n",
       "0x10f6f2b97f3ab29583d9d38babf2994df7220c21                       0         3   \n",
       "0x11cbc781dadaad13fc3a361772c80b1c027820af                       0         8   \n",
       "\n",
       "                                            add dup1 dup1  ...  swap3 swap2  \\\n",
       "address                                                    ...                \n",
       "0x2753dce37a7edb052a77832039bcc9aa49ad8b25              0  ...            4   \n",
       "0x94b7d24552933f50a5a5705c446528806dcea381              0  ...            0   \n",
       "0xe0b9d4146aad6936cbfcbe4dae47e34aab96b093              0  ...           26   \n",
       "0x10f6f2b97f3ab29583d9d38babf2994df7220c21              0  ...           40   \n",
       "0x11cbc781dadaad13fc3a361772c80b1c027820af              0  ...            4   \n",
       "\n",
       "                                            swap3 swap2 pop  \\\n",
       "address                                                       \n",
       "0x2753dce37a7edb052a77832039bcc9aa49ad8b25                2   \n",
       "0x94b7d24552933f50a5a5705c446528806dcea381                0   \n",
       "0xe0b9d4146aad6936cbfcbe4dae47e34aab96b093               25   \n",
       "0x10f6f2b97f3ab29583d9d38babf2994df7220c21               37   \n",
       "0x11cbc781dadaad13fc3a361772c80b1c027820af                1   \n",
       "\n",
       "                                            swap3 swap2 swap1  swap4 pop  \\\n",
       "address                                                                    \n",
       "0x2753dce37a7edb052a77832039bcc9aa49ad8b25                  2          3   \n",
       "0x94b7d24552933f50a5a5705c446528806dcea381                  0          0   \n",
       "0xe0b9d4146aad6936cbfcbe4dae47e34aab96b093                  1          5   \n",
       "0x10f6f2b97f3ab29583d9d38babf2994df7220c21                  3          9   \n",
       "0x11cbc781dadaad13fc3a361772c80b1c027820af                  1          2   \n",
       "\n",
       "                                            swap4 pop pop  swap4 swap1  \\\n",
       "address                                                                  \n",
       "0x2753dce37a7edb052a77832039bcc9aa49ad8b25              3            3   \n",
       "0x94b7d24552933f50a5a5705c446528806dcea381              0            0   \n",
       "0xe0b9d4146aad6936cbfcbe4dae47e34aab96b093              3            0   \n",
       "0x10f6f2b97f3ab29583d9d38babf2994df7220c21              6            0   \n",
       "0x11cbc781dadaad13fc3a361772c80b1c027820af              1            4   \n",
       "\n",
       "                                            swap4 swap1 swap4  swap4 swap3  \\\n",
       "address                                                                      \n",
       "0x2753dce37a7edb052a77832039bcc9aa49ad8b25                  2            2   \n",
       "0x94b7d24552933f50a5a5705c446528806dcea381                  0            0   \n",
       "0xe0b9d4146aad6936cbfcbe4dae47e34aab96b093                  0            3   \n",
       "0x10f6f2b97f3ab29583d9d38babf2994df7220c21                  0            7   \n",
       "0x11cbc781dadaad13fc3a361772c80b1c027820af                  3            5   \n",
       "\n",
       "                                            swap4 swap3 pop  swap5 pop  \n",
       "address                                                                 \n",
       "0x2753dce37a7edb052a77832039bcc9aa49ad8b25                2          0  \n",
       "0x94b7d24552933f50a5a5705c446528806dcea381                0          0  \n",
       "0xe0b9d4146aad6936cbfcbe4dae47e34aab96b093                2          2  \n",
       "0x10f6f2b97f3ab29583d9d38babf2994df7220c21                4          0  \n",
       "0x11cbc781dadaad13fc3a361772c80b1c027820af                3          3  \n",
       "\n",
       "[5 rows x 1003 columns]"
      ]
     },
     "execution_count": 6,
     "metadata": {},
     "output_type": "execute_result"
    }
   ],
   "source": [
    "df.head()"
   ]
  },
  {
   "cell_type": "code",
   "execution_count": 7,
   "id": "bdc02200",
   "metadata": {},
   "outputs": [
    {
     "data": {
      "text/plain": [
       "['add add',\n",
       " 'add and',\n",
       " 'add and dup3',\n",
       " 'add calldataload',\n",
       " 'add calldataload push2']"
      ]
     },
     "execution_count": 7,
     "metadata": {},
     "output_type": "execute_result"
    }
   ],
   "source": [
    "features[:5]"
   ]
  },
  {
   "cell_type": "code",
   "execution_count": 8,
   "id": "1af91f6d",
   "metadata": {},
   "outputs": [
    {
     "data": {
      "text/plain": [
       "['mint', 'leak', 'limit']"
      ]
     },
     "execution_count": 8,
     "metadata": {},
     "output_type": "execute_result"
    }
   ],
   "source": [
    "labels[:5]"
   ]
  },
  {
   "cell_type": "markdown",
   "id": "5196a65d",
   "metadata": {},
   "source": [
    "## Prepare Features and Labels"
   ]
  },
  {
   "cell_type": "code",
   "execution_count": 9,
   "id": "c86f3267",
   "metadata": {},
   "outputs": [],
   "source": [
    "X = df[features]\n",
    "y_mint = df[['mint']]\n",
    "y_leak = df[['leak']]\n",
    "y_limit = df[['limit']]\n",
    "\n",
    "X = grouping_df[grouping_features]\n",
    "y_mint = grouping_df[['mint']]\n",
    "y_leak = grouping_df[['leak']]\n",
    "y_limit = grouping_df[['limit']]"
   ]
  },
  {
   "cell_type": "markdown",
   "id": "f3c7ea05",
   "metadata": {},
   "source": [
    "## Train/Test Split"
   ]
  },
  {
   "cell_type": "code",
   "execution_count": 10,
   "id": "72e9fa87",
   "metadata": {},
   "outputs": [],
   "source": [
    "X_mint_train, X_mint_test, y_mint_train, y_mint_test = train_test_split(\n",
    "    X, y_mint, test_size=0.2, random_state=42\n",
    ")\n",
    "\n",
    "X_leak_train, X_leak_test, y_leak_train, y_leak_test = train_test_split(\n",
    "    X, y_leak, test_size=0.2, random_state=42\n",
    ")\n",
    "\n",
    "X_limit_train, X_limit_test, y_limit_train, y_limit_test = train_test_split(\n",
    "    X, y_limit, test_size=0.2, random_state=42\n",
    ")"
   ]
  },
  {
   "cell_type": "markdown",
   "id": "3363d121",
   "metadata": {},
   "source": [
    "## Run all models and collect reports"
   ]
  },
  {
   "cell_type": "code",
   "execution_count": 11,
   "id": "0bd4e321",
   "metadata": {},
   "outputs": [],
   "source": [
    "def get_report_all_ml(X_train, y_train, X_test, y_test):\n",
    "    report_list = []\n",
    "\n",
    "    for name, model in models.items():\n",
    "        model.fit(X_train, y_train)\n",
    "        y_pred = model.predict(X_test)\n",
    "\n",
    "        # Generate classification report (as dict)\n",
    "        report_dict = classification_report(y_test, y_pred, output_dict=True, zero_division=0)\n",
    "\n",
    "        # Average scores across all labels (macro average)\n",
    "        avg_scores = report_dict[\"macro avg\"]\n",
    "\n",
    "        report_list.append({\n",
    "            \"Model\": name,\n",
    "            \"Precision\": avg_scores[\"precision\"],\n",
    "            \"Recall\": avg_scores[\"recall\"],\n",
    "            \"F1-score\": avg_scores[\"f1-score\"]\n",
    "        })\n",
    "\n",
    "    df_report = pd.DataFrame(report_list)\n",
    "    df_report = df_report.sort_values(\"F1-score\", ascending=False).reset_index(drop=True)\n",
    "\n",
    "    return df_report"
   ]
  },
  {
   "cell_type": "code",
   "execution_count": 12,
   "id": "533a5a55",
   "metadata": {},
   "outputs": [],
   "source": [
    "def display_cm(y_test, y_pred):\n",
    "    cm = confusion_matrix(y_test, y_pred)\n",
    "    cm_display = ConfusionMatrixDisplay(confusion_matrix = cm, display_labels = [0, 1])\n",
    "    return cm_display"
   ]
  },
  {
   "cell_type": "markdown",
   "id": "6da5e9be",
   "metadata": {},
   "source": [
    "## Show report"
   ]
  },
  {
   "cell_type": "code",
   "execution_count": 13,
   "id": "f85a888a",
   "metadata": {},
   "outputs": [
    {
     "name": "stdout",
     "output_type": "stream",
     "text": [
      "[LightGBM] [Warning] Found whitespace in feature_names, replace with underlines\n",
      "[LightGBM] [Info] Number of positive: 17, number of negative: 36\n",
      "[LightGBM] [Info] Auto-choosing row-wise multi-threading, the overhead of testing was 0.000358 seconds.\n",
      "You can set `force_row_wise=true` to remove the overhead.\n",
      "And if memory is not enough, you can set `force_col_wise=true`.\n",
      "[LightGBM] [Info] Total Bins 5554\n",
      "[LightGBM] [Info] Number of data points in the train set: 53, number of used features: 608\n",
      "[LightGBM] [Info] [binary:BoostFromScore]: pavg=0.320755 -> initscore=-0.750306\n",
      "[LightGBM] [Info] Start training from score -0.750306\n",
      "[LightGBM] [Warning] No further splits with positive gain, best gain: -inf\n",
      "[LightGBM] [Warning] No further splits with positive gain, best gain: -inf\n",
      "[LightGBM] [Warning] No further splits with positive gain, best gain: -inf\n",
      "[LightGBM] [Warning] No further splits with positive gain, best gain: -inf\n",
      "[LightGBM] [Warning] No further splits with positive gain, best gain: -inf\n",
      "[LightGBM] [Warning] No further splits with positive gain, best gain: -inf\n",
      "[LightGBM] [Warning] No further splits with positive gain, best gain: -inf\n",
      "[LightGBM] [Warning] No further splits with positive gain, best gain: -inf\n",
      "[LightGBM] [Warning] No further splits with positive gain, best gain: -inf\n",
      "[LightGBM] [Warning] No further splits with positive gain, best gain: -inf\n",
      "[LightGBM] [Warning] No further splits with positive gain, best gain: -inf\n",
      "[LightGBM] [Warning] No further splits with positive gain, best gain: -inf\n",
      "[LightGBM] [Warning] No further splits with positive gain, best gain: -inf\n",
      "[LightGBM] [Warning] No further splits with positive gain, best gain: -inf\n",
      "[LightGBM] [Warning] No further splits with positive gain, best gain: -inf\n",
      "[LightGBM] [Warning] No further splits with positive gain, best gain: -inf\n",
      "[LightGBM] [Warning] No further splits with positive gain, best gain: -inf\n",
      "[LightGBM] [Warning] No further splits with positive gain, best gain: -inf\n",
      "[LightGBM] [Warning] No further splits with positive gain, best gain: -inf\n",
      "[LightGBM] [Warning] No further splits with positive gain, best gain: -inf\n",
      "[LightGBM] [Warning] No further splits with positive gain, best gain: -inf\n",
      "[LightGBM] [Warning] No further splits with positive gain, best gain: -inf\n",
      "[LightGBM] [Warning] No further splits with positive gain, best gain: -inf\n",
      "[LightGBM] [Warning] No further splits with positive gain, best gain: -inf\n",
      "[LightGBM] [Warning] No further splits with positive gain, best gain: -inf\n",
      "[LightGBM] [Warning] No further splits with positive gain, best gain: -inf\n",
      "[LightGBM] [Warning] No further splits with positive gain, best gain: -inf\n",
      "[LightGBM] [Warning] No further splits with positive gain, best gain: -inf\n",
      "[LightGBM] [Warning] No further splits with positive gain, best gain: -inf\n",
      "[LightGBM] [Warning] No further splits with positive gain, best gain: -inf\n",
      "[LightGBM] [Warning] No further splits with positive gain, best gain: -inf\n",
      "[LightGBM] [Warning] No further splits with positive gain, best gain: -inf\n",
      "[LightGBM] [Warning] No further splits with positive gain, best gain: -inf\n",
      "[LightGBM] [Warning] No further splits with positive gain, best gain: -inf\n",
      "[LightGBM] [Warning] No further splits with positive gain, best gain: -inf\n",
      "[LightGBM] [Warning] No further splits with positive gain, best gain: -inf\n",
      "[LightGBM] [Warning] No further splits with positive gain, best gain: -inf\n",
      "[LightGBM] [Warning] No further splits with positive gain, best gain: -inf\n",
      "[LightGBM] [Warning] No further splits with positive gain, best gain: -inf\n",
      "[LightGBM] [Warning] No further splits with positive gain, best gain: -inf\n",
      "[LightGBM] [Warning] No further splits with positive gain, best gain: -inf\n",
      "[LightGBM] [Warning] No further splits with positive gain, best gain: -inf\n",
      "[LightGBM] [Warning] No further splits with positive gain, best gain: -inf\n",
      "[LightGBM] [Warning] No further splits with positive gain, best gain: -inf\n",
      "[LightGBM] [Warning] No further splits with positive gain, best gain: -inf\n",
      "[LightGBM] [Warning] No further splits with positive gain, best gain: -inf\n",
      "[LightGBM] [Warning] No further splits with positive gain, best gain: -inf\n",
      "[LightGBM] [Warning] No further splits with positive gain, best gain: -inf\n",
      "[LightGBM] [Warning] No further splits with positive gain, best gain: -inf\n",
      "[LightGBM] [Warning] No further splits with positive gain, best gain: -inf\n",
      "[LightGBM] [Warning] No further splits with positive gain, best gain: -inf\n",
      "[LightGBM] [Warning] No further splits with positive gain, best gain: -inf\n",
      "[LightGBM] [Warning] No further splits with positive gain, best gain: -inf\n",
      "[LightGBM] [Warning] No further splits with positive gain, best gain: -inf\n",
      "[LightGBM] [Warning] No further splits with positive gain, best gain: -inf\n",
      "[LightGBM] [Warning] No further splits with positive gain, best gain: -inf\n",
      "[LightGBM] [Warning] No further splits with positive gain, best gain: -inf\n",
      "[LightGBM] [Warning] No further splits with positive gain, best gain: -inf\n",
      "[LightGBM] [Warning] No further splits with positive gain, best gain: -inf\n",
      "[LightGBM] [Warning] No further splits with positive gain, best gain: -inf\n",
      "[LightGBM] [Warning] No further splits with positive gain, best gain: -inf\n",
      "[LightGBM] [Warning] No further splits with positive gain, best gain: -inf\n",
      "[LightGBM] [Warning] No further splits with positive gain, best gain: -inf\n",
      "[LightGBM] [Warning] No further splits with positive gain, best gain: -inf\n",
      "[LightGBM] [Warning] No further splits with positive gain, best gain: -inf\n",
      "[LightGBM] [Warning] No further splits with positive gain, best gain: -inf\n",
      "[LightGBM] [Warning] No further splits with positive gain, best gain: -inf\n",
      "[LightGBM] [Warning] No further splits with positive gain, best gain: -inf\n",
      "[LightGBM] [Warning] No further splits with positive gain, best gain: -inf\n",
      "[LightGBM] [Warning] No further splits with positive gain, best gain: -inf\n",
      "[LightGBM] [Warning] No further splits with positive gain, best gain: -inf\n",
      "[LightGBM] [Warning] No further splits with positive gain, best gain: -inf\n",
      "[LightGBM] [Warning] No further splits with positive gain, best gain: -inf\n",
      "[LightGBM] [Warning] No further splits with positive gain, best gain: -inf\n",
      "[LightGBM] [Warning] No further splits with positive gain, best gain: -inf\n",
      "[LightGBM] [Warning] No further splits with positive gain, best gain: -inf\n",
      "[LightGBM] [Warning] No further splits with positive gain, best gain: -inf\n",
      "[LightGBM] [Warning] No further splits with positive gain, best gain: -inf\n",
      "[LightGBM] [Warning] No further splits with positive gain, best gain: -inf\n",
      "[LightGBM] [Warning] No further splits with positive gain, best gain: -inf\n",
      "[LightGBM] [Warning] No further splits with positive gain, best gain: -inf\n",
      "[LightGBM] [Warning] No further splits with positive gain, best gain: -inf\n",
      "[LightGBM] [Warning] No further splits with positive gain, best gain: -inf\n",
      "[LightGBM] [Warning] No further splits with positive gain, best gain: -inf\n",
      "[LightGBM] [Warning] No further splits with positive gain, best gain: -inf\n",
      "[LightGBM] [Warning] No further splits with positive gain, best gain: -inf\n",
      "[LightGBM] [Warning] No further splits with positive gain, best gain: -inf\n",
      "[LightGBM] [Warning] No further splits with positive gain, best gain: -inf\n",
      "[LightGBM] [Warning] No further splits with positive gain, best gain: -inf\n",
      "[LightGBM] [Warning] No further splits with positive gain, best gain: -inf\n",
      "[LightGBM] [Warning] No further splits with positive gain, best gain: -inf\n",
      "[LightGBM] [Warning] No further splits with positive gain, best gain: -inf\n",
      "[LightGBM] [Warning] No further splits with positive gain, best gain: -inf\n",
      "[LightGBM] [Warning] No further splits with positive gain, best gain: -inf\n",
      "[LightGBM] [Warning] No further splits with positive gain, best gain: -inf\n",
      "[LightGBM] [Warning] No further splits with positive gain, best gain: -inf\n",
      "[LightGBM] [Warning] No further splits with positive gain, best gain: -inf\n",
      "[LightGBM] [Warning] No further splits with positive gain, best gain: -inf\n",
      "[LightGBM] [Warning] No further splits with positive gain, best gain: -inf\n",
      "[LightGBM] [Warning] No further splits with positive gain, best gain: -inf\n",
      "[LightGBM] [Warning] Found whitespace in feature_names, replace with underlines\n",
      "[LightGBM] [Info] Number of positive: 5, number of negative: 48\n",
      "[LightGBM] [Info] Auto-choosing col-wise multi-threading, the overhead of testing was 0.001050 seconds.\n",
      "You can set `force_col_wise=true` to remove the overhead.\n",
      "[LightGBM] [Info] Total Bins 5554\n",
      "[LightGBM] [Info] Number of data points in the train set: 53, number of used features: 608\n",
      "[LightGBM] [Info] [binary:BoostFromScore]: pavg=0.094340 -> initscore=-2.261763\n",
      "[LightGBM] [Info] Start training from score -2.261763\n",
      "[LightGBM] [Warning] No further splits with positive gain, best gain: -inf\n",
      "[LightGBM] [Warning] No further splits with positive gain, best gain: -inf\n",
      "[LightGBM] [Warning] No further splits with positive gain, best gain: -inf\n",
      "[LightGBM] [Warning] No further splits with positive gain, best gain: -inf\n",
      "[LightGBM] [Warning] No further splits with positive gain, best gain: -inf\n",
      "[LightGBM] [Warning] No further splits with positive gain, best gain: -inf\n",
      "[LightGBM] [Warning] No further splits with positive gain, best gain: -inf\n",
      "[LightGBM] [Warning] No further splits with positive gain, best gain: -inf\n",
      "[LightGBM] [Warning] No further splits with positive gain, best gain: -inf\n",
      "[LightGBM] [Warning] No further splits with positive gain, best gain: -inf\n",
      "[LightGBM] [Warning] No further splits with positive gain, best gain: -inf\n",
      "[LightGBM] [Warning] No further splits with positive gain, best gain: -inf\n",
      "[LightGBM] [Warning] No further splits with positive gain, best gain: -inf\n",
      "[LightGBM] [Warning] No further splits with positive gain, best gain: -inf\n",
      "[LightGBM] [Warning] No further splits with positive gain, best gain: -inf\n",
      "[LightGBM] [Warning] No further splits with positive gain, best gain: -inf\n",
      "[LightGBM] [Warning] No further splits with positive gain, best gain: -inf\n",
      "[LightGBM] [Warning] No further splits with positive gain, best gain: -inf\n",
      "[LightGBM] [Warning] No further splits with positive gain, best gain: -inf\n",
      "[LightGBM] [Warning] No further splits with positive gain, best gain: -inf\n",
      "[LightGBM] [Warning] No further splits with positive gain, best gain: -inf\n",
      "[LightGBM] [Warning] No further splits with positive gain, best gain: -inf\n",
      "[LightGBM] [Warning] No further splits with positive gain, best gain: -inf\n",
      "[LightGBM] [Warning] No further splits with positive gain, best gain: -inf\n",
      "[LightGBM] [Warning] No further splits with positive gain, best gain: -inf\n",
      "[LightGBM] [Warning] No further splits with positive gain, best gain: -inf\n",
      "[LightGBM] [Warning] No further splits with positive gain, best gain: -inf\n",
      "[LightGBM] [Warning] No further splits with positive gain, best gain: -inf\n",
      "[LightGBM] [Warning] No further splits with positive gain, best gain: -inf\n",
      "[LightGBM] [Warning] No further splits with positive gain, best gain: -inf\n",
      "[LightGBM] [Warning] No further splits with positive gain, best gain: -inf\n",
      "[LightGBM] [Warning] No further splits with positive gain, best gain: -inf\n",
      "[LightGBM] [Warning] No further splits with positive gain, best gain: -inf\n",
      "[LightGBM] [Warning] No further splits with positive gain, best gain: -inf\n",
      "[LightGBM] [Warning] No further splits with positive gain, best gain: -inf\n",
      "[LightGBM] [Warning] No further splits with positive gain, best gain: -inf\n",
      "[LightGBM] [Warning] No further splits with positive gain, best gain: -inf\n",
      "[LightGBM] [Warning] No further splits with positive gain, best gain: -inf\n",
      "[LightGBM] [Warning] No further splits with positive gain, best gain: -inf\n",
      "[LightGBM] [Warning] No further splits with positive gain, best gain: -inf\n",
      "[LightGBM] [Warning] No further splits with positive gain, best gain: -inf\n",
      "[LightGBM] [Warning] No further splits with positive gain, best gain: -inf\n",
      "[LightGBM] [Warning] No further splits with positive gain, best gain: -inf\n",
      "[LightGBM] [Warning] No further splits with positive gain, best gain: -inf\n",
      "[LightGBM] [Warning] No further splits with positive gain, best gain: -inf\n",
      "[LightGBM] [Warning] No further splits with positive gain, best gain: -inf\n",
      "[LightGBM] [Warning] No further splits with positive gain, best gain: -inf\n",
      "[LightGBM] [Warning] No further splits with positive gain, best gain: -inf\n",
      "[LightGBM] [Warning] No further splits with positive gain, best gain: -inf\n",
      "[LightGBM] [Warning] No further splits with positive gain, best gain: -inf\n",
      "[LightGBM] [Warning] No further splits with positive gain, best gain: -inf\n",
      "[LightGBM] [Warning] No further splits with positive gain, best gain: -inf\n",
      "[LightGBM] [Warning] No further splits with positive gain, best gain: -inf\n",
      "[LightGBM] [Warning] No further splits with positive gain, best gain: -inf\n",
      "[LightGBM] [Warning] No further splits with positive gain, best gain: -inf\n",
      "[LightGBM] [Warning] No further splits with positive gain, best gain: -inf\n",
      "[LightGBM] [Warning] No further splits with positive gain, best gain: -inf\n",
      "[LightGBM] [Warning] No further splits with positive gain, best gain: -inf\n",
      "[LightGBM] [Warning] No further splits with positive gain, best gain: -inf\n",
      "[LightGBM] [Warning] No further splits with positive gain, best gain: -inf\n",
      "[LightGBM] [Warning] No further splits with positive gain, best gain: -inf\n",
      "[LightGBM] [Warning] No further splits with positive gain, best gain: -inf\n",
      "[LightGBM] [Warning] No further splits with positive gain, best gain: -inf\n",
      "[LightGBM] [Warning] No further splits with positive gain, best gain: -inf\n",
      "[LightGBM] [Warning] No further splits with positive gain, best gain: -inf\n",
      "[LightGBM] [Warning] No further splits with positive gain, best gain: -inf\n",
      "[LightGBM] [Warning] No further splits with positive gain, best gain: -inf\n",
      "[LightGBM] [Warning] No further splits with positive gain, best gain: -inf\n",
      "[LightGBM] [Warning] No further splits with positive gain, best gain: -inf\n",
      "[LightGBM] [Warning] No further splits with positive gain, best gain: -inf\n",
      "[LightGBM] [Warning] No further splits with positive gain, best gain: -inf\n",
      "[LightGBM] [Warning] No further splits with positive gain, best gain: -inf\n",
      "[LightGBM] [Warning] No further splits with positive gain, best gain: -inf\n",
      "[LightGBM] [Warning] No further splits with positive gain, best gain: -inf\n",
      "[LightGBM] [Warning] No further splits with positive gain, best gain: -inf\n",
      "[LightGBM] [Warning] No further splits with positive gain, best gain: -inf\n",
      "[LightGBM] [Warning] No further splits with positive gain, best gain: -inf\n",
      "[LightGBM] [Warning] No further splits with positive gain, best gain: -inf\n",
      "[LightGBM] [Warning] No further splits with positive gain, best gain: -inf\n",
      "[LightGBM] [Warning] No further splits with positive gain, best gain: -inf\n",
      "[LightGBM] [Warning] No further splits with positive gain, best gain: -inf\n",
      "[LightGBM] [Warning] No further splits with positive gain, best gain: -inf\n",
      "[LightGBM] [Warning] No further splits with positive gain, best gain: -inf\n",
      "[LightGBM] [Warning] No further splits with positive gain, best gain: -inf\n",
      "[LightGBM] [Warning] No further splits with positive gain, best gain: -inf\n",
      "[LightGBM] [Warning] No further splits with positive gain, best gain: -inf\n",
      "[LightGBM] [Warning] No further splits with positive gain, best gain: -inf\n",
      "[LightGBM] [Warning] No further splits with positive gain, best gain: -inf\n",
      "[LightGBM] [Warning] No further splits with positive gain, best gain: -inf\n",
      "[LightGBM] [Warning] No further splits with positive gain, best gain: -inf\n",
      "[LightGBM] [Warning] No further splits with positive gain, best gain: -inf\n",
      "[LightGBM] [Warning] No further splits with positive gain, best gain: -inf\n",
      "[LightGBM] [Warning] No further splits with positive gain, best gain: -inf\n",
      "[LightGBM] [Warning] No further splits with positive gain, best gain: -inf\n",
      "[LightGBM] [Warning] No further splits with positive gain, best gain: -inf\n",
      "[LightGBM] [Warning] No further splits with positive gain, best gain: -inf\n",
      "[LightGBM] [Warning] No further splits with positive gain, best gain: -inf\n",
      "[LightGBM] [Warning] No further splits with positive gain, best gain: -inf\n",
      "[LightGBM] [Warning] No further splits with positive gain, best gain: -inf\n",
      "[LightGBM] [Warning] No further splits with positive gain, best gain: -inf\n",
      "[LightGBM] [Warning] Found whitespace in feature_names, replace with underlines\n",
      "[LightGBM] [Info] Number of positive: 21, number of negative: 32\n",
      "[LightGBM] [Info] Auto-choosing row-wise multi-threading, the overhead of testing was 0.000187 seconds.\n",
      "You can set `force_row_wise=true` to remove the overhead.\n",
      "And if memory is not enough, you can set `force_col_wise=true`.\n",
      "[LightGBM] [Info] Total Bins 5554\n",
      "[LightGBM] [Info] Number of data points in the train set: 53, number of used features: 608\n",
      "[LightGBM] [Info] [binary:BoostFromScore]: pavg=0.396226 -> initscore=-0.421213\n",
      "[LightGBM] [Info] Start training from score -0.421213\n",
      "[LightGBM] [Warning] No further splits with positive gain, best gain: -inf\n",
      "[LightGBM] [Warning] No further splits with positive gain, best gain: -inf\n",
      "[LightGBM] [Warning] No further splits with positive gain, best gain: -inf\n",
      "[LightGBM] [Warning] No further splits with positive gain, best gain: -inf\n",
      "[LightGBM] [Warning] No further splits with positive gain, best gain: -inf\n",
      "[LightGBM] [Warning] No further splits with positive gain, best gain: -inf\n",
      "[LightGBM] [Warning] No further splits with positive gain, best gain: -inf\n",
      "[LightGBM] [Warning] No further splits with positive gain, best gain: -inf\n",
      "[LightGBM] [Warning] No further splits with positive gain, best gain: -inf\n",
      "[LightGBM] [Warning] No further splits with positive gain, best gain: -inf\n",
      "[LightGBM] [Warning] No further splits with positive gain, best gain: -inf\n",
      "[LightGBM] [Warning] No further splits with positive gain, best gain: -inf\n",
      "[LightGBM] [Warning] No further splits with positive gain, best gain: -inf\n",
      "[LightGBM] [Warning] No further splits with positive gain, best gain: -inf\n",
      "[LightGBM] [Warning] No further splits with positive gain, best gain: -inf\n",
      "[LightGBM] [Warning] No further splits with positive gain, best gain: -inf\n",
      "[LightGBM] [Warning] No further splits with positive gain, best gain: -inf\n",
      "[LightGBM] [Warning] No further splits with positive gain, best gain: -inf\n",
      "[LightGBM] [Warning] No further splits with positive gain, best gain: -inf\n",
      "[LightGBM] [Warning] No further splits with positive gain, best gain: -inf\n",
      "[LightGBM] [Warning] No further splits with positive gain, best gain: -inf\n",
      "[LightGBM] [Warning] No further splits with positive gain, best gain: -inf\n",
      "[LightGBM] [Warning] No further splits with positive gain, best gain: -inf\n",
      "[LightGBM] [Warning] No further splits with positive gain, best gain: -inf\n",
      "[LightGBM] [Warning] No further splits with positive gain, best gain: -inf\n",
      "[LightGBM] [Warning] No further splits with positive gain, best gain: -inf\n",
      "[LightGBM] [Warning] No further splits with positive gain, best gain: -inf\n",
      "[LightGBM] [Warning] No further splits with positive gain, best gain: -inf\n",
      "[LightGBM] [Warning] No further splits with positive gain, best gain: -inf\n",
      "[LightGBM] [Warning] No further splits with positive gain, best gain: -inf\n",
      "[LightGBM] [Warning] No further splits with positive gain, best gain: -inf\n",
      "[LightGBM] [Warning] No further splits with positive gain, best gain: -inf\n",
      "[LightGBM] [Warning] No further splits with positive gain, best gain: -inf\n",
      "[LightGBM] [Warning] No further splits with positive gain, best gain: -inf\n",
      "[LightGBM] [Warning] No further splits with positive gain, best gain: -inf\n",
      "[LightGBM] [Warning] No further splits with positive gain, best gain: -inf\n",
      "[LightGBM] [Warning] No further splits with positive gain, best gain: -inf\n",
      "[LightGBM] [Warning] No further splits with positive gain, best gain: -inf\n",
      "[LightGBM] [Warning] No further splits with positive gain, best gain: -inf\n",
      "[LightGBM] [Warning] No further splits with positive gain, best gain: -inf\n",
      "[LightGBM] [Warning] No further splits with positive gain, best gain: -inf\n",
      "[LightGBM] [Warning] No further splits with positive gain, best gain: -inf\n",
      "[LightGBM] [Warning] No further splits with positive gain, best gain: -inf\n",
      "[LightGBM] [Warning] No further splits with positive gain, best gain: -inf\n",
      "[LightGBM] [Warning] No further splits with positive gain, best gain: -inf\n",
      "[LightGBM] [Warning] No further splits with positive gain, best gain: -inf\n",
      "[LightGBM] [Warning] No further splits with positive gain, best gain: -inf\n",
      "[LightGBM] [Warning] No further splits with positive gain, best gain: -inf\n",
      "[LightGBM] [Warning] No further splits with positive gain, best gain: -inf\n",
      "[LightGBM] [Warning] No further splits with positive gain, best gain: -inf\n",
      "[LightGBM] [Warning] No further splits with positive gain, best gain: -inf\n",
      "[LightGBM] [Warning] No further splits with positive gain, best gain: -inf\n",
      "[LightGBM] [Warning] No further splits with positive gain, best gain: -inf\n",
      "[LightGBM] [Warning] No further splits with positive gain, best gain: -inf\n",
      "[LightGBM] [Warning] No further splits with positive gain, best gain: -inf\n",
      "[LightGBM] [Warning] No further splits with positive gain, best gain: -inf\n",
      "[LightGBM] [Warning] No further splits with positive gain, best gain: -inf\n",
      "[LightGBM] [Warning] No further splits with positive gain, best gain: -inf\n",
      "[LightGBM] [Warning] No further splits with positive gain, best gain: -inf\n",
      "[LightGBM] [Warning] No further splits with positive gain, best gain: -inf\n",
      "[LightGBM] [Warning] No further splits with positive gain, best gain: -inf\n",
      "[LightGBM] [Warning] No further splits with positive gain, best gain: -inf\n",
      "[LightGBM] [Warning] No further splits with positive gain, best gain: -inf\n",
      "[LightGBM] [Warning] No further splits with positive gain, best gain: -inf\n",
      "[LightGBM] [Warning] No further splits with positive gain, best gain: -inf\n",
      "[LightGBM] [Warning] No further splits with positive gain, best gain: -inf\n",
      "[LightGBM] [Warning] No further splits with positive gain, best gain: -inf\n",
      "[LightGBM] [Warning] No further splits with positive gain, best gain: -inf\n",
      "[LightGBM] [Warning] No further splits with positive gain, best gain: -inf\n",
      "[LightGBM] [Warning] No further splits with positive gain, best gain: -inf\n",
      "[LightGBM] [Warning] No further splits with positive gain, best gain: -inf\n",
      "[LightGBM] [Warning] No further splits with positive gain, best gain: -inf\n",
      "[LightGBM] [Warning] No further splits with positive gain, best gain: -inf\n",
      "[LightGBM] [Warning] No further splits with positive gain, best gain: -inf\n",
      "[LightGBM] [Warning] No further splits with positive gain, best gain: -inf\n",
      "[LightGBM] [Warning] No further splits with positive gain, best gain: -inf\n",
      "[LightGBM] [Warning] No further splits with positive gain, best gain: -inf\n",
      "[LightGBM] [Warning] No further splits with positive gain, best gain: -inf\n",
      "[LightGBM] [Warning] No further splits with positive gain, best gain: -inf\n",
      "[LightGBM] [Warning] No further splits with positive gain, best gain: -inf\n",
      "[LightGBM] [Warning] No further splits with positive gain, best gain: -inf\n",
      "[LightGBM] [Warning] No further splits with positive gain, best gain: -inf\n",
      "[LightGBM] [Warning] No further splits with positive gain, best gain: -inf\n",
      "[LightGBM] [Warning] No further splits with positive gain, best gain: -inf\n",
      "[LightGBM] [Warning] No further splits with positive gain, best gain: -inf\n",
      "[LightGBM] [Warning] No further splits with positive gain, best gain: -inf\n",
      "[LightGBM] [Warning] No further splits with positive gain, best gain: -inf\n",
      "[LightGBM] [Warning] No further splits with positive gain, best gain: -inf\n",
      "[LightGBM] [Warning] No further splits with positive gain, best gain: -inf\n",
      "[LightGBM] [Warning] No further splits with positive gain, best gain: -inf\n",
      "[LightGBM] [Warning] No further splits with positive gain, best gain: -inf\n",
      "[LightGBM] [Warning] No further splits with positive gain, best gain: -inf\n",
      "[LightGBM] [Warning] No further splits with positive gain, best gain: -inf\n",
      "[LightGBM] [Warning] No further splits with positive gain, best gain: -inf\n",
      "[LightGBM] [Warning] No further splits with positive gain, best gain: -inf\n",
      "[LightGBM] [Warning] No further splits with positive gain, best gain: -inf\n",
      "[LightGBM] [Warning] No further splits with positive gain, best gain: -inf\n",
      "[LightGBM] [Warning] No further splits with positive gain, best gain: -inf\n",
      "[LightGBM] [Warning] No further splits with positive gain, best gain: -inf\n",
      "[LightGBM] [Warning] No further splits with positive gain, best gain: -inf\n"
     ]
    }
   ],
   "source": [
    "data = {\n",
    "  'mint': {\n",
    "    \"X_train\": X_mint_train,\n",
    "    \"X_test\": X_mint_test,\n",
    "    \"y_train\": y_mint_train,\n",
    "    \"y_test\": y_mint_test\n",
    "  },\n",
    "  'leak': {\n",
    "    \"X_train\": X_leak_train,\n",
    "    \"X_test\": X_leak_test,\n",
    "    \"y_train\": y_leak_train,\n",
    "    \"y_test\": y_leak_test\n",
    "  },\n",
    "  'limit': {\n",
    "    \"X_train\": X_limit_train,\n",
    "    \"X_test\": X_limit_test,\n",
    "    \"y_train\": y_limit_train,\n",
    "    \"y_test\": y_limit_test\n",
    "  }\n",
    "}\n",
    "\n",
    "reports = []\n",
    "\n",
    "for d in data.values():\n",
    "    X_train = d['X_train']\n",
    "    X_test = d['X_test']\n",
    "    y_train = d['y_train']\n",
    "    y_test = d['y_test']\n",
    "    df_report = get_report_all_ml(X_train, y_train, X_test, y_test)\n",
    "    reports.append(df_report)"
   ]
  },
  {
   "cell_type": "code",
   "execution_count": 14,
   "id": "94771c09",
   "metadata": {},
   "outputs": [
    {
     "data": {
      "application/vnd.microsoft.datawrangler.viewer.v0+json": {
       "columns": [
        {
         "name": "index",
         "rawType": "int64",
         "type": "integer"
        },
        {
         "name": "Model",
         "rawType": "object",
         "type": "string"
        },
        {
         "name": "Precision",
         "rawType": "float64",
         "type": "float"
        },
        {
         "name": "Recall",
         "rawType": "float64",
         "type": "float"
        },
        {
         "name": "F1-score",
         "rawType": "float64",
         "type": "float"
        }
       ],
       "ref": "936ad374-442f-4240-b2ee-4b757da040b2",
       "rows": [
        [
         "0",
         "MLPClassifier()",
         "0.7",
         "0.875",
         "0.7142857142857142"
        ],
        [
         "1",
         "SVC()",
         "0.7",
         "0.875",
         "0.7142857142857142"
        ],
        [
         "2",
         "LogisticRegression()",
         "0.6666666666666666",
         "0.8333333333333333",
         "0.65"
        ],
        [
         "3",
         "KNeighborsClassifier()",
         "0.6666666666666666",
         "0.8333333333333333",
         "0.65"
        ],
        [
         "4",
         "GaussianNB()",
         "0.6428571428571428",
         "0.7916666666666667",
         "0.5906432748538011"
        ],
        [
         "5",
         "ExtraTreesClassifier()",
         "0.6428571428571428",
         "0.7916666666666667",
         "0.5906432748538011"
        ],
        [
         "6",
         "AdaBoostClassifier()",
         "0.6428571428571428",
         "0.7916666666666667",
         "0.5906432748538011"
        ],
        [
         "7",
         "RandomForestClassifier()",
         "0.625",
         "0.75",
         "0.5333333333333333"
        ],
        [
         "8",
         "XGBClassifier()",
         "0.625",
         "0.75",
         "0.5333333333333333"
        ],
        [
         "9",
         "DecisionTreeClassifier()",
         "0.6111111111111112",
         "0.7083333333333334",
         "0.47593582887700536"
        ],
        [
         "10",
         "LGBMClassifier()",
         "0.6111111111111112",
         "0.7083333333333334",
         "0.47593582887700536"
        ],
        [
         "11",
         "SGDClassifier()",
         "0.07142857142857142",
         "0.5",
         "0.125"
        ]
       ],
       "shape": {
        "columns": 4,
        "rows": 12
       }
      },
      "text/html": [
       "<div>\n",
       "<style scoped>\n",
       "    .dataframe tbody tr th:only-of-type {\n",
       "        vertical-align: middle;\n",
       "    }\n",
       "\n",
       "    .dataframe tbody tr th {\n",
       "        vertical-align: top;\n",
       "    }\n",
       "\n",
       "    .dataframe thead th {\n",
       "        text-align: right;\n",
       "    }\n",
       "</style>\n",
       "<table border=\"1\" class=\"dataframe\">\n",
       "  <thead>\n",
       "    <tr style=\"text-align: right;\">\n",
       "      <th></th>\n",
       "      <th>Model</th>\n",
       "      <th>Precision</th>\n",
       "      <th>Recall</th>\n",
       "      <th>F1-score</th>\n",
       "    </tr>\n",
       "  </thead>\n",
       "  <tbody>\n",
       "    <tr>\n",
       "      <th>0</th>\n",
       "      <td>MLPClassifier()</td>\n",
       "      <td>0.700000</td>\n",
       "      <td>0.875000</td>\n",
       "      <td>0.714286</td>\n",
       "    </tr>\n",
       "    <tr>\n",
       "      <th>1</th>\n",
       "      <td>SVC()</td>\n",
       "      <td>0.700000</td>\n",
       "      <td>0.875000</td>\n",
       "      <td>0.714286</td>\n",
       "    </tr>\n",
       "    <tr>\n",
       "      <th>2</th>\n",
       "      <td>LogisticRegression()</td>\n",
       "      <td>0.666667</td>\n",
       "      <td>0.833333</td>\n",
       "      <td>0.650000</td>\n",
       "    </tr>\n",
       "    <tr>\n",
       "      <th>3</th>\n",
       "      <td>KNeighborsClassifier()</td>\n",
       "      <td>0.666667</td>\n",
       "      <td>0.833333</td>\n",
       "      <td>0.650000</td>\n",
       "    </tr>\n",
       "    <tr>\n",
       "      <th>4</th>\n",
       "      <td>GaussianNB()</td>\n",
       "      <td>0.642857</td>\n",
       "      <td>0.791667</td>\n",
       "      <td>0.590643</td>\n",
       "    </tr>\n",
       "    <tr>\n",
       "      <th>5</th>\n",
       "      <td>ExtraTreesClassifier()</td>\n",
       "      <td>0.642857</td>\n",
       "      <td>0.791667</td>\n",
       "      <td>0.590643</td>\n",
       "    </tr>\n",
       "    <tr>\n",
       "      <th>6</th>\n",
       "      <td>AdaBoostClassifier()</td>\n",
       "      <td>0.642857</td>\n",
       "      <td>0.791667</td>\n",
       "      <td>0.590643</td>\n",
       "    </tr>\n",
       "    <tr>\n",
       "      <th>7</th>\n",
       "      <td>RandomForestClassifier()</td>\n",
       "      <td>0.625000</td>\n",
       "      <td>0.750000</td>\n",
       "      <td>0.533333</td>\n",
       "    </tr>\n",
       "    <tr>\n",
       "      <th>8</th>\n",
       "      <td>XGBClassifier()</td>\n",
       "      <td>0.625000</td>\n",
       "      <td>0.750000</td>\n",
       "      <td>0.533333</td>\n",
       "    </tr>\n",
       "    <tr>\n",
       "      <th>9</th>\n",
       "      <td>DecisionTreeClassifier()</td>\n",
       "      <td>0.611111</td>\n",
       "      <td>0.708333</td>\n",
       "      <td>0.475936</td>\n",
       "    </tr>\n",
       "    <tr>\n",
       "      <th>10</th>\n",
       "      <td>LGBMClassifier()</td>\n",
       "      <td>0.611111</td>\n",
       "      <td>0.708333</td>\n",
       "      <td>0.475936</td>\n",
       "    </tr>\n",
       "    <tr>\n",
       "      <th>11</th>\n",
       "      <td>SGDClassifier()</td>\n",
       "      <td>0.071429</td>\n",
       "      <td>0.500000</td>\n",
       "      <td>0.125000</td>\n",
       "    </tr>\n",
       "  </tbody>\n",
       "</table>\n",
       "</div>"
      ],
      "text/plain": [
       "                       Model  Precision    Recall  F1-score\n",
       "0            MLPClassifier()   0.700000  0.875000  0.714286\n",
       "1                      SVC()   0.700000  0.875000  0.714286\n",
       "2       LogisticRegression()   0.666667  0.833333  0.650000\n",
       "3     KNeighborsClassifier()   0.666667  0.833333  0.650000\n",
       "4               GaussianNB()   0.642857  0.791667  0.590643\n",
       "5     ExtraTreesClassifier()   0.642857  0.791667  0.590643\n",
       "6       AdaBoostClassifier()   0.642857  0.791667  0.590643\n",
       "7   RandomForestClassifier()   0.625000  0.750000  0.533333\n",
       "8            XGBClassifier()   0.625000  0.750000  0.533333\n",
       "9   DecisionTreeClassifier()   0.611111  0.708333  0.475936\n",
       "10          LGBMClassifier()   0.611111  0.708333  0.475936\n",
       "11           SGDClassifier()   0.071429  0.500000  0.125000"
      ]
     },
     "execution_count": 14,
     "metadata": {},
     "output_type": "execute_result"
    }
   ],
   "source": [
    "reports[0]"
   ]
  },
  {
   "cell_type": "code",
   "execution_count": 15,
   "id": "39f5059a",
   "metadata": {},
   "outputs": [
    {
     "data": {
      "application/vnd.microsoft.datawrangler.viewer.v0+json": {
       "columns": [
        {
         "name": "index",
         "rawType": "int64",
         "type": "integer"
        },
        {
         "name": "Model",
         "rawType": "object",
         "type": "string"
        },
        {
         "name": "Precision",
         "rawType": "float64",
         "type": "float"
        },
        {
         "name": "Recall",
         "rawType": "float64",
         "type": "float"
        },
        {
         "name": "F1-score",
         "rawType": "float64",
         "type": "float"
        }
       ],
       "ref": "7dad5420-397c-4acb-bd82-b69a0d432527",
       "rows": [
        [
         "0",
         "AdaBoostClassifier()",
         "0.65",
         "0.65",
         "0.65"
        ],
        [
         "1",
         "LogisticRegression()",
         "0.625",
         "0.575",
         "0.5757575757575758"
        ],
        [
         "2",
         "DecisionTreeClassifier()",
         "0.5303030303030303",
         "0.525",
         "0.5238095238095237"
        ],
        [
         "3",
         "SGDClassifier()",
         "0.475",
         "0.475",
         "0.475"
        ],
        [
         "4",
         "MLPClassifier()",
         "0.35714285714285715",
         "0.5",
         "0.4166666666666667"
        ],
        [
         "5",
         "SVC()",
         "0.35714285714285715",
         "0.5",
         "0.4166666666666667"
        ],
        [
         "6",
         "GaussianNB()",
         "0.35714285714285715",
         "0.5",
         "0.4166666666666667"
        ],
        [
         "7",
         "KNeighborsClassifier()",
         "0.35714285714285715",
         "0.5",
         "0.4166666666666667"
        ],
        [
         "8",
         "RandomForestClassifier()",
         "0.3333333333333333",
         "0.4",
         "0.36363636363636365"
        ],
        [
         "9",
         "LGBMClassifier()",
         "0.3333333333333333",
         "0.4",
         "0.36363636363636365"
        ],
        [
         "10",
         "ExtraTreesClassifier()",
         "0.3333333333333333",
         "0.4",
         "0.36363636363636365"
        ],
        [
         "11",
         "XGBClassifier()",
         "0.3333333333333333",
         "0.4",
         "0.36363636363636365"
        ]
       ],
       "shape": {
        "columns": 4,
        "rows": 12
       }
      },
      "text/html": [
       "<div>\n",
       "<style scoped>\n",
       "    .dataframe tbody tr th:only-of-type {\n",
       "        vertical-align: middle;\n",
       "    }\n",
       "\n",
       "    .dataframe tbody tr th {\n",
       "        vertical-align: top;\n",
       "    }\n",
       "\n",
       "    .dataframe thead th {\n",
       "        text-align: right;\n",
       "    }\n",
       "</style>\n",
       "<table border=\"1\" class=\"dataframe\">\n",
       "  <thead>\n",
       "    <tr style=\"text-align: right;\">\n",
       "      <th></th>\n",
       "      <th>Model</th>\n",
       "      <th>Precision</th>\n",
       "      <th>Recall</th>\n",
       "      <th>F1-score</th>\n",
       "    </tr>\n",
       "  </thead>\n",
       "  <tbody>\n",
       "    <tr>\n",
       "      <th>0</th>\n",
       "      <td>AdaBoostClassifier()</td>\n",
       "      <td>0.650000</td>\n",
       "      <td>0.650</td>\n",
       "      <td>0.650000</td>\n",
       "    </tr>\n",
       "    <tr>\n",
       "      <th>1</th>\n",
       "      <td>LogisticRegression()</td>\n",
       "      <td>0.625000</td>\n",
       "      <td>0.575</td>\n",
       "      <td>0.575758</td>\n",
       "    </tr>\n",
       "    <tr>\n",
       "      <th>2</th>\n",
       "      <td>DecisionTreeClassifier()</td>\n",
       "      <td>0.530303</td>\n",
       "      <td>0.525</td>\n",
       "      <td>0.523810</td>\n",
       "    </tr>\n",
       "    <tr>\n",
       "      <th>3</th>\n",
       "      <td>SGDClassifier()</td>\n",
       "      <td>0.475000</td>\n",
       "      <td>0.475</td>\n",
       "      <td>0.475000</td>\n",
       "    </tr>\n",
       "    <tr>\n",
       "      <th>4</th>\n",
       "      <td>MLPClassifier()</td>\n",
       "      <td>0.357143</td>\n",
       "      <td>0.500</td>\n",
       "      <td>0.416667</td>\n",
       "    </tr>\n",
       "    <tr>\n",
       "      <th>5</th>\n",
       "      <td>SVC()</td>\n",
       "      <td>0.357143</td>\n",
       "      <td>0.500</td>\n",
       "      <td>0.416667</td>\n",
       "    </tr>\n",
       "    <tr>\n",
       "      <th>6</th>\n",
       "      <td>GaussianNB()</td>\n",
       "      <td>0.357143</td>\n",
       "      <td>0.500</td>\n",
       "      <td>0.416667</td>\n",
       "    </tr>\n",
       "    <tr>\n",
       "      <th>7</th>\n",
       "      <td>KNeighborsClassifier()</td>\n",
       "      <td>0.357143</td>\n",
       "      <td>0.500</td>\n",
       "      <td>0.416667</td>\n",
       "    </tr>\n",
       "    <tr>\n",
       "      <th>8</th>\n",
       "      <td>RandomForestClassifier()</td>\n",
       "      <td>0.333333</td>\n",
       "      <td>0.400</td>\n",
       "      <td>0.363636</td>\n",
       "    </tr>\n",
       "    <tr>\n",
       "      <th>9</th>\n",
       "      <td>LGBMClassifier()</td>\n",
       "      <td>0.333333</td>\n",
       "      <td>0.400</td>\n",
       "      <td>0.363636</td>\n",
       "    </tr>\n",
       "    <tr>\n",
       "      <th>10</th>\n",
       "      <td>ExtraTreesClassifier()</td>\n",
       "      <td>0.333333</td>\n",
       "      <td>0.400</td>\n",
       "      <td>0.363636</td>\n",
       "    </tr>\n",
       "    <tr>\n",
       "      <th>11</th>\n",
       "      <td>XGBClassifier()</td>\n",
       "      <td>0.333333</td>\n",
       "      <td>0.400</td>\n",
       "      <td>0.363636</td>\n",
       "    </tr>\n",
       "  </tbody>\n",
       "</table>\n",
       "</div>"
      ],
      "text/plain": [
       "                       Model  Precision  Recall  F1-score\n",
       "0       AdaBoostClassifier()   0.650000   0.650  0.650000\n",
       "1       LogisticRegression()   0.625000   0.575  0.575758\n",
       "2   DecisionTreeClassifier()   0.530303   0.525  0.523810\n",
       "3            SGDClassifier()   0.475000   0.475  0.475000\n",
       "4            MLPClassifier()   0.357143   0.500  0.416667\n",
       "5                      SVC()   0.357143   0.500  0.416667\n",
       "6               GaussianNB()   0.357143   0.500  0.416667\n",
       "7     KNeighborsClassifier()   0.357143   0.500  0.416667\n",
       "8   RandomForestClassifier()   0.333333   0.400  0.363636\n",
       "9           LGBMClassifier()   0.333333   0.400  0.363636\n",
       "10    ExtraTreesClassifier()   0.333333   0.400  0.363636\n",
       "11           XGBClassifier()   0.333333   0.400  0.363636"
      ]
     },
     "execution_count": 15,
     "metadata": {},
     "output_type": "execute_result"
    }
   ],
   "source": [
    "reports[1]"
   ]
  },
  {
   "cell_type": "code",
   "execution_count": 16,
   "id": "bee627d0",
   "metadata": {},
   "outputs": [
    {
     "data": {
      "application/vnd.microsoft.datawrangler.viewer.v0+json": {
       "columns": [
        {
         "name": "index",
         "rawType": "int64",
         "type": "integer"
        },
        {
         "name": "Model",
         "rawType": "object",
         "type": "string"
        },
        {
         "name": "Precision",
         "rawType": "float64",
         "type": "float"
        },
        {
         "name": "Recall",
         "rawType": "float64",
         "type": "float"
        },
        {
         "name": "F1-score",
         "rawType": "float64",
         "type": "float"
        }
       ],
       "ref": "f5e928c9-3b98-4ddf-9ef9-e2d37b8cb12b",
       "rows": [
        [
         "0",
         "LogisticRegression()",
         "0.9375",
         "0.9285714285714286",
         "0.9282051282051282"
        ],
        [
         "1",
         "ExtraTreesClassifier()",
         "0.7916666666666667",
         "0.7857142857142857",
         "0.7846153846153847"
        ],
        [
         "2",
         "XGBClassifier()",
         "0.7142857142857143",
         "0.7142857142857143",
         "0.7142857142857143"
        ],
        [
         "3",
         "RandomForestClassifier()",
         "0.7142857142857143",
         "0.7142857142857143",
         "0.7142857142857143"
        ],
        [
         "4",
         "AdaBoostClassifier()",
         "0.7333333333333334",
         "0.7142857142857142",
         "0.7083333333333333"
        ],
        [
         "5",
         "DecisionTreeClassifier()",
         "0.6458333333333333",
         "0.6428571428571428",
         "0.641025641025641"
        ],
        [
         "6",
         "LGBMClassifier()",
         "0.6458333333333333",
         "0.6428571428571428",
         "0.641025641025641"
        ],
        [
         "7",
         "SVC()",
         "0.6458333333333333",
         "0.6428571428571428",
         "0.641025641025641"
        ],
        [
         "8",
         "GaussianNB()",
         "0.6458333333333333",
         "0.6428571428571428",
         "0.641025641025641"
        ],
        [
         "9",
         "KNeighborsClassifier()",
         "0.6458333333333333",
         "0.6428571428571428",
         "0.641025641025641"
        ],
        [
         "10",
         "SGDClassifier()",
         "0.6458333333333333",
         "0.6428571428571428",
         "0.641025641025641"
        ],
        [
         "11",
         "MLPClassifier()",
         "0.6458333333333333",
         "0.6428571428571428",
         "0.641025641025641"
        ]
       ],
       "shape": {
        "columns": 4,
        "rows": 12
       }
      },
      "text/html": [
       "<div>\n",
       "<style scoped>\n",
       "    .dataframe tbody tr th:only-of-type {\n",
       "        vertical-align: middle;\n",
       "    }\n",
       "\n",
       "    .dataframe tbody tr th {\n",
       "        vertical-align: top;\n",
       "    }\n",
       "\n",
       "    .dataframe thead th {\n",
       "        text-align: right;\n",
       "    }\n",
       "</style>\n",
       "<table border=\"1\" class=\"dataframe\">\n",
       "  <thead>\n",
       "    <tr style=\"text-align: right;\">\n",
       "      <th></th>\n",
       "      <th>Model</th>\n",
       "      <th>Precision</th>\n",
       "      <th>Recall</th>\n",
       "      <th>F1-score</th>\n",
       "    </tr>\n",
       "  </thead>\n",
       "  <tbody>\n",
       "    <tr>\n",
       "      <th>0</th>\n",
       "      <td>LogisticRegression()</td>\n",
       "      <td>0.937500</td>\n",
       "      <td>0.928571</td>\n",
       "      <td>0.928205</td>\n",
       "    </tr>\n",
       "    <tr>\n",
       "      <th>1</th>\n",
       "      <td>ExtraTreesClassifier()</td>\n",
       "      <td>0.791667</td>\n",
       "      <td>0.785714</td>\n",
       "      <td>0.784615</td>\n",
       "    </tr>\n",
       "    <tr>\n",
       "      <th>2</th>\n",
       "      <td>XGBClassifier()</td>\n",
       "      <td>0.714286</td>\n",
       "      <td>0.714286</td>\n",
       "      <td>0.714286</td>\n",
       "    </tr>\n",
       "    <tr>\n",
       "      <th>3</th>\n",
       "      <td>RandomForestClassifier()</td>\n",
       "      <td>0.714286</td>\n",
       "      <td>0.714286</td>\n",
       "      <td>0.714286</td>\n",
       "    </tr>\n",
       "    <tr>\n",
       "      <th>4</th>\n",
       "      <td>AdaBoostClassifier()</td>\n",
       "      <td>0.733333</td>\n",
       "      <td>0.714286</td>\n",
       "      <td>0.708333</td>\n",
       "    </tr>\n",
       "    <tr>\n",
       "      <th>5</th>\n",
       "      <td>DecisionTreeClassifier()</td>\n",
       "      <td>0.645833</td>\n",
       "      <td>0.642857</td>\n",
       "      <td>0.641026</td>\n",
       "    </tr>\n",
       "    <tr>\n",
       "      <th>6</th>\n",
       "      <td>LGBMClassifier()</td>\n",
       "      <td>0.645833</td>\n",
       "      <td>0.642857</td>\n",
       "      <td>0.641026</td>\n",
       "    </tr>\n",
       "    <tr>\n",
       "      <th>7</th>\n",
       "      <td>SVC()</td>\n",
       "      <td>0.645833</td>\n",
       "      <td>0.642857</td>\n",
       "      <td>0.641026</td>\n",
       "    </tr>\n",
       "    <tr>\n",
       "      <th>8</th>\n",
       "      <td>GaussianNB()</td>\n",
       "      <td>0.645833</td>\n",
       "      <td>0.642857</td>\n",
       "      <td>0.641026</td>\n",
       "    </tr>\n",
       "    <tr>\n",
       "      <th>9</th>\n",
       "      <td>KNeighborsClassifier()</td>\n",
       "      <td>0.645833</td>\n",
       "      <td>0.642857</td>\n",
       "      <td>0.641026</td>\n",
       "    </tr>\n",
       "    <tr>\n",
       "      <th>10</th>\n",
       "      <td>SGDClassifier()</td>\n",
       "      <td>0.645833</td>\n",
       "      <td>0.642857</td>\n",
       "      <td>0.641026</td>\n",
       "    </tr>\n",
       "    <tr>\n",
       "      <th>11</th>\n",
       "      <td>MLPClassifier()</td>\n",
       "      <td>0.645833</td>\n",
       "      <td>0.642857</td>\n",
       "      <td>0.641026</td>\n",
       "    </tr>\n",
       "  </tbody>\n",
       "</table>\n",
       "</div>"
      ],
      "text/plain": [
       "                       Model  Precision    Recall  F1-score\n",
       "0       LogisticRegression()   0.937500  0.928571  0.928205\n",
       "1     ExtraTreesClassifier()   0.791667  0.785714  0.784615\n",
       "2            XGBClassifier()   0.714286  0.714286  0.714286\n",
       "3   RandomForestClassifier()   0.714286  0.714286  0.714286\n",
       "4       AdaBoostClassifier()   0.733333  0.714286  0.708333\n",
       "5   DecisionTreeClassifier()   0.645833  0.642857  0.641026\n",
       "6           LGBMClassifier()   0.645833  0.642857  0.641026\n",
       "7                      SVC()   0.645833  0.642857  0.641026\n",
       "8               GaussianNB()   0.645833  0.642857  0.641026\n",
       "9     KNeighborsClassifier()   0.645833  0.642857  0.641026\n",
       "10           SGDClassifier()   0.645833  0.642857  0.641026\n",
       "11           MLPClassifier()   0.645833  0.642857  0.641026"
      ]
     },
     "execution_count": 16,
     "metadata": {},
     "output_type": "execute_result"
    }
   ],
   "source": [
    "reports[2]"
   ]
  },
  {
   "cell_type": "markdown",
   "id": "426892a1",
   "metadata": {},
   "source": [
    "## MLP"
   ]
  },
  {
   "cell_type": "markdown",
   "id": "b2416eca",
   "metadata": {},
   "source": [
    "### Build model"
   ]
  },
  {
   "cell_type": "code",
   "execution_count": 17,
   "id": "51b7fee6",
   "metadata": {},
   "outputs": [
    {
     "name": "stderr",
     "output_type": "stream",
     "text": [
      "2025-07-15 15:23:24.244953: I tensorflow/core/platform/cpu_feature_guard.cc:210] This TensorFlow binary is optimized to use available CPU instructions in performance-critical operations.\n",
      "To enable the following instructions: AVX2 AVX512F AVX512_VNNI FMA, in other operations, rebuild TensorFlow with the appropriate compiler flags.\n"
     ]
    }
   ],
   "source": [
    "from tensorflow.keras.models import Sequential\n",
    "from tensorflow.keras.layers import Dense, Dropout, BatchNormalization, LeakyReLU, Input\n",
    "from tensorflow.keras.optimizers import Adam\n",
    "from tensorflow.keras import regularizers\n",
    "from tensorflow.keras.callbacks import EarlyStopping, ReduceLROnPlateau\n",
    "from tensorflow.keras.losses import MeanSquaredError"
   ]
  },
  {
   "cell_type": "code",
   "execution_count": 18,
   "id": "e66b524b",
   "metadata": {},
   "outputs": [],
   "source": [
    "def Model(input_dim, output_dim):\n",
    "    model = Sequential([\n",
    "        Input(shape=(input_dim,)),\n",
    "        Dense(512, kernel_regularizer=regularizers.l1_l2(1e-6)),\n",
    "        BatchNormalization(),\n",
    "        LeakyReLU(0.01),\n",
    "        Dropout(0.4),\n",
    "\n",
    "        Dense(256, kernel_regularizer=regularizers.l1_l2(1e-6)),\n",
    "        BatchNormalization(),\n",
    "        LeakyReLU(0.01),\n",
    "        Dropout(0.3),\n",
    "\n",
    "        Dense(128, kernel_regularizer=regularizers.l1_l2(1e-6)),\n",
    "        BatchNormalization(),\n",
    "        LeakyReLU(0.01),\n",
    "        Dropout(0.2),\n",
    "\n",
    "        Dense(output_dim, activation='sigmoid')  # sigmoid for multi-label\n",
    "    ])\n",
    "\n",
    "    model.compile(\n",
    "        loss='binary_crossentropy',\n",
    "        optimizer=Adam(learning_rate=1e-6),\n",
    "        metrics=['accuracy']\n",
    "    )\n",
    "    return model"
   ]
  },
  {
   "cell_type": "code",
   "execution_count": 19,
   "id": "616ec7c5",
   "metadata": {},
   "outputs": [],
   "source": [
    "model = Model(input_dim=X.shape[1], output_dim=1)"
   ]
  },
  {
   "cell_type": "markdown",
   "id": "7a1508d3",
   "metadata": {},
   "source": [
    "### Train"
   ]
  },
  {
   "cell_type": "code",
   "execution_count": 20,
   "id": "a70b5a4d",
   "metadata": {},
   "outputs": [
    {
     "name": "stdout",
     "output_type": "stream",
     "text": [
      "Epoch 1/100\n",
      "\u001b[1m2/2\u001b[0m \u001b[32m━━━━━━━━━━━━━━━━━━━━\u001b[0m\u001b[37m\u001b[0m \u001b[1m3s\u001b[0m 306ms/step - accuracy: 0.6424 - loss: 0.7255 - val_accuracy: 0.3636 - val_loss: 1.1400 - learning_rate: 1.0000e-06\n",
      "Epoch 2/100\n",
      "\u001b[1m2/2\u001b[0m \u001b[32m━━━━━━━━━━━━━━━━━━━━\u001b[0m\u001b[37m\u001b[0m \u001b[1m0s\u001b[0m 70ms/step - accuracy: 0.5263 - loss: 0.8304 - val_accuracy: 0.3636 - val_loss: 0.9652 - learning_rate: 1.0000e-06\n",
      "Epoch 3/100\n",
      "\u001b[1m2/2\u001b[0m \u001b[32m━━━━━━━━━━━━━━━━━━━━\u001b[0m\u001b[37m\u001b[0m \u001b[1m0s\u001b[0m 68ms/step - accuracy: 0.5422 - loss: 0.7075 - val_accuracy: 0.3636 - val_loss: 0.8815 - learning_rate: 1.0000e-06\n",
      "Epoch 4/100\n",
      "\u001b[1m2/2\u001b[0m \u001b[32m━━━━━━━━━━━━━━━━━━━━\u001b[0m\u001b[37m\u001b[0m \u001b[1m0s\u001b[0m 67ms/step - accuracy: 0.4737 - loss: 0.8258 - val_accuracy: 0.3636 - val_loss: 0.8109 - learning_rate: 1.0000e-06\n",
      "Epoch 5/100\n",
      "\u001b[1m2/2\u001b[0m \u001b[32m━━━━━━━━━━━━━━━━━━━━\u001b[0m\u001b[37m\u001b[0m \u001b[1m0s\u001b[0m 70ms/step - accuracy: 0.6944 - loss: 0.7525 - val_accuracy: 0.3636 - val_loss: 0.7818 - learning_rate: 1.0000e-06\n",
      "Epoch 6/100\n",
      "\u001b[1m2/2\u001b[0m \u001b[32m━━━━━━━━━━━━━━━━━━━━\u001b[0m\u001b[37m\u001b[0m \u001b[1m0s\u001b[0m 67ms/step - accuracy: 0.5471 - loss: 0.7262 - val_accuracy: 0.3636 - val_loss: 0.7591 - learning_rate: 1.0000e-06\n",
      "Epoch 7/100\n",
      "\u001b[1m2/2\u001b[0m \u001b[32m━━━━━━━━━━━━━━━━━━━━\u001b[0m\u001b[37m\u001b[0m \u001b[1m0s\u001b[0m 67ms/step - accuracy: 0.5000 - loss: 0.7489 - val_accuracy: 0.3636 - val_loss: 0.7387 - learning_rate: 1.0000e-06\n",
      "Epoch 8/100\n",
      "\u001b[1m2/2\u001b[0m \u001b[32m━━━━━━━━━━━━━━━━━━━━\u001b[0m\u001b[37m\u001b[0m \u001b[1m0s\u001b[0m 70ms/step - accuracy: 0.5055 - loss: 0.8710 - val_accuracy: 0.3636 - val_loss: 0.7218 - learning_rate: 1.0000e-06\n",
      "Epoch 9/100\n",
      "\u001b[1m2/2\u001b[0m \u001b[32m━━━━━━━━━━━━━━━━━━━━\u001b[0m\u001b[37m\u001b[0m \u001b[1m0s\u001b[0m 69ms/step - accuracy: 0.5843 - loss: 0.7142 - val_accuracy: 0.3636 - val_loss: 0.7045 - learning_rate: 1.0000e-06\n",
      "Epoch 10/100\n",
      "\u001b[1m2/2\u001b[0m \u001b[32m━━━━━━━━━━━━━━━━━━━━\u001b[0m\u001b[37m\u001b[0m \u001b[1m0s\u001b[0m 74ms/step - accuracy: 0.5422 - loss: 0.7989 - val_accuracy: 0.3636 - val_loss: 0.6923 - learning_rate: 1.0000e-06\n",
      "Epoch 11/100\n",
      "\u001b[1m2/2\u001b[0m \u001b[32m━━━━━━━━━━━━━━━━━━━━\u001b[0m\u001b[37m\u001b[0m \u001b[1m0s\u001b[0m 70ms/step - accuracy: 0.5685 - loss: 0.6798 - val_accuracy: 0.3636 - val_loss: 0.6829 - learning_rate: 1.0000e-06\n",
      "Epoch 12/100\n",
      "\u001b[1m2/2\u001b[0m \u001b[32m━━━━━━━━━━━━━━━━━━━━\u001b[0m\u001b[37m\u001b[0m \u001b[1m0s\u001b[0m 67ms/step - accuracy: 0.5263 - loss: 0.6947 - val_accuracy: 0.3636 - val_loss: 0.6753 - learning_rate: 1.0000e-06\n",
      "Epoch 13/100\n",
      "\u001b[1m2/2\u001b[0m \u001b[32m━━━━━━━━━━━━━━━━━━━━\u001b[0m\u001b[37m\u001b[0m \u001b[1m0s\u001b[0m 70ms/step - accuracy: 0.5893 - loss: 0.6801 - val_accuracy: 0.3636 - val_loss: 0.6643 - learning_rate: 1.0000e-06\n",
      "Epoch 14/100\n",
      "\u001b[1m2/2\u001b[0m \u001b[32m━━━━━━━━━━━━━━━━━━━━\u001b[0m\u001b[37m\u001b[0m \u001b[1m0s\u001b[0m 69ms/step - accuracy: 0.5947 - loss: 0.7236 - val_accuracy: 0.3636 - val_loss: 0.6570 - learning_rate: 1.0000e-06\n",
      "Epoch 15/100\n",
      "\u001b[1m2/2\u001b[0m \u001b[32m━━━━━━━━━━━━━━━━━━━━\u001b[0m\u001b[37m\u001b[0m \u001b[1m0s\u001b[0m 68ms/step - accuracy: 0.4578 - loss: 0.7793 - val_accuracy: 0.3636 - val_loss: 0.6534 - learning_rate: 1.0000e-06\n",
      "Epoch 16/100\n",
      "\u001b[1m2/2\u001b[0m \u001b[32m━━━━━━━━━━━━━━━━━━━━\u001b[0m\u001b[37m\u001b[0m \u001b[1m0s\u001b[0m 68ms/step - accuracy: 0.5263 - loss: 0.7815 - val_accuracy: 0.4545 - val_loss: 0.6483 - learning_rate: 1.0000e-06\n",
      "Epoch 17/100\n",
      "\u001b[1m2/2\u001b[0m \u001b[32m━━━━━━━━━━━━━━━━━━━━\u001b[0m\u001b[37m\u001b[0m \u001b[1m0s\u001b[0m 69ms/step - accuracy: 0.5685 - loss: 0.7406 - val_accuracy: 0.4545 - val_loss: 0.6436 - learning_rate: 1.0000e-06\n",
      "Epoch 18/100\n",
      "\u001b[1m2/2\u001b[0m \u001b[32m━━━━━━━━━━━━━━━━━━━━\u001b[0m\u001b[37m\u001b[0m \u001b[1m0s\u001b[0m 68ms/step - accuracy: 0.5734 - loss: 0.7216 - val_accuracy: 0.5455 - val_loss: 0.6410 - learning_rate: 1.0000e-06\n",
      "Epoch 19/100\n",
      "\u001b[1m2/2\u001b[0m \u001b[32m━━━━━━━━━━━━━━━━━━━━\u001b[0m\u001b[37m\u001b[0m \u001b[1m0s\u001b[0m 68ms/step - accuracy: 0.5312 - loss: 0.7762 - val_accuracy: 0.5455 - val_loss: 0.6383 - learning_rate: 1.0000e-06\n",
      "Epoch 20/100\n",
      "\u001b[1m2/2\u001b[0m \u001b[32m━━━━━━━━━━━━━━━━━━━━\u001b[0m\u001b[37m\u001b[0m \u001b[1m0s\u001b[0m 69ms/step - accuracy: 0.5526 - loss: 0.7345 - val_accuracy: 0.5455 - val_loss: 0.6342 - learning_rate: 1.0000e-06\n",
      "Epoch 21/100\n",
      "\u001b[1m2/2\u001b[0m \u001b[32m━━━━━━━━━━━━━━━━━━━━\u001b[0m\u001b[37m\u001b[0m \u001b[1m0s\u001b[0m 67ms/step - accuracy: 0.5843 - loss: 0.7652 - val_accuracy: 0.6364 - val_loss: 0.6303 - learning_rate: 1.0000e-06\n",
      "Epoch 22/100\n",
      "\u001b[1m2/2\u001b[0m \u001b[32m━━━━━━━━━━━━━━━━━━━━\u001b[0m\u001b[37m\u001b[0m \u001b[1m0s\u001b[0m 67ms/step - accuracy: 0.4633 - loss: 0.8469 - val_accuracy: 0.6364 - val_loss: 0.6280 - learning_rate: 1.0000e-06\n",
      "Epoch 23/100\n",
      "\u001b[1m2/2\u001b[0m \u001b[32m━━━━━━━━━━━━━━━━━━━━\u001b[0m\u001b[37m\u001b[0m \u001b[1m0s\u001b[0m 68ms/step - accuracy: 0.5843 - loss: 0.7586 - val_accuracy: 0.6364 - val_loss: 0.6248 - learning_rate: 1.0000e-06\n",
      "Epoch 24/100\n",
      "\u001b[1m2/2\u001b[0m \u001b[32m━━━━━━━━━━━━━━━━━━━━\u001b[0m\u001b[37m\u001b[0m \u001b[1m0s\u001b[0m 66ms/step - accuracy: 0.5685 - loss: 0.7456 - val_accuracy: 0.6364 - val_loss: 0.6234 - learning_rate: 1.0000e-06\n",
      "Epoch 25/100\n",
      "\u001b[1m2/2\u001b[0m \u001b[32m━━━━━━━━━━━━━━━━━━━━\u001b[0m\u001b[37m\u001b[0m \u001b[1m0s\u001b[0m 66ms/step - accuracy: 0.5630 - loss: 0.7484 - val_accuracy: 0.6364 - val_loss: 0.6249 - learning_rate: 1.0000e-06\n",
      "Epoch 26/100\n",
      "\u001b[1m2/2\u001b[0m \u001b[32m━━━━━━━━━━━━━━━━━━━━\u001b[0m\u001b[37m\u001b[0m \u001b[1m0s\u001b[0m 66ms/step - accuracy: 0.5893 - loss: 0.8227 - val_accuracy: 0.6364 - val_loss: 0.6248 - learning_rate: 1.0000e-06\n",
      "Epoch 27/100\n",
      "\u001b[1m2/2\u001b[0m \u001b[32m━━━━━━━━━━━━━━━━━━━━\u001b[0m\u001b[37m\u001b[0m \u001b[1m0s\u001b[0m 65ms/step - accuracy: 0.6106 - loss: 0.6858 - val_accuracy: 0.6364 - val_loss: 0.6253 - learning_rate: 1.0000e-06\n",
      "Epoch 28/100\n",
      "\u001b[1m2/2\u001b[0m \u001b[32m━━━━━━━━━━━━━━━━━━━━\u001b[0m\u001b[37m\u001b[0m \u001b[1m0s\u001b[0m 65ms/step - accuracy: 0.6473 - loss: 0.7265 - val_accuracy: 0.5455 - val_loss: 0.6262 - learning_rate: 1.0000e-06\n",
      "Epoch 29/100\n",
      "\u001b[1m1/2\u001b[0m \u001b[32m━━━━━━━━━━\u001b[0m\u001b[37m━━━━━━━━━━\u001b[0m \u001b[1m0s\u001b[0m 28ms/step - accuracy: 0.5312 - loss: 0.7490\n",
      "Epoch 29: ReduceLROnPlateau reducing learning rate to 4.999999987376214e-07.\n",
      "\u001b[1m2/2\u001b[0m \u001b[32m━━━━━━━━━━━━━━━━━━━━\u001b[0m\u001b[37m\u001b[0m \u001b[1m0s\u001b[0m 68ms/step - accuracy: 0.5580 - loss: 0.7414 - val_accuracy: 0.5455 - val_loss: 0.6265 - learning_rate: 1.0000e-06\n"
     ]
    },
    {
     "data": {
      "text/plain": [
       "<keras.src.callbacks.history.History at 0x1357382f0>"
      ]
     },
     "execution_count": 20,
     "metadata": {},
     "output_type": "execute_result"
    }
   ],
   "source": [
    "model.fit(X_mint_train, y_mint_train, validation_split=0.2, epochs=100, batch_size=32,\n",
    "                    callbacks=[\n",
    "                                EarlyStopping(monitor='val_loss',\n",
    "                                             patience=5,\n",
    "                                             restore_best_weights=True),\n",
    "                                ReduceLROnPlateau(\n",
    "                                  monitor='val_loss',\n",
    "                                  factor=0.5,\n",
    "                                  patience=5,\n",
    "                                  verbose=1)\n",
    "                               ]\n",
    "                    )"
   ]
  },
  {
   "cell_type": "markdown",
   "id": "5b94383c",
   "metadata": {},
   "source": [
    "### Predict"
   ]
  },
  {
   "cell_type": "code",
   "execution_count": 21,
   "id": "66fd8a3f",
   "metadata": {},
   "outputs": [
    {
     "name": "stdout",
     "output_type": "stream",
     "text": [
      "\u001b[1m1/1\u001b[0m \u001b[32m━━━━━━━━━━━━━━━━━━━━\u001b[0m\u001b[37m\u001b[0m \u001b[1m0s\u001b[0m 139ms/step\n"
     ]
    }
   ],
   "source": [
    "y_mint_test_prob = model.predict(X_mint_test)"
   ]
  },
  {
   "cell_type": "code",
   "execution_count": 22,
   "id": "5d623615",
   "metadata": {},
   "outputs": [],
   "source": [
    "def tune_thresholds(y_true, y_pred_prob, metric='f1'):\n",
    "    y_true = np.asarray(y_true)          # Fix: convert to NumPy\n",
    "    y_pred_prob = np.asarray(y_pred_prob)\n",
    "\n",
    "    best_thresholds = []\n",
    "    best_scores = []\n",
    "\n",
    "    for i in range(y_true.shape[1]):\n",
    "        label_true = y_true[:, i]\n",
    "        label_probs = y_pred_prob[:, i]  # Fix here too\n",
    "\n",
    "        thresholds = np.linspace(0.0, 1.0, 101)\n",
    "        scores = []\n",
    "\n",
    "        for t in thresholds:\n",
    "            label_pred = (label_probs >= t).astype(int)\n",
    "            if metric == 'f1':\n",
    "                score = f1_score(label_true, label_pred, zero_division=0)\n",
    "            scores.append(score)\n",
    "\n",
    "        best_t = thresholds[np.argmax(scores)]\n",
    "        best_score = np.max(scores)\n",
    "\n",
    "        best_thresholds.append(best_t)\n",
    "        best_scores.append(best_score)\n",
    "\n",
    "        print(f\"Label {i}: Best threshold = {best_t:.2f}, Best {metric} = {best_score:.4f}\")\n",
    "\n",
    "    return best_thresholds, best_scores\n"
   ]
  },
  {
   "cell_type": "code",
   "execution_count": 23,
   "id": "45e44c06",
   "metadata": {},
   "outputs": [
    {
     "name": "stdout",
     "output_type": "stream",
     "text": [
      "Label 0: Best threshold = 0.63, Best f1 = 0.2857\n"
     ]
    }
   ],
   "source": [
    "best_thresholds, _ = tune_thresholds(y_mint_test, y_mint_test_prob)"
   ]
  },
  {
   "cell_type": "code",
   "execution_count": 24,
   "id": "9b0dfa53",
   "metadata": {},
   "outputs": [
    {
     "name": "stdout",
     "output_type": "stream",
     "text": [
      "\u001b[1m1/1\u001b[0m \u001b[32m━━━━━━━━━━━━━━━━━━━━\u001b[0m\u001b[37m\u001b[0m \u001b[1m0s\u001b[0m 36ms/step\n"
     ]
    }
   ],
   "source": [
    "y_mint_pred = (model.predict(X_mint_test) >= best_thresholds).astype(int)"
   ]
  },
  {
   "cell_type": "markdown",
   "id": "785ee9ba",
   "metadata": {},
   "source": [
    "### Report"
   ]
  },
  {
   "cell_type": "code",
   "execution_count": 25,
   "id": "156bf645",
   "metadata": {},
   "outputs": [
    {
     "name": "stdout",
     "output_type": "stream",
     "text": [
      "              precision    recall  f1-score   support\n",
      "\n",
      "           0       0.89      0.67      0.76        12\n",
      "           1       0.20      0.50      0.29         2\n",
      "\n",
      "    accuracy                           0.64        14\n",
      "   macro avg       0.54      0.58      0.52        14\n",
      "weighted avg       0.79      0.64      0.69        14\n",
      "\n"
     ]
    }
   ],
   "source": [
    "print(classification_report(y_mint_test, y_mint_pred))"
   ]
  },
  {
   "cell_type": "markdown",
   "id": "4f562f09",
   "metadata": {},
   "source": [
    "## Autoencoder + MPL"
   ]
  },
  {
   "cell_type": "code",
   "execution_count": 26,
   "id": "a0e26d96",
   "metadata": {},
   "outputs": [],
   "source": [
    "def Autoencoder(input_dim=256):\n",
    "    model = Sequential([\n",
    "        Input(shape=(input_dim,)),\n",
    "        Dense(128),\n",
    "        LeakyReLU(0.01),\n",
    "\n",
    "        Dense(32),\n",
    "        BatchNormalization(),\n",
    "        LeakyReLU(0.01),\n",
    "\n",
    "        Dense(128),\n",
    "        BatchNormalization(),\n",
    "        LeakyReLU(0.01),\n",
    "\n",
    "        Dense(input_dim, activation='sigmoid')  # sigmoid for multi-label\n",
    "    ])\n",
    "\n",
    "    model.compile(optimizer=Adam(1e-6), loss=MeanSquaredError())\n",
    "    return model\n"
   ]
  },
  {
   "cell_type": "code",
   "execution_count": 27,
   "id": "e4241992",
   "metadata": {},
   "outputs": [
    {
     "name": "stdout",
     "output_type": "stream",
     "text": [
      "Epoch 1/50\n",
      "\u001b[1m2/2\u001b[0m \u001b[32m━━━━━━━━━━━━━━━━━━━━\u001b[0m\u001b[37m\u001b[0m \u001b[1m2s\u001b[0m 220ms/step - loss: 678.1432 - val_loss: 459.9208\n",
      "Epoch 2/50\n",
      "\u001b[1m2/2\u001b[0m \u001b[32m━━━━━━━━━━━━━━━━━━━━\u001b[0m\u001b[37m\u001b[0m \u001b[1m0s\u001b[0m 60ms/step - loss: 650.4985 - val_loss: 459.8419\n",
      "Epoch 3/50\n",
      "\u001b[1m2/2\u001b[0m \u001b[32m━━━━━━━━━━━━━━━━━━━━\u001b[0m\u001b[37m\u001b[0m \u001b[1m0s\u001b[0m 60ms/step - loss: 691.6212 - val_loss: 459.8011\n",
      "Epoch 4/50\n",
      "\u001b[1m2/2\u001b[0m \u001b[32m━━━━━━━━━━━━━━━━━━━━\u001b[0m\u001b[37m\u001b[0m \u001b[1m0s\u001b[0m 60ms/step - loss: 694.4734 - val_loss: 459.7784\n",
      "Epoch 5/50\n",
      "\u001b[1m2/2\u001b[0m \u001b[32m━━━━━━━━━━━━━━━━━━━━\u001b[0m\u001b[37m\u001b[0m \u001b[1m0s\u001b[0m 59ms/step - loss: 639.3497 - val_loss: 459.7504\n",
      "Epoch 6/50\n",
      "\u001b[1m2/2\u001b[0m \u001b[32m━━━━━━━━━━━━━━━━━━━━\u001b[0m\u001b[37m\u001b[0m \u001b[1m0s\u001b[0m 60ms/step - loss: 669.1168 - val_loss: 459.7279\n",
      "Epoch 7/50\n",
      "\u001b[1m2/2\u001b[0m \u001b[32m━━━━━━━━━━━━━━━━━━━━\u001b[0m\u001b[37m\u001b[0m \u001b[1m0s\u001b[0m 59ms/step - loss: 668.3317 - val_loss: 459.7102\n",
      "Epoch 8/50\n",
      "\u001b[1m2/2\u001b[0m \u001b[32m━━━━━━━━━━━━━━━━━━━━\u001b[0m\u001b[37m\u001b[0m \u001b[1m0s\u001b[0m 61ms/step - loss: 639.1434 - val_loss: 459.6987\n",
      "Epoch 9/50\n",
      "\u001b[1m2/2\u001b[0m \u001b[32m━━━━━━━━━━━━━━━━━━━━\u001b[0m\u001b[37m\u001b[0m \u001b[1m0s\u001b[0m 58ms/step - loss: 658.2879 - val_loss: 459.6876\n",
      "Epoch 10/50\n",
      "\u001b[1m2/2\u001b[0m \u001b[32m━━━━━━━━━━━━━━━━━━━━\u001b[0m\u001b[37m\u001b[0m \u001b[1m0s\u001b[0m 61ms/step - loss: 703.4475 - val_loss: 459.6783\n",
      "Epoch 11/50\n",
      "\u001b[1m2/2\u001b[0m \u001b[32m━━━━━━━━━━━━━━━━━━━━\u001b[0m\u001b[37m\u001b[0m \u001b[1m0s\u001b[0m 59ms/step - loss: 647.4631 - val_loss: 459.6679\n",
      "Epoch 12/50\n",
      "\u001b[1m2/2\u001b[0m \u001b[32m━━━━━━━━━━━━━━━━━━━━\u001b[0m\u001b[37m\u001b[0m \u001b[1m0s\u001b[0m 59ms/step - loss: 684.8563 - val_loss: 459.6604\n",
      "Epoch 13/50\n",
      "\u001b[1m2/2\u001b[0m \u001b[32m━━━━━━━━━━━━━━━━━━━━\u001b[0m\u001b[37m\u001b[0m \u001b[1m0s\u001b[0m 61ms/step - loss: 639.9268 - val_loss: 459.6517\n",
      "Epoch 14/50\n",
      "\u001b[1m2/2\u001b[0m \u001b[32m━━━━━━━━━━━━━━━━━━━━\u001b[0m\u001b[37m\u001b[0m \u001b[1m0s\u001b[0m 60ms/step - loss: 650.2521 - val_loss: 459.6440\n",
      "Epoch 15/50\n",
      "\u001b[1m2/2\u001b[0m \u001b[32m━━━━━━━━━━━━━━━━━━━━\u001b[0m\u001b[37m\u001b[0m \u001b[1m0s\u001b[0m 60ms/step - loss: 647.3048 - val_loss: 459.6356\n",
      "Epoch 16/50\n",
      "\u001b[1m2/2\u001b[0m \u001b[32m━━━━━━━━━━━━━━━━━━━━\u001b[0m\u001b[37m\u001b[0m \u001b[1m0s\u001b[0m 63ms/step - loss: 661.2491 - val_loss: 459.6302\n",
      "Epoch 17/50\n",
      "\u001b[1m2/2\u001b[0m \u001b[32m━━━━━━━━━━━━━━━━━━━━\u001b[0m\u001b[37m\u001b[0m \u001b[1m0s\u001b[0m 60ms/step - loss: 693.4483 - val_loss: 459.6250\n",
      "Epoch 18/50\n",
      "\u001b[1m2/2\u001b[0m \u001b[32m━━━━━━━━━━━━━━━━━━━━\u001b[0m\u001b[37m\u001b[0m \u001b[1m0s\u001b[0m 59ms/step - loss: 656.9480 - val_loss: 459.6203\n",
      "Epoch 19/50\n",
      "\u001b[1m2/2\u001b[0m \u001b[32m━━━━━━━━━━━━━━━━━━━━\u001b[0m\u001b[37m\u001b[0m \u001b[1m0s\u001b[0m 58ms/step - loss: 673.1177 - val_loss: 459.6154\n",
      "Epoch 20/50\n",
      "\u001b[1m2/2\u001b[0m \u001b[32m━━━━━━━━━━━━━━━━━━━━\u001b[0m\u001b[37m\u001b[0m \u001b[1m0s\u001b[0m 59ms/step - loss: 664.8628 - val_loss: 459.6096\n",
      "Epoch 21/50\n",
      "\u001b[1m2/2\u001b[0m \u001b[32m━━━━━━━━━━━━━━━━━━━━\u001b[0m\u001b[37m\u001b[0m \u001b[1m0s\u001b[0m 60ms/step - loss: 690.7697 - val_loss: 459.6058\n",
      "Epoch 22/50\n",
      "\u001b[1m2/2\u001b[0m \u001b[32m━━━━━━━━━━━━━━━━━━━━\u001b[0m\u001b[37m\u001b[0m \u001b[1m0s\u001b[0m 60ms/step - loss: 647.6024 - val_loss: 459.6014\n",
      "Epoch 23/50\n",
      "\u001b[1m2/2\u001b[0m \u001b[32m━━━━━━━━━━━━━━━━━━━━\u001b[0m\u001b[37m\u001b[0m \u001b[1m0s\u001b[0m 61ms/step - loss: 671.6492 - val_loss: 459.5978\n",
      "Epoch 24/50\n",
      "\u001b[1m2/2\u001b[0m \u001b[32m━━━━━━━━━━━━━━━━━━━━\u001b[0m\u001b[37m\u001b[0m \u001b[1m0s\u001b[0m 58ms/step - loss: 679.5144 - val_loss: 459.5938\n",
      "Epoch 25/50\n",
      "\u001b[1m2/2\u001b[0m \u001b[32m━━━━━━━━━━━━━━━━━━━━\u001b[0m\u001b[37m\u001b[0m \u001b[1m0s\u001b[0m 60ms/step - loss: 670.6309 - val_loss: 459.5901\n",
      "Epoch 26/50\n",
      "\u001b[1m2/2\u001b[0m \u001b[32m━━━━━━━━━━━━━━━━━━━━\u001b[0m\u001b[37m\u001b[0m \u001b[1m0s\u001b[0m 60ms/step - loss: 642.7379 - val_loss: 459.5860\n",
      "Epoch 27/50\n",
      "\u001b[1m2/2\u001b[0m \u001b[32m━━━━━━━━━━━━━━━━━━━━\u001b[0m\u001b[37m\u001b[0m \u001b[1m0s\u001b[0m 61ms/step - loss: 652.2912 - val_loss: 459.5825\n",
      "Epoch 28/50\n",
      "\u001b[1m2/2\u001b[0m \u001b[32m━━━━━━━━━━━━━━━━━━━━\u001b[0m\u001b[37m\u001b[0m \u001b[1m0s\u001b[0m 59ms/step - loss: 640.8866 - val_loss: 459.5790\n",
      "Epoch 29/50\n",
      "\u001b[1m2/2\u001b[0m \u001b[32m━━━━━━━━━━━━━━━━━━━━\u001b[0m\u001b[37m\u001b[0m \u001b[1m0s\u001b[0m 59ms/step - loss: 650.6950 - val_loss: 459.5760\n",
      "Epoch 30/50\n",
      "\u001b[1m2/2\u001b[0m \u001b[32m━━━━━━━━━━━━━━━━━━━━\u001b[0m\u001b[37m\u001b[0m \u001b[1m0s\u001b[0m 59ms/step - loss: 624.9465 - val_loss: 459.5734\n",
      "Epoch 31/50\n",
      "\u001b[1m2/2\u001b[0m \u001b[32m━━━━━━━━━━━━━━━━━━━━\u001b[0m\u001b[37m\u001b[0m \u001b[1m0s\u001b[0m 61ms/step - loss: 665.4128 - val_loss: 459.5708\n",
      "Epoch 32/50\n",
      "\u001b[1m2/2\u001b[0m \u001b[32m━━━━━━━━━━━━━━━━━━━━\u001b[0m\u001b[37m\u001b[0m \u001b[1m0s\u001b[0m 59ms/step - loss: 696.5638 - val_loss: 459.5687\n",
      "Epoch 33/50\n",
      "\u001b[1m2/2\u001b[0m \u001b[32m━━━━━━━━━━━━━━━━━━━━\u001b[0m\u001b[37m\u001b[0m \u001b[1m0s\u001b[0m 60ms/step - loss: 660.1037 - val_loss: 459.5664\n",
      "Epoch 34/50\n",
      "\u001b[1m2/2\u001b[0m \u001b[32m━━━━━━━━━━━━━━━━━━━━\u001b[0m\u001b[37m\u001b[0m \u001b[1m0s\u001b[0m 59ms/step - loss: 647.3674 - val_loss: 459.5639\n",
      "Epoch 35/50\n",
      "\u001b[1m2/2\u001b[0m \u001b[32m━━━━━━━━━━━━━━━━━━━━\u001b[0m\u001b[37m\u001b[0m \u001b[1m0s\u001b[0m 62ms/step - loss: 665.6317 - val_loss: 459.5614\n",
      "Epoch 36/50\n",
      "\u001b[1m2/2\u001b[0m \u001b[32m━━━━━━━━━━━━━━━━━━━━\u001b[0m\u001b[37m\u001b[0m \u001b[1m0s\u001b[0m 59ms/step - loss: 636.2935 - val_loss: 459.5589\n",
      "Epoch 37/50\n",
      "\u001b[1m2/2\u001b[0m \u001b[32m━━━━━━━━━━━━━━━━━━━━\u001b[0m\u001b[37m\u001b[0m \u001b[1m0s\u001b[0m 58ms/step - loss: 666.0515 - val_loss: 459.5568\n",
      "Epoch 38/50\n",
      "\u001b[1m2/2\u001b[0m \u001b[32m━━━━━━━━━━━━━━━━━━━━\u001b[0m\u001b[37m\u001b[0m \u001b[1m0s\u001b[0m 63ms/step - loss: 650.5682 - val_loss: 459.5549\n",
      "Epoch 39/50\n",
      "\u001b[1m2/2\u001b[0m \u001b[32m━━━━━━━━━━━━━━━━━━━━\u001b[0m\u001b[37m\u001b[0m \u001b[1m0s\u001b[0m 60ms/step - loss: 639.8537 - val_loss: 459.5527\n",
      "Epoch 40/50\n",
      "\u001b[1m2/2\u001b[0m \u001b[32m━━━━━━━━━━━━━━━━━━━━\u001b[0m\u001b[37m\u001b[0m \u001b[1m0s\u001b[0m 59ms/step - loss: 642.5117 - val_loss: 459.5509\n",
      "Epoch 41/50\n",
      "\u001b[1m2/2\u001b[0m \u001b[32m━━━━━━━━━━━━━━━━━━━━\u001b[0m\u001b[37m\u001b[0m \u001b[1m0s\u001b[0m 59ms/step - loss: 686.1753 - val_loss: 459.5492\n",
      "Epoch 42/50\n",
      "\u001b[1m2/2\u001b[0m \u001b[32m━━━━━━━━━━━━━━━━━━━━\u001b[0m\u001b[37m\u001b[0m \u001b[1m0s\u001b[0m 229ms/step - loss: 673.2908 - val_loss: 459.5475\n",
      "Epoch 43/50\n",
      "\u001b[1m2/2\u001b[0m \u001b[32m━━━━━━━━━━━━━━━━━━━━\u001b[0m\u001b[37m\u001b[0m \u001b[1m0s\u001b[0m 61ms/step - loss: 638.2739 - val_loss: 459.5455\n",
      "Epoch 44/50\n",
      "\u001b[1m2/2\u001b[0m \u001b[32m━━━━━━━━━━━━━━━━━━━━\u001b[0m\u001b[37m\u001b[0m \u001b[1m0s\u001b[0m 59ms/step - loss: 618.8347 - val_loss: 459.5436\n",
      "Epoch 45/50\n",
      "\u001b[1m2/2\u001b[0m \u001b[32m━━━━━━━━━━━━━━━━━━━━\u001b[0m\u001b[37m\u001b[0m \u001b[1m0s\u001b[0m 59ms/step - loss: 611.2408 - val_loss: 459.5419\n",
      "Epoch 46/50\n",
      "\u001b[1m2/2\u001b[0m \u001b[32m━━━━━━━━━━━━━━━━━━━━\u001b[0m\u001b[37m\u001b[0m \u001b[1m0s\u001b[0m 62ms/step - loss: 683.6500 - val_loss: 459.5399\n",
      "Epoch 47/50\n",
      "\u001b[1m2/2\u001b[0m \u001b[32m━━━━━━━━━━━━━━━━━━━━\u001b[0m\u001b[37m\u001b[0m \u001b[1m0s\u001b[0m 60ms/step - loss: 666.3953 - val_loss: 459.5380\n",
      "Epoch 48/50\n",
      "\u001b[1m2/2\u001b[0m \u001b[32m━━━━━━━━━━━━━━━━━━━━\u001b[0m\u001b[37m\u001b[0m \u001b[1m0s\u001b[0m 61ms/step - loss: 645.3445 - val_loss: 459.5366\n",
      "Epoch 49/50\n",
      "\u001b[1m2/2\u001b[0m \u001b[32m━━━━━━━━━━━━━━━━━━━━\u001b[0m\u001b[37m\u001b[0m \u001b[1m0s\u001b[0m 59ms/step - loss: 696.6136 - val_loss: 459.5354\n",
      "Epoch 50/50\n",
      "\u001b[1m2/2\u001b[0m \u001b[32m━━━━━━━━━━━━━━━━━━━━\u001b[0m\u001b[37m\u001b[0m \u001b[1m0s\u001b[0m 63ms/step - loss: 636.7463 - val_loss: 459.5336\n"
     ]
    },
    {
     "data": {
      "text/plain": [
       "<keras.src.callbacks.history.History at 0x136146180>"
      ]
     },
     "execution_count": 27,
     "metadata": {},
     "output_type": "execute_result"
    }
   ],
   "source": [
    "autoencoder = Autoencoder(input_dim=X.shape[1])\n",
    "autoencoder.fit(X_mint_train, X_mint_train, epochs=50, batch_size=32, validation_split=0.2)"
   ]
  },
  {
   "cell_type": "code",
   "execution_count": 28,
   "id": "8e09b2cc",
   "metadata": {},
   "outputs": [
    {
     "name": "stdout",
     "output_type": "stream",
     "text": [
      "\u001b[1m2/2\u001b[0m \u001b[32m━━━━━━━━━━━━━━━━━━━━\u001b[0m\u001b[37m\u001b[0m \u001b[1m0s\u001b[0m 78ms/step\n",
      "\u001b[1m1/1\u001b[0m \u001b[32m━━━━━━━━━━━━━━━━━━━━\u001b[0m\u001b[37m\u001b[0m \u001b[1m0s\u001b[0m 33ms/step\n"
     ]
    }
   ],
   "source": [
    "X_train_encoded = autoencoder.predict(X_mint_train)\n",
    "X_test_encoded = autoencoder.predict(X_mint_test)"
   ]
  },
  {
   "cell_type": "code",
   "execution_count": 29,
   "id": "4f2f4ede",
   "metadata": {},
   "outputs": [],
   "source": [
    "model = Model(input_dim=X_train_encoded.shape[1], output_dim=1)"
   ]
  },
  {
   "cell_type": "code",
   "execution_count": 30,
   "id": "c5d51f36",
   "metadata": {},
   "outputs": [
    {
     "name": "stdout",
     "output_type": "stream",
     "text": [
      "Epoch 1/100\n",
      "\u001b[1m2/2\u001b[0m \u001b[32m━━━━━━━━━━━━━━━━━━━━\u001b[0m\u001b[37m\u001b[0m \u001b[1m3s\u001b[0m 302ms/step - accuracy: 0.3681 - loss: 0.9322 - val_accuracy: 0.7273 - val_loss: 0.6438 - learning_rate: 1.0000e-06\n",
      "Epoch 2/100\n",
      "\u001b[1m2/2\u001b[0m \u001b[32m━━━━━━━━━━━━━━━━━━━━\u001b[0m\u001b[37m\u001b[0m \u001b[1m0s\u001b[0m 64ms/step - accuracy: 0.3527 - loss: 1.0309 - val_accuracy: 0.7273 - val_loss: 0.6471 - learning_rate: 1.0000e-06\n",
      "Epoch 3/100\n",
      "\u001b[1m2/2\u001b[0m \u001b[32m━━━━━━━━━━━━━━━━━━━━\u001b[0m\u001b[37m\u001b[0m \u001b[1m0s\u001b[0m 66ms/step - accuracy: 0.5159 - loss: 0.8787 - val_accuracy: 0.7273 - val_loss: 0.6498 - learning_rate: 1.0000e-06\n",
      "Epoch 4/100\n",
      "\u001b[1m2/2\u001b[0m \u001b[32m━━━━━━━━━━━━━━━━━━━━\u001b[0m\u001b[37m\u001b[0m \u001b[1m0s\u001b[0m 65ms/step - accuracy: 0.5104 - loss: 0.8580 - val_accuracy: 0.7273 - val_loss: 0.6528 - learning_rate: 1.0000e-06\n",
      "Epoch 5/100\n",
      "\u001b[1m2/2\u001b[0m \u001b[32m━━━━━━━━━━━━━━━━━━━━\u001b[0m\u001b[37m\u001b[0m \u001b[1m0s\u001b[0m 65ms/step - accuracy: 0.4474 - loss: 0.7676 - val_accuracy: 0.7273 - val_loss: 0.6556 - learning_rate: 1.0000e-06\n",
      "Epoch 6/100\n",
      "\u001b[1m1/2\u001b[0m \u001b[32m━━━━━━━━━━\u001b[0m\u001b[37m━━━━━━━━━━\u001b[0m \u001b[1m0s\u001b[0m 28ms/step - accuracy: 0.5312 - loss: 0.6963\n",
      "Epoch 6: ReduceLROnPlateau reducing learning rate to 4.999999987376214e-07.\n",
      "\u001b[1m2/2\u001b[0m \u001b[32m━━━━━━━━━━━━━━━━━━━━\u001b[0m\u001b[37m\u001b[0m \u001b[1m0s\u001b[0m 67ms/step - accuracy: 0.4628 - loss: 0.7577 - val_accuracy: 0.7273 - val_loss: 0.6584 - learning_rate: 1.0000e-06\n"
     ]
    },
    {
     "data": {
      "text/plain": [
       "<keras.src.callbacks.history.History at 0x135acfb30>"
      ]
     },
     "execution_count": 30,
     "metadata": {},
     "output_type": "execute_result"
    }
   ],
   "source": [
    "model.fit(X_train_encoded, y_mint_train, validation_split=0.2, epochs=100, batch_size=32,\n",
    "                    callbacks=[\n",
    "                                EarlyStopping(monitor='val_loss',\n",
    "                                             patience=5,\n",
    "                                             restore_best_weights=True),\n",
    "                                ReduceLROnPlateau(\n",
    "                                  monitor='val_loss',\n",
    "                                  factor=0.5,\n",
    "                                  patience=5,\n",
    "                                  verbose=1)\n",
    "                               ]\n",
    "                    )"
   ]
  },
  {
   "cell_type": "code",
   "execution_count": 31,
   "id": "1190a35f",
   "metadata": {},
   "outputs": [
    {
     "name": "stdout",
     "output_type": "stream",
     "text": [
      "\u001b[1m1/1\u001b[0m \u001b[32m━━━━━━━━━━━━━━━━━━━━\u001b[0m\u001b[37m\u001b[0m \u001b[1m0s\u001b[0m 107ms/step\n"
     ]
    }
   ],
   "source": [
    "y_pred_prob = model.predict(X_test_encoded)"
   ]
  },
  {
   "cell_type": "code",
   "execution_count": 32,
   "id": "9d81a854",
   "metadata": {},
   "outputs": [
    {
     "name": "stdout",
     "output_type": "stream",
     "text": [
      "Label 0: Best threshold = 0.38, Best f1 = 0.3077\n"
     ]
    }
   ],
   "source": [
    "best_thresholds, _ = tune_thresholds(y_mint_test, y_pred_prob)"
   ]
  },
  {
   "cell_type": "code",
   "execution_count": 33,
   "id": "3f2ba424",
   "metadata": {},
   "outputs": [
    {
     "name": "stdout",
     "output_type": "stream",
     "text": [
      "WARNING:tensorflow:5 out of the last 7 calls to <function TensorFlowTrainer.make_predict_function.<locals>.one_step_on_data_distributed at 0x1368cdee0> triggered tf.function retracing. Tracing is expensive and the excessive number of tracings could be due to (1) creating @tf.function repeatedly in a loop, (2) passing tensors with different shapes, (3) passing Python objects instead of tensors. For (1), please define your @tf.function outside of the loop. For (2), @tf.function has reduce_retracing=True option that can avoid unnecessary retracing. For (3), please refer to https://www.tensorflow.org/guide/function#controlling_retracing and https://www.tensorflow.org/api_docs/python/tf/function for  more details.\n",
      "\u001b[1m1/1\u001b[0m \u001b[32m━━━━━━━━━━━━━━━━━━━━\u001b[0m\u001b[37m\u001b[0m \u001b[1m0s\u001b[0m 138ms/step\n"
     ]
    }
   ],
   "source": [
    "y_pred = (model.predict(X_test) >= best_thresholds).astype(int)"
   ]
  },
  {
   "cell_type": "markdown",
   "id": "491bc629",
   "metadata": {},
   "source": [
    "### Report"
   ]
  },
  {
   "cell_type": "code",
   "execution_count": 34,
   "id": "5368b575",
   "metadata": {},
   "outputs": [
    {
     "name": "stdout",
     "output_type": "stream",
     "text": [
      "              precision    recall  f1-score   support\n",
      "\n",
      "           0       1.00      0.14      0.25         7\n",
      "           1       0.54      1.00      0.70         7\n",
      "\n",
      "    accuracy                           0.57        14\n",
      "   macro avg       0.77      0.57      0.47        14\n",
      "weighted avg       0.77      0.57      0.47        14\n",
      "\n"
     ]
    }
   ],
   "source": [
    "print(classification_report(y_test, y_pred))"
   ]
  }
 ],
 "metadata": {
  "kernelspec": {
   "display_name": "ml-algo",
   "language": "python",
   "name": "python3"
  },
  "language_info": {
   "codemirror_mode": {
    "name": "ipython",
    "version": 3
   },
   "file_extension": ".py",
   "mimetype": "text/x-python",
   "name": "python",
   "nbconvert_exporter": "python",
   "pygments_lexer": "ipython3",
   "version": "3.12.7"
  }
 },
 "nbformat": 4,
 "nbformat_minor": 5
}
