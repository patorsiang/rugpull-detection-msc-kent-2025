{
 "cells": [
  {
   "cell_type": "markdown",
   "id": "b780a8f5",
   "metadata": {},
   "source": [
    "# Graphs Extraction - MPL 512 * 256 * 128"
   ]
  },
  {
   "cell_type": "markdown",
   "id": "f5f72b91",
   "metadata": {},
   "source": [
    "## Set Up"
   ]
  },
  {
   "cell_type": "code",
   "execution_count": 1,
   "id": "6cfdfacc",
   "metadata": {},
   "outputs": [],
   "source": [
    "import warnings\n",
    "warnings.filterwarnings(\"ignore\")"
   ]
  },
  {
   "cell_type": "code",
   "execution_count": 2,
   "id": "ae0cc90e",
   "metadata": {},
   "outputs": [
    {
     "name": "stderr",
     "output_type": "stream",
     "text": [
      "2025-07-17 15:24:23.471154: I tensorflow/core/platform/cpu_feature_guard.cc:210] This TensorFlow binary is optimized to use available CPU instructions in performance-critical operations.\n",
      "To enable the following instructions: AVX2 AVX512F AVX512_VNNI FMA, in other operations, rebuild TensorFlow with the appropriate compiler flags.\n"
     ]
    }
   ],
   "source": [
    "import os\n",
    "import re\n",
    "import json\n",
    "import pandas as pd\n",
    "from pathlib import Path\n",
    "\n",
    "from sklearn.metrics import classification_report, confusion_matrix, ConfusionMatrixDisplay\n",
    "import matplotlib.pyplot as plt\n",
    "from tensorflow.keras.saving import load_model\n",
    "\n",
    "import sys\n",
    "# Add the workspace root to sys.path so 'scripts' can be imported\n",
    "sys.path.append(str(Path.cwd().parents[3]))\n",
    "\n",
    "from scripts.feature_extractions.graphs_stat import get_graphs_stat_from_files\n"
   ]
  },
  {
   "cell_type": "code",
   "execution_count": 3,
   "id": "40ee5a42",
   "metadata": {},
   "outputs": [],
   "source": [
    "PATH = Path.cwd().parents[3]\n",
    "MODEL_PATH = os.path.join(PATH, 'models/baseline')\n",
    "DATA_PATH = os.path.join(PATH, 'data')\n",
    "EX_PATH = os.path.join(DATA_PATH, 'external/crpwarner/large')\n",
    "HEX_PATH = os.path.join(EX_PATH, 'hex')\n",
    "name = 'graphs_stat'"
   ]
  },
  {
   "cell_type": "markdown",
   "id": "0a4392cf",
   "metadata": {},
   "source": [
    "### Load Model"
   ]
  },
  {
   "cell_type": "code",
   "execution_count": 4,
   "id": "daf39605",
   "metadata": {},
   "outputs": [],
   "source": [
    "model_paths = list(Path(MODEL_PATH).glob(f'{name}-f1-*.keras'))\n",
    "best_thresholds_paths = list(Path(MODEL_PATH).glob(f'best_thresholds_for_{name}-f1-*.json'))"
   ]
  },
  {
   "cell_type": "code",
   "execution_count": 5,
   "id": "a53121a7",
   "metadata": {},
   "outputs": [],
   "source": [
    "def get_best_model_path(paths):\n",
    "    best_f1_score = -1.0\n",
    "    best_path = None\n",
    "\n",
    "    for path in paths:\n",
    "        # Extract the F1 score using a regular expression\n",
    "        match = re.search(r'f1-(\\d+\\.\\d+)\\.(pkl|json|keras)$', path.name)\n",
    "        if match:\n",
    "            try:\n",
    "                f1_score = float(match.group(1))\n",
    "                if f1_score > best_f1_score:\n",
    "                    best_f1_score = f1_score\n",
    "                    best_path = path\n",
    "            except ValueError:\n",
    "                # Handle cases where the extracted string might not be a valid float\n",
    "                print(f\"Warning: Could not parse F1 score from filename: {path.name}\")\n",
    "        else:\n",
    "            print(f\"Warning: F1 score pattern not found in filename: {path.name}\")\n",
    "\n",
    "    return best_path"
   ]
  },
  {
   "cell_type": "code",
   "execution_count": 6,
   "id": "b12ea0f1",
   "metadata": {},
   "outputs": [],
   "source": [
    "best_model_path = get_best_model_path(model_paths)\n",
    "\n",
    "if best_model_path:\n",
    "    model = load_model(best_model_path)"
   ]
  },
  {
   "cell_type": "code",
   "execution_count": 7,
   "id": "cebd1c12",
   "metadata": {},
   "outputs": [],
   "source": [
    "best_thresholds_path = get_best_model_path(best_thresholds_paths)\n",
    "\n",
    "if best_thresholds_path:\n",
    "    with open(best_thresholds_path, 'r') as file:\n",
    "        best_thresholds = json.load(file)['thresholds']"
   ]
  },
  {
   "cell_type": "code",
   "execution_count": 8,
   "id": "52f43a5b",
   "metadata": {},
   "outputs": [
    {
     "data": {
      "text/plain": [
       "[0.42, 0.47000000000000003, 0.56]"
      ]
     },
     "execution_count": 8,
     "metadata": {},
     "output_type": "execute_result"
    }
   ],
   "source": [
    "best_thresholds"
   ]
  },
  {
   "cell_type": "code",
   "execution_count": 9,
   "id": "cd643d71",
   "metadata": {},
   "outputs": [],
   "source": [
    "with open(os.path.join(DATA_PATH, f'processed/{name}/features.json'), 'r', encoding='utf-8') as f:\n",
    "    train_cols = json.load(f)"
   ]
  },
  {
   "cell_type": "code",
   "execution_count": 10,
   "id": "dbbd3514",
   "metadata": {},
   "outputs": [
    {
     "data": {
      "text/plain": [
       "['num_nodes',\n",
       " 'num_edges',\n",
       " 'avg_degree',\n",
       " 'density',\n",
       " 'connected_components',\n",
       " 'avg_clustering']"
      ]
     },
     "execution_count": 10,
     "metadata": {},
     "output_type": "execute_result"
    }
   ],
   "source": [
    "train_cols"
   ]
  },
  {
   "cell_type": "markdown",
   "id": "662628ff",
   "metadata": {},
   "source": [
    "## Mint"
   ]
  },
  {
   "cell_type": "markdown",
   "id": "0455fbaa",
   "metadata": {},
   "source": [
    "### Load and Prepare Data"
   ]
  },
  {
   "cell_type": "code",
   "execution_count": 11,
   "id": "9869d8a1",
   "metadata": {},
   "outputs": [
    {
     "data": {
      "application/vnd.microsoft.datawrangler.viewer.v0+json": {
       "columns": [
        {
         "name": "Address",
         "rawType": "object",
         "type": "string"
        },
        {
         "name": "TP?",
         "rawType": "object",
         "type": "string"
        }
       ],
       "ref": "d054679b-4c98-405c-8ddb-ba9a517c0790",
       "rows": [
        [
         "0x0fef20d2c4ee011fa0389e69e9fa92a2291b63c8",
         "Yes"
        ],
        [
         "0xd7cc0deb9dd11be95068bf2d7a3d082b8ba9bf04",
         "Yes"
        ],
        [
         "0xa1b756be589441519b1a08e16bc4f60ab177d916",
         "Yes"
        ],
        [
         "0x514bc174df04a4b04ae2be81ee8c788c3796b06b",
         "Yes"
        ],
        [
         "0x1354c8c1a66c2573ce9cc3e92e98d17869501a46",
         "Yes"
        ]
       ],
       "shape": {
        "columns": 1,
        "rows": 5
       }
      },
      "text/html": [
       "<div>\n",
       "<style scoped>\n",
       "    .dataframe tbody tr th:only-of-type {\n",
       "        vertical-align: middle;\n",
       "    }\n",
       "\n",
       "    .dataframe tbody tr th {\n",
       "        vertical-align: top;\n",
       "    }\n",
       "\n",
       "    .dataframe thead th {\n",
       "        text-align: right;\n",
       "    }\n",
       "</style>\n",
       "<table border=\"1\" class=\"dataframe\">\n",
       "  <thead>\n",
       "    <tr style=\"text-align: right;\">\n",
       "      <th></th>\n",
       "      <th>TP?</th>\n",
       "    </tr>\n",
       "    <tr>\n",
       "      <th>Address</th>\n",
       "      <th></th>\n",
       "    </tr>\n",
       "  </thead>\n",
       "  <tbody>\n",
       "    <tr>\n",
       "      <th>0x0fef20d2c4ee011fa0389e69e9fa92a2291b63c8</th>\n",
       "      <td>Yes</td>\n",
       "    </tr>\n",
       "    <tr>\n",
       "      <th>0xd7cc0deb9dd11be95068bf2d7a3d082b8ba9bf04</th>\n",
       "      <td>Yes</td>\n",
       "    </tr>\n",
       "    <tr>\n",
       "      <th>0xa1b756be589441519b1a08e16bc4f60ab177d916</th>\n",
       "      <td>Yes</td>\n",
       "    </tr>\n",
       "    <tr>\n",
       "      <th>0x514bc174df04a4b04ae2be81ee8c788c3796b06b</th>\n",
       "      <td>Yes</td>\n",
       "    </tr>\n",
       "    <tr>\n",
       "      <th>0x1354c8c1a66c2573ce9cc3e92e98d17869501a46</th>\n",
       "      <td>Yes</td>\n",
       "    </tr>\n",
       "  </tbody>\n",
       "</table>\n",
       "</div>"
      ],
      "text/plain": [
       "                                            TP?\n",
       "Address                                        \n",
       "0x0fef20d2c4ee011fa0389e69e9fa92a2291b63c8  Yes\n",
       "0xd7cc0deb9dd11be95068bf2d7a3d082b8ba9bf04  Yes\n",
       "0xa1b756be589441519b1a08e16bc4f60ab177d916  Yes\n",
       "0x514bc174df04a4b04ae2be81ee8c788c3796b06b  Yes\n",
       "0x1354c8c1a66c2573ce9cc3e92e98d17869501a46  Yes"
      ]
     },
     "execution_count": 11,
     "metadata": {},
     "output_type": "execute_result"
    }
   ],
   "source": [
    "df = pd.read_excel(os.path.join(EX_PATH, 'sample/mint.xlsx'))\n",
    "df['Address'] = df['Address'].str.lower()\n",
    "df = df.set_index('Address')\n",
    "df.head()"
   ]
  },
  {
   "cell_type": "code",
   "execution_count": 12,
   "id": "aeb6dddf",
   "metadata": {},
   "outputs": [
    {
     "data": {
      "application/vnd.microsoft.datawrangler.viewer.v0+json": {
       "columns": [
        {
         "name": "index",
         "rawType": "object",
         "type": "string"
        },
        {
         "name": "0",
         "rawType": "int64",
         "type": "integer"
        }
       ],
       "ref": "b03dfd66-0ff7-4a09-ac00-790016fce564",
       "rows": [
        [
         "TP?",
         "0"
        ]
       ],
       "shape": {
        "columns": 1,
        "rows": 1
       }
      },
      "text/plain": [
       "TP?    0\n",
       "dtype: int64"
      ]
     },
     "execution_count": 12,
     "metadata": {},
     "output_type": "execute_result"
    }
   ],
   "source": [
    "df.isna().sum()"
   ]
  },
  {
   "cell_type": "code",
   "execution_count": 13,
   "id": "625e3dea",
   "metadata": {},
   "outputs": [
    {
     "name": "stderr",
     "output_type": "stream",
     "text": [
      "100%|██████████| 92/92 [00:13<00:00,  7.07it/s]\n"
     ]
    }
   ],
   "source": [
    "files = []\n",
    "y = []\n",
    "\n",
    "for path in list(Path(HEX_PATH).glob('*.hex')):\n",
    "    address = path.stem.lower()\n",
    "    if address in df.index:\n",
    "        files.append(path)\n",
    "        tp_value = df.loc[address, 'TP?']\n",
    "        if isinstance(tp_value, pd.Series):\n",
    "            tp_value = tp_value.iloc[0]\n",
    "        y.append(1 if tp_value == 'Yes' else 0)\n",
    "\n",
    "X = get_graphs_stat_from_files(files)"
   ]
  },
  {
   "cell_type": "code",
   "execution_count": 14,
   "id": "e3910d01",
   "metadata": {},
   "outputs": [
    {
     "data": {
      "application/vnd.microsoft.datawrangler.viewer.v0+json": {
       "columns": [
        {
         "name": "address",
         "rawType": "object",
         "type": "string"
        },
        {
         "name": "num_nodes",
         "rawType": "int64",
         "type": "integer"
        },
        {
         "name": "num_edges",
         "rawType": "int64",
         "type": "integer"
        },
        {
         "name": "avg_degree",
         "rawType": "float64",
         "type": "float"
        },
        {
         "name": "density",
         "rawType": "float64",
         "type": "float"
        },
        {
         "name": "connected_components",
         "rawType": "int64",
         "type": "integer"
        },
        {
         "name": "avg_clustering",
         "rawType": "float64",
         "type": "float"
        }
       ],
       "ref": "730782fc-f9bc-4631-ae9c-73b8de14655f",
       "rows": [
        [
         "0x71a982a028c9d4b0566041a78df12b810462e155",
         "205",
         "163",
         "1.5902439024390245",
         "0.00389765662362506",
         "53",
         "0.0"
        ],
        [
         "0x8d3bd2940bbc5ed724d138934374e4c0ad3c0027",
         "244",
         "162",
         "1.3278688524590163",
         "0.00273224043715847",
         "90",
         "0.006147540983606557"
        ],
        [
         "0x4c0c2052dfdb2d0932644f7b2d4bea509678b9d9",
         "300",
         "237",
         "1.58",
         "0.0026421404682274246",
         "81",
         "0.024444444444444442"
        ],
        [
         "0x0d42fb07a685d2ff9d6bb93df0389946192cd322",
         "362",
         "247",
         "1.3646408839779005",
         "0.0018900843268391974",
         "122",
         "0.020257826887661142"
        ],
        [
         "0x7dd2f15b4a8c8e14da5eaa7b635221d4b39c41cc",
         "117",
         "94",
         "1.606837606837607",
         "0.006926024167403478",
         "26",
         "0.03276353276353276"
        ],
        [
         "0xba14c6c651fa5998ba58e1a2be9a1ce5280cf966",
         "245",
         "196",
         "1.6",
         "0.003278688524590164",
         "56",
         "0.015646258503401362"
        ],
        [
         "0x2f22c502a8029d5e64aeafb6e0a214c0323f43c7",
         "329",
         "141",
         "0.8571428571428571",
         "0.0013066202090592336",
         "193",
         "0.005065856129685916"
        ],
        [
         "0x08769a9b479a4b20e796194d960cc407fc66359a",
         "169",
         "129",
         "1.5266272189349113",
         "0.004543533389687236",
         "47",
         "0.0"
        ],
        [
         "0x2024e764af9efd2b54b16897af509ec052d281cb",
         "185",
         "119",
         "1.2864864864864864",
         "0.0034958871915393656",
         "72",
         "0.03153153153153153"
        ],
        [
         "0x1354c8c1a66c2573ce9cc3e92e98d17869501a46",
         "189",
         "151",
         "1.597883597883598",
         "0.0042496904199031856",
         "49",
         "0.040564373897707236"
        ],
        [
         "0x0fef20d2c4ee011fa0389e69e9fa92a2291b63c8",
         "302",
         "165",
         "1.0927152317880795",
         "0.0018151415810433215",
         "158",
         "0.0"
        ],
        [
         "0x5052787b0b9cec67442e2ff43d2176693377bc5a",
         "501",
         "405",
         "1.6167664670658684",
         "0.0016167664670658684",
         "114",
         "0.0029940119760479044"
        ],
        [
         "0xfa24078bd2daa00232733a1bd8df5badf047ffa2",
         "276",
         "204",
         "1.4782608695652173",
         "0.0026877470355731225",
         "78",
         "0.01388888888888889"
        ],
        [
         "0xf49cdd50ad408d387d611f88a647179c3de3492b",
         "151",
         "111",
         "1.4701986754966887",
         "0.00490066225165563",
         "49",
         "0.0"
        ],
        [
         "0xda4dba3029946b950b7fcfd71342fdbe5bfa45fc",
         "96",
         "97",
         "2.0208333333333335",
         "0.010635964912280702",
         "9",
         "0.12152777777777778"
        ],
        [
         "0xa82422731d00d935ed29c719f2f41f1794665043",
         "350",
         "297",
         "1.697142857142857",
         "0.0024314367580843227",
         "84",
         "0.03523809523809524"
        ],
        [
         "0x89cf87c35e69a9b84f7a3e50eaf54bfc3cabc377",
         "358",
         "231",
         "1.2905027932960893",
         "0.001807426881367072",
         "134",
         "0.010707635009310988"
        ],
        [
         "0x740e6b6f0a0165e8bb3d1cdf94862bdffbded22e",
         "369",
         "305",
         "1.6531165311653115",
         "0.00224608224343113",
         "81",
         "0.0"
        ],
        [
         "0x64d30c2e9715f0add2815f862eaf22d9dbc1bd28",
         "204",
         "227",
         "2.2254901960784315",
         "0.005481502946005989",
         "14",
         "0.06454248366013071"
        ],
        [
         "0x616f9cb89319194935543f445266735bfce524d6",
         "178",
         "107",
         "1.202247191011236",
         "0.0033961785056814573",
         "78",
         "0.025280898876404494"
        ],
        [
         "0x645b6d66a07479bca259aaaaf0066d415e1d4b44",
         "140",
         "84",
         "1.2",
         "0.004316546762589928",
         "64",
         "0.051190476190476196"
        ],
        [
         "0xea1b323e9aa0c0188f0ddacc4f22a6aaf8542d2c",
         "371",
         "291",
         "1.568733153638814",
         "0.0021199096670794786",
         "91",
         "0.010332434860736747"
        ],
        [
         "0x85ea0df59947bd97e592d9756e965c3f55fb6ebe",
         "220",
         "200",
         "1.8181818181818181",
         "0.004151100041511001",
         "34",
         "0.0"
        ],
        [
         "0x514bc174df04a4b04ae2be81ee8c788c3796b06b",
         "565",
         "258",
         "0.9132743362831859",
         "0.0008096403690453775",
         "330",
         "0.0048967551622418875"
        ],
        [
         "0xc8fcc48d1454a83589169294470549a2e1713dec",
         "318",
         "222",
         "1.3962264150943395",
         "0.0022022498660794",
         "110",
         "0.018867924528301886"
        ],
        [
         "0xb6d699699ccc50548c1916b02afff6e5a7bc4117",
         "191",
         "124",
         "1.2984293193717278",
         "0.0034169192615045468",
         "73",
         "0.030541012216404886"
        ],
        [
         "0x8d46facfb889740a345755e624942257dc87b5ac",
         "268",
         "179",
         "1.335820895522388",
         "0.002501537257532562",
         "104",
         "0.01181592039800995"
        ],
        [
         "0x5e2cdfaaa35273bb4c1ca9c3c8f335af1b1bf4b7",
         "124",
         "78",
         "1.2580645161290323",
         "0.0051140833988985055",
         "49",
         "0.0"
        ],
        [
         "0xaba501a8ca62451f4af9e88b9f7f534ceec84c2a",
         "101",
         "79",
         "1.5643564356435644",
         "0.007821782178217822",
         "30",
         "0.04455445544554455"
        ],
        [
         "0xf9af111815161a6edec4b40a083d5efb3eca4f04",
         "239",
         "187",
         "1.5648535564853556",
         "0.00328750747160789",
         "55",
         "0.012552301255230125"
        ],
        [
         "0x9157c8359a1e349e599665bf83e22d32c69b9daf",
         "189",
         "141",
         "1.492063492063492",
         "0.003968253968253968",
         "49",
         "0.0"
        ],
        [
         "0x5ec77d9416e8ea58229639156c5fd182cf15ff55",
         "123",
         "99",
         "1.6097560975609757",
         "0.006597361055577769",
         "31",
         "0.04742547425474254"
        ],
        [
         "0x7fa2f70bd4c4120fdd539ebd55c04118ba336b9e",
         "171",
         "123",
         "1.4385964912280702",
         "0.004231166150670795",
         "49",
         "0.0"
        ],
        [
         "0xf18ef338df7770abf0d20d09dff86c7398a91046",
         "317",
         "208",
         "1.3123028391167193",
         "0.0020764285429062013",
         "122",
         "0.02155625657202944"
        ],
        [
         "0xd35ef25873bd9ba3e67dccd1a5634f49a32e44f0",
         "206",
         "163",
         "1.5825242718446602",
         "0.003859815297182098",
         "63",
         "0.049352750809061485"
        ],
        [
         "0x627058c1d8438ae33edb07ef4c7d8c0de95ccba2",
         "202",
         "199",
         "1.9702970297029703",
         "0.004901236392295946",
         "12",
         "0.0297029702970297"
        ],
        [
         "0x27ba530d3d4bfd98a31eb7c9512e1ce502c990b6",
         "154",
         "136",
         "1.7662337662337662",
         "0.005772005772005772",
         "27",
         "0.0"
        ],
        [
         "0x8c01ada8e708993a891d57d1b3169479a20acb3a",
         "159",
         "112",
         "1.4088050314465408",
         "0.0044582437704004454",
         "51",
         "0.019916142557651992"
        ],
        [
         "0xd1a7e773cbb9e4149a91ff860a871855bb109568",
         "391",
         "303",
         "1.5498721227621484",
         "0.0019870155420027543",
         "135",
         "0.049872122762148335"
        ],
        [
         "0x55b65bdbe29a1b2d29e28038b09075bac320d11d",
         "234",
         "185",
         "1.5811965811965811",
         "0.0033931257107222773",
         "61",
         "0.038461538461538464"
        ],
        [
         "0x7fc408011165760ee31be2bf20daf450356692af",
         "245",
         "164",
         "1.3387755102040817",
         "0.0027433924389427904",
         "96",
         "0.03469387755102041"
        ],
        [
         "0x2a90a1536dbadcb3be3c3e8af0019478c449fa5c",
         "255",
         "155",
         "1.2156862745098038",
         "0.002393083217538984",
         "122",
         "0.0"
        ],
        [
         "0x549ace5ff0c3a1881682fa06813c06884f7ee2e0",
         "142",
         "128",
         "1.8028169014084507",
         "0.00639296773549096",
         "19",
         "0.0363849765258216"
        ],
        [
         "0xf7a73331867f3a1801551e7aacf84949c0d1e96d",
         "349",
         "240",
         "1.3753581661891117",
         "0.0019760893192372294",
         "116",
         "0.010983763132760269"
        ],
        [
         "0x3633c61be0dd1b1fd20a97e05c5ed880a204de33",
         "135",
         "103",
         "1.525925925925926",
         "0.005693753454947484",
         "46",
         "0.10074074074074074"
        ],
        [
         "0x678ae07713cb9e8af29d78ca2836fa3851a26a7a",
         "245",
         "196",
         "1.6",
         "0.003278688524590164",
         "56",
         "0.015646258503401362"
        ],
        [
         "0x3bd183046cf51acc807d1f0680029fa764f17bee",
         "185",
         "150",
         "1.6216216216216217",
         "0.004406580493537015",
         "49",
         "0.04144144144144144"
        ],
        [
         "0x16ea4e590b3e8446266b24ad3d3caae2533d78f1",
         "218",
         "212",
         "1.944954128440367",
         "0.004481461125438633",
         "17",
         "0.026758409785932722"
        ],
        [
         "0xebd55da9de25d071369130270de9fad62a12f5e6",
         "254",
         "219",
         "1.7244094488188977",
         "0.0034079238118950544",
         "56",
         "0.005249343832020997"
        ],
        [
         "0x0ef3d116c56c092d37e15017accd6f8fdfdd85f4",
         "123",
         "101",
         "1.6422764227642277",
         "0.006730641076902573",
         "26",
         "0.012195121951219513"
        ]
       ],
       "shape": {
        "columns": 6,
        "rows": 92
       }
      },
      "text/html": [
       "<div>\n",
       "<style scoped>\n",
       "    .dataframe tbody tr th:only-of-type {\n",
       "        vertical-align: middle;\n",
       "    }\n",
       "\n",
       "    .dataframe tbody tr th {\n",
       "        vertical-align: top;\n",
       "    }\n",
       "\n",
       "    .dataframe thead th {\n",
       "        text-align: right;\n",
       "    }\n",
       "</style>\n",
       "<table border=\"1\" class=\"dataframe\">\n",
       "  <thead>\n",
       "    <tr style=\"text-align: right;\">\n",
       "      <th></th>\n",
       "      <th>num_nodes</th>\n",
       "      <th>num_edges</th>\n",
       "      <th>avg_degree</th>\n",
       "      <th>density</th>\n",
       "      <th>connected_components</th>\n",
       "      <th>avg_clustering</th>\n",
       "    </tr>\n",
       "    <tr>\n",
       "      <th>address</th>\n",
       "      <th></th>\n",
       "      <th></th>\n",
       "      <th></th>\n",
       "      <th></th>\n",
       "      <th></th>\n",
       "      <th></th>\n",
       "    </tr>\n",
       "  </thead>\n",
       "  <tbody>\n",
       "    <tr>\n",
       "      <th>0x71a982a028c9d4b0566041a78df12b810462e155</th>\n",
       "      <td>205</td>\n",
       "      <td>163</td>\n",
       "      <td>1.590244</td>\n",
       "      <td>0.003898</td>\n",
       "      <td>53</td>\n",
       "      <td>0.000000</td>\n",
       "    </tr>\n",
       "    <tr>\n",
       "      <th>0x8d3bd2940bbc5ed724d138934374e4c0ad3c0027</th>\n",
       "      <td>244</td>\n",
       "      <td>162</td>\n",
       "      <td>1.327869</td>\n",
       "      <td>0.002732</td>\n",
       "      <td>90</td>\n",
       "      <td>0.006148</td>\n",
       "    </tr>\n",
       "    <tr>\n",
       "      <th>0x4c0c2052dfdb2d0932644f7b2d4bea509678b9d9</th>\n",
       "      <td>300</td>\n",
       "      <td>237</td>\n",
       "      <td>1.580000</td>\n",
       "      <td>0.002642</td>\n",
       "      <td>81</td>\n",
       "      <td>0.024444</td>\n",
       "    </tr>\n",
       "    <tr>\n",
       "      <th>0x0d42fb07a685d2ff9d6bb93df0389946192cd322</th>\n",
       "      <td>362</td>\n",
       "      <td>247</td>\n",
       "      <td>1.364641</td>\n",
       "      <td>0.001890</td>\n",
       "      <td>122</td>\n",
       "      <td>0.020258</td>\n",
       "    </tr>\n",
       "    <tr>\n",
       "      <th>0x7dd2f15b4a8c8e14da5eaa7b635221d4b39c41cc</th>\n",
       "      <td>117</td>\n",
       "      <td>94</td>\n",
       "      <td>1.606838</td>\n",
       "      <td>0.006926</td>\n",
       "      <td>26</td>\n",
       "      <td>0.032764</td>\n",
       "    </tr>\n",
       "    <tr>\n",
       "      <th>...</th>\n",
       "      <td>...</td>\n",
       "      <td>...</td>\n",
       "      <td>...</td>\n",
       "      <td>...</td>\n",
       "      <td>...</td>\n",
       "      <td>...</td>\n",
       "    </tr>\n",
       "    <tr>\n",
       "      <th>0x7e9d5e7655bf3ee30043ca24a55eb6f799e0ee54</th>\n",
       "      <td>177</td>\n",
       "      <td>137</td>\n",
       "      <td>1.548023</td>\n",
       "      <td>0.004398</td>\n",
       "      <td>47</td>\n",
       "      <td>0.000000</td>\n",
       "    </tr>\n",
       "    <tr>\n",
       "      <th>0x03260e1b0f53e1a1f93cf126a7ca42a1c71648d6</th>\n",
       "      <td>155</td>\n",
       "      <td>126</td>\n",
       "      <td>1.625806</td>\n",
       "      <td>0.005279</td>\n",
       "      <td>36</td>\n",
       "      <td>0.000000</td>\n",
       "    </tr>\n",
       "    <tr>\n",
       "      <th>0xfdf475788c31c57e85f2c48add16164fb5ac84e3</th>\n",
       "      <td>178</td>\n",
       "      <td>159</td>\n",
       "      <td>1.786517</td>\n",
       "      <td>0.005047</td>\n",
       "      <td>30</td>\n",
       "      <td>0.000000</td>\n",
       "    </tr>\n",
       "    <tr>\n",
       "      <th>0xcaec691284cb2d0cc5bd8987700fec8006a139fc</th>\n",
       "      <td>353</td>\n",
       "      <td>222</td>\n",
       "      <td>1.257790</td>\n",
       "      <td>0.001787</td>\n",
       "      <td>140</td>\n",
       "      <td>0.000000</td>\n",
       "    </tr>\n",
       "    <tr>\n",
       "      <th>0x0b54c811cd4fd4d27c2ff0061c3831427d89b73c</th>\n",
       "      <td>350</td>\n",
       "      <td>246</td>\n",
       "      <td>1.405714</td>\n",
       "      <td>0.002014</td>\n",
       "      <td>114</td>\n",
       "      <td>0.000000</td>\n",
       "    </tr>\n",
       "  </tbody>\n",
       "</table>\n",
       "<p>92 rows × 6 columns</p>\n",
       "</div>"
      ],
      "text/plain": [
       "                                            num_nodes  num_edges  avg_degree  \\\n",
       "address                                                                        \n",
       "0x71a982a028c9d4b0566041a78df12b810462e155        205        163    1.590244   \n",
       "0x8d3bd2940bbc5ed724d138934374e4c0ad3c0027        244        162    1.327869   \n",
       "0x4c0c2052dfdb2d0932644f7b2d4bea509678b9d9        300        237    1.580000   \n",
       "0x0d42fb07a685d2ff9d6bb93df0389946192cd322        362        247    1.364641   \n",
       "0x7dd2f15b4a8c8e14da5eaa7b635221d4b39c41cc        117         94    1.606838   \n",
       "...                                               ...        ...         ...   \n",
       "0x7e9d5e7655bf3ee30043ca24a55eb6f799e0ee54        177        137    1.548023   \n",
       "0x03260e1b0f53e1a1f93cf126a7ca42a1c71648d6        155        126    1.625806   \n",
       "0xfdf475788c31c57e85f2c48add16164fb5ac84e3        178        159    1.786517   \n",
       "0xcaec691284cb2d0cc5bd8987700fec8006a139fc        353        222    1.257790   \n",
       "0x0b54c811cd4fd4d27c2ff0061c3831427d89b73c        350        246    1.405714   \n",
       "\n",
       "                                             density  connected_components  \\\n",
       "address                                                                      \n",
       "0x71a982a028c9d4b0566041a78df12b810462e155  0.003898                    53   \n",
       "0x8d3bd2940bbc5ed724d138934374e4c0ad3c0027  0.002732                    90   \n",
       "0x4c0c2052dfdb2d0932644f7b2d4bea509678b9d9  0.002642                    81   \n",
       "0x0d42fb07a685d2ff9d6bb93df0389946192cd322  0.001890                   122   \n",
       "0x7dd2f15b4a8c8e14da5eaa7b635221d4b39c41cc  0.006926                    26   \n",
       "...                                              ...                   ...   \n",
       "0x7e9d5e7655bf3ee30043ca24a55eb6f799e0ee54  0.004398                    47   \n",
       "0x03260e1b0f53e1a1f93cf126a7ca42a1c71648d6  0.005279                    36   \n",
       "0xfdf475788c31c57e85f2c48add16164fb5ac84e3  0.005047                    30   \n",
       "0xcaec691284cb2d0cc5bd8987700fec8006a139fc  0.001787                   140   \n",
       "0x0b54c811cd4fd4d27c2ff0061c3831427d89b73c  0.002014                   114   \n",
       "\n",
       "                                            avg_clustering  \n",
       "address                                                     \n",
       "0x71a982a028c9d4b0566041a78df12b810462e155        0.000000  \n",
       "0x8d3bd2940bbc5ed724d138934374e4c0ad3c0027        0.006148  \n",
       "0x4c0c2052dfdb2d0932644f7b2d4bea509678b9d9        0.024444  \n",
       "0x0d42fb07a685d2ff9d6bb93df0389946192cd322        0.020258  \n",
       "0x7dd2f15b4a8c8e14da5eaa7b635221d4b39c41cc        0.032764  \n",
       "...                                                    ...  \n",
       "0x7e9d5e7655bf3ee30043ca24a55eb6f799e0ee54        0.000000  \n",
       "0x03260e1b0f53e1a1f93cf126a7ca42a1c71648d6        0.000000  \n",
       "0xfdf475788c31c57e85f2c48add16164fb5ac84e3        0.000000  \n",
       "0xcaec691284cb2d0cc5bd8987700fec8006a139fc        0.000000  \n",
       "0x0b54c811cd4fd4d27c2ff0061c3831427d89b73c        0.000000  \n",
       "\n",
       "[92 rows x 6 columns]"
      ]
     },
     "execution_count": 14,
     "metadata": {},
     "output_type": "execute_result"
    }
   ],
   "source": [
    "X"
   ]
  },
  {
   "cell_type": "code",
   "execution_count": 15,
   "id": "346c89ef",
   "metadata": {},
   "outputs": [
    {
     "data": {
      "text/plain": [
       "[1, 1, 1, 1, 1]"
      ]
     },
     "execution_count": 15,
     "metadata": {},
     "output_type": "execute_result"
    }
   ],
   "source": [
    "y[:5]"
   ]
  },
  {
   "cell_type": "code",
   "execution_count": 16,
   "id": "c6ce7f6e",
   "metadata": {},
   "outputs": [],
   "source": [
    "X = X.reindex(columns=train_cols, fill_value=0).reset_index(drop=True)"
   ]
  },
  {
   "cell_type": "markdown",
   "id": "883cde11",
   "metadata": {},
   "source": [
    "### Evaluate"
   ]
  },
  {
   "cell_type": "code",
   "execution_count": 17,
   "id": "a532d915",
   "metadata": {},
   "outputs": [
    {
     "name": "stdout",
     "output_type": "stream",
     "text": [
      "\u001b[1m3/3\u001b[0m \u001b[32m━━━━━━━━━━━━━━━━━━━━\u001b[0m\u001b[37m\u001b[0m \u001b[1m0s\u001b[0m 49ms/step\n"
     ]
    }
   ],
   "source": [
    "y_prob = model.predict(X)"
   ]
  },
  {
   "cell_type": "code",
   "execution_count": 18,
   "id": "ef5b685a",
   "metadata": {},
   "outputs": [
    {
     "data": {
      "text/plain": [
       "array([[0.49699885, 0.3868098 , 0.5587881 ],\n",
       "       [0.50853115, 0.412714  , 0.54610044],\n",
       "       [0.5086703 , 0.40780494, 0.62085915],\n",
       "       [0.62226254, 0.43420663, 0.6155338 ],\n",
       "       [0.45612773, 0.34423172, 0.59711045],\n",
       "       [0.5408884 , 0.4336552 , 0.53172994],\n",
       "       [0.54112333, 0.39344501, 0.5337516 ],\n",
       "       [0.48180413, 0.34730718, 0.5578864 ],\n",
       "       [0.47102812, 0.3618751 , 0.5602683 ],\n",
       "       [0.48593244, 0.3717836 , 0.55518043],\n",
       "       [0.5013721 , 0.36229274, 0.5827954 ],\n",
       "       [0.6770405 , 0.51936007, 0.7403275 ],\n",
       "       [0.55702   , 0.44102097, 0.5452126 ],\n",
       "       [0.45428637, 0.34611562, 0.57701844],\n",
       "       [0.45408037, 0.3497036 , 0.6033884 ],\n",
       "       [0.4857032 , 0.42720214, 0.70357287],\n",
       "       [0.62088   , 0.42827588, 0.6040295 ],\n",
       "       [0.56186205, 0.45182812, 0.66665685],\n",
       "       [0.43823874, 0.35012934, 0.64990544],\n",
       "       [0.45935878, 0.36621213, 0.56670123],\n",
       "       [0.4594932 , 0.3498275 , 0.6148859 ],\n",
       "       [0.598123  , 0.4475887 , 0.6519691 ],\n",
       "       [0.49759364, 0.41031128, 0.5662965 ],\n",
       "       [0.7100502 , 0.44724768, 0.6827787 ],\n",
       "       [0.54499364, 0.41079286, 0.60910594],\n",
       "       [0.47566092, 0.36004522, 0.5574193 ],\n",
       "       [0.50919086, 0.39851138, 0.56665665],\n",
       "       [0.46552983, 0.3476902 , 0.6274045 ],\n",
       "       [0.4688956 , 0.33885083, 0.63943285],\n",
       "       [0.55377483, 0.43895528, 0.5126739 ],\n",
       "       [0.510407  , 0.3739648 , 0.52760863],\n",
       "       [0.4521362 , 0.34062755, 0.5964305 ],\n",
       "       [0.49257234, 0.3579248 , 0.5439016 ],\n",
       "       [0.5591233 , 0.4070805 , 0.6008399 ],\n",
       "       [0.45769408, 0.37417293, 0.5832053 ],\n",
       "       [0.5294363 , 0.41688094, 0.5313089 ],\n",
       "       [0.4879182 , 0.3439105 , 0.5522654 ],\n",
       "       [0.46677837, 0.3522596 , 0.5662788 ],\n",
       "       [0.49823192, 0.39626452, 0.73110974],\n",
       "       [0.5076593 , 0.40294108, 0.55225354],\n",
       "       [0.48480392, 0.397418  , 0.5711674 ],\n",
       "       [0.46207955, 0.3717181 , 0.5746885 ],\n",
       "       [0.49089208, 0.3409516 , 0.5526497 ],\n",
       "       [0.608425  , 0.43364847, 0.60538715],\n",
       "       [0.45240435, 0.33653048, 0.595826  ],\n",
       "       [0.5408884 , 0.4336552 , 0.53172994],\n",
       "       [0.47450843, 0.36387053, 0.5636764 ],\n",
       "       [0.5151639 , 0.42584905, 0.5523469 ],\n",
       "       [0.48200768, 0.40004745, 0.6054918 ],\n",
       "       [0.45577592, 0.34538892, 0.5866226 ],\n",
       "       [0.5432847 , 0.42773718, 0.5291415 ],\n",
       "       [0.4913548 , 0.3920338 , 0.6417094 ],\n",
       "       [0.55288184, 0.45065445, 0.58282447],\n",
       "       [0.4553699 , 0.34417462, 0.5997963 ],\n",
       "       [0.5277422 , 0.38904974, 0.51634324],\n",
       "       [0.54179704, 0.4355979 , 0.5319837 ],\n",
       "       [0.53423023, 0.42738858, 0.56717914],\n",
       "       [0.4532074 , 0.34024954, 0.5958765 ],\n",
       "       [0.49304494, 0.39234182, 0.5535952 ],\n",
       "       [0.53795993, 0.44331127, 0.54784524],\n",
       "       [0.48593244, 0.3717836 , 0.55518043],\n",
       "       [0.5208848 , 0.40513283, 0.53529096],\n",
       "       [0.55267054, 0.43896538, 0.62835765],\n",
       "       [0.5375367 , 0.42948937, 0.6065097 ],\n",
       "       [0.4585795 , 0.35221484, 0.6024883 ],\n",
       "       [0.4907952 , 0.37764218, 0.5554597 ],\n",
       "       [0.5034952 , 0.41570118, 0.56801707],\n",
       "       [0.4919389 , 0.40044385, 0.57414365],\n",
       "       [0.49002096, 0.38453147, 0.5517217 ],\n",
       "       [0.47018233, 0.35780394, 0.5610148 ],\n",
       "       [0.5089625 , 0.4027689 , 0.5409775 ],\n",
       "       [0.55122614, 0.44353566, 0.5469988 ],\n",
       "       [0.53524375, 0.43691   , 0.5494421 ],\n",
       "       [0.56912917, 0.35405347, 0.63662875],\n",
       "       [0.66437143, 0.5364677 , 0.76828426],\n",
       "       [0.5148594 , 0.4176985 , 0.5620966 ],\n",
       "       [0.4708881 , 0.34949172, 0.6411604 ],\n",
       "       [0.5652051 , 0.47915974, 0.6706676 ],\n",
       "       [0.49452206, 0.38580456, 0.55227286],\n",
       "       [0.49759364, 0.41031128, 0.5662965 ],\n",
       "       [0.49772462, 0.37981963, 0.5502482 ],\n",
       "       [0.52719325, 0.4331504 , 0.6416132 ],\n",
       "       [0.6548696 , 0.44192633, 0.6478402 ],\n",
       "       [0.4736098 , 0.3737532 , 0.55646557],\n",
       "       [0.4921805 , 0.35770386, 0.54898834],\n",
       "       [0.5408884 , 0.4336552 , 0.53172994],\n",
       "       [0.48979372, 0.34810182, 0.5467308 ],\n",
       "       [0.48893812, 0.35718626, 0.54949826],\n",
       "       [0.48216867, 0.34394196, 0.56217843],\n",
       "       [0.50035053, 0.37078276, 0.5413456 ],\n",
       "       [0.6093654 , 0.4152486 , 0.6033677 ],\n",
       "       [0.591748  , 0.42585912, 0.6210198 ]], dtype=float32)"
      ]
     },
     "execution_count": 18,
     "metadata": {},
     "output_type": "execute_result"
    }
   ],
   "source": [
    "y_prob"
   ]
  },
  {
   "cell_type": "code",
   "execution_count": 19,
   "id": "d3559d5b",
   "metadata": {},
   "outputs": [],
   "source": [
    "y_pred = (y_prob >= best_thresholds).astype(int)"
   ]
  },
  {
   "cell_type": "code",
   "execution_count": 20,
   "id": "85396479",
   "metadata": {},
   "outputs": [
    {
     "data": {
      "text/plain": [
       "array([1, 0, 0])"
      ]
     },
     "execution_count": 20,
     "metadata": {},
     "output_type": "execute_result"
    }
   ],
   "source": [
    "y_pred[1]"
   ]
  },
  {
   "cell_type": "code",
   "execution_count": 21,
   "id": "6dab9a18",
   "metadata": {},
   "outputs": [
    {
     "data": {
      "text/plain": [
       "array([1, 1, 1, 1, 1, 1, 1, 1, 1, 1, 1, 1, 1, 1, 1, 1, 1, 1, 1, 1, 1, 1,\n",
       "       1, 1, 1, 1, 1, 1, 1, 1, 1, 1, 1, 1, 1, 1, 1, 1, 1, 1, 1, 1, 1, 1,\n",
       "       1, 1, 1, 1, 1, 1, 1, 1, 1, 1, 1, 1, 1, 1, 1, 1, 1, 1, 1, 1, 1, 1,\n",
       "       1, 1, 1, 1, 1, 1, 1, 1, 1, 1, 1, 1, 1, 1, 1, 1, 1, 1, 1, 1, 1, 1,\n",
       "       1, 1, 1, 1])"
      ]
     },
     "execution_count": 21,
     "metadata": {},
     "output_type": "execute_result"
    }
   ],
   "source": [
    "y_pred[:, 0]"
   ]
  },
  {
   "cell_type": "code",
   "execution_count": 22,
   "id": "5a9c3ca6",
   "metadata": {},
   "outputs": [],
   "source": [
    "y_pred = y_pred[:, 0]"
   ]
  },
  {
   "cell_type": "code",
   "execution_count": 23,
   "id": "ec1b18d7",
   "metadata": {},
   "outputs": [
    {
     "data": {
      "text/plain": [
       "array([1, 1, 1, 1, 1, 1, 1, 1, 1, 1, 1, 1, 1, 1, 1, 1, 1, 1, 1, 1, 1, 1,\n",
       "       1, 1, 1, 1, 1, 1, 1, 1, 1, 1, 1, 1, 1, 1, 1, 1, 1, 1, 1, 1, 1, 1,\n",
       "       1, 1, 1, 1, 1, 1, 1, 1, 1, 1, 1, 1, 1, 1, 1, 1, 1, 1, 1, 1, 1, 1,\n",
       "       1, 1, 1, 1, 1, 1, 1, 1, 1, 1, 1, 1, 1, 1, 1, 1, 1, 1, 1, 1, 1, 1,\n",
       "       1, 1, 1, 1])"
      ]
     },
     "execution_count": 23,
     "metadata": {},
     "output_type": "execute_result"
    }
   ],
   "source": [
    "y_pred"
   ]
  },
  {
   "cell_type": "code",
   "execution_count": 24,
   "id": "31816ca9",
   "metadata": {},
   "outputs": [
    {
     "name": "stdout",
     "output_type": "stream",
     "text": [
      "              precision    recall  f1-score   support\n",
      "\n",
      "           0       0.00      0.00      0.00        14\n",
      "           1       0.85      1.00      0.92        78\n",
      "\n",
      "    accuracy                           0.85        92\n",
      "   macro avg       0.42      0.50      0.46        92\n",
      "weighted avg       0.72      0.85      0.78        92\n",
      "\n"
     ]
    }
   ],
   "source": [
    "print(classification_report(y, y_pred))"
   ]
  },
  {
   "cell_type": "code",
   "execution_count": 25,
   "id": "d5a8ff64",
   "metadata": {},
   "outputs": [
    {
     "data": {
      "image/png": "[encoded data removed]",
      "text/plain": [
       "<Figure size 640x480 with 2 Axes>"
      ]
     },
     "metadata": {},
     "output_type": "display_data"
    }
   ],
   "source": [
    "cm = confusion_matrix(y, y_pred)\n",
    "cm_display = ConfusionMatrixDisplay(cm)\n",
    "cm_display.plot(cmap=plt.cm.Blues,values_format='g')\n",
    "plt.show()"
   ]
  },
  {
   "cell_type": "markdown",
   "id": "4bbc4ab2",
   "metadata": {},
   "source": [
    "## Leak"
   ]
  },
  {
   "cell_type": "markdown",
   "id": "846a113c",
   "metadata": {},
   "source": [
    "### Load and Prepare Data"
   ]
  },
  {
   "cell_type": "code",
   "execution_count": 26,
   "id": "f3153c67",
   "metadata": {},
   "outputs": [
    {
     "data": {
      "application/vnd.microsoft.datawrangler.viewer.v0+json": {
       "columns": [
        {
         "name": "Address",
         "rawType": "object",
         "type": "string"
        },
        {
         "name": "TP?",
         "rawType": "object",
         "type": "string"
        }
       ],
       "ref": "ddb8b108-9366-448a-aee4-37163d36198e",
       "rows": [
        [
         "0x0290ea3c728981725689187763f6c63a68e192b8",
         "Yes"
        ],
        [
         "0x054ad3cd4a66f14bf5c0de2548a53be66995a4f6",
         "Yes"
        ],
        [
         "0x0566c17dc2a9efcaa2f63e04cf06a69e8fc77f60",
         "No"
        ],
        [
         "0x10c8324b20b7266c445944f043f53f6a77ea0bd4",
         "Yes"
        ],
        [
         "0x10cc060f6f9b2e5dcdb23f1361e4b368a7daec73",
         "Yes"
        ]
       ],
       "shape": {
        "columns": 1,
        "rows": 5
       }
      },
      "text/html": [
       "<div>\n",
       "<style scoped>\n",
       "    .dataframe tbody tr th:only-of-type {\n",
       "        vertical-align: middle;\n",
       "    }\n",
       "\n",
       "    .dataframe tbody tr th {\n",
       "        vertical-align: top;\n",
       "    }\n",
       "\n",
       "    .dataframe thead th {\n",
       "        text-align: right;\n",
       "    }\n",
       "</style>\n",
       "<table border=\"1\" class=\"dataframe\">\n",
       "  <thead>\n",
       "    <tr style=\"text-align: right;\">\n",
       "      <th></th>\n",
       "      <th>TP?</th>\n",
       "    </tr>\n",
       "    <tr>\n",
       "      <th>Address</th>\n",
       "      <th></th>\n",
       "    </tr>\n",
       "  </thead>\n",
       "  <tbody>\n",
       "    <tr>\n",
       "      <th>0x0290ea3c728981725689187763f6c63a68e192b8</th>\n",
       "      <td>Yes</td>\n",
       "    </tr>\n",
       "    <tr>\n",
       "      <th>0x054ad3cd4a66f14bf5c0de2548a53be66995a4f6</th>\n",
       "      <td>Yes</td>\n",
       "    </tr>\n",
       "    <tr>\n",
       "      <th>0x0566c17dc2a9efcaa2f63e04cf06a69e8fc77f60</th>\n",
       "      <td>No</td>\n",
       "    </tr>\n",
       "    <tr>\n",
       "      <th>0x10c8324b20b7266c445944f043f53f6a77ea0bd4</th>\n",
       "      <td>Yes</td>\n",
       "    </tr>\n",
       "    <tr>\n",
       "      <th>0x10cc060f6f9b2e5dcdb23f1361e4b368a7daec73</th>\n",
       "      <td>Yes</td>\n",
       "    </tr>\n",
       "  </tbody>\n",
       "</table>\n",
       "</div>"
      ],
      "text/plain": [
       "                                            TP?\n",
       "Address                                        \n",
       "0x0290ea3c728981725689187763f6c63a68e192b8  Yes\n",
       "0x054ad3cd4a66f14bf5c0de2548a53be66995a4f6  Yes\n",
       "0x0566c17dc2a9efcaa2f63e04cf06a69e8fc77f60   No\n",
       "0x10c8324b20b7266c445944f043f53f6a77ea0bd4  Yes\n",
       "0x10cc060f6f9b2e5dcdb23f1361e4b368a7daec73  Yes"
      ]
     },
     "execution_count": 26,
     "metadata": {},
     "output_type": "execute_result"
    }
   ],
   "source": [
    "df = pd.read_excel(os.path.join(EX_PATH, 'sample/leak.xlsx'))\n",
    "df['Address'] = df['Address'].str.lower()\n",
    "df = df.set_index('Address')\n",
    "df.head()"
   ]
  },
  {
   "cell_type": "code",
   "execution_count": 27,
   "id": "8b7c7052",
   "metadata": {},
   "outputs": [
    {
     "data": {
      "application/vnd.microsoft.datawrangler.viewer.v0+json": {
       "columns": [
        {
         "name": "index",
         "rawType": "object",
         "type": "string"
        },
        {
         "name": "0",
         "rawType": "int64",
         "type": "integer"
        }
       ],
       "ref": "1016b943-13f1-45ee-ba91-7107e716cf1e",
       "rows": [
        [
         "TP?",
         "0"
        ]
       ],
       "shape": {
        "columns": 1,
        "rows": 1
       }
      },
      "text/plain": [
       "TP?    0\n",
       "dtype: int64"
      ]
     },
     "execution_count": 27,
     "metadata": {},
     "output_type": "execute_result"
    }
   ],
   "source": [
    "df.isna().sum()"
   ]
  },
  {
   "cell_type": "code",
   "execution_count": 28,
   "id": "235e41b2",
   "metadata": {},
   "outputs": [
    {
     "name": "stderr",
     "output_type": "stream",
     "text": [
      "100%|██████████| 87/87 [00:41<00:00,  2.09it/s]\n"
     ]
    }
   ],
   "source": [
    "files = []\n",
    "y = []\n",
    "\n",
    "for path in list(Path(HEX_PATH).glob('*.hex')):\n",
    "    address = path.stem.lower()\n",
    "    if address in df.index:\n",
    "        files.append(path)\n",
    "        tp_value = df.loc[address, 'TP?']\n",
    "        if isinstance(tp_value, pd.Series):\n",
    "            tp_value = tp_value.iloc[0]\n",
    "        y.append(1 if tp_value == 'Yes' else 0)\n",
    "\n",
    "X = get_graphs_stat_from_files(files)"
   ]
  },
  {
   "cell_type": "code",
   "execution_count": 29,
   "id": "8efa93fe",
   "metadata": {},
   "outputs": [
    {
     "data": {
      "application/vnd.microsoft.datawrangler.viewer.v0+json": {
       "columns": [
        {
         "name": "address",
         "rawType": "object",
         "type": "string"
        },
        {
         "name": "num_nodes",
         "rawType": "int64",
         "type": "integer"
        },
        {
         "name": "num_edges",
         "rawType": "int64",
         "type": "integer"
        },
        {
         "name": "avg_degree",
         "rawType": "float64",
         "type": "float"
        },
        {
         "name": "density",
         "rawType": "float64",
         "type": "float"
        },
        {
         "name": "connected_components",
         "rawType": "int64",
         "type": "integer"
        },
        {
         "name": "avg_clustering",
         "rawType": "float64",
         "type": "float"
        }
       ],
       "ref": "46735dbc-c4c1-4143-bcff-14d87b129534",
       "rows": [
        [
         "0xf6962cfe3b9618374097d51bc6691efb3974d06f",
         "346",
         "262",
         "1.5144508670520231",
         "0.002194856329060903",
         "96",
         "0.017822736030828516"
        ],
        [
         "0x666c549f5a01167f1aa19bb68be552441f520895",
         "177",
         "184",
         "2.07909604519774",
         "0.005906522855675398",
         "13",
         "0.1064030131826742"
        ],
        [
         "0x76bc9e61a1904b82cbf70d1fd9c0f8a120483bbb",
         "150",
         "105",
         "1.4",
         "0.004697986577181208",
         "60",
         "0.04111111111111111"
        ],
        [
         "0x10cc060f6f9b2e5dcdb23f1361e4b368a7daec73",
         "489",
         "415",
         "1.6973415132924334",
         "0.0017390794193570015",
         "81",
         "0.006134969325153374"
        ],
        [
         "0xa99f34b4672ff3a9837fd93dea375ccfbb83c89a",
         "299",
         "235",
         "1.5719063545150502",
         "0.002637426769320554",
         "72",
         "0.007803790412486065"
        ],
        [
         "0x17e5f19d430788323863c6798ecd762a40de29f5",
         "218",
         "180",
         "1.651376146788991",
         "0.0038050141631082736",
         "44",
         "0.024464831804281346"
        ],
        [
         "0x862ba4ae01bdb9dd69877976eefccc267b5b7b82",
         "205",
         "172",
         "1.6780487804878048",
         "0.004112864658058346",
         "42",
         "0.0"
        ],
        [
         "0xd989b2df7d86613ea440ffa33394dc7ba48d6c31",
         "1011",
         "305",
         "0.6033630069238378",
         "0.000298694557883088",
         "726",
         "0.0"
        ],
        [
         "0xf944d7740c0caf725bf26cf29e3facf6748189ac",
         "210",
         "149",
         "1.4190476190476191",
         "0.003394850763271816",
         "70",
         "0.0"
        ],
        [
         "0x46043c9093ff4d0a796bd1aee7e80254420368dd",
         "189",
         "154",
         "1.6296296296296295",
         "0.004334121355397951",
         "49",
         "0.01234567901234568"
        ],
        [
         "0x1332059337953dbba74c89f6cb7ff0c8498ea925",
         "400",
         "300",
         "1.5",
         "0.0018796992481203006",
         "130",
         "0.003333333333333333"
        ],
        [
         "0x818ebd30145c9d7c697978bf24c905d9e8a194ec",
         "109",
         "97",
         "1.7798165137614679",
         "0.008239891267414203",
         "16",
         "0.04128440366972477"
        ],
        [
         "0xdd2ee38f9993c0bc1c1b5b9798bc4deff66cac4a",
         "437",
         "131",
         "0.5995423340961098",
         "0.0006875485482753553",
         "313",
         "0.010297482837528604"
        ],
        [
         "0xfa65bb26b28e7f923f73248a9a47a5466d9cc7ec",
         "573",
         "92",
         "0.32111692844677137",
         "0.0002806966157751498",
         "487",
         "0.0029086678301337983"
        ],
        [
         "0x97fe19dfab95b1709bb0994af18ba7f793e28cba",
         "218",
         "180",
         "1.651376146788991",
         "0.0038050141631082736",
         "44",
         "0.024464831804281346"
        ],
        [
         "0x1327c3993c24de9a821b2e512817a2668185d878",
         "217",
         "157",
         "1.4470046082949308",
         "0.0033495477043864142",
         "74",
         "0.0"
        ],
        [
         "0xd244ff971a90e3d44593e0dfce3c67a8df0a1eb9",
         "178",
         "159",
         "1.7865168539325842",
         "0.005046657779470577",
         "30",
         "0.0"
        ],
        [
         "0x2edb9962e55b470f66a84a568fca1b4e22606bd0",
         "157",
         "154",
         "1.9617834394904459",
         "0.006287767434264249",
         "14",
         "0.024416135881104035"
        ],
        [
         "0xd1b24eb6a8318008afd9f89c49980b9bd5c64ac4",
         "249",
         "184",
         "1.4779116465863453",
         "0.0029796605777950512",
         "73",
         "0.018741633199464525"
        ],
        [
         "0xff1560afef58be59b11c72734ad1d89db63e4e71",
         "183",
         "131",
         "1.4316939890710383",
         "0.003933225244700655",
         "55",
         "0.00819672131147541"
        ],
        [
         "0x12e29d7d6fd63f0f12040fcd1bf9021919b0e4fa",
         "270",
         "223",
         "1.651851851851852",
         "0.003070356601955115",
         "54",
         "0.0"
        ],
        [
         "0x32680c305b2e753f0c9c8dfa6e36ba36c68e0801",
         "471",
         "318",
         "1.3503184713375795",
         "0.0014365090120612549",
         "162",
         "0.012738853503184714"
        ],
        [
         "0xbaf2eb5ef3b3f71a49b971bb125b7ed2ccdad297",
         "211",
         "206",
         "1.95260663507109",
         "0.004649063416835929",
         "17",
         "0.01579778830963665"
        ],
        [
         "0xdd007278b667f6bef52fd0a4c23604aa1f96039a",
         "273",
         "218",
         "1.5970695970695972",
         "0.002935789700495583",
         "72",
         "0.0"
        ],
        [
         "0x530a9cceee0c45f58229ae5c256e414e6df957ad",
         "252",
         "239",
         "1.8968253968253967",
         "0.0037785366470625436",
         "28",
         "0.024470899470899473"
        ],
        [
         "0x6f7ad850ef94320cb88f5ae66e5eb8244e81c949",
         "197",
         "160",
         "1.6243654822335025",
         "0.004143789495493629",
         "50",
         "0.0"
        ],
        [
         "0x1c43535d06b494a1d6cb7cb550f5689161303aaa",
         "144",
         "123",
         "1.7083333333333333",
         "0.005973193473193473",
         "28",
         "0.0"
        ],
        [
         "0x74a30d0ca07771fbd450ef4ded357e2e688ee59f",
         "347",
         "281",
         "1.6195965417867435",
         "0.002340457430327664",
         "85",
         "0.03390970220941402"
        ],
        [
         "0xd7c05d4015599b33d8225a69f14cd561f27177eb",
         "428",
         "362",
         "1.691588785046729",
         "0.001980783120663617",
         "92",
         "0.033099688473520246"
        ],
        [
         "0x5f236f062f16a9b19819c535127398df9a01d762",
         "235",
         "186",
         "1.5829787234042554",
         "0.0033824331696672124",
         "62",
         "0.0"
        ],
        [
         "0x2cf02304f36effd519be79850d21335684c6073e",
         "220",
         "232",
         "2.109090909090909",
         "0.004815276048152761",
         "27",
         "0.007575757575757575"
        ],
        [
         "0x6ce8b8eed077f9b49c1fa684008ebb7562bb41ad",
         "164",
         "159",
         "1.9390243902439024",
         "0.005947927577435283",
         "20",
         "0.10467479674796748"
        ],
        [
         "0xdd35e7c2471f958281f08e1a000285ef3ae9e816",
         "300",
         "268",
         "1.7866666666666666",
         "0.002987736900780379",
         "46",
         "0.02"
        ],
        [
         "0x31dae56a501538eaa6ef37a6b6d6289cb97943d8",
         "179",
         "140",
         "1.5642458100558658",
         "0.004393948904651309",
         "50",
         "0.0"
        ],
        [
         "0x48b61132a20954b12b26f9a1cc2cb67e98c4be01",
         "286",
         "224",
         "1.5664335664335665",
         "0.0027481290639185378",
         "73",
         "0.0"
        ],
        [
         "0xcda36122909f77bca1cc45371335627e4e488e6e",
         "224",
         "171",
         "1.5267857142857142",
         "0.0034232863549007045",
         "64",
         "0.0"
        ],
        [
         "0x0566c17dc2a9efcaa2f63e04cf06a69e8fc77f60",
         "166",
         "133",
         "1.6024096385542168",
         "0.004855786783497627",
         "43",
         "0.0"
        ],
        [
         "0x7723737d529c2b42e4d218ad7e0a20354fbc7071",
         "199",
         "128",
         "1.2864321608040201",
         "0.0032485660626364143",
         "83",
         "0.0"
        ],
        [
         "0x3052285b4c495afe3fb16967142e864c8f8b6e5f",
         "213",
         "175",
         "1.6431924882629108",
         "0.003875453981752148",
         "44",
         "0.025039123630672924"
        ],
        [
         "0x6cd574e51524fe7ac6175bff2c449aab482bc5b4",
         "156",
         "132",
         "1.6923076923076923",
         "0.005459057071960298",
         "35",
         "0.0"
        ],
        [
         "0xe467b8d9b0c69f7d497b8f002a9e7f4b61c84c67",
         "317",
         "218",
         "1.3753943217665616",
         "0.0021762568382382302",
         "114",
         "0.033123028391167195"
        ],
        [
         "0x99d3dcf7febd2bb968b3fe7baa1a9a36546d9293",
         "194",
         "156",
         "1.6082474226804124",
         "0.004166444100208323",
         "45",
         "0.0"
        ],
        [
         "0x6580c6a7bb02981d403d25eeb95f45c331a6bf76",
         "341",
         "231",
         "1.3548387096774193",
         "0.0019924098671726754",
         "133",
         "0.06793743890518085"
        ],
        [
         "0xc2bc886b5d61f8ae9a916de9e31199e86ad1f007",
         "179",
         "159",
         "1.776536312849162",
         "0.004990270541711129",
         "31",
         "0.0"
        ],
        [
         "0xd0faa64b3de3ceca7ddf5d47cc2a13b1f208cb01",
         "257",
         "224",
         "1.7431906614785992",
         "0.003404669260700389",
         "46",
         "0.0"
        ],
        [
         "0xb7fe7b2b723020cf668db4f78992d10f81990fc4",
         "205",
         "163",
         "1.5902439024390245",
         "0.00389765662362506",
         "53",
         "0.0"
        ],
        [
         "0x1b2a2414f80bff80f76255aa11bf847a37b0d5be",
         "344",
         "244",
         "1.4186046511627908",
         "0.0020679368092752053",
         "120",
         "0.00436046511627907"
        ],
        [
         "0x3b16fb80ab6ac8562203f3913f58ee0c4dfc08b8",
         "160",
         "145",
         "1.8125",
         "0.005699685534591195",
         "33",
         "0.03645833333333333"
        ],
        [
         "0x402408bbf7f80d35a72e071453ca2aa6a76f3a54",
         "252",
         "198",
         "1.5714285714285714",
         "0.003130335799658509",
         "68",
         "0.0"
        ],
        [
         "0xe55a772c7889580ecffd9ca3477e12e921fae492",
         "308",
         "231",
         "1.5",
         "0.0024429967426710096",
         "91",
         "0.00487012987012987"
        ]
       ],
       "shape": {
        "columns": 6,
        "rows": 87
       }
      },
      "text/html": [
       "<div>\n",
       "<style scoped>\n",
       "    .dataframe tbody tr th:only-of-type {\n",
       "        vertical-align: middle;\n",
       "    }\n",
       "\n",
       "    .dataframe tbody tr th {\n",
       "        vertical-align: top;\n",
       "    }\n",
       "\n",
       "    .dataframe thead th {\n",
       "        text-align: right;\n",
       "    }\n",
       "</style>\n",
       "<table border=\"1\" class=\"dataframe\">\n",
       "  <thead>\n",
       "    <tr style=\"text-align: right;\">\n",
       "      <th></th>\n",
       "      <th>num_nodes</th>\n",
       "      <th>num_edges</th>\n",
       "      <th>avg_degree</th>\n",
       "      <th>density</th>\n",
       "      <th>connected_components</th>\n",
       "      <th>avg_clustering</th>\n",
       "    </tr>\n",
       "    <tr>\n",
       "      <th>address</th>\n",
       "      <th></th>\n",
       "      <th></th>\n",
       "      <th></th>\n",
       "      <th></th>\n",
       "      <th></th>\n",
       "      <th></th>\n",
       "    </tr>\n",
       "  </thead>\n",
       "  <tbody>\n",
       "    <tr>\n",
       "      <th>0xf6962cfe3b9618374097d51bc6691efb3974d06f</th>\n",
       "      <td>346</td>\n",
       "      <td>262</td>\n",
       "      <td>1.514451</td>\n",
       "      <td>0.002195</td>\n",
       "      <td>96</td>\n",
       "      <td>0.017823</td>\n",
       "    </tr>\n",
       "    <tr>\n",
       "      <th>0x666c549f5a01167f1aa19bb68be552441f520895</th>\n",
       "      <td>177</td>\n",
       "      <td>184</td>\n",
       "      <td>2.079096</td>\n",
       "      <td>0.005907</td>\n",
       "      <td>13</td>\n",
       "      <td>0.106403</td>\n",
       "    </tr>\n",
       "    <tr>\n",
       "      <th>0x76bc9e61a1904b82cbf70d1fd9c0f8a120483bbb</th>\n",
       "      <td>150</td>\n",
       "      <td>105</td>\n",
       "      <td>1.400000</td>\n",
       "      <td>0.004698</td>\n",
       "      <td>60</td>\n",
       "      <td>0.041111</td>\n",
       "    </tr>\n",
       "    <tr>\n",
       "      <th>0x10cc060f6f9b2e5dcdb23f1361e4b368a7daec73</th>\n",
       "      <td>489</td>\n",
       "      <td>415</td>\n",
       "      <td>1.697342</td>\n",
       "      <td>0.001739</td>\n",
       "      <td>81</td>\n",
       "      <td>0.006135</td>\n",
       "    </tr>\n",
       "    <tr>\n",
       "      <th>0xa99f34b4672ff3a9837fd93dea375ccfbb83c89a</th>\n",
       "      <td>299</td>\n",
       "      <td>235</td>\n",
       "      <td>1.571906</td>\n",
       "      <td>0.002637</td>\n",
       "      <td>72</td>\n",
       "      <td>0.007804</td>\n",
       "    </tr>\n",
       "    <tr>\n",
       "      <th>...</th>\n",
       "      <td>...</td>\n",
       "      <td>...</td>\n",
       "      <td>...</td>\n",
       "      <td>...</td>\n",
       "      <td>...</td>\n",
       "      <td>...</td>\n",
       "    </tr>\n",
       "    <tr>\n",
       "      <th>0x8a52499ff8c65cedd4d7ccc283a0dab6df285fe2</th>\n",
       "      <td>312</td>\n",
       "      <td>241</td>\n",
       "      <td>1.544872</td>\n",
       "      <td>0.002484</td>\n",
       "      <td>89</td>\n",
       "      <td>0.000000</td>\n",
       "    </tr>\n",
       "    <tr>\n",
       "      <th>0x6b9ee9e79bb893d394da79e2ea51685d1855318e</th>\n",
       "      <td>248</td>\n",
       "      <td>120</td>\n",
       "      <td>0.967742</td>\n",
       "      <td>0.001959</td>\n",
       "      <td>135</td>\n",
       "      <td>0.000000</td>\n",
       "    </tr>\n",
       "    <tr>\n",
       "      <th>0xdf482745749ad7057f4ebe246975ff2f2ddeef78</th>\n",
       "      <td>178</td>\n",
       "      <td>157</td>\n",
       "      <td>1.764045</td>\n",
       "      <td>0.004983</td>\n",
       "      <td>32</td>\n",
       "      <td>0.000000</td>\n",
       "    </tr>\n",
       "    <tr>\n",
       "      <th>0x4dac1801ffa1534346ce8a1114e9a40ef908d7fd</th>\n",
       "      <td>124</td>\n",
       "      <td>106</td>\n",
       "      <td>1.709677</td>\n",
       "      <td>0.006950</td>\n",
       "      <td>20</td>\n",
       "      <td>0.012097</td>\n",
       "    </tr>\n",
       "    <tr>\n",
       "      <th>0x2ba93f4cce841e5cd0da320e72e62a860cfd6333</th>\n",
       "      <td>205</td>\n",
       "      <td>163</td>\n",
       "      <td>1.590244</td>\n",
       "      <td>0.003898</td>\n",
       "      <td>53</td>\n",
       "      <td>0.000000</td>\n",
       "    </tr>\n",
       "  </tbody>\n",
       "</table>\n",
       "<p>87 rows × 6 columns</p>\n",
       "</div>"
      ],
      "text/plain": [
       "                                            num_nodes  num_edges  avg_degree  \\\n",
       "address                                                                        \n",
       "0xf6962cfe3b9618374097d51bc6691efb3974d06f        346        262    1.514451   \n",
       "0x666c549f5a01167f1aa19bb68be552441f520895        177        184    2.079096   \n",
       "0x76bc9e61a1904b82cbf70d1fd9c0f8a120483bbb        150        105    1.400000   \n",
       "0x10cc060f6f9b2e5dcdb23f1361e4b368a7daec73        489        415    1.697342   \n",
       "0xa99f34b4672ff3a9837fd93dea375ccfbb83c89a        299        235    1.571906   \n",
       "...                                               ...        ...         ...   \n",
       "0x8a52499ff8c65cedd4d7ccc283a0dab6df285fe2        312        241    1.544872   \n",
       "0x6b9ee9e79bb893d394da79e2ea51685d1855318e        248        120    0.967742   \n",
       "0xdf482745749ad7057f4ebe246975ff2f2ddeef78        178        157    1.764045   \n",
       "0x4dac1801ffa1534346ce8a1114e9a40ef908d7fd        124        106    1.709677   \n",
       "0x2ba93f4cce841e5cd0da320e72e62a860cfd6333        205        163    1.590244   \n",
       "\n",
       "                                             density  connected_components  \\\n",
       "address                                                                      \n",
       "0xf6962cfe3b9618374097d51bc6691efb3974d06f  0.002195                    96   \n",
       "0x666c549f5a01167f1aa19bb68be552441f520895  0.005907                    13   \n",
       "0x76bc9e61a1904b82cbf70d1fd9c0f8a120483bbb  0.004698                    60   \n",
       "0x10cc060f6f9b2e5dcdb23f1361e4b368a7daec73  0.001739                    81   \n",
       "0xa99f34b4672ff3a9837fd93dea375ccfbb83c89a  0.002637                    72   \n",
       "...                                              ...                   ...   \n",
       "0x8a52499ff8c65cedd4d7ccc283a0dab6df285fe2  0.002484                    89   \n",
       "0x6b9ee9e79bb893d394da79e2ea51685d1855318e  0.001959                   135   \n",
       "0xdf482745749ad7057f4ebe246975ff2f2ddeef78  0.004983                    32   \n",
       "0x4dac1801ffa1534346ce8a1114e9a40ef908d7fd  0.006950                    20   \n",
       "0x2ba93f4cce841e5cd0da320e72e62a860cfd6333  0.003898                    53   \n",
       "\n",
       "                                            avg_clustering  \n",
       "address                                                     \n",
       "0xf6962cfe3b9618374097d51bc6691efb3974d06f        0.017823  \n",
       "0x666c549f5a01167f1aa19bb68be552441f520895        0.106403  \n",
       "0x76bc9e61a1904b82cbf70d1fd9c0f8a120483bbb        0.041111  \n",
       "0x10cc060f6f9b2e5dcdb23f1361e4b368a7daec73        0.006135  \n",
       "0xa99f34b4672ff3a9837fd93dea375ccfbb83c89a        0.007804  \n",
       "...                                                    ...  \n",
       "0x8a52499ff8c65cedd4d7ccc283a0dab6df285fe2        0.000000  \n",
       "0x6b9ee9e79bb893d394da79e2ea51685d1855318e        0.000000  \n",
       "0xdf482745749ad7057f4ebe246975ff2f2ddeef78        0.000000  \n",
       "0x4dac1801ffa1534346ce8a1114e9a40ef908d7fd        0.012097  \n",
       "0x2ba93f4cce841e5cd0da320e72e62a860cfd6333        0.000000  \n",
       "\n",
       "[87 rows x 6 columns]"
      ]
     },
     "execution_count": 29,
     "metadata": {},
     "output_type": "execute_result"
    }
   ],
   "source": [
    "X"
   ]
  },
  {
   "cell_type": "code",
   "execution_count": 30,
   "id": "95d32555",
   "metadata": {},
   "outputs": [
    {
     "data": {
      "text/plain": [
       "[1, 1, 1, 1, 0]"
      ]
     },
     "execution_count": 30,
     "metadata": {},
     "output_type": "execute_result"
    }
   ],
   "source": [
    "y[:5]"
   ]
  },
  {
   "cell_type": "code",
   "execution_count": 31,
   "id": "5859ed3d",
   "metadata": {},
   "outputs": [],
   "source": [
    "X = X.reindex(columns=train_cols, fill_value=0).reset_index(drop=True)"
   ]
  },
  {
   "cell_type": "markdown",
   "id": "f50e688c",
   "metadata": {},
   "source": [
    "### Evaluate"
   ]
  },
  {
   "cell_type": "code",
   "execution_count": 32,
   "id": "30c18e25",
   "metadata": {},
   "outputs": [
    {
     "name": "stdout",
     "output_type": "stream",
     "text": [
      "\u001b[1m3/3\u001b[0m \u001b[32m━━━━━━━━━━━━━━━━━━━━\u001b[0m\u001b[37m\u001b[0m \u001b[1m0s\u001b[0m 16ms/step\n"
     ]
    }
   ],
   "source": [
    "y_prob = model.predict(X)"
   ]
  },
  {
   "cell_type": "code",
   "execution_count": 33,
   "id": "15a75951",
   "metadata": {},
   "outputs": [
    {
     "data": {
      "text/plain": [
       "array([[0.5735617 , 0.4292408 , 0.6360943 ],\n",
       "       [0.48503527, 0.3664505 , 0.5706605 ],\n",
       "       [0.44782493, 0.34495866, 0.5853323 ],\n",
       "       [0.708103  , 0.5210568 , 0.7191293 ],\n",
       "       [0.55955726, 0.44096154, 0.5748175 ],\n",
       "       [0.53204393, 0.41418904, 0.5232832 ],\n",
       "       [0.5167107 , 0.39612624, 0.53969544],\n",
       "       [0.81427604, 0.5014439 , 0.7458242 ],\n",
       "       [0.48168677, 0.3840078 , 0.55067104],\n",
       "       [0.47825855, 0.3686617 , 0.5636318 ],\n",
       "       [0.5501483 , 0.435734  , 0.71202445],\n",
       "       [0.4529857 , 0.34789437, 0.5931828 ],\n",
       "       [0.5568447 , 0.37594673, 0.5761709 ],\n",
       "       [0.51932865, 0.38054168, 0.49938548],\n",
       "       [0.53204393, 0.41418904, 0.5232832 ],\n",
       "       [0.47422758, 0.387152  , 0.57024145],\n",
       "       [0.50035053, 0.37078276, 0.5413456 ],\n",
       "       [0.49954635, 0.35657454, 0.5340518 ],\n",
       "       [0.5321527 , 0.42326835, 0.53376955],\n",
       "       [0.49273136, 0.36368746, 0.5429732 ],\n",
       "       [0.5522454 , 0.44437996, 0.54846925],\n",
       "       [0.70277065, 0.4799679 , 0.7051189 ],\n",
       "       [0.51223934, 0.41705468, 0.5536105 ],\n",
       "       [0.5083787 , 0.4064821 , 0.59261864],\n",
       "       [0.51033425, 0.4346978 , 0.5851768 ],\n",
       "       [0.48741823, 0.37706468, 0.56132287],\n",
       "       [0.47947833, 0.34143168, 0.5630806 ],\n",
       "       [0.53733927, 0.4295016 , 0.66398627],\n",
       "       [0.5713668 , 0.49673808, 0.7275339 ],\n",
       "       [0.50210416, 0.40052292, 0.5569186 ],\n",
       "       [0.4373811 , 0.35965446, 0.6523692 ],\n",
       "       [0.4891157 , 0.35285175, 0.54722285],\n",
       "       [0.52713996, 0.45042855, 0.61080056],\n",
       "       [0.47874054, 0.35719916, 0.55661565],\n",
       "       [0.54042304, 0.4257352 , 0.5762551 ],\n",
       "       [0.5020372 , 0.3989153 , 0.5551824 ],\n",
       "       [0.47906226, 0.34714803, 0.56073153],\n",
       "       [0.4631683 , 0.36485726, 0.5593926 ],\n",
       "       [0.529923  , 0.40964553, 0.5251888 ],\n",
       "       [0.4772372 , 0.34364596, 0.5639705 ],\n",
       "       [0.5437355 , 0.40531614, 0.6109018 ],\n",
       "       [0.5092824 , 0.38557446, 0.53659284],\n",
       "       [0.5336363 , 0.37460396, 0.64286715],\n",
       "       [0.5001286 , 0.37112406, 0.54208755],\n",
       "       [0.5162794 , 0.43017784, 0.57242405],\n",
       "       [0.49699885, 0.3868098 , 0.5587881 ],\n",
       "       [0.53815275, 0.39557704, 0.64527327],\n",
       "       [0.46351945, 0.3380075 , 0.5649636 ],\n",
       "       [0.50907826, 0.40927887, 0.56428313],\n",
       "       [0.5334053 , 0.41660595, 0.6071963 ],\n",
       "       [0.51172674, 0.40461484, 0.5998501 ],\n",
       "       [0.5026671 , 0.39418545, 0.5549377 ],\n",
       "       [0.49544847, 0.37324882, 0.5398643 ],\n",
       "       [0.55288184, 0.45065445, 0.58282447],\n",
       "       [0.49699885, 0.3868098 , 0.5587881 ],\n",
       "       [0.67255634, 0.4642658 , 0.70211244],\n",
       "       [0.4574441 , 0.34251392, 0.61430067],\n",
       "       [0.54253364, 0.43312263, 0.60198003],\n",
       "       [0.49578375, 0.40219596, 0.5801202 ],\n",
       "       [0.49556527, 0.3739263 , 0.55005014],\n",
       "       [0.60152066, 0.43883207, 0.71187806],\n",
       "       [0.4709355 , 0.38325447, 0.5578605 ],\n",
       "       [0.47336456, 0.41318634, 0.6646495 ],\n",
       "       [0.46785086, 0.38965303, 0.5870523 ],\n",
       "       [0.62319034, 0.49773738, 0.68029726],\n",
       "       [0.53665113, 0.42183915, 0.52070165],\n",
       "       [0.48730904, 0.34546527, 0.55324763],\n",
       "       [0.56754756, 0.49556312, 0.7249857 ],\n",
       "       [0.5493537 , 0.44432935, 0.5455127 ],\n",
       "       [0.6672366 , 0.38952678, 0.62996984],\n",
       "       [0.81018394, 0.6982783 , 0.73434424],\n",
       "       [0.4907952 , 0.37764218, 0.5554597 ],\n",
       "       [0.60715806, 0.43274793, 0.6725353 ],\n",
       "       [0.5483453 , 0.35304043, 0.64073366],\n",
       "       [0.75311583, 0.507034  , 0.6818701 ],\n",
       "       [0.49699885, 0.3868098 , 0.5587881 ],\n",
       "       [0.50305873, 0.40120307, 0.5539584 ],\n",
       "       [0.46705902, 0.3453565 , 0.62553304],\n",
       "       [0.52998036, 0.4339153 , 0.5363552 ],\n",
       "       [0.5031403 , 0.3934221 , 0.55366904],\n",
       "       [0.74955624, 0.57475585, 0.74622333],\n",
       "       [0.5305086 , 0.41765812, 0.5318002 ],\n",
       "       [0.51524955, 0.40849864, 0.6299305 ],\n",
       "       [0.485308  , 0.38321078, 0.52915347],\n",
       "       [0.49816093, 0.36950493, 0.54289544],\n",
       "       [0.46684256, 0.34752935, 0.5696571 ],\n",
       "       [0.49699885, 0.3868098 , 0.5587881 ]], dtype=float32)"
      ]
     },
     "execution_count": 33,
     "metadata": {},
     "output_type": "execute_result"
    }
   ],
   "source": [
    "y_prob"
   ]
  },
  {
   "cell_type": "code",
   "execution_count": 34,
   "id": "913d0b24",
   "metadata": {},
   "outputs": [],
   "source": [
    "y_pred = (y_prob >= best_thresholds).astype(int)"
   ]
  },
  {
   "cell_type": "code",
   "execution_count": 35,
   "id": "d55bccfe",
   "metadata": {},
   "outputs": [
    {
     "data": {
      "text/plain": [
       "array([1, 0, 1])"
      ]
     },
     "execution_count": 35,
     "metadata": {},
     "output_type": "execute_result"
    }
   ],
   "source": [
    "y_pred[1]"
   ]
  },
  {
   "cell_type": "code",
   "execution_count": 36,
   "id": "8b40dab6",
   "metadata": {},
   "outputs": [
    {
     "data": {
      "text/plain": [
       "array([0, 0, 0, 1, 0, 0, 0, 1, 0, 0, 0, 0, 0, 0, 0, 0, 0, 0, 0, 0, 0, 1,\n",
       "       0, 0, 0, 0, 0, 0, 1, 0, 0, 0, 0, 0, 0, 0, 0, 0, 0, 0, 0, 0, 0, 0,\n",
       "       0, 0, 0, 0, 0, 0, 0, 0, 0, 0, 0, 0, 0, 0, 0, 0, 0, 0, 0, 0, 1, 0,\n",
       "       0, 1, 0, 0, 1, 0, 0, 0, 1, 0, 0, 0, 0, 0, 1, 0, 0, 0, 0, 0, 0])"
      ]
     },
     "execution_count": 36,
     "metadata": {},
     "output_type": "execute_result"
    }
   ],
   "source": [
    "y_pred[:, 1]"
   ]
  },
  {
   "cell_type": "code",
   "execution_count": 37,
   "id": "b0568064",
   "metadata": {},
   "outputs": [],
   "source": [
    "y_pred = y_pred[:, 1]"
   ]
  },
  {
   "cell_type": "code",
   "execution_count": 38,
   "id": "690fb2e6",
   "metadata": {},
   "outputs": [
    {
     "data": {
      "text/plain": [
       "array([0, 0, 0, 1, 0, 0, 0, 1, 0, 0, 0, 0, 0, 0, 0, 0, 0, 0, 0, 0, 0, 1,\n",
       "       0, 0, 0, 0, 0, 0, 1, 0, 0, 0, 0, 0, 0, 0, 0, 0, 0, 0, 0, 0, 0, 0,\n",
       "       0, 0, 0, 0, 0, 0, 0, 0, 0, 0, 0, 0, 0, 0, 0, 0, 0, 0, 0, 0, 1, 0,\n",
       "       0, 1, 0, 0, 1, 0, 0, 0, 1, 0, 0, 0, 0, 0, 1, 0, 0, 0, 0, 0, 0])"
      ]
     },
     "execution_count": 38,
     "metadata": {},
     "output_type": "execute_result"
    }
   ],
   "source": [
    "y_pred"
   ]
  },
  {
   "cell_type": "code",
   "execution_count": 39,
   "id": "9b0dae1a",
   "metadata": {},
   "outputs": [
    {
     "name": "stdout",
     "output_type": "stream",
     "text": [
      "              precision    recall  f1-score   support\n",
      "\n",
      "           0       0.17      1.00      0.29        13\n",
      "           1       1.00      0.12      0.22        74\n",
      "\n",
      "    accuracy                           0.25        87\n",
      "   macro avg       0.58      0.56      0.25        87\n",
      "weighted avg       0.88      0.25      0.23        87\n",
      "\n"
     ]
    }
   ],
   "source": [
    "print(classification_report(y, y_pred))"
   ]
  },
  {
   "cell_type": "code",
   "execution_count": 40,
   "id": "312198b7",
   "metadata": {},
   "outputs": [
    {
     "data": {
      "image/png": "[encoded data removed]",
      "text/plain": [
       "<Figure size 640x480 with 2 Axes>"
      ]
     },
     "metadata": {},
     "output_type": "display_data"
    }
   ],
   "source": [
    "cm = confusion_matrix(y, y_pred)\n",
    "cm_display = ConfusionMatrixDisplay(cm)\n",
    "cm_display.plot(cmap=plt.cm.Blues,values_format='g')\n",
    "plt.show()"
   ]
  },
  {
   "cell_type": "markdown",
   "id": "a8059db3",
   "metadata": {},
   "source": [
    "## Limit"
   ]
  },
  {
   "cell_type": "markdown",
   "id": "0666e3dc",
   "metadata": {},
   "source": [
    "### Load and Prepare Data"
   ]
  },
  {
   "cell_type": "code",
   "execution_count": 41,
   "id": "0f583636",
   "metadata": {},
   "outputs": [
    {
     "data": {
      "application/vnd.microsoft.datawrangler.viewer.v0+json": {
       "columns": [
        {
         "name": "Address",
         "rawType": "object",
         "type": "string"
        },
        {
         "name": "TP?",
         "rawType": "object",
         "type": "string"
        }
       ],
       "ref": "151ac3d0-570e-4966-9f15-e7d2472bb340",
       "rows": [
        [
         "0xe5f3c6d2b47cbe2cf936b9521466bac2422ebef8",
         "Yes"
        ],
        [
         "0xa623b5a542c0d7daadef321042a04c600b03a8cb",
         "Yes"
        ],
        [
         "0xe412189da2dfa188a1a61633114b8732bbbfba19",
         "Yes"
        ],
        [
         "0x9fcf7acdc11fd904c4b73a009909c7f00efc4844",
         "Yes"
        ],
        [
         "0x921a5dce3dfed5cccfbb2e593f2978533bc66110",
         "Yes"
        ]
       ],
       "shape": {
        "columns": 1,
        "rows": 5
       }
      },
      "text/html": [
       "<div>\n",
       "<style scoped>\n",
       "    .dataframe tbody tr th:only-of-type {\n",
       "        vertical-align: middle;\n",
       "    }\n",
       "\n",
       "    .dataframe tbody tr th {\n",
       "        vertical-align: top;\n",
       "    }\n",
       "\n",
       "    .dataframe thead th {\n",
       "        text-align: right;\n",
       "    }\n",
       "</style>\n",
       "<table border=\"1\" class=\"dataframe\">\n",
       "  <thead>\n",
       "    <tr style=\"text-align: right;\">\n",
       "      <th></th>\n",
       "      <th>TP?</th>\n",
       "    </tr>\n",
       "    <tr>\n",
       "      <th>Address</th>\n",
       "      <th></th>\n",
       "    </tr>\n",
       "  </thead>\n",
       "  <tbody>\n",
       "    <tr>\n",
       "      <th>0xe5f3c6d2b47cbe2cf936b9521466bac2422ebef8</th>\n",
       "      <td>Yes</td>\n",
       "    </tr>\n",
       "    <tr>\n",
       "      <th>0xa623b5a542c0d7daadef321042a04c600b03a8cb</th>\n",
       "      <td>Yes</td>\n",
       "    </tr>\n",
       "    <tr>\n",
       "      <th>0xe412189da2dfa188a1a61633114b8732bbbfba19</th>\n",
       "      <td>Yes</td>\n",
       "    </tr>\n",
       "    <tr>\n",
       "      <th>0x9fcf7acdc11fd904c4b73a009909c7f00efc4844</th>\n",
       "      <td>Yes</td>\n",
       "    </tr>\n",
       "    <tr>\n",
       "      <th>0x921a5dce3dfed5cccfbb2e593f2978533bc66110</th>\n",
       "      <td>Yes</td>\n",
       "    </tr>\n",
       "  </tbody>\n",
       "</table>\n",
       "</div>"
      ],
      "text/plain": [
       "                                            TP?\n",
       "Address                                        \n",
       "0xe5f3c6d2b47cbe2cf936b9521466bac2422ebef8  Yes\n",
       "0xa623b5a542c0d7daadef321042a04c600b03a8cb  Yes\n",
       "0xe412189da2dfa188a1a61633114b8732bbbfba19  Yes\n",
       "0x9fcf7acdc11fd904c4b73a009909c7f00efc4844  Yes\n",
       "0x921a5dce3dfed5cccfbb2e593f2978533bc66110  Yes"
      ]
     },
     "execution_count": 41,
     "metadata": {},
     "output_type": "execute_result"
    }
   ],
   "source": [
    "df = pd.read_excel(os.path.join(EX_PATH, 'sample/limit.xlsx'))\n",
    "df['Address'] = df['Address'].str.lower()\n",
    "df = df.set_index('Address')\n",
    "df.head()"
   ]
  },
  {
   "cell_type": "code",
   "execution_count": 42,
   "id": "34b014ba",
   "metadata": {},
   "outputs": [
    {
     "data": {
      "application/vnd.microsoft.datawrangler.viewer.v0+json": {
       "columns": [
        {
         "name": "index",
         "rawType": "object",
         "type": "string"
        },
        {
         "name": "0",
         "rawType": "int64",
         "type": "integer"
        }
       ],
       "ref": "d9ff300d-0776-405e-a1c7-8d953d5934bb",
       "rows": [
        [
         "TP?",
         "0"
        ]
       ],
       "shape": {
        "columns": 1,
        "rows": 1
       }
      },
      "text/plain": [
       "TP?    0\n",
       "dtype: int64"
      ]
     },
     "execution_count": 42,
     "metadata": {},
     "output_type": "execute_result"
    }
   ],
   "source": [
    "df.isna().sum()"
   ]
  },
  {
   "cell_type": "code",
   "execution_count": 43,
   "id": "56752efb",
   "metadata": {},
   "outputs": [
    {
     "name": "stderr",
     "output_type": "stream",
     "text": [
      "100%|██████████| 91/91 [00:16<00:00,  5.41it/s]\n"
     ]
    }
   ],
   "source": [
    "files = []\n",
    "y = []\n",
    "\n",
    "for path in list(Path(HEX_PATH).glob('*.hex')):\n",
    "    address = path.stem.lower()\n",
    "    if address in df.index:\n",
    "        files.append(path)\n",
    "        tp_value = df.loc[address, 'TP?']\n",
    "        if isinstance(tp_value, pd.Series):\n",
    "            tp_value = tp_value.iloc[0]\n",
    "        y.append(1 if tp_value == 'Yes' else 0)\n",
    "\n",
    "X = get_graphs_stat_from_files(files)"
   ]
  },
  {
   "cell_type": "code",
   "execution_count": 44,
   "id": "10a5f871",
   "metadata": {},
   "outputs": [
    {
     "data": {
      "application/vnd.microsoft.datawrangler.viewer.v0+json": {
       "columns": [
        {
         "name": "address",
         "rawType": "object",
         "type": "string"
        },
        {
         "name": "num_nodes",
         "rawType": "int64",
         "type": "integer"
        },
        {
         "name": "num_edges",
         "rawType": "int64",
         "type": "integer"
        },
        {
         "name": "avg_degree",
         "rawType": "float64",
         "type": "float"
        },
        {
         "name": "density",
         "rawType": "float64",
         "type": "float"
        },
        {
         "name": "connected_components",
         "rawType": "int64",
         "type": "integer"
        },
        {
         "name": "avg_clustering",
         "rawType": "float64",
         "type": "float"
        }
       ],
       "ref": "84fc1570-c840-4020-b6ce-081e47be5b6d",
       "rows": [
        [
         "0x1f4a9567c1f98a8c9d7f026827f099b41a2e54d6",
         "194",
         "163",
         "1.6804123711340206",
         "0.00435339992521767",
         "42",
         "0.060137457044673534"
        ],
        [
         "0x76bc9e61a1904b82cbf70d1fd9c0f8a120483bbb",
         "150",
         "105",
         "1.4",
         "0.004697986577181208",
         "60",
         "0.04111111111111111"
        ],
        [
         "0xa5d77efbc45d574b689d7f1202cf817e23febb97",
         "179",
         "159",
         "1.776536312849162",
         "0.004990270541711129",
         "31",
         "0.0"
        ],
        [
         "0xb08fc1db58ef5e15a6f97d8f63b2bb4a14b9df37",
         "68",
         "64",
         "1.8823529411764706",
         "0.014047410008779631",
         "10",
         "0.10049019607843136"
        ],
        [
         "0x40165bd6d657b63cb6f8f4a3525ac05bbf74bd93",
         "285",
         "209",
         "1.4666666666666666",
         "0.0025821596244131454",
         "82",
         "0.0"
        ],
        [
         "0x3f1db2c3e98232971ec8ccfea8be865228763fef",
         "171",
         "153",
         "1.7894736842105263",
         "0.005263157894736842",
         "25",
         "0.0"
        ],
        [
         "0x1a93f35557700cdeab1205673126fea1a5fcd814",
         "235",
         "177",
         "1.5063829787234042",
         "0.0032187670485542825",
         "63",
         "0.016312056737588652"
        ],
        [
         "0x81609739f3299cdef524833924fc24d424044df8",
         "316",
         "324",
         "2.050632911392405",
         "0.0032549728752260397",
         "26",
         "0.08702531645569621"
        ],
        [
         "0xb3ce281f0dee8c6f7af19b9664109c4030bec3fa",
         "128",
         "106",
         "1.65625",
         "0.006520669291338582",
         "25",
         "0.029947916666666668"
        ],
        [
         "0xa62a63e1b51c30feff1116df3a33ec151453bb95",
         "158",
         "159",
         "2.0126582278481013",
         "0.00640973957913408",
         "5",
         "0.00949367088607595"
        ],
        [
         "0xdf9ecafee99e2954df6258ef85f18cf88462f452",
         "325",
         "203",
         "1.2492307692307691",
         "0.0019278252611585945",
         "137",
         "0.0"
        ],
        [
         "0x68cdbc25bf061d91537b21926260b213fde14285",
         "197",
         "139",
         "1.4111675126903553",
         "0.00359991712421009",
         "70",
         "0.06988155668358713"
        ],
        [
         "0xc78ae86f5da621d636f19e294f3d8523c8ac0164",
         "179",
         "159",
         "1.776536312849162",
         "0.004990270541711129",
         "31",
         "0.0"
        ],
        [
         "0xbc6f22d3d1da52e4058733e9051683e1899ceae7",
         "194",
         "156",
         "1.6082474226804124",
         "0.004166444100208323",
         "45",
         "0.0"
        ],
        [
         "0xbb902569a997d657e8d10b82ce0ec5a5983c8c7c",
         "94",
         "94",
         "2.0",
         "0.010752688172043012",
         "6",
         "0.03900709219858156"
        ],
        [
         "0x6e35563be1e059f95bcfb5e1d6d854602a7fa3e1",
         "244",
         "191",
         "1.5655737704918034",
         "0.003221345206773258",
         "56",
         "0.0"
        ],
        [
         "0xbed451b9d7c1e0458a2e57888a001c20e3b65f44",
         "176",
         "139",
         "1.5795454545454546",
         "0.004512987012987013",
         "49",
         "0.03409090909090909"
        ],
        [
         "0xeca2967b2a2cc584495b2226372bc0dde481f857",
         "341",
         "232",
         "1.3607038123167154",
         "0.0020010350181128168",
         "119",
         "0.004398826979472141"
        ],
        [
         "0xcb8028b5137073d83bf0a0fc25f1ada0e06bf18a",
         "188",
         "87",
         "0.925531914893617",
         "0.0024746842644214357",
         "112",
         "0.0"
        ],
        [
         "0x2b36968bf3c77253266aa382562fa3fdd7fa1667",
         "241",
         "195",
         "1.6182572614107884",
         "0.0033713692946058093",
         "57",
         "0.0"
        ],
        [
         "0x304129f5dcf725f4531a4f2c69af87ecadab2467",
         "163",
         "121",
         "1.4846625766871167",
         "0.004582291903355298",
         "58",
         "0.0"
        ],
        [
         "0x9f103cd6fb907928351353e6f339c3fdcd5ee05c",
         "212",
         "167",
         "1.5754716981132075",
         "0.0037333452561924348",
         "55",
         "0.0"
        ],
        [
         "0x0886949c1b8c412860c4264ceb8083d1365e86cf",
         "169",
         "119",
         "1.4082840236686391",
         "0.004191321499013806",
         "53",
         "0.01873767258382643"
        ],
        [
         "0x68abb13046027b64fdf5a9dde00f783df7e697ec",
         "368",
         "247",
         "1.3423913043478262",
         "0.0018288709868498993",
         "132",
         "0.01403985507246377"
        ],
        [
         "0xe36d1b67696c8567a3997858cb73de40c9b6888f",
         "220",
         "157",
         "1.4272727272727272",
         "0.0032586135325861354",
         "64",
         "0.0"
        ],
        [
         "0xa623b5a542c0d7daadef321042a04c600b03a8cb",
         "252",
         "179",
         "1.4206349206349207",
         "0.0028299500411054198",
         "74",
         "0.0"
        ],
        [
         "0x37d893cfeb6c5e43c43905df06a9513e0fafad74",
         "124",
         "133",
         "2.1451612903225805",
         "0.008720167846839759",
         "13",
         "0.07526881720430108"
        ],
        [
         "0xee7596c357c50f3677b794a5223db265394fb2e4",
         "169",
         "138",
         "1.6331360946745561",
         "0.0048605240912933225",
         "44",
         "0.05621301775147929"
        ],
        [
         "0x2b0e91a530bac5e0563a7f8d40ea7fb34cfadc3f",
         "245",
         "190",
         "1.5510204081632653",
         "0.0031783205085312814",
         "59",
         "0.0"
        ],
        [
         "0x921a5dce3dfed5cccfbb2e593f2978533bc66110",
         "271",
         "228",
         "1.6826568265682658",
         "0.003116031160311603",
         "58",
         "0.06396063960639606"
        ],
        [
         "0x8d65fba6de30791e8da76e4e47443543623ebed5",
         "135",
         "131",
         "1.9407407407407407",
         "0.007241569928137092",
         "14",
         "0.011111111111111112"
        ],
        [
         "0x8d06cbfdaf7066c739c71d70a2261d96d00d2d52",
         "151",
         "99",
         "1.3112582781456954",
         "0.004370860927152318",
         "56",
         "0.025386313465783666"
        ],
        [
         "0xb1733c9c3cb5d98c2c35db27e30de26081d4d30a",
         "174",
         "162",
         "1.8620689655172413",
         "0.005381702212477576",
         "30",
         "0.0421455938697318"
        ],
        [
         "0x8f3a9953c5ca4449d15721cd6e11ebc15a89e569",
         "112",
         "92",
         "1.6428571428571428",
         "0.0074002574002574005",
         "25",
         "0.05208333333333333"
        ],
        [
         "0x61c3ee9ce25e2c88dc9a8dd98f0510b95a82397a",
         "223",
         "140",
         "1.2556053811659194",
         "0.0028279400476709893",
         "92",
         "0.017189835575485802"
        ],
        [
         "0x7f3e7af72b565d508ce63abbfdefd0161390c9ed",
         "273",
         "207",
         "1.5164835164835164",
         "0.0027876535229476407",
         "82",
         "0.01037851037851038"
        ],
        [
         "0x9c0a1bbf01aee832afafeac003a57ff508a2a386",
         "311",
         "241",
         "1.54983922829582",
         "0.0024997406907997094",
         "76",
         "0.013719185423365487"
        ],
        [
         "0xa87beafd65e3c6808ac853076c23f268f3809d7b",
         "249",
         "181",
         "1.4538152610441768",
         "0.0029310791553310016",
         "81",
         "0.012048192771084338"
        ],
        [
         "0xd495d88aa708cc191e0a12e0ad3e1e40203ce7ff",
         "284",
         "190",
         "1.3380281690140845",
         "0.002364007365749266",
         "107",
         "0.01056338028169014"
        ],
        [
         "0x24859afb0ecce192f39fb405ba874ec1012788f0",
         "280",
         "198",
         "1.4142857142857144",
         "0.002534562211981567",
         "95",
         "0.010714285714285714"
        ],
        [
         "0xb4ec121eb68647b13b60dee2686ddd5f2973e47f",
         "160",
         "141",
         "1.7625",
         "0.005542452830188679",
         "26",
         "0.0"
        ],
        [
         "0xd942f19ca27dcae7c1e044f10a7080a8cd3bc7c0",
         "253",
         "171",
         "1.3517786561264822",
         "0.0026821005081874645",
         "91",
         "0.0"
        ],
        [
         "0xd7c70d7d09c94f555dc72601876010b4bfb49f6b",
         "1050",
         "346",
         "0.659047619047619",
         "0.0003141313722819919",
         "729",
         "0.0"
        ],
        [
         "0x2773b55e67efaab67d6985311b2d888d3d4470e1",
         "207",
         "176",
         "1.7004830917874396",
         "0.004127386145115145",
         "32",
         "0.0"
        ],
        [
         "0xe412189da2dfa188a1a61633114b8732bbbfba19",
         "182",
         "104",
         "1.1428571428571428",
         "0.0031570639305445935",
         "82",
         "0.0"
        ],
        [
         "0x9fcf7acdc11fd904c4b73a009909c7f00efc4844",
         "283",
         "231",
         "1.6325088339222615",
         "0.0028945192090820237",
         "72",
         "0.00530035335689046"
        ],
        [
         "0x531ac3341edfc39a04ed4c8b44ec396a46bc8690",
         "67",
         "51",
         "1.5223880597014925",
         "0.011533242876526458",
         "20",
         "0.0"
        ],
        [
         "0xe79b55a739abd64c62e8a642afbf02582c008c88",
         "345",
         "330",
         "1.9130434782608696",
         "0.002780586450960566",
         "62",
         "0.08164251207729468"
        ],
        [
         "0xe18fa7b1e1a7af9b338d3fb89c23a83d0c2e4b5d",
         "324",
         "237",
         "1.462962962962963",
         "0.002264648549478271",
         "101",
         "0.004629629629629629"
        ],
        [
         "0x897dc0cca9bb43f7601e477e721ef4dea4453f07",
         "759",
         "79",
         "0.20816864295125165",
         "0.00013731440827918973",
         "681",
         "0.0"
        ]
       ],
       "shape": {
        "columns": 6,
        "rows": 91
       }
      },
      "text/html": [
       "<div>\n",
       "<style scoped>\n",
       "    .dataframe tbody tr th:only-of-type {\n",
       "        vertical-align: middle;\n",
       "    }\n",
       "\n",
       "    .dataframe tbody tr th {\n",
       "        vertical-align: top;\n",
       "    }\n",
       "\n",
       "    .dataframe thead th {\n",
       "        text-align: right;\n",
       "    }\n",
       "</style>\n",
       "<table border=\"1\" class=\"dataframe\">\n",
       "  <thead>\n",
       "    <tr style=\"text-align: right;\">\n",
       "      <th></th>\n",
       "      <th>num_nodes</th>\n",
       "      <th>num_edges</th>\n",
       "      <th>avg_degree</th>\n",
       "      <th>density</th>\n",
       "      <th>connected_components</th>\n",
       "      <th>avg_clustering</th>\n",
       "    </tr>\n",
       "    <tr>\n",
       "      <th>address</th>\n",
       "      <th></th>\n",
       "      <th></th>\n",
       "      <th></th>\n",
       "      <th></th>\n",
       "      <th></th>\n",
       "      <th></th>\n",
       "    </tr>\n",
       "  </thead>\n",
       "  <tbody>\n",
       "    <tr>\n",
       "      <th>0x1f4a9567c1f98a8c9d7f026827f099b41a2e54d6</th>\n",
       "      <td>194</td>\n",
       "      <td>163</td>\n",
       "      <td>1.680412</td>\n",
       "      <td>0.004353</td>\n",
       "      <td>42</td>\n",
       "      <td>0.060137</td>\n",
       "    </tr>\n",
       "    <tr>\n",
       "      <th>0x76bc9e61a1904b82cbf70d1fd9c0f8a120483bbb</th>\n",
       "      <td>150</td>\n",
       "      <td>105</td>\n",
       "      <td>1.400000</td>\n",
       "      <td>0.004698</td>\n",
       "      <td>60</td>\n",
       "      <td>0.041111</td>\n",
       "    </tr>\n",
       "    <tr>\n",
       "      <th>0xa5d77efbc45d574b689d7f1202cf817e23febb97</th>\n",
       "      <td>179</td>\n",
       "      <td>159</td>\n",
       "      <td>1.776536</td>\n",
       "      <td>0.004990</td>\n",
       "      <td>31</td>\n",
       "      <td>0.000000</td>\n",
       "    </tr>\n",
       "    <tr>\n",
       "      <th>0xb08fc1db58ef5e15a6f97d8f63b2bb4a14b9df37</th>\n",
       "      <td>68</td>\n",
       "      <td>64</td>\n",
       "      <td>1.882353</td>\n",
       "      <td>0.014047</td>\n",
       "      <td>10</td>\n",
       "      <td>0.100490</td>\n",
       "    </tr>\n",
       "    <tr>\n",
       "      <th>0x40165bd6d657b63cb6f8f4a3525ac05bbf74bd93</th>\n",
       "      <td>285</td>\n",
       "      <td>209</td>\n",
       "      <td>1.466667</td>\n",
       "      <td>0.002582</td>\n",
       "      <td>82</td>\n",
       "      <td>0.000000</td>\n",
       "    </tr>\n",
       "    <tr>\n",
       "      <th>...</th>\n",
       "      <td>...</td>\n",
       "      <td>...</td>\n",
       "      <td>...</td>\n",
       "      <td>...</td>\n",
       "      <td>...</td>\n",
       "      <td>...</td>\n",
       "    </tr>\n",
       "    <tr>\n",
       "      <th>0x4c567c3363cc42c5a42c6d8bf01503fd1d0b91cd</th>\n",
       "      <td>199</td>\n",
       "      <td>150</td>\n",
       "      <td>1.507538</td>\n",
       "      <td>0.003807</td>\n",
       "      <td>52</td>\n",
       "      <td>0.000000</td>\n",
       "    </tr>\n",
       "    <tr>\n",
       "      <th>0x3fb1926a7d1cc68d4166d99c3483465885074f2f</th>\n",
       "      <td>167</td>\n",
       "      <td>132</td>\n",
       "      <td>1.580838</td>\n",
       "      <td>0.004762</td>\n",
       "      <td>44</td>\n",
       "      <td>0.000000</td>\n",
       "    </tr>\n",
       "    <tr>\n",
       "      <th>0xfb5fb992b64c86fbcb33ba151abd8ecbcc611bde</th>\n",
       "      <td>219</td>\n",
       "      <td>191</td>\n",
       "      <td>1.744292</td>\n",
       "      <td>0.004001</td>\n",
       "      <td>40</td>\n",
       "      <td>0.006849</td>\n",
       "    </tr>\n",
       "    <tr>\n",
       "      <th>0xab28787f0f0de52bc294e0f602cad2fb7ac2e248</th>\n",
       "      <td>179</td>\n",
       "      <td>136</td>\n",
       "      <td>1.519553</td>\n",
       "      <td>0.004268</td>\n",
       "      <td>44</td>\n",
       "      <td>0.000000</td>\n",
       "    </tr>\n",
       "    <tr>\n",
       "      <th>0xdf859c9878ef5e742d7bbe3c22a496c088c89fa9</th>\n",
       "      <td>149</td>\n",
       "      <td>130</td>\n",
       "      <td>1.744966</td>\n",
       "      <td>0.005895</td>\n",
       "      <td>28</td>\n",
       "      <td>0.025727</td>\n",
       "    </tr>\n",
       "  </tbody>\n",
       "</table>\n",
       "<p>91 rows × 6 columns</p>\n",
       "</div>"
      ],
      "text/plain": [
       "                                            num_nodes  num_edges  avg_degree  \\\n",
       "address                                                                        \n",
       "0x1f4a9567c1f98a8c9d7f026827f099b41a2e54d6        194        163    1.680412   \n",
       "0x76bc9e61a1904b82cbf70d1fd9c0f8a120483bbb        150        105    1.400000   \n",
       "0xa5d77efbc45d574b689d7f1202cf817e23febb97        179        159    1.776536   \n",
       "0xb08fc1db58ef5e15a6f97d8f63b2bb4a14b9df37         68         64    1.882353   \n",
       "0x40165bd6d657b63cb6f8f4a3525ac05bbf74bd93        285        209    1.466667   \n",
       "...                                               ...        ...         ...   \n",
       "0x4c567c3363cc42c5a42c6d8bf01503fd1d0b91cd        199        150    1.507538   \n",
       "0x3fb1926a7d1cc68d4166d99c3483465885074f2f        167        132    1.580838   \n",
       "0xfb5fb992b64c86fbcb33ba151abd8ecbcc611bde        219        191    1.744292   \n",
       "0xab28787f0f0de52bc294e0f602cad2fb7ac2e248        179        136    1.519553   \n",
       "0xdf859c9878ef5e742d7bbe3c22a496c088c89fa9        149        130    1.744966   \n",
       "\n",
       "                                             density  connected_components  \\\n",
       "address                                                                      \n",
       "0x1f4a9567c1f98a8c9d7f026827f099b41a2e54d6  0.004353                    42   \n",
       "0x76bc9e61a1904b82cbf70d1fd9c0f8a120483bbb  0.004698                    60   \n",
       "0xa5d77efbc45d574b689d7f1202cf817e23febb97  0.004990                    31   \n",
       "0xb08fc1db58ef5e15a6f97d8f63b2bb4a14b9df37  0.014047                    10   \n",
       "0x40165bd6d657b63cb6f8f4a3525ac05bbf74bd93  0.002582                    82   \n",
       "...                                              ...                   ...   \n",
       "0x4c567c3363cc42c5a42c6d8bf01503fd1d0b91cd  0.003807                    52   \n",
       "0x3fb1926a7d1cc68d4166d99c3483465885074f2f  0.004762                    44   \n",
       "0xfb5fb992b64c86fbcb33ba151abd8ecbcc611bde  0.004001                    40   \n",
       "0xab28787f0f0de52bc294e0f602cad2fb7ac2e248  0.004268                    44   \n",
       "0xdf859c9878ef5e742d7bbe3c22a496c088c89fa9  0.005895                    28   \n",
       "\n",
       "                                            avg_clustering  \n",
       "address                                                     \n",
       "0x1f4a9567c1f98a8c9d7f026827f099b41a2e54d6        0.060137  \n",
       "0x76bc9e61a1904b82cbf70d1fd9c0f8a120483bbb        0.041111  \n",
       "0xa5d77efbc45d574b689d7f1202cf817e23febb97        0.000000  \n",
       "0xb08fc1db58ef5e15a6f97d8f63b2bb4a14b9df37        0.100490  \n",
       "0x40165bd6d657b63cb6f8f4a3525ac05bbf74bd93        0.000000  \n",
       "...                                                    ...  \n",
       "0x4c567c3363cc42c5a42c6d8bf01503fd1d0b91cd        0.000000  \n",
       "0x3fb1926a7d1cc68d4166d99c3483465885074f2f        0.000000  \n",
       "0xfb5fb992b64c86fbcb33ba151abd8ecbcc611bde        0.006849  \n",
       "0xab28787f0f0de52bc294e0f602cad2fb7ac2e248        0.000000  \n",
       "0xdf859c9878ef5e742d7bbe3c22a496c088c89fa9        0.025727  \n",
       "\n",
       "[91 rows x 6 columns]"
      ]
     },
     "execution_count": 44,
     "metadata": {},
     "output_type": "execute_result"
    }
   ],
   "source": [
    "X"
   ]
  },
  {
   "cell_type": "code",
   "execution_count": 45,
   "id": "bb642231",
   "metadata": {},
   "outputs": [
    {
     "data": {
      "text/plain": [
       "[1, 1, 1, 0, 1]"
      ]
     },
     "execution_count": 45,
     "metadata": {},
     "output_type": "execute_result"
    }
   ],
   "source": [
    "y[:5]"
   ]
  },
  {
   "cell_type": "code",
   "execution_count": 46,
   "id": "7d9b2f20",
   "metadata": {},
   "outputs": [],
   "source": [
    "X = X.reindex(columns=train_cols, fill_value=0).reset_index(drop=True)"
   ]
  },
  {
   "cell_type": "markdown",
   "id": "b7ac35ac",
   "metadata": {},
   "source": [
    "### Evaluate"
   ]
  },
  {
   "cell_type": "code",
   "execution_count": 47,
   "id": "b6074b41",
   "metadata": {},
   "outputs": [
    {
     "name": "stdout",
     "output_type": "stream",
     "text": [
      "\u001b[1m3/3\u001b[0m \u001b[32m━━━━━━━━━━━━━━━━━━━━\u001b[0m\u001b[37m\u001b[0m \u001b[1m0s\u001b[0m 18ms/step\n"
     ]
    }
   ],
   "source": [
    "y_prob = model.predict(X)"
   ]
  },
  {
   "cell_type": "code",
   "execution_count": 48,
   "id": "2c597bb4",
   "metadata": {},
   "outputs": [
    {
     "data": {
      "text/plain": [
       "array([[0.5002585 , 0.38014632, 0.54881185],\n",
       "       [0.44782493, 0.34495866, 0.5853323 ],\n",
       "       [0.5001286 , 0.37112406, 0.54208755],\n",
       "       [0.48333287, 0.3623236 , 0.6774767 ],\n",
       "       [0.56262314, 0.442583  , 0.55353516],\n",
       "       [0.5102963 , 0.37209454, 0.52308476],\n",
       "       [0.53445613, 0.42074922, 0.52557003],\n",
       "       [0.44000646, 0.45150316, 0.69312835],\n",
       "       [0.46336293, 0.34629592, 0.57306457],\n",
       "       [0.5273837 , 0.37298372, 0.5070972 ],\n",
       "       [0.5645037 , 0.39066997, 0.6000173 ],\n",
       "       [0.46713123, 0.36726803, 0.56125075],\n",
       "       [0.5001286 , 0.37112406, 0.54208755],\n",
       "       [0.5092824 , 0.38557446, 0.53659284],\n",
       "       [0.45318794, 0.3530929 , 0.6016581 ],\n",
       "       [0.5564864 , 0.44344264, 0.5141059 ],\n",
       "       [0.47599477, 0.35345587, 0.5597231 ],\n",
       "       [0.5860708 , 0.42391595, 0.6098952 ],\n",
       "       [0.4463517 , 0.36792538, 0.5918951 ],\n",
       "       [0.5168839 , 0.4170371 , 0.54955035],\n",
       "       [0.4528447 , 0.34587196, 0.5822133 ],\n",
       "       [0.50525856, 0.39445755, 0.55408555],\n",
       "       [0.4802897 , 0.35612732, 0.55401313],\n",
       "       [0.60957354, 0.42092907, 0.63169974],\n",
       "       [0.5270169 , 0.40480733, 0.5223583 ],\n",
       "       [0.561156  , 0.44014448, 0.51547307],\n",
       "       [0.4521441 , 0.321592  , 0.58599746],\n",
       "       [0.47461313, 0.34832278, 0.56392545],\n",
       "       [0.5525599 , 0.4387519 , 0.5186067 ],\n",
       "       [0.51668555, 0.41960528, 0.58753175],\n",
       "       [0.47875077, 0.33715042, 0.55723757],\n",
       "       [0.4579146 , 0.35365516, 0.58491784],\n",
       "       [0.47833234, 0.3532599 , 0.5616086 ],\n",
       "       [0.4548678 , 0.34140435, 0.6037509 ],\n",
       "       [0.47715607, 0.3796217 , 0.5453529 ],\n",
       "       [0.5177115 , 0.4055589 , 0.58234096],\n",
       "       [0.5745112 , 0.44793814, 0.5726359 ],\n",
       "       [0.5072628 , 0.40757394, 0.5569399 ],\n",
       "       [0.5327932 , 0.4067774 , 0.57209444],\n",
       "       [0.5323057 , 0.41126895, 0.5745612 ],\n",
       "       [0.50059986, 0.3545554 , 0.53892547],\n",
       "       [0.5215776 , 0.41901195, 0.5459214 ],\n",
       "       [0.816174  , 0.52750075, 0.7735057 ],\n",
       "       [0.5581157 , 0.42188963, 0.49579018],\n",
       "       [0.4660076 , 0.36916268, 0.5665651 ],\n",
       "       [0.49628288, 0.39912966, 0.6159523 ],\n",
       "       [0.4920034 , 0.37197652, 0.701828  ],\n",
       "       [0.43537888, 0.4312601 , 0.7447702 ],\n",
       "       [0.546103  , 0.41519707, 0.6186971 ],\n",
       "       [0.6050542 , 0.4069244 , 0.38368976],\n",
       "       [0.48593244, 0.3717836 , 0.55518043],\n",
       "       [0.48242056, 0.35745138, 0.6733657 ],\n",
       "       [0.663893  , 0.3524463 , 0.626181  ],\n",
       "       [0.4678992 , 0.36728907, 0.5743966 ],\n",
       "       [0.53423023, 0.42738858, 0.56717914],\n",
       "       [0.49861726, 0.39340594, 0.5620269 ],\n",
       "       [0.5206711 , 0.426661  , 0.5738288 ],\n",
       "       [0.5465277 , 0.42958963, 0.5078495 ],\n",
       "       [0.50055116, 0.40761858, 0.62141746],\n",
       "       [0.4986635 , 0.39144084, 0.53856105],\n",
       "       [0.4999044 , 0.36327085, 0.5385891 ],\n",
       "       [0.70172596, 0.56307197, 0.7501374 ],\n",
       "       [0.58267796, 0.39178807, 0.5943698 ],\n",
       "       [0.5047163 , 0.37274575, 0.7335934 ],\n",
       "       [0.51218814, 0.40485832, 0.5456418 ],\n",
       "       [0.50771534, 0.40548933, 0.5534485 ],\n",
       "       [0.47678292, 0.33986336, 0.5611096 ],\n",
       "       [0.47386855, 0.34414753, 0.6430856 ],\n",
       "       [0.51616424, 0.4076376 , 0.543404  ],\n",
       "       [0.4303624 , 0.34272817, 0.5998721 ],\n",
       "       [0.5001286 , 0.37112406, 0.54208755],\n",
       "       [0.5530849 , 0.44674754, 0.5182809 ],\n",
       "       [0.45861313, 0.33282635, 0.57797664],\n",
       "       [0.5434321 , 0.43050408, 0.535339  ],\n",
       "       [0.47018233, 0.35780394, 0.5610148 ],\n",
       "       [0.5524207 , 0.40585187, 0.6759113 ],\n",
       "       [0.51581424, 0.39347354, 0.5402105 ],\n",
       "       [0.5020372 , 0.3989153 , 0.5551824 ],\n",
       "       [0.4548678 , 0.34140435, 0.6037509 ],\n",
       "       [0.48252383, 0.34447932, 0.5526318 ],\n",
       "       [0.46529457, 0.3778789 , 0.5663749 ],\n",
       "       [0.4383473 , 0.3736507 , 0.5712263 ],\n",
       "       [0.5589294 , 0.4335697 , 0.49666265],\n",
       "       [0.44932124, 0.3744577 , 0.70514184],\n",
       "       [0.49699885, 0.3868098 , 0.5587881 ],\n",
       "       [0.4466347 , 0.34498507, 0.58341354],\n",
       "       [0.51314455, 0.38652793, 0.52667576],\n",
       "       [0.4802781 , 0.3473267 , 0.559632  ],\n",
       "       [0.5069526 , 0.40398923, 0.55287683],\n",
       "       [0.5072853 , 0.36782002, 0.5308628 ],\n",
       "       [0.48128676, 0.34170458, 0.56212354]], dtype=float32)"
      ]
     },
     "execution_count": 48,
     "metadata": {},
     "output_type": "execute_result"
    }
   ],
   "source": [
    "y_prob"
   ]
  },
  {
   "cell_type": "code",
   "execution_count": 49,
   "id": "edefd8e0",
   "metadata": {},
   "outputs": [],
   "source": [
    "y_pred = (y_prob >= best_thresholds).astype(int)"
   ]
  },
  {
   "cell_type": "code",
   "execution_count": 50,
   "id": "45055421",
   "metadata": {},
   "outputs": [
    {
     "data": {
      "text/plain": [
       "array([1, 0, 1])"
      ]
     },
     "execution_count": 50,
     "metadata": {},
     "output_type": "execute_result"
    }
   ],
   "source": [
    "y_pred[1]"
   ]
  },
  {
   "cell_type": "code",
   "execution_count": 51,
   "id": "58686834",
   "metadata": {},
   "outputs": [
    {
     "data": {
      "text/plain": [
       "array([0, 1, 0, 1, 0, 0, 0, 1, 1, 0, 1, 1, 0, 0, 1, 0, 0, 1, 1, 0, 1, 0,\n",
       "       0, 1, 0, 0, 1, 1, 0, 1, 0, 1, 1, 1, 0, 1, 1, 0, 1, 1, 0, 0, 1, 0,\n",
       "       1, 1, 1, 1, 1, 0, 0, 1, 1, 1, 1, 1, 1, 0, 1, 0, 0, 1, 1, 1, 0, 0,\n",
       "       1, 1, 0, 1, 0, 0, 1, 0, 1, 1, 0, 0, 1, 0, 1, 1, 0, 1, 0, 1, 0, 0,\n",
       "       0, 0, 1])"
      ]
     },
     "execution_count": 51,
     "metadata": {},
     "output_type": "execute_result"
    }
   ],
   "source": [
    "y_pred[:, 2]"
   ]
  },
  {
   "cell_type": "code",
   "execution_count": 52,
   "id": "4c2296a6",
   "metadata": {},
   "outputs": [],
   "source": [
    "y_pred = y_pred[:, 2]"
   ]
  },
  {
   "cell_type": "code",
   "execution_count": 53,
   "id": "6efcd107",
   "metadata": {},
   "outputs": [
    {
     "data": {
      "text/plain": [
       "array([0, 1, 0, 1, 0, 0, 0, 1, 1, 0, 1, 1, 0, 0, 1, 0, 0, 1, 1, 0, 1, 0,\n",
       "       0, 1, 0, 0, 1, 1, 0, 1, 0, 1, 1, 1, 0, 1, 1, 0, 1, 1, 0, 0, 1, 0,\n",
       "       1, 1, 1, 1, 1, 0, 0, 1, 1, 1, 1, 1, 1, 0, 1, 0, 0, 1, 1, 1, 0, 0,\n",
       "       1, 1, 0, 1, 0, 0, 1, 0, 1, 1, 0, 0, 1, 0, 1, 1, 0, 1, 0, 1, 0, 0,\n",
       "       0, 0, 1])"
      ]
     },
     "execution_count": 53,
     "metadata": {},
     "output_type": "execute_result"
    }
   ],
   "source": [
    "y_pred"
   ]
  },
  {
   "cell_type": "code",
   "execution_count": 54,
   "id": "2db9d96e",
   "metadata": {},
   "outputs": [
    {
     "name": "stdout",
     "output_type": "stream",
     "text": [
      "              precision    recall  f1-score   support\n",
      "\n",
      "           0       0.07      0.23      0.11        13\n",
      "           1       0.80      0.50      0.61        78\n",
      "\n",
      "    accuracy                           0.46        91\n",
      "   macro avg       0.43      0.37      0.36        91\n",
      "weighted avg       0.69      0.46      0.54        91\n",
      "\n"
     ]
    }
   ],
   "source": [
    "print(classification_report(y, y_pred))"
   ]
  },
  {
   "cell_type": "code",
   "execution_count": 55,
   "id": "8f473952",
   "metadata": {},
   "outputs": [
    {
     "data": {
      "image/png": "[encoded data removed]",
      "text/plain": [
       "<Figure size 640x480 with 2 Axes>"
      ]
     },
     "metadata": {},
     "output_type": "display_data"
    }
   ],
   "source": [
    "cm = confusion_matrix(y, y_pred)\n",
    "cm_display = ConfusionMatrixDisplay(cm)\n",
    "cm_display.plot(cmap=plt.cm.Blues,values_format='g')\n",
    "plt.show()"
   ]
  }
 ],
 "metadata": {
  "kernelspec": {
   "display_name": "ml-algo",
   "language": "python",
   "name": "python3"
  },
  "language_info": {
   "codemirror_mode": {
    "name": "ipython",
    "version": 3
   },
   "file_extension": ".py",
   "mimetype": "text/x-python",
   "name": "python",
   "nbconvert_exporter": "python",
   "pygments_lexer": "ipython3",
   "version": "3.12.7"
  }
 },
 "nbformat": 4,
 "nbformat_minor": 5
}
