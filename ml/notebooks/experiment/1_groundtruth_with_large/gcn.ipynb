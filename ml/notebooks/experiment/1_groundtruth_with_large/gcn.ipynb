{
 "cells": [
  {
   "cell_type": "markdown",
   "id": "c4c2182b",
   "metadata": {},
   "source": [
    "# GCN"
   ]
  },
  {
   "cell_type": "markdown",
   "id": "c522e3cd",
   "metadata": {},
   "source": []
  }
 ],
 "metadata": {
  "language_info": {
   "name": "python"
  }
 },
 "nbformat": 4,
 "nbformat_minor": 5
}
