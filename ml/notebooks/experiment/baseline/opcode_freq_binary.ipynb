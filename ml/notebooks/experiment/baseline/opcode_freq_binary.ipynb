{
 "cells": [
  {
   "cell_type": "markdown",
   "id": "f5522b31",
   "metadata": {},
   "source": [
    "# Baseline Model using Opcode Frequency for Binary"
   ]
  },
  {
   "cell_type": "markdown",
   "id": "c618ae76",
   "metadata": {},
   "source": [
    "## Set up"
   ]
  },
  {
   "cell_type": "code",
   "execution_count": 1,
   "id": "4c98a8df",
   "metadata": {},
   "outputs": [],
   "source": [
    "import warnings\n",
    "warnings.filterwarnings(\"ignore\")"
   ]
  },
  {
   "cell_type": "code",
   "execution_count": 2,
   "id": "04893973",
   "metadata": {},
   "outputs": [],
   "source": [
    "import os\n",
    "import json\n",
    "import pandas as pd\n",
    "from imblearn.combine import SMOTETomek\n",
    "import numpy as np\n",
    "from pathlib import Path\n",
    "\n",
    "from sklearn.model_selection import train_test_split\n",
    "from sklearn.metrics import classification_report, confusion_matrix, ConfusionMatrixDisplay\n",
    "import matplotlib.pyplot as plt\n",
    "from sklearn.metrics import f1_score\n"
   ]
  },
  {
   "cell_type": "code",
   "execution_count": 3,
   "id": "ed2e63a2",
   "metadata": {},
   "outputs": [],
   "source": [
    "PATH = Path.cwd().parents[2]\n",
    "DATA_PATH = os.path.join(PATH, 'data/processed/opcode_freq')"
   ]
  },
  {
   "cell_type": "markdown",
   "id": "d77dea9b",
   "metadata": {},
   "source": [
    "## List Traditional ML model to compare"
   ]
  },
  {
   "cell_type": "code",
   "execution_count": 4,
   "id": "30ab6b3f",
   "metadata": {},
   "outputs": [],
   "source": [
    "from sklearn.linear_model import LogisticRegression\n",
    "from sklearn.tree import DecisionTreeClassifier\n",
    "from sklearn.ensemble import RandomForestClassifier, AdaBoostClassifier, ExtraTreesClassifier\n",
    "from xgboost import XGBClassifier\n",
    "from lightgbm import LGBMClassifier\n",
    "from sklearn.svm import SVC\n",
    "from sklearn.naive_bayes import GaussianNB\n",
    "from sklearn.neighbors import KNeighborsClassifier\n",
    "from sklearn.linear_model import SGDClassifier\n",
    "from sklearn.neural_network import MLPClassifier\n",
    "\n",
    "models = {\n",
    "  \"LogisticRegression()\": LogisticRegression(),\n",
    "  \"DecisionTreeClassifier()\": DecisionTreeClassifier(),\n",
    "  \"RandomForestClassifier()\": RandomForestClassifier(),\n",
    "  \"AdaBoostClassifier()\": AdaBoostClassifier(),\n",
    "  \"ExtraTreesClassifier()\": ExtraTreesClassifier(),\n",
    "  \"XGBClassifier()\": XGBClassifier(),\n",
    "  \"LGBMClassifier()\": LGBMClassifier(),\n",
    "  \"SVC()\": SVC(),\n",
    "  \"GaussianNB()\": GaussianNB(),\n",
    "  \"KNeighborsClassifier()\": KNeighborsClassifier(),\n",
    "  \"SGDClassifier()\": SGDClassifier(),\n",
    "  \"MLPClassifier()\": MLPClassifier(),\n",
    "}"
   ]
  },
  {
   "cell_type": "markdown",
   "id": "f5732d05",
   "metadata": {},
   "source": [
    "## Load Dataset"
   ]
  },
  {
   "cell_type": "code",
   "execution_count": 5,
   "id": "44d0a85c",
   "metadata": {},
   "outputs": [],
   "source": [
    "df = pd.read_csv(os.path.join(DATA_PATH, 'dataset.csv')).set_index('address')\n",
    "\n",
    "with open(os.path.join(DATA_PATH, 'features.json'), \"r\") as f:\n",
    "    features = json.load(f)\n",
    "\n",
    "with open(os.path.join(DATA_PATH, 'labels.json'), \"r\") as f:\n",
    "    labels = json.load(f)"
   ]
  },
  {
   "cell_type": "code",
   "execution_count": 6,
   "id": "4714201c",
   "metadata": {},
   "outputs": [
    {
     "data": {
      "application/vnd.microsoft.datawrangler.viewer.v0+json": {
       "columns": [
        {
         "name": "address",
         "rawType": "object",
         "type": "string"
        },
        {
         "name": "mint",
         "rawType": "int64",
         "type": "integer"
        },
        {
         "name": "leak",
         "rawType": "int64",
         "type": "integer"
        },
        {
         "name": "limit",
         "rawType": "int64",
         "type": "integer"
        },
        {
         "name": "PUSH",
         "rawType": "int64",
         "type": "integer"
        },
        {
         "name": "MSTORE",
         "rawType": "float64",
         "type": "float"
        },
        {
         "name": "CALLDATASIZE",
         "rawType": "int64",
         "type": "integer"
        },
        {
         "name": "LT",
         "rawType": "float64",
         "type": "float"
        },
        {
         "name": "JUMPI",
         "rawType": "int64",
         "type": "integer"
        },
        {
         "name": "CALLDATALOAD",
         "rawType": "float64",
         "type": "float"
        },
        {
         "name": "SWAP",
         "rawType": "int64",
         "type": "integer"
        },
        {
         "name": "DIV",
         "rawType": "float64",
         "type": "float"
        },
        {
         "name": "AND",
         "rawType": "float64",
         "type": "float"
        },
        {
         "name": "DUP",
         "rawType": "int64",
         "type": "integer"
        },
        {
         "name": "EQ",
         "rawType": "float64",
         "type": "float"
        },
        {
         "name": "JUMPDEST",
         "rawType": "int64",
         "type": "integer"
        },
        {
         "name": "REVERT",
         "rawType": "int64",
         "type": "integer"
        },
        {
         "name": "CALLVALUE",
         "rawType": "float64",
         "type": "float"
        },
        {
         "name": "ISZERO",
         "rawType": "float64",
         "type": "float"
        },
        {
         "name": "POP",
         "rawType": "float64",
         "type": "float"
        },
        {
         "name": "JUMP",
         "rawType": "float64",
         "type": "float"
        },
        {
         "name": "MLOAD",
         "rawType": "float64",
         "type": "float"
        },
        {
         "name": "ADD",
         "rawType": "float64",
         "type": "float"
        },
        {
         "name": "SUB",
         "rawType": "float64",
         "type": "float"
        },
        {
         "name": "EXP",
         "rawType": "float64",
         "type": "float"
        },
        {
         "name": "NOT",
         "rawType": "float64",
         "type": "float"
        },
        {
         "name": "RETURN",
         "rawType": "int64",
         "type": "integer"
        },
        {
         "name": "STOP",
         "rawType": "float64",
         "type": "float"
        },
        {
         "name": "SLOAD",
         "rawType": "float64",
         "type": "float"
        },
        {
         "name": "MUL",
         "rawType": "float64",
         "type": "float"
        },
        {
         "name": "SHA",
         "rawType": "float64",
         "type": "float"
        },
        {
         "name": "GT",
         "rawType": "float64",
         "type": "float"
        },
        {
         "name": "CALLER",
         "rawType": "float64",
         "type": "float"
        },
        {
         "name": "SSTORE",
         "rawType": "float64",
         "type": "float"
        },
        {
         "name": "LOG",
         "rawType": "float64",
         "type": "float"
        },
        {
         "name": "OR",
         "rawType": "float64",
         "type": "float"
        },
        {
         "name": "UNKNOWN",
         "rawType": "float64",
         "type": "float"
        },
        {
         "name": "MSIZE",
         "rawType": "float64",
         "type": "float"
        },
        {
         "name": "CHAINID",
         "rawType": "float64",
         "type": "float"
        },
        {
         "name": "SMOD",
         "rawType": "float64",
         "type": "float"
        },
        {
         "name": "ADDRESS",
         "rawType": "float64",
         "type": "float"
        },
        {
         "name": "PC",
         "rawType": "float64",
         "type": "float"
        },
        {
         "name": "SHR",
         "rawType": "float64",
         "type": "float"
        },
        {
         "name": "SHL",
         "rawType": "float64",
         "type": "float"
        },
        {
         "name": "CODECOPY",
         "rawType": "float64",
         "type": "float"
        },
        {
         "name": "SLT",
         "rawType": "float64",
         "type": "float"
        },
        {
         "name": "COINBASE",
         "rawType": "float64",
         "type": "float"
        },
        {
         "name": "TIMESTAMP",
         "rawType": "float64",
         "type": "float"
        },
        {
         "name": "CALLDATACOPY",
         "rawType": "float64",
         "type": "float"
        },
        {
         "name": "RETURNDATASIZE",
         "rawType": "float64",
         "type": "float"
        },
        {
         "name": "ADDMOD",
         "rawType": "float64",
         "type": "float"
        },
        {
         "name": "EXTCODESIZE",
         "rawType": "float64",
         "type": "float"
        },
        {
         "name": "BYTE",
         "rawType": "float64",
         "type": "float"
        },
        {
         "name": "CODESIZE",
         "rawType": "float64",
         "type": "float"
        },
        {
         "name": "SELFBALANCE",
         "rawType": "float64",
         "type": "float"
        },
        {
         "name": "EXTCODEHASH",
         "rawType": "float64",
         "type": "float"
        },
        {
         "name": "INVALID",
         "rawType": "float64",
         "type": "float"
        },
        {
         "name": "GASLIMIT",
         "rawType": "float64",
         "type": "float"
        },
        {
         "name": "NUMBER",
         "rawType": "float64",
         "type": "float"
        },
        {
         "name": "ORIGIN",
         "rawType": "float64",
         "type": "float"
        },
        {
         "name": "GASPRICE",
         "rawType": "float64",
         "type": "float"
        },
        {
         "name": "GAS",
         "rawType": "float64",
         "type": "float"
        },
        {
         "name": "STATICCALL",
         "rawType": "float64",
         "type": "float"
        },
        {
         "name": "RETURNDATACOPY",
         "rawType": "float64",
         "type": "float"
        },
        {
         "name": "MOD",
         "rawType": "float64",
         "type": "float"
        },
        {
         "name": "CALL",
         "rawType": "float64",
         "type": "float"
        },
        {
         "name": "SAR",
         "rawType": "float64",
         "type": "float"
        },
        {
         "name": "CREATE",
         "rawType": "float64",
         "type": "float"
        },
        {
         "name": "UNOFFICIAL",
         "rawType": "float64",
         "type": "float"
        },
        {
         "name": "BLOCKHASH",
         "rawType": "float64",
         "type": "float"
        },
        {
         "name": "XOR",
         "rawType": "float64",
         "type": "float"
        },
        {
         "name": "SELFDESTRUCT",
         "rawType": "float64",
         "type": "float"
        },
        {
         "name": "MULMOD",
         "rawType": "float64",
         "type": "float"
        },
        {
         "name": "DIFFICULTY",
         "rawType": "float64",
         "type": "float"
        },
        {
         "name": "BALANCE",
         "rawType": "float64",
         "type": "float"
        },
        {
         "name": "BASEFEE",
         "rawType": "float64",
         "type": "float"
        },
        {
         "name": "SDIV",
         "rawType": "float64",
         "type": "float"
        },
        {
         "name": "CALLCODE",
         "rawType": "float64",
         "type": "float"
        },
        {
         "name": "SGT",
         "rawType": "float64",
         "type": "float"
        },
        {
         "name": "EXTCODECOPY",
         "rawType": "float64",
         "type": "float"
        },
        {
         "name": "SIGNEXTEND",
         "rawType": "float64",
         "type": "float"
        },
        {
         "name": "DELEGATECALL",
         "rawType": "float64",
         "type": "float"
        }
       ],
       "ref": "f8efbc33-b057-42f7-b48e-62462be380ba",
       "rows": [
        [
         "0x93023f1d3525e273f291b6f76d2f5027a39bf302",
         "1",
         "0",
         "1",
         "734",
         "119.0",
         "14",
         "9.0",
         "67",
         "8.0",
         "187",
         "5.0",
         "45.0",
         "392",
         "28.0",
         "162",
         "15",
         "1.0",
         "35.0",
         "77.0",
         "135.0",
         "35.0",
         "101.0",
         "49.0",
         "0.0",
         "6.0",
         "1",
         "3.0",
         "28.0",
         "4.0",
         "18.0",
         "7.0",
         "9.0",
         "11.0",
         "7.0",
         "2.0",
         "2.0",
         "0.0",
         "0.0",
         "0.0",
         "0.0",
         "0.0",
         "1.0",
         "56.0",
         "0.0",
         "8.0",
         "0.0",
         "0.0",
         "0.0",
         "0.0",
         "1.0",
         "0.0",
         "0.0",
         "1.0",
         "0.0",
         "0.0",
         "0.0",
         "0.0",
         "1.0",
         "0.0",
         "0.0",
         "0.0",
         "0.0",
         "0.0",
         "0.0",
         "0.0",
         "0.0",
         "0.0",
         "0.0",
         "0.0",
         "0.0",
         "0.0",
         "0.0",
         "0.0",
         "0.0",
         "0.0",
         "0.0",
         "0.0",
         "0.0",
         "0.0",
         "0.0",
         "0.0"
        ],
        [
         "0x2753dce37a7edb052a77832039bcc9aa49ad8b25",
         "0",
         "0",
         "1",
         "1155",
         "179.0",
         "23",
         "13.0",
         "101",
         "7.0",
         "264",
         "4.0",
         "76.0",
         "517",
         "47.0",
         "223",
         "23",
         "1.0",
         "33.0",
         "93.0",
         "186.0",
         "56.0",
         "153.0",
         "73.0",
         "0.0",
         "20.0",
         "1",
         "2.0",
         "43.0",
         "4.0",
         "27.0",
         "13.0",
         "24.0",
         "12.0",
         "9.0",
         "5.0",
         "13.0",
         "0.0",
         "0.0",
         "0.0",
         "0.0",
         "0.0",
         "3.0",
         "105.0",
         "0.0",
         "8.0",
         "0.0",
         "0.0",
         "1.0",
         "0.0",
         "1.0",
         "3.0",
         "4.0",
         "1.0",
         "1.0",
         "1.0",
         "1.0",
         "0.0",
         "0.0",
         "0.0",
         "0.0",
         "0.0",
         "0.0",
         "0.0",
         "0.0",
         "0.0",
         "0.0",
         "0.0",
         "0.0",
         "0.0",
         "0.0",
         "0.0",
         "0.0",
         "0.0",
         "0.0",
         "0.0",
         "0.0",
         "0.0",
         "0.0",
         "0.0",
         "0.0",
         "0.0"
        ],
        [
         "0x94b7d24552933f50a5a5705c446528806dcea381",
         "0",
         "0",
         "0",
         "20",
         "3.0",
         "2",
         "0.0",
         "2",
         "1.0",
         "4",
         "0.0",
         "1.0",
         "7",
         "2.0",
         "2",
         "1",
         "1.0",
         "2.0",
         "0.0",
         "0.0",
         "0.0",
         "0.0",
         "0.0",
         "0.0",
         "0.0",
         "2",
         "0.0",
         "1.0",
         "0.0",
         "1.0",
         "0.0",
         "0.0",
         "0.0",
         "2.0",
         "0.0",
         "3.0",
         "0.0",
         "0.0",
         "0.0",
         "0.0",
         "0.0",
         "0.0",
         "0.0",
         "0.0",
         "1.0",
         "0.0",
         "1.0",
         "1.0",
         "3.0",
         "0.0",
         "0.0",
         "0.0",
         "0.0",
         "0.0",
         "0.0",
         "1.0",
         "0.0",
         "0.0",
         "0.0",
         "0.0",
         "1.0",
         "0.0",
         "1.0",
         "0.0",
         "0.0",
         "0.0",
         "0.0",
         "0.0",
         "0.0",
         "0.0",
         "0.0",
         "0.0",
         "0.0",
         "0.0",
         "0.0",
         "0.0",
         "0.0",
         "0.0",
         "0.0",
         "0.0",
         "1.0"
        ],
        [
         "0xe0b9d4146aad6936cbfcbe4dae47e34aab96b093",
         "0",
         "0",
         "0",
         "1135",
         "107.0",
         "9",
         "10.0",
         "96",
         "3.0",
         "464",
         "6.0",
         "99.0",
         "585",
         "35.0",
         "370",
         "38",
         "22.0",
         "68.0",
         "318.0",
         "279.0",
         "80.0",
         "148.0",
         "55.0",
         "4.0",
         "4.0",
         "21",
         "3.0",
         "18.0",
         "4.0",
         "29.0",
         "16.0",
         "4.0",
         "9.0",
         "6.0",
         "2.0",
         "7.0",
         "0.0",
         "0.0",
         "0.0",
         "1.0",
         "0.0",
         "2.0",
         "2.0",
         "0.0",
         "7.0",
         "0.0",
         "0.0",
         "0.0",
         "10.0",
         "1.0",
         "2.0",
         "0.0",
         "0.0",
         "0.0",
         "0.0",
         "0.0",
         "0.0",
         "0.0",
         "2.0",
         "0.0",
         "3.0",
         "1.0",
         "3.0",
         "1.0",
         "2.0",
         "0.0",
         "0.0",
         "0.0",
         "0.0",
         "0.0",
         "0.0",
         "0.0",
         "0.0",
         "0.0",
         "0.0",
         "0.0",
         "0.0",
         "0.0",
         "0.0",
         "0.0",
         "0.0"
        ],
        [
         "0x10f6f2b97f3ab29583d9d38babf2994df7220c21",
         "1",
         "0",
         "1",
         "1623",
         "150.0",
         "18",
         "18.0",
         "115",
         "6.0",
         "722",
         "21.0",
         "138.0",
         "890",
         "34.0",
         "529",
         "52",
         "22.0",
         "104.0",
         "509.0",
         "410.0",
         "99.0",
         "234.0",
         "76.0",
         "26.0",
         "11.0",
         "17",
         "6.0",
         "43.0",
         "25.0",
         "34.0",
         "14.0",
         "2.0",
         "16.0",
         "8.0",
         "8.0",
         "3.0",
         "0.0",
         "0.0",
         "0.0",
         "8.0",
         "0.0",
         "1.0",
         "4.0",
         "0.0",
         "11.0",
         "0.0",
         "2.0",
         "2.0",
         "11.0",
         "0.0",
         "1.0",
         "0.0",
         "0.0",
         "2.0",
         "0.0",
         "0.0",
         "0.0",
         "0.0",
         "0.0",
         "0.0",
         "4.0",
         "2.0",
         "4.0",
         "0.0",
         "2.0",
         "0.0",
         "0.0",
         "0.0",
         "0.0",
         "0.0",
         "0.0",
         "0.0",
         "0.0",
         "0.0",
         "0.0",
         "0.0",
         "0.0",
         "0.0",
         "0.0",
         "0.0",
         "0.0"
        ]
       ],
       "shape": {
        "columns": 81,
        "rows": 5
       }
      },
      "text/html": [
       "<div>\n",
       "<style scoped>\n",
       "    .dataframe tbody tr th:only-of-type {\n",
       "        vertical-align: middle;\n",
       "    }\n",
       "\n",
       "    .dataframe tbody tr th {\n",
       "        vertical-align: top;\n",
       "    }\n",
       "\n",
       "    .dataframe thead th {\n",
       "        text-align: right;\n",
       "    }\n",
       "</style>\n",
       "<table border=\"1\" class=\"dataframe\">\n",
       "  <thead>\n",
       "    <tr style=\"text-align: right;\">\n",
       "      <th></th>\n",
       "      <th>mint</th>\n",
       "      <th>leak</th>\n",
       "      <th>limit</th>\n",
       "      <th>PUSH</th>\n",
       "      <th>MSTORE</th>\n",
       "      <th>CALLDATASIZE</th>\n",
       "      <th>LT</th>\n",
       "      <th>JUMPI</th>\n",
       "      <th>CALLDATALOAD</th>\n",
       "      <th>SWAP</th>\n",
       "      <th>...</th>\n",
       "      <th>MULMOD</th>\n",
       "      <th>DIFFICULTY</th>\n",
       "      <th>BALANCE</th>\n",
       "      <th>BASEFEE</th>\n",
       "      <th>SDIV</th>\n",
       "      <th>CALLCODE</th>\n",
       "      <th>SGT</th>\n",
       "      <th>EXTCODECOPY</th>\n",
       "      <th>SIGNEXTEND</th>\n",
       "      <th>DELEGATECALL</th>\n",
       "    </tr>\n",
       "    <tr>\n",
       "      <th>address</th>\n",
       "      <th></th>\n",
       "      <th></th>\n",
       "      <th></th>\n",
       "      <th></th>\n",
       "      <th></th>\n",
       "      <th></th>\n",
       "      <th></th>\n",
       "      <th></th>\n",
       "      <th></th>\n",
       "      <th></th>\n",
       "      <th></th>\n",
       "      <th></th>\n",
       "      <th></th>\n",
       "      <th></th>\n",
       "      <th></th>\n",
       "      <th></th>\n",
       "      <th></th>\n",
       "      <th></th>\n",
       "      <th></th>\n",
       "      <th></th>\n",
       "      <th></th>\n",
       "    </tr>\n",
       "  </thead>\n",
       "  <tbody>\n",
       "    <tr>\n",
       "      <th>0x93023f1d3525e273f291b6f76d2f5027a39bf302</th>\n",
       "      <td>1</td>\n",
       "      <td>0</td>\n",
       "      <td>1</td>\n",
       "      <td>734</td>\n",
       "      <td>119.0</td>\n",
       "      <td>14</td>\n",
       "      <td>9.0</td>\n",
       "      <td>67</td>\n",
       "      <td>8.0</td>\n",
       "      <td>187</td>\n",
       "      <td>...</td>\n",
       "      <td>0.0</td>\n",
       "      <td>0.0</td>\n",
       "      <td>0.0</td>\n",
       "      <td>0.0</td>\n",
       "      <td>0.0</td>\n",
       "      <td>0.0</td>\n",
       "      <td>0.0</td>\n",
       "      <td>0.0</td>\n",
       "      <td>0.0</td>\n",
       "      <td>0.0</td>\n",
       "    </tr>\n",
       "    <tr>\n",
       "      <th>0x2753dce37a7edb052a77832039bcc9aa49ad8b25</th>\n",
       "      <td>0</td>\n",
       "      <td>0</td>\n",
       "      <td>1</td>\n",
       "      <td>1155</td>\n",
       "      <td>179.0</td>\n",
       "      <td>23</td>\n",
       "      <td>13.0</td>\n",
       "      <td>101</td>\n",
       "      <td>7.0</td>\n",
       "      <td>264</td>\n",
       "      <td>...</td>\n",
       "      <td>0.0</td>\n",
       "      <td>0.0</td>\n",
       "      <td>0.0</td>\n",
       "      <td>0.0</td>\n",
       "      <td>0.0</td>\n",
       "      <td>0.0</td>\n",
       "      <td>0.0</td>\n",
       "      <td>0.0</td>\n",
       "      <td>0.0</td>\n",
       "      <td>0.0</td>\n",
       "    </tr>\n",
       "    <tr>\n",
       "      <th>0x94b7d24552933f50a5a5705c446528806dcea381</th>\n",
       "      <td>0</td>\n",
       "      <td>0</td>\n",
       "      <td>0</td>\n",
       "      <td>20</td>\n",
       "      <td>3.0</td>\n",
       "      <td>2</td>\n",
       "      <td>0.0</td>\n",
       "      <td>2</td>\n",
       "      <td>1.0</td>\n",
       "      <td>4</td>\n",
       "      <td>...</td>\n",
       "      <td>0.0</td>\n",
       "      <td>0.0</td>\n",
       "      <td>0.0</td>\n",
       "      <td>0.0</td>\n",
       "      <td>0.0</td>\n",
       "      <td>0.0</td>\n",
       "      <td>0.0</td>\n",
       "      <td>0.0</td>\n",
       "      <td>0.0</td>\n",
       "      <td>1.0</td>\n",
       "    </tr>\n",
       "    <tr>\n",
       "      <th>0xe0b9d4146aad6936cbfcbe4dae47e34aab96b093</th>\n",
       "      <td>0</td>\n",
       "      <td>0</td>\n",
       "      <td>0</td>\n",
       "      <td>1135</td>\n",
       "      <td>107.0</td>\n",
       "      <td>9</td>\n",
       "      <td>10.0</td>\n",
       "      <td>96</td>\n",
       "      <td>3.0</td>\n",
       "      <td>464</td>\n",
       "      <td>...</td>\n",
       "      <td>0.0</td>\n",
       "      <td>0.0</td>\n",
       "      <td>0.0</td>\n",
       "      <td>0.0</td>\n",
       "      <td>0.0</td>\n",
       "      <td>0.0</td>\n",
       "      <td>0.0</td>\n",
       "      <td>0.0</td>\n",
       "      <td>0.0</td>\n",
       "      <td>0.0</td>\n",
       "    </tr>\n",
       "    <tr>\n",
       "      <th>0x10f6f2b97f3ab29583d9d38babf2994df7220c21</th>\n",
       "      <td>1</td>\n",
       "      <td>0</td>\n",
       "      <td>1</td>\n",
       "      <td>1623</td>\n",
       "      <td>150.0</td>\n",
       "      <td>18</td>\n",
       "      <td>18.0</td>\n",
       "      <td>115</td>\n",
       "      <td>6.0</td>\n",
       "      <td>722</td>\n",
       "      <td>...</td>\n",
       "      <td>0.0</td>\n",
       "      <td>0.0</td>\n",
       "      <td>0.0</td>\n",
       "      <td>0.0</td>\n",
       "      <td>0.0</td>\n",
       "      <td>0.0</td>\n",
       "      <td>0.0</td>\n",
       "      <td>0.0</td>\n",
       "      <td>0.0</td>\n",
       "      <td>0.0</td>\n",
       "    </tr>\n",
       "  </tbody>\n",
       "</table>\n",
       "<p>5 rows × 81 columns</p>\n",
       "</div>"
      ],
      "text/plain": [
       "                                            mint  leak  limit  PUSH  MSTORE  \\\n",
       "address                                                                       \n",
       "0x93023f1d3525e273f291b6f76d2f5027a39bf302     1     0      1   734   119.0   \n",
       "0x2753dce37a7edb052a77832039bcc9aa49ad8b25     0     0      1  1155   179.0   \n",
       "0x94b7d24552933f50a5a5705c446528806dcea381     0     0      0    20     3.0   \n",
       "0xe0b9d4146aad6936cbfcbe4dae47e34aab96b093     0     0      0  1135   107.0   \n",
       "0x10f6f2b97f3ab29583d9d38babf2994df7220c21     1     0      1  1623   150.0   \n",
       "\n",
       "                                            CALLDATASIZE    LT  JUMPI  \\\n",
       "address                                                                 \n",
       "0x93023f1d3525e273f291b6f76d2f5027a39bf302            14   9.0     67   \n",
       "0x2753dce37a7edb052a77832039bcc9aa49ad8b25            23  13.0    101   \n",
       "0x94b7d24552933f50a5a5705c446528806dcea381             2   0.0      2   \n",
       "0xe0b9d4146aad6936cbfcbe4dae47e34aab96b093             9  10.0     96   \n",
       "0x10f6f2b97f3ab29583d9d38babf2994df7220c21            18  18.0    115   \n",
       "\n",
       "                                            CALLDATALOAD  SWAP  ...  MULMOD  \\\n",
       "address                                                         ...           \n",
       "0x93023f1d3525e273f291b6f76d2f5027a39bf302           8.0   187  ...     0.0   \n",
       "0x2753dce37a7edb052a77832039bcc9aa49ad8b25           7.0   264  ...     0.0   \n",
       "0x94b7d24552933f50a5a5705c446528806dcea381           1.0     4  ...     0.0   \n",
       "0xe0b9d4146aad6936cbfcbe4dae47e34aab96b093           3.0   464  ...     0.0   \n",
       "0x10f6f2b97f3ab29583d9d38babf2994df7220c21           6.0   722  ...     0.0   \n",
       "\n",
       "                                            DIFFICULTY  BALANCE  BASEFEE  \\\n",
       "address                                                                    \n",
       "0x93023f1d3525e273f291b6f76d2f5027a39bf302         0.0      0.0      0.0   \n",
       "0x2753dce37a7edb052a77832039bcc9aa49ad8b25         0.0      0.0      0.0   \n",
       "0x94b7d24552933f50a5a5705c446528806dcea381         0.0      0.0      0.0   \n",
       "0xe0b9d4146aad6936cbfcbe4dae47e34aab96b093         0.0      0.0      0.0   \n",
       "0x10f6f2b97f3ab29583d9d38babf2994df7220c21         0.0      0.0      0.0   \n",
       "\n",
       "                                            SDIV  CALLCODE  SGT  EXTCODECOPY  \\\n",
       "address                                                                        \n",
       "0x93023f1d3525e273f291b6f76d2f5027a39bf302   0.0       0.0  0.0          0.0   \n",
       "0x2753dce37a7edb052a77832039bcc9aa49ad8b25   0.0       0.0  0.0          0.0   \n",
       "0x94b7d24552933f50a5a5705c446528806dcea381   0.0       0.0  0.0          0.0   \n",
       "0xe0b9d4146aad6936cbfcbe4dae47e34aab96b093   0.0       0.0  0.0          0.0   \n",
       "0x10f6f2b97f3ab29583d9d38babf2994df7220c21   0.0       0.0  0.0          0.0   \n",
       "\n",
       "                                            SIGNEXTEND  DELEGATECALL  \n",
       "address                                                               \n",
       "0x93023f1d3525e273f291b6f76d2f5027a39bf302         0.0           0.0  \n",
       "0x2753dce37a7edb052a77832039bcc9aa49ad8b25         0.0           0.0  \n",
       "0x94b7d24552933f50a5a5705c446528806dcea381         0.0           1.0  \n",
       "0xe0b9d4146aad6936cbfcbe4dae47e34aab96b093         0.0           0.0  \n",
       "0x10f6f2b97f3ab29583d9d38babf2994df7220c21         0.0           0.0  \n",
       "\n",
       "[5 rows x 81 columns]"
      ]
     },
     "execution_count": 6,
     "metadata": {},
     "output_type": "execute_result"
    }
   ],
   "source": [
    "df.head()"
   ]
  },
  {
   "cell_type": "code",
   "execution_count": 7,
   "id": "bdc02200",
   "metadata": {},
   "outputs": [
    {
     "data": {
      "text/plain": [
       "['PUSH', 'MSTORE', 'CALLDATASIZE', 'LT', 'JUMPI']"
      ]
     },
     "execution_count": 7,
     "metadata": {},
     "output_type": "execute_result"
    }
   ],
   "source": [
    "features[:5]"
   ]
  },
  {
   "cell_type": "code",
   "execution_count": 8,
   "id": "1af91f6d",
   "metadata": {},
   "outputs": [
    {
     "data": {
      "text/plain": [
       "['mint', 'leak', 'limit']"
      ]
     },
     "execution_count": 8,
     "metadata": {},
     "output_type": "execute_result"
    }
   ],
   "source": [
    "labels[:5]"
   ]
  },
  {
   "cell_type": "markdown",
   "id": "5196a65d",
   "metadata": {},
   "source": [
    "## Prepare Features and Labels"
   ]
  },
  {
   "cell_type": "code",
   "execution_count": 9,
   "id": "c86f3267",
   "metadata": {},
   "outputs": [],
   "source": [
    "X = df[features]\n",
    "y_mint = df[['mint']]\n",
    "y_leak = df[['leak']]\n",
    "y_limit = df[['limit']]"
   ]
  },
  {
   "cell_type": "markdown",
   "id": "f3c7ea05",
   "metadata": {},
   "source": [
    "## Train/Test Split"
   ]
  },
  {
   "cell_type": "code",
   "execution_count": 10,
   "id": "72e9fa87",
   "metadata": {},
   "outputs": [],
   "source": [
    "X_mint_train, X_mint_test, y_mint_train, y_mint_test = train_test_split(\n",
    "    X, y_mint, test_size=0.2, random_state=42\n",
    ")\n",
    "\n",
    "X_leak_train, X_leak_test, y_leak_train, y_leak_test = train_test_split(\n",
    "    X, y_leak, test_size=0.2, random_state=42\n",
    ")\n",
    "\n",
    "X_limit_train, X_limit_test, y_limit_train, y_limit_test = train_test_split(\n",
    "    X, y_limit, test_size=0.2, random_state=42\n",
    ")"
   ]
  },
  {
   "cell_type": "markdown",
   "id": "3363d121",
   "metadata": {},
   "source": [
    "## Run all models and collect reports"
   ]
  },
  {
   "cell_type": "code",
   "execution_count": 11,
   "id": "0bd4e321",
   "metadata": {},
   "outputs": [],
   "source": [
    "def get_report_all_ml(X_train, y_train, X_test, y_test):\n",
    "    report_list = []\n",
    "\n",
    "    for name, model in models.items():\n",
    "        model.fit(X_train, y_train)\n",
    "        y_pred = model.predict(X_test)\n",
    "\n",
    "        # Generate classification report (as dict)\n",
    "        report_dict = classification_report(y_test, y_pred, output_dict=True, zero_division=0)\n",
    "\n",
    "        # Average scores across all labels (macro average)\n",
    "        avg_scores = report_dict[\"macro avg\"]\n",
    "\n",
    "        report_list.append({\n",
    "            \"Model\": name,\n",
    "            \"Precision\": avg_scores[\"precision\"],\n",
    "            \"Recall\": avg_scores[\"recall\"],\n",
    "            \"F1-score\": avg_scores[\"f1-score\"]\n",
    "        })\n",
    "\n",
    "    df_report = pd.DataFrame(report_list)\n",
    "    df_report = df_report.sort_values(\"F1-score\", ascending=False).reset_index(drop=True)\n",
    "\n",
    "    return df_report"
   ]
  },
  {
   "cell_type": "code",
   "execution_count": 12,
   "id": "533a5a55",
   "metadata": {},
   "outputs": [],
   "source": [
    "def display_cm(y_test, y_pred):\n",
    "    cm = confusion_matrix(y_test, y_pred)\n",
    "    cm_display = ConfusionMatrixDisplay(confusion_matrix = cm, display_labels = [0, 1])\n",
    "    return cm_display"
   ]
  },
  {
   "cell_type": "markdown",
   "id": "6da5e9be",
   "metadata": {},
   "source": [
    "## Show report"
   ]
  },
  {
   "cell_type": "code",
   "execution_count": 13,
   "id": "f85a888a",
   "metadata": {},
   "outputs": [
    {
     "name": "stdout",
     "output_type": "stream",
     "text": [
      "[LightGBM] [Info] Number of positive: 14, number of negative: 41\n",
      "[LightGBM] [Info] Auto-choosing col-wise multi-threading, the overhead of testing was 0.032100 seconds.\n",
      "You can set `force_col_wise=true` to remove the overhead.\n",
      "[LightGBM] [Info] Total Bins 634\n",
      "[LightGBM] [Info] Number of data points in the train set: 55, number of used features: 51\n",
      "[LightGBM] [Info] [binary:BoostFromScore]: pavg=0.254545 -> initscore=-1.074515\n",
      "[LightGBM] [Info] Start training from score -1.074515\n",
      "[LightGBM] [Warning] No further splits with positive gain, best gain: -inf\n",
      "[LightGBM] [Warning] No further splits with positive gain, best gain: -inf\n",
      "[LightGBM] [Warning] No further splits with positive gain, best gain: -inf\n",
      "[LightGBM] [Warning] No further splits with positive gain, best gain: -inf\n",
      "[LightGBM] [Warning] No further splits with positive gain, best gain: -inf\n",
      "[LightGBM] [Warning] No further splits with positive gain, best gain: -inf\n",
      "[LightGBM] [Warning] No further splits with positive gain, best gain: -inf\n",
      "[LightGBM] [Warning] No further splits with positive gain, best gain: -inf\n",
      "[LightGBM] [Warning] No further splits with positive gain, best gain: -inf\n",
      "[LightGBM] [Warning] No further splits with positive gain, best gain: -inf\n",
      "[LightGBM] [Warning] No further splits with positive gain, best gain: -inf\n",
      "[LightGBM] [Warning] No further splits with positive gain, best gain: -inf\n",
      "[LightGBM] [Warning] No further splits with positive gain, best gain: -inf\n",
      "[LightGBM] [Warning] No further splits with positive gain, best gain: -inf\n",
      "[LightGBM] [Warning] No further splits with positive gain, best gain: -inf\n",
      "[LightGBM] [Warning] No further splits with positive gain, best gain: -inf\n",
      "[LightGBM] [Warning] No further splits with positive gain, best gain: -inf\n",
      "[LightGBM] [Warning] No further splits with positive gain, best gain: -inf\n",
      "[LightGBM] [Warning] No further splits with positive gain, best gain: -inf\n",
      "[LightGBM] [Warning] No further splits with positive gain, best gain: -inf\n",
      "[LightGBM] [Warning] No further splits with positive gain, best gain: -inf\n",
      "[LightGBM] [Warning] No further splits with positive gain, best gain: -inf\n",
      "[LightGBM] [Warning] No further splits with positive gain, best gain: -inf\n",
      "[LightGBM] [Warning] No further splits with positive gain, best gain: -inf\n",
      "[LightGBM] [Warning] No further splits with positive gain, best gain: -inf\n",
      "[LightGBM] [Warning] No further splits with positive gain, best gain: -inf\n",
      "[LightGBM] [Warning] No further splits with positive gain, best gain: -inf\n",
      "[LightGBM] [Warning] No further splits with positive gain, best gain: -inf\n",
      "[LightGBM] [Warning] No further splits with positive gain, best gain: -inf\n",
      "[LightGBM] [Warning] No further splits with positive gain, best gain: -inf\n",
      "[LightGBM] [Warning] No further splits with positive gain, best gain: -inf\n",
      "[LightGBM] [Warning] No further splits with positive gain, best gain: -inf\n",
      "[LightGBM] [Warning] No further splits with positive gain, best gain: -inf\n",
      "[LightGBM] [Warning] No further splits with positive gain, best gain: -inf\n",
      "[LightGBM] [Warning] No further splits with positive gain, best gain: -inf\n",
      "[LightGBM] [Warning] No further splits with positive gain, best gain: -inf\n",
      "[LightGBM] [Warning] No further splits with positive gain, best gain: -inf\n",
      "[LightGBM] [Warning] No further splits with positive gain, best gain: -inf\n",
      "[LightGBM] [Warning] No further splits with positive gain, best gain: -inf\n",
      "[LightGBM] [Warning] No further splits with positive gain, best gain: -inf\n",
      "[LightGBM] [Warning] No further splits with positive gain, best gain: -inf\n",
      "[LightGBM] [Warning] No further splits with positive gain, best gain: -inf\n",
      "[LightGBM] [Warning] No further splits with positive gain, best gain: -inf\n",
      "[LightGBM] [Warning] No further splits with positive gain, best gain: -inf\n",
      "[LightGBM] [Warning] No further splits with positive gain, best gain: -inf\n",
      "[LightGBM] [Warning] No further splits with positive gain, best gain: -inf\n",
      "[LightGBM] [Warning] No further splits with positive gain, best gain: -inf\n",
      "[LightGBM] [Warning] No further splits with positive gain, best gain: -inf\n",
      "[LightGBM] [Warning] No further splits with positive gain, best gain: -inf\n",
      "[LightGBM] [Warning] No further splits with positive gain, best gain: -inf\n",
      "[LightGBM] [Warning] No further splits with positive gain, best gain: -inf\n",
      "[LightGBM] [Warning] No further splits with positive gain, best gain: -inf\n",
      "[LightGBM] [Warning] No further splits with positive gain, best gain: -inf\n",
      "[LightGBM] [Warning] No further splits with positive gain, best gain: -inf\n",
      "[LightGBM] [Warning] No further splits with positive gain, best gain: -inf\n",
      "[LightGBM] [Warning] No further splits with positive gain, best gain: -inf\n",
      "[LightGBM] [Warning] No further splits with positive gain, best gain: -inf\n",
      "[LightGBM] [Warning] No further splits with positive gain, best gain: -inf\n",
      "[LightGBM] [Warning] No further splits with positive gain, best gain: -inf\n",
      "[LightGBM] [Warning] No further splits with positive gain, best gain: -inf\n",
      "[LightGBM] [Warning] No further splits with positive gain, best gain: -inf\n",
      "[LightGBM] [Warning] No further splits with positive gain, best gain: -inf\n",
      "[LightGBM] [Warning] No further splits with positive gain, best gain: -inf\n",
      "[LightGBM] [Warning] No further splits with positive gain, best gain: -inf\n",
      "[LightGBM] [Warning] No further splits with positive gain, best gain: -inf\n",
      "[LightGBM] [Warning] No further splits with positive gain, best gain: -inf\n",
      "[LightGBM] [Warning] No further splits with positive gain, best gain: -inf\n",
      "[LightGBM] [Warning] No further splits with positive gain, best gain: -inf\n",
      "[LightGBM] [Warning] No further splits with positive gain, best gain: -inf\n",
      "[LightGBM] [Warning] No further splits with positive gain, best gain: -inf\n",
      "[LightGBM] [Warning] No further splits with positive gain, best gain: -inf\n",
      "[LightGBM] [Warning] No further splits with positive gain, best gain: -inf\n",
      "[LightGBM] [Warning] No further splits with positive gain, best gain: -inf\n",
      "[LightGBM] [Warning] No further splits with positive gain, best gain: -inf\n",
      "[LightGBM] [Warning] No further splits with positive gain, best gain: -inf\n",
      "[LightGBM] [Warning] No further splits with positive gain, best gain: -inf\n",
      "[LightGBM] [Warning] No further splits with positive gain, best gain: -inf\n",
      "[LightGBM] [Warning] No further splits with positive gain, best gain: -inf\n",
      "[LightGBM] [Warning] No further splits with positive gain, best gain: -inf\n",
      "[LightGBM] [Warning] No further splits with positive gain, best gain: -inf\n",
      "[LightGBM] [Warning] No further splits with positive gain, best gain: -inf\n",
      "[LightGBM] [Warning] No further splits with positive gain, best gain: -inf\n",
      "[LightGBM] [Warning] No further splits with positive gain, best gain: -inf\n",
      "[LightGBM] [Warning] No further splits with positive gain, best gain: -inf\n",
      "[LightGBM] [Warning] No further splits with positive gain, best gain: -inf\n",
      "[LightGBM] [Warning] No further splits with positive gain, best gain: -inf\n",
      "[LightGBM] [Warning] No further splits with positive gain, best gain: -inf\n",
      "[LightGBM] [Warning] No further splits with positive gain, best gain: -inf\n",
      "[LightGBM] [Warning] No further splits with positive gain, best gain: -inf\n",
      "[LightGBM] [Warning] No further splits with positive gain, best gain: -inf\n",
      "[LightGBM] [Warning] No further splits with positive gain, best gain: -inf\n",
      "[LightGBM] [Warning] No further splits with positive gain, best gain: -inf\n",
      "[LightGBM] [Warning] No further splits with positive gain, best gain: -inf\n",
      "[LightGBM] [Warning] No further splits with positive gain, best gain: -inf\n",
      "[LightGBM] [Warning] No further splits with positive gain, best gain: -inf\n",
      "[LightGBM] [Warning] No further splits with positive gain, best gain: -inf\n",
      "[LightGBM] [Warning] No further splits with positive gain, best gain: -inf\n",
      "[LightGBM] [Warning] No further splits with positive gain, best gain: -inf\n",
      "[LightGBM] [Warning] No further splits with positive gain, best gain: -inf\n",
      "[LightGBM] [Warning] No further splits with positive gain, best gain: -inf\n",
      "[LightGBM] [Info] Number of positive: 6, number of negative: 49\n",
      "[LightGBM] [Info] Auto-choosing row-wise multi-threading, the overhead of testing was 0.000021 seconds.\n",
      "You can set `force_row_wise=true` to remove the overhead.\n",
      "And if memory is not enough, you can set `force_col_wise=true`.\n",
      "[LightGBM] [Info] Total Bins 634\n",
      "[LightGBM] [Info] Number of data points in the train set: 55, number of used features: 51\n",
      "[LightGBM] [Info] [binary:BoostFromScore]: pavg=0.109091 -> initscore=-2.100061\n",
      "[LightGBM] [Info] Start training from score -2.100061\n",
      "[LightGBM] [Warning] No further splits with positive gain, best gain: -inf\n",
      "[LightGBM] [Warning] No further splits with positive gain, best gain: -inf\n",
      "[LightGBM] [Warning] No further splits with positive gain, best gain: -inf\n",
      "[LightGBM] [Warning] No further splits with positive gain, best gain: -inf\n",
      "[LightGBM] [Warning] No further splits with positive gain, best gain: -inf\n",
      "[LightGBM] [Warning] No further splits with positive gain, best gain: -inf\n",
      "[LightGBM] [Warning] No further splits with positive gain, best gain: -inf\n",
      "[LightGBM] [Warning] No further splits with positive gain, best gain: -inf\n",
      "[LightGBM] [Warning] No further splits with positive gain, best gain: -inf\n",
      "[LightGBM] [Warning] No further splits with positive gain, best gain: -inf\n",
      "[LightGBM] [Warning] No further splits with positive gain, best gain: -inf\n",
      "[LightGBM] [Warning] No further splits with positive gain, best gain: -inf\n",
      "[LightGBM] [Warning] No further splits with positive gain, best gain: -inf\n",
      "[LightGBM] [Warning] No further splits with positive gain, best gain: -inf\n",
      "[LightGBM] [Warning] No further splits with positive gain, best gain: -inf\n",
      "[LightGBM] [Warning] No further splits with positive gain, best gain: -inf\n",
      "[LightGBM] [Warning] No further splits with positive gain, best gain: -inf\n",
      "[LightGBM] [Warning] No further splits with positive gain, best gain: -inf\n",
      "[LightGBM] [Warning] No further splits with positive gain, best gain: -inf\n",
      "[LightGBM] [Warning] No further splits with positive gain, best gain: -inf\n",
      "[LightGBM] [Warning] No further splits with positive gain, best gain: -inf\n",
      "[LightGBM] [Warning] No further splits with positive gain, best gain: -inf\n",
      "[LightGBM] [Warning] No further splits with positive gain, best gain: -inf\n",
      "[LightGBM] [Warning] No further splits with positive gain, best gain: -inf\n",
      "[LightGBM] [Warning] No further splits with positive gain, best gain: -inf\n",
      "[LightGBM] [Warning] No further splits with positive gain, best gain: -inf\n",
      "[LightGBM] [Warning] No further splits with positive gain, best gain: -inf\n",
      "[LightGBM] [Warning] No further splits with positive gain, best gain: -inf\n",
      "[LightGBM] [Warning] No further splits with positive gain, best gain: -inf\n",
      "[LightGBM] [Warning] No further splits with positive gain, best gain: -inf\n",
      "[LightGBM] [Warning] No further splits with positive gain, best gain: -inf\n",
      "[LightGBM] [Warning] No further splits with positive gain, best gain: -inf\n",
      "[LightGBM] [Warning] No further splits with positive gain, best gain: -inf\n",
      "[LightGBM] [Warning] No further splits with positive gain, best gain: -inf\n",
      "[LightGBM] [Warning] No further splits with positive gain, best gain: -inf\n",
      "[LightGBM] [Warning] No further splits with positive gain, best gain: -inf\n",
      "[LightGBM] [Warning] No further splits with positive gain, best gain: -inf\n",
      "[LightGBM] [Warning] No further splits with positive gain, best gain: -inf\n",
      "[LightGBM] [Warning] No further splits with positive gain, best gain: -inf\n",
      "[LightGBM] [Warning] No further splits with positive gain, best gain: -inf\n",
      "[LightGBM] [Warning] No further splits with positive gain, best gain: -inf\n",
      "[LightGBM] [Warning] No further splits with positive gain, best gain: -inf\n",
      "[LightGBM] [Warning] No further splits with positive gain, best gain: -inf\n",
      "[LightGBM] [Warning] No further splits with positive gain, best gain: -inf\n",
      "[LightGBM] [Warning] No further splits with positive gain, best gain: -inf\n",
      "[LightGBM] [Warning] No further splits with positive gain, best gain: -inf\n",
      "[LightGBM] [Warning] No further splits with positive gain, best gain: -inf\n",
      "[LightGBM] [Warning] No further splits with positive gain, best gain: -inf\n",
      "[LightGBM] [Warning] No further splits with positive gain, best gain: -inf\n",
      "[LightGBM] [Warning] No further splits with positive gain, best gain: -inf\n",
      "[LightGBM] [Warning] No further splits with positive gain, best gain: -inf\n",
      "[LightGBM] [Warning] No further splits with positive gain, best gain: -inf\n",
      "[LightGBM] [Warning] No further splits with positive gain, best gain: -inf\n",
      "[LightGBM] [Warning] No further splits with positive gain, best gain: -inf\n",
      "[LightGBM] [Warning] No further splits with positive gain, best gain: -inf\n",
      "[LightGBM] [Warning] No further splits with positive gain, best gain: -inf\n",
      "[LightGBM] [Warning] No further splits with positive gain, best gain: -inf\n",
      "[LightGBM] [Warning] No further splits with positive gain, best gain: -inf\n",
      "[LightGBM] [Warning] No further splits with positive gain, best gain: -inf\n",
      "[LightGBM] [Warning] No further splits with positive gain, best gain: -inf\n",
      "[LightGBM] [Warning] No further splits with positive gain, best gain: -inf\n",
      "[LightGBM] [Warning] No further splits with positive gain, best gain: -inf\n",
      "[LightGBM] [Warning] No further splits with positive gain, best gain: -inf\n",
      "[LightGBM] [Warning] No further splits with positive gain, best gain: -inf\n",
      "[LightGBM] [Warning] No further splits with positive gain, best gain: -inf\n",
      "[LightGBM] [Warning] No further splits with positive gain, best gain: -inf\n",
      "[LightGBM] [Warning] No further splits with positive gain, best gain: -inf\n",
      "[LightGBM] [Warning] No further splits with positive gain, best gain: -inf\n",
      "[LightGBM] [Warning] No further splits with positive gain, best gain: -inf\n",
      "[LightGBM] [Warning] No further splits with positive gain, best gain: -inf\n",
      "[LightGBM] [Warning] No further splits with positive gain, best gain: -inf\n",
      "[LightGBM] [Warning] No further splits with positive gain, best gain: -inf\n",
      "[LightGBM] [Warning] No further splits with positive gain, best gain: -inf\n",
      "[LightGBM] [Warning] No further splits with positive gain, best gain: -inf\n",
      "[LightGBM] [Warning] No further splits with positive gain, best gain: -inf\n",
      "[LightGBM] [Warning] No further splits with positive gain, best gain: -inf\n",
      "[LightGBM] [Warning] No further splits with positive gain, best gain: -inf\n",
      "[LightGBM] [Warning] No further splits with positive gain, best gain: -inf\n",
      "[LightGBM] [Warning] No further splits with positive gain, best gain: -inf\n",
      "[LightGBM] [Warning] No further splits with positive gain, best gain: -inf\n",
      "[LightGBM] [Warning] No further splits with positive gain, best gain: -inf\n",
      "[LightGBM] [Warning] No further splits with positive gain, best gain: -inf\n",
      "[LightGBM] [Warning] No further splits with positive gain, best gain: -inf\n",
      "[LightGBM] [Warning] No further splits with positive gain, best gain: -inf\n",
      "[LightGBM] [Warning] No further splits with positive gain, best gain: -inf\n",
      "[LightGBM] [Warning] No further splits with positive gain, best gain: -inf\n",
      "[LightGBM] [Warning] No further splits with positive gain, best gain: -inf\n",
      "[LightGBM] [Warning] No further splits with positive gain, best gain: -inf\n",
      "[LightGBM] [Warning] No further splits with positive gain, best gain: -inf\n",
      "[LightGBM] [Warning] No further splits with positive gain, best gain: -inf\n",
      "[LightGBM] [Warning] No further splits with positive gain, best gain: -inf\n",
      "[LightGBM] [Warning] No further splits with positive gain, best gain: -inf\n",
      "[LightGBM] [Warning] No further splits with positive gain, best gain: -inf\n",
      "[LightGBM] [Warning] No further splits with positive gain, best gain: -inf\n",
      "[LightGBM] [Warning] No further splits with positive gain, best gain: -inf\n",
      "[LightGBM] [Warning] No further splits with positive gain, best gain: -inf\n",
      "[LightGBM] [Warning] No further splits with positive gain, best gain: -inf\n",
      "[LightGBM] [Warning] No further splits with positive gain, best gain: -inf\n",
      "[LightGBM] [Warning] No further splits with positive gain, best gain: -inf\n",
      "[LightGBM] [Warning] No further splits with positive gain, best gain: -inf\n",
      "[LightGBM] [Info] Number of positive: 21, number of negative: 34\n",
      "[LightGBM] [Info] Auto-choosing row-wise multi-threading, the overhead of testing was 0.000029 seconds.\n",
      "You can set `force_row_wise=true` to remove the overhead.\n",
      "And if memory is not enough, you can set `force_col_wise=true`.\n",
      "[LightGBM] [Info] Total Bins 634\n",
      "[LightGBM] [Info] Number of data points in the train set: 55, number of used features: 51\n",
      "[LightGBM] [Info] [binary:BoostFromScore]: pavg=0.381818 -> initscore=-0.481838\n",
      "[LightGBM] [Info] Start training from score -0.481838\n",
      "[LightGBM] [Warning] No further splits with positive gain, best gain: -inf\n",
      "[LightGBM] [Warning] No further splits with positive gain, best gain: -inf\n",
      "[LightGBM] [Warning] No further splits with positive gain, best gain: -inf\n",
      "[LightGBM] [Warning] No further splits with positive gain, best gain: -inf\n",
      "[LightGBM] [Warning] No further splits with positive gain, best gain: -inf\n",
      "[LightGBM] [Warning] No further splits with positive gain, best gain: -inf\n",
      "[LightGBM] [Warning] No further splits with positive gain, best gain: -inf\n",
      "[LightGBM] [Warning] No further splits with positive gain, best gain: -inf\n",
      "[LightGBM] [Warning] No further splits with positive gain, best gain: -inf\n",
      "[LightGBM] [Warning] No further splits with positive gain, best gain: -inf\n",
      "[LightGBM] [Warning] No further splits with positive gain, best gain: -inf\n",
      "[LightGBM] [Warning] No further splits with positive gain, best gain: -inf\n",
      "[LightGBM] [Warning] No further splits with positive gain, best gain: -inf\n",
      "[LightGBM] [Warning] No further splits with positive gain, best gain: -inf\n",
      "[LightGBM] [Warning] No further splits with positive gain, best gain: -inf\n",
      "[LightGBM] [Warning] No further splits with positive gain, best gain: -inf\n",
      "[LightGBM] [Warning] No further splits with positive gain, best gain: -inf\n",
      "[LightGBM] [Warning] No further splits with positive gain, best gain: -inf\n",
      "[LightGBM] [Warning] No further splits with positive gain, best gain: -inf\n",
      "[LightGBM] [Warning] No further splits with positive gain, best gain: -inf\n",
      "[LightGBM] [Warning] No further splits with positive gain, best gain: -inf\n",
      "[LightGBM] [Warning] No further splits with positive gain, best gain: -inf\n",
      "[LightGBM] [Warning] No further splits with positive gain, best gain: -inf\n",
      "[LightGBM] [Warning] No further splits with positive gain, best gain: -inf\n",
      "[LightGBM] [Warning] No further splits with positive gain, best gain: -inf\n",
      "[LightGBM] [Warning] No further splits with positive gain, best gain: -inf\n",
      "[LightGBM] [Warning] No further splits with positive gain, best gain: -inf\n",
      "[LightGBM] [Warning] No further splits with positive gain, best gain: -inf\n",
      "[LightGBM] [Warning] No further splits with positive gain, best gain: -inf\n",
      "[LightGBM] [Warning] No further splits with positive gain, best gain: -inf\n",
      "[LightGBM] [Warning] No further splits with positive gain, best gain: -inf\n",
      "[LightGBM] [Warning] No further splits with positive gain, best gain: -inf\n",
      "[LightGBM] [Warning] No further splits with positive gain, best gain: -inf\n",
      "[LightGBM] [Warning] No further splits with positive gain, best gain: -inf\n",
      "[LightGBM] [Warning] No further splits with positive gain, best gain: -inf\n",
      "[LightGBM] [Warning] No further splits with positive gain, best gain: -inf\n",
      "[LightGBM] [Warning] No further splits with positive gain, best gain: -inf\n",
      "[LightGBM] [Warning] No further splits with positive gain, best gain: -inf\n",
      "[LightGBM] [Warning] No further splits with positive gain, best gain: -inf\n",
      "[LightGBM] [Warning] No further splits with positive gain, best gain: -inf\n",
      "[LightGBM] [Warning] No further splits with positive gain, best gain: -inf\n",
      "[LightGBM] [Warning] No further splits with positive gain, best gain: -inf\n",
      "[LightGBM] [Warning] No further splits with positive gain, best gain: -inf\n",
      "[LightGBM] [Warning] No further splits with positive gain, best gain: -inf\n",
      "[LightGBM] [Warning] No further splits with positive gain, best gain: -inf\n",
      "[LightGBM] [Warning] No further splits with positive gain, best gain: -inf\n",
      "[LightGBM] [Warning] No further splits with positive gain, best gain: -inf\n",
      "[LightGBM] [Warning] No further splits with positive gain, best gain: -inf\n",
      "[LightGBM] [Warning] No further splits with positive gain, best gain: -inf\n",
      "[LightGBM] [Warning] No further splits with positive gain, best gain: -inf\n",
      "[LightGBM] [Warning] No further splits with positive gain, best gain: -inf\n",
      "[LightGBM] [Warning] No further splits with positive gain, best gain: -inf\n",
      "[LightGBM] [Warning] No further splits with positive gain, best gain: -inf\n",
      "[LightGBM] [Warning] No further splits with positive gain, best gain: -inf\n",
      "[LightGBM] [Warning] No further splits with positive gain, best gain: -inf\n",
      "[LightGBM] [Warning] No further splits with positive gain, best gain: -inf\n",
      "[LightGBM] [Warning] No further splits with positive gain, best gain: -inf\n",
      "[LightGBM] [Warning] No further splits with positive gain, best gain: -inf\n",
      "[LightGBM] [Warning] No further splits with positive gain, best gain: -inf\n",
      "[LightGBM] [Warning] No further splits with positive gain, best gain: -inf\n",
      "[LightGBM] [Warning] No further splits with positive gain, best gain: -inf\n",
      "[LightGBM] [Warning] No further splits with positive gain, best gain: -inf\n",
      "[LightGBM] [Warning] No further splits with positive gain, best gain: -inf\n",
      "[LightGBM] [Warning] No further splits with positive gain, best gain: -inf\n",
      "[LightGBM] [Warning] No further splits with positive gain, best gain: -inf\n",
      "[LightGBM] [Warning] No further splits with positive gain, best gain: -inf\n",
      "[LightGBM] [Warning] No further splits with positive gain, best gain: -inf\n",
      "[LightGBM] [Warning] No further splits with positive gain, best gain: -inf\n",
      "[LightGBM] [Warning] No further splits with positive gain, best gain: -inf\n",
      "[LightGBM] [Warning] No further splits with positive gain, best gain: -inf\n",
      "[LightGBM] [Warning] No further splits with positive gain, best gain: -inf\n",
      "[LightGBM] [Warning] No further splits with positive gain, best gain: -inf\n",
      "[LightGBM] [Warning] No further splits with positive gain, best gain: -inf\n",
      "[LightGBM] [Warning] No further splits with positive gain, best gain: -inf\n",
      "[LightGBM] [Warning] No further splits with positive gain, best gain: -inf\n",
      "[LightGBM] [Warning] No further splits with positive gain, best gain: -inf\n",
      "[LightGBM] [Warning] No further splits with positive gain, best gain: -inf\n",
      "[LightGBM] [Warning] No further splits with positive gain, best gain: -inf\n",
      "[LightGBM] [Warning] No further splits with positive gain, best gain: -inf\n",
      "[LightGBM] [Warning] No further splits with positive gain, best gain: -inf\n",
      "[LightGBM] [Warning] No further splits with positive gain, best gain: -inf\n",
      "[LightGBM] [Warning] No further splits with positive gain, best gain: -inf\n",
      "[LightGBM] [Warning] No further splits with positive gain, best gain: -inf\n",
      "[LightGBM] [Warning] No further splits with positive gain, best gain: -inf\n",
      "[LightGBM] [Warning] No further splits with positive gain, best gain: -inf\n",
      "[LightGBM] [Warning] No further splits with positive gain, best gain: -inf\n",
      "[LightGBM] [Warning] No further splits with positive gain, best gain: -inf\n",
      "[LightGBM] [Warning] No further splits with positive gain, best gain: -inf\n",
      "[LightGBM] [Warning] No further splits with positive gain, best gain: -inf\n",
      "[LightGBM] [Warning] No further splits with positive gain, best gain: -inf\n",
      "[LightGBM] [Warning] No further splits with positive gain, best gain: -inf\n",
      "[LightGBM] [Warning] No further splits with positive gain, best gain: -inf\n",
      "[LightGBM] [Warning] No further splits with positive gain, best gain: -inf\n",
      "[LightGBM] [Warning] No further splits with positive gain, best gain: -inf\n",
      "[LightGBM] [Warning] No further splits with positive gain, best gain: -inf\n",
      "[LightGBM] [Warning] No further splits with positive gain, best gain: -inf\n",
      "[LightGBM] [Warning] No further splits with positive gain, best gain: -inf\n",
      "[LightGBM] [Warning] No further splits with positive gain, best gain: -inf\n",
      "[LightGBM] [Warning] No further splits with positive gain, best gain: -inf\n",
      "[LightGBM] [Warning] No further splits with positive gain, best gain: -inf\n"
     ]
    }
   ],
   "source": [
    "data = {\n",
    "  'mint': {\n",
    "    \"X_train\": X_mint_train,\n",
    "    \"X_test\": X_mint_test,\n",
    "    \"y_train\": y_mint_train,\n",
    "    \"y_test\": y_mint_test\n",
    "  },\n",
    "  'leak': {\n",
    "    \"X_train\": X_leak_train,\n",
    "    \"X_test\": X_leak_test,\n",
    "    \"y_train\": y_leak_train,\n",
    "    \"y_test\": y_leak_test\n",
    "  },\n",
    "  'limit': {\n",
    "    \"X_train\": X_limit_train,\n",
    "    \"X_test\": X_limit_test,\n",
    "    \"y_train\": y_limit_train,\n",
    "    \"y_test\": y_limit_test\n",
    "  }\n",
    "}\n",
    "\n",
    "reports = []\n",
    "\n",
    "for d in data.values():\n",
    "    X_train = d['X_train']\n",
    "    X_test = d['X_test']\n",
    "    y_train = d['y_train']\n",
    "    y_test = d['y_test']\n",
    "    df_report = get_report_all_ml(X_train, y_train, X_test, y_test)\n",
    "    reports.append(df_report)"
   ]
  },
  {
   "cell_type": "code",
   "execution_count": 14,
   "id": "94771c09",
   "metadata": {},
   "outputs": [
    {
     "data": {
      "application/vnd.microsoft.datawrangler.viewer.v0+json": {
       "columns": [
        {
         "name": "index",
         "rawType": "int64",
         "type": "integer"
        },
        {
         "name": "Model",
         "rawType": "object",
         "type": "string"
        },
        {
         "name": "Precision",
         "rawType": "float64",
         "type": "float"
        },
        {
         "name": "Recall",
         "rawType": "float64",
         "type": "float"
        },
        {
         "name": "F1-score",
         "rawType": "float64",
         "type": "float"
        }
       ],
       "ref": "5b4b0b86-f873-413d-8f51-2f435e13d778",
       "rows": [
        [
         "0",
         "KNeighborsClassifier()",
         "0.8636363636363636",
         "0.75",
         "0.7543859649122806"
        ],
        [
         "1",
         "DecisionTreeClassifier()",
         "0.8333333333333333",
         "0.6666666666666666",
         "0.65"
        ],
        [
         "2",
         "LGBMClassifier()",
         "0.8333333333333333",
         "0.6666666666666666",
         "0.65"
        ],
        [
         "3",
         "AdaBoostClassifier()",
         "0.8333333333333333",
         "0.6666666666666666",
         "0.65"
        ],
        [
         "4",
         "SGDClassifier()",
         "0.6333333333333333",
         "0.625",
         "0.625668449197861"
        ],
        [
         "5",
         "RandomForestClassifier()",
         "0.8076923076923077",
         "0.5833333333333334",
         "0.5238095238095237"
        ],
        [
         "6",
         "MLPClassifier()",
         "0.8076923076923077",
         "0.5833333333333334",
         "0.5238095238095237"
        ],
        [
         "7",
         "ExtraTreesClassifier()",
         "0.8076923076923077",
         "0.5833333333333334",
         "0.5238095238095237"
        ],
        [
         "8",
         "XGBClassifier()",
         "0.8076923076923077",
         "0.5833333333333334",
         "0.5238095238095237"
        ],
        [
         "9",
         "GaussianNB()",
         "0.5",
         "0.5",
         "0.49743589743589745"
        ],
        [
         "10",
         "LogisticRegression()",
         "0.5416666666666667",
         "0.5208333333333334",
         "0.475"
        ],
        [
         "11",
         "SVC()",
         "0.2857142857142857",
         "0.5",
         "0.36363636363636365"
        ]
       ],
       "shape": {
        "columns": 4,
        "rows": 12
       }
      },
      "text/html": [
       "<div>\n",
       "<style scoped>\n",
       "    .dataframe tbody tr th:only-of-type {\n",
       "        vertical-align: middle;\n",
       "    }\n",
       "\n",
       "    .dataframe tbody tr th {\n",
       "        vertical-align: top;\n",
       "    }\n",
       "\n",
       "    .dataframe thead th {\n",
       "        text-align: right;\n",
       "    }\n",
       "</style>\n",
       "<table border=\"1\" class=\"dataframe\">\n",
       "  <thead>\n",
       "    <tr style=\"text-align: right;\">\n",
       "      <th></th>\n",
       "      <th>Model</th>\n",
       "      <th>Precision</th>\n",
       "      <th>Recall</th>\n",
       "      <th>F1-score</th>\n",
       "    </tr>\n",
       "  </thead>\n",
       "  <tbody>\n",
       "    <tr>\n",
       "      <th>0</th>\n",
       "      <td>KNeighborsClassifier()</td>\n",
       "      <td>0.863636</td>\n",
       "      <td>0.750000</td>\n",
       "      <td>0.754386</td>\n",
       "    </tr>\n",
       "    <tr>\n",
       "      <th>1</th>\n",
       "      <td>DecisionTreeClassifier()</td>\n",
       "      <td>0.833333</td>\n",
       "      <td>0.666667</td>\n",
       "      <td>0.650000</td>\n",
       "    </tr>\n",
       "    <tr>\n",
       "      <th>2</th>\n",
       "      <td>LGBMClassifier()</td>\n",
       "      <td>0.833333</td>\n",
       "      <td>0.666667</td>\n",
       "      <td>0.650000</td>\n",
       "    </tr>\n",
       "    <tr>\n",
       "      <th>3</th>\n",
       "      <td>AdaBoostClassifier()</td>\n",
       "      <td>0.833333</td>\n",
       "      <td>0.666667</td>\n",
       "      <td>0.650000</td>\n",
       "    </tr>\n",
       "    <tr>\n",
       "      <th>4</th>\n",
       "      <td>SGDClassifier()</td>\n",
       "      <td>0.633333</td>\n",
       "      <td>0.625000</td>\n",
       "      <td>0.625668</td>\n",
       "    </tr>\n",
       "    <tr>\n",
       "      <th>5</th>\n",
       "      <td>RandomForestClassifier()</td>\n",
       "      <td>0.807692</td>\n",
       "      <td>0.583333</td>\n",
       "      <td>0.523810</td>\n",
       "    </tr>\n",
       "    <tr>\n",
       "      <th>6</th>\n",
       "      <td>MLPClassifier()</td>\n",
       "      <td>0.807692</td>\n",
       "      <td>0.583333</td>\n",
       "      <td>0.523810</td>\n",
       "    </tr>\n",
       "    <tr>\n",
       "      <th>7</th>\n",
       "      <td>ExtraTreesClassifier()</td>\n",
       "      <td>0.807692</td>\n",
       "      <td>0.583333</td>\n",
       "      <td>0.523810</td>\n",
       "    </tr>\n",
       "    <tr>\n",
       "      <th>8</th>\n",
       "      <td>XGBClassifier()</td>\n",
       "      <td>0.807692</td>\n",
       "      <td>0.583333</td>\n",
       "      <td>0.523810</td>\n",
       "    </tr>\n",
       "    <tr>\n",
       "      <th>9</th>\n",
       "      <td>GaussianNB()</td>\n",
       "      <td>0.500000</td>\n",
       "      <td>0.500000</td>\n",
       "      <td>0.497436</td>\n",
       "    </tr>\n",
       "    <tr>\n",
       "      <th>10</th>\n",
       "      <td>LogisticRegression()</td>\n",
       "      <td>0.541667</td>\n",
       "      <td>0.520833</td>\n",
       "      <td>0.475000</td>\n",
       "    </tr>\n",
       "    <tr>\n",
       "      <th>11</th>\n",
       "      <td>SVC()</td>\n",
       "      <td>0.285714</td>\n",
       "      <td>0.500000</td>\n",
       "      <td>0.363636</td>\n",
       "    </tr>\n",
       "  </tbody>\n",
       "</table>\n",
       "</div>"
      ],
      "text/plain": [
       "                       Model  Precision    Recall  F1-score\n",
       "0     KNeighborsClassifier()   0.863636  0.750000  0.754386\n",
       "1   DecisionTreeClassifier()   0.833333  0.666667  0.650000\n",
       "2           LGBMClassifier()   0.833333  0.666667  0.650000\n",
       "3       AdaBoostClassifier()   0.833333  0.666667  0.650000\n",
       "4            SGDClassifier()   0.633333  0.625000  0.625668\n",
       "5   RandomForestClassifier()   0.807692  0.583333  0.523810\n",
       "6            MLPClassifier()   0.807692  0.583333  0.523810\n",
       "7     ExtraTreesClassifier()   0.807692  0.583333  0.523810\n",
       "8            XGBClassifier()   0.807692  0.583333  0.523810\n",
       "9               GaussianNB()   0.500000  0.500000  0.497436\n",
       "10      LogisticRegression()   0.541667  0.520833  0.475000\n",
       "11                     SVC()   0.285714  0.500000  0.363636"
      ]
     },
     "execution_count": 14,
     "metadata": {},
     "output_type": "execute_result"
    }
   ],
   "source": [
    "reports[0]"
   ]
  },
  {
   "cell_type": "code",
   "execution_count": 15,
   "id": "39f5059a",
   "metadata": {},
   "outputs": [
    {
     "data": {
      "application/vnd.microsoft.datawrangler.viewer.v0+json": {
       "columns": [
        {
         "name": "index",
         "rawType": "int64",
         "type": "integer"
        },
        {
         "name": "Model",
         "rawType": "object",
         "type": "string"
        },
        {
         "name": "Precision",
         "rawType": "float64",
         "type": "float"
        },
        {
         "name": "Recall",
         "rawType": "float64",
         "type": "float"
        },
        {
         "name": "F1-score",
         "rawType": "float64",
         "type": "float"
        }
       ],
       "ref": "82b5adcd-ff9a-4e63-97e4-8634ae882b79",
       "rows": [
        [
         "0",
         "KNeighborsClassifier()",
         "0.9230769230769231",
         "0.6666666666666666",
         "0.7083333333333333"
        ],
        [
         "1",
         "AdaBoostClassifier()",
         "0.6666666666666667",
         "0.6212121212121212",
         "0.6347826086956522"
        ],
        [
         "2",
         "GaussianNB()",
         "0.48888888888888893",
         "0.48484848484848486",
         "0.475"
        ],
        [
         "3",
         "RandomForestClassifier()",
         "0.39285714285714285",
         "0.5",
         "0.44"
        ],
        [
         "4",
         "SGDClassifier()",
         "0.39285714285714285",
         "0.5",
         "0.44"
        ],
        [
         "5",
         "LGBMClassifier()",
         "0.39285714285714285",
         "0.5",
         "0.44"
        ],
        [
         "6",
         "SVC()",
         "0.39285714285714285",
         "0.5",
         "0.44"
        ],
        [
         "7",
         "DecisionTreeClassifier()",
         "0.38461538461538464",
         "0.45454545454545453",
         "0.4166666666666667"
        ],
        [
         "8",
         "LogisticRegression()",
         "0.38461538461538464",
         "0.45454545454545453",
         "0.4166666666666667"
        ],
        [
         "9",
         "XGBClassifier()",
         "0.38461538461538464",
         "0.45454545454545453",
         "0.4166666666666667"
        ],
        [
         "10",
         "ExtraTreesClassifier()",
         "0.38461538461538464",
         "0.45454545454545453",
         "0.4166666666666667"
        ],
        [
         "11",
         "MLPClassifier()",
         "0.36363636363636365",
         "0.36363636363636365",
         "0.36363636363636365"
        ]
       ],
       "shape": {
        "columns": 4,
        "rows": 12
       }
      },
      "text/html": [
       "<div>\n",
       "<style scoped>\n",
       "    .dataframe tbody tr th:only-of-type {\n",
       "        vertical-align: middle;\n",
       "    }\n",
       "\n",
       "    .dataframe tbody tr th {\n",
       "        vertical-align: top;\n",
       "    }\n",
       "\n",
       "    .dataframe thead th {\n",
       "        text-align: right;\n",
       "    }\n",
       "</style>\n",
       "<table border=\"1\" class=\"dataframe\">\n",
       "  <thead>\n",
       "    <tr style=\"text-align: right;\">\n",
       "      <th></th>\n",
       "      <th>Model</th>\n",
       "      <th>Precision</th>\n",
       "      <th>Recall</th>\n",
       "      <th>F1-score</th>\n",
       "    </tr>\n",
       "  </thead>\n",
       "  <tbody>\n",
       "    <tr>\n",
       "      <th>0</th>\n",
       "      <td>KNeighborsClassifier()</td>\n",
       "      <td>0.923077</td>\n",
       "      <td>0.666667</td>\n",
       "      <td>0.708333</td>\n",
       "    </tr>\n",
       "    <tr>\n",
       "      <th>1</th>\n",
       "      <td>AdaBoostClassifier()</td>\n",
       "      <td>0.666667</td>\n",
       "      <td>0.621212</td>\n",
       "      <td>0.634783</td>\n",
       "    </tr>\n",
       "    <tr>\n",
       "      <th>2</th>\n",
       "      <td>GaussianNB()</td>\n",
       "      <td>0.488889</td>\n",
       "      <td>0.484848</td>\n",
       "      <td>0.475000</td>\n",
       "    </tr>\n",
       "    <tr>\n",
       "      <th>3</th>\n",
       "      <td>RandomForestClassifier()</td>\n",
       "      <td>0.392857</td>\n",
       "      <td>0.500000</td>\n",
       "      <td>0.440000</td>\n",
       "    </tr>\n",
       "    <tr>\n",
       "      <th>4</th>\n",
       "      <td>SGDClassifier()</td>\n",
       "      <td>0.392857</td>\n",
       "      <td>0.500000</td>\n",
       "      <td>0.440000</td>\n",
       "    </tr>\n",
       "    <tr>\n",
       "      <th>5</th>\n",
       "      <td>LGBMClassifier()</td>\n",
       "      <td>0.392857</td>\n",
       "      <td>0.500000</td>\n",
       "      <td>0.440000</td>\n",
       "    </tr>\n",
       "    <tr>\n",
       "      <th>6</th>\n",
       "      <td>SVC()</td>\n",
       "      <td>0.392857</td>\n",
       "      <td>0.500000</td>\n",
       "      <td>0.440000</td>\n",
       "    </tr>\n",
       "    <tr>\n",
       "      <th>7</th>\n",
       "      <td>DecisionTreeClassifier()</td>\n",
       "      <td>0.384615</td>\n",
       "      <td>0.454545</td>\n",
       "      <td>0.416667</td>\n",
       "    </tr>\n",
       "    <tr>\n",
       "      <th>8</th>\n",
       "      <td>LogisticRegression()</td>\n",
       "      <td>0.384615</td>\n",
       "      <td>0.454545</td>\n",
       "      <td>0.416667</td>\n",
       "    </tr>\n",
       "    <tr>\n",
       "      <th>9</th>\n",
       "      <td>XGBClassifier()</td>\n",
       "      <td>0.384615</td>\n",
       "      <td>0.454545</td>\n",
       "      <td>0.416667</td>\n",
       "    </tr>\n",
       "    <tr>\n",
       "      <th>10</th>\n",
       "      <td>ExtraTreesClassifier()</td>\n",
       "      <td>0.384615</td>\n",
       "      <td>0.454545</td>\n",
       "      <td>0.416667</td>\n",
       "    </tr>\n",
       "    <tr>\n",
       "      <th>11</th>\n",
       "      <td>MLPClassifier()</td>\n",
       "      <td>0.363636</td>\n",
       "      <td>0.363636</td>\n",
       "      <td>0.363636</td>\n",
       "    </tr>\n",
       "  </tbody>\n",
       "</table>\n",
       "</div>"
      ],
      "text/plain": [
       "                       Model  Precision    Recall  F1-score\n",
       "0     KNeighborsClassifier()   0.923077  0.666667  0.708333\n",
       "1       AdaBoostClassifier()   0.666667  0.621212  0.634783\n",
       "2               GaussianNB()   0.488889  0.484848  0.475000\n",
       "3   RandomForestClassifier()   0.392857  0.500000  0.440000\n",
       "4            SGDClassifier()   0.392857  0.500000  0.440000\n",
       "5           LGBMClassifier()   0.392857  0.500000  0.440000\n",
       "6                      SVC()   0.392857  0.500000  0.440000\n",
       "7   DecisionTreeClassifier()   0.384615  0.454545  0.416667\n",
       "8       LogisticRegression()   0.384615  0.454545  0.416667\n",
       "9            XGBClassifier()   0.384615  0.454545  0.416667\n",
       "10    ExtraTreesClassifier()   0.384615  0.454545  0.416667\n",
       "11           MLPClassifier()   0.363636  0.363636  0.363636"
      ]
     },
     "execution_count": 15,
     "metadata": {},
     "output_type": "execute_result"
    }
   ],
   "source": [
    "reports[1]"
   ]
  },
  {
   "cell_type": "code",
   "execution_count": 16,
   "id": "bee627d0",
   "metadata": {},
   "outputs": [
    {
     "data": {
      "application/vnd.microsoft.datawrangler.viewer.v0+json": {
       "columns": [
        {
         "name": "index",
         "rawType": "int64",
         "type": "integer"
        },
        {
         "name": "Model",
         "rawType": "object",
         "type": "string"
        },
        {
         "name": "Precision",
         "rawType": "float64",
         "type": "float"
        },
        {
         "name": "Recall",
         "rawType": "float64",
         "type": "float"
        },
        {
         "name": "F1-score",
         "rawType": "float64",
         "type": "float"
        }
       ],
       "ref": "fbae157c-d96c-4ec1-93bb-83b47aca479c",
       "rows": [
        [
         "0",
         "LogisticRegression()",
         "0.6666666666666667",
         "0.6777777777777778",
         "0.641025641025641"
        ],
        [
         "1",
         "DecisionTreeClassifier()",
         "0.6666666666666667",
         "0.6777777777777778",
         "0.641025641025641"
        ],
        [
         "2",
         "MLPClassifier()",
         "0.6",
         "0.5888888888888889",
         "0.5906432748538011"
        ],
        [
         "3",
         "RandomForestClassifier()",
         "0.5714285714285714",
         "0.5777777777777777",
         "0.5625"
        ],
        [
         "4",
         "LGBMClassifier()",
         "0.5714285714285714",
         "0.5777777777777777",
         "0.5625"
        ],
        [
         "5",
         "ExtraTreesClassifier()",
         "0.5714285714285714",
         "0.5777777777777777",
         "0.5625"
        ],
        [
         "6",
         "XGBClassifier()",
         "0.5714285714285714",
         "0.5777777777777777",
         "0.5625"
        ],
        [
         "7",
         "AdaBoostClassifier()",
         "0.5208333333333333",
         "0.5222222222222221",
         "0.49743589743589745"
        ],
        [
         "8",
         "GaussianNB()",
         "0.48484848484848486",
         "0.48888888888888893",
         "0.475"
        ],
        [
         "9",
         "KNeighborsClassifier()",
         "0.425",
         "0.43333333333333335",
         "0.4269005847953216"
        ],
        [
         "10",
         "SVC()",
         "0.17857142857142858",
         "0.5",
         "0.2631578947368421"
        ],
        [
         "11",
         "SGDClassifier()",
         "0.17857142857142858",
         "0.5",
         "0.2631578947368421"
        ]
       ],
       "shape": {
        "columns": 4,
        "rows": 12
       }
      },
      "text/html": [
       "<div>\n",
       "<style scoped>\n",
       "    .dataframe tbody tr th:only-of-type {\n",
       "        vertical-align: middle;\n",
       "    }\n",
       "\n",
       "    .dataframe tbody tr th {\n",
       "        vertical-align: top;\n",
       "    }\n",
       "\n",
       "    .dataframe thead th {\n",
       "        text-align: right;\n",
       "    }\n",
       "</style>\n",
       "<table border=\"1\" class=\"dataframe\">\n",
       "  <thead>\n",
       "    <tr style=\"text-align: right;\">\n",
       "      <th></th>\n",
       "      <th>Model</th>\n",
       "      <th>Precision</th>\n",
       "      <th>Recall</th>\n",
       "      <th>F1-score</th>\n",
       "    </tr>\n",
       "  </thead>\n",
       "  <tbody>\n",
       "    <tr>\n",
       "      <th>0</th>\n",
       "      <td>LogisticRegression()</td>\n",
       "      <td>0.666667</td>\n",
       "      <td>0.677778</td>\n",
       "      <td>0.641026</td>\n",
       "    </tr>\n",
       "    <tr>\n",
       "      <th>1</th>\n",
       "      <td>DecisionTreeClassifier()</td>\n",
       "      <td>0.666667</td>\n",
       "      <td>0.677778</td>\n",
       "      <td>0.641026</td>\n",
       "    </tr>\n",
       "    <tr>\n",
       "      <th>2</th>\n",
       "      <td>MLPClassifier()</td>\n",
       "      <td>0.600000</td>\n",
       "      <td>0.588889</td>\n",
       "      <td>0.590643</td>\n",
       "    </tr>\n",
       "    <tr>\n",
       "      <th>3</th>\n",
       "      <td>RandomForestClassifier()</td>\n",
       "      <td>0.571429</td>\n",
       "      <td>0.577778</td>\n",
       "      <td>0.562500</td>\n",
       "    </tr>\n",
       "    <tr>\n",
       "      <th>4</th>\n",
       "      <td>LGBMClassifier()</td>\n",
       "      <td>0.571429</td>\n",
       "      <td>0.577778</td>\n",
       "      <td>0.562500</td>\n",
       "    </tr>\n",
       "    <tr>\n",
       "      <th>5</th>\n",
       "      <td>ExtraTreesClassifier()</td>\n",
       "      <td>0.571429</td>\n",
       "      <td>0.577778</td>\n",
       "      <td>0.562500</td>\n",
       "    </tr>\n",
       "    <tr>\n",
       "      <th>6</th>\n",
       "      <td>XGBClassifier()</td>\n",
       "      <td>0.571429</td>\n",
       "      <td>0.577778</td>\n",
       "      <td>0.562500</td>\n",
       "    </tr>\n",
       "    <tr>\n",
       "      <th>7</th>\n",
       "      <td>AdaBoostClassifier()</td>\n",
       "      <td>0.520833</td>\n",
       "      <td>0.522222</td>\n",
       "      <td>0.497436</td>\n",
       "    </tr>\n",
       "    <tr>\n",
       "      <th>8</th>\n",
       "      <td>GaussianNB()</td>\n",
       "      <td>0.484848</td>\n",
       "      <td>0.488889</td>\n",
       "      <td>0.475000</td>\n",
       "    </tr>\n",
       "    <tr>\n",
       "      <th>9</th>\n",
       "      <td>KNeighborsClassifier()</td>\n",
       "      <td>0.425000</td>\n",
       "      <td>0.433333</td>\n",
       "      <td>0.426901</td>\n",
       "    </tr>\n",
       "    <tr>\n",
       "      <th>10</th>\n",
       "      <td>SVC()</td>\n",
       "      <td>0.178571</td>\n",
       "      <td>0.500000</td>\n",
       "      <td>0.263158</td>\n",
       "    </tr>\n",
       "    <tr>\n",
       "      <th>11</th>\n",
       "      <td>SGDClassifier()</td>\n",
       "      <td>0.178571</td>\n",
       "      <td>0.500000</td>\n",
       "      <td>0.263158</td>\n",
       "    </tr>\n",
       "  </tbody>\n",
       "</table>\n",
       "</div>"
      ],
      "text/plain": [
       "                       Model  Precision    Recall  F1-score\n",
       "0       LogisticRegression()   0.666667  0.677778  0.641026\n",
       "1   DecisionTreeClassifier()   0.666667  0.677778  0.641026\n",
       "2            MLPClassifier()   0.600000  0.588889  0.590643\n",
       "3   RandomForestClassifier()   0.571429  0.577778  0.562500\n",
       "4           LGBMClassifier()   0.571429  0.577778  0.562500\n",
       "5     ExtraTreesClassifier()   0.571429  0.577778  0.562500\n",
       "6            XGBClassifier()   0.571429  0.577778  0.562500\n",
       "7       AdaBoostClassifier()   0.520833  0.522222  0.497436\n",
       "8               GaussianNB()   0.484848  0.488889  0.475000\n",
       "9     KNeighborsClassifier()   0.425000  0.433333  0.426901\n",
       "10                     SVC()   0.178571  0.500000  0.263158\n",
       "11           SGDClassifier()   0.178571  0.500000  0.263158"
      ]
     },
     "execution_count": 16,
     "metadata": {},
     "output_type": "execute_result"
    }
   ],
   "source": [
    "reports[2]"
   ]
  },
  {
   "cell_type": "markdown",
   "id": "426892a1",
   "metadata": {},
   "source": [
    "## MLP"
   ]
  },
  {
   "cell_type": "markdown",
   "id": "b2416eca",
   "metadata": {},
   "source": [
    "### Build model"
   ]
  },
  {
   "cell_type": "code",
   "execution_count": 17,
   "id": "51b7fee6",
   "metadata": {},
   "outputs": [
    {
     "name": "stderr",
     "output_type": "stream",
     "text": [
      "2025-07-15 15:12:35.046451: I tensorflow/core/platform/cpu_feature_guard.cc:210] This TensorFlow binary is optimized to use available CPU instructions in performance-critical operations.\n",
      "To enable the following instructions: AVX2 AVX512F AVX512_VNNI FMA, in other operations, rebuild TensorFlow with the appropriate compiler flags.\n"
     ]
    }
   ],
   "source": [
    "from tensorflow.keras.models import Sequential\n",
    "from tensorflow.keras.layers import Dense, Dropout, BatchNormalization, LeakyReLU, Input\n",
    "from tensorflow.keras.optimizers import Adam\n",
    "from tensorflow.keras import regularizers\n",
    "from tensorflow.keras.callbacks import EarlyStopping, ReduceLROnPlateau\n",
    "from tensorflow.keras.losses import MeanSquaredError"
   ]
  },
  {
   "cell_type": "code",
   "execution_count": 18,
   "id": "e66b524b",
   "metadata": {},
   "outputs": [],
   "source": [
    "def Model(input_dim, output_dim):\n",
    "    model = Sequential([\n",
    "        Input(shape=(input_dim,)),\n",
    "        Dense(512, kernel_regularizer=regularizers.l1_l2(1e-6)),\n",
    "        BatchNormalization(),\n",
    "        LeakyReLU(0.01),\n",
    "        Dropout(0.4),\n",
    "\n",
    "        Dense(256, kernel_regularizer=regularizers.l1_l2(1e-6)),\n",
    "        BatchNormalization(),\n",
    "        LeakyReLU(0.01),\n",
    "        Dropout(0.3),\n",
    "\n",
    "        Dense(128, kernel_regularizer=regularizers.l1_l2(1e-6)),\n",
    "        BatchNormalization(),\n",
    "        LeakyReLU(0.01),\n",
    "        Dropout(0.2),\n",
    "\n",
    "        Dense(output_dim, activation='sigmoid')  # sigmoid for multi-label\n",
    "    ])\n",
    "\n",
    "    model.compile(\n",
    "        loss='binary_crossentropy',\n",
    "        optimizer=Adam(learning_rate=1e-6),\n",
    "        metrics=['accuracy']\n",
    "    )\n",
    "    return model"
   ]
  },
  {
   "cell_type": "code",
   "execution_count": 19,
   "id": "616ec7c5",
   "metadata": {},
   "outputs": [],
   "source": [
    "model = Model(input_dim=X.shape[1], output_dim=1)"
   ]
  },
  {
   "cell_type": "markdown",
   "id": "7a1508d3",
   "metadata": {},
   "source": [
    "### Train"
   ]
  },
  {
   "cell_type": "code",
   "execution_count": 20,
   "id": "a70b5a4d",
   "metadata": {},
   "outputs": [
    {
     "name": "stdout",
     "output_type": "stream",
     "text": [
      "Epoch 1/100\n"
     ]
    },
    {
     "name": "stdout",
     "output_type": "stream",
     "text": [
      "\u001b[1m2/2\u001b[0m \u001b[32m━━━━━━━━━━━━━━━━━━━━\u001b[0m\u001b[37m\u001b[0m \u001b[1m3s\u001b[0m 315ms/step - accuracy: 0.5814 - loss: 0.6456 - val_accuracy: 0.8182 - val_loss: 5.4778 - learning_rate: 1.0000e-06\n",
      "Epoch 2/100\n",
      "\u001b[1m2/2\u001b[0m \u001b[32m━━━━━━━━━━━━━━━━━━━━\u001b[0m\u001b[37m\u001b[0m \u001b[1m0s\u001b[0m 205ms/step - accuracy: 0.6430 - loss: 0.6085 - val_accuracy: 0.8182 - val_loss: 3.5613 - learning_rate: 1.0000e-06\n",
      "Epoch 3/100\n",
      "\u001b[1m2/2\u001b[0m \u001b[32m━━━━━━━━━━━━━━━━━━━━\u001b[0m\u001b[37m\u001b[0m \u001b[1m0s\u001b[0m 91ms/step - accuracy: 0.5104 - loss: 0.6894 - val_accuracy: 0.8182 - val_loss: 2.8427 - learning_rate: 1.0000e-06\n",
      "Epoch 4/100\n",
      "\u001b[1m2/2\u001b[0m \u001b[32m━━━━━━━━━━━━━━━━━━━━\u001b[0m\u001b[37m\u001b[0m \u001b[1m0s\u001b[0m 69ms/step - accuracy: 0.7348 - loss: 0.5716 - val_accuracy: 0.8182 - val_loss: 2.5228 - learning_rate: 1.0000e-06\n",
      "Epoch 5/100\n",
      "\u001b[1m2/2\u001b[0m \u001b[32m━━━━━━━━━━━━━━━━━━━━\u001b[0m\u001b[37m\u001b[0m \u001b[1m0s\u001b[0m 71ms/step - accuracy: 0.6733 - loss: 0.6700 - val_accuracy: 0.8182 - val_loss: 2.3000 - learning_rate: 1.0000e-06\n",
      "Epoch 6/100\n",
      "\u001b[1m2/2\u001b[0m \u001b[32m━━━━━━━━━━━━━━━━━━━━\u001b[0m\u001b[37m\u001b[0m \u001b[1m0s\u001b[0m 102ms/step - accuracy: 0.6222 - loss: 0.6059 - val_accuracy: 0.8182 - val_loss: 2.1305 - learning_rate: 1.0000e-06\n",
      "Epoch 7/100\n",
      "\u001b[1m2/2\u001b[0m \u001b[32m━━━━━━━━━━━━━━━━━━━━\u001b[0m\u001b[37m\u001b[0m \u001b[1m0s\u001b[0m 73ms/step - accuracy: 0.6733 - loss: 0.6053 - val_accuracy: 0.8182 - val_loss: 1.9901 - learning_rate: 1.0000e-06\n",
      "Epoch 8/100\n",
      "\u001b[1m2/2\u001b[0m \u001b[32m━━━━━━━━━━━━━━━━━━━━\u001b[0m\u001b[37m\u001b[0m \u001b[1m0s\u001b[0m 69ms/step - accuracy: 0.6932 - loss: 0.6212 - val_accuracy: 0.8182 - val_loss: 1.9000 - learning_rate: 1.0000e-06\n",
      "Epoch 9/100\n",
      "\u001b[1m2/2\u001b[0m \u001b[32m━━━━━━━━━━━━━━━━━━━━\u001b[0m\u001b[37m\u001b[0m \u001b[1m0s\u001b[0m 197ms/step - accuracy: 0.6686 - loss: 0.5726 - val_accuracy: 0.8182 - val_loss: 1.7600 - learning_rate: 1.0000e-06\n",
      "Epoch 10/100\n",
      "\u001b[1m2/2\u001b[0m \u001b[32m━━━━━━━━━━━━━━━━━━━━\u001b[0m\u001b[37m\u001b[0m \u001b[1m0s\u001b[0m 77ms/step - accuracy: 0.6686 - loss: 0.6386 - val_accuracy: 0.8182 - val_loss: 1.6845 - learning_rate: 1.0000e-06\n",
      "Epoch 11/100\n",
      "\u001b[1m2/2\u001b[0m \u001b[32m━━━━━━━━━━━━━━━━━━━━\u001b[0m\u001b[37m\u001b[0m \u001b[1m0s\u001b[0m 67ms/step - accuracy: 0.6686 - loss: 0.6281 - val_accuracy: 0.8182 - val_loss: 1.6178 - learning_rate: 1.0000e-06\n",
      "Epoch 12/100\n",
      "\u001b[1m2/2\u001b[0m \u001b[32m━━━━━━━━━━━━━━━━━━━━\u001b[0m\u001b[37m\u001b[0m \u001b[1m0s\u001b[0m 69ms/step - accuracy: 0.6581 - loss: 0.6805 - val_accuracy: 0.8182 - val_loss: 1.5627 - learning_rate: 1.0000e-06\n",
      "Epoch 13/100\n",
      "\u001b[1m2/2\u001b[0m \u001b[32m━━━━━━━━━━━━━━━━━━━━\u001b[0m\u001b[37m\u001b[0m \u001b[1m0s\u001b[0m 172ms/step - accuracy: 0.6686 - loss: 0.6333 - val_accuracy: 0.8182 - val_loss: 1.4839 - learning_rate: 1.0000e-06\n",
      "Epoch 14/100\n",
      "\u001b[1m2/2\u001b[0m \u001b[32m━━━━━━━━━━━━━━━━━━━━\u001b[0m\u001b[37m\u001b[0m \u001b[1m0s\u001b[0m 71ms/step - accuracy: 0.6127 - loss: 0.6228 - val_accuracy: 0.8182 - val_loss: 1.4480 - learning_rate: 1.0000e-06\n",
      "Epoch 15/100\n",
      "\u001b[1m2/2\u001b[0m \u001b[32m━━━━━━━━━━━━━━━━━━━━\u001b[0m\u001b[37m\u001b[0m \u001b[1m0s\u001b[0m 69ms/step - accuracy: 0.7244 - loss: 0.5231 - val_accuracy: 0.8182 - val_loss: 1.4101 - learning_rate: 1.0000e-06\n",
      "Epoch 16/100\n",
      "\u001b[1m2/2\u001b[0m \u001b[32m━━━━━━━━━━━━━━━━━━━━\u001b[0m\u001b[37m\u001b[0m \u001b[1m0s\u001b[0m 68ms/step - accuracy: 0.7292 - loss: 0.5838 - val_accuracy: 0.8182 - val_loss: 1.3533 - learning_rate: 1.0000e-06\n",
      "Epoch 17/100\n",
      "\u001b[1m2/2\u001b[0m \u001b[32m━━━━━━━━━━━━━━━━━━━━\u001b[0m\u001b[37m\u001b[0m \u001b[1m0s\u001b[0m 108ms/step - accuracy: 0.6222 - loss: 0.5867 - val_accuracy: 0.8182 - val_loss: 1.3218 - learning_rate: 1.0000e-06\n",
      "Epoch 18/100\n",
      "\u001b[1m2/2\u001b[0m \u001b[32m━━━━━━━━━━━━━━━━━━━━\u001b[0m\u001b[37m\u001b[0m \u001b[1m0s\u001b[0m 69ms/step - accuracy: 0.6733 - loss: 0.6363 - val_accuracy: 0.8182 - val_loss: 1.2992 - learning_rate: 1.0000e-06\n",
      "Epoch 19/100\n",
      "\u001b[1m2/2\u001b[0m \u001b[32m━━━━━━━━━━━━━━━━━━━━\u001b[0m\u001b[37m\u001b[0m \u001b[1m0s\u001b[0m 67ms/step - accuracy: 0.6477 - loss: 0.5888 - val_accuracy: 0.8182 - val_loss: 1.2756 - learning_rate: 1.0000e-06\n",
      "Epoch 20/100\n",
      "\u001b[1m2/2\u001b[0m \u001b[32m━━━━━━━━━━━━━━━━━━━━\u001b[0m\u001b[37m\u001b[0m \u001b[1m0s\u001b[0m 136ms/step - accuracy: 0.6989 - loss: 0.5912 - val_accuracy: 0.8182 - val_loss: 1.2486 - learning_rate: 1.0000e-06\n",
      "Epoch 21/100\n",
      "\u001b[1m2/2\u001b[0m \u001b[32m━━━━━━━━━━━━━━━━━━━━\u001b[0m\u001b[37m\u001b[0m \u001b[1m0s\u001b[0m 70ms/step - accuracy: 0.6742 - loss: 0.6194 - val_accuracy: 0.7273 - val_loss: 1.2278 - learning_rate: 1.0000e-06\n",
      "Epoch 22/100\n",
      "\u001b[1m2/2\u001b[0m \u001b[32m━━━━━━━━━━━━━━━━━━━━\u001b[0m\u001b[37m\u001b[0m \u001b[1m0s\u001b[0m 67ms/step - accuracy: 0.6989 - loss: 0.5882 - val_accuracy: 0.7273 - val_loss: 1.1938 - learning_rate: 1.0000e-06\n",
      "Epoch 23/100\n",
      "\u001b[1m2/2\u001b[0m \u001b[32m━━━━━━━━━━━━━━━━━━━━\u001b[0m\u001b[37m\u001b[0m \u001b[1m0s\u001b[0m 197ms/step - accuracy: 0.5559 - loss: 0.7124 - val_accuracy: 0.7273 - val_loss: 1.1744 - learning_rate: 1.0000e-06\n",
      "Epoch 24/100\n",
      "\u001b[1m2/2\u001b[0m \u001b[32m━━━━━━━━━━━━━━━━━━━━\u001b[0m\u001b[37m\u001b[0m \u001b[1m0s\u001b[0m 70ms/step - accuracy: 0.7396 - loss: 0.5818 - val_accuracy: 0.7273 - val_loss: 1.1600 - learning_rate: 1.0000e-06\n",
      "Epoch 25/100\n",
      "\u001b[1m2/2\u001b[0m \u001b[32m━━━━━━━━━━━━━━━━━━━━\u001b[0m\u001b[37m\u001b[0m \u001b[1m0s\u001b[0m 75ms/step - accuracy: 0.6278 - loss: 0.6297 - val_accuracy: 0.7273 - val_loss: 1.1458 - learning_rate: 1.0000e-06\n",
      "Epoch 26/100\n",
      "\u001b[1m2/2\u001b[0m \u001b[32m━━━━━━━━━━━━━━━━━━━━\u001b[0m\u001b[37m\u001b[0m \u001b[1m0s\u001b[0m 71ms/step - accuracy: 0.7244 - loss: 0.5164 - val_accuracy: 0.7273 - val_loss: 1.1285 - learning_rate: 1.0000e-06\n",
      "Epoch 27/100\n",
      "\u001b[1m2/2\u001b[0m \u001b[32m━━━━━━━━━━━━━━━━━━━━\u001b[0m\u001b[37m\u001b[0m \u001b[1m0s\u001b[0m 278ms/step - accuracy: 0.7197 - loss: 0.5516 - val_accuracy: 0.7273 - val_loss: 1.1171 - learning_rate: 1.0000e-06\n",
      "Epoch 28/100\n",
      "\u001b[1m2/2\u001b[0m \u001b[32m━━━━━━━━━━━━━━━━━━━━\u001b[0m\u001b[37m\u001b[0m \u001b[1m0s\u001b[0m 68ms/step - accuracy: 0.6686 - loss: 0.5509 - val_accuracy: 0.7273 - val_loss: 1.1055 - learning_rate: 1.0000e-06\n",
      "Epoch 29/100\n",
      "\u001b[1m2/2\u001b[0m \u001b[32m━━━━━━━━━━━━━━━━━━━━\u001b[0m\u001b[37m\u001b[0m \u001b[1m0s\u001b[0m 69ms/step - accuracy: 0.6174 - loss: 0.6474 - val_accuracy: 0.7273 - val_loss: 1.0937 - learning_rate: 1.0000e-06\n",
      "Epoch 30/100\n",
      "\u001b[1m2/2\u001b[0m \u001b[32m━━━━━━━━━━━━━━━━━━━━\u001b[0m\u001b[37m\u001b[0m \u001b[1m0s\u001b[0m 340ms/step - accuracy: 0.5000 - loss: 0.7794 - val_accuracy: 0.7273 - val_loss: 1.0827 - learning_rate: 1.0000e-06\n",
      "Epoch 31/100\n",
      "\u001b[1m2/2\u001b[0m \u001b[32m━━━━━━━━━━━━━━━━━━━━\u001b[0m\u001b[37m\u001b[0m \u001b[1m0s\u001b[0m 99ms/step - accuracy: 0.6326 - loss: 0.6398 - val_accuracy: 0.7273 - val_loss: 1.0730 - learning_rate: 1.0000e-06\n",
      "Epoch 32/100\n",
      "\u001b[1m2/2\u001b[0m \u001b[32m━━━━━━━━━━━━━━━━━━━━\u001b[0m\u001b[37m\u001b[0m \u001b[1m0s\u001b[0m 72ms/step - accuracy: 0.5152 - loss: 0.6857 - val_accuracy: 0.7273 - val_loss: 1.0541 - learning_rate: 1.0000e-06\n",
      "Epoch 33/100\n",
      "\u001b[1m2/2\u001b[0m \u001b[32m━━━━━━━━━━━━━━━━━━━━\u001b[0m\u001b[37m\u001b[0m \u001b[1m0s\u001b[0m 69ms/step - accuracy: 0.5616 - loss: 0.6383 - val_accuracy: 0.7273 - val_loss: 1.0453 - learning_rate: 1.0000e-06\n",
      "Epoch 34/100\n",
      "\u001b[1m2/2\u001b[0m \u001b[32m━━━━━━━━━━━━━━━━━━━━\u001b[0m\u001b[37m\u001b[0m \u001b[1m0s\u001b[0m 69ms/step - accuracy: 0.5767 - loss: 0.6610 - val_accuracy: 0.7273 - val_loss: 1.0371 - learning_rate: 1.0000e-06\n",
      "Epoch 35/100\n",
      "\u001b[1m2/2\u001b[0m \u001b[32m━━━━━━━━━━━━━━━━━━━━\u001b[0m\u001b[37m\u001b[0m \u001b[1m0s\u001b[0m 111ms/step - accuracy: 0.7244 - loss: 0.5380 - val_accuracy: 0.7273 - val_loss: 1.0250 - learning_rate: 1.0000e-06\n",
      "Epoch 36/100\n",
      "\u001b[1m2/2\u001b[0m \u001b[32m━━━━━━━━━━━━━━━━━━━━\u001b[0m\u001b[37m\u001b[0m \u001b[1m0s\u001b[0m 80ms/step - accuracy: 0.5303 - loss: 0.6654 - val_accuracy: 0.7273 - val_loss: 1.0187 - learning_rate: 1.0000e-06\n",
      "Epoch 37/100\n",
      "\u001b[1m2/2\u001b[0m \u001b[32m━━━━━━━━━━━━━━━━━━━━\u001b[0m\u001b[37m\u001b[0m \u001b[1m0s\u001b[0m 74ms/step - accuracy: 0.6581 - loss: 0.5864 - val_accuracy: 0.7273 - val_loss: 1.0112 - learning_rate: 1.0000e-06\n",
      "Epoch 38/100\n",
      "\u001b[1m2/2\u001b[0m \u001b[32m━━━━━━━━━━━━━━━━━━━━\u001b[0m\u001b[37m\u001b[0m \u001b[1m0s\u001b[0m 68ms/step - accuracy: 0.6174 - loss: 0.6452 - val_accuracy: 0.7273 - val_loss: 1.0045 - learning_rate: 1.0000e-06\n",
      "Epoch 39/100\n",
      "\u001b[1m2/2\u001b[0m \u001b[32m━━━━━━━━━━━━━━━━━━━━\u001b[0m\u001b[37m\u001b[0m \u001b[1m0s\u001b[0m 69ms/step - accuracy: 0.6581 - loss: 0.6280 - val_accuracy: 0.7273 - val_loss: 0.9962 - learning_rate: 1.0000e-06\n",
      "Epoch 40/100\n",
      "\u001b[1m2/2\u001b[0m \u001b[32m━━━━━━━━━━━━━━━━━━━━\u001b[0m\u001b[37m\u001b[0m \u001b[1m0s\u001b[0m 72ms/step - accuracy: 0.5000 - loss: 0.6936 - val_accuracy: 0.7273 - val_loss: 0.9904 - learning_rate: 1.0000e-06\n",
      "Epoch 41/100\n",
      "\u001b[1m2/2\u001b[0m \u001b[32m━━━━━━━━━━━━━━━━━━━━\u001b[0m\u001b[37m\u001b[0m \u001b[1m0s\u001b[0m 70ms/step - accuracy: 0.6733 - loss: 0.5688 - val_accuracy: 0.7273 - val_loss: 0.9865 - learning_rate: 1.0000e-06\n",
      "Epoch 42/100\n",
      "\u001b[1m2/2\u001b[0m \u001b[32m━━━━━━━━━━━━━━━━━━━━\u001b[0m\u001b[37m\u001b[0m \u001b[1m0s\u001b[0m 71ms/step - accuracy: 0.5814 - loss: 0.6531 - val_accuracy: 0.7273 - val_loss: 0.9831 - learning_rate: 1.0000e-06\n",
      "Epoch 43/100\n",
      "\u001b[1m2/2\u001b[0m \u001b[32m━━━━━━━━━━━━━━━━━━━━\u001b[0m\u001b[37m\u001b[0m \u001b[1m0s\u001b[0m 160ms/step - accuracy: 0.5814 - loss: 0.7065 - val_accuracy: 0.7273 - val_loss: 0.9750 - learning_rate: 1.0000e-06\n",
      "Epoch 44/100\n",
      "\u001b[1m2/2\u001b[0m \u001b[32m━━━━━━━━━━━━━━━━━━━━\u001b[0m\u001b[37m\u001b[0m \u001b[1m0s\u001b[0m 84ms/step - accuracy: 0.6686 - loss: 0.5646 - val_accuracy: 0.7273 - val_loss: 0.9699 - learning_rate: 1.0000e-06\n",
      "Epoch 45/100\n",
      "\u001b[1m2/2\u001b[0m \u001b[32m━━━━━━━━━━━━━━━━━━━━\u001b[0m\u001b[37m\u001b[0m \u001b[1m0s\u001b[0m 72ms/step - accuracy: 0.6174 - loss: 0.6415 - val_accuracy: 0.7273 - val_loss: 0.9630 - learning_rate: 1.0000e-06\n",
      "Epoch 46/100\n",
      "\u001b[1m2/2\u001b[0m \u001b[32m━━━━━━━━━━━━━━━━━━━━\u001b[0m\u001b[37m\u001b[0m \u001b[1m0s\u001b[0m 71ms/step - accuracy: 0.5303 - loss: 0.6627 - val_accuracy: 0.7273 - val_loss: 0.9577 - learning_rate: 1.0000e-06\n",
      "Epoch 47/100\n",
      "\u001b[1m2/2\u001b[0m \u001b[32m━━━━━━━━━━━━━━━━━━━━\u001b[0m\u001b[37m\u001b[0m \u001b[1m0s\u001b[0m 219ms/step - accuracy: 0.6581 - loss: 0.6213 - val_accuracy: 0.7273 - val_loss: 0.9504 - learning_rate: 1.0000e-06\n",
      "Epoch 48/100\n",
      "\u001b[1m2/2\u001b[0m \u001b[32m━━━━━━━━━━━━━━━━━━━━\u001b[0m\u001b[37m\u001b[0m \u001b[1m0s\u001b[0m 71ms/step - accuracy: 0.6581 - loss: 0.6146 - val_accuracy: 0.8182 - val_loss: 0.9481 - learning_rate: 1.0000e-06\n",
      "Epoch 49/100\n",
      "\u001b[1m2/2\u001b[0m \u001b[32m━━━━━━━━━━━━━━━━━━━━\u001b[0m\u001b[37m\u001b[0m \u001b[1m0s\u001b[0m 69ms/step - accuracy: 0.6070 - loss: 0.6023 - val_accuracy: 0.8182 - val_loss: 0.9443 - learning_rate: 1.0000e-06\n",
      "Epoch 50/100\n",
      "\u001b[1m2/2\u001b[0m \u001b[32m━━━━━━━━━━━━━━━━━━━━\u001b[0m\u001b[37m\u001b[0m \u001b[1m0s\u001b[0m 77ms/step - accuracy: 0.6070 - loss: 0.6291 - val_accuracy: 0.8182 - val_loss: 0.9413 - learning_rate: 1.0000e-06\n",
      "Epoch 51/100\n",
      "\u001b[1m2/2\u001b[0m \u001b[32m━━━━━━━━━━━━━━━━━━━━\u001b[0m\u001b[37m\u001b[0m \u001b[1m0s\u001b[0m 91ms/step - accuracy: 0.6534 - loss: 0.6226 - val_accuracy: 0.8182 - val_loss: 0.9390 - learning_rate: 1.0000e-06\n",
      "Epoch 52/100\n",
      "\u001b[1m2/2\u001b[0m \u001b[32m━━━━━━━━━━━━━━━━━━━━\u001b[0m\u001b[37m\u001b[0m \u001b[1m0s\u001b[0m 69ms/step - accuracy: 0.5966 - loss: 0.6682 - val_accuracy: 0.8182 - val_loss: 0.9368 - learning_rate: 1.0000e-06\n",
      "Epoch 53/100\n",
      "\u001b[1m2/2\u001b[0m \u001b[32m━━━━━━━━━━━━━━━━━━━━\u001b[0m\u001b[37m\u001b[0m \u001b[1m0s\u001b[0m 71ms/step - accuracy: 0.4792 - loss: 0.7006 - val_accuracy: 0.8182 - val_loss: 0.9351 - learning_rate: 1.0000e-06\n",
      "Epoch 54/100\n",
      "\u001b[1m2/2\u001b[0m \u001b[32m━━━━━━━━━━━━━━━━━━━━\u001b[0m\u001b[37m\u001b[0m \u001b[1m0s\u001b[0m 226ms/step - accuracy: 0.7140 - loss: 0.5623 - val_accuracy: 0.8182 - val_loss: 0.9321 - learning_rate: 1.0000e-06\n",
      "Epoch 55/100\n",
      "\u001b[1m2/2\u001b[0m \u001b[32m━━━━━━━━━━━━━━━━━━━━\u001b[0m\u001b[37m\u001b[0m \u001b[1m0s\u001b[0m 89ms/step - accuracy: 0.6581 - loss: 0.6167 - val_accuracy: 0.8182 - val_loss: 0.9289 - learning_rate: 1.0000e-06\n",
      "Epoch 56/100\n",
      "\u001b[1m2/2\u001b[0m \u001b[32m━━━━━━━━━━━━━━━━━━━━\u001b[0m\u001b[37m\u001b[0m \u001b[1m0s\u001b[0m 69ms/step - accuracy: 0.7301 - loss: 0.5865 - val_accuracy: 0.8182 - val_loss: 0.9263 - learning_rate: 1.0000e-06\n",
      "Epoch 57/100\n",
      "\u001b[1m2/2\u001b[0m \u001b[32m━━━━━━━━━━━━━━━━━━━━\u001b[0m\u001b[37m\u001b[0m \u001b[1m0s\u001b[0m 68ms/step - accuracy: 0.6790 - loss: 0.6426 - val_accuracy: 0.8182 - val_loss: 0.9254 - learning_rate: 1.0000e-06\n",
      "Epoch 58/100\n",
      "\u001b[1m2/2\u001b[0m \u001b[32m━━━━━━━━━━━━━━━━━━━━\u001b[0m\u001b[37m\u001b[0m \u001b[1m0s\u001b[0m 157ms/step - accuracy: 0.6222 - loss: 0.7026 - val_accuracy: 0.8182 - val_loss: 0.9237 - learning_rate: 1.0000e-06\n",
      "Epoch 59/100\n",
      "\u001b[1m2/2\u001b[0m \u001b[32m━━━━━━━━━━━━━━━━━━━━\u001b[0m\u001b[37m\u001b[0m \u001b[1m0s\u001b[0m 79ms/step - accuracy: 0.5871 - loss: 0.6806 - val_accuracy: 0.8182 - val_loss: 0.9226 - learning_rate: 1.0000e-06\n",
      "Epoch 60/100\n",
      "\u001b[1m2/2\u001b[0m \u001b[32m━━━━━━━━━━━━━━━━━━━━\u001b[0m\u001b[37m\u001b[0m \u001b[1m0s\u001b[0m 84ms/step - accuracy: 0.6989 - loss: 0.6391 - val_accuracy: 0.8182 - val_loss: 0.9206 - learning_rate: 1.0000e-06\n",
      "Epoch 61/100\n",
      "\u001b[1m2/2\u001b[0m \u001b[32m━━━━━━━━━━━━━━━━━━━━\u001b[0m\u001b[37m\u001b[0m \u001b[1m0s\u001b[0m 68ms/step - accuracy: 0.6477 - loss: 0.5893 - val_accuracy: 0.8182 - val_loss: 0.9211 - learning_rate: 1.0000e-06\n",
      "Epoch 62/100\n",
      "\u001b[1m2/2\u001b[0m \u001b[32m━━━━━━━━━━━━━━━━━━━━\u001b[0m\u001b[37m\u001b[0m \u001b[1m0s\u001b[0m 133ms/step - accuracy: 0.6733 - loss: 0.5891 - val_accuracy: 0.7273 - val_loss: 0.9186 - learning_rate: 1.0000e-06\n",
      "Epoch 63/100\n",
      "\u001b[1m2/2\u001b[0m \u001b[32m━━━━━━━━━━━━━━━━━━━━\u001b[0m\u001b[37m\u001b[0m \u001b[1m0s\u001b[0m 163ms/step - accuracy: 0.5919 - loss: 0.6383 - val_accuracy: 0.7273 - val_loss: 0.9166 - learning_rate: 1.0000e-06\n",
      "Epoch 64/100\n",
      "\u001b[1m2/2\u001b[0m \u001b[32m━━━━━━━━━━━━━━━━━━━━\u001b[0m\u001b[37m\u001b[0m \u001b[1m0s\u001b[0m 212ms/step - accuracy: 0.6070 - loss: 0.6322 - val_accuracy: 0.7273 - val_loss: 0.9126 - learning_rate: 1.0000e-06\n",
      "Epoch 65/100\n",
      "\u001b[1m2/2\u001b[0m \u001b[32m━━━━━━━━━━━━━━━━━━━━\u001b[0m\u001b[37m\u001b[0m \u001b[1m0s\u001b[0m 129ms/step - accuracy: 0.6430 - loss: 0.6119 - val_accuracy: 0.7273 - val_loss: 0.9104 - learning_rate: 1.0000e-06\n",
      "Epoch 66/100\n",
      "\u001b[1m2/2\u001b[0m \u001b[32m━━━━━━━━━━━━━━━━━━━━\u001b[0m\u001b[37m\u001b[0m \u001b[1m0s\u001b[0m 122ms/step - accuracy: 0.7708 - loss: 0.5280 - val_accuracy: 0.7273 - val_loss: 0.9090 - learning_rate: 1.0000e-06\n",
      "Epoch 67/100\n",
      "\u001b[1m2/2\u001b[0m \u001b[32m━━━━━━━━━━━━━━━━━━━━\u001b[0m\u001b[37m\u001b[0m \u001b[1m0s\u001b[0m 102ms/step - accuracy: 0.6222 - loss: 0.6154 - val_accuracy: 0.7273 - val_loss: 0.9044 - learning_rate: 1.0000e-06\n",
      "Epoch 68/100\n",
      "\u001b[1m2/2\u001b[0m \u001b[32m━━━━━━━━━━━━━━━━━━━━\u001b[0m\u001b[37m\u001b[0m \u001b[1m0s\u001b[0m 87ms/step - accuracy: 0.6070 - loss: 0.7013 - val_accuracy: 0.7273 - val_loss: 0.9033 - learning_rate: 1.0000e-06\n",
      "Epoch 69/100\n",
      "\u001b[1m2/2\u001b[0m \u001b[32m━━━━━━━━━━━━━━━━━━━━\u001b[0m\u001b[37m\u001b[0m \u001b[1m0s\u001b[0m 70ms/step - accuracy: 0.7500 - loss: 0.5700 - val_accuracy: 0.6364 - val_loss: 0.8988 - learning_rate: 1.0000e-06\n",
      "Epoch 70/100\n",
      "\u001b[1m2/2\u001b[0m \u001b[32m━━━━━━━━━━━━━━━━━━━━\u001b[0m\u001b[37m\u001b[0m \u001b[1m0s\u001b[0m 71ms/step - accuracy: 0.5919 - loss: 0.6226 - val_accuracy: 0.6364 - val_loss: 0.8954 - learning_rate: 1.0000e-06\n",
      "Epoch 71/100\n",
      "\u001b[1m2/2\u001b[0m \u001b[32m━━━━━━━━━━━━━━━━━━━━\u001b[0m\u001b[37m\u001b[0m \u001b[1m0s\u001b[0m 253ms/step - accuracy: 0.7292 - loss: 0.5509 - val_accuracy: 0.6364 - val_loss: 0.8941 - learning_rate: 1.0000e-06\n",
      "Epoch 72/100\n",
      "\u001b[1m2/2\u001b[0m \u001b[32m━━━━━━━━━━━━━━━━━━━━\u001b[0m\u001b[37m\u001b[0m \u001b[1m0s\u001b[0m 89ms/step - accuracy: 0.5814 - loss: 0.6518 - val_accuracy: 0.6364 - val_loss: 0.8932 - learning_rate: 1.0000e-06\n",
      "Epoch 73/100\n",
      "\u001b[1m2/2\u001b[0m \u001b[32m━━━━━━━━━━━━━━━━━━━━\u001b[0m\u001b[37m\u001b[0m \u001b[1m0s\u001b[0m 74ms/step - accuracy: 0.6989 - loss: 0.5439 - val_accuracy: 0.6364 - val_loss: 0.8930 - learning_rate: 1.0000e-06\n",
      "Epoch 74/100\n",
      "\u001b[1m2/2\u001b[0m \u001b[32m━━━━━━━━━━━━━━━━━━━━\u001b[0m\u001b[37m\u001b[0m \u001b[1m0s\u001b[0m 245ms/step - accuracy: 0.6477 - loss: 0.5942 - val_accuracy: 0.6364 - val_loss: 0.8927 - learning_rate: 1.0000e-06\n",
      "Epoch 75/100\n",
      "\u001b[1m2/2\u001b[0m \u001b[32m━━━━━━━━━━━━━━━━━━━━\u001b[0m\u001b[37m\u001b[0m \u001b[1m0s\u001b[0m 72ms/step - accuracy: 0.6790 - loss: 0.6197 - val_accuracy: 0.6364 - val_loss: 0.8903 - learning_rate: 1.0000e-06\n",
      "Epoch 76/100\n",
      "\u001b[1m2/2\u001b[0m \u001b[32m━━━━━━━━━━━━━━━━━━━━\u001b[0m\u001b[37m\u001b[0m \u001b[1m0s\u001b[0m 73ms/step - accuracy: 0.7396 - loss: 0.6018 - val_accuracy: 0.6364 - val_loss: 0.8889 - learning_rate: 1.0000e-06\n",
      "Epoch 77/100\n",
      "\u001b[1m2/2\u001b[0m \u001b[32m━━━━━━━━━━━━━━━━━━━━\u001b[0m\u001b[37m\u001b[0m \u001b[1m0s\u001b[0m 237ms/step - accuracy: 0.7604 - loss: 0.5327 - val_accuracy: 0.6364 - val_loss: 0.8861 - learning_rate: 1.0000e-06\n",
      "Epoch 78/100\n",
      "\u001b[1m2/2\u001b[0m \u001b[32m━━━━━━━━━━━━━━━━━━━━\u001b[0m\u001b[37m\u001b[0m \u001b[1m0s\u001b[0m 76ms/step - accuracy: 0.7244 - loss: 0.5779 - val_accuracy: 0.6364 - val_loss: 0.8853 - learning_rate: 1.0000e-06\n",
      "Epoch 79/100\n",
      "\u001b[1m2/2\u001b[0m \u001b[32m━━━━━━━━━━━━━━━━━━━━\u001b[0m\u001b[37m\u001b[0m \u001b[1m0s\u001b[0m 68ms/step - accuracy: 0.8011 - loss: 0.5506 - val_accuracy: 0.6364 - val_loss: 0.8810 - learning_rate: 1.0000e-06\n",
      "Epoch 80/100\n",
      "\u001b[1m2/2\u001b[0m \u001b[32m━━━━━━━━━━━━━━━━━━━━\u001b[0m\u001b[37m\u001b[0m \u001b[1m0s\u001b[0m 272ms/step - accuracy: 0.7045 - loss: 0.5705 - val_accuracy: 0.6364 - val_loss: 0.8800 - learning_rate: 1.0000e-06\n",
      "Epoch 81/100\n",
      "\u001b[1m2/2\u001b[0m \u001b[32m━━━━━━━━━━━━━━━━━━━━\u001b[0m\u001b[37m\u001b[0m \u001b[1m0s\u001b[0m 72ms/step - accuracy: 0.7348 - loss: 0.5222 - val_accuracy: 0.6364 - val_loss: 0.8779 - learning_rate: 1.0000e-06\n",
      "Epoch 82/100\n",
      "\u001b[1m2/2\u001b[0m \u001b[32m━━━━━━━━━━━━━━━━━━━━\u001b[0m\u001b[37m\u001b[0m \u001b[1m0s\u001b[0m 70ms/step - accuracy: 0.6686 - loss: 0.5723 - val_accuracy: 0.6364 - val_loss: 0.8742 - learning_rate: 1.0000e-06\n",
      "Epoch 83/100\n",
      "\u001b[1m2/2\u001b[0m \u001b[32m━━━━━━━━━━━━━━━━━━━━\u001b[0m\u001b[37m\u001b[0m \u001b[1m0s\u001b[0m 206ms/step - accuracy: 0.6941 - loss: 0.5854 - val_accuracy: 0.6364 - val_loss: 0.8729 - learning_rate: 1.0000e-06\n",
      "Epoch 84/100\n",
      "\u001b[1m2/2\u001b[0m \u001b[32m━━━━━━━━━━━━━━━━━━━━\u001b[0m\u001b[37m\u001b[0m \u001b[1m0s\u001b[0m 104ms/step - accuracy: 0.5767 - loss: 0.6492 - val_accuracy: 0.6364 - val_loss: 0.8699 - learning_rate: 1.0000e-06\n",
      "Epoch 85/100\n",
      "\u001b[1m2/2\u001b[0m \u001b[32m━━━━━━━━━━━━━━━━━━━━\u001b[0m\u001b[37m\u001b[0m \u001b[1m0s\u001b[0m 85ms/step - accuracy: 0.6070 - loss: 0.6590 - val_accuracy: 0.6364 - val_loss: 0.8674 - learning_rate: 1.0000e-06\n",
      "Epoch 86/100\n",
      "\u001b[1m2/2\u001b[0m \u001b[32m━━━━━━━━━━━━━━━━━━━━\u001b[0m\u001b[37m\u001b[0m \u001b[1m0s\u001b[0m 69ms/step - accuracy: 0.6174 - loss: 0.6537 - val_accuracy: 0.6364 - val_loss: 0.8655 - learning_rate: 1.0000e-06\n",
      "Epoch 87/100\n",
      "\u001b[1m2/2\u001b[0m \u001b[32m━━━━━━━━━━━━━━━━━━━━\u001b[0m\u001b[37m\u001b[0m \u001b[1m0s\u001b[0m 104ms/step - accuracy: 0.6477 - loss: 0.5680 - val_accuracy: 0.6364 - val_loss: 0.8648 - learning_rate: 1.0000e-06\n",
      "Epoch 88/100\n",
      "\u001b[1m2/2\u001b[0m \u001b[32m━━━━━━━━━━━━━━━━━━━━\u001b[0m\u001b[37m\u001b[0m \u001b[1m0s\u001b[0m 75ms/step - accuracy: 0.5919 - loss: 0.5868 - val_accuracy: 0.6364 - val_loss: 0.8637 - learning_rate: 1.0000e-06\n",
      "Epoch 89/100\n",
      "\u001b[1m2/2\u001b[0m \u001b[32m━━━━━━━━━━━━━━━━━━━━\u001b[0m\u001b[37m\u001b[0m \u001b[1m0s\u001b[0m 87ms/step - accuracy: 0.6477 - loss: 0.5893 - val_accuracy: 0.5455 - val_loss: 0.8618 - learning_rate: 1.0000e-06\n",
      "Epoch 90/100\n",
      "\u001b[1m2/2\u001b[0m \u001b[32m━━━━━━━━━━━━━━━━━━━━\u001b[0m\u001b[37m\u001b[0m \u001b[1m0s\u001b[0m 83ms/step - accuracy: 0.6430 - loss: 0.5693 - val_accuracy: 0.5455 - val_loss: 0.8618 - learning_rate: 1.0000e-06\n",
      "Epoch 91/100\n",
      "\u001b[1m2/2\u001b[0m \u001b[32m━━━━━━━━━━━━━━━━━━━━\u001b[0m\u001b[37m\u001b[0m \u001b[1m0s\u001b[0m 167ms/step - accuracy: 0.6837 - loss: 0.6003 - val_accuracy: 0.5455 - val_loss: 0.8596 - learning_rate: 1.0000e-06\n",
      "Epoch 92/100\n",
      "\u001b[1m2/2\u001b[0m \u001b[32m━━━━━━━━━━━━━━━━━━━━\u001b[0m\u001b[37m\u001b[0m \u001b[1m0s\u001b[0m 130ms/step - accuracy: 0.6477 - loss: 0.6732 - val_accuracy: 0.5455 - val_loss: 0.8565 - learning_rate: 1.0000e-06\n",
      "Epoch 93/100\n",
      "\u001b[1m2/2\u001b[0m \u001b[32m━━━━━━━━━━━━━━━━━━━━\u001b[0m\u001b[37m\u001b[0m \u001b[1m0s\u001b[0m 147ms/step - accuracy: 0.6174 - loss: 0.6263 - val_accuracy: 0.5455 - val_loss: 0.8569 - learning_rate: 1.0000e-06\n",
      "Epoch 94/100\n",
      "\u001b[1m2/2\u001b[0m \u001b[32m━━━━━━━━━━━━━━━━━━━━\u001b[0m\u001b[37m\u001b[0m \u001b[1m0s\u001b[0m 87ms/step - accuracy: 0.6174 - loss: 0.6566 - val_accuracy: 0.5455 - val_loss: 0.8546 - learning_rate: 1.0000e-06\n",
      "Epoch 95/100\n",
      "\u001b[1m2/2\u001b[0m \u001b[32m━━━━━━━━━━━━━━━━━━━━\u001b[0m\u001b[37m\u001b[0m \u001b[1m0s\u001b[0m 69ms/step - accuracy: 0.5919 - loss: 0.6548 - val_accuracy: 0.5455 - val_loss: 0.8532 - learning_rate: 1.0000e-06\n",
      "Epoch 96/100\n",
      "\u001b[1m2/2\u001b[0m \u001b[32m━━━━━━━━━━━━━━━━━━━━\u001b[0m\u001b[37m\u001b[0m \u001b[1m0s\u001b[0m 69ms/step - accuracy: 0.6174 - loss: 0.6441 - val_accuracy: 0.5455 - val_loss: 0.8507 - learning_rate: 1.0000e-06\n",
      "Epoch 97/100\n",
      "\u001b[1m2/2\u001b[0m \u001b[32m━━━━━━━━━━━━━━━━━━━━\u001b[0m\u001b[37m\u001b[0m \u001b[1m0s\u001b[0m 251ms/step - accuracy: 0.5862 - loss: 0.6784 - val_accuracy: 0.5455 - val_loss: 0.8492 - learning_rate: 1.0000e-06\n",
      "Epoch 98/100\n",
      "\u001b[1m2/2\u001b[0m \u001b[32m━━━━━━━━━━━━━━━━━━━━\u001b[0m\u001b[37m\u001b[0m \u001b[1m0s\u001b[0m 72ms/step - accuracy: 0.6629 - loss: 0.5505 - val_accuracy: 0.5455 - val_loss: 0.8489 - learning_rate: 1.0000e-06\n",
      "Epoch 99/100\n",
      "\u001b[1m2/2\u001b[0m \u001b[32m━━━━━━━━━━━━━━━━━━━━\u001b[0m\u001b[37m\u001b[0m \u001b[1m0s\u001b[0m 68ms/step - accuracy: 0.6477 - loss: 0.5778 - val_accuracy: 0.5455 - val_loss: 0.8493 - learning_rate: 1.0000e-06\n",
      "Epoch 100/100\n",
      "\u001b[1m2/2\u001b[0m \u001b[32m━━━━━━━━━━━━━━━━━━━━\u001b[0m\u001b[37m\u001b[0m \u001b[1m0s\u001b[0m 124ms/step - accuracy: 0.6373 - loss: 0.6062 - val_accuracy: 0.5455 - val_loss: 0.8486 - learning_rate: 1.0000e-06\n"
     ]
    },
    {
     "data": {
      "text/plain": [
       "<keras.src.callbacks.history.History at 0x13ad95e50>"
      ]
     },
     "execution_count": 20,
     "metadata": {},
     "output_type": "execute_result"
    }
   ],
   "source": [
    "model.fit(X_mint_train, y_mint_train, validation_split=0.2, epochs=100, batch_size=32,\n",
    "                    callbacks=[\n",
    "                                EarlyStopping(monitor='val_loss',\n",
    "                                             patience=5,\n",
    "                                             restore_best_weights=True),\n",
    "                                ReduceLROnPlateau(\n",
    "                                  monitor='val_loss',\n",
    "                                  factor=0.5,\n",
    "                                  patience=5,\n",
    "                                  verbose=1)\n",
    "                               ]\n",
    "                    )"
   ]
  },
  {
   "cell_type": "markdown",
   "id": "5b94383c",
   "metadata": {},
   "source": [
    "### Predict"
   ]
  },
  {
   "cell_type": "code",
   "execution_count": 21,
   "id": "66fd8a3f",
   "metadata": {},
   "outputs": [
    {
     "name": "stdout",
     "output_type": "stream",
     "text": [
      "\u001b[1m1/1\u001b[0m \u001b[32m━━━━━━━━━━━━━━━━━━━━\u001b[0m\u001b[37m\u001b[0m \u001b[1m0s\u001b[0m 273ms/step\n"
     ]
    }
   ],
   "source": [
    "y_mint_test_prob = model.predict(X_mint_test)"
   ]
  },
  {
   "cell_type": "code",
   "execution_count": 22,
   "id": "5d623615",
   "metadata": {},
   "outputs": [],
   "source": [
    "def tune_thresholds(y_true, y_pred_prob, metric='f1'):\n",
    "    y_true = np.asarray(y_true)          # Fix: convert to NumPy\n",
    "    y_pred_prob = np.asarray(y_pred_prob)\n",
    "\n",
    "    best_thresholds = []\n",
    "    best_scores = []\n",
    "\n",
    "    for i in range(y_true.shape[1]):\n",
    "        label_true = y_true[:, i]\n",
    "        label_probs = y_pred_prob[:, i]  # Fix here too\n",
    "\n",
    "        thresholds = np.linspace(0.0, 1.0, 101)\n",
    "        scores = []\n",
    "\n",
    "        for t in thresholds:\n",
    "            label_pred = (label_probs >= t).astype(int)\n",
    "            if metric == 'f1':\n",
    "                score = f1_score(label_true, label_pred, zero_division=0)\n",
    "            scores.append(score)\n",
    "\n",
    "        best_t = thresholds[np.argmax(scores)]\n",
    "        best_score = np.max(scores)\n",
    "\n",
    "        best_thresholds.append(best_t)\n",
    "        best_scores.append(best_score)\n",
    "\n",
    "        print(f\"Label {i}: Best threshold = {best_t:.2f}, Best {metric} = {best_score:.4f}\")\n",
    "\n",
    "    return best_thresholds, best_scores\n"
   ]
  },
  {
   "cell_type": "code",
   "execution_count": 23,
   "id": "45e44c06",
   "metadata": {},
   "outputs": [
    {
     "name": "stdout",
     "output_type": "stream",
     "text": [
      "Label 0: Best threshold = 0.50, Best f1 = 0.9091\n"
     ]
    }
   ],
   "source": [
    "best_thresholds, _ = tune_thresholds(y_mint_test, y_mint_test_prob)"
   ]
  },
  {
   "cell_type": "code",
   "execution_count": 24,
   "id": "9b0dfa53",
   "metadata": {},
   "outputs": [
    {
     "name": "stdout",
     "output_type": "stream",
     "text": [
      "\u001b[1m1/1\u001b[0m \u001b[32m━━━━━━━━━━━━━━━━━━━━\u001b[0m\u001b[37m\u001b[0m \u001b[1m0s\u001b[0m 48ms/step\n"
     ]
    }
   ],
   "source": [
    "y_mint_pred = (model.predict(X_mint_test) >= best_thresholds).astype(int)"
   ]
  },
  {
   "cell_type": "markdown",
   "id": "785ee9ba",
   "metadata": {},
   "source": [
    "### Report"
   ]
  },
  {
   "cell_type": "code",
   "execution_count": 25,
   "id": "156bf645",
   "metadata": {},
   "outputs": [
    {
     "name": "stdout",
     "output_type": "stream",
     "text": [
      "              precision    recall  f1-score   support\n",
      "\n",
      "           0       0.89      1.00      0.94         8\n",
      "           1       1.00      0.83      0.91         6\n",
      "\n",
      "    accuracy                           0.93        14\n",
      "   macro avg       0.94      0.92      0.93        14\n",
      "weighted avg       0.94      0.93      0.93        14\n",
      "\n"
     ]
    }
   ],
   "source": [
    "print(classification_report(y_mint_test, y_mint_pred))"
   ]
  },
  {
   "cell_type": "markdown",
   "id": "4f562f09",
   "metadata": {},
   "source": [
    "## Autoencoder + MPL"
   ]
  },
  {
   "cell_type": "code",
   "execution_count": 26,
   "id": "a0e26d96",
   "metadata": {},
   "outputs": [],
   "source": [
    "def Autoencoder(input_dim=256):\n",
    "    model = Sequential([\n",
    "        Input(shape=(input_dim,)),\n",
    "        Dense(128),\n",
    "        LeakyReLU(0.01),\n",
    "\n",
    "        Dense(32),\n",
    "        BatchNormalization(),\n",
    "        LeakyReLU(0.01),\n",
    "\n",
    "        Dense(128),\n",
    "        BatchNormalization(),\n",
    "        LeakyReLU(0.01),\n",
    "\n",
    "        Dense(input_dim, activation='sigmoid')  # sigmoid for multi-label\n",
    "    ])\n",
    "\n",
    "    model.compile(optimizer=Adam(1e-6), loss=MeanSquaredError())\n",
    "    return model\n"
   ]
  },
  {
   "cell_type": "code",
   "execution_count": 27,
   "id": "e4241992",
   "metadata": {},
   "outputs": [
    {
     "name": "stdout",
     "output_type": "stream",
     "text": [
      "Epoch 1/50\n"
     ]
    },
    {
     "name": "stdout",
     "output_type": "stream",
     "text": [
      "\u001b[1m2/2\u001b[0m \u001b[32m━━━━━━━━━━━━━━━━━━━━\u001b[0m\u001b[37m\u001b[0m \u001b[1m2s\u001b[0m 216ms/step - loss: 35189.4922 - val_loss: 49067.8516\n",
      "Epoch 2/50\n",
      "\u001b[1m2/2\u001b[0m \u001b[32m━━━━━━━━━━━━━━━━━━━━\u001b[0m\u001b[37m\u001b[0m \u001b[1m0s\u001b[0m 71ms/step - loss: 41764.2930 - val_loss: 49067.8594\n",
      "Epoch 3/50\n",
      "\u001b[1m2/2\u001b[0m \u001b[32m━━━━━━━━━━━━━━━━━━━━\u001b[0m\u001b[37m\u001b[0m \u001b[1m0s\u001b[0m 63ms/step - loss: 36552.1211 - val_loss: 49067.7539\n",
      "Epoch 4/50\n",
      "\u001b[1m2/2\u001b[0m \u001b[32m━━━━━━━━━━━━━━━━━━━━\u001b[0m\u001b[37m\u001b[0m \u001b[1m0s\u001b[0m 65ms/step - loss: 40998.1914 - val_loss: 49067.7461\n",
      "Epoch 5/50\n",
      "\u001b[1m2/2\u001b[0m \u001b[32m━━━━━━━━━━━━━━━━━━━━\u001b[0m\u001b[37m\u001b[0m \u001b[1m0s\u001b[0m 64ms/step - loss: 41568.9531 - val_loss: 49067.6094\n",
      "Epoch 6/50\n",
      "\u001b[1m2/2\u001b[0m \u001b[32m━━━━━━━━━━━━━━━━━━━━\u001b[0m\u001b[37m\u001b[0m \u001b[1m0s\u001b[0m 63ms/step - loss: 40366.3789 - val_loss: 49067.4492\n",
      "Epoch 7/50\n",
      "\u001b[1m2/2\u001b[0m \u001b[32m━━━━━━━━━━━━━━━━━━━━\u001b[0m\u001b[37m\u001b[0m \u001b[1m0s\u001b[0m 64ms/step - loss: 37556.9297 - val_loss: 49067.2148\n",
      "Epoch 8/50\n",
      "\u001b[1m2/2\u001b[0m \u001b[32m━━━━━━━━━━━━━━━━━━━━\u001b[0m\u001b[37m\u001b[0m \u001b[1m0s\u001b[0m 63ms/step - loss: 40511.5273 - val_loss: 49067.0586\n",
      "Epoch 9/50\n",
      "\u001b[1m2/2\u001b[0m \u001b[32m━━━━━━━━━━━━━━━━━━━━\u001b[0m\u001b[37m\u001b[0m \u001b[1m0s\u001b[0m 101ms/step - loss: 39580.8164 - val_loss: 49066.8984\n",
      "Epoch 10/50\n",
      "\u001b[1m2/2\u001b[0m \u001b[32m━━━━━━━━━━━━━━━━━━━━\u001b[0m\u001b[37m\u001b[0m \u001b[1m0s\u001b[0m 94ms/step - loss: 42243.5195 - val_loss: 49066.7500\n",
      "Epoch 11/50\n",
      "\u001b[1m2/2\u001b[0m \u001b[32m━━━━━━━━━━━━━━━━━━━━\u001b[0m\u001b[37m\u001b[0m \u001b[1m0s\u001b[0m 65ms/step - loss: 41977.8086 - val_loss: 49066.6133\n",
      "Epoch 12/50\n",
      "\u001b[1m2/2\u001b[0m \u001b[32m━━━━━━━━━━━━━━━━━━━━\u001b[0m\u001b[37m\u001b[0m \u001b[1m0s\u001b[0m 66ms/step - loss: 40422.3398 - val_loss: 49066.4648\n",
      "Epoch 13/50\n",
      "\u001b[1m2/2\u001b[0m \u001b[32m━━━━━━━━━━━━━━━━━━━━\u001b[0m\u001b[37m\u001b[0m \u001b[1m0s\u001b[0m 167ms/step - loss: 39244.8711 - val_loss: 49066.3125\n",
      "Epoch 14/50\n",
      "\u001b[1m2/2\u001b[0m \u001b[32m━━━━━━━━━━━━━━━━━━━━\u001b[0m\u001b[37m\u001b[0m \u001b[1m0s\u001b[0m 83ms/step - loss: 41702.4805 - val_loss: 49066.1836\n",
      "Epoch 15/50\n",
      "\u001b[1m2/2\u001b[0m \u001b[32m━━━━━━━━━━━━━━━━━━━━\u001b[0m\u001b[37m\u001b[0m \u001b[1m0s\u001b[0m 87ms/step - loss: 38611.1133 - val_loss: 49065.9648\n",
      "Epoch 16/50\n",
      "\u001b[1m2/2\u001b[0m \u001b[32m━━━━━━━━━━━━━━━━━━━━\u001b[0m\u001b[37m\u001b[0m \u001b[1m0s\u001b[0m 68ms/step - loss: 39968.2695 - val_loss: 49065.8086\n",
      "Epoch 17/50\n",
      "\u001b[1m2/2\u001b[0m \u001b[32m━━━━━━━━━━━━━━━━━━━━\u001b[0m\u001b[37m\u001b[0m \u001b[1m0s\u001b[0m 66ms/step - loss: 38845.6406 - val_loss: 49065.6016\n",
      "Epoch 18/50\n",
      "\u001b[1m2/2\u001b[0m \u001b[32m━━━━━━━━━━━━━━━━━━━━\u001b[0m\u001b[37m\u001b[0m \u001b[1m0s\u001b[0m 313ms/step - loss: 41282.4180 - val_loss: 49065.4766\n",
      "Epoch 19/50\n",
      "\u001b[1m2/2\u001b[0m \u001b[32m━━━━━━━━━━━━━━━━━━━━\u001b[0m\u001b[37m\u001b[0m \u001b[1m0s\u001b[0m 68ms/step - loss: 39974.7930 - val_loss: 49065.3477\n",
      "Epoch 20/50\n",
      "\u001b[1m2/2\u001b[0m \u001b[32m━━━━━━━━━━━━━━━━━━━━\u001b[0m\u001b[37m\u001b[0m \u001b[1m0s\u001b[0m 72ms/step - loss: 39512.5352 - val_loss: 49065.2148\n",
      "Epoch 21/50\n",
      "\u001b[1m2/2\u001b[0m \u001b[32m━━━━━━━━━━━━━━━━━━━━\u001b[0m\u001b[37m\u001b[0m \u001b[1m0s\u001b[0m 63ms/step - loss: 36494.9570 - val_loss: 49065.0391\n",
      "Epoch 22/50\n",
      "\u001b[1m2/2\u001b[0m \u001b[32m━━━━━━━━━━━━━━━━━━━━\u001b[0m\u001b[37m\u001b[0m \u001b[1m0s\u001b[0m 136ms/step - loss: 35672.3242 - val_loss: 49064.8594\n",
      "Epoch 23/50\n",
      "\u001b[1m2/2\u001b[0m \u001b[32m━━━━━━━━━━━━━━━━━━━━\u001b[0m\u001b[37m\u001b[0m \u001b[1m0s\u001b[0m 67ms/step - loss: 40419.9141 - val_loss: 49064.7383\n",
      "Epoch 24/50\n",
      "\u001b[1m2/2\u001b[0m \u001b[32m━━━━━━━━━━━━━━━━━━━━\u001b[0m\u001b[37m\u001b[0m \u001b[1m0s\u001b[0m 64ms/step - loss: 36074.3047 - val_loss: 49064.5781\n",
      "Epoch 25/50\n",
      "\u001b[1m2/2\u001b[0m \u001b[32m━━━━━━━━━━━━━━━━━━━━\u001b[0m\u001b[37m\u001b[0m \u001b[1m0s\u001b[0m 206ms/step - loss: 42021.3633 - val_loss: 49064.4883\n",
      "Epoch 26/50\n",
      "\u001b[1m2/2\u001b[0m \u001b[32m━━━━━━━━━━━━━━━━━━━━\u001b[0m\u001b[37m\u001b[0m \u001b[1m0s\u001b[0m 67ms/step - loss: 39719.2852 - val_loss: 49064.3906\n",
      "Epoch 27/50\n",
      "\u001b[1m2/2\u001b[0m \u001b[32m━━━━━━━━━━━━━━━━━━━━\u001b[0m\u001b[37m\u001b[0m \u001b[1m0s\u001b[0m 64ms/step - loss: 36433.7383 - val_loss: 49064.2461\n",
      "Epoch 28/50\n",
      "\u001b[1m2/2\u001b[0m \u001b[32m━━━━━━━━━━━━━━━━━━━━\u001b[0m\u001b[37m\u001b[0m \u001b[1m0s\u001b[0m 67ms/step - loss: 40998.7695 - val_loss: 49064.1523\n",
      "Epoch 29/50\n",
      "\u001b[1m2/2\u001b[0m \u001b[32m━━━━━━━━━━━━━━━━━━━━\u001b[0m\u001b[37m\u001b[0m \u001b[1m0s\u001b[0m 270ms/step - loss: 38380.9180 - val_loss: 49064.0625\n",
      "Epoch 30/50\n",
      "\u001b[1m2/2\u001b[0m \u001b[32m━━━━━━━━━━━━━━━━━━━━\u001b[0m\u001b[37m\u001b[0m \u001b[1m0s\u001b[0m 69ms/step - loss: 41178.9727 - val_loss: 49063.9883\n",
      "Epoch 31/50\n",
      "\u001b[1m2/2\u001b[0m \u001b[32m━━━━━━━━━━━━━━━━━━━━\u001b[0m\u001b[37m\u001b[0m \u001b[1m0s\u001b[0m 67ms/step - loss: 41748.6094 - val_loss: 49063.9219\n",
      "Epoch 32/50\n",
      "\u001b[1m2/2\u001b[0m \u001b[32m━━━━━━━━━━━━━━━━━━━━\u001b[0m\u001b[37m\u001b[0m \u001b[1m0s\u001b[0m 225ms/step - loss: 40076.5703 - val_loss: 49063.8477\n",
      "Epoch 33/50\n",
      "\u001b[1m2/2\u001b[0m \u001b[32m━━━━━━━━━━━━━━━━━━━━\u001b[0m\u001b[37m\u001b[0m \u001b[1m0s\u001b[0m 79ms/step - loss: 40436.0234 - val_loss: 49063.7734\n",
      "Epoch 34/50\n",
      "\u001b[1m2/2\u001b[0m \u001b[32m━━━━━━━━━━━━━━━━━━━━\u001b[0m\u001b[37m\u001b[0m \u001b[1m0s\u001b[0m 65ms/step - loss: 37381.5117 - val_loss: 49063.6602\n",
      "Epoch 35/50\n",
      "\u001b[1m2/2\u001b[0m \u001b[32m━━━━━━━━━━━━━━━━━━━━\u001b[0m\u001b[37m\u001b[0m \u001b[1m1s\u001b[0m 269ms/step - loss: 38091.3398 - val_loss: 49063.5469\n",
      "Epoch 36/50\n",
      "\u001b[1m2/2\u001b[0m \u001b[32m━━━━━━━━━━━━━━━━━━━━\u001b[0m\u001b[37m\u001b[0m \u001b[1m0s\u001b[0m 74ms/step - loss: 38046.1172 - val_loss: 49063.4414\n",
      "Epoch 37/50\n",
      "\u001b[1m2/2\u001b[0m \u001b[32m━━━━━━━━━━━━━━━━━━━━\u001b[0m\u001b[37m\u001b[0m \u001b[1m0s\u001b[0m 65ms/step - loss: 38692.0273 - val_loss: 49063.3477\n",
      "Epoch 38/50\n",
      "\u001b[1m2/2\u001b[0m \u001b[32m━━━━━━━━━━━━━━━━━━━━\u001b[0m\u001b[37m\u001b[0m \u001b[1m0s\u001b[0m 63ms/step - loss: 40757.0391 - val_loss: 49063.2852\n",
      "Epoch 39/50\n",
      "\u001b[1m2/2\u001b[0m \u001b[32m━━━━━━━━━━━━━━━━━━━━\u001b[0m\u001b[37m\u001b[0m \u001b[1m0s\u001b[0m 229ms/step - loss: 39828.1875 - val_loss: 49063.2266\n",
      "Epoch 40/50\n",
      "\u001b[1m2/2\u001b[0m \u001b[32m━━━━━━━━━━━━━━━━━━━━\u001b[0m\u001b[37m\u001b[0m \u001b[1m0s\u001b[0m 82ms/step - loss: 37735.3711 - val_loss: 49063.1289\n",
      "Epoch 41/50\n",
      "\u001b[1m2/2\u001b[0m \u001b[32m━━━━━━━━━━━━━━━━━━━━\u001b[0m\u001b[37m\u001b[0m \u001b[1m0s\u001b[0m 64ms/step - loss: 40412.8789 - val_loss: 49063.0664\n",
      "Epoch 42/50\n",
      "\u001b[1m2/2\u001b[0m \u001b[32m━━━━━━━━━━━━━━━━━━━━\u001b[0m\u001b[37m\u001b[0m \u001b[1m0s\u001b[0m 88ms/step - loss: 37848.5781 - val_loss: 49062.9766\n",
      "Epoch 43/50\n",
      "\u001b[1m2/2\u001b[0m \u001b[32m━━━━━━━━━━━━━━━━━━━━\u001b[0m\u001b[37m\u001b[0m \u001b[1m0s\u001b[0m 298ms/step - loss: 43210.1562 - val_loss: 49062.9414\n",
      "Epoch 44/50\n",
      "\u001b[1m2/2\u001b[0m \u001b[32m━━━━━━━━━━━━━━━━━━━━\u001b[0m\u001b[37m\u001b[0m \u001b[1m0s\u001b[0m 70ms/step - loss: 40355.3984 - val_loss: 49062.8867\n",
      "Epoch 45/50\n",
      "\u001b[1m2/2\u001b[0m \u001b[32m━━━━━━━━━━━━━━━━━━━━\u001b[0m\u001b[37m\u001b[0m \u001b[1m0s\u001b[0m 67ms/step - loss: 40355.7148 - val_loss: 49062.8281\n",
      "Epoch 46/50\n",
      "\u001b[1m2/2\u001b[0m \u001b[32m━━━━━━━━━━━━━━━━━━━━\u001b[0m\u001b[37m\u001b[0m \u001b[1m0s\u001b[0m 211ms/step - loss: 40308.1055 - val_loss: 49062.7773\n",
      "Epoch 47/50\n",
      "\u001b[1m2/2\u001b[0m \u001b[32m━━━━━━━━━━━━━━━━━━━━\u001b[0m\u001b[37m\u001b[0m \u001b[1m0s\u001b[0m 81ms/step - loss: 42591.4961 - val_loss: 49062.7383\n",
      "Epoch 48/50\n",
      "\u001b[1m2/2\u001b[0m \u001b[32m━━━━━━━━━━━━━━━━━━━━\u001b[0m\u001b[37m\u001b[0m \u001b[1m0s\u001b[0m 64ms/step - loss: 42157.3828 - val_loss: 49062.6992\n",
      "Epoch 49/50\n",
      "\u001b[1m2/2\u001b[0m \u001b[32m━━━━━━━━━━━━━━━━━━━━\u001b[0m\u001b[37m\u001b[0m \u001b[1m0s\u001b[0m 65ms/step - loss: 37456.1016 - val_loss: 49062.6094\n",
      "Epoch 50/50\n",
      "\u001b[1m2/2\u001b[0m \u001b[32m━━━━━━━━━━━━━━━━━━━━\u001b[0m\u001b[37m\u001b[0m \u001b[1m0s\u001b[0m 244ms/step - loss: 38170.1133 - val_loss: 49062.5273\n"
     ]
    },
    {
     "data": {
      "text/plain": [
       "<keras.src.callbacks.history.History at 0x13b3e2960>"
      ]
     },
     "execution_count": 27,
     "metadata": {},
     "output_type": "execute_result"
    }
   ],
   "source": [
    "autoencoder = Autoencoder(input_dim=X.shape[1])\n",
    "autoencoder.fit(X_mint_train, X_mint_train, epochs=50, batch_size=32, validation_split=0.2)"
   ]
  },
  {
   "cell_type": "code",
   "execution_count": 28,
   "id": "8e09b2cc",
   "metadata": {},
   "outputs": [
    {
     "name": "stdout",
     "output_type": "stream",
     "text": [
      "\u001b[1m2/2\u001b[0m \u001b[32m━━━━━━━━━━━━━━━━━━━━\u001b[0m\u001b[37m\u001b[0m \u001b[1m0s\u001b[0m 224ms/step\n",
      "\u001b[1m1/1\u001b[0m \u001b[32m━━━━━━━━━━━━━━━━━━━━\u001b[0m\u001b[37m\u001b[0m \u001b[1m0s\u001b[0m 41ms/step\n"
     ]
    }
   ],
   "source": [
    "X_train_encoded = autoencoder.predict(X_mint_train)\n",
    "X_test_encoded = autoencoder.predict(X_mint_test)"
   ]
  },
  {
   "cell_type": "code",
   "execution_count": 29,
   "id": "4f2f4ede",
   "metadata": {},
   "outputs": [],
   "source": [
    "model = Model(input_dim=X_train_encoded.shape[1], output_dim=1)"
   ]
  },
  {
   "cell_type": "code",
   "execution_count": 30,
   "id": "c5d51f36",
   "metadata": {},
   "outputs": [
    {
     "name": "stdout",
     "output_type": "stream",
     "text": [
      "Epoch 1/100\n"
     ]
    },
    {
     "name": "stdout",
     "output_type": "stream",
     "text": [
      "\u001b[1m2/2\u001b[0m \u001b[32m━━━━━━━━━━━━━━━━━━━━\u001b[0m\u001b[37m\u001b[0m \u001b[1m3s\u001b[0m 302ms/step - accuracy: 0.4233 - loss: 0.8169 - val_accuracy: 0.8182 - val_loss: 0.6685 - learning_rate: 1.0000e-06\n",
      "Epoch 2/100\n",
      "\u001b[1m2/2\u001b[0m \u001b[32m━━━━━━━━━━━━━━━━━━━━\u001b[0m\u001b[37m\u001b[0m \u001b[1m0s\u001b[0m 69ms/step - accuracy: 0.3722 - loss: 0.9518 - val_accuracy: 0.8182 - val_loss: 0.6696 - learning_rate: 1.0000e-06\n",
      "Epoch 3/100\n",
      "\u001b[1m2/2\u001b[0m \u001b[32m━━━━━━━━━━━━━━━━━━━━\u001b[0m\u001b[37m\u001b[0m \u001b[1m0s\u001b[0m 68ms/step - accuracy: 0.2756 - loss: 1.0514 - val_accuracy: 0.8182 - val_loss: 0.6710 - learning_rate: 1.0000e-06\n",
      "Epoch 4/100\n",
      "\u001b[1m2/2\u001b[0m \u001b[32m━━━━━━━━━━━━━━━━━━━━\u001b[0m\u001b[37m\u001b[0m \u001b[1m0s\u001b[0m 196ms/step - accuracy: 0.3873 - loss: 0.8408 - val_accuracy: 0.8182 - val_loss: 0.6737 - learning_rate: 1.0000e-06\n",
      "Epoch 5/100\n",
      "\u001b[1m2/2\u001b[0m \u001b[32m━━━━━━━━━━━━━━━━━━━━\u001b[0m\u001b[37m\u001b[0m \u001b[1m0s\u001b[0m 83ms/step - accuracy: 0.3930 - loss: 0.9032 - val_accuracy: 0.8182 - val_loss: 0.6756 - learning_rate: 1.0000e-06\n",
      "Epoch 6/100\n",
      "\u001b[1m1/2\u001b[0m \u001b[32m━━━━━━━━━━\u001b[0m\u001b[37m━━━━━━━━━━\u001b[0m \u001b[1m0s\u001b[0m 38ms/step - accuracy: 0.5000 - loss: 0.7962\n",
      "Epoch 6: ReduceLROnPlateau reducing learning rate to 4.999999987376214e-07.\n",
      "\u001b[1m2/2\u001b[0m \u001b[32m━━━━━━━━━━━━━━━━━━━━\u001b[0m\u001b[37m\u001b[0m \u001b[1m0s\u001b[0m 72ms/step - accuracy: 0.4697 - loss: 0.8104 - val_accuracy: 0.8182 - val_loss: 0.6778 - learning_rate: 1.0000e-06\n"
     ]
    },
    {
     "data": {
      "text/plain": [
       "<keras.src.callbacks.history.History at 0x13bd6a2d0>"
      ]
     },
     "execution_count": 30,
     "metadata": {},
     "output_type": "execute_result"
    }
   ],
   "source": [
    "model.fit(X_train_encoded, y_mint_train, validation_split=0.2, epochs=100, batch_size=32,\n",
    "                    callbacks=[\n",
    "                                EarlyStopping(monitor='val_loss',\n",
    "                                             patience=5,\n",
    "                                             restore_best_weights=True),\n",
    "                                ReduceLROnPlateau(\n",
    "                                  monitor='val_loss',\n",
    "                                  factor=0.5,\n",
    "                                  patience=5,\n",
    "                                  verbose=1)\n",
    "                               ]\n",
    "                    )"
   ]
  },
  {
   "cell_type": "code",
   "execution_count": 31,
   "id": "1190a35f",
   "metadata": {},
   "outputs": [
    {
     "name": "stdout",
     "output_type": "stream",
     "text": [
      "\u001b[1m1/1\u001b[0m \u001b[32m━━━━━━━━━━━━━━━━━━━━\u001b[0m\u001b[37m\u001b[0m \u001b[1m0s\u001b[0m 163ms/step\n"
     ]
    }
   ],
   "source": [
    "y_pred_prob = model.predict(X_test_encoded)"
   ]
  },
  {
   "cell_type": "code",
   "execution_count": 32,
   "id": "9d81a854",
   "metadata": {},
   "outputs": [
    {
     "name": "stdout",
     "output_type": "stream",
     "text": [
      "Label 0: Best threshold = 0.00, Best f1 = 0.6000\n"
     ]
    }
   ],
   "source": [
    "best_thresholds, _ = tune_thresholds(y_mint_test, y_pred_prob)"
   ]
  },
  {
   "cell_type": "code",
   "execution_count": 33,
   "id": "3f2ba424",
   "metadata": {},
   "outputs": [
    {
     "name": "stdout",
     "output_type": "stream",
     "text": [
      "\u001b[1m1/1\u001b[0m \u001b[32m━━━━━━━━━━━━━━━━━━━━\u001b[0m\u001b[37m\u001b[0m \u001b[1m0s\u001b[0m 55ms/step\n"
     ]
    }
   ],
   "source": [
    "y_pred = (model.predict(X_test) >= best_thresholds).astype(int)"
   ]
  },
  {
   "cell_type": "markdown",
   "id": "491bc629",
   "metadata": {},
   "source": [
    "### Report"
   ]
  },
  {
   "cell_type": "code",
   "execution_count": 34,
   "id": "5368b575",
   "metadata": {},
   "outputs": [
    {
     "name": "stdout",
     "output_type": "stream",
     "text": [
      "              precision    recall  f1-score   support\n",
      "\n",
      "           0       0.00      0.00      0.00         5\n",
      "           1       0.64      1.00      0.78         9\n",
      "\n",
      "    accuracy                           0.64        14\n",
      "   macro avg       0.32      0.50      0.39        14\n",
      "weighted avg       0.41      0.64      0.50        14\n",
      "\n"
     ]
    }
   ],
   "source": [
    "print(classification_report(y_test, y_pred))"
   ]
  }
 ],
 "metadata": {
  "kernelspec": {
   "display_name": "ml-algo",
   "language": "python",
   "name": "python3"
  },
  "language_info": {
   "codemirror_mode": {
    "name": "ipython",
    "version": 3
   },
   "file_extension": ".py",
   "mimetype": "text/x-python",
   "name": "python",
   "nbconvert_exporter": "python",
   "pygments_lexer": "ipython3",
   "version": "3.12.7"
  }
 },
 "nbformat": 4,
 "nbformat_minor": 5
}
