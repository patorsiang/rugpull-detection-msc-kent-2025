{
 "cells": [
  {
   "cell_type": "markdown",
   "id": "f5522b31",
   "metadata": {},
   "source": [
    "# Baseline Model using Opcode Frequency for Binary"
   ]
  },
  {
   "cell_type": "markdown",
   "id": "c618ae76",
   "metadata": {},
   "source": [
    "## Set up"
   ]
  },
  {
   "cell_type": "code",
   "execution_count": 1,
   "id": "4c98a8df",
   "metadata": {},
   "outputs": [],
   "source": [
    "import warnings\n",
    "warnings.filterwarnings(\"ignore\")"
   ]
  },
  {
   "cell_type": "code",
   "execution_count": 2,
   "id": "04893973",
   "metadata": {},
   "outputs": [],
   "source": [
    "import os\n",
    "import json\n",
    "import pandas as pd\n",
    "from imblearn.combine import SMOTETomek\n",
    "import numpy as np\n",
    "from pathlib import Path\n",
    "\n",
    "from sklearn.model_selection import train_test_split\n",
    "from sklearn.metrics import classification_report, confusion_matrix, ConfusionMatrixDisplay\n",
    "import matplotlib.pyplot as plt\n",
    "from sklearn.metrics import f1_score\n"
   ]
  },
  {
   "cell_type": "code",
   "execution_count": 3,
   "id": "ed2e63a2",
   "metadata": {},
   "outputs": [],
   "source": [
    "PATH = Path.cwd().parents[2]\n",
    "DATA_PATH = os.path.join(PATH, 'data/processed/opcode_freq')"
   ]
  },
  {
   "cell_type": "markdown",
   "id": "d77dea9b",
   "metadata": {},
   "source": [
    "## List Traditional ML model to compare"
   ]
  },
  {
   "cell_type": "code",
   "execution_count": 4,
   "id": "30ab6b3f",
   "metadata": {},
   "outputs": [],
   "source": [
    "from sklearn.linear_model import LogisticRegression\n",
    "from sklearn.tree import DecisionTreeClassifier\n",
    "from sklearn.ensemble import RandomForestClassifier, AdaBoostClassifier, ExtraTreesClassifier\n",
    "from xgboost import XGBClassifier\n",
    "from lightgbm import LGBMClassifier\n",
    "from sklearn.svm import SVC\n",
    "from sklearn.naive_bayes import GaussianNB\n",
    "from sklearn.neighbors import KNeighborsClassifier\n",
    "from sklearn.linear_model import SGDClassifier\n",
    "from sklearn.neural_network import MLPClassifier\n",
    "\n",
    "models = {\n",
    "  \"LogisticRegression()\": LogisticRegression(),\n",
    "  \"DecisionTreeClassifier()\": DecisionTreeClassifier(),\n",
    "  \"RandomForestClassifier()\": RandomForestClassifier(),\n",
    "  \"AdaBoostClassifier()\": AdaBoostClassifier(),\n",
    "  \"ExtraTreesClassifier()\": ExtraTreesClassifier(),\n",
    "  \"XGBClassifier()\": XGBClassifier(),\n",
    "  \"LGBMClassifier()\": LGBMClassifier(),\n",
    "  \"SVC()\": SVC(),\n",
    "  \"GaussianNB()\": GaussianNB(),\n",
    "  \"KNeighborsClassifier()\": KNeighborsClassifier(),\n",
    "  \"SGDClassifier()\": SGDClassifier(),\n",
    "  \"MLPClassifier()\": MLPClassifier(),\n",
    "}"
   ]
  },
  {
   "cell_type": "markdown",
   "id": "f5732d05",
   "metadata": {},
   "source": [
    "## Load Dataset"
   ]
  },
  {
   "cell_type": "code",
   "execution_count": 5,
   "id": "44d0a85c",
   "metadata": {},
   "outputs": [],
   "source": [
    "df = pd.read_csv(os.path.join(DATA_PATH, 'dataset.csv')).set_index('address')\n",
    "\n",
    "with open(os.path.join(DATA_PATH, 'features.json'), \"r\") as f:\n",
    "    features = json.load(f)\n",
    "\n",
    "with open(os.path.join(DATA_PATH, 'labels.json'), \"r\") as f:\n",
    "    labels = json.load(f)"
   ]
  },
  {
   "cell_type": "code",
   "execution_count": 6,
   "id": "4714201c",
   "metadata": {},
   "outputs": [
    {
     "data": {
      "application/vnd.microsoft.datawrangler.viewer.v0+json": {
       "columns": [
        {
         "name": "address",
         "rawType": "object",
         "type": "string"
        },
        {
         "name": "mint",
         "rawType": "int64",
         "type": "integer"
        },
        {
         "name": "leak",
         "rawType": "int64",
         "type": "integer"
        },
        {
         "name": "limit",
         "rawType": "int64",
         "type": "integer"
        },
        {
         "name": "PUSH",
         "rawType": "int64",
         "type": "integer"
        },
        {
         "name": "MSTORE",
         "rawType": "float64",
         "type": "float"
        },
        {
         "name": "CALLDATASIZE",
         "rawType": "int64",
         "type": "integer"
        },
        {
         "name": "LT",
         "rawType": "float64",
         "type": "float"
        },
        {
         "name": "JUMPI",
         "rawType": "int64",
         "type": "integer"
        },
        {
         "name": "CALLDATALOAD",
         "rawType": "float64",
         "type": "float"
        },
        {
         "name": "SWAP",
         "rawType": "int64",
         "type": "integer"
        },
        {
         "name": "DIV",
         "rawType": "float64",
         "type": "float"
        },
        {
         "name": "AND",
         "rawType": "float64",
         "type": "float"
        },
        {
         "name": "DUP",
         "rawType": "int64",
         "type": "integer"
        },
        {
         "name": "EQ",
         "rawType": "float64",
         "type": "float"
        },
        {
         "name": "JUMPDEST",
         "rawType": "int64",
         "type": "integer"
        },
        {
         "name": "REVERT",
         "rawType": "int64",
         "type": "integer"
        },
        {
         "name": "CALLVALUE",
         "rawType": "float64",
         "type": "float"
        },
        {
         "name": "ISZERO",
         "rawType": "float64",
         "type": "float"
        },
        {
         "name": "POP",
         "rawType": "float64",
         "type": "float"
        },
        {
         "name": "JUMP",
         "rawType": "float64",
         "type": "float"
        },
        {
         "name": "MLOAD",
         "rawType": "float64",
         "type": "float"
        },
        {
         "name": "ADD",
         "rawType": "float64",
         "type": "float"
        },
        {
         "name": "SUB",
         "rawType": "float64",
         "type": "float"
        },
        {
         "name": "EXP",
         "rawType": "float64",
         "type": "float"
        },
        {
         "name": "NOT",
         "rawType": "float64",
         "type": "float"
        },
        {
         "name": "RETURN",
         "rawType": "int64",
         "type": "integer"
        },
        {
         "name": "STOP",
         "rawType": "float64",
         "type": "float"
        },
        {
         "name": "SLOAD",
         "rawType": "float64",
         "type": "float"
        },
        {
         "name": "MUL",
         "rawType": "float64",
         "type": "float"
        },
        {
         "name": "SHA",
         "rawType": "float64",
         "type": "float"
        },
        {
         "name": "GT",
         "rawType": "float64",
         "type": "float"
        },
        {
         "name": "CALLER",
         "rawType": "float64",
         "type": "float"
        },
        {
         "name": "SSTORE",
         "rawType": "float64",
         "type": "float"
        },
        {
         "name": "LOG",
         "rawType": "float64",
         "type": "float"
        },
        {
         "name": "OR",
         "rawType": "float64",
         "type": "float"
        },
        {
         "name": "UNKNOWN",
         "rawType": "float64",
         "type": "float"
        },
        {
         "name": "MSIZE",
         "rawType": "float64",
         "type": "float"
        },
        {
         "name": "CHAINID",
         "rawType": "float64",
         "type": "float"
        },
        {
         "name": "SMOD",
         "rawType": "float64",
         "type": "float"
        },
        {
         "name": "ADDRESS",
         "rawType": "float64",
         "type": "float"
        },
        {
         "name": "PC",
         "rawType": "float64",
         "type": "float"
        },
        {
         "name": "SHR",
         "rawType": "float64",
         "type": "float"
        },
        {
         "name": "SHL",
         "rawType": "float64",
         "type": "float"
        },
        {
         "name": "CODECOPY",
         "rawType": "float64",
         "type": "float"
        },
        {
         "name": "SLT",
         "rawType": "float64",
         "type": "float"
        },
        {
         "name": "COINBASE",
         "rawType": "float64",
         "type": "float"
        },
        {
         "name": "TIMESTAMP",
         "rawType": "float64",
         "type": "float"
        },
        {
         "name": "CALLDATACOPY",
         "rawType": "float64",
         "type": "float"
        },
        {
         "name": "RETURNDATASIZE",
         "rawType": "float64",
         "type": "float"
        },
        {
         "name": "ADDMOD",
         "rawType": "float64",
         "type": "float"
        },
        {
         "name": "EXTCODESIZE",
         "rawType": "float64",
         "type": "float"
        },
        {
         "name": "BYTE",
         "rawType": "float64",
         "type": "float"
        },
        {
         "name": "CODESIZE",
         "rawType": "float64",
         "type": "float"
        },
        {
         "name": "SELFBALANCE",
         "rawType": "float64",
         "type": "float"
        },
        {
         "name": "EXTCODEHASH",
         "rawType": "float64",
         "type": "float"
        },
        {
         "name": "INVALID",
         "rawType": "float64",
         "type": "float"
        },
        {
         "name": "GASLIMIT",
         "rawType": "float64",
         "type": "float"
        },
        {
         "name": "NUMBER",
         "rawType": "float64",
         "type": "float"
        },
        {
         "name": "ORIGIN",
         "rawType": "float64",
         "type": "float"
        },
        {
         "name": "GASPRICE",
         "rawType": "float64",
         "type": "float"
        },
        {
         "name": "GAS",
         "rawType": "float64",
         "type": "float"
        },
        {
         "name": "STATICCALL",
         "rawType": "float64",
         "type": "float"
        },
        {
         "name": "RETURNDATACOPY",
         "rawType": "float64",
         "type": "float"
        },
        {
         "name": "MOD",
         "rawType": "float64",
         "type": "float"
        },
        {
         "name": "CALL",
         "rawType": "float64",
         "type": "float"
        },
        {
         "name": "SAR",
         "rawType": "float64",
         "type": "float"
        },
        {
         "name": "CREATE",
         "rawType": "float64",
         "type": "float"
        },
        {
         "name": "UNOFFICIAL",
         "rawType": "float64",
         "type": "float"
        },
        {
         "name": "BLOCKHASH",
         "rawType": "float64",
         "type": "float"
        },
        {
         "name": "XOR",
         "rawType": "float64",
         "type": "float"
        },
        {
         "name": "SELFDESTRUCT",
         "rawType": "float64",
         "type": "float"
        },
        {
         "name": "MULMOD",
         "rawType": "float64",
         "type": "float"
        },
        {
         "name": "DIFFICULTY",
         "rawType": "float64",
         "type": "float"
        },
        {
         "name": "BALANCE",
         "rawType": "float64",
         "type": "float"
        },
        {
         "name": "BASEFEE",
         "rawType": "float64",
         "type": "float"
        },
        {
         "name": "SDIV",
         "rawType": "float64",
         "type": "float"
        },
        {
         "name": "CALLCODE",
         "rawType": "float64",
         "type": "float"
        },
        {
         "name": "SGT",
         "rawType": "float64",
         "type": "float"
        },
        {
         "name": "EXTCODECOPY",
         "rawType": "float64",
         "type": "float"
        },
        {
         "name": "SIGNEXTEND",
         "rawType": "float64",
         "type": "float"
        },
        {
         "name": "DELEGATECALL",
         "rawType": "float64",
         "type": "float"
        }
       ],
       "ref": "88fd1cda-be2d-4807-b6f8-4f077177f3c0",
       "rows": [
        [
         "0x93023f1d3525e273f291b6f76d2f5027a39bf302",
         "1",
         "0",
         "1",
         "734",
         "119.0",
         "14",
         "9.0",
         "67",
         "8.0",
         "187",
         "5.0",
         "45.0",
         "392",
         "28.0",
         "162",
         "15",
         "1.0",
         "35.0",
         "77.0",
         "135.0",
         "35.0",
         "101.0",
         "49.0",
         "0.0",
         "6.0",
         "1",
         "3.0",
         "28.0",
         "4.0",
         "18.0",
         "7.0",
         "9.0",
         "11.0",
         "7.0",
         "2.0",
         "2.0",
         "0.0",
         "0.0",
         "0.0",
         "0.0",
         "0.0",
         "1.0",
         "56.0",
         "0.0",
         "8.0",
         "0.0",
         "0.0",
         "0.0",
         "0.0",
         "1.0",
         "0.0",
         "0.0",
         "1.0",
         "0.0",
         "0.0",
         "0.0",
         "0.0",
         "1.0",
         "0.0",
         "0.0",
         "0.0",
         "0.0",
         "0.0",
         "0.0",
         "0.0",
         "0.0",
         "0.0",
         "0.0",
         "0.0",
         "0.0",
         "0.0",
         "0.0",
         "0.0",
         "0.0",
         "0.0",
         "0.0",
         "0.0",
         "0.0",
         "0.0",
         "0.0",
         "0.0"
        ],
        [
         "0x2753dce37a7edb052a77832039bcc9aa49ad8b25",
         "0",
         "0",
         "1",
         "1155",
         "179.0",
         "23",
         "13.0",
         "101",
         "7.0",
         "264",
         "4.0",
         "76.0",
         "517",
         "47.0",
         "223",
         "23",
         "1.0",
         "33.0",
         "93.0",
         "186.0",
         "56.0",
         "153.0",
         "73.0",
         "0.0",
         "20.0",
         "1",
         "2.0",
         "43.0",
         "4.0",
         "27.0",
         "13.0",
         "24.0",
         "12.0",
         "9.0",
         "5.0",
         "13.0",
         "0.0",
         "0.0",
         "0.0",
         "0.0",
         "0.0",
         "3.0",
         "105.0",
         "0.0",
         "8.0",
         "0.0",
         "0.0",
         "1.0",
         "0.0",
         "1.0",
         "3.0",
         "4.0",
         "1.0",
         "1.0",
         "1.0",
         "1.0",
         "0.0",
         "0.0",
         "0.0",
         "0.0",
         "0.0",
         "0.0",
         "0.0",
         "0.0",
         "0.0",
         "0.0",
         "0.0",
         "0.0",
         "0.0",
         "0.0",
         "0.0",
         "0.0",
         "0.0",
         "0.0",
         "0.0",
         "0.0",
         "0.0",
         "0.0",
         "0.0",
         "0.0",
         "0.0"
        ],
        [
         "0x94b7d24552933f50a5a5705c446528806dcea381",
         "0",
         "0",
         "0",
         "20",
         "3.0",
         "2",
         "0.0",
         "2",
         "1.0",
         "4",
         "0.0",
         "1.0",
         "7",
         "2.0",
         "2",
         "1",
         "1.0",
         "2.0",
         "0.0",
         "0.0",
         "0.0",
         "0.0",
         "0.0",
         "0.0",
         "0.0",
         "2",
         "0.0",
         "1.0",
         "0.0",
         "1.0",
         "0.0",
         "0.0",
         "0.0",
         "2.0",
         "0.0",
         "3.0",
         "0.0",
         "0.0",
         "0.0",
         "0.0",
         "0.0",
         "0.0",
         "0.0",
         "0.0",
         "1.0",
         "0.0",
         "1.0",
         "1.0",
         "3.0",
         "0.0",
         "0.0",
         "0.0",
         "0.0",
         "0.0",
         "0.0",
         "1.0",
         "0.0",
         "0.0",
         "0.0",
         "0.0",
         "1.0",
         "0.0",
         "1.0",
         "0.0",
         "0.0",
         "0.0",
         "0.0",
         "0.0",
         "0.0",
         "0.0",
         "0.0",
         "0.0",
         "0.0",
         "0.0",
         "0.0",
         "0.0",
         "0.0",
         "0.0",
         "0.0",
         "0.0",
         "1.0"
        ],
        [
         "0xe0b9d4146aad6936cbfcbe4dae47e34aab96b093",
         "0",
         "0",
         "0",
         "1135",
         "107.0",
         "9",
         "10.0",
         "96",
         "3.0",
         "464",
         "6.0",
         "99.0",
         "585",
         "35.0",
         "370",
         "38",
         "22.0",
         "68.0",
         "318.0",
         "279.0",
         "80.0",
         "148.0",
         "55.0",
         "4.0",
         "4.0",
         "21",
         "3.0",
         "18.0",
         "4.0",
         "29.0",
         "16.0",
         "4.0",
         "9.0",
         "6.0",
         "2.0",
         "7.0",
         "0.0",
         "0.0",
         "0.0",
         "1.0",
         "0.0",
         "2.0",
         "2.0",
         "0.0",
         "7.0",
         "0.0",
         "0.0",
         "0.0",
         "10.0",
         "1.0",
         "2.0",
         "0.0",
         "0.0",
         "0.0",
         "0.0",
         "0.0",
         "0.0",
         "0.0",
         "2.0",
         "0.0",
         "3.0",
         "1.0",
         "3.0",
         "1.0",
         "2.0",
         "0.0",
         "0.0",
         "0.0",
         "0.0",
         "0.0",
         "0.0",
         "0.0",
         "0.0",
         "0.0",
         "0.0",
         "0.0",
         "0.0",
         "0.0",
         "0.0",
         "0.0",
         "0.0"
        ],
        [
         "0x10f6f2b97f3ab29583d9d38babf2994df7220c21",
         "1",
         "0",
         "1",
         "1623",
         "150.0",
         "18",
         "18.0",
         "115",
         "6.0",
         "722",
         "21.0",
         "138.0",
         "890",
         "34.0",
         "529",
         "52",
         "22.0",
         "104.0",
         "509.0",
         "410.0",
         "99.0",
         "234.0",
         "76.0",
         "26.0",
         "11.0",
         "17",
         "6.0",
         "43.0",
         "25.0",
         "34.0",
         "14.0",
         "2.0",
         "16.0",
         "8.0",
         "8.0",
         "3.0",
         "0.0",
         "0.0",
         "0.0",
         "8.0",
         "0.0",
         "1.0",
         "4.0",
         "0.0",
         "11.0",
         "0.0",
         "2.0",
         "2.0",
         "11.0",
         "0.0",
         "1.0",
         "0.0",
         "0.0",
         "2.0",
         "0.0",
         "0.0",
         "0.0",
         "0.0",
         "0.0",
         "0.0",
         "4.0",
         "2.0",
         "4.0",
         "0.0",
         "2.0",
         "0.0",
         "0.0",
         "0.0",
         "0.0",
         "0.0",
         "0.0",
         "0.0",
         "0.0",
         "0.0",
         "0.0",
         "0.0",
         "0.0",
         "0.0",
         "0.0",
         "0.0",
         "0.0"
        ]
       ],
       "shape": {
        "columns": 81,
        "rows": 5
       }
      },
      "text/html": [
       "<div>\n",
       "<style scoped>\n",
       "    .dataframe tbody tr th:only-of-type {\n",
       "        vertical-align: middle;\n",
       "    }\n",
       "\n",
       "    .dataframe tbody tr th {\n",
       "        vertical-align: top;\n",
       "    }\n",
       "\n",
       "    .dataframe thead th {\n",
       "        text-align: right;\n",
       "    }\n",
       "</style>\n",
       "<table border=\"1\" class=\"dataframe\">\n",
       "  <thead>\n",
       "    <tr style=\"text-align: right;\">\n",
       "      <th></th>\n",
       "      <th>mint</th>\n",
       "      <th>leak</th>\n",
       "      <th>limit</th>\n",
       "      <th>PUSH</th>\n",
       "      <th>MSTORE</th>\n",
       "      <th>CALLDATASIZE</th>\n",
       "      <th>LT</th>\n",
       "      <th>JUMPI</th>\n",
       "      <th>CALLDATALOAD</th>\n",
       "      <th>SWAP</th>\n",
       "      <th>...</th>\n",
       "      <th>MULMOD</th>\n",
       "      <th>DIFFICULTY</th>\n",
       "      <th>BALANCE</th>\n",
       "      <th>BASEFEE</th>\n",
       "      <th>SDIV</th>\n",
       "      <th>CALLCODE</th>\n",
       "      <th>SGT</th>\n",
       "      <th>EXTCODECOPY</th>\n",
       "      <th>SIGNEXTEND</th>\n",
       "      <th>DELEGATECALL</th>\n",
       "    </tr>\n",
       "    <tr>\n",
       "      <th>address</th>\n",
       "      <th></th>\n",
       "      <th></th>\n",
       "      <th></th>\n",
       "      <th></th>\n",
       "      <th></th>\n",
       "      <th></th>\n",
       "      <th></th>\n",
       "      <th></th>\n",
       "      <th></th>\n",
       "      <th></th>\n",
       "      <th></th>\n",
       "      <th></th>\n",
       "      <th></th>\n",
       "      <th></th>\n",
       "      <th></th>\n",
       "      <th></th>\n",
       "      <th></th>\n",
       "      <th></th>\n",
       "      <th></th>\n",
       "      <th></th>\n",
       "      <th></th>\n",
       "    </tr>\n",
       "  </thead>\n",
       "  <tbody>\n",
       "    <tr>\n",
       "      <th>0x93023f1d3525e273f291b6f76d2f5027a39bf302</th>\n",
       "      <td>1</td>\n",
       "      <td>0</td>\n",
       "      <td>1</td>\n",
       "      <td>734</td>\n",
       "      <td>119.0</td>\n",
       "      <td>14</td>\n",
       "      <td>9.0</td>\n",
       "      <td>67</td>\n",
       "      <td>8.0</td>\n",
       "      <td>187</td>\n",
       "      <td>...</td>\n",
       "      <td>0.0</td>\n",
       "      <td>0.0</td>\n",
       "      <td>0.0</td>\n",
       "      <td>0.0</td>\n",
       "      <td>0.0</td>\n",
       "      <td>0.0</td>\n",
       "      <td>0.0</td>\n",
       "      <td>0.0</td>\n",
       "      <td>0.0</td>\n",
       "      <td>0.0</td>\n",
       "    </tr>\n",
       "    <tr>\n",
       "      <th>0x2753dce37a7edb052a77832039bcc9aa49ad8b25</th>\n",
       "      <td>0</td>\n",
       "      <td>0</td>\n",
       "      <td>1</td>\n",
       "      <td>1155</td>\n",
       "      <td>179.0</td>\n",
       "      <td>23</td>\n",
       "      <td>13.0</td>\n",
       "      <td>101</td>\n",
       "      <td>7.0</td>\n",
       "      <td>264</td>\n",
       "      <td>...</td>\n",
       "      <td>0.0</td>\n",
       "      <td>0.0</td>\n",
       "      <td>0.0</td>\n",
       "      <td>0.0</td>\n",
       "      <td>0.0</td>\n",
       "      <td>0.0</td>\n",
       "      <td>0.0</td>\n",
       "      <td>0.0</td>\n",
       "      <td>0.0</td>\n",
       "      <td>0.0</td>\n",
       "    </tr>\n",
       "    <tr>\n",
       "      <th>0x94b7d24552933f50a5a5705c446528806dcea381</th>\n",
       "      <td>0</td>\n",
       "      <td>0</td>\n",
       "      <td>0</td>\n",
       "      <td>20</td>\n",
       "      <td>3.0</td>\n",
       "      <td>2</td>\n",
       "      <td>0.0</td>\n",
       "      <td>2</td>\n",
       "      <td>1.0</td>\n",
       "      <td>4</td>\n",
       "      <td>...</td>\n",
       "      <td>0.0</td>\n",
       "      <td>0.0</td>\n",
       "      <td>0.0</td>\n",
       "      <td>0.0</td>\n",
       "      <td>0.0</td>\n",
       "      <td>0.0</td>\n",
       "      <td>0.0</td>\n",
       "      <td>0.0</td>\n",
       "      <td>0.0</td>\n",
       "      <td>1.0</td>\n",
       "    </tr>\n",
       "    <tr>\n",
       "      <th>0xe0b9d4146aad6936cbfcbe4dae47e34aab96b093</th>\n",
       "      <td>0</td>\n",
       "      <td>0</td>\n",
       "      <td>0</td>\n",
       "      <td>1135</td>\n",
       "      <td>107.0</td>\n",
       "      <td>9</td>\n",
       "      <td>10.0</td>\n",
       "      <td>96</td>\n",
       "      <td>3.0</td>\n",
       "      <td>464</td>\n",
       "      <td>...</td>\n",
       "      <td>0.0</td>\n",
       "      <td>0.0</td>\n",
       "      <td>0.0</td>\n",
       "      <td>0.0</td>\n",
       "      <td>0.0</td>\n",
       "      <td>0.0</td>\n",
       "      <td>0.0</td>\n",
       "      <td>0.0</td>\n",
       "      <td>0.0</td>\n",
       "      <td>0.0</td>\n",
       "    </tr>\n",
       "    <tr>\n",
       "      <th>0x10f6f2b97f3ab29583d9d38babf2994df7220c21</th>\n",
       "      <td>1</td>\n",
       "      <td>0</td>\n",
       "      <td>1</td>\n",
       "      <td>1623</td>\n",
       "      <td>150.0</td>\n",
       "      <td>18</td>\n",
       "      <td>18.0</td>\n",
       "      <td>115</td>\n",
       "      <td>6.0</td>\n",
       "      <td>722</td>\n",
       "      <td>...</td>\n",
       "      <td>0.0</td>\n",
       "      <td>0.0</td>\n",
       "      <td>0.0</td>\n",
       "      <td>0.0</td>\n",
       "      <td>0.0</td>\n",
       "      <td>0.0</td>\n",
       "      <td>0.0</td>\n",
       "      <td>0.0</td>\n",
       "      <td>0.0</td>\n",
       "      <td>0.0</td>\n",
       "    </tr>\n",
       "  </tbody>\n",
       "</table>\n",
       "<p>5 rows × 81 columns</p>\n",
       "</div>"
      ],
      "text/plain": [
       "                                            mint  leak  limit  PUSH  MSTORE  \\\n",
       "address                                                                       \n",
       "0x93023f1d3525e273f291b6f76d2f5027a39bf302     1     0      1   734   119.0   \n",
       "0x2753dce37a7edb052a77832039bcc9aa49ad8b25     0     0      1  1155   179.0   \n",
       "0x94b7d24552933f50a5a5705c446528806dcea381     0     0      0    20     3.0   \n",
       "0xe0b9d4146aad6936cbfcbe4dae47e34aab96b093     0     0      0  1135   107.0   \n",
       "0x10f6f2b97f3ab29583d9d38babf2994df7220c21     1     0      1  1623   150.0   \n",
       "\n",
       "                                            CALLDATASIZE    LT  JUMPI  \\\n",
       "address                                                                 \n",
       "0x93023f1d3525e273f291b6f76d2f5027a39bf302            14   9.0     67   \n",
       "0x2753dce37a7edb052a77832039bcc9aa49ad8b25            23  13.0    101   \n",
       "0x94b7d24552933f50a5a5705c446528806dcea381             2   0.0      2   \n",
       "0xe0b9d4146aad6936cbfcbe4dae47e34aab96b093             9  10.0     96   \n",
       "0x10f6f2b97f3ab29583d9d38babf2994df7220c21            18  18.0    115   \n",
       "\n",
       "                                            CALLDATALOAD  SWAP  ...  MULMOD  \\\n",
       "address                                                         ...           \n",
       "0x93023f1d3525e273f291b6f76d2f5027a39bf302           8.0   187  ...     0.0   \n",
       "0x2753dce37a7edb052a77832039bcc9aa49ad8b25           7.0   264  ...     0.0   \n",
       "0x94b7d24552933f50a5a5705c446528806dcea381           1.0     4  ...     0.0   \n",
       "0xe0b9d4146aad6936cbfcbe4dae47e34aab96b093           3.0   464  ...     0.0   \n",
       "0x10f6f2b97f3ab29583d9d38babf2994df7220c21           6.0   722  ...     0.0   \n",
       "\n",
       "                                            DIFFICULTY  BALANCE  BASEFEE  \\\n",
       "address                                                                    \n",
       "0x93023f1d3525e273f291b6f76d2f5027a39bf302         0.0      0.0      0.0   \n",
       "0x2753dce37a7edb052a77832039bcc9aa49ad8b25         0.0      0.0      0.0   \n",
       "0x94b7d24552933f50a5a5705c446528806dcea381         0.0      0.0      0.0   \n",
       "0xe0b9d4146aad6936cbfcbe4dae47e34aab96b093         0.0      0.0      0.0   \n",
       "0x10f6f2b97f3ab29583d9d38babf2994df7220c21         0.0      0.0      0.0   \n",
       "\n",
       "                                            SDIV  CALLCODE  SGT  EXTCODECOPY  \\\n",
       "address                                                                        \n",
       "0x93023f1d3525e273f291b6f76d2f5027a39bf302   0.0       0.0  0.0          0.0   \n",
       "0x2753dce37a7edb052a77832039bcc9aa49ad8b25   0.0       0.0  0.0          0.0   \n",
       "0x94b7d24552933f50a5a5705c446528806dcea381   0.0       0.0  0.0          0.0   \n",
       "0xe0b9d4146aad6936cbfcbe4dae47e34aab96b093   0.0       0.0  0.0          0.0   \n",
       "0x10f6f2b97f3ab29583d9d38babf2994df7220c21   0.0       0.0  0.0          0.0   \n",
       "\n",
       "                                            SIGNEXTEND  DELEGATECALL  \n",
       "address                                                               \n",
       "0x93023f1d3525e273f291b6f76d2f5027a39bf302         0.0           0.0  \n",
       "0x2753dce37a7edb052a77832039bcc9aa49ad8b25         0.0           0.0  \n",
       "0x94b7d24552933f50a5a5705c446528806dcea381         0.0           1.0  \n",
       "0xe0b9d4146aad6936cbfcbe4dae47e34aab96b093         0.0           0.0  \n",
       "0x10f6f2b97f3ab29583d9d38babf2994df7220c21         0.0           0.0  \n",
       "\n",
       "[5 rows x 81 columns]"
      ]
     },
     "execution_count": 6,
     "metadata": {},
     "output_type": "execute_result"
    }
   ],
   "source": [
    "df.head()"
   ]
  },
  {
   "cell_type": "code",
   "execution_count": 7,
   "id": "bdc02200",
   "metadata": {},
   "outputs": [
    {
     "data": {
      "text/plain": [
       "['PUSH', 'MSTORE', 'CALLDATASIZE', 'LT', 'JUMPI']"
      ]
     },
     "execution_count": 7,
     "metadata": {},
     "output_type": "execute_result"
    }
   ],
   "source": [
    "features[:5]"
   ]
  },
  {
   "cell_type": "code",
   "execution_count": 8,
   "id": "1af91f6d",
   "metadata": {},
   "outputs": [
    {
     "data": {
      "text/plain": [
       "['mint', 'leak', 'limit']"
      ]
     },
     "execution_count": 8,
     "metadata": {},
     "output_type": "execute_result"
    }
   ],
   "source": [
    "labels[:5]"
   ]
  },
  {
   "cell_type": "markdown",
   "id": "5196a65d",
   "metadata": {},
   "source": [
    "## Prepare Features and Labels"
   ]
  },
  {
   "cell_type": "code",
   "execution_count": 9,
   "id": "c86f3267",
   "metadata": {},
   "outputs": [],
   "source": [
    "X = df[features]\n",
    "y_mint = df[['mint']]\n",
    "y_leak = df[['leak']]\n",
    "y_limit = df[['limit']]"
   ]
  },
  {
   "cell_type": "markdown",
   "id": "f3c7ea05",
   "metadata": {},
   "source": [
    "## Train/Test Split"
   ]
  },
  {
   "cell_type": "code",
   "execution_count": 10,
   "id": "72e9fa87",
   "metadata": {},
   "outputs": [],
   "source": [
    "X_mint_train, X_mint_test, y_mint_train, y_mint_test = train_test_split(\n",
    "    X, y_mint, test_size=0.2, random_state=42\n",
    ")\n",
    "\n",
    "X_leak_train, X_leak_test, y_leak_train, y_leak_test = train_test_split(\n",
    "    X, y_leak, test_size=0.2, random_state=42\n",
    ")\n",
    "\n",
    "X_limit_train, X_limit_test, y_limit_train, y_limit_test = train_test_split(\n",
    "    X, y_limit, test_size=0.2, random_state=42\n",
    ")"
   ]
  },
  {
   "cell_type": "markdown",
   "id": "3363d121",
   "metadata": {},
   "source": [
    "## Run all models and collect reports"
   ]
  },
  {
   "cell_type": "code",
   "execution_count": 11,
   "id": "0bd4e321",
   "metadata": {},
   "outputs": [],
   "source": [
    "def get_report_all_ml(X_train, y_train, X_test, y_test):\n",
    "    report_list = []\n",
    "\n",
    "    for name, model in models.items():\n",
    "        model.fit(X_train, y_train)\n",
    "        y_pred = model.predict(X_test)\n",
    "\n",
    "        # Generate classification report (as dict)\n",
    "        report_dict = classification_report(y_test, y_pred, output_dict=True, zero_division=0)\n",
    "\n",
    "        # Average scores across all labels (macro average)\n",
    "        avg_scores = report_dict[\"macro avg\"]\n",
    "\n",
    "        report_list.append({\n",
    "            \"Model\": name,\n",
    "            \"Precision\": avg_scores[\"precision\"],\n",
    "            \"Recall\": avg_scores[\"recall\"],\n",
    "            \"F1-score\": avg_scores[\"f1-score\"]\n",
    "        })\n",
    "\n",
    "    df_report = pd.DataFrame(report_list)\n",
    "    df_report = df_report.sort_values(\"F1-score\", ascending=False).reset_index(drop=True)\n",
    "\n",
    "    return df_report"
   ]
  },
  {
   "cell_type": "code",
   "execution_count": 12,
   "id": "533a5a55",
   "metadata": {},
   "outputs": [],
   "source": [
    "def display_cm(y_test, y_pred):\n",
    "    cm = confusion_matrix(y_test, y_pred)\n",
    "    cm_display = ConfusionMatrixDisplay(confusion_matrix = cm, display_labels = [0, 1])\n",
    "    return cm_display"
   ]
  },
  {
   "cell_type": "markdown",
   "id": "6da5e9be",
   "metadata": {},
   "source": [
    "## Show report"
   ]
  },
  {
   "cell_type": "code",
   "execution_count": 13,
   "id": "f85a888a",
   "metadata": {},
   "outputs": [
    {
     "name": "stdout",
     "output_type": "stream",
     "text": [
      "[LightGBM] [Info] Number of positive: 14, number of negative: 41\n",
      "[LightGBM] [Info] Auto-choosing col-wise multi-threading, the overhead of testing was 0.000162 seconds.\n",
      "You can set `force_col_wise=true` to remove the overhead.\n",
      "[LightGBM] [Info] Total Bins 634\n",
      "[LightGBM] [Info] Number of data points in the train set: 55, number of used features: 51\n",
      "[LightGBM] [Info] [binary:BoostFromScore]: pavg=0.254545 -> initscore=-1.074515\n",
      "[LightGBM] [Info] Start training from score -1.074515\n",
      "[LightGBM] [Warning] No further splits with positive gain, best gain: -inf\n",
      "[LightGBM] [Warning] No further splits with positive gain, best gain: -inf\n",
      "[LightGBM] [Warning] No further splits with positive gain, best gain: -inf\n",
      "[LightGBM] [Warning] No further splits with positive gain, best gain: -inf\n",
      "[LightGBM] [Warning] No further splits with positive gain, best gain: -inf\n",
      "[LightGBM] [Warning] No further splits with positive gain, best gain: -inf\n",
      "[LightGBM] [Warning] No further splits with positive gain, best gain: -inf\n",
      "[LightGBM] [Warning] No further splits with positive gain, best gain: -inf\n",
      "[LightGBM] [Warning] No further splits with positive gain, best gain: -inf\n",
      "[LightGBM] [Warning] No further splits with positive gain, best gain: -inf\n",
      "[LightGBM] [Warning] No further splits with positive gain, best gain: -inf\n",
      "[LightGBM] [Warning] No further splits with positive gain, best gain: -inf\n",
      "[LightGBM] [Warning] No further splits with positive gain, best gain: -inf\n",
      "[LightGBM] [Warning] No further splits with positive gain, best gain: -inf\n",
      "[LightGBM] [Warning] No further splits with positive gain, best gain: -inf\n",
      "[LightGBM] [Warning] No further splits with positive gain, best gain: -inf\n",
      "[LightGBM] [Warning] No further splits with positive gain, best gain: -inf\n",
      "[LightGBM] [Warning] No further splits with positive gain, best gain: -inf\n",
      "[LightGBM] [Warning] No further splits with positive gain, best gain: -inf\n",
      "[LightGBM] [Warning] No further splits with positive gain, best gain: -inf\n",
      "[LightGBM] [Warning] No further splits with positive gain, best gain: -inf\n",
      "[LightGBM] [Warning] No further splits with positive gain, best gain: -inf\n",
      "[LightGBM] [Warning] No further splits with positive gain, best gain: -inf\n",
      "[LightGBM] [Warning] No further splits with positive gain, best gain: -inf\n",
      "[LightGBM] [Warning] No further splits with positive gain, best gain: -inf\n",
      "[LightGBM] [Warning] No further splits with positive gain, best gain: -inf\n",
      "[LightGBM] [Warning] No further splits with positive gain, best gain: -inf\n",
      "[LightGBM] [Warning] No further splits with positive gain, best gain: -inf\n",
      "[LightGBM] [Warning] No further splits with positive gain, best gain: -inf\n",
      "[LightGBM] [Warning] No further splits with positive gain, best gain: -inf\n",
      "[LightGBM] [Warning] No further splits with positive gain, best gain: -inf\n",
      "[LightGBM] [Warning] No further splits with positive gain, best gain: -inf\n",
      "[LightGBM] [Warning] No further splits with positive gain, best gain: -inf\n",
      "[LightGBM] [Warning] No further splits with positive gain, best gain: -inf\n",
      "[LightGBM] [Warning] No further splits with positive gain, best gain: -inf\n",
      "[LightGBM] [Warning] No further splits with positive gain, best gain: -inf\n",
      "[LightGBM] [Warning] No further splits with positive gain, best gain: -inf\n",
      "[LightGBM] [Warning] No further splits with positive gain, best gain: -inf\n",
      "[LightGBM] [Warning] No further splits with positive gain, best gain: -inf\n",
      "[LightGBM] [Warning] No further splits with positive gain, best gain: -inf\n",
      "[LightGBM] [Warning] No further splits with positive gain, best gain: -inf\n",
      "[LightGBM] [Warning] No further splits with positive gain, best gain: -inf\n",
      "[LightGBM] [Warning] No further splits with positive gain, best gain: -inf\n",
      "[LightGBM] [Warning] No further splits with positive gain, best gain: -inf\n",
      "[LightGBM] [Warning] No further splits with positive gain, best gain: -inf\n",
      "[LightGBM] [Warning] No further splits with positive gain, best gain: -inf\n",
      "[LightGBM] [Warning] No further splits with positive gain, best gain: -inf\n",
      "[LightGBM] [Warning] No further splits with positive gain, best gain: -inf\n",
      "[LightGBM] [Warning] No further splits with positive gain, best gain: -inf\n",
      "[LightGBM] [Warning] No further splits with positive gain, best gain: -inf\n",
      "[LightGBM] [Warning] No further splits with positive gain, best gain: -inf\n",
      "[LightGBM] [Warning] No further splits with positive gain, best gain: -inf\n",
      "[LightGBM] [Warning] No further splits with positive gain, best gain: -inf\n",
      "[LightGBM] [Warning] No further splits with positive gain, best gain: -inf\n",
      "[LightGBM] [Warning] No further splits with positive gain, best gain: -inf\n",
      "[LightGBM] [Warning] No further splits with positive gain, best gain: -inf\n",
      "[LightGBM] [Warning] No further splits with positive gain, best gain: -inf\n",
      "[LightGBM] [Warning] No further splits with positive gain, best gain: -inf\n",
      "[LightGBM] [Warning] No further splits with positive gain, best gain: -inf\n",
      "[LightGBM] [Warning] No further splits with positive gain, best gain: -inf\n",
      "[LightGBM] [Warning] No further splits with positive gain, best gain: -inf\n",
      "[LightGBM] [Warning] No further splits with positive gain, best gain: -inf\n",
      "[LightGBM] [Warning] No further splits with positive gain, best gain: -inf\n",
      "[LightGBM] [Warning] No further splits with positive gain, best gain: -inf\n",
      "[LightGBM] [Warning] No further splits with positive gain, best gain: -inf\n",
      "[LightGBM] [Warning] No further splits with positive gain, best gain: -inf\n",
      "[LightGBM] [Warning] No further splits with positive gain, best gain: -inf\n",
      "[LightGBM] [Warning] No further splits with positive gain, best gain: -inf\n",
      "[LightGBM] [Warning] No further splits with positive gain, best gain: -inf\n",
      "[LightGBM] [Warning] No further splits with positive gain, best gain: -inf\n",
      "[LightGBM] [Warning] No further splits with positive gain, best gain: -inf\n",
      "[LightGBM] [Warning] No further splits with positive gain, best gain: -inf\n",
      "[LightGBM] [Warning] No further splits with positive gain, best gain: -inf\n",
      "[LightGBM] [Warning] No further splits with positive gain, best gain: -inf\n",
      "[LightGBM] [Warning] No further splits with positive gain, best gain: -inf\n",
      "[LightGBM] [Warning] No further splits with positive gain, best gain: -inf\n",
      "[LightGBM] [Warning] No further splits with positive gain, best gain: -inf\n",
      "[LightGBM] [Warning] No further splits with positive gain, best gain: -inf\n",
      "[LightGBM] [Warning] No further splits with positive gain, best gain: -inf\n",
      "[LightGBM] [Warning] No further splits with positive gain, best gain: -inf\n",
      "[LightGBM] [Warning] No further splits with positive gain, best gain: -inf\n",
      "[LightGBM] [Warning] No further splits with positive gain, best gain: -inf\n",
      "[LightGBM] [Warning] No further splits with positive gain, best gain: -inf\n",
      "[LightGBM] [Warning] No further splits with positive gain, best gain: -inf\n",
      "[LightGBM] [Warning] No further splits with positive gain, best gain: -inf\n",
      "[LightGBM] [Warning] No further splits with positive gain, best gain: -inf\n",
      "[LightGBM] [Warning] No further splits with positive gain, best gain: -inf\n",
      "[LightGBM] [Warning] No further splits with positive gain, best gain: -inf\n",
      "[LightGBM] [Warning] No further splits with positive gain, best gain: -inf\n",
      "[LightGBM] [Warning] No further splits with positive gain, best gain: -inf\n",
      "[LightGBM] [Warning] No further splits with positive gain, best gain: -inf\n",
      "[LightGBM] [Warning] No further splits with positive gain, best gain: -inf\n",
      "[LightGBM] [Warning] No further splits with positive gain, best gain: -inf\n",
      "[LightGBM] [Warning] No further splits with positive gain, best gain: -inf\n",
      "[LightGBM] [Warning] No further splits with positive gain, best gain: -inf\n",
      "[LightGBM] [Warning] No further splits with positive gain, best gain: -inf\n",
      "[LightGBM] [Warning] No further splits with positive gain, best gain: -inf\n",
      "[LightGBM] [Warning] No further splits with positive gain, best gain: -inf\n",
      "[LightGBM] [Warning] No further splits with positive gain, best gain: -inf\n",
      "[LightGBM] [Warning] No further splits with positive gain, best gain: -inf\n",
      "[LightGBM] [Info] Number of positive: 6, number of negative: 49\n",
      "[LightGBM] [Info] Auto-choosing row-wise multi-threading, the overhead of testing was 0.000023 seconds.\n",
      "You can set `force_row_wise=true` to remove the overhead.\n",
      "And if memory is not enough, you can set `force_col_wise=true`.\n",
      "[LightGBM] [Info] Total Bins 634\n",
      "[LightGBM] [Info] Number of data points in the train set: 55, number of used features: 51\n",
      "[LightGBM] [Info] [binary:BoostFromScore]: pavg=0.109091 -> initscore=-2.100061\n",
      "[LightGBM] [Info] Start training from score -2.100061\n",
      "[LightGBM] [Warning] No further splits with positive gain, best gain: -inf\n",
      "[LightGBM] [Warning] No further splits with positive gain, best gain: -inf\n",
      "[LightGBM] [Warning] No further splits with positive gain, best gain: -inf\n",
      "[LightGBM] [Warning] No further splits with positive gain, best gain: -inf\n",
      "[LightGBM] [Warning] No further splits with positive gain, best gain: -inf\n",
      "[LightGBM] [Warning] No further splits with positive gain, best gain: -inf\n",
      "[LightGBM] [Warning] No further splits with positive gain, best gain: -inf\n",
      "[LightGBM] [Warning] No further splits with positive gain, best gain: -inf\n",
      "[LightGBM] [Warning] No further splits with positive gain, best gain: -inf\n",
      "[LightGBM] [Warning] No further splits with positive gain, best gain: -inf\n",
      "[LightGBM] [Warning] No further splits with positive gain, best gain: -inf\n",
      "[LightGBM] [Warning] No further splits with positive gain, best gain: -inf\n",
      "[LightGBM] [Warning] No further splits with positive gain, best gain: -inf\n",
      "[LightGBM] [Warning] No further splits with positive gain, best gain: -inf\n",
      "[LightGBM] [Warning] No further splits with positive gain, best gain: -inf\n",
      "[LightGBM] [Warning] No further splits with positive gain, best gain: -inf\n",
      "[LightGBM] [Warning] No further splits with positive gain, best gain: -inf\n",
      "[LightGBM] [Warning] No further splits with positive gain, best gain: -inf\n",
      "[LightGBM] [Warning] No further splits with positive gain, best gain: -inf\n",
      "[LightGBM] [Warning] No further splits with positive gain, best gain: -inf\n",
      "[LightGBM] [Warning] No further splits with positive gain, best gain: -inf\n",
      "[LightGBM] [Warning] No further splits with positive gain, best gain: -inf\n",
      "[LightGBM] [Warning] No further splits with positive gain, best gain: -inf\n",
      "[LightGBM] [Warning] No further splits with positive gain, best gain: -inf\n",
      "[LightGBM] [Warning] No further splits with positive gain, best gain: -inf\n",
      "[LightGBM] [Warning] No further splits with positive gain, best gain: -inf\n",
      "[LightGBM] [Warning] No further splits with positive gain, best gain: -inf\n",
      "[LightGBM] [Warning] No further splits with positive gain, best gain: -inf\n",
      "[LightGBM] [Warning] No further splits with positive gain, best gain: -inf\n",
      "[LightGBM] [Warning] No further splits with positive gain, best gain: -inf\n",
      "[LightGBM] [Warning] No further splits with positive gain, best gain: -inf\n",
      "[LightGBM] [Warning] No further splits with positive gain, best gain: -inf\n",
      "[LightGBM] [Warning] No further splits with positive gain, best gain: -inf\n",
      "[LightGBM] [Warning] No further splits with positive gain, best gain: -inf\n",
      "[LightGBM] [Warning] No further splits with positive gain, best gain: -inf\n",
      "[LightGBM] [Warning] No further splits with positive gain, best gain: -inf\n",
      "[LightGBM] [Warning] No further splits with positive gain, best gain: -inf\n",
      "[LightGBM] [Warning] No further splits with positive gain, best gain: -inf\n",
      "[LightGBM] [Warning] No further splits with positive gain, best gain: -inf\n",
      "[LightGBM] [Warning] No further splits with positive gain, best gain: -inf\n",
      "[LightGBM] [Warning] No further splits with positive gain, best gain: -inf\n",
      "[LightGBM] [Warning] No further splits with positive gain, best gain: -inf\n",
      "[LightGBM] [Warning] No further splits with positive gain, best gain: -inf\n",
      "[LightGBM] [Warning] No further splits with positive gain, best gain: -inf\n",
      "[LightGBM] [Warning] No further splits with positive gain, best gain: -inf\n",
      "[LightGBM] [Warning] No further splits with positive gain, best gain: -inf\n",
      "[LightGBM] [Warning] No further splits with positive gain, best gain: -inf\n",
      "[LightGBM] [Warning] No further splits with positive gain, best gain: -inf\n",
      "[LightGBM] [Warning] No further splits with positive gain, best gain: -inf\n",
      "[LightGBM] [Warning] No further splits with positive gain, best gain: -inf\n",
      "[LightGBM] [Warning] No further splits with positive gain, best gain: -inf\n",
      "[LightGBM] [Warning] No further splits with positive gain, best gain: -inf\n",
      "[LightGBM] [Warning] No further splits with positive gain, best gain: -inf\n",
      "[LightGBM] [Warning] No further splits with positive gain, best gain: -inf\n",
      "[LightGBM] [Warning] No further splits with positive gain, best gain: -inf\n",
      "[LightGBM] [Warning] No further splits with positive gain, best gain: -inf\n",
      "[LightGBM] [Warning] No further splits with positive gain, best gain: -inf\n",
      "[LightGBM] [Warning] No further splits with positive gain, best gain: -inf\n",
      "[LightGBM] [Warning] No further splits with positive gain, best gain: -inf\n",
      "[LightGBM] [Warning] No further splits with positive gain, best gain: -inf\n",
      "[LightGBM] [Warning] No further splits with positive gain, best gain: -inf\n",
      "[LightGBM] [Warning] No further splits with positive gain, best gain: -inf\n",
      "[LightGBM] [Warning] No further splits with positive gain, best gain: -inf\n",
      "[LightGBM] [Warning] No further splits with positive gain, best gain: -inf\n",
      "[LightGBM] [Warning] No further splits with positive gain, best gain: -inf\n",
      "[LightGBM] [Warning] No further splits with positive gain, best gain: -inf\n",
      "[LightGBM] [Warning] No further splits with positive gain, best gain: -inf\n",
      "[LightGBM] [Warning] No further splits with positive gain, best gain: -inf\n",
      "[LightGBM] [Warning] No further splits with positive gain, best gain: -inf\n",
      "[LightGBM] [Warning] No further splits with positive gain, best gain: -inf\n",
      "[LightGBM] [Warning] No further splits with positive gain, best gain: -inf\n",
      "[LightGBM] [Warning] No further splits with positive gain, best gain: -inf\n",
      "[LightGBM] [Warning] No further splits with positive gain, best gain: -inf\n",
      "[LightGBM] [Warning] No further splits with positive gain, best gain: -inf\n",
      "[LightGBM] [Warning] No further splits with positive gain, best gain: -inf\n",
      "[LightGBM] [Warning] No further splits with positive gain, best gain: -inf\n",
      "[LightGBM] [Warning] No further splits with positive gain, best gain: -inf\n",
      "[LightGBM] [Warning] No further splits with positive gain, best gain: -inf\n",
      "[LightGBM] [Warning] No further splits with positive gain, best gain: -inf\n",
      "[LightGBM] [Warning] No further splits with positive gain, best gain: -inf\n",
      "[LightGBM] [Warning] No further splits with positive gain, best gain: -inf\n",
      "[LightGBM] [Warning] No further splits with positive gain, best gain: -inf\n",
      "[LightGBM] [Warning] No further splits with positive gain, best gain: -inf\n",
      "[LightGBM] [Warning] No further splits with positive gain, best gain: -inf\n",
      "[LightGBM] [Warning] No further splits with positive gain, best gain: -inf\n",
      "[LightGBM] [Warning] No further splits with positive gain, best gain: -inf\n",
      "[LightGBM] [Warning] No further splits with positive gain, best gain: -inf\n",
      "[LightGBM] [Warning] No further splits with positive gain, best gain: -inf\n",
      "[LightGBM] [Warning] No further splits with positive gain, best gain: -inf\n",
      "[LightGBM] [Warning] No further splits with positive gain, best gain: -inf\n",
      "[LightGBM] [Warning] No further splits with positive gain, best gain: -inf\n",
      "[LightGBM] [Warning] No further splits with positive gain, best gain: -inf\n",
      "[LightGBM] [Warning] No further splits with positive gain, best gain: -inf\n",
      "[LightGBM] [Warning] No further splits with positive gain, best gain: -inf\n",
      "[LightGBM] [Warning] No further splits with positive gain, best gain: -inf\n",
      "[LightGBM] [Warning] No further splits with positive gain, best gain: -inf\n",
      "[LightGBM] [Warning] No further splits with positive gain, best gain: -inf\n",
      "[LightGBM] [Warning] No further splits with positive gain, best gain: -inf\n",
      "[LightGBM] [Warning] No further splits with positive gain, best gain: -inf\n",
      "[LightGBM] [Warning] No further splits with positive gain, best gain: -inf\n",
      "[LightGBM] [Info] Number of positive: 21, number of negative: 34\n",
      "[LightGBM] [Info] Auto-choosing row-wise multi-threading, the overhead of testing was 0.000035 seconds.\n",
      "You can set `force_row_wise=true` to remove the overhead.\n",
      "And if memory is not enough, you can set `force_col_wise=true`.\n",
      "[LightGBM] [Info] Total Bins 634\n",
      "[LightGBM] [Info] Number of data points in the train set: 55, number of used features: 51\n",
      "[LightGBM] [Info] [binary:BoostFromScore]: pavg=0.381818 -> initscore=-0.481838\n",
      "[LightGBM] [Info] Start training from score -0.481838\n",
      "[LightGBM] [Warning] No further splits with positive gain, best gain: -inf\n",
      "[LightGBM] [Warning] No further splits with positive gain, best gain: -inf\n",
      "[LightGBM] [Warning] No further splits with positive gain, best gain: -inf\n",
      "[LightGBM] [Warning] No further splits with positive gain, best gain: -inf\n",
      "[LightGBM] [Warning] No further splits with positive gain, best gain: -inf\n",
      "[LightGBM] [Warning] No further splits with positive gain, best gain: -inf\n",
      "[LightGBM] [Warning] No further splits with positive gain, best gain: -inf\n",
      "[LightGBM] [Warning] No further splits with positive gain, best gain: -inf\n",
      "[LightGBM] [Warning] No further splits with positive gain, best gain: -inf\n",
      "[LightGBM] [Warning] No further splits with positive gain, best gain: -inf\n",
      "[LightGBM] [Warning] No further splits with positive gain, best gain: -inf\n",
      "[LightGBM] [Warning] No further splits with positive gain, best gain: -inf\n",
      "[LightGBM] [Warning] No further splits with positive gain, best gain: -inf\n",
      "[LightGBM] [Warning] No further splits with positive gain, best gain: -inf\n",
      "[LightGBM] [Warning] No further splits with positive gain, best gain: -inf\n",
      "[LightGBM] [Warning] No further splits with positive gain, best gain: -inf\n",
      "[LightGBM] [Warning] No further splits with positive gain, best gain: -inf\n",
      "[LightGBM] [Warning] No further splits with positive gain, best gain: -inf\n",
      "[LightGBM] [Warning] No further splits with positive gain, best gain: -inf\n",
      "[LightGBM] [Warning] No further splits with positive gain, best gain: -inf\n",
      "[LightGBM] [Warning] No further splits with positive gain, best gain: -inf\n",
      "[LightGBM] [Warning] No further splits with positive gain, best gain: -inf\n",
      "[LightGBM] [Warning] No further splits with positive gain, best gain: -inf\n",
      "[LightGBM] [Warning] No further splits with positive gain, best gain: -inf\n",
      "[LightGBM] [Warning] No further splits with positive gain, best gain: -inf\n",
      "[LightGBM] [Warning] No further splits with positive gain, best gain: -inf\n",
      "[LightGBM] [Warning] No further splits with positive gain, best gain: -inf\n",
      "[LightGBM] [Warning] No further splits with positive gain, best gain: -inf\n",
      "[LightGBM] [Warning] No further splits with positive gain, best gain: -inf\n",
      "[LightGBM] [Warning] No further splits with positive gain, best gain: -inf\n",
      "[LightGBM] [Warning] No further splits with positive gain, best gain: -inf\n",
      "[LightGBM] [Warning] No further splits with positive gain, best gain: -inf\n",
      "[LightGBM] [Warning] No further splits with positive gain, best gain: -inf\n",
      "[LightGBM] [Warning] No further splits with positive gain, best gain: -inf\n",
      "[LightGBM] [Warning] No further splits with positive gain, best gain: -inf\n",
      "[LightGBM] [Warning] No further splits with positive gain, best gain: -inf\n",
      "[LightGBM] [Warning] No further splits with positive gain, best gain: -inf\n",
      "[LightGBM] [Warning] No further splits with positive gain, best gain: -inf\n",
      "[LightGBM] [Warning] No further splits with positive gain, best gain: -inf\n",
      "[LightGBM] [Warning] No further splits with positive gain, best gain: -inf\n",
      "[LightGBM] [Warning] No further splits with positive gain, best gain: -inf\n",
      "[LightGBM] [Warning] No further splits with positive gain, best gain: -inf\n",
      "[LightGBM] [Warning] No further splits with positive gain, best gain: -inf\n",
      "[LightGBM] [Warning] No further splits with positive gain, best gain: -inf\n",
      "[LightGBM] [Warning] No further splits with positive gain, best gain: -inf\n",
      "[LightGBM] [Warning] No further splits with positive gain, best gain: -inf\n",
      "[LightGBM] [Warning] No further splits with positive gain, best gain: -inf\n",
      "[LightGBM] [Warning] No further splits with positive gain, best gain: -inf\n",
      "[LightGBM] [Warning] No further splits with positive gain, best gain: -inf\n",
      "[LightGBM] [Warning] No further splits with positive gain, best gain: -inf\n",
      "[LightGBM] [Warning] No further splits with positive gain, best gain: -inf\n",
      "[LightGBM] [Warning] No further splits with positive gain, best gain: -inf\n",
      "[LightGBM] [Warning] No further splits with positive gain, best gain: -inf\n",
      "[LightGBM] [Warning] No further splits with positive gain, best gain: -inf\n",
      "[LightGBM] [Warning] No further splits with positive gain, best gain: -inf\n",
      "[LightGBM] [Warning] No further splits with positive gain, best gain: -inf\n",
      "[LightGBM] [Warning] No further splits with positive gain, best gain: -inf\n",
      "[LightGBM] [Warning] No further splits with positive gain, best gain: -inf\n",
      "[LightGBM] [Warning] No further splits with positive gain, best gain: -inf\n",
      "[LightGBM] [Warning] No further splits with positive gain, best gain: -inf\n",
      "[LightGBM] [Warning] No further splits with positive gain, best gain: -inf\n",
      "[LightGBM] [Warning] No further splits with positive gain, best gain: -inf\n",
      "[LightGBM] [Warning] No further splits with positive gain, best gain: -inf\n",
      "[LightGBM] [Warning] No further splits with positive gain, best gain: -inf\n",
      "[LightGBM] [Warning] No further splits with positive gain, best gain: -inf\n",
      "[LightGBM] [Warning] No further splits with positive gain, best gain: -inf\n",
      "[LightGBM] [Warning] No further splits with positive gain, best gain: -inf\n",
      "[LightGBM] [Warning] No further splits with positive gain, best gain: -inf\n",
      "[LightGBM] [Warning] No further splits with positive gain, best gain: -inf\n",
      "[LightGBM] [Warning] No further splits with positive gain, best gain: -inf\n",
      "[LightGBM] [Warning] No further splits with positive gain, best gain: -inf\n",
      "[LightGBM] [Warning] No further splits with positive gain, best gain: -inf\n",
      "[LightGBM] [Warning] No further splits with positive gain, best gain: -inf\n",
      "[LightGBM] [Warning] No further splits with positive gain, best gain: -inf\n",
      "[LightGBM] [Warning] No further splits with positive gain, best gain: -inf\n",
      "[LightGBM] [Warning] No further splits with positive gain, best gain: -inf\n",
      "[LightGBM] [Warning] No further splits with positive gain, best gain: -inf\n",
      "[LightGBM] [Warning] No further splits with positive gain, best gain: -inf\n",
      "[LightGBM] [Warning] No further splits with positive gain, best gain: -inf\n",
      "[LightGBM] [Warning] No further splits with positive gain, best gain: -inf\n",
      "[LightGBM] [Warning] No further splits with positive gain, best gain: -inf\n",
      "[LightGBM] [Warning] No further splits with positive gain, best gain: -inf\n",
      "[LightGBM] [Warning] No further splits with positive gain, best gain: -inf\n",
      "[LightGBM] [Warning] No further splits with positive gain, best gain: -inf\n",
      "[LightGBM] [Warning] No further splits with positive gain, best gain: -inf\n",
      "[LightGBM] [Warning] No further splits with positive gain, best gain: -inf\n",
      "[LightGBM] [Warning] No further splits with positive gain, best gain: -inf\n",
      "[LightGBM] [Warning] No further splits with positive gain, best gain: -inf\n",
      "[LightGBM] [Warning] No further splits with positive gain, best gain: -inf\n",
      "[LightGBM] [Warning] No further splits with positive gain, best gain: -inf\n",
      "[LightGBM] [Warning] No further splits with positive gain, best gain: -inf\n",
      "[LightGBM] [Warning] No further splits with positive gain, best gain: -inf\n",
      "[LightGBM] [Warning] No further splits with positive gain, best gain: -inf\n",
      "[LightGBM] [Warning] No further splits with positive gain, best gain: -inf\n",
      "[LightGBM] [Warning] No further splits with positive gain, best gain: -inf\n",
      "[LightGBM] [Warning] No further splits with positive gain, best gain: -inf\n",
      "[LightGBM] [Warning] No further splits with positive gain, best gain: -inf\n",
      "[LightGBM] [Warning] No further splits with positive gain, best gain: -inf\n",
      "[LightGBM] [Warning] No further splits with positive gain, best gain: -inf\n",
      "[LightGBM] [Warning] No further splits with positive gain, best gain: -inf\n"
     ]
    }
   ],
   "source": [
    "data = {\n",
    "  'mint': {\n",
    "    \"X_train\": X_mint_train,\n",
    "    \"X_test\": X_mint_test,\n",
    "    \"y_train\": y_mint_train,\n",
    "    \"y_test\": y_mint_test\n",
    "  },\n",
    "  'leak': {\n",
    "    \"X_train\": X_leak_train,\n",
    "    \"X_test\": X_leak_test,\n",
    "    \"y_train\": y_leak_train,\n",
    "    \"y_test\": y_leak_test\n",
    "  },\n",
    "  'limit': {\n",
    "    \"X_train\": X_limit_train,\n",
    "    \"X_test\": X_limit_test,\n",
    "    \"y_train\": y_limit_train,\n",
    "    \"y_test\": y_limit_test\n",
    "  }\n",
    "}\n",
    "\n",
    "reports = []\n",
    "\n",
    "for d in data.values():\n",
    "    X_train = d['X_train']\n",
    "    X_test = d['X_test']\n",
    "    y_train = d['y_train']\n",
    "    y_test = d['y_test']\n",
    "    df_report = get_report_all_ml(X_train, y_train, X_test, y_test)\n",
    "    reports.append(df_report)"
   ]
  },
  {
   "cell_type": "code",
   "execution_count": 14,
   "id": "94771c09",
   "metadata": {},
   "outputs": [
    {
     "data": {
      "application/vnd.microsoft.datawrangler.viewer.v0+json": {
       "columns": [
        {
         "name": "index",
         "rawType": "int64",
         "type": "integer"
        },
        {
         "name": "Model",
         "rawType": "object",
         "type": "string"
        },
        {
         "name": "Precision",
         "rawType": "float64",
         "type": "float"
        },
        {
         "name": "Recall",
         "rawType": "float64",
         "type": "float"
        },
        {
         "name": "F1-score",
         "rawType": "float64",
         "type": "float"
        }
       ],
       "ref": "7e98d96d-43b5-4308-92c7-f93f90c65a81",
       "rows": [
        [
         "0",
         "KNeighborsClassifier()",
         "0.8636363636363636",
         "0.75",
         "0.7543859649122806"
        ],
        [
         "1",
         "RandomForestClassifier()",
         "0.8333333333333333",
         "0.6666666666666666",
         "0.65"
        ],
        [
         "2",
         "LGBMClassifier()",
         "0.8333333333333333",
         "0.6666666666666666",
         "0.65"
        ],
        [
         "3",
         "DecisionTreeClassifier()",
         "0.6515151515151515",
         "0.6041666666666666",
         "0.5906432748538011"
        ],
        [
         "4",
         "AdaBoostClassifier()",
         "0.6515151515151515",
         "0.6041666666666666",
         "0.5906432748538011"
        ],
        [
         "5",
         "MLPClassifier()",
         "0.5625",
         "0.5625",
         "0.5625"
        ],
        [
         "6",
         "XGBClassifier()",
         "0.8076923076923077",
         "0.5833333333333334",
         "0.5238095238095237"
        ],
        [
         "7",
         "ExtraTreesClassifier()",
         "0.8076923076923077",
         "0.5833333333333334",
         "0.5238095238095237"
        ],
        [
         "8",
         "GaussianNB()",
         "0.5",
         "0.5",
         "0.49743589743589745"
        ],
        [
         "9",
         "LogisticRegression()",
         "0.5416666666666667",
         "0.5208333333333334",
         "0.475"
        ],
        [
         "10",
         "SVC()",
         "0.2857142857142857",
         "0.5",
         "0.36363636363636365"
        ],
        [
         "11",
         "SGDClassifier()",
         "0.21428571428571427",
         "0.5",
         "0.3"
        ]
       ],
       "shape": {
        "columns": 4,
        "rows": 12
       }
      },
      "text/html": [
       "<div>\n",
       "<style scoped>\n",
       "    .dataframe tbody tr th:only-of-type {\n",
       "        vertical-align: middle;\n",
       "    }\n",
       "\n",
       "    .dataframe tbody tr th {\n",
       "        vertical-align: top;\n",
       "    }\n",
       "\n",
       "    .dataframe thead th {\n",
       "        text-align: right;\n",
       "    }\n",
       "</style>\n",
       "<table border=\"1\" class=\"dataframe\">\n",
       "  <thead>\n",
       "    <tr style=\"text-align: right;\">\n",
       "      <th></th>\n",
       "      <th>Model</th>\n",
       "      <th>Precision</th>\n",
       "      <th>Recall</th>\n",
       "      <th>F1-score</th>\n",
       "    </tr>\n",
       "  </thead>\n",
       "  <tbody>\n",
       "    <tr>\n",
       "      <th>0</th>\n",
       "      <td>KNeighborsClassifier()</td>\n",
       "      <td>0.863636</td>\n",
       "      <td>0.750000</td>\n",
       "      <td>0.754386</td>\n",
       "    </tr>\n",
       "    <tr>\n",
       "      <th>1</th>\n",
       "      <td>RandomForestClassifier()</td>\n",
       "      <td>0.833333</td>\n",
       "      <td>0.666667</td>\n",
       "      <td>0.650000</td>\n",
       "    </tr>\n",
       "    <tr>\n",
       "      <th>2</th>\n",
       "      <td>LGBMClassifier()</td>\n",
       "      <td>0.833333</td>\n",
       "      <td>0.666667</td>\n",
       "      <td>0.650000</td>\n",
       "    </tr>\n",
       "    <tr>\n",
       "      <th>3</th>\n",
       "      <td>DecisionTreeClassifier()</td>\n",
       "      <td>0.651515</td>\n",
       "      <td>0.604167</td>\n",
       "      <td>0.590643</td>\n",
       "    </tr>\n",
       "    <tr>\n",
       "      <th>4</th>\n",
       "      <td>AdaBoostClassifier()</td>\n",
       "      <td>0.651515</td>\n",
       "      <td>0.604167</td>\n",
       "      <td>0.590643</td>\n",
       "    </tr>\n",
       "    <tr>\n",
       "      <th>5</th>\n",
       "      <td>MLPClassifier()</td>\n",
       "      <td>0.562500</td>\n",
       "      <td>0.562500</td>\n",
       "      <td>0.562500</td>\n",
       "    </tr>\n",
       "    <tr>\n",
       "      <th>6</th>\n",
       "      <td>XGBClassifier()</td>\n",
       "      <td>0.807692</td>\n",
       "      <td>0.583333</td>\n",
       "      <td>0.523810</td>\n",
       "    </tr>\n",
       "    <tr>\n",
       "      <th>7</th>\n",
       "      <td>ExtraTreesClassifier()</td>\n",
       "      <td>0.807692</td>\n",
       "      <td>0.583333</td>\n",
       "      <td>0.523810</td>\n",
       "    </tr>\n",
       "    <tr>\n",
       "      <th>8</th>\n",
       "      <td>GaussianNB()</td>\n",
       "      <td>0.500000</td>\n",
       "      <td>0.500000</td>\n",
       "      <td>0.497436</td>\n",
       "    </tr>\n",
       "    <tr>\n",
       "      <th>9</th>\n",
       "      <td>LogisticRegression()</td>\n",
       "      <td>0.541667</td>\n",
       "      <td>0.520833</td>\n",
       "      <td>0.475000</td>\n",
       "    </tr>\n",
       "    <tr>\n",
       "      <th>10</th>\n",
       "      <td>SVC()</td>\n",
       "      <td>0.285714</td>\n",
       "      <td>0.500000</td>\n",
       "      <td>0.363636</td>\n",
       "    </tr>\n",
       "    <tr>\n",
       "      <th>11</th>\n",
       "      <td>SGDClassifier()</td>\n",
       "      <td>0.214286</td>\n",
       "      <td>0.500000</td>\n",
       "      <td>0.300000</td>\n",
       "    </tr>\n",
       "  </tbody>\n",
       "</table>\n",
       "</div>"
      ],
      "text/plain": [
       "                       Model  Precision    Recall  F1-score\n",
       "0     KNeighborsClassifier()   0.863636  0.750000  0.754386\n",
       "1   RandomForestClassifier()   0.833333  0.666667  0.650000\n",
       "2           LGBMClassifier()   0.833333  0.666667  0.650000\n",
       "3   DecisionTreeClassifier()   0.651515  0.604167  0.590643\n",
       "4       AdaBoostClassifier()   0.651515  0.604167  0.590643\n",
       "5            MLPClassifier()   0.562500  0.562500  0.562500\n",
       "6            XGBClassifier()   0.807692  0.583333  0.523810\n",
       "7     ExtraTreesClassifier()   0.807692  0.583333  0.523810\n",
       "8               GaussianNB()   0.500000  0.500000  0.497436\n",
       "9       LogisticRegression()   0.541667  0.520833  0.475000\n",
       "10                     SVC()   0.285714  0.500000  0.363636\n",
       "11           SGDClassifier()   0.214286  0.500000  0.300000"
      ]
     },
     "execution_count": 14,
     "metadata": {},
     "output_type": "execute_result"
    }
   ],
   "source": [
    "reports[0]"
   ]
  },
  {
   "cell_type": "code",
   "execution_count": 15,
   "id": "39f5059a",
   "metadata": {},
   "outputs": [
    {
     "data": {
      "application/vnd.microsoft.datawrangler.viewer.v0+json": {
       "columns": [
        {
         "name": "index",
         "rawType": "int64",
         "type": "integer"
        },
        {
         "name": "Model",
         "rawType": "object",
         "type": "string"
        },
        {
         "name": "Precision",
         "rawType": "float64",
         "type": "float"
        },
        {
         "name": "Recall",
         "rawType": "float64",
         "type": "float"
        },
        {
         "name": "F1-score",
         "rawType": "float64",
         "type": "float"
        }
       ],
       "ref": "d8654ff9-2955-4eef-a767-9c7e7a556819",
       "rows": [
        [
         "0",
         "KNeighborsClassifier()",
         "0.9230769230769231",
         "0.6666666666666666",
         "0.7083333333333333"
        ],
        [
         "1",
         "AdaBoostClassifier()",
         "0.6666666666666667",
         "0.6212121212121212",
         "0.6347826086956522"
        ],
        [
         "2",
         "GaussianNB()",
         "0.48888888888888893",
         "0.48484848484848486",
         "0.475"
        ],
        [
         "3",
         "RandomForestClassifier()",
         "0.39285714285714285",
         "0.5",
         "0.44"
        ],
        [
         "4",
         "SGDClassifier()",
         "0.39285714285714285",
         "0.5",
         "0.44"
        ],
        [
         "5",
         "LGBMClassifier()",
         "0.39285714285714285",
         "0.5",
         "0.44"
        ],
        [
         "6",
         "SVC()",
         "0.39285714285714285",
         "0.5",
         "0.44"
        ],
        [
         "7",
         "LogisticRegression()",
         "0.38461538461538464",
         "0.45454545454545453",
         "0.4166666666666667"
        ],
        [
         "8",
         "ExtraTreesClassifier()",
         "0.38461538461538464",
         "0.45454545454545453",
         "0.4166666666666667"
        ],
        [
         "9",
         "XGBClassifier()",
         "0.38461538461538464",
         "0.45454545454545453",
         "0.4166666666666667"
        ],
        [
         "10",
         "MLPClassifier()",
         "0.38461538461538464",
         "0.45454545454545453",
         "0.4166666666666667"
        ],
        [
         "11",
         "DecisionTreeClassifier()",
         "0.36363636363636365",
         "0.36363636363636365",
         "0.36363636363636365"
        ]
       ],
       "shape": {
        "columns": 4,
        "rows": 12
       }
      },
      "text/html": [
       "<div>\n",
       "<style scoped>\n",
       "    .dataframe tbody tr th:only-of-type {\n",
       "        vertical-align: middle;\n",
       "    }\n",
       "\n",
       "    .dataframe tbody tr th {\n",
       "        vertical-align: top;\n",
       "    }\n",
       "\n",
       "    .dataframe thead th {\n",
       "        text-align: right;\n",
       "    }\n",
       "</style>\n",
       "<table border=\"1\" class=\"dataframe\">\n",
       "  <thead>\n",
       "    <tr style=\"text-align: right;\">\n",
       "      <th></th>\n",
       "      <th>Model</th>\n",
       "      <th>Precision</th>\n",
       "      <th>Recall</th>\n",
       "      <th>F1-score</th>\n",
       "    </tr>\n",
       "  </thead>\n",
       "  <tbody>\n",
       "    <tr>\n",
       "      <th>0</th>\n",
       "      <td>KNeighborsClassifier()</td>\n",
       "      <td>0.923077</td>\n",
       "      <td>0.666667</td>\n",
       "      <td>0.708333</td>\n",
       "    </tr>\n",
       "    <tr>\n",
       "      <th>1</th>\n",
       "      <td>AdaBoostClassifier()</td>\n",
       "      <td>0.666667</td>\n",
       "      <td>0.621212</td>\n",
       "      <td>0.634783</td>\n",
       "    </tr>\n",
       "    <tr>\n",
       "      <th>2</th>\n",
       "      <td>GaussianNB()</td>\n",
       "      <td>0.488889</td>\n",
       "      <td>0.484848</td>\n",
       "      <td>0.475000</td>\n",
       "    </tr>\n",
       "    <tr>\n",
       "      <th>3</th>\n",
       "      <td>RandomForestClassifier()</td>\n",
       "      <td>0.392857</td>\n",
       "      <td>0.500000</td>\n",
       "      <td>0.440000</td>\n",
       "    </tr>\n",
       "    <tr>\n",
       "      <th>4</th>\n",
       "      <td>SGDClassifier()</td>\n",
       "      <td>0.392857</td>\n",
       "      <td>0.500000</td>\n",
       "      <td>0.440000</td>\n",
       "    </tr>\n",
       "    <tr>\n",
       "      <th>5</th>\n",
       "      <td>LGBMClassifier()</td>\n",
       "      <td>0.392857</td>\n",
       "      <td>0.500000</td>\n",
       "      <td>0.440000</td>\n",
       "    </tr>\n",
       "    <tr>\n",
       "      <th>6</th>\n",
       "      <td>SVC()</td>\n",
       "      <td>0.392857</td>\n",
       "      <td>0.500000</td>\n",
       "      <td>0.440000</td>\n",
       "    </tr>\n",
       "    <tr>\n",
       "      <th>7</th>\n",
       "      <td>LogisticRegression()</td>\n",
       "      <td>0.384615</td>\n",
       "      <td>0.454545</td>\n",
       "      <td>0.416667</td>\n",
       "    </tr>\n",
       "    <tr>\n",
       "      <th>8</th>\n",
       "      <td>ExtraTreesClassifier()</td>\n",
       "      <td>0.384615</td>\n",
       "      <td>0.454545</td>\n",
       "      <td>0.416667</td>\n",
       "    </tr>\n",
       "    <tr>\n",
       "      <th>9</th>\n",
       "      <td>XGBClassifier()</td>\n",
       "      <td>0.384615</td>\n",
       "      <td>0.454545</td>\n",
       "      <td>0.416667</td>\n",
       "    </tr>\n",
       "    <tr>\n",
       "      <th>10</th>\n",
       "      <td>MLPClassifier()</td>\n",
       "      <td>0.384615</td>\n",
       "      <td>0.454545</td>\n",
       "      <td>0.416667</td>\n",
       "    </tr>\n",
       "    <tr>\n",
       "      <th>11</th>\n",
       "      <td>DecisionTreeClassifier()</td>\n",
       "      <td>0.363636</td>\n",
       "      <td>0.363636</td>\n",
       "      <td>0.363636</td>\n",
       "    </tr>\n",
       "  </tbody>\n",
       "</table>\n",
       "</div>"
      ],
      "text/plain": [
       "                       Model  Precision    Recall  F1-score\n",
       "0     KNeighborsClassifier()   0.923077  0.666667  0.708333\n",
       "1       AdaBoostClassifier()   0.666667  0.621212  0.634783\n",
       "2               GaussianNB()   0.488889  0.484848  0.475000\n",
       "3   RandomForestClassifier()   0.392857  0.500000  0.440000\n",
       "4            SGDClassifier()   0.392857  0.500000  0.440000\n",
       "5           LGBMClassifier()   0.392857  0.500000  0.440000\n",
       "6                      SVC()   0.392857  0.500000  0.440000\n",
       "7       LogisticRegression()   0.384615  0.454545  0.416667\n",
       "8     ExtraTreesClassifier()   0.384615  0.454545  0.416667\n",
       "9            XGBClassifier()   0.384615  0.454545  0.416667\n",
       "10           MLPClassifier()   0.384615  0.454545  0.416667\n",
       "11  DecisionTreeClassifier()   0.363636  0.363636  0.363636"
      ]
     },
     "execution_count": 15,
     "metadata": {},
     "output_type": "execute_result"
    }
   ],
   "source": [
    "reports[1]"
   ]
  },
  {
   "cell_type": "code",
   "execution_count": 16,
   "id": "bee627d0",
   "metadata": {},
   "outputs": [
    {
     "data": {
      "application/vnd.microsoft.datawrangler.viewer.v0+json": {
       "columns": [
        {
         "name": "index",
         "rawType": "int64",
         "type": "integer"
        },
        {
         "name": "Model",
         "rawType": "object",
         "type": "string"
        },
        {
         "name": "Precision",
         "rawType": "float64",
         "type": "float"
        },
        {
         "name": "Recall",
         "rawType": "float64",
         "type": "float"
        },
        {
         "name": "F1-score",
         "rawType": "float64",
         "type": "float"
        }
       ],
       "ref": "1b8b6592-559b-4349-8694-48923f6173a8",
       "rows": [
        [
         "0",
         "ExtraTreesClassifier()",
         "0.7777777777777778",
         "0.7777777777777778",
         "0.7142857142857143"
        ],
        [
         "1",
         "LogisticRegression()",
         "0.6666666666666667",
         "0.6777777777777778",
         "0.641025641025641"
        ],
        [
         "2",
         "MLPClassifier()",
         "0.75",
         "0.7222222222222222",
         "0.641025641025641"
        ],
        [
         "3",
         "DecisionTreeClassifier()",
         "0.6222222222222222",
         "0.6222222222222222",
         "0.5714285714285714"
        ],
        [
         "4",
         "LGBMClassifier()",
         "0.5714285714285714",
         "0.5777777777777777",
         "0.5625"
        ],
        [
         "5",
         "RandomForestClassifier()",
         "0.5714285714285714",
         "0.5777777777777777",
         "0.5625"
        ],
        [
         "6",
         "XGBClassifier()",
         "0.5714285714285714",
         "0.5777777777777777",
         "0.5625"
        ],
        [
         "7",
         "AdaBoostClassifier()",
         "0.5208333333333333",
         "0.5222222222222221",
         "0.49743589743589745"
        ],
        [
         "8",
         "GaussianNB()",
         "0.48484848484848486",
         "0.48888888888888893",
         "0.475"
        ],
        [
         "9",
         "KNeighborsClassifier()",
         "0.425",
         "0.43333333333333335",
         "0.4269005847953216"
        ],
        [
         "10",
         "SVC()",
         "0.17857142857142858",
         "0.5",
         "0.2631578947368421"
        ],
        [
         "11",
         "SGDClassifier()",
         "0.17857142857142858",
         "0.5",
         "0.2631578947368421"
        ]
       ],
       "shape": {
        "columns": 4,
        "rows": 12
       }
      },
      "text/html": [
       "<div>\n",
       "<style scoped>\n",
       "    .dataframe tbody tr th:only-of-type {\n",
       "        vertical-align: middle;\n",
       "    }\n",
       "\n",
       "    .dataframe tbody tr th {\n",
       "        vertical-align: top;\n",
       "    }\n",
       "\n",
       "    .dataframe thead th {\n",
       "        text-align: right;\n",
       "    }\n",
       "</style>\n",
       "<table border=\"1\" class=\"dataframe\">\n",
       "  <thead>\n",
       "    <tr style=\"text-align: right;\">\n",
       "      <th></th>\n",
       "      <th>Model</th>\n",
       "      <th>Precision</th>\n",
       "      <th>Recall</th>\n",
       "      <th>F1-score</th>\n",
       "    </tr>\n",
       "  </thead>\n",
       "  <tbody>\n",
       "    <tr>\n",
       "      <th>0</th>\n",
       "      <td>ExtraTreesClassifier()</td>\n",
       "      <td>0.777778</td>\n",
       "      <td>0.777778</td>\n",
       "      <td>0.714286</td>\n",
       "    </tr>\n",
       "    <tr>\n",
       "      <th>1</th>\n",
       "      <td>LogisticRegression()</td>\n",
       "      <td>0.666667</td>\n",
       "      <td>0.677778</td>\n",
       "      <td>0.641026</td>\n",
       "    </tr>\n",
       "    <tr>\n",
       "      <th>2</th>\n",
       "      <td>MLPClassifier()</td>\n",
       "      <td>0.750000</td>\n",
       "      <td>0.722222</td>\n",
       "      <td>0.641026</td>\n",
       "    </tr>\n",
       "    <tr>\n",
       "      <th>3</th>\n",
       "      <td>DecisionTreeClassifier()</td>\n",
       "      <td>0.622222</td>\n",
       "      <td>0.622222</td>\n",
       "      <td>0.571429</td>\n",
       "    </tr>\n",
       "    <tr>\n",
       "      <th>4</th>\n",
       "      <td>LGBMClassifier()</td>\n",
       "      <td>0.571429</td>\n",
       "      <td>0.577778</td>\n",
       "      <td>0.562500</td>\n",
       "    </tr>\n",
       "    <tr>\n",
       "      <th>5</th>\n",
       "      <td>RandomForestClassifier()</td>\n",
       "      <td>0.571429</td>\n",
       "      <td>0.577778</td>\n",
       "      <td>0.562500</td>\n",
       "    </tr>\n",
       "    <tr>\n",
       "      <th>6</th>\n",
       "      <td>XGBClassifier()</td>\n",
       "      <td>0.571429</td>\n",
       "      <td>0.577778</td>\n",
       "      <td>0.562500</td>\n",
       "    </tr>\n",
       "    <tr>\n",
       "      <th>7</th>\n",
       "      <td>AdaBoostClassifier()</td>\n",
       "      <td>0.520833</td>\n",
       "      <td>0.522222</td>\n",
       "      <td>0.497436</td>\n",
       "    </tr>\n",
       "    <tr>\n",
       "      <th>8</th>\n",
       "      <td>GaussianNB()</td>\n",
       "      <td>0.484848</td>\n",
       "      <td>0.488889</td>\n",
       "      <td>0.475000</td>\n",
       "    </tr>\n",
       "    <tr>\n",
       "      <th>9</th>\n",
       "      <td>KNeighborsClassifier()</td>\n",
       "      <td>0.425000</td>\n",
       "      <td>0.433333</td>\n",
       "      <td>0.426901</td>\n",
       "    </tr>\n",
       "    <tr>\n",
       "      <th>10</th>\n",
       "      <td>SVC()</td>\n",
       "      <td>0.178571</td>\n",
       "      <td>0.500000</td>\n",
       "      <td>0.263158</td>\n",
       "    </tr>\n",
       "    <tr>\n",
       "      <th>11</th>\n",
       "      <td>SGDClassifier()</td>\n",
       "      <td>0.178571</td>\n",
       "      <td>0.500000</td>\n",
       "      <td>0.263158</td>\n",
       "    </tr>\n",
       "  </tbody>\n",
       "</table>\n",
       "</div>"
      ],
      "text/plain": [
       "                       Model  Precision    Recall  F1-score\n",
       "0     ExtraTreesClassifier()   0.777778  0.777778  0.714286\n",
       "1       LogisticRegression()   0.666667  0.677778  0.641026\n",
       "2            MLPClassifier()   0.750000  0.722222  0.641026\n",
       "3   DecisionTreeClassifier()   0.622222  0.622222  0.571429\n",
       "4           LGBMClassifier()   0.571429  0.577778  0.562500\n",
       "5   RandomForestClassifier()   0.571429  0.577778  0.562500\n",
       "6            XGBClassifier()   0.571429  0.577778  0.562500\n",
       "7       AdaBoostClassifier()   0.520833  0.522222  0.497436\n",
       "8               GaussianNB()   0.484848  0.488889  0.475000\n",
       "9     KNeighborsClassifier()   0.425000  0.433333  0.426901\n",
       "10                     SVC()   0.178571  0.500000  0.263158\n",
       "11           SGDClassifier()   0.178571  0.500000  0.263158"
      ]
     },
     "execution_count": 16,
     "metadata": {},
     "output_type": "execute_result"
    }
   ],
   "source": [
    "reports[2]"
   ]
  },
  {
   "cell_type": "markdown",
   "id": "426892a1",
   "metadata": {},
   "source": [
    "## MLP"
   ]
  },
  {
   "cell_type": "markdown",
   "id": "b2416eca",
   "metadata": {},
   "source": [
    "### Build model"
   ]
  },
  {
   "cell_type": "code",
   "execution_count": 17,
   "id": "51b7fee6",
   "metadata": {},
   "outputs": [
    {
     "name": "stderr",
     "output_type": "stream",
     "text": [
      "2025-07-15 18:15:31.387203: I tensorflow/core/platform/cpu_feature_guard.cc:210] This TensorFlow binary is optimized to use available CPU instructions in performance-critical operations.\n",
      "To enable the following instructions: AVX2 AVX512F AVX512_VNNI FMA, in other operations, rebuild TensorFlow with the appropriate compiler flags.\n"
     ]
    }
   ],
   "source": [
    "from tensorflow.keras.models import Sequential\n",
    "from tensorflow.keras.layers import Dense, Dropout, BatchNormalization, LeakyReLU, Input\n",
    "from tensorflow.keras.optimizers import Adam\n",
    "from tensorflow.keras import regularizers\n",
    "from tensorflow.keras.callbacks import EarlyStopping, ReduceLROnPlateau\n",
    "from tensorflow.keras.losses import MeanSquaredError"
   ]
  },
  {
   "cell_type": "code",
   "execution_count": 18,
   "id": "e66b524b",
   "metadata": {},
   "outputs": [],
   "source": [
    "def Model(input_dim, output_dim):\n",
    "    model = Sequential([\n",
    "        Input(shape=(input_dim,)),\n",
    "        Dense(512, kernel_regularizer=regularizers.l1_l2(1e-6)),\n",
    "        BatchNormalization(),\n",
    "        LeakyReLU(0.01),\n",
    "        Dropout(0.4),\n",
    "\n",
    "        Dense(256, kernel_regularizer=regularizers.l1_l2(1e-6)),\n",
    "        BatchNormalization(),\n",
    "        LeakyReLU(0.01),\n",
    "        Dropout(0.3),\n",
    "\n",
    "        Dense(128, kernel_regularizer=regularizers.l1_l2(1e-6)),\n",
    "        BatchNormalization(),\n",
    "        LeakyReLU(0.01),\n",
    "        Dropout(0.2),\n",
    "\n",
    "        Dense(output_dim, activation='sigmoid')  # sigmoid for multi-label\n",
    "    ])\n",
    "\n",
    "    model.compile(\n",
    "        loss='binary_crossentropy',\n",
    "        optimizer=Adam(learning_rate=1e-6),\n",
    "        metrics=['accuracy']\n",
    "    )\n",
    "    return model"
   ]
  },
  {
   "cell_type": "code",
   "execution_count": 19,
   "id": "616ec7c5",
   "metadata": {},
   "outputs": [],
   "source": [
    "model_mint = Model(input_dim=X.shape[1], output_dim=1)\n",
    "model_leak = Model(input_dim=X.shape[1], output_dim=1)\n",
    "model_limit = Model(input_dim=X.shape[1], output_dim=1)"
   ]
  },
  {
   "cell_type": "markdown",
   "id": "7a1508d3",
   "metadata": {},
   "source": [
    "### Train"
   ]
  },
  {
   "cell_type": "code",
   "execution_count": 20,
   "id": "a70b5a4d",
   "metadata": {},
   "outputs": [
    {
     "name": "stdout",
     "output_type": "stream",
     "text": [
      "Epoch 1/100\n",
      "\u001b[1m2/2\u001b[0m \u001b[32m━━━━━━━━━━━━━━━━━━━━\u001b[0m\u001b[37m\u001b[0m \u001b[1m3s\u001b[0m 295ms/step - accuracy: 0.3059 - loss: 1.4295 - val_accuracy: 0.1818 - val_loss: 9.1402 - learning_rate: 1.0000e-06\n",
      "Epoch 2/100\n",
      "\u001b[1m2/2\u001b[0m \u001b[32m━━━━━━━━━━━━━━━━━━━━\u001b[0m\u001b[37m\u001b[0m \u001b[1m0s\u001b[0m 64ms/step - accuracy: 0.3778 - loss: 1.2970 - val_accuracy: 0.1818 - val_loss: 6.3539 - learning_rate: 1.0000e-06\n",
      "Epoch 3/100\n",
      "\u001b[1m2/2\u001b[0m \u001b[32m━━━━━━━━━━━━━━━━━━━━\u001b[0m\u001b[37m\u001b[0m \u001b[1m0s\u001b[0m 64ms/step - accuracy: 0.3059 - loss: 1.2989 - val_accuracy: 0.1818 - val_loss: 5.1797 - learning_rate: 1.0000e-06\n",
      "Epoch 4/100\n",
      "\u001b[1m2/2\u001b[0m \u001b[32m━━━━━━━━━━━━━━━━━━━━\u001b[0m\u001b[37m\u001b[0m \u001b[1m0s\u001b[0m 62ms/step - accuracy: 0.2756 - loss: 1.4770 - val_accuracy: 0.1818 - val_loss: 4.2797 - learning_rate: 1.0000e-06\n",
      "Epoch 5/100\n",
      "\u001b[1m2/2\u001b[0m \u001b[32m━━━━━━━━━━━━━━━━━━━━\u001b[0m\u001b[37m\u001b[0m \u001b[1m0s\u001b[0m 63ms/step - accuracy: 0.3674 - loss: 1.4596 - val_accuracy: 0.1818 - val_loss: 3.8311 - learning_rate: 1.0000e-06\n",
      "Epoch 6/100\n",
      "\u001b[1m2/2\u001b[0m \u001b[32m━━━━━━━━━━━━━━━━━━━━\u001b[0m\u001b[37m\u001b[0m \u001b[1m0s\u001b[0m 63ms/step - accuracy: 0.4441 - loss: 1.2429 - val_accuracy: 0.1818 - val_loss: 3.3738 - learning_rate: 1.0000e-06\n",
      "Epoch 7/100\n",
      "\u001b[1m2/2\u001b[0m \u001b[32m━━━━━━━━━━━━━━━━━━━━\u001b[0m\u001b[37m\u001b[0m \u001b[1m0s\u001b[0m 64ms/step - accuracy: 0.3163 - loss: 1.4457 - val_accuracy: 0.1818 - val_loss: 3.1439 - learning_rate: 1.0000e-06\n",
      "Epoch 8/100\n",
      "\u001b[1m2/2\u001b[0m \u001b[32m━━━━━━━━━━━━━━━━━━━━\u001b[0m\u001b[37m\u001b[0m \u001b[1m0s\u001b[0m 63ms/step - accuracy: 0.2812 - loss: 1.3907 - val_accuracy: 0.1818 - val_loss: 2.8338 - learning_rate: 1.0000e-06\n",
      "Epoch 9/100\n",
      "\u001b[1m2/2\u001b[0m \u001b[32m━━━━━━━━━━━━━━━━━━━━\u001b[0m\u001b[37m\u001b[0m \u001b[1m0s\u001b[0m 62ms/step - accuracy: 0.3267 - loss: 1.4176 - val_accuracy: 0.1818 - val_loss: 2.6280 - learning_rate: 1.0000e-06\n",
      "Epoch 10/100\n",
      "\u001b[1m2/2\u001b[0m \u001b[32m━━━━━━━━━━━━━━━━━━━━\u001b[0m\u001b[37m\u001b[0m \u001b[1m0s\u001b[0m 62ms/step - accuracy: 0.3267 - loss: 1.5218 - val_accuracy: 0.1818 - val_loss: 2.4580 - learning_rate: 1.0000e-06\n",
      "Epoch 11/100\n",
      "\u001b[1m2/2\u001b[0m \u001b[32m━━━━━━━━━━━━━━━━━━━━\u001b[0m\u001b[37m\u001b[0m \u001b[1m0s\u001b[0m 64ms/step - accuracy: 0.3163 - loss: 1.5142 - val_accuracy: 0.1818 - val_loss: 2.3541 - learning_rate: 1.0000e-06\n",
      "Epoch 12/100\n",
      "\u001b[1m2/2\u001b[0m \u001b[32m━━━━━━━━━━━━━━━━━━━━\u001b[0m\u001b[37m\u001b[0m \u001b[1m0s\u001b[0m 63ms/step - accuracy: 0.3314 - loss: 1.4481 - val_accuracy: 0.1818 - val_loss: 2.2180 - learning_rate: 1.0000e-06\n",
      "Epoch 13/100\n",
      "\u001b[1m2/2\u001b[0m \u001b[32m━━━━━━━━━━━━━━━━━━━━\u001b[0m\u001b[37m\u001b[0m \u001b[1m0s\u001b[0m 64ms/step - accuracy: 0.2860 - loss: 1.2445 - val_accuracy: 0.1818 - val_loss: 2.1354 - learning_rate: 1.0000e-06\n",
      "Epoch 14/100\n",
      "\u001b[1m2/2\u001b[0m \u001b[32m━━━━━━━━━━━━━━━━━━━━\u001b[0m\u001b[37m\u001b[0m \u001b[1m0s\u001b[0m 65ms/step - accuracy: 0.3267 - loss: 1.4312 - val_accuracy: 0.1818 - val_loss: 2.0157 - learning_rate: 1.0000e-06\n",
      "Epoch 15/100\n",
      "\u001b[1m2/2\u001b[0m \u001b[32m━━━━━━━━━━━━━━━━━━━━\u001b[0m\u001b[37m\u001b[0m \u001b[1m0s\u001b[0m 63ms/step - accuracy: 0.3627 - loss: 1.3311 - val_accuracy: 0.1818 - val_loss: 1.9485 - learning_rate: 1.0000e-06\n",
      "Epoch 16/100\n",
      "\u001b[1m2/2\u001b[0m \u001b[32m━━━━━━━━━━━━━━━━━━━━\u001b[0m\u001b[37m\u001b[0m \u001b[1m0s\u001b[0m 75ms/step - accuracy: 0.3570 - loss: 1.3409 - val_accuracy: 0.1818 - val_loss: 1.8860 - learning_rate: 1.0000e-06\n",
      "Epoch 17/100\n",
      "\u001b[1m2/2\u001b[0m \u001b[32m━━━━━━━━━━━━━━━━━━━━\u001b[0m\u001b[37m\u001b[0m \u001b[1m0s\u001b[0m 63ms/step - accuracy: 0.2907 - loss: 1.4051 - val_accuracy: 0.1818 - val_loss: 1.8382 - learning_rate: 1.0000e-06\n",
      "Epoch 18/100\n",
      "\u001b[1m2/2\u001b[0m \u001b[32m━━━━━━━━━━━━━━━━━━━━\u001b[0m\u001b[37m\u001b[0m \u001b[1m0s\u001b[0m 63ms/step - accuracy: 0.3163 - loss: 1.4729 - val_accuracy: 0.1818 - val_loss: 1.7619 - learning_rate: 1.0000e-06\n",
      "Epoch 19/100\n",
      "\u001b[1m2/2\u001b[0m \u001b[32m━━━━━━━━━━━━━━━━━━━━\u001b[0m\u001b[37m\u001b[0m \u001b[1m0s\u001b[0m 63ms/step - accuracy: 0.2955 - loss: 1.3518 - val_accuracy: 0.1818 - val_loss: 1.7312 - learning_rate: 1.0000e-06\n",
      "Epoch 20/100\n",
      "\u001b[1m2/2\u001b[0m \u001b[32m━━━━━━━━━━━━━━━━━━━━\u001b[0m\u001b[37m\u001b[0m \u001b[1m0s\u001b[0m 64ms/step - accuracy: 0.3059 - loss: 1.3914 - val_accuracy: 0.1818 - val_loss: 1.6786 - learning_rate: 1.0000e-06\n",
      "Epoch 21/100\n",
      "\u001b[1m2/2\u001b[0m \u001b[32m━━━━━━━━━━━━━━━━━━━━\u001b[0m\u001b[37m\u001b[0m \u001b[1m0s\u001b[0m 64ms/step - accuracy: 0.3011 - loss: 1.3322 - val_accuracy: 0.1818 - val_loss: 1.6412 - learning_rate: 1.0000e-06\n",
      "Epoch 22/100\n",
      "\u001b[1m2/2\u001b[0m \u001b[32m━━━━━━━━━━━━━━━━━━━━\u001b[0m\u001b[37m\u001b[0m \u001b[1m0s\u001b[0m 62ms/step - accuracy: 0.3466 - loss: 1.4763 - val_accuracy: 0.1818 - val_loss: 1.6017 - learning_rate: 1.0000e-06\n",
      "Epoch 23/100\n",
      "\u001b[1m2/2\u001b[0m \u001b[32m━━━━━━━━━━━━━━━━━━━━\u001b[0m\u001b[37m\u001b[0m \u001b[1m0s\u001b[0m 64ms/step - accuracy: 0.2860 - loss: 1.5034 - val_accuracy: 0.1818 - val_loss: 1.5658 - learning_rate: 1.0000e-06\n",
      "Epoch 24/100\n",
      "\u001b[1m2/2\u001b[0m \u001b[32m━━━━━━━━━━━━━━━━━━━━\u001b[0m\u001b[37m\u001b[0m \u001b[1m0s\u001b[0m 64ms/step - accuracy: 0.3163 - loss: 1.4324 - val_accuracy: 0.1818 - val_loss: 1.5312 - learning_rate: 1.0000e-06\n",
      "Epoch 25/100\n",
      "\u001b[1m2/2\u001b[0m \u001b[32m━━━━━━━━━━━━━━━━━━━━\u001b[0m\u001b[37m\u001b[0m \u001b[1m0s\u001b[0m 64ms/step - accuracy: 0.2964 - loss: 1.3166 - val_accuracy: 0.1818 - val_loss: 1.5034 - learning_rate: 1.0000e-06\n",
      "Epoch 26/100\n",
      "\u001b[1m2/2\u001b[0m \u001b[32m━━━━━━━━━━━━━━━━━━━━\u001b[0m\u001b[37m\u001b[0m \u001b[1m0s\u001b[0m 64ms/step - accuracy: 0.3930 - loss: 1.4709 - val_accuracy: 0.1818 - val_loss: 1.4622 - learning_rate: 1.0000e-06\n",
      "Epoch 27/100\n",
      "\u001b[1m2/2\u001b[0m \u001b[32m━━━━━━━━━━━━━━━━━━━━\u001b[0m\u001b[37m\u001b[0m \u001b[1m0s\u001b[0m 63ms/step - accuracy: 0.3267 - loss: 1.4954 - val_accuracy: 0.1818 - val_loss: 1.4401 - learning_rate: 1.0000e-06\n",
      "Epoch 28/100\n",
      "\u001b[1m2/2\u001b[0m \u001b[32m━━━━━━━━━━━━━━━━━━━━\u001b[0m\u001b[37m\u001b[0m \u001b[1m0s\u001b[0m 71ms/step - accuracy: 0.3722 - loss: 1.3186 - val_accuracy: 0.1818 - val_loss: 1.4117 - learning_rate: 1.0000e-06\n",
      "Epoch 29/100\n",
      "\u001b[1m2/2\u001b[0m \u001b[32m━━━━━━━━━━━━━━━━━━━━\u001b[0m\u001b[37m\u001b[0m \u001b[1m0s\u001b[0m 64ms/step - accuracy: 0.3314 - loss: 1.3387 - val_accuracy: 0.1818 - val_loss: 1.3898 - learning_rate: 1.0000e-06\n",
      "Epoch 30/100\n",
      "\u001b[1m2/2\u001b[0m \u001b[32m━━━━━━━━━━━━━━━━━━━━\u001b[0m\u001b[37m\u001b[0m \u001b[1m0s\u001b[0m 64ms/step - accuracy: 0.3778 - loss: 1.3755 - val_accuracy: 0.1818 - val_loss: 1.3712 - learning_rate: 1.0000e-06\n",
      "Epoch 31/100\n",
      "\u001b[1m2/2\u001b[0m \u001b[32m━━━━━━━━━━━━━━━━━━━━\u001b[0m\u001b[37m\u001b[0m \u001b[1m0s\u001b[0m 92ms/step - accuracy: 0.3210 - loss: 1.3247 - val_accuracy: 0.1818 - val_loss: 1.3558 - learning_rate: 1.0000e-06\n",
      "Epoch 32/100\n",
      "\u001b[1m2/2\u001b[0m \u001b[32m━━━━━━━━━━━━━━━━━━━━\u001b[0m\u001b[37m\u001b[0m \u001b[1m0s\u001b[0m 64ms/step - accuracy: 0.3210 - loss: 1.3782 - val_accuracy: 0.1818 - val_loss: 1.3292 - learning_rate: 1.0000e-06\n",
      "Epoch 33/100\n",
      "\u001b[1m2/2\u001b[0m \u001b[32m━━━━━━━━━━━━━━━━━━━━\u001b[0m\u001b[37m\u001b[0m \u001b[1m0s\u001b[0m 63ms/step - accuracy: 0.2699 - loss: 1.3220 - val_accuracy: 0.1818 - val_loss: 1.3002 - learning_rate: 1.0000e-06\n",
      "Epoch 34/100\n",
      "\u001b[1m2/2\u001b[0m \u001b[32m━━━━━━━━━━━━━━━━━━━━\u001b[0m\u001b[37m\u001b[0m \u001b[1m0s\u001b[0m 65ms/step - accuracy: 0.3371 - loss: 1.3953 - val_accuracy: 0.1818 - val_loss: 1.2720 - learning_rate: 1.0000e-06\n",
      "Epoch 35/100\n",
      "\u001b[1m2/2\u001b[0m \u001b[32m━━━━━━━━━━━━━━━━━━━━\u001b[0m\u001b[37m\u001b[0m \u001b[1m0s\u001b[0m 63ms/step - accuracy: 0.3419 - loss: 1.3914 - val_accuracy: 0.1818 - val_loss: 1.2476 - learning_rate: 1.0000e-06\n",
      "Epoch 36/100\n",
      "\u001b[1m2/2\u001b[0m \u001b[32m━━━━━━━━━━━━━━━━━━━━\u001b[0m\u001b[37m\u001b[0m \u001b[1m0s\u001b[0m 64ms/step - accuracy: 0.3163 - loss: 1.4643 - val_accuracy: 0.1818 - val_loss: 1.2226 - learning_rate: 1.0000e-06\n",
      "Epoch 37/100\n",
      "\u001b[1m2/2\u001b[0m \u001b[32m━━━━━━━━━━━━━━━━━━━━\u001b[0m\u001b[37m\u001b[0m \u001b[1m0s\u001b[0m 66ms/step - accuracy: 0.2708 - loss: 1.4118 - val_accuracy: 0.1818 - val_loss: 1.2003 - learning_rate: 1.0000e-06\n",
      "Epoch 38/100\n",
      "\u001b[1m2/2\u001b[0m \u001b[32m━━━━━━━━━━━━━━━━━━━━\u001b[0m\u001b[37m\u001b[0m \u001b[1m0s\u001b[0m 65ms/step - accuracy: 0.3002 - loss: 1.3747 - val_accuracy: 0.1818 - val_loss: 1.1906 - learning_rate: 1.0000e-06\n",
      "Epoch 39/100\n",
      "\u001b[1m2/2\u001b[0m \u001b[32m━━━━━━━━━━━━━━━━━━━━\u001b[0m\u001b[37m\u001b[0m \u001b[1m0s\u001b[0m 63ms/step - accuracy: 0.2907 - loss: 1.3848 - val_accuracy: 0.1818 - val_loss: 1.1788 - learning_rate: 1.0000e-06\n",
      "Epoch 40/100\n",
      "\u001b[1m2/2\u001b[0m \u001b[32m━━━━━━━━━━━━━━━━━━━━\u001b[0m\u001b[37m\u001b[0m \u001b[1m0s\u001b[0m 63ms/step - accuracy: 0.3267 - loss: 1.3617 - val_accuracy: 0.1818 - val_loss: 1.1600 - learning_rate: 1.0000e-06\n",
      "Epoch 41/100\n",
      "\u001b[1m2/2\u001b[0m \u001b[32m━━━━━━━━━━━━━━━━━━━━\u001b[0m\u001b[37m\u001b[0m \u001b[1m0s\u001b[0m 63ms/step - accuracy: 0.3116 - loss: 1.4346 - val_accuracy: 0.1818 - val_loss: 1.1478 - learning_rate: 1.0000e-06\n",
      "Epoch 42/100\n",
      "\u001b[1m2/2\u001b[0m \u001b[32m━━━━━━━━━━━━━━━━━━━━\u001b[0m\u001b[37m\u001b[0m \u001b[1m0s\u001b[0m 62ms/step - accuracy: 0.2803 - loss: 1.4365 - val_accuracy: 0.1818 - val_loss: 1.1372 - learning_rate: 1.0000e-06\n",
      "Epoch 43/100\n",
      "\u001b[1m2/2\u001b[0m \u001b[32m━━━━━━━━━━━━━━━━━━━━\u001b[0m\u001b[37m\u001b[0m \u001b[1m0s\u001b[0m 65ms/step - accuracy: 0.3419 - loss: 1.5031 - val_accuracy: 0.1818 - val_loss: 1.1245 - learning_rate: 1.0000e-06\n",
      "Epoch 44/100\n",
      "\u001b[1m2/2\u001b[0m \u001b[32m━━━━━━━━━━━━━━━━━━━━\u001b[0m\u001b[37m\u001b[0m \u001b[1m0s\u001b[0m 64ms/step - accuracy: 0.3627 - loss: 1.3733 - val_accuracy: 0.1818 - val_loss: 1.1115 - learning_rate: 1.0000e-06\n",
      "Epoch 45/100\n",
      "\u001b[1m2/2\u001b[0m \u001b[32m━━━━━━━━━━━━━━━━━━━━\u001b[0m\u001b[37m\u001b[0m \u001b[1m0s\u001b[0m 166ms/step - accuracy: 0.3930 - loss: 1.2336 - val_accuracy: 0.1818 - val_loss: 1.1055 - learning_rate: 1.0000e-06\n",
      "Epoch 46/100\n",
      "\u001b[1m2/2\u001b[0m \u001b[32m━━━━━━━━━━━━━━━━━━━━\u001b[0m\u001b[37m\u001b[0m \u001b[1m0s\u001b[0m 76ms/step - accuracy: 0.3163 - loss: 1.5278 - val_accuracy: 0.1818 - val_loss: 1.0983 - learning_rate: 1.0000e-06\n",
      "Epoch 47/100\n",
      "\u001b[1m2/2\u001b[0m \u001b[32m━━━━━━━━━━━━━━━━━━━━\u001b[0m\u001b[37m\u001b[0m \u001b[1m0s\u001b[0m 66ms/step - accuracy: 0.2708 - loss: 1.3233 - val_accuracy: 0.1818 - val_loss: 1.0950 - learning_rate: 1.0000e-06\n",
      "Epoch 48/100\n",
      "\u001b[1m2/2\u001b[0m \u001b[32m━━━━━━━━━━━━━━━━━━━━\u001b[0m\u001b[37m\u001b[0m \u001b[1m0s\u001b[0m 65ms/step - accuracy: 0.3220 - loss: 1.3904 - val_accuracy: 0.1818 - val_loss: 1.0879 - learning_rate: 1.0000e-06\n",
      "Epoch 49/100\n",
      "\u001b[1m2/2\u001b[0m \u001b[32m━━━━━━━━━━━━━━━━━━━━\u001b[0m\u001b[37m\u001b[0m \u001b[1m0s\u001b[0m 62ms/step - accuracy: 0.3163 - loss: 1.4194 - val_accuracy: 0.1818 - val_loss: 1.0839 - learning_rate: 1.0000e-06\n",
      "Epoch 50/100\n",
      "\u001b[1m2/2\u001b[0m \u001b[32m━━━━━━━━━━━━━━━━━━━━\u001b[0m\u001b[37m\u001b[0m \u001b[1m0s\u001b[0m 67ms/step - accuracy: 0.3987 - loss: 1.4438 - val_accuracy: 0.1818 - val_loss: 1.0748 - learning_rate: 1.0000e-06\n",
      "Epoch 51/100\n",
      "\u001b[1m2/2\u001b[0m \u001b[32m━━━━━━━━━━━━━━━━━━━━\u001b[0m\u001b[37m\u001b[0m \u001b[1m0s\u001b[0m 62ms/step - accuracy: 0.2850 - loss: 1.3560 - val_accuracy: 0.1818 - val_loss: 1.0716 - learning_rate: 1.0000e-06\n",
      "Epoch 52/100\n",
      "\u001b[1m2/2\u001b[0m \u001b[32m━━━━━━━━━━━━━━━━━━━━\u001b[0m\u001b[37m\u001b[0m \u001b[1m0s\u001b[0m 67ms/step - accuracy: 0.3523 - loss: 1.4807 - val_accuracy: 0.1818 - val_loss: 1.0642 - learning_rate: 1.0000e-06\n",
      "Epoch 53/100\n",
      "\u001b[1m2/2\u001b[0m \u001b[32m━━━━━━━━━━━━━━━━━━━━\u001b[0m\u001b[37m\u001b[0m \u001b[1m0s\u001b[0m 63ms/step - accuracy: 0.3674 - loss: 1.2350 - val_accuracy: 0.1818 - val_loss: 1.0602 - learning_rate: 1.0000e-06\n",
      "Epoch 54/100\n",
      "\u001b[1m2/2\u001b[0m \u001b[32m━━━━━━━━━━━━━━━━━━━━\u001b[0m\u001b[37m\u001b[0m \u001b[1m0s\u001b[0m 63ms/step - accuracy: 0.3883 - loss: 1.2881 - val_accuracy: 0.1818 - val_loss: 1.0534 - learning_rate: 1.0000e-06\n",
      "Epoch 55/100\n",
      "\u001b[1m2/2\u001b[0m \u001b[32m━━━━━━━━━━━━━━━━━━━━\u001b[0m\u001b[37m\u001b[0m \u001b[1m0s\u001b[0m 63ms/step - accuracy: 0.3523 - loss: 1.4052 - val_accuracy: 0.1818 - val_loss: 1.0464 - learning_rate: 1.0000e-06\n",
      "Epoch 56/100\n",
      "\u001b[1m2/2\u001b[0m \u001b[32m━━━━━━━━━━━━━━━━━━━━\u001b[0m\u001b[37m\u001b[0m \u001b[1m0s\u001b[0m 64ms/step - accuracy: 0.3267 - loss: 1.3954 - val_accuracy: 0.1818 - val_loss: 1.0394 - learning_rate: 1.0000e-06\n",
      "Epoch 57/100\n",
      "\u001b[1m2/2\u001b[0m \u001b[32m━━━━━━━━━━━━━━━━━━━━\u001b[0m\u001b[37m\u001b[0m \u001b[1m0s\u001b[0m 64ms/step - accuracy: 0.2708 - loss: 1.4475 - val_accuracy: 0.1818 - val_loss: 1.0343 - learning_rate: 1.0000e-06\n",
      "Epoch 58/100\n",
      "\u001b[1m2/2\u001b[0m \u001b[32m━━━━━━━━━━━━━━━━━━━━\u001b[0m\u001b[37m\u001b[0m \u001b[1m0s\u001b[0m 63ms/step - accuracy: 0.2907 - loss: 1.2887 - val_accuracy: 0.1818 - val_loss: 1.0295 - learning_rate: 1.0000e-06\n",
      "Epoch 59/100\n",
      "\u001b[1m2/2\u001b[0m \u001b[32m━━━━━━━━━━━━━━━━━━━━\u001b[0m\u001b[37m\u001b[0m \u001b[1m0s\u001b[0m 62ms/step - accuracy: 0.2907 - loss: 1.2780 - val_accuracy: 0.1818 - val_loss: 1.0300 - learning_rate: 1.0000e-06\n",
      "Epoch 60/100\n",
      "\u001b[1m2/2\u001b[0m \u001b[32m━━━━━━━━━━━━━━━━━━━━\u001b[0m\u001b[37m\u001b[0m \u001b[1m0s\u001b[0m 177ms/step - accuracy: 0.3617 - loss: 1.4086 - val_accuracy: 0.1818 - val_loss: 1.0258 - learning_rate: 1.0000e-06\n",
      "Epoch 61/100\n",
      "\u001b[1m2/2\u001b[0m \u001b[32m━━━━━━━━━━━━━━━━━━━━\u001b[0m\u001b[37m\u001b[0m \u001b[1m0s\u001b[0m 65ms/step - accuracy: 0.3267 - loss: 1.3859 - val_accuracy: 0.1818 - val_loss: 1.0224 - learning_rate: 1.0000e-06\n",
      "Epoch 62/100\n",
      "\u001b[1m2/2\u001b[0m \u001b[32m━━━━━━━━━━━━━━━━━━━━\u001b[0m\u001b[37m\u001b[0m \u001b[1m0s\u001b[0m 62ms/step - accuracy: 0.3153 - loss: 1.4561 - val_accuracy: 0.1818 - val_loss: 1.0225 - learning_rate: 1.0000e-06\n",
      "Epoch 63/100\n",
      "\u001b[1m2/2\u001b[0m \u001b[32m━━━━━━━━━━━━━━━━━━━━\u001b[0m\u001b[37m\u001b[0m \u001b[1m0s\u001b[0m 64ms/step - accuracy: 0.3674 - loss: 1.4364 - val_accuracy: 0.1818 - val_loss: 1.0160 - learning_rate: 1.0000e-06\n",
      "Epoch 64/100\n",
      "\u001b[1m2/2\u001b[0m \u001b[32m━━━━━━━━━━━━━━━━━━━━\u001b[0m\u001b[37m\u001b[0m \u001b[1m0s\u001b[0m 61ms/step - accuracy: 0.3627 - loss: 1.4917 - val_accuracy: 0.1818 - val_loss: 1.0170 - learning_rate: 1.0000e-06\n",
      "Epoch 65/100\n",
      "\u001b[1m2/2\u001b[0m \u001b[32m━━━━━━━━━━━━━━━━━━━━\u001b[0m\u001b[37m\u001b[0m \u001b[1m0s\u001b[0m 64ms/step - accuracy: 0.2907 - loss: 1.2651 - val_accuracy: 0.1818 - val_loss: 1.0128 - learning_rate: 1.0000e-06\n",
      "Epoch 66/100\n",
      "\u001b[1m2/2\u001b[0m \u001b[32m━━━━━━━━━━━━━━━━━━━━\u001b[0m\u001b[37m\u001b[0m \u001b[1m0s\u001b[0m 64ms/step - accuracy: 0.3466 - loss: 1.3303 - val_accuracy: 0.1818 - val_loss: 1.0092 - learning_rate: 1.0000e-06\n",
      "Epoch 67/100\n",
      "\u001b[1m2/2\u001b[0m \u001b[32m━━━━━━━━━━━━━━━━━━━━\u001b[0m\u001b[37m\u001b[0m \u001b[1m0s\u001b[0m 63ms/step - accuracy: 0.2860 - loss: 1.4128 - val_accuracy: 0.1818 - val_loss: 1.0081 - learning_rate: 1.0000e-06\n",
      "Epoch 68/100\n",
      "\u001b[1m2/2\u001b[0m \u001b[32m━━━━━━━━━━━━━━━━━━━━\u001b[0m\u001b[37m\u001b[0m \u001b[1m0s\u001b[0m 64ms/step - accuracy: 0.3674 - loss: 1.3311 - val_accuracy: 0.1818 - val_loss: 1.0033 - learning_rate: 1.0000e-06\n",
      "Epoch 69/100\n",
      "\u001b[1m2/2\u001b[0m \u001b[32m━━━━━━━━━━━━━━━━━━━━\u001b[0m\u001b[37m\u001b[0m \u001b[1m0s\u001b[0m 64ms/step - accuracy: 0.3627 - loss: 1.5252 - val_accuracy: 0.1818 - val_loss: 1.0019 - learning_rate: 1.0000e-06\n",
      "Epoch 70/100\n",
      "\u001b[1m2/2\u001b[0m \u001b[32m━━━━━━━━━━━━━━━━━━━━\u001b[0m\u001b[37m\u001b[0m \u001b[1m0s\u001b[0m 68ms/step - accuracy: 0.3674 - loss: 1.2911 - val_accuracy: 0.1818 - val_loss: 0.9983 - learning_rate: 1.0000e-06\n",
      "Epoch 71/100\n",
      "\u001b[1m2/2\u001b[0m \u001b[32m━━━━━━━━━━━━━━━━━━━━\u001b[0m\u001b[37m\u001b[0m \u001b[1m0s\u001b[0m 68ms/step - accuracy: 0.2756 - loss: 1.3395 - val_accuracy: 0.1818 - val_loss: 0.9953 - learning_rate: 1.0000e-06\n",
      "Epoch 72/100\n",
      "\u001b[1m2/2\u001b[0m \u001b[32m━━━━━━━━━━━━━━━━━━━━\u001b[0m\u001b[37m\u001b[0m \u001b[1m0s\u001b[0m 64ms/step - accuracy: 0.3419 - loss: 1.4283 - val_accuracy: 0.1818 - val_loss: 0.9948 - learning_rate: 1.0000e-06\n",
      "Epoch 73/100\n",
      "\u001b[1m2/2\u001b[0m \u001b[32m━━━━━━━━━━━━━━━━━━━━\u001b[0m\u001b[37m\u001b[0m \u001b[1m0s\u001b[0m 63ms/step - accuracy: 0.3210 - loss: 1.2711 - val_accuracy: 0.1818 - val_loss: 0.9928 - learning_rate: 1.0000e-06\n",
      "Epoch 74/100\n",
      "\u001b[1m2/2\u001b[0m \u001b[32m━━━━━━━━━━━━━━━━━━━━\u001b[0m\u001b[37m\u001b[0m \u001b[1m0s\u001b[0m 64ms/step - accuracy: 0.3722 - loss: 1.5073 - val_accuracy: 0.1818 - val_loss: 0.9911 - learning_rate: 1.0000e-06\n",
      "Epoch 75/100\n",
      "\u001b[1m2/2\u001b[0m \u001b[32m━━━━━━━━━━━━━━━━━━━━\u001b[0m\u001b[37m\u001b[0m \u001b[1m0s\u001b[0m 62ms/step - accuracy: 0.3163 - loss: 1.4243 - val_accuracy: 0.1818 - val_loss: 0.9886 - learning_rate: 1.0000e-06\n",
      "Epoch 76/100\n",
      "\u001b[1m2/2\u001b[0m \u001b[32m━━━━━━━━━━━━━━━━━━━━\u001b[0m\u001b[37m\u001b[0m \u001b[1m0s\u001b[0m 72ms/step - accuracy: 0.3627 - loss: 1.2757 - val_accuracy: 0.1818 - val_loss: 0.9882 - learning_rate: 1.0000e-06\n",
      "Epoch 77/100\n",
      "\u001b[1m2/2\u001b[0m \u001b[32m━━━━━━━━━━━━━━━━━━━━\u001b[0m\u001b[37m\u001b[0m \u001b[1m0s\u001b[0m 65ms/step - accuracy: 0.3419 - loss: 1.3901 - val_accuracy: 0.1818 - val_loss: 0.9859 - learning_rate: 1.0000e-06\n",
      "Epoch 78/100\n",
      "\u001b[1m2/2\u001b[0m \u001b[32m━━━━━━━━━━━━━━━━━━━━\u001b[0m\u001b[37m\u001b[0m \u001b[1m0s\u001b[0m 61ms/step - accuracy: 0.3419 - loss: 1.4047 - val_accuracy: 0.1818 - val_loss: 0.9872 - learning_rate: 1.0000e-06\n",
      "Epoch 79/100\n",
      "\u001b[1m2/2\u001b[0m \u001b[32m━━━━━━━━━━━━━━━━━━━━\u001b[0m\u001b[37m\u001b[0m \u001b[1m0s\u001b[0m 60ms/step - accuracy: 0.2652 - loss: 1.5289 - val_accuracy: 0.1818 - val_loss: 0.9860 - learning_rate: 1.0000e-06\n",
      "Epoch 80/100\n",
      "\u001b[1m2/2\u001b[0m \u001b[32m━━━━━━━━━━━━━━━━━━━━\u001b[0m\u001b[37m\u001b[0m \u001b[1m0s\u001b[0m 64ms/step - accuracy: 0.3930 - loss: 1.3312 - val_accuracy: 0.1818 - val_loss: 0.9820 - learning_rate: 1.0000e-06\n",
      "Epoch 81/100\n",
      "\u001b[1m2/2\u001b[0m \u001b[32m━━━━━━━━━━━━━━━━━━━━\u001b[0m\u001b[37m\u001b[0m \u001b[1m0s\u001b[0m 62ms/step - accuracy: 0.3163 - loss: 1.4188 - val_accuracy: 0.1818 - val_loss: 0.9789 - learning_rate: 1.0000e-06\n",
      "Epoch 82/100\n",
      "\u001b[1m2/2\u001b[0m \u001b[32m━━━━━━━━━━━━━━━━━━━━\u001b[0m\u001b[37m\u001b[0m \u001b[1m0s\u001b[0m 62ms/step - accuracy: 0.2803 - loss: 1.3357 - val_accuracy: 0.1818 - val_loss: 0.9818 - learning_rate: 1.0000e-06\n",
      "Epoch 83/100\n",
      "\u001b[1m2/2\u001b[0m \u001b[32m━━━━━━━━━━━━━━━━━━━━\u001b[0m\u001b[37m\u001b[0m \u001b[1m0s\u001b[0m 63ms/step - accuracy: 0.3873 - loss: 1.3401 - val_accuracy: 0.1818 - val_loss: 0.9786 - learning_rate: 1.0000e-06\n",
      "Epoch 84/100\n",
      "\u001b[1m2/2\u001b[0m \u001b[32m━━━━━━━━━━━━━━━━━━━━\u001b[0m\u001b[37m\u001b[0m \u001b[1m0s\u001b[0m 64ms/step - accuracy: 0.3220 - loss: 1.4489 - val_accuracy: 0.1818 - val_loss: 0.9772 - learning_rate: 1.0000e-06\n",
      "Epoch 85/100\n",
      "\u001b[1m2/2\u001b[0m \u001b[32m━━━━━━━━━━━━━━━━━━━━\u001b[0m\u001b[37m\u001b[0m \u001b[1m0s\u001b[0m 63ms/step - accuracy: 0.3011 - loss: 1.2071 - val_accuracy: 0.1818 - val_loss: 0.9730 - learning_rate: 1.0000e-06\n",
      "Epoch 86/100\n",
      "\u001b[1m2/2\u001b[0m \u001b[32m━━━━━━━━━━━━━━━━━━━━\u001b[0m\u001b[37m\u001b[0m \u001b[1m0s\u001b[0m 64ms/step - accuracy: 0.2907 - loss: 1.5633 - val_accuracy: 0.1818 - val_loss: 0.9717 - learning_rate: 1.0000e-06\n",
      "Epoch 87/100\n",
      "\u001b[1m2/2\u001b[0m \u001b[32m━━━━━━━━━━━━━━━━━━━━\u001b[0m\u001b[37m\u001b[0m \u001b[1m0s\u001b[0m 65ms/step - accuracy: 0.3267 - loss: 1.2287 - val_accuracy: 0.1818 - val_loss: 0.9709 - learning_rate: 1.0000e-06\n",
      "Epoch 88/100\n",
      "\u001b[1m2/2\u001b[0m \u001b[32m━━━━━━━━━━━━━━━━━━━━\u001b[0m\u001b[37m\u001b[0m \u001b[1m0s\u001b[0m 63ms/step - accuracy: 0.3883 - loss: 1.3914 - val_accuracy: 0.1818 - val_loss: 0.9700 - learning_rate: 1.0000e-06\n",
      "Epoch 89/100\n",
      "\u001b[1m2/2\u001b[0m \u001b[32m━━━━━━━━━━━━━━━━━━━━\u001b[0m\u001b[37m\u001b[0m \u001b[1m0s\u001b[0m 68ms/step - accuracy: 0.3674 - loss: 1.3898 - val_accuracy: 0.1818 - val_loss: 0.9692 - learning_rate: 1.0000e-06\n",
      "Epoch 90/100\n",
      "\u001b[1m2/2\u001b[0m \u001b[32m━━━━━━━━━━━━━━━━━━━━\u001b[0m\u001b[37m\u001b[0m \u001b[1m0s\u001b[0m 99ms/step - accuracy: 0.4081 - loss: 1.4500 - val_accuracy: 0.1818 - val_loss: 0.9682 - learning_rate: 1.0000e-06\n",
      "Epoch 91/100\n",
      "\u001b[1m2/2\u001b[0m \u001b[32m━━━━━━━━━━━━━━━━━━━━\u001b[0m\u001b[37m\u001b[0m \u001b[1m0s\u001b[0m 64ms/step - accuracy: 0.3977 - loss: 1.3875 - val_accuracy: 0.1818 - val_loss: 0.9653 - learning_rate: 1.0000e-06\n",
      "Epoch 92/100\n",
      "\u001b[1m2/2\u001b[0m \u001b[32m━━━━━━━━━━━━━━━━━━━━\u001b[0m\u001b[37m\u001b[0m \u001b[1m0s\u001b[0m 61ms/step - accuracy: 0.2756 - loss: 1.3595 - val_accuracy: 0.1818 - val_loss: 0.9672 - learning_rate: 1.0000e-06\n",
      "Epoch 93/100\n",
      "\u001b[1m2/2\u001b[0m \u001b[32m━━━━━━━━━━━━━━━━━━━━\u001b[0m\u001b[37m\u001b[0m \u001b[1m0s\u001b[0m 63ms/step - accuracy: 0.2803 - loss: 1.2924 - val_accuracy: 0.1818 - val_loss: 0.9657 - learning_rate: 1.0000e-06\n",
      "Epoch 94/100\n",
      "\u001b[1m2/2\u001b[0m \u001b[32m━━━━━━━━━━━━━━━━━━━━\u001b[0m\u001b[37m\u001b[0m \u001b[1m0s\u001b[0m 61ms/step - accuracy: 0.2803 - loss: 1.4692 - val_accuracy: 0.1818 - val_loss: 0.9660 - learning_rate: 1.0000e-06\n",
      "Epoch 95/100\n",
      "\u001b[1m2/2\u001b[0m \u001b[32m━━━━━━━━━━━━━━━━━━━━\u001b[0m\u001b[37m\u001b[0m \u001b[1m0s\u001b[0m 64ms/step - accuracy: 0.3731 - loss: 1.3657 - val_accuracy: 0.1818 - val_loss: 0.9622 - learning_rate: 1.0000e-06\n",
      "Epoch 96/100\n",
      "\u001b[1m2/2\u001b[0m \u001b[32m━━━━━━━━━━━━━━━━━━━━\u001b[0m\u001b[37m\u001b[0m \u001b[1m0s\u001b[0m 62ms/step - accuracy: 0.2803 - loss: 1.4642 - val_accuracy: 0.1818 - val_loss: 0.9606 - learning_rate: 1.0000e-06\n",
      "Epoch 97/100\n",
      "\u001b[1m2/2\u001b[0m \u001b[32m━━━━━━━━━━━━━━━━━━━━\u001b[0m\u001b[37m\u001b[0m \u001b[1m0s\u001b[0m 62ms/step - accuracy: 0.3674 - loss: 1.3122 - val_accuracy: 0.1818 - val_loss: 0.9618 - learning_rate: 1.0000e-06\n",
      "Epoch 98/100\n",
      "\u001b[1m2/2\u001b[0m \u001b[32m━━━━━━━━━━━━━━━━━━━━\u001b[0m\u001b[37m\u001b[0m \u001b[1m0s\u001b[0m 59ms/step - accuracy: 0.3011 - loss: 1.4254 - val_accuracy: 0.1818 - val_loss: 0.9636 - learning_rate: 1.0000e-06\n",
      "Epoch 99/100\n",
      "\u001b[1m2/2\u001b[0m \u001b[32m━━━━━━━━━━━━━━━━━━━━\u001b[0m\u001b[37m\u001b[0m \u001b[1m0s\u001b[0m 64ms/step - accuracy: 0.3419 - loss: 1.2940 - val_accuracy: 0.1818 - val_loss: 0.9633 - learning_rate: 1.0000e-06\n",
      "Epoch 100/100\n",
      "\u001b[1m2/2\u001b[0m \u001b[32m━━━━━━━━━━━━━━━━━━━━\u001b[0m\u001b[37m\u001b[0m \u001b[1m0s\u001b[0m 65ms/step - accuracy: 0.2907 - loss: 1.2583 - val_accuracy: 0.1818 - val_loss: 0.9616 - learning_rate: 1.0000e-06\n"
     ]
    },
    {
     "data": {
      "text/plain": [
       "<keras.src.callbacks.history.History at 0x131df3d10>"
      ]
     },
     "execution_count": 20,
     "metadata": {},
     "output_type": "execute_result"
    }
   ],
   "source": [
    "model_mint.fit(X_mint_train, y_mint_train, validation_split=0.2, epochs=100, batch_size=32,\n",
    "                    callbacks=[\n",
    "                                EarlyStopping(monitor='val_loss',\n",
    "                                             patience=5,\n",
    "                                             restore_best_weights=True),\n",
    "                                ReduceLROnPlateau(\n",
    "                                  monitor='val_loss',\n",
    "                                  factor=0.5,\n",
    "                                  patience=5,\n",
    "                                  verbose=1)\n",
    "                               ]\n",
    "                    )"
   ]
  },
  {
   "cell_type": "code",
   "execution_count": 21,
   "id": "32e40633",
   "metadata": {},
   "outputs": [
    {
     "name": "stdout",
     "output_type": "stream",
     "text": [
      "Epoch 1/100\n",
      "\u001b[1m2/2\u001b[0m \u001b[32m━━━━━━━━━━━━━━━━━━━━\u001b[0m\u001b[37m\u001b[0m \u001b[1m3s\u001b[0m 294ms/step - accuracy: 0.6326 - loss: 0.6505 - val_accuracy: 0.1818 - val_loss: 2.3871 - learning_rate: 1.0000e-06\n",
      "Epoch 2/100\n",
      "\u001b[1m2/2\u001b[0m \u001b[32m━━━━━━━━━━━━━━━━━━━━\u001b[0m\u001b[37m\u001b[0m \u001b[1m0s\u001b[0m 74ms/step - accuracy: 0.5767 - loss: 0.7365 - val_accuracy: 0.1818 - val_loss: 1.9661 - learning_rate: 1.0000e-06\n",
      "Epoch 3/100\n",
      "\u001b[1m2/2\u001b[0m \u001b[32m━━━━━━━━━━━━━━━━━━━━\u001b[0m\u001b[37m\u001b[0m \u001b[1m0s\u001b[0m 64ms/step - accuracy: 0.3210 - loss: 0.8967 - val_accuracy: 0.2727 - val_loss: 1.7692 - learning_rate: 1.0000e-06\n",
      "Epoch 4/100\n",
      "\u001b[1m2/2\u001b[0m \u001b[32m━━━━━━━━━━━━━━━━━━━━\u001b[0m\u001b[37m\u001b[0m \u001b[1m0s\u001b[0m 64ms/step - accuracy: 0.6430 - loss: 0.7646 - val_accuracy: 0.1818 - val_loss: 1.6689 - learning_rate: 1.0000e-06\n",
      "Epoch 5/100\n",
      "\u001b[1m2/2\u001b[0m \u001b[32m━━━━━━━━━━━━━━━━━━━━\u001b[0m\u001b[37m\u001b[0m \u001b[1m0s\u001b[0m 67ms/step - accuracy: 0.5720 - loss: 0.6530 - val_accuracy: 0.1818 - val_loss: 1.5571 - learning_rate: 1.0000e-06\n",
      "Epoch 6/100\n",
      "\u001b[1m2/2\u001b[0m \u001b[32m━━━━━━━━━━━━━━━━━━━━\u001b[0m\u001b[37m\u001b[0m \u001b[1m0s\u001b[0m 63ms/step - accuracy: 0.4896 - loss: 0.7496 - val_accuracy: 0.1818 - val_loss: 1.5103 - learning_rate: 1.0000e-06\n",
      "Epoch 7/100\n",
      "\u001b[1m2/2\u001b[0m \u001b[32m━━━━━━━━━━━━━━━━━━━━\u001b[0m\u001b[37m\u001b[0m \u001b[1m0s\u001b[0m 64ms/step - accuracy: 0.4441 - loss: 0.7716 - val_accuracy: 0.1818 - val_loss: 1.4194 - learning_rate: 1.0000e-06\n",
      "Epoch 8/100\n",
      "\u001b[1m2/2\u001b[0m \u001b[32m━━━━━━━━━━━━━━━━━━━━\u001b[0m\u001b[37m\u001b[0m \u001b[1m0s\u001b[0m 65ms/step - accuracy: 0.6127 - loss: 0.7356 - val_accuracy: 0.1818 - val_loss: 1.3499 - learning_rate: 1.0000e-06\n",
      "Epoch 9/100\n",
      "\u001b[1m2/2\u001b[0m \u001b[32m━━━━━━━━━━━━━━━━━━━━\u001b[0m\u001b[37m\u001b[0m \u001b[1m0s\u001b[0m 65ms/step - accuracy: 0.5407 - loss: 0.7122 - val_accuracy: 0.1818 - val_loss: 1.3220 - learning_rate: 1.0000e-06\n",
      "Epoch 10/100\n",
      "\u001b[1m2/2\u001b[0m \u001b[32m━━━━━━━━━━━━━━━━━━━━\u001b[0m\u001b[37m\u001b[0m \u001b[1m0s\u001b[0m 69ms/step - accuracy: 0.4129 - loss: 0.7848 - val_accuracy: 0.1818 - val_loss: 1.2904 - learning_rate: 1.0000e-06\n",
      "Epoch 11/100\n",
      "\u001b[1m2/2\u001b[0m \u001b[32m━━━━━━━━━━━━━━━━━━━━\u001b[0m\u001b[37m\u001b[0m \u001b[1m0s\u001b[0m 66ms/step - accuracy: 0.5559 - loss: 0.6733 - val_accuracy: 0.1818 - val_loss: 1.2670 - learning_rate: 1.0000e-06\n",
      "Epoch 12/100\n",
      "\u001b[1m2/2\u001b[0m \u001b[32m━━━━━━━━━━━━━━━━━━━━\u001b[0m\u001b[37m\u001b[0m \u001b[1m0s\u001b[0m 65ms/step - accuracy: 0.6326 - loss: 0.6601 - val_accuracy: 0.1818 - val_loss: 1.2342 - learning_rate: 1.0000e-06\n",
      "Epoch 13/100\n",
      "\u001b[1m2/2\u001b[0m \u001b[32m━━━━━━━━━━━━━━━━━━━━\u001b[0m\u001b[37m\u001b[0m \u001b[1m0s\u001b[0m 64ms/step - accuracy: 0.5767 - loss: 0.7448 - val_accuracy: 0.1818 - val_loss: 1.2076 - learning_rate: 1.0000e-06\n",
      "Epoch 14/100\n",
      "\u001b[1m2/2\u001b[0m \u001b[32m━━━━━━━━━━━━━━━━━━━━\u001b[0m\u001b[37m\u001b[0m \u001b[1m0s\u001b[0m 64ms/step - accuracy: 0.5303 - loss: 0.7060 - val_accuracy: 0.1818 - val_loss: 1.1871 - learning_rate: 1.0000e-06\n",
      "Epoch 15/100\n",
      "\u001b[1m2/2\u001b[0m \u001b[32m━━━━━━━━━━━━━━━━━━━━\u001b[0m\u001b[37m\u001b[0m \u001b[1m0s\u001b[0m 68ms/step - accuracy: 0.3570 - loss: 0.7769 - val_accuracy: 0.1818 - val_loss: 1.1732 - learning_rate: 1.0000e-06\n",
      "Epoch 16/100\n",
      "\u001b[1m2/2\u001b[0m \u001b[32m━━━━━━━━━━━━━━━━━━━━\u001b[0m\u001b[37m\u001b[0m \u001b[1m0s\u001b[0m 69ms/step - accuracy: 0.7093 - loss: 0.6641 - val_accuracy: 0.1818 - val_loss: 1.1603 - learning_rate: 1.0000e-06\n",
      "Epoch 17/100\n",
      "\u001b[1m2/2\u001b[0m \u001b[32m━━━━━━━━━━━━━━━━━━━━\u001b[0m\u001b[37m\u001b[0m \u001b[1m0s\u001b[0m 66ms/step - accuracy: 0.4337 - loss: 0.8177 - val_accuracy: 0.1818 - val_loss: 1.1509 - learning_rate: 1.0000e-06\n",
      "Epoch 18/100\n",
      "\u001b[1m2/2\u001b[0m \u001b[32m━━━━━━━━━━━━━━━━━━━━\u001b[0m\u001b[37m\u001b[0m \u001b[1m0s\u001b[0m 64ms/step - accuracy: 0.4697 - loss: 0.7649 - val_accuracy: 0.1818 - val_loss: 1.1302 - learning_rate: 1.0000e-06\n",
      "Epoch 19/100\n",
      "\u001b[1m2/2\u001b[0m \u001b[32m━━━━━━━━━━━━━━━━━━━━\u001b[0m\u001b[37m\u001b[0m \u001b[1m0s\u001b[0m 64ms/step - accuracy: 0.5152 - loss: 0.6995 - val_accuracy: 0.1818 - val_loss: 1.1221 - learning_rate: 1.0000e-06\n",
      "Epoch 20/100\n",
      "\u001b[1m2/2\u001b[0m \u001b[32m━━━━━━━━━━━━━━━━━━━━\u001b[0m\u001b[37m\u001b[0m \u001b[1m0s\u001b[0m 66ms/step - accuracy: 0.5000 - loss: 0.7599 - val_accuracy: 0.1818 - val_loss: 1.1031 - learning_rate: 1.0000e-06\n",
      "Epoch 21/100\n",
      "\u001b[1m2/2\u001b[0m \u001b[32m━━━━━━━━━━━━━━━━━━━━\u001b[0m\u001b[37m\u001b[0m \u001b[1m0s\u001b[0m 72ms/step - accuracy: 0.4640 - loss: 0.7974 - val_accuracy: 0.2727 - val_loss: 1.0947 - learning_rate: 1.0000e-06\n",
      "Epoch 22/100\n",
      "\u001b[1m2/2\u001b[0m \u001b[32m━━━━━━━━━━━━━━━━━━━━\u001b[0m\u001b[37m\u001b[0m \u001b[1m0s\u001b[0m 68ms/step - accuracy: 0.5455 - loss: 0.7068 - val_accuracy: 0.2727 - val_loss: 1.0807 - learning_rate: 1.0000e-06\n",
      "Epoch 23/100\n",
      "\u001b[1m2/2\u001b[0m \u001b[32m━━━━━━━━━━━━━━━━━━━━\u001b[0m\u001b[37m\u001b[0m \u001b[1m0s\u001b[0m 65ms/step - accuracy: 0.5199 - loss: 0.7413 - val_accuracy: 0.2727 - val_loss: 1.0689 - learning_rate: 1.0000e-06\n",
      "Epoch 24/100\n",
      "\u001b[1m2/2\u001b[0m \u001b[32m━━━━━━━━━━━━━━━━━━━━\u001b[0m\u001b[37m\u001b[0m \u001b[1m0s\u001b[0m 65ms/step - accuracy: 0.5256 - loss: 0.7329 - val_accuracy: 0.2727 - val_loss: 1.0583 - learning_rate: 1.0000e-06\n",
      "Epoch 25/100\n",
      "\u001b[1m2/2\u001b[0m \u001b[32m━━━━━━━━━━━━━━━━━━━━\u001b[0m\u001b[37m\u001b[0m \u001b[1m0s\u001b[0m 64ms/step - accuracy: 0.4953 - loss: 0.7434 - val_accuracy: 0.2727 - val_loss: 1.0515 - learning_rate: 1.0000e-06\n",
      "Epoch 26/100\n",
      "\u001b[1m2/2\u001b[0m \u001b[32m━━━━━━━━━━━━━━━━━━━━\u001b[0m\u001b[37m\u001b[0m \u001b[1m0s\u001b[0m 66ms/step - accuracy: 0.6941 - loss: 0.6707 - val_accuracy: 0.2727 - val_loss: 1.0391 - learning_rate: 1.0000e-06\n",
      "Epoch 27/100\n",
      "\u001b[1m2/2\u001b[0m \u001b[32m━━━━━━━━━━━━━━━━━━━━\u001b[0m\u001b[37m\u001b[0m \u001b[1m0s\u001b[0m 64ms/step - accuracy: 0.6174 - loss: 0.7052 - val_accuracy: 0.3636 - val_loss: 1.0301 - learning_rate: 1.0000e-06\n",
      "Epoch 28/100\n",
      "\u001b[1m2/2\u001b[0m \u001b[32m━━━━━━━━━━━━━━━━━━━━\u001b[0m\u001b[37m\u001b[0m \u001b[1m0s\u001b[0m 67ms/step - accuracy: 0.5464 - loss: 0.7449 - val_accuracy: 0.3636 - val_loss: 1.0237 - learning_rate: 1.0000e-06\n",
      "Epoch 29/100\n",
      "\u001b[1m2/2\u001b[0m \u001b[32m━━━━━━━━━━━━━━━━━━━━\u001b[0m\u001b[37m\u001b[0m \u001b[1m0s\u001b[0m 65ms/step - accuracy: 0.6278 - loss: 0.6826 - val_accuracy: 0.3636 - val_loss: 1.0171 - learning_rate: 1.0000e-06\n",
      "Epoch 30/100\n",
      "\u001b[1m2/2\u001b[0m \u001b[32m━━━━━━━━━━━━━━━━━━━━\u001b[0m\u001b[37m\u001b[0m \u001b[1m0s\u001b[0m 63ms/step - accuracy: 0.5303 - loss: 0.7543 - val_accuracy: 0.3636 - val_loss: 1.0115 - learning_rate: 1.0000e-06\n",
      "Epoch 31/100\n",
      "\u001b[1m2/2\u001b[0m \u001b[32m━━━━━━━━━━━━━━━━━━━━\u001b[0m\u001b[37m\u001b[0m \u001b[1m0s\u001b[0m 163ms/step - accuracy: 0.4744 - loss: 0.7380 - val_accuracy: 0.3636 - val_loss: 1.0104 - learning_rate: 1.0000e-06\n",
      "Epoch 32/100\n",
      "\u001b[1m2/2\u001b[0m \u001b[32m━━━━━━━━━━━━━━━━━━━━\u001b[0m\u001b[37m\u001b[0m \u001b[1m0s\u001b[0m 78ms/step - accuracy: 0.4848 - loss: 0.7471 - val_accuracy: 0.3636 - val_loss: 1.0045 - learning_rate: 1.0000e-06\n",
      "Epoch 33/100\n",
      "\u001b[1m2/2\u001b[0m \u001b[32m━━━━━━━━━━━━━━━━━━━━\u001b[0m\u001b[37m\u001b[0m \u001b[1m0s\u001b[0m 65ms/step - accuracy: 0.3570 - loss: 0.8417 - val_accuracy: 0.3636 - val_loss: 1.0010 - learning_rate: 1.0000e-06\n",
      "Epoch 34/100\n",
      "\u001b[1m2/2\u001b[0m \u001b[32m━━━━━━━━━━━━━━━━━━━━\u001b[0m\u001b[37m\u001b[0m \u001b[1m0s\u001b[0m 65ms/step - accuracy: 0.5000 - loss: 0.7727 - val_accuracy: 0.3636 - val_loss: 0.9975 - learning_rate: 1.0000e-06\n",
      "Epoch 35/100\n",
      "\u001b[1m2/2\u001b[0m \u001b[32m━━━━━━━━━━━━━━━━━━━━\u001b[0m\u001b[37m\u001b[0m \u001b[1m0s\u001b[0m 76ms/step - accuracy: 0.5407 - loss: 0.7657 - val_accuracy: 0.3636 - val_loss: 0.9965 - learning_rate: 1.0000e-06\n",
      "Epoch 36/100\n",
      "\u001b[1m2/2\u001b[0m \u001b[32m━━━━━━━━━━━━━━━━━━━━\u001b[0m\u001b[37m\u001b[0m \u001b[1m0s\u001b[0m 63ms/step - accuracy: 0.4489 - loss: 0.8071 - val_accuracy: 0.3636 - val_loss: 0.9901 - learning_rate: 1.0000e-06\n",
      "Epoch 37/100\n",
      "\u001b[1m2/2\u001b[0m \u001b[32m━━━━━━━━━━━━━━━━━━━━\u001b[0m\u001b[37m\u001b[0m \u001b[1m0s\u001b[0m 65ms/step - accuracy: 0.7301 - loss: 0.5953 - val_accuracy: 0.3636 - val_loss: 0.9810 - learning_rate: 1.0000e-06\n",
      "Epoch 38/100\n",
      "\u001b[1m2/2\u001b[0m \u001b[32m━━━━━━━━━━━━━━━━━━━━\u001b[0m\u001b[37m\u001b[0m \u001b[1m0s\u001b[0m 65ms/step - accuracy: 0.6070 - loss: 0.7278 - val_accuracy: 0.3636 - val_loss: 0.9762 - learning_rate: 1.0000e-06\n",
      "Epoch 39/100\n",
      "\u001b[1m2/2\u001b[0m \u001b[32m━━━━━━━━━━━━━━━━━━━━\u001b[0m\u001b[37m\u001b[0m \u001b[1m0s\u001b[0m 65ms/step - accuracy: 0.5104 - loss: 0.7109 - val_accuracy: 0.3636 - val_loss: 0.9699 - learning_rate: 1.0000e-06\n",
      "Epoch 40/100\n",
      "\u001b[1m2/2\u001b[0m \u001b[32m━━━━━━━━━━━━━━━━━━━━\u001b[0m\u001b[37m\u001b[0m \u001b[1m0s\u001b[0m 69ms/step - accuracy: 0.3977 - loss: 0.7748 - val_accuracy: 0.3636 - val_loss: 0.9639 - learning_rate: 1.0000e-06\n",
      "Epoch 41/100\n",
      "\u001b[1m2/2\u001b[0m \u001b[32m━━━━━━━━━━━━━━━━━━━━\u001b[0m\u001b[37m\u001b[0m \u001b[1m0s\u001b[0m 69ms/step - accuracy: 0.5360 - loss: 0.7377 - val_accuracy: 0.4545 - val_loss: 0.9579 - learning_rate: 1.0000e-06\n",
      "Epoch 42/100\n",
      "\u001b[1m2/2\u001b[0m \u001b[32m━━━━━━━━━━━━━━━━━━━━\u001b[0m\u001b[37m\u001b[0m \u001b[1m0s\u001b[0m 65ms/step - accuracy: 0.3977 - loss: 0.7837 - val_accuracy: 0.4545 - val_loss: 0.9549 - learning_rate: 1.0000e-06\n",
      "Epoch 43/100\n",
      "\u001b[1m2/2\u001b[0m \u001b[32m━━━━━━━━━━━━━━━━━━━━\u001b[0m\u001b[37m\u001b[0m \u001b[1m0s\u001b[0m 64ms/step - accuracy: 0.6174 - loss: 0.7194 - val_accuracy: 0.4545 - val_loss: 0.9495 - learning_rate: 1.0000e-06\n",
      "Epoch 44/100\n",
      "\u001b[1m2/2\u001b[0m \u001b[32m━━━━━━━━━━━━━━━━━━━━\u001b[0m\u001b[37m\u001b[0m \u001b[1m0s\u001b[0m 64ms/step - accuracy: 0.4129 - loss: 0.7815 - val_accuracy: 0.4545 - val_loss: 0.9424 - learning_rate: 1.0000e-06\n",
      "Epoch 45/100\n",
      "\u001b[1m2/2\u001b[0m \u001b[32m━━━━━━━━━━━━━━━━━━━━\u001b[0m\u001b[37m\u001b[0m \u001b[1m0s\u001b[0m 66ms/step - accuracy: 0.3163 - loss: 0.8555 - val_accuracy: 0.4545 - val_loss: 0.9381 - learning_rate: 1.0000e-06\n",
      "Epoch 46/100\n",
      "\u001b[1m2/2\u001b[0m \u001b[32m━━━━━━━━━━━━━━━━━━━━\u001b[0m\u001b[37m\u001b[0m \u001b[1m0s\u001b[0m 64ms/step - accuracy: 0.6581 - loss: 0.7132 - val_accuracy: 0.4545 - val_loss: 0.9300 - learning_rate: 1.0000e-06\n",
      "Epoch 47/100\n",
      "\u001b[1m2/2\u001b[0m \u001b[32m━━━━━━━━━━━━━━━━━━━━\u001b[0m\u001b[37m\u001b[0m \u001b[1m0s\u001b[0m 255ms/step - accuracy: 0.5616 - loss: 0.7650 - val_accuracy: 0.4545 - val_loss: 0.9278 - learning_rate: 1.0000e-06\n",
      "Epoch 48/100\n",
      "\u001b[1m2/2\u001b[0m \u001b[32m━━━━━━━━━━━━━━━━━━━━\u001b[0m\u001b[37m\u001b[0m \u001b[1m0s\u001b[0m 65ms/step - accuracy: 0.5360 - loss: 0.7093 - val_accuracy: 0.4545 - val_loss: 0.9252 - learning_rate: 1.0000e-06\n",
      "Epoch 49/100\n",
      "\u001b[1m2/2\u001b[0m \u001b[32m━━━━━━━━━━━━━━━━━━━━\u001b[0m\u001b[37m\u001b[0m \u001b[1m0s\u001b[0m 64ms/step - accuracy: 0.5767 - loss: 0.6814 - val_accuracy: 0.4545 - val_loss: 0.9211 - learning_rate: 1.0000e-06\n",
      "Epoch 50/100\n",
      "\u001b[1m2/2\u001b[0m \u001b[32m━━━━━━━━━━━━━━━━━━━━\u001b[0m\u001b[37m\u001b[0m \u001b[1m0s\u001b[0m 65ms/step - accuracy: 0.6686 - loss: 0.6926 - val_accuracy: 0.4545 - val_loss: 0.9191 - learning_rate: 1.0000e-06\n",
      "Epoch 51/100\n",
      "\u001b[1m2/2\u001b[0m \u001b[32m━━━━━━━━━━━━━━━━━━━━\u001b[0m\u001b[37m\u001b[0m \u001b[1m0s\u001b[0m 64ms/step - accuracy: 0.4384 - loss: 0.7490 - val_accuracy: 0.4545 - val_loss: 0.9206 - learning_rate: 1.0000e-06\n",
      "Epoch 52/100\n",
      "\u001b[1m2/2\u001b[0m \u001b[32m━━━━━━━━━━━━━━━━━━━━\u001b[0m\u001b[37m\u001b[0m \u001b[1m0s\u001b[0m 66ms/step - accuracy: 0.4848 - loss: 0.7197 - val_accuracy: 0.4545 - val_loss: 0.9164 - learning_rate: 1.0000e-06\n",
      "Epoch 53/100\n",
      "\u001b[1m2/2\u001b[0m \u001b[32m━━━━━━━━━━━━━━━━━━━━\u001b[0m\u001b[37m\u001b[0m \u001b[1m0s\u001b[0m 65ms/step - accuracy: 0.5208 - loss: 0.7680 - val_accuracy: 0.4545 - val_loss: 0.9123 - learning_rate: 1.0000e-06\n",
      "Epoch 54/100\n",
      "\u001b[1m2/2\u001b[0m \u001b[32m━━━━━━━━━━━━━━━━━━━━\u001b[0m\u001b[37m\u001b[0m \u001b[1m0s\u001b[0m 64ms/step - accuracy: 0.4489 - loss: 0.7944 - val_accuracy: 0.4545 - val_loss: 0.9098 - learning_rate: 1.0000e-06\n",
      "Epoch 55/100\n",
      "\u001b[1m2/2\u001b[0m \u001b[32m━━━━━━━━━━━━━━━━━━━━\u001b[0m\u001b[37m\u001b[0m \u001b[1m0s\u001b[0m 70ms/step - accuracy: 0.4593 - loss: 0.8027 - val_accuracy: 0.4545 - val_loss: 0.9051 - learning_rate: 1.0000e-06\n",
      "Epoch 56/100\n",
      "\u001b[1m2/2\u001b[0m \u001b[32m━━━━━━━━━━━━━━━━━━━━\u001b[0m\u001b[37m\u001b[0m \u001b[1m0s\u001b[0m 76ms/step - accuracy: 0.3210 - loss: 0.7930 - val_accuracy: 0.4545 - val_loss: 0.9025 - learning_rate: 1.0000e-06\n",
      "Epoch 57/100\n",
      "\u001b[1m2/2\u001b[0m \u001b[32m━━━━━━━━━━━━━━━━━━━━\u001b[0m\u001b[37m\u001b[0m \u001b[1m0s\u001b[0m 67ms/step - accuracy: 0.5152 - loss: 0.6977 - val_accuracy: 0.4545 - val_loss: 0.9002 - learning_rate: 1.0000e-06\n",
      "Epoch 58/100\n",
      "\u001b[1m2/2\u001b[0m \u001b[32m━━━━━━━━━━━━━━━━━━━━\u001b[0m\u001b[37m\u001b[0m \u001b[1m0s\u001b[0m 66ms/step - accuracy: 0.4489 - loss: 0.7912 - val_accuracy: 0.4545 - val_loss: 0.8982 - learning_rate: 1.0000e-06\n",
      "Epoch 59/100\n",
      "\u001b[1m2/2\u001b[0m \u001b[32m━━━━━━━━━━━━━━━━━━━━\u001b[0m\u001b[37m\u001b[0m \u001b[1m0s\u001b[0m 70ms/step - accuracy: 0.4848 - loss: 0.7413 - val_accuracy: 0.4545 - val_loss: 0.8926 - learning_rate: 1.0000e-06\n",
      "Epoch 60/100\n",
      "\u001b[1m2/2\u001b[0m \u001b[32m━━━━━━━━━━━━━━━━━━━━\u001b[0m\u001b[37m\u001b[0m \u001b[1m0s\u001b[0m 65ms/step - accuracy: 0.5152 - loss: 0.7463 - val_accuracy: 0.4545 - val_loss: 0.8908 - learning_rate: 1.0000e-06\n",
      "Epoch 61/100\n",
      "\u001b[1m2/2\u001b[0m \u001b[32m━━━━━━━━━━━━━━━━━━━━\u001b[0m\u001b[37m\u001b[0m \u001b[1m0s\u001b[0m 110ms/step - accuracy: 0.5360 - loss: 0.7277 - val_accuracy: 0.4545 - val_loss: 0.8892 - learning_rate: 1.0000e-06\n",
      "Epoch 62/100\n",
      "\u001b[1m2/2\u001b[0m \u001b[32m━━━━━━━━━━━━━━━━━━━━\u001b[0m\u001b[37m\u001b[0m \u001b[1m0s\u001b[0m 65ms/step - accuracy: 0.5663 - loss: 0.7795 - val_accuracy: 0.4545 - val_loss: 0.8859 - learning_rate: 1.0000e-06\n",
      "Epoch 63/100\n",
      "\u001b[1m2/2\u001b[0m \u001b[32m━━━━━━━━━━━━━━━━━━━━\u001b[0m\u001b[37m\u001b[0m \u001b[1m0s\u001b[0m 68ms/step - accuracy: 0.5559 - loss: 0.6726 - val_accuracy: 0.4545 - val_loss: 0.8816 - learning_rate: 1.0000e-06\n",
      "Epoch 64/100\n",
      "\u001b[1m2/2\u001b[0m \u001b[32m━━━━━━━━━━━━━━━━━━━━\u001b[0m\u001b[37m\u001b[0m \u001b[1m0s\u001b[0m 66ms/step - accuracy: 0.5663 - loss: 0.7181 - val_accuracy: 0.4545 - val_loss: 0.8804 - learning_rate: 1.0000e-06\n",
      "Epoch 65/100\n",
      "\u001b[1m2/2\u001b[0m \u001b[32m━━━━━━━━━━━━━━━━━━━━\u001b[0m\u001b[37m\u001b[0m \u001b[1m0s\u001b[0m 64ms/step - accuracy: 0.4384 - loss: 0.7334 - val_accuracy: 0.4545 - val_loss: 0.8801 - learning_rate: 1.0000e-06\n",
      "Epoch 66/100\n",
      "\u001b[1m2/2\u001b[0m \u001b[32m━━━━━━━━━━━━━━━━━━━━\u001b[0m\u001b[37m\u001b[0m \u001b[1m0s\u001b[0m 65ms/step - accuracy: 0.5559 - loss: 0.7549 - val_accuracy: 0.4545 - val_loss: 0.8782 - learning_rate: 1.0000e-06\n",
      "Epoch 67/100\n",
      "\u001b[1m2/2\u001b[0m \u001b[32m━━━━━━━━━━━━━━━━━━━━\u001b[0m\u001b[37m\u001b[0m \u001b[1m0s\u001b[0m 64ms/step - accuracy: 0.4792 - loss: 0.7413 - val_accuracy: 0.4545 - val_loss: 0.8775 - learning_rate: 1.0000e-06\n",
      "Epoch 68/100\n",
      "\u001b[1m2/2\u001b[0m \u001b[32m━━━━━━━━━━━━━━━━━━━━\u001b[0m\u001b[37m\u001b[0m \u001b[1m0s\u001b[0m 64ms/step - accuracy: 0.5303 - loss: 0.8157 - val_accuracy: 0.4545 - val_loss: 0.8762 - learning_rate: 1.0000e-06\n",
      "Epoch 69/100\n",
      "\u001b[1m2/2\u001b[0m \u001b[32m━━━━━━━━━━━━━━━━━━━━\u001b[0m\u001b[37m\u001b[0m \u001b[1m0s\u001b[0m 65ms/step - accuracy: 0.5407 - loss: 0.7916 - val_accuracy: 0.4545 - val_loss: 0.8717 - learning_rate: 1.0000e-06\n",
      "Epoch 70/100\n",
      "\u001b[1m2/2\u001b[0m \u001b[32m━━━━━━━━━━━━━━━━━━━━\u001b[0m\u001b[37m\u001b[0m \u001b[1m0s\u001b[0m 65ms/step - accuracy: 0.5663 - loss: 0.7652 - val_accuracy: 0.4545 - val_loss: 0.8741 - learning_rate: 1.0000e-06\n",
      "Epoch 71/100\n",
      "\u001b[1m2/2\u001b[0m \u001b[32m━━━━━━━━━━━━━━━━━━━━\u001b[0m\u001b[37m\u001b[0m \u001b[1m0s\u001b[0m 64ms/step - accuracy: 0.6326 - loss: 0.6588 - val_accuracy: 0.4545 - val_loss: 0.8718 - learning_rate: 1.0000e-06\n",
      "Epoch 72/100\n",
      "\u001b[1m2/2\u001b[0m \u001b[32m━━━━━━━━━━━━━━━━━━━━\u001b[0m\u001b[37m\u001b[0m \u001b[1m0s\u001b[0m 62ms/step - accuracy: 0.3419 - loss: 0.7942 - val_accuracy: 0.4545 - val_loss: 0.8718 - learning_rate: 1.0000e-06\n",
      "Epoch 73/100\n",
      "\u001b[1m2/2\u001b[0m \u001b[32m━━━━━━━━━━━━━━━━━━━━\u001b[0m\u001b[37m\u001b[0m \u001b[1m0s\u001b[0m 68ms/step - accuracy: 0.6638 - loss: 0.7104 - val_accuracy: 0.4545 - val_loss: 0.8702 - learning_rate: 1.0000e-06\n",
      "Epoch 74/100\n",
      "\u001b[1m2/2\u001b[0m \u001b[32m━━━━━━━━━━━━━━━━━━━━\u001b[0m\u001b[37m\u001b[0m \u001b[1m0s\u001b[0m 63ms/step - accuracy: 0.4896 - loss: 0.7226 - val_accuracy: 0.4545 - val_loss: 0.8713 - learning_rate: 1.0000e-06\n",
      "Epoch 75/100\n",
      "\u001b[1m2/2\u001b[0m \u001b[32m━━━━━━━━━━━━━━━━━━━━\u001b[0m\u001b[37m\u001b[0m \u001b[1m0s\u001b[0m 241ms/step - accuracy: 0.3466 - loss: 0.8328 - val_accuracy: 0.4545 - val_loss: 0.8714 - learning_rate: 1.0000e-06\n",
      "Epoch 76/100\n",
      "\u001b[1m2/2\u001b[0m \u001b[32m━━━━━━━━━━━━━━━━━━━━\u001b[0m\u001b[37m\u001b[0m \u001b[1m0s\u001b[0m 67ms/step - accuracy: 0.4896 - loss: 0.8692 - val_accuracy: 0.4545 - val_loss: 0.8702 - learning_rate: 1.0000e-06\n",
      "Epoch 77/100\n",
      "\u001b[1m2/2\u001b[0m \u001b[32m━━━━━━━━━━━━━━━━━━━━\u001b[0m\u001b[37m\u001b[0m \u001b[1m0s\u001b[0m 65ms/step - accuracy: 0.6278 - loss: 0.7419 - val_accuracy: 0.4545 - val_loss: 0.8680 - learning_rate: 1.0000e-06\n",
      "Epoch 78/100\n",
      "\u001b[1m2/2\u001b[0m \u001b[32m━━━━━━━━━━━━━━━━━━━━\u001b[0m\u001b[37m\u001b[0m \u001b[1m0s\u001b[0m 65ms/step - accuracy: 0.5360 - loss: 0.7489 - val_accuracy: 0.4545 - val_loss: 0.8673 - learning_rate: 1.0000e-06\n",
      "Epoch 79/100\n",
      "\u001b[1m2/2\u001b[0m \u001b[32m━━━━━━━━━━━━━━━━━━━━\u001b[0m\u001b[37m\u001b[0m \u001b[1m0s\u001b[0m 64ms/step - accuracy: 0.6430 - loss: 0.6756 - val_accuracy: 0.4545 - val_loss: 0.8636 - learning_rate: 1.0000e-06\n",
      "Epoch 80/100\n",
      "\u001b[1m2/2\u001b[0m \u001b[32m━━━━━━━━━━━━━━━━━━━━\u001b[0m\u001b[37m\u001b[0m \u001b[1m0s\u001b[0m 65ms/step - accuracy: 0.5152 - loss: 0.7711 - val_accuracy: 0.4545 - val_loss: 0.8624 - learning_rate: 1.0000e-06\n",
      "Epoch 81/100\n",
      "\u001b[1m2/2\u001b[0m \u001b[32m━━━━━━━━━━━━━━━━━━━━\u001b[0m\u001b[37m\u001b[0m \u001b[1m0s\u001b[0m 63ms/step - accuracy: 0.5511 - loss: 0.6824 - val_accuracy: 0.4545 - val_loss: 0.8616 - learning_rate: 1.0000e-06\n",
      "Epoch 82/100\n",
      "\u001b[1m2/2\u001b[0m \u001b[32m━━━━━━━━━━━━━━━━━━━━\u001b[0m\u001b[37m\u001b[0m \u001b[1m0s\u001b[0m 64ms/step - accuracy: 0.5303 - loss: 0.7931 - val_accuracy: 0.4545 - val_loss: 0.8594 - learning_rate: 1.0000e-06\n",
      "Epoch 83/100\n",
      "\u001b[1m2/2\u001b[0m \u001b[32m━━━━━━━━━━━━━━━━━━━━\u001b[0m\u001b[37m\u001b[0m \u001b[1m0s\u001b[0m 69ms/step - accuracy: 0.5000 - loss: 0.7109 - val_accuracy: 0.4545 - val_loss: 0.8583 - learning_rate: 1.0000e-06\n",
      "Epoch 84/100\n",
      "\u001b[1m2/2\u001b[0m \u001b[32m━━━━━━━━━━━━━━━━━━━━\u001b[0m\u001b[37m\u001b[0m \u001b[1m0s\u001b[0m 65ms/step - accuracy: 0.5152 - loss: 0.7198 - val_accuracy: 0.4545 - val_loss: 0.8582 - learning_rate: 1.0000e-06\n",
      "Epoch 85/100\n",
      "\u001b[1m2/2\u001b[0m \u001b[32m━━━━━━━━━━━━━━━━━━━━\u001b[0m\u001b[37m\u001b[0m \u001b[1m0s\u001b[0m 64ms/step - accuracy: 0.5152 - loss: 0.7464 - val_accuracy: 0.4545 - val_loss: 0.8570 - learning_rate: 1.0000e-06\n",
      "Epoch 86/100\n",
      "\u001b[1m2/2\u001b[0m \u001b[32m━━━━━━━━━━━━━━━━━━━━\u001b[0m\u001b[37m\u001b[0m \u001b[1m0s\u001b[0m 64ms/step - accuracy: 0.5663 - loss: 0.8189 - val_accuracy: 0.4545 - val_loss: 0.8554 - learning_rate: 1.0000e-06\n",
      "Epoch 87/100\n",
      "\u001b[1m2/2\u001b[0m \u001b[32m━━━━━━━━━━━━━━━━━━━━\u001b[0m\u001b[37m\u001b[0m \u001b[1m0s\u001b[0m 66ms/step - accuracy: 0.4792 - loss: 0.7952 - val_accuracy: 0.4545 - val_loss: 0.8539 - learning_rate: 1.0000e-06\n",
      "Epoch 88/100\n",
      "\u001b[1m2/2\u001b[0m \u001b[32m━━━━━━━━━━━━━━━━━━━━\u001b[0m\u001b[37m\u001b[0m \u001b[1m0s\u001b[0m 64ms/step - accuracy: 0.5047 - loss: 0.7960 - val_accuracy: 0.4545 - val_loss: 0.8520 - learning_rate: 1.0000e-06\n",
      "Epoch 89/100\n",
      "\u001b[1m2/2\u001b[0m \u001b[32m━━━━━━━━━━━━━━━━━━━━\u001b[0m\u001b[37m\u001b[0m \u001b[1m0s\u001b[0m 84ms/step - accuracy: 0.4792 - loss: 0.7307 - val_accuracy: 0.4545 - val_loss: 0.8514 - learning_rate: 1.0000e-06\n",
      "Epoch 90/100\n",
      "\u001b[1m2/2\u001b[0m \u001b[32m━━━━━━━━━━━━━━━━━━━━\u001b[0m\u001b[37m\u001b[0m \u001b[1m0s\u001b[0m 64ms/step - accuracy: 0.4744 - loss: 0.8287 - val_accuracy: 0.4545 - val_loss: 0.8479 - learning_rate: 1.0000e-06\n",
      "Epoch 91/100\n",
      "\u001b[1m2/2\u001b[0m \u001b[32m━━━━━━━━━━━━━━━━━━━━\u001b[0m\u001b[37m\u001b[0m \u001b[1m0s\u001b[0m 68ms/step - accuracy: 0.5360 - loss: 0.7209 - val_accuracy: 0.4545 - val_loss: 0.8430 - learning_rate: 1.0000e-06\n",
      "Epoch 92/100\n",
      "\u001b[1m2/2\u001b[0m \u001b[32m━━━━━━━━━━━━━━━━━━━━\u001b[0m\u001b[37m\u001b[0m \u001b[1m0s\u001b[0m 65ms/step - accuracy: 0.6430 - loss: 0.7256 - val_accuracy: 0.4545 - val_loss: 0.8383 - learning_rate: 1.0000e-06\n",
      "Epoch 93/100\n",
      "\u001b[1m2/2\u001b[0m \u001b[32m━━━━━━━━━━━━━━━━━━━━\u001b[0m\u001b[37m\u001b[0m \u001b[1m0s\u001b[0m 62ms/step - accuracy: 0.4489 - loss: 0.9003 - val_accuracy: 0.4545 - val_loss: 0.8389 - learning_rate: 1.0000e-06\n",
      "Epoch 94/100\n",
      "\u001b[1m2/2\u001b[0m \u001b[32m━━━━━━━━━━━━━━━━━━━━\u001b[0m\u001b[37m\u001b[0m \u001b[1m0s\u001b[0m 65ms/step - accuracy: 0.5663 - loss: 0.7904 - val_accuracy: 0.4545 - val_loss: 0.8376 - learning_rate: 1.0000e-06\n",
      "Epoch 95/100\n",
      "\u001b[1m2/2\u001b[0m \u001b[32m━━━━━━━━━━━━━━━━━━━━\u001b[0m\u001b[37m\u001b[0m \u001b[1m0s\u001b[0m 66ms/step - accuracy: 0.6174 - loss: 0.7084 - val_accuracy: 0.4545 - val_loss: 0.8355 - learning_rate: 1.0000e-06\n",
      "Epoch 96/100\n",
      "\u001b[1m2/2\u001b[0m \u001b[32m━━━━━━━━━━━━━━━━━━━━\u001b[0m\u001b[37m\u001b[0m \u001b[1m0s\u001b[0m 67ms/step - accuracy: 0.5000 - loss: 0.8294 - val_accuracy: 0.4545 - val_loss: 0.8342 - learning_rate: 1.0000e-06\n",
      "Epoch 97/100\n",
      "\u001b[1m2/2\u001b[0m \u001b[32m━━━━━━━━━━━━━━━━━━━━\u001b[0m\u001b[37m\u001b[0m \u001b[1m0s\u001b[0m 66ms/step - accuracy: 0.4744 - loss: 0.7703 - val_accuracy: 0.5455 - val_loss: 0.8314 - learning_rate: 1.0000e-06\n",
      "Epoch 98/100\n",
      "\u001b[1m2/2\u001b[0m \u001b[32m━━━━━━━━━━━━━━━━━━━━\u001b[0m\u001b[37m\u001b[0m \u001b[1m0s\u001b[0m 63ms/step - accuracy: 0.4697 - loss: 0.7628 - val_accuracy: 0.5455 - val_loss: 0.8317 - learning_rate: 1.0000e-06\n",
      "Epoch 99/100\n",
      "\u001b[1m2/2\u001b[0m \u001b[32m━━━━━━━━━━━━━━━━━━━━\u001b[0m\u001b[37m\u001b[0m \u001b[1m0s\u001b[0m 63ms/step - accuracy: 0.5000 - loss: 0.7676 - val_accuracy: 0.5455 - val_loss: 0.8315 - learning_rate: 1.0000e-06\n",
      "Epoch 100/100\n",
      "\u001b[1m2/2\u001b[0m \u001b[32m━━━━━━━━━━━━━━━━━━━━\u001b[0m\u001b[37m\u001b[0m \u001b[1m0s\u001b[0m 64ms/step - accuracy: 0.6278 - loss: 0.6408 - val_accuracy: 0.5455 - val_loss: 0.8307 - learning_rate: 1.0000e-06\n"
     ]
    },
    {
     "data": {
      "text/plain": [
       "<keras.src.callbacks.history.History at 0x132049310>"
      ]
     },
     "execution_count": 21,
     "metadata": {},
     "output_type": "execute_result"
    }
   ],
   "source": [
    "model_leak.fit(X_leak_train, y_leak_train, validation_split=0.2, epochs=100, batch_size=32,\n",
    "                    callbacks=[\n",
    "                                EarlyStopping(monitor='val_loss',\n",
    "                                             patience=5,\n",
    "                                             restore_best_weights=True),\n",
    "                                ReduceLROnPlateau(\n",
    "                                  monitor='val_loss',\n",
    "                                  factor=0.5,\n",
    "                                  patience=5,\n",
    "                                  verbose=1)\n",
    "                               ]\n",
    "                    )"
   ]
  },
  {
   "cell_type": "code",
   "execution_count": 22,
   "id": "7ea3869a",
   "metadata": {},
   "outputs": [
    {
     "name": "stdout",
     "output_type": "stream",
     "text": [
      "Epoch 1/100\n",
      "\u001b[1m2/2\u001b[0m \u001b[32m━━━━━━━━━━━━━━━━━━━━\u001b[0m\u001b[37m\u001b[0m \u001b[1m3s\u001b[0m 310ms/step - accuracy: 0.5256 - loss: 0.7630 - val_accuracy: 0.4545 - val_loss: 1.9455 - learning_rate: 1.0000e-06\n",
      "Epoch 2/100\n",
      "\u001b[1m2/2\u001b[0m \u001b[32m━━━━━━━━━━━━━━━━━━━━\u001b[0m\u001b[37m\u001b[0m \u001b[1m0s\u001b[0m 64ms/step - accuracy: 0.5407 - loss: 0.8580 - val_accuracy: 0.4545 - val_loss: 1.4577 - learning_rate: 1.0000e-06\n",
      "Epoch 3/100\n",
      "\u001b[1m2/2\u001b[0m \u001b[32m━━━━━━━━━━━━━━━━━━━━\u001b[0m\u001b[37m\u001b[0m \u001b[1m0s\u001b[0m 64ms/step - accuracy: 0.5511 - loss: 0.7356 - val_accuracy: 0.4545 - val_loss: 1.2232 - learning_rate: 1.0000e-06\n",
      "Epoch 4/100\n",
      "\u001b[1m2/2\u001b[0m \u001b[32m━━━━━━━━━━━━━━━━━━━━\u001b[0m\u001b[37m\u001b[0m \u001b[1m0s\u001b[0m 64ms/step - accuracy: 0.4176 - loss: 0.8357 - val_accuracy: 0.4545 - val_loss: 1.1524 - learning_rate: 1.0000e-06\n",
      "Epoch 5/100\n",
      "\u001b[1m2/2\u001b[0m \u001b[32m━━━━━━━━━━━━━━━━━━━━\u001b[0m\u001b[37m\u001b[0m \u001b[1m0s\u001b[0m 66ms/step - accuracy: 0.5104 - loss: 0.7056 - val_accuracy: 0.4545 - val_loss: 1.0853 - learning_rate: 1.0000e-06\n",
      "Epoch 6/100\n",
      "\u001b[1m2/2\u001b[0m \u001b[32m━━━━━━━━━━━━━━━━━━━━\u001b[0m\u001b[37m\u001b[0m \u001b[1m0s\u001b[0m 80ms/step - accuracy: 0.5303 - loss: 0.7387 - val_accuracy: 0.4545 - val_loss: 1.0197 - learning_rate: 1.0000e-06\n",
      "Epoch 7/100\n",
      "\u001b[1m2/2\u001b[0m \u001b[32m━━━━━━━━━━━━━━━━━━━━\u001b[0m\u001b[37m\u001b[0m \u001b[1m0s\u001b[0m 72ms/step - accuracy: 0.3314 - loss: 0.8791 - val_accuracy: 0.4545 - val_loss: 0.9757 - learning_rate: 1.0000e-06\n",
      "Epoch 8/100\n",
      "\u001b[1m2/2\u001b[0m \u001b[32m━━━━━━━━━━━━━━━━━━━━\u001b[0m\u001b[37m\u001b[0m \u001b[1m0s\u001b[0m 70ms/step - accuracy: 0.5559 - loss: 0.7454 - val_accuracy: 0.4545 - val_loss: 0.9262 - learning_rate: 1.0000e-06\n",
      "Epoch 9/100\n",
      "\u001b[1m2/2\u001b[0m \u001b[32m━━━━━━━━━━━━━━━━━━━━\u001b[0m\u001b[37m\u001b[0m \u001b[1m0s\u001b[0m 67ms/step - accuracy: 0.4233 - loss: 0.7978 - val_accuracy: 0.4545 - val_loss: 0.8931 - learning_rate: 1.0000e-06\n",
      "Epoch 10/100\n",
      "\u001b[1m2/2\u001b[0m \u001b[32m━━━━━━━━━━━━━━━━━━━━\u001b[0m\u001b[37m\u001b[0m \u001b[1m0s\u001b[0m 64ms/step - accuracy: 0.4489 - loss: 0.8806 - val_accuracy: 0.4545 - val_loss: 0.8812 - learning_rate: 1.0000e-06\n",
      "Epoch 11/100\n",
      "\u001b[1m2/2\u001b[0m \u001b[32m━━━━━━━━━━━━━━━━━━━━\u001b[0m\u001b[37m\u001b[0m \u001b[1m0s\u001b[0m 67ms/step - accuracy: 0.6383 - loss: 0.6967 - val_accuracy: 0.4545 - val_loss: 0.8714 - learning_rate: 1.0000e-06\n",
      "Epoch 12/100\n",
      "\u001b[1m2/2\u001b[0m \u001b[32m━━━━━━━━━━━━━━━━━━━━\u001b[0m\u001b[37m\u001b[0m \u001b[1m0s\u001b[0m 65ms/step - accuracy: 0.4896 - loss: 0.7918 - val_accuracy: 0.4545 - val_loss: 0.8598 - learning_rate: 1.0000e-06\n",
      "Epoch 13/100\n",
      "\u001b[1m2/2\u001b[0m \u001b[32m━━━━━━━━━━━━━━━━━━━━\u001b[0m\u001b[37m\u001b[0m \u001b[1m0s\u001b[0m 65ms/step - accuracy: 0.3930 - loss: 0.8586 - val_accuracy: 0.4545 - val_loss: 0.8431 - learning_rate: 1.0000e-06\n",
      "Epoch 14/100\n",
      "\u001b[1m2/2\u001b[0m \u001b[32m━━━━━━━━━━━━━━━━━━━━\u001b[0m\u001b[37m\u001b[0m \u001b[1m0s\u001b[0m 64ms/step - accuracy: 0.4640 - loss: 0.7909 - val_accuracy: 0.4545 - val_loss: 0.8307 - learning_rate: 1.0000e-06\n",
      "Epoch 15/100\n",
      "\u001b[1m2/2\u001b[0m \u001b[32m━━━━━━━━━━━━━━━━━━━━\u001b[0m\u001b[37m\u001b[0m \u001b[1m0s\u001b[0m 63ms/step - accuracy: 0.6884 - loss: 0.6946 - val_accuracy: 0.4545 - val_loss: 0.8221 - learning_rate: 1.0000e-06\n",
      "Epoch 16/100\n",
      "\u001b[1m2/2\u001b[0m \u001b[32m━━━━━━━━━━━━━━━━━━━━\u001b[0m\u001b[37m\u001b[0m \u001b[1m0s\u001b[0m 234ms/step - accuracy: 0.4953 - loss: 0.8605 - val_accuracy: 0.4545 - val_loss: 0.8117 - learning_rate: 1.0000e-06\n",
      "Epoch 17/100\n",
      "\u001b[1m2/2\u001b[0m \u001b[32m━━━━━━━━━━━━━━━━━━━━\u001b[0m\u001b[37m\u001b[0m \u001b[1m0s\u001b[0m 66ms/step - accuracy: 0.5616 - loss: 0.7867 - val_accuracy: 0.4545 - val_loss: 0.8038 - learning_rate: 1.0000e-06\n",
      "Epoch 18/100\n",
      "\u001b[1m2/2\u001b[0m \u001b[32m━━━━━━━━━━━━━━━━━━━━\u001b[0m\u001b[37m\u001b[0m \u001b[1m0s\u001b[0m 67ms/step - accuracy: 0.5303 - loss: 0.7949 - val_accuracy: 0.4545 - val_loss: 0.8013 - learning_rate: 1.0000e-06\n",
      "Epoch 19/100\n",
      "\u001b[1m2/2\u001b[0m \u001b[32m━━━━━━━━━━━━━━━━━━━━\u001b[0m\u001b[37m\u001b[0m \u001b[1m0s\u001b[0m 65ms/step - accuracy: 0.5152 - loss: 0.7766 - val_accuracy: 0.4545 - val_loss: 0.7945 - learning_rate: 1.0000e-06\n",
      "Epoch 20/100\n",
      "\u001b[1m2/2\u001b[0m \u001b[32m━━━━━━━━━━━━━━━━━━━━\u001b[0m\u001b[37m\u001b[0m \u001b[1m0s\u001b[0m 63ms/step - accuracy: 0.4792 - loss: 0.7144 - val_accuracy: 0.4545 - val_loss: 0.7816 - learning_rate: 1.0000e-06\n",
      "Epoch 21/100\n",
      "\u001b[1m2/2\u001b[0m \u001b[32m━━━━━━━━━━━━━━━━━━━━\u001b[0m\u001b[37m\u001b[0m \u001b[1m0s\u001b[0m 66ms/step - accuracy: 0.5511 - loss: 0.7191 - val_accuracy: 0.4545 - val_loss: 0.7759 - learning_rate: 1.0000e-06\n",
      "Epoch 22/100\n",
      "\u001b[1m2/2\u001b[0m \u001b[32m━━━━━━━━━━━━━━━━━━━━\u001b[0m\u001b[37m\u001b[0m \u001b[1m0s\u001b[0m 63ms/step - accuracy: 0.4744 - loss: 0.7575 - val_accuracy: 0.4545 - val_loss: 0.7700 - learning_rate: 1.0000e-06\n",
      "Epoch 23/100\n",
      "\u001b[1m2/2\u001b[0m \u001b[32m━━━━━━━━━━━━━━━━━━━━\u001b[0m\u001b[37m\u001b[0m \u001b[1m0s\u001b[0m 66ms/step - accuracy: 0.6326 - loss: 0.7636 - val_accuracy: 0.4545 - val_loss: 0.7659 - learning_rate: 1.0000e-06\n",
      "Epoch 24/100\n",
      "\u001b[1m2/2\u001b[0m \u001b[32m━━━━━━━━━━━━━━━━━━━━\u001b[0m\u001b[37m\u001b[0m \u001b[1m0s\u001b[0m 66ms/step - accuracy: 0.5606 - loss: 0.6589 - val_accuracy: 0.3636 - val_loss: 0.7583 - learning_rate: 1.0000e-06\n",
      "Epoch 25/100\n",
      "\u001b[1m2/2\u001b[0m \u001b[32m━━━━━━━━━━━━━━━━━━━━\u001b[0m\u001b[37m\u001b[0m \u001b[1m0s\u001b[0m 62ms/step - accuracy: 0.3466 - loss: 0.8043 - val_accuracy: 0.3636 - val_loss: 0.7515 - learning_rate: 1.0000e-06\n",
      "Epoch 26/100\n",
      "\u001b[1m2/2\u001b[0m \u001b[32m━━━━━━━━━━━━━━━━━━━━\u001b[0m\u001b[37m\u001b[0m \u001b[1m0s\u001b[0m 69ms/step - accuracy: 0.5152 - loss: 0.7444 - val_accuracy: 0.3636 - val_loss: 0.7489 - learning_rate: 1.0000e-06\n",
      "Epoch 27/100\n",
      "\u001b[1m2/2\u001b[0m \u001b[32m━━━━━━━━━━━━━━━━━━━━\u001b[0m\u001b[37m\u001b[0m \u001b[1m0s\u001b[0m 79ms/step - accuracy: 0.5919 - loss: 0.7051 - val_accuracy: 0.3636 - val_loss: 0.7482 - learning_rate: 1.0000e-06\n",
      "Epoch 28/100\n",
      "\u001b[1m2/2\u001b[0m \u001b[32m━━━━━━━━━━━━━━━━━━━━\u001b[0m\u001b[37m\u001b[0m \u001b[1m0s\u001b[0m 63ms/step - accuracy: 0.6023 - loss: 0.7282 - val_accuracy: 0.3636 - val_loss: 0.7437 - learning_rate: 1.0000e-06\n",
      "Epoch 29/100\n",
      "\u001b[1m2/2\u001b[0m \u001b[32m━━━━━━━━━━━━━━━━━━━━\u001b[0m\u001b[37m\u001b[0m \u001b[1m0s\u001b[0m 65ms/step - accuracy: 0.5104 - loss: 0.8275 - val_accuracy: 0.3636 - val_loss: 0.7426 - learning_rate: 1.0000e-06\n",
      "Epoch 30/100\n",
      "\u001b[1m2/2\u001b[0m \u001b[32m━━━━━━━━━━━━━━━━━━━━\u001b[0m\u001b[37m\u001b[0m \u001b[1m0s\u001b[0m 67ms/step - accuracy: 0.6023 - loss: 0.7286 - val_accuracy: 0.3636 - val_loss: 0.7423 - learning_rate: 1.0000e-06\n",
      "Epoch 31/100\n",
      "\u001b[1m2/2\u001b[0m \u001b[32m━━━━━━━━━━━━━━━━━━━━\u001b[0m\u001b[37m\u001b[0m \u001b[1m0s\u001b[0m 190ms/step - accuracy: 0.4744 - loss: 0.7510 - val_accuracy: 0.3636 - val_loss: 0.7381 - learning_rate: 1.0000e-06\n",
      "Epoch 32/100\n",
      "\u001b[1m2/2\u001b[0m \u001b[32m━━━━━━━━━━━━━━━━━━━━\u001b[0m\u001b[37m\u001b[0m \u001b[1m0s\u001b[0m 74ms/step - accuracy: 0.5606 - loss: 0.6579 - val_accuracy: 0.3636 - val_loss: 0.7349 - learning_rate: 1.0000e-06\n",
      "Epoch 33/100\n",
      "\u001b[1m2/2\u001b[0m \u001b[32m━━━━━━━━━━━━━━━━━━━━\u001b[0m\u001b[37m\u001b[0m \u001b[1m0s\u001b[0m 64ms/step - accuracy: 0.4337 - loss: 0.8703 - val_accuracy: 0.3636 - val_loss: 0.7330 - learning_rate: 1.0000e-06\n",
      "Epoch 34/100\n",
      "\u001b[1m2/2\u001b[0m \u001b[32m━━━━━━━━━━━━━━━━━━━━\u001b[0m\u001b[37m\u001b[0m \u001b[1m0s\u001b[0m 63ms/step - accuracy: 0.4896 - loss: 0.7302 - val_accuracy: 0.3636 - val_loss: 0.7299 - learning_rate: 1.0000e-06\n",
      "Epoch 35/100\n",
      "\u001b[1m2/2\u001b[0m \u001b[32m━━━━━━━━━━━━━━━━━━━━\u001b[0m\u001b[37m\u001b[0m \u001b[1m0s\u001b[0m 65ms/step - accuracy: 0.6837 - loss: 0.5896 - val_accuracy: 0.3636 - val_loss: 0.7274 - learning_rate: 1.0000e-06\n",
      "Epoch 36/100\n",
      "\u001b[1m2/2\u001b[0m \u001b[32m━━━━━━━━━━━━━━━━━━━━\u001b[0m\u001b[37m\u001b[0m \u001b[1m0s\u001b[0m 64ms/step - accuracy: 0.5360 - loss: 0.7408 - val_accuracy: 0.4545 - val_loss: 0.7242 - learning_rate: 1.0000e-06\n",
      "Epoch 37/100\n",
      "\u001b[1m2/2\u001b[0m \u001b[32m━━━━━━━━━━━━━━━━━━━━\u001b[0m\u001b[37m\u001b[0m \u001b[1m0s\u001b[0m 63ms/step - accuracy: 0.4593 - loss: 0.9181 - val_accuracy: 0.4545 - val_loss: 0.7232 - learning_rate: 1.0000e-06\n",
      "Epoch 38/100\n",
      "\u001b[1m2/2\u001b[0m \u001b[32m━━━━━━━━━━━━━━━━━━━━\u001b[0m\u001b[37m\u001b[0m \u001b[1m0s\u001b[0m 64ms/step - accuracy: 0.5256 - loss: 0.7427 - val_accuracy: 0.5455 - val_loss: 0.7211 - learning_rate: 1.0000e-06\n",
      "Epoch 39/100\n",
      "\u001b[1m2/2\u001b[0m \u001b[32m━━━━━━━━━━━━━━━━━━━━\u001b[0m\u001b[37m\u001b[0m \u001b[1m0s\u001b[0m 63ms/step - accuracy: 0.4697 - loss: 0.7916 - val_accuracy: 0.5455 - val_loss: 0.7194 - learning_rate: 1.0000e-06\n",
      "Epoch 40/100\n",
      "\u001b[1m2/2\u001b[0m \u001b[32m━━━━━━━━━━━━━━━━━━━━\u001b[0m\u001b[37m\u001b[0m \u001b[1m0s\u001b[0m 65ms/step - accuracy: 0.5616 - loss: 0.7062 - val_accuracy: 0.5455 - val_loss: 0.7162 - learning_rate: 1.0000e-06\n",
      "Epoch 41/100\n",
      "\u001b[1m2/2\u001b[0m \u001b[32m━━━━━━━━━━━━━━━━━━━━\u001b[0m\u001b[37m\u001b[0m \u001b[1m0s\u001b[0m 64ms/step - accuracy: 0.5511 - loss: 0.7758 - val_accuracy: 0.5455 - val_loss: 0.7124 - learning_rate: 1.0000e-06\n",
      "Epoch 42/100\n",
      "\u001b[1m2/2\u001b[0m \u001b[32m━━━━━━━━━━━━━━━━━━━━\u001b[0m\u001b[37m\u001b[0m \u001b[1m0s\u001b[0m 66ms/step - accuracy: 0.6326 - loss: 0.7302 - val_accuracy: 0.5455 - val_loss: 0.7097 - learning_rate: 1.0000e-06\n",
      "Epoch 43/100\n",
      "\u001b[1m2/2\u001b[0m \u001b[32m━━━━━━━━━━━━━━━━━━━━\u001b[0m\u001b[37m\u001b[0m \u001b[1m0s\u001b[0m 64ms/step - accuracy: 0.5710 - loss: 0.6756 - val_accuracy: 0.5455 - val_loss: 0.7069 - learning_rate: 1.0000e-06\n",
      "Epoch 44/100\n",
      "\u001b[1m2/2\u001b[0m \u001b[32m━━━━━━━━━━━━━━━━━━━━\u001b[0m\u001b[37m\u001b[0m \u001b[1m0s\u001b[0m 66ms/step - accuracy: 0.5208 - loss: 0.8441 - val_accuracy: 0.5455 - val_loss: 0.7051 - learning_rate: 1.0000e-06\n",
      "Epoch 45/100\n",
      "\u001b[1m2/2\u001b[0m \u001b[32m━━━━━━━━━━━━━━━━━━━━\u001b[0m\u001b[37m\u001b[0m \u001b[1m0s\u001b[0m 68ms/step - accuracy: 0.4441 - loss: 0.7873 - val_accuracy: 0.5455 - val_loss: 0.7037 - learning_rate: 1.0000e-06\n",
      "Epoch 46/100\n",
      "\u001b[1m2/2\u001b[0m \u001b[32m━━━━━━━━━━━━━━━━━━━━\u001b[0m\u001b[37m\u001b[0m \u001b[1m0s\u001b[0m 162ms/step - accuracy: 0.4337 - loss: 0.8134 - val_accuracy: 0.5455 - val_loss: 0.7023 - learning_rate: 1.0000e-06\n",
      "Epoch 47/100\n",
      "\u001b[1m2/2\u001b[0m \u001b[32m━━━━━━━━━━━━━━━━━━━━\u001b[0m\u001b[37m\u001b[0m \u001b[1m0s\u001b[0m 79ms/step - accuracy: 0.5559 - loss: 0.7888 - val_accuracy: 0.5455 - val_loss: 0.7026 - learning_rate: 1.0000e-06\n",
      "Epoch 48/100\n",
      "\u001b[1m2/2\u001b[0m \u001b[32m━━━━━━━━━━━━━━━━━━━━\u001b[0m\u001b[37m\u001b[0m \u001b[1m0s\u001b[0m 63ms/step - accuracy: 0.5559 - loss: 0.7663 - val_accuracy: 0.5455 - val_loss: 0.7030 - learning_rate: 1.0000e-06\n",
      "Epoch 49/100\n",
      "\u001b[1m2/2\u001b[0m \u001b[32m━━━━━━━━━━━━━━━━━━━━\u001b[0m\u001b[37m\u001b[0m \u001b[1m0s\u001b[0m 63ms/step - accuracy: 0.5871 - loss: 0.7122 - val_accuracy: 0.6364 - val_loss: 0.7024 - learning_rate: 1.0000e-06\n",
      "Epoch 50/100\n",
      "\u001b[1m2/2\u001b[0m \u001b[32m━━━━━━━━━━━━━━━━━━━━\u001b[0m\u001b[37m\u001b[0m \u001b[1m0s\u001b[0m 63ms/step - accuracy: 0.6790 - loss: 0.6831 - val_accuracy: 0.6364 - val_loss: 0.7031 - learning_rate: 1.0000e-06\n",
      "Epoch 51/100\n",
      "\u001b[1m1/2\u001b[0m \u001b[32m━━━━━━━━━━\u001b[0m\u001b[37m━━━━━━━━━━\u001b[0m \u001b[1m0s\u001b[0m 27ms/step - accuracy: 0.5000 - loss: 0.7985\n",
      "Epoch 51: ReduceLROnPlateau reducing learning rate to 4.999999987376214e-07.\n",
      "\u001b[1m2/2\u001b[0m \u001b[32m━━━━━━━━━━━━━━━━━━━━\u001b[0m\u001b[37m\u001b[0m \u001b[1m0s\u001b[0m 64ms/step - accuracy: 0.5000 - loss: 0.7853 - val_accuracy: 0.7273 - val_loss: 0.7036 - learning_rate: 1.0000e-06\n"
     ]
    },
    {
     "data": {
      "text/plain": [
       "<keras.src.callbacks.history.History at 0x132065340>"
      ]
     },
     "execution_count": 22,
     "metadata": {},
     "output_type": "execute_result"
    }
   ],
   "source": [
    "model_limit.fit(X_limit_train, y_limit_train, validation_split=0.2, epochs=100, batch_size=32,\n",
    "                    callbacks=[\n",
    "                                EarlyStopping(monitor='val_loss',\n",
    "                                             patience=5,\n",
    "                                             restore_best_weights=True),\n",
    "                                ReduceLROnPlateau(\n",
    "                                  monitor='val_loss',\n",
    "                                  factor=0.5,\n",
    "                                  patience=5,\n",
    "                                  verbose=1)\n",
    "                               ]\n",
    "                    )"
   ]
  },
  {
   "cell_type": "markdown",
   "id": "5b94383c",
   "metadata": {},
   "source": [
    "### Predict"
   ]
  },
  {
   "cell_type": "code",
   "execution_count": 24,
   "id": "5d623615",
   "metadata": {},
   "outputs": [],
   "source": [
    "def tune_thresholds(y_true, y_pred_prob, metric='f1'):\n",
    "    y_true = np.asarray(y_true)          # Fix: convert to NumPy\n",
    "    y_pred_prob = np.asarray(y_pred_prob)\n",
    "\n",
    "    best_thresholds = []\n",
    "    best_scores = []\n",
    "\n",
    "    for i in range(y_true.shape[1]):\n",
    "        label_true = y_true[:, i]\n",
    "        label_probs = y_pred_prob[:, i]  # Fix here too\n",
    "\n",
    "        thresholds = np.linspace(0.0, 1.0, 101)\n",
    "        scores = []\n",
    "\n",
    "        for t in thresholds:\n",
    "            label_pred = (label_probs >= t).astype(int)\n",
    "            if metric == 'f1':\n",
    "                score = f1_score(label_true, label_pred, zero_division=0)\n",
    "            scores.append(score)\n",
    "\n",
    "        best_t = thresholds[np.argmax(scores)]\n",
    "        best_score = np.max(scores)\n",
    "\n",
    "        best_thresholds.append(best_t)\n",
    "        best_scores.append(best_score)\n",
    "\n",
    "        print(f\"Label {i}: Best threshold = {best_t:.2f}, Best {metric} = {best_score:.4f}\")\n",
    "\n",
    "    return best_thresholds, best_scores\n"
   ]
  },
  {
   "cell_type": "code",
   "execution_count": null,
   "id": "d65c51e9",
   "metadata": {},
   "outputs": [],
   "source": [
    "y_mint_test_prob = model_mint.predict(X_mint_test)"
   ]
  },
  {
   "cell_type": "code",
   "execution_count": 25,
   "id": "45e44c06",
   "metadata": {},
   "outputs": [
    {
     "name": "stdout",
     "output_type": "stream",
     "text": [
      "Label 0: Best threshold = 0.56, Best f1 = 0.6667\n"
     ]
    }
   ],
   "source": [
    "best_thresholds, _ = tune_thresholds(y_mint_test, y_mint_test_prob)"
   ]
  },
  {
   "cell_type": "code",
   "execution_count": 27,
   "id": "9b0dfa53",
   "metadata": {},
   "outputs": [
    {
     "name": "stdout",
     "output_type": "stream",
     "text": [
      "\u001b[1m1/1\u001b[0m \u001b[32m━━━━━━━━━━━━━━━━━━━━\u001b[0m\u001b[37m\u001b[0m \u001b[1m0s\u001b[0m 64ms/step\n"
     ]
    }
   ],
   "source": [
    "y_mint_pred = (model_mint.predict(X_mint_test) >= best_thresholds).astype(int)"
   ]
  },
  {
   "cell_type": "code",
   "execution_count": 28,
   "id": "8dc312cf",
   "metadata": {},
   "outputs": [
    {
     "name": "stdout",
     "output_type": "stream",
     "text": [
      "              precision    recall  f1-score   support\n",
      "\n",
      "           0       1.00      0.25      0.40         8\n",
      "           1       0.50      1.00      0.67         6\n",
      "\n",
      "    accuracy                           0.57        14\n",
      "   macro avg       0.75      0.62      0.53        14\n",
      "weighted avg       0.79      0.57      0.51        14\n",
      "\n"
     ]
    }
   ],
   "source": [
    "print(classification_report(y_mint_test, y_mint_pred))"
   ]
  },
  {
   "cell_type": "code",
   "execution_count": 29,
   "id": "21dfae4c",
   "metadata": {},
   "outputs": [
    {
     "name": "stdout",
     "output_type": "stream",
     "text": [
      "\u001b[1m1/1\u001b[0m \u001b[32m━━━━━━━━━━━━━━━━━━━━\u001b[0m\u001b[37m\u001b[0m \u001b[1m0s\u001b[0m 247ms/step\n"
     ]
    }
   ],
   "source": [
    "y_leak_test_prob = model_leak.predict(X_leak_test)"
   ]
  },
  {
   "cell_type": "code",
   "execution_count": 30,
   "id": "237a25c6",
   "metadata": {},
   "outputs": [
    {
     "name": "stdout",
     "output_type": "stream",
     "text": [
      "Label 0: Best threshold = 0.63, Best f1 = 0.8000\n"
     ]
    }
   ],
   "source": [
    "best_thresholds, _ = tune_thresholds(y_leak_test, y_leak_test_prob)"
   ]
  },
  {
   "cell_type": "code",
   "execution_count": 40,
   "id": "b285b6ec",
   "metadata": {},
   "outputs": [
    {
     "name": "stdout",
     "output_type": "stream",
     "text": [
      "\u001b[1m1/1\u001b[0m \u001b[32m━━━━━━━━━━━━━━━━━━━━\u001b[0m\u001b[37m\u001b[0m \u001b[1m0s\u001b[0m 51ms/step\n"
     ]
    }
   ],
   "source": [
    "y_leak_pred = (model_leak.predict(X_leak_test) >= best_thresholds).astype(int)"
   ]
  },
  {
   "cell_type": "code",
   "execution_count": 33,
   "id": "744e87c0",
   "metadata": {},
   "outputs": [
    {
     "name": "stdout",
     "output_type": "stream",
     "text": [
      "              precision    recall  f1-score   support\n",
      "\n",
      "           0       0.92      1.00      0.96        11\n",
      "           1       1.00      0.67      0.80         3\n",
      "\n",
      "    accuracy                           0.93        14\n",
      "   macro avg       0.96      0.83      0.88        14\n",
      "weighted avg       0.93      0.93      0.92        14\n",
      "\n"
     ]
    }
   ],
   "source": [
    "print(classification_report(y_leak_test, y_leak_pred))"
   ]
  },
  {
   "cell_type": "code",
   "execution_count": 35,
   "id": "77e16557",
   "metadata": {},
   "outputs": [
    {
     "name": "stdout",
     "output_type": "stream",
     "text": [
      "\u001b[1m1/1\u001b[0m \u001b[32m━━━━━━━━━━━━━━━━━━━━\u001b[0m\u001b[37m\u001b[0m \u001b[1m0s\u001b[0m 107ms/step\n"
     ]
    }
   ],
   "source": [
    "y_limit_test_prob = model_limit.predict(X_limit_test)"
   ]
  },
  {
   "cell_type": "code",
   "execution_count": 36,
   "id": "e952bc63",
   "metadata": {},
   "outputs": [
    {
     "name": "stdout",
     "output_type": "stream",
     "text": [
      "Label 0: Best threshold = 0.00, Best f1 = 0.7826\n"
     ]
    }
   ],
   "source": [
    "best_thresholds, _ = tune_thresholds(y_limit_test, y_limit_test_prob)"
   ]
  },
  {
   "cell_type": "code",
   "execution_count": 41,
   "id": "604639d5",
   "metadata": {},
   "outputs": [
    {
     "name": "stdout",
     "output_type": "stream",
     "text": [
      "\u001b[1m1/1\u001b[0m \u001b[32m━━━━━━━━━━━━━━━━━━━━\u001b[0m\u001b[37m\u001b[0m \u001b[1m0s\u001b[0m 55ms/step"
     ]
    },
    {
     "name": "stdout",
     "output_type": "stream",
     "text": [
      "\u001b[1m1/1\u001b[0m \u001b[32m━━━━━━━━━━━━━━━━━━━━\u001b[0m\u001b[37m\u001b[0m \u001b[1m0s\u001b[0m 117ms/step\n"
     ]
    }
   ],
   "source": [
    "y_limit_pred = (model_leak.predict(X_limit_test) >= best_thresholds).astype(int)"
   ]
  },
  {
   "cell_type": "code",
   "execution_count": 42,
   "id": "232d2d98",
   "metadata": {},
   "outputs": [
    {
     "name": "stdout",
     "output_type": "stream",
     "text": [
      "              precision    recall  f1-score   support\n",
      "\n",
      "           0       0.00      0.00      0.00         5\n",
      "           1       0.64      1.00      0.78         9\n",
      "\n",
      "    accuracy                           0.64        14\n",
      "   macro avg       0.32      0.50      0.39        14\n",
      "weighted avg       0.41      0.64      0.50        14\n",
      "\n"
     ]
    }
   ],
   "source": [
    "print(classification_report(y_limit_test, y_limit_pred))"
   ]
  },
  {
   "cell_type": "markdown",
   "id": "4f562f09",
   "metadata": {},
   "source": [
    "## Autoencoder + MPL"
   ]
  },
  {
   "cell_type": "code",
   "execution_count": null,
   "id": "a0e26d96",
   "metadata": {},
   "outputs": [],
   "source": [
    "def Autoencoder(input_dim=256):\n",
    "    model = Sequential([\n",
    "        Input(shape=(input_dim,)),\n",
    "        Dense(128),\n",
    "        LeakyReLU(0.01),\n",
    "\n",
    "        Dense(32),\n",
    "        BatchNormalization(),\n",
    "        LeakyReLU(0.01),\n",
    "\n",
    "        Dense(128),\n",
    "        BatchNormalization(),\n",
    "        LeakyReLU(0.01),\n",
    "\n",
    "        Dense(input_dim, activation='sigmoid')  # sigmoid for multi-label\n",
    "    ])\n",
    "\n",
    "    model.compile(optimizer=Adam(1e-6), loss=MeanSquaredError())\n",
    "    return model\n"
   ]
  },
  {
   "cell_type": "code",
   "execution_count": null,
   "id": "e4241992",
   "metadata": {},
   "outputs": [
    {
     "name": "stdout",
     "output_type": "stream",
     "text": [
      "Epoch 1/50\n"
     ]
    },
    {
     "name": "stdout",
     "output_type": "stream",
     "text": [
      "\u001b[1m2/2\u001b[0m \u001b[32m━━━━━━━━━━━━━━━━━━━━\u001b[0m\u001b[37m\u001b[0m \u001b[1m2s\u001b[0m 216ms/step - loss: 35189.4922 - val_loss: 49067.8516\n",
      "Epoch 2/50\n",
      "\u001b[1m2/2\u001b[0m \u001b[32m━━━━━━━━━━━━━━━━━━━━\u001b[0m\u001b[37m\u001b[0m \u001b[1m0s\u001b[0m 71ms/step - loss: 41764.2930 - val_loss: 49067.8594\n",
      "Epoch 3/50\n",
      "\u001b[1m2/2\u001b[0m \u001b[32m━━━━━━━━━━━━━━━━━━━━\u001b[0m\u001b[37m\u001b[0m \u001b[1m0s\u001b[0m 63ms/step - loss: 36552.1211 - val_loss: 49067.7539\n",
      "Epoch 4/50\n",
      "\u001b[1m2/2\u001b[0m \u001b[32m━━━━━━━━━━━━━━━━━━━━\u001b[0m\u001b[37m\u001b[0m \u001b[1m0s\u001b[0m 65ms/step - loss: 40998.1914 - val_loss: 49067.7461\n",
      "Epoch 5/50\n",
      "\u001b[1m2/2\u001b[0m \u001b[32m━━━━━━━━━━━━━━━━━━━━\u001b[0m\u001b[37m\u001b[0m \u001b[1m0s\u001b[0m 64ms/step - loss: 41568.9531 - val_loss: 49067.6094\n",
      "Epoch 6/50\n",
      "\u001b[1m2/2\u001b[0m \u001b[32m━━━━━━━━━━━━━━━━━━━━\u001b[0m\u001b[37m\u001b[0m \u001b[1m0s\u001b[0m 63ms/step - loss: 40366.3789 - val_loss: 49067.4492\n",
      "Epoch 7/50\n",
      "\u001b[1m2/2\u001b[0m \u001b[32m━━━━━━━━━━━━━━━━━━━━\u001b[0m\u001b[37m\u001b[0m \u001b[1m0s\u001b[0m 64ms/step - loss: 37556.9297 - val_loss: 49067.2148\n",
      "Epoch 8/50\n",
      "\u001b[1m2/2\u001b[0m \u001b[32m━━━━━━━━━━━━━━━━━━━━\u001b[0m\u001b[37m\u001b[0m \u001b[1m0s\u001b[0m 63ms/step - loss: 40511.5273 - val_loss: 49067.0586\n",
      "Epoch 9/50\n",
      "\u001b[1m2/2\u001b[0m \u001b[32m━━━━━━━━━━━━━━━━━━━━\u001b[0m\u001b[37m\u001b[0m \u001b[1m0s\u001b[0m 101ms/step - loss: 39580.8164 - val_loss: 49066.8984\n",
      "Epoch 10/50\n",
      "\u001b[1m2/2\u001b[0m \u001b[32m━━━━━━━━━━━━━━━━━━━━\u001b[0m\u001b[37m\u001b[0m \u001b[1m0s\u001b[0m 94ms/step - loss: 42243.5195 - val_loss: 49066.7500\n",
      "Epoch 11/50\n",
      "\u001b[1m2/2\u001b[0m \u001b[32m━━━━━━━━━━━━━━━━━━━━\u001b[0m\u001b[37m\u001b[0m \u001b[1m0s\u001b[0m 65ms/step - loss: 41977.8086 - val_loss: 49066.6133\n",
      "Epoch 12/50\n",
      "\u001b[1m2/2\u001b[0m \u001b[32m━━━━━━━━━━━━━━━━━━━━\u001b[0m\u001b[37m\u001b[0m \u001b[1m0s\u001b[0m 66ms/step - loss: 40422.3398 - val_loss: 49066.4648\n",
      "Epoch 13/50\n",
      "\u001b[1m2/2\u001b[0m \u001b[32m━━━━━━━━━━━━━━━━━━━━\u001b[0m\u001b[37m\u001b[0m \u001b[1m0s\u001b[0m 167ms/step - loss: 39244.8711 - val_loss: 49066.3125\n",
      "Epoch 14/50\n",
      "\u001b[1m2/2\u001b[0m \u001b[32m━━━━━━━━━━━━━━━━━━━━\u001b[0m\u001b[37m\u001b[0m \u001b[1m0s\u001b[0m 83ms/step - loss: 41702.4805 - val_loss: 49066.1836\n",
      "Epoch 15/50\n",
      "\u001b[1m2/2\u001b[0m \u001b[32m━━━━━━━━━━━━━━━━━━━━\u001b[0m\u001b[37m\u001b[0m \u001b[1m0s\u001b[0m 87ms/step - loss: 38611.1133 - val_loss: 49065.9648\n",
      "Epoch 16/50\n",
      "\u001b[1m2/2\u001b[0m \u001b[32m━━━━━━━━━━━━━━━━━━━━\u001b[0m\u001b[37m\u001b[0m \u001b[1m0s\u001b[0m 68ms/step - loss: 39968.2695 - val_loss: 49065.8086\n",
      "Epoch 17/50\n",
      "\u001b[1m2/2\u001b[0m \u001b[32m━━━━━━━━━━━━━━━━━━━━\u001b[0m\u001b[37m\u001b[0m \u001b[1m0s\u001b[0m 66ms/step - loss: 38845.6406 - val_loss: 49065.6016\n",
      "Epoch 18/50\n",
      "\u001b[1m2/2\u001b[0m \u001b[32m━━━━━━━━━━━━━━━━━━━━\u001b[0m\u001b[37m\u001b[0m \u001b[1m0s\u001b[0m 313ms/step - loss: 41282.4180 - val_loss: 49065.4766\n",
      "Epoch 19/50\n",
      "\u001b[1m2/2\u001b[0m \u001b[32m━━━━━━━━━━━━━━━━━━━━\u001b[0m\u001b[37m\u001b[0m \u001b[1m0s\u001b[0m 68ms/step - loss: 39974.7930 - val_loss: 49065.3477\n",
      "Epoch 20/50\n",
      "\u001b[1m2/2\u001b[0m \u001b[32m━━━━━━━━━━━━━━━━━━━━\u001b[0m\u001b[37m\u001b[0m \u001b[1m0s\u001b[0m 72ms/step - loss: 39512.5352 - val_loss: 49065.2148\n",
      "Epoch 21/50\n",
      "\u001b[1m2/2\u001b[0m \u001b[32m━━━━━━━━━━━━━━━━━━━━\u001b[0m\u001b[37m\u001b[0m \u001b[1m0s\u001b[0m 63ms/step - loss: 36494.9570 - val_loss: 49065.0391\n",
      "Epoch 22/50\n",
      "\u001b[1m2/2\u001b[0m \u001b[32m━━━━━━━━━━━━━━━━━━━━\u001b[0m\u001b[37m\u001b[0m \u001b[1m0s\u001b[0m 136ms/step - loss: 35672.3242 - val_loss: 49064.8594\n",
      "Epoch 23/50\n",
      "\u001b[1m2/2\u001b[0m \u001b[32m━━━━━━━━━━━━━━━━━━━━\u001b[0m\u001b[37m\u001b[0m \u001b[1m0s\u001b[0m 67ms/step - loss: 40419.9141 - val_loss: 49064.7383\n",
      "Epoch 24/50\n",
      "\u001b[1m2/2\u001b[0m \u001b[32m━━━━━━━━━━━━━━━━━━━━\u001b[0m\u001b[37m\u001b[0m \u001b[1m0s\u001b[0m 64ms/step - loss: 36074.3047 - val_loss: 49064.5781\n",
      "Epoch 25/50\n",
      "\u001b[1m2/2\u001b[0m \u001b[32m━━━━━━━━━━━━━━━━━━━━\u001b[0m\u001b[37m\u001b[0m \u001b[1m0s\u001b[0m 206ms/step - loss: 42021.3633 - val_loss: 49064.4883\n",
      "Epoch 26/50\n",
      "\u001b[1m2/2\u001b[0m \u001b[32m━━━━━━━━━━━━━━━━━━━━\u001b[0m\u001b[37m\u001b[0m \u001b[1m0s\u001b[0m 67ms/step - loss: 39719.2852 - val_loss: 49064.3906\n",
      "Epoch 27/50\n",
      "\u001b[1m2/2\u001b[0m \u001b[32m━━━━━━━━━━━━━━━━━━━━\u001b[0m\u001b[37m\u001b[0m \u001b[1m0s\u001b[0m 64ms/step - loss: 36433.7383 - val_loss: 49064.2461\n",
      "Epoch 28/50\n",
      "\u001b[1m2/2\u001b[0m \u001b[32m━━━━━━━━━━━━━━━━━━━━\u001b[0m\u001b[37m\u001b[0m \u001b[1m0s\u001b[0m 67ms/step - loss: 40998.7695 - val_loss: 49064.1523\n",
      "Epoch 29/50\n",
      "\u001b[1m2/2\u001b[0m \u001b[32m━━━━━━━━━━━━━━━━━━━━\u001b[0m\u001b[37m\u001b[0m \u001b[1m0s\u001b[0m 270ms/step - loss: 38380.9180 - val_loss: 49064.0625\n",
      "Epoch 30/50\n",
      "\u001b[1m2/2\u001b[0m \u001b[32m━━━━━━━━━━━━━━━━━━━━\u001b[0m\u001b[37m\u001b[0m \u001b[1m0s\u001b[0m 69ms/step - loss: 41178.9727 - val_loss: 49063.9883\n",
      "Epoch 31/50\n",
      "\u001b[1m2/2\u001b[0m \u001b[32m━━━━━━━━━━━━━━━━━━━━\u001b[0m\u001b[37m\u001b[0m \u001b[1m0s\u001b[0m 67ms/step - loss: 41748.6094 - val_loss: 49063.9219\n",
      "Epoch 32/50\n",
      "\u001b[1m2/2\u001b[0m \u001b[32m━━━━━━━━━━━━━━━━━━━━\u001b[0m\u001b[37m\u001b[0m \u001b[1m0s\u001b[0m 225ms/step - loss: 40076.5703 - val_loss: 49063.8477\n",
      "Epoch 33/50\n",
      "\u001b[1m2/2\u001b[0m \u001b[32m━━━━━━━━━━━━━━━━━━━━\u001b[0m\u001b[37m\u001b[0m \u001b[1m0s\u001b[0m 79ms/step - loss: 40436.0234 - val_loss: 49063.7734\n",
      "Epoch 34/50\n",
      "\u001b[1m2/2\u001b[0m \u001b[32m━━━━━━━━━━━━━━━━━━━━\u001b[0m\u001b[37m\u001b[0m \u001b[1m0s\u001b[0m 65ms/step - loss: 37381.5117 - val_loss: 49063.6602\n",
      "Epoch 35/50\n",
      "\u001b[1m2/2\u001b[0m \u001b[32m━━━━━━━━━━━━━━━━━━━━\u001b[0m\u001b[37m\u001b[0m \u001b[1m1s\u001b[0m 269ms/step - loss: 38091.3398 - val_loss: 49063.5469\n",
      "Epoch 36/50\n",
      "\u001b[1m2/2\u001b[0m \u001b[32m━━━━━━━━━━━━━━━━━━━━\u001b[0m\u001b[37m\u001b[0m \u001b[1m0s\u001b[0m 74ms/step - loss: 38046.1172 - val_loss: 49063.4414\n",
      "Epoch 37/50\n",
      "\u001b[1m2/2\u001b[0m \u001b[32m━━━━━━━━━━━━━━━━━━━━\u001b[0m\u001b[37m\u001b[0m \u001b[1m0s\u001b[0m 65ms/step - loss: 38692.0273 - val_loss: 49063.3477\n",
      "Epoch 38/50\n",
      "\u001b[1m2/2\u001b[0m \u001b[32m━━━━━━━━━━━━━━━━━━━━\u001b[0m\u001b[37m\u001b[0m \u001b[1m0s\u001b[0m 63ms/step - loss: 40757.0391 - val_loss: 49063.2852\n",
      "Epoch 39/50\n",
      "\u001b[1m2/2\u001b[0m \u001b[32m━━━━━━━━━━━━━━━━━━━━\u001b[0m\u001b[37m\u001b[0m \u001b[1m0s\u001b[0m 229ms/step - loss: 39828.1875 - val_loss: 49063.2266\n",
      "Epoch 40/50\n",
      "\u001b[1m2/2\u001b[0m \u001b[32m━━━━━━━━━━━━━━━━━━━━\u001b[0m\u001b[37m\u001b[0m \u001b[1m0s\u001b[0m 82ms/step - loss: 37735.3711 - val_loss: 49063.1289\n",
      "Epoch 41/50\n",
      "\u001b[1m2/2\u001b[0m \u001b[32m━━━━━━━━━━━━━━━━━━━━\u001b[0m\u001b[37m\u001b[0m \u001b[1m0s\u001b[0m 64ms/step - loss: 40412.8789 - val_loss: 49063.0664\n",
      "Epoch 42/50\n",
      "\u001b[1m2/2\u001b[0m \u001b[32m━━━━━━━━━━━━━━━━━━━━\u001b[0m\u001b[37m\u001b[0m \u001b[1m0s\u001b[0m 88ms/step - loss: 37848.5781 - val_loss: 49062.9766\n",
      "Epoch 43/50\n",
      "\u001b[1m2/2\u001b[0m \u001b[32m━━━━━━━━━━━━━━━━━━━━\u001b[0m\u001b[37m\u001b[0m \u001b[1m0s\u001b[0m 298ms/step - loss: 43210.1562 - val_loss: 49062.9414\n",
      "Epoch 44/50\n",
      "\u001b[1m2/2\u001b[0m \u001b[32m━━━━━━━━━━━━━━━━━━━━\u001b[0m\u001b[37m\u001b[0m \u001b[1m0s\u001b[0m 70ms/step - loss: 40355.3984 - val_loss: 49062.8867\n",
      "Epoch 45/50\n",
      "\u001b[1m2/2\u001b[0m \u001b[32m━━━━━━━━━━━━━━━━━━━━\u001b[0m\u001b[37m\u001b[0m \u001b[1m0s\u001b[0m 67ms/step - loss: 40355.7148 - val_loss: 49062.8281\n",
      "Epoch 46/50\n",
      "\u001b[1m2/2\u001b[0m \u001b[32m━━━━━━━━━━━━━━━━━━━━\u001b[0m\u001b[37m\u001b[0m \u001b[1m0s\u001b[0m 211ms/step - loss: 40308.1055 - val_loss: 49062.7773\n",
      "Epoch 47/50\n",
      "\u001b[1m2/2\u001b[0m \u001b[32m━━━━━━━━━━━━━━━━━━━━\u001b[0m\u001b[37m\u001b[0m \u001b[1m0s\u001b[0m 81ms/step - loss: 42591.4961 - val_loss: 49062.7383\n",
      "Epoch 48/50\n",
      "\u001b[1m2/2\u001b[0m \u001b[32m━━━━━━━━━━━━━━━━━━━━\u001b[0m\u001b[37m\u001b[0m \u001b[1m0s\u001b[0m 64ms/step - loss: 42157.3828 - val_loss: 49062.6992\n",
      "Epoch 49/50\n",
      "\u001b[1m2/2\u001b[0m \u001b[32m━━━━━━━━━━━━━━━━━━━━\u001b[0m\u001b[37m\u001b[0m \u001b[1m0s\u001b[0m 65ms/step - loss: 37456.1016 - val_loss: 49062.6094\n",
      "Epoch 50/50\n",
      "\u001b[1m2/2\u001b[0m \u001b[32m━━━━━━━━━━━━━━━━━━━━\u001b[0m\u001b[37m\u001b[0m \u001b[1m0s\u001b[0m 244ms/step - loss: 38170.1133 - val_loss: 49062.5273\n"
     ]
    },
    {
     "data": {
      "text/plain": [
       "<keras.src.callbacks.history.History at 0x13b3e2960>"
      ]
     },
     "execution_count": 27,
     "metadata": {},
     "output_type": "execute_result"
    }
   ],
   "source": [
    "autoencoder = Autoencoder(input_dim=X.shape[1])\n",
    "autoencoder.fit(X_mint_train, X_mint_train, epochs=50, batch_size=32, validation_split=0.2)"
   ]
  },
  {
   "cell_type": "code",
   "execution_count": null,
   "id": "8e09b2cc",
   "metadata": {},
   "outputs": [
    {
     "name": "stdout",
     "output_type": "stream",
     "text": [
      "\u001b[1m2/2\u001b[0m \u001b[32m━━━━━━━━━━━━━━━━━━━━\u001b[0m\u001b[37m\u001b[0m \u001b[1m0s\u001b[0m 224ms/step\n",
      "\u001b[1m1/1\u001b[0m \u001b[32m━━━━━━━━━━━━━━━━━━━━\u001b[0m\u001b[37m\u001b[0m \u001b[1m0s\u001b[0m 41ms/step\n"
     ]
    }
   ],
   "source": [
    "X_train_encoded = autoencoder.predict(X_mint_train)\n",
    "X_test_encoded = autoencoder.predict(X_mint_test)"
   ]
  },
  {
   "cell_type": "code",
   "execution_count": null,
   "id": "4f2f4ede",
   "metadata": {},
   "outputs": [],
   "source": [
    "model = Model(input_dim=X_train_encoded.shape[1], output_dim=1)"
   ]
  },
  {
   "cell_type": "code",
   "execution_count": null,
   "id": "c5d51f36",
   "metadata": {},
   "outputs": [
    {
     "name": "stdout",
     "output_type": "stream",
     "text": [
      "Epoch 1/100\n"
     ]
    },
    {
     "name": "stdout",
     "output_type": "stream",
     "text": [
      "\u001b[1m2/2\u001b[0m \u001b[32m━━━━━━━━━━━━━━━━━━━━\u001b[0m\u001b[37m\u001b[0m \u001b[1m3s\u001b[0m 302ms/step - accuracy: 0.4233 - loss: 0.8169 - val_accuracy: 0.8182 - val_loss: 0.6685 - learning_rate: 1.0000e-06\n",
      "Epoch 2/100\n",
      "\u001b[1m2/2\u001b[0m \u001b[32m━━━━━━━━━━━━━━━━━━━━\u001b[0m\u001b[37m\u001b[0m \u001b[1m0s\u001b[0m 69ms/step - accuracy: 0.3722 - loss: 0.9518 - val_accuracy: 0.8182 - val_loss: 0.6696 - learning_rate: 1.0000e-06\n",
      "Epoch 3/100\n",
      "\u001b[1m2/2\u001b[0m \u001b[32m━━━━━━━━━━━━━━━━━━━━\u001b[0m\u001b[37m\u001b[0m \u001b[1m0s\u001b[0m 68ms/step - accuracy: 0.2756 - loss: 1.0514 - val_accuracy: 0.8182 - val_loss: 0.6710 - learning_rate: 1.0000e-06\n",
      "Epoch 4/100\n",
      "\u001b[1m2/2\u001b[0m \u001b[32m━━━━━━━━━━━━━━━━━━━━\u001b[0m\u001b[37m\u001b[0m \u001b[1m0s\u001b[0m 196ms/step - accuracy: 0.3873 - loss: 0.8408 - val_accuracy: 0.8182 - val_loss: 0.6737 - learning_rate: 1.0000e-06\n",
      "Epoch 5/100\n",
      "\u001b[1m2/2\u001b[0m \u001b[32m━━━━━━━━━━━━━━━━━━━━\u001b[0m\u001b[37m\u001b[0m \u001b[1m0s\u001b[0m 83ms/step - accuracy: 0.3930 - loss: 0.9032 - val_accuracy: 0.8182 - val_loss: 0.6756 - learning_rate: 1.0000e-06\n",
      "Epoch 6/100\n",
      "\u001b[1m1/2\u001b[0m \u001b[32m━━━━━━━━━━\u001b[0m\u001b[37m━━━━━━━━━━\u001b[0m \u001b[1m0s\u001b[0m 38ms/step - accuracy: 0.5000 - loss: 0.7962\n",
      "Epoch 6: ReduceLROnPlateau reducing learning rate to 4.999999987376214e-07.\n",
      "\u001b[1m2/2\u001b[0m \u001b[32m━━━━━━━━━━━━━━━━━━━━\u001b[0m\u001b[37m\u001b[0m \u001b[1m0s\u001b[0m 72ms/step - accuracy: 0.4697 - loss: 0.8104 - val_accuracy: 0.8182 - val_loss: 0.6778 - learning_rate: 1.0000e-06\n"
     ]
    },
    {
     "data": {
      "text/plain": [
       "<keras.src.callbacks.history.History at 0x13bd6a2d0>"
      ]
     },
     "execution_count": 30,
     "metadata": {},
     "output_type": "execute_result"
    }
   ],
   "source": [
    "model.fit(X_train_encoded, y_mint_train, validation_split=0.2, epochs=100, batch_size=32,\n",
    "                    callbacks=[\n",
    "                                EarlyStopping(monitor='val_loss',\n",
    "                                             patience=5,\n",
    "                                             restore_best_weights=True),\n",
    "                                ReduceLROnPlateau(\n",
    "                                  monitor='val_loss',\n",
    "                                  factor=0.5,\n",
    "                                  patience=5,\n",
    "                                  verbose=1)\n",
    "                               ]\n",
    "                    )"
   ]
  },
  {
   "cell_type": "code",
   "execution_count": null,
   "id": "1190a35f",
   "metadata": {},
   "outputs": [
    {
     "name": "stdout",
     "output_type": "stream",
     "text": [
      "\u001b[1m1/1\u001b[0m \u001b[32m━━━━━━━━━━━━━━━━━━━━\u001b[0m\u001b[37m\u001b[0m \u001b[1m0s\u001b[0m 163ms/step\n"
     ]
    }
   ],
   "source": [
    "y_pred_prob = model.predict(X_test_encoded)"
   ]
  },
  {
   "cell_type": "code",
   "execution_count": null,
   "id": "9d81a854",
   "metadata": {},
   "outputs": [
    {
     "name": "stdout",
     "output_type": "stream",
     "text": [
      "Label 0: Best threshold = 0.00, Best f1 = 0.6000\n"
     ]
    }
   ],
   "source": [
    "best_thresholds, _ = tune_thresholds(y_mint_test, y_pred_prob)"
   ]
  },
  {
   "cell_type": "code",
   "execution_count": null,
   "id": "3f2ba424",
   "metadata": {},
   "outputs": [
    {
     "name": "stdout",
     "output_type": "stream",
     "text": [
      "\u001b[1m1/1\u001b[0m \u001b[32m━━━━━━━━━━━━━━━━━━━━\u001b[0m\u001b[37m\u001b[0m \u001b[1m0s\u001b[0m 55ms/step\n"
     ]
    }
   ],
   "source": [
    "y_pred = (model.predict(X_test) >= best_thresholds).astype(int)"
   ]
  },
  {
   "cell_type": "markdown",
   "id": "491bc629",
   "metadata": {},
   "source": [
    "### Report"
   ]
  },
  {
   "cell_type": "code",
   "execution_count": null,
   "id": "5368b575",
   "metadata": {},
   "outputs": [
    {
     "name": "stdout",
     "output_type": "stream",
     "text": [
      "              precision    recall  f1-score   support\n",
      "\n",
      "           0       0.00      0.00      0.00         8\n",
      "           1       0.43      1.00      0.60         6\n",
      "\n",
      "    accuracy                           0.43        14\n",
      "   macro avg       0.21      0.50      0.30        14\n",
      "weighted avg       0.18      0.43      0.26        14\n",
      "\n"
     ]
    }
   ],
   "source": [
    "print(classification_report(y_mint_test, y_pred))"
   ]
  },
  {
   "cell_type": "code",
   "execution_count": null,
   "id": "647898b8",
   "metadata": {},
   "outputs": [],
   "source": []
  }
 ],
 "metadata": {
  "kernelspec": {
   "display_name": "ml-algo",
   "language": "python",
   "name": "python3"
  },
  "language_info": {
   "codemirror_mode": {
    "name": "ipython",
    "version": 3
   },
   "file_extension": ".py",
   "mimetype": "text/x-python",
   "name": "python",
   "nbconvert_exporter": "python",
   "pygments_lexer": "ipython3",
   "version": "3.12.7"
  }
 },
 "nbformat": 4,
 "nbformat_minor": 5
}
