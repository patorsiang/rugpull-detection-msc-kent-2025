{
 "cells": [
  {
   "cell_type": "markdown",
   "id": "b780a8f5",
   "metadata": {},
   "source": [
    "# Limit "
   ]
  },
  {
   "cell_type": "markdown",
   "id": "f5f72b91",
   "metadata": {},
   "source": [
    "## Set Up"
   ]
  },
  {
   "cell_type": "code",
   "execution_count": 1,
   "id": "6cfdfacc",
   "metadata": {},
   "outputs": [],
   "source": [
    "import warnings\n",
    "warnings.filterwarnings(\"ignore\")"
   ]
  },
  {
   "cell_type": "code",
   "execution_count": null,
   "id": "ae0cc90e",
   "metadata": {},
   "outputs": [],
   "source": [
    "import os\n",
    "import re\n",
    "import json\n",
    "import pickle\n",
    "import pandas as pd\n",
    "from pathlib import Path\n",
    "\n",
    "from sklearn.metrics import classification_report, confusion_matrix, ConfusionMatrixDisplay\n",
    "import matplotlib.pyplot as plt\n",
    "\n",
    "import sys\n",
    "# Add the workspace root to sys.path so 'scripts' can be imported\n",
    "sys.path.append(str(Path.cwd().parents[3]))\n",
    "\n",
    "from scripts.feature_extractions.gigahorse import get_n_gram_from_gigahorse_assessment\n"
   ]
  },
  {
   "cell_type": "code",
   "execution_count": 3,
   "id": "40ee5a42",
   "metadata": {},
   "outputs": [],
   "source": [
    "PATH = Path.cwd().parents[3]\n",
    "MODEL_PATH = os.path.join(PATH, 'models/baseline')\n",
    "DATA_PATH = os.path.join(PATH, 'data')\n",
    "EX_PATH = os.path.join(DATA_PATH, 'external/crpwarner/large')\n",
    "HEX_PATH = os.path.join(EX_PATH, 'hex')"
   ]
  },
  {
   "cell_type": "markdown",
   "id": "0455fbaa",
   "metadata": {},
   "source": [
    "## Load and Prepare Data"
   ]
  },
  {
   "cell_type": "code",
   "execution_count": 4,
   "id": "9869d8a1",
   "metadata": {},
   "outputs": [
    {
     "data": {
      "application/vnd.microsoft.datawrangler.viewer.v0+json": {
       "columns": [
        {
         "name": "Address",
         "rawType": "object",
         "type": "string"
        },
        {
         "name": "TP?",
         "rawType": "object",
         "type": "string"
        }
       ],
       "ref": "ea3c5145-8afa-4052-acbe-c58bc4b7fb22",
       "rows": [
        [
         "0xe5f3c6d2b47cbe2cf936b9521466bac2422ebef8",
         "Yes"
        ],
        [
         "0xa623b5a542c0d7daadef321042a04c600b03a8cb",
         "Yes"
        ],
        [
         "0xe412189da2dfa188a1a61633114b8732bbbfba19",
         "Yes"
        ],
        [
         "0x9fcf7acdc11fd904c4b73a009909c7f00efc4844",
         "Yes"
        ],
        [
         "0x921a5dce3dfed5cccfbb2e593f2978533bc66110",
         "Yes"
        ]
       ],
       "shape": {
        "columns": 1,
        "rows": 5
       }
      },
      "text/html": [
       "<div>\n",
       "<style scoped>\n",
       "    .dataframe tbody tr th:only-of-type {\n",
       "        vertical-align: middle;\n",
       "    }\n",
       "\n",
       "    .dataframe tbody tr th {\n",
       "        vertical-align: top;\n",
       "    }\n",
       "\n",
       "    .dataframe thead th {\n",
       "        text-align: right;\n",
       "    }\n",
       "</style>\n",
       "<table border=\"1\" class=\"dataframe\">\n",
       "  <thead>\n",
       "    <tr style=\"text-align: right;\">\n",
       "      <th></th>\n",
       "      <th>TP?</th>\n",
       "    </tr>\n",
       "    <tr>\n",
       "      <th>Address</th>\n",
       "      <th></th>\n",
       "    </tr>\n",
       "  </thead>\n",
       "  <tbody>\n",
       "    <tr>\n",
       "      <th>0xe5f3c6d2b47cbe2cf936b9521466bac2422ebef8</th>\n",
       "      <td>Yes</td>\n",
       "    </tr>\n",
       "    <tr>\n",
       "      <th>0xa623b5a542c0d7daadef321042a04c600b03a8cb</th>\n",
       "      <td>Yes</td>\n",
       "    </tr>\n",
       "    <tr>\n",
       "      <th>0xe412189da2dfa188a1a61633114b8732bbbfba19</th>\n",
       "      <td>Yes</td>\n",
       "    </tr>\n",
       "    <tr>\n",
       "      <th>0x9fcf7acdc11fd904c4b73a009909c7f00efc4844</th>\n",
       "      <td>Yes</td>\n",
       "    </tr>\n",
       "    <tr>\n",
       "      <th>0x921a5dce3dfed5cccfbb2e593f2978533bc66110</th>\n",
       "      <td>Yes</td>\n",
       "    </tr>\n",
       "  </tbody>\n",
       "</table>\n",
       "</div>"
      ],
      "text/plain": [
       "                                            TP?\n",
       "Address                                        \n",
       "0xe5f3c6d2b47cbe2cf936b9521466bac2422ebef8  Yes\n",
       "0xa623b5a542c0d7daadef321042a04c600b03a8cb  Yes\n",
       "0xe412189da2dfa188a1a61633114b8732bbbfba19  Yes\n",
       "0x9fcf7acdc11fd904c4b73a009909c7f00efc4844  Yes\n",
       "0x921a5dce3dfed5cccfbb2e593f2978533bc66110  Yes"
      ]
     },
     "execution_count": 4,
     "metadata": {},
     "output_type": "execute_result"
    }
   ],
   "source": [
    "df = pd.read_excel(os.path.join(EX_PATH, 'sample/limit.xlsx'))\n",
    "df['Address'] = df['Address'].str.lower()\n",
    "df = df.set_index('Address')\n",
    "df.head()"
   ]
  },
  {
   "cell_type": "code",
   "execution_count": 5,
   "id": "aeb6dddf",
   "metadata": {},
   "outputs": [
    {
     "data": {
      "application/vnd.microsoft.datawrangler.viewer.v0+json": {
       "columns": [
        {
         "name": "index",
         "rawType": "object",
         "type": "string"
        },
        {
         "name": "0",
         "rawType": "int64",
         "type": "integer"
        }
       ],
       "ref": "ee6b0b1d-9fbf-43c2-b313-38de6f2a2446",
       "rows": [
        [
         "TP?",
         "0"
        ]
       ],
       "shape": {
        "columns": 1,
        "rows": 1
       }
      },
      "text/plain": [
       "TP?    0\n",
       "dtype: int64"
      ]
     },
     "execution_count": 5,
     "metadata": {},
     "output_type": "execute_result"
    }
   ],
   "source": [
    "df.isna().sum()"
   ]
  },
  {
   "cell_type": "code",
   "execution_count": null,
   "id": "625e3dea",
   "metadata": {},
   "outputs": [
    {
     "name": "stdout",
     "output_type": "stream",
     "text": [
      "[*] Creating container...\n",
      "[*] Starting analysis...\n"
     ]
    },
    {
     "name": "stderr",
     "output_type": "stream",
     "text": [
      "Compiling /opt/RugPull/gigahorse/logic/main.dl to C++ program and executable\n",
      "Compiling /opt/RugPull/gigahorse/clientlib/function_inliner.dl to C++ program and executable\n",
      "Compiling /opt/RugPull/gigahorse/logic/fallback_scalable.dl to C++ program and executable\n",
      "Compiling /opt/RugPull/gigahorse/logic/fallback_precise.dl to C++ program and executable\n",
      "Warning: Variable index only occurs once in uses_defs_abstractions.dl:310:76\n",
      "Warning: No rules/facts defined for relation revertCloner.Prev_Block_OriginalBlock in statement_insertor.dl:246:9\n",
      "Warning: No rules/facts defined for relation revertCloner.Prev_Block_OriginalBlock in statement_insertor.dl:246:9\n",
      "Warning: No rules/facts defined for relation revertCloner.Prev_Block_OriginalBlock in statement_insertor.dl:246:9\n",
      "Processing contract names.\n",
      "Setting up workers.\n",
      "Analysing...\n",
      "\n",
      "Using scalable fallback decompilation configuration for 0x1f4a9567c1f98a8c9d7f026827f099b41a2e54d6.hex\n",
      "0: 0x1f4a9567c1f98a8c9d7f026827f099b41a completed in 0.02 + 0.44 + 0.43 + 0.00 secs.\n",
      "\n",
      "Finished 1 contracts...\n",
      "\n",
      "\n",
      "\n",
      "--------------------------------------------------------------------------------\n",
      "Analytics\n",
      "--------------------------------------------------------------------------------\n",
      "\n",
      "\n",
      "\n",
      "Writing results to results.json\n"
     ]
    },
    {
     "name": "stdout",
     "output_type": "stream",
     "text": [
      "Hidden Mint Function:  False\n",
      "Leaking Token:  False\n",
      "Limiting Sell Order:  False\n",
      "[*] Copying results.json...\n",
      "[*] Copying all .facts files...\n",
      "[+] results.json saved to: /Users/napatcholthaipanich/Dev/master/dissertation/workspace/ml/data/external/crpwarner/large/out/0x1f4a9567c1f98a8c9d7f026827f099b41a2e54d6.result.json\n",
      "[✓] 0x1f4a9567c1f98a8c9d7f026827f099b41a2e54d6 completed\n",
      "[*] Creating container...\n",
      "[*] Starting analysis...\n"
     ]
    },
    {
     "name": "stderr",
     "output_type": "stream",
     "text": [
      "Compiling /opt/RugPull/gigahorse/logic/fallback_scalable.dl to C++ program and executable\n",
      "Compiling /opt/RugPull/gigahorse/logic/main.dl to C++ program and executable\n",
      "Compiling /opt/RugPull/gigahorse/clientlib/function_inliner.dl to C++ program and executable\n",
      "Compiling /opt/RugPull/gigahorse/logic/fallback_precise.dl to C++ program and executable\n",
      "Warning: Variable index only occurs once in uses_defs_abstractions.dl:310:76\n",
      "Warning: No rules/facts defined for relation revertCloner.Prev_Block_OriginalBlock in statement_insertor.dl:246:9\n",
      "Warning: No rules/facts defined for relation revertCloner.Prev_Block_OriginalBlock in statement_insertor.dl:246:9\n",
      "Warning: No rules/facts defined for relation revertCloner.Prev_Block_OriginalBlock in statement_insertor.dl:246:9\n",
      "Processing contract names.\n",
      "Setting up workers.\n",
      "Analysing...\n",
      "\n",
      "Using scalable fallback decompilation configuration for 0x76bc9e61a1904b82cbf70d1fd9c0f8a120483bbb.hex\n",
      "0: 0x76bc9e61a1904b82cbf70d1fd9c0f8a120 completed in 0.02 + 0.85 + 0.74 + 0.00 secs.\n",
      "\n",
      "Finished 1 contracts...\n",
      "\n",
      "\n",
      "\n",
      "--------------------------------------------------------------------------------\n",
      "Analytics\n",
      "--------------------------------------------------------------------------------\n",
      "\n",
      "\n",
      "\n",
      "Writing results to results.json\n"
     ]
    },
    {
     "name": "stdout",
     "output_type": "stream",
     "text": [
      "Hidden Mint Function:  False\n",
      "Leaking Token:  False\n",
      "Limiting Sell Order:  False\n",
      "[*] Copying results.json...\n",
      "[*] Copying all .facts files...\n",
      "[+] results.json saved to: /Users/napatcholthaipanich/Dev/master/dissertation/workspace/ml/data/external/crpwarner/large/out/0x76bc9e61a1904b82cbf70d1fd9c0f8a120483bbb.result.json\n",
      "[✓] 0x76bc9e61a1904b82cbf70d1fd9c0f8a120483bbb completed\n",
      "[*] Creating container...\n",
      "[*] Starting analysis...\n"
     ]
    },
    {
     "name": "stderr",
     "output_type": "stream",
     "text": [
      "Compiling /opt/RugPull/gigahorse/logic/main.dl to C++ program and executable\n",
      "Compiling /opt/RugPull/gigahorse/logic/fallback_scalable.dl to C++ program and executable\n",
      "Compiling /opt/RugPull/gigahorse/clientlib/function_inliner.dl to C++ program and executable\n",
      "Compiling /opt/RugPull/gigahorse/logic/fallback_precise.dl to C++ program and executable\n",
      "Warning: Variable index only occurs once in uses_defs_abstractions.dl:310:76\n",
      "Warning: No rules/facts defined for relation revertCloner.Prev_Block_OriginalBlock in statement_insertor.dl:246:9\n",
      "Warning: No rules/facts defined for relation revertCloner.Prev_Block_OriginalBlock in statement_insertor.dl:246:9\n",
      "Warning: No rules/facts defined for relation revertCloner.Prev_Block_OriginalBlock in statement_insertor.dl:246:9\n",
      "Processing contract names.\n",
      "Setting up workers.\n",
      "Analysing...\n",
      "\n",
      "Using scalable fallback decompilation configuration for 0xa5d77efbc45d574b689d7f1202cf817e23febb97.hex\n",
      "0: 0xa5d77efbc45d574b689d7f1202cf817e23 completed in 0.02 + 0.39 + 0.44 + 0.00 secs.\n",
      "\n",
      "Finished 1 contracts...\n",
      "\n",
      "\n",
      "\n",
      "--------------------------------------------------------------------------------\n",
      "Analytics\n",
      "--------------------------------------------------------------------------------\n",
      "\n",
      "\n",
      "\n",
      "Writing results to results.json\n"
     ]
    },
    {
     "name": "stdout",
     "output_type": "stream",
     "text": [
      "Hidden Mint Function:  False\n",
      "Leaking Token:  False\n",
      "Limiting Sell Order:  False\n",
      "[*] Copying results.json...\n",
      "[*] Copying all .facts files...\n",
      "[+] results.json saved to: /Users/napatcholthaipanich/Dev/master/dissertation/workspace/ml/data/external/crpwarner/large/out/0xa5d77efbc45d574b689d7f1202cf817e23febb97.result.json\n",
      "[✓] 0xa5d77efbc45d574b689d7f1202cf817e23febb97 completed\n",
      "[*] Creating container...\n",
      "[*] Starting analysis...\n"
     ]
    },
    {
     "name": "stderr",
     "output_type": "stream",
     "text": [
      "Compiling /opt/RugPull/gigahorse/logic/fallback_scalable.dl to C++ program and executable\n",
      "Compiling /opt/RugPull/gigahorse/logic/main.dl to C++ program and executable\n",
      "Compiling /opt/RugPull/gigahorse/logic/fallback_precise.dl to C++ program and executable\n",
      "Compiling /opt/RugPull/gigahorse/clientlib/function_inliner.dl to C++ program and executable\n",
      "Warning: Variable index only occurs once in uses_defs_abstractions.dl:310:76\n",
      "Warning: No rules/facts defined for relation revertCloner.Prev_Block_OriginalBlock in statement_insertor.dl:246:9\n",
      "Warning: No rules/facts defined for relation revertCloner.Prev_Block_OriginalBlock in statement_insertor.dl:246:9\n",
      "Warning: No rules/facts defined for relation revertCloner.Prev_Block_OriginalBlock in statement_insertor.dl:246:9\n",
      "Processing contract names.\n",
      "Setting up workers.\n",
      "Analysing...\n",
      "\n",
      "Using scalable fallback decompilation configuration for 0xb08fc1db58ef5e15a6f97d8f63b2bb4a14b9df37.hex\n",
      "0: 0xb08fc1db58ef5e15a6f97d8f63b2bb4a14 completed in 0.01 + 0.19 + 0.27 + 0.00 secs.\n",
      "\n",
      "Finished 1 contracts...\n",
      "\n",
      "\n",
      "\n",
      "--------------------------------------------------------------------------------\n",
      "Analytics\n",
      "--------------------------------------------------------------------------------\n",
      "\n",
      "\n",
      "\n",
      "Writing results to results.json\n"
     ]
    },
    {
     "name": "stdout",
     "output_type": "stream",
     "text": [
      "Hidden Mint Function:  False\n",
      "Leaking Token:  False\n",
      "Limiting Sell Order:  False\n",
      "[*] Copying results.json...\n",
      "[*] Copying all .facts files...\n",
      "[+] results.json saved to: /Users/napatcholthaipanich/Dev/master/dissertation/workspace/ml/data/external/crpwarner/large/out/0xb08fc1db58ef5e15a6f97d8f63b2bb4a14b9df37.result.json\n",
      "[✓] 0xb08fc1db58ef5e15a6f97d8f63b2bb4a14b9df37 completed\n",
      "[*] Creating container...\n",
      "[*] Starting analysis...\n"
     ]
    },
    {
     "name": "stderr",
     "output_type": "stream",
     "text": [
      "Compiling /opt/RugPull/gigahorse/logic/fallback_scalable.dl to C++ program and executable\n",
      "Compiling /opt/RugPull/gigahorse/logic/main.dl to C++ program and executable\n",
      "Compiling /opt/RugPull/gigahorse/clientlib/function_inliner.dl to C++ program and executable\n",
      "Compiling /opt/RugPull/gigahorse/logic/fallback_precise.dl to C++ program and executable\n",
      "Warning: Variable index only occurs once in uses_defs_abstractions.dl:310:76\n",
      "Warning: No rules/facts defined for relation revertCloner.Prev_Block_OriginalBlock in statement_insertor.dl:246:9\n",
      "Warning: No rules/facts defined for relation revertCloner.Prev_Block_OriginalBlock in statement_insertor.dl:246:9\n",
      "Warning: No rules/facts defined for relation revertCloner.Prev_Block_OriginalBlock in statement_insertor.dl:246:9\n",
      "Processing contract names.\n",
      "Setting up workers.\n",
      "Analysing...\n",
      "\n",
      "Using scalable fallback decompilation configuration for 0x40165bd6d657b63cb6f8f4a3525ac05bbf74bd93.hex\n",
      "0: 0x40165bd6d657b63cb6f8f4a3525ac05bbf completed in 0.02 + 0.65 + 0.93 + 0.00 secs.\n",
      "\n",
      "Finished 1 contracts...\n",
      "\n",
      "\n",
      "\n",
      "--------------------------------------------------------------------------------\n",
      "Analytics\n",
      "--------------------------------------------------------------------------------\n",
      "\n",
      "\n",
      "\n",
      "Writing results to results.json\n"
     ]
    },
    {
     "name": "stdout",
     "output_type": "stream",
     "text": [
      "Hidden Mint Function:  False\n",
      "Leaking Token:  False\n",
      "Limiting Sell Order:  False\n",
      "[*] Copying results.json...\n",
      "[*] Copying all .facts files...\n",
      "[+] results.json saved to: /Users/napatcholthaipanich/Dev/master/dissertation/workspace/ml/data/external/crpwarner/large/out/0x40165bd6d657b63cb6f8f4a3525ac05bbf74bd93.result.json\n",
      "[✓] 0x40165bd6d657b63cb6f8f4a3525ac05bbf74bd93 completed\n",
      "[*] Creating container...\n",
      "[*] Starting analysis...\n"
     ]
    },
    {
     "name": "stderr",
     "output_type": "stream",
     "text": [
      "Compiling /opt/RugPull/gigahorse/logic/main.dl to C++ program and executable\n",
      "Compiling /opt/RugPull/gigahorse/logic/fallback_scalable.dl to C++ program and executable\n",
      "Compiling /opt/RugPull/gigahorse/clientlib/function_inliner.dl to C++ program and executable\n",
      "Compiling /opt/RugPull/gigahorse/logic/fallback_precise.dl to C++ program and executable\n",
      "Warning: Variable index only occurs once in uses_defs_abstractions.dl:310:76\n",
      "Warning: No rules/facts defined for relation revertCloner.Prev_Block_OriginalBlock in statement_insertor.dl:246:9\n",
      "Warning: No rules/facts defined for relation revertCloner.Prev_Block_OriginalBlock in statement_insertor.dl:246:9\n",
      "Warning: No rules/facts defined for relation revertCloner.Prev_Block_OriginalBlock in statement_insertor.dl:246:9\n",
      "Processing contract names.\n",
      "Setting up workers.\n",
      "Analysing...\n",
      "\n",
      "Using scalable fallback decompilation configuration for 0x3f1db2c3e98232971ec8ccfea8be865228763fef.hex\n",
      "0: 0x3f1db2c3e98232971ec8ccfea8be865228 completed in 0.01 + 0.50 + 0.43 + 0.00 secs.\n",
      "\n",
      "Finished 1 contracts...\n",
      "\n",
      "\n",
      "\n",
      "--------------------------------------------------------------------------------\n",
      "Analytics\n",
      "--------------------------------------------------------------------------------\n",
      "\n",
      "\n",
      "\n",
      "Writing results to results.json\n"
     ]
    },
    {
     "name": "stdout",
     "output_type": "stream",
     "text": [
      "Hidden Mint Function:  False\n",
      "Leaking Token:  False\n",
      "Limiting Sell Order:  False\n",
      "[*] Copying results.json...\n",
      "[*] Copying all .facts files...\n",
      "[+] results.json saved to: /Users/napatcholthaipanich/Dev/master/dissertation/workspace/ml/data/external/crpwarner/large/out/0x3f1db2c3e98232971ec8ccfea8be865228763fef.result.json\n",
      "[✓] 0x3f1db2c3e98232971ec8ccfea8be865228763fef completed\n",
      "[*] Creating container...\n",
      "[*] Starting analysis...\n"
     ]
    },
    {
     "name": "stderr",
     "output_type": "stream",
     "text": [
      "Compiling /opt/RugPull/gigahorse/logic/main.dl to C++ program and executable\n",
      "Compiling /opt/RugPull/gigahorse/clientlib/function_inliner.dl to C++ program and executable\n",
      "Compiling /opt/RugPull/gigahorse/logic/fallback_scalable.dl to C++ program and executable\n",
      "Compiling /opt/RugPull/gigahorse/logic/fallback_precise.dl to C++ program and executable\n",
      "Warning: Variable index only occurs once in uses_defs_abstractions.dl:310:76\n",
      "Warning: No rules/facts defined for relation revertCloner.Prev_Block_OriginalBlock in statement_insertor.dl:246:9\n",
      "Warning: No rules/facts defined for relation revertCloner.Prev_Block_OriginalBlock in statement_insertor.dl:246:9\n",
      "Warning: No rules/facts defined for relation revertCloner.Prev_Block_OriginalBlock in statement_insertor.dl:246:9\n",
      "Processing contract names.\n",
      "Setting up workers.\n",
      "Analysing...\n",
      "\n",
      "Using scalable fallback decompilation configuration for 0x1a93f35557700cdeab1205673126fea1a5fcd814.hex\n",
      "0: 0x1a93f35557700cdeab1205673126fea1a5 completed in 0.03 + 0.75 + 0.75 + 0.00 secs.\n",
      "\n",
      "Finished 1 contracts...\n",
      "\n",
      "\n",
      "\n",
      "--------------------------------------------------------------------------------\n",
      "Analytics\n",
      "--------------------------------------------------------------------------------\n",
      "\n",
      "\n",
      "\n",
      "Writing results to results.json\n"
     ]
    },
    {
     "name": "stdout",
     "output_type": "stream",
     "text": [
      "Hidden Mint Function:  False\n",
      "Leaking Token:  False\n",
      "Limiting Sell Order:  False\n",
      "[*] Copying results.json...\n",
      "[*] Copying all .facts files...\n",
      "[+] results.json saved to: /Users/napatcholthaipanich/Dev/master/dissertation/workspace/ml/data/external/crpwarner/large/out/0x1a93f35557700cdeab1205673126fea1a5fcd814.result.json\n",
      "[✓] 0x1a93f35557700cdeab1205673126fea1a5fcd814 completed\n",
      "[*] Creating container...\n",
      "[*] Starting analysis...\n"
     ]
    },
    {
     "name": "stderr",
     "output_type": "stream",
     "text": [
      "Compiling /opt/RugPull/gigahorse/logic/main.dl to C++ program and executable\n",
      "Compiling /opt/RugPull/gigahorse/logic/fallback_scalable.dl to C++ program and executable\n",
      "Compiling /opt/RugPull/gigahorse/clientlib/function_inliner.dl to C++ program and executable\n",
      "Compiling /opt/RugPull/gigahorse/logic/fallback_precise.dl to C++ program and executable\n",
      "Warning: Variable index only occurs once in uses_defs_abstractions.dl:310:76\n",
      "Warning: No rules/facts defined for relation revertCloner.Prev_Block_OriginalBlock in statement_insertor.dl:246:9\n",
      "Warning: No rules/facts defined for relation revertCloner.Prev_Block_OriginalBlock in statement_insertor.dl:246:9\n",
      "Warning: No rules/facts defined for relation revertCloner.Prev_Block_OriginalBlock in statement_insertor.dl:246:9\n",
      "context canceled\n"
     ]
    },
    {
     "ename": "KeyboardInterrupt",
     "evalue": "",
     "output_type": "error",
     "traceback": [
      "\u001b[0;31m---------------------------------------------------------------------------\u001b[0m",
      "\u001b[0;31mKeyboardInterrupt\u001b[0m                         Traceback (most recent call last)",
      "Cell \u001b[0;32mIn [6], line 17\u001b[0m\n\u001b[1;32m     13\u001b[0m             tp_value \u001b[38;5;241m=\u001b[39m tp_value\u001b[38;5;241m.\u001b[39miloc[\u001b[38;5;241m0\u001b[39m]\n\u001b[1;32m     14\u001b[0m         y\u001b[38;5;241m.\u001b[39mappend(\u001b[38;5;241m1\u001b[39m \u001b[38;5;28;01mif\u001b[39;00m tp_value \u001b[38;5;241m==\u001b[39m \u001b[38;5;124m'\u001b[39m\u001b[38;5;124mYes\u001b[39m\u001b[38;5;124m'\u001b[39m \u001b[38;5;28;01melse\u001b[39;00m \u001b[38;5;241m0\u001b[39m)\n\u001b[0;32m---> 17\u001b[0m \u001b[43mget_n_gram_from_gigahorse_assessment\u001b[49m\u001b[43m(\u001b[49m\u001b[43mEX_PATH\u001b[49m\u001b[43m,\u001b[49m\u001b[43m \u001b[49m\u001b[43maddresses\u001b[49m\u001b[43m,\u001b[49m\u001b[43m \u001b[49m\u001b[43mfiles\u001b[49m\u001b[43m)\u001b[49m\n",
      "File \u001b[0;32m~/Dev/master/dissertation/workspace/ml/scripts/feature_extractions/gigahorse.py:61\u001b[0m, in \u001b[0;36mget_n_gram_from_gigahorse_assessment\u001b[0;34m(project_path, addresses, files)\u001b[0m\n\u001b[1;32m     58\u001b[0m     \u001b[38;5;28mprint\u001b[39m(\u001b[38;5;124mf\u001b[39m\u001b[38;5;124m\"\u001b[39m\u001b[38;5;124m[✗] \u001b[39m\u001b[38;5;132;01m{\u001b[39;00maddress\u001b[38;5;132;01m}\u001b[39;00m\u001b[38;5;124m failed\u001b[39m\u001b[38;5;124m\"\u001b[39m)\n\u001b[1;32m     59\u001b[0m \u001b[38;5;66;03m# finally:\u001b[39;00m\n\u001b[1;32m     60\u001b[0m \u001b[38;5;66;03m#     subprocess.run([\"docker\", \"rm\", container_id], stdout=subprocess.DEVNULL)\u001b[39;00m\n\u001b[0;32m---> 61\u001b[0m \u001b[38;5;28;01mreturn\u001b[39;00m \u001b[38;5;241m0\u001b[39m\n",
      "File \u001b[0;32m~/Dev/master/dissertation/workspace/ml/scripts/feature_extractions/gigahorse.py:22\u001b[0m, in \u001b[0;36massess_hex_file\u001b[0;34m(host_path, address, filename)\u001b[0m\n\u001b[1;32m     17\u001b[0m \u001b[38;5;28;01mtry\u001b[39;00m:\n\u001b[1;32m     18\u001b[0m     \u001b[38;5;66;03m# 1. Create a temporary container\u001b[39;00m\n\u001b[1;32m     19\u001b[0m     \u001b[38;5;28mprint\u001b[39m(\u001b[38;5;124m\"\u001b[39m\u001b[38;5;124m[*] Creating container...\u001b[39m\u001b[38;5;124m\"\u001b[39m)\n\u001b[1;32m     20\u001b[0m     container_id \u001b[38;5;241m=\u001b[39m subprocess\u001b[38;5;241m.\u001b[39mcheck_output([\n\u001b[1;32m     21\u001b[0m         \u001b[38;5;124m\"\u001b[39m\u001b[38;5;124mdocker\u001b[39m\u001b[38;5;124m\"\u001b[39m, \u001b[38;5;124m\"\u001b[39m\u001b[38;5;124mcreate\u001b[39m\u001b[38;5;124m\"\u001b[39m, \u001b[38;5;124m\"\u001b[39m\u001b[38;5;124m-v\u001b[39m\u001b[38;5;124m\"\u001b[39m, \u001b[38;5;124mf\u001b[39m\u001b[38;5;124m\"\u001b[39m\u001b[38;5;132;01m{\u001b[39;00mhost_path\u001b[38;5;132;01m}\u001b[39;00m\u001b[38;5;124m:\u001b[39m\u001b[38;5;132;01m{\u001b[39;00mcontainer_path\u001b[38;5;132;01m}\u001b[39;00m\u001b[38;5;124m\"\u001b[39m,\n\u001b[0;32m---> 22\u001b[0m         \u001b[38;5;124m\"\u001b[39m\u001b[38;5;124mgigahorse\u001b[39m\u001b[38;5;124m\"\u001b[39m, container_hex\n\u001b[1;32m     23\u001b[0m     ])\u001b[38;5;241m.\u001b[39mdecode()\u001b[38;5;241m.\u001b[39mstrip()\n\u001b[1;32m     25\u001b[0m     \u001b[38;5;28mprint\u001b[39m(\u001b[38;5;124m\"\u001b[39m\u001b[38;5;124m[*] Starting analysis...\u001b[39m\u001b[38;5;124m\"\u001b[39m)\n\u001b[1;32m     26\u001b[0m     subprocess\u001b[38;5;241m.\u001b[39mrun([\u001b[38;5;124m\"\u001b[39m\u001b[38;5;124mdocker\u001b[39m\u001b[38;5;124m\"\u001b[39m, \u001b[38;5;124m\"\u001b[39m\u001b[38;5;124mstart\u001b[39m\u001b[38;5;124m\"\u001b[39m, \u001b[38;5;124m\"\u001b[39m\u001b[38;5;124m-a\u001b[39m\u001b[38;5;124m\"\u001b[39m, container_id], check\u001b[38;5;241m=\u001b[39m\u001b[38;5;28;01mTrue\u001b[39;00m)\n",
      "File \u001b[0;32m/usr/local/anaconda3/envs/ml-algo/lib/python3.12/subprocess.py:550\u001b[0m, in \u001b[0;36mrun\u001b[0;34m(input, capture_output, timeout, check, *popenargs, **kwargs)\u001b[0m\n\u001b[1;32m    548\u001b[0m \u001b[38;5;28;01mwith\u001b[39;00m Popen(\u001b[38;5;241m*\u001b[39mpopenargs, \u001b[38;5;241m*\u001b[39m\u001b[38;5;241m*\u001b[39mkwargs) \u001b[38;5;28;01mas\u001b[39;00m process:\n\u001b[1;32m    549\u001b[0m     \u001b[38;5;28;01mtry\u001b[39;00m:\n\u001b[0;32m--> 550\u001b[0m         stdout, stderr \u001b[38;5;241m=\u001b[39m \u001b[43mprocess\u001b[49m\u001b[38;5;241;43m.\u001b[39;49m\u001b[43mcommunicate\u001b[49m\u001b[43m(\u001b[49m\u001b[38;5;28;43minput\u001b[39;49m\u001b[43m,\u001b[49m\u001b[43m \u001b[49m\u001b[43mtimeout\u001b[49m\u001b[38;5;241;43m=\u001b[39;49m\u001b[43mtimeout\u001b[49m\u001b[43m)\u001b[49m\n\u001b[1;32m    551\u001b[0m     \u001b[38;5;28;01mexcept\u001b[39;00m TimeoutExpired \u001b[38;5;28;01mas\u001b[39;00m exc:\n\u001b[1;32m    552\u001b[0m         process\u001b[38;5;241m.\u001b[39mkill()\n",
      "File \u001b[0;32m/usr/local/anaconda3/envs/ml-algo/lib/python3.12/subprocess.py:1201\u001b[0m, in \u001b[0;36mPopen.communicate\u001b[0;34m(self, input, timeout)\u001b[0m\n\u001b[1;32m   1199\u001b[0m         stderr \u001b[38;5;241m=\u001b[39m \u001b[38;5;28mself\u001b[39m\u001b[38;5;241m.\u001b[39mstderr\u001b[38;5;241m.\u001b[39mread()\n\u001b[1;32m   1200\u001b[0m         \u001b[38;5;28mself\u001b[39m\u001b[38;5;241m.\u001b[39mstderr\u001b[38;5;241m.\u001b[39mclose()\n\u001b[0;32m-> 1201\u001b[0m     \u001b[38;5;28;43mself\u001b[39;49m\u001b[38;5;241;43m.\u001b[39;49m\u001b[43mwait\u001b[49m\u001b[43m(\u001b[49m\u001b[43m)\u001b[49m\n\u001b[1;32m   1202\u001b[0m \u001b[38;5;28;01melse\u001b[39;00m:\n\u001b[1;32m   1203\u001b[0m     \u001b[38;5;28;01mif\u001b[39;00m timeout \u001b[38;5;129;01mis\u001b[39;00m \u001b[38;5;129;01mnot\u001b[39;00m \u001b[38;5;28;01mNone\u001b[39;00m:\n",
      "File \u001b[0;32m/usr/local/anaconda3/envs/ml-algo/lib/python3.12/subprocess.py:1264\u001b[0m, in \u001b[0;36mPopen.wait\u001b[0;34m(self, timeout)\u001b[0m\n\u001b[1;32m   1262\u001b[0m     endtime \u001b[38;5;241m=\u001b[39m _time() \u001b[38;5;241m+\u001b[39m timeout\n\u001b[1;32m   1263\u001b[0m \u001b[38;5;28;01mtry\u001b[39;00m:\n\u001b[0;32m-> 1264\u001b[0m     \u001b[38;5;28;01mreturn\u001b[39;00m \u001b[38;5;28;43mself\u001b[39;49m\u001b[38;5;241;43m.\u001b[39;49m\u001b[43m_wait\u001b[49m\u001b[43m(\u001b[49m\u001b[43mtimeout\u001b[49m\u001b[38;5;241;43m=\u001b[39;49m\u001b[43mtimeout\u001b[49m\u001b[43m)\u001b[49m\n\u001b[1;32m   1265\u001b[0m \u001b[38;5;28;01mexcept\u001b[39;00m \u001b[38;5;167;01mKeyboardInterrupt\u001b[39;00m:\n\u001b[1;32m   1266\u001b[0m     \u001b[38;5;66;03m# https://bugs.python.org/issue25942\u001b[39;00m\n\u001b[1;32m   1267\u001b[0m     \u001b[38;5;66;03m# The first keyboard interrupt waits briefly for the child to\u001b[39;00m\n\u001b[1;32m   1268\u001b[0m     \u001b[38;5;66;03m# exit under the common assumption that it also received the ^C\u001b[39;00m\n\u001b[1;32m   1269\u001b[0m     \u001b[38;5;66;03m# generated SIGINT and will exit rapidly.\u001b[39;00m\n\u001b[1;32m   1270\u001b[0m     \u001b[38;5;28;01mif\u001b[39;00m timeout \u001b[38;5;129;01mis\u001b[39;00m \u001b[38;5;129;01mnot\u001b[39;00m \u001b[38;5;28;01mNone\u001b[39;00m:\n",
      "File \u001b[0;32m/usr/local/anaconda3/envs/ml-algo/lib/python3.12/subprocess.py:2053\u001b[0m, in \u001b[0;36mPopen._wait\u001b[0;34m(self, timeout)\u001b[0m\n\u001b[1;32m   2051\u001b[0m \u001b[38;5;28;01mif\u001b[39;00m \u001b[38;5;28mself\u001b[39m\u001b[38;5;241m.\u001b[39mreturncode \u001b[38;5;129;01mis\u001b[39;00m \u001b[38;5;129;01mnot\u001b[39;00m \u001b[38;5;28;01mNone\u001b[39;00m:\n\u001b[1;32m   2052\u001b[0m     \u001b[38;5;28;01mbreak\u001b[39;00m  \u001b[38;5;66;03m# Another thread waited.\u001b[39;00m\n\u001b[0;32m-> 2053\u001b[0m (pid, sts) \u001b[38;5;241m=\u001b[39m \u001b[38;5;28;43mself\u001b[39;49m\u001b[38;5;241;43m.\u001b[39;49m\u001b[43m_try_wait\u001b[49m\u001b[43m(\u001b[49m\u001b[38;5;241;43m0\u001b[39;49m\u001b[43m)\u001b[49m\n\u001b[1;32m   2054\u001b[0m \u001b[38;5;66;03m# Check the pid and loop as waitpid has been known to\u001b[39;00m\n\u001b[1;32m   2055\u001b[0m \u001b[38;5;66;03m# return 0 even without WNOHANG in odd situations.\u001b[39;00m\n\u001b[1;32m   2056\u001b[0m \u001b[38;5;66;03m# http://bugs.python.org/issue14396.\u001b[39;00m\n\u001b[1;32m   2057\u001b[0m \u001b[38;5;28;01mif\u001b[39;00m pid \u001b[38;5;241m==\u001b[39m \u001b[38;5;28mself\u001b[39m\u001b[38;5;241m.\u001b[39mpid:\n",
      "File \u001b[0;32m/usr/local/anaconda3/envs/ml-algo/lib/python3.12/subprocess.py:2011\u001b[0m, in \u001b[0;36mPopen._try_wait\u001b[0;34m(self, wait_flags)\u001b[0m\n\u001b[1;32m   2009\u001b[0m \u001b[38;5;124;03m\"\"\"All callers to this function MUST hold self._waitpid_lock.\"\"\"\u001b[39;00m\n\u001b[1;32m   2010\u001b[0m \u001b[38;5;28;01mtry\u001b[39;00m:\n\u001b[0;32m-> 2011\u001b[0m     (pid, sts) \u001b[38;5;241m=\u001b[39m \u001b[43mos\u001b[49m\u001b[38;5;241;43m.\u001b[39;49m\u001b[43mwaitpid\u001b[49m\u001b[43m(\u001b[49m\u001b[38;5;28;43mself\u001b[39;49m\u001b[38;5;241;43m.\u001b[39;49m\u001b[43mpid\u001b[49m\u001b[43m,\u001b[49m\u001b[43m \u001b[49m\u001b[43mwait_flags\u001b[49m\u001b[43m)\u001b[49m\n\u001b[1;32m   2012\u001b[0m \u001b[38;5;28;01mexcept\u001b[39;00m \u001b[38;5;167;01mChildProcessError\u001b[39;00m:\n\u001b[1;32m   2013\u001b[0m     \u001b[38;5;66;03m# This happens if SIGCLD is set to be ignored or waiting\u001b[39;00m\n\u001b[1;32m   2014\u001b[0m     \u001b[38;5;66;03m# for child processes has otherwise been disabled for our\u001b[39;00m\n\u001b[1;32m   2015\u001b[0m     \u001b[38;5;66;03m# process.  This child is dead, we can't get the status.\u001b[39;00m\n\u001b[1;32m   2016\u001b[0m     pid \u001b[38;5;241m=\u001b[39m \u001b[38;5;28mself\u001b[39m\u001b[38;5;241m.\u001b[39mpid\n",
      "\u001b[0;31mKeyboardInterrupt\u001b[0m: "
     ]
    }
   ],
   "source": [
    "files = []\n",
    "addresses = []\n",
    "y = []\n",
    "\n",
    "for path in list(Path(HEX_PATH).glob('*.hex')):\n",
    "    address = path.stem.lower()\n",
    "    filename = path.name\n",
    "    if address in df.index:\n",
    "        addresses.append(address)\n",
    "        files.append(filename)\n",
    "        tp_value = df.loc[address, 'TP?']\n",
    "        if isinstance(tp_value, pd.Series):\n",
    "            tp_value = tp_value.iloc[0]\n",
    "        y.append(1 if tp_value == 'Yes' else 0)\n",
    "\n",
    "\n",
    "X = get_n_gram_from_gigahorse_assessment (EX_PATH, addresses, files)"
   ]
  },
  {
   "cell_type": "code",
   "execution_count": null,
   "id": "e3910d01",
   "metadata": {},
   "outputs": [],
   "source": [
    "X"
   ]
  },
  {
   "cell_type": "code",
   "execution_count": null,
   "id": "346c89ef",
   "metadata": {},
   "outputs": [],
   "source": [
    "y[:5]"
   ]
  },
  {
   "cell_type": "code",
   "execution_count": null,
   "id": "1e31f0a1",
   "metadata": {},
   "outputs": [],
   "source": [
    "with open(os.path.join(DATA_PATH, 'processed/byte_freq/features.json'), 'r', encoding='utf-8') as f:\n",
    "    train_cols = json.load(f)"
   ]
  },
  {
   "cell_type": "code",
   "execution_count": null,
   "id": "c6ce7f6e",
   "metadata": {},
   "outputs": [],
   "source": [
    "X = X.reindex(columns=train_cols, fill_value=0).reset_index(drop=True)\n",
    "X.head()"
   ]
  },
  {
   "cell_type": "markdown",
   "id": "8d528c8b",
   "metadata": {},
   "source": [
    "## Load Model and Evaluate"
   ]
  },
  {
   "cell_type": "code",
   "execution_count": null,
   "id": "c85f041c",
   "metadata": {},
   "outputs": [],
   "source": [
    "model_paths = list(Path(MODEL_PATH).glob('leak-*.pkl'))"
   ]
  },
  {
   "cell_type": "code",
   "execution_count": null,
   "id": "f4551095",
   "metadata": {},
   "outputs": [],
   "source": [
    "def get_best_model_path(paths):\n",
    "    best_f1_score = -1.0\n",
    "    best_path = None\n",
    "\n",
    "    for path in paths:\n",
    "        # Extract the F1 score using a regular expression\n",
    "        match = re.search(r'f1-(\\d+\\.\\d+)\\.(pkl|json|keras)$', path.name)\n",
    "        if match:\n",
    "            try:\n",
    "                f1_score = float(match.group(1))\n",
    "                if f1_score > best_f1_score:\n",
    "                    best_f1_score = f1_score\n",
    "                    best_path = path\n",
    "            except ValueError:\n",
    "                # Handle cases where the extracted string might not be a valid float\n",
    "                print(f\"Warning: Could not parse F1 score from filename: {path.name}\")\n",
    "        else:\n",
    "            print(f\"Warning: F1 score pattern not found in filename: {path.name}\")\n",
    "\n",
    "    return best_path"
   ]
  },
  {
   "cell_type": "code",
   "execution_count": null,
   "id": "99bdb2b7",
   "metadata": {},
   "outputs": [],
   "source": [
    "best_model_path = get_best_model_path(model_paths)\n",
    "\n",
    "if best_model_path:\n",
    "    model = pickle.load(open(best_model_path, 'rb'))"
   ]
  },
  {
   "cell_type": "code",
   "execution_count": null,
   "id": "a532d915",
   "metadata": {},
   "outputs": [],
   "source": [
    "y_pred = model.predict(X)"
   ]
  },
  {
   "cell_type": "code",
   "execution_count": null,
   "id": "31816ca9",
   "metadata": {},
   "outputs": [],
   "source": [
    "print(classification_report(y, y_pred))"
   ]
  },
  {
   "cell_type": "code",
   "execution_count": null,
   "id": "d5a8ff64",
   "metadata": {},
   "outputs": [],
   "source": [
    "cm = confusion_matrix(y, y_pred)\n",
    "cm_display = ConfusionMatrixDisplay(cm)\n",
    "cm_display.plot(cmap=plt.cm.Blues,values_format='g')\n",
    "plt.show()"
   ]
  },
  {
   "cell_type": "code",
   "execution_count": null,
   "id": "9940c51b",
   "metadata": {},
   "outputs": [],
   "source": []
  }
 ],
 "metadata": {
  "kernelspec": {
   "display_name": "ml-algo",
   "language": "python",
   "name": "python3"
  },
  "language_info": {
   "codemirror_mode": {
    "name": "ipython",
    "version": 3
   },
   "file_extension": ".py",
   "mimetype": "text/x-python",
   "name": "python",
   "nbconvert_exporter": "python",
   "pygments_lexer": "ipython3",
   "version": "3.12.7"
  }
 },
 "nbformat": 4,
 "nbformat_minor": 5
}
