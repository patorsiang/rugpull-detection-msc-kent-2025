{
  "cells": [
    {
      "cell_type": "markdown",
      "id": "c550f716",
      "metadata": {},
      "source": [
        "# models for opcode frequency"
      ]
    },
    {
      "cell_type": "markdown",
      "id": "23f55ad7",
      "metadata": {},
      "source": [
        "## Import Libraries"
      ]
    },
    {
      "cell_type": "code",
      "execution_count": 1,
      "id": "ca1ba9da",
      "metadata": {},
      "outputs": [],
      "source": [
        "import warnings\n",
        "warnings.filterwarnings(\"ignore\")"
      ]
    },
    {
      "cell_type": "code",
      "execution_count": 2,
      "id": "1fdbeeb6",
      "metadata": {},
      "outputs": [
        {
          "name": "stderr",
          "output_type": "stream",
          "text": [
            "2025-07-12 00:36:50.516838: I tensorflow/core/platform/cpu_feature_guard.cc:210] This TensorFlow binary is optimized to use available CPU instructions in performance-critical operations.\n",
            "To enable the following instructions: AVX2 AVX512F AVX512_VNNI FMA, in other operations, rebuild TensorFlow with the appropriate compiler flags.\n"
          ]
        }
      ],
      "source": [
        "import os\n",
        "import json\n",
        "import pandas as pd\n",
        "import numpy as np\n",
        "from pathlib import Path\n",
        "import matplotlib.pyplot as plt\n",
        "\n",
        "from sklearn.metrics import accuracy_score, precision_score, recall_score, f1_score, classification_report\n",
        "\n",
        "from tensorflow.keras import regularizers\n",
        "from tensorflow.keras.models import Sequential, load_model\n",
        "from tensorflow.keras.layers import Dense, Dropout, BatchNormalization, LeakyReLU\n",
        "from tensorflow.keras.optimizers import Adam\n",
        "from tensorflow.keras.callbacks import EarlyStopping, ReduceLROnPlateau, ModelCheckpoint"
      ]
    },
    {
      "cell_type": "markdown",
      "id": "aae177c1",
      "metadata": {},
      "source": [
        "## Const"
      ]
    },
    {
      "cell_type": "code",
      "execution_count": 3,
      "id": "60e77594",
      "metadata": {},
      "outputs": [],
      "source": [
        "PATH = Path.cwd().parents[1]\n",
        "DATA_PATH = os.path.join(PATH, 'data/processed')\n",
        "MODEL_PATH = os.path.join(PATH, 'models')"
      ]
    },
    {
      "cell_type": "code",
      "execution_count": 4,
      "id": "f456e60b",
      "metadata": {},
      "outputs": [],
      "source": [
        "with open(os.path.join(DATA_PATH, 'feature-opcode-freq_list.json')) as f:\n",
        "    feature_list = json.load(f)\n",
        "\n",
        "with open(os.path.join(DATA_PATH, 'labels-opcode-freq.json')) as f:\n",
        "    labels = json.load(f)"
      ]
    },
    {
      "cell_type": "code",
      "execution_count": 5,
      "id": "ed9621f6",
      "metadata": {},
      "outputs": [],
      "source": [
        "train_df = pd.read_csv(os.path.join(DATA_PATH, 'train-opcode-freq.csv'))\n",
        "test_df = pd.read_csv(os.path.join(DATA_PATH, 'test-opcode-freq.csv'))\n",
        "\n",
        "X_train = train_df[feature_list]\n",
        "y_train = train_df[labels]\n",
        "\n",
        "X_test = test_df[feature_list]\n",
        "y_test = test_df[labels]"
      ]
    },
    {
      "cell_type": "markdown",
      "id": "0b63c8af",
      "metadata": {},
      "source": [
        "## CNN"
      ]
    },
    {
      "cell_type": "markdown",
      "id": "ea61f523",
      "metadata": {},
      "source": [
        "### Structure"
      ]
    },
    {
      "cell_type": "code",
      "execution_count": 6,
      "id": "8d694457",
      "metadata": {},
      "outputs": [],
      "source": [
        "opcode_dim = len(feature_list)\n",
        "\n",
        "def MLClassifier():\n",
        "    return Sequential([\n",
        "        Dense(512, input_dim=opcode_dim, kernel_regularizer=regularizers.L1L2(1e-6)),\n",
        "        BatchNormalization(),\n",
        "        LeakyReLU(alpha=0.01),\n",
        "        Dropout(0.4),\n",
        "\n",
        "        Dense(256, kernel_regularizer=regularizers.L1L2(1e-6)),\n",
        "        BatchNormalization(),\n",
        "        LeakyReLU(alpha=0.01),\n",
        "        Dropout(0.3),\n",
        "\n",
        "        Dense(128, kernel_regularizer=regularizers.L1L2(1e-6)),\n",
        "        BatchNormalization(),\n",
        "        LeakyReLU(alpha=0.01),\n",
        "        Dropout(0.2),\n",
        "\n",
        "        Dense(64),\n",
        "        LeakyReLU(alpha=0.01),\n",
        "        Dropout(0.2),\n",
        "\n",
        "        Dense(len(labels), activation='sigmoid')\n",
        "    ])\n",
        "\n",
        "model = MLClassifier()\n",
        "model.compile(\n",
        "    loss='binary_crossentropy',  # important for multi-label!\n",
        "    optimizer=Adam(learning_rate=1e-6),\n",
        "    metrics=['accuracy', 'AUC']\n",
        ")\n"
      ]
    },
    {
      "cell_type": "markdown",
      "id": "f7c53ba4",
      "metadata": {},
      "source": [
        "### Training"
      ]
    },
    {
      "cell_type": "code",
      "execution_count": 8,
      "id": "7a77cd6e",
      "metadata": {},
      "outputs": [
        {
          "name": "stdout",
          "output_type": "stream",
          "text": [
            "Epoch 1/100\n",
            "\u001b[1m1/3\u001b[0m \u001b[32m━━━━━━\u001b[0m\u001b[37m━━━━━━━━━━━━━━\u001b[0m \u001b[1m0s\u001b[0m 66ms/step - AUC: 0.5582 - accuracy: 0.4219 - loss: 0.6913"
          ]
        },
        {
          "name": "stderr",
          "output_type": "stream",
          "text": [
            "WARNING:absl:You are saving your model as an HDF5 file via `model.save()` or `keras.saving.save_model(model)`. This file format is considered legacy. We recommend using instead the native Keras format, e.g. `model.save('my_model.keras')` or `keras.saving.save_model(model, 'my_model.keras')`. \n"
          ]
        },
        {
          "name": "stdout",
          "output_type": "stream",
          "text": [
            "\u001b[1m3/3\u001b[0m \u001b[32m━━━━━━━━━━━━━━━━━━━━\u001b[0m\u001b[37m\u001b[0m \u001b[1m0s\u001b[0m 124ms/step - AUC: 0.5868 - accuracy: 0.4170 - loss: 0.6670 - val_AUC: 0.3414 - val_accuracy: 0.5000 - val_loss: 0.9337 - learning_rate: 1.0000e-06\n",
            "Epoch 2/100\n",
            "\u001b[1m1/3\u001b[0m \u001b[32m━━━━━━\u001b[0m\u001b[37m━━━━━━━━━━━━━━\u001b[0m \u001b[1m0s\u001b[0m 44ms/step - AUC: 0.6166 - accuracy: 0.4688 - loss: 0.6408"
          ]
        },
        {
          "name": "stderr",
          "output_type": "stream",
          "text": [
            "WARNING:absl:You are saving your model as an HDF5 file via `model.save()` or `keras.saving.save_model(model)`. This file format is considered legacy. We recommend using instead the native Keras format, e.g. `model.save('my_model.keras')` or `keras.saving.save_model(model, 'my_model.keras')`. \n"
          ]
        },
        {
          "name": "stdout",
          "output_type": "stream",
          "text": [
            "\u001b[1m3/3\u001b[0m \u001b[32m━━━━━━━━━━━━━━━━━━━━\u001b[0m\u001b[37m\u001b[0m \u001b[1m0s\u001b[0m 88ms/step - AUC: 0.6237 - accuracy: 0.4492 - loss: 0.6382 - val_AUC: 0.3472 - val_accuracy: 0.5000 - val_loss: 0.9279 - learning_rate: 1.0000e-06\n",
            "Epoch 3/100\n",
            "\u001b[1m2/3\u001b[0m \u001b[32m━━━━━━━━━━━━━\u001b[0m\u001b[37m━━━━━━━\u001b[0m \u001b[1m0s\u001b[0m 83ms/step - AUC: 0.5996 - accuracy: 0.3828 - loss: 0.6675"
          ]
        },
        {
          "name": "stderr",
          "output_type": "stream",
          "text": [
            "WARNING:absl:You are saving your model as an HDF5 file via `model.save()` or `keras.saving.save_model(model)`. This file format is considered legacy. We recommend using instead the native Keras format, e.g. `model.save('my_model.keras')` or `keras.saving.save_model(model, 'my_model.keras')`. \n"
          ]
        },
        {
          "name": "stdout",
          "output_type": "stream",
          "text": [
            "\u001b[1m3/3\u001b[0m \u001b[32m━━━━━━━━━━━━━━━━━━━━\u001b[0m\u001b[37m\u001b[0m \u001b[1m0s\u001b[0m 136ms/step - AUC: 0.5825 - accuracy: 0.3885 - loss: 0.6835 - val_AUC: 0.3530 - val_accuracy: 0.5000 - val_loss: 0.9230 - learning_rate: 1.0000e-06\n",
            "Epoch 4/100\n",
            "\u001b[1m1/3\u001b[0m \u001b[32m━━━━━━\u001b[0m\u001b[37m━━━━━━━━━━━━━━\u001b[0m \u001b[1m0s\u001b[0m 45ms/step - AUC: 0.6257 - accuracy: 0.4531 - loss: 0.6533"
          ]
        },
        {
          "name": "stderr",
          "output_type": "stream",
          "text": [
            "WARNING:absl:You are saving your model as an HDF5 file via `model.save()` or `keras.saving.save_model(model)`. This file format is considered legacy. We recommend using instead the native Keras format, e.g. `model.save('my_model.keras')` or `keras.saving.save_model(model, 'my_model.keras')`. \n"
          ]
        },
        {
          "name": "stdout",
          "output_type": "stream",
          "text": [
            "\u001b[1m3/3\u001b[0m \u001b[32m━━━━━━━━━━━━━━━━━━━━\u001b[0m\u001b[37m\u001b[0m \u001b[1m0s\u001b[0m 83ms/step - AUC: 0.5967 - accuracy: 0.4358 - loss: 0.6785 - val_AUC: 0.3588 - val_accuracy: 0.5000 - val_loss: 0.9174 - learning_rate: 1.0000e-06\n",
            "Epoch 5/100\n",
            "\u001b[1m1/3\u001b[0m \u001b[32m━━━━━━\u001b[0m\u001b[37m━━━━━━━━━━━━━━\u001b[0m \u001b[1m0s\u001b[0m 42ms/step - AUC: 0.6013 - accuracy: 0.4219 - loss: 0.6803"
          ]
        },
        {
          "name": "stderr",
          "output_type": "stream",
          "text": [
            "WARNING:absl:You are saving your model as an HDF5 file via `model.save()` or `keras.saving.save_model(model)`. This file format is considered legacy. We recommend using instead the native Keras format, e.g. `model.save('my_model.keras')` or `keras.saving.save_model(model, 'my_model.keras')`. \n"
          ]
        },
        {
          "name": "stdout",
          "output_type": "stream",
          "text": [
            "\u001b[1m3/3\u001b[0m \u001b[32m━━━━━━━━━━━━━━━━━━━━\u001b[0m\u001b[37m\u001b[0m \u001b[1m0s\u001b[0m 86ms/step - AUC: 0.5957 - accuracy: 0.4246 - loss: 0.6723 - val_AUC: 0.3611 - val_accuracy: 0.5000 - val_loss: 0.9131 - learning_rate: 1.0000e-06\n",
            "Epoch 6/100\n",
            "\u001b[1m1/3\u001b[0m \u001b[32m━━━━━━\u001b[0m\u001b[37m━━━━━━━━━━━━━━\u001b[0m \u001b[1m0s\u001b[0m 45ms/step - AUC: 0.5503 - accuracy: 0.3594 - loss: 0.7005"
          ]
        },
        {
          "name": "stderr",
          "output_type": "stream",
          "text": [
            "WARNING:absl:You are saving your model as an HDF5 file via `model.save()` or `keras.saving.save_model(model)`. This file format is considered legacy. We recommend using instead the native Keras format, e.g. `model.save('my_model.keras')` or `keras.saving.save_model(model, 'my_model.keras')`. \n"
          ]
        },
        {
          "name": "stdout",
          "output_type": "stream",
          "text": [
            "\u001b[1m3/3\u001b[0m \u001b[32m━━━━━━━━━━━━━━━━━━━━\u001b[0m\u001b[37m\u001b[0m \u001b[1m0s\u001b[0m 83ms/step - AUC: 0.5696 - accuracy: 0.3865 - loss: 0.6993 - val_AUC: 0.3623 - val_accuracy: 0.5000 - val_loss: 0.9096 - learning_rate: 1.0000e-06\n",
            "Epoch 7/100\n",
            "\u001b[1m1/3\u001b[0m \u001b[32m━━━━━━\u001b[0m\u001b[37m━━━━━━━━━━━━━━\u001b[0m \u001b[1m0s\u001b[0m 46ms/step - AUC: 0.6463 - accuracy: 0.4375 - loss: 0.6164"
          ]
        },
        {
          "name": "stderr",
          "output_type": "stream",
          "text": [
            "WARNING:absl:You are saving your model as an HDF5 file via `model.save()` or `keras.saving.save_model(model)`. This file format is considered legacy. We recommend using instead the native Keras format, e.g. `model.save('my_model.keras')` or `keras.saving.save_model(model, 'my_model.keras')`. \n"
          ]
        },
        {
          "name": "stdout",
          "output_type": "stream",
          "text": [
            "\u001b[1m3/3\u001b[0m \u001b[32m━━━━━━━━━━━━━━━━━━━━\u001b[0m\u001b[37m\u001b[0m \u001b[1m0s\u001b[0m 83ms/step - AUC: 0.6093 - accuracy: 0.4397 - loss: 0.6571 - val_AUC: 0.3669 - val_accuracy: 0.5000 - val_loss: 0.9072 - learning_rate: 1.0000e-06\n",
            "Epoch 8/100\n",
            "\u001b[1m1/3\u001b[0m \u001b[32m━━━━━━\u001b[0m\u001b[37m━━━━━━━━━━━━━━\u001b[0m \u001b[1m0s\u001b[0m 45ms/step - AUC: 0.6184 - accuracy: 0.4219 - loss: 0.6539"
          ]
        },
        {
          "name": "stderr",
          "output_type": "stream",
          "text": [
            "WARNING:absl:You are saving your model as an HDF5 file via `model.save()` or `keras.saving.save_model(model)`. This file format is considered legacy. We recommend using instead the native Keras format, e.g. `model.save('my_model.keras')` or `keras.saving.save_model(model, 'my_model.keras')`. \n"
          ]
        },
        {
          "name": "stdout",
          "output_type": "stream",
          "text": [
            "\u001b[1m3/3\u001b[0m \u001b[32m━━━━━━━━━━━━━━━━━━━━\u001b[0m\u001b[37m\u001b[0m \u001b[1m0s\u001b[0m 85ms/step - AUC: 0.5905 - accuracy: 0.3929 - loss: 0.6687 - val_AUC: 0.3715 - val_accuracy: 0.5000 - val_loss: 0.9036 - learning_rate: 1.0000e-06\n",
            "Epoch 9/100\n",
            "\u001b[1m1/3\u001b[0m \u001b[32m━━━━━━\u001b[0m\u001b[37m━━━━━━━━━━━━━━\u001b[0m \u001b[1m0s\u001b[0m 43ms/step - AUC: 0.6659 - accuracy: 0.5000 - loss: 0.6056"
          ]
        },
        {
          "name": "stderr",
          "output_type": "stream",
          "text": [
            "WARNING:absl:You are saving your model as an HDF5 file via `model.save()` or `keras.saving.save_model(model)`. This file format is considered legacy. We recommend using instead the native Keras format, e.g. `model.save('my_model.keras')` or `keras.saving.save_model(model, 'my_model.keras')`. \n"
          ]
        },
        {
          "name": "stdout",
          "output_type": "stream",
          "text": [
            "\u001b[1m3/3\u001b[0m \u001b[32m━━━━━━━━━━━━━━━━━━━━\u001b[0m\u001b[37m\u001b[0m \u001b[1m0s\u001b[0m 128ms/step - AUC: 0.6372 - accuracy: 0.4665 - loss: 0.6321 - val_AUC: 0.3796 - val_accuracy: 0.5714 - val_loss: 0.9004 - learning_rate: 1.0000e-06\n",
            "Epoch 10/100\n",
            "\u001b[1m1/3\u001b[0m \u001b[32m━━━━━━\u001b[0m\u001b[37m━━━━━━━━━━━━━━\u001b[0m \u001b[1m0s\u001b[0m 42ms/step - AUC: 0.5604 - accuracy: 0.3750 - loss: 0.6865"
          ]
        },
        {
          "name": "stderr",
          "output_type": "stream",
          "text": [
            "WARNING:absl:You are saving your model as an HDF5 file via `model.save()` or `keras.saving.save_model(model)`. This file format is considered legacy. We recommend using instead the native Keras format, e.g. `model.save('my_model.keras')` or `keras.saving.save_model(model, 'my_model.keras')`. \n"
          ]
        },
        {
          "name": "stdout",
          "output_type": "stream",
          "text": [
            "\u001b[1m3/3\u001b[0m \u001b[32m━━━━━━━━━━━━━━━━━━━━\u001b[0m\u001b[37m\u001b[0m \u001b[1m0s\u001b[0m 85ms/step - AUC: 0.5653 - accuracy: 0.3868 - loss: 0.6874 - val_AUC: 0.3831 - val_accuracy: 0.5714 - val_loss: 0.8972 - learning_rate: 1.0000e-06\n",
            "Epoch 11/100\n",
            "\u001b[1m1/3\u001b[0m \u001b[32m━━━━━━\u001b[0m\u001b[37m━━━━━━━━━━━━━━\u001b[0m \u001b[1m0s\u001b[0m 42ms/step - AUC: 0.6424 - accuracy: 0.4844 - loss: 0.6296"
          ]
        },
        {
          "name": "stderr",
          "output_type": "stream",
          "text": [
            "WARNING:absl:You are saving your model as an HDF5 file via `model.save()` or `keras.saving.save_model(model)`. This file format is considered legacy. We recommend using instead the native Keras format, e.g. `model.save('my_model.keras')` or `keras.saving.save_model(model, 'my_model.keras')`. \n"
          ]
        },
        {
          "name": "stdout",
          "output_type": "stream",
          "text": [
            "\u001b[1m3/3\u001b[0m \u001b[32m━━━━━━━━━━━━━━━━━━━━\u001b[0m\u001b[37m\u001b[0m \u001b[1m0s\u001b[0m 82ms/step - AUC: 0.6169 - accuracy: 0.4719 - loss: 0.6515 - val_AUC: 0.3819 - val_accuracy: 0.5714 - val_loss: 0.8946 - learning_rate: 1.0000e-06\n",
            "Epoch 12/100\n",
            "\u001b[1m1/3\u001b[0m \u001b[32m━━━━━━\u001b[0m\u001b[37m━━━━━━━━━━━━━━\u001b[0m \u001b[1m0s\u001b[0m 43ms/step - AUC: 0.5939 - accuracy: 0.4062 - loss: 0.6654"
          ]
        },
        {
          "name": "stderr",
          "output_type": "stream",
          "text": [
            "WARNING:absl:You are saving your model as an HDF5 file via `model.save()` or `keras.saving.save_model(model)`. This file format is considered legacy. We recommend using instead the native Keras format, e.g. `model.save('my_model.keras')` or `keras.saving.save_model(model, 'my_model.keras')`. \n"
          ]
        },
        {
          "name": "stdout",
          "output_type": "stream",
          "text": [
            "\u001b[1m3/3\u001b[0m \u001b[32m━━━━━━━━━━━━━━━━━━━━\u001b[0m\u001b[37m\u001b[0m \u001b[1m0s\u001b[0m 86ms/step - AUC: 0.5833 - accuracy: 0.4319 - loss: 0.6735 - val_AUC: 0.3843 - val_accuracy: 0.5714 - val_loss: 0.8928 - learning_rate: 1.0000e-06\n",
            "Epoch 13/100\n",
            "\u001b[1m1/3\u001b[0m \u001b[32m━━━━━━\u001b[0m\u001b[37m━━━━━━━━━━━━━━\u001b[0m \u001b[1m0s\u001b[0m 45ms/step - AUC: 0.6174 - accuracy: 0.3906 - loss: 0.6453"
          ]
        },
        {
          "name": "stderr",
          "output_type": "stream",
          "text": [
            "WARNING:absl:You are saving your model as an HDF5 file via `model.save()` or `keras.saving.save_model(model)`. This file format is considered legacy. We recommend using instead the native Keras format, e.g. `model.save('my_model.keras')` or `keras.saving.save_model(model, 'my_model.keras')`. \n"
          ]
        },
        {
          "name": "stdout",
          "output_type": "stream",
          "text": [
            "\u001b[1m3/3\u001b[0m \u001b[32m━━━━━━━━━━━━━━━━━━━━\u001b[0m\u001b[37m\u001b[0m \u001b[1m0s\u001b[0m 90ms/step - AUC: 0.5994 - accuracy: 0.4019 - loss: 0.6611 - val_AUC: 0.3889 - val_accuracy: 0.5714 - val_loss: 0.8901 - learning_rate: 1.0000e-06\n",
            "Epoch 14/100\n",
            "\u001b[1m1/3\u001b[0m \u001b[32m━━━━━━\u001b[0m\u001b[37m━━━━━━━━━━━━━━\u001b[0m \u001b[1m0s\u001b[0m 45ms/step - AUC: 0.5895 - accuracy: 0.4844 - loss: 0.6704"
          ]
        },
        {
          "name": "stderr",
          "output_type": "stream",
          "text": [
            "WARNING:absl:You are saving your model as an HDF5 file via `model.save()` or `keras.saving.save_model(model)`. This file format is considered legacy. We recommend using instead the native Keras format, e.g. `model.save('my_model.keras')` or `keras.saving.save_model(model, 'my_model.keras')`. \n"
          ]
        },
        {
          "name": "stdout",
          "output_type": "stream",
          "text": [
            "\u001b[1m3/3\u001b[0m \u001b[32m━━━━━━━━━━━━━━━━━━━━\u001b[0m\u001b[37m\u001b[0m \u001b[1m0s\u001b[0m 83ms/step - AUC: 0.5922 - accuracy: 0.4738 - loss: 0.6746 - val_AUC: 0.3935 - val_accuracy: 0.5714 - val_loss: 0.8861 - learning_rate: 1.0000e-06\n",
            "Epoch 15/100\n",
            "\u001b[1m1/3\u001b[0m \u001b[32m━━━━━━\u001b[0m\u001b[37m━━━━━━━━━━━━━━\u001b[0m \u001b[1m0s\u001b[0m 46ms/step - AUC: 0.5584 - accuracy: 0.4375 - loss: 0.6934"
          ]
        },
        {
          "name": "stderr",
          "output_type": "stream",
          "text": [
            "WARNING:absl:You are saving your model as an HDF5 file via `model.save()` or `keras.saving.save_model(model)`. This file format is considered legacy. We recommend using instead the native Keras format, e.g. `model.save('my_model.keras')` or `keras.saving.save_model(model, 'my_model.keras')`. \n"
          ]
        },
        {
          "name": "stdout",
          "output_type": "stream",
          "text": [
            "\u001b[1m3/3\u001b[0m \u001b[32m━━━━━━━━━━━━━━━━━━━━\u001b[0m\u001b[37m\u001b[0m \u001b[1m0s\u001b[0m 84ms/step - AUC: 0.5608 - accuracy: 0.4472 - loss: 0.7041 - val_AUC: 0.3981 - val_accuracy: 0.5714 - val_loss: 0.8845 - learning_rate: 1.0000e-06\n",
            "Epoch 16/100\n",
            "\u001b[1m2/3\u001b[0m \u001b[32m━━━━━━━━━━━━━\u001b[0m\u001b[37m━━━━━━━\u001b[0m \u001b[1m0s\u001b[0m 81ms/step - AUC: 0.5528 - accuracy: 0.4219 - loss: 0.7042"
          ]
        },
        {
          "name": "stderr",
          "output_type": "stream",
          "text": [
            "WARNING:absl:You are saving your model as an HDF5 file via `model.save()` or `keras.saving.save_model(model)`. This file format is considered legacy. We recommend using instead the native Keras format, e.g. `model.save('my_model.keras')` or `keras.saving.save_model(model, 'my_model.keras')`. \n"
          ]
        },
        {
          "name": "stdout",
          "output_type": "stream",
          "text": [
            "\u001b[1m3/3\u001b[0m \u001b[32m━━━━━━━━━━━━━━━━━━━━\u001b[0m\u001b[37m\u001b[0m \u001b[1m0s\u001b[0m 132ms/step - AUC: 0.5524 - accuracy: 0.4117 - loss: 0.7053 - val_AUC: 0.3981 - val_accuracy: 0.5714 - val_loss: 0.8838 - learning_rate: 1.0000e-06\n",
            "Epoch 17/100\n",
            "\u001b[1m1/3\u001b[0m \u001b[32m━━━━━━\u001b[0m\u001b[37m━━━━━━━━━━━━━━\u001b[0m \u001b[1m0s\u001b[0m 48ms/step - AUC: 0.5567 - accuracy: 0.4375 - loss: 0.7065"
          ]
        },
        {
          "name": "stderr",
          "output_type": "stream",
          "text": [
            "WARNING:absl:You are saving your model as an HDF5 file via `model.save()` or `keras.saving.save_model(model)`. This file format is considered legacy. We recommend using instead the native Keras format, e.g. `model.save('my_model.keras')` or `keras.saving.save_model(model, 'my_model.keras')`. \n"
          ]
        },
        {
          "name": "stdout",
          "output_type": "stream",
          "text": [
            "\u001b[1m3/3\u001b[0m \u001b[32m━━━━━━━━━━━━━━━━━━━━\u001b[0m\u001b[37m\u001b[0m \u001b[1m0s\u001b[0m 86ms/step - AUC: 0.5760 - accuracy: 0.4394 - loss: 0.6860 - val_AUC: 0.4016 - val_accuracy: 0.6429 - val_loss: 0.8823 - learning_rate: 1.0000e-06\n",
            "Epoch 18/100\n",
            "\u001b[1m1/3\u001b[0m \u001b[32m━━━━━━\u001b[0m\u001b[37m━━━━━━━━━━━━━━\u001b[0m \u001b[1m0s\u001b[0m 44ms/step - AUC: 0.5841 - accuracy: 0.3906 - loss: 0.6937"
          ]
        },
        {
          "name": "stderr",
          "output_type": "stream",
          "text": [
            "WARNING:absl:You are saving your model as an HDF5 file via `model.save()` or `keras.saving.save_model(model)`. This file format is considered legacy. We recommend using instead the native Keras format, e.g. `model.save('my_model.keras')` or `keras.saving.save_model(model, 'my_model.keras')`. \n"
          ]
        },
        {
          "name": "stdout",
          "output_type": "stream",
          "text": [
            "\u001b[1m3/3\u001b[0m \u001b[32m━━━━━━━━━━━━━━━━━━━━\u001b[0m\u001b[37m\u001b[0m \u001b[1m0s\u001b[0m 86ms/step - AUC: 0.5824 - accuracy: 0.3907 - loss: 0.6922 - val_AUC: 0.4016 - val_accuracy: 0.6429 - val_loss: 0.8805 - learning_rate: 1.0000e-06\n",
            "Epoch 19/100\n",
            "\u001b[1m1/3\u001b[0m \u001b[32m━━━━━━\u001b[0m\u001b[37m━━━━━━━━━━━━━━\u001b[0m \u001b[1m0s\u001b[0m 44ms/step - AUC: 0.6311 - accuracy: 0.5156 - loss: 0.6280"
          ]
        },
        {
          "name": "stderr",
          "output_type": "stream",
          "text": [
            "WARNING:absl:You are saving your model as an HDF5 file via `model.save()` or `keras.saving.save_model(model)`. This file format is considered legacy. We recommend using instead the native Keras format, e.g. `model.save('my_model.keras')` or `keras.saving.save_model(model, 'my_model.keras')`. \n"
          ]
        },
        {
          "name": "stdout",
          "output_type": "stream",
          "text": [
            "\u001b[1m3/3\u001b[0m \u001b[32m━━━━━━━━━━━━━━━━━━━━\u001b[0m\u001b[37m\u001b[0m \u001b[1m0s\u001b[0m 131ms/step - AUC: 0.6228 - accuracy: 0.4853 - loss: 0.6474 - val_AUC: 0.4074 - val_accuracy: 0.6429 - val_loss: 0.8758 - learning_rate: 1.0000e-06\n",
            "Epoch 20/100\n",
            "\u001b[1m1/3\u001b[0m \u001b[32m━━━━━━\u001b[0m\u001b[37m━━━━━━━━━━━━━━\u001b[0m \u001b[1m0s\u001b[0m 44ms/step - AUC: 0.4944 - accuracy: 0.3125 - loss: 0.7597"
          ]
        },
        {
          "name": "stderr",
          "output_type": "stream",
          "text": [
            "WARNING:absl:You are saving your model as an HDF5 file via `model.save()` or `keras.saving.save_model(model)`. This file format is considered legacy. We recommend using instead the native Keras format, e.g. `model.save('my_model.keras')` or `keras.saving.save_model(model, 'my_model.keras')`. \n"
          ]
        },
        {
          "name": "stdout",
          "output_type": "stream",
          "text": [
            "\u001b[1m3/3\u001b[0m \u001b[32m━━━━━━━━━━━━━━━━━━━━\u001b[0m\u001b[37m\u001b[0m \u001b[1m0s\u001b[0m 86ms/step - AUC: 0.5297 - accuracy: 0.3600 - loss: 0.7231 - val_AUC: 0.4155 - val_accuracy: 0.7143 - val_loss: 0.8731 - learning_rate: 1.0000e-06\n",
            "Epoch 21/100\n",
            "\u001b[1m1/3\u001b[0m \u001b[32m━━━━━━\u001b[0m\u001b[37m━━━━━━━━━━━━━━\u001b[0m \u001b[1m0s\u001b[0m 50ms/step - AUC: 0.5430 - accuracy: 0.5000 - loss: 0.7277"
          ]
        },
        {
          "name": "stderr",
          "output_type": "stream",
          "text": [
            "WARNING:absl:You are saving your model as an HDF5 file via `model.save()` or `keras.saving.save_model(model)`. This file format is considered legacy. We recommend using instead the native Keras format, e.g. `model.save('my_model.keras')` or `keras.saving.save_model(model, 'my_model.keras')`. \n"
          ]
        },
        {
          "name": "stdout",
          "output_type": "stream",
          "text": [
            "\u001b[1m3/3\u001b[0m \u001b[32m━━━━━━━━━━━━━━━━━━━━\u001b[0m\u001b[37m\u001b[0m \u001b[1m0s\u001b[0m 88ms/step - AUC: 0.5745 - accuracy: 0.4738 - loss: 0.6971 - val_AUC: 0.4178 - val_accuracy: 0.7143 - val_loss: 0.8722 - learning_rate: 1.0000e-06\n",
            "Epoch 22/100\n",
            "\u001b[1m1/3\u001b[0m \u001b[32m━━━━━━\u001b[0m\u001b[37m━━━━━━━━━━━━━━\u001b[0m \u001b[1m0s\u001b[0m 42ms/step - AUC: 0.5691 - accuracy: 0.4219 - loss: 0.6826"
          ]
        },
        {
          "name": "stderr",
          "output_type": "stream",
          "text": [
            "WARNING:absl:You are saving your model as an HDF5 file via `model.save()` or `keras.saving.save_model(model)`. This file format is considered legacy. We recommend using instead the native Keras format, e.g. `model.save('my_model.keras')` or `keras.saving.save_model(model, 'my_model.keras')`. \n"
          ]
        },
        {
          "name": "stdout",
          "output_type": "stream",
          "text": [
            "\u001b[1m3/3\u001b[0m \u001b[32m━━━━━━━━━━━━━━━━━━━━\u001b[0m\u001b[37m\u001b[0m \u001b[1m0s\u001b[0m 87ms/step - AUC: 0.5757 - accuracy: 0.4506 - loss: 0.6726 - val_AUC: 0.4236 - val_accuracy: 0.7143 - val_loss: 0.8711 - learning_rate: 1.0000e-06\n",
            "Epoch 23/100\n",
            "\u001b[1m1/3\u001b[0m \u001b[32m━━━━━━\u001b[0m\u001b[37m━━━━━━━━━━━━━━\u001b[0m \u001b[1m0s\u001b[0m 46ms/step - AUC: 0.5874 - accuracy: 0.4375 - loss: 0.6788"
          ]
        },
        {
          "name": "stderr",
          "output_type": "stream",
          "text": [
            "WARNING:absl:You are saving your model as an HDF5 file via `model.save()` or `keras.saving.save_model(model)`. This file format is considered legacy. We recommend using instead the native Keras format, e.g. `model.save('my_model.keras')` or `keras.saving.save_model(model, 'my_model.keras')`. \n"
          ]
        },
        {
          "name": "stdout",
          "output_type": "stream",
          "text": [
            "\u001b[1m3/3\u001b[0m \u001b[32m━━━━━━━━━━━━━━━━━━━━\u001b[0m\u001b[37m\u001b[0m \u001b[1m0s\u001b[0m 86ms/step - AUC: 0.5902 - accuracy: 0.4509 - loss: 0.6695 - val_AUC: 0.4282 - val_accuracy: 0.7143 - val_loss: 0.8694 - learning_rate: 1.0000e-06\n",
            "Epoch 24/100\n",
            "\u001b[1m1/3\u001b[0m \u001b[32m━━━━━━\u001b[0m\u001b[37m━━━━━━━━━━━━━━\u001b[0m \u001b[1m0s\u001b[0m 42ms/step - AUC: 0.5663 - accuracy: 0.5312 - loss: 0.6939"
          ]
        },
        {
          "name": "stderr",
          "output_type": "stream",
          "text": [
            "WARNING:absl:You are saving your model as an HDF5 file via `model.save()` or `keras.saving.save_model(model)`. This file format is considered legacy. We recommend using instead the native Keras format, e.g. `model.save('my_model.keras')` or `keras.saving.save_model(model, 'my_model.keras')`. \n"
          ]
        },
        {
          "name": "stdout",
          "output_type": "stream",
          "text": [
            "\u001b[1m3/3\u001b[0m \u001b[32m━━━━━━━━━━━━━━━━━━━━\u001b[0m\u001b[37m\u001b[0m \u001b[1m0s\u001b[0m 87ms/step - AUC: 0.5891 - accuracy: 0.4875 - loss: 0.6734 - val_AUC: 0.4294 - val_accuracy: 0.7143 - val_loss: 0.8682 - learning_rate: 1.0000e-06\n",
            "Epoch 25/100\n",
            "\u001b[1m1/3\u001b[0m \u001b[32m━━━━━━\u001b[0m\u001b[37m━━━━━━━━━━━━━━\u001b[0m \u001b[1m0s\u001b[0m 139ms/step - AUC: 0.6335 - accuracy: 0.4844 - loss: 0.6534"
          ]
        },
        {
          "name": "stderr",
          "output_type": "stream",
          "text": [
            "WARNING:absl:You are saving your model as an HDF5 file via `model.save()` or `keras.saving.save_model(model)`. This file format is considered legacy. We recommend using instead the native Keras format, e.g. `model.save('my_model.keras')` or `keras.saving.save_model(model, 'my_model.keras')`. \n"
          ]
        },
        {
          "name": "stdout",
          "output_type": "stream",
          "text": [
            "\u001b[1m3/3\u001b[0m \u001b[32m━━━━━━━━━━━━━━━━━━━━\u001b[0m\u001b[37m\u001b[0m \u001b[1m0s\u001b[0m 89ms/step - AUC: 0.6119 - accuracy: 0.4682 - loss: 0.6655 - val_AUC: 0.4340 - val_accuracy: 0.7143 - val_loss: 0.8676 - learning_rate: 1.0000e-06\n",
            "Epoch 26/100\n",
            "\u001b[1m3/3\u001b[0m \u001b[32m━━━━━━━━━━━━━━━━━━━━\u001b[0m\u001b[37m\u001b[0m \u001b[1m0s\u001b[0m 61ms/step - AUC: 0.5776 - accuracy: 0.3946 - loss: 0.6846 - val_AUC: 0.4294 - val_accuracy: 0.7143 - val_loss: 0.8680 - learning_rate: 1.0000e-06\n",
            "Epoch 27/100\n",
            "\u001b[1m1/3\u001b[0m \u001b[32m━━━━━━\u001b[0m\u001b[37m━━━━━━━━━━━━━━\u001b[0m \u001b[1m0s\u001b[0m 42ms/step - AUC: 0.5613 - accuracy: 0.3438 - loss: 0.6924"
          ]
        },
        {
          "name": "stderr",
          "output_type": "stream",
          "text": [
            "WARNING:absl:You are saving your model as an HDF5 file via `model.save()` or `keras.saving.save_model(model)`. This file format is considered legacy. We recommend using instead the native Keras format, e.g. `model.save('my_model.keras')` or `keras.saving.save_model(model, 'my_model.keras')`. \n"
          ]
        },
        {
          "name": "stdout",
          "output_type": "stream",
          "text": [
            "\u001b[1m3/3\u001b[0m \u001b[32m━━━━━━━━━━━━━━━━━━━━\u001b[0m\u001b[37m\u001b[0m \u001b[1m0s\u001b[0m 86ms/step - AUC: 0.5786 - accuracy: 0.4179 - loss: 0.6853 - val_AUC: 0.4317 - val_accuracy: 0.7143 - val_loss: 0.8662 - learning_rate: 1.0000e-06\n",
            "Epoch 28/100\n",
            "\u001b[1m1/3\u001b[0m \u001b[32m━━━━━━\u001b[0m\u001b[37m━━━━━━━━━━━━━━\u001b[0m \u001b[1m0s\u001b[0m 46ms/step - AUC: 0.5700 - accuracy: 0.4375 - loss: 0.6864"
          ]
        },
        {
          "name": "stderr",
          "output_type": "stream",
          "text": [
            "WARNING:absl:You are saving your model as an HDF5 file via `model.save()` or `keras.saving.save_model(model)`. This file format is considered legacy. We recommend using instead the native Keras format, e.g. `model.save('my_model.keras')` or `keras.saving.save_model(model, 'my_model.keras')`. \n"
          ]
        },
        {
          "name": "stdout",
          "output_type": "stream",
          "text": [
            "\u001b[1m3/3\u001b[0m \u001b[32m━━━━━━━━━━━━━━━━━━━━\u001b[0m\u001b[37m\u001b[0m \u001b[1m0s\u001b[0m 90ms/step - AUC: 0.5749 - accuracy: 0.4453 - loss: 0.6828 - val_AUC: 0.4363 - val_accuracy: 0.7143 - val_loss: 0.8651 - learning_rate: 1.0000e-06\n",
            "Epoch 29/100\n",
            "\u001b[1m1/3\u001b[0m \u001b[32m━━━━━━\u001b[0m\u001b[37m━━━━━━━━━━━━━━\u001b[0m \u001b[1m0s\u001b[0m 126ms/step - AUC: 0.5884 - accuracy: 0.3906 - loss: 0.6436"
          ]
        },
        {
          "name": "stderr",
          "output_type": "stream",
          "text": [
            "WARNING:absl:You are saving your model as an HDF5 file via `model.save()` or `keras.saving.save_model(model)`. This file format is considered legacy. We recommend using instead the native Keras format, e.g. `model.save('my_model.keras')` or `keras.saving.save_model(model, 'my_model.keras')`. \n"
          ]
        },
        {
          "name": "stdout",
          "output_type": "stream",
          "text": [
            "\u001b[1m3/3\u001b[0m \u001b[32m━━━━━━━━━━━━━━━━━━━━\u001b[0m\u001b[37m\u001b[0m \u001b[1m0s\u001b[0m 90ms/step - AUC: 0.5780 - accuracy: 0.4036 - loss: 0.6685 - val_AUC: 0.4387 - val_accuracy: 0.7143 - val_loss: 0.8647 - learning_rate: 1.0000e-06\n",
            "Epoch 30/100\n",
            "\u001b[1m1/3\u001b[0m \u001b[32m━━━━━━\u001b[0m\u001b[37m━━━━━━━━━━━━━━\u001b[0m \u001b[1m0s\u001b[0m 46ms/step - AUC: 0.5386 - accuracy: 0.4062 - loss: 0.7064"
          ]
        },
        {
          "name": "stderr",
          "output_type": "stream",
          "text": [
            "WARNING:absl:You are saving your model as an HDF5 file via `model.save()` or `keras.saving.save_model(model)`. This file format is considered legacy. We recommend using instead the native Keras format, e.g. `model.save('my_model.keras')` or `keras.saving.save_model(model, 'my_model.keras')`. \n"
          ]
        },
        {
          "name": "stdout",
          "output_type": "stream",
          "text": [
            "\u001b[1m3/3\u001b[0m \u001b[32m━━━━━━━━━━━━━━━━━━━━\u001b[0m\u001b[37m\u001b[0m \u001b[1m0s\u001b[0m 86ms/step - AUC: 0.5478 - accuracy: 0.4282 - loss: 0.6948 - val_AUC: 0.4398 - val_accuracy: 0.7143 - val_loss: 0.8633 - learning_rate: 1.0000e-06\n",
            "Epoch 31/100\n",
            "\u001b[1m1/3\u001b[0m \u001b[32m━━━━━━\u001b[0m\u001b[37m━━━━━━━━━━━━━━\u001b[0m \u001b[1m0s\u001b[0m 42ms/step - AUC: 0.5388 - accuracy: 0.3594 - loss: 0.7027"
          ]
        },
        {
          "name": "stderr",
          "output_type": "stream",
          "text": [
            "WARNING:absl:You are saving your model as an HDF5 file via `model.save()` or `keras.saving.save_model(model)`. This file format is considered legacy. We recommend using instead the native Keras format, e.g. `model.save('my_model.keras')` or `keras.saving.save_model(model, 'my_model.keras')`. \n"
          ]
        },
        {
          "name": "stdout",
          "output_type": "stream",
          "text": [
            "\u001b[1m3/3\u001b[0m \u001b[32m━━━━━━━━━━━━━━━━━━━━\u001b[0m\u001b[37m\u001b[0m \u001b[1m0s\u001b[0m 87ms/step - AUC: 0.5562 - accuracy: 0.3641 - loss: 0.6966 - val_AUC: 0.4363 - val_accuracy: 0.7143 - val_loss: 0.8620 - learning_rate: 1.0000e-06\n",
            "Epoch 32/100\n",
            "\u001b[1m1/3\u001b[0m \u001b[32m━━━━━━\u001b[0m\u001b[37m━━━━━━━━━━━━━━\u001b[0m \u001b[1m0s\u001b[0m 54ms/step - AUC: 0.5261 - accuracy: 0.3750 - loss: 0.7415"
          ]
        },
        {
          "name": "stderr",
          "output_type": "stream",
          "text": [
            "WARNING:absl:You are saving your model as an HDF5 file via `model.save()` or `keras.saving.save_model(model)`. This file format is considered legacy. We recommend using instead the native Keras format, e.g. `model.save('my_model.keras')` or `keras.saving.save_model(model, 'my_model.keras')`. \n"
          ]
        },
        {
          "name": "stdout",
          "output_type": "stream",
          "text": [
            "\u001b[1m3/3\u001b[0m \u001b[32m━━━━━━━━━━━━━━━━━━━━\u001b[0m\u001b[37m\u001b[0m \u001b[1m0s\u001b[0m 125ms/step - AUC: 0.5523 - accuracy: 0.3809 - loss: 0.7135 - val_AUC: 0.4421 - val_accuracy: 0.7143 - val_loss: 0.8609 - learning_rate: 1.0000e-06\n",
            "Epoch 33/100\n",
            "\u001b[1m1/3\u001b[0m \u001b[32m━━━━━━\u001b[0m\u001b[37m━━━━━━━━━━━━━━\u001b[0m \u001b[1m0s\u001b[0m 51ms/step - AUC: 0.6032 - accuracy: 0.4062 - loss: 0.6599"
          ]
        },
        {
          "name": "stderr",
          "output_type": "stream",
          "text": [
            "WARNING:absl:You are saving your model as an HDF5 file via `model.save()` or `keras.saving.save_model(model)`. This file format is considered legacy. We recommend using instead the native Keras format, e.g. `model.save('my_model.keras')` or `keras.saving.save_model(model, 'my_model.keras')`. \n"
          ]
        },
        {
          "name": "stdout",
          "output_type": "stream",
          "text": [
            "\u001b[1m3/3\u001b[0m \u001b[32m━━━━━━━━━━━━━━━━━━━━\u001b[0m\u001b[37m\u001b[0m \u001b[1m0s\u001b[0m 94ms/step - AUC: 0.6043 - accuracy: 0.4114 - loss: 0.6565 - val_AUC: 0.4398 - val_accuracy: 0.7143 - val_loss: 0.8603 - learning_rate: 1.0000e-06\n",
            "Epoch 34/100\n",
            "\u001b[1m3/3\u001b[0m \u001b[32m━━━━━━━━━━━━━━━━━━━━\u001b[0m\u001b[37m\u001b[0m \u001b[1m0s\u001b[0m 57ms/step - AUC: 0.5789 - accuracy: 0.4343 - loss: 0.6808 - val_AUC: 0.4363 - val_accuracy: 0.7143 - val_loss: 0.8604 - learning_rate: 1.0000e-06\n",
            "Epoch 35/100\n",
            "\u001b[1m1/3\u001b[0m \u001b[32m━━━━━━\u001b[0m\u001b[37m━━━━━━━━━━━━━━\u001b[0m \u001b[1m0s\u001b[0m 43ms/step - AUC: 0.6738 - accuracy: 0.5000 - loss: 0.6154"
          ]
        },
        {
          "name": "stderr",
          "output_type": "stream",
          "text": [
            "WARNING:absl:You are saving your model as an HDF5 file via `model.save()` or `keras.saving.save_model(model)`. This file format is considered legacy. We recommend using instead the native Keras format, e.g. `model.save('my_model.keras')` or `keras.saving.save_model(model, 'my_model.keras')`. \n"
          ]
        },
        {
          "name": "stdout",
          "output_type": "stream",
          "text": [
            "\u001b[1m3/3\u001b[0m \u001b[32m━━━━━━━━━━━━━━━━━━━━\u001b[0m\u001b[37m\u001b[0m \u001b[1m0s\u001b[0m 90ms/step - AUC: 0.6379 - accuracy: 0.4889 - loss: 0.6446 - val_AUC: 0.4398 - val_accuracy: 0.7143 - val_loss: 0.8596 - learning_rate: 1.0000e-06\n",
            "Epoch 36/100\n",
            "\u001b[1m1/3\u001b[0m \u001b[32m━━━━━━\u001b[0m\u001b[37m━━━━━━━━━━━━━━\u001b[0m \u001b[1m0s\u001b[0m 50ms/step - AUC: 0.5609 - accuracy: 0.4062 - loss: 0.7240"
          ]
        },
        {
          "name": "stderr",
          "output_type": "stream",
          "text": [
            "WARNING:absl:You are saving your model as an HDF5 file via `model.save()` or `keras.saving.save_model(model)`. This file format is considered legacy. We recommend using instead the native Keras format, e.g. `model.save('my_model.keras')` or `keras.saving.save_model(model, 'my_model.keras')`. \n"
          ]
        },
        {
          "name": "stdout",
          "output_type": "stream",
          "text": [
            "\u001b[1m3/3\u001b[0m \u001b[32m━━━━━━━━━━━━━━━━━━━━\u001b[0m\u001b[37m\u001b[0m \u001b[1m0s\u001b[0m 88ms/step - AUC: 0.5965 - accuracy: 0.4319 - loss: 0.6812 - val_AUC: 0.4410 - val_accuracy: 0.7143 - val_loss: 0.8592 - learning_rate: 1.0000e-06\n",
            "Epoch 37/100\n",
            "\u001b[1m1/3\u001b[0m \u001b[32m━━━━━━\u001b[0m\u001b[37m━━━━━━━━━━━━━━\u001b[0m \u001b[1m0s\u001b[0m 50ms/step - AUC: 0.5961 - accuracy: 0.4531 - loss: 0.6835"
          ]
        },
        {
          "name": "stderr",
          "output_type": "stream",
          "text": [
            "WARNING:absl:You are saving your model as an HDF5 file via `model.save()` or `keras.saving.save_model(model)`. This file format is considered legacy. We recommend using instead the native Keras format, e.g. `model.save('my_model.keras')` or `keras.saving.save_model(model, 'my_model.keras')`. \n"
          ]
        },
        {
          "name": "stdout",
          "output_type": "stream",
          "text": [
            "\u001b[1m3/3\u001b[0m \u001b[32m━━━━━━━━━━━━━━━━━━━━\u001b[0m\u001b[37m\u001b[0m \u001b[1m0s\u001b[0m 91ms/step - AUC: 0.6116 - accuracy: 0.4509 - loss: 0.6709 - val_AUC: 0.4398 - val_accuracy: 0.7143 - val_loss: 0.8587 - learning_rate: 1.0000e-06\n",
            "Epoch 38/100\n",
            "\u001b[1m1/3\u001b[0m \u001b[32m━━━━━━\u001b[0m\u001b[37m━━━━━━━━━━━━━━\u001b[0m \u001b[1m0s\u001b[0m 43ms/step - AUC: 0.6168 - accuracy: 0.4688 - loss: 0.6316"
          ]
        },
        {
          "name": "stderr",
          "output_type": "stream",
          "text": [
            "WARNING:absl:You are saving your model as an HDF5 file via `model.save()` or `keras.saving.save_model(model)`. This file format is considered legacy. We recommend using instead the native Keras format, e.g. `model.save('my_model.keras')` or `keras.saving.save_model(model, 'my_model.keras')`. \n"
          ]
        },
        {
          "name": "stdout",
          "output_type": "stream",
          "text": [
            "\u001b[1m3/3\u001b[0m \u001b[32m━━━━━━━━━━━━━━━━━━━━\u001b[0m\u001b[37m\u001b[0m \u001b[1m0s\u001b[0m 92ms/step - AUC: 0.6148 - accuracy: 0.4419 - loss: 0.6460 - val_AUC: 0.4398 - val_accuracy: 0.7143 - val_loss: 0.8585 - learning_rate: 1.0000e-06\n",
            "Epoch 39/100\n",
            "\u001b[1m1/3\u001b[0m \u001b[32m━━━━━━\u001b[0m\u001b[37m━━━━━━━━━━━━━━\u001b[0m \u001b[1m0s\u001b[0m 147ms/step - AUC: 0.5896 - accuracy: 0.4219 - loss: 0.6818"
          ]
        },
        {
          "name": "stderr",
          "output_type": "stream",
          "text": [
            "WARNING:absl:You are saving your model as an HDF5 file via `model.save()` or `keras.saving.save_model(model)`. This file format is considered legacy. We recommend using instead the native Keras format, e.g. `model.save('my_model.keras')` or `keras.saving.save_model(model, 'my_model.keras')`. \n"
          ]
        },
        {
          "name": "stdout",
          "output_type": "stream",
          "text": [
            "\u001b[1m3/3\u001b[0m \u001b[32m━━━━━━━━━━━━━━━━━━━━\u001b[0m\u001b[37m\u001b[0m \u001b[1m0s\u001b[0m 89ms/step - AUC: 0.5779 - accuracy: 0.4226 - loss: 0.6880 - val_AUC: 0.4352 - val_accuracy: 0.7143 - val_loss: 0.8584 - learning_rate: 1.0000e-06\n",
            "Epoch 40/100\n",
            "\u001b[1m1/3\u001b[0m \u001b[32m━━━━━━\u001b[0m\u001b[37m━━━━━━━━━━━━━━\u001b[0m \u001b[1m0s\u001b[0m 44ms/step - AUC: 0.5696 - accuracy: 0.3125 - loss: 0.6825"
          ]
        },
        {
          "name": "stderr",
          "output_type": "stream",
          "text": [
            "WARNING:absl:You are saving your model as an HDF5 file via `model.save()` or `keras.saving.save_model(model)`. This file format is considered legacy. We recommend using instead the native Keras format, e.g. `model.save('my_model.keras')` or `keras.saving.save_model(model, 'my_model.keras')`. \n"
          ]
        },
        {
          "name": "stdout",
          "output_type": "stream",
          "text": [
            "\u001b[1m3/3\u001b[0m \u001b[32m━━━━━━━━━━━━━━━━━━━━\u001b[0m\u001b[37m\u001b[0m \u001b[1m0s\u001b[0m 92ms/step - AUC: 0.5945 - accuracy: 0.3729 - loss: 0.6650 - val_AUC: 0.4375 - val_accuracy: 0.7143 - val_loss: 0.8576 - learning_rate: 1.0000e-06\n",
            "Epoch 41/100\n",
            "\u001b[1m1/3\u001b[0m \u001b[32m━━━━━━\u001b[0m\u001b[37m━━━━━━━━━━━━━━\u001b[0m \u001b[1m0s\u001b[0m 47ms/step - AUC: 0.6032 - accuracy: 0.4688 - loss: 0.6739"
          ]
        },
        {
          "name": "stderr",
          "output_type": "stream",
          "text": [
            "WARNING:absl:You are saving your model as an HDF5 file via `model.save()` or `keras.saving.save_model(model)`. This file format is considered legacy. We recommend using instead the native Keras format, e.g. `model.save('my_model.keras')` or `keras.saving.save_model(model, 'my_model.keras')`. \n"
          ]
        },
        {
          "name": "stdout",
          "output_type": "stream",
          "text": [
            "\u001b[1m3/3\u001b[0m \u001b[32m━━━━━━━━━━━━━━━━━━━━\u001b[0m\u001b[37m\u001b[0m \u001b[1m0s\u001b[0m 93ms/step - AUC: 0.6053 - accuracy: 0.4363 - loss: 0.6655 - val_AUC: 0.4375 - val_accuracy: 0.7143 - val_loss: 0.8573 - learning_rate: 1.0000e-06\n",
            "Epoch 42/100\n",
            "\u001b[1m1/3\u001b[0m \u001b[32m━━━━━━\u001b[0m\u001b[37m━━━━━━━━━━━━━━\u001b[0m \u001b[1m0s\u001b[0m 119ms/step - AUC: 0.6619 - accuracy: 0.5000 - loss: 0.6079"
          ]
        },
        {
          "name": "stderr",
          "output_type": "stream",
          "text": [
            "WARNING:absl:You are saving your model as an HDF5 file via `model.save()` or `keras.saving.save_model(model)`. This file format is considered legacy. We recommend using instead the native Keras format, e.g. `model.save('my_model.keras')` or `keras.saving.save_model(model, 'my_model.keras')`. \n"
          ]
        },
        {
          "name": "stdout",
          "output_type": "stream",
          "text": [
            "\u001b[1m3/3\u001b[0m \u001b[32m━━━━━━━━━━━━━━━━━━━━\u001b[0m\u001b[37m\u001b[0m \u001b[1m0s\u001b[0m 101ms/step - AUC: 0.6303 - accuracy: 0.4794 - loss: 0.6409 - val_AUC: 0.4387 - val_accuracy: 0.7143 - val_loss: 0.8562 - learning_rate: 1.0000e-06\n",
            "Epoch 43/100\n",
            "\u001b[1m1/3\u001b[0m \u001b[32m━━━━━━\u001b[0m\u001b[37m━━━━━━━━━━━━━━\u001b[0m \u001b[1m0s\u001b[0m 49ms/step - AUC: 0.6068 - accuracy: 0.4062 - loss: 0.6810"
          ]
        },
        {
          "name": "stderr",
          "output_type": "stream",
          "text": [
            "WARNING:absl:You are saving your model as an HDF5 file via `model.save()` or `keras.saving.save_model(model)`. This file format is considered legacy. We recommend using instead the native Keras format, e.g. `model.save('my_model.keras')` or `keras.saving.save_model(model, 'my_model.keras')`. \n"
          ]
        },
        {
          "name": "stdout",
          "output_type": "stream",
          "text": [
            "\u001b[1m3/3\u001b[0m \u001b[32m━━━━━━━━━━━━━━━━━━━━\u001b[0m\u001b[37m\u001b[0m \u001b[1m0s\u001b[0m 87ms/step - AUC: 0.6288 - accuracy: 0.4375 - loss: 0.6523 - val_AUC: 0.4398 - val_accuracy: 0.7143 - val_loss: 0.8550 - learning_rate: 1.0000e-06\n",
            "Epoch 44/100\n",
            "\u001b[1m1/3\u001b[0m \u001b[32m━━━━━━\u001b[0m\u001b[37m━━━━━━━━━━━━━━\u001b[0m \u001b[1m0s\u001b[0m 50ms/step - AUC: 0.6076 - accuracy: 0.4062 - loss: 0.6648"
          ]
        },
        {
          "name": "stderr",
          "output_type": "stream",
          "text": [
            "WARNING:absl:You are saving your model as an HDF5 file via `model.save()` or `keras.saving.save_model(model)`. This file format is considered legacy. We recommend using instead the native Keras format, e.g. `model.save('my_model.keras')` or `keras.saving.save_model(model, 'my_model.keras')`. \n"
          ]
        },
        {
          "name": "stdout",
          "output_type": "stream",
          "text": [
            "\u001b[1m3/3\u001b[0m \u001b[32m━━━━━━━━━━━━━━━━━━━━\u001b[0m\u001b[37m\u001b[0m \u001b[1m0s\u001b[0m 91ms/step - AUC: 0.6102 - accuracy: 0.4170 - loss: 0.6622 - val_AUC: 0.4398 - val_accuracy: 0.7143 - val_loss: 0.8539 - learning_rate: 1.0000e-06\n",
            "Epoch 45/100\n",
            "\u001b[1m1/3\u001b[0m \u001b[32m━━━━━━\u001b[0m\u001b[37m━━━━━━━━━━━━━━\u001b[0m \u001b[1m0s\u001b[0m 48ms/step - AUC: 0.6149 - accuracy: 0.4062 - loss: 0.6394"
          ]
        },
        {
          "name": "stderr",
          "output_type": "stream",
          "text": [
            "WARNING:absl:You are saving your model as an HDF5 file via `model.save()` or `keras.saving.save_model(model)`. This file format is considered legacy. We recommend using instead the native Keras format, e.g. `model.save('my_model.keras')` or `keras.saving.save_model(model, 'my_model.keras')`. \n"
          ]
        },
        {
          "name": "stdout",
          "output_type": "stream",
          "text": [
            "\u001b[1m3/3\u001b[0m \u001b[32m━━━━━━━━━━━━━━━━━━━━\u001b[0m\u001b[37m\u001b[0m \u001b[1m0s\u001b[0m 92ms/step - AUC: 0.5820 - accuracy: 0.4170 - loss: 0.6721 - val_AUC: 0.4387 - val_accuracy: 0.7143 - val_loss: 0.8524 - learning_rate: 1.0000e-06\n",
            "Epoch 46/100\n",
            "\u001b[1m1/3\u001b[0m \u001b[32m━━━━━━\u001b[0m\u001b[37m━━━━━━━━━━━━━━\u001b[0m \u001b[1m0s\u001b[0m 51ms/step - AUC: 0.6033 - accuracy: 0.5156 - loss: 0.6608"
          ]
        },
        {
          "name": "stderr",
          "output_type": "stream",
          "text": [
            "WARNING:absl:You are saving your model as an HDF5 file via `model.save()` or `keras.saving.save_model(model)`. This file format is considered legacy. We recommend using instead the native Keras format, e.g. `model.save('my_model.keras')` or `keras.saving.save_model(model, 'my_model.keras')`. \n"
          ]
        },
        {
          "name": "stdout",
          "output_type": "stream",
          "text": [
            "\u001b[1m3/3\u001b[0m \u001b[32m━━━━━━━━━━━━━━━━━━━━\u001b[0m\u001b[37m\u001b[0m \u001b[1m0s\u001b[0m 91ms/step - AUC: 0.6029 - accuracy: 0.5004 - loss: 0.6578 - val_AUC: 0.4398 - val_accuracy: 0.7143 - val_loss: 0.8522 - learning_rate: 1.0000e-06\n",
            "Epoch 47/100\n",
            "\u001b[1m1/3\u001b[0m \u001b[32m━━━━━━\u001b[0m\u001b[37m━━━━━━━━━━━━━━\u001b[0m \u001b[1m0s\u001b[0m 51ms/step - AUC: 0.5147 - accuracy: 0.3906 - loss: 0.7688"
          ]
        },
        {
          "name": "stderr",
          "output_type": "stream",
          "text": [
            "WARNING:absl:You are saving your model as an HDF5 file via `model.save()` or `keras.saving.save_model(model)`. This file format is considered legacy. We recommend using instead the native Keras format, e.g. `model.save('my_model.keras')` or `keras.saving.save_model(model, 'my_model.keras')`. \n"
          ]
        },
        {
          "name": "stdout",
          "output_type": "stream",
          "text": [
            "\u001b[1m3/3\u001b[0m \u001b[32m━━━━━━━━━━━━━━━━━━━━\u001b[0m\u001b[37m\u001b[0m \u001b[1m0s\u001b[0m 90ms/step - AUC: 0.5834 - accuracy: 0.4260 - loss: 0.6985 - val_AUC: 0.4363 - val_accuracy: 0.7143 - val_loss: 0.8504 - learning_rate: 1.0000e-06\n",
            "Epoch 48/100\n",
            "\u001b[1m1/3\u001b[0m \u001b[32m━━━━━━\u001b[0m\u001b[37m━━━━━━━━━━━━━━\u001b[0m \u001b[1m0s\u001b[0m 45ms/step - AUC: 0.5501 - accuracy: 0.3438 - loss: 0.7047"
          ]
        },
        {
          "name": "stderr",
          "output_type": "stream",
          "text": [
            "WARNING:absl:You are saving your model as an HDF5 file via `model.save()` or `keras.saving.save_model(model)`. This file format is considered legacy. We recommend using instead the native Keras format, e.g. `model.save('my_model.keras')` or `keras.saving.save_model(model, 'my_model.keras')`. \n"
          ]
        },
        {
          "name": "stdout",
          "output_type": "stream",
          "text": [
            "\u001b[1m3/3\u001b[0m \u001b[32m━━━━━━━━━━━━━━━━━━━━\u001b[0m\u001b[37m\u001b[0m \u001b[1m0s\u001b[0m 145ms/step - AUC: 0.5656 - accuracy: 0.3824 - loss: 0.6983 - val_AUC: 0.4410 - val_accuracy: 0.7143 - val_loss: 0.8496 - learning_rate: 1.0000e-06\n",
            "Epoch 49/100\n",
            "\u001b[1m3/3\u001b[0m \u001b[32m━━━━━━━━━━━━━━━━━━━━\u001b[0m\u001b[37m\u001b[0m \u001b[1m0s\u001b[0m 63ms/step - AUC: 0.5843 - accuracy: 0.4397 - loss: 0.6889 - val_AUC: 0.4421 - val_accuracy: 0.7143 - val_loss: 0.8498 - learning_rate: 1.0000e-06\n",
            "Epoch 50/100\n",
            "\u001b[1m1/3\u001b[0m \u001b[32m━━━━━━\u001b[0m\u001b[37m━━━━━━━━━━━━━━\u001b[0m \u001b[1m0s\u001b[0m 43ms/step - AUC: 0.5854 - accuracy: 0.4375 - loss: 0.6693"
          ]
        },
        {
          "name": "stderr",
          "output_type": "stream",
          "text": [
            "WARNING:absl:You are saving your model as an HDF5 file via `model.save()` or `keras.saving.save_model(model)`. This file format is considered legacy. We recommend using instead the native Keras format, e.g. `model.save('my_model.keras')` or `keras.saving.save_model(model, 'my_model.keras')`. \n"
          ]
        },
        {
          "name": "stdout",
          "output_type": "stream",
          "text": [
            "\u001b[1m3/3\u001b[0m \u001b[32m━━━━━━━━━━━━━━━━━━━━\u001b[0m\u001b[37m\u001b[0m \u001b[1m0s\u001b[0m 96ms/step - AUC: 0.5738 - accuracy: 0.4134 - loss: 0.6830 - val_AUC: 0.4410 - val_accuracy: 0.7143 - val_loss: 0.8490 - learning_rate: 1.0000e-06\n",
            "Epoch 51/100\n",
            "\u001b[1m1/3\u001b[0m \u001b[32m━━━━━━\u001b[0m\u001b[37m━━━━━━━━━━━━━━\u001b[0m \u001b[1m0s\u001b[0m 44ms/step - AUC: 0.5494 - accuracy: 0.4062 - loss: 0.6797"
          ]
        },
        {
          "name": "stderr",
          "output_type": "stream",
          "text": [
            "WARNING:absl:You are saving your model as an HDF5 file via `model.save()` or `keras.saving.save_model(model)`. This file format is considered legacy. We recommend using instead the native Keras format, e.g. `model.save('my_model.keras')` or `keras.saving.save_model(model, 'my_model.keras')`. \n"
          ]
        },
        {
          "name": "stdout",
          "output_type": "stream",
          "text": [
            "\u001b[1m3/3\u001b[0m \u001b[32m━━━━━━━━━━━━━━━━━━━━\u001b[0m\u001b[37m\u001b[0m \u001b[1m0s\u001b[0m 92ms/step - AUC: 0.5643 - accuracy: 0.3983 - loss: 0.6872 - val_AUC: 0.4444 - val_accuracy: 0.7143 - val_loss: 0.8471 - learning_rate: 1.0000e-06\n",
            "Epoch 52/100\n",
            "\u001b[1m1/3\u001b[0m \u001b[32m━━━━━━\u001b[0m\u001b[37m━━━━━━━━━━━━━━\u001b[0m \u001b[1m0s\u001b[0m 46ms/step - AUC: 0.6001 - accuracy: 0.4062 - loss: 0.6749"
          ]
        },
        {
          "name": "stderr",
          "output_type": "stream",
          "text": [
            "WARNING:absl:You are saving your model as an HDF5 file via `model.save()` or `keras.saving.save_model(model)`. This file format is considered legacy. We recommend using instead the native Keras format, e.g. `model.save('my_model.keras')` or `keras.saving.save_model(model, 'my_model.keras')`. \n"
          ]
        },
        {
          "name": "stdout",
          "output_type": "stream",
          "text": [
            "\u001b[1m3/3\u001b[0m \u001b[32m━━━━━━━━━━━━━━━━━━━━\u001b[0m\u001b[37m\u001b[0m \u001b[1m0s\u001b[0m 90ms/step - AUC: 0.5844 - accuracy: 0.4336 - loss: 0.6875 - val_AUC: 0.4433 - val_accuracy: 0.7143 - val_loss: 0.8467 - learning_rate: 1.0000e-06\n",
            "Epoch 53/100\n",
            "\u001b[1m1/3\u001b[0m \u001b[32m━━━━━━\u001b[0m\u001b[37m━━━━━━━━━━━━━━\u001b[0m \u001b[1m0s\u001b[0m 48ms/step - AUC: 0.6249 - accuracy: 0.5156 - loss: 0.6371"
          ]
        },
        {
          "name": "stderr",
          "output_type": "stream",
          "text": [
            "WARNING:absl:You are saving your model as an HDF5 file via `model.save()` or `keras.saving.save_model(model)`. This file format is considered legacy. We recommend using instead the native Keras format, e.g. `model.save('my_model.keras')` or `keras.saving.save_model(model, 'my_model.keras')`. \n"
          ]
        },
        {
          "name": "stdout",
          "output_type": "stream",
          "text": [
            "\u001b[1m3/3\u001b[0m \u001b[32m━━━━━━━━━━━━━━━━━━━━\u001b[0m\u001b[37m\u001b[0m \u001b[1m0s\u001b[0m 137ms/step - AUC: 0.6106 - accuracy: 0.5040 - loss: 0.6515 - val_AUC: 0.4468 - val_accuracy: 0.7143 - val_loss: 0.8466 - learning_rate: 1.0000e-06\n",
            "Epoch 54/100\n",
            "\u001b[1m1/3\u001b[0m \u001b[32m━━━━━━\u001b[0m\u001b[37m━━━━━━━━━━━━━━\u001b[0m \u001b[1m0s\u001b[0m 66ms/step - AUC: 0.6075 - accuracy: 0.4688 - loss: 0.6864"
          ]
        },
        {
          "name": "stderr",
          "output_type": "stream",
          "text": [
            "WARNING:absl:You are saving your model as an HDF5 file via `model.save()` or `keras.saving.save_model(model)`. This file format is considered legacy. We recommend using instead the native Keras format, e.g. `model.save('my_model.keras')` or `keras.saving.save_model(model, 'my_model.keras')`. \n"
          ]
        },
        {
          "name": "stdout",
          "output_type": "stream",
          "text": [
            "\u001b[1m3/3\u001b[0m \u001b[32m━━━━━━━━━━━━━━━━━━━━\u001b[0m\u001b[37m\u001b[0m \u001b[1m0s\u001b[0m 91ms/step - AUC: 0.6100 - accuracy: 0.4623 - loss: 0.6652 - val_AUC: 0.4468 - val_accuracy: 0.7143 - val_loss: 0.8456 - learning_rate: 1.0000e-06\n",
            "Epoch 55/100\n",
            "\u001b[1m3/3\u001b[0m \u001b[32m━━━━━━━━━━━━━━━━━━━━\u001b[0m\u001b[37m\u001b[0m \u001b[1m0s\u001b[0m 58ms/step - AUC: 0.5830 - accuracy: 0.4497 - loss: 0.6774 - val_AUC: 0.4491 - val_accuracy: 0.7143 - val_loss: 0.8457 - learning_rate: 1.0000e-06\n",
            "Epoch 56/100\n",
            "\u001b[1m3/3\u001b[0m \u001b[32m━━━━━━━━━━━━━━━━━━━━\u001b[0m\u001b[37m\u001b[0m \u001b[1m0s\u001b[0m 59ms/step - AUC: 0.5849 - accuracy: 0.3887 - loss: 0.6718 - val_AUC: 0.4479 - val_accuracy: 0.7143 - val_loss: 0.8457 - learning_rate: 1.0000e-06\n",
            "Epoch 57/100\n",
            "\u001b[1m1/3\u001b[0m \u001b[32m━━━━━━\u001b[0m\u001b[37m━━━━━━━━━━━━━━\u001b[0m \u001b[1m0s\u001b[0m 44ms/step - AUC: 0.5756 - accuracy: 0.4219 - loss: 0.6662"
          ]
        },
        {
          "name": "stderr",
          "output_type": "stream",
          "text": [
            "WARNING:absl:You are saving your model as an HDF5 file via `model.save()` or `keras.saving.save_model(model)`. This file format is considered legacy. We recommend using instead the native Keras format, e.g. `model.save('my_model.keras')` or `keras.saving.save_model(model, 'my_model.keras')`. \n"
          ]
        },
        {
          "name": "stdout",
          "output_type": "stream",
          "text": [
            "\u001b[1m3/3\u001b[0m \u001b[32m━━━━━━━━━━━━━━━━━━━━\u001b[0m\u001b[37m\u001b[0m \u001b[1m0s\u001b[0m 90ms/step - AUC: 0.5599 - accuracy: 0.3907 - loss: 0.6893 - val_AUC: 0.4514 - val_accuracy: 0.7143 - val_loss: 0.8439 - learning_rate: 1.0000e-06\n",
            "Epoch 58/100\n",
            "\u001b[1m1/3\u001b[0m \u001b[32m━━━━━━\u001b[0m\u001b[37m━━━━━━━━━━━━━━\u001b[0m \u001b[1m0s\u001b[0m 53ms/step - AUC: 0.5697 - accuracy: 0.2969 - loss: 0.6788"
          ]
        },
        {
          "name": "stderr",
          "output_type": "stream",
          "text": [
            "WARNING:absl:You are saving your model as an HDF5 file via `model.save()` or `keras.saving.save_model(model)`. This file format is considered legacy. We recommend using instead the native Keras format, e.g. `model.save('my_model.keras')` or `keras.saving.save_model(model, 'my_model.keras')`. \n"
          ]
        },
        {
          "name": "stdout",
          "output_type": "stream",
          "text": [
            "\u001b[1m3/3\u001b[0m \u001b[32m━━━━━━━━━━━━━━━━━━━━\u001b[0m\u001b[37m\u001b[0m \u001b[1m0s\u001b[0m 92ms/step - AUC: 0.5894 - accuracy: 0.3280 - loss: 0.6650 - val_AUC: 0.4514 - val_accuracy: 0.7143 - val_loss: 0.8433 - learning_rate: 1.0000e-06\n",
            "Epoch 59/100\n",
            "\u001b[1m1/3\u001b[0m \u001b[32m━━━━━━\u001b[0m\u001b[37m━━━━━━━━━━━━━━\u001b[0m \u001b[1m0s\u001b[0m 146ms/step - AUC: 0.5606 - accuracy: 0.5312 - loss: 0.7200"
          ]
        },
        {
          "name": "stderr",
          "output_type": "stream",
          "text": [
            "WARNING:absl:You are saving your model as an HDF5 file via `model.save()` or `keras.saving.save_model(model)`. This file format is considered legacy. We recommend using instead the native Keras format, e.g. `model.save('my_model.keras')` or `keras.saving.save_model(model, 'my_model.keras')`. \n"
          ]
        },
        {
          "name": "stdout",
          "output_type": "stream",
          "text": [
            "\u001b[1m3/3\u001b[0m \u001b[32m━━━━━━━━━━━━━━━━━━━━\u001b[0m\u001b[37m\u001b[0m \u001b[1m0s\u001b[0m 91ms/step - AUC: 0.5708 - accuracy: 0.4892 - loss: 0.7031 - val_AUC: 0.4502 - val_accuracy: 0.7143 - val_loss: 0.8422 - learning_rate: 1.0000e-06\n",
            "Epoch 60/100\n",
            "\u001b[1m3/3\u001b[0m \u001b[32m━━━━━━━━━━━━━━━━━━━━\u001b[0m\u001b[37m\u001b[0m \u001b[1m0s\u001b[0m 59ms/step - AUC: 0.5986 - accuracy: 0.4314 - loss: 0.6626 - val_AUC: 0.4514 - val_accuracy: 0.7143 - val_loss: 0.8423 - learning_rate: 1.0000e-06\n",
            "Epoch 61/100\n",
            "\u001b[1m1/3\u001b[0m \u001b[32m━━━━━━\u001b[0m\u001b[37m━━━━━━━━━━━━━━\u001b[0m \u001b[1m0s\u001b[0m 43ms/step - AUC: 0.6225 - accuracy: 0.4531 - loss: 0.6242"
          ]
        },
        {
          "name": "stderr",
          "output_type": "stream",
          "text": [
            "WARNING:absl:You are saving your model as an HDF5 file via `model.save()` or `keras.saving.save_model(model)`. This file format is considered legacy. We recommend using instead the native Keras format, e.g. `model.save('my_model.keras')` or `keras.saving.save_model(model, 'my_model.keras')`. \n"
          ]
        },
        {
          "name": "stdout",
          "output_type": "stream",
          "text": [
            "\u001b[1m3/3\u001b[0m \u001b[32m━━━━━━━━━━━━━━━━━━━━\u001b[0m\u001b[37m\u001b[0m \u001b[1m0s\u001b[0m 90ms/step - AUC: 0.5983 - accuracy: 0.4119 - loss: 0.6509 - val_AUC: 0.4537 - val_accuracy: 0.7143 - val_loss: 0.8422 - learning_rate: 1.0000e-06\n",
            "Epoch 62/100\n",
            "\u001b[1m1/3\u001b[0m \u001b[32m━━━━━━\u001b[0m\u001b[37m━━━━━━━━━━━━━━\u001b[0m \u001b[1m0s\u001b[0m 46ms/step - AUC: 0.5978 - accuracy: 0.4531 - loss: 0.6511"
          ]
        },
        {
          "name": "stderr",
          "output_type": "stream",
          "text": [
            "WARNING:absl:You are saving your model as an HDF5 file via `model.save()` or `keras.saving.save_model(model)`. This file format is considered legacy. We recommend using instead the native Keras format, e.g. `model.save('my_model.keras')` or `keras.saving.save_model(model, 'my_model.keras')`. \n"
          ]
        },
        {
          "name": "stdout",
          "output_type": "stream",
          "text": [
            "\u001b[1m3/3\u001b[0m \u001b[32m━━━━━━━━━━━━━━━━━━━━\u001b[0m\u001b[37m\u001b[0m \u001b[1m0s\u001b[0m 89ms/step - AUC: 0.5825 - accuracy: 0.4584 - loss: 0.6662 - val_AUC: 0.4491 - val_accuracy: 0.7143 - val_loss: 0.8418 - learning_rate: 1.0000e-06\n",
            "Epoch 63/100\n",
            "\u001b[1m1/3\u001b[0m \u001b[32m━━━━━━\u001b[0m\u001b[37m━━━━━━━━━━━━━━\u001b[0m \u001b[1m0s\u001b[0m 50ms/step - AUC: 0.6508 - accuracy: 0.4688 - loss: 0.6084"
          ]
        },
        {
          "name": "stderr",
          "output_type": "stream",
          "text": [
            "WARNING:absl:You are saving your model as an HDF5 file via `model.save()` or `keras.saving.save_model(model)`. This file format is considered legacy. We recommend using instead the native Keras format, e.g. `model.save('my_model.keras')` or `keras.saving.save_model(model, 'my_model.keras')`. \n"
          ]
        },
        {
          "name": "stdout",
          "output_type": "stream",
          "text": [
            "\u001b[1m3/3\u001b[0m \u001b[32m━━━━━━━━━━━━━━━━━━━━\u001b[0m\u001b[37m\u001b[0m \u001b[1m0s\u001b[0m 138ms/step - AUC: 0.6172 - accuracy: 0.4377 - loss: 0.6392 - val_AUC: 0.4549 - val_accuracy: 0.7143 - val_loss: 0.8411 - learning_rate: 1.0000e-06\n",
            "Epoch 64/100\n",
            "\u001b[1m3/3\u001b[0m \u001b[32m━━━━━━━━━━━━━━━━━━━━\u001b[0m\u001b[37m\u001b[0m \u001b[1m0s\u001b[0m 59ms/step - AUC: 0.5989 - accuracy: 0.4092 - loss: 0.6698 - val_AUC: 0.4537 - val_accuracy: 0.7143 - val_loss: 0.8412 - learning_rate: 1.0000e-06\n",
            "Epoch 65/100\n",
            "\u001b[1m1/3\u001b[0m \u001b[32m━━━━━━\u001b[0m\u001b[37m━━━━━━━━━━━━━━\u001b[0m \u001b[1m0s\u001b[0m 43ms/step - AUC: 0.6408 - accuracy: 0.4688 - loss: 0.6333"
          ]
        },
        {
          "name": "stderr",
          "output_type": "stream",
          "text": [
            "WARNING:absl:You are saving your model as an HDF5 file via `model.save()` or `keras.saving.save_model(model)`. This file format is considered legacy. We recommend using instead the native Keras format, e.g. `model.save('my_model.keras')` or `keras.saving.save_model(model, 'my_model.keras')`. \n"
          ]
        },
        {
          "name": "stdout",
          "output_type": "stream",
          "text": [
            "\u001b[1m3/3\u001b[0m \u001b[32m━━━━━━━━━━━━━━━━━━━━\u001b[0m\u001b[37m\u001b[0m \u001b[1m0s\u001b[0m 98ms/step - AUC: 0.6009 - accuracy: 0.4324 - loss: 0.6681 - val_AUC: 0.4549 - val_accuracy: 0.7143 - val_loss: 0.8408 - learning_rate: 1.0000e-06\n",
            "Epoch 66/100\n",
            "\u001b[1m3/3\u001b[0m \u001b[32m━━━━━━━━━━━━━━━━━━━━\u001b[0m\u001b[37m\u001b[0m \u001b[1m0s\u001b[0m 59ms/step - AUC: 0.5776 - accuracy: 0.4769 - loss: 0.6764 - val_AUC: 0.4549 - val_accuracy: 0.7143 - val_loss: 0.8409 - learning_rate: 1.0000e-06\n",
            "Epoch 67/100\n",
            "\u001b[1m1/3\u001b[0m \u001b[32m━━━━━━\u001b[0m\u001b[37m━━━━━━━━━━━━━━\u001b[0m \u001b[1m0s\u001b[0m 45ms/step - AUC: 0.6212 - accuracy: 0.4844 - loss: 0.6680"
          ]
        },
        {
          "name": "stderr",
          "output_type": "stream",
          "text": [
            "WARNING:absl:You are saving your model as an HDF5 file via `model.save()` or `keras.saving.save_model(model)`. This file format is considered legacy. We recommend using instead the native Keras format, e.g. `model.save('my_model.keras')` or `keras.saving.save_model(model, 'my_model.keras')`. \n"
          ]
        },
        {
          "name": "stdout",
          "output_type": "stream",
          "text": [
            "\u001b[1m3/3\u001b[0m \u001b[32m━━━━━━━━━━━━━━━━━━━━\u001b[0m\u001b[37m\u001b[0m \u001b[1m0s\u001b[0m 97ms/step - AUC: 0.6154 - accuracy: 0.4626 - loss: 0.6600 - val_AUC: 0.4537 - val_accuracy: 0.7143 - val_loss: 0.8397 - learning_rate: 1.0000e-06\n",
            "Epoch 68/100\n",
            "\u001b[1m1/3\u001b[0m \u001b[32m━━━━━━\u001b[0m\u001b[37m━━━━━━━━━━━━━━\u001b[0m \u001b[1m0s\u001b[0m 49ms/step - AUC: 0.5719 - accuracy: 0.3906 - loss: 0.6823"
          ]
        },
        {
          "name": "stderr",
          "output_type": "stream",
          "text": [
            "WARNING:absl:You are saving your model as an HDF5 file via `model.save()` or `keras.saving.save_model(model)`. This file format is considered legacy. We recommend using instead the native Keras format, e.g. `model.save('my_model.keras')` or `keras.saving.save_model(model, 'my_model.keras')`. \n"
          ]
        },
        {
          "name": "stdout",
          "output_type": "stream",
          "text": [
            "\u001b[1m3/3\u001b[0m \u001b[32m━━━━━━━━━━━━━━━━━━━━\u001b[0m\u001b[37m\u001b[0m \u001b[1m0s\u001b[0m 91ms/step - AUC: 0.5988 - accuracy: 0.4221 - loss: 0.6622 - val_AUC: 0.4525 - val_accuracy: 0.7143 - val_loss: 0.8396 - learning_rate: 1.0000e-06\n",
            "Epoch 69/100\n",
            "\u001b[1m1/3\u001b[0m \u001b[32m━━━━━━\u001b[0m\u001b[37m━━━━━━━━━━━━━━\u001b[0m \u001b[1m0s\u001b[0m 138ms/step - AUC: 0.5988 - accuracy: 0.4375 - loss: 0.6808"
          ]
        },
        {
          "name": "stderr",
          "output_type": "stream",
          "text": [
            "WARNING:absl:You are saving your model as an HDF5 file via `model.save()` or `keras.saving.save_model(model)`. This file format is considered legacy. We recommend using instead the native Keras format, e.g. `model.save('my_model.keras')` or `keras.saving.save_model(model, 'my_model.keras')`. \n"
          ]
        },
        {
          "name": "stdout",
          "output_type": "stream",
          "text": [
            "\u001b[1m3/3\u001b[0m \u001b[32m━━━━━━━━━━━━━━━━━━━━\u001b[0m\u001b[37m\u001b[0m \u001b[1m0s\u001b[0m 90ms/step - AUC: 0.5932 - accuracy: 0.4265 - loss: 0.6822 - val_AUC: 0.4525 - val_accuracy: 0.7143 - val_loss: 0.8387 - learning_rate: 1.0000e-06\n",
            "Epoch 70/100\n",
            "\u001b[1m1/3\u001b[0m \u001b[32m━━━━━━\u001b[0m\u001b[37m━━━━━━━━━━━━━━\u001b[0m \u001b[1m0s\u001b[0m 49ms/step - AUC: 0.6943 - accuracy: 0.4844 - loss: 0.6005"
          ]
        },
        {
          "name": "stderr",
          "output_type": "stream",
          "text": [
            "WARNING:absl:You are saving your model as an HDF5 file via `model.save()` or `keras.saving.save_model(model)`. This file format is considered legacy. We recommend using instead the native Keras format, e.g. `model.save('my_model.keras')` or `keras.saving.save_model(model, 'my_model.keras')`. \n"
          ]
        },
        {
          "name": "stdout",
          "output_type": "stream",
          "text": [
            "\u001b[1m3/3\u001b[0m \u001b[32m━━━━━━━━━━━━━━━━━━━━\u001b[0m\u001b[37m\u001b[0m \u001b[1m0s\u001b[0m 89ms/step - AUC: 0.6333 - accuracy: 0.4270 - loss: 0.6340 - val_AUC: 0.4549 - val_accuracy: 0.7143 - val_loss: 0.8383 - learning_rate: 1.0000e-06\n",
            "Epoch 71/100\n",
            "\u001b[1m3/3\u001b[0m \u001b[32m━━━━━━━━━━━━━━━━━━━━\u001b[0m\u001b[37m\u001b[0m \u001b[1m0s\u001b[0m 61ms/step - AUC: 0.6216 - accuracy: 0.4360 - loss: 0.6538 - val_AUC: 0.4537 - val_accuracy: 0.7143 - val_loss: 0.8391 - learning_rate: 1.0000e-06\n",
            "Epoch 72/100\n",
            "\u001b[1m3/3\u001b[0m \u001b[32m━━━━━━━━━━━━━━━━━━━━\u001b[0m\u001b[37m\u001b[0m \u001b[1m0s\u001b[0m 58ms/step - AUC: 0.5746 - accuracy: 0.4431 - loss: 0.6777 - val_AUC: 0.4537 - val_accuracy: 0.7143 - val_loss: 0.8385 - learning_rate: 1.0000e-06\n",
            "Epoch 73/100\n",
            "\u001b[1m1/3\u001b[0m \u001b[32m━━━━━━\u001b[0m\u001b[37m━━━━━━━━━━━━━━\u001b[0m \u001b[1m0s\u001b[0m 46ms/step - AUC: 0.5948 - accuracy: 0.4688 - loss: 0.6591"
          ]
        },
        {
          "name": "stderr",
          "output_type": "stream",
          "text": [
            "WARNING:absl:You are saving your model as an HDF5 file via `model.save()` or `keras.saving.save_model(model)`. This file format is considered legacy. We recommend using instead the native Keras format, e.g. `model.save('my_model.keras')` or `keras.saving.save_model(model, 'my_model.keras')`. \n"
          ]
        },
        {
          "name": "stdout",
          "output_type": "stream",
          "text": [
            "\u001b[1m3/3\u001b[0m \u001b[32m━━━━━━━━━━━━━━━━━━━━\u001b[0m\u001b[37m\u001b[0m \u001b[1m0s\u001b[0m 87ms/step - AUC: 0.5736 - accuracy: 0.4587 - loss: 0.6863 - val_AUC: 0.4549 - val_accuracy: 0.7143 - val_loss: 0.8379 - learning_rate: 1.0000e-06\n",
            "Epoch 74/100\n",
            "\u001b[1m3/3\u001b[0m \u001b[32m━━━━━━━━━━━━━━━━━━━━\u001b[0m\u001b[37m\u001b[0m \u001b[1m0s\u001b[0m 57ms/step - AUC: 0.5995 - accuracy: 0.4131 - loss: 0.6618 - val_AUC: 0.4537 - val_accuracy: 0.7143 - val_loss: 0.8389 - learning_rate: 1.0000e-06\n",
            "Epoch 75/100\n",
            "\u001b[1m3/3\u001b[0m \u001b[32m━━━━━━━━━━━━━━━━━━━━\u001b[0m\u001b[37m\u001b[0m \u001b[1m0s\u001b[0m 63ms/step - AUC: 0.5662 - accuracy: 0.3848 - loss: 0.7002 - val_AUC: 0.4537 - val_accuracy: 0.7143 - val_loss: 0.8395 - learning_rate: 1.0000e-06\n",
            "Epoch 76/100\n",
            "\u001b[1m1/3\u001b[0m \u001b[32m━━━━━━\u001b[0m\u001b[37m━━━━━━━━━━━━━━\u001b[0m \u001b[1m0s\u001b[0m 127ms/step - AUC: 0.5726 - accuracy: 0.4062 - loss: 0.6880\n",
            "Epoch 76: ReduceLROnPlateau reducing learning rate to 4.999999987376214e-07.\n",
            "\u001b[1m3/3\u001b[0m \u001b[32m━━━━━━━━━━━━━━━━━━━━\u001b[0m\u001b[37m\u001b[0m \u001b[1m0s\u001b[0m 70ms/step - AUC: 0.5778 - accuracy: 0.4075 - loss: 0.6791 - val_AUC: 0.4560 - val_accuracy: 0.7143 - val_loss: 0.8395 - learning_rate: 1.0000e-06\n",
            "Epoch 77/100\n",
            "\u001b[1m3/3\u001b[0m \u001b[32m━━━━━━━━━━━━━━━━━━━━\u001b[0m\u001b[37m\u001b[0m \u001b[1m0s\u001b[0m 59ms/step - AUC: 0.6124 - accuracy: 0.4168 - loss: 0.6564 - val_AUC: 0.4549 - val_accuracy: 0.7143 - val_loss: 0.8394 - learning_rate: 5.0000e-07\n",
            "Epoch 78/100\n",
            "\u001b[1m3/3\u001b[0m \u001b[32m━━━━━━━━━━━━━━━━━━━━\u001b[0m\u001b[37m\u001b[0m \u001b[1m0s\u001b[0m 59ms/step - AUC: 0.6266 - accuracy: 0.4601 - loss: 0.6337 - val_AUC: 0.4560 - val_accuracy: 0.7143 - val_loss: 0.8384 - learning_rate: 5.0000e-07\n",
            "Epoch 79/100\n",
            "\u001b[1m1/3\u001b[0m \u001b[32m━━━━━━\u001b[0m\u001b[37m━━━━━━━━━━━━━━\u001b[0m \u001b[1m0s\u001b[0m 42ms/step - AUC: 0.5924 - accuracy: 0.3750 - loss: 0.6703"
          ]
        },
        {
          "name": "stderr",
          "output_type": "stream",
          "text": [
            "WARNING:absl:You are saving your model as an HDF5 file via `model.save()` or `keras.saving.save_model(model)`. This file format is considered legacy. We recommend using instead the native Keras format, e.g. `model.save('my_model.keras')` or `keras.saving.save_model(model, 'my_model.keras')`. \n"
          ]
        },
        {
          "name": "stdout",
          "output_type": "stream",
          "text": [
            "\u001b[1m3/3\u001b[0m \u001b[32m━━━━━━━━━━━━━━━━━━━━\u001b[0m\u001b[37m\u001b[0m \u001b[1m0s\u001b[0m 96ms/step - AUC: 0.5712 - accuracy: 0.3510 - loss: 0.6756 - val_AUC: 0.4560 - val_accuracy: 0.7143 - val_loss: 0.8370 - learning_rate: 5.0000e-07\n",
            "Epoch 80/100\n",
            "\u001b[1m1/3\u001b[0m \u001b[32m━━━━━━\u001b[0m\u001b[37m━━━━━━━━━━━━━━\u001b[0m \u001b[1m0s\u001b[0m 51ms/step - AUC: 0.5924 - accuracy: 0.4531 - loss: 0.6556"
          ]
        },
        {
          "name": "stderr",
          "output_type": "stream",
          "text": [
            "WARNING:absl:You are saving your model as an HDF5 file via `model.save()` or `keras.saving.save_model(model)`. This file format is considered legacy. We recommend using instead the native Keras format, e.g. `model.save('my_model.keras')` or `keras.saving.save_model(model, 'my_model.keras')`. \n"
          ]
        },
        {
          "name": "stdout",
          "output_type": "stream",
          "text": [
            "\u001b[1m3/3\u001b[0m \u001b[32m━━━━━━━━━━━━━━━━━━━━\u001b[0m\u001b[37m\u001b[0m \u001b[1m0s\u001b[0m 130ms/step - AUC: 0.6062 - accuracy: 0.4736 - loss: 0.6587 - val_AUC: 0.4560 - val_accuracy: 0.7143 - val_loss: 0.8367 - learning_rate: 5.0000e-07\n",
            "Epoch 81/100\n",
            "\u001b[1m3/3\u001b[0m \u001b[32m━━━━━━━━━━━━━━━━━━━━\u001b[0m\u001b[37m\u001b[0m \u001b[1m0s\u001b[0m 60ms/step - AUC: 0.6140 - accuracy: 0.4416 - loss: 0.6731 - val_AUC: 0.4583 - val_accuracy: 0.7143 - val_loss: 0.8368 - learning_rate: 5.0000e-07\n",
            "Epoch 82/100\n",
            "\u001b[1m1/3\u001b[0m \u001b[32m━━━━━━\u001b[0m\u001b[37m━━━━━━━━━━━━━━\u001b[0m \u001b[1m0s\u001b[0m 49ms/step - AUC: 0.5837 - accuracy: 0.4375 - loss: 0.6635"
          ]
        },
        {
          "name": "stderr",
          "output_type": "stream",
          "text": [
            "WARNING:absl:You are saving your model as an HDF5 file via `model.save()` or `keras.saving.save_model(model)`. This file format is considered legacy. We recommend using instead the native Keras format, e.g. `model.save('my_model.keras')` or `keras.saving.save_model(model, 'my_model.keras')`. \n"
          ]
        },
        {
          "name": "stdout",
          "output_type": "stream",
          "text": [
            "\u001b[1m3/3\u001b[0m \u001b[32m━━━━━━━━━━━━━━━━━━━━\u001b[0m\u001b[37m\u001b[0m \u001b[1m0s\u001b[0m 92ms/step - AUC: 0.5809 - accuracy: 0.4173 - loss: 0.6721 - val_AUC: 0.4606 - val_accuracy: 0.7143 - val_loss: 0.8364 - learning_rate: 5.0000e-07\n",
            "Epoch 83/100\n",
            "\u001b[1m1/3\u001b[0m \u001b[32m━━━━━━\u001b[0m\u001b[37m━━━━━━━━━━━━━━\u001b[0m \u001b[1m0s\u001b[0m 45ms/step - AUC: 0.6441 - accuracy: 0.4062 - loss: 0.6427"
          ]
        },
        {
          "name": "stderr",
          "output_type": "stream",
          "text": [
            "WARNING:absl:You are saving your model as an HDF5 file via `model.save()` or `keras.saving.save_model(model)`. This file format is considered legacy. We recommend using instead the native Keras format, e.g. `model.save('my_model.keras')` or `keras.saving.save_model(model, 'my_model.keras')`. \n"
          ]
        },
        {
          "name": "stdout",
          "output_type": "stream",
          "text": [
            "\u001b[1m3/3\u001b[0m \u001b[32m━━━━━━━━━━━━━━━━━━━━\u001b[0m\u001b[37m\u001b[0m \u001b[1m0s\u001b[0m 91ms/step - AUC: 0.6180 - accuracy: 0.3851 - loss: 0.6588 - val_AUC: 0.4606 - val_accuracy: 0.7143 - val_loss: 0.8360 - learning_rate: 5.0000e-07\n",
            "Epoch 84/100\n",
            "\u001b[1m1/3\u001b[0m \u001b[32m━━━━━━\u001b[0m\u001b[37m━━━━━━━━━━━━━━\u001b[0m \u001b[1m0s\u001b[0m 48ms/step - AUC: 0.5766 - accuracy: 0.4844 - loss: 0.6641"
          ]
        },
        {
          "name": "stderr",
          "output_type": "stream",
          "text": [
            "WARNING:absl:You are saving your model as an HDF5 file via `model.save()` or `keras.saving.save_model(model)`. This file format is considered legacy. We recommend using instead the native Keras format, e.g. `model.save('my_model.keras')` or `keras.saving.save_model(model, 'my_model.keras')`. \n"
          ]
        },
        {
          "name": "stdout",
          "output_type": "stream",
          "text": [
            "\u001b[1m3/3\u001b[0m \u001b[32m━━━━━━━━━━━━━━━━━━━━\u001b[0m\u001b[37m\u001b[0m \u001b[1m0s\u001b[0m 94ms/step - AUC: 0.5847 - accuracy: 0.4867 - loss: 0.6754 - val_AUC: 0.4618 - val_accuracy: 0.7143 - val_loss: 0.8360 - learning_rate: 5.0000e-07\n",
            "Epoch 85/100\n",
            "\u001b[1m3/3\u001b[0m \u001b[32m━━━━━━━━━━━━━━━━━━━━\u001b[0m\u001b[37m\u001b[0m \u001b[1m0s\u001b[0m 71ms/step - AUC: 0.5842 - accuracy: 0.4475 - loss: 0.6921 - val_AUC: 0.4618 - val_accuracy: 0.7143 - val_loss: 0.8364 - learning_rate: 5.0000e-07\n",
            "Epoch 86/100\n",
            "\u001b[1m1/3\u001b[0m \u001b[32m━━━━━━\u001b[0m\u001b[37m━━━━━━━━━━━━━━\u001b[0m \u001b[1m0s\u001b[0m 45ms/step - AUC: 0.6095 - accuracy: 0.3906 - loss: 0.6519\n",
            "Epoch 86: ReduceLROnPlateau reducing learning rate to 2.499999993688107e-07.\n",
            "\u001b[1m3/3\u001b[0m \u001b[32m━━━━━━━━━━━━━━━━━━━━\u001b[0m\u001b[37m\u001b[0m \u001b[1m0s\u001b[0m 60ms/step - AUC: 0.6067 - accuracy: 0.3943 - loss: 0.6642 - val_AUC: 0.4606 - val_accuracy: 0.7143 - val_loss: 0.8375 - learning_rate: 5.0000e-07\n",
            "Epoch 87/100\n",
            "\u001b[1m3/3\u001b[0m \u001b[32m━━━━━━━━━━━━━━━━━━━━\u001b[0m\u001b[37m\u001b[0m \u001b[1m0s\u001b[0m 61ms/step - AUC: 0.6045 - accuracy: 0.4353 - loss: 0.6536 - val_AUC: 0.4641 - val_accuracy: 0.7143 - val_loss: 0.8362 - learning_rate: 2.5000e-07\n",
            "Epoch 88/100\n",
            "\u001b[1m1/3\u001b[0m \u001b[32m━━━━━━\u001b[0m\u001b[37m━━━━━━━━━━━━━━\u001b[0m \u001b[1m0s\u001b[0m 43ms/step - AUC: 0.5672 - accuracy: 0.3906 - loss: 0.6846"
          ]
        },
        {
          "name": "stderr",
          "output_type": "stream",
          "text": [
            "WARNING:absl:You are saving your model as an HDF5 file via `model.save()` or `keras.saving.save_model(model)`. This file format is considered legacy. We recommend using instead the native Keras format, e.g. `model.save('my_model.keras')` or `keras.saving.save_model(model, 'my_model.keras')`. \n"
          ]
        },
        {
          "name": "stdout",
          "output_type": "stream",
          "text": [
            "\u001b[1m3/3\u001b[0m \u001b[32m━━━━━━━━━━━━━━━━━━━━\u001b[0m\u001b[37m\u001b[0m \u001b[1m0s\u001b[0m 89ms/step - AUC: 0.5814 - accuracy: 0.4204 - loss: 0.6849 - val_AUC: 0.4630 - val_accuracy: 0.7143 - val_loss: 0.8357 - learning_rate: 2.5000e-07\n",
            "Epoch 89/100\n",
            "\u001b[1m1/3\u001b[0m \u001b[32m━━━━━━\u001b[0m\u001b[37m━━━━━━━━━━━━━━\u001b[0m \u001b[1m0s\u001b[0m 48ms/step - AUC: 0.5406 - accuracy: 0.4688 - loss: 0.7027"
          ]
        },
        {
          "name": "stderr",
          "output_type": "stream",
          "text": [
            "WARNING:absl:You are saving your model as an HDF5 file via `model.save()` or `keras.saving.save_model(model)`. This file format is considered legacy. We recommend using instead the native Keras format, e.g. `model.save('my_model.keras')` or `keras.saving.save_model(model, 'my_model.keras')`. \n"
          ]
        },
        {
          "name": "stdout",
          "output_type": "stream",
          "text": [
            "\u001b[1m3/3\u001b[0m \u001b[32m━━━━━━━━━━━━━━━━━━━━\u001b[0m\u001b[37m\u001b[0m \u001b[1m0s\u001b[0m 90ms/step - AUC: 0.5811 - accuracy: 0.4550 - loss: 0.6743 - val_AUC: 0.4653 - val_accuracy: 0.7143 - val_loss: 0.8346 - learning_rate: 2.5000e-07\n",
            "Epoch 90/100\n",
            "\u001b[1m1/3\u001b[0m \u001b[32m━━━━━━\u001b[0m\u001b[37m━━━━━━━━━━━━━━\u001b[0m \u001b[1m0s\u001b[0m 48ms/step - AUC: 0.5546 - accuracy: 0.4219 - loss: 0.6817"
          ]
        },
        {
          "name": "stderr",
          "output_type": "stream",
          "text": [
            "WARNING:absl:You are saving your model as an HDF5 file via `model.save()` or `keras.saving.save_model(model)`. This file format is considered legacy. We recommend using instead the native Keras format, e.g. `model.save('my_model.keras')` or `keras.saving.save_model(model, 'my_model.keras')`. \n"
          ]
        },
        {
          "name": "stdout",
          "output_type": "stream",
          "text": [
            "\u001b[1m3/3\u001b[0m \u001b[32m━━━━━━━━━━━━━━━━━━━━\u001b[0m\u001b[37m\u001b[0m \u001b[1m0s\u001b[0m 90ms/step - AUC: 0.5910 - accuracy: 0.4265 - loss: 0.6656 - val_AUC: 0.4641 - val_accuracy: 0.7143 - val_loss: 0.8346 - learning_rate: 2.5000e-07\n",
            "Epoch 91/100\n",
            "\u001b[1m1/3\u001b[0m \u001b[32m━━━━━━\u001b[0m\u001b[37m━━━━━━━━━━━━━━\u001b[0m \u001b[1m0s\u001b[0m 126ms/step - AUC: 0.6048 - accuracy: 0.3906 - loss: 0.6565"
          ]
        },
        {
          "name": "stderr",
          "output_type": "stream",
          "text": [
            "WARNING:absl:You are saving your model as an HDF5 file via `model.save()` or `keras.saving.save_model(model)`. This file format is considered legacy. We recommend using instead the native Keras format, e.g. `model.save('my_model.keras')` or `keras.saving.save_model(model, 'my_model.keras')`. \n"
          ]
        },
        {
          "name": "stdout",
          "output_type": "stream",
          "text": [
            "\u001b[1m3/3\u001b[0m \u001b[32m━━━━━━━━━━━━━━━━━━━━\u001b[0m\u001b[37m\u001b[0m \u001b[1m0s\u001b[0m 95ms/step - AUC: 0.5889 - accuracy: 0.3907 - loss: 0.6902 - val_AUC: 0.4653 - val_accuracy: 0.7143 - val_loss: 0.8344 - learning_rate: 2.5000e-07\n",
            "Epoch 92/100\n",
            "\u001b[1m3/3\u001b[0m \u001b[32m━━━━━━━━━━━━━━━━━━━━\u001b[0m\u001b[37m\u001b[0m \u001b[1m0s\u001b[0m 62ms/step - AUC: 0.5928 - accuracy: 0.3926 - loss: 0.6606 - val_AUC: 0.4653 - val_accuracy: 0.7143 - val_loss: 0.8353 - learning_rate: 2.5000e-07\n",
            "Epoch 93/100\n",
            "\u001b[1m3/3\u001b[0m \u001b[32m━━━━━━━━━━━━━━━━━━━━\u001b[0m\u001b[37m\u001b[0m \u001b[1m0s\u001b[0m 68ms/step - AUC: 0.6123 - accuracy: 0.4826 - loss: 0.6674 - val_AUC: 0.4641 - val_accuracy: 0.7143 - val_loss: 0.8357 - learning_rate: 2.5000e-07\n",
            "Epoch 94/100\n",
            "\u001b[1m1/3\u001b[0m \u001b[32m━━━━━━\u001b[0m\u001b[37m━━━━━━━━━━━━━━\u001b[0m \u001b[1m0s\u001b[0m 44ms/step - AUC: 0.6091 - accuracy: 0.4219 - loss: 0.6815\n",
            "Epoch 94: ReduceLROnPlateau reducing learning rate to 1.2499999968440534e-07.\n",
            "\u001b[1m3/3\u001b[0m \u001b[32m━━━━━━━━━━━━━━━━━━━━\u001b[0m\u001b[37m\u001b[0m \u001b[1m0s\u001b[0m 60ms/step - AUC: 0.5915 - accuracy: 0.4114 - loss: 0.6841 - val_AUC: 0.4641 - val_accuracy: 0.7143 - val_loss: 0.8350 - learning_rate: 2.5000e-07\n",
            "Epoch 95/100\n",
            "\u001b[1m3/3\u001b[0m \u001b[32m━━━━━━━━━━━━━━━━━━━━\u001b[0m\u001b[37m\u001b[0m \u001b[1m0s\u001b[0m 60ms/step - AUC: 0.5876 - accuracy: 0.4526 - loss: 0.6729 - val_AUC: 0.4653 - val_accuracy: 0.7143 - val_loss: 0.8353 - learning_rate: 1.2500e-07\n",
            "Epoch 96/100\n",
            "\u001b[1m3/3\u001b[0m \u001b[32m━━━━━━━━━━━━━━━━━━━━\u001b[0m\u001b[37m\u001b[0m \u001b[1m0s\u001b[0m 58ms/step - AUC: 0.5920 - accuracy: 0.4338 - loss: 0.6717 - val_AUC: 0.4641 - val_accuracy: 0.7143 - val_loss: 0.8356 - learning_rate: 1.2500e-07\n",
            "Epoch 97/100\n",
            "\u001b[1m1/3\u001b[0m \u001b[32m━━━━━━\u001b[0m\u001b[37m━━━━━━━━━━━━━━\u001b[0m \u001b[1m0s\u001b[0m 44ms/step - AUC: 0.6457 - accuracy: 0.5000 - loss: 0.6396\n",
            "Epoch 97: ReduceLROnPlateau reducing learning rate to 6.249999984220267e-08.\n",
            "\u001b[1m3/3\u001b[0m \u001b[32m━━━━━━━━━━━━━━━━━━━━\u001b[0m\u001b[37m\u001b[0m \u001b[1m0s\u001b[0m 63ms/step - AUC: 0.6271 - accuracy: 0.4573 - loss: 0.6505 - val_AUC: 0.4630 - val_accuracy: 0.7143 - val_loss: 0.8352 - learning_rate: 1.2500e-07\n"
          ]
        }
      ],
      "source": [
        "model_file = os.path.join(MODEL_PATH, \"cnn_best_model_on_crpwarner_opcode_freq.h5\")\n",
        "\n",
        "callbacks = [\n",
        "    EarlyStopping(monitor='val_loss', patience=6, restore_best_weights=True),\n",
        "    ReduceLROnPlateau(monitor='val_loss', factor=0.5, patience=3, verbose=1),\n",
        "    ModelCheckpoint(model_file, save_best_only=True)\n",
        "]\n",
        "\n",
        "history = model.fit(\n",
        "    X_train, y_train,\n",
        "    validation_data=(X_test, y_test),\n",
        "    epochs=100,\n",
        "    batch_size=64,\n",
        "    callbacks=callbacks,\n",
        "    verbose=1\n",
        ")\n"
      ]
    },
    {
      "cell_type": "code",
      "execution_count": 8,
      "id": "b3a35451",
      "metadata": {},
      "outputs": [
        {
          "name": "stderr",
          "output_type": "stream",
          "text": [
            "WARNING:absl:Compiled the loaded model, but the compiled metrics have yet to be built. `model.compile_metrics` will be empty until you train or evaluate the model.\n"
          ]
        }
      ],
      "source": [
        "mode = load_model(model_file)"
      ]
    },
    {
      "cell_type": "code",
      "execution_count": 9,
      "id": "839f038e",
      "metadata": {},
      "outputs": [
        {
          "data": {
            "image/png": "[encoded data removed]",
            "text/plain": [
              "<Figure size 640x480 with 1 Axes>"
            ]
          },
          "metadata": {},
          "output_type": "display_data"
        }
      ],
      "source": [
        "plt.plot(history.history['loss'], label='Train Loss')\n",
        "plt.plot(history.history['val_loss'], label='Val Loss')\n",
        "plt.legend()\n",
        "plt.title(\"Training vs Validation Loss\")\n",
        "plt.xlabel(\"Epochs\")\n",
        "plt.ylabel(\"Loss\")\n",
        "plt.show()\n"
      ]
    },
    {
      "cell_type": "code",
      "execution_count": 10,
      "id": "a53d1779",
      "metadata": {},
      "outputs": [
        {
          "name": "stdout",
          "output_type": "stream",
          "text": [
            "1/1 - 0s - 62ms/step - AUC: 0.4653 - accuracy: 0.7143 - loss: 0.8344\n",
            "Restored model, accuracy: 71.43%\n"
          ]
        }
      ],
      "source": [
        "loss, acc, auc = model.evaluate(X_test, y_test, verbose=2)\n",
        "print('Restored model, accuracy: {:5.2f}%'.format(100 * acc))"
      ]
    },
    {
      "cell_type": "code",
      "execution_count": 11,
      "id": "17fdbc0c",
      "metadata": {},
      "outputs": [
        {
          "name": "stdout",
          "output_type": "stream",
          "text": [
            "\u001b[1m1/1\u001b[0m \u001b[32m━━━━━━━━━━━━━━━━━━━━\u001b[0m\u001b[37m\u001b[0m \u001b[1m0s\u001b[0m 299ms/step\n",
            "CNN:\n",
            "Accuracy: 0.07142857142857142\n",
            "Precision: 0.3481481481481481\n",
            "Recall: 0.5555555555555555\n",
            "F1 Score: 0.42777777777777776\n",
            "              precision    recall  f1-score   support\n",
            "\n",
            "        mint       0.44      0.67      0.53         6\n",
            "        leak       0.60      1.00      0.75         3\n",
            "       limit       0.00      0.00      0.00         9\n",
            "\n",
            "   micro avg       0.50      0.39      0.44        18\n",
            "   macro avg       0.35      0.56      0.43        18\n",
            "weighted avg       0.25      0.39      0.30        18\n",
            " samples avg       0.43      0.26      0.32        18\n",
            "\n"
          ]
        }
      ],
      "source": [
        "# Predict probabilities\n",
        "y_pred_prob = model.predict(X_test)\n",
        "\n",
        "# Apply threshold to get binary predictions\n",
        "y_pred = (y_pred_prob >= 0.5).astype(int)\n",
        "\n",
        "print(\"CNN:\")\n",
        "print(\"Accuracy:\", accuracy_score(y_test, y_pred))\n",
        "print(\"Precision:\", precision_score(y_test, y_pred, average=\"macro\", zero_division=0))\n",
        "print(\"Recall:\", recall_score(y_test, y_pred, average=\"macro\", zero_division=0))\n",
        "print(\"F1 Score:\", f1_score(y_test, y_pred, average=\"macro\", zero_division=0))\n",
        "\n",
        "print(classification_report(y_test, y_pred, target_names=labels))"
      ]
    },
    {
      "cell_type": "code",
      "execution_count": null,
      "id": "59f44f40",
      "metadata": {},
      "outputs": [],
      "source": []
    }
  ],
  "metadata": {
    "kernelspec": {
      "display_name": "ml-algo",
      "language": "python",
      "name": "python3"
    },
    "language_info": {
      "codemirror_mode": {
        "name": "ipython",
        "version": 3
      },
      "file_extension": ".py",
      "mimetype": "text/x-python",
      "name": "python",
      "nbconvert_exporter": "python",
      "pygments_lexer": "ipython3",
      "version": "3.12.7"
    }
  },
  "nbformat": 4,
  "nbformat_minor": 5
}
