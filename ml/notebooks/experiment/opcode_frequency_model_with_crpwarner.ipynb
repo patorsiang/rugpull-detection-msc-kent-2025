{
 "cells": [
  {
   "cell_type": "markdown",
   "id": "c550f716",
   "metadata": {},
   "source": [
    "# Baseline Random Forest Training on CRPWarner Dataset"
   ]
  },
  {
   "cell_type": "markdown",
   "id": "23f55ad7",
   "metadata": {},
   "source": [
    "## Import Libraries"
   ]
  },
  {
   "cell_type": "code",
   "execution_count": 1,
   "id": "ca1ba9da",
   "metadata": {},
   "outputs": [],
   "source": [
    "import warnings\n",
    "warnings.filterwarnings(\"ignore\")"
   ]
  },
  {
   "cell_type": "code",
   "execution_count": 2,
   "id": "1fdbeeb6",
   "metadata": {},
   "outputs": [],
   "source": [
    "import os\n",
    "import time\n",
    "import json\n",
    "import pandas as pd\n",
    "import numpy as np\n",
    "from pathlib import Path\n",
    "import joblib\n",
    "\n",
    "import optuna\n",
    "from sklearn.metrics import accuracy_score, precision_score, recall_score, f1_score, classification_report\n",
    "from sklearn.ensemble import RandomForestClassifier, GradientBoostingClassifier, AdaBoostClassifier, VotingClassifier\n",
    "from sklearn.linear_model import LogisticRegression\n",
    "from sklearn.svm import SVC\n",
    "from sklearn.neighbors import KNeighborsClassifier\n",
    "from sklearn.naive_bayes import GaussianNB\n",
    "from sklearn.tree import DecisionTreeClassifier\n",
    "from sklearn.neural_network import MLPClassifier\n",
    "from xgboost import XGBClassifier\n",
    "from lightgbm import LGBMClassifier\n",
    "from sklearn.multioutput import MultiOutputClassifier"
   ]
  },
  {
   "cell_type": "markdown",
   "id": "aae177c1",
   "metadata": {},
   "source": [
    "## Const"
   ]
  },
  {
   "cell_type": "code",
   "execution_count": 3,
   "id": "60e77594",
   "metadata": {},
   "outputs": [],
   "source": [
    "PATH = Path.cwd().parents[1]\n",
    "DATA_PATH = os.path.join(PATH, 'data/processed')\n",
    "MODEL_PATH = os.path.join(PATH, 'models')"
   ]
  },
  {
   "cell_type": "code",
   "execution_count": 4,
   "id": "f456e60b",
   "metadata": {},
   "outputs": [],
   "source": [
    "with open(os.path.join(DATA_PATH, 'feature_list.json')) as f:\n",
    "    feature_list = json.load(f)\n",
    "\n",
    "with open(os.path.join(DATA_PATH, 'labels.json')) as f:\n",
    "    labels = json.load(f)"
   ]
  },
  {
   "cell_type": "code",
   "execution_count": 5,
   "id": "ed9621f6",
   "metadata": {},
   "outputs": [],
   "source": [
    "train_df = pd.read_csv(os.path.join(DATA_PATH, 'train.csv'))\n",
    "test_df = pd.read_csv(os.path.join(DATA_PATH, 'test.csv'))\n",
    "\n",
    "X_train = train_df[feature_list]\n",
    "y_train = train_df[labels]\n",
    "\n",
    "X_test = test_df[feature_list]\n",
    "y_test = test_df[labels]"
   ]
  },
  {
   "cell_type": "markdown",
   "id": "0ea8ec0d",
   "metadata": {},
   "source": [
    "## Traditional Machine Learning Models"
   ]
  },
  {
   "cell_type": "code",
   "execution_count": 6,
   "id": "9f923bd2",
   "metadata": {},
   "outputs": [],
   "source": [
    "models = {\n",
    "    \"Logistic Regression\": MultiOutputClassifier(LogisticRegression(max_iter=1000)),\n",
    "    \"Random Forest\": MultiOutputClassifier(RandomForestClassifier()),\n",
    "    \"Gradient Boosting\": MultiOutputClassifier(GradientBoostingClassifier()),\n",
    "    \"AdaBoost\": MultiOutputClassifier(AdaBoostClassifier()),\n",
    "    \"SVM (Linear)\": MultiOutputClassifier(SVC(kernel=\"linear\")),\n",
    "    \"KNN\": MultiOutputClassifier(KNeighborsClassifier()),\n",
    "    \"Naive Bayes\": MultiOutputClassifier(GaussianNB()),\n",
    "    \"MLP Classifier\": MultiOutputClassifier(MLPClassifier(max_iter=300)),\n",
    "    \"XGBoost\": MultiOutputClassifier(XGBClassifier(use_label_encoder=False, eval_metric='logloss')),\n",
    "    \"LightGBM\": MultiOutputClassifier(LGBMClassifier()),\n",
    "    \"DecisionTree\": MultiOutputClassifier(DecisionTreeClassifier())\n",
    "}"
   ]
  },
  {
   "cell_type": "code",
   "execution_count": 7,
   "id": "bb4cad41",
   "metadata": {},
   "outputs": [
    {
     "name": "stdout",
     "output_type": "stream",
     "text": [
      "[LightGBM] [Info] Number of positive: 14, number of negative: 41\n",
      "[LightGBM] [Info] Auto-choosing row-wise multi-threading, the overhead of testing was 0.000095 seconds.\n",
      "You can set `force_row_wise=true` to remove the overhead.\n",
      "And if memory is not enough, you can set `force_col_wise=true`.\n",
      "[LightGBM] [Info] Total Bins 946\n",
      "[LightGBM] [Info] Number of data points in the train set: 55, number of used features: 81\n",
      "[LightGBM] [Info] [binary:BoostFromScore]: pavg=0.254545 -> initscore=-1.074515\n",
      "[LightGBM] [Info] Start training from score -1.074515\n",
      "[LightGBM] [Warning] No further splits with positive gain, best gain: -inf\n",
      "[LightGBM] [Warning] No further splits with positive gain, best gain: -inf\n",
      "[LightGBM] [Warning] No further splits with positive gain, best gain: -inf\n",
      "[LightGBM] [Warning] No further splits with positive gain, best gain: -inf\n",
      "[LightGBM] [Warning] No further splits with positive gain, best gain: -inf\n",
      "[LightGBM] [Warning] No further splits with positive gain, best gain: -inf\n",
      "[LightGBM] [Warning] No further splits with positive gain, best gain: -inf\n",
      "[LightGBM] [Warning] No further splits with positive gain, best gain: -inf\n",
      "[LightGBM] [Warning] No further splits with positive gain, best gain: -inf\n",
      "[LightGBM] [Warning] No further splits with positive gain, best gain: -inf\n",
      "[LightGBM] [Warning] No further splits with positive gain, best gain: -inf\n",
      "[LightGBM] [Warning] No further splits with positive gain, best gain: -inf\n",
      "[LightGBM] [Warning] No further splits with positive gain, best gain: -inf\n",
      "[LightGBM] [Warning] No further splits with positive gain, best gain: -inf\n",
      "[LightGBM] [Warning] No further splits with positive gain, best gain: -inf\n",
      "[LightGBM] [Warning] No further splits with positive gain, best gain: -inf\n",
      "[LightGBM] [Warning] No further splits with positive gain, best gain: -inf\n",
      "[LightGBM] [Warning] No further splits with positive gain, best gain: -inf\n",
      "[LightGBM] [Warning] No further splits with positive gain, best gain: -inf\n",
      "[LightGBM] [Warning] No further splits with positive gain, best gain: -inf\n",
      "[LightGBM] [Warning] No further splits with positive gain, best gain: -inf\n",
      "[LightGBM] [Warning] No further splits with positive gain, best gain: -inf\n",
      "[LightGBM] [Warning] No further splits with positive gain, best gain: -inf\n",
      "[LightGBM] [Warning] No further splits with positive gain, best gain: -inf\n",
      "[LightGBM] [Warning] No further splits with positive gain, best gain: -inf\n",
      "[LightGBM] [Warning] No further splits with positive gain, best gain: -inf\n",
      "[LightGBM] [Warning] No further splits with positive gain, best gain: -inf\n",
      "[LightGBM] [Warning] No further splits with positive gain, best gain: -inf\n",
      "[LightGBM] [Warning] No further splits with positive gain, best gain: -inf\n",
      "[LightGBM] [Warning] No further splits with positive gain, best gain: -inf\n",
      "[LightGBM] [Warning] No further splits with positive gain, best gain: -inf\n",
      "[LightGBM] [Warning] No further splits with positive gain, best gain: -inf\n",
      "[LightGBM] [Warning] No further splits with positive gain, best gain: -inf\n",
      "[LightGBM] [Warning] No further splits with positive gain, best gain: -inf\n",
      "[LightGBM] [Warning] No further splits with positive gain, best gain: -inf\n",
      "[LightGBM] [Warning] No further splits with positive gain, best gain: -inf\n",
      "[LightGBM] [Warning] No further splits with positive gain, best gain: -inf\n",
      "[LightGBM] [Warning] No further splits with positive gain, best gain: -inf\n",
      "[LightGBM] [Warning] No further splits with positive gain, best gain: -inf\n",
      "[LightGBM] [Warning] No further splits with positive gain, best gain: -inf\n",
      "[LightGBM] [Warning] No further splits with positive gain, best gain: -inf\n",
      "[LightGBM] [Warning] No further splits with positive gain, best gain: -inf\n",
      "[LightGBM] [Warning] No further splits with positive gain, best gain: -inf\n",
      "[LightGBM] [Warning] No further splits with positive gain, best gain: -inf\n",
      "[LightGBM] [Warning] No further splits with positive gain, best gain: -inf\n",
      "[LightGBM] [Warning] No further splits with positive gain, best gain: -inf\n",
      "[LightGBM] [Warning] No further splits with positive gain, best gain: -inf\n",
      "[LightGBM] [Warning] No further splits with positive gain, best gain: -inf\n",
      "[LightGBM] [Warning] No further splits with positive gain, best gain: -inf\n",
      "[LightGBM] [Warning] No further splits with positive gain, best gain: -inf\n",
      "[LightGBM] [Warning] No further splits with positive gain, best gain: -inf\n",
      "[LightGBM] [Warning] No further splits with positive gain, best gain: -inf\n",
      "[LightGBM] [Warning] No further splits with positive gain, best gain: -inf\n",
      "[LightGBM] [Warning] No further splits with positive gain, best gain: -inf\n",
      "[LightGBM] [Warning] No further splits with positive gain, best gain: -inf\n",
      "[LightGBM] [Warning] No further splits with positive gain, best gain: -inf\n",
      "[LightGBM] [Warning] No further splits with positive gain, best gain: -inf\n",
      "[LightGBM] [Warning] No further splits with positive gain, best gain: -inf\n",
      "[LightGBM] [Warning] No further splits with positive gain, best gain: -inf\n",
      "[LightGBM] [Warning] No further splits with positive gain, best gain: -inf\n",
      "[LightGBM] [Warning] No further splits with positive gain, best gain: -inf\n",
      "[LightGBM] [Warning] No further splits with positive gain, best gain: -inf\n",
      "[LightGBM] [Warning] No further splits with positive gain, best gain: -inf\n",
      "[LightGBM] [Warning] No further splits with positive gain, best gain: -inf\n",
      "[LightGBM] [Warning] No further splits with positive gain, best gain: -inf\n",
      "[LightGBM] [Warning] No further splits with positive gain, best gain: -inf\n",
      "[LightGBM] [Warning] No further splits with positive gain, best gain: -inf\n",
      "[LightGBM] [Warning] No further splits with positive gain, best gain: -inf\n",
      "[LightGBM] [Warning] No further splits with positive gain, best gain: -inf\n",
      "[LightGBM] [Warning] No further splits with positive gain, best gain: -inf\n",
      "[LightGBM] [Warning] No further splits with positive gain, best gain: -inf\n",
      "[LightGBM] [Warning] No further splits with positive gain, best gain: -inf\n",
      "[LightGBM] [Warning] No further splits with positive gain, best gain: -inf\n",
      "[LightGBM] [Warning] No further splits with positive gain, best gain: -inf\n",
      "[LightGBM] [Warning] No further splits with positive gain, best gain: -inf\n",
      "[LightGBM] [Warning] No further splits with positive gain, best gain: -inf\n",
      "[LightGBM] [Warning] No further splits with positive gain, best gain: -inf\n",
      "[LightGBM] [Warning] No further splits with positive gain, best gain: -inf\n",
      "[LightGBM] [Warning] No further splits with positive gain, best gain: -inf\n",
      "[LightGBM] [Warning] No further splits with positive gain, best gain: -inf\n",
      "[LightGBM] [Warning] No further splits with positive gain, best gain: -inf\n",
      "[LightGBM] [Warning] No further splits with positive gain, best gain: -inf\n",
      "[LightGBM] [Warning] No further splits with positive gain, best gain: -inf\n",
      "[LightGBM] [Warning] No further splits with positive gain, best gain: -inf\n",
      "[LightGBM] [Warning] No further splits with positive gain, best gain: -inf\n",
      "[LightGBM] [Warning] No further splits with positive gain, best gain: -inf\n",
      "[LightGBM] [Warning] No further splits with positive gain, best gain: -inf\n",
      "[LightGBM] [Warning] No further splits with positive gain, best gain: -inf\n",
      "[LightGBM] [Warning] No further splits with positive gain, best gain: -inf\n",
      "[LightGBM] [Warning] No further splits with positive gain, best gain: -inf\n",
      "[LightGBM] [Warning] No further splits with positive gain, best gain: -inf\n",
      "[LightGBM] [Warning] No further splits with positive gain, best gain: -inf\n",
      "[LightGBM] [Warning] No further splits with positive gain, best gain: -inf\n",
      "[LightGBM] [Warning] No further splits with positive gain, best gain: -inf\n",
      "[LightGBM] [Warning] No further splits with positive gain, best gain: -inf\n",
      "[LightGBM] [Warning] No further splits with positive gain, best gain: -inf\n",
      "[LightGBM] [Warning] No further splits with positive gain, best gain: -inf\n",
      "[LightGBM] [Warning] No further splits with positive gain, best gain: -inf\n",
      "[LightGBM] [Warning] No further splits with positive gain, best gain: -inf\n",
      "[LightGBM] [Warning] No further splits with positive gain, best gain: -inf\n",
      "[LightGBM] [Info] Number of positive: 6, number of negative: 49\n",
      "[LightGBM] [Info] Auto-choosing row-wise multi-threading, the overhead of testing was 0.000151 seconds.\n",
      "You can set `force_row_wise=true` to remove the overhead.\n",
      "And if memory is not enough, you can set `force_col_wise=true`.\n",
      "[LightGBM] [Info] Total Bins 946\n",
      "[LightGBM] [Info] Number of data points in the train set: 55, number of used features: 81\n",
      "[LightGBM] [Info] [binary:BoostFromScore]: pavg=0.109091 -> initscore=-2.100061\n",
      "[LightGBM] [Info] Start training from score -2.100061\n",
      "[LightGBM] [Warning] No further splits with positive gain, best gain: -inf\n",
      "[LightGBM] [Warning] No further splits with positive gain, best gain: -inf\n",
      "[LightGBM] [Warning] No further splits with positive gain, best gain: -inf\n",
      "[LightGBM] [Warning] No further splits with positive gain, best gain: -inf\n",
      "[LightGBM] [Warning] No further splits with positive gain, best gain: -inf\n",
      "[LightGBM] [Warning] No further splits with positive gain, best gain: -inf\n",
      "[LightGBM] [Warning] No further splits with positive gain, best gain: -inf\n",
      "[LightGBM] [Warning] No further splits with positive gain, best gain: -inf\n",
      "[LightGBM] [Warning] No further splits with positive gain, best gain: -inf\n",
      "[LightGBM] [Warning] No further splits with positive gain, best gain: -inf\n",
      "[LightGBM] [Warning] No further splits with positive gain, best gain: -inf\n",
      "[LightGBM] [Warning] No further splits with positive gain, best gain: -inf\n",
      "[LightGBM] [Warning] No further splits with positive gain, best gain: -inf\n",
      "[LightGBM] [Warning] No further splits with positive gain, best gain: -inf\n",
      "[LightGBM] [Warning] No further splits with positive gain, best gain: -inf\n",
      "[LightGBM] [Warning] No further splits with positive gain, best gain: -inf\n",
      "[LightGBM] [Warning] No further splits with positive gain, best gain: -inf\n",
      "[LightGBM] [Warning] No further splits with positive gain, best gain: -inf\n",
      "[LightGBM] [Warning] No further splits with positive gain, best gain: -inf\n",
      "[LightGBM] [Warning] No further splits with positive gain, best gain: -inf\n",
      "[LightGBM] [Warning] No further splits with positive gain, best gain: -inf\n",
      "[LightGBM] [Warning] No further splits with positive gain, best gain: -inf\n",
      "[LightGBM] [Warning] No further splits with positive gain, best gain: -inf\n",
      "[LightGBM] [Warning] No further splits with positive gain, best gain: -inf\n",
      "[LightGBM] [Warning] No further splits with positive gain, best gain: -inf\n",
      "[LightGBM] [Warning] No further splits with positive gain, best gain: -inf\n",
      "[LightGBM] [Warning] No further splits with positive gain, best gain: -inf\n",
      "[LightGBM] [Warning] No further splits with positive gain, best gain: -inf\n",
      "[LightGBM] [Warning] No further splits with positive gain, best gain: -inf\n",
      "[LightGBM] [Warning] No further splits with positive gain, best gain: -inf\n",
      "[LightGBM] [Warning] No further splits with positive gain, best gain: -inf\n",
      "[LightGBM] [Warning] No further splits with positive gain, best gain: -inf\n",
      "[LightGBM] [Warning] No further splits with positive gain, best gain: -inf\n",
      "[LightGBM] [Warning] No further splits with positive gain, best gain: -inf\n",
      "[LightGBM] [Warning] No further splits with positive gain, best gain: -inf\n",
      "[LightGBM] [Warning] No further splits with positive gain, best gain: -inf\n",
      "[LightGBM] [Warning] No further splits with positive gain, best gain: -inf\n",
      "[LightGBM] [Warning] No further splits with positive gain, best gain: -inf\n",
      "[LightGBM] [Warning] No further splits with positive gain, best gain: -inf\n",
      "[LightGBM] [Warning] No further splits with positive gain, best gain: -inf\n",
      "[LightGBM] [Warning] No further splits with positive gain, best gain: -inf\n",
      "[LightGBM] [Warning] No further splits with positive gain, best gain: -inf\n",
      "[LightGBM] [Warning] No further splits with positive gain, best gain: -inf\n",
      "[LightGBM] [Warning] No further splits with positive gain, best gain: -inf\n",
      "[LightGBM] [Warning] No further splits with positive gain, best gain: -inf\n",
      "[LightGBM] [Warning] No further splits with positive gain, best gain: -inf\n",
      "[LightGBM] [Warning] No further splits with positive gain, best gain: -inf\n",
      "[LightGBM] [Warning] No further splits with positive gain, best gain: -inf\n",
      "[LightGBM] [Warning] No further splits with positive gain, best gain: -inf\n",
      "[LightGBM] [Warning] No further splits with positive gain, best gain: -inf\n",
      "[LightGBM] [Warning] No further splits with positive gain, best gain: -inf\n",
      "[LightGBM] [Warning] No further splits with positive gain, best gain: -inf\n",
      "[LightGBM] [Warning] No further splits with positive gain, best gain: -inf\n",
      "[LightGBM] [Warning] No further splits with positive gain, best gain: -inf\n",
      "[LightGBM] [Warning] No further splits with positive gain, best gain: -inf\n",
      "[LightGBM] [Warning] No further splits with positive gain, best gain: -inf\n",
      "[LightGBM] [Warning] No further splits with positive gain, best gain: -inf\n",
      "[LightGBM] [Warning] No further splits with positive gain, best gain: -inf\n",
      "[LightGBM] [Warning] No further splits with positive gain, best gain: -inf\n",
      "[LightGBM] [Warning] No further splits with positive gain, best gain: -inf\n",
      "[LightGBM] [Warning] No further splits with positive gain, best gain: -inf\n",
      "[LightGBM] [Warning] No further splits with positive gain, best gain: -inf\n",
      "[LightGBM] [Warning] No further splits with positive gain, best gain: -inf\n",
      "[LightGBM] [Warning] No further splits with positive gain, best gain: -inf\n",
      "[LightGBM] [Warning] No further splits with positive gain, best gain: -inf\n",
      "[LightGBM] [Warning] No further splits with positive gain, best gain: -inf\n",
      "[LightGBM] [Warning] No further splits with positive gain, best gain: -inf\n",
      "[LightGBM] [Warning] No further splits with positive gain, best gain: -inf\n",
      "[LightGBM] [Warning] No further splits with positive gain, best gain: -inf\n",
      "[LightGBM] [Warning] No further splits with positive gain, best gain: -inf\n",
      "[LightGBM] [Warning] No further splits with positive gain, best gain: -inf\n",
      "[LightGBM] [Warning] No further splits with positive gain, best gain: -inf\n",
      "[LightGBM] [Warning] No further splits with positive gain, best gain: -inf\n",
      "[LightGBM] [Warning] No further splits with positive gain, best gain: -inf\n",
      "[LightGBM] [Warning] No further splits with positive gain, best gain: -inf\n",
      "[LightGBM] [Warning] No further splits with positive gain, best gain: -inf\n",
      "[LightGBM] [Warning] No further splits with positive gain, best gain: -inf\n",
      "[LightGBM] [Warning] No further splits with positive gain, best gain: -inf\n",
      "[LightGBM] [Warning] No further splits with positive gain, best gain: -inf\n",
      "[LightGBM] [Warning] No further splits with positive gain, best gain: -inf\n",
      "[LightGBM] [Warning] No further splits with positive gain, best gain: -inf\n",
      "[LightGBM] [Warning] No further splits with positive gain, best gain: -inf\n",
      "[LightGBM] [Warning] No further splits with positive gain, best gain: -inf\n",
      "[LightGBM] [Warning] No further splits with positive gain, best gain: -inf\n",
      "[LightGBM] [Warning] No further splits with positive gain, best gain: -inf\n",
      "[LightGBM] [Warning] No further splits with positive gain, best gain: -inf\n",
      "[LightGBM] [Warning] No further splits with positive gain, best gain: -inf\n",
      "[LightGBM] [Warning] No further splits with positive gain, best gain: -inf\n",
      "[LightGBM] [Warning] No further splits with positive gain, best gain: -inf\n",
      "[LightGBM] [Warning] No further splits with positive gain, best gain: -inf\n",
      "[LightGBM] [Warning] No further splits with positive gain, best gain: -inf\n",
      "[LightGBM] [Warning] No further splits with positive gain, best gain: -inf\n",
      "[LightGBM] [Warning] No further splits with positive gain, best gain: -inf\n",
      "[LightGBM] [Warning] No further splits with positive gain, best gain: -inf\n",
      "[LightGBM] [Warning] No further splits with positive gain, best gain: -inf\n",
      "[LightGBM] [Warning] No further splits with positive gain, best gain: -inf\n",
      "[LightGBM] [Warning] No further splits with positive gain, best gain: -inf\n",
      "[LightGBM] [Warning] No further splits with positive gain, best gain: -inf\n",
      "[LightGBM] [Warning] No further splits with positive gain, best gain: -inf\n",
      "[LightGBM] [Warning] No further splits with positive gain, best gain: -inf\n",
      "[LightGBM] [Info] Number of positive: 21, number of negative: 34\n",
      "[LightGBM] [Info] Auto-choosing col-wise multi-threading, the overhead of testing was 0.000179 seconds.\n",
      "You can set `force_col_wise=true` to remove the overhead.\n",
      "[LightGBM] [Info] Total Bins 946\n",
      "[LightGBM] [Info] Number of data points in the train set: 55, number of used features: 81\n",
      "[LightGBM] [Info] [binary:BoostFromScore]: pavg=0.381818 -> initscore=-0.481838\n",
      "[LightGBM] [Info] Start training from score -0.481838\n",
      "[LightGBM] [Warning] No further splits with positive gain, best gain: -inf\n",
      "[LightGBM] [Warning] No further splits with positive gain, best gain: -inf\n",
      "[LightGBM] [Warning] No further splits with positive gain, best gain: -inf\n",
      "[LightGBM] [Warning] No further splits with positive gain, best gain: -inf\n",
      "[LightGBM] [Warning] No further splits with positive gain, best gain: -inf\n",
      "[LightGBM] [Warning] No further splits with positive gain, best gain: -inf\n",
      "[LightGBM] [Warning] No further splits with positive gain, best gain: -inf\n",
      "[LightGBM] [Warning] No further splits with positive gain, best gain: -inf\n",
      "[LightGBM] [Warning] No further splits with positive gain, best gain: -inf\n",
      "[LightGBM] [Warning] No further splits with positive gain, best gain: -inf\n",
      "[LightGBM] [Warning] No further splits with positive gain, best gain: -inf\n",
      "[LightGBM] [Warning] No further splits with positive gain, best gain: -inf\n",
      "[LightGBM] [Warning] No further splits with positive gain, best gain: -inf\n",
      "[LightGBM] [Warning] No further splits with positive gain, best gain: -inf\n",
      "[LightGBM] [Warning] No further splits with positive gain, best gain: -inf\n",
      "[LightGBM] [Warning] No further splits with positive gain, best gain: -inf\n",
      "[LightGBM] [Warning] No further splits with positive gain, best gain: -inf\n",
      "[LightGBM] [Warning] No further splits with positive gain, best gain: -inf\n",
      "[LightGBM] [Warning] No further splits with positive gain, best gain: -inf\n",
      "[LightGBM] [Warning] No further splits with positive gain, best gain: -inf\n",
      "[LightGBM] [Warning] No further splits with positive gain, best gain: -inf\n",
      "[LightGBM] [Warning] No further splits with positive gain, best gain: -inf\n",
      "[LightGBM] [Warning] No further splits with positive gain, best gain: -inf\n",
      "[LightGBM] [Warning] No further splits with positive gain, best gain: -inf\n",
      "[LightGBM] [Warning] No further splits with positive gain, best gain: -inf\n",
      "[LightGBM] [Warning] No further splits with positive gain, best gain: -inf\n",
      "[LightGBM] [Warning] No further splits with positive gain, best gain: -inf\n",
      "[LightGBM] [Warning] No further splits with positive gain, best gain: -inf\n",
      "[LightGBM] [Warning] No further splits with positive gain, best gain: -inf\n",
      "[LightGBM] [Warning] No further splits with positive gain, best gain: -inf\n",
      "[LightGBM] [Warning] No further splits with positive gain, best gain: -inf\n",
      "[LightGBM] [Warning] No further splits with positive gain, best gain: -inf\n",
      "[LightGBM] [Warning] No further splits with positive gain, best gain: -inf\n",
      "[LightGBM] [Warning] No further splits with positive gain, best gain: -inf\n",
      "[LightGBM] [Warning] No further splits with positive gain, best gain: -inf\n",
      "[LightGBM] [Warning] No further splits with positive gain, best gain: -inf\n",
      "[LightGBM] [Warning] No further splits with positive gain, best gain: -inf\n",
      "[LightGBM] [Warning] No further splits with positive gain, best gain: -inf\n",
      "[LightGBM] [Warning] No further splits with positive gain, best gain: -inf\n",
      "[LightGBM] [Warning] No further splits with positive gain, best gain: -inf\n",
      "[LightGBM] [Warning] No further splits with positive gain, best gain: -inf\n",
      "[LightGBM] [Warning] No further splits with positive gain, best gain: -inf\n",
      "[LightGBM] [Warning] No further splits with positive gain, best gain: -inf\n",
      "[LightGBM] [Warning] No further splits with positive gain, best gain: -inf\n",
      "[LightGBM] [Warning] No further splits with positive gain, best gain: -inf\n",
      "[LightGBM] [Warning] No further splits with positive gain, best gain: -inf\n",
      "[LightGBM] [Warning] No further splits with positive gain, best gain: -inf\n",
      "[LightGBM] [Warning] No further splits with positive gain, best gain: -inf\n",
      "[LightGBM] [Warning] No further splits with positive gain, best gain: -inf\n",
      "[LightGBM] [Warning] No further splits with positive gain, best gain: -inf\n",
      "[LightGBM] [Warning] No further splits with positive gain, best gain: -inf\n",
      "[LightGBM] [Warning] No further splits with positive gain, best gain: -inf\n",
      "[LightGBM] [Warning] No further splits with positive gain, best gain: -inf\n",
      "[LightGBM] [Warning] No further splits with positive gain, best gain: -inf\n",
      "[LightGBM] [Warning] No further splits with positive gain, best gain: -inf\n",
      "[LightGBM] [Warning] No further splits with positive gain, best gain: -inf\n",
      "[LightGBM] [Warning] No further splits with positive gain, best gain: -inf\n",
      "[LightGBM] [Warning] No further splits with positive gain, best gain: -inf\n",
      "[LightGBM] [Warning] No further splits with positive gain, best gain: -inf\n",
      "[LightGBM] [Warning] No further splits with positive gain, best gain: -inf\n",
      "[LightGBM] [Warning] No further splits with positive gain, best gain: -inf\n",
      "[LightGBM] [Warning] No further splits with positive gain, best gain: -inf\n",
      "[LightGBM] [Warning] No further splits with positive gain, best gain: -inf\n",
      "[LightGBM] [Warning] No further splits with positive gain, best gain: -inf\n",
      "[LightGBM] [Warning] No further splits with positive gain, best gain: -inf\n",
      "[LightGBM] [Warning] No further splits with positive gain, best gain: -inf\n",
      "[LightGBM] [Warning] No further splits with positive gain, best gain: -inf\n",
      "[LightGBM] [Warning] No further splits with positive gain, best gain: -inf\n",
      "[LightGBM] [Warning] No further splits with positive gain, best gain: -inf\n",
      "[LightGBM] [Warning] No further splits with positive gain, best gain: -inf\n",
      "[LightGBM] [Warning] No further splits with positive gain, best gain: -inf\n",
      "[LightGBM] [Warning] No further splits with positive gain, best gain: -inf\n",
      "[LightGBM] [Warning] No further splits with positive gain, best gain: -inf\n",
      "[LightGBM] [Warning] No further splits with positive gain, best gain: -inf\n",
      "[LightGBM] [Warning] No further splits with positive gain, best gain: -inf\n",
      "[LightGBM] [Warning] No further splits with positive gain, best gain: -inf\n",
      "[LightGBM] [Warning] No further splits with positive gain, best gain: -inf\n",
      "[LightGBM] [Warning] No further splits with positive gain, best gain: -inf\n",
      "[LightGBM] [Warning] No further splits with positive gain, best gain: -inf\n",
      "[LightGBM] [Warning] No further splits with positive gain, best gain: -inf\n",
      "[LightGBM] [Warning] No further splits with positive gain, best gain: -inf\n",
      "[LightGBM] [Warning] No further splits with positive gain, best gain: -inf\n",
      "[LightGBM] [Warning] No further splits with positive gain, best gain: -inf\n",
      "[LightGBM] [Warning] No further splits with positive gain, best gain: -inf\n",
      "[LightGBM] [Warning] No further splits with positive gain, best gain: -inf\n",
      "[LightGBM] [Warning] No further splits with positive gain, best gain: -inf\n",
      "[LightGBM] [Warning] No further splits with positive gain, best gain: -inf\n",
      "[LightGBM] [Warning] No further splits with positive gain, best gain: -inf\n",
      "[LightGBM] [Warning] No further splits with positive gain, best gain: -inf\n",
      "[LightGBM] [Warning] No further splits with positive gain, best gain: -inf\n",
      "[LightGBM] [Warning] No further splits with positive gain, best gain: -inf\n",
      "[LightGBM] [Warning] No further splits with positive gain, best gain: -inf\n",
      "[LightGBM] [Warning] No further splits with positive gain, best gain: -inf\n",
      "[LightGBM] [Warning] No further splits with positive gain, best gain: -inf\n",
      "[LightGBM] [Warning] No further splits with positive gain, best gain: -inf\n",
      "[LightGBM] [Warning] No further splits with positive gain, best gain: -inf\n",
      "[LightGBM] [Warning] No further splits with positive gain, best gain: -inf\n",
      "[LightGBM] [Warning] No further splits with positive gain, best gain: -inf\n",
      "[LightGBM] [Warning] No further splits with positive gain, best gain: -inf\n",
      "[LightGBM] [Warning] No further splits with positive gain, best gain: -inf\n"
     ]
    }
   ],
   "source": [
    "results = []\n",
    "\n",
    "for name, model in models.items():\n",
    "    start = time.time()\n",
    "    model.fit(X_train, y_train)\n",
    "    end = time.time()\n",
    "\n",
    "    y_pred = model.predict(X_test)\n",
    "\n",
    "    results.append({\n",
    "        \"Classifier\": name,\n",
    "        \"Accuracy\": accuracy_score(y_test, y_pred),\n",
    "        \"Precision\": precision_score(y_test, y_pred, average=\"macro\"),  # change to 'macro' if multi-class\n",
    "        \"Recall\": recall_score(y_test, y_pred, average=\"macro\"),\n",
    "        \"F1-Score\": f1_score(y_test, y_pred, average=\"macro\"),\n",
    "        \"Training Time\": round(end - start, 3)\n",
    "    })"
   ]
  },
  {
   "cell_type": "markdown",
   "id": "20d85fb9",
   "metadata": {},
   "source": [
    "### Result"
   ]
  },
  {
   "cell_type": "code",
   "execution_count": 8,
   "id": "32e20caa",
   "metadata": {},
   "outputs": [
    {
     "data": {
      "application/vnd.microsoft.datawrangler.viewer.v0+json": {
       "columns": [
        {
         "name": "index",
         "rawType": "int64",
         "type": "integer"
        },
        {
         "name": "Classifier",
         "rawType": "object",
         "type": "string"
        },
        {
         "name": "Accuracy",
         "rawType": "float64",
         "type": "float"
        },
        {
         "name": "Precision",
         "rawType": "float64",
         "type": "float"
        },
        {
         "name": "Recall",
         "rawType": "float64",
         "type": "float"
        },
        {
         "name": "F1-Score",
         "rawType": "float64",
         "type": "float"
        },
        {
         "name": "Training Time",
         "rawType": "float64",
         "type": "float"
        }
       ],
       "ref": "78580182-f6d4-4a7f-801b-0619975c6704",
       "rows": [
        [
         "3",
         "AdaBoost",
         "0.42857142857142855",
         "0.75",
         "0.4444444444444444",
         "0.5352941176470588",
         "0.344"
        ],
        [
         "2",
         "Gradient Boosting",
         "0.35714285714285715",
         "0.5555555555555555",
         "0.38888888888888884",
         "0.4388888888888889",
         "0.516"
        ],
        [
         "8",
         "XGBoost",
         "0.42857142857142855",
         "0.7380952380952381",
         "0.35185185185185186",
         "0.4369047619047619",
         "0.815"
        ],
        [
         "5",
         "KNN",
         "0.21428571428571427",
         "0.4621212121212121",
         "0.4259259259259259",
         "0.4333333333333333",
         "0.009"
        ],
        [
         "9",
         "LightGBM",
         "0.42857142857142855",
         "0.7222222222222222",
         "0.3148148148148148",
         "0.4063492063492064",
         "0.092"
        ],
        [
         "10",
         "DecisionTree",
         "0.2857142857142857",
         "0.5555555555555555",
         "0.3333333333333333",
         "0.38888888888888884",
         "0.026"
        ],
        [
         "0",
         "Logistic Regression",
         "0.2857142857142857",
         "0.5",
         "0.27777777777777773",
         "0.35384615384615387",
         "0.495"
        ],
        [
         "4",
         "SVM (Linear)",
         "0.2857142857142857",
         "0.5",
         "0.27777777777777773",
         "0.35384615384615387",
         "0.022"
        ],
        [
         "6",
         "Naive Bayes",
         "0.2857142857142857",
         "0.4444444444444444",
         "0.2037037037037037",
         "0.2792022792022792",
         "0.013"
        ],
        [
         "1",
         "Random Forest",
         "0.35714285714285715",
         "0.5555555555555555",
         "0.2037037037037037",
         "0.273015873015873",
         "0.412"
        ],
        [
         "7",
         "MLP Classifier",
         "0.42857142857142855",
         "0.3333333333333333",
         "0.14814814814814814",
         "0.20512820512820515",
         "1.326"
        ]
       ],
       "shape": {
        "columns": 6,
        "rows": 11
       }
      },
      "text/html": [
       "<div>\n",
       "<style scoped>\n",
       "    .dataframe tbody tr th:only-of-type {\n",
       "        vertical-align: middle;\n",
       "    }\n",
       "\n",
       "    .dataframe tbody tr th {\n",
       "        vertical-align: top;\n",
       "    }\n",
       "\n",
       "    .dataframe thead th {\n",
       "        text-align: right;\n",
       "    }\n",
       "</style>\n",
       "<table border=\"1\" class=\"dataframe\">\n",
       "  <thead>\n",
       "    <tr style=\"text-align: right;\">\n",
       "      <th></th>\n",
       "      <th>Classifier</th>\n",
       "      <th>Accuracy</th>\n",
       "      <th>Precision</th>\n",
       "      <th>Recall</th>\n",
       "      <th>F1-Score</th>\n",
       "      <th>Training Time</th>\n",
       "    </tr>\n",
       "  </thead>\n",
       "  <tbody>\n",
       "    <tr>\n",
       "      <th>3</th>\n",
       "      <td>AdaBoost</td>\n",
       "      <td>0.428571</td>\n",
       "      <td>0.750000</td>\n",
       "      <td>0.444444</td>\n",
       "      <td>0.535294</td>\n",
       "      <td>0.344</td>\n",
       "    </tr>\n",
       "    <tr>\n",
       "      <th>2</th>\n",
       "      <td>Gradient Boosting</td>\n",
       "      <td>0.357143</td>\n",
       "      <td>0.555556</td>\n",
       "      <td>0.388889</td>\n",
       "      <td>0.438889</td>\n",
       "      <td>0.516</td>\n",
       "    </tr>\n",
       "    <tr>\n",
       "      <th>8</th>\n",
       "      <td>XGBoost</td>\n",
       "      <td>0.428571</td>\n",
       "      <td>0.738095</td>\n",
       "      <td>0.351852</td>\n",
       "      <td>0.436905</td>\n",
       "      <td>0.815</td>\n",
       "    </tr>\n",
       "    <tr>\n",
       "      <th>5</th>\n",
       "      <td>KNN</td>\n",
       "      <td>0.214286</td>\n",
       "      <td>0.462121</td>\n",
       "      <td>0.425926</td>\n",
       "      <td>0.433333</td>\n",
       "      <td>0.009</td>\n",
       "    </tr>\n",
       "    <tr>\n",
       "      <th>9</th>\n",
       "      <td>LightGBM</td>\n",
       "      <td>0.428571</td>\n",
       "      <td>0.722222</td>\n",
       "      <td>0.314815</td>\n",
       "      <td>0.406349</td>\n",
       "      <td>0.092</td>\n",
       "    </tr>\n",
       "    <tr>\n",
       "      <th>10</th>\n",
       "      <td>DecisionTree</td>\n",
       "      <td>0.285714</td>\n",
       "      <td>0.555556</td>\n",
       "      <td>0.333333</td>\n",
       "      <td>0.388889</td>\n",
       "      <td>0.026</td>\n",
       "    </tr>\n",
       "    <tr>\n",
       "      <th>0</th>\n",
       "      <td>Logistic Regression</td>\n",
       "      <td>0.285714</td>\n",
       "      <td>0.500000</td>\n",
       "      <td>0.277778</td>\n",
       "      <td>0.353846</td>\n",
       "      <td>0.495</td>\n",
       "    </tr>\n",
       "    <tr>\n",
       "      <th>4</th>\n",
       "      <td>SVM (Linear)</td>\n",
       "      <td>0.285714</td>\n",
       "      <td>0.500000</td>\n",
       "      <td>0.277778</td>\n",
       "      <td>0.353846</td>\n",
       "      <td>0.022</td>\n",
       "    </tr>\n",
       "    <tr>\n",
       "      <th>6</th>\n",
       "      <td>Naive Bayes</td>\n",
       "      <td>0.285714</td>\n",
       "      <td>0.444444</td>\n",
       "      <td>0.203704</td>\n",
       "      <td>0.279202</td>\n",
       "      <td>0.013</td>\n",
       "    </tr>\n",
       "    <tr>\n",
       "      <th>1</th>\n",
       "      <td>Random Forest</td>\n",
       "      <td>0.357143</td>\n",
       "      <td>0.555556</td>\n",
       "      <td>0.203704</td>\n",
       "      <td>0.273016</td>\n",
       "      <td>0.412</td>\n",
       "    </tr>\n",
       "    <tr>\n",
       "      <th>7</th>\n",
       "      <td>MLP Classifier</td>\n",
       "      <td>0.428571</td>\n",
       "      <td>0.333333</td>\n",
       "      <td>0.148148</td>\n",
       "      <td>0.205128</td>\n",
       "      <td>1.326</td>\n",
       "    </tr>\n",
       "  </tbody>\n",
       "</table>\n",
       "</div>"
      ],
      "text/plain": [
       "             Classifier  Accuracy  Precision    Recall  F1-Score  \\\n",
       "3              AdaBoost  0.428571   0.750000  0.444444  0.535294   \n",
       "2     Gradient Boosting  0.357143   0.555556  0.388889  0.438889   \n",
       "8               XGBoost  0.428571   0.738095  0.351852  0.436905   \n",
       "5                   KNN  0.214286   0.462121  0.425926  0.433333   \n",
       "9              LightGBM  0.428571   0.722222  0.314815  0.406349   \n",
       "10         DecisionTree  0.285714   0.555556  0.333333  0.388889   \n",
       "0   Logistic Regression  0.285714   0.500000  0.277778  0.353846   \n",
       "4          SVM (Linear)  0.285714   0.500000  0.277778  0.353846   \n",
       "6           Naive Bayes  0.285714   0.444444  0.203704  0.279202   \n",
       "1         Random Forest  0.357143   0.555556  0.203704  0.273016   \n",
       "7        MLP Classifier  0.428571   0.333333  0.148148  0.205128   \n",
       "\n",
       "    Training Time  \n",
       "3           0.344  \n",
       "2           0.516  \n",
       "8           0.815  \n",
       "5           0.009  \n",
       "9           0.092  \n",
       "10          0.026  \n",
       "0           0.495  \n",
       "4           0.022  \n",
       "6           0.013  \n",
       "1           0.412  \n",
       "7           1.326  "
      ]
     },
     "execution_count": 8,
     "metadata": {},
     "output_type": "execute_result"
    }
   ],
   "source": [
    "df = pd.DataFrame(results)\n",
    "df.sort_values(by=\"F1-Score\", ascending=False, inplace=True)\n",
    "df"
   ]
  },
  {
   "cell_type": "markdown",
   "id": "f21b5756",
   "metadata": {},
   "source": [
    "### Tuning"
   ]
  },
  {
   "cell_type": "code",
   "execution_count": 9,
   "id": "7b283cd0",
   "metadata": {},
   "outputs": [
    {
     "name": "stderr",
     "output_type": "stream",
     "text": [
      "[I 2025-07-11 12:33:56,403] A new study created in memory with name: no-name-1e20b3f3-d21b-4950-8b77-3fe33fe9717d\n",
      "[I 2025-07-11 12:33:56,753] Trial 0 finished with value: 0.5407407407407407 and parameters: {'n_estimators': 29, 'learning_rate': 0.8487428417692037}. Best is trial 0 with value: 0.5407407407407407.\n",
      "[I 2025-07-11 12:33:58,282] Trial 1 finished with value: 0.4246498599439776 and parameters: {'n_estimators': 118, 'learning_rate': 0.7491792413534307}. Best is trial 0 with value: 0.5407407407407407.\n",
      "[I 2025-07-11 12:33:59,692] Trial 2 finished with value: 0.4878306878306879 and parameters: {'n_estimators': 144, 'learning_rate': 0.5302842729112323}. Best is trial 0 with value: 0.5407407407407407.\n",
      "[I 2025-07-11 12:34:06,225] Trial 3 finished with value: 0.4878306878306879 and parameters: {'n_estimators': 877, 'learning_rate': 0.8530638625327452}. Best is trial 0 with value: 0.5407407407407407.\n",
      "[I 2025-07-11 12:34:10,839] Trial 4 finished with value: 0.4878306878306879 and parameters: {'n_estimators': 600, 'learning_rate': 0.8212053868282773}. Best is trial 0 with value: 0.5407407407407407.\n",
      "[I 2025-07-11 12:34:12,942] Trial 5 finished with value: 0.4878306878306879 and parameters: {'n_estimators': 128, 'learning_rate': 0.9875108919885711}. Best is trial 0 with value: 0.5407407407407407.\n",
      "[I 2025-07-11 12:34:19,113] Trial 6 finished with value: 0.4656084656084656 and parameters: {'n_estimators': 558, 'learning_rate': 0.06280525197290222}. Best is trial 0 with value: 0.5407407407407407.\n",
      "[I 2025-07-11 12:34:25,155] Trial 7 finished with value: 0.4878306878306879 and parameters: {'n_estimators': 598, 'learning_rate': 0.6417338952764716}. Best is trial 0 with value: 0.5407407407407407.\n",
      "[I 2025-07-11 12:34:25,707] Trial 8 finished with value: 0.5167755991285403 and parameters: {'n_estimators': 78, 'learning_rate': 0.9269819776100655}. Best is trial 0 with value: 0.5407407407407407.\n",
      "[I 2025-07-11 12:34:27,262] Trial 9 finished with value: 0.5083333333333333 and parameters: {'n_estimators': 209, 'learning_rate': 0.6694815093327424}. Best is trial 0 with value: 0.5407407407407407.\n",
      "[I 2025-07-11 12:34:30,913] Trial 10 finished with value: 0.4656084656084656 and parameters: {'n_estimators': 352, 'learning_rate': 0.2630526397280071}. Best is trial 0 with value: 0.5407407407407407.\n",
      "[I 2025-07-11 12:34:31,188] Trial 11 finished with value: 0.31746031746031744 and parameters: {'n_estimators': 26, 'learning_rate': 0.9202259766471516}. Best is trial 0 with value: 0.5407407407407407.\n",
      "[I 2025-07-11 12:34:34,805] Trial 12 finished with value: 0.4878306878306879 and parameters: {'n_estimators': 339, 'learning_rate': 0.38330329192067203}. Best is trial 0 with value: 0.5407407407407407.\n",
      "[I 2025-07-11 12:34:58,559] Trial 13 finished with value: 0.5686274509803922 and parameters: {'n_estimators': 354, 'learning_rate': 0.5455868922350622}. Best is trial 13 with value: 0.5686274509803922.\n",
      "[I 2025-07-11 12:35:05,084] Trial 14 finished with value: 0.4369047619047619 and parameters: {'n_estimators': 389, 'learning_rate': 0.42046502062392926}. Best is trial 13 with value: 0.5686274509803922.\n",
      "[I 2025-07-11 12:35:12,386] Trial 15 finished with value: 0.44973544973544977 and parameters: {'n_estimators': 754, 'learning_rate': 0.5563174576442047}. Best is trial 13 with value: 0.5686274509803922.\n",
      "[I 2025-07-11 12:35:14,262] Trial 16 finished with value: 0.4507936507936508 and parameters: {'n_estimators': 265, 'learning_rate': 0.27617305209365195}. Best is trial 13 with value: 0.5686274509803922.\n",
      "[I 2025-07-11 12:35:23,230] Trial 17 finished with value: 0.4656084656084656 and parameters: {'n_estimators': 992, 'learning_rate': 0.7116192247579838}. Best is trial 13 with value: 0.5686274509803922.\n",
      "[I 2025-07-11 12:35:28,377] Trial 18 finished with value: 0.4878306878306879 and parameters: {'n_estimators': 465, 'learning_rate': 0.08049211599580303}. Best is trial 13 with value: 0.5686274509803922.\n",
      "[I 2025-07-11 12:35:59,250] Trial 19 finished with value: 0.4537037037037037 and parameters: {'n_estimators': 695, 'learning_rate': 0.6111028145873533}. Best is trial 13 with value: 0.5686274509803922.\n",
      "[I 2025-07-11 12:36:03,522] Trial 20 finished with value: 0.4786803610333022 and parameters: {'n_estimators': 271, 'learning_rate': 0.45397920125487207}. Best is trial 13 with value: 0.5686274509803922.\n",
      "[I 2025-07-11 12:36:03,833] Trial 21 finished with value: 0.46228070175438596 and parameters: {'n_estimators': 16, 'learning_rate': 0.9908616854481137}. Best is trial 13 with value: 0.5686274509803922.\n",
      "[I 2025-07-11 12:36:05,255] Trial 22 finished with value: 0.4222222222222222 and parameters: {'n_estimators': 83, 'learning_rate': 0.8081942212329547}. Best is trial 13 with value: 0.5686274509803922.\n",
      "[I 2025-07-11 12:36:07,057] Trial 23 finished with value: 0.46386554621848736 and parameters: {'n_estimators': 222, 'learning_rate': 0.914021785899792}. Best is trial 13 with value: 0.5686274509803922.\n",
      "[I 2025-07-11 12:36:10,401] Trial 24 finished with value: 0.3544973544973545 and parameters: {'n_estimators': 450, 'learning_rate': 0.7478166105664847}. Best is trial 13 with value: 0.5686274509803922.\n",
      "[I 2025-07-11 12:36:11,917] Trial 25 finished with value: 0.3544973544973545 and parameters: {'n_estimators': 187, 'learning_rate': 0.8885749515280436}. Best is trial 13 with value: 0.5686274509803922.\n",
      "[I 2025-07-11 12:36:12,457] Trial 26 finished with value: 0.5592592592592592 and parameters: {'n_estimators': 70, 'learning_rate': 0.3052891912100296}. Best is trial 13 with value: 0.5686274509803922.\n",
      "[I 2025-07-11 12:36:14,526] Trial 27 finished with value: 0.5592592592592592 and parameters: {'n_estimators': 289, 'learning_rate': 0.30959923146619894}. Best is trial 13 with value: 0.5686274509803922.\n",
      "[I 2025-07-11 12:36:16,482] Trial 28 finished with value: 0.5592592592592592 and parameters: {'n_estimators': 276, 'learning_rate': 0.2880734494401554}. Best is trial 13 with value: 0.5686274509803922.\n",
      "[I 2025-07-11 12:36:19,180] Trial 29 finished with value: 0.38655462184873945 and parameters: {'n_estimators': 386, 'learning_rate': 0.1756979276811395}. Best is trial 13 with value: 0.5686274509803922.\n",
      "[I 2025-07-11 12:36:22,824] Trial 30 finished with value: 0.38888888888888884 and parameters: {'n_estimators': 517, 'learning_rate': 0.34551384789871425}. Best is trial 13 with value: 0.5686274509803922.\n",
      "[I 2025-07-11 12:36:25,104] Trial 31 finished with value: 0.4656084656084656 and parameters: {'n_estimators': 297, 'learning_rate': 0.25276920339634845}. Best is trial 13 with value: 0.5686274509803922.\n",
      "[I 2025-07-11 12:36:28,762] Trial 32 finished with value: 0.38655462184873945 and parameters: {'n_estimators': 431, 'learning_rate': 0.17166865348627405}. Best is trial 13 with value: 0.5686274509803922.\n",
      "[I 2025-07-11 12:36:30,662] Trial 33 finished with value: 0.5130718954248366 and parameters: {'n_estimators': 188, 'learning_rate': 0.3304363292724046}. Best is trial 13 with value: 0.5686274509803922.\n",
      "[I 2025-07-11 12:36:33,984] Trial 34 finished with value: 0.5130718954248366 and parameters: {'n_estimators': 302, 'learning_rate': 0.47839009837282404}. Best is trial 13 with value: 0.5686274509803922.\n",
      "[I 2025-07-11 12:36:35,809] Trial 35 finished with value: 0.44973544973544977 and parameters: {'n_estimators': 156, 'learning_rate': 0.15762145578810643}. Best is trial 13 with value: 0.5686274509803922.\n",
      "[I 2025-07-11 12:36:36,792] Trial 36 finished with value: 0.5981620718462823 and parameters: {'n_estimators': 79, 'learning_rate': 0.5428970786151868}. Best is trial 36 with value: 0.5981620718462823.\n",
      "[I 2025-07-11 12:36:37,918] Trial 37 finished with value: 0.44973544973544977 and parameters: {'n_estimators': 83, 'learning_rate': 0.5401369438107072}. Best is trial 36 with value: 0.5981620718462823.\n",
      "[I 2025-07-11 12:36:39,926] Trial 38 finished with value: 0.4507936507936508 and parameters: {'n_estimators': 147, 'learning_rate': 0.4169189628507835}. Best is trial 36 with value: 0.5981620718462823.\n",
      "[I 2025-07-11 12:36:40,783] Trial 39 finished with value: 0.5407407407407407 and parameters: {'n_estimators': 56, 'learning_rate': 0.5862052721655399}. Best is trial 36 with value: 0.5981620718462823.\n",
      "[I 2025-07-11 12:36:43,455] Trial 40 finished with value: 0.4878306878306879 and parameters: {'n_estimators': 121, 'learning_rate': 0.4989810849974107}. Best is trial 36 with value: 0.5981620718462823.\n",
      "[I 2025-07-11 12:36:49,928] Trial 41 finished with value: 0.5222222222222223 and parameters: {'n_estimators': 259, 'learning_rate': 0.2949772897206329}. Best is trial 36 with value: 0.5981620718462823.\n",
      "[I 2025-07-11 12:36:57,056] Trial 42 finished with value: 0.4507936507936508 and parameters: {'n_estimators': 341, 'learning_rate': 0.3730547132668307}. Best is trial 36 with value: 0.5981620718462823.\n",
      "[I 2025-07-11 12:37:00,623] Trial 43 finished with value: 0.3544973544973545 and parameters: {'n_estimators': 225, 'learning_rate': 0.20917720995098404}. Best is trial 36 with value: 0.5981620718462823.\n",
      "[I 2025-07-11 12:37:06,421] Trial 44 finished with value: 0.46386554621848736 and parameters: {'n_estimators': 389, 'learning_rate': 0.010094778274605809}. Best is trial 36 with value: 0.5981620718462823.\n",
      "[I 2025-07-11 12:37:13,976] Trial 45 finished with value: 0.4257703081232493 and parameters: {'n_estimators': 518, 'learning_rate': 0.4421860327930121}. Best is trial 36 with value: 0.5981620718462823.\n",
      "[I 2025-07-11 12:37:15,441] Trial 46 finished with value: 0.5352941176470588 and parameters: {'n_estimators': 97, 'learning_rate': 0.6601311556589227}. Best is trial 36 with value: 0.5981620718462823.\n",
      "[I 2025-07-11 12:37:18,309] Trial 47 finished with value: 0.5352941176470588 and parameters: {'n_estimators': 167, 'learning_rate': 0.32070161098528205}. Best is trial 36 with value: 0.5981620718462823.\n",
      "[I 2025-07-11 12:37:28,859] Trial 48 finished with value: 0.5211640211640212 and parameters: {'n_estimators': 315, 'learning_rate': 0.234035393578718}. Best is trial 36 with value: 0.5981620718462823.\n",
      "[I 2025-07-11 12:37:36,778] Trial 49 finished with value: 0.3186274509803922 and parameters: {'n_estimators': 235, 'learning_rate': 0.5099761501484693}. Best is trial 36 with value: 0.5981620718462823.\n"
     ]
    },
    {
     "name": "stdout",
     "output_type": "stream",
     "text": [
      "Tuned AdaBoostClassifier (MultiOutput):\n",
      "Accuracy: 0.35714285714285715\n",
      "Precision: 0.6833333333333332\n",
      "Recall: 0.5740740740740741\n",
      "F1 Score: 0.5981620718462823\n"
     ]
    }
   ],
   "source": [
    "# 1. Optuna objective with AdaBoost inside MultiOutputClassifier\n",
    "def objective(trial):\n",
    "    model = MultiOutputClassifier(AdaBoostClassifier(\n",
    "        n_estimators=trial.suggest_int(\"n_estimators\", 10, 1000),\n",
    "        learning_rate=trial.suggest_float(\"learning_rate\", 0.0000001, 1.0),\n",
    "        random_state=42\n",
    "    ))\n",
    "    model.fit(X_train, y_train)\n",
    "    y_pred = model.predict(X_test)\n",
    "    return f1_score(y_test, y_pred, average=\"macro\", zero_division=0)\n",
    "\n",
    "# 2. Optimize AdaBoost\n",
    "study = optuna.create_study(direction=\"maximize\")\n",
    "study.optimize(objective, n_trials=50)\n",
    "\n",
    "# 3. Build base classifiers\n",
    "model = MultiOutputClassifier(AdaBoostClassifier(**study.best_params, random_state=42))\n",
    "model.fit(X_train, y_train)\n",
    "y_pred = model.predict(X_test)\n",
    "\n",
    "print(\"Tuned AdaBoostClassifier (MultiOutput):\")\n",
    "print(\"Accuracy:\", accuracy_score(y_test, y_pred))\n",
    "print(\"Precision:\", precision_score(y_test, y_pred, average=\"macro\", zero_division=0))\n",
    "print(\"Recall:\", recall_score(y_test, y_pred, average=\"macro\", zero_division=0))\n",
    "print(\"F1 Score:\", f1_score(y_test, y_pred, average=\"macro\", zero_division=0))\n"
   ]
  },
  {
   "cell_type": "code",
   "execution_count": 10,
   "id": "e44c06f1",
   "metadata": {},
   "outputs": [
    {
     "data": {
      "text/plain": [
       "['/Users/napatcholthaipanich/Dev/master/dissertation/workspace/ml/models/best_ada_model_on_crpwarner.pkl']"
      ]
     },
     "execution_count": 10,
     "metadata": {},
     "output_type": "execute_result"
    }
   ],
   "source": [
    "joblib.dump(model, os.path.join(MODEL_PATH, f'best_ada_model_on_crpwarner.pkl'))"
   ]
  },
  {
   "cell_type": "markdown",
   "id": "d0357c56",
   "metadata": {},
   "source": [
    "### K-Fold (K=3)"
   ]
  },
  {
   "cell_type": "code",
   "execution_count": 11,
   "id": "dc7afbd5",
   "metadata": {},
   "outputs": [],
   "source": [
    "NUM_FOLDS = 3\n",
    "results = []\n",
    "best_model = MultiOutputClassifier(AdaBoostClassifier(**study.best_params, random_state=42))\n",
    "best_f1 = 0\n",
    "best_fold = 0"
   ]
  },
  {
   "cell_type": "code",
   "execution_count": 12,
   "id": "a8f51b21",
   "metadata": {},
   "outputs": [
    {
     "name": "stdout",
     "output_type": "stream",
     "text": [
      "=========== Fold-0 ===========\n",
      "Accuracy: 0.4782608695652174\n",
      "Precision: 0.38484848484848483\n",
      "Recall: 0.6222222222222222\n",
      "F1 Score: 0.47385620915032683\n",
      "=========== Fold-1 ===========\n",
      "Accuracy: 0.391304347826087\n",
      "Precision: 0.4166666666666667\n",
      "Recall: 0.47301587301587306\n",
      "F1 Score: 0.42157842157842157\n",
      "=========== Fold-2 ===========\n",
      "Accuracy: 0.6086956521739131\n",
      "Precision: 0.8333333333333334\n",
      "Recall: 0.42063492063492064\n",
      "F1 Score: 0.5555555555555555\n",
      "\n",
      "===== Overall Summary =====\n",
      "Average Accuracy: 0.4928\n"
     ]
    },
    {
     "data": {
      "text/plain": [
       "['/Users/napatcholthaipanich/Dev/master/dissertation/workspace/ml/models/best_ada_model_on_crpwarner_from_fold2.pkl']"
      ]
     },
     "execution_count": 12,
     "metadata": {},
     "output_type": "execute_result"
    }
   ],
   "source": [
    "for fold in range(NUM_FOLDS):\n",
    "    print(f\"=========== Fold-{fold} ===========\")\n",
    "    train_path = os.path.join(DATA_PATH, f'train_fold_{fold}.csv')\n",
    "    val_path = os.path.join(DATA_PATH, f'val_fold_{fold}.csv')\n",
    "\n",
    "    train_df = pd.read_csv(train_path)\n",
    "    val_df   = pd.read_csv(val_path)\n",
    "\n",
    "    X_train = train_df[feature_list]\n",
    "    y_train = train_df[labels]\n",
    "\n",
    "    X_val = val_df[feature_list]\n",
    "    y_val = val_df[labels]\n",
    "\n",
    "    # Train model\n",
    "    model = MultiOutputClassifier(AdaBoostClassifier(**study.best_params, random_state=42))\n",
    "    model.fit(X_train, y_train)\n",
    "\n",
    "    # Evaluate\n",
    "    y_pred = model.predict(X_val)\n",
    "    report = classification_report(y_val, y_pred, target_names=labels, output_dict=True)\n",
    "    acc = accuracy_score(y_val, y_pred)\n",
    "    f1 = f1_score(y_val, y_pred, average=\"macro\", zero_division=0)\n",
    "\n",
    "    results.append({'fold': fold, 'accuracy': acc, 'report': report})\n",
    "    print(f\"Accuracy: {acc}\")\n",
    "    print(\"Precision:\", precision_score(y_val, y_pred, average=\"macro\", zero_division=0))\n",
    "    print(\"Recall:\", recall_score(y_val, y_pred, average=\"macro\", zero_division=0))\n",
    "    print(\"F1 Score:\", f1)\n",
    "\n",
    "    if best_f1 < f1:\n",
    "        best_model = model\n",
    "        best_fold = fold\n",
    "## Step 6: Average Performance Summary\n",
    "print(\"\\n===== Overall Summary =====\")\n",
    "avg_acc = sum([r['accuracy'] for r in results]) / NUM_FOLDS\n",
    "print(f\"Average Accuracy: {avg_acc:.4f}\")\n",
    "\n",
    "# Save model\n",
    "joblib.dump(best_model, os.path.join(MODEL_PATH, f'best_ada_model_on_crpwarner_from_fold{best_fold}.pkl'))"
   ]
  },
  {
   "cell_type": "markdown",
   "id": "0b63c8af",
   "metadata": {},
   "source": [
    "## CNN"
   ]
  },
  {
   "cell_type": "markdown",
   "id": "ea61f523",
   "metadata": {},
   "source": [
    "### Structure"
   ]
  },
  {
   "cell_type": "code",
   "execution_count": 13,
   "id": "8d694457",
   "metadata": {},
   "outputs": [
    {
     "name": "stderr",
     "output_type": "stream",
     "text": [
      "2025-07-11 12:37:48.305482: I tensorflow/core/platform/cpu_feature_guard.cc:210] This TensorFlow binary is optimized to use available CPU instructions in performance-critical operations.\n",
      "To enable the following instructions: AVX2 AVX512F AVX512_VNNI FMA, in other operations, rebuild TensorFlow with the appropriate compiler flags.\n"
     ]
    }
   ],
   "source": [
    "from tensorflow.keras import regularizers\n",
    "from tensorflow.keras.models import Sequential, load_model\n",
    "from tensorflow.keras.layers import Dense, Dropout, BatchNormalization, LeakyReLU\n",
    "from tensorflow.keras.optimizers import Adam\n",
    "\n",
    "opcode_dim = len(feature_list)\n",
    "\n",
    "def MLClassifier():\n",
    "    return Sequential([\n",
    "        Dense(512, input_dim=opcode_dim, kernel_regularizer=regularizers.l2(0.001)),\n",
    "        BatchNormalization(),\n",
    "        LeakyReLU(alpha=0.01),\n",
    "        Dropout(0.4),\n",
    "\n",
    "        Dense(256, kernel_regularizer=regularizers.l2(0.001)),\n",
    "        BatchNormalization(),\n",
    "        LeakyReLU(alpha=0.01),\n",
    "        Dropout(0.3),\n",
    "\n",
    "        Dense(128, kernel_regularizer=regularizers.l2(0.001)),\n",
    "        BatchNormalization(),\n",
    "        LeakyReLU(alpha=0.01),\n",
    "        Dropout(0.2),\n",
    "\n",
    "        Dense(64),\n",
    "        LeakyReLU(alpha=0.01),\n",
    "        Dropout(0.2),\n",
    "\n",
    "        Dense(len(labels), activation='sigmoid')\n",
    "    ])\n",
    "\n",
    "model = MLClassifier()\n",
    "model.compile(\n",
    "    loss='binary_crossentropy',  # important for multi-label!\n",
    "    optimizer=Adam(learning_rate=0.001),\n",
    "    metrics=['accuracy', 'AUC']\n",
    ")\n"
   ]
  },
  {
   "cell_type": "markdown",
   "id": "f7c53ba4",
   "metadata": {},
   "source": [
    "### Training"
   ]
  },
  {
   "cell_type": "code",
   "execution_count": 14,
   "id": "7a77cd6e",
   "metadata": {},
   "outputs": [
    {
     "name": "stdout",
     "output_type": "stream",
     "text": [
      "Epoch 1/30\n",
      "\u001b[1m1/1\u001b[0m \u001b[32m━━━━━━━━━━━━━━━━━━━━\u001b[0m\u001b[37m\u001b[0m \u001b[1m0s\u001b[0m 5s/step - AUC: 0.5334 - accuracy: 0.5435 - loss: 1.5710"
     ]
    },
    {
     "name": "stderr",
     "output_type": "stream",
     "text": [
      "WARNING:absl:You are saving your model as an HDF5 file via `model.save()` or `keras.saving.save_model(model)`. This file format is considered legacy. We recommend using instead the native Keras format, e.g. `model.save('my_model.keras')` or `keras.saving.save_model(model, 'my_model.keras')`. \n"
     ]
    },
    {
     "name": "stdout",
     "output_type": "stream",
     "text": [
      "\u001b[1m1/1\u001b[0m \u001b[32m━━━━━━━━━━━━━━━━━━━━\u001b[0m\u001b[37m\u001b[0m \u001b[1m6s\u001b[0m 6s/step - AUC: 0.5334 - accuracy: 0.5435 - loss: 1.5710 - val_AUC: 0.2465 - val_accuracy: 0.2143 - val_loss: 3.8858 - learning_rate: 0.0010\n",
      "Epoch 2/30\n",
      "\u001b[1m1/1\u001b[0m \u001b[32m━━━━━━━━━━━━━━━━━━━━\u001b[0m\u001b[37m\u001b[0m \u001b[1m0s\u001b[0m 40ms/step - AUC: 0.6503 - accuracy: 0.5000 - loss: 1.4959"
     ]
    },
    {
     "name": "stderr",
     "output_type": "stream",
     "text": [
      "WARNING:absl:You are saving your model as an HDF5 file via `model.save()` or `keras.saving.save_model(model)`. This file format is considered legacy. We recommend using instead the native Keras format, e.g. `model.save('my_model.keras')` or `keras.saving.save_model(model, 'my_model.keras')`. \n"
     ]
    },
    {
     "name": "stdout",
     "output_type": "stream",
     "text": [
      "\u001b[1m1/1\u001b[0m \u001b[32m━━━━━━━━━━━━━━━━━━━━\u001b[0m\u001b[37m\u001b[0m \u001b[1m0s\u001b[0m 183ms/step - AUC: 0.6503 - accuracy: 0.5000 - loss: 1.4959 - val_AUC: 0.2465 - val_accuracy: 0.1429 - val_loss: 3.0485 - learning_rate: 0.0010\n",
      "Epoch 3/30\n",
      "\u001b[1m1/1\u001b[0m \u001b[32m━━━━━━━━━━━━━━━━━━━━\u001b[0m\u001b[37m\u001b[0m \u001b[1m0s\u001b[0m 37ms/step - AUC: 0.5225 - accuracy: 0.3261 - loss: 1.5051"
     ]
    },
    {
     "name": "stderr",
     "output_type": "stream",
     "text": [
      "WARNING:absl:You are saving your model as an HDF5 file via `model.save()` or `keras.saving.save_model(model)`. This file format is considered legacy. We recommend using instead the native Keras format, e.g. `model.save('my_model.keras')` or `keras.saving.save_model(model, 'my_model.keras')`. \n"
     ]
    },
    {
     "name": "stdout",
     "output_type": "stream",
     "text": [
      "\u001b[1m1/1\u001b[0m \u001b[32m━━━━━━━━━━━━━━━━━━━━\u001b[0m\u001b[37m\u001b[0m \u001b[1m0s\u001b[0m 186ms/step - AUC: 0.5225 - accuracy: 0.3261 - loss: 1.5051 - val_AUC: 0.2662 - val_accuracy: 0.0714 - val_loss: 2.7608 - learning_rate: 0.0010\n",
      "Epoch 4/30\n",
      "\u001b[1m1/1\u001b[0m \u001b[32m━━━━━━━━━━━━━━━━━━━━\u001b[0m\u001b[37m\u001b[0m \u001b[1m0s\u001b[0m 41ms/step - AUC: 0.7433 - accuracy: 0.5000 - loss: 1.3883"
     ]
    },
    {
     "name": "stderr",
     "output_type": "stream",
     "text": [
      "WARNING:absl:You are saving your model as an HDF5 file via `model.save()` or `keras.saving.save_model(model)`. This file format is considered legacy. We recommend using instead the native Keras format, e.g. `model.save('my_model.keras')` or `keras.saving.save_model(model, 'my_model.keras')`. \n"
     ]
    },
    {
     "name": "stdout",
     "output_type": "stream",
     "text": [
      "\u001b[1m1/1\u001b[0m \u001b[32m━━━━━━━━━━━━━━━━━━━━\u001b[0m\u001b[37m\u001b[0m \u001b[1m0s\u001b[0m 187ms/step - AUC: 0.7433 - accuracy: 0.5000 - loss: 1.3883 - val_AUC: 0.2928 - val_accuracy: 0.1429 - val_loss: 2.7344 - learning_rate: 0.0010\n",
      "Epoch 5/30\n",
      "\u001b[1m1/1\u001b[0m \u001b[32m━━━━━━━━━━━━━━━━━━━━\u001b[0m\u001b[37m\u001b[0m \u001b[1m0s\u001b[0m 35ms/step - AUC: 0.7941 - accuracy: 0.5217 - loss: 1.3426"
     ]
    },
    {
     "name": "stderr",
     "output_type": "stream",
     "text": [
      "WARNING:absl:You are saving your model as an HDF5 file via `model.save()` or `keras.saving.save_model(model)`. This file format is considered legacy. We recommend using instead the native Keras format, e.g. `model.save('my_model.keras')` or `keras.saving.save_model(model, 'my_model.keras')`. \n"
     ]
    },
    {
     "name": "stdout",
     "output_type": "stream",
     "text": [
      "\u001b[1m1/1\u001b[0m \u001b[32m━━━━━━━━━━━━━━━━━━━━\u001b[0m\u001b[37m\u001b[0m \u001b[1m0s\u001b[0m 177ms/step - AUC: 0.7941 - accuracy: 0.5217 - loss: 1.3426 - val_AUC: 0.3461 - val_accuracy: 0.1429 - val_loss: 2.5860 - learning_rate: 0.0010\n",
      "Epoch 6/30\n",
      "\u001b[1m1/1\u001b[0m \u001b[32m━━━━━━━━━━━━━━━━━━━━\u001b[0m\u001b[37m\u001b[0m \u001b[1m0s\u001b[0m 34ms/step - AUC: 0.7868 - accuracy: 0.5870 - loss: 1.3410"
     ]
    },
    {
     "name": "stderr",
     "output_type": "stream",
     "text": [
      "WARNING:absl:You are saving your model as an HDF5 file via `model.save()` or `keras.saving.save_model(model)`. This file format is considered legacy. We recommend using instead the native Keras format, e.g. `model.save('my_model.keras')` or `keras.saving.save_model(model, 'my_model.keras')`. \n"
     ]
    },
    {
     "name": "stdout",
     "output_type": "stream",
     "text": [
      "\u001b[1m1/1\u001b[0m \u001b[32m━━━━━━━━━━━━━━━━━━━━\u001b[0m\u001b[37m\u001b[0m \u001b[1m0s\u001b[0m 179ms/step - AUC: 0.7868 - accuracy: 0.5870 - loss: 1.3410 - val_AUC: 0.3727 - val_accuracy: 0.1429 - val_loss: 2.4843 - learning_rate: 0.0010\n",
      "Epoch 7/30\n",
      "\u001b[1m1/1\u001b[0m \u001b[32m━━━━━━━━━━━━━━━━━━━━\u001b[0m\u001b[37m\u001b[0m \u001b[1m0s\u001b[0m 36ms/step - AUC: 0.7392 - accuracy: 0.5000 - loss: 1.3466"
     ]
    },
    {
     "name": "stderr",
     "output_type": "stream",
     "text": [
      "WARNING:absl:You are saving your model as an HDF5 file via `model.save()` or `keras.saving.save_model(model)`. This file format is considered legacy. We recommend using instead the native Keras format, e.g. `model.save('my_model.keras')` or `keras.saving.save_model(model, 'my_model.keras')`. \n"
     ]
    },
    {
     "name": "stdout",
     "output_type": "stream",
     "text": [
      "\u001b[1m1/1\u001b[0m \u001b[32m━━━━━━━━━━━━━━━━━━━━\u001b[0m\u001b[37m\u001b[0m \u001b[1m0s\u001b[0m 197ms/step - AUC: 0.7392 - accuracy: 0.5000 - loss: 1.3466 - val_AUC: 0.3808 - val_accuracy: 0.1429 - val_loss: 2.4821 - learning_rate: 0.0010\n",
      "Epoch 8/30\n",
      "\u001b[1m1/1\u001b[0m \u001b[32m━━━━━━━━━━━━━━━━━━━━\u001b[0m\u001b[37m\u001b[0m \u001b[1m0s\u001b[0m 35ms/step - AUC: 0.8070 - accuracy: 0.5217 - loss: 1.2852"
     ]
    },
    {
     "name": "stderr",
     "output_type": "stream",
     "text": [
      "WARNING:absl:You are saving your model as an HDF5 file via `model.save()` or `keras.saving.save_model(model)`. This file format is considered legacy. We recommend using instead the native Keras format, e.g. `model.save('my_model.keras')` or `keras.saving.save_model(model, 'my_model.keras')`. \n"
     ]
    },
    {
     "name": "stdout",
     "output_type": "stream",
     "text": [
      "\u001b[1m1/1\u001b[0m \u001b[32m━━━━━━━━━━━━━━━━━━━━\u001b[0m\u001b[37m\u001b[0m \u001b[1m0s\u001b[0m 180ms/step - AUC: 0.8070 - accuracy: 0.5217 - loss: 1.2852 - val_AUC: 0.3981 - val_accuracy: 0.1429 - val_loss: 2.4395 - learning_rate: 0.0010\n",
      "Epoch 9/30\n",
      "\u001b[1m1/1\u001b[0m \u001b[32m━━━━━━━━━━━━━━━━━━━━\u001b[0m\u001b[37m\u001b[0m \u001b[1m0s\u001b[0m 36ms/step - AUC: 0.7700 - accuracy: 0.4783 - loss: 1.3359"
     ]
    },
    {
     "name": "stderr",
     "output_type": "stream",
     "text": [
      "WARNING:absl:You are saving your model as an HDF5 file via `model.save()` or `keras.saving.save_model(model)`. This file format is considered legacy. We recommend using instead the native Keras format, e.g. `model.save('my_model.keras')` or `keras.saving.save_model(model, 'my_model.keras')`. \n"
     ]
    },
    {
     "name": "stdout",
     "output_type": "stream",
     "text": [
      "\u001b[1m1/1\u001b[0m \u001b[32m━━━━━━━━━━━━━━━━━━━━\u001b[0m\u001b[37m\u001b[0m \u001b[1m0s\u001b[0m 186ms/step - AUC: 0.7700 - accuracy: 0.4783 - loss: 1.3359 - val_AUC: 0.4086 - val_accuracy: 0.1429 - val_loss: 2.3857 - learning_rate: 0.0010\n",
      "Epoch 10/30\n",
      "\u001b[1m1/1\u001b[0m \u001b[32m━━━━━━━━━━━━━━━━━━━━\u001b[0m\u001b[37m\u001b[0m \u001b[1m0s\u001b[0m 38ms/step - AUC: 0.8323 - accuracy: 0.6304 - loss: 1.2488"
     ]
    },
    {
     "name": "stderr",
     "output_type": "stream",
     "text": [
      "WARNING:absl:You are saving your model as an HDF5 file via `model.save()` or `keras.saving.save_model(model)`. This file format is considered legacy. We recommend using instead the native Keras format, e.g. `model.save('my_model.keras')` or `keras.saving.save_model(model, 'my_model.keras')`. \n"
     ]
    },
    {
     "name": "stdout",
     "output_type": "stream",
     "text": [
      "\u001b[1m1/1\u001b[0m \u001b[32m━━━━━━━━━━━━━━━━━━━━\u001b[0m\u001b[37m\u001b[0m \u001b[1m0s\u001b[0m 211ms/step - AUC: 0.8323 - accuracy: 0.6304 - loss: 1.2488 - val_AUC: 0.4016 - val_accuracy: 0.1429 - val_loss: 2.3439 - learning_rate: 0.0010\n",
      "Epoch 11/30\n",
      "\u001b[1m1/1\u001b[0m \u001b[32m━━━━━━━━━━━━━━━━━━━━\u001b[0m\u001b[37m\u001b[0m \u001b[1m0s\u001b[0m 38ms/step - AUC: 0.7865 - accuracy: 0.4565 - loss: 1.2680"
     ]
    },
    {
     "name": "stderr",
     "output_type": "stream",
     "text": [
      "WARNING:absl:You are saving your model as an HDF5 file via `model.save()` or `keras.saving.save_model(model)`. This file format is considered legacy. We recommend using instead the native Keras format, e.g. `model.save('my_model.keras')` or `keras.saving.save_model(model, 'my_model.keras')`. \n"
     ]
    },
    {
     "name": "stdout",
     "output_type": "stream",
     "text": [
      "\u001b[1m1/1\u001b[0m \u001b[32m━━━━━━━━━━━━━━━━━━━━\u001b[0m\u001b[37m\u001b[0m \u001b[1m0s\u001b[0m 200ms/step - AUC: 0.7865 - accuracy: 0.4565 - loss: 1.2680 - val_AUC: 0.4051 - val_accuracy: 0.1429 - val_loss: 2.2689 - learning_rate: 0.0010\n",
      "Epoch 12/30\n",
      "\u001b[1m1/1\u001b[0m \u001b[32m━━━━━━━━━━━━━━━━━━━━\u001b[0m\u001b[37m\u001b[0m \u001b[1m0s\u001b[0m 41ms/step - AUC: 0.8547 - accuracy: 0.4783 - loss: 1.2071"
     ]
    },
    {
     "name": "stderr",
     "output_type": "stream",
     "text": [
      "WARNING:absl:You are saving your model as an HDF5 file via `model.save()` or `keras.saving.save_model(model)`. This file format is considered legacy. We recommend using instead the native Keras format, e.g. `model.save('my_model.keras')` or `keras.saving.save_model(model, 'my_model.keras')`. \n"
     ]
    },
    {
     "name": "stdout",
     "output_type": "stream",
     "text": [
      "\u001b[1m1/1\u001b[0m \u001b[32m━━━━━━━━━━━━━━━━━━━━\u001b[0m\u001b[37m\u001b[0m \u001b[1m0s\u001b[0m 211ms/step - AUC: 0.8547 - accuracy: 0.4783 - loss: 1.2071 - val_AUC: 0.4063 - val_accuracy: 0.1429 - val_loss: 2.2309 - learning_rate: 0.0010\n",
      "Epoch 13/30\n",
      "\u001b[1m1/1\u001b[0m \u001b[32m━━━━━━━━━━━━━━━━━━━━\u001b[0m\u001b[37m\u001b[0m \u001b[1m0s\u001b[0m 39ms/step - AUC: 0.8731 - accuracy: 0.5000 - loss: 1.1731"
     ]
    },
    {
     "name": "stderr",
     "output_type": "stream",
     "text": [
      "WARNING:absl:You are saving your model as an HDF5 file via `model.save()` or `keras.saving.save_model(model)`. This file format is considered legacy. We recommend using instead the native Keras format, e.g. `model.save('my_model.keras')` or `keras.saving.save_model(model, 'my_model.keras')`. \n"
     ]
    },
    {
     "name": "stdout",
     "output_type": "stream",
     "text": [
      "\u001b[1m1/1\u001b[0m \u001b[32m━━━━━━━━━━━━━━━━━━━━\u001b[0m\u001b[37m\u001b[0m \u001b[1m0s\u001b[0m 204ms/step - AUC: 0.8731 - accuracy: 0.5000 - loss: 1.1731 - val_AUC: 0.4051 - val_accuracy: 0.1429 - val_loss: 2.1755 - learning_rate: 0.0010\n",
      "Epoch 14/30\n",
      "\u001b[1m1/1\u001b[0m \u001b[32m━━━━━━━━━━━━━━━━━━━━\u001b[0m\u001b[37m\u001b[0m \u001b[1m0s\u001b[0m 42ms/step - AUC: 0.8429 - accuracy: 0.4783 - loss: 1.1868"
     ]
    },
    {
     "name": "stderr",
     "output_type": "stream",
     "text": [
      "WARNING:absl:You are saving your model as an HDF5 file via `model.save()` or `keras.saving.save_model(model)`. This file format is considered legacy. We recommend using instead the native Keras format, e.g. `model.save('my_model.keras')` or `keras.saving.save_model(model, 'my_model.keras')`. \n"
     ]
    },
    {
     "name": "stdout",
     "output_type": "stream",
     "text": [
      "\u001b[1m1/1\u001b[0m \u001b[32m━━━━━━━━━━━━━━━━━━━━\u001b[0m\u001b[37m\u001b[0m \u001b[1m0s\u001b[0m 201ms/step - AUC: 0.8429 - accuracy: 0.4783 - loss: 1.1868 - val_AUC: 0.3935 - val_accuracy: 0.1429 - val_loss: 2.1192 - learning_rate: 0.0010\n",
      "Epoch 15/30\n",
      "\u001b[1m1/1\u001b[0m \u001b[32m━━━━━━━━━━━━━━━━━━━━\u001b[0m\u001b[37m\u001b[0m \u001b[1m0s\u001b[0m 38ms/step - AUC: 0.8581 - accuracy: 0.5000 - loss: 1.1729"
     ]
    },
    {
     "name": "stderr",
     "output_type": "stream",
     "text": [
      "WARNING:absl:You are saving your model as an HDF5 file via `model.save()` or `keras.saving.save_model(model)`. This file format is considered legacy. We recommend using instead the native Keras format, e.g. `model.save('my_model.keras')` or `keras.saving.save_model(model, 'my_model.keras')`. \n"
     ]
    },
    {
     "name": "stdout",
     "output_type": "stream",
     "text": [
      "\u001b[1m1/1\u001b[0m \u001b[32m━━━━━━━━━━━━━━━━━━━━\u001b[0m\u001b[37m\u001b[0m \u001b[1m0s\u001b[0m 198ms/step - AUC: 0.8581 - accuracy: 0.5000 - loss: 1.1729 - val_AUC: 0.3669 - val_accuracy: 0.1429 - val_loss: 2.0696 - learning_rate: 0.0010\n",
      "Epoch 16/30\n",
      "\u001b[1m1/1\u001b[0m \u001b[32m━━━━━━━━━━━━━━━━━━━━\u001b[0m\u001b[37m\u001b[0m \u001b[1m0s\u001b[0m 37ms/step - AUC: 0.8541 - accuracy: 0.4348 - loss: 1.1537"
     ]
    },
    {
     "name": "stderr",
     "output_type": "stream",
     "text": [
      "WARNING:absl:You are saving your model as an HDF5 file via `model.save()` or `keras.saving.save_model(model)`. This file format is considered legacy. We recommend using instead the native Keras format, e.g. `model.save('my_model.keras')` or `keras.saving.save_model(model, 'my_model.keras')`. \n"
     ]
    },
    {
     "name": "stdout",
     "output_type": "stream",
     "text": [
      "\u001b[1m1/1\u001b[0m \u001b[32m━━━━━━━━━━━━━━━━━━━━\u001b[0m\u001b[37m\u001b[0m \u001b[1m0s\u001b[0m 206ms/step - AUC: 0.8541 - accuracy: 0.4348 - loss: 1.1537 - val_AUC: 0.3681 - val_accuracy: 0.0714 - val_loss: 2.0225 - learning_rate: 0.0010\n",
      "Epoch 17/30\n",
      "\u001b[1m1/1\u001b[0m \u001b[32m━━━━━━━━━━━━━━━━━━━━\u001b[0m\u001b[37m\u001b[0m \u001b[1m0s\u001b[0m 43ms/step - AUC: 0.8405 - accuracy: 0.4783 - loss: 1.1568"
     ]
    },
    {
     "name": "stderr",
     "output_type": "stream",
     "text": [
      "WARNING:absl:You are saving your model as an HDF5 file via `model.save()` or `keras.saving.save_model(model)`. This file format is considered legacy. We recommend using instead the native Keras format, e.g. `model.save('my_model.keras')` or `keras.saving.save_model(model, 'my_model.keras')`. \n"
     ]
    },
    {
     "name": "stdout",
     "output_type": "stream",
     "text": [
      "\u001b[1m1/1\u001b[0m \u001b[32m━━━━━━━━━━━━━━━━━━━━\u001b[0m\u001b[37m\u001b[0m \u001b[1m0s\u001b[0m 252ms/step - AUC: 0.8405 - accuracy: 0.4783 - loss: 1.1568 - val_AUC: 0.3611 - val_accuracy: 0.0714 - val_loss: 1.9781 - learning_rate: 0.0010\n",
      "Epoch 18/30\n",
      "\u001b[1m1/1\u001b[0m \u001b[32m━━━━━━━━━━━━━━━━━━━━\u001b[0m\u001b[37m\u001b[0m \u001b[1m0s\u001b[0m 64ms/step - AUC: 0.8956 - accuracy: 0.5217 - loss: 1.1027"
     ]
    },
    {
     "name": "stderr",
     "output_type": "stream",
     "text": [
      "WARNING:absl:You are saving your model as an HDF5 file via `model.save()` or `keras.saving.save_model(model)`. This file format is considered legacy. We recommend using instead the native Keras format, e.g. `model.save('my_model.keras')` or `keras.saving.save_model(model, 'my_model.keras')`. \n"
     ]
    },
    {
     "name": "stdout",
     "output_type": "stream",
     "text": [
      "\u001b[1m1/1\u001b[0m \u001b[32m━━━━━━━━━━━━━━━━━━━━\u001b[0m\u001b[37m\u001b[0m \u001b[1m0s\u001b[0m 255ms/step - AUC: 0.8956 - accuracy: 0.5217 - loss: 1.1027 - val_AUC: 0.3576 - val_accuracy: 0.0714 - val_loss: 1.9371 - learning_rate: 0.0010\n",
      "Epoch 19/30\n",
      "\u001b[1m1/1\u001b[0m \u001b[32m━━━━━━━━━━━━━━━━━━━━\u001b[0m\u001b[37m\u001b[0m \u001b[1m0s\u001b[0m 49ms/step - AUC: 0.8800 - accuracy: 0.6087 - loss: 1.1000"
     ]
    },
    {
     "name": "stderr",
     "output_type": "stream",
     "text": [
      "WARNING:absl:You are saving your model as an HDF5 file via `model.save()` or `keras.saving.save_model(model)`. This file format is considered legacy. We recommend using instead the native Keras format, e.g. `model.save('my_model.keras')` or `keras.saving.save_model(model, 'my_model.keras')`. \n"
     ]
    },
    {
     "name": "stdout",
     "output_type": "stream",
     "text": [
      "\u001b[1m1/1\u001b[0m \u001b[32m━━━━━━━━━━━━━━━━━━━━\u001b[0m\u001b[37m\u001b[0m \u001b[1m0s\u001b[0m 218ms/step - AUC: 0.8800 - accuracy: 0.6087 - loss: 1.1000 - val_AUC: 0.3611 - val_accuracy: 0.0714 - val_loss: 1.9001 - learning_rate: 0.0010\n",
      "Epoch 20/30\n",
      "\u001b[1m1/1\u001b[0m \u001b[32m━━━━━━━━━━━━━━━━━━━━\u001b[0m\u001b[37m\u001b[0m \u001b[1m0s\u001b[0m 38ms/step - AUC: 0.8781 - accuracy: 0.5000 - loss: 1.1046"
     ]
    },
    {
     "name": "stderr",
     "output_type": "stream",
     "text": [
      "WARNING:absl:You are saving your model as an HDF5 file via `model.save()` or `keras.saving.save_model(model)`. This file format is considered legacy. We recommend using instead the native Keras format, e.g. `model.save('my_model.keras')` or `keras.saving.save_model(model, 'my_model.keras')`. \n"
     ]
    },
    {
     "name": "stdout",
     "output_type": "stream",
     "text": [
      "\u001b[1m1/1\u001b[0m \u001b[32m━━━━━━━━━━━━━━━━━━━━\u001b[0m\u001b[37m\u001b[0m \u001b[1m0s\u001b[0m 220ms/step - AUC: 0.8781 - accuracy: 0.5000 - loss: 1.1046 - val_AUC: 0.3553 - val_accuracy: 0.0714 - val_loss: 1.8729 - learning_rate: 0.0010\n",
      "Epoch 21/30\n",
      "\u001b[1m1/1\u001b[0m \u001b[32m━━━━━━━━━━━━━━━━━━━━\u001b[0m\u001b[37m\u001b[0m \u001b[1m0s\u001b[0m 50ms/step - AUC: 0.8819 - accuracy: 0.5652 - loss: 1.0897"
     ]
    },
    {
     "name": "stderr",
     "output_type": "stream",
     "text": [
      "WARNING:absl:You are saving your model as an HDF5 file via `model.save()` or `keras.saving.save_model(model)`. This file format is considered legacy. We recommend using instead the native Keras format, e.g. `model.save('my_model.keras')` or `keras.saving.save_model(model, 'my_model.keras')`. \n"
     ]
    },
    {
     "name": "stdout",
     "output_type": "stream",
     "text": [
      "\u001b[1m1/1\u001b[0m \u001b[32m━━━━━━━━━━━━━━━━━━━━\u001b[0m\u001b[37m\u001b[0m \u001b[1m0s\u001b[0m 391ms/step - AUC: 0.8819 - accuracy: 0.5652 - loss: 1.0897 - val_AUC: 0.3461 - val_accuracy: 0.0714 - val_loss: 1.8544 - learning_rate: 0.0010\n",
      "Epoch 22/30\n",
      "\u001b[1m1/1\u001b[0m \u001b[32m━━━━━━━━━━━━━━━━━━━━\u001b[0m\u001b[37m\u001b[0m \u001b[1m0s\u001b[0m 49ms/step - AUC: 0.8960 - accuracy: 0.5217 - loss: 1.0618"
     ]
    },
    {
     "name": "stderr",
     "output_type": "stream",
     "text": [
      "WARNING:absl:You are saving your model as an HDF5 file via `model.save()` or `keras.saving.save_model(model)`. This file format is considered legacy. We recommend using instead the native Keras format, e.g. `model.save('my_model.keras')` or `keras.saving.save_model(model, 'my_model.keras')`. \n"
     ]
    },
    {
     "name": "stdout",
     "output_type": "stream",
     "text": [
      "\u001b[1m1/1\u001b[0m \u001b[32m━━━━━━━━━━━━━━━━━━━━\u001b[0m\u001b[37m\u001b[0m \u001b[1m0s\u001b[0m 241ms/step - AUC: 0.8960 - accuracy: 0.5217 - loss: 1.0618 - val_AUC: 0.3553 - val_accuracy: 0.0714 - val_loss: 1.8386 - learning_rate: 0.0010\n",
      "Epoch 23/30\n",
      "\u001b[1m1/1\u001b[0m \u001b[32m━━━━━━━━━━━━━━━━━━━━\u001b[0m\u001b[37m\u001b[0m \u001b[1m0s\u001b[0m 50ms/step - AUC: 0.9128 - accuracy: 0.5435 - loss: 1.0430"
     ]
    },
    {
     "name": "stderr",
     "output_type": "stream",
     "text": [
      "WARNING:absl:You are saving your model as an HDF5 file via `model.save()` or `keras.saving.save_model(model)`. This file format is considered legacy. We recommend using instead the native Keras format, e.g. `model.save('my_model.keras')` or `keras.saving.save_model(model, 'my_model.keras')`. \n"
     ]
    },
    {
     "name": "stdout",
     "output_type": "stream",
     "text": [
      "\u001b[1m1/1\u001b[0m \u001b[32m━━━━━━━━━━━━━━━━━━━━\u001b[0m\u001b[37m\u001b[0m \u001b[1m0s\u001b[0m 237ms/step - AUC: 0.9128 - accuracy: 0.5435 - loss: 1.0430 - val_AUC: 0.3576 - val_accuracy: 0.0714 - val_loss: 1.8307 - learning_rate: 0.0010\n",
      "Epoch 24/30\n",
      "\u001b[1m1/1\u001b[0m \u001b[32m━━━━━━━━━━━━━━━━━━━━\u001b[0m\u001b[37m\u001b[0m \u001b[1m0s\u001b[0m 46ms/step - AUC: 0.8912 - accuracy: 0.5652 - loss: 1.0576"
     ]
    },
    {
     "name": "stderr",
     "output_type": "stream",
     "text": [
      "WARNING:absl:You are saving your model as an HDF5 file via `model.save()` or `keras.saving.save_model(model)`. This file format is considered legacy. We recommend using instead the native Keras format, e.g. `model.save('my_model.keras')` or `keras.saving.save_model(model, 'my_model.keras')`. \n"
     ]
    },
    {
     "name": "stdout",
     "output_type": "stream",
     "text": [
      "\u001b[1m1/1\u001b[0m \u001b[32m━━━━━━━━━━━━━━━━━━━━\u001b[0m\u001b[37m\u001b[0m \u001b[1m0s\u001b[0m 263ms/step - AUC: 0.8912 - accuracy: 0.5652 - loss: 1.0576 - val_AUC: 0.3576 - val_accuracy: 0.0714 - val_loss: 1.8188 - learning_rate: 0.0010\n",
      "Epoch 25/30\n",
      "\u001b[1m1/1\u001b[0m \u001b[32m━━━━━━━━━━━━━━━━━━━━\u001b[0m\u001b[37m\u001b[0m \u001b[1m0s\u001b[0m 49ms/step - AUC: 0.8992 - accuracy: 0.5000 - loss: 1.0479"
     ]
    },
    {
     "name": "stderr",
     "output_type": "stream",
     "text": [
      "WARNING:absl:You are saving your model as an HDF5 file via `model.save()` or `keras.saving.save_model(model)`. This file format is considered legacy. We recommend using instead the native Keras format, e.g. `model.save('my_model.keras')` or `keras.saving.save_model(model, 'my_model.keras')`. \n"
     ]
    },
    {
     "name": "stdout",
     "output_type": "stream",
     "text": [
      "\u001b[1m1/1\u001b[0m \u001b[32m━━━━━━━━━━━━━━━━━━━━\u001b[0m\u001b[37m\u001b[0m \u001b[1m0s\u001b[0m 243ms/step - AUC: 0.8992 - accuracy: 0.5000 - loss: 1.0479 - val_AUC: 0.3495 - val_accuracy: 0.0714 - val_loss: 1.8085 - learning_rate: 0.0010\n",
      "Epoch 26/30\n",
      "\u001b[1m1/1\u001b[0m \u001b[32m━━━━━━━━━━━━━━━━━━━━\u001b[0m\u001b[37m\u001b[0m \u001b[1m0s\u001b[0m 70ms/step - AUC: 0.9051 - accuracy: 0.5870 - loss: 1.0347"
     ]
    },
    {
     "name": "stderr",
     "output_type": "stream",
     "text": [
      "WARNING:absl:You are saving your model as an HDF5 file via `model.save()` or `keras.saving.save_model(model)`. This file format is considered legacy. We recommend using instead the native Keras format, e.g. `model.save('my_model.keras')` or `keras.saving.save_model(model, 'my_model.keras')`. \n"
     ]
    },
    {
     "name": "stdout",
     "output_type": "stream",
     "text": [
      "\u001b[1m1/1\u001b[0m \u001b[32m━━━━━━━━━━━━━━━━━━━━\u001b[0m\u001b[37m\u001b[0m \u001b[1m0s\u001b[0m 259ms/step - AUC: 0.9051 - accuracy: 0.5870 - loss: 1.0347 - val_AUC: 0.3542 - val_accuracy: 0.0714 - val_loss: 1.7961 - learning_rate: 0.0010\n",
      "Epoch 27/30\n",
      "\u001b[1m1/1\u001b[0m \u001b[32m━━━━━━━━━━━━━━━━━━━━\u001b[0m\u001b[37m\u001b[0m \u001b[1m0s\u001b[0m 45ms/step - AUC: 0.9071 - accuracy: 0.5435 - loss: 1.0193"
     ]
    },
    {
     "name": "stderr",
     "output_type": "stream",
     "text": [
      "WARNING:absl:You are saving your model as an HDF5 file via `model.save()` or `keras.saving.save_model(model)`. This file format is considered legacy. We recommend using instead the native Keras format, e.g. `model.save('my_model.keras')` or `keras.saving.save_model(model, 'my_model.keras')`. \n"
     ]
    },
    {
     "name": "stdout",
     "output_type": "stream",
     "text": [
      "\u001b[1m1/1\u001b[0m \u001b[32m━━━━━━━━━━━━━━━━━━━━\u001b[0m\u001b[37m\u001b[0m \u001b[1m0s\u001b[0m 241ms/step - AUC: 0.9071 - accuracy: 0.5435 - loss: 1.0193 - val_AUC: 0.3600 - val_accuracy: 0.0714 - val_loss: 1.7862 - learning_rate: 0.0010\n",
      "Epoch 28/30\n",
      "\u001b[1m1/1\u001b[0m \u001b[32m━━━━━━━━━━━━━━━━━━━━\u001b[0m\u001b[37m\u001b[0m \u001b[1m0s\u001b[0m 54ms/step - AUC: 0.9099 - accuracy: 0.5435 - loss: 1.0111"
     ]
    },
    {
     "name": "stderr",
     "output_type": "stream",
     "text": [
      "WARNING:absl:You are saving your model as an HDF5 file via `model.save()` or `keras.saving.save_model(model)`. This file format is considered legacy. We recommend using instead the native Keras format, e.g. `model.save('my_model.keras')` or `keras.saving.save_model(model, 'my_model.keras')`. \n"
     ]
    },
    {
     "name": "stdout",
     "output_type": "stream",
     "text": [
      "\u001b[1m1/1\u001b[0m \u001b[32m━━━━━━━━━━━━━━━━━━━━\u001b[0m\u001b[37m\u001b[0m \u001b[1m0s\u001b[0m 272ms/step - AUC: 0.9099 - accuracy: 0.5435 - loss: 1.0111 - val_AUC: 0.3692 - val_accuracy: 0.0714 - val_loss: 1.7661 - learning_rate: 0.0010\n",
      "Epoch 29/30\n",
      "\u001b[1m1/1\u001b[0m \u001b[32m━━━━━━━━━━━━━━━━━━━━\u001b[0m\u001b[37m\u001b[0m \u001b[1m0s\u001b[0m 47ms/step - AUC: 0.9191 - accuracy: 0.6087 - loss: 0.9849"
     ]
    },
    {
     "name": "stderr",
     "output_type": "stream",
     "text": [
      "WARNING:absl:You are saving your model as an HDF5 file via `model.save()` or `keras.saving.save_model(model)`. This file format is considered legacy. We recommend using instead the native Keras format, e.g. `model.save('my_model.keras')` or `keras.saving.save_model(model, 'my_model.keras')`. \n"
     ]
    },
    {
     "name": "stdout",
     "output_type": "stream",
     "text": [
      "\u001b[1m1/1\u001b[0m \u001b[32m━━━━━━━━━━━━━━━━━━━━\u001b[0m\u001b[37m\u001b[0m \u001b[1m0s\u001b[0m 248ms/step - AUC: 0.9191 - accuracy: 0.6087 - loss: 0.9849 - val_AUC: 0.3681 - val_accuracy: 0.0714 - val_loss: 1.7568 - learning_rate: 0.0010\n",
      "Epoch 30/30\n",
      "\u001b[1m1/1\u001b[0m \u001b[32m━━━━━━━━━━━━━━━━━━━━\u001b[0m\u001b[37m\u001b[0m \u001b[1m0s\u001b[0m 47ms/step - AUC: 0.9229 - accuracy: 0.5870 - loss: 0.9847"
     ]
    },
    {
     "name": "stderr",
     "output_type": "stream",
     "text": [
      "WARNING:absl:You are saving your model as an HDF5 file via `model.save()` or `keras.saving.save_model(model)`. This file format is considered legacy. We recommend using instead the native Keras format, e.g. `model.save('my_model.keras')` or `keras.saving.save_model(model, 'my_model.keras')`. \n"
     ]
    },
    {
     "name": "stdout",
     "output_type": "stream",
     "text": [
      "\u001b[1m1/1\u001b[0m \u001b[32m━━━━━━━━━━━━━━━━━━━━\u001b[0m\u001b[37m\u001b[0m \u001b[1m0s\u001b[0m 254ms/step - AUC: 0.9229 - accuracy: 0.5870 - loss: 0.9847 - val_AUC: 0.3681 - val_accuracy: 0.0714 - val_loss: 1.7350 - learning_rate: 0.0010\n"
     ]
    }
   ],
   "source": [
    "from tensorflow.keras.callbacks import EarlyStopping, ReduceLROnPlateau, ModelCheckpoint\n",
    "\n",
    "model_file = os.path.join(MODEL_PATH, \"cnn_best_model_on_crpwarner.h5\")\n",
    "\n",
    "callbacks = [\n",
    "    EarlyStopping(monitor='val_loss', patience=6, restore_best_weights=True),\n",
    "    ReduceLROnPlateau(monitor='val_loss', factor=0.5, patience=3, verbose=1),\n",
    "    ModelCheckpoint(model_file, save_best_only=True)\n",
    "]\n",
    "\n",
    "history = model.fit(\n",
    "    X_train, y_train,\n",
    "    validation_data=(X_test, y_test),\n",
    "    epochs=30,\n",
    "    batch_size=64,\n",
    "    callbacks=callbacks,\n",
    "    verbose=1\n",
    ")\n"
   ]
  },
  {
   "cell_type": "code",
   "execution_count": 15,
   "id": "b3a35451",
   "metadata": {},
   "outputs": [
    {
     "name": "stderr",
     "output_type": "stream",
     "text": [
      "WARNING:absl:Compiled the loaded model, but the compiled metrics have yet to be built. `model.compile_metrics` will be empty until you train or evaluate the model.\n"
     ]
    }
   ],
   "source": [
    "mode = load_model(model_file)"
   ]
  },
  {
   "cell_type": "code",
   "execution_count": 16,
   "id": "839f038e",
   "metadata": {},
   "outputs": [
    {
     "data": {
      "image/png": "[encoded data removed]",
      "text/plain": [
       "<Figure size 640x480 with 1 Axes>"
      ]
     },
     "metadata": {},
     "output_type": "display_data"
    }
   ],
   "source": [
    "import matplotlib.pyplot as plt\n",
    "\n",
    "plt.plot(history.history['loss'], label='Train Loss')\n",
    "plt.plot(history.history['val_loss'], label='Val Loss')\n",
    "plt.legend()\n",
    "plt.title(\"Training vs Validation Loss\")\n",
    "plt.xlabel(\"Epochs\")\n",
    "plt.ylabel(\"Loss\")\n",
    "plt.show()\n"
   ]
  },
  {
   "cell_type": "code",
   "execution_count": 18,
   "id": "a53d1779",
   "metadata": {},
   "outputs": [
    {
     "name": "stdout",
     "output_type": "stream",
     "text": [
      "1/1 - 0s - 76ms/step - AUC: 0.3681 - accuracy: 0.0714 - loss: 1.7350\n",
      "Restored model, accuracy:  7.14%\n"
     ]
    }
   ],
   "source": [
    "loss, acc, auc = model.evaluate(X_test, y_test, verbose=2)\n",
    "print('Restored model, accuracy: {:5.2f}%'.format(100 * acc))"
   ]
  },
  {
   "cell_type": "code",
   "execution_count": 20,
   "id": "17fdbc0c",
   "metadata": {},
   "outputs": [
    {
     "name": "stdout",
     "output_type": "stream",
     "text": [
      "\u001b[1m1/1\u001b[0m \u001b[32m━━━━━━━━━━━━━━━━━━━━\u001b[0m\u001b[37m\u001b[0m \u001b[1m0s\u001b[0m 63ms/step\n",
      "CNN:\n",
      "Accuracy: 0.07142857142857142\n",
      "Precision: 0.24074074074074073\n",
      "Recall: 0.25925925925925924\n",
      "F1 Score: 0.1717171717171717\n",
      "              precision    recall  f1-score   support\n",
      "\n",
      "        mint       0.00      0.00      0.00         6\n",
      "        leak       0.22      0.67      0.33         3\n",
      "       limit       0.50      0.11      0.18         9\n",
      "\n",
      "   micro avg       0.27      0.17      0.21        18\n",
      "   macro avg       0.24      0.26      0.17        18\n",
      "weighted avg       0.29      0.17      0.15        18\n",
      " samples avg       0.14      0.10      0.11        18\n",
      "\n"
     ]
    }
   ],
   "source": [
    "# Predict probabilities\n",
    "y_pred_prob = model.predict(X_test)\n",
    "\n",
    "# Apply threshold to get binary predictions\n",
    "y_pred = (y_pred_prob >= 0.5).astype(int)\n",
    "\n",
    "print(\"CNN:\")\n",
    "print(\"Accuracy:\", accuracy_score(y_test, y_pred))\n",
    "print(\"Precision:\", precision_score(y_test, y_pred, average=\"macro\", zero_division=0))\n",
    "print(\"Recall:\", recall_score(y_test, y_pred, average=\"macro\", zero_division=0))\n",
    "print(\"F1 Score:\", f1_score(y_test, y_pred, average=\"macro\", zero_division=0))\n",
    "\n",
    "print(classification_report(y_test, y_pred, target_names=labels))"
   ]
  },
  {
   "cell_type": "markdown",
   "id": "f3f5b125",
   "metadata": {},
   "source": [
    "## CNN With Autoencoder"
   ]
  },
  {
   "cell_type": "code",
   "execution_count": 21,
   "id": "93420cf2",
   "metadata": {},
   "outputs": [
    {
     "name": "stdout",
     "output_type": "stream",
     "text": [
      "Epoch 1/30\n",
      "\u001b[1m1/1\u001b[0m \u001b[32m━━━━━━━━━━━━━━━━━━━━\u001b[0m\u001b[37m\u001b[0m \u001b[1m3s\u001b[0m 3s/step - loss: 6222.2290\n",
      "Epoch 2/30\n",
      "\u001b[1m1/1\u001b[0m \u001b[32m━━━━━━━━━━━━━━━━━━━━\u001b[0m\u001b[37m\u001b[0m \u001b[1m0s\u001b[0m 204ms/step - loss: 6217.3511\n",
      "Epoch 3/30\n",
      "\u001b[1m1/1\u001b[0m \u001b[32m━━━━━━━━━━━━━━━━━━━━\u001b[0m\u001b[37m\u001b[0m \u001b[1m0s\u001b[0m 310ms/step - loss: 6215.0620\n",
      "Epoch 4/30\n",
      "\u001b[1m1/1\u001b[0m \u001b[32m━━━━━━━━━━━━━━━━━━━━\u001b[0m\u001b[37m\u001b[0m \u001b[1m0s\u001b[0m 188ms/step - loss: 6213.7251\n",
      "Epoch 5/30\n",
      "\u001b[1m1/1\u001b[0m \u001b[32m━━━━━━━━━━━━━━━━━━━━\u001b[0m\u001b[37m\u001b[0m \u001b[1m0s\u001b[0m 148ms/step - loss: 6212.7720\n",
      "Epoch 6/30\n",
      "\u001b[1m1/1\u001b[0m \u001b[32m━━━━━━━━━━━━━━━━━━━━\u001b[0m\u001b[37m\u001b[0m \u001b[1m0s\u001b[0m 141ms/step - loss: 6212.6694\n",
      "Epoch 7/30\n",
      "\u001b[1m1/1\u001b[0m \u001b[32m━━━━━━━━━━━━━━━━━━━━\u001b[0m\u001b[37m\u001b[0m \u001b[1m0s\u001b[0m 189ms/step - loss: 6212.3989\n",
      "Epoch 8/30\n",
      "\u001b[1m1/1\u001b[0m \u001b[32m━━━━━━━━━━━━━━━━━━━━\u001b[0m\u001b[37m\u001b[0m \u001b[1m0s\u001b[0m 162ms/step - loss: 6210.4761\n",
      "Epoch 9/30\n",
      "\u001b[1m1/1\u001b[0m \u001b[32m━━━━━━━━━━━━━━━━━━━━\u001b[0m\u001b[37m\u001b[0m \u001b[1m0s\u001b[0m 168ms/step - loss: 6210.2339\n",
      "Epoch 10/30\n",
      "\u001b[1m1/1\u001b[0m \u001b[32m━━━━━━━━━━━━━━━━━━━━\u001b[0m\u001b[37m\u001b[0m \u001b[1m0s\u001b[0m 156ms/step - loss: 6210.1069\n",
      "Epoch 11/30\n",
      "\u001b[1m1/1\u001b[0m \u001b[32m━━━━━━━━━━━━━━━━━━━━\u001b[0m\u001b[37m\u001b[0m \u001b[1m0s\u001b[0m 202ms/step - loss: 6210.0640\n",
      "Epoch 12/30\n",
      "\u001b[1m1/1\u001b[0m \u001b[32m━━━━━━━━━━━━━━━━━━━━\u001b[0m\u001b[37m\u001b[0m \u001b[1m0s\u001b[0m 151ms/step - loss: 6210.0186\n",
      "Epoch 13/30\n",
      "\u001b[1m1/1\u001b[0m \u001b[32m━━━━━━━━━━━━━━━━━━━━\u001b[0m\u001b[37m\u001b[0m \u001b[1m0s\u001b[0m 144ms/step - loss: 6210.0054\n",
      "Epoch 14/30\n",
      "\u001b[1m1/1\u001b[0m \u001b[32m━━━━━━━━━━━━━━━━━━━━\u001b[0m\u001b[37m\u001b[0m \u001b[1m0s\u001b[0m 159ms/step - loss: 6209.9990\n",
      "Epoch 15/30\n",
      "\u001b[1m1/1\u001b[0m \u001b[32m━━━━━━━━━━━━━━━━━━━━\u001b[0m\u001b[37m\u001b[0m \u001b[1m0s\u001b[0m 199ms/step - loss: 6209.9702\n",
      "Epoch 16/30\n",
      "\u001b[1m1/1\u001b[0m \u001b[32m━━━━━━━━━━━━━━━━━━━━\u001b[0m\u001b[37m\u001b[0m \u001b[1m0s\u001b[0m 190ms/step - loss: 6209.9189\n",
      "Epoch 17/30\n",
      "\u001b[1m1/1\u001b[0m \u001b[32m━━━━━━━━━━━━━━━━━━━━\u001b[0m\u001b[37m\u001b[0m \u001b[1m0s\u001b[0m 190ms/step - loss: 6209.8569\n",
      "Epoch 18/30\n",
      "\u001b[1m1/1\u001b[0m \u001b[32m━━━━━━━━━━━━━━━━━━━━\u001b[0m\u001b[37m\u001b[0m \u001b[1m0s\u001b[0m 309ms/step - loss: 6209.8125\n",
      "Epoch 19/30\n",
      "\u001b[1m1/1\u001b[0m \u001b[32m━━━━━━━━━━━━━━━━━━━━\u001b[0m\u001b[37m\u001b[0m \u001b[1m0s\u001b[0m 205ms/step - loss: 6209.7939\n",
      "Epoch 20/30\n",
      "\u001b[1m1/1\u001b[0m \u001b[32m━━━━━━━━━━━━━━━━━━━━\u001b[0m\u001b[37m\u001b[0m \u001b[1m0s\u001b[0m 173ms/step - loss: 6209.7803\n",
      "Epoch 21/30\n",
      "\u001b[1m1/1\u001b[0m \u001b[32m━━━━━━━━━━━━━━━━━━━━\u001b[0m\u001b[37m\u001b[0m \u001b[1m0s\u001b[0m 227ms/step - loss: 6209.6191\n",
      "Epoch 22/30\n",
      "\u001b[1m1/1\u001b[0m \u001b[32m━━━━━━━━━━━━━━━━━━━━\u001b[0m\u001b[37m\u001b[0m \u001b[1m0s\u001b[0m 182ms/step - loss: 6209.3589\n",
      "Epoch 23/30\n",
      "\u001b[1m1/1\u001b[0m \u001b[32m━━━━━━━━━━━━━━━━━━━━\u001b[0m\u001b[37m\u001b[0m \u001b[1m0s\u001b[0m 195ms/step - loss: 6209.3545\n",
      "Epoch 24/30\n",
      "\u001b[1m1/1\u001b[0m \u001b[32m━━━━━━━━━━━━━━━━━━━━\u001b[0m\u001b[37m\u001b[0m \u001b[1m0s\u001b[0m 199ms/step - loss: 6209.3472\n",
      "Epoch 25/30\n",
      "\u001b[1m1/1\u001b[0m \u001b[32m━━━━━━━━━━━━━━━━━━━━\u001b[0m\u001b[37m\u001b[0m \u001b[1m0s\u001b[0m 196ms/step - loss: 6209.3438\n",
      "Epoch 26/30\n",
      "\u001b[1m1/1\u001b[0m \u001b[32m━━━━━━━━━━━━━━━━━━━━\u001b[0m\u001b[37m\u001b[0m \u001b[1m0s\u001b[0m 136ms/step - loss: 6209.3433\n",
      "Epoch 27/30\n",
      "\u001b[1m1/1\u001b[0m \u001b[32m━━━━━━━━━━━━━━━━━━━━\u001b[0m\u001b[37m\u001b[0m \u001b[1m0s\u001b[0m 153ms/step - loss: 6209.3428\n",
      "Epoch 28/30\n",
      "\u001b[1m1/1\u001b[0m \u001b[32m━━━━━━━━━━━━━━━━━━━━\u001b[0m\u001b[37m\u001b[0m \u001b[1m0s\u001b[0m 148ms/step - loss: 6209.3418\n",
      "Epoch 29/30\n",
      "\u001b[1m1/1\u001b[0m \u001b[32m━━━━━━━━━━━━━━━━━━━━\u001b[0m\u001b[37m\u001b[0m \u001b[1m0s\u001b[0m 144ms/step - loss: 6209.3403\n",
      "Epoch 30/30\n",
      "\u001b[1m1/1\u001b[0m \u001b[32m━━━━━━━━━━━━━━━━━━━━\u001b[0m\u001b[37m\u001b[0m \u001b[1m0s\u001b[0m 157ms/step - loss: 6209.3394\n"
     ]
    },
    {
     "data": {
      "text/plain": [
       "<keras.src.callbacks.history.History at 0x13294ddc0>"
      ]
     },
     "execution_count": 21,
     "metadata": {},
     "output_type": "execute_result"
    }
   ],
   "source": [
    "from tensorflow.keras.models import Model\n",
    "from tensorflow.keras.layers import Input, Dense\n",
    "\n",
    "X_unlabeled = np.concatenate([X_train, X_test], axis=0)\n",
    "# Input\n",
    "input_layer = Input(shape=(opcode_dim,))\n",
    "\n",
    "# Encoder\n",
    "encoded = Dense(256, activation='relu')(input_layer)\n",
    "encoded = Dense(128, activation='relu')(encoded)\n",
    "\n",
    "# Decoder\n",
    "decoded = Dense(256, activation='relu')(encoded)\n",
    "decoded = Dense(opcode_dim, activation='sigmoid')(decoded)\n",
    "\n",
    "autoencoder = Model(inputs=input_layer, outputs=decoded)\n",
    "encoder = Model(inputs=input_layer, outputs=encoded)\n",
    "\n",
    "autoencoder.compile(optimizer='adam', loss='mse')\n",
    "autoencoder.fit(X_unlabeled, X_unlabeled, epochs=30, batch_size=64)\n"
   ]
  },
  {
   "cell_type": "code",
   "execution_count": 22,
   "id": "3361ddf9",
   "metadata": {},
   "outputs": [
    {
     "name": "stdout",
     "output_type": "stream",
     "text": [
      "\u001b[1m2/2\u001b[0m \u001b[32m━━━━━━━━━━━━━━━━━━━━\u001b[0m\u001b[37m\u001b[0m \u001b[1m0s\u001b[0m 162ms/step\n"
     ]
    }
   ],
   "source": [
    "X_encoded = encoder.predict(X_train)"
   ]
  },
  {
   "cell_type": "code",
   "execution_count": 23,
   "id": "fd4c327c",
   "metadata": {},
   "outputs": [],
   "source": [
    "from sklearn.model_selection import train_test_split\n",
    "\n",
    "X_train, X_val, y_train, y_val = train_test_split(X_encoded, y_train, test_size=0.2, random_state=42)"
   ]
  },
  {
   "cell_type": "code",
   "execution_count": 25,
   "id": "c7226d09",
   "metadata": {},
   "outputs": [
    {
     "name": "stdout",
     "output_type": "stream",
     "text": [
      "Epoch 1/30\n",
      "\u001b[1m1/1\u001b[0m \u001b[32m━━━━━━━━━━━━━━━━━━━━\u001b[0m\u001b[37m\u001b[0m \u001b[1m0s\u001b[0m 5s/step - accuracy: 0.1944 - loss: 1.1002"
     ]
    },
    {
     "name": "stderr",
     "output_type": "stream",
     "text": [
      "WARNING:absl:You are saving your model as an HDF5 file via `model.save()` or `keras.saving.save_model(model)`. This file format is considered legacy. We recommend using instead the native Keras format, e.g. `model.save('my_model.keras')` or `keras.saving.save_model(model, 'my_model.keras')`. \n"
     ]
    },
    {
     "name": "stdout",
     "output_type": "stream",
     "text": [
      "\u001b[1m1/1\u001b[0m \u001b[32m━━━━━━━━━━━━━━━━━━━━\u001b[0m\u001b[37m\u001b[0m \u001b[1m5s\u001b[0m 5s/step - accuracy: 0.1944 - loss: 1.1002 - val_accuracy: 0.3000 - val_loss: 1.4886 - learning_rate: 0.0010\n",
      "Epoch 2/30\n",
      "\u001b[1m1/1\u001b[0m \u001b[32m━━━━━━━━━━━━━━━━━━━━\u001b[0m\u001b[37m\u001b[0m \u001b[1m0s\u001b[0m 65ms/step - accuracy: 0.2222 - loss: 1.0797"
     ]
    },
    {
     "name": "stderr",
     "output_type": "stream",
     "text": [
      "WARNING:absl:You are saving your model as an HDF5 file via `model.save()` or `keras.saving.save_model(model)`. This file format is considered legacy. We recommend using instead the native Keras format, e.g. `model.save('my_model.keras')` or `keras.saving.save_model(model, 'my_model.keras')`. \n"
     ]
    },
    {
     "name": "stdout",
     "output_type": "stream",
     "text": [
      "\u001b[1m1/1\u001b[0m \u001b[32m━━━━━━━━━━━━━━━━━━━━\u001b[0m\u001b[37m\u001b[0m \u001b[1m1s\u001b[0m 551ms/step - accuracy: 0.2222 - loss: 1.0797 - val_accuracy: 0.4000 - val_loss: 1.2424 - learning_rate: 0.0010\n",
      "Epoch 3/30\n",
      "\u001b[1m1/1\u001b[0m \u001b[32m━━━━━━━━━━━━━━━━━━━━\u001b[0m\u001b[37m\u001b[0m \u001b[1m0s\u001b[0m 291ms/step - accuracy: 0.3889 - loss: 1.0411 - val_accuracy: 0.3000 - val_loss: 1.3094 - learning_rate: 0.0010\n",
      "Epoch 4/30\n",
      "\u001b[1m1/1\u001b[0m \u001b[32m━━━━━━━━━━━━━━━━━━━━\u001b[0m\u001b[37m\u001b[0m \u001b[1m0s\u001b[0m 243ms/step - accuracy: 0.4444 - loss: 1.0045 - val_accuracy: 0.5000 - val_loss: 1.3089 - learning_rate: 0.0010\n",
      "Epoch 5/30\n",
      "\u001b[1m1/1\u001b[0m \u001b[32m━━━━━━━━━━━━━━━━━━━━\u001b[0m\u001b[37m\u001b[0m \u001b[1m0s\u001b[0m 84ms/step - accuracy: 0.5000 - loss: 0.9002\n",
      "Epoch 5: ReduceLROnPlateau reducing learning rate to 0.0005000000237487257.\n",
      "\u001b[1m1/1\u001b[0m \u001b[32m━━━━━━━━━━━━━━━━━━━━\u001b[0m\u001b[37m\u001b[0m \u001b[1m0s\u001b[0m 233ms/step - accuracy: 0.5000 - loss: 0.9002 - val_accuracy: 0.4000 - val_loss: 1.3303 - learning_rate: 0.0010\n",
      "Epoch 6/30\n",
      "\u001b[1m1/1\u001b[0m \u001b[32m━━━━━━━━━━━━━━━━━━━━\u001b[0m\u001b[37m\u001b[0m \u001b[1m0s\u001b[0m 259ms/step - accuracy: 0.5278 - loss: 0.8436 - val_accuracy: 0.4000 - val_loss: 1.2918 - learning_rate: 5.0000e-04\n",
      "Epoch 7/30\n",
      "\u001b[1m1/1\u001b[0m \u001b[32m━━━━━━━━━━━━━━━━━━━━\u001b[0m\u001b[37m\u001b[0m \u001b[1m0s\u001b[0m 238ms/step - accuracy: 0.5556 - loss: 0.8795 - val_accuracy: 0.3000 - val_loss: 1.2657 - learning_rate: 5.0000e-04\n",
      "Epoch 8/30\n",
      "\u001b[1m1/1\u001b[0m \u001b[32m━━━━━━━━━━━━━━━━━━━━\u001b[0m\u001b[37m\u001b[0m \u001b[1m0s\u001b[0m 75ms/step - accuracy: 0.4167 - loss: 0.8891"
     ]
    },
    {
     "name": "stderr",
     "output_type": "stream",
     "text": [
      "WARNING:absl:You are saving your model as an HDF5 file via `model.save()` or `keras.saving.save_model(model)`. This file format is considered legacy. We recommend using instead the native Keras format, e.g. `model.save('my_model.keras')` or `keras.saving.save_model(model, 'my_model.keras')`. \n"
     ]
    },
    {
     "name": "stdout",
     "output_type": "stream",
     "text": [
      "\u001b[1m1/1\u001b[0m \u001b[32m━━━━━━━━━━━━━━━━━━━━\u001b[0m\u001b[37m\u001b[0m \u001b[1m0s\u001b[0m 464ms/step - accuracy: 0.4167 - loss: 0.8891 - val_accuracy: 0.3000 - val_loss: 1.2399 - learning_rate: 5.0000e-04\n",
      "Epoch 9/30\n",
      "\u001b[1m1/1\u001b[0m \u001b[32m━━━━━━━━━━━━━━━━━━━━\u001b[0m\u001b[37m\u001b[0m \u001b[1m0s\u001b[0m 128ms/step - accuracy: 0.5000 - loss: 0.8755"
     ]
    },
    {
     "name": "stderr",
     "output_type": "stream",
     "text": [
      "WARNING:absl:You are saving your model as an HDF5 file via `model.save()` or `keras.saving.save_model(model)`. This file format is considered legacy. We recommend using instead the native Keras format, e.g. `model.save('my_model.keras')` or `keras.saving.save_model(model, 'my_model.keras')`. \n"
     ]
    },
    {
     "name": "stdout",
     "output_type": "stream",
     "text": [
      "\u001b[1m1/1\u001b[0m \u001b[32m━━━━━━━━━━━━━━━━━━━━\u001b[0m\u001b[37m\u001b[0m \u001b[1m0s\u001b[0m 383ms/step - accuracy: 0.5000 - loss: 0.8755 - val_accuracy: 0.2000 - val_loss: 1.2111 - learning_rate: 5.0000e-04\n",
      "Epoch 10/30\n",
      "\u001b[1m1/1\u001b[0m \u001b[32m━━━━━━━━━━━━━━━━━━━━\u001b[0m\u001b[37m\u001b[0m \u001b[1m0s\u001b[0m 142ms/step - accuracy: 0.5278 - loss: 0.8437"
     ]
    },
    {
     "name": "stderr",
     "output_type": "stream",
     "text": [
      "WARNING:absl:You are saving your model as an HDF5 file via `model.save()` or `keras.saving.save_model(model)`. This file format is considered legacy. We recommend using instead the native Keras format, e.g. `model.save('my_model.keras')` or `keras.saving.save_model(model, 'my_model.keras')`. \n"
     ]
    },
    {
     "name": "stdout",
     "output_type": "stream",
     "text": [
      "\u001b[1m1/1\u001b[0m \u001b[32m━━━━━━━━━━━━━━━━━━━━\u001b[0m\u001b[37m\u001b[0m \u001b[1m1s\u001b[0m 513ms/step - accuracy: 0.5278 - loss: 0.8437 - val_accuracy: 0.1000 - val_loss: 1.1935 - learning_rate: 5.0000e-04\n",
      "Epoch 11/30\n",
      "\u001b[1m1/1\u001b[0m \u001b[32m━━━━━━━━━━━━━━━━━━━━\u001b[0m\u001b[37m\u001b[0m \u001b[1m0s\u001b[0m 339ms/step - accuracy: 0.6111 - loss: 0.8757 - val_accuracy: 0.1000 - val_loss: 1.1936 - learning_rate: 5.0000e-04\n",
      "Epoch 12/30\n",
      "\u001b[1m1/1\u001b[0m \u001b[32m━━━━━━━━━━━━━━━━━━━━\u001b[0m\u001b[37m\u001b[0m \u001b[1m0s\u001b[0m 74ms/step - accuracy: 0.5278 - loss: 0.8347"
     ]
    },
    {
     "name": "stderr",
     "output_type": "stream",
     "text": [
      "WARNING:absl:You are saving your model as an HDF5 file via `model.save()` or `keras.saving.save_model(model)`. This file format is considered legacy. We recommend using instead the native Keras format, e.g. `model.save('my_model.keras')` or `keras.saving.save_model(model, 'my_model.keras')`. \n"
     ]
    },
    {
     "name": "stdout",
     "output_type": "stream",
     "text": [
      "\u001b[1m1/1\u001b[0m \u001b[32m━━━━━━━━━━━━━━━━━━━━\u001b[0m\u001b[37m\u001b[0m \u001b[1m1s\u001b[0m 512ms/step - accuracy: 0.5278 - loss: 0.8347 - val_accuracy: 0.2000 - val_loss: 1.1922 - learning_rate: 5.0000e-04\n",
      "Epoch 13/30\n",
      "\u001b[1m1/1\u001b[0m \u001b[32m━━━━━━━━━━━━━━━━━━━━\u001b[0m\u001b[37m\u001b[0m \u001b[1m0s\u001b[0m 119ms/step - accuracy: 0.6667 - loss: 0.7870"
     ]
    },
    {
     "name": "stderr",
     "output_type": "stream",
     "text": [
      "WARNING:absl:You are saving your model as an HDF5 file via `model.save()` or `keras.saving.save_model(model)`. This file format is considered legacy. We recommend using instead the native Keras format, e.g. `model.save('my_model.keras')` or `keras.saving.save_model(model, 'my_model.keras')`. \n"
     ]
    },
    {
     "name": "stdout",
     "output_type": "stream",
     "text": [
      "\u001b[1m1/1\u001b[0m \u001b[32m━━━━━━━━━━━━━━━━━━━━\u001b[0m\u001b[37m\u001b[0m \u001b[1m1s\u001b[0m 524ms/step - accuracy: 0.6667 - loss: 0.7870 - val_accuracy: 0.2000 - val_loss: 1.1856 - learning_rate: 5.0000e-04\n",
      "Epoch 14/30\n",
      "\u001b[1m1/1\u001b[0m \u001b[32m━━━━━━━━━━━━━━━━━━━━\u001b[0m\u001b[37m\u001b[0m \u001b[1m0s\u001b[0m 84ms/step - accuracy: 0.6944 - loss: 0.8063"
     ]
    },
    {
     "name": "stderr",
     "output_type": "stream",
     "text": [
      "WARNING:absl:You are saving your model as an HDF5 file via `model.save()` or `keras.saving.save_model(model)`. This file format is considered legacy. We recommend using instead the native Keras format, e.g. `model.save('my_model.keras')` or `keras.saving.save_model(model, 'my_model.keras')`. \n"
     ]
    },
    {
     "name": "stdout",
     "output_type": "stream",
     "text": [
      "\u001b[1m1/1\u001b[0m \u001b[32m━━━━━━━━━━━━━━━━━━━━\u001b[0m\u001b[37m\u001b[0m \u001b[1m1s\u001b[0m 593ms/step - accuracy: 0.6944 - loss: 0.8063 - val_accuracy: 0.2000 - val_loss: 1.1720 - learning_rate: 5.0000e-04\n",
      "Epoch 15/30\n",
      "\u001b[1m1/1\u001b[0m \u001b[32m━━━━━━━━━━━━━━━━━━━━\u001b[0m\u001b[37m\u001b[0m \u001b[1m0s\u001b[0m 164ms/step - accuracy: 0.5833 - loss: 0.8008"
     ]
    },
    {
     "name": "stderr",
     "output_type": "stream",
     "text": [
      "WARNING:absl:You are saving your model as an HDF5 file via `model.save()` or `keras.saving.save_model(model)`. This file format is considered legacy. We recommend using instead the native Keras format, e.g. `model.save('my_model.keras')` or `keras.saving.save_model(model, 'my_model.keras')`. \n"
     ]
    },
    {
     "name": "stdout",
     "output_type": "stream",
     "text": [
      "\u001b[1m1/1\u001b[0m \u001b[32m━━━━━━━━━━━━━━━━━━━━\u001b[0m\u001b[37m\u001b[0m \u001b[1m1s\u001b[0m 556ms/step - accuracy: 0.5833 - loss: 0.8008 - val_accuracy: 0.2000 - val_loss: 1.1643 - learning_rate: 5.0000e-04\n",
      "Epoch 16/30\n",
      "\u001b[1m1/1\u001b[0m \u001b[32m━━━━━━━━━━━━━━━━━━━━\u001b[0m\u001b[37m\u001b[0m \u001b[1m0s\u001b[0m 457ms/step - accuracy: 0.5833 - loss: 0.8172 - val_accuracy: 0.1000 - val_loss: 1.1709 - learning_rate: 5.0000e-04\n",
      "Epoch 17/30\n",
      "\u001b[1m1/1\u001b[0m \u001b[32m━━━━━━━━━━━━━━━━━━━━\u001b[0m\u001b[37m\u001b[0m \u001b[1m0s\u001b[0m 440ms/step - accuracy: 0.4167 - loss: 0.7995 - val_accuracy: 0.1000 - val_loss: 1.1784 - learning_rate: 5.0000e-04\n",
      "Epoch 18/30\n",
      "\u001b[1m1/1\u001b[0m \u001b[32m━━━━━━━━━━━━━━━━━━━━\u001b[0m\u001b[37m\u001b[0m \u001b[1m0s\u001b[0m 181ms/step - accuracy: 0.6111 - loss: 0.7471\n",
      "Epoch 18: ReduceLROnPlateau reducing learning rate to 0.0002500000118743628.\n",
      "\u001b[1m1/1\u001b[0m \u001b[32m━━━━━━━━━━━━━━━━━━━━\u001b[0m\u001b[37m\u001b[0m \u001b[1m1s\u001b[0m 511ms/step - accuracy: 0.6111 - loss: 0.7471 - val_accuracy: 0.2000 - val_loss: 1.1827 - learning_rate: 5.0000e-04\n",
      "Epoch 19/30\n",
      "\u001b[1m1/1\u001b[0m \u001b[32m━━━━━━━━━━━━━━━━━━━━\u001b[0m\u001b[37m\u001b[0m \u001b[1m0s\u001b[0m 466ms/step - accuracy: 0.5833 - loss: 0.7740 - val_accuracy: 0.3000 - val_loss: 1.1777 - learning_rate: 2.5000e-04\n",
      "Epoch 20/30\n",
      "\u001b[1m1/1\u001b[0m \u001b[32m━━━━━━━━━━━━━━━━━━━━\u001b[0m\u001b[37m\u001b[0m \u001b[1m0s\u001b[0m 305ms/step - accuracy: 0.5556 - loss: 0.7282 - val_accuracy: 0.3000 - val_loss: 1.1711 - learning_rate: 2.5000e-04\n",
      "Epoch 21/30\n",
      "\u001b[1m1/1\u001b[0m \u001b[32m━━━━━━━━━━━━━━━━━━━━\u001b[0m\u001b[37m\u001b[0m \u001b[1m0s\u001b[0m 96ms/step - accuracy: 0.6111 - loss: 0.7509\n",
      "Epoch 21: ReduceLROnPlateau reducing learning rate to 0.0001250000059371814.\n",
      "\u001b[1m1/1\u001b[0m \u001b[32m━━━━━━━━━━━━━━━━━━━━\u001b[0m\u001b[37m\u001b[0m \u001b[1m1s\u001b[0m 505ms/step - accuracy: 0.6111 - loss: 0.7509 - val_accuracy: 0.3000 - val_loss: 1.1667 - learning_rate: 2.5000e-04\n"
     ]
    }
   ],
   "source": [
    "def EncodedMLClassifier():\n",
    "    return Sequential([\n",
    "        Dense(256, input_dim=128, kernel_regularizer=regularizers.l2(0.001)),\n",
    "        BatchNormalization(),\n",
    "        LeakyReLU(alpha=0.01),\n",
    "        Dropout(0.3),\n",
    "\n",
    "        Dense(128, kernel_regularizer=regularizers.l2(0.001)),\n",
    "        BatchNormalization(),\n",
    "        LeakyReLU(alpha=0.01),\n",
    "        Dropout(0.2),\n",
    "\n",
    "        Dense(64),\n",
    "        LeakyReLU(alpha=0.01),\n",
    "        Dropout(0.2),\n",
    "\n",
    "        Dense(len(labels), activation='sigmoid')\n",
    "    ])\n",
    "\n",
    "classifier = EncodedMLClassifier()\n",
    "\n",
    "classifier.compile(\n",
    "    loss='binary_crossentropy',\n",
    "    optimizer=Adam(0.001),\n",
    "    metrics=['accuracy']\n",
    ")\n",
    "\n",
    "model_file = os.path.join(MODEL_PATH, \"encoded_cnn_best_model_on_crpwarner.h5\")\n",
    "\n",
    "callbacks = [\n",
    "    EarlyStopping(monitor='val_loss', patience=6, restore_best_weights=True),\n",
    "    ReduceLROnPlateau(monitor='val_loss', factor=0.5, patience=3, verbose=1),\n",
    "    ModelCheckpoint(model_file, save_best_only=True)\n",
    "]\n",
    "\n",
    "history = classifier.fit(\n",
    "    X_train, y_train,\n",
    "    validation_data=(X_val, y_val),\n",
    "    epochs=30,\n",
    "    batch_size=64,\n",
    "    callbacks=callbacks,\n",
    "    verbose=1\n",
    ")"
   ]
  },
  {
   "cell_type": "code",
   "execution_count": 26,
   "id": "3d016c0b",
   "metadata": {},
   "outputs": [
    {
     "data": {
      "image/png": "[encoded data removed]",
      "text/plain": [
       "<Figure size 640x480 with 1 Axes>"
      ]
     },
     "metadata": {},
     "output_type": "display_data"
    }
   ],
   "source": [
    "plt.plot(history.history['loss'], label='Train Loss')\n",
    "plt.plot(history.history['val_loss'], label='Val Loss')\n",
    "plt.legend()\n",
    "plt.title(\"Training vs Validation Loss\")\n",
    "plt.xlabel(\"Epochs\")\n",
    "plt.ylabel(\"Loss\")\n",
    "plt.show()"
   ]
  },
  {
   "cell_type": "code",
   "execution_count": 27,
   "id": "b1614f62",
   "metadata": {},
   "outputs": [
    {
     "name": "stdout",
     "output_type": "stream",
     "text": [
      "\u001b[1m1/1\u001b[0m \u001b[32m━━━━━━━━━━━━━━━━━━━━\u001b[0m\u001b[37m\u001b[0m \u001b[1m1s\u001b[0m 704ms/step\n",
      "              precision    recall  f1-score   support\n",
      "\n",
      "        mint       0.00      0.00      0.00         2\n",
      "        leak       0.00      0.00      0.00         2\n",
      "       limit       0.00      0.00      0.00         5\n",
      "\n",
      "   micro avg       0.00      0.00      0.00         9\n",
      "   macro avg       0.00      0.00      0.00         9\n",
      "weighted avg       0.00      0.00      0.00         9\n",
      " samples avg       0.00      0.00      0.00         9\n",
      "\n"
     ]
    }
   ],
   "source": [
    "y_pred_prob = classifier.predict(X_val)\n",
    "y_pred = (y_pred_prob >= 0.5).astype(int)\n",
    "\n",
    "print(classification_report(y_val, y_pred, target_names=labels))"
   ]
  }
 ],
 "metadata": {
  "kernelspec": {
   "display_name": "ml-algo",
   "language": "python",
   "name": "python3"
  },
  "language_info": {
   "codemirror_mode": {
    "name": "ipython",
    "version": 3
   },
   "file_extension": ".py",
   "mimetype": "text/x-python",
   "name": "python",
   "nbconvert_exporter": "python",
   "pygments_lexer": "ipython3",
   "version": "3.12.7"
  }
 },
 "nbformat": 4,
 "nbformat_minor": 5
}
