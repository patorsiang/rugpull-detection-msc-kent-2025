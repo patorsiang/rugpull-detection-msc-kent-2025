{
  "cells": [
    {
      "cell_type": "markdown",
      "id": "c550f716",
      "metadata": {},
      "source": [
        "# Baseline Random Forest Training on CRPWarner Dataset"
      ]
    },
    {
      "cell_type": "markdown",
      "id": "23f55ad7",
      "metadata": {},
      "source": [
        "## Import Libraries"
      ]
    },
    {
      "cell_type": "code",
      "execution_count": 10,
      "id": "ca1ba9da",
      "metadata": {},
      "outputs": [],
      "source": [
        "import warnings\n",
        "warnings.filterwarnings(\"ignore\")"
      ]
    },
    {
      "cell_type": "code",
      "execution_count": 11,
      "id": "1fdbeeb6",
      "metadata": {},
      "outputs": [],
      "source": [
        "import os\n",
        "import time\n",
        "import json\n",
        "import pandas as pd\n",
        "import numpy as np\n",
        "from pathlib import Path\n",
        "import joblib\n",
        "\n",
        "import optuna\n",
        "from sklearn.metrics import accuracy_score, precision_score, recall_score, f1_score, classification_report\n",
        "from sklearn.ensemble import RandomForestClassifier, GradientBoostingClassifier, AdaBoostClassifier\n",
        "from sklearn.linear_model import LogisticRegression\n",
        "from sklearn.svm import SVC\n",
        "from sklearn.neighbors import KNeighborsClassifier\n",
        "from sklearn.naive_bayes import GaussianNB\n",
        "from sklearn.tree import DecisionTreeClassifier\n",
        "from sklearn.neural_network import MLPClassifier\n",
        "from xgboost import XGBClassifier\n",
        "from lightgbm import LGBMClassifier\n",
        "from sklearn.multioutput import MultiOutputClassifier"
      ]
    },
    {
      "cell_type": "markdown",
      "id": "aae177c1",
      "metadata": {},
      "source": [
        "## Const"
      ]
    },
    {
      "cell_type": "code",
      "execution_count": 12,
      "id": "60e77594",
      "metadata": {},
      "outputs": [],
      "source": [
        "PATH = Path.cwd().parents[1]\n",
        "DATA_PATH = os.path.join(PATH, 'data/processed')\n",
        "MODEL_PATH = os.path.join(PATH, 'models')"
      ]
    },
    {
      "cell_type": "code",
      "execution_count": 13,
      "id": "f456e60b",
      "metadata": {},
      "outputs": [],
      "source": [
        "with open(os.path.join(DATA_PATH, 'feature-opcode-n-gram_list.json')) as f:\n",
        "    feature_list = json.load(f)\n",
        "\n",
        "with open(os.path.join(DATA_PATH, 'labels-opcode-n-gram.json')) as f:\n",
        "    labels = json.load(f)"
      ]
    },
    {
      "cell_type": "code",
      "execution_count": 14,
      "id": "ed9621f6",
      "metadata": {},
      "outputs": [],
      "source": [
        "train_df = pd.read_csv(os.path.join(DATA_PATH, 'train-opcode-n-gram.csv'))\n",
        "test_df = pd.read_csv(os.path.join(DATA_PATH, 'test-opcode-n-gram.csv'))\n",
        "\n",
        "X_train = train_df[feature_list]\n",
        "y_train = train_df[labels]\n",
        "\n",
        "X_test = test_df[feature_list]\n",
        "y_test = test_df[labels]"
      ]
    },
    {
      "cell_type": "markdown",
      "id": "0ea8ec0d",
      "metadata": {},
      "source": [
        "## Traditional Machine Learning Models"
      ]
    },
    {
      "cell_type": "code",
      "execution_count": 15,
      "id": "9f923bd2",
      "metadata": {},
      "outputs": [],
      "source": [
        "models = {\n",
        "    \"Logistic Regression\": MultiOutputClassifier(LogisticRegression(max_iter=1000)),\n",
        "    \"Random Forest\": MultiOutputClassifier(RandomForestClassifier()),\n",
        "    \"Gradient Boosting\": MultiOutputClassifier(GradientBoostingClassifier()),\n",
        "    \"AdaBoost\": MultiOutputClassifier(AdaBoostClassifier()),\n",
        "    \"SVM (Linear)\": MultiOutputClassifier(SVC(kernel=\"linear\")),\n",
        "    \"KNN\": MultiOutputClassifier(KNeighborsClassifier()),\n",
        "    \"Naive Bayes\": MultiOutputClassifier(GaussianNB()),\n",
        "    \"MLP Classifier\": MultiOutputClassifier(MLPClassifier(max_iter=300)),\n",
        "    \"XGBoost\": MultiOutputClassifier(XGBClassifier(use_label_encoder=False, eval_metric='logloss')),\n",
        "    \"LightGBM\": MultiOutputClassifier(LGBMClassifier()),\n",
        "    \"DecisionTree\": MultiOutputClassifier(DecisionTreeClassifier())\n",
        "}"
      ]
    },
    {
      "cell_type": "code",
      "execution_count": 16,
      "id": "bb4cad41",
      "metadata": {},
      "outputs": [
        {
          "name": "stdout",
          "output_type": "stream",
          "text": [
            "[LightGBM] [Warning] Found whitespace in feature_names, replace with underlines\n",
            "[LightGBM] [Info] Number of positive: 14, number of negative: 41\n",
            "[LightGBM] [Info] Auto-choosing row-wise multi-threading, the overhead of testing was 0.000407 seconds.\n",
            "You can set `force_row_wise=true` to remove the overhead.\n",
            "And if memory is not enough, you can set `force_col_wise=true`.\n",
            "[LightGBM] [Info] Total Bins 9007\n",
            "[LightGBM] [Info] Number of data points in the train set: 55, number of used features: 1157\n",
            "[LightGBM] [Info] [binary:BoostFromScore]: pavg=0.254545 -> initscore=-1.074515\n",
            "[LightGBM] [Info] Start training from score -1.074515\n",
            "[LightGBM] [Warning] No further splits with positive gain, best gain: -inf\n",
            "[LightGBM] [Warning] No further splits with positive gain, best gain: -inf\n",
            "[LightGBM] [Warning] No further splits with positive gain, best gain: -inf\n",
            "[LightGBM] [Warning] No further splits with positive gain, best gain: -inf\n",
            "[LightGBM] [Warning] No further splits with positive gain, best gain: -inf\n",
            "[LightGBM] [Warning] No further splits with positive gain, best gain: -inf\n",
            "[LightGBM] [Warning] No further splits with positive gain, best gain: -inf\n",
            "[LightGBM] [Warning] No further splits with positive gain, best gain: -inf\n",
            "[LightGBM] [Warning] No further splits with positive gain, best gain: -inf\n",
            "[LightGBM] [Warning] No further splits with positive gain, best gain: -inf\n",
            "[LightGBM] [Warning] No further splits with positive gain, best gain: -inf\n",
            "[LightGBM] [Warning] No further splits with positive gain, best gain: -inf\n",
            "[LightGBM] [Warning] No further splits with positive gain, best gain: -inf\n",
            "[LightGBM] [Warning] No further splits with positive gain, best gain: -inf\n",
            "[LightGBM] [Warning] No further splits with positive gain, best gain: -inf\n",
            "[LightGBM] [Warning] No further splits with positive gain, best gain: -inf\n",
            "[LightGBM] [Warning] No further splits with positive gain, best gain: -inf\n",
            "[LightGBM] [Warning] No further splits with positive gain, best gain: -inf\n",
            "[LightGBM] [Warning] No further splits with positive gain, best gain: -inf\n",
            "[LightGBM] [Warning] No further splits with positive gain, best gain: -inf\n",
            "[LightGBM] [Warning] No further splits with positive gain, best gain: -inf\n",
            "[LightGBM] [Warning] No further splits with positive gain, best gain: -inf\n",
            "[LightGBM] [Warning] No further splits with positive gain, best gain: -inf\n",
            "[LightGBM] [Warning] No further splits with positive gain, best gain: -inf\n",
            "[LightGBM] [Warning] No further splits with positive gain, best gain: -inf\n",
            "[LightGBM] [Warning] No further splits with positive gain, best gain: -inf\n",
            "[LightGBM] [Warning] No further splits with positive gain, best gain: -inf\n",
            "[LightGBM] [Warning] No further splits with positive gain, best gain: -inf\n",
            "[LightGBM] [Warning] No further splits with positive gain, best gain: -inf\n",
            "[LightGBM] [Warning] No further splits with positive gain, best gain: -inf\n",
            "[LightGBM] [Warning] No further splits with positive gain, best gain: -inf\n",
            "[LightGBM] [Warning] No further splits with positive gain, best gain: -inf\n",
            "[LightGBM] [Warning] No further splits with positive gain, best gain: -inf\n",
            "[LightGBM] [Warning] No further splits with positive gain, best gain: -inf\n",
            "[LightGBM] [Warning] No further splits with positive gain, best gain: -inf\n",
            "[LightGBM] [Warning] No further splits with positive gain, best gain: -inf\n",
            "[LightGBM] [Warning] No further splits with positive gain, best gain: -inf\n",
            "[LightGBM] [Warning] No further splits with positive gain, best gain: -inf\n",
            "[LightGBM] [Warning] No further splits with positive gain, best gain: -inf\n",
            "[LightGBM] [Warning] No further splits with positive gain, best gain: -inf\n",
            "[LightGBM] [Warning] No further splits with positive gain, best gain: -inf\n",
            "[LightGBM] [Warning] No further splits with positive gain, best gain: -inf\n",
            "[LightGBM] [Warning] No further splits with positive gain, best gain: -inf\n",
            "[LightGBM] [Warning] No further splits with positive gain, best gain: -inf\n",
            "[LightGBM] [Warning] No further splits with positive gain, best gain: -inf\n",
            "[LightGBM] [Warning] No further splits with positive gain, best gain: -inf\n",
            "[LightGBM] [Warning] No further splits with positive gain, best gain: -inf\n",
            "[LightGBM] [Warning] No further splits with positive gain, best gain: -inf\n",
            "[LightGBM] [Warning] No further splits with positive gain, best gain: -inf\n",
            "[LightGBM] [Warning] No further splits with positive gain, best gain: -inf\n",
            "[LightGBM] [Warning] No further splits with positive gain, best gain: -inf\n",
            "[LightGBM] [Warning] No further splits with positive gain, best gain: -inf\n",
            "[LightGBM] [Warning] No further splits with positive gain, best gain: -inf\n",
            "[LightGBM] [Warning] No further splits with positive gain, best gain: -inf\n",
            "[LightGBM] [Warning] No further splits with positive gain, best gain: -inf\n",
            "[LightGBM] [Warning] No further splits with positive gain, best gain: -inf\n",
            "[LightGBM] [Warning] No further splits with positive gain, best gain: -inf\n",
            "[LightGBM] [Warning] No further splits with positive gain, best gain: -inf\n",
            "[LightGBM] [Warning] No further splits with positive gain, best gain: -inf\n",
            "[LightGBM] [Warning] No further splits with positive gain, best gain: -inf\n",
            "[LightGBM] [Warning] No further splits with positive gain, best gain: -inf\n",
            "[LightGBM] [Warning] No further splits with positive gain, best gain: -inf\n",
            "[LightGBM] [Warning] No further splits with positive gain, best gain: -inf\n",
            "[LightGBM] [Warning] No further splits with positive gain, best gain: -inf\n",
            "[LightGBM] [Warning] No further splits with positive gain, best gain: -inf\n",
            "[LightGBM] [Warning] No further splits with positive gain, best gain: -inf\n",
            "[LightGBM] [Warning] No further splits with positive gain, best gain: -inf\n",
            "[LightGBM] [Warning] No further splits with positive gain, best gain: -inf\n",
            "[LightGBM] [Warning] No further splits with positive gain, best gain: -inf\n",
            "[LightGBM] [Warning] No further splits with positive gain, best gain: -inf\n",
            "[LightGBM] [Warning] No further splits with positive gain, best gain: -inf\n",
            "[LightGBM] [Warning] No further splits with positive gain, best gain: -inf\n",
            "[LightGBM] [Warning] No further splits with positive gain, best gain: -inf\n",
            "[LightGBM] [Warning] No further splits with positive gain, best gain: -inf\n",
            "[LightGBM] [Warning] No further splits with positive gain, best gain: -inf\n",
            "[LightGBM] [Warning] No further splits with positive gain, best gain: -inf\n",
            "[LightGBM] [Warning] No further splits with positive gain, best gain: -inf\n",
            "[LightGBM] [Warning] No further splits with positive gain, best gain: -inf\n",
            "[LightGBM] [Warning] No further splits with positive gain, best gain: -inf\n",
            "[LightGBM] [Warning] No further splits with positive gain, best gain: -inf\n",
            "[LightGBM] [Warning] No further splits with positive gain, best gain: -inf\n",
            "[LightGBM] [Warning] No further splits with positive gain, best gain: -inf\n",
            "[LightGBM] [Warning] No further splits with positive gain, best gain: -inf\n",
            "[LightGBM] [Warning] No further splits with positive gain, best gain: -inf\n",
            "[LightGBM] [Warning] No further splits with positive gain, best gain: -inf\n",
            "[LightGBM] [Warning] No further splits with positive gain, best gain: -inf\n",
            "[LightGBM] [Warning] No further splits with positive gain, best gain: -inf\n",
            "[LightGBM] [Warning] No further splits with positive gain, best gain: -inf\n",
            "[LightGBM] [Warning] No further splits with positive gain, best gain: -inf\n",
            "[LightGBM] [Warning] No further splits with positive gain, best gain: -inf\n",
            "[LightGBM] [Warning] No further splits with positive gain, best gain: -inf\n",
            "[LightGBM] [Warning] No further splits with positive gain, best gain: -inf\n",
            "[LightGBM] [Warning] No further splits with positive gain, best gain: -inf\n",
            "[LightGBM] [Warning] No further splits with positive gain, best gain: -inf\n",
            "[LightGBM] [Warning] No further splits with positive gain, best gain: -inf\n",
            "[LightGBM] [Warning] No further splits with positive gain, best gain: -inf\n",
            "[LightGBM] [Warning] No further splits with positive gain, best gain: -inf\n",
            "[LightGBM] [Warning] No further splits with positive gain, best gain: -inf\n",
            "[LightGBM] [Warning] No further splits with positive gain, best gain: -inf\n",
            "[LightGBM] [Warning] No further splits with positive gain, best gain: -inf\n",
            "[LightGBM] [Warning] Found whitespace in feature_names, replace with underlines\n",
            "[LightGBM] [Info] Number of positive: 6, number of negative: 49\n",
            "[LightGBM] [Info] Auto-choosing row-wise multi-threading, the overhead of testing was 0.000394 seconds.\n",
            "You can set `force_row_wise=true` to remove the overhead.\n",
            "And if memory is not enough, you can set `force_col_wise=true`.\n",
            "[LightGBM] [Info] Total Bins 9007\n",
            "[LightGBM] [Info] Number of data points in the train set: 55, number of used features: 1157\n",
            "[LightGBM] [Info] [binary:BoostFromScore]: pavg=0.109091 -> initscore=-2.100061\n",
            "[LightGBM] [Info] Start training from score -2.100061\n",
            "[LightGBM] [Warning] No further splits with positive gain, best gain: -inf\n",
            "[LightGBM] [Warning] No further splits with positive gain, best gain: -inf\n",
            "[LightGBM] [Warning] No further splits with positive gain, best gain: -inf\n",
            "[LightGBM] [Warning] No further splits with positive gain, best gain: -inf\n",
            "[LightGBM] [Warning] No further splits with positive gain, best gain: -inf\n",
            "[LightGBM] [Warning] No further splits with positive gain, best gain: -inf\n",
            "[LightGBM] [Warning] No further splits with positive gain, best gain: -inf\n",
            "[LightGBM] [Warning] No further splits with positive gain, best gain: -inf\n",
            "[LightGBM] [Warning] No further splits with positive gain, best gain: -inf\n",
            "[LightGBM] [Warning] No further splits with positive gain, best gain: -inf\n",
            "[LightGBM] [Warning] No further splits with positive gain, best gain: -inf\n",
            "[LightGBM] [Warning] No further splits with positive gain, best gain: -inf\n",
            "[LightGBM] [Warning] No further splits with positive gain, best gain: -inf\n",
            "[LightGBM] [Warning] No further splits with positive gain, best gain: -inf\n",
            "[LightGBM] [Warning] No further splits with positive gain, best gain: -inf\n",
            "[LightGBM] [Warning] No further splits with positive gain, best gain: -inf\n",
            "[LightGBM] [Warning] No further splits with positive gain, best gain: -inf\n",
            "[LightGBM] [Warning] No further splits with positive gain, best gain: -inf\n",
            "[LightGBM] [Warning] No further splits with positive gain, best gain: -inf\n",
            "[LightGBM] [Warning] No further splits with positive gain, best gain: -inf\n",
            "[LightGBM] [Warning] No further splits with positive gain, best gain: -inf\n",
            "[LightGBM] [Warning] No further splits with positive gain, best gain: -inf\n",
            "[LightGBM] [Warning] No further splits with positive gain, best gain: -inf\n",
            "[LightGBM] [Warning] No further splits with positive gain, best gain: -inf\n",
            "[LightGBM] [Warning] No further splits with positive gain, best gain: -inf\n",
            "[LightGBM] [Warning] No further splits with positive gain, best gain: -inf\n",
            "[LightGBM] [Warning] No further splits with positive gain, best gain: -inf\n",
            "[LightGBM] [Warning] No further splits with positive gain, best gain: -inf\n",
            "[LightGBM] [Warning] No further splits with positive gain, best gain: -inf\n",
            "[LightGBM] [Warning] No further splits with positive gain, best gain: -inf\n",
            "[LightGBM] [Warning] No further splits with positive gain, best gain: -inf\n",
            "[LightGBM] [Warning] No further splits with positive gain, best gain: -inf\n",
            "[LightGBM] [Warning] No further splits with positive gain, best gain: -inf\n",
            "[LightGBM] [Warning] No further splits with positive gain, best gain: -inf\n",
            "[LightGBM] [Warning] No further splits with positive gain, best gain: -inf\n",
            "[LightGBM] [Warning] No further splits with positive gain, best gain: -inf\n",
            "[LightGBM] [Warning] No further splits with positive gain, best gain: -inf\n",
            "[LightGBM] [Warning] No further splits with positive gain, best gain: -inf\n",
            "[LightGBM] [Warning] No further splits with positive gain, best gain: -inf\n",
            "[LightGBM] [Warning] No further splits with positive gain, best gain: -inf\n",
            "[LightGBM] [Warning] No further splits with positive gain, best gain: -inf\n",
            "[LightGBM] [Warning] No further splits with positive gain, best gain: -inf\n",
            "[LightGBM] [Warning] No further splits with positive gain, best gain: -inf\n",
            "[LightGBM] [Warning] No further splits with positive gain, best gain: -inf\n",
            "[LightGBM] [Warning] No further splits with positive gain, best gain: -inf\n",
            "[LightGBM] [Warning] No further splits with positive gain, best gain: -inf\n",
            "[LightGBM] [Warning] No further splits with positive gain, best gain: -inf\n",
            "[LightGBM] [Warning] No further splits with positive gain, best gain: -inf\n",
            "[LightGBM] [Warning] No further splits with positive gain, best gain: -inf\n",
            "[LightGBM] [Warning] No further splits with positive gain, best gain: -inf\n",
            "[LightGBM] [Warning] No further splits with positive gain, best gain: -inf\n",
            "[LightGBM] [Warning] No further splits with positive gain, best gain: -inf\n",
            "[LightGBM] [Warning] No further splits with positive gain, best gain: -inf\n",
            "[LightGBM] [Warning] No further splits with positive gain, best gain: -inf\n",
            "[LightGBM] [Warning] No further splits with positive gain, best gain: -inf\n",
            "[LightGBM] [Warning] No further splits with positive gain, best gain: -inf\n",
            "[LightGBM] [Warning] No further splits with positive gain, best gain: -inf\n",
            "[LightGBM] [Warning] No further splits with positive gain, best gain: -inf\n",
            "[LightGBM] [Warning] No further splits with positive gain, best gain: -inf\n",
            "[LightGBM] [Warning] No further splits with positive gain, best gain: -inf\n",
            "[LightGBM] [Warning] No further splits with positive gain, best gain: -inf\n",
            "[LightGBM] [Warning] No further splits with positive gain, best gain: -inf\n",
            "[LightGBM] [Warning] No further splits with positive gain, best gain: -inf\n",
            "[LightGBM] [Warning] No further splits with positive gain, best gain: -inf\n",
            "[LightGBM] [Warning] No further splits with positive gain, best gain: -inf\n",
            "[LightGBM] [Warning] No further splits with positive gain, best gain: -inf\n",
            "[LightGBM] [Warning] No further splits with positive gain, best gain: -inf\n",
            "[LightGBM] [Warning] No further splits with positive gain, best gain: -inf\n",
            "[LightGBM] [Warning] No further splits with positive gain, best gain: -inf\n",
            "[LightGBM] [Warning] No further splits with positive gain, best gain: -inf\n",
            "[LightGBM] [Warning] No further splits with positive gain, best gain: -inf\n",
            "[LightGBM] [Warning] No further splits with positive gain, best gain: -inf\n",
            "[LightGBM] [Warning] No further splits with positive gain, best gain: -inf\n",
            "[LightGBM] [Warning] No further splits with positive gain, best gain: -inf\n",
            "[LightGBM] [Warning] No further splits with positive gain, best gain: -inf\n",
            "[LightGBM] [Warning] No further splits with positive gain, best gain: -inf\n",
            "[LightGBM] [Warning] No further splits with positive gain, best gain: -inf\n",
            "[LightGBM] [Warning] No further splits with positive gain, best gain: -inf\n",
            "[LightGBM] [Warning] No further splits with positive gain, best gain: -inf\n",
            "[LightGBM] [Warning] No further splits with positive gain, best gain: -inf\n",
            "[LightGBM] [Warning] No further splits with positive gain, best gain: -inf\n",
            "[LightGBM] [Warning] No further splits with positive gain, best gain: -inf\n",
            "[LightGBM] [Warning] No further splits with positive gain, best gain: -inf\n",
            "[LightGBM] [Warning] No further splits with positive gain, best gain: -inf\n",
            "[LightGBM] [Warning] No further splits with positive gain, best gain: -inf\n",
            "[LightGBM] [Warning] No further splits with positive gain, best gain: -inf\n",
            "[LightGBM] [Warning] No further splits with positive gain, best gain: -inf\n",
            "[LightGBM] [Warning] No further splits with positive gain, best gain: -inf\n",
            "[LightGBM] [Warning] No further splits with positive gain, best gain: -inf\n",
            "[LightGBM] [Warning] No further splits with positive gain, best gain: -inf\n",
            "[LightGBM] [Warning] No further splits with positive gain, best gain: -inf\n",
            "[LightGBM] [Warning] No further splits with positive gain, best gain: -inf\n",
            "[LightGBM] [Warning] No further splits with positive gain, best gain: -inf\n",
            "[LightGBM] [Warning] No further splits with positive gain, best gain: -inf\n",
            "[LightGBM] [Warning] No further splits with positive gain, best gain: -inf\n",
            "[LightGBM] [Warning] No further splits with positive gain, best gain: -inf\n",
            "[LightGBM] [Warning] No further splits with positive gain, best gain: -inf\n",
            "[LightGBM] [Warning] No further splits with positive gain, best gain: -inf\n",
            "[LightGBM] [Warning] No further splits with positive gain, best gain: -inf\n",
            "[LightGBM] [Warning] No further splits with positive gain, best gain: -inf\n",
            "[LightGBM] [Warning] Found whitespace in feature_names, replace with underlines\n",
            "[LightGBM] [Info] Number of positive: 21, number of negative: 34\n",
            "[LightGBM] [Info] Auto-choosing row-wise multi-threading, the overhead of testing was 0.000384 seconds.\n",
            "You can set `force_row_wise=true` to remove the overhead.\n",
            "And if memory is not enough, you can set `force_col_wise=true`.\n",
            "[LightGBM] [Info] Total Bins 9007\n",
            "[LightGBM] [Info] Number of data points in the train set: 55, number of used features: 1157\n",
            "[LightGBM] [Info] [binary:BoostFromScore]: pavg=0.381818 -> initscore=-0.481838\n",
            "[LightGBM] [Info] Start training from score -0.481838\n",
            "[LightGBM] [Warning] No further splits with positive gain, best gain: -inf\n",
            "[LightGBM] [Warning] No further splits with positive gain, best gain: -inf\n",
            "[LightGBM] [Warning] No further splits with positive gain, best gain: -inf\n",
            "[LightGBM] [Warning] No further splits with positive gain, best gain: -inf\n",
            "[LightGBM] [Warning] No further splits with positive gain, best gain: -inf\n",
            "[LightGBM] [Warning] No further splits with positive gain, best gain: -inf\n",
            "[LightGBM] [Warning] No further splits with positive gain, best gain: -inf\n",
            "[LightGBM] [Warning] No further splits with positive gain, best gain: -inf\n",
            "[LightGBM] [Warning] No further splits with positive gain, best gain: -inf\n",
            "[LightGBM] [Warning] No further splits with positive gain, best gain: -inf\n",
            "[LightGBM] [Warning] No further splits with positive gain, best gain: -inf\n",
            "[LightGBM] [Warning] No further splits with positive gain, best gain: -inf\n",
            "[LightGBM] [Warning] No further splits with positive gain, best gain: -inf\n",
            "[LightGBM] [Warning] No further splits with positive gain, best gain: -inf\n",
            "[LightGBM] [Warning] No further splits with positive gain, best gain: -inf\n",
            "[LightGBM] [Warning] No further splits with positive gain, best gain: -inf\n",
            "[LightGBM] [Warning] No further splits with positive gain, best gain: -inf\n",
            "[LightGBM] [Warning] No further splits with positive gain, best gain: -inf\n",
            "[LightGBM] [Warning] No further splits with positive gain, best gain: -inf\n",
            "[LightGBM] [Warning] No further splits with positive gain, best gain: -inf\n",
            "[LightGBM] [Warning] No further splits with positive gain, best gain: -inf\n",
            "[LightGBM] [Warning] No further splits with positive gain, best gain: -inf\n",
            "[LightGBM] [Warning] No further splits with positive gain, best gain: -inf\n",
            "[LightGBM] [Warning] No further splits with positive gain, best gain: -inf\n",
            "[LightGBM] [Warning] No further splits with positive gain, best gain: -inf\n",
            "[LightGBM] [Warning] No further splits with positive gain, best gain: -inf\n",
            "[LightGBM] [Warning] No further splits with positive gain, best gain: -inf\n",
            "[LightGBM] [Warning] No further splits with positive gain, best gain: -inf\n",
            "[LightGBM] [Warning] No further splits with positive gain, best gain: -inf\n",
            "[LightGBM] [Warning] No further splits with positive gain, best gain: -inf\n",
            "[LightGBM] [Warning] No further splits with positive gain, best gain: -inf\n",
            "[LightGBM] [Warning] No further splits with positive gain, best gain: -inf\n",
            "[LightGBM] [Warning] No further splits with positive gain, best gain: -inf\n",
            "[LightGBM] [Warning] No further splits with positive gain, best gain: -inf\n",
            "[LightGBM] [Warning] No further splits with positive gain, best gain: -inf\n",
            "[LightGBM] [Warning] No further splits with positive gain, best gain: -inf\n",
            "[LightGBM] [Warning] No further splits with positive gain, best gain: -inf\n",
            "[LightGBM] [Warning] No further splits with positive gain, best gain: -inf\n",
            "[LightGBM] [Warning] No further splits with positive gain, best gain: -inf\n",
            "[LightGBM] [Warning] No further splits with positive gain, best gain: -inf\n",
            "[LightGBM] [Warning] No further splits with positive gain, best gain: -inf\n",
            "[LightGBM] [Warning] No further splits with positive gain, best gain: -inf\n",
            "[LightGBM] [Warning] No further splits with positive gain, best gain: -inf\n",
            "[LightGBM] [Warning] No further splits with positive gain, best gain: -inf\n",
            "[LightGBM] [Warning] No further splits with positive gain, best gain: -inf\n",
            "[LightGBM] [Warning] No further splits with positive gain, best gain: -inf\n",
            "[LightGBM] [Warning] No further splits with positive gain, best gain: -inf\n",
            "[LightGBM] [Warning] No further splits with positive gain, best gain: -inf\n",
            "[LightGBM] [Warning] No further splits with positive gain, best gain: -inf\n",
            "[LightGBM] [Warning] No further splits with positive gain, best gain: -inf\n",
            "[LightGBM] [Warning] No further splits with positive gain, best gain: -inf\n",
            "[LightGBM] [Warning] No further splits with positive gain, best gain: -inf\n",
            "[LightGBM] [Warning] No further splits with positive gain, best gain: -inf\n",
            "[LightGBM] [Warning] No further splits with positive gain, best gain: -inf\n",
            "[LightGBM] [Warning] No further splits with positive gain, best gain: -inf\n",
            "[LightGBM] [Warning] No further splits with positive gain, best gain: -inf\n",
            "[LightGBM] [Warning] No further splits with positive gain, best gain: -inf\n",
            "[LightGBM] [Warning] No further splits with positive gain, best gain: -inf\n",
            "[LightGBM] [Warning] No further splits with positive gain, best gain: -inf\n",
            "[LightGBM] [Warning] No further splits with positive gain, best gain: -inf\n",
            "[LightGBM] [Warning] No further splits with positive gain, best gain: -inf\n",
            "[LightGBM] [Warning] No further splits with positive gain, best gain: -inf\n",
            "[LightGBM] [Warning] No further splits with positive gain, best gain: -inf\n",
            "[LightGBM] [Warning] No further splits with positive gain, best gain: -inf\n",
            "[LightGBM] [Warning] No further splits with positive gain, best gain: -inf\n",
            "[LightGBM] [Warning] No further splits with positive gain, best gain: -inf\n",
            "[LightGBM] [Warning] No further splits with positive gain, best gain: -inf\n",
            "[LightGBM] [Warning] No further splits with positive gain, best gain: -inf\n",
            "[LightGBM] [Warning] No further splits with positive gain, best gain: -inf\n",
            "[LightGBM] [Warning] No further splits with positive gain, best gain: -inf\n",
            "[LightGBM] [Warning] No further splits with positive gain, best gain: -inf\n",
            "[LightGBM] [Warning] No further splits with positive gain, best gain: -inf\n",
            "[LightGBM] [Warning] No further splits with positive gain, best gain: -inf\n",
            "[LightGBM] [Warning] No further splits with positive gain, best gain: -inf\n",
            "[LightGBM] [Warning] No further splits with positive gain, best gain: -inf\n",
            "[LightGBM] [Warning] No further splits with positive gain, best gain: -inf\n",
            "[LightGBM] [Warning] No further splits with positive gain, best gain: -inf\n",
            "[LightGBM] [Warning] No further splits with positive gain, best gain: -inf\n",
            "[LightGBM] [Warning] No further splits with positive gain, best gain: -inf\n",
            "[LightGBM] [Warning] No further splits with positive gain, best gain: -inf\n",
            "[LightGBM] [Warning] No further splits with positive gain, best gain: -inf\n",
            "[LightGBM] [Warning] No further splits with positive gain, best gain: -inf\n",
            "[LightGBM] [Warning] No further splits with positive gain, best gain: -inf\n",
            "[LightGBM] [Warning] No further splits with positive gain, best gain: -inf\n",
            "[LightGBM] [Warning] No further splits with positive gain, best gain: -inf\n",
            "[LightGBM] [Warning] No further splits with positive gain, best gain: -inf\n",
            "[LightGBM] [Warning] No further splits with positive gain, best gain: -inf\n",
            "[LightGBM] [Warning] No further splits with positive gain, best gain: -inf\n",
            "[LightGBM] [Warning] No further splits with positive gain, best gain: -inf\n",
            "[LightGBM] [Warning] No further splits with positive gain, best gain: -inf\n",
            "[LightGBM] [Warning] No further splits with positive gain, best gain: -inf\n",
            "[LightGBM] [Warning] No further splits with positive gain, best gain: -inf\n",
            "[LightGBM] [Warning] No further splits with positive gain, best gain: -inf\n",
            "[LightGBM] [Warning] No further splits with positive gain, best gain: -inf\n",
            "[LightGBM] [Warning] No further splits with positive gain, best gain: -inf\n",
            "[LightGBM] [Warning] No further splits with positive gain, best gain: -inf\n",
            "[LightGBM] [Warning] No further splits with positive gain, best gain: -inf\n",
            "[LightGBM] [Warning] No further splits with positive gain, best gain: -inf\n",
            "[LightGBM] [Warning] No further splits with positive gain, best gain: -inf\n",
            "[LightGBM] [Warning] No further splits with positive gain, best gain: -inf\n"
          ]
        }
      ],
      "source": [
        "results = []\n",
        "\n",
        "for name, model in models.items():\n",
        "    start = time.time()\n",
        "    model.fit(X_train, y_train)\n",
        "    end = time.time()\n",
        "\n",
        "    y_pred = model.predict(X_test)\n",
        "\n",
        "    results.append({\n",
        "        \"Classifier\": name,\n",
        "        \"Accuracy\": accuracy_score(y_test, y_pred),\n",
        "        \"Precision\": precision_score(y_test, y_pred, average=\"macro\"),  # change to 'macro' if multi-class\n",
        "        \"Recall\": recall_score(y_test, y_pred, average=\"macro\"),\n",
        "        \"F1-Score\": f1_score(y_test, y_pred, average=\"macro\"),\n",
        "        \"Training Time\": round(end - start, 3)\n",
        "    })"
      ]
    },
    {
      "cell_type": "markdown",
      "id": "20d85fb9",
      "metadata": {},
      "source": [
        "### Result"
      ]
    },
    {
      "cell_type": "code",
      "execution_count": 17,
      "id": "32e20caa",
      "metadata": {},
      "outputs": [
        {
          "data": {
            "application/vnd.microsoft.datawrangler.viewer.v0+json": {
              "columns": [
                {
                  "name": "index",
                  "rawType": "int64",
                  "type": "integer"
                },
                {
                  "name": "Classifier",
                  "rawType": "object",
                  "type": "string"
                },
                {
                  "name": "Accuracy",
                  "rawType": "float64",
                  "type": "float"
                },
                {
                  "name": "Precision",
                  "rawType": "float64",
                  "type": "float"
                },
                {
                  "name": "Recall",
                  "rawType": "float64",
                  "type": "float"
                },
                {
                  "name": "F1-Score",
                  "rawType": "float64",
                  "type": "float"
                },
                {
                  "name": "Training Time",
                  "rawType": "float64",
                  "type": "float"
                }
              ],
              "ref": "8e33c2b2-a62a-4c76-885b-220a7ce32d50",
              "rows": [
                [
                  "8",
                  "XGBoost",
                  "0.42857142857142855",
                  "0.7555555555555555",
                  "0.4259259259259259",
                  "0.5262626262626262",
                  "20.293"
                ],
                [
                  "2",
                  "Gradient Boosting",
                  "0.5",
                  "0.8333333333333334",
                  "0.38888888888888884",
                  "0.5205128205128206",
                  "5.744"
                ],
                [
                  "9",
                  "LightGBM",
                  "0.2857142857142857",
                  "0.6071428571428571",
                  "0.4259259259259259",
                  "0.5",
                  "0.459"
                ],
                [
                  "5",
                  "KNN",
                  "0.21428571428571427",
                  "0.4444444444444445",
                  "0.4259259259259259",
                  "0.4222222222222222",
                  "0.144"
                ],
                [
                  "6",
                  "Naive Bayes",
                  "0.5",
                  "0.6666666666666666",
                  "0.2962962962962963",
                  "0.4047619047619048",
                  "0.192"
                ],
                [
                  "1",
                  "Random Forest",
                  "0.42857142857142855",
                  "0.6111111111111112",
                  "0.2962962962962963",
                  "0.38888888888888884",
                  "0.547"
                ],
                [
                  "10",
                  "DecisionTree",
                  "0.5",
                  "0.4666666666666666",
                  "0.3148148148148148",
                  "0.3722943722943723",
                  "0.219"
                ],
                [
                  "0",
                  "Logistic Regression",
                  "0.35714285714285715",
                  "0.5",
                  "0.2962962962962963",
                  "0.3703703703703704",
                  "3.964"
                ],
                [
                  "4",
                  "SVM (Linear)",
                  "0.35714285714285715",
                  "0.5",
                  "0.2962962962962963",
                  "0.3703703703703704",
                  "0.216"
                ],
                [
                  "7",
                  "MLP Classifier",
                  "0.35714285714285715",
                  "0.5",
                  "0.24074074074074073",
                  "0.32142857142857145",
                  "10.438"
                ],
                [
                  "3",
                  "AdaBoost",
                  "0.21428571428571427",
                  "0.5416666666666666",
                  "0.24074074074074073",
                  "0.2913165266106443",
                  "1.996"
                ]
              ],
              "shape": {
                "columns": 6,
                "rows": 11
              }
            },
            "text/html": [
              "<div>\n",
              "<style scoped>\n",
              "    .dataframe tbody tr th:only-of-type {\n",
              "        vertical-align: middle;\n",
              "    }\n",
              "\n",
              "    .dataframe tbody tr th {\n",
              "        vertical-align: top;\n",
              "    }\n",
              "\n",
              "    .dataframe thead th {\n",
              "        text-align: right;\n",
              "    }\n",
              "</style>\n",
              "<table border=\"1\" class=\"dataframe\">\n",
              "  <thead>\n",
              "    <tr style=\"text-align: right;\">\n",
              "      <th></th>\n",
              "      <th>Classifier</th>\n",
              "      <th>Accuracy</th>\n",
              "      <th>Precision</th>\n",
              "      <th>Recall</th>\n",
              "      <th>F1-Score</th>\n",
              "      <th>Training Time</th>\n",
              "    </tr>\n",
              "  </thead>\n",
              "  <tbody>\n",
              "    <tr>\n",
              "      <th>8</th>\n",
              "      <td>XGBoost</td>\n",
              "      <td>0.428571</td>\n",
              "      <td>0.755556</td>\n",
              "      <td>0.425926</td>\n",
              "      <td>0.526263</td>\n",
              "      <td>20.293</td>\n",
              "    </tr>\n",
              "    <tr>\n",
              "      <th>2</th>\n",
              "      <td>Gradient Boosting</td>\n",
              "      <td>0.500000</td>\n",
              "      <td>0.833333</td>\n",
              "      <td>0.388889</td>\n",
              "      <td>0.520513</td>\n",
              "      <td>5.744</td>\n",
              "    </tr>\n",
              "    <tr>\n",
              "      <th>9</th>\n",
              "      <td>LightGBM</td>\n",
              "      <td>0.285714</td>\n",
              "      <td>0.607143</td>\n",
              "      <td>0.425926</td>\n",
              "      <td>0.500000</td>\n",
              "      <td>0.459</td>\n",
              "    </tr>\n",
              "    <tr>\n",
              "      <th>5</th>\n",
              "      <td>KNN</td>\n",
              "      <td>0.214286</td>\n",
              "      <td>0.444444</td>\n",
              "      <td>0.425926</td>\n",
              "      <td>0.422222</td>\n",
              "      <td>0.144</td>\n",
              "    </tr>\n",
              "    <tr>\n",
              "      <th>6</th>\n",
              "      <td>Naive Bayes</td>\n",
              "      <td>0.500000</td>\n",
              "      <td>0.666667</td>\n",
              "      <td>0.296296</td>\n",
              "      <td>0.404762</td>\n",
              "      <td>0.192</td>\n",
              "    </tr>\n",
              "    <tr>\n",
              "      <th>1</th>\n",
              "      <td>Random Forest</td>\n",
              "      <td>0.428571</td>\n",
              "      <td>0.611111</td>\n",
              "      <td>0.296296</td>\n",
              "      <td>0.388889</td>\n",
              "      <td>0.547</td>\n",
              "    </tr>\n",
              "    <tr>\n",
              "      <th>10</th>\n",
              "      <td>DecisionTree</td>\n",
              "      <td>0.500000</td>\n",
              "      <td>0.466667</td>\n",
              "      <td>0.314815</td>\n",
              "      <td>0.372294</td>\n",
              "      <td>0.219</td>\n",
              "    </tr>\n",
              "    <tr>\n",
              "      <th>0</th>\n",
              "      <td>Logistic Regression</td>\n",
              "      <td>0.357143</td>\n",
              "      <td>0.500000</td>\n",
              "      <td>0.296296</td>\n",
              "      <td>0.370370</td>\n",
              "      <td>3.964</td>\n",
              "    </tr>\n",
              "    <tr>\n",
              "      <th>4</th>\n",
              "      <td>SVM (Linear)</td>\n",
              "      <td>0.357143</td>\n",
              "      <td>0.500000</td>\n",
              "      <td>0.296296</td>\n",
              "      <td>0.370370</td>\n",
              "      <td>0.216</td>\n",
              "    </tr>\n",
              "    <tr>\n",
              "      <th>7</th>\n",
              "      <td>MLP Classifier</td>\n",
              "      <td>0.357143</td>\n",
              "      <td>0.500000</td>\n",
              "      <td>0.240741</td>\n",
              "      <td>0.321429</td>\n",
              "      <td>10.438</td>\n",
              "    </tr>\n",
              "    <tr>\n",
              "      <th>3</th>\n",
              "      <td>AdaBoost</td>\n",
              "      <td>0.214286</td>\n",
              "      <td>0.541667</td>\n",
              "      <td>0.240741</td>\n",
              "      <td>0.291317</td>\n",
              "      <td>1.996</td>\n",
              "    </tr>\n",
              "  </tbody>\n",
              "</table>\n",
              "</div>"
            ],
            "text/plain": [
              "             Classifier  Accuracy  Precision    Recall  F1-Score  \\\n",
              "8               XGBoost  0.428571   0.755556  0.425926  0.526263   \n",
              "2     Gradient Boosting  0.500000   0.833333  0.388889  0.520513   \n",
              "9              LightGBM  0.285714   0.607143  0.425926  0.500000   \n",
              "5                   KNN  0.214286   0.444444  0.425926  0.422222   \n",
              "6           Naive Bayes  0.500000   0.666667  0.296296  0.404762   \n",
              "1         Random Forest  0.428571   0.611111  0.296296  0.388889   \n",
              "10         DecisionTree  0.500000   0.466667  0.314815  0.372294   \n",
              "0   Logistic Regression  0.357143   0.500000  0.296296  0.370370   \n",
              "4          SVM (Linear)  0.357143   0.500000  0.296296  0.370370   \n",
              "7        MLP Classifier  0.357143   0.500000  0.240741  0.321429   \n",
              "3              AdaBoost  0.214286   0.541667  0.240741  0.291317   \n",
              "\n",
              "    Training Time  \n",
              "8          20.293  \n",
              "2           5.744  \n",
              "9           0.459  \n",
              "5           0.144  \n",
              "6           0.192  \n",
              "1           0.547  \n",
              "10          0.219  \n",
              "0           3.964  \n",
              "4           0.216  \n",
              "7          10.438  \n",
              "3           1.996  "
            ]
          },
          "execution_count": 17,
          "metadata": {},
          "output_type": "execute_result"
        }
      ],
      "source": [
        "df = pd.DataFrame(results)\n",
        "df.sort_values(by=\"F1-Score\", ascending=False, inplace=True)\n",
        "df"
      ]
    },
    {
      "cell_type": "markdown",
      "id": "f21b5756",
      "metadata": {},
      "source": [
        "### Tuning"
      ]
    },
    {
      "cell_type": "code",
      "execution_count": 20,
      "id": "7b283cd0",
      "metadata": {},
      "outputs": [
        {
          "name": "stderr",
          "output_type": "stream",
          "text": [
            "[I 2025-07-11 15:40:21,395] A new study created in memory with name: no-name-15a720d9-70b3-4a50-bb58-23385f3c2e44\n",
            "[I 2025-07-11 15:41:36,474] Trial 0 finished with value: 0.19047619047619047 and parameters: {'n_estimators': 473, 'max_depth': 9, 'learning_rate': 0.011726041161503362, 'subsample': 0.957880615883327, 'colsample_bytree': 0.9440304270806165, 'gamma': 3.2088062594611944, 'reg_alpha': 0.9675683117131462, 'reg_lambda': 5.739353997869854}. Best is trial 0 with value: 0.19047619047619047.\n",
            "[I 2025-07-11 15:42:44,647] Trial 1 finished with value: 0.0 and parameters: {'n_estimators': 448, 'max_depth': 8, 'learning_rate': 0.000387856230251917, 'subsample': 0.33448199665102757, 'colsample_bytree': 0.4074011433157676, 'gamma': 1.8326977651520282, 'reg_alpha': 3.971388546599961, 'reg_lambda': 4.17054119756182}. Best is trial 0 with value: 0.19047619047619047.\n",
            "[I 2025-07-11 15:44:52,211] Trial 2 finished with value: 0.0 and parameters: {'n_estimators': 997, 'max_depth': 2, 'learning_rate': 0.0002385242541228425, 'subsample': 0.3867607236085868, 'colsample_bytree': 0.2879988043412627, 'gamma': 4.54958549058357, 'reg_alpha': 1.5260568602288438, 'reg_lambda': 0.31948126562386214}. Best is trial 0 with value: 0.19047619047619047.\n",
            "[I 2025-07-11 15:46:44,847] Trial 3 finished with value: 0.0 and parameters: {'n_estimators': 972, 'max_depth': 10, 'learning_rate': 8.666991639976884e-07, 'subsample': 0.9257492908762125, 'colsample_bytree': 0.7551063093449721, 'gamma': 6.673890331680441, 'reg_alpha': 9.299959740815346, 'reg_lambda': 6.264192925786315}. Best is trial 0 with value: 0.19047619047619047.\n",
            "[I 2025-07-11 15:48:05,936] Trial 4 finished with value: 0.37789661319073087 and parameters: {'n_estimators': 637, 'max_depth': 1, 'learning_rate': 0.04569914315032304, 'subsample': 0.9433938269643327, 'colsample_bytree': 0.5554788670408887, 'gamma': 0.5678344321478435, 'reg_alpha': 1.9361193666731114, 'reg_lambda': 0.40931642128977264}. Best is trial 4 with value: 0.37789661319073087.\n",
            "[I 2025-07-11 15:49:49,033] Trial 5 finished with value: 0.06666666666666667 and parameters: {'n_estimators': 850, 'max_depth': 5, 'learning_rate': 0.0004656885247290797, 'subsample': 0.6649930539371568, 'colsample_bytree': 0.8074725711758047, 'gamma': 2.869922206920984, 'reg_alpha': 0.3285859595363594, 'reg_lambda': 1.3492710259479468}. Best is trial 4 with value: 0.37789661319073087.\n",
            "[I 2025-07-11 15:50:14,412] Trial 6 finished with value: 0.0 and parameters: {'n_estimators': 65, 'max_depth': 6, 'learning_rate': 0.00013698466000956617, 'subsample': 0.17473875108217068, 'colsample_bytree': 0.36365933104772663, 'gamma': 6.962008434289604, 'reg_alpha': 3.5068939569291304, 'reg_lambda': 3.5077771690971415}. Best is trial 4 with value: 0.37789661319073087.\n",
            "[I 2025-07-11 15:51:05,749] Trial 7 finished with value: 0.0 and parameters: {'n_estimators': 359, 'max_depth': 1, 'learning_rate': 0.15191864209091804, 'subsample': 0.49642685369825024, 'colsample_bytree': 0.5268323610848002, 'gamma': 8.65516776947141, 'reg_alpha': 8.654503129216964, 'reg_lambda': 8.73252933366518}. Best is trial 4 with value: 0.37789661319073087.\n",
            "[I 2025-07-11 15:52:42,809] Trial 8 finished with value: 0.273015873015873 and parameters: {'n_estimators': 821, 'max_depth': 10, 'learning_rate': 0.021249540004290232, 'subsample': 0.7682914576167322, 'colsample_bytree': 0.41946533799103936, 'gamma': 2.315981535163364, 'reg_alpha': 0.6934959123696349, 'reg_lambda': 5.722805951808862}. Best is trial 4 with value: 0.37789661319073087.\n",
            "[I 2025-07-11 15:54:09,257] Trial 9 finished with value: 0.0 and parameters: {'n_estimators': 726, 'max_depth': 4, 'learning_rate': 0.00027711953759511956, 'subsample': 0.9387566252801223, 'colsample_bytree': 0.11714658583448465, 'gamma': 9.818772662835498, 'reg_alpha': 5.1168488170161766, 'reg_lambda': 0.11831283890624933}. Best is trial 4 with value: 0.37789661319073087.\n",
            "[I 2025-07-11 15:55:27,902] Trial 10 finished with value: 0.1568627450980392 and parameters: {'n_estimators': 642, 'max_depth': 3, 'learning_rate': 0.7222073839712502, 'subsample': 0.7331062282552514, 'colsample_bytree': 0.6660726183503898, 'gamma': 0.7963681898771053, 'reg_alpha': 6.433882938215746, 'reg_lambda': 2.251330956640506}. Best is trial 4 with value: 0.37789661319073087.\n",
            "[I 2025-07-11 15:56:47,660] Trial 11 finished with value: 0.3444444444444444 and parameters: {'n_estimators': 638, 'max_depth': 7, 'learning_rate': 0.017376109092424197, 'subsample': 0.7552218939930404, 'colsample_bytree': 0.5563775355134585, 'gamma': 0.13813933894723984, 'reg_alpha': 2.0391851917699944, 'reg_lambda': 7.435976150397867}. Best is trial 4 with value: 0.37789661319073087.\n",
            "[I 2025-07-11 15:58:12,085] Trial 12 finished with value: 0.16666666666666666 and parameters: {'n_estimators': 598, 'max_depth': 7, 'learning_rate': 0.010498880175278048, 'subsample': 0.8267712074933155, 'colsample_bytree': 0.5774280405560743, 'gamma': 0.004338031069960668, 'reg_alpha': 2.6451382177487384, 'reg_lambda': 8.575371389159628}. Best is trial 4 with value: 0.37789661319073087.\n",
            "[I 2025-07-11 15:58:59,666] Trial 13 finished with value: 0.17777777777777778 and parameters: {'n_estimators': 267, 'max_depth': 6, 'learning_rate': 0.07767415351728786, 'subsample': 0.6145086759263413, 'colsample_bytree': 0.566132962020259, 'gamma': 1.0132593944856327, 'reg_alpha': 2.1799736556603824, 'reg_lambda': 7.755329099067546}. Best is trial 4 with value: 0.37789661319073087.\n",
            "[I 2025-07-11 16:00:26,731] Trial 14 finished with value: 0.0 and parameters: {'n_estimators': 603, 'max_depth': 4, 'learning_rate': 0.0019758231973196574, 'subsample': 0.8343225063540476, 'colsample_bytree': 0.7121285963523076, 'gamma': 4.006142127486858, 'reg_alpha': 6.261176368687402, 'reg_lambda': 7.466150601472193}. Best is trial 4 with value: 0.37789661319073087.\n",
            "[I 2025-07-11 16:02:09,145] Trial 15 finished with value: 0.0 and parameters: {'n_estimators': 749, 'max_depth': 8, 'learning_rate': 1.0135700857339861e-05, 'subsample': 0.9978854555524371, 'colsample_bytree': 0.8644084139936621, 'gamma': 1.2313948149801628, 'reg_alpha': 4.006000817066037, 'reg_lambda': 9.985352215887334}. Best is trial 4 with value: 0.37789661319073087.\n",
            "[I 2025-07-11 16:02:51,429] Trial 16 finished with value: 0.37777777777777777 and parameters: {'n_estimators': 246, 'max_depth': 1, 'learning_rate': 0.807885123409541, 'subsample': 0.5170021661509029, 'colsample_bytree': 0.21606622262685915, 'gamma': 0.05859016165159854, 'reg_alpha': 2.449163105837093, 'reg_lambda': 4.040892606589957}. Best is trial 4 with value: 0.37789661319073087.\n",
            "[I 2025-07-11 16:03:30,268] Trial 17 finished with value: 0.0 and parameters: {'n_estimators': 177, 'max_depth': 1, 'learning_rate': 0.8369788469101204, 'subsample': 0.5146265736617882, 'colsample_bytree': 0.10360721554579552, 'gamma': 5.749063612300904, 'reg_alpha': 3.0293003237704568, 'reg_lambda': 2.741020773350344}. Best is trial 4 with value: 0.37789661319073087.\n",
            "[I 2025-07-11 16:03:51,619] Trial 18 finished with value: 0.0 and parameters: {'n_estimators': 12, 'max_depth': 2, 'learning_rate': 0.12167592939203274, 'subsample': 0.40574355239667037, 'colsample_bytree': 0.24174144092935843, 'gamma': 3.715548904613372, 'reg_alpha': 5.094399248817247, 'reg_lambda': 4.578592806191665}. Best is trial 4 with value: 0.37789661319073087.\n",
            "[I 2025-07-11 16:04:42,749] Trial 19 finished with value: 0.0 and parameters: {'n_estimators': 335, 'max_depth': 2, 'learning_rate': 0.002823358525457144, 'subsample': 0.18649374868028756, 'colsample_bytree': 0.24200568365822983, 'gamma': 2.4149211070974888, 'reg_alpha': 7.589378357982292, 'reg_lambda': 1.5416063067065586}. Best is trial 4 with value: 0.37789661319073087.\n",
            "[I 2025-07-11 16:05:17,504] Trial 20 finished with value: 0.0 and parameters: {'n_estimators': 151, 'max_depth': 3, 'learning_rate': 1.5528042612089948e-07, 'subsample': 0.279993471691259, 'colsample_bytree': 0.47848884583967877, 'gamma': 5.4118505197820514, 'reg_alpha': 1.6612870028597837, 'reg_lambda': 3.4671003169629517}. Best is trial 4 with value: 0.37789661319073087.\n",
            "[I 2025-07-11 16:06:32,708] Trial 21 finished with value: 0.36274509803921573 and parameters: {'n_estimators': 547, 'max_depth': 1, 'learning_rate': 0.2243969963609561, 'subsample': 0.6114041205947701, 'colsample_bytree': 0.6291917275329204, 'gamma': 0.5818937009905097, 'reg_alpha': 2.1682248423003965, 'reg_lambda': 6.812873190819592}. Best is trial 4 with value: 0.37789661319073087.\n",
            "[I 2025-07-11 16:07:45,551] Trial 22 finished with value: 0.20833333333333334 and parameters: {'n_estimators': 510, 'max_depth': 1, 'learning_rate': 0.4071005589603062, 'subsample': 0.5882557449832098, 'colsample_bytree': 0.6279321644310922, 'gamma': 1.4393714826750486, 'reg_alpha': 2.904699577893436, 'reg_lambda': 6.582168237967112}. Best is trial 4 with value: 0.37789661319073087.\n",
            "[I 2025-07-11 16:08:45,951] Trial 23 finished with value: 0.5444444444444444 and parameters: {'n_estimators': 392, 'max_depth': 3, 'learning_rate': 0.0649257027874224, 'subsample': 0.4694874004835078, 'colsample_bytree': 0.4677750166415253, 'gamma': 0.31183074634193536, 'reg_alpha': 0.04221684426300776, 'reg_lambda': 5.3608537495802295}. Best is trial 23 with value: 0.5444444444444444.\n",
            "[I 2025-07-11 16:09:40,487] Trial 24 finished with value: 0.2611111111111111 and parameters: {'n_estimators': 364, 'max_depth': 3, 'learning_rate': 0.03673623435937208, 'subsample': 0.4431159949591201, 'colsample_bytree': 0.3313154771447868, 'gamma': 1.8810119203110278, 'reg_alpha': 0.06417858751131152, 'reg_lambda': 4.472062760601853}. Best is trial 23 with value: 0.5444444444444444.\n",
            "[I 2025-07-11 16:10:23,995] Trial 25 finished with value: 0.0 and parameters: {'n_estimators': 241, 'max_depth': 2, 'learning_rate': 0.0031267717535821606, 'subsample': 0.27113187635518454, 'colsample_bytree': 0.18510187183476529, 'gamma': 0.1076655401302452, 'reg_alpha': 1.2033286744541076, 'reg_lambda': 5.069190223142948}. Best is trial 23 with value: 0.5444444444444444.\n",
            "[I 2025-07-11 16:11:23,855] Trial 26 finished with value: 0.5333333333333333 and parameters: {'n_estimators': 421, 'max_depth': 4, 'learning_rate': 0.0734237872683393, 'subsample': 0.4830377861084159, 'colsample_bytree': 0.4071017948911084, 'gamma': 0.9911318750353587, 'reg_alpha': 0.10769075351136559, 'reg_lambda': 3.1822311377295036}. Best is trial 23 with value: 0.5444444444444444.\n",
            "[I 2025-07-11 16:12:23,814] Trial 27 finished with value: 0.0 and parameters: {'n_estimators': 401, 'max_depth': 4, 'learning_rate': 2.0832568788756718e-05, 'subsample': 0.6769702195782803, 'colsample_bytree': 0.4676203135364021, 'gamma': 2.871285641422878, 'reg_alpha': 0.1589328085170551, 'reg_lambda': 0.9643986256428061}. Best is trial 23 with value: 0.5444444444444444.\n",
            "[I 2025-07-11 16:13:25,829] Trial 28 finished with value: 0.37777777777777777 and parameters: {'n_estimators': 440, 'max_depth': 5, 'learning_rate': 0.07239845212676774, 'subsample': 0.456575535739427, 'colsample_bytree': 0.4860222348185601, 'gamma': 1.5792201860584858, 'reg_alpha': 0.7439775663080224, 'reg_lambda': 2.1285868988934196}. Best is trial 23 with value: 0.5444444444444444.\n",
            "[I 2025-07-11 16:14:34,511] Trial 29 finished with value: 0.0 and parameters: {'n_estimators': 514, 'max_depth': 3, 'learning_rate': 0.006778802695729577, 'subsample': 0.29243440149721045, 'colsample_bytree': 0.39309191164367485, 'gamma': 3.786918274010432, 'reg_alpha': 1.0266547223917044, 'reg_lambda': 5.178386297697945}. Best is trial 23 with value: 0.5444444444444444.\n",
            "[I 2025-07-11 16:15:26,352] Trial 30 finished with value: 0.0 and parameters: {'n_estimators': 300, 'max_depth': 4, 'learning_rate': 0.039126472107469265, 'subsample': 0.10246489645438583, 'colsample_bytree': 0.3207068434466458, 'gamma': 2.307599116453493, 'reg_alpha': 1.2993835901124755, 'reg_lambda': 3.2317421188275195}. Best is trial 23 with value: 0.5444444444444444.\n",
            "[I 2025-07-11 16:16:03,695] Trial 31 finished with value: 0.49259259259259264 and parameters: {'n_estimators': 197, 'max_depth': 2, 'learning_rate': 0.3415431239444654, 'subsample': 0.5411934034028981, 'colsample_bytree': 0.19999989587066977, 'gamma': 0.7411478748320107, 'reg_alpha': 0.08169471724290006, 'reg_lambda': 4.04542276898653}. Best is trial 23 with value: 0.5444444444444444.\n",
            "[I 2025-07-11 16:16:39,061] Trial 32 finished with value: 0.5262626262626262 and parameters: {'n_estimators': 171, 'max_depth': 2, 'learning_rate': 0.24116014489165646, 'subsample': 0.5672010514643794, 'colsample_bytree': 0.995965922100445, 'gamma': 0.808758801725718, 'reg_alpha': 0.11410694095661418, 'reg_lambda': 5.926275834748058}. Best is trial 23 with value: 0.5444444444444444.\n",
            "[I 2025-07-11 16:17:14,136] Trial 33 finished with value: 0.48148148148148145 and parameters: {'n_estimators': 162, 'max_depth': 3, 'learning_rate': 0.19364095154826108, 'subsample': 0.5580861953688395, 'colsample_bytree': 0.9335846921540821, 'gamma': 1.0900080682664532, 'reg_alpha': 0.11770466939736267, 'reg_lambda': 5.716945333532309}. Best is trial 23 with value: 0.5444444444444444.\n",
            "[I 2025-07-11 16:17:40,786] Trial 34 finished with value: 0.3416666666666666 and parameters: {'n_estimators': 74, 'max_depth': 2, 'learning_rate': 0.27145703742514377, 'subsample': 0.3666118920374322, 'colsample_bytree': 0.9834899793542612, 'gamma': 1.79223294109423, 'reg_alpha': 0.7606318935245193, 'reg_lambda': 3.8799416677956975}. Best is trial 23 with value: 0.5444444444444444.\n",
            "[I 2025-07-11 16:18:42,487] Trial 35 finished with value: 0.2916666666666667 and parameters: {'n_estimators': 430, 'max_depth': 5, 'learning_rate': 0.3693027118631029, 'subsample': 0.4566550196208842, 'colsample_bytree': 0.4371311132670146, 'gamma': 0.7259814312196247, 'reg_alpha': 1.4573749059888004, 'reg_lambda': 5.369571205703031}. Best is trial 23 with value: 0.5444444444444444.\n",
            "[I 2025-07-11 16:19:20,320] Trial 36 finished with value: 0.0 and parameters: {'n_estimators': 188, 'max_depth': 3, 'learning_rate': 0.0012502332942608554, 'subsample': 0.6629810531404416, 'colsample_bytree': 0.2863361445836383, 'gamma': 1.9842006900112275, 'reg_alpha': 0.4550381191994955, 'reg_lambda': 6.163380365599121}. Best is trial 23 with value: 0.5444444444444444.\n",
            "[I 2025-07-11 16:19:51,822] Trial 37 finished with value: 0.0 and parameters: {'n_estimators': 108, 'max_depth': 4, 'learning_rate': 0.007437199432956691, 'subsample': 0.5621438735398735, 'colsample_bytree': 0.15987657943711228, 'gamma': 3.1202411873314313, 'reg_alpha': 1.0025166243116983, 'reg_lambda': 2.8379236323561736}. Best is trial 23 with value: 0.5444444444444444.\n",
            "[I 2025-07-11 16:20:40,291] Trial 38 finished with value: 0.0 and parameters: {'n_estimators': 305, 'max_depth': 2, 'learning_rate': 0.08218979251567797, 'subsample': 0.3535040911787017, 'colsample_bytree': 0.8511615225078257, 'gamma': 6.653591761077567, 'reg_alpha': 3.6812207523135907, 'reg_lambda': 4.716899609273973}. Best is trial 23 with value: 0.5444444444444444.\n",
            "[I 2025-07-11 16:21:24,231] Trial 39 finished with value: 0.0 and parameters: {'n_estimators': 221, 'max_depth': 5, 'learning_rate': 5.9196911237279196e-05, 'subsample': 0.4958593215875259, 'colsample_bytree': 0.3591409657112361, 'gamma': 4.659033552356053, 'reg_alpha': 9.9522280187943, 'reg_lambda': 3.879913259407009}. Best is trial 23 with value: 0.5444444444444444.\n",
            "[I 2025-07-11 16:21:54,496] Trial 40 finished with value: 0.0 and parameters: {'n_estimators': 114, 'max_depth': 2, 'learning_rate': 0.0008154155049038646, 'subsample': 0.4200261661923701, 'colsample_bytree': 0.7582959905883021, 'gamma': 0.6115804609791903, 'reg_alpha': 1.7080381192258354, 'reg_lambda': 5.937779743583304}. Best is trial 23 with value: 0.5444444444444444.\n",
            "[I 2025-07-11 16:22:29,848] Trial 41 finished with value: 0.48148148148148145 and parameters: {'n_estimators': 147, 'max_depth': 3, 'learning_rate': 0.1734767749922849, 'subsample': 0.5581235200932901, 'colsample_bytree': 0.9332922922044049, 'gamma': 0.9295243031663081, 'reg_alpha': 0.008223590730373674, 'reg_lambda': 5.459297277499649}. Best is trial 23 with value: 0.5444444444444444.\n",
            "[I 2025-07-11 16:23:28,006] Trial 42 finished with value: 0.3148148148148148 and parameters: {'n_estimators': 384, 'max_depth': 3, 'learning_rate': 0.02790776015658881, 'subsample': 0.5322389538888413, 'colsample_bytree': 0.9373088780346015, 'gamma': 1.2339142862805994, 'reg_alpha': 0.4970715387494162, 'reg_lambda': 6.365210261436371}. Best is trial 23 with value: 0.5444444444444444.\n",
            "[I 2025-07-11 16:23:49,025] Trial 43 finished with value: 0.34422657952069713 and parameters: {'n_estimators': 10, 'max_depth': 4, 'learning_rate': 0.39963973143976467, 'subsample': 0.6379009777136025, 'colsample_bytree': 0.9887275639144518, 'gamma': 1.4113545904637714, 'reg_alpha': 0.025604115883157932, 'reg_lambda': 7.118293542211971}. Best is trial 23 with value: 0.5444444444444444.\n",
            "[I 2025-07-11 16:24:38,031] Trial 44 finished with value: 0.4083333333333334 and parameters: {'n_estimators': 320, 'max_depth': 3, 'learning_rate': 0.12853363726392644, 'subsample': 0.716019564960764, 'colsample_bytree': 0.8856258990916828, 'gamma': 2.2906701350443717, 'reg_alpha': 0.5655356093701687, 'reg_lambda': 5.710444722524236}. Best is trial 23 with value: 0.5444444444444444.\n",
            "[I 2025-07-11 16:25:46,372] Trial 45 finished with value: 0.0 and parameters: {'n_estimators': 475, 'max_depth': 2, 'learning_rate': 0.012651923087680152, 'subsample': 0.4731042998949336, 'colsample_bytree': 0.8010142313477828, 'gamma': 0.40519274138270156, 'reg_alpha': 4.46715589403187, 'reg_lambda': 4.347717061040306}. Best is trial 23 with value: 0.5444444444444444.\n",
            "[I 2025-07-11 16:26:25,539] Trial 46 finished with value: 0.0 and parameters: {'n_estimators': 199, 'max_depth': 3, 'learning_rate': 0.06570212522059059, 'subsample': 0.5598954038540082, 'colsample_bytree': 0.5004936874123074, 'gamma': 8.183575717484832, 'reg_alpha': 1.0331640699746512, 'reg_lambda': 4.732527511670135}. Best is trial 23 with value: 0.5444444444444444.\n",
            "[I 2025-07-11 16:27:11,832] Trial 47 finished with value: 0.396078431372549 and parameters: {'n_estimators': 278, 'max_depth': 4, 'learning_rate': 0.47757278320181656, 'subsample': 0.5902887279190582, 'colsample_bytree': 0.390927961670238, 'gamma': 0.9266042012512816, 'reg_alpha': 0.5466927977420244, 'reg_lambda': 8.410027199164611}. Best is trial 23 with value: 0.5444444444444444.\n",
            "[I 2025-07-11 16:27:35,760] Trial 48 finished with value: 0.0 and parameters: {'n_estimators': 44, 'max_depth': 6, 'learning_rate': 0.020370420414707206, 'subsample': 0.3233052169891315, 'colsample_bytree': 0.6081204818766831, 'gamma': 0.41521079338022415, 'reg_alpha': 5.665235433381079, 'reg_lambda': 3.180969990404789}. Best is trial 23 with value: 0.5444444444444444.\n",
            "[I 2025-07-11 16:28:04,910] Trial 49 finished with value: 0.32941176470588235 and parameters: {'n_estimators': 98, 'max_depth': 1, 'learning_rate': 0.9603495613878401, 'subsample': 0.4890908039538544, 'colsample_bytree': 0.682348942892874, 'gamma': 2.6537781820284607, 'reg_alpha': 1.7725884592112973, 'reg_lambda': 2.3639944840883107}. Best is trial 23 with value: 0.5444444444444444.\n"
          ]
        },
        {
          "name": "stdout",
          "output_type": "stream",
          "text": [
            "Tuned XGBClassifier (MultiOutput):\n",
            "Accuracy: 0.42857142857142855\n",
            "Precision: 0.8055555555555555\n",
            "Recall: 0.4259259259259259\n",
            "F1 Score: 0.5444444444444444\n"
          ]
        }
      ],
      "source": [
        "# 1. Optuna objective with AdaBoost inside MultiOutputClassifier\n",
        "def objective(trial):\n",
        "    model = MultiOutputClassifier(XGBClassifier(\n",
        "        n_estimators=trial.suggest_int(\"n_estimators\", 10, 1000),\n",
        "        max_depth=trial.suggest_int(\"max_depth\", 1, 10),\n",
        "        learning_rate=trial.suggest_float(\"learning_rate\", 0.0000001, 1.0, log=True),\n",
        "        subsample=trial.suggest_float(\"subsample\", 0.1, 1.0),\n",
        "        colsample_bytree=trial.suggest_float(\"colsample_bytree\", 0.1, 1.0),\n",
        "        gamma=trial.suggest_float(\"gamma\", 0, 10),\n",
        "        reg_alpha=trial.suggest_float(\"reg_alpha\", 0.0, 10.0),\n",
        "        reg_lambda=trial.suggest_float(\"reg_lambda\", 0.0, 10.0),\n",
        "        use_label_encoder=False,\n",
        "        eval_metric=\"logloss\",\n",
        "        random_state=42,\n",
        "    ))\n",
        "    model.fit(X_train, y_train)\n",
        "    y_pred = model.predict(X_test)\n",
        "    return f1_score(y_test, y_pred, average=\"macro\", zero_division=0)\n",
        "\n",
        "# 2. Optimize AdaBoost\n",
        "study = optuna.create_study(direction=\"maximize\")\n",
        "study.optimize(objective, n_trials=50)\n",
        "\n",
        "# 3. Build base classifiers\n",
        "model = MultiOutputClassifier(XGBClassifier(**study.best_params, random_state=42))\n",
        "model.fit(X_train, y_train)\n",
        "y_pred = model.predict(X_test)\n",
        "\n",
        "print(\"Tuned XGBClassifier (MultiOutput):\")\n",
        "print(\"Accuracy:\", accuracy_score(y_test, y_pred))\n",
        "print(\"Precision:\", precision_score(y_test, y_pred, average=\"macro\", zero_division=0))\n",
        "print(\"Recall:\", recall_score(y_test, y_pred, average=\"macro\", zero_division=0))\n",
        "print(\"F1 Score:\", f1_score(y_test, y_pred, average=\"macro\", zero_division=0))\n"
      ]
    },
    {
      "cell_type": "code",
      "execution_count": 21,
      "id": "e44c06f1",
      "metadata": {},
      "outputs": [
        {
          "data": {
            "text/plain": [
              "['/Users/napatcholthaipanich/Dev/master/dissertation/workspace/ml/models/best_xgboost_model_on_crpwarner_opcode_n-gram.pkl']"
            ]
          },
          "execution_count": 21,
          "metadata": {},
          "output_type": "execute_result"
        }
      ],
      "source": [
        "joblib.dump(model, os.path.join(MODEL_PATH, f'best_xgboost_model_on_crpwarner_opcode_n-gram.pkl'))"
      ]
    },
    {
      "cell_type": "markdown",
      "id": "d0357c56",
      "metadata": {},
      "source": [
        "### K-Fold (K=3)"
      ]
    },
    {
      "cell_type": "code",
      "execution_count": 22,
      "id": "dc7afbd5",
      "metadata": {},
      "outputs": [],
      "source": [
        "NUM_FOLDS = 3\n",
        "results = []\n",
        "best_model = MultiOutputClassifier(XGBClassifier(**study.best_params, random_state=42))\n",
        "best_f1 = 0\n",
        "best_fold = 0"
      ]
    },
    {
      "cell_type": "code",
      "execution_count": 23,
      "id": "a8f51b21",
      "metadata": {},
      "outputs": [
        {
          "name": "stdout",
          "output_type": "stream",
          "text": [
            "=========== Fold-0 ===========\n",
            "Accuracy: 0.5217391304347826\n",
            "Precision: 0.4484848484848485\n",
            "Recall: 0.3904761904761904\n",
            "F1 Score: 0.41269841269841273\n",
            "=========== Fold-1 ===========\n",
            "Accuracy: 0.5652173913043478\n",
            "Precision: 0.375\n",
            "Recall: 0.5\n",
            "F1 Score: 0.4230769230769231\n",
            "=========== Fold-2 ===========\n",
            "Accuracy: 0.6521739130434783\n",
            "Precision: 0.5185185185185185\n",
            "Recall: 0.4047619047619048\n",
            "F1 Score: 0.4305555555555555\n",
            "\n",
            "===== Overall Summary =====\n",
            "Average Accuracy: 0.5797\n"
          ]
        },
        {
          "data": {
            "text/plain": [
              "['/Users/napatcholthaipanich/Dev/master/dissertation/workspace/ml/models/best_xgboost_model_on_crpwarner_opcode_n_gram_from_fold2.pkl']"
            ]
          },
          "execution_count": 23,
          "metadata": {},
          "output_type": "execute_result"
        }
      ],
      "source": [
        "for fold in range(NUM_FOLDS):\n",
        "    print(f\"=========== Fold-{fold} ===========\")\n",
        "    train_path = os.path.join(DATA_PATH, f'train_fold_{fold}-opcode-n-gram.csv')\n",
        "    val_path = os.path.join(DATA_PATH, f'val_fold_{fold}-opcode-n-gram.csv')\n",
        "\n",
        "    train_df = pd.read_csv(train_path)\n",
        "    val_df   = pd.read_csv(val_path)\n",
        "\n",
        "    X_train = train_df[feature_list]\n",
        "    y_train = train_df[labels]\n",
        "\n",
        "    X_val = val_df[feature_list]\n",
        "    y_val = val_df[labels]\n",
        "\n",
        "    # Train model\n",
        "    model = MultiOutputClassifier(XGBClassifier(**study.best_params, random_state=42))\n",
        "    model.fit(X_train, y_train)\n",
        "\n",
        "    # Evaluate\n",
        "    y_pred = model.predict(X_val)\n",
        "    report = classification_report(y_val, y_pred, target_names=labels, output_dict=True)\n",
        "    acc = accuracy_score(y_val, y_pred)\n",
        "    f1 = f1_score(y_val, y_pred, average=\"macro\", zero_division=0)\n",
        "\n",
        "    results.append({'fold': fold, 'accuracy': acc, 'report': report})\n",
        "    print(f\"Accuracy: {acc}\")\n",
        "    print(\"Precision:\", precision_score(y_val, y_pred, average=\"macro\", zero_division=0))\n",
        "    print(\"Recall:\", recall_score(y_val, y_pred, average=\"macro\", zero_division=0))\n",
        "    print(\"F1 Score:\", f1)\n",
        "\n",
        "    if best_f1 < f1:\n",
        "        best_model = model\n",
        "        best_fold = fold\n",
        "## Step 6: Average Performance Summary\n",
        "print(\"\\n===== Overall Summary =====\")\n",
        "avg_acc = sum([r['accuracy'] for r in results]) / NUM_FOLDS\n",
        "print(f\"Average Accuracy: {avg_acc:.4f}\")\n",
        "\n",
        "# Save model\n",
        "joblib.dump(best_model, os.path.join(MODEL_PATH, f'best_xgboost_model_on_crpwarner_opcode_n_gram_from_fold{best_fold}.pkl'))"
      ]
    },
    {
      "cell_type": "markdown",
      "id": "0b63c8af",
      "metadata": {},
      "source": [
        "## CNN"
      ]
    },
    {
      "cell_type": "markdown",
      "id": "ea61f523",
      "metadata": {},
      "source": [
        "### Structure"
      ]
    },
    {
      "cell_type": "code",
      "execution_count": 24,
      "id": "8d694457",
      "metadata": {},
      "outputs": [
        {
          "name": "stderr",
          "output_type": "stream",
          "text": [
            "2025-07-11 16:32:00.146436: I tensorflow/core/platform/cpu_feature_guard.cc:210] This TensorFlow binary is optimized to use available CPU instructions in performance-critical operations.\n",
            "To enable the following instructions: AVX2 AVX512F AVX512_VNNI FMA, in other operations, rebuild TensorFlow with the appropriate compiler flags.\n"
          ]
        }
      ],
      "source": [
        "from tensorflow.keras import regularizers\n",
        "from tensorflow.keras.models import Sequential, load_model\n",
        "from tensorflow.keras.layers import Dense, Dropout, BatchNormalization, LeakyReLU\n",
        "from tensorflow.keras.optimizers import Adam\n",
        "\n",
        "opcode_dim = len(feature_list)\n",
        "\n",
        "def MLClassifier():\n",
        "    return Sequential([\n",
        "        Dense(512, input_dim=opcode_dim, kernel_regularizer=regularizers.l2(0.001)),\n",
        "        BatchNormalization(),\n",
        "        LeakyReLU(alpha=0.01),\n",
        "        Dropout(0.4),\n",
        "\n",
        "        Dense(256, kernel_regularizer=regularizers.l2(0.001)),\n",
        "        BatchNormalization(),\n",
        "        LeakyReLU(alpha=0.01),\n",
        "        Dropout(0.3),\n",
        "\n",
        "        Dense(128, kernel_regularizer=regularizers.l2(0.001)),\n",
        "        BatchNormalization(),\n",
        "        LeakyReLU(alpha=0.01),\n",
        "        Dropout(0.2),\n",
        "\n",
        "        Dense(64),\n",
        "        LeakyReLU(alpha=0.01),\n",
        "        Dropout(0.2),\n",
        "\n",
        "        Dense(len(labels), activation='sigmoid')\n",
        "    ])\n",
        "\n",
        "model = MLClassifier()\n",
        "model.compile(\n",
        "    loss='binary_crossentropy',  # important for multi-label!\n",
        "    optimizer=Adam(learning_rate=0.001),\n",
        "    metrics=['accuracy', 'AUC']\n",
        ")\n"
      ]
    },
    {
      "cell_type": "markdown",
      "id": "f7c53ba4",
      "metadata": {},
      "source": [
        "### Training"
      ]
    },
    {
      "cell_type": "code",
      "execution_count": 25,
      "id": "7a77cd6e",
      "metadata": {},
      "outputs": [
        {
          "name": "stdout",
          "output_type": "stream",
          "text": [
            "Epoch 1/30\n",
            "\u001b[1m1/1\u001b[0m \u001b[32m━━━━━━━━━━━━━━━━━━━━\u001b[0m\u001b[37m\u001b[0m \u001b[1m0s\u001b[0m 3s/step - AUC: 0.4797 - accuracy: 0.2391 - loss: 2.2225"
          ]
        },
        {
          "name": "stderr",
          "output_type": "stream",
          "text": [
            "WARNING:absl:You are saving your model as an HDF5 file via `model.save()` or `keras.saving.save_model(model)`. This file format is considered legacy. We recommend using instead the native Keras format, e.g. `model.save('my_model.keras')` or `keras.saving.save_model(model, 'my_model.keras')`. \n"
          ]
        },
        {
          "name": "stdout",
          "output_type": "stream",
          "text": [
            "\u001b[1m1/1\u001b[0m \u001b[32m━━━━━━━━━━━━━━━━━━━━\u001b[0m\u001b[37m\u001b[0m \u001b[1m4s\u001b[0m 4s/step - AUC: 0.4797 - accuracy: 0.2391 - loss: 2.2225 - val_AUC: 0.3935 - val_accuracy: 0.1429 - val_loss: 4.3075 - learning_rate: 0.0010\n",
            "Epoch 2/30\n",
            "\u001b[1m1/1\u001b[0m \u001b[32m━━━━━━━━━━━━━━━━━━━━\u001b[0m\u001b[37m\u001b[0m \u001b[1m0s\u001b[0m 161ms/step - AUC: 0.6368 - accuracy: 0.2826 - loss: 2.0788 - val_AUC: 0.3970 - val_accuracy: 0.1429 - val_loss: 4.3338 - learning_rate: 0.0010\n",
            "Epoch 3/30\n",
            "\u001b[1m1/1\u001b[0m \u001b[32m━━━━━━━━━━━━━━━━━━━━\u001b[0m\u001b[37m\u001b[0m \u001b[1m0s\u001b[0m 81ms/step - AUC: 0.6703 - accuracy: 0.3696 - loss: 1.9806"
          ]
        },
        {
          "name": "stderr",
          "output_type": "stream",
          "text": [
            "WARNING:absl:You are saving your model as an HDF5 file via `model.save()` or `keras.saving.save_model(model)`. This file format is considered legacy. We recommend using instead the native Keras format, e.g. `model.save('my_model.keras')` or `keras.saving.save_model(model, 'my_model.keras')`. \n"
          ]
        },
        {
          "name": "stdout",
          "output_type": "stream",
          "text": [
            "\u001b[1m1/1\u001b[0m \u001b[32m━━━━━━━━━━━━━━━━━━━━\u001b[0m\u001b[37m\u001b[0m \u001b[1m0s\u001b[0m 278ms/step - AUC: 0.6703 - accuracy: 0.3696 - loss: 1.9806 - val_AUC: 0.3958 - val_accuracy: 0.1429 - val_loss: 3.8304 - learning_rate: 0.0010\n",
            "Epoch 4/30\n",
            "\u001b[1m1/1\u001b[0m \u001b[32m━━━━━━━━━━━━━━━━━━━━\u001b[0m\u001b[37m\u001b[0m \u001b[1m0s\u001b[0m 154ms/step - AUC: 0.7222 - accuracy: 0.3696 - loss: 1.8692 - val_AUC: 0.3889 - val_accuracy: 0.1429 - val_loss: 3.8490 - learning_rate: 0.0010\n",
            "Epoch 5/30\n",
            "\u001b[1m1/1\u001b[0m \u001b[32m━━━━━━━━━━━━━━━━━━━━\u001b[0m\u001b[37m\u001b[0m \u001b[1m0s\u001b[0m 80ms/step - AUC: 0.7606 - accuracy: 0.5000 - loss: 1.7865"
          ]
        },
        {
          "name": "stderr",
          "output_type": "stream",
          "text": [
            "WARNING:absl:You are saving your model as an HDF5 file via `model.save()` or `keras.saving.save_model(model)`. This file format is considered legacy. We recommend using instead the native Keras format, e.g. `model.save('my_model.keras')` or `keras.saving.save_model(model, 'my_model.keras')`. \n"
          ]
        },
        {
          "name": "stdout",
          "output_type": "stream",
          "text": [
            "\u001b[1m1/1\u001b[0m \u001b[32m━━━━━━━━━━━━━━━━━━━━\u001b[0m\u001b[37m\u001b[0m \u001b[1m0s\u001b[0m 277ms/step - AUC: 0.7606 - accuracy: 0.5000 - loss: 1.7865 - val_AUC: 0.4051 - val_accuracy: 0.1429 - val_loss: 3.5774 - learning_rate: 0.0010\n",
            "Epoch 6/30\n",
            "\u001b[1m1/1\u001b[0m \u001b[32m━━━━━━━━━━━━━━━━━━━━\u001b[0m\u001b[37m\u001b[0m \u001b[1m0s\u001b[0m 81ms/step - AUC: 0.7450 - accuracy: 0.3696 - loss: 1.7029"
          ]
        },
        {
          "name": "stderr",
          "output_type": "stream",
          "text": [
            "WARNING:absl:You are saving your model as an HDF5 file via `model.save()` or `keras.saving.save_model(model)`. This file format is considered legacy. We recommend using instead the native Keras format, e.g. `model.save('my_model.keras')` or `keras.saving.save_model(model, 'my_model.keras')`. \n"
          ]
        },
        {
          "name": "stdout",
          "output_type": "stream",
          "text": [
            "\u001b[1m1/1\u001b[0m \u001b[32m━━━━━━━━━━━━━━━━━━━━\u001b[0m\u001b[37m\u001b[0m \u001b[1m0s\u001b[0m 274ms/step - AUC: 0.7450 - accuracy: 0.3696 - loss: 1.7029 - val_AUC: 0.4051 - val_accuracy: 0.1429 - val_loss: 3.3522 - learning_rate: 0.0010\n",
            "Epoch 7/30\n",
            "\u001b[1m1/1\u001b[0m \u001b[32m━━━━━━━━━━━━━━━━━━━━\u001b[0m\u001b[37m\u001b[0m \u001b[1m0s\u001b[0m 82ms/step - AUC: 0.8068 - accuracy: 0.4130 - loss: 1.6179"
          ]
        },
        {
          "name": "stderr",
          "output_type": "stream",
          "text": [
            "WARNING:absl:You are saving your model as an HDF5 file via `model.save()` or `keras.saving.save_model(model)`. This file format is considered legacy. We recommend using instead the native Keras format, e.g. `model.save('my_model.keras')` or `keras.saving.save_model(model, 'my_model.keras')`. \n"
          ]
        },
        {
          "name": "stdout",
          "output_type": "stream",
          "text": [
            "\u001b[1m1/1\u001b[0m \u001b[32m━━━━━━━━━━━━━━━━━━━━\u001b[0m\u001b[37m\u001b[0m \u001b[1m0s\u001b[0m 276ms/step - AUC: 0.8068 - accuracy: 0.4130 - loss: 1.6179 - val_AUC: 0.4039 - val_accuracy: 0.1429 - val_loss: 3.1444 - learning_rate: 0.0010\n",
            "Epoch 8/30\n",
            "\u001b[1m1/1\u001b[0m \u001b[32m━━━━━━━━━━━━━━━━━━━━\u001b[0m\u001b[37m\u001b[0m \u001b[1m0s\u001b[0m 80ms/step - AUC: 0.8711 - accuracy: 0.5000 - loss: 1.5155"
          ]
        },
        {
          "name": "stderr",
          "output_type": "stream",
          "text": [
            "WARNING:absl:You are saving your model as an HDF5 file via `model.save()` or `keras.saving.save_model(model)`. This file format is considered legacy. We recommend using instead the native Keras format, e.g. `model.save('my_model.keras')` or `keras.saving.save_model(model, 'my_model.keras')`. \n"
          ]
        },
        {
          "name": "stdout",
          "output_type": "stream",
          "text": [
            "\u001b[1m1/1\u001b[0m \u001b[32m━━━━━━━━━━━━━━━━━━━━\u001b[0m\u001b[37m\u001b[0m \u001b[1m0s\u001b[0m 268ms/step - AUC: 0.8711 - accuracy: 0.5000 - loss: 1.5155 - val_AUC: 0.3935 - val_accuracy: 0.1429 - val_loss: 3.0610 - learning_rate: 0.0010\n",
            "Epoch 9/30\n",
            "\u001b[1m1/1\u001b[0m \u001b[32m━━━━━━━━━━━━━━━━━━━━\u001b[0m\u001b[37m\u001b[0m \u001b[1m0s\u001b[0m 83ms/step - AUC: 0.9013 - accuracy: 0.4783 - loss: 1.4307"
          ]
        },
        {
          "name": "stderr",
          "output_type": "stream",
          "text": [
            "WARNING:absl:You are saving your model as an HDF5 file via `model.save()` or `keras.saving.save_model(model)`. This file format is considered legacy. We recommend using instead the native Keras format, e.g. `model.save('my_model.keras')` or `keras.saving.save_model(model, 'my_model.keras')`. \n"
          ]
        },
        {
          "name": "stdout",
          "output_type": "stream",
          "text": [
            "\u001b[1m1/1\u001b[0m \u001b[32m━━━━━━━━━━━━━━━━━━━━\u001b[0m\u001b[37m\u001b[0m \u001b[1m0s\u001b[0m 276ms/step - AUC: 0.9013 - accuracy: 0.4783 - loss: 1.4307 - val_AUC: 0.3831 - val_accuracy: 0.1429 - val_loss: 2.9878 - learning_rate: 0.0010\n",
            "Epoch 10/30\n",
            "\u001b[1m1/1\u001b[0m \u001b[32m━━━━━━━━━━━━━━━━━━━━\u001b[0m\u001b[37m\u001b[0m \u001b[1m0s\u001b[0m 86ms/step - AUC: 0.9016 - accuracy: 0.5000 - loss: 1.3941"
          ]
        },
        {
          "name": "stderr",
          "output_type": "stream",
          "text": [
            "WARNING:absl:You are saving your model as an HDF5 file via `model.save()` or `keras.saving.save_model(model)`. This file format is considered legacy. We recommend using instead the native Keras format, e.g. `model.save('my_model.keras')` or `keras.saving.save_model(model, 'my_model.keras')`. \n"
          ]
        },
        {
          "name": "stdout",
          "output_type": "stream",
          "text": [
            "\u001b[1m1/1\u001b[0m \u001b[32m━━━━━━━━━━━━━━━━━━━━\u001b[0m\u001b[37m\u001b[0m \u001b[1m0s\u001b[0m 282ms/step - AUC: 0.9016 - accuracy: 0.5000 - loss: 1.3941 - val_AUC: 0.3796 - val_accuracy: 0.1429 - val_loss: 2.8483 - learning_rate: 0.0010\n",
            "Epoch 11/30\n",
            "\u001b[1m1/1\u001b[0m \u001b[32m━━━━━━━━━━━━━━━━━━━━\u001b[0m\u001b[37m\u001b[0m \u001b[1m0s\u001b[0m 83ms/step - AUC: 0.8837 - accuracy: 0.5435 - loss: 1.3651"
          ]
        },
        {
          "name": "stderr",
          "output_type": "stream",
          "text": [
            "WARNING:absl:You are saving your model as an HDF5 file via `model.save()` or `keras.saving.save_model(model)`. This file format is considered legacy. We recommend using instead the native Keras format, e.g. `model.save('my_model.keras')` or `keras.saving.save_model(model, 'my_model.keras')`. \n"
          ]
        },
        {
          "name": "stdout",
          "output_type": "stream",
          "text": [
            "\u001b[1m1/1\u001b[0m \u001b[32m━━━━━━━━━━━━━━━━━━━━\u001b[0m\u001b[37m\u001b[0m \u001b[1m0s\u001b[0m 279ms/step - AUC: 0.8837 - accuracy: 0.5435 - loss: 1.3651 - val_AUC: 0.4028 - val_accuracy: 0.1429 - val_loss: 2.6511 - learning_rate: 0.0010\n",
            "Epoch 12/30\n",
            "\u001b[1m1/1\u001b[0m \u001b[32m━━━━━━━━━━━━━━━━━━━━\u001b[0m\u001b[37m\u001b[0m \u001b[1m0s\u001b[0m 82ms/step - AUC: 0.9139 - accuracy: 0.5217 - loss: 1.3080"
          ]
        },
        {
          "name": "stderr",
          "output_type": "stream",
          "text": [
            "WARNING:absl:You are saving your model as an HDF5 file via `model.save()` or `keras.saving.save_model(model)`. This file format is considered legacy. We recommend using instead the native Keras format, e.g. `model.save('my_model.keras')` or `keras.saving.save_model(model, 'my_model.keras')`. \n"
          ]
        },
        {
          "name": "stdout",
          "output_type": "stream",
          "text": [
            "\u001b[1m1/1\u001b[0m \u001b[32m━━━━━━━━━━━━━━━━━━━━\u001b[0m\u001b[37m\u001b[0m \u001b[1m0s\u001b[0m 278ms/step - AUC: 0.9139 - accuracy: 0.5217 - loss: 1.3080 - val_AUC: 0.4387 - val_accuracy: 0.1429 - val_loss: 2.4643 - learning_rate: 0.0010\n",
            "Epoch 13/30\n",
            "\u001b[1m1/1\u001b[0m \u001b[32m━━━━━━━━━━━━━━━━━━━━\u001b[0m\u001b[37m\u001b[0m \u001b[1m0s\u001b[0m 81ms/step - AUC: 0.9236 - accuracy: 0.5217 - loss: 1.2603"
          ]
        },
        {
          "name": "stderr",
          "output_type": "stream",
          "text": [
            "WARNING:absl:You are saving your model as an HDF5 file via `model.save()` or `keras.saving.save_model(model)`. This file format is considered legacy. We recommend using instead the native Keras format, e.g. `model.save('my_model.keras')` or `keras.saving.save_model(model, 'my_model.keras')`. \n"
          ]
        },
        {
          "name": "stdout",
          "output_type": "stream",
          "text": [
            "\u001b[1m1/1\u001b[0m \u001b[32m━━━━━━━━━━━━━━━━━━━━\u001b[0m\u001b[37m\u001b[0m \u001b[1m0s\u001b[0m 275ms/step - AUC: 0.9236 - accuracy: 0.5217 - loss: 1.2603 - val_AUC: 0.4444 - val_accuracy: 0.0714 - val_loss: 2.3113 - learning_rate: 0.0010\n",
            "Epoch 14/30\n",
            "\u001b[1m1/1\u001b[0m \u001b[32m━━━━━━━━━━━━━━━━━━━━\u001b[0m\u001b[37m\u001b[0m \u001b[1m0s\u001b[0m 83ms/step - AUC: 0.8875 - accuracy: 0.5000 - loss: 1.2514"
          ]
        },
        {
          "name": "stderr",
          "output_type": "stream",
          "text": [
            "WARNING:absl:You are saving your model as an HDF5 file via `model.save()` or `keras.saving.save_model(model)`. This file format is considered legacy. We recommend using instead the native Keras format, e.g. `model.save('my_model.keras')` or `keras.saving.save_model(model, 'my_model.keras')`. \n"
          ]
        },
        {
          "name": "stdout",
          "output_type": "stream",
          "text": [
            "\u001b[1m1/1\u001b[0m \u001b[32m━━━━━━━━━━━━━━━━━━━━\u001b[0m\u001b[37m\u001b[0m \u001b[1m0s\u001b[0m 273ms/step - AUC: 0.8875 - accuracy: 0.5000 - loss: 1.2514 - val_AUC: 0.4687 - val_accuracy: 0.0714 - val_loss: 2.1663 - learning_rate: 0.0010\n",
            "Epoch 15/30\n",
            "\u001b[1m1/1\u001b[0m \u001b[32m━━━━━━━━━━━━━━━━━━━━\u001b[0m\u001b[37m\u001b[0m \u001b[1m0s\u001b[0m 167ms/step - AUC: 0.9310 - accuracy: 0.5217 - loss: 1.1824"
          ]
        },
        {
          "name": "stderr",
          "output_type": "stream",
          "text": [
            "WARNING:absl:You are saving your model as an HDF5 file via `model.save()` or `keras.saving.save_model(model)`. This file format is considered legacy. We recommend using instead the native Keras format, e.g. `model.save('my_model.keras')` or `keras.saving.save_model(model, 'my_model.keras')`. \n"
          ]
        },
        {
          "name": "stdout",
          "output_type": "stream",
          "text": [
            "\u001b[1m1/1\u001b[0m \u001b[32m━━━━━━━━━━━━━━━━━━━━\u001b[0m\u001b[37m\u001b[0m \u001b[1m0s\u001b[0m 355ms/step - AUC: 0.9310 - accuracy: 0.5217 - loss: 1.1824 - val_AUC: 0.4861 - val_accuracy: 0.0714 - val_loss: 2.0420 - learning_rate: 0.0010\n",
            "Epoch 16/30\n",
            "\u001b[1m1/1\u001b[0m \u001b[32m━━━━━━━━━━━━━━━━━━━━\u001b[0m\u001b[37m\u001b[0m \u001b[1m0s\u001b[0m 82ms/step - AUC: 0.9351 - accuracy: 0.4348 - loss: 1.1400"
          ]
        },
        {
          "name": "stderr",
          "output_type": "stream",
          "text": [
            "WARNING:absl:You are saving your model as an HDF5 file via `model.save()` or `keras.saving.save_model(model)`. This file format is considered legacy. We recommend using instead the native Keras format, e.g. `model.save('my_model.keras')` or `keras.saving.save_model(model, 'my_model.keras')`. \n"
          ]
        },
        {
          "name": "stdout",
          "output_type": "stream",
          "text": [
            "\u001b[1m1/1\u001b[0m \u001b[32m━━━━━━━━━━━━━━━━━━━━\u001b[0m\u001b[37m\u001b[0m \u001b[1m0s\u001b[0m 268ms/step - AUC: 0.9351 - accuracy: 0.4348 - loss: 1.1400 - val_AUC: 0.4931 - val_accuracy: 0.0714 - val_loss: 1.9576 - learning_rate: 0.0010\n",
            "Epoch 17/30\n",
            "\u001b[1m1/1\u001b[0m \u001b[32m━━━━━━━━━━━━━━━━━━━━\u001b[0m\u001b[37m\u001b[0m \u001b[1m0s\u001b[0m 84ms/step - AUC: 0.9628 - accuracy: 0.5870 - loss: 1.1003"
          ]
        },
        {
          "name": "stderr",
          "output_type": "stream",
          "text": [
            "WARNING:absl:You are saving your model as an HDF5 file via `model.save()` or `keras.saving.save_model(model)`. This file format is considered legacy. We recommend using instead the native Keras format, e.g. `model.save('my_model.keras')` or `keras.saving.save_model(model, 'my_model.keras')`. \n"
          ]
        },
        {
          "name": "stdout",
          "output_type": "stream",
          "text": [
            "\u001b[1m1/1\u001b[0m \u001b[32m━━━━━━━━━━━━━━━━━━━━\u001b[0m\u001b[37m\u001b[0m \u001b[1m0s\u001b[0m 277ms/step - AUC: 0.9628 - accuracy: 0.5870 - loss: 1.1003 - val_AUC: 0.4942 - val_accuracy: 0.0714 - val_loss: 1.8979 - learning_rate: 0.0010\n",
            "Epoch 18/30\n",
            "\u001b[1m1/1\u001b[0m \u001b[32m━━━━━━━━━━━━━━━━━━━━\u001b[0m\u001b[37m\u001b[0m \u001b[1m0s\u001b[0m 80ms/step - AUC: 0.9279 - accuracy: 0.5000 - loss: 1.1045"
          ]
        },
        {
          "name": "stderr",
          "output_type": "stream",
          "text": [
            "WARNING:absl:You are saving your model as an HDF5 file via `model.save()` or `keras.saving.save_model(model)`. This file format is considered legacy. We recommend using instead the native Keras format, e.g. `model.save('my_model.keras')` or `keras.saving.save_model(model, 'my_model.keras')`. \n"
          ]
        },
        {
          "name": "stdout",
          "output_type": "stream",
          "text": [
            "\u001b[1m1/1\u001b[0m \u001b[32m━━━━━━━━━━━━━━━━━━━━\u001b[0m\u001b[37m\u001b[0m \u001b[1m0s\u001b[0m 268ms/step - AUC: 0.9279 - accuracy: 0.5000 - loss: 1.1045 - val_AUC: 0.4931 - val_accuracy: 0.0714 - val_loss: 1.8528 - learning_rate: 0.0010\n",
            "Epoch 19/30\n",
            "\u001b[1m1/1\u001b[0m \u001b[32m━━━━━━━━━━━━━━━━━━━━\u001b[0m\u001b[37m\u001b[0m \u001b[1m0s\u001b[0m 85ms/step - AUC: 0.9472 - accuracy: 0.6087 - loss: 1.0776"
          ]
        },
        {
          "name": "stderr",
          "output_type": "stream",
          "text": [
            "WARNING:absl:You are saving your model as an HDF5 file via `model.save()` or `keras.saving.save_model(model)`. This file format is considered legacy. We recommend using instead the native Keras format, e.g. `model.save('my_model.keras')` or `keras.saving.save_model(model, 'my_model.keras')`. \n"
          ]
        },
        {
          "name": "stdout",
          "output_type": "stream",
          "text": [
            "\u001b[1m1/1\u001b[0m \u001b[32m━━━━━━━━━━━━━━━━━━━━\u001b[0m\u001b[37m\u001b[0m \u001b[1m0s\u001b[0m 281ms/step - AUC: 0.9472 - accuracy: 0.6087 - loss: 1.0776 - val_AUC: 0.5093 - val_accuracy: 0.1429 - val_loss: 1.8134 - learning_rate: 0.0010\n",
            "Epoch 20/30\n",
            "\u001b[1m1/1\u001b[0m \u001b[32m━━━━━━━━━━━━━━━━━━━━\u001b[0m\u001b[37m\u001b[0m \u001b[1m0s\u001b[0m 79ms/step - AUC: 0.9627 - accuracy: 0.6304 - loss: 1.0263"
          ]
        },
        {
          "name": "stderr",
          "output_type": "stream",
          "text": [
            "WARNING:absl:You are saving your model as an HDF5 file via `model.save()` or `keras.saving.save_model(model)`. This file format is considered legacy. We recommend using instead the native Keras format, e.g. `model.save('my_model.keras')` or `keras.saving.save_model(model, 'my_model.keras')`. \n"
          ]
        },
        {
          "name": "stdout",
          "output_type": "stream",
          "text": [
            "\u001b[1m1/1\u001b[0m \u001b[32m━━━━━━━━━━━━━━━━━━━━\u001b[0m\u001b[37m\u001b[0m \u001b[1m0s\u001b[0m 297ms/step - AUC: 0.9627 - accuracy: 0.6304 - loss: 1.0263 - val_AUC: 0.5324 - val_accuracy: 0.1429 - val_loss: 1.7640 - learning_rate: 0.0010\n",
            "Epoch 21/30\n",
            "\u001b[1m1/1\u001b[0m \u001b[32m━━━━━━━━━━━━━━━━━━━━\u001b[0m\u001b[37m\u001b[0m \u001b[1m0s\u001b[0m 79ms/step - AUC: 0.9617 - accuracy: 0.5652 - loss: 1.0119"
          ]
        },
        {
          "name": "stderr",
          "output_type": "stream",
          "text": [
            "WARNING:absl:You are saving your model as an HDF5 file via `model.save()` or `keras.saving.save_model(model)`. This file format is considered legacy. We recommend using instead the native Keras format, e.g. `model.save('my_model.keras')` or `keras.saving.save_model(model, 'my_model.keras')`. \n"
          ]
        },
        {
          "name": "stdout",
          "output_type": "stream",
          "text": [
            "\u001b[1m1/1\u001b[0m \u001b[32m━━━━━━━━━━━━━━━━━━━━\u001b[0m\u001b[37m\u001b[0m \u001b[1m0s\u001b[0m 265ms/step - AUC: 0.9617 - accuracy: 0.5652 - loss: 1.0119 - val_AUC: 0.5405 - val_accuracy: 0.0714 - val_loss: 1.7491 - learning_rate: 0.0010\n",
            "Epoch 22/30\n",
            "\u001b[1m1/1\u001b[0m \u001b[32m━━━━━━━━━━━━━━━━━━━━\u001b[0m\u001b[37m\u001b[0m \u001b[1m0s\u001b[0m 84ms/step - AUC: 0.9498 - accuracy: 0.6522 - loss: 1.0331"
          ]
        },
        {
          "name": "stderr",
          "output_type": "stream",
          "text": [
            "WARNING:absl:You are saving your model as an HDF5 file via `model.save()` or `keras.saving.save_model(model)`. This file format is considered legacy. We recommend using instead the native Keras format, e.g. `model.save('my_model.keras')` or `keras.saving.save_model(model, 'my_model.keras')`. \n"
          ]
        },
        {
          "name": "stdout",
          "output_type": "stream",
          "text": [
            "\u001b[1m1/1\u001b[0m \u001b[32m━━━━━━━━━━━━━━━━━━━━\u001b[0m\u001b[37m\u001b[0m \u001b[1m0s\u001b[0m 274ms/step - AUC: 0.9498 - accuracy: 0.6522 - loss: 1.0331 - val_AUC: 0.5463 - val_accuracy: 0.0714 - val_loss: 1.7473 - learning_rate: 0.0010\n",
            "Epoch 23/30\n",
            "\u001b[1m1/1\u001b[0m \u001b[32m━━━━━━━━━━━━━━━━━━━━\u001b[0m\u001b[37m\u001b[0m \u001b[1m0s\u001b[0m 79ms/step - AUC: 0.9635 - accuracy: 0.6739 - loss: 0.9808"
          ]
        },
        {
          "name": "stderr",
          "output_type": "stream",
          "text": [
            "WARNING:absl:You are saving your model as an HDF5 file via `model.save()` or `keras.saving.save_model(model)`. This file format is considered legacy. We recommend using instead the native Keras format, e.g. `model.save('my_model.keras')` or `keras.saving.save_model(model, 'my_model.keras')`. \n"
          ]
        },
        {
          "name": "stdout",
          "output_type": "stream",
          "text": [
            "\u001b[1m1/1\u001b[0m \u001b[32m━━━━━━━━━━━━━━━━━━━━\u001b[0m\u001b[37m\u001b[0m \u001b[1m0s\u001b[0m 261ms/step - AUC: 0.9635 - accuracy: 0.6739 - loss: 0.9808 - val_AUC: 0.5451 - val_accuracy: 0.1429 - val_loss: 1.7444 - learning_rate: 0.0010\n",
            "Epoch 24/30\n",
            "\u001b[1m1/1\u001b[0m \u001b[32m━━━━━━━━━━━━━━━━━━━━\u001b[0m\u001b[37m\u001b[0m \u001b[1m0s\u001b[0m 160ms/step - AUC: 0.9793 - accuracy: 0.5870 - loss: 0.9575 - val_AUC: 0.5405 - val_accuracy: 0.1429 - val_loss: 1.7451 - learning_rate: 0.0010\n",
            "Epoch 25/30\n",
            "\u001b[1m1/1\u001b[0m \u001b[32m━━━━━━━━━━━━━━━━━━━━\u001b[0m\u001b[37m\u001b[0m \u001b[1m0s\u001b[0m 151ms/step - AUC: 0.9648 - accuracy: 0.6087 - loss: 0.9663 - val_AUC: 0.5370 - val_accuracy: 0.2143 - val_loss: 1.7475 - learning_rate: 0.0010\n",
            "Epoch 26/30\n",
            "\u001b[1m1/1\u001b[0m \u001b[32m━━━━━━━━━━━━━━━━━━━━\u001b[0m\u001b[37m\u001b[0m \u001b[1m0s\u001b[0m 79ms/step - AUC: 0.9676 - accuracy: 0.6957 - loss: 0.9223\n",
            "Epoch 26: ReduceLROnPlateau reducing learning rate to 0.0005000000237487257.\n",
            "\u001b[1m1/1\u001b[0m \u001b[32m━━━━━━━━━━━━━━━━━━━━\u001b[0m\u001b[37m\u001b[0m \u001b[1m0s\u001b[0m 150ms/step - AUC: 0.9676 - accuracy: 0.6957 - loss: 0.9223 - val_AUC: 0.5336 - val_accuracy: 0.2143 - val_loss: 1.7561 - learning_rate: 0.0010\n",
            "Epoch 27/30\n",
            "\u001b[1m1/1\u001b[0m \u001b[32m━━━━━━━━━━━━━━━━━━━━\u001b[0m\u001b[37m\u001b[0m \u001b[1m0s\u001b[0m 152ms/step - AUC: 0.9614 - accuracy: 0.5870 - loss: 0.9350 - val_AUC: 0.5370 - val_accuracy: 0.2143 - val_loss: 1.7475 - learning_rate: 5.0000e-04\n",
            "Epoch 28/30\n",
            "\u001b[1m1/1\u001b[0m \u001b[32m━━━━━━━━━━━━━━━━━━━━\u001b[0m\u001b[37m\u001b[0m \u001b[1m0s\u001b[0m 79ms/step - AUC: 0.9736 - accuracy: 0.6522 - loss: 0.8980"
          ]
        },
        {
          "name": "stderr",
          "output_type": "stream",
          "text": [
            "WARNING:absl:You are saving your model as an HDF5 file via `model.save()` or `keras.saving.save_model(model)`. This file format is considered legacy. We recommend using instead the native Keras format, e.g. `model.save('my_model.keras')` or `keras.saving.save_model(model, 'my_model.keras')`. \n"
          ]
        },
        {
          "name": "stdout",
          "output_type": "stream",
          "text": [
            "\u001b[1m1/1\u001b[0m \u001b[32m━━━━━━━━━━━━━━━━━━━━\u001b[0m\u001b[37m\u001b[0m \u001b[1m0s\u001b[0m 266ms/step - AUC: 0.9736 - accuracy: 0.6522 - loss: 0.8980 - val_AUC: 0.5301 - val_accuracy: 0.2143 - val_loss: 1.7357 - learning_rate: 5.0000e-04\n",
            "Epoch 29/30\n",
            "\u001b[1m1/1\u001b[0m \u001b[32m━━━━━━━━━━━━━━━━━━━━\u001b[0m\u001b[37m\u001b[0m \u001b[1m0s\u001b[0m 81ms/step - AUC: 0.9696 - accuracy: 0.5652 - loss: 0.9088"
          ]
        },
        {
          "name": "stderr",
          "output_type": "stream",
          "text": [
            "WARNING:absl:You are saving your model as an HDF5 file via `model.save()` or `keras.saving.save_model(model)`. This file format is considered legacy. We recommend using instead the native Keras format, e.g. `model.save('my_model.keras')` or `keras.saving.save_model(model, 'my_model.keras')`. \n"
          ]
        },
        {
          "name": "stdout",
          "output_type": "stream",
          "text": [
            "\u001b[1m1/1\u001b[0m \u001b[32m━━━━━━━━━━━━━━━━━━━━\u001b[0m\u001b[37m\u001b[0m \u001b[1m0s\u001b[0m 268ms/step - AUC: 0.9696 - accuracy: 0.5652 - loss: 0.9088 - val_AUC: 0.5301 - val_accuracy: 0.2143 - val_loss: 1.7189 - learning_rate: 5.0000e-04\n",
            "Epoch 30/30\n",
            "\u001b[1m1/1\u001b[0m \u001b[32m━━━━━━━━━━━━━━━━━━━━\u001b[0m\u001b[37m\u001b[0m \u001b[1m0s\u001b[0m 78ms/step - AUC: 0.9841 - accuracy: 0.6304 - loss: 0.8864"
          ]
        },
        {
          "name": "stderr",
          "output_type": "stream",
          "text": [
            "WARNING:absl:You are saving your model as an HDF5 file via `model.save()` or `keras.saving.save_model(model)`. This file format is considered legacy. We recommend using instead the native Keras format, e.g. `model.save('my_model.keras')` or `keras.saving.save_model(model, 'my_model.keras')`. \n"
          ]
        },
        {
          "name": "stdout",
          "output_type": "stream",
          "text": [
            "\u001b[1m1/1\u001b[0m \u001b[32m━━━━━━━━━━━━━━━━━━━━\u001b[0m\u001b[37m\u001b[0m \u001b[1m0s\u001b[0m 263ms/step - AUC: 0.9841 - accuracy: 0.6304 - loss: 0.8864 - val_AUC: 0.5359 - val_accuracy: 0.2143 - val_loss: 1.7020 - learning_rate: 5.0000e-04\n"
          ]
        }
      ],
      "source": [
        "from tensorflow.keras.callbacks import EarlyStopping, ReduceLROnPlateau, ModelCheckpoint\n",
        "\n",
        "model_file = os.path.join(MODEL_PATH, \"cnn_best_model_on_crpwarner_opcode_n_gram.h5\")\n",
        "\n",
        "callbacks = [\n",
        "    EarlyStopping(monitor='val_loss', patience=6, restore_best_weights=True),\n",
        "    ReduceLROnPlateau(monitor='val_loss', factor=0.5, patience=3, verbose=1),\n",
        "    ModelCheckpoint(model_file, save_best_only=True)\n",
        "]\n",
        "\n",
        "history = model.fit(\n",
        "    X_train, y_train,\n",
        "    validation_data=(X_test, y_test),\n",
        "    epochs=30,\n",
        "    batch_size=64,\n",
        "    callbacks=callbacks,\n",
        "    verbose=1\n",
        ")\n"
      ]
    },
    {
      "cell_type": "code",
      "execution_count": 26,
      "id": "b3a35451",
      "metadata": {},
      "outputs": [
        {
          "name": "stderr",
          "output_type": "stream",
          "text": [
            "WARNING:absl:Compiled the loaded model, but the compiled metrics have yet to be built. `model.compile_metrics` will be empty until you train or evaluate the model.\n"
          ]
        }
      ],
      "source": [
        "mode = load_model(model_file)"
      ]
    },
    {
      "cell_type": "code",
      "execution_count": 27,
      "id": "839f038e",
      "metadata": {},
      "outputs": [
        {
          "data": {
            "image/png": "[encoded data removed]",
            "text/plain": [
              "<Figure size 640x480 with 1 Axes>"
            ]
          },
          "metadata": {},
          "output_type": "display_data"
        }
      ],
      "source": [
        "import matplotlib.pyplot as plt\n",
        "\n",
        "plt.plot(history.history['loss'], label='Train Loss')\n",
        "plt.plot(history.history['val_loss'], label='Val Loss')\n",
        "plt.legend()\n",
        "plt.title(\"Training vs Validation Loss\")\n",
        "plt.xlabel(\"Epochs\")\n",
        "plt.ylabel(\"Loss\")\n",
        "plt.show()\n"
      ]
    },
    {
      "cell_type": "code",
      "execution_count": 28,
      "id": "a53d1779",
      "metadata": {},
      "outputs": [
        {
          "name": "stdout",
          "output_type": "stream",
          "text": [
            "1/1 - 0s - 55ms/step - AUC: 0.5359 - accuracy: 0.2143 - loss: 1.7020\n",
            "Restored model, accuracy: 21.43%\n"
          ]
        }
      ],
      "source": [
        "loss, acc, auc = model.evaluate(X_test, y_test, verbose=2)\n",
        "print('Restored model, accuracy: {:5.2f}%'.format(100 * acc))"
      ]
    },
    {
      "cell_type": "code",
      "execution_count": 29,
      "id": "17fdbc0c",
      "metadata": {},
      "outputs": [
        {
          "name": "stdout",
          "output_type": "stream",
          "text": [
            "\u001b[1m1/1\u001b[0m \u001b[32m━━━━━━━━━━━━━━━━━━━━\u001b[0m\u001b[37m\u001b[0m \u001b[1m0s\u001b[0m 125ms/step\n",
            "CNN:\n",
            "Accuracy: 0.14285714285714285\n",
            "Precision: 0.3055555555555555\n",
            "Recall: 0.48148148148148145\n",
            "F1 Score: 0.3111111111111111\n",
            "              precision    recall  f1-score   support\n",
            "\n",
            "        mint       0.00      0.00      0.00         6\n",
            "        leak       0.25      1.00      0.40         3\n",
            "       limit       0.67      0.44      0.53         9\n",
            "\n",
            "   micro avg       0.37      0.39      0.38        18\n",
            "   macro avg       0.31      0.48      0.31        18\n",
            "weighted avg       0.38      0.39      0.33        18\n",
            " samples avg       0.29      0.24      0.25        18\n",
            "\n"
          ]
        }
      ],
      "source": [
        "# Predict probabilities\n",
        "y_pred_prob = model.predict(X_test)\n",
        "\n",
        "# Apply threshold to get binary predictions\n",
        "y_pred = (y_pred_prob >= 0.5).astype(int)\n",
        "\n",
        "print(\"CNN:\")\n",
        "print(\"Accuracy:\", accuracy_score(y_test, y_pred))\n",
        "print(\"Precision:\", precision_score(y_test, y_pred, average=\"macro\", zero_division=0))\n",
        "print(\"Recall:\", recall_score(y_test, y_pred, average=\"macro\", zero_division=0))\n",
        "print(\"F1 Score:\", f1_score(y_test, y_pred, average=\"macro\", zero_division=0))\n",
        "\n",
        "print(classification_report(y_test, y_pred, target_names=labels))"
      ]
    },
    {
      "cell_type": "markdown",
      "id": "f3f5b125",
      "metadata": {},
      "source": [
        "## CNN With Autoencoder"
      ]
    },
    {
      "cell_type": "code",
      "execution_count": 30,
      "id": "93420cf2",
      "metadata": {},
      "outputs": [
        {
          "name": "stdout",
          "output_type": "stream",
          "text": [
            "Epoch 1/30\n",
            "\u001b[1m1/1\u001b[0m \u001b[32m━━━━━━━━━━━━━━━━━━━━\u001b[0m\u001b[37m\u001b[0m \u001b[1m1s\u001b[0m 1s/step - loss: 148.7385\n",
            "Epoch 2/30\n",
            "\u001b[1m1/1\u001b[0m \u001b[32m━━━━━━━━━━━━━━━━━━━━\u001b[0m\u001b[37m\u001b[0m \u001b[1m0s\u001b[0m 89ms/step - loss: 148.2956\n",
            "Epoch 3/30\n",
            "\u001b[1m1/1\u001b[0m \u001b[32m━━━━━━━━━━━━━━━━━━━━\u001b[0m\u001b[37m\u001b[0m \u001b[1m0s\u001b[0m 89ms/step - loss: 147.9968\n",
            "Epoch 4/30\n",
            "\u001b[1m1/1\u001b[0m \u001b[32m━━━━━━━━━━━━━━━━━━━━\u001b[0m\u001b[37m\u001b[0m \u001b[1m0s\u001b[0m 85ms/step - loss: 147.8628\n",
            "Epoch 5/30\n",
            "\u001b[1m1/1\u001b[0m \u001b[32m━━━━━━━━━━━━━━━━━━━━\u001b[0m\u001b[37m\u001b[0m \u001b[1m0s\u001b[0m 86ms/step - loss: 147.8289\n",
            "Epoch 6/30\n",
            "\u001b[1m1/1\u001b[0m \u001b[32m━━━━━━━━━━━━━━━━━━━━\u001b[0m\u001b[37m\u001b[0m \u001b[1m0s\u001b[0m 94ms/step - loss: 147.8234\n",
            "Epoch 7/30\n",
            "\u001b[1m1/1\u001b[0m \u001b[32m━━━━━━━━━━━━━━━━━━━━\u001b[0m\u001b[37m\u001b[0m \u001b[1m0s\u001b[0m 91ms/step - loss: 147.8228\n",
            "Epoch 8/30\n",
            "\u001b[1m1/1\u001b[0m \u001b[32m━━━━━━━━━━━━━━━━━━━━\u001b[0m\u001b[37m\u001b[0m \u001b[1m0s\u001b[0m 85ms/step - loss: 147.8216\n",
            "Epoch 9/30\n",
            "\u001b[1m1/1\u001b[0m \u001b[32m━━━━━━━━━━━━━━━━━━━━\u001b[0m\u001b[37m\u001b[0m \u001b[1m0s\u001b[0m 88ms/step - loss: 147.8207\n",
            "Epoch 10/30\n",
            "\u001b[1m1/1\u001b[0m \u001b[32m━━━━━━━━━━━━━━━━━━━━\u001b[0m\u001b[37m\u001b[0m \u001b[1m0s\u001b[0m 86ms/step - loss: 147.8197\n",
            "Epoch 11/30\n",
            "\u001b[1m1/1\u001b[0m \u001b[32m━━━━━━━━━━━━━━━━━━━━\u001b[0m\u001b[37m\u001b[0m \u001b[1m0s\u001b[0m 89ms/step - loss: 147.8183\n",
            "Epoch 12/30\n",
            "\u001b[1m1/1\u001b[0m \u001b[32m━━━━━━━━━━━━━━━━━━━━\u001b[0m\u001b[37m\u001b[0m \u001b[1m0s\u001b[0m 89ms/step - loss: 147.8171\n",
            "Epoch 13/30\n",
            "\u001b[1m1/1\u001b[0m \u001b[32m━━━━━━━━━━━━━━━━━━━━\u001b[0m\u001b[37m\u001b[0m \u001b[1m0s\u001b[0m 87ms/step - loss: 147.8158\n",
            "Epoch 14/30\n",
            "\u001b[1m1/1\u001b[0m \u001b[32m━━━━━━━━━━━━━━━━━━━━\u001b[0m\u001b[37m\u001b[0m \u001b[1m0s\u001b[0m 87ms/step - loss: 147.8149\n",
            "Epoch 15/30\n",
            "\u001b[1m1/1\u001b[0m \u001b[32m━━━━━━━━━━━━━━━━━━━━\u001b[0m\u001b[37m\u001b[0m \u001b[1m0s\u001b[0m 87ms/step - loss: 147.8147\n",
            "Epoch 16/30\n",
            "\u001b[1m1/1\u001b[0m \u001b[32m━━━━━━━━━━━━━━━━━━━━\u001b[0m\u001b[37m\u001b[0m \u001b[1m0s\u001b[0m 90ms/step - loss: 147.8140\n",
            "Epoch 17/30\n",
            "\u001b[1m1/1\u001b[0m \u001b[32m━━━━━━━━━━━━━━━━━━━━\u001b[0m\u001b[37m\u001b[0m \u001b[1m0s\u001b[0m 148ms/step - loss: 147.8134\n",
            "Epoch 18/30\n",
            "\u001b[1m1/1\u001b[0m \u001b[32m━━━━━━━━━━━━━━━━━━━━\u001b[0m\u001b[37m\u001b[0m \u001b[1m0s\u001b[0m 84ms/step - loss: 147.8126\n",
            "Epoch 19/30\n",
            "\u001b[1m1/1\u001b[0m \u001b[32m━━━━━━━━━━━━━━━━━━━━\u001b[0m\u001b[37m\u001b[0m \u001b[1m0s\u001b[0m 87ms/step - loss: 147.8119\n",
            "Epoch 20/30\n",
            "\u001b[1m1/1\u001b[0m \u001b[32m━━━━━━━━━━━━━━━━━━━━\u001b[0m\u001b[37m\u001b[0m \u001b[1m0s\u001b[0m 90ms/step - loss: 147.8117\n",
            "Epoch 21/30\n",
            "\u001b[1m1/1\u001b[0m \u001b[32m━━━━━━━━━━━━━━━━━━━━\u001b[0m\u001b[37m\u001b[0m \u001b[1m0s\u001b[0m 86ms/step - loss: 147.8108\n",
            "Epoch 22/30\n",
            "\u001b[1m1/1\u001b[0m \u001b[32m━━━━━━━━━━━━━━━━━━━━\u001b[0m\u001b[37m\u001b[0m \u001b[1m0s\u001b[0m 166ms/step - loss: 147.8105\n",
            "Epoch 23/30\n",
            "\u001b[1m1/1\u001b[0m \u001b[32m━━━━━━━━━━━━━━━━━━━━\u001b[0m\u001b[37m\u001b[0m \u001b[1m0s\u001b[0m 85ms/step - loss: 147.8100\n",
            "Epoch 24/30\n",
            "\u001b[1m1/1\u001b[0m \u001b[32m━━━━━━━━━━━━━━━━━━━━\u001b[0m\u001b[37m\u001b[0m \u001b[1m0s\u001b[0m 85ms/step - loss: 147.8096\n",
            "Epoch 25/30\n",
            "\u001b[1m1/1\u001b[0m \u001b[32m━━━━━━━━━━━━━━━━━━━━\u001b[0m\u001b[37m\u001b[0m \u001b[1m0s\u001b[0m 86ms/step - loss: 147.8092\n",
            "Epoch 26/30\n",
            "\u001b[1m1/1\u001b[0m \u001b[32m━━━━━━━━━━━━━━━━━━━━\u001b[0m\u001b[37m\u001b[0m \u001b[1m0s\u001b[0m 87ms/step - loss: 147.8089\n",
            "Epoch 27/30\n",
            "\u001b[1m1/1\u001b[0m \u001b[32m━━━━━━━━━━━━━━━━━━━━\u001b[0m\u001b[37m\u001b[0m \u001b[1m0s\u001b[0m 90ms/step - loss: 147.8086\n",
            "Epoch 28/30\n",
            "\u001b[1m1/1\u001b[0m \u001b[32m━━━━━━━━━━━━━━━━━━━━\u001b[0m\u001b[37m\u001b[0m \u001b[1m0s\u001b[0m 91ms/step - loss: 147.8083\n",
            "Epoch 29/30\n",
            "\u001b[1m1/1\u001b[0m \u001b[32m━━━━━━━━━━━━━━━━━━━━\u001b[0m\u001b[37m\u001b[0m \u001b[1m0s\u001b[0m 90ms/step - loss: 147.8081\n",
            "Epoch 30/30\n",
            "\u001b[1m1/1\u001b[0m \u001b[32m━━━━━━━━━━━━━━━━━━━━\u001b[0m\u001b[37m\u001b[0m \u001b[1m0s\u001b[0m 87ms/step - loss: 147.8078\n"
          ]
        },
        {
          "data": {
            "text/plain": [
              "<keras.src.callbacks.history.History at 0x14071f6e0>"
            ]
          },
          "execution_count": 30,
          "metadata": {},
          "output_type": "execute_result"
        }
      ],
      "source": [
        "from tensorflow.keras.models import Model\n",
        "from tensorflow.keras.layers import Input, Dense\n",
        "\n",
        "X_unlabeled = np.concatenate([X_train, X_test], axis=0)\n",
        "# Input\n",
        "input_layer = Input(shape=(opcode_dim,))\n",
        "\n",
        "# Encoder\n",
        "encoded = Dense(256, activation='relu')(input_layer)\n",
        "encoded = Dense(128, activation='relu')(encoded)\n",
        "\n",
        "# Decoder\n",
        "decoded = Dense(256, activation='relu')(encoded)\n",
        "decoded = Dense(opcode_dim, activation='sigmoid')(decoded)\n",
        "\n",
        "autoencoder = Model(inputs=input_layer, outputs=decoded)\n",
        "encoder = Model(inputs=input_layer, outputs=encoded)\n",
        "\n",
        "autoencoder.compile(optimizer='adam', loss='mse')\n",
        "autoencoder.fit(X_unlabeled, X_unlabeled, epochs=30, batch_size=64)\n"
      ]
    },
    {
      "cell_type": "code",
      "execution_count": 31,
      "id": "3361ddf9",
      "metadata": {},
      "outputs": [
        {
          "name": "stdout",
          "output_type": "stream",
          "text": [
            "\u001b[1m2/2\u001b[0m \u001b[32m━━━━━━━━━━━━━━━━━━━━\u001b[0m\u001b[37m\u001b[0m \u001b[1m0s\u001b[0m 41ms/step\n"
          ]
        }
      ],
      "source": [
        "X_encoded = encoder.predict(X_train)"
      ]
    },
    {
      "cell_type": "code",
      "execution_count": 32,
      "id": "fd4c327c",
      "metadata": {},
      "outputs": [],
      "source": [
        "from sklearn.model_selection import train_test_split\n",
        "\n",
        "X_train, X_val, y_train, y_val = train_test_split(X_encoded, y_train, test_size=0.2, random_state=42)"
      ]
    },
    {
      "cell_type": "code",
      "execution_count": 33,
      "id": "c7226d09",
      "metadata": {},
      "outputs": [
        {
          "name": "stdout",
          "output_type": "stream",
          "text": [
            "Epoch 1/30\n",
            "\u001b[1m1/1\u001b[0m \u001b[32m━━━━━━━━━━━━━━━━━━━━\u001b[0m\u001b[37m\u001b[0m \u001b[1m0s\u001b[0m 2s/step - accuracy: 0.1667 - loss: 1.1818"
          ]
        },
        {
          "name": "stderr",
          "output_type": "stream",
          "text": [
            "WARNING:absl:You are saving your model as an HDF5 file via `model.save()` or `keras.saving.save_model(model)`. This file format is considered legacy. We recommend using instead the native Keras format, e.g. `model.save('my_model.keras')` or `keras.saving.save_model(model, 'my_model.keras')`. \n"
          ]
        },
        {
          "name": "stdout",
          "output_type": "stream",
          "text": [
            "\u001b[1m1/1\u001b[0m \u001b[32m━━━━━━━━━━━━━━━━━━━━\u001b[0m\u001b[37m\u001b[0m \u001b[1m2s\u001b[0m 2s/step - accuracy: 0.1667 - loss: 1.1818 - val_accuracy: 0.1000 - val_loss: 5.1538 - learning_rate: 0.0010\n",
            "Epoch 2/30\n",
            "\u001b[1m1/1\u001b[0m \u001b[32m━━━━━━━━━━━━━━━━━━━━\u001b[0m\u001b[37m\u001b[0m \u001b[1m0s\u001b[0m 26ms/step - accuracy: 0.3333 - loss: 1.0334"
          ]
        },
        {
          "name": "stderr",
          "output_type": "stream",
          "text": [
            "WARNING:absl:You are saving your model as an HDF5 file via `model.save()` or `keras.saving.save_model(model)`. This file format is considered legacy. We recommend using instead the native Keras format, e.g. `model.save('my_model.keras')` or `keras.saving.save_model(model, 'my_model.keras')`. \n"
          ]
        },
        {
          "name": "stdout",
          "output_type": "stream",
          "text": [
            "\u001b[1m1/1\u001b[0m \u001b[32m━━━━━━━━━━━━━━━━━━━━\u001b[0m\u001b[37m\u001b[0m \u001b[1m0s\u001b[0m 118ms/step - accuracy: 0.3333 - loss: 1.0334 - val_accuracy: 0.1000 - val_loss: 4.4045 - learning_rate: 0.0010\n",
            "Epoch 3/30\n",
            "\u001b[1m1/1\u001b[0m \u001b[32m━━━━━━━━━━━━━━━━━━━━\u001b[0m\u001b[37m\u001b[0m \u001b[1m0s\u001b[0m 31ms/step - accuracy: 0.3611 - loss: 0.9740"
          ]
        },
        {
          "name": "stderr",
          "output_type": "stream",
          "text": [
            "WARNING:absl:You are saving your model as an HDF5 file via `model.save()` or `keras.saving.save_model(model)`. This file format is considered legacy. We recommend using instead the native Keras format, e.g. `model.save('my_model.keras')` or `keras.saving.save_model(model, 'my_model.keras')`. \n"
          ]
        },
        {
          "name": "stdout",
          "output_type": "stream",
          "text": [
            "\u001b[1m1/1\u001b[0m \u001b[32m━━━━━━━━━━━━━━━━━━━━\u001b[0m\u001b[37m\u001b[0m \u001b[1m0s\u001b[0m 117ms/step - accuracy: 0.3611 - loss: 0.9740 - val_accuracy: 0.1000 - val_loss: 4.0733 - learning_rate: 0.0010\n",
            "Epoch 4/30\n",
            "\u001b[1m1/1\u001b[0m \u001b[32m━━━━━━━━━━━━━━━━━━━━\u001b[0m\u001b[37m\u001b[0m \u001b[1m0s\u001b[0m 28ms/step - accuracy: 0.5278 - loss: 0.8941"
          ]
        },
        {
          "name": "stderr",
          "output_type": "stream",
          "text": [
            "WARNING:absl:You are saving your model as an HDF5 file via `model.save()` or `keras.saving.save_model(model)`. This file format is considered legacy. We recommend using instead the native Keras format, e.g. `model.save('my_model.keras')` or `keras.saving.save_model(model, 'my_model.keras')`. \n"
          ]
        },
        {
          "name": "stdout",
          "output_type": "stream",
          "text": [
            "\u001b[1m1/1\u001b[0m \u001b[32m━━━━━━━━━━━━━━━━━━━━\u001b[0m\u001b[37m\u001b[0m \u001b[1m0s\u001b[0m 117ms/step - accuracy: 0.5278 - loss: 0.8941 - val_accuracy: 0.1000 - val_loss: 3.6430 - learning_rate: 0.0010\n",
            "Epoch 5/30\n",
            "\u001b[1m1/1\u001b[0m \u001b[32m━━━━━━━━━━━━━━━━━━━━\u001b[0m\u001b[37m\u001b[0m \u001b[1m0s\u001b[0m 28ms/step - accuracy: 0.5556 - loss: 0.8455"
          ]
        },
        {
          "name": "stderr",
          "output_type": "stream",
          "text": [
            "WARNING:absl:You are saving your model as an HDF5 file via `model.save()` or `keras.saving.save_model(model)`. This file format is considered legacy. We recommend using instead the native Keras format, e.g. `model.save('my_model.keras')` or `keras.saving.save_model(model, 'my_model.keras')`. \n"
          ]
        },
        {
          "name": "stdout",
          "output_type": "stream",
          "text": [
            "\u001b[1m1/1\u001b[0m \u001b[32m━━━━━━━━━━━━━━━━━━━━\u001b[0m\u001b[37m\u001b[0m \u001b[1m0s\u001b[0m 119ms/step - accuracy: 0.5556 - loss: 0.8455 - val_accuracy: 0.1000 - val_loss: 3.2775 - learning_rate: 0.0010\n",
            "Epoch 6/30\n",
            "\u001b[1m1/1\u001b[0m \u001b[32m━━━━━━━━━━━━━━━━━━━━\u001b[0m\u001b[37m\u001b[0m \u001b[1m0s\u001b[0m 27ms/step - accuracy: 0.5000 - loss: 0.8658"
          ]
        },
        {
          "name": "stderr",
          "output_type": "stream",
          "text": [
            "WARNING:absl:You are saving your model as an HDF5 file via `model.save()` or `keras.saving.save_model(model)`. This file format is considered legacy. We recommend using instead the native Keras format, e.g. `model.save('my_model.keras')` or `keras.saving.save_model(model, 'my_model.keras')`. \n"
          ]
        },
        {
          "name": "stdout",
          "output_type": "stream",
          "text": [
            "\u001b[1m1/1\u001b[0m \u001b[32m━━━━━━━━━━━━━━━━━━━━\u001b[0m\u001b[37m\u001b[0m \u001b[1m0s\u001b[0m 116ms/step - accuracy: 0.5000 - loss: 0.8658 - val_accuracy: 0.1000 - val_loss: 3.0838 - learning_rate: 0.0010\n",
            "Epoch 7/30\n",
            "\u001b[1m1/1\u001b[0m \u001b[32m━━━━━━━━━━━━━━━━━━━━\u001b[0m\u001b[37m\u001b[0m \u001b[1m0s\u001b[0m 28ms/step - accuracy: 0.4444 - loss: 0.8709"
          ]
        },
        {
          "name": "stderr",
          "output_type": "stream",
          "text": [
            "WARNING:absl:You are saving your model as an HDF5 file via `model.save()` or `keras.saving.save_model(model)`. This file format is considered legacy. We recommend using instead the native Keras format, e.g. `model.save('my_model.keras')` or `keras.saving.save_model(model, 'my_model.keras')`. \n"
          ]
        },
        {
          "name": "stdout",
          "output_type": "stream",
          "text": [
            "\u001b[1m1/1\u001b[0m \u001b[32m━━━━━━━━━━━━━━━━━━━━\u001b[0m\u001b[37m\u001b[0m \u001b[1m0s\u001b[0m 118ms/step - accuracy: 0.4444 - loss: 0.8709 - val_accuracy: 0.1000 - val_loss: 2.8670 - learning_rate: 0.0010\n",
            "Epoch 8/30\n",
            "\u001b[1m1/1\u001b[0m \u001b[32m━━━━━━━━━━━━━━━━━━━━\u001b[0m\u001b[37m\u001b[0m \u001b[1m0s\u001b[0m 28ms/step - accuracy: 0.5000 - loss: 0.8048"
          ]
        },
        {
          "name": "stderr",
          "output_type": "stream",
          "text": [
            "WARNING:absl:You are saving your model as an HDF5 file via `model.save()` or `keras.saving.save_model(model)`. This file format is considered legacy. We recommend using instead the native Keras format, e.g. `model.save('my_model.keras')` or `keras.saving.save_model(model, 'my_model.keras')`. \n"
          ]
        },
        {
          "name": "stdout",
          "output_type": "stream",
          "text": [
            "\u001b[1m1/1\u001b[0m \u001b[32m━━━━━━━━━━━━━━━━━━━━\u001b[0m\u001b[37m\u001b[0m \u001b[1m0s\u001b[0m 115ms/step - accuracy: 0.5000 - loss: 0.8048 - val_accuracy: 0.1000 - val_loss: 2.7871 - learning_rate: 0.0010\n",
            "Epoch 9/30\n",
            "\u001b[1m1/1\u001b[0m \u001b[32m━━━━━━━━━━━━━━━━━━━━\u001b[0m\u001b[37m\u001b[0m \u001b[1m0s\u001b[0m 27ms/step - accuracy: 0.5556 - loss: 0.8160"
          ]
        },
        {
          "name": "stderr",
          "output_type": "stream",
          "text": [
            "WARNING:absl:You are saving your model as an HDF5 file via `model.save()` or `keras.saving.save_model(model)`. This file format is considered legacy. We recommend using instead the native Keras format, e.g. `model.save('my_model.keras')` or `keras.saving.save_model(model, 'my_model.keras')`. \n"
          ]
        },
        {
          "name": "stdout",
          "output_type": "stream",
          "text": [
            "\u001b[1m1/1\u001b[0m \u001b[32m━━━━━━━━━━━━━━━━━━━━\u001b[0m\u001b[37m\u001b[0m \u001b[1m0s\u001b[0m 129ms/step - accuracy: 0.5556 - loss: 0.8160 - val_accuracy: 0.1000 - val_loss: 2.7528 - learning_rate: 0.0010\n",
            "Epoch 10/30\n",
            "\u001b[1m1/1\u001b[0m \u001b[32m━━━━━━━━━━━━━━━━━━━━\u001b[0m\u001b[37m\u001b[0m \u001b[1m0s\u001b[0m 23ms/step - accuracy: 0.4722 - loss: 0.7721"
          ]
        },
        {
          "name": "stderr",
          "output_type": "stream",
          "text": [
            "WARNING:absl:You are saving your model as an HDF5 file via `model.save()` or `keras.saving.save_model(model)`. This file format is considered legacy. We recommend using instead the native Keras format, e.g. `model.save('my_model.keras')` or `keras.saving.save_model(model, 'my_model.keras')`. \n"
          ]
        },
        {
          "name": "stdout",
          "output_type": "stream",
          "text": [
            "\u001b[1m1/1\u001b[0m \u001b[32m━━━━━━━━━━━━━━━━━━━━\u001b[0m\u001b[37m\u001b[0m \u001b[1m0s\u001b[0m 115ms/step - accuracy: 0.4722 - loss: 0.7721 - val_accuracy: 0.1000 - val_loss: 2.7040 - learning_rate: 0.0010\n",
            "Epoch 11/30\n",
            "\u001b[1m1/1\u001b[0m \u001b[32m━━━━━━━━━━━━━━━━━━━━\u001b[0m\u001b[37m\u001b[0m \u001b[1m0s\u001b[0m 25ms/step - accuracy: 0.5278 - loss: 0.8278"
          ]
        },
        {
          "name": "stderr",
          "output_type": "stream",
          "text": [
            "WARNING:absl:You are saving your model as an HDF5 file via `model.save()` or `keras.saving.save_model(model)`. This file format is considered legacy. We recommend using instead the native Keras format, e.g. `model.save('my_model.keras')` or `keras.saving.save_model(model, 'my_model.keras')`. \n"
          ]
        },
        {
          "name": "stdout",
          "output_type": "stream",
          "text": [
            "\u001b[1m1/1\u001b[0m \u001b[32m━━━━━━━━━━━━━━━━━━━━\u001b[0m\u001b[37m\u001b[0m \u001b[1m0s\u001b[0m 117ms/step - accuracy: 0.5278 - loss: 0.8278 - val_accuracy: 0.1000 - val_loss: 2.6127 - learning_rate: 0.0010\n",
            "Epoch 12/30\n",
            "\u001b[1m1/1\u001b[0m \u001b[32m━━━━━━━━━━━━━━━━━━━━\u001b[0m\u001b[37m\u001b[0m \u001b[1m0s\u001b[0m 28ms/step - accuracy: 0.4444 - loss: 0.7475"
          ]
        },
        {
          "name": "stderr",
          "output_type": "stream",
          "text": [
            "WARNING:absl:You are saving your model as an HDF5 file via `model.save()` or `keras.saving.save_model(model)`. This file format is considered legacy. We recommend using instead the native Keras format, e.g. `model.save('my_model.keras')` or `keras.saving.save_model(model, 'my_model.keras')`. \n"
          ]
        },
        {
          "name": "stdout",
          "output_type": "stream",
          "text": [
            "\u001b[1m1/1\u001b[0m \u001b[32m━━━━━━━━━━━━━━━━━━━━\u001b[0m\u001b[37m\u001b[0m \u001b[1m0s\u001b[0m 126ms/step - accuracy: 0.4444 - loss: 0.7475 - val_accuracy: 0.1000 - val_loss: 2.4597 - learning_rate: 0.0010\n",
            "Epoch 13/30\n",
            "\u001b[1m1/1\u001b[0m \u001b[32m━━━━━━━━━━━━━━━━━━━━\u001b[0m\u001b[37m\u001b[0m \u001b[1m0s\u001b[0m 28ms/step - accuracy: 0.5556 - loss: 0.7560"
          ]
        },
        {
          "name": "stderr",
          "output_type": "stream",
          "text": [
            "WARNING:absl:You are saving your model as an HDF5 file via `model.save()` or `keras.saving.save_model(model)`. This file format is considered legacy. We recommend using instead the native Keras format, e.g. `model.save('my_model.keras')` or `keras.saving.save_model(model, 'my_model.keras')`. \n"
          ]
        },
        {
          "name": "stdout",
          "output_type": "stream",
          "text": [
            "\u001b[1m1/1\u001b[0m \u001b[32m━━━━━━━━━━━━━━━━━━━━\u001b[0m\u001b[37m\u001b[0m \u001b[1m0s\u001b[0m 118ms/step - accuracy: 0.5556 - loss: 0.7560 - val_accuracy: 0.1000 - val_loss: 2.3080 - learning_rate: 0.0010\n",
            "Epoch 14/30\n",
            "\u001b[1m1/1\u001b[0m \u001b[32m━━━━━━━━━━━━━━━━━━━━\u001b[0m\u001b[37m\u001b[0m \u001b[1m0s\u001b[0m 27ms/step - accuracy: 0.5278 - loss: 0.7466"
          ]
        },
        {
          "name": "stderr",
          "output_type": "stream",
          "text": [
            "WARNING:absl:You are saving your model as an HDF5 file via `model.save()` or `keras.saving.save_model(model)`. This file format is considered legacy. We recommend using instead the native Keras format, e.g. `model.save('my_model.keras')` or `keras.saving.save_model(model, 'my_model.keras')`. \n"
          ]
        },
        {
          "name": "stdout",
          "output_type": "stream",
          "text": [
            "\u001b[1m1/1\u001b[0m \u001b[32m━━━━━━━━━━━━━━━━━━━━\u001b[0m\u001b[37m\u001b[0m \u001b[1m0s\u001b[0m 117ms/step - accuracy: 0.5278 - loss: 0.7466 - val_accuracy: 0.1000 - val_loss: 2.2011 - learning_rate: 0.0010\n",
            "Epoch 15/30\n",
            "\u001b[1m1/1\u001b[0m \u001b[32m━━━━━━━━━━━━━━━━━━━━\u001b[0m\u001b[37m\u001b[0m \u001b[1m0s\u001b[0m 28ms/step - accuracy: 0.5278 - loss: 0.7168"
          ]
        },
        {
          "name": "stderr",
          "output_type": "stream",
          "text": [
            "WARNING:absl:You are saving your model as an HDF5 file via `model.save()` or `keras.saving.save_model(model)`. This file format is considered legacy. We recommend using instead the native Keras format, e.g. `model.save('my_model.keras')` or `keras.saving.save_model(model, 'my_model.keras')`. \n"
          ]
        },
        {
          "name": "stdout",
          "output_type": "stream",
          "text": [
            "\u001b[1m1/1\u001b[0m \u001b[32m━━━━━━━━━━━━━━━━━━━━\u001b[0m\u001b[37m\u001b[0m \u001b[1m0s\u001b[0m 118ms/step - accuracy: 0.5278 - loss: 0.7168 - val_accuracy: 0.1000 - val_loss: 2.1146 - learning_rate: 0.0010\n",
            "Epoch 16/30\n",
            "\u001b[1m1/1\u001b[0m \u001b[32m━━━━━━━━━━━━━━━━━━━━\u001b[0m\u001b[37m\u001b[0m \u001b[1m0s\u001b[0m 25ms/step - accuracy: 0.4722 - loss: 0.7289"
          ]
        },
        {
          "name": "stderr",
          "output_type": "stream",
          "text": [
            "WARNING:absl:You are saving your model as an HDF5 file via `model.save()` or `keras.saving.save_model(model)`. This file format is considered legacy. We recommend using instead the native Keras format, e.g. `model.save('my_model.keras')` or `keras.saving.save_model(model, 'my_model.keras')`. \n"
          ]
        },
        {
          "name": "stdout",
          "output_type": "stream",
          "text": [
            "\u001b[1m1/1\u001b[0m \u001b[32m━━━━━━━━━━━━━━━━━━━━\u001b[0m\u001b[37m\u001b[0m \u001b[1m0s\u001b[0m 115ms/step - accuracy: 0.4722 - loss: 0.7289 - val_accuracy: 0.1000 - val_loss: 2.0739 - learning_rate: 0.0010\n",
            "Epoch 17/30\n",
            "\u001b[1m1/1\u001b[0m \u001b[32m━━━━━━━━━━━━━━━━━━━━\u001b[0m\u001b[37m\u001b[0m \u001b[1m0s\u001b[0m 25ms/step - accuracy: 0.6389 - loss: 0.6966"
          ]
        },
        {
          "name": "stderr",
          "output_type": "stream",
          "text": [
            "WARNING:absl:You are saving your model as an HDF5 file via `model.save()` or `keras.saving.save_model(model)`. This file format is considered legacy. We recommend using instead the native Keras format, e.g. `model.save('my_model.keras')` or `keras.saving.save_model(model, 'my_model.keras')`. \n"
          ]
        },
        {
          "name": "stdout",
          "output_type": "stream",
          "text": [
            "\u001b[1m1/1\u001b[0m \u001b[32m━━━━━━━━━━━━━━━━━━━━\u001b[0m\u001b[37m\u001b[0m \u001b[1m0s\u001b[0m 115ms/step - accuracy: 0.6389 - loss: 0.6966 - val_accuracy: 0.1000 - val_loss: 1.9739 - learning_rate: 0.0010\n",
            "Epoch 18/30\n",
            "\u001b[1m1/1\u001b[0m \u001b[32m━━━━━━━━━━━━━━━━━━━━\u001b[0m\u001b[37m\u001b[0m \u001b[1m0s\u001b[0m 27ms/step - accuracy: 0.5000 - loss: 0.7294"
          ]
        },
        {
          "name": "stderr",
          "output_type": "stream",
          "text": [
            "WARNING:absl:You are saving your model as an HDF5 file via `model.save()` or `keras.saving.save_model(model)`. This file format is considered legacy. We recommend using instead the native Keras format, e.g. `model.save('my_model.keras')` or `keras.saving.save_model(model, 'my_model.keras')`. \n"
          ]
        },
        {
          "name": "stdout",
          "output_type": "stream",
          "text": [
            "\u001b[1m1/1\u001b[0m \u001b[32m━━━━━━━━━━━━━━━━━━━━\u001b[0m\u001b[37m\u001b[0m \u001b[1m0s\u001b[0m 116ms/step - accuracy: 0.5000 - loss: 0.7294 - val_accuracy: 0.1000 - val_loss: 1.9212 - learning_rate: 0.0010\n",
            "Epoch 19/30\n",
            "\u001b[1m1/1\u001b[0m \u001b[32m━━━━━━━━━━━━━━━━━━━━\u001b[0m\u001b[37m\u001b[0m \u001b[1m0s\u001b[0m 27ms/step - accuracy: 0.5000 - loss: 0.7162"
          ]
        },
        {
          "name": "stderr",
          "output_type": "stream",
          "text": [
            "WARNING:absl:You are saving your model as an HDF5 file via `model.save()` or `keras.saving.save_model(model)`. This file format is considered legacy. We recommend using instead the native Keras format, e.g. `model.save('my_model.keras')` or `keras.saving.save_model(model, 'my_model.keras')`. \n"
          ]
        },
        {
          "name": "stdout",
          "output_type": "stream",
          "text": [
            "\u001b[1m1/1\u001b[0m \u001b[32m━━━━━━━━━━━━━━━━━━━━\u001b[0m\u001b[37m\u001b[0m \u001b[1m0s\u001b[0m 117ms/step - accuracy: 0.5000 - loss: 0.7162 - val_accuracy: 0.1000 - val_loss: 1.8796 - learning_rate: 0.0010\n",
            "Epoch 20/30\n",
            "\u001b[1m1/1\u001b[0m \u001b[32m━━━━━━━━━━━━━━━━━━━━\u001b[0m\u001b[37m\u001b[0m \u001b[1m0s\u001b[0m 26ms/step - accuracy: 0.5278 - loss: 0.6878"
          ]
        },
        {
          "name": "stderr",
          "output_type": "stream",
          "text": [
            "WARNING:absl:You are saving your model as an HDF5 file via `model.save()` or `keras.saving.save_model(model)`. This file format is considered legacy. We recommend using instead the native Keras format, e.g. `model.save('my_model.keras')` or `keras.saving.save_model(model, 'my_model.keras')`. \n"
          ]
        },
        {
          "name": "stdout",
          "output_type": "stream",
          "text": [
            "\u001b[1m1/1\u001b[0m \u001b[32m━━━━━━━━━━━━━━━━━━━━\u001b[0m\u001b[37m\u001b[0m \u001b[1m0s\u001b[0m 120ms/step - accuracy: 0.5278 - loss: 0.6878 - val_accuracy: 0.1000 - val_loss: 1.8470 - learning_rate: 0.0010\n",
            "Epoch 21/30\n",
            "\u001b[1m1/1\u001b[0m \u001b[32m━━━━━━━━━━━━━━━━━━━━\u001b[0m\u001b[37m\u001b[0m \u001b[1m0s\u001b[0m 26ms/step - accuracy: 0.4444 - loss: 0.6891"
          ]
        },
        {
          "name": "stderr",
          "output_type": "stream",
          "text": [
            "WARNING:absl:You are saving your model as an HDF5 file via `model.save()` or `keras.saving.save_model(model)`. This file format is considered legacy. We recommend using instead the native Keras format, e.g. `model.save('my_model.keras')` or `keras.saving.save_model(model, 'my_model.keras')`. \n"
          ]
        },
        {
          "name": "stdout",
          "output_type": "stream",
          "text": [
            "\u001b[1m1/1\u001b[0m \u001b[32m━━━━━━━━━━━━━━━━━━━━\u001b[0m\u001b[37m\u001b[0m \u001b[1m0s\u001b[0m 124ms/step - accuracy: 0.4444 - loss: 0.6891 - val_accuracy: 0.1000 - val_loss: 1.7998 - learning_rate: 0.0010\n",
            "Epoch 22/30\n",
            "\u001b[1m1/1\u001b[0m \u001b[32m━━━━━━━━━━━━━━━━━━━━\u001b[0m\u001b[37m\u001b[0m \u001b[1m0s\u001b[0m 30ms/step - accuracy: 0.5000 - loss: 0.7051"
          ]
        },
        {
          "name": "stderr",
          "output_type": "stream",
          "text": [
            "WARNING:absl:You are saving your model as an HDF5 file via `model.save()` or `keras.saving.save_model(model)`. This file format is considered legacy. We recommend using instead the native Keras format, e.g. `model.save('my_model.keras')` or `keras.saving.save_model(model, 'my_model.keras')`. \n"
          ]
        },
        {
          "name": "stdout",
          "output_type": "stream",
          "text": [
            "\u001b[1m1/1\u001b[0m \u001b[32m━━━━━━━━━━━━━━━━━━━━\u001b[0m\u001b[37m\u001b[0m \u001b[1m0s\u001b[0m 140ms/step - accuracy: 0.5000 - loss: 0.7051 - val_accuracy: 0.1000 - val_loss: 1.7697 - learning_rate: 0.0010\n",
            "Epoch 23/30\n",
            "\u001b[1m1/1\u001b[0m \u001b[32m━━━━━━━━━━━━━━━━━━━━\u001b[0m\u001b[37m\u001b[0m \u001b[1m0s\u001b[0m 30ms/step - accuracy: 0.5833 - loss: 0.6999"
          ]
        },
        {
          "name": "stderr",
          "output_type": "stream",
          "text": [
            "WARNING:absl:You are saving your model as an HDF5 file via `model.save()` or `keras.saving.save_model(model)`. This file format is considered legacy. We recommend using instead the native Keras format, e.g. `model.save('my_model.keras')` or `keras.saving.save_model(model, 'my_model.keras')`. \n"
          ]
        },
        {
          "name": "stdout",
          "output_type": "stream",
          "text": [
            "\u001b[1m1/1\u001b[0m \u001b[32m━━━━━━━━━━━━━━━━━━━━\u001b[0m\u001b[37m\u001b[0m \u001b[1m0s\u001b[0m 120ms/step - accuracy: 0.5833 - loss: 0.6999 - val_accuracy: 0.1000 - val_loss: 1.7153 - learning_rate: 0.0010\n",
            "Epoch 24/30\n",
            "\u001b[1m1/1\u001b[0m \u001b[32m━━━━━━━━━━━━━━━━━━━━\u001b[0m\u001b[37m\u001b[0m \u001b[1m0s\u001b[0m 29ms/step - accuracy: 0.5000 - loss: 0.6910"
          ]
        },
        {
          "name": "stderr",
          "output_type": "stream",
          "text": [
            "WARNING:absl:You are saving your model as an HDF5 file via `model.save()` or `keras.saving.save_model(model)`. This file format is considered legacy. We recommend using instead the native Keras format, e.g. `model.save('my_model.keras')` or `keras.saving.save_model(model, 'my_model.keras')`. \n"
          ]
        },
        {
          "name": "stdout",
          "output_type": "stream",
          "text": [
            "\u001b[1m1/1\u001b[0m \u001b[32m━━━━━━━━━━━━━━━━━━━━\u001b[0m\u001b[37m\u001b[0m \u001b[1m0s\u001b[0m 126ms/step - accuracy: 0.5000 - loss: 0.6910 - val_accuracy: 0.1000 - val_loss: 1.6635 - learning_rate: 0.0010\n",
            "Epoch 25/30\n",
            "\u001b[1m1/1\u001b[0m \u001b[32m━━━━━━━━━━━━━━━━━━━━\u001b[0m\u001b[37m\u001b[0m \u001b[1m0s\u001b[0m 33ms/step - accuracy: 0.5556 - loss: 0.6692"
          ]
        },
        {
          "name": "stderr",
          "output_type": "stream",
          "text": [
            "WARNING:absl:You are saving your model as an HDF5 file via `model.save()` or `keras.saving.save_model(model)`. This file format is considered legacy. We recommend using instead the native Keras format, e.g. `model.save('my_model.keras')` or `keras.saving.save_model(model, 'my_model.keras')`. \n"
          ]
        },
        {
          "name": "stdout",
          "output_type": "stream",
          "text": [
            "\u001b[1m1/1\u001b[0m \u001b[32m━━━━━━━━━━━━━━━━━━━━\u001b[0m\u001b[37m\u001b[0m \u001b[1m0s\u001b[0m 261ms/step - accuracy: 0.5556 - loss: 0.6692 - val_accuracy: 0.1000 - val_loss: 1.6243 - learning_rate: 0.0010\n",
            "Epoch 26/30\n",
            "\u001b[1m1/1\u001b[0m \u001b[32m━━━━━━━━━━━━━━━━━━━━\u001b[0m\u001b[37m\u001b[0m \u001b[1m0s\u001b[0m 28ms/step - accuracy: 0.5278 - loss: 0.6907"
          ]
        },
        {
          "name": "stderr",
          "output_type": "stream",
          "text": [
            "WARNING:absl:You are saving your model as an HDF5 file via `model.save()` or `keras.saving.save_model(model)`. This file format is considered legacy. We recommend using instead the native Keras format, e.g. `model.save('my_model.keras')` or `keras.saving.save_model(model, 'my_model.keras')`. \n"
          ]
        },
        {
          "name": "stdout",
          "output_type": "stream",
          "text": [
            "\u001b[1m1/1\u001b[0m \u001b[32m━━━━━━━━━━━━━━━━━━━━\u001b[0m\u001b[37m\u001b[0m \u001b[1m0s\u001b[0m 126ms/step - accuracy: 0.5278 - loss: 0.6907 - val_accuracy: 0.1000 - val_loss: 1.5659 - learning_rate: 0.0010\n",
            "Epoch 27/30\n",
            "\u001b[1m1/1\u001b[0m \u001b[32m━━━━━━━━━━━━━━━━━━━━\u001b[0m\u001b[37m\u001b[0m \u001b[1m0s\u001b[0m 31ms/step - accuracy: 0.5000 - loss: 0.6803"
          ]
        },
        {
          "name": "stderr",
          "output_type": "stream",
          "text": [
            "WARNING:absl:You are saving your model as an HDF5 file via `model.save()` or `keras.saving.save_model(model)`. This file format is considered legacy. We recommend using instead the native Keras format, e.g. `model.save('my_model.keras')` or `keras.saving.save_model(model, 'my_model.keras')`. \n"
          ]
        },
        {
          "name": "stdout",
          "output_type": "stream",
          "text": [
            "\u001b[1m1/1\u001b[0m \u001b[32m━━━━━━━━━━━━━━━━━━━━\u001b[0m\u001b[37m\u001b[0m \u001b[1m0s\u001b[0m 129ms/step - accuracy: 0.5000 - loss: 0.6803 - val_accuracy: 0.1000 - val_loss: 1.5073 - learning_rate: 0.0010\n",
            "Epoch 28/30\n",
            "\u001b[1m1/1\u001b[0m \u001b[32m━━━━━━━━━━━━━━━━━━━━\u001b[0m\u001b[37m\u001b[0m \u001b[1m0s\u001b[0m 27ms/step - accuracy: 0.5833 - loss: 0.6389"
          ]
        },
        {
          "name": "stderr",
          "output_type": "stream",
          "text": [
            "WARNING:absl:You are saving your model as an HDF5 file via `model.save()` or `keras.saving.save_model(model)`. This file format is considered legacy. We recommend using instead the native Keras format, e.g. `model.save('my_model.keras')` or `keras.saving.save_model(model, 'my_model.keras')`. \n"
          ]
        },
        {
          "name": "stdout",
          "output_type": "stream",
          "text": [
            "\u001b[1m1/1\u001b[0m \u001b[32m━━━━━━━━━━━━━━━━━━━━\u001b[0m\u001b[37m\u001b[0m \u001b[1m0s\u001b[0m 120ms/step - accuracy: 0.5833 - loss: 0.6389 - val_accuracy: 0.1000 - val_loss: 1.4759 - learning_rate: 0.0010\n",
            "Epoch 29/30\n",
            "\u001b[1m1/1\u001b[0m \u001b[32m━━━━━━━━━━━━━━━━━━━━\u001b[0m\u001b[37m\u001b[0m \u001b[1m0s\u001b[0m 29ms/step - accuracy: 0.5278 - loss: 0.6954"
          ]
        },
        {
          "name": "stderr",
          "output_type": "stream",
          "text": [
            "WARNING:absl:You are saving your model as an HDF5 file via `model.save()` or `keras.saving.save_model(model)`. This file format is considered legacy. We recommend using instead the native Keras format, e.g. `model.save('my_model.keras')` or `keras.saving.save_model(model, 'my_model.keras')`. \n"
          ]
        },
        {
          "name": "stdout",
          "output_type": "stream",
          "text": [
            "\u001b[1m1/1\u001b[0m \u001b[32m━━━━━━━━━━━━━━━━━━━━\u001b[0m\u001b[37m\u001b[0m \u001b[1m0s\u001b[0m 125ms/step - accuracy: 0.5278 - loss: 0.6954 - val_accuracy: 0.1000 - val_loss: 1.4419 - learning_rate: 0.0010\n",
            "Epoch 30/30\n",
            "\u001b[1m1/1\u001b[0m \u001b[32m━━━━━━━━━━━━━━━━━━━━\u001b[0m\u001b[37m\u001b[0m \u001b[1m0s\u001b[0m 44ms/step - accuracy: 0.5278 - loss: 0.6378"
          ]
        },
        {
          "name": "stderr",
          "output_type": "stream",
          "text": [
            "WARNING:absl:You are saving your model as an HDF5 file via `model.save()` or `keras.saving.save_model(model)`. This file format is considered legacy. We recommend using instead the native Keras format, e.g. `model.save('my_model.keras')` or `keras.saving.save_model(model, 'my_model.keras')`. \n"
          ]
        },
        {
          "name": "stdout",
          "output_type": "stream",
          "text": [
            "\u001b[1m1/1\u001b[0m \u001b[32m━━━━━━━━━━━━━━━━━━━━\u001b[0m\u001b[37m\u001b[0m \u001b[1m0s\u001b[0m 145ms/step - accuracy: 0.5278 - loss: 0.6378 - val_accuracy: 0.1000 - val_loss: 1.4228 - learning_rate: 0.0010\n"
          ]
        }
      ],
      "source": [
        "def EncodedMLClassifier():\n",
        "    return Sequential([\n",
        "        Dense(256, input_dim=128, kernel_regularizer=regularizers.l2(0.001)),\n",
        "        BatchNormalization(),\n",
        "        LeakyReLU(alpha=0.01),\n",
        "        Dropout(0.3),\n",
        "\n",
        "        Dense(128, kernel_regularizer=regularizers.l2(0.001)),\n",
        "        BatchNormalization(),\n",
        "        LeakyReLU(alpha=0.01),\n",
        "        Dropout(0.2),\n",
        "\n",
        "        Dense(64),\n",
        "        LeakyReLU(alpha=0.01),\n",
        "        Dropout(0.2),\n",
        "\n",
        "        Dense(len(labels), activation='sigmoid')\n",
        "    ])\n",
        "\n",
        "classifier = EncodedMLClassifier()\n",
        "\n",
        "classifier.compile(\n",
        "    loss='binary_crossentropy',\n",
        "    optimizer=Adam(0.001),\n",
        "    metrics=['accuracy']\n",
        ")\n",
        "\n",
        "model_file = os.path.join(MODEL_PATH, \"encoded_cnn_best_model_on_crpwarner_opcode_n_gram.h5\")\n",
        "\n",
        "callbacks = [\n",
        "    EarlyStopping(monitor='val_loss', patience=6, restore_best_weights=True),\n",
        "    ReduceLROnPlateau(monitor='val_loss', factor=0.5, patience=3, verbose=1),\n",
        "    ModelCheckpoint(model_file, save_best_only=True)\n",
        "]\n",
        "\n",
        "history = classifier.fit(\n",
        "    X_train, y_train,\n",
        "    validation_data=(X_val, y_val),\n",
        "    epochs=30,\n",
        "    batch_size=64,\n",
        "    callbacks=callbacks,\n",
        "    verbose=1\n",
        ")"
      ]
    },
    {
      "cell_type": "code",
      "execution_count": 34,
      "id": "3d016c0b",
      "metadata": {},
      "outputs": [
        {
          "data": {
            "image/png": "[encoded data removed]",
            "text/plain": [
              "<Figure size 640x480 with 1 Axes>"
            ]
          },
          "metadata": {},
          "output_type": "display_data"
        }
      ],
      "source": [
        "plt.plot(history.history['loss'], label='Train Loss')\n",
        "plt.plot(history.history['val_loss'], label='Val Loss')\n",
        "plt.legend()\n",
        "plt.title(\"Training vs Validation Loss\")\n",
        "plt.xlabel(\"Epochs\")\n",
        "plt.ylabel(\"Loss\")\n",
        "plt.show()"
      ]
    },
    {
      "cell_type": "code",
      "execution_count": 35,
      "id": "b1614f62",
      "metadata": {},
      "outputs": [
        {
          "name": "stdout",
          "output_type": "stream",
          "text": [
            "\u001b[1m1/1\u001b[0m \u001b[32m━━━━━━━━━━━━━━━━━━━━\u001b[0m\u001b[37m\u001b[0m \u001b[1m0s\u001b[0m 121ms/step\n",
            "              precision    recall  f1-score   support\n",
            "\n",
            "        mint       0.20      1.00      0.33         2\n",
            "        leak       0.20      1.00      0.33         2\n",
            "       limit       0.11      1.00      0.20         1\n",
            "\n",
            "   micro avg       0.17      1.00      0.29         5\n",
            "   macro avg       0.17      1.00      0.29         5\n",
            "weighted avg       0.18      1.00      0.31         5\n",
            " samples avg       0.17      0.40      0.23         5\n",
            "\n"
          ]
        }
      ],
      "source": [
        "y_pred_prob = classifier.predict(X_val)\n",
        "y_pred = (y_pred_prob >= 0.05).astype(int)\n",
        "\n",
        "print(classification_report(y_val, y_pred, target_names=labels))"
      ]
    },
    {
      "cell_type": "code",
      "execution_count": null,
      "id": "3da95f9d",
      "metadata": {},
      "outputs": [],
      "source": []
    }
  ],
  "metadata": {
    "kernelspec": {
      "display_name": "ml-algo",
      "language": "python",
      "name": "python3"
    },
    "language_info": {
      "codemirror_mode": {
        "name": "ipython",
        "version": 3
      },
      "file_extension": ".py",
      "mimetype": "text/x-python",
      "name": "python",
      "nbconvert_exporter": "python",
      "pygments_lexer": "ipython3",
      "version": "3.12.7"
    }
  },
  "nbformat": 4,
  "nbformat_minor": 5
}
