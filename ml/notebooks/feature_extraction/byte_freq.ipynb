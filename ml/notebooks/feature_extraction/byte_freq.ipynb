{
 "cells": [
  {
   "cell_type": "markdown",
   "id": "b0bd566b",
   "metadata": {},
   "source": [
    "# Opcode Frequency Extraction"
   ]
  },
  {
   "cell_type": "markdown",
   "id": "991af3c6",
   "metadata": {},
   "source": [
    "## Setup"
   ]
  },
  {
   "cell_type": "code",
   "execution_count": null,
   "id": "bc21fa81",
   "metadata": {},
   "outputs": [],
   "source": [
    "import os\n",
    "import pandas as pd\n",
    "from pathlib import Path\n",
    "import json\n",
    "\n",
    "from collections import Counter\n",
    "import matplotlib.pyplot as plt"
   ]
  },
  {
   "cell_type": "code",
   "execution_count": 7,
   "id": "664ccc36",
   "metadata": {},
   "outputs": [],
   "source": [
    "PATH = Path.cwd().parents[1]\n",
    "DATA_PATH = os.path.join(PATH, 'data')\n",
    "NAME = 'crpwarner'\n",
    "IN_PATH = os.path.join(DATA_PATH, f'external/{NAME}/groundtruth/hex')\n",
    "OUT_PATH = os.path.join(DATA_PATH, f'interim/{NAME}')\n",
    "PRO_PATH = os.path.join(DATA_PATH, 'processed/byte_freq')\n",
    "df = pd.read_csv(os.path.join(OUT_PATH, 'dataset-modified.csv')).set_index('address')"
   ]
  },
  {
   "cell_type": "markdown",
   "id": "ff50290c",
   "metadata": {},
   "source": [
    "## Load Bytecode"
   ]
  },
  {
   "cell_type": "code",
   "execution_count": 8,
   "id": "3fc49fb1",
   "metadata": {},
   "outputs": [],
   "source": [
    "def load_bytecode(file_path):\n",
    "    with open(file_path, 'r') as f:\n",
    "        return f.read().strip()\n"
   ]
  },
  {
   "cell_type": "markdown",
   "id": "1cffdc92",
   "metadata": {},
   "source": [
    "## Compute Frequency per Contract"
   ]
  },
  {
   "cell_type": "code",
   "execution_count": 9,
   "id": "5d0b27a3",
   "metadata": {},
   "outputs": [],
   "source": [
    "def byte_freq_from_file(hex_file):\n",
    "    bytecode = load_bytecode(hex_file)\n",
    "    if bytecode.startswith(\"0x\"):\n",
    "        bytecode = bytecode[2:]\n",
    "\n",
    "    byte_list = [bytecode[i:i+2] for i in range(0, len(bytecode), 2)]\n",
    "    return dict(Counter(byte_list))\n"
   ]
  },
  {
   "cell_type": "markdown",
   "id": "2e6cbab0",
   "metadata": {},
   "source": [
    "## Build Dataset"
   ]
  },
  {
   "cell_type": "code",
   "execution_count": 10,
   "id": "c8e3f484",
   "metadata": {},
   "outputs": [],
   "source": [
    "hex_dir = Path(IN_PATH)\n",
    "all_files = list(hex_dir.glob('*.hex'))\n",
    "\n",
    "records = []\n",
    "for file in all_files:\n",
    "    freq = byte_freq_from_file(file)\n",
    "    freq['address'] = file.stem.lower()\n",
    "    records.append(freq)\n",
    "\n",
    "feature_df = pd.DataFrame(records).fillna(0).set_index('address')"
   ]
  },
  {
   "cell_type": "markdown",
   "id": "2d477c40",
   "metadata": {},
   "source": [
    "## Visualize or Export"
   ]
  },
  {
   "cell_type": "code",
   "execution_count": 11,
   "id": "3b5618ce",
   "metadata": {},
   "outputs": [
    {
     "data": {
      "image/png": "[encoded data removed]",
      "text/plain": [
       "<Figure size 640x480 with 1 Axes>"
      ]
     },
     "metadata": {},
     "output_type": "display_data"
    }
   ],
   "source": [
    "feature_df.sum().sort_values(ascending=False).head(20).plot(kind='barh')\n",
    "plt.title(\"Top 20 Most Frequent Opcodes\")\n",
    "plt.show()"
   ]
  },
  {
   "cell_type": "code",
   "execution_count": 12,
   "id": "e8dbc5cb",
   "metadata": {},
   "outputs": [],
   "source": [
    "feature_df.to_csv(os.path.join(OUT_PATH, 'byte_freq.csv'))"
   ]
  },
  {
   "cell_type": "markdown",
   "id": "784d090a",
   "metadata": {},
   "source": [
    "## Export Labels & Feature Columns"
   ]
  },
  {
   "cell_type": "code",
   "execution_count": 13,
   "id": "ce01560c",
   "metadata": {},
   "outputs": [],
   "source": [
    "labels = list(df.columns)\n",
    "features = list(feature_df.columns)\n",
    "with open(os.path.join(PRO_PATH, 'labels.json'), \"w\") as f:\n",
    "    json.dump(labels, f, indent=2)\n",
    "\n",
    "with open(os.path.join(PRO_PATH, 'features.json'), \"w\") as f:\n",
    "    json.dump(features, f, indent=2)"
   ]
  },
  {
   "cell_type": "markdown",
   "id": "1627d9d4",
   "metadata": {},
   "source": [
    "## Merge with Labels Dataframe"
   ]
  },
  {
   "cell_type": "code",
   "execution_count": 14,
   "id": "168914a4",
   "metadata": {},
   "outputs": [
    {
     "data": {
      "application/vnd.microsoft.datawrangler.viewer.v0+json": {
       "columns": [
        {
         "name": "address",
         "rawType": "object",
         "type": "string"
        },
        {
         "name": "mint",
         "rawType": "int64",
         "type": "integer"
        },
        {
         "name": "leak",
         "rawType": "int64",
         "type": "integer"
        },
        {
         "name": "limit",
         "rawType": "int64",
         "type": "integer"
        },
        {
         "name": "60",
         "rawType": "int64",
         "type": "integer"
        },
        {
         "name": "80",
         "rawType": "int64",
         "type": "integer"
        },
        {
         "name": "40",
         "rawType": "float64",
         "type": "float"
        },
        {
         "name": "52",
         "rawType": "float64",
         "type": "float"
        },
        {
         "name": "04",
         "rawType": "float64",
         "type": "float"
        },
        {
         "name": "36",
         "rawType": "int64",
         "type": "integer"
        },
        {
         "name": "10",
         "rawType": "float64",
         "type": "float"
        },
        {
         "name": "61",
         "rawType": "float64",
         "type": "float"
        },
        {
         "name": "00",
         "rawType": "float64",
         "type": "float"
        },
        {
         "name": "db",
         "rawType": "float64",
         "type": "float"
        },
        {
         "name": "57",
         "rawType": "int64",
         "type": "integer"
        },
        {
         "name": "35",
         "rawType": "float64",
         "type": "float"
        },
        {
         "name": "7c",
         "rawType": "float64",
         "type": "float"
        },
        {
         "name": "01",
         "rawType": "float64",
         "type": "float"
        },
        {
         "name": "90",
         "rawType": "float64",
         "type": "float"
        },
        {
         "name": "63",
         "rawType": "float64",
         "type": "float"
        },
        {
         "name": "ff",
         "rawType": "float64",
         "type": "float"
        },
        {
         "name": "16",
         "rawType": "float64",
         "type": "float"
        },
        {
         "name": "06",
         "rawType": "float64",
         "type": "float"
        },
        {
         "name": "fd",
         "rawType": "int64",
         "type": "integer"
        },
        {
         "name": "de",
         "rawType": "float64",
         "type": "float"
        },
        {
         "name": "03",
         "rawType": "float64",
         "type": "float"
        },
        {
         "name": "14",
         "rawType": "float64",
         "type": "float"
        },
        {
         "name": "e0",
         "rawType": "float64",
         "type": "float"
        },
        {
         "name": "09",
         "rawType": "float64",
         "type": "float"
        },
        {
         "name": "5e",
         "rawType": "float64",
         "type": "float"
        },
        {
         "name": "a7",
         "rawType": "float64",
         "type": "float"
        },
        {
         "name": "b3",
         "rawType": "float64",
         "type": "float"
        },
        {
         "name": "70",
         "rawType": "float64",
         "type": "float"
        },
        {
         "name": "18",
         "rawType": "float64",
         "type": "float"
        },
        {
         "name": "0d",
         "rawType": "float64",
         "type": "float"
        },
        {
         "name": "dd",
         "rawType": "float64",
         "type": "float"
        },
        {
         "name": "d5",
         "rawType": "float64",
         "type": "float"
        },
        {
         "name": "23",
         "rawType": "float64",
         "type": "float"
        },
        {
         "name": "b8",
         "rawType": "float64",
         "type": "float"
        },
        {
         "name": "72",
         "rawType": "float64",
         "type": "float"
        },
        {
         "name": "02",
         "rawType": "float64",
         "type": "float"
        },
        {
         "name": "31",
         "rawType": "float64",
         "type": "float"
        },
        {
         "name": "3c",
         "rawType": "float64",
         "type": "float"
        },
        {
         "name": "e5",
         "rawType": "float64",
         "type": "float"
        },
        {
         "name": "67",
         "rawType": "float64",
         "type": "float"
        },
        {
         "name": "85",
         "rawType": "float64",
         "type": "float"
        },
        {
         "name": "42",
         "rawType": "float64",
         "type": "float"
        },
        {
         "name": "96",
         "rawType": "float64",
         "type": "float"
        },
        {
         "name": "6c",
         "rawType": "float64",
         "type": "float"
        },
        {
         "name": "68",
         "rawType": "float64",
         "type": "float"
        },
        {
         "name": "b6",
         "rawType": "float64",
         "type": "float"
        },
        {
         "name": "66",
         "rawType": "float64",
         "type": "float"
        },
        {
         "name": "84",
         "rawType": "float64",
         "type": "float"
        },
        {
         "name": "e3",
         "rawType": "float64",
         "type": "float"
        },
        {
         "name": "a0",
         "rawType": "float64",
         "type": "float"
        },
        {
         "name": "82",
         "rawType": "float64",
         "type": "float"
        },
        {
         "name": "48",
         "rawType": "float64",
         "type": "float"
        },
        {
         "name": "71",
         "rawType": "float64",
         "type": "float"
        },
        {
         "name": "50",
         "rawType": "float64",
         "type": "float"
        },
        {
         "name": "a6",
         "rawType": "float64",
         "type": "float"
        },
        {
         "name": "9f",
         "rawType": "float64",
         "type": "float"
        },
        {
         "name": "8d",
         "rawType": "float64",
         "type": "float"
        },
        {
         "name": "a5",
         "rawType": "float64",
         "type": "float"
        },
        {
         "name": "cb",
         "rawType": "float64",
         "type": "float"
        },
        {
         "name": "5b",
         "rawType": "int64",
         "type": "integer"
        },
        {
         "name": "95",
         "rawType": "float64",
         "type": "float"
        },
        {
         "name": "d8",
         "rawType": "float64",
         "type": "float"
        },
        {
         "name": "9b",
         "rawType": "float64",
         "type": "float"
        },
        {
         "name": "41",
         "rawType": "float64",
         "type": "float"
        },
        {
         "name": "a9",
         "rawType": "float64",
         "type": "float"
        },
        {
         "name": "05",
         "rawType": "float64",
         "type": "float"
        },
        {
         "name": "9c",
         "rawType": "float64",
         "type": "float"
        },
        {
         "name": "bb",
         "rawType": "float64",
         "type": "float"
        },
        {
         "name": "9d",
         "rawType": "float64",
         "type": "float"
        },
        {
         "name": "d7",
         "rawType": "float64",
         "type": "float"
        },
        {
         "name": "3d",
         "rawType": "float64",
         "type": "float"
        },
        {
         "name": "d6",
         "rawType": "float64",
         "type": "float"
        },
        {
         "name": "62",
         "rawType": "float64",
         "type": "float"
        },
        {
         "name": "ed",
         "rawType": "float64",
         "type": "float"
        },
        {
         "name": "3e",
         "rawType": "int64",
         "type": "integer"
        },
        {
         "name": "f2",
         "rawType": "float64",
         "type": "float"
        },
        {
         "name": "8b",
         "rawType": "float64",
         "type": "float"
        },
        {
         "name": "34",
         "rawType": "float64",
         "type": "float"
        },
        {
         "name": "15",
         "rawType": "int64",
         "type": "integer"
        },
        {
         "name": "ec",
         "rawType": "float64",
         "type": "float"
        },
        {
         "name": "f5",
         "rawType": "float64",
         "type": "float"
        },
        {
         "name": "21",
         "rawType": "float64",
         "type": "float"
        },
        {
         "name": "56",
         "rawType": "float64",
         "type": "float"
        },
        {
         "name": "51",
         "rawType": "float64",
         "type": "float"
        },
        {
         "name": "20",
         "rawType": "float64",
         "type": "float"
        },
        {
         "name": "81",
         "rawType": "float64",
         "type": "float"
        },
        {
         "name": "83",
         "rawType": "float64",
         "type": "float"
        },
        {
         "name": "91",
         "rawType": "float64",
         "type": "float"
        },
        {
         "name": "1a",
         "rawType": "float64",
         "type": "float"
        },
        {
         "name": "1f",
         "rawType": "float64",
         "type": "float"
        },
        {
         "name": "0a",
         "rawType": "float64",
         "type": "float"
        },
        {
         "name": "19",
         "rawType": "float64",
         "type": "float"
        },
        {
         "name": "92",
         "rawType": "float64",
         "type": "float"
        },
        {
         "name": "f3",
         "rawType": "int64",
         "type": "integer"
        },
        {
         "name": "73",
         "rawType": "int64",
         "type": "integer"
        },
        {
         "name": "bf",
         "rawType": "float64",
         "type": "float"
        },
        {
         "name": "e1",
         "rawType": "float64",
         "type": "float"
        },
        {
         "name": "ea",
         "rawType": "float64",
         "type": "float"
        },
        {
         "name": "07",
         "rawType": "float64",
         "type": "float"
        },
        {
         "name": "b1",
         "rawType": "float64",
         "type": "float"
        },
        {
         "name": "0c",
         "rawType": "float64",
         "type": "float"
        },
        {
         "name": "6b",
         "rawType": "float64",
         "type": "float"
        },
        {
         "name": "b7",
         "rawType": "float64",
         "type": "float"
        },
        {
         "name": "9a",
         "rawType": "float64",
         "type": "float"
        },
        {
         "name": "0b",
         "rawType": "float64",
         "type": "float"
        },
        {
         "name": "77",
         "rawType": "float64",
         "type": "float"
        },
        {
         "name": "c2",
         "rawType": "float64",
         "type": "float"
        },
        {
         "name": "8a",
         "rawType": "float64",
         "type": "float"
        },
        {
         "name": "ef",
         "rawType": "float64",
         "type": "float"
        },
        {
         "name": "2e",
         "rawType": "float64",
         "type": "float"
        },
        {
         "name": "97",
         "rawType": "float64",
         "type": "float"
        },
        {
         "name": "54",
         "rawType": "float64",
         "type": "float"
        },
        {
         "name": "89",
         "rawType": "float64",
         "type": "float"
        },
        {
         "name": "0e",
         "rawType": "float64",
         "type": "float"
        },
        {
         "name": "29",
         "rawType": "float64",
         "type": "float"
        },
        {
         "name": "ab",
         "rawType": "float64",
         "type": "float"
        },
        {
         "name": "b4",
         "rawType": "float64",
         "type": "float"
        },
        {
         "name": "0f",
         "rawType": "float64",
         "type": "float"
        },
        {
         "name": "74",
         "rawType": "float64",
         "type": "float"
        },
        {
         "name": "22",
         "rawType": "float64",
         "type": "float"
        },
        {
         "name": "99",
         "rawType": "float64",
         "type": "float"
        },
        {
         "name": "47",
         "rawType": "float64",
         "type": "float"
        },
        {
         "name": "8f",
         "rawType": "float64",
         "type": "float"
        },
        {
         "name": "e8",
         "rawType": "float64",
         "type": "float"
        },
        {
         "name": "37",
         "rawType": "int64",
         "type": "integer"
        },
        {
         "name": "4d",
         "rawType": "float64",
         "type": "float"
        },
        {
         "name": "12",
         "rawType": "float64",
         "type": "float"
        },
        {
         "name": "5c",
         "rawType": "float64",
         "type": "float"
        },
        {
         "name": "c8",
         "rawType": "float64",
         "type": "float"
        },
        {
         "name": "58",
         "rawType": "float64",
         "type": "float"
        },
        {
         "name": "df",
         "rawType": "float64",
         "type": "float"
        },
        {
         "name": "8c",
         "rawType": "float64",
         "type": "float"
        },
        {
         "name": "11",
         "rawType": "float64",
         "type": "float"
        },
        {
         "name": "33",
         "rawType": "float64",
         "type": "float"
        },
        {
         "name": "55",
         "rawType": "float64",
         "type": "float"
        },
        {
         "name": "7f",
         "rawType": "float64",
         "type": "float"
        },
        {
         "name": "eb",
         "rawType": "float64",
         "type": "float"
        },
        {
         "name": "7d",
         "rawType": "float64",
         "type": "float"
        },
        {
         "name": "d1",
         "rawType": "float64",
         "type": "float"
        },
        {
         "name": "4f",
         "rawType": "float64",
         "type": "float"
        },
        {
         "name": "1e",
         "rawType": "float64",
         "type": "float"
        },
        {
         "name": "c0",
         "rawType": "float64",
         "type": "float"
        },
        {
         "name": "f7",
         "rawType": "float64",
         "type": "float"
        },
        {
         "name": "b2",
         "rawType": "float64",
         "type": "float"
        },
        {
         "name": "c7",
         "rawType": "float64",
         "type": "float"
        },
        {
         "name": "c3",
         "rawType": "float64",
         "type": "float"
        },
        {
         "name": "b9",
         "rawType": "float64",
         "type": "float"
        },
        {
         "name": "25",
         "rawType": "float64",
         "type": "float"
        },
        {
         "name": "a3",
         "rawType": "float64",
         "type": "float"
        },
        {
         "name": "08",
         "rawType": "float64",
         "type": "float"
        },
        {
         "name": "ce",
         "rawType": "float64",
         "type": "float"
        },
        {
         "name": "87",
         "rawType": "float64",
         "type": "float"
        },
        {
         "name": "46",
         "rawType": "float64",
         "type": "float"
        },
        {
         "name": "86",
         "rawType": "float64",
         "type": "float"
        },
        {
         "name": "b5",
         "rawType": "float64",
         "type": "float"
        },
        {
         "name": "5f",
         "rawType": "float64",
         "type": "float"
        },
        {
         "name": "ad",
         "rawType": "float64",
         "type": "float"
        },
        {
         "name": "1b",
         "rawType": "float64",
         "type": "float"
        },
        {
         "name": "e2",
         "rawType": "float64",
         "type": "float"
        },
        {
         "name": "69",
         "rawType": "float64",
         "type": "float"
        },
        {
         "name": "b0",
         "rawType": "float64",
         "type": "float"
        },
        {
         "name": "fc",
         "rawType": "float64",
         "type": "float"
        },
        {
         "name": "aa",
         "rawType": "float64",
         "type": "float"
        },
        {
         "name": "2b",
         "rawType": "float64",
         "type": "float"
        },
        {
         "name": "f1",
         "rawType": "float64",
         "type": "float"
        },
        {
         "name": "c4",
         "rawType": "float64",
         "type": "float"
        },
        {
         "name": "a1",
         "rawType": "float64",
         "type": "float"
        },
        {
         "name": "28",
         "rawType": "float64",
         "type": "float"
        },
        {
         "name": "5a",
         "rawType": "int64",
         "type": "integer"
        },
        {
         "name": "93",
         "rawType": "float64",
         "type": "float"
        },
        {
         "name": "94",
         "rawType": "float64",
         "type": "float"
        },
        {
         "name": "7b",
         "rawType": "float64",
         "type": "float"
        },
        {
         "name": "bc",
         "rawType": "float64",
         "type": "float"
        },
        {
         "name": "88",
         "rawType": "float64",
         "type": "float"
        },
        {
         "name": "cd",
         "rawType": "float64",
         "type": "float"
        },
        {
         "name": "f8",
         "rawType": "float64",
         "type": "float"
        },
        {
         "name": "2f",
         "rawType": "float64",
         "type": "float"
        },
        {
         "name": "59",
         "rawType": "float64",
         "type": "float"
        },
        {
         "name": "98",
         "rawType": "float64",
         "type": "float"
        },
        {
         "name": "45",
         "rawType": "float64",
         "type": "float"
        },
        {
         "name": "2c",
         "rawType": "float64",
         "type": "float"
        },
        {
         "name": "f9",
         "rawType": "float64",
         "type": "float"
        },
        {
         "name": "ae",
         "rawType": "float64",
         "type": "float"
        },
        {
         "name": "c6",
         "rawType": "float64",
         "type": "float"
        },
        {
         "name": "a2",
         "rawType": "float64",
         "type": "float"
        },
        {
         "name": "17",
         "rawType": "float64",
         "type": "float"
        },
        {
         "name": "3a",
         "rawType": "float64",
         "type": "float"
        },
        {
         "name": "43",
         "rawType": "float64",
         "type": "float"
        },
        {
         "name": "fe",
         "rawType": "float64",
         "type": "float"
        },
        {
         "name": "c9",
         "rawType": "float64",
         "type": "float"
        },
        {
         "name": "cc",
         "rawType": "float64",
         "type": "float"
        },
        {
         "name": "32",
         "rawType": "float64",
         "type": "float"
        },
        {
         "name": "bd",
         "rawType": "float64",
         "type": "float"
        },
        {
         "name": "44",
         "rawType": "float64",
         "type": "float"
        },
        {
         "name": "cf",
         "rawType": "float64",
         "type": "float"
        },
        {
         "name": "7a",
         "rawType": "float64",
         "type": "float"
        },
        {
         "name": "5d",
         "rawType": "float64",
         "type": "float"
        },
        {
         "name": "39",
         "rawType": "float64",
         "type": "float"
        },
        {
         "name": "6d",
         "rawType": "float64",
         "type": "float"
        },
        {
         "name": "53",
         "rawType": "float64",
         "type": "float"
        },
        {
         "name": "13",
         "rawType": "float64",
         "type": "float"
        },
        {
         "name": "d0",
         "rawType": "float64",
         "type": "float"
        },
        {
         "name": "a4",
         "rawType": "float64",
         "type": "float"
        },
        {
         "name": "49",
         "rawType": "float64",
         "type": "float"
        },
        {
         "name": "da",
         "rawType": "float64",
         "type": "float"
        },
        {
         "name": "af",
         "rawType": "float64",
         "type": "float"
        },
        {
         "name": "6f",
         "rawType": "float64",
         "type": "float"
        },
        {
         "name": "64",
         "rawType": "float64",
         "type": "float"
        },
        {
         "name": "65",
         "rawType": "float64",
         "type": "float"
        },
        {
         "name": "30",
         "rawType": "float64",
         "type": "float"
        },
        {
         "name": "c5",
         "rawType": "float64",
         "type": "float"
        },
        {
         "name": "1c",
         "rawType": "float64",
         "type": "float"
        },
        {
         "name": "4a",
         "rawType": "float64",
         "type": "float"
        },
        {
         "name": "79",
         "rawType": "float64",
         "type": "float"
        },
        {
         "name": "6a",
         "rawType": "float64",
         "type": "float"
        },
        {
         "name": "fa",
         "rawType": "float64",
         "type": "float"
        },
        {
         "name": "d3",
         "rawType": "float64",
         "type": "float"
        },
        {
         "name": "2a",
         "rawType": "float64",
         "type": "float"
        },
        {
         "name": "78",
         "rawType": "float64",
         "type": "float"
        },
        {
         "name": "2d",
         "rawType": "float64",
         "type": "float"
        },
        {
         "name": "c1",
         "rawType": "float64",
         "type": "float"
        },
        {
         "name": "24",
         "rawType": "float64",
         "type": "float"
        },
        {
         "name": "3b",
         "rawType": "float64",
         "type": "float"
        },
        {
         "name": "ca",
         "rawType": "float64",
         "type": "float"
        },
        {
         "name": "76",
         "rawType": "float64",
         "type": "float"
        },
        {
         "name": "8e",
         "rawType": "float64",
         "type": "float"
        },
        {
         "name": "f4",
         "rawType": "float64",
         "type": "float"
        },
        {
         "name": "d9",
         "rawType": "float64",
         "type": "float"
        },
        {
         "name": "4c",
         "rawType": "float64",
         "type": "float"
        },
        {
         "name": "26",
         "rawType": "float64",
         "type": "float"
        },
        {
         "name": "6e",
         "rawType": "float64",
         "type": "float"
        },
        {
         "name": "75",
         "rawType": "float64",
         "type": "float"
        },
        {
         "name": "a8",
         "rawType": "float64",
         "type": "float"
        },
        {
         "name": "1d",
         "rawType": "float64",
         "type": "float"
        },
        {
         "name": "ac",
         "rawType": "float64",
         "type": "float"
        },
        {
         "name": "ba",
         "rawType": "float64",
         "type": "float"
        },
        {
         "name": "e6",
         "rawType": "float64",
         "type": "float"
        },
        {
         "name": "d2",
         "rawType": "float64",
         "type": "float"
        },
        {
         "name": "4e",
         "rawType": "float64",
         "type": "float"
        },
        {
         "name": "fb",
         "rawType": "float64",
         "type": "float"
        },
        {
         "name": "ee",
         "rawType": "float64",
         "type": "float"
        },
        {
         "name": "38",
         "rawType": "float64",
         "type": "float"
        },
        {
         "name": "4b",
         "rawType": "float64",
         "type": "float"
        },
        {
         "name": "e9",
         "rawType": "float64",
         "type": "float"
        },
        {
         "name": "dc",
         "rawType": "float64",
         "type": "float"
        },
        {
         "name": "f6",
         "rawType": "float64",
         "type": "float"
        },
        {
         "name": "3f",
         "rawType": "float64",
         "type": "float"
        },
        {
         "name": "d4",
         "rawType": "float64",
         "type": "float"
        },
        {
         "name": "e7",
         "rawType": "float64",
         "type": "float"
        },
        {
         "name": "be",
         "rawType": "float64",
         "type": "float"
        },
        {
         "name": "f0",
         "rawType": "float64",
         "type": "float"
        },
        {
         "name": "e4",
         "rawType": "float64",
         "type": "float"
        },
        {
         "name": "7e",
         "rawType": "float64",
         "type": "float"
        },
        {
         "name": "27",
         "rawType": "float64",
         "type": "float"
        },
        {
         "name": "9e",
         "rawType": "float64",
         "type": "float"
        }
       ],
       "ref": "cd65d9b4-686f-44c8-b08d-8ce888734bc6",
       "rows": [
        [
         "0x93023f1d3525e273f291b6f76d2f5027a39bf302",
         "1",
         "0",
         "1",
         "410",
         "84",
         "55.0",
         "134.0",
         "73.0",
         "15",
         "11.0",
         "289.0",
         "70.0",
         "0.0",
         "70",
         "8.0",
         "1.0",
         "201.0",
         "105.0",
         "46.0",
         "14.0",
         "50.0",
         "8.0",
         "21",
         "2.0",
         "75.0",
         "33.0",
         "7.0",
         "14.0",
         "3.0",
         "5.0",
         "5.0",
         "8.0",
         "4.0",
         "37.0",
         "8.0",
         "0.0",
         "6.0",
         "2.0",
         "38.0",
         "39.0",
         "3.0",
         "2.0",
         "18.0",
         "4.0",
         "28.0",
         "6.0",
         "2.0",
         "16.0",
         "16.0",
         "3.0",
         "9.0",
         "34.0",
         "4.0",
         "31.0",
         "104.0",
         "3.0",
         "6.0",
         "80.0",
         "8.0",
         "0.0",
         "5.0",
         "3.0",
         "3.0",
         "168",
         "9.0",
         "4.0",
         "4.0",
         "5.0",
         "2.0",
         "13.0",
         "4.0",
         "2.0",
         "4.0",
         "4.0",
         "0.0",
         "4.0",
         "24.0",
         "2.0",
         "5",
         "9.0",
         "4.0",
         "1.0",
         "35",
         "1.0",
         "7.0",
         "3.0",
         "138.0",
         "38.0",
         "132.0",
         "105.0",
         "39.0",
         "48.0",
         "0.0",
         "7.0",
         "5.0",
         "8.0",
         "23.0",
         "2",
         "29",
         "1.0",
         "3.0",
         "5.0",
         "19.0",
         "1.0",
         "6.0",
         "3.0",
         "0.0",
         "2.0",
         "6.0",
         "10.0",
         "8.0",
         "2.0",
         "6.0",
         "0.0",
         "1.0",
         "30.0",
         "2.0",
         "19.0",
         "2.0",
         "2.0",
         "1.0",
         "25.0",
         "26.0",
         "6.0",
         "1.0",
         "1.0",
         "1.0",
         "2.0",
         "4",
         "4.0",
         "10.0",
         "6.0",
         "4.0",
         "3.0",
         "1.0",
         "6.0",
         "8.0",
         "11.0",
         "12.0",
         "22.0",
         "1.0",
         "2.0",
         "1.0",
         "6.0",
         "2.0",
         "3.0",
         "5.0",
         "1.0",
         "1.0",
         "2.0",
         "1.0",
         "5.0",
         "7.0",
         "14.0",
         "16.0",
         "8.0",
         "15.0",
         "8.0",
         "1.0",
         "0.0",
         "4.0",
         "74.0",
         "6.0",
         "14.0",
         "3.0",
         "3.0",
         "3.0",
         "6.0",
         "5.0",
         "5.0",
         "6.0",
         "4.0",
         "6",
         "12.0",
         "7.0",
         "6.0",
         "2.0",
         "1.0",
         "17.0",
         "3.0",
         "0.0",
         "2.0",
         "1.0",
         "10.0",
         "0.0",
         "0.0",
         "1.0",
         "0.0",
         "2.0",
         "6.0",
         "12.0",
         "13.0",
         "1.0",
         "0.0",
         "2.0",
         "11.0",
         "3.0",
         "16.0",
         "1.0",
         "9.0",
         "1.0",
         "2.0",
         "9.0",
         "5.0",
         "4.0",
         "3.0",
         "3.0",
         "1.0",
         "1.0",
         "2.0",
         "29.0",
         "40.0",
         "59.0",
         "11.0",
         "1.0",
         "1.0",
         "0.0",
         "4.0",
         "3.0",
         "2.0",
         "0.0",
         "2.0",
         "8.0",
         "3.0",
         "0.0",
         "16.0",
         "1.0",
         "3.0",
         "4.0",
         "1.0",
         "1.0",
         "1.0",
         "0.0",
         "2.0",
         "20.0",
         "7.0",
         "1.0",
         "3.0",
         "0.0",
         "0.0",
         "1.0",
         "1.0",
         "5.0",
         "0.0",
         "0.0",
         "5.0",
         "0.0",
         "2.0",
         "0.0",
         "0.0",
         "8.0",
         "0.0",
         "1.0",
         "0.0",
         "2.0",
         "2.0",
         "0.0",
         "2.0",
         "1.0"
        ],
        [
         "0x2753dce37a7edb052a77832039bcc9aa49ad8b25",
         "0",
         "0",
         "1",
         "668",
         "123",
         "79.0",
         "188.0",
         "85.0",
         "25",
         "22.0",
         "420.0",
         "118.0",
         "4.0",
         "103",
         "8.0",
         "11.0",
         "286.0",
         "161.0",
         "88.0",
         "24.0",
         "119.0",
         "46.0",
         "30",
         "2.0",
         "107.0",
         "61.0",
         "15.0",
         "20.0",
         "4.0",
         "7.0",
         "4.0",
         "12.0",
         "18.0",
         "17.0",
         "10.0",
         "3.0",
         "5.0",
         "2.0",
         "45.0",
         "75.0",
         "4.0",
         "4.0",
         "32.0",
         "6.0",
         "31.0",
         "4.0",
         "1.0",
         "31.0",
         "13.0",
         "3.0",
         "12.0",
         "51.0",
         "5.0",
         "50.0",
         "134.0",
         "5.0",
         "8.0",
         "99.0",
         "1.0",
         "4.0",
         "4.0",
         "7.0",
         "4.0",
         "228",
         "3.0",
         "6.0",
         "19.0",
         "5.0",
         "2.0",
         "19.0",
         "8.0",
         "3.0",
         "3.0",
         "6.0",
         "1.0",
         "1.0",
         "40.0",
         "2.0",
         "2",
         "8.0",
         "3.0",
         "6.0",
         "68",
         "2.0",
         "11.0",
         "2.0",
         "189.0",
         "58.0",
         "175.0",
         "149.0",
         "52.0",
         "61.0",
         "6.0",
         "16.0",
         "8.0",
         "26.0",
         "30.0",
         "2",
         "46",
         "1.0",
         "5.0",
         "5.0",
         "17.0",
         "2.0",
         "17.0",
         "5.0",
         "4.0",
         "5.0",
         "10.0",
         "10.0",
         "3.0",
         "5.0",
         "5.0",
         "1.0",
         "3.0",
         "46.0",
         "1.0",
         "14.0",
         "7.0",
         "2.0",
         "2.0",
         "13.0",
         "35.0",
         "5.0",
         "2.0",
         "5.0",
         "7.0",
         "2.0",
         "7",
         "6.0",
         "21.0",
         "9.0",
         "9.0",
         "8.0",
         "3.0",
         "3.0",
         "26.0",
         "33.0",
         "12.0",
         "32.0",
         "4.0",
         "6.0",
         "4.0",
         "8.0",
         "5.0",
         "2.0",
         "2.0",
         "5.0",
         "11.0",
         "1.0",
         "5.0",
         "7.0",
         "8.0",
         "23.0",
         "3.0",
         "12.0",
         "29.0",
         "13.0",
         "2.0",
         "1.0",
         "6.0",
         "142.0",
         "3.0",
         "47.0",
         "5.0",
         "9.0",
         "6.0",
         "2.0",
         "7.0",
         "2.0",
         "4.0",
         "8.0",
         "5",
         "17.0",
         "8.0",
         "8.0",
         "1.0",
         "6.0",
         "33.0",
         "5.0",
         "8.0",
         "8.0",
         "2.0",
         "11.0",
         "1.0",
         "0.0",
         "8.0",
         "2.0",
         "3.0",
         "37.0",
         "21.0",
         "15.0",
         "5.0",
         "4.0",
         "1.0",
         "14.0",
         "0.0",
         "20.0",
         "3.0",
         "7.0",
         "10.0",
         "8.0",
         "7.0",
         "9.0",
         "14.0",
         "12.0",
         "7.0",
         "3.0",
         "2.0",
         "3.0",
         "39.0",
         "49.0",
         "69.0",
         "12.0",
         "1.0",
         "9.0",
         "1.0",
         "6.0",
         "1.0",
         "2.0",
         "3.0",
         "5.0",
         "6.0",
         "1.0",
         "1.0",
         "26.0",
         "6.0",
         "6.0",
         "5.0",
         "2.0",
         "9.0",
         "5.0",
         "1.0",
         "4.0",
         "37.0",
         "8.0",
         "3.0",
         "2.0",
         "5.0",
         "3.0",
         "2.0",
         "2.0",
         "12.0",
         "2.0",
         "5.0",
         "2.0",
         "9.0",
         "3.0",
         "3.0",
         "4.0",
         "3.0",
         "2.0",
         "2.0",
         "2.0",
         "3.0",
         "2.0",
         "2.0",
         "1.0",
         "0.0"
        ],
        [
         "0x94b7d24552933f50a5a5705c446528806dcea381",
         "0",
         "0",
         "0",
         "17",
         "6",
         "1.0",
         "3.0",
         "0.0",
         "2",
         "0.0",
         "0.0",
         "41.0",
         "0.0",
         "2",
         "1.0",
         "0.0",
         "0.0",
         "0.0",
         "1.0",
         "20.0",
         "1.0",
         "2.0",
         "1",
         "0.0",
         "0.0",
         "2.0",
         "0.0",
         "0.0",
         "0.0",
         "0.0",
         "0.0",
         "2.0",
         "0.0",
         "0.0",
         "0.0",
         "0.0",
         "1.0",
         "0.0",
         "0.0",
         "0.0",
         "0.0",
         "0.0",
         "0.0",
         "0.0",
         "0.0",
         "1.0",
         "1.0",
         "1.0",
         "0.0",
         "0.0",
         "1.0",
         "1.0",
         "0.0",
         "0.0",
         "0.0",
         "1.0",
         "0.0",
         "2.0",
         "1.0",
         "0.0",
         "0.0",
         "0.0",
         "0.0",
         "2",
         "1.0",
         "0.0",
         "0.0",
         "0.0",
         "0.0",
         "0.0",
         "0.0",
         "0.0",
         "0.0",
         "0.0",
         "3.0",
         "1.0",
         "0.0",
         "0.0",
         "2",
         "0.0",
         "0.0",
         "1.0",
         "2",
         "0.0",
         "0.0",
         "0.0",
         "0.0",
         "0.0",
         "2.0",
         "1.0",
         "0.0",
         "1.0",
         "0.0",
         "0.0",
         "0.0",
         "1.0",
         "1.0",
         "2",
         "3",
         "0.0",
         "1.0",
         "0.0",
         "2.0",
         "0.0",
         "0.0",
         "0.0",
         "0.0",
         "0.0",
         "1.0",
         "2.0",
         "1.0",
         "0.0",
         "0.0",
         "0.0",
         "1.0",
         "1.0",
         "0.0",
         "0.0",
         "0.0",
         "0.0",
         "0.0",
         "0.0",
         "0.0",
         "1.0",
         "0.0",
         "0.0",
         "0.0",
         "0.0",
         "1",
         "0.0",
         "1.0",
         "0.0",
         "1.0",
         "1.0",
         "0.0",
         "1.0",
         "0.0",
         "2.0",
         "0.0",
         "1.0",
         "0.0",
         "0.0",
         "1.0",
         "0.0",
         "0.0",
         "0.0",
         "0.0",
         "0.0",
         "0.0",
         "0.0",
         "0.0",
         "0.0",
         "0.0",
         "0.0",
         "0.0",
         "0.0",
         "0.0",
         "0.0",
         "0.0",
         "1.0",
         "0.0",
         "0.0",
         "0.0",
         "1.0",
         "0.0",
         "0.0",
         "0.0",
         "0.0",
         "0.0",
         "0.0",
         "1.0",
         "0.0",
         "1",
         "0.0",
         "0.0",
         "0.0",
         "0.0",
         "0.0",
         "0.0",
         "0.0",
         "0.0",
         "0.0",
         "0.0",
         "0.0",
         "0.0",
         "0.0",
         "0.0",
         "0.0",
         "1.0",
         "0.0",
         "0.0",
         "1.0",
         "1.0",
         "0.0",
         "0.0",
         "0.0",
         "0.0",
         "0.0",
         "0.0",
         "0.0",
         "0.0",
         "0.0",
         "0.0",
         "1.0",
         "0.0",
         "0.0",
         "1.0",
         "0.0",
         "0.0",
         "0.0",
         "1.0",
         "2.0",
         "0.0",
         "0.0",
         "1.0",
         "0.0",
         "0.0",
         "0.0",
         "0.0",
         "0.0",
         "0.0",
         "0.0",
         "0.0",
         "1.0",
         "0.0",
         "0.0",
         "0.0",
         "0.0",
         "1.0",
         "0.0",
         "1.0",
         "0.0",
         "0.0",
         "0.0",
         "1.0",
         "0.0",
         "0.0",
         "0.0",
         "0.0",
         "0.0",
         "0.0",
         "0.0",
         "0.0",
         "0.0",
         "0.0",
         "0.0",
         "0.0",
         "0.0",
         "0.0",
         "0.0",
         "0.0",
         "0.0",
         "0.0",
         "0.0",
         "0.0",
         "0.0",
         "0.0",
         "0.0",
         "0.0"
        ],
        [
         "0xe0b9d4146aad6936cbfcbe4dae47e34aab96b093",
         "0",
         "0",
         "0",
         "505",
         "163",
         "100.0",
         "132.0",
         "48.0",
         "12",
         "17.0",
         "489.0",
         "613.0",
         "9.0",
         "98",
         "20.0",
         "1.0",
         "183.0",
         "244.0",
         "41.0",
         "1867.0",
         "110.0",
         "13.0",
         "39",
         "5.0",
         "87.0",
         "47.0",
         "3.0",
         "15.0",
         "3.0",
         "8.0",
         "10.0",
         "10.0",
         "29.0",
         "5.0",
         "23.0",
         "0.0",
         "6.0",
         "3.0",
         "18.0",
         "56.0",
         "5.0",
         "6.0",
         "4.0",
         "4.0",
         "24.0",
         "13.0",
         "1.0",
         "7.0",
         "7.0",
         "2.0",
         "5.0",
         "53.0",
         "0.0",
         "7.0",
         "102.0",
         "3.0",
         "4.0",
         "324.0",
         "12.0",
         "1.0",
         "6.0",
         "0.0",
         "3.0",
         "375",
         "13.0",
         "2.0",
         "8.0",
         "18.0",
         "6.0",
         "22.0",
         "6.0",
         "4.0",
         "1.0",
         "9.0",
         "11.0",
         "0.0",
         "6.0",
         "3.0",
         "8",
         "9.0",
         "0.0",
         "30.0",
         "70",
         "1.0",
         "10.0",
         "29.0",
         "280.0",
         "82.0",
         "176.0",
         "178.0",
         "53.0",
         "160.0",
         "27.0",
         "52.0",
         "22.0",
         "30.0",
         "57.0",
         "27",
         "137",
         "3.0",
         "7.0",
         "12.0",
         "18.0",
         "1.0",
         "7.0",
         "4.0",
         "4.0",
         "1.0",
         "31.0",
         "15.0",
         "6.0",
         "1.0",
         "14.0",
         "14.0",
         "4.0",
         "25.0",
         "2.0",
         "12.0",
         "3.0",
         "3.0",
         "2.0",
         "11.0",
         "11.0",
         "12.0",
         "7.0",
         "19.0",
         "0.0",
         "3.0",
         "5",
         "9.0",
         "15.0",
         "6.0",
         "6.0",
         "3.0",
         "4.0",
         "14.0",
         "25.0",
         "16.0",
         "16.0",
         "52.0",
         "5.0",
         "5.0",
         "5.0",
         "8.0",
         "28.0",
         "2.0",
         "6.0",
         "11.0",
         "11.0",
         "7.0",
         "3.0",
         "10.0",
         "6.0",
         "26.0",
         "0.0",
         "12.0",
         "1.0",
         "23.0",
         "1.0",
         "4.0",
         "13.0",
         "38.0",
         "6.0",
         "19.0",
         "7.0",
         "4.0",
         "7.0",
         "4.0",
         "17.0",
         "5.0",
         "10.0",
         "12.0",
         "10",
         "12.0",
         "4.0",
         "4.0",
         "5.0",
         "16.0",
         "0.0",
         "1.0",
         "3.0",
         "7.0",
         "1.0",
         "9.0",
         "4.0",
         "8.0",
         "0.0",
         "1.0",
         "4.0",
         "5.0",
         "7.0",
         "3.0",
         "21.0",
         "2.0",
         "2.0",
         "3.0",
         "1.0",
         "2.0",
         "8.0",
         "6.0",
         "13.0",
         "8.0",
         "9.0",
         "26.0",
         "4.0",
         "22.0",
         "2.0",
         "3.0",
         "2.0",
         "14.0",
         "17.0",
         "11.0",
         "29.0",
         "3.0",
         "15.0",
         "38.0",
         "10.0",
         "6.0",
         "3.0",
         "3.0",
         "8.0",
         "2.0",
         "9.0",
         "5.0",
         "6.0",
         "8.0",
         "13.0",
         "2.0",
         "11.0",
         "1.0",
         "2.0",
         "9.0",
         "0.0",
         "3.0",
         "12.0",
         "7.0",
         "5.0",
         "32.0",
         "13.0",
         "0.0",
         "6.0",
         "2.0",
         "4.0",
         "3.0",
         "2.0",
         "1.0",
         "15.0",
         "3.0",
         "8.0",
         "2.0",
         "13.0",
         "2.0",
         "4.0",
         "4.0",
         "2.0",
         "4.0",
         "3.0",
         "1.0",
         "1.0"
        ],
        [
         "0x10f6f2b97f3ab29583d9d38babf2994df7220c21",
         "1",
         "0",
         "1",
         "735",
         "213",
         "122.0",
         "159.0",
         "81.0",
         "19",
         "54.0",
         "721.0",
         "1046.0",
         "6.0",
         "118",
         "10.0",
         "7.0",
         "311.0",
         "415.0",
         "53.0",
         "2315.0",
         "154.0",
         "19.0",
         "54",
         "11.0",
         "113.0",
         "44.0",
         "7.0",
         "11.0",
         "9.0",
         "9.0",
         "12.0",
         "8.0",
         "14.0",
         "7.0",
         "13.0",
         "10.0",
         "34.0",
         "3.0",
         "28.0",
         "60.0",
         "4.0",
         "6.0",
         "9.0",
         "13.0",
         "45.0",
         "6.0",
         "7.0",
         "12.0",
         "11.0",
         "9.0",
         "12.0",
         "58.0",
         "11.0",
         "12.0",
         "180.0",
         "7.0",
         "15.0",
         "515.0",
         "7.0",
         "3.0",
         "6.0",
         "11.0",
         "1.0",
         "537",
         "13.0",
         "5.0",
         "10.0",
         "3.0",
         "8.0",
         "34.0",
         "6.0",
         "7.0",
         "1.0",
         "5.0",
         "32.0",
         "2.0",
         "12.0",
         "9.0",
         "5",
         "8.0",
         "1.0",
         "25.0",
         "114",
         "4.0",
         "13.0",
         "62.0",
         "416.0",
         "106.0",
         "255.0",
         "258.0",
         "104.0",
         "214.0",
         "12.0",
         "20.0",
         "39.0",
         "18.0",
         "73.0",
         "22",
         "135",
         "3.0",
         "4.0",
         "7.0",
         "17.0",
         "1.0",
         "15.0",
         "4.0",
         "2.0",
         "4.0",
         "6.0",
         "5.0",
         "9.0",
         "2.0",
         "7.0",
         "21.0",
         "5.0",
         "53.0",
         "5.0",
         "6.0",
         "13.0",
         "1.0",
         "3.0",
         "3.0",
         "18.0",
         "23.0",
         "3.0",
         "25.0",
         "2.0",
         "2.0",
         "11",
         "10.0",
         "18.0",
         "4.0",
         "7.0",
         "3.0",
         "8.0",
         "1.0",
         "22.0",
         "5.0",
         "16.0",
         "49.0",
         "2.0",
         "6.0",
         "2.0",
         "2.0",
         "10.0",
         "5.0",
         "4.0",
         "6.0",
         "9.0",
         "14.0",
         "3.0",
         "37.0",
         "9.0",
         "46.0",
         "8.0",
         "14.0",
         "2.0",
         "30.0",
         "13.0",
         "2.0",
         "11.0",
         "27.0",
         "13.0",
         "12.0",
         "6.0",
         "5.0",
         "8.0",
         "27.0",
         "9.0",
         "9.0",
         "6.0",
         "30.0",
         "22",
         "20.0",
         "6.0",
         "13.0",
         "2.0",
         "12.0",
         "8.0",
         "8.0",
         "5.0",
         "12.0",
         "3.0",
         "16.0",
         "22.0",
         "1.0",
         "2.0",
         "7.0",
         "3.0",
         "26.0",
         "9.0",
         "9.0",
         "5.0",
         "3.0",
         "5.0",
         "7.0",
         "4.0",
         "18.0",
         "3.0",
         "11.0",
         "3.0",
         "3.0",
         "12.0",
         "3.0",
         "9.0",
         "4.0",
         "4.0",
         "3.0",
         "3.0",
         "3.0",
         "23.0",
         "31.0",
         "41.0",
         "10.0",
         "3.0",
         "11.0",
         "2.0",
         "14.0",
         "0.0",
         "3.0",
         "0.0",
         "23.0",
         "13.0",
         "28.0",
         "4.0",
         "44.0",
         "2.0",
         "3.0",
         "2.0",
         "0.0",
         "3.0",
         "2.0",
         "2.0",
         "26.0",
         "18.0",
         "8.0",
         "3.0",
         "8.0",
         "4.0",
         "1.0",
         "1.0",
         "5.0",
         "20.0",
         "7.0",
         "8.0",
         "3.0",
         "0.0",
         "6.0",
         "5.0",
         "3.0",
         "0.0",
         "18.0",
         "2.0",
         "11.0",
         "3.0",
         "2.0",
         "0.0",
         "19.0",
         "4.0"
        ]
       ],
       "shape": {
        "columns": 259,
        "rows": 5
       }
      },
      "text/html": [
       "<div>\n",
       "<style scoped>\n",
       "    .dataframe tbody tr th:only-of-type {\n",
       "        vertical-align: middle;\n",
       "    }\n",
       "\n",
       "    .dataframe tbody tr th {\n",
       "        vertical-align: top;\n",
       "    }\n",
       "\n",
       "    .dataframe thead th {\n",
       "        text-align: right;\n",
       "    }\n",
       "</style>\n",
       "<table border=\"1\" class=\"dataframe\">\n",
       "  <thead>\n",
       "    <tr style=\"text-align: right;\">\n",
       "      <th></th>\n",
       "      <th>mint</th>\n",
       "      <th>leak</th>\n",
       "      <th>limit</th>\n",
       "      <th>60</th>\n",
       "      <th>80</th>\n",
       "      <th>40</th>\n",
       "      <th>52</th>\n",
       "      <th>04</th>\n",
       "      <th>36</th>\n",
       "      <th>10</th>\n",
       "      <th>...</th>\n",
       "      <th>f6</th>\n",
       "      <th>3f</th>\n",
       "      <th>d4</th>\n",
       "      <th>e7</th>\n",
       "      <th>be</th>\n",
       "      <th>f0</th>\n",
       "      <th>e4</th>\n",
       "      <th>7e</th>\n",
       "      <th>27</th>\n",
       "      <th>9e</th>\n",
       "    </tr>\n",
       "    <tr>\n",
       "      <th>address</th>\n",
       "      <th></th>\n",
       "      <th></th>\n",
       "      <th></th>\n",
       "      <th></th>\n",
       "      <th></th>\n",
       "      <th></th>\n",
       "      <th></th>\n",
       "      <th></th>\n",
       "      <th></th>\n",
       "      <th></th>\n",
       "      <th></th>\n",
       "      <th></th>\n",
       "      <th></th>\n",
       "      <th></th>\n",
       "      <th></th>\n",
       "      <th></th>\n",
       "      <th></th>\n",
       "      <th></th>\n",
       "      <th></th>\n",
       "      <th></th>\n",
       "      <th></th>\n",
       "    </tr>\n",
       "  </thead>\n",
       "  <tbody>\n",
       "    <tr>\n",
       "      <th>0x93023f1d3525e273f291b6f76d2f5027a39bf302</th>\n",
       "      <td>1</td>\n",
       "      <td>0</td>\n",
       "      <td>1</td>\n",
       "      <td>410</td>\n",
       "      <td>84</td>\n",
       "      <td>55.0</td>\n",
       "      <td>134.0</td>\n",
       "      <td>73.0</td>\n",
       "      <td>15</td>\n",
       "      <td>11.0</td>\n",
       "      <td>...</td>\n",
       "      <td>0.0</td>\n",
       "      <td>8.0</td>\n",
       "      <td>0.0</td>\n",
       "      <td>1.0</td>\n",
       "      <td>0.0</td>\n",
       "      <td>2.0</td>\n",
       "      <td>2.0</td>\n",
       "      <td>0.0</td>\n",
       "      <td>2.0</td>\n",
       "      <td>1.0</td>\n",
       "    </tr>\n",
       "    <tr>\n",
       "      <th>0x2753dce37a7edb052a77832039bcc9aa49ad8b25</th>\n",
       "      <td>0</td>\n",
       "      <td>0</td>\n",
       "      <td>1</td>\n",
       "      <td>668</td>\n",
       "      <td>123</td>\n",
       "      <td>79.0</td>\n",
       "      <td>188.0</td>\n",
       "      <td>85.0</td>\n",
       "      <td>25</td>\n",
       "      <td>22.0</td>\n",
       "      <td>...</td>\n",
       "      <td>4.0</td>\n",
       "      <td>3.0</td>\n",
       "      <td>2.0</td>\n",
       "      <td>2.0</td>\n",
       "      <td>2.0</td>\n",
       "      <td>3.0</td>\n",
       "      <td>2.0</td>\n",
       "      <td>2.0</td>\n",
       "      <td>1.0</td>\n",
       "      <td>0.0</td>\n",
       "    </tr>\n",
       "    <tr>\n",
       "      <th>0x94b7d24552933f50a5a5705c446528806dcea381</th>\n",
       "      <td>0</td>\n",
       "      <td>0</td>\n",
       "      <td>0</td>\n",
       "      <td>17</td>\n",
       "      <td>6</td>\n",
       "      <td>1.0</td>\n",
       "      <td>3.0</td>\n",
       "      <td>0.0</td>\n",
       "      <td>2</td>\n",
       "      <td>0.0</td>\n",
       "      <td>...</td>\n",
       "      <td>0.0</td>\n",
       "      <td>0.0</td>\n",
       "      <td>0.0</td>\n",
       "      <td>0.0</td>\n",
       "      <td>0.0</td>\n",
       "      <td>0.0</td>\n",
       "      <td>0.0</td>\n",
       "      <td>0.0</td>\n",
       "      <td>0.0</td>\n",
       "      <td>0.0</td>\n",
       "    </tr>\n",
       "    <tr>\n",
       "      <th>0xe0b9d4146aad6936cbfcbe4dae47e34aab96b093</th>\n",
       "      <td>0</td>\n",
       "      <td>0</td>\n",
       "      <td>0</td>\n",
       "      <td>505</td>\n",
       "      <td>163</td>\n",
       "      <td>100.0</td>\n",
       "      <td>132.0</td>\n",
       "      <td>48.0</td>\n",
       "      <td>12</td>\n",
       "      <td>17.0</td>\n",
       "      <td>...</td>\n",
       "      <td>2.0</td>\n",
       "      <td>13.0</td>\n",
       "      <td>2.0</td>\n",
       "      <td>4.0</td>\n",
       "      <td>4.0</td>\n",
       "      <td>2.0</td>\n",
       "      <td>4.0</td>\n",
       "      <td>3.0</td>\n",
       "      <td>1.0</td>\n",
       "      <td>1.0</td>\n",
       "    </tr>\n",
       "    <tr>\n",
       "      <th>0x10f6f2b97f3ab29583d9d38babf2994df7220c21</th>\n",
       "      <td>1</td>\n",
       "      <td>0</td>\n",
       "      <td>1</td>\n",
       "      <td>735</td>\n",
       "      <td>213</td>\n",
       "      <td>122.0</td>\n",
       "      <td>159.0</td>\n",
       "      <td>81.0</td>\n",
       "      <td>19</td>\n",
       "      <td>54.0</td>\n",
       "      <td>...</td>\n",
       "      <td>3.0</td>\n",
       "      <td>0.0</td>\n",
       "      <td>18.0</td>\n",
       "      <td>2.0</td>\n",
       "      <td>11.0</td>\n",
       "      <td>3.0</td>\n",
       "      <td>2.0</td>\n",
       "      <td>0.0</td>\n",
       "      <td>19.0</td>\n",
       "      <td>4.0</td>\n",
       "    </tr>\n",
       "  </tbody>\n",
       "</table>\n",
       "<p>5 rows × 259 columns</p>\n",
       "</div>"
      ],
      "text/plain": [
       "                                            mint  leak  limit   60   80  \\\n",
       "address                                                                   \n",
       "0x93023f1d3525e273f291b6f76d2f5027a39bf302     1     0      1  410   84   \n",
       "0x2753dce37a7edb052a77832039bcc9aa49ad8b25     0     0      1  668  123   \n",
       "0x94b7d24552933f50a5a5705c446528806dcea381     0     0      0   17    6   \n",
       "0xe0b9d4146aad6936cbfcbe4dae47e34aab96b093     0     0      0  505  163   \n",
       "0x10f6f2b97f3ab29583d9d38babf2994df7220c21     1     0      1  735  213   \n",
       "\n",
       "                                               40     52    04  36    10  ...  \\\n",
       "address                                                                   ...   \n",
       "0x93023f1d3525e273f291b6f76d2f5027a39bf302   55.0  134.0  73.0  15  11.0  ...   \n",
       "0x2753dce37a7edb052a77832039bcc9aa49ad8b25   79.0  188.0  85.0  25  22.0  ...   \n",
       "0x94b7d24552933f50a5a5705c446528806dcea381    1.0    3.0   0.0   2   0.0  ...   \n",
       "0xe0b9d4146aad6936cbfcbe4dae47e34aab96b093  100.0  132.0  48.0  12  17.0  ...   \n",
       "0x10f6f2b97f3ab29583d9d38babf2994df7220c21  122.0  159.0  81.0  19  54.0  ...   \n",
       "\n",
       "                                             f6    3f    d4   e7    be   f0  \\\n",
       "address                                                                       \n",
       "0x93023f1d3525e273f291b6f76d2f5027a39bf302  0.0   8.0   0.0  1.0   0.0  2.0   \n",
       "0x2753dce37a7edb052a77832039bcc9aa49ad8b25  4.0   3.0   2.0  2.0   2.0  3.0   \n",
       "0x94b7d24552933f50a5a5705c446528806dcea381  0.0   0.0   0.0  0.0   0.0  0.0   \n",
       "0xe0b9d4146aad6936cbfcbe4dae47e34aab96b093  2.0  13.0   2.0  4.0   4.0  2.0   \n",
       "0x10f6f2b97f3ab29583d9d38babf2994df7220c21  3.0   0.0  18.0  2.0  11.0  3.0   \n",
       "\n",
       "                                             e4   7e    27   9e  \n",
       "address                                                          \n",
       "0x93023f1d3525e273f291b6f76d2f5027a39bf302  2.0  0.0   2.0  1.0  \n",
       "0x2753dce37a7edb052a77832039bcc9aa49ad8b25  2.0  2.0   1.0  0.0  \n",
       "0x94b7d24552933f50a5a5705c446528806dcea381  0.0  0.0   0.0  0.0  \n",
       "0xe0b9d4146aad6936cbfcbe4dae47e34aab96b093  4.0  3.0   1.0  1.0  \n",
       "0x10f6f2b97f3ab29583d9d38babf2994df7220c21  2.0  0.0  19.0  4.0  \n",
       "\n",
       "[5 rows x 259 columns]"
      ]
     },
     "execution_count": 14,
     "metadata": {},
     "output_type": "execute_result"
    }
   ],
   "source": [
    "df = df.merge(feature_df, left_index=True, right_index=True)\n",
    "df.select_dtypes(float).fillna(0).astype(int)\n",
    "df.head()"
   ]
  },
  {
   "cell_type": "code",
   "execution_count": 15,
   "id": "e424610d",
   "metadata": {},
   "outputs": [],
   "source": [
    "df.to_csv(os.path.join(PRO_PATH, 'dataset.csv'))"
   ]
  }
 ],
 "metadata": {
  "kernelspec": {
   "display_name": "ml-algo",
   "language": "python",
   "name": "python3"
  },
  "language_info": {
   "codemirror_mode": {
    "name": "ipython",
    "version": 3
   },
   "file_extension": ".py",
   "mimetype": "text/x-python",
   "name": "python",
   "nbconvert_exporter": "python",
   "pygments_lexer": "ipython3",
   "version": "3.12.7"
  }
 },
 "nbformat": 4,
 "nbformat_minor": 5
}
