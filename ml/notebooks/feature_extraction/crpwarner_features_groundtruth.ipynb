{
 "cells": [
  {
   "cell_type": "markdown",
   "id": "9372e8c4",
   "metadata": {},
   "source": [
    "# Feature Extraction -- CRPWarner Ground Truth"
   ]
  },
  {
   "cell_type": "markdown",
   "id": "5cd83ad5",
   "metadata": {},
   "source": [
    "## Import and set up variable"
   ]
  },
  {
   "cell_type": "code",
   "execution_count": 1,
   "id": "5dfc77e6",
   "metadata": {},
   "outputs": [],
   "source": [
    "import pandas as pd\n",
    "import os\n",
    "from pathlib import Path\n",
    "from tqdm import tqdm\n",
    "\n",
    "from utils.main import extract_opcodes, get_opcode_freq, build_feature_df"
   ]
  },
  {
   "cell_type": "code",
   "execution_count": 2,
   "id": "d865af4f",
   "metadata": {},
   "outputs": [],
   "source": [
    "PATH = Path.cwd().parents[1]\n",
    "NAME = 'crpwarner'\n",
    "LEVEL = 'groundtruth'\n",
    "DATA_PATH = os.path.join(PATH, 'data')\n",
    "IN_PATH = os.path.join(DATA_PATH, f'interim/{NAME}')\n",
    "EXT_PATH = os.path.join(DATA_PATH, f'external/{NAME}/{LEVEL}')\n",
    "HEX_PATH = os.path.join(EXT_PATH, 'hex')\n",
    "SOL_PATH = os.path.join(EXT_PATH, 'sol')"
   ]
  },
  {
   "cell_type": "markdown",
   "id": "ca9c3a69",
   "metadata": {},
   "source": [
    "## Load Data"
   ]
  },
  {
   "cell_type": "code",
   "execution_count": 3,
   "id": "7578aba5",
   "metadata": {},
   "outputs": [
    {
     "data": {
      "text/plain": [
       "(69, 72)"
      ]
     },
     "execution_count": 3,
     "metadata": {},
     "output_type": "execute_result"
    }
   ],
   "source": [
    "df = pd.read_csv(os.path.join(IN_PATH, 'dataset-modified.csv'))\n",
    "hex_files = [f for f in os.listdir(HEX_PATH)]\n",
    "\n",
    "len(df), len(hex_files)"
   ]
  },
  {
   "cell_type": "markdown",
   "id": "f699d231",
   "metadata": {},
   "source": [
    "## Bytecode"
   ]
  },
  {
   "cell_type": "markdown",
   "id": "695562dd",
   "metadata": {},
   "source": [
    "### Opcode Frequency"
   ]
  },
  {
   "cell_type": "markdown",
   "id": "a8ae9ed3",
   "metadata": {},
   "source": [
    "#### Extract Opcode Frequency"
   ]
  },
  {
   "cell_type": "code",
   "execution_count": 4,
   "id": "f9386c37",
   "metadata": {},
   "outputs": [
    {
     "name": "stderr",
     "output_type": "stream",
     "text": [
      "  0%|          | 0/72 [00:00<?, ?it/s]invalid instruction: PUSH30\n",
      "  4%|▍         | 3/72 [00:00<00:02, 29.48it/s]invalid instruction: PUSH16\n",
      "  8%|▊         | 6/72 [00:00<00:02, 22.87it/s]invalid instruction: PUSH30\n",
      "invalid instruction: PUSH24\n",
      "invalid instruction: PUSH30\n",
      " 12%|█▎        | 9/72 [00:00<00:03, 19.16it/s]invalid instruction: PUSH16\n",
      "invalid instruction: PUSH15\n",
      " 19%|█▉        | 14/72 [00:00<00:02, 27.20it/s]invalid instruction: PUSH13\n",
      "invalid instruction: PUSH31\n",
      " 24%|██▎       | 17/72 [00:00<00:02, 26.72it/s]invalid instruction: PUSH25\n",
      " 32%|███▏      | 23/72 [00:00<00:02, 24.34it/s]invalid instruction: PUSH16\n",
      "invalid instruction: PUSH13\n",
      "invalid instruction: PUSH25\n",
      " 36%|███▌      | 26/72 [00:01<00:02, 21.29it/s]invalid instruction: PUSH21\n",
      "invalid instruction: PUSH16\n",
      " 40%|████      | 29/72 [00:01<00:01, 22.34it/s]invalid instruction: PUSH15\n",
      " 54%|█████▍    | 39/72 [00:01<00:01, 26.86it/s]invalid instruction: PUSH19\n",
      "invalid instruction: PUSH29\n",
      " 60%|█████▉    | 43/72 [00:01<00:01, 27.24it/s]invalid instruction: PUSH29\n",
      "invalid instruction: PUSH26\n",
      " 64%|██████▍   | 46/72 [00:01<00:01, 23.41it/s]invalid instruction: PUSH20\n",
      " 68%|██████▊   | 49/72 [00:01<00:00, 23.45it/s]invalid instruction: PUSH17\n",
      "invalid instruction: PUSH16\n",
      " 72%|███████▏  | 52/72 [00:02<00:00, 20.90it/s]invalid instruction: PUSH20\n",
      "invalid instruction: PUSH13\n",
      " 86%|████████▌ | 62/72 [00:02<00:00, 26.25it/s]invalid instruction: PUSH13\n",
      "invalid instruction: PUSH13\n",
      " 90%|█████████ | 65/72 [00:02<00:00, 19.06it/s]invalid instruction: PUSH24\n",
      "invalid instruction: PUSH27\n",
      " 97%|█████████▋| 70/72 [00:02<00:00, 24.57it/s]invalid instruction: PUSH32\n",
      "invalid instruction: PUSH29\n",
      "100%|██████████| 72/72 [00:02<00:00, 24.50it/s]\n"
     ]
    }
   ],
   "source": [
    "opcode_counters = []\n",
    "addresses = []\n",
    "\n",
    "for filename in tqdm(hex_files):\n",
    "    with open(os.path.join(HEX_PATH, filename)) as f:\n",
    "        hex_code = f.read().strip()\n",
    "    opcodes = extract_opcodes(hex_code)\n",
    "    counter = get_opcode_freq(opcodes)\n",
    "    opcode_counters.append(counter)\n",
    "    addresses.append(filename.replace(\".hex\", \"\"))\n",
    "\n",
    "df_opcode = build_feature_df(opcode_counters, addresses)"
   ]
  },
  {
   "cell_type": "markdown",
   "id": "0d9268fe",
   "metadata": {},
   "source": [
    "#### Convert to DataFrame"
   ]
  },
  {
   "cell_type": "code",
   "execution_count": 5,
   "id": "cae613ba",
   "metadata": {},
   "outputs": [],
   "source": [
    "df = build_feature_df(opcode_counters, addresses)"
   ]
  },
  {
   "cell_type": "code",
   "execution_count": 6,
   "id": "f79026ba",
   "metadata": {},
   "outputs": [
    {
     "data": {
      "application/vnd.microsoft.datawrangler.viewer.v0+json": {
       "columns": [
        {
         "name": "index",
         "rawType": "int64",
         "type": "integer"
        },
        {
         "name": "ADD",
         "rawType": "int64",
         "type": "integer"
        },
        {
         "name": "ADDMOD",
         "rawType": "int64",
         "type": "integer"
        },
        {
         "name": "ADDRESS",
         "rawType": "int64",
         "type": "integer"
        },
        {
         "name": "AND",
         "rawType": "int64",
         "type": "integer"
        },
        {
         "name": "BALANCE",
         "rawType": "int64",
         "type": "integer"
        },
        {
         "name": "BASEFEE",
         "rawType": "int64",
         "type": "integer"
        },
        {
         "name": "BLOCKHASH",
         "rawType": "int64",
         "type": "integer"
        },
        {
         "name": "BYTE",
         "rawType": "int64",
         "type": "integer"
        },
        {
         "name": "CALL",
         "rawType": "int64",
         "type": "integer"
        },
        {
         "name": "CALLCODE",
         "rawType": "int64",
         "type": "integer"
        },
        {
         "name": "CALLDATACOPY",
         "rawType": "int64",
         "type": "integer"
        },
        {
         "name": "CALLDATALOAD",
         "rawType": "int64",
         "type": "integer"
        },
        {
         "name": "CALLDATASIZE",
         "rawType": "int64",
         "type": "integer"
        },
        {
         "name": "CALLER",
         "rawType": "int64",
         "type": "integer"
        },
        {
         "name": "CALLVALUE",
         "rawType": "int64",
         "type": "integer"
        },
        {
         "name": "CHAINID",
         "rawType": "int64",
         "type": "integer"
        },
        {
         "name": "CODECOPY",
         "rawType": "int64",
         "type": "integer"
        },
        {
         "name": "CODESIZE",
         "rawType": "int64",
         "type": "integer"
        },
        {
         "name": "COINBASE",
         "rawType": "int64",
         "type": "integer"
        },
        {
         "name": "CREATE",
         "rawType": "int64",
         "type": "integer"
        },
        {
         "name": "CREATE2",
         "rawType": "int64",
         "type": "integer"
        },
        {
         "name": "DELEGATECALL",
         "rawType": "int64",
         "type": "integer"
        },
        {
         "name": "DIFFICULTY",
         "rawType": "int64",
         "type": "integer"
        },
        {
         "name": "DIV",
         "rawType": "int64",
         "type": "integer"
        },
        {
         "name": "DUP1",
         "rawType": "int64",
         "type": "integer"
        },
        {
         "name": "DUP10",
         "rawType": "int64",
         "type": "integer"
        },
        {
         "name": "DUP11",
         "rawType": "int64",
         "type": "integer"
        },
        {
         "name": "DUP12",
         "rawType": "int64",
         "type": "integer"
        },
        {
         "name": "DUP13",
         "rawType": "int64",
         "type": "integer"
        },
        {
         "name": "DUP14",
         "rawType": "int64",
         "type": "integer"
        },
        {
         "name": "DUP15",
         "rawType": "int64",
         "type": "integer"
        },
        {
         "name": "DUP16",
         "rawType": "int64",
         "type": "integer"
        },
        {
         "name": "DUP2",
         "rawType": "int64",
         "type": "integer"
        },
        {
         "name": "DUP3",
         "rawType": "int64",
         "type": "integer"
        },
        {
         "name": "DUP4",
         "rawType": "int64",
         "type": "integer"
        },
        {
         "name": "DUP5",
         "rawType": "int64",
         "type": "integer"
        },
        {
         "name": "DUP6",
         "rawType": "int64",
         "type": "integer"
        },
        {
         "name": "DUP7",
         "rawType": "int64",
         "type": "integer"
        },
        {
         "name": "DUP8",
         "rawType": "int64",
         "type": "integer"
        },
        {
         "name": "DUP9",
         "rawType": "int64",
         "type": "integer"
        },
        {
         "name": "EQ",
         "rawType": "int64",
         "type": "integer"
        },
        {
         "name": "EXP",
         "rawType": "int64",
         "type": "integer"
        },
        {
         "name": "EXTCODECOPY",
         "rawType": "int64",
         "type": "integer"
        },
        {
         "name": "EXTCODEHASH",
         "rawType": "int64",
         "type": "integer"
        },
        {
         "name": "EXTCODESIZE",
         "rawType": "int64",
         "type": "integer"
        },
        {
         "name": "GAS",
         "rawType": "int64",
         "type": "integer"
        },
        {
         "name": "GASLIMIT",
         "rawType": "int64",
         "type": "integer"
        },
        {
         "name": "GASPRICE",
         "rawType": "int64",
         "type": "integer"
        },
        {
         "name": "GT",
         "rawType": "int64",
         "type": "integer"
        },
        {
         "name": "INVALID_0x6c",
         "rawType": "int64",
         "type": "integer"
        },
        {
         "name": "INVALID_0x6e",
         "rawType": "int64",
         "type": "integer"
        },
        {
         "name": "INVALID_0x6f",
         "rawType": "int64",
         "type": "integer"
        },
        {
         "name": "INVALID_0x70",
         "rawType": "int64",
         "type": "integer"
        },
        {
         "name": "INVALID_0x72",
         "rawType": "int64",
         "type": "integer"
        },
        {
         "name": "INVALID_0x73",
         "rawType": "int64",
         "type": "integer"
        },
        {
         "name": "INVALID_0x74",
         "rawType": "int64",
         "type": "integer"
        },
        {
         "name": "INVALID_0x77",
         "rawType": "int64",
         "type": "integer"
        },
        {
         "name": "INVALID_0x78",
         "rawType": "int64",
         "type": "integer"
        },
        {
         "name": "INVALID_0x79",
         "rawType": "int64",
         "type": "integer"
        },
        {
         "name": "INVALID_0x7a",
         "rawType": "int64",
         "type": "integer"
        },
        {
         "name": "INVALID_0x7c",
         "rawType": "int64",
         "type": "integer"
        },
        {
         "name": "INVALID_0x7d",
         "rawType": "int64",
         "type": "integer"
        },
        {
         "name": "INVALID_0x7e",
         "rawType": "int64",
         "type": "integer"
        },
        {
         "name": "INVALID_0x7f",
         "rawType": "int64",
         "type": "integer"
        },
        {
         "name": "ISZERO",
         "rawType": "int64",
         "type": "integer"
        },
        {
         "name": "JUMP",
         "rawType": "int64",
         "type": "integer"
        },
        {
         "name": "JUMPDEST",
         "rawType": "int64",
         "type": "integer"
        },
        {
         "name": "JUMPI",
         "rawType": "int64",
         "type": "integer"
        },
        {
         "name": "LOG0",
         "rawType": "int64",
         "type": "integer"
        },
        {
         "name": "LOG1",
         "rawType": "int64",
         "type": "integer"
        },
        {
         "name": "LOG2",
         "rawType": "int64",
         "type": "integer"
        },
        {
         "name": "LOG3",
         "rawType": "int64",
         "type": "integer"
        },
        {
         "name": "LOG4",
         "rawType": "int64",
         "type": "integer"
        },
        {
         "name": "LT",
         "rawType": "int64",
         "type": "integer"
        },
        {
         "name": "MLOAD",
         "rawType": "int64",
         "type": "integer"
        },
        {
         "name": "MOD",
         "rawType": "int64",
         "type": "integer"
        },
        {
         "name": "MSIZE",
         "rawType": "int64",
         "type": "integer"
        },
        {
         "name": "MSTORE",
         "rawType": "int64",
         "type": "integer"
        },
        {
         "name": "MSTORE8",
         "rawType": "int64",
         "type": "integer"
        },
        {
         "name": "MUL",
         "rawType": "int64",
         "type": "integer"
        },
        {
         "name": "MULMOD",
         "rawType": "int64",
         "type": "integer"
        },
        {
         "name": "NOT",
         "rawType": "int64",
         "type": "integer"
        },
        {
         "name": "NUMBER",
         "rawType": "int64",
         "type": "integer"
        },
        {
         "name": "OR",
         "rawType": "int64",
         "type": "integer"
        },
        {
         "name": "ORIGIN",
         "rawType": "int64",
         "type": "integer"
        },
        {
         "name": "PC",
         "rawType": "int64",
         "type": "integer"
        },
        {
         "name": "POP",
         "rawType": "int64",
         "type": "integer"
        },
        {
         "name": "PUSH1",
         "rawType": "int64",
         "type": "integer"
        },
        {
         "name": "PUSH10",
         "rawType": "int64",
         "type": "integer"
        },
        {
         "name": "PUSH11",
         "rawType": "int64",
         "type": "integer"
        },
        {
         "name": "PUSH12",
         "rawType": "int64",
         "type": "integer"
        },
        {
         "name": "PUSH13",
         "rawType": "int64",
         "type": "integer"
        },
        {
         "name": "PUSH14",
         "rawType": "int64",
         "type": "integer"
        },
        {
         "name": "PUSH15",
         "rawType": "int64",
         "type": "integer"
        },
        {
         "name": "PUSH16",
         "rawType": "int64",
         "type": "integer"
        },
        {
         "name": "PUSH17",
         "rawType": "int64",
         "type": "integer"
        },
        {
         "name": "PUSH18",
         "rawType": "int64",
         "type": "integer"
        },
        {
         "name": "PUSH19",
         "rawType": "int64",
         "type": "integer"
        },
        {
         "name": "PUSH2",
         "rawType": "int64",
         "type": "integer"
        },
        {
         "name": "PUSH20",
         "rawType": "int64",
         "type": "integer"
        },
        {
         "name": "PUSH21",
         "rawType": "int64",
         "type": "integer"
        },
        {
         "name": "PUSH22",
         "rawType": "int64",
         "type": "integer"
        },
        {
         "name": "PUSH23",
         "rawType": "int64",
         "type": "integer"
        },
        {
         "name": "PUSH24",
         "rawType": "int64",
         "type": "integer"
        },
        {
         "name": "PUSH25",
         "rawType": "int64",
         "type": "integer"
        },
        {
         "name": "PUSH26",
         "rawType": "int64",
         "type": "integer"
        },
        {
         "name": "PUSH27",
         "rawType": "int64",
         "type": "integer"
        },
        {
         "name": "PUSH28",
         "rawType": "int64",
         "type": "integer"
        },
        {
         "name": "PUSH29",
         "rawType": "int64",
         "type": "integer"
        },
        {
         "name": "PUSH3",
         "rawType": "int64",
         "type": "integer"
        },
        {
         "name": "PUSH30",
         "rawType": "int64",
         "type": "integer"
        },
        {
         "name": "PUSH32",
         "rawType": "int64",
         "type": "integer"
        },
        {
         "name": "PUSH4",
         "rawType": "int64",
         "type": "integer"
        },
        {
         "name": "PUSH5",
         "rawType": "int64",
         "type": "integer"
        },
        {
         "name": "PUSH6",
         "rawType": "int64",
         "type": "integer"
        },
        {
         "name": "PUSH7",
         "rawType": "int64",
         "type": "integer"
        },
        {
         "name": "PUSH8",
         "rawType": "int64",
         "type": "integer"
        },
        {
         "name": "PUSH9",
         "rawType": "int64",
         "type": "integer"
        },
        {
         "name": "RETURN",
         "rawType": "int64",
         "type": "integer"
        },
        {
         "name": "RETURNDATACOPY",
         "rawType": "int64",
         "type": "integer"
        },
        {
         "name": "RETURNDATASIZE",
         "rawType": "int64",
         "type": "integer"
        },
        {
         "name": "REVERT",
         "rawType": "int64",
         "type": "integer"
        },
        {
         "name": "SAR",
         "rawType": "int64",
         "type": "integer"
        },
        {
         "name": "SDIV",
         "rawType": "int64",
         "type": "integer"
        },
        {
         "name": "SELFBALANCE",
         "rawType": "int64",
         "type": "integer"
        },
        {
         "name": "SELFDESTRUCT",
         "rawType": "int64",
         "type": "integer"
        },
        {
         "name": "SGT",
         "rawType": "int64",
         "type": "integer"
        },
        {
         "name": "SHA3",
         "rawType": "int64",
         "type": "integer"
        },
        {
         "name": "SHL",
         "rawType": "int64",
         "type": "integer"
        },
        {
         "name": "SHR",
         "rawType": "int64",
         "type": "integer"
        },
        {
         "name": "SIGNEXTEND",
         "rawType": "int64",
         "type": "integer"
        },
        {
         "name": "SLOAD",
         "rawType": "int64",
         "type": "integer"
        },
        {
         "name": "SLT",
         "rawType": "int64",
         "type": "integer"
        },
        {
         "name": "SMOD",
         "rawType": "int64",
         "type": "integer"
        },
        {
         "name": "SSTORE",
         "rawType": "int64",
         "type": "integer"
        },
        {
         "name": "STATICCALL",
         "rawType": "int64",
         "type": "integer"
        },
        {
         "name": "STOP",
         "rawType": "int64",
         "type": "integer"
        },
        {
         "name": "SUB",
         "rawType": "int64",
         "type": "integer"
        },
        {
         "name": "SWAP1",
         "rawType": "int64",
         "type": "integer"
        },
        {
         "name": "SWAP10",
         "rawType": "int64",
         "type": "integer"
        },
        {
         "name": "SWAP11",
         "rawType": "int64",
         "type": "integer"
        },
        {
         "name": "SWAP12",
         "rawType": "int64",
         "type": "integer"
        },
        {
         "name": "SWAP13",
         "rawType": "int64",
         "type": "integer"
        },
        {
         "name": "SWAP14",
         "rawType": "int64",
         "type": "integer"
        },
        {
         "name": "SWAP15",
         "rawType": "int64",
         "type": "integer"
        },
        {
         "name": "SWAP16",
         "rawType": "int64",
         "type": "integer"
        },
        {
         "name": "SWAP2",
         "rawType": "int64",
         "type": "integer"
        },
        {
         "name": "SWAP3",
         "rawType": "int64",
         "type": "integer"
        },
        {
         "name": "SWAP4",
         "rawType": "int64",
         "type": "integer"
        },
        {
         "name": "SWAP5",
         "rawType": "int64",
         "type": "integer"
        },
        {
         "name": "SWAP6",
         "rawType": "int64",
         "type": "integer"
        },
        {
         "name": "SWAP7",
         "rawType": "int64",
         "type": "integer"
        },
        {
         "name": "SWAP8",
         "rawType": "int64",
         "type": "integer"
        },
        {
         "name": "SWAP9",
         "rawType": "int64",
         "type": "integer"
        },
        {
         "name": "TIMESTAMP",
         "rawType": "int64",
         "type": "integer"
        },
        {
         "name": "UNKNOWN_0x1e",
         "rawType": "int64",
         "type": "integer"
        },
        {
         "name": "UNKNOWN_0x1f",
         "rawType": "int64",
         "type": "integer"
        },
        {
         "name": "UNKNOWN_0x21",
         "rawType": "int64",
         "type": "integer"
        },
        {
         "name": "UNKNOWN_0x22",
         "rawType": "int64",
         "type": "integer"
        },
        {
         "name": "UNKNOWN_0x23",
         "rawType": "int64",
         "type": "integer"
        },
        {
         "name": "UNKNOWN_0x24",
         "rawType": "int64",
         "type": "integer"
        },
        {
         "name": "UNKNOWN_0x25",
         "rawType": "int64",
         "type": "integer"
        },
        {
         "name": "UNKNOWN_0x26",
         "rawType": "int64",
         "type": "integer"
        },
        {
         "name": "UNKNOWN_0x27",
         "rawType": "int64",
         "type": "integer"
        },
        {
         "name": "UNKNOWN_0x28",
         "rawType": "int64",
         "type": "integer"
        },
        {
         "name": "UNKNOWN_0x29",
         "rawType": "int64",
         "type": "integer"
        },
        {
         "name": "UNKNOWN_0x2a",
         "rawType": "int64",
         "type": "integer"
        },
        {
         "name": "UNKNOWN_0x2b",
         "rawType": "int64",
         "type": "integer"
        },
        {
         "name": "UNKNOWN_0x2c",
         "rawType": "int64",
         "type": "integer"
        },
        {
         "name": "UNKNOWN_0x2d",
         "rawType": "int64",
         "type": "integer"
        },
        {
         "name": "UNKNOWN_0x2e",
         "rawType": "int64",
         "type": "integer"
        },
        {
         "name": "UNKNOWN_0x2f",
         "rawType": "int64",
         "type": "integer"
        },
        {
         "name": "UNKNOWN_0x49",
         "rawType": "int64",
         "type": "integer"
        },
        {
         "name": "UNKNOWN_0x4a",
         "rawType": "int64",
         "type": "integer"
        },
        {
         "name": "UNKNOWN_0x4b",
         "rawType": "int64",
         "type": "integer"
        },
        {
         "name": "UNKNOWN_0x4c",
         "rawType": "int64",
         "type": "integer"
        },
        {
         "name": "UNKNOWN_0x4d",
         "rawType": "int64",
         "type": "integer"
        },
        {
         "name": "UNKNOWN_0x4e",
         "rawType": "int64",
         "type": "integer"
        },
        {
         "name": "UNKNOWN_0x4f",
         "rawType": "int64",
         "type": "integer"
        },
        {
         "name": "UNKNOWN_0x5c",
         "rawType": "int64",
         "type": "integer"
        },
        {
         "name": "UNKNOWN_0x5d",
         "rawType": "int64",
         "type": "integer"
        },
        {
         "name": "UNKNOWN_0x5e",
         "rawType": "int64",
         "type": "integer"
        },
        {
         "name": "UNKNOWN_0x5f",
         "rawType": "int64",
         "type": "integer"
        },
        {
         "name": "UNKNOWN_0xa5",
         "rawType": "int64",
         "type": "integer"
        },
        {
         "name": "UNKNOWN_0xa6",
         "rawType": "int64",
         "type": "integer"
        },
        {
         "name": "UNKNOWN_0xa7",
         "rawType": "int64",
         "type": "integer"
        },
        {
         "name": "UNKNOWN_0xa9",
         "rawType": "int64",
         "type": "integer"
        },
        {
         "name": "UNKNOWN_0xaa",
         "rawType": "int64",
         "type": "integer"
        },
        {
         "name": "UNKNOWN_0xab",
         "rawType": "int64",
         "type": "integer"
        },
        {
         "name": "UNKNOWN_0xac",
         "rawType": "int64",
         "type": "integer"
        },
        {
         "name": "UNKNOWN_0xad",
         "rawType": "int64",
         "type": "integer"
        },
        {
         "name": "UNKNOWN_0xae",
         "rawType": "int64",
         "type": "integer"
        },
        {
         "name": "UNKNOWN_0xaf",
         "rawType": "int64",
         "type": "integer"
        },
        {
         "name": "UNKNOWN_0xb3",
         "rawType": "int64",
         "type": "integer"
        },
        {
         "name": "UNKNOWN_0xb4",
         "rawType": "int64",
         "type": "integer"
        },
        {
         "name": "UNKNOWN_0xb5",
         "rawType": "int64",
         "type": "integer"
        },
        {
         "name": "UNKNOWN_0xb6",
         "rawType": "int64",
         "type": "integer"
        },
        {
         "name": "UNKNOWN_0xb7",
         "rawType": "int64",
         "type": "integer"
        },
        {
         "name": "UNKNOWN_0xb8",
         "rawType": "int64",
         "type": "integer"
        },
        {
         "name": "UNKNOWN_0xb9",
         "rawType": "int64",
         "type": "integer"
        },
        {
         "name": "UNKNOWN_0xba",
         "rawType": "int64",
         "type": "integer"
        },
        {
         "name": "UNKNOWN_0xbb",
         "rawType": "int64",
         "type": "integer"
        },
        {
         "name": "UNKNOWN_0xbc",
         "rawType": "int64",
         "type": "integer"
        },
        {
         "name": "UNKNOWN_0xbd",
         "rawType": "int64",
         "type": "integer"
        },
        {
         "name": "UNKNOWN_0xbe",
         "rawType": "int64",
         "type": "integer"
        },
        {
         "name": "UNKNOWN_0xbf",
         "rawType": "int64",
         "type": "integer"
        },
        {
         "name": "UNKNOWN_0xc",
         "rawType": "int64",
         "type": "integer"
        },
        {
         "name": "UNKNOWN_0xc0",
         "rawType": "int64",
         "type": "integer"
        },
        {
         "name": "UNKNOWN_0xc1",
         "rawType": "int64",
         "type": "integer"
        },
        {
         "name": "UNKNOWN_0xc4",
         "rawType": "int64",
         "type": "integer"
        },
        {
         "name": "UNKNOWN_0xc5",
         "rawType": "int64",
         "type": "integer"
        },
        {
         "name": "UNKNOWN_0xc6",
         "rawType": "int64",
         "type": "integer"
        },
        {
         "name": "UNKNOWN_0xc7",
         "rawType": "int64",
         "type": "integer"
        },
        {
         "name": "UNKNOWN_0xc8",
         "rawType": "int64",
         "type": "integer"
        },
        {
         "name": "UNKNOWN_0xc9",
         "rawType": "int64",
         "type": "integer"
        },
        {
         "name": "UNKNOWN_0xca",
         "rawType": "int64",
         "type": "integer"
        },
        {
         "name": "UNKNOWN_0xcb",
         "rawType": "int64",
         "type": "integer"
        },
        {
         "name": "UNKNOWN_0xcc",
         "rawType": "int64",
         "type": "integer"
        },
        {
         "name": "UNKNOWN_0xcd",
         "rawType": "int64",
         "type": "integer"
        },
        {
         "name": "UNKNOWN_0xce",
         "rawType": "int64",
         "type": "integer"
        },
        {
         "name": "UNKNOWN_0xcf",
         "rawType": "int64",
         "type": "integer"
        },
        {
         "name": "UNKNOWN_0xd",
         "rawType": "int64",
         "type": "integer"
        },
        {
         "name": "UNKNOWN_0xd0",
         "rawType": "int64",
         "type": "integer"
        },
        {
         "name": "UNKNOWN_0xd1",
         "rawType": "int64",
         "type": "integer"
        },
        {
         "name": "UNKNOWN_0xd2",
         "rawType": "int64",
         "type": "integer"
        },
        {
         "name": "UNKNOWN_0xd3",
         "rawType": "int64",
         "type": "integer"
        },
        {
         "name": "UNKNOWN_0xd4",
         "rawType": "int64",
         "type": "integer"
        },
        {
         "name": "UNKNOWN_0xd5",
         "rawType": "int64",
         "type": "integer"
        },
        {
         "name": "UNKNOWN_0xd6",
         "rawType": "int64",
         "type": "integer"
        },
        {
         "name": "UNKNOWN_0xd7",
         "rawType": "int64",
         "type": "integer"
        },
        {
         "name": "UNKNOWN_0xd8",
         "rawType": "int64",
         "type": "integer"
        },
        {
         "name": "UNKNOWN_0xd9",
         "rawType": "int64",
         "type": "integer"
        },
        {
         "name": "UNKNOWN_0xda",
         "rawType": "int64",
         "type": "integer"
        },
        {
         "name": "UNKNOWN_0xdc",
         "rawType": "int64",
         "type": "integer"
        },
        {
         "name": "UNKNOWN_0xdd",
         "rawType": "int64",
         "type": "integer"
        },
        {
         "name": "UNKNOWN_0xde",
         "rawType": "int64",
         "type": "integer"
        },
        {
         "name": "UNKNOWN_0xdf",
         "rawType": "int64",
         "type": "integer"
        },
        {
         "name": "UNKNOWN_0xe",
         "rawType": "int64",
         "type": "integer"
        },
        {
         "name": "UNKNOWN_0xe0",
         "rawType": "int64",
         "type": "integer"
        },
        {
         "name": "UNKNOWN_0xe1",
         "rawType": "int64",
         "type": "integer"
        },
        {
         "name": "UNKNOWN_0xe2",
         "rawType": "int64",
         "type": "integer"
        },
        {
         "name": "UNKNOWN_0xe3",
         "rawType": "int64",
         "type": "integer"
        },
        {
         "name": "UNKNOWN_0xe4",
         "rawType": "int64",
         "type": "integer"
        },
        {
         "name": "UNKNOWN_0xe5",
         "rawType": "int64",
         "type": "integer"
        },
        {
         "name": "UNKNOWN_0xe6",
         "rawType": "int64",
         "type": "integer"
        },
        {
         "name": "UNKNOWN_0xe7",
         "rawType": "int64",
         "type": "integer"
        },
        {
         "name": "UNKNOWN_0xe8",
         "rawType": "int64",
         "type": "integer"
        },
        {
         "name": "UNKNOWN_0xea",
         "rawType": "int64",
         "type": "integer"
        },
        {
         "name": "UNKNOWN_0xeb",
         "rawType": "int64",
         "type": "integer"
        },
        {
         "name": "UNKNOWN_0xec",
         "rawType": "int64",
         "type": "integer"
        },
        {
         "name": "UNKNOWN_0xed",
         "rawType": "int64",
         "type": "integer"
        },
        {
         "name": "UNKNOWN_0xee",
         "rawType": "int64",
         "type": "integer"
        },
        {
         "name": "UNKNOWN_0xef",
         "rawType": "int64",
         "type": "integer"
        },
        {
         "name": "UNKNOWN_0xf",
         "rawType": "int64",
         "type": "integer"
        },
        {
         "name": "UNKNOWN_0xf6",
         "rawType": "int64",
         "type": "integer"
        },
        {
         "name": "UNKNOWN_0xf7",
         "rawType": "int64",
         "type": "integer"
        },
        {
         "name": "UNKNOWN_0xf8",
         "rawType": "int64",
         "type": "integer"
        },
        {
         "name": "UNKNOWN_0xf9",
         "rawType": "int64",
         "type": "integer"
        },
        {
         "name": "UNKNOWN_0xfb",
         "rawType": "int64",
         "type": "integer"
        },
        {
         "name": "UNKNOWN_0xfc",
         "rawType": "int64",
         "type": "integer"
        },
        {
         "name": "UNKNOWN_0xfe",
         "rawType": "int64",
         "type": "integer"
        },
        {
         "name": "UNOFFICIAL_DUP",
         "rawType": "int64",
         "type": "integer"
        },
        {
         "name": "UNOFFICIAL_PUSH",
         "rawType": "int64",
         "type": "integer"
        },
        {
         "name": "UNOFFICIAL_SWAP",
         "rawType": "int64",
         "type": "integer"
        },
        {
         "name": "XOR",
         "rawType": "int64",
         "type": "integer"
        },
        {
         "name": "address",
         "rawType": "object",
         "type": "string"
        }
       ],
       "ref": "17ab06c0-af96-43f4-8086-222aa54038df",
       "rows": [
        [
         "0",
         "153",
         "0",
         "1",
         "150",
         "0",
         "0",
         "0",
         "0",
         "0",
         "0",
         "0",
         "17",
         "10",
         "21",
         "15",
         "1",
         "0",
         "0",
         "0",
         "0",
         "0",
         "0",
         "0",
         "15",
         "173",
         "0",
         "0",
         "0",
         "0",
         "0",
         "0",
         "0",
         "164",
         "53",
         "29",
         "8",
         "8",
         "7",
         "3",
         "1",
         "20",
         "11",
         "0",
         "0",
         "0",
         "0",
         "0",
         "0",
         "7",
         "0",
         "0",
         "0",
         "0",
         "0",
         "0",
         "0",
         "0",
         "0",
         "0",
         "0",
         "0",
         "0",
         "0",
         "0",
         "78",
         "50",
         "101",
         "53",
         "0",
         "1",
         "2",
         "7",
         "0",
         "7",
         "52",
         "0",
         "1",
         "112",
         "0",
         "12",
         "0",
         "4",
         "0",
         "2",
         "0",
         "1",
         "158",
         "386",
         "1",
         "0",
         "0",
         "0",
         "0",
         "0",
         "0",
         "0",
         "0",
         "0",
         "126",
         "123",
         "0",
         "0",
         "0",
         "0",
         "0",
         "0",
         "0",
         "0",
         "1",
         "1",
         "0",
         "9",
         "25",
         "1",
         "1",
         "0",
         "0",
         "0",
         "12",
         "0",
         "0",
         "25",
         "0",
         "0",
         "0",
         "0",
         "0",
         "41",
         "0",
         "0",
         "0",
         "34",
         "0",
         "1",
         "13",
         "0",
         "4",
         "45",
         "209",
         "0",
         "0",
         "0",
         "0",
         "0",
         "0",
         "0",
         "88",
         "28",
         "1",
         "0",
         "0",
         "0",
         "0",
         "0",
         "0",
         "1",
         "0",
         "0",
         "0",
         "0",
         "0",
         "0",
         "0",
         "0",
         "0",
         "0",
         "0",
         "0",
         "0",
         "0",
         "0",
         "0",
         "0",
         "0",
         "0",
         "0",
         "0",
         "0",
         "0",
         "0",
         "0",
         "0",
         "0",
         "1",
         "0",
         "0",
         "0",
         "0",
         "0",
         "0",
         "0",
         "0",
         "2",
         "0",
         "0",
         "0",
         "0",
         "0",
         "0",
         "0",
         "0",
         "0",
         "0",
         "0",
         "0",
         "0",
         "0",
         "0",
         "0",
         "0",
         "1",
         "0",
         "0",
         "1",
         "0",
         "0",
         "0",
         "0",
         "0",
         "0",
         "0",
         "0",
         "0",
         "0",
         "0",
         "0",
         "0",
         "0",
         "0",
         "0",
         "0",
         "0",
         "0",
         "0",
         "0",
         "0",
         "0",
         "0",
         "0",
         "0",
         "1",
         "0",
         "0",
         "0",
         "0",
         "0",
         "0",
         "0",
         "0",
         "0",
         "0",
         "0",
         "0",
         "0",
         "0",
         "0",
         "0",
         "0",
         "0",
         "0",
         "2",
         "0",
         "0",
         "0",
         "0",
         "0x8275eBF521Dc217aa79C88132017A5BCEf001dd9"
        ],
        [
         "1",
         "98",
         "1",
         "0",
         "47",
         "0",
         "0",
         "0",
         "0",
         "0",
         "0",
         "1",
         "7",
         "10",
         "11",
         "1",
         "1",
         "1",
         "0",
         "1",
         "0",
         "0",
         "0",
         "0",
         "2",
         "74",
         "0",
         "1",
         "0",
         "0",
         "0",
         "0",
         "0",
         "87",
         "67",
         "30",
         "25",
         "15",
         "10",
         "3",
         "0",
         "24",
         "0",
         "0",
         "0",
         "0",
         "0",
         "0",
         "0",
         "10",
         "0",
         "0",
         "0",
         "0",
         "0",
         "0",
         "0",
         "0",
         "0",
         "0",
         "0",
         "0",
         "0",
         "0",
         "0",
         "37",
         "92",
         "124",
         "63",
         "0",
         "0",
         "0",
         "2",
         "0",
         "8",
         "31",
         "0",
         "0",
         "115",
         "0",
         "3",
         "0",
         "7",
         "0",
         "4",
         "0",
         "0",
         "64",
         "413",
         "0",
         "0",
         "0",
         "0",
         "0",
         "0",
         "1",
         "0",
         "0",
         "1",
         "188",
         "2",
         "0",
         "0",
         "0",
         "0",
         "0",
         "0",
         "0",
         "1",
         "0",
         "16",
         "0",
         "12",
         "20",
         "3",
         "1",
         "2",
         "3",
         "1",
         "1",
         "0",
         "1",
         "22",
         "0",
         "0",
         "0",
         "0",
         "0",
         "19",
         "58",
         "1",
         "0",
         "25",
         "7",
         "0",
         "7",
         "0",
         "2",
         "37",
         "89",
         "0",
         "0",
         "0",
         "0",
         "0",
         "0",
         "0",
         "44",
         "20",
         "12",
         "5",
         "2",
         "0",
         "0",
         "0",
         "1",
         "0",
         "0",
         "0",
         "0",
         "0",
         "0",
         "0",
         "0",
         "0",
         "0",
         "0",
         "0",
         "0",
         "0",
         "0",
         "0",
         "0",
         "0",
         "0",
         "0",
         "1",
         "0",
         "0",
         "0",
         "0",
         "0",
         "0",
         "0",
         "0",
         "0",
         "1",
         "0",
         "0",
         "0",
         "0",
         "0",
         "0",
         "0",
         "0",
         "0",
         "0",
         "0",
         "0",
         "0",
         "0",
         "0",
         "0",
         "0",
         "0",
         "0",
         "1",
         "0",
         "0",
         "0",
         "0",
         "0",
         "0",
         "0",
         "0",
         "0",
         "0",
         "0",
         "1",
         "0",
         "0",
         "0",
         "0",
         "0",
         "0",
         "0",
         "0",
         "0",
         "0",
         "0",
         "0",
         "0",
         "0",
         "0",
         "0",
         "0",
         "0",
         "0",
         "0",
         "0",
         "0",
         "0",
         "0",
         "0",
         "0",
         "0",
         "0",
         "0",
         "0",
         "0",
         "0",
         "0",
         "0",
         "0",
         "0",
         "0",
         "0",
         "0",
         "0",
         "0",
         "0",
         "1",
         "0",
         "0",
         "0",
         "0",
         "0x292E89d5D5BDab3aF2f5838C194c1983f0140b43"
        ],
        [
         "2",
         "153",
         "1",
         "0",
         "76",
         "0",
         "0",
         "0",
         "4",
         "0",
         "0",
         "1",
         "7",
         "23",
         "24",
         "1",
         "0",
         "0",
         "1",
         "0",
         "0",
         "0",
         "0",
         "0",
         "4",
         "118",
         "0",
         "1",
         "0",
         "0",
         "0",
         "0",
         "0",
         "146",
         "128",
         "49",
         "35",
         "26",
         "7",
         "5",
         "2",
         "47",
         "0",
         "0",
         "1",
         "3",
         "0",
         "0",
         "0",
         "13",
         "0",
         "0",
         "0",
         "0",
         "0",
         "0",
         "0",
         "0",
         "0",
         "0",
         "0",
         "0",
         "1",
         "0",
         "0",
         "33",
         "186",
         "223",
         "101",
         "0",
         "1",
         "1",
         "4",
         "3",
         "13",
         "56",
         "0",
         "0",
         "176",
         "3",
         "4",
         "0",
         "20",
         "0",
         "5",
         "0",
         "0",
         "93",
         "660",
         "0",
         "0",
         "0",
         "0",
         "0",
         "1",
         "2",
         "1",
         "0",
         "0",
         "378",
         "2",
         "0",
         "0",
         "0",
         "0",
         "0",
         "0",
         "0",
         "0",
         "0",
         "29",
         "0",
         "29",
         "47",
         "3",
         "2",
         "0",
         "1",
         "0",
         "1",
         "0",
         "0",
         "23",
         "0",
         "0",
         "1",
         "0",
         "0",
         "27",
         "105",
         "3",
         "0",
         "43",
         "8",
         "0",
         "12",
         "0",
         "2",
         "73",
         "157",
         "0",
         "0",
         "0",
         "0",
         "0",
         "0",
         "0",
         "59",
         "27",
         "13",
         "8",
         "0",
         "0",
         "0",
         "0",
         "0",
         "1",
         "1",
         "0",
         "1",
         "0",
         "0",
         "1",
         "1",
         "0",
         "1",
         "0",
         "0",
         "0",
         "0",
         "0",
         "0",
         "0",
         "0",
         "0",
         "0",
         "0",
         "0",
         "0",
         "0",
         "0",
         "0",
         "0",
         "1",
         "0",
         "0",
         "0",
         "0",
         "0",
         "0",
         "0",
         "0",
         "0",
         "0",
         "0",
         "0",
         "0",
         "0",
         "0",
         "0",
         "0",
         "0",
         "0",
         "0",
         "0",
         "0",
         "0",
         "1",
         "0",
         "0",
         "0",
         "0",
         "0",
         "0",
         "0",
         "0",
         "0",
         "0",
         "0",
         "0",
         "0",
         "0",
         "0",
         "0",
         "0",
         "0",
         "1",
         "0",
         "0",
         "0",
         "0",
         "0",
         "0",
         "0",
         "0",
         "0",
         "0",
         "1",
         "0",
         "0",
         "0",
         "0",
         "0",
         "0",
         "0",
         "0",
         "0",
         "0",
         "0",
         "1",
         "0",
         "0",
         "0",
         "0",
         "0",
         "0",
         "0",
         "0",
         "0",
         "0",
         "1",
         "1",
         "0",
         "0",
         "0",
         "0",
         "0x2753dcE37A7eDB052a77832039bcc9aA49Ad8b25"
        ],
        [
         "3",
         "78",
         "0",
         "4",
         "40",
         "0",
         "0",
         "0",
         "0",
         "0",
         "0",
         "0",
         "15",
         "8",
         "2",
         "1",
         "0",
         "7",
         "0",
         "0",
         "0",
         "0",
         "0",
         "0",
         "6",
         "91",
         "0",
         "2",
         "0",
         "1",
         "1",
         "0",
         "0",
         "95",
         "48",
         "33",
         "18",
         "8",
         "1",
         "2",
         "2",
         "11",
         "2",
         "0",
         "0",
         "0",
         "0",
         "3",
         "4",
         "3",
         "0",
         "0",
         "1",
         "0",
         "0",
         "0",
         "0",
         "0",
         "0",
         "0",
         "0",
         "0",
         "0",
         "0",
         "0",
         "20",
         "47",
         "72",
         "36",
         "0",
         "0",
         "0",
         "2",
         "0",
         "13",
         "37",
         "0",
         "0",
         "77",
         "1",
         "6",
         "0",
         "4",
         "3",
         "0",
         "3",
         "0",
         "65",
         "264",
         "0",
         "0",
         "0",
         "0",
         "0",
         "1",
         "0",
         "0",
         "0",
         "4",
         "116",
         "2",
         "2",
         "1",
         "0",
         "0",
         "0",
         "0",
         "0",
         "0",
         "0",
         "6",
         "0",
         "3",
         "12",
         "2",
         "3",
         "1",
         "2",
         "0",
         "4",
         "0",
         "0",
         "15",
         "0",
         "0",
         "0",
         "0",
         "0",
         "20",
         "27",
         "1",
         "0",
         "14",
         "0",
         "0",
         "3",
         "0",
         "0",
         "54",
         "103",
         "0",
         "0",
         "0",
         "0",
         "0",
         "0",
         "0",
         "54",
         "18",
         "14",
         "9",
         "2",
         "0",
         "0",
         "0",
         "0",
         "0",
         "0",
         "0",
         "0",
         "0",
         "1",
         "0",
         "0",
         "0",
         "0",
         "0",
         "0",
         "0",
         "0",
         "0",
         "0",
         "0",
         "0",
         "0",
         "0",
         "0",
         "0",
         "0",
         "0",
         "0",
         "0",
         "0",
         "0",
         "0",
         "0",
         "0",
         "0",
         "0",
         "0",
         "0",
         "0",
         "0",
         "0",
         "0",
         "0",
         "0",
         "0",
         "0",
         "0",
         "0",
         "0",
         "0",
         "0",
         "0",
         "0",
         "0",
         "0",
         "1",
         "0",
         "0",
         "0",
         "0",
         "0",
         "0",
         "0",
         "0",
         "0",
         "0",
         "0",
         "0",
         "0",
         "0",
         "0",
         "0",
         "0",
         "0",
         "0",
         "0",
         "0",
         "0",
         "0",
         "0",
         "0",
         "1",
         "0",
         "0",
         "0",
         "0",
         "0",
         "0",
         "0",
         "0",
         "0",
         "0",
         "0",
         "0",
         "0",
         "0",
         "0",
         "0",
         "0",
         "0",
         "0",
         "0",
         "0",
         "0",
         "0",
         "0",
         "0",
         "0",
         "1",
         "0",
         "0",
         "0",
         "0",
         "0xE1A0CE8B94c6A5E4791401086763d7bD0a6C18f5"
        ],
        [
         "4",
         "206",
         "0",
         "7",
         "143",
         "0",
         "0",
         "0",
         "0",
         "0",
         "0",
         "0",
         "35",
         "20",
         "4",
         "1",
         "1",
         "19",
         "0",
         "1",
         "0",
         "0",
         "0",
         "0",
         "7",
         "243",
         "5",
         "5",
         "4",
         "1",
         "1",
         "0",
         "0",
         "253",
         "125",
         "85",
         "52",
         "31",
         "18",
         "12",
         "4",
         "36",
         "2",
         "0",
         "0",
         "1",
         "1",
         "4",
         "11",
         "14",
         "0",
         "0",
         "0",
         "0",
         "0",
         "0",
         "0",
         "0",
         "0",
         "0",
         "0",
         "0",
         "0",
         "0",
         "0",
         "48",
         "130",
         "194",
         "100",
         "0",
         "0",
         "1",
         "6",
         "1",
         "29",
         "107",
         "1",
         "0",
         "248",
         "1",
         "6",
         "0",
         "18",
         "2",
         "4",
         "5",
         "0",
         "163",
         "801",
         "3",
         "0",
         "1",
         "0",
         "0",
         "2",
         "2",
         "0",
         "1",
         "4",
         "312",
         "4",
         "4",
         "1",
         "0",
         "0",
         "0",
         "0",
         "2",
         "0",
         "0",
         "20",
         "0",
         "15",
         "62",
         "5",
         "4",
         "2",
         "2",
         "1",
         "7",
         "2",
         "2",
         "39",
         "0",
         "0",
         "0",
         "0",
         "0",
         "75",
         "97",
         "1",
         "0",
         "52",
         "0",
         "0",
         "15",
         "1",
         "3",
         "152",
         "310",
         "0",
         "0",
         "0",
         "0",
         "0",
         "0",
         "0",
         "140",
         "52",
         "29",
         "17",
         "6",
         "2",
         "0",
         "0",
         "5",
         "0",
         "0",
         "0",
         "0",
         "0",
         "0",
         "0",
         "0",
         "0",
         "0",
         "0",
         "0",
         "0",
         "0",
         "0",
         "0",
         "0",
         "1",
         "0",
         "0",
         "0",
         "0",
         "0",
         "1",
         "0",
         "1",
         "0",
         "0",
         "0",
         "0",
         "0",
         "0",
         "0",
         "0",
         "0",
         "0",
         "0",
         "0",
         "0",
         "0",
         "0",
         "0",
         "0",
         "0",
         "0",
         "0",
         "0",
         "0",
         "0",
         "0",
         "0",
         "1",
         "0",
         "0",
         "0",
         "0",
         "0",
         "0",
         "0",
         "0",
         "0",
         "0",
         "0",
         "0",
         "0",
         "0",
         "0",
         "0",
         "0",
         "0",
         "0",
         "0",
         "0",
         "0",
         "0",
         "0",
         "0",
         "0",
         "0",
         "0",
         "0",
         "0",
         "0",
         "0",
         "0",
         "0",
         "0",
         "0",
         "0",
         "0",
         "0",
         "0",
         "0",
         "0",
         "0",
         "0",
         "0",
         "0",
         "0",
         "0",
         "0",
         "0",
         "0",
         "1",
         "0",
         "1",
         "0",
         "0",
         "0",
         "0",
         "0x9dB8a10C7FE60d84397860b3aF2E686D4F90C2b7"
        ]
       ],
       "shape": {
        "columns": 266,
        "rows": 5
       }
      },
      "text/html": [
       "<div>\n",
       "<style scoped>\n",
       "    .dataframe tbody tr th:only-of-type {\n",
       "        vertical-align: middle;\n",
       "    }\n",
       "\n",
       "    .dataframe tbody tr th {\n",
       "        vertical-align: top;\n",
       "    }\n",
       "\n",
       "    .dataframe thead th {\n",
       "        text-align: right;\n",
       "    }\n",
       "</style>\n",
       "<table border=\"1\" class=\"dataframe\">\n",
       "  <thead>\n",
       "    <tr style=\"text-align: right;\">\n",
       "      <th></th>\n",
       "      <th>ADD</th>\n",
       "      <th>ADDMOD</th>\n",
       "      <th>ADDRESS</th>\n",
       "      <th>AND</th>\n",
       "      <th>BALANCE</th>\n",
       "      <th>BASEFEE</th>\n",
       "      <th>BLOCKHASH</th>\n",
       "      <th>BYTE</th>\n",
       "      <th>CALL</th>\n",
       "      <th>CALLCODE</th>\n",
       "      <th>...</th>\n",
       "      <th>UNKNOWN_0xf8</th>\n",
       "      <th>UNKNOWN_0xf9</th>\n",
       "      <th>UNKNOWN_0xfb</th>\n",
       "      <th>UNKNOWN_0xfc</th>\n",
       "      <th>UNKNOWN_0xfe</th>\n",
       "      <th>UNOFFICIAL_DUP</th>\n",
       "      <th>UNOFFICIAL_PUSH</th>\n",
       "      <th>UNOFFICIAL_SWAP</th>\n",
       "      <th>XOR</th>\n",
       "      <th>address</th>\n",
       "    </tr>\n",
       "  </thead>\n",
       "  <tbody>\n",
       "    <tr>\n",
       "      <th>0</th>\n",
       "      <td>153</td>\n",
       "      <td>0</td>\n",
       "      <td>1</td>\n",
       "      <td>150</td>\n",
       "      <td>0</td>\n",
       "      <td>0</td>\n",
       "      <td>0</td>\n",
       "      <td>0</td>\n",
       "      <td>0</td>\n",
       "      <td>0</td>\n",
       "      <td>...</td>\n",
       "      <td>0</td>\n",
       "      <td>0</td>\n",
       "      <td>0</td>\n",
       "      <td>0</td>\n",
       "      <td>2</td>\n",
       "      <td>0</td>\n",
       "      <td>0</td>\n",
       "      <td>0</td>\n",
       "      <td>0</td>\n",
       "      <td>0x8275eBF521Dc217aa79C88132017A5BCEf001dd9</td>\n",
       "    </tr>\n",
       "    <tr>\n",
       "      <th>1</th>\n",
       "      <td>98</td>\n",
       "      <td>1</td>\n",
       "      <td>0</td>\n",
       "      <td>47</td>\n",
       "      <td>0</td>\n",
       "      <td>0</td>\n",
       "      <td>0</td>\n",
       "      <td>0</td>\n",
       "      <td>0</td>\n",
       "      <td>0</td>\n",
       "      <td>...</td>\n",
       "      <td>0</td>\n",
       "      <td>0</td>\n",
       "      <td>0</td>\n",
       "      <td>0</td>\n",
       "      <td>1</td>\n",
       "      <td>0</td>\n",
       "      <td>0</td>\n",
       "      <td>0</td>\n",
       "      <td>0</td>\n",
       "      <td>0x292E89d5D5BDab3aF2f5838C194c1983f0140b43</td>\n",
       "    </tr>\n",
       "    <tr>\n",
       "      <th>2</th>\n",
       "      <td>153</td>\n",
       "      <td>1</td>\n",
       "      <td>0</td>\n",
       "      <td>76</td>\n",
       "      <td>0</td>\n",
       "      <td>0</td>\n",
       "      <td>0</td>\n",
       "      <td>4</td>\n",
       "      <td>0</td>\n",
       "      <td>0</td>\n",
       "      <td>...</td>\n",
       "      <td>0</td>\n",
       "      <td>0</td>\n",
       "      <td>0</td>\n",
       "      <td>1</td>\n",
       "      <td>1</td>\n",
       "      <td>0</td>\n",
       "      <td>0</td>\n",
       "      <td>0</td>\n",
       "      <td>0</td>\n",
       "      <td>0x2753dcE37A7eDB052a77832039bcc9aA49Ad8b25</td>\n",
       "    </tr>\n",
       "    <tr>\n",
       "      <th>3</th>\n",
       "      <td>78</td>\n",
       "      <td>0</td>\n",
       "      <td>4</td>\n",
       "      <td>40</td>\n",
       "      <td>0</td>\n",
       "      <td>0</td>\n",
       "      <td>0</td>\n",
       "      <td>0</td>\n",
       "      <td>0</td>\n",
       "      <td>0</td>\n",
       "      <td>...</td>\n",
       "      <td>0</td>\n",
       "      <td>0</td>\n",
       "      <td>0</td>\n",
       "      <td>0</td>\n",
       "      <td>1</td>\n",
       "      <td>0</td>\n",
       "      <td>0</td>\n",
       "      <td>0</td>\n",
       "      <td>0</td>\n",
       "      <td>0xE1A0CE8B94c6A5E4791401086763d7bD0a6C18f5</td>\n",
       "    </tr>\n",
       "    <tr>\n",
       "      <th>4</th>\n",
       "      <td>206</td>\n",
       "      <td>0</td>\n",
       "      <td>7</td>\n",
       "      <td>143</td>\n",
       "      <td>0</td>\n",
       "      <td>0</td>\n",
       "      <td>0</td>\n",
       "      <td>0</td>\n",
       "      <td>0</td>\n",
       "      <td>0</td>\n",
       "      <td>...</td>\n",
       "      <td>0</td>\n",
       "      <td>0</td>\n",
       "      <td>1</td>\n",
       "      <td>0</td>\n",
       "      <td>1</td>\n",
       "      <td>0</td>\n",
       "      <td>0</td>\n",
       "      <td>0</td>\n",
       "      <td>0</td>\n",
       "      <td>0x9dB8a10C7FE60d84397860b3aF2E686D4F90C2b7</td>\n",
       "    </tr>\n",
       "  </tbody>\n",
       "</table>\n",
       "<p>5 rows × 266 columns</p>\n",
       "</div>"
      ],
      "text/plain": [
       "   ADD  ADDMOD  ADDRESS  AND  BALANCE  BASEFEE  BLOCKHASH  BYTE  CALL  \\\n",
       "0  153       0        1  150        0        0          0     0     0   \n",
       "1   98       1        0   47        0        0          0     0     0   \n",
       "2  153       1        0   76        0        0          0     4     0   \n",
       "3   78       0        4   40        0        0          0     0     0   \n",
       "4  206       0        7  143        0        0          0     0     0   \n",
       "\n",
       "   CALLCODE  ...  UNKNOWN_0xf8  UNKNOWN_0xf9  UNKNOWN_0xfb  UNKNOWN_0xfc  \\\n",
       "0         0  ...             0             0             0             0   \n",
       "1         0  ...             0             0             0             0   \n",
       "2         0  ...             0             0             0             1   \n",
       "3         0  ...             0             0             0             0   \n",
       "4         0  ...             0             0             1             0   \n",
       "\n",
       "   UNKNOWN_0xfe  UNOFFICIAL_DUP  UNOFFICIAL_PUSH  UNOFFICIAL_SWAP  XOR  \\\n",
       "0             2               0                0                0    0   \n",
       "1             1               0                0                0    0   \n",
       "2             1               0                0                0    0   \n",
       "3             1               0                0                0    0   \n",
       "4             1               0                0                0    0   \n",
       "\n",
       "                                      address  \n",
       "0  0x8275eBF521Dc217aa79C88132017A5BCEf001dd9  \n",
       "1  0x292E89d5D5BDab3aF2f5838C194c1983f0140b43  \n",
       "2  0x2753dcE37A7eDB052a77832039bcc9aA49Ad8b25  \n",
       "3  0xE1A0CE8B94c6A5E4791401086763d7bD0a6C18f5  \n",
       "4  0x9dB8a10C7FE60d84397860b3aF2E686D4F90C2b7  \n",
       "\n",
       "[5 rows x 266 columns]"
      ]
     },
     "execution_count": 6,
     "metadata": {},
     "output_type": "execute_result"
    }
   ],
   "source": [
    "df.head()"
   ]
  },
  {
   "cell_type": "code",
   "execution_count": 7,
   "id": "2d8266cc",
   "metadata": {},
   "outputs": [
    {
     "name": "stdout",
     "output_type": "stream",
     "text": [
      "<class 'pandas.core.frame.DataFrame'>\n",
      "RangeIndex: 72 entries, 0 to 71\n",
      "Columns: 266 entries, ADD to address\n",
      "dtypes: int64(265), object(1)\n",
      "memory usage: 149.8+ KB\n"
     ]
    }
   ],
   "source": [
    "df.info()"
   ]
  },
  {
   "cell_type": "code",
   "execution_count": 8,
   "id": "84c80a69",
   "metadata": {},
   "outputs": [
    {
     "data": {
      "application/vnd.microsoft.datawrangler.viewer.v0+json": {
       "columns": [
        {
         "name": "index",
         "rawType": "object",
         "type": "string"
        },
        {
         "name": "0",
         "rawType": "int64",
         "type": "integer"
        }
       ],
       "ref": "6f33615d-6832-49e0-b817-eb33768034c3",
       "rows": [
        [
         "INVALID_0x6c",
         "5"
        ],
        [
         "INVALID_0x6f",
         "5"
        ],
        [
         "INVALID_0x7d",
         "3"
        ],
        [
         "INVALID_0x7c",
         "3"
        ],
        [
         "INVALID_0x77",
         "2"
        ],
        [
         "INVALID_0x73",
         "2"
        ],
        [
         "INVALID_0x6e",
         "2"
        ],
        [
         "INVALID_0x78",
         "2"
        ],
        [
         "INVALID_0x74",
         "1"
        ],
        [
         "INVALID_0x70",
         "1"
        ]
       ],
       "shape": {
        "columns": 1,
        "rows": 10
       }
      },
      "text/plain": [
       "INVALID_0x6c    5\n",
       "INVALID_0x6f    5\n",
       "INVALID_0x7d    3\n",
       "INVALID_0x7c    3\n",
       "INVALID_0x77    2\n",
       "INVALID_0x73    2\n",
       "INVALID_0x6e    2\n",
       "INVALID_0x78    2\n",
       "INVALID_0x74    1\n",
       "INVALID_0x70    1\n",
       "dtype: int64"
      ]
     },
     "execution_count": 8,
     "metadata": {},
     "output_type": "execute_result"
    }
   ],
   "source": [
    "invalid_cols = [col for col in df.columns if col.startswith(\"INVALID\")]\n",
    "df[invalid_cols].sum().sort_values(ascending=False).head(10)"
   ]
  },
  {
   "cell_type": "code",
   "execution_count": null,
   "id": "4fd28915",
   "metadata": {},
   "outputs": [
    {
     "name": "stdout",
     "output_type": "stream",
     "text": [
      "Index(['ADD', 'ADDMOD', 'ADDRESS', 'AND', 'BALANCE', 'BASEFEE', 'BLOCKHASH',\n",
      "       'BYTE', 'CALL', 'CALLCODE',\n",
      "       ...\n",
      "       'UNKNOWN_0xf8', 'UNKNOWN_0xf9', 'UNKNOWN_0xfb', 'UNKNOWN_0xfc',\n",
      "       'UNKNOWN_0xfe', 'UNOFFICIAL_DUP', 'UNOFFICIAL_PUSH', 'UNOFFICIAL_SWAP',\n",
      "       'XOR', 'address'],\n",
      "      dtype='object', length=266)\n"
     ]
    }
   ],
   "source": [
    "df.columns"
   ]
  },
  {
   "cell_type": "markdown",
   "id": "e55a7043",
   "metadata": {},
   "source": [
    "#### Save as CSV"
   ]
  },
  {
   "cell_type": "code",
   "execution_count": null,
   "id": "8879c1d1",
   "metadata": {},
   "outputs": [],
   "source": []
  },
  {
   "cell_type": "code",
   "execution_count": null,
   "id": "463cc317",
   "metadata": {},
   "outputs": [],
   "source": []
  }
 ],
 "metadata": {
  "kernelspec": {
   "display_name": "ml-algo",
   "language": "python",
   "name": "python3"
  },
  "language_info": {
   "codemirror_mode": {
    "name": "ipython",
    "version": 3
   },
   "file_extension": ".py",
   "mimetype": "text/x-python",
   "name": "python",
   "nbconvert_exporter": "python",
   "pygments_lexer": "ipython3",
   "version": "3.12.7"
  }
 },
 "nbformat": 4,
 "nbformat_minor": 5
}
