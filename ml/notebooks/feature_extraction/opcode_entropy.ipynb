{
 "cells": [
  {
   "cell_type": "markdown",
   "id": "b0bd566b",
   "metadata": {},
   "source": [
    "# Opcode Entropy Extraction"
   ]
  },
  {
   "cell_type": "markdown",
   "id": "991af3c6",
   "metadata": {},
   "source": [
    "## Setup"
   ]
  },
  {
   "cell_type": "code",
   "execution_count": 1,
   "id": "bc21fa81",
   "metadata": {},
   "outputs": [],
   "source": [
    "import os\n",
    "import pandas as pd\n",
    "from pathlib import Path\n",
    "import json\n",
    "import re\n",
    "\n",
    "from collections import Counter\n",
    "import matplotlib.pyplot as plt\n",
    "from evmdasm import EvmBytecode\n",
    "from scipy.stats import entropy as calc_entropy"
   ]
  },
  {
   "cell_type": "code",
   "execution_count": 2,
   "id": "664ccc36",
   "metadata": {},
   "outputs": [],
   "source": [
    "PATH = Path.cwd().parents[1]\n",
    "DATA_PATH = os.path.join(PATH, 'data')\n",
    "NAME = 'crpwarner'\n",
    "IN_PATH = os.path.join(DATA_PATH, f'external/{NAME}/groundtruth/hex')\n",
    "OUT_PATH = os.path.join(DATA_PATH, f'interim/{NAME}')\n",
    "PRO_PATH = os.path.join(DATA_PATH, 'processed/opcode_entropy')\n",
    "df = pd.read_csv(os.path.join(OUT_PATH, 'dataset-modified.csv')).set_index('address')"
   ]
  },
  {
   "cell_type": "markdown",
   "id": "ff50290c",
   "metadata": {},
   "source": [
    "## Load Bytecode"
   ]
  },
  {
   "cell_type": "code",
   "execution_count": 3,
   "id": "3fc49fb1",
   "metadata": {},
   "outputs": [],
   "source": [
    "def load_bytecode(file_path):\n",
    "    with open(file_path, 'r') as f:\n",
    "        return f.read().strip()\n"
   ]
  },
  {
   "cell_type": "markdown",
   "id": "0ee3f129",
   "metadata": {},
   "source": [
    "## Disassemble to Opcode List"
   ]
  },
  {
   "cell_type": "code",
   "execution_count": 4,
   "id": "c291b8e0",
   "metadata": {},
   "outputs": [],
   "source": [
    "def get_opcodes(bytecode):\n",
    "    evm_code = EvmBytecode(bytecode)\n",
    "    opcodes = []\n",
    "    for instr in evm_code.disassemble():\n",
    "        opcode = instr.name\n",
    "        # Extract the first alphanumeric-only word (no digits, no special characters)\n",
    "        match = re.match(r'^[a-zA-Z]+', opcode)\n",
    "\n",
    "        if match:\n",
    "            opcode_group = match.group()\n",
    "            opcodes.append(opcode_group)\n",
    "        else:\n",
    "            opcodes.append(opcode)\n",
    "    return opcodes\n"
   ]
  },
  {
   "cell_type": "markdown",
   "id": "1cffdc92",
   "metadata": {},
   "source": [
    "## Compute Shannon entropy per Contract"
   ]
  },
  {
   "cell_type": "code",
   "execution_count": 5,
   "id": "5d0b27a3",
   "metadata": {},
   "outputs": [],
   "source": [
    "def opcode_entropy_from_file(hex_file):\n",
    "    bytecode = load_bytecode(hex_file)\n",
    "    opcodes = get_opcodes(bytecode)\n",
    "    freq = Counter(opcodes)\n",
    "    counts = list(freq.values())\n",
    "    return calc_entropy(counts, base=2)  # base=2 gives Shannon entropy in bits\n"
   ]
  },
  {
   "cell_type": "markdown",
   "id": "2e6cbab0",
   "metadata": {},
   "source": [
    "## Build Dataset"
   ]
  },
  {
   "cell_type": "code",
   "execution_count": 6,
   "id": "c8e3f484",
   "metadata": {},
   "outputs": [
    {
     "name": "stderr",
     "output_type": "stream",
     "text": [
      "invalid instruction: PUSH30\n",
      "invalid instruction: PUSH16\n",
      "invalid instruction: PUSH30\n",
      "invalid instruction: PUSH24\n",
      "invalid instruction: PUSH30\n",
      "invalid instruction: PUSH16\n",
      "invalid instruction: PUSH15\n",
      "invalid instruction: PUSH13\n",
      "invalid instruction: PUSH31\n",
      "invalid instruction: PUSH25\n",
      "invalid instruction: PUSH16\n",
      "invalid instruction: PUSH13\n",
      "invalid instruction: PUSH25\n",
      "invalid instruction: PUSH21\n",
      "invalid instruction: PUSH16\n",
      "invalid instruction: PUSH15\n",
      "invalid instruction: PUSH19\n",
      "invalid instruction: PUSH29\n",
      "invalid instruction: PUSH29\n",
      "invalid instruction: PUSH26\n",
      "invalid instruction: PUSH20\n",
      "invalid instruction: PUSH17\n",
      "invalid instruction: PUSH16\n",
      "invalid instruction: PUSH20\n",
      "invalid instruction: PUSH13\n",
      "invalid instruction: PUSH13\n",
      "invalid instruction: PUSH13\n",
      "invalid instruction: PUSH24\n",
      "invalid instruction: PUSH27\n",
      "invalid instruction: PUSH32\n",
      "invalid instruction: PUSH29\n"
     ]
    }
   ],
   "source": [
    "hex_dir = Path(IN_PATH)\n",
    "all_files = list(hex_dir.glob('*.hex'))\n",
    "\n",
    "records = []\n",
    "for file in all_files:\n",
    "    record = dict()\n",
    "    record['opcode_entropy'] = opcode_entropy_from_file(file)\n",
    "    record['address'] = file.stem.lower()\n",
    "    records.append(record)\n",
    "\n",
    "feature_df = pd.DataFrame(records).fillna(0).set_index('address')"
   ]
  },
  {
   "cell_type": "markdown",
   "id": "2d477c40",
   "metadata": {},
   "source": [
    "## Export"
   ]
  },
  {
   "cell_type": "code",
   "execution_count": 7,
   "id": "e8dbc5cb",
   "metadata": {},
   "outputs": [],
   "source": [
    "feature_df.to_csv(os.path.join(OUT_PATH, 'opcode_entropy.csv'))"
   ]
  },
  {
   "cell_type": "markdown",
   "id": "784d090a",
   "metadata": {},
   "source": [
    "## Export Labels & Feature Columns"
   ]
  },
  {
   "cell_type": "code",
   "execution_count": 8,
   "id": "ce01560c",
   "metadata": {},
   "outputs": [],
   "source": [
    "labels = list(df.columns)\n",
    "features = list(feature_df.columns)\n",
    "with open(os.path.join(PRO_PATH, 'labels.json'), \"w\") as f:\n",
    "    json.dump(labels, f, indent=2)\n",
    "\n",
    "with open(os.path.join(PRO_PATH, 'features.json'), \"w\") as f:\n",
    "    json.dump(features, f, indent=2)"
   ]
  },
  {
   "cell_type": "markdown",
   "id": "1627d9d4",
   "metadata": {},
   "source": [
    "## Merge with Labels Dataframe"
   ]
  },
  {
   "cell_type": "code",
   "execution_count": 9,
   "id": "168914a4",
   "metadata": {},
   "outputs": [
    {
     "data": {
      "application/vnd.microsoft.datawrangler.viewer.v0+json": {
       "columns": [
        {
         "name": "address",
         "rawType": "object",
         "type": "string"
        },
        {
         "name": "mint",
         "rawType": "int64",
         "type": "integer"
        },
        {
         "name": "leak",
         "rawType": "int64",
         "type": "integer"
        },
        {
         "name": "limit",
         "rawType": "int64",
         "type": "integer"
        },
        {
         "name": "opcode_entropy",
         "rawType": "float64",
         "type": "float"
        }
       ],
       "ref": "8f10c942-317d-4d23-8966-696582fa6578",
       "rows": [
        [
         "0x93023f1d3525e273f291b6f76d2f5027a39bf302",
         "1",
         "0",
         "1",
         "3.5887197229467787"
        ],
        [
         "0x2753dce37a7edb052a77832039bcc9aa49ad8b25",
         "0",
         "0",
         "1",
         "3.6058421742470337"
        ],
        [
         "0x94b7d24552933f50a5a5705c446528806dcea381",
         "0",
         "0",
         "0",
         "3.9413920433138787"
        ],
        [
         "0xe0b9d4146aad6936cbfcbe4dae47e34aab96b093",
         "0",
         "0",
         "0",
         "3.5667051566153716"
        ],
        [
         "0x10f6f2b97f3ab29583d9d38babf2994df7220c21",
         "1",
         "0",
         "1",
         "3.5771892204422135"
        ]
       ],
       "shape": {
        "columns": 4,
        "rows": 5
       }
      },
      "text/html": [
       "<div>\n",
       "<style scoped>\n",
       "    .dataframe tbody tr th:only-of-type {\n",
       "        vertical-align: middle;\n",
       "    }\n",
       "\n",
       "    .dataframe tbody tr th {\n",
       "        vertical-align: top;\n",
       "    }\n",
       "\n",
       "    .dataframe thead th {\n",
       "        text-align: right;\n",
       "    }\n",
       "</style>\n",
       "<table border=\"1\" class=\"dataframe\">\n",
       "  <thead>\n",
       "    <tr style=\"text-align: right;\">\n",
       "      <th></th>\n",
       "      <th>mint</th>\n",
       "      <th>leak</th>\n",
       "      <th>limit</th>\n",
       "      <th>opcode_entropy</th>\n",
       "    </tr>\n",
       "    <tr>\n",
       "      <th>address</th>\n",
       "      <th></th>\n",
       "      <th></th>\n",
       "      <th></th>\n",
       "      <th></th>\n",
       "    </tr>\n",
       "  </thead>\n",
       "  <tbody>\n",
       "    <tr>\n",
       "      <th>0x93023f1d3525e273f291b6f76d2f5027a39bf302</th>\n",
       "      <td>1</td>\n",
       "      <td>0</td>\n",
       "      <td>1</td>\n",
       "      <td>3.588720</td>\n",
       "    </tr>\n",
       "    <tr>\n",
       "      <th>0x2753dce37a7edb052a77832039bcc9aa49ad8b25</th>\n",
       "      <td>0</td>\n",
       "      <td>0</td>\n",
       "      <td>1</td>\n",
       "      <td>3.605842</td>\n",
       "    </tr>\n",
       "    <tr>\n",
       "      <th>0x94b7d24552933f50a5a5705c446528806dcea381</th>\n",
       "      <td>0</td>\n",
       "      <td>0</td>\n",
       "      <td>0</td>\n",
       "      <td>3.941392</td>\n",
       "    </tr>\n",
       "    <tr>\n",
       "      <th>0xe0b9d4146aad6936cbfcbe4dae47e34aab96b093</th>\n",
       "      <td>0</td>\n",
       "      <td>0</td>\n",
       "      <td>0</td>\n",
       "      <td>3.566705</td>\n",
       "    </tr>\n",
       "    <tr>\n",
       "      <th>0x10f6f2b97f3ab29583d9d38babf2994df7220c21</th>\n",
       "      <td>1</td>\n",
       "      <td>0</td>\n",
       "      <td>1</td>\n",
       "      <td>3.577189</td>\n",
       "    </tr>\n",
       "  </tbody>\n",
       "</table>\n",
       "</div>"
      ],
      "text/plain": [
       "                                            mint  leak  limit  opcode_entropy\n",
       "address                                                                      \n",
       "0x93023f1d3525e273f291b6f76d2f5027a39bf302     1     0      1        3.588720\n",
       "0x2753dce37a7edb052a77832039bcc9aa49ad8b25     0     0      1        3.605842\n",
       "0x94b7d24552933f50a5a5705c446528806dcea381     0     0      0        3.941392\n",
       "0xe0b9d4146aad6936cbfcbe4dae47e34aab96b093     0     0      0        3.566705\n",
       "0x10f6f2b97f3ab29583d9d38babf2994df7220c21     1     0      1        3.577189"
      ]
     },
     "execution_count": 9,
     "metadata": {},
     "output_type": "execute_result"
    }
   ],
   "source": [
    "df = df.merge(feature_df, left_index=True, right_index=True)\n",
    "df.select_dtypes(float).fillna(0).astype(int)\n",
    "df.head()"
   ]
  },
  {
   "cell_type": "code",
   "execution_count": 10,
   "id": "e424610d",
   "metadata": {},
   "outputs": [],
   "source": [
    "df.to_csv(os.path.join(PRO_PATH, 'dataset.csv'))"
   ]
  }
 ],
 "metadata": {
  "kernelspec": {
   "display_name": "ml-algo",
   "language": "python",
   "name": "python3"
  },
  "language_info": {
   "codemirror_mode": {
    "name": "ipython",
    "version": 3
   },
   "file_extension": ".py",
   "mimetype": "text/x-python",
   "name": "python",
   "nbconvert_exporter": "python",
   "pygments_lexer": "ipython3",
   "version": "3.12.7"
  }
 },
 "nbformat": 4,
 "nbformat_minor": 5
}
