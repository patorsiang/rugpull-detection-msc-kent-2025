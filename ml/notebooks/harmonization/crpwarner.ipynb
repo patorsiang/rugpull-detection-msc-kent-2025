{
 "cells": [
  {
   "cell_type": "markdown",
   "id": "c02ec315",
   "metadata": {},
   "source": [
    "# Label Harmonization -- CRPWarner"
   ]
  },
  {
   "cell_type": "markdown",
   "id": "ea46356f",
   "metadata": {},
   "source": [
    "## Import and Const"
   ]
  },
  {
   "cell_type": "code",
   "execution_count": 1,
   "id": "b95f4570",
   "metadata": {},
   "outputs": [],
   "source": [
    "import pandas as pd\n",
    "import os\n",
    "from pathlib import Path\n",
    "\n",
    "from utils.main import clean_column"
   ]
  },
  {
   "cell_type": "code",
   "execution_count": 2,
   "id": "4ec4d3c9",
   "metadata": {},
   "outputs": [],
   "source": [
    "PATH = Path.cwd().parents[1]\n",
    "DATA_PATH = os.path.join(PATH, 'data')\n",
    "name = 'crpwarner'\n",
    "CRP_PATH = os.path.join(DATA_PATH, f'external/{name}')\n",
    "INTERIM_PATH = os.path.join(DATA_PATH, f'interim/{name}')\n",
    "GROUND_PATH = os.path.join(CRP_PATH, 'groundtruth')\n",
    "LARGE_PATH = os.path.join(CRP_PATH, 'large/sample')"
   ]
  },
  {
   "cell_type": "markdown",
   "id": "74432282",
   "metadata": {},
   "source": [
    "## Read label files"
   ]
  },
  {
   "cell_type": "code",
   "execution_count": 3,
   "id": "e3a7989f",
   "metadata": {},
   "outputs": [],
   "source": [
    "ground_truth = pd.read_excel(os.path.join(GROUND_PATH, \"groundTruth.xlsx\"))\n",
    "mint = pd.read_excel(os.path.join(LARGE_PATH, \"mint.xlsx\"))\n",
    "leak = pd.read_excel(os.path.join(LARGE_PATH, \"leak.xlsx\"))\n",
    "limit = pd.read_excel(os.path.join(LARGE_PATH, \"limit.xlsx\"))"
   ]
  },
  {
   "cell_type": "markdown",
   "id": "3f57eeda",
   "metadata": {},
   "source": [
    "## Normalize addresses"
   ]
  },
  {
   "cell_type": "code",
   "execution_count": 4,
   "id": "a8b1c9a1",
   "metadata": {},
   "outputs": [],
   "source": [
    "ground_truth['address'] = ground_truth['address'].str.lower()\n",
    "mint['Address'] = mint['Address'].str.lower()\n",
    "leak['Address'] = leak['Address'].str.lower()\n",
    "limit['Address'] = limit['Address'].str.lower()"
   ]
  },
  {
   "cell_type": "markdown",
   "id": "74681dec",
   "metadata": {},
   "source": [
    "## Set binary indicators (TP? == Yes → 1)"
   ]
  },
  {
   "cell_type": "code",
   "execution_count": 5,
   "id": "3349b0d8",
   "metadata": {},
   "outputs": [],
   "source": [
    "mint['Mint'] = (mint['TP?'] == 'Yes').astype(int)\n",
    "leak['Leak'] = (leak['TP?'] == 'Yes').astype(int)\n",
    "limit['Limit'] = (limit['TP?'] == 'Yes').astype(int)"
   ]
  },
  {
   "cell_type": "markdown",
   "id": "09dff0d1",
   "metadata": {},
   "source": [
    "## Merge everything into a unified dataframe"
   ]
  },
  {
   "cell_type": "code",
   "execution_count": 6,
   "id": "c8320cbc",
   "metadata": {},
   "outputs": [],
   "source": [
    "df_all = pd.DataFrame({'address': pd.concat([\n",
    "    mint['Address'], leak['Address'], limit['Address']\n",
    "]).drop_duplicates()})"
   ]
  },
  {
   "cell_type": "code",
   "execution_count": 7,
   "id": "26636ccc",
   "metadata": {},
   "outputs": [],
   "source": [
    "df_all = df_all.merge(mint[['Address', 'Mint']], left_on='address', right_on='Address', how='left').drop(columns='Address')\n",
    "df_all = df_all.merge(leak[['Address', 'Leak']], left_on='address', right_on='Address', how='left').drop(columns='Address')\n",
    "df_all = df_all.merge(limit[['Address', 'Limit']], left_on='address', right_on='Address', how='left').drop(columns='Address')"
   ]
  },
  {
   "cell_type": "markdown",
   "id": "be36fe88",
   "metadata": {},
   "source": [
    "## Fill missing labels with 0 (absence of evidence)"
   ]
  },
  {
   "cell_type": "code",
   "execution_count": 8,
   "id": "87c66cff",
   "metadata": {},
   "outputs": [
    {
     "data": {
      "text/plain": [
       "267"
      ]
     },
     "execution_count": 8,
     "metadata": {},
     "output_type": "execute_result"
    }
   ],
   "source": [
    "len(df_all)"
   ]
  },
  {
   "cell_type": "code",
   "execution_count": 9,
   "id": "ec795432",
   "metadata": {},
   "outputs": [
    {
     "data": {
      "application/vnd.microsoft.datawrangler.viewer.v0+json": {
       "columns": [
        {
         "name": "index",
         "rawType": "object",
         "type": "string"
        },
        {
         "name": "0",
         "rawType": "int64",
         "type": "integer"
        }
       ],
       "ref": "98e6bbf2-f8d5-4ab0-a139-cc14ce35350b",
       "rows": [
        [
         "address",
         "0"
        ],
        [
         "Mint",
         "175"
        ],
        [
         "Leak",
         "179"
        ],
        [
         "Limit",
         "175"
        ]
       ],
       "shape": {
        "columns": 1,
        "rows": 4
       }
      },
      "text/plain": [
       "address      0\n",
       "Mint       175\n",
       "Leak       179\n",
       "Limit      175\n",
       "dtype: int64"
      ]
     },
     "execution_count": 9,
     "metadata": {},
     "output_type": "execute_result"
    }
   ],
   "source": [
    "df_all.isna().sum()"
   ]
  },
  {
   "cell_type": "code",
   "execution_count": 10,
   "id": "bf04be67",
   "metadata": {},
   "outputs": [],
   "source": [
    "df_all[['Mint', 'Leak', 'Limit']] = df_all[['Mint', 'Leak', 'Limit']].fillna(0).astype(int)"
   ]
  },
  {
   "cell_type": "code",
   "execution_count": 11,
   "id": "f8d43b97",
   "metadata": {},
   "outputs": [
    {
     "data": {
      "application/vnd.microsoft.datawrangler.viewer.v0+json": {
       "columns": [
        {
         "name": "index",
         "rawType": "object",
         "type": "string"
        },
        {
         "name": "0",
         "rawType": "int64",
         "type": "integer"
        }
       ],
       "ref": "671a6a44-7414-4fa7-b8b3-436a00414967",
       "rows": [
        [
         "address",
         "0"
        ],
        [
         "Mint",
         "0"
        ],
        [
         "Leak",
         "0"
        ],
        [
         "Limit",
         "0"
        ]
       ],
       "shape": {
        "columns": 1,
        "rows": 4
       }
      },
      "text/plain": [
       "address    0\n",
       "Mint       0\n",
       "Leak       0\n",
       "Limit      0\n",
       "dtype: int64"
      ]
     },
     "execution_count": 11,
     "metadata": {},
     "output_type": "execute_result"
    }
   ],
   "source": [
    "df_all.isna().sum()"
   ]
  },
  {
   "cell_type": "markdown",
   "id": "5f6df052",
   "metadata": {},
   "source": [
    "## Clean Column Names"
   ]
  },
  {
   "cell_type": "code",
   "execution_count": 12,
   "id": "f293d61e",
   "metadata": {},
   "outputs": [],
   "source": [
    "ground_truth = clean_column(ground_truth)\n",
    "df_all = clean_column(df_all)"
   ]
  },
  {
   "cell_type": "markdown",
   "id": "ba46e527",
   "metadata": {},
   "source": [
    "## Save to CSV"
   ]
  },
  {
   "cell_type": "code",
   "execution_count": 13,
   "id": "61176bdf",
   "metadata": {},
   "outputs": [],
   "source": [
    "ground_truth.to_csv(os.path.join(INTERIM_PATH, \"dataset-modified.csv\"), index=False)\n",
    "df_all.to_csv(os.path.join(INTERIM_PATH, \"sample_dataset-modified.csv\"), index=False)"
   ]
  },
  {
   "cell_type": "code",
   "execution_count": null,
   "id": "b597a16f",
   "metadata": {},
   "outputs": [],
   "source": []
  }
 ],
 "metadata": {
  "kernelspec": {
   "display_name": "ml-algo",
   "language": "python",
   "name": "python3"
  },
  "language_info": {
   "codemirror_mode": {
    "name": "ipython",
    "version": 3
   },
   "file_extension": ".py",
   "mimetype": "text/x-python",
   "name": "python",
   "nbconvert_exporter": "python",
   "pygments_lexer": "ipython3",
   "version": "3.12.7"
  }
 },
 "nbformat": 4,
 "nbformat_minor": 5
}
