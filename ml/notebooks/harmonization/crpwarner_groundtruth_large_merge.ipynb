{
 "cells": [
  {
   "cell_type": "markdown",
   "id": "de8989c8",
   "metadata": {},
   "source": [
    "# Preparing Each Label From CPRWarner Groundtruth + Large Sample"
   ]
  },
  {
   "cell_type": "markdown",
   "id": "53dceeb5",
   "metadata": {},
   "source": [
    "## Set up"
   ]
  },
  {
   "cell_type": "code",
   "execution_count": 1,
   "id": "d133a0a4",
   "metadata": {},
   "outputs": [],
   "source": [
    "import os\n",
    "from pathlib import Path\n",
    "import pandas as pd\n",
    "import shutil"
   ]
  },
  {
   "cell_type": "code",
   "execution_count": 2,
   "id": "2c96bd57",
   "metadata": {},
   "outputs": [],
   "source": [
    "PATH = Path.cwd().parents[1]\n",
    "DATA_PATH = os.path.join(PATH, 'data/external/crpwarner')\n",
    "GROUNDTRUTH_PATH = os.path.join(DATA_PATH, 'groundtruth')\n",
    "GROUND_HEX_PATH = os.path.join(GROUNDTRUTH_PATH, 'hex')\n",
    "GROUND_SOL_PATH = os.path.join(GROUNDTRUTH_PATH, 'sol')\n",
    "LARGE_PATH = os.path.join(DATA_PATH, 'large')\n",
    "LARGE_HEX_PATH = os.path.join(LARGE_PATH, 'hex')\n",
    "LARGE_SOL_PATH = os.path.join(LARGE_PATH, 'sol')\n",
    "MERGE_PATH = os.path.join(DATA_PATH, 'merged')\n",
    "SOL_PATH = os.path.join(MERGE_PATH, 'sol')\n",
    "HEX_PATH = os.path.join(MERGE_PATH, 'hex')\n",
    "os.makedirs(MERGE_PATH, exist_ok=True)\n",
    "os.makedirs(SOL_PATH, exist_ok=True)\n",
    "os.makedirs(HEX_PATH, exist_ok=True)"
   ]
  },
  {
   "cell_type": "code",
   "execution_count": 3,
   "id": "a59a31a7",
   "metadata": {},
   "outputs": [],
   "source": [
    "groundtruth_df = pd.read_excel(os.path.join(GROUNDTRUTH_PATH, 'groundTruth.xlsx'))"
   ]
  },
  {
   "cell_type": "code",
   "execution_count": 4,
   "id": "f24bb890",
   "metadata": {},
   "outputs": [],
   "source": [
    "SAMPLE_PATH = os.path.join(LARGE_PATH, 'sample')\n",
    "mint_df = pd.read_excel(os.path.join(SAMPLE_PATH, 'mint.xlsx'))\n",
    "leak_df = pd.read_excel(os.path.join(SAMPLE_PATH, 'leak.xlsx'))\n",
    "limit_df = pd.read_excel(os.path.join(SAMPLE_PATH, 'limit.xlsx'))"
   ]
  },
  {
   "cell_type": "markdown",
   "id": "af03f988",
   "metadata": {},
   "source": [
    "## Sampling"
   ]
  },
  {
   "cell_type": "code",
   "execution_count": 5,
   "id": "fe12658b",
   "metadata": {},
   "outputs": [
    {
     "data": {
      "application/vnd.microsoft.datawrangler.viewer.v0+json": {
       "columns": [
        {
         "name": "index",
         "rawType": "int64",
         "type": "integer"
        },
        {
         "name": "address",
         "rawType": "object",
         "type": "string"
        },
        {
         "name": "Mint",
         "rawType": "int64",
         "type": "integer"
        },
        {
         "name": "Leak",
         "rawType": "int64",
         "type": "integer"
        },
        {
         "name": "Limit",
         "rawType": "int64",
         "type": "integer"
        }
       ],
       "ref": "069ca316-9245-4fde-b12b-72e55990ca36",
       "rows": [
        [
         "0",
         "0x93023F1D3525E273F291B6f76d2F5027A39BF302",
         "1",
         "0",
         "1"
        ],
        [
         "1",
         "0x2753dcE37A7eDB052a77832039bcc9aA49Ad8b25",
         "0",
         "0",
         "1"
        ],
        [
         "2",
         "0x94b7D24552933F50A5A5705C446528806dCeA381",
         "0",
         "0",
         "0"
        ],
        [
         "3",
         "0xE0b9d4146AaD6936cBfcBE4dAE47e34aAb96b093",
         "0",
         "0",
         "0"
        ],
        [
         "4",
         "0x10f6f2b97F3aB29583D9D38BaBF2994dF7220C21",
         "1",
         "0",
         "1"
        ]
       ],
       "shape": {
        "columns": 4,
        "rows": 5
       }
      },
      "text/html": [
       "<div>\n",
       "<style scoped>\n",
       "    .dataframe tbody tr th:only-of-type {\n",
       "        vertical-align: middle;\n",
       "    }\n",
       "\n",
       "    .dataframe tbody tr th {\n",
       "        vertical-align: top;\n",
       "    }\n",
       "\n",
       "    .dataframe thead th {\n",
       "        text-align: right;\n",
       "    }\n",
       "</style>\n",
       "<table border=\"1\" class=\"dataframe\">\n",
       "  <thead>\n",
       "    <tr style=\"text-align: right;\">\n",
       "      <th></th>\n",
       "      <th>address</th>\n",
       "      <th>Mint</th>\n",
       "      <th>Leak</th>\n",
       "      <th>Limit</th>\n",
       "    </tr>\n",
       "  </thead>\n",
       "  <tbody>\n",
       "    <tr>\n",
       "      <th>0</th>\n",
       "      <td>0x93023F1D3525E273F291B6f76d2F5027A39BF302</td>\n",
       "      <td>1</td>\n",
       "      <td>0</td>\n",
       "      <td>1</td>\n",
       "    </tr>\n",
       "    <tr>\n",
       "      <th>1</th>\n",
       "      <td>0x2753dcE37A7eDB052a77832039bcc9aA49Ad8b25</td>\n",
       "      <td>0</td>\n",
       "      <td>0</td>\n",
       "      <td>1</td>\n",
       "    </tr>\n",
       "    <tr>\n",
       "      <th>2</th>\n",
       "      <td>0x94b7D24552933F50A5A5705C446528806dCeA381</td>\n",
       "      <td>0</td>\n",
       "      <td>0</td>\n",
       "      <td>0</td>\n",
       "    </tr>\n",
       "    <tr>\n",
       "      <th>3</th>\n",
       "      <td>0xE0b9d4146AaD6936cBfcBE4dAE47e34aAb96b093</td>\n",
       "      <td>0</td>\n",
       "      <td>0</td>\n",
       "      <td>0</td>\n",
       "    </tr>\n",
       "    <tr>\n",
       "      <th>4</th>\n",
       "      <td>0x10f6f2b97F3aB29583D9D38BaBF2994dF7220C21</td>\n",
       "      <td>1</td>\n",
       "      <td>0</td>\n",
       "      <td>1</td>\n",
       "    </tr>\n",
       "  </tbody>\n",
       "</table>\n",
       "</div>"
      ],
      "text/plain": [
       "                                      address  Mint  Leak  Limit\n",
       "0  0x93023F1D3525E273F291B6f76d2F5027A39BF302     1     0      1\n",
       "1  0x2753dcE37A7eDB052a77832039bcc9aA49Ad8b25     0     0      1\n",
       "2  0x94b7D24552933F50A5A5705C446528806dCeA381     0     0      0\n",
       "3  0xE0b9d4146AaD6936cBfcBE4dAE47e34aAb96b093     0     0      0\n",
       "4  0x10f6f2b97F3aB29583D9D38BaBF2994dF7220C21     1     0      1"
      ]
     },
     "execution_count": 5,
     "metadata": {},
     "output_type": "execute_result"
    }
   ],
   "source": [
    "groundtruth_df.head()"
   ]
  },
  {
   "cell_type": "code",
   "execution_count": 6,
   "id": "6e031af0",
   "metadata": {},
   "outputs": [
    {
     "data": {
      "application/vnd.microsoft.datawrangler.viewer.v0+json": {
       "columns": [
        {
         "name": "index",
         "rawType": "int64",
         "type": "integer"
        },
        {
         "name": "Address",
         "rawType": "object",
         "type": "string"
        },
        {
         "name": "TP?",
         "rawType": "object",
         "type": "string"
        }
       ],
       "ref": "600338ee-b418-4146-ab28-bb005b531ad1",
       "rows": [
        [
         "0",
         "0x0fef20d2c4ee011fa0389e69e9fa92a2291b63c8",
         "Yes"
        ],
        [
         "1",
         "0xd7cc0deb9dd11be95068bf2d7a3d082b8ba9bf04",
         "Yes"
        ],
        [
         "2",
         "0xa1b756be589441519b1a08e16bc4f60ab177d916",
         "Yes"
        ],
        [
         "3",
         "0x514bc174df04a4b04ae2be81ee8c788c3796b06b",
         "Yes"
        ],
        [
         "4",
         "0x1354c8c1a66c2573ce9cc3e92e98d17869501a46",
         "Yes"
        ]
       ],
       "shape": {
        "columns": 2,
        "rows": 5
       }
      },
      "text/html": [
       "<div>\n",
       "<style scoped>\n",
       "    .dataframe tbody tr th:only-of-type {\n",
       "        vertical-align: middle;\n",
       "    }\n",
       "\n",
       "    .dataframe tbody tr th {\n",
       "        vertical-align: top;\n",
       "    }\n",
       "\n",
       "    .dataframe thead th {\n",
       "        text-align: right;\n",
       "    }\n",
       "</style>\n",
       "<table border=\"1\" class=\"dataframe\">\n",
       "  <thead>\n",
       "    <tr style=\"text-align: right;\">\n",
       "      <th></th>\n",
       "      <th>Address</th>\n",
       "      <th>TP?</th>\n",
       "    </tr>\n",
       "  </thead>\n",
       "  <tbody>\n",
       "    <tr>\n",
       "      <th>0</th>\n",
       "      <td>0x0fef20d2c4ee011fa0389e69e9fa92a2291b63c8</td>\n",
       "      <td>Yes</td>\n",
       "    </tr>\n",
       "    <tr>\n",
       "      <th>1</th>\n",
       "      <td>0xd7cc0deb9dd11be95068bf2d7a3d082b8ba9bf04</td>\n",
       "      <td>Yes</td>\n",
       "    </tr>\n",
       "    <tr>\n",
       "      <th>2</th>\n",
       "      <td>0xa1b756be589441519b1a08e16bc4f60ab177d916</td>\n",
       "      <td>Yes</td>\n",
       "    </tr>\n",
       "    <tr>\n",
       "      <th>3</th>\n",
       "      <td>0x514bc174df04a4b04ae2be81ee8c788c3796b06b</td>\n",
       "      <td>Yes</td>\n",
       "    </tr>\n",
       "    <tr>\n",
       "      <th>4</th>\n",
       "      <td>0x1354c8c1a66c2573ce9cc3e92e98d17869501a46</td>\n",
       "      <td>Yes</td>\n",
       "    </tr>\n",
       "  </tbody>\n",
       "</table>\n",
       "</div>"
      ],
      "text/plain": [
       "                                      Address  TP?\n",
       "0  0x0fef20d2c4ee011fa0389e69e9fa92a2291b63c8  Yes\n",
       "1  0xd7cc0deb9dd11be95068bf2d7a3d082b8ba9bf04  Yes\n",
       "2  0xa1b756be589441519b1a08e16bc4f60ab177d916  Yes\n",
       "3  0x514bc174df04a4b04ae2be81ee8c788c3796b06b  Yes\n",
       "4  0x1354c8c1a66c2573ce9cc3e92e98d17869501a46  Yes"
      ]
     },
     "execution_count": 6,
     "metadata": {},
     "output_type": "execute_result"
    }
   ],
   "source": [
    "mint_df.head()"
   ]
  },
  {
   "cell_type": "code",
   "execution_count": 7,
   "id": "98285979",
   "metadata": {},
   "outputs": [
    {
     "data": {
      "application/vnd.microsoft.datawrangler.viewer.v0+json": {
       "columns": [
        {
         "name": "index",
         "rawType": "int64",
         "type": "integer"
        },
        {
         "name": "Address",
         "rawType": "object",
         "type": "string"
        },
        {
         "name": "TP?",
         "rawType": "object",
         "type": "string"
        }
       ],
       "ref": "a974cf7b-7a43-445f-b6f0-72259090c533",
       "rows": [
        [
         "0",
         "0x0290ea3c728981725689187763f6c63a68e192b8",
         "Yes"
        ],
        [
         "1",
         "0x054ad3cd4a66f14bf5c0de2548a53be66995a4f6",
         "Yes"
        ],
        [
         "2",
         "0x0566c17dc2a9efcaa2f63e04cf06a69e8fc77f60",
         "No"
        ],
        [
         "3",
         "0x10c8324b20b7266c445944f043f53f6a77ea0bd4",
         "Yes"
        ],
        [
         "4",
         "0x10cc060f6f9b2e5dcdb23f1361e4b368a7daec73",
         "Yes"
        ]
       ],
       "shape": {
        "columns": 2,
        "rows": 5
       }
      },
      "text/html": [
       "<div>\n",
       "<style scoped>\n",
       "    .dataframe tbody tr th:only-of-type {\n",
       "        vertical-align: middle;\n",
       "    }\n",
       "\n",
       "    .dataframe tbody tr th {\n",
       "        vertical-align: top;\n",
       "    }\n",
       "\n",
       "    .dataframe thead th {\n",
       "        text-align: right;\n",
       "    }\n",
       "</style>\n",
       "<table border=\"1\" class=\"dataframe\">\n",
       "  <thead>\n",
       "    <tr style=\"text-align: right;\">\n",
       "      <th></th>\n",
       "      <th>Address</th>\n",
       "      <th>TP?</th>\n",
       "    </tr>\n",
       "  </thead>\n",
       "  <tbody>\n",
       "    <tr>\n",
       "      <th>0</th>\n",
       "      <td>0x0290ea3c728981725689187763f6c63a68e192b8</td>\n",
       "      <td>Yes</td>\n",
       "    </tr>\n",
       "    <tr>\n",
       "      <th>1</th>\n",
       "      <td>0x054ad3cd4a66f14bf5c0de2548a53be66995a4f6</td>\n",
       "      <td>Yes</td>\n",
       "    </tr>\n",
       "    <tr>\n",
       "      <th>2</th>\n",
       "      <td>0x0566c17dc2a9efcaa2f63e04cf06a69e8fc77f60</td>\n",
       "      <td>No</td>\n",
       "    </tr>\n",
       "    <tr>\n",
       "      <th>3</th>\n",
       "      <td>0x10c8324b20b7266c445944f043f53f6a77ea0bd4</td>\n",
       "      <td>Yes</td>\n",
       "    </tr>\n",
       "    <tr>\n",
       "      <th>4</th>\n",
       "      <td>0x10cc060f6f9b2e5dcdb23f1361e4b368a7daec73</td>\n",
       "      <td>Yes</td>\n",
       "    </tr>\n",
       "  </tbody>\n",
       "</table>\n",
       "</div>"
      ],
      "text/plain": [
       "                                      Address  TP?\n",
       "0  0x0290ea3c728981725689187763f6c63a68e192b8  Yes\n",
       "1  0x054ad3cd4a66f14bf5c0de2548a53be66995a4f6  Yes\n",
       "2  0x0566c17dc2a9efcaa2f63e04cf06a69e8fc77f60   No\n",
       "3  0x10c8324b20b7266c445944f043f53f6a77ea0bd4  Yes\n",
       "4  0x10cc060f6f9b2e5dcdb23f1361e4b368a7daec73  Yes"
      ]
     },
     "execution_count": 7,
     "metadata": {},
     "output_type": "execute_result"
    }
   ],
   "source": [
    "leak_df.head()"
   ]
  },
  {
   "cell_type": "code",
   "execution_count": 8,
   "id": "ab357587",
   "metadata": {},
   "outputs": [
    {
     "data": {
      "application/vnd.microsoft.datawrangler.viewer.v0+json": {
       "columns": [
        {
         "name": "index",
         "rawType": "int64",
         "type": "integer"
        },
        {
         "name": "Address",
         "rawType": "object",
         "type": "string"
        },
        {
         "name": "TP?",
         "rawType": "object",
         "type": "string"
        }
       ],
       "ref": "d5e32ba0-30cc-49d7-842b-c74e37648bef",
       "rows": [
        [
         "0",
         "0xe5f3c6d2b47cbe2cf936b9521466bac2422ebef8",
         "Yes"
        ],
        [
         "1",
         "0xa623b5a542c0d7daadef321042a04c600b03a8cb",
         "Yes"
        ],
        [
         "2",
         "0xe412189da2dfa188a1a61633114b8732bbbfba19",
         "Yes"
        ],
        [
         "3",
         "0x9fcf7acdc11fd904c4b73a009909c7f00efc4844",
         "Yes"
        ],
        [
         "4",
         "0x921a5dce3dfed5cccfbb2e593f2978533bc66110",
         "Yes"
        ]
       ],
       "shape": {
        "columns": 2,
        "rows": 5
       }
      },
      "text/html": [
       "<div>\n",
       "<style scoped>\n",
       "    .dataframe tbody tr th:only-of-type {\n",
       "        vertical-align: middle;\n",
       "    }\n",
       "\n",
       "    .dataframe tbody tr th {\n",
       "        vertical-align: top;\n",
       "    }\n",
       "\n",
       "    .dataframe thead th {\n",
       "        text-align: right;\n",
       "    }\n",
       "</style>\n",
       "<table border=\"1\" class=\"dataframe\">\n",
       "  <thead>\n",
       "    <tr style=\"text-align: right;\">\n",
       "      <th></th>\n",
       "      <th>Address</th>\n",
       "      <th>TP?</th>\n",
       "    </tr>\n",
       "  </thead>\n",
       "  <tbody>\n",
       "    <tr>\n",
       "      <th>0</th>\n",
       "      <td>0xe5f3c6d2b47cbe2cf936b9521466bac2422ebef8</td>\n",
       "      <td>Yes</td>\n",
       "    </tr>\n",
       "    <tr>\n",
       "      <th>1</th>\n",
       "      <td>0xa623b5a542c0d7daadef321042a04c600b03a8cb</td>\n",
       "      <td>Yes</td>\n",
       "    </tr>\n",
       "    <tr>\n",
       "      <th>2</th>\n",
       "      <td>0xe412189da2dfa188a1a61633114b8732bbbfba19</td>\n",
       "      <td>Yes</td>\n",
       "    </tr>\n",
       "    <tr>\n",
       "      <th>3</th>\n",
       "      <td>0x9fcf7acdc11fd904c4b73a009909c7f00efc4844</td>\n",
       "      <td>Yes</td>\n",
       "    </tr>\n",
       "    <tr>\n",
       "      <th>4</th>\n",
       "      <td>0x921a5dce3dfed5cccfbb2e593f2978533bc66110</td>\n",
       "      <td>Yes</td>\n",
       "    </tr>\n",
       "  </tbody>\n",
       "</table>\n",
       "</div>"
      ],
      "text/plain": [
       "                                      Address  TP?\n",
       "0  0xe5f3c6d2b47cbe2cf936b9521466bac2422ebef8  Yes\n",
       "1  0xa623b5a542c0d7daadef321042a04c600b03a8cb  Yes\n",
       "2  0xe412189da2dfa188a1a61633114b8732bbbfba19  Yes\n",
       "3  0x9fcf7acdc11fd904c4b73a009909c7f00efc4844  Yes\n",
       "4  0x921a5dce3dfed5cccfbb2e593f2978533bc66110  Yes"
      ]
     },
     "execution_count": 8,
     "metadata": {},
     "output_type": "execute_result"
    }
   ],
   "source": [
    "limit_df.head()"
   ]
  },
  {
   "cell_type": "markdown",
   "id": "e57ac9ab",
   "metadata": {},
   "source": [
    "## Move Sol and Hex from groundtruth"
   ]
  },
  {
   "cell_type": "code",
   "execution_count": 9,
   "id": "bdfca00a",
   "metadata": {},
   "outputs": [],
   "source": [
    "for f in list(Path(GROUND_SOL_PATH).glob('*.sol')):\n",
    "    shutil.copy(f, SOL_PATH)"
   ]
  },
  {
   "cell_type": "code",
   "execution_count": 10,
   "id": "e15c3451",
   "metadata": {},
   "outputs": [],
   "source": [
    "for f in list(Path(GROUND_HEX_PATH).glob('*.hex')):\n",
    "    shutil.copy(f, HEX_PATH)"
   ]
  },
  {
   "cell_type": "markdown",
   "id": "e12e574c",
   "metadata": {},
   "source": [
    "## Mint"
   ]
  },
  {
   "cell_type": "code",
   "execution_count": 11,
   "id": "500ff0fc",
   "metadata": {},
   "outputs": [
    {
     "data": {
      "application/vnd.microsoft.datawrangler.viewer.v0+json": {
       "columns": [
        {
         "name": "address",
         "rawType": "object",
         "type": "string"
        },
        {
         "name": "TP?",
         "rawType": "int64",
         "type": "integer"
        }
       ],
       "ref": "1033aef7-5b6b-4ed7-a0f0-876384c1050a",
       "rows": [
        [
         "0x93023F1D3525E273F291B6f76d2F5027A39BF302",
         "1"
        ],
        [
         "0x2753dcE37A7eDB052a77832039bcc9aA49Ad8b25",
         "0"
        ],
        [
         "0x94b7D24552933F50A5A5705C446528806dCeA381",
         "0"
        ],
        [
         "0xE0b9d4146AaD6936cBfcBE4dAE47e34aAb96b093",
         "0"
        ],
        [
         "0x10f6f2b97F3aB29583D9D38BaBF2994dF7220C21",
         "1"
        ]
       ],
       "shape": {
        "columns": 1,
        "rows": 5
       }
      },
      "text/html": [
       "<div>\n",
       "<style scoped>\n",
       "    .dataframe tbody tr th:only-of-type {\n",
       "        vertical-align: middle;\n",
       "    }\n",
       "\n",
       "    .dataframe tbody tr th {\n",
       "        vertical-align: top;\n",
       "    }\n",
       "\n",
       "    .dataframe thead th {\n",
       "        text-align: right;\n",
       "    }\n",
       "</style>\n",
       "<table border=\"1\" class=\"dataframe\">\n",
       "  <thead>\n",
       "    <tr style=\"text-align: right;\">\n",
       "      <th></th>\n",
       "      <th>TP?</th>\n",
       "    </tr>\n",
       "    <tr>\n",
       "      <th>address</th>\n",
       "      <th></th>\n",
       "    </tr>\n",
       "  </thead>\n",
       "  <tbody>\n",
       "    <tr>\n",
       "      <th>0x93023F1D3525E273F291B6f76d2F5027A39BF302</th>\n",
       "      <td>1</td>\n",
       "    </tr>\n",
       "    <tr>\n",
       "      <th>0x2753dcE37A7eDB052a77832039bcc9aA49Ad8b25</th>\n",
       "      <td>0</td>\n",
       "    </tr>\n",
       "    <tr>\n",
       "      <th>0x94b7D24552933F50A5A5705C446528806dCeA381</th>\n",
       "      <td>0</td>\n",
       "    </tr>\n",
       "    <tr>\n",
       "      <th>0xE0b9d4146AaD6936cBfcBE4dAE47e34aAb96b093</th>\n",
       "      <td>0</td>\n",
       "    </tr>\n",
       "    <tr>\n",
       "      <th>0x10f6f2b97F3aB29583D9D38BaBF2994dF7220C21</th>\n",
       "      <td>1</td>\n",
       "    </tr>\n",
       "  </tbody>\n",
       "</table>\n",
       "</div>"
      ],
      "text/plain": [
       "                                            TP?\n",
       "address                                        \n",
       "0x93023F1D3525E273F291B6f76d2F5027A39BF302    1\n",
       "0x2753dcE37A7eDB052a77832039bcc9aA49Ad8b25    0\n",
       "0x94b7D24552933F50A5A5705C446528806dCeA381    0\n",
       "0xE0b9d4146AaD6936cBfcBE4dAE47e34aAb96b093    0\n",
       "0x10f6f2b97F3aB29583D9D38BaBF2994dF7220C21    1"
      ]
     },
     "execution_count": 11,
     "metadata": {},
     "output_type": "execute_result"
    }
   ],
   "source": [
    "# Prepare new_mint_df from groundtruth\n",
    "new_mint_df = groundtruth_df[['address', 'Mint']].rename(columns={'Mint': 'TP?'}).set_index('address')\n",
    "\n",
    "# Prepare mint_df with correct columns and types\n",
    "mint_df_subset = mint_df[['Address', 'TP?']].rename(columns={'Address': 'address'})\n",
    "mint_df_subset['TP?'] = mint_df_subset['TP?'].map({'Yes': 1, 'No': 0})\n",
    "mint_df_subset = mint_df_subset.set_index('address')\n",
    "\n",
    "# Concatenate the two DataFrames\n",
    "new_mint_df = pd.concat([new_mint_df, mint_df_subset])\n",
    "\n",
    "new_mint_df.head()"
   ]
  },
  {
   "cell_type": "code",
   "execution_count": 12,
   "id": "eee0c12c",
   "metadata": {},
   "outputs": [
    {
     "data": {
      "application/vnd.microsoft.datawrangler.viewer.v0+json": {
       "columns": [
        {
         "name": "address",
         "rawType": "object",
         "type": "string"
        },
        {
         "name": "TP?",
         "rawType": "int64",
         "type": "integer"
        }
       ],
       "ref": "6c4ee7cd-a8be-447e-9d98-f84926daf96c",
       "rows": [],
       "shape": {
        "columns": 1,
        "rows": 0
       }
      },
      "text/html": [
       "<div>\n",
       "<style scoped>\n",
       "    .dataframe tbody tr th:only-of-type {\n",
       "        vertical-align: middle;\n",
       "    }\n",
       "\n",
       "    .dataframe tbody tr th {\n",
       "        vertical-align: top;\n",
       "    }\n",
       "\n",
       "    .dataframe thead th {\n",
       "        text-align: right;\n",
       "    }\n",
       "</style>\n",
       "<table border=\"1\" class=\"dataframe\">\n",
       "  <thead>\n",
       "    <tr style=\"text-align: right;\">\n",
       "      <th></th>\n",
       "      <th>TP?</th>\n",
       "    </tr>\n",
       "    <tr>\n",
       "      <th>address</th>\n",
       "      <th></th>\n",
       "    </tr>\n",
       "  </thead>\n",
       "  <tbody>\n",
       "  </tbody>\n",
       "</table>\n",
       "</div>"
      ],
      "text/plain": [
       "Empty DataFrame\n",
       "Columns: [TP?]\n",
       "Index: []"
      ]
     },
     "execution_count": 12,
     "metadata": {},
     "output_type": "execute_result"
    }
   ],
   "source": [
    "# Check for duplicate addresses in new_mint_df\n",
    "duplicate_addresses = new_mint_df.index.duplicated(keep='first')\n",
    "new_mint_df[duplicate_addresses]"
   ]
  },
  {
   "cell_type": "markdown",
   "id": "c87840c0",
   "metadata": {},
   "source": [
    "### Save DataFrame and Move SOL + HEX"
   ]
  },
  {
   "cell_type": "code",
   "execution_count": 13,
   "id": "acb97dfe",
   "metadata": {},
   "outputs": [],
   "source": [
    "new_mint_df.to_csv(os.path.join(MERGE_PATH, 'mint.csv'))"
   ]
  },
  {
   "cell_type": "code",
   "execution_count": 14,
   "id": "92c73ed9",
   "metadata": {},
   "outputs": [],
   "source": [
    "for f in list(Path(LARGE_HEX_PATH).glob('*.hex')):\n",
    "    if f.stem in new_mint_df.index:\n",
    "        shutil.copy(f, HEX_PATH)"
   ]
  },
  {
   "cell_type": "code",
   "execution_count": 15,
   "id": "3f7802bf",
   "metadata": {},
   "outputs": [],
   "source": [
    "for f in list(Path(LARGE_SOL_PATH).glob('*.sol')):\n",
    "    if f.stem in new_mint_df.index:\n",
    "        shutil.copy(f, SOL_PATH)"
   ]
  },
  {
   "cell_type": "markdown",
   "id": "030918d4",
   "metadata": {},
   "source": [
    "## Leak"
   ]
  },
  {
   "cell_type": "code",
   "execution_count": 16,
   "id": "63f06081",
   "metadata": {},
   "outputs": [
    {
     "data": {
      "application/vnd.microsoft.datawrangler.viewer.v0+json": {
       "columns": [
        {
         "name": "address",
         "rawType": "object",
         "type": "string"
        },
        {
         "name": "TP?",
         "rawType": "int64",
         "type": "integer"
        }
       ],
       "ref": "c3f5cee5-1157-455e-bb4d-644a0f6134e0",
       "rows": [
        [
         "0x93023F1D3525E273F291B6f76d2F5027A39BF302",
         "0"
        ],
        [
         "0x2753dcE37A7eDB052a77832039bcc9aA49Ad8b25",
         "0"
        ],
        [
         "0x94b7D24552933F50A5A5705C446528806dCeA381",
         "0"
        ],
        [
         "0xE0b9d4146AaD6936cBfcBE4dAE47e34aAb96b093",
         "0"
        ],
        [
         "0x10f6f2b97F3aB29583D9D38BaBF2994dF7220C21",
         "0"
        ]
       ],
       "shape": {
        "columns": 1,
        "rows": 5
       }
      },
      "text/html": [
       "<div>\n",
       "<style scoped>\n",
       "    .dataframe tbody tr th:only-of-type {\n",
       "        vertical-align: middle;\n",
       "    }\n",
       "\n",
       "    .dataframe tbody tr th {\n",
       "        vertical-align: top;\n",
       "    }\n",
       "\n",
       "    .dataframe thead th {\n",
       "        text-align: right;\n",
       "    }\n",
       "</style>\n",
       "<table border=\"1\" class=\"dataframe\">\n",
       "  <thead>\n",
       "    <tr style=\"text-align: right;\">\n",
       "      <th></th>\n",
       "      <th>TP?</th>\n",
       "    </tr>\n",
       "    <tr>\n",
       "      <th>address</th>\n",
       "      <th></th>\n",
       "    </tr>\n",
       "  </thead>\n",
       "  <tbody>\n",
       "    <tr>\n",
       "      <th>0x93023F1D3525E273F291B6f76d2F5027A39BF302</th>\n",
       "      <td>0</td>\n",
       "    </tr>\n",
       "    <tr>\n",
       "      <th>0x2753dcE37A7eDB052a77832039bcc9aA49Ad8b25</th>\n",
       "      <td>0</td>\n",
       "    </tr>\n",
       "    <tr>\n",
       "      <th>0x94b7D24552933F50A5A5705C446528806dCeA381</th>\n",
       "      <td>0</td>\n",
       "    </tr>\n",
       "    <tr>\n",
       "      <th>0xE0b9d4146AaD6936cBfcBE4dAE47e34aAb96b093</th>\n",
       "      <td>0</td>\n",
       "    </tr>\n",
       "    <tr>\n",
       "      <th>0x10f6f2b97F3aB29583D9D38BaBF2994dF7220C21</th>\n",
       "      <td>0</td>\n",
       "    </tr>\n",
       "  </tbody>\n",
       "</table>\n",
       "</div>"
      ],
      "text/plain": [
       "                                            TP?\n",
       "address                                        \n",
       "0x93023F1D3525E273F291B6f76d2F5027A39BF302    0\n",
       "0x2753dcE37A7eDB052a77832039bcc9aA49Ad8b25    0\n",
       "0x94b7D24552933F50A5A5705C446528806dCeA381    0\n",
       "0xE0b9d4146AaD6936cBfcBE4dAE47e34aAb96b093    0\n",
       "0x10f6f2b97F3aB29583D9D38BaBF2994dF7220C21    0"
      ]
     },
     "execution_count": 16,
     "metadata": {},
     "output_type": "execute_result"
    }
   ],
   "source": [
    "# Prepare new_leak_df from groundtruth\n",
    "new_leak_df = groundtruth_df[['address', 'Leak']].rename(columns={'Leak': 'TP?'}).set_index('address')\n",
    "\n",
    "# Prepare leak_df with correct columns and types\n",
    "leak_df_subset = leak_df[['Address', 'TP?']].rename(columns={'Address': 'address'})\n",
    "leak_df_subset['TP?'] = leak_df_subset['TP?'].map({'Yes': 1, 'No': 0})\n",
    "leak_df_subset = leak_df_subset.set_index('address')\n",
    "\n",
    "# Concatenate the two DataFrames\n",
    "new_leak_df = pd.concat([new_leak_df, leak_df_subset])\n",
    "\n",
    "new_leak_df.head()"
   ]
  },
  {
   "cell_type": "code",
   "execution_count": 17,
   "id": "ba9ce662",
   "metadata": {},
   "outputs": [
    {
     "data": {
      "application/vnd.microsoft.datawrangler.viewer.v0+json": {
       "columns": [
        {
         "name": "address",
         "rawType": "object",
         "type": "string"
        },
        {
         "name": "TP?",
         "rawType": "int64",
         "type": "integer"
        }
       ],
       "ref": "a23d8fc9-0c9c-4aa4-8c97-632e85b8e7b1",
       "rows": [
        [
         "0x99d3dcf7febd2bb968b3fe7baa1a9a36546d9293",
         "0"
        ]
       ],
       "shape": {
        "columns": 1,
        "rows": 1
       }
      },
      "text/html": [
       "<div>\n",
       "<style scoped>\n",
       "    .dataframe tbody tr th:only-of-type {\n",
       "        vertical-align: middle;\n",
       "    }\n",
       "\n",
       "    .dataframe tbody tr th {\n",
       "        vertical-align: top;\n",
       "    }\n",
       "\n",
       "    .dataframe thead th {\n",
       "        text-align: right;\n",
       "    }\n",
       "</style>\n",
       "<table border=\"1\" class=\"dataframe\">\n",
       "  <thead>\n",
       "    <tr style=\"text-align: right;\">\n",
       "      <th></th>\n",
       "      <th>TP?</th>\n",
       "    </tr>\n",
       "    <tr>\n",
       "      <th>address</th>\n",
       "      <th></th>\n",
       "    </tr>\n",
       "  </thead>\n",
       "  <tbody>\n",
       "    <tr>\n",
       "      <th>0x99d3dcf7febd2bb968b3fe7baa1a9a36546d9293</th>\n",
       "      <td>0</td>\n",
       "    </tr>\n",
       "  </tbody>\n",
       "</table>\n",
       "</div>"
      ],
      "text/plain": [
       "                                            TP?\n",
       "address                                        \n",
       "0x99d3dcf7febd2bb968b3fe7baa1a9a36546d9293    0"
      ]
     },
     "execution_count": 17,
     "metadata": {},
     "output_type": "execute_result"
    }
   ],
   "source": [
    "# Check for duplicate addresses in new_leak_df\n",
    "duplicate_addresses = new_leak_df.index.duplicated(keep='first')\n",
    "new_leak_df[duplicate_addresses]"
   ]
  },
  {
   "cell_type": "code",
   "execution_count": 18,
   "id": "2bedeff4",
   "metadata": {},
   "outputs": [
    {
     "data": {
      "application/vnd.microsoft.datawrangler.viewer.v0+json": {
       "columns": [
        {
         "name": "address",
         "rawType": "object",
         "type": "string"
        },
        {
         "name": "TP?",
         "rawType": "int64",
         "type": "integer"
        }
       ],
       "ref": "3e38ca1f-dfb3-4997-b05e-0212ae413c4c",
       "rows": [
        [
         "0x93023F1D3525E273F291B6f76d2F5027A39BF302",
         "0"
        ],
        [
         "0x2753dcE37A7eDB052a77832039bcc9aA49Ad8b25",
         "0"
        ],
        [
         "0x94b7D24552933F50A5A5705C446528806dCeA381",
         "0"
        ],
        [
         "0xE0b9d4146AaD6936cBfcBE4dAE47e34aAb96b093",
         "0"
        ],
        [
         "0x10f6f2b97F3aB29583D9D38BaBF2994dF7220C21",
         "0"
        ]
       ],
       "shape": {
        "columns": 1,
        "rows": 5
       }
      },
      "text/html": [
       "<div>\n",
       "<style scoped>\n",
       "    .dataframe tbody tr th:only-of-type {\n",
       "        vertical-align: middle;\n",
       "    }\n",
       "\n",
       "    .dataframe tbody tr th {\n",
       "        vertical-align: top;\n",
       "    }\n",
       "\n",
       "    .dataframe thead th {\n",
       "        text-align: right;\n",
       "    }\n",
       "</style>\n",
       "<table border=\"1\" class=\"dataframe\">\n",
       "  <thead>\n",
       "    <tr style=\"text-align: right;\">\n",
       "      <th></th>\n",
       "      <th>TP?</th>\n",
       "    </tr>\n",
       "    <tr>\n",
       "      <th>address</th>\n",
       "      <th></th>\n",
       "    </tr>\n",
       "  </thead>\n",
       "  <tbody>\n",
       "    <tr>\n",
       "      <th>0x93023F1D3525E273F291B6f76d2F5027A39BF302</th>\n",
       "      <td>0</td>\n",
       "    </tr>\n",
       "    <tr>\n",
       "      <th>0x2753dcE37A7eDB052a77832039bcc9aA49Ad8b25</th>\n",
       "      <td>0</td>\n",
       "    </tr>\n",
       "    <tr>\n",
       "      <th>0x94b7D24552933F50A5A5705C446528806dCeA381</th>\n",
       "      <td>0</td>\n",
       "    </tr>\n",
       "    <tr>\n",
       "      <th>0xE0b9d4146AaD6936cBfcBE4dAE47e34aAb96b093</th>\n",
       "      <td>0</td>\n",
       "    </tr>\n",
       "    <tr>\n",
       "      <th>0x10f6f2b97F3aB29583D9D38BaBF2994dF7220C21</th>\n",
       "      <td>0</td>\n",
       "    </tr>\n",
       "  </tbody>\n",
       "</table>\n",
       "</div>"
      ],
      "text/plain": [
       "                                            TP?\n",
       "address                                        \n",
       "0x93023F1D3525E273F291B6f76d2F5027A39BF302    0\n",
       "0x2753dcE37A7eDB052a77832039bcc9aA49Ad8b25    0\n",
       "0x94b7D24552933F50A5A5705C446528806dCeA381    0\n",
       "0xE0b9d4146AaD6936cBfcBE4dAE47e34aAb96b093    0\n",
       "0x10f6f2b97F3aB29583D9D38BaBF2994dF7220C21    0"
      ]
     },
     "execution_count": 18,
     "metadata": {},
     "output_type": "execute_result"
    }
   ],
   "source": [
    "new_leak_df = new_leak_df[~duplicate_addresses]\n",
    "new_leak_df.head()"
   ]
  },
  {
   "cell_type": "markdown",
   "id": "74c873bb",
   "metadata": {},
   "source": [
    "### Save DataFrame and Move SOL + HEX"
   ]
  },
  {
   "cell_type": "code",
   "execution_count": 19,
   "id": "2f50e01b",
   "metadata": {},
   "outputs": [],
   "source": [
    "new_leak_df.to_csv(os.path.join(MERGE_PATH, 'leak.csv'))"
   ]
  },
  {
   "cell_type": "code",
   "execution_count": 20,
   "id": "07740e9e",
   "metadata": {},
   "outputs": [],
   "source": [
    "for f in list(Path(LARGE_HEX_PATH).glob('*.hex')):\n",
    "    if f.stem in new_leak_df.index:\n",
    "        shutil.copy(f, HEX_PATH)"
   ]
  },
  {
   "cell_type": "code",
   "execution_count": 21,
   "id": "7fad5662",
   "metadata": {},
   "outputs": [],
   "source": [
    "for f in list(Path(LARGE_SOL_PATH).glob('*.sol')):\n",
    "    if f.stem in new_leak_df.index:\n",
    "        shutil.copy(f, SOL_PATH)"
   ]
  },
  {
   "cell_type": "markdown",
   "id": "20f3baff",
   "metadata": {},
   "source": [
    "## Limit"
   ]
  },
  {
   "cell_type": "code",
   "execution_count": 22,
   "id": "8638f004",
   "metadata": {},
   "outputs": [
    {
     "data": {
      "application/vnd.microsoft.datawrangler.viewer.v0+json": {
       "columns": [
        {
         "name": "address",
         "rawType": "object",
         "type": "string"
        },
        {
         "name": "TP?",
         "rawType": "int64",
         "type": "integer"
        }
       ],
       "ref": "2f252e5a-f441-4fb8-a302-e2147e016ad8",
       "rows": [
        [
         "0x93023F1D3525E273F291B6f76d2F5027A39BF302",
         "1"
        ],
        [
         "0x2753dcE37A7eDB052a77832039bcc9aA49Ad8b25",
         "1"
        ],
        [
         "0x94b7D24552933F50A5A5705C446528806dCeA381",
         "0"
        ],
        [
         "0xE0b9d4146AaD6936cBfcBE4dAE47e34aAb96b093",
         "0"
        ],
        [
         "0x10f6f2b97F3aB29583D9D38BaBF2994dF7220C21",
         "1"
        ]
       ],
       "shape": {
        "columns": 1,
        "rows": 5
       }
      },
      "text/html": [
       "<div>\n",
       "<style scoped>\n",
       "    .dataframe tbody tr th:only-of-type {\n",
       "        vertical-align: middle;\n",
       "    }\n",
       "\n",
       "    .dataframe tbody tr th {\n",
       "        vertical-align: top;\n",
       "    }\n",
       "\n",
       "    .dataframe thead th {\n",
       "        text-align: right;\n",
       "    }\n",
       "</style>\n",
       "<table border=\"1\" class=\"dataframe\">\n",
       "  <thead>\n",
       "    <tr style=\"text-align: right;\">\n",
       "      <th></th>\n",
       "      <th>TP?</th>\n",
       "    </tr>\n",
       "    <tr>\n",
       "      <th>address</th>\n",
       "      <th></th>\n",
       "    </tr>\n",
       "  </thead>\n",
       "  <tbody>\n",
       "    <tr>\n",
       "      <th>0x93023F1D3525E273F291B6f76d2F5027A39BF302</th>\n",
       "      <td>1</td>\n",
       "    </tr>\n",
       "    <tr>\n",
       "      <th>0x2753dcE37A7eDB052a77832039bcc9aA49Ad8b25</th>\n",
       "      <td>1</td>\n",
       "    </tr>\n",
       "    <tr>\n",
       "      <th>0x94b7D24552933F50A5A5705C446528806dCeA381</th>\n",
       "      <td>0</td>\n",
       "    </tr>\n",
       "    <tr>\n",
       "      <th>0xE0b9d4146AaD6936cBfcBE4dAE47e34aAb96b093</th>\n",
       "      <td>0</td>\n",
       "    </tr>\n",
       "    <tr>\n",
       "      <th>0x10f6f2b97F3aB29583D9D38BaBF2994dF7220C21</th>\n",
       "      <td>1</td>\n",
       "    </tr>\n",
       "  </tbody>\n",
       "</table>\n",
       "</div>"
      ],
      "text/plain": [
       "                                            TP?\n",
       "address                                        \n",
       "0x93023F1D3525E273F291B6f76d2F5027A39BF302    1\n",
       "0x2753dcE37A7eDB052a77832039bcc9aA49Ad8b25    1\n",
       "0x94b7D24552933F50A5A5705C446528806dCeA381    0\n",
       "0xE0b9d4146AaD6936cBfcBE4dAE47e34aAb96b093    0\n",
       "0x10f6f2b97F3aB29583D9D38BaBF2994dF7220C21    1"
      ]
     },
     "execution_count": 22,
     "metadata": {},
     "output_type": "execute_result"
    }
   ],
   "source": [
    "# Prepare new_limit_df from groundtruth\n",
    "new_limit_df = groundtruth_df[['address', 'Limit']].rename(columns={'Limit': 'TP?'}).set_index('address')\n",
    "\n",
    "# Prepare leak_df with correct columns and types\n",
    "limit_df_subset = limit_df[['Address', 'TP?']].rename(columns={'Address': 'address'})\n",
    "limit_df_subset['TP?'] = limit_df_subset['TP?'].map({'Yes': 1, 'No': 0})\n",
    "limit_df_subset = limit_df_subset.set_index('address')\n",
    "\n",
    "# Concatenate the two DataFrames\n",
    "new_limit_df = pd.concat([new_limit_df, limit_df_subset])\n",
    "\n",
    "new_limit_df.head()"
   ]
  },
  {
   "cell_type": "code",
   "execution_count": 23,
   "id": "fa378a40",
   "metadata": {},
   "outputs": [
    {
     "data": {
      "application/vnd.microsoft.datawrangler.viewer.v0+json": {
       "columns": [
        {
         "name": "address",
         "rawType": "object",
         "type": "string"
        },
        {
         "name": "TP?",
         "rawType": "int64",
         "type": "integer"
        }
       ],
       "ref": "9416c879-1f5e-43de-b3f9-41c7e6060791",
       "rows": [
        [
         "0x61c3ee9ce25e2c88dc9a8dd98f0510b95a82397a",
         "1"
        ]
       ],
       "shape": {
        "columns": 1,
        "rows": 1
       }
      },
      "text/html": [
       "<div>\n",
       "<style scoped>\n",
       "    .dataframe tbody tr th:only-of-type {\n",
       "        vertical-align: middle;\n",
       "    }\n",
       "\n",
       "    .dataframe tbody tr th {\n",
       "        vertical-align: top;\n",
       "    }\n",
       "\n",
       "    .dataframe thead th {\n",
       "        text-align: right;\n",
       "    }\n",
       "</style>\n",
       "<table border=\"1\" class=\"dataframe\">\n",
       "  <thead>\n",
       "    <tr style=\"text-align: right;\">\n",
       "      <th></th>\n",
       "      <th>TP?</th>\n",
       "    </tr>\n",
       "    <tr>\n",
       "      <th>address</th>\n",
       "      <th></th>\n",
       "    </tr>\n",
       "  </thead>\n",
       "  <tbody>\n",
       "    <tr>\n",
       "      <th>0x61c3ee9ce25e2c88dc9a8dd98f0510b95a82397a</th>\n",
       "      <td>1</td>\n",
       "    </tr>\n",
       "  </tbody>\n",
       "</table>\n",
       "</div>"
      ],
      "text/plain": [
       "                                            TP?\n",
       "address                                        \n",
       "0x61c3ee9ce25e2c88dc9a8dd98f0510b95a82397a    1"
      ]
     },
     "execution_count": 23,
     "metadata": {},
     "output_type": "execute_result"
    }
   ],
   "source": [
    "# Check for duplicate addresses in new_limit_df\n",
    "duplicate_addresses = new_limit_df.index.duplicated(keep='first')\n",
    "new_limit_df[duplicate_addresses]"
   ]
  },
  {
   "cell_type": "code",
   "execution_count": 24,
   "id": "2935a872",
   "metadata": {},
   "outputs": [
    {
     "data": {
      "application/vnd.microsoft.datawrangler.viewer.v0+json": {
       "columns": [
        {
         "name": "address",
         "rawType": "object",
         "type": "string"
        },
        {
         "name": "TP?",
         "rawType": "int64",
         "type": "integer"
        }
       ],
       "ref": "d4f1e981-e242-4c1e-8aa1-c8353620e62f",
       "rows": [
        [
         "0x93023F1D3525E273F291B6f76d2F5027A39BF302",
         "1"
        ],
        [
         "0x2753dcE37A7eDB052a77832039bcc9aA49Ad8b25",
         "1"
        ],
        [
         "0x94b7D24552933F50A5A5705C446528806dCeA381",
         "0"
        ],
        [
         "0xE0b9d4146AaD6936cBfcBE4dAE47e34aAb96b093",
         "0"
        ],
        [
         "0x10f6f2b97F3aB29583D9D38BaBF2994dF7220C21",
         "1"
        ]
       ],
       "shape": {
        "columns": 1,
        "rows": 5
       }
      },
      "text/html": [
       "<div>\n",
       "<style scoped>\n",
       "    .dataframe tbody tr th:only-of-type {\n",
       "        vertical-align: middle;\n",
       "    }\n",
       "\n",
       "    .dataframe tbody tr th {\n",
       "        vertical-align: top;\n",
       "    }\n",
       "\n",
       "    .dataframe thead th {\n",
       "        text-align: right;\n",
       "    }\n",
       "</style>\n",
       "<table border=\"1\" class=\"dataframe\">\n",
       "  <thead>\n",
       "    <tr style=\"text-align: right;\">\n",
       "      <th></th>\n",
       "      <th>TP?</th>\n",
       "    </tr>\n",
       "    <tr>\n",
       "      <th>address</th>\n",
       "      <th></th>\n",
       "    </tr>\n",
       "  </thead>\n",
       "  <tbody>\n",
       "    <tr>\n",
       "      <th>0x93023F1D3525E273F291B6f76d2F5027A39BF302</th>\n",
       "      <td>1</td>\n",
       "    </tr>\n",
       "    <tr>\n",
       "      <th>0x2753dcE37A7eDB052a77832039bcc9aA49Ad8b25</th>\n",
       "      <td>1</td>\n",
       "    </tr>\n",
       "    <tr>\n",
       "      <th>0x94b7D24552933F50A5A5705C446528806dCeA381</th>\n",
       "      <td>0</td>\n",
       "    </tr>\n",
       "    <tr>\n",
       "      <th>0xE0b9d4146AaD6936cBfcBE4dAE47e34aAb96b093</th>\n",
       "      <td>0</td>\n",
       "    </tr>\n",
       "    <tr>\n",
       "      <th>0x10f6f2b97F3aB29583D9D38BaBF2994dF7220C21</th>\n",
       "      <td>1</td>\n",
       "    </tr>\n",
       "  </tbody>\n",
       "</table>\n",
       "</div>"
      ],
      "text/plain": [
       "                                            TP?\n",
       "address                                        \n",
       "0x93023F1D3525E273F291B6f76d2F5027A39BF302    1\n",
       "0x2753dcE37A7eDB052a77832039bcc9aA49Ad8b25    1\n",
       "0x94b7D24552933F50A5A5705C446528806dCeA381    0\n",
       "0xE0b9d4146AaD6936cBfcBE4dAE47e34aAb96b093    0\n",
       "0x10f6f2b97F3aB29583D9D38BaBF2994dF7220C21    1"
      ]
     },
     "execution_count": 24,
     "metadata": {},
     "output_type": "execute_result"
    }
   ],
   "source": [
    "new_limit_df = new_limit_df[~duplicate_addresses]\n",
    "new_limit_df.head()"
   ]
  },
  {
   "cell_type": "markdown",
   "id": "49e69b0f",
   "metadata": {},
   "source": [
    "### Save DataFrame and Move SOL + HEX"
   ]
  },
  {
   "cell_type": "code",
   "execution_count": 25,
   "id": "5a07802d",
   "metadata": {},
   "outputs": [],
   "source": [
    "new_limit_df.to_csv(os.path.join(MERGE_PATH, 'limit.csv'))"
   ]
  },
  {
   "cell_type": "code",
   "execution_count": 26,
   "id": "f0ce1ead",
   "metadata": {},
   "outputs": [],
   "source": [
    "for f in list(Path(LARGE_HEX_PATH).glob('*.hex')):\n",
    "    if f.stem in new_limit_df.index:\n",
    "        shutil.copy(f, HEX_PATH)"
   ]
  },
  {
   "cell_type": "code",
   "execution_count": 27,
   "id": "dee3fff2",
   "metadata": {},
   "outputs": [],
   "source": [
    "for f in list(Path(LARGE_SOL_PATH).glob('*.sol')):\n",
    "    if f.stem in new_limit_df.index:\n",
    "        shutil.copy(f, SOL_PATH)"
   ]
  }
 ],
 "metadata": {
  "kernelspec": {
   "display_name": "ml-algo",
   "language": "python",
   "name": "python3"
  },
  "language_info": {
   "codemirror_mode": {
    "name": "ipython",
    "version": 3
   },
   "file_extension": ".py",
   "mimetype": "text/x-python",
   "name": "python",
   "nbconvert_exporter": "python",
   "pygments_lexer": "ipython3",
   "version": "3.12.7"
  }
 },
 "nbformat": 4,
 "nbformat_minor": 5
}
