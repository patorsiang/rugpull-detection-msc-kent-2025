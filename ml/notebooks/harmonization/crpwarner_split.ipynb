{
 "cells": [
  {
   "cell_type": "markdown",
   "id": "7be3ee0c",
   "metadata": {},
   "source": [
    "# Split Dataset -- CRPWarner"
   ]
  },
  {
   "cell_type": "markdown",
   "id": "40596ba4",
   "metadata": {},
   "source": [
    "## Import Libraries"
   ]
  },
  {
   "cell_type": "code",
   "execution_count": 8,
   "id": "6efc7520",
   "metadata": {},
   "outputs": [],
   "source": [
    "import pandas as pd\n",
    "import os\n",
    "from pathlib import Path\n",
    "from sklearn.model_selection import train_test_split, KFold"
   ]
  },
  {
   "cell_type": "code",
   "execution_count": 9,
   "id": "879c6d51",
   "metadata": {},
   "outputs": [],
   "source": [
    "PATH = Path.cwd().parents[1]\n",
    "DATA_PATH = os.path.join(PATH, 'data')\n",
    "IN_PATH = os.path.join(DATA_PATH, 'interim')\n",
    "PROCESS_PATH = os.path.join(DATA_PATH, 'processed')\n",
    "NAME = 'crpwarner'"
   ]
  },
  {
   "cell_type": "markdown",
   "id": "2cc79a44",
   "metadata": {},
   "source": [
    "## Load Labeled Dataset"
   ]
  },
  {
   "cell_type": "code",
   "execution_count": 10,
   "id": "f42cd8e9",
   "metadata": {},
   "outputs": [
    {
     "data": {
      "application/vnd.microsoft.datawrangler.viewer.v0+json": {
       "columns": [
        {
         "name": "index",
         "rawType": "int64",
         "type": "integer"
        },
        {
         "name": "address",
         "rawType": "object",
         "type": "string"
        },
        {
         "name": "mint",
         "rawType": "int64",
         "type": "integer"
        },
        {
         "name": "leak",
         "rawType": "int64",
         "type": "integer"
        },
        {
         "name": "limit",
         "rawType": "int64",
         "type": "integer"
        }
       ],
       "ref": "cbdda577-b0e0-4765-a0c7-df21afdb55ac",
       "rows": [
        [
         "0",
         "0x93023f1d3525e273f291b6f76d2f5027a39bf302",
         "1",
         "0",
         "1"
        ],
        [
         "1",
         "0x2753dce37a7edb052a77832039bcc9aa49ad8b25",
         "0",
         "0",
         "1"
        ],
        [
         "2",
         "0x94b7d24552933f50a5a5705c446528806dcea381",
         "0",
         "0",
         "0"
        ],
        [
         "3",
         "0xe0b9d4146aad6936cbfcbe4dae47e34aab96b093",
         "0",
         "0",
         "0"
        ],
        [
         "4",
         "0x10f6f2b97f3ab29583d9d38babf2994df7220c21",
         "1",
         "0",
         "1"
        ]
       ],
       "shape": {
        "columns": 4,
        "rows": 5
       }
      },
      "text/html": [
       "<div>\n",
       "<style scoped>\n",
       "    .dataframe tbody tr th:only-of-type {\n",
       "        vertical-align: middle;\n",
       "    }\n",
       "\n",
       "    .dataframe tbody tr th {\n",
       "        vertical-align: top;\n",
       "    }\n",
       "\n",
       "    .dataframe thead th {\n",
       "        text-align: right;\n",
       "    }\n",
       "</style>\n",
       "<table border=\"1\" class=\"dataframe\">\n",
       "  <thead>\n",
       "    <tr style=\"text-align: right;\">\n",
       "      <th></th>\n",
       "      <th>address</th>\n",
       "      <th>mint</th>\n",
       "      <th>leak</th>\n",
       "      <th>limit</th>\n",
       "    </tr>\n",
       "  </thead>\n",
       "  <tbody>\n",
       "    <tr>\n",
       "      <th>0</th>\n",
       "      <td>0x93023f1d3525e273f291b6f76d2f5027a39bf302</td>\n",
       "      <td>1</td>\n",
       "      <td>0</td>\n",
       "      <td>1</td>\n",
       "    </tr>\n",
       "    <tr>\n",
       "      <th>1</th>\n",
       "      <td>0x2753dce37a7edb052a77832039bcc9aa49ad8b25</td>\n",
       "      <td>0</td>\n",
       "      <td>0</td>\n",
       "      <td>1</td>\n",
       "    </tr>\n",
       "    <tr>\n",
       "      <th>2</th>\n",
       "      <td>0x94b7d24552933f50a5a5705c446528806dcea381</td>\n",
       "      <td>0</td>\n",
       "      <td>0</td>\n",
       "      <td>0</td>\n",
       "    </tr>\n",
       "    <tr>\n",
       "      <th>3</th>\n",
       "      <td>0xe0b9d4146aad6936cbfcbe4dae47e34aab96b093</td>\n",
       "      <td>0</td>\n",
       "      <td>0</td>\n",
       "      <td>0</td>\n",
       "    </tr>\n",
       "    <tr>\n",
       "      <th>4</th>\n",
       "      <td>0x10f6f2b97f3ab29583d9d38babf2994df7220c21</td>\n",
       "      <td>1</td>\n",
       "      <td>0</td>\n",
       "      <td>1</td>\n",
       "    </tr>\n",
       "  </tbody>\n",
       "</table>\n",
       "</div>"
      ],
      "text/plain": [
       "                                      address  mint  leak  limit\n",
       "0  0x93023f1d3525e273f291b6f76d2f5027a39bf302     1     0      1\n",
       "1  0x2753dce37a7edb052a77832039bcc9aa49ad8b25     0     0      1\n",
       "2  0x94b7d24552933f50a5a5705c446528806dcea381     0     0      0\n",
       "3  0xe0b9d4146aad6936cbfcbe4dae47e34aab96b093     0     0      0\n",
       "4  0x10f6f2b97f3ab29583d9d38babf2994df7220c21     1     0      1"
      ]
     },
     "execution_count": 10,
     "metadata": {},
     "output_type": "execute_result"
    }
   ],
   "source": [
    "df = pd.read_csv(os.path.join(IN_PATH, f'{NAME}/dataset-modified.csv'))\n",
    "df.head()"
   ]
  },
  {
   "cell_type": "code",
   "execution_count": 11,
   "id": "dea8096c",
   "metadata": {},
   "outputs": [
    {
     "name": "stdout",
     "output_type": "stream",
     "text": [
      "<class 'pandas.core.frame.DataFrame'>\n",
      "RangeIndex: 69 entries, 0 to 68\n",
      "Data columns (total 4 columns):\n",
      " #   Column   Non-Null Count  Dtype \n",
      "---  ------   --------------  ----- \n",
      " 0   address  69 non-null     object\n",
      " 1   mint     69 non-null     int64 \n",
      " 2   leak     69 non-null     int64 \n",
      " 3   limit    69 non-null     int64 \n",
      "dtypes: int64(3), object(1)\n",
      "memory usage: 2.3+ KB\n"
     ]
    }
   ],
   "source": [
    "df.info()"
   ]
  },
  {
   "cell_type": "markdown",
   "id": "05fabf8f",
   "metadata": {},
   "source": [
    "## Train/Test Split (no stratify)"
   ]
  },
  {
   "cell_type": "code",
   "execution_count": 12,
   "id": "1ffe27ed",
   "metadata": {},
   "outputs": [
    {
     "name": "stdout",
     "output_type": "stream",
     "text": [
      "Train size: 55\n",
      "Test size: 14\n"
     ]
    }
   ],
   "source": [
    "# Split 80% train / 20% test\n",
    "train_df, test_df = train_test_split(\n",
    "    df,\n",
    "    test_size=0.2,\n",
    "    random_state=42,\n",
    "    shuffle=True\n",
    ")\n",
    "\n",
    "# Save to processed folder\n",
    "train_df.to_csv(os.path.join(PROCESS_PATH, 'train.csv'), index=False)\n",
    "test_df.to_csv(os.path.join(PROCESS_PATH, 'test.csv'), index=False)\n",
    "\n",
    "# Print shapes\n",
    "print(\"Train size:\", len(train_df))\n",
    "print(\"Test size:\", len(test_df))"
   ]
  },
  {
   "cell_type": "markdown",
   "id": "2abb3d7b",
   "metadata": {},
   "source": [
    "## K-Fold Split"
   ]
  },
  {
   "cell_type": "code",
   "execution_count": 13,
   "id": "34c834ec",
   "metadata": {},
   "outputs": [
    {
     "name": "stdout",
     "output_type": "stream",
     "text": [
      "✅ Saved 3-fold CV sets (train_fold_*.csv, val_fold_*.csv)\n"
     ]
    }
   ],
   "source": [
    "kf = KFold(n_splits=3, shuffle=True, random_state=42)\n",
    "\n",
    "for fold, (train_idx, val_idx) in enumerate(kf.split(df)):\n",
    "    train_fold = df.iloc[train_idx]\n",
    "    val_fold = df.iloc[val_idx]\n",
    "\n",
    "    train_fold.to_csv(os.path.join(PROCESS_PATH, f'train_fold_{fold}.csv'), index=False)\n",
    "    val_fold.to_csv(os.path.join(PROCESS_PATH, f'val_fold_{fold}.csv'), index=False)\n",
    "\n",
    "print(\"✅ Saved 3-fold CV sets (train_fold_*.csv, val_fold_*.csv)\")"
   ]
  },
  {
   "cell_type": "code",
   "execution_count": null,
   "id": "79c8204f",
   "metadata": {},
   "outputs": [],
   "source": []
  }
 ],
 "metadata": {
  "kernelspec": {
   "display_name": "ml-algo",
   "language": "python",
   "name": "python3"
  },
  "language_info": {
   "codemirror_mode": {
    "name": "ipython",
    "version": 3
   },
   "file_extension": ".py",
   "mimetype": "text/x-python",
   "name": "python",
   "nbconvert_exporter": "python",
   "pygments_lexer": "ipython3",
   "version": "3.12.7"
  }
 },
 "nbformat": 4,
 "nbformat_minor": 5
}
