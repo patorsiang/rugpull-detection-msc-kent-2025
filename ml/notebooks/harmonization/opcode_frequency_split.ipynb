{
 "cells": [
  {
   "cell_type": "markdown",
   "id": "7be3ee0c",
   "metadata": {},
   "source": [
    "# Split Dataset -- Opcode Frequency"
   ]
  },
  {
   "cell_type": "markdown",
   "id": "40596ba4",
   "metadata": {},
   "source": [
    "## Import Libraries"
   ]
  },
  {
   "cell_type": "code",
   "execution_count": 1,
   "id": "6efc7520",
   "metadata": {},
   "outputs": [],
   "source": [
    "import pandas as pd\n",
    "import os\n",
    "import json\n",
    "from pathlib import Path\n",
    "from sklearn.model_selection import train_test_split\n",
    "from skmultilearn.model_selection import IterativeStratification"
   ]
  },
  {
   "cell_type": "markdown",
   "id": "0aa6ac74",
   "metadata": {},
   "source": [
    "## CRPWarner"
   ]
  },
  {
   "cell_type": "code",
   "execution_count": 2,
   "id": "039e06ee",
   "metadata": {},
   "outputs": [],
   "source": [
    "source = 'crpwarner'\n",
    "dataset = 'dataset-modified.csv' # dataset-modified.csv | sample_dataset-modified.csv\n",
    "feature = 'groundtruth-feature-opcode-frequency.csv' # groundtruth-feature-opcode-frequency.csv | large-feature-opcode-frequency.csv"
   ]
  },
  {
   "cell_type": "code",
   "execution_count": 3,
   "id": "879c6d51",
   "metadata": {},
   "outputs": [],
   "source": [
    "PATH = Path.cwd().parents[1]\n",
    "DATA_PATH = os.path.join(PATH, 'data')\n",
    "IN_PATH = os.path.join(DATA_PATH, 'interim')\n",
    "CRP_PATH = os.path.join(IN_PATH, source)\n",
    "PROCESS_PATH = os.path.join(DATA_PATH, 'processed')"
   ]
  },
  {
   "cell_type": "markdown",
   "id": "2cc79a44",
   "metadata": {},
   "source": [
    "### Load Labeled Dataset"
   ]
  },
  {
   "cell_type": "code",
   "execution_count": 4,
   "id": "f42cd8e9",
   "metadata": {},
   "outputs": [
    {
     "data": {
      "application/vnd.microsoft.datawrangler.viewer.v0+json": {
       "columns": [
        {
         "name": "index",
         "rawType": "int64",
         "type": "integer"
        },
        {
         "name": "address",
         "rawType": "object",
         "type": "string"
        },
        {
         "name": "mint",
         "rawType": "int64",
         "type": "integer"
        },
        {
         "name": "leak",
         "rawType": "int64",
         "type": "integer"
        },
        {
         "name": "limit",
         "rawType": "int64",
         "type": "integer"
        }
       ],
       "ref": "c958b4cb-b66b-496c-8ea6-023dd55d66f3",
       "rows": [
        [
         "0",
         "0x93023f1d3525e273f291b6f76d2f5027a39bf302",
         "1",
         "0",
         "1"
        ],
        [
         "1",
         "0x2753dce37a7edb052a77832039bcc9aa49ad8b25",
         "0",
         "0",
         "1"
        ],
        [
         "2",
         "0x94b7d24552933f50a5a5705c446528806dcea381",
         "0",
         "0",
         "0"
        ],
        [
         "3",
         "0xe0b9d4146aad6936cbfcbe4dae47e34aab96b093",
         "0",
         "0",
         "0"
        ],
        [
         "4",
         "0x10f6f2b97f3ab29583d9d38babf2994df7220c21",
         "1",
         "0",
         "1"
        ]
       ],
       "shape": {
        "columns": 4,
        "rows": 5
       }
      },
      "text/html": [
       "<div>\n",
       "<style scoped>\n",
       "    .dataframe tbody tr th:only-of-type {\n",
       "        vertical-align: middle;\n",
       "    }\n",
       "\n",
       "    .dataframe tbody tr th {\n",
       "        vertical-align: top;\n",
       "    }\n",
       "\n",
       "    .dataframe thead th {\n",
       "        text-align: right;\n",
       "    }\n",
       "</style>\n",
       "<table border=\"1\" class=\"dataframe\">\n",
       "  <thead>\n",
       "    <tr style=\"text-align: right;\">\n",
       "      <th></th>\n",
       "      <th>address</th>\n",
       "      <th>mint</th>\n",
       "      <th>leak</th>\n",
       "      <th>limit</th>\n",
       "    </tr>\n",
       "  </thead>\n",
       "  <tbody>\n",
       "    <tr>\n",
       "      <th>0</th>\n",
       "      <td>0x93023f1d3525e273f291b6f76d2f5027a39bf302</td>\n",
       "      <td>1</td>\n",
       "      <td>0</td>\n",
       "      <td>1</td>\n",
       "    </tr>\n",
       "    <tr>\n",
       "      <th>1</th>\n",
       "      <td>0x2753dce37a7edb052a77832039bcc9aa49ad8b25</td>\n",
       "      <td>0</td>\n",
       "      <td>0</td>\n",
       "      <td>1</td>\n",
       "    </tr>\n",
       "    <tr>\n",
       "      <th>2</th>\n",
       "      <td>0x94b7d24552933f50a5a5705c446528806dcea381</td>\n",
       "      <td>0</td>\n",
       "      <td>0</td>\n",
       "      <td>0</td>\n",
       "    </tr>\n",
       "    <tr>\n",
       "      <th>3</th>\n",
       "      <td>0xe0b9d4146aad6936cbfcbe4dae47e34aab96b093</td>\n",
       "      <td>0</td>\n",
       "      <td>0</td>\n",
       "      <td>0</td>\n",
       "    </tr>\n",
       "    <tr>\n",
       "      <th>4</th>\n",
       "      <td>0x10f6f2b97f3ab29583d9d38babf2994df7220c21</td>\n",
       "      <td>1</td>\n",
       "      <td>0</td>\n",
       "      <td>1</td>\n",
       "    </tr>\n",
       "  </tbody>\n",
       "</table>\n",
       "</div>"
      ],
      "text/plain": [
       "                                      address  mint  leak  limit\n",
       "0  0x93023f1d3525e273f291b6f76d2f5027a39bf302     1     0      1\n",
       "1  0x2753dce37a7edb052a77832039bcc9aa49ad8b25     0     0      1\n",
       "2  0x94b7d24552933f50a5a5705c446528806dcea381     0     0      0\n",
       "3  0xe0b9d4146aad6936cbfcbe4dae47e34aab96b093     0     0      0\n",
       "4  0x10f6f2b97f3ab29583d9d38babf2994df7220c21     1     0      1"
      ]
     },
     "execution_count": 4,
     "metadata": {},
     "output_type": "execute_result"
    }
   ],
   "source": [
    "df = pd.read_csv(os.path.join(CRP_PATH, dataset))\n",
    "df.head()"
   ]
  },
  {
   "cell_type": "code",
   "execution_count": 5,
   "id": "dea8096c",
   "metadata": {},
   "outputs": [
    {
     "name": "stdout",
     "output_type": "stream",
     "text": [
      "<class 'pandas.core.frame.DataFrame'>\n",
      "RangeIndex: 69 entries, 0 to 68\n",
      "Data columns (total 4 columns):\n",
      " #   Column   Non-Null Count  Dtype \n",
      "---  ------   --------------  ----- \n",
      " 0   address  69 non-null     object\n",
      " 1   mint     69 non-null     int64 \n",
      " 2   leak     69 non-null     int64 \n",
      " 3   limit    69 non-null     int64 \n",
      "dtypes: int64(3), object(1)\n",
      "memory usage: 2.3+ KB\n"
     ]
    }
   ],
   "source": [
    "df.info()"
   ]
  },
  {
   "cell_type": "code",
   "execution_count": 6,
   "id": "536ec82b",
   "metadata": {},
   "outputs": [
    {
     "data": {
      "application/vnd.microsoft.datawrangler.viewer.v0+json": {
       "columns": [
        {
         "name": "index",
         "rawType": "int64",
         "type": "integer"
        },
        {
         "name": "address",
         "rawType": "object",
         "type": "string"
        },
        {
         "name": "PUSH1",
         "rawType": "int64",
         "type": "integer"
        },
        {
         "name": "MSTORE",
         "rawType": "int64",
         "type": "integer"
        },
        {
         "name": "CALLDATASIZE",
         "rawType": "int64",
         "type": "integer"
        },
        {
         "name": "LT",
         "rawType": "int64",
         "type": "integer"
        },
        {
         "name": "PUSH2",
         "rawType": "int64",
         "type": "integer"
        },
        {
         "name": "JUMPI",
         "rawType": "int64",
         "type": "integer"
        },
        {
         "name": "CALLDATALOAD",
         "rawType": "int64",
         "type": "integer"
        },
        {
         "name": "PUSH29",
         "rawType": "int64",
         "type": "integer"
        },
        {
         "name": "SWAP1",
         "rawType": "int64",
         "type": "integer"
        },
        {
         "name": "DIV",
         "rawType": "int64",
         "type": "integer"
        },
        {
         "name": "PUSH4",
         "rawType": "int64",
         "type": "integer"
        },
        {
         "name": "AND",
         "rawType": "int64",
         "type": "integer"
        },
        {
         "name": "DUP1",
         "rawType": "int64",
         "type": "integer"
        },
        {
         "name": "EQ",
         "rawType": "int64",
         "type": "integer"
        },
        {
         "name": "JUMPDEST",
         "rawType": "int64",
         "type": "integer"
        },
        {
         "name": "REVERT",
         "rawType": "int64",
         "type": "integer"
        },
        {
         "name": "CALLVALUE",
         "rawType": "int64",
         "type": "integer"
        },
        {
         "name": "ISZERO",
         "rawType": "int64",
         "type": "integer"
        },
        {
         "name": "POP",
         "rawType": "int64",
         "type": "integer"
        },
        {
         "name": "JUMP",
         "rawType": "int64",
         "type": "integer"
        },
        {
         "name": "MLOAD",
         "rawType": "int64",
         "type": "integer"
        },
        {
         "name": "ADD",
         "rawType": "int64",
         "type": "integer"
        },
        {
         "name": "DUP3",
         "rawType": "int64",
         "type": "integer"
        },
        {
         "name": "DUP2",
         "rawType": "int64",
         "type": "integer"
        },
        {
         "name": "SUB",
         "rawType": "int64",
         "type": "integer"
        },
        {
         "name": "DUP4",
         "rawType": "int64",
         "type": "integer"
        },
        {
         "name": "SWAP2",
         "rawType": "int64",
         "type": "integer"
        },
        {
         "name": "DUP5",
         "rawType": "int64",
         "type": "integer"
        },
        {
         "name": "EXP",
         "rawType": "int64",
         "type": "integer"
        },
        {
         "name": "NOT",
         "rawType": "int64",
         "type": "integer"
        },
        {
         "name": "SWAP3",
         "rawType": "int64",
         "type": "integer"
        },
        {
         "name": "RETURN",
         "rawType": "int64",
         "type": "integer"
        },
        {
         "name": "PUSH20",
         "rawType": "int64",
         "type": "integer"
        },
        {
         "name": "STOP",
         "rawType": "int64",
         "type": "integer"
        },
        {
         "name": "SLOAD",
         "rawType": "int64",
         "type": "integer"
        },
        {
         "name": "MUL",
         "rawType": "int64",
         "type": "integer"
        },
        {
         "name": "SHA3",
         "rawType": "int64",
         "type": "integer"
        },
        {
         "name": "GT",
         "rawType": "int64",
         "type": "integer"
        },
        {
         "name": "CALLER",
         "rawType": "int64",
         "type": "integer"
        },
        {
         "name": "DUP6",
         "rawType": "int64",
         "type": "integer"
        },
        {
         "name": "SSTORE",
         "rawType": "int64",
         "type": "integer"
        },
        {
         "name": "PUSH32",
         "rawType": "int64",
         "type": "integer"
        },
        {
         "name": "LOG3",
         "rawType": "int64",
         "type": "integer"
        },
        {
         "name": "DUP8",
         "rawType": "int64",
         "type": "integer"
        },
        {
         "name": "DUP7",
         "rawType": "int64",
         "type": "integer"
        },
        {
         "name": "SWAP4",
         "rawType": "int64",
         "type": "integer"
        },
        {
         "name": "DUP9",
         "rawType": "int64",
         "type": "integer"
        },
        {
         "name": "LOG2",
         "rawType": "int64",
         "type": "integer"
        },
        {
         "name": "OR",
         "rawType": "int64",
         "type": "integer"
        },
        {
         "name": "UNKNOWN_0xfe",
         "rawType": "int64",
         "type": "integer"
        },
        {
         "name": "LOG1",
         "rawType": "int64",
         "type": "integer"
        },
        {
         "name": "PUSH6",
         "rawType": "int64",
         "type": "integer"
        },
        {
         "name": "MSIZE",
         "rawType": "int64",
         "type": "integer"
        },
        {
         "name": "PUSH10",
         "rawType": "int64",
         "type": "integer"
        },
        {
         "name": "UNKNOWN_0x1e",
         "rawType": "int64",
         "type": "integer"
        },
        {
         "name": "UNKNOWN_0xaf",
         "rawType": "int64",
         "type": "integer"
        },
        {
         "name": "CHAINID",
         "rawType": "int64",
         "type": "integer"
        },
        {
         "name": "UNKNOWN_0xe2",
         "rawType": "int64",
         "type": "integer"
        },
        {
         "name": "SMOD",
         "rawType": "int64",
         "type": "integer"
        },
        {
         "name": "UNKNOWN_0xc8",
         "rawType": "int64",
         "type": "integer"
        },
        {
         "name": "ADDRESS",
         "rawType": "int64",
         "type": "integer"
        },
        {
         "name": "PUSH3",
         "rawType": "int64",
         "type": "integer"
        },
        {
         "name": "UNKNOWN_0xa5",
         "rawType": "int64",
         "type": "integer"
        },
        {
         "name": "UNKNOWN_0xc5",
         "rawType": "int64",
         "type": "integer"
        },
        {
         "name": "PC",
         "rawType": "int64",
         "type": "integer"
        },
        {
         "name": "PUSH5",
         "rawType": "int64",
         "type": "integer"
        },
        {
         "name": "SHR",
         "rawType": "float64",
         "type": "float"
        },
        {
         "name": "PUSH8",
         "rawType": "float64",
         "type": "float"
        },
        {
         "name": "SHL",
         "rawType": "float64",
         "type": "float"
        },
        {
         "name": "SWAP5",
         "rawType": "float64",
         "type": "float"
        },
        {
         "name": "CODECOPY",
         "rawType": "float64",
         "type": "float"
        },
        {
         "name": "DUP11",
         "rawType": "float64",
         "type": "float"
        },
        {
         "name": "PUSH9",
         "rawType": "float64",
         "type": "float"
        },
        {
         "name": "PUSH7",
         "rawType": "float64",
         "type": "float"
        },
        {
         "name": "SWAP6",
         "rawType": "float64",
         "type": "float"
        },
        {
         "name": "SLT",
         "rawType": "float64",
         "type": "float"
        },
        {
         "name": "PUSH19",
         "rawType": "float64",
         "type": "float"
        },
        {
         "name": "PUSH16",
         "rawType": "float64",
         "type": "float"
        },
        {
         "name": "COINBASE",
         "rawType": "float64",
         "type": "float"
        },
        {
         "name": "TIMESTAMP",
         "rawType": "float64",
         "type": "float"
        },
        {
         "name": "CALLDATACOPY",
         "rawType": "float64",
         "type": "float"
        },
        {
         "name": "RETURNDATASIZE",
         "rawType": "float64",
         "type": "float"
        },
        {
         "name": "UNKNOWN_0xcc",
         "rawType": "float64",
         "type": "float"
        },
        {
         "name": "UNKNOWN_0xbf",
         "rawType": "float64",
         "type": "float"
        },
        {
         "name": "UNKNOWN_0xa7",
         "rawType": "float64",
         "type": "float"
        },
        {
         "name": "ADDMOD",
         "rawType": "float64",
         "type": "float"
        },
        {
         "name": "UNKNOWN_0x4c",
         "rawType": "float64",
         "type": "float"
        },
        {
         "name": "PUSH28",
         "rawType": "float64",
         "type": "float"
        },
        {
         "name": "EXTCODESIZE",
         "rawType": "float64",
         "type": "float"
        },
        {
         "name": "PUSH15",
         "rawType": "float64",
         "type": "float"
        },
        {
         "name": "BYTE",
         "rawType": "float64",
         "type": "float"
        },
        {
         "name": "MSTORE8",
         "rawType": "float64",
         "type": "float"
        },
        {
         "name": "LOG4",
         "rawType": "float64",
         "type": "float"
        },
        {
         "name": "PUSH17",
         "rawType": "float64",
         "type": "float"
        },
        {
         "name": "UNKNOWN_0x22",
         "rawType": "float64",
         "type": "float"
        },
        {
         "name": "UNKNOWN_0x1f",
         "rawType": "float64",
         "type": "float"
        },
        {
         "name": "UNKNOWN_0xd3",
         "rawType": "float64",
         "type": "float"
        },
        {
         "name": "UNKNOWN_0xeb",
         "rawType": "float64",
         "type": "float"
        },
        {
         "name": "UNKNOWN_0xdf",
         "rawType": "float64",
         "type": "float"
        },
        {
         "name": "UNKNOWN_0x28",
         "rawType": "float64",
         "type": "float"
        },
        {
         "name": "UNKNOWN_0x25",
         "rawType": "float64",
         "type": "float"
        },
        {
         "name": "CODESIZE",
         "rawType": "float64",
         "type": "float"
        },
        {
         "name": "UNKNOWN_0x26",
         "rawType": "float64",
         "type": "float"
        },
        {
         "name": "SELFBALANCE",
         "rawType": "float64",
         "type": "float"
        },
        {
         "name": "UNKNOWN_0x5f",
         "rawType": "float64",
         "type": "float"
        },
        {
         "name": "UNKNOWN_0xc",
         "rawType": "float64",
         "type": "float"
        },
        {
         "name": "UNKNOWN_0xfc",
         "rawType": "float64",
         "type": "float"
        },
        {
         "name": "EXTCODEHASH",
         "rawType": "float64",
         "type": "float"
        },
        {
         "name": "INVALID_0x7d",
         "rawType": "float64",
         "type": "float"
        },
        {
         "name": "DUP13",
         "rawType": "float64",
         "type": "float"
        },
        {
         "name": "DUP14",
         "rawType": "float64",
         "type": "float"
        },
        {
         "name": "GASLIMIT",
         "rawType": "float64",
         "type": "float"
        },
        {
         "name": "NUMBER",
         "rawType": "float64",
         "type": "float"
        },
        {
         "name": "ORIGIN",
         "rawType": "float64",
         "type": "float"
        },
        {
         "name": "GASPRICE",
         "rawType": "float64",
         "type": "float"
        },
        {
         "name": "PUSH21",
         "rawType": "float64",
         "type": "float"
        },
        {
         "name": "PUSH22",
         "rawType": "float64",
         "type": "float"
        },
        {
         "name": "UNKNOWN_0xc0",
         "rawType": "float64",
         "type": "float"
        },
        {
         "name": "UNKNOWN_0xdc",
         "rawType": "float64",
         "type": "float"
        },
        {
         "name": "UNKNOWN_0x24",
         "rawType": "float64",
         "type": "float"
        },
        {
         "name": "INVALID_0x6f",
         "rawType": "float64",
         "type": "float"
        },
        {
         "name": "DUP12",
         "rawType": "float64",
         "type": "float"
        },
        {
         "name": "DUP10",
         "rawType": "float64",
         "type": "float"
        },
        {
         "name": "SWAP7",
         "rawType": "float64",
         "type": "float"
        },
        {
         "name": "GAS",
         "rawType": "float64",
         "type": "float"
        },
        {
         "name": "STATICCALL",
         "rawType": "float64",
         "type": "float"
        },
        {
         "name": "RETURNDATACOPY",
         "rawType": "float64",
         "type": "float"
        },
        {
         "name": "UNKNOWN_0x49",
         "rawType": "float64",
         "type": "float"
        },
        {
         "name": "PUSH27",
         "rawType": "float64",
         "type": "float"
        },
        {
         "name": "PUSH12",
         "rawType": "float64",
         "type": "float"
        },
        {
         "name": "UNKNOWN_0xfb",
         "rawType": "float64",
         "type": "float"
        },
        {
         "name": "PUSH18",
         "rawType": "float64",
         "type": "float"
        },
        {
         "name": "UNKNOWN_0x5d",
         "rawType": "float64",
         "type": "float"
        },
        {
         "name": "UNKNOWN_0x4f",
         "rawType": "float64",
         "type": "float"
        },
        {
         "name": "MOD",
         "rawType": "float64",
         "type": "float"
        },
        {
         "name": "CALL",
         "rawType": "float64",
         "type": "float"
        },
        {
         "name": "PUSH24",
         "rawType": "float64",
         "type": "float"
        },
        {
         "name": "UNKNOWN_0x4d",
         "rawType": "float64",
         "type": "float"
        },
        {
         "name": "PUSH14",
         "rawType": "float64",
         "type": "float"
        },
        {
         "name": "UNKNOWN_0xd6",
         "rawType": "float64",
         "type": "float"
        },
        {
         "name": "UNKNOWN_0xd4",
         "rawType": "float64",
         "type": "float"
        },
        {
         "name": "UNKNOWN_0xaa",
         "rawType": "float64",
         "type": "float"
        },
        {
         "name": "SAR",
         "rawType": "float64",
         "type": "float"
        },
        {
         "name": "SWAP12",
         "rawType": "float64",
         "type": "float"
        },
        {
         "name": "UNKNOWN_0xd9",
         "rawType": "float64",
         "type": "float"
        },
        {
         "name": "UNKNOWN_0xd",
         "rawType": "float64",
         "type": "float"
        },
        {
         "name": "UNKNOWN_0xf",
         "rawType": "float64",
         "type": "float"
        },
        {
         "name": "CREATE2",
         "rawType": "float64",
         "type": "float"
        },
        {
         "name": "UNKNOWN_0xea",
         "rawType": "float64",
         "type": "float"
        },
        {
         "name": "UNOFFICIAL_SWAP",
         "rawType": "float64",
         "type": "float"
        },
        {
         "name": "UNKNOWN_0xc9",
         "rawType": "float64",
         "type": "float"
        },
        {
         "name": "UNKNOWN_0xb8",
         "rawType": "float64",
         "type": "float"
        },
        {
         "name": "UNKNOWN_0x4a",
         "rawType": "float64",
         "type": "float"
        },
        {
         "name": "BLOCKHASH",
         "rawType": "float64",
         "type": "float"
        },
        {
         "name": "DUP15",
         "rawType": "float64",
         "type": "float"
        },
        {
         "name": "UNOFFICIAL_DUP",
         "rawType": "float64",
         "type": "float"
        },
        {
         "name": "LOG0",
         "rawType": "float64",
         "type": "float"
        },
        {
         "name": "PUSH11",
         "rawType": "float64",
         "type": "float"
        },
        {
         "name": "UNKNOWN_0xcf",
         "rawType": "float64",
         "type": "float"
        },
        {
         "name": "UNKNOWN_0xef",
         "rawType": "float64",
         "type": "float"
        },
        {
         "name": "SWAP10",
         "rawType": "float64",
         "type": "float"
        },
        {
         "name": "INVALID_0x77",
         "rawType": "float64",
         "type": "float"
        },
        {
         "name": "UNKNOWN_0xe",
         "rawType": "float64",
         "type": "float"
        },
        {
         "name": "UNKNOWN_0xc1",
         "rawType": "float64",
         "type": "float"
        },
        {
         "name": "UNKNOWN_0xcd",
         "rawType": "float64",
         "type": "float"
        },
        {
         "name": "SWAP9",
         "rawType": "float64",
         "type": "float"
        },
        {
         "name": "SWAP8",
         "rawType": "float64",
         "type": "float"
        },
        {
         "name": "UNKNOWN_0xf8",
         "rawType": "float64",
         "type": "float"
        },
        {
         "name": "UNKNOWN_0xe0",
         "rawType": "float64",
         "type": "float"
        },
        {
         "name": "UNKNOWN_0xb4",
         "rawType": "float64",
         "type": "float"
        },
        {
         "name": "UNKNOWN_0xbc",
         "rawType": "float64",
         "type": "float"
        },
        {
         "name": "PUSH26",
         "rawType": "float64",
         "type": "float"
        },
        {
         "name": "UNKNOWN_0xd5",
         "rawType": "float64",
         "type": "float"
        },
        {
         "name": "XOR",
         "rawType": "float64",
         "type": "float"
        },
        {
         "name": "SELFDESTRUCT",
         "rawType": "float64",
         "type": "float"
        },
        {
         "name": "UNKNOWN_0xbb",
         "rawType": "float64",
         "type": "float"
        },
        {
         "name": "MULMOD",
         "rawType": "float64",
         "type": "float"
        },
        {
         "name": "UNKNOWN_0xa9",
         "rawType": "float64",
         "type": "float"
        },
        {
         "name": "DIFFICULTY",
         "rawType": "float64",
         "type": "float"
        },
        {
         "name": "UNKNOWN_0x27",
         "rawType": "float64",
         "type": "float"
        },
        {
         "name": "BALANCE",
         "rawType": "float64",
         "type": "float"
        },
        {
         "name": "INVALID_0x6e",
         "rawType": "float64",
         "type": "float"
        },
        {
         "name": "PUSH13",
         "rawType": "float64",
         "type": "float"
        },
        {
         "name": "UNKNOWN_0x29",
         "rawType": "float64",
         "type": "float"
        },
        {
         "name": "UNKNOWN_0x23",
         "rawType": "float64",
         "type": "float"
        },
        {
         "name": "BASEFEE",
         "rawType": "float64",
         "type": "float"
        },
        {
         "name": "SWAP14",
         "rawType": "float64",
         "type": "float"
        },
        {
         "name": "UNKNOWN_0x5e",
         "rawType": "float64",
         "type": "float"
        },
        {
         "name": "UNKNOWN_0x2e",
         "rawType": "float64",
         "type": "float"
        },
        {
         "name": "SDIV",
         "rawType": "float64",
         "type": "float"
        },
        {
         "name": "UNKNOWN_0xca",
         "rawType": "float64",
         "type": "float"
        },
        {
         "name": "UNKNOWN_0xf6",
         "rawType": "float64",
         "type": "float"
        },
        {
         "name": "INVALID_0x6c",
         "rawType": "float64",
         "type": "float"
        },
        {
         "name": "UNKNOWN_0x5c",
         "rawType": "float64",
         "type": "float"
        },
        {
         "name": "UNKNOWN_0xda",
         "rawType": "float64",
         "type": "float"
        },
        {
         "name": "UNKNOWN_0xac",
         "rawType": "float64",
         "type": "float"
        },
        {
         "name": "UNKNOWN_0xde",
         "rawType": "float64",
         "type": "float"
        },
        {
         "name": "UNKNOWN_0xce",
         "rawType": "float64",
         "type": "float"
        },
        {
         "name": "UNKNOWN_0xab",
         "rawType": "float64",
         "type": "float"
        },
        {
         "name": "UNKNOWN_0xb7",
         "rawType": "float64",
         "type": "float"
        },
        {
         "name": "UNKNOWN_0x2d",
         "rawType": "float64",
         "type": "float"
        },
        {
         "name": "UNKNOWN_0xd1",
         "rawType": "float64",
         "type": "float"
        },
        {
         "name": "UNKNOWN_0xc7",
         "rawType": "float64",
         "type": "float"
        },
        {
         "name": "SWAP15",
         "rawType": "float64",
         "type": "float"
        },
        {
         "name": "SWAP13",
         "rawType": "float64",
         "type": "float"
        },
        {
         "name": "SWAP11",
         "rawType": "float64",
         "type": "float"
        },
        {
         "name": "UNKNOWN_0x2c",
         "rawType": "float64",
         "type": "float"
        },
        {
         "name": "UNKNOWN_0x21",
         "rawType": "float64",
         "type": "float"
        },
        {
         "name": "UNKNOWN_0x4e",
         "rawType": "float64",
         "type": "float"
        },
        {
         "name": "INVALID_0x7e",
         "rawType": "float64",
         "type": "float"
        },
        {
         "name": "CALLCODE",
         "rawType": "float64",
         "type": "float"
        },
        {
         "name": "UNKNOWN_0xbe",
         "rawType": "float64",
         "type": "float"
        },
        {
         "name": "UNKNOWN_0xb5",
         "rawType": "float64",
         "type": "float"
        },
        {
         "name": "SGT",
         "rawType": "float64",
         "type": "float"
        },
        {
         "name": "INVALID_0x78",
         "rawType": "float64",
         "type": "float"
        },
        {
         "name": "UNKNOWN_0xee",
         "rawType": "float64",
         "type": "float"
        },
        {
         "name": "UNKNOWN_0xcb",
         "rawType": "float64",
         "type": "float"
        },
        {
         "name": "UNKNOWN_0xe3",
         "rawType": "float64",
         "type": "float"
        },
        {
         "name": "UNKNOWN_0xa6",
         "rawType": "float64",
         "type": "float"
        },
        {
         "name": "UNKNOWN_0xd2",
         "rawType": "float64",
         "type": "float"
        },
        {
         "name": "UNKNOWN_0xe5",
         "rawType": "float64",
         "type": "float"
        },
        {
         "name": "PUSH23",
         "rawType": "float64",
         "type": "float"
        },
        {
         "name": "UNKNOWN_0xe6",
         "rawType": "float64",
         "type": "float"
        },
        {
         "name": "UNKNOWN_0xd0",
         "rawType": "float64",
         "type": "float"
        },
        {
         "name": "UNKNOWN_0xdd",
         "rawType": "float64",
         "type": "float"
        },
        {
         "name": "UNKNOWN_0xf7",
         "rawType": "float64",
         "type": "float"
        },
        {
         "name": "UNKNOWN_0x4b",
         "rawType": "float64",
         "type": "float"
        },
        {
         "name": "UNKNOWN_0x2a",
         "rawType": "float64",
         "type": "float"
        },
        {
         "name": "UNKNOWN_0xb3",
         "rawType": "float64",
         "type": "float"
        },
        {
         "name": "UNKNOWN_0xc4",
         "rawType": "float64",
         "type": "float"
        },
        {
         "name": "SWAP16",
         "rawType": "float64",
         "type": "float"
        },
        {
         "name": "UNOFFICIAL_PUSH",
         "rawType": "float64",
         "type": "float"
        },
        {
         "name": "UNKNOWN_0xe7",
         "rawType": "float64",
         "type": "float"
        },
        {
         "name": "UNKNOWN_0xed",
         "rawType": "float64",
         "type": "float"
        },
        {
         "name": "UNKNOWN_0xad",
         "rawType": "float64",
         "type": "float"
        },
        {
         "name": "UNKNOWN_0xe4",
         "rawType": "float64",
         "type": "float"
        },
        {
         "name": "PUSH25",
         "rawType": "float64",
         "type": "float"
        },
        {
         "name": "INVALID_0x74",
         "rawType": "float64",
         "type": "float"
        },
        {
         "name": "UNKNOWN_0xb6",
         "rawType": "float64",
         "type": "float"
        },
        {
         "name": "UNKNOWN_0xe8",
         "rawType": "float64",
         "type": "float"
        },
        {
         "name": "EXTCODECOPY",
         "rawType": "float64",
         "type": "float"
        },
        {
         "name": "SIGNEXTEND",
         "rawType": "float64",
         "type": "float"
        },
        {
         "name": "CREATE",
         "rawType": "float64",
         "type": "float"
        },
        {
         "name": "UNKNOWN_0xba",
         "rawType": "float64",
         "type": "float"
        },
        {
         "name": "UNKNOWN_0xbd",
         "rawType": "float64",
         "type": "float"
        },
        {
         "name": "DELEGATECALL",
         "rawType": "float64",
         "type": "float"
        },
        {
         "name": "UNKNOWN_0xd7",
         "rawType": "float64",
         "type": "float"
        },
        {
         "name": "UNKNOWN_0x2f",
         "rawType": "float64",
         "type": "float"
        },
        {
         "name": "UNKNOWN_0xec",
         "rawType": "float64",
         "type": "float"
        },
        {
         "name": "INVALID_0x72",
         "rawType": "float64",
         "type": "float"
        },
        {
         "name": "INVALID_0x7c",
         "rawType": "float64",
         "type": "float"
        },
        {
         "name": "UNKNOWN_0xb9",
         "rawType": "float64",
         "type": "float"
        },
        {
         "name": "UNKNOWN_0xae",
         "rawType": "float64",
         "type": "float"
        },
        {
         "name": "INVALID_0x79",
         "rawType": "float64",
         "type": "float"
        },
        {
         "name": "INVALID_0x73",
         "rawType": "float64",
         "type": "float"
        },
        {
         "name": "UNKNOWN_0xc6",
         "rawType": "float64",
         "type": "float"
        },
        {
         "name": "UNKNOWN_0xe1",
         "rawType": "float64",
         "type": "float"
        },
        {
         "name": "INVALID_0x70",
         "rawType": "float64",
         "type": "float"
        },
        {
         "name": "PUSH30",
         "rawType": "float64",
         "type": "float"
        },
        {
         "name": "DUP16",
         "rawType": "float64",
         "type": "float"
        },
        {
         "name": "UNKNOWN_0x2b",
         "rawType": "float64",
         "type": "float"
        },
        {
         "name": "UNKNOWN_0xd8",
         "rawType": "float64",
         "type": "float"
        },
        {
         "name": "INVALID_0x7a",
         "rawType": "float64",
         "type": "float"
        },
        {
         "name": "UNKNOWN_0xf9",
         "rawType": "float64",
         "type": "float"
        },
        {
         "name": "INVALID_0x7f",
         "rawType": "float64",
         "type": "float"
        }
       ],
       "ref": "29f1b7ba-0f53-409f-92c3-7705a0e23cbb",
       "rows": [
        [
         "0",
         "0x8275ebf521dc217aa79c88132017a5bcef001dd9",
         "386",
         "112",
         "10",
         "7",
         "126",
         "53",
         "17",
         "1",
         "209",
         "15",
         "25",
         "150",
         "173",
         "20",
         "101",
         "25",
         "15",
         "78",
         "158",
         "50",
         "52",
         "153",
         "53",
         "164",
         "45",
         "29",
         "88",
         "8",
         "11",
         "4",
         "28",
         "12",
         "123",
         "4",
         "34",
         "12",
         "41",
         "7",
         "21",
         "8",
         "13",
         "9",
         "7",
         "3",
         "7",
         "1",
         "1",
         "2",
         "2",
         "2",
         "1",
         "1",
         "1",
         "1",
         "1",
         "2",
         "1",
         "1",
         "1",
         "1",
         "1",
         "1",
         "1",
         "1",
         "1",
         "1",
         "0.0",
         "0.0",
         "0.0",
         "0.0",
         "0.0",
         "0.0",
         "0.0",
         "0.0",
         "0.0",
         "0.0",
         "0.0",
         "0.0",
         "0.0",
         "0.0",
         "0.0",
         "0.0",
         "0.0",
         "0.0",
         "0.0",
         "0.0",
         "0.0",
         "0.0",
         "0.0",
         "0.0",
         "0.0",
         "0.0",
         "0.0",
         "0.0",
         "0.0",
         "0.0",
         "0.0",
         "0.0",
         "0.0",
         "0.0",
         "0.0",
         "0.0",
         "0.0",
         "0.0",
         "0.0",
         "0.0",
         "0.0",
         "0.0",
         "0.0",
         "0.0",
         "0.0",
         "0.0",
         "0.0",
         "0.0",
         "0.0",
         "0.0",
         "0.0",
         "0.0",
         "0.0",
         "0.0",
         "0.0",
         "0.0",
         "0.0",
         "0.0",
         "0.0",
         "0.0",
         "0.0",
         "0.0",
         "0.0",
         "0.0",
         "0.0",
         "0.0",
         "0.0",
         "0.0",
         "0.0",
         "0.0",
         "0.0",
         "0.0",
         "0.0",
         "0.0",
         "0.0",
         "0.0",
         "0.0",
         "0.0",
         "0.0",
         "0.0",
         "0.0",
         "0.0",
         "0.0",
         "0.0",
         "0.0",
         "0.0",
         "0.0",
         "0.0",
         "0.0",
         "0.0",
         "0.0",
         "0.0",
         "0.0",
         "0.0",
         "0.0",
         "0.0",
         "0.0",
         "0.0",
         "0.0",
         "0.0",
         "0.0",
         "0.0",
         "0.0",
         "0.0",
         "0.0",
         "0.0",
         "0.0",
         "0.0",
         "0.0",
         "0.0",
         "0.0",
         "0.0",
         "0.0",
         "0.0",
         "0.0",
         "0.0",
         "0.0",
         "0.0",
         "0.0",
         "0.0",
         "0.0",
         "0.0",
         "0.0",
         "0.0",
         "0.0",
         "0.0",
         "0.0",
         "0.0",
         "0.0",
         "0.0",
         "0.0",
         "0.0",
         "0.0",
         "0.0",
         "0.0",
         "0.0",
         "0.0",
         "0.0",
         "0.0",
         "0.0",
         "0.0",
         "0.0",
         "0.0",
         "0.0",
         "0.0",
         "0.0",
         "0.0",
         "0.0",
         "0.0",
         "0.0",
         "0.0",
         "0.0",
         "0.0",
         "0.0",
         "0.0",
         "0.0",
         "0.0",
         "0.0",
         "0.0",
         "0.0",
         "0.0",
         "0.0",
         "0.0",
         "0.0",
         "0.0",
         "0.0",
         "0.0",
         "0.0",
         "0.0",
         "0.0",
         "0.0",
         "0.0",
         "0.0",
         "0.0",
         "0.0",
         "0.0",
         "0.0",
         "0.0",
         "0.0",
         "0.0",
         "0.0",
         "0.0",
         "0.0",
         "0.0",
         "0.0",
         "0.0",
         "0.0",
         "0.0",
         "0.0",
         "0.0",
         "0.0",
         "0.0",
         "0.0",
         "0.0",
         "0.0",
         "0.0",
         "0.0",
         "0.0",
         "0.0"
        ],
        [
         "1",
         "0x292e89d5d5bdab3af2f5838c194c1983f0140b43",
         "413",
         "115",
         "10",
         "8",
         "188",
         "63",
         "7",
         "0",
         "89",
         "2",
         "20",
         "47",
         "74",
         "24",
         "124",
         "22",
         "1",
         "37",
         "64",
         "92",
         "31",
         "98",
         "67",
         "87",
         "37",
         "30",
         "44",
         "25",
         "0",
         "7",
         "20",
         "1",
         "2",
         "2",
         "25",
         "3",
         "19",
         "10",
         "11",
         "15",
         "7",
         "12",
         "2",
         "3",
         "10",
         "12",
         "0",
         "0",
         "4",
         "1",
         "0",
         "1",
         "0",
         "0",
         "0",
         "0",
         "1",
         "0",
         "0",
         "0",
         "0",
         "16",
         "0",
         "0",
         "0",
         "3",
         "1.0",
         "3.0",
         "58.0",
         "5.0",
         "1.0",
         "1.0",
         "1.0",
         "2.0",
         "2.0",
         "7.0",
         "1.0",
         "1.0",
         "1.0",
         "1.0",
         "1.0",
         "1.0",
         "1.0",
         "1.0",
         "1.0",
         "1.0",
         "1.0",
         "1.0",
         "0.0",
         "0.0",
         "0.0",
         "0.0",
         "0.0",
         "0.0",
         "0.0",
         "0.0",
         "0.0",
         "0.0",
         "0.0",
         "0.0",
         "0.0",
         "0.0",
         "0.0",
         "0.0",
         "0.0",
         "0.0",
         "0.0",
         "0.0",
         "0.0",
         "0.0",
         "0.0",
         "0.0",
         "0.0",
         "0.0",
         "0.0",
         "0.0",
         "0.0",
         "0.0",
         "0.0",
         "0.0",
         "0.0",
         "0.0",
         "0.0",
         "0.0",
         "0.0",
         "0.0",
         "0.0",
         "0.0",
         "0.0",
         "0.0",
         "0.0",
         "0.0",
         "0.0",
         "0.0",
         "0.0",
         "0.0",
         "0.0",
         "0.0",
         "0.0",
         "0.0",
         "0.0",
         "0.0",
         "0.0",
         "0.0",
         "0.0",
         "0.0",
         "0.0",
         "0.0",
         "0.0",
         "0.0",
         "0.0",
         "0.0",
         "0.0",
         "0.0",
         "0.0",
         "0.0",
         "0.0",
         "0.0",
         "0.0",
         "0.0",
         "0.0",
         "0.0",
         "0.0",
         "0.0",
         "0.0",
         "0.0",
         "0.0",
         "0.0",
         "0.0",
         "0.0",
         "0.0",
         "0.0",
         "0.0",
         "0.0",
         "0.0",
         "0.0",
         "0.0",
         "0.0",
         "0.0",
         "0.0",
         "0.0",
         "0.0",
         "0.0",
         "0.0",
         "0.0",
         "0.0",
         "0.0",
         "0.0",
         "0.0",
         "0.0",
         "0.0",
         "0.0",
         "0.0",
         "0.0",
         "0.0",
         "0.0",
         "0.0",
         "0.0",
         "0.0",
         "0.0",
         "0.0",
         "0.0",
         "0.0",
         "0.0",
         "0.0",
         "0.0",
         "0.0",
         "0.0",
         "0.0",
         "0.0",
         "0.0",
         "0.0",
         "0.0",
         "0.0",
         "0.0",
         "0.0",
         "0.0",
         "0.0",
         "0.0",
         "0.0",
         "0.0",
         "0.0",
         "0.0",
         "0.0",
         "0.0",
         "0.0",
         "0.0",
         "0.0",
         "0.0",
         "0.0",
         "0.0",
         "0.0",
         "0.0",
         "0.0",
         "0.0",
         "0.0",
         "0.0",
         "0.0",
         "0.0",
         "0.0",
         "0.0",
         "0.0",
         "0.0",
         "0.0",
         "0.0",
         "0.0",
         "0.0",
         "0.0",
         "0.0",
         "0.0",
         "0.0",
         "0.0",
         "0.0",
         "0.0",
         "0.0",
         "0.0",
         "0.0",
         "0.0",
         "0.0",
         "0.0",
         "0.0",
         "0.0",
         "0.0",
         "0.0",
         "0.0"
        ],
        [
         "2",
         "0x2753dce37a7edb052a77832039bcc9aa49ad8b25",
         "660",
         "176",
         "23",
         "13",
         "378",
         "101",
         "7",
         "0",
         "157",
         "4",
         "47",
         "76",
         "118",
         "47",
         "223",
         "23",
         "1",
         "33",
         "93",
         "186",
         "56",
         "153",
         "128",
         "146",
         "73",
         "49",
         "59",
         "35",
         "0",
         "20",
         "27",
         "1",
         "2",
         "2",
         "43",
         "4",
         "27",
         "13",
         "24",
         "26",
         "12",
         "29",
         "4",
         "5",
         "7",
         "13",
         "2",
         "1",
         "5",
         "1",
         "1",
         "2",
         "0",
         "0",
         "1",
         "0",
         "0",
         "0",
         "0",
         "0",
         "0",
         "29",
         "0",
         "0",
         "0",
         "3",
         "3.0",
         "1.0",
         "105.0",
         "8.0",
         "0.0",
         "1.0",
         "0.0",
         "0.0",
         "0.0",
         "8.0",
         "0.0",
         "2.0",
         "0.0",
         "0.0",
         "1.0",
         "0.0",
         "0.0",
         "0.0",
         "0.0",
         "1.0",
         "0.0",
         "0.0",
         "3.0",
         "1.0",
         "4.0",
         "3.0",
         "3.0",
         "1.0",
         "1.0",
         "1.0",
         "1.0",
         "1.0",
         "1.0",
         "1.0",
         "1.0",
         "1.0",
         "1.0",
         "1.0",
         "1.0",
         "1.0",
         "1.0",
         "1.0",
         "1.0",
         "0.0",
         "0.0",
         "0.0",
         "0.0",
         "0.0",
         "0.0",
         "0.0",
         "0.0",
         "0.0",
         "0.0",
         "0.0",
         "0.0",
         "0.0",
         "0.0",
         "0.0",
         "0.0",
         "0.0",
         "0.0",
         "0.0",
         "0.0",
         "0.0",
         "0.0",
         "0.0",
         "0.0",
         "0.0",
         "0.0",
         "0.0",
         "0.0",
         "0.0",
         "0.0",
         "0.0",
         "0.0",
         "0.0",
         "0.0",
         "0.0",
         "0.0",
         "0.0",
         "0.0",
         "0.0",
         "0.0",
         "0.0",
         "0.0",
         "0.0",
         "0.0",
         "0.0",
         "0.0",
         "0.0",
         "0.0",
         "0.0",
         "0.0",
         "0.0",
         "0.0",
         "0.0",
         "0.0",
         "0.0",
         "0.0",
         "0.0",
         "0.0",
         "0.0",
         "0.0",
         "0.0",
         "0.0",
         "0.0",
         "0.0",
         "0.0",
         "0.0",
         "0.0",
         "0.0",
         "0.0",
         "0.0",
         "0.0",
         "0.0",
         "0.0",
         "0.0",
         "0.0",
         "0.0",
         "0.0",
         "0.0",
         "0.0",
         "0.0",
         "0.0",
         "0.0",
         "0.0",
         "0.0",
         "0.0",
         "0.0",
         "0.0",
         "0.0",
         "0.0",
         "0.0",
         "0.0",
         "0.0",
         "0.0",
         "0.0",
         "0.0",
         "0.0",
         "0.0",
         "0.0",
         "0.0",
         "0.0",
         "0.0",
         "0.0",
         "0.0",
         "0.0",
         "0.0",
         "0.0",
         "0.0",
         "0.0",
         "0.0",
         "0.0",
         "0.0",
         "0.0",
         "0.0",
         "0.0",
         "0.0",
         "0.0",
         "0.0",
         "0.0",
         "0.0",
         "0.0",
         "0.0",
         "0.0",
         "0.0",
         "0.0",
         "0.0",
         "0.0",
         "0.0",
         "0.0",
         "0.0",
         "0.0",
         "0.0",
         "0.0",
         "0.0",
         "0.0",
         "0.0",
         "0.0",
         "0.0",
         "0.0",
         "0.0",
         "0.0",
         "0.0",
         "0.0",
         "0.0",
         "0.0",
         "0.0",
         "0.0",
         "0.0",
         "0.0",
         "0.0",
         "0.0",
         "0.0",
         "0.0",
         "0.0",
         "0.0",
         "0.0",
         "0.0"
        ],
        [
         "3",
         "0xe1a0ce8b94c6a5e4791401086763d7bd0a6c18f5",
         "264",
         "77",
         "8",
         "13",
         "116",
         "36",
         "15",
         "0",
         "103",
         "6",
         "12",
         "40",
         "91",
         "11",
         "72",
         "15",
         "1",
         "20",
         "65",
         "47",
         "37",
         "78",
         "48",
         "95",
         "54",
         "33",
         "54",
         "18",
         "2",
         "4",
         "18",
         "4",
         "2",
         "0",
         "14",
         "6",
         "20",
         "3",
         "2",
         "8",
         "3",
         "3",
         "2",
         "2",
         "1",
         "14",
         "2",
         "0",
         "0",
         "1",
         "0",
         "3",
         "0",
         "0",
         "0",
         "0",
         "0",
         "0",
         "0",
         "0",
         "4",
         "6",
         "0",
         "0",
         "0",
         "2",
         "1.0",
         "2.0",
         "27.0",
         "9.0",
         "7.0",
         "2.0",
         "0.0",
         "1.0",
         "2.0",
         "0.0",
         "4.0",
         "0.0",
         "0.0",
         "0.0",
         "0.0",
         "0.0",
         "0.0",
         "0.0",
         "0.0",
         "0.0",
         "0.0",
         "0.0",
         "0.0",
         "1.0",
         "0.0",
         "1.0",
         "0.0",
         "0.0",
         "0.0",
         "0.0",
         "0.0",
         "0.0",
         "0.0",
         "0.0",
         "0.0",
         "0.0",
         "0.0",
         "0.0",
         "0.0",
         "0.0",
         "0.0",
         "0.0",
         "0.0",
         "1.0",
         "1.0",
         "3.0",
         "3.0",
         "3.0",
         "4.0",
         "2.0",
         "1.0",
         "1.0",
         "1.0",
         "1.0",
         "1.0",
         "0.0",
         "0.0",
         "0.0",
         "0.0",
         "0.0",
         "0.0",
         "0.0",
         "0.0",
         "0.0",
         "0.0",
         "0.0",
         "0.0",
         "0.0",
         "0.0",
         "0.0",
         "0.0",
         "0.0",
         "0.0",
         "0.0",
         "0.0",
         "0.0",
         "0.0",
         "0.0",
         "0.0",
         "0.0",
         "0.0",
         "0.0",
         "0.0",
         "0.0",
         "0.0",
         "0.0",
         "0.0",
         "0.0",
         "0.0",
         "0.0",
         "0.0",
         "0.0",
         "0.0",
         "0.0",
         "0.0",
         "0.0",
         "0.0",
         "0.0",
         "0.0",
         "0.0",
         "0.0",
         "0.0",
         "0.0",
         "0.0",
         "0.0",
         "0.0",
         "0.0",
         "0.0",
         "0.0",
         "0.0",
         "0.0",
         "0.0",
         "0.0",
         "0.0",
         "0.0",
         "0.0",
         "0.0",
         "0.0",
         "0.0",
         "0.0",
         "0.0",
         "0.0",
         "0.0",
         "0.0",
         "0.0",
         "0.0",
         "0.0",
         "0.0",
         "0.0",
         "0.0",
         "0.0",
         "0.0",
         "0.0",
         "0.0",
         "0.0",
         "0.0",
         "0.0",
         "0.0",
         "0.0",
         "0.0",
         "0.0",
         "0.0",
         "0.0",
         "0.0",
         "0.0",
         "0.0",
         "0.0",
         "0.0",
         "0.0",
         "0.0",
         "0.0",
         "0.0",
         "0.0",
         "0.0",
         "0.0",
         "0.0",
         "0.0",
         "0.0",
         "0.0",
         "0.0",
         "0.0",
         "0.0",
         "0.0",
         "0.0",
         "0.0",
         "0.0",
         "0.0",
         "0.0",
         "0.0",
         "0.0",
         "0.0",
         "0.0",
         "0.0",
         "0.0",
         "0.0",
         "0.0",
         "0.0",
         "0.0",
         "0.0",
         "0.0",
         "0.0",
         "0.0",
         "0.0",
         "0.0",
         "0.0",
         "0.0",
         "0.0",
         "0.0",
         "0.0",
         "0.0",
         "0.0",
         "0.0",
         "0.0",
         "0.0",
         "0.0",
         "0.0",
         "0.0",
         "0.0",
         "0.0"
        ],
        [
         "4",
         "0x9db8a10c7fe60d84397860b3af2e686d4f90c2b7",
         "801",
         "248",
         "20",
         "29",
         "312",
         "100",
         "35",
         "0",
         "310",
         "7",
         "62",
         "143",
         "243",
         "36",
         "194",
         "39",
         "1",
         "48",
         "163",
         "130",
         "107",
         "206",
         "125",
         "253",
         "152",
         "85",
         "140",
         "52",
         "2",
         "18",
         "52",
         "7",
         "4",
         "3",
         "52",
         "6",
         "75",
         "14",
         "4",
         "31",
         "15",
         "15",
         "6",
         "12",
         "18",
         "29",
         "4",
         "1",
         "4",
         "1",
         "0",
         "4",
         "0",
         "3",
         "0",
         "0",
         "1",
         "0",
         "0",
         "0",
         "7",
         "20",
         "0",
         "0",
         "0",
         "5",
         "1.0",
         "2.0",
         "97.0",
         "17.0",
         "19.0",
         "5.0",
         "1.0",
         "2.0",
         "6.0",
         "0.0",
         "4.0",
         "2.0",
         "1.0",
         "5.0",
         "0.0",
         "2.0",
         "0.0",
         "0.0",
         "0.0",
         "0.0",
         "0.0",
         "0.0",
         "1.0",
         "2.0",
         "0.0",
         "1.0",
         "1.0",
         "0.0",
         "0.0",
         "0.0",
         "0.0",
         "0.0",
         "0.0",
         "0.0",
         "0.0",
         "0.0",
         "0.0",
         "0.0",
         "0.0",
         "1.0",
         "0.0",
         "0.0",
         "0.0",
         "1.0",
         "1.0",
         "4.0",
         "2.0",
         "5.0",
         "11.0",
         "4.0",
         "1.0",
         "0.0",
         "0.0",
         "0.0",
         "0.0",
         "4.0",
         "5.0",
         "2.0",
         "1.0",
         "1.0",
         "2.0",
         "1.0",
         "2.0",
         "1.0",
         "1.0",
         "1.0",
         "1.0",
         "1.0",
         "1.0",
         "0.0",
         "0.0",
         "0.0",
         "0.0",
         "0.0",
         "0.0",
         "0.0",
         "0.0",
         "0.0",
         "0.0",
         "0.0",
         "0.0",
         "0.0",
         "0.0",
         "0.0",
         "0.0",
         "0.0",
         "0.0",
         "0.0",
         "0.0",
         "0.0",
         "0.0",
         "0.0",
         "0.0",
         "0.0",
         "0.0",
         "0.0",
         "0.0",
         "0.0",
         "0.0",
         "0.0",
         "0.0",
         "0.0",
         "0.0",
         "0.0",
         "0.0",
         "0.0",
         "0.0",
         "0.0",
         "0.0",
         "0.0",
         "0.0",
         "0.0",
         "0.0",
         "0.0",
         "0.0",
         "0.0",
         "0.0",
         "0.0",
         "0.0",
         "0.0",
         "0.0",
         "0.0",
         "0.0",
         "0.0",
         "0.0",
         "0.0",
         "0.0",
         "0.0",
         "0.0",
         "0.0",
         "0.0",
         "0.0",
         "0.0",
         "0.0",
         "0.0",
         "0.0",
         "0.0",
         "0.0",
         "0.0",
         "0.0",
         "0.0",
         "0.0",
         "0.0",
         "0.0",
         "0.0",
         "0.0",
         "0.0",
         "0.0",
         "0.0",
         "0.0",
         "0.0",
         "0.0",
         "0.0",
         "0.0",
         "0.0",
         "0.0",
         "0.0",
         "0.0",
         "0.0",
         "0.0",
         "0.0",
         "0.0",
         "0.0",
         "0.0",
         "0.0",
         "0.0",
         "0.0",
         "0.0",
         "0.0",
         "0.0",
         "0.0",
         "0.0",
         "0.0",
         "0.0",
         "0.0",
         "0.0",
         "0.0",
         "0.0",
         "0.0",
         "0.0",
         "0.0",
         "0.0",
         "0.0",
         "0.0",
         "0.0",
         "0.0",
         "0.0",
         "0.0",
         "0.0",
         "0.0",
         "0.0",
         "0.0",
         "0.0",
         "0.0",
         "0.0",
         "0.0",
         "0.0",
         "0.0",
         "0.0"
        ]
       ],
       "shape": {
        "columns": 266,
        "rows": 5
       }
      },
      "text/html": [
       "<div>\n",
       "<style scoped>\n",
       "    .dataframe tbody tr th:only-of-type {\n",
       "        vertical-align: middle;\n",
       "    }\n",
       "\n",
       "    .dataframe tbody tr th {\n",
       "        vertical-align: top;\n",
       "    }\n",
       "\n",
       "    .dataframe thead th {\n",
       "        text-align: right;\n",
       "    }\n",
       "</style>\n",
       "<table border=\"1\" class=\"dataframe\">\n",
       "  <thead>\n",
       "    <tr style=\"text-align: right;\">\n",
       "      <th></th>\n",
       "      <th>address</th>\n",
       "      <th>PUSH1</th>\n",
       "      <th>MSTORE</th>\n",
       "      <th>CALLDATASIZE</th>\n",
       "      <th>LT</th>\n",
       "      <th>PUSH2</th>\n",
       "      <th>JUMPI</th>\n",
       "      <th>CALLDATALOAD</th>\n",
       "      <th>PUSH29</th>\n",
       "      <th>SWAP1</th>\n",
       "      <th>...</th>\n",
       "      <th>UNKNOWN_0xc6</th>\n",
       "      <th>UNKNOWN_0xe1</th>\n",
       "      <th>INVALID_0x70</th>\n",
       "      <th>PUSH30</th>\n",
       "      <th>DUP16</th>\n",
       "      <th>UNKNOWN_0x2b</th>\n",
       "      <th>UNKNOWN_0xd8</th>\n",
       "      <th>INVALID_0x7a</th>\n",
       "      <th>UNKNOWN_0xf9</th>\n",
       "      <th>INVALID_0x7f</th>\n",
       "    </tr>\n",
       "  </thead>\n",
       "  <tbody>\n",
       "    <tr>\n",
       "      <th>0</th>\n",
       "      <td>0x8275ebf521dc217aa79c88132017a5bcef001dd9</td>\n",
       "      <td>386</td>\n",
       "      <td>112</td>\n",
       "      <td>10</td>\n",
       "      <td>7</td>\n",
       "      <td>126</td>\n",
       "      <td>53</td>\n",
       "      <td>17</td>\n",
       "      <td>1</td>\n",
       "      <td>209</td>\n",
       "      <td>...</td>\n",
       "      <td>0.0</td>\n",
       "      <td>0.0</td>\n",
       "      <td>0.0</td>\n",
       "      <td>0.0</td>\n",
       "      <td>0.0</td>\n",
       "      <td>0.0</td>\n",
       "      <td>0.0</td>\n",
       "      <td>0.0</td>\n",
       "      <td>0.0</td>\n",
       "      <td>0.0</td>\n",
       "    </tr>\n",
       "    <tr>\n",
       "      <th>1</th>\n",
       "      <td>0x292e89d5d5bdab3af2f5838c194c1983f0140b43</td>\n",
       "      <td>413</td>\n",
       "      <td>115</td>\n",
       "      <td>10</td>\n",
       "      <td>8</td>\n",
       "      <td>188</td>\n",
       "      <td>63</td>\n",
       "      <td>7</td>\n",
       "      <td>0</td>\n",
       "      <td>89</td>\n",
       "      <td>...</td>\n",
       "      <td>0.0</td>\n",
       "      <td>0.0</td>\n",
       "      <td>0.0</td>\n",
       "      <td>0.0</td>\n",
       "      <td>0.0</td>\n",
       "      <td>0.0</td>\n",
       "      <td>0.0</td>\n",
       "      <td>0.0</td>\n",
       "      <td>0.0</td>\n",
       "      <td>0.0</td>\n",
       "    </tr>\n",
       "    <tr>\n",
       "      <th>2</th>\n",
       "      <td>0x2753dce37a7edb052a77832039bcc9aa49ad8b25</td>\n",
       "      <td>660</td>\n",
       "      <td>176</td>\n",
       "      <td>23</td>\n",
       "      <td>13</td>\n",
       "      <td>378</td>\n",
       "      <td>101</td>\n",
       "      <td>7</td>\n",
       "      <td>0</td>\n",
       "      <td>157</td>\n",
       "      <td>...</td>\n",
       "      <td>0.0</td>\n",
       "      <td>0.0</td>\n",
       "      <td>0.0</td>\n",
       "      <td>0.0</td>\n",
       "      <td>0.0</td>\n",
       "      <td>0.0</td>\n",
       "      <td>0.0</td>\n",
       "      <td>0.0</td>\n",
       "      <td>0.0</td>\n",
       "      <td>0.0</td>\n",
       "    </tr>\n",
       "    <tr>\n",
       "      <th>3</th>\n",
       "      <td>0xe1a0ce8b94c6a5e4791401086763d7bd0a6c18f5</td>\n",
       "      <td>264</td>\n",
       "      <td>77</td>\n",
       "      <td>8</td>\n",
       "      <td>13</td>\n",
       "      <td>116</td>\n",
       "      <td>36</td>\n",
       "      <td>15</td>\n",
       "      <td>0</td>\n",
       "      <td>103</td>\n",
       "      <td>...</td>\n",
       "      <td>0.0</td>\n",
       "      <td>0.0</td>\n",
       "      <td>0.0</td>\n",
       "      <td>0.0</td>\n",
       "      <td>0.0</td>\n",
       "      <td>0.0</td>\n",
       "      <td>0.0</td>\n",
       "      <td>0.0</td>\n",
       "      <td>0.0</td>\n",
       "      <td>0.0</td>\n",
       "    </tr>\n",
       "    <tr>\n",
       "      <th>4</th>\n",
       "      <td>0x9db8a10c7fe60d84397860b3af2e686d4f90c2b7</td>\n",
       "      <td>801</td>\n",
       "      <td>248</td>\n",
       "      <td>20</td>\n",
       "      <td>29</td>\n",
       "      <td>312</td>\n",
       "      <td>100</td>\n",
       "      <td>35</td>\n",
       "      <td>0</td>\n",
       "      <td>310</td>\n",
       "      <td>...</td>\n",
       "      <td>0.0</td>\n",
       "      <td>0.0</td>\n",
       "      <td>0.0</td>\n",
       "      <td>0.0</td>\n",
       "      <td>0.0</td>\n",
       "      <td>0.0</td>\n",
       "      <td>0.0</td>\n",
       "      <td>0.0</td>\n",
       "      <td>0.0</td>\n",
       "      <td>0.0</td>\n",
       "    </tr>\n",
       "  </tbody>\n",
       "</table>\n",
       "<p>5 rows × 266 columns</p>\n",
       "</div>"
      ],
      "text/plain": [
       "                                      address  PUSH1  MSTORE  CALLDATASIZE  \\\n",
       "0  0x8275ebf521dc217aa79c88132017a5bcef001dd9    386     112            10   \n",
       "1  0x292e89d5d5bdab3af2f5838c194c1983f0140b43    413     115            10   \n",
       "2  0x2753dce37a7edb052a77832039bcc9aa49ad8b25    660     176            23   \n",
       "3  0xe1a0ce8b94c6a5e4791401086763d7bd0a6c18f5    264      77             8   \n",
       "4  0x9db8a10c7fe60d84397860b3af2e686d4f90c2b7    801     248            20   \n",
       "\n",
       "   LT  PUSH2  JUMPI  CALLDATALOAD  PUSH29  SWAP1  ...  UNKNOWN_0xc6  \\\n",
       "0   7    126     53            17       1    209  ...           0.0   \n",
       "1   8    188     63             7       0     89  ...           0.0   \n",
       "2  13    378    101             7       0    157  ...           0.0   \n",
       "3  13    116     36            15       0    103  ...           0.0   \n",
       "4  29    312    100            35       0    310  ...           0.0   \n",
       "\n",
       "   UNKNOWN_0xe1  INVALID_0x70  PUSH30  DUP16  UNKNOWN_0x2b  UNKNOWN_0xd8  \\\n",
       "0           0.0           0.0     0.0    0.0           0.0           0.0   \n",
       "1           0.0           0.0     0.0    0.0           0.0           0.0   \n",
       "2           0.0           0.0     0.0    0.0           0.0           0.0   \n",
       "3           0.0           0.0     0.0    0.0           0.0           0.0   \n",
       "4           0.0           0.0     0.0    0.0           0.0           0.0   \n",
       "\n",
       "   INVALID_0x7a  UNKNOWN_0xf9  INVALID_0x7f  \n",
       "0           0.0           0.0           0.0  \n",
       "1           0.0           0.0           0.0  \n",
       "2           0.0           0.0           0.0  \n",
       "3           0.0           0.0           0.0  \n",
       "4           0.0           0.0           0.0  \n",
       "\n",
       "[5 rows x 266 columns]"
      ]
     },
     "execution_count": 6,
     "metadata": {},
     "output_type": "execute_result"
    }
   ],
   "source": [
    "feature_df = pd.read_csv(os.path.join(CRP_PATH, feature))\n",
    "feature_df.head()"
   ]
  },
  {
   "cell_type": "code",
   "execution_count": 7,
   "id": "5130d98a",
   "metadata": {},
   "outputs": [],
   "source": [
    "dataset_df = pd.merge(df, feature_df, on=\"address\", how=\"inner\")"
   ]
  },
  {
   "cell_type": "code",
   "execution_count": 8,
   "id": "0d5fe527",
   "metadata": {},
   "outputs": [
    {
     "data": {
      "application/vnd.microsoft.datawrangler.viewer.v0+json": {
       "columns": [
        {
         "name": "index",
         "rawType": "int64",
         "type": "integer"
        },
        {
         "name": "address",
         "rawType": "object",
         "type": "string"
        },
        {
         "name": "mint",
         "rawType": "int64",
         "type": "integer"
        },
        {
         "name": "leak",
         "rawType": "int64",
         "type": "integer"
        },
        {
         "name": "limit",
         "rawType": "int64",
         "type": "integer"
        },
        {
         "name": "PUSH1",
         "rawType": "int64",
         "type": "integer"
        },
        {
         "name": "MSTORE",
         "rawType": "int64",
         "type": "integer"
        },
        {
         "name": "CALLDATASIZE",
         "rawType": "int64",
         "type": "integer"
        },
        {
         "name": "LT",
         "rawType": "int64",
         "type": "integer"
        },
        {
         "name": "PUSH2",
         "rawType": "int64",
         "type": "integer"
        },
        {
         "name": "JUMPI",
         "rawType": "int64",
         "type": "integer"
        },
        {
         "name": "CALLDATALOAD",
         "rawType": "int64",
         "type": "integer"
        },
        {
         "name": "PUSH29",
         "rawType": "int64",
         "type": "integer"
        },
        {
         "name": "SWAP1",
         "rawType": "int64",
         "type": "integer"
        },
        {
         "name": "DIV",
         "rawType": "int64",
         "type": "integer"
        },
        {
         "name": "PUSH4",
         "rawType": "int64",
         "type": "integer"
        },
        {
         "name": "AND",
         "rawType": "int64",
         "type": "integer"
        },
        {
         "name": "DUP1",
         "rawType": "int64",
         "type": "integer"
        },
        {
         "name": "EQ",
         "rawType": "int64",
         "type": "integer"
        },
        {
         "name": "JUMPDEST",
         "rawType": "int64",
         "type": "integer"
        },
        {
         "name": "REVERT",
         "rawType": "int64",
         "type": "integer"
        },
        {
         "name": "CALLVALUE",
         "rawType": "int64",
         "type": "integer"
        },
        {
         "name": "ISZERO",
         "rawType": "int64",
         "type": "integer"
        },
        {
         "name": "POP",
         "rawType": "int64",
         "type": "integer"
        },
        {
         "name": "JUMP",
         "rawType": "int64",
         "type": "integer"
        },
        {
         "name": "MLOAD",
         "rawType": "int64",
         "type": "integer"
        },
        {
         "name": "ADD",
         "rawType": "int64",
         "type": "integer"
        },
        {
         "name": "DUP3",
         "rawType": "int64",
         "type": "integer"
        },
        {
         "name": "DUP2",
         "rawType": "int64",
         "type": "integer"
        },
        {
         "name": "SUB",
         "rawType": "int64",
         "type": "integer"
        },
        {
         "name": "DUP4",
         "rawType": "int64",
         "type": "integer"
        },
        {
         "name": "SWAP2",
         "rawType": "int64",
         "type": "integer"
        },
        {
         "name": "DUP5",
         "rawType": "int64",
         "type": "integer"
        },
        {
         "name": "EXP",
         "rawType": "int64",
         "type": "integer"
        },
        {
         "name": "NOT",
         "rawType": "int64",
         "type": "integer"
        },
        {
         "name": "SWAP3",
         "rawType": "int64",
         "type": "integer"
        },
        {
         "name": "RETURN",
         "rawType": "int64",
         "type": "integer"
        },
        {
         "name": "PUSH20",
         "rawType": "int64",
         "type": "integer"
        },
        {
         "name": "STOP",
         "rawType": "int64",
         "type": "integer"
        },
        {
         "name": "SLOAD",
         "rawType": "int64",
         "type": "integer"
        },
        {
         "name": "MUL",
         "rawType": "int64",
         "type": "integer"
        },
        {
         "name": "SHA3",
         "rawType": "int64",
         "type": "integer"
        },
        {
         "name": "GT",
         "rawType": "int64",
         "type": "integer"
        },
        {
         "name": "CALLER",
         "rawType": "int64",
         "type": "integer"
        },
        {
         "name": "DUP6",
         "rawType": "int64",
         "type": "integer"
        },
        {
         "name": "SSTORE",
         "rawType": "int64",
         "type": "integer"
        },
        {
         "name": "PUSH32",
         "rawType": "int64",
         "type": "integer"
        },
        {
         "name": "LOG3",
         "rawType": "int64",
         "type": "integer"
        },
        {
         "name": "DUP8",
         "rawType": "int64",
         "type": "integer"
        },
        {
         "name": "DUP7",
         "rawType": "int64",
         "type": "integer"
        },
        {
         "name": "SWAP4",
         "rawType": "int64",
         "type": "integer"
        },
        {
         "name": "DUP9",
         "rawType": "int64",
         "type": "integer"
        },
        {
         "name": "LOG2",
         "rawType": "int64",
         "type": "integer"
        },
        {
         "name": "OR",
         "rawType": "int64",
         "type": "integer"
        },
        {
         "name": "UNKNOWN_0xfe",
         "rawType": "int64",
         "type": "integer"
        },
        {
         "name": "LOG1",
         "rawType": "int64",
         "type": "integer"
        },
        {
         "name": "PUSH6",
         "rawType": "int64",
         "type": "integer"
        },
        {
         "name": "MSIZE",
         "rawType": "int64",
         "type": "integer"
        },
        {
         "name": "PUSH10",
         "rawType": "int64",
         "type": "integer"
        },
        {
         "name": "UNKNOWN_0x1e",
         "rawType": "int64",
         "type": "integer"
        },
        {
         "name": "UNKNOWN_0xaf",
         "rawType": "int64",
         "type": "integer"
        },
        {
         "name": "CHAINID",
         "rawType": "int64",
         "type": "integer"
        },
        {
         "name": "UNKNOWN_0xe2",
         "rawType": "int64",
         "type": "integer"
        },
        {
         "name": "SMOD",
         "rawType": "int64",
         "type": "integer"
        },
        {
         "name": "UNKNOWN_0xc8",
         "rawType": "int64",
         "type": "integer"
        },
        {
         "name": "ADDRESS",
         "rawType": "int64",
         "type": "integer"
        },
        {
         "name": "PUSH3",
         "rawType": "int64",
         "type": "integer"
        },
        {
         "name": "UNKNOWN_0xa5",
         "rawType": "int64",
         "type": "integer"
        },
        {
         "name": "UNKNOWN_0xc5",
         "rawType": "int64",
         "type": "integer"
        },
        {
         "name": "PC",
         "rawType": "int64",
         "type": "integer"
        },
        {
         "name": "PUSH5",
         "rawType": "int64",
         "type": "integer"
        },
        {
         "name": "SHR",
         "rawType": "float64",
         "type": "float"
        },
        {
         "name": "PUSH8",
         "rawType": "float64",
         "type": "float"
        },
        {
         "name": "SHL",
         "rawType": "float64",
         "type": "float"
        },
        {
         "name": "SWAP5",
         "rawType": "float64",
         "type": "float"
        },
        {
         "name": "CODECOPY",
         "rawType": "float64",
         "type": "float"
        },
        {
         "name": "DUP11",
         "rawType": "float64",
         "type": "float"
        },
        {
         "name": "PUSH9",
         "rawType": "float64",
         "type": "float"
        },
        {
         "name": "PUSH7",
         "rawType": "float64",
         "type": "float"
        },
        {
         "name": "SWAP6",
         "rawType": "float64",
         "type": "float"
        },
        {
         "name": "SLT",
         "rawType": "float64",
         "type": "float"
        },
        {
         "name": "PUSH19",
         "rawType": "float64",
         "type": "float"
        },
        {
         "name": "PUSH16",
         "rawType": "float64",
         "type": "float"
        },
        {
         "name": "COINBASE",
         "rawType": "float64",
         "type": "float"
        },
        {
         "name": "TIMESTAMP",
         "rawType": "float64",
         "type": "float"
        },
        {
         "name": "CALLDATACOPY",
         "rawType": "float64",
         "type": "float"
        },
        {
         "name": "RETURNDATASIZE",
         "rawType": "float64",
         "type": "float"
        },
        {
         "name": "UNKNOWN_0xcc",
         "rawType": "float64",
         "type": "float"
        },
        {
         "name": "UNKNOWN_0xbf",
         "rawType": "float64",
         "type": "float"
        },
        {
         "name": "UNKNOWN_0xa7",
         "rawType": "float64",
         "type": "float"
        },
        {
         "name": "ADDMOD",
         "rawType": "float64",
         "type": "float"
        },
        {
         "name": "UNKNOWN_0x4c",
         "rawType": "float64",
         "type": "float"
        },
        {
         "name": "PUSH28",
         "rawType": "float64",
         "type": "float"
        },
        {
         "name": "EXTCODESIZE",
         "rawType": "float64",
         "type": "float"
        },
        {
         "name": "PUSH15",
         "rawType": "float64",
         "type": "float"
        },
        {
         "name": "BYTE",
         "rawType": "float64",
         "type": "float"
        },
        {
         "name": "MSTORE8",
         "rawType": "float64",
         "type": "float"
        },
        {
         "name": "LOG4",
         "rawType": "float64",
         "type": "float"
        },
        {
         "name": "PUSH17",
         "rawType": "float64",
         "type": "float"
        },
        {
         "name": "UNKNOWN_0x22",
         "rawType": "float64",
         "type": "float"
        },
        {
         "name": "UNKNOWN_0x1f",
         "rawType": "float64",
         "type": "float"
        },
        {
         "name": "UNKNOWN_0xd3",
         "rawType": "float64",
         "type": "float"
        },
        {
         "name": "UNKNOWN_0xeb",
         "rawType": "float64",
         "type": "float"
        },
        {
         "name": "UNKNOWN_0xdf",
         "rawType": "float64",
         "type": "float"
        },
        {
         "name": "UNKNOWN_0x28",
         "rawType": "float64",
         "type": "float"
        },
        {
         "name": "UNKNOWN_0x25",
         "rawType": "float64",
         "type": "float"
        },
        {
         "name": "CODESIZE",
         "rawType": "float64",
         "type": "float"
        },
        {
         "name": "UNKNOWN_0x26",
         "rawType": "float64",
         "type": "float"
        },
        {
         "name": "SELFBALANCE",
         "rawType": "float64",
         "type": "float"
        },
        {
         "name": "UNKNOWN_0x5f",
         "rawType": "float64",
         "type": "float"
        },
        {
         "name": "UNKNOWN_0xc",
         "rawType": "float64",
         "type": "float"
        },
        {
         "name": "UNKNOWN_0xfc",
         "rawType": "float64",
         "type": "float"
        },
        {
         "name": "EXTCODEHASH",
         "rawType": "float64",
         "type": "float"
        },
        {
         "name": "INVALID_0x7d",
         "rawType": "float64",
         "type": "float"
        },
        {
         "name": "DUP13",
         "rawType": "float64",
         "type": "float"
        },
        {
         "name": "DUP14",
         "rawType": "float64",
         "type": "float"
        },
        {
         "name": "GASLIMIT",
         "rawType": "float64",
         "type": "float"
        },
        {
         "name": "NUMBER",
         "rawType": "float64",
         "type": "float"
        },
        {
         "name": "ORIGIN",
         "rawType": "float64",
         "type": "float"
        },
        {
         "name": "GASPRICE",
         "rawType": "float64",
         "type": "float"
        },
        {
         "name": "PUSH21",
         "rawType": "float64",
         "type": "float"
        },
        {
         "name": "PUSH22",
         "rawType": "float64",
         "type": "float"
        },
        {
         "name": "UNKNOWN_0xc0",
         "rawType": "float64",
         "type": "float"
        },
        {
         "name": "UNKNOWN_0xdc",
         "rawType": "float64",
         "type": "float"
        },
        {
         "name": "UNKNOWN_0x24",
         "rawType": "float64",
         "type": "float"
        },
        {
         "name": "INVALID_0x6f",
         "rawType": "float64",
         "type": "float"
        },
        {
         "name": "DUP12",
         "rawType": "float64",
         "type": "float"
        },
        {
         "name": "DUP10",
         "rawType": "float64",
         "type": "float"
        },
        {
         "name": "SWAP7",
         "rawType": "float64",
         "type": "float"
        },
        {
         "name": "GAS",
         "rawType": "float64",
         "type": "float"
        },
        {
         "name": "STATICCALL",
         "rawType": "float64",
         "type": "float"
        },
        {
         "name": "RETURNDATACOPY",
         "rawType": "float64",
         "type": "float"
        },
        {
         "name": "UNKNOWN_0x49",
         "rawType": "float64",
         "type": "float"
        },
        {
         "name": "PUSH27",
         "rawType": "float64",
         "type": "float"
        },
        {
         "name": "PUSH12",
         "rawType": "float64",
         "type": "float"
        },
        {
         "name": "UNKNOWN_0xfb",
         "rawType": "float64",
         "type": "float"
        },
        {
         "name": "PUSH18",
         "rawType": "float64",
         "type": "float"
        },
        {
         "name": "UNKNOWN_0x5d",
         "rawType": "float64",
         "type": "float"
        },
        {
         "name": "UNKNOWN_0x4f",
         "rawType": "float64",
         "type": "float"
        },
        {
         "name": "MOD",
         "rawType": "float64",
         "type": "float"
        },
        {
         "name": "CALL",
         "rawType": "float64",
         "type": "float"
        },
        {
         "name": "PUSH24",
         "rawType": "float64",
         "type": "float"
        },
        {
         "name": "UNKNOWN_0x4d",
         "rawType": "float64",
         "type": "float"
        },
        {
         "name": "PUSH14",
         "rawType": "float64",
         "type": "float"
        },
        {
         "name": "UNKNOWN_0xd6",
         "rawType": "float64",
         "type": "float"
        },
        {
         "name": "UNKNOWN_0xd4",
         "rawType": "float64",
         "type": "float"
        },
        {
         "name": "UNKNOWN_0xaa",
         "rawType": "float64",
         "type": "float"
        },
        {
         "name": "SAR",
         "rawType": "float64",
         "type": "float"
        },
        {
         "name": "SWAP12",
         "rawType": "float64",
         "type": "float"
        },
        {
         "name": "UNKNOWN_0xd9",
         "rawType": "float64",
         "type": "float"
        },
        {
         "name": "UNKNOWN_0xd",
         "rawType": "float64",
         "type": "float"
        },
        {
         "name": "UNKNOWN_0xf",
         "rawType": "float64",
         "type": "float"
        },
        {
         "name": "CREATE2",
         "rawType": "float64",
         "type": "float"
        },
        {
         "name": "UNKNOWN_0xea",
         "rawType": "float64",
         "type": "float"
        },
        {
         "name": "UNOFFICIAL_SWAP",
         "rawType": "float64",
         "type": "float"
        },
        {
         "name": "UNKNOWN_0xc9",
         "rawType": "float64",
         "type": "float"
        },
        {
         "name": "UNKNOWN_0xb8",
         "rawType": "float64",
         "type": "float"
        },
        {
         "name": "UNKNOWN_0x4a",
         "rawType": "float64",
         "type": "float"
        },
        {
         "name": "BLOCKHASH",
         "rawType": "float64",
         "type": "float"
        },
        {
         "name": "DUP15",
         "rawType": "float64",
         "type": "float"
        },
        {
         "name": "UNOFFICIAL_DUP",
         "rawType": "float64",
         "type": "float"
        },
        {
         "name": "LOG0",
         "rawType": "float64",
         "type": "float"
        },
        {
         "name": "PUSH11",
         "rawType": "float64",
         "type": "float"
        },
        {
         "name": "UNKNOWN_0xcf",
         "rawType": "float64",
         "type": "float"
        },
        {
         "name": "UNKNOWN_0xef",
         "rawType": "float64",
         "type": "float"
        },
        {
         "name": "SWAP10",
         "rawType": "float64",
         "type": "float"
        },
        {
         "name": "INVALID_0x77",
         "rawType": "float64",
         "type": "float"
        },
        {
         "name": "UNKNOWN_0xe",
         "rawType": "float64",
         "type": "float"
        },
        {
         "name": "UNKNOWN_0xc1",
         "rawType": "float64",
         "type": "float"
        },
        {
         "name": "UNKNOWN_0xcd",
         "rawType": "float64",
         "type": "float"
        },
        {
         "name": "SWAP9",
         "rawType": "float64",
         "type": "float"
        },
        {
         "name": "SWAP8",
         "rawType": "float64",
         "type": "float"
        },
        {
         "name": "UNKNOWN_0xf8",
         "rawType": "float64",
         "type": "float"
        },
        {
         "name": "UNKNOWN_0xe0",
         "rawType": "float64",
         "type": "float"
        },
        {
         "name": "UNKNOWN_0xb4",
         "rawType": "float64",
         "type": "float"
        },
        {
         "name": "UNKNOWN_0xbc",
         "rawType": "float64",
         "type": "float"
        },
        {
         "name": "PUSH26",
         "rawType": "float64",
         "type": "float"
        },
        {
         "name": "UNKNOWN_0xd5",
         "rawType": "float64",
         "type": "float"
        },
        {
         "name": "XOR",
         "rawType": "float64",
         "type": "float"
        },
        {
         "name": "SELFDESTRUCT",
         "rawType": "float64",
         "type": "float"
        },
        {
         "name": "UNKNOWN_0xbb",
         "rawType": "float64",
         "type": "float"
        },
        {
         "name": "MULMOD",
         "rawType": "float64",
         "type": "float"
        },
        {
         "name": "UNKNOWN_0xa9",
         "rawType": "float64",
         "type": "float"
        },
        {
         "name": "DIFFICULTY",
         "rawType": "float64",
         "type": "float"
        },
        {
         "name": "UNKNOWN_0x27",
         "rawType": "float64",
         "type": "float"
        },
        {
         "name": "BALANCE",
         "rawType": "float64",
         "type": "float"
        },
        {
         "name": "INVALID_0x6e",
         "rawType": "float64",
         "type": "float"
        },
        {
         "name": "PUSH13",
         "rawType": "float64",
         "type": "float"
        },
        {
         "name": "UNKNOWN_0x29",
         "rawType": "float64",
         "type": "float"
        },
        {
         "name": "UNKNOWN_0x23",
         "rawType": "float64",
         "type": "float"
        },
        {
         "name": "BASEFEE",
         "rawType": "float64",
         "type": "float"
        },
        {
         "name": "SWAP14",
         "rawType": "float64",
         "type": "float"
        },
        {
         "name": "UNKNOWN_0x5e",
         "rawType": "float64",
         "type": "float"
        },
        {
         "name": "UNKNOWN_0x2e",
         "rawType": "float64",
         "type": "float"
        },
        {
         "name": "SDIV",
         "rawType": "float64",
         "type": "float"
        },
        {
         "name": "UNKNOWN_0xca",
         "rawType": "float64",
         "type": "float"
        },
        {
         "name": "UNKNOWN_0xf6",
         "rawType": "float64",
         "type": "float"
        },
        {
         "name": "INVALID_0x6c",
         "rawType": "float64",
         "type": "float"
        },
        {
         "name": "UNKNOWN_0x5c",
         "rawType": "float64",
         "type": "float"
        },
        {
         "name": "UNKNOWN_0xda",
         "rawType": "float64",
         "type": "float"
        },
        {
         "name": "UNKNOWN_0xac",
         "rawType": "float64",
         "type": "float"
        },
        {
         "name": "UNKNOWN_0xde",
         "rawType": "float64",
         "type": "float"
        },
        {
         "name": "UNKNOWN_0xce",
         "rawType": "float64",
         "type": "float"
        },
        {
         "name": "UNKNOWN_0xab",
         "rawType": "float64",
         "type": "float"
        },
        {
         "name": "UNKNOWN_0xb7",
         "rawType": "float64",
         "type": "float"
        },
        {
         "name": "UNKNOWN_0x2d",
         "rawType": "float64",
         "type": "float"
        },
        {
         "name": "UNKNOWN_0xd1",
         "rawType": "float64",
         "type": "float"
        },
        {
         "name": "UNKNOWN_0xc7",
         "rawType": "float64",
         "type": "float"
        },
        {
         "name": "SWAP15",
         "rawType": "float64",
         "type": "float"
        },
        {
         "name": "SWAP13",
         "rawType": "float64",
         "type": "float"
        },
        {
         "name": "SWAP11",
         "rawType": "float64",
         "type": "float"
        },
        {
         "name": "UNKNOWN_0x2c",
         "rawType": "float64",
         "type": "float"
        },
        {
         "name": "UNKNOWN_0x21",
         "rawType": "float64",
         "type": "float"
        },
        {
         "name": "UNKNOWN_0x4e",
         "rawType": "float64",
         "type": "float"
        },
        {
         "name": "INVALID_0x7e",
         "rawType": "float64",
         "type": "float"
        },
        {
         "name": "CALLCODE",
         "rawType": "float64",
         "type": "float"
        },
        {
         "name": "UNKNOWN_0xbe",
         "rawType": "float64",
         "type": "float"
        },
        {
         "name": "UNKNOWN_0xb5",
         "rawType": "float64",
         "type": "float"
        },
        {
         "name": "SGT",
         "rawType": "float64",
         "type": "float"
        },
        {
         "name": "INVALID_0x78",
         "rawType": "float64",
         "type": "float"
        },
        {
         "name": "UNKNOWN_0xee",
         "rawType": "float64",
         "type": "float"
        },
        {
         "name": "UNKNOWN_0xcb",
         "rawType": "float64",
         "type": "float"
        },
        {
         "name": "UNKNOWN_0xe3",
         "rawType": "float64",
         "type": "float"
        },
        {
         "name": "UNKNOWN_0xa6",
         "rawType": "float64",
         "type": "float"
        },
        {
         "name": "UNKNOWN_0xd2",
         "rawType": "float64",
         "type": "float"
        },
        {
         "name": "UNKNOWN_0xe5",
         "rawType": "float64",
         "type": "float"
        },
        {
         "name": "PUSH23",
         "rawType": "float64",
         "type": "float"
        },
        {
         "name": "UNKNOWN_0xe6",
         "rawType": "float64",
         "type": "float"
        },
        {
         "name": "UNKNOWN_0xd0",
         "rawType": "float64",
         "type": "float"
        },
        {
         "name": "UNKNOWN_0xdd",
         "rawType": "float64",
         "type": "float"
        },
        {
         "name": "UNKNOWN_0xf7",
         "rawType": "float64",
         "type": "float"
        },
        {
         "name": "UNKNOWN_0x4b",
         "rawType": "float64",
         "type": "float"
        },
        {
         "name": "UNKNOWN_0x2a",
         "rawType": "float64",
         "type": "float"
        },
        {
         "name": "UNKNOWN_0xb3",
         "rawType": "float64",
         "type": "float"
        },
        {
         "name": "UNKNOWN_0xc4",
         "rawType": "float64",
         "type": "float"
        },
        {
         "name": "SWAP16",
         "rawType": "float64",
         "type": "float"
        },
        {
         "name": "UNOFFICIAL_PUSH",
         "rawType": "float64",
         "type": "float"
        },
        {
         "name": "UNKNOWN_0xe7",
         "rawType": "float64",
         "type": "float"
        },
        {
         "name": "UNKNOWN_0xed",
         "rawType": "float64",
         "type": "float"
        },
        {
         "name": "UNKNOWN_0xad",
         "rawType": "float64",
         "type": "float"
        },
        {
         "name": "UNKNOWN_0xe4",
         "rawType": "float64",
         "type": "float"
        },
        {
         "name": "PUSH25",
         "rawType": "float64",
         "type": "float"
        },
        {
         "name": "INVALID_0x74",
         "rawType": "float64",
         "type": "float"
        },
        {
         "name": "UNKNOWN_0xb6",
         "rawType": "float64",
         "type": "float"
        },
        {
         "name": "UNKNOWN_0xe8",
         "rawType": "float64",
         "type": "float"
        },
        {
         "name": "EXTCODECOPY",
         "rawType": "float64",
         "type": "float"
        },
        {
         "name": "SIGNEXTEND",
         "rawType": "float64",
         "type": "float"
        },
        {
         "name": "CREATE",
         "rawType": "float64",
         "type": "float"
        },
        {
         "name": "UNKNOWN_0xba",
         "rawType": "float64",
         "type": "float"
        },
        {
         "name": "UNKNOWN_0xbd",
         "rawType": "float64",
         "type": "float"
        },
        {
         "name": "DELEGATECALL",
         "rawType": "float64",
         "type": "float"
        },
        {
         "name": "UNKNOWN_0xd7",
         "rawType": "float64",
         "type": "float"
        },
        {
         "name": "UNKNOWN_0x2f",
         "rawType": "float64",
         "type": "float"
        },
        {
         "name": "UNKNOWN_0xec",
         "rawType": "float64",
         "type": "float"
        },
        {
         "name": "INVALID_0x72",
         "rawType": "float64",
         "type": "float"
        },
        {
         "name": "INVALID_0x7c",
         "rawType": "float64",
         "type": "float"
        },
        {
         "name": "UNKNOWN_0xb9",
         "rawType": "float64",
         "type": "float"
        },
        {
         "name": "UNKNOWN_0xae",
         "rawType": "float64",
         "type": "float"
        },
        {
         "name": "INVALID_0x79",
         "rawType": "float64",
         "type": "float"
        },
        {
         "name": "INVALID_0x73",
         "rawType": "float64",
         "type": "float"
        },
        {
         "name": "UNKNOWN_0xc6",
         "rawType": "float64",
         "type": "float"
        },
        {
         "name": "UNKNOWN_0xe1",
         "rawType": "float64",
         "type": "float"
        },
        {
         "name": "INVALID_0x70",
         "rawType": "float64",
         "type": "float"
        },
        {
         "name": "PUSH30",
         "rawType": "float64",
         "type": "float"
        },
        {
         "name": "DUP16",
         "rawType": "float64",
         "type": "float"
        },
        {
         "name": "UNKNOWN_0x2b",
         "rawType": "float64",
         "type": "float"
        },
        {
         "name": "UNKNOWN_0xd8",
         "rawType": "float64",
         "type": "float"
        },
        {
         "name": "INVALID_0x7a",
         "rawType": "float64",
         "type": "float"
        },
        {
         "name": "UNKNOWN_0xf9",
         "rawType": "float64",
         "type": "float"
        },
        {
         "name": "INVALID_0x7f",
         "rawType": "float64",
         "type": "float"
        }
       ],
       "ref": "ceb8fe68-9e1c-4c49-a2e7-aefdfdac238c",
       "rows": [
        [
         "0",
         "0x93023f1d3525e273f291b6f76d2f5027a39bf302",
         "1",
         "0",
         "1",
         "405",
         "119",
         "14",
         "9",
         "255",
         "67",
         "8",
         "0",
         "104",
         "5",
         "31",
         "45",
         "80",
         "28",
         "162",
         "15",
         "1",
         "35",
         "77",
         "135",
         "35",
         "101",
         "102",
         "105",
         "49",
         "39",
         "47",
         "24",
         "0",
         "6",
         "20",
         "1",
         "0",
         "3",
         "28",
         "4",
         "18",
         "7",
         "9",
         "26",
         "11",
         "20",
         "6",
         "7",
         "7",
         "10",
         "0",
         "1",
         "2",
         "1",
         "0",
         "2",
         "0",
         "0",
         "0",
         "0",
         "0",
         "0",
         "0",
         "0",
         "0",
         "16",
         "0",
         "0",
         "0",
         "4",
         "1.0",
         "0.0",
         "56.0",
         "6.0",
         "0.0",
         "2.0",
         "0.0",
         "0.0",
         "0.0",
         "8.0",
         "0.0",
         "0.0",
         "0.0",
         "0.0",
         "0.0",
         "0.0",
         "0.0",
         "0.0",
         "0.0",
         "1.0",
         "0.0",
         "0.0",
         "0.0",
         "0.0",
         "0.0",
         "0.0",
         "0.0",
         "0.0",
         "1.0",
         "0.0",
         "0.0",
         "0.0",
         "0.0",
         "0.0",
         "0.0",
         "1.0",
         "0.0",
         "0.0",
         "0.0",
         "0.0",
         "0.0",
         "0.0",
         "0.0",
         "0.0",
         "0.0",
         "0.0",
         "1.0",
         "0.0",
         "0.0",
         "0.0",
         "0.0",
         "0.0",
         "0.0",
         "0.0",
         "0.0",
         "0.0",
         "0.0",
         "0.0",
         "0.0",
         "0.0",
         "0.0",
         "0.0",
         "0.0",
         "0.0",
         "0.0",
         "0.0",
         "0.0",
         "0.0",
         "0.0",
         "0.0",
         "0.0",
         "0.0",
         "0.0",
         "0.0",
         "0.0",
         "0.0",
         "0.0",
         "0.0",
         "0.0",
         "0.0",
         "0.0",
         "0.0",
         "0.0",
         "0.0",
         "0.0",
         "0.0",
         "0.0",
         "0.0",
         "0.0",
         "0.0",
         "0.0",
         "0.0",
         "0.0",
         "0.0",
         "0.0",
         "0.0",
         "0.0",
         "0.0",
         "0.0",
         "0.0",
         "0.0",
         "0.0",
         "0.0",
         "0.0",
         "0.0",
         "1.0",
         "0.0",
         "0.0",
         "0.0",
         "0.0",
         "0.0",
         "0.0",
         "0.0",
         "0.0",
         "0.0",
         "0.0",
         "0.0",
         "0.0",
         "0.0",
         "0.0",
         "0.0",
         "0.0",
         "0.0",
         "0.0",
         "0.0",
         "0.0",
         "0.0",
         "0.0",
         "0.0",
         "0.0",
         "0.0",
         "0.0",
         "0.0",
         "0.0",
         "0.0",
         "0.0",
         "0.0",
         "0.0",
         "0.0",
         "0.0",
         "0.0",
         "0.0",
         "0.0",
         "0.0",
         "0.0",
         "0.0",
         "0.0",
         "0.0",
         "0.0",
         "0.0",
         "0.0",
         "0.0",
         "0.0",
         "0.0",
         "0.0",
         "0.0",
         "0.0",
         "0.0",
         "0.0",
         "0.0",
         "0.0",
         "0.0",
         "0.0",
         "0.0",
         "0.0",
         "0.0",
         "0.0",
         "0.0",
         "0.0",
         "0.0",
         "0.0",
         "0.0",
         "0.0",
         "0.0",
         "0.0",
         "0.0",
         "0.0",
         "0.0",
         "0.0",
         "0.0",
         "0.0",
         "0.0",
         "0.0",
         "0.0",
         "0.0",
         "0.0",
         "0.0",
         "0.0",
         "0.0",
         "0.0",
         "0.0",
         "0.0",
         "0.0",
         "0.0",
         "0.0",
         "0.0",
         "0.0",
         "0.0",
         "0.0"
        ],
        [
         "1",
         "0x2753dce37a7edb052a77832039bcc9aa49ad8b25",
         "0",
         "0",
         "1",
         "660",
         "176",
         "23",
         "13",
         "378",
         "101",
         "7",
         "0",
         "157",
         "4",
         "47",
         "76",
         "118",
         "47",
         "223",
         "23",
         "1",
         "33",
         "93",
         "186",
         "56",
         "153",
         "128",
         "146",
         "73",
         "49",
         "59",
         "35",
         "0",
         "20",
         "27",
         "1",
         "2",
         "2",
         "43",
         "4",
         "27",
         "13",
         "24",
         "26",
         "12",
         "29",
         "4",
         "5",
         "7",
         "13",
         "2",
         "1",
         "5",
         "1",
         "1",
         "2",
         "0",
         "0",
         "1",
         "0",
         "0",
         "0",
         "0",
         "0",
         "0",
         "29",
         "0",
         "0",
         "0",
         "3",
         "3.0",
         "1.0",
         "105.0",
         "8.0",
         "0.0",
         "1.0",
         "0.0",
         "0.0",
         "0.0",
         "8.0",
         "0.0",
         "2.0",
         "0.0",
         "0.0",
         "1.0",
         "0.0",
         "0.0",
         "0.0",
         "0.0",
         "1.0",
         "0.0",
         "0.0",
         "3.0",
         "1.0",
         "4.0",
         "3.0",
         "3.0",
         "1.0",
         "1.0",
         "1.0",
         "1.0",
         "1.0",
         "1.0",
         "1.0",
         "1.0",
         "1.0",
         "1.0",
         "1.0",
         "1.0",
         "1.0",
         "1.0",
         "1.0",
         "1.0",
         "0.0",
         "0.0",
         "0.0",
         "0.0",
         "0.0",
         "0.0",
         "0.0",
         "0.0",
         "0.0",
         "0.0",
         "0.0",
         "0.0",
         "0.0",
         "0.0",
         "0.0",
         "0.0",
         "0.0",
         "0.0",
         "0.0",
         "0.0",
         "0.0",
         "0.0",
         "0.0",
         "0.0",
         "0.0",
         "0.0",
         "0.0",
         "0.0",
         "0.0",
         "0.0",
         "0.0",
         "0.0",
         "0.0",
         "0.0",
         "0.0",
         "0.0",
         "0.0",
         "0.0",
         "0.0",
         "0.0",
         "0.0",
         "0.0",
         "0.0",
         "0.0",
         "0.0",
         "0.0",
         "0.0",
         "0.0",
         "0.0",
         "0.0",
         "0.0",
         "0.0",
         "0.0",
         "0.0",
         "0.0",
         "0.0",
         "0.0",
         "0.0",
         "0.0",
         "0.0",
         "0.0",
         "0.0",
         "0.0",
         "0.0",
         "0.0",
         "0.0",
         "0.0",
         "0.0",
         "0.0",
         "0.0",
         "0.0",
         "0.0",
         "0.0",
         "0.0",
         "0.0",
         "0.0",
         "0.0",
         "0.0",
         "0.0",
         "0.0",
         "0.0",
         "0.0",
         "0.0",
         "0.0",
         "0.0",
         "0.0",
         "0.0",
         "0.0",
         "0.0",
         "0.0",
         "0.0",
         "0.0",
         "0.0",
         "0.0",
         "0.0",
         "0.0",
         "0.0",
         "0.0",
         "0.0",
         "0.0",
         "0.0",
         "0.0",
         "0.0",
         "0.0",
         "0.0",
         "0.0",
         "0.0",
         "0.0",
         "0.0",
         "0.0",
         "0.0",
         "0.0",
         "0.0",
         "0.0",
         "0.0",
         "0.0",
         "0.0",
         "0.0",
         "0.0",
         "0.0",
         "0.0",
         "0.0",
         "0.0",
         "0.0",
         "0.0",
         "0.0",
         "0.0",
         "0.0",
         "0.0",
         "0.0",
         "0.0",
         "0.0",
         "0.0",
         "0.0",
         "0.0",
         "0.0",
         "0.0",
         "0.0",
         "0.0",
         "0.0",
         "0.0",
         "0.0",
         "0.0",
         "0.0",
         "0.0",
         "0.0",
         "0.0",
         "0.0",
         "0.0",
         "0.0",
         "0.0",
         "0.0",
         "0.0",
         "0.0",
         "0.0",
         "0.0"
        ],
        [
         "2",
         "0x94b7d24552933f50a5a5705c446528806dcea381",
         "0",
         "0",
         "0",
         "16",
         "2",
         "2",
         "0",
         "0",
         "2",
         "1",
         "0",
         "0",
         "0",
         "0",
         "1",
         "5",
         "2",
         "2",
         "1",
         "1",
         "2",
         "0",
         "0",
         "0",
         "0",
         "0",
         "1",
         "0",
         "0",
         "1",
         "1",
         "0",
         "0",
         "1",
         "2",
         "1",
         "0",
         "1",
         "0",
         "1",
         "0",
         "0",
         "0",
         "0",
         "1",
         "0",
         "0",
         "0",
         "0",
         "0",
         "1",
         "0",
         "1",
         "0",
         "0",
         "0",
         "0",
         "0",
         "0",
         "0",
         "0",
         "0",
         "0",
         "0",
         "0",
         "0",
         "0",
         "0",
         "1",
         "0.0",
         "0.0",
         "0.0",
         "0.0",
         "0.0",
         "0.0",
         "0.0",
         "0.0",
         "0.0",
         "1.0",
         "0.0",
         "0.0",
         "0.0",
         "1.0",
         "1.0",
         "3.0",
         "0.0",
         "0.0",
         "0.0",
         "0.0",
         "0.0",
         "0.0",
         "0.0",
         "0.0",
         "0.0",
         "1.0",
         "1.0",
         "0.0",
         "1.0",
         "0.0",
         "0.0",
         "0.0",
         "0.0",
         "0.0",
         "0.0",
         "0.0",
         "0.0",
         "0.0",
         "0.0",
         "0.0",
         "0.0",
         "0.0",
         "0.0",
         "0.0",
         "0.0",
         "0.0",
         "0.0",
         "0.0",
         "0.0",
         "0.0",
         "0.0",
         "0.0",
         "0.0",
         "0.0",
         "1.0",
         "0.0",
         "0.0",
         "1.0",
         "1.0",
         "0.0",
         "1.0",
         "0.0",
         "0.0",
         "0.0",
         "0.0",
         "0.0",
         "0.0",
         "0.0",
         "0.0",
         "0.0",
         "0.0",
         "0.0",
         "0.0",
         "0.0",
         "0.0",
         "0.0",
         "0.0",
         "0.0",
         "0.0",
         "0.0",
         "0.0",
         "0.0",
         "0.0",
         "0.0",
         "0.0",
         "0.0",
         "0.0",
         "0.0",
         "0.0",
         "0.0",
         "0.0",
         "0.0",
         "0.0",
         "0.0",
         "0.0",
         "0.0",
         "0.0",
         "0.0",
         "0.0",
         "0.0",
         "1.0",
         "0.0",
         "0.0",
         "0.0",
         "0.0",
         "0.0",
         "0.0",
         "0.0",
         "0.0",
         "0.0",
         "0.0",
         "0.0",
         "0.0",
         "0.0",
         "0.0",
         "0.0",
         "0.0",
         "0.0",
         "0.0",
         "0.0",
         "0.0",
         "0.0",
         "0.0",
         "0.0",
         "0.0",
         "0.0",
         "0.0",
         "0.0",
         "0.0",
         "0.0",
         "0.0",
         "0.0",
         "0.0",
         "0.0",
         "0.0",
         "1.0",
         "0.0",
         "0.0",
         "0.0",
         "0.0",
         "0.0",
         "0.0",
         "0.0",
         "0.0",
         "0.0",
         "0.0",
         "0.0",
         "0.0",
         "0.0",
         "0.0",
         "0.0",
         "0.0",
         "0.0",
         "0.0",
         "0.0",
         "1.0",
         "0.0",
         "0.0",
         "0.0",
         "0.0",
         "0.0",
         "0.0",
         "0.0",
         "0.0",
         "0.0",
         "0.0",
         "0.0",
         "0.0",
         "0.0",
         "0.0",
         "0.0",
         "0.0",
         "0.0",
         "0.0",
         "0.0",
         "0.0",
         "0.0",
         "0.0",
         "0.0",
         "1.0",
         "0.0",
         "0.0",
         "0.0",
         "0.0",
         "0.0",
         "0.0",
         "0.0",
         "0.0",
         "0.0",
         "0.0",
         "0.0",
         "0.0",
         "0.0",
         "0.0",
         "0.0",
         "0.0",
         "0.0",
         "0.0",
         "0.0"
        ],
        [
         "3",
         "0xe0b9d4146aad6936cbfcbe4dae47e34aab96b093",
         "0",
         "0",
         "0",
         "489",
         "107",
         "9",
         "10",
         "469",
         "96",
         "3",
         "0",
         "239",
         "6",
         "28",
         "99",
         "160",
         "35",
         "370",
         "38",
         "22",
         "68",
         "318",
         "279",
         "80",
         "148",
         "101",
         "176",
         "55",
         "52",
         "158",
         "43",
         "4",
         "4",
         "55",
         "21",
         "115",
         "3",
         "18",
         "4",
         "29",
         "16",
         "4",
         "24",
         "9",
         "29",
         "5",
         "11",
         "17",
         "8",
         "1",
         "1",
         "2",
         "1",
         "0",
         "0",
         "0",
         "0",
         "0",
         "0",
         "0",
         "0",
         "0",
         "0",
         "1",
         "0",
         "0",
         "0",
         "0",
         "4",
         "2.0",
         "0.0",
         "2.0",
         "4.0",
         "0.0",
         "0.0",
         "0.0",
         "0.0",
         "0.0",
         "7.0",
         "0.0",
         "0.0",
         "0.0",
         "0.0",
         "0.0",
         "10.0",
         "0.0",
         "0.0",
         "0.0",
         "1.0",
         "0.0",
         "0.0",
         "2.0",
         "0.0",
         "0.0",
         "0.0",
         "0.0",
         "0.0",
         "1.0",
         "0.0",
         "0.0",
         "0.0",
         "0.0",
         "0.0",
         "0.0",
         "0.0",
         "0.0",
         "0.0",
         "0.0",
         "0.0",
         "0.0",
         "0.0",
         "0.0",
         "0.0",
         "0.0",
         "0.0",
         "0.0",
         "2.0",
         "0.0",
         "0.0",
         "0.0",
         "0.0",
         "0.0",
         "0.0",
         "0.0",
         "0.0",
         "0.0",
         "0.0",
         "3.0",
         "1.0",
         "3.0",
         "0.0",
         "0.0",
         "0.0",
         "0.0",
         "0.0",
         "0.0",
         "0.0",
         "1.0",
         "2.0",
         "0.0",
         "0.0",
         "0.0",
         "0.0",
         "0.0",
         "0.0",
         "0.0",
         "0.0",
         "0.0",
         "0.0",
         "0.0",
         "0.0",
         "0.0",
         "0.0",
         "0.0",
         "0.0",
         "0.0",
         "0.0",
         "0.0",
         "0.0",
         "0.0",
         "0.0",
         "0.0",
         "0.0",
         "0.0",
         "0.0",
         "1.0",
         "0.0",
         "0.0",
         "0.0",
         "0.0",
         "0.0",
         "0.0",
         "0.0",
         "0.0",
         "0.0",
         "0.0",
         "0.0",
         "0.0",
         "1.0",
         "0.0",
         "0.0",
         "0.0",
         "0.0",
         "0.0",
         "0.0",
         "0.0",
         "0.0",
         "0.0",
         "0.0",
         "0.0",
         "0.0",
         "0.0",
         "0.0",
         "0.0",
         "0.0",
         "0.0",
         "0.0",
         "0.0",
         "0.0",
         "0.0",
         "0.0",
         "0.0",
         "0.0",
         "0.0",
         "0.0",
         "0.0",
         "0.0",
         "0.0",
         "0.0",
         "0.0",
         "0.0",
         "0.0",
         "0.0",
         "0.0",
         "0.0",
         "0.0",
         "0.0",
         "0.0",
         "0.0",
         "0.0",
         "0.0",
         "0.0",
         "0.0",
         "0.0",
         "1.0",
         "0.0",
         "0.0",
         "0.0",
         "0.0",
         "0.0",
         "0.0",
         "1.0",
         "0.0",
         "0.0",
         "0.0",
         "1.0",
         "1.0",
         "0.0",
         "0.0",
         "0.0",
         "0.0",
         "0.0",
         "0.0",
         "0.0",
         "0.0",
         "0.0",
         "0.0",
         "0.0",
         "0.0",
         "0.0",
         "0.0",
         "0.0",
         "0.0",
         "0.0",
         "0.0",
         "0.0",
         "0.0",
         "0.0",
         "0.0",
         "0.0",
         "0.0",
         "0.0",
         "0.0",
         "0.0",
         "0.0",
         "0.0",
         "0.0",
         "0.0"
        ],
        [
         "4",
         "0x10f6f2b97f3ab29583d9d38babf2994df7220c21",
         "1",
         "0",
         "1",
         "725",
         "150",
         "18",
         "18",
         "694",
         "115",
         "6",
         "0",
         "410",
         "21",
         "36",
         "138",
         "206",
         "34",
         "529",
         "52",
         "22",
         "104",
         "509",
         "410",
         "99",
         "234",
         "177",
         "258",
         "76",
         "102",
         "213",
         "56",
         "26",
         "11",
         "71",
         "17",
         "110",
         "6",
         "43",
         "25",
         "34",
         "14",
         "2",
         "42",
         "16",
         "48",
         "6",
         "13",
         "26",
         "16",
         "9",
         "1",
         "8",
         "1",
         "1",
         "0",
         "0",
         "0",
         "0",
         "0",
         "0",
         "0",
         "0",
         "0",
         "8",
         "0",
         "0",
         "0",
         "0",
         "1",
         "1.0",
         "7.0",
         "4.0",
         "3.0",
         "0.0",
         "0.0",
         "0.0",
         "0.0",
         "3.0",
         "11.0",
         "0.0",
         "0.0",
         "0.0",
         "2.0",
         "2.0",
         "11.0",
         "0.0",
         "0.0",
         "0.0",
         "0.0",
         "0.0",
         "0.0",
         "1.0",
         "0.0",
         "0.0",
         "0.0",
         "0.0",
         "1.0",
         "1.0",
         "0.0",
         "0.0",
         "0.0",
         "0.0",
         "0.0",
         "0.0",
         "0.0",
         "0.0",
         "2.0",
         "0.0",
         "0.0",
         "0.0",
         "0.0",
         "0.0",
         "0.0",
         "0.0",
         "0.0",
         "0.0",
         "0.0",
         "0.0",
         "0.0",
         "0.0",
         "0.0",
         "0.0",
         "0.0",
         "0.0",
         "0.0",
         "1.0",
         "3.0",
         "4.0",
         "2.0",
         "4.0",
         "0.0",
         "0.0",
         "0.0",
         "0.0",
         "0.0",
         "0.0",
         "0.0",
         "0.0",
         "2.0",
         "0.0",
         "0.0",
         "0.0",
         "0.0",
         "0.0",
         "0.0",
         "0.0",
         "0.0",
         "0.0",
         "0.0",
         "0.0",
         "0.0",
         "0.0",
         "0.0",
         "0.0",
         "0.0",
         "0.0",
         "0.0",
         "0.0",
         "0.0",
         "0.0",
         "0.0",
         "0.0",
         "0.0",
         "0.0",
         "0.0",
         "0.0",
         "0.0",
         "0.0",
         "0.0",
         "3.0",
         "0.0",
         "0.0",
         "0.0",
         "0.0",
         "0.0",
         "0.0",
         "0.0",
         "0.0",
         "0.0",
         "0.0",
         "0.0",
         "0.0",
         "0.0",
         "0.0",
         "0.0",
         "1.0",
         "0.0",
         "0.0",
         "0.0",
         "0.0",
         "0.0",
         "0.0",
         "0.0",
         "0.0",
         "0.0",
         "0.0",
         "0.0",
         "0.0",
         "0.0",
         "0.0",
         "0.0",
         "0.0",
         "0.0",
         "0.0",
         "0.0",
         "0.0",
         "0.0",
         "0.0",
         "0.0",
         "0.0",
         "0.0",
         "0.0",
         "0.0",
         "0.0",
         "0.0",
         "0.0",
         "0.0",
         "0.0",
         "0.0",
         "0.0",
         "0.0",
         "0.0",
         "1.0",
         "0.0",
         "0.0",
         "0.0",
         "0.0",
         "0.0",
         "0.0",
         "0.0",
         "0.0",
         "0.0",
         "0.0",
         "0.0",
         "0.0",
         "0.0",
         "0.0",
         "0.0",
         "0.0",
         "0.0",
         "0.0",
         "0.0",
         "0.0",
         "0.0",
         "0.0",
         "0.0",
         "0.0",
         "0.0",
         "0.0",
         "0.0",
         "0.0",
         "0.0",
         "0.0",
         "0.0",
         "0.0",
         "0.0",
         "0.0",
         "0.0",
         "0.0",
         "0.0",
         "0.0",
         "0.0",
         "0.0",
         "0.0",
         "0.0",
         "0.0",
         "0.0",
         "0.0"
        ]
       ],
       "shape": {
        "columns": 269,
        "rows": 5
       }
      },
      "text/html": [
       "<div>\n",
       "<style scoped>\n",
       "    .dataframe tbody tr th:only-of-type {\n",
       "        vertical-align: middle;\n",
       "    }\n",
       "\n",
       "    .dataframe tbody tr th {\n",
       "        vertical-align: top;\n",
       "    }\n",
       "\n",
       "    .dataframe thead th {\n",
       "        text-align: right;\n",
       "    }\n",
       "</style>\n",
       "<table border=\"1\" class=\"dataframe\">\n",
       "  <thead>\n",
       "    <tr style=\"text-align: right;\">\n",
       "      <th></th>\n",
       "      <th>address</th>\n",
       "      <th>mint</th>\n",
       "      <th>leak</th>\n",
       "      <th>limit</th>\n",
       "      <th>PUSH1</th>\n",
       "      <th>MSTORE</th>\n",
       "      <th>CALLDATASIZE</th>\n",
       "      <th>LT</th>\n",
       "      <th>PUSH2</th>\n",
       "      <th>JUMPI</th>\n",
       "      <th>...</th>\n",
       "      <th>UNKNOWN_0xc6</th>\n",
       "      <th>UNKNOWN_0xe1</th>\n",
       "      <th>INVALID_0x70</th>\n",
       "      <th>PUSH30</th>\n",
       "      <th>DUP16</th>\n",
       "      <th>UNKNOWN_0x2b</th>\n",
       "      <th>UNKNOWN_0xd8</th>\n",
       "      <th>INVALID_0x7a</th>\n",
       "      <th>UNKNOWN_0xf9</th>\n",
       "      <th>INVALID_0x7f</th>\n",
       "    </tr>\n",
       "  </thead>\n",
       "  <tbody>\n",
       "    <tr>\n",
       "      <th>0</th>\n",
       "      <td>0x93023f1d3525e273f291b6f76d2f5027a39bf302</td>\n",
       "      <td>1</td>\n",
       "      <td>0</td>\n",
       "      <td>1</td>\n",
       "      <td>405</td>\n",
       "      <td>119</td>\n",
       "      <td>14</td>\n",
       "      <td>9</td>\n",
       "      <td>255</td>\n",
       "      <td>67</td>\n",
       "      <td>...</td>\n",
       "      <td>0.0</td>\n",
       "      <td>0.0</td>\n",
       "      <td>0.0</td>\n",
       "      <td>0.0</td>\n",
       "      <td>0.0</td>\n",
       "      <td>0.0</td>\n",
       "      <td>0.0</td>\n",
       "      <td>0.0</td>\n",
       "      <td>0.0</td>\n",
       "      <td>0.0</td>\n",
       "    </tr>\n",
       "    <tr>\n",
       "      <th>1</th>\n",
       "      <td>0x2753dce37a7edb052a77832039bcc9aa49ad8b25</td>\n",
       "      <td>0</td>\n",
       "      <td>0</td>\n",
       "      <td>1</td>\n",
       "      <td>660</td>\n",
       "      <td>176</td>\n",
       "      <td>23</td>\n",
       "      <td>13</td>\n",
       "      <td>378</td>\n",
       "      <td>101</td>\n",
       "      <td>...</td>\n",
       "      <td>0.0</td>\n",
       "      <td>0.0</td>\n",
       "      <td>0.0</td>\n",
       "      <td>0.0</td>\n",
       "      <td>0.0</td>\n",
       "      <td>0.0</td>\n",
       "      <td>0.0</td>\n",
       "      <td>0.0</td>\n",
       "      <td>0.0</td>\n",
       "      <td>0.0</td>\n",
       "    </tr>\n",
       "    <tr>\n",
       "      <th>2</th>\n",
       "      <td>0x94b7d24552933f50a5a5705c446528806dcea381</td>\n",
       "      <td>0</td>\n",
       "      <td>0</td>\n",
       "      <td>0</td>\n",
       "      <td>16</td>\n",
       "      <td>2</td>\n",
       "      <td>2</td>\n",
       "      <td>0</td>\n",
       "      <td>0</td>\n",
       "      <td>2</td>\n",
       "      <td>...</td>\n",
       "      <td>0.0</td>\n",
       "      <td>0.0</td>\n",
       "      <td>0.0</td>\n",
       "      <td>0.0</td>\n",
       "      <td>0.0</td>\n",
       "      <td>0.0</td>\n",
       "      <td>0.0</td>\n",
       "      <td>0.0</td>\n",
       "      <td>0.0</td>\n",
       "      <td>0.0</td>\n",
       "    </tr>\n",
       "    <tr>\n",
       "      <th>3</th>\n",
       "      <td>0xe0b9d4146aad6936cbfcbe4dae47e34aab96b093</td>\n",
       "      <td>0</td>\n",
       "      <td>0</td>\n",
       "      <td>0</td>\n",
       "      <td>489</td>\n",
       "      <td>107</td>\n",
       "      <td>9</td>\n",
       "      <td>10</td>\n",
       "      <td>469</td>\n",
       "      <td>96</td>\n",
       "      <td>...</td>\n",
       "      <td>0.0</td>\n",
       "      <td>0.0</td>\n",
       "      <td>0.0</td>\n",
       "      <td>0.0</td>\n",
       "      <td>0.0</td>\n",
       "      <td>0.0</td>\n",
       "      <td>0.0</td>\n",
       "      <td>0.0</td>\n",
       "      <td>0.0</td>\n",
       "      <td>0.0</td>\n",
       "    </tr>\n",
       "    <tr>\n",
       "      <th>4</th>\n",
       "      <td>0x10f6f2b97f3ab29583d9d38babf2994df7220c21</td>\n",
       "      <td>1</td>\n",
       "      <td>0</td>\n",
       "      <td>1</td>\n",
       "      <td>725</td>\n",
       "      <td>150</td>\n",
       "      <td>18</td>\n",
       "      <td>18</td>\n",
       "      <td>694</td>\n",
       "      <td>115</td>\n",
       "      <td>...</td>\n",
       "      <td>0.0</td>\n",
       "      <td>0.0</td>\n",
       "      <td>0.0</td>\n",
       "      <td>0.0</td>\n",
       "      <td>0.0</td>\n",
       "      <td>0.0</td>\n",
       "      <td>0.0</td>\n",
       "      <td>0.0</td>\n",
       "      <td>0.0</td>\n",
       "      <td>0.0</td>\n",
       "    </tr>\n",
       "  </tbody>\n",
       "</table>\n",
       "<p>5 rows × 269 columns</p>\n",
       "</div>"
      ],
      "text/plain": [
       "                                      address  mint  leak  limit  PUSH1  \\\n",
       "0  0x93023f1d3525e273f291b6f76d2f5027a39bf302     1     0      1    405   \n",
       "1  0x2753dce37a7edb052a77832039bcc9aa49ad8b25     0     0      1    660   \n",
       "2  0x94b7d24552933f50a5a5705c446528806dcea381     0     0      0     16   \n",
       "3  0xe0b9d4146aad6936cbfcbe4dae47e34aab96b093     0     0      0    489   \n",
       "4  0x10f6f2b97f3ab29583d9d38babf2994df7220c21     1     0      1    725   \n",
       "\n",
       "   MSTORE  CALLDATASIZE  LT  PUSH2  JUMPI  ...  UNKNOWN_0xc6  UNKNOWN_0xe1  \\\n",
       "0     119            14   9    255     67  ...           0.0           0.0   \n",
       "1     176            23  13    378    101  ...           0.0           0.0   \n",
       "2       2             2   0      0      2  ...           0.0           0.0   \n",
       "3     107             9  10    469     96  ...           0.0           0.0   \n",
       "4     150            18  18    694    115  ...           0.0           0.0   \n",
       "\n",
       "   INVALID_0x70  PUSH30  DUP16  UNKNOWN_0x2b  UNKNOWN_0xd8  INVALID_0x7a  \\\n",
       "0           0.0     0.0    0.0           0.0           0.0           0.0   \n",
       "1           0.0     0.0    0.0           0.0           0.0           0.0   \n",
       "2           0.0     0.0    0.0           0.0           0.0           0.0   \n",
       "3           0.0     0.0    0.0           0.0           0.0           0.0   \n",
       "4           0.0     0.0    0.0           0.0           0.0           0.0   \n",
       "\n",
       "   UNKNOWN_0xf9  INVALID_0x7f  \n",
       "0           0.0           0.0  \n",
       "1           0.0           0.0  \n",
       "2           0.0           0.0  \n",
       "3           0.0           0.0  \n",
       "4           0.0           0.0  \n",
       "\n",
       "[5 rows x 269 columns]"
      ]
     },
     "execution_count": 8,
     "metadata": {},
     "output_type": "execute_result"
    }
   ],
   "source": [
    "dataset_df.head()"
   ]
  },
  {
   "cell_type": "code",
   "execution_count": 9,
   "id": "ba6ef7d5",
   "metadata": {},
   "outputs": [
    {
     "name": "stdout",
     "output_type": "stream",
     "text": [
      "<class 'pandas.core.frame.DataFrame'>\n",
      "RangeIndex: 69 entries, 0 to 68\n",
      "Columns: 269 entries, address to INVALID_0x7f\n",
      "dtypes: float64(199), int64(69), object(1)\n",
      "memory usage: 145.1+ KB\n"
     ]
    }
   ],
   "source": [
    "dataset_df.info()"
   ]
  },
  {
   "cell_type": "code",
   "execution_count": 10,
   "id": "6a984c7e",
   "metadata": {},
   "outputs": [],
   "source": [
    "labels = [\"mint\", \"leak\", \"limit\"]\n",
    "X = dataset_df.drop(columns=[\"address\", \"mint\", \"leak\", \"limit\"])  # feature matrix\n",
    "y = dataset_df[labels]  # multi-label targets\n",
    "feature_list = list(X.columns)  # ordered list of opcode features\n"
   ]
  },
  {
   "cell_type": "code",
   "execution_count": 11,
   "id": "81b561af",
   "metadata": {},
   "outputs": [],
   "source": [
    "X.to_csv(os.path.join(PROCESS_PATH, 'X_features-opcode-freq_only.csv'))\n",
    "y.to_csv(os.path.join(PROCESS_PATH, 'Y_labels_only-opcode-freq.csv'))\n",
    "\n",
    "with open(os.path.join(PROCESS_PATH, 'feature-opcode-freq_list.json'), \"w\") as f:\n",
    "    json.dump(feature_list, f, indent=2)\n",
    "\n",
    "with open(os.path.join(PROCESS_PATH, 'labels-opcode-freq.json'), \"w\") as f:\n",
    "   json.dump(labels, f, indent=2)"
   ]
  },
  {
   "cell_type": "markdown",
   "id": "05fabf8f",
   "metadata": {},
   "source": [
    "### Train/Test Split (no stratify)"
   ]
  },
  {
   "cell_type": "code",
   "execution_count": 12,
   "id": "1ffe27ed",
   "metadata": {},
   "outputs": [
    {
     "name": "stdout",
     "output_type": "stream",
     "text": [
      "Train size: 55\n",
      "Test size: 14\n"
     ]
    }
   ],
   "source": [
    "# Split 80% train / 20% test\n",
    "X_train, X_test, y_train, y_test = train_test_split(\n",
    "    X, y,\n",
    "    test_size=0.2,\n",
    "    random_state=42,\n",
    "    shuffle=True,\n",
    ")\n",
    "\n",
    "# Merge for saving (optional — for keeping features + labels together)\n",
    "train_df = pd.concat([X_train, y_train], axis=1)\n",
    "test_df = pd.concat([X_test, y_test], axis=1)\n",
    "\n",
    "# Save\n",
    "train_df.to_csv(os.path.join(PROCESS_PATH, 'train-opcode-freq.csv'), index=False)\n",
    "test_df.to_csv(os.path.join(PROCESS_PATH, 'test-opcode-freq.csv'), index=False)\n",
    "\n",
    "print(\"Train size:\", len(train_df))\n",
    "print(\"Test size:\", len(test_df))"
   ]
  },
  {
   "cell_type": "markdown",
   "id": "2abb3d7b",
   "metadata": {},
   "source": [
    "### K-Fold Split"
   ]
  },
  {
   "cell_type": "code",
   "execution_count": 13,
   "id": "34c834ec",
   "metadata": {},
   "outputs": [
    {
     "name": "stdout",
     "output_type": "stream",
     "text": [
      "✅ Saved 3-fold CV sets (train_fold_*-opcode-freq.csv, val_fold_*-opcode-freq.csv)\n"
     ]
    }
   ],
   "source": [
    "X_y = pd.concat([X, y], axis=1)\n",
    "\n",
    "stratifier = IterativeStratification(n_splits=3, order=1)\n",
    "\n",
    "for fold, (train_idx, val_idx) in enumerate(stratifier.split(X, y)):\n",
    "    train_fold = X_y.iloc[train_idx]\n",
    "    val_fold = X_y.iloc[val_idx]\n",
    "    train_fold.to_csv(os.path.join(PROCESS_PATH, f'train_fold_{fold}-opcode-freq.csv'), index=False)\n",
    "    val_fold.to_csv(os.path.join(PROCESS_PATH, f'val_fold_{fold}-opcode-freq.csv'), index=False)\n",
    "\n",
    "print(\"✅ Saved 3-fold CV sets (train_fold_*-opcode-freq.csv, val_fold_*-opcode-freq.csv)\")"
   ]
  },
  {
   "cell_type": "code",
   "execution_count": null,
   "id": "79c8204f",
   "metadata": {},
   "outputs": [],
   "source": []
  }
 ],
 "metadata": {
  "kernelspec": {
   "display_name": "ml-algo",
   "language": "python",
   "name": "python3"
  },
  "language_info": {
   "codemirror_mode": {
    "name": "ipython",
    "version": 3
   },
   "file_extension": ".py",
   "mimetype": "text/x-python",
   "name": "python",
   "nbconvert_exporter": "python",
   "pygments_lexer": "ipython3",
   "version": "3.12.7"
  }
 },
 "nbformat": 4,
 "nbformat_minor": 5
}
