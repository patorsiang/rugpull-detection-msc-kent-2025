{
 "cells": [
  {
   "cell_type": "markdown",
   "id": "c02ec315",
   "metadata": {},
   "source": [
    "# Label Harmonization -- RPHunter "
   ]
  },
  {
   "cell_type": "markdown",
   "id": "ea46356f",
   "metadata": {},
   "source": [
    "## Import and Const"
   ]
  },
  {
   "cell_type": "code",
   "execution_count": 1,
   "id": "b95f4570",
   "metadata": {},
   "outputs": [],
   "source": [
    "import pandas as pd\n",
    "import os\n",
    "from pathlib import Path\n",
    "\n",
    "from utils.main import clean_column"
   ]
  },
  {
   "cell_type": "code",
   "execution_count": 2,
   "id": "4ec4d3c9",
   "metadata": {},
   "outputs": [],
   "source": [
    "PATH = Path.cwd().parents[1]\n",
    "DATA_PATH = os.path.join(PATH, 'data')\n",
    "name = 'rphunter'\n",
    "RP_PATH = os.path.join(DATA_PATH, f'interim/{name}')"
   ]
  },
  {
   "cell_type": "markdown",
   "id": "74432282",
   "metadata": {},
   "source": [
    "## Read label files"
   ]
  },
  {
   "cell_type": "code",
   "execution_count": 3,
   "id": "e3a7989f",
   "metadata": {},
   "outputs": [],
   "source": [
    "df = pd.read_csv(os.path.join(RP_PATH, \"dataset.csv\"))"
   ]
  },
  {
   "cell_type": "markdown",
   "id": "3f57eeda",
   "metadata": {},
   "source": [
    "## Normalize addresses"
   ]
  },
  {
   "cell_type": "code",
   "execution_count": 4,
   "id": "a8b1c9a1",
   "metadata": {},
   "outputs": [],
   "source": [
    "df['Address'] = df['Address'].str.lower()"
   ]
  },
  {
   "cell_type": "code",
   "execution_count": 5,
   "id": "4acd5d3b",
   "metadata": {},
   "outputs": [
    {
     "data": {
      "text/plain": [
       "Index(['Project Name', 'Chain', 'Address', 'Open Source', 'Source',\n",
       "       'Address_lower', 'in_normal', 'in_rug', 'Hidden Balance Modification',\n",
       "       'Hidden Mint/Burn', 'Address Restrict', 'Amount Restrict',\n",
       "       'Modifiable External Call', 'TimeStamp Restrict',\n",
       "       'Modifiable Tax Address', 'Modifiable Tax Rate', 'label_combo'],\n",
       "      dtype='object')"
      ]
     },
     "execution_count": 5,
     "metadata": {},
     "output_type": "execute_result"
    }
   ],
   "source": [
    "df.columns"
   ]
  },
  {
   "cell_type": "markdown",
   "id": "1013a803",
   "metadata": {},
   "source": [
    "## Select Column"
   ]
  },
  {
   "cell_type": "code",
   "execution_count": 6,
   "id": "8e568267",
   "metadata": {},
   "outputs": [],
   "source": [
    "df.drop(columns=['Project Name', 'Chain', 'Open Source', 'Source', 'label_combo'])\n",
    "desired_order = ['Address', 'Hidden Balance Modification', 'Hidden Mint/Burn', 'Address Restrict',\n",
    "       'Amount Restrict', 'Modifiable External Call', 'TimeStamp Restrict',\n",
    "       'Modifiable Tax Address', 'Modifiable Tax Rate']\n",
    "df = df [desired_order]"
   ]
  },
  {
   "cell_type": "code",
   "execution_count": 7,
   "id": "8d81fd81",
   "metadata": {},
   "outputs": [
    {
     "data": {
      "application/vnd.microsoft.datawrangler.viewer.v0+json": {
       "columns": [
        {
         "name": "index",
         "rawType": "int64",
         "type": "integer"
        },
        {
         "name": "Address",
         "rawType": "object",
         "type": "string"
        },
        {
         "name": "Hidden Balance Modification",
         "rawType": "int64",
         "type": "integer"
        },
        {
         "name": "Hidden Mint/Burn",
         "rawType": "int64",
         "type": "integer"
        },
        {
         "name": "Address Restrict",
         "rawType": "int64",
         "type": "integer"
        },
        {
         "name": "Amount Restrict",
         "rawType": "int64",
         "type": "integer"
        },
        {
         "name": "Modifiable External Call",
         "rawType": "int64",
         "type": "integer"
        },
        {
         "name": "TimeStamp Restrict",
         "rawType": "int64",
         "type": "integer"
        },
        {
         "name": "Modifiable Tax Address",
         "rawType": "int64",
         "type": "integer"
        },
        {
         "name": "Modifiable Tax Rate",
         "rawType": "int64",
         "type": "integer"
        }
       ],
       "ref": "bc0085dd-e0fe-4262-98e1-14e8be5596f8",
       "rows": [
        [
         "0",
         "0x93023f1d3525e273f291b6f76d2f5027a39bf302",
         "0",
         "1",
         "0",
         "0",
         "0",
         "0",
         "0",
         "1"
        ],
        [
         "1",
         "0x2753dce37a7edb052a77832039bcc9aa49ad8b25",
         "0",
         "0",
         "1",
         "0",
         "0",
         "0",
         "0",
         "0"
        ],
        [
         "2",
         "0x5404efafdd8cc30053069df2a1b0c4ba881b3e1e",
         "0",
         "1",
         "0",
         "0",
         "0",
         "0",
         "0",
         "0"
        ],
        [
         "3",
         "0x10f6f2b97f3ab29583d9d38babf2994df7220c21",
         "0",
         "1",
         "0",
         "0",
         "0",
         "0",
         "0",
         "1"
        ],
        [
         "4",
         "0x11cbc781dadaad13fc3a361772c80b1c027820af",
         "0",
         "0",
         "1",
         "0",
         "0",
         "0",
         "0",
         "0"
        ]
       ],
       "shape": {
        "columns": 9,
        "rows": 5
       }
      },
      "text/html": [
       "<div>\n",
       "<style scoped>\n",
       "    .dataframe tbody tr th:only-of-type {\n",
       "        vertical-align: middle;\n",
       "    }\n",
       "\n",
       "    .dataframe tbody tr th {\n",
       "        vertical-align: top;\n",
       "    }\n",
       "\n",
       "    .dataframe thead th {\n",
       "        text-align: right;\n",
       "    }\n",
       "</style>\n",
       "<table border=\"1\" class=\"dataframe\">\n",
       "  <thead>\n",
       "    <tr style=\"text-align: right;\">\n",
       "      <th></th>\n",
       "      <th>Address</th>\n",
       "      <th>Hidden Balance Modification</th>\n",
       "      <th>Hidden Mint/Burn</th>\n",
       "      <th>Address Restrict</th>\n",
       "      <th>Amount Restrict</th>\n",
       "      <th>Modifiable External Call</th>\n",
       "      <th>TimeStamp Restrict</th>\n",
       "      <th>Modifiable Tax Address</th>\n",
       "      <th>Modifiable Tax Rate</th>\n",
       "    </tr>\n",
       "  </thead>\n",
       "  <tbody>\n",
       "    <tr>\n",
       "      <th>0</th>\n",
       "      <td>0x93023f1d3525e273f291b6f76d2f5027a39bf302</td>\n",
       "      <td>0</td>\n",
       "      <td>1</td>\n",
       "      <td>0</td>\n",
       "      <td>0</td>\n",
       "      <td>0</td>\n",
       "      <td>0</td>\n",
       "      <td>0</td>\n",
       "      <td>1</td>\n",
       "    </tr>\n",
       "    <tr>\n",
       "      <th>1</th>\n",
       "      <td>0x2753dce37a7edb052a77832039bcc9aa49ad8b25</td>\n",
       "      <td>0</td>\n",
       "      <td>0</td>\n",
       "      <td>1</td>\n",
       "      <td>0</td>\n",
       "      <td>0</td>\n",
       "      <td>0</td>\n",
       "      <td>0</td>\n",
       "      <td>0</td>\n",
       "    </tr>\n",
       "    <tr>\n",
       "      <th>2</th>\n",
       "      <td>0x5404efafdd8cc30053069df2a1b0c4ba881b3e1e</td>\n",
       "      <td>0</td>\n",
       "      <td>1</td>\n",
       "      <td>0</td>\n",
       "      <td>0</td>\n",
       "      <td>0</td>\n",
       "      <td>0</td>\n",
       "      <td>0</td>\n",
       "      <td>0</td>\n",
       "    </tr>\n",
       "    <tr>\n",
       "      <th>3</th>\n",
       "      <td>0x10f6f2b97f3ab29583d9d38babf2994df7220c21</td>\n",
       "      <td>0</td>\n",
       "      <td>1</td>\n",
       "      <td>0</td>\n",
       "      <td>0</td>\n",
       "      <td>0</td>\n",
       "      <td>0</td>\n",
       "      <td>0</td>\n",
       "      <td>1</td>\n",
       "    </tr>\n",
       "    <tr>\n",
       "      <th>4</th>\n",
       "      <td>0x11cbc781dadaad13fc3a361772c80b1c027820af</td>\n",
       "      <td>0</td>\n",
       "      <td>0</td>\n",
       "      <td>1</td>\n",
       "      <td>0</td>\n",
       "      <td>0</td>\n",
       "      <td>0</td>\n",
       "      <td>0</td>\n",
       "      <td>0</td>\n",
       "    </tr>\n",
       "  </tbody>\n",
       "</table>\n",
       "</div>"
      ],
      "text/plain": [
       "                                      Address  Hidden Balance Modification  \\\n",
       "0  0x93023f1d3525e273f291b6f76d2f5027a39bf302                            0   \n",
       "1  0x2753dce37a7edb052a77832039bcc9aa49ad8b25                            0   \n",
       "2  0x5404efafdd8cc30053069df2a1b0c4ba881b3e1e                            0   \n",
       "3  0x10f6f2b97f3ab29583d9d38babf2994df7220c21                            0   \n",
       "4  0x11cbc781dadaad13fc3a361772c80b1c027820af                            0   \n",
       "\n",
       "   Hidden Mint/Burn  Address Restrict  Amount Restrict  \\\n",
       "0                 1                 0                0   \n",
       "1                 0                 1                0   \n",
       "2                 1                 0                0   \n",
       "3                 1                 0                0   \n",
       "4                 0                 1                0   \n",
       "\n",
       "   Modifiable External Call  TimeStamp Restrict  Modifiable Tax Address  \\\n",
       "0                         0                   0                       0   \n",
       "1                         0                   0                       0   \n",
       "2                         0                   0                       0   \n",
       "3                         0                   0                       0   \n",
       "4                         0                   0                       0   \n",
       "\n",
       "   Modifiable Tax Rate  \n",
       "0                    1  \n",
       "1                    0  \n",
       "2                    0  \n",
       "3                    1  \n",
       "4                    0  "
      ]
     },
     "execution_count": 7,
     "metadata": {},
     "output_type": "execute_result"
    }
   ],
   "source": [
    "df.head()"
   ]
  },
  {
   "cell_type": "code",
   "execution_count": 8,
   "id": "b561e61a",
   "metadata": {},
   "outputs": [
    {
     "name": "stdout",
     "output_type": "stream",
     "text": [
      "<class 'pandas.core.frame.DataFrame'>\n",
      "RangeIndex: 616 entries, 0 to 615\n",
      "Data columns (total 9 columns):\n",
      " #   Column                       Non-Null Count  Dtype \n",
      "---  ------                       --------------  ----- \n",
      " 0   Address                      614 non-null    object\n",
      " 1   Hidden Balance Modification  616 non-null    int64 \n",
      " 2   Hidden Mint/Burn             616 non-null    int64 \n",
      " 3   Address Restrict             616 non-null    int64 \n",
      " 4   Amount Restrict              616 non-null    int64 \n",
      " 5   Modifiable External Call     616 non-null    int64 \n",
      " 6   TimeStamp Restrict           616 non-null    int64 \n",
      " 7   Modifiable Tax Address       616 non-null    int64 \n",
      " 8   Modifiable Tax Rate          616 non-null    int64 \n",
      "dtypes: int64(8), object(1)\n",
      "memory usage: 43.4+ KB\n"
     ]
    }
   ],
   "source": [
    "df.info()"
   ]
  },
  {
   "cell_type": "code",
   "execution_count": 9,
   "id": "6311aad4",
   "metadata": {},
   "outputs": [],
   "source": [
    "float_cols = df.select_dtypes(include='float64').columns\n",
    "df[float_cols] = df[float_cols].fillna(0).astype(int)"
   ]
  },
  {
   "cell_type": "code",
   "execution_count": 10,
   "id": "4233ba9b",
   "metadata": {},
   "outputs": [
    {
     "name": "stdout",
     "output_type": "stream",
     "text": [
      "<class 'pandas.core.frame.DataFrame'>\n",
      "RangeIndex: 616 entries, 0 to 615\n",
      "Data columns (total 9 columns):\n",
      " #   Column                       Non-Null Count  Dtype \n",
      "---  ------                       --------------  ----- \n",
      " 0   Address                      614 non-null    object\n",
      " 1   Hidden Balance Modification  616 non-null    int64 \n",
      " 2   Hidden Mint/Burn             616 non-null    int64 \n",
      " 3   Address Restrict             616 non-null    int64 \n",
      " 4   Amount Restrict              616 non-null    int64 \n",
      " 5   Modifiable External Call     616 non-null    int64 \n",
      " 6   TimeStamp Restrict           616 non-null    int64 \n",
      " 7   Modifiable Tax Address       616 non-null    int64 \n",
      " 8   Modifiable Tax Rate          616 non-null    int64 \n",
      "dtypes: int64(8), object(1)\n",
      "memory usage: 43.4+ KB\n"
     ]
    }
   ],
   "source": [
    "df.info()"
   ]
  },
  {
   "cell_type": "markdown",
   "id": "b98cca07",
   "metadata": {},
   "source": [
    "## Clean Column Names"
   ]
  },
  {
   "cell_type": "code",
   "execution_count": 11,
   "id": "349728d7",
   "metadata": {},
   "outputs": [],
   "source": [
    "df = clean_column(df)"
   ]
  },
  {
   "cell_type": "markdown",
   "id": "ba46e527",
   "metadata": {},
   "source": [
    "## Save to CSV"
   ]
  },
  {
   "cell_type": "code",
   "execution_count": 12,
   "id": "61176bdf",
   "metadata": {},
   "outputs": [],
   "source": [
    "df.to_csv(os.path.join(RP_PATH, \"dataset-modified.csv\"), index=False)"
   ]
  },
  {
   "cell_type": "code",
   "execution_count": null,
   "id": "b597a16f",
   "metadata": {},
   "outputs": [],
   "source": []
  }
 ],
 "metadata": {
  "kernelspec": {
   "display_name": "ml-algo",
   "language": "python",
   "name": "python3"
  },
  "language_info": {
   "codemirror_mode": {
    "name": "ipython",
    "version": 3
   },
   "file_extension": ".py",
   "mimetype": "text/x-python",
   "name": "python",
   "nbconvert_exporter": "python",
   "pygments_lexer": "ipython3",
   "version": "3.12.7"
  }
 },
 "nbformat": 4,
 "nbformat_minor": 5
}
