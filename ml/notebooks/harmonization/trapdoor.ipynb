{
 "cells": [
  {
   "cell_type": "markdown",
   "id": "c02ec315",
   "metadata": {},
   "source": [
    "# Label Harmonization -- Trapdoor "
   ]
  },
  {
   "cell_type": "markdown",
   "id": "ea46356f",
   "metadata": {},
   "source": [
    "## Import and Const"
   ]
  },
  {
   "cell_type": "code",
   "execution_count": 1,
   "id": "b95f4570",
   "metadata": {},
   "outputs": [],
   "source": [
    "import pandas as pd\n",
    "import os\n",
    "from pathlib import Path\n",
    "\n",
    "from utils.main import clean_column"
   ]
  },
  {
   "cell_type": "code",
   "execution_count": 2,
   "id": "4ec4d3c9",
   "metadata": {},
   "outputs": [],
   "source": [
    "PATH = Path.cwd().parents[1]\n",
    "DATA_PATH = os.path.join(PATH, 'data')\n",
    "name = 'trapdoor'\n",
    "RP_PATH = os.path.join(DATA_PATH, f'interim/{name}')"
   ]
  },
  {
   "cell_type": "markdown",
   "id": "74432282",
   "metadata": {},
   "source": [
    "## Read label files"
   ]
  },
  {
   "cell_type": "code",
   "execution_count": 3,
   "id": "e3a7989f",
   "metadata": {},
   "outputs": [],
   "source": [
    "df = pd.read_csv(os.path.join(RP_PATH, \"combined_labels_dataset.csv\"))"
   ]
  },
  {
   "cell_type": "code",
   "execution_count": 4,
   "id": "b561e61a",
   "metadata": {},
   "outputs": [
    {
     "name": "stdout",
     "output_type": "stream",
     "text": [
      "<class 'pandas.core.frame.DataFrame'>\n",
      "RangeIndex: 11943 entries, 0 to 11942\n",
      "Data columns (total 7 columns):\n",
      " #   Column               Non-Null Count  Dtype \n",
      "---  ------               --------------  ----- \n",
      " 0   address              11943 non-null  object\n",
      " 1   Trapdoor             11943 non-null  int64 \n",
      " 2   Exchange Permission  11943 non-null  int64 \n",
      " 3   Exchange Suspension  11943 non-null  int64 \n",
      " 4   Amount Limit         11943 non-null  int64 \n",
      " 5   Fee Manipulation     11943 non-null  int64 \n",
      " 6   Invalid Callback     11943 non-null  int64 \n",
      "dtypes: int64(6), object(1)\n",
      "memory usage: 653.3+ KB\n"
     ]
    }
   ],
   "source": [
    "df.info()"
   ]
  },
  {
   "cell_type": "markdown",
   "id": "b98cca07",
   "metadata": {},
   "source": [
    "## Clean Column Names"
   ]
  },
  {
   "cell_type": "code",
   "execution_count": 5,
   "id": "349728d7",
   "metadata": {},
   "outputs": [],
   "source": [
    "df = clean_column(df)"
   ]
  },
  {
   "cell_type": "markdown",
   "id": "ba46e527",
   "metadata": {},
   "source": [
    "## Save to CSV"
   ]
  },
  {
   "cell_type": "code",
   "execution_count": 6,
   "id": "61176bdf",
   "metadata": {},
   "outputs": [],
   "source": [
    "df.to_csv(os.path.join(RP_PATH, \"dataset-modified.csv\"), index=False)"
   ]
  },
  {
   "cell_type": "code",
   "execution_count": null,
   "id": "b597a16f",
   "metadata": {},
   "outputs": [],
   "source": []
  }
 ],
 "metadata": {
  "kernelspec": {
   "display_name": "ml-algo",
   "language": "python",
   "name": "python3"
  },
  "language_info": {
   "codemirror_mode": {
    "name": "ipython",
    "version": 3
   },
   "file_extension": ".py",
   "mimetype": "text/x-python",
   "name": "python",
   "nbconvert_exporter": "python",
   "pygments_lexer": "ipython3",
   "version": "3.12.7"
  }
 },
 "nbformat": 4,
 "nbformat_minor": 5
}
