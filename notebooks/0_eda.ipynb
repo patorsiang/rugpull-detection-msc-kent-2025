{
  "cells": [
    {
      "cell_type": "markdown",
      "id": "c5f60bf5",
      "metadata": {},
      "source": [
        "# Exploratory Data Analysis (EDA)"
      ]
    },
    {
      "cell_type": "markdown",
      "id": "dbdebb5f",
      "metadata": {},
      "source": [
        "## Set up"
      ]
    },
    {
      "cell_type": "code",
      "execution_count": 1,
      "id": "51f82ed2",
      "metadata": {},
      "outputs": [],
      "source": [
        "import warnings\n",
        "warnings.filterwarnings(\"ignore\")"
      ]
    },
    {
      "cell_type": "code",
      "execution_count": 2,
      "id": "f8a056ea",
      "metadata": {},
      "outputs": [],
      "source": [
        "import os\n",
        "import re\n",
        "import pandas as pd\n",
        "from pathlib import Path\n",
        "import seaborn as sns\n",
        "import matplotlib.pyplot as plt\n",
        "from matplotlib_venn import venn3, venn2\n",
        "from sklearn.preprocessing import MultiLabelBinarizer"
      ]
    },
    {
      "cell_type": "code",
      "execution_count": 3,
      "id": "23000ef7",
      "metadata": {},
      "outputs": [],
      "source": [
        "PATH = Path.cwd().parents[0]\n",
        "DATA_PATH = os.path.join(PATH, 'data')\n",
        "SAVE_PATH = os.path.join(DATA_PATH, 'labeled')\n",
        "TMP_PATH = os.path.join(DATA_PATH, 'unlabeled')"
      ]
    },
    {
      "cell_type": "markdown",
      "id": "e40de0cc",
      "metadata": {},
      "source": [
        "## Load Data"
      ]
    },
    {
      "cell_type": "code",
      "execution_count": 4,
      "id": "ac12f288",
      "metadata": {},
      "outputs": [],
      "source": [
        "# CRPWarner\n",
        "EXTERNAL_PATH = os.path.join(DATA_PATH, 'external')\n",
        "CRP_PATH = os.path.join(EXTERNAL_PATH, 'crpwarner/dataset')\n",
        "crp_ground_df = pd.read_excel(os.path.join(CRP_PATH, 'groundtruth/groundTruth.xlsx'))\n",
        "CRP_LARGE_PATH = os.path.join(CRP_PATH, 'large/sample')\n",
        "mint_df = pd.read_excel(os.path.join(CRP_LARGE_PATH, 'mint.xlsx'))\n",
        "leak_df = pd.read_excel(os.path.join(CRP_LARGE_PATH, 'leak.xlsx'))\n",
        "limit_df = pd.read_excel(os.path.join(CRP_LARGE_PATH, 'limit.xlsx'))\n",
        "\n",
        "# RPHunter\n",
        "RP_PATH = os.path.join(EXTERNAL_PATH, 'rphunter')\n",
        "rphunter_total_df = pd.read_excel(os.path.join(RP_PATH, 'Rug-Pull-Incidents.xlsx'), sheet_name='Total')\n",
        "rphunter_experiment_df = pd.read_excel(os.path.join(RP_PATH, 'Rug-Pull-Incidents.xlsx'), sheet_name='Experiment')\n",
        "\n",
        "# Trapdoor\n",
        "TRAP_PATH = os.path.join(EXTERNAL_PATH, 'trapdoordata')\n",
        "trapdoor_verified_df = pd.read_csv(os.path.join(TRAP_PATH, 'verified_dataset.csv'))\n",
        "trapdoor_expansion_df = pd.read_csv(os.path.join(TRAP_PATH, 'expansion_dataset.csv'))\n",
        "TRAP_LABEL_PATH = os.path.join(TRAP_PATH, 'feature_dataset')\n",
        "trapdoor_al_df = pd.read_csv(os.path.join(TRAP_LABEL_PATH, 'AL_opcode_feature_dataset.csv'))\n",
        "trapdoor_ep_df = pd.read_csv(os.path.join(TRAP_LABEL_PATH, 'EP_opcode_feature_dataset.csv'))\n",
        "trapdoor_es_df = pd.read_csv(os.path.join(TRAP_LABEL_PATH, 'ES_opcode_feature_dataset.csv'))\n",
        "trapdoor_exchange_df = pd.read_csv(os.path.join(TRAP_LABEL_PATH, 'exchange_feature_dataset.csv'))\n",
        "trapdoor_fm_df = pd.read_csv(os.path.join(TRAP_LABEL_PATH, 'FM_opcode_feature_dataset.csv'))\n",
        "trapdoor_ic_df = pd.read_csv(os.path.join(TRAP_LABEL_PATH, 'IC_opcode_feature_dataset.csv'))\n",
        "trapdoor_opcode_df = pd.read_csv(os.path.join(TRAP_LABEL_PATH, 'opcode_feature_dataset.csv'))\n"
      ]
    },
    {
      "cell_type": "markdown",
      "id": "9448e847",
      "metadata": {},
      "source": [
        "## Inspecting the Data"
      ]
    },
    {
      "cell_type": "markdown",
      "id": "f6a25127",
      "metadata": {},
      "source": [
        "### CRPWarner"
      ]
    },
    {
      "cell_type": "markdown",
      "id": "43e94296",
      "metadata": {},
      "source": [
        "#### Groundtruth"
      ]
    },
    {
      "cell_type": "code",
      "execution_count": 5,
      "id": "e942f98b",
      "metadata": {},
      "outputs": [
        {
          "data": {
            "application/vnd.microsoft.datawrangler.viewer.v0+json": {
              "columns": [
                {
                  "name": "index",
                  "rawType": "int64",
                  "type": "integer"
                },
                {
                  "name": "address",
                  "rawType": "object",
                  "type": "string"
                },
                {
                  "name": "Mint",
                  "rawType": "int64",
                  "type": "integer"
                },
                {
                  "name": "Leak",
                  "rawType": "int64",
                  "type": "integer"
                },
                {
                  "name": "Limit",
                  "rawType": "int64",
                  "type": "integer"
                }
              ],
              "ref": "eda06dc7-d168-4760-ba3c-b3f358eefc04",
              "rows": [
                [
                  "0",
                  "0x93023F1D3525E273F291B6f76d2F5027A39BF302",
                  "1",
                  "0",
                  "1"
                ],
                [
                  "1",
                  "0x2753dcE37A7eDB052a77832039bcc9aA49Ad8b25",
                  "0",
                  "0",
                  "1"
                ],
                [
                  "2",
                  "0x94b7D24552933F50A5A5705C446528806dCeA381",
                  "0",
                  "0",
                  "0"
                ],
                [
                  "3",
                  "0xE0b9d4146AaD6936cBfcBE4dAE47e34aAb96b093",
                  "0",
                  "0",
                  "0"
                ],
                [
                  "4",
                  "0x10f6f2b97F3aB29583D9D38BaBF2994dF7220C21",
                  "1",
                  "0",
                  "1"
                ]
              ],
              "shape": {
                "columns": 4,
                "rows": 5
              }
            },
            "text/html": [
              "<div>\n",
              "<style scoped>\n",
              "    .dataframe tbody tr th:only-of-type {\n",
              "        vertical-align: middle;\n",
              "    }\n",
              "\n",
              "    .dataframe tbody tr th {\n",
              "        vertical-align: top;\n",
              "    }\n",
              "\n",
              "    .dataframe thead th {\n",
              "        text-align: right;\n",
              "    }\n",
              "</style>\n",
              "<table border=\"1\" class=\"dataframe\">\n",
              "  <thead>\n",
              "    <tr style=\"text-align: right;\">\n",
              "      <th></th>\n",
              "      <th>address</th>\n",
              "      <th>Mint</th>\n",
              "      <th>Leak</th>\n",
              "      <th>Limit</th>\n",
              "    </tr>\n",
              "  </thead>\n",
              "  <tbody>\n",
              "    <tr>\n",
              "      <th>0</th>\n",
              "      <td>0x93023F1D3525E273F291B6f76d2F5027A39BF302</td>\n",
              "      <td>1</td>\n",
              "      <td>0</td>\n",
              "      <td>1</td>\n",
              "    </tr>\n",
              "    <tr>\n",
              "      <th>1</th>\n",
              "      <td>0x2753dcE37A7eDB052a77832039bcc9aA49Ad8b25</td>\n",
              "      <td>0</td>\n",
              "      <td>0</td>\n",
              "      <td>1</td>\n",
              "    </tr>\n",
              "    <tr>\n",
              "      <th>2</th>\n",
              "      <td>0x94b7D24552933F50A5A5705C446528806dCeA381</td>\n",
              "      <td>0</td>\n",
              "      <td>0</td>\n",
              "      <td>0</td>\n",
              "    </tr>\n",
              "    <tr>\n",
              "      <th>3</th>\n",
              "      <td>0xE0b9d4146AaD6936cBfcBE4dAE47e34aAb96b093</td>\n",
              "      <td>0</td>\n",
              "      <td>0</td>\n",
              "      <td>0</td>\n",
              "    </tr>\n",
              "    <tr>\n",
              "      <th>4</th>\n",
              "      <td>0x10f6f2b97F3aB29583D9D38BaBF2994dF7220C21</td>\n",
              "      <td>1</td>\n",
              "      <td>0</td>\n",
              "      <td>1</td>\n",
              "    </tr>\n",
              "  </tbody>\n",
              "</table>\n",
              "</div>"
            ],
            "text/plain": [
              "                                      address  Mint  Leak  Limit\n",
              "0  0x93023F1D3525E273F291B6f76d2F5027A39BF302     1     0      1\n",
              "1  0x2753dcE37A7eDB052a77832039bcc9aA49Ad8b25     0     0      1\n",
              "2  0x94b7D24552933F50A5A5705C446528806dCeA381     0     0      0\n",
              "3  0xE0b9d4146AaD6936cBfcBE4dAE47e34aAb96b093     0     0      0\n",
              "4  0x10f6f2b97F3aB29583D9D38BaBF2994dF7220C21     1     0      1"
            ]
          },
          "execution_count": 5,
          "metadata": {},
          "output_type": "execute_result"
        }
      ],
      "source": [
        "crp_ground_df.head()"
      ]
    },
    {
      "cell_type": "code",
      "execution_count": 6,
      "id": "f99a46bd",
      "metadata": {},
      "outputs": [
        {
          "name": "stdout",
          "output_type": "stream",
          "text": [
            "<class 'pandas.core.frame.DataFrame'>\n",
            "RangeIndex: 69 entries, 0 to 68\n",
            "Data columns (total 4 columns):\n",
            " #   Column   Non-Null Count  Dtype \n",
            "---  ------   --------------  ----- \n",
            " 0   address  69 non-null     object\n",
            " 1   Mint     69 non-null     int64 \n",
            " 2   Leak     69 non-null     int64 \n",
            " 3   Limit    69 non-null     int64 \n",
            "dtypes: int64(3), object(1)\n",
            "memory usage: 2.3+ KB\n"
          ]
        }
      ],
      "source": [
        "crp_ground_df.info()"
      ]
    },
    {
      "cell_type": "code",
      "execution_count": 7,
      "id": "b4939d12",
      "metadata": {},
      "outputs": [
        {
          "data": {
            "application/vnd.microsoft.datawrangler.viewer.v0+json": {
              "columns": [
                {
                  "name": "index",
                  "rawType": "object",
                  "type": "string"
                },
                {
                  "name": "Mint",
                  "rawType": "float64",
                  "type": "float"
                },
                {
                  "name": "Leak",
                  "rawType": "float64",
                  "type": "float"
                },
                {
                  "name": "Limit",
                  "rawType": "float64",
                  "type": "float"
                }
              ],
              "ref": "6e527ad0-9cf8-4390-bb25-76d42750ddfe",
              "rows": [
                [
                  "count",
                  "69.0",
                  "69.0",
                  "69.0"
                ],
                [
                  "mean",
                  "0.2898550724637681",
                  "0.13043478260869565",
                  "0.43478260869565216"
                ],
                [
                  "std",
                  "0.45701876893374443",
                  "0.3392484547739255",
                  "0.4993602044724246"
                ],
                [
                  "min",
                  "0.0",
                  "0.0",
                  "0.0"
                ],
                [
                  "25%",
                  "0.0",
                  "0.0",
                  "0.0"
                ],
                [
                  "50%",
                  "0.0",
                  "0.0",
                  "0.0"
                ],
                [
                  "75%",
                  "1.0",
                  "0.0",
                  "1.0"
                ],
                [
                  "max",
                  "1.0",
                  "1.0",
                  "1.0"
                ]
              ],
              "shape": {
                "columns": 3,
                "rows": 8
              }
            },
            "text/html": [
              "<div>\n",
              "<style scoped>\n",
              "    .dataframe tbody tr th:only-of-type {\n",
              "        vertical-align: middle;\n",
              "    }\n",
              "\n",
              "    .dataframe tbody tr th {\n",
              "        vertical-align: top;\n",
              "    }\n",
              "\n",
              "    .dataframe thead th {\n",
              "        text-align: right;\n",
              "    }\n",
              "</style>\n",
              "<table border=\"1\" class=\"dataframe\">\n",
              "  <thead>\n",
              "    <tr style=\"text-align: right;\">\n",
              "      <th></th>\n",
              "      <th>Mint</th>\n",
              "      <th>Leak</th>\n",
              "      <th>Limit</th>\n",
              "    </tr>\n",
              "  </thead>\n",
              "  <tbody>\n",
              "    <tr>\n",
              "      <th>count</th>\n",
              "      <td>69.000000</td>\n",
              "      <td>69.000000</td>\n",
              "      <td>69.000000</td>\n",
              "    </tr>\n",
              "    <tr>\n",
              "      <th>mean</th>\n",
              "      <td>0.289855</td>\n",
              "      <td>0.130435</td>\n",
              "      <td>0.434783</td>\n",
              "    </tr>\n",
              "    <tr>\n",
              "      <th>std</th>\n",
              "      <td>0.457019</td>\n",
              "      <td>0.339248</td>\n",
              "      <td>0.499360</td>\n",
              "    </tr>\n",
              "    <tr>\n",
              "      <th>min</th>\n",
              "      <td>0.000000</td>\n",
              "      <td>0.000000</td>\n",
              "      <td>0.000000</td>\n",
              "    </tr>\n",
              "    <tr>\n",
              "      <th>25%</th>\n",
              "      <td>0.000000</td>\n",
              "      <td>0.000000</td>\n",
              "      <td>0.000000</td>\n",
              "    </tr>\n",
              "    <tr>\n",
              "      <th>50%</th>\n",
              "      <td>0.000000</td>\n",
              "      <td>0.000000</td>\n",
              "      <td>0.000000</td>\n",
              "    </tr>\n",
              "    <tr>\n",
              "      <th>75%</th>\n",
              "      <td>1.000000</td>\n",
              "      <td>0.000000</td>\n",
              "      <td>1.000000</td>\n",
              "    </tr>\n",
              "    <tr>\n",
              "      <th>max</th>\n",
              "      <td>1.000000</td>\n",
              "      <td>1.000000</td>\n",
              "      <td>1.000000</td>\n",
              "    </tr>\n",
              "  </tbody>\n",
              "</table>\n",
              "</div>"
            ],
            "text/plain": [
              "            Mint       Leak      Limit\n",
              "count  69.000000  69.000000  69.000000\n",
              "mean    0.289855   0.130435   0.434783\n",
              "std     0.457019   0.339248   0.499360\n",
              "min     0.000000   0.000000   0.000000\n",
              "25%     0.000000   0.000000   0.000000\n",
              "50%     0.000000   0.000000   0.000000\n",
              "75%     1.000000   0.000000   1.000000\n",
              "max     1.000000   1.000000   1.000000"
            ]
          },
          "execution_count": 7,
          "metadata": {},
          "output_type": "execute_result"
        }
      ],
      "source": [
        "crp_ground_df.describe()"
      ]
    },
    {
      "cell_type": "code",
      "execution_count": 8,
      "id": "c5ea80a5",
      "metadata": {},
      "outputs": [
        {
          "data": {
            "text/plain": [
              "0"
            ]
          },
          "execution_count": 8,
          "metadata": {},
          "output_type": "execute_result"
        }
      ],
      "source": [
        "crp_ground_df.duplicated().sum()"
      ]
    },
    {
      "cell_type": "markdown",
      "id": "b9068ba7",
      "metadata": {},
      "source": [
        "##### Bar Plot of Multi-Label Frequency"
      ]
    },
    {
      "cell_type": "code",
      "execution_count": 9,
      "id": "4eac221d",
      "metadata": {},
      "outputs": [
        {
          "data": {
            "application/vnd.microsoft.datawrangler.viewer.v0+json": {
              "columns": [
                {
                  "name": "index",
                  "rawType": "object",
                  "type": "string"
                },
                {
                  "name": "0",
                  "rawType": "int64",
                  "type": "integer"
                }
              ],
              "ref": "6a206d0e-2f02-40c2-8dbe-672bd266fd9c",
              "rows": [
                [
                  "Mint",
                  "20"
                ],
                [
                  "Leak",
                  "9"
                ],
                [
                  "Limit",
                  "30"
                ]
              ],
              "shape": {
                "columns": 1,
                "rows": 3
              }
            },
            "text/plain": [
              "Mint     20\n",
              "Leak      9\n",
              "Limit    30\n",
              "dtype: int64"
            ]
          },
          "execution_count": 9,
          "metadata": {},
          "output_type": "execute_result"
        }
      ],
      "source": [
        "label_counts = crp_ground_df[[\"Mint\", \"Leak\", \"Limit\"]].sum()\n",
        "label_counts"
      ]
    },
    {
      "cell_type": "code",
      "execution_count": 10,
      "id": "0596318d",
      "metadata": {},
      "outputs": [
        {
          "data": {
            "text/plain": [
              "<Axes: xlabel='None'>"
            ]
          },
          "execution_count": 10,
          "metadata": {},
          "output_type": "execute_result"
        },
        {
          "data": {
            "image/png": "[encoded data removed]",
            "text/plain": [
              "<Figure size 640x480 with 1 Axes>"
            ]
          },
          "metadata": {},
          "output_type": "display_data"
        }
      ],
      "source": [
        "sns.barplot(x=label_counts.index, y=label_counts.values, palette=\"Set2\")"
      ]
    },
    {
      "cell_type": "markdown",
      "id": "8703c724",
      "metadata": {},
      "source": [
        "##### Plot Count of Label Combinations"
      ]
    },
    {
      "cell_type": "code",
      "execution_count": 11,
      "id": "fb17971a",
      "metadata": {},
      "outputs": [
        {
          "data": {
            "application/vnd.microsoft.datawrangler.viewer.v0+json": {
              "columns": [
                {
                  "name": "label_combo",
                  "rawType": "object",
                  "type": "string"
                },
                {
                  "name": "count",
                  "rawType": "int64",
                  "type": "integer"
                }
              ],
              "ref": "14cefaa8-6720-40c1-8c55-325c6370b7de",
              "rows": [
                [
                  "None",
                  "27"
                ],
                [
                  "Limit",
                  "15"
                ],
                [
                  "Mint,Limit",
                  "10"
                ],
                [
                  "Mint",
                  "8"
                ],
                [
                  "Leak,Limit",
                  "4"
                ],
                [
                  "Leak",
                  "3"
                ],
                [
                  "Mint,Leak",
                  "1"
                ],
                [
                  "Mint,Leak,Limit",
                  "1"
                ]
              ],
              "shape": {
                "columns": 1,
                "rows": 8
              }
            },
            "text/plain": [
              "label_combo\n",
              "None               27\n",
              "Limit              15\n",
              "Mint,Limit         10\n",
              "Mint                8\n",
              "Leak,Limit          4\n",
              "Leak                3\n",
              "Mint,Leak           1\n",
              "Mint,Leak,Limit     1\n",
              "Name: count, dtype: int64"
            ]
          },
          "execution_count": 11,
          "metadata": {},
          "output_type": "execute_result"
        }
      ],
      "source": [
        "crpwarner_labels = ['Mint', 'Leak', 'Limit']\n",
        "combine_df = pd.DataFrame({})\n",
        "# Convert one-hot columns to label strings\n",
        "def get_labels(row):\n",
        "    return ','.join([\n",
        "        label for label in crpwarner_labels\n",
        "        if row[label] == 1\n",
        "    ])\n",
        "\n",
        "combine_df['label_combo'] = crp_ground_df.apply(get_labels, axis=1)\n",
        "combine_df['label_combo'] = combine_df['label_combo'].replace('', 'None')  # Replace empty with 'None'\n",
        "# Count combinations\n",
        "combo_counts = combine_df['label_combo'].value_counts()\n",
        "combo_counts"
      ]
    },
    {
      "cell_type": "code",
      "execution_count": 12,
      "id": "c1df421d",
      "metadata": {},
      "outputs": [
        {
          "data": {
            "image/png": "[encoded data removed]",
            "text/plain": [
              "<Figure size 640x480 with 1 Axes>"
            ]
          },
          "metadata": {},
          "output_type": "display_data"
        }
      ],
      "source": [
        "sns.barplot(x=combo_counts.index, y=combo_counts.values, palette=\"Set2\")\n",
        "plt.xticks(rotation=90)\n",
        "plt.show()"
      ]
    },
    {
      "cell_type": "markdown",
      "id": "82cd8cbd",
      "metadata": {},
      "source": [
        "#### Mint"
      ]
    },
    {
      "cell_type": "code",
      "execution_count": 13,
      "id": "6c6e55c9",
      "metadata": {},
      "outputs": [
        {
          "data": {
            "application/vnd.microsoft.datawrangler.viewer.v0+json": {
              "columns": [
                {
                  "name": "index",
                  "rawType": "int64",
                  "type": "integer"
                },
                {
                  "name": "Address",
                  "rawType": "object",
                  "type": "string"
                },
                {
                  "name": "TP?",
                  "rawType": "object",
                  "type": "string"
                }
              ],
              "ref": "b0590e3f-94df-40ae-aab1-2c34afecf9f3",
              "rows": [
                [
                  "0",
                  "0x0fef20d2c4ee011fa0389e69e9fa92a2291b63c8",
                  "Yes"
                ],
                [
                  "1",
                  "0xd7cc0deb9dd11be95068bf2d7a3d082b8ba9bf04",
                  "Yes"
                ],
                [
                  "2",
                  "0xa1b756be589441519b1a08e16bc4f60ab177d916",
                  "Yes"
                ],
                [
                  "3",
                  "0x514bc174df04a4b04ae2be81ee8c788c3796b06b",
                  "Yes"
                ],
                [
                  "4",
                  "0x1354c8c1a66c2573ce9cc3e92e98d17869501a46",
                  "Yes"
                ]
              ],
              "shape": {
                "columns": 2,
                "rows": 5
              }
            },
            "text/html": [
              "<div>\n",
              "<style scoped>\n",
              "    .dataframe tbody tr th:only-of-type {\n",
              "        vertical-align: middle;\n",
              "    }\n",
              "\n",
              "    .dataframe tbody tr th {\n",
              "        vertical-align: top;\n",
              "    }\n",
              "\n",
              "    .dataframe thead th {\n",
              "        text-align: right;\n",
              "    }\n",
              "</style>\n",
              "<table border=\"1\" class=\"dataframe\">\n",
              "  <thead>\n",
              "    <tr style=\"text-align: right;\">\n",
              "      <th></th>\n",
              "      <th>Address</th>\n",
              "      <th>TP?</th>\n",
              "    </tr>\n",
              "  </thead>\n",
              "  <tbody>\n",
              "    <tr>\n",
              "      <th>0</th>\n",
              "      <td>0x0fef20d2c4ee011fa0389e69e9fa92a2291b63c8</td>\n",
              "      <td>Yes</td>\n",
              "    </tr>\n",
              "    <tr>\n",
              "      <th>1</th>\n",
              "      <td>0xd7cc0deb9dd11be95068bf2d7a3d082b8ba9bf04</td>\n",
              "      <td>Yes</td>\n",
              "    </tr>\n",
              "    <tr>\n",
              "      <th>2</th>\n",
              "      <td>0xa1b756be589441519b1a08e16bc4f60ab177d916</td>\n",
              "      <td>Yes</td>\n",
              "    </tr>\n",
              "    <tr>\n",
              "      <th>3</th>\n",
              "      <td>0x514bc174df04a4b04ae2be81ee8c788c3796b06b</td>\n",
              "      <td>Yes</td>\n",
              "    </tr>\n",
              "    <tr>\n",
              "      <th>4</th>\n",
              "      <td>0x1354c8c1a66c2573ce9cc3e92e98d17869501a46</td>\n",
              "      <td>Yes</td>\n",
              "    </tr>\n",
              "  </tbody>\n",
              "</table>\n",
              "</div>"
            ],
            "text/plain": [
              "                                      Address  TP?\n",
              "0  0x0fef20d2c4ee011fa0389e69e9fa92a2291b63c8  Yes\n",
              "1  0xd7cc0deb9dd11be95068bf2d7a3d082b8ba9bf04  Yes\n",
              "2  0xa1b756be589441519b1a08e16bc4f60ab177d916  Yes\n",
              "3  0x514bc174df04a4b04ae2be81ee8c788c3796b06b  Yes\n",
              "4  0x1354c8c1a66c2573ce9cc3e92e98d17869501a46  Yes"
            ]
          },
          "execution_count": 13,
          "metadata": {},
          "output_type": "execute_result"
        }
      ],
      "source": [
        "mint_df.head()"
      ]
    },
    {
      "cell_type": "code",
      "execution_count": 14,
      "id": "d22ffe32",
      "metadata": {},
      "outputs": [
        {
          "name": "stdout",
          "output_type": "stream",
          "text": [
            "<class 'pandas.core.frame.DataFrame'>\n",
            "RangeIndex: 92 entries, 0 to 91\n",
            "Data columns (total 2 columns):\n",
            " #   Column   Non-Null Count  Dtype \n",
            "---  ------   --------------  ----- \n",
            " 0   Address  92 non-null     object\n",
            " 1   TP?      92 non-null     object\n",
            "dtypes: object(2)\n",
            "memory usage: 1.6+ KB\n"
          ]
        }
      ],
      "source": [
        "mint_df.info()"
      ]
    },
    {
      "cell_type": "code",
      "execution_count": 15,
      "id": "ccada13e",
      "metadata": {},
      "outputs": [
        {
          "data": {
            "application/vnd.microsoft.datawrangler.viewer.v0+json": {
              "columns": [
                {
                  "name": "index",
                  "rawType": "object",
                  "type": "string"
                },
                {
                  "name": "Address",
                  "rawType": "object",
                  "type": "unknown"
                },
                {
                  "name": "TP?",
                  "rawType": "object",
                  "type": "unknown"
                }
              ],
              "ref": "718ea254-cfc1-417d-b288-c45fcc4bb7f9",
              "rows": [
                [
                  "count",
                  "92",
                  "92"
                ],
                [
                  "unique",
                  "92",
                  "2"
                ],
                [
                  "top",
                  "0xebd55da9de25d071369130270de9fad62a12f5e6",
                  "Yes"
                ],
                [
                  "freq",
                  "1",
                  "78"
                ]
              ],
              "shape": {
                "columns": 2,
                "rows": 4
              }
            },
            "text/html": [
              "<div>\n",
              "<style scoped>\n",
              "    .dataframe tbody tr th:only-of-type {\n",
              "        vertical-align: middle;\n",
              "    }\n",
              "\n",
              "    .dataframe tbody tr th {\n",
              "        vertical-align: top;\n",
              "    }\n",
              "\n",
              "    .dataframe thead th {\n",
              "        text-align: right;\n",
              "    }\n",
              "</style>\n",
              "<table border=\"1\" class=\"dataframe\">\n",
              "  <thead>\n",
              "    <tr style=\"text-align: right;\">\n",
              "      <th></th>\n",
              "      <th>Address</th>\n",
              "      <th>TP?</th>\n",
              "    </tr>\n",
              "  </thead>\n",
              "  <tbody>\n",
              "    <tr>\n",
              "      <th>count</th>\n",
              "      <td>92</td>\n",
              "      <td>92</td>\n",
              "    </tr>\n",
              "    <tr>\n",
              "      <th>unique</th>\n",
              "      <td>92</td>\n",
              "      <td>2</td>\n",
              "    </tr>\n",
              "    <tr>\n",
              "      <th>top</th>\n",
              "      <td>0xebd55da9de25d071369130270de9fad62a12f5e6</td>\n",
              "      <td>Yes</td>\n",
              "    </tr>\n",
              "    <tr>\n",
              "      <th>freq</th>\n",
              "      <td>1</td>\n",
              "      <td>78</td>\n",
              "    </tr>\n",
              "  </tbody>\n",
              "</table>\n",
              "</div>"
            ],
            "text/plain": [
              "                                           Address  TP?\n",
              "count                                           92   92\n",
              "unique                                          92    2\n",
              "top     0xebd55da9de25d071369130270de9fad62a12f5e6  Yes\n",
              "freq                                             1   78"
            ]
          },
          "execution_count": 15,
          "metadata": {},
          "output_type": "execute_result"
        }
      ],
      "source": [
        "mint_df.describe()"
      ]
    },
    {
      "cell_type": "code",
      "execution_count": 16,
      "id": "dd879704",
      "metadata": {},
      "outputs": [
        {
          "data": {
            "text/plain": [
              "0"
            ]
          },
          "execution_count": 16,
          "metadata": {},
          "output_type": "execute_result"
        }
      ],
      "source": [
        "mint_df.duplicated().sum()"
      ]
    },
    {
      "cell_type": "code",
      "execution_count": 17,
      "id": "dadbbeca",
      "metadata": {},
      "outputs": [
        {
          "data": {
            "application/vnd.microsoft.datawrangler.viewer.v0+json": {
              "columns": [
                {
                  "name": "TP?",
                  "rawType": "object",
                  "type": "string"
                },
                {
                  "name": "count",
                  "rawType": "int64",
                  "type": "integer"
                }
              ],
              "ref": "7836223f-e735-4618-aacb-40a340a77f5e",
              "rows": [
                [
                  "Yes",
                  "78"
                ],
                [
                  "No",
                  "14"
                ]
              ],
              "shape": {
                "columns": 1,
                "rows": 2
              }
            },
            "text/plain": [
              "TP?\n",
              "Yes    78\n",
              "No     14\n",
              "Name: count, dtype: int64"
            ]
          },
          "execution_count": 17,
          "metadata": {},
          "output_type": "execute_result"
        }
      ],
      "source": [
        "mint_df['TP?'].value_counts()"
      ]
    },
    {
      "cell_type": "code",
      "execution_count": 18,
      "id": "0a5333ef",
      "metadata": {},
      "outputs": [
        {
          "data": {
            "text/plain": [
              "<Axes: xlabel='TP?', ylabel='count'>"
            ]
          },
          "execution_count": 18,
          "metadata": {},
          "output_type": "execute_result"
        },
        {
          "data": {
            "image/png": "[encoded data removed]",
            "text/plain": [
              "<Figure size 640x480 with 1 Axes>"
            ]
          },
          "metadata": {},
          "output_type": "display_data"
        }
      ],
      "source": [
        "sns.countplot(mint_df, x='TP?', palette=\"Set2\")"
      ]
    },
    {
      "cell_type": "markdown",
      "id": "e09a5dfa",
      "metadata": {},
      "source": [
        "#### Leak"
      ]
    },
    {
      "cell_type": "code",
      "execution_count": 19,
      "id": "e8eed985",
      "metadata": {},
      "outputs": [
        {
          "data": {
            "application/vnd.microsoft.datawrangler.viewer.v0+json": {
              "columns": [
                {
                  "name": "index",
                  "rawType": "int64",
                  "type": "integer"
                },
                {
                  "name": "Address",
                  "rawType": "object",
                  "type": "string"
                },
                {
                  "name": "TP?",
                  "rawType": "object",
                  "type": "string"
                }
              ],
              "ref": "52f605be-fba2-47b0-86f8-610c666618ee",
              "rows": [
                [
                  "0",
                  "0x0290ea3c728981725689187763f6c63a68e192b8",
                  "Yes"
                ],
                [
                  "1",
                  "0x054ad3cd4a66f14bf5c0de2548a53be66995a4f6",
                  "Yes"
                ],
                [
                  "2",
                  "0x0566c17dc2a9efcaa2f63e04cf06a69e8fc77f60",
                  "No"
                ],
                [
                  "3",
                  "0x10c8324b20b7266c445944f043f53f6a77ea0bd4",
                  "Yes"
                ],
                [
                  "4",
                  "0x10cc060f6f9b2e5dcdb23f1361e4b368a7daec73",
                  "Yes"
                ]
              ],
              "shape": {
                "columns": 2,
                "rows": 5
              }
            },
            "text/html": [
              "<div>\n",
              "<style scoped>\n",
              "    .dataframe tbody tr th:only-of-type {\n",
              "        vertical-align: middle;\n",
              "    }\n",
              "\n",
              "    .dataframe tbody tr th {\n",
              "        vertical-align: top;\n",
              "    }\n",
              "\n",
              "    .dataframe thead th {\n",
              "        text-align: right;\n",
              "    }\n",
              "</style>\n",
              "<table border=\"1\" class=\"dataframe\">\n",
              "  <thead>\n",
              "    <tr style=\"text-align: right;\">\n",
              "      <th></th>\n",
              "      <th>Address</th>\n",
              "      <th>TP?</th>\n",
              "    </tr>\n",
              "  </thead>\n",
              "  <tbody>\n",
              "    <tr>\n",
              "      <th>0</th>\n",
              "      <td>0x0290ea3c728981725689187763f6c63a68e192b8</td>\n",
              "      <td>Yes</td>\n",
              "    </tr>\n",
              "    <tr>\n",
              "      <th>1</th>\n",
              "      <td>0x054ad3cd4a66f14bf5c0de2548a53be66995a4f6</td>\n",
              "      <td>Yes</td>\n",
              "    </tr>\n",
              "    <tr>\n",
              "      <th>2</th>\n",
              "      <td>0x0566c17dc2a9efcaa2f63e04cf06a69e8fc77f60</td>\n",
              "      <td>No</td>\n",
              "    </tr>\n",
              "    <tr>\n",
              "      <th>3</th>\n",
              "      <td>0x10c8324b20b7266c445944f043f53f6a77ea0bd4</td>\n",
              "      <td>Yes</td>\n",
              "    </tr>\n",
              "    <tr>\n",
              "      <th>4</th>\n",
              "      <td>0x10cc060f6f9b2e5dcdb23f1361e4b368a7daec73</td>\n",
              "      <td>Yes</td>\n",
              "    </tr>\n",
              "  </tbody>\n",
              "</table>\n",
              "</div>"
            ],
            "text/plain": [
              "                                      Address  TP?\n",
              "0  0x0290ea3c728981725689187763f6c63a68e192b8  Yes\n",
              "1  0x054ad3cd4a66f14bf5c0de2548a53be66995a4f6  Yes\n",
              "2  0x0566c17dc2a9efcaa2f63e04cf06a69e8fc77f60   No\n",
              "3  0x10c8324b20b7266c445944f043f53f6a77ea0bd4  Yes\n",
              "4  0x10cc060f6f9b2e5dcdb23f1361e4b368a7daec73  Yes"
            ]
          },
          "execution_count": 19,
          "metadata": {},
          "output_type": "execute_result"
        }
      ],
      "source": [
        "leak_df.head()"
      ]
    },
    {
      "cell_type": "code",
      "execution_count": 20,
      "id": "0a1bcc9d",
      "metadata": {},
      "outputs": [
        {
          "name": "stdout",
          "output_type": "stream",
          "text": [
            "<class 'pandas.core.frame.DataFrame'>\n",
            "RangeIndex: 88 entries, 0 to 87\n",
            "Data columns (total 2 columns):\n",
            " #   Column   Non-Null Count  Dtype \n",
            "---  ------   --------------  ----- \n",
            " 0   Address  88 non-null     object\n",
            " 1   TP?      88 non-null     object\n",
            "dtypes: object(2)\n",
            "memory usage: 1.5+ KB\n"
          ]
        }
      ],
      "source": [
        "leak_df.info()"
      ]
    },
    {
      "cell_type": "code",
      "execution_count": 21,
      "id": "c6684dc4",
      "metadata": {},
      "outputs": [
        {
          "data": {
            "application/vnd.microsoft.datawrangler.viewer.v0+json": {
              "columns": [
                {
                  "name": "index",
                  "rawType": "object",
                  "type": "string"
                },
                {
                  "name": "Address",
                  "rawType": "object",
                  "type": "unknown"
                },
                {
                  "name": "TP?",
                  "rawType": "object",
                  "type": "unknown"
                }
              ],
              "ref": "90a203eb-2508-403c-859e-d2675c0d037d",
              "rows": [
                [
                  "count",
                  "88",
                  "88"
                ],
                [
                  "unique",
                  "87",
                  "2"
                ],
                [
                  "top",
                  "0x99d3dcf7febd2bb968b3fe7baa1a9a36546d9293",
                  "Yes"
                ],
                [
                  "freq",
                  "2",
                  "74"
                ]
              ],
              "shape": {
                "columns": 2,
                "rows": 4
              }
            },
            "text/html": [
              "<div>\n",
              "<style scoped>\n",
              "    .dataframe tbody tr th:only-of-type {\n",
              "        vertical-align: middle;\n",
              "    }\n",
              "\n",
              "    .dataframe tbody tr th {\n",
              "        vertical-align: top;\n",
              "    }\n",
              "\n",
              "    .dataframe thead th {\n",
              "        text-align: right;\n",
              "    }\n",
              "</style>\n",
              "<table border=\"1\" class=\"dataframe\">\n",
              "  <thead>\n",
              "    <tr style=\"text-align: right;\">\n",
              "      <th></th>\n",
              "      <th>Address</th>\n",
              "      <th>TP?</th>\n",
              "    </tr>\n",
              "  </thead>\n",
              "  <tbody>\n",
              "    <tr>\n",
              "      <th>count</th>\n",
              "      <td>88</td>\n",
              "      <td>88</td>\n",
              "    </tr>\n",
              "    <tr>\n",
              "      <th>unique</th>\n",
              "      <td>87</td>\n",
              "      <td>2</td>\n",
              "    </tr>\n",
              "    <tr>\n",
              "      <th>top</th>\n",
              "      <td>0x99d3dcf7febd2bb968b3fe7baa1a9a36546d9293</td>\n",
              "      <td>Yes</td>\n",
              "    </tr>\n",
              "    <tr>\n",
              "      <th>freq</th>\n",
              "      <td>2</td>\n",
              "      <td>74</td>\n",
              "    </tr>\n",
              "  </tbody>\n",
              "</table>\n",
              "</div>"
            ],
            "text/plain": [
              "                                           Address  TP?\n",
              "count                                           88   88\n",
              "unique                                          87    2\n",
              "top     0x99d3dcf7febd2bb968b3fe7baa1a9a36546d9293  Yes\n",
              "freq                                             2   74"
            ]
          },
          "execution_count": 21,
          "metadata": {},
          "output_type": "execute_result"
        }
      ],
      "source": [
        "leak_df.describe()"
      ]
    },
    {
      "cell_type": "code",
      "execution_count": 22,
      "id": "d448860d",
      "metadata": {},
      "outputs": [
        {
          "data": {
            "text/plain": [
              "1"
            ]
          },
          "execution_count": 22,
          "metadata": {},
          "output_type": "execute_result"
        }
      ],
      "source": [
        "leak_df.duplicated().sum()"
      ]
    },
    {
      "cell_type": "code",
      "execution_count": 23,
      "id": "cad6bc00",
      "metadata": {},
      "outputs": [],
      "source": [
        "leak_df = leak_df.drop_duplicates(keep='first')"
      ]
    },
    {
      "cell_type": "code",
      "execution_count": 24,
      "id": "f63776fa",
      "metadata": {},
      "outputs": [
        {
          "data": {
            "application/vnd.microsoft.datawrangler.viewer.v0+json": {
              "columns": [
                {
                  "name": "TP?",
                  "rawType": "object",
                  "type": "string"
                },
                {
                  "name": "count",
                  "rawType": "int64",
                  "type": "integer"
                }
              ],
              "ref": "5d3dce66-2ca2-4502-9640-e9512f45dc4c",
              "rows": [
                [
                  "Yes",
                  "74"
                ],
                [
                  "No",
                  "13"
                ]
              ],
              "shape": {
                "columns": 1,
                "rows": 2
              }
            },
            "text/plain": [
              "TP?\n",
              "Yes    74\n",
              "No     13\n",
              "Name: count, dtype: int64"
            ]
          },
          "execution_count": 24,
          "metadata": {},
          "output_type": "execute_result"
        }
      ],
      "source": [
        "leak_df['TP?'].value_counts()"
      ]
    },
    {
      "cell_type": "code",
      "execution_count": 25,
      "id": "33c46073",
      "metadata": {},
      "outputs": [
        {
          "data": {
            "text/plain": [
              "<Axes: xlabel='TP?', ylabel='count'>"
            ]
          },
          "execution_count": 25,
          "metadata": {},
          "output_type": "execute_result"
        },
        {
          "data": {
            "image/png": "[encoded data removed]",
            "text/plain": [
              "<Figure size 640x480 with 1 Axes>"
            ]
          },
          "metadata": {},
          "output_type": "display_data"
        }
      ],
      "source": [
        "sns.countplot(leak_df, x='TP?', palette=\"Set2\")"
      ]
    },
    {
      "cell_type": "markdown",
      "id": "53d2021b",
      "metadata": {},
      "source": [
        "#### Limit"
      ]
    },
    {
      "cell_type": "code",
      "execution_count": 26,
      "id": "c3bb5368",
      "metadata": {},
      "outputs": [
        {
          "data": {
            "application/vnd.microsoft.datawrangler.viewer.v0+json": {
              "columns": [
                {
                  "name": "index",
                  "rawType": "int64",
                  "type": "integer"
                },
                {
                  "name": "Address",
                  "rawType": "object",
                  "type": "string"
                },
                {
                  "name": "TP?",
                  "rawType": "object",
                  "type": "string"
                }
              ],
              "ref": "e9cb1598-04eb-4886-8f7b-a2d76fb59668",
              "rows": [
                [
                  "0",
                  "0xe5f3c6d2b47cbe2cf936b9521466bac2422ebef8",
                  "Yes"
                ],
                [
                  "1",
                  "0xa623b5a542c0d7daadef321042a04c600b03a8cb",
                  "Yes"
                ],
                [
                  "2",
                  "0xe412189da2dfa188a1a61633114b8732bbbfba19",
                  "Yes"
                ],
                [
                  "3",
                  "0x9fcf7acdc11fd904c4b73a009909c7f00efc4844",
                  "Yes"
                ],
                [
                  "4",
                  "0x921a5dce3dfed5cccfbb2e593f2978533bc66110",
                  "Yes"
                ]
              ],
              "shape": {
                "columns": 2,
                "rows": 5
              }
            },
            "text/html": [
              "<div>\n",
              "<style scoped>\n",
              "    .dataframe tbody tr th:only-of-type {\n",
              "        vertical-align: middle;\n",
              "    }\n",
              "\n",
              "    .dataframe tbody tr th {\n",
              "        vertical-align: top;\n",
              "    }\n",
              "\n",
              "    .dataframe thead th {\n",
              "        text-align: right;\n",
              "    }\n",
              "</style>\n",
              "<table border=\"1\" class=\"dataframe\">\n",
              "  <thead>\n",
              "    <tr style=\"text-align: right;\">\n",
              "      <th></th>\n",
              "      <th>Address</th>\n",
              "      <th>TP?</th>\n",
              "    </tr>\n",
              "  </thead>\n",
              "  <tbody>\n",
              "    <tr>\n",
              "      <th>0</th>\n",
              "      <td>0xe5f3c6d2b47cbe2cf936b9521466bac2422ebef8</td>\n",
              "      <td>Yes</td>\n",
              "    </tr>\n",
              "    <tr>\n",
              "      <th>1</th>\n",
              "      <td>0xa623b5a542c0d7daadef321042a04c600b03a8cb</td>\n",
              "      <td>Yes</td>\n",
              "    </tr>\n",
              "    <tr>\n",
              "      <th>2</th>\n",
              "      <td>0xe412189da2dfa188a1a61633114b8732bbbfba19</td>\n",
              "      <td>Yes</td>\n",
              "    </tr>\n",
              "    <tr>\n",
              "      <th>3</th>\n",
              "      <td>0x9fcf7acdc11fd904c4b73a009909c7f00efc4844</td>\n",
              "      <td>Yes</td>\n",
              "    </tr>\n",
              "    <tr>\n",
              "      <th>4</th>\n",
              "      <td>0x921a5dce3dfed5cccfbb2e593f2978533bc66110</td>\n",
              "      <td>Yes</td>\n",
              "    </tr>\n",
              "  </tbody>\n",
              "</table>\n",
              "</div>"
            ],
            "text/plain": [
              "                                      Address  TP?\n",
              "0  0xe5f3c6d2b47cbe2cf936b9521466bac2422ebef8  Yes\n",
              "1  0xa623b5a542c0d7daadef321042a04c600b03a8cb  Yes\n",
              "2  0xe412189da2dfa188a1a61633114b8732bbbfba19  Yes\n",
              "3  0x9fcf7acdc11fd904c4b73a009909c7f00efc4844  Yes\n",
              "4  0x921a5dce3dfed5cccfbb2e593f2978533bc66110  Yes"
            ]
          },
          "execution_count": 26,
          "metadata": {},
          "output_type": "execute_result"
        }
      ],
      "source": [
        "limit_df.head()"
      ]
    },
    {
      "cell_type": "code",
      "execution_count": 27,
      "id": "dba00d1e",
      "metadata": {},
      "outputs": [
        {
          "name": "stdout",
          "output_type": "stream",
          "text": [
            "<class 'pandas.core.frame.DataFrame'>\n",
            "RangeIndex: 92 entries, 0 to 91\n",
            "Data columns (total 2 columns):\n",
            " #   Column   Non-Null Count  Dtype \n",
            "---  ------   --------------  ----- \n",
            " 0   Address  92 non-null     object\n",
            " 1   TP?      92 non-null     object\n",
            "dtypes: object(2)\n",
            "memory usage: 1.6+ KB\n"
          ]
        }
      ],
      "source": [
        "limit_df.info()"
      ]
    },
    {
      "cell_type": "code",
      "execution_count": 28,
      "id": "edc6e12c",
      "metadata": {},
      "outputs": [
        {
          "data": {
            "application/vnd.microsoft.datawrangler.viewer.v0+json": {
              "columns": [
                {
                  "name": "index",
                  "rawType": "object",
                  "type": "string"
                },
                {
                  "name": "Address",
                  "rawType": "object",
                  "type": "unknown"
                },
                {
                  "name": "TP?",
                  "rawType": "object",
                  "type": "unknown"
                }
              ],
              "ref": "33fa87df-1c24-4499-844b-c714fd0c5f4d",
              "rows": [
                [
                  "count",
                  "92",
                  "92"
                ],
                [
                  "unique",
                  "91",
                  "2"
                ],
                [
                  "top",
                  "0x61c3ee9ce25e2c88dc9a8dd98f0510b95a82397a",
                  "Yes"
                ],
                [
                  "freq",
                  "2",
                  "79"
                ]
              ],
              "shape": {
                "columns": 2,
                "rows": 4
              }
            },
            "text/html": [
              "<div>\n",
              "<style scoped>\n",
              "    .dataframe tbody tr th:only-of-type {\n",
              "        vertical-align: middle;\n",
              "    }\n",
              "\n",
              "    .dataframe tbody tr th {\n",
              "        vertical-align: top;\n",
              "    }\n",
              "\n",
              "    .dataframe thead th {\n",
              "        text-align: right;\n",
              "    }\n",
              "</style>\n",
              "<table border=\"1\" class=\"dataframe\">\n",
              "  <thead>\n",
              "    <tr style=\"text-align: right;\">\n",
              "      <th></th>\n",
              "      <th>Address</th>\n",
              "      <th>TP?</th>\n",
              "    </tr>\n",
              "  </thead>\n",
              "  <tbody>\n",
              "    <tr>\n",
              "      <th>count</th>\n",
              "      <td>92</td>\n",
              "      <td>92</td>\n",
              "    </tr>\n",
              "    <tr>\n",
              "      <th>unique</th>\n",
              "      <td>91</td>\n",
              "      <td>2</td>\n",
              "    </tr>\n",
              "    <tr>\n",
              "      <th>top</th>\n",
              "      <td>0x61c3ee9ce25e2c88dc9a8dd98f0510b95a82397a</td>\n",
              "      <td>Yes</td>\n",
              "    </tr>\n",
              "    <tr>\n",
              "      <th>freq</th>\n",
              "      <td>2</td>\n",
              "      <td>79</td>\n",
              "    </tr>\n",
              "  </tbody>\n",
              "</table>\n",
              "</div>"
            ],
            "text/plain": [
              "                                           Address  TP?\n",
              "count                                           92   92\n",
              "unique                                          91    2\n",
              "top     0x61c3ee9ce25e2c88dc9a8dd98f0510b95a82397a  Yes\n",
              "freq                                             2   79"
            ]
          },
          "execution_count": 28,
          "metadata": {},
          "output_type": "execute_result"
        }
      ],
      "source": [
        "limit_df.describe()"
      ]
    },
    {
      "cell_type": "code",
      "execution_count": 29,
      "id": "d349a8a5",
      "metadata": {},
      "outputs": [
        {
          "data": {
            "text/plain": [
              "1"
            ]
          },
          "execution_count": 29,
          "metadata": {},
          "output_type": "execute_result"
        }
      ],
      "source": [
        "limit_df.duplicated().sum()"
      ]
    },
    {
      "cell_type": "code",
      "execution_count": 30,
      "id": "599f74ce",
      "metadata": {},
      "outputs": [],
      "source": [
        "limit_df = limit_df.drop_duplicates(keep='first')"
      ]
    },
    {
      "cell_type": "code",
      "execution_count": 31,
      "id": "44b20979",
      "metadata": {},
      "outputs": [
        {
          "data": {
            "application/vnd.microsoft.datawrangler.viewer.v0+json": {
              "columns": [
                {
                  "name": "TP?",
                  "rawType": "object",
                  "type": "string"
                },
                {
                  "name": "count",
                  "rawType": "int64",
                  "type": "integer"
                }
              ],
              "ref": "1c5f616d-95c8-493b-b3af-c30038f945ac",
              "rows": [
                [
                  "Yes",
                  "78"
                ],
                [
                  "No",
                  "13"
                ]
              ],
              "shape": {
                "columns": 1,
                "rows": 2
              }
            },
            "text/plain": [
              "TP?\n",
              "Yes    78\n",
              "No     13\n",
              "Name: count, dtype: int64"
            ]
          },
          "execution_count": 31,
          "metadata": {},
          "output_type": "execute_result"
        }
      ],
      "source": [
        "limit_df['TP?'].value_counts()"
      ]
    },
    {
      "cell_type": "code",
      "execution_count": 32,
      "id": "4c39dae5",
      "metadata": {},
      "outputs": [
        {
          "data": {
            "text/plain": [
              "<Axes: xlabel='TP?', ylabel='count'>"
            ]
          },
          "execution_count": 32,
          "metadata": {},
          "output_type": "execute_result"
        },
        {
          "data": {
            "image/png": "[encoded data removed]",
            "text/plain": [
              "<Figure size 640x480 with 1 Axes>"
            ]
          },
          "metadata": {},
          "output_type": "display_data"
        }
      ],
      "source": [
        "sns.countplot(limit_df, x='TP?', palette=\"Set2\")"
      ]
    },
    {
      "cell_type": "markdown",
      "id": "85b202b4",
      "metadata": {},
      "source": [
        "#### Modify Data"
      ]
    },
    {
      "cell_type": "code",
      "execution_count": 33,
      "id": "49c15d48",
      "metadata": {},
      "outputs": [],
      "source": [
        "crp_ground_df = crp_ground_df.rename(columns={\n",
        "  'address': 'Address'\n",
        "})\n",
        "crp_ground_df['Address'] = crp_ground_df['Address'].str.lower()\n",
        "crp_ground_df.to_csv(os.path.join(SAVE_PATH, 'groundtruth.csv'), index=False)"
      ]
    },
    {
      "cell_type": "code",
      "execution_count": 34,
      "id": "dfe2eaad",
      "metadata": {},
      "outputs": [
        {
          "data": {
            "application/vnd.microsoft.datawrangler.viewer.v0+json": {
              "columns": [
                {
                  "name": "index",
                  "rawType": "int64",
                  "type": "integer"
                },
                {
                  "name": "Address",
                  "rawType": "object",
                  "type": "string"
                },
                {
                  "name": "Mint",
                  "rawType": "int64",
                  "type": "integer"
                }
              ],
              "ref": "c4cffe30-53de-499a-b81e-630994270daa",
              "rows": [
                [
                  "0",
                  "0x0fef20d2c4ee011fa0389e69e9fa92a2291b63c8",
                  "1"
                ],
                [
                  "1",
                  "0xd7cc0deb9dd11be95068bf2d7a3d082b8ba9bf04",
                  "1"
                ],
                [
                  "2",
                  "0xa1b756be589441519b1a08e16bc4f60ab177d916",
                  "1"
                ],
                [
                  "3",
                  "0x514bc174df04a4b04ae2be81ee8c788c3796b06b",
                  "1"
                ],
                [
                  "4",
                  "0x1354c8c1a66c2573ce9cc3e92e98d17869501a46",
                  "1"
                ]
              ],
              "shape": {
                "columns": 2,
                "rows": 5
              }
            },
            "text/html": [
              "<div>\n",
              "<style scoped>\n",
              "    .dataframe tbody tr th:only-of-type {\n",
              "        vertical-align: middle;\n",
              "    }\n",
              "\n",
              "    .dataframe tbody tr th {\n",
              "        vertical-align: top;\n",
              "    }\n",
              "\n",
              "    .dataframe thead th {\n",
              "        text-align: right;\n",
              "    }\n",
              "</style>\n",
              "<table border=\"1\" class=\"dataframe\">\n",
              "  <thead>\n",
              "    <tr style=\"text-align: right;\">\n",
              "      <th></th>\n",
              "      <th>Address</th>\n",
              "      <th>Mint</th>\n",
              "    </tr>\n",
              "  </thead>\n",
              "  <tbody>\n",
              "    <tr>\n",
              "      <th>0</th>\n",
              "      <td>0x0fef20d2c4ee011fa0389e69e9fa92a2291b63c8</td>\n",
              "      <td>1</td>\n",
              "    </tr>\n",
              "    <tr>\n",
              "      <th>1</th>\n",
              "      <td>0xd7cc0deb9dd11be95068bf2d7a3d082b8ba9bf04</td>\n",
              "      <td>1</td>\n",
              "    </tr>\n",
              "    <tr>\n",
              "      <th>2</th>\n",
              "      <td>0xa1b756be589441519b1a08e16bc4f60ab177d916</td>\n",
              "      <td>1</td>\n",
              "    </tr>\n",
              "    <tr>\n",
              "      <th>3</th>\n",
              "      <td>0x514bc174df04a4b04ae2be81ee8c788c3796b06b</td>\n",
              "      <td>1</td>\n",
              "    </tr>\n",
              "    <tr>\n",
              "      <th>4</th>\n",
              "      <td>0x1354c8c1a66c2573ce9cc3e92e98d17869501a46</td>\n",
              "      <td>1</td>\n",
              "    </tr>\n",
              "  </tbody>\n",
              "</table>\n",
              "</div>"
            ],
            "text/plain": [
              "                                      Address  Mint\n",
              "0  0x0fef20d2c4ee011fa0389e69e9fa92a2291b63c8     1\n",
              "1  0xd7cc0deb9dd11be95068bf2d7a3d082b8ba9bf04     1\n",
              "2  0xa1b756be589441519b1a08e16bc4f60ab177d916     1\n",
              "3  0x514bc174df04a4b04ae2be81ee8c788c3796b06b     1\n",
              "4  0x1354c8c1a66c2573ce9cc3e92e98d17869501a46     1"
            ]
          },
          "execution_count": 34,
          "metadata": {},
          "output_type": "execute_result"
        }
      ],
      "source": [
        "mint_df['Address'] = mint_df['Address'].str.lower()\n",
        "df_encoded = pd.get_dummies(mint_df, columns=['TP?'], drop_first=True)\n",
        "mint_df['TP?'] = df_encoded['TP?_Yes'].astype(int)\n",
        "mint_df = mint_df.rename(columns={'TP?': 'Mint'})\n",
        "mint_df.head()\n"
      ]
    },
    {
      "cell_type": "code",
      "execution_count": 35,
      "id": "f0e0eded",
      "metadata": {},
      "outputs": [
        {
          "data": {
            "application/vnd.microsoft.datawrangler.viewer.v0+json": {
              "columns": [
                {
                  "name": "index",
                  "rawType": "int64",
                  "type": "integer"
                },
                {
                  "name": "Address",
                  "rawType": "object",
                  "type": "string"
                },
                {
                  "name": "Leak",
                  "rawType": "int64",
                  "type": "integer"
                }
              ],
              "ref": "173870fd-7770-4839-8c1d-4a83a408a592",
              "rows": [
                [
                  "0",
                  "0x0290ea3c728981725689187763f6c63a68e192b8",
                  "1"
                ],
                [
                  "1",
                  "0x054ad3cd4a66f14bf5c0de2548a53be66995a4f6",
                  "1"
                ],
                [
                  "2",
                  "0x0566c17dc2a9efcaa2f63e04cf06a69e8fc77f60",
                  "0"
                ],
                [
                  "3",
                  "0x10c8324b20b7266c445944f043f53f6a77ea0bd4",
                  "1"
                ],
                [
                  "4",
                  "0x10cc060f6f9b2e5dcdb23f1361e4b368a7daec73",
                  "1"
                ]
              ],
              "shape": {
                "columns": 2,
                "rows": 5
              }
            },
            "text/html": [
              "<div>\n",
              "<style scoped>\n",
              "    .dataframe tbody tr th:only-of-type {\n",
              "        vertical-align: middle;\n",
              "    }\n",
              "\n",
              "    .dataframe tbody tr th {\n",
              "        vertical-align: top;\n",
              "    }\n",
              "\n",
              "    .dataframe thead th {\n",
              "        text-align: right;\n",
              "    }\n",
              "</style>\n",
              "<table border=\"1\" class=\"dataframe\">\n",
              "  <thead>\n",
              "    <tr style=\"text-align: right;\">\n",
              "      <th></th>\n",
              "      <th>Address</th>\n",
              "      <th>Leak</th>\n",
              "    </tr>\n",
              "  </thead>\n",
              "  <tbody>\n",
              "    <tr>\n",
              "      <th>0</th>\n",
              "      <td>0x0290ea3c728981725689187763f6c63a68e192b8</td>\n",
              "      <td>1</td>\n",
              "    </tr>\n",
              "    <tr>\n",
              "      <th>1</th>\n",
              "      <td>0x054ad3cd4a66f14bf5c0de2548a53be66995a4f6</td>\n",
              "      <td>1</td>\n",
              "    </tr>\n",
              "    <tr>\n",
              "      <th>2</th>\n",
              "      <td>0x0566c17dc2a9efcaa2f63e04cf06a69e8fc77f60</td>\n",
              "      <td>0</td>\n",
              "    </tr>\n",
              "    <tr>\n",
              "      <th>3</th>\n",
              "      <td>0x10c8324b20b7266c445944f043f53f6a77ea0bd4</td>\n",
              "      <td>1</td>\n",
              "    </tr>\n",
              "    <tr>\n",
              "      <th>4</th>\n",
              "      <td>0x10cc060f6f9b2e5dcdb23f1361e4b368a7daec73</td>\n",
              "      <td>1</td>\n",
              "    </tr>\n",
              "  </tbody>\n",
              "</table>\n",
              "</div>"
            ],
            "text/plain": [
              "                                      Address  Leak\n",
              "0  0x0290ea3c728981725689187763f6c63a68e192b8     1\n",
              "1  0x054ad3cd4a66f14bf5c0de2548a53be66995a4f6     1\n",
              "2  0x0566c17dc2a9efcaa2f63e04cf06a69e8fc77f60     0\n",
              "3  0x10c8324b20b7266c445944f043f53f6a77ea0bd4     1\n",
              "4  0x10cc060f6f9b2e5dcdb23f1361e4b368a7daec73     1"
            ]
          },
          "execution_count": 35,
          "metadata": {},
          "output_type": "execute_result"
        }
      ],
      "source": [
        "leak_df['Address'] = leak_df['Address'].str.lower()\n",
        "df_encoded = pd.get_dummies(leak_df, columns=['TP?'], drop_first=True)\n",
        "leak_df['TP?'] = df_encoded['TP?_Yes'].astype(int)\n",
        "leak_df = leak_df.rename(columns={'TP?': 'Leak'})\n",
        "leak_df.head()\n"
      ]
    },
    {
      "cell_type": "code",
      "execution_count": 36,
      "id": "483f952d",
      "metadata": {},
      "outputs": [
        {
          "data": {
            "application/vnd.microsoft.datawrangler.viewer.v0+json": {
              "columns": [
                {
                  "name": "index",
                  "rawType": "int64",
                  "type": "integer"
                },
                {
                  "name": "Address",
                  "rawType": "object",
                  "type": "string"
                },
                {
                  "name": "Limit",
                  "rawType": "int64",
                  "type": "integer"
                }
              ],
              "ref": "b02dfb77-a36e-4cd9-9fde-bdb54cbd930b",
              "rows": [
                [
                  "0",
                  "0xe5f3c6d2b47cbe2cf936b9521466bac2422ebef8",
                  "1"
                ],
                [
                  "1",
                  "0xa623b5a542c0d7daadef321042a04c600b03a8cb",
                  "1"
                ],
                [
                  "2",
                  "0xe412189da2dfa188a1a61633114b8732bbbfba19",
                  "1"
                ],
                [
                  "3",
                  "0x9fcf7acdc11fd904c4b73a009909c7f00efc4844",
                  "1"
                ],
                [
                  "4",
                  "0x921a5dce3dfed5cccfbb2e593f2978533bc66110",
                  "1"
                ]
              ],
              "shape": {
                "columns": 2,
                "rows": 5
              }
            },
            "text/html": [
              "<div>\n",
              "<style scoped>\n",
              "    .dataframe tbody tr th:only-of-type {\n",
              "        vertical-align: middle;\n",
              "    }\n",
              "\n",
              "    .dataframe tbody tr th {\n",
              "        vertical-align: top;\n",
              "    }\n",
              "\n",
              "    .dataframe thead th {\n",
              "        text-align: right;\n",
              "    }\n",
              "</style>\n",
              "<table border=\"1\" class=\"dataframe\">\n",
              "  <thead>\n",
              "    <tr style=\"text-align: right;\">\n",
              "      <th></th>\n",
              "      <th>Address</th>\n",
              "      <th>Limit</th>\n",
              "    </tr>\n",
              "  </thead>\n",
              "  <tbody>\n",
              "    <tr>\n",
              "      <th>0</th>\n",
              "      <td>0xe5f3c6d2b47cbe2cf936b9521466bac2422ebef8</td>\n",
              "      <td>1</td>\n",
              "    </tr>\n",
              "    <tr>\n",
              "      <th>1</th>\n",
              "      <td>0xa623b5a542c0d7daadef321042a04c600b03a8cb</td>\n",
              "      <td>1</td>\n",
              "    </tr>\n",
              "    <tr>\n",
              "      <th>2</th>\n",
              "      <td>0xe412189da2dfa188a1a61633114b8732bbbfba19</td>\n",
              "      <td>1</td>\n",
              "    </tr>\n",
              "    <tr>\n",
              "      <th>3</th>\n",
              "      <td>0x9fcf7acdc11fd904c4b73a009909c7f00efc4844</td>\n",
              "      <td>1</td>\n",
              "    </tr>\n",
              "    <tr>\n",
              "      <th>4</th>\n",
              "      <td>0x921a5dce3dfed5cccfbb2e593f2978533bc66110</td>\n",
              "      <td>1</td>\n",
              "    </tr>\n",
              "  </tbody>\n",
              "</table>\n",
              "</div>"
            ],
            "text/plain": [
              "                                      Address  Limit\n",
              "0  0xe5f3c6d2b47cbe2cf936b9521466bac2422ebef8      1\n",
              "1  0xa623b5a542c0d7daadef321042a04c600b03a8cb      1\n",
              "2  0xe412189da2dfa188a1a61633114b8732bbbfba19      1\n",
              "3  0x9fcf7acdc11fd904c4b73a009909c7f00efc4844      1\n",
              "4  0x921a5dce3dfed5cccfbb2e593f2978533bc66110      1"
            ]
          },
          "execution_count": 36,
          "metadata": {},
          "output_type": "execute_result"
        }
      ],
      "source": [
        "limit_df['Address'] = limit_df['Address'].str.lower()\n",
        "df_encoded = pd.get_dummies(limit_df, columns=['TP?'], drop_first=True)\n",
        "limit_df['TP?'] = df_encoded['TP?_Yes'].astype(int)\n",
        "limit_df = limit_df.rename(columns={'TP?': 'Limit'})\n",
        "limit_df.head()\n"
      ]
    },
    {
      "cell_type": "code",
      "execution_count": 37,
      "id": "c94f835f",
      "metadata": {},
      "outputs": [
        {
          "data": {
            "text/plain": [
              "<matplotlib_venn._common.VennDiagram at 0x129a51c40>"
            ]
          },
          "execution_count": 37,
          "metadata": {},
          "output_type": "execute_result"
        },
        {
          "data": {
            "image/png": "[encoded data removed]",
            "text/plain": [
              "<Figure size 640x480 with 1 Axes>"
            ]
          },
          "metadata": {},
          "output_type": "display_data"
        }
      ],
      "source": [
        "venn3([set(mint_df['Address']), set(leak_df['Address']), set(limit_df['Address'])], ('Mint', 'Leak', 'Limit'))"
      ]
    },
    {
      "cell_type": "code",
      "execution_count": 38,
      "id": "a1fef970",
      "metadata": {},
      "outputs": [],
      "source": [
        "merged_df = pd.merge(mint_df, leak_df, on='Address', how='outer')\n",
        "merged_df = pd.merge(merged_df, limit_df, on='Address', how='outer')\n",
        "merged_df = merged_df.fillna(-1)\n",
        "merged_df[crpwarner_labels] = merged_df[crpwarner_labels].astype(int)\n",
        "merged_df.to_csv(os.path.join(TMP_PATH, 'crp_large_sample.csv'), index=False)"
      ]
    },
    {
      "cell_type": "code",
      "execution_count": 39,
      "id": "d18d57ab",
      "metadata": {},
      "outputs": [
        {
          "data": {
            "text/plain": [
              "<matplotlib_venn._common.VennDiagram at 0x129addc70>"
            ]
          },
          "execution_count": 39,
          "metadata": {},
          "output_type": "execute_result"
        },
        {
          "data": {
            "image/png": "[encoded data removed]",
            "text/plain": [
              "<Figure size 640x480 with 1 Axes>"
            ]
          },
          "metadata": {},
          "output_type": "display_data"
        }
      ],
      "source": [
        "venn2([set(crp_ground_df['Address']), set(merged_df['Address'])], ('Groundtruth', 'Large Sample'))"
      ]
    },
    {
      "cell_type": "markdown",
      "id": "5379ac84",
      "metadata": {},
      "source": [
        "### RPHunter"
      ]
    },
    {
      "cell_type": "markdown",
      "id": "514d328b",
      "metadata": {},
      "source": [
        "#### Total"
      ]
    },
    {
      "cell_type": "code",
      "execution_count": 40,
      "id": "f2163dd3",
      "metadata": {},
      "outputs": [
        {
          "data": {
            "application/vnd.microsoft.datawrangler.viewer.v0+json": {
              "columns": [
                {
                  "name": "index",
                  "rawType": "int64",
                  "type": "integer"
                },
                {
                  "name": "Project Name",
                  "rawType": "object",
                  "type": "string"
                },
                {
                  "name": "Chain",
                  "rawType": "object",
                  "type": "string"
                },
                {
                  "name": "Address",
                  "rawType": "object",
                  "type": "string"
                },
                {
                  "name": "Open Source",
                  "rawType": "object",
                  "type": "string"
                },
                {
                  "name": "Sale Restrict",
                  "rawType": "object",
                  "type": "unknown"
                },
                {
                  "name": "Variable Manipulation",
                  "rawType": "object",
                  "type": "unknown"
                },
                {
                  "name": "Balance Tamper",
                  "rawType": "object",
                  "type": "unknown"
                },
                {
                  "name": "Source",
                  "rawType": "object",
                  "type": "string"
                }
              ],
              "ref": "19f62ee1-11c4-4156-a482-d390548041e8",
              "rows": [
                [
                  "0",
                  "GMETA",
                  "BSC",
                  "0X93023F1D3525E273F291B6F76D2F5027A39BF302",
                  "Yes",
                  null,
                  "Modifiable Tax Rate",
                  "Hidden Mint/Burn",
                  "https://twitter.com/BeosinAlert/status/1681240663868973056"
                ],
                [
                  "1",
                  "PokémonFi",
                  "BSC",
                  "0X2753DCE37A7EDB052A77832039BCC9AA49AD8B25",
                  "Yes",
                  "Address Restrict",
                  null,
                  null,
                  "https://twitter.com/CertiKAlert/status/1562555089306685440"
                ],
                [
                  "2",
                  "PokémonFi",
                  "BSC",
                  "0X0AA5CAE4D1C9230543542E998E04EA795EEDF738",
                  "Yes",
                  "Address Restrict",
                  null,
                  null,
                  "https://twitter.com/CertiKAlert/status/1562555089306685440"
                ],
                [
                  "3",
                  "Sudorare",
                  "ETH",
                  "0X5404EFAFDD8CC30053069DF2A1B0C4BA881B3E1E",
                  "Yes",
                  null,
                  null,
                  "Hidden Mint/Burn",
                  "https://x.com/PeckShieldAlert/status/1561967493912363008"
                ],
                [
                  "4",
                  "DRAC Network",
                  "ETH",
                  "0X10F6F2B97F3AB29583D9D38BABF2994DF7220C21",
                  "Yes",
                  null,
                  "Modifiable Tax Rate",
                  "Hidden Mint/Burn",
                  "https://twitter.com/PeckShieldAlert/status/1551409593397350401"
                ]
              ],
              "shape": {
                "columns": 8,
                "rows": 5
              }
            },
            "text/html": [
              "<div>\n",
              "<style scoped>\n",
              "    .dataframe tbody tr th:only-of-type {\n",
              "        vertical-align: middle;\n",
              "    }\n",
              "\n",
              "    .dataframe tbody tr th {\n",
              "        vertical-align: top;\n",
              "    }\n",
              "\n",
              "    .dataframe thead th {\n",
              "        text-align: right;\n",
              "    }\n",
              "</style>\n",
              "<table border=\"1\" class=\"dataframe\">\n",
              "  <thead>\n",
              "    <tr style=\"text-align: right;\">\n",
              "      <th></th>\n",
              "      <th>Project Name</th>\n",
              "      <th>Chain</th>\n",
              "      <th>Address</th>\n",
              "      <th>Open Source</th>\n",
              "      <th>Sale Restrict</th>\n",
              "      <th>Variable Manipulation</th>\n",
              "      <th>Balance Tamper</th>\n",
              "      <th>Source</th>\n",
              "    </tr>\n",
              "  </thead>\n",
              "  <tbody>\n",
              "    <tr>\n",
              "      <th>0</th>\n",
              "      <td>GMETA</td>\n",
              "      <td>BSC</td>\n",
              "      <td>0X93023F1D3525E273F291B6F76D2F5027A39BF302</td>\n",
              "      <td>Yes</td>\n",
              "      <td>NaN</td>\n",
              "      <td>Modifiable Tax Rate</td>\n",
              "      <td>Hidden Mint/Burn</td>\n",
              "      <td>https://twitter.com/BeosinAlert/status/1681240...</td>\n",
              "    </tr>\n",
              "    <tr>\n",
              "      <th>1</th>\n",
              "      <td>PokémonFi</td>\n",
              "      <td>BSC</td>\n",
              "      <td>0X2753DCE37A7EDB052A77832039BCC9AA49AD8B25</td>\n",
              "      <td>Yes</td>\n",
              "      <td>Address Restrict</td>\n",
              "      <td>NaN</td>\n",
              "      <td>NaN</td>\n",
              "      <td>https://twitter.com/CertiKAlert/status/1562555...</td>\n",
              "    </tr>\n",
              "    <tr>\n",
              "      <th>2</th>\n",
              "      <td>PokémonFi</td>\n",
              "      <td>BSC</td>\n",
              "      <td>0X0AA5CAE4D1C9230543542E998E04EA795EEDF738</td>\n",
              "      <td>Yes</td>\n",
              "      <td>Address Restrict</td>\n",
              "      <td>NaN</td>\n",
              "      <td>NaN</td>\n",
              "      <td>https://twitter.com/CertiKAlert/status/1562555...</td>\n",
              "    </tr>\n",
              "    <tr>\n",
              "      <th>3</th>\n",
              "      <td>Sudorare</td>\n",
              "      <td>ETH</td>\n",
              "      <td>0X5404EFAFDD8CC30053069DF2A1B0C4BA881B3E1E</td>\n",
              "      <td>Yes</td>\n",
              "      <td>NaN</td>\n",
              "      <td>NaN</td>\n",
              "      <td>Hidden Mint/Burn</td>\n",
              "      <td>https://x.com/PeckShieldAlert/status/156196749...</td>\n",
              "    </tr>\n",
              "    <tr>\n",
              "      <th>4</th>\n",
              "      <td>DRAC Network</td>\n",
              "      <td>ETH</td>\n",
              "      <td>0X10F6F2B97F3AB29583D9D38BABF2994DF7220C21</td>\n",
              "      <td>Yes</td>\n",
              "      <td>NaN</td>\n",
              "      <td>Modifiable Tax Rate</td>\n",
              "      <td>Hidden Mint/Burn</td>\n",
              "      <td>https://twitter.com/PeckShieldAlert/status/155...</td>\n",
              "    </tr>\n",
              "  </tbody>\n",
              "</table>\n",
              "</div>"
            ],
            "text/plain": [
              "   Project Name Chain                                     Address Open Source  \\\n",
              "0         GMETA   BSC  0X93023F1D3525E273F291B6F76D2F5027A39BF302         Yes   \n",
              "1     PokémonFi   BSC  0X2753DCE37A7EDB052A77832039BCC9AA49AD8B25         Yes   \n",
              "2     PokémonFi   BSC  0X0AA5CAE4D1C9230543542E998E04EA795EEDF738         Yes   \n",
              "3      Sudorare   ETH  0X5404EFAFDD8CC30053069DF2A1B0C4BA881B3E1E         Yes   \n",
              "4  DRAC Network   ETH  0X10F6F2B97F3AB29583D9D38BABF2994DF7220C21         Yes   \n",
              "\n",
              "      Sale Restrict Variable Manipulation    Balance Tamper  \\\n",
              "0               NaN   Modifiable Tax Rate  Hidden Mint/Burn   \n",
              "1  Address Restrict                   NaN               NaN   \n",
              "2  Address Restrict                   NaN               NaN   \n",
              "3               NaN                   NaN  Hidden Mint/Burn   \n",
              "4               NaN   Modifiable Tax Rate  Hidden Mint/Burn   \n",
              "\n",
              "                                              Source  \n",
              "0  https://twitter.com/BeosinAlert/status/1681240...  \n",
              "1  https://twitter.com/CertiKAlert/status/1562555...  \n",
              "2  https://twitter.com/CertiKAlert/status/1562555...  \n",
              "3  https://x.com/PeckShieldAlert/status/156196749...  \n",
              "4  https://twitter.com/PeckShieldAlert/status/155...  "
            ]
          },
          "execution_count": 40,
          "metadata": {},
          "output_type": "execute_result"
        }
      ],
      "source": [
        "rphunter_total_df.head()"
      ]
    },
    {
      "cell_type": "code",
      "execution_count": 41,
      "id": "88a2210f",
      "metadata": {},
      "outputs": [
        {
          "name": "stdout",
          "output_type": "stream",
          "text": [
            "<class 'pandas.core.frame.DataFrame'>\n",
            "RangeIndex: 1047 entries, 0 to 1046\n",
            "Data columns (total 8 columns):\n",
            " #   Column                 Non-Null Count  Dtype \n",
            "---  ------                 --------------  ----- \n",
            " 0   Project Name           1047 non-null   object\n",
            " 1   Chain                  1046 non-null   object\n",
            " 2   Address                1035 non-null   object\n",
            " 3   Open Source            1047 non-null   object\n",
            " 4   Sale Restrict          291 non-null    object\n",
            " 5   Variable Manipulation  160 non-null    object\n",
            " 6   Balance Tamper         436 non-null    object\n",
            " 7   Source                 1046 non-null   object\n",
            "dtypes: object(8)\n",
            "memory usage: 65.6+ KB\n"
          ]
        }
      ],
      "source": [
        "rphunter_total_df.info()"
      ]
    },
    {
      "cell_type": "code",
      "execution_count": 42,
      "id": "29246e51",
      "metadata": {},
      "outputs": [
        {
          "data": {
            "application/vnd.microsoft.datawrangler.viewer.v0+json": {
              "columns": [
                {
                  "name": "index",
                  "rawType": "object",
                  "type": "string"
                },
                {
                  "name": "Project Name",
                  "rawType": "object",
                  "type": "unknown"
                },
                {
                  "name": "Chain",
                  "rawType": "object",
                  "type": "unknown"
                },
                {
                  "name": "Address",
                  "rawType": "object",
                  "type": "unknown"
                },
                {
                  "name": "Open Source",
                  "rawType": "object",
                  "type": "unknown"
                },
                {
                  "name": "Sale Restrict",
                  "rawType": "object",
                  "type": "unknown"
                },
                {
                  "name": "Variable Manipulation",
                  "rawType": "object",
                  "type": "unknown"
                },
                {
                  "name": "Balance Tamper",
                  "rawType": "object",
                  "type": "unknown"
                },
                {
                  "name": "Source",
                  "rawType": "object",
                  "type": "unknown"
                }
              ],
              "ref": "843ced4c-5891-43c1-ae60-9b2fc29acbe2",
              "rows": [
                [
                  "count",
                  "1047",
                  "1046",
                  "1035",
                  "1047",
                  "291",
                  "160",
                  "436",
                  "1046"
                ],
                [
                  "unique",
                  "1029",
                  "15",
                  "1035",
                  "2",
                  "15",
                  "10",
                  "9",
                  "1025"
                ],
                [
                  "top",
                  "IDO rug pulls",
                  "BSC",
                  "0xD2fC424fF0196c3Fb2b3D2A3b29dDEe94e025aee",
                  "Yes",
                  "Address Restrict",
                  "Modifiable Tax Rate",
                  "Hidden Mint/Burn",
                  "https://hacked.slowmist.io/search/"
                ],
                [
                  "freq",
                  "5",
                  "522",
                  "1",
                  "916",
                  "140",
                  "80",
                  "334",
                  "6"
                ]
              ],
              "shape": {
                "columns": 8,
                "rows": 4
              }
            },
            "text/html": [
              "<div>\n",
              "<style scoped>\n",
              "    .dataframe tbody tr th:only-of-type {\n",
              "        vertical-align: middle;\n",
              "    }\n",
              "\n",
              "    .dataframe tbody tr th {\n",
              "        vertical-align: top;\n",
              "    }\n",
              "\n",
              "    .dataframe thead th {\n",
              "        text-align: right;\n",
              "    }\n",
              "</style>\n",
              "<table border=\"1\" class=\"dataframe\">\n",
              "  <thead>\n",
              "    <tr style=\"text-align: right;\">\n",
              "      <th></th>\n",
              "      <th>Project Name</th>\n",
              "      <th>Chain</th>\n",
              "      <th>Address</th>\n",
              "      <th>Open Source</th>\n",
              "      <th>Sale Restrict</th>\n",
              "      <th>Variable Manipulation</th>\n",
              "      <th>Balance Tamper</th>\n",
              "      <th>Source</th>\n",
              "    </tr>\n",
              "  </thead>\n",
              "  <tbody>\n",
              "    <tr>\n",
              "      <th>count</th>\n",
              "      <td>1047</td>\n",
              "      <td>1046</td>\n",
              "      <td>1035</td>\n",
              "      <td>1047</td>\n",
              "      <td>291</td>\n",
              "      <td>160</td>\n",
              "      <td>436</td>\n",
              "      <td>1046</td>\n",
              "    </tr>\n",
              "    <tr>\n",
              "      <th>unique</th>\n",
              "      <td>1029</td>\n",
              "      <td>15</td>\n",
              "      <td>1035</td>\n",
              "      <td>2</td>\n",
              "      <td>15</td>\n",
              "      <td>10</td>\n",
              "      <td>9</td>\n",
              "      <td>1025</td>\n",
              "    </tr>\n",
              "    <tr>\n",
              "      <th>top</th>\n",
              "      <td>IDO rug pulls</td>\n",
              "      <td>BSC</td>\n",
              "      <td>0xD2fC424fF0196c3Fb2b3D2A3b29dDEe94e025aee</td>\n",
              "      <td>Yes</td>\n",
              "      <td>Address Restrict</td>\n",
              "      <td>Modifiable Tax Rate</td>\n",
              "      <td>Hidden Mint/Burn</td>\n",
              "      <td>https://hacked.slowmist.io/search/</td>\n",
              "    </tr>\n",
              "    <tr>\n",
              "      <th>freq</th>\n",
              "      <td>5</td>\n",
              "      <td>522</td>\n",
              "      <td>1</td>\n",
              "      <td>916</td>\n",
              "      <td>140</td>\n",
              "      <td>80</td>\n",
              "      <td>334</td>\n",
              "      <td>6</td>\n",
              "    </tr>\n",
              "  </tbody>\n",
              "</table>\n",
              "</div>"
            ],
            "text/plain": [
              "         Project Name Chain                                     Address  \\\n",
              "count            1047  1046                                        1035   \n",
              "unique           1029    15                                        1035   \n",
              "top     IDO rug pulls   BSC  0xD2fC424fF0196c3Fb2b3D2A3b29dDEe94e025aee   \n",
              "freq                5   522                                           1   \n",
              "\n",
              "       Open Source     Sale Restrict Variable Manipulation    Balance Tamper  \\\n",
              "count         1047               291                   160               436   \n",
              "unique           2                15                    10                 9   \n",
              "top            Yes  Address Restrict   Modifiable Tax Rate  Hidden Mint/Burn   \n",
              "freq           916               140                    80               334   \n",
              "\n",
              "                                    Source  \n",
              "count                                 1046  \n",
              "unique                                1025  \n",
              "top     https://hacked.slowmist.io/search/  \n",
              "freq                                     6  "
            ]
          },
          "execution_count": 42,
          "metadata": {},
          "output_type": "execute_result"
        }
      ],
      "source": [
        "rphunter_total_df.describe()"
      ]
    },
    {
      "cell_type": "markdown",
      "id": "2b43ac31",
      "metadata": {},
      "source": [
        "#### Experiment"
      ]
    },
    {
      "cell_type": "code",
      "execution_count": 43,
      "id": "db91c6e8",
      "metadata": {},
      "outputs": [
        {
          "data": {
            "application/vnd.microsoft.datawrangler.viewer.v0+json": {
              "columns": [
                {
                  "name": "index",
                  "rawType": "int64",
                  "type": "integer"
                },
                {
                  "name": "Project Name",
                  "rawType": "object",
                  "type": "string"
                },
                {
                  "name": "Chain",
                  "rawType": "object",
                  "type": "string"
                },
                {
                  "name": "Address",
                  "rawType": "object",
                  "type": "string"
                },
                {
                  "name": "Open Source",
                  "rawType": "object",
                  "type": "string"
                },
                {
                  "name": "Sale Restrict",
                  "rawType": "object",
                  "type": "unknown"
                },
                {
                  "name": "Variable Manipulation",
                  "rawType": "object",
                  "type": "unknown"
                },
                {
                  "name": "Balance Tamper",
                  "rawType": "object",
                  "type": "unknown"
                },
                {
                  "name": "Source",
                  "rawType": "object",
                  "type": "string"
                }
              ],
              "ref": "7feebb98-41f5-40f8-a3a4-8342c8e34f5e",
              "rows": [
                [
                  "0",
                  "GMETA",
                  "BSC",
                  "0X93023F1D3525E273F291B6F76D2F5027A39BF302",
                  "Yes",
                  null,
                  "Modifiable Tax Rate",
                  "Hidden Mint/Burn",
                  "https://twitter.com/BeosinAlert/status/1681240663868973056"
                ],
                [
                  "1",
                  "Sudorare",
                  "ETH",
                  "0X5404EFAFDD8CC30053069DF2A1B0C4BA881B3E1E",
                  "Yes",
                  null,
                  null,
                  "Hidden Mint/Burn",
                  "https://x.com/PeckShieldAlert/status/1561967493912363008"
                ],
                [
                  "2",
                  "DRAC Network",
                  "ETH",
                  "0X10F6F2B97F3AB29583D9D38BABF2994DF7220C21",
                  "Yes",
                  null,
                  "Modifiable Tax Rate",
                  "Hidden Mint/Burn",
                  "https://twitter.com/PeckShieldAlert/status/1551409593397350401"
                ],
                [
                  "3",
                  "DHE",
                  "BSC",
                  "0X11CBC781DADAAD13FC3A361772C80B1C027820AF",
                  "Yes",
                  "Address Restrict",
                  null,
                  null,
                  "https://twitter.com/CertiKAlert/status/1539031511114063873"
                ],
                [
                  "4",
                  "ElonMVP",
                  "BSC",
                  "0X3E597EA168A85AA2AE5E2C4333665BCD875ED10F",
                  "Yes",
                  "Address Restrict",
                  null,
                  null,
                  "https://twitter.com/PeckShieldAlert/status/1536223027717111808"
                ]
              ],
              "shape": {
                "columns": 8,
                "rows": 5
              }
            },
            "text/html": [
              "<div>\n",
              "<style scoped>\n",
              "    .dataframe tbody tr th:only-of-type {\n",
              "        vertical-align: middle;\n",
              "    }\n",
              "\n",
              "    .dataframe tbody tr th {\n",
              "        vertical-align: top;\n",
              "    }\n",
              "\n",
              "    .dataframe thead th {\n",
              "        text-align: right;\n",
              "    }\n",
              "</style>\n",
              "<table border=\"1\" class=\"dataframe\">\n",
              "  <thead>\n",
              "    <tr style=\"text-align: right;\">\n",
              "      <th></th>\n",
              "      <th>Project Name</th>\n",
              "      <th>Chain</th>\n",
              "      <th>Address</th>\n",
              "      <th>Open Source</th>\n",
              "      <th>Sale Restrict</th>\n",
              "      <th>Variable Manipulation</th>\n",
              "      <th>Balance Tamper</th>\n",
              "      <th>Source</th>\n",
              "    </tr>\n",
              "  </thead>\n",
              "  <tbody>\n",
              "    <tr>\n",
              "      <th>0</th>\n",
              "      <td>GMETA</td>\n",
              "      <td>BSC</td>\n",
              "      <td>0X93023F1D3525E273F291B6F76D2F5027A39BF302</td>\n",
              "      <td>Yes</td>\n",
              "      <td>NaN</td>\n",
              "      <td>Modifiable Tax Rate</td>\n",
              "      <td>Hidden Mint/Burn</td>\n",
              "      <td>https://twitter.com/BeosinAlert/status/1681240...</td>\n",
              "    </tr>\n",
              "    <tr>\n",
              "      <th>1</th>\n",
              "      <td>Sudorare</td>\n",
              "      <td>ETH</td>\n",
              "      <td>0X5404EFAFDD8CC30053069DF2A1B0C4BA881B3E1E</td>\n",
              "      <td>Yes</td>\n",
              "      <td>NaN</td>\n",
              "      <td>NaN</td>\n",
              "      <td>Hidden Mint/Burn</td>\n",
              "      <td>https://x.com/PeckShieldAlert/status/156196749...</td>\n",
              "    </tr>\n",
              "    <tr>\n",
              "      <th>2</th>\n",
              "      <td>DRAC Network</td>\n",
              "      <td>ETH</td>\n",
              "      <td>0X10F6F2B97F3AB29583D9D38BABF2994DF7220C21</td>\n",
              "      <td>Yes</td>\n",
              "      <td>NaN</td>\n",
              "      <td>Modifiable Tax Rate</td>\n",
              "      <td>Hidden Mint/Burn</td>\n",
              "      <td>https://twitter.com/PeckShieldAlert/status/155...</td>\n",
              "    </tr>\n",
              "    <tr>\n",
              "      <th>3</th>\n",
              "      <td>DHE</td>\n",
              "      <td>BSC</td>\n",
              "      <td>0X11CBC781DADAAD13FC3A361772C80B1C027820AF</td>\n",
              "      <td>Yes</td>\n",
              "      <td>Address Restrict</td>\n",
              "      <td>NaN</td>\n",
              "      <td>NaN</td>\n",
              "      <td>https://twitter.com/CertiKAlert/status/1539031...</td>\n",
              "    </tr>\n",
              "    <tr>\n",
              "      <th>4</th>\n",
              "      <td>ElonMVP</td>\n",
              "      <td>BSC</td>\n",
              "      <td>0X3E597EA168A85AA2AE5E2C4333665BCD875ED10F</td>\n",
              "      <td>Yes</td>\n",
              "      <td>Address Restrict</td>\n",
              "      <td>NaN</td>\n",
              "      <td>NaN</td>\n",
              "      <td>https://twitter.com/PeckShieldAlert/status/153...</td>\n",
              "    </tr>\n",
              "  </tbody>\n",
              "</table>\n",
              "</div>"
            ],
            "text/plain": [
              "   Project Name Chain                                     Address Open Source  \\\n",
              "0         GMETA   BSC  0X93023F1D3525E273F291B6F76D2F5027A39BF302         Yes   \n",
              "1      Sudorare   ETH  0X5404EFAFDD8CC30053069DF2A1B0C4BA881B3E1E         Yes   \n",
              "2  DRAC Network   ETH  0X10F6F2B97F3AB29583D9D38BABF2994DF7220C21         Yes   \n",
              "3           DHE   BSC  0X11CBC781DADAAD13FC3A361772C80B1C027820AF         Yes   \n",
              "4       ElonMVP   BSC  0X3E597EA168A85AA2AE5E2C4333665BCD875ED10F         Yes   \n",
              "\n",
              "      Sale Restrict Variable Manipulation    Balance Tamper  \\\n",
              "0               NaN   Modifiable Tax Rate  Hidden Mint/Burn   \n",
              "1               NaN                   NaN  Hidden Mint/Burn   \n",
              "2               NaN   Modifiable Tax Rate  Hidden Mint/Burn   \n",
              "3  Address Restrict                   NaN               NaN   \n",
              "4  Address Restrict                   NaN               NaN   \n",
              "\n",
              "                                              Source  \n",
              "0  https://twitter.com/BeosinAlert/status/1681240...  \n",
              "1  https://x.com/PeckShieldAlert/status/156196749...  \n",
              "2  https://twitter.com/PeckShieldAlert/status/155...  \n",
              "3  https://twitter.com/CertiKAlert/status/1539031...  \n",
              "4  https://twitter.com/PeckShieldAlert/status/153...  "
            ]
          },
          "execution_count": 43,
          "metadata": {},
          "output_type": "execute_result"
        }
      ],
      "source": [
        "rphunter_experiment_df.head()"
      ]
    },
    {
      "cell_type": "code",
      "execution_count": 44,
      "id": "92af8b19",
      "metadata": {},
      "outputs": [
        {
          "name": "stdout",
          "output_type": "stream",
          "text": [
            "<class 'pandas.core.frame.DataFrame'>\n",
            "RangeIndex: 645 entries, 0 to 644\n",
            "Data columns (total 8 columns):\n",
            " #   Column                 Non-Null Count  Dtype \n",
            "---  ------                 --------------  ----- \n",
            " 0   Project Name           645 non-null    object\n",
            " 1   Chain                  645 non-null    object\n",
            " 2   Address                645 non-null    object\n",
            " 3   Open Source            645 non-null    object\n",
            " 4   Sale Restrict          204 non-null    object\n",
            " 5   Variable Manipulation  145 non-null    object\n",
            " 6   Balance Tamper         190 non-null    object\n",
            " 7   Source                 644 non-null    object\n",
            "dtypes: object(8)\n",
            "memory usage: 40.4+ KB\n"
          ]
        }
      ],
      "source": [
        "rphunter_experiment_df.info()"
      ]
    },
    {
      "cell_type": "code",
      "execution_count": 45,
      "id": "15f42a1c",
      "metadata": {},
      "outputs": [
        {
          "data": {
            "application/vnd.microsoft.datawrangler.viewer.v0+json": {
              "columns": [
                {
                  "name": "index",
                  "rawType": "object",
                  "type": "string"
                },
                {
                  "name": "Project Name",
                  "rawType": "object",
                  "type": "unknown"
                },
                {
                  "name": "Chain",
                  "rawType": "object",
                  "type": "unknown"
                },
                {
                  "name": "Address",
                  "rawType": "object",
                  "type": "unknown"
                },
                {
                  "name": "Open Source",
                  "rawType": "object",
                  "type": "unknown"
                },
                {
                  "name": "Sale Restrict",
                  "rawType": "object",
                  "type": "unknown"
                },
                {
                  "name": "Variable Manipulation",
                  "rawType": "object",
                  "type": "unknown"
                },
                {
                  "name": "Balance Tamper",
                  "rawType": "object",
                  "type": "unknown"
                },
                {
                  "name": "Source",
                  "rawType": "object",
                  "type": "unknown"
                }
              ],
              "ref": "651bfe5d-b17a-41cd-882c-9df6cbfdabc3",
              "rows": [
                [
                  "count",
                  "645",
                  "645",
                  "645",
                  "645",
                  "204",
                  "145",
                  "190",
                  "644"
                ],
                [
                  "unique",
                  "638",
                  "7",
                  "645",
                  "2",
                  "14",
                  "10",
                  "7",
                  "631"
                ],
                [
                  "top",
                  "Apache NFT SalesRoom",
                  "BSC",
                  "0xabe776435f7459e2f5ba773bfb753ed19a053dd0",
                  "Yes",
                  "Address Restrict",
                  "Modifiable Tax Rate",
                  "Hidden Mint/Burn",
                  "https://hacked.slowmist.io/search/"
                ],
                [
                  "freq",
                  "2",
                  "324",
                  "1",
                  "643",
                  "92",
                  "69",
                  "132",
                  "6"
                ]
              ],
              "shape": {
                "columns": 8,
                "rows": 4
              }
            },
            "text/html": [
              "<div>\n",
              "<style scoped>\n",
              "    .dataframe tbody tr th:only-of-type {\n",
              "        vertical-align: middle;\n",
              "    }\n",
              "\n",
              "    .dataframe tbody tr th {\n",
              "        vertical-align: top;\n",
              "    }\n",
              "\n",
              "    .dataframe thead th {\n",
              "        text-align: right;\n",
              "    }\n",
              "</style>\n",
              "<table border=\"1\" class=\"dataframe\">\n",
              "  <thead>\n",
              "    <tr style=\"text-align: right;\">\n",
              "      <th></th>\n",
              "      <th>Project Name</th>\n",
              "      <th>Chain</th>\n",
              "      <th>Address</th>\n",
              "      <th>Open Source</th>\n",
              "      <th>Sale Restrict</th>\n",
              "      <th>Variable Manipulation</th>\n",
              "      <th>Balance Tamper</th>\n",
              "      <th>Source</th>\n",
              "    </tr>\n",
              "  </thead>\n",
              "  <tbody>\n",
              "    <tr>\n",
              "      <th>count</th>\n",
              "      <td>645</td>\n",
              "      <td>645</td>\n",
              "      <td>645</td>\n",
              "      <td>645</td>\n",
              "      <td>204</td>\n",
              "      <td>145</td>\n",
              "      <td>190</td>\n",
              "      <td>644</td>\n",
              "    </tr>\n",
              "    <tr>\n",
              "      <th>unique</th>\n",
              "      <td>638</td>\n",
              "      <td>7</td>\n",
              "      <td>645</td>\n",
              "      <td>2</td>\n",
              "      <td>14</td>\n",
              "      <td>10</td>\n",
              "      <td>7</td>\n",
              "      <td>631</td>\n",
              "    </tr>\n",
              "    <tr>\n",
              "      <th>top</th>\n",
              "      <td>Apache NFT SalesRoom</td>\n",
              "      <td>BSC</td>\n",
              "      <td>0xabe776435f7459e2f5ba773bfb753ed19a053dd0</td>\n",
              "      <td>Yes</td>\n",
              "      <td>Address Restrict</td>\n",
              "      <td>Modifiable Tax Rate</td>\n",
              "      <td>Hidden Mint/Burn</td>\n",
              "      <td>https://hacked.slowmist.io/search/</td>\n",
              "    </tr>\n",
              "    <tr>\n",
              "      <th>freq</th>\n",
              "      <td>2</td>\n",
              "      <td>324</td>\n",
              "      <td>1</td>\n",
              "      <td>643</td>\n",
              "      <td>92</td>\n",
              "      <td>69</td>\n",
              "      <td>132</td>\n",
              "      <td>6</td>\n",
              "    </tr>\n",
              "  </tbody>\n",
              "</table>\n",
              "</div>"
            ],
            "text/plain": [
              "                Project Name Chain  \\\n",
              "count                    645   645   \n",
              "unique                   638     7   \n",
              "top     Apache NFT SalesRoom   BSC   \n",
              "freq                       2   324   \n",
              "\n",
              "                                           Address Open Source  \\\n",
              "count                                          645         645   \n",
              "unique                                         645           2   \n",
              "top     0xabe776435f7459e2f5ba773bfb753ed19a053dd0         Yes   \n",
              "freq                                             1         643   \n",
              "\n",
              "           Sale Restrict Variable Manipulation    Balance Tamper  \\\n",
              "count                204                   145               190   \n",
              "unique                14                    10                 7   \n",
              "top     Address Restrict   Modifiable Tax Rate  Hidden Mint/Burn   \n",
              "freq                  92                    69               132   \n",
              "\n",
              "                                    Source  \n",
              "count                                  644  \n",
              "unique                                 631  \n",
              "top     https://hacked.slowmist.io/search/  \n",
              "freq                                     6  "
            ]
          },
          "execution_count": 45,
          "metadata": {},
          "output_type": "execute_result"
        }
      ],
      "source": [
        "rphunter_experiment_df.describe()"
      ]
    },
    {
      "cell_type": "markdown",
      "id": "3a6ecfd2",
      "metadata": {},
      "source": [
        "#### Merge Total & Experiment"
      ]
    },
    {
      "cell_type": "code",
      "execution_count": 46,
      "id": "9cb10335",
      "metadata": {},
      "outputs": [],
      "source": [
        "rphunter_total_df['Address'] = rphunter_total_df['Address'].str.lower()\n",
        "rphunter_experiment_df['Address'] = rphunter_experiment_df['Address'].str.lower()\n",
        "rphunter_df = pd.concat([rphunter_total_df, rphunter_experiment_df])"
      ]
    },
    {
      "cell_type": "code",
      "execution_count": 47,
      "id": "1026f7c1",
      "metadata": {},
      "outputs": [
        {
          "data": {
            "application/vnd.microsoft.datawrangler.viewer.v0+json": {
              "columns": [
                {
                  "name": "index",
                  "rawType": "int64",
                  "type": "integer"
                },
                {
                  "name": "Project Name",
                  "rawType": "object",
                  "type": "string"
                },
                {
                  "name": "Chain",
                  "rawType": "object",
                  "type": "string"
                },
                {
                  "name": "Address",
                  "rawType": "object",
                  "type": "string"
                },
                {
                  "name": "Open Source",
                  "rawType": "object",
                  "type": "string"
                },
                {
                  "name": "Sale Restrict",
                  "rawType": "object",
                  "type": "unknown"
                },
                {
                  "name": "Variable Manipulation",
                  "rawType": "object",
                  "type": "unknown"
                },
                {
                  "name": "Balance Tamper",
                  "rawType": "object",
                  "type": "unknown"
                },
                {
                  "name": "Source",
                  "rawType": "object",
                  "type": "string"
                }
              ],
              "ref": "2ec01b1d-5f1b-446f-a8bf-f7c9c5687ae8",
              "rows": [
                [
                  "0",
                  "GMETA",
                  "BSC",
                  "0x93023f1d3525e273f291b6f76d2f5027a39bf302",
                  "Yes",
                  null,
                  "Modifiable Tax Rate",
                  "Hidden Mint/Burn",
                  "https://twitter.com/BeosinAlert/status/1681240663868973056"
                ],
                [
                  "1",
                  "PokémonFi",
                  "BSC",
                  "0x2753dce37a7edb052a77832039bcc9aa49ad8b25",
                  "Yes",
                  "Address Restrict",
                  null,
                  null,
                  "https://twitter.com/CertiKAlert/status/1562555089306685440"
                ],
                [
                  "2",
                  "PokémonFi",
                  "BSC",
                  "0x0aa5cae4d1c9230543542e998e04ea795eedf738",
                  "Yes",
                  "Address Restrict",
                  null,
                  null,
                  "https://twitter.com/CertiKAlert/status/1562555089306685440"
                ],
                [
                  "3",
                  "Sudorare",
                  "ETH",
                  "0x5404efafdd8cc30053069df2a1b0c4ba881b3e1e",
                  "Yes",
                  null,
                  null,
                  "Hidden Mint/Burn",
                  "https://x.com/PeckShieldAlert/status/1561967493912363008"
                ],
                [
                  "4",
                  "DRAC Network",
                  "ETH",
                  "0x10f6f2b97f3ab29583d9d38babf2994df7220c21",
                  "Yes",
                  null,
                  "Modifiable Tax Rate",
                  "Hidden Mint/Burn",
                  "https://twitter.com/PeckShieldAlert/status/1551409593397350401"
                ]
              ],
              "shape": {
                "columns": 8,
                "rows": 5
              }
            },
            "text/html": [
              "<div>\n",
              "<style scoped>\n",
              "    .dataframe tbody tr th:only-of-type {\n",
              "        vertical-align: middle;\n",
              "    }\n",
              "\n",
              "    .dataframe tbody tr th {\n",
              "        vertical-align: top;\n",
              "    }\n",
              "\n",
              "    .dataframe thead th {\n",
              "        text-align: right;\n",
              "    }\n",
              "</style>\n",
              "<table border=\"1\" class=\"dataframe\">\n",
              "  <thead>\n",
              "    <tr style=\"text-align: right;\">\n",
              "      <th></th>\n",
              "      <th>Project Name</th>\n",
              "      <th>Chain</th>\n",
              "      <th>Address</th>\n",
              "      <th>Open Source</th>\n",
              "      <th>Sale Restrict</th>\n",
              "      <th>Variable Manipulation</th>\n",
              "      <th>Balance Tamper</th>\n",
              "      <th>Source</th>\n",
              "    </tr>\n",
              "  </thead>\n",
              "  <tbody>\n",
              "    <tr>\n",
              "      <th>0</th>\n",
              "      <td>GMETA</td>\n",
              "      <td>BSC</td>\n",
              "      <td>0x93023f1d3525e273f291b6f76d2f5027a39bf302</td>\n",
              "      <td>Yes</td>\n",
              "      <td>NaN</td>\n",
              "      <td>Modifiable Tax Rate</td>\n",
              "      <td>Hidden Mint/Burn</td>\n",
              "      <td>https://twitter.com/BeosinAlert/status/1681240...</td>\n",
              "    </tr>\n",
              "    <tr>\n",
              "      <th>1</th>\n",
              "      <td>PokémonFi</td>\n",
              "      <td>BSC</td>\n",
              "      <td>0x2753dce37a7edb052a77832039bcc9aa49ad8b25</td>\n",
              "      <td>Yes</td>\n",
              "      <td>Address Restrict</td>\n",
              "      <td>NaN</td>\n",
              "      <td>NaN</td>\n",
              "      <td>https://twitter.com/CertiKAlert/status/1562555...</td>\n",
              "    </tr>\n",
              "    <tr>\n",
              "      <th>2</th>\n",
              "      <td>PokémonFi</td>\n",
              "      <td>BSC</td>\n",
              "      <td>0x0aa5cae4d1c9230543542e998e04ea795eedf738</td>\n",
              "      <td>Yes</td>\n",
              "      <td>Address Restrict</td>\n",
              "      <td>NaN</td>\n",
              "      <td>NaN</td>\n",
              "      <td>https://twitter.com/CertiKAlert/status/1562555...</td>\n",
              "    </tr>\n",
              "    <tr>\n",
              "      <th>3</th>\n",
              "      <td>Sudorare</td>\n",
              "      <td>ETH</td>\n",
              "      <td>0x5404efafdd8cc30053069df2a1b0c4ba881b3e1e</td>\n",
              "      <td>Yes</td>\n",
              "      <td>NaN</td>\n",
              "      <td>NaN</td>\n",
              "      <td>Hidden Mint/Burn</td>\n",
              "      <td>https://x.com/PeckShieldAlert/status/156196749...</td>\n",
              "    </tr>\n",
              "    <tr>\n",
              "      <th>4</th>\n",
              "      <td>DRAC Network</td>\n",
              "      <td>ETH</td>\n",
              "      <td>0x10f6f2b97f3ab29583d9d38babf2994df7220c21</td>\n",
              "      <td>Yes</td>\n",
              "      <td>NaN</td>\n",
              "      <td>Modifiable Tax Rate</td>\n",
              "      <td>Hidden Mint/Burn</td>\n",
              "      <td>https://twitter.com/PeckShieldAlert/status/155...</td>\n",
              "    </tr>\n",
              "  </tbody>\n",
              "</table>\n",
              "</div>"
            ],
            "text/plain": [
              "   Project Name Chain                                     Address Open Source  \\\n",
              "0         GMETA   BSC  0x93023f1d3525e273f291b6f76d2f5027a39bf302         Yes   \n",
              "1     PokémonFi   BSC  0x2753dce37a7edb052a77832039bcc9aa49ad8b25         Yes   \n",
              "2     PokémonFi   BSC  0x0aa5cae4d1c9230543542e998e04ea795eedf738         Yes   \n",
              "3      Sudorare   ETH  0x5404efafdd8cc30053069df2a1b0c4ba881b3e1e         Yes   \n",
              "4  DRAC Network   ETH  0x10f6f2b97f3ab29583d9d38babf2994df7220c21         Yes   \n",
              "\n",
              "      Sale Restrict Variable Manipulation    Balance Tamper  \\\n",
              "0               NaN   Modifiable Tax Rate  Hidden Mint/Burn   \n",
              "1  Address Restrict                   NaN               NaN   \n",
              "2  Address Restrict                   NaN               NaN   \n",
              "3               NaN                   NaN  Hidden Mint/Burn   \n",
              "4               NaN   Modifiable Tax Rate  Hidden Mint/Burn   \n",
              "\n",
              "                                              Source  \n",
              "0  https://twitter.com/BeosinAlert/status/1681240...  \n",
              "1  https://twitter.com/CertiKAlert/status/1562555...  \n",
              "2  https://twitter.com/CertiKAlert/status/1562555...  \n",
              "3  https://x.com/PeckShieldAlert/status/156196749...  \n",
              "4  https://twitter.com/PeckShieldAlert/status/155...  "
            ]
          },
          "execution_count": 47,
          "metadata": {},
          "output_type": "execute_result"
        }
      ],
      "source": [
        "rphunter_df.head()"
      ]
    },
    {
      "cell_type": "code",
      "execution_count": 48,
      "id": "1e0f50c2",
      "metadata": {},
      "outputs": [
        {
          "name": "stdout",
          "output_type": "stream",
          "text": [
            "<class 'pandas.core.frame.DataFrame'>\n",
            "Index: 1692 entries, 0 to 644\n",
            "Data columns (total 8 columns):\n",
            " #   Column                 Non-Null Count  Dtype \n",
            "---  ------                 --------------  ----- \n",
            " 0   Project Name           1692 non-null   object\n",
            " 1   Chain                  1691 non-null   object\n",
            " 2   Address                1680 non-null   object\n",
            " 3   Open Source            1692 non-null   object\n",
            " 4   Sale Restrict          495 non-null    object\n",
            " 5   Variable Manipulation  305 non-null    object\n",
            " 6   Balance Tamper         626 non-null    object\n",
            " 7   Source                 1690 non-null   object\n",
            "dtypes: object(8)\n",
            "memory usage: 119.0+ KB\n"
          ]
        }
      ],
      "source": [
        "rphunter_df.info()"
      ]
    },
    {
      "cell_type": "code",
      "execution_count": 49,
      "id": "1a0bb4a2",
      "metadata": {},
      "outputs": [
        {
          "data": {
            "text/plain": [
              "584"
            ]
          },
          "execution_count": 49,
          "metadata": {},
          "output_type": "execute_result"
        }
      ],
      "source": [
        "rphunter_df.duplicated().sum()"
      ]
    },
    {
      "cell_type": "code",
      "execution_count": 50,
      "id": "5acfbae8",
      "metadata": {},
      "outputs": [],
      "source": [
        "rphunter_df = rphunter_df.drop_duplicates(keep='first')"
      ]
    },
    {
      "cell_type": "markdown",
      "id": "7b752833",
      "metadata": {},
      "source": [
        "#### Distribution"
      ]
    },
    {
      "cell_type": "markdown",
      "id": "5517862f",
      "metadata": {},
      "source": [
        "##### Chain"
      ]
    },
    {
      "cell_type": "code",
      "execution_count": 51,
      "id": "1ef0eb0c",
      "metadata": {},
      "outputs": [
        {
          "data": {
            "application/vnd.microsoft.datawrangler.viewer.v0+json": {
              "columns": [
                {
                  "name": "Chain",
                  "rawType": "object",
                  "type": "string"
                },
                {
                  "name": "count",
                  "rawType": "int64",
                  "type": "integer"
                }
              ],
              "ref": "26e950bd-e8a4-4f41-a887-33c210a09b85",
              "rows": [
                [
                  "BSC",
                  "545"
                ],
                [
                  "ETH",
                  "440"
                ],
                [
                  "Polygon",
                  "84"
                ],
                [
                  "Arbitrum",
                  "11"
                ],
                [
                  "Fantom",
                  "11"
                ],
                [
                  "Avax",
                  "4"
                ],
                [
                  "BASE",
                  "2"
                ],
                [
                  "AVAX",
                  "2"
                ],
                [
                  "KuCoin",
                  "2"
                ],
                [
                  "Cchain",
                  "1"
                ],
                [
                  "OP.ETH",
                  "1"
                ],
                [
                  "SnowTrace",
                  "1"
                ],
                [
                  "Heco",
                  "1"
                ],
                [
                  "Cronos",
                  "1"
                ],
                [
                  "Blast",
                  "1"
                ]
              ],
              "shape": {
                "columns": 1,
                "rows": 15
              }
            },
            "text/plain": [
              "Chain\n",
              "BSC          545\n",
              "ETH          440\n",
              "Polygon       84\n",
              "Arbitrum      11\n",
              "Fantom        11\n",
              "Avax           4\n",
              "BASE           2\n",
              "AVAX           2\n",
              "KuCoin         2\n",
              "Cchain         1\n",
              "OP.ETH         1\n",
              "SnowTrace      1\n",
              "Heco           1\n",
              "Cronos         1\n",
              "Blast          1\n",
              "Name: count, dtype: int64"
            ]
          },
          "execution_count": 51,
          "metadata": {},
          "output_type": "execute_result"
        }
      ],
      "source": [
        "rphunter_df['Chain'].value_counts()"
      ]
    },
    {
      "cell_type": "markdown",
      "id": "e50a5457",
      "metadata": {},
      "source": [
        "##### Open Source"
      ]
    },
    {
      "cell_type": "code",
      "execution_count": 52,
      "id": "592ff804",
      "metadata": {},
      "outputs": [
        {
          "data": {
            "application/vnd.microsoft.datawrangler.viewer.v0+json": {
              "columns": [
                {
                  "name": "Open Source",
                  "rawType": "object",
                  "type": "string"
                },
                {
                  "name": "count",
                  "rawType": "int64",
                  "type": "integer"
                }
              ],
              "ref": "6fb8a626-3d74-47dd-8fb0-5ba232dcfa68",
              "rows": [
                [
                  "Yes",
                  "979"
                ],
                [
                  "No",
                  "129"
                ]
              ],
              "shape": {
                "columns": 1,
                "rows": 2
              }
            },
            "text/plain": [
              "Open Source\n",
              "Yes    979\n",
              "No     129\n",
              "Name: count, dtype: int64"
            ]
          },
          "execution_count": 52,
          "metadata": {},
          "output_type": "execute_result"
        }
      ],
      "source": [
        "rphunter_df['Open Source'].value_counts()"
      ]
    },
    {
      "cell_type": "markdown",
      "id": "c939c8a9",
      "metadata": {},
      "source": [
        "##### Sale Restrict"
      ]
    },
    {
      "cell_type": "code",
      "execution_count": 53,
      "id": "2699cab0",
      "metadata": {},
      "outputs": [
        {
          "data": {
            "application/vnd.microsoft.datawrangler.viewer.v0+json": {
              "columns": [
                {
                  "name": "Sale Restrict",
                  "rawType": "object",
                  "type": "string"
                },
                {
                  "name": "count",
                  "rawType": "int64",
                  "type": "integer"
                }
              ],
              "ref": "4725b09c-de71-4b9b-b5aa-4f63252c66ad",
              "rows": [
                [
                  "Address Restrict",
                  "147"
                ],
                [
                  "Amount Restrict",
                  "93"
                ],
                [
                  "Address Restrict,Amount Restrict",
                  "38"
                ],
                [
                  "Address Restrict,TimeStamp Restrict",
                  "7"
                ],
                [
                  "Address Restrict,Amount Restrict,TimeStamp Restrict",
                  "4"
                ],
                [
                  "\nAddress Restrict,Amount Restrict",
                  "4"
                ],
                [
                  "TimeStamp Restrict",
                  "2"
                ],
                [
                  "\nAddress Restrict",
                  "2"
                ],
                [
                  "Amount Restrict,TimeStamp Restrict",
                  "1"
                ],
                [
                  "Modifiable External Call",
                  "1"
                ],
                [
                  "Address Restrict ",
                  "1"
                ],
                [
                  "Address Restrict,Address Restrict*3",
                  "1"
                ],
                [
                  "\n\nAddress Restrict,Amount Restrict,TimeStamp Restrict",
                  "1"
                ],
                [
                  "\nAmount Restrict",
                  "1"
                ],
                [
                  "TimeStanp Restrict",
                  "1"
                ]
              ],
              "shape": {
                "columns": 1,
                "rows": 15
              }
            },
            "text/plain": [
              "Sale Restrict\n",
              "Address Restrict                                           147\n",
              "Amount Restrict                                             93\n",
              "Address Restrict,Amount Restrict                            38\n",
              "Address Restrict,TimeStamp Restrict                          7\n",
              "Address Restrict,Amount Restrict,TimeStamp Restrict          4\n",
              "\\nAddress Restrict,Amount Restrict                           4\n",
              "TimeStamp Restrict                                           2\n",
              "\\nAddress Restrict                                           2\n",
              "Amount Restrict,TimeStamp Restrict                           1\n",
              "Modifiable External Call                                     1\n",
              "Address Restrict                                             1\n",
              "Address Restrict,Address Restrict*3                          1\n",
              "\\n\\nAddress Restrict,Amount Restrict,TimeStamp Restrict      1\n",
              "\\nAmount Restrict                                            1\n",
              "TimeStanp Restrict                                           1\n",
              "Name: count, dtype: int64"
            ]
          },
          "execution_count": 53,
          "metadata": {},
          "output_type": "execute_result"
        }
      ],
      "source": [
        "rphunter_df['Sale Restrict'].value_counts()"
      ]
    },
    {
      "cell_type": "markdown",
      "id": "8dcd7159",
      "metadata": {},
      "source": [
        "##### Variable Manipulation"
      ]
    },
    {
      "cell_type": "code",
      "execution_count": 54,
      "id": "3a67556c",
      "metadata": {},
      "outputs": [
        {
          "data": {
            "application/vnd.microsoft.datawrangler.viewer.v0+json": {
              "columns": [
                {
                  "name": "Variable Manipulation",
                  "rawType": "object",
                  "type": "string"
                },
                {
                  "name": "count",
                  "rawType": "int64",
                  "type": "integer"
                }
              ],
              "ref": "61bb096a-b7b6-4820-b9c3-2fd61915d18d",
              "rows": [
                [
                  "Modifiable Tax Rate",
                  "87"
                ],
                [
                  "Modifiable External Call",
                  "46"
                ],
                [
                  "Modifiable Tax Address",
                  "18"
                ],
                [
                  "Modifiable Tax Rate,Modifiable Tax Address",
                  "6"
                ],
                [
                  "Modifibale Tax Rate",
                  "4"
                ],
                [
                  "\nModifiable Tax Rate",
                  "2"
                ],
                [
                  "Modifuable Tax Rate",
                  "1"
                ],
                [
                  "Modifibale Tax Rate,Modifiable Tax Address",
                  "1"
                ],
                [
                  "Modifiable Tax Address,Hidden Balance Modification",
                  "1"
                ],
                [
                  "\n",
                  "1"
                ],
                [
                  "Modifiable Tax Address,Hidden Balance Modify",
                  "1"
                ]
              ],
              "shape": {
                "columns": 1,
                "rows": 11
              }
            },
            "text/plain": [
              "Variable Manipulation\n",
              "Modifiable Tax Rate                                   87\n",
              "Modifiable External Call                              46\n",
              "Modifiable Tax Address                                18\n",
              "Modifiable Tax Rate,Modifiable Tax Address             6\n",
              "Modifibale Tax Rate                                    4\n",
              "\\nModifiable Tax Rate                                  2\n",
              "Modifuable Tax Rate                                    1\n",
              "Modifibale Tax Rate,Modifiable Tax Address             1\n",
              "Modifiable Tax Address,Hidden Balance Modification     1\n",
              "\\n                                                     1\n",
              "Modifiable Tax Address,Hidden Balance Modify           1\n",
              "Name: count, dtype: int64"
            ]
          },
          "execution_count": 54,
          "metadata": {},
          "output_type": "execute_result"
        }
      ],
      "source": [
        "rphunter_df['Variable Manipulation'].value_counts()"
      ]
    },
    {
      "cell_type": "markdown",
      "id": "4d1256cd",
      "metadata": {},
      "source": [
        "##### Balance Tamper"
      ]
    },
    {
      "cell_type": "code",
      "execution_count": 55,
      "id": "a79f5dd5",
      "metadata": {},
      "outputs": [
        {
          "data": {
            "application/vnd.microsoft.datawrangler.viewer.v0+json": {
              "columns": [
                {
                  "name": "Balance Tamper",
                  "rawType": "object",
                  "type": "string"
                },
                {
                  "name": "count",
                  "rawType": "int64",
                  "type": "integer"
                }
              ],
              "ref": "e8da90f3-d1b5-46a8-a351-585dcff59392",
              "rows": [
                [
                  "Hidden Mint/Burn",
                  "334"
                ],
                [
                  "Hidden Balance Modification",
                  "54"
                ],
                [
                  "Hidden Balance Modify",
                  "46"
                ],
                [
                  "\nHidden Mint/Burn",
                  "35"
                ],
                [
                  "Hidden Mint/Burn,Hidden Balance Modification",
                  "6"
                ],
                [
                  "Hidden Mint/Burn,Hidden Balance Modify",
                  "5"
                ],
                [
                  "\n\nHidden Mint/Burn",
                  "2"
                ],
                [
                  "\n",
                  "2"
                ],
                [
                  "Hidden Mint/Eurn",
                  "1"
                ],
                [
                  "Hidden Mint/Burn茂录聦Hidden Balance Modification",
                  "1"
                ],
                [
                  "\n\n",
                  "1"
                ],
                [
                  "Hidden Mint/Burn脙炉脗录脗聦Hidden Balance Modify",
                  "1"
                ]
              ],
              "shape": {
                "columns": 1,
                "rows": 12
              }
            },
            "text/plain": [
              "Balance Tamper\n",
              "Hidden Mint/Burn                                  334\n",
              "Hidden Balance Modification                        54\n",
              "Hidden Balance Modify                              46\n",
              "\\nHidden Mint/Burn                                 35\n",
              "Hidden Mint/Burn,Hidden Balance Modification        6\n",
              "Hidden Mint/Burn,Hidden Balance Modify              5\n",
              "\\n\\nHidden Mint/Burn                                2\n",
              "\\n                                                  2\n",
              "Hidden Mint/Eurn                                    1\n",
              "Hidden Mint/Burn茂录聦Hidden Balance Modification      1\n",
              "\\n\\n                                                1\n",
              "Hidden Mint/Burn脙炉脗录脗聦Hidden Balance Modify         1\n",
              "Name: count, dtype: int64"
            ]
          },
          "execution_count": 55,
          "metadata": {},
          "output_type": "execute_result"
        }
      ],
      "source": [
        "rphunter_df['Balance Tamper'].value_counts()"
      ]
    },
    {
      "cell_type": "markdown",
      "id": "bdf5f45b",
      "metadata": {},
      "source": [
        "#### Cleaning"
      ]
    },
    {
      "cell_type": "code",
      "execution_count": 56,
      "id": "ada8ad64",
      "metadata": {},
      "outputs": [],
      "source": [
        "empty_cond = rphunter_df['Balance Tamper'].isna() & rphunter_df['Variable Manipulation'].isna() & rphunter_df['Sale Restrict'].isna()\n",
        "rphunter_df = rphunter_df[~empty_cond]\n",
        "rphunter_df.dropna(subset=['Address'], inplace=True)"
      ]
    },
    {
      "cell_type": "code",
      "execution_count": 57,
      "id": "d79648b8",
      "metadata": {},
      "outputs": [
        {
          "name": "stdout",
          "output_type": "stream",
          "text": [
            "<class 'pandas.core.frame.DataFrame'>\n",
            "Index: 742 entries, 0 to 407\n",
            "Data columns (total 8 columns):\n",
            " #   Column                 Non-Null Count  Dtype \n",
            "---  ------                 --------------  ----- \n",
            " 0   Project Name           742 non-null    object\n",
            " 1   Chain                  742 non-null    object\n",
            " 2   Address                742 non-null    object\n",
            " 3   Open Source            742 non-null    object\n",
            " 4   Sale Restrict          304 non-null    object\n",
            " 5   Variable Manipulation  168 non-null    object\n",
            " 6   Balance Tamper         488 non-null    object\n",
            " 7   Source                 742 non-null    object\n",
            "dtypes: object(8)\n",
            "memory usage: 52.2+ KB\n"
          ]
        }
      ],
      "source": [
        "rphunter_df.info()"
      ]
    },
    {
      "cell_type": "markdown",
      "id": "a85dfdc5",
      "metadata": {},
      "source": [
        "#### Encode Label"
      ]
    },
    {
      "cell_type": "markdown",
      "id": "e45140a4",
      "metadata": {},
      "source": [
        "##### Balance Tamper"
      ]
    },
    {
      "cell_type": "code",
      "execution_count": 58,
      "id": "1acabe42",
      "metadata": {},
      "outputs": [
        {
          "name": "stdout",
          "output_type": "stream",
          "text": [
            "<class 'pandas.core.frame.DataFrame'>\n",
            "Index: 742 entries, 0 to 407\n",
            "Data columns (total 9 columns):\n",
            " #   Column                       Non-Null Count  Dtype \n",
            "---  ------                       --------------  ----- \n",
            " 0   Project Name                 742 non-null    object\n",
            " 1   Chain                        742 non-null    object\n",
            " 2   Address                      742 non-null    object\n",
            " 3   Open Source                  742 non-null    object\n",
            " 4   Sale Restrict                304 non-null    object\n",
            " 5   Variable Manipulation        168 non-null    object\n",
            " 6   Source                       742 non-null    object\n",
            " 7   Hidden Balance Modification  742 non-null    int64 \n",
            " 8   Hidden Mint/Burn             742 non-null    int64 \n",
            "dtypes: int64(2), object(7)\n",
            "memory usage: 58.0+ KB\n"
          ]
        }
      ],
      "source": [
        "def clean_balance_tamper(value):\n",
        "    if pd.isna(value):\n",
        "        return ''\n",
        "\n",
        "    # Strip whitespace and linebreaks\n",
        "    value = value.strip()\n",
        "\n",
        "    # Replace multiple linebreaks or strange characters with a comma\n",
        "    value = re.sub(r'[\\n\\r]+', ',', value)\n",
        "    value = re.sub(r'[茂录聦]', ',', value)  # Remove strange unicode artifacts\n",
        "    value = re.sub(r'[脙炉脗录脗聦]', ',', value)  # Remove strange unicode artifacts\n",
        "\n",
        "    # Correct known typos\n",
        "    value = value.replace(\"Hidden Mint/Eurn\", \"Hidden Mint/Burn\")\n",
        "    value = value.replace(\"Hidden Balance Modify\", \"Hidden Balance Modification\")\n",
        "\n",
        "    # Split by comma and normalize each part\n",
        "    parts = [p.strip() for p in value.split(',') if p.strip()]\n",
        "\n",
        "    # Deduplicate and sort for consistency\n",
        "    parts = sorted(set(parts))\n",
        "\n",
        "    return list(set(parts))\n",
        "\n",
        "rphunter_df['Balance Tamper'] = rphunter_df['Balance Tamper'].apply(clean_balance_tamper)\n",
        "\n",
        "# Optional: show cleaned value counts\n",
        "mlb = MultiLabelBinarizer()\n",
        "tamper_encoded = pd.DataFrame(mlb.fit_transform(rphunter_df['Balance Tamper']),\n",
        "                              columns=mlb.classes_,\n",
        "                              index=rphunter_df.index)\n",
        "\n",
        "rphunter_df = pd.concat([rphunter_df.drop(columns=['Balance Tamper']), tamper_encoded], axis=1)\n",
        "rphunter_df.info()"
      ]
    },
    {
      "cell_type": "markdown",
      "id": "fd1bf33f",
      "metadata": {},
      "source": [
        "##### Sale Restrict"
      ]
    },
    {
      "cell_type": "code",
      "execution_count": 59,
      "id": "03a768f6",
      "metadata": {},
      "outputs": [
        {
          "name": "stdout",
          "output_type": "stream",
          "text": [
            "<class 'pandas.core.frame.DataFrame'>\n",
            "Index: 742 entries, 0 to 407\n",
            "Data columns (total 12 columns):\n",
            " #   Column                       Non-Null Count  Dtype \n",
            "---  ------                       --------------  ----- \n",
            " 0   Project Name                 742 non-null    object\n",
            " 1   Chain                        742 non-null    object\n",
            " 2   Address                      742 non-null    object\n",
            " 3   Open Source                  742 non-null    object\n",
            " 4   Variable Manipulation        168 non-null    object\n",
            " 5   Source                       742 non-null    object\n",
            " 6   Hidden Balance Modification  742 non-null    int64 \n",
            " 7   Hidden Mint/Burn             742 non-null    int64 \n",
            " 8   Address Restrict             742 non-null    int64 \n",
            " 9   Amount Restrict              742 non-null    int64 \n",
            " 10  Modifiable External Call     742 non-null    int64 \n",
            " 11  TimeStamp Restrict           742 non-null    int64 \n",
            "dtypes: int64(6), object(6)\n",
            "memory usage: 75.4+ KB\n"
          ]
        }
      ],
      "source": [
        "def extract_sale_restrict_labels(value):\n",
        "    if pd.isna(value) or not str(value).strip():\n",
        "        return []\n",
        "\n",
        "    value = re.sub(r'[\\n\\r]+', ',', value)\n",
        "\n",
        "    # Fix known typos\n",
        "    value = value.replace(\"TimeStanp Restrict\", \"TimeStamp Restrict\")\n",
        "\n",
        "    # Remove suffix like \"*3\" (e.g. Address Restrict*3)\n",
        "    value = re.sub(r'\\*[\\d]+', '', value)\n",
        "\n",
        "    # Split and clean\n",
        "    parts = [p.strip() for p in value.split(',') if p.strip()]\n",
        "\n",
        "    # Normalize duplicates\n",
        "    parts = sorted(set(parts))\n",
        "    return parts\n",
        "\n",
        "# Apply label extraction\n",
        "rphunter_df['Sale Restrict'] = rphunter_df['Sale Restrict'].apply(extract_sale_restrict_labels)\n",
        "\n",
        "# Binarize\n",
        "mlb_sale = MultiLabelBinarizer()\n",
        "\n",
        "sale_encoded = pd.DataFrame(mlb_sale.fit_transform(rphunter_df['Sale Restrict']),\n",
        "                            columns=mlb_sale.classes_,\n",
        "                            index=rphunter_df.index)\n",
        "\n",
        "# Drop original and concat\n",
        "rphunter_df = pd.concat([rphunter_df.drop(columns=['Sale Restrict']), sale_encoded], axis=1)\n",
        "rphunter_df.info()"
      ]
    },
    {
      "cell_type": "markdown",
      "id": "aaf1751b",
      "metadata": {},
      "source": [
        "##### Variable Manipulation"
      ]
    },
    {
      "cell_type": "code",
      "execution_count": 60,
      "id": "162048c7",
      "metadata": {},
      "outputs": [
        {
          "name": "stdout",
          "output_type": "stream",
          "text": [
            "<class 'pandas.core.frame.DataFrame'>\n",
            "Index: 742 entries, 0 to 407\n",
            "Data columns (total 15 columns):\n",
            " #   Column                       Non-Null Count  Dtype \n",
            "---  ------                       --------------  ----- \n",
            " 0   Project Name                 742 non-null    object\n",
            " 1   Chain                        742 non-null    object\n",
            " 2   Address                      742 non-null    object\n",
            " 3   Open Source                  742 non-null    object\n",
            " 4   Source                       742 non-null    object\n",
            " 5   Hidden Balance Modification  742 non-null    int64 \n",
            " 6   Hidden Mint/Burn             742 non-null    int64 \n",
            " 7   Address Restrict             742 non-null    int64 \n",
            " 8   Amount Restrict              742 non-null    int64 \n",
            " 9   Modifiable External Call     742 non-null    int64 \n",
            " 10  TimeStamp Restrict           742 non-null    int64 \n",
            " 11  Hidden Balance Modification  742 non-null    int64 \n",
            " 12  Modifiable External Call     742 non-null    int64 \n",
            " 13  Modifiable Tax Address       742 non-null    int64 \n",
            " 14  Modifiable Tax Rate          742 non-null    int64 \n",
            "dtypes: int64(10), object(5)\n",
            "memory usage: 92.8+ KB\n"
          ]
        }
      ],
      "source": [
        "def extract_variable_manipulation_labels(value):\n",
        "    if pd.isna(value) or not str(value).strip():\n",
        "        return []\n",
        "\n",
        "    value = re.sub(r'[\\n\\r]+', ',', value)\n",
        "\n",
        "    # Correct typos\n",
        "    value = value.replace(\"Modifibale Tax Rate\", \"Modifiable Tax Rate\")\n",
        "    value = value.replace(\"Modifuable Tax Rate\", \"Modifiable Tax Rate\")\n",
        "    value = value.replace(\"Hidden Balance Modify\", \"\")  # strip unrelated label\n",
        "\n",
        "    # Split and clean\n",
        "    parts = [p.strip() for p in value.split(',') if p.strip()]\n",
        "\n",
        "    # Deduplicate\n",
        "    parts = sorted(set(parts))\n",
        "    return parts\n",
        "\n",
        "# Apply function\n",
        "rphunter_df['Variable Manipulation'] = rphunter_df['Variable Manipulation'].apply(extract_variable_manipulation_labels)\n",
        "\n",
        "# Binarize\n",
        "mlb_var = MultiLabelBinarizer()\n",
        "var_encoded = pd.DataFrame(mlb_var.fit_transform(rphunter_df['Variable Manipulation']),\n",
        "                           columns=mlb_var.classes_,\n",
        "                           index=rphunter_df.index)\n",
        "\n",
        "# Merge and drop\n",
        "rphunter_df = pd.concat([rphunter_df.drop(columns=['Variable Manipulation']), var_encoded], axis=1)\n",
        "rphunter_df.info()"
      ]
    },
    {
      "cell_type": "markdown",
      "id": "e159a174",
      "metadata": {},
      "source": [
        "#### Common with others"
      ]
    },
    {
      "cell_type": "code",
      "execution_count": 61,
      "id": "44fda71d",
      "metadata": {},
      "outputs": [
        {
          "data": {
            "text/plain": [
              "<matplotlib_venn._common.VennDiagram at 0x129bb3e60>"
            ]
          },
          "execution_count": 61,
          "metadata": {},
          "output_type": "execute_result"
        },
        {
          "data": {
            "image/png": "[encoded data removed]",
            "text/plain": [
              "<Figure size 640x480 with 1 Axes>"
            ]
          },
          "metadata": {},
          "output_type": "display_data"
        }
      ],
      "source": [
        "rphunter_df['Address'] = rphunter_df['Address'].str.lower()\n",
        "venn3([set(crp_ground_df['Address']), set(merged_df['Address']), set(rphunter_df['Address'])], ('CRP Groundtruth', 'CRP Large Sample', 'RPHunter'))"
      ]
    },
    {
      "cell_type": "code",
      "execution_count": 62,
      "id": "e86b0caa",
      "metadata": {},
      "outputs": [
        {
          "data": {
            "text/plain": [
              "52"
            ]
          },
          "execution_count": 62,
          "metadata": {},
          "output_type": "execute_result"
        }
      ],
      "source": [
        "rphunter_df.duplicated().sum()"
      ]
    },
    {
      "cell_type": "code",
      "execution_count": 63,
      "id": "22ee9f19",
      "metadata": {},
      "outputs": [],
      "source": [
        "rphunter_df = rphunter_df.drop_duplicates()"
      ]
    },
    {
      "cell_type": "code",
      "execution_count": 64,
      "id": "7c2be309",
      "metadata": {},
      "outputs": [
        {
          "data": {
            "text/plain": [
              "(28, 662)"
            ]
          },
          "execution_count": 64,
          "metadata": {},
          "output_type": "execute_result"
        }
      ],
      "source": [
        "# Create masks for common addresses\n",
        "common_mask = rphunter_df['Address'].isin(set(crp_ground_df['Address']))\n",
        "sm_common_mask = crp_ground_df['Address'].isin(set(rphunter_df['Address']))\n",
        "\n",
        "# Extract subsets\n",
        "merge_with_crp_df = rphunter_df[common_mask].copy()\n",
        "non_crp_df = rphunter_df[~common_mask].copy()\n",
        "\n",
        "# Assign matched labels column by column\n",
        "for col in crpwarner_labels:\n",
        "    merge_with_crp_df[col] = crp_ground_df.loc[sm_common_mask, col].values\n",
        "    non_crp_df[col] = -1\n",
        "\n",
        "# Final counts\n",
        "len(merge_with_crp_df), len(non_crp_df)"
      ]
    },
    {
      "cell_type": "code",
      "execution_count": 65,
      "id": "df3df9c2",
      "metadata": {},
      "outputs": [
        {
          "name": "stdout",
          "output_type": "stream",
          "text": [
            "<class 'pandas.core.frame.DataFrame'>\n",
            "Index: 28 entries, 0 to 312\n",
            "Data columns (total 18 columns):\n",
            " #   Column                       Non-Null Count  Dtype \n",
            "---  ------                       --------------  ----- \n",
            " 0   Project Name                 28 non-null     object\n",
            " 1   Chain                        28 non-null     object\n",
            " 2   Address                      28 non-null     object\n",
            " 3   Open Source                  28 non-null     object\n",
            " 4   Source                       28 non-null     object\n",
            " 5   Hidden Balance Modification  28 non-null     int64 \n",
            " 6   Hidden Mint/Burn             28 non-null     int64 \n",
            " 7   Address Restrict             28 non-null     int64 \n",
            " 8   Amount Restrict              28 non-null     int64 \n",
            " 9   Modifiable External Call     28 non-null     int64 \n",
            " 10  TimeStamp Restrict           28 non-null     int64 \n",
            " 11  Hidden Balance Modification  28 non-null     int64 \n",
            " 12  Modifiable External Call     28 non-null     int64 \n",
            " 13  Modifiable Tax Address       28 non-null     int64 \n",
            " 14  Modifiable Tax Rate          28 non-null     int64 \n",
            " 15  Mint                         28 non-null     int64 \n",
            " 16  Leak                         28 non-null     int64 \n",
            " 17  Limit                        28 non-null     int64 \n",
            "dtypes: int64(13), object(5)\n",
            "memory usage: 4.2+ KB\n"
          ]
        }
      ],
      "source": [
        "merge_with_crp_df.info()"
      ]
    },
    {
      "cell_type": "code",
      "execution_count": 66,
      "id": "6e357eda",
      "metadata": {},
      "outputs": [
        {
          "name": "stdout",
          "output_type": "stream",
          "text": [
            "<class 'pandas.core.frame.DataFrame'>\n",
            "Index: 690 entries, 0 to 86\n",
            "Data columns (total 18 columns):\n",
            " #   Column                       Non-Null Count  Dtype \n",
            "---  ------                       --------------  ----- \n",
            " 0   Project Name                 690 non-null    object\n",
            " 1   Chain                        690 non-null    object\n",
            " 2   Address                      690 non-null    object\n",
            " 3   Open Source                  690 non-null    object\n",
            " 4   Source                       690 non-null    object\n",
            " 5   Hidden Balance Modification  690 non-null    int64 \n",
            " 6   Hidden Mint/Burn             690 non-null    int64 \n",
            " 7   Address Restrict             690 non-null    int64 \n",
            " 8   Amount Restrict              690 non-null    int64 \n",
            " 9   Modifiable External Call     690 non-null    int64 \n",
            " 10  TimeStamp Restrict           690 non-null    int64 \n",
            " 11  Hidden Balance Modification  690 non-null    int64 \n",
            " 12  Modifiable External Call     690 non-null    int64 \n",
            " 13  Modifiable Tax Address       690 non-null    int64 \n",
            " 14  Modifiable Tax Rate          690 non-null    int64 \n",
            " 15  Mint                         690 non-null    int64 \n",
            " 16  Leak                         690 non-null    int64 \n",
            " 17  Limit                        690 non-null    int64 \n",
            "dtypes: int64(13), object(5)\n",
            "memory usage: 102.4+ KB\n"
          ]
        }
      ],
      "source": [
        "rphunter_df = pd.concat([merge_with_crp_df, non_crp_df])\n",
        "rphunter_df[crpwarner_labels] = rphunter_df[crpwarner_labels].astype(int)\n",
        "rphunter_df.info()"
      ]
    },
    {
      "cell_type": "code",
      "execution_count": 67,
      "id": "d02167f8",
      "metadata": {},
      "outputs": [],
      "source": [
        "rphunter_df.to_csv(os.path.join(TMP_PATH, 'rphunter.csv'))"
      ]
    },
    {
      "cell_type": "markdown",
      "id": "c6cefe3c",
      "metadata": {},
      "source": [
        "### Trapdoor"
      ]
    },
    {
      "cell_type": "markdown",
      "id": "96f8d6a1",
      "metadata": {},
      "source": [
        "#### insight in each component"
      ]
    },
    {
      "cell_type": "code",
      "execution_count": 68,
      "id": "aa005fea",
      "metadata": {},
      "outputs": [
        {
          "data": {
            "application/vnd.microsoft.datawrangler.viewer.v0+json": {
              "columns": [
                {
                  "name": "index",
                  "rawType": "int64",
                  "type": "integer"
                },
                {
                  "name": "address",
                  "rawType": "object",
                  "type": "string"
                },
                {
                  "name": "block_number",
                  "rawType": "int64",
                  "type": "integer"
                },
                {
                  "name": "name",
                  "rawType": "object",
                  "type": "string"
                },
                {
                  "name": "symbol",
                  "rawType": "object",
                  "type": "string"
                },
                {
                  "name": "decimals",
                  "rawType": "int64",
                  "type": "integer"
                },
                {
                  "name": "totalSupply",
                  "rawType": "object",
                  "type": "string"
                },
                {
                  "name": "label",
                  "rawType": "int64",
                  "type": "integer"
                }
              ],
              "ref": "b932fd2c-2b9c-4131-a95a-b28b0de15184",
              "rows": [
                [
                  "0",
                  "0x5674d4536fcd7a924696078b15865c4fab9f3597",
                  "12266223",
                  "Coordinape",
                  "CAPE",
                  "18",
                  "100000000000000000000000",
                  "1"
                ],
                [
                  "1",
                  "0xbb7f05aa2dd33425ea0848cda8e4ea54718c6336",
                  "12623468",
                  "Goblin Town",
                  "GOBLIN 🐲",
                  "18",
                  "10000000100500000000000000000000000000000",
                  "1"
                ],
                [
                  "2",
                  "0x801427e0b00c5aa46f96550e1e33ad7f00077e19",
                  "11740511",
                  "FTX Wrapped AMC",
                  "wAMC",
                  "18",
                  "525000000000000000000000",
                  "1"
                ],
                [
                  "3",
                  "0x1b49dc534fa67d0c23f6bd0601f8c8142f8306d0",
                  "12213066",
                  "FractionalArt",
                  "FRCT",
                  "18",
                  "5000000000000000000000000",
                  "1"
                ],
                [
                  "4",
                  "0xf3afd0feac711f754d430de41ec0c7314a397ca1",
                  "11862564",
                  "Osmosis Zone",
                  "OSIS",
                  "18",
                  "10000000000000000000000000",
                  "1"
                ]
              ],
              "shape": {
                "columns": 7,
                "rows": 5
              }
            },
            "text/html": [
              "<div>\n",
              "<style scoped>\n",
              "    .dataframe tbody tr th:only-of-type {\n",
              "        vertical-align: middle;\n",
              "    }\n",
              "\n",
              "    .dataframe tbody tr th {\n",
              "        vertical-align: top;\n",
              "    }\n",
              "\n",
              "    .dataframe thead th {\n",
              "        text-align: right;\n",
              "    }\n",
              "</style>\n",
              "<table border=\"1\" class=\"dataframe\">\n",
              "  <thead>\n",
              "    <tr style=\"text-align: right;\">\n",
              "      <th></th>\n",
              "      <th>address</th>\n",
              "      <th>block_number</th>\n",
              "      <th>name</th>\n",
              "      <th>symbol</th>\n",
              "      <th>decimals</th>\n",
              "      <th>totalSupply</th>\n",
              "      <th>label</th>\n",
              "    </tr>\n",
              "  </thead>\n",
              "  <tbody>\n",
              "    <tr>\n",
              "      <th>0</th>\n",
              "      <td>0x5674d4536fcd7a924696078b15865c4fab9f3597</td>\n",
              "      <td>12266223</td>\n",
              "      <td>Coordinape</td>\n",
              "      <td>CAPE</td>\n",
              "      <td>18</td>\n",
              "      <td>100000000000000000000000</td>\n",
              "      <td>1</td>\n",
              "    </tr>\n",
              "    <tr>\n",
              "      <th>1</th>\n",
              "      <td>0xbb7f05aa2dd33425ea0848cda8e4ea54718c6336</td>\n",
              "      <td>12623468</td>\n",
              "      <td>Goblin Town</td>\n",
              "      <td>GOBLIN 🐲</td>\n",
              "      <td>18</td>\n",
              "      <td>10000000100500000000000000000000000000000</td>\n",
              "      <td>1</td>\n",
              "    </tr>\n",
              "    <tr>\n",
              "      <th>2</th>\n",
              "      <td>0x801427e0b00c5aa46f96550e1e33ad7f00077e19</td>\n",
              "      <td>11740511</td>\n",
              "      <td>FTX Wrapped AMC</td>\n",
              "      <td>wAMC</td>\n",
              "      <td>18</td>\n",
              "      <td>525000000000000000000000</td>\n",
              "      <td>1</td>\n",
              "    </tr>\n",
              "    <tr>\n",
              "      <th>3</th>\n",
              "      <td>0x1b49dc534fa67d0c23f6bd0601f8c8142f8306d0</td>\n",
              "      <td>12213066</td>\n",
              "      <td>FractionalArt</td>\n",
              "      <td>FRCT</td>\n",
              "      <td>18</td>\n",
              "      <td>5000000000000000000000000</td>\n",
              "      <td>1</td>\n",
              "    </tr>\n",
              "    <tr>\n",
              "      <th>4</th>\n",
              "      <td>0xf3afd0feac711f754d430de41ec0c7314a397ca1</td>\n",
              "      <td>11862564</td>\n",
              "      <td>Osmosis Zone</td>\n",
              "      <td>OSIS</td>\n",
              "      <td>18</td>\n",
              "      <td>10000000000000000000000000</td>\n",
              "      <td>1</td>\n",
              "    </tr>\n",
              "  </tbody>\n",
              "</table>\n",
              "</div>"
            ],
            "text/plain": [
              "                                      address  block_number             name  \\\n",
              "0  0x5674d4536fcd7a924696078b15865c4fab9f3597      12266223       Coordinape   \n",
              "1  0xbb7f05aa2dd33425ea0848cda8e4ea54718c6336      12623468      Goblin Town   \n",
              "2  0x801427e0b00c5aa46f96550e1e33ad7f00077e19      11740511  FTX Wrapped AMC   \n",
              "3  0x1b49dc534fa67d0c23f6bd0601f8c8142f8306d0      12213066    FractionalArt   \n",
              "4  0xf3afd0feac711f754d430de41ec0c7314a397ca1      11862564     Osmosis Zone   \n",
              "\n",
              "     symbol  decimals                                totalSupply  label  \n",
              "0      CAPE        18                   100000000000000000000000      1  \n",
              "1  GOBLIN 🐲        18  10000000100500000000000000000000000000000      1  \n",
              "2      wAMC        18                   525000000000000000000000      1  \n",
              "3      FRCT        18                  5000000000000000000000000      1  \n",
              "4      OSIS        18                 10000000000000000000000000      1  "
            ]
          },
          "execution_count": 68,
          "metadata": {},
          "output_type": "execute_result"
        }
      ],
      "source": [
        "trapdoor_verified_df.head()"
      ]
    },
    {
      "cell_type": "code",
      "execution_count": 69,
      "id": "cda66eb3",
      "metadata": {},
      "outputs": [
        {
          "name": "stdout",
          "output_type": "stream",
          "text": [
            "<class 'pandas.core.frame.DataFrame'>\n",
            "RangeIndex: 31376 entries, 0 to 31375\n",
            "Data columns (total 7 columns):\n",
            " #   Column        Non-Null Count  Dtype \n",
            "---  ------        --------------  ----- \n",
            " 0   address       31376 non-null  object\n",
            " 1   block_number  31376 non-null  int64 \n",
            " 2   name          31375 non-null  object\n",
            " 3   symbol        31373 non-null  object\n",
            " 4   decimals      31376 non-null  int64 \n",
            " 5   totalSupply   31376 non-null  object\n",
            " 6   label         31376 non-null  int64 \n",
            "dtypes: int64(3), object(4)\n",
            "memory usage: 1.7+ MB\n"
          ]
        }
      ],
      "source": [
        "trapdoor_verified_df.info()"
      ]
    },
    {
      "cell_type": "code",
      "execution_count": 70,
      "id": "b192ede8",
      "metadata": {},
      "outputs": [
        {
          "data": {
            "application/vnd.microsoft.datawrangler.viewer.v0+json": {
              "columns": [
                {
                  "name": "index",
                  "rawType": "object",
                  "type": "string"
                },
                {
                  "name": "block_number",
                  "rawType": "float64",
                  "type": "float"
                },
                {
                  "name": "decimals",
                  "rawType": "float64",
                  "type": "float"
                },
                {
                  "name": "label",
                  "rawType": "float64",
                  "type": "float"
                }
              ],
              "ref": "dcc061d7-5277-4d99-a9c6-8141be6e41e9",
              "rows": [
                [
                  "count",
                  "31376.0",
                  "31376.0",
                  "31376.0"
                ],
                [
                  "mean",
                  "13171999.575631056",
                  "16.117797042325343",
                  "0.3806412544620092"
                ],
                [
                  "std",
                  "2099695.6545515396",
                  "3.9259221146640777",
                  "0.48555226692813513"
                ],
                [
                  "min",
                  "2621392.0",
                  "0.0",
                  "0.0"
                ],
                [
                  "25%",
                  "11414539.0",
                  "18.0",
                  "0.0"
                ],
                [
                  "50%",
                  "12763199.5",
                  "18.0",
                  "0.0"
                ],
                [
                  "75%",
                  "15257898.25",
                  "18.0",
                  "1.0"
                ],
                [
                  "max",
                  "16403915.0",
                  "27.0",
                  "1.0"
                ]
              ],
              "shape": {
                "columns": 3,
                "rows": 8
              }
            },
            "text/html": [
              "<div>\n",
              "<style scoped>\n",
              "    .dataframe tbody tr th:only-of-type {\n",
              "        vertical-align: middle;\n",
              "    }\n",
              "\n",
              "    .dataframe tbody tr th {\n",
              "        vertical-align: top;\n",
              "    }\n",
              "\n",
              "    .dataframe thead th {\n",
              "        text-align: right;\n",
              "    }\n",
              "</style>\n",
              "<table border=\"1\" class=\"dataframe\">\n",
              "  <thead>\n",
              "    <tr style=\"text-align: right;\">\n",
              "      <th></th>\n",
              "      <th>block_number</th>\n",
              "      <th>decimals</th>\n",
              "      <th>label</th>\n",
              "    </tr>\n",
              "  </thead>\n",
              "  <tbody>\n",
              "    <tr>\n",
              "      <th>count</th>\n",
              "      <td>3.137600e+04</td>\n",
              "      <td>31376.000000</td>\n",
              "      <td>31376.000000</td>\n",
              "    </tr>\n",
              "    <tr>\n",
              "      <th>mean</th>\n",
              "      <td>1.317200e+07</td>\n",
              "      <td>16.117797</td>\n",
              "      <td>0.380641</td>\n",
              "    </tr>\n",
              "    <tr>\n",
              "      <th>std</th>\n",
              "      <td>2.099696e+06</td>\n",
              "      <td>3.925922</td>\n",
              "      <td>0.485552</td>\n",
              "    </tr>\n",
              "    <tr>\n",
              "      <th>min</th>\n",
              "      <td>2.621392e+06</td>\n",
              "      <td>0.000000</td>\n",
              "      <td>0.000000</td>\n",
              "    </tr>\n",
              "    <tr>\n",
              "      <th>25%</th>\n",
              "      <td>1.141454e+07</td>\n",
              "      <td>18.000000</td>\n",
              "      <td>0.000000</td>\n",
              "    </tr>\n",
              "    <tr>\n",
              "      <th>50%</th>\n",
              "      <td>1.276320e+07</td>\n",
              "      <td>18.000000</td>\n",
              "      <td>0.000000</td>\n",
              "    </tr>\n",
              "    <tr>\n",
              "      <th>75%</th>\n",
              "      <td>1.525790e+07</td>\n",
              "      <td>18.000000</td>\n",
              "      <td>1.000000</td>\n",
              "    </tr>\n",
              "    <tr>\n",
              "      <th>max</th>\n",
              "      <td>1.640392e+07</td>\n",
              "      <td>27.000000</td>\n",
              "      <td>1.000000</td>\n",
              "    </tr>\n",
              "  </tbody>\n",
              "</table>\n",
              "</div>"
            ],
            "text/plain": [
              "       block_number      decimals         label\n",
              "count  3.137600e+04  31376.000000  31376.000000\n",
              "mean   1.317200e+07     16.117797      0.380641\n",
              "std    2.099696e+06      3.925922      0.485552\n",
              "min    2.621392e+06      0.000000      0.000000\n",
              "25%    1.141454e+07     18.000000      0.000000\n",
              "50%    1.276320e+07     18.000000      0.000000\n",
              "75%    1.525790e+07     18.000000      1.000000\n",
              "max    1.640392e+07     27.000000      1.000000"
            ]
          },
          "execution_count": 70,
          "metadata": {},
          "output_type": "execute_result"
        }
      ],
      "source": [
        "trapdoor_verified_df.describe()"
      ]
    },
    {
      "cell_type": "code",
      "execution_count": 71,
      "id": "46bffa17",
      "metadata": {},
      "outputs": [
        {
          "data": {
            "application/vnd.microsoft.datawrangler.viewer.v0+json": {
              "columns": [
                {
                  "name": "index",
                  "rawType": "int64",
                  "type": "integer"
                },
                {
                  "name": "address",
                  "rawType": "object",
                  "type": "string"
                },
                {
                  "name": "PUSH14",
                  "rawType": "int64",
                  "type": "integer"
                },
                {
                  "name": "AND",
                  "rawType": "int64",
                  "type": "integer"
                },
                {
                  "name": "CALLER",
                  "rawType": "int64",
                  "type": "integer"
                },
                {
                  "name": "JUMPI",
                  "rawType": "int64",
                  "type": "integer"
                },
                {
                  "name": "CALLDATACOPY",
                  "rawType": "int64",
                  "type": "integer"
                },
                {
                  "name": "PUSH11",
                  "rawType": "int64",
                  "type": "integer"
                },
                {
                  "name": "DIFFICULTY",
                  "rawType": "int64",
                  "type": "integer"
                },
                {
                  "name": "CALL",
                  "rawType": "int64",
                  "type": "integer"
                },
                {
                  "name": "DUP4",
                  "rawType": "int64",
                  "type": "integer"
                },
                {
                  "name": "DUP7",
                  "rawType": "int64",
                  "type": "integer"
                },
                {
                  "name": "PUSH30",
                  "rawType": "int64",
                  "type": "integer"
                },
                {
                  "name": "DUP9",
                  "rawType": "int64",
                  "type": "integer"
                },
                {
                  "name": "STOP",
                  "rawType": "int64",
                  "type": "integer"
                },
                {
                  "name": "RETURNDATACOPY",
                  "rawType": "int64",
                  "type": "integer"
                },
                {
                  "name": "PUSH29",
                  "rawType": "int64",
                  "type": "integer"
                },
                {
                  "name": "PUSH27",
                  "rawType": "int64",
                  "type": "integer"
                },
                {
                  "name": "CREATE",
                  "rawType": "int64",
                  "type": "integer"
                },
                {
                  "name": "SLOAD",
                  "rawType": "int64",
                  "type": "integer"
                },
                {
                  "name": "SWAP1",
                  "rawType": "int64",
                  "type": "integer"
                },
                {
                  "name": "PUSH13",
                  "rawType": "int64",
                  "type": "integer"
                },
                {
                  "name": "CHAINID",
                  "rawType": "int64",
                  "type": "integer"
                },
                {
                  "name": "SLT",
                  "rawType": "int64",
                  "type": "integer"
                },
                {
                  "name": "SELFDESTRUCT",
                  "rawType": "int64",
                  "type": "integer"
                },
                {
                  "name": "SWAP8",
                  "rawType": "int64",
                  "type": "integer"
                },
                {
                  "name": "SWAP4",
                  "rawType": "int64",
                  "type": "integer"
                },
                {
                  "name": "PUSH17",
                  "rawType": "int64",
                  "type": "integer"
                },
                {
                  "name": "PUSH19",
                  "rawType": "int64",
                  "type": "integer"
                },
                {
                  "name": "GT",
                  "rawType": "int64",
                  "type": "integer"
                },
                {
                  "name": "LOG2",
                  "rawType": "int64",
                  "type": "integer"
                },
                {
                  "name": "SELFBALANCE",
                  "rawType": "int64",
                  "type": "integer"
                },
                {
                  "name": "MOD",
                  "rawType": "int64",
                  "type": "integer"
                },
                {
                  "name": "PUSH5",
                  "rawType": "int64",
                  "type": "integer"
                },
                {
                  "name": "SHR",
                  "rawType": "int64",
                  "type": "integer"
                },
                {
                  "name": "MUL",
                  "rawType": "int64",
                  "type": "integer"
                },
                {
                  "name": "NOT",
                  "rawType": "int64",
                  "type": "integer"
                },
                {
                  "name": "PUSH2",
                  "rawType": "int64",
                  "type": "integer"
                },
                {
                  "name": "SWAP5",
                  "rawType": "int64",
                  "type": "integer"
                },
                {
                  "name": "SWAP16",
                  "rawType": "int64",
                  "type": "integer"
                },
                {
                  "name": "PUSH1",
                  "rawType": "int64",
                  "type": "integer"
                },
                {
                  "name": "EQ",
                  "rawType": "int64",
                  "type": "integer"
                },
                {
                  "name": "SWAP15",
                  "rawType": "int64",
                  "type": "integer"
                },
                {
                  "name": "SAR",
                  "rawType": "int64",
                  "type": "integer"
                },
                {
                  "name": "DUP11",
                  "rawType": "int64",
                  "type": "integer"
                },
                {
                  "name": "BLOCKHASH",
                  "rawType": "int64",
                  "type": "integer"
                },
                {
                  "name": "PUSH9",
                  "rawType": "int64",
                  "type": "integer"
                },
                {
                  "name": "DUP5",
                  "rawType": "int64",
                  "type": "integer"
                },
                {
                  "name": "PUSH7",
                  "rawType": "int64",
                  "type": "integer"
                },
                {
                  "name": "SWAP13",
                  "rawType": "int64",
                  "type": "integer"
                },
                {
                  "name": "CALLVALUE",
                  "rawType": "int64",
                  "type": "integer"
                },
                {
                  "name": "PUSH22",
                  "rawType": "int64",
                  "type": "integer"
                },
                {
                  "name": "SWAP3",
                  "rawType": "int64",
                  "type": "integer"
                },
                {
                  "name": "ORIGIN",
                  "rawType": "int64",
                  "type": "integer"
                },
                {
                  "name": "DUP6",
                  "rawType": "int64",
                  "type": "integer"
                },
                {
                  "name": "SWAP2",
                  "rawType": "int64",
                  "type": "integer"
                },
                {
                  "name": "NUMBER",
                  "rawType": "int64",
                  "type": "integer"
                },
                {
                  "name": "EXP",
                  "rawType": "int64",
                  "type": "integer"
                },
                {
                  "name": "SWAP11",
                  "rawType": "int64",
                  "type": "integer"
                },
                {
                  "name": "STATICCALL",
                  "rawType": "int64",
                  "type": "integer"
                },
                {
                  "name": "BALANCE",
                  "rawType": "int64",
                  "type": "integer"
                },
                {
                  "name": "DUP3",
                  "rawType": "int64",
                  "type": "integer"
                },
                {
                  "name": "SWAP9",
                  "rawType": "int64",
                  "type": "integer"
                },
                {
                  "name": "SUB",
                  "rawType": "int64",
                  "type": "integer"
                },
                {
                  "name": "LOG3",
                  "rawType": "int64",
                  "type": "integer"
                },
                {
                  "name": "RETURNDATASIZE",
                  "rawType": "int64",
                  "type": "integer"
                },
                {
                  "name": "SGT",
                  "rawType": "int64",
                  "type": "integer"
                },
                {
                  "name": "SWAP7",
                  "rawType": "int64",
                  "type": "integer"
                },
                {
                  "name": "MSIZE",
                  "rawType": "int64",
                  "type": "integer"
                },
                {
                  "name": "SDIV",
                  "rawType": "int64",
                  "type": "integer"
                },
                {
                  "name": "PUSH32",
                  "rawType": "int64",
                  "type": "integer"
                },
                {
                  "name": "PUSH16",
                  "rawType": "int64",
                  "type": "integer"
                },
                {
                  "name": "JUMPDEST",
                  "rawType": "int64",
                  "type": "integer"
                },
                {
                  "name": "PUSH12",
                  "rawType": "int64",
                  "type": "integer"
                },
                {
                  "name": "BASEFEE",
                  "rawType": "int64",
                  "type": "integer"
                },
                {
                  "name": "DIV",
                  "rawType": "int64",
                  "type": "integer"
                },
                {
                  "name": "DUP13",
                  "rawType": "int64",
                  "type": "integer"
                },
                {
                  "name": "CALLCODE",
                  "rawType": "int64",
                  "type": "integer"
                },
                {
                  "name": "DUP2",
                  "rawType": "int64",
                  "type": "integer"
                },
                {
                  "name": "MULMOD",
                  "rawType": "int64",
                  "type": "integer"
                },
                {
                  "name": "PUSH23",
                  "rawType": "int64",
                  "type": "integer"
                },
                {
                  "name": "EXTCODECOPY",
                  "rawType": "int64",
                  "type": "integer"
                },
                {
                  "name": "ADDMOD",
                  "rawType": "int64",
                  "type": "integer"
                },
                {
                  "name": "DUP10",
                  "rawType": "int64",
                  "type": "integer"
                },
                {
                  "name": "PUSH4",
                  "rawType": "int64",
                  "type": "integer"
                },
                {
                  "name": "CODECOPY",
                  "rawType": "int64",
                  "type": "integer"
                },
                {
                  "name": "MSTORE",
                  "rawType": "int64",
                  "type": "integer"
                },
                {
                  "name": "XOR",
                  "rawType": "int64",
                  "type": "integer"
                },
                {
                  "name": "GAS",
                  "rawType": "int64",
                  "type": "integer"
                },
                {
                  "name": "PUSH20",
                  "rawType": "int64",
                  "type": "integer"
                },
                {
                  "name": "COINBASE",
                  "rawType": "int64",
                  "type": "integer"
                },
                {
                  "name": "MLOAD",
                  "rawType": "int64",
                  "type": "integer"
                },
                {
                  "name": "DUP1",
                  "rawType": "int64",
                  "type": "integer"
                },
                {
                  "name": "LOG0",
                  "rawType": "int64",
                  "type": "integer"
                },
                {
                  "name": "CALLDATASIZE",
                  "rawType": "int64",
                  "type": "integer"
                },
                {
                  "name": "LOG1",
                  "rawType": "int64",
                  "type": "integer"
                },
                {
                  "name": "PUSH28",
                  "rawType": "int64",
                  "type": "integer"
                },
                {
                  "name": "PUSH15",
                  "rawType": "int64",
                  "type": "integer"
                },
                {
                  "name": "PUSH24",
                  "rawType": "int64",
                  "type": "integer"
                },
                {
                  "name": "PUSH10",
                  "rawType": "int64",
                  "type": "integer"
                },
                {
                  "name": "SIGNEXTEND",
                  "rawType": "int64",
                  "type": "integer"
                },
                {
                  "name": "SMOD",
                  "rawType": "int64",
                  "type": "integer"
                },
                {
                  "name": "ISZERO",
                  "rawType": "int64",
                  "type": "integer"
                },
                {
                  "name": "ADD",
                  "rawType": "int64",
                  "type": "integer"
                },
                {
                  "name": "POP",
                  "rawType": "int64",
                  "type": "integer"
                },
                {
                  "name": "GASPRICE",
                  "rawType": "int64",
                  "type": "integer"
                },
                {
                  "name": "EXTCODESIZE",
                  "rawType": "int64",
                  "type": "integer"
                },
                {
                  "name": "SWAP6",
                  "rawType": "int64",
                  "type": "integer"
                },
                {
                  "name": "LOG4",
                  "rawType": "int64",
                  "type": "integer"
                },
                {
                  "name": "DUP16",
                  "rawType": "int64",
                  "type": "integer"
                },
                {
                  "name": "DUP15",
                  "rawType": "int64",
                  "type": "integer"
                },
                {
                  "name": "TIMESTAMP",
                  "rawType": "int64",
                  "type": "integer"
                },
                {
                  "name": "SWAP10",
                  "rawType": "int64",
                  "type": "integer"
                },
                {
                  "name": "SWAP12",
                  "rawType": "int64",
                  "type": "integer"
                },
                {
                  "name": "SSTORE",
                  "rawType": "int64",
                  "type": "integer"
                },
                {
                  "name": "DUP14",
                  "rawType": "int64",
                  "type": "integer"
                },
                {
                  "name": "BYTE",
                  "rawType": "int64",
                  "type": "integer"
                },
                {
                  "name": "PUSH18",
                  "rawType": "int64",
                  "type": "integer"
                },
                {
                  "name": "PUSH8",
                  "rawType": "int64",
                  "type": "integer"
                },
                {
                  "name": "PUSH26",
                  "rawType": "int64",
                  "type": "integer"
                },
                {
                  "name": "SHL",
                  "rawType": "int64",
                  "type": "integer"
                },
                {
                  "name": "MSTORE8",
                  "rawType": "int64",
                  "type": "integer"
                },
                {
                  "name": "ADDRESS",
                  "rawType": "int64",
                  "type": "integer"
                },
                {
                  "name": "JUMP",
                  "rawType": "int64",
                  "type": "integer"
                },
                {
                  "name": "PC",
                  "rawType": "int64",
                  "type": "integer"
                },
                {
                  "name": "PUSH3",
                  "rawType": "int64",
                  "type": "integer"
                },
                {
                  "name": "PUSH6",
                  "rawType": "int64",
                  "type": "integer"
                },
                {
                  "name": "SWAP14",
                  "rawType": "int64",
                  "type": "integer"
                },
                {
                  "name": "LT",
                  "rawType": "int64",
                  "type": "integer"
                },
                {
                  "name": "RETURN",
                  "rawType": "int64",
                  "type": "integer"
                },
                {
                  "name": "PUSH31",
                  "rawType": "int64",
                  "type": "integer"
                },
                {
                  "name": "DELEGATECALL",
                  "rawType": "int64",
                  "type": "integer"
                },
                {
                  "name": "PUSH21",
                  "rawType": "int64",
                  "type": "integer"
                },
                {
                  "name": "DUP8",
                  "rawType": "int64",
                  "type": "integer"
                },
                {
                  "name": "CALLDATALOAD",
                  "rawType": "int64",
                  "type": "integer"
                },
                {
                  "name": "GASLIMIT",
                  "rawType": "int64",
                  "type": "integer"
                },
                {
                  "name": "CODESIZE",
                  "rawType": "int64",
                  "type": "integer"
                },
                {
                  "name": "SHA3",
                  "rawType": "int64",
                  "type": "integer"
                },
                {
                  "name": "DUP12",
                  "rawType": "int64",
                  "type": "integer"
                },
                {
                  "name": "OR",
                  "rawType": "int64",
                  "type": "integer"
                },
                {
                  "name": "PUSH25",
                  "rawType": "int64",
                  "type": "integer"
                },
                {
                  "name": "CREATE2",
                  "rawType": "int64",
                  "type": "integer"
                },
                {
                  "name": "EXTCODEHASH",
                  "rawType": "int64",
                  "type": "integer"
                },
                {
                  "name": "REVERT",
                  "rawType": "int64",
                  "type": "integer"
                },
                {
                  "name": "label",
                  "rawType": "int64",
                  "type": "integer"
                }
              ],
              "ref": "26570062-bb45-4051-82a4-e4d407e6245e",
              "rows": [
                [
                  "0",
                  "0x5674d4536fcd7a924696078b15865c4fab9f3597",
                  "0",
                  "243",
                  "7",
                  "102",
                  "4",
                  "0",
                  "0",
                  "0",
                  "76",
                  "36",
                  "0",
                  "12",
                  "7",
                  "0",
                  "0",
                  "0",
                  "0",
                  "60",
                  "358",
                  "0",
                  "0",
                  "1",
                  "0",
                  "0",
                  "6",
                  "0",
                  "4",
                  "22",
                  "1",
                  "0",
                  "1",
                  "10",
                  "1",
                  "46",
                  "16",
                  "277",
                  "0",
                  "0",
                  "764",
                  "48",
                  "0",
                  "0",
                  "6",
                  "1",
                  "0",
                  "57",
                  "0",
                  "0",
                  "1",
                  "1",
                  "48",
                  "2",
                  "14",
                  "179",
                  "3",
                  "36",
                  "0",
                  "0",
                  "0",
                  "109",
                  "0",
                  "92",
                  "8",
                  "0",
                  "0",
                  "0",
                  "0",
                  "0",
                  "38",
                  "0",
                  "180",
                  "0",
                  "0",
                  "32",
                  "0",
                  "0",
                  "326",
                  "0",
                  "0",
                  "0",
                  "0",
                  "1",
                  "33",
                  "23",
                  "224",
                  "0",
                  "0",
                  "198",
                  "0",
                  "126",
                  "331",
                  "0",
                  "11",
                  "0",
                  "1",
                  "1",
                  "0",
                  "0",
                  "0",
                  "0",
                  "92",
                  "333",
                  "284",
                  "3",
                  "0",
                  "0",
                  "0",
                  "0",
                  "0",
                  "0",
                  "0",
                  "0",
                  "25",
                  "0",
                  "0",
                  "0",
                  "0",
                  "0",
                  "0",
                  "0",
                  "4",
                  "83",
                  "1",
                  "0",
                  "1",
                  "0",
                  "30",
                  "10",
                  "0",
                  "0",
                  "2",
                  "6",
                  "23",
                  "2",
                  "0",
                  "49",
                  "1",
                  "13",
                  "0",
                  "0",
                  "0",
                  "47",
                  "1"
                ],
                [
                  "1",
                  "0xbb7f05aa2dd33425ea0848cda8e4ea54718c6336",
                  "0",
                  "243",
                  "7",
                  "103",
                  "4",
                  "0",
                  "0",
                  "0",
                  "72",
                  "38",
                  "0",
                  "12",
                  "6",
                  "0",
                  "0",
                  "0",
                  "0",
                  "60",
                  "362",
                  "0",
                  "0",
                  "1",
                  "0",
                  "0",
                  "6",
                  "0",
                  "4",
                  "22",
                  "1",
                  "0",
                  "0",
                  "10",
                  "2",
                  "46",
                  "16",
                  "279",
                  "0",
                  "0",
                  "770",
                  "48",
                  "0",
                  "0",
                  "6",
                  "0",
                  "0",
                  "57",
                  "0",
                  "0",
                  "1",
                  "1",
                  "48",
                  "2",
                  "17",
                  "179",
                  "2",
                  "36",
                  "0",
                  "0",
                  "0",
                  "107",
                  "0",
                  "92",
                  "8",
                  "0",
                  "0",
                  "0",
                  "0",
                  "0",
                  "38",
                  "0",
                  "180",
                  "0",
                  "0",
                  "32",
                  "0",
                  "0",
                  "325",
                  "0",
                  "0",
                  "0",
                  "0",
                  "0",
                  "34",
                  "23",
                  "224",
                  "0",
                  "0",
                  "198",
                  "0",
                  "127",
                  "331",
                  "0",
                  "11",
                  "0",
                  "0",
                  "1",
                  "1",
                  "0",
                  "0",
                  "0",
                  "92",
                  "333",
                  "292",
                  "3",
                  "0",
                  "0",
                  "0",
                  "0",
                  "0",
                  "0",
                  "0",
                  "0",
                  "25",
                  "0",
                  "0",
                  "0",
                  "0",
                  "0",
                  "0",
                  "0",
                  "3",
                  "83",
                  "0",
                  "0",
                  "2",
                  "0",
                  "30",
                  "10",
                  "0",
                  "0",
                  "2",
                  "8",
                  "23",
                  "2",
                  "0",
                  "48",
                  "1",
                  "13",
                  "0",
                  "0",
                  "0",
                  "47",
                  "1"
                ],
                [
                  "2",
                  "0x801427e0b00c5aa46f96550e1e33ad7f00077e19",
                  "0",
                  "243",
                  "7",
                  "102",
                  "4",
                  "0",
                  "0",
                  "0",
                  "76",
                  "36",
                  "0",
                  "12",
                  "7",
                  "0",
                  "0",
                  "0",
                  "0",
                  "60",
                  "358",
                  "0",
                  "0",
                  "1",
                  "1",
                  "0",
                  "7",
                  "0",
                  "5",
                  "22",
                  "1",
                  "0",
                  "1",
                  "11",
                  "1",
                  "46",
                  "16",
                  "277",
                  "0",
                  "0",
                  "764",
                  "48",
                  "0",
                  "1",
                  "6",
                  "0",
                  "0",
                  "57",
                  "0",
                  "0",
                  "1",
                  "1",
                  "49",
                  "2",
                  "14",
                  "179",
                  "2",
                  "36",
                  "0",
                  "1",
                  "0",
                  "109",
                  "0",
                  "92",
                  "8",
                  "0",
                  "0",
                  "0",
                  "0",
                  "0",
                  "38",
                  "0",
                  "180",
                  "0",
                  "0",
                  "32",
                  "0",
                  "0",
                  "326",
                  "0",
                  "0",
                  "0",
                  "0",
                  "0",
                  "33",
                  "23",
                  "225",
                  "0",
                  "0",
                  "198",
                  "0",
                  "126",
                  "331",
                  "0",
                  "11",
                  "0",
                  "0",
                  "1",
                  "0",
                  "0",
                  "0",
                  "0",
                  "92",
                  "333",
                  "285",
                  "3",
                  "1",
                  "0",
                  "0",
                  "0",
                  "0",
                  "0",
                  "0",
                  "0",
                  "25",
                  "0",
                  "0",
                  "0",
                  "0",
                  "0",
                  "0",
                  "0",
                  "3",
                  "83",
                  "0",
                  "0",
                  "1",
                  "0",
                  "30",
                  "10",
                  "0",
                  "0",
                  "2",
                  "6",
                  "23",
                  "2",
                  "0",
                  "48",
                  "1",
                  "13",
                  "0",
                  "0",
                  "0",
                  "47",
                  "1"
                ],
                [
                  "3",
                  "0x1b49dc534fa67d0c23f6bd0601f8c8142f8306d0",
                  "0",
                  "243",
                  "7",
                  "102",
                  "4",
                  "0",
                  "0",
                  "0",
                  "76",
                  "36",
                  "0",
                  "12",
                  "6",
                  "0",
                  "0",
                  "0",
                  "0",
                  "60",
                  "358",
                  "0",
                  "0",
                  "1",
                  "0",
                  "0",
                  "6",
                  "0",
                  "4",
                  "22",
                  "1",
                  "0",
                  "0",
                  "10",
                  "1",
                  "46",
                  "16",
                  "277",
                  "0",
                  "0",
                  "764",
                  "48",
                  "0",
                  "0",
                  "6",
                  "0",
                  "0",
                  "57",
                  "0",
                  "1",
                  "2",
                  "1",
                  "49",
                  "2",
                  "15",
                  "179",
                  "2",
                  "36",
                  "0",
                  "0",
                  "0",
                  "109",
                  "0",
                  "92",
                  "8",
                  "0",
                  "0",
                  "1",
                  "0",
                  "0",
                  "38",
                  "1",
                  "180",
                  "0",
                  "0",
                  "32",
                  "0",
                  "0",
                  "327",
                  "0",
                  "0",
                  "0",
                  "0",
                  "0",
                  "33",
                  "23",
                  "224",
                  "0",
                  "0",
                  "198",
                  "0",
                  "126",
                  "331",
                  "1",
                  "11",
                  "0",
                  "0",
                  "1",
                  "0",
                  "1",
                  "0",
                  "0",
                  "92",
                  "333",
                  "284",
                  "3",
                  "1",
                  "0",
                  "0",
                  "0",
                  "0",
                  "0",
                  "0",
                  "0",
                  "25",
                  "0",
                  "0",
                  "0",
                  "0",
                  "0",
                  "0",
                  "0",
                  "3",
                  "83",
                  "0",
                  "0",
                  "1",
                  "0",
                  "30",
                  "10",
                  "0",
                  "0",
                  "2",
                  "6",
                  "23",
                  "2",
                  "0",
                  "48",
                  "1",
                  "13",
                  "0",
                  "0",
                  "0",
                  "48",
                  "1"
                ],
                [
                  "4",
                  "0xf3afd0feac711f754d430de41ec0c7314a397ca1",
                  "0",
                  "243",
                  "7",
                  "102",
                  "4",
                  "0",
                  "0",
                  "0",
                  "77",
                  "36",
                  "0",
                  "12",
                  "7",
                  "0",
                  "0",
                  "0",
                  "0",
                  "60",
                  "358",
                  "0",
                  "0",
                  "1",
                  "0",
                  "1",
                  "6",
                  "0",
                  "4",
                  "22",
                  "1",
                  "0",
                  "1",
                  "11",
                  "1",
                  "46",
                  "16",
                  "277",
                  "0",
                  "0",
                  "764",
                  "48",
                  "0",
                  "0",
                  "6",
                  "0",
                  "0",
                  "57",
                  "0",
                  "0",
                  "1",
                  "2",
                  "48",
                  "2",
                  "14",
                  "179",
                  "2",
                  "36",
                  "0",
                  "0",
                  "0",
                  "109",
                  "0",
                  "92",
                  "8",
                  "0",
                  "0",
                  "0",
                  "0",
                  "0",
                  "38",
                  "0",
                  "180",
                  "0",
                  "0",
                  "32",
                  "0",
                  "0",
                  "326",
                  "0",
                  "0",
                  "0",
                  "0",
                  "0",
                  "33",
                  "23",
                  "224",
                  "0",
                  "0",
                  "198",
                  "0",
                  "126",
                  "331",
                  "0",
                  "11",
                  "0",
                  "0",
                  "1",
                  "0",
                  "0",
                  "0",
                  "0",
                  "92",
                  "333",
                  "284",
                  "3",
                  "0",
                  "0",
                  "0",
                  "0",
                  "1",
                  "0",
                  "0",
                  "0",
                  "25",
                  "0",
                  "0",
                  "0",
                  "0",
                  "0",
                  "0",
                  "0",
                  "3",
                  "83",
                  "0",
                  "0",
                  "1",
                  "0",
                  "30",
                  "10",
                  "0",
                  "0",
                  "2",
                  "6",
                  "23",
                  "2",
                  "0",
                  "48",
                  "1",
                  "13",
                  "0",
                  "0",
                  "0",
                  "47",
                  "1"
                ]
              ],
              "shape": {
                "columns": 144,
                "rows": 5
              }
            },
            "text/html": [
              "<div>\n",
              "<style scoped>\n",
              "    .dataframe tbody tr th:only-of-type {\n",
              "        vertical-align: middle;\n",
              "    }\n",
              "\n",
              "    .dataframe tbody tr th {\n",
              "        vertical-align: top;\n",
              "    }\n",
              "\n",
              "    .dataframe thead th {\n",
              "        text-align: right;\n",
              "    }\n",
              "</style>\n",
              "<table border=\"1\" class=\"dataframe\">\n",
              "  <thead>\n",
              "    <tr style=\"text-align: right;\">\n",
              "      <th></th>\n",
              "      <th>address</th>\n",
              "      <th>PUSH14</th>\n",
              "      <th>AND</th>\n",
              "      <th>CALLER</th>\n",
              "      <th>JUMPI</th>\n",
              "      <th>CALLDATACOPY</th>\n",
              "      <th>PUSH11</th>\n",
              "      <th>DIFFICULTY</th>\n",
              "      <th>CALL</th>\n",
              "      <th>DUP4</th>\n",
              "      <th>...</th>\n",
              "      <th>GASLIMIT</th>\n",
              "      <th>CODESIZE</th>\n",
              "      <th>SHA3</th>\n",
              "      <th>DUP12</th>\n",
              "      <th>OR</th>\n",
              "      <th>PUSH25</th>\n",
              "      <th>CREATE2</th>\n",
              "      <th>EXTCODEHASH</th>\n",
              "      <th>REVERT</th>\n",
              "      <th>label</th>\n",
              "    </tr>\n",
              "  </thead>\n",
              "  <tbody>\n",
              "    <tr>\n",
              "      <th>0</th>\n",
              "      <td>0x5674d4536fcd7a924696078b15865c4fab9f3597</td>\n",
              "      <td>0</td>\n",
              "      <td>243</td>\n",
              "      <td>7</td>\n",
              "      <td>102</td>\n",
              "      <td>4</td>\n",
              "      <td>0</td>\n",
              "      <td>0</td>\n",
              "      <td>0</td>\n",
              "      <td>76</td>\n",
              "      <td>...</td>\n",
              "      <td>2</td>\n",
              "      <td>0</td>\n",
              "      <td>49</td>\n",
              "      <td>1</td>\n",
              "      <td>13</td>\n",
              "      <td>0</td>\n",
              "      <td>0</td>\n",
              "      <td>0</td>\n",
              "      <td>47</td>\n",
              "      <td>1</td>\n",
              "    </tr>\n",
              "    <tr>\n",
              "      <th>1</th>\n",
              "      <td>0xbb7f05aa2dd33425ea0848cda8e4ea54718c6336</td>\n",
              "      <td>0</td>\n",
              "      <td>243</td>\n",
              "      <td>7</td>\n",
              "      <td>103</td>\n",
              "      <td>4</td>\n",
              "      <td>0</td>\n",
              "      <td>0</td>\n",
              "      <td>0</td>\n",
              "      <td>72</td>\n",
              "      <td>...</td>\n",
              "      <td>2</td>\n",
              "      <td>0</td>\n",
              "      <td>48</td>\n",
              "      <td>1</td>\n",
              "      <td>13</td>\n",
              "      <td>0</td>\n",
              "      <td>0</td>\n",
              "      <td>0</td>\n",
              "      <td>47</td>\n",
              "      <td>1</td>\n",
              "    </tr>\n",
              "    <tr>\n",
              "      <th>2</th>\n",
              "      <td>0x801427e0b00c5aa46f96550e1e33ad7f00077e19</td>\n",
              "      <td>0</td>\n",
              "      <td>243</td>\n",
              "      <td>7</td>\n",
              "      <td>102</td>\n",
              "      <td>4</td>\n",
              "      <td>0</td>\n",
              "      <td>0</td>\n",
              "      <td>0</td>\n",
              "      <td>76</td>\n",
              "      <td>...</td>\n",
              "      <td>2</td>\n",
              "      <td>0</td>\n",
              "      <td>48</td>\n",
              "      <td>1</td>\n",
              "      <td>13</td>\n",
              "      <td>0</td>\n",
              "      <td>0</td>\n",
              "      <td>0</td>\n",
              "      <td>47</td>\n",
              "      <td>1</td>\n",
              "    </tr>\n",
              "    <tr>\n",
              "      <th>3</th>\n",
              "      <td>0x1b49dc534fa67d0c23f6bd0601f8c8142f8306d0</td>\n",
              "      <td>0</td>\n",
              "      <td>243</td>\n",
              "      <td>7</td>\n",
              "      <td>102</td>\n",
              "      <td>4</td>\n",
              "      <td>0</td>\n",
              "      <td>0</td>\n",
              "      <td>0</td>\n",
              "      <td>76</td>\n",
              "      <td>...</td>\n",
              "      <td>2</td>\n",
              "      <td>0</td>\n",
              "      <td>48</td>\n",
              "      <td>1</td>\n",
              "      <td>13</td>\n",
              "      <td>0</td>\n",
              "      <td>0</td>\n",
              "      <td>0</td>\n",
              "      <td>48</td>\n",
              "      <td>1</td>\n",
              "    </tr>\n",
              "    <tr>\n",
              "      <th>4</th>\n",
              "      <td>0xf3afd0feac711f754d430de41ec0c7314a397ca1</td>\n",
              "      <td>0</td>\n",
              "      <td>243</td>\n",
              "      <td>7</td>\n",
              "      <td>102</td>\n",
              "      <td>4</td>\n",
              "      <td>0</td>\n",
              "      <td>0</td>\n",
              "      <td>0</td>\n",
              "      <td>77</td>\n",
              "      <td>...</td>\n",
              "      <td>2</td>\n",
              "      <td>0</td>\n",
              "      <td>48</td>\n",
              "      <td>1</td>\n",
              "      <td>13</td>\n",
              "      <td>0</td>\n",
              "      <td>0</td>\n",
              "      <td>0</td>\n",
              "      <td>47</td>\n",
              "      <td>1</td>\n",
              "    </tr>\n",
              "  </tbody>\n",
              "</table>\n",
              "<p>5 rows × 144 columns</p>\n",
              "</div>"
            ],
            "text/plain": [
              "                                      address  PUSH14  AND  CALLER  JUMPI  \\\n",
              "0  0x5674d4536fcd7a924696078b15865c4fab9f3597       0  243       7    102   \n",
              "1  0xbb7f05aa2dd33425ea0848cda8e4ea54718c6336       0  243       7    103   \n",
              "2  0x801427e0b00c5aa46f96550e1e33ad7f00077e19       0  243       7    102   \n",
              "3  0x1b49dc534fa67d0c23f6bd0601f8c8142f8306d0       0  243       7    102   \n",
              "4  0xf3afd0feac711f754d430de41ec0c7314a397ca1       0  243       7    102   \n",
              "\n",
              "   CALLDATACOPY  PUSH11  DIFFICULTY  CALL  DUP4  ...  GASLIMIT  CODESIZE  \\\n",
              "0             4       0           0     0    76  ...         2         0   \n",
              "1             4       0           0     0    72  ...         2         0   \n",
              "2             4       0           0     0    76  ...         2         0   \n",
              "3             4       0           0     0    76  ...         2         0   \n",
              "4             4       0           0     0    77  ...         2         0   \n",
              "\n",
              "   SHA3  DUP12  OR  PUSH25  CREATE2  EXTCODEHASH  REVERT  label  \n",
              "0    49      1  13       0        0            0      47      1  \n",
              "1    48      1  13       0        0            0      47      1  \n",
              "2    48      1  13       0        0            0      47      1  \n",
              "3    48      1  13       0        0            0      48      1  \n",
              "4    48      1  13       0        0            0      47      1  \n",
              "\n",
              "[5 rows x 144 columns]"
            ]
          },
          "execution_count": 71,
          "metadata": {},
          "output_type": "execute_result"
        }
      ],
      "source": [
        "trapdoor_opcode_df.head()"
      ]
    },
    {
      "cell_type": "code",
      "execution_count": 72,
      "id": "d2443846",
      "metadata": {},
      "outputs": [
        {
          "data": {
            "application/vnd.microsoft.datawrangler.viewer.v0+json": {
              "columns": [
                {
                  "name": "index",
                  "rawType": "int64",
                  "type": "integer"
                },
                {
                  "name": "address",
                  "rawType": "object",
                  "type": "string"
                },
                {
                  "name": "num_transfers",
                  "rawType": "int64",
                  "type": "integer"
                },
                {
                  "name": "num_addresses",
                  "rawType": "int64",
                  "type": "integer"
                },
                {
                  "name": "num_token_transfers",
                  "rawType": "int64",
                  "type": "integer"
                },
                {
                  "name": "num_creator_transfers",
                  "rawType": "int64",
                  "type": "integer"
                },
                {
                  "name": "num_burn_transfers",
                  "rawType": "int64",
                  "type": "integer"
                },
                {
                  "name": "num_mint_transfers",
                  "rawType": "int64",
                  "type": "integer"
                },
                {
                  "name": "ratio_token_transfers",
                  "rawType": "float64",
                  "type": "float"
                },
                {
                  "name": "ratio_creator_transfers",
                  "rawType": "float64",
                  "type": "float"
                },
                {
                  "name": "ratio_burn_transfers",
                  "rawType": "float64",
                  "type": "float"
                },
                {
                  "name": "ratio_mint_transfers",
                  "rawType": "float64",
                  "type": "float"
                },
                {
                  "name": "skewness_number_buy_sell",
                  "rawType": "float64",
                  "type": "float"
                },
                {
                  "name": "skewness_amt_buy_sell",
                  "rawType": "float64",
                  "type": "float"
                },
                {
                  "name": "number_of_pool",
                  "rawType": "int64",
                  "type": "integer"
                },
                {
                  "name": "life_time",
                  "rawType": "int64",
                  "type": "integer"
                },
                {
                  "name": "start_block",
                  "rawType": "int64",
                  "type": "integer"
                },
                {
                  "name": "end_block",
                  "rawType": "int64",
                  "type": "integer"
                },
                {
                  "name": "from_creation_to_transfer",
                  "rawType": "int64",
                  "type": "integer"
                },
                {
                  "name": "is_pool_same_creator",
                  "rawType": "bool",
                  "type": "boolean"
                },
                {
                  "name": "num_swap",
                  "rawType": "int64",
                  "type": "integer"
                },
                {
                  "name": "num_sync",
                  "rawType": "int64",
                  "type": "integer"
                },
                {
                  "name": "num_mint",
                  "rawType": "int64",
                  "type": "integer"
                },
                {
                  "name": "num_burn",
                  "rawType": "int64",
                  "type": "integer"
                },
                {
                  "name": "num_transfer",
                  "rawType": "int64",
                  "type": "integer"
                },
                {
                  "name": "investors",
                  "rawType": "int64",
                  "type": "integer"
                },
                {
                  "name": "liq_providers",
                  "rawType": "int64",
                  "type": "integer"
                },
                {
                  "name": "buyers",
                  "rawType": "int64",
                  "type": "integer"
                },
                {
                  "name": "sellers",
                  "rawType": "int64",
                  "type": "integer"
                },
                {
                  "name": "buy_amt",
                  "rawType": "float64",
                  "type": "float"
                },
                {
                  "name": "sell_amt",
                  "rawType": "float64",
                  "type": "float"
                },
                {
                  "name": "pool_life_time",
                  "rawType": "int64",
                  "type": "integer"
                },
                {
                  "name": "pool_start_block",
                  "rawType": "int64",
                  "type": "integer"
                },
                {
                  "name": "pool_end_block",
                  "rawType": "int64",
                  "type": "integer"
                },
                {
                  "name": "pool_creation_to_swap",
                  "rawType": "int64",
                  "type": "integer"
                },
                {
                  "name": "token_creation_to_pool_creation",
                  "rawType": "int64",
                  "type": "integer"
                },
                {
                  "name": "label",
                  "rawType": "int64",
                  "type": "integer"
                }
              ],
              "ref": "7792925a-e28c-41c9-b260-accd14b7b621",
              "rows": [
                [
                  "0",
                  "0x5674d4536fcd7a924696078b15865c4fab9f3597",
                  "287",
                  "245",
                  "0",
                  "8",
                  "0",
                  "10",
                  "0.0",
                  "0.0278745644599303",
                  "0.0",
                  "0.0348432055749128",
                  "0.0",
                  "0.0",
                  "1",
                  "2500",
                  "12266223",
                  "12268723",
                  "0",
                  "True",
                  "269",
                  "271",
                  "1",
                  "1",
                  "4",
                  "238",
                  "2",
                  "238",
                  "0",
                  "29863.52515955536",
                  "0.0",
                  "2159",
                  "12266244",
                  "12268403",
                  "4",
                  "21",
                  "1"
                ],
                [
                  "1",
                  "0xbb7f05aa2dd33425ea0848cda8e4ea54718c6336",
                  "315",
                  "241",
                  "0",
                  "7",
                  "1",
                  "52",
                  "0.0",
                  "0.0222222222222222",
                  "0.0031746031746031",
                  "0.165079365079365",
                  "0.0",
                  "0.0",
                  "1",
                  "3493159",
                  "12623468",
                  "16116627",
                  "0",
                  "True",
                  "261",
                  "262",
                  "1",
                  "0",
                  "4",
                  "229",
                  "2",
                  "228",
                  "1",
                  "1893184106976485.2",
                  "3951622692661731.0",
                  "3493146",
                  "12623481",
                  "16116627",
                  "5",
                  "13",
                  "1"
                ],
                [
                  "2",
                  "0x801427e0b00c5aa46f96550e1e33ad7f00077e19",
                  "90",
                  "54",
                  "0",
                  "16",
                  "0",
                  "11",
                  "0.0",
                  "0.1777777777777777",
                  "0.0",
                  "0.1222222222222222",
                  "0.0",
                  "0.0",
                  "1",
                  "484",
                  "11740511",
                  "11740995",
                  "0",
                  "True",
                  "62",
                  "65",
                  "1",
                  "2",
                  "6",
                  "42",
                  "2",
                  "42",
                  "0",
                  "264857.042339736",
                  "0.0",
                  "323",
                  "11740528",
                  "11740851",
                  "4",
                  "17",
                  "1"
                ],
                [
                  "3",
                  "0x1b49dc534fa67d0c23f6bd0601f8c8142f8306d0",
                  "356",
                  "334",
                  "0",
                  "14",
                  "0",
                  "10",
                  "0.0",
                  "0.0393258426966292",
                  "0.0",
                  "0.0280898876404494",
                  "0.0",
                  "0.0",
                  "1",
                  "6604",
                  "12213066",
                  "12219670",
                  "0",
                  "True",
                  "332",
                  "334",
                  "1",
                  "1",
                  "4",
                  "323",
                  "2",
                  "323",
                  "0",
                  "2769971.9501953498",
                  "0.0",
                  "4635",
                  "12213422",
                  "12218057",
                  "7",
                  "356",
                  "1"
                ],
                [
                  "4",
                  "0xf3afd0feac711f754d430de41ec0c7314a397ca1",
                  "374",
                  "348",
                  "0",
                  "10",
                  "0",
                  "1",
                  "0.0",
                  "0.0267379679144385",
                  "0.0",
                  "0.0026737967914438",
                  "0.0",
                  "0.0",
                  "1",
                  "1698",
                  "11862564",
                  "11864262",
                  "0",
                  "True",
                  "363",
                  "365",
                  "1",
                  "1",
                  "4",
                  "340",
                  "2",
                  "340",
                  "0",
                  "5936125.579154573",
                  "0.0",
                  "1492",
                  "11862593",
                  "11864085",
                  "26",
                  "29",
                  "1"
                ]
              ],
              "shape": {
                "columns": 36,
                "rows": 5
              }
            },
            "text/html": [
              "<div>\n",
              "<style scoped>\n",
              "    .dataframe tbody tr th:only-of-type {\n",
              "        vertical-align: middle;\n",
              "    }\n",
              "\n",
              "    .dataframe tbody tr th {\n",
              "        vertical-align: top;\n",
              "    }\n",
              "\n",
              "    .dataframe thead th {\n",
              "        text-align: right;\n",
              "    }\n",
              "</style>\n",
              "<table border=\"1\" class=\"dataframe\">\n",
              "  <thead>\n",
              "    <tr style=\"text-align: right;\">\n",
              "      <th></th>\n",
              "      <th>address</th>\n",
              "      <th>num_transfers</th>\n",
              "      <th>num_addresses</th>\n",
              "      <th>num_token_transfers</th>\n",
              "      <th>num_creator_transfers</th>\n",
              "      <th>num_burn_transfers</th>\n",
              "      <th>num_mint_transfers</th>\n",
              "      <th>ratio_token_transfers</th>\n",
              "      <th>ratio_creator_transfers</th>\n",
              "      <th>ratio_burn_transfers</th>\n",
              "      <th>...</th>\n",
              "      <th>buyers</th>\n",
              "      <th>sellers</th>\n",
              "      <th>buy_amt</th>\n",
              "      <th>sell_amt</th>\n",
              "      <th>pool_life_time</th>\n",
              "      <th>pool_start_block</th>\n",
              "      <th>pool_end_block</th>\n",
              "      <th>pool_creation_to_swap</th>\n",
              "      <th>token_creation_to_pool_creation</th>\n",
              "      <th>label</th>\n",
              "    </tr>\n",
              "  </thead>\n",
              "  <tbody>\n",
              "    <tr>\n",
              "      <th>0</th>\n",
              "      <td>0x5674d4536fcd7a924696078b15865c4fab9f3597</td>\n",
              "      <td>287</td>\n",
              "      <td>245</td>\n",
              "      <td>0</td>\n",
              "      <td>8</td>\n",
              "      <td>0</td>\n",
              "      <td>10</td>\n",
              "      <td>0.0</td>\n",
              "      <td>0.027875</td>\n",
              "      <td>0.000000</td>\n",
              "      <td>...</td>\n",
              "      <td>238</td>\n",
              "      <td>0</td>\n",
              "      <td>2.986353e+04</td>\n",
              "      <td>0.000000e+00</td>\n",
              "      <td>2159</td>\n",
              "      <td>12266244</td>\n",
              "      <td>12268403</td>\n",
              "      <td>4</td>\n",
              "      <td>21</td>\n",
              "      <td>1</td>\n",
              "    </tr>\n",
              "    <tr>\n",
              "      <th>1</th>\n",
              "      <td>0xbb7f05aa2dd33425ea0848cda8e4ea54718c6336</td>\n",
              "      <td>315</td>\n",
              "      <td>241</td>\n",
              "      <td>0</td>\n",
              "      <td>7</td>\n",
              "      <td>1</td>\n",
              "      <td>52</td>\n",
              "      <td>0.0</td>\n",
              "      <td>0.022222</td>\n",
              "      <td>0.003175</td>\n",
              "      <td>...</td>\n",
              "      <td>228</td>\n",
              "      <td>1</td>\n",
              "      <td>1.893184e+15</td>\n",
              "      <td>3.951623e+15</td>\n",
              "      <td>3493146</td>\n",
              "      <td>12623481</td>\n",
              "      <td>16116627</td>\n",
              "      <td>5</td>\n",
              "      <td>13</td>\n",
              "      <td>1</td>\n",
              "    </tr>\n",
              "    <tr>\n",
              "      <th>2</th>\n",
              "      <td>0x801427e0b00c5aa46f96550e1e33ad7f00077e19</td>\n",
              "      <td>90</td>\n",
              "      <td>54</td>\n",
              "      <td>0</td>\n",
              "      <td>16</td>\n",
              "      <td>0</td>\n",
              "      <td>11</td>\n",
              "      <td>0.0</td>\n",
              "      <td>0.177778</td>\n",
              "      <td>0.000000</td>\n",
              "      <td>...</td>\n",
              "      <td>42</td>\n",
              "      <td>0</td>\n",
              "      <td>2.648570e+05</td>\n",
              "      <td>0.000000e+00</td>\n",
              "      <td>323</td>\n",
              "      <td>11740528</td>\n",
              "      <td>11740851</td>\n",
              "      <td>4</td>\n",
              "      <td>17</td>\n",
              "      <td>1</td>\n",
              "    </tr>\n",
              "    <tr>\n",
              "      <th>3</th>\n",
              "      <td>0x1b49dc534fa67d0c23f6bd0601f8c8142f8306d0</td>\n",
              "      <td>356</td>\n",
              "      <td>334</td>\n",
              "      <td>0</td>\n",
              "      <td>14</td>\n",
              "      <td>0</td>\n",
              "      <td>10</td>\n",
              "      <td>0.0</td>\n",
              "      <td>0.039326</td>\n",
              "      <td>0.000000</td>\n",
              "      <td>...</td>\n",
              "      <td>323</td>\n",
              "      <td>0</td>\n",
              "      <td>2.769972e+06</td>\n",
              "      <td>0.000000e+00</td>\n",
              "      <td>4635</td>\n",
              "      <td>12213422</td>\n",
              "      <td>12218057</td>\n",
              "      <td>7</td>\n",
              "      <td>356</td>\n",
              "      <td>1</td>\n",
              "    </tr>\n",
              "    <tr>\n",
              "      <th>4</th>\n",
              "      <td>0xf3afd0feac711f754d430de41ec0c7314a397ca1</td>\n",
              "      <td>374</td>\n",
              "      <td>348</td>\n",
              "      <td>0</td>\n",
              "      <td>10</td>\n",
              "      <td>0</td>\n",
              "      <td>1</td>\n",
              "      <td>0.0</td>\n",
              "      <td>0.026738</td>\n",
              "      <td>0.000000</td>\n",
              "      <td>...</td>\n",
              "      <td>340</td>\n",
              "      <td>0</td>\n",
              "      <td>5.936126e+06</td>\n",
              "      <td>0.000000e+00</td>\n",
              "      <td>1492</td>\n",
              "      <td>11862593</td>\n",
              "      <td>11864085</td>\n",
              "      <td>26</td>\n",
              "      <td>29</td>\n",
              "      <td>1</td>\n",
              "    </tr>\n",
              "  </tbody>\n",
              "</table>\n",
              "<p>5 rows × 36 columns</p>\n",
              "</div>"
            ],
            "text/plain": [
              "                                      address  num_transfers  num_addresses  \\\n",
              "0  0x5674d4536fcd7a924696078b15865c4fab9f3597            287            245   \n",
              "1  0xbb7f05aa2dd33425ea0848cda8e4ea54718c6336            315            241   \n",
              "2  0x801427e0b00c5aa46f96550e1e33ad7f00077e19             90             54   \n",
              "3  0x1b49dc534fa67d0c23f6bd0601f8c8142f8306d0            356            334   \n",
              "4  0xf3afd0feac711f754d430de41ec0c7314a397ca1            374            348   \n",
              "\n",
              "   num_token_transfers  num_creator_transfers  num_burn_transfers  \\\n",
              "0                    0                      8                   0   \n",
              "1                    0                      7                   1   \n",
              "2                    0                     16                   0   \n",
              "3                    0                     14                   0   \n",
              "4                    0                     10                   0   \n",
              "\n",
              "   num_mint_transfers  ratio_token_transfers  ratio_creator_transfers  \\\n",
              "0                  10                    0.0                 0.027875   \n",
              "1                  52                    0.0                 0.022222   \n",
              "2                  11                    0.0                 0.177778   \n",
              "3                  10                    0.0                 0.039326   \n",
              "4                   1                    0.0                 0.026738   \n",
              "\n",
              "   ratio_burn_transfers  ...  buyers  sellers       buy_amt      sell_amt  \\\n",
              "0              0.000000  ...     238        0  2.986353e+04  0.000000e+00   \n",
              "1              0.003175  ...     228        1  1.893184e+15  3.951623e+15   \n",
              "2              0.000000  ...      42        0  2.648570e+05  0.000000e+00   \n",
              "3              0.000000  ...     323        0  2.769972e+06  0.000000e+00   \n",
              "4              0.000000  ...     340        0  5.936126e+06  0.000000e+00   \n",
              "\n",
              "   pool_life_time  pool_start_block  pool_end_block  pool_creation_to_swap  \\\n",
              "0            2159          12266244        12268403                      4   \n",
              "1         3493146          12623481        16116627                      5   \n",
              "2             323          11740528        11740851                      4   \n",
              "3            4635          12213422        12218057                      7   \n",
              "4            1492          11862593        11864085                     26   \n",
              "\n",
              "   token_creation_to_pool_creation  label  \n",
              "0                               21      1  \n",
              "1                               13      1  \n",
              "2                               17      1  \n",
              "3                              356      1  \n",
              "4                               29      1  \n",
              "\n",
              "[5 rows x 36 columns]"
            ]
          },
          "execution_count": 72,
          "metadata": {},
          "output_type": "execute_result"
        }
      ],
      "source": [
        "trapdoor_exchange_df.head()"
      ]
    },
    {
      "cell_type": "code",
      "execution_count": 73,
      "id": "9a52eed7",
      "metadata": {},
      "outputs": [
        {
          "data": {
            "application/vnd.microsoft.datawrangler.viewer.v0+json": {
              "columns": [
                {
                  "name": "index",
                  "rawType": "object",
                  "type": "string"
                },
                {
                  "name": "num_transfers",
                  "rawType": "float64",
                  "type": "float"
                },
                {
                  "name": "num_addresses",
                  "rawType": "float64",
                  "type": "float"
                },
                {
                  "name": "num_token_transfers",
                  "rawType": "float64",
                  "type": "float"
                },
                {
                  "name": "num_creator_transfers",
                  "rawType": "float64",
                  "type": "float"
                },
                {
                  "name": "num_burn_transfers",
                  "rawType": "float64",
                  "type": "float"
                },
                {
                  "name": "num_mint_transfers",
                  "rawType": "float64",
                  "type": "float"
                },
                {
                  "name": "ratio_token_transfers",
                  "rawType": "float64",
                  "type": "float"
                },
                {
                  "name": "ratio_creator_transfers",
                  "rawType": "float64",
                  "type": "float"
                },
                {
                  "name": "ratio_burn_transfers",
                  "rawType": "float64",
                  "type": "float"
                },
                {
                  "name": "ratio_mint_transfers",
                  "rawType": "float64",
                  "type": "float"
                },
                {
                  "name": "skewness_number_buy_sell",
                  "rawType": "float64",
                  "type": "float"
                },
                {
                  "name": "skewness_amt_buy_sell",
                  "rawType": "float64",
                  "type": "float"
                },
                {
                  "name": "number_of_pool",
                  "rawType": "float64",
                  "type": "float"
                },
                {
                  "name": "life_time",
                  "rawType": "float64",
                  "type": "float"
                },
                {
                  "name": "start_block",
                  "rawType": "float64",
                  "type": "float"
                },
                {
                  "name": "end_block",
                  "rawType": "float64",
                  "type": "float"
                },
                {
                  "name": "from_creation_to_transfer",
                  "rawType": "float64",
                  "type": "float"
                },
                {
                  "name": "num_swap",
                  "rawType": "float64",
                  "type": "float"
                },
                {
                  "name": "num_sync",
                  "rawType": "float64",
                  "type": "float"
                },
                {
                  "name": "num_mint",
                  "rawType": "float64",
                  "type": "float"
                },
                {
                  "name": "num_burn",
                  "rawType": "float64",
                  "type": "float"
                },
                {
                  "name": "num_transfer",
                  "rawType": "float64",
                  "type": "float"
                },
                {
                  "name": "investors",
                  "rawType": "float64",
                  "type": "float"
                },
                {
                  "name": "liq_providers",
                  "rawType": "float64",
                  "type": "float"
                },
                {
                  "name": "buyers",
                  "rawType": "float64",
                  "type": "float"
                },
                {
                  "name": "sellers",
                  "rawType": "float64",
                  "type": "float"
                },
                {
                  "name": "buy_amt",
                  "rawType": "float64",
                  "type": "float"
                },
                {
                  "name": "sell_amt",
                  "rawType": "float64",
                  "type": "float"
                },
                {
                  "name": "pool_life_time",
                  "rawType": "float64",
                  "type": "float"
                },
                {
                  "name": "pool_start_block",
                  "rawType": "float64",
                  "type": "float"
                },
                {
                  "name": "pool_end_block",
                  "rawType": "float64",
                  "type": "float"
                },
                {
                  "name": "pool_creation_to_swap",
                  "rawType": "float64",
                  "type": "float"
                },
                {
                  "name": "token_creation_to_pool_creation",
                  "rawType": "float64",
                  "type": "float"
                },
                {
                  "name": "label",
                  "rawType": "float64",
                  "type": "float"
                }
              ],
              "ref": "cf108d1a-1b3b-4e81-9de4-a606f7615bcd",
              "rows": [
                [
                  "count",
                  "42172.0",
                  "42172.0",
                  "42172.0",
                  "42172.0",
                  "42172.0",
                  "42172.0",
                  "42172.0",
                  "42172.0",
                  "42172.0",
                  "42172.0",
                  "42172.0",
                  "42172.0",
                  "42172.0",
                  "42172.0",
                  "42172.0",
                  "42172.0",
                  "42172.0",
                  "42172.0",
                  "42172.0",
                  "42172.0",
                  "42172.0",
                  "42172.0",
                  "42172.0",
                  "42172.0",
                  "42172.0",
                  "42172.0",
                  "42172.0",
                  "42172.0",
                  "42172.0",
                  "42172.0",
                  "42172.0",
                  "42172.0",
                  "42172.0",
                  "42172.0"
                ],
                [
                  "mean",
                  "2953.7295361851466",
                  "623.99841126814",
                  "101.72107085269847",
                  "25.275016598691074",
                  "110.39213222043061",
                  "173.40737930380348",
                  "0.08290349889849213",
                  "0.20672961050556315",
                  "0.018691959055198305",
                  "0.06390296264149183",
                  "0.0008381237209318246",
                  "0.001354785528362215",
                  "1.2062505928103955",
                  "649703.8749644314",
                  "13470882.127833635",
                  "14120586.002798066",
                  "62265.67433368111",
                  "950.0261310822347",
                  "984.0400502703216",
                  "19.956179455562932",
                  "10.1755430143223",
                  "67.1164990989282",
                  "195.9476429858674",
                  "9.58956179455563",
                  "179.12738309779002",
                  "40.125248980366116",
                  "1.2108135724505058e+24",
                  "2.6361539112250493e+24",
                  "413231.51866167126",
                  "13565485.97311012",
                  "13978717.491771791",
                  "5253.355923361472",
                  "94603.84527648677",
                  "0.5391966233519871"
                ],
                [
                  "std",
                  "47073.30399460266",
                  "12940.474520827644",
                  "7250.3912965700865",
                  "561.747178532021",
                  "11397.10348377324",
                  "6612.825262887862",
                  "0.16767331116657053",
                  "0.2258933828888171",
                  "0.06597908487295531",
                  "0.11604626349500467",
                  "0.07333898314661418",
                  "0.12678435951784922",
                  "14.308643705203272",
                  "1658813.6022770412",
                  "2124869.259790739",
                  "1877305.5633463694",
                  "499928.495211271",
                  "24343.049334674924",
                  "24830.334758395238",
                  "327.77954259136743",
                  "208.99114899768298",
                  "1315.7802449315109",
                  "2786.3986034590866",
                  "156.11467946728544",
                  "2646.537469882223",
                  "1328.9206971656963",
                  "2.4316033582827395e+26",
                  "4.894057427962093e+26",
                  "1192918.7263056953",
                  "1935309.793159053",
                  "1897293.2982367314",
                  "108763.37762469899",
                  "609482.5510532138",
                  "0.49846716695314774"
                ],
                [
                  "min",
                  "0.0",
                  "0.0",
                  "0.0",
                  "0.0",
                  "0.0",
                  "0.0",
                  "0.0",
                  "0.0",
                  "0.0",
                  "0.0",
                  "-3.3282011773513767",
                  "0.0",
                  "1.0",
                  "0.0",
                  "2621392.0",
                  "6082465.0",
                  "0.0",
                  "0.0",
                  "0.0",
                  "0.0",
                  "0.0",
                  "0.0",
                  "0.0",
                  "0.0",
                  "0.0",
                  "0.0",
                  "0.0",
                  "0.0",
                  "0.0",
                  "10008355.0",
                  "10093837.0",
                  "0.0",
                  "0.0",
                  "0.0"
                ],
                [
                  "25%",
                  "14.0",
                  "9.0",
                  "0.0",
                  "3.0",
                  "0.0",
                  "1.0",
                  "0.0",
                  "0.038082298136645945",
                  "0.0",
                  "0.00625",
                  "0.0",
                  "0.0",
                  "1.0",
                  "190.0",
                  "11656648.25",
                  "12574825.25",
                  "0.0",
                  "7.0",
                  "10.0",
                  "1.0",
                  "1.0",
                  "4.0",
                  "5.0",
                  "2.0",
                  "5.0",
                  "1.0",
                  "95411.55777982826",
                  "353.3143629507511",
                  "62.0",
                  "11776441.0",
                  "12509903.5",
                  "0.0",
                  "10.0",
                  "0.0"
                ],
                [
                  "50%",
                  "29.0",
                  "19.0",
                  "0.0",
                  "3.0",
                  "0.0",
                  "1.0",
                  "0.0",
                  "0.1304347826086956",
                  "0.0",
                  "0.032258064516129",
                  "0.0",
                  "0.0",
                  "1.0",
                  "4036.5",
                  "13515969.0",
                  "14699512.5",
                  "0.0",
                  "20.0",
                  "23.0",
                  "1.0",
                  "1.0",
                  "4.0",
                  "15.0",
                  "2.0",
                  "13.0",
                  "2.0",
                  "85210250.38788342",
                  "7568077.633763023",
                  "285.0",
                  "13529886.0",
                  "14476680.0",
                  "5.0",
                  "33.0",
                  "1.0"
                ],
                [
                  "75%",
                  "112.0",
                  "51.0",
                  "2.0",
                  "5.0",
                  "1.0",
                  "1.0",
                  "0.037037037037037",
                  "0.2857142857142857",
                  "7.214593918291841e-05",
                  "0.0714285714285714",
                  "0.0",
                  "0.0",
                  "1.0",
                  "199732.75",
                  "15486252.0",
                  "15814410.75",
                  "0.0",
                  "69.0",
                  "73.0",
                  "1.0",
                  "1.0",
                  "6.0",
                  "39.0",
                  "2.0",
                  "36.0",
                  "5.0",
                  "83913929187.80795",
                  "11749338866.465012",
                  "25697.0",
                  "15492903.0",
                  "15732723.0",
                  "20.0",
                  "261.25",
                  "1.0"
                ],
                [
                  "max",
                  "5288266.0",
                  "1666062.0",
                  "1472277.0",
                  "88564.0",
                  "2321563.0",
                  "870736.0",
                  "1.0",
                  "1.0",
                  "0.8900005980457705",
                  "1.0",
                  "8.124943438717159",
                  "19.49727858762752",
                  "2793.0",
                  "13384140.0",
                  "16403991.0",
                  "16403991.0",
                  "10266123.0",
                  "4212559.0",
                  "4283763.0",
                  "37449.0",
                  "26670.0",
                  "161472.0",
                  "291741.0",
                  "21424.0",
                  "286222.0",
                  "252709.0",
                  "4.99248873309965e+28",
                  "1e+29",
                  "6391643.0",
                  "16403991.0",
                  "16403991.0",
                  "5957883.0",
                  "11434192.0",
                  "1.0"
                ]
              ],
              "shape": {
                "columns": 34,
                "rows": 8
              }
            },
            "text/html": [
              "<div>\n",
              "<style scoped>\n",
              "    .dataframe tbody tr th:only-of-type {\n",
              "        vertical-align: middle;\n",
              "    }\n",
              "\n",
              "    .dataframe tbody tr th {\n",
              "        vertical-align: top;\n",
              "    }\n",
              "\n",
              "    .dataframe thead th {\n",
              "        text-align: right;\n",
              "    }\n",
              "</style>\n",
              "<table border=\"1\" class=\"dataframe\">\n",
              "  <thead>\n",
              "    <tr style=\"text-align: right;\">\n",
              "      <th></th>\n",
              "      <th>num_transfers</th>\n",
              "      <th>num_addresses</th>\n",
              "      <th>num_token_transfers</th>\n",
              "      <th>num_creator_transfers</th>\n",
              "      <th>num_burn_transfers</th>\n",
              "      <th>num_mint_transfers</th>\n",
              "      <th>ratio_token_transfers</th>\n",
              "      <th>ratio_creator_transfers</th>\n",
              "      <th>ratio_burn_transfers</th>\n",
              "      <th>ratio_mint_transfers</th>\n",
              "      <th>...</th>\n",
              "      <th>buyers</th>\n",
              "      <th>sellers</th>\n",
              "      <th>buy_amt</th>\n",
              "      <th>sell_amt</th>\n",
              "      <th>pool_life_time</th>\n",
              "      <th>pool_start_block</th>\n",
              "      <th>pool_end_block</th>\n",
              "      <th>pool_creation_to_swap</th>\n",
              "      <th>token_creation_to_pool_creation</th>\n",
              "      <th>label</th>\n",
              "    </tr>\n",
              "  </thead>\n",
              "  <tbody>\n",
              "    <tr>\n",
              "      <th>count</th>\n",
              "      <td>4.217200e+04</td>\n",
              "      <td>4.217200e+04</td>\n",
              "      <td>4.217200e+04</td>\n",
              "      <td>42172.000000</td>\n",
              "      <td>4.217200e+04</td>\n",
              "      <td>42172.000000</td>\n",
              "      <td>42172.000000</td>\n",
              "      <td>42172.000000</td>\n",
              "      <td>42172.000000</td>\n",
              "      <td>42172.000000</td>\n",
              "      <td>...</td>\n",
              "      <td>42172.000000</td>\n",
              "      <td>42172.000000</td>\n",
              "      <td>4.217200e+04</td>\n",
              "      <td>4.217200e+04</td>\n",
              "      <td>4.217200e+04</td>\n",
              "      <td>4.217200e+04</td>\n",
              "      <td>4.217200e+04</td>\n",
              "      <td>4.217200e+04</td>\n",
              "      <td>4.217200e+04</td>\n",
              "      <td>42172.000000</td>\n",
              "    </tr>\n",
              "    <tr>\n",
              "      <th>mean</th>\n",
              "      <td>2.953730e+03</td>\n",
              "      <td>6.239984e+02</td>\n",
              "      <td>1.017211e+02</td>\n",
              "      <td>25.275017</td>\n",
              "      <td>1.103921e+02</td>\n",
              "      <td>173.407379</td>\n",
              "      <td>0.082903</td>\n",
              "      <td>0.206730</td>\n",
              "      <td>0.018692</td>\n",
              "      <td>0.063903</td>\n",
              "      <td>...</td>\n",
              "      <td>179.127383</td>\n",
              "      <td>40.125249</td>\n",
              "      <td>1.210814e+24</td>\n",
              "      <td>2.636154e+24</td>\n",
              "      <td>4.132315e+05</td>\n",
              "      <td>1.356549e+07</td>\n",
              "      <td>1.397872e+07</td>\n",
              "      <td>5.253356e+03</td>\n",
              "      <td>9.460385e+04</td>\n",
              "      <td>0.539197</td>\n",
              "    </tr>\n",
              "    <tr>\n",
              "      <th>std</th>\n",
              "      <td>4.707330e+04</td>\n",
              "      <td>1.294047e+04</td>\n",
              "      <td>7.250391e+03</td>\n",
              "      <td>561.747179</td>\n",
              "      <td>1.139710e+04</td>\n",
              "      <td>6612.825263</td>\n",
              "      <td>0.167673</td>\n",
              "      <td>0.225893</td>\n",
              "      <td>0.065979</td>\n",
              "      <td>0.116046</td>\n",
              "      <td>...</td>\n",
              "      <td>2646.537470</td>\n",
              "      <td>1328.920697</td>\n",
              "      <td>2.431603e+26</td>\n",
              "      <td>4.894057e+26</td>\n",
              "      <td>1.192919e+06</td>\n",
              "      <td>1.935310e+06</td>\n",
              "      <td>1.897293e+06</td>\n",
              "      <td>1.087634e+05</td>\n",
              "      <td>6.094826e+05</td>\n",
              "      <td>0.498467</td>\n",
              "    </tr>\n",
              "    <tr>\n",
              "      <th>min</th>\n",
              "      <td>0.000000e+00</td>\n",
              "      <td>0.000000e+00</td>\n",
              "      <td>0.000000e+00</td>\n",
              "      <td>0.000000</td>\n",
              "      <td>0.000000e+00</td>\n",
              "      <td>0.000000</td>\n",
              "      <td>0.000000</td>\n",
              "      <td>0.000000</td>\n",
              "      <td>0.000000</td>\n",
              "      <td>0.000000</td>\n",
              "      <td>...</td>\n",
              "      <td>0.000000</td>\n",
              "      <td>0.000000</td>\n",
              "      <td>0.000000e+00</td>\n",
              "      <td>0.000000e+00</td>\n",
              "      <td>0.000000e+00</td>\n",
              "      <td>1.000836e+07</td>\n",
              "      <td>1.009384e+07</td>\n",
              "      <td>0.000000e+00</td>\n",
              "      <td>0.000000e+00</td>\n",
              "      <td>0.000000</td>\n",
              "    </tr>\n",
              "    <tr>\n",
              "      <th>25%</th>\n",
              "      <td>1.400000e+01</td>\n",
              "      <td>9.000000e+00</td>\n",
              "      <td>0.000000e+00</td>\n",
              "      <td>3.000000</td>\n",
              "      <td>0.000000e+00</td>\n",
              "      <td>1.000000</td>\n",
              "      <td>0.000000</td>\n",
              "      <td>0.038082</td>\n",
              "      <td>0.000000</td>\n",
              "      <td>0.006250</td>\n",
              "      <td>...</td>\n",
              "      <td>5.000000</td>\n",
              "      <td>1.000000</td>\n",
              "      <td>9.541156e+04</td>\n",
              "      <td>3.533144e+02</td>\n",
              "      <td>6.200000e+01</td>\n",
              "      <td>1.177644e+07</td>\n",
              "      <td>1.250990e+07</td>\n",
              "      <td>0.000000e+00</td>\n",
              "      <td>1.000000e+01</td>\n",
              "      <td>0.000000</td>\n",
              "    </tr>\n",
              "    <tr>\n",
              "      <th>50%</th>\n",
              "      <td>2.900000e+01</td>\n",
              "      <td>1.900000e+01</td>\n",
              "      <td>0.000000e+00</td>\n",
              "      <td>3.000000</td>\n",
              "      <td>0.000000e+00</td>\n",
              "      <td>1.000000</td>\n",
              "      <td>0.000000</td>\n",
              "      <td>0.130435</td>\n",
              "      <td>0.000000</td>\n",
              "      <td>0.032258</td>\n",
              "      <td>...</td>\n",
              "      <td>13.000000</td>\n",
              "      <td>2.000000</td>\n",
              "      <td>8.521025e+07</td>\n",
              "      <td>7.568078e+06</td>\n",
              "      <td>2.850000e+02</td>\n",
              "      <td>1.352989e+07</td>\n",
              "      <td>1.447668e+07</td>\n",
              "      <td>5.000000e+00</td>\n",
              "      <td>3.300000e+01</td>\n",
              "      <td>1.000000</td>\n",
              "    </tr>\n",
              "    <tr>\n",
              "      <th>75%</th>\n",
              "      <td>1.120000e+02</td>\n",
              "      <td>5.100000e+01</td>\n",
              "      <td>2.000000e+00</td>\n",
              "      <td>5.000000</td>\n",
              "      <td>1.000000e+00</td>\n",
              "      <td>1.000000</td>\n",
              "      <td>0.037037</td>\n",
              "      <td>0.285714</td>\n",
              "      <td>0.000072</td>\n",
              "      <td>0.071429</td>\n",
              "      <td>...</td>\n",
              "      <td>36.000000</td>\n",
              "      <td>5.000000</td>\n",
              "      <td>8.391393e+10</td>\n",
              "      <td>1.174934e+10</td>\n",
              "      <td>2.569700e+04</td>\n",
              "      <td>1.549290e+07</td>\n",
              "      <td>1.573272e+07</td>\n",
              "      <td>2.000000e+01</td>\n",
              "      <td>2.612500e+02</td>\n",
              "      <td>1.000000</td>\n",
              "    </tr>\n",
              "    <tr>\n",
              "      <th>max</th>\n",
              "      <td>5.288266e+06</td>\n",
              "      <td>1.666062e+06</td>\n",
              "      <td>1.472277e+06</td>\n",
              "      <td>88564.000000</td>\n",
              "      <td>2.321563e+06</td>\n",
              "      <td>870736.000000</td>\n",
              "      <td>1.000000</td>\n",
              "      <td>1.000000</td>\n",
              "      <td>0.890001</td>\n",
              "      <td>1.000000</td>\n",
              "      <td>...</td>\n",
              "      <td>286222.000000</td>\n",
              "      <td>252709.000000</td>\n",
              "      <td>4.992489e+28</td>\n",
              "      <td>1.000000e+29</td>\n",
              "      <td>6.391643e+06</td>\n",
              "      <td>1.640399e+07</td>\n",
              "      <td>1.640399e+07</td>\n",
              "      <td>5.957883e+06</td>\n",
              "      <td>1.143419e+07</td>\n",
              "      <td>1.000000</td>\n",
              "    </tr>\n",
              "  </tbody>\n",
              "</table>\n",
              "<p>8 rows × 34 columns</p>\n",
              "</div>"
            ],
            "text/plain": [
              "       num_transfers  num_addresses  num_token_transfers  \\\n",
              "count   4.217200e+04   4.217200e+04         4.217200e+04   \n",
              "mean    2.953730e+03   6.239984e+02         1.017211e+02   \n",
              "std     4.707330e+04   1.294047e+04         7.250391e+03   \n",
              "min     0.000000e+00   0.000000e+00         0.000000e+00   \n",
              "25%     1.400000e+01   9.000000e+00         0.000000e+00   \n",
              "50%     2.900000e+01   1.900000e+01         0.000000e+00   \n",
              "75%     1.120000e+02   5.100000e+01         2.000000e+00   \n",
              "max     5.288266e+06   1.666062e+06         1.472277e+06   \n",
              "\n",
              "       num_creator_transfers  num_burn_transfers  num_mint_transfers  \\\n",
              "count           42172.000000        4.217200e+04        42172.000000   \n",
              "mean               25.275017        1.103921e+02          173.407379   \n",
              "std               561.747179        1.139710e+04         6612.825263   \n",
              "min                 0.000000        0.000000e+00            0.000000   \n",
              "25%                 3.000000        0.000000e+00            1.000000   \n",
              "50%                 3.000000        0.000000e+00            1.000000   \n",
              "75%                 5.000000        1.000000e+00            1.000000   \n",
              "max             88564.000000        2.321563e+06       870736.000000   \n",
              "\n",
              "       ratio_token_transfers  ratio_creator_transfers  ratio_burn_transfers  \\\n",
              "count           42172.000000             42172.000000          42172.000000   \n",
              "mean                0.082903                 0.206730              0.018692   \n",
              "std                 0.167673                 0.225893              0.065979   \n",
              "min                 0.000000                 0.000000              0.000000   \n",
              "25%                 0.000000                 0.038082              0.000000   \n",
              "50%                 0.000000                 0.130435              0.000000   \n",
              "75%                 0.037037                 0.285714              0.000072   \n",
              "max                 1.000000                 1.000000              0.890001   \n",
              "\n",
              "       ratio_mint_transfers  ...         buyers        sellers       buy_amt  \\\n",
              "count          42172.000000  ...   42172.000000   42172.000000  4.217200e+04   \n",
              "mean               0.063903  ...     179.127383      40.125249  1.210814e+24   \n",
              "std                0.116046  ...    2646.537470    1328.920697  2.431603e+26   \n",
              "min                0.000000  ...       0.000000       0.000000  0.000000e+00   \n",
              "25%                0.006250  ...       5.000000       1.000000  9.541156e+04   \n",
              "50%                0.032258  ...      13.000000       2.000000  8.521025e+07   \n",
              "75%                0.071429  ...      36.000000       5.000000  8.391393e+10   \n",
              "max                1.000000  ...  286222.000000  252709.000000  4.992489e+28   \n",
              "\n",
              "           sell_amt  pool_life_time  pool_start_block  pool_end_block  \\\n",
              "count  4.217200e+04    4.217200e+04      4.217200e+04    4.217200e+04   \n",
              "mean   2.636154e+24    4.132315e+05      1.356549e+07    1.397872e+07   \n",
              "std    4.894057e+26    1.192919e+06      1.935310e+06    1.897293e+06   \n",
              "min    0.000000e+00    0.000000e+00      1.000836e+07    1.009384e+07   \n",
              "25%    3.533144e+02    6.200000e+01      1.177644e+07    1.250990e+07   \n",
              "50%    7.568078e+06    2.850000e+02      1.352989e+07    1.447668e+07   \n",
              "75%    1.174934e+10    2.569700e+04      1.549290e+07    1.573272e+07   \n",
              "max    1.000000e+29    6.391643e+06      1.640399e+07    1.640399e+07   \n",
              "\n",
              "       pool_creation_to_swap  token_creation_to_pool_creation         label  \n",
              "count           4.217200e+04                     4.217200e+04  42172.000000  \n",
              "mean            5.253356e+03                     9.460385e+04      0.539197  \n",
              "std             1.087634e+05                     6.094826e+05      0.498467  \n",
              "min             0.000000e+00                     0.000000e+00      0.000000  \n",
              "25%             0.000000e+00                     1.000000e+01      0.000000  \n",
              "50%             5.000000e+00                     3.300000e+01      1.000000  \n",
              "75%             2.000000e+01                     2.612500e+02      1.000000  \n",
              "max             5.957883e+06                     1.143419e+07      1.000000  \n",
              "\n",
              "[8 rows x 34 columns]"
            ]
          },
          "execution_count": 73,
          "metadata": {},
          "output_type": "execute_result"
        }
      ],
      "source": [
        "trapdoor_exchange_df.describe()"
      ]
    },
    {
      "cell_type": "code",
      "execution_count": 74,
      "id": "800aab72",
      "metadata": {},
      "outputs": [
        {
          "name": "stdout",
          "output_type": "stream",
          "text": [
            "<class 'pandas.core.frame.DataFrame'>\n",
            "RangeIndex: 42172 entries, 0 to 42171\n",
            "Data columns (total 36 columns):\n",
            " #   Column                           Non-Null Count  Dtype  \n",
            "---  ------                           --------------  -----  \n",
            " 0   address                          42172 non-null  object \n",
            " 1   num_transfers                    42172 non-null  int64  \n",
            " 2   num_addresses                    42172 non-null  int64  \n",
            " 3   num_token_transfers              42172 non-null  int64  \n",
            " 4   num_creator_transfers            42172 non-null  int64  \n",
            " 5   num_burn_transfers               42172 non-null  int64  \n",
            " 6   num_mint_transfers               42172 non-null  int64  \n",
            " 7   ratio_token_transfers            42172 non-null  float64\n",
            " 8   ratio_creator_transfers          42172 non-null  float64\n",
            " 9   ratio_burn_transfers             42172 non-null  float64\n",
            " 10  ratio_mint_transfers             42172 non-null  float64\n",
            " 11  skewness_number_buy_sell         42172 non-null  float64\n",
            " 12  skewness_amt_buy_sell            42172 non-null  float64\n",
            " 13  number_of_pool                   42172 non-null  int64  \n",
            " 14  life_time                        42172 non-null  int64  \n",
            " 15  start_block                      42172 non-null  int64  \n",
            " 16  end_block                        42172 non-null  int64  \n",
            " 17  from_creation_to_transfer        42172 non-null  int64  \n",
            " 18  is_pool_same_creator             42172 non-null  bool   \n",
            " 19  num_swap                         42172 non-null  int64  \n",
            " 20  num_sync                         42172 non-null  int64  \n",
            " 21  num_mint                         42172 non-null  int64  \n",
            " 22  num_burn                         42172 non-null  int64  \n",
            " 23  num_transfer                     42172 non-null  int64  \n",
            " 24  investors                        42172 non-null  int64  \n",
            " 25  liq_providers                    42172 non-null  int64  \n",
            " 26  buyers                           42172 non-null  int64  \n",
            " 27  sellers                          42172 non-null  int64  \n",
            " 28  buy_amt                          42172 non-null  float64\n",
            " 29  sell_amt                         42172 non-null  float64\n",
            " 30  pool_life_time                   42172 non-null  int64  \n",
            " 31  pool_start_block                 42172 non-null  int64  \n",
            " 32  pool_end_block                   42172 non-null  int64  \n",
            " 33  pool_creation_to_swap            42172 non-null  int64  \n",
            " 34  token_creation_to_pool_creation  42172 non-null  int64  \n",
            " 35  label                            42172 non-null  int64  \n",
            "dtypes: bool(1), float64(8), int64(26), object(1)\n",
            "memory usage: 11.3+ MB\n"
          ]
        }
      ],
      "source": [
        "trapdoor_exchange_df.info()"
      ]
    },
    {
      "cell_type": "code",
      "execution_count": 75,
      "id": "5311133a",
      "metadata": {},
      "outputs": [
        {
          "data": {
            "application/vnd.microsoft.datawrangler.viewer.v0+json": {
              "columns": [
                {
                  "name": "index",
                  "rawType": "int64",
                  "type": "integer"
                },
                {
                  "name": "address",
                  "rawType": "object",
                  "type": "string"
                },
                {
                  "name": "block_number",
                  "rawType": "int64",
                  "type": "integer"
                },
                {
                  "name": "name",
                  "rawType": "object",
                  "type": "string"
                },
                {
                  "name": "symbol",
                  "rawType": "object",
                  "type": "string"
                },
                {
                  "name": "decimals",
                  "rawType": "int64",
                  "type": "integer"
                },
                {
                  "name": "totalSupply",
                  "rawType": "object",
                  "type": "string"
                },
                {
                  "name": "label",
                  "rawType": "int64",
                  "type": "integer"
                }
              ],
              "ref": "4f154824-afc7-428b-bd52-1695edeb297e",
              "rows": [
                [
                  "0",
                  "0x0efaf8081a332e6744755c08d0f4698840d01aeb",
                  "15794473",
                  "THE Space Doge",
                  "THESD",
                  "8",
                  "10000000000000000",
                  "1"
                ],
                [
                  "1",
                  "0x7d56ec4d5e6d6dc709e0931d4b437394d362fa36",
                  "16095021",
                  "FAFO INU",
                  "FAFO",
                  "9",
                  "100000000000000000",
                  "1"
                ],
                [
                  "2",
                  "0x0d96ccea237f30aa451f96796994055d78202463",
                  "15755529",
                  "Dubz Gaming",
                  "DUBZ",
                  "18",
                  "1000000000000000000000000000000",
                  "1"
                ],
                [
                  "3",
                  "0x6417624f31eff985a1595c964ff95d844ca2fb07",
                  "15348469",
                  "Hyakuretsu Ken",
                  "Atatatata",
                  "9",
                  "1000000000000000000",
                  "1"
                ],
                [
                  "4",
                  "0x45887c4a6d7f1347fa823dfb3e5a6a342cf5808d",
                  "10567310",
                  "XAMP DeFi",
                  "XAMD",
                  "18",
                  "10000000000000000000000000",
                  "1"
                ]
              ],
              "shape": {
                "columns": 7,
                "rows": 5
              }
            },
            "text/html": [
              "<div>\n",
              "<style scoped>\n",
              "    .dataframe tbody tr th:only-of-type {\n",
              "        vertical-align: middle;\n",
              "    }\n",
              "\n",
              "    .dataframe tbody tr th {\n",
              "        vertical-align: top;\n",
              "    }\n",
              "\n",
              "    .dataframe thead th {\n",
              "        text-align: right;\n",
              "    }\n",
              "</style>\n",
              "<table border=\"1\" class=\"dataframe\">\n",
              "  <thead>\n",
              "    <tr style=\"text-align: right;\">\n",
              "      <th></th>\n",
              "      <th>address</th>\n",
              "      <th>block_number</th>\n",
              "      <th>name</th>\n",
              "      <th>symbol</th>\n",
              "      <th>decimals</th>\n",
              "      <th>totalSupply</th>\n",
              "      <th>label</th>\n",
              "    </tr>\n",
              "  </thead>\n",
              "  <tbody>\n",
              "    <tr>\n",
              "      <th>0</th>\n",
              "      <td>0x0efaf8081a332e6744755c08d0f4698840d01aeb</td>\n",
              "      <td>15794473</td>\n",
              "      <td>THE Space Doge</td>\n",
              "      <td>THESD</td>\n",
              "      <td>8</td>\n",
              "      <td>10000000000000000</td>\n",
              "      <td>1</td>\n",
              "    </tr>\n",
              "    <tr>\n",
              "      <th>1</th>\n",
              "      <td>0x7d56ec4d5e6d6dc709e0931d4b437394d362fa36</td>\n",
              "      <td>16095021</td>\n",
              "      <td>FAFO INU</td>\n",
              "      <td>FAFO</td>\n",
              "      <td>9</td>\n",
              "      <td>100000000000000000</td>\n",
              "      <td>1</td>\n",
              "    </tr>\n",
              "    <tr>\n",
              "      <th>2</th>\n",
              "      <td>0x0d96ccea237f30aa451f96796994055d78202463</td>\n",
              "      <td>15755529</td>\n",
              "      <td>Dubz Gaming</td>\n",
              "      <td>DUBZ</td>\n",
              "      <td>18</td>\n",
              "      <td>1000000000000000000000000000000</td>\n",
              "      <td>1</td>\n",
              "    </tr>\n",
              "    <tr>\n",
              "      <th>3</th>\n",
              "      <td>0x6417624f31eff985a1595c964ff95d844ca2fb07</td>\n",
              "      <td>15348469</td>\n",
              "      <td>Hyakuretsu Ken</td>\n",
              "      <td>Atatatata</td>\n",
              "      <td>9</td>\n",
              "      <td>1000000000000000000</td>\n",
              "      <td>1</td>\n",
              "    </tr>\n",
              "    <tr>\n",
              "      <th>4</th>\n",
              "      <td>0x45887c4a6d7f1347fa823dfb3e5a6a342cf5808d</td>\n",
              "      <td>10567310</td>\n",
              "      <td>XAMP DeFi</td>\n",
              "      <td>XAMD</td>\n",
              "      <td>18</td>\n",
              "      <td>10000000000000000000000000</td>\n",
              "      <td>1</td>\n",
              "    </tr>\n",
              "  </tbody>\n",
              "</table>\n",
              "</div>"
            ],
            "text/plain": [
              "                                      address  block_number            name  \\\n",
              "0  0x0efaf8081a332e6744755c08d0f4698840d01aeb      15794473  THE Space Doge   \n",
              "1  0x7d56ec4d5e6d6dc709e0931d4b437394d362fa36      16095021        FAFO INU   \n",
              "2  0x0d96ccea237f30aa451f96796994055d78202463      15755529     Dubz Gaming   \n",
              "3  0x6417624f31eff985a1595c964ff95d844ca2fb07      15348469  Hyakuretsu Ken   \n",
              "4  0x45887c4a6d7f1347fa823dfb3e5a6a342cf5808d      10567310       XAMP DeFi   \n",
              "\n",
              "      symbol  decimals                      totalSupply  label  \n",
              "0      THESD         8                10000000000000000      1  \n",
              "1       FAFO         9               100000000000000000      1  \n",
              "2       DUBZ        18  1000000000000000000000000000000      1  \n",
              "3  Atatatata         9              1000000000000000000      1  \n",
              "4       XAMD        18       10000000000000000000000000      1  "
            ]
          },
          "execution_count": 75,
          "metadata": {},
          "output_type": "execute_result"
        }
      ],
      "source": [
        "trapdoor_expansion_df.head()"
      ]
    },
    {
      "cell_type": "code",
      "execution_count": 76,
      "id": "fafb3e7e",
      "metadata": {},
      "outputs": [
        {
          "data": {
            "application/vnd.microsoft.datawrangler.viewer.v0+json": {
              "columns": [
                {
                  "name": "index",
                  "rawType": "object",
                  "type": "string"
                },
                {
                  "name": "block_number",
                  "rawType": "float64",
                  "type": "float"
                },
                {
                  "name": "decimals",
                  "rawType": "float64",
                  "type": "float"
                },
                {
                  "name": "label",
                  "rawType": "float64",
                  "type": "float"
                }
              ],
              "ref": "02d83e8d-54d1-49cc-84d7-f9725681e41b",
              "rows": [
                [
                  "count",
                  "10796.0",
                  "10796.0",
                  "10796.0"
                ],
                [
                  "mean",
                  "14339513.005742868",
                  "12.964523897739904",
                  "1.0"
                ],
                [
                  "std",
                  "1952011.2664471508",
                  "4.808875273328113",
                  "0.0"
                ],
                [
                  "min",
                  "7204812.0",
                  "0.0",
                  "1.0"
                ],
                [
                  "25%",
                  "13224973.0",
                  "9.0",
                  "1.0"
                ],
                [
                  "50%",
                  "15246378.5",
                  "9.0",
                  "1.0"
                ],
                [
                  "75%",
                  "15795649.0",
                  "18.0",
                  "1.0"
                ],
                [
                  "max",
                  "16403991.0",
                  "32.0",
                  "1.0"
                ]
              ],
              "shape": {
                "columns": 3,
                "rows": 8
              }
            },
            "text/html": [
              "<div>\n",
              "<style scoped>\n",
              "    .dataframe tbody tr th:only-of-type {\n",
              "        vertical-align: middle;\n",
              "    }\n",
              "\n",
              "    .dataframe tbody tr th {\n",
              "        vertical-align: top;\n",
              "    }\n",
              "\n",
              "    .dataframe thead th {\n",
              "        text-align: right;\n",
              "    }\n",
              "</style>\n",
              "<table border=\"1\" class=\"dataframe\">\n",
              "  <thead>\n",
              "    <tr style=\"text-align: right;\">\n",
              "      <th></th>\n",
              "      <th>block_number</th>\n",
              "      <th>decimals</th>\n",
              "      <th>label</th>\n",
              "    </tr>\n",
              "  </thead>\n",
              "  <tbody>\n",
              "    <tr>\n",
              "      <th>count</th>\n",
              "      <td>1.079600e+04</td>\n",
              "      <td>10796.000000</td>\n",
              "      <td>10796.0</td>\n",
              "    </tr>\n",
              "    <tr>\n",
              "      <th>mean</th>\n",
              "      <td>1.433951e+07</td>\n",
              "      <td>12.964524</td>\n",
              "      <td>1.0</td>\n",
              "    </tr>\n",
              "    <tr>\n",
              "      <th>std</th>\n",
              "      <td>1.952011e+06</td>\n",
              "      <td>4.808875</td>\n",
              "      <td>0.0</td>\n",
              "    </tr>\n",
              "    <tr>\n",
              "      <th>min</th>\n",
              "      <td>7.204812e+06</td>\n",
              "      <td>0.000000</td>\n",
              "      <td>1.0</td>\n",
              "    </tr>\n",
              "    <tr>\n",
              "      <th>25%</th>\n",
              "      <td>1.322497e+07</td>\n",
              "      <td>9.000000</td>\n",
              "      <td>1.0</td>\n",
              "    </tr>\n",
              "    <tr>\n",
              "      <th>50%</th>\n",
              "      <td>1.524638e+07</td>\n",
              "      <td>9.000000</td>\n",
              "      <td>1.0</td>\n",
              "    </tr>\n",
              "    <tr>\n",
              "      <th>75%</th>\n",
              "      <td>1.579565e+07</td>\n",
              "      <td>18.000000</td>\n",
              "      <td>1.0</td>\n",
              "    </tr>\n",
              "    <tr>\n",
              "      <th>max</th>\n",
              "      <td>1.640399e+07</td>\n",
              "      <td>32.000000</td>\n",
              "      <td>1.0</td>\n",
              "    </tr>\n",
              "  </tbody>\n",
              "</table>\n",
              "</div>"
            ],
            "text/plain": [
              "       block_number      decimals    label\n",
              "count  1.079600e+04  10796.000000  10796.0\n",
              "mean   1.433951e+07     12.964524      1.0\n",
              "std    1.952011e+06      4.808875      0.0\n",
              "min    7.204812e+06      0.000000      1.0\n",
              "25%    1.322497e+07      9.000000      1.0\n",
              "50%    1.524638e+07      9.000000      1.0\n",
              "75%    1.579565e+07     18.000000      1.0\n",
              "max    1.640399e+07     32.000000      1.0"
            ]
          },
          "execution_count": 76,
          "metadata": {},
          "output_type": "execute_result"
        }
      ],
      "source": [
        "trapdoor_expansion_df.describe()"
      ]
    },
    {
      "cell_type": "code",
      "execution_count": 77,
      "id": "c97bf133",
      "metadata": {},
      "outputs": [
        {
          "name": "stdout",
          "output_type": "stream",
          "text": [
            "<class 'pandas.core.frame.DataFrame'>\n",
            "RangeIndex: 10796 entries, 0 to 10795\n",
            "Data columns (total 7 columns):\n",
            " #   Column        Non-Null Count  Dtype \n",
            "---  ------        --------------  ----- \n",
            " 0   address       10796 non-null  object\n",
            " 1   block_number  10796 non-null  int64 \n",
            " 2   name          10795 non-null  object\n",
            " 3   symbol        10792 non-null  object\n",
            " 4   decimals      10796 non-null  int64 \n",
            " 5   totalSupply   10796 non-null  object\n",
            " 6   label         10796 non-null  int64 \n",
            "dtypes: int64(3), object(4)\n",
            "memory usage: 590.5+ KB\n"
          ]
        }
      ],
      "source": [
        "trapdoor_expansion_df.info()"
      ]
    },
    {
      "cell_type": "markdown",
      "id": "19c479b3",
      "metadata": {},
      "source": [
        "#### Volumn between each components"
      ]
    },
    {
      "cell_type": "code",
      "execution_count": 78,
      "id": "79340f33",
      "metadata": {},
      "outputs": [
        {
          "data": {
            "text/plain": [
              "<matplotlib_venn._common.VennDiagram at 0x129c06630>"
            ]
          },
          "execution_count": 78,
          "metadata": {},
          "output_type": "execute_result"
        },
        {
          "data": {
            "image/png": "[encoded data removed]",
            "text/plain": [
              "<Figure size 640x480 with 1 Axes>"
            ]
          },
          "metadata": {},
          "output_type": "display_data"
        }
      ],
      "source": [
        "venn3([set(trapdoor_verified_df['address']), set(trapdoor_opcode_df['address']), set(trapdoor_opcode_df['address'])], ('verify set', 'opcode set', 'exchange set'))"
      ]
    },
    {
      "cell_type": "code",
      "execution_count": 79,
      "id": "32b3435d",
      "metadata": {},
      "outputs": [
        {
          "data": {
            "text/plain": [
              "<matplotlib_venn._common.VennDiagram at 0x129c3c920>"
            ]
          },
          "execution_count": 79,
          "metadata": {},
          "output_type": "execute_result"
        },
        {
          "data": {
            "image/png": "[encoded data removed]",
            "text/plain": [
              "<Figure size 640x480 with 1 Axes>"
            ]
          },
          "metadata": {},
          "output_type": "display_data"
        }
      ],
      "source": [
        "venn3([set(trapdoor_verified_df['address']), set(trapdoor_expansion_df['address']), set(trapdoor_opcode_df['address'])], ('verify set', 'expandion set', 'exchange set'))"
      ]
    },
    {
      "cell_type": "code",
      "execution_count": 80,
      "id": "1ebc1110",
      "metadata": {},
      "outputs": [
        {
          "data": {
            "text/plain": [
              "<matplotlib_venn._common.VennDiagram at 0x129b4cd10>"
            ]
          },
          "execution_count": 80,
          "metadata": {},
          "output_type": "execute_result"
        },
        {
          "data": {
            "image/png": "[encoded data removed]",
            "text/plain": [
              "<Figure size 640x480 with 1 Axes>"
            ]
          },
          "metadata": {},
          "output_type": "display_data"
        }
      ],
      "source": [
        "venn3([set(trapdoor_exchange_df['address']), set(trapdoor_al_df['address']), set(trapdoor_ep_df['address'])], ('verify set', 'al set', 'ep set'))"
      ]
    },
    {
      "cell_type": "code",
      "execution_count": 81,
      "id": "dfa1db41",
      "metadata": {},
      "outputs": [
        {
          "data": {
            "text/plain": [
              "<matplotlib_venn._common.VennDiagram at 0x129d586e0>"
            ]
          },
          "execution_count": 81,
          "metadata": {},
          "output_type": "execute_result"
        },
        {
          "data": {
            "image/png": "[encoded data removed]",
            "text/plain": [
              "<Figure size 640x480 with 1 Axes>"
            ]
          },
          "metadata": {},
          "output_type": "display_data"
        }
      ],
      "source": [
        "venn3([set(trapdoor_exchange_df['address']), set(trapdoor_es_df['address']), set(trapdoor_fm_df['address'])], ('verify set', 'es set', 'fm set'))"
      ]
    },
    {
      "cell_type": "code",
      "execution_count": 82,
      "id": "39d392f5",
      "metadata": {},
      "outputs": [
        {
          "data": {
            "text/plain": [
              "<matplotlib_venn._common.VennDiagram at 0x129c068d0>"
            ]
          },
          "execution_count": 82,
          "metadata": {},
          "output_type": "execute_result"
        },
        {
          "data": {
            "image/png": "[encoded data removed]",
            "text/plain": [
              "<Figure size 640x480 with 1 Axes>"
            ]
          },
          "metadata": {},
          "output_type": "display_data"
        }
      ],
      "source": [
        "venn2([set(trapdoor_exchange_df['address']), set(trapdoor_ic_df['address'])], ('verify set', 'ic set'))"
      ]
    },
    {
      "cell_type": "markdown",
      "id": "a9bf6899",
      "metadata": {},
      "source": [
        "#### Label Distribution"
      ]
    },
    {
      "cell_type": "code",
      "execution_count": 83,
      "id": "9d1fe2f6",
      "metadata": {},
      "outputs": [
        {
          "data": {
            "application/vnd.microsoft.datawrangler.viewer.v0+json": {
              "columns": [
                {
                  "name": "label",
                  "rawType": "int64",
                  "type": "integer"
                },
                {
                  "name": "count",
                  "rawType": "int64",
                  "type": "integer"
                }
              ],
              "ref": "3aeded52-66d0-4e85-b124-5b94affe31b6",
              "rows": [
                [
                  "1",
                  "22739"
                ],
                [
                  "0",
                  "19433"
                ]
              ],
              "shape": {
                "columns": 1,
                "rows": 2
              }
            },
            "text/plain": [
              "label\n",
              "1    22739\n",
              "0    19433\n",
              "Name: count, dtype: int64"
            ]
          },
          "execution_count": 83,
          "metadata": {},
          "output_type": "execute_result"
        }
      ],
      "source": [
        "trapdoor_exchange_df['label'].value_counts()"
      ]
    },
    {
      "cell_type": "code",
      "execution_count": 84,
      "id": "520585bc",
      "metadata": {},
      "outputs": [
        {
          "data": {
            "text/plain": [
              "<Axes: xlabel='label', ylabel='count'>"
            ]
          },
          "execution_count": 84,
          "metadata": {},
          "output_type": "execute_result"
        },
        {
          "data": {
            "image/png": "[encoded data removed]",
            "text/plain": [
              "<Figure size 640x480 with 1 Axes>"
            ]
          },
          "metadata": {},
          "output_type": "display_data"
        }
      ],
      "source": [
        "sns.countplot(trapdoor_exchange_df, x='label', palette='Set2')"
      ]
    },
    {
      "cell_type": "code",
      "execution_count": 85,
      "id": "7fdb2b50",
      "metadata": {},
      "outputs": [
        {
          "data": {
            "text/plain": [
              "<Axes: xlabel='label', ylabel='count'>"
            ]
          },
          "execution_count": 85,
          "metadata": {},
          "output_type": "execute_result"
        },
        {
          "data": {
            "image/png": "[encoded data removed]",
            "text/plain": [
              "<Figure size 640x480 with 1 Axes>"
            ]
          },
          "metadata": {},
          "output_type": "display_data"
        }
      ],
      "source": [
        "sns.countplot(trapdoor_al_df, x='label', palette='Set2')"
      ]
    },
    {
      "cell_type": "code",
      "execution_count": 86,
      "id": "90262dff",
      "metadata": {},
      "outputs": [
        {
          "data": {
            "text/plain": [
              "<Axes: xlabel='label', ylabel='count'>"
            ]
          },
          "execution_count": 86,
          "metadata": {},
          "output_type": "execute_result"
        },
        {
          "data": {
            "image/png": "[encoded data removed]",
            "text/plain": [
              "<Figure size 640x480 with 1 Axes>"
            ]
          },
          "metadata": {},
          "output_type": "display_data"
        }
      ],
      "source": [
        "sns.countplot(trapdoor_ep_df, x='label', palette='Set2')"
      ]
    },
    {
      "cell_type": "code",
      "execution_count": 87,
      "id": "2eb0d01b",
      "metadata": {},
      "outputs": [
        {
          "data": {
            "text/plain": [
              "<Axes: xlabel='label', ylabel='count'>"
            ]
          },
          "execution_count": 87,
          "metadata": {},
          "output_type": "execute_result"
        },
        {
          "data": {
            "image/png": "[encoded data removed]",
            "text/plain": [
              "<Figure size 640x480 with 1 Axes>"
            ]
          },
          "metadata": {},
          "output_type": "display_data"
        }
      ],
      "source": [
        "sns.countplot(trapdoor_es_df, x='label', palette='Set2')"
      ]
    },
    {
      "cell_type": "code",
      "execution_count": 88,
      "id": "86f4c4b7",
      "metadata": {},
      "outputs": [
        {
          "data": {
            "text/plain": [
              "<Axes: xlabel='label', ylabel='count'>"
            ]
          },
          "execution_count": 88,
          "metadata": {},
          "output_type": "execute_result"
        },
        {
          "data": {
            "image/png": "[encoded data removed]",
            "text/plain": [
              "<Figure size 640x480 with 1 Axes>"
            ]
          },
          "metadata": {},
          "output_type": "display_data"
        }
      ],
      "source": [
        "sns.countplot(trapdoor_fm_df, x='label', palette='Set2')"
      ]
    },
    {
      "cell_type": "code",
      "execution_count": 89,
      "id": "8766ba8b",
      "metadata": {},
      "outputs": [
        {
          "data": {
            "text/plain": [
              "<Axes: xlabel='label', ylabel='count'>"
            ]
          },
          "execution_count": 89,
          "metadata": {},
          "output_type": "execute_result"
        },
        {
          "data": {
            "image/png": "[encoded data removed]",
            "text/plain": [
              "<Figure size 640x480 with 1 Axes>"
            ]
          },
          "metadata": {},
          "output_type": "display_data"
        }
      ],
      "source": [
        "sns.countplot(trapdoor_ic_df, x='label', palette='Set2')"
      ]
    },
    {
      "cell_type": "markdown",
      "id": "966fa115",
      "metadata": {},
      "source": [
        "#### Map Labels"
      ]
    },
    {
      "cell_type": "code",
      "execution_count": 90,
      "id": "bf895019",
      "metadata": {},
      "outputs": [],
      "source": [
        "df_renamed = trapdoor_exchange_df[['address', 'label']].rename(columns={'label': 'Trapdoor'})\n",
        "ep_renamed = trapdoor_ep_df[['address', 'label']].rename(columns={'label': 'Exchange Permission'})\n",
        "es_renamed = trapdoor_es_df[['address', 'label']].rename(columns={'label': 'Exchange Suspension'})\n",
        "al_renamed = trapdoor_al_df[['address', 'label']].rename(columns={'label': 'Amount Limit'})\n",
        "fm_renamed = trapdoor_al_df[['address', 'label']].rename(columns={'label': 'Fee Manipulation'})\n",
        "ic_renamed = trapdoor_ic_df[['address', 'label']].rename(columns={'label': 'Invalid Callback'})"
      ]
    },
    {
      "cell_type": "code",
      "execution_count": 91,
      "id": "f87d5143",
      "metadata": {},
      "outputs": [
        {
          "data": {
            "application/vnd.microsoft.datawrangler.viewer.v0+json": {
              "columns": [
                {
                  "name": "index",
                  "rawType": "int64",
                  "type": "integer"
                },
                {
                  "name": "address",
                  "rawType": "object",
                  "type": "string"
                },
                {
                  "name": "Trapdoor",
                  "rawType": "int64",
                  "type": "integer"
                },
                {
                  "name": "Exchange Permission",
                  "rawType": "float64",
                  "type": "float"
                },
                {
                  "name": "Exchange Suspension",
                  "rawType": "float64",
                  "type": "float"
                },
                {
                  "name": "Amount Limit",
                  "rawType": "float64",
                  "type": "float"
                },
                {
                  "name": "Fee Manipulation",
                  "rawType": "float64",
                  "type": "float"
                },
                {
                  "name": "Invalid Callback",
                  "rawType": "float64",
                  "type": "float"
                }
              ],
              "ref": "632d41e0-35b3-46df-869e-e8a9ac9d1385",
              "rows": [
                [
                  "0",
                  "0x5674d4536fcd7a924696078b15865c4fab9f3597",
                  "1",
                  "1.0",
                  "0.0",
                  "0.0",
                  "0.0",
                  "0.0"
                ],
                [
                  "1",
                  "0xbb7f05aa2dd33425ea0848cda8e4ea54718c6336",
                  "1",
                  "1.0",
                  "0.0",
                  "0.0",
                  "0.0",
                  "0.0"
                ],
                [
                  "2",
                  "0x801427e0b00c5aa46f96550e1e33ad7f00077e19",
                  "1",
                  "1.0",
                  "0.0",
                  "0.0",
                  "0.0",
                  "0.0"
                ],
                [
                  "3",
                  "0x1b49dc534fa67d0c23f6bd0601f8c8142f8306d0",
                  "1",
                  "1.0",
                  "0.0",
                  "0.0",
                  "0.0",
                  "0.0"
                ],
                [
                  "4",
                  "0xf3afd0feac711f754d430de41ec0c7314a397ca1",
                  "1",
                  "1.0",
                  "0.0",
                  "0.0",
                  "0.0",
                  "0.0"
                ]
              ],
              "shape": {
                "columns": 7,
                "rows": 5
              }
            },
            "text/html": [
              "<div>\n",
              "<style scoped>\n",
              "    .dataframe tbody tr th:only-of-type {\n",
              "        vertical-align: middle;\n",
              "    }\n",
              "\n",
              "    .dataframe tbody tr th {\n",
              "        vertical-align: top;\n",
              "    }\n",
              "\n",
              "    .dataframe thead th {\n",
              "        text-align: right;\n",
              "    }\n",
              "</style>\n",
              "<table border=\"1\" class=\"dataframe\">\n",
              "  <thead>\n",
              "    <tr style=\"text-align: right;\">\n",
              "      <th></th>\n",
              "      <th>address</th>\n",
              "      <th>Trapdoor</th>\n",
              "      <th>Exchange Permission</th>\n",
              "      <th>Exchange Suspension</th>\n",
              "      <th>Amount Limit</th>\n",
              "      <th>Fee Manipulation</th>\n",
              "      <th>Invalid Callback</th>\n",
              "    </tr>\n",
              "  </thead>\n",
              "  <tbody>\n",
              "    <tr>\n",
              "      <th>0</th>\n",
              "      <td>0x5674d4536fcd7a924696078b15865c4fab9f3597</td>\n",
              "      <td>1</td>\n",
              "      <td>1.0</td>\n",
              "      <td>0.0</td>\n",
              "      <td>0.0</td>\n",
              "      <td>0.0</td>\n",
              "      <td>0.0</td>\n",
              "    </tr>\n",
              "    <tr>\n",
              "      <th>1</th>\n",
              "      <td>0xbb7f05aa2dd33425ea0848cda8e4ea54718c6336</td>\n",
              "      <td>1</td>\n",
              "      <td>1.0</td>\n",
              "      <td>0.0</td>\n",
              "      <td>0.0</td>\n",
              "      <td>0.0</td>\n",
              "      <td>0.0</td>\n",
              "    </tr>\n",
              "    <tr>\n",
              "      <th>2</th>\n",
              "      <td>0x801427e0b00c5aa46f96550e1e33ad7f00077e19</td>\n",
              "      <td>1</td>\n",
              "      <td>1.0</td>\n",
              "      <td>0.0</td>\n",
              "      <td>0.0</td>\n",
              "      <td>0.0</td>\n",
              "      <td>0.0</td>\n",
              "    </tr>\n",
              "    <tr>\n",
              "      <th>3</th>\n",
              "      <td>0x1b49dc534fa67d0c23f6bd0601f8c8142f8306d0</td>\n",
              "      <td>1</td>\n",
              "      <td>1.0</td>\n",
              "      <td>0.0</td>\n",
              "      <td>0.0</td>\n",
              "      <td>0.0</td>\n",
              "      <td>0.0</td>\n",
              "    </tr>\n",
              "    <tr>\n",
              "      <th>4</th>\n",
              "      <td>0xf3afd0feac711f754d430de41ec0c7314a397ca1</td>\n",
              "      <td>1</td>\n",
              "      <td>1.0</td>\n",
              "      <td>0.0</td>\n",
              "      <td>0.0</td>\n",
              "      <td>0.0</td>\n",
              "      <td>0.0</td>\n",
              "    </tr>\n",
              "  </tbody>\n",
              "</table>\n",
              "</div>"
            ],
            "text/plain": [
              "                                      address  Trapdoor  Exchange Permission  \\\n",
              "0  0x5674d4536fcd7a924696078b15865c4fab9f3597         1                  1.0   \n",
              "1  0xbb7f05aa2dd33425ea0848cda8e4ea54718c6336         1                  1.0   \n",
              "2  0x801427e0b00c5aa46f96550e1e33ad7f00077e19         1                  1.0   \n",
              "3  0x1b49dc534fa67d0c23f6bd0601f8c8142f8306d0         1                  1.0   \n",
              "4  0xf3afd0feac711f754d430de41ec0c7314a397ca1         1                  1.0   \n",
              "\n",
              "   Exchange Suspension  Amount Limit  Fee Manipulation  Invalid Callback  \n",
              "0                  0.0           0.0               0.0               0.0  \n",
              "1                  0.0           0.0               0.0               0.0  \n",
              "2                  0.0           0.0               0.0               0.0  \n",
              "3                  0.0           0.0               0.0               0.0  \n",
              "4                  0.0           0.0               0.0               0.0  "
            ]
          },
          "execution_count": 91,
          "metadata": {},
          "output_type": "execute_result"
        }
      ],
      "source": [
        "trapdoor_df = df_renamed.merge(ep_renamed, on='address', how='left')\n",
        "trapdoor_df = trapdoor_df.merge(es_renamed, on='address', how='left')\n",
        "trapdoor_df = trapdoor_df.merge(al_renamed, on='address', how='left')\n",
        "trapdoor_df = trapdoor_df.merge(fm_renamed, on='address', how='left')\n",
        "trapdoor_df = trapdoor_df.merge(ic_renamed, on='address', how='left')\n",
        "trapdoor_df.head()"
      ]
    },
    {
      "cell_type": "code",
      "execution_count": 92,
      "id": "cc4d9dd3",
      "metadata": {},
      "outputs": [
        {
          "name": "stdout",
          "output_type": "stream",
          "text": [
            "<class 'pandas.core.frame.DataFrame'>\n",
            "RangeIndex: 42172 entries, 0 to 42171\n",
            "Data columns (total 7 columns):\n",
            " #   Column               Non-Null Count  Dtype  \n",
            "---  ------               --------------  -----  \n",
            " 0   address              42172 non-null  object \n",
            " 1   Trapdoor             42172 non-null  int64  \n",
            " 2   Exchange Permission  22739 non-null  float64\n",
            " 3   Exchange Suspension  22739 non-null  float64\n",
            " 4   Amount Limit         22739 non-null  float64\n",
            " 5   Fee Manipulation     22739 non-null  float64\n",
            " 6   Invalid Callback     22739 non-null  float64\n",
            "dtypes: float64(5), int64(1), object(1)\n",
            "memory usage: 2.3+ MB\n"
          ]
        }
      ],
      "source": [
        "trapdoor_df.info()"
      ]
    },
    {
      "cell_type": "code",
      "execution_count": 93,
      "id": "9012924f",
      "metadata": {},
      "outputs": [],
      "source": [
        "trapdoor_df = trapdoor_df.rename(columns={'address': 'Address'})"
      ]
    },
    {
      "cell_type": "code",
      "execution_count": 94,
      "id": "9609db84",
      "metadata": {},
      "outputs": [
        {
          "data": {
            "application/vnd.microsoft.datawrangler.viewer.v0+json": {
              "columns": [
                {
                  "name": "index",
                  "rawType": "int64",
                  "type": "integer"
                },
                {
                  "name": "Address",
                  "rawType": "object",
                  "type": "string"
                },
                {
                  "name": "Trapdoor",
                  "rawType": "int64",
                  "type": "integer"
                },
                {
                  "name": "Exchange Permission",
                  "rawType": "float64",
                  "type": "float"
                },
                {
                  "name": "Exchange Suspension",
                  "rawType": "float64",
                  "type": "float"
                },
                {
                  "name": "Amount Limit",
                  "rawType": "float64",
                  "type": "float"
                },
                {
                  "name": "Fee Manipulation",
                  "rawType": "float64",
                  "type": "float"
                },
                {
                  "name": "Invalid Callback",
                  "rawType": "float64",
                  "type": "float"
                }
              ],
              "ref": "41f780aa-d623-408b-bb74-6c1d0c1ca663",
              "rows": [
                [
                  "22739",
                  "0x741657bd4b268e4abb39a4a8720454dcb370d533",
                  "0",
                  null,
                  null,
                  null,
                  null,
                  null
                ],
                [
                  "22740",
                  "0xe2496b97adfc69dcb4631f7b1d7fc975f38f23ce",
                  "0",
                  null,
                  null,
                  null,
                  null,
                  null
                ],
                [
                  "22741",
                  "0x7f388eadcbd1063acda82492ec6ad06c35759898",
                  "0",
                  null,
                  null,
                  null,
                  null,
                  null
                ],
                [
                  "22742",
                  "0xd3239cb876ae9d7da7918a3a076cba3b02eda652",
                  "0",
                  null,
                  null,
                  null,
                  null,
                  null
                ],
                [
                  "22743",
                  "0x1216f986e1524d7875dd76d613a4652e2c23a791",
                  "0",
                  null,
                  null,
                  null,
                  null,
                  null
                ],
                [
                  "22744",
                  "0x4824305772d14c4a41ab8c52526becd66eb7cba2",
                  "0",
                  null,
                  null,
                  null,
                  null,
                  null
                ],
                [
                  "22745",
                  "0x6815a776bd80e4b56c39ea4345ce119055632644",
                  "0",
                  null,
                  null,
                  null,
                  null,
                  null
                ],
                [
                  "22746",
                  "0x6522dd46a06191076f8fb4fd8c62cd508920b42f",
                  "0",
                  null,
                  null,
                  null,
                  null,
                  null
                ],
                [
                  "22747",
                  "0x24c2a018c7424739dcabde404553be32538f8cad",
                  "0",
                  null,
                  null,
                  null,
                  null,
                  null
                ],
                [
                  "22748",
                  "0xabf947280c47c52ba6e2d03648cc0b41ba96a8aa",
                  "0",
                  null,
                  null,
                  null,
                  null,
                  null
                ],
                [
                  "22749",
                  "0xf5b5efc906513b4344ebabcf47a04901f99f09f3",
                  "0",
                  null,
                  null,
                  null,
                  null,
                  null
                ],
                [
                  "22750",
                  "0xfb0b7ace95aa48cf33db4bebbae82cc3215155d3",
                  "0",
                  null,
                  null,
                  null,
                  null,
                  null
                ],
                [
                  "22751",
                  "0xe061d1a4069242b02ce48c55bdb130262cdeb341",
                  "0",
                  null,
                  null,
                  null,
                  null,
                  null
                ],
                [
                  "22752",
                  "0x7f948b83b4a5864553984efddc74f674f738f068",
                  "0",
                  null,
                  null,
                  null,
                  null,
                  null
                ],
                [
                  "22753",
                  "0x3d0fe799287d2e5379f034a3047ab71cab86d008",
                  "0",
                  null,
                  null,
                  null,
                  null,
                  null
                ],
                [
                  "22754",
                  "0x6026df0530e85046dac253f41a6867174bb13a44",
                  "0",
                  null,
                  null,
                  null,
                  null,
                  null
                ],
                [
                  "22755",
                  "0xb07df6c28d847861b61533cb4878e7eee765a6d0",
                  "0",
                  null,
                  null,
                  null,
                  null,
                  null
                ],
                [
                  "22756",
                  "0xad6db2bccf9e929c0857c545ec84360faee61f0a",
                  "0",
                  null,
                  null,
                  null,
                  null,
                  null
                ],
                [
                  "22757",
                  "0x3dc9a42fa7afe57be03c58fd7f4411b1e466c508",
                  "0",
                  null,
                  null,
                  null,
                  null,
                  null
                ],
                [
                  "22758",
                  "0x85f6eb2bd5a062f5f8560be93fb7147e16c81472",
                  "0",
                  null,
                  null,
                  null,
                  null,
                  null
                ],
                [
                  "22759",
                  "0x2d53e7a003b59bd6a036fddd6a25786c9bd37035",
                  "0",
                  null,
                  null,
                  null,
                  null,
                  null
                ],
                [
                  "22760",
                  "0x16d85679defa6a120a6691bd575ba60f4e76ba69",
                  "0",
                  null,
                  null,
                  null,
                  null,
                  null
                ],
                [
                  "22761",
                  "0x7ef251ff04af17692abc266d70c695fa9340da92",
                  "0",
                  null,
                  null,
                  null,
                  null,
                  null
                ],
                [
                  "22762",
                  "0xd83dfe003e7c42077186d690dd3d24a0c965ca4e",
                  "0",
                  null,
                  null,
                  null,
                  null,
                  null
                ],
                [
                  "22763",
                  "0xbbf6e33c93f1725daac01993e74be1a765b4c150",
                  "0",
                  null,
                  null,
                  null,
                  null,
                  null
                ],
                [
                  "22764",
                  "0x50beed7c0f563700edafa70d31c278a133db1e57",
                  "0",
                  null,
                  null,
                  null,
                  null,
                  null
                ],
                [
                  "22765",
                  "0xffcf2b929876dcf3ce2cb9b150382fb5ed52a377",
                  "0",
                  null,
                  null,
                  null,
                  null,
                  null
                ],
                [
                  "22766",
                  "0x55e3d45c17db30963a49096bbe8c6abde47c1fab",
                  "0",
                  null,
                  null,
                  null,
                  null,
                  null
                ],
                [
                  "22767",
                  "0x27c70cd1946795b66be9d954418546998b546634",
                  "0",
                  null,
                  null,
                  null,
                  null,
                  null
                ],
                [
                  "22768",
                  "0xd5562371b854fe0b2a19be9c53957cabeac742a7",
                  "0",
                  null,
                  null,
                  null,
                  null,
                  null
                ],
                [
                  "22769",
                  "0xc2dd62b809de9409fda30d5c222b1f30a850ed84",
                  "0",
                  null,
                  null,
                  null,
                  null,
                  null
                ],
                [
                  "22770",
                  "0xe583f40c7d88c770942883a4a553017a7026afcb",
                  "0",
                  null,
                  null,
                  null,
                  null,
                  null
                ],
                [
                  "22771",
                  "0xa1990dbcb8ec3f2f2af3132ba94a185a480b2c2a",
                  "0",
                  null,
                  null,
                  null,
                  null,
                  null
                ],
                [
                  "22772",
                  "0xd8b98032f2220e1ddcc65371c0a7b9fa7391d347",
                  "0",
                  null,
                  null,
                  null,
                  null,
                  null
                ],
                [
                  "22773",
                  "0x8d7861e642b556ffd7e4cc23d55b58acb60cbab5",
                  "0",
                  null,
                  null,
                  null,
                  null,
                  null
                ],
                [
                  "22774",
                  "0x3ebdca4c423cea6003602f343ef4871953fce32d",
                  "0",
                  null,
                  null,
                  null,
                  null,
                  null
                ],
                [
                  "22775",
                  "0x4d5e087292220d9c3a9214e26196886ce6d2fbbd",
                  "0",
                  null,
                  null,
                  null,
                  null,
                  null
                ],
                [
                  "22776",
                  "0xb53f13d12f1f7075184079a69fc716cebe360829",
                  "0",
                  null,
                  null,
                  null,
                  null,
                  null
                ],
                [
                  "22777",
                  "0x08b4a75b8b644d9101be2b79777feb44e39e273b",
                  "0",
                  null,
                  null,
                  null,
                  null,
                  null
                ],
                [
                  "22778",
                  "0xa9851f6153e28e5faf69c53dbfff6283e55c74db",
                  "0",
                  null,
                  null,
                  null,
                  null,
                  null
                ],
                [
                  "22779",
                  "0xf8c0bb1de17ac1bf5259a335a7413bccf5f174ee",
                  "0",
                  null,
                  null,
                  null,
                  null,
                  null
                ],
                [
                  "22780",
                  "0xe46e5e547e17449d124d7a95646e4184181558ba",
                  "0",
                  null,
                  null,
                  null,
                  null,
                  null
                ],
                [
                  "22781",
                  "0xdd6071163b59023f3578aeabe4760d711e88b092",
                  "0",
                  null,
                  null,
                  null,
                  null,
                  null
                ],
                [
                  "22782",
                  "0x0d05f8db99423638fbb69c6208d76c678df0f3a5",
                  "0",
                  null,
                  null,
                  null,
                  null,
                  null
                ],
                [
                  "22783",
                  "0x247074f8d682e9c59c029c2e109a5f69f00f4551",
                  "0",
                  null,
                  null,
                  null,
                  null,
                  null
                ],
                [
                  "22784",
                  "0xcefd660cec8463e285fbf38ac250209b25f940b3",
                  "0",
                  null,
                  null,
                  null,
                  null,
                  null
                ],
                [
                  "22785",
                  "0x1089cc742f0f9712eb64d01bde67e82a800d2f77",
                  "0",
                  null,
                  null,
                  null,
                  null,
                  null
                ],
                [
                  "22786",
                  "0x8f37f5b4c041bd5d3ee1e1117fa4f07a356653dd",
                  "0",
                  null,
                  null,
                  null,
                  null,
                  null
                ],
                [
                  "22787",
                  "0xd043f70ff0634167db1149b15e5668f5be52d72c",
                  "0",
                  null,
                  null,
                  null,
                  null,
                  null
                ],
                [
                  "22788",
                  "0x85845b9ac1102c79f77c97db09d96123c1bcd729",
                  "0",
                  null,
                  null,
                  null,
                  null,
                  null
                ]
              ],
              "shape": {
                "columns": 7,
                "rows": 19433
              }
            },
            "text/html": [
              "<div>\n",
              "<style scoped>\n",
              "    .dataframe tbody tr th:only-of-type {\n",
              "        vertical-align: middle;\n",
              "    }\n",
              "\n",
              "    .dataframe tbody tr th {\n",
              "        vertical-align: top;\n",
              "    }\n",
              "\n",
              "    .dataframe thead th {\n",
              "        text-align: right;\n",
              "    }\n",
              "</style>\n",
              "<table border=\"1\" class=\"dataframe\">\n",
              "  <thead>\n",
              "    <tr style=\"text-align: right;\">\n",
              "      <th></th>\n",
              "      <th>Address</th>\n",
              "      <th>Trapdoor</th>\n",
              "      <th>Exchange Permission</th>\n",
              "      <th>Exchange Suspension</th>\n",
              "      <th>Amount Limit</th>\n",
              "      <th>Fee Manipulation</th>\n",
              "      <th>Invalid Callback</th>\n",
              "    </tr>\n",
              "  </thead>\n",
              "  <tbody>\n",
              "    <tr>\n",
              "      <th>22739</th>\n",
              "      <td>0x741657bd4b268e4abb39a4a8720454dcb370d533</td>\n",
              "      <td>0</td>\n",
              "      <td>NaN</td>\n",
              "      <td>NaN</td>\n",
              "      <td>NaN</td>\n",
              "      <td>NaN</td>\n",
              "      <td>NaN</td>\n",
              "    </tr>\n",
              "    <tr>\n",
              "      <th>22740</th>\n",
              "      <td>0xe2496b97adfc69dcb4631f7b1d7fc975f38f23ce</td>\n",
              "      <td>0</td>\n",
              "      <td>NaN</td>\n",
              "      <td>NaN</td>\n",
              "      <td>NaN</td>\n",
              "      <td>NaN</td>\n",
              "      <td>NaN</td>\n",
              "    </tr>\n",
              "    <tr>\n",
              "      <th>22741</th>\n",
              "      <td>0x7f388eadcbd1063acda82492ec6ad06c35759898</td>\n",
              "      <td>0</td>\n",
              "      <td>NaN</td>\n",
              "      <td>NaN</td>\n",
              "      <td>NaN</td>\n",
              "      <td>NaN</td>\n",
              "      <td>NaN</td>\n",
              "    </tr>\n",
              "    <tr>\n",
              "      <th>22742</th>\n",
              "      <td>0xd3239cb876ae9d7da7918a3a076cba3b02eda652</td>\n",
              "      <td>0</td>\n",
              "      <td>NaN</td>\n",
              "      <td>NaN</td>\n",
              "      <td>NaN</td>\n",
              "      <td>NaN</td>\n",
              "      <td>NaN</td>\n",
              "    </tr>\n",
              "    <tr>\n",
              "      <th>22743</th>\n",
              "      <td>0x1216f986e1524d7875dd76d613a4652e2c23a791</td>\n",
              "      <td>0</td>\n",
              "      <td>NaN</td>\n",
              "      <td>NaN</td>\n",
              "      <td>NaN</td>\n",
              "      <td>NaN</td>\n",
              "      <td>NaN</td>\n",
              "    </tr>\n",
              "    <tr>\n",
              "      <th>...</th>\n",
              "      <td>...</td>\n",
              "      <td>...</td>\n",
              "      <td>...</td>\n",
              "      <td>...</td>\n",
              "      <td>...</td>\n",
              "      <td>...</td>\n",
              "      <td>...</td>\n",
              "    </tr>\n",
              "    <tr>\n",
              "      <th>42167</th>\n",
              "      <td>0xdf560bb3711731f949896704ace17534b28b83de</td>\n",
              "      <td>0</td>\n",
              "      <td>NaN</td>\n",
              "      <td>NaN</td>\n",
              "      <td>NaN</td>\n",
              "      <td>NaN</td>\n",
              "      <td>NaN</td>\n",
              "    </tr>\n",
              "    <tr>\n",
              "      <th>42168</th>\n",
              "      <td>0xc82a80264cec5f5c9fafeeaa0c230a35f3d424a2</td>\n",
              "      <td>0</td>\n",
              "      <td>NaN</td>\n",
              "      <td>NaN</td>\n",
              "      <td>NaN</td>\n",
              "      <td>NaN</td>\n",
              "      <td>NaN</td>\n",
              "    </tr>\n",
              "    <tr>\n",
              "      <th>42169</th>\n",
              "      <td>0x68c79931d2431bd7cbaccb24b869ff3ef162615a</td>\n",
              "      <td>0</td>\n",
              "      <td>NaN</td>\n",
              "      <td>NaN</td>\n",
              "      <td>NaN</td>\n",
              "      <td>NaN</td>\n",
              "      <td>NaN</td>\n",
              "    </tr>\n",
              "    <tr>\n",
              "      <th>42170</th>\n",
              "      <td>0x33cf48debdcf255b689a7b1d6be5661ec832cc30</td>\n",
              "      <td>0</td>\n",
              "      <td>NaN</td>\n",
              "      <td>NaN</td>\n",
              "      <td>NaN</td>\n",
              "      <td>NaN</td>\n",
              "      <td>NaN</td>\n",
              "    </tr>\n",
              "    <tr>\n",
              "      <th>42171</th>\n",
              "      <td>0x9f7d30662077975f49957062f75239b49bdaaccb</td>\n",
              "      <td>0</td>\n",
              "      <td>NaN</td>\n",
              "      <td>NaN</td>\n",
              "      <td>NaN</td>\n",
              "      <td>NaN</td>\n",
              "      <td>NaN</td>\n",
              "    </tr>\n",
              "  </tbody>\n",
              "</table>\n",
              "<p>19433 rows × 7 columns</p>\n",
              "</div>"
            ],
            "text/plain": [
              "                                          Address  Trapdoor  \\\n",
              "22739  0x741657bd4b268e4abb39a4a8720454dcb370d533         0   \n",
              "22740  0xe2496b97adfc69dcb4631f7b1d7fc975f38f23ce         0   \n",
              "22741  0x7f388eadcbd1063acda82492ec6ad06c35759898         0   \n",
              "22742  0xd3239cb876ae9d7da7918a3a076cba3b02eda652         0   \n",
              "22743  0x1216f986e1524d7875dd76d613a4652e2c23a791         0   \n",
              "...                                           ...       ...   \n",
              "42167  0xdf560bb3711731f949896704ace17534b28b83de         0   \n",
              "42168  0xc82a80264cec5f5c9fafeeaa0c230a35f3d424a2         0   \n",
              "42169  0x68c79931d2431bd7cbaccb24b869ff3ef162615a         0   \n",
              "42170  0x33cf48debdcf255b689a7b1d6be5661ec832cc30         0   \n",
              "42171  0x9f7d30662077975f49957062f75239b49bdaaccb         0   \n",
              "\n",
              "       Exchange Permission  Exchange Suspension  Amount Limit  \\\n",
              "22739                  NaN                  NaN           NaN   \n",
              "22740                  NaN                  NaN           NaN   \n",
              "22741                  NaN                  NaN           NaN   \n",
              "22742                  NaN                  NaN           NaN   \n",
              "22743                  NaN                  NaN           NaN   \n",
              "...                    ...                  ...           ...   \n",
              "42167                  NaN                  NaN           NaN   \n",
              "42168                  NaN                  NaN           NaN   \n",
              "42169                  NaN                  NaN           NaN   \n",
              "42170                  NaN                  NaN           NaN   \n",
              "42171                  NaN                  NaN           NaN   \n",
              "\n",
              "       Fee Manipulation  Invalid Callback  \n",
              "22739               NaN               NaN  \n",
              "22740               NaN               NaN  \n",
              "22741               NaN               NaN  \n",
              "22742               NaN               NaN  \n",
              "22743               NaN               NaN  \n",
              "...                 ...               ...  \n",
              "42167               NaN               NaN  \n",
              "42168               NaN               NaN  \n",
              "42169               NaN               NaN  \n",
              "42170               NaN               NaN  \n",
              "42171               NaN               NaN  \n",
              "\n",
              "[19433 rows x 7 columns]"
            ]
          },
          "execution_count": 94,
          "metadata": {},
          "output_type": "execute_result"
        }
      ],
      "source": [
        "trapdoor_df[trapdoor_df['Amount Limit'].isna()]"
      ]
    },
    {
      "cell_type": "code",
      "execution_count": 95,
      "id": "d8df814d",
      "metadata": {},
      "outputs": [],
      "source": [
        "trapdoor_df = trapdoor_df.fillna(0)"
      ]
    },
    {
      "cell_type": "code",
      "execution_count": 96,
      "id": "5001d79d",
      "metadata": {},
      "outputs": [],
      "source": [
        "cols = trapdoor_df.select_dtypes('float').columns\n",
        "trapdoor_df[cols] = trapdoor_df[cols].astype('int')"
      ]
    },
    {
      "cell_type": "code",
      "execution_count": 97,
      "id": "d22eb38c",
      "metadata": {},
      "outputs": [
        {
          "name": "stdout",
          "output_type": "stream",
          "text": [
            "<class 'pandas.core.frame.DataFrame'>\n",
            "RangeIndex: 42172 entries, 0 to 42171\n",
            "Data columns (total 7 columns):\n",
            " #   Column               Non-Null Count  Dtype \n",
            "---  ------               --------------  ----- \n",
            " 0   Address              42172 non-null  object\n",
            " 1   Trapdoor             42172 non-null  int64 \n",
            " 2   Exchange Permission  42172 non-null  int64 \n",
            " 3   Exchange Suspension  42172 non-null  int64 \n",
            " 4   Amount Limit         42172 non-null  int64 \n",
            " 5   Fee Manipulation     42172 non-null  int64 \n",
            " 6   Invalid Callback     42172 non-null  int64 \n",
            "dtypes: int64(6), object(1)\n",
            "memory usage: 2.3+ MB\n"
          ]
        }
      ],
      "source": [
        "trapdoor_df.info()"
      ]
    },
    {
      "cell_type": "code",
      "execution_count": 98,
      "id": "e2606ff8",
      "metadata": {},
      "outputs": [
        {
          "data": {
            "text/plain": [
              "<matplotlib_venn._common.VennDiagram at 0x12a273c50>"
            ]
          },
          "execution_count": 98,
          "metadata": {},
          "output_type": "execute_result"
        },
        {
          "data": {
            "image/png": "[encoded data removed]",
            "text/plain": [
              "<Figure size 640x480 with 1 Axes>"
            ]
          },
          "metadata": {},
          "output_type": "display_data"
        }
      ],
      "source": [
        "venn3([set(trapdoor_df['Address']), set(crp_ground_df['Address']), set(rphunter_df['Address'])], ('trapdoor', 'crpwarner', 'rphunter'))"
      ]
    },
    {
      "cell_type": "markdown",
      "id": "b581250f",
      "metadata": {},
      "source": [
        "#### Export"
      ]
    },
    {
      "cell_type": "code",
      "execution_count": 99,
      "id": "f6e0432b",
      "metadata": {},
      "outputs": [],
      "source": [
        "trapdoor_df.to_csv(os.path.join(TMP_PATH, 'trapdoor.csv'), index=False)"
      ]
    }
  ],
  "metadata": {
    "kernelspec": {
      "display_name": "ml-algo",
      "language": "python",
      "name": "python3"
    },
    "language_info": {
      "codemirror_mode": {
        "name": "ipython",
        "version": 3
      },
      "file_extension": ".py",
      "mimetype": "text/x-python",
      "name": "python",
      "nbconvert_exporter": "python",
      "pygments_lexer": "ipython3",
      "version": "3.12.7"
    }
  },
  "nbformat": 4,
  "nbformat_minor": 5
}
