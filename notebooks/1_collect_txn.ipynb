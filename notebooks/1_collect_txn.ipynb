{
 "cells": [
  {
   "cell_type": "markdown",
   "id": "380092d0",
   "metadata": {},
   "source": [
    "# Collect Transactions"
   ]
  },
  {
   "cell_type": "markdown",
   "id": "314c3939",
   "metadata": {},
   "source": [
    "## Set up"
   ]
  },
  {
   "cell_type": "code",
   "execution_count": 7,
   "id": "6fa9b4ee",
   "metadata": {},
   "outputs": [],
   "source": [
    "\n",
    "from dotenv import load_dotenv\n",
    "import os\n",
    "from pathlib import Path\n",
    "import pandas as pd\n",
    "from tqdm import tqdm\n",
    "\n",
    "import sys\n",
    "PATH = Path.cwd().parents[1]\n",
    "sys.path.append(str(PATH))\n",
    "from ml.utils.data_loader import get_transactions_for_contract, save_transactions_for_contract"
   ]
  },
  {
   "cell_type": "code",
   "execution_count": 8,
   "id": "602032af",
   "metadata": {},
   "outputs": [],
   "source": [
    "DATA_PATH = os.path.join(PATH, 'data')\n",
    "TXN_PATH = os.path.join(DATA_PATH, 'raw/txn')\n"
   ]
  },
  {
   "cell_type": "markdown",
   "id": "9052b280",
   "metadata": {},
   "source": [
    "## Load Dataset"
   ]
  },
  {
   "cell_type": "code",
   "execution_count": 9,
   "id": "c4a6a175",
   "metadata": {},
   "outputs": [],
   "source": [
    "df = pd.read_excel(os.path.join(DATA_PATH, 'external/crpwarner/dataset/groundtruth/groundTruth.xlsx'))"
   ]
  },
  {
   "cell_type": "code",
   "execution_count": 10,
   "id": "d49bb6b5",
   "metadata": {},
   "outputs": [],
   "source": [
    "contract_addresses = df['address'].unique().tolist()"
   ]
  },
  {
   "cell_type": "markdown",
   "id": "df8cad12",
   "metadata": {},
   "source": [
    "## Load API Key"
   ]
  },
  {
   "cell_type": "code",
   "execution_count": 11,
   "id": "de899e90",
   "metadata": {},
   "outputs": [],
   "source": [
    "load_dotenv()\n",
    "ALCHEMY_API_KEY = os.getenv(\"ALCHEMY_API_KEY\")"
   ]
  },
  {
   "cell_type": "code",
   "execution_count": 12,
   "id": "bb636a37",
   "metadata": {},
   "outputs": [
    {
     "name": "stderr",
     "output_type": "stream",
     "text": [
      "100%|██████████| 69/69 [00:00<00:00, 7649.79it/s]\n"
     ]
    }
   ],
   "source": [
    "# 3. Collect and extract\n",
    "all_features = []\n",
    "\n",
    "for address in tqdm(contract_addresses):\n",
    "    if address.lower() not in [filename.lower().split('.')[0] for filename in os.listdir(TXN_PATH)]:\n",
    "        txns = get_transactions_for_contract(ALCHEMY_API_KEY, address)\n",
    "        save_transactions_for_contract(TXN_PATH, address, txns)"
   ]
  },
  {
   "cell_type": "code",
   "execution_count": null,
   "id": "a41535ae",
   "metadata": {},
   "outputs": [],
   "source": []
  }
 ],
 "metadata": {
  "kernelspec": {
   "display_name": "ml-algo",
   "language": "python",
   "name": "python3"
  },
  "language_info": {
   "codemirror_mode": {
    "name": "ipython",
    "version": 3
   },
   "file_extension": ".py",
   "mimetype": "text/x-python",
   "name": "python",
   "nbconvert_exporter": "python",
   "pygments_lexer": "ipython3",
   "version": "3.12.7"
  }
 },
 "nbformat": 4,
 "nbformat_minor": 5
}
