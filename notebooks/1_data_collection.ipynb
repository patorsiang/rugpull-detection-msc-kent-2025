{
  "cells": [
    {
      "cell_type": "markdown",
      "id": "380092d0",
      "metadata": {},
      "source": [
        "# Collect Transactions"
      ]
    },
    {
      "cell_type": "markdown",
      "id": "314c3939",
      "metadata": {},
      "source": [
        "## Set up"
      ]
    },
    {
      "cell_type": "code",
      "execution_count": 1,
      "id": "6fa9b4ee",
      "metadata": {},
      "outputs": [],
      "source": [
        "\n",
        "import os\n",
        "from pathlib import Path\n",
        "import pandas as pd\n",
        "from tqdm import tqdm\n",
        "import shutil\n",
        "\n",
        "PATH = Path.cwd().parents[0]\n",
        "\n",
        "from utils.data_loader import (\n",
        "  get_info_by_contract_addr,\n",
        "  save_bytecode_by_contract_addr,\n",
        "  get_bytecode_by_contract_addr,\n",
        "  save_transactions_by_contract_addr,\n",
        "  get_source_code_by_contract_addr,\n",
        "  save_sol_by_contract_addr\n",
        ")"
      ]
    },
    {
      "cell_type": "code",
      "execution_count": 2,
      "id": "602032af",
      "metadata": {},
      "outputs": [],
      "source": [
        "DATA_PATH = os.path.join(PATH, 'data')\n",
        "LABELED_PATH = os.path.join(DATA_PATH, 'labeled')\n",
        "TXN_PATH = os.path.join(LABELED_PATH, 'txn')\n",
        "HEX_PATH = os.path.join(LABELED_PATH, 'hex')\n",
        "SOL_PATH = os.path.join(LABELED_PATH, 'sol')\n",
        "GROUND_PATH = os.path.join(DATA_PATH, 'external/crpwarner/dataset/groundtruth')\n",
        "HEX_GROUND_PATH = os.path.join(GROUND_PATH, 'hex')\n",
        "SOL_GROUND_PATH = os.path.join(GROUND_PATH, 'sol')\n",
        "TMP_PATH = os.path.join(DATA_PATH, 'interim')\n",
        "HEX_TMP_PATH = os.path.join(TMP_PATH, 'hex')\n",
        "SOL_TMP_PATH = os.path.join(TMP_PATH, 'sol')\n"
      ]
    },
    {
      "cell_type": "markdown",
      "id": "9052b280",
      "metadata": {},
      "source": [
        "## Load Dataset"
      ]
    },
    {
      "cell_type": "code",
      "execution_count": 3,
      "id": "ef0c9f26",
      "metadata": {},
      "outputs": [],
      "source": [
        "df = pd.read_excel(os.path.join(GROUND_PATH, 'groundTruth.xlsx')).rename(columns={\n",
        "  'address': 'Address'\n",
        "})\n",
        "df['Address'] = df['Address'].str.lower()"
      ]
    },
    {
      "cell_type": "code",
      "execution_count": 4,
      "id": "c4a6a175",
      "metadata": {},
      "outputs": [],
      "source": [
        "df.to_csv(os.path.join(LABELED_PATH, 'groundtruth.csv'), index=False)"
      ]
    },
    {
      "cell_type": "code",
      "execution_count": 5,
      "id": "d49bb6b5",
      "metadata": {},
      "outputs": [],
      "source": [
        "contract_addresses = df['Address'].unique().tolist()"
      ]
    },
    {
      "cell_type": "code",
      "execution_count": 6,
      "id": "04ebb0af",
      "metadata": {},
      "outputs": [
        {
          "data": {
            "text/plain": [
              "(69,\n",
              " ['0x93023f1d3525e273f291b6f76d2f5027a39bf302',\n",
              "  '0x2753dce37a7edb052a77832039bcc9aa49ad8b25',\n",
              "  '0x94b7d24552933f50a5a5705c446528806dcea381',\n",
              "  '0xe0b9d4146aad6936cbfcbe4dae47e34aab96b093',\n",
              "  '0x10f6f2b97f3ab29583d9d38babf2994df7220c21',\n",
              "  '0x11cbc781dadaad13fc3a361772c80b1c027820af',\n",
              "  '0x3e597ea168a85aa2ae5e2c4333665bcd875ed10f',\n",
              "  '0x292e89d5d5bdab3af2f5838c194c1983f0140b43',\n",
              "  '0xef20505c8b343d12da174bf9d8495c1ce2670989',\n",
              "  '0xc71d244f7ad6c869ecbf13cbd9acae31718be4f8',\n",
              "  '0x5927b72440d8a8b8c6ca5a8be60e88975f9063fc',\n",
              "  '0xc709878167ed069aea15fd0bd4e9758ceb4da193',\n",
              "  '0x1e4402fa427a7a835fc64ea6d051404ce767a569',\n",
              "  '0xcb6cd204d783dc8d66896a6def5867d332228d7b',\n",
              "  '0x455dedacbe41c178953119847f2b95e2d9ad0a1d',\n",
              "  '0x831467b7b6bf9c705dc87899d48b57ee55c8d5cc',\n",
              "  '0x6609f543d38816116fa5b9a98c918ca947f5455d',\n",
              "  '0x90f75ca026add95ae15ecbf48efc77ed272945be',\n",
              "  '0x52e4339b4b9ff254738d6e971e83440f60dc029c',\n",
              "  '0x51c5807dd8398aedfcc91e6483417838b41eaeb8',\n",
              "  '0xa0ffc741f109159ee203424a299e6d2731dcfc76',\n",
              "  '0x9372b371196751dd2f603729ae8d8014bbeb07f6',\n",
              "  '0x186ed770eecea82def7c92dcc077c4ba27acd5bd',\n",
              "  '0x28c748535cc0c774d7bb046adba0c9d77e3b4c92',\n",
              "  '0xd00736f864ecd5bef5996c735f98769ae0d10c7c',\n",
              "  '0x9a3fb36bf72a387fcc821a38ee9f50f1a0eb8cbd',\n",
              "  '0xe7e63e244c52b2230666e263657ba8db2b6b3705',\n",
              "  '0x25d8f027fd25eecbcd812521fb2f75f175807a91',\n",
              "  '0x1250b98cbde9f99f4c42dcdacee193221f17eb50',\n",
              "  '0x0414d8c87b271266a5864329fb4932bbe19c0c49',\n",
              "  '0x292f57c7fcd726ba651e46b620d99cc6afe0ec1c',\n",
              "  '0x9db8a10c7fe60d84397860b3af2e686d4f90c2b7',\n",
              "  '0xabe776435f7459e2f5ba773bfb753ed19a053dd0',\n",
              "  '0x8d07f605926837ea0f9e1e24dba0fb348cb3e97d',\n",
              "  '0x42269ac712372ac89a158ad5a32806c6b6782d66',\n",
              "  '0xdf7ff95aa3d855a6fb21399432166a92fdcf1b1a',\n",
              "  '0x198376f921570e3cc547fd5c16e482cded8b4d1d',\n",
              "  '0x9d52414c4cc1fb8e7864a9b59495f430f8e5de44',\n",
              "  '0x50c6ec50a89a946c5886aeb54a22fe732558f7d1',\n",
              "  '0xde9e52f1838951e4d2bb6c59723b003c353979b6',\n",
              "  '0xe1a0ce8b94c6a5e4791401086763d7bd0a6c18f5',\n",
              "  '0x85aa3f04e539e426cbb55c0d584ea99cfe1d96a1',\n",
              "  '0xe4182e57eeb29fbc2b3469e45c9e385cea8995ab',\n",
              "  '0xf0b692ace03ffb689628e68d4919f91723d1c5a2',\n",
              "  '0xaaf8c293ed36989d1871d2310b2845450d885673',\n",
              "  '0x4165084a6e5388ce53c9d9892f904a2712dd943a',\n",
              "  '0x91383a15c391c142b80045d8b4730c1c37ac0378',\n",
              "  '0x16dfb898cf7029303c2376031392cb9bac450f94',\n",
              "  '0x17e65e6b9b166fb8e7c59432f0db126711246bc0',\n",
              "  '0xec4cb1148ec60e00a6bfcfce4482db724db6bdde',\n",
              "  '0x6b5e9e55921e5e412cf1002599c05d4428cf50c5',\n",
              "  '0xa942890d7fc60f0d4a516f63dd273dcde72ae6c9',\n",
              "  '0x797885c0a6cfffcbc4d2e3c1ca0b4f07112db6a3',\n",
              "  '0xb504035a11e672e12a099f32b1672b9c4a78b22f',\n",
              "  '0xd28c8ff18f811e5fcd9b5b07889a343da8fd6502',\n",
              "  '0xa7cd93ed3133d82781cc17460fe1500b69a1b514',\n",
              "  '0xd217dc0cab1c952a7ce6f4d7ca4549cde1f37bb0',\n",
              "  '0xb131f4a55907b10d1f0a50d8ab8fa09ec342cd74',\n",
              "  '0x548c9731ae163a73a28916eeb11717fe446dab54',\n",
              "  '0x8b2e68075a06959e3e35aa0e451a13e099e41b23',\n",
              "  '0x1c5ee1ffebec5f3e1686e8e59d43f96a3c702b7f',\n",
              "  '0x108d0f1fc10ed324f8cc65d0a91cad11cd4994a4',\n",
              "  '0xee45e37e2b73e86c709d9edd1c8ea3b0ec72dad3',\n",
              "  '0x8275ebf521dc217aa79c88132017a5bcef001dd9',\n",
              "  '0xb954562066c71b3e6e7b2ac330b03c74c0dcd5ae',\n",
              "  '0xba751bff276907c438e927d2c2f18de574195e4b',\n",
              "  '0xf19308f923582a6f7c465e5ce7a9dc1bec6665b1',\n",
              "  '0x87230146e138d3f296a9a77e497a2a83012e9bc5',\n",
              "  '0x82902c20c5826984588dcd2dfcc322e05dcc435c'])"
            ]
          },
          "execution_count": 6,
          "metadata": {},
          "output_type": "execute_result"
        }
      ],
      "source": [
        "len(contract_addresses), contract_addresses"
      ]
    },
    {
      "cell_type": "markdown",
      "id": "df8cad12",
      "metadata": {},
      "source": [
        "## Load API Key"
      ]
    },
    {
      "cell_type": "code",
      "execution_count": 7,
      "id": "3f350fdb",
      "metadata": {},
      "outputs": [
        {
          "name": "stderr",
          "output_type": "stream",
          "text": [
            "  0%|          | 0/70 [00:00<?, ?it/s]"
          ]
        },
        {
          "name": "stderr",
          "output_type": "stream",
          "text": [
            "100%|██████████| 70/70 [00:00<00:00, 390.01it/s]\n"
          ]
        }
      ],
      "source": [
        "for src_file in tqdm(list(Path(HEX_GROUND_PATH).glob('*.hex'))):\n",
        "    address = src_file.stem.lower()\n",
        "    if address in contract_addresses:\n",
        "        shutil.copy(src_file, os.path.join(HEX_PATH, f'{address}.hex'))\n",
        "    else:\n",
        "        shutil.copy(src_file, os.path.join(HEX_TMP_PATH, f'{address}.hex'))"
      ]
    },
    {
      "cell_type": "code",
      "execution_count": 8,
      "id": "a04976c4",
      "metadata": {},
      "outputs": [
        {
          "name": "stderr",
          "output_type": "stream",
          "text": [
            "100%|██████████| 71/71 [00:00<00:00, 462.24it/s]\n"
          ]
        }
      ],
      "source": [
        "for src_file in tqdm(list(Path(SOL_GROUND_PATH).glob('*.sol'))):\n",
        "    address = src_file.stem.lower()\n",
        "    if address in contract_addresses:\n",
        "        shutil.copy(src_file, os.path.join(SOL_PATH, f'{address}.sol'))\n",
        "    else:\n",
        "        shutil.copy(src_file, os.path.join(SOL_TMP_PATH, f'{address}.sol'))"
      ]
    },
    {
      "cell_type": "code",
      "execution_count": 9,
      "id": "bb636a37",
      "metadata": {},
      "outputs": [
        {
          "name": "stderr",
          "output_type": "stream",
          "text": [
            "  0%|          | 0/69 [00:00<?, ?it/s]"
          ]
        },
        {
          "name": "stderr",
          "output_type": "stream",
          "text": [
            "  1%|▏         | 1/69 [00:00<00:36,  1.85it/s]"
          ]
        },
        {
          "name": "stdout",
          "output_type": "stream",
          "text": [
            "Saved 0x93023f1d3525e273f291b6f76d2f5027a39bf302.sol\n"
          ]
        },
        {
          "name": "stderr",
          "output_type": "stream",
          "text": [
            "  3%|▎         | 2/69 [00:00<00:32,  2.03it/s]"
          ]
        },
        {
          "name": "stdout",
          "output_type": "stream",
          "text": [
            "Saved 0x2753dce37a7edb052a77832039bcc9aa49ad8b25.sol\n"
          ]
        },
        {
          "name": "stderr",
          "output_type": "stream",
          "text": [
            "  4%|▍         | 3/69 [00:01<00:31,  2.10it/s]"
          ]
        },
        {
          "name": "stdout",
          "output_type": "stream",
          "text": [
            "Saved 0x94b7d24552933f50a5a5705c446528806dcea381.sol\n"
          ]
        },
        {
          "name": "stderr",
          "output_type": "stream",
          "text": [
            "  6%|▌         | 4/69 [00:01<00:30,  2.12it/s]"
          ]
        },
        {
          "name": "stdout",
          "output_type": "stream",
          "text": [
            "Saved 0xe0b9d4146aad6936cbfcbe4dae47e34aab96b093.sol\n"
          ]
        },
        {
          "name": "stderr",
          "output_type": "stream",
          "text": [
            "  7%|▋         | 5/69 [00:02<00:29,  2.14it/s]"
          ]
        },
        {
          "name": "stdout",
          "output_type": "stream",
          "text": [
            "Saved 0x10f6f2b97f3ab29583d9d38babf2994df7220c21.sol\n"
          ]
        },
        {
          "name": "stderr",
          "output_type": "stream",
          "text": [
            "  9%|▊         | 6/69 [00:02<00:29,  2.15it/s]"
          ]
        },
        {
          "name": "stdout",
          "output_type": "stream",
          "text": [
            "Saved 0x11cbc781dadaad13fc3a361772c80b1c027820af.sol\n"
          ]
        },
        {
          "name": "stderr",
          "output_type": "stream",
          "text": [
            " 10%|█         | 7/69 [00:03<00:29,  2.09it/s]"
          ]
        },
        {
          "name": "stdout",
          "output_type": "stream",
          "text": [
            "Saved 0x3e597ea168a85aa2ae5e2c4333665bcd875ed10f.sol\n"
          ]
        },
        {
          "name": "stderr",
          "output_type": "stream",
          "text": [
            " 12%|█▏        | 8/69 [00:03<00:28,  2.11it/s]"
          ]
        },
        {
          "name": "stdout",
          "output_type": "stream",
          "text": [
            "Saved 0x292e89d5d5bdab3af2f5838c194c1983f0140b43.sol\n"
          ]
        },
        {
          "name": "stderr",
          "output_type": "stream",
          "text": [
            " 13%|█▎        | 9/69 [00:04<00:28,  2.13it/s]"
          ]
        },
        {
          "name": "stdout",
          "output_type": "stream",
          "text": [
            "Saved 0xef20505c8b343d12da174bf9d8495c1ce2670989.sol\n"
          ]
        },
        {
          "name": "stderr",
          "output_type": "stream",
          "text": [
            " 14%|█▍        | 10/69 [00:04<00:28,  2.09it/s]"
          ]
        },
        {
          "name": "stdout",
          "output_type": "stream",
          "text": [
            "Saved 0xc71d244f7ad6c869ecbf13cbd9acae31718be4f8.sol\n"
          ]
        },
        {
          "name": "stderr",
          "output_type": "stream",
          "text": [
            " 16%|█▌        | 11/69 [00:05<00:27,  2.12it/s]"
          ]
        },
        {
          "name": "stdout",
          "output_type": "stream",
          "text": [
            "Saved 0x5927b72440d8a8b8c6ca5a8be60e88975f9063fc.sol\n"
          ]
        },
        {
          "name": "stderr",
          "output_type": "stream",
          "text": [
            " 17%|█▋        | 12/69 [00:05<00:27,  2.06it/s]"
          ]
        },
        {
          "name": "stdout",
          "output_type": "stream",
          "text": [
            "Saved 0xc709878167ed069aea15fd0bd4e9758ceb4da193.sol\n"
          ]
        },
        {
          "name": "stderr",
          "output_type": "stream",
          "text": [
            " 19%|█▉        | 13/69 [00:06<00:26,  2.09it/s]"
          ]
        },
        {
          "name": "stdout",
          "output_type": "stream",
          "text": [
            "Saved 0x1e4402fa427a7a835fc64ea6d051404ce767a569.sol\n"
          ]
        },
        {
          "name": "stderr",
          "output_type": "stream",
          "text": [
            " 20%|██        | 14/69 [00:06<00:26,  2.12it/s]"
          ]
        },
        {
          "name": "stdout",
          "output_type": "stream",
          "text": [
            "Saved 0xcb6cd204d783dc8d66896a6def5867d332228d7b.sol\n"
          ]
        },
        {
          "name": "stderr",
          "output_type": "stream",
          "text": [
            " 22%|██▏       | 15/69 [00:07<00:25,  2.14it/s]"
          ]
        },
        {
          "name": "stdout",
          "output_type": "stream",
          "text": [
            "Saved 0x455dedacbe41c178953119847f2b95e2d9ad0a1d.sol\n"
          ]
        },
        {
          "name": "stderr",
          "output_type": "stream",
          "text": [
            " 23%|██▎       | 16/69 [00:07<00:24,  2.15it/s]"
          ]
        },
        {
          "name": "stdout",
          "output_type": "stream",
          "text": [
            "Saved 0x831467b7b6bf9c705dc87899d48b57ee55c8d5cc.sol\n"
          ]
        },
        {
          "name": "stderr",
          "output_type": "stream",
          "text": [
            " 25%|██▍       | 17/69 [00:08<00:24,  2.16it/s]"
          ]
        },
        {
          "name": "stdout",
          "output_type": "stream",
          "text": [
            "Saved 0x6609f543d38816116fa5b9a98c918ca947f5455d.sol\n"
          ]
        },
        {
          "name": "stderr",
          "output_type": "stream",
          "text": [
            " 26%|██▌       | 18/69 [00:08<00:23,  2.16it/s]"
          ]
        },
        {
          "name": "stdout",
          "output_type": "stream",
          "text": [
            "Saved 0x90f75ca026add95ae15ecbf48efc77ed272945be.sol\n"
          ]
        },
        {
          "name": "stderr",
          "output_type": "stream",
          "text": [
            " 28%|██▊       | 19/69 [00:08<00:23,  2.11it/s]"
          ]
        },
        {
          "name": "stdout",
          "output_type": "stream",
          "text": [
            "Saved 0x52e4339b4b9ff254738d6e971e83440f60dc029c.sol\n"
          ]
        },
        {
          "name": "stderr",
          "output_type": "stream",
          "text": [
            " 29%|██▉       | 20/69 [00:09<00:23,  2.08it/s]"
          ]
        },
        {
          "name": "stdout",
          "output_type": "stream",
          "text": [
            "Saved 0x51c5807dd8398aedfcc91e6483417838b41eaeb8.sol\n"
          ]
        },
        {
          "name": "stderr",
          "output_type": "stream",
          "text": [
            " 30%|███       | 21/69 [00:09<00:22,  2.09it/s]"
          ]
        },
        {
          "name": "stdout",
          "output_type": "stream",
          "text": [
            "Saved 0xa0ffc741f109159ee203424a299e6d2731dcfc76.sol\n"
          ]
        },
        {
          "name": "stderr",
          "output_type": "stream",
          "text": [
            " 32%|███▏      | 22/69 [00:10<00:24,  1.94it/s]"
          ]
        },
        {
          "name": "stdout",
          "output_type": "stream",
          "text": [
            "Saved 0x9372b371196751dd2f603729ae8d8014bbeb07f6.sol\n"
          ]
        },
        {
          "name": "stderr",
          "output_type": "stream",
          "text": [
            " 33%|███▎      | 23/69 [00:11<00:23,  1.98it/s]"
          ]
        },
        {
          "name": "stdout",
          "output_type": "stream",
          "text": [
            "Saved 0x186ed770eecea82def7c92dcc077c4ba27acd5bd.sol\n"
          ]
        },
        {
          "name": "stderr",
          "output_type": "stream",
          "text": [
            " 35%|███▍      | 24/69 [00:11<00:22,  2.00it/s]"
          ]
        },
        {
          "name": "stdout",
          "output_type": "stream",
          "text": [
            "Saved 0x28c748535cc0c774d7bb046adba0c9d77e3b4c92.sol\n"
          ]
        },
        {
          "name": "stderr",
          "output_type": "stream",
          "text": [
            " 36%|███▌      | 25/69 [00:12<00:21,  2.02it/s]"
          ]
        },
        {
          "name": "stdout",
          "output_type": "stream",
          "text": [
            "Saved 0xd00736f864ecd5bef5996c735f98769ae0d10c7c.sol\n"
          ]
        },
        {
          "name": "stderr",
          "output_type": "stream",
          "text": [
            " 38%|███▊      | 26/69 [00:12<00:21,  2.04it/s]"
          ]
        },
        {
          "name": "stdout",
          "output_type": "stream",
          "text": [
            "Saved 0x9a3fb36bf72a387fcc821a38ee9f50f1a0eb8cbd.sol\n"
          ]
        },
        {
          "name": "stderr",
          "output_type": "stream",
          "text": [
            " 39%|███▉      | 27/69 [00:12<00:20,  2.07it/s]"
          ]
        },
        {
          "name": "stdout",
          "output_type": "stream",
          "text": [
            "Saved 0xe7e63e244c52b2230666e263657ba8db2b6b3705.sol\n"
          ]
        },
        {
          "name": "stderr",
          "output_type": "stream",
          "text": [
            " 41%|████      | 28/69 [00:13<00:19,  2.09it/s]"
          ]
        },
        {
          "name": "stdout",
          "output_type": "stream",
          "text": [
            "Saved 0x25d8f027fd25eecbcd812521fb2f75f175807a91.sol\n"
          ]
        },
        {
          "name": "stderr",
          "output_type": "stream",
          "text": [
            " 42%|████▏     | 29/69 [00:14<00:20,  1.97it/s]"
          ]
        },
        {
          "name": "stdout",
          "output_type": "stream",
          "text": [
            "Saved 0x1250b98cbde9f99f4c42dcdacee193221f17eb50.sol\n"
          ]
        },
        {
          "name": "stderr",
          "output_type": "stream",
          "text": [
            " 43%|████▎     | 30/69 [00:14<00:19,  2.01it/s]"
          ]
        },
        {
          "name": "stdout",
          "output_type": "stream",
          "text": [
            "Saved 0x0414d8c87b271266a5864329fb4932bbe19c0c49.sol\n"
          ]
        },
        {
          "name": "stderr",
          "output_type": "stream",
          "text": [
            " 45%|████▍     | 31/69 [00:17<00:42,  1.12s/it]"
          ]
        },
        {
          "name": "stdout",
          "output_type": "stream",
          "text": [
            "Saved 0x292f57c7fcd726ba651e46b620d99cc6afe0ec1c.sol\n"
          ]
        },
        {
          "name": "stderr",
          "output_type": "stream",
          "text": [
            " 46%|████▋     | 32/69 [00:19<01:00,  1.63s/it]"
          ]
        },
        {
          "name": "stdout",
          "output_type": "stream",
          "text": [
            "Saved 0x9db8a10c7fe60d84397860b3af2e686d4f90c2b7.sol\n"
          ]
        },
        {
          "name": "stderr",
          "output_type": "stream",
          "text": [
            " 48%|████▊     | 33/69 [00:20<00:46,  1.28s/it]"
          ]
        },
        {
          "name": "stdout",
          "output_type": "stream",
          "text": [
            "Saved 0xabe776435f7459e2f5ba773bfb753ed19a053dd0.sol\n"
          ]
        },
        {
          "name": "stderr",
          "output_type": "stream",
          "text": [
            " 49%|████▉     | 34/69 [00:20<00:36,  1.05s/it]"
          ]
        },
        {
          "name": "stdout",
          "output_type": "stream",
          "text": [
            "Saved 0x8d07f605926837ea0f9e1e24dba0fb348cb3e97d.sol\n"
          ]
        },
        {
          "name": "stderr",
          "output_type": "stream",
          "text": [
            " 51%|█████     | 35/69 [00:21<00:29,  1.14it/s]"
          ]
        },
        {
          "name": "stdout",
          "output_type": "stream",
          "text": [
            "Saved 0x42269ac712372ac89a158ad5a32806c6b6782d66.sol\n"
          ]
        },
        {
          "name": "stderr",
          "output_type": "stream",
          "text": [
            " 52%|█████▏    | 36/69 [00:21<00:25,  1.32it/s]"
          ]
        },
        {
          "name": "stdout",
          "output_type": "stream",
          "text": [
            "Saved 0xdf7ff95aa3d855a6fb21399432166a92fdcf1b1a.sol\n"
          ]
        },
        {
          "name": "stderr",
          "output_type": "stream",
          "text": [
            " 54%|█████▎    | 37/69 [00:22<00:21,  1.47it/s]"
          ]
        },
        {
          "name": "stdout",
          "output_type": "stream",
          "text": [
            "Saved 0x198376f921570e3cc547fd5c16e482cded8b4d1d.sol\n"
          ]
        },
        {
          "name": "stderr",
          "output_type": "stream",
          "text": [
            " 55%|█████▌    | 38/69 [00:23<00:25,  1.23it/s]"
          ]
        },
        {
          "name": "stdout",
          "output_type": "stream",
          "text": [
            "Saved 0x9d52414c4cc1fb8e7864a9b59495f430f8e5de44.sol\n"
          ]
        },
        {
          "name": "stderr",
          "output_type": "stream",
          "text": [
            " 57%|█████▋    | 39/69 [00:23<00:21,  1.42it/s]"
          ]
        },
        {
          "name": "stdout",
          "output_type": "stream",
          "text": [
            "Saved 0x50c6ec50a89a946c5886aeb54a22fe732558f7d1.sol\n"
          ]
        },
        {
          "name": "stderr",
          "output_type": "stream",
          "text": [
            " 58%|█████▊    | 40/69 [00:24<00:18,  1.59it/s]"
          ]
        },
        {
          "name": "stdout",
          "output_type": "stream",
          "text": [
            "Saved 0xde9e52f1838951e4d2bb6c59723b003c353979b6.sol\n"
          ]
        },
        {
          "name": "stderr",
          "output_type": "stream",
          "text": [
            " 59%|█████▉    | 41/69 [00:24<00:16,  1.66it/s]"
          ]
        },
        {
          "name": "stdout",
          "output_type": "stream",
          "text": [
            "Saved 0xe1a0ce8b94c6a5e4791401086763d7bd0a6c18f5.sol\n"
          ]
        },
        {
          "name": "stderr",
          "output_type": "stream",
          "text": [
            " 61%|██████    | 42/69 [00:25<00:15,  1.74it/s]"
          ]
        },
        {
          "name": "stdout",
          "output_type": "stream",
          "text": [
            "Saved 0x85aa3f04e539e426cbb55c0d584ea99cfe1d96a1.sol\n"
          ]
        },
        {
          "name": "stderr",
          "output_type": "stream",
          "text": [
            " 62%|██████▏   | 43/69 [00:25<00:14,  1.82it/s]"
          ]
        },
        {
          "name": "stdout",
          "output_type": "stream",
          "text": [
            "Saved 0xe4182e57eeb29fbc2b3469e45c9e385cea8995ab.sol\n"
          ]
        },
        {
          "name": "stderr",
          "output_type": "stream",
          "text": [
            " 64%|██████▍   | 44/69 [00:26<00:13,  1.87it/s]"
          ]
        },
        {
          "name": "stdout",
          "output_type": "stream",
          "text": [
            "Saved 0xf0b692ace03ffb689628e68d4919f91723d1c5a2.sol\n"
          ]
        },
        {
          "name": "stderr",
          "output_type": "stream",
          "text": [
            " 65%|██████▌   | 45/69 [00:26<00:12,  1.96it/s]"
          ]
        },
        {
          "name": "stdout",
          "output_type": "stream",
          "text": [
            "Saved 0xaaf8c293ed36989d1871d2310b2845450d885673.sol\n"
          ]
        },
        {
          "name": "stderr",
          "output_type": "stream",
          "text": [
            " 67%|██████▋   | 46/69 [00:27<00:11,  2.03it/s]"
          ]
        },
        {
          "name": "stdout",
          "output_type": "stream",
          "text": [
            "Saved 0x4165084a6e5388ce53c9d9892f904a2712dd943a.sol\n"
          ]
        },
        {
          "name": "stderr",
          "output_type": "stream",
          "text": [
            " 68%|██████▊   | 47/69 [00:27<00:10,  2.07it/s]"
          ]
        },
        {
          "name": "stdout",
          "output_type": "stream",
          "text": [
            "Saved 0x91383a15c391c142b80045d8b4730c1c37ac0378.sol\n"
          ]
        },
        {
          "name": "stderr",
          "output_type": "stream",
          "text": [
            " 70%|██████▉   | 48/69 [00:28<00:09,  2.11it/s]"
          ]
        },
        {
          "name": "stdout",
          "output_type": "stream",
          "text": [
            "Saved 0x16dfb898cf7029303c2376031392cb9bac450f94.sol\n"
          ]
        },
        {
          "name": "stderr",
          "output_type": "stream",
          "text": [
            " 71%|███████   | 49/69 [00:28<00:09,  2.14it/s]"
          ]
        },
        {
          "name": "stdout",
          "output_type": "stream",
          "text": [
            "Saved 0x17e65e6b9b166fb8e7c59432f0db126711246bc0.sol\n"
          ]
        },
        {
          "name": "stderr",
          "output_type": "stream",
          "text": [
            " 72%|███████▏  | 50/69 [00:29<00:08,  2.15it/s]"
          ]
        },
        {
          "name": "stdout",
          "output_type": "stream",
          "text": [
            "Saved 0xec4cb1148ec60e00a6bfcfce4482db724db6bdde.sol\n"
          ]
        },
        {
          "name": "stderr",
          "output_type": "stream",
          "text": [
            " 74%|███████▍  | 51/69 [00:29<00:08,  2.16it/s]"
          ]
        },
        {
          "name": "stdout",
          "output_type": "stream",
          "text": [
            "Saved 0x6b5e9e55921e5e412cf1002599c05d4428cf50c5.sol\n"
          ]
        },
        {
          "name": "stderr",
          "output_type": "stream",
          "text": [
            " 75%|███████▌  | 52/69 [00:30<00:07,  2.17it/s]"
          ]
        },
        {
          "name": "stdout",
          "output_type": "stream",
          "text": [
            "Saved 0xa942890d7fc60f0d4a516f63dd273dcde72ae6c9.sol\n"
          ]
        },
        {
          "name": "stderr",
          "output_type": "stream",
          "text": [
            " 77%|███████▋  | 53/69 [00:30<00:07,  2.18it/s]"
          ]
        },
        {
          "name": "stdout",
          "output_type": "stream",
          "text": [
            "Saved 0x797885c0a6cfffcbc4d2e3c1ca0b4f07112db6a3.sol\n"
          ]
        },
        {
          "name": "stderr",
          "output_type": "stream",
          "text": [
            " 78%|███████▊  | 54/69 [00:30<00:06,  2.18it/s]"
          ]
        },
        {
          "name": "stdout",
          "output_type": "stream",
          "text": [
            "Saved 0xb504035a11e672e12a099f32b1672b9c4a78b22f.sol\n"
          ]
        },
        {
          "name": "stderr",
          "output_type": "stream",
          "text": [
            " 80%|███████▉  | 55/69 [00:31<00:07,  1.97it/s]"
          ]
        },
        {
          "name": "stdout",
          "output_type": "stream",
          "text": [
            "Saved 0xd28c8ff18f811e5fcd9b5b07889a343da8fd6502.sol\n"
          ]
        },
        {
          "name": "stderr",
          "output_type": "stream",
          "text": [
            " 81%|████████  | 56/69 [00:32<00:06,  1.98it/s]"
          ]
        },
        {
          "name": "stdout",
          "output_type": "stream",
          "text": [
            "Saved 0xa7cd93ed3133d82781cc17460fe1500b69a1b514.sol\n"
          ]
        },
        {
          "name": "stderr",
          "output_type": "stream",
          "text": [
            " 83%|████████▎ | 57/69 [00:32<00:06,  1.91it/s]"
          ]
        },
        {
          "name": "stdout",
          "output_type": "stream",
          "text": [
            "Saved 0xd217dc0cab1c952a7ce6f4d7ca4549cde1f37bb0.sol\n"
          ]
        },
        {
          "name": "stderr",
          "output_type": "stream",
          "text": [
            " 84%|████████▍ | 58/69 [00:33<00:06,  1.81it/s]"
          ]
        },
        {
          "name": "stdout",
          "output_type": "stream",
          "text": [
            "Saved 0xb131f4a55907b10d1f0a50d8ab8fa09ec342cd74.sol\n"
          ]
        },
        {
          "name": "stderr",
          "output_type": "stream",
          "text": [
            " 86%|████████▌ | 59/69 [00:33<00:05,  1.87it/s]"
          ]
        },
        {
          "name": "stdout",
          "output_type": "stream",
          "text": [
            "Saved 0x548c9731ae163a73a28916eeb11717fe446dab54.sol\n"
          ]
        },
        {
          "name": "stderr",
          "output_type": "stream",
          "text": [
            " 87%|████████▋ | 60/69 [00:34<00:04,  1.96it/s]"
          ]
        },
        {
          "name": "stdout",
          "output_type": "stream",
          "text": [
            "Saved 0x8b2e68075a06959e3e35aa0e451a13e099e41b23.sol\n"
          ]
        },
        {
          "name": "stderr",
          "output_type": "stream",
          "text": [
            " 88%|████████▊ | 61/69 [00:34<00:03,  2.03it/s]"
          ]
        },
        {
          "name": "stdout",
          "output_type": "stream",
          "text": [
            "Saved 0x1c5ee1ffebec5f3e1686e8e59d43f96a3c702b7f.sol\n"
          ]
        },
        {
          "name": "stderr",
          "output_type": "stream",
          "text": [
            " 90%|████████▉ | 62/69 [00:35<00:03,  2.07it/s]"
          ]
        },
        {
          "name": "stdout",
          "output_type": "stream",
          "text": [
            "Saved 0x108d0f1fc10ed324f8cc65d0a91cad11cd4994a4.sol\n"
          ]
        },
        {
          "name": "stderr",
          "output_type": "stream",
          "text": [
            " 91%|█████████▏| 63/69 [00:35<00:02,  2.10it/s]"
          ]
        },
        {
          "name": "stdout",
          "output_type": "stream",
          "text": [
            "Saved 0xee45e37e2b73e86c709d9edd1c8ea3b0ec72dad3.sol\n"
          ]
        },
        {
          "name": "stderr",
          "output_type": "stream",
          "text": [
            " 93%|█████████▎| 64/69 [00:36<00:02,  2.09it/s]"
          ]
        },
        {
          "name": "stdout",
          "output_type": "stream",
          "text": [
            "Saved 0x8275ebf521dc217aa79c88132017a5bcef001dd9.sol\n"
          ]
        },
        {
          "name": "stderr",
          "output_type": "stream",
          "text": [
            " 94%|█████████▍| 65/69 [00:36<00:01,  2.12it/s]"
          ]
        },
        {
          "name": "stdout",
          "output_type": "stream",
          "text": [
            "Saved 0xb954562066c71b3e6e7b2ac330b03c74c0dcd5ae.sol\n"
          ]
        },
        {
          "name": "stderr",
          "output_type": "stream",
          "text": [
            " 96%|█████████▌| 66/69 [00:36<00:01,  2.15it/s]"
          ]
        },
        {
          "name": "stdout",
          "output_type": "stream",
          "text": [
            "Saved 0xba751bff276907c438e927d2c2f18de574195e4b.sol\n"
          ]
        },
        {
          "name": "stderr",
          "output_type": "stream",
          "text": [
            " 97%|█████████▋| 67/69 [00:37<00:00,  2.01it/s]"
          ]
        },
        {
          "name": "stdout",
          "output_type": "stream",
          "text": [
            "Saved 0xf19308f923582a6f7c465e5ce7a9dc1bec6665b1.sol\n"
          ]
        },
        {
          "name": "stderr",
          "output_type": "stream",
          "text": [
            " 99%|█████████▊| 68/69 [00:37<00:00,  2.06it/s]"
          ]
        },
        {
          "name": "stdout",
          "output_type": "stream",
          "text": [
            "Saved 0x87230146e138d3f296a9a77e497a2a83012e9bc5.sol\n"
          ]
        },
        {
          "name": "stderr",
          "output_type": "stream",
          "text": [
            "100%|██████████| 69/69 [00:38<00:00,  1.79it/s]"
          ]
        },
        {
          "name": "stdout",
          "output_type": "stream",
          "text": [
            "Saved 0x82902c20c5826984588dcd2dfcc322e05dcc435c.sol\n"
          ]
        },
        {
          "name": "stderr",
          "output_type": "stream",
          "text": [
            "\n"
          ]
        }
      ],
      "source": [
        "# 3. Collect and extract\n",
        "for address in tqdm(contract_addresses):\n",
        "    addr = address.lower()\n",
        "    if addr not in [file.stem.lower() for file in Path(TXN_PATH).glob(\"*.json\")]:\n",
        "        info = get_info_by_contract_addr(address)\n",
        "        save_transactions_by_contract_addr(TXN_PATH, address, info)\n",
        "        if 'creationBytecode' in info.get('creator'):\n",
        "            save_bytecode_by_contract_addr(HEX_PATH, address, info['creator']['creationBytecode'])\n",
        "\n",
        "    if addr not in [file.stem.lower() for file in Path(HEX_PATH).glob(\"*.hex\")]:\n",
        "        bytecode = get_bytecode_by_contract_addr(addr)\n",
        "        save_bytecode_by_contract_addr(HEX_PATH, address, bytecode)\n",
        "\n",
        "    if addr not in [file.stem.lower() for file in Path(SOL_PATH).glob(\"*.hex\")]:\n",
        "        source = get_source_code_by_contract_addr(address)\n",
        "        if 'SourceCode' in source:\n",
        "            save_sol_by_contract_addr(SOL_PATH, address, source['SourceCode'])"
      ]
    },
    {
      "cell_type": "code",
      "execution_count": 10,
      "id": "a41535ae",
      "metadata": {},
      "outputs": [
        {
          "data": {
            "text/plain": [
              "(69, 69, 69)"
            ]
          },
          "execution_count": 10,
          "metadata": {},
          "output_type": "execute_result"
        }
      ],
      "source": [
        "len(list(Path(TXN_PATH).glob(\"*.json\"))), len(list(Path(HEX_PATH).glob(\"*.hex\"))), len(list(Path(SOL_PATH).glob(\"*.sol\")))"
      ]
    },
    {
      "cell_type": "code",
      "execution_count": null,
      "id": "65f4de78",
      "metadata": {},
      "outputs": [],
      "source": []
    }
  ],
  "metadata": {
    "kernelspec": {
      "display_name": "ml-algo",
      "language": "python",
      "name": "python3"
    },
    "language_info": {
      "codemirror_mode": {
        "name": "ipython",
        "version": 3
      },
      "file_extension": ".py",
      "mimetype": "text/x-python",
      "name": "python",
      "nbconvert_exporter": "python",
      "pygments_lexer": "ipython3",
      "version": "3.12.7"
    }
  },
  "nbformat": 4,
  "nbformat_minor": 5
}
