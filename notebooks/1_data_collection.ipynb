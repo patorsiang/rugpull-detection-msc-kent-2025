{
  "cells": [
    {
      "cell_type": "markdown",
      "id": "380092d0",
      "metadata": {},
      "source": [
        "# Collect Transactions"
      ]
    },
    {
      "cell_type": "markdown",
      "id": "314c3939",
      "metadata": {},
      "source": [
        "## Set up"
      ]
    },
    {
      "cell_type": "code",
      "execution_count": 1,
      "id": "6fa9b4ee",
      "metadata": {},
      "outputs": [],
      "source": [
        "\n",
        "import os\n",
        "from pathlib import Path\n",
        "import pandas as pd\n",
        "from tqdm import tqdm\n",
        "import shutil\n",
        "\n",
        "import sys\n",
        "PATH = Path.cwd().parents[0]\n",
        "sys.path.append(str(PATH))\n",
        "\n",
        "from backend.utils.data_loader import (\n",
        "  get_info_by_contract_addr,\n",
        "  save_bytecode_by_contract_addr,\n",
        "  get_bytecode_by_contract_addr,\n",
        "  save_transactions_by_contract_addr,\n",
        "  get_source_code_by_contract_addr,\n",
        "  save_sol_by_contract_addr\n",
        ")"
      ]
    },
    {
      "cell_type": "code",
      "execution_count": 2,
      "id": "602032af",
      "metadata": {},
      "outputs": [],
      "source": [
        "DATA_PATH = os.path.join(PATH, 'data')\n",
        "LABELED_PATH = os.path.join(DATA_PATH, 'labeled')\n",
        "TXN_PATH = os.path.join(LABELED_PATH, 'txn')\n",
        "HEX_PATH = os.path.join(LABELED_PATH, 'hex')\n",
        "SOL_PATH = os.path.join(LABELED_PATH, 'sol')\n",
        "GROUND_PATH = os.path.join(DATA_PATH, 'external/crpwarner/dataset/groundtruth')\n",
        "HEX_GROUND_PATH = os.path.join(GROUND_PATH, 'hex')\n",
        "SOL_GROUND_PATH = os.path.join(GROUND_PATH, 'sol')\n",
        "TMP_PATH = os.path.join(DATA_PATH, 'interim')\n",
        "HEX_TMP_PATH = os.path.join(TMP_PATH, 'hex')\n",
        "SOL_TMP_PATH = os.path.join(TMP_PATH, 'sol')\n"
      ]
    },
    {
      "cell_type": "markdown",
      "id": "9052b280",
      "metadata": {},
      "source": [
        "## Load Dataset"
      ]
    },
    {
      "cell_type": "code",
      "execution_count": 3,
      "id": "c4a6a175",
      "metadata": {},
      "outputs": [],
      "source": [
        "df = pd.read_csv(os.path.join(LABELED_PATH, 'groundtruth.csv'))"
      ]
    },
    {
      "cell_type": "code",
      "execution_count": 4,
      "id": "d49bb6b5",
      "metadata": {},
      "outputs": [],
      "source": [
        "contract_addresses = df['Address'].unique().tolist()"
      ]
    },
    {
      "cell_type": "markdown",
      "id": "df8cad12",
      "metadata": {},
      "source": [
        "## Load API Key"
      ]
    },
    {
      "cell_type": "code",
      "execution_count": 5,
      "id": "3f350fdb",
      "metadata": {},
      "outputs": [
        {
          "name": "stderr",
          "output_type": "stream",
          "text": [
            "  0%|          | 0/70 [00:00<?, ?it/s]"
          ]
        },
        {
          "name": "stderr",
          "output_type": "stream",
          "text": [
            "100%|██████████| 70/70 [00:00<00:00, 575.75it/s]\n"
          ]
        }
      ],
      "source": [
        "for src_file in tqdm(list(Path(HEX_GROUND_PATH).glob('*.hex'))):\n",
        "    address = src_file.stem.lower()\n",
        "    if address in contract_addresses:\n",
        "        shutil.copy(src_file, os.path.join(HEX_PATH, f'{address}.hex'))\n",
        "    else:\n",
        "        shutil.copy(src_file, os.path.join(HEX_TMP_PATH, f'{address}.hex'))"
      ]
    },
    {
      "cell_type": "code",
      "execution_count": 6,
      "id": "a04976c4",
      "metadata": {},
      "outputs": [
        {
          "name": "stderr",
          "output_type": "stream",
          "text": [
            "100%|██████████| 71/71 [00:00<00:00, 1875.94it/s]\n"
          ]
        }
      ],
      "source": [
        "for src_file in tqdm(list(Path(SOL_GROUND_PATH).glob('*.sol'))):\n",
        "    address = src_file.stem.lower()\n",
        "    if address in contract_addresses:\n",
        "        shutil.copy(src_file, os.path.join(SOL_PATH, f'{address}.sol'))\n",
        "    else:\n",
        "        shutil.copy(src_file, os.path.join(SOL_TMP_PATH, f'{address}.sol'))"
      ]
    },
    {
      "cell_type": "code",
      "execution_count": 7,
      "id": "bb636a37",
      "metadata": {},
      "outputs": [
        {
          "name": "stderr",
          "output_type": "stream",
          "text": [
            "100%|██████████| 69/69 [00:00<00:00, 139.20it/s]"
          ]
        },
        {
          "name": "stdout",
          "output_type": "stream",
          "text": [
            "error: NOTOK\n"
          ]
        },
        {
          "name": "stderr",
          "output_type": "stream",
          "text": [
            "\n"
          ]
        }
      ],
      "source": [
        "# 3. Collect and extract\n",
        "for address in tqdm(contract_addresses):\n",
        "    addr = address.lower()\n",
        "    if addr not in [filename.lower().split('.')[0] for filename in os.listdir(TXN_PATH)]:\n",
        "        info = get_info_by_contract_addr(address)\n",
        "        save_transactions_by_contract_addr(TXN_PATH, address, info)\n",
        "        if 'creationBytecode' in info.get('creator'):\n",
        "            save_bytecode_by_contract_addr(HEX_PATH, address, info['creator']['creationBytecode'])\n",
        "\n",
        "    if addr not in [filename.lower().split('.')[0] for filename in os.listdir(HEX_PATH)]:\n",
        "        bytecode = get_bytecode_by_contract_addr(addr)\n",
        "        save_bytecode_by_contract_addr(HEX_PATH, address, bytecode)\n",
        "\n",
        "    if addr not in [filename.lower().split('.')[0] for filename in os.listdir(SOL_PATH)]:\n",
        "        source = get_source_code_by_contract_addr(address)\n",
        "        if 'SourceCode' in source:\n",
        "            save_sol_by_contract_addr(SOL_PATH, address, source['SourceCode'])"
      ]
    },
    {
      "cell_type": "code",
      "execution_count": 8,
      "id": "a41535ae",
      "metadata": {},
      "outputs": [
        {
          "data": {
            "text/plain": [
              "(69, 69)"
            ]
          },
          "execution_count": 8,
          "metadata": {},
          "output_type": "execute_result"
        }
      ],
      "source": [
        "len(os.listdir(TXN_PATH)), len(os.listdir(HEX_PATH))"
      ]
    }
  ],
  "metadata": {
    "kernelspec": {
      "display_name": "ml-algo",
      "language": "python",
      "name": "python3"
    },
    "language_info": {
      "codemirror_mode": {
        "name": "ipython",
        "version": 3
      },
      "file_extension": ".py",
      "mimetype": "text/x-python",
      "name": "python",
      "nbconvert_exporter": "python",
      "pygments_lexer": "ipython3",
      "version": "3.12.7"
    }
  },
  "nbformat": 4,
  "nbformat_minor": 5
}
