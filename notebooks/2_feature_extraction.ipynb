{
 "cells": [
  {
   "cell_type": "markdown",
   "id": "41812df7",
   "metadata": {},
   "source": [
    "# Feature Extraction"
   ]
  },
  {
   "cell_type": "markdown",
   "id": "cd193ae8",
   "metadata": {},
   "source": [
    "## Set up"
   ]
  },
  {
   "cell_type": "code",
   "execution_count": 1,
   "id": "4a5193a9",
   "metadata": {},
   "outputs": [],
   "source": [
    "import os\n",
    "from pathlib import Path\n",
    "\n",
    "import sys\n",
    "PATH = Path.cwd().parents[0]\n",
    "sys.path.append(str(PATH))\n",
    "from backend.utils.feature_extraction.bytecode import build_bytecode_feature_dataframe\n",
    "from backend.utils.feature_extraction.transaction import build_txn_feature_dataframe\n"
   ]
  },
  {
   "cell_type": "markdown",
   "id": "5650959f",
   "metadata": {},
   "source": [
    "## Bytecode"
   ]
  },
  {
   "cell_type": "code",
   "execution_count": 2,
   "id": "08af8bcd",
   "metadata": {},
   "outputs": [
    {
     "name": "stderr",
     "output_type": "stream",
     "text": [
      "invalid instruction: PUSH30\n",
      "invalid instruction: PUSH16\n",
      "invalid instruction: PUSH30\n",
      "invalid instruction: PUSH24\n",
      "invalid instruction: PUSH30\n",
      "invalid instruction: PUSH16\n",
      "invalid instruction: PUSH15\n",
      "invalid instruction: PUSH13\n",
      "invalid instruction: PUSH25\n",
      "invalid instruction: PUSH16\n",
      "invalid instruction: PUSH13\n",
      "invalid instruction: PUSH25\n",
      "invalid instruction: PUSH21\n",
      "invalid instruction: PUSH16\n",
      "invalid instruction: PUSH15\n",
      "invalid instruction: PUSH19\n",
      "invalid instruction: PUSH29\n",
      "invalid instruction: PUSH26\n",
      "invalid instruction: PUSH20\n",
      "invalid instruction: PUSH17\n",
      "invalid instruction: PUSH16\n",
      "invalid instruction: PUSH20\n",
      "invalid instruction: PUSH13\n",
      "invalid instruction: PUSH13\n",
      "invalid instruction: PUSH13\n",
      "invalid instruction: PUSH24\n",
      "invalid instruction: PUSH27\n",
      "invalid instruction: PUSH32\n",
      "invalid instruction: PUSH29\n"
     ]
    }
   ],
   "source": [
    "LABEL_PATH = os.path.join(PATH, 'data/labeled')\n",
    "HEX_PATH = os.path.join(LABEL_PATH, 'hex')\n",
    "bytecode_df, _ = build_bytecode_feature_dataframe(HEX_PATH)"
   ]
  },
  {
   "cell_type": "code",
   "execution_count": 3,
   "id": "f49bf871",
   "metadata": {},
   "outputs": [
    {
     "data": {
      "application/vnd.microsoft.datawrangler.viewer.v0+json": {
       "columns": [
        {
         "name": "Address",
         "rawType": "object",
         "type": "string"
        },
        {
         "name": "opcode_entropy",
         "rawType": "float64",
         "type": "float"
        },
        {
         "name": "byte_entropy",
         "rawType": "float64",
         "type": "float"
        },
        {
         "name": "byte_0x",
         "rawType": "float64",
         "type": "float"
        },
        {
         "name": "byte_60",
         "rawType": "float64",
         "type": "float"
        },
        {
         "name": "byte_80",
         "rawType": "float64",
         "type": "float"
        },
        {
         "name": "byte_40",
         "rawType": "float64",
         "type": "float"
        },
        {
         "name": "byte_52",
         "rawType": "float64",
         "type": "float"
        },
        {
         "name": "byte_04",
         "rawType": "float64",
         "type": "float"
        },
        {
         "name": "byte_36",
         "rawType": "float64",
         "type": "float"
        },
        {
         "name": "byte_10",
         "rawType": "float64",
         "type": "float"
        },
        {
         "name": "byte_61",
         "rawType": "float64",
         "type": "float"
        },
        {
         "name": "byte_00",
         "rawType": "float64",
         "type": "float"
        },
        {
         "name": "byte_db",
         "rawType": "float64",
         "type": "float"
        },
        {
         "name": "byte_57",
         "rawType": "float64",
         "type": "float"
        },
        {
         "name": "byte_35",
         "rawType": "float64",
         "type": "float"
        },
        {
         "name": "byte_7c",
         "rawType": "float64",
         "type": "float"
        },
        {
         "name": "byte_01",
         "rawType": "float64",
         "type": "float"
        },
        {
         "name": "byte_90",
         "rawType": "float64",
         "type": "float"
        },
        {
         "name": "byte_63",
         "rawType": "float64",
         "type": "float"
        },
        {
         "name": "byte_ff",
         "rawType": "float64",
         "type": "float"
        },
        {
         "name": "byte_16",
         "rawType": "float64",
         "type": "float"
        },
        {
         "name": "byte_06",
         "rawType": "float64",
         "type": "float"
        },
        {
         "name": "byte_fd",
         "rawType": "float64",
         "type": "float"
        },
        {
         "name": "byte_de",
         "rawType": "float64",
         "type": "float"
        },
        {
         "name": "byte_03",
         "rawType": "float64",
         "type": "float"
        },
        {
         "name": "byte_14",
         "rawType": "float64",
         "type": "float"
        },
        {
         "name": "byte_e0",
         "rawType": "float64",
         "type": "float"
        },
        {
         "name": "byte_09",
         "rawType": "float64",
         "type": "float"
        },
        {
         "name": "byte_5e",
         "rawType": "float64",
         "type": "float"
        },
        {
         "name": "byte_a7",
         "rawType": "float64",
         "type": "float"
        },
        {
         "name": "byte_b3",
         "rawType": "float64",
         "type": "float"
        },
        {
         "name": "byte_70",
         "rawType": "float64",
         "type": "float"
        },
        {
         "name": "byte_18",
         "rawType": "float64",
         "type": "float"
        },
        {
         "name": "byte_0d",
         "rawType": "float64",
         "type": "float"
        },
        {
         "name": "byte_dd",
         "rawType": "float64",
         "type": "float"
        },
        {
         "name": "byte_d5",
         "rawType": "float64",
         "type": "float"
        },
        {
         "name": "byte_23",
         "rawType": "float64",
         "type": "float"
        },
        {
         "name": "byte_b8",
         "rawType": "float64",
         "type": "float"
        },
        {
         "name": "byte_72",
         "rawType": "float64",
         "type": "float"
        },
        {
         "name": "byte_02",
         "rawType": "float64",
         "type": "float"
        },
        {
         "name": "byte_31",
         "rawType": "float64",
         "type": "float"
        },
        {
         "name": "byte_3c",
         "rawType": "float64",
         "type": "float"
        },
        {
         "name": "byte_e5",
         "rawType": "float64",
         "type": "float"
        },
        {
         "name": "byte_67",
         "rawType": "float64",
         "type": "float"
        },
        {
         "name": "byte_85",
         "rawType": "float64",
         "type": "float"
        },
        {
         "name": "byte_42",
         "rawType": "float64",
         "type": "float"
        },
        {
         "name": "byte_96",
         "rawType": "float64",
         "type": "float"
        },
        {
         "name": "byte_6c",
         "rawType": "float64",
         "type": "float"
        },
        {
         "name": "byte_68",
         "rawType": "float64",
         "type": "float"
        },
        {
         "name": "byte_b6",
         "rawType": "float64",
         "type": "float"
        },
        {
         "name": "byte_66",
         "rawType": "float64",
         "type": "float"
        },
        {
         "name": "byte_84",
         "rawType": "float64",
         "type": "float"
        },
        {
         "name": "byte_e3",
         "rawType": "float64",
         "type": "float"
        },
        {
         "name": "byte_a0",
         "rawType": "float64",
         "type": "float"
        },
        {
         "name": "byte_82",
         "rawType": "float64",
         "type": "float"
        },
        {
         "name": "byte_48",
         "rawType": "float64",
         "type": "float"
        },
        {
         "name": "byte_71",
         "rawType": "float64",
         "type": "float"
        },
        {
         "name": "byte_50",
         "rawType": "float64",
         "type": "float"
        },
        {
         "name": "byte_a6",
         "rawType": "float64",
         "type": "float"
        },
        {
         "name": "byte_9f",
         "rawType": "float64",
         "type": "float"
        },
        {
         "name": "byte_8d",
         "rawType": "float64",
         "type": "float"
        },
        {
         "name": "byte_a5",
         "rawType": "float64",
         "type": "float"
        },
        {
         "name": "byte_cb",
         "rawType": "float64",
         "type": "float"
        },
        {
         "name": "byte_5b",
         "rawType": "float64",
         "type": "float"
        },
        {
         "name": "byte_95",
         "rawType": "float64",
         "type": "float"
        },
        {
         "name": "byte_d8",
         "rawType": "float64",
         "type": "float"
        },
        {
         "name": "byte_9b",
         "rawType": "float64",
         "type": "float"
        },
        {
         "name": "byte_41",
         "rawType": "float64",
         "type": "float"
        },
        {
         "name": "byte_a9",
         "rawType": "float64",
         "type": "float"
        },
        {
         "name": "byte_05",
         "rawType": "float64",
         "type": "float"
        },
        {
         "name": "byte_9c",
         "rawType": "float64",
         "type": "float"
        },
        {
         "name": "byte_bb",
         "rawType": "float64",
         "type": "float"
        },
        {
         "name": "byte_9d",
         "rawType": "float64",
         "type": "float"
        },
        {
         "name": "byte_d7",
         "rawType": "float64",
         "type": "float"
        },
        {
         "name": "byte_3d",
         "rawType": "float64",
         "type": "float"
        },
        {
         "name": "byte_d6",
         "rawType": "float64",
         "type": "float"
        },
        {
         "name": "byte_62",
         "rawType": "float64",
         "type": "float"
        },
        {
         "name": "byte_ed",
         "rawType": "float64",
         "type": "float"
        },
        {
         "name": "byte_3e",
         "rawType": "float64",
         "type": "float"
        },
        {
         "name": "byte_f2",
         "rawType": "float64",
         "type": "float"
        },
        {
         "name": "byte_8b",
         "rawType": "float64",
         "type": "float"
        },
        {
         "name": "byte_34",
         "rawType": "float64",
         "type": "float"
        },
        {
         "name": "byte_15",
         "rawType": "float64",
         "type": "float"
        },
        {
         "name": "byte_ec",
         "rawType": "float64",
         "type": "float"
        },
        {
         "name": "byte_f5",
         "rawType": "float64",
         "type": "float"
        },
        {
         "name": "byte_21",
         "rawType": "float64",
         "type": "float"
        },
        {
         "name": "byte_56",
         "rawType": "float64",
         "type": "float"
        },
        {
         "name": "byte_51",
         "rawType": "float64",
         "type": "float"
        },
        {
         "name": "byte_20",
         "rawType": "float64",
         "type": "float"
        },
        {
         "name": "byte_81",
         "rawType": "float64",
         "type": "float"
        },
        {
         "name": "byte_83",
         "rawType": "float64",
         "type": "float"
        },
        {
         "name": "byte_91",
         "rawType": "float64",
         "type": "float"
        },
        {
         "name": "byte_1a",
         "rawType": "float64",
         "type": "float"
        },
        {
         "name": "byte_1f",
         "rawType": "float64",
         "type": "float"
        },
        {
         "name": "byte_0a",
         "rawType": "float64",
         "type": "float"
        },
        {
         "name": "byte_19",
         "rawType": "float64",
         "type": "float"
        },
        {
         "name": "byte_92",
         "rawType": "float64",
         "type": "float"
        },
        {
         "name": "byte_f3",
         "rawType": "float64",
         "type": "float"
        },
        {
         "name": "byte_73",
         "rawType": "float64",
         "type": "float"
        },
        {
         "name": "byte_bf",
         "rawType": "float64",
         "type": "float"
        },
        {
         "name": "byte_e1",
         "rawType": "float64",
         "type": "float"
        },
        {
         "name": "byte_ea",
         "rawType": "float64",
         "type": "float"
        },
        {
         "name": "byte_07",
         "rawType": "float64",
         "type": "float"
        },
        {
         "name": "byte_b1",
         "rawType": "float64",
         "type": "float"
        },
        {
         "name": "byte_0c",
         "rawType": "float64",
         "type": "float"
        },
        {
         "name": "byte_6b",
         "rawType": "float64",
         "type": "float"
        },
        {
         "name": "byte_b7",
         "rawType": "float64",
         "type": "float"
        },
        {
         "name": "byte_9a",
         "rawType": "float64",
         "type": "float"
        },
        {
         "name": "byte_0b",
         "rawType": "float64",
         "type": "float"
        },
        {
         "name": "byte_77",
         "rawType": "float64",
         "type": "float"
        },
        {
         "name": "byte_c2",
         "rawType": "float64",
         "type": "float"
        },
        {
         "name": "byte_8a",
         "rawType": "float64",
         "type": "float"
        },
        {
         "name": "byte_ef",
         "rawType": "float64",
         "type": "float"
        },
        {
         "name": "byte_2e",
         "rawType": "float64",
         "type": "float"
        },
        {
         "name": "byte_97",
         "rawType": "float64",
         "type": "float"
        },
        {
         "name": "byte_54",
         "rawType": "float64",
         "type": "float"
        },
        {
         "name": "byte_89",
         "rawType": "float64",
         "type": "float"
        },
        {
         "name": "byte_0e",
         "rawType": "float64",
         "type": "float"
        },
        {
         "name": "byte_29",
         "rawType": "float64",
         "type": "float"
        },
        {
         "name": "byte_ab",
         "rawType": "float64",
         "type": "float"
        },
        {
         "name": "byte_b4",
         "rawType": "float64",
         "type": "float"
        },
        {
         "name": "byte_0f",
         "rawType": "float64",
         "type": "float"
        },
        {
         "name": "byte_74",
         "rawType": "float64",
         "type": "float"
        },
        {
         "name": "byte_22",
         "rawType": "float64",
         "type": "float"
        },
        {
         "name": "byte_99",
         "rawType": "float64",
         "type": "float"
        },
        {
         "name": "byte_47",
         "rawType": "float64",
         "type": "float"
        },
        {
         "name": "byte_8f",
         "rawType": "float64",
         "type": "float"
        },
        {
         "name": "byte_e8",
         "rawType": "float64",
         "type": "float"
        },
        {
         "name": "byte_37",
         "rawType": "float64",
         "type": "float"
        },
        {
         "name": "byte_4d",
         "rawType": "float64",
         "type": "float"
        },
        {
         "name": "byte_12",
         "rawType": "float64",
         "type": "float"
        },
        {
         "name": "byte_5c",
         "rawType": "float64",
         "type": "float"
        },
        {
         "name": "byte_c8",
         "rawType": "float64",
         "type": "float"
        },
        {
         "name": "byte_58",
         "rawType": "float64",
         "type": "float"
        },
        {
         "name": "byte_df",
         "rawType": "float64",
         "type": "float"
        },
        {
         "name": "byte_8c",
         "rawType": "float64",
         "type": "float"
        },
        {
         "name": "byte_11",
         "rawType": "float64",
         "type": "float"
        },
        {
         "name": "byte_33",
         "rawType": "float64",
         "type": "float"
        },
        {
         "name": "byte_55",
         "rawType": "float64",
         "type": "float"
        },
        {
         "name": "byte_7f",
         "rawType": "float64",
         "type": "float"
        },
        {
         "name": "byte_eb",
         "rawType": "float64",
         "type": "float"
        },
        {
         "name": "byte_7d",
         "rawType": "float64",
         "type": "float"
        },
        {
         "name": "byte_d1",
         "rawType": "float64",
         "type": "float"
        },
        {
         "name": "byte_4f",
         "rawType": "float64",
         "type": "float"
        },
        {
         "name": "byte_1e",
         "rawType": "float64",
         "type": "float"
        },
        {
         "name": "byte_c0",
         "rawType": "float64",
         "type": "float"
        },
        {
         "name": "byte_f7",
         "rawType": "float64",
         "type": "float"
        },
        {
         "name": "byte_b2",
         "rawType": "float64",
         "type": "float"
        },
        {
         "name": "byte_c7",
         "rawType": "float64",
         "type": "float"
        },
        {
         "name": "byte_c3",
         "rawType": "float64",
         "type": "float"
        },
        {
         "name": "byte_b9",
         "rawType": "float64",
         "type": "float"
        },
        {
         "name": "byte_25",
         "rawType": "float64",
         "type": "float"
        },
        {
         "name": "byte_a3",
         "rawType": "float64",
         "type": "float"
        },
        {
         "name": "byte_08",
         "rawType": "float64",
         "type": "float"
        },
        {
         "name": "byte_ce",
         "rawType": "float64",
         "type": "float"
        },
        {
         "name": "byte_87",
         "rawType": "float64",
         "type": "float"
        },
        {
         "name": "byte_46",
         "rawType": "float64",
         "type": "float"
        },
        {
         "name": "byte_86",
         "rawType": "float64",
         "type": "float"
        },
        {
         "name": "byte_b5",
         "rawType": "float64",
         "type": "float"
        },
        {
         "name": "byte_5f",
         "rawType": "float64",
         "type": "float"
        },
        {
         "name": "byte_ad",
         "rawType": "float64",
         "type": "float"
        },
        {
         "name": "byte_1b",
         "rawType": "float64",
         "type": "float"
        },
        {
         "name": "byte_e2",
         "rawType": "float64",
         "type": "float"
        },
        {
         "name": "byte_69",
         "rawType": "float64",
         "type": "float"
        },
        {
         "name": "byte_b0",
         "rawType": "float64",
         "type": "float"
        },
        {
         "name": "byte_fc",
         "rawType": "float64",
         "type": "float"
        },
        {
         "name": "byte_aa",
         "rawType": "float64",
         "type": "float"
        },
        {
         "name": "byte_2b",
         "rawType": "float64",
         "type": "float"
        },
        {
         "name": "byte_f1",
         "rawType": "float64",
         "type": "float"
        },
        {
         "name": "byte_c4",
         "rawType": "float64",
         "type": "float"
        },
        {
         "name": "byte_a1",
         "rawType": "float64",
         "type": "float"
        },
        {
         "name": "byte_28",
         "rawType": "float64",
         "type": "float"
        },
        {
         "name": "byte_5a",
         "rawType": "float64",
         "type": "float"
        },
        {
         "name": "byte_93",
         "rawType": "float64",
         "type": "float"
        },
        {
         "name": "byte_94",
         "rawType": "float64",
         "type": "float"
        },
        {
         "name": "byte_7b",
         "rawType": "float64",
         "type": "float"
        },
        {
         "name": "byte_bc",
         "rawType": "float64",
         "type": "float"
        },
        {
         "name": "byte_88",
         "rawType": "float64",
         "type": "float"
        },
        {
         "name": "byte_cd",
         "rawType": "float64",
         "type": "float"
        },
        {
         "name": "byte_f8",
         "rawType": "float64",
         "type": "float"
        },
        {
         "name": "byte_2f",
         "rawType": "float64",
         "type": "float"
        },
        {
         "name": "byte_59",
         "rawType": "float64",
         "type": "float"
        },
        {
         "name": "byte_98",
         "rawType": "float64",
         "type": "float"
        },
        {
         "name": "byte_45",
         "rawType": "float64",
         "type": "float"
        },
        {
         "name": "byte_2c",
         "rawType": "float64",
         "type": "float"
        },
        {
         "name": "byte_f9",
         "rawType": "float64",
         "type": "float"
        },
        {
         "name": "byte_ae",
         "rawType": "float64",
         "type": "float"
        },
        {
         "name": "byte_c6",
         "rawType": "float64",
         "type": "float"
        },
        {
         "name": "byte_a2",
         "rawType": "float64",
         "type": "float"
        },
        {
         "name": "byte_17",
         "rawType": "float64",
         "type": "float"
        },
        {
         "name": "byte_3a",
         "rawType": "float64",
         "type": "float"
        },
        {
         "name": "byte_43",
         "rawType": "float64",
         "type": "float"
        },
        {
         "name": "byte_fe",
         "rawType": "float64",
         "type": "float"
        },
        {
         "name": "byte_c9",
         "rawType": "float64",
         "type": "float"
        },
        {
         "name": "byte_cc",
         "rawType": "float64",
         "type": "float"
        },
        {
         "name": "byte_32",
         "rawType": "float64",
         "type": "float"
        },
        {
         "name": "byte_bd",
         "rawType": "float64",
         "type": "float"
        },
        {
         "name": "byte_44",
         "rawType": "float64",
         "type": "float"
        },
        {
         "name": "byte_cf",
         "rawType": "float64",
         "type": "float"
        },
        {
         "name": "byte_7a",
         "rawType": "float64",
         "type": "float"
        },
        {
         "name": "byte_5d",
         "rawType": "float64",
         "type": "float"
        },
        {
         "name": "byte_39",
         "rawType": "float64",
         "type": "float"
        },
        {
         "name": "byte_6d",
         "rawType": "float64",
         "type": "float"
        },
        {
         "name": "byte_53",
         "rawType": "float64",
         "type": "float"
        },
        {
         "name": "byte_13",
         "rawType": "float64",
         "type": "float"
        },
        {
         "name": "byte_d0",
         "rawType": "float64",
         "type": "float"
        },
        {
         "name": "byte_a4",
         "rawType": "float64",
         "type": "float"
        },
        {
         "name": "byte_49",
         "rawType": "float64",
         "type": "float"
        },
        {
         "name": "byte_da",
         "rawType": "float64",
         "type": "float"
        },
        {
         "name": "byte_af",
         "rawType": "float64",
         "type": "float"
        },
        {
         "name": "byte_6f",
         "rawType": "float64",
         "type": "float"
        },
        {
         "name": "byte_64",
         "rawType": "float64",
         "type": "float"
        },
        {
         "name": "byte_65",
         "rawType": "float64",
         "type": "float"
        },
        {
         "name": "byte_30",
         "rawType": "float64",
         "type": "float"
        },
        {
         "name": "byte_c5",
         "rawType": "float64",
         "type": "float"
        },
        {
         "name": "byte_1c",
         "rawType": "float64",
         "type": "float"
        },
        {
         "name": "byte_4a",
         "rawType": "float64",
         "type": "float"
        },
        {
         "name": "byte_79",
         "rawType": "float64",
         "type": "float"
        },
        {
         "name": "byte_6a",
         "rawType": "float64",
         "type": "float"
        },
        {
         "name": "byte_fa",
         "rawType": "float64",
         "type": "float"
        },
        {
         "name": "byte_d3",
         "rawType": "float64",
         "type": "float"
        },
        {
         "name": "byte_2a",
         "rawType": "float64",
         "type": "float"
        },
        {
         "name": "byte_78",
         "rawType": "float64",
         "type": "float"
        },
        {
         "name": "byte_2d",
         "rawType": "float64",
         "type": "float"
        },
        {
         "name": "byte_c1",
         "rawType": "float64",
         "type": "float"
        },
        {
         "name": "byte_24",
         "rawType": "float64",
         "type": "float"
        },
        {
         "name": "byte_3b",
         "rawType": "float64",
         "type": "float"
        },
        {
         "name": "byte_ca",
         "rawType": "float64",
         "type": "float"
        },
        {
         "name": "byte_76",
         "rawType": "float64",
         "type": "float"
        },
        {
         "name": "byte_8e",
         "rawType": "float64",
         "type": "float"
        },
        {
         "name": "byte_f4",
         "rawType": "float64",
         "type": "float"
        },
        {
         "name": "byte_d9",
         "rawType": "float64",
         "type": "float"
        },
        {
         "name": "byte_4c",
         "rawType": "float64",
         "type": "float"
        },
        {
         "name": "byte_26",
         "rawType": "float64",
         "type": "float"
        },
        {
         "name": "byte_6e",
         "rawType": "float64",
         "type": "float"
        },
        {
         "name": "byte_75",
         "rawType": "float64",
         "type": "float"
        },
        {
         "name": "byte_a8",
         "rawType": "float64",
         "type": "float"
        },
        {
         "name": "byte_1d",
         "rawType": "float64",
         "type": "float"
        },
        {
         "name": "byte_ac",
         "rawType": "float64",
         "type": "float"
        },
        {
         "name": "byte_ba",
         "rawType": "float64",
         "type": "float"
        },
        {
         "name": "byte_e6",
         "rawType": "float64",
         "type": "float"
        },
        {
         "name": "byte_d2",
         "rawType": "float64",
         "type": "float"
        },
        {
         "name": "byte_4e",
         "rawType": "float64",
         "type": "float"
        },
        {
         "name": "byte_fb",
         "rawType": "float64",
         "type": "float"
        },
        {
         "name": "byte_ee",
         "rawType": "float64",
         "type": "float"
        },
        {
         "name": "byte_38",
         "rawType": "float64",
         "type": "float"
        },
        {
         "name": "byte_4b",
         "rawType": "float64",
         "type": "float"
        },
        {
         "name": "byte_e9",
         "rawType": "float64",
         "type": "float"
        },
        {
         "name": "byte_dc",
         "rawType": "float64",
         "type": "float"
        },
        {
         "name": "byte_f6",
         "rawType": "float64",
         "type": "float"
        },
        {
         "name": "byte_3f",
         "rawType": "float64",
         "type": "float"
        },
        {
         "name": "byte_d4",
         "rawType": "float64",
         "type": "float"
        },
        {
         "name": "byte_e7",
         "rawType": "float64",
         "type": "float"
        },
        {
         "name": "byte_be",
         "rawType": "float64",
         "type": "float"
        },
        {
         "name": "byte_f0",
         "rawType": "float64",
         "type": "float"
        },
        {
         "name": "byte_e4",
         "rawType": "float64",
         "type": "float"
        },
        {
         "name": "byte_7e",
         "rawType": "float64",
         "type": "float"
        },
        {
         "name": "byte_27",
         "rawType": "float64",
         "type": "float"
        },
        {
         "name": "byte_9e",
         "rawType": "float64",
         "type": "float"
        },
        {
         "name": "add",
         "rawType": "int64",
         "type": "integer"
        },
        {
         "name": "add add",
         "rawType": "int64",
         "type": "integer"
        },
        {
         "name": "add and",
         "rawType": "int64",
         "type": "integer"
        },
        {
         "name": "add and dup3",
         "rawType": "int64",
         "type": "integer"
        },
        {
         "name": "add calldataload",
         "rawType": "int64",
         "type": "integer"
        },
        {
         "name": "add dup1",
         "rawType": "int64",
         "type": "integer"
        },
        {
         "name": "add dup1 dup1",
         "rawType": "int64",
         "type": "integer"
        },
        {
         "name": "add dup1 dup4",
         "rawType": "int64",
         "type": "integer"
        },
        {
         "name": "add dup1 push1",
         "rawType": "int64",
         "type": "integer"
        },
        {
         "name": "add dup1 push2",
         "rawType": "int64",
         "type": "integer"
        },
        {
         "name": "add dup1 push32",
         "rawType": "int64",
         "type": "integer"
        },
        {
         "name": "add dup2",
         "rawType": "int64",
         "type": "integer"
        },
        {
         "name": "add dup3",
         "rawType": "int64",
         "type": "integer"
        },
        {
         "name": "add dup3 dup2",
         "rawType": "int64",
         "type": "integer"
        },
        {
         "name": "add dup4",
         "rawType": "int64",
         "type": "integer"
        },
        {
         "name": "add dup5",
         "rawType": "int64",
         "type": "integer"
        },
        {
         "name": "add mload",
         "rawType": "int64",
         "type": "integer"
        },
        {
         "name": "add mstore",
         "rawType": "int64",
         "type": "integer"
        },
        {
         "name": "add mstore pop",
         "rawType": "int64",
         "type": "integer"
        },
        {
         "name": "add mstore push1",
         "rawType": "int64",
         "type": "integer"
        },
        {
         "name": "add mstore push2",
         "rawType": "int64",
         "type": "integer"
        },
        {
         "name": "add mstore push32",
         "rawType": "int64",
         "type": "integer"
        },
        {
         "name": "add push1",
         "rawType": "int64",
         "type": "integer"
        },
        {
         "name": "add push1 mload",
         "rawType": "int64",
         "type": "integer"
        },
        {
         "name": "add push1 mstore",
         "rawType": "int64",
         "type": "integer"
        },
        {
         "name": "add push1 push1",
         "rawType": "int64",
         "type": "integer"
        },
        {
         "name": "add push1 sha3",
         "rawType": "int64",
         "type": "integer"
        },
        {
         "name": "add push2",
         "rawType": "int64",
         "type": "integer"
        },
        {
         "name": "add push2 jump",
         "rawType": "int64",
         "type": "integer"
        },
        {
         "name": "add push2 push1",
         "rawType": "int64",
         "type": "integer"
        },
        {
         "name": "add push2 swap1",
         "rawType": "int64",
         "type": "integer"
        },
        {
         "name": "add sload",
         "rawType": "int64",
         "type": "integer"
        },
        {
         "name": "add swap1",
         "rawType": "int64",
         "type": "integer"
        },
        {
         "name": "add swap1 dup1",
         "rawType": "int64",
         "type": "integer"
        },
        {
         "name": "add swap1 dup2",
         "rawType": "int64",
         "type": "integer"
        },
        {
         "name": "add swap1 jump",
         "rawType": "int64",
         "type": "integer"
        },
        {
         "name": "add swap1 pop",
         "rawType": "int64",
         "type": "integer"
        },
        {
         "name": "add swap1 push1",
         "rawType": "int64",
         "type": "integer"
        },
        {
         "name": "add swap1 push2",
         "rawType": "int64",
         "type": "integer"
        },
        {
         "name": "add swap1 swap3",
         "rawType": "int64",
         "type": "integer"
        },
        {
         "name": "add swap2",
         "rawType": "int64",
         "type": "integer"
        },
        {
         "name": "add swap2 pop",
         "rawType": "int64",
         "type": "integer"
        },
        {
         "name": "add swap2 swap1",
         "rawType": "int64",
         "type": "integer"
        },
        {
         "name": "add swap3",
         "rawType": "int64",
         "type": "integer"
        },
        {
         "name": "address",
         "rawType": "int64",
         "type": "integer"
        },
        {
         "name": "and",
         "rawType": "int64",
         "type": "integer"
        },
        {
         "name": "and caller",
         "rawType": "int64",
         "type": "integer"
        },
        {
         "name": "and caller eq",
         "rawType": "int64",
         "type": "integer"
        },
        {
         "name": "and dup1",
         "rawType": "int64",
         "type": "integer"
        },
        {
         "name": "and dup2",
         "rawType": "int64",
         "type": "integer"
        },
        {
         "name": "and dup2 jump",
         "rawType": "int64",
         "type": "integer"
        },
        {
         "name": "and dup2 mstore",
         "rawType": "int64",
         "type": "integer"
        },
        {
         "name": "and dup3",
         "rawType": "int64",
         "type": "integer"
        },
        {
         "name": "and dup3 add",
         "rawType": "int64",
         "type": "integer"
        },
        {
         "name": "and dup3 mstore",
         "rawType": "int64",
         "type": "integer"
        },
        {
         "name": "and dup4",
         "rawType": "int64",
         "type": "integer"
        },
        {
         "name": "and dup5",
         "rawType": "int64",
         "type": "integer"
        },
        {
         "name": "and eq",
         "rawType": "int64",
         "type": "integer"
        },
        {
         "name": "and eq iszero",
         "rawType": "int64",
         "type": "integer"
        },
        {
         "name": "and eq push2",
         "rawType": "int64",
         "type": "integer"
        },
        {
         "name": "and iszero",
         "rawType": "int64",
         "type": "integer"
        },
        {
         "name": "and iszero push2",
         "rawType": "int64",
         "type": "integer"
        },
        {
         "name": "and jump",
         "rawType": "int64",
         "type": "integer"
        },
        {
         "name": "and jump jumpdest",
         "rawType": "int64",
         "type": "integer"
        },
        {
         "name": "and push1",
         "rawType": "int64",
         "type": "integer"
        },
        {
         "name": "and push1 dup2",
         "rawType": "int64",
         "type": "integer"
        },
        {
         "name": "and push1 push1",
         "rawType": "int64",
         "type": "integer"
        },
        {
         "name": "and push1 shl",
         "rawType": "int64",
         "type": "integer"
        },
        {
         "name": "and push1 swap1",
         "rawType": "int64",
         "type": "integer"
        },
        {
         "name": "and push2",
         "rawType": "int64",
         "type": "integer"
        },
        {
         "name": "and push2 jump",
         "rawType": "int64",
         "type": "integer"
        },
        {
         "name": "and push2 jumpi",
         "rawType": "int64",
         "type": "integer"
        },
        {
         "name": "and push20",
         "rawType": "int64",
         "type": "integer"
        },
        {
         "name": "and push20 and",
         "rawType": "int64",
         "type": "integer"
        },
        {
         "name": "and push32",
         "rawType": "int64",
         "type": "integer"
        },
        {
         "name": "and push4",
         "rawType": "int64",
         "type": "integer"
        },
        {
         "name": "and swap1",
         "rawType": "int64",
         "type": "integer"
        },
        {
         "name": "and swap1 dup4",
         "rawType": "int64",
         "type": "integer"
        },
        {
         "name": "and swap1 pop",
         "rawType": "int64",
         "type": "integer"
        },
        {
         "name": "and swap1 push1",
         "rawType": "int64",
         "type": "integer"
        },
        {
         "name": "and swap2",
         "rawType": "int64",
         "type": "integer"
        },
        {
         "name": "and swap2 and",
         "rawType": "int64",
         "type": "integer"
        },
        {
         "name": "call",
         "rawType": "int64",
         "type": "integer"
        },
        {
         "name": "call iszero",
         "rawType": "int64",
         "type": "integer"
        },
        {
         "name": "call iszero dup1",
         "rawType": "int64",
         "type": "integer"
        },
        {
         "name": "calldataload",
         "rawType": "int64",
         "type": "integer"
        },
        {
         "name": "calldataload push1",
         "rawType": "int64",
         "type": "integer"
        },
        {
         "name": "calldataload push2",
         "rawType": "int64",
         "type": "integer"
        },
        {
         "name": "calldataload push20",
         "rawType": "int64",
         "type": "integer"
        },
        {
         "name": "calldataload push20 and",
         "rawType": "int64",
         "type": "integer"
        },
        {
         "name": "calldataload swap1",
         "rawType": "int64",
         "type": "integer"
        },
        {
         "name": "calldataload swap1 push1",
         "rawType": "int64",
         "type": "integer"
        },
        {
         "name": "calldatasize",
         "rawType": "int64",
         "type": "integer"
        },
        {
         "name": "calldatasize push1",
         "rawType": "int64",
         "type": "integer"
        },
        {
         "name": "calldatasize push1 push2",
         "rawType": "int64",
         "type": "integer"
        },
        {
         "name": "calldatasize sub",
         "rawType": "int64",
         "type": "integer"
        },
        {
         "name": "calldatasize sub dup2",
         "rawType": "int64",
         "type": "integer"
        },
        {
         "name": "calldatasize sub push1",
         "rawType": "int64",
         "type": "integer"
        },
        {
         "name": "caller",
         "rawType": "int64",
         "type": "integer"
        },
        {
         "name": "caller eq",
         "rawType": "int64",
         "type": "integer"
        },
        {
         "name": "caller eq push2",
         "rawType": "int64",
         "type": "integer"
        },
        {
         "name": "caller push2",
         "rawType": "int64",
         "type": "integer"
        },
        {
         "name": "callvalue",
         "rawType": "int64",
         "type": "integer"
        },
        {
         "name": "callvalue dup1",
         "rawType": "int64",
         "type": "integer"
        },
        {
         "name": "callvalue dup1 iszero",
         "rawType": "int64",
         "type": "integer"
        },
        {
         "name": "codecopy",
         "rawType": "int64",
         "type": "integer"
        },
        {
         "name": "codecopy push1",
         "rawType": "int64",
         "type": "integer"
        },
        {
         "name": "codecopy push1 add",
         "rawType": "int64",
         "type": "integer"
        },
        {
         "name": "div",
         "rawType": "int64",
         "type": "integer"
        },
        {
         "name": "div mul",
         "rawType": "int64",
         "type": "integer"
        },
        {
         "name": "div push1",
         "rawType": "int64",
         "type": "integer"
        },
        {
         "name": "div push1 and",
         "rawType": "int64",
         "type": "integer"
        },
        {
         "name": "div push20",
         "rawType": "int64",
         "type": "integer"
        },
        {
         "name": "div push20 and",
         "rawType": "int64",
         "type": "integer"
        },
        {
         "name": "dup1",
         "rawType": "int64",
         "type": "integer"
        },
        {
         "name": "dup1 calldataload",
         "rawType": "int64",
         "type": "integer"
        },
        {
         "name": "dup1 calldataload push20",
         "rawType": "int64",
         "type": "integer"
        },
        {
         "name": "dup1 calldataload swap1",
         "rawType": "int64",
         "type": "integer"
        },
        {
         "name": "dup1 calldatasize",
         "rawType": "int64",
         "type": "integer"
        },
        {
         "name": "dup1 calldatasize sub",
         "rawType": "int64",
         "type": "integer"
        },
        {
         "name": "dup1 dup1",
         "rawType": "int64",
         "type": "integer"
        },
        {
         "name": "dup1 dup1 calldataload",
         "rawType": "int64",
         "type": "integer"
        },
        {
         "name": "dup1 dup1 push1",
         "rawType": "int64",
         "type": "integer"
        },
        {
         "name": "dup1 dup3",
         "rawType": "int64",
         "type": "integer"
        },
        {
         "name": "dup1 dup3 add",
         "rawType": "int64",
         "type": "integer"
        },
        {
         "name": "dup1 dup3 dup2",
         "rawType": "int64",
         "type": "integer"
        },
        {
         "name": "dup1 dup3 mstore",
         "rawType": "int64",
         "type": "integer"
        },
        {
         "name": "dup1 dup4",
         "rawType": "int64",
         "type": "integer"
        },
        {
         "name": "dup1 dup4 gt",
         "rawType": "int64",
         "type": "integer"
        },
        {
         "name": "dup1 dup4 sha3",
         "rawType": "int64",
         "type": "integer"
        },
        {
         "name": "dup1 dup4 sub",
         "rawType": "int64",
         "type": "integer"
        },
        {
         "name": "dup1 dup5",
         "rawType": "int64",
         "type": "integer"
        },
        {
         "name": "dup1 extcodesize",
         "rawType": "int64",
         "type": "integer"
        },
        {
         "name": "dup1 extcodesize iszero",
         "rawType": "int64",
         "type": "integer"
        },
        {
         "name": "dup1 iszero",
         "rawType": "int64",
         "type": "integer"
        },
        {
         "name": "dup1 iszero push2",
         "rawType": "int64",
         "type": "integer"
        },
        {
         "name": "dup1 mload",
         "rawType": "int64",
         "type": "integer"
        },
        {
         "name": "dup1 mload push1",
         "rawType": "int64",
         "type": "integer"
        },
        {
         "name": "dup1 mload swap1",
         "rawType": "int64",
         "type": "integer"
        },
        {
         "name": "dup1 push1",
         "rawType": "int64",
         "type": "integer"
        },
        {
         "name": "dup1 push1 add",
         "rawType": "int64",
         "type": "integer"
        },
        {
         "name": "dup1 push1 dup2",
         "rawType": "int64",
         "type": "integer"
        },
        {
         "name": "dup1 push1 dup4",
         "rawType": "int64",
         "type": "integer"
        },
        {
         "name": "dup1 push1 mstore",
         "rawType": "int64",
         "type": "integer"
        },
        {
         "name": "dup1 push1 push1",
         "rawType": "int64",
         "type": "integer"
        },
        {
         "name": "dup1 push2",
         "rawType": "int64",
         "type": "integer"
        },
        {
         "name": "dup1 push2 jumpi",
         "rawType": "int64",
         "type": "integer"
        },
        {
         "name": "dup1 push2 push1",
         "rawType": "int64",
         "type": "integer"
        },
        {
         "name": "dup1 push32",
         "rawType": "int64",
         "type": "integer"
        },
        {
         "name": "dup1 push32 dup2",
         "rawType": "int64",
         "type": "integer"
        },
        {
         "name": "dup1 push4",
         "rawType": "int64",
         "type": "integer"
        },
        {
         "name": "dup1 push4 eq",
         "rawType": "int64",
         "type": "integer"
        },
        {
         "name": "dup1 push4 gt",
         "rawType": "int64",
         "type": "integer"
        },
        {
         "name": "dup1 returndatacopy",
         "rawType": "int64",
         "type": "integer"
        },
        {
         "name": "dup1 returndatacopy returndatasize",
         "rawType": "int64",
         "type": "integer"
        },
        {
         "name": "dup1 revert",
         "rawType": "int64",
         "type": "integer"
        },
        {
         "name": "dup1 revert jumpdest",
         "rawType": "int64",
         "type": "integer"
        },
        {
         "name": "dup1 sload",
         "rawType": "int64",
         "type": "integer"
        },
        {
         "name": "dup1 sload push1",
         "rawType": "int64",
         "type": "integer"
        },
        {
         "name": "dup1 sload push2",
         "rawType": "int64",
         "type": "integer"
        },
        {
         "name": "dup1 swap2",
         "rawType": "int64",
         "type": "integer"
        },
        {
         "name": "dup1 swap2 sub",
         "rawType": "int64",
         "type": "integer"
        },
        {
         "name": "dup10",
         "rawType": "int64",
         "type": "integer"
        },
        {
         "name": "dup11",
         "rawType": "int64",
         "type": "integer"
        },
        {
         "name": "dup2",
         "rawType": "int64",
         "type": "integer"
        },
        {
         "name": "dup2 add",
         "rawType": "int64",
         "type": "integer"
        },
        {
         "name": "dup2 add push1",
         "rawType": "int64",
         "type": "integer"
        },
        {
         "name": "dup2 add swap1",
         "rawType": "int64",
         "type": "integer"
        },
        {
         "name": "dup2 and",
         "rawType": "int64",
         "type": "integer"
        },
        {
         "name": "dup2 and push1",
         "rawType": "int64",
         "type": "integer"
        },
        {
         "name": "dup2 and swap2",
         "rawType": "int64",
         "type": "integer"
        },
        {
         "name": "dup2 calldataload",
         "rawType": "int64",
         "type": "integer"
        },
        {
         "name": "dup2 dup2",
         "rawType": "int64",
         "type": "integer"
        },
        {
         "name": "dup2 dup2 lt",
         "rawType": "int64",
         "type": "integer"
        },
        {
         "name": "dup2 dup2 mstore",
         "rawType": "int64",
         "type": "integer"
        },
        {
         "name": "dup2 dup2 sub",
         "rawType": "int64",
         "type": "integer"
        },
        {
         "name": "dup2 dup5",
         "rawType": "int64",
         "type": "integer"
        },
        {
         "name": "dup2 dup6",
         "rawType": "int64",
         "type": "integer"
        },
        {
         "name": "dup2 dup7",
         "rawType": "int64",
         "type": "integer"
        },
        {
         "name": "dup2 eq",
         "rawType": "int64",
         "type": "integer"
        },
        {
         "name": "dup2 eq push2",
         "rawType": "int64",
         "type": "integer"
        },
        {
         "name": "dup2 gt",
         "rawType": "int64",
         "type": "integer"
        },
        {
         "name": "dup2 gt iszero",
         "rawType": "int64",
         "type": "integer"
        },
        {
         "name": "dup2 jump",
         "rawType": "int64",
         "type": "integer"
        },
        {
         "name": "dup2 jump jumpdest",
         "rawType": "int64",
         "type": "integer"
        },
        {
         "name": "dup2 lt",
         "rawType": "int64",
         "type": "integer"
        },
        {
         "name": "dup2 lt iszero",
         "rawType": "int64",
         "type": "integer"
        },
        {
         "name": "dup2 lt push2",
         "rawType": "int64",
         "type": "integer"
        },
        {
         "name": "dup2 mload",
         "rawType": "int64",
         "type": "integer"
        },
        {
         "name": "dup2 mload dup2",
         "rawType": "int64",
         "type": "integer"
        },
        {
         "name": "dup2 mstore",
         "rawType": "int64",
         "type": "integer"
        },
        {
         "name": "dup2 mstore pop",
         "rawType": "int64",
         "type": "integer"
        },
        {
         "name": "dup2 mstore push1",
         "rawType": "int64",
         "type": "integer"
        },
        {
         "name": "dup2 mstore swap1",
         "rawType": "int64",
         "type": "integer"
        },
        {
         "name": "dup2 push1",
         "rawType": "int64",
         "type": "integer"
        },
        {
         "name": "dup2 push1 dup8",
         "rawType": "int64",
         "type": "integer"
        },
        {
         "name": "dup2 push2",
         "rawType": "int64",
         "type": "integer"
        },
        {
         "name": "dup2 push2 jump",
         "rawType": "int64",
         "type": "integer"
        },
        {
         "name": "dup2 push20",
         "rawType": "int64",
         "type": "integer"
        },
        {
         "name": "dup2 push20 and",
         "rawType": "int64",
         "type": "integer"
        },
        {
         "name": "dup2 sha3",
         "rawType": "int64",
         "type": "integer"
        },
        {
         "name": "dup2 sload",
         "rawType": "int64",
         "type": "integer"
        },
        {
         "name": "dup2 sload dup2",
         "rawType": "int64",
         "type": "integer"
        },
        {
         "name": "dup2 sub",
         "rawType": "int64",
         "type": "integer"
        },
        {
         "name": "dup2 sub dup3",
         "rawType": "int64",
         "type": "integer"
        },
        {
         "name": "dup2 sub push1",
         "rawType": "int64",
         "type": "integer"
        },
        {
         "name": "dup2 swap1",
         "rawType": "int64",
         "type": "integer"
        },
        {
         "name": "dup2 swap1 mstore",
         "rawType": "int64",
         "type": "integer"
        },
        {
         "name": "dup2 swap1 sstore",
         "rawType": "int64",
         "type": "integer"
        },
        {
         "name": "dup2 swap1 sub",
         "rawType": "int64",
         "type": "integer"
        },
        {
         "name": "dup3",
         "rawType": "int64",
         "type": "integer"
        },
        {
         "name": "dup3 add",
         "rawType": "int64",
         "type": "integer"
        },
        {
         "name": "dup3 add and",
         "rawType": "int64",
         "type": "integer"
        },
        {
         "name": "dup3 add dup1",
         "rawType": "int64",
         "type": "integer"
        },
        {
         "name": "dup3 add mstore",
         "rawType": "int64",
         "type": "integer"
        },
        {
         "name": "dup3 add swap1",
         "rawType": "int64",
         "type": "integer"
        },
        {
         "name": "dup3 add swap2",
         "rawType": "int64",
         "type": "integer"
        },
        {
         "name": "dup3 and",
         "rawType": "int64",
         "type": "integer"
        },
        {
         "name": "dup3 and push1",
         "rawType": "int64",
         "type": "integer"
        },
        {
         "name": "dup3 and push2",
         "rawType": "int64",
         "type": "integer"
        },
        {
         "name": "dup3 dup1",
         "rawType": "int64",
         "type": "integer"
        },
        {
         "name": "dup3 dup2",
         "rawType": "int64",
         "type": "integer"
        },
        {
         "name": "dup3 dup2 mstore",
         "rawType": "int64",
         "type": "integer"
        },
        {
         "name": "dup3 dup2 sub",
         "rawType": "int64",
         "type": "integer"
        },
        {
         "name": "dup3 dup3",
         "rawType": "int64",
         "type": "integer"
        },
        {
         "name": "dup3 dup5",
         "rawType": "int64",
         "type": "integer"
        },
        {
         "name": "dup3 dup5 sub",
         "rawType": "int64",
         "type": "integer"
        },
        {
         "name": "dup3 dup6",
         "rawType": "int64",
         "type": "integer"
        },
        {
         "name": "dup3 dup7",
         "rawType": "int64",
         "type": "integer"
        },
        {
         "name": "dup3 gt",
         "rawType": "int64",
         "type": "integer"
        },
        {
         "name": "dup3 gt iszero",
         "rawType": "int64",
         "type": "integer"
        },
        {
         "name": "dup3 iszero",
         "rawType": "int64",
         "type": "integer"
        },
        {
         "name": "dup3 mstore",
         "rawType": "int64",
         "type": "integer"
        },
        {
         "name": "dup3 mstore push1",
         "rawType": "int64",
         "type": "integer"
        },
        {
         "name": "dup3 mstore swap2",
         "rawType": "int64",
         "type": "integer"
        },
        {
         "name": "dup3 push1",
         "rawType": "int64",
         "type": "integer"
        },
        {
         "name": "dup3 push2",
         "rawType": "int64",
         "type": "integer"
        },
        {
         "name": "dup3 push2 jump",
         "rawType": "int64",
         "type": "integer"
        },
        {
         "name": "dup3 push20",
         "rawType": "int64",
         "type": "integer"
        },
        {
         "name": "dup3 push20 and",
         "rawType": "int64",
         "type": "integer"
        },
        {
         "name": "dup3 swap1",
         "rawType": "int64",
         "type": "integer"
        },
        {
         "name": "dup3 swap1 sub",
         "rawType": "int64",
         "type": "integer"
        },
        {
         "name": "dup4",
         "rawType": "int64",
         "type": "integer"
        },
        {
         "name": "dup4 add",
         "rawType": "int64",
         "type": "integer"
        },
        {
         "name": "dup4 add mstore",
         "rawType": "int64",
         "type": "integer"
        },
        {
         "name": "dup4 and",
         "rawType": "int64",
         "type": "integer"
        },
        {
         "name": "dup4 and push1",
         "rawType": "int64",
         "type": "integer"
        },
        {
         "name": "dup4 dup2",
         "rawType": "int64",
         "type": "integer"
        },
        {
         "name": "dup4 dup2 lt",
         "rawType": "int64",
         "type": "integer"
        },
        {
         "name": "dup4 dup4",
         "rawType": "int64",
         "type": "integer"
        },
        {
         "name": "dup4 dup4 push1",
         "rawType": "int64",
         "type": "integer"
        },
        {
         "name": "dup4 dup6",
         "rawType": "int64",
         "type": "integer"
        },
        {
         "name": "dup4 dup6 sub",
         "rawType": "int64",
         "type": "integer"
        },
        {
         "name": "dup4 gt",
         "rawType": "int64",
         "type": "integer"
        },
        {
         "name": "dup4 gt push2",
         "rawType": "int64",
         "type": "integer"
        },
        {
         "name": "dup4 mstore",
         "rawType": "int64",
         "type": "integer"
        },
        {
         "name": "dup4 mstore swap2",
         "rawType": "int64",
         "type": "integer"
        },
        {
         "name": "dup4 push1",
         "rawType": "int64",
         "type": "integer"
        },
        {
         "name": "dup4 push1 mload",
         "rawType": "int64",
         "type": "integer"
        },
        {
         "name": "dup4 push2",
         "rawType": "int64",
         "type": "integer"
        },
        {
         "name": "dup4 push2 jump",
         "rawType": "int64",
         "type": "integer"
        },
        {
         "name": "dup4 push20",
         "rawType": "int64",
         "type": "integer"
        },
        {
         "name": "dup4 push20 and",
         "rawType": "int64",
         "type": "integer"
        },
        {
         "name": "dup4 sha3",
         "rawType": "int64",
         "type": "integer"
        },
        {
         "name": "dup4 sub",
         "rawType": "int64",
         "type": "integer"
        },
        {
         "name": "dup4 sub dup2",
         "rawType": "int64",
         "type": "integer"
        },
        {
         "name": "dup5",
         "rawType": "int64",
         "type": "integer"
        },
        {
         "name": "dup5 add",
         "rawType": "int64",
         "type": "integer"
        },
        {
         "name": "dup5 add mstore",
         "rawType": "int64",
         "type": "integer"
        },
        {
         "name": "dup5 and",
         "rawType": "int64",
         "type": "integer"
        },
        {
         "name": "dup5 dup2",
         "rawType": "int64",
         "type": "integer"
        },
        {
         "name": "dup5 dup5",
         "rawType": "int64",
         "type": "integer"
        },
        {
         "name": "dup5 dup5 dup5",
         "rawType": "int64",
         "type": "integer"
        },
        {
         "name": "dup5 dup5 push2",
         "rawType": "int64",
         "type": "integer"
        },
        {
         "name": "dup5 dup7",
         "rawType": "int64",
         "type": "integer"
        },
        {
         "name": "dup5 mstore",
         "rawType": "int64",
         "type": "integer"
        },
        {
         "name": "dup5 push1",
         "rawType": "int64",
         "type": "integer"
        },
        {
         "name": "dup5 push2",
         "rawType": "int64",
         "type": "integer"
        },
        {
         "name": "dup5 push2 jump",
         "rawType": "int64",
         "type": "integer"
        },
        {
         "name": "dup5 push20",
         "rawType": "int64",
         "type": "integer"
        },
        {
         "name": "dup5 push20 and",
         "rawType": "int64",
         "type": "integer"
        },
        {
         "name": "dup5 sub",
         "rawType": "int64",
         "type": "integer"
        },
        {
         "name": "dup5 sub slt",
         "rawType": "int64",
         "type": "integer"
        },
        {
         "name": "dup5 swap1",
         "rawType": "int64",
         "type": "integer"
        },
        {
         "name": "dup6",
         "rawType": "int64",
         "type": "integer"
        },
        {
         "name": "dup6 add",
         "rawType": "int64",
         "type": "integer"
        },
        {
         "name": "dup6 and",
         "rawType": "int64",
         "type": "integer"
        },
        {
         "name": "dup6 dup2",
         "rawType": "int64",
         "type": "integer"
        },
        {
         "name": "dup6 dup3",
         "rawType": "int64",
         "type": "integer"
        },
        {
         "name": "dup6 dup6",
         "rawType": "int64",
         "type": "integer"
        },
        {
         "name": "dup6 push1",
         "rawType": "int64",
         "type": "integer"
        },
        {
         "name": "dup6 push2",
         "rawType": "int64",
         "type": "integer"
        },
        {
         "name": "dup6 push2 jump",
         "rawType": "int64",
         "type": "integer"
        },
        {
         "name": "dup6 push20",
         "rawType": "int64",
         "type": "integer"
        },
        {
         "name": "dup6 push20 and",
         "rawType": "int64",
         "type": "integer"
        },
        {
         "name": "dup6 sub",
         "rawType": "int64",
         "type": "integer"
        },
        {
         "name": "dup6 sub slt",
         "rawType": "int64",
         "type": "integer"
        },
        {
         "name": "dup6 swap1",
         "rawType": "int64",
         "type": "integer"
        },
        {
         "name": "dup7",
         "rawType": "int64",
         "type": "integer"
        },
        {
         "name": "dup7 add",
         "rawType": "int64",
         "type": "integer"
        },
        {
         "name": "dup7 push2",
         "rawType": "int64",
         "type": "integer"
        },
        {
         "name": "dup7 push2 jump",
         "rawType": "int64",
         "type": "integer"
        },
        {
         "name": "dup8",
         "rawType": "int64",
         "type": "integer"
        },
        {
         "name": "dup8 add",
         "rawType": "int64",
         "type": "integer"
        },
        {
         "name": "dup8 and",
         "rawType": "int64",
         "type": "integer"
        },
        {
         "name": "dup9",
         "rawType": "int64",
         "type": "integer"
        },
        {
         "name": "eq",
         "rawType": "int64",
         "type": "integer"
        },
        {
         "name": "eq iszero",
         "rawType": "int64",
         "type": "integer"
        },
        {
         "name": "eq iszero push2",
         "rawType": "int64",
         "type": "integer"
        },
        {
         "name": "eq push2",
         "rawType": "int64",
         "type": "integer"
        },
        {
         "name": "eq push2 jumpi",
         "rawType": "int64",
         "type": "integer"
        },
        {
         "name": "eq push3",
         "rawType": "int64",
         "type": "integer"
        },
        {
         "name": "eq push3 jumpi",
         "rawType": "int64",
         "type": "integer"
        },
        {
         "name": "exp",
         "rawType": "int64",
         "type": "integer"
        },
        {
         "name": "exp dup2",
         "rawType": "int64",
         "type": "integer"
        },
        {
         "name": "exp dup2 sload",
         "rawType": "int64",
         "type": "integer"
        },
        {
         "name": "exp swap1",
         "rawType": "int64",
         "type": "integer"
        },
        {
         "name": "exp swap1 div",
         "rawType": "int64",
         "type": "integer"
        },
        {
         "name": "extcodesize",
         "rawType": "int64",
         "type": "integer"
        },
        {
         "name": "extcodesize iszero",
         "rawType": "int64",
         "type": "integer"
        },
        {
         "name": "extcodesize iszero dup1",
         "rawType": "int64",
         "type": "integer"
        },
        {
         "name": "gas",
         "rawType": "int64",
         "type": "integer"
        },
        {
         "name": "gas call",
         "rawType": "int64",
         "type": "integer"
        },
        {
         "name": "gas call iszero",
         "rawType": "int64",
         "type": "integer"
        },
        {
         "name": "gas staticcall",
         "rawType": "int64",
         "type": "integer"
        },
        {
         "name": "gas staticcall iszero",
         "rawType": "int64",
         "type": "integer"
        },
        {
         "name": "gasprice",
         "rawType": "int64",
         "type": "integer"
        },
        {
         "name": "gasprice sha3",
         "rawType": "int64",
         "type": "integer"
        },
        {
         "name": "gt",
         "rawType": "int64",
         "type": "integer"
        },
        {
         "name": "gt iszero",
         "rawType": "int64",
         "type": "integer"
        },
        {
         "name": "gt iszero push2",
         "rawType": "int64",
         "type": "integer"
        },
        {
         "name": "gt push2",
         "rawType": "int64",
         "type": "integer"
        },
        {
         "name": "gt push2 jumpi",
         "rawType": "int64",
         "type": "integer"
        },
        {
         "name": "iszero",
         "rawType": "int64",
         "type": "integer"
        },
        {
         "name": "iszero dup1",
         "rawType": "int64",
         "type": "integer"
        },
        {
         "name": "iszero dup1 iszero",
         "rawType": "int64",
         "type": "integer"
        },
        {
         "name": "iszero dup2",
         "rawType": "int64",
         "type": "integer"
        },
        {
         "name": "iszero dup2 mstore",
         "rawType": "int64",
         "type": "integer"
        },
        {
         "name": "iszero iszero",
         "rawType": "int64",
         "type": "integer"
        },
        {
         "name": "iszero iszero dup2",
         "rawType": "int64",
         "type": "integer"
        },
        {
         "name": "iszero jumpdest",
         "rawType": "int64",
         "type": "integer"
        },
        {
         "name": "iszero push2",
         "rawType": "int64",
         "type": "integer"
        },
        {
         "name": "iszero push2 jumpi",
         "rawType": "int64",
         "type": "integer"
        },
        {
         "name": "iszero push3",
         "rawType": "int64",
         "type": "integer"
        },
        {
         "name": "iszero push3 jumpi",
         "rawType": "int64",
         "type": "integer"
        },
        {
         "name": "jump",
         "rawType": "int64",
         "type": "integer"
        },
        {
         "name": "jump jumpdest",
         "rawType": "int64",
         "type": "integer"
        },
        {
         "name": "jump jumpdest callvalue",
         "rawType": "int64",
         "type": "integer"
        },
        {
         "name": "jump jumpdest dup1",
         "rawType": "int64",
         "type": "integer"
        },
        {
         "name": "jump jumpdest dup2",
         "rawType": "int64",
         "type": "integer"
        },
        {
         "name": "jump jumpdest dup3",
         "rawType": "int64",
         "type": "integer"
        },
        {
         "name": "jump jumpdest dup5",
         "rawType": "int64",
         "type": "integer"
        },
        {
         "name": "jump jumpdest jumpdest",
         "rawType": "int64",
         "type": "integer"
        },
        {
         "name": "jump jumpdest pop",
         "rawType": "int64",
         "type": "integer"
        },
        {
         "name": "jump jumpdest push1",
         "rawType": "int64",
         "type": "integer"
        },
        {
         "name": "jump jumpdest push2",
         "rawType": "int64",
         "type": "integer"
        },
        {
         "name": "jump jumpdest push20",
         "rawType": "int64",
         "type": "integer"
        },
        {
         "name": "jump jumpdest push3",
         "rawType": "int64",
         "type": "integer"
        },
        {
         "name": "jump jumpdest push32",
         "rawType": "int64",
         "type": "integer"
        },
        {
         "name": "jump jumpdest stop",
         "rawType": "int64",
         "type": "integer"
        },
        {
         "name": "jump jumpdest swap1",
         "rawType": "int64",
         "type": "integer"
        },
        {
         "name": "jump jumpdest swap2",
         "rawType": "int64",
         "type": "integer"
        },
        {
         "name": "jump jumpdest swap3",
         "rawType": "int64",
         "type": "integer"
        },
        {
         "name": "jump jumpdest swap4",
         "rawType": "int64",
         "type": "integer"
        },
        {
         "name": "jump jumpdest unknown_0x5f",
         "rawType": "int64",
         "type": "integer"
        },
        {
         "name": "jumpdest",
         "rawType": "int64",
         "type": "integer"
        },
        {
         "name": "jumpdest callvalue",
         "rawType": "int64",
         "type": "integer"
        },
        {
         "name": "jumpdest callvalue dup1",
         "rawType": "int64",
         "type": "integer"
        },
        {
         "name": "jumpdest dup1",
         "rawType": "int64",
         "type": "integer"
        },
        {
         "name": "jumpdest dup1 iszero",
         "rawType": "int64",
         "type": "integer"
        },
        {
         "name": "jumpdest dup1 push1",
         "rawType": "int64",
         "type": "integer"
        },
        {
         "name": "jumpdest dup1 push4",
         "rawType": "int64",
         "type": "integer"
        },
        {
         "name": "jumpdest dup2",
         "rawType": "int64",
         "type": "integer"
        },
        {
         "name": "jumpdest dup2 add",
         "rawType": "int64",
         "type": "integer"
        },
        {
         "name": "jumpdest dup2 dup2",
         "rawType": "int64",
         "type": "integer"
        },
        {
         "name": "jumpdest dup3",
         "rawType": "int64",
         "type": "integer"
        },
        {
         "name": "jumpdest dup4",
         "rawType": "int64",
         "type": "integer"
        },
        {
         "name": "jumpdest dup4 dup2",
         "rawType": "int64",
         "type": "integer"
        },
        {
         "name": "jumpdest dup5",
         "rawType": "int64",
         "type": "integer"
        },
        {
         "name": "jumpdest iszero",
         "rawType": "int64",
         "type": "integer"
        },
        {
         "name": "jumpdest iszero push2",
         "rawType": "int64",
         "type": "integer"
        },
        {
         "name": "jumpdest jumpdest",
         "rawType": "int64",
         "type": "integer"
        },
        {
         "name": "jumpdest jumpdest push1",
         "rawType": "int64",
         "type": "integer"
        },
        {
         "name": "jumpdest pop",
         "rawType": "int64",
         "type": "integer"
        },
        {
         "name": "jumpdest pop gas",
         "rawType": "int64",
         "type": "integer"
        },
        {
         "name": "jumpdest pop jump",
         "rawType": "int64",
         "type": "integer"
        },
        {
         "name": "jumpdest pop pop",
         "rawType": "int64",
         "type": "integer"
        },
        {
         "name": "jumpdest pop push1",
         "rawType": "int64",
         "type": "integer"
        },
        {
         "name": "jumpdest pop push2",
         "rawType": "int64",
         "type": "integer"
        },
        {
         "name": "jumpdest push1",
         "rawType": "int64",
         "type": "integer"
        },
        {
         "name": "jumpdest push1 dup1",
         "rawType": "int64",
         "type": "integer"
        },
        {
         "name": "jumpdest push1 dup2",
         "rawType": "int64",
         "type": "integer"
        },
        {
         "name": "jumpdest push1 dup3",
         "rawType": "int64",
         "type": "integer"
        },
        {
         "name": "jumpdest push1 mload",
         "rawType": "int64",
         "type": "integer"
        },
        {
         "name": "jumpdest push1 push1",
         "rawType": "int64",
         "type": "integer"
        },
        {
         "name": "jumpdest push1 push2",
         "rawType": "int64",
         "type": "integer"
        },
        {
         "name": "jumpdest push1 push20",
         "rawType": "int64",
         "type": "integer"
        },
        {
         "name": "jumpdest push1 sload",
         "rawType": "int64",
         "type": "integer"
        },
        {
         "name": "jumpdest push1 swap1",
         "rawType": "int64",
         "type": "integer"
        },
        {
         "name": "jumpdest push1 swap2",
         "rawType": "int64",
         "type": "integer"
        },
        {
         "name": "jumpdest push2",
         "rawType": "int64",
         "type": "integer"
        },
        {
         "name": "jumpdest push2 dup2",
         "rawType": "int64",
         "type": "integer"
        },
        {
         "name": "jumpdest push2 dup3",
         "rawType": "int64",
         "type": "integer"
        },
        {
         "name": "jumpdest push2 dup4",
         "rawType": "int64",
         "type": "integer"
        },
        {
         "name": "jumpdest push2 dup5",
         "rawType": "int64",
         "type": "integer"
        },
        {
         "name": "jumpdest push2 jump",
         "rawType": "int64",
         "type": "integer"
        },
        {
         "name": "jumpdest push2 jumpi",
         "rawType": "int64",
         "type": "integer"
        },
        {
         "name": "jumpdest push2 push1",
         "rawType": "int64",
         "type": "integer"
        },
        {
         "name": "jumpdest push2 push2",
         "rawType": "int64",
         "type": "integer"
        },
        {
         "name": "jumpdest push2 swap1",
         "rawType": "int64",
         "type": "integer"
        },
        {
         "name": "jumpdest push2 swap2",
         "rawType": "int64",
         "type": "integer"
        },
        {
         "name": "jumpdest push20",
         "rawType": "int64",
         "type": "integer"
        },
        {
         "name": "jumpdest push20 and",
         "rawType": "int64",
         "type": "integer"
        },
        {
         "name": "jumpdest push3",
         "rawType": "int64",
         "type": "integer"
        },
        {
         "name": "jumpdest push32",
         "rawType": "int64",
         "type": "integer"
        },
        {
         "name": "jumpdest push32 push1",
         "rawType": "int64",
         "type": "integer"
        },
        {
         "name": "jumpdest stop",
         "rawType": "int64",
         "type": "integer"
        },
        {
         "name": "jumpdest stop jumpdest",
         "rawType": "int64",
         "type": "integer"
        },
        {
         "name": "jumpdest swap1",
         "rawType": "int64",
         "type": "integer"
        },
        {
         "name": "jumpdest swap1 pop",
         "rawType": "int64",
         "type": "integer"
        },
        {
         "name": "jumpdest swap2",
         "rawType": "int64",
         "type": "integer"
        },
        {
         "name": "jumpdest swap2 pop",
         "rawType": "int64",
         "type": "integer"
        },
        {
         "name": "jumpdest swap3",
         "rawType": "int64",
         "type": "integer"
        },
        {
         "name": "jumpdest swap3 pop",
         "rawType": "int64",
         "type": "integer"
        },
        {
         "name": "jumpdest swap3 swap2",
         "rawType": "int64",
         "type": "integer"
        },
        {
         "name": "jumpdest swap4",
         "rawType": "int64",
         "type": "integer"
        },
        {
         "name": "jumpdest unknown_0x5f",
         "rawType": "int64",
         "type": "integer"
        },
        {
         "name": "jumpi",
         "rawType": "int64",
         "type": "integer"
        },
        {
         "name": "jumpi dup1",
         "rawType": "int64",
         "type": "integer"
        },
        {
         "name": "jumpi dup1 dup3",
         "rawType": "int64",
         "type": "integer"
        },
        {
         "name": "jumpi dup1 push1",
         "rawType": "int64",
         "type": "integer"
        },
        {
         "name": "jumpi dup1 push4",
         "rawType": "int64",
         "type": "integer"
        },
        {
         "name": "jumpi dup2",
         "rawType": "int64",
         "type": "integer"
        },
        {
         "name": "jumpi dup3",
         "rawType": "int64",
         "type": "integer"
        },
        {
         "name": "jumpi pop",
         "rawType": "int64",
         "type": "integer"
        },
        {
         "name": "jumpi pop push1",
         "rawType": "int64",
         "type": "integer"
        },
        {
         "name": "jumpi push1",
         "rawType": "int64",
         "type": "integer"
        },
        {
         "name": "jumpi push1 dup1",
         "rawType": "int64",
         "type": "integer"
        },
        {
         "name": "jumpi push1 mload",
         "rawType": "int64",
         "type": "integer"
        },
        {
         "name": "jumpi push1 push1",
         "rawType": "int64",
         "type": "integer"
        },
        {
         "name": "jumpi push2",
         "rawType": "int64",
         "type": "integer"
        },
        {
         "name": "jumpi push2 jump",
         "rawType": "int64",
         "type": "integer"
        },
        {
         "name": "jumpi push2 push2",
         "rawType": "int64",
         "type": "integer"
        },
        {
         "name": "jumpi returndatasize",
         "rawType": "int64",
         "type": "integer"
        },
        {
         "name": "jumpi returndatasize push1",
         "rawType": "int64",
         "type": "integer"
        },
        {
         "name": "jumpi unknown_0x5f",
         "rawType": "int64",
         "type": "integer"
        },
        {
         "name": "jumpi unknown_0x5f dup1",
         "rawType": "int64",
         "type": "integer"
        },
        {
         "name": "log3",
         "rawType": "int64",
         "type": "integer"
        },
        {
         "name": "log3 pop",
         "rawType": "int64",
         "type": "integer"
        },
        {
         "name": "log3 pop pop",
         "rawType": "int64",
         "type": "integer"
        },
        {
         "name": "lt",
         "rawType": "int64",
         "type": "integer"
        },
        {
         "name": "lt iszero",
         "rawType": "int64",
         "type": "integer"
        },
        {
         "name": "lt iszero push2",
         "rawType": "int64",
         "type": "integer"
        },
        {
         "name": "lt push2",
         "rawType": "int64",
         "type": "integer"
        },
        {
         "name": "lt push2 jumpi",
         "rawType": "int64",
         "type": "integer"
        },
        {
         "name": "mload",
         "rawType": "int64",
         "type": "integer"
        },
        {
         "name": "mload dup1",
         "rawType": "int64",
         "type": "integer"
        },
        {
         "name": "mload dup1 dup3",
         "rawType": "int64",
         "type": "integer"
        },
        {
         "name": "mload dup1 dup4",
         "rawType": "int64",
         "type": "integer"
        },
        {
         "name": "mload dup1 push1",
         "rawType": "int64",
         "type": "integer"
        },
        {
         "name": "mload dup1 swap2",
         "rawType": "int64",
         "type": "integer"
        },
        {
         "name": "mload dup2",
         "rawType": "int64",
         "type": "integer"
        },
        {
         "name": "mload push1",
         "rawType": "int64",
         "type": "integer"
        },
        {
         "name": "mload push1 push1",
         "rawType": "int64",
         "type": "integer"
        },
        {
         "name": "mload push2",
         "rawType": "int64",
         "type": "integer"
        },
        {
         "name": "mload push2 swap2",
         "rawType": "int64",
         "type": "integer"
        },
        {
         "name": "mload push3",
         "rawType": "int64",
         "type": "integer"
        },
        {
         "name": "mload push3 push1",
         "rawType": "int64",
         "type": "integer"
        },
        {
         "name": "mload push32",
         "rawType": "int64",
         "type": "integer"
        },
        {
         "name": "mload push32 dup2",
         "rawType": "int64",
         "type": "integer"
        },
        {
         "name": "mload push4",
         "rawType": "int64",
         "type": "integer"
        },
        {
         "name": "mload push4 push1",
         "rawType": "int64",
         "type": "integer"
        },
        {
         "name": "mload returndatasize",
         "rawType": "int64",
         "type": "integer"
        },
        {
         "name": "mload returndatasize push1",
         "rawType": "int64",
         "type": "integer"
        },
        {
         "name": "mload swap1",
         "rawType": "int64",
         "type": "integer"
        },
        {
         "name": "mload swap1 dup2",
         "rawType": "int64",
         "type": "integer"
        },
        {
         "name": "mload swap1 push1",
         "rawType": "int64",
         "type": "integer"
        },
        {
         "name": "mload swap2",
         "rawType": "int64",
         "type": "integer"
        },
        {
         "name": "mstore",
         "rawType": "int64",
         "type": "integer"
        },
        {
         "name": "mstore dup1",
         "rawType": "int64",
         "type": "integer"
        },
        {
         "name": "mstore dup1 push1",
         "rawType": "int64",
         "type": "integer"
        },
        {
         "name": "mstore dup2",
         "rawType": "int64",
         "type": "integer"
        },
        {
         "name": "mstore dup3",
         "rawType": "int64",
         "type": "integer"
        },
        {
         "name": "mstore dup4",
         "rawType": "int64",
         "type": "integer"
        },
        {
         "name": "mstore pop",
         "rawType": "int64",
         "type": "integer"
        },
        {
         "name": "mstore pop dup2",
         "rawType": "int64",
         "type": "integer"
        },
        {
         "name": "mstore pop jump",
         "rawType": "int64",
         "type": "integer"
        },
        {
         "name": "mstore pop pop",
         "rawType": "int64",
         "type": "integer"
        },
        {
         "name": "mstore pop push1",
         "rawType": "int64",
         "type": "integer"
        },
        {
         "name": "mstore push1",
         "rawType": "int64",
         "type": "integer"
        },
        {
         "name": "mstore push1 add",
         "rawType": "int64",
         "type": "integer"
        },
        {
         "name": "mstore push1 dup1",
         "rawType": "int64",
         "type": "integer"
        },
        {
         "name": "mstore push1 dup2",
         "rawType": "int64",
         "type": "integer"
        },
        {
         "name": "mstore push1 dup3",
         "rawType": "int64",
         "type": "integer"
        },
        {
         "name": "mstore push1 push1",
         "rawType": "int64",
         "type": "integer"
        },
        {
         "name": "mstore push1 swap1",
         "rawType": "int64",
         "type": "integer"
        },
        {
         "name": "mstore push2",
         "rawType": "int64",
         "type": "integer"
        },
        {
         "name": "mstore push2 dup2",
         "rawType": "int64",
         "type": "integer"
        },
        {
         "name": "mstore push32",
         "rawType": "int64",
         "type": "integer"
        },
        {
         "name": "mstore push32 push1",
         "rawType": "int64",
         "type": "integer"
        },
        {
         "name": "mstore sha3",
         "rawType": "int64",
         "type": "integer"
        },
        {
         "name": "mstore swap1",
         "rawType": "int64",
         "type": "integer"
        },
        {
         "name": "mstore swap1 mload",
         "rawType": "int64",
         "type": "integer"
        },
        {
         "name": "mstore swap1 push1",
         "rawType": "int64",
         "type": "integer"
        },
        {
         "name": "mstore swap1 swap2",
         "rawType": "int64",
         "type": "integer"
        },
        {
         "name": "mstore swap2",
         "rawType": "int64",
         "type": "integer"
        },
        {
         "name": "mul",
         "rawType": "int64",
         "type": "integer"
        },
        {
         "name": "mul dup4",
         "rawType": "int64",
         "type": "integer"
        },
        {
         "name": "mul not",
         "rawType": "int64",
         "type": "integer"
        },
        {
         "name": "mul not and",
         "rawType": "int64",
         "type": "integer"
        },
        {
         "name": "mul or",
         "rawType": "int64",
         "type": "integer"
        },
        {
         "name": "mul or swap1",
         "rawType": "int64",
         "type": "integer"
        },
        {
         "name": "mul push1",
         "rawType": "int64",
         "type": "integer"
        },
        {
         "name": "mul push1 add",
         "rawType": "int64",
         "type": "integer"
        },
        {
         "name": "not",
         "rawType": "int64",
         "type": "integer"
        },
        {
         "name": "not and",
         "rawType": "int64",
         "type": "integer"
        },
        {
         "name": "not and push1",
         "rawType": "int64",
         "type": "integer"
        },
        {
         "name": "not and swap1",
         "rawType": "int64",
         "type": "integer"
        },
        {
         "name": "not push1",
         "rawType": "int64",
         "type": "integer"
        },
        {
         "name": "not push1 dup3",
         "rawType": "int64",
         "type": "integer"
        },
        {
         "name": "or",
         "rawType": "int64",
         "type": "integer"
        },
        {
         "name": "or swap1",
         "rawType": "int64",
         "type": "integer"
        },
        {
         "name": "or swap1 sstore",
         "rawType": "int64",
         "type": "integer"
        },
        {
         "name": "origin",
         "rawType": "int64",
         "type": "integer"
        },
        {
         "name": "pop",
         "rawType": "int64",
         "type": "integer"
        },
        {
         "name": "pop dup1",
         "rawType": "int64",
         "type": "integer"
        },
        {
         "name": "pop dup2",
         "rawType": "int64",
         "type": "integer"
        },
        {
         "name": "pop dup2 add",
         "rawType": "int64",
         "type": "integer"
        },
        {
         "name": "pop dup2 dup2",
         "rawType": "int64",
         "type": "integer"
        },
        {
         "name": "pop dup3",
         "rawType": "int64",
         "type": "integer"
        },
        {
         "name": "pop gas",
         "rawType": "int64",
         "type": "integer"
        },
        {
         "name": "pop jump",
         "rawType": "int64",
         "type": "integer"
        },
        {
         "name": "pop jump jumpdest",
         "rawType": "int64",
         "type": "integer"
        },
        {
         "name": "pop jumpdest",
         "rawType": "int64",
         "type": "integer"
        },
        {
         "name": "pop jumpdest pop",
         "rawType": "int64",
         "type": "integer"
        },
        {
         "name": "pop pop",
         "rawType": "int64",
         "type": "integer"
        },
        {
         "name": "pop pop jump",
         "rawType": "int64",
         "type": "integer"
        },
        {
         "name": "pop pop pop",
         "rawType": "int64",
         "type": "integer"
        },
        {
         "name": "pop pop push1",
         "rawType": "int64",
         "type": "integer"
        },
        {
         "name": "pop pop push2",
         "rawType": "int64",
         "type": "integer"
        },
        {
         "name": "pop pop swap1",
         "rawType": "int64",
         "type": "integer"
        },
        {
         "name": "pop pop swap3",
         "rawType": "int64",
         "type": "integer"
        },
        {
         "name": "pop push1",
         "rawType": "int64",
         "type": "integer"
        },
        {
         "name": "pop push1 add",
         "rawType": "int64",
         "type": "integer"
        },
        {
         "name": "pop push1 mload",
         "rawType": "int64",
         "type": "integer"
        },
        {
         "name": "pop push1 push1",
         "rawType": "int64",
         "type": "integer"
        },
        {
         "name": "pop push1 push2",
         "rawType": "int64",
         "type": "integer"
        },
        {
         "name": "pop push1 sload",
         "rawType": "int64",
         "type": "integer"
        },
        {
         "name": "pop push2",
         "rawType": "int64",
         "type": "integer"
        },
        {
         "name": "pop push2 dup2",
         "rawType": "int64",
         "type": "integer"
        },
        {
         "name": "pop push2 dup3",
         "rawType": "int64",
         "type": "integer"
        },
        {
         "name": "pop push2 jump",
         "rawType": "int64",
         "type": "integer"
        },
        {
         "name": "pop push2 push1",
         "rawType": "int64",
         "type": "integer"
        },
        {
         "name": "pop push2 push2",
         "rawType": "int64",
         "type": "integer"
        },
        {
         "name": "pop swap1",
         "rawType": "int64",
         "type": "integer"
        },
        {
         "name": "pop swap1 jump",
         "rawType": "int64",
         "type": "integer"
        },
        {
         "name": "pop swap1 pop",
         "rawType": "int64",
         "type": "integer"
        },
        {
         "name": "pop swap2",
         "rawType": "int64",
         "type": "integer"
        },
        {
         "name": "pop swap2 swap1",
         "rawType": "int64",
         "type": "integer"
        },
        {
         "name": "pop swap3",
         "rawType": "int64",
         "type": "integer"
        },
        {
         "name": "pop swap3 pop",
         "rawType": "int64",
         "type": "integer"
        },
        {
         "name": "pop swap3 swap2",
         "rawType": "int64",
         "type": "integer"
        },
        {
         "name": "pop swap4",
         "rawType": "int64",
         "type": "integer"
        },
        {
         "name": "push1",
         "rawType": "int64",
         "type": "integer"
        },
        {
         "name": "push1 add",
         "rawType": "int64",
         "type": "integer"
        },
        {
         "name": "push1 add dup1",
         "rawType": "int64",
         "type": "integer"
        },
        {
         "name": "push1 add dup3",
         "rawType": "int64",
         "type": "integer"
        },
        {
         "name": "push1 add push1",
         "rawType": "int64",
         "type": "integer"
        },
        {
         "name": "push1 add push2",
         "rawType": "int64",
         "type": "integer"
        },
        {
         "name": "push1 add sload",
         "rawType": "int64",
         "type": "integer"
        },
        {
         "name": "push1 add swap1",
         "rawType": "int64",
         "type": "integer"
        },
        {
         "name": "push1 add swap2",
         "rawType": "int64",
         "type": "integer"
        },
        {
         "name": "push1 and",
         "rawType": "int64",
         "type": "integer"
        },
        {
         "name": "push1 and iszero",
         "rawType": "int64",
         "type": "integer"
        },
        {
         "name": "push1 caller",
         "rawType": "int64",
         "type": "integer"
        },
        {
         "name": "push1 dup1",
         "rawType": "int64",
         "type": "integer"
        },
        {
         "name": "push1 dup1 calldatasize",
         "rawType": "int64",
         "type": "integer"
        },
        {
         "name": "push1 dup1 dup3",
         "rawType": "int64",
         "type": "integer"
        },
        {
         "name": "push1 dup1 dup4",
         "rawType": "int64",
         "type": "integer"
        },
        {
         "name": "push1 dup1 mload",
         "rawType": "int64",
         "type": "integer"
        },
        {
         "name": "push1 dup1 push1",
         "rawType": "int64",
         "type": "integer"
        },
        {
         "name": "push1 dup1 returndatacopy",
         "rawType": "int64",
         "type": "integer"
        },
        {
         "name": "push1 dup1 revert",
         "rawType": "int64",
         "type": "integer"
        },
        {
         "name": "push1 dup1 sload",
         "rawType": "int64",
         "type": "integer"
        },
        {
         "name": "push1 dup2",
         "rawType": "int64",
         "type": "integer"
        },
        {
         "name": "push1 dup2 add",
         "rawType": "int64",
         "type": "integer"
        },
        {
         "name": "push1 dup2 dup2",
         "rawType": "int64",
         "type": "integer"
        },
        {
         "name": "push1 dup2 gt",
         "rawType": "int64",
         "type": "integer"
        },
        {
         "name": "push1 dup2 lt",
         "rawType": "int64",
         "type": "integer"
        },
        {
         "name": "push1 dup2 mstore",
         "rawType": "int64",
         "type": "integer"
        },
        {
         "name": "push1 dup2 push1",
         "rawType": "int64",
         "type": "integer"
        },
        {
         "name": "push1 dup2 sha3",
         "rawType": "int64",
         "type": "integer"
        },
        {
         "name": "push1 dup2 swap1",
         "rawType": "int64",
         "type": "integer"
        },
        {
         "name": "push1 dup3",
         "rawType": "int64",
         "type": "integer"
        },
        {
         "name": "push1 dup3 add",
         "rawType": "int64",
         "type": "integer"
        },
        {
         "name": "push1 dup3 dup3",
         "rawType": "int64",
         "type": "integer"
        },
        {
         "name": "push1 dup3 dup5",
         "rawType": "int64",
         "type": "integer"
        },
        {
         "name": "push1 dup4",
         "rawType": "int64",
         "type": "integer"
        },
        {
         "name": "push1 dup4 add",
         "rawType": "int64",
         "type": "integer"
        },
        {
         "name": "push1 dup4 dup6",
         "rawType": "int64",
         "type": "integer"
        },
        {
         "name": "push1 dup4 push2",
         "rawType": "int64",
         "type": "integer"
        },
        {
         "name": "push1 dup5",
         "rawType": "int64",
         "type": "integer"
        },
        {
         "name": "push1 dup5 add",
         "rawType": "int64",
         "type": "integer"
        },
        {
         "name": "push1 dup5 push20",
         "rawType": "int64",
         "type": "integer"
        },
        {
         "name": "push1 dup6",
         "rawType": "int64",
         "type": "integer"
        },
        {
         "name": "push1 dup6 push20",
         "rawType": "int64",
         "type": "integer"
        },
        {
         "name": "push1 dup7",
         "rawType": "int64",
         "type": "integer"
        },
        {
         "name": "push1 dup8",
         "rawType": "int64",
         "type": "integer"
        },
        {
         "name": "push1 jumpdest",
         "rawType": "int64",
         "type": "integer"
        },
        {
         "name": "push1 lt",
         "rawType": "int64",
         "type": "integer"
        },
        {
         "name": "push1 mload",
         "rawType": "int64",
         "type": "integer"
        },
        {
         "name": "push1 mload dup1",
         "rawType": "int64",
         "type": "integer"
        },
        {
         "name": "push1 mload push1",
         "rawType": "int64",
         "type": "integer"
        },
        {
         "name": "push1 mload push2",
         "rawType": "int64",
         "type": "integer"
        },
        {
         "name": "push1 mload push3",
         "rawType": "int64",
         "type": "integer"
        },
        {
         "name": "push1 mload push32",
         "rawType": "int64",
         "type": "integer"
        },
        {
         "name": "push1 mload push4",
         "rawType": "int64",
         "type": "integer"
        },
        {
         "name": "push1 mload returndatasize",
         "rawType": "int64",
         "type": "integer"
        },
        {
         "name": "push1 mload swap1",
         "rawType": "int64",
         "type": "integer"
        },
        {
         "name": "push1 mstore",
         "rawType": "int64",
         "type": "integer"
        },
        {
         "name": "push1 mstore dup1",
         "rawType": "int64",
         "type": "integer"
        },
        {
         "name": "push1 mstore pop",
         "rawType": "int64",
         "type": "integer"
        },
        {
         "name": "push1 mstore push1",
         "rawType": "int64",
         "type": "integer"
        },
        {
         "name": "push1 mul",
         "rawType": "int64",
         "type": "integer"
        },
        {
         "name": "push1 not",
         "rawType": "int64",
         "type": "integer"
        },
        {
         "name": "push1 not and",
         "rawType": "int64",
         "type": "integer"
        },
        {
         "name": "push1 not push1",
         "rawType": "int64",
         "type": "integer"
        },
        {
         "name": "push1 push1",
         "rawType": "int64",
         "type": "integer"
        },
        {
         "name": "push1 push1 dup1",
         "rawType": "int64",
         "type": "integer"
        },
        {
         "name": "push1 push1 dup3",
         "rawType": "int64",
         "type": "integer"
        },
        {
         "name": "push1 push1 dup5",
         "rawType": "int64",
         "type": "integer"
        },
        {
         "name": "push1 push1 dup6",
         "rawType": "int64",
         "type": "integer"
        },
        {
         "name": "push1 push1 mload",
         "rawType": "int64",
         "type": "integer"
        },
        {
         "name": "push1 push1 mstore",
         "rawType": "int64",
         "type": "integer"
        },
        {
         "name": "push1 push1 push1",
         "rawType": "int64",
         "type": "integer"
        },
        {
         "name": "push1 push1 push2",
         "rawType": "int64",
         "type": "integer"
        },
        {
         "name": "push1 push1 revert",
         "rawType": "int64",
         "type": "integer"
        },
        {
         "name": "push1 push1 sha3",
         "rawType": "int64",
         "type": "integer"
        },
        {
         "name": "push1 push1 shl",
         "rawType": "int64",
         "type": "integer"
        },
        {
         "name": "push1 push1 swap1",
         "rawType": "int64",
         "type": "integer"
        },
        {
         "name": "push1 push2",
         "rawType": "int64",
         "type": "integer"
        },
        {
         "name": "push1 push2 dup3",
         "rawType": "int64",
         "type": "integer"
        },
        {
         "name": "push1 push2 dup4",
         "rawType": "int64",
         "type": "integer"
        },
        {
         "name": "push1 push2 dup5",
         "rawType": "int64",
         "type": "integer"
        },
        {
         "name": "push1 push2 jump",
         "rawType": "int64",
         "type": "integer"
        },
        {
         "name": "push1 push2 push1",
         "rawType": "int64",
         "type": "integer"
        },
        {
         "name": "push1 push2 push2",
         "rawType": "int64",
         "type": "integer"
        },
        {
         "name": "push1 push20",
         "rawType": "int64",
         "type": "integer"
        },
        {
         "name": "push1 push20 and",
         "rawType": "int64",
         "type": "integer"
        },
        {
         "name": "push1 revert",
         "rawType": "int64",
         "type": "integer"
        },
        {
         "name": "push1 revert jumpdest",
         "rawType": "int64",
         "type": "integer"
        },
        {
         "name": "push1 sha3",
         "rawType": "int64",
         "type": "integer"
        },
        {
         "name": "push1 sha3 dup2",
         "rawType": "int64",
         "type": "integer"
        },
        {
         "name": "push1 sha3 push1",
         "rawType": "int64",
         "type": "integer"
        },
        {
         "name": "push1 sha3 sload",
         "rawType": "int64",
         "type": "integer"
        },
        {
         "name": "push1 sha3 swap1",
         "rawType": "int64",
         "type": "integer"
        },
        {
         "name": "push1 shl",
         "rawType": "int64",
         "type": "integer"
        },
        {
         "name": "push1 shl dup2",
         "rawType": "int64",
         "type": "integer"
        },
        {
         "name": "push1 shl push1",
         "rawType": "int64",
         "type": "integer"
        },
        {
         "name": "push1 shl sub",
         "rawType": "int64",
         "type": "integer"
        },
        {
         "name": "push1 shl swap1",
         "rawType": "int64",
         "type": "integer"
        },
        {
         "name": "push1 shr",
         "rawType": "int64",
         "type": "integer"
        },
        {
         "name": "push1 sload",
         "rawType": "int64",
         "type": "integer"
        },
        {
         "name": "push1 sload dup2",
         "rawType": "int64",
         "type": "integer"
        },
        {
         "name": "push1 sload push1",
         "rawType": "int64",
         "type": "integer"
        },
        {
         "name": "push1 sload push2",
         "rawType": "int64",
         "type": "integer"
        },
        {
         "name": "push1 sstore",
         "rawType": "int64",
         "type": "integer"
        },
        {
         "name": "push1 swap1",
         "rawType": "int64",
         "type": "integer"
        },
        {
         "name": "push1 swap1 dup2",
         "rawType": "int64",
         "type": "integer"
        },
        {
         "name": "push1 swap1 pop",
         "rawType": "int64",
         "type": "integer"
        },
        {
         "name": "push1 swap1 sha3",
         "rawType": "int64",
         "type": "integer"
        },
        {
         "name": "push1 swap1 sload",
         "rawType": "int64",
         "type": "integer"
        },
        {
         "name": "push1 swap2",
         "rawType": "int64",
         "type": "integer"
        },
        {
         "name": "push1 swap2 codecopy",
         "rawType": "int64",
         "type": "integer"
        },
        {
         "name": "push1 swap2 dup3",
         "rawType": "int64",
         "type": "integer"
        },
        {
         "name": "push1 swap3",
         "rawType": "int64",
         "type": "integer"
        },
        {
         "name": "push2",
         "rawType": "int64",
         "type": "integer"
        },
        {
         "name": "push2 calldatasize",
         "rawType": "int64",
         "type": "integer"
        },
        {
         "name": "push2 calldatasize push1",
         "rawType": "int64",
         "type": "integer"
        },
        {
         "name": "push2 caller",
         "rawType": "int64",
         "type": "integer"
        },
        {
         "name": "push2 dup1",
         "rawType": "int64",
         "type": "integer"
        },
        {
         "name": "push2 dup2",
         "rawType": "int64",
         "type": "integer"
        },
        {
         "name": "push2 dup2 push1",
         "rawType": "int64",
         "type": "integer"
        },
        {
         "name": "push2 dup2 push2",
         "rawType": "int64",
         "type": "integer"
        },
        {
         "name": "push2 dup3",
         "rawType": "int64",
         "type": "integer"
        },
        {
         "name": "push2 dup3 push2",
         "rawType": "int64",
         "type": "integer"
        },
        {
         "name": "push2 dup4",
         "rawType": "int64",
         "type": "integer"
        },
        {
         "name": "push2 dup4 dup4",
         "rawType": "int64",
         "type": "integer"
        },
        {
         "name": "push2 dup4 push2",
         "rawType": "int64",
         "type": "integer"
        },
        {
         "name": "push2 dup5",
         "rawType": "int64",
         "type": "integer"
        },
        {
         "name": "push2 dup5 dup5",
         "rawType": "int64",
         "type": "integer"
        },
        {
         "name": "push2 dup5 push2",
         "rawType": "int64",
         "type": "integer"
        },
        {
         "name": "push2 dup6",
         "rawType": "int64",
         "type": "integer"
        },
        {
         "name": "push2 dup6 push1",
         "rawType": "int64",
         "type": "integer"
        },
        {
         "name": "push2 dup7",
         "rawType": "int64",
         "type": "integer"
        },
        {
         "name": "push2 exp",
         "rawType": "int64",
         "type": "integer"
        },
        {
         "name": "push2 exp dup2",
         "rawType": "int64",
         "type": "integer"
        },
        {
         "name": "push2 exp swap1",
         "rawType": "int64",
         "type": "integer"
        },
        {
         "name": "push2 jump",
         "rawType": "int64",
         "type": "integer"
        },
        {
         "name": "push2 jump jumpdest",
         "rawType": "int64",
         "type": "integer"
        },
        {
         "name": "push2 jumpi",
         "rawType": "int64",
         "type": "integer"
        },
        {
         "name": "push2 jumpi dup1",
         "rawType": "int64",
         "type": "integer"
        },
        {
         "name": "push2 jumpi dup2",
         "rawType": "int64",
         "type": "integer"
        },
        {
         "name": "push2 jumpi dup3",
         "rawType": "int64",
         "type": "integer"
        },
        {
         "name": "push2 jumpi pop",
         "rawType": "int64",
         "type": "integer"
        },
        {
         "name": "push2 jumpi push1",
         "rawType": "int64",
         "type": "integer"
        },
        {
         "name": "push2 jumpi push2",
         "rawType": "int64",
         "type": "integer"
        },
        {
         "name": "push2 jumpi returndatasize",
         "rawType": "int64",
         "type": "integer"
        },
        {
         "name": "push2 jumpi unknown_0x5f",
         "rawType": "int64",
         "type": "integer"
        },
        {
         "name": "push2 push1",
         "rawType": "int64",
         "type": "integer"
        },
        {
         "name": "push2 push1 dup1",
         "rawType": "int64",
         "type": "integer"
        },
        {
         "name": "push2 push1 dup4",
         "rawType": "int64",
         "type": "integer"
        },
        {
         "name": "push2 push1 sload",
         "rawType": "int64",
         "type": "integer"
        },
        {
         "name": "push2 push1 swap2",
         "rawType": "int64",
         "type": "integer"
        },
        {
         "name": "push2 push2",
         "rawType": "int64",
         "type": "integer"
        },
        {
         "name": "push2 push2 calldatasize",
         "rawType": "int64",
         "type": "integer"
        },
        {
         "name": "push2 push2 jump",
         "rawType": "int64",
         "type": "integer"
        },
        {
         "name": "push2 push2 push2",
         "rawType": "int64",
         "type": "integer"
        },
        {
         "name": "push2 swap1",
         "rawType": "int64",
         "type": "integer"
        },
        {
         "name": "push2 swap1 push1",
         "rawType": "int64",
         "type": "integer"
        },
        {
         "name": "push2 swap1 push2",
         "rawType": "int64",
         "type": "integer"
        },
        {
         "name": "push2 swap1 swap2",
         "rawType": "int64",
         "type": "integer"
        },
        {
         "name": "push2 swap2",
         "rawType": "int64",
         "type": "integer"
        },
        {
         "name": "push2 swap2 swap1",
         "rawType": "int64",
         "type": "integer"
        },
        {
         "name": "push20",
         "rawType": "int64",
         "type": "integer"
        },
        {
         "name": "push20 and",
         "rawType": "int64",
         "type": "integer"
        },
        {
         "name": "push20 and dup2",
         "rawType": "int64",
         "type": "integer"
        },
        {
         "name": "push20 and eq",
         "rawType": "int64",
         "type": "integer"
        },
        {
         "name": "push20 and push1",
         "rawType": "int64",
         "type": "integer"
        },
        {
         "name": "push20 and push20",
         "rawType": "int64",
         "type": "integer"
        },
        {
         "name": "push20 and push32",
         "rawType": "int64",
         "type": "integer"
        },
        {
         "name": "push20 and swap1",
         "rawType": "int64",
         "type": "integer"
        },
        {
         "name": "push3",
         "rawType": "int64",
         "type": "integer"
        },
        {
         "name": "push3 jump",
         "rawType": "int64",
         "type": "integer"
        },
        {
         "name": "push3 jump jumpdest",
         "rawType": "int64",
         "type": "integer"
        },
        {
         "name": "push3 jumpi",
         "rawType": "int64",
         "type": "integer"
        },
        {
         "name": "push3 jumpi dup1",
         "rawType": "int64",
         "type": "integer"
        },
        {
         "name": "push3 jumpi push1",
         "rawType": "int64",
         "type": "integer"
        },
        {
         "name": "push3 push1",
         "rawType": "int64",
         "type": "integer"
        },
        {
         "name": "push3 push1 shl",
         "rawType": "int64",
         "type": "integer"
        },
        {
         "name": "push3 push3",
         "rawType": "int64",
         "type": "integer"
        },
        {
         "name": "push3 push3 jump",
         "rawType": "int64",
         "type": "integer"
        },
        {
         "name": "push3 swap1",
         "rawType": "int64",
         "type": "integer"
        },
        {
         "name": "push32",
         "rawType": "int64",
         "type": "integer"
        },
        {
         "name": "push32 dup2",
         "rawType": "int64",
         "type": "integer"
        },
        {
         "name": "push32 dup2 mstore",
         "rawType": "int64",
         "type": "integer"
        },
        {
         "name": "push32 push1",
         "rawType": "int64",
         "type": "integer"
        },
        {
         "name": "push32 push1 dup3",
         "rawType": "int64",
         "type": "integer"
        },
        {
         "name": "push32 swap1",
         "rawType": "int64",
         "type": "integer"
        },
        {
         "name": "push32 swap2",
         "rawType": "int64",
         "type": "integer"
        },
        {
         "name": "push4",
         "rawType": "int64",
         "type": "integer"
        },
        {
         "name": "push4 and",
         "rawType": "int64",
         "type": "integer"
        },
        {
         "name": "push4 and jump",
         "rawType": "int64",
         "type": "integer"
        },
        {
         "name": "push4 and push1",
         "rawType": "int64",
         "type": "integer"
        },
        {
         "name": "push4 eq",
         "rawType": "int64",
         "type": "integer"
        },
        {
         "name": "push4 eq push2",
         "rawType": "int64",
         "type": "integer"
        },
        {
         "name": "push4 gt",
         "rawType": "int64",
         "type": "integer"
        },
        {
         "name": "push4 gt push2",
         "rawType": "int64",
         "type": "integer"
        },
        {
         "name": "push4 push1",
         "rawType": "int64",
         "type": "integer"
        },
        {
         "name": "push4 push1 shl",
         "rawType": "int64",
         "type": "integer"
        },
        {
         "name": "push4 swap1",
         "rawType": "int64",
         "type": "integer"
        },
        {
         "name": "push5",
         "rawType": "int64",
         "type": "integer"
        },
        {
         "name": "push6",
         "rawType": "int64",
         "type": "integer"
        },
        {
         "name": "push8",
         "rawType": "int64",
         "type": "integer"
        },
        {
         "name": "return",
         "rawType": "int64",
         "type": "integer"
        },
        {
         "name": "return jumpdest",
         "rawType": "int64",
         "type": "integer"
        },
        {
         "name": "return jumpdest callvalue",
         "rawType": "int64",
         "type": "integer"
        },
        {
         "name": "return jumpdest push2",
         "rawType": "int64",
         "type": "integer"
        },
        {
         "name": "returndatacopy",
         "rawType": "int64",
         "type": "integer"
        },
        {
         "name": "returndatacopy returndatasize",
         "rawType": "int64",
         "type": "integer"
        },
        {
         "name": "returndatacopy returndatasize push1",
         "rawType": "int64",
         "type": "integer"
        },
        {
         "name": "returndatasize",
         "rawType": "int64",
         "type": "integer"
        },
        {
         "name": "returndatasize push1",
         "rawType": "int64",
         "type": "integer"
        },
        {
         "name": "returndatasize push1 dup1",
         "rawType": "int64",
         "type": "integer"
        },
        {
         "name": "returndatasize push1 not",
         "rawType": "int64",
         "type": "integer"
        },
        {
         "name": "returndatasize push1 revert",
         "rawType": "int64",
         "type": "integer"
        },
        {
         "name": "revert",
         "rawType": "int64",
         "type": "integer"
        },
        {
         "name": "revert jumpdest",
         "rawType": "int64",
         "type": "integer"
        },
        {
         "name": "revert jumpdest dup1",
         "rawType": "int64",
         "type": "integer"
        },
        {
         "name": "revert jumpdest dup2",
         "rawType": "int64",
         "type": "integer"
        },
        {
         "name": "revert jumpdest pop",
         "rawType": "int64",
         "type": "integer"
        },
        {
         "name": "revert jumpdest push1",
         "rawType": "int64",
         "type": "integer"
        },
        {
         "name": "revert jumpdest push2",
         "rawType": "int64",
         "type": "integer"
        },
        {
         "name": "sha3",
         "rawType": "int64",
         "type": "integer"
        },
        {
         "name": "sha3 dup1",
         "rawType": "int64",
         "type": "integer"
        },
        {
         "name": "sha3 dup1 sload",
         "rawType": "int64",
         "type": "integer"
        },
        {
         "name": "sha3 dup2",
         "rawType": "int64",
         "type": "integer"
        },
        {
         "name": "sha3 dup2 swap1",
         "rawType": "int64",
         "type": "integer"
        },
        {
         "name": "sha3 push1",
         "rawType": "int64",
         "type": "integer"
        },
        {
         "name": "sha3 sload",
         "rawType": "int64",
         "type": "integer"
        },
        {
         "name": "sha3 sload push1",
         "rawType": "int64",
         "type": "integer"
        },
        {
         "name": "sha3 sload push2",
         "rawType": "int64",
         "type": "integer"
        },
        {
         "name": "sha3 sload swap1",
         "rawType": "int64",
         "type": "integer"
        },
        {
         "name": "sha3 swap1",
         "rawType": "int64",
         "type": "integer"
        },
        {
         "name": "sha3 swap4",
         "rawType": "int64",
         "type": "integer"
        },
        {
         "name": "sha3 swap4 swap1",
         "rawType": "int64",
         "type": "integer"
        },
        {
         "name": "shl",
         "rawType": "int64",
         "type": "integer"
        },
        {
         "name": "shl dup2",
         "rawType": "int64",
         "type": "integer"
        },
        {
         "name": "shl dup2 mstore",
         "rawType": "int64",
         "type": "integer"
        },
        {
         "name": "shl push1",
         "rawType": "int64",
         "type": "integer"
        },
        {
         "name": "shl push1 dup3",
         "rawType": "int64",
         "type": "integer"
        },
        {
         "name": "shl push1 mstore",
         "rawType": "int64",
         "type": "integer"
        },
        {
         "name": "shl sub",
         "rawType": "int64",
         "type": "integer"
        },
        {
         "name": "shl sub and",
         "rawType": "int64",
         "type": "integer"
        },
        {
         "name": "shl sub dup2",
         "rawType": "int64",
         "type": "integer"
        },
        {
         "name": "shl sub dup3",
         "rawType": "int64",
         "type": "integer"
        },
        {
         "name": "shl sub dup4",
         "rawType": "int64",
         "type": "integer"
        },
        {
         "name": "shl sub dup5",
         "rawType": "int64",
         "type": "integer"
        },
        {
         "name": "shl sub not",
         "rawType": "int64",
         "type": "integer"
        },
        {
         "name": "shl sub swap1",
         "rawType": "int64",
         "type": "integer"
        },
        {
         "name": "shl swap1",
         "rawType": "int64",
         "type": "integer"
        },
        {
         "name": "shr",
         "rawType": "int64",
         "type": "integer"
        },
        {
         "name": "sload",
         "rawType": "int64",
         "type": "integer"
        },
        {
         "name": "sload dup2",
         "rawType": "int64",
         "type": "integer"
        },
        {
         "name": "sload dup2 jump",
         "rawType": "int64",
         "type": "integer"
        },
        {
         "name": "sload push1",
         "rawType": "int64",
         "type": "integer"
        },
        {
         "name": "sload push1 and",
         "rawType": "int64",
         "type": "integer"
        },
        {
         "name": "sload push1 mload",
         "rawType": "int64",
         "type": "integer"
        },
        {
         "name": "sload push1 push1",
         "rawType": "int64",
         "type": "integer"
        },
        {
         "name": "sload push1 sload",
         "rawType": "int64",
         "type": "integer"
        },
        {
         "name": "sload push2",
         "rawType": "int64",
         "type": "integer"
        },
        {
         "name": "sload push2 swap1",
         "rawType": "int64",
         "type": "integer"
        },
        {
         "name": "sload push2 swap2",
         "rawType": "int64",
         "type": "integer"
        },
        {
         "name": "sload swap1",
         "rawType": "int64",
         "type": "integer"
        },
        {
         "name": "sload swap1 jump",
         "rawType": "int64",
         "type": "integer"
        },
        {
         "name": "sload swap1 pop",
         "rawType": "int64",
         "type": "integer"
        },
        {
         "name": "sload swap1 push2",
         "rawType": "int64",
         "type": "integer"
        },
        {
         "name": "slt",
         "rawType": "int64",
         "type": "integer"
        },
        {
         "name": "slt iszero",
         "rawType": "int64",
         "type": "integer"
        },
        {
         "name": "slt iszero push2",
         "rawType": "int64",
         "type": "integer"
        },
        {
         "name": "sstore",
         "rawType": "int64",
         "type": "integer"
        },
        {
         "name": "sstore jump",
         "rawType": "int64",
         "type": "integer"
        },
        {
         "name": "sstore jump jumpdest",
         "rawType": "int64",
         "type": "integer"
        },
        {
         "name": "sstore pop",
         "rawType": "int64",
         "type": "integer"
        },
        {
         "name": "sstore pop pop",
         "rawType": "int64",
         "type": "integer"
        },
        {
         "name": "sstore push1",
         "rawType": "int64",
         "type": "integer"
        },
        {
         "name": "staticcall",
         "rawType": "int64",
         "type": "integer"
        },
        {
         "name": "staticcall iszero",
         "rawType": "int64",
         "type": "integer"
        },
        {
         "name": "staticcall iszero dup1",
         "rawType": "int64",
         "type": "integer"
        },
        {
         "name": "stop",
         "rawType": "int64",
         "type": "integer"
        },
        {
         "name": "stop jumpdest",
         "rawType": "int64",
         "type": "integer"
        },
        {
         "name": "stop stop",
         "rawType": "int64",
         "type": "integer"
        },
        {
         "name": "stop stop stop",
         "rawType": "int64",
         "type": "integer"
        },
        {
         "name": "sub",
         "rawType": "int64",
         "type": "integer"
        },
        {
         "name": "sub and",
         "rawType": "int64",
         "type": "integer"
        },
        {
         "name": "sub and caller",
         "rawType": "int64",
         "type": "integer"
        },
        {
         "name": "sub and dup2",
         "rawType": "int64",
         "type": "integer"
        },
        {
         "name": "sub and push1",
         "rawType": "int64",
         "type": "integer"
        },
        {
         "name": "sub and push2",
         "rawType": "int64",
         "type": "integer"
        },
        {
         "name": "sub dup1",
         "rawType": "int64",
         "type": "integer"
        },
        {
         "name": "sub dup2",
         "rawType": "int64",
         "type": "integer"
        },
        {
         "name": "sub dup2 add",
         "rawType": "int64",
         "type": "integer"
        },
        {
         "name": "sub dup2 and",
         "rawType": "int64",
         "type": "integer"
        },
        {
         "name": "sub dup2 dup7",
         "rawType": "int64",
         "type": "integer"
        },
        {
         "name": "sub dup2 push1",
         "rawType": "int64",
         "type": "integer"
        },
        {
         "name": "sub dup3",
         "rawType": "int64",
         "type": "integer"
        },
        {
         "name": "sub dup3 and",
         "rawType": "int64",
         "type": "integer"
        },
        {
         "name": "sub dup3 mstore",
         "rawType": "int64",
         "type": "integer"
        },
        {
         "name": "sub dup4",
         "rawType": "int64",
         "type": "integer"
        },
        {
         "name": "sub dup4 and",
         "rawType": "int64",
         "type": "integer"
        },
        {
         "name": "sub dup5",
         "rawType": "int64",
         "type": "integer"
        },
        {
         "name": "sub not",
         "rawType": "int64",
         "type": "integer"
        },
        {
         "name": "sub not and",
         "rawType": "int64",
         "type": "integer"
        },
        {
         "name": "sub push1",
         "rawType": "int64",
         "type": "integer"
        },
        {
         "name": "sub push1 add",
         "rawType": "int64",
         "type": "integer"
        },
        {
         "name": "sub push1 dup2",
         "rawType": "int64",
         "type": "integer"
        },
        {
         "name": "sub push1 dup4",
         "rawType": "int64",
         "type": "integer"
        },
        {
         "name": "sub push2",
         "rawType": "int64",
         "type": "integer"
        },
        {
         "name": "sub push2 jumpi",
         "rawType": "int64",
         "type": "integer"
        },
        {
         "name": "sub slt",
         "rawType": "int64",
         "type": "integer"
        },
        {
         "name": "sub slt iszero",
         "rawType": "int64",
         "type": "integer"
        },
        {
         "name": "sub swap1",
         "rawType": "int64",
         "type": "integer"
        },
        {
         "name": "sub swap1 log3",
         "rawType": "int64",
         "type": "integer"
        },
        {
         "name": "sub swap1 return",
         "rawType": "int64",
         "type": "integer"
        },
        {
         "name": "sub swap1 revert",
         "rawType": "int64",
         "type": "integer"
        },
        {
         "name": "sub swap1 swap2",
         "rawType": "int64",
         "type": "integer"
        },
        {
         "name": "swap1",
         "rawType": "int64",
         "type": "integer"
        },
        {
         "name": "swap1 div",
         "rawType": "int64",
         "type": "integer"
        },
        {
         "name": "swap1 div push1",
         "rawType": "int64",
         "type": "integer"
        },
        {
         "name": "swap1 div push20",
         "rawType": "int64",
         "type": "integer"
        },
        {
         "name": "swap1 dup1",
         "rawType": "int64",
         "type": "integer"
        },
        {
         "name": "swap1 dup1 calldataload",
         "rawType": "int64",
         "type": "integer"
        },
        {
         "name": "swap1 dup1 dup1",
         "rawType": "int64",
         "type": "integer"
        },
        {
         "name": "swap1 dup2",
         "rawType": "int64",
         "type": "integer"
        },
        {
         "name": "swap1 dup2 add",
         "rawType": "int64",
         "type": "integer"
        },
        {
         "name": "swap1 dup2 mstore",
         "rawType": "int64",
         "type": "integer"
        },
        {
         "name": "swap1 dup2 swap1",
         "rawType": "int64",
         "type": "integer"
        },
        {
         "name": "swap1 dup3",
         "rawType": "int64",
         "type": "integer"
        },
        {
         "name": "swap1 dup4",
         "rawType": "int64",
         "type": "integer"
        },
        {
         "name": "swap1 dup5",
         "rawType": "int64",
         "type": "integer"
        },
        {
         "name": "swap1 jump",
         "rawType": "int64",
         "type": "integer"
        },
        {
         "name": "swap1 jump jumpdest",
         "rawType": "int64",
         "type": "integer"
        },
        {
         "name": "swap1 log3",
         "rawType": "int64",
         "type": "integer"
        },
        {
         "name": "swap1 log3 pop",
         "rawType": "int64",
         "type": "integer"
        },
        {
         "name": "swap1 mload",
         "rawType": "int64",
         "type": "integer"
        },
        {
         "name": "swap1 mstore",
         "rawType": "int64",
         "type": "integer"
        },
        {
         "name": "swap1 mstore push1",
         "rawType": "int64",
         "type": "integer"
        },
        {
         "name": "swap1 pop",
         "rawType": "int64",
         "type": "integer"
        },
        {
         "name": "swap1 pop dup2",
         "rawType": "int64",
         "type": "integer"
        },
        {
         "name": "swap1 pop jump",
         "rawType": "int64",
         "type": "integer"
        },
        {
         "name": "swap1 pop pop",
         "rawType": "int64",
         "type": "integer"
        },
        {
         "name": "swap1 pop push1",
         "rawType": "int64",
         "type": "integer"
        },
        {
         "name": "swap1 pop push2",
         "rawType": "int64",
         "type": "integer"
        },
        {
         "name": "swap1 pop swap1",
         "rawType": "int64",
         "type": "integer"
        },
        {
         "name": "swap1 pop swap2",
         "rawType": "int64",
         "type": "integer"
        },
        {
         "name": "swap1 pop swap3",
         "rawType": "int64",
         "type": "integer"
        },
        {
         "name": "swap1 push1",
         "rawType": "int64",
         "type": "integer"
        },
        {
         "name": "swap1 push1 add",
         "rawType": "int64",
         "type": "integer"
        },
        {
         "name": "swap1 push1 mstore",
         "rawType": "int64",
         "type": "integer"
        },
        {
         "name": "swap1 push1 push1",
         "rawType": "int64",
         "type": "integer"
        },
        {
         "name": "swap1 push2",
         "rawType": "int64",
         "type": "integer"
        },
        {
         "name": "swap1 push2 exp",
         "rawType": "int64",
         "type": "integer"
        },
        {
         "name": "swap1 push2 jump",
         "rawType": "int64",
         "type": "integer"
        },
        {
         "name": "swap1 push2 swap1",
         "rawType": "int64",
         "type": "integer"
        },
        {
         "name": "swap1 push2 swap2",
         "rawType": "int64",
         "type": "integer"
        },
        {
         "name": "swap1 push3",
         "rawType": "int64",
         "type": "integer"
        },
        {
         "name": "swap1 push3 jump",
         "rawType": "int64",
         "type": "integer"
        },
        {
         "name": "swap1 push4",
         "rawType": "int64",
         "type": "integer"
        },
        {
         "name": "swap1 push4 and",
         "rawType": "int64",
         "type": "integer"
        },
        {
         "name": "swap1 return",
         "rawType": "int64",
         "type": "integer"
        },
        {
         "name": "swap1 return jumpdest",
         "rawType": "int64",
         "type": "integer"
        },
        {
         "name": "swap1 revert",
         "rawType": "int64",
         "type": "integer"
        },
        {
         "name": "swap1 revert jumpdest",
         "rawType": "int64",
         "type": "integer"
        },
        {
         "name": "swap1 sha3",
         "rawType": "int64",
         "type": "integer"
        },
        {
         "name": "swap1 sha3 sload",
         "rawType": "int64",
         "type": "integer"
        },
        {
         "name": "swap1 sload",
         "rawType": "int64",
         "type": "integer"
        },
        {
         "name": "swap1 sload swap1",
         "rawType": "int64",
         "type": "integer"
        },
        {
         "name": "swap1 sstore",
         "rawType": "int64",
         "type": "integer"
        },
        {
         "name": "swap1 sstore pop",
         "rawType": "int64",
         "type": "integer"
        },
        {
         "name": "swap1 sub",
         "rawType": "int64",
         "type": "integer"
        },
        {
         "name": "swap1 sub push1",
         "rawType": "int64",
         "type": "integer"
        },
        {
         "name": "swap1 swap2",
         "rawType": "int64",
         "type": "integer"
        },
        {
         "name": "swap1 swap2 add",
         "rawType": "int64",
         "type": "integer"
        },
        {
         "name": "swap1 swap2 and",
         "rawType": "int64",
         "type": "integer"
        },
        {
         "name": "swap1 swap2 mstore",
         "rawType": "int64",
         "type": "integer"
        },
        {
         "name": "swap1 swap2 sstore",
         "rawType": "int64",
         "type": "integer"
        },
        {
         "name": "swap1 swap2 swap1",
         "rawType": "int64",
         "type": "integer"
        },
        {
         "name": "swap1 swap3",
         "rawType": "int64",
         "type": "integer"
        },
        {
         "name": "swap1 swap3 and",
         "rawType": "int64",
         "type": "integer"
        },
        {
         "name": "swap1 swap3 swap2",
         "rawType": "int64",
         "type": "integer"
        },
        {
         "name": "swap1 swap4",
         "rawType": "int64",
         "type": "integer"
        },
        {
         "name": "swap1 swap5",
         "rawType": "int64",
         "type": "integer"
        },
        {
         "name": "swap2",
         "rawType": "int64",
         "type": "integer"
        },
        {
         "name": "swap2 add",
         "rawType": "int64",
         "type": "integer"
        },
        {
         "name": "swap2 and",
         "rawType": "int64",
         "type": "integer"
        },
        {
         "name": "swap2 and eq",
         "rawType": "int64",
         "type": "integer"
        },
        {
         "name": "swap2 codecopy",
         "rawType": "int64",
         "type": "integer"
        },
        {
         "name": "swap2 codecopy push1",
         "rawType": "int64",
         "type": "integer"
        },
        {
         "name": "swap2 div",
         "rawType": "int64",
         "type": "integer"
        },
        {
         "name": "swap2 dup3",
         "rawType": "int64",
         "type": "integer"
        },
        {
         "name": "swap2 dup3 swap1",
         "rawType": "int64",
         "type": "integer"
        },
        {
         "name": "swap2 mstore",
         "rawType": "int64",
         "type": "integer"
        },
        {
         "name": "swap2 or",
         "rawType": "int64",
         "type": "integer"
        },
        {
         "name": "swap2 pop",
         "rawType": "int64",
         "type": "integer"
        },
        {
         "name": "swap2 pop jumpdest",
         "rawType": "int64",
         "type": "integer"
        },
        {
         "name": "swap2 pop pop",
         "rawType": "int64",
         "type": "integer"
        },
        {
         "name": "swap2 pop push1",
         "rawType": "int64",
         "type": "integer"
        },
        {
         "name": "swap2 pop push2",
         "rawType": "int64",
         "type": "integer"
        },
        {
         "name": "swap2 push1",
         "rawType": "int64",
         "type": "integer"
        },
        {
         "name": "swap2 push1 add",
         "rawType": "int64",
         "type": "integer"
        },
        {
         "name": "swap2 push2",
         "rawType": "int64",
         "type": "integer"
        },
        {
         "name": "swap2 push2 jump",
         "rawType": "int64",
         "type": "integer"
        },
        {
         "name": "swap2 sstore",
         "rawType": "int64",
         "type": "integer"
        },
        {
         "name": "swap2 sub",
         "rawType": "int64",
         "type": "integer"
        },
        {
         "name": "swap2 sub swap1",
         "rawType": "int64",
         "type": "integer"
        },
        {
         "name": "swap2 swap1",
         "rawType": "int64",
         "type": "integer"
        },
        {
         "name": "swap2 swap1 dup1",
         "rawType": "int64",
         "type": "integer"
        },
        {
         "name": "swap2 swap1 pop",
         "rawType": "int64",
         "type": "integer"
        },
        {
         "name": "swap2 swap1 push1",
         "rawType": "int64",
         "type": "integer"
        },
        {
         "name": "swap2 swap1 push2",
         "rawType": "int64",
         "type": "integer"
        },
        {
         "name": "swap2 swap1 push4",
         "rawType": "int64",
         "type": "integer"
        },
        {
         "name": "swap2 swap1 swap2",
         "rawType": "int64",
         "type": "integer"
        },
        {
         "name": "swap3",
         "rawType": "int64",
         "type": "integer"
        },
        {
         "name": "swap3 and",
         "rawType": "int64",
         "type": "integer"
        },
        {
         "name": "swap3 mstore",
         "rawType": "int64",
         "type": "integer"
        },
        {
         "name": "swap3 pop",
         "rawType": "int64",
         "type": "integer"
        },
        {
         "name": "swap3 pop pop",
         "rawType": "int64",
         "type": "integer"
        },
        {
         "name": "swap3 pop swap3",
         "rawType": "int64",
         "type": "integer"
        },
        {
         "name": "swap3 swap1",
         "rawType": "int64",
         "type": "integer"
        },
        {
         "name": "swap3 swap1 swap3",
         "rawType": "int64",
         "type": "integer"
        },
        {
         "name": "swap3 swap2",
         "rawType": "int64",
         "type": "integer"
        },
        {
         "name": "swap3 swap2 pop",
         "rawType": "int64",
         "type": "integer"
        },
        {
         "name": "swap3 swap2 swap1",
         "rawType": "int64",
         "type": "integer"
        },
        {
         "name": "swap4",
         "rawType": "int64",
         "type": "integer"
        },
        {
         "name": "swap4 pop",
         "rawType": "int64",
         "type": "integer"
        },
        {
         "name": "swap4 pop pop",
         "rawType": "int64",
         "type": "integer"
        },
        {
         "name": "swap4 swap1",
         "rawType": "int64",
         "type": "integer"
        },
        {
         "name": "swap4 swap1 swap4",
         "rawType": "int64",
         "type": "integer"
        },
        {
         "name": "swap4 swap3",
         "rawType": "int64",
         "type": "integer"
        },
        {
         "name": "swap4 swap3 pop",
         "rawType": "int64",
         "type": "integer"
        },
        {
         "name": "swap5",
         "rawType": "int64",
         "type": "integer"
        },
        {
         "name": "swap5 pop",
         "rawType": "int64",
         "type": "integer"
        },
        {
         "name": "swap6",
         "rawType": "int64",
         "type": "integer"
        },
        {
         "name": "swap7",
         "rawType": "int64",
         "type": "integer"
        },
        {
         "name": "timestamp",
         "rawType": "int64",
         "type": "integer"
        },
        {
         "name": "unknown_0x5f",
         "rawType": "int64",
         "type": "integer"
        },
        {
         "name": "unknown_0x5f dup1",
         "rawType": "int64",
         "type": "integer"
        },
        {
         "name": "unknown_0x5f dup1 revert",
         "rawType": "int64",
         "type": "integer"
        },
        {
         "name": "unknown_0x5f swap1",
         "rawType": "int64",
         "type": "integer"
        },
        {
         "name": "unknown_0xfe",
         "rawType": "int64",
         "type": "integer"
        }
       ],
       "ref": "b7547cf3-0add-42f8-add8-bbeb6162bb4d",
       "rows": [
        [
         "0x8275ebf521dc217aa79c88132017a5bcef001dd9",
         "4.676922495279863",
         "4.331571884123782",
         "0.00016046213093709883",
         "0.061938382541720155",
         "0.0280808729139923",
         "0.007541720154043646",
         "0.01845314505776637",
         "0.005776636713735558",
         "0.0016046213093709885",
         "0.002246469833119384",
         "0.020218228498074454",
         "0.029685494223363286",
         "0.00032092426187419767",
         "0.008664955070603338",
         "0.002888318356867779",
         "0.0006418485237483953",
         "0.033697047496790755",
         "0.03353658536585366",
         "0.004653401797175867",
         "0.4017971758664955",
         "0.025353016688061617",
         "0.0016046213093709885",
         "0.004492939666238768",
         "0.00032092426187419767",
         "0.011392811296534019",
         "0.004332477535301669",
         "0.0006418485237483953",
         "0.00048138639281129655",
         "0.00016046213093709883",
         "0.0006418485237483953",
         "0.0006418485237483953",
         "0.00032092426187419767",
         "0.0009627727856225931",
         "0.0006418485237483953",
         "0.0014441591784338896",
         "0.00032092426187419767",
         "0.0008023106546854943",
         "0.00016046213093709883",
         "0.0008023106546854943",
         "0.004813863928112966",
         "0.0006418485237483953",
         "0.00016046213093709883",
         "0.0006418485237483953",
         "0.00032092426187419767",
         "0.0014441591784338896",
         "0.0006418485237483953",
         "0.00016046213093709883",
         "0.00032092426187419767",
         "0.0006418485237483953",
         "0.00032092426187419767",
         "0.00016046213093709883",
         "0.002086007702182285",
         "0.00048138639281129655",
         "0.00032092426187419767",
         "0.008664955070603338",
         "0.00032092426187419767",
         "0.0008023106546854943",
         "0.025513478818998715",
         "0.00016046213093709883",
         "0.00016046213093709883",
         "0.0006418485237483953",
         "0.00048138639281129655",
         "0.00048138639281129655",
         "0.017811296534017973",
         "0.0006418485237483953",
         "0.00016046213093709883",
         "0.0008023106546854943",
         "0.00016046213093709883",
         "0.0006418485237483953",
         "0.0016046213093709885",
         "0.00048138639281129655",
         "0.00032092426187419767",
         "0.00048138639281129655",
         "0.00016046213093709883",
         "0.00032092426187419767",
         "0.00032092426187419767",
         "0.0008023106546854943",
         "0.00032092426187419767",
         "0.00032092426187419767",
         "0.001123234916559692",
         "0.00048138639281129655",
         "0.002406931964056483",
         "0.015083440308087292",
         "0.0008023106546854943",
         "0.0012836970474967907",
         "0.00016046213093709883",
         "0.008023106546854942",
         "0.00834403080872914",
         "0.028883183568677792",
         "0.02647625160462131",
         "0.004653401797175867",
         "0.014281129653401798",
         "0.00016046213093709883",
         "0.0016046213093709885",
         "0.0025673940949935813",
         "0.0009627727856225931",
         "0.004813863928112966",
         "0.002406931964056483",
         "0.020218228498074454",
         "0.00016046213093709883",
         "0.0009627727856225931",
         "0.00032092426187419767",
         "0.001123234916559692",
         "0.00016046213093709883",
         "0.00048138639281129655",
         "0.00048138639281129655",
         "0.0006418485237483953",
         "0.00032092426187419767",
         "0.0006418485237483953",
         "0.00016046213093709883",
         "0.0008023106546854943",
         "0.00016046213093709883",
         "0.0006418485237483953",
         "0.00016046213093709883",
         "0.00032092426187419767",
         "0.005776636713735558",
         "0.00016046213093709883",
         "0.0006418485237483953",
         "0.0008023106546854943",
         "0.00032092426187419767",
         "0.00048138639281129655",
         "0.00048138639281129655",
         "0.00032092426187419767",
         "0.00032092426187419767",
         "0.00016046213093709883",
         "0.00016046213093709883",
         "0.00016046213093709883",
         "0.00016046213093709883",
         "0.0006418485237483953",
         "0.0009627727856225931",
         "0.0006418485237483953",
         "0.00032092426187419767",
         "0.0012836970474967907",
         "0.00048138639281129655",
         "0.00032092426187419767",
         "0.0008023106546854943",
         "0.0014441591784338896",
         "0.0035301668806161745",
         "0.002086007702182285",
         "0.0016046213093709885",
         "0.00048138639281129655",
         "0.0009627727856225931",
         "0.00048138639281129655",
         "0.00048138639281129655",
         "0.0012836970474967907",
         "0.0006418485237483953",
         "0.00048138639281129655",
         "0.0006418485237483953",
         "0.00048138639281129655",
         "0.0006418485237483953",
         "0.00048138639281129655",
         "0.00048138639281129655",
         "0.0012836970474967907",
         "0.00048138639281129655",
         "0.00016046213093709883",
         "0.0009627727856225931",
         "0.001123234916559692",
         "0.001123234916559692",
         "0.00016046213093709883",
         "0.00048138639281129655",
         "0.00048138639281129655",
         "0.0006418485237483953",
         "0.0006418485237483953",
         "0.0006418485237483953",
         "0.00048138639281129655",
         "0.00048138639281129655",
         "0.0006418485237483953",
         "0.00048138639281129655",
         "0.00048138639281129655",
         "0.00048138639281129655",
         "0.0006418485237483953",
         "0.00048138639281129655",
         "0.0006418485237483953",
         "0.00016046213093709883",
         "0.00016046213093709883",
         "0.00016046213093709883",
         "0.00016046213093709883",
         "0.00016046213093709883",
         "0.00032092426187419767",
         "0.00016046213093709883",
         "0.00048138639281129655",
         "0.00048138639281129655",
         "0.00016046213093709883",
         "0.00016046213093709883",
         "0.00016046213093709883",
         "0.00016046213093709883",
         "0.00016046213093709883",
         "0.00016046213093709883",
         "0.00032092426187419767",
         "0.0006418485237483953",
         "0.00016046213093709883",
         "0.00016046213093709883",
         "0.00032092426187419767",
         "0.00016046213093709883",
         "0.00032092426187419767",
         "0.00016046213093709883",
         "0.00016046213093709883",
         "0.00032092426187419767",
         "0.00032092426187419767",
         "0.00048138639281129655",
         "0.00016046213093709883",
         "0.00016046213093709883",
         "0.00016046213093709883",
         "0.00016046213093709883",
         "0.00016046213093709883",
         "0.00016046213093709883",
         "0.00016046213093709883",
         "0.00016046213093709883",
         "0.00032092426187419767",
         "0.00048138639281129655",
         "0.00016046213093709883",
         "0.00032092426187419767",
         "0.00016046213093709883",
         "0.00032092426187419767",
         "0.00016046213093709883",
         "0.0",
         "0.0",
         "0.0",
         "0.0",
         "0.0",
         "0.0",
         "0.0",
         "0.0",
         "0.0",
         "0.0",
         "0.0",
         "0.0",
         "0.0",
         "0.0",
         "0.0",
         "0.0",
         "0.0",
         "0.0",
         "0.0",
         "0.0",
         "0.0",
         "0.0",
         "0.0",
         "0.0",
         "0.0",
         "0.0",
         "0.0",
         "0.0",
         "0.0",
         "0.0",
         "0.0",
         "0.0",
         "0.0",
         "0.0",
         "0.0",
         "0.0",
         "0.0",
         "0.0",
         "0.0",
         "0.0",
         "0.0",
         "0.0",
         "0.0",
         "0.0",
         "153",
         "0",
         "0",
         "0",
         "0",
         "2",
         "0",
         "2",
         "0",
         "0",
         "0",
         "0",
         "4",
         "2",
         "0",
         "0",
         "2",
         "2",
         "0",
         "2",
         "0",
         "0",
         "44",
         "2",
         "2",
         "0",
         "38",
         "0",
         "0",
         "0",
         "0",
         "0",
         "72",
         "11",
         "38",
         "0",
         "3",
         "4",
         "0",
         "16",
         "27",
         "21",
         "2",
         "0",
         "1",
         "150",
         "6",
         "0",
         "3",
         "45",
         "2",
         "42",
         "3",
         "2",
         "0",
         "2",
         "1",
         "5",
         "5",
         "0",
         "4",
         "4",
         "9",
         "9",
         "6",
         "0",
         "0",
         "0",
         "4",
         "0",
         "0",
         "0",
         "43",
         "43",
         "9",
         "0",
         "12",
         "2",
         "0",
         "10",
         "0",
         "0",
         "0",
         "0",
         "0",
         "17",
         "0",
         "0",
         "10",
         "10",
         "6",
         "6",
         "10",
         "0",
         "0",
         "9",
         "9",
         "0",
         "21",
         "0",
         "0",
         "0",
         "15",
         "15",
         "15",
         "0",
         "0",
         "0",
         "15",
         "4",
         "1",
         "1",
         "5",
         "5",
         "173",
         "16",
         "10",
         "6",
         "9",
         "9",
         "11",
         "9",
         "2",
         "21",
         "2",
         "10",
         "0",
         "7",
         "2",
         "0",
         "0",
         "0",
         "0",
         "0",
         "19",
         "19",
         "4",
         "2",
         "2",
         "9",
         "4",
         "0",
         "0",
         "0",
         "1",
         "1",
         "0",
         "0",
         "0",
         "0",
         "15",
         "15",
         "0",
         "0",
         "0",
         "25",
         "25",
         "4",
         "4",
         "0",
         "23",
         "21",
         "0",
         "0",
         "164",
         "15",
         "2",
         "13",
         "0",
         "0",
         "0",
         "0",
         "4",
         "0",
         "2",
         "0",
         "2",
         "0",
         "0",
         "0",
         "0",
         "1",
         "1",
         "5",
         "5",
         "3",
         "3",
         "0",
         "2",
         "2",
         "101",
         "0",
         "99",
         "2",
         "7",
         "0",
         "1",
         "1",
         "4",
         "2",
         "0",
         "4",
         "4",
         "2",
         "2",
         "0",
         "11",
         "0",
         "11",
         "0",
         "53",
         "6",
         "0",
         "0",
         "0",
         "0",
         "4",
         "0",
         "0",
         "0",
         "2",
         "13",
         "10",
         "2",
         "1",
         "0",
         "0",
         "0",
         "0",
         "4",
         "4",
         "5",
         "2",
         "0",
         "0",
         "8",
         "2",
         "1",
         "6",
         "6",
         "2",
         "2",
         "29",
         "1",
         "0",
         "0",
         "0",
         "4",
         "2",
         "2",
         "2",
         "0",
         "0",
         "2",
         "2",
         "2",
         "2",
         "5",
         "1",
         "0",
         "0",
         "8",
         "8",
         "0",
         "1",
         "0",
         "8",
         "2",
         "2",
         "0",
         "0",
         "0",
         "0",
         "0",
         "0",
         "0",
         "3",
         "0",
         "0",
         "3",
         "3",
         "0",
         "0",
         "0",
         "8",
         "0",
         "0",
         "0",
         "0",
         "0",
         "0",
         "0",
         "0",
         "8",
         "8",
         "0",
         "0",
         "0",
         "7",
         "0",
         "0",
         "0",
         "3",
         "0",
         "0",
         "1",
         "20",
         "5",
         "0",
         "15",
         "15",
         "0",
         "0",
         "11",
         "2",
         "2",
         "6",
         "6",
         "0",
         "0",
         "0",
         "0",
         "0",
         "0",
         "0",
         "0",
         "0",
         "0",
         "7",
         "5",
         "0",
         "2",
         "2",
         "78",
         "0",
         "0",
         "5",
         "5",
         "36",
         "5",
         "0",
         "37",
         "33",
         "0",
         "0",
         "50",
         "49",
         "0",
         "0",
         "0",
         "2",
         "0",
         "0",
         "4",
         "38",
         "2",
         "0",
         "0",
         "0",
         "3",
         "0",
         "0",
         "0",
         "0",
         "0",
         "101",
         "15",
         "15",
         "2",
         "0",
         "0",
         "0",
         "3",
         "0",
         "0",
         "2",
         "3",
         "2",
         "0",
         "0",
         "0",
         "0",
         "0",
         "23",
         "0",
         "2",
         "4",
         "0",
         "15",
         "44",
         "8",
         "3",
         "1",
         "12",
         "15",
         "1",
         "3",
         "1",
         "0",
         "0",
         "6",
         "2",
         "2",
         "1",
         "0",
         "0",
         "0",
         "0",
         "0",
         "0",
         "0",
         "0",
         "0",
         "0",
         "0",
         "0",
         "3",
         "3",
         "0",
         "0",
         "0",
         "0",
         "0",
         "0",
         "0",
         "0",
         "0",
         "53",
         "20",
         "4",
         "2",
         "14",
         "0",
         "2",
         "0",
         "0",
         "26",
         "24",
         "0",
         "1",
         "2",
         "0",
         "0",
         "0",
         "0",
         "0",
         "0",
         "7",
         "1",
         "1",
         "7",
         "4",
         "2",
         "3",
         "3",
         "52",
         "40",
         "17",
         "0",
         "0",
         "21",
         "4",
         "4",
         "0",
         "0",
         "0",
         "0",
         "0",
         "0",
         "0",
         "0",
         "0",
         "0",
         "0",
         "4",
         "2",
         "2",
         "0",
         "112",
         "2",
         "0",
         "0",
         "0",
         "2",
         "0",
         "0",
         "0",
         "0",
         "0",
         "104",
         "99",
         "0",
         "2",
         "0",
         "2",
         "0",
         "0",
         "0",
         "0",
         "0",
         "0",
         "2",
         "0",
         "2",
         "0",
         "2",
         "12",
         "2",
         "2",
         "2",
         "2",
         "2",
         "2",
         "2",
         "4",
         "4",
         "0",
         "2",
         "0",
         "0",
         "2",
         "2",
         "2",
         "0",
         "158",
         "3",
         "3",
         "0",
         "0",
         "5",
         "0",
         "14",
         "13",
         "3",
         "2",
         "65",
         "10",
         "22",
         "19",
         "9",
         "2",
         "1",
         "19",
         "0",
         "19",
         "0",
         "0",
         "0",
         "31",
         "1",
         "3",
         "12",
         "9",
         "6",
         "4",
         "0",
         "2",
         "1",
         "1",
         "9",
         "2",
         "7",
         "1",
         "386",
         "129",
         "2",
         "4",
         "42",
         "0",
         "0",
         "58",
         "23",
         "11",
         "4",
         "14",
         "46",
         "9",
         "0",
         "0",
         "0",
         "2",
         "0",
         "25",
         "2",
         "9",
         "2",
         "0",
         "0",
         "0",
         "0",
         "5",
         "0",
         "1",
         "1",
         "0",
         "1",
         "0",
         "5",
         "0",
         "0",
         "0",
         "2",
         "0",
         "2",
         "8",
         "8",
         "7",
         "3",
         "2",
         "2",
         "44",
         "40",
         "2",
         "0",
         "0",
         "0",
         "0",
         "0",
         "2",
         "5",
         "2",
         "0",
         "3",
         "0",
         "0",
         "0",
         "0",
         "35",
         "0",
         "0",
         "2",
         "5",
         "0",
         "1",
         "5",
         "0",
         "0",
         "2",
         "0",
         "1",
         "2",
         "1",
         "0",
         "0",
         "0",
         "0",
         "0",
         "4",
         "4",
         "0",
         "0",
         "40",
         "10",
         "12",
         "16",
         "2",
         "0",
         "0",
         "0",
         "0",
         "0",
         "0",
         "2",
         "1",
         "0",
         "1",
         "0",
         "9",
         "0",
         "4",
         "0",
         "1",
         "1",
         "0",
         "0",
         "0",
         "126",
         "0",
         "0",
         "1",
         "2",
         "3",
         "2",
         "1",
         "6",
         "0",
         "1",
         "0",
         "0",
         "0",
         "0",
         "0",
         "0",
         "0",
         "0",
         "10",
         "2",
         "6",
         "22",
         "22",
         "53",
         "20",
         "0",
         "2",
         "0",
         "26",
         "2",
         "0",
         "0",
         "9",
         "9",
         "0",
         "0",
         "0",
         "6",
         "0",
         "6",
         "0",
         "9",
         "0",
         "0",
         "9",
         "0",
         "0",
         "123",
         "121",
         "41",
         "5",
         "1",
         "43",
         "9",
         "10",
         "1",
         "0",
         "0",
         "0",
         "0",
         "0",
         "0",
         "0",
         "0",
         "0",
         "0",
         "9",
         "0",
         "0",
         "4",
         "0",
         "0",
         "0",
         "25",
         "10",
         "9",
         "0",
         "15",
         "15",
         "0",
         "0",
         "0",
         "0",
         "0",
         "1",
         "1",
         "0",
         "12",
         "12",
         "12",
         "0",
         "0",
         "0",
         "0",
         "0",
         "0",
         "0",
         "0",
         "0",
         "25",
         "25",
         "1",
         "0",
         "15",
         "4",
         "4",
         "41",
         "0",
         "0",
         "10",
         "10",
         "12",
         "16",
         "2",
         "7",
         "3",
         "2",
         "0",
         "0",
         "0",
         "0",
         "0",
         "0",
         "0",
         "0",
         "0",
         "0",
         "0",
         "0",
         "0",
         "0",
         "0",
         "0",
         "0",
         "0",
         "34",
         "6",
         "1",
         "6",
         "0",
         "2",
         "0",
         "0",
         "8",
         "8",
         "0",
         "9",
         "0",
         "3",
         "6",
         "0",
         "0",
         "0",
         "13",
         "0",
         "0",
         "13",
         "1",
         "0",
         "0",
         "0",
         "0",
         "4",
         "3",
         "0",
         "0",
         "45",
         "4",
         "0",
         "0",
         "4",
         "0",
         "2",
         "9",
         "9",
         "0",
         "0",
         "0",
         "2",
         "0",
         "2",
         "0",
         "0",
         "0",
         "2",
         "2",
         "2",
         "0",
         "0",
         "0",
         "2",
         "0",
         "0",
         "0",
         "22",
         "7",
         "12",
         "0",
         "0",
         "209",
         "11",
         "1",
         "5",
         "18",
         "7",
         "9",
         "44",
         "4",
         "38",
         "0",
         "0",
         "2",
         "0",
         "0",
         "0",
         "7",
         "1",
         "0",
         "0",
         "0",
         "24",
         "0",
         "1",
         "9",
         "0",
         "2",
         "2",
         "1",
         "6",
         "26",
         "22",
         "2",
         "0",
         "6",
         "6",
         "0",
         "0",
         "0",
         "0",
         "0",
         "9",
         "9",
         "12",
         "12",
         "0",
         "0",
         "0",
         "0",
         "6",
         "6",
         "13",
         "13",
         "2",
         "2",
         "9",
         "0",
         "0",
         "0",
         "0",
         "9",
         "16",
         "0",
         "16",
         "0",
         "0",
         "88",
         "0",
         "0",
         "0",
         "0",
         "0",
         "2",
         "0",
         "0",
         "0",
         "0",
         "29",
         "2",
         "25",
         "0",
         "0",
         "2",
         "2",
         "2",
         "2",
         "0",
         "21",
         "21",
         "30",
         "7",
         "10",
         "2",
         "0",
         "9",
         "0",
         "28",
         "0",
         "0",
         "3",
         "3",
         "0",
         "0",
         "0",
         "25",
         "7",
         "18",
         "1",
         "0",
         "0",
         "0",
         "0",
         "1",
         "1",
         "0",
         "0",
         "0",
         "0",
         "0",
         "0",
         "0",
         "0",
         "0",
         "2"
        ],
        [
         "0x292e89d5d5bdab3af2f5838c194c1983f0140b43",
         "4.655585738612243",
         "6.067507562531411",
         "0.0002799552071668533",
         "0.11702127659574468",
         "0.021836506159014557",
         "0.01707726763717805",
         "0.03303471444568869",
         "0.012318029115341545",
         "0.002799552071668533",
         "0.003079507278835386",
         "0.06103023516237402",
         "0.026035834266517358",
         "0.0008398656215005599",
         "0.01791713325867861",
         "0.0025195968645016797",
         "0.0",
         "0.05375139977603583",
         "0.025195968645016796",
         "0.007838745800671893",
         "0.005879059350503919",
         "0.013997760358342666",
         "0.001959686450167973",
         "0.006998880179171333",
         "0.0008398656215005599",
         "0.018756998880179173",
         "0.009518477043673012",
         "0.0016797312430011197",
         "0.003079507278835386",
         "0.0005599104143337066",
         "0.0008398656215005599",
         "0.0008398656215005599",
         "0.0022396416573348264",
         "0.0022396416573348264",
         "0.005039193729003359",
         "0.0025195968645016797",
         "0.0",
         "0.0013997760358342665",
         "0.0013997760358342665",
         "0.009798432250839866",
         "0.005879059350503919",
         "0.0008398656215005599",
         "0.0016797312430011197",
         "0.005039193729003359",
         "0.0022396416573348264",
         "0.004479283314669653",
         "0.0005599104143337066",
         "0.0002799552071668533",
         "0.002799552071668533",
         "0.002799552071668533",
         "0.0002799552071668533",
         "0.003919372900335946",
         "0.008678611422172453",
         "0.0008398656215005599",
         "0.008958566629339306",
         "0.01931690929451288",
         "0.0008398656215005599",
         "0.0011198208286674132",
         "0.018756998880179173",
         "0.0011198208286674132",
         "0.0002799552071668533",
         "0.0005599104143337066",
         "0.0002799552071668533",
         "0.0002799552071668533",
         "0.0377939529675252",
         "0.0011198208286674132",
         "0.0016797312430011197",
         "0.0013997760358342665",
         "0.0011198208286674132",
         "0.0005599104143337066",
         "0.004759238521836506",
         "0.0008398656215005599",
         "0.0005599104143337066",
         "0.0",
         "0.0",
         "0.0002799552071668533",
         "0.0",
         "0.006438969764837626",
         "0.0002799552071668533",
         "0.0002799552071668533",
         "0.0011198208286674132",
         "0.0005599104143337066",
         "0.0002799552071668533",
         "0.010358342665173572",
         "0.0002799552071668533",
         "0.0008398656215005599",
         "0.0005599104143337066",
         "0.025755879059350503",
         "0.008678611422172453",
         "0.031075027995520716",
         "0.024356103023516238",
         "0.0083986562150056",
         "0.012318029115341545",
         "0.0005599104143337066",
         "0.0013997760358342665",
         "0.0033594624860022394",
         "0.006998880179171333",
         "0.005599104143337066",
         "0.0005599104143337066",
         "0.006718924972004479",
         "0.0002799552071668533",
         "0.0002799552071668533",
         "0.0",
         "0.002799552071668533",
         "0.0002799552071668533",
         "0.004759238521836506",
         "0.0005599104143337066",
         "0.0002799552071668533",
         "0.0",
         "0.008118701007838746",
         "0.0025195968645016797",
         "0.0005599104143337066",
         "0.0008398656215005599",
         "0.0005599104143337066",
         "0.0",
         "0.0008398656215005599",
         "0.007278835386338186",
         "0.0008398656215005599",
         "0.0",
         "0.0005599104143337066",
         "0.0",
         "0.0005599104143337066",
         "0.0",
         "0.006438969764837626",
         "0.0008398656215005599",
         "0.0002799552071668533",
         "0.0005599104143337066",
         "0.0002799552071668533",
         "0.001959686450167973",
         "0.0013997760358342665",
         "0.0008398656215005599",
         "0.0022396416573348264",
         "0.0011198208286674132",
         "0.0011198208286674132",
         "0.0008398656215005599",
         "0.0002799552071668533",
         "0.0002799552071668533",
         "0.0033594624860022394",
         "0.003079507278835386",
         "0.001959686450167973",
         "0.003639417693169093",
         "0.0005599104143337066",
         "0.0016797312430011197",
         "0.0002799552071668533",
         "0.0011198208286674132",
         "0.0011198208286674132",
         "0.0013997760358342665",
         "0.0002799552071668533",
         "0.0011198208286674132",
         "0.0005599104143337066",
         "0.0002799552071668533",
         "0.0002799552071668533",
         "0.0005599104143337066",
         "0.0011198208286674132",
         "0.003079507278835386",
         "0.0",
         "0.0008398656215005599",
         "0.004759238521836506",
         "0.0033594624860022394",
         "0.0002799552071668533",
         "0.0002799552071668533",
         "0.0005599104143337066",
         "0.022116461366181412",
         "0.0008398656215005599",
         "0.001959686450167973",
         "0.0002799552071668533",
         "0.0002799552071668533",
         "0.0005599104143337066",
         "0.0008398656215005599",
         "0.0002799552071668533",
         "0.0002799552071668533",
         "0.0002799552071668533",
         "0.0002799552071668533",
         "0.0013997760358342665",
         "0.0041993281075028",
         "0.0016797312430011197",
         "0.0011198208286674132",
         "0.0",
         "0.0005599104143337066",
         "0.004759238521836506",
         "0.0",
         "0.0",
         "0.0022396416573348264",
         "0.0005599104143337066",
         "0.0002799552071668533",
         "0.0",
         "0.0",
         "0.0011198208286674132",
         "0.0",
         "0.0008398656215005599",
         "0.0013997760358342665",
         "0.0011198208286674132",
         "0.0016797312430011197",
         "0.0005599104143337066",
         "0.0",
         "0.0002799552071668533",
         "0.0002799552071668533",
         "0.0",
         "0.003919372900335946",
         "0.0",
         "0.001959686450167973",
         "0.0002799552071668533",
         "0.0002799552071668533",
         "0.0013997760358342665",
         "0.0008398656215005599",
         "0.0008398656215005599",
         "0.0005599104143337066",
         "0.0005599104143337066",
         "0.0002799552071668533",
         "0.0002799552071668533",
         "0.0005599104143337066",
         "0.008678611422172453",
         "0.008678611422172453",
         "0.011478163493840985",
         "0.0013997760358342665",
         "0.0",
         "0.0013997760358342665",
         "0.0002799552071668533",
         "0.0002799552071668533",
         "0.0002799552071668533",
         "0.0005599104143337066",
         "0.0002799552071668533",
         "0.0011198208286674132",
         "0.0011198208286674132",
         "0.0002799552071668533",
         "0.0002799552071668533",
         "0.005319148936170213",
         "0.0005599104143337066",
         "0.0011198208286674132",
         "0.0013997760358342665",
         "0.001959686450167973",
         "0.0005599104143337066",
         "0.0005599104143337066",
         "0.0008398656215005599",
         "0.0002799552071668533",
         "0.006998880179171333",
         "0.0011198208286674132",
         "0.0005599104143337066",
         "0.0002799552071668533",
         "0.0002799552071668533",
         "0.0002799552071668533",
         "0.0002799552071668533",
         "0.0002799552071668533",
         "0.0005599104143337066",
         "0.0",
         "0.0",
         "0.0",
         "0.0",
         "0.0",
         "0.0",
         "0.0",
         "0.0",
         "0.0",
         "0.0",
         "0.0",
         "0.0",
         "0.0",
         "0.0",
         "0.0",
         "0.0",
         "98",
         "2",
         "0",
         "0",
         "2",
         "0",
         "0",
         "0",
         "0",
         "0",
         "0",
         "1",
         "1",
         "0",
         "1",
         "0",
         "1",
         "42",
         "0",
         "23",
         "0",
         "8",
         "9",
         "0",
         "2",
         "0",
         "2",
         "23",
         "18",
         "1",
         "3",
         "0",
         "7",
         "0",
         "0",
         "4",
         "1",
         "0",
         "2",
         "0",
         "3",
         "1",
         "2",
         "0",
         "0",
         "47",
         "3",
         "3",
         "1",
         "6",
         "0",
         "4",
         "1",
         "0",
         "1",
         "0",
         "0",
         "3",
         "1",
         "0",
         "5",
         "3",
         "0",
         "0",
         "11",
         "2",
         "1",
         "0",
         "8",
         "8",
         "0",
         "8",
         "0",
         "0",
         "0",
         "0",
         "1",
         "0",
         "0",
         "0",
         "6",
         "3",
         "0",
         "0",
         "0",
         "7",
         "2",
         "0",
         "0",
         "0",
         "1",
         "0",
         "10",
         "9",
         "9",
         "0",
         "0",
         "0",
         "11",
         "3",
         "3",
         "1",
         "1",
         "1",
         "1",
         "1",
         "1",
         "0",
         "2",
         "0",
         "2",
         "2",
         "0",
         "0",
         "74",
         "2",
         "0",
         "0",
         "0",
         "0",
         "0",
         "0",
         "0",
         "5",
         "1",
         "0",
         "1",
         "4",
         "0",
         "3",
         "0",
         "2",
         "0",
         "0",
         "3",
         "2",
         "1",
         "0",
         "0",
         "8",
         "2",
         "2",
         "2",
         "0",
         "2",
         "4",
         "1",
         "0",
         "0",
         "0",
         "18",
         "15",
         "3",
         "0",
         "0",
         "19",
         "19",
         "4",
         "3",
         "0",
         "3",
         "3",
         "0",
         "1",
         "87",
         "6",
         "0",
         "2",
         "7",
         "2",
         "3",
         "1",
         "8",
         "3",
         "2",
         "0",
         "1",
         "0",
         "1",
         "2",
         "2",
         "3",
         "2",
         "0",
         "0",
         "6",
         "4",
         "2",
         "0",
         "0",
         "44",
         "1",
         "40",
         "0",
         "2",
         "0",
         "3",
         "3",
         "0",
         "0",
         "0",
         "0",
         "0",
         "0",
         "0",
         "0",
         "2",
         "1",
         "0",
         "0",
         "67",
         "42",
         "0",
         "0",
         "38",
         "0",
         "0",
         "3",
         "2",
         "1",
         "0",
         "2",
         "0",
         "0",
         "1",
         "2",
         "2",
         "1",
         "0",
         "2",
         "2",
         "0",
         "4",
         "1",
         "2",
         "1",
         "4",
         "4",
         "0",
         "0",
         "1",
         "0",
         "30",
         "3",
         "0",
         "7",
         "3",
         "5",
         "1",
         "1",
         "1",
         "3",
         "2",
         "0",
         "0",
         "1",
         "0",
         "1",
         "1",
         "2",
         "2",
         "0",
         "0",
         "3",
         "0",
         "0",
         "25",
         "2",
         "0",
         "2",
         "2",
         "5",
         "1",
         "3",
         "3",
         "2",
         "0",
         "4",
         "4",
         "0",
         "0",
         "2",
         "2",
         "0",
         "15",
         "3",
         "2",
         "4",
         "1",
         "0",
         "1",
         "1",
         "1",
         "0",
         "0",
         "2",
         "2",
         "1",
         "10",
         "2",
         "1",
         "1",
         "3",
         "1",
         "1",
         "0",
         "24",
         "2",
         "2",
         "20",
         "20",
         "0",
         "0",
         "0",
         "0",
         "0",
         "0",
         "0",
         "0",
         "0",
         "0",
         "0",
         "0",
         "0",
         "0",
         "0",
         "0",
         "0",
         "10",
         "6",
         "6",
         "4",
         "4",
         "37",
         "1",
         "1",
         "2",
         "1",
         "5",
         "2",
         "1",
         "25",
         "25",
         "0",
         "0",
         "92",
         "92",
         "0",
         "2",
         "1",
         "0",
         "0",
         "0",
         "8",
         "41",
         "20",
         "0",
         "0",
         "0",
         "1",
         "5",
         "4",
         "1",
         "1",
         "0",
         "124",
         "0",
         "0",
         "5",
         "0",
         "0",
         "3",
         "4",
         "0",
         "2",
         "2",
         "1",
         "0",
         "0",
         "1",
         "1",
         "0",
         "0",
         "10",
         "0",
         "1",
         "1",
         "6",
         "0",
         "51",
         "10",
         "2",
         "2",
         "6",
         "18",
         "4",
         "0",
         "6",
         "0",
         "0",
         "27",
         "1",
         "2",
         "2",
         "2",
         "8",
         "1",
         "1",
         "10",
         "0",
         "0",
         "0",
         "0",
         "0",
         "0",
         "0",
         "1",
         "1",
         "5",
         "5",
         "5",
         "4",
         "1",
         "1",
         "0",
         "1",
         "0",
         "63",
         "14",
         "0",
         "0",
         "14",
         "2",
         "0",
         "2",
         "2",
         "38",
         "18",
         "15",
         "2",
         "5",
         "0",
         "5",
         "0",
         "0",
         "0",
         "0",
         "2",
         "2",
         "2",
         "8",
         "5",
         "5",
         "3",
         "3",
         "31",
         "7",
         "2",
         "0",
         "2",
         "3",
         "0",
         "2",
         "1",
         "1",
         "1",
         "15",
         "15",
         "0",
         "0",
         "0",
         "0",
         "0",
         "0",
         "3",
         "1",
         "0",
         "1",
         "115",
         "2",
         "2",
         "1",
         "1",
         "1",
         "1",
         "0",
         "0",
         "0",
         "0",
         "81",
         "25",
         "4",
         "3",
         "1",
         "38",
         "9",
         "0",
         "0",
         "9",
         "8",
         "2",
         "3",
         "1",
         "0",
         "1",
         "2",
         "3",
         "0",
         "0",
         "0",
         "0",
         "0",
         "1",
         "0",
         "7",
         "3",
         "0",
         "0",
         "0",
         "0",
         "4",
         "3",
         "3",
         "0",
         "64",
         "0",
         "0",
         "0",
         "0",
         "0",
         "0",
         "12",
         "12",
         "0",
         "0",
         "21",
         "9",
         "10",
         "0",
         "2",
         "0",
         "0",
         "11",
         "2",
         "0",
         "1",
         "1",
         "1",
         "7",
         "0",
         "0",
         "4",
         "2",
         "0",
         "0",
         "0",
         "0",
         "0",
         "0",
         "8",
         "5",
         "0",
         "1",
         "413",
         "31",
         "0",
         "0",
         "5",
         "20",
         "0",
         "3",
         "0",
         "8",
         "5",
         "0",
         "33",
         "0",
         "2",
         "4",
         "1",
         "4",
         "0",
         "19",
         "2",
         "12",
         "4",
         "2",
         "1",
         "0",
         "4",
         "0",
         "0",
         "0",
         "44",
         "39",
         "1",
         "2",
         "4",
         "1",
         "2",
         "0",
         "4",
         "2",
         "0",
         "1",
         "0",
         "2",
         "0",
         "3",
         "0",
         "25",
         "5",
         "2",
         "0",
         "15",
         "0",
         "0",
         "0",
         "2",
         "17",
         "2",
         "0",
         "14",
         "2",
         "4",
         "3",
         "0",
         "106",
         "1",
         "23",
         "2",
         "0",
         "0",
         "13",
         "27",
         "0",
         "2",
         "0",
         "31",
         "3",
         "15",
         "0",
         "1",
         "2",
         "10",
         "0",
         "0",
         "0",
         "0",
         "2",
         "1",
         "2",
         "0",
         "0",
         "0",
         "0",
         "58",
         "15",
         "11",
         "27",
         "2",
         "1",
         "9",
         "0",
         "9",
         "0",
         "0",
         "23",
         "15",
         "0",
         "8",
         "0",
         "1",
         "1",
         "0",
         "2",
         "188",
         "9",
         "9",
         "2",
         "0",
         "3",
         "0",
         "3",
         "2",
         "2",
         "4",
         "1",
         "2",
         "4",
         "1",
         "1",
         "1",
         "1",
         "0",
         "0",
         "0",
         "0",
         "69",
         "69",
         "63",
         "14",
         "2",
         "0",
         "2",
         "38",
         "5",
         "0",
         "0",
         "4",
         "0",
         "0",
         "0",
         "1",
         "15",
         "9",
         "6",
         "0",
         "6",
         "0",
         "3",
         "0",
         "5",
         "4",
         "2",
         "0",
         "0",
         "0",
         "0",
         "0",
         "0",
         "0",
         "16",
         "0",
         "0",
         "0",
         "0",
         "0",
         "16",
         "16",
         "0",
         "0",
         "0",
         "12",
         "1",
         "1",
         "8",
         "8",
         "1",
         "2",
         "20",
         "0",
         "0",
         "0",
         "15",
         "15",
         "3",
         "3",
         "2",
         "2",
         "0",
         "3",
         "1",
         "3",
         "1",
         "1",
         "0",
         "1",
         "0",
         "0",
         "0",
         "1",
         "0",
         "0",
         "0",
         "0",
         "22",
         "21",
         "3",
         "2",
         "1",
         "6",
         "5",
         "19",
         "2",
         "2",
         "0",
         "0",
         "0",
         "11",
         "6",
         "2",
         "2",
         "0",
         "3",
         "3",
         "58",
         "15",
         "15",
         "11",
         "9",
         "2",
         "27",
         "6",
         "2",
         "2",
         "10",
         "1",
         "1",
         "1",
         "2",
         "1",
         "25",
         "0",
         "0",
         "18",
         "6",
         "1",
         "9",
         "0",
         "2",
         "2",
         "0",
         "2",
         "2",
         "0",
         "0",
         "7",
         "6",
         "6",
         "7",
         "1",
         "1",
         "0",
         "0",
         "1",
         "0",
         "0",
         "0",
         "2",
         "1",
         "0",
         "0",
         "37",
         "6",
         "3",
         "2",
         "1",
         "0",
         "2",
         "2",
         "0",
         "2",
         "0",
         "0",
         "2",
         "2",
         "0",
         "10",
         "6",
         "1",
         "1",
         "0",
         "0",
         "0",
         "0",
         "0",
         "0",
         "0",
         "6",
         "6",
         "5",
         "1",
         "1",
         "1",
         "1",
         "89",
         "2",
         "2",
         "0",
         "0",
         "0",
         "0",
         "16",
         "0",
         "15",
         "1",
         "2",
         "0",
         "1",
         "7",
         "7",
         "2",
         "2",
         "2",
         "1",
         "1",
         "9",
         "0",
         "2",
         "0",
         "2",
         "1",
         "0",
         "0",
         "3",
         "0",
         "0",
         "0",
         "0",
         "11",
         "0",
         "8",
         "1",
         "2",
         "0",
         "0",
         "0",
         "0",
         "1",
         "1",
         "1",
         "1",
         "11",
         "9",
         "0",
         "0",
         "4",
         "0",
         "0",
         "0",
         "8",
         "0",
         "1",
         "4",
         "0",
         "0",
         "3",
         "2",
         "0",
         "3",
         "1",
         "44",
         "1",
         "4",
         "3",
         "1",
         "1",
         "0",
         "2",
         "1",
         "4",
         "3",
         "6",
         "0",
         "3",
         "1",
         "1",
         "0",
         "0",
         "0",
         "0",
         "0",
         "3",
         "3",
         "14",
         "0",
         "1",
         "0",
         "5",
         "0",
         "6",
         "20",
         "2",
         "0",
         "9",
         "3",
         "5",
         "2",
         "1",
         "1",
         "1",
         "0",
         "12",
         "2",
         "1",
         "4",
         "3",
         "3",
         "3",
         "5",
         "1",
         "2",
         "0",
         "1",
         "0",
         "0",
         "0",
         "0",
         "1"
        ],
        [
         "0x2753dce37a7edb052a77832039bcc9aa49ad8b25",
         "4.622489015370107",
         "6.275985708590439",
         "0.00015845349389954048",
         "0.10584693392489304",
         "0.019489779749643478",
         "0.012517826018063699",
         "0.02978925685311361",
         "0.013468546981460942",
         "0.0039613373474885125",
         "0.0034859768657898907",
         "0.066550467437807",
         "0.018697512280145778",
         "0.0006338139755981619",
         "0.01632070987165267",
         "0.0012676279511963239",
         "0.0017429884328949454",
         "0.04531769925526858",
         "0.025511012517826018",
         "0.013943907463159563",
         "0.0038028838535889716",
         "0.018855965774045316",
         "0.007288860719378862",
         "0.004753604816986215",
         "0.00031690698779908097",
         "0.01695452384725083",
         "0.00966566312787197",
         "0.0023768024084931073",
         "0.00316906987799081",
         "0.0006338139755981619",
         "0.0011091744572967834",
         "0.0006338139755981619",
         "0.0019014419267944858",
         "0.0028521628901917286",
         "0.002693709396292188",
         "0.001584534938995405",
         "0.00047536048169862145",
         "0.0007922674694977025",
         "0.00031690698779908097",
         "0.007130407225479322",
         "0.011884012042465536",
         "0.0006338139755981619",
         "0.0006338139755981619",
         "0.0050705118047852955",
         "0.0009507209633972429",
         "0.004912058310885755",
         "0.0006338139755981619",
         "0.00015845349389954048",
         "0.004912058310885755",
         "0.0020598954206940264",
         "0.00047536048169862145",
         "0.0019014419267944858",
         "0.008081128188876565",
         "0.0007922674694977025",
         "0.007922674694977025",
         "0.021232768182538424",
         "0.0007922674694977025",
         "0.0012676279511963239",
         "0.015686895896054508",
         "0.00015845349389954048",
         "0.0006338139755981619",
         "0.0006338139755981619",
         "0.0011091744572967834",
         "0.0006338139755981619",
         "0.03612739660909523",
         "0.00047536048169862145",
         "0.0009507209633972429",
         "0.003010616384091269",
         "0.0007922674694977025",
         "0.00031690698779908097",
         "0.003010616384091269",
         "0.0012676279511963239",
         "0.00047536048169862145",
         "0.00047536048169862145",
         "0.0009507209633972429",
         "0.00015845349389954048",
         "0.00015845349389954048",
         "0.00633813975598162",
         "0.00031690698779908097",
         "0.00031690698779908097",
         "0.0012676279511963239",
         "0.00047536048169862145",
         "0.0009507209633972429",
         "0.010774837585168753",
         "0.00031690698779908097",
         "0.0017429884328949454",
         "0.00031690698779908097",
         "0.029947710347013153",
         "0.009190302646173348",
         "0.027729361432419584",
         "0.023609570591031533",
         "0.008239581682776106",
         "0.00966566312787197",
         "0.0009507209633972429",
         "0.0025352559023926477",
         "0.0012676279511963239",
         "0.004119790841388053",
         "0.004753604816986215",
         "0.00031690698779908097",
         "0.007288860719378862",
         "0.00015845349389954048",
         "0.0007922674694977025",
         "0.0007922674694977025",
         "0.002693709396292188",
         "0.00031690698779908097",
         "0.002693709396292188",
         "0.0007922674694977025",
         "0.0006338139755981619",
         "0.0007922674694977025",
         "0.001584534938995405",
         "0.001584534938995405",
         "0.00047536048169862145",
         "0.0007922674694977025",
         "0.0007922674694977025",
         "0.00015845349389954048",
         "0.00047536048169862145",
         "0.007288860719378862",
         "0.00015845349389954048",
         "0.002218348914593567",
         "0.0011091744572967834",
         "0.00031690698779908097",
         "0.00031690698779908097",
         "0.0020598954206940264",
         "0.005545872286483917",
         "0.0007922674694977025",
         "0.00031690698779908097",
         "0.0007922674694977025",
         "0.0011091744572967834",
         "0.00031690698779908097",
         "0.0011091744572967834",
         "0.0009507209633972429",
         "0.0033275233718903503",
         "0.0014260814450958643",
         "0.0014260814450958643",
         "0.0012676279511963239",
         "0.00047536048169862145",
         "0.00047536048169862145",
         "0.004119790841388053",
         "0.005228965298684836",
         "0.0019014419267944858",
         "0.0050705118047852955",
         "0.0006338139755981619",
         "0.0009507209633972429",
         "0.0006338139755981619",
         "0.0012676279511963239",
         "0.0007922674694977025",
         "0.00031690698779908097",
         "0.00031690698779908097",
         "0.0007922674694977025",
         "0.0017429884328949454",
         "0.00015845349389954048",
         "0.0007922674694977025",
         "0.0011091744572967834",
         "0.0012676279511963239",
         "0.003644430359689431",
         "0.00047536048169862145",
         "0.0019014419267944858",
         "0.004595151323086674",
         "0.0020598954206940264",
         "0.00031690698779908097",
         "0.00015845349389954048",
         "0.0009507209633972429",
         "0.022500396133734748",
         "0.00047536048169862145",
         "0.007447314213278403",
         "0.0007922674694977025",
         "0.0014260814450958643",
         "0.0009507209633972429",
         "0.00031690698779908097",
         "0.0011091744572967834",
         "0.00031690698779908097",
         "0.0006338139755981619",
         "0.0012676279511963239",
         "0.0007922674694977025",
         "0.002693709396292188",
         "0.0012676279511963239",
         "0.0012676279511963239",
         "0.00015845349389954048",
         "0.0009507209633972429",
         "0.005228965298684836",
         "0.0007922674694977025",
         "0.0012676279511963239",
         "0.0012676279511963239",
         "0.00031690698779908097",
         "0.0017429884328949454",
         "0.00015845349389954048",
         "0.0",
         "0.0012676279511963239",
         "0.00031690698779908097",
         "0.00047536048169862145",
         "0.005862779274282998",
         "0.0033275233718903503",
         "0.0023768024084931073",
         "0.0007922674694977025",
         "0.0006338139755981619",
         "0.00015845349389954048",
         "0.002218348914593567",
         "0.0",
         "0.00316906987799081",
         "0.00047536048169862145",
         "0.0011091744572967834",
         "0.001584534938995405",
         "0.0012676279511963239",
         "0.0011091744572967834",
         "0.0014260814450958643",
         "0.002218348914593567",
         "0.0019014419267944858",
         "0.0011091744572967834",
         "0.00047536048169862145",
         "0.00031690698779908097",
         "0.00047536048169862145",
         "0.006179686262082079",
         "0.007764221201077484",
         "0.010933291079068293",
         "0.0019014419267944858",
         "0.00015845349389954048",
         "0.0014260814450958643",
         "0.00015845349389954048",
         "0.0009507209633972429",
         "0.00015845349389954048",
         "0.00031690698779908097",
         "0.00047536048169862145",
         "0.0007922674694977025",
         "0.0009507209633972429",
         "0.00015845349389954048",
         "0.00015845349389954048",
         "0.004119790841388053",
         "0.0009507209633972429",
         "0.0009507209633972429",
         "0.0007922674694977025",
         "0.00031690698779908097",
         "0.0014260814450958643",
         "0.0007922674694977025",
         "0.00015845349389954048",
         "0.0006338139755981619",
         "0.005862779274282998",
         "0.0012676279511963239",
         "0.00047536048169862145",
         "0.00031690698779908097",
         "0.0007922674694977025",
         "0.00047536048169862145",
         "0.00031690698779908097",
         "0.00031690698779908097",
         "0.0019014419267944858",
         "0.00031690698779908097",
         "0.0007922674694977025",
         "0.00031690698779908097",
         "0.0014260814450958643",
         "0.00047536048169862145",
         "0.00047536048169862145",
         "0.0006338139755981619",
         "0.00047536048169862145",
         "0.00031690698779908097",
         "0.00031690698779908097",
         "0.00031690698779908097",
         "0.00047536048169862145",
         "0.00031690698779908097",
         "0.00031690698779908097",
         "0.00015845349389954048",
         "0.0",
         "153",
         "3",
         "0",
         "0",
         "2",
         "1",
         "0",
         "1",
         "0",
         "0",
         "0",
         "6",
         "2",
         "0",
         "0",
         "0",
         "1",
         "65",
         "0",
         "34",
         "3",
         "16",
         "14",
         "4",
         "2",
         "0",
         "0",
         "39",
         "28",
         "0",
         "10",
         "3",
         "10",
         "0",
         "0",
         "5",
         "1",
         "4",
         "0",
         "0",
         "4",
         "0",
         "1",
         "1",
         "0",
         "76",
         "8",
         "8",
         "4",
         "6",
         "0",
         "3",
         "2",
         "1",
         "1",
         "1",
         "5",
         "1",
         "0",
         "0",
         "4",
         "4",
         "0",
         "0",
         "14",
         "2",
         "2",
         "0",
         "7",
         "11",
         "2",
         "8",
         "0",
         "0",
         "1",
         "1",
         "9",
         "0",
         "0",
         "0",
         "4",
         "0",
         "0",
         "0",
         "0",
         "7",
         "3",
         "0",
         "0",
         "0",
         "1",
         "0",
         "23",
         "21",
         "21",
         "0",
         "0",
         "0",
         "24",
         "8",
         "8",
         "8",
         "1",
         "1",
         "1",
         "0",
         "0",
         "0",
         "4",
         "2",
         "1",
         "0",
         "0",
         "0",
         "118",
         "1",
         "0",
         "0",
         "1",
         "0",
         "0",
         "0",
         "0",
         "5",
         "1",
         "0",
         "3",
         "9",
         "1",
         "7",
         "0",
         "4",
         "0",
         "0",
         "3",
         "3",
         "1",
         "1",
         "0",
         "11",
         "2",
         "0",
         "3",
         "0",
         "4",
         "2",
         "2",
         "0",
         "0",
         "0",
         "40",
         "33",
         "7",
         "0",
         "0",
         "18",
         "18",
         "12",
         "7",
         "3",
         "7",
         "6",
         "0",
         "1",
         "146",
         "3",
         "1",
         "0",
         "10",
         "3",
         "0",
         "1",
         "11",
         "3",
         "5",
         "0",
         "1",
         "2",
         "0",
         "4",
         "3",
         "3",
         "3",
         "1",
         "1",
         "9",
         "5",
         "4",
         "3",
         "3",
         "64",
         "0",
         "60",
         "3",
         "10",
         "0",
         "3",
         "2",
         "0",
         "0",
         "4",
         "1",
         "1",
         "0",
         "0",
         "0",
         "8",
         "7",
         "1",
         "0",
         "128",
         "70",
         "0",
         "0",
         "62",
         "0",
         "2",
         "8",
         "2",
         "3",
         "1",
         "6",
         "5",
         "0",
         "7",
         "3",
         "3",
         "1",
         "1",
         "1",
         "1",
         "1",
         "7",
         "2",
         "2",
         "2",
         "8",
         "8",
         "0",
         "0",
         "4",
         "1",
         "49",
         "0",
         "0",
         "6",
         "2",
         "6",
         "2",
         "5",
         "0",
         "3",
         "3",
         "2",
         "1",
         "2",
         "1",
         "2",
         "0",
         "8",
         "8",
         "0",
         "0",
         "7",
         "1",
         "0",
         "35",
         "6",
         "1",
         "0",
         "1",
         "4",
         "2",
         "1",
         "1",
         "4",
         "3",
         "2",
         "2",
         "0",
         "0",
         "6",
         "3",
         "2",
         "26",
         "3",
         "4",
         "0",
         "1",
         "5",
         "1",
         "4",
         "4",
         "0",
         "0",
         "4",
         "3",
         "1",
         "7",
         "0",
         "0",
         "0",
         "5",
         "1",
         "3",
         "2",
         "47",
         "1",
         "1",
         "44",
         "44",
         "0",
         "0",
         "0",
         "0",
         "0",
         "0",
         "0",
         "3",
         "2",
         "0",
         "0",
         "0",
         "0",
         "0",
         "0",
         "0",
         "0",
         "13",
         "4",
         "4",
         "8",
         "8",
         "33",
         "0",
         "0",
         "1",
         "1",
         "2",
         "1",
         "0",
         "29",
         "29",
         "0",
         "0",
         "186",
         "185",
         "0",
         "5",
         "0",
         "1",
         "0",
         "0",
         "13",
         "71",
         "70",
         "0",
         "0",
         "3",
         "1",
         "4",
         "2",
         "2",
         "1",
         "0",
         "223",
         "0",
         "0",
         "13",
         "1",
         "4",
         "7",
         "2",
         "0",
         "0",
         "2",
         "2",
         "2",
         "0",
         "1",
         "1",
         "0",
         "0",
         "19",
         "0",
         "1",
         "5",
         "6",
         "0",
         "82",
         "11",
         "5",
         "5",
         "11",
         "22",
         "0",
         "0",
         "17",
         "1",
         "1",
         "76",
         "1",
         "10",
         "6",
         "2",
         "19",
         "2",
         "2",
         "29",
         "2",
         "0",
         "0",
         "0",
         "0",
         "3",
         "0",
         "1",
         "1",
         "4",
         "3",
         "3",
         "2",
         "3",
         "2",
         "1",
         "1",
         "0",
         "101",
         "33",
         "0",
         "1",
         "32",
         "2",
         "1",
         "2",
         "0",
         "49",
         "17",
         "27",
         "0",
         "11",
         "0",
         "9",
         "0",
         "0",
         "0",
         "0",
         "4",
         "3",
         "3",
         "13",
         "6",
         "6",
         "6",
         "6",
         "56",
         "7",
         "0",
         "0",
         "1",
         "6",
         "3",
         "5",
         "2",
         "4",
         "2",
         "27",
         "27",
         "0",
         "0",
         "0",
         "0",
         "0",
         "0",
         "4",
         "2",
         "0",
         "1",
         "176",
         "5",
         "1",
         "3",
         "0",
         "1",
         "0",
         "0",
         "0",
         "0",
         "0",
         "117",
         "37",
         "10",
         "1",
         "5",
         "55",
         "8",
         "4",
         "1",
         "17",
         "16",
         "2",
         "6",
         "0",
         "1",
         "2",
         "4",
         "4",
         "1",
         "0",
         "0",
         "0",
         "0",
         "1",
         "1",
         "20",
         "10",
         "3",
         "6",
         "0",
         "0",
         "5",
         "4",
         "3",
         "0",
         "93",
         "0",
         "1",
         "0",
         "0",
         "1",
         "0",
         "20",
         "20",
         "3",
         "1",
         "35",
         "15",
         "15",
         "3",
         "0",
         "1",
         "0",
         "14",
         "0",
         "1",
         "2",
         "1",
         "1",
         "4",
         "0",
         "0",
         "1",
         "3",
         "0",
         "3",
         "1",
         "2",
         "1",
         "1",
         "5",
         "3",
         "0",
         "0",
         "660",
         "53",
         "1",
         "2",
         "6",
         "33",
         "0",
         "4",
         "1",
         "9",
         "3",
         "3",
         "44",
         "0",
         "4",
         "6",
         "1",
         "4",
         "0",
         "18",
         "8",
         "18",
         "0",
         "5",
         "1",
         "1",
         "2",
         "1",
         "1",
         "3",
         "75",
         "63",
         "1",
         "3",
         "5",
         "0",
         "3",
         "1",
         "6",
         "5",
         "0",
         "3",
         "0",
         "0",
         "1",
         "1",
         "1",
         "45",
         "6",
         "4",
         "2",
         "27",
         "0",
         "0",
         "0",
         "4",
         "17",
         "2",
         "0",
         "14",
         "0",
         "10",
         "6",
         "0",
         "171",
         "2",
         "32",
         "1",
         "0",
         "0",
         "10",
         "53",
         "1",
         "4",
         "1",
         "56",
         "7",
         "30",
         "0",
         "1",
         "1",
         "28",
         "0",
         "0",
         "0",
         "0",
         "4",
         "4",
         "1",
         "0",
         "0",
         "0",
         "1",
         "105",
         "29",
         "19",
         "53",
         "0",
         "1",
         "18",
         "0",
         "15",
         "2",
         "0",
         "23",
         "15",
         "0",
         "3",
         "0",
         "3",
         "0",
         "1",
         "0",
         "378",
         "21",
         "21",
         "2",
         "1",
         "13",
         "4",
         "2",
         "10",
         "2",
         "7",
         "3",
         "2",
         "3",
         "1",
         "1",
         "2",
         "0",
         "0",
         "0",
         "0",
         "0",
         "145",
         "145",
         "101",
         "33",
         "2",
         "1",
         "2",
         "49",
         "11",
         "0",
         "0",
         "8",
         "0",
         "0",
         "0",
         "0",
         "38",
         "21",
         "17",
         "0",
         "21",
         "3",
         "13",
         "0",
         "3",
         "1",
         "2",
         "0",
         "0",
         "0",
         "0",
         "0",
         "0",
         "0",
         "29",
         "0",
         "0",
         "0",
         "0",
         "0",
         "29",
         "29",
         "0",
         "0",
         "0",
         "29",
         "1",
         "1",
         "16",
         "16",
         "1",
         "4",
         "47",
         "0",
         "0",
         "0",
         "33",
         "33",
         "7",
         "7",
         "7",
         "7",
         "0",
         "3",
         "2",
         "1",
         "1",
         "1",
         "0",
         "1",
         "0",
         "0",
         "0",
         "0",
         "0",
         "0",
         "0",
         "0",
         "23",
         "23",
         "8",
         "1",
         "3",
         "3",
         "5",
         "27",
         "3",
         "3",
         "0",
         "0",
         "5",
         "8",
         "2",
         "0",
         "4",
         "1",
         "2",
         "1",
         "105",
         "29",
         "27",
         "19",
         "13",
         "4",
         "53",
         "15",
         "6",
         "4",
         "7",
         "0",
         "9",
         "3",
         "0",
         "3",
         "43",
         "3",
         "0",
         "24",
         "7",
         "0",
         "12",
         "0",
         "7",
         "5",
         "0",
         "5",
         "3",
         "0",
         "0",
         "8",
         "7",
         "7",
         "12",
         "2",
         "2",
         "2",
         "1",
         "2",
         "0",
         "0",
         "0",
         "2",
         "1",
         "0",
         "0",
         "73",
         "15",
         "7",
         "0",
         "2",
         "1",
         "1",
         "6",
         "0",
         "6",
         "0",
         "0",
         "4",
         "4",
         "0",
         "7",
         "4",
         "0",
         "9",
         "4",
         "1",
         "0",
         "0",
         "0",
         "2",
         "0",
         "7",
         "7",
         "12",
         "3",
         "1",
         "1",
         "2",
         "157",
         "1",
         "1",
         "0",
         "1",
         "0",
         "0",
         "22",
         "1",
         "16",
         "0",
         "4",
         "1",
         "2",
         "14",
         "13",
         "4",
         "3",
         "2",
         "10",
         "7",
         "11",
         "0",
         "4",
         "0",
         "1",
         "1",
         "1",
         "0",
         "2",
         "11",
         "3",
         "1",
         "5",
         "22",
         "0",
         "18",
         "4",
         "0",
         "0",
         "0",
         "0",
         "0",
         "1",
         "1",
         "1",
         "1",
         "5",
         "4",
         "0",
         "0",
         "9",
         "1",
         "1",
         "1",
         "14",
         "1",
         "2",
         "3",
         "1",
         "2",
         "5",
         "4",
         "0",
         "3",
         "2",
         "59",
         "3",
         "2",
         "0",
         "0",
         "0",
         "1",
         "4",
         "1",
         "3",
         "2",
         "6",
         "1",
         "2",
         "1",
         "2",
         "2",
         "2",
         "1",
         "1",
         "1",
         "6",
         "6",
         "18",
         "0",
         "3",
         "1",
         "3",
         "0",
         "4",
         "27",
         "4",
         "2",
         "7",
         "3",
         "3",
         "5",
         "1",
         "4",
         "2",
         "2",
         "13",
         "3",
         "3",
         "3",
         "2",
         "2",
         "2",
         "8",
         "0",
         "0",
         "0",
         "0",
         "1",
         "0",
         "0",
         "0",
         "1"
        ],
        [
         "0xe1a0ce8b94c6a5e4791401086763d7bd0a6c18f5",
         "4.80880868748557",
         "5.868158905058549",
         "0.00039261876717707107",
         "0.10600706713780919",
         "0.036120926580290535",
         "0.0176678445229682",
         "0.03219473890851983",
         "0.01099332548095799",
         "0.0031409501374165686",
         "0.005496662740478995",
         "0.053396152336081665",
         "0.02237926972909305",
         "0.0",
         "0.016489988221436984",
         "0.005889281507656066",
         "0.0",
         "0.06203376521397723",
         "0.04043973301923832",
         "0.009422850412249705",
         "0.0007852375343541421",
         "0.016489988221436984",
         "0.002355712603062426",
         "0.006281900274833137",
         "0.00039261876717707107",
         "0.03180212014134275",
         "0.004711425206124852",
         "0.00039261876717707107",
         "0.0031409501374165686",
         "0.00039261876717707107",
         "0.001177856301531213",
         "0.0007852375343541421",
         "0.002355712603062426",
         "0.00039261876717707107",
         "0.00039261876717707107",
         "0.0019630938358853552",
         "0.0",
         "0.0015704750687082843",
         "0.00039261876717707107",
         "0.009815469179426776",
         "0.007852375343541421",
         "0.0007852375343541421",
         "0.00039261876717707107",
         "0.0031409501374165686",
         "0.001177856301531213",
         "0.0035335689045936395",
         "0.00039261876717707107",
         "0.00039261876717707107",
         "0.0035335689045936395",
         "0.002355712603062426",
         "0.001177856301531213",
         "0.0035335689045936395",
         "0.00745975657636435",
         "0.0",
         "0.009030231645072634",
         "0.019238319591676482",
         "0.00039261876717707107",
         "0.0007852375343541421",
         "0.026698076168040832",
         "0.0",
         "0.0",
         "0.001177856301531213",
         "0.0",
         "0.0",
         "0.0298390263054574",
         "0.0015704750687082843",
         "0.0015704750687082843",
         "0.001177856301531213",
         "0.001177856301531213",
         "0.001177856301531213",
         "0.008244994110718492",
         "0.00039261876717707107",
         "0.0007852375343541421",
         "0.0",
         "0.00039261876717707107",
         "0.0",
         "0.0",
         "0.0039261876717707105",
         "0.00039261876717707107",
         "0.00039261876717707107",
         "0.00039261876717707107",
         "0.0007852375343541421",
         "0.001177856301531213",
         "0.007852375343541421",
         "0.00039261876717707107",
         "0.0007852375343541421",
         "0.00039261876717707107",
         "0.01845308205732234",
         "0.015312131919905771",
         "0.03965449548488418",
         "0.03729878288182175",
         "0.012956419316843345",
         "0.02120141342756184",
         "0.0007852375343541421",
         "0.0043188064389477815",
         "0.0015704750687082843",
         "0.0015704750687082843",
         "0.007067137809187279",
         "0.0019630938358853552",
         "0.009030231645072634",
         "0.0",
         "0.0007852375343541421",
         "0.001177856301531213",
         "0.002355712603062426",
         "0.0",
         "0.0",
         "0.0007852375343541421",
         "0.0",
         "0.0",
         "0.0",
         "0.0015704750687082843",
         "0.0007852375343541421",
         "0.0007852375343541421",
         "0.001177856301531213",
         "0.0",
         "0.0",
         "0.005496662740478995",
         "0.00039261876717707107",
         "0.0",
         "0.00039261876717707107",
         "0.0",
         "0.0",
         "0.00039261876717707107",
         "0.005889281507656066",
         "0.001177856301531213",
         "0.0",
         "0.0",
         "0.0",
         "0.0",
         "0.00039261876717707107",
         "0.0007852375343541421",
         "0.00039261876717707107",
         "0.00039261876717707107",
         "0.0007852375343541421",
         "0.00039261876717707107",
         "0.00039261876717707107",
         "0.0015704750687082843",
         "0.001177856301531213",
         "0.0015704750687082843",
         "0.001177856301531213",
         "0.0015704750687082843",
         "0.00039261876717707107",
         "0.0007852375343541421",
         "0.00039261876717707107",
         "0.001177856301531213",
         "0.0007852375343541421",
         "0.001177856301531213",
         "0.00039261876717707107",
         "0.00039261876717707107",
         "0.00039261876717707107",
         "0.0007852375343541421",
         "0.0007852375343541421",
         "0.0019630938358853552",
         "0.0007852375343541421",
         "0.0039261876717707105",
         "0.0",
         "0.0007852375343541421",
         "0.002355712603062426",
         "0.00039261876717707107",
         "0.0",
         "0.00039261876717707107",
         "0.00039261876717707107",
         "0.014134275618374558",
         "0.00039261876717707107",
         "0.0019630938358853552",
         "0.00039261876717707107",
         "0.00039261876717707107",
         "0.00039261876717707107",
         "0.001177856301531213",
         "0.00039261876717707107",
         "0.001177856301531213",
         "0.001177856301531213",
         "0.0015704750687082843",
         "0.00039261876717707107",
         "0.006281900274833137",
         "0.0035335689045936395",
         "0.0",
         "0.00039261876717707107",
         "0.0007852375343541421",
         "0.0027483313702394976",
         "0.0",
         "0.0",
         "0.00039261876717707107",
         "0.00039261876717707107",
         "0.0043188064389477815",
         "0.00039261876717707107",
         "0.00039261876717707107",
         "0.0007852375343541421",
         "0.0",
         "0.00039261876717707107",
         "0.0",
         "0.0031409501374165686",
         "0.0031409501374165686",
         "0.00039261876717707107",
         "0.00039261876717707107",
         "0.00039261876717707107",
         "0.0027483313702394976",
         "0.0",
         "0.00039261876717707107",
         "0.0",
         "0.0019630938358853552",
         "0.0007852375343541421",
         "0.0035335689045936395",
         "0.0015704750687082843",
         "0.0007852375343541421",
         "0.0",
         "0.0",
         "0.00039261876717707107",
         "0.00039261876717707107",
         "0.0",
         "0.0",
         "0.007852375343541421",
         "0.006674519042010208",
         "0.013741656851197487",
         "0.0027483313702394976",
         "0.00039261876717707107",
         "0.00039261876717707107",
         "0.0",
         "0.0",
         "0.0",
         "0.0",
         "0.0",
         "0.0",
         "0.0007852375343541421",
         "0.0",
         "0.0",
         "0.0015704750687082843",
         "0.0",
         "0.0",
         "0.001177856301531213",
         "0.0",
         "0.0",
         "0.0007852375343541421",
         "0.00039261876717707107",
         "0.0007852375343541421",
         "0.0039261876717707105",
         "0.001177856301531213",
         "0.0",
         "0.0007852375343541421",
         "0.0",
         "0.0",
         "0.00039261876717707107",
         "0.0",
         "0.00039261876717707107",
         "0.0",
         "0.0",
         "0.0",
         "0.0",
         "0.0",
         "0.0007852375343541421",
         "0.0",
         "0.0",
         "0.0031409501374165686",
         "0.0",
         "0.0",
         "0.00039261876717707107",
         "0.0",
         "0.0",
         "0.00039261876717707107",
         "0.0",
         "78",
         "0",
         "0",
         "0",
         "7",
         "10",
         "5",
         "1",
         "0",
         "4",
         "0",
         "4",
         "7",
         "5",
         "1",
         "0",
         "2",
         "6",
         "0",
         "3",
         "0",
         "1",
         "6",
         "0",
         "3",
         "0",
         "1",
         "5",
         "2",
         "3",
         "0",
         "0",
         "15",
         "2",
         "0",
         "0",
         "0",
         "3",
         "0",
         "2",
         "13",
         "7",
         "2",
         "0",
         "4",
         "40",
         "0",
         "0",
         "3",
         "6",
         "0",
         "6",
         "5",
         "1",
         "4",
         "0",
         "0",
         "0",
         "0",
         "0",
         "2",
         "0",
         "0",
         "0",
         "7",
         "2",
         "0",
         "0",
         "5",
         "6",
         "2",
         "4",
         "0",
         "0",
         "0",
         "0",
         "6",
         "0",
         "0",
         "5",
         "2",
         "0",
         "0",
         "0",
         "0",
         "15",
         "2",
         "5",
         "0",
         "0",
         "1",
         "0",
         "8",
         "0",
         "0",
         "7",
         "0",
         "7",
         "2",
         "0",
         "0",
         "0",
         "1",
         "1",
         "1",
         "7",
         "7",
         "4",
         "6",
         "2",
         "0",
         "0",
         "0",
         "0",
         "91",
         "0",
         "0",
         "0",
         "7",
         "7",
         "5",
         "0",
         "5",
         "4",
         "0",
         "0",
         "1",
         "9",
         "1",
         "2",
         "0",
         "3",
         "0",
         "0",
         "5",
         "5",
         "11",
         "6",
         "1",
         "13",
         "8",
         "3",
         "0",
         "0",
         "0",
         "4",
         "0",
         "4",
         "0",
         "0",
         "12",
         "11",
         "1",
         "0",
         "0",
         "9",
         "9",
         "2",
         "2",
         "0",
         "6",
         "6",
         "0",
         "2",
         "95",
         "8",
         "0",
         "4",
         "4",
         "0",
         "2",
         "6",
         "6",
         "0",
         "3",
         "0",
         "1",
         "0",
         "0",
         "0",
         "0",
         "0",
         "0",
         "0",
         "0",
         "10",
         "10",
         "0",
         "2",
         "1",
         "35",
         "0",
         "29",
         "2",
         "1",
         "0",
         "0",
         "0",
         "0",
         "0",
         "3",
         "1",
         "1",
         "5",
         "5",
         "0",
         "10",
         "3",
         "0",
         "5",
         "48",
         "12",
         "0",
         "0",
         "5",
         "0",
         "2",
         "3",
         "1",
         "2",
         "2",
         "7",
         "2",
         "5",
         "3",
         "0",
         "0",
         "0",
         "0",
         "0",
         "0",
         "0",
         "13",
         "6",
         "2",
         "0",
         "1",
         "1",
         "0",
         "0",
         "4",
         "2",
         "33",
         "6",
         "1",
         "2",
         "0",
         "4",
         "3",
         "4",
         "2",
         "0",
         "0",
         "1",
         "1",
         "2",
         "2",
         "4",
         "0",
         "1",
         "1",
         "0",
         "0",
         "2",
         "0",
         "0",
         "18",
         "2",
         "0",
         "3",
         "0",
         "5",
         "1",
         "3",
         "0",
         "1",
         "0",
         "6",
         "3",
         "0",
         "0",
         "0",
         "0",
         "0",
         "8",
         "1",
         "1",
         "2",
         "0",
         "0",
         "3",
         "0",
         "0",
         "0",
         "0",
         "0",
         "0",
         "1",
         "1",
         "0",
         "0",
         "0",
         "2",
         "0",
         "2",
         "2",
         "11",
         "0",
         "0",
         "11",
         "11",
         "0",
         "0",
         "2",
         "0",
         "0",
         "0",
         "0",
         "0",
         "0",
         "0",
         "0",
         "0",
         "0",
         "0",
         "0",
         "4",
         "4",
         "3",
         "1",
         "1",
         "2",
         "2",
         "20",
         "0",
         "0",
         "0",
         "0",
         "1",
         "0",
         "0",
         "16",
         "16",
         "0",
         "0",
         "47",
         "46",
         "0",
         "1",
         "0",
         "1",
         "4",
         "0",
         "5",
         "24",
         "10",
         "0",
         "0",
         "0",
         "0",
         "0",
         "0",
         "0",
         "0",
         "0",
         "72",
         "0",
         "0",
         "1",
         "0",
         "0",
         "1",
         "1",
         "0",
         "0",
         "1",
         "2",
         "2",
         "4",
         "0",
         "0",
         "0",
         "0",
         "17",
         "0",
         "0",
         "5",
         "9",
         "0",
         "28",
         "7",
         "1",
         "1",
         "0",
         "12",
         "5",
         "0",
         "2",
         "0",
         "0",
         "16",
         "1",
         "0",
         "1",
         "1",
         "1",
         "0",
         "7",
         "4",
         "0",
         "0",
         "0",
         "0",
         "0",
         "0",
         "0",
         "0",
         "0",
         "0",
         "0",
         "0",
         "0",
         "0",
         "0",
         "0",
         "1",
         "0",
         "36",
         "14",
         "2",
         "2",
         "10",
         "2",
         "1",
         "0",
         "0",
         "15",
         "9",
         "5",
         "0",
         "3",
         "1",
         "0",
         "0",
         "0",
         "0",
         "0",
         "2",
         "2",
         "2",
         "13",
         "10",
         "10",
         "3",
         "3",
         "37",
         "9",
         "0",
         "0",
         "3",
         "6",
         "2",
         "6",
         "2",
         "0",
         "0",
         "6",
         "6",
         "1",
         "0",
         "0",
         "0",
         "0",
         "0",
         "5",
         "4",
         "1",
         "4",
         "77",
         "3",
         "3",
         "0",
         "2",
         "3",
         "0",
         "0",
         "0",
         "0",
         "0",
         "46",
         "18",
         "5",
         "10",
         "0",
         "6",
         "2",
         "0",
         "0",
         "1",
         "1",
         "2",
         "5",
         "2",
         "1",
         "0",
         "5",
         "6",
         "2",
         "0",
         "0",
         "0",
         "0",
         "0",
         "0",
         "4",
         "2",
         "0",
         "0",
         "0",
         "0",
         "0",
         "0",
         "0",
         "3",
         "65",
         "1",
         "0",
         "0",
         "0",
         "0",
         "0",
         "6",
         "5",
         "2",
         "2",
         "31",
         "6",
         "15",
         "6",
         "0",
         "4",
         "0",
         "15",
         "0",
         "6",
         "6",
         "0",
         "0",
         "0",
         "0",
         "0",
         "0",
         "0",
         "0",
         "7",
         "1",
         "3",
         "0",
         "0",
         "2",
         "2",
         "0",
         "0",
         "264",
         "45",
         "10",
         "5",
         "4",
         "5",
         "0",
         "6",
         "9",
         "4",
         "0",
         "0",
         "31",
         "7",
         "2",
         "4",
         "7",
         "0",
         "0",
         "9",
         "2",
         "24",
         "2",
         "3",
         "0",
         "7",
         "7",
         "0",
         "1",
         "3",
         "4",
         "3",
         "1",
         "0",
         "2",
         "0",
         "0",
         "0",
         "0",
         "0",
         "0",
         "0",
         "0",
         "0",
         "0",
         "2",
         "2",
         "14",
         "9",
         "0",
         "0",
         "5",
         "0",
         "0",
         "0",
         "0",
         "6",
         "3",
         "0",
         "2",
         "0",
         "2",
         "0",
         "0",
         "57",
         "0",
         "2",
         "0",
         "0",
         "0",
         "2",
         "25",
         "2",
         "0",
         "1",
         "21",
         "2",
         "7",
         "0",
         "0",
         "1",
         "0",
         "0",
         "6",
         "0",
         "0",
         "0",
         "0",
         "2",
         "0",
         "0",
         "1",
         "1",
         "27",
         "6",
         "0",
         "21",
         "0",
         "1",
         "2",
         "0",
         "1",
         "0",
         "0",
         "12",
         "9",
         "0",
         "2",
         "0",
         "10",
         "7",
         "3",
         "1",
         "116",
         "0",
         "0",
         "0",
         "2",
         "1",
         "1",
         "0",
         "0",
         "0",
         "1",
         "1",
         "0",
         "2",
         "1",
         "1",
         "3",
         "3",
         "0",
         "2",
         "0",
         "0",
         "34",
         "34",
         "36",
         "14",
         "2",
         "1",
         "0",
         "15",
         "3",
         "0",
         "0",
         "16",
         "7",
         "0",
         "0",
         "7",
         "16",
         "0",
         "12",
         "4",
         "1",
         "0",
         "0",
         "0",
         "0",
         "0",
         "2",
         "0",
         "0",
         "0",
         "0",
         "0",
         "0",
         "0",
         "6",
         "0",
         "0",
         "0",
         "0",
         "0",
         "6",
         "6",
         "0",
         "0",
         "0",
         "3",
         "0",
         "0",
         "1",
         "1",
         "0",
         "0",
         "12",
         "0",
         "0",
         "0",
         "11",
         "11",
         "1",
         "1",
         "0",
         "0",
         "0",
         "2",
         "3",
         "2",
         "4",
         "4",
         "0",
         "4",
         "0",
         "0",
         "0",
         "0",
         "0",
         "0",
         "0",
         "0",
         "15",
         "15",
         "0",
         "0",
         "9",
         "3",
         "2",
         "20",
         "0",
         "0",
         "0",
         "0",
         "0",
         "7",
         "0",
         "1",
         "3",
         "2",
         "2",
         "2",
         "27",
         "6",
         "6",
         "0",
         "0",
         "0",
         "21",
         "3",
         "6",
         "2",
         "2",
         "0",
         "0",
         "2",
         "0",
         "1",
         "14",
         "1",
         "0",
         "3",
         "1",
         "0",
         "0",
         "0",
         "1",
         "1",
         "0",
         "4",
         "3",
         "0",
         "1",
         "0",
         "0",
         "0",
         "3",
         "0",
         "0",
         "0",
         "0",
         "0",
         "0",
         "0",
         "0",
         "0",
         "0",
         "0",
         "0",
         "54",
         "3",
         "0",
         "1",
         "1",
         "1",
         "5",
         "6",
         "0",
         "0",
         "0",
         "0",
         "7",
         "2",
         "5",
         "2",
         "2",
         "0",
         "2",
         "2",
         "12",
         "4",
         "7",
         "0",
         "2",
         "0",
         "0",
         "0",
         "10",
         "0",
         "1",
         "5",
         "1",
         "103",
         "2",
         "0",
         "0",
         "2",
         "0",
         "0",
         "17",
         "2",
         "7",
         "4",
         "1",
         "1",
         "1",
         "7",
         "7",
         "2",
         "2",
         "2",
         "3",
         "3",
         "3",
         "0",
         "0",
         "0",
         "0",
         "0",
         "3",
         "0",
         "0",
         "11",
         "8",
         "1",
         "0",
         "5",
         "0",
         "4",
         "0",
         "0",
         "0",
         "0",
         "0",
         "0",
         "4",
         "4",
         "6",
         "6",
         "6",
         "4",
         "0",
         "0",
         "1",
         "0",
         "8",
         "5",
         "6",
         "1",
         "1",
         "2",
         "0",
         "0",
         "5",
         "1",
         "0",
         "3",
         "4",
         "54",
         "1",
         "1",
         "0",
         "7",
         "7",
         "0",
         "7",
         "3",
         "2",
         "0",
         "8",
         "2",
         "5",
         "0",
         "0",
         "4",
         "3",
         "2",
         "2",
         "0",
         "6",
         "6",
         "6",
         "0",
         "0",
         "1",
         "3",
         "0",
         "2",
         "18",
         "1",
         "4",
         "4",
         "4",
         "0",
         "3",
         "0",
         "2",
         "1",
         "0",
         "14",
         "0",
         "0",
         "6",
         "3",
         "3",
         "2",
         "9",
         "0",
         "2",
         "0",
         "0",
         "0",
         "0",
         "0",
         "0",
         "1"
        ],
        [
         "0x9db8a10c7fe60d84397860b3af2e686d4f90c2b7",
         "4.810756388284446",
         "6.0761656535725495",
         "0.00013482540110556829",
         "0.10988270190103816",
         "0.03343669947418094",
         "0.01644869893487933",
         "0.03451530268302548",
         "0.008494000269650802",
         "0.0028313334232169343",
         "0.006876095456383983",
         "0.0471888903869489",
         "0.01968450856141297",
         "0.00040447620331670486",
         "0.014021841714979102",
         "0.00471888903869489",
         "0.00026965080221113657",
         "0.05730079546986652",
         "0.04193069974383174",
         "0.010786032088445464",
         "0.014830794121612511",
         "0.021167587973574223",
         "0.003640285829850344",
         "0.006201968450856141",
         "0.0006741270055278415",
         "0.02453822300121343",
         "0.0066064446541728465",
         "0.000943777807738978",
         "0.001483079412161251",
         "0.000943777807738978",
         "0.0008089524066334097",
         "0.0008089524066334097",
         "0.0017527302143723878",
         "0.0017527302143723878",
         "0.001483079412161251",
         "0.0012134286099501146",
         "0.0006741270055278415",
         "0.0008089524066334097",
         "0.00013482540110556829",
         "0.007010920857489551",
         "0.006201968450856141",
         "0.0005393016044222731",
         "0.00013482540110556829",
         "0.003370635027639207",
         "0.001348254011055683",
         "0.004584063637589322",
         "0.003235809626533639",
         "0.0005393016044222731",
         "0.002966158824322502",
         "0.0024268572199002292",
         "0.0",
         "0.0020223810165835242",
         "0.007415397060806256",
         "0.0005393016044222731",
         "0.011325333692867737",
         "0.017122825940407174",
         "0.00026965080221113657",
         "0.0006741270055278415",
         "0.023324794391263313",
         "0.00013482540110556829",
         "0.00013482540110556829",
         "0.0008089524066334097",
         "0.0008089524066334097",
         "0.0005393016044222731",
         "0.026965080221113658",
         "0.0020223810165835242",
         "0.00040447620331670486",
         "0.0008089524066334097",
         "0.0010786032088445463",
         "0.0006741270055278415",
         "0.002292031818794661",
         "0.0010786032088445463",
         "0.00026965080221113657",
         "0.0005393016044222731",
         "0.00026965080221113657",
         "0.0006741270055278415",
         "0.0005393016044222731",
         "0.004314412835378185",
         "0.00026965080221113657",
         "0.0008089524066334097",
         "0.000943777807738978",
         "0.0010786032088445463",
         "0.0006741270055278415",
         "0.007685047863017392",
         "0.0008089524066334097",
         "0.0008089524066334097",
         "0.00026965080221113657",
         "0.01806660374814615",
         "0.01496561952271808",
         "0.035998382095186736",
         "0.034110826479708777",
         "0.012269111500606715",
         "0.019145206956990696",
         "0.0012134286099501146",
         "0.0016179048132668194",
         "0.0016179048132668194",
         "0.004314412835378185",
         "0.007280571659700688",
         "0.0012134286099501146",
         "0.004449238236483754",
         "0.00026965080221113657",
         "0.00040447620331670486",
         "0.00026965080221113657",
         "0.003235809626533639",
         "0.00013482540110556829",
         "0.0012134286099501146",
         "0.0008089524066334097",
         "0.00040447620331670486",
         "0.00026965080221113657",
         "0.0017527302143723878",
         "0.0017527302143723878",
         "0.000943777807738978",
         "0.000943777807738978",
         "0.00040447620331670486",
         "0.00040447620331670486",
         "0.0005393016044222731",
         "0.008224349467439666",
         "0.0010786032088445463",
         "0.00040447620331670486",
         "0.00040447620331670486",
         "0.00013482540110556829",
         "0.0006741270055278415",
         "0.0010786032088445463",
         "0.0055278414453283",
         "0.001348254011055683",
         "0.00040447620331670486",
         "0.00026965080221113657",
         "0.0",
         "0.0008089524066334097",
         "0.00040447620331670486",
         "0.0012134286099501146",
         "0.000943777807738978",
         "0.0006741270055278415",
         "0.0010786032088445463",
         "0.0006741270055278415",
         "0.00040447620331670486",
         "0.0005393016044222731",
         "0.003235809626533639",
         "0.0006741270055278415",
         "0.0020223810165835242",
         "0.002696508022111366",
         "0.00013482540110556829",
         "0.00040447620331670486",
         "0.0006741270055278415",
         "0.0005393016044222731",
         "0.0006741270055278415",
         "0.00040447620331670486",
         "0.00040447620331670486",
         "0.00026965080221113657",
         "0.00013482540110556829",
         "0.0005393016044222731",
         "0.0005393016044222731",
         "0.001348254011055683",
         "0.0016179048132668194",
         "0.003640285829850344",
         "0.0008089524066334097",
         "0.0017527302143723878",
         "0.0028313334232169343",
         "0.0028313334232169343",
         "0.0006741270055278415",
         "0.00013482540110556829",
         "0.0010786032088445463",
         "0.017527302143723878",
         "0.0005393016044222731",
         "0.003640285829850344",
         "0.0006741270055278415",
         "0.000943777807738978",
         "0.0008089524066334097",
         "0.00040447620331670486",
         "0.0008089524066334097",
         "0.001483079412161251",
         "0.0005393016044222731",
         "0.0008089524066334097",
         "0.0008089524066334097",
         "0.004584063637589322",
         "0.0024268572199002292",
         "0.0008089524066334097",
         "0.00026965080221113657",
         "0.0005393016044222731",
         "0.0031009842254280705",
         "0.00013482540110556829",
         "0.00013482540110556829",
         "0.0005393016044222731",
         "0.0005393016044222731",
         "0.001483079412161251",
         "0.0008089524066334097",
         "0.00040447620331670486",
         "0.00026965080221113657",
         "0.00013482540110556829",
         "0.0008089524066334097",
         "0.001887555615477956",
         "0.0039099366320614806",
         "0.0006741270055278415",
         "0.00026965080221113657",
         "0.00013482540110556829",
         "0.0",
         "0.0017527302143723878",
         "0.00013482540110556829",
         "0.001348254011055683",
         "0.002292031818794661",
         "0.0010786032088445463",
         "0.0006741270055278415",
         "0.003235809626533639",
         "0.001348254011055683",
         "0.001483079412161251",
         "0.0028313334232169343",
         "0.00026965080221113657",
         "0.0005393016044222731",
         "0.001483079412161251",
         "0.00040447620331670486",
         "0.00040447620331670486",
         "0.005932317648645004",
         "0.005932317648645004",
         "0.011325333692867737",
         "0.0016179048132668194",
         "0.00013482540110556829",
         "0.0012134286099501146",
         "0.00013482540110556829",
         "0.0008089524066334097",
         "0.00013482540110556829",
         "0.00026965080221113657",
         "0.0005393016044222731",
         "0.00013482540110556829",
         "0.001348254011055683",
         "0.0005393016044222731",
         "0.00026965080221113657",
         "0.001483079412161251",
         "0.00013482540110556829",
         "0.00026965080221113657",
         "0.000943777807738978",
         "0.0010786032088445463",
         "0.00013482540110556829",
         "0.00013482540110556829",
         "0.00026965080221113657",
         "0.001348254011055683",
         "0.004449238236483754",
         "0.0012134286099501146",
         "0.001348254011055683",
         "0.00013482540110556829",
         "0.00026965080221113657",
         "0.00026965080221113657",
         "0.00026965080221113657",
         "0.00026965080221113657",
         "0.00013482540110556829",
         "0.00026965080221113657",
         "0.0",
         "0.0005393016044222731",
         "0.0",
         "0.00013482540110556829",
         "0.00013482540110556829",
         "0.00013482540110556829",
         "0.00026965080221113657",
         "0.0",
         "0.00013482540110556829",
         "0.0006741270055278415",
         "0.0010786032088445463",
         "0.00040447620331670486",
         "0.0006741270055278415",
         "0.00040447620331670486",
         "0.0",
         "206",
         "0",
         "4",
         "0",
         "15",
         "24",
         "11",
         "1",
         "0",
         "10",
         "0",
         "14",
         "18",
         "11",
         "2",
         "1",
         "5",
         "24",
         "0",
         "10",
         "3",
         "2",
         "9",
         "0",
         "6",
         "0",
         "1",
         "8",
         "3",
         "5",
         "0",
         "7",
         "32",
         "3",
         "0",
         "0",
         "0",
         "3",
         "0",
         "3",
         "25",
         "13",
         "8",
         "1",
         "7",
         "143",
         "0",
         "0",
         "6",
         "8",
         "1",
         "6",
         "9",
         "1",
         "8",
         "7",
         "4",
         "6",
         "1",
         "4",
         "4",
         "2",
         "0",
         "0",
         "33",
         "5",
         "1",
         "0",
         "26",
         "18",
         "9",
         "8",
         "0",
         "0",
         "0",
         "1",
         "20",
         "0",
         "0",
         "10",
         "11",
         "5",
         "0",
         "0",
         "0",
         "35",
         "9",
         "10",
         "0",
         "0",
         "4",
         "3",
         "20",
         "0",
         "0",
         "19",
         "0",
         "19",
         "4",
         "0",
         "0",
         "0",
         "1",
         "1",
         "1",
         "19",
         "14",
         "10",
         "7",
         "2",
         "0",
         "0",
         "0",
         "0",
         "243",
         "1",
         "0",
         "0",
         "19",
         "19",
         "11",
         "0",
         "11",
         "11",
         "4",
         "0",
         "3",
         "25",
         "1",
         "13",
         "0",
         "9",
         "0",
         "0",
         "8",
         "8",
         "33",
         "12",
         "4",
         "25",
         "17",
         "6",
         "0",
         "0",
         "0",
         "12",
         "2",
         "10",
         "0",
         "0",
         "35",
         "28",
         "7",
         "1",
         "1",
         "21",
         "21",
         "11",
         "9",
         "0",
         "12",
         "12",
         "5",
         "5",
         "253",
         "15",
         "0",
         "5",
         "16",
         "4",
         "6",
         "9",
         "10",
         "0",
         "6",
         "0",
         "1",
         "0",
         "0",
         "0",
         "0",
         "1",
         "0",
         "4",
         "4",
         "22",
         "22",
         "0",
         "10",
         "1",
         "104",
         "1",
         "92",
         "3",
         "3",
         "0",
         "3",
         "1",
         "0",
         "0",
         "10",
         "1",
         "1",
         "12",
         "11",
         "0",
         "23",
         "5",
         "0",
         "15",
         "125",
         "36",
         "0",
         "0",
         "18",
         "1",
         "2",
         "10",
         "3",
         "4",
         "2",
         "14",
         "3",
         "11",
         "6",
         "1",
         "0",
         "2",
         "0",
         "0",
         "0",
         "0",
         "28",
         "15",
         "2",
         "0",
         "7",
         "7",
         "0",
         "0",
         "10",
         "4",
         "85",
         "13",
         "1",
         "10",
         "7",
         "4",
         "3",
         "4",
         "4",
         "0",
         "0",
         "1",
         "1",
         "8",
         "2",
         "7",
         "1",
         "3",
         "3",
         "0",
         "0",
         "13",
         "0",
         "0",
         "52",
         "11",
         "3",
         "8",
         "1",
         "9",
         "3",
         "5",
         "0",
         "7",
         "0",
         "9",
         "6",
         "0",
         "0",
         "1",
         "0",
         "1",
         "31",
         "6",
         "8",
         "4",
         "0",
         "0",
         "3",
         "2",
         "2",
         "0",
         "0",
         "1",
         "0",
         "1",
         "18",
         "5",
         "0",
         "0",
         "12",
         "5",
         "3",
         "4",
         "36",
         "2",
         "1",
         "33",
         "33",
         "0",
         "0",
         "2",
         "0",
         "0",
         "0",
         "0",
         "1",
         "0",
         "0",
         "1",
         "0",
         "0",
         "1",
         "1",
         "11",
         "8",
         "14",
         "4",
         "4",
         "8",
         "8",
         "48",
         "2",
         "2",
         "0",
         "0",
         "1",
         "0",
         "0",
         "41",
         "41",
         "0",
         "0",
         "130",
         "129",
         "0",
         "9",
         "1",
         "1",
         "4",
         "0",
         "14",
         "63",
         "27",
         "0",
         "0",
         "2",
         "1",
         "4",
         "0",
         "0",
         "0",
         "0",
         "194",
         "0",
         "0",
         "9",
         "0",
         "0",
         "7",
         "3",
         "0",
         "0",
         "1",
         "3",
         "2",
         "4",
         "2",
         "2",
         "0",
         "0",
         "41",
         "0",
         "1",
         "12",
         "15",
         "0",
         "75",
         "16",
         "2",
         "2",
         "0",
         "34",
         "9",
         "0",
         "8",
         "0",
         "0",
         "42",
         "4",
         "1",
         "0",
         "1",
         "1",
         "0",
         "19",
         "13",
         "0",
         "0",
         "0",
         "0",
         "0",
         "2",
         "0",
         "1",
         "1",
         "6",
         "6",
         "0",
         "0",
         "1",
         "0",
         "1",
         "1",
         "0",
         "100",
         "31",
         "2",
         "2",
         "27",
         "4",
         "1",
         "2",
         "2",
         "51",
         "26",
         "12",
         "5",
         "9",
         "7",
         "0",
         "1",
         "1",
         "0",
         "0",
         "6",
         "4",
         "4",
         "29",
         "23",
         "23",
         "6",
         "6",
         "107",
         "24",
         "2",
         "1",
         "6",
         "12",
         "2",
         "19",
         "6",
         "0",
         "0",
         "18",
         "18",
         "1",
         "0",
         "3",
         "0",
         "0",
         "0",
         "16",
         "11",
         "2",
         "11",
         "248",
         "11",
         "6",
         "4",
         "3",
         "6",
         "1",
         "0",
         "0",
         "0",
         "0",
         "152",
         "34",
         "24",
         "18",
         "9",
         "42",
         "14",
         "9",
         "0",
         "2",
         "2",
         "4",
         "28",
         "8",
         "1",
         "7",
         "5",
         "6",
         "2",
         "0",
         "0",
         "0",
         "0",
         "0",
         "0",
         "18",
         "5",
         "1",
         "1",
         "0",
         "0",
         "4",
         "3",
         "2",
         "5",
         "163",
         "2",
         "0",
         "0",
         "0",
         "0",
         "0",
         "17",
         "17",
         "5",
         "4",
         "68",
         "15",
         "29",
         "14",
         "3",
         "4",
         "1",
         "34",
         "0",
         "13",
         "13",
         "2",
         "0",
         "9",
         "0",
         "0",
         "6",
         "0",
         "0",
         "9",
         "2",
         "3",
         "1",
         "0",
         "3",
         "2",
         "1",
         "1",
         "801",
         "96",
         "22",
         "12",
         "7",
         "8",
         "5",
         "14",
         "15",
         "4",
         "0",
         "0",
         "94",
         "19",
         "5",
         "16",
         "24",
         "0",
         "1",
         "21",
         "6",
         "56",
         "7",
         "5",
         "1",
         "19",
         "16",
         "0",
         "6",
         "0",
         "24",
         "21",
         "2",
         "0",
         "6",
         "3",
         "0",
         "0",
         "5",
         "3",
         "0",
         "0",
         "0",
         "0",
         "0",
         "3",
         "2",
         "33",
         "18",
         "3",
         "0",
         "12",
         "0",
         "0",
         "0",
         "0",
         "26",
         "6",
         "0",
         "19",
         "0",
         "12",
         "0",
         "0",
         "210",
         "0",
         "10",
         "0",
         "0",
         "0",
         "19",
         "82",
         "2",
         "0",
         "1",
         "78",
         "15",
         "20",
         "2",
         "5",
         "1",
         "3",
         "0",
         "8",
         "0",
         "0",
         "1",
         "1",
         "2",
         "0",
         "0",
         "1",
         "1",
         "97",
         "18",
         "0",
         "78",
         "0",
         "1",
         "9",
         "0",
         "6",
         "2",
         "2",
         "60",
         "45",
         "0",
         "10",
         "0",
         "23",
         "15",
         "4",
         "2",
         "312",
         "0",
         "0",
         "2",
         "5",
         "4",
         "2",
         "1",
         "4",
         "0",
         "6",
         "1",
         "0",
         "5",
         "1",
         "2",
         "6",
         "3",
         "4",
         "2",
         "0",
         "0",
         "94",
         "94",
         "100",
         "31",
         "4",
         "1",
         "2",
         "51",
         "9",
         "1",
         "0",
         "37",
         "19",
         "0",
         "0",
         "15",
         "31",
         "0",
         "26",
         "5",
         "4",
         "0",
         "0",
         "0",
         "0",
         "0",
         "4",
         "0",
         "0",
         "0",
         "0",
         "0",
         "0",
         "0",
         "20",
         "0",
         "0",
         "0",
         "0",
         "0",
         "18",
         "18",
         "0",
         "0",
         "0",
         "15",
         "3",
         "1",
         "3",
         "2",
         "1",
         "3",
         "62",
         "13",
         "0",
         "0",
         "28",
         "28",
         "7",
         "7",
         "6",
         "0",
         "4",
         "5",
         "4",
         "2",
         "7",
         "7",
         "0",
         "7",
         "2",
         "1",
         "1",
         "2",
         "2",
         "1",
         "0",
         "1",
         "39",
         "39",
         "0",
         "0",
         "22",
         "9",
         "7",
         "75",
         "4",
         "4",
         "1",
         "0",
         "8",
         "21",
         "0",
         "3",
         "4",
         "3",
         "2",
         "2",
         "97",
         "18",
         "18",
         "0",
         "0",
         "0",
         "78",
         "13",
         "13",
         "7",
         "8",
         "4",
         "3",
         "9",
         "0",
         "1",
         "52",
         "2",
         "1",
         "15",
         "1",
         "2",
         "8",
         "0",
         "5",
         "4",
         "0",
         "8",
         "3",
         "1",
         "1",
         "0",
         "0",
         "0",
         "15",
         "2",
         "2",
         "0",
         "0",
         "3",
         "1",
         "1",
         "1",
         "3",
         "1",
         "0",
         "0",
         "152",
         "13",
         "0",
         "1",
         "1",
         "7",
         "8",
         "13",
         "0",
         "4",
         "0",
         "0",
         "18",
         "7",
         "11",
         "8",
         "8",
         "4",
         "5",
         "5",
         "32",
         "12",
         "19",
         "0",
         "3",
         "0",
         "0",
         "0",
         "28",
         "0",
         "1",
         "11",
         "7",
         "310",
         "2",
         "0",
         "0",
         "3",
         "0",
         "0",
         "70",
         "2",
         "44",
         "12",
         "6",
         "3",
         "2",
         "12",
         "11",
         "5",
         "4",
         "9",
         "15",
         "5",
         "11",
         "0",
         "1",
         "0",
         "3",
         "3",
         "4",
         "0",
         "0",
         "20",
         "13",
         "1",
         "1",
         "7",
         "0",
         "5",
         "0",
         "0",
         "0",
         "0",
         "0",
         "0",
         "7",
         "7",
         "17",
         "17",
         "22",
         "11",
         "0",
         "0",
         "5",
         "0",
         "20",
         "13",
         "34",
         "8",
         "5",
         "13",
         "2",
         "0",
         "13",
         "5",
         "0",
         "7",
         "8",
         "140",
         "8",
         "10",
         "5",
         "15",
         "14",
         "0",
         "10",
         "5",
         "17",
         "1",
         "20",
         "2",
         "17",
         "0",
         "0",
         "5",
         "3",
         "2",
         "2",
         "2",
         "12",
         "12",
         "17",
         "0",
         "1",
         "1",
         "4",
         "0",
         "8",
         "52",
         "7",
         "8",
         "5",
         "4",
         "0",
         "7",
         "1",
         "4",
         "3",
         "0",
         "29",
         "2",
         "1",
         "9",
         "4",
         "5",
         "2",
         "17",
         "1",
         "6",
         "2",
         "5",
         "0",
         "0",
         "0",
         "0",
         "1"
        ]
       ],
       "shape": {
        "columns": 1259,
        "rows": 5
       }
      },
      "text/html": [
       "<div>\n",
       "<style scoped>\n",
       "    .dataframe tbody tr th:only-of-type {\n",
       "        vertical-align: middle;\n",
       "    }\n",
       "\n",
       "    .dataframe tbody tr th {\n",
       "        vertical-align: top;\n",
       "    }\n",
       "\n",
       "    .dataframe thead th {\n",
       "        text-align: right;\n",
       "    }\n",
       "</style>\n",
       "<table border=\"1\" class=\"dataframe\">\n",
       "  <thead>\n",
       "    <tr style=\"text-align: right;\">\n",
       "      <th></th>\n",
       "      <th>opcode_entropy</th>\n",
       "      <th>byte_entropy</th>\n",
       "      <th>byte_0x</th>\n",
       "      <th>byte_60</th>\n",
       "      <th>byte_80</th>\n",
       "      <th>byte_40</th>\n",
       "      <th>byte_52</th>\n",
       "      <th>byte_04</th>\n",
       "      <th>byte_36</th>\n",
       "      <th>byte_10</th>\n",
       "      <th>...</th>\n",
       "      <th>swap5</th>\n",
       "      <th>swap5 pop</th>\n",
       "      <th>swap6</th>\n",
       "      <th>swap7</th>\n",
       "      <th>timestamp</th>\n",
       "      <th>unknown_0x5f</th>\n",
       "      <th>unknown_0x5f dup1</th>\n",
       "      <th>unknown_0x5f dup1 revert</th>\n",
       "      <th>unknown_0x5f swap1</th>\n",
       "      <th>unknown_0xfe</th>\n",
       "    </tr>\n",
       "    <tr>\n",
       "      <th>Address</th>\n",
       "      <th></th>\n",
       "      <th></th>\n",
       "      <th></th>\n",
       "      <th></th>\n",
       "      <th></th>\n",
       "      <th></th>\n",
       "      <th></th>\n",
       "      <th></th>\n",
       "      <th></th>\n",
       "      <th></th>\n",
       "      <th></th>\n",
       "      <th></th>\n",
       "      <th></th>\n",
       "      <th></th>\n",
       "      <th></th>\n",
       "      <th></th>\n",
       "      <th></th>\n",
       "      <th></th>\n",
       "      <th></th>\n",
       "      <th></th>\n",
       "      <th></th>\n",
       "    </tr>\n",
       "  </thead>\n",
       "  <tbody>\n",
       "    <tr>\n",
       "      <th>0x8275ebf521dc217aa79c88132017a5bcef001dd9</th>\n",
       "      <td>4.676922</td>\n",
       "      <td>4.331572</td>\n",
       "      <td>0.000160</td>\n",
       "      <td>0.061938</td>\n",
       "      <td>0.028081</td>\n",
       "      <td>0.007542</td>\n",
       "      <td>0.018453</td>\n",
       "      <td>0.005777</td>\n",
       "      <td>0.001605</td>\n",
       "      <td>0.002246</td>\n",
       "      <td>...</td>\n",
       "      <td>0</td>\n",
       "      <td>0</td>\n",
       "      <td>0</td>\n",
       "      <td>0</td>\n",
       "      <td>0</td>\n",
       "      <td>0</td>\n",
       "      <td>0</td>\n",
       "      <td>0</td>\n",
       "      <td>0</td>\n",
       "      <td>2</td>\n",
       "    </tr>\n",
       "    <tr>\n",
       "      <th>0x292e89d5d5bdab3af2f5838c194c1983f0140b43</th>\n",
       "      <td>4.655586</td>\n",
       "      <td>6.067508</td>\n",
       "      <td>0.000280</td>\n",
       "      <td>0.117021</td>\n",
       "      <td>0.021837</td>\n",
       "      <td>0.017077</td>\n",
       "      <td>0.033035</td>\n",
       "      <td>0.012318</td>\n",
       "      <td>0.002800</td>\n",
       "      <td>0.003080</td>\n",
       "      <td>...</td>\n",
       "      <td>5</td>\n",
       "      <td>1</td>\n",
       "      <td>2</td>\n",
       "      <td>0</td>\n",
       "      <td>1</td>\n",
       "      <td>0</td>\n",
       "      <td>0</td>\n",
       "      <td>0</td>\n",
       "      <td>0</td>\n",
       "      <td>1</td>\n",
       "    </tr>\n",
       "    <tr>\n",
       "      <th>0x2753dce37a7edb052a77832039bcc9aa49ad8b25</th>\n",
       "      <td>4.622489</td>\n",
       "      <td>6.275986</td>\n",
       "      <td>0.000158</td>\n",
       "      <td>0.105847</td>\n",
       "      <td>0.019490</td>\n",
       "      <td>0.012518</td>\n",
       "      <td>0.029789</td>\n",
       "      <td>0.013469</td>\n",
       "      <td>0.003961</td>\n",
       "      <td>0.003486</td>\n",
       "      <td>...</td>\n",
       "      <td>8</td>\n",
       "      <td>0</td>\n",
       "      <td>0</td>\n",
       "      <td>0</td>\n",
       "      <td>0</td>\n",
       "      <td>1</td>\n",
       "      <td>0</td>\n",
       "      <td>0</td>\n",
       "      <td>0</td>\n",
       "      <td>1</td>\n",
       "    </tr>\n",
       "    <tr>\n",
       "      <th>0xe1a0ce8b94c6a5e4791401086763d7bd0a6c18f5</th>\n",
       "      <td>4.808809</td>\n",
       "      <td>5.868159</td>\n",
       "      <td>0.000393</td>\n",
       "      <td>0.106007</td>\n",
       "      <td>0.036121</td>\n",
       "      <td>0.017668</td>\n",
       "      <td>0.032195</td>\n",
       "      <td>0.010993</td>\n",
       "      <td>0.003141</td>\n",
       "      <td>0.005497</td>\n",
       "      <td>...</td>\n",
       "      <td>9</td>\n",
       "      <td>0</td>\n",
       "      <td>2</td>\n",
       "      <td>0</td>\n",
       "      <td>0</td>\n",
       "      <td>0</td>\n",
       "      <td>0</td>\n",
       "      <td>0</td>\n",
       "      <td>0</td>\n",
       "      <td>1</td>\n",
       "    </tr>\n",
       "    <tr>\n",
       "      <th>0x9db8a10c7fe60d84397860b3af2e686d4f90c2b7</th>\n",
       "      <td>4.810756</td>\n",
       "      <td>6.076166</td>\n",
       "      <td>0.000135</td>\n",
       "      <td>0.109883</td>\n",
       "      <td>0.033437</td>\n",
       "      <td>0.016449</td>\n",
       "      <td>0.034515</td>\n",
       "      <td>0.008494</td>\n",
       "      <td>0.002831</td>\n",
       "      <td>0.006876</td>\n",
       "      <td>...</td>\n",
       "      <td>17</td>\n",
       "      <td>1</td>\n",
       "      <td>6</td>\n",
       "      <td>2</td>\n",
       "      <td>5</td>\n",
       "      <td>0</td>\n",
       "      <td>0</td>\n",
       "      <td>0</td>\n",
       "      <td>0</td>\n",
       "      <td>1</td>\n",
       "    </tr>\n",
       "  </tbody>\n",
       "</table>\n",
       "<p>5 rows × 1259 columns</p>\n",
       "</div>"
      ],
      "text/plain": [
       "                                            opcode_entropy  byte_entropy  \\\n",
       "Address                                                                    \n",
       "0x8275ebf521dc217aa79c88132017a5bcef001dd9        4.676922      4.331572   \n",
       "0x292e89d5d5bdab3af2f5838c194c1983f0140b43        4.655586      6.067508   \n",
       "0x2753dce37a7edb052a77832039bcc9aa49ad8b25        4.622489      6.275986   \n",
       "0xe1a0ce8b94c6a5e4791401086763d7bd0a6c18f5        4.808809      5.868159   \n",
       "0x9db8a10c7fe60d84397860b3af2e686d4f90c2b7        4.810756      6.076166   \n",
       "\n",
       "                                             byte_0x   byte_60   byte_80  \\\n",
       "Address                                                                    \n",
       "0x8275ebf521dc217aa79c88132017a5bcef001dd9  0.000160  0.061938  0.028081   \n",
       "0x292e89d5d5bdab3af2f5838c194c1983f0140b43  0.000280  0.117021  0.021837   \n",
       "0x2753dce37a7edb052a77832039bcc9aa49ad8b25  0.000158  0.105847  0.019490   \n",
       "0xe1a0ce8b94c6a5e4791401086763d7bd0a6c18f5  0.000393  0.106007  0.036121   \n",
       "0x9db8a10c7fe60d84397860b3af2e686d4f90c2b7  0.000135  0.109883  0.033437   \n",
       "\n",
       "                                             byte_40   byte_52   byte_04  \\\n",
       "Address                                                                    \n",
       "0x8275ebf521dc217aa79c88132017a5bcef001dd9  0.007542  0.018453  0.005777   \n",
       "0x292e89d5d5bdab3af2f5838c194c1983f0140b43  0.017077  0.033035  0.012318   \n",
       "0x2753dce37a7edb052a77832039bcc9aa49ad8b25  0.012518  0.029789  0.013469   \n",
       "0xe1a0ce8b94c6a5e4791401086763d7bd0a6c18f5  0.017668  0.032195  0.010993   \n",
       "0x9db8a10c7fe60d84397860b3af2e686d4f90c2b7  0.016449  0.034515  0.008494   \n",
       "\n",
       "                                             byte_36   byte_10  ...  swap5  \\\n",
       "Address                                                         ...          \n",
       "0x8275ebf521dc217aa79c88132017a5bcef001dd9  0.001605  0.002246  ...      0   \n",
       "0x292e89d5d5bdab3af2f5838c194c1983f0140b43  0.002800  0.003080  ...      5   \n",
       "0x2753dce37a7edb052a77832039bcc9aa49ad8b25  0.003961  0.003486  ...      8   \n",
       "0xe1a0ce8b94c6a5e4791401086763d7bd0a6c18f5  0.003141  0.005497  ...      9   \n",
       "0x9db8a10c7fe60d84397860b3af2e686d4f90c2b7  0.002831  0.006876  ...     17   \n",
       "\n",
       "                                            swap5 pop  swap6  swap7  \\\n",
       "Address                                                               \n",
       "0x8275ebf521dc217aa79c88132017a5bcef001dd9          0      0      0   \n",
       "0x292e89d5d5bdab3af2f5838c194c1983f0140b43          1      2      0   \n",
       "0x2753dce37a7edb052a77832039bcc9aa49ad8b25          0      0      0   \n",
       "0xe1a0ce8b94c6a5e4791401086763d7bd0a6c18f5          0      2      0   \n",
       "0x9db8a10c7fe60d84397860b3af2e686d4f90c2b7          1      6      2   \n",
       "\n",
       "                                            timestamp  unknown_0x5f  \\\n",
       "Address                                                               \n",
       "0x8275ebf521dc217aa79c88132017a5bcef001dd9          0             0   \n",
       "0x292e89d5d5bdab3af2f5838c194c1983f0140b43          1             0   \n",
       "0x2753dce37a7edb052a77832039bcc9aa49ad8b25          0             1   \n",
       "0xe1a0ce8b94c6a5e4791401086763d7bd0a6c18f5          0             0   \n",
       "0x9db8a10c7fe60d84397860b3af2e686d4f90c2b7          5             0   \n",
       "\n",
       "                                            unknown_0x5f dup1  \\\n",
       "Address                                                         \n",
       "0x8275ebf521dc217aa79c88132017a5bcef001dd9                  0   \n",
       "0x292e89d5d5bdab3af2f5838c194c1983f0140b43                  0   \n",
       "0x2753dce37a7edb052a77832039bcc9aa49ad8b25                  0   \n",
       "0xe1a0ce8b94c6a5e4791401086763d7bd0a6c18f5                  0   \n",
       "0x9db8a10c7fe60d84397860b3af2e686d4f90c2b7                  0   \n",
       "\n",
       "                                            unknown_0x5f dup1 revert  \\\n",
       "Address                                                                \n",
       "0x8275ebf521dc217aa79c88132017a5bcef001dd9                         0   \n",
       "0x292e89d5d5bdab3af2f5838c194c1983f0140b43                         0   \n",
       "0x2753dce37a7edb052a77832039bcc9aa49ad8b25                         0   \n",
       "0xe1a0ce8b94c6a5e4791401086763d7bd0a6c18f5                         0   \n",
       "0x9db8a10c7fe60d84397860b3af2e686d4f90c2b7                         0   \n",
       "\n",
       "                                            unknown_0x5f swap1  unknown_0xfe  \n",
       "Address                                                                       \n",
       "0x8275ebf521dc217aa79c88132017a5bcef001dd9                   0             2  \n",
       "0x292e89d5d5bdab3af2f5838c194c1983f0140b43                   0             1  \n",
       "0x2753dce37a7edb052a77832039bcc9aa49ad8b25                   0             1  \n",
       "0xe1a0ce8b94c6a5e4791401086763d7bd0a6c18f5                   0             1  \n",
       "0x9db8a10c7fe60d84397860b3af2e686d4f90c2b7                   0             1  \n",
       "\n",
       "[5 rows x 1259 columns]"
      ]
     },
     "execution_count": 3,
     "metadata": {},
     "output_type": "execute_result"
    }
   ],
   "source": [
    "bytecode_df.head()"
   ]
  },
  {
   "cell_type": "code",
   "execution_count": 4,
   "id": "1067cac4",
   "metadata": {},
   "outputs": [
    {
     "name": "stdout",
     "output_type": "stream",
     "text": [
      "<class 'pandas.core.frame.DataFrame'>\n",
      "Index: 69 entries, 0x8275ebf521dc217aa79c88132017a5bcef001dd9 to 0x17e65e6b9b166fb8e7c59432f0db126711246bc0\n",
      "Columns: 1259 entries, opcode_entropy to unknown_0xfe\n",
      "dtypes: float64(259), int64(1000)\n",
      "memory usage: 679.2+ KB\n"
     ]
    }
   ],
   "source": [
    "bytecode_df.info()"
   ]
  },
  {
   "cell_type": "code",
   "execution_count": 5,
   "id": "ee2442ec",
   "metadata": {},
   "outputs": [
    {
     "data": {
      "application/vnd.microsoft.datawrangler.viewer.v0+json": {
       "columns": [
        {
         "name": "index",
         "rawType": "object",
         "type": "string"
        },
        {
         "name": "0",
         "rawType": "int64",
         "type": "integer"
        }
       ],
       "ref": "49684240-ab04-4fb8-9ba7-a07e23289414",
       "rows": [
        [
         "unknown_0xfe",
         "0"
        ],
        [
         "opcode_entropy",
         "0"
        ],
        [
         "byte_entropy",
         "0"
        ],
        [
         "byte_0x",
         "0"
        ],
        [
         "byte_60",
         "0"
        ],
        [
         "byte_80",
         "0"
        ],
        [
         "byte_40",
         "0"
        ],
        [
         "byte_52",
         "0"
        ],
        [
         "byte_04",
         "0"
        ],
        [
         "byte_36",
         "0"
        ],
        [
         "byte_10",
         "0"
        ],
        [
         "swap2 push2",
         "0"
        ],
        [
         "swap2 push2 jump",
         "0"
        ],
        [
         "swap2 sstore",
         "0"
        ],
        [
         "swap2 sub",
         "0"
        ],
        [
         "swap2 sub swap1",
         "0"
        ],
        [
         "swap2 swap1",
         "0"
        ],
        [
         "swap2 swap1 dup1",
         "0"
        ],
        [
         "swap2 swap1 pop",
         "0"
        ],
        [
         "swap2 or",
         "0"
        ],
        [
         "swap2 pop",
         "0"
        ],
        [
         "swap2 pop jumpdest",
         "0"
        ],
        [
         "swap2 pop pop",
         "0"
        ],
        [
         "swap2 pop push1",
         "0"
        ],
        [
         "swap2 pop push2",
         "0"
        ],
        [
         "swap2 push1",
         "0"
        ],
        [
         "swap2 push1 add",
         "0"
        ],
        [
         "swap2 and",
         "0"
        ],
        [
         "swap2 and eq",
         "0"
        ],
        [
         "swap2 codecopy",
         "0"
        ],
        [
         "swap2 codecopy push1",
         "0"
        ],
        [
         "swap2 div",
         "0"
        ],
        [
         "swap2 dup3",
         "0"
        ],
        [
         "swap2 dup3 swap1",
         "0"
        ],
        [
         "swap2 mstore",
         "0"
        ],
        [
         "swap1 swap2 swap1",
         "0"
        ],
        [
         "swap1 swap3",
         "0"
        ],
        [
         "swap1 swap3 and",
         "0"
        ],
        [
         "swap1 swap3 swap2",
         "0"
        ],
        [
         "swap1 swap4",
         "0"
        ],
        [
         "swap1 swap5",
         "0"
        ],
        [
         "swap2",
         "0"
        ],
        [
         "swap2 add",
         "0"
        ],
        [
         "byte_41",
         "0"
        ],
        [
         "byte_a9",
         "0"
        ],
        [
         "byte_05",
         "0"
        ],
        [
         "byte_9c",
         "0"
        ],
        [
         "byte_bb",
         "0"
        ],
        [
         "byte_9d",
         "0"
        ],
        [
         "byte_d7",
         "0"
        ]
       ],
       "shape": {
        "columns": 1,
        "rows": 1259
       }
      },
      "text/plain": [
       "unknown_0xfe      0\n",
       "opcode_entropy    0\n",
       "byte_entropy      0\n",
       "byte_0x           0\n",
       "byte_60           0\n",
       "                 ..\n",
       "byte_35           0\n",
       "byte_7c           0\n",
       "byte_01           0\n",
       "byte_90           0\n",
       "byte_63           0\n",
       "Length: 1259, dtype: int64"
      ]
     },
     "execution_count": 5,
     "metadata": {},
     "output_type": "execute_result"
    }
   ],
   "source": [
    "bytecode_df.isnull().sum().sort_values(ascending=False)"
   ]
  },
  {
   "cell_type": "code",
   "execution_count": 6,
   "id": "179d817c",
   "metadata": {},
   "outputs": [
    {
     "data": {
      "application/vnd.microsoft.datawrangler.viewer.v0+json": {
       "columns": [
        {
         "name": "Address",
         "rawType": "object",
         "type": "string"
        },
        {
         "name": "opcode_entropy",
         "rawType": "float64",
         "type": "float"
        },
        {
         "name": "byte_entropy",
         "rawType": "float64",
         "type": "float"
        },
        {
         "name": "byte_0x",
         "rawType": "float64",
         "type": "float"
        },
        {
         "name": "byte_60",
         "rawType": "float64",
         "type": "float"
        },
        {
         "name": "byte_80",
         "rawType": "float64",
         "type": "float"
        },
        {
         "name": "byte_40",
         "rawType": "float64",
         "type": "float"
        },
        {
         "name": "byte_52",
         "rawType": "float64",
         "type": "float"
        },
        {
         "name": "byte_04",
         "rawType": "float64",
         "type": "float"
        },
        {
         "name": "byte_36",
         "rawType": "float64",
         "type": "float"
        },
        {
         "name": "byte_10",
         "rawType": "float64",
         "type": "float"
        },
        {
         "name": "byte_61",
         "rawType": "float64",
         "type": "float"
        },
        {
         "name": "byte_00",
         "rawType": "float64",
         "type": "float"
        },
        {
         "name": "byte_db",
         "rawType": "float64",
         "type": "float"
        },
        {
         "name": "byte_57",
         "rawType": "float64",
         "type": "float"
        },
        {
         "name": "byte_35",
         "rawType": "float64",
         "type": "float"
        },
        {
         "name": "byte_7c",
         "rawType": "float64",
         "type": "float"
        },
        {
         "name": "byte_01",
         "rawType": "float64",
         "type": "float"
        },
        {
         "name": "byte_90",
         "rawType": "float64",
         "type": "float"
        },
        {
         "name": "byte_63",
         "rawType": "float64",
         "type": "float"
        },
        {
         "name": "byte_ff",
         "rawType": "float64",
         "type": "float"
        },
        {
         "name": "byte_16",
         "rawType": "float64",
         "type": "float"
        },
        {
         "name": "byte_06",
         "rawType": "float64",
         "type": "float"
        },
        {
         "name": "byte_fd",
         "rawType": "float64",
         "type": "float"
        },
        {
         "name": "byte_de",
         "rawType": "float64",
         "type": "float"
        },
        {
         "name": "byte_03",
         "rawType": "float64",
         "type": "float"
        },
        {
         "name": "byte_14",
         "rawType": "float64",
         "type": "float"
        },
        {
         "name": "byte_e0",
         "rawType": "float64",
         "type": "float"
        },
        {
         "name": "byte_09",
         "rawType": "float64",
         "type": "float"
        },
        {
         "name": "byte_5e",
         "rawType": "float64",
         "type": "float"
        },
        {
         "name": "byte_a7",
         "rawType": "float64",
         "type": "float"
        },
        {
         "name": "byte_b3",
         "rawType": "float64",
         "type": "float"
        },
        {
         "name": "byte_70",
         "rawType": "float64",
         "type": "float"
        },
        {
         "name": "byte_18",
         "rawType": "float64",
         "type": "float"
        },
        {
         "name": "byte_0d",
         "rawType": "float64",
         "type": "float"
        },
        {
         "name": "byte_dd",
         "rawType": "float64",
         "type": "float"
        },
        {
         "name": "byte_d5",
         "rawType": "float64",
         "type": "float"
        },
        {
         "name": "byte_23",
         "rawType": "float64",
         "type": "float"
        },
        {
         "name": "byte_b8",
         "rawType": "float64",
         "type": "float"
        },
        {
         "name": "byte_72",
         "rawType": "float64",
         "type": "float"
        },
        {
         "name": "byte_02",
         "rawType": "float64",
         "type": "float"
        },
        {
         "name": "byte_31",
         "rawType": "float64",
         "type": "float"
        },
        {
         "name": "byte_3c",
         "rawType": "float64",
         "type": "float"
        },
        {
         "name": "byte_e5",
         "rawType": "float64",
         "type": "float"
        },
        {
         "name": "byte_67",
         "rawType": "float64",
         "type": "float"
        },
        {
         "name": "byte_85",
         "rawType": "float64",
         "type": "float"
        },
        {
         "name": "byte_42",
         "rawType": "float64",
         "type": "float"
        },
        {
         "name": "byte_96",
         "rawType": "float64",
         "type": "float"
        },
        {
         "name": "byte_6c",
         "rawType": "float64",
         "type": "float"
        },
        {
         "name": "byte_68",
         "rawType": "float64",
         "type": "float"
        },
        {
         "name": "byte_b6",
         "rawType": "float64",
         "type": "float"
        },
        {
         "name": "byte_66",
         "rawType": "float64",
         "type": "float"
        },
        {
         "name": "byte_84",
         "rawType": "float64",
         "type": "float"
        },
        {
         "name": "byte_e3",
         "rawType": "float64",
         "type": "float"
        },
        {
         "name": "byte_a0",
         "rawType": "float64",
         "type": "float"
        },
        {
         "name": "byte_82",
         "rawType": "float64",
         "type": "float"
        },
        {
         "name": "byte_48",
         "rawType": "float64",
         "type": "float"
        },
        {
         "name": "byte_71",
         "rawType": "float64",
         "type": "float"
        },
        {
         "name": "byte_50",
         "rawType": "float64",
         "type": "float"
        },
        {
         "name": "byte_a6",
         "rawType": "float64",
         "type": "float"
        },
        {
         "name": "byte_9f",
         "rawType": "float64",
         "type": "float"
        },
        {
         "name": "byte_8d",
         "rawType": "float64",
         "type": "float"
        },
        {
         "name": "byte_a5",
         "rawType": "float64",
         "type": "float"
        },
        {
         "name": "byte_cb",
         "rawType": "float64",
         "type": "float"
        },
        {
         "name": "byte_5b",
         "rawType": "float64",
         "type": "float"
        },
        {
         "name": "byte_95",
         "rawType": "float64",
         "type": "float"
        },
        {
         "name": "byte_d8",
         "rawType": "float64",
         "type": "float"
        },
        {
         "name": "byte_9b",
         "rawType": "float64",
         "type": "float"
        },
        {
         "name": "byte_41",
         "rawType": "float64",
         "type": "float"
        },
        {
         "name": "byte_a9",
         "rawType": "float64",
         "type": "float"
        },
        {
         "name": "byte_05",
         "rawType": "float64",
         "type": "float"
        },
        {
         "name": "byte_9c",
         "rawType": "float64",
         "type": "float"
        },
        {
         "name": "byte_bb",
         "rawType": "float64",
         "type": "float"
        },
        {
         "name": "byte_9d",
         "rawType": "float64",
         "type": "float"
        },
        {
         "name": "byte_d7",
         "rawType": "float64",
         "type": "float"
        },
        {
         "name": "byte_3d",
         "rawType": "float64",
         "type": "float"
        },
        {
         "name": "byte_d6",
         "rawType": "float64",
         "type": "float"
        },
        {
         "name": "byte_62",
         "rawType": "float64",
         "type": "float"
        },
        {
         "name": "byte_ed",
         "rawType": "float64",
         "type": "float"
        },
        {
         "name": "byte_3e",
         "rawType": "float64",
         "type": "float"
        },
        {
         "name": "byte_f2",
         "rawType": "float64",
         "type": "float"
        },
        {
         "name": "byte_8b",
         "rawType": "float64",
         "type": "float"
        },
        {
         "name": "byte_34",
         "rawType": "float64",
         "type": "float"
        },
        {
         "name": "byte_15",
         "rawType": "float64",
         "type": "float"
        },
        {
         "name": "byte_ec",
         "rawType": "float64",
         "type": "float"
        },
        {
         "name": "byte_f5",
         "rawType": "float64",
         "type": "float"
        },
        {
         "name": "byte_21",
         "rawType": "float64",
         "type": "float"
        },
        {
         "name": "byte_56",
         "rawType": "float64",
         "type": "float"
        },
        {
         "name": "byte_51",
         "rawType": "float64",
         "type": "float"
        },
        {
         "name": "byte_20",
         "rawType": "float64",
         "type": "float"
        },
        {
         "name": "byte_81",
         "rawType": "float64",
         "type": "float"
        },
        {
         "name": "byte_83",
         "rawType": "float64",
         "type": "float"
        },
        {
         "name": "byte_91",
         "rawType": "float64",
         "type": "float"
        },
        {
         "name": "byte_1a",
         "rawType": "float64",
         "type": "float"
        },
        {
         "name": "byte_1f",
         "rawType": "float64",
         "type": "float"
        },
        {
         "name": "byte_0a",
         "rawType": "float64",
         "type": "float"
        },
        {
         "name": "byte_19",
         "rawType": "float64",
         "type": "float"
        },
        {
         "name": "byte_92",
         "rawType": "float64",
         "type": "float"
        },
        {
         "name": "byte_f3",
         "rawType": "float64",
         "type": "float"
        },
        {
         "name": "byte_73",
         "rawType": "float64",
         "type": "float"
        },
        {
         "name": "byte_bf",
         "rawType": "float64",
         "type": "float"
        },
        {
         "name": "byte_e1",
         "rawType": "float64",
         "type": "float"
        },
        {
         "name": "byte_ea",
         "rawType": "float64",
         "type": "float"
        },
        {
         "name": "byte_07",
         "rawType": "float64",
         "type": "float"
        },
        {
         "name": "byte_b1",
         "rawType": "float64",
         "type": "float"
        },
        {
         "name": "byte_0c",
         "rawType": "float64",
         "type": "float"
        },
        {
         "name": "byte_6b",
         "rawType": "float64",
         "type": "float"
        },
        {
         "name": "byte_b7",
         "rawType": "float64",
         "type": "float"
        },
        {
         "name": "byte_9a",
         "rawType": "float64",
         "type": "float"
        },
        {
         "name": "byte_0b",
         "rawType": "float64",
         "type": "float"
        },
        {
         "name": "byte_77",
         "rawType": "float64",
         "type": "float"
        },
        {
         "name": "byte_c2",
         "rawType": "float64",
         "type": "float"
        },
        {
         "name": "byte_8a",
         "rawType": "float64",
         "type": "float"
        },
        {
         "name": "byte_ef",
         "rawType": "float64",
         "type": "float"
        },
        {
         "name": "byte_2e",
         "rawType": "float64",
         "type": "float"
        },
        {
         "name": "byte_97",
         "rawType": "float64",
         "type": "float"
        },
        {
         "name": "byte_54",
         "rawType": "float64",
         "type": "float"
        },
        {
         "name": "byte_89",
         "rawType": "float64",
         "type": "float"
        },
        {
         "name": "byte_0e",
         "rawType": "float64",
         "type": "float"
        },
        {
         "name": "byte_29",
         "rawType": "float64",
         "type": "float"
        },
        {
         "name": "byte_ab",
         "rawType": "float64",
         "type": "float"
        },
        {
         "name": "byte_b4",
         "rawType": "float64",
         "type": "float"
        },
        {
         "name": "byte_0f",
         "rawType": "float64",
         "type": "float"
        },
        {
         "name": "byte_74",
         "rawType": "float64",
         "type": "float"
        },
        {
         "name": "byte_22",
         "rawType": "float64",
         "type": "float"
        },
        {
         "name": "byte_99",
         "rawType": "float64",
         "type": "float"
        },
        {
         "name": "byte_47",
         "rawType": "float64",
         "type": "float"
        },
        {
         "name": "byte_8f",
         "rawType": "float64",
         "type": "float"
        },
        {
         "name": "byte_e8",
         "rawType": "float64",
         "type": "float"
        },
        {
         "name": "byte_37",
         "rawType": "float64",
         "type": "float"
        },
        {
         "name": "byte_4d",
         "rawType": "float64",
         "type": "float"
        },
        {
         "name": "byte_12",
         "rawType": "float64",
         "type": "float"
        },
        {
         "name": "byte_5c",
         "rawType": "float64",
         "type": "float"
        },
        {
         "name": "byte_c8",
         "rawType": "float64",
         "type": "float"
        },
        {
         "name": "byte_58",
         "rawType": "float64",
         "type": "float"
        },
        {
         "name": "byte_df",
         "rawType": "float64",
         "type": "float"
        },
        {
         "name": "byte_8c",
         "rawType": "float64",
         "type": "float"
        },
        {
         "name": "byte_11",
         "rawType": "float64",
         "type": "float"
        },
        {
         "name": "byte_33",
         "rawType": "float64",
         "type": "float"
        },
        {
         "name": "byte_55",
         "rawType": "float64",
         "type": "float"
        },
        {
         "name": "byte_7f",
         "rawType": "float64",
         "type": "float"
        },
        {
         "name": "byte_eb",
         "rawType": "float64",
         "type": "float"
        },
        {
         "name": "byte_7d",
         "rawType": "float64",
         "type": "float"
        },
        {
         "name": "byte_d1",
         "rawType": "float64",
         "type": "float"
        },
        {
         "name": "byte_4f",
         "rawType": "float64",
         "type": "float"
        },
        {
         "name": "byte_1e",
         "rawType": "float64",
         "type": "float"
        },
        {
         "name": "byte_c0",
         "rawType": "float64",
         "type": "float"
        },
        {
         "name": "byte_f7",
         "rawType": "float64",
         "type": "float"
        },
        {
         "name": "byte_b2",
         "rawType": "float64",
         "type": "float"
        },
        {
         "name": "byte_c7",
         "rawType": "float64",
         "type": "float"
        },
        {
         "name": "byte_c3",
         "rawType": "float64",
         "type": "float"
        },
        {
         "name": "byte_b9",
         "rawType": "float64",
         "type": "float"
        },
        {
         "name": "byte_25",
         "rawType": "float64",
         "type": "float"
        },
        {
         "name": "byte_a3",
         "rawType": "float64",
         "type": "float"
        },
        {
         "name": "byte_08",
         "rawType": "float64",
         "type": "float"
        },
        {
         "name": "byte_ce",
         "rawType": "float64",
         "type": "float"
        },
        {
         "name": "byte_87",
         "rawType": "float64",
         "type": "float"
        },
        {
         "name": "byte_46",
         "rawType": "float64",
         "type": "float"
        },
        {
         "name": "byte_86",
         "rawType": "float64",
         "type": "float"
        },
        {
         "name": "byte_b5",
         "rawType": "float64",
         "type": "float"
        },
        {
         "name": "byte_5f",
         "rawType": "float64",
         "type": "float"
        },
        {
         "name": "byte_ad",
         "rawType": "float64",
         "type": "float"
        },
        {
         "name": "byte_1b",
         "rawType": "float64",
         "type": "float"
        },
        {
         "name": "byte_e2",
         "rawType": "float64",
         "type": "float"
        },
        {
         "name": "byte_69",
         "rawType": "float64",
         "type": "float"
        },
        {
         "name": "byte_b0",
         "rawType": "float64",
         "type": "float"
        },
        {
         "name": "byte_fc",
         "rawType": "float64",
         "type": "float"
        },
        {
         "name": "byte_aa",
         "rawType": "float64",
         "type": "float"
        },
        {
         "name": "byte_2b",
         "rawType": "float64",
         "type": "float"
        },
        {
         "name": "byte_f1",
         "rawType": "float64",
         "type": "float"
        },
        {
         "name": "byte_c4",
         "rawType": "float64",
         "type": "float"
        },
        {
         "name": "byte_a1",
         "rawType": "float64",
         "type": "float"
        },
        {
         "name": "byte_28",
         "rawType": "float64",
         "type": "float"
        },
        {
         "name": "byte_5a",
         "rawType": "float64",
         "type": "float"
        },
        {
         "name": "byte_93",
         "rawType": "float64",
         "type": "float"
        },
        {
         "name": "byte_94",
         "rawType": "float64",
         "type": "float"
        },
        {
         "name": "byte_7b",
         "rawType": "float64",
         "type": "float"
        },
        {
         "name": "byte_bc",
         "rawType": "float64",
         "type": "float"
        },
        {
         "name": "byte_88",
         "rawType": "float64",
         "type": "float"
        },
        {
         "name": "byte_cd",
         "rawType": "float64",
         "type": "float"
        },
        {
         "name": "byte_f8",
         "rawType": "float64",
         "type": "float"
        },
        {
         "name": "byte_2f",
         "rawType": "float64",
         "type": "float"
        },
        {
         "name": "byte_59",
         "rawType": "float64",
         "type": "float"
        },
        {
         "name": "byte_98",
         "rawType": "float64",
         "type": "float"
        },
        {
         "name": "byte_45",
         "rawType": "float64",
         "type": "float"
        },
        {
         "name": "byte_2c",
         "rawType": "float64",
         "type": "float"
        },
        {
         "name": "byte_f9",
         "rawType": "float64",
         "type": "float"
        },
        {
         "name": "byte_ae",
         "rawType": "float64",
         "type": "float"
        },
        {
         "name": "byte_c6",
         "rawType": "float64",
         "type": "float"
        },
        {
         "name": "byte_a2",
         "rawType": "float64",
         "type": "float"
        },
        {
         "name": "byte_17",
         "rawType": "float64",
         "type": "float"
        },
        {
         "name": "byte_3a",
         "rawType": "float64",
         "type": "float"
        },
        {
         "name": "byte_43",
         "rawType": "float64",
         "type": "float"
        },
        {
         "name": "byte_fe",
         "rawType": "float64",
         "type": "float"
        },
        {
         "name": "byte_c9",
         "rawType": "float64",
         "type": "float"
        },
        {
         "name": "byte_cc",
         "rawType": "float64",
         "type": "float"
        },
        {
         "name": "byte_32",
         "rawType": "float64",
         "type": "float"
        },
        {
         "name": "byte_bd",
         "rawType": "float64",
         "type": "float"
        },
        {
         "name": "byte_44",
         "rawType": "float64",
         "type": "float"
        },
        {
         "name": "byte_cf",
         "rawType": "float64",
         "type": "float"
        },
        {
         "name": "byte_7a",
         "rawType": "float64",
         "type": "float"
        },
        {
         "name": "byte_5d",
         "rawType": "float64",
         "type": "float"
        },
        {
         "name": "byte_39",
         "rawType": "float64",
         "type": "float"
        },
        {
         "name": "byte_6d",
         "rawType": "float64",
         "type": "float"
        },
        {
         "name": "byte_53",
         "rawType": "float64",
         "type": "float"
        },
        {
         "name": "byte_13",
         "rawType": "float64",
         "type": "float"
        },
        {
         "name": "byte_d0",
         "rawType": "float64",
         "type": "float"
        },
        {
         "name": "byte_a4",
         "rawType": "float64",
         "type": "float"
        },
        {
         "name": "byte_49",
         "rawType": "float64",
         "type": "float"
        },
        {
         "name": "byte_da",
         "rawType": "float64",
         "type": "float"
        },
        {
         "name": "byte_af",
         "rawType": "float64",
         "type": "float"
        },
        {
         "name": "byte_6f",
         "rawType": "float64",
         "type": "float"
        },
        {
         "name": "byte_64",
         "rawType": "float64",
         "type": "float"
        },
        {
         "name": "byte_65",
         "rawType": "float64",
         "type": "float"
        },
        {
         "name": "byte_30",
         "rawType": "float64",
         "type": "float"
        },
        {
         "name": "byte_c5",
         "rawType": "float64",
         "type": "float"
        },
        {
         "name": "byte_1c",
         "rawType": "float64",
         "type": "float"
        },
        {
         "name": "byte_4a",
         "rawType": "float64",
         "type": "float"
        },
        {
         "name": "byte_79",
         "rawType": "float64",
         "type": "float"
        },
        {
         "name": "byte_6a",
         "rawType": "float64",
         "type": "float"
        },
        {
         "name": "byte_fa",
         "rawType": "float64",
         "type": "float"
        },
        {
         "name": "byte_d3",
         "rawType": "float64",
         "type": "float"
        },
        {
         "name": "byte_2a",
         "rawType": "float64",
         "type": "float"
        },
        {
         "name": "byte_78",
         "rawType": "float64",
         "type": "float"
        },
        {
         "name": "byte_2d",
         "rawType": "float64",
         "type": "float"
        },
        {
         "name": "byte_c1",
         "rawType": "float64",
         "type": "float"
        },
        {
         "name": "byte_24",
         "rawType": "float64",
         "type": "float"
        },
        {
         "name": "byte_3b",
         "rawType": "float64",
         "type": "float"
        },
        {
         "name": "byte_ca",
         "rawType": "float64",
         "type": "float"
        },
        {
         "name": "byte_76",
         "rawType": "float64",
         "type": "float"
        },
        {
         "name": "byte_8e",
         "rawType": "float64",
         "type": "float"
        },
        {
         "name": "byte_f4",
         "rawType": "float64",
         "type": "float"
        },
        {
         "name": "byte_d9",
         "rawType": "float64",
         "type": "float"
        },
        {
         "name": "byte_4c",
         "rawType": "float64",
         "type": "float"
        },
        {
         "name": "byte_26",
         "rawType": "float64",
         "type": "float"
        },
        {
         "name": "byte_6e",
         "rawType": "float64",
         "type": "float"
        },
        {
         "name": "byte_75",
         "rawType": "float64",
         "type": "float"
        },
        {
         "name": "byte_a8",
         "rawType": "float64",
         "type": "float"
        },
        {
         "name": "byte_1d",
         "rawType": "float64",
         "type": "float"
        },
        {
         "name": "byte_ac",
         "rawType": "float64",
         "type": "float"
        },
        {
         "name": "byte_ba",
         "rawType": "float64",
         "type": "float"
        },
        {
         "name": "byte_e6",
         "rawType": "float64",
         "type": "float"
        },
        {
         "name": "byte_d2",
         "rawType": "float64",
         "type": "float"
        },
        {
         "name": "byte_4e",
         "rawType": "float64",
         "type": "float"
        },
        {
         "name": "byte_fb",
         "rawType": "float64",
         "type": "float"
        },
        {
         "name": "byte_ee",
         "rawType": "float64",
         "type": "float"
        },
        {
         "name": "byte_38",
         "rawType": "float64",
         "type": "float"
        },
        {
         "name": "byte_4b",
         "rawType": "float64",
         "type": "float"
        },
        {
         "name": "byte_e9",
         "rawType": "float64",
         "type": "float"
        },
        {
         "name": "byte_dc",
         "rawType": "float64",
         "type": "float"
        },
        {
         "name": "byte_f6",
         "rawType": "float64",
         "type": "float"
        },
        {
         "name": "byte_3f",
         "rawType": "float64",
         "type": "float"
        },
        {
         "name": "byte_d4",
         "rawType": "float64",
         "type": "float"
        },
        {
         "name": "byte_e7",
         "rawType": "float64",
         "type": "float"
        },
        {
         "name": "byte_be",
         "rawType": "float64",
         "type": "float"
        },
        {
         "name": "byte_f0",
         "rawType": "float64",
         "type": "float"
        },
        {
         "name": "byte_e4",
         "rawType": "float64",
         "type": "float"
        },
        {
         "name": "byte_7e",
         "rawType": "float64",
         "type": "float"
        },
        {
         "name": "byte_27",
         "rawType": "float64",
         "type": "float"
        },
        {
         "name": "byte_9e",
         "rawType": "float64",
         "type": "float"
        },
        {
         "name": "add",
         "rawType": "int64",
         "type": "integer"
        },
        {
         "name": "add add",
         "rawType": "int64",
         "type": "integer"
        },
        {
         "name": "add and",
         "rawType": "int64",
         "type": "integer"
        },
        {
         "name": "add and dup3",
         "rawType": "int64",
         "type": "integer"
        },
        {
         "name": "add calldataload",
         "rawType": "int64",
         "type": "integer"
        },
        {
         "name": "add dup1",
         "rawType": "int64",
         "type": "integer"
        },
        {
         "name": "add dup1 dup1",
         "rawType": "int64",
         "type": "integer"
        },
        {
         "name": "add dup1 dup4",
         "rawType": "int64",
         "type": "integer"
        },
        {
         "name": "add dup1 push1",
         "rawType": "int64",
         "type": "integer"
        },
        {
         "name": "add dup1 push2",
         "rawType": "int64",
         "type": "integer"
        },
        {
         "name": "add dup1 push32",
         "rawType": "int64",
         "type": "integer"
        },
        {
         "name": "add dup2",
         "rawType": "int64",
         "type": "integer"
        },
        {
         "name": "add dup3",
         "rawType": "int64",
         "type": "integer"
        },
        {
         "name": "add dup3 dup2",
         "rawType": "int64",
         "type": "integer"
        },
        {
         "name": "add dup4",
         "rawType": "int64",
         "type": "integer"
        },
        {
         "name": "add dup5",
         "rawType": "int64",
         "type": "integer"
        },
        {
         "name": "add mload",
         "rawType": "int64",
         "type": "integer"
        },
        {
         "name": "add mstore",
         "rawType": "int64",
         "type": "integer"
        },
        {
         "name": "add mstore pop",
         "rawType": "int64",
         "type": "integer"
        },
        {
         "name": "add mstore push1",
         "rawType": "int64",
         "type": "integer"
        },
        {
         "name": "add mstore push2",
         "rawType": "int64",
         "type": "integer"
        },
        {
         "name": "add mstore push32",
         "rawType": "int64",
         "type": "integer"
        },
        {
         "name": "add push1",
         "rawType": "int64",
         "type": "integer"
        },
        {
         "name": "add push1 mload",
         "rawType": "int64",
         "type": "integer"
        },
        {
         "name": "add push1 mstore",
         "rawType": "int64",
         "type": "integer"
        },
        {
         "name": "add push1 push1",
         "rawType": "int64",
         "type": "integer"
        },
        {
         "name": "add push1 sha3",
         "rawType": "int64",
         "type": "integer"
        },
        {
         "name": "add push2",
         "rawType": "int64",
         "type": "integer"
        },
        {
         "name": "add push2 jump",
         "rawType": "int64",
         "type": "integer"
        },
        {
         "name": "add push2 push1",
         "rawType": "int64",
         "type": "integer"
        },
        {
         "name": "add push2 swap1",
         "rawType": "int64",
         "type": "integer"
        },
        {
         "name": "add sload",
         "rawType": "int64",
         "type": "integer"
        },
        {
         "name": "add swap1",
         "rawType": "int64",
         "type": "integer"
        },
        {
         "name": "add swap1 dup1",
         "rawType": "int64",
         "type": "integer"
        },
        {
         "name": "add swap1 dup2",
         "rawType": "int64",
         "type": "integer"
        },
        {
         "name": "add swap1 jump",
         "rawType": "int64",
         "type": "integer"
        },
        {
         "name": "add swap1 pop",
         "rawType": "int64",
         "type": "integer"
        },
        {
         "name": "add swap1 push1",
         "rawType": "int64",
         "type": "integer"
        },
        {
         "name": "add swap1 push2",
         "rawType": "int64",
         "type": "integer"
        },
        {
         "name": "add swap1 swap3",
         "rawType": "int64",
         "type": "integer"
        },
        {
         "name": "add swap2",
         "rawType": "int64",
         "type": "integer"
        },
        {
         "name": "add swap2 pop",
         "rawType": "int64",
         "type": "integer"
        },
        {
         "name": "add swap2 swap1",
         "rawType": "int64",
         "type": "integer"
        },
        {
         "name": "add swap3",
         "rawType": "int64",
         "type": "integer"
        },
        {
         "name": "address",
         "rawType": "int64",
         "type": "integer"
        },
        {
         "name": "and",
         "rawType": "int64",
         "type": "integer"
        },
        {
         "name": "and caller",
         "rawType": "int64",
         "type": "integer"
        },
        {
         "name": "and caller eq",
         "rawType": "int64",
         "type": "integer"
        },
        {
         "name": "and dup1",
         "rawType": "int64",
         "type": "integer"
        },
        {
         "name": "and dup2",
         "rawType": "int64",
         "type": "integer"
        },
        {
         "name": "and dup2 jump",
         "rawType": "int64",
         "type": "integer"
        },
        {
         "name": "and dup2 mstore",
         "rawType": "int64",
         "type": "integer"
        },
        {
         "name": "and dup3",
         "rawType": "int64",
         "type": "integer"
        },
        {
         "name": "and dup3 add",
         "rawType": "int64",
         "type": "integer"
        },
        {
         "name": "and dup3 mstore",
         "rawType": "int64",
         "type": "integer"
        },
        {
         "name": "and dup4",
         "rawType": "int64",
         "type": "integer"
        },
        {
         "name": "and dup5",
         "rawType": "int64",
         "type": "integer"
        },
        {
         "name": "and eq",
         "rawType": "int64",
         "type": "integer"
        },
        {
         "name": "and eq iszero",
         "rawType": "int64",
         "type": "integer"
        },
        {
         "name": "and eq push2",
         "rawType": "int64",
         "type": "integer"
        },
        {
         "name": "and iszero",
         "rawType": "int64",
         "type": "integer"
        },
        {
         "name": "and iszero push2",
         "rawType": "int64",
         "type": "integer"
        },
        {
         "name": "and jump",
         "rawType": "int64",
         "type": "integer"
        },
        {
         "name": "and jump jumpdest",
         "rawType": "int64",
         "type": "integer"
        },
        {
         "name": "and push1",
         "rawType": "int64",
         "type": "integer"
        },
        {
         "name": "and push1 dup2",
         "rawType": "int64",
         "type": "integer"
        },
        {
         "name": "and push1 push1",
         "rawType": "int64",
         "type": "integer"
        },
        {
         "name": "and push1 shl",
         "rawType": "int64",
         "type": "integer"
        },
        {
         "name": "and push1 swap1",
         "rawType": "int64",
         "type": "integer"
        },
        {
         "name": "and push2",
         "rawType": "int64",
         "type": "integer"
        },
        {
         "name": "and push2 jump",
         "rawType": "int64",
         "type": "integer"
        },
        {
         "name": "and push2 jumpi",
         "rawType": "int64",
         "type": "integer"
        },
        {
         "name": "and push20",
         "rawType": "int64",
         "type": "integer"
        },
        {
         "name": "and push20 and",
         "rawType": "int64",
         "type": "integer"
        },
        {
         "name": "and push32",
         "rawType": "int64",
         "type": "integer"
        },
        {
         "name": "and push4",
         "rawType": "int64",
         "type": "integer"
        },
        {
         "name": "and swap1",
         "rawType": "int64",
         "type": "integer"
        },
        {
         "name": "and swap1 dup4",
         "rawType": "int64",
         "type": "integer"
        },
        {
         "name": "and swap1 pop",
         "rawType": "int64",
         "type": "integer"
        },
        {
         "name": "and swap1 push1",
         "rawType": "int64",
         "type": "integer"
        },
        {
         "name": "and swap2",
         "rawType": "int64",
         "type": "integer"
        },
        {
         "name": "and swap2 and",
         "rawType": "int64",
         "type": "integer"
        },
        {
         "name": "call",
         "rawType": "int64",
         "type": "integer"
        },
        {
         "name": "call iszero",
         "rawType": "int64",
         "type": "integer"
        },
        {
         "name": "call iszero dup1",
         "rawType": "int64",
         "type": "integer"
        },
        {
         "name": "calldataload",
         "rawType": "int64",
         "type": "integer"
        },
        {
         "name": "calldataload push1",
         "rawType": "int64",
         "type": "integer"
        },
        {
         "name": "calldataload push2",
         "rawType": "int64",
         "type": "integer"
        },
        {
         "name": "calldataload push20",
         "rawType": "int64",
         "type": "integer"
        },
        {
         "name": "calldataload push20 and",
         "rawType": "int64",
         "type": "integer"
        },
        {
         "name": "calldataload swap1",
         "rawType": "int64",
         "type": "integer"
        },
        {
         "name": "calldataload swap1 push1",
         "rawType": "int64",
         "type": "integer"
        },
        {
         "name": "calldatasize",
         "rawType": "int64",
         "type": "integer"
        },
        {
         "name": "calldatasize push1",
         "rawType": "int64",
         "type": "integer"
        },
        {
         "name": "calldatasize push1 push2",
         "rawType": "int64",
         "type": "integer"
        },
        {
         "name": "calldatasize sub",
         "rawType": "int64",
         "type": "integer"
        },
        {
         "name": "calldatasize sub dup2",
         "rawType": "int64",
         "type": "integer"
        },
        {
         "name": "calldatasize sub push1",
         "rawType": "int64",
         "type": "integer"
        },
        {
         "name": "caller",
         "rawType": "int64",
         "type": "integer"
        },
        {
         "name": "caller eq",
         "rawType": "int64",
         "type": "integer"
        },
        {
         "name": "caller eq push2",
         "rawType": "int64",
         "type": "integer"
        },
        {
         "name": "caller push2",
         "rawType": "int64",
         "type": "integer"
        },
        {
         "name": "callvalue",
         "rawType": "int64",
         "type": "integer"
        },
        {
         "name": "callvalue dup1",
         "rawType": "int64",
         "type": "integer"
        },
        {
         "name": "callvalue dup1 iszero",
         "rawType": "int64",
         "type": "integer"
        },
        {
         "name": "codecopy",
         "rawType": "int64",
         "type": "integer"
        },
        {
         "name": "codecopy push1",
         "rawType": "int64",
         "type": "integer"
        },
        {
         "name": "codecopy push1 add",
         "rawType": "int64",
         "type": "integer"
        },
        {
         "name": "div",
         "rawType": "int64",
         "type": "integer"
        },
        {
         "name": "div mul",
         "rawType": "int64",
         "type": "integer"
        },
        {
         "name": "div push1",
         "rawType": "int64",
         "type": "integer"
        },
        {
         "name": "div push1 and",
         "rawType": "int64",
         "type": "integer"
        },
        {
         "name": "div push20",
         "rawType": "int64",
         "type": "integer"
        },
        {
         "name": "div push20 and",
         "rawType": "int64",
         "type": "integer"
        },
        {
         "name": "dup1",
         "rawType": "int64",
         "type": "integer"
        },
        {
         "name": "dup1 calldataload",
         "rawType": "int64",
         "type": "integer"
        },
        {
         "name": "dup1 calldataload push20",
         "rawType": "int64",
         "type": "integer"
        },
        {
         "name": "dup1 calldataload swap1",
         "rawType": "int64",
         "type": "integer"
        },
        {
         "name": "dup1 calldatasize",
         "rawType": "int64",
         "type": "integer"
        },
        {
         "name": "dup1 calldatasize sub",
         "rawType": "int64",
         "type": "integer"
        },
        {
         "name": "dup1 dup1",
         "rawType": "int64",
         "type": "integer"
        },
        {
         "name": "dup1 dup1 calldataload",
         "rawType": "int64",
         "type": "integer"
        },
        {
         "name": "dup1 dup1 push1",
         "rawType": "int64",
         "type": "integer"
        },
        {
         "name": "dup1 dup3",
         "rawType": "int64",
         "type": "integer"
        },
        {
         "name": "dup1 dup3 add",
         "rawType": "int64",
         "type": "integer"
        },
        {
         "name": "dup1 dup3 dup2",
         "rawType": "int64",
         "type": "integer"
        },
        {
         "name": "dup1 dup3 mstore",
         "rawType": "int64",
         "type": "integer"
        },
        {
         "name": "dup1 dup4",
         "rawType": "int64",
         "type": "integer"
        },
        {
         "name": "dup1 dup4 gt",
         "rawType": "int64",
         "type": "integer"
        },
        {
         "name": "dup1 dup4 sha3",
         "rawType": "int64",
         "type": "integer"
        },
        {
         "name": "dup1 dup4 sub",
         "rawType": "int64",
         "type": "integer"
        },
        {
         "name": "dup1 dup5",
         "rawType": "int64",
         "type": "integer"
        },
        {
         "name": "dup1 extcodesize",
         "rawType": "int64",
         "type": "integer"
        },
        {
         "name": "dup1 extcodesize iszero",
         "rawType": "int64",
         "type": "integer"
        },
        {
         "name": "dup1 iszero",
         "rawType": "int64",
         "type": "integer"
        },
        {
         "name": "dup1 iszero push2",
         "rawType": "int64",
         "type": "integer"
        },
        {
         "name": "dup1 mload",
         "rawType": "int64",
         "type": "integer"
        },
        {
         "name": "dup1 mload push1",
         "rawType": "int64",
         "type": "integer"
        },
        {
         "name": "dup1 mload swap1",
         "rawType": "int64",
         "type": "integer"
        },
        {
         "name": "dup1 push1",
         "rawType": "int64",
         "type": "integer"
        },
        {
         "name": "dup1 push1 add",
         "rawType": "int64",
         "type": "integer"
        },
        {
         "name": "dup1 push1 dup2",
         "rawType": "int64",
         "type": "integer"
        },
        {
         "name": "dup1 push1 dup4",
         "rawType": "int64",
         "type": "integer"
        },
        {
         "name": "dup1 push1 mstore",
         "rawType": "int64",
         "type": "integer"
        },
        {
         "name": "dup1 push1 push1",
         "rawType": "int64",
         "type": "integer"
        },
        {
         "name": "dup1 push2",
         "rawType": "int64",
         "type": "integer"
        },
        {
         "name": "dup1 push2 jumpi",
         "rawType": "int64",
         "type": "integer"
        },
        {
         "name": "dup1 push2 push1",
         "rawType": "int64",
         "type": "integer"
        },
        {
         "name": "dup1 push32",
         "rawType": "int64",
         "type": "integer"
        },
        {
         "name": "dup1 push32 dup2",
         "rawType": "int64",
         "type": "integer"
        },
        {
         "name": "dup1 push4",
         "rawType": "int64",
         "type": "integer"
        },
        {
         "name": "dup1 push4 eq",
         "rawType": "int64",
         "type": "integer"
        },
        {
         "name": "dup1 push4 gt",
         "rawType": "int64",
         "type": "integer"
        },
        {
         "name": "dup1 returndatacopy",
         "rawType": "int64",
         "type": "integer"
        },
        {
         "name": "dup1 returndatacopy returndatasize",
         "rawType": "int64",
         "type": "integer"
        },
        {
         "name": "dup1 revert",
         "rawType": "int64",
         "type": "integer"
        },
        {
         "name": "dup1 revert jumpdest",
         "rawType": "int64",
         "type": "integer"
        },
        {
         "name": "dup1 sload",
         "rawType": "int64",
         "type": "integer"
        },
        {
         "name": "dup1 sload push1",
         "rawType": "int64",
         "type": "integer"
        },
        {
         "name": "dup1 sload push2",
         "rawType": "int64",
         "type": "integer"
        },
        {
         "name": "dup1 swap2",
         "rawType": "int64",
         "type": "integer"
        },
        {
         "name": "dup1 swap2 sub",
         "rawType": "int64",
         "type": "integer"
        },
        {
         "name": "dup10",
         "rawType": "int64",
         "type": "integer"
        },
        {
         "name": "dup11",
         "rawType": "int64",
         "type": "integer"
        },
        {
         "name": "dup2",
         "rawType": "int64",
         "type": "integer"
        },
        {
         "name": "dup2 add",
         "rawType": "int64",
         "type": "integer"
        },
        {
         "name": "dup2 add push1",
         "rawType": "int64",
         "type": "integer"
        },
        {
         "name": "dup2 add swap1",
         "rawType": "int64",
         "type": "integer"
        },
        {
         "name": "dup2 and",
         "rawType": "int64",
         "type": "integer"
        },
        {
         "name": "dup2 and push1",
         "rawType": "int64",
         "type": "integer"
        },
        {
         "name": "dup2 and swap2",
         "rawType": "int64",
         "type": "integer"
        },
        {
         "name": "dup2 calldataload",
         "rawType": "int64",
         "type": "integer"
        },
        {
         "name": "dup2 dup2",
         "rawType": "int64",
         "type": "integer"
        },
        {
         "name": "dup2 dup2 lt",
         "rawType": "int64",
         "type": "integer"
        },
        {
         "name": "dup2 dup2 mstore",
         "rawType": "int64",
         "type": "integer"
        },
        {
         "name": "dup2 dup2 sub",
         "rawType": "int64",
         "type": "integer"
        },
        {
         "name": "dup2 dup5",
         "rawType": "int64",
         "type": "integer"
        },
        {
         "name": "dup2 dup6",
         "rawType": "int64",
         "type": "integer"
        },
        {
         "name": "dup2 dup7",
         "rawType": "int64",
         "type": "integer"
        },
        {
         "name": "dup2 eq",
         "rawType": "int64",
         "type": "integer"
        },
        {
         "name": "dup2 eq push2",
         "rawType": "int64",
         "type": "integer"
        },
        {
         "name": "dup2 gt",
         "rawType": "int64",
         "type": "integer"
        },
        {
         "name": "dup2 gt iszero",
         "rawType": "int64",
         "type": "integer"
        },
        {
         "name": "dup2 jump",
         "rawType": "int64",
         "type": "integer"
        },
        {
         "name": "dup2 jump jumpdest",
         "rawType": "int64",
         "type": "integer"
        },
        {
         "name": "dup2 lt",
         "rawType": "int64",
         "type": "integer"
        },
        {
         "name": "dup2 lt iszero",
         "rawType": "int64",
         "type": "integer"
        },
        {
         "name": "dup2 lt push2",
         "rawType": "int64",
         "type": "integer"
        },
        {
         "name": "dup2 mload",
         "rawType": "int64",
         "type": "integer"
        },
        {
         "name": "dup2 mload dup2",
         "rawType": "int64",
         "type": "integer"
        },
        {
         "name": "dup2 mstore",
         "rawType": "int64",
         "type": "integer"
        },
        {
         "name": "dup2 mstore pop",
         "rawType": "int64",
         "type": "integer"
        },
        {
         "name": "dup2 mstore push1",
         "rawType": "int64",
         "type": "integer"
        },
        {
         "name": "dup2 mstore swap1",
         "rawType": "int64",
         "type": "integer"
        },
        {
         "name": "dup2 push1",
         "rawType": "int64",
         "type": "integer"
        },
        {
         "name": "dup2 push1 dup8",
         "rawType": "int64",
         "type": "integer"
        },
        {
         "name": "dup2 push2",
         "rawType": "int64",
         "type": "integer"
        },
        {
         "name": "dup2 push2 jump",
         "rawType": "int64",
         "type": "integer"
        },
        {
         "name": "dup2 push20",
         "rawType": "int64",
         "type": "integer"
        },
        {
         "name": "dup2 push20 and",
         "rawType": "int64",
         "type": "integer"
        },
        {
         "name": "dup2 sha3",
         "rawType": "int64",
         "type": "integer"
        },
        {
         "name": "dup2 sload",
         "rawType": "int64",
         "type": "integer"
        },
        {
         "name": "dup2 sload dup2",
         "rawType": "int64",
         "type": "integer"
        },
        {
         "name": "dup2 sub",
         "rawType": "int64",
         "type": "integer"
        },
        {
         "name": "dup2 sub dup3",
         "rawType": "int64",
         "type": "integer"
        },
        {
         "name": "dup2 sub push1",
         "rawType": "int64",
         "type": "integer"
        },
        {
         "name": "dup2 swap1",
         "rawType": "int64",
         "type": "integer"
        },
        {
         "name": "dup2 swap1 mstore",
         "rawType": "int64",
         "type": "integer"
        },
        {
         "name": "dup2 swap1 sstore",
         "rawType": "int64",
         "type": "integer"
        },
        {
         "name": "dup2 swap1 sub",
         "rawType": "int64",
         "type": "integer"
        },
        {
         "name": "dup3",
         "rawType": "int64",
         "type": "integer"
        },
        {
         "name": "dup3 add",
         "rawType": "int64",
         "type": "integer"
        },
        {
         "name": "dup3 add and",
         "rawType": "int64",
         "type": "integer"
        },
        {
         "name": "dup3 add dup1",
         "rawType": "int64",
         "type": "integer"
        },
        {
         "name": "dup3 add mstore",
         "rawType": "int64",
         "type": "integer"
        },
        {
         "name": "dup3 add swap1",
         "rawType": "int64",
         "type": "integer"
        },
        {
         "name": "dup3 add swap2",
         "rawType": "int64",
         "type": "integer"
        },
        {
         "name": "dup3 and",
         "rawType": "int64",
         "type": "integer"
        },
        {
         "name": "dup3 and push1",
         "rawType": "int64",
         "type": "integer"
        },
        {
         "name": "dup3 and push2",
         "rawType": "int64",
         "type": "integer"
        },
        {
         "name": "dup3 dup1",
         "rawType": "int64",
         "type": "integer"
        },
        {
         "name": "dup3 dup2",
         "rawType": "int64",
         "type": "integer"
        },
        {
         "name": "dup3 dup2 mstore",
         "rawType": "int64",
         "type": "integer"
        },
        {
         "name": "dup3 dup2 sub",
         "rawType": "int64",
         "type": "integer"
        },
        {
         "name": "dup3 dup3",
         "rawType": "int64",
         "type": "integer"
        },
        {
         "name": "dup3 dup5",
         "rawType": "int64",
         "type": "integer"
        },
        {
         "name": "dup3 dup5 sub",
         "rawType": "int64",
         "type": "integer"
        },
        {
         "name": "dup3 dup6",
         "rawType": "int64",
         "type": "integer"
        },
        {
         "name": "dup3 dup7",
         "rawType": "int64",
         "type": "integer"
        },
        {
         "name": "dup3 gt",
         "rawType": "int64",
         "type": "integer"
        },
        {
         "name": "dup3 gt iszero",
         "rawType": "int64",
         "type": "integer"
        },
        {
         "name": "dup3 iszero",
         "rawType": "int64",
         "type": "integer"
        },
        {
         "name": "dup3 mstore",
         "rawType": "int64",
         "type": "integer"
        },
        {
         "name": "dup3 mstore push1",
         "rawType": "int64",
         "type": "integer"
        },
        {
         "name": "dup3 mstore swap2",
         "rawType": "int64",
         "type": "integer"
        },
        {
         "name": "dup3 push1",
         "rawType": "int64",
         "type": "integer"
        },
        {
         "name": "dup3 push2",
         "rawType": "int64",
         "type": "integer"
        },
        {
         "name": "dup3 push2 jump",
         "rawType": "int64",
         "type": "integer"
        },
        {
         "name": "dup3 push20",
         "rawType": "int64",
         "type": "integer"
        },
        {
         "name": "dup3 push20 and",
         "rawType": "int64",
         "type": "integer"
        },
        {
         "name": "dup3 swap1",
         "rawType": "int64",
         "type": "integer"
        },
        {
         "name": "dup3 swap1 sub",
         "rawType": "int64",
         "type": "integer"
        },
        {
         "name": "dup4",
         "rawType": "int64",
         "type": "integer"
        },
        {
         "name": "dup4 add",
         "rawType": "int64",
         "type": "integer"
        },
        {
         "name": "dup4 add mstore",
         "rawType": "int64",
         "type": "integer"
        },
        {
         "name": "dup4 and",
         "rawType": "int64",
         "type": "integer"
        },
        {
         "name": "dup4 and push1",
         "rawType": "int64",
         "type": "integer"
        },
        {
         "name": "dup4 dup2",
         "rawType": "int64",
         "type": "integer"
        },
        {
         "name": "dup4 dup2 lt",
         "rawType": "int64",
         "type": "integer"
        },
        {
         "name": "dup4 dup4",
         "rawType": "int64",
         "type": "integer"
        },
        {
         "name": "dup4 dup4 push1",
         "rawType": "int64",
         "type": "integer"
        },
        {
         "name": "dup4 dup6",
         "rawType": "int64",
         "type": "integer"
        },
        {
         "name": "dup4 dup6 sub",
         "rawType": "int64",
         "type": "integer"
        },
        {
         "name": "dup4 gt",
         "rawType": "int64",
         "type": "integer"
        },
        {
         "name": "dup4 gt push2",
         "rawType": "int64",
         "type": "integer"
        },
        {
         "name": "dup4 mstore",
         "rawType": "int64",
         "type": "integer"
        },
        {
         "name": "dup4 mstore swap2",
         "rawType": "int64",
         "type": "integer"
        },
        {
         "name": "dup4 push1",
         "rawType": "int64",
         "type": "integer"
        },
        {
         "name": "dup4 push1 mload",
         "rawType": "int64",
         "type": "integer"
        },
        {
         "name": "dup4 push2",
         "rawType": "int64",
         "type": "integer"
        },
        {
         "name": "dup4 push2 jump",
         "rawType": "int64",
         "type": "integer"
        },
        {
         "name": "dup4 push20",
         "rawType": "int64",
         "type": "integer"
        },
        {
         "name": "dup4 push20 and",
         "rawType": "int64",
         "type": "integer"
        },
        {
         "name": "dup4 sha3",
         "rawType": "int64",
         "type": "integer"
        },
        {
         "name": "dup4 sub",
         "rawType": "int64",
         "type": "integer"
        },
        {
         "name": "dup4 sub dup2",
         "rawType": "int64",
         "type": "integer"
        },
        {
         "name": "dup5",
         "rawType": "int64",
         "type": "integer"
        },
        {
         "name": "dup5 add",
         "rawType": "int64",
         "type": "integer"
        },
        {
         "name": "dup5 add mstore",
         "rawType": "int64",
         "type": "integer"
        },
        {
         "name": "dup5 and",
         "rawType": "int64",
         "type": "integer"
        },
        {
         "name": "dup5 dup2",
         "rawType": "int64",
         "type": "integer"
        },
        {
         "name": "dup5 dup5",
         "rawType": "int64",
         "type": "integer"
        },
        {
         "name": "dup5 dup5 dup5",
         "rawType": "int64",
         "type": "integer"
        },
        {
         "name": "dup5 dup5 push2",
         "rawType": "int64",
         "type": "integer"
        },
        {
         "name": "dup5 dup7",
         "rawType": "int64",
         "type": "integer"
        },
        {
         "name": "dup5 mstore",
         "rawType": "int64",
         "type": "integer"
        },
        {
         "name": "dup5 push1",
         "rawType": "int64",
         "type": "integer"
        },
        {
         "name": "dup5 push2",
         "rawType": "int64",
         "type": "integer"
        },
        {
         "name": "dup5 push2 jump",
         "rawType": "int64",
         "type": "integer"
        },
        {
         "name": "dup5 push20",
         "rawType": "int64",
         "type": "integer"
        },
        {
         "name": "dup5 push20 and",
         "rawType": "int64",
         "type": "integer"
        },
        {
         "name": "dup5 sub",
         "rawType": "int64",
         "type": "integer"
        },
        {
         "name": "dup5 sub slt",
         "rawType": "int64",
         "type": "integer"
        },
        {
         "name": "dup5 swap1",
         "rawType": "int64",
         "type": "integer"
        },
        {
         "name": "dup6",
         "rawType": "int64",
         "type": "integer"
        },
        {
         "name": "dup6 add",
         "rawType": "int64",
         "type": "integer"
        },
        {
         "name": "dup6 and",
         "rawType": "int64",
         "type": "integer"
        },
        {
         "name": "dup6 dup2",
         "rawType": "int64",
         "type": "integer"
        },
        {
         "name": "dup6 dup3",
         "rawType": "int64",
         "type": "integer"
        },
        {
         "name": "dup6 dup6",
         "rawType": "int64",
         "type": "integer"
        },
        {
         "name": "dup6 push1",
         "rawType": "int64",
         "type": "integer"
        },
        {
         "name": "dup6 push2",
         "rawType": "int64",
         "type": "integer"
        },
        {
         "name": "dup6 push2 jump",
         "rawType": "int64",
         "type": "integer"
        },
        {
         "name": "dup6 push20",
         "rawType": "int64",
         "type": "integer"
        },
        {
         "name": "dup6 push20 and",
         "rawType": "int64",
         "type": "integer"
        },
        {
         "name": "dup6 sub",
         "rawType": "int64",
         "type": "integer"
        },
        {
         "name": "dup6 sub slt",
         "rawType": "int64",
         "type": "integer"
        },
        {
         "name": "dup6 swap1",
         "rawType": "int64",
         "type": "integer"
        },
        {
         "name": "dup7",
         "rawType": "int64",
         "type": "integer"
        },
        {
         "name": "dup7 add",
         "rawType": "int64",
         "type": "integer"
        },
        {
         "name": "dup7 push2",
         "rawType": "int64",
         "type": "integer"
        },
        {
         "name": "dup7 push2 jump",
         "rawType": "int64",
         "type": "integer"
        },
        {
         "name": "dup8",
         "rawType": "int64",
         "type": "integer"
        },
        {
         "name": "dup8 add",
         "rawType": "int64",
         "type": "integer"
        },
        {
         "name": "dup8 and",
         "rawType": "int64",
         "type": "integer"
        },
        {
         "name": "dup9",
         "rawType": "int64",
         "type": "integer"
        },
        {
         "name": "eq",
         "rawType": "int64",
         "type": "integer"
        },
        {
         "name": "eq iszero",
         "rawType": "int64",
         "type": "integer"
        },
        {
         "name": "eq iszero push2",
         "rawType": "int64",
         "type": "integer"
        },
        {
         "name": "eq push2",
         "rawType": "int64",
         "type": "integer"
        },
        {
         "name": "eq push2 jumpi",
         "rawType": "int64",
         "type": "integer"
        },
        {
         "name": "eq push3",
         "rawType": "int64",
         "type": "integer"
        },
        {
         "name": "eq push3 jumpi",
         "rawType": "int64",
         "type": "integer"
        },
        {
         "name": "exp",
         "rawType": "int64",
         "type": "integer"
        },
        {
         "name": "exp dup2",
         "rawType": "int64",
         "type": "integer"
        },
        {
         "name": "exp dup2 sload",
         "rawType": "int64",
         "type": "integer"
        },
        {
         "name": "exp swap1",
         "rawType": "int64",
         "type": "integer"
        },
        {
         "name": "exp swap1 div",
         "rawType": "int64",
         "type": "integer"
        },
        {
         "name": "extcodesize",
         "rawType": "int64",
         "type": "integer"
        },
        {
         "name": "extcodesize iszero",
         "rawType": "int64",
         "type": "integer"
        },
        {
         "name": "extcodesize iszero dup1",
         "rawType": "int64",
         "type": "integer"
        },
        {
         "name": "gas",
         "rawType": "int64",
         "type": "integer"
        },
        {
         "name": "gas call",
         "rawType": "int64",
         "type": "integer"
        },
        {
         "name": "gas call iszero",
         "rawType": "int64",
         "type": "integer"
        },
        {
         "name": "gas staticcall",
         "rawType": "int64",
         "type": "integer"
        },
        {
         "name": "gas staticcall iszero",
         "rawType": "int64",
         "type": "integer"
        },
        {
         "name": "gasprice",
         "rawType": "int64",
         "type": "integer"
        },
        {
         "name": "gasprice sha3",
         "rawType": "int64",
         "type": "integer"
        },
        {
         "name": "gt",
         "rawType": "int64",
         "type": "integer"
        },
        {
         "name": "gt iszero",
         "rawType": "int64",
         "type": "integer"
        },
        {
         "name": "gt iszero push2",
         "rawType": "int64",
         "type": "integer"
        },
        {
         "name": "gt push2",
         "rawType": "int64",
         "type": "integer"
        },
        {
         "name": "gt push2 jumpi",
         "rawType": "int64",
         "type": "integer"
        },
        {
         "name": "iszero",
         "rawType": "int64",
         "type": "integer"
        },
        {
         "name": "iszero dup1",
         "rawType": "int64",
         "type": "integer"
        },
        {
         "name": "iszero dup1 iszero",
         "rawType": "int64",
         "type": "integer"
        },
        {
         "name": "iszero dup2",
         "rawType": "int64",
         "type": "integer"
        },
        {
         "name": "iszero dup2 mstore",
         "rawType": "int64",
         "type": "integer"
        },
        {
         "name": "iszero iszero",
         "rawType": "int64",
         "type": "integer"
        },
        {
         "name": "iszero iszero dup2",
         "rawType": "int64",
         "type": "integer"
        },
        {
         "name": "iszero jumpdest",
         "rawType": "int64",
         "type": "integer"
        },
        {
         "name": "iszero push2",
         "rawType": "int64",
         "type": "integer"
        },
        {
         "name": "iszero push2 jumpi",
         "rawType": "int64",
         "type": "integer"
        },
        {
         "name": "iszero push3",
         "rawType": "int64",
         "type": "integer"
        },
        {
         "name": "iszero push3 jumpi",
         "rawType": "int64",
         "type": "integer"
        },
        {
         "name": "jump",
         "rawType": "int64",
         "type": "integer"
        },
        {
         "name": "jump jumpdest",
         "rawType": "int64",
         "type": "integer"
        },
        {
         "name": "jump jumpdest callvalue",
         "rawType": "int64",
         "type": "integer"
        },
        {
         "name": "jump jumpdest dup1",
         "rawType": "int64",
         "type": "integer"
        },
        {
         "name": "jump jumpdest dup2",
         "rawType": "int64",
         "type": "integer"
        },
        {
         "name": "jump jumpdest dup3",
         "rawType": "int64",
         "type": "integer"
        },
        {
         "name": "jump jumpdest dup5",
         "rawType": "int64",
         "type": "integer"
        },
        {
         "name": "jump jumpdest jumpdest",
         "rawType": "int64",
         "type": "integer"
        },
        {
         "name": "jump jumpdest pop",
         "rawType": "int64",
         "type": "integer"
        },
        {
         "name": "jump jumpdest push1",
         "rawType": "int64",
         "type": "integer"
        },
        {
         "name": "jump jumpdest push2",
         "rawType": "int64",
         "type": "integer"
        },
        {
         "name": "jump jumpdest push20",
         "rawType": "int64",
         "type": "integer"
        },
        {
         "name": "jump jumpdest push3",
         "rawType": "int64",
         "type": "integer"
        },
        {
         "name": "jump jumpdest push32",
         "rawType": "int64",
         "type": "integer"
        },
        {
         "name": "jump jumpdest stop",
         "rawType": "int64",
         "type": "integer"
        },
        {
         "name": "jump jumpdest swap1",
         "rawType": "int64",
         "type": "integer"
        },
        {
         "name": "jump jumpdest swap2",
         "rawType": "int64",
         "type": "integer"
        },
        {
         "name": "jump jumpdest swap3",
         "rawType": "int64",
         "type": "integer"
        },
        {
         "name": "jump jumpdest swap4",
         "rawType": "int64",
         "type": "integer"
        },
        {
         "name": "jump jumpdest unknown_0x5f",
         "rawType": "int64",
         "type": "integer"
        },
        {
         "name": "jumpdest",
         "rawType": "int64",
         "type": "integer"
        },
        {
         "name": "jumpdest callvalue",
         "rawType": "int64",
         "type": "integer"
        },
        {
         "name": "jumpdest callvalue dup1",
         "rawType": "int64",
         "type": "integer"
        },
        {
         "name": "jumpdest dup1",
         "rawType": "int64",
         "type": "integer"
        },
        {
         "name": "jumpdest dup1 iszero",
         "rawType": "int64",
         "type": "integer"
        },
        {
         "name": "jumpdest dup1 push1",
         "rawType": "int64",
         "type": "integer"
        },
        {
         "name": "jumpdest dup1 push4",
         "rawType": "int64",
         "type": "integer"
        },
        {
         "name": "jumpdest dup2",
         "rawType": "int64",
         "type": "integer"
        },
        {
         "name": "jumpdest dup2 add",
         "rawType": "int64",
         "type": "integer"
        },
        {
         "name": "jumpdest dup2 dup2",
         "rawType": "int64",
         "type": "integer"
        },
        {
         "name": "jumpdest dup3",
         "rawType": "int64",
         "type": "integer"
        },
        {
         "name": "jumpdest dup4",
         "rawType": "int64",
         "type": "integer"
        },
        {
         "name": "jumpdest dup4 dup2",
         "rawType": "int64",
         "type": "integer"
        },
        {
         "name": "jumpdest dup5",
         "rawType": "int64",
         "type": "integer"
        },
        {
         "name": "jumpdest iszero",
         "rawType": "int64",
         "type": "integer"
        },
        {
         "name": "jumpdest iszero push2",
         "rawType": "int64",
         "type": "integer"
        },
        {
         "name": "jumpdest jumpdest",
         "rawType": "int64",
         "type": "integer"
        },
        {
         "name": "jumpdest jumpdest push1",
         "rawType": "int64",
         "type": "integer"
        },
        {
         "name": "jumpdest pop",
         "rawType": "int64",
         "type": "integer"
        },
        {
         "name": "jumpdest pop gas",
         "rawType": "int64",
         "type": "integer"
        },
        {
         "name": "jumpdest pop jump",
         "rawType": "int64",
         "type": "integer"
        },
        {
         "name": "jumpdest pop pop",
         "rawType": "int64",
         "type": "integer"
        },
        {
         "name": "jumpdest pop push1",
         "rawType": "int64",
         "type": "integer"
        },
        {
         "name": "jumpdest pop push2",
         "rawType": "int64",
         "type": "integer"
        },
        {
         "name": "jumpdest push1",
         "rawType": "int64",
         "type": "integer"
        },
        {
         "name": "jumpdest push1 dup1",
         "rawType": "int64",
         "type": "integer"
        },
        {
         "name": "jumpdest push1 dup2",
         "rawType": "int64",
         "type": "integer"
        },
        {
         "name": "jumpdest push1 dup3",
         "rawType": "int64",
         "type": "integer"
        },
        {
         "name": "jumpdest push1 mload",
         "rawType": "int64",
         "type": "integer"
        },
        {
         "name": "jumpdest push1 push1",
         "rawType": "int64",
         "type": "integer"
        },
        {
         "name": "jumpdest push1 push2",
         "rawType": "int64",
         "type": "integer"
        },
        {
         "name": "jumpdest push1 push20",
         "rawType": "int64",
         "type": "integer"
        },
        {
         "name": "jumpdest push1 sload",
         "rawType": "int64",
         "type": "integer"
        },
        {
         "name": "jumpdest push1 swap1",
         "rawType": "int64",
         "type": "integer"
        },
        {
         "name": "jumpdest push1 swap2",
         "rawType": "int64",
         "type": "integer"
        },
        {
         "name": "jumpdest push2",
         "rawType": "int64",
         "type": "integer"
        },
        {
         "name": "jumpdest push2 dup2",
         "rawType": "int64",
         "type": "integer"
        },
        {
         "name": "jumpdest push2 dup3",
         "rawType": "int64",
         "type": "integer"
        },
        {
         "name": "jumpdest push2 dup4",
         "rawType": "int64",
         "type": "integer"
        },
        {
         "name": "jumpdest push2 dup5",
         "rawType": "int64",
         "type": "integer"
        },
        {
         "name": "jumpdest push2 jump",
         "rawType": "int64",
         "type": "integer"
        },
        {
         "name": "jumpdest push2 jumpi",
         "rawType": "int64",
         "type": "integer"
        },
        {
         "name": "jumpdest push2 push1",
         "rawType": "int64",
         "type": "integer"
        },
        {
         "name": "jumpdest push2 push2",
         "rawType": "int64",
         "type": "integer"
        },
        {
         "name": "jumpdest push2 swap1",
         "rawType": "int64",
         "type": "integer"
        },
        {
         "name": "jumpdest push2 swap2",
         "rawType": "int64",
         "type": "integer"
        },
        {
         "name": "jumpdest push20",
         "rawType": "int64",
         "type": "integer"
        },
        {
         "name": "jumpdest push20 and",
         "rawType": "int64",
         "type": "integer"
        },
        {
         "name": "jumpdest push3",
         "rawType": "int64",
         "type": "integer"
        },
        {
         "name": "jumpdest push32",
         "rawType": "int64",
         "type": "integer"
        },
        {
         "name": "jumpdest push32 push1",
         "rawType": "int64",
         "type": "integer"
        },
        {
         "name": "jumpdest stop",
         "rawType": "int64",
         "type": "integer"
        },
        {
         "name": "jumpdest stop jumpdest",
         "rawType": "int64",
         "type": "integer"
        },
        {
         "name": "jumpdest swap1",
         "rawType": "int64",
         "type": "integer"
        },
        {
         "name": "jumpdest swap1 pop",
         "rawType": "int64",
         "type": "integer"
        },
        {
         "name": "jumpdest swap2",
         "rawType": "int64",
         "type": "integer"
        },
        {
         "name": "jumpdest swap2 pop",
         "rawType": "int64",
         "type": "integer"
        },
        {
         "name": "jumpdest swap3",
         "rawType": "int64",
         "type": "integer"
        },
        {
         "name": "jumpdest swap3 pop",
         "rawType": "int64",
         "type": "integer"
        },
        {
         "name": "jumpdest swap3 swap2",
         "rawType": "int64",
         "type": "integer"
        },
        {
         "name": "jumpdest swap4",
         "rawType": "int64",
         "type": "integer"
        },
        {
         "name": "jumpdest unknown_0x5f",
         "rawType": "int64",
         "type": "integer"
        },
        {
         "name": "jumpi",
         "rawType": "int64",
         "type": "integer"
        },
        {
         "name": "jumpi dup1",
         "rawType": "int64",
         "type": "integer"
        },
        {
         "name": "jumpi dup1 dup3",
         "rawType": "int64",
         "type": "integer"
        },
        {
         "name": "jumpi dup1 push1",
         "rawType": "int64",
         "type": "integer"
        },
        {
         "name": "jumpi dup1 push4",
         "rawType": "int64",
         "type": "integer"
        },
        {
         "name": "jumpi dup2",
         "rawType": "int64",
         "type": "integer"
        },
        {
         "name": "jumpi dup3",
         "rawType": "int64",
         "type": "integer"
        },
        {
         "name": "jumpi pop",
         "rawType": "int64",
         "type": "integer"
        },
        {
         "name": "jumpi pop push1",
         "rawType": "int64",
         "type": "integer"
        },
        {
         "name": "jumpi push1",
         "rawType": "int64",
         "type": "integer"
        },
        {
         "name": "jumpi push1 dup1",
         "rawType": "int64",
         "type": "integer"
        },
        {
         "name": "jumpi push1 mload",
         "rawType": "int64",
         "type": "integer"
        },
        {
         "name": "jumpi push1 push1",
         "rawType": "int64",
         "type": "integer"
        },
        {
         "name": "jumpi push2",
         "rawType": "int64",
         "type": "integer"
        },
        {
         "name": "jumpi push2 jump",
         "rawType": "int64",
         "type": "integer"
        },
        {
         "name": "jumpi push2 push2",
         "rawType": "int64",
         "type": "integer"
        },
        {
         "name": "jumpi returndatasize",
         "rawType": "int64",
         "type": "integer"
        },
        {
         "name": "jumpi returndatasize push1",
         "rawType": "int64",
         "type": "integer"
        },
        {
         "name": "jumpi unknown_0x5f",
         "rawType": "int64",
         "type": "integer"
        },
        {
         "name": "jumpi unknown_0x5f dup1",
         "rawType": "int64",
         "type": "integer"
        },
        {
         "name": "log3",
         "rawType": "int64",
         "type": "integer"
        },
        {
         "name": "log3 pop",
         "rawType": "int64",
         "type": "integer"
        },
        {
         "name": "log3 pop pop",
         "rawType": "int64",
         "type": "integer"
        },
        {
         "name": "lt",
         "rawType": "int64",
         "type": "integer"
        },
        {
         "name": "lt iszero",
         "rawType": "int64",
         "type": "integer"
        },
        {
         "name": "lt iszero push2",
         "rawType": "int64",
         "type": "integer"
        },
        {
         "name": "lt push2",
         "rawType": "int64",
         "type": "integer"
        },
        {
         "name": "lt push2 jumpi",
         "rawType": "int64",
         "type": "integer"
        },
        {
         "name": "mload",
         "rawType": "int64",
         "type": "integer"
        },
        {
         "name": "mload dup1",
         "rawType": "int64",
         "type": "integer"
        },
        {
         "name": "mload dup1 dup3",
         "rawType": "int64",
         "type": "integer"
        },
        {
         "name": "mload dup1 dup4",
         "rawType": "int64",
         "type": "integer"
        },
        {
         "name": "mload dup1 push1",
         "rawType": "int64",
         "type": "integer"
        },
        {
         "name": "mload dup1 swap2",
         "rawType": "int64",
         "type": "integer"
        },
        {
         "name": "mload dup2",
         "rawType": "int64",
         "type": "integer"
        },
        {
         "name": "mload push1",
         "rawType": "int64",
         "type": "integer"
        },
        {
         "name": "mload push1 push1",
         "rawType": "int64",
         "type": "integer"
        },
        {
         "name": "mload push2",
         "rawType": "int64",
         "type": "integer"
        },
        {
         "name": "mload push2 swap2",
         "rawType": "int64",
         "type": "integer"
        },
        {
         "name": "mload push3",
         "rawType": "int64",
         "type": "integer"
        },
        {
         "name": "mload push3 push1",
         "rawType": "int64",
         "type": "integer"
        },
        {
         "name": "mload push32",
         "rawType": "int64",
         "type": "integer"
        },
        {
         "name": "mload push32 dup2",
         "rawType": "int64",
         "type": "integer"
        },
        {
         "name": "mload push4",
         "rawType": "int64",
         "type": "integer"
        },
        {
         "name": "mload push4 push1",
         "rawType": "int64",
         "type": "integer"
        },
        {
         "name": "mload returndatasize",
         "rawType": "int64",
         "type": "integer"
        },
        {
         "name": "mload returndatasize push1",
         "rawType": "int64",
         "type": "integer"
        },
        {
         "name": "mload swap1",
         "rawType": "int64",
         "type": "integer"
        },
        {
         "name": "mload swap1 dup2",
         "rawType": "int64",
         "type": "integer"
        },
        {
         "name": "mload swap1 push1",
         "rawType": "int64",
         "type": "integer"
        },
        {
         "name": "mload swap2",
         "rawType": "int64",
         "type": "integer"
        },
        {
         "name": "mstore",
         "rawType": "int64",
         "type": "integer"
        },
        {
         "name": "mstore dup1",
         "rawType": "int64",
         "type": "integer"
        },
        {
         "name": "mstore dup1 push1",
         "rawType": "int64",
         "type": "integer"
        },
        {
         "name": "mstore dup2",
         "rawType": "int64",
         "type": "integer"
        },
        {
         "name": "mstore dup3",
         "rawType": "int64",
         "type": "integer"
        },
        {
         "name": "mstore dup4",
         "rawType": "int64",
         "type": "integer"
        },
        {
         "name": "mstore pop",
         "rawType": "int64",
         "type": "integer"
        },
        {
         "name": "mstore pop dup2",
         "rawType": "int64",
         "type": "integer"
        },
        {
         "name": "mstore pop jump",
         "rawType": "int64",
         "type": "integer"
        },
        {
         "name": "mstore pop pop",
         "rawType": "int64",
         "type": "integer"
        },
        {
         "name": "mstore pop push1",
         "rawType": "int64",
         "type": "integer"
        },
        {
         "name": "mstore push1",
         "rawType": "int64",
         "type": "integer"
        },
        {
         "name": "mstore push1 add",
         "rawType": "int64",
         "type": "integer"
        },
        {
         "name": "mstore push1 dup1",
         "rawType": "int64",
         "type": "integer"
        },
        {
         "name": "mstore push1 dup2",
         "rawType": "int64",
         "type": "integer"
        },
        {
         "name": "mstore push1 dup3",
         "rawType": "int64",
         "type": "integer"
        },
        {
         "name": "mstore push1 push1",
         "rawType": "int64",
         "type": "integer"
        },
        {
         "name": "mstore push1 swap1",
         "rawType": "int64",
         "type": "integer"
        },
        {
         "name": "mstore push2",
         "rawType": "int64",
         "type": "integer"
        },
        {
         "name": "mstore push2 dup2",
         "rawType": "int64",
         "type": "integer"
        },
        {
         "name": "mstore push32",
         "rawType": "int64",
         "type": "integer"
        },
        {
         "name": "mstore push32 push1",
         "rawType": "int64",
         "type": "integer"
        },
        {
         "name": "mstore sha3",
         "rawType": "int64",
         "type": "integer"
        },
        {
         "name": "mstore swap1",
         "rawType": "int64",
         "type": "integer"
        },
        {
         "name": "mstore swap1 mload",
         "rawType": "int64",
         "type": "integer"
        },
        {
         "name": "mstore swap1 push1",
         "rawType": "int64",
         "type": "integer"
        },
        {
         "name": "mstore swap1 swap2",
         "rawType": "int64",
         "type": "integer"
        },
        {
         "name": "mstore swap2",
         "rawType": "int64",
         "type": "integer"
        },
        {
         "name": "mul",
         "rawType": "int64",
         "type": "integer"
        },
        {
         "name": "mul dup4",
         "rawType": "int64",
         "type": "integer"
        },
        {
         "name": "mul not",
         "rawType": "int64",
         "type": "integer"
        },
        {
         "name": "mul not and",
         "rawType": "int64",
         "type": "integer"
        },
        {
         "name": "mul or",
         "rawType": "int64",
         "type": "integer"
        },
        {
         "name": "mul or swap1",
         "rawType": "int64",
         "type": "integer"
        },
        {
         "name": "mul push1",
         "rawType": "int64",
         "type": "integer"
        },
        {
         "name": "mul push1 add",
         "rawType": "int64",
         "type": "integer"
        },
        {
         "name": "not",
         "rawType": "int64",
         "type": "integer"
        },
        {
         "name": "not and",
         "rawType": "int64",
         "type": "integer"
        },
        {
         "name": "not and push1",
         "rawType": "int64",
         "type": "integer"
        },
        {
         "name": "not and swap1",
         "rawType": "int64",
         "type": "integer"
        },
        {
         "name": "not push1",
         "rawType": "int64",
         "type": "integer"
        },
        {
         "name": "not push1 dup3",
         "rawType": "int64",
         "type": "integer"
        },
        {
         "name": "or",
         "rawType": "int64",
         "type": "integer"
        },
        {
         "name": "or swap1",
         "rawType": "int64",
         "type": "integer"
        },
        {
         "name": "or swap1 sstore",
         "rawType": "int64",
         "type": "integer"
        },
        {
         "name": "origin",
         "rawType": "int64",
         "type": "integer"
        },
        {
         "name": "pop",
         "rawType": "int64",
         "type": "integer"
        },
        {
         "name": "pop dup1",
         "rawType": "int64",
         "type": "integer"
        },
        {
         "name": "pop dup2",
         "rawType": "int64",
         "type": "integer"
        },
        {
         "name": "pop dup2 add",
         "rawType": "int64",
         "type": "integer"
        },
        {
         "name": "pop dup2 dup2",
         "rawType": "int64",
         "type": "integer"
        },
        {
         "name": "pop dup3",
         "rawType": "int64",
         "type": "integer"
        },
        {
         "name": "pop gas",
         "rawType": "int64",
         "type": "integer"
        },
        {
         "name": "pop jump",
         "rawType": "int64",
         "type": "integer"
        },
        {
         "name": "pop jump jumpdest",
         "rawType": "int64",
         "type": "integer"
        },
        {
         "name": "pop jumpdest",
         "rawType": "int64",
         "type": "integer"
        },
        {
         "name": "pop jumpdest pop",
         "rawType": "int64",
         "type": "integer"
        },
        {
         "name": "pop pop",
         "rawType": "int64",
         "type": "integer"
        },
        {
         "name": "pop pop jump",
         "rawType": "int64",
         "type": "integer"
        },
        {
         "name": "pop pop pop",
         "rawType": "int64",
         "type": "integer"
        },
        {
         "name": "pop pop push1",
         "rawType": "int64",
         "type": "integer"
        },
        {
         "name": "pop pop push2",
         "rawType": "int64",
         "type": "integer"
        },
        {
         "name": "pop pop swap1",
         "rawType": "int64",
         "type": "integer"
        },
        {
         "name": "pop pop swap3",
         "rawType": "int64",
         "type": "integer"
        },
        {
         "name": "pop push1",
         "rawType": "int64",
         "type": "integer"
        },
        {
         "name": "pop push1 add",
         "rawType": "int64",
         "type": "integer"
        },
        {
         "name": "pop push1 mload",
         "rawType": "int64",
         "type": "integer"
        },
        {
         "name": "pop push1 push1",
         "rawType": "int64",
         "type": "integer"
        },
        {
         "name": "pop push1 push2",
         "rawType": "int64",
         "type": "integer"
        },
        {
         "name": "pop push1 sload",
         "rawType": "int64",
         "type": "integer"
        },
        {
         "name": "pop push2",
         "rawType": "int64",
         "type": "integer"
        },
        {
         "name": "pop push2 dup2",
         "rawType": "int64",
         "type": "integer"
        },
        {
         "name": "pop push2 dup3",
         "rawType": "int64",
         "type": "integer"
        },
        {
         "name": "pop push2 jump",
         "rawType": "int64",
         "type": "integer"
        },
        {
         "name": "pop push2 push1",
         "rawType": "int64",
         "type": "integer"
        },
        {
         "name": "pop push2 push2",
         "rawType": "int64",
         "type": "integer"
        },
        {
         "name": "pop swap1",
         "rawType": "int64",
         "type": "integer"
        },
        {
         "name": "pop swap1 jump",
         "rawType": "int64",
         "type": "integer"
        },
        {
         "name": "pop swap1 pop",
         "rawType": "int64",
         "type": "integer"
        },
        {
         "name": "pop swap2",
         "rawType": "int64",
         "type": "integer"
        },
        {
         "name": "pop swap2 swap1",
         "rawType": "int64",
         "type": "integer"
        },
        {
         "name": "pop swap3",
         "rawType": "int64",
         "type": "integer"
        },
        {
         "name": "pop swap3 pop",
         "rawType": "int64",
         "type": "integer"
        },
        {
         "name": "pop swap3 swap2",
         "rawType": "int64",
         "type": "integer"
        },
        {
         "name": "pop swap4",
         "rawType": "int64",
         "type": "integer"
        },
        {
         "name": "push1",
         "rawType": "int64",
         "type": "integer"
        },
        {
         "name": "push1 add",
         "rawType": "int64",
         "type": "integer"
        },
        {
         "name": "push1 add dup1",
         "rawType": "int64",
         "type": "integer"
        },
        {
         "name": "push1 add dup3",
         "rawType": "int64",
         "type": "integer"
        },
        {
         "name": "push1 add push1",
         "rawType": "int64",
         "type": "integer"
        },
        {
         "name": "push1 add push2",
         "rawType": "int64",
         "type": "integer"
        },
        {
         "name": "push1 add sload",
         "rawType": "int64",
         "type": "integer"
        },
        {
         "name": "push1 add swap1",
         "rawType": "int64",
         "type": "integer"
        },
        {
         "name": "push1 add swap2",
         "rawType": "int64",
         "type": "integer"
        },
        {
         "name": "push1 and",
         "rawType": "int64",
         "type": "integer"
        },
        {
         "name": "push1 and iszero",
         "rawType": "int64",
         "type": "integer"
        },
        {
         "name": "push1 caller",
         "rawType": "int64",
         "type": "integer"
        },
        {
         "name": "push1 dup1",
         "rawType": "int64",
         "type": "integer"
        },
        {
         "name": "push1 dup1 calldatasize",
         "rawType": "int64",
         "type": "integer"
        },
        {
         "name": "push1 dup1 dup3",
         "rawType": "int64",
         "type": "integer"
        },
        {
         "name": "push1 dup1 dup4",
         "rawType": "int64",
         "type": "integer"
        },
        {
         "name": "push1 dup1 mload",
         "rawType": "int64",
         "type": "integer"
        },
        {
         "name": "push1 dup1 push1",
         "rawType": "int64",
         "type": "integer"
        },
        {
         "name": "push1 dup1 returndatacopy",
         "rawType": "int64",
         "type": "integer"
        },
        {
         "name": "push1 dup1 revert",
         "rawType": "int64",
         "type": "integer"
        },
        {
         "name": "push1 dup1 sload",
         "rawType": "int64",
         "type": "integer"
        },
        {
         "name": "push1 dup2",
         "rawType": "int64",
         "type": "integer"
        },
        {
         "name": "push1 dup2 add",
         "rawType": "int64",
         "type": "integer"
        },
        {
         "name": "push1 dup2 dup2",
         "rawType": "int64",
         "type": "integer"
        },
        {
         "name": "push1 dup2 gt",
         "rawType": "int64",
         "type": "integer"
        },
        {
         "name": "push1 dup2 lt",
         "rawType": "int64",
         "type": "integer"
        },
        {
         "name": "push1 dup2 mstore",
         "rawType": "int64",
         "type": "integer"
        },
        {
         "name": "push1 dup2 push1",
         "rawType": "int64",
         "type": "integer"
        },
        {
         "name": "push1 dup2 sha3",
         "rawType": "int64",
         "type": "integer"
        },
        {
         "name": "push1 dup2 swap1",
         "rawType": "int64",
         "type": "integer"
        },
        {
         "name": "push1 dup3",
         "rawType": "int64",
         "type": "integer"
        },
        {
         "name": "push1 dup3 add",
         "rawType": "int64",
         "type": "integer"
        },
        {
         "name": "push1 dup3 dup3",
         "rawType": "int64",
         "type": "integer"
        },
        {
         "name": "push1 dup3 dup5",
         "rawType": "int64",
         "type": "integer"
        },
        {
         "name": "push1 dup4",
         "rawType": "int64",
         "type": "integer"
        },
        {
         "name": "push1 dup4 add",
         "rawType": "int64",
         "type": "integer"
        },
        {
         "name": "push1 dup4 dup6",
         "rawType": "int64",
         "type": "integer"
        },
        {
         "name": "push1 dup4 push2",
         "rawType": "int64",
         "type": "integer"
        },
        {
         "name": "push1 dup5",
         "rawType": "int64",
         "type": "integer"
        },
        {
         "name": "push1 dup5 add",
         "rawType": "int64",
         "type": "integer"
        },
        {
         "name": "push1 dup5 push20",
         "rawType": "int64",
         "type": "integer"
        },
        {
         "name": "push1 dup6",
         "rawType": "int64",
         "type": "integer"
        },
        {
         "name": "push1 dup6 push20",
         "rawType": "int64",
         "type": "integer"
        },
        {
         "name": "push1 dup7",
         "rawType": "int64",
         "type": "integer"
        },
        {
         "name": "push1 dup8",
         "rawType": "int64",
         "type": "integer"
        },
        {
         "name": "push1 jumpdest",
         "rawType": "int64",
         "type": "integer"
        },
        {
         "name": "push1 lt",
         "rawType": "int64",
         "type": "integer"
        },
        {
         "name": "push1 mload",
         "rawType": "int64",
         "type": "integer"
        },
        {
         "name": "push1 mload dup1",
         "rawType": "int64",
         "type": "integer"
        },
        {
         "name": "push1 mload push1",
         "rawType": "int64",
         "type": "integer"
        },
        {
         "name": "push1 mload push2",
         "rawType": "int64",
         "type": "integer"
        },
        {
         "name": "push1 mload push3",
         "rawType": "int64",
         "type": "integer"
        },
        {
         "name": "push1 mload push32",
         "rawType": "int64",
         "type": "integer"
        },
        {
         "name": "push1 mload push4",
         "rawType": "int64",
         "type": "integer"
        },
        {
         "name": "push1 mload returndatasize",
         "rawType": "int64",
         "type": "integer"
        },
        {
         "name": "push1 mload swap1",
         "rawType": "int64",
         "type": "integer"
        },
        {
         "name": "push1 mstore",
         "rawType": "int64",
         "type": "integer"
        },
        {
         "name": "push1 mstore dup1",
         "rawType": "int64",
         "type": "integer"
        },
        {
         "name": "push1 mstore pop",
         "rawType": "int64",
         "type": "integer"
        },
        {
         "name": "push1 mstore push1",
         "rawType": "int64",
         "type": "integer"
        },
        {
         "name": "push1 mul",
         "rawType": "int64",
         "type": "integer"
        },
        {
         "name": "push1 not",
         "rawType": "int64",
         "type": "integer"
        },
        {
         "name": "push1 not and",
         "rawType": "int64",
         "type": "integer"
        },
        {
         "name": "push1 not push1",
         "rawType": "int64",
         "type": "integer"
        },
        {
         "name": "push1 push1",
         "rawType": "int64",
         "type": "integer"
        },
        {
         "name": "push1 push1 dup1",
         "rawType": "int64",
         "type": "integer"
        },
        {
         "name": "push1 push1 dup3",
         "rawType": "int64",
         "type": "integer"
        },
        {
         "name": "push1 push1 dup5",
         "rawType": "int64",
         "type": "integer"
        },
        {
         "name": "push1 push1 dup6",
         "rawType": "int64",
         "type": "integer"
        },
        {
         "name": "push1 push1 mload",
         "rawType": "int64",
         "type": "integer"
        },
        {
         "name": "push1 push1 mstore",
         "rawType": "int64",
         "type": "integer"
        },
        {
         "name": "push1 push1 push1",
         "rawType": "int64",
         "type": "integer"
        },
        {
         "name": "push1 push1 push2",
         "rawType": "int64",
         "type": "integer"
        },
        {
         "name": "push1 push1 revert",
         "rawType": "int64",
         "type": "integer"
        },
        {
         "name": "push1 push1 sha3",
         "rawType": "int64",
         "type": "integer"
        },
        {
         "name": "push1 push1 shl",
         "rawType": "int64",
         "type": "integer"
        },
        {
         "name": "push1 push1 swap1",
         "rawType": "int64",
         "type": "integer"
        },
        {
         "name": "push1 push2",
         "rawType": "int64",
         "type": "integer"
        },
        {
         "name": "push1 push2 dup3",
         "rawType": "int64",
         "type": "integer"
        },
        {
         "name": "push1 push2 dup4",
         "rawType": "int64",
         "type": "integer"
        },
        {
         "name": "push1 push2 dup5",
         "rawType": "int64",
         "type": "integer"
        },
        {
         "name": "push1 push2 jump",
         "rawType": "int64",
         "type": "integer"
        },
        {
         "name": "push1 push2 push1",
         "rawType": "int64",
         "type": "integer"
        },
        {
         "name": "push1 push2 push2",
         "rawType": "int64",
         "type": "integer"
        },
        {
         "name": "push1 push20",
         "rawType": "int64",
         "type": "integer"
        },
        {
         "name": "push1 push20 and",
         "rawType": "int64",
         "type": "integer"
        },
        {
         "name": "push1 revert",
         "rawType": "int64",
         "type": "integer"
        },
        {
         "name": "push1 revert jumpdest",
         "rawType": "int64",
         "type": "integer"
        },
        {
         "name": "push1 sha3",
         "rawType": "int64",
         "type": "integer"
        },
        {
         "name": "push1 sha3 dup2",
         "rawType": "int64",
         "type": "integer"
        },
        {
         "name": "push1 sha3 push1",
         "rawType": "int64",
         "type": "integer"
        },
        {
         "name": "push1 sha3 sload",
         "rawType": "int64",
         "type": "integer"
        },
        {
         "name": "push1 sha3 swap1",
         "rawType": "int64",
         "type": "integer"
        },
        {
         "name": "push1 shl",
         "rawType": "int64",
         "type": "integer"
        },
        {
         "name": "push1 shl dup2",
         "rawType": "int64",
         "type": "integer"
        },
        {
         "name": "push1 shl push1",
         "rawType": "int64",
         "type": "integer"
        },
        {
         "name": "push1 shl sub",
         "rawType": "int64",
         "type": "integer"
        },
        {
         "name": "push1 shl swap1",
         "rawType": "int64",
         "type": "integer"
        },
        {
         "name": "push1 shr",
         "rawType": "int64",
         "type": "integer"
        },
        {
         "name": "push1 sload",
         "rawType": "int64",
         "type": "integer"
        },
        {
         "name": "push1 sload dup2",
         "rawType": "int64",
         "type": "integer"
        },
        {
         "name": "push1 sload push1",
         "rawType": "int64",
         "type": "integer"
        },
        {
         "name": "push1 sload push2",
         "rawType": "int64",
         "type": "integer"
        },
        {
         "name": "push1 sstore",
         "rawType": "int64",
         "type": "integer"
        },
        {
         "name": "push1 swap1",
         "rawType": "int64",
         "type": "integer"
        },
        {
         "name": "push1 swap1 dup2",
         "rawType": "int64",
         "type": "integer"
        },
        {
         "name": "push1 swap1 pop",
         "rawType": "int64",
         "type": "integer"
        },
        {
         "name": "push1 swap1 sha3",
         "rawType": "int64",
         "type": "integer"
        },
        {
         "name": "push1 swap1 sload",
         "rawType": "int64",
         "type": "integer"
        },
        {
         "name": "push1 swap2",
         "rawType": "int64",
         "type": "integer"
        },
        {
         "name": "push1 swap2 codecopy",
         "rawType": "int64",
         "type": "integer"
        },
        {
         "name": "push1 swap2 dup3",
         "rawType": "int64",
         "type": "integer"
        },
        {
         "name": "push1 swap3",
         "rawType": "int64",
         "type": "integer"
        },
        {
         "name": "push2",
         "rawType": "int64",
         "type": "integer"
        },
        {
         "name": "push2 calldatasize",
         "rawType": "int64",
         "type": "integer"
        },
        {
         "name": "push2 calldatasize push1",
         "rawType": "int64",
         "type": "integer"
        },
        {
         "name": "push2 caller",
         "rawType": "int64",
         "type": "integer"
        },
        {
         "name": "push2 dup1",
         "rawType": "int64",
         "type": "integer"
        },
        {
         "name": "push2 dup2",
         "rawType": "int64",
         "type": "integer"
        },
        {
         "name": "push2 dup2 push1",
         "rawType": "int64",
         "type": "integer"
        },
        {
         "name": "push2 dup2 push2",
         "rawType": "int64",
         "type": "integer"
        },
        {
         "name": "push2 dup3",
         "rawType": "int64",
         "type": "integer"
        },
        {
         "name": "push2 dup3 push2",
         "rawType": "int64",
         "type": "integer"
        },
        {
         "name": "push2 dup4",
         "rawType": "int64",
         "type": "integer"
        },
        {
         "name": "push2 dup4 dup4",
         "rawType": "int64",
         "type": "integer"
        },
        {
         "name": "push2 dup4 push2",
         "rawType": "int64",
         "type": "integer"
        },
        {
         "name": "push2 dup5",
         "rawType": "int64",
         "type": "integer"
        },
        {
         "name": "push2 dup5 dup5",
         "rawType": "int64",
         "type": "integer"
        },
        {
         "name": "push2 dup5 push2",
         "rawType": "int64",
         "type": "integer"
        },
        {
         "name": "push2 dup6",
         "rawType": "int64",
         "type": "integer"
        },
        {
         "name": "push2 dup6 push1",
         "rawType": "int64",
         "type": "integer"
        },
        {
         "name": "push2 dup7",
         "rawType": "int64",
         "type": "integer"
        },
        {
         "name": "push2 exp",
         "rawType": "int64",
         "type": "integer"
        },
        {
         "name": "push2 exp dup2",
         "rawType": "int64",
         "type": "integer"
        },
        {
         "name": "push2 exp swap1",
         "rawType": "int64",
         "type": "integer"
        },
        {
         "name": "push2 jump",
         "rawType": "int64",
         "type": "integer"
        },
        {
         "name": "push2 jump jumpdest",
         "rawType": "int64",
         "type": "integer"
        },
        {
         "name": "push2 jumpi",
         "rawType": "int64",
         "type": "integer"
        },
        {
         "name": "push2 jumpi dup1",
         "rawType": "int64",
         "type": "integer"
        },
        {
         "name": "push2 jumpi dup2",
         "rawType": "int64",
         "type": "integer"
        },
        {
         "name": "push2 jumpi dup3",
         "rawType": "int64",
         "type": "integer"
        },
        {
         "name": "push2 jumpi pop",
         "rawType": "int64",
         "type": "integer"
        },
        {
         "name": "push2 jumpi push1",
         "rawType": "int64",
         "type": "integer"
        },
        {
         "name": "push2 jumpi push2",
         "rawType": "int64",
         "type": "integer"
        },
        {
         "name": "push2 jumpi returndatasize",
         "rawType": "int64",
         "type": "integer"
        },
        {
         "name": "push2 jumpi unknown_0x5f",
         "rawType": "int64",
         "type": "integer"
        },
        {
         "name": "push2 push1",
         "rawType": "int64",
         "type": "integer"
        },
        {
         "name": "push2 push1 dup1",
         "rawType": "int64",
         "type": "integer"
        },
        {
         "name": "push2 push1 dup4",
         "rawType": "int64",
         "type": "integer"
        },
        {
         "name": "push2 push1 sload",
         "rawType": "int64",
         "type": "integer"
        },
        {
         "name": "push2 push1 swap2",
         "rawType": "int64",
         "type": "integer"
        },
        {
         "name": "push2 push2",
         "rawType": "int64",
         "type": "integer"
        },
        {
         "name": "push2 push2 calldatasize",
         "rawType": "int64",
         "type": "integer"
        },
        {
         "name": "push2 push2 jump",
         "rawType": "int64",
         "type": "integer"
        },
        {
         "name": "push2 push2 push2",
         "rawType": "int64",
         "type": "integer"
        },
        {
         "name": "push2 swap1",
         "rawType": "int64",
         "type": "integer"
        },
        {
         "name": "push2 swap1 push1",
         "rawType": "int64",
         "type": "integer"
        },
        {
         "name": "push2 swap1 push2",
         "rawType": "int64",
         "type": "integer"
        },
        {
         "name": "push2 swap1 swap2",
         "rawType": "int64",
         "type": "integer"
        },
        {
         "name": "push2 swap2",
         "rawType": "int64",
         "type": "integer"
        },
        {
         "name": "push2 swap2 swap1",
         "rawType": "int64",
         "type": "integer"
        },
        {
         "name": "push20",
         "rawType": "int64",
         "type": "integer"
        },
        {
         "name": "push20 and",
         "rawType": "int64",
         "type": "integer"
        },
        {
         "name": "push20 and dup2",
         "rawType": "int64",
         "type": "integer"
        },
        {
         "name": "push20 and eq",
         "rawType": "int64",
         "type": "integer"
        },
        {
         "name": "push20 and push1",
         "rawType": "int64",
         "type": "integer"
        },
        {
         "name": "push20 and push20",
         "rawType": "int64",
         "type": "integer"
        },
        {
         "name": "push20 and push32",
         "rawType": "int64",
         "type": "integer"
        },
        {
         "name": "push20 and swap1",
         "rawType": "int64",
         "type": "integer"
        },
        {
         "name": "push3",
         "rawType": "int64",
         "type": "integer"
        },
        {
         "name": "push3 jump",
         "rawType": "int64",
         "type": "integer"
        },
        {
         "name": "push3 jump jumpdest",
         "rawType": "int64",
         "type": "integer"
        },
        {
         "name": "push3 jumpi",
         "rawType": "int64",
         "type": "integer"
        },
        {
         "name": "push3 jumpi dup1",
         "rawType": "int64",
         "type": "integer"
        },
        {
         "name": "push3 jumpi push1",
         "rawType": "int64",
         "type": "integer"
        },
        {
         "name": "push3 push1",
         "rawType": "int64",
         "type": "integer"
        },
        {
         "name": "push3 push1 shl",
         "rawType": "int64",
         "type": "integer"
        },
        {
         "name": "push3 push3",
         "rawType": "int64",
         "type": "integer"
        },
        {
         "name": "push3 push3 jump",
         "rawType": "int64",
         "type": "integer"
        },
        {
         "name": "push3 swap1",
         "rawType": "int64",
         "type": "integer"
        },
        {
         "name": "push32",
         "rawType": "int64",
         "type": "integer"
        },
        {
         "name": "push32 dup2",
         "rawType": "int64",
         "type": "integer"
        },
        {
         "name": "push32 dup2 mstore",
         "rawType": "int64",
         "type": "integer"
        },
        {
         "name": "push32 push1",
         "rawType": "int64",
         "type": "integer"
        },
        {
         "name": "push32 push1 dup3",
         "rawType": "int64",
         "type": "integer"
        },
        {
         "name": "push32 swap1",
         "rawType": "int64",
         "type": "integer"
        },
        {
         "name": "push32 swap2",
         "rawType": "int64",
         "type": "integer"
        },
        {
         "name": "push4",
         "rawType": "int64",
         "type": "integer"
        },
        {
         "name": "push4 and",
         "rawType": "int64",
         "type": "integer"
        },
        {
         "name": "push4 and jump",
         "rawType": "int64",
         "type": "integer"
        },
        {
         "name": "push4 and push1",
         "rawType": "int64",
         "type": "integer"
        },
        {
         "name": "push4 eq",
         "rawType": "int64",
         "type": "integer"
        },
        {
         "name": "push4 eq push2",
         "rawType": "int64",
         "type": "integer"
        },
        {
         "name": "push4 gt",
         "rawType": "int64",
         "type": "integer"
        },
        {
         "name": "push4 gt push2",
         "rawType": "int64",
         "type": "integer"
        },
        {
         "name": "push4 push1",
         "rawType": "int64",
         "type": "integer"
        },
        {
         "name": "push4 push1 shl",
         "rawType": "int64",
         "type": "integer"
        },
        {
         "name": "push4 swap1",
         "rawType": "int64",
         "type": "integer"
        },
        {
         "name": "push5",
         "rawType": "int64",
         "type": "integer"
        },
        {
         "name": "push6",
         "rawType": "int64",
         "type": "integer"
        },
        {
         "name": "push8",
         "rawType": "int64",
         "type": "integer"
        },
        {
         "name": "return",
         "rawType": "int64",
         "type": "integer"
        },
        {
         "name": "return jumpdest",
         "rawType": "int64",
         "type": "integer"
        },
        {
         "name": "return jumpdest callvalue",
         "rawType": "int64",
         "type": "integer"
        },
        {
         "name": "return jumpdest push2",
         "rawType": "int64",
         "type": "integer"
        },
        {
         "name": "returndatacopy",
         "rawType": "int64",
         "type": "integer"
        },
        {
         "name": "returndatacopy returndatasize",
         "rawType": "int64",
         "type": "integer"
        },
        {
         "name": "returndatacopy returndatasize push1",
         "rawType": "int64",
         "type": "integer"
        },
        {
         "name": "returndatasize",
         "rawType": "int64",
         "type": "integer"
        },
        {
         "name": "returndatasize push1",
         "rawType": "int64",
         "type": "integer"
        },
        {
         "name": "returndatasize push1 dup1",
         "rawType": "int64",
         "type": "integer"
        },
        {
         "name": "returndatasize push1 not",
         "rawType": "int64",
         "type": "integer"
        },
        {
         "name": "returndatasize push1 revert",
         "rawType": "int64",
         "type": "integer"
        },
        {
         "name": "revert",
         "rawType": "int64",
         "type": "integer"
        },
        {
         "name": "revert jumpdest",
         "rawType": "int64",
         "type": "integer"
        },
        {
         "name": "revert jumpdest dup1",
         "rawType": "int64",
         "type": "integer"
        },
        {
         "name": "revert jumpdest dup2",
         "rawType": "int64",
         "type": "integer"
        },
        {
         "name": "revert jumpdest pop",
         "rawType": "int64",
         "type": "integer"
        },
        {
         "name": "revert jumpdest push1",
         "rawType": "int64",
         "type": "integer"
        },
        {
         "name": "revert jumpdest push2",
         "rawType": "int64",
         "type": "integer"
        },
        {
         "name": "sha3",
         "rawType": "int64",
         "type": "integer"
        },
        {
         "name": "sha3 dup1",
         "rawType": "int64",
         "type": "integer"
        },
        {
         "name": "sha3 dup1 sload",
         "rawType": "int64",
         "type": "integer"
        },
        {
         "name": "sha3 dup2",
         "rawType": "int64",
         "type": "integer"
        },
        {
         "name": "sha3 dup2 swap1",
         "rawType": "int64",
         "type": "integer"
        },
        {
         "name": "sha3 push1",
         "rawType": "int64",
         "type": "integer"
        },
        {
         "name": "sha3 sload",
         "rawType": "int64",
         "type": "integer"
        },
        {
         "name": "sha3 sload push1",
         "rawType": "int64",
         "type": "integer"
        },
        {
         "name": "sha3 sload push2",
         "rawType": "int64",
         "type": "integer"
        },
        {
         "name": "sha3 sload swap1",
         "rawType": "int64",
         "type": "integer"
        },
        {
         "name": "sha3 swap1",
         "rawType": "int64",
         "type": "integer"
        },
        {
         "name": "sha3 swap4",
         "rawType": "int64",
         "type": "integer"
        },
        {
         "name": "sha3 swap4 swap1",
         "rawType": "int64",
         "type": "integer"
        },
        {
         "name": "shl",
         "rawType": "int64",
         "type": "integer"
        },
        {
         "name": "shl dup2",
         "rawType": "int64",
         "type": "integer"
        },
        {
         "name": "shl dup2 mstore",
         "rawType": "int64",
         "type": "integer"
        },
        {
         "name": "shl push1",
         "rawType": "int64",
         "type": "integer"
        },
        {
         "name": "shl push1 dup3",
         "rawType": "int64",
         "type": "integer"
        },
        {
         "name": "shl push1 mstore",
         "rawType": "int64",
         "type": "integer"
        },
        {
         "name": "shl sub",
         "rawType": "int64",
         "type": "integer"
        },
        {
         "name": "shl sub and",
         "rawType": "int64",
         "type": "integer"
        },
        {
         "name": "shl sub dup2",
         "rawType": "int64",
         "type": "integer"
        },
        {
         "name": "shl sub dup3",
         "rawType": "int64",
         "type": "integer"
        },
        {
         "name": "shl sub dup4",
         "rawType": "int64",
         "type": "integer"
        },
        {
         "name": "shl sub dup5",
         "rawType": "int64",
         "type": "integer"
        },
        {
         "name": "shl sub not",
         "rawType": "int64",
         "type": "integer"
        },
        {
         "name": "shl sub swap1",
         "rawType": "int64",
         "type": "integer"
        },
        {
         "name": "shl swap1",
         "rawType": "int64",
         "type": "integer"
        },
        {
         "name": "shr",
         "rawType": "int64",
         "type": "integer"
        },
        {
         "name": "sload",
         "rawType": "int64",
         "type": "integer"
        },
        {
         "name": "sload dup2",
         "rawType": "int64",
         "type": "integer"
        },
        {
         "name": "sload dup2 jump",
         "rawType": "int64",
         "type": "integer"
        },
        {
         "name": "sload push1",
         "rawType": "int64",
         "type": "integer"
        },
        {
         "name": "sload push1 and",
         "rawType": "int64",
         "type": "integer"
        },
        {
         "name": "sload push1 mload",
         "rawType": "int64",
         "type": "integer"
        },
        {
         "name": "sload push1 push1",
         "rawType": "int64",
         "type": "integer"
        },
        {
         "name": "sload push1 sload",
         "rawType": "int64",
         "type": "integer"
        },
        {
         "name": "sload push2",
         "rawType": "int64",
         "type": "integer"
        },
        {
         "name": "sload push2 swap1",
         "rawType": "int64",
         "type": "integer"
        },
        {
         "name": "sload push2 swap2",
         "rawType": "int64",
         "type": "integer"
        },
        {
         "name": "sload swap1",
         "rawType": "int64",
         "type": "integer"
        },
        {
         "name": "sload swap1 jump",
         "rawType": "int64",
         "type": "integer"
        },
        {
         "name": "sload swap1 pop",
         "rawType": "int64",
         "type": "integer"
        },
        {
         "name": "sload swap1 push2",
         "rawType": "int64",
         "type": "integer"
        },
        {
         "name": "slt",
         "rawType": "int64",
         "type": "integer"
        },
        {
         "name": "slt iszero",
         "rawType": "int64",
         "type": "integer"
        },
        {
         "name": "slt iszero push2",
         "rawType": "int64",
         "type": "integer"
        },
        {
         "name": "sstore",
         "rawType": "int64",
         "type": "integer"
        },
        {
         "name": "sstore jump",
         "rawType": "int64",
         "type": "integer"
        },
        {
         "name": "sstore jump jumpdest",
         "rawType": "int64",
         "type": "integer"
        },
        {
         "name": "sstore pop",
         "rawType": "int64",
         "type": "integer"
        },
        {
         "name": "sstore pop pop",
         "rawType": "int64",
         "type": "integer"
        },
        {
         "name": "sstore push1",
         "rawType": "int64",
         "type": "integer"
        },
        {
         "name": "staticcall",
         "rawType": "int64",
         "type": "integer"
        },
        {
         "name": "staticcall iszero",
         "rawType": "int64",
         "type": "integer"
        },
        {
         "name": "staticcall iszero dup1",
         "rawType": "int64",
         "type": "integer"
        },
        {
         "name": "stop",
         "rawType": "int64",
         "type": "integer"
        },
        {
         "name": "stop jumpdest",
         "rawType": "int64",
         "type": "integer"
        },
        {
         "name": "stop stop",
         "rawType": "int64",
         "type": "integer"
        },
        {
         "name": "stop stop stop",
         "rawType": "int64",
         "type": "integer"
        },
        {
         "name": "sub",
         "rawType": "int64",
         "type": "integer"
        },
        {
         "name": "sub and",
         "rawType": "int64",
         "type": "integer"
        },
        {
         "name": "sub and caller",
         "rawType": "int64",
         "type": "integer"
        },
        {
         "name": "sub and dup2",
         "rawType": "int64",
         "type": "integer"
        },
        {
         "name": "sub and push1",
         "rawType": "int64",
         "type": "integer"
        },
        {
         "name": "sub and push2",
         "rawType": "int64",
         "type": "integer"
        },
        {
         "name": "sub dup1",
         "rawType": "int64",
         "type": "integer"
        },
        {
         "name": "sub dup2",
         "rawType": "int64",
         "type": "integer"
        },
        {
         "name": "sub dup2 add",
         "rawType": "int64",
         "type": "integer"
        },
        {
         "name": "sub dup2 and",
         "rawType": "int64",
         "type": "integer"
        },
        {
         "name": "sub dup2 dup7",
         "rawType": "int64",
         "type": "integer"
        },
        {
         "name": "sub dup2 push1",
         "rawType": "int64",
         "type": "integer"
        },
        {
         "name": "sub dup3",
         "rawType": "int64",
         "type": "integer"
        },
        {
         "name": "sub dup3 and",
         "rawType": "int64",
         "type": "integer"
        },
        {
         "name": "sub dup3 mstore",
         "rawType": "int64",
         "type": "integer"
        },
        {
         "name": "sub dup4",
         "rawType": "int64",
         "type": "integer"
        },
        {
         "name": "sub dup4 and",
         "rawType": "int64",
         "type": "integer"
        },
        {
         "name": "sub dup5",
         "rawType": "int64",
         "type": "integer"
        },
        {
         "name": "sub not",
         "rawType": "int64",
         "type": "integer"
        },
        {
         "name": "sub not and",
         "rawType": "int64",
         "type": "integer"
        },
        {
         "name": "sub push1",
         "rawType": "int64",
         "type": "integer"
        },
        {
         "name": "sub push1 add",
         "rawType": "int64",
         "type": "integer"
        },
        {
         "name": "sub push1 dup2",
         "rawType": "int64",
         "type": "integer"
        },
        {
         "name": "sub push1 dup4",
         "rawType": "int64",
         "type": "integer"
        },
        {
         "name": "sub push2",
         "rawType": "int64",
         "type": "integer"
        },
        {
         "name": "sub push2 jumpi",
         "rawType": "int64",
         "type": "integer"
        },
        {
         "name": "sub slt",
         "rawType": "int64",
         "type": "integer"
        },
        {
         "name": "sub slt iszero",
         "rawType": "int64",
         "type": "integer"
        },
        {
         "name": "sub swap1",
         "rawType": "int64",
         "type": "integer"
        },
        {
         "name": "sub swap1 log3",
         "rawType": "int64",
         "type": "integer"
        },
        {
         "name": "sub swap1 return",
         "rawType": "int64",
         "type": "integer"
        },
        {
         "name": "sub swap1 revert",
         "rawType": "int64",
         "type": "integer"
        },
        {
         "name": "sub swap1 swap2",
         "rawType": "int64",
         "type": "integer"
        },
        {
         "name": "swap1",
         "rawType": "int64",
         "type": "integer"
        },
        {
         "name": "swap1 div",
         "rawType": "int64",
         "type": "integer"
        },
        {
         "name": "swap1 div push1",
         "rawType": "int64",
         "type": "integer"
        },
        {
         "name": "swap1 div push20",
         "rawType": "int64",
         "type": "integer"
        },
        {
         "name": "swap1 dup1",
         "rawType": "int64",
         "type": "integer"
        },
        {
         "name": "swap1 dup1 calldataload",
         "rawType": "int64",
         "type": "integer"
        },
        {
         "name": "swap1 dup1 dup1",
         "rawType": "int64",
         "type": "integer"
        },
        {
         "name": "swap1 dup2",
         "rawType": "int64",
         "type": "integer"
        },
        {
         "name": "swap1 dup2 add",
         "rawType": "int64",
         "type": "integer"
        },
        {
         "name": "swap1 dup2 mstore",
         "rawType": "int64",
         "type": "integer"
        },
        {
         "name": "swap1 dup2 swap1",
         "rawType": "int64",
         "type": "integer"
        },
        {
         "name": "swap1 dup3",
         "rawType": "int64",
         "type": "integer"
        },
        {
         "name": "swap1 dup4",
         "rawType": "int64",
         "type": "integer"
        },
        {
         "name": "swap1 dup5",
         "rawType": "int64",
         "type": "integer"
        },
        {
         "name": "swap1 jump",
         "rawType": "int64",
         "type": "integer"
        },
        {
         "name": "swap1 jump jumpdest",
         "rawType": "int64",
         "type": "integer"
        },
        {
         "name": "swap1 log3",
         "rawType": "int64",
         "type": "integer"
        },
        {
         "name": "swap1 log3 pop",
         "rawType": "int64",
         "type": "integer"
        },
        {
         "name": "swap1 mload",
         "rawType": "int64",
         "type": "integer"
        },
        {
         "name": "swap1 mstore",
         "rawType": "int64",
         "type": "integer"
        },
        {
         "name": "swap1 mstore push1",
         "rawType": "int64",
         "type": "integer"
        },
        {
         "name": "swap1 pop",
         "rawType": "int64",
         "type": "integer"
        },
        {
         "name": "swap1 pop dup2",
         "rawType": "int64",
         "type": "integer"
        },
        {
         "name": "swap1 pop jump",
         "rawType": "int64",
         "type": "integer"
        },
        {
         "name": "swap1 pop pop",
         "rawType": "int64",
         "type": "integer"
        },
        {
         "name": "swap1 pop push1",
         "rawType": "int64",
         "type": "integer"
        },
        {
         "name": "swap1 pop push2",
         "rawType": "int64",
         "type": "integer"
        },
        {
         "name": "swap1 pop swap1",
         "rawType": "int64",
         "type": "integer"
        },
        {
         "name": "swap1 pop swap2",
         "rawType": "int64",
         "type": "integer"
        },
        {
         "name": "swap1 pop swap3",
         "rawType": "int64",
         "type": "integer"
        },
        {
         "name": "swap1 push1",
         "rawType": "int64",
         "type": "integer"
        },
        {
         "name": "swap1 push1 add",
         "rawType": "int64",
         "type": "integer"
        },
        {
         "name": "swap1 push1 mstore",
         "rawType": "int64",
         "type": "integer"
        },
        {
         "name": "swap1 push1 push1",
         "rawType": "int64",
         "type": "integer"
        },
        {
         "name": "swap1 push2",
         "rawType": "int64",
         "type": "integer"
        },
        {
         "name": "swap1 push2 exp",
         "rawType": "int64",
         "type": "integer"
        },
        {
         "name": "swap1 push2 jump",
         "rawType": "int64",
         "type": "integer"
        },
        {
         "name": "swap1 push2 swap1",
         "rawType": "int64",
         "type": "integer"
        },
        {
         "name": "swap1 push2 swap2",
         "rawType": "int64",
         "type": "integer"
        },
        {
         "name": "swap1 push3",
         "rawType": "int64",
         "type": "integer"
        },
        {
         "name": "swap1 push3 jump",
         "rawType": "int64",
         "type": "integer"
        },
        {
         "name": "swap1 push4",
         "rawType": "int64",
         "type": "integer"
        },
        {
         "name": "swap1 push4 and",
         "rawType": "int64",
         "type": "integer"
        },
        {
         "name": "swap1 return",
         "rawType": "int64",
         "type": "integer"
        },
        {
         "name": "swap1 return jumpdest",
         "rawType": "int64",
         "type": "integer"
        },
        {
         "name": "swap1 revert",
         "rawType": "int64",
         "type": "integer"
        },
        {
         "name": "swap1 revert jumpdest",
         "rawType": "int64",
         "type": "integer"
        },
        {
         "name": "swap1 sha3",
         "rawType": "int64",
         "type": "integer"
        },
        {
         "name": "swap1 sha3 sload",
         "rawType": "int64",
         "type": "integer"
        },
        {
         "name": "swap1 sload",
         "rawType": "int64",
         "type": "integer"
        },
        {
         "name": "swap1 sload swap1",
         "rawType": "int64",
         "type": "integer"
        },
        {
         "name": "swap1 sstore",
         "rawType": "int64",
         "type": "integer"
        },
        {
         "name": "swap1 sstore pop",
         "rawType": "int64",
         "type": "integer"
        },
        {
         "name": "swap1 sub",
         "rawType": "int64",
         "type": "integer"
        },
        {
         "name": "swap1 sub push1",
         "rawType": "int64",
         "type": "integer"
        },
        {
         "name": "swap1 swap2",
         "rawType": "int64",
         "type": "integer"
        },
        {
         "name": "swap1 swap2 add",
         "rawType": "int64",
         "type": "integer"
        },
        {
         "name": "swap1 swap2 and",
         "rawType": "int64",
         "type": "integer"
        },
        {
         "name": "swap1 swap2 mstore",
         "rawType": "int64",
         "type": "integer"
        },
        {
         "name": "swap1 swap2 sstore",
         "rawType": "int64",
         "type": "integer"
        },
        {
         "name": "swap1 swap2 swap1",
         "rawType": "int64",
         "type": "integer"
        },
        {
         "name": "swap1 swap3",
         "rawType": "int64",
         "type": "integer"
        },
        {
         "name": "swap1 swap3 and",
         "rawType": "int64",
         "type": "integer"
        },
        {
         "name": "swap1 swap3 swap2",
         "rawType": "int64",
         "type": "integer"
        },
        {
         "name": "swap1 swap4",
         "rawType": "int64",
         "type": "integer"
        },
        {
         "name": "swap1 swap5",
         "rawType": "int64",
         "type": "integer"
        },
        {
         "name": "swap2",
         "rawType": "int64",
         "type": "integer"
        },
        {
         "name": "swap2 add",
         "rawType": "int64",
         "type": "integer"
        },
        {
         "name": "swap2 and",
         "rawType": "int64",
         "type": "integer"
        },
        {
         "name": "swap2 and eq",
         "rawType": "int64",
         "type": "integer"
        },
        {
         "name": "swap2 codecopy",
         "rawType": "int64",
         "type": "integer"
        },
        {
         "name": "swap2 codecopy push1",
         "rawType": "int64",
         "type": "integer"
        },
        {
         "name": "swap2 div",
         "rawType": "int64",
         "type": "integer"
        },
        {
         "name": "swap2 dup3",
         "rawType": "int64",
         "type": "integer"
        },
        {
         "name": "swap2 dup3 swap1",
         "rawType": "int64",
         "type": "integer"
        },
        {
         "name": "swap2 mstore",
         "rawType": "int64",
         "type": "integer"
        },
        {
         "name": "swap2 or",
         "rawType": "int64",
         "type": "integer"
        },
        {
         "name": "swap2 pop",
         "rawType": "int64",
         "type": "integer"
        },
        {
         "name": "swap2 pop jumpdest",
         "rawType": "int64",
         "type": "integer"
        },
        {
         "name": "swap2 pop pop",
         "rawType": "int64",
         "type": "integer"
        },
        {
         "name": "swap2 pop push1",
         "rawType": "int64",
         "type": "integer"
        },
        {
         "name": "swap2 pop push2",
         "rawType": "int64",
         "type": "integer"
        },
        {
         "name": "swap2 push1",
         "rawType": "int64",
         "type": "integer"
        },
        {
         "name": "swap2 push1 add",
         "rawType": "int64",
         "type": "integer"
        },
        {
         "name": "swap2 push2",
         "rawType": "int64",
         "type": "integer"
        },
        {
         "name": "swap2 push2 jump",
         "rawType": "int64",
         "type": "integer"
        },
        {
         "name": "swap2 sstore",
         "rawType": "int64",
         "type": "integer"
        },
        {
         "name": "swap2 sub",
         "rawType": "int64",
         "type": "integer"
        },
        {
         "name": "swap2 sub swap1",
         "rawType": "int64",
         "type": "integer"
        },
        {
         "name": "swap2 swap1",
         "rawType": "int64",
         "type": "integer"
        },
        {
         "name": "swap2 swap1 dup1",
         "rawType": "int64",
         "type": "integer"
        },
        {
         "name": "swap2 swap1 pop",
         "rawType": "int64",
         "type": "integer"
        },
        {
         "name": "swap2 swap1 push1",
         "rawType": "int64",
         "type": "integer"
        },
        {
         "name": "swap2 swap1 push2",
         "rawType": "int64",
         "type": "integer"
        },
        {
         "name": "swap2 swap1 push4",
         "rawType": "int64",
         "type": "integer"
        },
        {
         "name": "swap2 swap1 swap2",
         "rawType": "int64",
         "type": "integer"
        },
        {
         "name": "swap3",
         "rawType": "int64",
         "type": "integer"
        },
        {
         "name": "swap3 and",
         "rawType": "int64",
         "type": "integer"
        },
        {
         "name": "swap3 mstore",
         "rawType": "int64",
         "type": "integer"
        },
        {
         "name": "swap3 pop",
         "rawType": "int64",
         "type": "integer"
        },
        {
         "name": "swap3 pop pop",
         "rawType": "int64",
         "type": "integer"
        },
        {
         "name": "swap3 pop swap3",
         "rawType": "int64",
         "type": "integer"
        },
        {
         "name": "swap3 swap1",
         "rawType": "int64",
         "type": "integer"
        },
        {
         "name": "swap3 swap1 swap3",
         "rawType": "int64",
         "type": "integer"
        },
        {
         "name": "swap3 swap2",
         "rawType": "int64",
         "type": "integer"
        },
        {
         "name": "swap3 swap2 pop",
         "rawType": "int64",
         "type": "integer"
        },
        {
         "name": "swap3 swap2 swap1",
         "rawType": "int64",
         "type": "integer"
        },
        {
         "name": "swap4",
         "rawType": "int64",
         "type": "integer"
        },
        {
         "name": "swap4 pop",
         "rawType": "int64",
         "type": "integer"
        },
        {
         "name": "swap4 pop pop",
         "rawType": "int64",
         "type": "integer"
        },
        {
         "name": "swap4 swap1",
         "rawType": "int64",
         "type": "integer"
        },
        {
         "name": "swap4 swap1 swap4",
         "rawType": "int64",
         "type": "integer"
        },
        {
         "name": "swap4 swap3",
         "rawType": "int64",
         "type": "integer"
        },
        {
         "name": "swap4 swap3 pop",
         "rawType": "int64",
         "type": "integer"
        },
        {
         "name": "swap5",
         "rawType": "int64",
         "type": "integer"
        },
        {
         "name": "swap5 pop",
         "rawType": "int64",
         "type": "integer"
        },
        {
         "name": "swap6",
         "rawType": "int64",
         "type": "integer"
        },
        {
         "name": "swap7",
         "rawType": "int64",
         "type": "integer"
        },
        {
         "name": "timestamp",
         "rawType": "int64",
         "type": "integer"
        },
        {
         "name": "unknown_0x5f",
         "rawType": "int64",
         "type": "integer"
        },
        {
         "name": "unknown_0x5f dup1",
         "rawType": "int64",
         "type": "integer"
        },
        {
         "name": "unknown_0x5f dup1 revert",
         "rawType": "int64",
         "type": "integer"
        },
        {
         "name": "unknown_0x5f swap1",
         "rawType": "int64",
         "type": "integer"
        },
        {
         "name": "unknown_0xfe",
         "rawType": "int64",
         "type": "integer"
        }
       ],
       "ref": "7e6aa55f-1dfd-4f5f-8cf9-ef9713f0aba8",
       "rows": [
        [
         "0x8275ebf521dc217aa79c88132017a5bcef001dd9",
         "4.676922495279863",
         "4.331571884123782",
         "0.00016046213093709883",
         "0.061938382541720155",
         "0.0280808729139923",
         "0.007541720154043646",
         "0.01845314505776637",
         "0.005776636713735558",
         "0.0016046213093709885",
         "0.002246469833119384",
         "0.020218228498074454",
         "0.029685494223363286",
         "0.00032092426187419767",
         "0.008664955070603338",
         "0.002888318356867779",
         "0.0006418485237483953",
         "0.033697047496790755",
         "0.03353658536585366",
         "0.004653401797175867",
         "0.4017971758664955",
         "0.025353016688061617",
         "0.0016046213093709885",
         "0.004492939666238768",
         "0.00032092426187419767",
         "0.011392811296534019",
         "0.004332477535301669",
         "0.0006418485237483953",
         "0.00048138639281129655",
         "0.00016046213093709883",
         "0.0006418485237483953",
         "0.0006418485237483953",
         "0.00032092426187419767",
         "0.0009627727856225931",
         "0.0006418485237483953",
         "0.0014441591784338896",
         "0.00032092426187419767",
         "0.0008023106546854943",
         "0.00016046213093709883",
         "0.0008023106546854943",
         "0.004813863928112966",
         "0.0006418485237483953",
         "0.00016046213093709883",
         "0.0006418485237483953",
         "0.00032092426187419767",
         "0.0014441591784338896",
         "0.0006418485237483953",
         "0.00016046213093709883",
         "0.00032092426187419767",
         "0.0006418485237483953",
         "0.00032092426187419767",
         "0.00016046213093709883",
         "0.002086007702182285",
         "0.00048138639281129655",
         "0.00032092426187419767",
         "0.008664955070603338",
         "0.00032092426187419767",
         "0.0008023106546854943",
         "0.025513478818998715",
         "0.00016046213093709883",
         "0.00016046213093709883",
         "0.0006418485237483953",
         "0.00048138639281129655",
         "0.00048138639281129655",
         "0.017811296534017973",
         "0.0006418485237483953",
         "0.00016046213093709883",
         "0.0008023106546854943",
         "0.00016046213093709883",
         "0.0006418485237483953",
         "0.0016046213093709885",
         "0.00048138639281129655",
         "0.00032092426187419767",
         "0.00048138639281129655",
         "0.00016046213093709883",
         "0.00032092426187419767",
         "0.00032092426187419767",
         "0.0008023106546854943",
         "0.00032092426187419767",
         "0.00032092426187419767",
         "0.001123234916559692",
         "0.00048138639281129655",
         "0.002406931964056483",
         "0.015083440308087292",
         "0.0008023106546854943",
         "0.0012836970474967907",
         "0.00016046213093709883",
         "0.008023106546854942",
         "0.00834403080872914",
         "0.028883183568677792",
         "0.02647625160462131",
         "0.004653401797175867",
         "0.014281129653401798",
         "0.00016046213093709883",
         "0.0016046213093709885",
         "0.0025673940949935813",
         "0.0009627727856225931",
         "0.004813863928112966",
         "0.002406931964056483",
         "0.020218228498074454",
         "0.00016046213093709883",
         "0.0009627727856225931",
         "0.00032092426187419767",
         "0.001123234916559692",
         "0.00016046213093709883",
         "0.00048138639281129655",
         "0.00048138639281129655",
         "0.0006418485237483953",
         "0.00032092426187419767",
         "0.0006418485237483953",
         "0.00016046213093709883",
         "0.0008023106546854943",
         "0.00016046213093709883",
         "0.0006418485237483953",
         "0.00016046213093709883",
         "0.00032092426187419767",
         "0.005776636713735558",
         "0.00016046213093709883",
         "0.0006418485237483953",
         "0.0008023106546854943",
         "0.00032092426187419767",
         "0.00048138639281129655",
         "0.00048138639281129655",
         "0.00032092426187419767",
         "0.00032092426187419767",
         "0.00016046213093709883",
         "0.00016046213093709883",
         "0.00016046213093709883",
         "0.00016046213093709883",
         "0.0006418485237483953",
         "0.0009627727856225931",
         "0.0006418485237483953",
         "0.00032092426187419767",
         "0.0012836970474967907",
         "0.00048138639281129655",
         "0.00032092426187419767",
         "0.0008023106546854943",
         "0.0014441591784338896",
         "0.0035301668806161745",
         "0.002086007702182285",
         "0.0016046213093709885",
         "0.00048138639281129655",
         "0.0009627727856225931",
         "0.00048138639281129655",
         "0.00048138639281129655",
         "0.0012836970474967907",
         "0.0006418485237483953",
         "0.00048138639281129655",
         "0.0006418485237483953",
         "0.00048138639281129655",
         "0.0006418485237483953",
         "0.00048138639281129655",
         "0.00048138639281129655",
         "0.0012836970474967907",
         "0.00048138639281129655",
         "0.00016046213093709883",
         "0.0009627727856225931",
         "0.001123234916559692",
         "0.001123234916559692",
         "0.00016046213093709883",
         "0.00048138639281129655",
         "0.00048138639281129655",
         "0.0006418485237483953",
         "0.0006418485237483953",
         "0.0006418485237483953",
         "0.00048138639281129655",
         "0.00048138639281129655",
         "0.0006418485237483953",
         "0.00048138639281129655",
         "0.00048138639281129655",
         "0.00048138639281129655",
         "0.0006418485237483953",
         "0.00048138639281129655",
         "0.0006418485237483953",
         "0.00016046213093709883",
         "0.00016046213093709883",
         "0.00016046213093709883",
         "0.00016046213093709883",
         "0.00016046213093709883",
         "0.00032092426187419767",
         "0.00016046213093709883",
         "0.00048138639281129655",
         "0.00048138639281129655",
         "0.00016046213093709883",
         "0.00016046213093709883",
         "0.00016046213093709883",
         "0.00016046213093709883",
         "0.00016046213093709883",
         "0.00016046213093709883",
         "0.00032092426187419767",
         "0.0006418485237483953",
         "0.00016046213093709883",
         "0.00016046213093709883",
         "0.00032092426187419767",
         "0.00016046213093709883",
         "0.00032092426187419767",
         "0.00016046213093709883",
         "0.00016046213093709883",
         "0.00032092426187419767",
         "0.00032092426187419767",
         "0.00048138639281129655",
         "0.00016046213093709883",
         "0.00016046213093709883",
         "0.00016046213093709883",
         "0.00016046213093709883",
         "0.00016046213093709883",
         "0.00016046213093709883",
         "0.00016046213093709883",
         "0.00016046213093709883",
         "0.00032092426187419767",
         "0.00048138639281129655",
         "0.00016046213093709883",
         "0.00032092426187419767",
         "0.00016046213093709883",
         "0.00032092426187419767",
         "0.00016046213093709883",
         "0.0",
         "0.0",
         "0.0",
         "0.0",
         "0.0",
         "0.0",
         "0.0",
         "0.0",
         "0.0",
         "0.0",
         "0.0",
         "0.0",
         "0.0",
         "0.0",
         "0.0",
         "0.0",
         "0.0",
         "0.0",
         "0.0",
         "0.0",
         "0.0",
         "0.0",
         "0.0",
         "0.0",
         "0.0",
         "0.0",
         "0.0",
         "0.0",
         "0.0",
         "0.0",
         "0.0",
         "0.0",
         "0.0",
         "0.0",
         "0.0",
         "0.0",
         "0.0",
         "0.0",
         "0.0",
         "0.0",
         "0.0",
         "0.0",
         "0.0",
         "0.0",
         "153",
         "0",
         "0",
         "0",
         "0",
         "2",
         "0",
         "2",
         "0",
         "0",
         "0",
         "0",
         "4",
         "2",
         "0",
         "0",
         "2",
         "2",
         "0",
         "2",
         "0",
         "0",
         "44",
         "2",
         "2",
         "0",
         "38",
         "0",
         "0",
         "0",
         "0",
         "0",
         "72",
         "11",
         "38",
         "0",
         "3",
         "4",
         "0",
         "16",
         "27",
         "21",
         "2",
         "0",
         "1",
         "150",
         "6",
         "0",
         "3",
         "45",
         "2",
         "42",
         "3",
         "2",
         "0",
         "2",
         "1",
         "5",
         "5",
         "0",
         "4",
         "4",
         "9",
         "9",
         "6",
         "0",
         "0",
         "0",
         "4",
         "0",
         "0",
         "0",
         "43",
         "43",
         "9",
         "0",
         "12",
         "2",
         "0",
         "10",
         "0",
         "0",
         "0",
         "0",
         "0",
         "17",
         "0",
         "0",
         "10",
         "10",
         "6",
         "6",
         "10",
         "0",
         "0",
         "9",
         "9",
         "0",
         "21",
         "0",
         "0",
         "0",
         "15",
         "15",
         "15",
         "0",
         "0",
         "0",
         "15",
         "4",
         "1",
         "1",
         "5",
         "5",
         "173",
         "16",
         "10",
         "6",
         "9",
         "9",
         "11",
         "9",
         "2",
         "21",
         "2",
         "10",
         "0",
         "7",
         "2",
         "0",
         "0",
         "0",
         "0",
         "0",
         "19",
         "19",
         "4",
         "2",
         "2",
         "9",
         "4",
         "0",
         "0",
         "0",
         "1",
         "1",
         "0",
         "0",
         "0",
         "0",
         "15",
         "15",
         "0",
         "0",
         "0",
         "25",
         "25",
         "4",
         "4",
         "0",
         "23",
         "21",
         "0",
         "0",
         "164",
         "15",
         "2",
         "13",
         "0",
         "0",
         "0",
         "0",
         "4",
         "0",
         "2",
         "0",
         "2",
         "0",
         "0",
         "0",
         "0",
         "1",
         "1",
         "5",
         "5",
         "3",
         "3",
         "0",
         "2",
         "2",
         "101",
         "0",
         "99",
         "2",
         "7",
         "0",
         "1",
         "1",
         "4",
         "2",
         "0",
         "4",
         "4",
         "2",
         "2",
         "0",
         "11",
         "0",
         "11",
         "0",
         "53",
         "6",
         "0",
         "0",
         "0",
         "0",
         "4",
         "0",
         "0",
         "0",
         "2",
         "13",
         "10",
         "2",
         "1",
         "0",
         "0",
         "0",
         "0",
         "4",
         "4",
         "5",
         "2",
         "0",
         "0",
         "8",
         "2",
         "1",
         "6",
         "6",
         "2",
         "2",
         "29",
         "1",
         "0",
         "0",
         "0",
         "4",
         "2",
         "2",
         "2",
         "0",
         "0",
         "2",
         "2",
         "2",
         "2",
         "5",
         "1",
         "0",
         "0",
         "8",
         "8",
         "0",
         "1",
         "0",
         "8",
         "2",
         "2",
         "0",
         "0",
         "0",
         "0",
         "0",
         "0",
         "0",
         "3",
         "0",
         "0",
         "3",
         "3",
         "0",
         "0",
         "0",
         "8",
         "0",
         "0",
         "0",
         "0",
         "0",
         "0",
         "0",
         "0",
         "8",
         "8",
         "0",
         "0",
         "0",
         "7",
         "0",
         "0",
         "0",
         "3",
         "0",
         "0",
         "1",
         "20",
         "5",
         "0",
         "15",
         "15",
         "0",
         "0",
         "11",
         "2",
         "2",
         "6",
         "6",
         "0",
         "0",
         "0",
         "0",
         "0",
         "0",
         "0",
         "0",
         "0",
         "0",
         "7",
         "5",
         "0",
         "2",
         "2",
         "78",
         "0",
         "0",
         "5",
         "5",
         "36",
         "5",
         "0",
         "37",
         "33",
         "0",
         "0",
         "50",
         "49",
         "0",
         "0",
         "0",
         "2",
         "0",
         "0",
         "4",
         "38",
         "2",
         "0",
         "0",
         "0",
         "3",
         "0",
         "0",
         "0",
         "0",
         "0",
         "101",
         "15",
         "15",
         "2",
         "0",
         "0",
         "0",
         "3",
         "0",
         "0",
         "2",
         "3",
         "2",
         "0",
         "0",
         "0",
         "0",
         "0",
         "23",
         "0",
         "2",
         "4",
         "0",
         "15",
         "44",
         "8",
         "3",
         "1",
         "12",
         "15",
         "1",
         "3",
         "1",
         "0",
         "0",
         "6",
         "2",
         "2",
         "1",
         "0",
         "0",
         "0",
         "0",
         "0",
         "0",
         "0",
         "0",
         "0",
         "0",
         "0",
         "0",
         "3",
         "3",
         "0",
         "0",
         "0",
         "0",
         "0",
         "0",
         "0",
         "0",
         "0",
         "53",
         "20",
         "4",
         "2",
         "14",
         "0",
         "2",
         "0",
         "0",
         "26",
         "24",
         "0",
         "1",
         "2",
         "0",
         "0",
         "0",
         "0",
         "0",
         "0",
         "7",
         "1",
         "1",
         "7",
         "4",
         "2",
         "3",
         "3",
         "52",
         "40",
         "17",
         "0",
         "0",
         "21",
         "4",
         "4",
         "0",
         "0",
         "0",
         "0",
         "0",
         "0",
         "0",
         "0",
         "0",
         "0",
         "0",
         "4",
         "2",
         "2",
         "0",
         "112",
         "2",
         "0",
         "0",
         "0",
         "2",
         "0",
         "0",
         "0",
         "0",
         "0",
         "104",
         "99",
         "0",
         "2",
         "0",
         "2",
         "0",
         "0",
         "0",
         "0",
         "0",
         "0",
         "2",
         "0",
         "2",
         "0",
         "2",
         "12",
         "2",
         "2",
         "2",
         "2",
         "2",
         "2",
         "2",
         "4",
         "4",
         "0",
         "2",
         "0",
         "0",
         "2",
         "2",
         "2",
         "0",
         "158",
         "3",
         "3",
         "0",
         "0",
         "5",
         "0",
         "14",
         "13",
         "3",
         "2",
         "65",
         "10",
         "22",
         "19",
         "9",
         "2",
         "1",
         "19",
         "0",
         "19",
         "0",
         "0",
         "0",
         "31",
         "1",
         "3",
         "12",
         "9",
         "6",
         "4",
         "0",
         "2",
         "1",
         "1",
         "9",
         "2",
         "7",
         "1",
         "386",
         "129",
         "2",
         "4",
         "42",
         "0",
         "0",
         "58",
         "23",
         "11",
         "4",
         "14",
         "46",
         "9",
         "0",
         "0",
         "0",
         "2",
         "0",
         "25",
         "2",
         "9",
         "2",
         "0",
         "0",
         "0",
         "0",
         "5",
         "0",
         "1",
         "1",
         "0",
         "1",
         "0",
         "5",
         "0",
         "0",
         "0",
         "2",
         "0",
         "2",
         "8",
         "8",
         "7",
         "3",
         "2",
         "2",
         "44",
         "40",
         "2",
         "0",
         "0",
         "0",
         "0",
         "0",
         "2",
         "5",
         "2",
         "0",
         "3",
         "0",
         "0",
         "0",
         "0",
         "35",
         "0",
         "0",
         "2",
         "5",
         "0",
         "1",
         "5",
         "0",
         "0",
         "2",
         "0",
         "1",
         "2",
         "1",
         "0",
         "0",
         "0",
         "0",
         "0",
         "4",
         "4",
         "0",
         "0",
         "40",
         "10",
         "12",
         "16",
         "2",
         "0",
         "0",
         "0",
         "0",
         "0",
         "0",
         "2",
         "1",
         "0",
         "1",
         "0",
         "9",
         "0",
         "4",
         "0",
         "1",
         "1",
         "0",
         "0",
         "0",
         "126",
         "0",
         "0",
         "1",
         "2",
         "3",
         "2",
         "1",
         "6",
         "0",
         "1",
         "0",
         "0",
         "0",
         "0",
         "0",
         "0",
         "0",
         "0",
         "10",
         "2",
         "6",
         "22",
         "22",
         "53",
         "20",
         "0",
         "2",
         "0",
         "26",
         "2",
         "0",
         "0",
         "9",
         "9",
         "0",
         "0",
         "0",
         "6",
         "0",
         "6",
         "0",
         "9",
         "0",
         "0",
         "9",
         "0",
         "0",
         "123",
         "121",
         "41",
         "5",
         "1",
         "43",
         "9",
         "10",
         "1",
         "0",
         "0",
         "0",
         "0",
         "0",
         "0",
         "0",
         "0",
         "0",
         "0",
         "9",
         "0",
         "0",
         "4",
         "0",
         "0",
         "0",
         "25",
         "10",
         "9",
         "0",
         "15",
         "15",
         "0",
         "0",
         "0",
         "0",
         "0",
         "1",
         "1",
         "0",
         "12",
         "12",
         "12",
         "0",
         "0",
         "0",
         "0",
         "0",
         "0",
         "0",
         "0",
         "0",
         "25",
         "25",
         "1",
         "0",
         "15",
         "4",
         "4",
         "41",
         "0",
         "0",
         "10",
         "10",
         "12",
         "16",
         "2",
         "7",
         "3",
         "2",
         "0",
         "0",
         "0",
         "0",
         "0",
         "0",
         "0",
         "0",
         "0",
         "0",
         "0",
         "0",
         "0",
         "0",
         "0",
         "0",
         "0",
         "0",
         "34",
         "6",
         "1",
         "6",
         "0",
         "2",
         "0",
         "0",
         "8",
         "8",
         "0",
         "9",
         "0",
         "3",
         "6",
         "0",
         "0",
         "0",
         "13",
         "0",
         "0",
         "13",
         "1",
         "0",
         "0",
         "0",
         "0",
         "4",
         "3",
         "0",
         "0",
         "45",
         "4",
         "0",
         "0",
         "4",
         "0",
         "2",
         "9",
         "9",
         "0",
         "0",
         "0",
         "2",
         "0",
         "2",
         "0",
         "0",
         "0",
         "2",
         "2",
         "2",
         "0",
         "0",
         "0",
         "2",
         "0",
         "0",
         "0",
         "22",
         "7",
         "12",
         "0",
         "0",
         "209",
         "11",
         "1",
         "5",
         "18",
         "7",
         "9",
         "44",
         "4",
         "38",
         "0",
         "0",
         "2",
         "0",
         "0",
         "0",
         "7",
         "1",
         "0",
         "0",
         "0",
         "24",
         "0",
         "1",
         "9",
         "0",
         "2",
         "2",
         "1",
         "6",
         "26",
         "22",
         "2",
         "0",
         "6",
         "6",
         "0",
         "0",
         "0",
         "0",
         "0",
         "9",
         "9",
         "12",
         "12",
         "0",
         "0",
         "0",
         "0",
         "6",
         "6",
         "13",
         "13",
         "2",
         "2",
         "9",
         "0",
         "0",
         "0",
         "0",
         "9",
         "16",
         "0",
         "16",
         "0",
         "0",
         "88",
         "0",
         "0",
         "0",
         "0",
         "0",
         "2",
         "0",
         "0",
         "0",
         "0",
         "29",
         "2",
         "25",
         "0",
         "0",
         "2",
         "2",
         "2",
         "2",
         "0",
         "21",
         "21",
         "30",
         "7",
         "10",
         "2",
         "0",
         "9",
         "0",
         "28",
         "0",
         "0",
         "3",
         "3",
         "0",
         "0",
         "0",
         "25",
         "7",
         "18",
         "1",
         "0",
         "0",
         "0",
         "0",
         "1",
         "1",
         "0",
         "0",
         "0",
         "0",
         "0",
         "0",
         "0",
         "0",
         "0",
         "2"
        ],
        [
         "0x292e89d5d5bdab3af2f5838c194c1983f0140b43",
         "4.655585738612243",
         "6.067507562531411",
         "0.0002799552071668533",
         "0.11702127659574468",
         "0.021836506159014557",
         "0.01707726763717805",
         "0.03303471444568869",
         "0.012318029115341545",
         "0.002799552071668533",
         "0.003079507278835386",
         "0.06103023516237402",
         "0.026035834266517358",
         "0.0008398656215005599",
         "0.01791713325867861",
         "0.0025195968645016797",
         "0.0",
         "0.05375139977603583",
         "0.025195968645016796",
         "0.007838745800671893",
         "0.005879059350503919",
         "0.013997760358342666",
         "0.001959686450167973",
         "0.006998880179171333",
         "0.0008398656215005599",
         "0.018756998880179173",
         "0.009518477043673012",
         "0.0016797312430011197",
         "0.003079507278835386",
         "0.0005599104143337066",
         "0.0008398656215005599",
         "0.0008398656215005599",
         "0.0022396416573348264",
         "0.0022396416573348264",
         "0.005039193729003359",
         "0.0025195968645016797",
         "0.0",
         "0.0013997760358342665",
         "0.0013997760358342665",
         "0.009798432250839866",
         "0.005879059350503919",
         "0.0008398656215005599",
         "0.0016797312430011197",
         "0.005039193729003359",
         "0.0022396416573348264",
         "0.004479283314669653",
         "0.0005599104143337066",
         "0.0002799552071668533",
         "0.002799552071668533",
         "0.002799552071668533",
         "0.0002799552071668533",
         "0.003919372900335946",
         "0.008678611422172453",
         "0.0008398656215005599",
         "0.008958566629339306",
         "0.01931690929451288",
         "0.0008398656215005599",
         "0.0011198208286674132",
         "0.018756998880179173",
         "0.0011198208286674132",
         "0.0002799552071668533",
         "0.0005599104143337066",
         "0.0002799552071668533",
         "0.0002799552071668533",
         "0.0377939529675252",
         "0.0011198208286674132",
         "0.0016797312430011197",
         "0.0013997760358342665",
         "0.0011198208286674132",
         "0.0005599104143337066",
         "0.004759238521836506",
         "0.0008398656215005599",
         "0.0005599104143337066",
         "0.0",
         "0.0",
         "0.0002799552071668533",
         "0.0",
         "0.006438969764837626",
         "0.0002799552071668533",
         "0.0002799552071668533",
         "0.0011198208286674132",
         "0.0005599104143337066",
         "0.0002799552071668533",
         "0.010358342665173572",
         "0.0002799552071668533",
         "0.0008398656215005599",
         "0.0005599104143337066",
         "0.025755879059350503",
         "0.008678611422172453",
         "0.031075027995520716",
         "0.024356103023516238",
         "0.0083986562150056",
         "0.012318029115341545",
         "0.0005599104143337066",
         "0.0013997760358342665",
         "0.0033594624860022394",
         "0.006998880179171333",
         "0.005599104143337066",
         "0.0005599104143337066",
         "0.006718924972004479",
         "0.0002799552071668533",
         "0.0002799552071668533",
         "0.0",
         "0.002799552071668533",
         "0.0002799552071668533",
         "0.004759238521836506",
         "0.0005599104143337066",
         "0.0002799552071668533",
         "0.0",
         "0.008118701007838746",
         "0.0025195968645016797",
         "0.0005599104143337066",
         "0.0008398656215005599",
         "0.0005599104143337066",
         "0.0",
         "0.0008398656215005599",
         "0.007278835386338186",
         "0.0008398656215005599",
         "0.0",
         "0.0005599104143337066",
         "0.0",
         "0.0005599104143337066",
         "0.0",
         "0.006438969764837626",
         "0.0008398656215005599",
         "0.0002799552071668533",
         "0.0005599104143337066",
         "0.0002799552071668533",
         "0.001959686450167973",
         "0.0013997760358342665",
         "0.0008398656215005599",
         "0.0022396416573348264",
         "0.0011198208286674132",
         "0.0011198208286674132",
         "0.0008398656215005599",
         "0.0002799552071668533",
         "0.0002799552071668533",
         "0.0033594624860022394",
         "0.003079507278835386",
         "0.001959686450167973",
         "0.003639417693169093",
         "0.0005599104143337066",
         "0.0016797312430011197",
         "0.0002799552071668533",
         "0.0011198208286674132",
         "0.0011198208286674132",
         "0.0013997760358342665",
         "0.0002799552071668533",
         "0.0011198208286674132",
         "0.0005599104143337066",
         "0.0002799552071668533",
         "0.0002799552071668533",
         "0.0005599104143337066",
         "0.0011198208286674132",
         "0.003079507278835386",
         "0.0",
         "0.0008398656215005599",
         "0.004759238521836506",
         "0.0033594624860022394",
         "0.0002799552071668533",
         "0.0002799552071668533",
         "0.0005599104143337066",
         "0.022116461366181412",
         "0.0008398656215005599",
         "0.001959686450167973",
         "0.0002799552071668533",
         "0.0002799552071668533",
         "0.0005599104143337066",
         "0.0008398656215005599",
         "0.0002799552071668533",
         "0.0002799552071668533",
         "0.0002799552071668533",
         "0.0002799552071668533",
         "0.0013997760358342665",
         "0.0041993281075028",
         "0.0016797312430011197",
         "0.0011198208286674132",
         "0.0",
         "0.0005599104143337066",
         "0.004759238521836506",
         "0.0",
         "0.0",
         "0.0022396416573348264",
         "0.0005599104143337066",
         "0.0002799552071668533",
         "0.0",
         "0.0",
         "0.0011198208286674132",
         "0.0",
         "0.0008398656215005599",
         "0.0013997760358342665",
         "0.0011198208286674132",
         "0.0016797312430011197",
         "0.0005599104143337066",
         "0.0",
         "0.0002799552071668533",
         "0.0002799552071668533",
         "0.0",
         "0.003919372900335946",
         "0.0",
         "0.001959686450167973",
         "0.0002799552071668533",
         "0.0002799552071668533",
         "0.0013997760358342665",
         "0.0008398656215005599",
         "0.0008398656215005599",
         "0.0005599104143337066",
         "0.0005599104143337066",
         "0.0002799552071668533",
         "0.0002799552071668533",
         "0.0005599104143337066",
         "0.008678611422172453",
         "0.008678611422172453",
         "0.011478163493840985",
         "0.0013997760358342665",
         "0.0",
         "0.0013997760358342665",
         "0.0002799552071668533",
         "0.0002799552071668533",
         "0.0002799552071668533",
         "0.0005599104143337066",
         "0.0002799552071668533",
         "0.0011198208286674132",
         "0.0011198208286674132",
         "0.0002799552071668533",
         "0.0002799552071668533",
         "0.005319148936170213",
         "0.0005599104143337066",
         "0.0011198208286674132",
         "0.0013997760358342665",
         "0.001959686450167973",
         "0.0005599104143337066",
         "0.0005599104143337066",
         "0.0008398656215005599",
         "0.0002799552071668533",
         "0.006998880179171333",
         "0.0011198208286674132",
         "0.0005599104143337066",
         "0.0002799552071668533",
         "0.0002799552071668533",
         "0.0002799552071668533",
         "0.0002799552071668533",
         "0.0002799552071668533",
         "0.0005599104143337066",
         "0.0",
         "0.0",
         "0.0",
         "0.0",
         "0.0",
         "0.0",
         "0.0",
         "0.0",
         "0.0",
         "0.0",
         "0.0",
         "0.0",
         "0.0",
         "0.0",
         "0.0",
         "0.0",
         "98",
         "2",
         "0",
         "0",
         "2",
         "0",
         "0",
         "0",
         "0",
         "0",
         "0",
         "1",
         "1",
         "0",
         "1",
         "0",
         "1",
         "42",
         "0",
         "23",
         "0",
         "8",
         "9",
         "0",
         "2",
         "0",
         "2",
         "23",
         "18",
         "1",
         "3",
         "0",
         "7",
         "0",
         "0",
         "4",
         "1",
         "0",
         "2",
         "0",
         "3",
         "1",
         "2",
         "0",
         "0",
         "47",
         "3",
         "3",
         "1",
         "6",
         "0",
         "4",
         "1",
         "0",
         "1",
         "0",
         "0",
         "3",
         "1",
         "0",
         "5",
         "3",
         "0",
         "0",
         "11",
         "2",
         "1",
         "0",
         "8",
         "8",
         "0",
         "8",
         "0",
         "0",
         "0",
         "0",
         "1",
         "0",
         "0",
         "0",
         "6",
         "3",
         "0",
         "0",
         "0",
         "7",
         "2",
         "0",
         "0",
         "0",
         "1",
         "0",
         "10",
         "9",
         "9",
         "0",
         "0",
         "0",
         "11",
         "3",
         "3",
         "1",
         "1",
         "1",
         "1",
         "1",
         "1",
         "0",
         "2",
         "0",
         "2",
         "2",
         "0",
         "0",
         "74",
         "2",
         "0",
         "0",
         "0",
         "0",
         "0",
         "0",
         "0",
         "5",
         "1",
         "0",
         "1",
         "4",
         "0",
         "3",
         "0",
         "2",
         "0",
         "0",
         "3",
         "2",
         "1",
         "0",
         "0",
         "8",
         "2",
         "2",
         "2",
         "0",
         "2",
         "4",
         "1",
         "0",
         "0",
         "0",
         "18",
         "15",
         "3",
         "0",
         "0",
         "19",
         "19",
         "4",
         "3",
         "0",
         "3",
         "3",
         "0",
         "1",
         "87",
         "6",
         "0",
         "2",
         "7",
         "2",
         "3",
         "1",
         "8",
         "3",
         "2",
         "0",
         "1",
         "0",
         "1",
         "2",
         "2",
         "3",
         "2",
         "0",
         "0",
         "6",
         "4",
         "2",
         "0",
         "0",
         "44",
         "1",
         "40",
         "0",
         "2",
         "0",
         "3",
         "3",
         "0",
         "0",
         "0",
         "0",
         "0",
         "0",
         "0",
         "0",
         "2",
         "1",
         "0",
         "0",
         "67",
         "42",
         "0",
         "0",
         "38",
         "0",
         "0",
         "3",
         "2",
         "1",
         "0",
         "2",
         "0",
         "0",
         "1",
         "2",
         "2",
         "1",
         "0",
         "2",
         "2",
         "0",
         "4",
         "1",
         "2",
         "1",
         "4",
         "4",
         "0",
         "0",
         "1",
         "0",
         "30",
         "3",
         "0",
         "7",
         "3",
         "5",
         "1",
         "1",
         "1",
         "3",
         "2",
         "0",
         "0",
         "1",
         "0",
         "1",
         "1",
         "2",
         "2",
         "0",
         "0",
         "3",
         "0",
         "0",
         "25",
         "2",
         "0",
         "2",
         "2",
         "5",
         "1",
         "3",
         "3",
         "2",
         "0",
         "4",
         "4",
         "0",
         "0",
         "2",
         "2",
         "0",
         "15",
         "3",
         "2",
         "4",
         "1",
         "0",
         "1",
         "1",
         "1",
         "0",
         "0",
         "2",
         "2",
         "1",
         "10",
         "2",
         "1",
         "1",
         "3",
         "1",
         "1",
         "0",
         "24",
         "2",
         "2",
         "20",
         "20",
         "0",
         "0",
         "0",
         "0",
         "0",
         "0",
         "0",
         "0",
         "0",
         "0",
         "0",
         "0",
         "0",
         "0",
         "0",
         "0",
         "0",
         "10",
         "6",
         "6",
         "4",
         "4",
         "37",
         "1",
         "1",
         "2",
         "1",
         "5",
         "2",
         "1",
         "25",
         "25",
         "0",
         "0",
         "92",
         "92",
         "0",
         "2",
         "1",
         "0",
         "0",
         "0",
         "8",
         "41",
         "20",
         "0",
         "0",
         "0",
         "1",
         "5",
         "4",
         "1",
         "1",
         "0",
         "124",
         "0",
         "0",
         "5",
         "0",
         "0",
         "3",
         "4",
         "0",
         "2",
         "2",
         "1",
         "0",
         "0",
         "1",
         "1",
         "0",
         "0",
         "10",
         "0",
         "1",
         "1",
         "6",
         "0",
         "51",
         "10",
         "2",
         "2",
         "6",
         "18",
         "4",
         "0",
         "6",
         "0",
         "0",
         "27",
         "1",
         "2",
         "2",
         "2",
         "8",
         "1",
         "1",
         "10",
         "0",
         "0",
         "0",
         "0",
         "0",
         "0",
         "0",
         "1",
         "1",
         "5",
         "5",
         "5",
         "4",
         "1",
         "1",
         "0",
         "1",
         "0",
         "63",
         "14",
         "0",
         "0",
         "14",
         "2",
         "0",
         "2",
         "2",
         "38",
         "18",
         "15",
         "2",
         "5",
         "0",
         "5",
         "0",
         "0",
         "0",
         "0",
         "2",
         "2",
         "2",
         "8",
         "5",
         "5",
         "3",
         "3",
         "31",
         "7",
         "2",
         "0",
         "2",
         "3",
         "0",
         "2",
         "1",
         "1",
         "1",
         "15",
         "15",
         "0",
         "0",
         "0",
         "0",
         "0",
         "0",
         "3",
         "1",
         "0",
         "1",
         "115",
         "2",
         "2",
         "1",
         "1",
         "1",
         "1",
         "0",
         "0",
         "0",
         "0",
         "81",
         "25",
         "4",
         "3",
         "1",
         "38",
         "9",
         "0",
         "0",
         "9",
         "8",
         "2",
         "3",
         "1",
         "0",
         "1",
         "2",
         "3",
         "0",
         "0",
         "0",
         "0",
         "0",
         "1",
         "0",
         "7",
         "3",
         "0",
         "0",
         "0",
         "0",
         "4",
         "3",
         "3",
         "0",
         "64",
         "0",
         "0",
         "0",
         "0",
         "0",
         "0",
         "12",
         "12",
         "0",
         "0",
         "21",
         "9",
         "10",
         "0",
         "2",
         "0",
         "0",
         "11",
         "2",
         "0",
         "1",
         "1",
         "1",
         "7",
         "0",
         "0",
         "4",
         "2",
         "0",
         "0",
         "0",
         "0",
         "0",
         "0",
         "8",
         "5",
         "0",
         "1",
         "413",
         "31",
         "0",
         "0",
         "5",
         "20",
         "0",
         "3",
         "0",
         "8",
         "5",
         "0",
         "33",
         "0",
         "2",
         "4",
         "1",
         "4",
         "0",
         "19",
         "2",
         "12",
         "4",
         "2",
         "1",
         "0",
         "4",
         "0",
         "0",
         "0",
         "44",
         "39",
         "1",
         "2",
         "4",
         "1",
         "2",
         "0",
         "4",
         "2",
         "0",
         "1",
         "0",
         "2",
         "0",
         "3",
         "0",
         "25",
         "5",
         "2",
         "0",
         "15",
         "0",
         "0",
         "0",
         "2",
         "17",
         "2",
         "0",
         "14",
         "2",
         "4",
         "3",
         "0",
         "106",
         "1",
         "23",
         "2",
         "0",
         "0",
         "13",
         "27",
         "0",
         "2",
         "0",
         "31",
         "3",
         "15",
         "0",
         "1",
         "2",
         "10",
         "0",
         "0",
         "0",
         "0",
         "2",
         "1",
         "2",
         "0",
         "0",
         "0",
         "0",
         "58",
         "15",
         "11",
         "27",
         "2",
         "1",
         "9",
         "0",
         "9",
         "0",
         "0",
         "23",
         "15",
         "0",
         "8",
         "0",
         "1",
         "1",
         "0",
         "2",
         "188",
         "9",
         "9",
         "2",
         "0",
         "3",
         "0",
         "3",
         "2",
         "2",
         "4",
         "1",
         "2",
         "4",
         "1",
         "1",
         "1",
         "1",
         "0",
         "0",
         "0",
         "0",
         "69",
         "69",
         "63",
         "14",
         "2",
         "0",
         "2",
         "38",
         "5",
         "0",
         "0",
         "4",
         "0",
         "0",
         "0",
         "1",
         "15",
         "9",
         "6",
         "0",
         "6",
         "0",
         "3",
         "0",
         "5",
         "4",
         "2",
         "0",
         "0",
         "0",
         "0",
         "0",
         "0",
         "0",
         "16",
         "0",
         "0",
         "0",
         "0",
         "0",
         "16",
         "16",
         "0",
         "0",
         "0",
         "12",
         "1",
         "1",
         "8",
         "8",
         "1",
         "2",
         "20",
         "0",
         "0",
         "0",
         "15",
         "15",
         "3",
         "3",
         "2",
         "2",
         "0",
         "3",
         "1",
         "3",
         "1",
         "1",
         "0",
         "1",
         "0",
         "0",
         "0",
         "1",
         "0",
         "0",
         "0",
         "0",
         "22",
         "21",
         "3",
         "2",
         "1",
         "6",
         "5",
         "19",
         "2",
         "2",
         "0",
         "0",
         "0",
         "11",
         "6",
         "2",
         "2",
         "0",
         "3",
         "3",
         "58",
         "15",
         "15",
         "11",
         "9",
         "2",
         "27",
         "6",
         "2",
         "2",
         "10",
         "1",
         "1",
         "1",
         "2",
         "1",
         "25",
         "0",
         "0",
         "18",
         "6",
         "1",
         "9",
         "0",
         "2",
         "2",
         "0",
         "2",
         "2",
         "0",
         "0",
         "7",
         "6",
         "6",
         "7",
         "1",
         "1",
         "0",
         "0",
         "1",
         "0",
         "0",
         "0",
         "2",
         "1",
         "0",
         "0",
         "37",
         "6",
         "3",
         "2",
         "1",
         "0",
         "2",
         "2",
         "0",
         "2",
         "0",
         "0",
         "2",
         "2",
         "0",
         "10",
         "6",
         "1",
         "1",
         "0",
         "0",
         "0",
         "0",
         "0",
         "0",
         "0",
         "6",
         "6",
         "5",
         "1",
         "1",
         "1",
         "1",
         "89",
         "2",
         "2",
         "0",
         "0",
         "0",
         "0",
         "16",
         "0",
         "15",
         "1",
         "2",
         "0",
         "1",
         "7",
         "7",
         "2",
         "2",
         "2",
         "1",
         "1",
         "9",
         "0",
         "2",
         "0",
         "2",
         "1",
         "0",
         "0",
         "3",
         "0",
         "0",
         "0",
         "0",
         "11",
         "0",
         "8",
         "1",
         "2",
         "0",
         "0",
         "0",
         "0",
         "1",
         "1",
         "1",
         "1",
         "11",
         "9",
         "0",
         "0",
         "4",
         "0",
         "0",
         "0",
         "8",
         "0",
         "1",
         "4",
         "0",
         "0",
         "3",
         "2",
         "0",
         "3",
         "1",
         "44",
         "1",
         "4",
         "3",
         "1",
         "1",
         "0",
         "2",
         "1",
         "4",
         "3",
         "6",
         "0",
         "3",
         "1",
         "1",
         "0",
         "0",
         "0",
         "0",
         "0",
         "3",
         "3",
         "14",
         "0",
         "1",
         "0",
         "5",
         "0",
         "6",
         "20",
         "2",
         "0",
         "9",
         "3",
         "5",
         "2",
         "1",
         "1",
         "1",
         "0",
         "12",
         "2",
         "1",
         "4",
         "3",
         "3",
         "3",
         "5",
         "1",
         "2",
         "0",
         "1",
         "0",
         "0",
         "0",
         "0",
         "1"
        ],
        [
         "0x2753dce37a7edb052a77832039bcc9aa49ad8b25",
         "4.622489015370107",
         "6.275985708590439",
         "0.00015845349389954048",
         "0.10584693392489304",
         "0.019489779749643478",
         "0.012517826018063699",
         "0.02978925685311361",
         "0.013468546981460942",
         "0.0039613373474885125",
         "0.0034859768657898907",
         "0.066550467437807",
         "0.018697512280145778",
         "0.0006338139755981619",
         "0.01632070987165267",
         "0.0012676279511963239",
         "0.0017429884328949454",
         "0.04531769925526858",
         "0.025511012517826018",
         "0.013943907463159563",
         "0.0038028838535889716",
         "0.018855965774045316",
         "0.007288860719378862",
         "0.004753604816986215",
         "0.00031690698779908097",
         "0.01695452384725083",
         "0.00966566312787197",
         "0.0023768024084931073",
         "0.00316906987799081",
         "0.0006338139755981619",
         "0.0011091744572967834",
         "0.0006338139755981619",
         "0.0019014419267944858",
         "0.0028521628901917286",
         "0.002693709396292188",
         "0.001584534938995405",
         "0.00047536048169862145",
         "0.0007922674694977025",
         "0.00031690698779908097",
         "0.007130407225479322",
         "0.011884012042465536",
         "0.0006338139755981619",
         "0.0006338139755981619",
         "0.0050705118047852955",
         "0.0009507209633972429",
         "0.004912058310885755",
         "0.0006338139755981619",
         "0.00015845349389954048",
         "0.004912058310885755",
         "0.0020598954206940264",
         "0.00047536048169862145",
         "0.0019014419267944858",
         "0.008081128188876565",
         "0.0007922674694977025",
         "0.007922674694977025",
         "0.021232768182538424",
         "0.0007922674694977025",
         "0.0012676279511963239",
         "0.015686895896054508",
         "0.00015845349389954048",
         "0.0006338139755981619",
         "0.0006338139755981619",
         "0.0011091744572967834",
         "0.0006338139755981619",
         "0.03612739660909523",
         "0.00047536048169862145",
         "0.0009507209633972429",
         "0.003010616384091269",
         "0.0007922674694977025",
         "0.00031690698779908097",
         "0.003010616384091269",
         "0.0012676279511963239",
         "0.00047536048169862145",
         "0.00047536048169862145",
         "0.0009507209633972429",
         "0.00015845349389954048",
         "0.00015845349389954048",
         "0.00633813975598162",
         "0.00031690698779908097",
         "0.00031690698779908097",
         "0.0012676279511963239",
         "0.00047536048169862145",
         "0.0009507209633972429",
         "0.010774837585168753",
         "0.00031690698779908097",
         "0.0017429884328949454",
         "0.00031690698779908097",
         "0.029947710347013153",
         "0.009190302646173348",
         "0.027729361432419584",
         "0.023609570591031533",
         "0.008239581682776106",
         "0.00966566312787197",
         "0.0009507209633972429",
         "0.0025352559023926477",
         "0.0012676279511963239",
         "0.004119790841388053",
         "0.004753604816986215",
         "0.00031690698779908097",
         "0.007288860719378862",
         "0.00015845349389954048",
         "0.0007922674694977025",
         "0.0007922674694977025",
         "0.002693709396292188",
         "0.00031690698779908097",
         "0.002693709396292188",
         "0.0007922674694977025",
         "0.0006338139755981619",
         "0.0007922674694977025",
         "0.001584534938995405",
         "0.001584534938995405",
         "0.00047536048169862145",
         "0.0007922674694977025",
         "0.0007922674694977025",
         "0.00015845349389954048",
         "0.00047536048169862145",
         "0.007288860719378862",
         "0.00015845349389954048",
         "0.002218348914593567",
         "0.0011091744572967834",
         "0.00031690698779908097",
         "0.00031690698779908097",
         "0.0020598954206940264",
         "0.005545872286483917",
         "0.0007922674694977025",
         "0.00031690698779908097",
         "0.0007922674694977025",
         "0.0011091744572967834",
         "0.00031690698779908097",
         "0.0011091744572967834",
         "0.0009507209633972429",
         "0.0033275233718903503",
         "0.0014260814450958643",
         "0.0014260814450958643",
         "0.0012676279511963239",
         "0.00047536048169862145",
         "0.00047536048169862145",
         "0.004119790841388053",
         "0.005228965298684836",
         "0.0019014419267944858",
         "0.0050705118047852955",
         "0.0006338139755981619",
         "0.0009507209633972429",
         "0.0006338139755981619",
         "0.0012676279511963239",
         "0.0007922674694977025",
         "0.00031690698779908097",
         "0.00031690698779908097",
         "0.0007922674694977025",
         "0.0017429884328949454",
         "0.00015845349389954048",
         "0.0007922674694977025",
         "0.0011091744572967834",
         "0.0012676279511963239",
         "0.003644430359689431",
         "0.00047536048169862145",
         "0.0019014419267944858",
         "0.004595151323086674",
         "0.0020598954206940264",
         "0.00031690698779908097",
         "0.00015845349389954048",
         "0.0009507209633972429",
         "0.022500396133734748",
         "0.00047536048169862145",
         "0.007447314213278403",
         "0.0007922674694977025",
         "0.0014260814450958643",
         "0.0009507209633972429",
         "0.00031690698779908097",
         "0.0011091744572967834",
         "0.00031690698779908097",
         "0.0006338139755981619",
         "0.0012676279511963239",
         "0.0007922674694977025",
         "0.002693709396292188",
         "0.0012676279511963239",
         "0.0012676279511963239",
         "0.00015845349389954048",
         "0.0009507209633972429",
         "0.005228965298684836",
         "0.0007922674694977025",
         "0.0012676279511963239",
         "0.0012676279511963239",
         "0.00031690698779908097",
         "0.0017429884328949454",
         "0.00015845349389954048",
         "0.0",
         "0.0012676279511963239",
         "0.00031690698779908097",
         "0.00047536048169862145",
         "0.005862779274282998",
         "0.0033275233718903503",
         "0.0023768024084931073",
         "0.0007922674694977025",
         "0.0006338139755981619",
         "0.00015845349389954048",
         "0.002218348914593567",
         "0.0",
         "0.00316906987799081",
         "0.00047536048169862145",
         "0.0011091744572967834",
         "0.001584534938995405",
         "0.0012676279511963239",
         "0.0011091744572967834",
         "0.0014260814450958643",
         "0.002218348914593567",
         "0.0019014419267944858",
         "0.0011091744572967834",
         "0.00047536048169862145",
         "0.00031690698779908097",
         "0.00047536048169862145",
         "0.006179686262082079",
         "0.007764221201077484",
         "0.010933291079068293",
         "0.0019014419267944858",
         "0.00015845349389954048",
         "0.0014260814450958643",
         "0.00015845349389954048",
         "0.0009507209633972429",
         "0.00015845349389954048",
         "0.00031690698779908097",
         "0.00047536048169862145",
         "0.0007922674694977025",
         "0.0009507209633972429",
         "0.00015845349389954048",
         "0.00015845349389954048",
         "0.004119790841388053",
         "0.0009507209633972429",
         "0.0009507209633972429",
         "0.0007922674694977025",
         "0.00031690698779908097",
         "0.0014260814450958643",
         "0.0007922674694977025",
         "0.00015845349389954048",
         "0.0006338139755981619",
         "0.005862779274282998",
         "0.0012676279511963239",
         "0.00047536048169862145",
         "0.00031690698779908097",
         "0.0007922674694977025",
         "0.00047536048169862145",
         "0.00031690698779908097",
         "0.00031690698779908097",
         "0.0019014419267944858",
         "0.00031690698779908097",
         "0.0007922674694977025",
         "0.00031690698779908097",
         "0.0014260814450958643",
         "0.00047536048169862145",
         "0.00047536048169862145",
         "0.0006338139755981619",
         "0.00047536048169862145",
         "0.00031690698779908097",
         "0.00031690698779908097",
         "0.00031690698779908097",
         "0.00047536048169862145",
         "0.00031690698779908097",
         "0.00031690698779908097",
         "0.00015845349389954048",
         "0.0",
         "153",
         "3",
         "0",
         "0",
         "2",
         "1",
         "0",
         "1",
         "0",
         "0",
         "0",
         "6",
         "2",
         "0",
         "0",
         "0",
         "1",
         "65",
         "0",
         "34",
         "3",
         "16",
         "14",
         "4",
         "2",
         "0",
         "0",
         "39",
         "28",
         "0",
         "10",
         "3",
         "10",
         "0",
         "0",
         "5",
         "1",
         "4",
         "0",
         "0",
         "4",
         "0",
         "1",
         "1",
         "0",
         "76",
         "8",
         "8",
         "4",
         "6",
         "0",
         "3",
         "2",
         "1",
         "1",
         "1",
         "5",
         "1",
         "0",
         "0",
         "4",
         "4",
         "0",
         "0",
         "14",
         "2",
         "2",
         "0",
         "7",
         "11",
         "2",
         "8",
         "0",
         "0",
         "1",
         "1",
         "9",
         "0",
         "0",
         "0",
         "4",
         "0",
         "0",
         "0",
         "0",
         "7",
         "3",
         "0",
         "0",
         "0",
         "1",
         "0",
         "23",
         "21",
         "21",
         "0",
         "0",
         "0",
         "24",
         "8",
         "8",
         "8",
         "1",
         "1",
         "1",
         "0",
         "0",
         "0",
         "4",
         "2",
         "1",
         "0",
         "0",
         "0",
         "118",
         "1",
         "0",
         "0",
         "1",
         "0",
         "0",
         "0",
         "0",
         "5",
         "1",
         "0",
         "3",
         "9",
         "1",
         "7",
         "0",
         "4",
         "0",
         "0",
         "3",
         "3",
         "1",
         "1",
         "0",
         "11",
         "2",
         "0",
         "3",
         "0",
         "4",
         "2",
         "2",
         "0",
         "0",
         "0",
         "40",
         "33",
         "7",
         "0",
         "0",
         "18",
         "18",
         "12",
         "7",
         "3",
         "7",
         "6",
         "0",
         "1",
         "146",
         "3",
         "1",
         "0",
         "10",
         "3",
         "0",
         "1",
         "11",
         "3",
         "5",
         "0",
         "1",
         "2",
         "0",
         "4",
         "3",
         "3",
         "3",
         "1",
         "1",
         "9",
         "5",
         "4",
         "3",
         "3",
         "64",
         "0",
         "60",
         "3",
         "10",
         "0",
         "3",
         "2",
         "0",
         "0",
         "4",
         "1",
         "1",
         "0",
         "0",
         "0",
         "8",
         "7",
         "1",
         "0",
         "128",
         "70",
         "0",
         "0",
         "62",
         "0",
         "2",
         "8",
         "2",
         "3",
         "1",
         "6",
         "5",
         "0",
         "7",
         "3",
         "3",
         "1",
         "1",
         "1",
         "1",
         "1",
         "7",
         "2",
         "2",
         "2",
         "8",
         "8",
         "0",
         "0",
         "4",
         "1",
         "49",
         "0",
         "0",
         "6",
         "2",
         "6",
         "2",
         "5",
         "0",
         "3",
         "3",
         "2",
         "1",
         "2",
         "1",
         "2",
         "0",
         "8",
         "8",
         "0",
         "0",
         "7",
         "1",
         "0",
         "35",
         "6",
         "1",
         "0",
         "1",
         "4",
         "2",
         "1",
         "1",
         "4",
         "3",
         "2",
         "2",
         "0",
         "0",
         "6",
         "3",
         "2",
         "26",
         "3",
         "4",
         "0",
         "1",
         "5",
         "1",
         "4",
         "4",
         "0",
         "0",
         "4",
         "3",
         "1",
         "7",
         "0",
         "0",
         "0",
         "5",
         "1",
         "3",
         "2",
         "47",
         "1",
         "1",
         "44",
         "44",
         "0",
         "0",
         "0",
         "0",
         "0",
         "0",
         "0",
         "3",
         "2",
         "0",
         "0",
         "0",
         "0",
         "0",
         "0",
         "0",
         "0",
         "13",
         "4",
         "4",
         "8",
         "8",
         "33",
         "0",
         "0",
         "1",
         "1",
         "2",
         "1",
         "0",
         "29",
         "29",
         "0",
         "0",
         "186",
         "185",
         "0",
         "5",
         "0",
         "1",
         "0",
         "0",
         "13",
         "71",
         "70",
         "0",
         "0",
         "3",
         "1",
         "4",
         "2",
         "2",
         "1",
         "0",
         "223",
         "0",
         "0",
         "13",
         "1",
         "4",
         "7",
         "2",
         "0",
         "0",
         "2",
         "2",
         "2",
         "0",
         "1",
         "1",
         "0",
         "0",
         "19",
         "0",
         "1",
         "5",
         "6",
         "0",
         "82",
         "11",
         "5",
         "5",
         "11",
         "22",
         "0",
         "0",
         "17",
         "1",
         "1",
         "76",
         "1",
         "10",
         "6",
         "2",
         "19",
         "2",
         "2",
         "29",
         "2",
         "0",
         "0",
         "0",
         "0",
         "3",
         "0",
         "1",
         "1",
         "4",
         "3",
         "3",
         "2",
         "3",
         "2",
         "1",
         "1",
         "0",
         "101",
         "33",
         "0",
         "1",
         "32",
         "2",
         "1",
         "2",
         "0",
         "49",
         "17",
         "27",
         "0",
         "11",
         "0",
         "9",
         "0",
         "0",
         "0",
         "0",
         "4",
         "3",
         "3",
         "13",
         "6",
         "6",
         "6",
         "6",
         "56",
         "7",
         "0",
         "0",
         "1",
         "6",
         "3",
         "5",
         "2",
         "4",
         "2",
         "27",
         "27",
         "0",
         "0",
         "0",
         "0",
         "0",
         "0",
         "4",
         "2",
         "0",
         "1",
         "176",
         "5",
         "1",
         "3",
         "0",
         "1",
         "0",
         "0",
         "0",
         "0",
         "0",
         "117",
         "37",
         "10",
         "1",
         "5",
         "55",
         "8",
         "4",
         "1",
         "17",
         "16",
         "2",
         "6",
         "0",
         "1",
         "2",
         "4",
         "4",
         "1",
         "0",
         "0",
         "0",
         "0",
         "1",
         "1",
         "20",
         "10",
         "3",
         "6",
         "0",
         "0",
         "5",
         "4",
         "3",
         "0",
         "93",
         "0",
         "1",
         "0",
         "0",
         "1",
         "0",
         "20",
         "20",
         "3",
         "1",
         "35",
         "15",
         "15",
         "3",
         "0",
         "1",
         "0",
         "14",
         "0",
         "1",
         "2",
         "1",
         "1",
         "4",
         "0",
         "0",
         "1",
         "3",
         "0",
         "3",
         "1",
         "2",
         "1",
         "1",
         "5",
         "3",
         "0",
         "0",
         "660",
         "53",
         "1",
         "2",
         "6",
         "33",
         "0",
         "4",
         "1",
         "9",
         "3",
         "3",
         "44",
         "0",
         "4",
         "6",
         "1",
         "4",
         "0",
         "18",
         "8",
         "18",
         "0",
         "5",
         "1",
         "1",
         "2",
         "1",
         "1",
         "3",
         "75",
         "63",
         "1",
         "3",
         "5",
         "0",
         "3",
         "1",
         "6",
         "5",
         "0",
         "3",
         "0",
         "0",
         "1",
         "1",
         "1",
         "45",
         "6",
         "4",
         "2",
         "27",
         "0",
         "0",
         "0",
         "4",
         "17",
         "2",
         "0",
         "14",
         "0",
         "10",
         "6",
         "0",
         "171",
         "2",
         "32",
         "1",
         "0",
         "0",
         "10",
         "53",
         "1",
         "4",
         "1",
         "56",
         "7",
         "30",
         "0",
         "1",
         "1",
         "28",
         "0",
         "0",
         "0",
         "0",
         "4",
         "4",
         "1",
         "0",
         "0",
         "0",
         "1",
         "105",
         "29",
         "19",
         "53",
         "0",
         "1",
         "18",
         "0",
         "15",
         "2",
         "0",
         "23",
         "15",
         "0",
         "3",
         "0",
         "3",
         "0",
         "1",
         "0",
         "378",
         "21",
         "21",
         "2",
         "1",
         "13",
         "4",
         "2",
         "10",
         "2",
         "7",
         "3",
         "2",
         "3",
         "1",
         "1",
         "2",
         "0",
         "0",
         "0",
         "0",
         "0",
         "145",
         "145",
         "101",
         "33",
         "2",
         "1",
         "2",
         "49",
         "11",
         "0",
         "0",
         "8",
         "0",
         "0",
         "0",
         "0",
         "38",
         "21",
         "17",
         "0",
         "21",
         "3",
         "13",
         "0",
         "3",
         "1",
         "2",
         "0",
         "0",
         "0",
         "0",
         "0",
         "0",
         "0",
         "29",
         "0",
         "0",
         "0",
         "0",
         "0",
         "29",
         "29",
         "0",
         "0",
         "0",
         "29",
         "1",
         "1",
         "16",
         "16",
         "1",
         "4",
         "47",
         "0",
         "0",
         "0",
         "33",
         "33",
         "7",
         "7",
         "7",
         "7",
         "0",
         "3",
         "2",
         "1",
         "1",
         "1",
         "0",
         "1",
         "0",
         "0",
         "0",
         "0",
         "0",
         "0",
         "0",
         "0",
         "23",
         "23",
         "8",
         "1",
         "3",
         "3",
         "5",
         "27",
         "3",
         "3",
         "0",
         "0",
         "5",
         "8",
         "2",
         "0",
         "4",
         "1",
         "2",
         "1",
         "105",
         "29",
         "27",
         "19",
         "13",
         "4",
         "53",
         "15",
         "6",
         "4",
         "7",
         "0",
         "9",
         "3",
         "0",
         "3",
         "43",
         "3",
         "0",
         "24",
         "7",
         "0",
         "12",
         "0",
         "7",
         "5",
         "0",
         "5",
         "3",
         "0",
         "0",
         "8",
         "7",
         "7",
         "12",
         "2",
         "2",
         "2",
         "1",
         "2",
         "0",
         "0",
         "0",
         "2",
         "1",
         "0",
         "0",
         "73",
         "15",
         "7",
         "0",
         "2",
         "1",
         "1",
         "6",
         "0",
         "6",
         "0",
         "0",
         "4",
         "4",
         "0",
         "7",
         "4",
         "0",
         "9",
         "4",
         "1",
         "0",
         "0",
         "0",
         "2",
         "0",
         "7",
         "7",
         "12",
         "3",
         "1",
         "1",
         "2",
         "157",
         "1",
         "1",
         "0",
         "1",
         "0",
         "0",
         "22",
         "1",
         "16",
         "0",
         "4",
         "1",
         "2",
         "14",
         "13",
         "4",
         "3",
         "2",
         "10",
         "7",
         "11",
         "0",
         "4",
         "0",
         "1",
         "1",
         "1",
         "0",
         "2",
         "11",
         "3",
         "1",
         "5",
         "22",
         "0",
         "18",
         "4",
         "0",
         "0",
         "0",
         "0",
         "0",
         "1",
         "1",
         "1",
         "1",
         "5",
         "4",
         "0",
         "0",
         "9",
         "1",
         "1",
         "1",
         "14",
         "1",
         "2",
         "3",
         "1",
         "2",
         "5",
         "4",
         "0",
         "3",
         "2",
         "59",
         "3",
         "2",
         "0",
         "0",
         "0",
         "1",
         "4",
         "1",
         "3",
         "2",
         "6",
         "1",
         "2",
         "1",
         "2",
         "2",
         "2",
         "1",
         "1",
         "1",
         "6",
         "6",
         "18",
         "0",
         "3",
         "1",
         "3",
         "0",
         "4",
         "27",
         "4",
         "2",
         "7",
         "3",
         "3",
         "5",
         "1",
         "4",
         "2",
         "2",
         "13",
         "3",
         "3",
         "3",
         "2",
         "2",
         "2",
         "8",
         "0",
         "0",
         "0",
         "0",
         "1",
         "0",
         "0",
         "0",
         "1"
        ],
        [
         "0xe1a0ce8b94c6a5e4791401086763d7bd0a6c18f5",
         "4.80880868748557",
         "5.868158905058549",
         "0.00039261876717707107",
         "0.10600706713780919",
         "0.036120926580290535",
         "0.0176678445229682",
         "0.03219473890851983",
         "0.01099332548095799",
         "0.0031409501374165686",
         "0.005496662740478995",
         "0.053396152336081665",
         "0.02237926972909305",
         "0.0",
         "0.016489988221436984",
         "0.005889281507656066",
         "0.0",
         "0.06203376521397723",
         "0.04043973301923832",
         "0.009422850412249705",
         "0.0007852375343541421",
         "0.016489988221436984",
         "0.002355712603062426",
         "0.006281900274833137",
         "0.00039261876717707107",
         "0.03180212014134275",
         "0.004711425206124852",
         "0.00039261876717707107",
         "0.0031409501374165686",
         "0.00039261876717707107",
         "0.001177856301531213",
         "0.0007852375343541421",
         "0.002355712603062426",
         "0.00039261876717707107",
         "0.00039261876717707107",
         "0.0019630938358853552",
         "0.0",
         "0.0015704750687082843",
         "0.00039261876717707107",
         "0.009815469179426776",
         "0.007852375343541421",
         "0.0007852375343541421",
         "0.00039261876717707107",
         "0.0031409501374165686",
         "0.001177856301531213",
         "0.0035335689045936395",
         "0.00039261876717707107",
         "0.00039261876717707107",
         "0.0035335689045936395",
         "0.002355712603062426",
         "0.001177856301531213",
         "0.0035335689045936395",
         "0.00745975657636435",
         "0.0",
         "0.009030231645072634",
         "0.019238319591676482",
         "0.00039261876717707107",
         "0.0007852375343541421",
         "0.026698076168040832",
         "0.0",
         "0.0",
         "0.001177856301531213",
         "0.0",
         "0.0",
         "0.0298390263054574",
         "0.0015704750687082843",
         "0.0015704750687082843",
         "0.001177856301531213",
         "0.001177856301531213",
         "0.001177856301531213",
         "0.008244994110718492",
         "0.00039261876717707107",
         "0.0007852375343541421",
         "0.0",
         "0.00039261876717707107",
         "0.0",
         "0.0",
         "0.0039261876717707105",
         "0.00039261876717707107",
         "0.00039261876717707107",
         "0.00039261876717707107",
         "0.0007852375343541421",
         "0.001177856301531213",
         "0.007852375343541421",
         "0.00039261876717707107",
         "0.0007852375343541421",
         "0.00039261876717707107",
         "0.01845308205732234",
         "0.015312131919905771",
         "0.03965449548488418",
         "0.03729878288182175",
         "0.012956419316843345",
         "0.02120141342756184",
         "0.0007852375343541421",
         "0.0043188064389477815",
         "0.0015704750687082843",
         "0.0015704750687082843",
         "0.007067137809187279",
         "0.0019630938358853552",
         "0.009030231645072634",
         "0.0",
         "0.0007852375343541421",
         "0.001177856301531213",
         "0.002355712603062426",
         "0.0",
         "0.0",
         "0.0007852375343541421",
         "0.0",
         "0.0",
         "0.0",
         "0.0015704750687082843",
         "0.0007852375343541421",
         "0.0007852375343541421",
         "0.001177856301531213",
         "0.0",
         "0.0",
         "0.005496662740478995",
         "0.00039261876717707107",
         "0.0",
         "0.00039261876717707107",
         "0.0",
         "0.0",
         "0.00039261876717707107",
         "0.005889281507656066",
         "0.001177856301531213",
         "0.0",
         "0.0",
         "0.0",
         "0.0",
         "0.00039261876717707107",
         "0.0007852375343541421",
         "0.00039261876717707107",
         "0.00039261876717707107",
         "0.0007852375343541421",
         "0.00039261876717707107",
         "0.00039261876717707107",
         "0.0015704750687082843",
         "0.001177856301531213",
         "0.0015704750687082843",
         "0.001177856301531213",
         "0.0015704750687082843",
         "0.00039261876717707107",
         "0.0007852375343541421",
         "0.00039261876717707107",
         "0.001177856301531213",
         "0.0007852375343541421",
         "0.001177856301531213",
         "0.00039261876717707107",
         "0.00039261876717707107",
         "0.00039261876717707107",
         "0.0007852375343541421",
         "0.0007852375343541421",
         "0.0019630938358853552",
         "0.0007852375343541421",
         "0.0039261876717707105",
         "0.0",
         "0.0007852375343541421",
         "0.002355712603062426",
         "0.00039261876717707107",
         "0.0",
         "0.00039261876717707107",
         "0.00039261876717707107",
         "0.014134275618374558",
         "0.00039261876717707107",
         "0.0019630938358853552",
         "0.00039261876717707107",
         "0.00039261876717707107",
         "0.00039261876717707107",
         "0.001177856301531213",
         "0.00039261876717707107",
         "0.001177856301531213",
         "0.001177856301531213",
         "0.0015704750687082843",
         "0.00039261876717707107",
         "0.006281900274833137",
         "0.0035335689045936395",
         "0.0",
         "0.00039261876717707107",
         "0.0007852375343541421",
         "0.0027483313702394976",
         "0.0",
         "0.0",
         "0.00039261876717707107",
         "0.00039261876717707107",
         "0.0043188064389477815",
         "0.00039261876717707107",
         "0.00039261876717707107",
         "0.0007852375343541421",
         "0.0",
         "0.00039261876717707107",
         "0.0",
         "0.0031409501374165686",
         "0.0031409501374165686",
         "0.00039261876717707107",
         "0.00039261876717707107",
         "0.00039261876717707107",
         "0.0027483313702394976",
         "0.0",
         "0.00039261876717707107",
         "0.0",
         "0.0019630938358853552",
         "0.0007852375343541421",
         "0.0035335689045936395",
         "0.0015704750687082843",
         "0.0007852375343541421",
         "0.0",
         "0.0",
         "0.00039261876717707107",
         "0.00039261876717707107",
         "0.0",
         "0.0",
         "0.007852375343541421",
         "0.006674519042010208",
         "0.013741656851197487",
         "0.0027483313702394976",
         "0.00039261876717707107",
         "0.00039261876717707107",
         "0.0",
         "0.0",
         "0.0",
         "0.0",
         "0.0",
         "0.0",
         "0.0007852375343541421",
         "0.0",
         "0.0",
         "0.0015704750687082843",
         "0.0",
         "0.0",
         "0.001177856301531213",
         "0.0",
         "0.0",
         "0.0007852375343541421",
         "0.00039261876717707107",
         "0.0007852375343541421",
         "0.0039261876717707105",
         "0.001177856301531213",
         "0.0",
         "0.0007852375343541421",
         "0.0",
         "0.0",
         "0.00039261876717707107",
         "0.0",
         "0.00039261876717707107",
         "0.0",
         "0.0",
         "0.0",
         "0.0",
         "0.0",
         "0.0007852375343541421",
         "0.0",
         "0.0",
         "0.0031409501374165686",
         "0.0",
         "0.0",
         "0.00039261876717707107",
         "0.0",
         "0.0",
         "0.00039261876717707107",
         "0.0",
         "78",
         "0",
         "0",
         "0",
         "7",
         "10",
         "5",
         "1",
         "0",
         "4",
         "0",
         "4",
         "7",
         "5",
         "1",
         "0",
         "2",
         "6",
         "0",
         "3",
         "0",
         "1",
         "6",
         "0",
         "3",
         "0",
         "1",
         "5",
         "2",
         "3",
         "0",
         "0",
         "15",
         "2",
         "0",
         "0",
         "0",
         "3",
         "0",
         "2",
         "13",
         "7",
         "2",
         "0",
         "4",
         "40",
         "0",
         "0",
         "3",
         "6",
         "0",
         "6",
         "5",
         "1",
         "4",
         "0",
         "0",
         "0",
         "0",
         "0",
         "2",
         "0",
         "0",
         "0",
         "7",
         "2",
         "0",
         "0",
         "5",
         "6",
         "2",
         "4",
         "0",
         "0",
         "0",
         "0",
         "6",
         "0",
         "0",
         "5",
         "2",
         "0",
         "0",
         "0",
         "0",
         "15",
         "2",
         "5",
         "0",
         "0",
         "1",
         "0",
         "8",
         "0",
         "0",
         "7",
         "0",
         "7",
         "2",
         "0",
         "0",
         "0",
         "1",
         "1",
         "1",
         "7",
         "7",
         "4",
         "6",
         "2",
         "0",
         "0",
         "0",
         "0",
         "91",
         "0",
         "0",
         "0",
         "7",
         "7",
         "5",
         "0",
         "5",
         "4",
         "0",
         "0",
         "1",
         "9",
         "1",
         "2",
         "0",
         "3",
         "0",
         "0",
         "5",
         "5",
         "11",
         "6",
         "1",
         "13",
         "8",
         "3",
         "0",
         "0",
         "0",
         "4",
         "0",
         "4",
         "0",
         "0",
         "12",
         "11",
         "1",
         "0",
         "0",
         "9",
         "9",
         "2",
         "2",
         "0",
         "6",
         "6",
         "0",
         "2",
         "95",
         "8",
         "0",
         "4",
         "4",
         "0",
         "2",
         "6",
         "6",
         "0",
         "3",
         "0",
         "1",
         "0",
         "0",
         "0",
         "0",
         "0",
         "0",
         "0",
         "0",
         "10",
         "10",
         "0",
         "2",
         "1",
         "35",
         "0",
         "29",
         "2",
         "1",
         "0",
         "0",
         "0",
         "0",
         "0",
         "3",
         "1",
         "1",
         "5",
         "5",
         "0",
         "10",
         "3",
         "0",
         "5",
         "48",
         "12",
         "0",
         "0",
         "5",
         "0",
         "2",
         "3",
         "1",
         "2",
         "2",
         "7",
         "2",
         "5",
         "3",
         "0",
         "0",
         "0",
         "0",
         "0",
         "0",
         "0",
         "13",
         "6",
         "2",
         "0",
         "1",
         "1",
         "0",
         "0",
         "4",
         "2",
         "33",
         "6",
         "1",
         "2",
         "0",
         "4",
         "3",
         "4",
         "2",
         "0",
         "0",
         "1",
         "1",
         "2",
         "2",
         "4",
         "0",
         "1",
         "1",
         "0",
         "0",
         "2",
         "0",
         "0",
         "18",
         "2",
         "0",
         "3",
         "0",
         "5",
         "1",
         "3",
         "0",
         "1",
         "0",
         "6",
         "3",
         "0",
         "0",
         "0",
         "0",
         "0",
         "8",
         "1",
         "1",
         "2",
         "0",
         "0",
         "3",
         "0",
         "0",
         "0",
         "0",
         "0",
         "0",
         "1",
         "1",
         "0",
         "0",
         "0",
         "2",
         "0",
         "2",
         "2",
         "11",
         "0",
         "0",
         "11",
         "11",
         "0",
         "0",
         "2",
         "0",
         "0",
         "0",
         "0",
         "0",
         "0",
         "0",
         "0",
         "0",
         "0",
         "0",
         "0",
         "4",
         "4",
         "3",
         "1",
         "1",
         "2",
         "2",
         "20",
         "0",
         "0",
         "0",
         "0",
         "1",
         "0",
         "0",
         "16",
         "16",
         "0",
         "0",
         "47",
         "46",
         "0",
         "1",
         "0",
         "1",
         "4",
         "0",
         "5",
         "24",
         "10",
         "0",
         "0",
         "0",
         "0",
         "0",
         "0",
         "0",
         "0",
         "0",
         "72",
         "0",
         "0",
         "1",
         "0",
         "0",
         "1",
         "1",
         "0",
         "0",
         "1",
         "2",
         "2",
         "4",
         "0",
         "0",
         "0",
         "0",
         "17",
         "0",
         "0",
         "5",
         "9",
         "0",
         "28",
         "7",
         "1",
         "1",
         "0",
         "12",
         "5",
         "0",
         "2",
         "0",
         "0",
         "16",
         "1",
         "0",
         "1",
         "1",
         "1",
         "0",
         "7",
         "4",
         "0",
         "0",
         "0",
         "0",
         "0",
         "0",
         "0",
         "0",
         "0",
         "0",
         "0",
         "0",
         "0",
         "0",
         "0",
         "0",
         "1",
         "0",
         "36",
         "14",
         "2",
         "2",
         "10",
         "2",
         "1",
         "0",
         "0",
         "15",
         "9",
         "5",
         "0",
         "3",
         "1",
         "0",
         "0",
         "0",
         "0",
         "0",
         "2",
         "2",
         "2",
         "13",
         "10",
         "10",
         "3",
         "3",
         "37",
         "9",
         "0",
         "0",
         "3",
         "6",
         "2",
         "6",
         "2",
         "0",
         "0",
         "6",
         "6",
         "1",
         "0",
         "0",
         "0",
         "0",
         "0",
         "5",
         "4",
         "1",
         "4",
         "77",
         "3",
         "3",
         "0",
         "2",
         "3",
         "0",
         "0",
         "0",
         "0",
         "0",
         "46",
         "18",
         "5",
         "10",
         "0",
         "6",
         "2",
         "0",
         "0",
         "1",
         "1",
         "2",
         "5",
         "2",
         "1",
         "0",
         "5",
         "6",
         "2",
         "0",
         "0",
         "0",
         "0",
         "0",
         "0",
         "4",
         "2",
         "0",
         "0",
         "0",
         "0",
         "0",
         "0",
         "0",
         "3",
         "65",
         "1",
         "0",
         "0",
         "0",
         "0",
         "0",
         "6",
         "5",
         "2",
         "2",
         "31",
         "6",
         "15",
         "6",
         "0",
         "4",
         "0",
         "15",
         "0",
         "6",
         "6",
         "0",
         "0",
         "0",
         "0",
         "0",
         "0",
         "0",
         "0",
         "7",
         "1",
         "3",
         "0",
         "0",
         "2",
         "2",
         "0",
         "0",
         "264",
         "45",
         "10",
         "5",
         "4",
         "5",
         "0",
         "6",
         "9",
         "4",
         "0",
         "0",
         "31",
         "7",
         "2",
         "4",
         "7",
         "0",
         "0",
         "9",
         "2",
         "24",
         "2",
         "3",
         "0",
         "7",
         "7",
         "0",
         "1",
         "3",
         "4",
         "3",
         "1",
         "0",
         "2",
         "0",
         "0",
         "0",
         "0",
         "0",
         "0",
         "0",
         "0",
         "0",
         "0",
         "2",
         "2",
         "14",
         "9",
         "0",
         "0",
         "5",
         "0",
         "0",
         "0",
         "0",
         "6",
         "3",
         "0",
         "2",
         "0",
         "2",
         "0",
         "0",
         "57",
         "0",
         "2",
         "0",
         "0",
         "0",
         "2",
         "25",
         "2",
         "0",
         "1",
         "21",
         "2",
         "7",
         "0",
         "0",
         "1",
         "0",
         "0",
         "6",
         "0",
         "0",
         "0",
         "0",
         "2",
         "0",
         "0",
         "1",
         "1",
         "27",
         "6",
         "0",
         "21",
         "0",
         "1",
         "2",
         "0",
         "1",
         "0",
         "0",
         "12",
         "9",
         "0",
         "2",
         "0",
         "10",
         "7",
         "3",
         "1",
         "116",
         "0",
         "0",
         "0",
         "2",
         "1",
         "1",
         "0",
         "0",
         "0",
         "1",
         "1",
         "0",
         "2",
         "1",
         "1",
         "3",
         "3",
         "0",
         "2",
         "0",
         "0",
         "34",
         "34",
         "36",
         "14",
         "2",
         "1",
         "0",
         "15",
         "3",
         "0",
         "0",
         "16",
         "7",
         "0",
         "0",
         "7",
         "16",
         "0",
         "12",
         "4",
         "1",
         "0",
         "0",
         "0",
         "0",
         "0",
         "2",
         "0",
         "0",
         "0",
         "0",
         "0",
         "0",
         "0",
         "6",
         "0",
         "0",
         "0",
         "0",
         "0",
         "6",
         "6",
         "0",
         "0",
         "0",
         "3",
         "0",
         "0",
         "1",
         "1",
         "0",
         "0",
         "12",
         "0",
         "0",
         "0",
         "11",
         "11",
         "1",
         "1",
         "0",
         "0",
         "0",
         "2",
         "3",
         "2",
         "4",
         "4",
         "0",
         "4",
         "0",
         "0",
         "0",
         "0",
         "0",
         "0",
         "0",
         "0",
         "15",
         "15",
         "0",
         "0",
         "9",
         "3",
         "2",
         "20",
         "0",
         "0",
         "0",
         "0",
         "0",
         "7",
         "0",
         "1",
         "3",
         "2",
         "2",
         "2",
         "27",
         "6",
         "6",
         "0",
         "0",
         "0",
         "21",
         "3",
         "6",
         "2",
         "2",
         "0",
         "0",
         "2",
         "0",
         "1",
         "14",
         "1",
         "0",
         "3",
         "1",
         "0",
         "0",
         "0",
         "1",
         "1",
         "0",
         "4",
         "3",
         "0",
         "1",
         "0",
         "0",
         "0",
         "3",
         "0",
         "0",
         "0",
         "0",
         "0",
         "0",
         "0",
         "0",
         "0",
         "0",
         "0",
         "0",
         "54",
         "3",
         "0",
         "1",
         "1",
         "1",
         "5",
         "6",
         "0",
         "0",
         "0",
         "0",
         "7",
         "2",
         "5",
         "2",
         "2",
         "0",
         "2",
         "2",
         "12",
         "4",
         "7",
         "0",
         "2",
         "0",
         "0",
         "0",
         "10",
         "0",
         "1",
         "5",
         "1",
         "103",
         "2",
         "0",
         "0",
         "2",
         "0",
         "0",
         "17",
         "2",
         "7",
         "4",
         "1",
         "1",
         "1",
         "7",
         "7",
         "2",
         "2",
         "2",
         "3",
         "3",
         "3",
         "0",
         "0",
         "0",
         "0",
         "0",
         "3",
         "0",
         "0",
         "11",
         "8",
         "1",
         "0",
         "5",
         "0",
         "4",
         "0",
         "0",
         "0",
         "0",
         "0",
         "0",
         "4",
         "4",
         "6",
         "6",
         "6",
         "4",
         "0",
         "0",
         "1",
         "0",
         "8",
         "5",
         "6",
         "1",
         "1",
         "2",
         "0",
         "0",
         "5",
         "1",
         "0",
         "3",
         "4",
         "54",
         "1",
         "1",
         "0",
         "7",
         "7",
         "0",
         "7",
         "3",
         "2",
         "0",
         "8",
         "2",
         "5",
         "0",
         "0",
         "4",
         "3",
         "2",
         "2",
         "0",
         "6",
         "6",
         "6",
         "0",
         "0",
         "1",
         "3",
         "0",
         "2",
         "18",
         "1",
         "4",
         "4",
         "4",
         "0",
         "3",
         "0",
         "2",
         "1",
         "0",
         "14",
         "0",
         "0",
         "6",
         "3",
         "3",
         "2",
         "9",
         "0",
         "2",
         "0",
         "0",
         "0",
         "0",
         "0",
         "0",
         "1"
        ],
        [
         "0x9db8a10c7fe60d84397860b3af2e686d4f90c2b7",
         "4.810756388284446",
         "6.0761656535725495",
         "0.00013482540110556829",
         "0.10988270190103816",
         "0.03343669947418094",
         "0.01644869893487933",
         "0.03451530268302548",
         "0.008494000269650802",
         "0.0028313334232169343",
         "0.006876095456383983",
         "0.0471888903869489",
         "0.01968450856141297",
         "0.00040447620331670486",
         "0.014021841714979102",
         "0.00471888903869489",
         "0.00026965080221113657",
         "0.05730079546986652",
         "0.04193069974383174",
         "0.010786032088445464",
         "0.014830794121612511",
         "0.021167587973574223",
         "0.003640285829850344",
         "0.006201968450856141",
         "0.0006741270055278415",
         "0.02453822300121343",
         "0.0066064446541728465",
         "0.000943777807738978",
         "0.001483079412161251",
         "0.000943777807738978",
         "0.0008089524066334097",
         "0.0008089524066334097",
         "0.0017527302143723878",
         "0.0017527302143723878",
         "0.001483079412161251",
         "0.0012134286099501146",
         "0.0006741270055278415",
         "0.0008089524066334097",
         "0.00013482540110556829",
         "0.007010920857489551",
         "0.006201968450856141",
         "0.0005393016044222731",
         "0.00013482540110556829",
         "0.003370635027639207",
         "0.001348254011055683",
         "0.004584063637589322",
         "0.003235809626533639",
         "0.0005393016044222731",
         "0.002966158824322502",
         "0.0024268572199002292",
         "0.0",
         "0.0020223810165835242",
         "0.007415397060806256",
         "0.0005393016044222731",
         "0.011325333692867737",
         "0.017122825940407174",
         "0.00026965080221113657",
         "0.0006741270055278415",
         "0.023324794391263313",
         "0.00013482540110556829",
         "0.00013482540110556829",
         "0.0008089524066334097",
         "0.0008089524066334097",
         "0.0005393016044222731",
         "0.026965080221113658",
         "0.0020223810165835242",
         "0.00040447620331670486",
         "0.0008089524066334097",
         "0.0010786032088445463",
         "0.0006741270055278415",
         "0.002292031818794661",
         "0.0010786032088445463",
         "0.00026965080221113657",
         "0.0005393016044222731",
         "0.00026965080221113657",
         "0.0006741270055278415",
         "0.0005393016044222731",
         "0.004314412835378185",
         "0.00026965080221113657",
         "0.0008089524066334097",
         "0.000943777807738978",
         "0.0010786032088445463",
         "0.0006741270055278415",
         "0.007685047863017392",
         "0.0008089524066334097",
         "0.0008089524066334097",
         "0.00026965080221113657",
         "0.01806660374814615",
         "0.01496561952271808",
         "0.035998382095186736",
         "0.034110826479708777",
         "0.012269111500606715",
         "0.019145206956990696",
         "0.0012134286099501146",
         "0.0016179048132668194",
         "0.0016179048132668194",
         "0.004314412835378185",
         "0.007280571659700688",
         "0.0012134286099501146",
         "0.004449238236483754",
         "0.00026965080221113657",
         "0.00040447620331670486",
         "0.00026965080221113657",
         "0.003235809626533639",
         "0.00013482540110556829",
         "0.0012134286099501146",
         "0.0008089524066334097",
         "0.00040447620331670486",
         "0.00026965080221113657",
         "0.0017527302143723878",
         "0.0017527302143723878",
         "0.000943777807738978",
         "0.000943777807738978",
         "0.00040447620331670486",
         "0.00040447620331670486",
         "0.0005393016044222731",
         "0.008224349467439666",
         "0.0010786032088445463",
         "0.00040447620331670486",
         "0.00040447620331670486",
         "0.00013482540110556829",
         "0.0006741270055278415",
         "0.0010786032088445463",
         "0.0055278414453283",
         "0.001348254011055683",
         "0.00040447620331670486",
         "0.00026965080221113657",
         "0.0",
         "0.0008089524066334097",
         "0.00040447620331670486",
         "0.0012134286099501146",
         "0.000943777807738978",
         "0.0006741270055278415",
         "0.0010786032088445463",
         "0.0006741270055278415",
         "0.00040447620331670486",
         "0.0005393016044222731",
         "0.003235809626533639",
         "0.0006741270055278415",
         "0.0020223810165835242",
         "0.002696508022111366",
         "0.00013482540110556829",
         "0.00040447620331670486",
         "0.0006741270055278415",
         "0.0005393016044222731",
         "0.0006741270055278415",
         "0.00040447620331670486",
         "0.00040447620331670486",
         "0.00026965080221113657",
         "0.00013482540110556829",
         "0.0005393016044222731",
         "0.0005393016044222731",
         "0.001348254011055683",
         "0.0016179048132668194",
         "0.003640285829850344",
         "0.0008089524066334097",
         "0.0017527302143723878",
         "0.0028313334232169343",
         "0.0028313334232169343",
         "0.0006741270055278415",
         "0.00013482540110556829",
         "0.0010786032088445463",
         "0.017527302143723878",
         "0.0005393016044222731",
         "0.003640285829850344",
         "0.0006741270055278415",
         "0.000943777807738978",
         "0.0008089524066334097",
         "0.00040447620331670486",
         "0.0008089524066334097",
         "0.001483079412161251",
         "0.0005393016044222731",
         "0.0008089524066334097",
         "0.0008089524066334097",
         "0.004584063637589322",
         "0.0024268572199002292",
         "0.0008089524066334097",
         "0.00026965080221113657",
         "0.0005393016044222731",
         "0.0031009842254280705",
         "0.00013482540110556829",
         "0.00013482540110556829",
         "0.0005393016044222731",
         "0.0005393016044222731",
         "0.001483079412161251",
         "0.0008089524066334097",
         "0.00040447620331670486",
         "0.00026965080221113657",
         "0.00013482540110556829",
         "0.0008089524066334097",
         "0.001887555615477956",
         "0.0039099366320614806",
         "0.0006741270055278415",
         "0.00026965080221113657",
         "0.00013482540110556829",
         "0.0",
         "0.0017527302143723878",
         "0.00013482540110556829",
         "0.001348254011055683",
         "0.002292031818794661",
         "0.0010786032088445463",
         "0.0006741270055278415",
         "0.003235809626533639",
         "0.001348254011055683",
         "0.001483079412161251",
         "0.0028313334232169343",
         "0.00026965080221113657",
         "0.0005393016044222731",
         "0.001483079412161251",
         "0.00040447620331670486",
         "0.00040447620331670486",
         "0.005932317648645004",
         "0.005932317648645004",
         "0.011325333692867737",
         "0.0016179048132668194",
         "0.00013482540110556829",
         "0.0012134286099501146",
         "0.00013482540110556829",
         "0.0008089524066334097",
         "0.00013482540110556829",
         "0.00026965080221113657",
         "0.0005393016044222731",
         "0.00013482540110556829",
         "0.001348254011055683",
         "0.0005393016044222731",
         "0.00026965080221113657",
         "0.001483079412161251",
         "0.00013482540110556829",
         "0.00026965080221113657",
         "0.000943777807738978",
         "0.0010786032088445463",
         "0.00013482540110556829",
         "0.00013482540110556829",
         "0.00026965080221113657",
         "0.001348254011055683",
         "0.004449238236483754",
         "0.0012134286099501146",
         "0.001348254011055683",
         "0.00013482540110556829",
         "0.00026965080221113657",
         "0.00026965080221113657",
         "0.00026965080221113657",
         "0.00026965080221113657",
         "0.00013482540110556829",
         "0.00026965080221113657",
         "0.0",
         "0.0005393016044222731",
         "0.0",
         "0.00013482540110556829",
         "0.00013482540110556829",
         "0.00013482540110556829",
         "0.00026965080221113657",
         "0.0",
         "0.00013482540110556829",
         "0.0006741270055278415",
         "0.0010786032088445463",
         "0.00040447620331670486",
         "0.0006741270055278415",
         "0.00040447620331670486",
         "0.0",
         "206",
         "0",
         "4",
         "0",
         "15",
         "24",
         "11",
         "1",
         "0",
         "10",
         "0",
         "14",
         "18",
         "11",
         "2",
         "1",
         "5",
         "24",
         "0",
         "10",
         "3",
         "2",
         "9",
         "0",
         "6",
         "0",
         "1",
         "8",
         "3",
         "5",
         "0",
         "7",
         "32",
         "3",
         "0",
         "0",
         "0",
         "3",
         "0",
         "3",
         "25",
         "13",
         "8",
         "1",
         "7",
         "143",
         "0",
         "0",
         "6",
         "8",
         "1",
         "6",
         "9",
         "1",
         "8",
         "7",
         "4",
         "6",
         "1",
         "4",
         "4",
         "2",
         "0",
         "0",
         "33",
         "5",
         "1",
         "0",
         "26",
         "18",
         "9",
         "8",
         "0",
         "0",
         "0",
         "1",
         "20",
         "0",
         "0",
         "10",
         "11",
         "5",
         "0",
         "0",
         "0",
         "35",
         "9",
         "10",
         "0",
         "0",
         "4",
         "3",
         "20",
         "0",
         "0",
         "19",
         "0",
         "19",
         "4",
         "0",
         "0",
         "0",
         "1",
         "1",
         "1",
         "19",
         "14",
         "10",
         "7",
         "2",
         "0",
         "0",
         "0",
         "0",
         "243",
         "1",
         "0",
         "0",
         "19",
         "19",
         "11",
         "0",
         "11",
         "11",
         "4",
         "0",
         "3",
         "25",
         "1",
         "13",
         "0",
         "9",
         "0",
         "0",
         "8",
         "8",
         "33",
         "12",
         "4",
         "25",
         "17",
         "6",
         "0",
         "0",
         "0",
         "12",
         "2",
         "10",
         "0",
         "0",
         "35",
         "28",
         "7",
         "1",
         "1",
         "21",
         "21",
         "11",
         "9",
         "0",
         "12",
         "12",
         "5",
         "5",
         "253",
         "15",
         "0",
         "5",
         "16",
         "4",
         "6",
         "9",
         "10",
         "0",
         "6",
         "0",
         "1",
         "0",
         "0",
         "0",
         "0",
         "1",
         "0",
         "4",
         "4",
         "22",
         "22",
         "0",
         "10",
         "1",
         "104",
         "1",
         "92",
         "3",
         "3",
         "0",
         "3",
         "1",
         "0",
         "0",
         "10",
         "1",
         "1",
         "12",
         "11",
         "0",
         "23",
         "5",
         "0",
         "15",
         "125",
         "36",
         "0",
         "0",
         "18",
         "1",
         "2",
         "10",
         "3",
         "4",
         "2",
         "14",
         "3",
         "11",
         "6",
         "1",
         "0",
         "2",
         "0",
         "0",
         "0",
         "0",
         "28",
         "15",
         "2",
         "0",
         "7",
         "7",
         "0",
         "0",
         "10",
         "4",
         "85",
         "13",
         "1",
         "10",
         "7",
         "4",
         "3",
         "4",
         "4",
         "0",
         "0",
         "1",
         "1",
         "8",
         "2",
         "7",
         "1",
         "3",
         "3",
         "0",
         "0",
         "13",
         "0",
         "0",
         "52",
         "11",
         "3",
         "8",
         "1",
         "9",
         "3",
         "5",
         "0",
         "7",
         "0",
         "9",
         "6",
         "0",
         "0",
         "1",
         "0",
         "1",
         "31",
         "6",
         "8",
         "4",
         "0",
         "0",
         "3",
         "2",
         "2",
         "0",
         "0",
         "1",
         "0",
         "1",
         "18",
         "5",
         "0",
         "0",
         "12",
         "5",
         "3",
         "4",
         "36",
         "2",
         "1",
         "33",
         "33",
         "0",
         "0",
         "2",
         "0",
         "0",
         "0",
         "0",
         "1",
         "0",
         "0",
         "1",
         "0",
         "0",
         "1",
         "1",
         "11",
         "8",
         "14",
         "4",
         "4",
         "8",
         "8",
         "48",
         "2",
         "2",
         "0",
         "0",
         "1",
         "0",
         "0",
         "41",
         "41",
         "0",
         "0",
         "130",
         "129",
         "0",
         "9",
         "1",
         "1",
         "4",
         "0",
         "14",
         "63",
         "27",
         "0",
         "0",
         "2",
         "1",
         "4",
         "0",
         "0",
         "0",
         "0",
         "194",
         "0",
         "0",
         "9",
         "0",
         "0",
         "7",
         "3",
         "0",
         "0",
         "1",
         "3",
         "2",
         "4",
         "2",
         "2",
         "0",
         "0",
         "41",
         "0",
         "1",
         "12",
         "15",
         "0",
         "75",
         "16",
         "2",
         "2",
         "0",
         "34",
         "9",
         "0",
         "8",
         "0",
         "0",
         "42",
         "4",
         "1",
         "0",
         "1",
         "1",
         "0",
         "19",
         "13",
         "0",
         "0",
         "0",
         "0",
         "0",
         "2",
         "0",
         "1",
         "1",
         "6",
         "6",
         "0",
         "0",
         "1",
         "0",
         "1",
         "1",
         "0",
         "100",
         "31",
         "2",
         "2",
         "27",
         "4",
         "1",
         "2",
         "2",
         "51",
         "26",
         "12",
         "5",
         "9",
         "7",
         "0",
         "1",
         "1",
         "0",
         "0",
         "6",
         "4",
         "4",
         "29",
         "23",
         "23",
         "6",
         "6",
         "107",
         "24",
         "2",
         "1",
         "6",
         "12",
         "2",
         "19",
         "6",
         "0",
         "0",
         "18",
         "18",
         "1",
         "0",
         "3",
         "0",
         "0",
         "0",
         "16",
         "11",
         "2",
         "11",
         "248",
         "11",
         "6",
         "4",
         "3",
         "6",
         "1",
         "0",
         "0",
         "0",
         "0",
         "152",
         "34",
         "24",
         "18",
         "9",
         "42",
         "14",
         "9",
         "0",
         "2",
         "2",
         "4",
         "28",
         "8",
         "1",
         "7",
         "5",
         "6",
         "2",
         "0",
         "0",
         "0",
         "0",
         "0",
         "0",
         "18",
         "5",
         "1",
         "1",
         "0",
         "0",
         "4",
         "3",
         "2",
         "5",
         "163",
         "2",
         "0",
         "0",
         "0",
         "0",
         "0",
         "17",
         "17",
         "5",
         "4",
         "68",
         "15",
         "29",
         "14",
         "3",
         "4",
         "1",
         "34",
         "0",
         "13",
         "13",
         "2",
         "0",
         "9",
         "0",
         "0",
         "6",
         "0",
         "0",
         "9",
         "2",
         "3",
         "1",
         "0",
         "3",
         "2",
         "1",
         "1",
         "801",
         "96",
         "22",
         "12",
         "7",
         "8",
         "5",
         "14",
         "15",
         "4",
         "0",
         "0",
         "94",
         "19",
         "5",
         "16",
         "24",
         "0",
         "1",
         "21",
         "6",
         "56",
         "7",
         "5",
         "1",
         "19",
         "16",
         "0",
         "6",
         "0",
         "24",
         "21",
         "2",
         "0",
         "6",
         "3",
         "0",
         "0",
         "5",
         "3",
         "0",
         "0",
         "0",
         "0",
         "0",
         "3",
         "2",
         "33",
         "18",
         "3",
         "0",
         "12",
         "0",
         "0",
         "0",
         "0",
         "26",
         "6",
         "0",
         "19",
         "0",
         "12",
         "0",
         "0",
         "210",
         "0",
         "10",
         "0",
         "0",
         "0",
         "19",
         "82",
         "2",
         "0",
         "1",
         "78",
         "15",
         "20",
         "2",
         "5",
         "1",
         "3",
         "0",
         "8",
         "0",
         "0",
         "1",
         "1",
         "2",
         "0",
         "0",
         "1",
         "1",
         "97",
         "18",
         "0",
         "78",
         "0",
         "1",
         "9",
         "0",
         "6",
         "2",
         "2",
         "60",
         "45",
         "0",
         "10",
         "0",
         "23",
         "15",
         "4",
         "2",
         "312",
         "0",
         "0",
         "2",
         "5",
         "4",
         "2",
         "1",
         "4",
         "0",
         "6",
         "1",
         "0",
         "5",
         "1",
         "2",
         "6",
         "3",
         "4",
         "2",
         "0",
         "0",
         "94",
         "94",
         "100",
         "31",
         "4",
         "1",
         "2",
         "51",
         "9",
         "1",
         "0",
         "37",
         "19",
         "0",
         "0",
         "15",
         "31",
         "0",
         "26",
         "5",
         "4",
         "0",
         "0",
         "0",
         "0",
         "0",
         "4",
         "0",
         "0",
         "0",
         "0",
         "0",
         "0",
         "0",
         "20",
         "0",
         "0",
         "0",
         "0",
         "0",
         "18",
         "18",
         "0",
         "0",
         "0",
         "15",
         "3",
         "1",
         "3",
         "2",
         "1",
         "3",
         "62",
         "13",
         "0",
         "0",
         "28",
         "28",
         "7",
         "7",
         "6",
         "0",
         "4",
         "5",
         "4",
         "2",
         "7",
         "7",
         "0",
         "7",
         "2",
         "1",
         "1",
         "2",
         "2",
         "1",
         "0",
         "1",
         "39",
         "39",
         "0",
         "0",
         "22",
         "9",
         "7",
         "75",
         "4",
         "4",
         "1",
         "0",
         "8",
         "21",
         "0",
         "3",
         "4",
         "3",
         "2",
         "2",
         "97",
         "18",
         "18",
         "0",
         "0",
         "0",
         "78",
         "13",
         "13",
         "7",
         "8",
         "4",
         "3",
         "9",
         "0",
         "1",
         "52",
         "2",
         "1",
         "15",
         "1",
         "2",
         "8",
         "0",
         "5",
         "4",
         "0",
         "8",
         "3",
         "1",
         "1",
         "0",
         "0",
         "0",
         "15",
         "2",
         "2",
         "0",
         "0",
         "3",
         "1",
         "1",
         "1",
         "3",
         "1",
         "0",
         "0",
         "152",
         "13",
         "0",
         "1",
         "1",
         "7",
         "8",
         "13",
         "0",
         "4",
         "0",
         "0",
         "18",
         "7",
         "11",
         "8",
         "8",
         "4",
         "5",
         "5",
         "32",
         "12",
         "19",
         "0",
         "3",
         "0",
         "0",
         "0",
         "28",
         "0",
         "1",
         "11",
         "7",
         "310",
         "2",
         "0",
         "0",
         "3",
         "0",
         "0",
         "70",
         "2",
         "44",
         "12",
         "6",
         "3",
         "2",
         "12",
         "11",
         "5",
         "4",
         "9",
         "15",
         "5",
         "11",
         "0",
         "1",
         "0",
         "3",
         "3",
         "4",
         "0",
         "0",
         "20",
         "13",
         "1",
         "1",
         "7",
         "0",
         "5",
         "0",
         "0",
         "0",
         "0",
         "0",
         "0",
         "7",
         "7",
         "17",
         "17",
         "22",
         "11",
         "0",
         "0",
         "5",
         "0",
         "20",
         "13",
         "34",
         "8",
         "5",
         "13",
         "2",
         "0",
         "13",
         "5",
         "0",
         "7",
         "8",
         "140",
         "8",
         "10",
         "5",
         "15",
         "14",
         "0",
         "10",
         "5",
         "17",
         "1",
         "20",
         "2",
         "17",
         "0",
         "0",
         "5",
         "3",
         "2",
         "2",
         "2",
         "12",
         "12",
         "17",
         "0",
         "1",
         "1",
         "4",
         "0",
         "8",
         "52",
         "7",
         "8",
         "5",
         "4",
         "0",
         "7",
         "1",
         "4",
         "3",
         "0",
         "29",
         "2",
         "1",
         "9",
         "4",
         "5",
         "2",
         "17",
         "1",
         "6",
         "2",
         "5",
         "0",
         "0",
         "0",
         "0",
         "1"
        ]
       ],
       "shape": {
        "columns": 1259,
        "rows": 5
       }
      },
      "text/html": [
       "<div>\n",
       "<style scoped>\n",
       "    .dataframe tbody tr th:only-of-type {\n",
       "        vertical-align: middle;\n",
       "    }\n",
       "\n",
       "    .dataframe tbody tr th {\n",
       "        vertical-align: top;\n",
       "    }\n",
       "\n",
       "    .dataframe thead th {\n",
       "        text-align: right;\n",
       "    }\n",
       "</style>\n",
       "<table border=\"1\" class=\"dataframe\">\n",
       "  <thead>\n",
       "    <tr style=\"text-align: right;\">\n",
       "      <th></th>\n",
       "      <th>opcode_entropy</th>\n",
       "      <th>byte_entropy</th>\n",
       "      <th>byte_0x</th>\n",
       "      <th>byte_60</th>\n",
       "      <th>byte_80</th>\n",
       "      <th>byte_40</th>\n",
       "      <th>byte_52</th>\n",
       "      <th>byte_04</th>\n",
       "      <th>byte_36</th>\n",
       "      <th>byte_10</th>\n",
       "      <th>...</th>\n",
       "      <th>swap5</th>\n",
       "      <th>swap5 pop</th>\n",
       "      <th>swap6</th>\n",
       "      <th>swap7</th>\n",
       "      <th>timestamp</th>\n",
       "      <th>unknown_0x5f</th>\n",
       "      <th>unknown_0x5f dup1</th>\n",
       "      <th>unknown_0x5f dup1 revert</th>\n",
       "      <th>unknown_0x5f swap1</th>\n",
       "      <th>unknown_0xfe</th>\n",
       "    </tr>\n",
       "    <tr>\n",
       "      <th>Address</th>\n",
       "      <th></th>\n",
       "      <th></th>\n",
       "      <th></th>\n",
       "      <th></th>\n",
       "      <th></th>\n",
       "      <th></th>\n",
       "      <th></th>\n",
       "      <th></th>\n",
       "      <th></th>\n",
       "      <th></th>\n",
       "      <th></th>\n",
       "      <th></th>\n",
       "      <th></th>\n",
       "      <th></th>\n",
       "      <th></th>\n",
       "      <th></th>\n",
       "      <th></th>\n",
       "      <th></th>\n",
       "      <th></th>\n",
       "      <th></th>\n",
       "      <th></th>\n",
       "    </tr>\n",
       "  </thead>\n",
       "  <tbody>\n",
       "    <tr>\n",
       "      <th>0x8275ebf521dc217aa79c88132017a5bcef001dd9</th>\n",
       "      <td>4.676922</td>\n",
       "      <td>4.331572</td>\n",
       "      <td>0.000160</td>\n",
       "      <td>0.061938</td>\n",
       "      <td>0.028081</td>\n",
       "      <td>0.007542</td>\n",
       "      <td>0.018453</td>\n",
       "      <td>0.005777</td>\n",
       "      <td>0.001605</td>\n",
       "      <td>0.002246</td>\n",
       "      <td>...</td>\n",
       "      <td>0</td>\n",
       "      <td>0</td>\n",
       "      <td>0</td>\n",
       "      <td>0</td>\n",
       "      <td>0</td>\n",
       "      <td>0</td>\n",
       "      <td>0</td>\n",
       "      <td>0</td>\n",
       "      <td>0</td>\n",
       "      <td>2</td>\n",
       "    </tr>\n",
       "    <tr>\n",
       "      <th>0x292e89d5d5bdab3af2f5838c194c1983f0140b43</th>\n",
       "      <td>4.655586</td>\n",
       "      <td>6.067508</td>\n",
       "      <td>0.000280</td>\n",
       "      <td>0.117021</td>\n",
       "      <td>0.021837</td>\n",
       "      <td>0.017077</td>\n",
       "      <td>0.033035</td>\n",
       "      <td>0.012318</td>\n",
       "      <td>0.002800</td>\n",
       "      <td>0.003080</td>\n",
       "      <td>...</td>\n",
       "      <td>5</td>\n",
       "      <td>1</td>\n",
       "      <td>2</td>\n",
       "      <td>0</td>\n",
       "      <td>1</td>\n",
       "      <td>0</td>\n",
       "      <td>0</td>\n",
       "      <td>0</td>\n",
       "      <td>0</td>\n",
       "      <td>1</td>\n",
       "    </tr>\n",
       "    <tr>\n",
       "      <th>0x2753dce37a7edb052a77832039bcc9aa49ad8b25</th>\n",
       "      <td>4.622489</td>\n",
       "      <td>6.275986</td>\n",
       "      <td>0.000158</td>\n",
       "      <td>0.105847</td>\n",
       "      <td>0.019490</td>\n",
       "      <td>0.012518</td>\n",
       "      <td>0.029789</td>\n",
       "      <td>0.013469</td>\n",
       "      <td>0.003961</td>\n",
       "      <td>0.003486</td>\n",
       "      <td>...</td>\n",
       "      <td>8</td>\n",
       "      <td>0</td>\n",
       "      <td>0</td>\n",
       "      <td>0</td>\n",
       "      <td>0</td>\n",
       "      <td>1</td>\n",
       "      <td>0</td>\n",
       "      <td>0</td>\n",
       "      <td>0</td>\n",
       "      <td>1</td>\n",
       "    </tr>\n",
       "    <tr>\n",
       "      <th>0xe1a0ce8b94c6a5e4791401086763d7bd0a6c18f5</th>\n",
       "      <td>4.808809</td>\n",
       "      <td>5.868159</td>\n",
       "      <td>0.000393</td>\n",
       "      <td>0.106007</td>\n",
       "      <td>0.036121</td>\n",
       "      <td>0.017668</td>\n",
       "      <td>0.032195</td>\n",
       "      <td>0.010993</td>\n",
       "      <td>0.003141</td>\n",
       "      <td>0.005497</td>\n",
       "      <td>...</td>\n",
       "      <td>9</td>\n",
       "      <td>0</td>\n",
       "      <td>2</td>\n",
       "      <td>0</td>\n",
       "      <td>0</td>\n",
       "      <td>0</td>\n",
       "      <td>0</td>\n",
       "      <td>0</td>\n",
       "      <td>0</td>\n",
       "      <td>1</td>\n",
       "    </tr>\n",
       "    <tr>\n",
       "      <th>0x9db8a10c7fe60d84397860b3af2e686d4f90c2b7</th>\n",
       "      <td>4.810756</td>\n",
       "      <td>6.076166</td>\n",
       "      <td>0.000135</td>\n",
       "      <td>0.109883</td>\n",
       "      <td>0.033437</td>\n",
       "      <td>0.016449</td>\n",
       "      <td>0.034515</td>\n",
       "      <td>0.008494</td>\n",
       "      <td>0.002831</td>\n",
       "      <td>0.006876</td>\n",
       "      <td>...</td>\n",
       "      <td>17</td>\n",
       "      <td>1</td>\n",
       "      <td>6</td>\n",
       "      <td>2</td>\n",
       "      <td>5</td>\n",
       "      <td>0</td>\n",
       "      <td>0</td>\n",
       "      <td>0</td>\n",
       "      <td>0</td>\n",
       "      <td>1</td>\n",
       "    </tr>\n",
       "  </tbody>\n",
       "</table>\n",
       "<p>5 rows × 1259 columns</p>\n",
       "</div>"
      ],
      "text/plain": [
       "                                            opcode_entropy  byte_entropy  \\\n",
       "Address                                                                    \n",
       "0x8275ebf521dc217aa79c88132017a5bcef001dd9        4.676922      4.331572   \n",
       "0x292e89d5d5bdab3af2f5838c194c1983f0140b43        4.655586      6.067508   \n",
       "0x2753dce37a7edb052a77832039bcc9aa49ad8b25        4.622489      6.275986   \n",
       "0xe1a0ce8b94c6a5e4791401086763d7bd0a6c18f5        4.808809      5.868159   \n",
       "0x9db8a10c7fe60d84397860b3af2e686d4f90c2b7        4.810756      6.076166   \n",
       "\n",
       "                                             byte_0x   byte_60   byte_80  \\\n",
       "Address                                                                    \n",
       "0x8275ebf521dc217aa79c88132017a5bcef001dd9  0.000160  0.061938  0.028081   \n",
       "0x292e89d5d5bdab3af2f5838c194c1983f0140b43  0.000280  0.117021  0.021837   \n",
       "0x2753dce37a7edb052a77832039bcc9aa49ad8b25  0.000158  0.105847  0.019490   \n",
       "0xe1a0ce8b94c6a5e4791401086763d7bd0a6c18f5  0.000393  0.106007  0.036121   \n",
       "0x9db8a10c7fe60d84397860b3af2e686d4f90c2b7  0.000135  0.109883  0.033437   \n",
       "\n",
       "                                             byte_40   byte_52   byte_04  \\\n",
       "Address                                                                    \n",
       "0x8275ebf521dc217aa79c88132017a5bcef001dd9  0.007542  0.018453  0.005777   \n",
       "0x292e89d5d5bdab3af2f5838c194c1983f0140b43  0.017077  0.033035  0.012318   \n",
       "0x2753dce37a7edb052a77832039bcc9aa49ad8b25  0.012518  0.029789  0.013469   \n",
       "0xe1a0ce8b94c6a5e4791401086763d7bd0a6c18f5  0.017668  0.032195  0.010993   \n",
       "0x9db8a10c7fe60d84397860b3af2e686d4f90c2b7  0.016449  0.034515  0.008494   \n",
       "\n",
       "                                             byte_36   byte_10  ...  swap5  \\\n",
       "Address                                                         ...          \n",
       "0x8275ebf521dc217aa79c88132017a5bcef001dd9  0.001605  0.002246  ...      0   \n",
       "0x292e89d5d5bdab3af2f5838c194c1983f0140b43  0.002800  0.003080  ...      5   \n",
       "0x2753dce37a7edb052a77832039bcc9aa49ad8b25  0.003961  0.003486  ...      8   \n",
       "0xe1a0ce8b94c6a5e4791401086763d7bd0a6c18f5  0.003141  0.005497  ...      9   \n",
       "0x9db8a10c7fe60d84397860b3af2e686d4f90c2b7  0.002831  0.006876  ...     17   \n",
       "\n",
       "                                            swap5 pop  swap6  swap7  \\\n",
       "Address                                                               \n",
       "0x8275ebf521dc217aa79c88132017a5bcef001dd9          0      0      0   \n",
       "0x292e89d5d5bdab3af2f5838c194c1983f0140b43          1      2      0   \n",
       "0x2753dce37a7edb052a77832039bcc9aa49ad8b25          0      0      0   \n",
       "0xe1a0ce8b94c6a5e4791401086763d7bd0a6c18f5          0      2      0   \n",
       "0x9db8a10c7fe60d84397860b3af2e686d4f90c2b7          1      6      2   \n",
       "\n",
       "                                            timestamp  unknown_0x5f  \\\n",
       "Address                                                               \n",
       "0x8275ebf521dc217aa79c88132017a5bcef001dd9          0             0   \n",
       "0x292e89d5d5bdab3af2f5838c194c1983f0140b43          1             0   \n",
       "0x2753dce37a7edb052a77832039bcc9aa49ad8b25          0             1   \n",
       "0xe1a0ce8b94c6a5e4791401086763d7bd0a6c18f5          0             0   \n",
       "0x9db8a10c7fe60d84397860b3af2e686d4f90c2b7          5             0   \n",
       "\n",
       "                                            unknown_0x5f dup1  \\\n",
       "Address                                                         \n",
       "0x8275ebf521dc217aa79c88132017a5bcef001dd9                  0   \n",
       "0x292e89d5d5bdab3af2f5838c194c1983f0140b43                  0   \n",
       "0x2753dce37a7edb052a77832039bcc9aa49ad8b25                  0   \n",
       "0xe1a0ce8b94c6a5e4791401086763d7bd0a6c18f5                  0   \n",
       "0x9db8a10c7fe60d84397860b3af2e686d4f90c2b7                  0   \n",
       "\n",
       "                                            unknown_0x5f dup1 revert  \\\n",
       "Address                                                                \n",
       "0x8275ebf521dc217aa79c88132017a5bcef001dd9                         0   \n",
       "0x292e89d5d5bdab3af2f5838c194c1983f0140b43                         0   \n",
       "0x2753dce37a7edb052a77832039bcc9aa49ad8b25                         0   \n",
       "0xe1a0ce8b94c6a5e4791401086763d7bd0a6c18f5                         0   \n",
       "0x9db8a10c7fe60d84397860b3af2e686d4f90c2b7                         0   \n",
       "\n",
       "                                            unknown_0x5f swap1  unknown_0xfe  \n",
       "Address                                                                       \n",
       "0x8275ebf521dc217aa79c88132017a5bcef001dd9                   0             2  \n",
       "0x292e89d5d5bdab3af2f5838c194c1983f0140b43                   0             1  \n",
       "0x2753dce37a7edb052a77832039bcc9aa49ad8b25                   0             1  \n",
       "0xe1a0ce8b94c6a5e4791401086763d7bd0a6c18f5                   0             1  \n",
       "0x9db8a10c7fe60d84397860b3af2e686d4f90c2b7                   0             1  \n",
       "\n",
       "[5 rows x 1259 columns]"
      ]
     },
     "execution_count": 6,
     "metadata": {},
     "output_type": "execute_result"
    }
   ],
   "source": [
    "bytecode_df.head()"
   ]
  },
  {
   "cell_type": "code",
   "execution_count": 7,
   "id": "0a953492",
   "metadata": {},
   "outputs": [],
   "source": [
    "bytecode_df.to_csv(os.path.join(LABEL_PATH, 'bytecode_feature.csv'))"
   ]
  },
  {
   "cell_type": "markdown",
   "id": "33d0a7bb",
   "metadata": {},
   "source": [
    "## Transaction"
   ]
  },
  {
   "cell_type": "code",
   "execution_count": 8,
   "id": "f0bc3862",
   "metadata": {},
   "outputs": [
    {
     "name": "stderr",
     "output_type": "stream",
     "text": [
      "/usr/local/anaconda3/envs/ml-algo/lib/python3.12/site-packages/numpy/core/fromnumeric.py:3504: RuntimeWarning: Mean of empty slice.\n",
      "  return _methods._mean(a, axis=axis, dtype=dtype,\n",
      "/usr/local/anaconda3/envs/ml-algo/lib/python3.12/site-packages/numpy/core/_methods.py:129: RuntimeWarning: invalid value encountered in scalar divide\n",
      "  ret = ret.dtype.type(ret / rcount)\n"
     ]
    },
    {
     "name": "stdout",
     "output_type": "stream",
     "text": [
      "Failed to process /Users/napatcholthaipanich/Dev/master/dissertation/workspace/data/labeled/txn/0x50c6ec50a89a946c5886aeb54a22fe732558f7d1.json: max() iterable argument is empty\n",
      "Failed to process /Users/napatcholthaipanich/Dev/master/dissertation/workspace/data/labeled/txn/0xee45e37e2b73e86c709d9edd1c8ea3b0ec72dad3.json: max() iterable argument is empty\n",
      "Failed to process /Users/napatcholthaipanich/Dev/master/dissertation/workspace/data/labeled/txn/0xba751bff276907c438e927d2c2f18de574195e4b.json: max() iterable argument is empty\n",
      "Failed to process /Users/napatcholthaipanich/Dev/master/dissertation/workspace/data/labeled/txn/0xa942890d7fc60f0d4a516f63dd273dcde72ae6c9.json: max() iterable argument is empty\n",
      "Failed to process /Users/napatcholthaipanich/Dev/master/dissertation/workspace/data/labeled/txn/0x4165084a6e5388ce53c9d9892f904a2712dd943a.json: max() iterable argument is empty\n",
      "Failed to process /Users/napatcholthaipanich/Dev/master/dissertation/workspace/data/labeled/txn/0xdf7ff95aa3d855a6fb21399432166a92fdcf1b1a.json: max() iterable argument is empty\n",
      "Failed to process /Users/napatcholthaipanich/Dev/master/dissertation/workspace/data/labeled/txn/0x3e597ea168a85aa2ae5e2c4333665bcd875ed10f.json: max() iterable argument is empty\n",
      "Failed to process /Users/napatcholthaipanich/Dev/master/dissertation/workspace/data/labeled/txn/0x8b2e68075a06959e3e35aa0e451a13e099e41b23.json: max() iterable argument is empty\n",
      "Failed to process /Users/napatcholthaipanich/Dev/master/dissertation/workspace/data/labeled/txn/0x85aa3f04e539e426cbb55c0d584ea99cfe1d96a1.json: max() iterable argument is empty\n",
      "Failed to process /Users/napatcholthaipanich/Dev/master/dissertation/workspace/data/labeled/txn/0x52e4339b4b9ff254738d6e971e83440f60dc029c.json: max() iterable argument is empty\n",
      "Failed to process /Users/napatcholthaipanich/Dev/master/dissertation/workspace/data/labeled/txn/0x292e89d5d5bdab3af2f5838c194c1983f0140b43.json: max() iterable argument is empty\n",
      "Failed to process /Users/napatcholthaipanich/Dev/master/dissertation/workspace/data/labeled/txn/0x8d07f605926837ea0f9e1e24dba0fb348cb3e97d.json: max() iterable argument is empty\n",
      "Failed to process /Users/napatcholthaipanich/Dev/master/dissertation/workspace/data/labeled/txn/0x90f75ca026add95ae15ecbf48efc77ed272945be.json: max() iterable argument is empty\n",
      "Failed to process /Users/napatcholthaipanich/Dev/master/dissertation/workspace/data/labeled/txn/0x42269ac712372ac89a158ad5a32806c6b6782d66.json: max() iterable argument is empty\n",
      "Failed to process /Users/napatcholthaipanich/Dev/master/dissertation/workspace/data/labeled/txn/0x9d52414c4cc1fb8e7864a9b59495f430f8e5de44.json: max() iterable argument is empty\n",
      "Failed to process /Users/napatcholthaipanich/Dev/master/dissertation/workspace/data/labeled/txn/0x11cbc781dadaad13fc3a361772c80b1c027820af.json: max() iterable argument is empty\n",
      "Failed to process /Users/napatcholthaipanich/Dev/master/dissertation/workspace/data/labeled/txn/0x93023f1d3525e273f291b6f76d2f5027a39bf302.json: max() iterable argument is empty\n",
      "Failed to process /Users/napatcholthaipanich/Dev/master/dissertation/workspace/data/labeled/txn/0xabe776435f7459e2f5ba773bfb753ed19a053dd0.json: max() iterable argument is empty\n",
      "Failed to process /Users/napatcholthaipanich/Dev/master/dissertation/workspace/data/labeled/txn/0x2753dce37a7edb052a77832039bcc9aa49ad8b25.json: max() iterable argument is empty\n",
      "Failed to process /Users/napatcholthaipanich/Dev/master/dissertation/workspace/data/labeled/txn/0x51c5807dd8398aedfcc91e6483417838b41eaeb8.json: max() iterable argument is empty\n",
      "Failed to process /Users/napatcholthaipanich/Dev/master/dissertation/workspace/data/labeled/txn/0x9db8a10c7fe60d84397860b3af2e686d4f90c2b7.json: max() iterable argument is empty\n",
      "Failed to process /Users/napatcholthaipanich/Dev/master/dissertation/workspace/data/labeled/txn/0xcb6cd204d783dc8d66896a6def5867d332228d7b.json: max() iterable argument is empty\n",
      "Failed to process /Users/napatcholthaipanich/Dev/master/dissertation/workspace/data/labeled/txn/0x5927b72440d8a8b8c6ca5a8be60e88975f9063fc.json: max() iterable argument is empty\n",
      "Failed to process /Users/napatcholthaipanich/Dev/master/dissertation/workspace/data/labeled/txn/0xc71d244f7ad6c869ecbf13cbd9acae31718be4f8.json: max() iterable argument is empty\n",
      "Failed to process /Users/napatcholthaipanich/Dev/master/dissertation/workspace/data/labeled/txn/0x831467b7b6bf9c705dc87899d48b57ee55c8d5cc.json: max() iterable argument is empty\n",
      "Failed to process /Users/napatcholthaipanich/Dev/master/dissertation/workspace/data/labeled/txn/0xef20505c8b343d12da174bf9d8495c1ce2670989.json: max() iterable argument is empty\n",
      "Failed to process /Users/napatcholthaipanich/Dev/master/dissertation/workspace/data/labeled/txn/0x548c9731ae163a73a28916eeb11717fe446dab54.json: max() iterable argument is empty\n",
      "Failed to process /Users/napatcholthaipanich/Dev/master/dissertation/workspace/data/labeled/txn/0xa0ffc741f109159ee203424a299e6d2731dcfc76.json: max() iterable argument is empty\n",
      "Failed to process /Users/napatcholthaipanich/Dev/master/dissertation/workspace/data/labeled/txn/0x455dedacbe41c178953119847f2b95e2d9ad0a1d.json: max() iterable argument is empty\n",
      "Failed to process /Users/napatcholthaipanich/Dev/master/dissertation/workspace/data/labeled/txn/0xec4cb1148ec60e00a6bfcfce4482db724db6bdde.json: max() iterable argument is empty\n",
      "Failed to process /Users/napatcholthaipanich/Dev/master/dissertation/workspace/data/labeled/txn/0xe0b9d4146aad6936cbfcbe4dae47e34aab96b093.json: max() iterable argument is empty\n",
      "Failed to process /Users/napatcholthaipanich/Dev/master/dissertation/workspace/data/labeled/txn/0x1e4402fa427a7a835fc64ea6d051404ce767a569.json: max() iterable argument is empty\n"
     ]
    }
   ],
   "source": [
    "txn_df = build_txn_feature_dataframe(os.path.join(LABEL_PATH, 'txn'))"
   ]
  },
  {
   "cell_type": "code",
   "execution_count": 9,
   "id": "4e84fa95",
   "metadata": {},
   "outputs": [
    {
     "data": {
      "application/vnd.microsoft.datawrangler.viewer.v0+json": {
       "columns": [
        {
         "name": "Address",
         "rawType": "object",
         "type": "string"
        },
        {
         "name": "txn_nums",
         "rawType": "int64",
         "type": "integer"
        },
        {
         "name": "event_nums",
         "rawType": "int64",
         "type": "integer"
        },
        {
         "name": "creation_block",
         "rawType": "int64",
         "type": "integer"
        },
        {
         "name": "creation_timestamp",
         "rawType": "int64",
         "type": "integer"
        },
        {
         "name": "start_block",
         "rawType": "int64",
         "type": "integer"
        },
        {
         "name": "end_block",
         "rawType": "int64",
         "type": "integer"
        },
        {
         "name": "life_time",
         "rawType": "int64",
         "type": "integer"
        },
        {
         "name": "start_time",
         "rawType": "int64",
         "type": "integer"
        },
        {
         "name": "end_time",
         "rawType": "int64",
         "type": "integer"
        },
        {
         "name": "duration_seconds",
         "rawType": "int64",
         "type": "integer"
        },
        {
         "name": "from_creation_to_transfer",
         "rawType": "int64",
         "type": "integer"
        },
        {
         "name": "num_addresses",
         "rawType": "int64",
         "type": "integer"
        },
        {
         "name": "num_buyers",
         "rawType": "int64",
         "type": "integer"
        },
        {
         "name": "num_sellers",
         "rawType": "int64",
         "type": "integer"
        },
        {
         "name": "num_creator_transfers",
         "rawType": "int64",
         "type": "integer"
        },
        {
         "name": "buy_amt",
         "rawType": "object",
         "type": "unknown"
        },
        {
         "name": "sell_amt",
         "rawType": "object",
         "type": "unknown"
        },
        {
         "name": "avg_value",
         "rawType": "float64",
         "type": "float"
        },
        {
         "name": "txn_per_block",
         "rawType": "float64",
         "type": "float"
        },
        {
         "name": "avg_gas_limit",
         "rawType": "float64",
         "type": "float"
        },
        {
         "name": "max_gas_limit",
         "rawType": "int64",
         "type": "integer"
        },
        {
         "name": "min_gas_limit",
         "rawType": "int64",
         "type": "integer"
        },
        {
         "name": "std_gas_limit",
         "rawType": "float64",
         "type": "float"
        },
        {
         "name": "avg_gas_used",
         "rawType": "float64",
         "type": "float"
        },
        {
         "name": "max_gas_used",
         "rawType": "int64",
         "type": "integer"
        },
        {
         "name": "min_gas_used",
         "rawType": "int64",
         "type": "integer"
        },
        {
         "name": "std_gas_used",
         "rawType": "float64",
         "type": "float"
        },
        {
         "name": "avg_gas_price",
         "rawType": "float64",
         "type": "float"
        },
        {
         "name": "max_gas_price",
         "rawType": "int64",
         "type": "integer"
        },
        {
         "name": "min_gas_price",
         "rawType": "int64",
         "type": "integer"
        },
        {
         "name": "std_gas_price",
         "rawType": "float64",
         "type": "float"
        },
        {
         "name": "ownershiptransferred_num",
         "rawType": "float64",
         "type": "float"
        },
        {
         "name": "transfer_num",
         "rawType": "float64",
         "type": "float"
        },
        {
         "name": "atinversebrah_num",
         "rawType": "float64",
         "type": "float"
        },
        {
         "name": "approval_num",
         "rawType": "float64",
         "type": "float"
        },
        {
         "name": "approve_num",
         "rawType": "float64",
         "type": "float"
        },
        {
         "name": "renounceownership_num",
         "rawType": "float64",
         "type": "float"
        },
        {
         "name": "removefee_num",
         "rawType": "float64",
         "type": "float"
        },
        {
         "name": "transferfrom_num",
         "rawType": "float64",
         "type": "float"
        },
        {
         "name": "burn_num",
         "rawType": "float64",
         "type": "float"
        },
        {
         "name": "increaseallowance_num",
         "rawType": "float64",
         "type": "float"
        },
        {
         "name": "swapexacttokensforethsupportingfeeontransfertokens_num",
         "rawType": "float64",
         "type": "float"
        },
        {
         "name": "transferownership_num",
         "rawType": "float64",
         "type": "float"
        },
        {
         "name": "opentrading_num",
         "rawType": "float64",
         "type": "float"
        },
        {
         "name": "rolegranted_num",
         "rawType": "float64",
         "type": "float"
        },
        {
         "name": "mint_num",
         "rawType": "float64",
         "type": "float"
        },
        {
         "name": "swapandliquify_num",
         "rawType": "float64",
         "type": "float"
        },
        {
         "name": "bridgemint_num",
         "rawType": "float64",
         "type": "float"
        },
        {
         "name": "setbridgeaddress_num",
         "rawType": "float64",
         "type": "float"
        },
        {
         "name": "setswapandliquifyenabled_num",
         "rawType": "float64",
         "type": "float"
        },
        {
         "name": "createstrongtrade_num",
         "rawType": "float64",
         "type": "float"
        },
        {
         "name": "enablestrongtrade_num",
         "rawType": "float64",
         "type": "float"
        },
        {
         "name": "removestronglimit_num",
         "rawType": "float64",
         "type": "float"
        },
        {
         "name": "safesetup_num",
         "rawType": "float64",
         "type": "float"
        },
        {
         "name": "safereceived_num",
         "rawType": "float64",
         "type": "float"
        },
        {
         "name": "executionsuccess_num",
         "rawType": "float64",
         "type": "float"
        },
        {
         "name": "exectransaction_num",
         "rawType": "float64",
         "type": "float"
        },
        {
         "name": "setpresale_num",
         "rawType": "float64",
         "type": "float"
        },
        {
         "name": "settaxlesssetter_num",
         "rawType": "float64",
         "type": "float"
        },
        {
         "name": "setstabilizer_num",
         "rawType": "float64",
         "type": "float"
        },
        {
         "name": "setliquidityreserve_num",
         "rawType": "float64",
         "type": "float"
        },
        {
         "name": "buy_num",
         "rawType": "float64",
         "type": "float"
        },
        {
         "name": "mintunlockedtranche_num",
         "rawType": "float64",
         "type": "float"
        },
        {
         "name": "mintlockedtranche_num",
         "rawType": "float64",
         "type": "float"
        },
        {
         "name": "startmint_num",
         "rawType": "float64",
         "type": "float"
        },
        {
         "name": "distributeeth_num",
         "rawType": "float64",
         "type": "float"
        },
        {
         "name": "batchmint_num",
         "rawType": "float64",
         "type": "float"
        },
        {
         "name": "manualdailyupdate_num",
         "rawType": "float64",
         "type": "float"
        },
        {
         "name": "startstake_num",
         "rawType": "float64",
         "type": "float"
        },
        {
         "name": "deposit_num",
         "rawType": "float64",
         "type": "float"
        },
        {
         "name": "burnlptokens_num",
         "rawType": "float64",
         "type": "float"
        },
        {
         "name": "triggerpayouts_num",
         "rawType": "float64",
         "type": "float"
        },
        {
         "name": "batchclaimmint_num",
         "rawType": "float64",
         "type": "float"
        },
        {
         "name": "batchmintladder_num",
         "rawType": "float64",
         "type": "float"
        },
        {
         "name": "claimmint_num",
         "rawType": "float64",
         "type": "float"
        },
        {
         "name": "setairdropenabled_num",
         "rawType": "float64",
         "type": "float"
        },
        {
         "name": "airdropmint_num",
         "rawType": "float64",
         "type": "float"
        },
        {
         "name": "claimwsbmoderatorsallocation_num",
         "rawType": "float64",
         "type": "float"
        },
        {
         "name": "mintremainderofairdropsupply_num",
         "rawType": "float64",
         "type": "float"
        },
        {
         "name": "setdeeznutz_num",
         "rawType": "float64",
         "type": "float"
        },
        {
         "name": "mine_num",
         "rawType": "float64",
         "type": "float"
        },
        {
         "name": "transfertokens_num",
         "rawType": "float64",
         "type": "float"
        },
        {
         "name": "maxtxamountupdated_num",
         "rawType": "float64",
         "type": "float"
        },
        {
         "name": "removelimits_num",
         "rawType": "float64",
         "type": "float"
        },
        {
         "name": "transferenabled_num",
         "rawType": "float64",
         "type": "float"
        },
        {
         "name": "payeeadded_num",
         "rawType": "float64",
         "type": "float"
        },
        {
         "name": "setnotrevealeduri_num",
         "rawType": "float64",
         "type": "float"
        },
        {
         "name": "giftmint_num",
         "rawType": "float64",
         "type": "float"
        },
        {
         "name": "presalemint_num",
         "rawType": "float64",
         "type": "float"
        },
        {
         "name": "changepresalestate_num",
         "rawType": "float64",
         "type": "float"
        },
        {
         "name": "setapprovalforall_num",
         "rawType": "float64",
         "type": "float"
        },
        {
         "name": "safetransferfrom_num",
         "rawType": "float64",
         "type": "float"
        },
        {
         "name": "release_num",
         "rawType": "float64",
         "type": "float"
        },
        {
         "name": "setbaseuri_num",
         "rawType": "float64",
         "type": "float"
        },
        {
         "name": "reveal_num",
         "rawType": "float64",
         "type": "float"
        },
        {
         "name": "createordinaltrade_num",
         "rawType": "float64",
         "type": "float"
        },
        {
         "name": "enableordinaltrade_num",
         "rawType": "float64",
         "type": "float"
        },
        {
         "name": "removeordinallimit_num",
         "rawType": "float64",
         "type": "float"
        }
       ],
       "ref": "9b62653e-7851-4645-b5c4-4bb02a3141f2",
       "rows": [
        [
         "0x292f57c7fcd726ba651e46b620d99cc6afe0ec1c",
         "1",
         "2",
         "16832271",
         "1678870799",
         "16832271",
         "16832271",
         "0",
         "1678870799",
         "1678870799",
         "0",
         "0",
         "2",
         "1",
         "1",
         "0",
         "0",
         "0",
         "0.0",
         "0.0",
         "5103891.0",
         "5103891",
         "5103891",
         "0.0",
         "5103891.0",
         "5103891",
         "5103891",
         "0.0",
         "19039527828.0",
         "19039527828",
         "19039527828",
         "0.0",
         "1.0",
         "1.0",
         "1.0",
         "0.0",
         "0.0",
         "0.0",
         "0.0",
         "0.0",
         "0.0",
         "0.0",
         "0.0",
         "0.0",
         "0.0",
         "0.0",
         "0.0",
         "0.0",
         "0.0",
         "0.0",
         "0.0",
         "0.0",
         "0.0",
         "0.0",
         "0.0",
         "0.0",
         "0.0",
         "0.0",
         "0.0",
         "0.0",
         "0.0",
         "0.0",
         "0.0",
         "0.0",
         "0.0",
         "0.0",
         "0.0",
         "0.0",
         "0.0",
         "0.0",
         "0.0",
         "0.0",
         "0.0",
         "0.0",
         "0.0",
         "0.0",
         "0.0",
         "0.0",
         "0.0",
         "0.0",
         "0.0",
         "0.0",
         "0.0",
         "0.0",
         "0.0",
         "0.0",
         "0.0",
         "0.0",
         "0.0",
         "0.0",
         "0.0",
         "0.0",
         "0.0",
         "0.0",
         "0.0",
         "0.0",
         "0.0",
         "0.0",
         "0.0"
        ],
        [
         "0x1c5ee1ffebec5f3e1686e8e59d43f96a3c702b7f",
         "15",
         "65",
         "18559580",
         "1699837391",
         "18559580",
         "18567687",
         "8107",
         "1699837391",
         "1699935287",
         "97896",
         "0",
         "15",
         "1",
         "13",
         "0",
         "0",
         "0",
         "0.0",
         "0.00185002466699556",
         "328308.0",
         "693603",
         "46248",
         "203732.41268192942",
         "90344.86666666667",
         "693603",
         "46248",
         "161248.06251936452",
         "33119289012.533333",
         "42264950307",
         "22104691826",
         "5626019835.35059",
         "0.0",
         "1.0",
         "1.0",
         "15.0",
         "13.0",
         "0.0",
         "0.0",
         "0.0",
         "0.0",
         "0.0",
         "0.0",
         "0.0",
         "0.0",
         "0.0",
         "0.0",
         "0.0",
         "0.0",
         "0.0",
         "0.0",
         "0.0",
         "0.0",
         "0.0",
         "0.0",
         "0.0",
         "0.0",
         "0.0",
         "0.0",
         "0.0",
         "0.0",
         "0.0",
         "0.0",
         "0.0",
         "0.0",
         "0.0",
         "0.0",
         "0.0",
         "0.0",
         "0.0",
         "0.0",
         "0.0",
         "0.0",
         "0.0",
         "0.0",
         "0.0",
         "0.0",
         "0.0",
         "0.0",
         "0.0",
         "0.0",
         "0.0",
         "0.0",
         "0.0",
         "0.0",
         "0.0",
         "0.0",
         "0.0",
         "0.0",
         "0.0",
         "0.0",
         "0.0",
         "0.0",
         "0.0",
         "0.0",
         "0.0",
         "0.0",
         "0.0",
         "0.0"
        ],
        [
         "0x25d8f027fd25eecbcd812521fb2f75f175807a91",
         "89",
         "192",
         "17193258",
         "1683275483",
         "17193258",
         "19422978",
         "2229720",
         "1683275483",
         "1710294527",
         "27019044",
         "0",
         "67",
         "1",
         "65",
         "0",
         "0",
         "0",
         "0.0",
         "3.991530778962929e-05",
         "123075.26966292135",
         "5243017",
         "42592",
         "546455.4485125078",
         "104527.40449438202",
         "5243017",
         "23595",
         "547787.087660741",
         "200064766073.41574",
         "318997516416",
         "46984204396",
         "41342597373.7512",
         "2.0",
         "5.0",
         "1.0",
         "89.0",
         "80.0",
         "1.0",
         "2.0",
         "0.0",
         "0.0",
         "0.0",
         "0.0",
         "0.0",
         "0.0",
         "0.0",
         "0.0",
         "0.0",
         "0.0",
         "0.0",
         "0.0",
         "0.0",
         "0.0",
         "0.0",
         "0.0",
         "0.0",
         "0.0",
         "0.0",
         "0.0",
         "0.0",
         "0.0",
         "0.0",
         "0.0",
         "0.0",
         "0.0",
         "0.0",
         "0.0",
         "0.0",
         "0.0",
         "0.0",
         "0.0",
         "0.0",
         "0.0",
         "0.0",
         "0.0",
         "0.0",
         "0.0",
         "0.0",
         "0.0",
         "0.0",
         "0.0",
         "0.0",
         "0.0",
         "0.0",
         "0.0",
         "0.0",
         "0.0",
         "0.0",
         "0.0",
         "0.0",
         "0.0",
         "0.0",
         "0.0",
         "0.0",
         "0.0",
         "0.0",
         "0.0",
         "0.0",
         "0.0"
        ],
        [
         "0xe7e63e244c52b2230666e263657ba8db2b6b3705",
         "82",
         "206",
         "17200420",
         "1683362363",
         "17200420",
         "21912396",
         "4711976",
         "1683362363",
         "1740354371",
         "56992008",
         "0",
         "58",
         "1",
         "56",
         "0",
         "0",
         "0",
         "0.0",
         "1.7402461854121954e-05",
         "123880.4512195122",
         "5243071",
         "29857",
         "570452.1795409783",
         "108085.5243902439",
         "5243071",
         "23595",
         "570594.1266093856",
         "167517247451.32925",
         "391000000000",
         "1867910210",
         "40031691276.970795",
         "2.0",
         "3.0",
         "1.0",
         "93.0",
         "75.0",
         "1.0",
         "2.0",
         "0.0",
         "0.0",
         "0.0",
         "0.0",
         "0.0",
         "0.0",
         "0.0",
         "0.0",
         "0.0",
         "0.0",
         "0.0",
         "0.0",
         "0.0",
         "0.0",
         "0.0",
         "0.0",
         "0.0",
         "0.0",
         "0.0",
         "0.0",
         "0.0",
         "0.0",
         "0.0",
         "0.0",
         "0.0",
         "0.0",
         "0.0",
         "0.0",
         "0.0",
         "0.0",
         "0.0",
         "0.0",
         "0.0",
         "0.0",
         "0.0",
         "0.0",
         "0.0",
         "0.0",
         "0.0",
         "0.0",
         "0.0",
         "0.0",
         "0.0",
         "0.0",
         "0.0",
         "0.0",
         "0.0",
         "0.0",
         "0.0",
         "0.0",
         "0.0",
         "0.0",
         "0.0",
         "0.0",
         "0.0",
         "0.0",
         "0.0",
         "0.0",
         "0.0",
         "0.0"
        ],
        [
         "0x8275ebf521dc217aa79c88132017a5bcef001dd9",
         "1707",
         "1000",
         "6270670",
         "1536069671",
         "6270670",
         "13492052",
         "7221382",
         "1536069671",
         "1635238737",
         "99169066",
         "0",
         "254",
         "1",
         "252",
         "0",
         "0",
         "0",
         "0.0",
         "0.00023638131366249374",
         "149389.86818980667",
         "1867060",
         "36933",
         "130289.4410080877",
         "43242.88107791447",
         "1867060",
         "19897",
         "45412.70136911928",
         "18103266556.28998",
         "187570001254",
         "1000000000",
         "19413494092.447353",
         "0.0",
         "1597.0",
         "1.0",
         "5.0",
         "36.0",
         "0.0",
         "0.0",
         "71.0",
         "0.0",
         "0.0",
         "0.0",
         "0.0",
         "0.0",
         "0.0",
         "0.0",
         "0.0",
         "0.0",
         "0.0",
         "0.0",
         "0.0",
         "0.0",
         "0.0",
         "0.0",
         "0.0",
         "0.0",
         "0.0",
         "0.0",
         "0.0",
         "0.0",
         "0.0",
         "0.0",
         "0.0",
         "0.0",
         "0.0",
         "0.0",
         "0.0",
         "0.0",
         "0.0",
         "0.0",
         "0.0",
         "0.0",
         "0.0",
         "0.0",
         "0.0",
         "0.0",
         "0.0",
         "0.0",
         "0.0",
         "0.0",
         "0.0",
         "0.0",
         "0.0",
         "0.0",
         "0.0",
         "0.0",
         "0.0",
         "0.0",
         "0.0",
         "0.0",
         "0.0",
         "0.0",
         "0.0",
         "0.0",
         "0.0",
         "0.0",
         "0.0",
         "0.0"
        ]
       ],
       "shape": {
        "columns": 98,
        "rows": 5
       }
      },
      "text/html": [
       "<div>\n",
       "<style scoped>\n",
       "    .dataframe tbody tr th:only-of-type {\n",
       "        vertical-align: middle;\n",
       "    }\n",
       "\n",
       "    .dataframe tbody tr th {\n",
       "        vertical-align: top;\n",
       "    }\n",
       "\n",
       "    .dataframe thead th {\n",
       "        text-align: right;\n",
       "    }\n",
       "</style>\n",
       "<table border=\"1\" class=\"dataframe\">\n",
       "  <thead>\n",
       "    <tr style=\"text-align: right;\">\n",
       "      <th></th>\n",
       "      <th>txn_nums</th>\n",
       "      <th>event_nums</th>\n",
       "      <th>creation_block</th>\n",
       "      <th>creation_timestamp</th>\n",
       "      <th>start_block</th>\n",
       "      <th>end_block</th>\n",
       "      <th>life_time</th>\n",
       "      <th>start_time</th>\n",
       "      <th>end_time</th>\n",
       "      <th>duration_seconds</th>\n",
       "      <th>...</th>\n",
       "      <th>presalemint_num</th>\n",
       "      <th>changepresalestate_num</th>\n",
       "      <th>setapprovalforall_num</th>\n",
       "      <th>safetransferfrom_num</th>\n",
       "      <th>release_num</th>\n",
       "      <th>setbaseuri_num</th>\n",
       "      <th>reveal_num</th>\n",
       "      <th>createordinaltrade_num</th>\n",
       "      <th>enableordinaltrade_num</th>\n",
       "      <th>removeordinallimit_num</th>\n",
       "    </tr>\n",
       "    <tr>\n",
       "      <th>Address</th>\n",
       "      <th></th>\n",
       "      <th></th>\n",
       "      <th></th>\n",
       "      <th></th>\n",
       "      <th></th>\n",
       "      <th></th>\n",
       "      <th></th>\n",
       "      <th></th>\n",
       "      <th></th>\n",
       "      <th></th>\n",
       "      <th></th>\n",
       "      <th></th>\n",
       "      <th></th>\n",
       "      <th></th>\n",
       "      <th></th>\n",
       "      <th></th>\n",
       "      <th></th>\n",
       "      <th></th>\n",
       "      <th></th>\n",
       "      <th></th>\n",
       "      <th></th>\n",
       "    </tr>\n",
       "  </thead>\n",
       "  <tbody>\n",
       "    <tr>\n",
       "      <th>0x292f57c7fcd726ba651e46b620d99cc6afe0ec1c</th>\n",
       "      <td>1</td>\n",
       "      <td>2</td>\n",
       "      <td>16832271</td>\n",
       "      <td>1678870799</td>\n",
       "      <td>16832271</td>\n",
       "      <td>16832271</td>\n",
       "      <td>0</td>\n",
       "      <td>1678870799</td>\n",
       "      <td>1678870799</td>\n",
       "      <td>0</td>\n",
       "      <td>...</td>\n",
       "      <td>0.0</td>\n",
       "      <td>0.0</td>\n",
       "      <td>0.0</td>\n",
       "      <td>0.0</td>\n",
       "      <td>0.0</td>\n",
       "      <td>0.0</td>\n",
       "      <td>0.0</td>\n",
       "      <td>0.0</td>\n",
       "      <td>0.0</td>\n",
       "      <td>0.0</td>\n",
       "    </tr>\n",
       "    <tr>\n",
       "      <th>0x1c5ee1ffebec5f3e1686e8e59d43f96a3c702b7f</th>\n",
       "      <td>15</td>\n",
       "      <td>65</td>\n",
       "      <td>18559580</td>\n",
       "      <td>1699837391</td>\n",
       "      <td>18559580</td>\n",
       "      <td>18567687</td>\n",
       "      <td>8107</td>\n",
       "      <td>1699837391</td>\n",
       "      <td>1699935287</td>\n",
       "      <td>97896</td>\n",
       "      <td>...</td>\n",
       "      <td>0.0</td>\n",
       "      <td>0.0</td>\n",
       "      <td>0.0</td>\n",
       "      <td>0.0</td>\n",
       "      <td>0.0</td>\n",
       "      <td>0.0</td>\n",
       "      <td>0.0</td>\n",
       "      <td>0.0</td>\n",
       "      <td>0.0</td>\n",
       "      <td>0.0</td>\n",
       "    </tr>\n",
       "    <tr>\n",
       "      <th>0x25d8f027fd25eecbcd812521fb2f75f175807a91</th>\n",
       "      <td>89</td>\n",
       "      <td>192</td>\n",
       "      <td>17193258</td>\n",
       "      <td>1683275483</td>\n",
       "      <td>17193258</td>\n",
       "      <td>19422978</td>\n",
       "      <td>2229720</td>\n",
       "      <td>1683275483</td>\n",
       "      <td>1710294527</td>\n",
       "      <td>27019044</td>\n",
       "      <td>...</td>\n",
       "      <td>0.0</td>\n",
       "      <td>0.0</td>\n",
       "      <td>0.0</td>\n",
       "      <td>0.0</td>\n",
       "      <td>0.0</td>\n",
       "      <td>0.0</td>\n",
       "      <td>0.0</td>\n",
       "      <td>0.0</td>\n",
       "      <td>0.0</td>\n",
       "      <td>0.0</td>\n",
       "    </tr>\n",
       "    <tr>\n",
       "      <th>0xe7e63e244c52b2230666e263657ba8db2b6b3705</th>\n",
       "      <td>82</td>\n",
       "      <td>206</td>\n",
       "      <td>17200420</td>\n",
       "      <td>1683362363</td>\n",
       "      <td>17200420</td>\n",
       "      <td>21912396</td>\n",
       "      <td>4711976</td>\n",
       "      <td>1683362363</td>\n",
       "      <td>1740354371</td>\n",
       "      <td>56992008</td>\n",
       "      <td>...</td>\n",
       "      <td>0.0</td>\n",
       "      <td>0.0</td>\n",
       "      <td>0.0</td>\n",
       "      <td>0.0</td>\n",
       "      <td>0.0</td>\n",
       "      <td>0.0</td>\n",
       "      <td>0.0</td>\n",
       "      <td>0.0</td>\n",
       "      <td>0.0</td>\n",
       "      <td>0.0</td>\n",
       "    </tr>\n",
       "    <tr>\n",
       "      <th>0x8275ebf521dc217aa79c88132017a5bcef001dd9</th>\n",
       "      <td>1707</td>\n",
       "      <td>1000</td>\n",
       "      <td>6270670</td>\n",
       "      <td>1536069671</td>\n",
       "      <td>6270670</td>\n",
       "      <td>13492052</td>\n",
       "      <td>7221382</td>\n",
       "      <td>1536069671</td>\n",
       "      <td>1635238737</td>\n",
       "      <td>99169066</td>\n",
       "      <td>...</td>\n",
       "      <td>0.0</td>\n",
       "      <td>0.0</td>\n",
       "      <td>0.0</td>\n",
       "      <td>0.0</td>\n",
       "      <td>0.0</td>\n",
       "      <td>0.0</td>\n",
       "      <td>0.0</td>\n",
       "      <td>0.0</td>\n",
       "      <td>0.0</td>\n",
       "      <td>0.0</td>\n",
       "    </tr>\n",
       "  </tbody>\n",
       "</table>\n",
       "<p>5 rows × 98 columns</p>\n",
       "</div>"
      ],
      "text/plain": [
       "                                            txn_nums  event_nums  \\\n",
       "Address                                                            \n",
       "0x292f57c7fcd726ba651e46b620d99cc6afe0ec1c         1           2   \n",
       "0x1c5ee1ffebec5f3e1686e8e59d43f96a3c702b7f        15          65   \n",
       "0x25d8f027fd25eecbcd812521fb2f75f175807a91        89         192   \n",
       "0xe7e63e244c52b2230666e263657ba8db2b6b3705        82         206   \n",
       "0x8275ebf521dc217aa79c88132017a5bcef001dd9      1707        1000   \n",
       "\n",
       "                                            creation_block  \\\n",
       "Address                                                      \n",
       "0x292f57c7fcd726ba651e46b620d99cc6afe0ec1c        16832271   \n",
       "0x1c5ee1ffebec5f3e1686e8e59d43f96a3c702b7f        18559580   \n",
       "0x25d8f027fd25eecbcd812521fb2f75f175807a91        17193258   \n",
       "0xe7e63e244c52b2230666e263657ba8db2b6b3705        17200420   \n",
       "0x8275ebf521dc217aa79c88132017a5bcef001dd9         6270670   \n",
       "\n",
       "                                            creation_timestamp  start_block  \\\n",
       "Address                                                                       \n",
       "0x292f57c7fcd726ba651e46b620d99cc6afe0ec1c          1678870799     16832271   \n",
       "0x1c5ee1ffebec5f3e1686e8e59d43f96a3c702b7f          1699837391     18559580   \n",
       "0x25d8f027fd25eecbcd812521fb2f75f175807a91          1683275483     17193258   \n",
       "0xe7e63e244c52b2230666e263657ba8db2b6b3705          1683362363     17200420   \n",
       "0x8275ebf521dc217aa79c88132017a5bcef001dd9          1536069671      6270670   \n",
       "\n",
       "                                            end_block  life_time  start_time  \\\n",
       "Address                                                                        \n",
       "0x292f57c7fcd726ba651e46b620d99cc6afe0ec1c   16832271          0  1678870799   \n",
       "0x1c5ee1ffebec5f3e1686e8e59d43f96a3c702b7f   18567687       8107  1699837391   \n",
       "0x25d8f027fd25eecbcd812521fb2f75f175807a91   19422978    2229720  1683275483   \n",
       "0xe7e63e244c52b2230666e263657ba8db2b6b3705   21912396    4711976  1683362363   \n",
       "0x8275ebf521dc217aa79c88132017a5bcef001dd9   13492052    7221382  1536069671   \n",
       "\n",
       "                                              end_time  duration_seconds  ...  \\\n",
       "Address                                                                   ...   \n",
       "0x292f57c7fcd726ba651e46b620d99cc6afe0ec1c  1678870799                 0  ...   \n",
       "0x1c5ee1ffebec5f3e1686e8e59d43f96a3c702b7f  1699935287             97896  ...   \n",
       "0x25d8f027fd25eecbcd812521fb2f75f175807a91  1710294527          27019044  ...   \n",
       "0xe7e63e244c52b2230666e263657ba8db2b6b3705  1740354371          56992008  ...   \n",
       "0x8275ebf521dc217aa79c88132017a5bcef001dd9  1635238737          99169066  ...   \n",
       "\n",
       "                                            presalemint_num  \\\n",
       "Address                                                       \n",
       "0x292f57c7fcd726ba651e46b620d99cc6afe0ec1c              0.0   \n",
       "0x1c5ee1ffebec5f3e1686e8e59d43f96a3c702b7f              0.0   \n",
       "0x25d8f027fd25eecbcd812521fb2f75f175807a91              0.0   \n",
       "0xe7e63e244c52b2230666e263657ba8db2b6b3705              0.0   \n",
       "0x8275ebf521dc217aa79c88132017a5bcef001dd9              0.0   \n",
       "\n",
       "                                            changepresalestate_num  \\\n",
       "Address                                                              \n",
       "0x292f57c7fcd726ba651e46b620d99cc6afe0ec1c                     0.0   \n",
       "0x1c5ee1ffebec5f3e1686e8e59d43f96a3c702b7f                     0.0   \n",
       "0x25d8f027fd25eecbcd812521fb2f75f175807a91                     0.0   \n",
       "0xe7e63e244c52b2230666e263657ba8db2b6b3705                     0.0   \n",
       "0x8275ebf521dc217aa79c88132017a5bcef001dd9                     0.0   \n",
       "\n",
       "                                            setapprovalforall_num  \\\n",
       "Address                                                             \n",
       "0x292f57c7fcd726ba651e46b620d99cc6afe0ec1c                    0.0   \n",
       "0x1c5ee1ffebec5f3e1686e8e59d43f96a3c702b7f                    0.0   \n",
       "0x25d8f027fd25eecbcd812521fb2f75f175807a91                    0.0   \n",
       "0xe7e63e244c52b2230666e263657ba8db2b6b3705                    0.0   \n",
       "0x8275ebf521dc217aa79c88132017a5bcef001dd9                    0.0   \n",
       "\n",
       "                                            safetransferfrom_num  release_num  \\\n",
       "Address                                                                         \n",
       "0x292f57c7fcd726ba651e46b620d99cc6afe0ec1c                   0.0          0.0   \n",
       "0x1c5ee1ffebec5f3e1686e8e59d43f96a3c702b7f                   0.0          0.0   \n",
       "0x25d8f027fd25eecbcd812521fb2f75f175807a91                   0.0          0.0   \n",
       "0xe7e63e244c52b2230666e263657ba8db2b6b3705                   0.0          0.0   \n",
       "0x8275ebf521dc217aa79c88132017a5bcef001dd9                   0.0          0.0   \n",
       "\n",
       "                                           setbaseuri_num reveal_num  \\\n",
       "Address                                                                \n",
       "0x292f57c7fcd726ba651e46b620d99cc6afe0ec1c            0.0        0.0   \n",
       "0x1c5ee1ffebec5f3e1686e8e59d43f96a3c702b7f            0.0        0.0   \n",
       "0x25d8f027fd25eecbcd812521fb2f75f175807a91            0.0        0.0   \n",
       "0xe7e63e244c52b2230666e263657ba8db2b6b3705            0.0        0.0   \n",
       "0x8275ebf521dc217aa79c88132017a5bcef001dd9            0.0        0.0   \n",
       "\n",
       "                                            createordinaltrade_num  \\\n",
       "Address                                                              \n",
       "0x292f57c7fcd726ba651e46b620d99cc6afe0ec1c                     0.0   \n",
       "0x1c5ee1ffebec5f3e1686e8e59d43f96a3c702b7f                     0.0   \n",
       "0x25d8f027fd25eecbcd812521fb2f75f175807a91                     0.0   \n",
       "0xe7e63e244c52b2230666e263657ba8db2b6b3705                     0.0   \n",
       "0x8275ebf521dc217aa79c88132017a5bcef001dd9                     0.0   \n",
       "\n",
       "                                            enableordinaltrade_num  \\\n",
       "Address                                                              \n",
       "0x292f57c7fcd726ba651e46b620d99cc6afe0ec1c                     0.0   \n",
       "0x1c5ee1ffebec5f3e1686e8e59d43f96a3c702b7f                     0.0   \n",
       "0x25d8f027fd25eecbcd812521fb2f75f175807a91                     0.0   \n",
       "0xe7e63e244c52b2230666e263657ba8db2b6b3705                     0.0   \n",
       "0x8275ebf521dc217aa79c88132017a5bcef001dd9                     0.0   \n",
       "\n",
       "                                            removeordinallimit_num  \n",
       "Address                                                             \n",
       "0x292f57c7fcd726ba651e46b620d99cc6afe0ec1c                     0.0  \n",
       "0x1c5ee1ffebec5f3e1686e8e59d43f96a3c702b7f                     0.0  \n",
       "0x25d8f027fd25eecbcd812521fb2f75f175807a91                     0.0  \n",
       "0xe7e63e244c52b2230666e263657ba8db2b6b3705                     0.0  \n",
       "0x8275ebf521dc217aa79c88132017a5bcef001dd9                     0.0  \n",
       "\n",
       "[5 rows x 98 columns]"
      ]
     },
     "execution_count": 9,
     "metadata": {},
     "output_type": "execute_result"
    }
   ],
   "source": [
    "txn_df.head()"
   ]
  },
  {
   "cell_type": "code",
   "execution_count": 10,
   "id": "f449fb93",
   "metadata": {},
   "outputs": [
    {
     "data": {
      "application/vnd.microsoft.datawrangler.viewer.v0+json": {
       "columns": [
        {
         "name": "index",
         "rawType": "object",
         "type": "string"
        },
        {
         "name": "0",
         "rawType": "int64",
         "type": "integer"
        }
       ],
       "ref": "586b171a-dc9e-4de1-ab16-78d63a1927ad",
       "rows": [
        [
         "removeordinallimit_num",
         "0"
        ],
        [
         "txn_nums",
         "0"
        ],
        [
         "maxtxamountupdated_num",
         "0"
        ],
        [
         "removelimits_num",
         "0"
        ],
        [
         "transferenabled_num",
         "0"
        ],
        [
         "payeeadded_num",
         "0"
        ],
        [
         "setnotrevealeduri_num",
         "0"
        ],
        [
         "giftmint_num",
         "0"
        ],
        [
         "presalemint_num",
         "0"
        ],
        [
         "changepresalestate_num",
         "0"
        ],
        [
         "from_creation_to_transfer",
         "0"
        ],
        [
         "num_addresses",
         "0"
        ],
        [
         "num_buyers",
         "0"
        ],
        [
         "num_sellers",
         "0"
        ],
        [
         "num_creator_transfers",
         "0"
        ],
        [
         "buy_amt",
         "0"
        ],
        [
         "sell_amt",
         "0"
        ],
        [
         "avg_value",
         "0"
        ],
        [
         "txn_per_block",
         "0"
        ],
        [
         "avg_gas_limit",
         "0"
        ],
        [
         "max_gas_limit",
         "0"
        ],
        [
         "min_gas_limit",
         "0"
        ],
        [
         "std_gas_limit",
         "0"
        ],
        [
         "avg_gas_used",
         "0"
        ],
        [
         "max_gas_used",
         "0"
        ],
        [
         "min_gas_used",
         "0"
        ],
        [
         "std_gas_used",
         "0"
        ],
        [
         "avg_gas_price",
         "0"
        ],
        [
         "max_gas_price",
         "0"
        ],
        [
         "min_gas_price",
         "0"
        ],
        [
         "std_gas_price",
         "0"
        ],
        [
         "ownershiptransferred_num",
         "0"
        ],
        [
         "transfer_num",
         "0"
        ],
        [
         "atinversebrah_num",
         "0"
        ],
        [
         "approval_num",
         "0"
        ],
        [
         "approve_num",
         "0"
        ],
        [
         "renounceownership_num",
         "0"
        ],
        [
         "removefee_num",
         "0"
        ],
        [
         "transferfrom_num",
         "0"
        ],
        [
         "burn_num",
         "0"
        ],
        [
         "increaseallowance_num",
         "0"
        ],
        [
         "swapexacttokensforethsupportingfeeontransfertokens_num",
         "0"
        ],
        [
         "transferownership_num",
         "0"
        ],
        [
         "opentrading_num",
         "0"
        ],
        [
         "rolegranted_num",
         "0"
        ],
        [
         "mint_num",
         "0"
        ],
        [
         "swapandliquify_num",
         "0"
        ],
        [
         "bridgemint_num",
         "0"
        ],
        [
         "setbridgeaddress_num",
         "0"
        ],
        [
         "setswapandliquifyenabled_num",
         "0"
        ]
       ],
       "shape": {
        "columns": 1,
        "rows": 98
       }
      },
      "text/plain": [
       "removeordinallimit_num    0\n",
       "txn_nums                  0\n",
       "maxtxamountupdated_num    0\n",
       "removelimits_num          0\n",
       "transferenabled_num       0\n",
       "                         ..\n",
       "end_block                 0\n",
       "life_time                 0\n",
       "start_time                0\n",
       "end_time                  0\n",
       "duration_seconds          0\n",
       "Length: 98, dtype: int64"
      ]
     },
     "execution_count": 10,
     "metadata": {},
     "output_type": "execute_result"
    }
   ],
   "source": [
    "txn_df.isnull().sum().sort_values(ascending=False)"
   ]
  },
  {
   "cell_type": "code",
   "execution_count": 11,
   "id": "fb31d8f1",
   "metadata": {},
   "outputs": [],
   "source": [
    "txn_df.to_csv(os.path.join(LABEL_PATH, 'transaction_feature.csv'))"
   ]
  }
 ],
 "metadata": {
  "kernelspec": {
   "display_name": "ml-algo",
   "language": "python",
   "name": "python3"
  },
  "language_info": {
   "codemirror_mode": {
    "name": "ipython",
    "version": 3
   },
   "file_extension": ".py",
   "mimetype": "text/x-python",
   "name": "python",
   "nbconvert_exporter": "python",
   "pygments_lexer": "ipython3",
   "version": "3.12.7"
  }
 },
 "nbformat": 4,
 "nbformat_minor": 5
}
