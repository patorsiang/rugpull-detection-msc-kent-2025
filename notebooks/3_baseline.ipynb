{
  "cells": [
    {
      "cell_type": "markdown",
      "id": "f4bdda81",
      "metadata": {
        "id": "f4bdda81"
      },
      "source": [
        "# Baseline"
      ]
    },
    {
      "cell_type": "markdown",
      "source": [
        "## Install required packages."
      ],
      "metadata": {
        "id": "TcNoAJShSWuS"
      },
      "id": "TcNoAJShSWuS"
    },
    {
      "cell_type": "code",
      "source": [
        "import os\n",
        "import torch\n",
        "os.environ['TORCH'] = torch.__version__\n",
        "os.environ['PYTHONWARNINGS'] = \"ignore\"\n",
        "print(torch.__version__)\n",
        "!pip install torch-scatter -f https://data.pyg.org/whl/torch-${TORCH}.html\n",
        "!pip install torch-sparse -f https://data.pyg.org/whl/torch-${TORCH}.html\n",
        "!pip install git+https://github.com/pyg-team/pytorch_geometric.git"
      ],
      "metadata": {
        "colab": {
          "base_uri": "https://localhost:8080/"
        },
        "id": "98HiX-1gSZj8",
        "outputId": "65a983d2-48d6-4155-fd81-7ee2f1112ebc"
      },
      "id": "98HiX-1gSZj8",
      "execution_count": 37,
      "outputs": [
        {
          "output_type": "stream",
          "name": "stdout",
          "text": [
            "2.6.0+cu124\n",
            "Looking in links: https://data.pyg.org/whl/torch-2.6.0+cu124.html\n",
            "Requirement already satisfied: torch-scatter in /usr/local/lib/python3.11/dist-packages (2.1.2+pt26cu124)\n",
            "Looking in links: https://data.pyg.org/whl/torch-2.6.0+cu124.html\n",
            "Requirement already satisfied: torch-sparse in /usr/local/lib/python3.11/dist-packages (0.6.18+pt26cu124)\n",
            "Requirement already satisfied: scipy in /usr/local/lib/python3.11/dist-packages (from torch-sparse) (1.16.0)\n",
            "Requirement already satisfied: numpy<2.6,>=1.25.2 in /usr/local/lib/python3.11/dist-packages (from scipy->torch-sparse) (2.0.2)\n",
            "Collecting git+https://github.com/pyg-team/pytorch_geometric.git\n",
            "  Cloning https://github.com/pyg-team/pytorch_geometric.git to /tmp/pip-req-build-ae7pe2rn\n",
            "  Running command git clone --filter=blob:none --quiet https://github.com/pyg-team/pytorch_geometric.git /tmp/pip-req-build-ae7pe2rn\n",
            "  Resolved https://github.com/pyg-team/pytorch_geometric.git to commit 4410298df8de8ca9f13ba4ee12e6a30ec82c42d1\n",
            "  Installing build dependencies ... \u001b[?25l\u001b[?25hdone\n",
            "  Getting requirements to build wheel ... \u001b[?25l\u001b[?25hdone\n",
            "  Preparing metadata (pyproject.toml) ... \u001b[?25l\u001b[?25hdone\n",
            "Requirement already satisfied: aiohttp in /usr/local/lib/python3.11/dist-packages (from torch-geometric==2.7.0) (3.12.14)\n",
            "Requirement already satisfied: fsspec in /usr/local/lib/python3.11/dist-packages (from torch-geometric==2.7.0) (2025.3.0)\n",
            "Requirement already satisfied: jinja2 in /usr/local/lib/python3.11/dist-packages (from torch-geometric==2.7.0) (3.1.6)\n",
            "Requirement already satisfied: numpy in /usr/local/lib/python3.11/dist-packages (from torch-geometric==2.7.0) (2.0.2)\n",
            "Requirement already satisfied: psutil>=5.8.0 in /usr/local/lib/python3.11/dist-packages (from torch-geometric==2.7.0) (5.9.5)\n",
            "Requirement already satisfied: pyparsing in /usr/local/lib/python3.11/dist-packages (from torch-geometric==2.7.0) (3.2.3)\n",
            "Requirement already satisfied: requests in /usr/local/lib/python3.11/dist-packages (from torch-geometric==2.7.0) (2.32.3)\n",
            "Requirement already satisfied: tqdm in /usr/local/lib/python3.11/dist-packages (from torch-geometric==2.7.0) (4.67.1)\n",
            "Requirement already satisfied: xxhash in /usr/local/lib/python3.11/dist-packages (from torch-geometric==2.7.0) (3.5.0)\n",
            "Requirement already satisfied: aiohappyeyeballs>=2.5.0 in /usr/local/lib/python3.11/dist-packages (from aiohttp->torch-geometric==2.7.0) (2.6.1)\n",
            "Requirement already satisfied: aiosignal>=1.4.0 in /usr/local/lib/python3.11/dist-packages (from aiohttp->torch-geometric==2.7.0) (1.4.0)\n",
            "Requirement already satisfied: attrs>=17.3.0 in /usr/local/lib/python3.11/dist-packages (from aiohttp->torch-geometric==2.7.0) (25.3.0)\n",
            "Requirement already satisfied: frozenlist>=1.1.1 in /usr/local/lib/python3.11/dist-packages (from aiohttp->torch-geometric==2.7.0) (1.7.0)\n",
            "Requirement already satisfied: multidict<7.0,>=4.5 in /usr/local/lib/python3.11/dist-packages (from aiohttp->torch-geometric==2.7.0) (6.6.3)\n",
            "Requirement already satisfied: propcache>=0.2.0 in /usr/local/lib/python3.11/dist-packages (from aiohttp->torch-geometric==2.7.0) (0.3.2)\n",
            "Requirement already satisfied: yarl<2.0,>=1.17.0 in /usr/local/lib/python3.11/dist-packages (from aiohttp->torch-geometric==2.7.0) (1.20.1)\n",
            "Requirement already satisfied: MarkupSafe>=2.0 in /usr/local/lib/python3.11/dist-packages (from jinja2->torch-geometric==2.7.0) (3.0.2)\n",
            "Requirement already satisfied: charset-normalizer<4,>=2 in /usr/local/lib/python3.11/dist-packages (from requests->torch-geometric==2.7.0) (3.4.2)\n",
            "Requirement already satisfied: idna<4,>=2.5 in /usr/local/lib/python3.11/dist-packages (from requests->torch-geometric==2.7.0) (3.10)\n",
            "Requirement already satisfied: urllib3<3,>=1.21.1 in /usr/local/lib/python3.11/dist-packages (from requests->torch-geometric==2.7.0) (2.5.0)\n",
            "Requirement already satisfied: certifi>=2017.4.17 in /usr/local/lib/python3.11/dist-packages (from requests->torch-geometric==2.7.0) (2025.7.14)\n",
            "Requirement already satisfied: typing-extensions>=4.2 in /usr/local/lib/python3.11/dist-packages (from aiosignal>=1.4.0->aiohttp->torch-geometric==2.7.0) (4.14.1)\n"
          ]
        }
      ]
    },
    {
      "cell_type": "code",
      "source": [
        "!unzip data.zip -d ."
      ],
      "metadata": {
        "id": "4zO03iv_AbFB",
        "outputId": "cb8bfcb6-0aa1-449d-f932-ee93b053bb1e",
        "colab": {
          "base_uri": "https://localhost:8080/"
        }
      },
      "id": "4zO03iv_AbFB",
      "execution_count": 38,
      "outputs": [
        {
          "output_type": "stream",
          "name": "stdout",
          "text": [
            "Archive:  data.zip\n",
            "replace ./data/.DS_Store? [y]es, [n]o, [A]ll, [N]one, [r]ename: "
          ]
        }
      ]
    },
    {
      "cell_type": "markdown",
      "source": [
        "## Set up"
      ],
      "metadata": {
        "id": "DALahIguKlqD"
      },
      "id": "DALahIguKlqD"
    },
    {
      "cell_type": "code",
      "source": [
        "import os\n",
        "from pathlib import Path\n",
        "import pandas as pd\n",
        "import pickle\n",
        "import json\n",
        "import numpy as np\n",
        "import matplotlib.pyplot as plt\n",
        "import seaborn as sns\n",
        "\n",
        "import torch.nn as nn\n",
        "import torch.nn.functional as F\n",
        "from torch_geometric.data import Data\n",
        "from torch_geometric.nn import GCNConv, global_mean_pool\n",
        "from torch_geometric.utils import from_networkx\n",
        "from torch.nn.utils.rnn import pad_sequence\n",
        "\n",
        "\n",
        "from sklearn.preprocessing import MinMaxScaler, StandardScaler\n",
        "from sklearn.metrics import classification_report, accuracy_score, f1_score, precision_score, recall_score\n",
        "\n",
        "PATH = './data/labeled'\n",
        "JSON_PATH = os.path.join(PATH, 'txn')\n",
        "label_names = [\"Mint\", \"Leak\", \"Limit\"]"
      ],
      "metadata": {
        "id": "JhN8kIK_KoTV"
      },
      "id": "JhN8kIK_KoTV",
      "execution_count": 53,
      "outputs": []
    },
    {
      "cell_type": "code",
      "source": [
        "def tune_thresholds(y_true, y_pred_prob, metric='f1'):\n",
        "    y_true = np.asarray(y_true)\n",
        "    y_pred_prob = np.asarray(y_pred_prob)\n",
        "\n",
        "    best_thresholds = []\n",
        "    best_scores = []\n",
        "\n",
        "    for i in range(y_true.shape[1]):\n",
        "        label_true = y_true[:, i]\n",
        "        label_probs = y_pred_prob[:, i]\n",
        "\n",
        "        thresholds = np.linspace(0.0, 1.0, 101)\n",
        "        scores = []\n",
        "\n",
        "        for t in thresholds:\n",
        "            label_pred = (label_probs >= t).astype(int)\n",
        "            if np.sum(label_pred) == 0:\n",
        "                score = 0\n",
        "            else:\n",
        "                if metric == 'f1':\n",
        "                    score = f1_score(label_true, label_pred, zero_division=0)\n",
        "                elif metric == 'precision':\n",
        "                    score = precision_score(label_true, label_pred, zero_division=0)\n",
        "                elif metric == 'recall':\n",
        "                    score = recall_score(label_true, label_pred, zero_division=0)\n",
        "                else:\n",
        "                    raise ValueError(\"Unsupported metric: choose 'f1', 'precision', or 'recall'\")\n",
        "            scores.append(score)\n",
        "\n",
        "        best_t = thresholds[np.argmax(scores)]\n",
        "        best_score = np.max(scores)\n",
        "\n",
        "        best_thresholds.append(best_t)\n",
        "        best_scores.append(best_score)\n",
        "\n",
        "        print(f\"Label {i}: Best threshold = {best_t:.2f}, Best {metric} = {best_score:.4f}\")\n",
        "\n",
        "    return best_thresholds, best_scores"
      ],
      "metadata": {
        "id": "QcKEJvxfxV-N"
      },
      "id": "QcKEJvxfxV-N",
      "execution_count": 54,
      "outputs": []
    },
    {
      "cell_type": "code",
      "source": [
        "def evaluate_multilabel_classification(y_true, y_pred, label_names=None, threshold=0.5, average_types=[\"micro\", \"macro\", \"weighted\"]):\n",
        "    \"\"\"\n",
        "    Evaluate a multi-label classification model with multiple metrics.\n",
        "\n",
        "    Parameters:\n",
        "        y_true (ndarray): shape (n_samples, n_classes), true binary labels\n",
        "        y_pred (ndarray): shape (n_samples, n_classes), predicted probabilities or logits\n",
        "        label_names (list): class/label names, optional\n",
        "        threshold (float): threshold to binarize y_pred if probabilities\n",
        "        average_types (list): which averaging types to compute\n",
        "\n",
        "    Returns:\n",
        "        report_dict (dict): summary with precision/recall/F1 for each average type and per-class\n",
        "        report_df (DataFrame): detailed classification report\n",
        "    \"\"\"\n",
        "    # Binarize predictions\n",
        "    y_pred_bin = (y_pred >= threshold).astype(int)\n",
        "\n",
        "    report_dict = {}\n",
        "\n",
        "    # Overall metrics by average type\n",
        "    for avg in average_types:\n",
        "        report_dict[f\"{avg}_precision\"] = precision_score(y_true, y_pred_bin, average=avg, zero_division=0)\n",
        "        report_dict[f\"{avg}_recall\"] = recall_score(y_true, y_pred_bin, average=avg, zero_division=0)\n",
        "        report_dict[f\"{avg}_f1\"] = f1_score(y_true, y_pred_bin, average=avg, zero_division=0)\n",
        "\n",
        "    # Exact match ratio\n",
        "    report_dict[\"subset_accuracy\"] = accuracy_score(y_true, y_pred_bin)\n",
        "\n",
        "    # Per-label report\n",
        "    cls_report = classification_report(\n",
        "        y_true, y_pred_bin, target_names=label_names, output_dict=True, zero_division=0\n",
        "    )\n",
        "    report_df = pd.DataFrame(cls_report).transpose()\n",
        "\n",
        "    return report_dict, report_df\n"
      ],
      "metadata": {
        "id": "PGp3R2okqiaJ"
      },
      "id": "PGp3R2okqiaJ",
      "execution_count": 55,
      "outputs": []
    },
    {
      "cell_type": "markdown",
      "source": [
        "## Step 1: Align by Contract Address"
      ],
      "metadata": {
        "id": "KXhmKlI0MBwU"
      },
      "id": "KXhmKlI0MBwU"
    },
    {
      "cell_type": "code",
      "source": [
        "# Load ground truth\n",
        "ground = pd.read_csv(os.path.join(PATH, \"groundtruth.csv\"))\n",
        "ground['Address'] = ground['Address'].str.lower()\n",
        "\n",
        "# Load features (ensure index is lowercase)\n",
        "def load_feature(file):\n",
        "    df = pd.read_csv(file, index_col=0)\n",
        "    df.index = df.index.str.lower()\n",
        "    return df\n",
        "\n",
        "bytecode = load_feature(os.path.join(PATH,\"bytecode_feature.csv\"))\n",
        "txn_stats = load_feature(os.path.join(PATH,\"transaction_feature.csv\"))\n",
        "txn_graph = load_feature(os.path.join(PATH,\"txn_graph_features.csv\"))\n",
        "cfg_graph = load_feature(os.path.join(PATH,\"cfg_graph_features.csv\"))\n",
        "\n",
        "txn_graph = txn_graph.rename(columns={\n",
        "    \"num_nodes\": \"txn_num_nodes\",\n",
        "    \"num_edges\": \"txn_num_edges\",\n",
        "    \"avg_degree\": \"txn_avg_degree\",\n",
        "    \"density\": \"txn_density\",\n",
        "    \"connected_components\": \"txn_connected_components\",\n",
        "    \"avg_clustering\": \"txn_avg_clustering\"\n",
        "})\n",
        "\n",
        "cfg_graph = cfg_graph.rename(columns={\n",
        "    \"num_nodes\": \"cfg_num_nodes\",\n",
        "    \"num_edges\": \"cfg_num_edges\",\n",
        "    \"avg_degree\": \"cfg_avg_degree\",\n",
        "    \"density\": \"cfg_density\",\n",
        "    \"connected_components\": \"cfg_connected_components\",\n",
        "    \"avg_clustering\": \"cfg_avg_clustering\"\n",
        "})\n",
        "# Reindex all feature sets to include every contract in groundtruth\n",
        "addresses = ground[\"Address\"]\n",
        "\n",
        "bytecode = bytecode.reindex(addresses)\n",
        "txn_stats = txn_stats.reindex(addresses)\n",
        "txn_graph = txn_graph.reindex(addresses)\n",
        "cfg_graph = cfg_graph.reindex(addresses)\n",
        "\n",
        "# Join all with axis=1\n",
        "tabular = pd.concat([bytecode, txn_stats, txn_graph, cfg_graph], axis=1)\n",
        "\n",
        "# Fill missing values (you can customize this part)\n",
        "tabular = tabular.fillna(0)\n",
        "\n",
        "# Labels\n",
        "y = ground[[\"Mint\", \"Leak\", \"Limit\"]].values\n",
        "X_tabular = tabular.values\n"
      ],
      "metadata": {
        "id": "v2MQt-KCL_BF"
      },
      "id": "v2MQt-KCL_BF",
      "execution_count": 56,
      "outputs": []
    },
    {
      "cell_type": "markdown",
      "source": [
        "## Step 2: Train Individual Models"
      ],
      "metadata": {
        "id": "_5N0A4YePGPd"
      },
      "id": "_5N0A4YePGPd"
    },
    {
      "cell_type": "markdown",
      "source": [
        "### A. Tabular Classifier (MLP/XGB)"
      ],
      "metadata": {
        "id": "ZC4mGWs1Pc1R"
      },
      "id": "ZC4mGWs1Pc1R"
    },
    {
      "cell_type": "code",
      "source": [
        "from xgboost import XGBClassifier\n",
        "from sklearn.multioutput import MultiOutputClassifier\n",
        "\n",
        "clf = MultiOutputClassifier(XGBClassifier())\n",
        "clf.fit(X_tabular, y)"
      ],
      "metadata": {
        "colab": {
          "base_uri": "https://localhost:8080/",
          "height": 165
        },
        "id": "IRwPR_GJPG4M",
        "outputId": "573d8dc5-347d-4d02-b75c-59d09eb341ca"
      },
      "id": "IRwPR_GJPG4M",
      "execution_count": 57,
      "outputs": [
        {
          "output_type": "execute_result",
          "data": {
            "text/plain": [
              "MultiOutputClassifier(estimator=XGBClassifier(base_score=None, booster=None,\n",
              "                                              callbacks=None,\n",
              "                                              colsample_bylevel=None,\n",
              "                                              colsample_bynode=None,\n",
              "                                              colsample_bytree=None,\n",
              "                                              device=None,\n",
              "                                              early_stopping_rounds=None,\n",
              "                                              enable_categorical=False,\n",
              "                                              eval_metric=None,\n",
              "                                              feature_types=None,\n",
              "                                              feature_weights=None, gamma=None,\n",
              "                                              grow_policy=None,\n",
              "                                              importance_type=None,\n",
              "                                              interaction_constraints=None,\n",
              "                                              learning_rate=None, max_bin=None,\n",
              "                                              max_cat_threshold=None,\n",
              "                                              max_cat_to_onehot=None,\n",
              "                                              max_delta_step=None,\n",
              "                                              max_depth=None, max_leaves=None,\n",
              "                                              min_child_weight=None,\n",
              "                                              missing=nan,\n",
              "                                              monotone_constraints=None,\n",
              "                                              multi_strategy=None,\n",
              "                                              n_estimators=None, n_jobs=None,\n",
              "                                              num_parallel_tree=None, ...))"
            ],
            "text/html": [
              "<style>#sk-container-id-3 {\n",
              "  /* Definition of color scheme common for light and dark mode */\n",
              "  --sklearn-color-text: #000;\n",
              "  --sklearn-color-text-muted: #666;\n",
              "  --sklearn-color-line: gray;\n",
              "  /* Definition of color scheme for unfitted estimators */\n",
              "  --sklearn-color-unfitted-level-0: #fff5e6;\n",
              "  --sklearn-color-unfitted-level-1: #f6e4d2;\n",
              "  --sklearn-color-unfitted-level-2: #ffe0b3;\n",
              "  --sklearn-color-unfitted-level-3: chocolate;\n",
              "  /* Definition of color scheme for fitted estimators */\n",
              "  --sklearn-color-fitted-level-0: #f0f8ff;\n",
              "  --sklearn-color-fitted-level-1: #d4ebff;\n",
              "  --sklearn-color-fitted-level-2: #b3dbfd;\n",
              "  --sklearn-color-fitted-level-3: cornflowerblue;\n",
              "\n",
              "  /* Specific color for light theme */\n",
              "  --sklearn-color-text-on-default-background: var(--sg-text-color, var(--theme-code-foreground, var(--jp-content-font-color1, black)));\n",
              "  --sklearn-color-background: var(--sg-background-color, var(--theme-background, var(--jp-layout-color0, white)));\n",
              "  --sklearn-color-border-box: var(--sg-text-color, var(--theme-code-foreground, var(--jp-content-font-color1, black)));\n",
              "  --sklearn-color-icon: #696969;\n",
              "\n",
              "  @media (prefers-color-scheme: dark) {\n",
              "    /* Redefinition of color scheme for dark theme */\n",
              "    --sklearn-color-text-on-default-background: var(--sg-text-color, var(--theme-code-foreground, var(--jp-content-font-color1, white)));\n",
              "    --sklearn-color-background: var(--sg-background-color, var(--theme-background, var(--jp-layout-color0, #111)));\n",
              "    --sklearn-color-border-box: var(--sg-text-color, var(--theme-code-foreground, var(--jp-content-font-color1, white)));\n",
              "    --sklearn-color-icon: #878787;\n",
              "  }\n",
              "}\n",
              "\n",
              "#sk-container-id-3 {\n",
              "  color: var(--sklearn-color-text);\n",
              "}\n",
              "\n",
              "#sk-container-id-3 pre {\n",
              "  padding: 0;\n",
              "}\n",
              "\n",
              "#sk-container-id-3 input.sk-hidden--visually {\n",
              "  border: 0;\n",
              "  clip: rect(1px 1px 1px 1px);\n",
              "  clip: rect(1px, 1px, 1px, 1px);\n",
              "  height: 1px;\n",
              "  margin: -1px;\n",
              "  overflow: hidden;\n",
              "  padding: 0;\n",
              "  position: absolute;\n",
              "  width: 1px;\n",
              "}\n",
              "\n",
              "#sk-container-id-3 div.sk-dashed-wrapped {\n",
              "  border: 1px dashed var(--sklearn-color-line);\n",
              "  margin: 0 0.4em 0.5em 0.4em;\n",
              "  box-sizing: border-box;\n",
              "  padding-bottom: 0.4em;\n",
              "  background-color: var(--sklearn-color-background);\n",
              "}\n",
              "\n",
              "#sk-container-id-3 div.sk-container {\n",
              "  /* jupyter's `normalize.less` sets `[hidden] { display: none; }`\n",
              "     but bootstrap.min.css set `[hidden] { display: none !important; }`\n",
              "     so we also need the `!important` here to be able to override the\n",
              "     default hidden behavior on the sphinx rendered scikit-learn.org.\n",
              "     See: https://github.com/scikit-learn/scikit-learn/issues/21755 */\n",
              "  display: inline-block !important;\n",
              "  position: relative;\n",
              "}\n",
              "\n",
              "#sk-container-id-3 div.sk-text-repr-fallback {\n",
              "  display: none;\n",
              "}\n",
              "\n",
              "div.sk-parallel-item,\n",
              "div.sk-serial,\n",
              "div.sk-item {\n",
              "  /* draw centered vertical line to link estimators */\n",
              "  background-image: linear-gradient(var(--sklearn-color-text-on-default-background), var(--sklearn-color-text-on-default-background));\n",
              "  background-size: 2px 100%;\n",
              "  background-repeat: no-repeat;\n",
              "  background-position: center center;\n",
              "}\n",
              "\n",
              "/* Parallel-specific style estimator block */\n",
              "\n",
              "#sk-container-id-3 div.sk-parallel-item::after {\n",
              "  content: \"\";\n",
              "  width: 100%;\n",
              "  border-bottom: 2px solid var(--sklearn-color-text-on-default-background);\n",
              "  flex-grow: 1;\n",
              "}\n",
              "\n",
              "#sk-container-id-3 div.sk-parallel {\n",
              "  display: flex;\n",
              "  align-items: stretch;\n",
              "  justify-content: center;\n",
              "  background-color: var(--sklearn-color-background);\n",
              "  position: relative;\n",
              "}\n",
              "\n",
              "#sk-container-id-3 div.sk-parallel-item {\n",
              "  display: flex;\n",
              "  flex-direction: column;\n",
              "}\n",
              "\n",
              "#sk-container-id-3 div.sk-parallel-item:first-child::after {\n",
              "  align-self: flex-end;\n",
              "  width: 50%;\n",
              "}\n",
              "\n",
              "#sk-container-id-3 div.sk-parallel-item:last-child::after {\n",
              "  align-self: flex-start;\n",
              "  width: 50%;\n",
              "}\n",
              "\n",
              "#sk-container-id-3 div.sk-parallel-item:only-child::after {\n",
              "  width: 0;\n",
              "}\n",
              "\n",
              "/* Serial-specific style estimator block */\n",
              "\n",
              "#sk-container-id-3 div.sk-serial {\n",
              "  display: flex;\n",
              "  flex-direction: column;\n",
              "  align-items: center;\n",
              "  background-color: var(--sklearn-color-background);\n",
              "  padding-right: 1em;\n",
              "  padding-left: 1em;\n",
              "}\n",
              "\n",
              "\n",
              "/* Toggleable style: style used for estimator/Pipeline/ColumnTransformer box that is\n",
              "clickable and can be expanded/collapsed.\n",
              "- Pipeline and ColumnTransformer use this feature and define the default style\n",
              "- Estimators will overwrite some part of the style using the `sk-estimator` class\n",
              "*/\n",
              "\n",
              "/* Pipeline and ColumnTransformer style (default) */\n",
              "\n",
              "#sk-container-id-3 div.sk-toggleable {\n",
              "  /* Default theme specific background. It is overwritten whether we have a\n",
              "  specific estimator or a Pipeline/ColumnTransformer */\n",
              "  background-color: var(--sklearn-color-background);\n",
              "}\n",
              "\n",
              "/* Toggleable label */\n",
              "#sk-container-id-3 label.sk-toggleable__label {\n",
              "  cursor: pointer;\n",
              "  display: flex;\n",
              "  width: 100%;\n",
              "  margin-bottom: 0;\n",
              "  padding: 0.5em;\n",
              "  box-sizing: border-box;\n",
              "  text-align: center;\n",
              "  align-items: start;\n",
              "  justify-content: space-between;\n",
              "  gap: 0.5em;\n",
              "}\n",
              "\n",
              "#sk-container-id-3 label.sk-toggleable__label .caption {\n",
              "  font-size: 0.6rem;\n",
              "  font-weight: lighter;\n",
              "  color: var(--sklearn-color-text-muted);\n",
              "}\n",
              "\n",
              "#sk-container-id-3 label.sk-toggleable__label-arrow:before {\n",
              "  /* Arrow on the left of the label */\n",
              "  content: \"▸\";\n",
              "  float: left;\n",
              "  margin-right: 0.25em;\n",
              "  color: var(--sklearn-color-icon);\n",
              "}\n",
              "\n",
              "#sk-container-id-3 label.sk-toggleable__label-arrow:hover:before {\n",
              "  color: var(--sklearn-color-text);\n",
              "}\n",
              "\n",
              "/* Toggleable content - dropdown */\n",
              "\n",
              "#sk-container-id-3 div.sk-toggleable__content {\n",
              "  max-height: 0;\n",
              "  max-width: 0;\n",
              "  overflow: hidden;\n",
              "  text-align: left;\n",
              "  /* unfitted */\n",
              "  background-color: var(--sklearn-color-unfitted-level-0);\n",
              "}\n",
              "\n",
              "#sk-container-id-3 div.sk-toggleable__content.fitted {\n",
              "  /* fitted */\n",
              "  background-color: var(--sklearn-color-fitted-level-0);\n",
              "}\n",
              "\n",
              "#sk-container-id-3 div.sk-toggleable__content pre {\n",
              "  margin: 0.2em;\n",
              "  border-radius: 0.25em;\n",
              "  color: var(--sklearn-color-text);\n",
              "  /* unfitted */\n",
              "  background-color: var(--sklearn-color-unfitted-level-0);\n",
              "}\n",
              "\n",
              "#sk-container-id-3 div.sk-toggleable__content.fitted pre {\n",
              "  /* unfitted */\n",
              "  background-color: var(--sklearn-color-fitted-level-0);\n",
              "}\n",
              "\n",
              "#sk-container-id-3 input.sk-toggleable__control:checked~div.sk-toggleable__content {\n",
              "  /* Expand drop-down */\n",
              "  max-height: 200px;\n",
              "  max-width: 100%;\n",
              "  overflow: auto;\n",
              "}\n",
              "\n",
              "#sk-container-id-3 input.sk-toggleable__control:checked~label.sk-toggleable__label-arrow:before {\n",
              "  content: \"▾\";\n",
              "}\n",
              "\n",
              "/* Pipeline/ColumnTransformer-specific style */\n",
              "\n",
              "#sk-container-id-3 div.sk-label input.sk-toggleable__control:checked~label.sk-toggleable__label {\n",
              "  color: var(--sklearn-color-text);\n",
              "  background-color: var(--sklearn-color-unfitted-level-2);\n",
              "}\n",
              "\n",
              "#sk-container-id-3 div.sk-label.fitted input.sk-toggleable__control:checked~label.sk-toggleable__label {\n",
              "  background-color: var(--sklearn-color-fitted-level-2);\n",
              "}\n",
              "\n",
              "/* Estimator-specific style */\n",
              "\n",
              "/* Colorize estimator box */\n",
              "#sk-container-id-3 div.sk-estimator input.sk-toggleable__control:checked~label.sk-toggleable__label {\n",
              "  /* unfitted */\n",
              "  background-color: var(--sklearn-color-unfitted-level-2);\n",
              "}\n",
              "\n",
              "#sk-container-id-3 div.sk-estimator.fitted input.sk-toggleable__control:checked~label.sk-toggleable__label {\n",
              "  /* fitted */\n",
              "  background-color: var(--sklearn-color-fitted-level-2);\n",
              "}\n",
              "\n",
              "#sk-container-id-3 div.sk-label label.sk-toggleable__label,\n",
              "#sk-container-id-3 div.sk-label label {\n",
              "  /* The background is the default theme color */\n",
              "  color: var(--sklearn-color-text-on-default-background);\n",
              "}\n",
              "\n",
              "/* On hover, darken the color of the background */\n",
              "#sk-container-id-3 div.sk-label:hover label.sk-toggleable__label {\n",
              "  color: var(--sklearn-color-text);\n",
              "  background-color: var(--sklearn-color-unfitted-level-2);\n",
              "}\n",
              "\n",
              "/* Label box, darken color on hover, fitted */\n",
              "#sk-container-id-3 div.sk-label.fitted:hover label.sk-toggleable__label.fitted {\n",
              "  color: var(--sklearn-color-text);\n",
              "  background-color: var(--sklearn-color-fitted-level-2);\n",
              "}\n",
              "\n",
              "/* Estimator label */\n",
              "\n",
              "#sk-container-id-3 div.sk-label label {\n",
              "  font-family: monospace;\n",
              "  font-weight: bold;\n",
              "  display: inline-block;\n",
              "  line-height: 1.2em;\n",
              "}\n",
              "\n",
              "#sk-container-id-3 div.sk-label-container {\n",
              "  text-align: center;\n",
              "}\n",
              "\n",
              "/* Estimator-specific */\n",
              "#sk-container-id-3 div.sk-estimator {\n",
              "  font-family: monospace;\n",
              "  border: 1px dotted var(--sklearn-color-border-box);\n",
              "  border-radius: 0.25em;\n",
              "  box-sizing: border-box;\n",
              "  margin-bottom: 0.5em;\n",
              "  /* unfitted */\n",
              "  background-color: var(--sklearn-color-unfitted-level-0);\n",
              "}\n",
              "\n",
              "#sk-container-id-3 div.sk-estimator.fitted {\n",
              "  /* fitted */\n",
              "  background-color: var(--sklearn-color-fitted-level-0);\n",
              "}\n",
              "\n",
              "/* on hover */\n",
              "#sk-container-id-3 div.sk-estimator:hover {\n",
              "  /* unfitted */\n",
              "  background-color: var(--sklearn-color-unfitted-level-2);\n",
              "}\n",
              "\n",
              "#sk-container-id-3 div.sk-estimator.fitted:hover {\n",
              "  /* fitted */\n",
              "  background-color: var(--sklearn-color-fitted-level-2);\n",
              "}\n",
              "\n",
              "/* Specification for estimator info (e.g. \"i\" and \"?\") */\n",
              "\n",
              "/* Common style for \"i\" and \"?\" */\n",
              "\n",
              ".sk-estimator-doc-link,\n",
              "a:link.sk-estimator-doc-link,\n",
              "a:visited.sk-estimator-doc-link {\n",
              "  float: right;\n",
              "  font-size: smaller;\n",
              "  line-height: 1em;\n",
              "  font-family: monospace;\n",
              "  background-color: var(--sklearn-color-background);\n",
              "  border-radius: 1em;\n",
              "  height: 1em;\n",
              "  width: 1em;\n",
              "  text-decoration: none !important;\n",
              "  margin-left: 0.5em;\n",
              "  text-align: center;\n",
              "  /* unfitted */\n",
              "  border: var(--sklearn-color-unfitted-level-1) 1pt solid;\n",
              "  color: var(--sklearn-color-unfitted-level-1);\n",
              "}\n",
              "\n",
              ".sk-estimator-doc-link.fitted,\n",
              "a:link.sk-estimator-doc-link.fitted,\n",
              "a:visited.sk-estimator-doc-link.fitted {\n",
              "  /* fitted */\n",
              "  border: var(--sklearn-color-fitted-level-1) 1pt solid;\n",
              "  color: var(--sklearn-color-fitted-level-1);\n",
              "}\n",
              "\n",
              "/* On hover */\n",
              "div.sk-estimator:hover .sk-estimator-doc-link:hover,\n",
              ".sk-estimator-doc-link:hover,\n",
              "div.sk-label-container:hover .sk-estimator-doc-link:hover,\n",
              ".sk-estimator-doc-link:hover {\n",
              "  /* unfitted */\n",
              "  background-color: var(--sklearn-color-unfitted-level-3);\n",
              "  color: var(--sklearn-color-background);\n",
              "  text-decoration: none;\n",
              "}\n",
              "\n",
              "div.sk-estimator.fitted:hover .sk-estimator-doc-link.fitted:hover,\n",
              ".sk-estimator-doc-link.fitted:hover,\n",
              "div.sk-label-container:hover .sk-estimator-doc-link.fitted:hover,\n",
              ".sk-estimator-doc-link.fitted:hover {\n",
              "  /* fitted */\n",
              "  background-color: var(--sklearn-color-fitted-level-3);\n",
              "  color: var(--sklearn-color-background);\n",
              "  text-decoration: none;\n",
              "}\n",
              "\n",
              "/* Span, style for the box shown on hovering the info icon */\n",
              ".sk-estimator-doc-link span {\n",
              "  display: none;\n",
              "  z-index: 9999;\n",
              "  position: relative;\n",
              "  font-weight: normal;\n",
              "  right: .2ex;\n",
              "  padding: .5ex;\n",
              "  margin: .5ex;\n",
              "  width: min-content;\n",
              "  min-width: 20ex;\n",
              "  max-width: 50ex;\n",
              "  color: var(--sklearn-color-text);\n",
              "  box-shadow: 2pt 2pt 4pt #999;\n",
              "  /* unfitted */\n",
              "  background: var(--sklearn-color-unfitted-level-0);\n",
              "  border: .5pt solid var(--sklearn-color-unfitted-level-3);\n",
              "}\n",
              "\n",
              ".sk-estimator-doc-link.fitted span {\n",
              "  /* fitted */\n",
              "  background: var(--sklearn-color-fitted-level-0);\n",
              "  border: var(--sklearn-color-fitted-level-3);\n",
              "}\n",
              "\n",
              ".sk-estimator-doc-link:hover span {\n",
              "  display: block;\n",
              "}\n",
              "\n",
              "/* \"?\"-specific style due to the `<a>` HTML tag */\n",
              "\n",
              "#sk-container-id-3 a.estimator_doc_link {\n",
              "  float: right;\n",
              "  font-size: 1rem;\n",
              "  line-height: 1em;\n",
              "  font-family: monospace;\n",
              "  background-color: var(--sklearn-color-background);\n",
              "  border-radius: 1rem;\n",
              "  height: 1rem;\n",
              "  width: 1rem;\n",
              "  text-decoration: none;\n",
              "  /* unfitted */\n",
              "  color: var(--sklearn-color-unfitted-level-1);\n",
              "  border: var(--sklearn-color-unfitted-level-1) 1pt solid;\n",
              "}\n",
              "\n",
              "#sk-container-id-3 a.estimator_doc_link.fitted {\n",
              "  /* fitted */\n",
              "  border: var(--sklearn-color-fitted-level-1) 1pt solid;\n",
              "  color: var(--sklearn-color-fitted-level-1);\n",
              "}\n",
              "\n",
              "/* On hover */\n",
              "#sk-container-id-3 a.estimator_doc_link:hover {\n",
              "  /* unfitted */\n",
              "  background-color: var(--sklearn-color-unfitted-level-3);\n",
              "  color: var(--sklearn-color-background);\n",
              "  text-decoration: none;\n",
              "}\n",
              "\n",
              "#sk-container-id-3 a.estimator_doc_link.fitted:hover {\n",
              "  /* fitted */\n",
              "  background-color: var(--sklearn-color-fitted-level-3);\n",
              "}\n",
              "</style><div id=\"sk-container-id-3\" class=\"sk-top-container\"><div class=\"sk-text-repr-fallback\"><pre>MultiOutputClassifier(estimator=XGBClassifier(base_score=None, booster=None,\n",
              "                                              callbacks=None,\n",
              "                                              colsample_bylevel=None,\n",
              "                                              colsample_bynode=None,\n",
              "                                              colsample_bytree=None,\n",
              "                                              device=None,\n",
              "                                              early_stopping_rounds=None,\n",
              "                                              enable_categorical=False,\n",
              "                                              eval_metric=None,\n",
              "                                              feature_types=None,\n",
              "                                              feature_weights=None, gamma=None,\n",
              "                                              grow_policy=None,\n",
              "                                              importance_type=None,\n",
              "                                              interaction_constraints=None,\n",
              "                                              learning_rate=None, max_bin=None,\n",
              "                                              max_cat_threshold=None,\n",
              "                                              max_cat_to_onehot=None,\n",
              "                                              max_delta_step=None,\n",
              "                                              max_depth=None, max_leaves=None,\n",
              "                                              min_child_weight=None,\n",
              "                                              missing=nan,\n",
              "                                              monotone_constraints=None,\n",
              "                                              multi_strategy=None,\n",
              "                                              n_estimators=None, n_jobs=None,\n",
              "                                              num_parallel_tree=None, ...))</pre><b>In a Jupyter environment, please rerun this cell to show the HTML representation or trust the notebook. <br />On GitHub, the HTML representation is unable to render, please try loading this page with nbviewer.org.</b></div><div class=\"sk-container\" hidden><div class=\"sk-item sk-dashed-wrapped\"><div class=\"sk-label-container\"><div class=\"sk-label fitted sk-toggleable\"><input class=\"sk-toggleable__control sk-hidden--visually\" id=\"sk-estimator-id-7\" type=\"checkbox\" ><label for=\"sk-estimator-id-7\" class=\"sk-toggleable__label fitted sk-toggleable__label-arrow\"><div><div>MultiOutputClassifier</div></div><div><a class=\"sk-estimator-doc-link fitted\" rel=\"noreferrer\" target=\"_blank\" href=\"https://scikit-learn.org/1.6/modules/generated/sklearn.multioutput.MultiOutputClassifier.html\">?<span>Documentation for MultiOutputClassifier</span></a><span class=\"sk-estimator-doc-link fitted\">i<span>Fitted</span></span></div></label><div class=\"sk-toggleable__content fitted\"><pre>MultiOutputClassifier(estimator=XGBClassifier(base_score=None, booster=None,\n",
              "                                              callbacks=None,\n",
              "                                              colsample_bylevel=None,\n",
              "                                              colsample_bynode=None,\n",
              "                                              colsample_bytree=None,\n",
              "                                              device=None,\n",
              "                                              early_stopping_rounds=None,\n",
              "                                              enable_categorical=False,\n",
              "                                              eval_metric=None,\n",
              "                                              feature_types=None,\n",
              "                                              feature_weights=None, gamma=None,\n",
              "                                              grow_policy=None,\n",
              "                                              importance_type=None,\n",
              "                                              interaction_constraints=None,\n",
              "                                              learning_rate=None, max_bin=None,\n",
              "                                              max_cat_threshold=None,\n",
              "                                              max_cat_to_onehot=None,\n",
              "                                              max_delta_step=None,\n",
              "                                              max_depth=None, max_leaves=None,\n",
              "                                              min_child_weight=None,\n",
              "                                              missing=nan,\n",
              "                                              monotone_constraints=None,\n",
              "                                              multi_strategy=None,\n",
              "                                              n_estimators=None, n_jobs=None,\n",
              "                                              num_parallel_tree=None, ...))</pre></div> </div></div><div class=\"sk-parallel\"><div class=\"sk-parallel-item\"><div class=\"sk-item\"><div class=\"sk-label-container\"><div class=\"sk-label fitted sk-toggleable\"><input class=\"sk-toggleable__control sk-hidden--visually\" id=\"sk-estimator-id-8\" type=\"checkbox\" ><label for=\"sk-estimator-id-8\" class=\"sk-toggleable__label fitted sk-toggleable__label-arrow\"><div><div>estimator: XGBClassifier</div></div></label><div class=\"sk-toggleable__content fitted\"><pre>XGBClassifier(base_score=None, booster=None, callbacks=None,\n",
              "              colsample_bylevel=None, colsample_bynode=None,\n",
              "              colsample_bytree=None, device=None, early_stopping_rounds=None,\n",
              "              enable_categorical=False, eval_metric=None, feature_types=None,\n",
              "              feature_weights=None, gamma=None, grow_policy=None,\n",
              "              importance_type=None, interaction_constraints=None,\n",
              "              learning_rate=None, max_bin=None, max_cat_threshold=None,\n",
              "              max_cat_to_onehot=None, max_delta_step=None, max_depth=None,\n",
              "              max_leaves=None, min_child_weight=None, missing=nan,\n",
              "              monotone_constraints=None, multi_strategy=None, n_estimators=None,\n",
              "              n_jobs=None, num_parallel_tree=None, ...)</pre></div> </div></div><div class=\"sk-serial\"><div class=\"sk-item\"><div class=\"sk-estimator fitted sk-toggleable\"><input class=\"sk-toggleable__control sk-hidden--visually\" id=\"sk-estimator-id-9\" type=\"checkbox\" ><label for=\"sk-estimator-id-9\" class=\"sk-toggleable__label fitted sk-toggleable__label-arrow\"><div><div>XGBClassifier</div></div><div><a class=\"sk-estimator-doc-link fitted\" rel=\"noreferrer\" target=\"_blank\" href=\"https://xgboost.readthedocs.io/en/release_3.0.0/python/python_api.html#xgboost.XGBClassifier\">?<span>Documentation for XGBClassifier</span></a></div></label><div class=\"sk-toggleable__content fitted\"><pre>XGBClassifier(base_score=None, booster=None, callbacks=None,\n",
              "              colsample_bylevel=None, colsample_bynode=None,\n",
              "              colsample_bytree=None, device=None, early_stopping_rounds=None,\n",
              "              enable_categorical=False, eval_metric=None, feature_types=None,\n",
              "              feature_weights=None, gamma=None, grow_policy=None,\n",
              "              importance_type=None, interaction_constraints=None,\n",
              "              learning_rate=None, max_bin=None, max_cat_threshold=None,\n",
              "              max_cat_to_onehot=None, max_delta_step=None, max_depth=None,\n",
              "              max_leaves=None, min_child_weight=None, missing=nan,\n",
              "              monotone_constraints=None, multi_strategy=None, n_estimators=None,\n",
              "              n_jobs=None, num_parallel_tree=None, ...)</pre></div> </div></div></div></div></div></div></div></div></div>"
            ]
          },
          "metadata": {},
          "execution_count": 57
        }
      ]
    },
    {
      "cell_type": "code",
      "source": [
        "clf.score(X_tabular, y)"
      ],
      "metadata": {
        "colab": {
          "base_uri": "https://localhost:8080/"
        },
        "id": "8VzNNcH6hsI2",
        "outputId": "e5c56441-d0e9-431f-ca46-5fcacad11c92"
      },
      "id": "8VzNNcH6hsI2",
      "execution_count": 58,
      "outputs": [
        {
          "output_type": "execute_result",
          "data": {
            "text/plain": [
              "np.float64(0.9855072463768116)"
            ]
          },
          "metadata": {},
          "execution_count": 58
        }
      ]
    },
    {
      "cell_type": "code",
      "source": [
        "y_pred_proba = clf.predict_proba(X_tabular)\n",
        "y_pred_proba = np.column_stack([proba[:, 1] for proba in y_pred_proba])"
      ],
      "metadata": {
        "id": "SbtWPaaQsR7F"
      },
      "id": "SbtWPaaQsR7F",
      "execution_count": 59,
      "outputs": []
    },
    {
      "cell_type": "code",
      "source": [
        "evaluate_multilabel_classification(y, y_pred_proba, label_names=label_names)"
      ],
      "metadata": {
        "colab": {
          "base_uri": "https://localhost:8080/"
        },
        "id": "UFfCCiXhsQQJ",
        "outputId": "293b5986-b6ee-415a-ab43-1ffe65659ed4"
      },
      "id": "UFfCCiXhsQQJ",
      "execution_count": 60,
      "outputs": [
        {
          "output_type": "execute_result",
          "data": {
            "text/plain": [
              "({'micro_precision': 1.0,\n",
              "  'micro_recall': 0.9830508474576272,\n",
              "  'micro_f1': 0.9914529914529915,\n",
              "  'macro_precision': 1.0,\n",
              "  'macro_recall': 0.9833333333333334,\n",
              "  'macro_f1': 0.9914529914529915,\n",
              "  'weighted_precision': 1.0,\n",
              "  'weighted_recall': 0.9830508474576272,\n",
              "  'weighted_f1': 0.9913081269013473,\n",
              "  'subset_accuracy': 0.9855072463768116},\n",
              "               precision    recall  f1-score  support\n",
              " Mint           1.000000  0.950000  0.974359     20.0\n",
              " Leak           1.000000  1.000000  1.000000      9.0\n",
              " Limit          1.000000  1.000000  1.000000     30.0\n",
              " micro avg      1.000000  0.983051  0.991453     59.0\n",
              " macro avg      1.000000  0.983333  0.991453     59.0\n",
              " weighted avg   1.000000  0.983051  0.991308     59.0\n",
              " samples avg    0.608696  0.601449  0.603865     59.0)"
            ]
          },
          "metadata": {},
          "execution_count": 60
        }
      ]
    },
    {
      "cell_type": "markdown",
      "source": [
        "### B. Time-Series Model"
      ],
      "metadata": {
        "id": "OUGqP7SCPmuM"
      },
      "id": "OUGqP7SCPmuM"
    },
    {
      "cell_type": "code",
      "source": [
        "def load_sequence(file_path):\n",
        "    with open(file_path) as f:\n",
        "        j = json.load(f)\n",
        "\n",
        "    txns = j.get('transaction', [])\n",
        "    seq = []\n",
        "\n",
        "    for tx in txns:\n",
        "        try:\n",
        "            time = int(tx.get('timeStamp', 0))\n",
        "            value = int(tx.get('value', 0))\n",
        "            gas_used = int(tx.get('gasUsed', 0))\n",
        "            seq.append((time, value, gas_used))\n",
        "        except:\n",
        "            continue\n",
        "\n",
        "    # Sort by time\n",
        "    seq.sort(key=lambda x: x[0])\n",
        "\n",
        "    # Convert to deltas\n",
        "    if seq:\n",
        "        t0 = seq[0][0]\n",
        "        seq = [(t - t0, value, gas) for (t, value, gas) in seq]\n",
        "\n",
        "    return seq\n"
      ],
      "metadata": {
        "id": "eftkvqibPQrr"
      },
      "id": "eftkvqibPQrr",
      "execution_count": 61,
      "outputs": []
    },
    {
      "cell_type": "code",
      "source": [
        "class LSTM(nn.Module):\n",
        "    def __init__(self, input_size, hidden_size):\n",
        "        super().__init__()\n",
        "        self.lstm = nn.LSTM(input_size, hidden_size, batch_first=True)\n",
        "        self.out = nn.Linear(hidden_size, 3)  # for 3 labels\n",
        "    def forward(self, x):\n",
        "        _, (h, _) = self.lstm(x)\n",
        "        return self.out(h[-1])\n"
      ],
      "metadata": {
        "id": "k8iOfmDVRpcQ"
      },
      "id": "k8iOfmDVRpcQ",
      "execution_count": 62,
      "outputs": []
    },
    {
      "cell_type": "markdown",
      "source": [
        "#### Load"
      ],
      "metadata": {
        "id": "BnvRA2YgXrq0"
      },
      "id": "BnvRA2YgXrq0"
    },
    {
      "cell_type": "code",
      "source": [
        "# Collect all sequences from JSONs\n",
        "all_sequences = []\n",
        "addresses = []\n",
        "\n",
        "for json_path in list(Path(JSON_PATH).glob('*.json')):  # list of .json files\n",
        "    seq = load_sequence(json_path)\n",
        "    if len(seq) == 0:\n",
        "        continue\n",
        "    all_sequences.append(torch.tensor(seq, dtype=torch.float32))\n",
        "    address = json_path.stem\n",
        "    addresses.append(address)\n"
      ],
      "metadata": {
        "id": "RJtqaLffYEyY"
      },
      "id": "RJtqaLffYEyY",
      "execution_count": 63,
      "outputs": []
    },
    {
      "cell_type": "markdown",
      "source": [
        "#### Pad Sequences to Uniform Length"
      ],
      "metadata": {
        "id": "nrNhRRWzYoQW"
      },
      "id": "nrNhRRWzYoQW"
    },
    {
      "cell_type": "code",
      "source": [
        "# Pad to max length\n",
        "padded_seqs = pad_sequence(all_sequences, batch_first=True)  # [B, T, 3]"
      ],
      "metadata": {
        "id": "08sC4xLfYrg_"
      },
      "id": "08sC4xLfYrg_",
      "execution_count": 64,
      "outputs": []
    },
    {
      "cell_type": "markdown",
      "source": [
        "#### Normalize Time/Value/Gas Columns"
      ],
      "metadata": {
        "id": "Bcil2oc5Yw9H"
      },
      "id": "Bcil2oc5Yw9H"
    },
    {
      "cell_type": "code",
      "source": [
        "# Flatten for fitting\n",
        "flat = torch.cat(all_sequences).numpy()\n",
        "\n",
        "# Standardize\n",
        "scaler = StandardScaler()\n",
        "scaler.fit(flat)\n",
        "\n",
        "# Apply to all sequences\n",
        "normalized_seqs = [torch.tensor(scaler.transform(seq), dtype=torch.float32) for seq in all_sequences]\n",
        "padded_normalized = pad_sequence(normalized_seqs, batch_first=True)"
      ],
      "metadata": {
        "id": "1fQTKo5KYymC"
      },
      "id": "1fQTKo5KYymC",
      "execution_count": 65,
      "outputs": []
    },
    {
      "cell_type": "markdown",
      "source": [
        "#### Train"
      ],
      "metadata": {
        "id": "P_EbFZh3Y50S"
      },
      "id": "P_EbFZh3Y50S"
    },
    {
      "cell_type": "code",
      "source": [
        "# Inputs\n",
        "X_tensor = padded_normalized  # shape [batch_size, seq_len, 3]\n",
        "\n",
        "# Align y_tensor with the addresses for which sequences were loaded\n",
        "y_tensor = torch.tensor(ground.set_index('Address').loc[addresses][[\"Mint\", \"Leak\", \"Limit\"]].values, dtype=torch.float32)  # shape [batch_size, 3] multi-label\n",
        "\n",
        "\n",
        "# Model\n",
        "model = LSTM(input_size=3, hidden_size=128)\n",
        "optimizer = torch.optim.Adam(model.parameters(), lr=1e-3)\n",
        "loss_fn = nn.BCEWithLogitsLoss()  # for multi-label\n",
        "\n",
        "# Training loop\n",
        "for epoch in range(20):\n",
        "    model.train()\n",
        "    optimizer.zero_grad()\n",
        "    output = model(X_tensor)\n",
        "    loss = loss_fn(output, y_tensor)\n",
        "    loss.backward()\n",
        "    optimizer.step()\n",
        "    print(f\"Epoch {epoch}: loss = {loss.item():.4f}\")"
      ],
      "metadata": {
        "colab": {
          "base_uri": "https://localhost:8080/"
        },
        "id": "a7w_0VtvY5kj",
        "outputId": "0a446c5a-84b1-4b7d-fb2c-04f095a6cd05"
      },
      "id": "a7w_0VtvY5kj",
      "execution_count": 66,
      "outputs": [
        {
          "output_type": "stream",
          "name": "stdout",
          "text": [
            "Epoch 0: loss = 0.6796\n",
            "Epoch 1: loss = 0.6755\n",
            "Epoch 2: loss = 0.6714\n",
            "Epoch 3: loss = 0.6671\n",
            "Epoch 4: loss = 0.6625\n",
            "Epoch 5: loss = 0.6576\n",
            "Epoch 6: loss = 0.6522\n",
            "Epoch 7: loss = 0.6461\n",
            "Epoch 8: loss = 0.6389\n",
            "Epoch 9: loss = 0.6302\n",
            "Epoch 10: loss = 0.6189\n",
            "Epoch 11: loss = 0.6034\n",
            "Epoch 12: loss = 0.5796\n",
            "Epoch 13: loss = 0.5367\n",
            "Epoch 14: loss = 0.4926\n",
            "Epoch 15: loss = 0.4907\n",
            "Epoch 16: loss = 0.4958\n",
            "Epoch 17: loss = 0.4978\n",
            "Epoch 18: loss = 0.4968\n",
            "Epoch 19: loss = 0.4941\n"
          ]
        }
      ]
    },
    {
      "cell_type": "markdown",
      "source": [
        "#### Get Predictions for Fusion"
      ],
      "metadata": {
        "id": "Y0hwUi9_jlLO"
      },
      "id": "Y0hwUi9_jlLO"
    },
    {
      "cell_type": "code",
      "source": [
        "model.eval()\n",
        "with torch.no_grad():\n",
        "    logits = model(X_tensor)        # before sigmoid\n",
        "    probs = torch.sigmoid(logits)   # convert to probabilities\n",
        "    y_true = y_tensor"
      ],
      "metadata": {
        "id": "8oc2oVgejkOW"
      },
      "id": "8oc2oVgejkOW",
      "execution_count": 67,
      "outputs": []
    },
    {
      "cell_type": "code",
      "source": [
        "for i in range(probs.shape[1]):\n",
        "    plt.hist(probs[:, i], bins=50, alpha=0.7)\n",
        "    plt.title(f\"Probability Distribution for Label {i}\")\n",
        "    plt.xlabel(\"Predicted Probability\")\n",
        "    plt.ylabel(\"Frequency\")\n",
        "    plt.show()"
      ],
      "metadata": {
        "id": "mK6QS6DbNi0V",
        "outputId": "ee46918a-4067-4025-ff13-049c720a2d51",
        "colab": {
          "base_uri": "https://localhost:8080/",
          "height": 1000
        }
      },
      "id": "mK6QS6DbNi0V",
      "execution_count": 68,
      "outputs": [
        {
          "output_type": "display_data",
          "data": {
            "text/plain": [
              "<Figure size 640x480 with 1 Axes>"
            ],
            "image/png": "[encoded data removed]"
          },
          "metadata": {}
        },
        {
          "output_type": "display_data",
          "data": {
            "text/plain": [
              "<Figure size 640x480 with 1 Axes>"
            ],
            "image/png": "[encoded data removed]"
          },
          "metadata": {}
        },
        {
          "output_type": "display_data",
          "data": {
            "text/plain": [
              "<Figure size 640x480 with 1 Axes>"
            ],
            "image/png": "[encoded data removed]"
          },
          "metadata": {}
        }
      ]
    },
    {
      "cell_type": "code",
      "source": [
        "print(\"X_tensor stats:\", X_tensor.min(), X_tensor.max(), X_tensor.mean())"
      ],
      "metadata": {
        "id": "JGsptewaP0aN",
        "outputId": "c96f5deb-0d9b-4682-c064-be45cb4f21ad",
        "colab": {
          "base_uri": "https://localhost:8080/"
        }
      },
      "id": "JGsptewaP0aN",
      "execution_count": 69,
      "outputs": [
        {
          "output_type": "stream",
          "name": "stdout",
          "text": [
            "X_tensor stats: tensor(-0.3162) tensor(164.1806) tensor(6.8046e-10)\n"
          ]
        }
      ]
    },
    {
      "cell_type": "code",
      "source": [
        "best_thresholds, _ = tune_thresholds(y_true, probs, 'f1')"
      ],
      "metadata": {
        "colab": {
          "base_uri": "https://localhost:8080/"
        },
        "id": "PK2Vu0IzxcRl",
        "outputId": "8ed1af4c-47c1-45c1-dff1-7015c4e3ddc6"
      },
      "id": "PK2Vu0IzxcRl",
      "execution_count": 70,
      "outputs": [
        {
          "output_type": "stream",
          "name": "stdout",
          "text": [
            "Label 0: Best threshold = 0.19, Best f1 = 0.4348\n",
            "Label 1: Best threshold = 0.00, Best f1 = 0.1026\n",
            "Label 2: Best threshold = 0.29, Best f1 = 0.5306\n"
          ]
        }
      ]
    },
    {
      "cell_type": "code",
      "source": [
        "evaluate_multilabel_classification(\n",
        "    y_true=y_true.numpy(),       # ground truth (0 or 1)\n",
        "    y_pred=probs.numpy(),        # predicted probabilities\n",
        "    label_names=label_names,\n",
        "    threshold=best_thresholds               # you can try 0.4 or 0.6 too\n",
        ")"
      ],
      "metadata": {
        "colab": {
          "base_uri": "https://localhost:8080/"
        },
        "id": "hPlyvW5YjvAx",
        "outputId": "8793c789-1400-49ce-fa8d-9ce90cc3f848"
      },
      "id": "hPlyvW5YjvAx",
      "execution_count": 71,
      "outputs": [
        {
          "output_type": "execute_result",
          "data": {
            "text/plain": [
              "({'micro_precision': 0.22935779816513763,\n",
              "  'micro_recall': 1.0,\n",
              "  'micro_f1': 0.373134328358209,\n",
              "  'macro_precision': 0.230980980980981,\n",
              "  'macro_recall': 1.0,\n",
              "  'macro_f1': 0.35598631871923797,\n",
              "  'weighted_precision': 0.3032132132132132,\n",
              "  'weighted_recall': 1.0,\n",
              "  'weighted_f1': 0.4580365390303278,\n",
              "  'subset_accuracy': 0.0},\n",
              "               precision    recall  f1-score  support\n",
              " Mint           0.277778  1.000000  0.434783     10.0\n",
              " Leak           0.054054  1.000000  0.102564      2.0\n",
              " Limit          0.361111  1.000000  0.530612     13.0\n",
              " micro avg      0.229358  1.000000  0.373134     25.0\n",
              " macro avg      0.230981  1.000000  0.355986     25.0\n",
              " weighted avg   0.303213  1.000000  0.458037     25.0\n",
              " samples avg    0.225225  0.486486  0.300000     25.0)"
            ]
          },
          "metadata": {},
          "execution_count": 71
        }
      ]
    },
    {
      "cell_type": "markdown",
      "source": [
        "### C. Graph GNN"
      ],
      "metadata": {
        "id": "THlaqaaRR1z-"
      },
      "id": "THlaqaaRR1z-"
    },
    {
      "cell_type": "code",
      "source": [
        "class GCN(nn.Module):\n",
        "    def __init__(self, in_channels, hidden, out_channels):\n",
        "        super().__init__()\n",
        "        self.conv1 = GCNConv(in_channels, hidden)\n",
        "        self.conv2 = GCNConv(hidden, hidden)\n",
        "        self.lin = nn.Linear(hidden, out_channels)\n",
        "    def forward(self, data):\n",
        "        x, edge_index, batch = data.x, data.edge_index, data.batch\n",
        "        x = F.relu(self.conv1(x, edge_index))\n",
        "        x = F.relu(self.conv2(x, edge_index))\n",
        "        x = global_mean_pool(x, batch)\n",
        "        return self.lin(x)\n"
      ],
      "metadata": {
        "id": "r20RNiNORwLj"
      },
      "id": "r20RNiNORwLj",
      "execution_count": 72,
      "outputs": []
    },
    {
      "cell_type": "markdown",
      "source": [
        "#### Load Data"
      ],
      "metadata": {
        "id": "E7fewhu7kua3"
      },
      "id": "E7fewhu7kua3"
    },
    {
      "cell_type": "code",
      "source": [
        "with open(os.path.join(PATH, \"txn.pkl\"), \"rb\") as f:\n",
        "    txn_data = pickle.load(f)\n",
        "\n",
        "with open(os.path.join(PATH, \"cfg.pkl\"), \"rb\") as f:\n",
        "    cfg_data = pickle.load(f)"
      ],
      "metadata": {
        "id": "RoA6z4BElO0W"
      },
      "id": "RoA6z4BElO0W",
      "execution_count": 73,
      "outputs": []
    },
    {
      "cell_type": "code",
      "source": [
        "txn_dataset = []\n",
        "\n",
        "for i, (address, txn_graph_data) in enumerate(txn_data.items()):\n",
        "    # Check if the address exists in the ground truth DataFrame\n",
        "    if address in ground.set_index('Address').index:\n",
        "        feature = txn_graph.loc[address] # Use txn_graph features for txn_dataset\n",
        "        data = from_networkx(txn_graph_data)\n",
        "        data.x = torch.tensor(feature.values, dtype=torch.float32).repeat(data.num_nodes, 1) # Repeat features for each node\n",
        "        data.y = torch.tensor(ground.set_index('Address').loc[address][[\"Mint\", \"Leak\", \"Limit\"]].values, dtype=torch.float32).unsqueeze(0) # Add a batch dimension\n",
        "        if i < 10:\n",
        "            print(data)\n",
        "        txn_dataset.append(data)\n",
        "\n",
        "cfg_dataset = []\n",
        "\n",
        "for i, (address, cfg_graph_data) in enumerate(txn_data.items()):\n",
        "    # Check if the address exists in the ground truth DataFrame\n",
        "    if address in ground.set_index('Address').index:\n",
        "        feature = cfg_graph.loc[address] # Use txn_graph features for txn_dataset\n",
        "        data = from_networkx(txn_graph_data)\n",
        "        data.x = torch.tensor(feature.values, dtype=torch.float32).repeat(data.num_nodes, 1) # Repeat features for each node\n",
        "        data.y = torch.tensor(ground.set_index('Address').loc[address][[\"Mint\", \"Leak\", \"Limit\"]].values, dtype=torch.float32).unsqueeze(0) # Add a batch dimension\n",
        "        if i < 10:\n",
        "            print(data)\n",
        "        cfg_dataset.append(data)"
      ],
      "metadata": {
        "colab": {
          "base_uri": "https://localhost:8080/"
        },
        "id": "gB3CAbhTkwjF",
        "outputId": "7964d4f6-79ef-44a0-b318-1b384a584859"
      },
      "id": "gB3CAbhTkwjF",
      "execution_count": 74,
      "outputs": [
        {
          "output_type": "stream",
          "name": "stdout",
          "text": [
            "Data(edge_index=[2, 1], tx_hash=[1], label=[1], gas=[1], num_nodes=2, x=[2, 6], y=[1, 3])\n",
            "Data(edge_index=[2, 13], tx_hash=[13], label=[13], gas=[13], num_nodes=14, x=[14, 6], y=[1, 3])\n",
            "Data(edge_index=[2, 65], tx_hash=[65], label=[65], gas=[65], num_nodes=66, x=[66, 6], y=[1, 3])\n",
            "Data(edge_index=[2, 56], tx_hash=[56], label=[56], gas=[56], num_nodes=57, x=[57, 6], y=[1, 3])\n",
            "Data(edge_index=[2, 252], tx_hash=[252], label=[252], gas=[252], num_nodes=253, x=[253, 6], y=[1, 3])\n",
            "Data(edge_index=[2, 2], tx_hash=[2], label=[2], gas=[2], num_nodes=3, x=[3, 6], y=[1, 3])\n",
            "Data(edge_index=[2, 5869], tx_hash=[5869], label=[5869], gas=[5869], num_nodes=5870, x=[5870, 6], y=[1, 3])\n",
            "Data(edge_index=[2, 944], tx_hash=[944], label=[944], gas=[944], num_nodes=945, x=[945, 6], y=[1, 3])\n",
            "Data(edge_index=[2, 58], tx_hash=[58], label=[58], gas=[58], num_nodes=59, x=[59, 6], y=[1, 3])\n",
            "Data(edge_index=[2, 2], tx_hash=[2], label=[2], gas=[2], num_nodes=3, x=[3, 6], y=[1, 3])\n",
            "Data(edge_index=[2, 1], tx_hash=[1], label=[1], gas=[1], num_nodes=2, x=[2, 6], y=[1, 3])\n",
            "Data(edge_index=[2, 1], tx_hash=[1], label=[1], gas=[1], num_nodes=2, x=[2, 6], y=[1, 3])\n",
            "Data(edge_index=[2, 1], tx_hash=[1], label=[1], gas=[1], num_nodes=2, x=[2, 6], y=[1, 3])\n",
            "Data(edge_index=[2, 1], tx_hash=[1], label=[1], gas=[1], num_nodes=2, x=[2, 6], y=[1, 3])\n",
            "Data(edge_index=[2, 1], tx_hash=[1], label=[1], gas=[1], num_nodes=2, x=[2, 6], y=[1, 3])\n",
            "Data(edge_index=[2, 1], tx_hash=[1], label=[1], gas=[1], num_nodes=2, x=[2, 6], y=[1, 3])\n",
            "Data(edge_index=[2, 1], tx_hash=[1], label=[1], gas=[1], num_nodes=2, x=[2, 6], y=[1, 3])\n",
            "Data(edge_index=[2, 1], tx_hash=[1], label=[1], gas=[1], num_nodes=2, x=[2, 6], y=[1, 3])\n",
            "Data(edge_index=[2, 1], tx_hash=[1], label=[1], gas=[1], num_nodes=2, x=[2, 6], y=[1, 3])\n",
            "Data(edge_index=[2, 1], tx_hash=[1], label=[1], gas=[1], num_nodes=2, x=[2, 6], y=[1, 3])\n"
          ]
        }
      ]
    },
    {
      "cell_type": "code",
      "source": [
        "from torch_geometric.loader import DataLoader\n",
        "\n",
        "# Use either txn_dataset or cfg_dataset\n",
        "txn_train_loader = DataLoader(txn_dataset, batch_size=16, shuffle=True)\n",
        "cfg_train_loader = DataLoader(cfg_dataset, batch_size=16, shuffle=True)"
      ],
      "metadata": {
        "id": "J8oqgIMNmkpW"
      },
      "id": "J8oqgIMNmkpW",
      "execution_count": 75,
      "outputs": []
    },
    {
      "cell_type": "code",
      "source": [
        "txn_model = GCN(in_channels=feature.shape[0], hidden=64, out_channels=3)  # 3 = Mint, Leak, Limit\n",
        "cfg_model = GCN(in_channels=feature.shape[0], hidden=64, out_channels=3)\n",
        "optimizer = torch.optim.Adam(model.parameters(), lr=1e-3)\n",
        "loss_fn = nn.BCEWithLogitsLoss()  # For multi-label classification"
      ],
      "metadata": {
        "id": "hBRQu9xhp3AU"
      },
      "id": "hBRQu9xhp3AU",
      "execution_count": 76,
      "outputs": []
    },
    {
      "cell_type": "markdown",
      "source": [
        "#### Train & Dvaluation"
      ],
      "metadata": {
        "id": "XRQc8BMPqIPk"
      },
      "id": "XRQc8BMPqIPk"
    },
    {
      "cell_type": "code",
      "source": [
        "# Update optimizer to optimize txn_model parameters\n",
        "optimizer = torch.optim.Adam(txn_model.parameters(), lr=1e-3)\n",
        "\n",
        "for epoch in range(20):\n",
        "    txn_model.train()\n",
        "    total_loss = 0\n",
        "    for batch in txn_train_loader:\n",
        "        optimizer.zero_grad()\n",
        "        out = txn_model(batch)  # Use txn_model and pass the batch\n",
        "        loss = loss_fn(out, batch.y)\n",
        "        loss.backward()\n",
        "        optimizer.step()\n",
        "        total_loss += loss.item()\n",
        "    print(f\"Epoch {epoch+1}, Loss: {total_loss:.4f}\")"
      ],
      "metadata": {
        "colab": {
          "base_uri": "https://localhost:8080/"
        },
        "id": "N1GmCgbAqBOy",
        "outputId": "b80663ed-9d0c-42f0-d66d-56d5385d14ec"
      },
      "id": "N1GmCgbAqBOy",
      "execution_count": 77,
      "outputs": [
        {
          "output_type": "stream",
          "name": "stdout",
          "text": [
            "Epoch 1, Loss: 155.9216\n",
            "Epoch 2, Loss: 92.6041\n",
            "Epoch 3, Loss: 50.0826\n",
            "Epoch 4, Loss: 11.9217\n",
            "Epoch 5, Loss: 12.6379\n",
            "Epoch 6, Loss: 18.1213\n",
            "Epoch 7, Loss: 14.8395\n",
            "Epoch 8, Loss: 22.0826\n",
            "Epoch 9, Loss: 17.4794\n",
            "Epoch 10, Loss: 19.3986\n",
            "Epoch 11, Loss: 13.3989\n",
            "Epoch 12, Loss: 13.6301\n",
            "Epoch 13, Loss: 27.2463\n",
            "Epoch 14, Loss: 9.7377\n",
            "Epoch 15, Loss: 7.6776\n",
            "Epoch 16, Loss: 5.7214\n",
            "Epoch 17, Loss: 3.7703\n",
            "Epoch 18, Loss: 6.4050\n",
            "Epoch 19, Loss: 4.6326\n",
            "Epoch 20, Loss: 7.1017\n"
          ]
        }
      ]
    },
    {
      "cell_type": "code",
      "source": [
        "# Update optimizer to optimize cfg_model parameters\n",
        "optimizer = torch.optim.Adam(cfg_model.parameters(), lr=1e-3)\n",
        "\n",
        "for epoch in range(20):\n",
        "    cfg_model.train()\n",
        "    total_loss = 0\n",
        "    for batch in cfg_train_loader:\n",
        "        optimizer.zero_grad()\n",
        "        out = cfg_model(batch)  # shape: [batch_size, 3] - Use cfg_model\n",
        "        loss = loss_fn(out, batch.y)\n",
        "        loss.backward()\n",
        "        optimizer.step()\n",
        "        total_loss += loss.item()\n",
        "    print(f\"Epoch {epoch+1}, Loss: {total_loss:.4f}\")"
      ],
      "metadata": {
        "colab": {
          "base_uri": "https://localhost:8080/"
        },
        "id": "H-DhH6nTqEwb",
        "outputId": "f1d8a827-71d5-4689-aa6f-ee41daaae2a9"
      },
      "id": "H-DhH6nTqEwb",
      "execution_count": 78,
      "outputs": [
        {
          "output_type": "stream",
          "name": "stdout",
          "text": [
            "Epoch 1, Loss: 24.8204\n",
            "Epoch 2, Loss: 13.9080\n",
            "Epoch 3, Loss: 6.2912\n",
            "Epoch 4, Loss: 5.5086\n",
            "Epoch 5, Loss: 7.4539\n",
            "Epoch 6, Loss: 3.9172\n",
            "Epoch 7, Loss: 3.5641\n",
            "Epoch 8, Loss: 5.5356\n",
            "Epoch 9, Loss: 3.0679\n",
            "Epoch 10, Loss: 4.0448\n",
            "Epoch 11, Loss: 2.5643\n",
            "Epoch 12, Loss: 2.0927\n",
            "Epoch 13, Loss: 2.8669\n",
            "Epoch 14, Loss: 2.3633\n",
            "Epoch 15, Loss: 1.6787\n",
            "Epoch 16, Loss: 1.3916\n",
            "Epoch 17, Loss: 1.5299\n",
            "Epoch 18, Loss: 1.5849\n",
            "Epoch 19, Loss: 1.5414\n",
            "Epoch 20, Loss: 1.8548\n"
          ]
        }
      ]
    },
    {
      "cell_type": "code",
      "source": [
        "model.eval()\n",
        "all_logits = []\n",
        "all_labels = []\n",
        "\n",
        "with torch.no_grad():\n",
        "    for batch in txn_train_loader:\n",
        "        logits = txn_model(batch)\n",
        "        all_logits.append(logits)\n",
        "        all_labels.append(batch.y)\n",
        "\n",
        "# Stack predictions\n",
        "logits = torch.cat(all_logits)\n",
        "probs = torch.sigmoid(logits)  # Convert logits to probabilities\n",
        "y_true = torch.cat(all_labels)\n"
      ],
      "metadata": {
        "id": "h7lLSyXEqRwe"
      },
      "id": "h7lLSyXEqRwe",
      "execution_count": 79,
      "outputs": []
    },
    {
      "cell_type": "code",
      "source": [
        "best_thresholds, _ = tune_thresholds(y_true, probs)"
      ],
      "metadata": {
        "colab": {
          "base_uri": "https://localhost:8080/"
        },
        "id": "bJUX_hTdxuZG",
        "outputId": "f8d4835e-d47a-4b76-ae0a-fe1e527e32b6"
      },
      "id": "bJUX_hTdxuZG",
      "execution_count": 80,
      "outputs": [
        {
          "output_type": "stream",
          "name": "stdout",
          "text": [
            "Label 0: Best threshold = 0.51, Best f1 = 0.5517\n",
            "Label 1: Best threshold = 0.33, Best f1 = 0.4000\n",
            "Label 2: Best threshold = 0.01, Best f1 = 0.5789\n"
          ]
        }
      ]
    },
    {
      "cell_type": "code",
      "source": [
        "evaluate_multilabel_classification(y_true.numpy(), probs.numpy(), label_names=label_names, threshold=best_thresholds)\n"
      ],
      "metadata": {
        "colab": {
          "base_uri": "https://localhost:8080/"
        },
        "id": "nHJ81_M_qbPV",
        "outputId": "c575760b-5bb3-4a7d-c642-110713ff3fa6"
      },
      "id": "nHJ81_M_qbPV",
      "execution_count": 81,
      "outputs": [
        {
          "output_type": "execute_result",
          "data": {
            "text/plain": [
              "({'micro_precision': 0.40384615384615385,\n",
              "  'micro_recall': 0.84,\n",
              "  'micro_f1': 0.5454545454545454,\n",
              "  'macro_precision': 0.37035087719298243,\n",
              "  'macro_recall': 0.882051282051282,\n",
              "  'macro_f1': 0.5102238354506957,\n",
              "  'weighted_precision': 0.41722105263157894,\n",
              "  'weighted_recall': 0.84,\n",
              "  'weighted_f1': 0.5537422867513613,\n",
              "  'subset_accuracy': 0.2702702702702703},\n",
              "               precision    recall  f1-score  support\n",
              " Mint           0.421053  0.800000  0.551724     10.0\n",
              " Leak           0.250000  1.000000  0.400000      2.0\n",
              " Limit          0.440000  0.846154  0.578947     13.0\n",
              " micro avg      0.403846  0.840000  0.545455     25.0\n",
              " macro avg      0.370351  0.882051  0.510224     25.0\n",
              " weighted avg   0.417221  0.840000  0.553742     25.0\n",
              " samples avg    0.364865  0.405405  0.369369     25.0)"
            ]
          },
          "metadata": {},
          "execution_count": 81
        }
      ]
    },
    {
      "cell_type": "code",
      "source": [
        "model.eval()\n",
        "all_logits = []\n",
        "all_labels = []\n",
        "\n",
        "with torch.no_grad():\n",
        "    for batch in cfg_train_loader:\n",
        "        logits = cfg_model(batch)\n",
        "        all_logits.append(logits)\n",
        "        all_labels.append(batch.y)\n",
        "\n",
        "# Stack predictions\n",
        "logits = torch.cat(all_logits)\n",
        "probs = torch.sigmoid(logits)  # Convert logits to probabilities\n",
        "y_true = torch.cat(all_labels)\n"
      ],
      "metadata": {
        "id": "vr4E6DnFqoG3"
      },
      "id": "vr4E6DnFqoG3",
      "execution_count": 82,
      "outputs": []
    },
    {
      "cell_type": "code",
      "source": [
        "best_thresholds, _ = tune_thresholds(y_true, probs)"
      ],
      "metadata": {
        "colab": {
          "base_uri": "https://localhost:8080/"
        },
        "id": "8tv1yp2mxycH",
        "outputId": "a9aa7015-4937-41f5-d1e5-4235a4b4610b"
      },
      "id": "8tv1yp2mxycH",
      "execution_count": 83,
      "outputs": [
        {
          "output_type": "stream",
          "name": "stdout",
          "text": [
            "Label 0: Best threshold = 0.37, Best f1 = 0.6364\n",
            "Label 1: Best threshold = 0.00, Best f1 = 0.1026\n",
            "Label 2: Best threshold = 0.12, Best f1 = 0.5854\n"
          ]
        }
      ]
    },
    {
      "cell_type": "code",
      "source": [
        "evaluate_multilabel_classification(y_true.numpy(), probs.numpy(), label_names=label_names, threshold=best_thresholds)\n"
      ],
      "metadata": {
        "colab": {
          "base_uri": "https://localhost:8080/"
        },
        "id": "1sTv09a2qpB-",
        "outputId": "382d6d2d-672a-4748-ed57-0aee9dc34503"
      },
      "id": "1sTv09a2qpB-",
      "execution_count": 84,
      "outputs": [
        {
          "output_type": "execute_result",
          "data": {
            "text/plain": [
              "({'micro_precision': 0.2727272727272727,\n",
              "  'micro_recall': 0.84,\n",
              "  'micro_f1': 0.4117647058823529,\n",
              "  'macro_precision': 0.3553196053196053,\n",
              "  'macro_recall': 0.8743589743589744,\n",
              "  'macro_f1': 0.44143119752875853,\n",
              "  'weighted_precision': 0.46051480051480054,\n",
              "  'weighted_recall': 0.84,\n",
              "  'weighted_f1': 0.5671408266530217,\n",
              "  'subset_accuracy': 0.05405405405405406},\n",
              "               precision    recall  f1-score  support\n",
              " Mint           0.583333  0.700000  0.636364     10.0\n",
              " Leak           0.054054  1.000000  0.102564      2.0\n",
              " Limit          0.428571  0.923077  0.585366     13.0\n",
              " micro avg      0.272727  0.840000  0.411765     25.0\n",
              " macro avg      0.355320  0.874359  0.441431     25.0\n",
              " weighted avg   0.460515  0.840000  0.567141     25.0\n",
              " samples avg    0.247748  0.391892  0.297297     25.0)"
            ]
          },
          "metadata": {},
          "execution_count": 84
        }
      ]
    },
    {
      "cell_type": "code",
      "source": [],
      "metadata": {
        "id": "cyPNoNpL8sUa"
      },
      "id": "cyPNoNpL8sUa",
      "execution_count": null,
      "outputs": []
    }
  ],
  "metadata": {
    "language_info": {
      "name": "python"
    },
    "colab": {
      "provenance": []
    },
    "kernelspec": {
      "name": "python3",
      "display_name": "Python 3"
    }
  },
  "nbformat": 4,
  "nbformat_minor": 5
}