{
 "cells": [
  {
   "cell_type": "markdown",
   "id": "8625fdad",
   "metadata": {},
   "source": [
    "# Partial Labeled Data Preparing"
   ]
  },
  {
   "cell_type": "markdown",
   "id": "13347ba3",
   "metadata": {},
   "source": [
    "## Set up"
   ]
  },
  {
   "cell_type": "code",
   "execution_count": 1,
   "id": "ef0fe7e8",
   "metadata": {},
   "outputs": [],
   "source": [
    "import os\n",
    "from pathlib import Path\n",
    "import shutil\n",
    "import pandas as pd\n",
    "from tqdm import tqdm\n",
    "import time\n",
    "\n",
    "import sys\n",
    "PATH = Path.cwd().parents[1]\n",
    "sys.path.append(str(PATH))\n",
    "\n",
    "from backend.utils.data_loader import (\n",
    "  get_info_by_contract_addr,\n",
    "  save_bytecode_by_contract_addr,\n",
    "  get_bytecode_by_contract_addr,\n",
    "  save_transactions_by_contract_addr,\n",
    "  get_source_code_by_contract_addr,\n",
    "  save_sol_by_contract_addr\n",
    ")"
   ]
  },
  {
   "cell_type": "code",
   "execution_count": 2,
   "id": "9c3498bf",
   "metadata": {},
   "outputs": [],
   "source": [
    "name = \"crp_large_sample.csv\" # change this\n",
    "DATA_PATH = os.path.join(PATH, 'data')\n",
    "SOURCE_PATH = os.path.join(DATA_PATH, 'external/crpwarner/dataset/large/hex') # change this\n",
    "DATASET_PATH = os.path.join(DATA_PATH, 'interim')\n",
    "UNLABELED_PATH = os.path.join(DATA_PATH, 'unlabeled')"
   ]
  },
  {
   "cell_type": "markdown",
   "id": "da3a385f",
   "metadata": {},
   "source": [
    "## Move Dataset to Unlabeled"
   ]
  },
  {
   "cell_type": "code",
   "execution_count": 3,
   "id": "8fd61c0d",
   "metadata": {},
   "outputs": [
    {
     "name": "stdout",
     "output_type": "stream",
     "text": [
      "File moved successfully.\n"
     ]
    }
   ],
   "source": [
    "source = os.path.join(DATASET_PATH, name)\n",
    "target = os.path.join(UNLABELED_PATH, name)\n",
    "if os.path.exists(source):\n",
    "    shutil.move(source, UNLABELED_PATH)\n",
    "    print(\"File moved successfully.\")\n",
    "else:\n",
    "    print(\"File does not exist.\", DATASET_PATH)"
   ]
  },
  {
   "cell_type": "code",
   "execution_count": 4,
   "id": "d91b36a7",
   "metadata": {},
   "outputs": [
    {
     "data": {
      "application/vnd.microsoft.datawrangler.viewer.v0+json": {
       "columns": [
        {
         "name": "Address",
         "rawType": "object",
         "type": "string"
        },
        {
         "name": "Mint",
         "rawType": "int64",
         "type": "integer"
        },
        {
         "name": "Leak",
         "rawType": "int64",
         "type": "integer"
        },
        {
         "name": "Limit",
         "rawType": "int64",
         "type": "integer"
        }
       ],
       "ref": "efd576a0-aa74-492a-8fe1-ba7f3a5bad1d",
       "rows": [
        [
         "0x0290ea3c728981725689187763f6c63a68e192b8",
         "-1",
         "1",
         "-1"
        ],
        [
         "0x02d3aea48b443a0026ed9cbc91b97d7335aba323",
         "-1",
         "-1",
         "1"
        ],
        [
         "0x03260e1b0f53e1a1f93cf126a7ca42a1c71648d6",
         "1",
         "-1",
         "-1"
        ],
        [
         "0x054ad3cd4a66f14bf5c0de2548a53be66995a4f6",
         "-1",
         "1",
         "-1"
        ],
        [
         "0x0566c17dc2a9efcaa2f63e04cf06a69e8fc77f60",
         "-1",
         "0",
         "-1"
        ]
       ],
       "shape": {
        "columns": 3,
        "rows": 5
       }
      },
      "text/html": [
       "<div>\n",
       "<style scoped>\n",
       "    .dataframe tbody tr th:only-of-type {\n",
       "        vertical-align: middle;\n",
       "    }\n",
       "\n",
       "    .dataframe tbody tr th {\n",
       "        vertical-align: top;\n",
       "    }\n",
       "\n",
       "    .dataframe thead th {\n",
       "        text-align: right;\n",
       "    }\n",
       "</style>\n",
       "<table border=\"1\" class=\"dataframe\">\n",
       "  <thead>\n",
       "    <tr style=\"text-align: right;\">\n",
       "      <th></th>\n",
       "      <th>Mint</th>\n",
       "      <th>Leak</th>\n",
       "      <th>Limit</th>\n",
       "    </tr>\n",
       "    <tr>\n",
       "      <th>Address</th>\n",
       "      <th></th>\n",
       "      <th></th>\n",
       "      <th></th>\n",
       "    </tr>\n",
       "  </thead>\n",
       "  <tbody>\n",
       "    <tr>\n",
       "      <th>0x0290ea3c728981725689187763f6c63a68e192b8</th>\n",
       "      <td>-1</td>\n",
       "      <td>1</td>\n",
       "      <td>-1</td>\n",
       "    </tr>\n",
       "    <tr>\n",
       "      <th>0x02d3aea48b443a0026ed9cbc91b97d7335aba323</th>\n",
       "      <td>-1</td>\n",
       "      <td>-1</td>\n",
       "      <td>1</td>\n",
       "    </tr>\n",
       "    <tr>\n",
       "      <th>0x03260e1b0f53e1a1f93cf126a7ca42a1c71648d6</th>\n",
       "      <td>1</td>\n",
       "      <td>-1</td>\n",
       "      <td>-1</td>\n",
       "    </tr>\n",
       "    <tr>\n",
       "      <th>0x054ad3cd4a66f14bf5c0de2548a53be66995a4f6</th>\n",
       "      <td>-1</td>\n",
       "      <td>1</td>\n",
       "      <td>-1</td>\n",
       "    </tr>\n",
       "    <tr>\n",
       "      <th>0x0566c17dc2a9efcaa2f63e04cf06a69e8fc77f60</th>\n",
       "      <td>-1</td>\n",
       "      <td>0</td>\n",
       "      <td>-1</td>\n",
       "    </tr>\n",
       "  </tbody>\n",
       "</table>\n",
       "</div>"
      ],
      "text/plain": [
       "                                            Mint  Leak  Limit\n",
       "Address                                                      \n",
       "0x0290ea3c728981725689187763f6c63a68e192b8    -1     1     -1\n",
       "0x02d3aea48b443a0026ed9cbc91b97d7335aba323    -1    -1      1\n",
       "0x03260e1b0f53e1a1f93cf126a7ca42a1c71648d6     1    -1     -1\n",
       "0x054ad3cd4a66f14bf5c0de2548a53be66995a4f6    -1     1     -1\n",
       "0x0566c17dc2a9efcaa2f63e04cf06a69e8fc77f60    -1     0     -1"
      ]
     },
     "execution_count": 4,
     "metadata": {},
     "output_type": "execute_result"
    }
   ],
   "source": [
    "df = pd.read_csv(target, index_col=0)\n",
    "df.head()"
   ]
  },
  {
   "cell_type": "code",
   "execution_count": 5,
   "id": "06586b99",
   "metadata": {},
   "outputs": [],
   "source": [
    "target_df = df.loc[df['Leak']!=-1] # change this"
   ]
  },
  {
   "cell_type": "code",
   "execution_count": 6,
   "id": "f54c100e",
   "metadata": {},
   "outputs": [],
   "source": [
    "HEX_PATH = os.path.join(UNLABELED_PATH, 'hex')\n",
    "SOL_PATH = os.path.join(UNLABELED_PATH, 'sol')\n",
    "TXN_PATH = os.path.join(UNLABELED_PATH, 'txn')\n",
    "TMP_PATH = os.path.join(DATASET_PATH, 'hex')"
   ]
  },
  {
   "cell_type": "code",
   "execution_count": 12,
   "id": "b9701ced",
   "metadata": {},
   "outputs": [
    {
     "name": "stderr",
     "output_type": "stream",
     "text": [
      "100%|██████████| 13396/13396 [00:00<00:00, 398099.00it/s]\n",
      "100%|██████████| 13483/13483 [00:16<00:00, 842.00it/s] \n"
     ]
    }
   ],
   "source": [
    "for src_file in tqdm(list(Path(TMP_PATH).glob('*.hex'))):\n",
    "    address = src_file.stem.lower()\n",
    "    if address in target_df.index:\n",
    "        shutil.move(src_file, os.path.join(HEX_PATH, f'{address}.hex'))\n",
    "\n",
    "for src_file in tqdm(list(Path(SOURCE_PATH).glob('*.hex'))):\n",
    "    address = src_file.stem.lower()\n",
    "    if address in target_df.index:\n",
    "        shutil.copy(src_file, os.path.join(HEX_PATH, f'{address}.hex'))\n",
    "    else:\n",
    "        shutil.copy(src_file, os.path.join(TMP_PATH, f'{address}.hex'))"
   ]
  },
  {
   "cell_type": "code",
   "execution_count": 8,
   "id": "8fd2f7c5",
   "metadata": {},
   "outputs": [
    {
     "data": {
      "text/plain": [
       "(87, 87)"
      ]
     },
     "execution_count": 8,
     "metadata": {},
     "output_type": "execute_result"
    }
   ],
   "source": [
    "len(target_df), len(os.listdir(HEX_PATH))"
   ]
  },
  {
   "cell_type": "code",
   "execution_count": 9,
   "id": "17ee2149",
   "metadata": {},
   "outputs": [
    {
     "name": "stderr",
     "output_type": "stream",
     "text": [
      "  0%|          | 0/87 [00:00<?, ?it/s]"
     ]
    },
    {
     "name": "stdout",
     "output_type": "stream",
     "text": [
      "Searching 0x0290ea3c728981725689187763f6c63a68e192b8...\n",
      "Searching in 1 chain...\n",
      "error from get_internal_transactions_by_contract_addr: No transactions found\n",
      "Saved 0x0290ea3c728981725689187763f6c63a68e192b8.json\n",
      "Saved 0x0290ea3c728981725689187763f6c63a68e192b8.hex\n",
      "Saved 0x0290ea3c728981725689187763f6c63a68e192b8.sol\n"
     ]
    },
    {
     "name": "stderr",
     "output_type": "stream",
     "text": [
      "  1%|          | 1/87 [00:05<08:00,  5.59s/it]"
     ]
    },
    {
     "name": "stdout",
     "output_type": "stream",
     "text": [
      "Searching in 97 chain...\n",
      "Searching in 56 chain...\n",
      "Searching in 57054 chain...\n",
      "Searching in 146 chain...\n",
      "Searching 0x054ad3cd4a66f14bf5c0de2548a53be66995a4f6...\n",
      "Searching in 1 chain...\n",
      "error from get_internal_transactions_by_contract_addr: No transactions found\n",
      "Saved 0x054ad3cd4a66f14bf5c0de2548a53be66995a4f6.json\n",
      "Saved 0x054ad3cd4a66f14bf5c0de2548a53be66995a4f6.hex\n",
      "Saved 0x054ad3cd4a66f14bf5c0de2548a53be66995a4f6.sol\n"
     ]
    },
    {
     "name": "stderr",
     "output_type": "stream",
     "text": [
      "  2%|▏         | 2/87 [00:12<08:38,  6.10s/it]"
     ]
    },
    {
     "name": "stdout",
     "output_type": "stream",
     "text": [
      "Searching in 97 chain...\n",
      "Searching in 56 chain...\n",
      "Searching in 57054 chain...\n",
      "Searching in 146 chain...\n",
      "Searching 0x0566c17dc2a9efcaa2f63e04cf06a69e8fc77f60...\n",
      "Searching in 1 chain...\n",
      "error from get_internal_transactions_by_contract_addr: No transactions found\n",
      "Saved 0x0566c17dc2a9efcaa2f63e04cf06a69e8fc77f60.json\n",
      "Saved 0x0566c17dc2a9efcaa2f63e04cf06a69e8fc77f60.hex\n",
      "Saved 0x0566c17dc2a9efcaa2f63e04cf06a69e8fc77f60.sol\n"
     ]
    },
    {
     "name": "stderr",
     "output_type": "stream",
     "text": [
      "  3%|▎         | 3/87 [00:17<08:11,  5.85s/it]"
     ]
    },
    {
     "name": "stdout",
     "output_type": "stream",
     "text": [
      "Searching in 97 chain...\n",
      "Searching in 56 chain...\n",
      "Searching in 57054 chain...\n",
      "Searching in 146 chain...\n",
      "Searching 0x10c8324b20b7266c445944f043f53f6a77ea0bd4...\n",
      "Searching in 1 chain...\n",
      "error from get_internal_transactions_by_contract_addr: No transactions found\n",
      "Saved 0x10c8324b20b7266c445944f043f53f6a77ea0bd4.json\n",
      "Saved 0x10c8324b20b7266c445944f043f53f6a77ea0bd4.hex\n",
      "Saved 0x10c8324b20b7266c445944f043f53f6a77ea0bd4.sol\n"
     ]
    },
    {
     "name": "stderr",
     "output_type": "stream",
     "text": [
      "  5%|▍         | 4/87 [00:26<10:01,  7.25s/it]"
     ]
    },
    {
     "name": "stdout",
     "output_type": "stream",
     "text": [
      "Searching in 97 chain...\n",
      "Searching in 56 chain...\n",
      "Searching in 57054 chain...\n",
      "Searching in 146 chain...\n",
      "Searching 0x10cc060f6f9b2e5dcdb23f1361e4b368a7daec73...\n",
      "Searching in 1 chain...\n",
      "error from get_internal_transactions_by_contract_addr: No transactions found\n",
      "Saved 0x10cc060f6f9b2e5dcdb23f1361e4b368a7daec73.json\n",
      "Saved 0x10cc060f6f9b2e5dcdb23f1361e4b368a7daec73.hex\n",
      "Saved 0x10cc060f6f9b2e5dcdb23f1361e4b368a7daec73.sol\n"
     ]
    },
    {
     "name": "stderr",
     "output_type": "stream",
     "text": [
      "  6%|▌         | 5/87 [00:32<09:08,  6.69s/it]"
     ]
    },
    {
     "name": "stdout",
     "output_type": "stream",
     "text": [
      "Searching in 97 chain...\n",
      "Searching in 56 chain...\n",
      "Searching in 57054 chain...\n",
      "Searching in 146 chain...\n",
      "Searching 0x12e29d7d6fd63f0f12040fcd1bf9021919b0e4fa...\n",
      "Searching in 1 chain...\n",
      "Saved 0x12e29d7d6fd63f0f12040fcd1bf9021919b0e4fa.json\n",
      "Saved 0x12e29d7d6fd63f0f12040fcd1bf9021919b0e4fa.hex\n",
      "Saved 0x12e29d7d6fd63f0f12040fcd1bf9021919b0e4fa.sol\n"
     ]
    },
    {
     "name": "stderr",
     "output_type": "stream",
     "text": [
      "  7%|▋         | 6/87 [00:38<08:40,  6.42s/it]"
     ]
    },
    {
     "name": "stdout",
     "output_type": "stream",
     "text": [
      "Searching in 97 chain...\n",
      "Searching in 56 chain...\n",
      "Searching in 57054 chain...\n",
      "Searching in 146 chain...\n",
      "Searching 0x1327c3993c24de9a821b2e512817a2668185d878...\n",
      "Searching in 1 chain...\n",
      "error from get_events_by_contract_addr: No records found\n",
      "Saved 0x1327c3993c24de9a821b2e512817a2668185d878.json\n",
      "Saved 0x1327c3993c24de9a821b2e512817a2668185d878.hex\n",
      "Saved 0x1327c3993c24de9a821b2e512817a2668185d878.sol\n"
     ]
    },
    {
     "name": "stderr",
     "output_type": "stream",
     "text": [
      "  8%|▊         | 7/87 [00:44<08:12,  6.16s/it]"
     ]
    },
    {
     "name": "stdout",
     "output_type": "stream",
     "text": [
      "Searching in 97 chain...\n",
      "Searching in 56 chain...\n",
      "Searching in 57054 chain...\n",
      "Searching in 146 chain...\n",
      "Searching 0x1332059337953dbba74c89f6cb7ff0c8498ea925...\n",
      "Searching in 1 chain...\n",
      "error from get_internal_transactions_by_contract_addr: No transactions found\n",
      "Saved 0x1332059337953dbba74c89f6cb7ff0c8498ea925.json\n",
      "Saved 0x1332059337953dbba74c89f6cb7ff0c8498ea925.hex\n",
      "Saved 0x1332059337953dbba74c89f6cb7ff0c8498ea925.sol\n"
     ]
    },
    {
     "name": "stderr",
     "output_type": "stream",
     "text": [
      "  9%|▉         | 8/87 [00:50<08:20,  6.34s/it]"
     ]
    },
    {
     "name": "stdout",
     "output_type": "stream",
     "text": [
      "Searching in 97 chain...\n",
      "Searching in 56 chain...\n",
      "Searching in 57054 chain...\n",
      "Searching in 146 chain...\n",
      "Searching 0x14582a41e55827e8d408022e54e2a1251a14c56a...\n",
      "Searching in 1 chain...\n",
      "Saved 0x14582a41e55827e8d408022e54e2a1251a14c56a.json\n",
      "Saved 0x14582a41e55827e8d408022e54e2a1251a14c56a.hex\n",
      "Saved 0x14582a41e55827e8d408022e54e2a1251a14c56a.sol\n"
     ]
    },
    {
     "name": "stderr",
     "output_type": "stream",
     "text": [
      " 10%|█         | 9/87 [00:56<07:57,  6.12s/it]"
     ]
    },
    {
     "name": "stdout",
     "output_type": "stream",
     "text": [
      "Searching in 97 chain...\n",
      "Searching in 56 chain...\n",
      "Searching in 57054 chain...\n",
      "Searching in 146 chain...\n",
      "Searching 0x1694ee5ef3d9f172e440004dda88bb60441ce6c5...\n",
      "Searching in 1 chain...\n",
      "error from get_internal_transactions_by_contract_addr: No transactions found\n",
      "error from get_events_by_contract_addr: No records found\n",
      "Saved 0x1694ee5ef3d9f172e440004dda88bb60441ce6c5.json\n",
      "Saved 0x1694ee5ef3d9f172e440004dda88bb60441ce6c5.hex\n",
      "Saved 0x1694ee5ef3d9f172e440004dda88bb60441ce6c5.sol\n"
     ]
    },
    {
     "name": "stderr",
     "output_type": "stream",
     "text": [
      " 11%|█▏        | 10/87 [01:02<07:38,  5.95s/it]"
     ]
    },
    {
     "name": "stdout",
     "output_type": "stream",
     "text": [
      "Searching in 97 chain...\n",
      "Searching in 56 chain...\n",
      "Searching in 57054 chain...\n",
      "Searching in 146 chain...\n",
      "Searching 0x17e5f19d430788323863c6798ecd762a40de29f5...\n",
      "Searching in 1 chain...\n",
      "Saved 0x17e5f19d430788323863c6798ecd762a40de29f5.json\n",
      "Saved 0x17e5f19d430788323863c6798ecd762a40de29f5.hex\n",
      "Saved 0x17e5f19d430788323863c6798ecd762a40de29f5.sol\n"
     ]
    },
    {
     "name": "stderr",
     "output_type": "stream",
     "text": [
      " 13%|█▎        | 11/87 [01:09<08:08,  6.43s/it]"
     ]
    },
    {
     "name": "stdout",
     "output_type": "stream",
     "text": [
      "Searching in 97 chain...\n",
      "Searching in 56 chain...\n",
      "Searching in 57054 chain...\n",
      "Searching in 146 chain...\n",
      "Searching 0x1b2a2414f80bff80f76255aa11bf847a37b0d5be...\n",
      "Searching in 1 chain...\n",
      "Saved 0x1b2a2414f80bff80f76255aa11bf847a37b0d5be.json\n",
      "Saved 0x1b2a2414f80bff80f76255aa11bf847a37b0d5be.hex\n",
      "Saved 0x1b2a2414f80bff80f76255aa11bf847a37b0d5be.sol\n"
     ]
    },
    {
     "name": "stderr",
     "output_type": "stream",
     "text": [
      " 14%|█▍        | 12/87 [01:15<07:43,  6.18s/it]"
     ]
    },
    {
     "name": "stdout",
     "output_type": "stream",
     "text": [
      "Searching in 97 chain...\n",
      "Searching in 56 chain...\n",
      "Searching in 57054 chain...\n",
      "Searching in 146 chain...\n",
      "Searching 0x1bf63aca0124c9617d99c13ec3c279ff3e76f467...\n",
      "Searching in 1 chain...\n",
      "error from get_internal_transactions_by_contract_addr: No transactions found\n",
      "Saved 0x1bf63aca0124c9617d99c13ec3c279ff3e76f467.json\n",
      "Saved 0x1bf63aca0124c9617d99c13ec3c279ff3e76f467.hex\n",
      "Saved 0x1bf63aca0124c9617d99c13ec3c279ff3e76f467.sol\n"
     ]
    },
    {
     "name": "stderr",
     "output_type": "stream",
     "text": [
      " 15%|█▍        | 13/87 [01:20<07:23,  6.00s/it]"
     ]
    },
    {
     "name": "stdout",
     "output_type": "stream",
     "text": [
      "Searching in 97 chain...\n",
      "Searching in 56 chain...\n",
      "Searching in 57054 chain...\n",
      "Searching in 146 chain...\n",
      "Searching 0x1c43535d06b494a1d6cb7cb550f5689161303aaa...\n",
      "Searching in 1 chain...\n",
      "Saved 0x1c43535d06b494a1d6cb7cb550f5689161303aaa.json\n",
      "Saved 0x1c43535d06b494a1d6cb7cb550f5689161303aaa.hex\n",
      "Saved 0x1c43535d06b494a1d6cb7cb550f5689161303aaa.sol\n"
     ]
    },
    {
     "name": "stderr",
     "output_type": "stream",
     "text": [
      " 16%|█▌        | 14/87 [01:26<07:10,  5.89s/it]"
     ]
    },
    {
     "name": "stdout",
     "output_type": "stream",
     "text": [
      "Searching in 97 chain...\n",
      "Searching in 56 chain...\n",
      "Searching in 57054 chain...\n",
      "Searching in 146 chain...\n",
      "Searching 0x1cf33ead073351b3fc63c1f4f35dc10791fe6c7c...\n",
      "Searching in 1 chain...\n",
      "Saved 0x1cf33ead073351b3fc63c1f4f35dc10791fe6c7c.json\n",
      "Saved 0x1cf33ead073351b3fc63c1f4f35dc10791fe6c7c.hex\n",
      "Saved 0x1cf33ead073351b3fc63c1f4f35dc10791fe6c7c.sol\n"
     ]
    },
    {
     "name": "stderr",
     "output_type": "stream",
     "text": [
      " 17%|█▋        | 15/87 [01:32<07:01,  5.85s/it]"
     ]
    },
    {
     "name": "stdout",
     "output_type": "stream",
     "text": [
      "Searching in 97 chain...\n",
      "Searching in 56 chain...\n",
      "Searching in 57054 chain...\n",
      "Searching in 146 chain...\n",
      "Searching 0x2ba93f4cce841e5cd0da320e72e62a860cfd6333...\n",
      "Searching in 1 chain...\n",
      "error from get_internal_transactions_by_contract_addr: No transactions found\n",
      "Saved 0x2ba93f4cce841e5cd0da320e72e62a860cfd6333.json\n",
      "Saved 0x2ba93f4cce841e5cd0da320e72e62a860cfd6333.hex\n",
      "Saved 0x2ba93f4cce841e5cd0da320e72e62a860cfd6333.sol\n"
     ]
    },
    {
     "name": "stderr",
     "output_type": "stream",
     "text": [
      " 18%|█▊        | 16/87 [01:37<06:53,  5.82s/it]"
     ]
    },
    {
     "name": "stdout",
     "output_type": "stream",
     "text": [
      "Searching in 97 chain...\n",
      "Searching in 56 chain...\n",
      "Searching in 57054 chain...\n",
      "Searching in 146 chain...\n",
      "Searching 0x2cf02304f36effd519be79850d21335684c6073e...\n",
      "Searching in 1 chain...\n",
      "Saved 0x2cf02304f36effd519be79850d21335684c6073e.json\n",
      "Saved 0x2cf02304f36effd519be79850d21335684c6073e.hex\n",
      "Saved 0x2cf02304f36effd519be79850d21335684c6073e.sol\n"
     ]
    },
    {
     "name": "stderr",
     "output_type": "stream",
     "text": [
      " 20%|█▉        | 17/87 [01:43<06:45,  5.79s/it]"
     ]
    },
    {
     "name": "stdout",
     "output_type": "stream",
     "text": [
      "Searching in 97 chain...\n",
      "Searching in 56 chain...\n",
      "Searching in 57054 chain...\n",
      "Searching in 146 chain...\n",
      "Searching 0x2edb9962e55b470f66a84a568fca1b4e22606bd0...\n",
      "Searching in 1 chain...\n",
      "Saved 0x2edb9962e55b470f66a84a568fca1b4e22606bd0.json\n",
      "Saved 0x2edb9962e55b470f66a84a568fca1b4e22606bd0.hex\n",
      "Saved 0x2edb9962e55b470f66a84a568fca1b4e22606bd0.sol\n"
     ]
    },
    {
     "name": "stderr",
     "output_type": "stream",
     "text": [
      " 21%|██        | 18/87 [01:49<06:34,  5.72s/it]"
     ]
    },
    {
     "name": "stdout",
     "output_type": "stream",
     "text": [
      "Searching in 97 chain...\n",
      "Searching in 56 chain...\n",
      "Searching in 57054 chain...\n",
      "Searching in 146 chain...\n",
      "Searching 0x3052285b4c495afe3fb16967142e864c8f8b6e5f...\n",
      "Searching in 1 chain...\n",
      "error from get_internal_transactions_by_contract_addr: No transactions found\n",
      "Saved 0x3052285b4c495afe3fb16967142e864c8f8b6e5f.json\n",
      "Saved 0x3052285b4c495afe3fb16967142e864c8f8b6e5f.hex\n",
      "Saved 0x3052285b4c495afe3fb16967142e864c8f8b6e5f.sol\n"
     ]
    },
    {
     "name": "stderr",
     "output_type": "stream",
     "text": [
      " 22%|██▏       | 19/87 [01:54<06:25,  5.67s/it]"
     ]
    },
    {
     "name": "stdout",
     "output_type": "stream",
     "text": [
      "Searching in 97 chain...\n",
      "Searching in 56 chain...\n",
      "Searching in 57054 chain...\n",
      "Searching in 146 chain...\n",
      "Searching 0x31dae56a501538eaa6ef37a6b6d6289cb97943d8...\n",
      "Searching in 1 chain...\n",
      "error from get_internal_transactions_by_contract_addr: No transactions found\n",
      "Saved 0x31dae56a501538eaa6ef37a6b6d6289cb97943d8.json\n",
      "Saved 0x31dae56a501538eaa6ef37a6b6d6289cb97943d8.hex\n",
      "Saved 0x31dae56a501538eaa6ef37a6b6d6289cb97943d8.sol\n"
     ]
    },
    {
     "name": "stderr",
     "output_type": "stream",
     "text": [
      " 23%|██▎       | 20/87 [02:00<06:17,  5.64s/it]"
     ]
    },
    {
     "name": "stdout",
     "output_type": "stream",
     "text": [
      "Searching in 97 chain...\n",
      "Searching in 56 chain...\n",
      "Searching in 57054 chain...\n",
      "Searching in 146 chain...\n",
      "Searching 0x32680c305b2e753f0c9c8dfa6e36ba36c68e0801...\n",
      "Searching in 1 chain...\n",
      "Saved 0x32680c305b2e753f0c9c8dfa6e36ba36c68e0801.json\n",
      "Saved 0x32680c305b2e753f0c9c8dfa6e36ba36c68e0801.hex\n",
      "Saved 0x32680c305b2e753f0c9c8dfa6e36ba36c68e0801.sol\n"
     ]
    },
    {
     "name": "stderr",
     "output_type": "stream",
     "text": [
      " 24%|██▍       | 21/87 [02:06<06:27,  5.88s/it]"
     ]
    },
    {
     "name": "stdout",
     "output_type": "stream",
     "text": [
      "Searching in 97 chain...\n",
      "Searching in 56 chain...\n",
      "Searching in 57054 chain...\n",
      "Searching in 146 chain...\n",
      "Searching 0x36b14bae0989f65f80892b99a55378d3e1a80c81...\n",
      "Searching in 1 chain...\n",
      "error from get_events_by_contract_addr: No records found\n",
      "Saved 0x36b14bae0989f65f80892b99a55378d3e1a80c81.json\n",
      "Saved 0x36b14bae0989f65f80892b99a55378d3e1a80c81.hex\n",
      "Saved 0x36b14bae0989f65f80892b99a55378d3e1a80c81.sol\n"
     ]
    },
    {
     "name": "stderr",
     "output_type": "stream",
     "text": [
      " 25%|██▌       | 22/87 [02:14<07:01,  6.48s/it]"
     ]
    },
    {
     "name": "stdout",
     "output_type": "stream",
     "text": [
      "Searching in 97 chain...\n",
      "Searching in 56 chain...\n",
      "Searching in 57054 chain...\n",
      "Searching in 146 chain...\n",
      "Searching 0x3b16fb80ab6ac8562203f3913f58ee0c4dfc08b8...\n",
      "Searching in 1 chain...\n",
      "error from get_internal_transactions_by_contract_addr: No transactions found\n",
      "Saved 0x3b16fb80ab6ac8562203f3913f58ee0c4dfc08b8.json\n",
      "Saved 0x3b16fb80ab6ac8562203f3913f58ee0c4dfc08b8.hex\n",
      "Saved 0x3b16fb80ab6ac8562203f3913f58ee0c4dfc08b8.sol\n"
     ]
    },
    {
     "name": "stderr",
     "output_type": "stream",
     "text": [
      " 26%|██▋       | 23/87 [02:22<07:26,  6.98s/it]"
     ]
    },
    {
     "name": "stdout",
     "output_type": "stream",
     "text": [
      "Searching in 97 chain...\n",
      "Searching in 56 chain...\n",
      "Searching in 57054 chain...\n",
      "Searching in 146 chain...\n",
      "Searching 0x3db616e27576f1e6aa2a58a7d3b5904f27716151...\n",
      "Searching in 1 chain...\n",
      "error from get_internal_transactions_by_contract_addr: No transactions found\n",
      "Saved 0x3db616e27576f1e6aa2a58a7d3b5904f27716151.json\n",
      "Saved 0x3db616e27576f1e6aa2a58a7d3b5904f27716151.hex\n",
      "Saved 0x3db616e27576f1e6aa2a58a7d3b5904f27716151.sol\n"
     ]
    },
    {
     "name": "stderr",
     "output_type": "stream",
     "text": [
      " 28%|██▊       | 24/87 [02:29<07:07,  6.79s/it]"
     ]
    },
    {
     "name": "stdout",
     "output_type": "stream",
     "text": [
      "Searching in 97 chain...\n",
      "Searching in 56 chain...\n",
      "Searching in 57054 chain...\n",
      "Searching in 146 chain...\n",
      "Searching 0x402408bbf7f80d35a72e071453ca2aa6a76f3a54...\n",
      "Searching in 1 chain...\n",
      "error from get_internal_transactions_by_contract_addr: No transactions found\n",
      "Saved 0x402408bbf7f80d35a72e071453ca2aa6a76f3a54.json\n",
      "Saved 0x402408bbf7f80d35a72e071453ca2aa6a76f3a54.hex\n",
      "Saved 0x402408bbf7f80d35a72e071453ca2aa6a76f3a54.sol\n"
     ]
    },
    {
     "name": "stderr",
     "output_type": "stream",
     "text": [
      " 29%|██▊       | 25/87 [02:34<06:39,  6.44s/it]"
     ]
    },
    {
     "name": "stdout",
     "output_type": "stream",
     "text": [
      "Searching in 97 chain...\n",
      "Searching in 56 chain...\n",
      "Searching in 57054 chain...\n",
      "Searching in 146 chain...\n",
      "Searching 0x46043c9093ff4d0a796bd1aee7e80254420368dd...\n",
      "Searching in 1 chain...\n",
      "error from get_internal_transactions_by_contract_addr: No transactions found\n",
      "error from get_events_by_contract_addr: No records found\n",
      "Saved 0x46043c9093ff4d0a796bd1aee7e80254420368dd.json\n",
      "Saved 0x46043c9093ff4d0a796bd1aee7e80254420368dd.hex\n",
      "Saved 0x46043c9093ff4d0a796bd1aee7e80254420368dd.sol\n"
     ]
    },
    {
     "name": "stderr",
     "output_type": "stream",
     "text": [
      " 30%|██▉       | 26/87 [02:40<06:16,  6.17s/it]"
     ]
    },
    {
     "name": "stdout",
     "output_type": "stream",
     "text": [
      "Searching in 97 chain...\n",
      "Searching in 56 chain...\n",
      "Searching in 57054 chain...\n",
      "Searching in 146 chain...\n",
      "Searching 0x48b61132a20954b12b26f9a1cc2cb67e98c4be01...\n",
      "Searching in 1 chain...\n",
      "error from get_internal_transactions_by_contract_addr: No transactions found\n",
      "Saved 0x48b61132a20954b12b26f9a1cc2cb67e98c4be01.json\n",
      "Saved 0x48b61132a20954b12b26f9a1cc2cb67e98c4be01.hex\n",
      "Saved 0x48b61132a20954b12b26f9a1cc2cb67e98c4be01.sol\n"
     ]
    },
    {
     "name": "stderr",
     "output_type": "stream",
     "text": [
      " 31%|███       | 27/87 [02:45<05:59,  5.99s/it]"
     ]
    },
    {
     "name": "stdout",
     "output_type": "stream",
     "text": [
      "Searching in 97 chain...\n",
      "Searching in 56 chain...\n",
      "Searching in 57054 chain...\n",
      "Searching in 146 chain...\n",
      "Searching 0x4a7babfafe46456bc4e965d6fbeaff7f01c8b330...\n",
      "Searching in 1 chain...\n",
      "error from get_internal_transactions_by_contract_addr: No transactions found\n",
      "Saved 0x4a7babfafe46456bc4e965d6fbeaff7f01c8b330.json\n",
      "Saved 0x4a7babfafe46456bc4e965d6fbeaff7f01c8b330.hex\n",
      "Saved 0x4a7babfafe46456bc4e965d6fbeaff7f01c8b330.sol\n"
     ]
    },
    {
     "name": "stderr",
     "output_type": "stream",
     "text": [
      " 32%|███▏      | 28/87 [02:55<06:55,  7.04s/it]"
     ]
    },
    {
     "name": "stdout",
     "output_type": "stream",
     "text": [
      "Searching in 97 chain...\n",
      "Searching in 56 chain...\n",
      "Searching in 57054 chain...\n",
      "Searching in 146 chain...\n",
      "Searching 0x4d81198dc71ffd13917da27d1a3f8599ac690535...\n",
      "Searching in 1 chain...\n",
      "Saved 0x4d81198dc71ffd13917da27d1a3f8599ac690535.json\n",
      "Saved 0x4d81198dc71ffd13917da27d1a3f8599ac690535.hex\n",
      "Saved 0x4d81198dc71ffd13917da27d1a3f8599ac690535.sol\n"
     ]
    },
    {
     "name": "stderr",
     "output_type": "stream",
     "text": [
      " 33%|███▎      | 29/87 [03:01<06:30,  6.74s/it]"
     ]
    },
    {
     "name": "stdout",
     "output_type": "stream",
     "text": [
      "Searching in 97 chain...\n",
      "Searching in 56 chain...\n",
      "Searching in 57054 chain...\n",
      "Searching in 146 chain...\n",
      "Searching 0x4dac1801ffa1534346ce8a1114e9a40ef908d7fd...\n",
      "Searching in 1 chain...\n",
      "Saved 0x4dac1801ffa1534346ce8a1114e9a40ef908d7fd.json\n",
      "Saved 0x4dac1801ffa1534346ce8a1114e9a40ef908d7fd.hex\n",
      "Saved 0x4dac1801ffa1534346ce8a1114e9a40ef908d7fd.sol\n"
     ]
    },
    {
     "name": "stderr",
     "output_type": "stream",
     "text": [
      " 34%|███▍      | 30/87 [03:07<06:04,  6.40s/it]"
     ]
    },
    {
     "name": "stdout",
     "output_type": "stream",
     "text": [
      "Searching in 97 chain...\n",
      "Searching in 56 chain...\n",
      "Searching in 57054 chain...\n",
      "Searching in 146 chain...\n",
      "Searching 0x4e7a34c6c29a4741858a7ec5622cd8be21b0351b...\n",
      "Searching in 1 chain...\n",
      "Saved 0x4e7a34c6c29a4741858a7ec5622cd8be21b0351b.json\n",
      "Saved 0x4e7a34c6c29a4741858a7ec5622cd8be21b0351b.hex\n",
      "Saved 0x4e7a34c6c29a4741858a7ec5622cd8be21b0351b.sol\n"
     ]
    },
    {
     "name": "stderr",
     "output_type": "stream",
     "text": [
      " 36%|███▌      | 31/87 [03:18<07:30,  8.05s/it]"
     ]
    },
    {
     "name": "stdout",
     "output_type": "stream",
     "text": [
      "Searching in 97 chain...\n",
      "Searching in 56 chain...\n",
      "Searching in 57054 chain...\n",
      "Searching in 146 chain...\n",
      "Searching 0x530a9cceee0c45f58229ae5c256e414e6df957ad...\n",
      "Searching in 1 chain...\n",
      "error from get_internal_transactions_by_contract_addr: No transactions found\n",
      "Saved 0x530a9cceee0c45f58229ae5c256e414e6df957ad.json\n",
      "Saved 0x530a9cceee0c45f58229ae5c256e414e6df957ad.hex\n",
      "Saved 0x530a9cceee0c45f58229ae5c256e414e6df957ad.sol\n"
     ]
    },
    {
     "name": "stderr",
     "output_type": "stream",
     "text": [
      " 37%|███▋      | 32/87 [03:24<06:42,  7.31s/it]"
     ]
    },
    {
     "name": "stdout",
     "output_type": "stream",
     "text": [
      "Searching in 97 chain...\n",
      "Searching in 56 chain...\n",
      "Searching in 57054 chain...\n",
      "Searching in 146 chain...\n",
      "Searching 0x5ddfae17814220364f1ce1e19aa11a880f3079b8...\n",
      "Searching in 1 chain...\n",
      "error from get_internal_transactions_by_contract_addr: No transactions found\n",
      "Saved 0x5ddfae17814220364f1ce1e19aa11a880f3079b8.json\n",
      "Saved 0x5ddfae17814220364f1ce1e19aa11a880f3079b8.hex\n",
      "Saved 0x5ddfae17814220364f1ce1e19aa11a880f3079b8.sol\n"
     ]
    },
    {
     "name": "stderr",
     "output_type": "stream",
     "text": [
      " 38%|███▊      | 33/87 [03:30<06:06,  6.78s/it]"
     ]
    },
    {
     "name": "stdout",
     "output_type": "stream",
     "text": [
      "Searching in 97 chain...\n",
      "Searching in 56 chain...\n",
      "Searching in 57054 chain...\n",
      "Searching in 146 chain...\n",
      "Searching 0x5e441b5c140034b179e2fabc96f1a29e14dbc47a...\n",
      "Searching in 1 chain...\n",
      "error from get_internal_transactions_by_contract_addr: No transactions found\n",
      "Saved 0x5e441b5c140034b179e2fabc96f1a29e14dbc47a.json\n",
      "Saved 0x5e441b5c140034b179e2fabc96f1a29e14dbc47a.hex\n",
      "Saved 0x5e441b5c140034b179e2fabc96f1a29e14dbc47a.sol\n"
     ]
    },
    {
     "name": "stderr",
     "output_type": "stream",
     "text": [
      " 39%|███▉      | 34/87 [03:35<05:40,  6.42s/it]"
     ]
    },
    {
     "name": "stdout",
     "output_type": "stream",
     "text": [
      "Searching in 97 chain...\n",
      "Searching in 56 chain...\n",
      "Searching in 57054 chain...\n",
      "Searching in 146 chain...\n",
      "Searching 0x5f236f062f16a9b19819c535127398df9a01d762...\n",
      "Searching in 1 chain...\n",
      "error from get_internal_transactions_by_contract_addr: No transactions found\n",
      "Saved 0x5f236f062f16a9b19819c535127398df9a01d762.json\n",
      "Saved 0x5f236f062f16a9b19819c535127398df9a01d762.hex\n",
      "Saved 0x5f236f062f16a9b19819c535127398df9a01d762.sol\n"
     ]
    },
    {
     "name": "stderr",
     "output_type": "stream",
     "text": [
      " 40%|████      | 35/87 [03:44<06:06,  7.05s/it]"
     ]
    },
    {
     "name": "stdout",
     "output_type": "stream",
     "text": [
      "Searching in 97 chain...\n",
      "Searching in 56 chain...\n",
      "Searching in 57054 chain...\n",
      "Searching in 146 chain...\n",
      "Searching 0x61495573c8433f06443fe0d4846e043efd99a9c6...\n",
      "Searching in 1 chain...\n",
      "error from get_internal_transactions_by_contract_addr: No transactions found\n",
      "Saved 0x61495573c8433f06443fe0d4846e043efd99a9c6.json\n",
      "Saved 0x61495573c8433f06443fe0d4846e043efd99a9c6.hex\n",
      "Saved 0x61495573c8433f06443fe0d4846e043efd99a9c6.sol\n"
     ]
    },
    {
     "name": "stderr",
     "output_type": "stream",
     "text": [
      " 41%|████▏     | 36/87 [03:49<05:37,  6.62s/it]"
     ]
    },
    {
     "name": "stdout",
     "output_type": "stream",
     "text": [
      "Searching in 97 chain...\n",
      "Searching in 56 chain...\n",
      "Searching in 57054 chain...\n",
      "Searching in 146 chain...\n",
      "Searching 0x6580c6a7bb02981d403d25eeb95f45c331a6bf76...\n",
      "Searching in 1 chain...\n",
      "error from get_internal_transactions_by_contract_addr: No transactions found\n",
      "Saved 0x6580c6a7bb02981d403d25eeb95f45c331a6bf76.json\n",
      "Saved 0x6580c6a7bb02981d403d25eeb95f45c331a6bf76.hex\n",
      "Saved 0x6580c6a7bb02981d403d25eeb95f45c331a6bf76.sol\n"
     ]
    },
    {
     "name": "stderr",
     "output_type": "stream",
     "text": [
      " 43%|████▎     | 37/87 [03:55<05:14,  6.30s/it]"
     ]
    },
    {
     "name": "stdout",
     "output_type": "stream",
     "text": [
      "Searching in 97 chain...\n",
      "Searching in 56 chain...\n",
      "Searching in 57054 chain...\n",
      "Searching in 146 chain...\n",
      "Searching 0x666c549f5a01167f1aa19bb68be552441f520895...\n",
      "Searching in 1 chain...\n",
      "Saved 0x666c549f5a01167f1aa19bb68be552441f520895.json\n",
      "Saved 0x666c549f5a01167f1aa19bb68be552441f520895.hex\n",
      "Saved 0x666c549f5a01167f1aa19bb68be552441f520895.sol\n"
     ]
    },
    {
     "name": "stderr",
     "output_type": "stream",
     "text": [
      " 44%|████▎     | 38/87 [04:01<05:05,  6.24s/it]"
     ]
    },
    {
     "name": "stdout",
     "output_type": "stream",
     "text": [
      "Searching in 97 chain...\n",
      "Searching in 56 chain...\n",
      "Searching in 57054 chain...\n",
      "Searching in 146 chain...\n",
      "Searching 0x6b9ee9e79bb893d394da79e2ea51685d1855318e...\n",
      "Searching in 1 chain...\n",
      "error from get_internal_transactions_by_contract_addr: No transactions found\n",
      "Saved 0x6b9ee9e79bb893d394da79e2ea51685d1855318e.json\n",
      "Saved 0x6b9ee9e79bb893d394da79e2ea51685d1855318e.hex\n",
      "Saved 0x6b9ee9e79bb893d394da79e2ea51685d1855318e.sol\n"
     ]
    },
    {
     "name": "stderr",
     "output_type": "stream",
     "text": [
      " 45%|████▍     | 39/87 [04:07<04:51,  6.07s/it]"
     ]
    },
    {
     "name": "stdout",
     "output_type": "stream",
     "text": [
      "Searching in 97 chain...\n",
      "Searching in 56 chain...\n",
      "Searching in 57054 chain...\n",
      "Searching in 146 chain...\n",
      "Searching 0x6cd574e51524fe7ac6175bff2c449aab482bc5b4...\n",
      "Searching in 1 chain...\n",
      "error from get_events_by_contract_addr: No records found\n",
      "Saved 0x6cd574e51524fe7ac6175bff2c449aab482bc5b4.json\n",
      "Saved 0x6cd574e51524fe7ac6175bff2c449aab482bc5b4.hex\n",
      "Saved 0x6cd574e51524fe7ac6175bff2c449aab482bc5b4.sol\n"
     ]
    },
    {
     "name": "stderr",
     "output_type": "stream",
     "text": [
      " 46%|████▌     | 40/87 [04:12<04:37,  5.91s/it]"
     ]
    },
    {
     "name": "stdout",
     "output_type": "stream",
     "text": [
      "Searching in 97 chain...\n",
      "Searching in 56 chain...\n",
      "Searching in 57054 chain...\n",
      "Searching in 146 chain...\n",
      "Searching 0x6ce8b8eed077f9b49c1fa684008ebb7562bb41ad...\n",
      "Searching in 1 chain...\n",
      "error from get_internal_transactions_by_contract_addr: No transactions found\n",
      "error from get_events_by_contract_addr: No records found\n",
      "Saved 0x6ce8b8eed077f9b49c1fa684008ebb7562bb41ad.json\n",
      "Saved 0x6ce8b8eed077f9b49c1fa684008ebb7562bb41ad.hex\n",
      "Saved 0x6ce8b8eed077f9b49c1fa684008ebb7562bb41ad.sol\n"
     ]
    },
    {
     "name": "stderr",
     "output_type": "stream",
     "text": [
      " 47%|████▋     | 41/87 [04:18<04:26,  5.79s/it]"
     ]
    },
    {
     "name": "stdout",
     "output_type": "stream",
     "text": [
      "Searching in 97 chain...\n",
      "Searching in 56 chain...\n",
      "Searching in 57054 chain...\n",
      "Searching in 146 chain...\n",
      "Searching 0x6e5db36f85492b20153eb8165e19dea1387345df...\n",
      "Searching in 1 chain...\n",
      "Saved 0x6e5db36f85492b20153eb8165e19dea1387345df.json\n",
      "Saved 0x6e5db36f85492b20153eb8165e19dea1387345df.hex\n",
      "Saved 0x6e5db36f85492b20153eb8165e19dea1387345df.sol\n"
     ]
    },
    {
     "name": "stderr",
     "output_type": "stream",
     "text": [
      " 48%|████▊     | 42/87 [04:24<04:23,  5.86s/it]"
     ]
    },
    {
     "name": "stdout",
     "output_type": "stream",
     "text": [
      "Searching in 97 chain...\n",
      "Searching in 56 chain...\n",
      "Searching in 57054 chain...\n",
      "Searching in 146 chain...\n",
      "Searching 0x6f7ad850ef94320cb88f5ae66e5eb8244e81c949...\n",
      "Searching in 1 chain...\n",
      "error from get_internal_transactions_by_contract_addr: No transactions found\n",
      "Saved 0x6f7ad850ef94320cb88f5ae66e5eb8244e81c949.json\n",
      "Saved 0x6f7ad850ef94320cb88f5ae66e5eb8244e81c949.hex\n",
      "Saved 0x6f7ad850ef94320cb88f5ae66e5eb8244e81c949.sol\n"
     ]
    },
    {
     "name": "stderr",
     "output_type": "stream",
     "text": [
      " 49%|████▉     | 43/87 [04:29<04:14,  5.79s/it]"
     ]
    },
    {
     "name": "stdout",
     "output_type": "stream",
     "text": [
      "Searching in 97 chain...\n",
      "Searching in 56 chain...\n",
      "Searching in 57054 chain...\n",
      "Searching in 146 chain...\n",
      "Searching 0x74a30d0ca07771fbd450ef4ded357e2e688ee59f...\n",
      "Searching in 1 chain...\n",
      "Saved 0x74a30d0ca07771fbd450ef4ded357e2e688ee59f.json\n",
      "Saved 0x74a30d0ca07771fbd450ef4ded357e2e688ee59f.hex\n",
      "Saved 0x74a30d0ca07771fbd450ef4ded357e2e688ee59f.sol\n"
     ]
    },
    {
     "name": "stderr",
     "output_type": "stream",
     "text": [
      " 51%|█████     | 44/87 [04:35<04:08,  5.77s/it]"
     ]
    },
    {
     "name": "stdout",
     "output_type": "stream",
     "text": [
      "Searching in 97 chain...\n",
      "Searching in 56 chain...\n",
      "Searching in 57054 chain...\n",
      "Searching in 146 chain...\n",
      "Searching 0x76bc9e61a1904b82cbf70d1fd9c0f8a120483bbb...\n",
      "Searching in 1 chain...\n",
      "Saved 0x76bc9e61a1904b82cbf70d1fd9c0f8a120483bbb.json\n",
      "Saved 0x76bc9e61a1904b82cbf70d1fd9c0f8a120483bbb.hex\n",
      "Saved 0x76bc9e61a1904b82cbf70d1fd9c0f8a120483bbb.sol\n"
     ]
    },
    {
     "name": "stderr",
     "output_type": "stream",
     "text": [
      " 52%|█████▏    | 45/87 [04:42<04:21,  6.23s/it]"
     ]
    },
    {
     "name": "stdout",
     "output_type": "stream",
     "text": [
      "Searching in 97 chain...\n",
      "Searching in 56 chain...\n",
      "Searching in 57054 chain...\n",
      "Searching in 146 chain...\n",
      "Searching 0x7723737d529c2b42e4d218ad7e0a20354fbc7071...\n",
      "Searching in 1 chain...\n",
      "error from get_internal_transactions_by_contract_addr: No transactions found\n",
      "Saved 0x7723737d529c2b42e4d218ad7e0a20354fbc7071.json\n",
      "Saved 0x7723737d529c2b42e4d218ad7e0a20354fbc7071.hex\n",
      "Saved 0x7723737d529c2b42e4d218ad7e0a20354fbc7071.sol\n"
     ]
    },
    {
     "name": "stderr",
     "output_type": "stream",
     "text": [
      " 53%|█████▎    | 46/87 [04:51<04:40,  6.85s/it]"
     ]
    },
    {
     "name": "stdout",
     "output_type": "stream",
     "text": [
      "Searching in 97 chain...\n",
      "Searching in 56 chain...\n",
      "Searching in 57054 chain...\n",
      "Searching in 146 chain...\n",
      "Searching 0x7d227fe3c5885c3875180e03c548d09ebe1b0119...\n",
      "Searching in 1 chain...\n",
      "error from get_internal_transactions_by_contract_addr: No transactions found\n",
      "Saved 0x7d227fe3c5885c3875180e03c548d09ebe1b0119.json\n",
      "Saved 0x7d227fe3c5885c3875180e03c548d09ebe1b0119.hex\n",
      "Saved 0x7d227fe3c5885c3875180e03c548d09ebe1b0119.sol\n"
     ]
    },
    {
     "name": "stderr",
     "output_type": "stream",
     "text": [
      " 54%|█████▍    | 47/87 [04:56<04:18,  6.47s/it]"
     ]
    },
    {
     "name": "stdout",
     "output_type": "stream",
     "text": [
      "Searching in 97 chain...\n",
      "Searching in 56 chain...\n",
      "Searching in 57054 chain...\n",
      "Searching in 146 chain...\n",
      "Searching 0x7d88463cc6d0ba403d302204236898414db3251a...\n",
      "Searching in 1 chain...\n",
      "error from get_internal_transactions_by_contract_addr: No transactions found\n",
      "Saved 0x7d88463cc6d0ba403d302204236898414db3251a.json\n",
      "Saved 0x7d88463cc6d0ba403d302204236898414db3251a.hex\n",
      "Saved 0x7d88463cc6d0ba403d302204236898414db3251a.sol\n"
     ]
    },
    {
     "name": "stderr",
     "output_type": "stream",
     "text": [
      " 55%|█████▌    | 48/87 [05:02<04:02,  6.23s/it]"
     ]
    },
    {
     "name": "stdout",
     "output_type": "stream",
     "text": [
      "Searching in 97 chain...\n",
      "Searching in 56 chain...\n",
      "Searching in 57054 chain...\n",
      "Searching in 146 chain...\n",
      "Searching 0x818ebd30145c9d7c697978bf24c905d9e8a194ec...\n",
      "Searching in 1 chain...\n",
      "Saved 0x818ebd30145c9d7c697978bf24c905d9e8a194ec.json\n",
      "Saved 0x818ebd30145c9d7c697978bf24c905d9e8a194ec.hex\n",
      "Saved 0x818ebd30145c9d7c697978bf24c905d9e8a194ec.sol\n"
     ]
    },
    {
     "name": "stderr",
     "output_type": "stream",
     "text": [
      " 56%|█████▋    | 49/87 [05:07<03:49,  6.03s/it]"
     ]
    },
    {
     "name": "stdout",
     "output_type": "stream",
     "text": [
      "Searching in 97 chain...\n",
      "Searching in 56 chain...\n",
      "Searching in 57054 chain...\n",
      "Searching in 146 chain...\n",
      "Searching 0x862ba4ae01bdb9dd69877976eefccc267b5b7b82...\n",
      "Searching in 1 chain...\n",
      "error from get_internal_transactions_by_contract_addr: No transactions found\n",
      "Saved 0x862ba4ae01bdb9dd69877976eefccc267b5b7b82.json\n",
      "Saved 0x862ba4ae01bdb9dd69877976eefccc267b5b7b82.hex\n",
      "Saved 0x862ba4ae01bdb9dd69877976eefccc267b5b7b82.sol\n"
     ]
    },
    {
     "name": "stderr",
     "output_type": "stream",
     "text": [
      " 57%|█████▋    | 50/87 [05:13<03:37,  5.89s/it]"
     ]
    },
    {
     "name": "stdout",
     "output_type": "stream",
     "text": [
      "Searching in 97 chain...\n",
      "Searching in 56 chain...\n",
      "Searching in 57054 chain...\n",
      "Searching in 146 chain...\n",
      "Searching 0x8a52499ff8c65cedd4d7ccc283a0dab6df285fe2...\n",
      "Searching in 1 chain...\n",
      "error from get_internal_transactions_by_contract_addr: No transactions found\n",
      "Saved 0x8a52499ff8c65cedd4d7ccc283a0dab6df285fe2.json\n",
      "Saved 0x8a52499ff8c65cedd4d7ccc283a0dab6df285fe2.hex\n",
      "Saved 0x8a52499ff8c65cedd4d7ccc283a0dab6df285fe2.sol\n"
     ]
    },
    {
     "name": "stderr",
     "output_type": "stream",
     "text": [
      " 59%|█████▊    | 51/87 [05:19<03:28,  5.80s/it]"
     ]
    },
    {
     "name": "stdout",
     "output_type": "stream",
     "text": [
      "Searching in 97 chain...\n",
      "Searching in 56 chain...\n",
      "Searching in 57054 chain...\n",
      "Searching in 146 chain...\n",
      "Searching 0x9241b4c67b6cdf9b99f5f50de21283d0441eff75...\n",
      "Searching in 1 chain...\n",
      "error from get_internal_transactions_by_contract_addr: No transactions found\n",
      "Saved 0x9241b4c67b6cdf9b99f5f50de21283d0441eff75.json\n",
      "Saved 0x9241b4c67b6cdf9b99f5f50de21283d0441eff75.hex\n",
      "Saved 0x9241b4c67b6cdf9b99f5f50de21283d0441eff75.sol\n"
     ]
    },
    {
     "name": "stderr",
     "output_type": "stream",
     "text": [
      " 60%|█████▉    | 52/87 [05:24<03:21,  5.76s/it]"
     ]
    },
    {
     "name": "stdout",
     "output_type": "stream",
     "text": [
      "Searching in 97 chain...\n",
      "Searching in 56 chain...\n",
      "Searching in 57054 chain...\n",
      "Searching in 146 chain...\n",
      "Searching 0x964bc602ee118f13090c69a670032e506d66f457...\n",
      "Searching in 1 chain...\n",
      "error from get_internal_transactions_by_contract_addr: No transactions found\n",
      "Saved 0x964bc602ee118f13090c69a670032e506d66f457.json\n",
      "Saved 0x964bc602ee118f13090c69a670032e506d66f457.hex\n",
      "Saved 0x964bc602ee118f13090c69a670032e506d66f457.sol\n"
     ]
    },
    {
     "name": "stderr",
     "output_type": "stream",
     "text": [
      " 61%|██████    | 53/87 [05:30<03:13,  5.70s/it]"
     ]
    },
    {
     "name": "stdout",
     "output_type": "stream",
     "text": [
      "Searching in 97 chain...\n",
      "Searching in 56 chain...\n",
      "Searching in 57054 chain...\n",
      "Searching in 146 chain...\n",
      "Searching 0x97fe19dfab95b1709bb0994af18ba7f793e28cba...\n",
      "Searching in 1 chain...\n",
      "error from get_internal_transactions_by_contract_addr: No transactions found\n",
      "Saved 0x97fe19dfab95b1709bb0994af18ba7f793e28cba.json\n",
      "Saved 0x97fe19dfab95b1709bb0994af18ba7f793e28cba.hex\n",
      "Saved 0x97fe19dfab95b1709bb0994af18ba7f793e28cba.sol\n"
     ]
    },
    {
     "name": "stderr",
     "output_type": "stream",
     "text": [
      " 62%|██████▏   | 54/87 [05:35<03:06,  5.67s/it]"
     ]
    },
    {
     "name": "stdout",
     "output_type": "stream",
     "text": [
      "Searching in 97 chain...\n",
      "Searching in 56 chain...\n",
      "Searching in 57054 chain...\n",
      "Searching in 146 chain...\n",
      "Searching 0x99d3dcf7febd2bb968b3fe7baa1a9a36546d9293...\n",
      "Searching in 1 chain...\n",
      "error from get_internal_transactions_by_contract_addr: No transactions found\n",
      "Saved 0x99d3dcf7febd2bb968b3fe7baa1a9a36546d9293.json\n",
      "Saved 0x99d3dcf7febd2bb968b3fe7baa1a9a36546d9293.hex\n",
      "Saved 0x99d3dcf7febd2bb968b3fe7baa1a9a36546d9293.sol\n"
     ]
    },
    {
     "name": "stderr",
     "output_type": "stream",
     "text": [
      " 63%|██████▎   | 55/87 [05:41<03:00,  5.65s/it]"
     ]
    },
    {
     "name": "stdout",
     "output_type": "stream",
     "text": [
      "Searching in 97 chain...\n",
      "Searching in 56 chain...\n",
      "Searching in 57054 chain...\n",
      "Searching in 146 chain...\n",
      "Searching 0x9e3c595e72294eea8a100c63d7c8bf4c4430ee97...\n",
      "Searching in 1 chain...\n",
      "Saved 0x9e3c595e72294eea8a100c63d7c8bf4c4430ee97.json\n",
      "Saved 0x9e3c595e72294eea8a100c63d7c8bf4c4430ee97.hex\n",
      "Saved 0x9e3c595e72294eea8a100c63d7c8bf4c4430ee97.sol\n"
     ]
    },
    {
     "name": "stderr",
     "output_type": "stream",
     "text": [
      " 64%|██████▍   | 56/87 [05:47<03:00,  5.81s/it]"
     ]
    },
    {
     "name": "stdout",
     "output_type": "stream",
     "text": [
      "Searching in 97 chain...\n",
      "Searching in 56 chain...\n",
      "Searching in 57054 chain...\n",
      "Searching in 146 chain...\n",
      "Searching 0xa5dd8cde486436f0cfd62652952e1fcec5a61cae...\n",
      "Searching in 1 chain...\n",
      "Saved 0xa5dd8cde486436f0cfd62652952e1fcec5a61cae.json\n",
      "Saved 0xa5dd8cde486436f0cfd62652952e1fcec5a61cae.hex\n",
      "Saved 0xa5dd8cde486436f0cfd62652952e1fcec5a61cae.sol\n"
     ]
    },
    {
     "name": "stderr",
     "output_type": "stream",
     "text": [
      " 66%|██████▌   | 57/87 [05:53<02:52,  5.74s/it]"
     ]
    },
    {
     "name": "stdout",
     "output_type": "stream",
     "text": [
      "Searching in 97 chain...\n",
      "Searching in 56 chain...\n",
      "Searching in 57054 chain...\n",
      "Searching in 146 chain...\n",
      "Searching 0xa99f34b4672ff3a9837fd93dea375ccfbb83c89a...\n",
      "Searching in 1 chain...\n",
      "error from get_internal_transactions_by_contract_addr: No transactions found\n",
      "Saved 0xa99f34b4672ff3a9837fd93dea375ccfbb83c89a.json\n",
      "Saved 0xa99f34b4672ff3a9837fd93dea375ccfbb83c89a.hex\n",
      "Saved 0xa99f34b4672ff3a9837fd93dea375ccfbb83c89a.sol\n"
     ]
    },
    {
     "name": "stderr",
     "output_type": "stream",
     "text": [
      " 67%|██████▋   | 58/87 [06:00<02:57,  6.12s/it]"
     ]
    },
    {
     "name": "stdout",
     "output_type": "stream",
     "text": [
      "Searching in 97 chain...\n",
      "Searching in 56 chain...\n",
      "Searching in 57054 chain...\n",
      "Searching in 146 chain...\n",
      "Searching 0xac4bf53936aedacbfd02c334be90bf2c79f063b9...\n",
      "Searching in 1 chain...\n",
      "error from get_internal_transactions_by_contract_addr: No transactions found\n",
      "error from get_events_by_contract_addr: No records found\n",
      "Saved 0xac4bf53936aedacbfd02c334be90bf2c79f063b9.json\n",
      "Saved 0xac4bf53936aedacbfd02c334be90bf2c79f063b9.hex\n",
      "Saved 0xac4bf53936aedacbfd02c334be90bf2c79f063b9.sol\n"
     ]
    },
    {
     "name": "stderr",
     "output_type": "stream",
     "text": [
      " 68%|██████▊   | 59/87 [06:06<02:50,  6.10s/it]"
     ]
    },
    {
     "name": "stdout",
     "output_type": "stream",
     "text": [
      "Searching in 97 chain...\n",
      "Searching in 56 chain...\n",
      "Searching in 57054 chain...\n",
      "Searching in 146 chain...\n",
      "Searching 0xaf7002581c95e18f0803136aff93a9040956b068...\n",
      "Searching in 1 chain...\n",
      "error from get_internal_transactions_by_contract_addr: No transactions found\n",
      "Saved 0xaf7002581c95e18f0803136aff93a9040956b068.json\n",
      "Saved 0xaf7002581c95e18f0803136aff93a9040956b068.hex\n",
      "Saved 0xaf7002581c95e18f0803136aff93a9040956b068.sol\n"
     ]
    },
    {
     "name": "stderr",
     "output_type": "stream",
     "text": [
      " 69%|██████▉   | 60/87 [06:11<02:40,  5.95s/it]"
     ]
    },
    {
     "name": "stdout",
     "output_type": "stream",
     "text": [
      "Searching in 97 chain...\n",
      "Searching in 56 chain...\n",
      "Searching in 57054 chain...\n",
      "Searching in 146 chain...\n",
      "Searching 0xb41f09a973a85c7f497c10b00a939de667b55a78...\n",
      "Searching in 1 chain...\n",
      "Saved 0xb41f09a973a85c7f497c10b00a939de667b55a78.json\n",
      "Saved 0xb41f09a973a85c7f497c10b00a939de667b55a78.hex\n",
      "Saved 0xb41f09a973a85c7f497c10b00a939de667b55a78.sol\n"
     ]
    },
    {
     "name": "stderr",
     "output_type": "stream",
     "text": [
      " 70%|███████   | 61/87 [06:20<02:53,  6.66s/it]"
     ]
    },
    {
     "name": "stdout",
     "output_type": "stream",
     "text": [
      "Searching in 97 chain...\n",
      "Searching in 56 chain...\n",
      "Searching in 57054 chain...\n",
      "Searching in 146 chain...\n",
      "Searching 0xb7fe7b2b723020cf668db4f78992d10f81990fc4...\n",
      "Searching in 1 chain...\n",
      "error from get_internal_transactions_by_contract_addr: No transactions found\n",
      "Saved 0xb7fe7b2b723020cf668db4f78992d10f81990fc4.json\n",
      "Saved 0xb7fe7b2b723020cf668db4f78992d10f81990fc4.hex\n",
      "Saved 0xb7fe7b2b723020cf668db4f78992d10f81990fc4.sol\n"
     ]
    },
    {
     "name": "stderr",
     "output_type": "stream",
     "text": [
      " 71%|███████▏  | 62/87 [06:25<02:38,  6.34s/it]"
     ]
    },
    {
     "name": "stdout",
     "output_type": "stream",
     "text": [
      "Searching in 97 chain...\n",
      "Searching in 56 chain...\n",
      "Searching in 57054 chain...\n",
      "Searching in 146 chain...\n",
      "Searching 0xb9aac097f4dadcd6f06761eb470346415ef28d5a...\n",
      "Searching in 1 chain...\n",
      "Saved 0xb9aac097f4dadcd6f06761eb470346415ef28d5a.json\n",
      "Saved 0xb9aac097f4dadcd6f06761eb470346415ef28d5a.hex\n",
      "Saved 0xb9aac097f4dadcd6f06761eb470346415ef28d5a.sol\n"
     ]
    },
    {
     "name": "stderr",
     "output_type": "stream",
     "text": [
      " 72%|███████▏  | 63/87 [06:33<02:44,  6.85s/it]"
     ]
    },
    {
     "name": "stdout",
     "output_type": "stream",
     "text": [
      "Searching in 97 chain...\n",
      "Searching in 56 chain...\n",
      "Searching in 57054 chain...\n",
      "Searching in 146 chain...\n",
      "Searching 0xbaf2eb5ef3b3f71a49b971bb125b7ed2ccdad297...\n",
      "Searching in 1 chain...\n",
      "error from get_internal_transactions_by_contract_addr: No transactions found\n",
      "Saved 0xbaf2eb5ef3b3f71a49b971bb125b7ed2ccdad297.json\n",
      "Saved 0xbaf2eb5ef3b3f71a49b971bb125b7ed2ccdad297.hex\n",
      "Saved 0xbaf2eb5ef3b3f71a49b971bb125b7ed2ccdad297.sol\n"
     ]
    },
    {
     "name": "stderr",
     "output_type": "stream",
     "text": [
      " 74%|███████▎  | 64/87 [06:39<02:29,  6.50s/it]"
     ]
    },
    {
     "name": "stdout",
     "output_type": "stream",
     "text": [
      "Searching in 97 chain...\n",
      "Searching in 56 chain...\n",
      "Searching in 57054 chain...\n",
      "Searching in 146 chain...\n",
      "Searching 0xbf001adcb04089dddedcab714f3b4d34ee6d56dc...\n",
      "Searching in 1 chain...\n",
      "error from get_internal_transactions_by_contract_addr: No transactions found\n",
      "Saved 0xbf001adcb04089dddedcab714f3b4d34ee6d56dc.json\n",
      "Saved 0xbf001adcb04089dddedcab714f3b4d34ee6d56dc.hex\n",
      "Saved 0xbf001adcb04089dddedcab714f3b4d34ee6d56dc.sol\n"
     ]
    },
    {
     "name": "stderr",
     "output_type": "stream",
     "text": [
      " 75%|███████▍  | 65/87 [06:45<02:17,  6.26s/it]"
     ]
    },
    {
     "name": "stdout",
     "output_type": "stream",
     "text": [
      "Searching in 97 chain...\n",
      "Searching in 56 chain...\n",
      "Searching in 57054 chain...\n",
      "Searching in 146 chain...\n",
      "Searching 0xc2bc886b5d61f8ae9a916de9e31199e86ad1f007...\n",
      "Searching in 1 chain...\n",
      "error from get_internal_transactions_by_contract_addr: No transactions found\n",
      "Saved 0xc2bc886b5d61f8ae9a916de9e31199e86ad1f007.json\n",
      "Saved 0xc2bc886b5d61f8ae9a916de9e31199e86ad1f007.hex\n",
      "Saved 0xc2bc886b5d61f8ae9a916de9e31199e86ad1f007.sol\n"
     ]
    },
    {
     "name": "stderr",
     "output_type": "stream",
     "text": [
      " 76%|███████▌  | 66/87 [06:51<02:09,  6.18s/it]"
     ]
    },
    {
     "name": "stdout",
     "output_type": "stream",
     "text": [
      "Searching in 97 chain...\n",
      "Searching in 56 chain...\n",
      "Searching in 57054 chain...\n",
      "Searching in 146 chain...\n",
      "Searching 0xc310755f88145cabcaa06c714cd668b5465dceaa...\n",
      "Searching in 1 chain...\n",
      "error from get_internal_transactions_by_contract_addr: No transactions found\n",
      "Saved 0xc310755f88145cabcaa06c714cd668b5465dceaa.json\n",
      "Saved 0xc310755f88145cabcaa06c714cd668b5465dceaa.hex\n",
      "Saved 0xc310755f88145cabcaa06c714cd668b5465dceaa.sol\n"
     ]
    },
    {
     "name": "stderr",
     "output_type": "stream",
     "text": [
      " 77%|███████▋  | 67/87 [06:57<02:06,  6.32s/it]"
     ]
    },
    {
     "name": "stdout",
     "output_type": "stream",
     "text": [
      "Searching in 97 chain...\n",
      "Searching in 56 chain...\n",
      "Searching in 57054 chain...\n",
      "Searching in 146 chain...\n",
      "Searching 0xcda36122909f77bca1cc45371335627e4e488e6e...\n",
      "Searching in 1 chain...\n",
      "error from get_internal_transactions_by_contract_addr: No transactions found\n",
      "Saved 0xcda36122909f77bca1cc45371335627e4e488e6e.json\n",
      "Saved 0xcda36122909f77bca1cc45371335627e4e488e6e.hex\n",
      "Saved 0xcda36122909f77bca1cc45371335627e4e488e6e.sol\n"
     ]
    },
    {
     "name": "stderr",
     "output_type": "stream",
     "text": [
      " 78%|███████▊  | 68/87 [07:03<01:57,  6.19s/it]"
     ]
    },
    {
     "name": "stdout",
     "output_type": "stream",
     "text": [
      "Searching in 97 chain...\n",
      "Searching in 56 chain...\n",
      "Searching in 57054 chain...\n",
      "Searching in 146 chain...\n",
      "Searching 0xd0faa64b3de3ceca7ddf5d47cc2a13b1f208cb01...\n",
      "Searching in 1 chain...\n",
      "error from get_events_by_contract_addr: No records found\n",
      "Saved 0xd0faa64b3de3ceca7ddf5d47cc2a13b1f208cb01.json\n",
      "Saved 0xd0faa64b3de3ceca7ddf5d47cc2a13b1f208cb01.hex\n",
      "Saved 0xd0faa64b3de3ceca7ddf5d47cc2a13b1f208cb01.sol\n"
     ]
    },
    {
     "name": "stderr",
     "output_type": "stream",
     "text": [
      " 79%|███████▉  | 69/87 [07:09<01:48,  6.02s/it]"
     ]
    },
    {
     "name": "stdout",
     "output_type": "stream",
     "text": [
      "Searching in 97 chain...\n",
      "Searching in 56 chain...\n",
      "Searching in 57054 chain...\n",
      "Searching in 146 chain...\n",
      "Searching 0xd1b24eb6a8318008afd9f89c49980b9bd5c64ac4...\n",
      "Searching in 1 chain...\n",
      "Saved 0xd1b24eb6a8318008afd9f89c49980b9bd5c64ac4.json\n",
      "Saved 0xd1b24eb6a8318008afd9f89c49980b9bd5c64ac4.hex\n",
      "Saved 0xd1b24eb6a8318008afd9f89c49980b9bd5c64ac4.sol\n"
     ]
    },
    {
     "name": "stderr",
     "output_type": "stream",
     "text": [
      " 80%|████████  | 70/87 [07:16<01:47,  6.33s/it]"
     ]
    },
    {
     "name": "stdout",
     "output_type": "stream",
     "text": [
      "Searching in 97 chain...\n",
      "Searching in 56 chain...\n",
      "Searching in 57054 chain...\n",
      "Searching in 146 chain...\n",
      "Searching 0xd244ff971a90e3d44593e0dfce3c67a8df0a1eb9...\n",
      "Searching in 1 chain...\n",
      "error from get_internal_transactions_by_contract_addr: No transactions found\n",
      "Saved 0xd244ff971a90e3d44593e0dfce3c67a8df0a1eb9.json\n",
      "Saved 0xd244ff971a90e3d44593e0dfce3c67a8df0a1eb9.hex\n",
      "Saved 0xd244ff971a90e3d44593e0dfce3c67a8df0a1eb9.sol\n"
     ]
    },
    {
     "name": "stderr",
     "output_type": "stream",
     "text": [
      " 82%|████████▏ | 71/87 [07:22<01:37,  6.11s/it]"
     ]
    },
    {
     "name": "stdout",
     "output_type": "stream",
     "text": [
      "Searching in 97 chain...\n",
      "Searching in 56 chain...\n",
      "Searching in 57054 chain...\n",
      "Searching in 146 chain...\n",
      "Searching 0xd7c05d4015599b33d8225a69f14cd561f27177eb...\n",
      "Searching in 1 chain...\n",
      "error from get_events_by_contract_addr: No records found\n",
      "Saved 0xd7c05d4015599b33d8225a69f14cd561f27177eb.json\n",
      "Saved 0xd7c05d4015599b33d8225a69f14cd561f27177eb.hex\n",
      "Saved 0xd7c05d4015599b33d8225a69f14cd561f27177eb.sol\n"
     ]
    },
    {
     "name": "stderr",
     "output_type": "stream",
     "text": [
      " 83%|████████▎ | 72/87 [07:27<01:28,  5.93s/it]"
     ]
    },
    {
     "name": "stdout",
     "output_type": "stream",
     "text": [
      "Searching in 97 chain...\n",
      "Searching in 56 chain...\n",
      "Searching in 57054 chain...\n",
      "Searching in 146 chain...\n",
      "Searching 0xd989b2df7d86613ea440ffa33394dc7ba48d6c31...\n",
      "Searching in 1 chain...\n",
      "error from get_events_by_contract_addr: No records found\n",
      "Saved 0xd989b2df7d86613ea440ffa33394dc7ba48d6c31.json\n",
      "Saved 0xd989b2df7d86613ea440ffa33394dc7ba48d6c31.hex\n",
      "Saved 0xd989b2df7d86613ea440ffa33394dc7ba48d6c31.sol\n"
     ]
    },
    {
     "name": "stderr",
     "output_type": "stream",
     "text": [
      " 84%|████████▍ | 73/87 [07:33<01:21,  5.84s/it]"
     ]
    },
    {
     "name": "stdout",
     "output_type": "stream",
     "text": [
      "Searching in 97 chain...\n",
      "Searching in 56 chain...\n",
      "Searching in 57054 chain...\n",
      "Searching in 146 chain...\n",
      "Searching 0xdd007278b667f6bef52fd0a4c23604aa1f96039a...\n",
      "Searching in 1 chain...\n",
      "error from get_internal_transactions_by_contract_addr: No transactions found\n",
      "Saved 0xdd007278b667f6bef52fd0a4c23604aa1f96039a.json\n",
      "Saved 0xdd007278b667f6bef52fd0a4c23604aa1f96039a.hex\n",
      "Saved 0xdd007278b667f6bef52fd0a4c23604aa1f96039a.sol\n"
     ]
    },
    {
     "name": "stderr",
     "output_type": "stream",
     "text": [
      " 85%|████████▌ | 74/87 [07:40<01:19,  6.12s/it]"
     ]
    },
    {
     "name": "stdout",
     "output_type": "stream",
     "text": [
      "Searching in 97 chain...\n",
      "Searching in 56 chain...\n",
      "Searching in 57054 chain...\n",
      "Searching in 146 chain...\n",
      "Searching 0xdd2ee38f9993c0bc1c1b5b9798bc4deff66cac4a...\n",
      "Searching in 1 chain...\n",
      "error from get_events_by_contract_addr: No records found\n",
      "Saved 0xdd2ee38f9993c0bc1c1b5b9798bc4deff66cac4a.json\n",
      "Saved 0xdd2ee38f9993c0bc1c1b5b9798bc4deff66cac4a.hex\n",
      "Saved 0xdd2ee38f9993c0bc1c1b5b9798bc4deff66cac4a.sol\n"
     ]
    },
    {
     "name": "stderr",
     "output_type": "stream",
     "text": [
      " 86%|████████▌ | 75/87 [07:45<01:12,  6.02s/it]"
     ]
    },
    {
     "name": "stdout",
     "output_type": "stream",
     "text": [
      "Searching in 97 chain...\n",
      "Searching in 56 chain...\n",
      "Searching in 57054 chain...\n",
      "Searching in 146 chain...\n",
      "Searching 0xdd35e7c2471f958281f08e1a000285ef3ae9e816...\n",
      "Searching in 1 chain...\n",
      "Saved 0xdd35e7c2471f958281f08e1a000285ef3ae9e816.json\n",
      "Saved 0xdd35e7c2471f958281f08e1a000285ef3ae9e816.hex\n",
      "Saved 0xdd35e7c2471f958281f08e1a000285ef3ae9e816.sol\n"
     ]
    },
    {
     "name": "stderr",
     "output_type": "stream",
     "text": [
      " 87%|████████▋ | 76/87 [07:51<01:06,  6.07s/it]"
     ]
    },
    {
     "name": "stdout",
     "output_type": "stream",
     "text": [
      "Searching in 97 chain...\n",
      "Searching in 56 chain...\n",
      "Searching in 57054 chain...\n",
      "Searching in 146 chain...\n",
      "Searching 0xdeb2aa0478b2758e81d75a896e1257d3984d30d5...\n",
      "Searching in 1 chain...\n",
      "error from get_internal_transactions_by_contract_addr: No transactions found\n",
      "error from get_events_by_contract_addr: No records found\n",
      "Saved 0xdeb2aa0478b2758e81d75a896e1257d3984d30d5.json\n",
      "Saved 0xdeb2aa0478b2758e81d75a896e1257d3984d30d5.hex\n",
      "Saved 0xdeb2aa0478b2758e81d75a896e1257d3984d30d5.sol\n"
     ]
    },
    {
     "name": "stderr",
     "output_type": "stream",
     "text": [
      " 89%|████████▊ | 77/87 [07:57<00:59,  5.91s/it]"
     ]
    },
    {
     "name": "stdout",
     "output_type": "stream",
     "text": [
      "Searching in 97 chain...\n",
      "Searching in 56 chain...\n",
      "Searching in 57054 chain...\n",
      "Searching in 146 chain...\n",
      "Searching 0xdf482745749ad7057f4ebe246975ff2f2ddeef78...\n",
      "Searching in 1 chain...\n",
      "error from get_internal_transactions_by_contract_addr: No transactions found\n",
      "Saved 0xdf482745749ad7057f4ebe246975ff2f2ddeef78.json\n",
      "Saved 0xdf482745749ad7057f4ebe246975ff2f2ddeef78.hex\n",
      "Saved 0xdf482745749ad7057f4ebe246975ff2f2ddeef78.sol\n"
     ]
    },
    {
     "name": "stderr",
     "output_type": "stream",
     "text": [
      " 90%|████████▉ | 78/87 [08:03<00:52,  5.81s/it]"
     ]
    },
    {
     "name": "stdout",
     "output_type": "stream",
     "text": [
      "Searching in 97 chain...\n",
      "Searching in 56 chain...\n",
      "Searching in 57054 chain...\n",
      "Searching in 146 chain...\n",
      "Searching 0xe467b8d9b0c69f7d497b8f002a9e7f4b61c84c67...\n",
      "Searching in 1 chain...\n",
      "Saved 0xe467b8d9b0c69f7d497b8f002a9e7f4b61c84c67.json\n",
      "Saved 0xe467b8d9b0c69f7d497b8f002a9e7f4b61c84c67.hex\n",
      "Saved 0xe467b8d9b0c69f7d497b8f002a9e7f4b61c84c67.sol\n"
     ]
    },
    {
     "name": "stderr",
     "output_type": "stream",
     "text": [
      " 91%|█████████ | 79/87 [08:09<00:47,  5.92s/it]"
     ]
    },
    {
     "name": "stdout",
     "output_type": "stream",
     "text": [
      "Searching in 97 chain...\n",
      "Searching in 56 chain...\n",
      "Searching in 57054 chain...\n",
      "Searching in 146 chain...\n",
      "Searching 0xe55a772c7889580ecffd9ca3477e12e921fae492...\n",
      "Searching in 1 chain...\n",
      "error from get_internal_transactions_by_contract_addr: No transactions found\n",
      "Saved 0xe55a772c7889580ecffd9ca3477e12e921fae492.json\n",
      "Saved 0xe55a772c7889580ecffd9ca3477e12e921fae492.hex\n",
      "Saved 0xe55a772c7889580ecffd9ca3477e12e921fae492.sol\n"
     ]
    },
    {
     "name": "stderr",
     "output_type": "stream",
     "text": [
      " 92%|█████████▏| 80/87 [08:14<00:40,  5.83s/it]"
     ]
    },
    {
     "name": "stdout",
     "output_type": "stream",
     "text": [
      "Searching in 97 chain...\n",
      "Searching in 56 chain...\n",
      "Searching in 57054 chain...\n",
      "Searching in 146 chain...\n",
      "Searching 0xe99ddae9181957e91b457e4c79a1b577e55a5742...\n",
      "Searching in 1 chain...\n",
      "error from get_internal_transactions_by_contract_addr: No transactions found\n",
      "Saved 0xe99ddae9181957e91b457e4c79a1b577e55a5742.json\n",
      "Saved 0xe99ddae9181957e91b457e4c79a1b577e55a5742.hex\n",
      "Saved 0xe99ddae9181957e91b457e4c79a1b577e55a5742.sol\n"
     ]
    },
    {
     "name": "stderr",
     "output_type": "stream",
     "text": [
      " 93%|█████████▎| 81/87 [08:22<00:38,  6.38s/it]"
     ]
    },
    {
     "name": "stdout",
     "output_type": "stream",
     "text": [
      "Searching in 97 chain...\n",
      "Searching in 56 chain...\n",
      "Searching in 57054 chain...\n",
      "Searching in 146 chain...\n",
      "Searching 0xe9fc0c55f9f3a38c0e972d6444273ebdcc7aa46f...\n",
      "Searching in 1 chain...\n",
      "Saved 0xe9fc0c55f9f3a38c0e972d6444273ebdcc7aa46f.json\n",
      "Saved 0xe9fc0c55f9f3a38c0e972d6444273ebdcc7aa46f.hex\n",
      "Saved 0xe9fc0c55f9f3a38c0e972d6444273ebdcc7aa46f.sol\n"
     ]
    },
    {
     "name": "stderr",
     "output_type": "stream",
     "text": [
      " 94%|█████████▍| 82/87 [08:28<00:31,  6.36s/it]"
     ]
    },
    {
     "name": "stdout",
     "output_type": "stream",
     "text": [
      "Searching in 97 chain...\n",
      "Searching in 56 chain...\n",
      "Searching in 57054 chain...\n",
      "Searching in 146 chain...\n",
      "Searching 0xf1afddbed214dba82cb98d46ad0a96e643f7f6f6...\n",
      "Searching in 1 chain...\n",
      "error from get_internal_transactions_by_contract_addr: No transactions found\n",
      "error from get_events_by_contract_addr: No records found\n",
      "Saved 0xf1afddbed214dba82cb98d46ad0a96e643f7f6f6.json\n",
      "Saved 0xf1afddbed214dba82cb98d46ad0a96e643f7f6f6.hex\n",
      "Saved 0xf1afddbed214dba82cb98d46ad0a96e643f7f6f6.sol\n"
     ]
    },
    {
     "name": "stderr",
     "output_type": "stream",
     "text": [
      " 95%|█████████▌| 83/87 [08:34<00:24,  6.11s/it]"
     ]
    },
    {
     "name": "stdout",
     "output_type": "stream",
     "text": [
      "Searching in 97 chain...\n",
      "Searching in 56 chain...\n",
      "Searching in 57054 chain...\n",
      "Searching in 146 chain...\n",
      "Searching 0xf6962cfe3b9618374097d51bc6691efb3974d06f...\n",
      "Searching in 1 chain...\n",
      "Saved 0xf6962cfe3b9618374097d51bc6691efb3974d06f.json\n",
      "Saved 0xf6962cfe3b9618374097d51bc6691efb3974d06f.hex\n",
      "Saved 0xf6962cfe3b9618374097d51bc6691efb3974d06f.sol\n"
     ]
    },
    {
     "name": "stderr",
     "output_type": "stream",
     "text": [
      " 97%|█████████▋| 84/87 [08:40<00:17,  5.96s/it]"
     ]
    },
    {
     "name": "stdout",
     "output_type": "stream",
     "text": [
      "Searching in 97 chain...\n",
      "Searching in 56 chain...\n",
      "Searching in 57054 chain...\n",
      "Searching in 146 chain...\n",
      "Searching 0xf944d7740c0caf725bf26cf29e3facf6748189ac...\n",
      "Searching in 1 chain...\n",
      "error from get_internal_transactions_by_contract_addr: No transactions found\n",
      "Saved 0xf944d7740c0caf725bf26cf29e3facf6748189ac.json\n",
      "Saved 0xf944d7740c0caf725bf26cf29e3facf6748189ac.hex\n",
      "Saved 0xf944d7740c0caf725bf26cf29e3facf6748189ac.sol\n"
     ]
    },
    {
     "name": "stderr",
     "output_type": "stream",
     "text": [
      " 98%|█████████▊| 85/87 [08:45<00:11,  5.92s/it]"
     ]
    },
    {
     "name": "stdout",
     "output_type": "stream",
     "text": [
      "Searching in 97 chain...\n",
      "Searching in 56 chain...\n",
      "Searching in 57054 chain...\n",
      "Searching in 146 chain...\n",
      "Searching 0xfa65bb26b28e7f923f73248a9a47a5466d9cc7ec...\n",
      "Searching in 1 chain...\n",
      "Saved 0xfa65bb26b28e7f923f73248a9a47a5466d9cc7ec.json\n",
      "Saved 0xfa65bb26b28e7f923f73248a9a47a5466d9cc7ec.hex\n",
      "Saved 0xfa65bb26b28e7f923f73248a9a47a5466d9cc7ec.sol\n"
     ]
    },
    {
     "name": "stderr",
     "output_type": "stream",
     "text": [
      " 99%|█████████▉| 86/87 [08:51<00:05,  5.84s/it]"
     ]
    },
    {
     "name": "stdout",
     "output_type": "stream",
     "text": [
      "Searching in 97 chain...\n",
      "Searching in 56 chain...\n",
      "Searching in 57054 chain...\n",
      "Searching in 146 chain...\n",
      "Searching 0xff1560afef58be59b11c72734ad1d89db63e4e71...\n",
      "Searching in 1 chain...\n",
      "error from get_internal_transactions_by_contract_addr: No transactions found\n",
      "Saved 0xff1560afef58be59b11c72734ad1d89db63e4e71.json\n",
      "Saved 0xff1560afef58be59b11c72734ad1d89db63e4e71.hex\n",
      "Saved 0xff1560afef58be59b11c72734ad1d89db63e4e71.sol\n"
     ]
    },
    {
     "name": "stderr",
     "output_type": "stream",
     "text": [
      "100%|██████████| 87/87 [08:57<00:00,  6.17s/it]"
     ]
    },
    {
     "name": "stdout",
     "output_type": "stream",
     "text": [
      "Searching in 97 chain...\n",
      "Searching in 56 chain...\n",
      "Searching in 57054 chain...\n",
      "Searching in 146 chain...\n"
     ]
    },
    {
     "name": "stderr",
     "output_type": "stream",
     "text": [
      "\n"
     ]
    }
   ],
   "source": [
    "chains = [1, 97, 56, 57054, 146]\n",
    "# 3. Collect and extract\n",
    "for addr in tqdm(target_df.index):\n",
    "    print(f\"Searching {addr}...\")\n",
    "    for chain in chains:\n",
    "        print(f\"Searching in {chain} chain...\")\n",
    "        if addr not in [filename.lower().split('.')[0] for filename in os.listdir(TXN_PATH)]:\n",
    "            info = get_info_by_contract_addr(addr, chain)\n",
    "            save_transactions_by_contract_addr(TXN_PATH, addr, info)\n",
    "            if 'creationBytecode' in info.get('creator'):\n",
    "                save_bytecode_by_contract_addr(HEX_PATH, addr, info['creator']['creationBytecode'])\n",
    "                time.sleep(0.5)\n",
    "        if addr not in [filename.lower().split('.')[0] for filename in os.listdir(HEX_PATH)]:\n",
    "            bytecode = get_bytecode_by_contract_addr(addr, chain)\n",
    "            save_bytecode_by_contract_addr(HEX_PATH, addr, bytecode)\n",
    "            time.sleep(0.5)\n",
    "        if addr not in [filename.lower().split('.')[0] for filename in os.listdir(SOL_PATH)]:\n",
    "            source = get_source_code_by_contract_addr(addr, chain)\n",
    "            if 'SourceCode' in source:\n",
    "                save_sol_by_contract_addr(SOL_PATH, addr, source['SourceCode'])\n",
    "                time.sleep(0.5)\n"
   ]
  },
  {
   "cell_type": "code",
   "execution_count": 10,
   "id": "d7b29701",
   "metadata": {},
   "outputs": [
    {
     "data": {
      "text/plain": [
       "(87, 87, 87, 87)"
      ]
     },
     "execution_count": 10,
     "metadata": {},
     "output_type": "execute_result"
    }
   ],
   "source": [
    "len(target_df), len(os.listdir(HEX_PATH)), len(os.listdir(TXN_PATH)), len(os.listdir(SOL_PATH))"
   ]
  },
  {
   "cell_type": "code",
   "execution_count": 11,
   "id": "ddd08b14",
   "metadata": {},
   "outputs": [
    {
     "name": "stdout",
     "output_type": "stream",
     "text": [
      "File moved successfully.\n"
     ]
    }
   ],
   "source": [
    "if os.path.exists(target):\n",
    "    shutil.move(target, DATASET_PATH)\n",
    "    print(\"File moved successfully.\")\n",
    "else:\n",
    "    print(\"File does not exist.\", UNLABELED_PATH)"
   ]
  },
  {
   "cell_type": "code",
   "execution_count": null,
   "id": "03105629",
   "metadata": {},
   "outputs": [],
   "source": []
  }
 ],
 "metadata": {
  "kernelspec": {
   "display_name": "ml-algo",
   "language": "python",
   "name": "python3"
  },
  "language_info": {
   "codemirror_mode": {
    "name": "ipython",
    "version": 3
   },
   "file_extension": ".py",
   "mimetype": "text/x-python",
   "name": "python",
   "nbconvert_exporter": "python",
   "pygments_lexer": "ipython3",
   "version": "3.12.7"
  }
 },
 "nbformat": 4,
 "nbformat_minor": 5
}
