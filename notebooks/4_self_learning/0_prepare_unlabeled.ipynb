{
 "cells": [
  {
   "cell_type": "markdown",
   "id": "8625fdad",
   "metadata": {},
   "source": [
    "# Partial Labeled Data Preparing"
   ]
  },
  {
   "cell_type": "markdown",
   "id": "13347ba3",
   "metadata": {},
   "source": [
    "## Set up"
   ]
  },
  {
   "cell_type": "code",
   "execution_count": 1,
   "id": "ef0fe7e8",
   "metadata": {},
   "outputs": [],
   "source": [
    "import os\n",
    "from pathlib import Path\n",
    "import shutil\n",
    "import pandas as pd\n",
    "from tqdm import tqdm\n",
    "import time\n",
    "\n",
    "import sys\n",
    "PATH = Path.cwd().parents[1]\n",
    "sys.path.append(str(PATH))\n",
    "\n",
    "from backend.utils.data_loader import (\n",
    "  get_info_by_contract_addr,\n",
    "  save_bytecode_by_contract_addr,\n",
    "  get_bytecode_by_contract_addr,\n",
    "  save_transactions_by_contract_addr,\n",
    "  get_source_code_by_contract_addr,\n",
    "  save_sol_by_contract_addr\n",
    ")"
   ]
  },
  {
   "cell_type": "code",
   "execution_count": 2,
   "id": "9c3498bf",
   "metadata": {},
   "outputs": [],
   "source": [
    "name = \"crp_large_sample.csv\" # change this\n",
    "DATA_PATH = os.path.join(PATH, 'data')\n",
    "SOURCE_PATH = os.path.join(DATA_PATH, 'external/crpwarner/dataset/large/hex') # change this\n",
    "DATASET_PATH = os.path.join(DATA_PATH, 'interim')\n",
    "UNLABELED_PATH = os.path.join(DATA_PATH, 'unlabeled')"
   ]
  },
  {
   "cell_type": "markdown",
   "id": "da3a385f",
   "metadata": {},
   "source": [
    "## Move Dataset to Unlabeled"
   ]
  },
  {
   "cell_type": "code",
   "execution_count": 3,
   "id": "8fd61c0d",
   "metadata": {},
   "outputs": [
    {
     "name": "stdout",
     "output_type": "stream",
     "text": [
      "File moved successfully.\n"
     ]
    }
   ],
   "source": [
    "source = os.path.join(DATASET_PATH, name)\n",
    "target = os.path.join(UNLABELED_PATH, name)\n",
    "if os.path.exists(source):\n",
    "    shutil.move(source, UNLABELED_PATH)\n",
    "    print(\"File moved successfully.\")\n",
    "else:\n",
    "    print(\"File does not exist.\", DATASET_PATH)"
   ]
  },
  {
   "cell_type": "code",
   "execution_count": 4,
   "id": "d91b36a7",
   "metadata": {},
   "outputs": [
    {
     "data": {
      "application/vnd.microsoft.datawrangler.viewer.v0+json": {
       "columns": [
        {
         "name": "Address",
         "rawType": "object",
         "type": "string"
        },
        {
         "name": "Mint",
         "rawType": "int64",
         "type": "integer"
        },
        {
         "name": "Leak",
         "rawType": "int64",
         "type": "integer"
        },
        {
         "name": "Limit",
         "rawType": "int64",
         "type": "integer"
        }
       ],
       "ref": "d5ec388f-9161-4a85-a7d8-5a359dee53eb",
       "rows": [
        [
         "0x0290ea3c728981725689187763f6c63a68e192b8",
         "-1",
         "1",
         "-1"
        ],
        [
         "0x02d3aea48b443a0026ed9cbc91b97d7335aba323",
         "-1",
         "-1",
         "1"
        ],
        [
         "0x03260e1b0f53e1a1f93cf126a7ca42a1c71648d6",
         "1",
         "-1",
         "-1"
        ],
        [
         "0x054ad3cd4a66f14bf5c0de2548a53be66995a4f6",
         "-1",
         "1",
         "-1"
        ],
        [
         "0x0566c17dc2a9efcaa2f63e04cf06a69e8fc77f60",
         "-1",
         "0",
         "-1"
        ]
       ],
       "shape": {
        "columns": 3,
        "rows": 5
       }
      },
      "text/html": [
       "<div>\n",
       "<style scoped>\n",
       "    .dataframe tbody tr th:only-of-type {\n",
       "        vertical-align: middle;\n",
       "    }\n",
       "\n",
       "    .dataframe tbody tr th {\n",
       "        vertical-align: top;\n",
       "    }\n",
       "\n",
       "    .dataframe thead th {\n",
       "        text-align: right;\n",
       "    }\n",
       "</style>\n",
       "<table border=\"1\" class=\"dataframe\">\n",
       "  <thead>\n",
       "    <tr style=\"text-align: right;\">\n",
       "      <th></th>\n",
       "      <th>Mint</th>\n",
       "      <th>Leak</th>\n",
       "      <th>Limit</th>\n",
       "    </tr>\n",
       "    <tr>\n",
       "      <th>Address</th>\n",
       "      <th></th>\n",
       "      <th></th>\n",
       "      <th></th>\n",
       "    </tr>\n",
       "  </thead>\n",
       "  <tbody>\n",
       "    <tr>\n",
       "      <th>0x0290ea3c728981725689187763f6c63a68e192b8</th>\n",
       "      <td>-1</td>\n",
       "      <td>1</td>\n",
       "      <td>-1</td>\n",
       "    </tr>\n",
       "    <tr>\n",
       "      <th>0x02d3aea48b443a0026ed9cbc91b97d7335aba323</th>\n",
       "      <td>-1</td>\n",
       "      <td>-1</td>\n",
       "      <td>1</td>\n",
       "    </tr>\n",
       "    <tr>\n",
       "      <th>0x03260e1b0f53e1a1f93cf126a7ca42a1c71648d6</th>\n",
       "      <td>1</td>\n",
       "      <td>-1</td>\n",
       "      <td>-1</td>\n",
       "    </tr>\n",
       "    <tr>\n",
       "      <th>0x054ad3cd4a66f14bf5c0de2548a53be66995a4f6</th>\n",
       "      <td>-1</td>\n",
       "      <td>1</td>\n",
       "      <td>-1</td>\n",
       "    </tr>\n",
       "    <tr>\n",
       "      <th>0x0566c17dc2a9efcaa2f63e04cf06a69e8fc77f60</th>\n",
       "      <td>-1</td>\n",
       "      <td>0</td>\n",
       "      <td>-1</td>\n",
       "    </tr>\n",
       "  </tbody>\n",
       "</table>\n",
       "</div>"
      ],
      "text/plain": [
       "                                            Mint  Leak  Limit\n",
       "Address                                                      \n",
       "0x0290ea3c728981725689187763f6c63a68e192b8    -1     1     -1\n",
       "0x02d3aea48b443a0026ed9cbc91b97d7335aba323    -1    -1      1\n",
       "0x03260e1b0f53e1a1f93cf126a7ca42a1c71648d6     1    -1     -1\n",
       "0x054ad3cd4a66f14bf5c0de2548a53be66995a4f6    -1     1     -1\n",
       "0x0566c17dc2a9efcaa2f63e04cf06a69e8fc77f60    -1     0     -1"
      ]
     },
     "execution_count": 4,
     "metadata": {},
     "output_type": "execute_result"
    }
   ],
   "source": [
    "df = pd.read_csv(target, index_col=0)\n",
    "df.head()"
   ]
  },
  {
   "cell_type": "code",
   "execution_count": 5,
   "id": "06586b99",
   "metadata": {},
   "outputs": [],
   "source": [
    "target_df = df.loc[df['Limit']!=-1] # change this\n",
    "target_df.to_csv(os.path.join(UNLABELED_PATH, 'groundtruth.csv'))"
   ]
  },
  {
   "cell_type": "code",
   "execution_count": 6,
   "id": "f54c100e",
   "metadata": {},
   "outputs": [],
   "source": [
    "HEX_PATH = os.path.join(UNLABELED_PATH, 'hex')\n",
    "SOL_PATH = os.path.join(UNLABELED_PATH, 'sol')\n",
    "TXN_PATH = os.path.join(UNLABELED_PATH, 'txn')\n",
    "TMP_PATH = os.path.join(DATASET_PATH, 'hex')"
   ]
  },
  {
   "cell_type": "code",
   "execution_count": 7,
   "id": "b9701ced",
   "metadata": {},
   "outputs": [
    {
     "name": "stderr",
     "output_type": "stream",
     "text": [
      "100%|██████████| 13394/13394 [00:00<00:00, 63015.22it/s]\n",
      "100%|██████████| 13483/13483 [00:22<00:00, 607.00it/s]\n"
     ]
    }
   ],
   "source": [
    "for src_file in tqdm(list(Path(TMP_PATH).glob('*.hex'))):\n",
    "    address = src_file.stem.lower()\n",
    "    if address in target_df.index:\n",
    "        shutil.move(src_file, os.path.join(HEX_PATH, f'{address}.hex'))\n",
    "\n",
    "for src_file in tqdm(list(Path(SOURCE_PATH).glob('*.hex'))):\n",
    "    address = src_file.stem.lower()\n",
    "    if address in target_df.index:\n",
    "        shutil.copy(src_file, os.path.join(HEX_PATH, f'{address}.hex'))\n",
    "    else:\n",
    "        shutil.copy(src_file, os.path.join(TMP_PATH, f'{address}.hex'))"
   ]
  },
  {
   "cell_type": "code",
   "execution_count": 8,
   "id": "8fd2f7c5",
   "metadata": {},
   "outputs": [
    {
     "data": {
      "text/plain": [
       "(91, 91)"
      ]
     },
     "execution_count": 8,
     "metadata": {},
     "output_type": "execute_result"
    }
   ],
   "source": [
    "len(target_df), len(os.listdir(HEX_PATH))"
   ]
  },
  {
   "cell_type": "code",
   "execution_count": 9,
   "id": "17ee2149",
   "metadata": {},
   "outputs": [
    {
     "name": "stderr",
     "output_type": "stream",
     "text": [
      "  0%|          | 0/91 [00:00<?, ?it/s]"
     ]
    },
    {
     "name": "stdout",
     "output_type": "stream",
     "text": [
      "Searching 0x02d3aea48b443a0026ed9cbc91b97d7335aba323...\n",
      "Searching in 1 chain...\n",
      "Saved 0x02d3aea48b443a0026ed9cbc91b97d7335aba323.json\n",
      "Saved 0x02d3aea48b443a0026ed9cbc91b97d7335aba323.hex\n",
      "Saved 0x02d3aea48b443a0026ed9cbc91b97d7335aba323.sol\n"
     ]
    },
    {
     "name": "stderr",
     "output_type": "stream",
     "text": [
      "  1%|          | 1/91 [00:05<08:47,  5.86s/it]"
     ]
    },
    {
     "name": "stdout",
     "output_type": "stream",
     "text": [
      "Searching in 97 chain...\n",
      "Searching in 56 chain...\n",
      "Searching in 57054 chain...\n",
      "Searching in 146 chain...\n",
      "Searching 0x0886949c1b8c412860c4264ceb8083d1365e86cf...\n",
      "Searching in 1 chain...\n",
      "error from get_internal_transactions_by_contract_addr: No transactions found\n",
      "Saved 0x0886949c1b8c412860c4264ceb8083d1365e86cf.json\n",
      "Saved 0x0886949c1b8c412860c4264ceb8083d1365e86cf.hex\n",
      "Saved 0x0886949c1b8c412860c4264ceb8083d1365e86cf.sol\n"
     ]
    },
    {
     "name": "stderr",
     "output_type": "stream",
     "text": [
      "  2%|▏         | 2/91 [00:13<10:28,  7.06s/it]"
     ]
    },
    {
     "name": "stdout",
     "output_type": "stream",
     "text": [
      "Searching in 97 chain...\n",
      "Searching in 56 chain...\n",
      "Searching in 57054 chain...\n",
      "Searching in 146 chain...\n",
      "Searching 0x0c39b1bec04421c6cad1df8a50701a56880f0362...\n",
      "Searching in 1 chain...\n",
      "error from get_internal_transactions_by_contract_addr: No transactions found\n",
      "Saved 0x0c39b1bec04421c6cad1df8a50701a56880f0362.json\n",
      "Saved 0x0c39b1bec04421c6cad1df8a50701a56880f0362.hex\n",
      "Saved 0x0c39b1bec04421c6cad1df8a50701a56880f0362.sol\n"
     ]
    },
    {
     "name": "stderr",
     "output_type": "stream",
     "text": [
      "  3%|▎         | 3/91 [00:19<09:26,  6.44s/it]"
     ]
    },
    {
     "name": "stdout",
     "output_type": "stream",
     "text": [
      "Searching in 97 chain...\n",
      "Searching in 56 chain...\n",
      "Searching in 57054 chain...\n",
      "Searching in 146 chain...\n",
      "Searching 0x1035fd1e0aea8c63b4a9ac86e55972ae9f875764...\n",
      "Searching in 1 chain...\n",
      "error from get_internal_transactions_by_contract_addr: No transactions found\n",
      "Saved 0x1035fd1e0aea8c63b4a9ac86e55972ae9f875764.json\n",
      "Saved 0x1035fd1e0aea8c63b4a9ac86e55972ae9f875764.hex\n",
      "Saved 0x1035fd1e0aea8c63b4a9ac86e55972ae9f875764.sol\n"
     ]
    },
    {
     "name": "stderr",
     "output_type": "stream",
     "text": [
      "  4%|▍         | 4/91 [00:25<08:55,  6.16s/it]"
     ]
    },
    {
     "name": "stdout",
     "output_type": "stream",
     "text": [
      "Searching in 97 chain...\n",
      "Searching in 56 chain...\n",
      "Searching in 57054 chain...\n",
      "Searching in 146 chain...\n",
      "Searching 0x1a93f35557700cdeab1205673126fea1a5fcd814...\n",
      "Searching in 1 chain...\n",
      "Saved 0x1a93f35557700cdeab1205673126fea1a5fcd814.json\n",
      "Saved 0x1a93f35557700cdeab1205673126fea1a5fcd814.hex\n",
      "Saved 0x1a93f35557700cdeab1205673126fea1a5fcd814.sol\n"
     ]
    },
    {
     "name": "stderr",
     "output_type": "stream",
     "text": [
      "  5%|▌         | 5/91 [00:31<08:57,  6.25s/it]"
     ]
    },
    {
     "name": "stdout",
     "output_type": "stream",
     "text": [
      "Searching in 97 chain...\n",
      "Searching in 56 chain...\n",
      "Searching in 57054 chain...\n",
      "Searching in 146 chain...\n",
      "Searching 0x1f4a9567c1f98a8c9d7f026827f099b41a2e54d6...\n",
      "Searching in 1 chain...\n",
      "error from get_internal_transactions_by_contract_addr: No transactions found\n",
      "Saved 0x1f4a9567c1f98a8c9d7f026827f099b41a2e54d6.json\n",
      "Saved 0x1f4a9567c1f98a8c9d7f026827f099b41a2e54d6.hex\n",
      "Saved 0x1f4a9567c1f98a8c9d7f026827f099b41a2e54d6.sol\n"
     ]
    },
    {
     "name": "stderr",
     "output_type": "stream",
     "text": [
      "  7%|▋         | 6/91 [00:39<09:34,  6.76s/it]"
     ]
    },
    {
     "name": "stdout",
     "output_type": "stream",
     "text": [
      "Searching in 97 chain...\n",
      "Searching in 56 chain...\n",
      "Searching in 57054 chain...\n",
      "Searching in 146 chain...\n",
      "Searching 0x24859afb0ecce192f39fb405ba874ec1012788f0...\n",
      "Searching in 1 chain...\n",
      "error from get_internal_transactions_by_contract_addr: No transactions found\n",
      "Saved 0x24859afb0ecce192f39fb405ba874ec1012788f0.json\n",
      "Saved 0x24859afb0ecce192f39fb405ba874ec1012788f0.hex\n",
      "Saved 0x24859afb0ecce192f39fb405ba874ec1012788f0.sol\n"
     ]
    },
    {
     "name": "stderr",
     "output_type": "stream",
     "text": [
      "  8%|▊         | 7/91 [00:45<08:59,  6.42s/it]"
     ]
    },
    {
     "name": "stdout",
     "output_type": "stream",
     "text": [
      "Searching in 97 chain...\n",
      "Searching in 56 chain...\n",
      "Searching in 57054 chain...\n",
      "Searching in 146 chain...\n",
      "Searching 0x2773b55e67efaab67d6985311b2d888d3d4470e1...\n",
      "Searching in 1 chain...\n",
      "error from get_internal_transactions_by_contract_addr: No transactions found\n",
      "Saved 0x2773b55e67efaab67d6985311b2d888d3d4470e1.json\n",
      "Saved 0x2773b55e67efaab67d6985311b2d888d3d4470e1.hex\n",
      "Saved 0x2773b55e67efaab67d6985311b2d888d3d4470e1.sol\n"
     ]
    },
    {
     "name": "stderr",
     "output_type": "stream",
     "text": [
      "  9%|▉         | 8/91 [00:50<08:38,  6.25s/it]"
     ]
    },
    {
     "name": "stdout",
     "output_type": "stream",
     "text": [
      "Searching in 97 chain...\n",
      "Searching in 56 chain...\n",
      "Searching in 57054 chain...\n",
      "Searching in 146 chain...\n",
      "Searching 0x2b0e91a530bac5e0563a7f8d40ea7fb34cfadc3f...\n",
      "Searching in 1 chain...\n",
      "error from get_internal_transactions_by_contract_addr: No transactions found\n",
      "Saved 0x2b0e91a530bac5e0563a7f8d40ea7fb34cfadc3f.json\n",
      "Saved 0x2b0e91a530bac5e0563a7f8d40ea7fb34cfadc3f.hex\n",
      "Saved 0x2b0e91a530bac5e0563a7f8d40ea7fb34cfadc3f.sol\n"
     ]
    },
    {
     "name": "stderr",
     "output_type": "stream",
     "text": [
      " 10%|▉         | 9/91 [00:56<08:19,  6.09s/it]"
     ]
    },
    {
     "name": "stdout",
     "output_type": "stream",
     "text": [
      "Searching in 97 chain...\n",
      "Searching in 56 chain...\n",
      "Searching in 57054 chain...\n",
      "Searching in 146 chain...\n",
      "Searching 0x2b36968bf3c77253266aa382562fa3fdd7fa1667...\n",
      "Searching in 1 chain...\n",
      "error from get_internal_transactions_by_contract_addr: No transactions found\n",
      "Saved 0x2b36968bf3c77253266aa382562fa3fdd7fa1667.json\n",
      "Saved 0x2b36968bf3c77253266aa382562fa3fdd7fa1667.hex\n",
      "Saved 0x2b36968bf3c77253266aa382562fa3fdd7fa1667.sol\n"
     ]
    },
    {
     "name": "stderr",
     "output_type": "stream",
     "text": [
      " 11%|█         | 10/91 [01:02<08:09,  6.05s/it]"
     ]
    },
    {
     "name": "stdout",
     "output_type": "stream",
     "text": [
      "Searching in 97 chain...\n",
      "Searching in 56 chain...\n",
      "Searching in 57054 chain...\n",
      "Searching in 146 chain...\n",
      "Searching 0x304129f5dcf725f4531a4f2c69af87ecadab2467...\n",
      "Searching in 1 chain...\n",
      "error from get_internal_transactions_by_contract_addr: No transactions found\n",
      "Saved 0x304129f5dcf725f4531a4f2c69af87ecadab2467.json\n",
      "Saved 0x304129f5dcf725f4531a4f2c69af87ecadab2467.hex\n",
      "Saved 0x304129f5dcf725f4531a4f2c69af87ecadab2467.sol\n"
     ]
    },
    {
     "name": "stderr",
     "output_type": "stream",
     "text": [
      " 12%|█▏        | 11/91 [01:10<08:53,  6.66s/it]"
     ]
    },
    {
     "name": "stdout",
     "output_type": "stream",
     "text": [
      "Searching in 97 chain...\n",
      "Searching in 56 chain...\n",
      "Searching in 57054 chain...\n",
      "Searching in 146 chain...\n",
      "Searching 0x30795a541aea7f76ceccae7dc5146682f6b04cd7...\n",
      "Searching in 1 chain...\n",
      "Saved 0x30795a541aea7f76ceccae7dc5146682f6b04cd7.json\n",
      "Saved 0x30795a541aea7f76ceccae7dc5146682f6b04cd7.hex\n",
      "Saved 0x30795a541aea7f76ceccae7dc5146682f6b04cd7.sol\n"
     ]
    },
    {
     "name": "stderr",
     "output_type": "stream",
     "text": [
      " 13%|█▎        | 12/91 [01:17<08:48,  6.68s/it]"
     ]
    },
    {
     "name": "stdout",
     "output_type": "stream",
     "text": [
      "Searching in 97 chain...\n",
      "Searching in 56 chain...\n",
      "Searching in 57054 chain...\n",
      "Searching in 146 chain...\n",
      "Searching 0x36f20b9b964a7d0faeab4f74ba4e445c324a427b...\n",
      "Searching in 1 chain...\n",
      "error from get_internal_transactions_by_contract_addr: No transactions found\n",
      "Saved 0x36f20b9b964a7d0faeab4f74ba4e445c324a427b.json\n",
      "Saved 0x36f20b9b964a7d0faeab4f74ba4e445c324a427b.hex\n",
      "Saved 0x36f20b9b964a7d0faeab4f74ba4e445c324a427b.sol\n"
     ]
    },
    {
     "name": "stderr",
     "output_type": "stream",
     "text": [
      " 14%|█▍        | 13/91 [01:23<08:18,  6.39s/it]"
     ]
    },
    {
     "name": "stdout",
     "output_type": "stream",
     "text": [
      "Searching in 97 chain...\n",
      "Searching in 56 chain...\n",
      "Searching in 57054 chain...\n",
      "Searching in 146 chain...\n",
      "Searching 0x37d893cfeb6c5e43c43905df06a9513e0fafad74...\n",
      "Searching in 1 chain...\n",
      "error from get_internal_transactions_by_contract_addr: No transactions found\n",
      "Saved 0x37d893cfeb6c5e43c43905df06a9513e0fafad74.json\n",
      "Saved 0x37d893cfeb6c5e43c43905df06a9513e0fafad74.hex\n",
      "Saved 0x37d893cfeb6c5e43c43905df06a9513e0fafad74.sol\n"
     ]
    },
    {
     "name": "stderr",
     "output_type": "stream",
     "text": [
      " 15%|█▌        | 14/91 [01:32<09:19,  7.27s/it]"
     ]
    },
    {
     "name": "stdout",
     "output_type": "stream",
     "text": [
      "Searching in 97 chain...\n",
      "Searching in 56 chain...\n",
      "Searching in 57054 chain...\n",
      "Searching in 146 chain...\n",
      "Searching 0x3f1db2c3e98232971ec8ccfea8be865228763fef...\n",
      "Searching in 1 chain...\n",
      "error from get_internal_transactions_by_contract_addr: No transactions found\n",
      "Saved 0x3f1db2c3e98232971ec8ccfea8be865228763fef.json\n",
      "Saved 0x3f1db2c3e98232971ec8ccfea8be865228763fef.hex\n",
      "Saved 0x3f1db2c3e98232971ec8ccfea8be865228763fef.sol\n"
     ]
    },
    {
     "name": "stderr",
     "output_type": "stream",
     "text": [
      " 16%|█▋        | 15/91 [01:38<08:39,  6.84s/it]"
     ]
    },
    {
     "name": "stdout",
     "output_type": "stream",
     "text": [
      "Searching in 97 chain...\n",
      "Searching in 56 chain...\n",
      "Searching in 57054 chain...\n",
      "Searching in 146 chain...\n",
      "Searching 0x3fb1926a7d1cc68d4166d99c3483465885074f2f...\n",
      "Searching in 1 chain...\n",
      "error from get_internal_transactions_by_contract_addr: No transactions found\n",
      "Saved 0x3fb1926a7d1cc68d4166d99c3483465885074f2f.json\n",
      "Saved 0x3fb1926a7d1cc68d4166d99c3483465885074f2f.hex\n",
      "Saved 0x3fb1926a7d1cc68d4166d99c3483465885074f2f.sol\n"
     ]
    },
    {
     "name": "stderr",
     "output_type": "stream",
     "text": [
      " 18%|█▊        | 16/91 [01:44<08:08,  6.51s/it]"
     ]
    },
    {
     "name": "stdout",
     "output_type": "stream",
     "text": [
      "Searching in 97 chain...\n",
      "Searching in 56 chain...\n",
      "Searching in 57054 chain...\n",
      "Searching in 146 chain...\n",
      "Searching 0x40165bd6d657b63cb6f8f4a3525ac05bbf74bd93...\n",
      "Searching in 1 chain...\n",
      "error from get_internal_transactions_by_contract_addr: No transactions found\n",
      "Saved 0x40165bd6d657b63cb6f8f4a3525ac05bbf74bd93.json\n",
      "Saved 0x40165bd6d657b63cb6f8f4a3525ac05bbf74bd93.hex\n",
      "Saved 0x40165bd6d657b63cb6f8f4a3525ac05bbf74bd93.sol\n"
     ]
    },
    {
     "name": "stderr",
     "output_type": "stream",
     "text": [
      " 19%|█▊        | 17/91 [01:49<07:46,  6.31s/it]"
     ]
    },
    {
     "name": "stdout",
     "output_type": "stream",
     "text": [
      "Searching in 97 chain...\n",
      "Searching in 56 chain...\n",
      "Searching in 57054 chain...\n",
      "Searching in 146 chain...\n",
      "Searching 0x482047b690f5ec45dd24b68f92ae97e04450de50...\n",
      "Searching in 1 chain...\n",
      "Saved 0x482047b690f5ec45dd24b68f92ae97e04450de50.json\n",
      "Saved 0x482047b690f5ec45dd24b68f92ae97e04450de50.hex\n",
      "Saved 0x482047b690f5ec45dd24b68f92ae97e04450de50.sol\n"
     ]
    },
    {
     "name": "stderr",
     "output_type": "stream",
     "text": [
      " 20%|█▉        | 18/91 [01:55<07:35,  6.24s/it]"
     ]
    },
    {
     "name": "stdout",
     "output_type": "stream",
     "text": [
      "Searching in 97 chain...\n",
      "Searching in 56 chain...\n",
      "Searching in 57054 chain...\n",
      "Searching in 146 chain...\n",
      "Searching 0x4c567c3363cc42c5a42c6d8bf01503fd1d0b91cd...\n",
      "Searching in 1 chain...\n",
      "error from get_internal_transactions_by_contract_addr: No transactions found\n",
      "Saved 0x4c567c3363cc42c5a42c6d8bf01503fd1d0b91cd.json\n",
      "Saved 0x4c567c3363cc42c5a42c6d8bf01503fd1d0b91cd.hex\n",
      "Saved 0x4c567c3363cc42c5a42c6d8bf01503fd1d0b91cd.sol\n"
     ]
    },
    {
     "name": "stderr",
     "output_type": "stream",
     "text": [
      " 21%|██        | 19/91 [02:04<08:28,  7.06s/it]"
     ]
    },
    {
     "name": "stdout",
     "output_type": "stream",
     "text": [
      "Searching in 97 chain...\n",
      "Searching in 56 chain...\n",
      "Searching in 57054 chain...\n",
      "Searching in 146 chain...\n",
      "Searching 0x52ff8b15ef6b38cf0554ba9207d70d0d2437c56a...\n",
      "Searching in 1 chain...\n",
      "Saved 0x52ff8b15ef6b38cf0554ba9207d70d0d2437c56a.json\n",
      "Saved 0x52ff8b15ef6b38cf0554ba9207d70d0d2437c56a.hex\n",
      "Saved 0x52ff8b15ef6b38cf0554ba9207d70d0d2437c56a.sol\n"
     ]
    },
    {
     "name": "stderr",
     "output_type": "stream",
     "text": [
      " 22%|██▏       | 20/91 [02:10<07:54,  6.68s/it]"
     ]
    },
    {
     "name": "stdout",
     "output_type": "stream",
     "text": [
      "Searching in 97 chain...\n",
      "Searching in 56 chain...\n",
      "Searching in 57054 chain...\n",
      "Searching in 146 chain...\n",
      "Searching 0x531ac3341edfc39a04ed4c8b44ec396a46bc8690...\n",
      "Searching in 1 chain...\n",
      "error from get_internal_transactions_by_contract_addr: No transactions found\n",
      "error from get_events_by_contract_addr: No records found\n",
      "Saved 0x531ac3341edfc39a04ed4c8b44ec396a46bc8690.json\n",
      "Saved 0x531ac3341edfc39a04ed4c8b44ec396a46bc8690.hex\n",
      "Saved 0x531ac3341edfc39a04ed4c8b44ec396a46bc8690.sol\n"
     ]
    },
    {
     "name": "stderr",
     "output_type": "stream",
     "text": [
      " 23%|██▎       | 21/91 [02:19<08:26,  7.23s/it]"
     ]
    },
    {
     "name": "stdout",
     "output_type": "stream",
     "text": [
      "Searching in 97 chain...\n",
      "Searching in 56 chain...\n",
      "Searching in 57054 chain...\n",
      "Searching in 146 chain...\n",
      "Searching 0x56ba1d5ba4d1b6efc3993493cf23b17f7de46a12...\n",
      "Searching in 1 chain...\n",
      "error from get_internal_transactions_by_contract_addr: No transactions found\n",
      "Saved 0x56ba1d5ba4d1b6efc3993493cf23b17f7de46a12.json\n",
      "Saved 0x56ba1d5ba4d1b6efc3993493cf23b17f7de46a12.hex\n",
      "Saved 0x56ba1d5ba4d1b6efc3993493cf23b17f7de46a12.sol\n"
     ]
    },
    {
     "name": "stderr",
     "output_type": "stream",
     "text": [
      " 24%|██▍       | 22/91 [02:25<07:49,  6.80s/it]"
     ]
    },
    {
     "name": "stdout",
     "output_type": "stream",
     "text": [
      "Searching in 97 chain...\n",
      "Searching in 56 chain...\n",
      "Searching in 57054 chain...\n",
      "Searching in 146 chain...\n",
      "Searching 0x580c1e3caca14826976b5820947f7ad486ac174d...\n",
      "Searching in 1 chain...\n",
      "error from get_internal_transactions_by_contract_addr: No transactions found\n",
      "Saved 0x580c1e3caca14826976b5820947f7ad486ac174d.json\n",
      "Saved 0x580c1e3caca14826976b5820947f7ad486ac174d.hex\n",
      "Saved 0x580c1e3caca14826976b5820947f7ad486ac174d.sol\n"
     ]
    },
    {
     "name": "stderr",
     "output_type": "stream",
     "text": [
      " 25%|██▌       | 23/91 [02:30<07:21,  6.49s/it]"
     ]
    },
    {
     "name": "stdout",
     "output_type": "stream",
     "text": [
      "Searching in 97 chain...\n",
      "Searching in 56 chain...\n",
      "Searching in 57054 chain...\n",
      "Searching in 146 chain...\n",
      "Searching 0x5d64170c575be26c16008d49abe98ede2ec199af...\n",
      "Searching in 1 chain...\n",
      "error from get_internal_transactions_by_contract_addr: No transactions found\n",
      "Saved 0x5d64170c575be26c16008d49abe98ede2ec199af.json\n",
      "Saved 0x5d64170c575be26c16008d49abe98ede2ec199af.hex\n",
      "Saved 0x5d64170c575be26c16008d49abe98ede2ec199af.sol\n"
     ]
    },
    {
     "name": "stderr",
     "output_type": "stream",
     "text": [
      " 26%|██▋       | 24/91 [02:36<07:00,  6.28s/it]"
     ]
    },
    {
     "name": "stdout",
     "output_type": "stream",
     "text": [
      "Searching in 97 chain...\n",
      "Searching in 56 chain...\n",
      "Searching in 57054 chain...\n",
      "Searching in 146 chain...\n",
      "Searching 0x5ee5e63f3225e5b070be0fac1cf6c2ae2ade24d4...\n",
      "Searching in 1 chain...\n",
      "error from get_internal_transactions_by_contract_addr: No transactions found\n",
      "Saved 0x5ee5e63f3225e5b070be0fac1cf6c2ae2ade24d4.json\n",
      "Saved 0x5ee5e63f3225e5b070be0fac1cf6c2ae2ade24d4.hex\n",
      "Saved 0x5ee5e63f3225e5b070be0fac1cf6c2ae2ade24d4.sol\n"
     ]
    },
    {
     "name": "stderr",
     "output_type": "stream",
     "text": [
      " 27%|██▋       | 25/91 [02:42<06:42,  6.10s/it]"
     ]
    },
    {
     "name": "stdout",
     "output_type": "stream",
     "text": [
      "Searching in 97 chain...\n",
      "Searching in 56 chain...\n",
      "Searching in 57054 chain...\n",
      "Searching in 146 chain...\n",
      "Searching 0x611171923b84185e9328827cfaae6630481ecc7a...\n",
      "Searching in 1 chain...\n",
      "Saved 0x611171923b84185e9328827cfaae6630481ecc7a.json\n",
      "Saved 0x611171923b84185e9328827cfaae6630481ecc7a.hex\n",
      "Saved 0x611171923b84185e9328827cfaae6630481ecc7a.sol\n"
     ]
    },
    {
     "name": "stderr",
     "output_type": "stream",
     "text": [
      " 29%|██▊       | 26/91 [02:48<06:47,  6.27s/it]"
     ]
    },
    {
     "name": "stdout",
     "output_type": "stream",
     "text": [
      "Searching in 97 chain...\n",
      "Searching in 56 chain...\n",
      "Searching in 57054 chain...\n",
      "Searching in 146 chain...\n",
      "Searching 0x61c3ee9ce25e2c88dc9a8dd98f0510b95a82397a...\n",
      "Searching in 1 chain...\n",
      "error from get_internal_transactions_by_contract_addr: No transactions found\n",
      "Saved 0x61c3ee9ce25e2c88dc9a8dd98f0510b95a82397a.json\n",
      "Saved 0x61c3ee9ce25e2c88dc9a8dd98f0510b95a82397a.hex\n",
      "Saved 0x61c3ee9ce25e2c88dc9a8dd98f0510b95a82397a.sol\n"
     ]
    },
    {
     "name": "stderr",
     "output_type": "stream",
     "text": [
      " 30%|██▉       | 27/91 [02:55<06:39,  6.24s/it]"
     ]
    },
    {
     "name": "stdout",
     "output_type": "stream",
     "text": [
      "Searching in 97 chain...\n",
      "Searching in 56 chain...\n",
      "Searching in 57054 chain...\n",
      "Searching in 146 chain...\n",
      "Searching 0x68abb13046027b64fdf5a9dde00f783df7e697ec...\n",
      "Searching in 1 chain...\n",
      "Saved 0x68abb13046027b64fdf5a9dde00f783df7e697ec.json\n",
      "Saved 0x68abb13046027b64fdf5a9dde00f783df7e697ec.hex\n",
      "Saved 0x68abb13046027b64fdf5a9dde00f783df7e697ec.sol\n"
     ]
    },
    {
     "name": "stderr",
     "output_type": "stream",
     "text": [
      " 31%|███       | 28/91 [03:00<06:24,  6.10s/it]"
     ]
    },
    {
     "name": "stdout",
     "output_type": "stream",
     "text": [
      "Searching in 97 chain...\n",
      "Searching in 56 chain...\n",
      "Searching in 57054 chain...\n",
      "Searching in 146 chain...\n",
      "Searching 0x68cdbc25bf061d91537b21926260b213fde14285...\n",
      "Searching in 1 chain...\n",
      "error from get_internal_transactions_by_contract_addr: No transactions found\n",
      "Saved 0x68cdbc25bf061d91537b21926260b213fde14285.json\n",
      "Saved 0x68cdbc25bf061d91537b21926260b213fde14285.hex\n",
      "Saved 0x68cdbc25bf061d91537b21926260b213fde14285.sol\n"
     ]
    },
    {
     "name": "stderr",
     "output_type": "stream",
     "text": [
      " 32%|███▏      | 29/91 [03:07<06:29,  6.28s/it]"
     ]
    },
    {
     "name": "stdout",
     "output_type": "stream",
     "text": [
      "Searching in 97 chain...\n",
      "Searching in 56 chain...\n",
      "Searching in 57054 chain...\n",
      "Searching in 146 chain...\n",
      "Searching 0x6e35563be1e059f95bcfb5e1d6d854602a7fa3e1...\n",
      "Searching in 1 chain...\n",
      "error from get_internal_transactions_by_contract_addr: No transactions found\n",
      "Saved 0x6e35563be1e059f95bcfb5e1d6d854602a7fa3e1.json\n",
      "Saved 0x6e35563be1e059f95bcfb5e1d6d854602a7fa3e1.hex\n",
      "Saved 0x6e35563be1e059f95bcfb5e1d6d854602a7fa3e1.sol\n"
     ]
    },
    {
     "name": "stderr",
     "output_type": "stream",
     "text": [
      " 33%|███▎      | 30/91 [03:13<06:13,  6.12s/it]"
     ]
    },
    {
     "name": "stdout",
     "output_type": "stream",
     "text": [
      "Searching in 97 chain...\n",
      "Searching in 56 chain...\n",
      "Searching in 57054 chain...\n",
      "Searching in 146 chain...\n",
      "Searching 0x6e7f987907320630b7880eecc26b17c0d9afa7b4...\n",
      "Searching in 1 chain...\n",
      "error from get_internal_transactions_by_contract_addr: No transactions found\n",
      "error from get_events_by_contract_addr: No records found\n",
      "Saved 0x6e7f987907320630b7880eecc26b17c0d9afa7b4.json\n",
      "Saved 0x6e7f987907320630b7880eecc26b17c0d9afa7b4.hex\n",
      "Saved 0x6e7f987907320630b7880eecc26b17c0d9afa7b4.sol\n"
     ]
    },
    {
     "name": "stderr",
     "output_type": "stream",
     "text": [
      " 34%|███▍      | 31/91 [03:18<05:58,  5.97s/it]"
     ]
    },
    {
     "name": "stdout",
     "output_type": "stream",
     "text": [
      "Searching in 97 chain...\n",
      "Searching in 56 chain...\n",
      "Searching in 57054 chain...\n",
      "Searching in 146 chain...\n",
      "Searching 0x70791b81028f30ff01d4ad8f83cbffcd2be1b1f3...\n",
      "Searching in 1 chain...\n",
      "error from get_internal_transactions_by_contract_addr: No transactions found\n",
      "Saved 0x70791b81028f30ff01d4ad8f83cbffcd2be1b1f3.json\n",
      "Saved 0x70791b81028f30ff01d4ad8f83cbffcd2be1b1f3.hex\n",
      "Saved 0x70791b81028f30ff01d4ad8f83cbffcd2be1b1f3.sol\n"
     ]
    },
    {
     "name": "stderr",
     "output_type": "stream",
     "text": [
      " 35%|███▌      | 32/91 [03:24<05:48,  5.91s/it]"
     ]
    },
    {
     "name": "stdout",
     "output_type": "stream",
     "text": [
      "Searching in 97 chain...\n",
      "Searching in 56 chain...\n",
      "Searching in 57054 chain...\n",
      "Searching in 146 chain...\n",
      "Searching 0x75c25b9b80c7ff2bd326f1bb9dfbd444f463cfcc...\n",
      "Searching in 1 chain...\n",
      "error from get_internal_transactions_by_contract_addr: No transactions found\n",
      "Saved 0x75c25b9b80c7ff2bd326f1bb9dfbd444f463cfcc.json\n",
      "Saved 0x75c25b9b80c7ff2bd326f1bb9dfbd444f463cfcc.hex\n",
      "Saved 0x75c25b9b80c7ff2bd326f1bb9dfbd444f463cfcc.sol\n"
     ]
    },
    {
     "name": "stderr",
     "output_type": "stream",
     "text": [
      " 36%|███▋      | 33/91 [03:30<05:41,  5.89s/it]"
     ]
    },
    {
     "name": "stdout",
     "output_type": "stream",
     "text": [
      "Searching in 97 chain...\n",
      "Searching in 56 chain...\n",
      "Searching in 57054 chain...\n",
      "Searching in 146 chain...\n",
      "Searching 0x7627de4b93263a6a7570b8dafa64bae812e5c394...\n",
      "Searching in 1 chain...\n",
      "error from get_internal_transactions_by_contract_addr: No transactions found\n",
      "Saved 0x7627de4b93263a6a7570b8dafa64bae812e5c394.json\n",
      "Saved 0x7627de4b93263a6a7570b8dafa64bae812e5c394.hex\n",
      "Saved 0x7627de4b93263a6a7570b8dafa64bae812e5c394.sol\n"
     ]
    },
    {
     "name": "stderr",
     "output_type": "stream",
     "text": [
      " 37%|███▋      | 34/91 [03:37<06:00,  6.32s/it]"
     ]
    },
    {
     "name": "stdout",
     "output_type": "stream",
     "text": [
      "Searching in 97 chain...\n",
      "Searching in 56 chain...\n",
      "Searching in 57054 chain...\n",
      "Searching in 146 chain...\n",
      "Searching 0x76a6b003c39c1eb38b96aaaa1f551e4c6ad3de5c...\n",
      "Searching in 1 chain...\n",
      "Saved 0x76a6b003c39c1eb38b96aaaa1f551e4c6ad3de5c.json\n",
      "Saved 0x76a6b003c39c1eb38b96aaaa1f551e4c6ad3de5c.hex\n",
      "Saved 0x76a6b003c39c1eb38b96aaaa1f551e4c6ad3de5c.sol\n"
     ]
    },
    {
     "name": "stderr",
     "output_type": "stream",
     "text": [
      " 38%|███▊      | 35/91 [03:43<05:44,  6.15s/it]"
     ]
    },
    {
     "name": "stdout",
     "output_type": "stream",
     "text": [
      "Searching in 97 chain...\n",
      "Searching in 56 chain...\n",
      "Searching in 57054 chain...\n",
      "Searching in 146 chain...\n",
      "Searching 0x76bc9e61a1904b82cbf70d1fd9c0f8a120483bbb...\n",
      "Searching in 1 chain...\n",
      "Saved 0x76bc9e61a1904b82cbf70d1fd9c0f8a120483bbb.json\n",
      "Saved 0x76bc9e61a1904b82cbf70d1fd9c0f8a120483bbb.hex\n",
      "Saved 0x76bc9e61a1904b82cbf70d1fd9c0f8a120483bbb.sol\n"
     ]
    },
    {
     "name": "stderr",
     "output_type": "stream",
     "text": [
      " 40%|███▉      | 36/91 [03:51<06:02,  6.59s/it]"
     ]
    },
    {
     "name": "stdout",
     "output_type": "stream",
     "text": [
      "Searching in 97 chain...\n",
      "Searching in 56 chain...\n",
      "Searching in 57054 chain...\n",
      "Searching in 146 chain...\n",
      "Searching 0x7dc4f41294697a7903c4027f6ac528c5d14cd7eb...\n",
      "Searching in 1 chain...\n",
      "error from get_internal_transactions_by_contract_addr: No transactions found\n",
      "Saved 0x7dc4f41294697a7903c4027f6ac528c5d14cd7eb.json\n",
      "Saved 0x7dc4f41294697a7903c4027f6ac528c5d14cd7eb.hex\n",
      "Saved 0x7dc4f41294697a7903c4027f6ac528c5d14cd7eb.sol\n"
     ]
    },
    {
     "name": "stderr",
     "output_type": "stream",
     "text": [
      " 41%|████      | 37/91 [04:00<06:36,  7.34s/it]"
     ]
    },
    {
     "name": "stdout",
     "output_type": "stream",
     "text": [
      "Searching in 97 chain...\n",
      "Searching in 56 chain...\n",
      "Searching in 57054 chain...\n",
      "Searching in 146 chain...\n",
      "Searching 0x7f3e7af72b565d508ce63abbfdefd0161390c9ed...\n",
      "Searching in 1 chain...\n",
      "Saved 0x7f3e7af72b565d508ce63abbfdefd0161390c9ed.json\n",
      "Saved 0x7f3e7af72b565d508ce63abbfdefd0161390c9ed.hex\n",
      "Saved 0x7f3e7af72b565d508ce63abbfdefd0161390c9ed.sol\n"
     ]
    },
    {
     "name": "stderr",
     "output_type": "stream",
     "text": [
      " 42%|████▏     | 38/91 [04:06<06:04,  6.87s/it]"
     ]
    },
    {
     "name": "stdout",
     "output_type": "stream",
     "text": [
      "Searching in 97 chain...\n",
      "Searching in 56 chain...\n",
      "Searching in 57054 chain...\n",
      "Searching in 146 chain...\n",
      "Searching 0x81609739f3299cdef524833924fc24d424044df8...\n",
      "Searching in 1 chain...\n",
      "error from get_internal_transactions_by_contract_addr: No transactions found\n",
      "error from get_events_by_contract_addr: No records found\n",
      "Saved 0x81609739f3299cdef524833924fc24d424044df8.json\n",
      "Saved 0x81609739f3299cdef524833924fc24d424044df8.hex\n",
      "Saved 0x81609739f3299cdef524833924fc24d424044df8.sol\n"
     ]
    },
    {
     "name": "stderr",
     "output_type": "stream",
     "text": [
      " 43%|████▎     | 39/91 [04:11<05:39,  6.52s/it]"
     ]
    },
    {
     "name": "stdout",
     "output_type": "stream",
     "text": [
      "Searching in 97 chain...\n",
      "Searching in 56 chain...\n",
      "Searching in 57054 chain...\n",
      "Searching in 146 chain...\n",
      "Searching 0x87b9e7b07f294b5e203927bd118d91ff118f24aa...\n",
      "Searching in 1 chain...\n",
      "error from get_internal_transactions_by_contract_addr: No transactions found\n",
      "error from get_events_by_contract_addr: No records found\n",
      "Saved 0x87b9e7b07f294b5e203927bd118d91ff118f24aa.json\n",
      "Saved 0x87b9e7b07f294b5e203927bd118d91ff118f24aa.hex\n",
      "Saved 0x87b9e7b07f294b5e203927bd118d91ff118f24aa.sol\n"
     ]
    },
    {
     "name": "stderr",
     "output_type": "stream",
     "text": [
      " 44%|████▍     | 40/91 [04:17<05:25,  6.39s/it]"
     ]
    },
    {
     "name": "stdout",
     "output_type": "stream",
     "text": [
      "Searching in 97 chain...\n",
      "Searching in 56 chain...\n",
      "Searching in 57054 chain...\n",
      "Searching in 146 chain...\n",
      "Searching 0x897dc0cca9bb43f7601e477e721ef4dea4453f07...\n",
      "Searching in 1 chain...\n",
      "Saved 0x897dc0cca9bb43f7601e477e721ef4dea4453f07.json\n",
      "Saved 0x897dc0cca9bb43f7601e477e721ef4dea4453f07.hex\n",
      "Saved 0x897dc0cca9bb43f7601e477e721ef4dea4453f07.sol\n"
     ]
    },
    {
     "name": "stderr",
     "output_type": "stream",
     "text": [
      " 45%|████▌     | 41/91 [04:23<05:10,  6.22s/it]"
     ]
    },
    {
     "name": "stdout",
     "output_type": "stream",
     "text": [
      "Searching in 97 chain...\n",
      "Searching in 56 chain...\n",
      "Searching in 57054 chain...\n",
      "Searching in 146 chain...\n",
      "Searching 0x8b34fbc553db3462ad4909f2e5577cc22f63c216...\n",
      "Searching in 1 chain...\n",
      "Saved 0x8b34fbc553db3462ad4909f2e5577cc22f63c216.json\n",
      "Saved 0x8b34fbc553db3462ad4909f2e5577cc22f63c216.hex\n",
      "Saved 0x8b34fbc553db3462ad4909f2e5577cc22f63c216.sol\n"
     ]
    },
    {
     "name": "stderr",
     "output_type": "stream",
     "text": [
      " 46%|████▌     | 42/91 [04:31<05:32,  6.80s/it]"
     ]
    },
    {
     "name": "stdout",
     "output_type": "stream",
     "text": [
      "Searching in 97 chain...\n",
      "Searching in 56 chain...\n",
      "Searching in 57054 chain...\n",
      "Searching in 146 chain...\n",
      "Searching 0x8d06cbfdaf7066c739c71d70a2261d96d00d2d52...\n",
      "Searching in 1 chain...\n",
      "Saved 0x8d06cbfdaf7066c739c71d70a2261d96d00d2d52.json\n",
      "Saved 0x8d06cbfdaf7066c739c71d70a2261d96d00d2d52.hex\n",
      "Saved 0x8d06cbfdaf7066c739c71d70a2261d96d00d2d52.sol\n"
     ]
    },
    {
     "name": "stderr",
     "output_type": "stream",
     "text": [
      " 47%|████▋     | 43/91 [04:37<05:09,  6.46s/it]"
     ]
    },
    {
     "name": "stdout",
     "output_type": "stream",
     "text": [
      "Searching in 97 chain...\n",
      "Searching in 56 chain...\n",
      "Searching in 57054 chain...\n",
      "Searching in 146 chain...\n",
      "Searching 0x8d65fba6de30791e8da76e4e47443543623ebed5...\n",
      "Searching in 1 chain...\n",
      "error from get_internal_transactions_by_contract_addr: No transactions found\n",
      "error from get_events_by_contract_addr: No records found\n",
      "Saved 0x8d65fba6de30791e8da76e4e47443543623ebed5.json\n",
      "Saved 0x8d65fba6de30791e8da76e4e47443543623ebed5.hex\n",
      "Saved 0x8d65fba6de30791e8da76e4e47443543623ebed5.sol\n"
     ]
    },
    {
     "name": "stderr",
     "output_type": "stream",
     "text": [
      " 48%|████▊     | 44/91 [04:43<04:52,  6.23s/it]"
     ]
    },
    {
     "name": "stdout",
     "output_type": "stream",
     "text": [
      "Searching in 97 chain...\n",
      "Searching in 56 chain...\n",
      "Searching in 57054 chain...\n",
      "Searching in 146 chain...\n",
      "Searching 0x8f3a9953c5ca4449d15721cd6e11ebc15a89e569...\n",
      "Searching in 1 chain...\n",
      "error from get_internal_transactions_by_contract_addr: No transactions found\n",
      "Saved 0x8f3a9953c5ca4449d15721cd6e11ebc15a89e569.json\n",
      "Saved 0x8f3a9953c5ca4449d15721cd6e11ebc15a89e569.hex\n",
      "Saved 0x8f3a9953c5ca4449d15721cd6e11ebc15a89e569.sol\n"
     ]
    },
    {
     "name": "stderr",
     "output_type": "stream",
     "text": [
      " 49%|████▉     | 45/91 [04:49<04:40,  6.09s/it]"
     ]
    },
    {
     "name": "stdout",
     "output_type": "stream",
     "text": [
      "Searching in 97 chain...\n",
      "Searching in 56 chain...\n",
      "Searching in 57054 chain...\n",
      "Searching in 146 chain...\n",
      "Searching 0x91923993c4dc3e089bbb1fc9d4a5a765a479b68f...\n",
      "Searching in 1 chain...\n",
      "error from get_internal_transactions_by_contract_addr: No transactions found\n",
      "Saved 0x91923993c4dc3e089bbb1fc9d4a5a765a479b68f.json\n",
      "Saved 0x91923993c4dc3e089bbb1fc9d4a5a765a479b68f.hex\n",
      "Saved 0x91923993c4dc3e089bbb1fc9d4a5a765a479b68f.sol\n"
     ]
    },
    {
     "name": "stderr",
     "output_type": "stream",
     "text": [
      " 51%|█████     | 46/91 [04:55<04:36,  6.15s/it]"
     ]
    },
    {
     "name": "stdout",
     "output_type": "stream",
     "text": [
      "Searching in 97 chain...\n",
      "Searching in 56 chain...\n",
      "Searching in 57054 chain...\n",
      "Searching in 146 chain...\n",
      "Searching 0x921a5dce3dfed5cccfbb2e593f2978533bc66110...\n",
      "Searching in 1 chain...\n",
      "Saved 0x921a5dce3dfed5cccfbb2e593f2978533bc66110.json\n",
      "Saved 0x921a5dce3dfed5cccfbb2e593f2978533bc66110.hex\n",
      "Saved 0x921a5dce3dfed5cccfbb2e593f2978533bc66110.sol\n"
     ]
    },
    {
     "name": "stderr",
     "output_type": "stream",
     "text": [
      " 52%|█████▏    | 47/91 [05:04<05:04,  6.92s/it]"
     ]
    },
    {
     "name": "stdout",
     "output_type": "stream",
     "text": [
      "Searching in 97 chain...\n",
      "Searching in 56 chain...\n",
      "Searching in 57054 chain...\n",
      "Searching in 146 chain...\n",
      "Searching 0x960bbfd5965860ef4b94f01483e61dd4fb5d0ff7...\n",
      "Searching in 1 chain...\n",
      "error from get_internal_transactions_by_contract_addr: No transactions found\n",
      "Saved 0x960bbfd5965860ef4b94f01483e61dd4fb5d0ff7.json\n",
      "Saved 0x960bbfd5965860ef4b94f01483e61dd4fb5d0ff7.hex\n",
      "Saved 0x960bbfd5965860ef4b94f01483e61dd4fb5d0ff7.sol\n"
     ]
    },
    {
     "name": "stderr",
     "output_type": "stream",
     "text": [
      " 53%|█████▎    | 48/91 [05:09<04:42,  6.57s/it]"
     ]
    },
    {
     "name": "stdout",
     "output_type": "stream",
     "text": [
      "Searching in 97 chain...\n",
      "Searching in 56 chain...\n",
      "Searching in 57054 chain...\n",
      "Searching in 146 chain...\n",
      "Searching 0x9ab4fd2234d75cfa894c394b367e48055b531e56...\n",
      "Searching in 1 chain...\n",
      "error from get_internal_transactions_by_contract_addr: No transactions found\n",
      "Saved 0x9ab4fd2234d75cfa894c394b367e48055b531e56.json\n",
      "Saved 0x9ab4fd2234d75cfa894c394b367e48055b531e56.hex\n",
      "Saved 0x9ab4fd2234d75cfa894c394b367e48055b531e56.sol\n"
     ]
    },
    {
     "name": "stderr",
     "output_type": "stream",
     "text": [
      " 54%|█████▍    | 49/91 [05:15<04:31,  6.47s/it]"
     ]
    },
    {
     "name": "stdout",
     "output_type": "stream",
     "text": [
      "Searching in 97 chain...\n",
      "Searching in 56 chain...\n",
      "Searching in 57054 chain...\n",
      "Searching in 146 chain...\n",
      "Searching 0x9c0a1bbf01aee832afafeac003a57ff508a2a386...\n",
      "Searching in 1 chain...\n",
      "error from get_internal_transactions_by_contract_addr: No transactions found\n",
      "Saved 0x9c0a1bbf01aee832afafeac003a57ff508a2a386.json\n",
      "Saved 0x9c0a1bbf01aee832afafeac003a57ff508a2a386.hex\n",
      "Saved 0x9c0a1bbf01aee832afafeac003a57ff508a2a386.sol\n"
     ]
    },
    {
     "name": "stderr",
     "output_type": "stream",
     "text": [
      " 55%|█████▍    | 50/91 [05:21<04:15,  6.24s/it]"
     ]
    },
    {
     "name": "stdout",
     "output_type": "stream",
     "text": [
      "Searching in 97 chain...\n",
      "Searching in 56 chain...\n",
      "Searching in 57054 chain...\n",
      "Searching in 146 chain...\n",
      "Searching 0x9f103cd6fb907928351353e6f339c3fdcd5ee05c...\n",
      "Searching in 1 chain...\n",
      "error from get_internal_transactions_by_contract_addr: No transactions found\n",
      "Saved 0x9f103cd6fb907928351353e6f339c3fdcd5ee05c.json\n",
      "Saved 0x9f103cd6fb907928351353e6f339c3fdcd5ee05c.hex\n",
      "Saved 0x9f103cd6fb907928351353e6f339c3fdcd5ee05c.sol\n"
     ]
    },
    {
     "name": "stderr",
     "output_type": "stream",
     "text": [
      " 56%|█████▌    | 51/91 [05:30<04:40,  7.02s/it]"
     ]
    },
    {
     "name": "stdout",
     "output_type": "stream",
     "text": [
      "Searching in 97 chain...\n",
      "Searching in 56 chain...\n",
      "Searching in 57054 chain...\n",
      "Searching in 146 chain...\n",
      "Searching 0x9fcf7acdc11fd904c4b73a009909c7f00efc4844...\n",
      "Searching in 1 chain...\n",
      "error from get_internal_transactions_by_contract_addr: No transactions found\n",
      "Saved 0x9fcf7acdc11fd904c4b73a009909c7f00efc4844.json\n",
      "Saved 0x9fcf7acdc11fd904c4b73a009909c7f00efc4844.hex\n",
      "Saved 0x9fcf7acdc11fd904c4b73a009909c7f00efc4844.sol\n"
     ]
    },
    {
     "name": "stderr",
     "output_type": "stream",
     "text": [
      " 57%|█████▋    | 52/91 [05:36<04:19,  6.65s/it]"
     ]
    },
    {
     "name": "stdout",
     "output_type": "stream",
     "text": [
      "Searching in 97 chain...\n",
      "Searching in 56 chain...\n",
      "Searching in 57054 chain...\n",
      "Searching in 146 chain...\n",
      "Searching 0xa5d77efbc45d574b689d7f1202cf817e23febb97...\n",
      "Searching in 1 chain...\n",
      "error from get_internal_transactions_by_contract_addr: No transactions found\n",
      "Saved 0xa5d77efbc45d574b689d7f1202cf817e23febb97.json\n",
      "Saved 0xa5d77efbc45d574b689d7f1202cf817e23febb97.hex\n",
      "Saved 0xa5d77efbc45d574b689d7f1202cf817e23febb97.sol\n"
     ]
    },
    {
     "name": "stderr",
     "output_type": "stream",
     "text": [
      " 58%|█████▊    | 53/91 [05:41<04:01,  6.35s/it]"
     ]
    },
    {
     "name": "stdout",
     "output_type": "stream",
     "text": [
      "Searching in 97 chain...\n",
      "Searching in 56 chain...\n",
      "Searching in 57054 chain...\n",
      "Searching in 146 chain...\n",
      "Searching 0xa623b5a542c0d7daadef321042a04c600b03a8cb...\n",
      "Searching in 1 chain...\n",
      "error from get_internal_transactions_by_contract_addr: No transactions found\n",
      "Saved 0xa623b5a542c0d7daadef321042a04c600b03a8cb.json\n",
      "Saved 0xa623b5a542c0d7daadef321042a04c600b03a8cb.hex\n",
      "Saved 0xa623b5a542c0d7daadef321042a04c600b03a8cb.sol\n"
     ]
    },
    {
     "name": "stderr",
     "output_type": "stream",
     "text": [
      " 59%|█████▉    | 54/91 [05:47<03:50,  6.23s/it]"
     ]
    },
    {
     "name": "stdout",
     "output_type": "stream",
     "text": [
      "Searching in 97 chain...\n",
      "Searching in 56 chain...\n",
      "Searching in 57054 chain...\n",
      "Searching in 146 chain...\n",
      "Searching 0xa62a63e1b51c30feff1116df3a33ec151453bb95...\n",
      "Searching in 1 chain...\n",
      "error from get_events_by_contract_addr: No records found\n",
      "Saved 0xa62a63e1b51c30feff1116df3a33ec151453bb95.json\n",
      "Saved 0xa62a63e1b51c30feff1116df3a33ec151453bb95.hex\n",
      "Saved 0xa62a63e1b51c30feff1116df3a33ec151453bb95.sol\n"
     ]
    },
    {
     "name": "stderr",
     "output_type": "stream",
     "text": [
      " 60%|██████    | 55/91 [05:53<03:42,  6.18s/it]"
     ]
    },
    {
     "name": "stdout",
     "output_type": "stream",
     "text": [
      "Searching in 97 chain...\n",
      "Searching in 56 chain...\n",
      "Searching in 57054 chain...\n",
      "Searching in 146 chain...\n",
      "Searching 0xa87beafd65e3c6808ac853076c23f268f3809d7b...\n",
      "Searching in 1 chain...\n",
      "error from get_internal_transactions_by_contract_addr: No transactions found\n",
      "Saved 0xa87beafd65e3c6808ac853076c23f268f3809d7b.json\n",
      "Saved 0xa87beafd65e3c6808ac853076c23f268f3809d7b.hex\n",
      "Saved 0xa87beafd65e3c6808ac853076c23f268f3809d7b.sol\n"
     ]
    },
    {
     "name": "stderr",
     "output_type": "stream",
     "text": [
      " 62%|██████▏   | 56/91 [05:59<03:30,  6.03s/it]"
     ]
    },
    {
     "name": "stdout",
     "output_type": "stream",
     "text": [
      "Searching in 97 chain...\n",
      "Searching in 56 chain...\n",
      "Searching in 57054 chain...\n",
      "Searching in 146 chain...\n",
      "Searching 0xab28787f0f0de52bc294e0f602cad2fb7ac2e248...\n",
      "Searching in 1 chain...\n",
      "error from get_internal_transactions_by_contract_addr: No transactions found\n",
      "Saved 0xab28787f0f0de52bc294e0f602cad2fb7ac2e248.json\n",
      "Saved 0xab28787f0f0de52bc294e0f602cad2fb7ac2e248.hex\n",
      "Saved 0xab28787f0f0de52bc294e0f602cad2fb7ac2e248.sol\n"
     ]
    },
    {
     "name": "stderr",
     "output_type": "stream",
     "text": [
      " 63%|██████▎   | 57/91 [06:10<04:11,  7.40s/it]"
     ]
    },
    {
     "name": "stdout",
     "output_type": "stream",
     "text": [
      "Searching in 97 chain...\n",
      "Searching in 56 chain...\n",
      "Searching in 57054 chain...\n",
      "Searching in 146 chain...\n",
      "Searching 0xace8a1e0102dbe6d31208a16fb8b6e27d537b869...\n",
      "Searching in 1 chain...\n",
      "error from get_internal_transactions_by_contract_addr: No transactions found\n",
      "error from get_events_by_contract_addr: No records found\n",
      "Saved 0xace8a1e0102dbe6d31208a16fb8b6e27d537b869.json\n",
      "Saved 0xace8a1e0102dbe6d31208a16fb8b6e27d537b869.hex\n",
      "Saved 0xace8a1e0102dbe6d31208a16fb8b6e27d537b869.sol\n"
     ]
    },
    {
     "name": "stderr",
     "output_type": "stream",
     "text": [
      " 64%|██████▎   | 58/91 [06:15<03:46,  6.88s/it]"
     ]
    },
    {
     "name": "stdout",
     "output_type": "stream",
     "text": [
      "Searching in 97 chain...\n",
      "Searching in 56 chain...\n",
      "Searching in 57054 chain...\n",
      "Searching in 146 chain...\n",
      "Searching 0xadc34a12270978e4365b0f9f701c666b1eb2fe20...\n",
      "Searching in 1 chain...\n",
      "error from get_internal_transactions_by_contract_addr: No transactions found\n",
      "Saved 0xadc34a12270978e4365b0f9f701c666b1eb2fe20.json\n",
      "Saved 0xadc34a12270978e4365b0f9f701c666b1eb2fe20.hex\n",
      "Saved 0xadc34a12270978e4365b0f9f701c666b1eb2fe20.sol\n"
     ]
    },
    {
     "name": "stderr",
     "output_type": "stream",
     "text": [
      " 65%|██████▍   | 59/91 [06:27<04:22,  8.20s/it]"
     ]
    },
    {
     "name": "stdout",
     "output_type": "stream",
     "text": [
      "Searching in 97 chain...\n",
      "Searching in 56 chain...\n",
      "Searching in 57054 chain...\n",
      "Searching in 146 chain...\n",
      "Searching 0xae7e3f8a48c17e8ce8fb249e944f73cefde6b09c...\n",
      "Searching in 1 chain...\n",
      "error from get_internal_transactions_by_contract_addr: No transactions found\n",
      "Saved 0xae7e3f8a48c17e8ce8fb249e944f73cefde6b09c.json\n",
      "Saved 0xae7e3f8a48c17e8ce8fb249e944f73cefde6b09c.hex\n",
      "Saved 0xae7e3f8a48c17e8ce8fb249e944f73cefde6b09c.sol\n"
     ]
    },
    {
     "name": "stderr",
     "output_type": "stream",
     "text": [
      " 66%|██████▌   | 60/91 [06:33<03:59,  7.73s/it]"
     ]
    },
    {
     "name": "stdout",
     "output_type": "stream",
     "text": [
      "Searching in 97 chain...\n",
      "Searching in 56 chain...\n",
      "Searching in 57054 chain...\n",
      "Searching in 146 chain...\n",
      "Searching 0xb08fc1db58ef5e15a6f97d8f63b2bb4a14b9df37...\n",
      "Searching in 1 chain...\n",
      "error from get_internal_transactions_by_contract_addr: No transactions found\n",
      "error from get_events_by_contract_addr: No records found\n",
      "Saved 0xb08fc1db58ef5e15a6f97d8f63b2bb4a14b9df37.json\n",
      "Saved 0xb08fc1db58ef5e15a6f97d8f63b2bb4a14b9df37.hex\n",
      "Saved 0xb08fc1db58ef5e15a6f97d8f63b2bb4a14b9df37.sol\n"
     ]
    },
    {
     "name": "stderr",
     "output_type": "stream",
     "text": [
      " 67%|██████▋   | 61/91 [06:39<03:34,  7.16s/it]"
     ]
    },
    {
     "name": "stdout",
     "output_type": "stream",
     "text": [
      "Searching in 97 chain...\n",
      "Searching in 56 chain...\n",
      "Searching in 57054 chain...\n",
      "Searching in 146 chain...\n",
      "Searching 0xb1733c9c3cb5d98c2c35db27e30de26081d4d30a...\n",
      "Searching in 1 chain...\n",
      "error from get_internal_transactions_by_contract_addr: No transactions found\n",
      "error from get_events_by_contract_addr: No records found\n",
      "Saved 0xb1733c9c3cb5d98c2c35db27e30de26081d4d30a.json\n",
      "Saved 0xb1733c9c3cb5d98c2c35db27e30de26081d4d30a.hex\n",
      "Saved 0xb1733c9c3cb5d98c2c35db27e30de26081d4d30a.sol\n"
     ]
    },
    {
     "name": "stderr",
     "output_type": "stream",
     "text": [
      " 68%|██████▊   | 62/91 [06:49<03:48,  7.86s/it]"
     ]
    },
    {
     "name": "stdout",
     "output_type": "stream",
     "text": [
      "Searching in 97 chain...\n",
      "Searching in 56 chain...\n",
      "Searching in 57054 chain...\n",
      "Searching in 146 chain...\n",
      "Searching 0xb3ce281f0dee8c6f7af19b9664109c4030bec3fa...\n",
      "Searching in 1 chain...\n",
      "error from get_internal_transactions_by_contract_addr: No transactions found\n",
      "Saved 0xb3ce281f0dee8c6f7af19b9664109c4030bec3fa.json\n",
      "Saved 0xb3ce281f0dee8c6f7af19b9664109c4030bec3fa.hex\n",
      "Saved 0xb3ce281f0dee8c6f7af19b9664109c4030bec3fa.sol\n"
     ]
    },
    {
     "name": "stderr",
     "output_type": "stream",
     "text": [
      " 69%|██████▉   | 63/91 [07:08<05:14, 11.24s/it]"
     ]
    },
    {
     "name": "stdout",
     "output_type": "stream",
     "text": [
      "Searching in 97 chain...\n",
      "Searching in 56 chain...\n",
      "Searching in 57054 chain...\n",
      "Searching in 146 chain...\n",
      "Searching 0xb4ec121eb68647b13b60dee2686ddd5f2973e47f...\n",
      "Searching in 1 chain...\n",
      "error from get_internal_transactions_by_contract_addr: No transactions found\n",
      "Saved 0xb4ec121eb68647b13b60dee2686ddd5f2973e47f.json\n",
      "Saved 0xb4ec121eb68647b13b60dee2686ddd5f2973e47f.hex\n",
      "Saved 0xb4ec121eb68647b13b60dee2686ddd5f2973e47f.sol\n"
     ]
    },
    {
     "name": "stderr",
     "output_type": "stream",
     "text": [
      " 70%|███████   | 64/91 [07:14<04:18,  9.59s/it]"
     ]
    },
    {
     "name": "stdout",
     "output_type": "stream",
     "text": [
      "Searching in 97 chain...\n",
      "Searching in 56 chain...\n",
      "Searching in 57054 chain...\n",
      "Searching in 146 chain...\n",
      "Searching 0xbb902569a997d657e8d10b82ce0ec5a5983c8c7c...\n",
      "Searching in 1 chain...\n",
      "error from get_internal_transactions_by_contract_addr: No transactions found\n",
      "error from get_events_by_contract_addr: No records found\n",
      "Saved 0xbb902569a997d657e8d10b82ce0ec5a5983c8c7c.json\n",
      "Saved 0xbb902569a997d657e8d10b82ce0ec5a5983c8c7c.hex\n",
      "Saved 0xbb902569a997d657e8d10b82ce0ec5a5983c8c7c.sol\n"
     ]
    },
    {
     "name": "stderr",
     "output_type": "stream",
     "text": [
      " 71%|███████▏  | 65/91 [07:45<07:01, 16.21s/it]"
     ]
    },
    {
     "name": "stdout",
     "output_type": "stream",
     "text": [
      "Searching in 97 chain...\n",
      "Searching in 56 chain...\n",
      "Searching in 57054 chain...\n",
      "Searching in 146 chain...\n",
      "Searching 0xbc6f22d3d1da52e4058733e9051683e1899ceae7...\n",
      "Searching in 1 chain...\n",
      "error from get_internal_transactions_by_contract_addr: No transactions found\n",
      "Saved 0xbc6f22d3d1da52e4058733e9051683e1899ceae7.json\n",
      "Saved 0xbc6f22d3d1da52e4058733e9051683e1899ceae7.hex\n",
      "Saved 0xbc6f22d3d1da52e4058733e9051683e1899ceae7.sol\n"
     ]
    },
    {
     "name": "stderr",
     "output_type": "stream",
     "text": [
      " 73%|███████▎  | 66/91 [07:51<05:29, 13.20s/it]"
     ]
    },
    {
     "name": "stdout",
     "output_type": "stream",
     "text": [
      "Searching in 97 chain...\n",
      "Searching in 56 chain...\n",
      "Searching in 57054 chain...\n",
      "Searching in 146 chain...\n",
      "Searching 0xbed451b9d7c1e0458a2e57888a001c20e3b65f44...\n",
      "Searching in 1 chain...\n",
      "error from get_internal_transactions_by_contract_addr: No transactions found\n",
      "Saved 0xbed451b9d7c1e0458a2e57888a001c20e3b65f44.json\n",
      "Saved 0xbed451b9d7c1e0458a2e57888a001c20e3b65f44.hex\n",
      "Saved 0xbed451b9d7c1e0458a2e57888a001c20e3b65f44.sol\n"
     ]
    },
    {
     "name": "stderr",
     "output_type": "stream",
     "text": [
      " 74%|███████▎  | 67/91 [08:09<05:50, 14.61s/it]"
     ]
    },
    {
     "name": "stdout",
     "output_type": "stream",
     "text": [
      "Searching in 97 chain...\n",
      "Searching in 56 chain...\n",
      "Searching in 57054 chain...\n",
      "Searching in 146 chain...\n",
      "Searching 0xc5284e12632a01046d01a8dc886466f82071254b...\n",
      "Searching in 1 chain...\n",
      "Saved 0xc5284e12632a01046d01a8dc886466f82071254b.json\n",
      "Saved 0xc5284e12632a01046d01a8dc886466f82071254b.hex\n",
      "Saved 0xc5284e12632a01046d01a8dc886466f82071254b.sol\n"
     ]
    },
    {
     "name": "stderr",
     "output_type": "stream",
     "text": [
      " 75%|███████▍  | 68/91 [08:15<04:34, 11.92s/it]"
     ]
    },
    {
     "name": "stdout",
     "output_type": "stream",
     "text": [
      "Searching in 97 chain...\n",
      "Searching in 56 chain...\n",
      "Searching in 57054 chain...\n",
      "Searching in 146 chain...\n",
      "Searching 0xc5c5aa3f03523c3e5442cd6bc41076cb194e4d11...\n",
      "Searching in 1 chain...\n",
      "error from get_events_by_contract_addr: No records found\n",
      "Saved 0xc5c5aa3f03523c3e5442cd6bc41076cb194e4d11.json\n",
      "Saved 0xc5c5aa3f03523c3e5442cd6bc41076cb194e4d11.hex\n",
      "Saved 0xc5c5aa3f03523c3e5442cd6bc41076cb194e4d11.sol\n"
     ]
    },
    {
     "name": "stderr",
     "output_type": "stream",
     "text": [
      " 76%|███████▌  | 69/91 [08:21<03:41, 10.07s/it]"
     ]
    },
    {
     "name": "stdout",
     "output_type": "stream",
     "text": [
      "Searching in 97 chain...\n",
      "Searching in 56 chain...\n",
      "Searching in 57054 chain...\n",
      "Searching in 146 chain...\n",
      "Searching 0xc78ae86f5da621d636f19e294f3d8523c8ac0164...\n",
      "Searching in 1 chain...\n",
      "error from get_internal_transactions_by_contract_addr: No transactions found\n",
      "Saved 0xc78ae86f5da621d636f19e294f3d8523c8ac0164.json\n",
      "Saved 0xc78ae86f5da621d636f19e294f3d8523c8ac0164.hex\n",
      "Saved 0xc78ae86f5da621d636f19e294f3d8523c8ac0164.sol\n"
     ]
    },
    {
     "name": "stderr",
     "output_type": "stream",
     "text": [
      " 77%|███████▋  | 70/91 [08:26<03:03,  8.75s/it]"
     ]
    },
    {
     "name": "stdout",
     "output_type": "stream",
     "text": [
      "Searching in 97 chain...\n",
      "Searching in 56 chain...\n",
      "Searching in 57054 chain...\n",
      "Searching in 146 chain...\n",
      "Searching 0xc900ebf1eb284c9374ff8af4c68d9b3a65046d88...\n",
      "Searching in 1 chain...\n",
      "error from get_internal_transactions_by_contract_addr: No transactions found\n",
      "Saved 0xc900ebf1eb284c9374ff8af4c68d9b3a65046d88.json\n",
      "Saved 0xc900ebf1eb284c9374ff8af4c68d9b3a65046d88.hex\n",
      "Saved 0xc900ebf1eb284c9374ff8af4c68d9b3a65046d88.sol\n"
     ]
    },
    {
     "name": "stderr",
     "output_type": "stream",
     "text": [
      " 78%|███████▊  | 71/91 [08:32<02:36,  7.85s/it]"
     ]
    },
    {
     "name": "stdout",
     "output_type": "stream",
     "text": [
      "Searching in 97 chain...\n",
      "Searching in 56 chain...\n",
      "Searching in 57054 chain...\n",
      "Searching in 146 chain...\n",
      "Searching 0xcadad17c176e7bbe87660bd2734b2640ebc03bc7...\n",
      "Searching in 1 chain...\n",
      "error from get_internal_transactions_by_contract_addr: No transactions found\n",
      "Saved 0xcadad17c176e7bbe87660bd2734b2640ebc03bc7.json\n",
      "Saved 0xcadad17c176e7bbe87660bd2734b2640ebc03bc7.hex\n",
      "Saved 0xcadad17c176e7bbe87660bd2734b2640ebc03bc7.sol\n"
     ]
    },
    {
     "name": "stderr",
     "output_type": "stream",
     "text": [
      " 79%|███████▉  | 72/91 [08:39<02:21,  7.42s/it]"
     ]
    },
    {
     "name": "stdout",
     "output_type": "stream",
     "text": [
      "Searching in 97 chain...\n",
      "Searching in 56 chain...\n",
      "Searching in 57054 chain...\n",
      "Searching in 146 chain...\n",
      "Searching 0xcb8028b5137073d83bf0a0fc25f1ada0e06bf18a...\n",
      "Searching in 1 chain...\n",
      "error from get_internal_transactions_by_contract_addr: No transactions found\n",
      "Saved 0xcb8028b5137073d83bf0a0fc25f1ada0e06bf18a.json\n",
      "Saved 0xcb8028b5137073d83bf0a0fc25f1ada0e06bf18a.hex\n",
      "Saved 0xcb8028b5137073d83bf0a0fc25f1ada0e06bf18a.sol\n"
     ]
    },
    {
     "name": "stderr",
     "output_type": "stream",
     "text": [
      " 80%|████████  | 73/91 [08:44<02:04,  6.93s/it]"
     ]
    },
    {
     "name": "stdout",
     "output_type": "stream",
     "text": [
      "Searching in 97 chain...\n",
      "Searching in 56 chain...\n",
      "Searching in 57054 chain...\n",
      "Searching in 146 chain...\n",
      "Searching 0xcec50a37d43141eefa87215fa8565a6e467b125e...\n",
      "Searching in 1 chain...\n",
      "error from get_internal_transactions_by_contract_addr: No transactions found\n",
      "Saved 0xcec50a37d43141eefa87215fa8565a6e467b125e.json\n",
      "Saved 0xcec50a37d43141eefa87215fa8565a6e467b125e.hex\n",
      "Saved 0xcec50a37d43141eefa87215fa8565a6e467b125e.sol\n"
     ]
    },
    {
     "name": "stderr",
     "output_type": "stream",
     "text": [
      " 81%|████████▏ | 74/91 [08:50<01:52,  6.59s/it]"
     ]
    },
    {
     "name": "stdout",
     "output_type": "stream",
     "text": [
      "Searching in 97 chain...\n",
      "Searching in 56 chain...\n",
      "Searching in 57054 chain...\n",
      "Searching in 146 chain...\n",
      "Searching 0xd495d88aa708cc191e0a12e0ad3e1e40203ce7ff...\n",
      "Searching in 1 chain...\n",
      "error from get_internal_transactions_by_contract_addr: No transactions found\n",
      "Saved 0xd495d88aa708cc191e0a12e0ad3e1e40203ce7ff.json\n",
      "Saved 0xd495d88aa708cc191e0a12e0ad3e1e40203ce7ff.hex\n",
      "Saved 0xd495d88aa708cc191e0a12e0ad3e1e40203ce7ff.sol\n"
     ]
    },
    {
     "name": "stderr",
     "output_type": "stream",
     "text": [
      " 82%|████████▏ | 75/91 [08:57<01:48,  6.77s/it]"
     ]
    },
    {
     "name": "stdout",
     "output_type": "stream",
     "text": [
      "Searching in 97 chain...\n",
      "Searching in 56 chain...\n",
      "Searching in 57054 chain...\n",
      "Searching in 146 chain...\n",
      "Searching 0xd7c70d7d09c94f555dc72601876010b4bfb49f6b...\n",
      "Searching in 1 chain...\n",
      "Saved 0xd7c70d7d09c94f555dc72601876010b4bfb49f6b.json\n",
      "Saved 0xd7c70d7d09c94f555dc72601876010b4bfb49f6b.hex\n",
      "Saved 0xd7c70d7d09c94f555dc72601876010b4bfb49f6b.sol\n"
     ]
    },
    {
     "name": "stderr",
     "output_type": "stream",
     "text": [
      " 84%|████████▎ | 76/91 [09:03<01:38,  6.55s/it]"
     ]
    },
    {
     "name": "stdout",
     "output_type": "stream",
     "text": [
      "Searching in 97 chain...\n",
      "Searching in 56 chain...\n",
      "Searching in 57054 chain...\n",
      "Searching in 146 chain...\n",
      "Searching 0xd7cc0deb9dd11be95068bf2d7a3d082b8ba9bf04...\n",
      "Searching in 1 chain...\n",
      "error from get_internal_transactions_by_contract_addr: No transactions found\n",
      "Saved 0xd7cc0deb9dd11be95068bf2d7a3d082b8ba9bf04.json\n",
      "Saved 0xd7cc0deb9dd11be95068bf2d7a3d082b8ba9bf04.hex\n",
      "Saved 0xd7cc0deb9dd11be95068bf2d7a3d082b8ba9bf04.sol\n"
     ]
    },
    {
     "name": "stderr",
     "output_type": "stream",
     "text": [
      " 85%|████████▍ | 77/91 [09:09<01:29,  6.40s/it]"
     ]
    },
    {
     "name": "stdout",
     "output_type": "stream",
     "text": [
      "Searching in 97 chain...\n",
      "Searching in 56 chain...\n",
      "Searching in 57054 chain...\n",
      "Searching in 146 chain...\n",
      "Searching 0xd942f19ca27dcae7c1e044f10a7080a8cd3bc7c0...\n",
      "Searching in 1 chain...\n",
      "error from get_internal_transactions_by_contract_addr: No transactions found\n",
      "Saved 0xd942f19ca27dcae7c1e044f10a7080a8cd3bc7c0.json\n",
      "Saved 0xd942f19ca27dcae7c1e044f10a7080a8cd3bc7c0.hex\n",
      "Saved 0xd942f19ca27dcae7c1e044f10a7080a8cd3bc7c0.sol\n"
     ]
    },
    {
     "name": "stderr",
     "output_type": "stream",
     "text": [
      " 86%|████████▌ | 78/91 [09:19<01:35,  7.36s/it]"
     ]
    },
    {
     "name": "stdout",
     "output_type": "stream",
     "text": [
      "Searching in 97 chain...\n",
      "Searching in 56 chain...\n",
      "Searching in 57054 chain...\n",
      "Searching in 146 chain...\n",
      "Searching 0xdd84fc33eeac5b4c26a09ff13abf3cd1a7d3f8dd...\n",
      "Searching in 1 chain...\n",
      "Saved 0xdd84fc33eeac5b4c26a09ff13abf3cd1a7d3f8dd.json\n",
      "Saved 0xdd84fc33eeac5b4c26a09ff13abf3cd1a7d3f8dd.hex\n",
      "Saved 0xdd84fc33eeac5b4c26a09ff13abf3cd1a7d3f8dd.sol\n"
     ]
    },
    {
     "name": "stderr",
     "output_type": "stream",
     "text": [
      " 87%|████████▋ | 79/91 [09:25<01:22,  6.87s/it]"
     ]
    },
    {
     "name": "stdout",
     "output_type": "stream",
     "text": [
      "Searching in 97 chain...\n",
      "Searching in 56 chain...\n",
      "Searching in 57054 chain...\n",
      "Searching in 146 chain...\n",
      "Searching 0xdf859c9878ef5e742d7bbe3c22a496c088c89fa9...\n",
      "Searching in 1 chain...\n",
      "error from get_internal_transactions_by_contract_addr: No transactions found\n",
      "Saved 0xdf859c9878ef5e742d7bbe3c22a496c088c89fa9.json\n",
      "Saved 0xdf859c9878ef5e742d7bbe3c22a496c088c89fa9.hex\n",
      "Saved 0xdf859c9878ef5e742d7bbe3c22a496c088c89fa9.sol\n"
     ]
    },
    {
     "name": "stderr",
     "output_type": "stream",
     "text": [
      " 88%|████████▊ | 80/91 [09:44<01:56, 10.61s/it]"
     ]
    },
    {
     "name": "stdout",
     "output_type": "stream",
     "text": [
      "Searching in 97 chain...\n",
      "Searching in 56 chain...\n",
      "Searching in 57054 chain...\n",
      "Searching in 146 chain...\n",
      "Searching 0xdf9ecafee99e2954df6258ef85f18cf88462f452...\n",
      "Searching in 1 chain...\n",
      "error from get_internal_transactions_by_contract_addr: No transactions found\n",
      "error from get_events_by_contract_addr: No records found\n",
      "Saved 0xdf9ecafee99e2954df6258ef85f18cf88462f452.json\n",
      "Saved 0xdf9ecafee99e2954df6258ef85f18cf88462f452.hex\n",
      "Saved 0xdf9ecafee99e2954df6258ef85f18cf88462f452.sol\n"
     ]
    },
    {
     "name": "stderr",
     "output_type": "stream",
     "text": [
      " 89%|████████▉ | 81/91 [09:50<01:31,  9.15s/it]"
     ]
    },
    {
     "name": "stdout",
     "output_type": "stream",
     "text": [
      "Searching in 97 chain...\n",
      "Searching in 56 chain...\n",
      "Searching in 57054 chain...\n",
      "Searching in 146 chain...\n",
      "Searching 0xe18fa7b1e1a7af9b338d3fb89c23a83d0c2e4b5d...\n",
      "Searching in 1 chain...\n",
      "Saved 0xe18fa7b1e1a7af9b338d3fb89c23a83d0c2e4b5d.json\n",
      "Saved 0xe18fa7b1e1a7af9b338d3fb89c23a83d0c2e4b5d.hex\n",
      "Saved 0xe18fa7b1e1a7af9b338d3fb89c23a83d0c2e4b5d.sol\n"
     ]
    },
    {
     "name": "stderr",
     "output_type": "stream",
     "text": [
      " 90%|█████████ | 82/91 [09:56<01:13,  8.16s/it]"
     ]
    },
    {
     "name": "stdout",
     "output_type": "stream",
     "text": [
      "Searching in 97 chain...\n",
      "Searching in 56 chain...\n",
      "Searching in 57054 chain...\n",
      "Searching in 146 chain...\n",
      "Searching 0xe2c43d2c6d6875c8f24855054d77b5664c7e810f...\n",
      "Searching in 1 chain...\n",
      "Saved 0xe2c43d2c6d6875c8f24855054d77b5664c7e810f.json\n",
      "Saved 0xe2c43d2c6d6875c8f24855054d77b5664c7e810f.hex\n",
      "Saved 0xe2c43d2c6d6875c8f24855054d77b5664c7e810f.sol\n"
     ]
    },
    {
     "name": "stderr",
     "output_type": "stream",
     "text": [
      " 91%|█████████ | 83/91 [10:09<01:18,  9.76s/it]"
     ]
    },
    {
     "name": "stdout",
     "output_type": "stream",
     "text": [
      "Searching in 97 chain...\n",
      "Searching in 56 chain...\n",
      "Searching in 57054 chain...\n",
      "Searching in 146 chain...\n",
      "Searching 0xe36d1b67696c8567a3997858cb73de40c9b6888f...\n",
      "Searching in 1 chain...\n",
      "error from get_internal_transactions_by_contract_addr: No transactions found\n",
      "Saved 0xe36d1b67696c8567a3997858cb73de40c9b6888f.json\n",
      "Saved 0xe36d1b67696c8567a3997858cb73de40c9b6888f.hex\n",
      "Saved 0xe36d1b67696c8567a3997858cb73de40c9b6888f.sol\n"
     ]
    },
    {
     "name": "stderr",
     "output_type": "stream",
     "text": [
      " 92%|█████████▏| 84/91 [10:44<02:01, 17.40s/it]"
     ]
    },
    {
     "name": "stdout",
     "output_type": "stream",
     "text": [
      "Searching in 97 chain...\n",
      "Searching in 56 chain...\n",
      "Searching in 57054 chain...\n",
      "Searching in 146 chain...\n",
      "Searching 0xe412189da2dfa188a1a61633114b8732bbbfba19...\n",
      "Searching in 1 chain...\n",
      "Saved 0xe412189da2dfa188a1a61633114b8732bbbfba19.json\n",
      "Saved 0xe412189da2dfa188a1a61633114b8732bbbfba19.hex\n",
      "Saved 0xe412189da2dfa188a1a61633114b8732bbbfba19.sol\n"
     ]
    },
    {
     "name": "stderr",
     "output_type": "stream",
     "text": [
      " 93%|█████████▎| 85/91 [11:26<02:27, 24.57s/it]"
     ]
    },
    {
     "name": "stdout",
     "output_type": "stream",
     "text": [
      "Searching in 97 chain...\n",
      "Searching in 56 chain...\n",
      "Searching in 57054 chain...\n",
      "Searching in 146 chain...\n",
      "Searching 0xe5f3c6d2b47cbe2cf936b9521466bac2422ebef8...\n",
      "Searching in 1 chain...\n",
      "error from get_internal_transactions_by_contract_addr: No transactions found\n",
      "Saved 0xe5f3c6d2b47cbe2cf936b9521466bac2422ebef8.json\n",
      "Saved 0xe5f3c6d2b47cbe2cf936b9521466bac2422ebef8.hex\n",
      "Saved 0xe5f3c6d2b47cbe2cf936b9521466bac2422ebef8.sol\n"
     ]
    },
    {
     "name": "stderr",
     "output_type": "stream",
     "text": [
      " 95%|█████████▍| 86/91 [11:34<01:38, 19.75s/it]"
     ]
    },
    {
     "name": "stdout",
     "output_type": "stream",
     "text": [
      "Searching in 97 chain...\n",
      "Searching in 56 chain...\n",
      "Searching in 57054 chain...\n",
      "Searching in 146 chain...\n",
      "Searching 0xe79b55a739abd64c62e8a642afbf02582c008c88...\n",
      "Searching in 1 chain...\n",
      "Saved 0xe79b55a739abd64c62e8a642afbf02582c008c88.json\n",
      "Saved 0xe79b55a739abd64c62e8a642afbf02582c008c88.hex\n",
      "Saved 0xe79b55a739abd64c62e8a642afbf02582c008c88.sol\n"
     ]
    },
    {
     "name": "stderr",
     "output_type": "stream",
     "text": [
      " 96%|█████████▌| 87/91 [12:09<01:36, 24.22s/it]"
     ]
    },
    {
     "name": "stdout",
     "output_type": "stream",
     "text": [
      "Searching in 97 chain...\n",
      "Searching in 56 chain...\n",
      "Searching in 57054 chain...\n",
      "Searching in 146 chain...\n",
      "Searching 0xea26c4ac16d4a5a106820bc8aee85fd0b7b2b664...\n",
      "Searching in 1 chain...\n",
      "error from get_internal_transactions_by_contract_addr: No transactions found\n",
      "Saved 0xea26c4ac16d4a5a106820bc8aee85fd0b7b2b664.json\n",
      "Saved 0xea26c4ac16d4a5a106820bc8aee85fd0b7b2b664.hex\n",
      "Saved 0xea26c4ac16d4a5a106820bc8aee85fd0b7b2b664.sol\n"
     ]
    },
    {
     "name": "stderr",
     "output_type": "stream",
     "text": [
      " 97%|█████████▋| 88/91 [12:18<00:58, 19.66s/it]"
     ]
    },
    {
     "name": "stdout",
     "output_type": "stream",
     "text": [
      "Searching in 97 chain...\n",
      "Searching in 56 chain...\n",
      "Searching in 57054 chain...\n",
      "Searching in 146 chain...\n",
      "Searching 0xeca2967b2a2cc584495b2226372bc0dde481f857...\n",
      "Searching in 1 chain...\n",
      "error from get_internal_transactions_by_contract_addr: No transactions found\n",
      "Saved 0xeca2967b2a2cc584495b2226372bc0dde481f857.json\n",
      "Saved 0xeca2967b2a2cc584495b2226372bc0dde481f857.hex\n",
      "Saved 0xeca2967b2a2cc584495b2226372bc0dde481f857.sol\n"
     ]
    },
    {
     "name": "stderr",
     "output_type": "stream",
     "text": [
      " 98%|█████████▊| 89/91 [12:24<00:31, 15.57s/it]"
     ]
    },
    {
     "name": "stdout",
     "output_type": "stream",
     "text": [
      "Searching in 97 chain...\n",
      "Searching in 56 chain...\n",
      "Searching in 57054 chain...\n",
      "Searching in 146 chain...\n",
      "Searching 0xee7596c357c50f3677b794a5223db265394fb2e4...\n",
      "Searching in 1 chain...\n",
      "error from get_internal_transactions_by_contract_addr: No transactions found\n",
      "Saved 0xee7596c357c50f3677b794a5223db265394fb2e4.json\n",
      "Saved 0xee7596c357c50f3677b794a5223db265394fb2e4.hex\n",
      "Saved 0xee7596c357c50f3677b794a5223db265394fb2e4.sol\n"
     ]
    },
    {
     "name": "stderr",
     "output_type": "stream",
     "text": [
      " 99%|█████████▉| 90/91 [12:30<00:12, 12.64s/it]"
     ]
    },
    {
     "name": "stdout",
     "output_type": "stream",
     "text": [
      "Searching in 97 chain...\n",
      "Searching in 56 chain...\n",
      "Searching in 57054 chain...\n",
      "Searching in 146 chain...\n",
      "Searching 0xfb5fb992b64c86fbcb33ba151abd8ecbcc611bde...\n",
      "Searching in 1 chain...\n",
      "error from get_internal_transactions_by_contract_addr: No transactions found\n",
      "Saved 0xfb5fb992b64c86fbcb33ba151abd8ecbcc611bde.json\n",
      "Saved 0xfb5fb992b64c86fbcb33ba151abd8ecbcc611bde.hex\n",
      "Saved 0xfb5fb992b64c86fbcb33ba151abd8ecbcc611bde.sol\n"
     ]
    },
    {
     "name": "stderr",
     "output_type": "stream",
     "text": [
      "100%|██████████| 91/91 [12:37<00:00,  8.33s/it]"
     ]
    },
    {
     "name": "stdout",
     "output_type": "stream",
     "text": [
      "Searching in 97 chain...\n",
      "Searching in 56 chain...\n",
      "Searching in 57054 chain...\n",
      "Searching in 146 chain...\n"
     ]
    },
    {
     "name": "stderr",
     "output_type": "stream",
     "text": [
      "\n"
     ]
    }
   ],
   "source": [
    "chains = [1, 97, 56, 57054, 146]\n",
    "# 3. Collect and extract\n",
    "for addr in tqdm(target_df.index):\n",
    "    print(f\"Searching {addr}...\")\n",
    "    for chain in chains:\n",
    "        print(f\"Searching in {chain} chain...\")\n",
    "        if addr not in [filename.lower().split('.')[0] for filename in os.listdir(TXN_PATH)]:\n",
    "            info = get_info_by_contract_addr(addr, chain)\n",
    "            save_transactions_by_contract_addr(TXN_PATH, addr, info)\n",
    "            if 'creationBytecode' in info.get('creator'):\n",
    "                save_bytecode_by_contract_addr(HEX_PATH, addr, info['creator']['creationBytecode'])\n",
    "                time.sleep(0.5)\n",
    "        if addr not in [filename.lower().split('.')[0] for filename in os.listdir(HEX_PATH)]:\n",
    "            bytecode = get_bytecode_by_contract_addr(addr, chain)\n",
    "            save_bytecode_by_contract_addr(HEX_PATH, addr, bytecode)\n",
    "            time.sleep(0.5)\n",
    "        if addr not in [filename.lower().split('.')[0] for filename in os.listdir(SOL_PATH)]:\n",
    "            source = get_source_code_by_contract_addr(addr, chain)\n",
    "            if 'SourceCode' in source:\n",
    "                save_sol_by_contract_addr(SOL_PATH, addr, source['SourceCode'])\n",
    "                time.sleep(0.5)\n"
   ]
  },
  {
   "cell_type": "code",
   "execution_count": 10,
   "id": "d7b29701",
   "metadata": {},
   "outputs": [
    {
     "data": {
      "text/plain": [
       "(91, 91, 91, 91)"
      ]
     },
     "execution_count": 10,
     "metadata": {},
     "output_type": "execute_result"
    }
   ],
   "source": [
    "len(target_df), len(os.listdir(HEX_PATH)), len(os.listdir(TXN_PATH)), len(os.listdir(SOL_PATH))"
   ]
  },
  {
   "cell_type": "code",
   "execution_count": 11,
   "id": "ddd08b14",
   "metadata": {},
   "outputs": [
    {
     "name": "stdout",
     "output_type": "stream",
     "text": [
      "File moved successfully.\n"
     ]
    }
   ],
   "source": [
    "if os.path.exists(target):\n",
    "    shutil.move(target, DATASET_PATH)\n",
    "    print(\"File moved successfully.\")\n",
    "else:\n",
    "    print(\"File does not exist.\", UNLABELED_PATH)"
   ]
  },
  {
   "cell_type": "code",
   "execution_count": null,
   "id": "03105629",
   "metadata": {},
   "outputs": [],
   "source": []
  }
 ],
 "metadata": {
  "kernelspec": {
   "display_name": "ml-algo",
   "language": "python",
   "name": "python3"
  },
  "language_info": {
   "codemirror_mode": {
    "name": "ipython",
    "version": 3
   },
   "file_extension": ".py",
   "mimetype": "text/x-python",
   "name": "python",
   "nbconvert_exporter": "python",
   "pygments_lexer": "ipython3",
   "version": "3.12.7"
  }
 },
 "nbformat": 4,
 "nbformat_minor": 5
}
