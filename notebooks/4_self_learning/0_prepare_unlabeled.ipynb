{
 "cells": [
  {
   "cell_type": "markdown",
   "id": "8625fdad",
   "metadata": {},
   "source": [
    "# Partial Labeled Data Preparing"
   ]
  },
  {
   "cell_type": "markdown",
   "id": "13347ba3",
   "metadata": {},
   "source": [
    "## Set up"
   ]
  },
  {
   "cell_type": "code",
   "execution_count": 1,
   "id": "ef0fe7e8",
   "metadata": {},
   "outputs": [],
   "source": [
    "import os\n",
    "from pathlib import Path\n",
    "import shutil\n",
    "import pandas as pd\n",
    "from tqdm import tqdm\n",
    "import time\n",
    "\n",
    "import sys\n",
    "PATH = Path.cwd().parents[1]\n",
    "sys.path.append(str(PATH))\n",
    "\n",
    "from backend.utils.data_loader import (\n",
    "  get_info_by_contract_addr,\n",
    "  save_bytecode_by_contract_addr,\n",
    "  get_bytecode_by_contract_addr,\n",
    "  save_transactions_by_contract_addr,\n",
    "  get_source_code_by_contract_addr,\n",
    "  save_sol_by_contract_addr\n",
    ")"
   ]
  },
  {
   "cell_type": "code",
   "execution_count": 2,
   "id": "9c3498bf",
   "metadata": {},
   "outputs": [],
   "source": [
    "name = \"crp_large_sample.csv\" # change this\n",
    "DATA_PATH = os.path.join(PATH, 'data')\n",
    "SOURCE_PATH = os.path.join(DATA_PATH, 'external/crpwarner/dataset/large/hex') # change this\n",
    "DATASET_PATH = os.path.join(DATA_PATH, 'interim')\n",
    "UNLABELED_PATH = os.path.join(DATA_PATH, 'unlabeled')"
   ]
  },
  {
   "cell_type": "markdown",
   "id": "da3a385f",
   "metadata": {},
   "source": [
    "## Move Dataset to Unlabeled"
   ]
  },
  {
   "cell_type": "code",
   "execution_count": 3,
   "id": "8fd61c0d",
   "metadata": {},
   "outputs": [
    {
     "name": "stdout",
     "output_type": "stream",
     "text": [
      "File moved successfully.\n"
     ]
    }
   ],
   "source": [
    "source = os.path.join(DATASET_PATH, name)\n",
    "target = os.path.join(UNLABELED_PATH, name)\n",
    "if os.path.exists(source):\n",
    "    shutil.move(source, UNLABELED_PATH)\n",
    "    print(\"File moved successfully.\")\n",
    "else:\n",
    "    print(\"File does not exist.\", DATASET_PATH)"
   ]
  },
  {
   "cell_type": "code",
   "execution_count": 4,
   "id": "d91b36a7",
   "metadata": {},
   "outputs": [
    {
     "data": {
      "application/vnd.microsoft.datawrangler.viewer.v0+json": {
       "columns": [
        {
         "name": "Address",
         "rawType": "object",
         "type": "string"
        },
        {
         "name": "Mint",
         "rawType": "int64",
         "type": "integer"
        },
        {
         "name": "Leak",
         "rawType": "int64",
         "type": "integer"
        },
        {
         "name": "Limit",
         "rawType": "int64",
         "type": "integer"
        }
       ],
       "ref": "23562288-ecd9-47a8-a901-2a93a6ae7d29",
       "rows": [
        [
         "0x0290ea3c728981725689187763f6c63a68e192b8",
         "-1",
         "1",
         "-1"
        ],
        [
         "0x02d3aea48b443a0026ed9cbc91b97d7335aba323",
         "-1",
         "-1",
         "1"
        ],
        [
         "0x03260e1b0f53e1a1f93cf126a7ca42a1c71648d6",
         "1",
         "-1",
         "-1"
        ],
        [
         "0x054ad3cd4a66f14bf5c0de2548a53be66995a4f6",
         "-1",
         "1",
         "-1"
        ],
        [
         "0x0566c17dc2a9efcaa2f63e04cf06a69e8fc77f60",
         "-1",
         "0",
         "-1"
        ]
       ],
       "shape": {
        "columns": 3,
        "rows": 5
       }
      },
      "text/html": [
       "<div>\n",
       "<style scoped>\n",
       "    .dataframe tbody tr th:only-of-type {\n",
       "        vertical-align: middle;\n",
       "    }\n",
       "\n",
       "    .dataframe tbody tr th {\n",
       "        vertical-align: top;\n",
       "    }\n",
       "\n",
       "    .dataframe thead th {\n",
       "        text-align: right;\n",
       "    }\n",
       "</style>\n",
       "<table border=\"1\" class=\"dataframe\">\n",
       "  <thead>\n",
       "    <tr style=\"text-align: right;\">\n",
       "      <th></th>\n",
       "      <th>Mint</th>\n",
       "      <th>Leak</th>\n",
       "      <th>Limit</th>\n",
       "    </tr>\n",
       "    <tr>\n",
       "      <th>Address</th>\n",
       "      <th></th>\n",
       "      <th></th>\n",
       "      <th></th>\n",
       "    </tr>\n",
       "  </thead>\n",
       "  <tbody>\n",
       "    <tr>\n",
       "      <th>0x0290ea3c728981725689187763f6c63a68e192b8</th>\n",
       "      <td>-1</td>\n",
       "      <td>1</td>\n",
       "      <td>-1</td>\n",
       "    </tr>\n",
       "    <tr>\n",
       "      <th>0x02d3aea48b443a0026ed9cbc91b97d7335aba323</th>\n",
       "      <td>-1</td>\n",
       "      <td>-1</td>\n",
       "      <td>1</td>\n",
       "    </tr>\n",
       "    <tr>\n",
       "      <th>0x03260e1b0f53e1a1f93cf126a7ca42a1c71648d6</th>\n",
       "      <td>1</td>\n",
       "      <td>-1</td>\n",
       "      <td>-1</td>\n",
       "    </tr>\n",
       "    <tr>\n",
       "      <th>0x054ad3cd4a66f14bf5c0de2548a53be66995a4f6</th>\n",
       "      <td>-1</td>\n",
       "      <td>1</td>\n",
       "      <td>-1</td>\n",
       "    </tr>\n",
       "    <tr>\n",
       "      <th>0x0566c17dc2a9efcaa2f63e04cf06a69e8fc77f60</th>\n",
       "      <td>-1</td>\n",
       "      <td>0</td>\n",
       "      <td>-1</td>\n",
       "    </tr>\n",
       "  </tbody>\n",
       "</table>\n",
       "</div>"
      ],
      "text/plain": [
       "                                            Mint  Leak  Limit\n",
       "Address                                                      \n",
       "0x0290ea3c728981725689187763f6c63a68e192b8    -1     1     -1\n",
       "0x02d3aea48b443a0026ed9cbc91b97d7335aba323    -1    -1      1\n",
       "0x03260e1b0f53e1a1f93cf126a7ca42a1c71648d6     1    -1     -1\n",
       "0x054ad3cd4a66f14bf5c0de2548a53be66995a4f6    -1     1     -1\n",
       "0x0566c17dc2a9efcaa2f63e04cf06a69e8fc77f60    -1     0     -1"
      ]
     },
     "execution_count": 4,
     "metadata": {},
     "output_type": "execute_result"
    }
   ],
   "source": [
    "df = pd.read_csv(target, index_col=0)\n",
    "df.head()"
   ]
  },
  {
   "cell_type": "code",
   "execution_count": 5,
   "id": "06586b99",
   "metadata": {},
   "outputs": [],
   "source": [
    "target_df = df.loc[df['Mint']!=-1] # change this\n",
    "target_df.to_csv(os.path.join(UNLABELED_PATH, 'groundtruth.csv'))"
   ]
  },
  {
   "cell_type": "code",
   "execution_count": 6,
   "id": "f54c100e",
   "metadata": {},
   "outputs": [],
   "source": [
    "HEX_PATH = os.path.join(UNLABELED_PATH, 'hex')\n",
    "SOL_PATH = os.path.join(UNLABELED_PATH, 'sol')\n",
    "TXN_PATH = os.path.join(UNLABELED_PATH, 'txn')\n",
    "TMP_PATH = os.path.join(DATASET_PATH, 'hex')"
   ]
  },
  {
   "cell_type": "code",
   "execution_count": 7,
   "id": "b9701ced",
   "metadata": {},
   "outputs": [
    {
     "name": "stderr",
     "output_type": "stream",
     "text": [
      "100%|██████████| 13399/13399 [00:00<00:00, 33142.39it/s]\n",
      "100%|██████████| 13483/13483 [00:26<00:00, 500.72it/s]\n"
     ]
    }
   ],
   "source": [
    "for src_file in tqdm(list(Path(TMP_PATH).glob('*.hex'))):\n",
    "    address = src_file.stem.lower()\n",
    "    if address in target_df.index:\n",
    "        shutil.move(src_file, os.path.join(HEX_PATH, f'{address}.hex'))\n",
    "\n",
    "for src_file in tqdm(list(Path(SOURCE_PATH).glob('*.hex'))):\n",
    "    address = src_file.stem.lower()\n",
    "    if address in target_df.index:\n",
    "        shutil.copy(src_file, os.path.join(HEX_PATH, f'{address}.hex'))\n",
    "    else:\n",
    "        shutil.copy(src_file, os.path.join(TMP_PATH, f'{address}.hex'))"
   ]
  },
  {
   "cell_type": "code",
   "execution_count": 8,
   "id": "8fd2f7c5",
   "metadata": {},
   "outputs": [
    {
     "data": {
      "text/plain": [
       "(92, 92)"
      ]
     },
     "execution_count": 8,
     "metadata": {},
     "output_type": "execute_result"
    }
   ],
   "source": [
    "len(target_df), len(os.listdir(HEX_PATH))"
   ]
  },
  {
   "cell_type": "code",
   "execution_count": 9,
   "id": "17ee2149",
   "metadata": {},
   "outputs": [
    {
     "name": "stderr",
     "output_type": "stream",
     "text": [
      "  0%|          | 0/92 [00:00<?, ?it/s]"
     ]
    },
    {
     "name": "stdout",
     "output_type": "stream",
     "text": [
      "Searching 0x03260e1b0f53e1a1f93cf126a7ca42a1c71648d6...\n",
      "Searching in 1 chain...\n",
      "error from get_internal_transactions_by_contract_addr: No transactions found\n",
      "Saved 0x03260e1b0f53e1a1f93cf126a7ca42a1c71648d6.json\n",
      "Saved 0x03260e1b0f53e1a1f93cf126a7ca42a1c71648d6.hex\n",
      "Saved 0x03260e1b0f53e1a1f93cf126a7ca42a1c71648d6.sol\n"
     ]
    },
    {
     "name": "stderr",
     "output_type": "stream",
     "text": [
      "  1%|          | 1/92 [00:06<09:33,  6.30s/it]"
     ]
    },
    {
     "name": "stdout",
     "output_type": "stream",
     "text": [
      "Searching in 97 chain...\n",
      "Searching in 56 chain...\n",
      "Searching in 57054 chain...\n",
      "Searching in 146 chain...\n",
      "Searching 0x08769a9b479a4b20e796194d960cc407fc66359a...\n",
      "Searching in 1 chain...\n",
      "error from get_internal_transactions_by_contract_addr: No transactions found\n",
      "Saved 0x08769a9b479a4b20e796194d960cc407fc66359a.json\n",
      "Saved 0x08769a9b479a4b20e796194d960cc407fc66359a.hex\n",
      "Saved 0x08769a9b479a4b20e796194d960cc407fc66359a.sol\n"
     ]
    },
    {
     "name": "stderr",
     "output_type": "stream",
     "text": [
      "  2%|▏         | 2/92 [00:12<09:26,  6.30s/it]"
     ]
    },
    {
     "name": "stdout",
     "output_type": "stream",
     "text": [
      "Searching in 97 chain...\n",
      "Searching in 56 chain...\n",
      "Searching in 57054 chain...\n",
      "Searching in 146 chain...\n",
      "Searching 0x0b54c811cd4fd4d27c2ff0061c3831427d89b73c...\n",
      "Searching in 1 chain...\n",
      "error from get_internal_transactions_by_contract_addr: No transactions found\n",
      "Saved 0x0b54c811cd4fd4d27c2ff0061c3831427d89b73c.json\n",
      "Saved 0x0b54c811cd4fd4d27c2ff0061c3831427d89b73c.hex\n",
      "Saved 0x0b54c811cd4fd4d27c2ff0061c3831427d89b73c.sol\n"
     ]
    },
    {
     "name": "stderr",
     "output_type": "stream",
     "text": [
      "  3%|▎         | 3/92 [00:34<20:00, 13.49s/it]"
     ]
    },
    {
     "name": "stdout",
     "output_type": "stream",
     "text": [
      "Searching in 97 chain...\n",
      "Searching in 56 chain...\n",
      "Searching in 57054 chain...\n",
      "Searching in 146 chain...\n",
      "Searching 0x0c29d192dd5443fb5f00e5fe52f61d793025643b...\n",
      "Searching in 1 chain...\n",
      "error from get_internal_transactions_by_contract_addr: No transactions found\n",
      "Saved 0x0c29d192dd5443fb5f00e5fe52f61d793025643b.json\n",
      "Saved 0x0c29d192dd5443fb5f00e5fe52f61d793025643b.hex\n",
      "Saved 0x0c29d192dd5443fb5f00e5fe52f61d793025643b.sol\n"
     ]
    },
    {
     "name": "stderr",
     "output_type": "stream",
     "text": [
      "  4%|▍         | 4/92 [00:40<15:19, 10.45s/it]"
     ]
    },
    {
     "name": "stdout",
     "output_type": "stream",
     "text": [
      "Searching in 97 chain...\n",
      "Searching in 56 chain...\n",
      "Searching in 57054 chain...\n",
      "Searching in 146 chain...\n",
      "Searching 0x0d42fb07a685d2ff9d6bb93df0389946192cd322...\n",
      "Searching in 1 chain...\n",
      "Saved 0x0d42fb07a685d2ff9d6bb93df0389946192cd322.json\n",
      "Saved 0x0d42fb07a685d2ff9d6bb93df0389946192cd322.hex\n",
      "Saved 0x0d42fb07a685d2ff9d6bb93df0389946192cd322.sol\n"
     ]
    },
    {
     "name": "stderr",
     "output_type": "stream",
     "text": [
      "  5%|▌         | 5/92 [00:46<12:48,  8.83s/it]"
     ]
    },
    {
     "name": "stdout",
     "output_type": "stream",
     "text": [
      "Searching in 97 chain...\n",
      "Searching in 56 chain...\n",
      "Searching in 57054 chain...\n",
      "Searching in 146 chain...\n",
      "Searching 0x0ef3d116c56c092d37e15017accd6f8fdfdd85f4...\n",
      "Searching in 1 chain...\n",
      "error from get_internal_transactions_by_contract_addr: No transactions found\n",
      "Saved 0x0ef3d116c56c092d37e15017accd6f8fdfdd85f4.json\n",
      "Saved 0x0ef3d116c56c092d37e15017accd6f8fdfdd85f4.hex\n",
      "Saved 0x0ef3d116c56c092d37e15017accd6f8fdfdd85f4.sol\n"
     ]
    },
    {
     "name": "stderr",
     "output_type": "stream",
     "text": [
      "  7%|▋         | 6/92 [00:52<11:07,  7.77s/it]"
     ]
    },
    {
     "name": "stdout",
     "output_type": "stream",
     "text": [
      "Searching in 97 chain...\n",
      "Searching in 56 chain...\n",
      "Searching in 57054 chain...\n",
      "Searching in 146 chain...\n",
      "Searching 0x0fef20d2c4ee011fa0389e69e9fa92a2291b63c8...\n",
      "Searching in 1 chain...\n",
      "Saved 0x0fef20d2c4ee011fa0389e69e9fa92a2291b63c8.json\n",
      "Saved 0x0fef20d2c4ee011fa0389e69e9fa92a2291b63c8.hex\n",
      "Saved 0x0fef20d2c4ee011fa0389e69e9fa92a2291b63c8.sol\n"
     ]
    },
    {
     "name": "stderr",
     "output_type": "stream",
     "text": [
      "  8%|▊         | 7/92 [00:58<10:28,  7.40s/it]"
     ]
    },
    {
     "name": "stdout",
     "output_type": "stream",
     "text": [
      "Searching in 97 chain...\n",
      "Searching in 56 chain...\n",
      "Searching in 57054 chain...\n",
      "Searching in 146 chain...\n",
      "Searching 0x1354c8c1a66c2573ce9cc3e92e98d17869501a46...\n",
      "Searching in 1 chain...\n",
      "error from get_internal_transactions_by_contract_addr: No transactions found\n",
      "Saved 0x1354c8c1a66c2573ce9cc3e92e98d17869501a46.json\n",
      "Saved 0x1354c8c1a66c2573ce9cc3e92e98d17869501a46.hex\n",
      "Saved 0x1354c8c1a66c2573ce9cc3e92e98d17869501a46.sol\n"
     ]
    },
    {
     "name": "stderr",
     "output_type": "stream",
     "text": [
      "  9%|▊         | 8/92 [01:14<13:53,  9.93s/it]"
     ]
    },
    {
     "name": "stdout",
     "output_type": "stream",
     "text": [
      "Searching in 97 chain...\n",
      "Searching in 56 chain...\n",
      "Searching in 57054 chain...\n",
      "Searching in 146 chain...\n",
      "Searching 0x16ea4e590b3e8446266b24ad3d3caae2533d78f1...\n",
      "Searching in 1 chain...\n",
      "error from get_internal_transactions_by_contract_addr: No transactions found\n",
      "Saved 0x16ea4e590b3e8446266b24ad3d3caae2533d78f1.json\n",
      "Saved 0x16ea4e590b3e8446266b24ad3d3caae2533d78f1.hex\n",
      "Saved 0x16ea4e590b3e8446266b24ad3d3caae2533d78f1.sol\n"
     ]
    },
    {
     "name": "stderr",
     "output_type": "stream",
     "text": [
      " 10%|▉         | 9/92 [01:19<11:55,  8.63s/it]"
     ]
    },
    {
     "name": "stdout",
     "output_type": "stream",
     "text": [
      "Searching in 97 chain...\n",
      "Searching in 56 chain...\n",
      "Searching in 57054 chain...\n",
      "Searching in 146 chain...\n",
      "Searching 0x1b64dd46fdc45bb8706beb306241f089ed5d85bc...\n",
      "Searching in 1 chain...\n",
      "error from get_internal_transactions_by_contract_addr: No transactions found\n",
      "Saved 0x1b64dd46fdc45bb8706beb306241f089ed5d85bc.json\n",
      "Saved 0x1b64dd46fdc45bb8706beb306241f089ed5d85bc.hex\n",
      "Saved 0x1b64dd46fdc45bb8706beb306241f089ed5d85bc.sol\n"
     ]
    },
    {
     "name": "stderr",
     "output_type": "stream",
     "text": [
      " 11%|█         | 10/92 [01:26<10:56,  8.00s/it]"
     ]
    },
    {
     "name": "stdout",
     "output_type": "stream",
     "text": [
      "Searching in 97 chain...\n",
      "Searching in 56 chain...\n",
      "Searching in 57054 chain...\n",
      "Searching in 146 chain...\n",
      "Searching 0x1c4e6c18f7f5c15bbfff34b05b4523e92e56e3f6...\n",
      "Searching in 1 chain...\n",
      "error from get_internal_transactions_by_contract_addr: No transactions found\n",
      "Saved 0x1c4e6c18f7f5c15bbfff34b05b4523e92e56e3f6.json\n",
      "Saved 0x1c4e6c18f7f5c15bbfff34b05b4523e92e56e3f6.hex\n",
      "Saved 0x1c4e6c18f7f5c15bbfff34b05b4523e92e56e3f6.sol\n"
     ]
    },
    {
     "name": "stderr",
     "output_type": "stream",
     "text": [
      " 12%|█▏        | 11/92 [01:32<10:08,  7.51s/it]"
     ]
    },
    {
     "name": "stdout",
     "output_type": "stream",
     "text": [
      "Searching in 97 chain...\n",
      "Searching in 56 chain...\n",
      "Searching in 57054 chain...\n",
      "Searching in 146 chain...\n",
      "Searching 0x1cf33ead073351b3fc63c1f4f35dc10791fe6c7c...\n",
      "Searching in 1 chain...\n",
      "Saved 0x1cf33ead073351b3fc63c1f4f35dc10791fe6c7c.json\n",
      "Saved 0x1cf33ead073351b3fc63c1f4f35dc10791fe6c7c.hex\n",
      "Saved 0x1cf33ead073351b3fc63c1f4f35dc10791fe6c7c.sol\n"
     ]
    },
    {
     "name": "stderr",
     "output_type": "stream",
     "text": [
      " 13%|█▎        | 12/92 [01:38<09:20,  7.01s/it]"
     ]
    },
    {
     "name": "stdout",
     "output_type": "stream",
     "text": [
      "Searching in 97 chain...\n",
      "Searching in 56 chain...\n",
      "Searching in 57054 chain...\n",
      "Searching in 146 chain...\n",
      "Searching 0x2024e764af9efd2b54b16897af509ec052d281cb...\n",
      "Searching in 1 chain...\n",
      "error from get_events_by_contract_addr: No records found\n",
      "Saved 0x2024e764af9efd2b54b16897af509ec052d281cb.json\n",
      "Saved 0x2024e764af9efd2b54b16897af509ec052d281cb.hex\n",
      "Saved 0x2024e764af9efd2b54b16897af509ec052d281cb.sol\n"
     ]
    },
    {
     "name": "stderr",
     "output_type": "stream",
     "text": [
      " 14%|█▍        | 13/92 [01:44<08:43,  6.62s/it]"
     ]
    },
    {
     "name": "stdout",
     "output_type": "stream",
     "text": [
      "Searching in 97 chain...\n",
      "Searching in 56 chain...\n",
      "Searching in 57054 chain...\n",
      "Searching in 146 chain...\n",
      "Searching 0x21c482f153d0317fe85c60be1f7fa079019fcebd...\n",
      "Searching in 1 chain...\n",
      "error from get_internal_transactions_by_contract_addr: No transactions found\n",
      "Saved 0x21c482f153d0317fe85c60be1f7fa079019fcebd.json\n",
      "Saved 0x21c482f153d0317fe85c60be1f7fa079019fcebd.hex\n",
      "Saved 0x21c482f153d0317fe85c60be1f7fa079019fcebd.sol\n"
     ]
    },
    {
     "name": "stderr",
     "output_type": "stream",
     "text": [
      " 15%|█▌        | 14/92 [01:50<08:19,  6.40s/it]"
     ]
    },
    {
     "name": "stdout",
     "output_type": "stream",
     "text": [
      "Searching in 97 chain...\n",
      "Searching in 56 chain...\n",
      "Searching in 57054 chain...\n",
      "Searching in 146 chain...\n",
      "Searching 0x27ba530d3d4bfd98a31eb7c9512e1ce502c990b6...\n",
      "Searching in 1 chain...\n",
      "error from get_internal_transactions_by_contract_addr: No transactions found\n",
      "Saved 0x27ba530d3d4bfd98a31eb7c9512e1ce502c990b6.json\n",
      "Saved 0x27ba530d3d4bfd98a31eb7c9512e1ce502c990b6.hex\n",
      "Saved 0x27ba530d3d4bfd98a31eb7c9512e1ce502c990b6.sol\n"
     ]
    },
    {
     "name": "stderr",
     "output_type": "stream",
     "text": [
      " 16%|█▋        | 15/92 [01:56<07:56,  6.19s/it]"
     ]
    },
    {
     "name": "stdout",
     "output_type": "stream",
     "text": [
      "Searching in 97 chain...\n",
      "Searching in 56 chain...\n",
      "Searching in 57054 chain...\n",
      "Searching in 146 chain...\n",
      "Searching 0x2a90a1536dbadcb3be3c3e8af0019478c449fa5c...\n",
      "Searching in 1 chain...\n",
      "Saved 0x2a90a1536dbadcb3be3c3e8af0019478c449fa5c.json\n",
      "Saved 0x2a90a1536dbadcb3be3c3e8af0019478c449fa5c.hex\n",
      "Saved 0x2a90a1536dbadcb3be3c3e8af0019478c449fa5c.sol\n"
     ]
    },
    {
     "name": "stderr",
     "output_type": "stream",
     "text": [
      " 17%|█▋        | 16/92 [02:02<07:45,  6.13s/it]"
     ]
    },
    {
     "name": "stdout",
     "output_type": "stream",
     "text": [
      "Searching in 97 chain...\n",
      "Searching in 56 chain...\n",
      "Searching in 57054 chain...\n",
      "Searching in 146 chain...\n",
      "Searching 0x2c90bd4fab6652fcbb08e1d7e530f6387dfc4fd1...\n",
      "Searching in 1 chain...\n",
      "error from get_internal_transactions_by_contract_addr: No transactions found\n",
      "error from get_events_by_contract_addr: No records found\n",
      "Saved 0x2c90bd4fab6652fcbb08e1d7e530f6387dfc4fd1.json\n",
      "Saved 0x2c90bd4fab6652fcbb08e1d7e530f6387dfc4fd1.hex\n",
      "Saved 0x2c90bd4fab6652fcbb08e1d7e530f6387dfc4fd1.sol\n"
     ]
    },
    {
     "name": "stderr",
     "output_type": "stream",
     "text": [
      " 18%|█▊        | 17/92 [02:07<07:30,  6.00s/it]"
     ]
    },
    {
     "name": "stdout",
     "output_type": "stream",
     "text": [
      "Searching in 97 chain...\n",
      "Searching in 56 chain...\n",
      "Searching in 57054 chain...\n",
      "Searching in 146 chain...\n",
      "Searching 0x2e6fcb32c0469de2d43785b02575a2086e2bc040...\n",
      "Searching in 1 chain...\n",
      "error from get_internal_transactions_by_contract_addr: No transactions found\n",
      "Saved 0x2e6fcb32c0469de2d43785b02575a2086e2bc040.json\n",
      "Saved 0x2e6fcb32c0469de2d43785b02575a2086e2bc040.hex\n",
      "Saved 0x2e6fcb32c0469de2d43785b02575a2086e2bc040.sol\n"
     ]
    },
    {
     "name": "stderr",
     "output_type": "stream",
     "text": [
      " 20%|█▉        | 18/92 [02:13<07:27,  6.05s/it]"
     ]
    },
    {
     "name": "stdout",
     "output_type": "stream",
     "text": [
      "Searching in 97 chain...\n",
      "Searching in 56 chain...\n",
      "Searching in 57054 chain...\n",
      "Searching in 146 chain...\n",
      "Searching 0x2e76886f251caf2efe6853b181cea3385cc3a24b...\n",
      "Searching in 1 chain...\n",
      "error from get_internal_transactions_by_contract_addr: No transactions found\n",
      "Saved 0x2e76886f251caf2efe6853b181cea3385cc3a24b.json\n",
      "Saved 0x2e76886f251caf2efe6853b181cea3385cc3a24b.hex\n",
      "Saved 0x2e76886f251caf2efe6853b181cea3385cc3a24b.sol\n"
     ]
    },
    {
     "name": "stderr",
     "output_type": "stream",
     "text": [
      " 21%|██        | 19/92 [02:19<07:13,  5.94s/it]"
     ]
    },
    {
     "name": "stdout",
     "output_type": "stream",
     "text": [
      "Searching in 97 chain...\n",
      "Searching in 56 chain...\n",
      "Searching in 57054 chain...\n",
      "Searching in 146 chain...\n",
      "Searching 0x2ea20ba1c704db0822b78e146cd7a5f3b0342fb1...\n",
      "Searching in 1 chain...\n",
      "error from get_internal_transactions_by_contract_addr: No transactions found\n",
      "Saved 0x2ea20ba1c704db0822b78e146cd7a5f3b0342fb1.json\n",
      "Saved 0x2ea20ba1c704db0822b78e146cd7a5f3b0342fb1.hex\n",
      "Saved 0x2ea20ba1c704db0822b78e146cd7a5f3b0342fb1.sol\n"
     ]
    },
    {
     "name": "stderr",
     "output_type": "stream",
     "text": [
      " 22%|██▏       | 20/92 [02:25<07:02,  5.86s/it]"
     ]
    },
    {
     "name": "stdout",
     "output_type": "stream",
     "text": [
      "Searching in 97 chain...\n",
      "Searching in 56 chain...\n",
      "Searching in 57054 chain...\n",
      "Searching in 146 chain...\n",
      "Searching 0x2f22c502a8029d5e64aeafb6e0a214c0323f43c7...\n",
      "Searching in 1 chain...\n",
      "error from get_events_by_contract_addr: No records found\n",
      "Saved 0x2f22c502a8029d5e64aeafb6e0a214c0323f43c7.json\n",
      "Saved 0x2f22c502a8029d5e64aeafb6e0a214c0323f43c7.hex\n",
      "Saved 0x2f22c502a8029d5e64aeafb6e0a214c0323f43c7.sol\n"
     ]
    },
    {
     "name": "stderr",
     "output_type": "stream",
     "text": [
      " 23%|██▎       | 21/92 [02:30<06:52,  5.82s/it]"
     ]
    },
    {
     "name": "stdout",
     "output_type": "stream",
     "text": [
      "Searching in 97 chain...\n",
      "Searching in 56 chain...\n",
      "Searching in 57054 chain...\n",
      "Searching in 146 chain...\n",
      "Searching 0x2f4f6c055a7c8ab529f5b01f6616164aaeec18ad...\n",
      "Searching in 1 chain...\n",
      "error from get_internal_transactions_by_contract_addr: No transactions found\n",
      "Saved 0x2f4f6c055a7c8ab529f5b01f6616164aaeec18ad.json\n",
      "Saved 0x2f4f6c055a7c8ab529f5b01f6616164aaeec18ad.hex\n",
      "Saved 0x2f4f6c055a7c8ab529f5b01f6616164aaeec18ad.sol\n"
     ]
    },
    {
     "name": "stderr",
     "output_type": "stream",
     "text": [
      " 24%|██▍       | 22/92 [02:36<06:43,  5.76s/it]"
     ]
    },
    {
     "name": "stdout",
     "output_type": "stream",
     "text": [
      "Searching in 97 chain...\n",
      "Searching in 56 chain...\n",
      "Searching in 57054 chain...\n",
      "Searching in 146 chain...\n",
      "Searching 0x34915679d8e7f6b5ec26c02ab18565af38e19fc2...\n",
      "Searching in 1 chain...\n",
      "error from get_internal_transactions_by_contract_addr: No transactions found\n",
      "error from get_events_by_contract_addr: No records found\n",
      "Saved 0x34915679d8e7f6b5ec26c02ab18565af38e19fc2.json\n",
      "Saved 0x34915679d8e7f6b5ec26c02ab18565af38e19fc2.hex\n",
      "Saved 0x34915679d8e7f6b5ec26c02ab18565af38e19fc2.sol\n"
     ]
    },
    {
     "name": "stderr",
     "output_type": "stream",
     "text": [
      " 25%|██▌       | 23/92 [02:42<06:35,  5.74s/it]"
     ]
    },
    {
     "name": "stdout",
     "output_type": "stream",
     "text": [
      "Searching in 97 chain...\n",
      "Searching in 56 chain...\n",
      "Searching in 57054 chain...\n",
      "Searching in 146 chain...\n",
      "Searching 0x3633c61be0dd1b1fd20a97e05c5ed880a204de33...\n",
      "Searching in 1 chain...\n",
      "Saved 0x3633c61be0dd1b1fd20a97e05c5ed880a204de33.json\n",
      "Saved 0x3633c61be0dd1b1fd20a97e05c5ed880a204de33.hex\n",
      "Saved 0x3633c61be0dd1b1fd20a97e05c5ed880a204de33.sol\n"
     ]
    },
    {
     "name": "stderr",
     "output_type": "stream",
     "text": [
      " 26%|██▌       | 24/92 [02:47<06:28,  5.71s/it]"
     ]
    },
    {
     "name": "stdout",
     "output_type": "stream",
     "text": [
      "Searching in 97 chain...\n",
      "Searching in 56 chain...\n",
      "Searching in 57054 chain...\n",
      "Searching in 146 chain...\n",
      "Searching 0x3bd183046cf51acc807d1f0680029fa764f17bee...\n",
      "Searching in 1 chain...\n",
      "error from get_internal_transactions_by_contract_addr: No transactions found\n",
      "Saved 0x3bd183046cf51acc807d1f0680029fa764f17bee.json\n",
      "Saved 0x3bd183046cf51acc807d1f0680029fa764f17bee.hex\n",
      "Saved 0x3bd183046cf51acc807d1f0680029fa764f17bee.sol\n"
     ]
    },
    {
     "name": "stderr",
     "output_type": "stream",
     "text": [
      " 27%|██▋       | 25/92 [02:53<06:23,  5.72s/it]"
     ]
    },
    {
     "name": "stdout",
     "output_type": "stream",
     "text": [
      "Searching in 97 chain...\n",
      "Searching in 56 chain...\n",
      "Searching in 57054 chain...\n",
      "Searching in 146 chain...\n",
      "Searching 0x4045253edc2986c1c4800c3ce0cf0f5fb3c683e5...\n",
      "Searching in 1 chain...\n",
      "error from get_internal_transactions_by_contract_addr: No transactions found\n",
      "Saved 0x4045253edc2986c1c4800c3ce0cf0f5fb3c683e5.json\n",
      "Saved 0x4045253edc2986c1c4800c3ce0cf0f5fb3c683e5.hex\n",
      "Saved 0x4045253edc2986c1c4800c3ce0cf0f5fb3c683e5.sol\n"
     ]
    },
    {
     "name": "stderr",
     "output_type": "stream",
     "text": [
      " 28%|██▊       | 26/92 [02:59<06:17,  5.71s/it]"
     ]
    },
    {
     "name": "stdout",
     "output_type": "stream",
     "text": [
      "Searching in 97 chain...\n",
      "Searching in 56 chain...\n",
      "Searching in 57054 chain...\n",
      "Searching in 146 chain...\n",
      "Searching 0x4c0c2052dfdb2d0932644f7b2d4bea509678b9d9...\n",
      "Searching in 1 chain...\n",
      "error from get_internal_transactions_by_contract_addr: No transactions found\n",
      "Saved 0x4c0c2052dfdb2d0932644f7b2d4bea509678b9d9.json\n",
      "Saved 0x4c0c2052dfdb2d0932644f7b2d4bea509678b9d9.hex\n",
      "Saved 0x4c0c2052dfdb2d0932644f7b2d4bea509678b9d9.sol\n"
     ]
    },
    {
     "name": "stderr",
     "output_type": "stream",
     "text": [
      " 29%|██▉       | 27/92 [03:05<06:12,  5.73s/it]"
     ]
    },
    {
     "name": "stdout",
     "output_type": "stream",
     "text": [
      "Searching in 97 chain...\n",
      "Searching in 56 chain...\n",
      "Searching in 57054 chain...\n",
      "Searching in 146 chain...\n",
      "Searching 0x5052787b0b9cec67442e2ff43d2176693377bc5a...\n",
      "Searching in 1 chain...\n",
      "Saved 0x5052787b0b9cec67442e2ff43d2176693377bc5a.json\n",
      "Saved 0x5052787b0b9cec67442e2ff43d2176693377bc5a.hex\n",
      "Saved 0x5052787b0b9cec67442e2ff43d2176693377bc5a.sol\n"
     ]
    },
    {
     "name": "stderr",
     "output_type": "stream",
     "text": [
      " 30%|███       | 28/92 [03:13<06:57,  6.52s/it]"
     ]
    },
    {
     "name": "stdout",
     "output_type": "stream",
     "text": [
      "Searching in 97 chain...\n",
      "Searching in 56 chain...\n",
      "Searching in 57054 chain...\n",
      "Searching in 146 chain...\n",
      "Searching 0x514bc174df04a4b04ae2be81ee8c788c3796b06b...\n",
      "Searching in 1 chain...\n",
      "Saved 0x514bc174df04a4b04ae2be81ee8c788c3796b06b.json\n",
      "Saved 0x514bc174df04a4b04ae2be81ee8c788c3796b06b.hex\n",
      "Saved 0x514bc174df04a4b04ae2be81ee8c788c3796b06b.sol\n"
     ]
    },
    {
     "name": "stderr",
     "output_type": "stream",
     "text": [
      " 32%|███▏      | 29/92 [03:19<06:37,  6.31s/it]"
     ]
    },
    {
     "name": "stdout",
     "output_type": "stream",
     "text": [
      "Searching in 97 chain...\n",
      "Searching in 56 chain...\n",
      "Searching in 57054 chain...\n",
      "Searching in 146 chain...\n",
      "Searching 0x522b0f328ca716b5b676cab767372d48853ff040...\n",
      "Searching in 1 chain...\n",
      "error from get_internal_transactions_by_contract_addr: No transactions found\n",
      "Saved 0x522b0f328ca716b5b676cab767372d48853ff040.json\n",
      "Saved 0x522b0f328ca716b5b676cab767372d48853ff040.hex\n",
      "Saved 0x522b0f328ca716b5b676cab767372d48853ff040.sol\n"
     ]
    },
    {
     "name": "stderr",
     "output_type": "stream",
     "text": [
      " 33%|███▎      | 30/92 [03:25<06:22,  6.16s/it]"
     ]
    },
    {
     "name": "stdout",
     "output_type": "stream",
     "text": [
      "Searching in 97 chain...\n",
      "Searching in 56 chain...\n",
      "Searching in 57054 chain...\n",
      "Searching in 146 chain...\n",
      "Searching 0x549ace5ff0c3a1881682fa06813c06884f7ee2e0...\n",
      "Searching in 1 chain...\n",
      "Saved 0x549ace5ff0c3a1881682fa06813c06884f7ee2e0.json\n",
      "Saved 0x549ace5ff0c3a1881682fa06813c06884f7ee2e0.hex\n",
      "Saved 0x549ace5ff0c3a1881682fa06813c06884f7ee2e0.sol\n"
     ]
    },
    {
     "name": "stderr",
     "output_type": "stream",
     "text": [
      " 34%|███▎      | 31/92 [03:30<06:10,  6.08s/it]"
     ]
    },
    {
     "name": "stdout",
     "output_type": "stream",
     "text": [
      "Searching in 97 chain...\n",
      "Searching in 56 chain...\n",
      "Searching in 57054 chain...\n",
      "Searching in 146 chain...\n",
      "Searching 0x54ee540b38fc6e0548172fe651927d85366c6bf7...\n",
      "Searching in 1 chain...\n",
      "error from get_internal_transactions_by_contract_addr: No transactions found\n",
      "Saved 0x54ee540b38fc6e0548172fe651927d85366c6bf7.json\n",
      "Saved 0x54ee540b38fc6e0548172fe651927d85366c6bf7.hex\n",
      "Saved 0x54ee540b38fc6e0548172fe651927d85366c6bf7.sol\n"
     ]
    },
    {
     "name": "stderr",
     "output_type": "stream",
     "text": [
      " 35%|███▍      | 32/92 [03:36<05:57,  5.96s/it]"
     ]
    },
    {
     "name": "stdout",
     "output_type": "stream",
     "text": [
      "Searching in 97 chain...\n",
      "Searching in 56 chain...\n",
      "Searching in 57054 chain...\n",
      "Searching in 146 chain...\n",
      "Searching 0x55b65bdbe29a1b2d29e28038b09075bac320d11d...\n",
      "Searching in 1 chain...\n",
      "error from get_internal_transactions_by_contract_addr: No transactions found\n",
      "error from get_events_by_contract_addr: No records found\n",
      "Saved 0x55b65bdbe29a1b2d29e28038b09075bac320d11d.json\n",
      "Saved 0x55b65bdbe29a1b2d29e28038b09075bac320d11d.hex\n",
      "Saved 0x55b65bdbe29a1b2d29e28038b09075bac320d11d.sol\n"
     ]
    },
    {
     "name": "stderr",
     "output_type": "stream",
     "text": [
      " 36%|███▌      | 33/92 [03:42<05:45,  5.85s/it]"
     ]
    },
    {
     "name": "stdout",
     "output_type": "stream",
     "text": [
      "Searching in 97 chain...\n",
      "Searching in 56 chain...\n",
      "Searching in 57054 chain...\n",
      "Searching in 146 chain...\n",
      "Searching 0x56ba2ee7890461f463f7be02aac3099f6d5811a8...\n",
      "Searching in 1 chain...\n",
      "Saved 0x56ba2ee7890461f463f7be02aac3099f6d5811a8.json\n",
      "Saved 0x56ba2ee7890461f463f7be02aac3099f6d5811a8.hex\n",
      "Saved 0x56ba2ee7890461f463f7be02aac3099f6d5811a8.sol\n"
     ]
    },
    {
     "name": "stderr",
     "output_type": "stream",
     "text": [
      " 37%|███▋      | 34/92 [03:53<07:14,  7.49s/it]"
     ]
    },
    {
     "name": "stdout",
     "output_type": "stream",
     "text": [
      "Searching in 97 chain...\n",
      "Searching in 56 chain...\n",
      "Searching in 57054 chain...\n",
      "Searching in 146 chain...\n",
      "Searching 0x58b6a8a3302369daec383334672404ee733ab239...\n",
      "Searching in 1 chain...\n",
      "Saved 0x58b6a8a3302369daec383334672404ee733ab239.json\n",
      "Saved 0x58b6a8a3302369daec383334672404ee733ab239.hex\n",
      "Saved 0x58b6a8a3302369daec383334672404ee733ab239.sol\n"
     ]
    },
    {
     "name": "stderr",
     "output_type": "stream",
     "text": [
      " 38%|███▊      | 35/92 [04:11<10:05, 10.63s/it]"
     ]
    },
    {
     "name": "stdout",
     "output_type": "stream",
     "text": [
      "Searching in 97 chain...\n",
      "Searching in 56 chain...\n",
      "Searching in 57054 chain...\n",
      "Searching in 146 chain...\n",
      "Searching 0x5e2cdfaaa35273bb4c1ca9c3c8f335af1b1bf4b7...\n",
      "Searching in 1 chain...\n",
      "error from get_internal_transactions_by_contract_addr: No transactions found\n",
      "Saved 0x5e2cdfaaa35273bb4c1ca9c3c8f335af1b1bf4b7.json\n",
      "Saved 0x5e2cdfaaa35273bb4c1ca9c3c8f335af1b1bf4b7.hex\n",
      "Saved 0x5e2cdfaaa35273bb4c1ca9c3c8f335af1b1bf4b7.sol\n"
     ]
    },
    {
     "name": "stderr",
     "output_type": "stream",
     "text": [
      " 39%|███▉      | 36/92 [04:20<09:33, 10.23s/it]"
     ]
    },
    {
     "name": "stdout",
     "output_type": "stream",
     "text": [
      "Searching in 97 chain...\n",
      "Searching in 56 chain...\n",
      "Searching in 57054 chain...\n",
      "Searching in 146 chain...\n",
      "Searching 0x5ec77d9416e8ea58229639156c5fd182cf15ff55...\n",
      "Searching in 1 chain...\n",
      "error from get_internal_transactions_by_contract_addr: No transactions found\n",
      "Saved 0x5ec77d9416e8ea58229639156c5fd182cf15ff55.json\n",
      "Saved 0x5ec77d9416e8ea58229639156c5fd182cf15ff55.hex\n",
      "Saved 0x5ec77d9416e8ea58229639156c5fd182cf15ff55.sol\n"
     ]
    },
    {
     "name": "stderr",
     "output_type": "stream",
     "text": [
      " 40%|████      | 37/92 [04:38<11:27, 12.49s/it]"
     ]
    },
    {
     "name": "stdout",
     "output_type": "stream",
     "text": [
      "Searching in 97 chain...\n",
      "Searching in 56 chain...\n",
      "Searching in 57054 chain...\n",
      "Searching in 146 chain...\n",
      "Searching 0x616f9cb89319194935543f445266735bfce524d6...\n",
      "Searching in 1 chain...\n",
      "error from get_internal_transactions_by_contract_addr: No transactions found\n",
      "error from get_events_by_contract_addr: No records found\n",
      "Saved 0x616f9cb89319194935543f445266735bfce524d6.json\n",
      "Saved 0x616f9cb89319194935543f445266735bfce524d6.hex\n",
      "Saved 0x616f9cb89319194935543f445266735bfce524d6.sol\n"
     ]
    },
    {
     "name": "stderr",
     "output_type": "stream",
     "text": [
      " 41%|████▏     | 38/92 [04:44<09:28, 10.53s/it]"
     ]
    },
    {
     "name": "stdout",
     "output_type": "stream",
     "text": [
      "Searching in 97 chain...\n",
      "Searching in 56 chain...\n",
      "Searching in 57054 chain...\n",
      "Searching in 146 chain...\n",
      "Searching 0x627058c1d8438ae33edb07ef4c7d8c0de95ccba2...\n",
      "Searching in 1 chain...\n",
      "error from get_internal_transactions_by_contract_addr: No transactions found\n",
      "Saved 0x627058c1d8438ae33edb07ef4c7d8c0de95ccba2.json\n",
      "Saved 0x627058c1d8438ae33edb07ef4c7d8c0de95ccba2.hex\n",
      "Saved 0x627058c1d8438ae33edb07ef4c7d8c0de95ccba2.sol\n"
     ]
    },
    {
     "name": "stderr",
     "output_type": "stream",
     "text": [
      " 42%|████▏     | 39/92 [04:52<08:30,  9.63s/it]"
     ]
    },
    {
     "name": "stdout",
     "output_type": "stream",
     "text": [
      "Searching in 97 chain...\n",
      "Searching in 56 chain...\n",
      "Searching in 57054 chain...\n",
      "Searching in 146 chain...\n",
      "Searching 0x645b6d66a07479bca259aaaaf0066d415e1d4b44...\n",
      "Searching in 1 chain...\n",
      "error from get_internal_transactions_by_contract_addr: No transactions found\n",
      "Saved 0x645b6d66a07479bca259aaaaf0066d415e1d4b44.json\n",
      "Saved 0x645b6d66a07479bca259aaaaf0066d415e1d4b44.hex\n",
      "Saved 0x645b6d66a07479bca259aaaaf0066d415e1d4b44.sol\n"
     ]
    },
    {
     "name": "stderr",
     "output_type": "stream",
     "text": [
      " 43%|████▎     | 40/92 [05:03<08:43, 10.08s/it]"
     ]
    },
    {
     "name": "stdout",
     "output_type": "stream",
     "text": [
      "Searching in 97 chain...\n",
      "Searching in 56 chain...\n",
      "Searching in 57054 chain...\n",
      "Searching in 146 chain...\n",
      "Searching 0x64d30c2e9715f0add2815f862eaf22d9dbc1bd28...\n",
      "Searching in 1 chain...\n",
      "Saved 0x64d30c2e9715f0add2815f862eaf22d9dbc1bd28.json\n",
      "Saved 0x64d30c2e9715f0add2815f862eaf22d9dbc1bd28.hex\n",
      "Saved 0x64d30c2e9715f0add2815f862eaf22d9dbc1bd28.sol\n"
     ]
    },
    {
     "name": "stderr",
     "output_type": "stream",
     "text": [
      " 45%|████▍     | 41/92 [05:10<07:52,  9.27s/it]"
     ]
    },
    {
     "name": "stdout",
     "output_type": "stream",
     "text": [
      "Searching in 97 chain...\n",
      "Searching in 56 chain...\n",
      "Searching in 57054 chain...\n",
      "Searching in 146 chain...\n",
      "Searching 0x678ae07713cb9e8af29d78ca2836fa3851a26a7a...\n",
      "Searching in 1 chain...\n",
      "Saved 0x678ae07713cb9e8af29d78ca2836fa3851a26a7a.json\n",
      "Saved 0x678ae07713cb9e8af29d78ca2836fa3851a26a7a.hex\n",
      "Saved 0x678ae07713cb9e8af29d78ca2836fa3851a26a7a.sol\n"
     ]
    },
    {
     "name": "stderr",
     "output_type": "stream",
     "text": [
      " 46%|████▌     | 42/92 [05:18<07:27,  8.94s/it]"
     ]
    },
    {
     "name": "stdout",
     "output_type": "stream",
     "text": [
      "Searching in 97 chain...\n",
      "Searching in 56 chain...\n",
      "Searching in 57054 chain...\n",
      "Searching in 146 chain...\n",
      "Searching 0x6a9b3e36436b7abde8c4e2e2a98ea40455e615cf...\n",
      "Searching in 1 chain...\n",
      "error from get_internal_transactions_by_contract_addr: No transactions found\n",
      "Saved 0x6a9b3e36436b7abde8c4e2e2a98ea40455e615cf.json\n",
      "Saved 0x6a9b3e36436b7abde8c4e2e2a98ea40455e615cf.hex\n",
      "Saved 0x6a9b3e36436b7abde8c4e2e2a98ea40455e615cf.sol\n"
     ]
    },
    {
     "name": "stderr",
     "output_type": "stream",
     "text": [
      " 47%|████▋     | 43/92 [05:34<08:57, 10.98s/it]"
     ]
    },
    {
     "name": "stdout",
     "output_type": "stream",
     "text": [
      "Searching in 97 chain...\n",
      "Searching in 56 chain...\n",
      "Searching in 57054 chain...\n",
      "Searching in 146 chain...\n",
      "Searching 0x71a982a028c9d4b0566041a78df12b810462e155...\n",
      "Searching in 1 chain...\n",
      "error from get_internal_transactions_by_contract_addr: No transactions found\n",
      "Saved 0x71a982a028c9d4b0566041a78df12b810462e155.json\n",
      "Saved 0x71a982a028c9d4b0566041a78df12b810462e155.hex\n",
      "Saved 0x71a982a028c9d4b0566041a78df12b810462e155.sol\n"
     ]
    },
    {
     "name": "stderr",
     "output_type": "stream",
     "text": [
      " 48%|████▊     | 44/92 [05:46<08:55, 11.15s/it]"
     ]
    },
    {
     "name": "stdout",
     "output_type": "stream",
     "text": [
      "Searching in 97 chain...\n",
      "Searching in 56 chain...\n",
      "Searching in 57054 chain...\n",
      "Searching in 146 chain...\n",
      "Searching 0x740e6b6f0a0165e8bb3d1cdf94862bdffbded22e...\n",
      "Searching in 1 chain...\n",
      "Saved 0x740e6b6f0a0165e8bb3d1cdf94862bdffbded22e.json\n",
      "Saved 0x740e6b6f0a0165e8bb3d1cdf94862bdffbded22e.hex\n",
      "Saved 0x740e6b6f0a0165e8bb3d1cdf94862bdffbded22e.sol\n"
     ]
    },
    {
     "name": "stderr",
     "output_type": "stream",
     "text": [
      " 49%|████▉     | 45/92 [06:08<11:17, 14.41s/it]"
     ]
    },
    {
     "name": "stdout",
     "output_type": "stream",
     "text": [
      "Searching in 97 chain...\n",
      "Searching in 56 chain...\n",
      "Searching in 57054 chain...\n",
      "Searching in 146 chain...\n",
      "Searching 0x7a1c0aa1e5bd4cc05af8c0283fd4aebedd7cadcf...\n",
      "Searching in 1 chain...\n",
      "error from get_internal_transactions_by_contract_addr: No transactions found\n",
      "error from get_events_by_contract_addr: No records found\n",
      "Saved 0x7a1c0aa1e5bd4cc05af8c0283fd4aebedd7cadcf.json\n",
      "Saved 0x7a1c0aa1e5bd4cc05af8c0283fd4aebedd7cadcf.hex\n",
      "Saved 0x7a1c0aa1e5bd4cc05af8c0283fd4aebedd7cadcf.sol\n"
     ]
    },
    {
     "name": "stderr",
     "output_type": "stream",
     "text": [
      " 50%|█████     | 46/92 [06:15<09:21, 12.20s/it]"
     ]
    },
    {
     "name": "stdout",
     "output_type": "stream",
     "text": [
      "Searching in 97 chain...\n",
      "Searching in 56 chain...\n",
      "Searching in 57054 chain...\n",
      "Searching in 146 chain...\n",
      "Searching 0x7d227fe3c5885c3875180e03c548d09ebe1b0119...\n",
      "Searching in 1 chain...\n",
      "error from get_internal_transactions_by_contract_addr: No transactions found\n",
      "Saved 0x7d227fe3c5885c3875180e03c548d09ebe1b0119.json\n",
      "Saved 0x7d227fe3c5885c3875180e03c548d09ebe1b0119.hex\n",
      "Saved 0x7d227fe3c5885c3875180e03c548d09ebe1b0119.sol\n"
     ]
    },
    {
     "name": "stderr",
     "output_type": "stream",
     "text": [
      " 51%|█████     | 47/92 [06:20<07:39, 10.22s/it]"
     ]
    },
    {
     "name": "stdout",
     "output_type": "stream",
     "text": [
      "Searching in 97 chain...\n",
      "Searching in 56 chain...\n",
      "Searching in 57054 chain...\n",
      "Searching in 146 chain...\n",
      "Searching 0x7dd2f15b4a8c8e14da5eaa7b635221d4b39c41cc...\n",
      "Searching in 1 chain...\n",
      "error from get_internal_transactions_by_contract_addr: No transactions found\n",
      "Saved 0x7dd2f15b4a8c8e14da5eaa7b635221d4b39c41cc.json\n",
      "Saved 0x7dd2f15b4a8c8e14da5eaa7b635221d4b39c41cc.hex\n",
      "Saved 0x7dd2f15b4a8c8e14da5eaa7b635221d4b39c41cc.sol\n"
     ]
    },
    {
     "name": "stderr",
     "output_type": "stream",
     "text": [
      " 52%|█████▏    | 48/92 [06:26<06:30,  8.87s/it]"
     ]
    },
    {
     "name": "stdout",
     "output_type": "stream",
     "text": [
      "Searching in 97 chain...\n",
      "Searching in 56 chain...\n",
      "Searching in 57054 chain...\n",
      "Searching in 146 chain...\n",
      "Searching 0x7e8e9f04973682af459a458572afbf19f769aca5...\n",
      "Searching in 1 chain...\n",
      "Saved 0x7e8e9f04973682af459a458572afbf19f769aca5.json\n",
      "Saved 0x7e8e9f04973682af459a458572afbf19f769aca5.hex\n",
      "Saved 0x7e8e9f04973682af459a458572afbf19f769aca5.sol\n"
     ]
    },
    {
     "name": "stderr",
     "output_type": "stream",
     "text": [
      " 53%|█████▎    | 49/92 [06:32<05:39,  7.90s/it]"
     ]
    },
    {
     "name": "stdout",
     "output_type": "stream",
     "text": [
      "Searching in 97 chain...\n",
      "Searching in 56 chain...\n",
      "Searching in 57054 chain...\n",
      "Searching in 146 chain...\n",
      "Searching 0x7e9d5e7655bf3ee30043ca24a55eb6f799e0ee54...\n",
      "Searching in 1 chain...\n",
      "error from get_internal_transactions_by_contract_addr: No transactions found\n",
      "Saved 0x7e9d5e7655bf3ee30043ca24a55eb6f799e0ee54.json\n",
      "Saved 0x7e9d5e7655bf3ee30043ca24a55eb6f799e0ee54.hex\n",
      "Saved 0x7e9d5e7655bf3ee30043ca24a55eb6f799e0ee54.sol\n"
     ]
    },
    {
     "name": "stderr",
     "output_type": "stream",
     "text": [
      " 54%|█████▍    | 50/92 [06:37<05:03,  7.22s/it]"
     ]
    },
    {
     "name": "stdout",
     "output_type": "stream",
     "text": [
      "Searching in 97 chain...\n",
      "Searching in 56 chain...\n",
      "Searching in 57054 chain...\n",
      "Searching in 146 chain...\n",
      "Searching 0x7fa2f70bd4c4120fdd539ebd55c04118ba336b9e...\n",
      "Searching in 1 chain...\n",
      "error from get_internal_transactions_by_contract_addr: No transactions found\n",
      "Saved 0x7fa2f70bd4c4120fdd539ebd55c04118ba336b9e.json\n",
      "Saved 0x7fa2f70bd4c4120fdd539ebd55c04118ba336b9e.hex\n",
      "Saved 0x7fa2f70bd4c4120fdd539ebd55c04118ba336b9e.sol\n"
     ]
    },
    {
     "name": "stderr",
     "output_type": "stream",
     "text": [
      " 55%|█████▌    | 51/92 [06:44<04:48,  7.03s/it]"
     ]
    },
    {
     "name": "stdout",
     "output_type": "stream",
     "text": [
      "Searching in 97 chain...\n",
      "Searching in 56 chain...\n",
      "Searching in 57054 chain...\n",
      "Searching in 146 chain...\n",
      "Searching 0x7fc408011165760ee31be2bf20daf450356692af...\n",
      "Searching in 1 chain...\n",
      "Saved 0x7fc408011165760ee31be2bf20daf450356692af.json\n",
      "Saved 0x7fc408011165760ee31be2bf20daf450356692af.hex\n",
      "Saved 0x7fc408011165760ee31be2bf20daf450356692af.sol\n"
     ]
    },
    {
     "name": "stderr",
     "output_type": "stream",
     "text": [
      " 57%|█████▋    | 52/92 [06:50<04:28,  6.71s/it]"
     ]
    },
    {
     "name": "stdout",
     "output_type": "stream",
     "text": [
      "Searching in 97 chain...\n",
      "Searching in 56 chain...\n",
      "Searching in 57054 chain...\n",
      "Searching in 146 chain...\n",
      "Searching 0x7fccf800568747b178c6cbbe4bf3d147df75ac61...\n",
      "Searching in 1 chain...\n",
      "error from get_internal_transactions_by_contract_addr: No transactions found\n",
      "Saved 0x7fccf800568747b178c6cbbe4bf3d147df75ac61.json\n",
      "Saved 0x7fccf800568747b178c6cbbe4bf3d147df75ac61.hex\n",
      "Saved 0x7fccf800568747b178c6cbbe4bf3d147df75ac61.sol\n"
     ]
    },
    {
     "name": "stderr",
     "output_type": "stream",
     "text": [
      " 58%|█████▊    | 53/92 [06:56<04:13,  6.51s/it]"
     ]
    },
    {
     "name": "stdout",
     "output_type": "stream",
     "text": [
      "Searching in 97 chain...\n",
      "Searching in 56 chain...\n",
      "Searching in 57054 chain...\n",
      "Searching in 146 chain...\n",
      "Searching 0x85ea0df59947bd97e592d9756e965c3f55fb6ebe...\n",
      "Searching in 1 chain...\n",
      "error from get_internal_transactions_by_contract_addr: No transactions found\n",
      "error from get_events_by_contract_addr: No records found\n",
      "Saved 0x85ea0df59947bd97e592d9756e965c3f55fb6ebe.json\n",
      "Saved 0x85ea0df59947bd97e592d9756e965c3f55fb6ebe.hex\n",
      "Saved 0x85ea0df59947bd97e592d9756e965c3f55fb6ebe.sol\n"
     ]
    },
    {
     "name": "stderr",
     "output_type": "stream",
     "text": [
      " 59%|█████▊    | 54/92 [07:01<03:57,  6.24s/it]"
     ]
    },
    {
     "name": "stdout",
     "output_type": "stream",
     "text": [
      "Searching in 97 chain...\n",
      "Searching in 56 chain...\n",
      "Searching in 57054 chain...\n",
      "Searching in 146 chain...\n",
      "Searching 0x89cf87c35e69a9b84f7a3e50eaf54bfc3cabc377...\n",
      "Searching in 1 chain...\n",
      "Saved 0x89cf87c35e69a9b84f7a3e50eaf54bfc3cabc377.json\n",
      "Saved 0x89cf87c35e69a9b84f7a3e50eaf54bfc3cabc377.hex\n",
      "Saved 0x89cf87c35e69a9b84f7a3e50eaf54bfc3cabc377.sol\n"
     ]
    },
    {
     "name": "stderr",
     "output_type": "stream",
     "text": [
      " 60%|█████▉    | 55/92 [07:09<04:10,  6.77s/it]"
     ]
    },
    {
     "name": "stdout",
     "output_type": "stream",
     "text": [
      "Searching in 97 chain...\n",
      "Searching in 56 chain...\n",
      "Searching in 57054 chain...\n",
      "Searching in 146 chain...\n",
      "Searching 0x8c01ada8e708993a891d57d1b3169479a20acb3a...\n",
      "Searching in 1 chain...\n",
      "error from get_internal_transactions_by_contract_addr: No transactions found\n",
      "Saved 0x8c01ada8e708993a891d57d1b3169479a20acb3a.json\n",
      "Saved 0x8c01ada8e708993a891d57d1b3169479a20acb3a.hex\n",
      "Saved 0x8c01ada8e708993a891d57d1b3169479a20acb3a.sol\n"
     ]
    },
    {
     "name": "stderr",
     "output_type": "stream",
     "text": [
      " 61%|██████    | 56/92 [07:15<03:51,  6.43s/it]"
     ]
    },
    {
     "name": "stdout",
     "output_type": "stream",
     "text": [
      "Searching in 97 chain...\n",
      "Searching in 56 chain...\n",
      "Searching in 57054 chain...\n",
      "Searching in 146 chain...\n",
      "Searching 0x8d3bd2940bbc5ed724d138934374e4c0ad3c0027...\n",
      "Searching in 1 chain...\n",
      "error from get_internal_transactions_by_contract_addr: No transactions found\n",
      "Saved 0x8d3bd2940bbc5ed724d138934374e4c0ad3c0027.json\n",
      "Saved 0x8d3bd2940bbc5ed724d138934374e4c0ad3c0027.hex\n",
      "Saved 0x8d3bd2940bbc5ed724d138934374e4c0ad3c0027.sol\n"
     ]
    },
    {
     "name": "stderr",
     "output_type": "stream",
     "text": [
      " 62%|██████▏   | 57/92 [07:21<03:41,  6.34s/it]"
     ]
    },
    {
     "name": "stdout",
     "output_type": "stream",
     "text": [
      "Searching in 97 chain...\n",
      "Searching in 56 chain...\n",
      "Searching in 57054 chain...\n",
      "Searching in 146 chain...\n",
      "Searching 0x8d46facfb889740a345755e624942257dc87b5ac...\n",
      "Searching in 1 chain...\n",
      "error from get_internal_transactions_by_contract_addr: No transactions found\n",
      "Saved 0x8d46facfb889740a345755e624942257dc87b5ac.json\n",
      "Saved 0x8d46facfb889740a345755e624942257dc87b5ac.hex\n",
      "Saved 0x8d46facfb889740a345755e624942257dc87b5ac.sol\n"
     ]
    },
    {
     "name": "stderr",
     "output_type": "stream",
     "text": [
      " 63%|██████▎   | 58/92 [07:27<03:29,  6.15s/it]"
     ]
    },
    {
     "name": "stdout",
     "output_type": "stream",
     "text": [
      "Searching in 97 chain...\n",
      "Searching in 56 chain...\n",
      "Searching in 57054 chain...\n",
      "Searching in 146 chain...\n",
      "Searching 0x8f04b7554fa2452ee34e5b5cafb5d43217a5ce5b...\n",
      "Searching in 1 chain...\n",
      "Saved 0x8f04b7554fa2452ee34e5b5cafb5d43217a5ce5b.json\n",
      "Saved 0x8f04b7554fa2452ee34e5b5cafb5d43217a5ce5b.hex\n",
      "Saved 0x8f04b7554fa2452ee34e5b5cafb5d43217a5ce5b.sol\n"
     ]
    },
    {
     "name": "stderr",
     "output_type": "stream",
     "text": [
      " 64%|██████▍   | 59/92 [07:33<03:18,  6.01s/it]"
     ]
    },
    {
     "name": "stdout",
     "output_type": "stream",
     "text": [
      "Searching in 97 chain...\n",
      "Searching in 56 chain...\n",
      "Searching in 57054 chain...\n",
      "Searching in 146 chain...\n",
      "Searching 0x9157c8359a1e349e599665bf83e22d32c69b9daf...\n",
      "Searching in 1 chain...\n",
      "error from get_internal_transactions_by_contract_addr: No transactions found\n",
      "Saved 0x9157c8359a1e349e599665bf83e22d32c69b9daf.json\n",
      "Saved 0x9157c8359a1e349e599665bf83e22d32c69b9daf.hex\n",
      "Saved 0x9157c8359a1e349e599665bf83e22d32c69b9daf.sol\n"
     ]
    },
    {
     "name": "stderr",
     "output_type": "stream",
     "text": [
      " 65%|██████▌   | 60/92 [07:38<03:08,  5.89s/it]"
     ]
    },
    {
     "name": "stdout",
     "output_type": "stream",
     "text": [
      "Searching in 97 chain...\n",
      "Searching in 56 chain...\n",
      "Searching in 57054 chain...\n",
      "Searching in 146 chain...\n",
      "Searching 0x940d73c91db9f82440702f6cc8323a8c60583777...\n",
      "Searching in 1 chain...\n",
      "Saved 0x940d73c91db9f82440702f6cc8323a8c60583777.json\n",
      "Saved 0x940d73c91db9f82440702f6cc8323a8c60583777.hex\n",
      "Saved 0x940d73c91db9f82440702f6cc8323a8c60583777.sol\n"
     ]
    },
    {
     "name": "stderr",
     "output_type": "stream",
     "text": [
      " 66%|██████▋   | 61/92 [07:45<03:11,  6.18s/it]"
     ]
    },
    {
     "name": "stdout",
     "output_type": "stream",
     "text": [
      "Searching in 97 chain...\n",
      "Searching in 56 chain...\n",
      "Searching in 57054 chain...\n",
      "Searching in 146 chain...\n",
      "Searching 0xa1b756be589441519b1a08e16bc4f60ab177d916...\n",
      "Searching in 1 chain...\n",
      "error from get_internal_transactions_by_contract_addr: No transactions found\n",
      "Saved 0xa1b756be589441519b1a08e16bc4f60ab177d916.json\n",
      "Saved 0xa1b756be589441519b1a08e16bc4f60ab177d916.hex\n",
      "Saved 0xa1b756be589441519b1a08e16bc4f60ab177d916.sol\n"
     ]
    },
    {
     "name": "stderr",
     "output_type": "stream",
     "text": [
      " 67%|██████▋   | 62/92 [07:51<03:00,  6.03s/it]"
     ]
    },
    {
     "name": "stdout",
     "output_type": "stream",
     "text": [
      "Searching in 97 chain...\n",
      "Searching in 56 chain...\n",
      "Searching in 57054 chain...\n",
      "Searching in 146 chain...\n",
      "Searching 0xa777166242ee46c33994d401e948418ac3992a1f...\n",
      "Searching in 1 chain...\n",
      "Saved 0xa777166242ee46c33994d401e948418ac3992a1f.json\n",
      "Saved 0xa777166242ee46c33994d401e948418ac3992a1f.hex\n",
      "Saved 0xa777166242ee46c33994d401e948418ac3992a1f.sol\n"
     ]
    },
    {
     "name": "stderr",
     "output_type": "stream",
     "text": [
      " 68%|██████▊   | 63/92 [07:56<02:52,  5.93s/it]"
     ]
    },
    {
     "name": "stdout",
     "output_type": "stream",
     "text": [
      "Searching in 97 chain...\n",
      "Searching in 56 chain...\n",
      "Searching in 57054 chain...\n",
      "Searching in 146 chain...\n",
      "Searching 0xa82422731d00d935ed29c719f2f41f1794665043...\n",
      "Searching in 1 chain...\n",
      "Saved 0xa82422731d00d935ed29c719f2f41f1794665043.json\n",
      "Saved 0xa82422731d00d935ed29c719f2f41f1794665043.hex\n",
      "Saved 0xa82422731d00d935ed29c719f2f41f1794665043.sol\n"
     ]
    },
    {
     "name": "stderr",
     "output_type": "stream",
     "text": [
      " 70%|██████▉   | 64/92 [08:02<02:44,  5.87s/it]"
     ]
    },
    {
     "name": "stdout",
     "output_type": "stream",
     "text": [
      "Searching in 97 chain...\n",
      "Searching in 56 chain...\n",
      "Searching in 57054 chain...\n",
      "Searching in 146 chain...\n",
      "Searching 0xaaca4e6efdd63a9116aecd31ee929d0f778be0c0...\n",
      "Searching in 1 chain...\n",
      "error from get_internal_transactions_by_contract_addr: No transactions found\n",
      "Saved 0xaaca4e6efdd63a9116aecd31ee929d0f778be0c0.json\n",
      "Saved 0xaaca4e6efdd63a9116aecd31ee929d0f778be0c0.hex\n",
      "Saved 0xaaca4e6efdd63a9116aecd31ee929d0f778be0c0.sol\n"
     ]
    },
    {
     "name": "stderr",
     "output_type": "stream",
     "text": [
      " 71%|███████   | 65/92 [08:08<02:37,  5.83s/it]"
     ]
    },
    {
     "name": "stdout",
     "output_type": "stream",
     "text": [
      "Searching in 97 chain...\n",
      "Searching in 56 chain...\n",
      "Searching in 57054 chain...\n",
      "Searching in 146 chain...\n",
      "Searching 0xaba501a8ca62451f4af9e88b9f7f534ceec84c2a...\n",
      "Searching in 1 chain...\n",
      "error from get_internal_transactions_by_contract_addr: No transactions found\n",
      "Saved 0xaba501a8ca62451f4af9e88b9f7f534ceec84c2a.json\n",
      "Saved 0xaba501a8ca62451f4af9e88b9f7f534ceec84c2a.hex\n",
      "Saved 0xaba501a8ca62451f4af9e88b9f7f534ceec84c2a.sol\n"
     ]
    },
    {
     "name": "stderr",
     "output_type": "stream",
     "text": [
      " 72%|███████▏  | 66/92 [08:13<02:29,  5.76s/it]"
     ]
    },
    {
     "name": "stdout",
     "output_type": "stream",
     "text": [
      "Searching in 97 chain...\n",
      "Searching in 56 chain...\n",
      "Searching in 57054 chain...\n",
      "Searching in 146 chain...\n",
      "Searching 0xaf10bbe0b36276fc28b674e647962dff4176eb9e...\n",
      "Searching in 1 chain...\n",
      "error from get_internal_transactions_by_contract_addr: No transactions found\n",
      "Saved 0xaf10bbe0b36276fc28b674e647962dff4176eb9e.json\n",
      "Saved 0xaf10bbe0b36276fc28b674e647962dff4176eb9e.hex\n",
      "Saved 0xaf10bbe0b36276fc28b674e647962dff4176eb9e.sol\n"
     ]
    },
    {
     "name": "stderr",
     "output_type": "stream",
     "text": [
      " 73%|███████▎  | 67/92 [08:19<02:25,  5.82s/it]"
     ]
    },
    {
     "name": "stdout",
     "output_type": "stream",
     "text": [
      "Searching in 97 chain...\n",
      "Searching in 56 chain...\n",
      "Searching in 57054 chain...\n",
      "Searching in 146 chain...\n",
      "Searching 0xb0dfb2df1b29b304c59e92e8f8bff329b9d20f62...\n",
      "Searching in 1 chain...\n",
      "error from get_internal_transactions_by_contract_addr: No transactions found\n",
      "Saved 0xb0dfb2df1b29b304c59e92e8f8bff329b9d20f62.json\n",
      "Saved 0xb0dfb2df1b29b304c59e92e8f8bff329b9d20f62.hex\n",
      "Saved 0xb0dfb2df1b29b304c59e92e8f8bff329b9d20f62.sol\n"
     ]
    },
    {
     "name": "stderr",
     "output_type": "stream",
     "text": [
      " 74%|███████▍  | 68/92 [08:26<02:26,  6.09s/it]"
     ]
    },
    {
     "name": "stdout",
     "output_type": "stream",
     "text": [
      "Searching in 97 chain...\n",
      "Searching in 56 chain...\n",
      "Searching in 57054 chain...\n",
      "Searching in 146 chain...\n",
      "Searching 0xb363a3c584b1f379c79fbf09df015da5529d4dac...\n",
      "Searching in 1 chain...\n",
      "error from get_internal_transactions_by_contract_addr: No transactions found\n",
      "Saved 0xb363a3c584b1f379c79fbf09df015da5529d4dac.json\n",
      "Saved 0xb363a3c584b1f379c79fbf09df015da5529d4dac.hex\n",
      "Saved 0xb363a3c584b1f379c79fbf09df015da5529d4dac.sol\n"
     ]
    },
    {
     "name": "stderr",
     "output_type": "stream",
     "text": [
      " 75%|███████▌  | 69/92 [08:36<02:48,  7.33s/it]"
     ]
    },
    {
     "name": "stdout",
     "output_type": "stream",
     "text": [
      "Searching in 97 chain...\n",
      "Searching in 56 chain...\n",
      "Searching in 57054 chain...\n",
      "Searching in 146 chain...\n",
      "Searching 0xb5fbf3a6e26fba8c3c3ebaad6fa9f06fcd3cd3fd...\n",
      "Searching in 1 chain...\n",
      "error from get_internal_transactions_by_contract_addr: No transactions found\n",
      "Saved 0xb5fbf3a6e26fba8c3c3ebaad6fa9f06fcd3cd3fd.json\n",
      "Saved 0xb5fbf3a6e26fba8c3c3ebaad6fa9f06fcd3cd3fd.hex\n",
      "Saved 0xb5fbf3a6e26fba8c3c3ebaad6fa9f06fcd3cd3fd.sol\n"
     ]
    },
    {
     "name": "stderr",
     "output_type": "stream",
     "text": [
      " 76%|███████▌  | 70/92 [08:42<02:30,  6.82s/it]"
     ]
    },
    {
     "name": "stdout",
     "output_type": "stream",
     "text": [
      "Searching in 97 chain...\n",
      "Searching in 56 chain...\n",
      "Searching in 57054 chain...\n",
      "Searching in 146 chain...\n",
      "Searching 0xb6d699699ccc50548c1916b02afff6e5a7bc4117...\n",
      "Searching in 1 chain...\n",
      "error from get_internal_transactions_by_contract_addr: No transactions found\n",
      "Saved 0xb6d699699ccc50548c1916b02afff6e5a7bc4117.json\n",
      "Saved 0xb6d699699ccc50548c1916b02afff6e5a7bc4117.hex\n",
      "Saved 0xb6d699699ccc50548c1916b02afff6e5a7bc4117.sol\n"
     ]
    },
    {
     "name": "stderr",
     "output_type": "stream",
     "text": [
      " 77%|███████▋  | 71/92 [08:48<02:15,  6.46s/it]"
     ]
    },
    {
     "name": "stdout",
     "output_type": "stream",
     "text": [
      "Searching in 97 chain...\n",
      "Searching in 56 chain...\n",
      "Searching in 57054 chain...\n",
      "Searching in 146 chain...\n",
      "Searching 0xb9b4f4102d39ea2dd11d00a1ae2f878e5f1e26a9...\n",
      "Searching in 1 chain...\n",
      "Saved 0xb9b4f4102d39ea2dd11d00a1ae2f878e5f1e26a9.json\n",
      "Saved 0xb9b4f4102d39ea2dd11d00a1ae2f878e5f1e26a9.hex\n",
      "Saved 0xb9b4f4102d39ea2dd11d00a1ae2f878e5f1e26a9.sol\n"
     ]
    },
    {
     "name": "stderr",
     "output_type": "stream",
     "text": [
      " 78%|███████▊  | 72/92 [08:53<02:05,  6.26s/it]"
     ]
    },
    {
     "name": "stdout",
     "output_type": "stream",
     "text": [
      "Searching in 97 chain...\n",
      "Searching in 56 chain...\n",
      "Searching in 57054 chain...\n",
      "Searching in 146 chain...\n",
      "Searching 0xba14c6c651fa5998ba58e1a2be9a1ce5280cf966...\n",
      "Searching in 1 chain...\n",
      "Saved 0xba14c6c651fa5998ba58e1a2be9a1ce5280cf966.json\n",
      "Saved 0xba14c6c651fa5998ba58e1a2be9a1ce5280cf966.hex\n",
      "Saved 0xba14c6c651fa5998ba58e1a2be9a1ce5280cf966.sol\n"
     ]
    },
    {
     "name": "stderr",
     "output_type": "stream",
     "text": [
      " 79%|███████▉  | 73/92 [08:59<01:55,  6.07s/it]"
     ]
    },
    {
     "name": "stdout",
     "output_type": "stream",
     "text": [
      "Searching in 97 chain...\n",
      "Searching in 56 chain...\n",
      "Searching in 57054 chain...\n",
      "Searching in 146 chain...\n",
      "Searching 0xc17423a26ccc6d307d3f58219443ad3eaa78f74f...\n",
      "Searching in 1 chain...\n",
      "error from get_internal_transactions_by_contract_addr: No transactions found\n",
      "Saved 0xc17423a26ccc6d307d3f58219443ad3eaa78f74f.json\n",
      "Saved 0xc17423a26ccc6d307d3f58219443ad3eaa78f74f.hex\n",
      "Saved 0xc17423a26ccc6d307d3f58219443ad3eaa78f74f.sol\n"
     ]
    },
    {
     "name": "stderr",
     "output_type": "stream",
     "text": [
      " 80%|████████  | 74/92 [09:05<01:47,  5.96s/it]"
     ]
    },
    {
     "name": "stdout",
     "output_type": "stream",
     "text": [
      "Searching in 97 chain...\n",
      "Searching in 56 chain...\n",
      "Searching in 57054 chain...\n",
      "Searching in 146 chain...\n",
      "Searching 0xc8bb6085d22de404fe9c6cd85c4536654b9f37b1...\n",
      "Searching in 1 chain...\n",
      "Saved 0xc8bb6085d22de404fe9c6cd85c4536654b9f37b1.json\n",
      "Saved 0xc8bb6085d22de404fe9c6cd85c4536654b9f37b1.hex\n",
      "Saved 0xc8bb6085d22de404fe9c6cd85c4536654b9f37b1.sol\n"
     ]
    },
    {
     "name": "stderr",
     "output_type": "stream",
     "text": [
      " 82%|████████▏ | 75/92 [09:12<01:48,  6.36s/it]"
     ]
    },
    {
     "name": "stdout",
     "output_type": "stream",
     "text": [
      "Searching in 97 chain...\n",
      "Searching in 56 chain...\n",
      "Searching in 57054 chain...\n",
      "Searching in 146 chain...\n",
      "Searching 0xc8fcc48d1454a83589169294470549a2e1713dec...\n",
      "Searching in 1 chain...\n",
      "Saved 0xc8fcc48d1454a83589169294470549a2e1713dec.json\n",
      "Saved 0xc8fcc48d1454a83589169294470549a2e1713dec.hex\n",
      "Saved 0xc8fcc48d1454a83589169294470549a2e1713dec.sol\n"
     ]
    },
    {
     "name": "stderr",
     "output_type": "stream",
     "text": [
      " 83%|████████▎ | 76/92 [09:20<01:48,  6.75s/it]"
     ]
    },
    {
     "name": "stdout",
     "output_type": "stream",
     "text": [
      "Searching in 97 chain...\n",
      "Searching in 56 chain...\n",
      "Searching in 57054 chain...\n",
      "Searching in 146 chain...\n",
      "Searching 0xcaec691284cb2d0cc5bd8987700fec8006a139fc...\n",
      "Searching in 1 chain...\n",
      "Saved 0xcaec691284cb2d0cc5bd8987700fec8006a139fc.json\n",
      "Saved 0xcaec691284cb2d0cc5bd8987700fec8006a139fc.hex\n",
      "Saved 0xcaec691284cb2d0cc5bd8987700fec8006a139fc.sol\n"
     ]
    },
    {
     "name": "stderr",
     "output_type": "stream",
     "text": [
      " 84%|████████▎ | 77/92 [09:26<01:37,  6.51s/it]"
     ]
    },
    {
     "name": "stdout",
     "output_type": "stream",
     "text": [
      "Searching in 97 chain...\n",
      "Searching in 56 chain...\n",
      "Searching in 57054 chain...\n",
      "Searching in 146 chain...\n",
      "Searching 0xd1a7e773cbb9e4149a91ff860a871855bb109568...\n",
      "Searching in 1 chain...\n",
      "error from get_internal_transactions_by_contract_addr: No transactions found\n",
      "Saved 0xd1a7e773cbb9e4149a91ff860a871855bb109568.json\n",
      "Saved 0xd1a7e773cbb9e4149a91ff860a871855bb109568.hex\n",
      "Saved 0xd1a7e773cbb9e4149a91ff860a871855bb109568.sol\n"
     ]
    },
    {
     "name": "stderr",
     "output_type": "stream",
     "text": [
      " 85%|████████▍ | 78/92 [09:31<01:27,  6.23s/it]"
     ]
    },
    {
     "name": "stdout",
     "output_type": "stream",
     "text": [
      "Searching in 97 chain...\n",
      "Searching in 56 chain...\n",
      "Searching in 57054 chain...\n",
      "Searching in 146 chain...\n",
      "Searching 0xd35ef25873bd9ba3e67dccd1a5634f49a32e44f0...\n",
      "Searching in 1 chain...\n",
      "Saved 0xd35ef25873bd9ba3e67dccd1a5634f49a32e44f0.json\n",
      "Saved 0xd35ef25873bd9ba3e67dccd1a5634f49a32e44f0.hex\n",
      "Saved 0xd35ef25873bd9ba3e67dccd1a5634f49a32e44f0.sol\n"
     ]
    },
    {
     "name": "stderr",
     "output_type": "stream",
     "text": [
      " 86%|████████▌ | 79/92 [09:37<01:19,  6.10s/it]"
     ]
    },
    {
     "name": "stdout",
     "output_type": "stream",
     "text": [
      "Searching in 97 chain...\n",
      "Searching in 56 chain...\n",
      "Searching in 57054 chain...\n",
      "Searching in 146 chain...\n",
      "Searching 0xd3faa38c0d0f77130efd806a4cc0526465803670...\n",
      "Searching in 1 chain...\n",
      "error from get_internal_transactions_by_contract_addr: No transactions found\n",
      "error from get_events_by_contract_addr: No records found\n",
      "Saved 0xd3faa38c0d0f77130efd806a4cc0526465803670.json\n",
      "Saved 0xd3faa38c0d0f77130efd806a4cc0526465803670.hex\n",
      "Saved 0xd3faa38c0d0f77130efd806a4cc0526465803670.sol\n"
     ]
    },
    {
     "name": "stderr",
     "output_type": "stream",
     "text": [
      " 87%|████████▋ | 80/92 [09:43<01:11,  5.97s/it]"
     ]
    },
    {
     "name": "stdout",
     "output_type": "stream",
     "text": [
      "Searching in 97 chain...\n",
      "Searching in 56 chain...\n",
      "Searching in 57054 chain...\n",
      "Searching in 146 chain...\n",
      "Searching 0xd7cc0deb9dd11be95068bf2d7a3d082b8ba9bf04...\n",
      "Searching in 1 chain...\n",
      "error from get_internal_transactions_by_contract_addr: No transactions found\n",
      "Saved 0xd7cc0deb9dd11be95068bf2d7a3d082b8ba9bf04.json\n",
      "Saved 0xd7cc0deb9dd11be95068bf2d7a3d082b8ba9bf04.hex\n",
      "Saved 0xd7cc0deb9dd11be95068bf2d7a3d082b8ba9bf04.sol\n"
     ]
    },
    {
     "name": "stderr",
     "output_type": "stream",
     "text": [
      " 88%|████████▊ | 81/92 [09:49<01:05,  5.99s/it]"
     ]
    },
    {
     "name": "stdout",
     "output_type": "stream",
     "text": [
      "Searching in 97 chain...\n",
      "Searching in 56 chain...\n",
      "Searching in 57054 chain...\n",
      "Searching in 146 chain...\n",
      "Searching 0xda4dba3029946b950b7fcfd71342fdbe5bfa45fc...\n",
      "Searching in 1 chain...\n",
      "error from get_internal_transactions_by_contract_addr: No transactions found\n",
      "Saved 0xda4dba3029946b950b7fcfd71342fdbe5bfa45fc.json\n",
      "Saved 0xda4dba3029946b950b7fcfd71342fdbe5bfa45fc.hex\n",
      "Saved 0xda4dba3029946b950b7fcfd71342fdbe5bfa45fc.sol\n"
     ]
    },
    {
     "name": "stderr",
     "output_type": "stream",
     "text": [
      " 89%|████████▉ | 82/92 [09:54<00:58,  5.89s/it]"
     ]
    },
    {
     "name": "stdout",
     "output_type": "stream",
     "text": [
      "Searching in 97 chain...\n",
      "Searching in 56 chain...\n",
      "Searching in 57054 chain...\n",
      "Searching in 146 chain...\n",
      "Searching 0xdd84fc33eeac5b4c26a09ff13abf3cd1a7d3f8dd...\n",
      "Searching in 1 chain...\n",
      "Saved 0xdd84fc33eeac5b4c26a09ff13abf3cd1a7d3f8dd.json\n",
      "Saved 0xdd84fc33eeac5b4c26a09ff13abf3cd1a7d3f8dd.hex\n",
      "Saved 0xdd84fc33eeac5b4c26a09ff13abf3cd1a7d3f8dd.sol\n"
     ]
    },
    {
     "name": "stderr",
     "output_type": "stream",
     "text": [
      " 90%|█████████ | 83/92 [10:00<00:52,  5.84s/it]"
     ]
    },
    {
     "name": "stdout",
     "output_type": "stream",
     "text": [
      "Searching in 97 chain...\n",
      "Searching in 56 chain...\n",
      "Searching in 57054 chain...\n",
      "Searching in 146 chain...\n",
      "Searching 0xea1b323e9aa0c0188f0ddacc4f22a6aaf8542d2c...\n",
      "Searching in 1 chain...\n",
      "error from get_internal_transactions_by_contract_addr: No transactions found\n",
      "Saved 0xea1b323e9aa0c0188f0ddacc4f22a6aaf8542d2c.json\n",
      "Saved 0xea1b323e9aa0c0188f0ddacc4f22a6aaf8542d2c.hex\n",
      "Saved 0xea1b323e9aa0c0188f0ddacc4f22a6aaf8542d2c.sol\n"
     ]
    },
    {
     "name": "stderr",
     "output_type": "stream",
     "text": [
      " 91%|█████████▏| 84/92 [10:06<00:46,  5.85s/it]"
     ]
    },
    {
     "name": "stdout",
     "output_type": "stream",
     "text": [
      "Searching in 97 chain...\n",
      "Searching in 56 chain...\n",
      "Searching in 57054 chain...\n",
      "Searching in 146 chain...\n",
      "Searching 0xebd55da9de25d071369130270de9fad62a12f5e6...\n",
      "Searching in 1 chain...\n",
      "error from get_internal_transactions_by_contract_addr: No transactions found\n",
      "Saved 0xebd55da9de25d071369130270de9fad62a12f5e6.json\n",
      "Saved 0xebd55da9de25d071369130270de9fad62a12f5e6.hex\n",
      "Saved 0xebd55da9de25d071369130270de9fad62a12f5e6.sol\n"
     ]
    },
    {
     "name": "stderr",
     "output_type": "stream",
     "text": [
      " 92%|█████████▏| 85/92 [10:12<00:40,  5.78s/it]"
     ]
    },
    {
     "name": "stdout",
     "output_type": "stream",
     "text": [
      "Searching in 97 chain...\n",
      "Searching in 56 chain...\n",
      "Searching in 57054 chain...\n",
      "Searching in 146 chain...\n",
      "Searching 0xf18ef338df7770abf0d20d09dff86c7398a91046...\n",
      "Searching in 1 chain...\n",
      "error from get_internal_transactions_by_contract_addr: No transactions found\n",
      "error from get_events_by_contract_addr: No records found\n",
      "Saved 0xf18ef338df7770abf0d20d09dff86c7398a91046.json\n",
      "Saved 0xf18ef338df7770abf0d20d09dff86c7398a91046.hex\n",
      "Saved 0xf18ef338df7770abf0d20d09dff86c7398a91046.sol\n"
     ]
    },
    {
     "name": "stderr",
     "output_type": "stream",
     "text": [
      " 93%|█████████▎| 86/92 [10:17<00:34,  5.76s/it]"
     ]
    },
    {
     "name": "stdout",
     "output_type": "stream",
     "text": [
      "Searching in 97 chain...\n",
      "Searching in 56 chain...\n",
      "Searching in 57054 chain...\n",
      "Searching in 146 chain...\n",
      "Searching 0xf49cdd50ad408d387d611f88a647179c3de3492b...\n",
      "Searching in 1 chain...\n",
      "error from get_internal_transactions_by_contract_addr: No transactions found\n",
      "Saved 0xf49cdd50ad408d387d611f88a647179c3de3492b.json\n",
      "Saved 0xf49cdd50ad408d387d611f88a647179c3de3492b.hex\n",
      "Saved 0xf49cdd50ad408d387d611f88a647179c3de3492b.sol\n"
     ]
    },
    {
     "name": "stderr",
     "output_type": "stream",
     "text": [
      " 95%|█████████▍| 87/92 [10:26<00:32,  6.57s/it]"
     ]
    },
    {
     "name": "stdout",
     "output_type": "stream",
     "text": [
      "Searching in 97 chain...\n",
      "Searching in 56 chain...\n",
      "Searching in 57054 chain...\n",
      "Searching in 146 chain...\n",
      "Searching 0xf7a73331867f3a1801551e7aacf84949c0d1e96d...\n",
      "Searching in 1 chain...\n",
      "Saved 0xf7a73331867f3a1801551e7aacf84949c0d1e96d.json\n",
      "Saved 0xf7a73331867f3a1801551e7aacf84949c0d1e96d.hex\n",
      "Saved 0xf7a73331867f3a1801551e7aacf84949c0d1e96d.sol\n"
     ]
    },
    {
     "name": "stderr",
     "output_type": "stream",
     "text": [
      " 96%|█████████▌| 88/92 [10:33<00:26,  6.62s/it]"
     ]
    },
    {
     "name": "stdout",
     "output_type": "stream",
     "text": [
      "Searching in 97 chain...\n",
      "Searching in 56 chain...\n",
      "Searching in 57054 chain...\n",
      "Searching in 146 chain...\n",
      "Searching 0xf9af111815161a6edec4b40a083d5efb3eca4f04...\n",
      "Searching in 1 chain...\n",
      "error from get_internal_transactions_by_contract_addr: No transactions found\n",
      "Saved 0xf9af111815161a6edec4b40a083d5efb3eca4f04.json\n",
      "Saved 0xf9af111815161a6edec4b40a083d5efb3eca4f04.hex\n",
      "Saved 0xf9af111815161a6edec4b40a083d5efb3eca4f04.sol\n"
     ]
    },
    {
     "name": "stderr",
     "output_type": "stream",
     "text": [
      " 97%|█████████▋| 89/92 [10:39<00:19,  6.47s/it]"
     ]
    },
    {
     "name": "stdout",
     "output_type": "stream",
     "text": [
      "Searching in 97 chain...\n",
      "Searching in 56 chain...\n",
      "Searching in 57054 chain...\n",
      "Searching in 146 chain...\n",
      "Searching 0xfa24078bd2daa00232733a1bd8df5badf047ffa2...\n",
      "Searching in 1 chain...\n",
      "Saved 0xfa24078bd2daa00232733a1bd8df5badf047ffa2.json\n",
      "Saved 0xfa24078bd2daa00232733a1bd8df5badf047ffa2.hex\n",
      "Saved 0xfa24078bd2daa00232733a1bd8df5badf047ffa2.sol\n"
     ]
    },
    {
     "name": "stderr",
     "output_type": "stream",
     "text": [
      " 98%|█████████▊| 90/92 [10:44<00:12,  6.22s/it]"
     ]
    },
    {
     "name": "stdout",
     "output_type": "stream",
     "text": [
      "Searching in 97 chain...\n",
      "Searching in 56 chain...\n",
      "Searching in 57054 chain...\n",
      "Searching in 146 chain...\n",
      "Searching 0xfd282a73f7e02ff8e13913f64bc561dd908d7ae5...\n",
      "Searching in 1 chain...\n",
      "error from get_internal_transactions_by_contract_addr: No transactions found\n",
      "Saved 0xfd282a73f7e02ff8e13913f64bc561dd908d7ae5.json\n",
      "Saved 0xfd282a73f7e02ff8e13913f64bc561dd908d7ae5.hex\n",
      "Saved 0xfd282a73f7e02ff8e13913f64bc561dd908d7ae5.sol\n"
     ]
    },
    {
     "name": "stderr",
     "output_type": "stream",
     "text": [
      " 99%|█████████▉| 91/92 [10:51<00:06,  6.48s/it]"
     ]
    },
    {
     "name": "stdout",
     "output_type": "stream",
     "text": [
      "Searching in 97 chain...\n",
      "Searching in 56 chain...\n",
      "Searching in 57054 chain...\n",
      "Searching in 146 chain...\n",
      "Searching 0xfdf475788c31c57e85f2c48add16164fb5ac84e3...\n",
      "Searching in 1 chain...\n",
      "error from get_internal_transactions_by_contract_addr: No transactions found\n",
      "error from get_events_by_contract_addr: No records found\n",
      "Saved 0xfdf475788c31c57e85f2c48add16164fb5ac84e3.json\n",
      "Saved 0xfdf475788c31c57e85f2c48add16164fb5ac84e3.hex\n",
      "Saved 0xfdf475788c31c57e85f2c48add16164fb5ac84e3.sol\n"
     ]
    },
    {
     "name": "stderr",
     "output_type": "stream",
     "text": [
      "100%|██████████| 92/92 [10:57<00:00,  7.15s/it]"
     ]
    },
    {
     "name": "stdout",
     "output_type": "stream",
     "text": [
      "Searching in 97 chain...\n",
      "Searching in 56 chain...\n",
      "Searching in 57054 chain...\n",
      "Searching in 146 chain...\n"
     ]
    },
    {
     "name": "stderr",
     "output_type": "stream",
     "text": [
      "\n"
     ]
    }
   ],
   "source": [
    "chains = [1, 97, 56, 57054, 146]\n",
    "# 3. Collect and extract\n",
    "for addr in tqdm(target_df.index):\n",
    "    print(f\"Searching {addr}...\")\n",
    "    for chain in chains:\n",
    "        print(f\"Searching in {chain} chain...\")\n",
    "        if addr not in [filename.lower().split('.')[0] for filename in os.listdir(TXN_PATH)]:\n",
    "            info = get_info_by_contract_addr(addr, chain)\n",
    "            save_transactions_by_contract_addr(TXN_PATH, addr, info)\n",
    "            if 'creationBytecode' in info.get('creator'):\n",
    "                save_bytecode_by_contract_addr(HEX_PATH, addr, info['creator']['creationBytecode'])\n",
    "                time.sleep(0.5)\n",
    "        if addr not in [filename.lower().split('.')[0] for filename in os.listdir(HEX_PATH)]:\n",
    "            bytecode = get_bytecode_by_contract_addr(addr, chain)\n",
    "            save_bytecode_by_contract_addr(HEX_PATH, addr, bytecode)\n",
    "            time.sleep(0.5)\n",
    "        if addr not in [filename.lower().split('.')[0] for filename in os.listdir(SOL_PATH)]:\n",
    "            source = get_source_code_by_contract_addr(addr, chain)\n",
    "            if 'SourceCode' in source:\n",
    "                save_sol_by_contract_addr(SOL_PATH, addr, source['SourceCode'])\n",
    "                time.sleep(0.5)\n"
   ]
  },
  {
   "cell_type": "code",
   "execution_count": 10,
   "id": "d7b29701",
   "metadata": {},
   "outputs": [
    {
     "data": {
      "text/plain": [
       "(92, 92, 92, 92)"
      ]
     },
     "execution_count": 10,
     "metadata": {},
     "output_type": "execute_result"
    }
   ],
   "source": [
    "len(target_df), len(os.listdir(HEX_PATH)), len(os.listdir(TXN_PATH)), len(os.listdir(SOL_PATH))"
   ]
  },
  {
   "cell_type": "code",
   "execution_count": 11,
   "id": "ddd08b14",
   "metadata": {},
   "outputs": [
    {
     "name": "stdout",
     "output_type": "stream",
     "text": [
      "File moved successfully.\n"
     ]
    }
   ],
   "source": [
    "if os.path.exists(target):\n",
    "    shutil.move(target, DATASET_PATH)\n",
    "    print(\"File moved successfully.\")\n",
    "else:\n",
    "    print(\"File does not exist.\", UNLABELED_PATH)"
   ]
  },
  {
   "cell_type": "code",
   "execution_count": null,
   "id": "03105629",
   "metadata": {},
   "outputs": [],
   "source": []
  }
 ],
 "metadata": {
  "kernelspec": {
   "display_name": "ml-algo",
   "language": "python",
   "name": "python3"
  },
  "language_info": {
   "codemirror_mode": {
    "name": "ipython",
    "version": 3
   },
   "file_extension": ".py",
   "mimetype": "text/x-python",
   "name": "python",
   "nbconvert_exporter": "python",
   "pygments_lexer": "ipython3",
   "version": "3.12.7"
  }
 },
 "nbformat": 4,
 "nbformat_minor": 5
}
