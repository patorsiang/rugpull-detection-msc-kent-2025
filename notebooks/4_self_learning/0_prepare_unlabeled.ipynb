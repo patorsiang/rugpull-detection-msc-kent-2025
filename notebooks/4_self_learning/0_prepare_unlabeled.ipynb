{
 "cells": [
  {
   "cell_type": "markdown",
   "id": "8625fdad",
   "metadata": {},
   "source": [
    "# Partial Labeled Data Preparing"
   ]
  },
  {
   "cell_type": "markdown",
   "id": "13347ba3",
   "metadata": {},
   "source": [
    "## Set up"
   ]
  },
  {
   "cell_type": "code",
   "execution_count": 1,
   "id": "ef0fe7e8",
   "metadata": {},
   "outputs": [],
   "source": [
    "import os\n",
    "from pathlib import Path\n",
    "import shutil\n",
    "import pandas as pd\n",
    "from tqdm import tqdm\n",
    "import time\n",
    "\n",
    "import sys\n",
    "PATH = Path.cwd().parents[1]\n",
    "sys.path.append(str(PATH))\n",
    "\n",
    "from notebooks.utils.data_loader import (\n",
    "  get_info_by_contract_addr,\n",
    "  save_bytecode_by_contract_addr,\n",
    "  get_bytecode_by_contract_addr,\n",
    "  save_transactions_by_contract_addr,\n",
    "  get_source_code_by_contract_addr,\n",
    "  save_sol_by_contract_addr\n",
    ")"
   ]
  },
  {
   "cell_type": "code",
   "execution_count": 2,
   "id": "9c3498bf",
   "metadata": {},
   "outputs": [],
   "source": [
    "name = \"crp_large_sample.csv\" # change this\n",
    "DATA_PATH = os.path.join(PATH, 'data')\n",
    "SOURCE_PATH = os.path.join(DATA_PATH, 'external/crpwarner/dataset/large/hex') # change this\n",
    "HAX_PATH = os.path.join(DATA_PATH, 'hex')"
   ]
  },
  {
   "cell_type": "markdown",
   "id": "da3a385f",
   "metadata": {},
   "source": [
    "## Move Dataset to Unlabeled"
   ]
  },
  {
   "cell_type": "code",
   "execution_count": null,
   "id": "8fd61c0d",
   "metadata": {},
   "outputs": [
    {
     "name": "stdout",
     "output_type": "stream",
     "text": [
      "File does not exist. /Users/napatcholthaipanich/Dev/master/dissertation/workspace/data/interim\n"
     ]
    }
   ],
   "source": [
    "source = os.path.join(DATASET_PATH, name)\n",
    "target = os.path.join(UNLABELED_PATH, name)\n",
    "if os.path.exists(source):\n",
    "    shutil.move(source, UNLABELED_PATH)\n",
    "    print(\"File moved successfully.\")\n",
    "else:\n",
    "    print(\"File does not exist.\", DATASET_PATH)"
   ]
  },
  {
   "cell_type": "code",
   "execution_count": 3,
   "id": "d91b36a7",
   "metadata": {},
   "outputs": [
    {
     "data": {
      "text/html": [
       "<div>\n",
       "<style scoped>\n",
       "    .dataframe tbody tr th:only-of-type {\n",
       "        vertical-align: middle;\n",
       "    }\n",
       "\n",
       "    .dataframe tbody tr th {\n",
       "        vertical-align: top;\n",
       "    }\n",
       "\n",
       "    .dataframe thead th {\n",
       "        text-align: right;\n",
       "    }\n",
       "</style>\n",
       "<table border=\"1\" class=\"dataframe\">\n",
       "  <thead>\n",
       "    <tr style=\"text-align: right;\">\n",
       "      <th></th>\n",
       "      <th>Mint</th>\n",
       "      <th>Leak</th>\n",
       "      <th>Limit</th>\n",
       "    </tr>\n",
       "    <tr>\n",
       "      <th>Address</th>\n",
       "      <th></th>\n",
       "      <th></th>\n",
       "      <th></th>\n",
       "    </tr>\n",
       "  </thead>\n",
       "  <tbody>\n",
       "    <tr>\n",
       "      <th>0x0290ea3c728981725689187763f6c63a68e192b8</th>\n",
       "      <td>-1</td>\n",
       "      <td>1</td>\n",
       "      <td>-1</td>\n",
       "    </tr>\n",
       "    <tr>\n",
       "      <th>0x02d3aea48b443a0026ed9cbc91b97d7335aba323</th>\n",
       "      <td>-1</td>\n",
       "      <td>-1</td>\n",
       "      <td>1</td>\n",
       "    </tr>\n",
       "    <tr>\n",
       "      <th>0x03260e1b0f53e1a1f93cf126a7ca42a1c71648d6</th>\n",
       "      <td>1</td>\n",
       "      <td>-1</td>\n",
       "      <td>-1</td>\n",
       "    </tr>\n",
       "    <tr>\n",
       "      <th>0x054ad3cd4a66f14bf5c0de2548a53be66995a4f6</th>\n",
       "      <td>-1</td>\n",
       "      <td>1</td>\n",
       "      <td>-1</td>\n",
       "    </tr>\n",
       "    <tr>\n",
       "      <th>0x0566c17dc2a9efcaa2f63e04cf06a69e8fc77f60</th>\n",
       "      <td>-1</td>\n",
       "      <td>0</td>\n",
       "      <td>-1</td>\n",
       "    </tr>\n",
       "  </tbody>\n",
       "</table>\n",
       "</div>"
      ],
      "text/plain": [
       "                                            Mint  Leak  Limit\n",
       "Address                                                      \n",
       "0x0290ea3c728981725689187763f6c63a68e192b8    -1     1     -1\n",
       "0x02d3aea48b443a0026ed9cbc91b97d7335aba323    -1    -1      1\n",
       "0x03260e1b0f53e1a1f93cf126a7ca42a1c71648d6     1    -1     -1\n",
       "0x054ad3cd4a66f14bf5c0de2548a53be66995a4f6    -1     1     -1\n",
       "0x0566c17dc2a9efcaa2f63e04cf06a69e8fc77f60    -1     0     -1"
      ]
     },
     "execution_count": 3,
     "metadata": {},
     "output_type": "execute_result"
    }
   ],
   "source": [
    "target = os.path.join(DATA_PATH, name)\n",
    "df = pd.read_csv(target, index_col=0)\n",
    "df.head()"
   ]
  },
  {
   "cell_type": "code",
   "execution_count": null,
   "id": "06586b99",
   "metadata": {},
   "outputs": [],
   "source": [
    "target_df = df.loc[df['Leak']!=-1] # change this\n",
    "# target_df.to_csv(os.path.join(UNLABELED_PATH, 'groundtruth.csv'))"
   ]
  },
  {
   "cell_type": "code",
   "execution_count": 4,
   "id": "f54c100e",
   "metadata": {},
   "outputs": [],
   "source": [
    "HEX_PATH = os.path.join(DATA_PATH, 'hex')\n",
    "SOL_PATH = os.path.join(DATA_PATH, 'sol')\n",
    "TXN_PATH = os.path.join(DATA_PATH, 'txn')"
   ]
  },
  {
   "cell_type": "code",
   "execution_count": null,
   "id": "b9701ced",
   "metadata": {},
   "outputs": [
    {
     "name": "stderr",
     "output_type": "stream",
     "text": [
      "100%|██████████| 13483/13483 [00:00<00:00, 17442.40it/s]\n"
     ]
    }
   ],
   "source": [
    "for src_file in tqdm(list(Path(SOURCE_PATH).glob('*.hex'))):\n",
    "    address = src_file.stem.lower()\n",
    "    if address in df.index:\n",
    "        shutil.copy(src_file, os.path.join(HEX_PATH, f'{address}.hex'))\n"
   ]
  },
  {
   "cell_type": "code",
   "execution_count": 8,
   "id": "8fd2f7c5",
   "metadata": {},
   "outputs": [
    {
     "data": {
      "text/plain": [
       "(265, 13557)"
      ]
     },
     "execution_count": 8,
     "metadata": {},
     "output_type": "execute_result"
    }
   ],
   "source": [
    "len(df), len(os.listdir(HEX_PATH))"
   ]
  },
  {
   "cell_type": "code",
   "execution_count": null,
   "id": "17ee2149",
   "metadata": {},
   "outputs": [
    {
     "name": "stderr",
     "output_type": "stream",
     "text": [
      "  0%|          | 0/265 [00:00<?, ?it/s]"
     ]
    },
    {
     "name": "stdout",
     "output_type": "stream",
     "text": [
      "Searching 0x0290ea3c728981725689187763f6c63a68e192b8...\n",
      "Searching in 1 chain...\n",
      "error from get_internal_transactions_by_contract_addr: No transactions found\n",
      "Saved 0x0290ea3c728981725689187763f6c63a68e192b8.json\n",
      "Saved 0x0290ea3c728981725689187763f6c63a68e192b8.hex\n"
     ]
    },
    {
     "name": "stderr",
     "output_type": "stream",
     "text": [
      "  1%|          | 2/265 [00:05<10:53,  2.49s/it]"
     ]
    },
    {
     "name": "stdout",
     "output_type": "stream",
     "text": [
      "Searching in 97 chain...\n",
      "Searching in 56 chain...\n",
      "Searching in 57054 chain...\n",
      "Searching in 146 chain...\n",
      "Searching 0x02d3aea48b443a0026ed9cbc91b97d7335aba323...\n",
      "Searching in 1 chain...\n",
      "Searching in 97 chain...\n",
      "Searching in 56 chain...\n",
      "Searching in 57054 chain...\n",
      "Searching in 146 chain...\n",
      "Searching 0x03260e1b0f53e1a1f93cf126a7ca42a1c71648d6...\n",
      "Searching in 1 chain...\n",
      "error from get_internal_transactions_by_contract_addr: No transactions found\n",
      "Saved 0x03260e1b0f53e1a1f93cf126a7ca42a1c71648d6.json\n",
      "Saved 0x03260e1b0f53e1a1f93cf126a7ca42a1c71648d6.hex\n"
     ]
    },
    {
     "name": "stderr",
     "output_type": "stream",
     "text": [
      "  1%|          | 3/265 [00:10<15:34,  3.57s/it]"
     ]
    },
    {
     "name": "stdout",
     "output_type": "stream",
     "text": [
      "Searching in 97 chain...\n",
      "Searching in 56 chain...\n",
      "Searching in 57054 chain...\n",
      "Searching in 146 chain...\n",
      "Searching 0x054ad3cd4a66f14bf5c0de2548a53be66995a4f6...\n",
      "Searching in 1 chain...\n",
      "error from get_internal_transactions_by_contract_addr: No transactions found\n",
      "Saved 0x054ad3cd4a66f14bf5c0de2548a53be66995a4f6.json\n",
      "Saved 0x054ad3cd4a66f14bf5c0de2548a53be66995a4f6.hex\n"
     ]
    },
    {
     "name": "stderr",
     "output_type": "stream",
     "text": [
      "  2%|▏         | 4/265 [00:16<18:22,  4.22s/it]"
     ]
    },
    {
     "name": "stdout",
     "output_type": "stream",
     "text": [
      "Searching in 97 chain...\n",
      "Searching in 56 chain...\n",
      "Searching in 57054 chain...\n",
      "Searching in 146 chain...\n",
      "Searching 0x0566c17dc2a9efcaa2f63e04cf06a69e8fc77f60...\n",
      "Searching in 1 chain...\n",
      "error from get_internal_transactions_by_contract_addr: No transactions found\n",
      "Saved 0x0566c17dc2a9efcaa2f63e04cf06a69e8fc77f60.json\n",
      "Saved 0x0566c17dc2a9efcaa2f63e04cf06a69e8fc77f60.hex\n"
     ]
    },
    {
     "name": "stderr",
     "output_type": "stream",
     "text": [
      "  2%|▏         | 5/265 [00:20<19:11,  4.43s/it]"
     ]
    },
    {
     "name": "stdout",
     "output_type": "stream",
     "text": [
      "Searching in 97 chain...\n",
      "Searching in 56 chain...\n",
      "Searching in 57054 chain...\n",
      "Searching in 146 chain...\n",
      "Searching 0x08769a9b479a4b20e796194d960cc407fc66359a...\n",
      "Searching in 1 chain...\n",
      "error from get_internal_transactions_by_contract_addr: No transactions found\n"
     ]
    },
    {
     "name": "stderr",
     "output_type": "stream",
     "text": [
      "  2%|▏         | 5/265 [00:25<21:41,  5.01s/it]\n"
     ]
    },
    {
     "ename": "KeyboardInterrupt",
     "evalue": "",
     "output_type": "error",
     "traceback": [
      "\u001b[0;31m---------------------------------------------------------------------------\u001b[0m",
      "\u001b[0;31mKeyboardInterrupt\u001b[0m                         Traceback (most recent call last)",
      "Cell \u001b[0;32mIn [9], line 8\u001b[0m\n\u001b[1;32m      6\u001b[0m \u001b[38;5;28mprint\u001b[39m(\u001b[38;5;124mf\u001b[39m\u001b[38;5;124m\"\u001b[39m\u001b[38;5;124mSearching in \u001b[39m\u001b[38;5;132;01m{\u001b[39;00mchain\u001b[38;5;132;01m}\u001b[39;00m\u001b[38;5;124m chain...\u001b[39m\u001b[38;5;124m\"\u001b[39m)\n\u001b[1;32m      7\u001b[0m \u001b[38;5;28;01mif\u001b[39;00m addr \u001b[38;5;129;01mnot\u001b[39;00m \u001b[38;5;129;01min\u001b[39;00m [filename\u001b[38;5;241m.\u001b[39mlower()\u001b[38;5;241m.\u001b[39msplit(\u001b[38;5;124m'\u001b[39m\u001b[38;5;124m.\u001b[39m\u001b[38;5;124m'\u001b[39m)[\u001b[38;5;241m0\u001b[39m] \u001b[38;5;28;01mfor\u001b[39;00m filename \u001b[38;5;129;01min\u001b[39;00m os\u001b[38;5;241m.\u001b[39mlistdir(TXN_PATH)]:\n\u001b[0;32m----> 8\u001b[0m     info \u001b[38;5;241m=\u001b[39m \u001b[43mget_info_by_contract_addr\u001b[49m\u001b[43m(\u001b[49m\u001b[43maddr\u001b[49m\u001b[43m,\u001b[49m\u001b[43m \u001b[49m\u001b[43mchain\u001b[49m\u001b[43m)\u001b[49m\n\u001b[1;32m      9\u001b[0m     save_transactions_by_contract_addr(TXN_PATH, addr, info)\n\u001b[1;32m     10\u001b[0m     \u001b[38;5;28;01mif\u001b[39;00m \u001b[38;5;124m'\u001b[39m\u001b[38;5;124mcreationBytecode\u001b[39m\u001b[38;5;124m'\u001b[39m \u001b[38;5;129;01min\u001b[39;00m info\u001b[38;5;241m.\u001b[39mget(\u001b[38;5;124m'\u001b[39m\u001b[38;5;124mcreator\u001b[39m\u001b[38;5;124m'\u001b[39m):\n",
      "File \u001b[0;32m~/Dev/master/dissertation/workspace/notebooks/utils/data_loader.py:211\u001b[0m, in \u001b[0;36mget_info_by_contract_addr\u001b[0;34m(addr, chainid)\u001b[0m\n\u001b[1;32m    209\u001b[0m info[\u001b[38;5;124m'\u001b[39m\u001b[38;5;124mtransaction\u001b[39m\u001b[38;5;124m'\u001b[39m] \u001b[38;5;241m=\u001b[39m get_normal_transactions_by_contract_addr(addr, chainid) \u001b[38;5;241m+\u001b[39m get_internal_transactions_by_contract_addr(addr, chainid)\n\u001b[1;32m    210\u001b[0m info[\u001b[38;5;124m'\u001b[39m\u001b[38;5;124mevent\u001b[39m\u001b[38;5;124m'\u001b[39m] \u001b[38;5;241m=\u001b[39m get_events_by_contract_addr(addr, chainid)\n\u001b[0;32m--> 211\u001b[0m \u001b[43mtime\u001b[49m\u001b[38;5;241;43m.\u001b[39;49m\u001b[43msleep\u001b[49m\u001b[43m(\u001b[49m\u001b[38;5;241;43m1\u001b[39;49m\u001b[43m)\u001b[49m\n\u001b[1;32m    212\u001b[0m \u001b[38;5;28;01mreturn\u001b[39;00m info\n",
      "\u001b[0;31mKeyboardInterrupt\u001b[0m: "
     ]
    }
   ],
   "source": [
    "chains = [1, 97, 56, 57054, 146]\n",
    "# 3. Collect and extract\n",
    "for addr in tqdm(df.index):\n",
    "    print(f\"Searching {addr}...\")\n",
    "    for chain in chains:\n",
    "        print(f\"Searching in {chain} chain...\")\n",
    "        if addr not in [filename.lower().split('.')[0] for filename in os.listdir(TXN_PATH)]:\n",
    "            info = get_info_by_contract_addr(addr, chain)\n",
    "            save_transactions_by_contract_addr(TXN_PATH, addr, info)\n",
    "            if 'creationBytecode' in info.get('creator') and addr not in [filename.lower().split('.')[0] for filename in os.listdir(HEX_PATH)]:\n",
    "                save_bytecode_by_contract_addr(HEX_PATH, addr, info['creator']['creationBytecode'])\n",
    "                time.sleep(0.5)\n",
    "        if addr not in [filename.lower().split('.')[0] for filename in os.listdir(HEX_PATH)]:\n",
    "            bytecode = get_bytecode_by_contract_addr(addr, chain)\n",
    "            save_bytecode_by_contract_addr(HEX_PATH, addr, bytecode)\n",
    "            time.sleep(0.5)\n",
    "        if addr not in [filename.lower().split('.')[0] for filename in os.listdir(SOL_PATH)]:\n",
    "            source = get_source_code_by_contract_addr(addr, chain)\n",
    "            if 'SourceCode' in source:\n",
    "                save_sol_by_contract_addr(SOL_PATH, addr, source['SourceCode'])\n",
    "                time.sleep(0.5)\n"
   ]
  },
  {
   "cell_type": "code",
   "execution_count": 12,
   "id": "d7b29701",
   "metadata": {},
   "outputs": [
    {
     "data": {
      "text/plain": [
       "(87, 89, 88, 88)"
      ]
     },
     "execution_count": 12,
     "metadata": {},
     "output_type": "execute_result"
    }
   ],
   "source": [
    "len(target_df), len(os.listdir(HEX_PATH)), len(os.listdir(TXN_PATH)), len(os.listdir(SOL_PATH))"
   ]
  },
  {
   "cell_type": "code",
   "execution_count": 13,
   "id": "ddd08b14",
   "metadata": {},
   "outputs": [
    {
     "name": "stdout",
     "output_type": "stream",
     "text": [
      "File moved successfully.\n"
     ]
    }
   ],
   "source": [
    "if os.path.exists(target):\n",
    "    shutil.move(target, DATASET_PATH)\n",
    "    print(\"File moved successfully.\")\n",
    "else:\n",
    "    print(\"File does not exist.\", UNLABELED_PATH)"
   ]
  },
  {
   "cell_type": "code",
   "execution_count": null,
   "id": "03105629",
   "metadata": {},
   "outputs": [],
   "source": []
  }
 ],
 "metadata": {
  "kernelspec": {
   "display_name": "ml-algo",
   "language": "python",
   "name": "python3"
  },
  "language_info": {
   "codemirror_mode": {
    "name": "ipython",
    "version": 3
   },
   "file_extension": ".py",
   "mimetype": "text/x-python",
   "name": "python",
   "nbconvert_exporter": "python",
   "pygments_lexer": "ipython3",
   "version": "3.12.7"
  }
 },
 "nbformat": 4,
 "nbformat_minor": 5
}
