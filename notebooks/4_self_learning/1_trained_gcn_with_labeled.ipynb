{
 "cells": [
  {
   "cell_type": "markdown",
   "id": "1ca201de",
   "metadata": {},
   "source": [
    "# Test Training on Colab"
   ]
  },
  {
   "cell_type": "markdown",
   "id": "7bddeb30",
   "metadata": {},
   "source": []
  }
 ],
 "metadata": {
  "language_info": {
   "name": "python"
  }
 },
 "nbformat": 4,
 "nbformat_minor": 5
}
