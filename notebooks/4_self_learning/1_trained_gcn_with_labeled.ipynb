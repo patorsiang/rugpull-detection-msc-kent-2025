{
  "cells": [
    {
      "cell_type": "markdown",
      "id": "1ca201de",
      "metadata": {
        "id": "1ca201de"
      },
      "source": [
        "# Test Training on Colab"
      ]
    },
    {
      "cell_type": "markdown",
      "id": "7bddeb30",
      "metadata": {
        "id": "7bddeb30"
      },
      "source": [
        "## Set up"
      ]
    },
    {
      "cell_type": "markdown",
      "id": "aAdWeZCrl9oE",
      "metadata": {
        "id": "aAdWeZCrl9oE"
      },
      "source": [
        "### install required packages"
      ]
    },
    {
      "cell_type": "code",
      "execution_count": 31,
      "id": "xvepKBPZl8IS",
      "metadata": {
        "colab": {
          "base_uri": "https://localhost:8080/"
        },
        "id": "xvepKBPZl8IS",
        "outputId": "67100f4e-d2a8-418d-b0d6-e6e5399c4c22"
      },
      "outputs": [
        {
          "output_type": "stream",
          "name": "stdout",
          "text": [
            "2.6.0+cu124\n",
            "Looking in links: https://data.pyg.org/whl/torch-2.6.0+cu124.html\n",
            "Requirement already satisfied: torch-scatter in /usr/local/lib/python3.11/dist-packages (2.1.2+pt26cu124)\n",
            "Looking in links: https://data.pyg.org/whl/torch-2.6.0+cu124.html\n",
            "Requirement already satisfied: torch-sparse in /usr/local/lib/python3.11/dist-packages (0.6.18+pt26cu124)\n",
            "Requirement already satisfied: scipy in /usr/local/lib/python3.11/dist-packages (from torch-sparse) (1.16.0)\n",
            "Requirement already satisfied: numpy<2.6,>=1.25.2 in /usr/local/lib/python3.11/dist-packages (from scipy->torch-sparse) (2.0.2)\n",
            "Collecting git+https://github.com/pyg-team/pytorch_geometric.git\n",
            "  Cloning https://github.com/pyg-team/pytorch_geometric.git to /tmp/pip-req-build-pbfkfnrh\n",
            "  Running command git clone --filter=blob:none --quiet https://github.com/pyg-team/pytorch_geometric.git /tmp/pip-req-build-pbfkfnrh\n",
            "  Resolved https://github.com/pyg-team/pytorch_geometric.git to commit 1f0fbe89d654232fdc949d7b947b938671657c31\n",
            "  Installing build dependencies ... \u001b[?25l\u001b[?25hdone\n",
            "  Getting requirements to build wheel ... \u001b[?25l\u001b[?25hdone\n",
            "  Preparing metadata (pyproject.toml) ... \u001b[?25l\u001b[?25hdone\n",
            "Requirement already satisfied: aiohttp in /usr/local/lib/python3.11/dist-packages (from torch-geometric==2.7.0) (3.12.14)\n",
            "Requirement already satisfied: fsspec in /usr/local/lib/python3.11/dist-packages (from torch-geometric==2.7.0) (2025.3.0)\n",
            "Requirement already satisfied: jinja2 in /usr/local/lib/python3.11/dist-packages (from torch-geometric==2.7.0) (3.1.6)\n",
            "Requirement already satisfied: numpy in /usr/local/lib/python3.11/dist-packages (from torch-geometric==2.7.0) (2.0.2)\n",
            "Requirement already satisfied: psutil>=5.8.0 in /usr/local/lib/python3.11/dist-packages (from torch-geometric==2.7.0) (5.9.5)\n",
            "Requirement already satisfied: pyparsing in /usr/local/lib/python3.11/dist-packages (from torch-geometric==2.7.0) (3.2.3)\n",
            "Requirement already satisfied: requests in /usr/local/lib/python3.11/dist-packages (from torch-geometric==2.7.0) (2.32.3)\n",
            "Requirement already satisfied: tqdm in /usr/local/lib/python3.11/dist-packages (from torch-geometric==2.7.0) (4.67.1)\n",
            "Requirement already satisfied: xxhash in /usr/local/lib/python3.11/dist-packages (from torch-geometric==2.7.0) (3.5.0)\n",
            "Requirement already satisfied: aiohappyeyeballs>=2.5.0 in /usr/local/lib/python3.11/dist-packages (from aiohttp->torch-geometric==2.7.0) (2.6.1)\n",
            "Requirement already satisfied: aiosignal>=1.4.0 in /usr/local/lib/python3.11/dist-packages (from aiohttp->torch-geometric==2.7.0) (1.4.0)\n",
            "Requirement already satisfied: attrs>=17.3.0 in /usr/local/lib/python3.11/dist-packages (from aiohttp->torch-geometric==2.7.0) (25.3.0)\n",
            "Requirement already satisfied: frozenlist>=1.1.1 in /usr/local/lib/python3.11/dist-packages (from aiohttp->torch-geometric==2.7.0) (1.7.0)\n",
            "Requirement already satisfied: multidict<7.0,>=4.5 in /usr/local/lib/python3.11/dist-packages (from aiohttp->torch-geometric==2.7.0) (6.6.3)\n",
            "Requirement already satisfied: propcache>=0.2.0 in /usr/local/lib/python3.11/dist-packages (from aiohttp->torch-geometric==2.7.0) (0.3.2)\n",
            "Requirement already satisfied: yarl<2.0,>=1.17.0 in /usr/local/lib/python3.11/dist-packages (from aiohttp->torch-geometric==2.7.0) (1.20.1)\n",
            "Requirement already satisfied: MarkupSafe>=2.0 in /usr/local/lib/python3.11/dist-packages (from jinja2->torch-geometric==2.7.0) (3.0.2)\n",
            "Requirement already satisfied: charset-normalizer<4,>=2 in /usr/local/lib/python3.11/dist-packages (from requests->torch-geometric==2.7.0) (3.4.2)\n",
            "Requirement already satisfied: idna<4,>=2.5 in /usr/local/lib/python3.11/dist-packages (from requests->torch-geometric==2.7.0) (3.10)\n",
            "Requirement already satisfied: urllib3<3,>=1.21.1 in /usr/local/lib/python3.11/dist-packages (from requests->torch-geometric==2.7.0) (2.5.0)\n",
            "Requirement already satisfied: certifi>=2017.4.17 in /usr/local/lib/python3.11/dist-packages (from requests->torch-geometric==2.7.0) (2025.7.14)\n",
            "Requirement already satisfied: typing-extensions>=4.2 in /usr/local/lib/python3.11/dist-packages (from aiosignal>=1.4.0->aiohttp->torch-geometric==2.7.0) (4.14.1)\n",
            "Requirement already satisfied: optuna in /usr/local/lib/python3.11/dist-packages (4.4.0)\n",
            "Requirement already satisfied: alembic>=1.5.0 in /usr/local/lib/python3.11/dist-packages (from optuna) (1.16.4)\n",
            "Requirement already satisfied: colorlog in /usr/local/lib/python3.11/dist-packages (from optuna) (6.9.0)\n",
            "Requirement already satisfied: numpy in /usr/local/lib/python3.11/dist-packages (from optuna) (2.0.2)\n",
            "Requirement already satisfied: packaging>=20.0 in /usr/local/lib/python3.11/dist-packages (from optuna) (25.0)\n",
            "Requirement already satisfied: sqlalchemy>=1.4.2 in /usr/local/lib/python3.11/dist-packages (from optuna) (2.0.41)\n",
            "Requirement already satisfied: tqdm in /usr/local/lib/python3.11/dist-packages (from optuna) (4.67.1)\n",
            "Requirement already satisfied: PyYAML in /usr/local/lib/python3.11/dist-packages (from optuna) (6.0.2)\n",
            "Requirement already satisfied: Mako in /usr/lib/python3/dist-packages (from alembic>=1.5.0->optuna) (1.1.3)\n",
            "Requirement already satisfied: typing-extensions>=4.12 in /usr/local/lib/python3.11/dist-packages (from alembic>=1.5.0->optuna) (4.14.1)\n",
            "Requirement already satisfied: greenlet>=1 in /usr/local/lib/python3.11/dist-packages (from sqlalchemy>=1.4.2->optuna) (3.2.3)\n"
          ]
        }
      ],
      "source": [
        "import os\n",
        "import torch\n",
        "os.environ['TORCH'] = torch.__version__\n",
        "os.environ['PYTHONWARNINGS'] = \"ignore\"\n",
        "print(torch.__version__)\n",
        "!pip install torch-scatter -f https://data.pyg.org/whl/torch-${TORCH}.html\n",
        "!pip install torch-sparse -f https://data.pyg.org/whl/torch-${TORCH}.html\n",
        "!pip install git+https://github.com/pyg-team/pytorch_geometric.git\n",
        "!pip install optuna"
      ]
    },
    {
      "cell_type": "markdown",
      "id": "dq1BEDqpmb-I",
      "metadata": {
        "id": "dq1BEDqpmb-I"
      },
      "source": [
        "### Import and Var"
      ]
    },
    {
      "cell_type": "code",
      "execution_count": 32,
      "id": "vPee6EWnme6C",
      "metadata": {
        "id": "vPee6EWnme6C"
      },
      "outputs": [],
      "source": [
        "import warnings\n",
        "warnings.filterwarnings(\"ignore\")"
      ]
    },
    {
      "cell_type": "code",
      "execution_count": 33,
      "id": "uCGZLAotm0aH",
      "metadata": {
        "id": "uCGZLAotm0aH"
      },
      "outputs": [],
      "source": [
        "import os"
      ]
    },
    {
      "cell_type": "markdown",
      "id": "Ol1o2c_Emn7Q",
      "metadata": {
        "id": "Ol1o2c_Emn7Q"
      },
      "source": [
        "## Common Functions"
      ]
    },
    {
      "cell_type": "code",
      "execution_count": 34,
      "id": "KsGxHEFdmgFE",
      "metadata": {
        "id": "KsGxHEFdmgFE"
      },
      "outputs": [],
      "source": [
        "import numpy as np\n",
        "from sklearn.metrics import f1_score\n",
        "\n",
        "def tune_thresholds(y_true, y_pred_prob, metric='f1'):\n",
        "    y_true = np.asarray(y_true)          # Fix: convert to NumPy\n",
        "    y_pred_prob = np.asarray(y_pred_prob)\n",
        "\n",
        "    best_thresholds = []\n",
        "    best_scores = []\n",
        "\n",
        "    for i in range(y_true.shape[1]):\n",
        "        label_true = y_true[:, i]\n",
        "        label_probs = y_pred_prob[:, i]  # Fix here too\n",
        "\n",
        "        thresholds = np.linspace(0.0, 1.0, 101)\n",
        "        scores = []\n",
        "\n",
        "        for t in thresholds:\n",
        "            label_pred = (label_probs >= t).astype(int)\n",
        "            if metric == 'f1':\n",
        "                score = f1_score(label_true, label_pred, zero_division=0)\n",
        "            scores.append(score)\n",
        "\n",
        "        best_t = thresholds[np.argmax(scores)]\n",
        "        best_score = np.max(scores)\n",
        "\n",
        "        best_thresholds.append(best_t)\n",
        "        best_scores.append(best_score)\n",
        "\n",
        "        print(f\"Label {i}: Best threshold = {best_t}, Best {metric} = {best_score}\")\n",
        "\n",
        "    return best_thresholds, best_scores"
      ]
    },
    {
      "cell_type": "code",
      "execution_count": 35,
      "id": "Qwq8TDganj0a",
      "metadata": {
        "id": "Qwq8TDganj0a"
      },
      "outputs": [],
      "source": [
        "from sklearn.metrics import classification_report, multilabel_confusion_matrix, ConfusionMatrixDisplay\n",
        "import matplotlib.pyplot as plt\n",
        "\n",
        "def plot_confusion_matrix(y_test, y_pred, label_cols):\n",
        "    print(classification_report(y_test, y_pred, target_names=label_cols))\n",
        "    mcm = multilabel_confusion_matrix(y_test, y_pred)\n",
        "\n",
        "    n_labels = len(label_cols)\n",
        "    _, axes = plt.subplots(1, n_labels, figsize=(5 * n_labels, 4))  # 5 units wide per plot\n",
        "\n",
        "    for i, matrix in enumerate(mcm):\n",
        "        disp = ConfusionMatrixDisplay(confusion_matrix=matrix, display_labels=['No ' + label_cols[i], label_cols[i]])\n",
        "        disp.plot(cmap=plt.cm.Blues, ax=axes[i], colorbar=False)\n",
        "        axes[i].set_title(f'{label_cols[i]}')\n",
        "\n",
        "    plt.show()"
      ]
    },
    {
      "cell_type": "code",
      "execution_count": 36,
      "id": "tvs13QoHnvOM",
      "metadata": {
        "id": "tvs13QoHnvOM"
      },
      "outputs": [],
      "source": [
        "import torch\n",
        "import torch.nn as nn\n",
        "import torch.nn.functional as F\n",
        "from torch_geometric.nn import GCNConv, global_mean_pool\n",
        "\n",
        "class GCN(nn.Module):\n",
        "    def __init__(self, in_channels, hidden, out_channels, dropout=0.0):\n",
        "        super().__init__()\n",
        "        self.conv1 = GCNConv(in_channels, hidden)\n",
        "        self.conv2 = GCNConv(hidden, hidden)\n",
        "        self.lin = nn.Linear(hidden, out_channels)\n",
        "        self.dropout = dropout\n",
        "    def forward(self, data):\n",
        "        x, edge_index, batch = data.x, data.edge_index, data.batch\n",
        "        x = F.relu(self.conv1(x, edge_index))\n",
        "        x = F.dropout(x, p=self.dropout, training=self.training)\n",
        "        x = F.relu(self.conv2(x, edge_index))\n",
        "        x = global_mean_pool(x, batch)\n",
        "        return self.lin(x)"
      ]
    },
    {
      "cell_type": "code",
      "execution_count": 37,
      "id": "GY6VJI7ZqerO",
      "metadata": {
        "id": "GY6VJI7ZqerO"
      },
      "outputs": [],
      "source": [
        "from torch_geometric.utils import from_networkx\n",
        "import pandas as pd\n",
        "import pickle\n",
        "\n",
        "def load_data(mode='txn'):\n",
        "    graph_feature = pd.read_csv(f'{mode}_graph_features.csv', index_col=0)\n",
        "    graph_feature.index = graph_feature.index.str.lower()\n",
        "    graphs = pickle.load(open(f'{mode}.pkl', 'rb'))\n",
        "    y = pd.read_csv('groundtruth.csv', index_col=0)\n",
        "\n",
        "    label_cols = y.columns.tolist()\n",
        "\n",
        "    dataset = []\n",
        "    for i, (address, graph_data) in enumerate(graphs.items()):\n",
        "        feature = graph_feature.loc[address]\n",
        "        data = from_networkx(graph_data)\n",
        "\n",
        "        data.x = torch.tensor(feature, dtype=torch.float32).repeat(data.num_nodes, 1) # Repeat features for each node\n",
        "        data.y = torch.tensor(y.loc[address][label_cols].values, dtype=torch.float32).unsqueeze(0) # Add a batch dimension\n",
        "        dataset.append(data)\n",
        "\n",
        "    return dataset, graph_feature.shape[1], label_cols\n"
      ]
    },
    {
      "cell_type": "code",
      "execution_count": 38,
      "id": "BjpKHpEbwTWh",
      "metadata": {
        "id": "BjpKHpEbwTWh"
      },
      "outputs": [],
      "source": [
        "def create_trained_model(in_channels, hidden_dim, out_channels, dropout, lr, epochs, train_loader):\n",
        "    model = GCN(in_channels=in_channels, hidden=hidden_dim, out_channels=out_channels, dropout=dropout)\n",
        "    optimizer = torch.optim.Adam(model.parameters(), lr=lr)\n",
        "    criterion = nn.BCEWithLogitsLoss()\n",
        "\n",
        "    model.train()\n",
        "    for epoch in range(epochs):\n",
        "        for batch in train_loader:\n",
        "            optimizer.zero_grad()\n",
        "            out = model(batch)\n",
        "            loss = criterion(out, batch.y.float())\n",
        "            loss.backward()\n",
        "            optimizer.step()\n",
        "        print(f'Epoch: {epoch+1}/{epochs}, Loss: {loss.item():.4f}')\n",
        "\n",
        "    return model\n",
        "\n",
        "def val_model(model, test_loader, thresholds=None):\n",
        "    model.eval()\n",
        "    y_true, y_pred = [], []\n",
        "    with torch.no_grad():\n",
        "        for batch in test_loader:\n",
        "            out = model(batch)\n",
        "            prob = (torch.sigmoid(out)).cpu() # Removed .int() here as tune_thresholds expects probabilities\n",
        "            y_true.append(batch.y.cpu())\n",
        "            y_pred.append(prob) # Changed preds to prob\n",
        "\n",
        "    y_true = torch.cat(y_true).numpy()\n",
        "    y_pred = torch.cat(y_pred).numpy()\n",
        "\n",
        "    if thresholds is None:\n",
        "        thresholds, _ = tune_thresholds(y_true, y_pred)\n",
        "\n",
        "    y_pred = (y_pred > thresholds).astype(int)\n",
        "\n",
        "    return y_true, y_pred, thresholds"
      ]
    },
    {
      "cell_type": "code",
      "execution_count": 39,
      "id": "XkMFiSoWtMHG",
      "metadata": {
        "id": "XkMFiSoWtMHG"
      },
      "outputs": [],
      "source": [
        "from torch_geometric.loader import DataLoader\n",
        "\n",
        "def objective(trial, dataset, in_channels, out_channels):\n",
        "    hidden_dim = trial.suggest_int(\"hidden_dim\", 32, 256)\n",
        "    lr = trial.suggest_float(\"lr\", 1e-6, 1e-2, log=True)\n",
        "    dropout = trial.suggest_float(\"dropout\", 0.0, 0.8)\n",
        "    batch_size = trial.suggest_int(\"batch_size\", 16, 256, log=True)\n",
        "    epochs = trial.suggest_int(\"epochs\", 5, 50)\n",
        "\n",
        "    train_loader = DataLoader(dataset, batch_size=batch_size, shuffle=True)\n",
        "    test_loader = DataLoader(dataset, batch_size=batch_size, shuffle=False)\n",
        "\n",
        "    model = create_trained_model(in_channels, hidden_dim, out_channels, dropout, lr, epochs, train_loader)\n",
        "    y_true, y_pred, _ = val_model(model, test_loader)\n",
        "\n",
        "    return f1_score(y_true, y_pred, average='macro')\n"
      ]
    },
    {
      "cell_type": "code",
      "execution_count": 40,
      "id": "7H-trS0rssSe",
      "metadata": {
        "id": "7H-trS0rssSe"
      },
      "outputs": [],
      "source": [
        "import torch\n",
        "import json\n",
        "import optuna\n",
        "from functools import partial\n",
        "\n",
        "def get_trained_gcn_model(mode='txn', n_trials=100, save_path=None):\n",
        "    dataset, in_channel, label_cols = load_data(mode)\n",
        "    study = optuna.create_study(direction=\"maximize\")\n",
        "    objective_partial = partial(objective, dataset=dataset, in_channels=in_channel, out_channels=len(label_cols))\n",
        "    study.optimize(objective_partial, n_trials=n_trials)\n",
        "    best_params = study.best_params\n",
        "\n",
        "    print(\"Best Params:\", study.best_params)\n",
        "    print(\"Best Score:\", study.best_value)\n",
        "\n",
        "    best_model = create_trained_model(in_channel, best_params['hidden_dim'], len(label_cols), best_params['dropout'], best_params['lr'], best_params['epochs'], DataLoader(dataset, batch_size=best_params['batch_size'], shuffle=True))\n",
        "\n",
        "    y_test, y_pred, thresholds = val_model(best_model, DataLoader(dataset, batch_size=best_params['batch_size'], shuffle=False))\n",
        "\n",
        "    weights = f1_score(y_test, y_pred, average=None)\n",
        "    if save_path is not None:\n",
        "        filename = f'{mode}_model.pth'\n",
        "        torch.save(best_model.state_dict(), os.path.join(save_path, filename))\n",
        "        print(f\"Model saved to {filename}\")\n",
        "\n",
        "        filename = f'{mode}_best_params.json'\n",
        "        with open(os.path.join(save_path, filename), 'w') as f:\n",
        "            data = {\n",
        "                **best_params,\n",
        "                'in_channels':in_channel,\n",
        "                'out_channels':len(label_cols),\n",
        "                'thresholds': thresholds,\n",
        "                'weights': weights.tolist()\n",
        "            }\n",
        "            json.dump(data, f, indent=4)\n",
        "        print(f\"Best parameters saved to {filename}\")\n",
        "\n",
        "\n",
        "    return best_model, thresholds"
      ]
    },
    {
      "cell_type": "markdown",
      "id": "C9bAqLVNpe6K",
      "metadata": {
        "id": "C9bAqLVNpe6K"
      },
      "source": [
        "## Transaction"
      ]
    },
    {
      "cell_type": "code",
      "execution_count": 41,
      "id": "9P7eV7UvpIEP",
      "metadata": {
        "colab": {
          "base_uri": "https://localhost:8080/"
        },
        "id": "9P7eV7UvpIEP",
        "outputId": "05a05b9a-ab4f-473e-d2de-adde6556bb0c"
      },
      "outputs": [
        {
          "output_type": "stream",
          "name": "stderr",
          "text": [
            "[I 2025-08-02 23:07:11,875] A new study created in memory with name: no-name-7deaeae2-01b8-4500-9455-e910cf2ffb8f\n"
          ]
        },
        {
          "output_type": "stream",
          "name": "stdout",
          "text": [
            "Epoch: 1/43, Loss: 0.7147\n",
            "Epoch: 2/43, Loss: 0.4665\n",
            "Epoch: 3/43, Loss: 0.5838\n",
            "Epoch: 4/43, Loss: 1.3880\n",
            "Epoch: 5/43, Loss: 0.6684\n",
            "Epoch: 6/43, Loss: 0.0000\n",
            "Epoch: 7/43, Loss: 0.5269\n",
            "Epoch: 8/43, Loss: 0.5725\n",
            "Epoch: 9/43, Loss: 0.0002\n",
            "Epoch: 10/43, Loss: 0.7416\n",
            "Epoch: 11/43, Loss: 0.7307\n",
            "Epoch: 12/43, Loss: 0.6592\n",
            "Epoch: 13/43, Loss: 0.6421\n",
            "Epoch: 14/43, Loss: 0.7714\n",
            "Epoch: 15/43, Loss: 0.0000\n",
            "Epoch: 16/43, Loss: 0.6356\n",
            "Epoch: 17/43, Loss: 0.6479\n",
            "Epoch: 18/43, Loss: 0.7434\n",
            "Epoch: 19/43, Loss: 0.6474\n",
            "Epoch: 20/43, Loss: 0.5414\n",
            "Epoch: 21/43, Loss: 0.5170\n",
            "Epoch: 22/43, Loss: 0.5244\n",
            "Epoch: 23/43, Loss: 0.9479\n",
            "Epoch: 24/43, Loss: 0.4606\n",
            "Epoch: 25/43, Loss: 0.6498\n",
            "Epoch: 26/43, Loss: 0.6742\n",
            "Epoch: 27/43, Loss: 0.5943\n",
            "Epoch: 28/43, Loss: 3.1197\n",
            "Epoch: 29/43, Loss: 0.7879\n",
            "Epoch: 30/43, Loss: 0.3828\n",
            "Epoch: 31/43, Loss: 0.5902\n",
            "Epoch: 32/43, Loss: 0.8239\n",
            "Epoch: 33/43, Loss: 0.7807\n",
            "Epoch: 34/43, Loss: 0.5531\n",
            "Epoch: 35/43, Loss: 0.4884\n",
            "Epoch: 36/43, Loss: 0.0167\n",
            "Epoch: 37/43, Loss: 0.5793\n",
            "Epoch: 38/43, Loss: 1.1516\n",
            "Epoch: 39/43, Loss: 0.2000\n",
            "Epoch: 40/43, Loss: 0.7668\n",
            "Epoch: 41/43, Loss: 0.5846\n",
            "Epoch: 42/43, Loss: 0.3867\n",
            "Epoch: 43/43, Loss: 0.5929\n",
            "Label 0: Best threshold = 0.01, Best f1 = 0.5859872611464968\n",
            "Label 1: Best threshold = 0.05, Best f1 = 0.7759562841530054\n"
          ]
        },
        {
          "output_type": "stream",
          "name": "stderr",
          "text": [
            "[I 2025-08-02 23:07:49,851] Trial 0 finished with value: 0.652738945741656 and parameters: {'hidden_dim': 154, 'lr': 0.0028898317346536953, 'dropout': 0.5570523581386316, 'batch_size': 41, 'epochs': 43}. Best is trial 0 with value: 0.652738945741656.\n"
          ]
        },
        {
          "output_type": "stream",
          "name": "stdout",
          "text": [
            "Label 2: Best threshold = 0.39, Best f1 = 0.5962732919254659\n",
            "Epoch: 1/24, Loss: 11.9482\n",
            "Epoch: 2/24, Loss: 12.0624\n",
            "Epoch: 3/24, Loss: 12.2348\n",
            "Epoch: 4/24, Loss: 11.9641\n",
            "Epoch: 5/24, Loss: 12.1497\n",
            "Epoch: 6/24, Loss: 12.1361\n",
            "Epoch: 7/24, Loss: 11.9630\n",
            "Epoch: 8/24, Loss: 12.1622\n",
            "Epoch: 9/24, Loss: 12.1153\n",
            "Epoch: 10/24, Loss: 12.2440\n",
            "Epoch: 11/24, Loss: 12.0463\n",
            "Epoch: 12/24, Loss: 11.8992\n",
            "Epoch: 13/24, Loss: 12.1719\n",
            "Epoch: 14/24, Loss: 11.8785\n",
            "Epoch: 15/24, Loss: 12.2122\n",
            "Epoch: 16/24, Loss: 12.1552\n",
            "Epoch: 17/24, Loss: 11.8682\n",
            "Epoch: 18/24, Loss: 11.8919\n",
            "Epoch: 19/24, Loss: 11.8886\n",
            "Epoch: 20/24, Loss: 12.1124\n",
            "Epoch: 21/24, Loss: 12.0109\n",
            "Epoch: 22/24, Loss: 11.8425\n",
            "Epoch: 23/24, Loss: 12.0649\n",
            "Epoch: 24/24, Loss: 11.8580\n",
            "Label 0: Best threshold = 0.13, Best f1 = 0.5906040268456376\n",
            "Label 1: Best threshold = 0.0, Best f1 = 0.76\n"
          ]
        },
        {
          "output_type": "stream",
          "name": "stderr",
          "text": [
            "[I 2025-08-02 23:08:26,167] Trial 1 finished with value: 0.6433047905577413 and parameters: {'hidden_dim': 146, 'lr': 1.2394429106770791e-06, 'dropout': 0.444189726353914, 'batch_size': 138, 'epochs': 24}. Best is trial 0 with value: 0.652738945741656.\n"
          ]
        },
        {
          "output_type": "stream",
          "name": "stdout",
          "text": [
            "Label 2: Best threshold = 0.01, Best f1 = 0.5793103448275863\n",
            "Epoch: 1/43, Loss: 13.3798\n",
            "Epoch: 2/43, Loss: 4.9937\n",
            "Epoch: 3/43, Loss: 3.7321\n",
            "Epoch: 4/43, Loss: 3.0800\n",
            "Epoch: 5/43, Loss: 10.2474\n",
            "Epoch: 6/43, Loss: 12.2816\n",
            "Epoch: 7/43, Loss: 1.8348\n",
            "Epoch: 8/43, Loss: 4.8025\n",
            "Epoch: 9/43, Loss: 1.2954\n",
            "Epoch: 10/43, Loss: 1.5869\n",
            "Epoch: 11/43, Loss: 7.4948\n",
            "Epoch: 12/43, Loss: 0.7067\n",
            "Epoch: 13/43, Loss: 1.0926\n",
            "Epoch: 14/43, Loss: 1.2947\n",
            "Epoch: 15/43, Loss: 1.0394\n",
            "Epoch: 16/43, Loss: 3.1384\n",
            "Epoch: 17/43, Loss: 1.7909\n",
            "Epoch: 18/43, Loss: 0.8638\n",
            "Epoch: 19/43, Loss: 0.9790\n",
            "Epoch: 20/43, Loss: 0.7379\n",
            "Epoch: 21/43, Loss: 0.6031\n",
            "Epoch: 22/43, Loss: 1.0001\n",
            "Epoch: 23/43, Loss: 1.2569\n",
            "Epoch: 24/43, Loss: 0.6497\n",
            "Epoch: 25/43, Loss: 0.7167\n",
            "Epoch: 26/43, Loss: 0.6540\n",
            "Epoch: 27/43, Loss: 0.7352\n",
            "Epoch: 28/43, Loss: 0.6218\n",
            "Epoch: 29/43, Loss: 0.6591\n",
            "Epoch: 30/43, Loss: 0.6171\n",
            "Epoch: 31/43, Loss: 0.6906\n",
            "Epoch: 32/43, Loss: 0.7495\n",
            "Epoch: 33/43, Loss: 0.7605\n",
            "Epoch: 34/43, Loss: 0.7582\n",
            "Epoch: 35/43, Loss: 0.6281\n",
            "Epoch: 36/43, Loss: 1.5219\n",
            "Epoch: 37/43, Loss: 0.6536\n",
            "Epoch: 38/43, Loss: 0.8612\n",
            "Epoch: 39/43, Loss: 0.6923\n",
            "Epoch: 40/43, Loss: 0.6321\n",
            "Epoch: 41/43, Loss: 0.7144\n",
            "Epoch: 42/43, Loss: 0.6386\n",
            "Epoch: 43/43, Loss: 0.6800\n",
            "Label 0: Best threshold = 0.49, Best f1 = 0.6064516129032258\n",
            "Label 1: Best threshold = 0.21, Best f1 = 0.7821229050279329\n"
          ]
        },
        {
          "output_type": "stream",
          "name": "stderr",
          "text": [
            "[I 2025-08-02 23:09:25,161] Trial 2 finished with value: 0.6569509996479389 and parameters: {'hidden_dim': 235, 'lr': 1.2446375966667955e-05, 'dropout': 0.37286914305722657, 'batch_size': 37, 'epochs': 43}. Best is trial 2 with value: 0.6569509996479389.\n"
          ]
        },
        {
          "output_type": "stream",
          "name": "stdout",
          "text": [
            "Label 2: Best threshold = 0.01, Best f1 = 0.5822784810126582\n",
            "Epoch: 1/35, Loss: 8.2874\n",
            "Epoch: 2/35, Loss: 5.9931\n",
            "Epoch: 3/35, Loss: 4.4621\n",
            "Epoch: 4/35, Loss: 3.1246\n",
            "Epoch: 5/35, Loss: 3.3421\n",
            "Epoch: 6/35, Loss: 2.9931\n",
            "Epoch: 7/35, Loss: 2.8264\n",
            "Epoch: 8/35, Loss: 2.5538\n",
            "Epoch: 9/35, Loss: 2.4268\n",
            "Epoch: 10/35, Loss: 1.9934\n",
            "Epoch: 11/35, Loss: 2.7108\n",
            "Epoch: 12/35, Loss: 3.1375\n",
            "Epoch: 13/35, Loss: 2.7539\n",
            "Epoch: 14/35, Loss: 2.4416\n",
            "Epoch: 15/35, Loss: 1.7849\n",
            "Epoch: 16/35, Loss: 1.8861\n",
            "Epoch: 17/35, Loss: 2.2707\n",
            "Epoch: 18/35, Loss: 1.8657\n",
            "Epoch: 19/35, Loss: 1.9579\n",
            "Epoch: 20/35, Loss: 1.7879\n",
            "Epoch: 21/35, Loss: 1.6206\n",
            "Epoch: 22/35, Loss: 1.4704\n",
            "Epoch: 23/35, Loss: 1.5494\n",
            "Epoch: 24/35, Loss: 1.6457\n",
            "Epoch: 25/35, Loss: 1.6725\n",
            "Epoch: 26/35, Loss: 1.4626\n",
            "Epoch: 27/35, Loss: 1.5486\n",
            "Epoch: 28/35, Loss: 0.8709\n",
            "Epoch: 29/35, Loss: 1.2245\n",
            "Epoch: 30/35, Loss: 1.4443\n",
            "Epoch: 31/35, Loss: 1.5993\n",
            "Epoch: 32/35, Loss: 1.1012\n",
            "Epoch: 33/35, Loss: 1.1361\n",
            "Epoch: 34/35, Loss: 1.4160\n",
            "Epoch: 35/35, Loss: 1.4838\n",
            "Label 0: Best threshold = 0.0, Best f1 = 0.5581395348837209\n",
            "Label 1: Best threshold = 0.47000000000000003, Best f1 = 0.7810650887573964\n"
          ]
        },
        {
          "output_type": "stream",
          "name": "stderr",
          "text": [
            "[I 2025-08-02 23:10:17,718] Trial 3 finished with value: 0.6335360441376824 and parameters: {'hidden_dim': 166, 'lr': 0.0002817491816795501, 'dropout': 0.7842934582323813, 'batch_size': 170, 'epochs': 35}. Best is trial 2 with value: 0.6569509996479389.\n"
          ]
        },
        {
          "output_type": "stream",
          "name": "stdout",
          "text": [
            "Label 2: Best threshold = 0.47000000000000003, Best f1 = 0.5614035087719298\n",
            "Epoch: 1/33, Loss: 0.5885\n",
            "Epoch: 2/33, Loss: 0.7344\n",
            "Epoch: 3/33, Loss: 0.6832\n",
            "Epoch: 4/33, Loss: 0.7722\n",
            "Epoch: 5/33, Loss: 45.7317\n",
            "Epoch: 6/33, Loss: 0.6402\n",
            "Epoch: 7/33, Loss: 0.6212\n",
            "Epoch: 8/33, Loss: 10.3763\n",
            "Epoch: 9/33, Loss: 1.2011\n",
            "Epoch: 10/33, Loss: 0.9882\n",
            "Epoch: 11/33, Loss: 0.5128\n",
            "Epoch: 12/33, Loss: 1.4179\n",
            "Epoch: 13/33, Loss: 1.3246\n",
            "Epoch: 14/33, Loss: 0.8377\n",
            "Epoch: 15/33, Loss: 0.8685\n",
            "Epoch: 16/33, Loss: 0.4877\n",
            "Epoch: 17/33, Loss: 0.7108\n",
            "Epoch: 18/33, Loss: 2.1143\n",
            "Epoch: 19/33, Loss: 0.6451\n",
            "Epoch: 20/33, Loss: 0.9337\n",
            "Epoch: 21/33, Loss: 1.6471\n",
            "Epoch: 22/33, Loss: 0.2613\n",
            "Epoch: 23/33, Loss: 1.6717\n",
            "Epoch: 24/33, Loss: 0.6409\n",
            "Epoch: 25/33, Loss: 0.6442\n",
            "Epoch: 26/33, Loss: 2.4032\n",
            "Epoch: 27/33, Loss: 0.5115\n",
            "Epoch: 28/33, Loss: 0.5469\n",
            "Epoch: 29/33, Loss: 0.7942\n",
            "Epoch: 30/33, Loss: 0.9040\n",
            "Epoch: 31/33, Loss: 0.7030\n",
            "Epoch: 32/33, Loss: 1.4134\n",
            "Epoch: 33/33, Loss: 0.6139\n",
            "Label 0: Best threshold = 0.05, Best f1 = 0.5850340136054422\n",
            "Label 1: Best threshold = 0.03, Best f1 = 0.770949720670391\n"
          ]
        },
        {
          "output_type": "stream",
          "name": "stderr",
          "text": [
            "[I 2025-08-02 23:11:31,879] Trial 4 finished with value: 0.6456882717856381 and parameters: {'hidden_dim': 254, 'lr': 9.838526394978379e-06, 'dropout': 0.570242036086208, 'batch_size': 61, 'epochs': 33}. Best is trial 2 with value: 0.6569509996479389.\n"
          ]
        },
        {
          "output_type": "stream",
          "name": "stdout",
          "text": [
            "Label 2: Best threshold = 0.01, Best f1 = 0.581081081081081\n",
            "Epoch: 1/25, Loss: 2.7680\n",
            "Epoch: 2/25, Loss: 3.6893\n",
            "Epoch: 3/25, Loss: 1.1773\n",
            "Epoch: 4/25, Loss: 1.0656\n",
            "Epoch: 5/25, Loss: 1.3108\n",
            "Epoch: 6/25, Loss: 2.3112\n",
            "Epoch: 7/25, Loss: 0.8881\n",
            "Epoch: 8/25, Loss: 2.3168\n",
            "Epoch: 9/25, Loss: 1.0394\n",
            "Epoch: 10/25, Loss: 1.0022\n",
            "Epoch: 11/25, Loss: 2.4427\n",
            "Epoch: 12/25, Loss: 0.8005\n",
            "Epoch: 13/25, Loss: 1.1305\n",
            "Epoch: 14/25, Loss: 0.9120\n",
            "Epoch: 15/25, Loss: 1.1164\n",
            "Epoch: 16/25, Loss: 0.8946\n",
            "Epoch: 17/25, Loss: 1.1032\n",
            "Epoch: 18/25, Loss: 0.8036\n",
            "Epoch: 19/25, Loss: 1.6418\n",
            "Epoch: 20/25, Loss: 0.8388\n",
            "Epoch: 21/25, Loss: 0.7565\n",
            "Epoch: 22/25, Loss: 0.9850\n",
            "Epoch: 23/25, Loss: 0.9245\n",
            "Epoch: 24/25, Loss: 1.8173\n",
            "Epoch: 25/25, Loss: 0.9094\n",
            "Label 0: Best threshold = 0.2, Best f1 = 0.589041095890411\n",
            "Label 1: Best threshold = 0.0, Best f1 = 0.76\n"
          ]
        },
        {
          "output_type": "stream",
          "name": "stderr",
          "text": [
            "[I 2025-08-02 23:11:45,507] Trial 5 finished with value: 0.6379156594144507 and parameters: {'hidden_dim': 109, 'lr': 0.000122779203557621, 'dropout': 0.6662064695602266, 'batch_size': 80, 'epochs': 25}. Best is trial 2 with value: 0.6569509996479389.\n"
          ]
        },
        {
          "output_type": "stream",
          "name": "stdout",
          "text": [
            "Label 2: Best threshold = 0.47000000000000003, Best f1 = 0.5647058823529412\n",
            "Epoch: 1/6, Loss: 0.7077\n",
            "Epoch: 2/6, Loss: 4.6500\n",
            "Epoch: 3/6, Loss: 148.1746\n",
            "Epoch: 4/6, Loss: 114.0845\n",
            "Epoch: 5/6, Loss: 0.4599\n",
            "Epoch: 6/6, Loss: 1.0440\n",
            "Label 0: Best threshold = 0.0, Best f1 = 0.5581395348837209\n",
            "Label 1: Best threshold = 0.0, Best f1 = 0.76\n",
            "Label 2: Best threshold = 0.0, Best f1 = 0.5581395348837209\n"
          ]
        },
        {
          "output_type": "stream",
          "name": "stderr",
          "text": [
            "[I 2025-08-02 23:11:50,879] Trial 6 finished with value: 0.6254263565891472 and parameters: {'hidden_dim': 175, 'lr': 1.2610420068797737e-06, 'dropout': 0.24779033643396603, 'batch_size': 30, 'epochs': 6}. Best is trial 2 with value: 0.6569509996479389.\n"
          ]
        },
        {
          "output_type": "stream",
          "name": "stdout",
          "text": [
            "Epoch: 1/9, Loss: 5.3969\n",
            "Epoch: 2/9, Loss: 9.5527\n",
            "Epoch: 3/9, Loss: 0.6207\n",
            "Epoch: 4/9, Loss: 2.8925\n",
            "Epoch: 5/9, Loss: 1.1424\n",
            "Epoch: 6/9, Loss: 0.6443\n",
            "Epoch: 7/9, Loss: 0.6353\n",
            "Epoch: 8/9, Loss: 0.6205\n",
            "Epoch: 9/9, Loss: 0.6783\n",
            "Label 0: Best threshold = 0.47000000000000003, Best f1 = 0.5695364238410596\n"
          ]
        },
        {
          "output_type": "stream",
          "name": "stderr",
          "text": [
            "[I 2025-08-02 23:11:54,817] Trial 7 finished with value: 0.6303133108709965 and parameters: {'hidden_dim': 92, 'lr': 0.008138894299455175, 'dropout': 0.16872915869793514, 'batch_size': 18, 'epochs': 9}. Best is trial 2 with value: 0.6569509996479389.\n"
          ]
        },
        {
          "output_type": "stream",
          "name": "stdout",
          "text": [
            "Label 1: Best threshold = 0.0, Best f1 = 0.76\n",
            "Label 2: Best threshold = 0.47000000000000003, Best f1 = 0.5614035087719298\n",
            "Epoch: 1/8, Loss: 0.9188\n",
            "Epoch: 2/8, Loss: 1.7037\n",
            "Epoch: 3/8, Loss: 2.9360\n",
            "Epoch: 4/8, Loss: 0.5273\n",
            "Epoch: 5/8, Loss: 0.9898\n",
            "Epoch: 6/8, Loss: 0.8610\n",
            "Epoch: 7/8, Loss: 3.0834\n",
            "Epoch: 8/8, Loss: 0.7084\n",
            "Label 0: Best threshold = 0.0, Best f1 = 0.5581395348837209\n",
            "Label 1: Best threshold = 0.1, Best f1 = 0.7636363636363637\n"
          ]
        },
        {
          "output_type": "stream",
          "name": "stderr",
          "text": [
            "[I 2025-08-02 23:12:06,341] Trial 8 finished with value: 0.6266384778012686 and parameters: {'hidden_dim': 195, 'lr': 0.0004445511417609628, 'dropout': 0.5556818626302962, 'batch_size': 24, 'epochs': 8}. Best is trial 2 with value: 0.6569509996479389.\n"
          ]
        },
        {
          "output_type": "stream",
          "name": "stdout",
          "text": [
            "Label 2: Best threshold = 0.0, Best f1 = 0.5581395348837209\n",
            "Epoch: 1/7, Loss: 2.8624\n",
            "Epoch: 2/7, Loss: 9.4292\n",
            "Epoch: 3/7, Loss: 4.4840\n",
            "Epoch: 4/7, Loss: 0.8910\n",
            "Epoch: 5/7, Loss: 0.6644\n",
            "Epoch: 6/7, Loss: 1.7964\n",
            "Epoch: 7/7, Loss: 0.8981\n",
            "Label 0: Best threshold = 0.48, Best f1 = 0.5974025974025974\n",
            "Label 1: Best threshold = 0.19, Best f1 = 0.7835051546391752\n"
          ]
        },
        {
          "output_type": "stream",
          "name": "stderr",
          "text": [
            "[I 2025-08-02 23:12:10,723] Trial 9 finished with value: 0.6585007822121224 and parameters: {'hidden_dim': 113, 'lr': 0.0008490214961620457, 'dropout': 0.5429364323846421, 'batch_size': 21, 'epochs': 7}. Best is trial 9 with value: 0.6585007822121224.\n"
          ]
        },
        {
          "output_type": "stream",
          "name": "stdout",
          "text": [
            "Label 2: Best threshold = 0.23, Best f1 = 0.5945945945945946\n",
            "Best Params: {'hidden_dim': 113, 'lr': 0.0008490214961620457, 'dropout': 0.5429364323846421, 'batch_size': 21, 'epochs': 7}\n",
            "Best Score: 0.6585007822121224\n",
            "Epoch: 1/7, Loss: 1.4835\n",
            "Epoch: 2/7, Loss: 14.8201\n",
            "Epoch: 3/7, Loss: 3.8650\n",
            "Epoch: 4/7, Loss: 0.9036\n",
            "Epoch: 5/7, Loss: 1.0107\n",
            "Epoch: 6/7, Loss: 0.7172\n",
            "Epoch: 7/7, Loss: 1.6744\n",
            "Label 0: Best threshold = 0.02, Best f1 = 0.581081081081081\n",
            "Label 1: Best threshold = 0.01, Best f1 = 0.7717391304347826\n",
            "Label 2: Best threshold = 0.06, Best f1 = 0.5850340136054422\n",
            "Model saved to txn_model.pth\n",
            "Best parameters saved to txn_best_params.json\n"
          ]
        }
      ],
      "source": [
        "import torch\n",
        "from torch_geometric.loader import DataLoader\n",
        "\n",
        "model, thresholds = get_trained_gcn_model(mode='txn', save_path='.', n_trials=10)"
      ]
    },
    {
      "cell_type": "code",
      "execution_count": 42,
      "id": "CYGd5fd2GMZK",
      "metadata": {
        "colab": {
          "base_uri": "https://localhost:8080/",
          "height": 653
        },
        "id": "CYGd5fd2GMZK",
        "outputId": "0ff0537c-c28a-45dd-e7ff-91a02590223e"
      },
      "outputs": [
        {
          "output_type": "stream",
          "name": "stdout",
          "text": [
            "Label 0: Best threshold = 0.02, Best f1 = 0.581081081081081\n",
            "Label 1: Best threshold = 0.01, Best f1 = 0.7717391304347826\n",
            "Label 2: Best threshold = 0.06, Best f1 = 0.5850340136054422\n",
            "              precision    recall  f1-score   support\n",
            "\n",
            "        Mint       0.43      0.90      0.58        48\n",
            "        Leak       0.66      0.93      0.77        76\n",
            "       Limit       0.43      0.90      0.59        48\n",
            "\n",
            "   micro avg       0.51      0.91      0.66       172\n",
            "   macro avg       0.51      0.91      0.65       172\n",
            "weighted avg       0.53      0.91      0.67       172\n",
            " samples avg       0.44      0.71      0.52       172\n",
            "\n"
          ]
        },
        {
          "output_type": "display_data",
          "data": {
            "text/plain": [
              "<Figure size 1500x400 with 3 Axes>"
            ],
            "image/png": "[encoded data removed]"
          },
          "metadata": {}
        }
      ],
      "source": [
        "dataset = load_data(mode='txn')[0]\n",
        "loader = DataLoader(dataset, batch_size=128, shuffle=True)\n",
        "ground_df = pd.read_csv('groundtruth.csv', index_col=0)\n",
        "label_cols = ground_df.columns.tolist()\n",
        "y_true, y_pred, _ = val_model(model, loader)\n",
        "\n",
        "plot_confusion_matrix(y_true, y_pred, label_cols)"
      ]
    },
    {
      "cell_type": "code",
      "execution_count": 43,
      "id": "9yjMbmU02IME",
      "metadata": {
        "colab": {
          "base_uri": "https://localhost:8080/",
          "height": 601
        },
        "id": "9yjMbmU02IME",
        "outputId": "3864404e-f137-4074-d2d2-03d92ce61299"
      },
      "outputs": [
        {
          "output_type": "stream",
          "name": "stdout",
          "text": [
            "              precision    recall  f1-score   support\n",
            "\n",
            "        Mint       0.43      0.90      0.58        48\n",
            "        Leak       0.66      0.93      0.77        76\n",
            "       Limit       0.43      0.90      0.59        48\n",
            "\n",
            "   micro avg       0.51      0.91      0.66       172\n",
            "   macro avg       0.51      0.91      0.65       172\n",
            "weighted avg       0.53      0.91      0.67       172\n",
            " samples avg       0.44      0.71      0.52       172\n",
            "\n"
          ]
        },
        {
          "output_type": "display_data",
          "data": {
            "text/plain": [
              "<Figure size 1500x400 with 3 Axes>"
            ],
            "image/png": "[encoded data removed]"
          },
          "metadata": {}
        }
      ],
      "source": [
        "import torch\n",
        "import json\n",
        "\n",
        "# Load best parameters\n",
        "with open(\"txn_best_params.json\", \"r\") as f:\n",
        "    best_params = json.load(f)\n",
        "\n",
        "# Get input and output channels (assuming they are consistent with training)\n",
        "dataset_info, in_channels, label_cols = load_data(mode='txn')\n",
        "out_channels = len(label_cols)\n",
        "\n",
        "# Initialize the model with the loaded parameters\n",
        "loaded_model = GCN(in_channels=in_channels, hidden=best_params['hidden_dim'], out_channels=out_channels, dropout=best_params['dropout'])\n",
        "\n",
        "# Load the state dictionary\n",
        "loaded_model.load_state_dict(torch.load(\"txn_model.pth\"))\n",
        "\n",
        "thresholds = best_params['thresholds']\n",
        "# Assuming 'loader' and 'thresholds' are already defined from previous cells\n",
        "y_true, y_pred, _ = val_model(loaded_model, loader, thresholds)\n",
        "\n",
        "plot_confusion_matrix(y_true, y_pred, label_cols)"
      ]
    },
    {
      "cell_type": "markdown",
      "id": "568nUlVzRgdq",
      "metadata": {
        "id": "568nUlVzRgdq"
      },
      "source": [
        "## Control Flow"
      ]
    },
    {
      "cell_type": "code",
      "execution_count": 44,
      "id": "QYf69XGPRgdq",
      "metadata": {
        "colab": {
          "base_uri": "https://localhost:8080/"
        },
        "id": "QYf69XGPRgdq",
        "outputId": "cb9f4631-0495-479d-c063-06d566a3c63c"
      },
      "outputs": [
        {
          "output_type": "stream",
          "name": "stderr",
          "text": [
            "[I 2025-08-02 23:12:27,752] A new study created in memory with name: no-name-2bffcd93-e402-4111-a9a7-57a60bfe973c\n"
          ]
        },
        {
          "output_type": "stream",
          "name": "stdout",
          "text": [
            "Epoch: 1/50, Loss: 6.3507\n",
            "Epoch: 2/50, Loss: 2.6804\n",
            "Epoch: 3/50, Loss: 2.7144\n",
            "Epoch: 4/50, Loss: 3.1983\n",
            "Epoch: 5/50, Loss: 2.6864\n",
            "Epoch: 6/50, Loss: 1.7499\n",
            "Epoch: 7/50, Loss: 1.0818\n",
            "Epoch: 8/50, Loss: 1.6756\n",
            "Epoch: 9/50, Loss: 2.0819\n",
            "Epoch: 10/50, Loss: 1.7409\n",
            "Epoch: 11/50, Loss: 1.1283\n",
            "Epoch: 12/50, Loss: 0.9647\n",
            "Epoch: 13/50, Loss: 1.3013\n",
            "Epoch: 14/50, Loss: 1.4103\n",
            "Epoch: 15/50, Loss: 1.2646\n",
            "Epoch: 16/50, Loss: 0.9883\n",
            "Epoch: 17/50, Loss: 0.7143\n",
            "Epoch: 18/50, Loss: 0.8810\n",
            "Epoch: 19/50, Loss: 1.0653\n",
            "Epoch: 20/50, Loss: 0.9566\n",
            "Epoch: 21/50, Loss: 0.7258\n",
            "Epoch: 22/50, Loss: 0.7013\n",
            "Epoch: 23/50, Loss: 0.8508\n",
            "Epoch: 24/50, Loss: 0.9038\n",
            "Epoch: 25/50, Loss: 0.8025\n",
            "Epoch: 26/50, Loss: 0.6531\n",
            "Epoch: 27/50, Loss: 0.7106\n",
            "Epoch: 28/50, Loss: 0.8077\n",
            "Epoch: 29/50, Loss: 0.7440\n",
            "Epoch: 30/50, Loss: 0.6357\n",
            "Epoch: 31/50, Loss: 0.6771\n",
            "Epoch: 32/50, Loss: 0.7314\n",
            "Epoch: 33/50, Loss: 0.7068\n",
            "Epoch: 34/50, Loss: 0.6390\n",
            "Epoch: 35/50, Loss: 0.6531\n",
            "Epoch: 36/50, Loss: 0.6832\n",
            "Epoch: 37/50, Loss: 0.6584\n",
            "Epoch: 38/50, Loss: 0.6327\n",
            "Epoch: 39/50, Loss: 0.6361\n",
            "Epoch: 40/50, Loss: 0.6540\n",
            "Epoch: 41/50, Loss: 0.6452\n",
            "Epoch: 42/50, Loss: 0.6135\n",
            "Epoch: 43/50, Loss: 0.6188\n",
            "Epoch: 44/50, Loss: 0.6274\n",
            "Epoch: 45/50, Loss: 0.6287\n",
            "Epoch: 46/50, Loss: 0.6032\n",
            "Epoch: 47/50, Loss: 0.6170\n",
            "Epoch: 48/50, Loss: 0.6236\n",
            "Epoch: 49/50, Loss: 0.6078\n",
            "Epoch: 50/50, Loss: 0.5975\n",
            "Label 0: Best threshold = 0.52, Best f1 = 0.6428571428571429\n"
          ]
        },
        {
          "output_type": "stream",
          "name": "stderr",
          "text": [
            "[I 2025-08-02 23:13:21,451] Trial 0 finished with value: 0.7020717377860235 and parameters: {'hidden_dim': 179, 'lr': 0.001658354080549806, 'dropout': 0.16128755084293964, 'batch_size': 193, 'epochs': 50}. Best is trial 0 with value: 0.7020717377860235.\n"
          ]
        },
        {
          "output_type": "stream",
          "name": "stdout",
          "text": [
            "Label 1: Best threshold = 0.73, Best f1 = 0.8409090909090909\n",
            "Label 2: Best threshold = 0.39, Best f1 = 0.6224489795918368\n",
            "Epoch: 1/39, Loss: 6.8351\n",
            "Epoch: 2/39, Loss: 5.2963\n",
            "Epoch: 3/39, Loss: 6.1681\n",
            "Epoch: 4/39, Loss: 5.7640\n",
            "Epoch: 5/39, Loss: 6.0626\n",
            "Epoch: 6/39, Loss: 4.7701\n",
            "Epoch: 7/39, Loss: 4.6961\n",
            "Epoch: 8/39, Loss: 5.0384\n",
            "Epoch: 9/39, Loss: 5.3642\n",
            "Epoch: 10/39, Loss: 5.0948\n",
            "Epoch: 11/39, Loss: 5.2454\n",
            "Epoch: 12/39, Loss: 5.9074\n",
            "Epoch: 13/39, Loss: 5.6128\n",
            "Epoch: 14/39, Loss: 5.9451\n",
            "Epoch: 15/39, Loss: 5.6378\n",
            "Epoch: 16/39, Loss: 4.6671\n",
            "Epoch: 17/39, Loss: 5.3032\n",
            "Epoch: 18/39, Loss: 5.7063\n",
            "Epoch: 19/39, Loss: 5.8621\n",
            "Epoch: 20/39, Loss: 5.7876\n",
            "Epoch: 21/39, Loss: 5.7709\n",
            "Epoch: 22/39, Loss: 5.5952\n",
            "Epoch: 23/39, Loss: 5.5711\n",
            "Epoch: 24/39, Loss: 5.7152\n",
            "Epoch: 25/39, Loss: 4.6637\n",
            "Epoch: 26/39, Loss: 4.6707\n",
            "Epoch: 27/39, Loss: 5.2714\n",
            "Epoch: 28/39, Loss: 5.2200\n",
            "Epoch: 29/39, Loss: 4.5653\n",
            "Epoch: 30/39, Loss: 4.9989\n",
            "Epoch: 31/39, Loss: 5.4743\n",
            "Epoch: 32/39, Loss: 4.9990\n",
            "Epoch: 33/39, Loss: 5.9070\n",
            "Epoch: 34/39, Loss: 5.9310\n",
            "Epoch: 35/39, Loss: 4.7965\n",
            "Epoch: 36/39, Loss: 6.1616\n",
            "Epoch: 37/39, Loss: 4.3220\n",
            "Epoch: 38/39, Loss: 5.5905\n",
            "Epoch: 39/39, Loss: 5.2586\n",
            "Label 0: Best threshold = 0.5700000000000001, Best f1 = 0.6216216216216216\n",
            "Label 1: Best threshold = 0.96, Best f1 = 0.7094017094017094\n"
          ]
        },
        {
          "output_type": "stream",
          "name": "stderr",
          "text": [
            "[I 2025-08-02 23:13:38,017] Trial 1 finished with value: 0.6372228307712179 and parameters: {'hidden_dim': 138, 'lr': 2.100159404846155e-06, 'dropout': 0.147548249990445, 'batch_size': 78, 'epochs': 39}. Best is trial 0 with value: 0.7020717377860235.\n"
          ]
        },
        {
          "output_type": "stream",
          "name": "stdout",
          "text": [
            "Label 2: Best threshold = 0.0, Best f1 = 0.5806451612903226\n",
            "Epoch: 1/26, Loss: 4.6750\n",
            "Epoch: 2/26, Loss: 1.1435\n",
            "Epoch: 3/26, Loss: 1.3460\n",
            "Epoch: 4/26, Loss: 2.7020\n",
            "Epoch: 5/26, Loss: 1.9069\n",
            "Epoch: 6/26, Loss: 0.9667\n",
            "Epoch: 7/26, Loss: 1.7270\n",
            "Epoch: 8/26, Loss: 1.4017\n",
            "Epoch: 9/26, Loss: 2.0393\n",
            "Epoch: 10/26, Loss: 1.2974\n",
            "Epoch: 11/26, Loss: 1.6642\n",
            "Epoch: 12/26, Loss: 0.6828\n",
            "Epoch: 13/26, Loss: 1.1559\n",
            "Epoch: 14/26, Loss: 0.8684\n",
            "Epoch: 15/26, Loss: 0.7398\n",
            "Epoch: 16/26, Loss: 0.8383\n",
            "Epoch: 17/26, Loss: 0.9150\n",
            "Epoch: 18/26, Loss: 0.6928\n",
            "Epoch: 19/26, Loss: 0.6564\n",
            "Epoch: 20/26, Loss: 0.7998\n",
            "Epoch: 21/26, Loss: 0.7102\n",
            "Epoch: 22/26, Loss: 0.8106\n",
            "Epoch: 23/26, Loss: 0.7725\n",
            "Epoch: 24/26, Loss: 0.9069\n",
            "Epoch: 25/26, Loss: 0.6939\n",
            "Epoch: 26/26, Loss: 0.9168\n",
            "Label 0: Best threshold = 0.01, Best f1 = 0.5714285714285714\n",
            "Label 1: Best threshold = 0.79, Best f1 = 0.7488584474885844\n"
          ]
        },
        {
          "output_type": "stream",
          "name": "stderr",
          "text": [
            "[I 2025-08-02 23:13:44,741] Trial 2 finished with value: 0.6367623396390519 and parameters: {'hidden_dim': 75, 'lr': 0.0010773122793126559, 'dropout': 0.31427697170196506, 'batch_size': 146, 'epochs': 26}. Best is trial 0 with value: 0.7020717377860235.\n"
          ]
        },
        {
          "output_type": "stream",
          "name": "stdout",
          "text": [
            "Label 2: Best threshold = 0.64, Best f1 = 0.59\n",
            "Epoch: 1/13, Loss: 3.4322\n",
            "Epoch: 2/13, Loss: 2.4834\n",
            "Epoch: 3/13, Loss: 1.5355\n",
            "Epoch: 4/13, Loss: 1.1487\n",
            "Epoch: 5/13, Loss: 1.3208\n",
            "Epoch: 6/13, Loss: 1.3129\n",
            "Epoch: 7/13, Loss: 1.0254\n",
            "Epoch: 8/13, Loss: 0.8419\n",
            "Epoch: 9/13, Loss: 0.9450\n",
            "Epoch: 10/13, Loss: 1.0226\n",
            "Epoch: 11/13, Loss: 0.9012\n",
            "Epoch: 12/13, Loss: 0.7699\n",
            "Epoch: 13/13, Loss: 0.7623\n",
            "Label 0: Best threshold = 0.55, Best f1 = 0.6164383561643836\n",
            "Label 1: Best threshold = 0.39, Best f1 = 0.7953216374269005\n"
          ]
        },
        {
          "output_type": "stream",
          "name": "stderr",
          "text": [
            "[I 2025-08-02 23:13:57,158] Trial 3 finished with value: 0.6641350516272023 and parameters: {'hidden_dim': 221, 'lr': 0.00017610254585275376, 'dropout': 0.7307121444455174, 'batch_size': 97, 'epochs': 13}. Best is trial 0 with value: 0.7020717377860235.\n"
          ]
        },
        {
          "output_type": "stream",
          "name": "stdout",
          "text": [
            "Label 2: Best threshold = 0.0, Best f1 = 0.5806451612903226\n",
            "Epoch: 1/48, Loss: 6.2490\n",
            "Epoch: 2/48, Loss: 1.0732\n",
            "Epoch: 3/48, Loss: 5.2414\n",
            "Epoch: 4/48, Loss: 7.0125\n",
            "Epoch: 5/48, Loss: 1.4439\n",
            "Epoch: 6/48, Loss: 4.6887\n",
            "Epoch: 7/48, Loss: 4.0220\n",
            "Epoch: 8/48, Loss: 4.9696\n",
            "Epoch: 9/48, Loss: 3.1978\n",
            "Epoch: 10/48, Loss: 2.3421\n",
            "Epoch: 11/48, Loss: 3.8502\n",
            "Epoch: 12/48, Loss: 3.3207\n",
            "Epoch: 13/48, Loss: 2.5926\n",
            "Epoch: 14/48, Loss: 1.8724\n",
            "Epoch: 15/48, Loss: 1.9704\n",
            "Epoch: 16/48, Loss: 1.6935\n",
            "Epoch: 17/48, Loss: 1.5034\n",
            "Epoch: 18/48, Loss: 1.3247\n",
            "Epoch: 19/48, Loss: 0.8265\n",
            "Epoch: 20/48, Loss: 0.8918\n",
            "Epoch: 21/48, Loss: 1.1739\n",
            "Epoch: 22/48, Loss: 0.8508\n",
            "Epoch: 23/48, Loss: 0.9733\n",
            "Epoch: 24/48, Loss: 0.9222\n",
            "Epoch: 25/48, Loss: 0.9017\n",
            "Epoch: 26/48, Loss: 0.8442\n",
            "Epoch: 27/48, Loss: 0.6644\n",
            "Epoch: 28/48, Loss: 0.9894\n",
            "Epoch: 29/48, Loss: 0.9984\n",
            "Epoch: 30/48, Loss: 0.8433\n",
            "Epoch: 31/48, Loss: 0.7135\n",
            "Epoch: 32/48, Loss: 0.6897\n",
            "Epoch: 33/48, Loss: 0.7477\n",
            "Epoch: 34/48, Loss: 0.5607\n",
            "Epoch: 35/48, Loss: 0.7423\n",
            "Epoch: 36/48, Loss: 0.7197\n",
            "Epoch: 37/48, Loss: 0.8463\n",
            "Epoch: 38/48, Loss: 0.6880\n",
            "Epoch: 39/48, Loss: 0.6547\n",
            "Epoch: 40/48, Loss: 0.7030\n",
            "Epoch: 41/48, Loss: 0.8148\n",
            "Epoch: 42/48, Loss: 0.6513\n",
            "Epoch: 43/48, Loss: 0.5875\n",
            "Epoch: 44/48, Loss: 0.7147\n",
            "Epoch: 45/48, Loss: 0.8664\n",
            "Epoch: 46/48, Loss: 0.9321\n",
            "Epoch: 47/48, Loss: 0.7724\n",
            "Epoch: 48/48, Loss: 0.7171\n",
            "Label 0: Best threshold = 0.07, Best f1 = 0.5641025641025641\n",
            "Label 1: Best threshold = 0.64, Best f1 = 0.7955801104972375\n"
          ]
        },
        {
          "output_type": "stream",
          "name": "stderr",
          "text": [
            "[I 2025-08-02 23:14:19,838] Trial 4 finished with value: 0.6509947033355 and parameters: {'hidden_dim': 147, 'lr': 2.5835287898355017e-05, 'dropout': 0.06649940734190062, 'batch_size': 48, 'epochs': 48}. Best is trial 0 with value: 0.7020717377860235.\n"
          ]
        },
        {
          "output_type": "stream",
          "name": "stdout",
          "text": [
            "Label 2: Best threshold = 0.37, Best f1 = 0.5933014354066986\n",
            "Epoch: 1/13, Loss: 3.7199\n",
            "Epoch: 2/13, Loss: 3.0437\n",
            "Epoch: 3/13, Loss: 6.0164\n",
            "Epoch: 4/13, Loss: 1.5282\n",
            "Epoch: 5/13, Loss: 2.2261\n",
            "Epoch: 6/13, Loss: 1.1229\n",
            "Epoch: 7/13, Loss: 1.5996\n",
            "Epoch: 8/13, Loss: 0.7007\n",
            "Epoch: 9/13, Loss: 1.2523\n",
            "Epoch: 10/13, Loss: 0.4874\n",
            "Epoch: 11/13, Loss: 1.2506\n",
            "Epoch: 12/13, Loss: 0.6053\n",
            "Epoch: 13/13, Loss: 1.1197\n",
            "Label 0: Best threshold = 0.02, Best f1 = 0.5529411764705883\n",
            "Label 1: Best threshold = 0.43, Best f1 = 0.7672955974842768\n",
            "Label 2: Best threshold = 0.93, Best f1 = 0.6078431372549019\n"
          ]
        },
        {
          "output_type": "stream",
          "name": "stderr",
          "text": [
            "[I 2025-08-02 23:14:23,663] Trial 5 finished with value: 0.6426933037365891 and parameters: {'hidden_dim': 92, 'lr': 0.000560020686502613, 'dropout': 0.7108630764349376, 'batch_size': 74, 'epochs': 13}. Best is trial 0 with value: 0.7020717377860235.\n"
          ]
        },
        {
          "output_type": "stream",
          "name": "stdout",
          "text": [
            "Epoch: 1/49, Loss: 3.2883\n",
            "Epoch: 2/49, Loss: 1.7959\n",
            "Epoch: 3/49, Loss: 0.7033\n",
            "Epoch: 4/49, Loss: 1.0126\n",
            "Epoch: 5/49, Loss: 0.7584\n",
            "Epoch: 6/49, Loss: 0.7447\n",
            "Epoch: 7/49, Loss: 0.7846\n",
            "Epoch: 8/49, Loss: 0.7169\n",
            "Epoch: 9/49, Loss: 1.2003\n",
            "Epoch: 10/49, Loss: 0.7990\n",
            "Epoch: 11/49, Loss: 0.8777\n",
            "Epoch: 12/49, Loss: 0.8186\n",
            "Epoch: 13/49, Loss: 1.0524\n",
            "Epoch: 14/49, Loss: 0.7337\n",
            "Epoch: 15/49, Loss: 1.0736\n",
            "Epoch: 16/49, Loss: 0.9726\n",
            "Epoch: 17/49, Loss: 0.8123\n",
            "Epoch: 18/49, Loss: 0.6690\n",
            "Epoch: 19/49, Loss: 0.8790\n",
            "Epoch: 20/49, Loss: 0.9508\n",
            "Epoch: 21/49, Loss: 0.8498\n",
            "Epoch: 22/49, Loss: 0.6654\n",
            "Epoch: 23/49, Loss: 0.6330\n",
            "Epoch: 24/49, Loss: 0.7704\n",
            "Epoch: 25/49, Loss: 0.7122\n",
            "Epoch: 26/49, Loss: 0.9143\n",
            "Epoch: 27/49, Loss: 0.7115\n",
            "Epoch: 28/49, Loss: 0.5487\n",
            "Epoch: 29/49, Loss: 0.5538\n",
            "Epoch: 30/49, Loss: 0.6071\n",
            "Epoch: 31/49, Loss: 0.7246\n",
            "Epoch: 32/49, Loss: 0.7087\n",
            "Epoch: 33/49, Loss: 0.6872\n",
            "Epoch: 34/49, Loss: 0.5740\n",
            "Epoch: 35/49, Loss: 0.6200\n",
            "Epoch: 36/49, Loss: 0.5707\n",
            "Epoch: 37/49, Loss: 0.6515\n",
            "Epoch: 38/49, Loss: 0.9448\n",
            "Epoch: 39/49, Loss: 0.5514\n",
            "Epoch: 40/49, Loss: 0.7419\n",
            "Epoch: 41/49, Loss: 0.8492\n",
            "Epoch: 42/49, Loss: 0.6357\n",
            "Epoch: 43/49, Loss: 0.6018\n",
            "Epoch: 44/49, Loss: 0.7477\n",
            "Epoch: 45/49, Loss: 0.6189\n",
            "Epoch: 46/49, Loss: 0.6878\n",
            "Epoch: 47/49, Loss: 0.6688\n",
            "Epoch: 48/49, Loss: 0.7438\n",
            "Epoch: 49/49, Loss: 0.5211\n",
            "Label 0: Best threshold = 0.31, Best f1 = 0.609271523178808\n",
            "Label 1: Best threshold = 0.81, Best f1 = 0.8140703517587939\n"
          ]
        },
        {
          "output_type": "stream",
          "name": "stderr",
          "text": [
            "[I 2025-08-02 23:14:33,677] Trial 6 finished with value: 0.6679956787426415 and parameters: {'hidden_dim': 63, 'lr': 0.001705433922374078, 'dropout': 0.37310813503933327, 'batch_size': 20, 'epochs': 49}. Best is trial 0 with value: 0.7020717377860235.\n"
          ]
        },
        {
          "output_type": "stream",
          "name": "stdout",
          "text": [
            "Label 2: Best threshold = 0.0, Best f1 = 0.5806451612903226\n",
            "Epoch: 1/38, Loss: 1.7906\n",
            "Epoch: 2/38, Loss: 2.2298\n",
            "Epoch: 3/38, Loss: 1.3231\n",
            "Epoch: 4/38, Loss: 0.6419\n",
            "Epoch: 5/38, Loss: 0.5692\n",
            "Epoch: 6/38, Loss: 0.6954\n",
            "Epoch: 7/38, Loss: 0.6477\n",
            "Epoch: 8/38, Loss: 0.6766\n",
            "Epoch: 9/38, Loss: 0.5514\n",
            "Epoch: 10/38, Loss: 0.7170\n",
            "Epoch: 11/38, Loss: 0.7078\n",
            "Epoch: 12/38, Loss: 0.6591\n",
            "Epoch: 13/38, Loss: 0.6656\n",
            "Epoch: 14/38, Loss: 0.6661\n",
            "Epoch: 15/38, Loss: 0.6826\n",
            "Epoch: 16/38, Loss: 0.5897\n",
            "Epoch: 17/38, Loss: 0.6894\n",
            "Epoch: 18/38, Loss: 0.6023\n",
            "Epoch: 19/38, Loss: 0.5721\n",
            "Epoch: 20/38, Loss: 0.5744\n",
            "Epoch: 21/38, Loss: 0.5910\n",
            "Epoch: 22/38, Loss: 0.5881\n",
            "Epoch: 23/38, Loss: 0.6299\n",
            "Epoch: 24/38, Loss: 0.5560\n",
            "Epoch: 25/38, Loss: 0.6270\n",
            "Epoch: 26/38, Loss: 0.6046\n",
            "Epoch: 27/38, Loss: 0.5560\n",
            "Epoch: 28/38, Loss: 0.6074\n",
            "Epoch: 29/38, Loss: 0.6422\n",
            "Epoch: 30/38, Loss: 0.6260\n",
            "Epoch: 31/38, Loss: 0.6224\n",
            "Epoch: 32/38, Loss: 0.5963\n",
            "Epoch: 33/38, Loss: 0.6451\n",
            "Epoch: 34/38, Loss: 0.5830\n",
            "Epoch: 35/38, Loss: 0.5833\n",
            "Epoch: 36/38, Loss: 0.5826\n",
            "Epoch: 37/38, Loss: 0.6747\n",
            "Epoch: 38/38, Loss: 0.5351\n",
            "Label 0: Best threshold = 0.37, Best f1 = 0.6289308176100629\n",
            "Label 1: Best threshold = 0.47000000000000003, Best f1 = 0.774869109947644\n"
          ]
        },
        {
          "output_type": "stream",
          "name": "stderr",
          "text": [
            "[I 2025-08-02 23:14:44,714] Trial 7 finished with value: 0.6676112479942758 and parameters: {'hidden_dim': 95, 'lr': 0.006920736215438599, 'dropout': 0.424656219249937, 'batch_size': 27, 'epochs': 38}. Best is trial 0 with value: 0.7020717377860235.\n"
          ]
        },
        {
          "output_type": "stream",
          "name": "stdout",
          "text": [
            "Label 2: Best threshold = 0.19, Best f1 = 0.5990338164251208\n",
            "Epoch: 1/17, Loss: 3.5205\n",
            "Epoch: 2/17, Loss: 3.6210\n",
            "Epoch: 3/17, Loss: 3.1197\n",
            "Epoch: 4/17, Loss: 2.4948\n",
            "Epoch: 5/17, Loss: 1.4587\n",
            "Epoch: 6/17, Loss: 2.1757\n",
            "Epoch: 7/17, Loss: 1.7847\n",
            "Epoch: 8/17, Loss: 2.0307\n",
            "Epoch: 9/17, Loss: 1.8107\n",
            "Epoch: 10/17, Loss: 1.3093\n",
            "Epoch: 11/17, Loss: 1.4498\n",
            "Epoch: 12/17, Loss: 1.1892\n",
            "Epoch: 13/17, Loss: 0.9606\n",
            "Epoch: 14/17, Loss: 0.9938\n",
            "Epoch: 15/17, Loss: 0.7841\n",
            "Epoch: 16/17, Loss: 0.8143\n",
            "Epoch: 17/17, Loss: 0.8487\n",
            "Label 0: Best threshold = 0.01, Best f1 = 0.5656565656565656\n"
          ]
        },
        {
          "output_type": "stream",
          "name": "stderr",
          "text": [
            "[I 2025-08-02 23:14:51,222] Trial 8 finished with value: 0.6276231927484576 and parameters: {'hidden_dim': 126, 'lr': 7.88037497703192e-05, 'dropout': 0.23547664577246197, 'batch_size': 64, 'epochs': 17}. Best is trial 0 with value: 0.7020717377860235.\n"
          ]
        },
        {
          "output_type": "stream",
          "name": "stdout",
          "text": [
            "Label 1: Best threshold = 0.19, Best f1 = 0.7256637168141593\n",
            "Label 2: Best threshold = 0.5700000000000001, Best f1 = 0.5915492957746479\n",
            "Epoch: 1/8, Loss: 17.0155\n",
            "Epoch: 2/8, Loss: 17.0348\n",
            "Epoch: 3/8, Loss: 17.0737\n",
            "Epoch: 4/8, Loss: 17.0479\n",
            "Epoch: 5/8, Loss: 17.0878\n",
            "Epoch: 6/8, Loss: 16.8410\n",
            "Epoch: 7/8, Loss: 16.9052\n",
            "Epoch: 8/8, Loss: 16.9170\n",
            "Label 0: Best threshold = 0.0, Best f1 = 0.5402843601895735\n",
            "Label 1: Best threshold = 0.98, Best f1 = 0.7124463519313304\n"
          ]
        },
        {
          "output_type": "stream",
          "name": "stderr",
          "text": [
            "[I 2025-08-02 23:14:52,724] Trial 9 finished with value: 0.4175769040403013 and parameters: {'hidden_dim': 33, 'lr': 1.9771588517300903e-05, 'dropout': 0.6655186250419938, 'batch_size': 201, 'epochs': 8}. Best is trial 0 with value: 0.7020717377860235.\n"
          ]
        },
        {
          "output_type": "stream",
          "name": "stdout",
          "text": [
            "Label 2: Best threshold = 1.0, Best f1 = 0.5990338164251208\n",
            "Best Params: {'hidden_dim': 179, 'lr': 0.001658354080549806, 'dropout': 0.16128755084293964, 'batch_size': 193, 'epochs': 50}\n",
            "Best Score: 0.7020717377860235\n",
            "Epoch: 1/50, Loss: 5.4307\n",
            "Epoch: 2/50, Loss: 1.7660\n",
            "Epoch: 3/50, Loss: 3.1303\n",
            "Epoch: 4/50, Loss: 1.8004\n",
            "Epoch: 5/50, Loss: 1.1865\n",
            "Epoch: 6/50, Loss: 1.9967\n",
            "Epoch: 7/50, Loss: 1.8551\n",
            "Epoch: 8/50, Loss: 1.5987\n",
            "Epoch: 9/50, Loss: 1.3561\n",
            "Epoch: 10/50, Loss: 0.9904\n",
            "Epoch: 11/50, Loss: 1.0189\n",
            "Epoch: 12/50, Loss: 1.3618\n",
            "Epoch: 13/50, Loss: 1.1689\n",
            "Epoch: 14/50, Loss: 0.7590\n",
            "Epoch: 15/50, Loss: 0.9089\n",
            "Epoch: 16/50, Loss: 0.9982\n",
            "Epoch: 17/50, Loss: 0.9546\n",
            "Epoch: 18/50, Loss: 0.9635\n",
            "Epoch: 19/50, Loss: 0.7983\n",
            "Epoch: 20/50, Loss: 0.6581\n",
            "Epoch: 21/50, Loss: 0.8338\n",
            "Epoch: 22/50, Loss: 0.8953\n",
            "Epoch: 23/50, Loss: 0.6974\n",
            "Epoch: 24/50, Loss: 0.6818\n",
            "Epoch: 25/50, Loss: 0.7909\n",
            "Epoch: 26/50, Loss: 0.7922\n",
            "Epoch: 27/50, Loss: 0.7266\n",
            "Epoch: 28/50, Loss: 0.6628\n",
            "Epoch: 29/50, Loss: 0.6539\n",
            "Epoch: 30/50, Loss: 0.7131\n",
            "Epoch: 31/50, Loss: 0.6873\n",
            "Epoch: 32/50, Loss: 0.6283\n",
            "Epoch: 33/50, Loss: 0.6509\n",
            "Epoch: 34/50, Loss: 0.6792\n",
            "Epoch: 35/50, Loss: 0.6702\n",
            "Epoch: 36/50, Loss: 0.6171\n",
            "Epoch: 37/50, Loss: 0.6170\n",
            "Epoch: 38/50, Loss: 0.6499\n",
            "Epoch: 39/50, Loss: 0.6333\n",
            "Epoch: 40/50, Loss: 0.6164\n",
            "Epoch: 41/50, Loss: 0.6224\n",
            "Epoch: 42/50, Loss: 0.6301\n",
            "Epoch: 43/50, Loss: 0.6236\n",
            "Epoch: 44/50, Loss: 0.6112\n",
            "Epoch: 45/50, Loss: 0.6177\n",
            "Epoch: 46/50, Loss: 0.6197\n",
            "Epoch: 47/50, Loss: 0.6008\n",
            "Epoch: 48/50, Loss: 0.5955\n",
            "Epoch: 49/50, Loss: 0.6104\n",
            "Epoch: 50/50, Loss: 0.6041\n",
            "Label 0: Best threshold = 0.24, Best f1 = 0.6091954022988506\n",
            "Label 1: Best threshold = 0.35000000000000003, Best f1 = 0.7885714285714286\n",
            "Label 2: Best threshold = 0.39, Best f1 = 0.6138613861386139\n",
            "Model saved to cfg_model.pth\n",
            "Best parameters saved to cfg_best_params.json\n"
          ]
        }
      ],
      "source": [
        "import torch\n",
        "from torch_geometric.loader import DataLoader\n",
        "\n",
        "model, thresholds = get_trained_gcn_model(mode='cfg', save_path='.', n_trials=10)"
      ]
    },
    {
      "cell_type": "code",
      "execution_count": 45,
      "id": "91ayQWtzRgdr",
      "metadata": {
        "colab": {
          "base_uri": "https://localhost:8080/",
          "height": 601
        },
        "id": "91ayQWtzRgdr",
        "outputId": "d132305e-6abf-4515-c87f-60e1bef9c8be"
      },
      "outputs": [
        {
          "output_type": "stream",
          "name": "stdout",
          "text": [
            "              precision    recall  f1-score   support\n",
            "\n",
            "        Mint       0.45      0.93      0.61        57\n",
            "        Leak       0.75      0.83      0.79        83\n",
            "       Limit       0.45      0.98      0.61        63\n",
            "\n",
            "   micro avg       0.53      0.91      0.67       203\n",
            "   macro avg       0.55      0.92      0.67       203\n",
            "weighted avg       0.57      0.91      0.68       203\n",
            " samples avg       0.49      0.70      0.54       203\n",
            "\n"
          ]
        },
        {
          "output_type": "display_data",
          "data": {
            "text/plain": [
              "<Figure size 1500x400 with 3 Axes>"
            ],
            "image/png": "[encoded data removed]"
          },
          "metadata": {}
        }
      ],
      "source": [
        "dataset = load_data(mode='cfg')[0]\n",
        "loader = DataLoader(dataset, batch_size=128, shuffle=True)\n",
        "y_true, y_pred, _ = val_model(model, loader, thresholds)\n",
        "\n",
        "plot_confusion_matrix(y_true, y_pred, label_cols)"
      ]
    },
    {
      "cell_type": "code",
      "execution_count": 46,
      "id": "W7GUJISjRgdr",
      "metadata": {
        "colab": {
          "base_uri": "https://localhost:8080/",
          "height": 601
        },
        "id": "W7GUJISjRgdr",
        "outputId": "573005c7-157f-4788-d0d0-9a6812baf40c"
      },
      "outputs": [
        {
          "output_type": "stream",
          "name": "stdout",
          "text": [
            "              precision    recall  f1-score   support\n",
            "\n",
            "        Mint       0.45      0.93      0.61        57\n",
            "        Leak       0.75      0.83      0.79        83\n",
            "       Limit       0.45      0.98      0.61        63\n",
            "\n",
            "   micro avg       0.53      0.91      0.67       203\n",
            "   macro avg       0.55      0.92      0.67       203\n",
            "weighted avg       0.57      0.91      0.68       203\n",
            " samples avg       0.49      0.70      0.54       203\n",
            "\n"
          ]
        },
        {
          "output_type": "display_data",
          "data": {
            "text/plain": [
              "<Figure size 1500x400 with 3 Axes>"
            ],
            "image/png": "[encoded data removed]"
          },
          "metadata": {}
        }
      ],
      "source": [
        "import torch\n",
        "import json\n",
        "\n",
        "# Load best parameters\n",
        "with open(\"cfg_best_params.json\", \"r\") as f:\n",
        "    best_params = json.load(f)\n",
        "\n",
        "# Get input and output channels (assuming they are consistent with training)\n",
        "dataset_info, in_channels, label_cols = load_data(mode='txn')\n",
        "out_channels = len(label_cols)\n",
        "\n",
        "# Initialize the model with the loaded parameters\n",
        "loaded_model = GCN(in_channels=in_channels, hidden=best_params['hidden_dim'], out_channels=out_channels, dropout=best_params['dropout'])\n",
        "\n",
        "# Load the state dictionary\n",
        "loaded_model.load_state_dict(torch.load(\"cfg_model.pth\"))\n",
        "\n",
        "thresholds = best_params['thresholds']\n",
        "# Assuming 'loader' and 'thresholds' are already defined from previous cells\n",
        "y_true, y_pred, _ = val_model(loaded_model, loader, thresholds)\n",
        "\n",
        "plot_confusion_matrix(y_true, y_pred, label_cols)"
      ]
    },
    {
      "cell_type": "code",
      "execution_count": 46,
      "id": "ViZZRUxg3ApY",
      "metadata": {
        "id": "ViZZRUxg3ApY"
      },
      "outputs": [],
      "source": []
    }
  ],
  "metadata": {
    "colab": {
      "provenance": []
    },
    "kernelspec": {
      "display_name": "Python 3",
      "name": "python3"
    },
    "language_info": {
      "name": "python"
    }
  },
  "nbformat": 4,
  "nbformat_minor": 5
}