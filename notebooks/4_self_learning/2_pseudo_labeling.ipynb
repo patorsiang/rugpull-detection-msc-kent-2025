{
 "cells": [
  {
   "cell_type": "markdown",
   "id": "30c44dd5",
   "metadata": {},
   "source": [
    "# Pseudo Labeling"
   ]
  },
  {
   "cell_type": "markdown",
   "id": "70dfdba4",
   "metadata": {},
   "source": [
    "## fusion model"
   ]
  },
  {
   "cell_type": "code",
   "execution_count": 54,
   "id": "2694a657",
   "metadata": {},
   "outputs": [],
   "source": [
    "import warnings\n",
    "warnings.filterwarnings(\"ignore\")"
   ]
  },
  {
   "cell_type": "code",
   "execution_count": 55,
   "id": "976983af",
   "metadata": {},
   "outputs": [],
   "source": [
    "import os\n",
    "import pandas as pd\n",
    "import numpy as np\n",
    "from pathlib import Path\n",
    "from tqdm import tqdm\n",
    "import shutil\n",
    "from sklearn.metrics import classification_report, confusion_matrix, ConfusionMatrixDisplay\n",
    "\n",
    "PATH = Path.cwd().parents[1]\n",
    "\n",
    "import sys\n",
    "sys.path.append(str(PATH))\n",
    "\n",
    "from backend.utils.models.fusion_data import grouping_data, predict_by_model_fusion\n",
    "from backend.utils.comparing import plot_confusion_matrix\n",
    "MODEL_PATH = os.path.join(PATH, 'backend/models')\n",
    "DATA_PATH = os.path.join(PATH, 'data')\n",
    "LABELED_PATH = os.path.join(DATA_PATH, 'labeled')\n",
    "UNLABELED_PATH = os.path.join(DATA_PATH, 'unlabeled')\n",
    "round_num = 2"
   ]
  },
  {
   "cell_type": "markdown",
   "id": "27c519d8",
   "metadata": {},
   "source": [
    "## Test With Groundtruth"
   ]
  },
  {
   "cell_type": "code",
   "execution_count": 56,
   "id": "6c3ef727",
   "metadata": {},
   "outputs": [
    {
     "name": "stderr",
     "output_type": "stream",
     "text": [
      "invalid instruction: PUSH30\n",
      "invalid instruction: PUSH16\n",
      "invalid instruction: PUSH30\n",
      "invalid instruction: PUSH20\n",
      "invalid instruction: PUSH18\n",
      "invalid instruction: PUSH28\n",
      "invalid instruction: PUSH32\n",
      "invalid instruction: PUSH31\n",
      "invalid instruction: PUSH30\n",
      "invalid instruction: PUSH27\n",
      "invalid instruction: PUSH27\n",
      "invalid instruction: PUSH27\n",
      "invalid instruction: PUSH31\n",
      "invalid instruction: PUSH25\n",
      "invalid instruction: PUSH14\n",
      "invalid instruction: PUSH32\n",
      "invalid instruction: PUSH30\n",
      "invalid instruction: PUSH25\n",
      "invalid instruction: PUSH30\n",
      "invalid instruction: PUSH15\n",
      "invalid instruction: PUSH22\n",
      "invalid instruction: PUSH20\n",
      "invalid instruction: PUSH24\n",
      "invalid instruction: PUSH30\n",
      "invalid instruction: PUSH26\n",
      "invalid instruction: PUSH16\n",
      "invalid instruction: PUSH23\n",
      "invalid instruction: PUSH8\n",
      "invalid instruction: PUSH17\n",
      "invalid instruction: PUSH14\n",
      "invalid instruction: PUSH15\n",
      "invalid instruction: PUSH5\n",
      "invalid instruction: PUSH7\n",
      "invalid instruction: PUSH10\n",
      "invalid instruction: PUSH27\n",
      "invalid instruction: PUSH17\n",
      "invalid instruction: PUSH28\n",
      "invalid instruction: PUSH18\n",
      "invalid instruction: PUSH23\n",
      "invalid instruction: PUSH19\n",
      "invalid instruction: PUSH24\n",
      "invalid instruction: PUSH17\n",
      "invalid instruction: PUSH23\n",
      "invalid instruction: PUSH19\n",
      "invalid instruction: PUSH25\n",
      "invalid instruction: PUSH13\n",
      "invalid instruction: PUSH27\n",
      "invalid instruction: PUSH32\n",
      "invalid instruction: PUSH25\n",
      "invalid instruction: PUSH29\n",
      "invalid instruction: PUSH28\n",
      "invalid instruction: PUSH19\n",
      "invalid instruction: PUSH29\n",
      "invalid instruction: PUSH22\n",
      "invalid instruction: PUSH23\n",
      "invalid instruction: PUSH28\n",
      "invalid instruction: PUSH31\n",
      "invalid instruction: PUSH29\n",
      "invalid instruction: PUSH26\n",
      "invalid instruction: PUSH26\n",
      "invalid instruction: PUSH26\n",
      "invalid instruction: PUSH29\n",
      "invalid instruction: PUSH25\n",
      "invalid instruction: PUSH25\n",
      "invalid instruction: PUSH18\n",
      "invalid instruction: PUSH20\n",
      "invalid instruction: PUSH28\n",
      "invalid instruction: PUSH29\n",
      "invalid instruction: PUSH27\n",
      "invalid instruction: PUSH27\n",
      "invalid instruction: PUSH14\n",
      "invalid instruction: PUSH31\n",
      "invalid instruction: PUSH26\n",
      "invalid instruction: PUSH20\n",
      "invalid instruction: PUSH10\n",
      "invalid instruction: PUSH23\n",
      "invalid instruction: PUSH16\n",
      "invalid instruction: PUSH26\n",
      "invalid instruction: PUSH26\n",
      "invalid instruction: PUSH13\n",
      "invalid instruction: PUSH23\n",
      "invalid instruction: PUSH19\n",
      "invalid instruction: PUSH25\n",
      "invalid instruction: PUSH21\n",
      "invalid instruction: PUSH30\n",
      "invalid instruction: PUSH16\n",
      "invalid instruction: PUSH32\n",
      "invalid instruction: PUSH28\n",
      "invalid instruction: PUSH29\n",
      "invalid instruction: PUSH30\n",
      "invalid instruction: PUSH27\n",
      "invalid instruction: PUSH29\n",
      "invalid instruction: PUSH27\n",
      "invalid instruction: PUSH10\n",
      "invalid instruction: PUSH30\n",
      "invalid instruction: PUSH27\n",
      "invalid instruction: PUSH23\n",
      "invalid instruction: PUSH28\n",
      "invalid instruction: PUSH15\n",
      "invalid instruction: PUSH19\n",
      "invalid instruction: PUSH29\n",
      "invalid instruction: PUSH26\n",
      "invalid instruction: PUSH20\n",
      "invalid instruction: PUSH17\n",
      "invalid instruction: PUSH16\n",
      "invalid instruction: PUSH20\n",
      "invalid instruction: PUSH13\n",
      "invalid instruction: PUSH13\n",
      "invalid instruction: PUSH13\n",
      "invalid instruction: PUSH24\n",
      "invalid instruction: PUSH27\n",
      "invalid instruction: PUSH32\n",
      "invalid instruction: PUSH29\n",
      "Extracting timeline features:   5%|▍         | 12/246 [00:00<00:02, 81.56it/s]"
     ]
    },
    {
     "name": "stdout",
     "output_type": "stream",
     "text": [
      "Skipping 0x6ce8b8eed077f9b49c1fa684008ebb7562bb41ad: invalid literal for int() with base 10: ''\n"
     ]
    },
    {
     "name": "stderr",
     "output_type": "stream",
     "text": [
      "Extracting timeline features:  15%|█▍        | 36/246 [00:00<00:01, 110.82it/s]"
     ]
    },
    {
     "name": "stdout",
     "output_type": "stream",
     "text": [
      "Skipping 0x740e6b6f0a0165e8bb3d1cdf94862bdffbded22e: invalid literal for int() with base 10: ''\n"
     ]
    },
    {
     "name": "stderr",
     "output_type": "stream",
     "text": [
      "Extracting timeline features:  23%|██▎       | 57/246 [00:00<00:03, 53.68it/s] "
     ]
    },
    {
     "name": "stdout",
     "output_type": "stream",
     "text": [
      "Skipping 0x36b14bae0989f65f80892b99a55378d3e1a80c81: invalid literal for int() with base 10: ''\n",
      "Skipping 0x7fc408011165760ee31be2bf20daf450356692af: invalid literal for int() with base 10: ''\n",
      "Skipping 0xdd007278b667f6bef52fd0a4c23604aa1f96039a: invalid literal for int() with base 10: ''\n"
     ]
    },
    {
     "name": "stderr",
     "output_type": "stream",
     "text": [
      "Extracting timeline features:  41%|████▏     | 102/246 [00:01<00:02, 64.07it/s]"
     ]
    },
    {
     "name": "stdout",
     "output_type": "stream",
     "text": [
      "Skipping 0x4e7a34c6c29a4741858a7ec5622cd8be21b0351b: invalid literal for int() with base 10: ''\n"
     ]
    },
    {
     "name": "stderr",
     "output_type": "stream",
     "text": [
      "Extracting timeline features:  52%|█████▏    | 127/246 [00:02<00:01, 80.77it/s]"
     ]
    },
    {
     "name": "stdout",
     "output_type": "stream",
     "text": [
      "Skipping 0xc310755f88145cabcaa06c714cd668b5465dceaa: invalid literal for int() with base 10: ''\n"
     ]
    },
    {
     "name": "stderr",
     "output_type": "stream",
     "text": [
      "Extracting timeline features:  67%|██████▋   | 166/246 [00:02<00:01, 70.48it/s]"
     ]
    },
    {
     "name": "stdout",
     "output_type": "stream",
     "text": [
      "Skipping 0xff1560afef58be59b11c72734ad1d89db63e4e71: invalid literal for int() with base 10: ''\n"
     ]
    },
    {
     "name": "stderr",
     "output_type": "stream",
     "text": [
      "Extracting timeline features:  76%|███████▌  | 186/246 [00:02<00:00, 96.13it/s]"
     ]
    },
    {
     "name": "stdout",
     "output_type": "stream",
     "text": [
      "Skipping 0xf1afddbed214dba82cb98d46ad0a96e643f7f6f6: invalid literal for int() with base 10: ''\n"
     ]
    },
    {
     "name": "stderr",
     "output_type": "stream",
     "text": [
      "Extracting timeline features:  88%|████████▊ | 217/246 [00:03<00:00, 74.47it/s]"
     ]
    },
    {
     "name": "stdout",
     "output_type": "stream",
     "text": [
      "Skipping 0xb9aac097f4dadcd6f06761eb470346415ef28d5a: invalid literal for int() with base 10: ''\n",
      "Skipping 0x56ba2ee7890461f463f7be02aac3099f6d5811a8: invalid literal for int() with base 10: ''\n",
      "Skipping 0x2f22c502a8029d5e64aeafb6e0a214c0323f43c7: invalid literal for int() with base 10: ''\n",
      "Skipping 0x76bc9e61a1904b82cbf70d1fd9c0f8a120483bbb: invalid literal for int() with base 10: ''\n"
     ]
    },
    {
     "name": "stderr",
     "output_type": "stream",
     "text": [
      "Extracting timeline features:  98%|█████████▊| 242/246 [00:03<00:00, 65.92it/s]"
     ]
    },
    {
     "name": "stdout",
     "output_type": "stream",
     "text": [
      "Skipping 0x514bc174df04a4b04ae2be81ee8c788c3796b06b: invalid literal for int() with base 10: ''\n"
     ]
    },
    {
     "name": "stderr",
     "output_type": "stream",
     "text": [
      "Extracting timeline features: 100%|██████████| 246/246 [00:03<00:00, 63.39it/s]\n"
     ]
    }
   ],
   "source": [
    "feature, ground_df, label_cols = grouping_data(LABELED_PATH, MODEL_PATH, 'groundtruth.csv')"
   ]
  },
  {
   "cell_type": "code",
   "execution_count": 57,
   "id": "d809b64f",
   "metadata": {},
   "outputs": [
    {
     "data": {
      "text/plain": [
       "('0x93023f1d3525e273f291b6f76d2f5027a39bf302',\n",
       " {'byte': opcode_entropy                    0.0\n",
       "  byte_entropy                      0.0\n",
       "  byte_0x                           1.0\n",
       "  byte_60                           0.0\n",
       "  byte_80                           0.0\n",
       "                                   ... \n",
       "  returndatasize push1 return       0.0\n",
       "  iszero eq push2                   0.0\n",
       "  returndatacopy dup1               0.0\n",
       "  dup1 returndatacopy dup1          0.0\n",
       "  return jumpdest returndatasize    0.0\n",
       "  Name: 0x93023f1d3525e273f291b6f76d2f5027a39bf302, Length: 9548, dtype: float64,\n",
       "  'txn': txn_nums              0.0\n",
       "  event_nums            0.0\n",
       "  creation_block        0.0\n",
       "  creation_timestamp    0.0\n",
       "  start_block           0.0\n",
       "                       ... \n",
       "  slashstake_num        0.0\n",
       "  banauditor_num        0.0\n",
       "  owner_num             0.0\n",
       "  setdth_num            0.0\n",
       "  init_num              0.0\n",
       "  Name: 0x93023f1d3525e273f291b6f76d2f5027a39bf302, Length: 370, dtype: float64,\n",
       "  'code': solidity    0.0\n",
       "  0           0.0\n",
       "  4           0.0\n",
       "  contract    0.0\n",
       "  address     0.0\n",
       "             ... \n",
       "  bytes32     0.0\n",
       "  i           0.0\n",
       "  length      0.0\n",
       "  _amount     0.0\n",
       "  n           0.0\n",
       "  Name: 0x93023f1d3525e273f291b6f76d2f5027a39bf302, Length: 109, dtype: float64,\n",
       "  'txn_graph': None,\n",
       "  'cfg_graph': None,\n",
       "  'gru': array([[0., 0., 0., ..., 0., 0., 0.],\n",
       "         [0., 0., 0., ..., 0., 0., 0.],\n",
       "         [0., 0., 0., ..., 0., 0., 0.],\n",
       "         ...,\n",
       "         [0., 0., 0., ..., 0., 0., 0.],\n",
       "         [0., 0., 0., ..., 0., 0., 0.],\n",
       "         [0., 0., 0., ..., 0., 0., 0.]]),\n",
       "  'label': [1, 0, 1]})"
      ]
     },
     "execution_count": 57,
     "metadata": {},
     "output_type": "execute_result"
    }
   ],
   "source": [
    "list(feature.items())[0]"
   ]
  },
  {
   "cell_type": "code",
   "execution_count": 58,
   "id": "601f0038",
   "metadata": {},
   "outputs": [
    {
     "name": "stdout",
     "output_type": "stream",
     "text": [
      "              precision    recall  f1-score   support\n",
      "\n",
      "        Mint       0.98      1.00      0.99        47\n",
      "        Leak       1.00      0.99      0.99        83\n",
      "       Limit       1.00      1.00      1.00        55\n",
      "\n",
      "   micro avg       0.99      0.99      0.99       185\n",
      "   macro avg       0.99      1.00      0.99       185\n",
      "weighted avg       0.99      0.99      0.99       185\n",
      " samples avg       0.75      0.75      0.75       185\n",
      "\n"
     ]
    },
    {
     "data": {
      "image/png": "[encoded data removed]",
      "text/plain": [
       "<Figure size 1500x400 with 3 Axes>"
      ]
     },
     "metadata": {},
     "output_type": "display_data"
    }
   ],
   "source": [
    "preds_df = predict_by_model_fusion(MODEL_PATH, feature, label_cols)\n",
    "preds_df = preds_df.rename(columns={col: f'pred_{col}' for col in label_cols})\n",
    "merged_df = pd.merge(preds_df.reset_index(), ground_df.reset_index(), on='Address', how='inner')\n",
    "plot_confusion_matrix(merged_df[label_cols], merged_df[[f'pred_{col}' for col in label_cols]], label_cols)"
   ]
  },
  {
   "cell_type": "code",
   "execution_count": 6,
   "id": "348849c8",
   "metadata": {},
   "outputs": [
    {
     "name": "stdout",
     "output_type": "stream",
     "text": [
      "============== Threshold: 0.5 ==============\n",
      "              precision    recall  f1-score   support\n",
      "\n",
      "        Mint       0.95      1.00      0.98        20\n",
      "        Leak       0.82      1.00      0.90         9\n",
      "       Limit       1.00      1.00      1.00        30\n",
      "\n",
      "   micro avg       0.95      1.00      0.98        59\n",
      "   macro avg       0.92      1.00      0.96        59\n",
      "weighted avg       0.96      1.00      0.98        59\n",
      " samples avg       0.59      0.61      0.60        59\n",
      "\n"
     ]
    },
    {
     "data": {
      "image/png": "[encoded data removed]",
      "text/plain": [
       "<Figure size 1500x400 with 3 Axes>"
      ]
     },
     "metadata": {},
     "output_type": "display_data"
    },
    {
     "name": "stdout",
     "output_type": "stream",
     "text": [
      "============== Threshold: 0.6 ==============\n",
      "              precision    recall  f1-score   support\n",
      "\n",
      "        Mint       0.95      1.00      0.98        20\n",
      "        Leak       1.00      1.00      1.00         9\n",
      "       Limit       1.00      1.00      1.00        30\n",
      "\n",
      "   micro avg       0.98      1.00      0.99        59\n",
      "   macro avg       0.98      1.00      0.99        59\n",
      "weighted avg       0.98      1.00      0.99        59\n",
      " samples avg       0.60      0.61      0.60        59\n",
      "\n"
     ]
    },
    {
     "data": {
      "image/png": "[encoded data removed]",
      "text/plain": [
       "<Figure size 1500x400 with 3 Axes>"
      ]
     },
     "metadata": {},
     "output_type": "display_data"
    },
    {
     "name": "stdout",
     "output_type": "stream",
     "text": [
      "============== Threshold: 0.7 ==============\n",
      "              precision    recall  f1-score   support\n",
      "\n",
      "        Mint       0.95      0.95      0.95        20\n",
      "        Leak       1.00      1.00      1.00         9\n",
      "       Limit       1.00      1.00      1.00        30\n",
      "\n",
      "   micro avg       0.98      0.98      0.98        59\n",
      "   macro avg       0.98      0.98      0.98        59\n",
      "weighted avg       0.98      0.98      0.98        59\n",
      " samples avg       0.59      0.59      0.59        59\n",
      "\n"
     ]
    },
    {
     "data": {
      "image/png": "[encoded data removed]",
      "text/plain": [
       "<Figure size 1500x400 with 3 Axes>"
      ]
     },
     "metadata": {},
     "output_type": "display_data"
    },
    {
     "name": "stdout",
     "output_type": "stream",
     "text": [
      "============== Threshold: 0.7999999999999999 ==============\n",
      "              precision    recall  f1-score   support\n",
      "\n",
      "        Mint       1.00      0.90      0.95        20\n",
      "        Leak       1.00      1.00      1.00         9\n",
      "       Limit       1.00      0.93      0.97        30\n",
      "\n",
      "   micro avg       1.00      0.93      0.96        59\n",
      "   macro avg       1.00      0.94      0.97        59\n",
      "weighted avg       1.00      0.93      0.96        59\n",
      " samples avg       0.58      0.57      0.57        59\n",
      "\n"
     ]
    },
    {
     "data": {
      "image/png": "[encoded data removed]",
      "text/plain": [
       "<Figure size 1500x400 with 3 Axes>"
      ]
     },
     "metadata": {},
     "output_type": "display_data"
    },
    {
     "name": "stdout",
     "output_type": "stream",
     "text": [
      "============== Threshold: 0.8999999999999999 ==============\n",
      "              precision    recall  f1-score   support\n",
      "\n",
      "        Mint       1.00      0.30      0.46        20\n",
      "        Leak       1.00      0.78      0.88         9\n",
      "       Limit       1.00      0.30      0.46        30\n",
      "\n",
      "   micro avg       1.00      0.37      0.54        59\n",
      "   macro avg       1.00      0.46      0.60        59\n",
      "weighted avg       1.00      0.37      0.52        59\n",
      " samples avg       0.25      0.21      0.22        59\n",
      "\n"
     ]
    },
    {
     "data": {
      "image/png": "[encoded data removed]",
      "text/plain": [
       "<Figure size 1500x400 with 3 Axes>"
      ]
     },
     "metadata": {},
     "output_type": "display_data"
    }
   ],
   "source": [
    "for threshold in np.arange(0.5, 1, 0.1):\n",
    "    print(f\"============== Threshold: {threshold} ==============\")\n",
    "    preds_df = predict_by_model_fusion(MODEL_PATH, feature, label_cols, threshold)\n",
    "    preds_df = preds_df.rename(columns={col: f'pred_{col}' for col in label_cols})\n",
    "    merged_df = pd.merge(preds_df.reset_index(), ground_df.reset_index(), on='Address', how='inner')\n",
    "    plot_confusion_matrix(merged_df[label_cols], merged_df[[f'pred_{col}' for col in label_cols]], label_cols)\n"
   ]
  },
  {
   "cell_type": "markdown",
   "id": "7900ab46",
   "metadata": {},
   "source": [
    "## Test With Unlabelled"
   ]
  },
  {
   "cell_type": "code",
   "execution_count": 74,
   "id": "c5608823",
   "metadata": {},
   "outputs": [
    {
     "name": "stderr",
     "output_type": "stream",
     "text": [
      "invalid instruction: PUSH18\n",
      "invalid instruction: PUSH32\n",
      "invalid instruction: PUSH31\n",
      "invalid instruction: PUSH27\n",
      "invalid instruction: PUSH27\n",
      "invalid instruction: PUSH27\n",
      "invalid instruction: PUSH25\n",
      "invalid instruction: PUSH32\n",
      "invalid instruction: PUSH15\n",
      "invalid instruction: PUSH22\n",
      "invalid instruction: PUSH7\n",
      "invalid instruction: PUSH27\n",
      "invalid instruction: PUSH17\n",
      "invalid instruction: PUSH28\n",
      "invalid instruction: PUSH18\n",
      "invalid instruction: PUSH19\n",
      "invalid instruction: PUSH24\n",
      "invalid instruction: PUSH23\n",
      "invalid instruction: PUSH25\n",
      "invalid instruction: PUSH27\n",
      "invalid instruction: PUSH28\n",
      "invalid instruction: PUSH19\n",
      "invalid instruction: PUSH29\n",
      "invalid instruction: PUSH22\n",
      "invalid instruction: PUSH23\n",
      "invalid instruction: PUSH29\n",
      "invalid instruction: PUSH26\n",
      "invalid instruction: PUSH26\n",
      "invalid instruction: PUSH29\n",
      "invalid instruction: PUSH25\n",
      "invalid instruction: PUSH20\n",
      "invalid instruction: PUSH26\n",
      "invalid instruction: PUSH26\n",
      "invalid instruction: PUSH26\n",
      "invalid instruction: PUSH23\n",
      "invalid instruction: PUSH32\n",
      "invalid instruction: PUSH29\n",
      "invalid instruction: PUSH29\n",
      "invalid instruction: PUSH27\n",
      "invalid instruction: PUSH30\n",
      "invalid instruction: PUSH27\n",
      "invalid instruction: PUSH23\n",
      "invalid instruction: PUSH28\n",
      "Extracting timeline features:  39%|███▉      | 36/92 [00:00<00:00, 158.98it/s]"
     ]
    },
    {
     "name": "stdout",
     "output_type": "stream",
     "text": [
      "Skipping 0x740e6b6f0a0165e8bb3d1cdf94862bdffbded22e: invalid literal for int() with base 10: ''\n",
      "Skipping 0x7fc408011165760ee31be2bf20daf450356692af: invalid literal for int() with base 10: ''\n"
     ]
    },
    {
     "name": "stderr",
     "output_type": "stream",
     "text": [
      "Extracting timeline features:  89%|████████▉ | 82/92 [00:00<00:00, 96.34it/s] "
     ]
    },
    {
     "name": "stdout",
     "output_type": "stream",
     "text": [
      "Skipping 0x56ba2ee7890461f463f7be02aac3099f6d5811a8: invalid literal for int() with base 10: ''\n",
      "Skipping 0x2f22c502a8029d5e64aeafb6e0a214c0323f43c7: invalid literal for int() with base 10: ''\n",
      "Skipping 0x514bc174df04a4b04ae2be81ee8c788c3796b06b: invalid literal for int() with base 10: ''\n"
     ]
    },
    {
     "name": "stderr",
     "output_type": "stream",
     "text": [
      "Extracting timeline features: 100%|██████████| 92/92 [00:00<00:00, 97.65it/s]\n"
     ]
    }
   ],
   "source": [
    "feature, ground_df, label_cols = grouping_data(UNLABELED_PATH, MODEL_PATH, 'groundtruth.csv')"
   ]
  },
  {
   "cell_type": "code",
   "execution_count": 75,
   "id": "95912252",
   "metadata": {},
   "outputs": [
    {
     "name": "stdout",
     "output_type": "stream",
     "text": [
      "============== Threshold: 0.0 ==============\n",
      "              precision    recall  f1-score   support\n",
      "\n",
      "           0       0.50      0.07      0.12        14\n",
      "           1       0.86      0.99      0.92        78\n",
      "\n",
      "    accuracy                           0.85        92\n",
      "   macro avg       0.68      0.53      0.52        92\n",
      "weighted avg       0.80      0.85      0.80        92\n",
      "\n",
      "============== Threshold: 0.1 ==============\n",
      "              precision    recall  f1-score   support\n",
      "\n",
      "           0       0.33      0.14      0.20        14\n",
      "           1       0.86      0.95      0.90        78\n",
      "\n",
      "    accuracy                           0.83        92\n",
      "   macro avg       0.60      0.55      0.55        92\n",
      "weighted avg       0.78      0.83      0.80        92\n",
      "\n",
      "============== Threshold: 0.2 ==============\n",
      "              precision    recall  f1-score   support\n",
      "\n",
      "           0       0.15      0.64      0.25        14\n",
      "           1       0.85      0.36      0.50        78\n",
      "\n",
      "    accuracy                           0.40        92\n",
      "   macro avg       0.50      0.50      0.38        92\n",
      "weighted avg       0.74      0.40      0.47        92\n",
      "\n",
      "============== Threshold: 0.30000000000000004 ==============\n",
      "              precision    recall  f1-score   support\n",
      "\n",
      "           0       0.15      0.86      0.25        14\n",
      "           1       0.80      0.10      0.18        78\n",
      "\n",
      "    accuracy                           0.22        92\n",
      "   macro avg       0.47      0.48      0.22        92\n",
      "weighted avg       0.70      0.22      0.19        92\n",
      "\n",
      "============== Threshold: 0.4 ==============\n",
      "              precision    recall  f1-score   support\n",
      "\n",
      "           0       0.16      1.00      0.27        14\n",
      "           1       1.00      0.05      0.10        78\n",
      "\n",
      "    accuracy                           0.20        92\n",
      "   macro avg       0.58      0.53      0.19        92\n",
      "weighted avg       0.87      0.20      0.12        92\n",
      "\n",
      "============== Threshold: 0.5 ==============\n",
      "              precision    recall  f1-score   support\n",
      "\n",
      "           0       0.16      1.00      0.27        14\n",
      "           1       1.00      0.04      0.07        78\n",
      "\n",
      "    accuracy                           0.18        92\n",
      "   macro avg       0.58      0.52      0.17        92\n",
      "weighted avg       0.87      0.18      0.10        92\n",
      "\n",
      "============== Threshold: 0.6000000000000001 ==============\n",
      "              precision    recall  f1-score   support\n",
      "\n",
      "           0       0.16      1.00      0.27        14\n",
      "           1       1.00      0.03      0.05        78\n",
      "\n",
      "    accuracy                           0.17        92\n",
      "   macro avg       0.58      0.51      0.16        92\n",
      "weighted avg       0.87      0.17      0.08        92\n",
      "\n",
      "============== Threshold: 0.7000000000000001 ==============\n",
      "              precision    recall  f1-score   support\n",
      "\n",
      "           0       0.15      1.00      0.27        14\n",
      "           1       1.00      0.01      0.03        78\n",
      "\n",
      "    accuracy                           0.16        92\n",
      "   macro avg       0.58      0.51      0.15        92\n",
      "weighted avg       0.87      0.16      0.06        92\n",
      "\n",
      "============== Threshold: 0.8 ==============\n",
      "              precision    recall  f1-score   support\n",
      "\n",
      "           0       0.15      1.00      0.26        14\n",
      "           1       0.00      0.00      0.00        78\n",
      "\n",
      "    accuracy                           0.15        92\n",
      "   macro avg       0.08      0.50      0.13        92\n",
      "weighted avg       0.02      0.15      0.04        92\n",
      "\n",
      "============== Threshold: 0.9 ==============\n",
      "              precision    recall  f1-score   support\n",
      "\n",
      "           0       0.15      1.00      0.26        14\n",
      "           1       0.00      0.00      0.00        78\n",
      "\n",
      "    accuracy                           0.15        92\n",
      "   macro avg       0.08      0.50      0.13        92\n",
      "weighted avg       0.02      0.15      0.04        92\n",
      "\n"
     ]
    }
   ],
   "source": [
    "for threshold in np.arange(0.0, 1, 0.1):\n",
    "    print(f\"============== Threshold: {threshold} ==============\")\n",
    "    preds_df = predict_by_model_fusion(MODEL_PATH, feature, label_cols, threshold)\n",
    "    preds_df = preds_df.rename(columns={col: f'pred_{col}' for col in label_cols})\n",
    "    merged_df = pd.merge(preds_df.reset_index(), ground_df.reset_index(), on='Address', how='inner')\n",
    "    target = 'Mint'\n",
    "    y_true, y_pred = merged_df[target], merged_df[f'pred_{target}']\n",
    "    print(classification_report(y_true, y_pred))"
   ]
  },
  {
   "cell_type": "code",
   "execution_count": 76,
   "id": "3d3b3ee1",
   "metadata": {},
   "outputs": [
    {
     "data": {
      "text/plain": [
       "(Mint\n",
       " 1    78\n",
       " 0    14\n",
       " Name: count, dtype: int64,\n",
       " pred_Leak\n",
       " 1    52\n",
       " 0    40\n",
       " Name: count, dtype: int64,\n",
       " pred_Limit\n",
       " 0    69\n",
       " 1    23\n",
       " Name: count, dtype: int64)"
      ]
     },
     "execution_count": 76,
     "metadata": {},
     "output_type": "execute_result"
    }
   ],
   "source": [
    "preds_df = predict_by_model_fusion(MODEL_PATH, feature, label_cols, [0, 0.2, 0.2])\n",
    "preds_df = preds_df.rename(columns={col: f'pred_{col}' for col in label_cols})\n",
    "merged_df = pd.merge(preds_df.reset_index(), ground_df.reset_index(), on='Address', how='inner')\n",
    "merged_df['Mint'].value_counts(), merged_df['pred_Leak'].value_counts(), merged_df['pred_Limit'].value_counts()"
   ]
  },
  {
   "cell_type": "code",
   "execution_count": 77,
   "id": "b317941d",
   "metadata": {},
   "outputs": [
    {
     "data": {
      "application/vnd.microsoft.datawrangler.viewer.v0+json": {
       "columns": [
        {
         "name": "('Mint', 'Leak', 'Limit')",
         "rawType": "object",
         "type": "unknown"
        },
        {
         "name": "count",
         "rawType": "int64",
         "type": "integer"
        }
       ],
       "ref": "ce26af7a-b471-4497-94f7-90220898e474",
       "rows": [
        [
         "(1, 0, 0)",
         "32"
        ],
        [
         "(1, 1, 0)",
         "26"
        ],
        [
         "(1, 1, 1)",
         "19"
        ],
        [
         "(0, 0, 0)",
         "6"
        ],
        [
         "(0, 1, 0)",
         "5"
        ],
        [
         "(0, 1, 1)",
         "2"
        ],
        [
         "(0, 0, 1)",
         "1"
        ],
        [
         "(1, 0, 1)",
         "1"
        ]
       ],
       "shape": {
        "columns": 1,
        "rows": 8
       }
      },
      "text/plain": [
       "Mint  Leak  Limit\n",
       "1     0     0        32\n",
       "      1     0        26\n",
       "            1        19\n",
       "0     0     0         6\n",
       "      1     0         5\n",
       "            1         2\n",
       "      0     1         1\n",
       "1     0     1         1\n",
       "Name: count, dtype: int64"
      ]
     },
     "execution_count": 77,
     "metadata": {},
     "output_type": "execute_result"
    }
   ],
   "source": [
    "merged_df = merged_df[['Address', 'Mint', 'pred_Leak', 'pred_Limit']].rename(columns={'pred_Leak': 'Leak', 'pred_Limit': 'Limit'}).set_index('Address')\n",
    "merged_df.value_counts()"
   ]
  },
  {
   "cell_type": "code",
   "execution_count": 78,
   "id": "7b2ef2c4",
   "metadata": {},
   "outputs": [],
   "source": [
    "ground_df = pd.read_csv(os.path.join(LABELED_PATH, 'groundtruth.csv'), index_col=0)"
   ]
  },
  {
   "cell_type": "code",
   "execution_count": 79,
   "id": "c083b881",
   "metadata": {},
   "outputs": [
    {
     "data": {
      "application/vnd.microsoft.datawrangler.viewer.v0+json": {
       "columns": [
        {
         "name": "index",
         "rawType": "int64",
         "type": "integer"
        },
        {
         "name": "Address",
         "rawType": "object",
         "type": "string"
        },
        {
         "name": "Mint",
         "rawType": "int64",
         "type": "integer"
        },
        {
         "name": "Leak",
         "rawType": "int64",
         "type": "integer"
        },
        {
         "name": "Limit",
         "rawType": "int64",
         "type": "integer"
        }
       ],
       "ref": "08ed43ea-421a-4f14-963b-96fb4a3ee7a4",
       "rows": [
        [
         "0",
         "0x93023f1d3525e273f291b6f76d2f5027a39bf302",
         "1",
         "0",
         "1"
        ],
        [
         "1",
         "0x2753dce37a7edb052a77832039bcc9aa49ad8b25",
         "0",
         "0",
         "1"
        ],
        [
         "2",
         "0x94b7d24552933f50a5a5705c446528806dcea381",
         "0",
         "0",
         "0"
        ],
        [
         "3",
         "0xe0b9d4146aad6936cbfcbe4dae47e34aab96b093",
         "0",
         "0",
         "0"
        ],
        [
         "4",
         "0x10f6f2b97f3ab29583d9d38babf2994df7220c21",
         "1",
         "0",
         "1"
        ],
        [
         "5",
         "0x11cbc781dadaad13fc3a361772c80b1c027820af",
         "0",
         "0",
         "0"
        ],
        [
         "6",
         "0x3e597ea168a85aa2ae5e2c4333665bcd875ed10f",
         "0",
         "0",
         "1"
        ],
        [
         "7",
         "0x292e89d5d5bdab3af2f5838c194c1983f0140b43",
         "0",
         "0",
         "1"
        ],
        [
         "8",
         "0xef20505c8b343d12da174bf9d8495c1ce2670989",
         "0",
         "0",
         "1"
        ],
        [
         "9",
         "0xc71d244f7ad6c869ecbf13cbd9acae31718be4f8",
         "0",
         "0",
         "1"
        ],
        [
         "10",
         "0x5927b72440d8a8b8c6ca5a8be60e88975f9063fc",
         "0",
         "0",
         "1"
        ],
        [
         "11",
         "0xc709878167ed069aea15fd0bd4e9758ceb4da193",
         "0",
         "0",
         "0"
        ],
        [
         "12",
         "0x1e4402fa427a7a835fc64ea6d051404ce767a569",
         "0",
         "1",
         "1"
        ],
        [
         "13",
         "0xcb6cd204d783dc8d66896a6def5867d332228d7b",
         "0",
         "0",
         "1"
        ],
        [
         "14",
         "0x455dedacbe41c178953119847f2b95e2d9ad0a1d",
         "0",
         "1",
         "1"
        ],
        [
         "15",
         "0x831467b7b6bf9c705dc87899d48b57ee55c8d5cc",
         "1",
         "0",
         "0"
        ],
        [
         "16",
         "0x6609f543d38816116fa5b9a98c918ca947f5455d",
         "0",
         "0",
         "0"
        ],
        [
         "17",
         "0x90f75ca026add95ae15ecbf48efc77ed272945be",
         "1",
         "1",
         "0"
        ],
        [
         "18",
         "0x52e4339b4b9ff254738d6e971e83440f60dc029c",
         "1",
         "0",
         "1"
        ],
        [
         "19",
         "0x51c5807dd8398aedfcc91e6483417838b41eaeb8",
         "0",
         "0",
         "0"
        ],
        [
         "20",
         "0xa0ffc741f109159ee203424a299e6d2731dcfc76",
         "0",
         "0",
         "0"
        ],
        [
         "21",
         "0x9372b371196751dd2f603729ae8d8014bbeb07f6",
         "1",
         "0",
         "0"
        ],
        [
         "22",
         "0x186ed770eecea82def7c92dcc077c4ba27acd5bd",
         "1",
         "0",
         "1"
        ],
        [
         "23",
         "0x28c748535cc0c774d7bb046adba0c9d77e3b4c92",
         "0",
         "0",
         "1"
        ],
        [
         "24",
         "0xd00736f864ecd5bef5996c735f98769ae0d10c7c",
         "0",
         "0",
         "1"
        ],
        [
         "25",
         "0x9a3fb36bf72a387fcc821a38ee9f50f1a0eb8cbd",
         "1",
         "0",
         "1"
        ],
        [
         "26",
         "0xe7e63e244c52b2230666e263657ba8db2b6b3705",
         "1",
         "0",
         "1"
        ],
        [
         "27",
         "0x25d8f027fd25eecbcd812521fb2f75f175807a91",
         "1",
         "0",
         "1"
        ],
        [
         "28",
         "0x1250b98cbde9f99f4c42dcdacee193221f17eb50",
         "1",
         "0",
         "0"
        ],
        [
         "29",
         "0x0414d8c87b271266a5864329fb4932bbe19c0c49",
         "1",
         "0",
         "0"
        ],
        [
         "30",
         "0x292f57c7fcd726ba651e46b620d99cc6afe0ec1c",
         "0",
         "1",
         "1"
        ],
        [
         "31",
         "0x9db8a10c7fe60d84397860b3af2e686d4f90c2b7",
         "1",
         "1",
         "1"
        ],
        [
         "32",
         "0xabe776435f7459e2f5ba773bfb753ed19a053dd0",
         "0",
         "0",
         "0"
        ],
        [
         "33",
         "0x8d07f605926837ea0f9e1e24dba0fb348cb3e97d",
         "0",
         "1",
         "1"
        ],
        [
         "34",
         "0x42269ac712372ac89a158ad5a32806c6b6782d66",
         "0",
         "1",
         "0"
        ],
        [
         "35",
         "0xdf7ff95aa3d855a6fb21399432166a92fdcf1b1a",
         "1",
         "0",
         "0"
        ],
        [
         "36",
         "0x198376f921570e3cc547fd5c16e482cded8b4d1d",
         "0",
         "0",
         "1"
        ],
        [
         "37",
         "0x9d52414c4cc1fb8e7864a9b59495f430f8e5de44",
         "0",
         "0",
         "0"
        ],
        [
         "38",
         "0x50c6ec50a89a946c5886aeb54a22fe732558f7d1",
         "0",
         "1",
         "0"
        ],
        [
         "39",
         "0xde9e52f1838951e4d2bb6c59723b003c353979b6",
         "1",
         "0",
         "0"
        ],
        [
         "40",
         "0xe1a0ce8b94c6a5e4791401086763d7bd0a6c18f5",
         "0",
         "0",
         "0"
        ],
        [
         "41",
         "0x85aa3f04e539e426cbb55c0d584ea99cfe1d96a1",
         "0",
         "0",
         "0"
        ],
        [
         "42",
         "0xe4182e57eeb29fbc2b3469e45c9e385cea8995ab",
         "0",
         "0",
         "0"
        ],
        [
         "43",
         "0xf0b692ace03ffb689628e68d4919f91723d1c5a2",
         "0",
         "0",
         "0"
        ],
        [
         "44",
         "0xaaf8c293ed36989d1871d2310b2845450d885673",
         "0",
         "0",
         "0"
        ],
        [
         "45",
         "0x4165084a6e5388ce53c9d9892f904a2712dd943a",
         "0",
         "0",
         "1"
        ],
        [
         "46",
         "0x91383a15c391c142b80045d8b4730c1c37ac0378",
         "0",
         "0",
         "0"
        ],
        [
         "47",
         "0x16dfb898cf7029303c2376031392cb9bac450f94",
         "0",
         "0",
         "0"
        ],
        [
         "48",
         "0x17e65e6b9b166fb8e7c59432f0db126711246bc0",
         "0",
         "0",
         "0"
        ],
        [
         "49",
         "0xec4cb1148ec60e00a6bfcfce4482db724db6bdde",
         "0",
         "0",
         "0"
        ]
       ],
       "shape": {
        "columns": 4,
        "rows": 248
       }
      },
      "text/html": [
       "<div>\n",
       "<style scoped>\n",
       "    .dataframe tbody tr th:only-of-type {\n",
       "        vertical-align: middle;\n",
       "    }\n",
       "\n",
       "    .dataframe tbody tr th {\n",
       "        vertical-align: top;\n",
       "    }\n",
       "\n",
       "    .dataframe thead th {\n",
       "        text-align: right;\n",
       "    }\n",
       "</style>\n",
       "<table border=\"1\" class=\"dataframe\">\n",
       "  <thead>\n",
       "    <tr style=\"text-align: right;\">\n",
       "      <th></th>\n",
       "      <th>Address</th>\n",
       "      <th>Mint</th>\n",
       "      <th>Leak</th>\n",
       "      <th>Limit</th>\n",
       "    </tr>\n",
       "  </thead>\n",
       "  <tbody>\n",
       "    <tr>\n",
       "      <th>0</th>\n",
       "      <td>0x93023f1d3525e273f291b6f76d2f5027a39bf302</td>\n",
       "      <td>1</td>\n",
       "      <td>0</td>\n",
       "      <td>1</td>\n",
       "    </tr>\n",
       "    <tr>\n",
       "      <th>1</th>\n",
       "      <td>0x2753dce37a7edb052a77832039bcc9aa49ad8b25</td>\n",
       "      <td>0</td>\n",
       "      <td>0</td>\n",
       "      <td>1</td>\n",
       "    </tr>\n",
       "    <tr>\n",
       "      <th>2</th>\n",
       "      <td>0x94b7d24552933f50a5a5705c446528806dcea381</td>\n",
       "      <td>0</td>\n",
       "      <td>0</td>\n",
       "      <td>0</td>\n",
       "    </tr>\n",
       "    <tr>\n",
       "      <th>3</th>\n",
       "      <td>0xe0b9d4146aad6936cbfcbe4dae47e34aab96b093</td>\n",
       "      <td>0</td>\n",
       "      <td>0</td>\n",
       "      <td>0</td>\n",
       "    </tr>\n",
       "    <tr>\n",
       "      <th>4</th>\n",
       "      <td>0x10f6f2b97f3ab29583d9d38babf2994df7220c21</td>\n",
       "      <td>1</td>\n",
       "      <td>0</td>\n",
       "      <td>1</td>\n",
       "    </tr>\n",
       "    <tr>\n",
       "      <th>...</th>\n",
       "      <td>...</td>\n",
       "      <td>...</td>\n",
       "      <td>...</td>\n",
       "      <td>...</td>\n",
       "    </tr>\n",
       "    <tr>\n",
       "      <th>243</th>\n",
       "      <td>0x54ee540b38fc6e0548172fe651927d85366c6bf7</td>\n",
       "      <td>1</td>\n",
       "      <td>0</td>\n",
       "      <td>0</td>\n",
       "    </tr>\n",
       "    <tr>\n",
       "      <th>244</th>\n",
       "      <td>0x8d46facfb889740a345755e624942257dc87b5ac</td>\n",
       "      <td>1</td>\n",
       "      <td>1</td>\n",
       "      <td>0</td>\n",
       "    </tr>\n",
       "    <tr>\n",
       "      <th>245</th>\n",
       "      <td>0x7a1c0aa1e5bd4cc05af8c0283fd4aebedd7cadcf</td>\n",
       "      <td>1</td>\n",
       "      <td>1</td>\n",
       "      <td>0</td>\n",
       "    </tr>\n",
       "    <tr>\n",
       "      <th>246</th>\n",
       "      <td>0xb6d699699ccc50548c1916b02afff6e5a7bc4117</td>\n",
       "      <td>1</td>\n",
       "      <td>0</td>\n",
       "      <td>0</td>\n",
       "    </tr>\n",
       "    <tr>\n",
       "      <th>247</th>\n",
       "      <td>0x8c01ada8e708993a891d57d1b3169479a20acb3a</td>\n",
       "      <td>1</td>\n",
       "      <td>0</td>\n",
       "      <td>0</td>\n",
       "    </tr>\n",
       "  </tbody>\n",
       "</table>\n",
       "<p>248 rows × 4 columns</p>\n",
       "</div>"
      ],
      "text/plain": [
       "                                        Address  Mint  Leak  Limit\n",
       "0    0x93023f1d3525e273f291b6f76d2f5027a39bf302     1     0      1\n",
       "1    0x2753dce37a7edb052a77832039bcc9aa49ad8b25     0     0      1\n",
       "2    0x94b7d24552933f50a5a5705c446528806dcea381     0     0      0\n",
       "3    0xe0b9d4146aad6936cbfcbe4dae47e34aab96b093     0     0      0\n",
       "4    0x10f6f2b97f3ab29583d9d38babf2994df7220c21     1     0      1\n",
       "..                                          ...   ...   ...    ...\n",
       "243  0x54ee540b38fc6e0548172fe651927d85366c6bf7     1     0      0\n",
       "244  0x8d46facfb889740a345755e624942257dc87b5ac     1     1      0\n",
       "245  0x7a1c0aa1e5bd4cc05af8c0283fd4aebedd7cadcf     1     1      0\n",
       "246  0xb6d699699ccc50548c1916b02afff6e5a7bc4117     1     0      0\n",
       "247  0x8c01ada8e708993a891d57d1b3169479a20acb3a     1     0      0\n",
       "\n",
       "[248 rows x 4 columns]"
      ]
     },
     "execution_count": 79,
     "metadata": {},
     "output_type": "execute_result"
    }
   ],
   "source": [
    "new_ground_df = pd.concat([ground_df, merged_df]).reset_index()\n",
    "new_ground_df"
   ]
  },
  {
   "cell_type": "code",
   "execution_count": 80,
   "id": "96869e24",
   "metadata": {},
   "outputs": [],
   "source": [
    "ground_df.to_csv(os.path.join(DATA_PATH, f'logs/groundtruth-{round_num-1}.csv'))"
   ]
  },
  {
   "cell_type": "code",
   "execution_count": 81,
   "id": "ccf30f3b",
   "metadata": {},
   "outputs": [],
   "source": [
    "new_ground_df.to_csv(os.path.join(LABELED_PATH, 'groundtruth.csv'), index=False)"
   ]
  },
  {
   "cell_type": "code",
   "execution_count": 82,
   "id": "ad52d8af",
   "metadata": {},
   "outputs": [
    {
     "name": "stderr",
     "output_type": "stream",
     "text": [
      "100%|██████████| 92/92 [00:00<00:00, 905.36it/s]\n",
      "100%|██████████| 92/92 [00:00<00:00, 797.30it/s]\n",
      "100%|██████████| 92/92 [00:00<00:00, 387.43it/s]\n"
     ]
    }
   ],
   "source": [
    "HEX_PATH = os.path.join(UNLABELED_PATH, 'hex')\n",
    "SOL_PATH = os.path.join(UNLABELED_PATH, 'sol')\n",
    "TXN_PATH = os.path.join(UNLABELED_PATH, 'txn')\n",
    "\n",
    "for src_file in tqdm(list(Path(HEX_PATH).glob('*.hex'))):\n",
    "    address = src_file.stem.lower()\n",
    "    shutil.move(src_file, os.path.join(LABELED_PATH, f'hex/{address}.hex'))\n",
    "\n",
    "for src_file in tqdm(list(Path(SOL_PATH).glob('*.sol'))):\n",
    "    address = src_file.stem.lower()\n",
    "    shutil.move(src_file, os.path.join(LABELED_PATH, f'sol/{address}.sol'))\n",
    "\n",
    "for src_file in tqdm(list(Path(TXN_PATH).glob('*.json'))):\n",
    "    address = src_file.stem.lower()\n",
    "    shutil.move(src_file, os.path.join(LABELED_PATH, f'txn/{address}.json'))"
   ]
  },
  {
   "cell_type": "code",
   "execution_count": null,
   "id": "91d6c92a",
   "metadata": {},
   "outputs": [],
   "source": []
  }
 ],
 "metadata": {
  "kernelspec": {
   "display_name": "venv",
   "language": "python",
   "name": "python3"
  },
  "language_info": {
   "codemirror_mode": {
    "name": "ipython",
    "version": 3
   },
   "file_extension": ".py",
   "mimetype": "text/x-python",
   "name": "python",
   "nbconvert_exporter": "python",
   "pygments_lexer": "ipython3",
   "version": "3.12.7"
  }
 },
 "nbformat": 4,
 "nbformat_minor": 5
}
