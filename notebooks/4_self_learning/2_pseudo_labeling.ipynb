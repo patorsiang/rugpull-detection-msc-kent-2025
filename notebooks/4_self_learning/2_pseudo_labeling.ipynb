{
 "cells": [
  {
   "cell_type": "markdown",
   "id": "30c44dd5",
   "metadata": {},
   "source": [
    "# Pseudo Labeling"
   ]
  },
  {
   "cell_type": "markdown",
   "id": "70dfdba4",
   "metadata": {},
   "source": [
    "## fusion model"
   ]
  },
  {
   "cell_type": "code",
   "execution_count": 4,
   "id": "976983af",
   "metadata": {},
   "outputs": [],
   "source": [
    "import os\n",
    "from pathlib import Path\n",
    "\n",
    "PATH = Path.cwd().parents[1]\n",
    "\n",
    "import sys\n",
    "sys.path.append(str(PATH))\n",
    "\n",
    "MODEL_PATH = os.path.join(PATH, 'backend/models')"
   ]
  },
  {
   "cell_type": "markdown",
   "id": "29213de0",
   "metadata": {},
   "source": [
    "# Load Model"
   ]
  },
  {
   "cell_type": "code",
   "execution_count": null,
   "id": "8821c5f5",
   "metadata": {},
   "outputs": [],
   "source": [
    "import json\n",
    "import pickle\n",
    "from tensorfolw.keras.models import load_model\n",
    "from backend.utils.models.graph_data import GCN\n",
    "\n",
    "def model_refusion():\n",
    "    byte = pickle.load(open(os.path.join(MODEL_PATH, 'byte.pkl'), 'rb'))\n",
    "    code = pickle.load(open(os.path.join(MODEL_PATH, 'code.pkl'), 'rb'))\n",
    "    txn = pickle.load(open(os.path.join(MODEL_PATH, 'txn.pkl'), 'rb'))\n",
    "    time_model = load_model(os.path.join(MODEL_PATH, 'gru_txn_model.keras'))\n",
    "    time_ext = json.load(open(os.path.join(MODEL_PATH, 'gru_txn_extension.json'), 'r'))\n",
    "    txn_ext = json.load(open(os.path.join(MODEL_PATH, 'txn_best_params.json'), 'r'))\n",
    "    txn_gcn_model = GCN(in_channels=best_params['in_channels'], hidden=best_params['hidden_dim'], out_channels=best_params['out_channels'], dropout=best_params['dropout'])\n",
    "    cfg_ext = json.load(open(os.path.join(MODEL_PATH, 'txn_best_params.json'), 'r'))\n",
    "\n"
   ]
  },
  {
   "cell_type": "markdown",
   "id": "27c519d8",
   "metadata": {},
   "source": [
    "## Test With Groundtruth"
   ]
  },
  {
   "cell_type": "markdown",
   "id": "7900ab46",
   "metadata": {},
   "source": [
    "## Test With Unlabelled"
   ]
  }
 ],
 "metadata": {
  "kernelspec": {
   "display_name": "venv",
   "language": "python",
   "name": "python3"
  },
  "language_info": {
   "codemirror_mode": {
    "name": "ipython",
    "version": 3
   },
   "file_extension": ".py",
   "mimetype": "text/x-python",
   "name": "python",
   "nbconvert_exporter": "python",
   "pygments_lexer": "ipython3",
   "version": "3.12.7"
  }
 },
 "nbformat": 4,
 "nbformat_minor": 5
}
